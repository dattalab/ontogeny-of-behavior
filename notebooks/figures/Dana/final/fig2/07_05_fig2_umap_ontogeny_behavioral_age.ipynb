{
 "cells": [
  {
   "cell_type": "code",
   "execution_count": 1,
   "id": "a77ea523",
   "metadata": {},
   "outputs": [],
   "source": [
    "import numpy as np\n",
    "import pandas as pd\n",
    "import seaborn as sns\n",
    "import matplotlib.pyplot as plt\n",
    "from aging.plotting import format_plots, PlotConfig, save_factory, figure, legend, format_pizza_plots\n",
    "from collections import Counter\n",
    "from matplotlib.lines import Line2D\n",
    "from tqdm import tqdm\n",
    "# Create segments for LineCollection\n",
    "from matplotlib.collections import LineCollection"
   ]
  },
  {
   "cell_type": "code",
   "execution_count": 2,
   "id": "d1dc615e",
   "metadata": {},
   "outputs": [],
   "source": [
    "import numpy as np\n",
    "import pandas as pd\n",
    "import matplotlib.pyplot as plt\n",
    "import seaborn as sns\n",
    "import colorcet as cc\n",
    "from operator import add\n",
    "from tqdm.auto import tqdm\n",
    "from functools import reduce\n",
    "from sklearn.cluster import KMeans\n",
    "from sklearn.decomposition import PCA\n",
    "from scipy.spatial.distance import squareform, pdist\n",
    "from sklearn.metrics import silhouette_score\n",
    "from aging.plotting import format_plots, figure, save_factory, PlotConfig, legend, add_identity\n",
    "from sklearn.cross_decomposition import PLSRegression"
   ]
  },
  {
   "cell_type": "code",
   "execution_count": 3,
   "id": "86571b2b",
   "metadata": {},
   "outputs": [],
   "source": [
    "def mm_norm_col(column):\n",
    "    return (column - column.min()) / (column.max() - column.min())"
   ]
  },
  {
   "cell_type": "code",
   "execution_count": 4,
   "id": "e4e30ebd",
   "metadata": {},
   "outputs": [],
   "source": [
    "from matplotlib.colors import LinearSegmentedColormap\n",
    "# Define the color map\n",
    "colors = ['#c7eae5','#008C8D']\n",
    "custom_cmap = LinearSegmentedColormap.from_list(\"custom_purples\", colors, N=256)\n",
    "cmm=custom_cmap\n",
    "\n",
    "# prepare colors for plot\n",
    "colors = ['#c7eae5','#008C8D']\n",
    "import matplotlib\n",
    "cmap = LinearSegmentedColormap.from_list(\"custom_purples\", colors, N=256)\n",
    "matplotlib.cm.register_cmap(\"dana\", cmap)\n",
    "phasec_m = sns.color_palette(\"dana\", n_colors=27)\n",
    "\n",
    "\n",
    "from matplotlib.colors import LinearSegmentedColormap\n",
    "# Define the color map\n",
    "colors = ['#fee6ce','#d94801']\n",
    "custom_cmap = LinearSegmentedColormap.from_list(\"custom_purples\", colors, N=256)\n",
    "cmf=custom_cmap\n",
    "\n",
    "# prepare colors for plot\n",
    "colors = ['#fee6ce','#d94801']\n",
    "import matplotlib\n",
    "cmap = LinearSegmentedColormap.from_list(\"custom_purples\", colors, N=256)\n",
    "matplotlib.cm.register_cmap(\"dana_f\", cmap)\n",
    "phasec_f = sns.color_palette(\"dana_f\", n_colors=27)"
   ]
  },
  {
   "cell_type": "markdown",
   "id": "715f5b32",
   "metadata": {},
   "source": [
    "## data female"
   ]
  },
  {
   "cell_type": "code",
   "execution_count": 5,
   "id": "e9d19727",
   "metadata": {},
   "outputs": [],
   "source": [
    "## arrange data\n",
    "## arrange data for females\n",
    "keep_syllables = np.loadtxt('/n/groups/datta/win/longtogeny/data/ontogeny/version_11/to_keep_syllables_raw.txt', dtype=int)\n",
    "\n",
    "\n",
    "female_df = pd.read_parquet('/n/groups/datta/win/longtogeny/data/ontogeny/version_11-1/beh_age_df/ontogeny_females_raw_usage_df_beh_age.parquet').astype(float)\n",
    "female_df = female_df[keep_syllables]\n",
    "f_df= female_df.groupby(['age','uuid']).mean()"
   ]
  },
  {
   "cell_type": "markdown",
   "id": "118b0c7f",
   "metadata": {},
   "source": [
    "## data males"
   ]
  },
  {
   "cell_type": "code",
   "execution_count": 6,
   "id": "c3bd4eb0",
   "metadata": {},
   "outputs": [],
   "source": [
    "## arrange data\n",
    "keep_syllables = np.loadtxt('/n/groups/datta/win/longtogeny/data/ontogeny/version_11/to_keep_syllables_raw.txt', dtype=int)\n",
    "\n",
    "male_df = pd.read_parquet('/n/groups/datta/win/longtogeny/data/ontogeny/version_11-1/beh_age_df/ontogeny_males_raw_usage_df_beh_age.parquet').astype(float)\n",
    "male_df = male_df[keep_syllables]\n",
    "m_df= male_df.groupby(['age','uuid']).mean()"
   ]
  },
  {
   "cell_type": "markdown",
   "id": "01a43d09",
   "metadata": {},
   "source": [
    "## normalized"
   ]
  },
  {
   "cell_type": "code",
   "execution_count": 7,
   "id": "d19ce310",
   "metadata": {},
   "outputs": [],
   "source": [
    "# avarage per age or session\n",
    "f_df= f_df.groupby(['age','uuid']).mean()\n",
    "avg_f_df = f_df.groupby(['age']).mean()\n",
    "\n",
    "# normalize the data\n",
    "f_norm = mm_norm_col(f_df)\n",
    "avg_f_norm = mm_norm_col(avg_f_df)\n",
    "\n",
    "# avarage per age or session\n",
    "m_df= m_df.groupby(['age','uuid']).mean()\n",
    "avg_m_df = m_df.groupby(['age']).mean()\n",
    "\n",
    "# normalize the data\n",
    "m_norm = mm_norm_col(m_df)\n",
    "avg_m_norm = mm_norm_col(avg_m_df)"
   ]
  },
  {
   "cell_type": "code",
   "execution_count": 8,
   "id": "400ae004",
   "metadata": {},
   "outputs": [],
   "source": [
    "# use only common ages\n",
    "f_ages = f_df.index.get_level_values('age').unique().to_numpy()\n",
    "m_ages = m_df.index.get_level_values('age').unique().to_numpy()\n",
    "cages = list(np.intersect1d(f_ages,m_ages))\n",
    "\n",
    "m_data = m_df.loc[m_df.index.get_level_values('age').isin(cages)]\n",
    "m_data['sex'] = 'm'\n",
    "m_data.set_index('sex',inplace=True,append=True)\n",
    "\n",
    "f_data = f_df.loc[f_df.index.get_level_values('age').isin(cages)]\n",
    "f_data['sex'] = 'f'\n",
    "f_data.set_index('sex',inplace=True,append=True)\n",
    "\n",
    "data=pd.concat([m_data,f_data])\n",
    "\n",
    "# use the same number of mice per age - only age 80"
   ]
  },
  {
   "cell_type": "markdown",
   "id": "37c7963a",
   "metadata": {},
   "source": [
    "## umaps"
   ]
  },
  {
   "cell_type": "code",
   "execution_count": 9,
   "id": "4710f8ac",
   "metadata": {},
   "outputs": [],
   "source": [
    "import pandas as pd\n",
    "import umap\n",
    "import matplotlib.pyplot as plt\n",
    "import seaborn as sns\n",
    "# Assuming df contains your data\n",
    "# Perform UMAP dimensionality reduction\n",
    "df = m_norm.copy()\n",
    "reducer = umap.UMAP(n_components=2, random_state=10, n_neighbors=50)\n",
    "umap_result = reducer.fit_transform(df)\n",
    "\n",
    "pcs = pd.DataFrame(umap_result, columns=['dim1','dim2'])\n",
    "pcs['age'] = df.index.get_level_values('age')\n",
    "age_pc = pcs.groupby('age').mean()\n",
    "\n",
    "# Plot\n",
    "fig, ax = plt.subplots()\n",
    "fig.set_size_inches(1.3, 1)\n",
    "\n",
    "# Scatter plot\n",
    "im = ax.scatter(\n",
    "    x=pcs['dim1'], y=pcs['dim2'], \n",
    "    c=pcs['age'], \n",
    "    cmap=cmm,\n",
    "    s=3,\n",
    ")\n",
    "\n",
    "# Add colorbar\n",
    "cb = fig.colorbar(im, ax=ax)\n",
    "tick_values = [10,20,30,40,50]\n",
    "# Customize the plot\n",
    "sns.despine()\n",
    "#plt.title('UMAP Plot of Data')\n",
    "plt.xlabel('dim1')\n",
    "plt.ylabel('dim2')\n",
    "plt.legend()\n",
    "plt.show()"
   ]
  },
  {
   "cell_type": "code",
   "execution_count": 10,
   "id": "365559bb",
   "metadata": {},
   "outputs": [],
   "source": [
    "# Plot\n",
    "fig, ax = plt.subplots()\n",
    "fig.set_size_inches(1, 1)\n",
    "im=sns.scatterplot(data=pcs, x='dim1',y='dim2',hue='age',palette=cmm, legend=False, s=8, edgecolor='none')\n",
    "\n",
    "#Create segments for LineCollection\n",
    "points = np.array([age_pc['dim1'], age_pc['dim2']]).T.reshape(-1, 1, 2)\n",
    "segments = np.concatenate([points[:-1], points[1:]], axis=1)\n",
    "\n",
    "# Create the line collection object\n",
    "lc = LineCollection(segments, cmap=cmm, norm=plt.Normalize(0, 1),linewidth=1)\n",
    "lc.set_array(np.linspace(0, 1, len(age_pc['dim1'])))\n",
    "# Create the outer black line collection\n",
    "black_lc = LineCollection(segments, colors='black', linewidth=2)\n",
    "# Add the black line collection to the plot\n",
    "ax.add_collection(black_lc)\n",
    "\n",
    "# Add line collection to the plot\n",
    "ax.add_collection(lc)\n",
    "ax.autoscale()\n",
    "\n",
    "sns.despine()"
   ]
  },
  {
   "cell_type": "code",
   "execution_count": 11,
   "id": "748df632",
   "metadata": {},
   "outputs": [],
   "source": [
    "c = PlotConfig()\n",
    "fig.savefig(c.dana_save_path / \"fig2\"/ 'UMAP_male_n50.pdf')"
   ]
  },
  {
   "cell_type": "code",
   "execution_count": 12,
   "id": "776d6f0f",
   "metadata": {},
   "outputs": [],
   "source": [
    "# Create segments for LineCollection\n",
    "fig, ax = plt.subplots()\n",
    "fig.set_size_inches(1, 1)\n",
    "im=sns.scatterplot(data=pcs, x='dim1',y='dim2',hue='age',palette=cmm, legend=False, s=8, edgecolor='none')\n",
    "\n",
    "# Convert to DataFrame for easier rolling operation\n",
    "df = pd.DataFrame(age_pc)\n",
    "\n",
    "# Apply rolling window average\n",
    "window_size = 3  # Adjust the window size as needed\n",
    "df_smooth = df.rolling(window=window_size, min_periods=1, center=True).mean()\n",
    "\n",
    "# Create segments for LineCollection from the smoothed data\n",
    "points = np.array([df_smooth['dim1'], df_smooth['dim2']]).T.reshape(-1, 1, 2)\n",
    "segments = np.concatenate([points[:-1], points[1:]], axis=1)\n",
    "\n",
    "# Create the line collection object\n",
    "lc = LineCollection(segments, cmap=cmm, norm=plt.Normalize(0, 1),linewidth=1)\n",
    "lc.set_array(np.linspace(0, 1, len(df_smooth['dim1'])))\n",
    "\n",
    "# Create the outer black line collection\n",
    "black_lc = LineCollection(segments, colors='black', linewidth=2)\n",
    "\n",
    "# Add the black line collection to the plot\n",
    "ax.add_collection(black_lc)\n",
    "\n",
    "# Add line collection to the plot\n",
    "ax.add_collection(lc)\n",
    "ax.autoscale()\n",
    "\n",
    "sns.despine()"
   ]
  },
  {
   "cell_type": "code",
   "execution_count": 13,
   "id": "c35a9c23",
   "metadata": {},
   "outputs": [],
   "source": [
    "c = PlotConfig()\n",
    "fig.savefig(c.dana_save_path / \"fig2\"/ 'UMAP_male_n50_smoothen.pdf')"
   ]
  },
  {
   "cell_type": "code",
   "execution_count": 14,
   "id": "e318b206",
   "metadata": {},
   "outputs": [],
   "source": [
    "## for females:"
   ]
  },
  {
   "cell_type": "code",
   "execution_count": 15,
   "id": "dbbf8b58",
   "metadata": {},
   "outputs": [],
   "source": [
    "import pandas as pd\n",
    "import umap\n",
    "import matplotlib.pyplot as plt\n",
    "import seaborn as sns\n",
    "# Assuming df contains your data\n",
    "# Perform UMAP dimensionality reduction\n",
    "df=f_norm.copy()\n",
    "reducer = umap.UMAP(random_state=10,n_neighbors=50, min_dist=0.1)\n",
    "umap_result = reducer.fit_transform(df)\n",
    "\n",
    "pcs = pd.DataFrame(umap_result, columns=['dim1','dim2'])\n",
    "pcs['age'] = df.index.get_level_values('age')\n",
    "age_pc = pcs.groupby('age').mean()\n",
    "\n",
    "# Plot\n",
    "fig, ax = plt.subplots()\n",
    "fig.set_size_inches(1.3, 1)\n",
    "\n",
    "# Scatter plot\n",
    "im = ax.scatter(\n",
    "    x=pcs['dim1'], y=pcs['dim2'], \n",
    "    c=pcs['age'], \n",
    "    cmap=cmf,\n",
    "    s=8,\n",
    "    linewidth =0.25,\n",
    ")\n",
    "\n",
    "# Add colorbar\n",
    "cb = fig.colorbar(im, ax=ax)\n",
    "tick_values = [10,20,30,40,50]\n",
    "\n",
    "# Customize the plot\n",
    "sns.despine()\n",
    "#plt.title('UMAP Plot of Data females')\n",
    "plt.xlabel('dim1')\n",
    "plt.ylabel('dim2')\n",
    "plt.legend()\n",
    "plt.show()"
   ]
  },
  {
   "cell_type": "code",
   "execution_count": 16,
   "id": "480849b8",
   "metadata": {},
   "outputs": [],
   "source": [
    "# Plot\n",
    "fig, ax = plt.subplots()\n",
    "fig.set_size_inches(1, 1)\n",
    "im=sns.scatterplot(data=pcs, x='dim1',y='dim2',hue='age',palette=cmf, legend=False, s=8, edgecolor='none')\n",
    "#Create segments for LineCollection\n",
    "points = np.array([age_pc['dim1'], age_pc['dim2']]).T.reshape(-1, 1, 2)\n",
    "segments = np.concatenate([points[:-1], points[1:]], axis=1)\n",
    "\n",
    "# Create the line collection object\n",
    "lc = LineCollection(segments, cmap=cmf, norm=plt.Normalize(0, 1),linewidth=1)\n",
    "lc.set_array(np.linspace(0, 1, len(age_pc['dim1'])))\n",
    "# Create the outer black line collection\n",
    "black_lc = LineCollection(segments, colors='black', linewidth=2)\n",
    "# Add the black line collection to the plot\n",
    "ax.add_collection(black_lc)\n",
    "\n",
    "# Add line collection to the plot\n",
    "ax.add_collection(lc)\n",
    "ax.autoscale()\n",
    "\n",
    "sns.despine()"
   ]
  },
  {
   "cell_type": "code",
   "execution_count": 17,
   "id": "595067ae",
   "metadata": {},
   "outputs": [],
   "source": [
    "c = PlotConfig()\n",
    "fig.savefig(c.dana_save_path / \"fig2\"/ 'UMAP_female_n50.pdf')"
   ]
  },
  {
   "cell_type": "code",
   "execution_count": 18,
   "id": "ab686dd2",
   "metadata": {},
   "outputs": [],
   "source": [
    "# Plot\n",
    "fig, ax = plt.subplots()\n",
    "fig.set_size_inches(1, 1)\n",
    "im=sns.scatterplot(data=pcs, x='dim1',y='dim2',hue='age',palette=cmf, legend=False, s=8, edgecolor='none')\n",
    "\n",
    "# Convert to DataFrame for easier rolling operation\n",
    "df = pd.DataFrame(age_pc)\n",
    "\n",
    "# Apply rolling window average\n",
    "window_size = 3  # Adjust the window size as needed\n",
    "df_smooth = df.rolling(window=window_size, min_periods=1, center=True).mean()\n",
    "\n",
    "# Create segments for LineCollection from the smoothed data\n",
    "points = np.array([df_smooth['dim1'], df_smooth['dim2']]).T.reshape(-1, 1, 2)\n",
    "segments = np.concatenate([points[:-1], points[1:]], axis=1)\n",
    "\n",
    "# Create the line collection object\n",
    "lc = LineCollection(segments, cmap=cmf, norm=plt.Normalize(0, 1),linewidth=1)\n",
    "lc.set_array(np.linspace(0, 1, len(df_smooth['dim1'])))\n",
    "\n",
    "# Create the outer black line collection\n",
    "black_lc = LineCollection(segments, colors='black', linewidth=2)\n",
    "\n",
    "\n",
    "\n",
    "# Add the black line collection to the plot\n",
    "ax.add_collection(black_lc)\n",
    "\n",
    "# Add line collection to the plot\n",
    "ax.add_collection(lc)\n",
    "ax.autoscale()\n",
    "\n",
    "sns.despine()"
   ]
  },
  {
   "cell_type": "code",
   "execution_count": 19,
   "id": "5ae3da18",
   "metadata": {},
   "outputs": [],
   "source": [
    "c = PlotConfig()\n",
    "fig.savefig(c.dana_save_path / \"fig2\"/ 'UMAP_female_n50_smoothen.pdf')"
   ]
  }
 ],
 "metadata": {
  "kernelspec": {
   "display_name": "Python 3 (ipykernel)",
   "language": "python",
   "name": "python3"
  },
  "language_info": {
   "codemirror_mode": {
    "name": "ipython",
    "version": 3
   },
   "file_extension": ".py",
   "mimetype": "text/x-python",
   "name": "python",
   "nbconvert_exporter": "python",
   "pygments_lexer": "ipython3",
   "version": "3.10.12"
  }
 },
 "nbformat": 4,
 "nbformat_minor": 5
}
