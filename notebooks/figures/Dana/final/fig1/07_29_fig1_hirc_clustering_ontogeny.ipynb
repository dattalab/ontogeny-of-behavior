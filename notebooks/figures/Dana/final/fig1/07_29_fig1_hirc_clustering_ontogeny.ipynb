{
 "cells": [
  {
   "cell_type": "code",
   "execution_count": 1,
   "id": "a77ea523",
   "metadata": {},
   "outputs": [],
   "source": [
    "import numpy as np\n",
    "import pandas as pd\n",
    "import seaborn as sns\n",
    "import matplotlib.pyplot as plt\n",
    "from aging.plotting import format_plots, PlotConfig, save_factory, figure, legend, format_pizza_plots\n",
    "from collections import Counter\n",
    "from matplotlib.lines import Line2D\n",
    "from scipy.stats import zscore"
   ]
  },
  {
   "cell_type": "code",
   "execution_count": 2,
   "id": "b776003f",
   "metadata": {},
   "outputs": [],
   "source": [
    "import seaborn as sns\n",
    "import matplotlib.pyplot as plt\n",
    "import numpy as np\n",
    "from scipy.cluster.hierarchy import dendrogram, linkage\n",
    "from scipy.spatial.distance import pdist\n",
    "from kneed import KneeLocator"
   ]
  },
  {
   "cell_type": "code",
   "execution_count": 3,
   "id": "86571b2b",
   "metadata": {},
   "outputs": [],
   "source": [
    "def mm_norm_col(column):\n",
    "    return (column - column.min()) / (column.max() - column.min())"
   ]
  },
  {
   "cell_type": "code",
   "execution_count": 4,
   "id": "25a26386",
   "metadata": {},
   "outputs": [],
   "source": [
    "from matplotlib.colors import LinearSegmentedColormap\n",
    "colors = ['#c7eae5','#008C8D']\n",
    "custom_cmap = LinearSegmentedColormap.from_list(\"custom_purples\", colors, N=256)\n",
    "cmm=custom_cmap\n",
    "\n",
    "colors = ['#c7eae5','#008C8D']\n",
    "custom_cmap = LinearSegmentedColormap.from_list(\"custom_purples\", colors, N=256)\n",
    "cmm=custom_cmap\n",
    "\n",
    "# Define the color map\n",
    "colors = ['#fee6ce','#d94801']\n",
    "custom_cmap = LinearSegmentedColormap.from_list(\"custom_purples\", colors, N=256)\n",
    "cmf=custom_cmap"
   ]
  },
  {
   "cell_type": "code",
   "execution_count": 5,
   "id": "3b206b07",
   "metadata": {},
   "outputs": [],
   "source": [
    "## arrange data\n",
    "keep_syllables = np.loadtxt('/n/groups/datta/win/longtogeny/data/ontogeny/version_11/to_keep_syllables_raw.txt', dtype=int)\n",
    "\n",
    "male_df = pd.read_parquet('/n/groups/datta/win/longtogeny/data/ontogeny/version_11-1/ontogeny_males_raw_usage_matrix_v00.parquet').astype(float)\n",
    "male_df = male_df[keep_syllables]\n",
    "#male_df=male_df.query('age<91')\n",
    "\n",
    "# avarage per age or session\n",
    "m_df = male_df.sort_index(level='age')\n",
    "avg_m_df = m_df.groupby(['age']).mean()\n",
    "\n",
    "# normalize the data\n",
    "m_norm = mm_norm_col(m_df)\n",
    "avg_m_norm = mm_norm_col(avg_m_df)\n",
    "\n",
    "# zscore\n",
    "z_m = m_df.apply(zscore, axis=0)\n",
    "avg_z_m = avg_m_df.apply(zscore, axis=0)\n",
    "\n",
    "# log\n",
    "m_log = np.log(m_df+1e-3)\n",
    "avg_m_log = np.log(avg_m_df+1e-3)\n",
    "\n",
    "# log and z_score\n",
    "z_log = m_log.apply(zscore, axis=0)\n",
    "avg_z_log = avg_m_log.apply(zscore, axis=0)\n",
    "\n",
    "\n",
    "# sort syllable order by the average\n",
    "syll_sort_m = (\n",
    "    avg_m_norm.rolling(5, center=True, win_type=\"exponential\")\n",
    "    .mean(tau=1.5)\n",
    "    .idxmax()\n",
    "    .sort_values()\n",
    "    .index\n",
    ")"
   ]
  },
  {
   "cell_type": "markdown",
   "id": "8eae159f",
   "metadata": {},
   "source": [
    "## clustering"
   ]
  },
  {
   "cell_type": "code",
   "execution_count": 6,
   "id": "389b46f1",
   "metadata": {},
   "outputs": [],
   "source": [
    "format_plots()"
   ]
  },
  {
   "cell_type": "code",
   "execution_count": 7,
   "id": "125c59a3",
   "metadata": {},
   "outputs": [
    {
     "data": {
      "image/png": "[encoded data removed]",
      "text/plain": [
       "<Figure size 260x260 with 1 Axes>"
      ]
     },
     "metadata": {},
     "output_type": "display_data"
    }
   ],
   "source": [
    "import seaborn as sns\n",
    "import matplotlib.pyplot as plt\n",
    "import numpy as np\n",
    "from scipy.cluster.hierarchy import dendrogram, linkage\n",
    "from scipy.spatial.distance import pdist\n",
    "from kneed import KneeLocator\n",
    "from sklearn.preprocessing import StandardScaler\n",
    "\n",
    "# Parameters for hierarchical clustering\n",
    "linkage_method = 'ward'\n",
    "distance_metric = 'euclidean'\n",
    "data = avg_m_df.copy()\n",
    "#data = m_df.copy()\n",
    "\n",
    "# Step 2: Initialize the StandardScaler\n",
    "scaler = StandardScaler()\n",
    "#data = data.apply(lambda x: scaler.fit_transform(x.values.reshape(-1, 1)).flatten())\n",
    "\n",
    "X = data.values\n",
    "\n",
    "# Perform hierarchical clustering\n",
    "Z = linkage(X, method=linkage_method, metric=distance_metric)\n",
    "\n",
    "\n",
    "# Extract distances at which clusters are merged\n",
    "distances = Z[:, 2]\n",
    "\n",
    "# Determine the elbow point in the distances\n",
    "kneedle = KneeLocator(range(1, len(distances) + 1), distances, S=8.0, curve=\"convex\", direction=\"increasing\")\n",
    "elbow_point = kneedle.elbow\n",
    "\n",
    "# Set the color threshold at the elbow point\n",
    "color_threshold = distances[elbow_point] #objectively finding the elbow point\n",
    "\n",
    "# Determine a manual threshold\n",
    "color_threshold = 0.5 * max(Z[:, 2])  # half the maximum distance between clusters\n",
    "\n",
    "# Set up the plot\n",
    "fig, ax = plt.subplots(figsize=(1.3, 1.3))\n",
    "\n",
    "# Plot dendrogram with objective color threshold\n",
    "dendro = dendrogram(Z, labels=data.index.get_level_values('age'), ax=ax, \n",
    "                    color_threshold=color_threshold,\n",
    "                    orientation='right', above_threshold_color='k',\n",
    "                   )\n",
    "\n",
    "ax.tick_params(axis='x', labelsize=3.5)\n",
    "ax.tick_params(axis='y', labelsize=3.5)\n",
    "\n",
    "# Adjust layout\n",
    "plt.tight_layout(rect=[0, 0, 1, 0.96])\n",
    "sns.despine()\n",
    "plt.show()"
   ]
  },
  {
   "cell_type": "code",
   "execution_count": 8,
   "id": "3f5afd8d",
   "metadata": {},
   "outputs": [],
   "source": [
    "c = PlotConfig()\n",
    "fig.savefig(c.dana_save_path / \"fig1\"/ '07_29_hir_clustering_male_raw.pdf')"
   ]
  },
  {
   "cell_type": "code",
   "execution_count": 9,
   "id": "5a699e67",
   "metadata": {},
   "outputs": [],
   "source": [
    "## female"
   ]
  },
  {
   "cell_type": "code",
   "execution_count": 10,
   "id": "b08378c7",
   "metadata": {},
   "outputs": [],
   "source": [
    "## arrange data for females\n",
    "keep_syllables = np.loadtxt('/n/groups/datta/win/longtogeny/data/ontogeny/version_11/to_keep_syllables_raw.txt', dtype=int)\n",
    "\n",
    "female_df = pd.read_parquet('/n/groups/datta/win/longtogeny/data/ontogeny/version_11-1/ontogeny_females_raw_usage_matrix_v00.parquet').astype(float)\n",
    "female_df = female_df[keep_syllables]\n",
    "\n",
    "\n",
    "# for female:\n",
    "f_df= female_df.groupby(['age','uuid']).mean()\n",
    "# Update age value to 52 for rows with uuid in the list\n",
    "uuids = ['f1d5dce5-f5cf-4b03-b07d-d9b8c1f034b0','6fa50ac7-6d49-4ef9-9059-3d90bdd8c5d4',\n",
    "         'e9e05da8-fc59-40f3-a9c8-f57c492c6141','327e7fa1-2237-43d2-b25f-c1801912df33',\n",
    "        '242bee8e-0ee7-45e7-8a13-678836a4cddb','552ec70f-0676-4471-8ab0-403e1fcf43e3','d6f254af-d55a-427a-96e0-c452a233cbe2']\n",
    "f_df.reset_index(inplace=True)\n",
    "\n",
    "age_mapping = {\n",
    "    93: 94,\n",
    "    95: 94,\n",
    "    97: 98,\n",
    "    98: 98,\n",
    "    102: 98,\n",
    "    103: 105,\n",
    "    105: 105,\n",
    "    107: 105\n",
    "}\n",
    "\n",
    "f_df['age'] = f_df['age'].map(age_mapping).fillna(f_df['age'])\n",
    "f_df.loc[f_df['uuid'].isin(uuids), 'age'] = 52\n",
    "# Set the index back\n",
    "f_df.set_index(['age', 'uuid'], inplace=True)\n",
    "f_df=f_df.query('age<127')"
   ]
  },
  {
   "cell_type": "code",
   "execution_count": 11,
   "id": "cb3323b9",
   "metadata": {},
   "outputs": [],
   "source": [
    "# avarage per age or session\n",
    "m_df = f_df.sort_index(level='age')\n",
    "avg_m_df = m_df.groupby(['age']).mean()\n",
    "\n",
    "# normalize the data\n",
    "m_norm = mm_norm_col(m_df)\n",
    "avg_m_norm = mm_norm_col(avg_m_df)\n",
    "\n",
    "# zscore\n",
    "z_m = m_df.apply(zscore, axis=0)\n",
    "avg_z_m = avg_m_df.apply(zscore, axis=0)\n",
    "\n",
    "# log\n",
    "m_log = np.log(m_df+1e-3)\n",
    "avg_m_log = np.log(avg_m_df+1e-3)\n",
    "\n",
    "# log and z_score\n",
    "z_log = m_log.apply(zscore, axis=0)\n",
    "avg_z_log = avg_m_log.apply(zscore, axis=0)\n",
    "\n",
    "\n",
    "# sort syllable order by the average\n",
    "syll_sort_m = (\n",
    "    avg_m_norm.rolling(5, center=True, win_type=\"exponential\")\n",
    "    .mean(tau=1.5)\n",
    "    .idxmax()\n",
    "    .sort_values()\n",
    "    .index\n",
    ")"
   ]
  },
  {
   "cell_type": "code",
   "execution_count": 12,
   "id": "cfe06f7b",
   "metadata": {},
   "outputs": [
    {
     "data": {
      "image/png": "[encoded data removed]",
      "text/plain": [
       "<Figure size 260x260 with 1 Axes>"
      ]
     },
     "metadata": {},
     "output_type": "display_data"
    }
   ],
   "source": [
    "import seaborn as sns\n",
    "import matplotlib.pyplot as plt\n",
    "import numpy as np\n",
    "from scipy.cluster.hierarchy import dendrogram, linkage\n",
    "from scipy.spatial.distance import pdist\n",
    "from kneed import KneeLocator\n",
    "\n",
    "# Parameters for hierarchical clustering\n",
    "linkage_method = 'ward'\n",
    "distance_metric = 'euclidean'\n",
    "data = avg_m_df.copy()\n",
    "X = data.values\n",
    "\n",
    "# Perform hierarchical clustering\n",
    "Z = linkage(X, method=linkage_method, metric=distance_metric)\n",
    "\n",
    "\n",
    "# Extract distances at which clusters are merged\n",
    "distances = Z[:, 2]\n",
    "\n",
    "# Determine the elbow point in the distances\n",
    "kneedle = KneeLocator(range(1, len(distances) + 1), distances, S=8.0, curve=\"convex\", direction=\"increasing\")\n",
    "elbow_point = kneedle.elbow\n",
    "\n",
    "# Set the color threshold at the elbow point\n",
    "color_threshold = distances[elbow_point] #objectively finding the elbow point\n",
    "\n",
    "# Determine a manual threshold\n",
    "color_threshold =0.5 * max(Z[:, 2])  # half the maximum distance between clusters\n",
    "\n",
    "# Set up the plot\n",
    "fig, ax = plt.subplots(figsize=(1.3, 1.3))\n",
    "\n",
    "# Plot dendrogram with objective color threshold\n",
    "dendro = dendrogram(Z, labels=data.index.get_level_values('age'), ax=ax, \n",
    "                    color_threshold=color_threshold,\n",
    "                    orientation='right', above_threshold_color='k',\n",
    "                   )\n",
    "\n",
    "ax.tick_params(axis='x', labelsize=3.5)\n",
    "ax.tick_params(axis='y', labelsize=3.5)\n",
    "\n",
    "# Adjust layout\n",
    "plt.tight_layout(rect=[0, 0, 1, 0.96])\n",
    "sns.despine()\n",
    "plt.show()"
   ]
  },
  {
   "cell_type": "code",
   "execution_count": 13,
   "id": "44dbc59b",
   "metadata": {},
   "outputs": [],
   "source": [
    "c = PlotConfig()\n",
    "fig.savefig(c.dana_save_path / \"fig1\"/ '07_29_hir_clustering_female_raw.pdf')"
   ]
  }
 ],
 "metadata": {
  "kernelspec": {
   "display_name": "Python 3 (ipykernel)",
   "language": "python",
   "name": "python3"
  },
  "language_info": {
   "codemirror_mode": {
    "name": "ipython",
    "version": 3
   },
   "file_extension": ".py",
   "mimetype": "text/x-python",
   "name": "python",
   "nbconvert_exporter": "python",
   "pygments_lexer": "ipython3",
   "version": "3.10.12"
  }
 },
 "nbformat": 4,
 "nbformat_minor": 5
}
