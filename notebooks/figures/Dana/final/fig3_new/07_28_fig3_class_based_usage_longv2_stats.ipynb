{
 "cells": [
  {
   "cell_type": "code",
   "execution_count": 1,
   "id": "a77ea523",
   "metadata": {},
   "outputs": [],
   "source": [
    "import numpy as np\n",
    "import pandas as pd\n",
    "import seaborn as sns\n",
    "import matplotlib.pyplot as plt\n",
    "from aging.plotting import format_plots, PlotConfig, save_factory, figure, legend, format_pizza_plots, COLORMAPS\n",
    "from collections import Counter\n",
    "from matplotlib.lines import Line2D\n",
    "from aging.organization.dataframes import load_male_long_df, load_female_long_df, DF_PATHS\n",
    "from tqdm import tqdm"
   ]
  },
  {
   "cell_type": "code",
   "execution_count": 2,
   "id": "0a49a035",
   "metadata": {},
   "outputs": [],
   "source": [
    "format_plots()"
   ]
  },
  {
   "cell_type": "code",
   "execution_count": 3,
   "id": "f5ffcc1e",
   "metadata": {},
   "outputs": [],
   "source": [
    "def minmax(df):\n",
    "    df = df - df.min()\n",
    "    return df / df.max()\n",
    "\n",
    "def mm_norm_col(column):\n",
    "    return (column - column.min()) / (column.max() - column.min())"
   ]
  },
  {
   "cell_type": "code",
   "execution_count": 4,
   "id": "39930526",
   "metadata": {},
   "outputs": [],
   "source": [
    "cmm = COLORMAPS.ont_male\n",
    "cmf = COLORMAPS.ont_female\n",
    "m_df = load_male_long_df(average_weeks=True, merge_size=False, merge_ages=True, df_path=DF_PATHS.usage_male).groupby(['age','mouse']).mean()\n",
    "f_df = load_female_long_df(average_weeks=True, merge_size=False, filter_female=True, merge_ages=True, df_path=DF_PATHS.usage_female).groupby(['age','mouse']).mean()"
   ]
  },
  {
   "cell_type": "code",
   "execution_count": 5,
   "id": "6b1261a9",
   "metadata": {},
   "outputs": [],
   "source": [
    "df = m_df.copy()"
   ]
  },
  {
   "cell_type": "code",
   "execution_count": 6,
   "id": "610224ee",
   "metadata": {},
   "outputs": [],
   "source": [
    "# upload syllable classes\n",
    "syllable_classes = pd.read_csv('./v11_syllable_labels_v3.csv')\n",
    "id_map = syllable_classes.set_index('Original ID')['Class']\n",
    "class_sort = [id_map[k] for k in df.columns]"
   ]
  },
  {
   "cell_type": "code",
   "execution_count": 7,
   "id": "b1763535",
   "metadata": {},
   "outputs": [],
   "source": [
    "class_avgs = {}\n",
    "class_norm_avgs = {}\n",
    "for _class, _df in df.T.groupby(class_sort):\n",
    "    avgs = _df.T.groupby(['age','mouse']).mean()\n",
    "    class_avgs[_class] = avgs.mean(1)\n",
    "\n",
    "    #norm_avgs = minmax(avgs)\n",
    "    norm_avgs = avgs\n",
    "    class_norm_avgs[_class] = norm_avgs.mean(1)"
   ]
  },
  {
   "cell_type": "code",
   "execution_count": 8,
   "id": "d96c0d47",
   "metadata": {},
   "outputs": [],
   "source": [
    "class_df = pd.DataFrame(class_norm_avgs)"
   ]
  },
  {
   "cell_type": "code",
   "execution_count": 9,
   "id": "0e3721dc",
   "metadata": {},
   "outputs": [],
   "source": [
    "col_order = ['Pause', 'Scrunch', 'Groom', 'Rear down','Rear up','Run','Investigate','Walk']\n",
    "class_df_new = class_df.reindex(columns=col_order)"
   ]
  },
  {
   "cell_type": "code",
   "execution_count": 10,
   "id": "f3cfe0ec",
   "metadata": {},
   "outputs": [],
   "source": [
    "#stats"
   ]
  },
  {
   "cell_type": "code",
   "execution_count": 11,
   "id": "323b7c86",
   "metadata": {},
   "outputs": [],
   "source": [
    "import statsmodels.api as sm\n",
    "import statsmodels.formula.api as smf\n",
    "from statsmodels.tools.tools import pinv_extended  \n",
    "from statsmodels.stats.anova import anova_lm\n",
    "import scipy.stats as stats\n",
    "import statsmodels.api as sm\n",
    "from statsmodels.formula.api import ols\n",
    "from tabulate import tabulate\n",
    "\n",
    "def fit_1mixed_linear_models(data, dependent_var, factor1, group):\n",
    "    \n",
    "    align_data = data.copy()\n",
    "    align_data['ranked_response'] = align_data[[dependent_var]]\n",
    "\n",
    "    #formula = f'ranked_response ~ {factor1}*{group}'\n",
    "    formula = f'ranked_response ~ {factor1}'\n",
    "        \n",
    "    # Fit the mixed linear model\n",
    "    model = smf.mixedlm(formula, align_data, groups=f'{group}')\n",
    "    result = model.fit()\n",
    "    return result\n",
    "\n",
    "\n",
    "def fit_2mixed_linear_models(data, dependent_var, factor1,factor2, group):\n",
    "    \n",
    "    align_data = data.copy()\n",
    "    align_data['ranked_response'] = align_data[[dependent_var]]\n",
    "\n",
    "    #formula = f'ranked_response ~ {factor1}*{group}'\n",
    "    formula = f'ranked_response ~ {factor1}*C({factor2})'\n",
    "        \n",
    "    # Fit the mixed linear model\n",
    "    model = smf.mixedlm(formula, align_data, groups=f'{group}')\n",
    "    result = model.fit()\n",
    "    return result\n",
    "\n",
    "def extract_summary_to_dataframe(results, num_tests):\n",
    "    summary_data = []\n",
    "\n",
    "    for var, result in results.items():\n",
    "        summary = result.summary()\n",
    "        coefs = result.params\n",
    "        pvalues = result.pvalues\n",
    "        conf_int = result.conf_int()\n",
    "        \n",
    "        for param in coefs.index:\n",
    "            pvalue_corrected = min(pvalues[param] * num_tests, 1.0)  # Apply Bonferroni correction\n",
    "            \n",
    "            summary_data.append({\n",
    "                'Dependent Variable': var,\n",
    "                'Parameter': param,\n",
    "                'Coefficient': coefs[param],\n",
    "                'P-value': pvalues[param],\n",
    "                'Corrected P-value': pvalue_corrected,\n",
    "                'CI Lower': conf_int[0][param],\n",
    "                'CI Upper': conf_int[1][param]\n",
    "            })\n",
    "    \n",
    "    summary_df = pd.DataFrame(summary_data)\n",
    "    return summary_df"
   ]
  },
  {
   "cell_type": "code",
   "execution_count": 12,
   "id": "887979be",
   "metadata": {},
   "outputs": [
    {
     "name": "stderr",
     "output_type": "stream",
     "text": [
      "/home/drl21/miniconda/envs/aging/lib/python3.10/site-packages/statsmodels/regression/mixed_linear_model.py:2238: ConvergenceWarning: The MLE may be on the boundary of the parameter space.\n",
      "  warnings.warn(msg, ConvergenceWarning)\n",
      "/home/drl21/miniconda/envs/aging/lib/python3.10/site-packages/statsmodels/regression/mixed_linear_model.py:2238: ConvergenceWarning: The MLE may be on the boundary of the parameter space.\n",
      "  warnings.warn(msg, ConvergenceWarning)\n",
      "/home/drl21/miniconda/envs/aging/lib/python3.10/site-packages/statsmodels/regression/mixed_linear_model.py:2238: ConvergenceWarning: The MLE may be on the boundary of the parameter space.\n",
      "  warnings.warn(msg, ConvergenceWarning)\n",
      "/home/drl21/miniconda/envs/aging/lib/python3.10/site-packages/statsmodels/regression/mixed_linear_model.py:2238: ConvergenceWarning: The MLE may be on the boundary of the parameter space.\n",
      "  warnings.warn(msg, ConvergenceWarning)\n",
      "/home/drl21/miniconda/envs/aging/lib/python3.10/site-packages/statsmodels/regression/mixed_linear_model.py:2238: ConvergenceWarning: The MLE may be on the boundary of the parameter space.\n",
      "  warnings.warn(msg, ConvergenceWarning)\n",
      "/home/drl21/miniconda/envs/aging/lib/python3.10/site-packages/statsmodels/regression/mixed_linear_model.py:2238: ConvergenceWarning: The MLE may be on the boundary of the parameter space.\n",
      "  warnings.warn(msg, ConvergenceWarning)\n",
      "/home/drl21/miniconda/envs/aging/lib/python3.10/site-packages/statsmodels/regression/mixed_linear_model.py:2238: ConvergenceWarning: The MLE may be on the boundary of the parameter space.\n",
      "  warnings.warn(msg, ConvergenceWarning)\n",
      "/home/drl21/miniconda/envs/aging/lib/python3.10/site-packages/statsmodels/regression/mixed_linear_model.py:2238: ConvergenceWarning: The MLE may be on the boundary of the parameter space.\n",
      "  warnings.warn(msg, ConvergenceWarning)\n"
     ]
    }
   ],
   "source": [
    "## females\n",
    "data=class_df_new.copy()\n",
    "a=0.05\n",
    "s=[]\n",
    "p=[]\n",
    "temp = data.copy()\n",
    "temp.reset_index(inplace=True)\n",
    "results={}\n",
    "if 'level_0' in temp.columns:\n",
    "    temp.drop(columns=['level_0'], inplace=True)\n",
    "\n",
    "syll = data.columns\n",
    "for i in syll:\n",
    "    result=fit_1mixed_linear_models(temp, i, 'age','mouse')\n",
    "    results[i] = result\n",
    "\n",
    "# Extract the summary to a DataFrame with Bonferroni correction\n",
    "num_tests = len(data.columns)  # Number of tests is the number of dependent variables (excluding 'age' and 'mouse')\n",
    "summary_df = extract_summary_to_dataframe(results, num_tests)\n",
    "\n",
    "# Print the DataFrame nicely\n",
    "summary_df.to_csv('/n/groups/datta/win/longtogeny/data/ontogeny/version_11-1/stats/mxlm_male_longv2_class_over_time.csv', index=False)"
   ]
  },
  {
   "cell_type": "code",
   "execution_count": 13,
   "id": "d03fbb2b",
   "metadata": {},
   "outputs": [],
   "source": [
    "df = f_df.copy()"
   ]
  },
  {
   "cell_type": "code",
   "execution_count": 14,
   "id": "2a100a12",
   "metadata": {},
   "outputs": [],
   "source": [
    "class_avgs = {}\n",
    "class_norm_avgs = {}\n",
    "for _class, _df in df.T.groupby(class_sort):\n",
    "    avgs = _df.T.groupby(['age','mouse']).mean()\n",
    "    class_avgs[_class] = avgs.mean(1)\n",
    "\n",
    "    #norm_avgs = minmax(avgs)\n",
    "    norm_avgs = avgs\n",
    "    class_norm_avgs[_class] = norm_avgs.mean(1)"
   ]
  },
  {
   "cell_type": "code",
   "execution_count": 15,
   "id": "f544a3e4",
   "metadata": {},
   "outputs": [],
   "source": [
    "class_df = pd.DataFrame(class_norm_avgs)"
   ]
  },
  {
   "cell_type": "code",
   "execution_count": 16,
   "id": "7b2e444d",
   "metadata": {},
   "outputs": [],
   "source": [
    "col_order = ['Pause', 'Scrunch', 'Groom', 'Rear down','Rear up','Run','Investigate','Walk']\n",
    "class_df_new = class_df.reindex(columns=col_order)"
   ]
  },
  {
   "cell_type": "code",
   "execution_count": 17,
   "id": "6a9ff645",
   "metadata": {},
   "outputs": [
    {
     "name": "stderr",
     "output_type": "stream",
     "text": [
      "/home/drl21/miniconda/envs/aging/lib/python3.10/site-packages/statsmodels/regression/mixed_linear_model.py:2238: ConvergenceWarning: The MLE may be on the boundary of the parameter space.\n",
      "  warnings.warn(msg, ConvergenceWarning)\n",
      "/home/drl21/miniconda/envs/aging/lib/python3.10/site-packages/statsmodels/regression/mixed_linear_model.py:2238: ConvergenceWarning: The MLE may be on the boundary of the parameter space.\n",
      "  warnings.warn(msg, ConvergenceWarning)\n",
      "/home/drl21/miniconda/envs/aging/lib/python3.10/site-packages/statsmodels/regression/mixed_linear_model.py:2238: ConvergenceWarning: The MLE may be on the boundary of the parameter space.\n",
      "  warnings.warn(msg, ConvergenceWarning)\n",
      "/home/drl21/miniconda/envs/aging/lib/python3.10/site-packages/statsmodels/regression/mixed_linear_model.py:2238: ConvergenceWarning: The MLE may be on the boundary of the parameter space.\n",
      "  warnings.warn(msg, ConvergenceWarning)\n",
      "/home/drl21/miniconda/envs/aging/lib/python3.10/site-packages/statsmodels/regression/mixed_linear_model.py:2238: ConvergenceWarning: The MLE may be on the boundary of the parameter space.\n",
      "  warnings.warn(msg, ConvergenceWarning)\n",
      "/home/drl21/miniconda/envs/aging/lib/python3.10/site-packages/statsmodels/regression/mixed_linear_model.py:2238: ConvergenceWarning: The MLE may be on the boundary of the parameter space.\n",
      "  warnings.warn(msg, ConvergenceWarning)\n",
      "/home/drl21/miniconda/envs/aging/lib/python3.10/site-packages/statsmodels/regression/mixed_linear_model.py:2238: ConvergenceWarning: The MLE may be on the boundary of the parameter space.\n",
      "  warnings.warn(msg, ConvergenceWarning)\n",
      "/home/drl21/miniconda/envs/aging/lib/python3.10/site-packages/statsmodels/regression/mixed_linear_model.py:2238: ConvergenceWarning: The MLE may be on the boundary of the parameter space.\n",
      "  warnings.warn(msg, ConvergenceWarning)\n"
     ]
    },
    {
     "name": "stdout",
     "output_type": "stream",
     "text": [
      "   Dependent Variable  Parameter  Coefficient        P-value  \\\n",
      "0               Pause  Intercept     0.017852  9.896324e-192   \n",
      "1               Pause        age     0.000063   9.410448e-10   \n",
      "2               Pause  mouse Var     0.296012   5.679258e-03   \n",
      "3             Scrunch  Intercept     0.066486  1.121766e-140   \n",
      "4             Scrunch        age     0.000085   4.837007e-02   \n",
      "5             Scrunch  mouse Var     0.336472   5.288810e-03   \n",
      "6               Groom  Intercept     0.011243   2.484885e-14   \n",
      "7               Groom        age     0.000363  1.633298e-107   \n",
      "8               Groom  mouse Var     0.826991   3.818963e-03   \n",
      "9           Rear down  Intercept     0.019646  1.662614e-238   \n",
      "10          Rear down        age     0.000094   2.910737e-42   \n",
      "11          Rear down  mouse Var     0.771033   3.890500e-03   \n",
      "12            Rear up  Intercept     0.007845   0.000000e+00   \n",
      "13            Rear up        age    -0.000032   1.064136e-26   \n",
      "14            Rear up  mouse Var     0.450198   4.624496e-03   \n",
      "15                Run  Intercept     0.024587  4.675774e-170   \n",
      "16                Run        age    -0.000051   1.256826e-08   \n",
      "17                Run  mouse Var     1.031831   3.630959e-03   \n",
      "18        Investigate  Intercept     0.013265   0.000000e+00   \n",
      "19        Investigate        age     0.000033   3.011012e-20   \n",
      "20        Investigate  mouse Var     0.739299   3.925559e-03   \n",
      "21               Walk  Intercept     0.016312   0.000000e+00   \n",
      "22               Walk        age     0.000015   1.226929e-02   \n",
      "23               Walk  mouse Var     0.294039   5.701433e-03   \n",
      "\n",
      "    Corrected P-value      CI Lower  CI Upper  \n",
      "0       7.917059e-191  1.666761e-02  0.019037  \n",
      "1        7.528358e-09  4.298401e-05  0.000083  \n",
      "2        4.543406e-02  8.624134e-02  0.505783  \n",
      "3       8.974132e-140  6.132507e-02  0.071646  \n",
      "4        3.869606e-01  6.063081e-07  0.000169  \n",
      "5        4.231048e-02  1.000083e-01  0.572937  \n",
      "6        1.987908e-13  8.351878e-03  0.014133  \n",
      "7       1.306639e-106  3.306716e-04  0.000395  \n",
      "8        3.055170e-02  2.666669e-01  1.387316  \n",
      "9       1.330091e-237  1.847835e-02  0.020814  \n",
      "10       2.328590e-41  8.008926e-05  0.000107  \n",
      "11       3.112400e-02  2.475672e-01  1.294499  \n",
      "12       0.000000e+00  7.438914e-03  0.008252  \n",
      "13       8.513085e-26 -3.805790e-05 -0.000026  \n",
      "14       3.699597e-02  1.386358e-01  0.761760  \n",
      "15      3.740619e-169  2.285366e-02  0.026321  \n",
      "16       1.005461e-07 -6.843627e-05 -0.000033  \n",
      "17       2.904768e-02  3.365211e-01  1.727141  \n",
      "18       0.000000e+00  1.265945e-02  0.013871  \n",
      "19       2.408810e-19  2.633975e-05  0.000041  \n",
      "20       3.140447e-02  2.368863e-01  1.241711  \n",
      "21       0.000000e+00  1.563546e-02  0.016988  \n",
      "22       9.815435e-02  3.220168e-06  0.000026  \n",
      "23       4.561146e-02  8.557057e-02  0.502507  \n"
     ]
    }
   ],
   "source": [
    "## females\n",
    "data=class_df_new.copy()\n",
    "a=0.05\n",
    "s=[]\n",
    "p=[]\n",
    "temp = data.copy()\n",
    "temp.reset_index(inplace=True)\n",
    "results={}\n",
    "if 'level_0' in temp.columns:\n",
    "    temp.drop(columns=['level_0'], inplace=True)\n",
    "\n",
    "syll = data.columns\n",
    "for i in syll:\n",
    "    result=fit_1mixed_linear_models(temp, i, 'age','mouse')\n",
    "    results[i] = result\n",
    "\n",
    "# Extract the summary to a DataFrame with Bonferroni correction\n",
    "num_tests = len(data.columns)  # Number of tests is the number of dependent variables (excluding 'age' and 'mouse')\n",
    "summary_df = extract_summary_to_dataframe(results, num_tests)\n",
    "\n",
    "# Print the DataFrame nicely\n",
    "print(summary_df)\n",
    "summary_df.to_csv('/n/groups/datta/win/longtogeny/data/ontogeny/version_11-1/stats/mxlm_female_longv2_class_over_time.csv', index=False)"
   ]
  }
 ],
 "metadata": {
  "kernelspec": {
   "display_name": "Python 3 (ipykernel)",
   "language": "python",
   "name": "python3"
  },
  "language_info": {
   "codemirror_mode": {
    "name": "ipython",
    "version": 3
   },
   "file_extension": ".py",
   "mimetype": "text/x-python",
   "name": "python",
   "nbconvert_exporter": "python",
   "pygments_lexer": "ipython3",
   "version": "3.10.12"
  }
 },
 "nbformat": 4,
 "nbformat_minor": 5
}
