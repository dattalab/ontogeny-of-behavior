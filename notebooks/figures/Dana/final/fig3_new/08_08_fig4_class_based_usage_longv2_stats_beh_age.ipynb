{
 "cells": [
  {
   "cell_type": "code",
   "execution_count": 1,
   "id": "a77ea523",
   "metadata": {},
   "outputs": [],
   "source": [
    "import numpy as np\n",
    "import pandas as pd\n",
    "import seaborn as sns\n",
    "import matplotlib.pyplot as plt\n",
    "from aging.plotting import format_plots, PlotConfig, save_factory, figure, legend, format_pizza_plots, COLORMAPS\n",
    "from collections import Counter\n",
    "from matplotlib.lines import Line2D\n",
    "from aging.organization.dataframes import load_male_long_df, load_female_long_df, DF_PATHS\n",
    "from tqdm import tqdm"
   ]
  },
  {
   "cell_type": "code",
   "execution_count": 2,
   "id": "0a49a035",
   "metadata": {},
   "outputs": [],
   "source": [
    "format_plots()"
   ]
  },
  {
   "cell_type": "code",
   "execution_count": 3,
   "id": "f5ffcc1e",
   "metadata": {},
   "outputs": [],
   "source": [
    "def minmax(df):\n",
    "    df = df - df.min()\n",
    "    return df / df.max()\n",
    "\n",
    "def mm_norm_col(column):\n",
    "    return (column - column.min()) / (column.max() - column.min())"
   ]
  },
  {
   "cell_type": "code",
   "execution_count": 4,
   "id": "39930526",
   "metadata": {},
   "outputs": [],
   "source": [
    "cmm = COLORMAPS.ont_male\n",
    "cmf = COLORMAPS.ont_female\n",
    "m_df = pd.read_parquet('/n/groups/datta/win/longtogeny/data/ontogeny/version_11-1/beh_age_df/2024-07-30-longtogeny_v2_males_raw_usage_df_beh_age.parquet').groupby(['age','mouse']).mean()\n",
    "f_df =  pd.read_parquet('/n/groups/datta/win/longtogeny/data/ontogeny/version_11-1/beh_age_df/2024-07-30-longtogeny_v2_females_raw_usage_df_beh_age.parquet').groupby(['age','mouse']).mean()\n",
    "f_df = f_df.query('mouse!=\"F4_03\"')\n",
    "m_df['sex'] = 'm'\n",
    "m_df.set_index('sex', inplace = True, append=True)\n",
    "f_df['sex'] = 'f'\n",
    "f_df.set_index('sex', inplace = True, append=True)"
   ]
  },
  {
   "cell_type": "code",
   "execution_count": 5,
   "id": "6b1261a9",
   "metadata": {},
   "outputs": [],
   "source": [
    "df = m_df.copy()"
   ]
  },
  {
   "cell_type": "code",
   "execution_count": 6,
   "id": "610224ee",
   "metadata": {},
   "outputs": [],
   "source": [
    "# upload syllable classes\n",
    "syllable_classes = pd.read_csv('./v11_syllable_labels_v3.csv')\n",
    "id_map = syllable_classes.set_index('Original ID')['Class']\n",
    "class_sort = [id_map[k] for k in df.columns]"
   ]
  },
  {
   "cell_type": "code",
   "execution_count": 7,
   "id": "b1763535",
   "metadata": {},
   "outputs": [],
   "source": [
    "class_avgs = {}\n",
    "class_norm_avgs = {}\n",
    "for _class, _df in df.T.groupby(class_sort):\n",
    "    avgs = _df.T.groupby(['age','mouse']).mean()\n",
    "    class_avgs[_class] = avgs.mean(1)\n",
    "\n",
    "    #norm_avgs = minmax(avgs)\n",
    "    norm_avgs = avgs\n",
    "    class_norm_avgs[_class] = norm_avgs.mean(1)"
   ]
  },
  {
   "cell_type": "code",
   "execution_count": 8,
   "id": "d96c0d47",
   "metadata": {},
   "outputs": [],
   "source": [
    "class_df = pd.DataFrame(class_norm_avgs)"
   ]
  },
  {
   "cell_type": "code",
   "execution_count": 9,
   "id": "0e3721dc",
   "metadata": {},
   "outputs": [],
   "source": [
    "col_order = ['Pause', 'Scrunch', 'Groom', 'Rear down','Rear up','Run','Investigate','Walk']\n",
    "class_df_new = class_df.reindex(columns=col_order)"
   ]
  },
  {
   "cell_type": "code",
   "execution_count": 10,
   "id": "f3cfe0ec",
   "metadata": {},
   "outputs": [],
   "source": [
    "#stats"
   ]
  },
  {
   "cell_type": "code",
   "execution_count": 11,
   "id": "323b7c86",
   "metadata": {},
   "outputs": [],
   "source": [
    "import statsmodels.api as sm\n",
    "import statsmodels.formula.api as smf\n",
    "from statsmodels.tools.tools import pinv_extended  \n",
    "from statsmodels.stats.anova import anova_lm\n",
    "import scipy.stats as stats\n",
    "import statsmodels.api as sm\n",
    "from statsmodels.formula.api import ols\n",
    "from tabulate import tabulate\n",
    "\n",
    "def fit_1mixed_linear_models(data, dependent_var, factor1, group):\n",
    "    \n",
    "    align_data = data.copy()\n",
    "    align_data['ranked_response'] = align_data[[dependent_var]]\n",
    "\n",
    "    #formula = f'ranked_response ~ {factor1}*{group}'\n",
    "    formula = f'ranked_response ~ {factor1}'\n",
    "        \n",
    "    # Fit the mixed linear model\n",
    "    model = smf.mixedlm(formula, align_data, groups=f'{group}')\n",
    "    result = model.fit()\n",
    "    return result\n",
    "\n",
    "\n",
    "def fit_2mixed_linear_models(data, dependent_var, factor1,factor2, group):\n",
    "    \n",
    "    align_data = data.copy()\n",
    "    align_data['ranked_response'] = align_data[[dependent_var]]\n",
    "\n",
    "    #formula = f'ranked_response ~ {factor1}*{group}'\n",
    "    formula = f'ranked_response ~ {factor1}*C({factor2})'\n",
    "        \n",
    "    # Fit the mixed linear model\n",
    "    model = smf.mixedlm(formula, align_data, groups=f'{group}')\n",
    "    result = model.fit()\n",
    "    return result\n",
    "\n",
    "def extract_summary_to_dataframe(results, num_tests):\n",
    "    summary_data = []\n",
    "\n",
    "    for var, result in results.items():\n",
    "        summary = result.summary()\n",
    "        coefs = result.params\n",
    "        pvalues = result.pvalues\n",
    "        conf_int = result.conf_int()\n",
    "        \n",
    "        for param in coefs.index:\n",
    "            pvalue_corrected = min(pvalues[param] * num_tests, 1.0)  # Apply Bonferroni correction\n",
    "            \n",
    "            summary_data.append({\n",
    "                'Dependent Variable': var,\n",
    "                'Parameter': param,\n",
    "                'Coefficient': coefs[param],\n",
    "                'P-value': pvalues[param],\n",
    "                'Corrected P-value': pvalue_corrected,\n",
    "                'CI Lower': conf_int[0][param],\n",
    "                'CI Upper': conf_int[1][param]\n",
    "            })\n",
    "    \n",
    "    summary_df = pd.DataFrame(summary_data)\n",
    "    return summary_df"
   ]
  },
  {
   "cell_type": "code",
   "execution_count": 12,
   "id": "887979be",
   "metadata": {},
   "outputs": [
    {
     "name": "stderr",
     "output_type": "stream",
     "text": [
      "/home/drl21/miniconda/envs/aging/lib/python3.10/site-packages/statsmodels/regression/mixed_linear_model.py:2238: ConvergenceWarning: The MLE may be on the boundary of the parameter space.\n",
      "  warnings.warn(msg, ConvergenceWarning)\n",
      "/home/drl21/miniconda/envs/aging/lib/python3.10/site-packages/statsmodels/regression/mixed_linear_model.py:2238: ConvergenceWarning: The MLE may be on the boundary of the parameter space.\n",
      "  warnings.warn(msg, ConvergenceWarning)\n",
      "/home/drl21/miniconda/envs/aging/lib/python3.10/site-packages/statsmodels/regression/mixed_linear_model.py:2238: ConvergenceWarning: The MLE may be on the boundary of the parameter space.\n",
      "  warnings.warn(msg, ConvergenceWarning)\n",
      "/home/drl21/miniconda/envs/aging/lib/python3.10/site-packages/statsmodels/regression/mixed_linear_model.py:2238: ConvergenceWarning: The MLE may be on the boundary of the parameter space.\n",
      "  warnings.warn(msg, ConvergenceWarning)\n",
      "/home/drl21/miniconda/envs/aging/lib/python3.10/site-packages/statsmodels/regression/mixed_linear_model.py:2238: ConvergenceWarning: The MLE may be on the boundary of the parameter space.\n",
      "  warnings.warn(msg, ConvergenceWarning)\n",
      "/home/drl21/miniconda/envs/aging/lib/python3.10/site-packages/statsmodels/regression/mixed_linear_model.py:2238: ConvergenceWarning: The MLE may be on the boundary of the parameter space.\n",
      "  warnings.warn(msg, ConvergenceWarning)\n",
      "/home/drl21/miniconda/envs/aging/lib/python3.10/site-packages/statsmodels/regression/mixed_linear_model.py:2238: ConvergenceWarning: The MLE may be on the boundary of the parameter space.\n",
      "  warnings.warn(msg, ConvergenceWarning)\n",
      "/home/drl21/miniconda/envs/aging/lib/python3.10/site-packages/statsmodels/regression/mixed_linear_model.py:2238: ConvergenceWarning: The MLE may be on the boundary of the parameter space.\n",
      "  warnings.warn(msg, ConvergenceWarning)\n"
     ]
    }
   ],
   "source": [
    "## females\n",
    "data=class_df_new.copy()\n",
    "a=0.05\n",
    "s=[]\n",
    "p=[]\n",
    "temp = data.copy()\n",
    "temp.reset_index(inplace=True)\n",
    "results={}\n",
    "if 'level_0' in temp.columns:\n",
    "    temp.drop(columns=['level_0'], inplace=True)\n",
    "\n",
    "syll = data.columns\n",
    "for i in syll:\n",
    "    result=fit_1mixed_linear_models(temp, i, 'age','mouse')\n",
    "    results[i] = result\n",
    "\n",
    "# Extract the summary to a DataFrame with Bonferroni correction\n",
    "num_tests = len(data.columns)  # Number of tests is the number of dependent variables (excluding 'age' and 'mouse')\n",
    "summary_df = extract_summary_to_dataframe(results, num_tests)\n",
    "\n",
    "# Print the DataFrame nicely\n",
    "summary_df.to_csv('/n/groups/datta/win/longtogeny/data/ontogeny/version_11-1/stats/mxlm_male_longv2_class_over_time_beh_age.csv', index=False)"
   ]
  },
  {
   "cell_type": "code",
   "execution_count": 13,
   "id": "d03fbb2b",
   "metadata": {},
   "outputs": [],
   "source": [
    "df = f_df.copy()"
   ]
  },
  {
   "cell_type": "code",
   "execution_count": 14,
   "id": "2a100a12",
   "metadata": {},
   "outputs": [],
   "source": [
    "class_avgs = {}\n",
    "class_norm_avgs = {}\n",
    "for _class, _df in df.T.groupby(class_sort):\n",
    "    avgs = _df.T.groupby(['age','mouse']).mean()\n",
    "    class_avgs[_class] = avgs.mean(1)\n",
    "\n",
    "    #norm_avgs = minmax(avgs)\n",
    "    norm_avgs = avgs\n",
    "    class_norm_avgs[_class] = norm_avgs.mean(1)"
   ]
  },
  {
   "cell_type": "code",
   "execution_count": 15,
   "id": "f544a3e4",
   "metadata": {},
   "outputs": [],
   "source": [
    "class_df = pd.DataFrame(class_norm_avgs)"
   ]
  },
  {
   "cell_type": "code",
   "execution_count": 16,
   "id": "7b2e444d",
   "metadata": {},
   "outputs": [],
   "source": [
    "col_order = ['Pause', 'Scrunch', 'Groom', 'Rear down','Rear up','Run','Investigate','Walk']\n",
    "class_df_new = class_df.reindex(columns=col_order)"
   ]
  },
  {
   "cell_type": "code",
   "execution_count": 17,
   "id": "6a9ff645",
   "metadata": {},
   "outputs": [
    {
     "name": "stderr",
     "output_type": "stream",
     "text": [
      "/home/drl21/miniconda/envs/aging/lib/python3.10/site-packages/statsmodels/regression/mixed_linear_model.py:2238: ConvergenceWarning: The MLE may be on the boundary of the parameter space.\n",
      "  warnings.warn(msg, ConvergenceWarning)\n",
      "/home/drl21/miniconda/envs/aging/lib/python3.10/site-packages/statsmodels/regression/mixed_linear_model.py:2238: ConvergenceWarning: The MLE may be on the boundary of the parameter space.\n",
      "  warnings.warn(msg, ConvergenceWarning)\n",
      "/home/drl21/miniconda/envs/aging/lib/python3.10/site-packages/statsmodels/regression/mixed_linear_model.py:2238: ConvergenceWarning: The MLE may be on the boundary of the parameter space.\n",
      "  warnings.warn(msg, ConvergenceWarning)\n",
      "/home/drl21/miniconda/envs/aging/lib/python3.10/site-packages/statsmodels/regression/mixed_linear_model.py:2238: ConvergenceWarning: The MLE may be on the boundary of the parameter space.\n",
      "  warnings.warn(msg, ConvergenceWarning)\n",
      "/home/drl21/miniconda/envs/aging/lib/python3.10/site-packages/statsmodels/regression/mixed_linear_model.py:2238: ConvergenceWarning: The MLE may be on the boundary of the parameter space.\n",
      "  warnings.warn(msg, ConvergenceWarning)\n",
      "/home/drl21/miniconda/envs/aging/lib/python3.10/site-packages/statsmodels/regression/mixed_linear_model.py:2238: ConvergenceWarning: The MLE may be on the boundary of the parameter space.\n",
      "  warnings.warn(msg, ConvergenceWarning)\n",
      "/home/drl21/miniconda/envs/aging/lib/python3.10/site-packages/statsmodels/regression/mixed_linear_model.py:2238: ConvergenceWarning: The MLE may be on the boundary of the parameter space.\n",
      "  warnings.warn(msg, ConvergenceWarning)\n",
      "/home/drl21/miniconda/envs/aging/lib/python3.10/site-packages/statsmodels/regression/mixed_linear_model.py:2238: ConvergenceWarning: The MLE may be on the boundary of the parameter space.\n",
      "  warnings.warn(msg, ConvergenceWarning)\n"
     ]
    },
    {
     "name": "stdout",
     "output_type": "stream",
     "text": [
      "   Dependent Variable  Parameter  Coefficient        P-value  \\\n",
      "0               Pause  Intercept     0.017442  4.056154e-170   \n",
      "1               Pause        age     0.000077   5.720731e-10   \n",
      "2               Pause  mouse Var     0.336020   7.574573e-03   \n",
      "3             Scrunch  Intercept     0.062427  8.534755e-119   \n",
      "4             Scrunch        age     0.000226   6.123281e-06   \n",
      "5             Scrunch  mouse Var     0.399811   6.603815e-03   \n",
      "6               Groom  Intercept     0.008886   1.527736e-10   \n",
      "7               Groom        age     0.000435  7.906967e-158   \n",
      "8               Groom  mouse Var     1.241240   4.110496e-03   \n",
      "9           Rear down  Intercept     0.019459  5.417520e-239   \n",
      "10          Rear down        age     0.000100   3.767313e-36   \n",
      "11          Rear down  mouse Var     0.891289   4.553633e-03   \n",
      "12            Rear up  Intercept     0.007986   0.000000e+00   \n",
      "13            Rear up        age    -0.000036   1.393836e-22   \n",
      "14            Rear up  mouse Var     0.459684   6.095560e-03   \n",
      "15                Run  Intercept     0.025243  3.306144e-182   \n",
      "16                Run        age    -0.000072   1.216833e-13   \n",
      "17                Run  mouse Var     1.407346   3.958941e-03   \n",
      "18        Investigate  Intercept     0.013219   0.000000e+00   \n",
      "19        Investigate        age     0.000034   7.974279e-16   \n",
      "20        Investigate  mouse Var     0.875229   4.586021e-03   \n",
      "21               Walk  Intercept     0.016289   0.000000e+00   \n",
      "22               Walk        age     0.000016   2.707246e-02   \n",
      "23               Walk  mouse Var     0.344335   7.347084e-03   \n",
      "\n",
      "    Corrected P-value  CI Lower  CI Upper  \n",
      "0       3.244923e-169  0.016213  0.018672  \n",
      "1        4.576585e-09  0.000052  0.000101  \n",
      "2        6.059658e-02  0.089401  0.582639  \n",
      "3       6.827804e-118  0.057147  0.067707  \n",
      "4        4.898625e-05  0.000128  0.000324  \n",
      "5        5.283052e-02  0.111313  0.688310  \n",
      "6        1.222189e-09  0.006166  0.011606  \n",
      "7       6.325574e-157  0.000403  0.000467  \n",
      "8        3.288397e-02  0.393448  2.089032  \n",
      "9       4.334016e-238  0.018303  0.020614  \n",
      "10       3.013851e-35  0.000084  0.000116  \n",
      "11       3.642907e-02  0.275540  1.507038  \n",
      "12       0.000000e+00  0.007572  0.008400  \n",
      "13       1.115069e-21 -0.000044 -0.000029  \n",
      "14       4.876448e-02  0.131176  0.788191  \n",
      "15      2.644915e-181  0.023524  0.026962  \n",
      "16       9.734665e-13 -0.000091 -0.000053  \n",
      "17       3.167153e-02  0.450057  2.364636  \n",
      "18       0.000000e+00  0.012613  0.013826  \n",
      "19       6.379423e-15  0.000026  0.000042  \n",
      "20       3.668817e-02  0.270092  1.480366  \n",
      "21       0.000000e+00  0.015573  0.017005  \n",
      "22       2.165797e-01  0.000002  0.000030  \n",
      "23       5.877668e-02  0.092577  0.596092  \n"
     ]
    }
   ],
   "source": [
    "## females\n",
    "data=class_df_new.copy()\n",
    "a=0.05\n",
    "s=[]\n",
    "p=[]\n",
    "temp = data.copy()\n",
    "temp.reset_index(inplace=True)\n",
    "results={}\n",
    "if 'level_0' in temp.columns:\n",
    "    temp.drop(columns=['level_0'], inplace=True)\n",
    "\n",
    "syll = data.columns\n",
    "for i in syll:\n",
    "    result=fit_1mixed_linear_models(temp, i, 'age','mouse')\n",
    "    results[i] = result\n",
    "\n",
    "# Extract the summary to a DataFrame with Bonferroni correction\n",
    "num_tests = len(data.columns)  # Number of tests is the number of dependent variables (excluding 'age' and 'mouse')\n",
    "summary_df = extract_summary_to_dataframe(results, num_tests)\n",
    "\n",
    "# Print the DataFrame nicely\n",
    "print(summary_df)\n",
    "summary_df.to_csv('/n/groups/datta/win/longtogeny/data/ontogeny/version_11-1/stats/mxlm_female_longv2_class_over_time_beh_age.csv', index=False)"
   ]
  }
 ],
 "metadata": {
  "kernelspec": {
   "display_name": "Python 3 (ipykernel)",
   "language": "python",
   "name": "python3"
  },
  "language_info": {
   "codemirror_mode": {
    "name": "ipython",
    "version": 3
   },
   "file_extension": ".py",
   "mimetype": "text/x-python",
   "name": "python",
   "nbconvert_exporter": "python",
   "pygments_lexer": "ipython3",
   "version": "3.10.12"
  }
 },
 "nbformat": 4,
 "nbformat_minor": 5
}
