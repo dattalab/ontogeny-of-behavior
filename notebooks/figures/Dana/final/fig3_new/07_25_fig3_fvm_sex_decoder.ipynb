{
 "cells": [
  {
   "cell_type": "code",
   "execution_count": 1,
   "id": "a77ea523",
   "metadata": {},
   "outputs": [],
   "source": [
    "import numpy as np\n",
    "import pandas as pd\n",
    "import seaborn as sns\n",
    "import matplotlib.pyplot as plt\n",
    "from aging.plotting import format_plots, PlotConfig, save_factory, figure, legend, format_pizza_plots, COLORMAPS\n",
    "from collections import Counter\n",
    "from matplotlib.lines import Line2D\n",
    "from aging.organization.dataframes import load_male_long_df, load_female_long_df, DF_PATHS\n",
    "from tqdm import tqdm"
   ]
  },
  {
   "cell_type": "code",
   "execution_count": 2,
   "id": "2855503e",
   "metadata": {},
   "outputs": [],
   "source": [
    "import sklearn.feature_selection as sfs\n",
    "from sklearn.pipeline import Pipeline\n",
    "from sklearn.preprocessing import FunctionTransformer\n",
    "from sklearn.svm import SVC\n",
    "from sklearn.decomposition import PCA\n",
    "from sklearn.model_selection import cross_val_score, StratifiedKFold, LeaveOneOut, RepeatedStratifiedKFold\n",
    "from sklearn.preprocessing import StandardScaler\n",
    "from sklearn.model_selection import cross_val_score, cross_val_predict\n",
    "import random\n",
    "from sklearn.metrics import accuracy_score"
   ]
  },
  {
   "cell_type": "code",
   "execution_count": 3,
   "id": "0a49a035",
   "metadata": {},
   "outputs": [],
   "source": [
    "format_plots()\n",
    "#format_pizza_plots()"
   ]
  },
  {
   "cell_type": "code",
   "execution_count": 4,
   "id": "9b68b96f",
   "metadata": {},
   "outputs": [],
   "source": [
    "def mm_norm_col(column):\n",
    "    return (column - column.min()) / (column.max() - column.min())"
   ]
  },
  {
   "cell_type": "code",
   "execution_count": 5,
   "id": "dbcf364c",
   "metadata": {},
   "outputs": [],
   "source": [
    "# Log transform function\n",
    "def log_transform(x):\n",
    "    return np.log1p(x + 1e-6)"
   ]
  },
  {
   "cell_type": "code",
   "execution_count": 6,
   "id": "c24ea0c4",
   "metadata": {},
   "outputs": [],
   "source": [
    "# Create pipeline\n",
    "pipeline = Pipeline([\n",
    "    ('log_transform', FunctionTransformer(log_transform)),\n",
    "    #('scaler', StandardScaler()),\n",
    "    ('pca', PCA(n_components=11)),\n",
    "    #(\"fs\", sfs.SelectKBest(sfs.f_classif, k=50)),\n",
    "    #('svm', SVC(kernel='linear'),\n",
    "    ('svm', SVC(kernel=\"rbf\"),\n",
    "    #('svm', SVC(kernel=\"sigmoid\"),\n",
    "    )\n",
    "])\n",
    "skf = StratifiedKFold(n_splits=5, shuffle=True, random_state=42)\n",
    "rkf = RepeatedStratifiedKFold(n_splits=5, n_repeats=50, random_state=42)\n",
    "loo = LeaveOneOut()"
   ]
  },
  {
   "cell_type": "code",
   "execution_count": 7,
   "id": "ce02b979",
   "metadata": {},
   "outputs": [],
   "source": [
    "cmm = COLORMAPS.ont_male\n",
    "cmf = COLORMAPS.ont_female\n",
    "m_df = load_male_long_df(average_weeks=True, merge_size=False, merge_ages=True, df_path=DF_PATHS.usage_male).groupby(['age','mouse']).mean()\n",
    "f_df = load_female_long_df(average_weeks=True, merge_size=False, filter_female=True, merge_ages=True, df_path=DF_PATHS.usage_female).groupby(['age','mouse']).mean()\n",
    "m_df['sex'] = 'm'\n",
    "f_df['sex'] = 'f'\n",
    "\n",
    "# Combine male and female data into a single DataFrame\n",
    "combined_df = pd.concat([m_df, f_df])\n",
    "combined_df.set_index('sex', inplace=True, append=True)"
   ]
  },
  {
   "cell_type": "code",
   "execution_count": 8,
   "id": "f314dfee",
   "metadata": {},
   "outputs": [],
   "source": [
    "def average_non_overlapping(df):\n",
    "    new_rows = []\n",
    "    for mouse, mouse_df in df.groupby(level='mouse'):\n",
    "        ages = mouse_df.index.get_level_values('age')\n",
    "        sex = mouse_df.index.get_level_values('sex')[0]\n",
    "        for i in range(0, len(ages), 2):\n",
    "            if i + 1 < len(ages):\n",
    "                avg_row = mouse_df.iloc[i:i + 2].mean()\n",
    "                new_index = ages[i + 1]\n",
    "            else:\n",
    "                avg_row = mouse_df.iloc[i]\n",
    "                new_index = ages[i]\n",
    "            new_rows.append((new_index, mouse, sex, *avg_row))\n",
    "    \n",
    "    new_index = pd.MultiIndex.from_tuples([(row[0], row[1], row[2]) for row in new_rows], names=['age', 'mouse', 'sex'])\n",
    "    new_df = pd.DataFrame([row[3:] for row in new_rows], index=new_index, columns=df.columns)\n",
    "    \n",
    "    return new_df"
   ]
  },
  {
   "cell_type": "code",
   "execution_count": 9,
   "id": "c3717c62",
   "metadata": {},
   "outputs": [],
   "source": [
    "def average_overlapping(df):\n",
    "    new_rows = []\n",
    "    for mouse, mouse_df in df.groupby(level='mouse'):\n",
    "        ages = mouse_df.index.get_level_values('age')\n",
    "        sex = mouse_df.index.get_level_values('sex')[0]\n",
    "        for i in range(len(ages)):\n",
    "            if i + 1 < len(ages):\n",
    "                avg_row = mouse_df.iloc[i:i + 2].mean()\n",
    "                new_index = ages[i + 1]\n",
    "            else:\n",
    "                avg_row = mouse_df.iloc[i]\n",
    "                new_index = ages[i]\n",
    "            new_rows.append((new_index, mouse, sex, *avg_row))\n",
    "    \n",
    "    new_index = pd.MultiIndex.from_tuples([(row[0], row[1], row[2]) for row in new_rows], names=['age', 'mouse', 'sex'])\n",
    "    new_df = pd.DataFrame([row[3:] for row in new_rows], index=new_index, columns=df.columns)\n",
    "    \n",
    "    return new_df"
   ]
  },
  {
   "cell_type": "code",
   "execution_count": 10,
   "id": "a468462d",
   "metadata": {},
   "outputs": [],
   "source": [
    "new_df_non_overlapping = average_non_overlapping(combined_df)\n",
    "new_df_overlapping = average_overlapping(combined_df)"
   ]
  },
  {
   "cell_type": "code",
   "execution_count": 11,
   "id": "b8fb1d58",
   "metadata": {},
   "outputs": [],
   "source": [
    "#df=combined_df.copy()\n",
    "#df=new_df_non_overlapping.copy()\n",
    "df=new_df_overlapping"
   ]
  },
  {
   "cell_type": "code",
   "execution_count": 12,
   "id": "a8dd5cf0",
   "metadata": {},
   "outputs": [],
   "source": [
    "count_per_age_sex = df.groupby(['age', 'sex']).apply(lambda x: x.index.get_level_values('mouse').nunique())"
   ]
  },
  {
   "cell_type": "code",
   "execution_count": 13,
   "id": "d919cab7",
   "metadata": {},
   "outputs": [
    {
     "data": {
      "text/plain": [
       "age   sex\n",
       "4.0   f      19\n",
       "      m      20\n",
       "5.0   f      19\n",
       "      m      20\n",
       "6.0   f      19\n",
       "      m      20\n",
       "7.0   f      19\n",
       "      m      20\n",
       "8.0   f      19\n",
       "      m      20\n",
       "9.0   f      19\n",
       "      m      20\n",
       "10.0  f      19\n",
       "      m      20\n",
       "11.0  f      19\n",
       "      m      20\n",
       "12.0  f      19\n",
       "      m      20\n",
       "13.0  f      19\n",
       "      m      20\n",
       "14.0  f      19\n",
       "      m      20\n",
       "15.0  f      19\n",
       "      m      20\n",
       "16.0  f      19\n",
       "      m      20\n",
       "17.0  f      19\n",
       "      m      20\n",
       "18.0  f      19\n",
       "      m      20\n",
       "19.0  f      19\n",
       "      m      20\n",
       "20.0  f      19\n",
       "      m      18\n",
       "21.0  f      19\n",
       "      m      20\n",
       "22.0  f      19\n",
       "      m      20\n",
       "23.0  f      19\n",
       "      m      19\n",
       "24.0  f      19\n",
       "      m      19\n",
       "25.0  f      19\n",
       "      m      20\n",
       "26.0  f      19\n",
       "      m      20\n",
       "27.0  f      19\n",
       "      m      20\n",
       "29.0  f      19\n",
       "      m      20\n",
       "30.0  f      19\n",
       "      m      19\n",
       "31.0  f      19\n",
       "      m      19\n",
       "32.0  f      19\n",
       "      m      20\n",
       "33.0  f      19\n",
       "      m      19\n",
       "34.0  f      19\n",
       "      m      18\n",
       "35.0  f      19\n",
       "      m      19\n",
       "36.0  f      19\n",
       "      m      20\n",
       "37.0  f      19\n",
       "      m      19\n",
       "38.0  f      19\n",
       "      m      19\n",
       "39.0  f      19\n",
       "      m      19\n",
       "40.0  f      19\n",
       "      m      18\n",
       "41.0  f      19\n",
       "      m      20\n",
       "42.0  f      19\n",
       "      m      18\n",
       "43.0  f      19\n",
       "      m      20\n",
       "44.0  f      19\n",
       "      m      20\n",
       "45.0  f      19\n",
       "      m      18\n",
       "46.0  f      19\n",
       "      m      19\n",
       "47.0  f      19\n",
       "      m      19\n",
       "48.0  f      19\n",
       "      m      18\n",
       "49.0  f      19\n",
       "      m      19\n",
       "dtype: int64"
      ]
     },
     "execution_count": 13,
     "metadata": {},
     "output_type": "execute_result"
    }
   ],
   "source": [
    "pd.set_option('display.max_rows', None)\n",
    "count_per_age_sex "
   ]
  },
  {
   "cell_type": "code",
   "execution_count": 14,
   "id": "c58fa838",
   "metadata": {},
   "outputs": [],
   "source": [
    "#number of iterations for shuffle\n",
    "it=100"
   ]
  },
  {
   "cell_type": "code",
   "execution_count": 15,
   "id": "e34838f6",
   "metadata": {},
   "outputs": [
    {
     "name": "stderr",
     "output_type": "stream",
     "text": [
      "100%|█████████████████████████████████████████████████████████████████████████████████████████████████████████████████████████████████████████████████████| 100/100 [34:02<00:00, 20.43s/it]\n"
     ]
    }
   ],
   "source": [
    "age2=[]\n",
    "acc=[]\n",
    "n=10\n",
    "#n=16\n",
    "for i in tqdm(range(it)):\n",
    "    temp = df.groupby(level=['age', 'sex']).apply(lambda x: x.sample(n=n,replace=False, random_state=i)).reset_index(level=[0, 1],drop=True)\n",
    "    for age,_df in enumerate(temp.groupby('age')):\n",
    "        age2.append(_df[0])\n",
    "        x = _df[1].to_numpy()\n",
    "        y=_df[1].index.get_level_values('sex')\n",
    "        acc.append(np.mean(cross_val_score(pipeline, x, y, cv=rkf, n_jobs=-1)))"
   ]
  },
  {
   "cell_type": "code",
   "execution_count": 16,
   "id": "540162be",
   "metadata": {},
   "outputs": [],
   "source": [
    "# create df for plotting\n",
    "df = pd.DataFrame()\n",
    "df['acc']=acc\n",
    "df['ages'] = age2"
   ]
  },
  {
   "cell_type": "code",
   "execution_count": 17,
   "id": "bbd353f4",
   "metadata": {},
   "outputs": [
    {
     "data": {
      "text/plain": [
       "0.829476"
      ]
     },
     "execution_count": 17,
     "metadata": {},
     "output_type": "execute_result"
    }
   ],
   "source": [
    "df.acc.mean()"
   ]
  },
  {
   "cell_type": "code",
   "execution_count": 18,
   "id": "a45d317b",
   "metadata": {},
   "outputs": [],
   "source": [
    "df=combined_df.copy()"
   ]
  },
  {
   "cell_type": "code",
   "execution_count": 19,
   "id": "4daa8e46",
   "metadata": {},
   "outputs": [
    {
     "name": "stderr",
     "output_type": "stream",
     "text": [
      "100%|█████████████████████████████████████████████████████████████████████████████████████████████████████████████████████████████████████████████████████| 100/100 [34:42<00:00, 20.83s/it]\n"
     ]
    }
   ],
   "source": [
    "sh_ages=[]\n",
    "sh_acc=[]\n",
    "\n",
    "for i in tqdm(range(it)):\n",
    "    temp = df.groupby(level=['age', 'sex']).apply(lambda x: x.sample(n=n,replace=False, random_state=i)).reset_index(level=[0, 1],drop=True)\n",
    "    for age,_df in enumerate(temp.groupby('age')):\n",
    "        sh_ages.append(_df[0])\n",
    "        x = _df[1].to_numpy()\n",
    "        y=_df[1].index.get_level_values('sex')\n",
    "        y = y.to_series().sample(frac=1, random_state=i).values\n",
    "        sh_acc.append(np.mean(cross_val_score(pipeline, x, y, cv=rkf, n_jobs=-1)))"
   ]
  },
  {
   "cell_type": "code",
   "execution_count": 20,
   "id": "bec247d3",
   "metadata": {},
   "outputs": [],
   "source": [
    "# create df for plotting\n",
    "df_sh = pd.DataFrame()\n",
    "df_sh['acc']=sh_acc\n",
    "df_sh['ages'] = sh_ages\n",
    "\n",
    "df = pd.DataFrame()\n",
    "df['acc']=acc\n",
    "df['ages'] = age2"
   ]
  },
  {
   "cell_type": "code",
   "execution_count": 21,
   "id": "e37582c9",
   "metadata": {},
   "outputs": [
    {
     "name": "stderr",
     "output_type": "stream",
     "text": [
      "/home/drl21/miniconda/envs/aging/lib/python3.10/site-packages/seaborn/_oldcore.py:1119: FutureWarning: use_inf_as_na option is deprecated and will be removed in a future version. Convert inf values to NaN before operating instead.\n",
      "  with pd.option_context('mode.use_inf_as_na', True):\n",
      "/home/drl21/miniconda/envs/aging/lib/python3.10/site-packages/seaborn/_oldcore.py:1119: FutureWarning: use_inf_as_na option is deprecated and will be removed in a future version. Convert inf values to NaN before operating instead.\n",
      "  with pd.option_context('mode.use_inf_as_na', True):\n",
      "/home/drl21/miniconda/envs/aging/lib/python3.10/site-packages/seaborn/_oldcore.py:1119: FutureWarning: use_inf_as_na option is deprecated and will be removed in a future version. Convert inf values to NaN before operating instead.\n",
      "  with pd.option_context('mode.use_inf_as_na', True):\n",
      "/home/drl21/miniconda/envs/aging/lib/python3.10/site-packages/seaborn/_oldcore.py:1119: FutureWarning: use_inf_as_na option is deprecated and will be removed in a future version. Convert inf values to NaN before operating instead.\n",
      "  with pd.option_context('mode.use_inf_as_na', True):\n"
     ]
    },
    {
     "data": {
      "image/png": "[encoded data removed]",
      "text/plain": [
       "<Figure size 200x200 with 1 Axes>"
      ]
     },
     "metadata": {},
     "output_type": "display_data"
    }
   ],
   "source": [
    "fig, ax = plt.subplots(figsize=(1, 1))\n",
    "sns.lineplot(data=df_sh, x=\"ages\", y=\"acc\", ax=ax, color='black', estimator='mean', errorbar=('sd', 1))\n",
    "sns.lineplot(data=df, x=\"ages\", y=\"acc\", ax=ax, color='purple', estimator='mean', errorbar=('sd', 1))\n",
    "plt.ylim([0.0,1])\n",
    "plt.legend([],[], frameon=False)\n",
    "# Set custom x-ticks\n",
    "#plt.xticks([2,5,10,15,20,25,30,35,])\n",
    "sns.despine()\n"
   ]
  },
  {
   "cell_type": "code",
   "execution_count": 22,
   "id": "469f8e4d",
   "metadata": {},
   "outputs": [],
   "source": [
    "c = PlotConfig()\n",
    "fig.savefig(c.dana_save_path / \"fig3\"/ '07_25_fvm_sex_decoder_line.pdf', bbox_inches='tight')"
   ]
  }
 ],
 "metadata": {
  "kernelspec": {
   "display_name": "Python 3 (ipykernel)",
   "language": "python",
   "name": "python3"
  },
  "language_info": {
   "codemirror_mode": {
    "name": "ipython",
    "version": 3
   },
   "file_extension": ".py",
   "mimetype": "text/x-python",
   "name": "python",
   "nbconvert_exporter": "python",
   "pygments_lexer": "ipython3",
   "version": "3.10.12"
  }
 },
 "nbformat": 4,
 "nbformat_minor": 5
}
