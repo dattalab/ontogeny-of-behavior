{
 "cells": [
  {
   "cell_type": "code",
   "execution_count": null,
   "id": "a77ea523",
   "metadata": {},
   "outputs": [],
   "source": [
    "import numpy as np\n",
    "import pandas as pd\n",
    "import matplotlib.pyplot as plt\n",
    "import seaborn as sns\n",
    "from pathlib import Path\n",
    "import matplotlib as mpl\n",
    "from aging.plotting import format_plots, PlotConfig, save_factory, figure, legend, format_pizza_plots, COLORMAPS\n",
    "from collections import Counter\n",
    "from matplotlib.lines import Line2D\n",
    "from aging.organization.dataframes import load_male_long_df, load_female_long_df, DF_PATHS\n",
    "from tqdm import tqdm"
   ]
  },
  {
   "cell_type": "code",
   "execution_count": null,
   "id": "3c4c8f8b",
   "metadata": {},
   "outputs": [],
   "source": [
    "format_plots()\n",
    "#format_pizza_plots()"
   ]
  },
  {
   "cell_type": "code",
   "execution_count": null,
   "id": "a5d457e3",
   "metadata": {},
   "outputs": [],
   "source": [
    "def mm_norm_col(column):\n",
    "    return (column - column.min()) / (column.max() - column.min())"
   ]
  },
  {
   "cell_type": "code",
   "execution_count": null,
   "id": "a7cbf73c",
   "metadata": {},
   "outputs": [],
   "source": [
    "cmm = COLORMAPS.ont_male\n",
    "cmf = COLORMAPS.ont_female\n",
    "m_df = load_male_long_df(average_weeks=True, merge_size=False, merge_ages=True, df_path=DF_PATHS.usage_male).groupby(['age','mouse']).mean()\n",
    "f_df = load_female_long_df(average_weeks=True, merge_size=False, filter_female=True, merge_ages=True, df_path=DF_PATHS.usage_female).groupby(['age','mouse']).mean()"
   ]
  },
  {
   "cell_type": "code",
   "execution_count": null,
   "id": "c10d42f6",
   "metadata": {},
   "outputs": [],
   "source": [
    "# avarage per age or session\n",
    "avg_m_df = m_df.groupby(['mouse']).mean()"
   ]
  },
  {
   "cell_type": "code",
   "execution_count": null,
   "id": "5e0dfa29",
   "metadata": {},
   "outputs": [],
   "source": [
    "# avarage per age or session\n",
    "avg_m_df = m_df.groupby(['mouse']).mean()\n",
    "fig, ax = plt.subplots()\n",
    "fig.set_size_inches(1.3, 1)  # Adjust the figure size as needed\n",
    "\n",
    "# Create the heatmap\n",
    "sns.heatmap(avg_m_df.T, cmap=\"cubehelix\", ax=ax, vmax=0.065)\n",
    "\n",
    "# Display the plot\n",
    "plt.show()\n",
    "\n",
    "c = PlotConfig()\n",
    "fig.savefig(c.dana_save_path / \"fig3\"/ 'avg_syllable_per_mouse_male.pdf')"
   ]
  },
  {
   "cell_type": "code",
   "execution_count": null,
   "id": "3ce59b51",
   "metadata": {},
   "outputs": [],
   "source": [
    "# avarage per age or session\n",
    "avg_m_df = f_df.groupby(['mouse']).mean()\n",
    "fig, ax = plt.subplots()\n",
    "fig.set_size_inches(1.3, 1)  # Adjust the figure size as needed\n",
    "\n",
    "# Create the heatmap\n",
    "sns.heatmap(avg_m_df.T, cmap=\"cubehelix\", ax=ax, vmax=0.065)\n",
    "\n",
    "# Display the plot\n",
    "plt.show()\n",
    "\n",
    "c = PlotConfig()\n",
    "fig.savefig(c.dana_save_path / \"fig3\"/ 'avg_syllable_per_mouse_female.pdf')"
   ]
  }
 ],
 "metadata": {
  "kernelspec": {
   "display_name": "Python 3 (ipykernel)",
   "language": "python",
   "name": "python3"
  },
  "language_info": {
   "codemirror_mode": {
    "name": "ipython",
    "version": 3
   },
   "file_extension": ".py",
   "mimetype": "text/x-python",
   "name": "python",
   "nbconvert_exporter": "python",
   "pygments_lexer": "ipython3",
   "version": "3.10.12"
  }
 },
 "nbformat": 4,
 "nbformat_minor": 5
}
