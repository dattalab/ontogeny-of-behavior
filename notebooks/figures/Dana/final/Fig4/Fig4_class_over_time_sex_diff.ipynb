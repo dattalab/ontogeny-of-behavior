{
 "cells": [
  {
   "cell_type": "code",
   "execution_count": null,
   "id": "a77ea523",
   "metadata": {},
   "outputs": [],
   "source": [
    "import numpy as np\n",
    "import pandas as pd\n",
    "import seaborn as sns\n",
    "import matplotlib.pyplot as plt\n",
    "from aging.plotting import format_plots, PlotConfig, save_factory, figure, legend, format_pizza_plots, COLORMAPS\n",
    "from collections import Counter\n",
    "from matplotlib.lines import Line2D\n",
    "from aging.organization.dataframes import load_male_long_df, load_female_long_df, DF_PATHS\n",
    "from tqdm import tqdm"
   ]
  },
  {
   "cell_type": "code",
   "execution_count": null,
   "id": "0a49a035",
   "metadata": {},
   "outputs": [],
   "source": [
    "format_plots()"
   ]
  },
  {
   "cell_type": "code",
   "execution_count": null,
   "id": "8a83a18c",
   "metadata": {},
   "outputs": [],
   "source": [
    "from matplotlib.colors import LinearSegmentedColormap\n",
    "# Define the color map\n",
    "colors = ['#d94801','white','#008C8D']\n",
    "custom_cmap = LinearSegmentedColormap.from_list(\"custom_purples\", colors, N=256)\n",
    "cmmf=custom_cmap"
   ]
  },
  {
   "cell_type": "code",
   "execution_count": null,
   "id": "f5ffcc1e",
   "metadata": {},
   "outputs": [],
   "source": [
    "def minmax(df):\n",
    "    df = df - df.min()\n",
    "    return df / df.max()\n",
    "\n",
    "def mm_norm_col(column):\n",
    "    return (column - column.min()) / (column.max() - column.min())"
   ]
  },
  {
   "cell_type": "code",
   "execution_count": null,
   "id": "39930526",
   "metadata": {},
   "outputs": [],
   "source": [
    "cmm = COLORMAPS.ont_male\n",
    "cmf = COLORMAPS.ont_female\n",
    "m_df = load_male_long_df(average_weeks=True, merge_size=False, merge_ages=True, df_path=DF_PATHS.usage_male).groupby(['age','mouse']).mean()\n",
    "f_df = load_female_long_df(average_weeks=True, merge_size=False, filter_female=True, merge_ages=True, df_path=DF_PATHS.usage_female).groupby(['age','mouse']).mean()"
   ]
  },
  {
   "cell_type": "code",
   "execution_count": null,
   "id": "a21dd656",
   "metadata": {},
   "outputs": [],
   "source": [
    "# look at syllable usage diff male and females according to actual age\n",
    "df =m_df.groupby('age').mean()-f_df.groupby('age').mean()"
   ]
  },
  {
   "cell_type": "code",
   "execution_count": null,
   "id": "610224ee",
   "metadata": {},
   "outputs": [],
   "source": [
    "# upload syllable classes\n",
    "syllable_classes = pd.read_csv('./v11_syllable_labels_v3.csv')\n",
    "id_map = syllable_classes.set_index('Original ID')['Class']\n",
    "class_sort = [id_map[k] for k in df.columns]"
   ]
  },
  {
   "cell_type": "code",
   "execution_count": null,
   "id": "efb3fe8e",
   "metadata": {},
   "outputs": [],
   "source": [
    "class_avgs = {}\n",
    "class_norm_avgs = {}\n",
    "for _class, _df in df.T.groupby(class_sort):\n",
    "    avgs = _df.T.groupby('age').mean()\n",
    "    class_avgs[_class] = avgs.mean(1)\n",
    "\n",
    "    #norm_avgs = minmax(avgs)\n",
    "    norm_avgs = avgs\n",
    "\n",
    "    peaks = (\n",
    "        norm_avgs.rolling(7, min_periods=1, center=True, win_type=\"exponential\")\n",
    "        .mean(tau=3)\n",
    "        .idxmax()\n",
    "    )\n",
    "    peaks = peaks.sort_values()\n",
    "    class_norm_avgs[_class] = norm_avgs.mean(1)\n",
    "\n",
    "    ages = avgs.index\n",
    "\n",
    "    fig = figure(1, 0.075 * avgs.shape[1])\n",
    "    plt.imshow(norm_avgs[peaks.index].T, cmap=cmmf, extent=(ages[0], ages[-1], avgs.shape[1], 0), aspect='auto',\n",
    "               vmin=-0.05,\n",
    "              vmax=0.05,\n",
    "              )\n",
    "    plt.title(_class)\n",
    "    plt.colorbar(label=\"m/f relative usage\")\n",
    "    plt.yticks([])\n",
    "    plt.xlabel(\"Age (wks)\")\n",
    "    #sns.despine()\n",
    "    c = PlotConfig()\n",
    "    fig.savefig(c.dana_save_path / \"fig3\"/ f'09_24_fvm_relative_usage_longv2_class-{_class}.pdf')\n"
   ]
  },
  {
   "cell_type": "code",
   "execution_count": null,
   "id": "9597f9a9",
   "metadata": {},
   "outputs": [],
   "source": [
    "class_df = pd.DataFrame(class_norm_avgs)\n",
    "peaks = (\n",
    "    class_df.rolling(7, min_periods=1, center=True, win_type=\"exponential\")\n",
    "    .mean(tau=3)\n",
    "    .idxmax()\n",
    ")\n",
    "peaks = peaks.sort_values()"
   ]
  },
  {
   "cell_type": "code",
   "execution_count": null,
   "id": "dc69450c",
   "metadata": {},
   "outputs": [],
   "source": [
    "col_order = ['Pause', 'Scrunch', 'Groom', 'Rear down','Rear up','Run','Investigate','Walk']\n",
    "class_df_new = class_df.reindex(columns=col_order)"
   ]
  },
  {
   "cell_type": "code",
   "execution_count": null,
   "id": "5cc02f8a",
   "metadata": {},
   "outputs": [],
   "source": [
    "format_plots()\n",
    "fig, ax = plt.subplots(figsize=(1, 1))\n",
    "sns.heatmap(class_df_new.T, cmap=cmmf, vmax=0.05, vmin=-0.05, cbar_kws=dict(label='Normalized usage'))"
   ]
  },
  {
   "cell_type": "code",
   "execution_count": null,
   "id": "b56ea9ba",
   "metadata": {},
   "outputs": [],
   "source": [
    "c = PlotConfig()\n",
    "fig.savefig(c.dana_save_path / \"fig3\"/ '09_24_fvm_relative_usage_syllable_classes_longv2.pdf')"
   ]
  },
  {
   "cell_type": "code",
   "execution_count": null,
   "id": "b1763535",
   "metadata": {},
   "outputs": [],
   "source": [
    "df=m_df.copy()\n",
    "class_avgs = {}\n",
    "class_norm_avgs = {}\n",
    "for _class, _df in df.T.groupby(class_sort):\n",
    "    avgs = _df.T.groupby(['age','mouse']).mean()\n",
    "    class_avgs[_class] = avgs.mean(1)\n",
    "\n",
    "    #norm_avgs = minmax(avgs)\n",
    "    norm_avgs = avgs\n",
    "    class_norm_avgs[_class] = norm_avgs.mean(1)\n",
    "class_df = pd.DataFrame(class_norm_avgs)\n",
    "col_order = ['Pause', 'Scrunch', 'Groom', 'Rear down','Rear up','Run','Investigate','Walk']\n",
    "class_df_male = class_df.reindex(columns=col_order)\n",
    "class_df_male['sex']='m'"
   ]
  },
  {
   "cell_type": "code",
   "execution_count": null,
   "id": "10bba492",
   "metadata": {},
   "outputs": [],
   "source": [
    "df=f_df.copy()\n",
    "class_avgs = {}\n",
    "class_norm_avgs = {}\n",
    "for _class, _df in df.T.groupby(class_sort):\n",
    "    avgs = _df.T.groupby(['age','mouse']).mean()\n",
    "    class_avgs[_class] = avgs.mean(1)\n",
    "\n",
    "    #norm_avgs = minmax(avgs)\n",
    "    norm_avgs = avgs\n",
    "    class_norm_avgs[_class] = norm_avgs.mean(1)\n",
    "class_df = pd.DataFrame(class_norm_avgs)\n",
    "col_order = ['Pause', 'Scrunch', 'Groom', 'Rear down','Rear up','Run','Investigate','Walk']\n",
    "class_df_female = class_df.reindex(columns=col_order)\n",
    "class_df_female['sex']='f'"
   ]
  },
  {
   "cell_type": "code",
   "execution_count": null,
   "id": "f3cfe0ec",
   "metadata": {},
   "outputs": [],
   "source": [
    "#stats"
   ]
  },
  {
   "cell_type": "code",
   "execution_count": null,
   "id": "323b7c86",
   "metadata": {},
   "outputs": [],
   "source": [
    "import statsmodels.api as sm\n",
    "import statsmodels.formula.api as smf\n",
    "from statsmodels.tools.tools import pinv_extended  \n",
    "from statsmodels.stats.anova import anova_lm\n",
    "import scipy.stats as stats\n",
    "import statsmodels.api as sm\n",
    "from statsmodels.formula.api import ols\n",
    "from tabulate import tabulate\n",
    "\n",
    "def fit_1mixed_linear_models(data, dependent_var, factor1, group):\n",
    "    \n",
    "    align_data = data.copy()\n",
    "    align_data['ranked_response'] = align_data[[dependent_var]]\n",
    "\n",
    "    #formula = f'ranked_response ~ {factor1}*{group}'\n",
    "    formula = f'ranked_response ~ {factor1}'\n",
    "        \n",
    "    # Fit the mixed linear model\n",
    "    model = smf.mixedlm(formula, align_data, groups=f'{group}')\n",
    "    result = model.fit()\n",
    "    return result\n",
    "\n",
    "\n",
    "def fit_2mixed_linear_models(data, dependent_var, factor1,factor2, group):\n",
    "    \n",
    "    align_data = data.copy()\n",
    "    align_data['ranked_response'] = align_data[[dependent_var]]\n",
    "\n",
    "    #formula = f'ranked_response ~ {factor1}*{group}'\n",
    "    formula = f'ranked_response ~ {factor1}*C({factor2})'\n",
    "        \n",
    "    # Fit the mixed linear model\n",
    "    model = smf.mixedlm(formula, align_data, groups=f'{group}')\n",
    "    result = model.fit()\n",
    "    return result\n",
    "\n",
    "def extract_summary_to_dataframe(results, num_tests):\n",
    "    summary_data = []\n",
    "\n",
    "    for var, result in results.items():\n",
    "        summary = result.summary()\n",
    "        coefs = result.params\n",
    "        pvalues = result.pvalues\n",
    "        conf_int = result.conf_int()\n",
    "        \n",
    "        for param in coefs.index:\n",
    "            pvalue_corrected = min(pvalues[param] * num_tests, 1.0)  # Apply Bonferroni correction\n",
    "            \n",
    "            summary_data.append({\n",
    "                'Dependent Variable': var,\n",
    "                'Parameter': param,\n",
    "                'Coefficient': coefs[param],\n",
    "                'P-value': pvalues[param],\n",
    "                'Corrected P-value': pvalue_corrected,\n",
    "                'CI Lower': conf_int[0][param],\n",
    "                'CI Upper': conf_int[1][param]\n",
    "            })\n",
    "    \n",
    "    summary_df = pd.DataFrame(summary_data)\n",
    "    return summary_df"
   ]
  },
  {
   "cell_type": "code",
   "execution_count": null,
   "id": "887979be",
   "metadata": {},
   "outputs": [],
   "source": [
    "## fvm\n",
    "data = pd.concat([class_df_male,class_df_female])\n",
    "data.set_index('sex', append=True, inplace=True)\n",
    "a=0.05\n",
    "s=[]\n",
    "p=[]\n",
    "temp = data.copy()\n",
    "temp.reset_index(inplace=True)\n",
    "results={}\n",
    "if 'level_0' in temp.columns:\n",
    "    temp.drop(columns=['level_0'], inplace=True)\n",
    "\n",
    "syll = data.columns\n",
    "for i in syll:\n",
    "    result=fit_2mixed_linear_models(temp, i, 'age','sex','mouse')\n",
    "    results[i] = result\n",
    "\n",
    "# Extract the summary to a DataFrame with Bonferroni correction\n",
    "num_tests = len(data.columns)  # Number of tests is the number of dependent variables (excluding 'age' and 'mouse')\n",
    "summary_df = extract_summary_to_dataframe(results, num_tests)\n",
    "\n",
    "# Print the DataFrame nicely\n",
    "print(summary_df)\n",
    "summary_df.to_csv('mxlm_fvm_longv2_class_over_time.csv', index=False)"
   ]
  }
 ],
 "metadata": {
  "kernelspec": {
   "display_name": "Python 3 (ipykernel)",
   "language": "python",
   "name": "python3"
  },
  "language_info": {
   "codemirror_mode": {
    "name": "ipython",
    "version": 3
   },
   "file_extension": ".py",
   "mimetype": "text/x-python",
   "name": "python",
   "nbconvert_exporter": "python",
   "pygments_lexer": "ipython3",
   "version": "3.10.12"
  }
 },
 "nbformat": 4,
 "nbformat_minor": 5
}
