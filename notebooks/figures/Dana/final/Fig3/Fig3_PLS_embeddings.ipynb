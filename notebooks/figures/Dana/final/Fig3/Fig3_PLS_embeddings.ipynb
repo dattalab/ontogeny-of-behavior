{
 "cells": [
  {
   "cell_type": "code",
   "execution_count": null,
   "id": "a77ea523",
   "metadata": {},
   "outputs": [],
   "source": [
    "import numpy as np\n",
    "import pandas as pd\n",
    "import seaborn as sns\n",
    "import matplotlib.pyplot as plt\n",
    "from aging.plotting import format_plots, PlotConfig, save_factory, figure, legend, format_pizza_plots\n",
    "from collections import Counter\n",
    "from matplotlib.lines import Line2D\n",
    "from scipy.stats import zscore"
   ]
  },
  {
   "cell_type": "code",
   "execution_count": null,
   "id": "b776003f",
   "metadata": {},
   "outputs": [],
   "source": [
    "from sklearn.cross_decomposition import PLSRegression\n",
    "import umap\n",
    "import matplotlib.pyplot as plt\n",
    "import seaborn as sns\n",
    "from matplotlib.collections import LineCollection"
   ]
  },
  {
   "cell_type": "code",
   "execution_count": null,
   "id": "86571b2b",
   "metadata": {},
   "outputs": [],
   "source": [
    "def mm_norm_col(column):\n",
    "    return (column - column.min()) / (column.max() - column.min())"
   ]
  },
  {
   "cell_type": "code",
   "execution_count": null,
   "id": "25a26386",
   "metadata": {},
   "outputs": [],
   "source": [
    "from matplotlib.colors import LinearSegmentedColormap\n",
    "colors = ['#c7eae5','#008C8D']\n",
    "custom_cmap = LinearSegmentedColormap.from_list(\"custom_purples\", colors, N=256)\n",
    "cmm=custom_cmap\n",
    "\n",
    "colors = ['#c7eae5','#008C8D']\n",
    "custom_cmap = LinearSegmentedColormap.from_list(\"custom_purples\", colors, N=256)\n",
    "cmm=custom_cmap\n",
    "\n",
    "# Define the color map\n",
    "colors = ['#fee6ce','#d94801']\n",
    "custom_cmap = LinearSegmentedColormap.from_list(\"custom_purples\", colors, N=256)\n",
    "cmf=custom_cmap"
   ]
  },
  {
   "cell_type": "code",
   "execution_count": null,
   "id": "389b46f1",
   "metadata": {},
   "outputs": [],
   "source": [
    "format_plots()"
   ]
  },
  {
   "cell_type": "markdown",
   "id": "c8bdd15d",
   "metadata": {},
   "source": [
    "## get lims from chronological age data"
   ]
  },
  {
   "cell_type": "code",
   "execution_count": null,
   "id": "14102e2d",
   "metadata": {},
   "outputs": [],
   "source": [
    "## arrange data\n",
    "keep_syllables = np.loadtxt('to_keep_syllables_raw.txt', dtype=int)\n",
    "\n",
    "male_df = pd.read_parquet('ontogeny_males_raw_usage_matrix_v00.parquet').astype(float)\n",
    "male_df = male_df[keep_syllables]\n",
    "\n",
    "# avarage per age or session\n",
    "m_df = male_df.sort_index(level='age')\n",
    "\n",
    "#df = m_norm.copy()\n",
    "df=m_df.copy()\n",
    "\n",
    "# Perform PLS Regression Embedding\n",
    "pls = PLSRegression(n_components=2)\n",
    "X = df.values\n",
    "y = df.index.get_level_values('age').values\n",
    "pls_result = pls.fit_transform(X, y)[0]\n",
    "pcs_pls = pd.DataFrame(pls_result, columns=['dim1', 'dim2'])\n",
    "xlim_male=[pcs_pls['dim1'].min(),pcs_pls['dim1'].max()]\n",
    "ylim_male=[pcs_pls['dim2'].min(),pcs_pls['dim2'].max()]"
   ]
  },
  {
   "cell_type": "code",
   "execution_count": null,
   "id": "ba6de08c",
   "metadata": {},
   "outputs": [],
   "source": [
    "## arrange data for females\n",
    "keep_syllables = np.loadtxt('to_keep_syllables_raw.txt', dtype=int)\n",
    "\n",
    "female_df = pd.read_parquet('ontogeny_females_raw_usage_matrix_v00.parquet').astype(float)\n",
    "female_df = female_df[keep_syllables]\n",
    "\n",
    "\n",
    "# for female:\n",
    "f_df= female_df.groupby(['age','uuid']).mean()\n",
    "# Update age value to 52 for rows with uuid in the list\n",
    "uuids = ['f1d5dce5-f5cf-4b03-b07d-d9b8c1f034b0','6fa50ac7-6d49-4ef9-9059-3d90bdd8c5d4',\n",
    "         'e9e05da8-fc59-40f3-a9c8-f57c492c6141','327e7fa1-2237-43d2-b25f-c1801912df33',\n",
    "        '242bee8e-0ee7-45e7-8a13-678836a4cddb','552ec70f-0676-4471-8ab0-403e1fcf43e3','d6f254af-d55a-427a-96e0-c452a233cbe2']\n",
    "f_df.reset_index(inplace=True)\n",
    "\n",
    "age_mapping = {\n",
    "    93: 94,\n",
    "    95: 94,\n",
    "    97: 98,\n",
    "    98: 98,\n",
    "    102: 98,\n",
    "    103: 105,\n",
    "    105: 105,\n",
    "    107: 105\n",
    "}\n",
    "\n",
    "f_df['age'] = f_df['age'].map(age_mapping).fillna(f_df['age'])\n",
    "f_df.loc[f_df['uuid'].isin(uuids), 'age'] = 52\n",
    "# Set the index back\n",
    "f_df.set_index(['age', 'uuid'], inplace=True)\n",
    "f_df=f_df.query('age<127')\n",
    "\n",
    "# avarage per age or session\n",
    "m_df = f_df.sort_index(level='age')\n",
    "\n",
    "df=m_df.copy()\n",
    "\n",
    "# Perform PLS Regression Embedding\n",
    "pls = PLSRegression(n_components=2)\n",
    "X = df.values\n",
    "y = df.index.get_level_values('age').values\n",
    "pls_result = pls.fit_transform(X, y)[0]\n",
    "\n",
    "pcs_pls = pd.DataFrame(pls_result, columns=['dim1', 'dim2'])\n",
    "\n",
    "xlim_female=[pcs_pls['dim1'].min(),pcs_pls['dim1'].max()]\n",
    "ylim_female=[pcs_pls['dim2'].min(),pcs_pls['dim2'].max()]"
   ]
  },
  {
   "cell_type": "markdown",
   "id": "8eae159f",
   "metadata": {},
   "source": [
    "## PLS regression"
   ]
  },
  {
   "cell_type": "code",
   "execution_count": null,
   "id": "a54ef0cf",
   "metadata": {},
   "outputs": [],
   "source": [
    "format_plots()"
   ]
  },
  {
   "cell_type": "code",
   "execution_count": null,
   "id": "c85693f8",
   "metadata": {},
   "outputs": [],
   "source": [
    "## male data"
   ]
  },
  {
   "cell_type": "code",
   "execution_count": null,
   "id": "3b206b07",
   "metadata": {},
   "outputs": [],
   "source": [
    "## arrange data\n",
    "keep_syllables = np.loadtxt('to_keep_syllables_raw.txt', dtype=int)\n",
    "\n",
    "male_df = pd.read_parquet('2024-07-29-ontogeny_males_raw_usage_df_beh_age.parquet').astype(float)\n",
    "#male_df = pd.read_parquet('/n/groups/datta/win/longtogeny/data/ontogeny/version_11-1/beh_age_df/ontogeny_males_raw_usage_df_beh_age.parquet').astype(float)\n",
    "male_df = male_df[keep_syllables]\n",
    "m_df= male_df.groupby(['age','uuid']).mean()"
   ]
  },
  {
   "cell_type": "code",
   "execution_count": null,
   "id": "8cf3e89c",
   "metadata": {},
   "outputs": [],
   "source": [
    "#df = m_norm.copy()\n",
    "df=m_df.copy()\n",
    "\n",
    "# Perform PLS Regression Embedding\n",
    "pls = PLSRegression(n_components=2)\n",
    "X = df.values\n",
    "y = df.index.get_level_values('age').values\n",
    "pls_result = pls.fit_transform(X, y)[0]\n",
    "\n",
    "pcs_pls = pd.DataFrame(pls_result, columns=['dim1', 'dim2'])\n",
    "pcs_pls['age'] = y\n",
    "age_pc_pls = pcs_pls.groupby('age').mean()\n",
    "\n",
    "\n",
    "## plot\n",
    "## Plotting PLS Regression Embedding\n",
    "fig, ax = plt.subplots(figsize=(1.6,1.3))\n",
    "sns.scatterplot(data=pcs_pls, x='dim1', y='dim2', hue='age', palette=cmm, legend=False, s=6, edgecolor='none', ax=ax)\n",
    "#ax.set_title('PLS Regression Embedding')\n",
    "\n",
    "# Convert to DataFrame for easier rolling operation\n",
    "df_pls = pd.DataFrame(age_pc_pls)\n",
    "\n",
    "# Apply rolling window average for PLS\n",
    "window_size = 2  # Adjust the window size as needed\n",
    "df_smooth_pls = df_pls.rolling(window=window_size, min_periods=1, center=True).mean()\n",
    "\n",
    "# Create segments for LineCollection from the smoothed data for PLS\n",
    "points_pls = np.array([df_smooth_pls['dim1'], df_smooth_pls['dim2']]).T.reshape(-1, 1, 2)\n",
    "segments_pls = np.concatenate([points_pls[:-1], points_pls[1:]], axis=1)\n",
    "\n",
    "# Create the line collection object for PLS\n",
    "lc_pls = LineCollection(segments_pls, cmap=cmm, norm=plt.Normalize(0, 1), linewidth=1)\n",
    "lc_pls.set_array(np.linspace(0, 1, len(df_smooth_pls['dim1'])))\n",
    "\n",
    "# Create the outer black line collection for PLS\n",
    "black_lc_pls = LineCollection(segments_pls, colors='black', linewidth=2)\n",
    "\n",
    "# Add the black line collection to the plot for PLS\n",
    "ax.add_collection(black_lc_pls)\n",
    "\n",
    "# Add line collection to the plot for PLS\n",
    "ax.add_collection(lc_pls)\n",
    "ax.autoscale()\n",
    "\n",
    "# Add color bar\n",
    "norm = plt.Normalize(vmin=pcs_pls['age'].min(), vmax=pcs_pls['age'].max())\n",
    "sm = plt.cm.ScalarMappable(cmap=cmm, norm=norm)\n",
    "sm.set_array([])\n",
    "\n",
    "# Create color bar and set ticks\n",
    "cbar = plt.colorbar(sm, ax=ax)\n",
    "cbar.set_label('Behavioral Age')\n",
    "cbar.set_ticks([20, 40, 60, 80])\n",
    "cbar.set_ticklabels([20, 40, 60, 80])\n",
    "\n",
    "ax.set_xlim(xlim_male)\n",
    "ax.set_ylim(ylim_male)\n",
    "sns.despine()\n",
    "plt.show()"
   ]
  },
  {
   "cell_type": "code",
   "execution_count": null,
   "id": "3f5afd8d",
   "metadata": {},
   "outputs": [],
   "source": [
    "c = PlotConfig()\n",
    "fig.savefig(c.dana_save_path / \"fig2\"/ '07_24_PLS_embedding_male_raw_smooth=2_beh_age.pdf')"
   ]
  },
  {
   "cell_type": "markdown",
   "id": "e17660c7",
   "metadata": {},
   "source": [
    "## PLS regression"
   ]
  },
  {
   "cell_type": "code",
   "execution_count": null,
   "id": "5a699e67",
   "metadata": {},
   "outputs": [],
   "source": [
    "## female data"
   ]
  },
  {
   "cell_type": "code",
   "execution_count": null,
   "id": "b08378c7",
   "metadata": {},
   "outputs": [],
   "source": [
    "## arrange data for females\n",
    "keep_syllables = np.loadtxt('to_keep_syllables_raw.txt', dtype=int)\n",
    "\n",
    "female_df = pd.read_parquet('2024-07-29-ontogeny_females_raw_usage_df_beh_age.parquet').astype(float)\n",
    "female_df = female_df[keep_syllables]\n",
    "f_df= female_df.groupby(['age','uuid']).mean()"
   ]
  },
  {
   "cell_type": "code",
   "execution_count": null,
   "id": "cb3323b9",
   "metadata": {},
   "outputs": [],
   "source": [
    "# avarage per age or session\n",
    "m_df = f_df.sort_index(level='age')"
   ]
  },
  {
   "cell_type": "code",
   "execution_count": null,
   "id": "612e19f0",
   "metadata": {},
   "outputs": [],
   "source": [
    "#df = m_norm.copy()\n",
    "cmm=cmf\n",
    "df=m_df.copy()\n",
    "\n",
    "# Perform PLS Regression Embedding\n",
    "pls = PLSRegression(n_components=2)\n",
    "X = df.values\n",
    "y = df.index.get_level_values('age').values\n",
    "pls_result = pls.fit_transform(X, y)[0]\n",
    "\n",
    "pcs_pls = pd.DataFrame(pls_result, columns=['dim1', 'dim2'])\n",
    "pcs_pls['age'] = y\n",
    "age_pc_pls = pcs_pls.groupby('age').mean()\n",
    "\n",
    "\n",
    "## plot\n",
    "## Plotting PLS Regression Embedding\n",
    "fig, ax = plt.subplots(figsize=(1.6,1.2))\n",
    "sns.scatterplot(data=pcs_pls, x='dim1', y='dim2', hue='age', palette=cmm, legend=False, s=6, edgecolor='none', ax=ax)\n",
    "#ax.set_title('PLS Regression Embedding')\n",
    "\n",
    "# Convert to DataFrame for easier rolling operation\n",
    "df_pls = pd.DataFrame(age_pc_pls)\n",
    "\n",
    "# Apply rolling window average for PLS\n",
    "window_size = 2  # Adjust the window size as needed\n",
    "df_smooth_pls = df_pls.rolling(window=window_size, min_periods=1, center=True).mean()\n",
    "\n",
    "# Create segments for LineCollection from the smoothed data for PLS\n",
    "points_pls = np.array([df_smooth_pls['dim1'], df_smooth_pls['dim2']]).T.reshape(-1, 1, 2)\n",
    "segments_pls = np.concatenate([points_pls[:-1], points_pls[1:]], axis=1)\n",
    "\n",
    "# Create the line collection object for PLS\n",
    "lc_pls = LineCollection(segments_pls, cmap=cmm, norm=plt.Normalize(0, 1), linewidth=1)\n",
    "lc_pls.set_array(np.linspace(0, 1, len(df_smooth_pls['dim1'])))\n",
    "\n",
    "# Create the outer black line collection for PLS\n",
    "black_lc_pls = LineCollection(segments_pls, colors='black', linewidth=2)\n",
    "\n",
    "# Add the black line collection to the plot for PLS\n",
    "ax.add_collection(black_lc_pls)\n",
    "\n",
    "# Add line collection to the plot for PLS\n",
    "ax.add_collection(lc_pls)\n",
    "ax.autoscale()\n",
    "\n",
    "# Add color bar\n",
    "norm = plt.Normalize(vmin=pcs_pls['age'].min(), vmax=pcs_pls['age'].max())\n",
    "sm = plt.cm.ScalarMappable(cmap=cmf, norm=norm)\n",
    "sm.set_array([])\n",
    "\n",
    "# Create color bar and set ticks\n",
    "cbar = plt.colorbar(sm, ax=ax)\n",
    "cbar.set_label('Behavioral Age')\n",
    "cbar.set_ticks([20, 40, 60, 80])\n",
    "cbar.set_ticklabels([20, 40, 60, 80])\n",
    "ax.set_xlim(xlim_male)\n",
    "ax.set_ylim(ylim_male)\n",
    "\n",
    "sns.despine()\n",
    "plt.show()"
   ]
  },
  {
   "cell_type": "code",
   "execution_count": null,
   "id": "1ea69234",
   "metadata": {},
   "outputs": [],
   "source": [
    "c = PlotConfig()\n",
    "fig.savefig(c.dana_save_path / \"fig2\"/ '07_24_PLS_embedding_female_raw_smooth=2_beh_age.pdf')"
   ]
  }
 ],
 "metadata": {
  "kernelspec": {
   "display_name": "Python 3 (ipykernel)",
   "language": "python",
   "name": "python3"
  },
  "language_info": {
   "codemirror_mode": {
    "name": "ipython",
    "version": 3
   },
   "file_extension": ".py",
   "mimetype": "text/x-python",
   "name": "python",
   "nbconvert_exporter": "python",
   "pygments_lexer": "ipython3",
   "version": "3.10.12"
  }
 },
 "nbformat": 4,
 "nbformat_minor": 5
}
