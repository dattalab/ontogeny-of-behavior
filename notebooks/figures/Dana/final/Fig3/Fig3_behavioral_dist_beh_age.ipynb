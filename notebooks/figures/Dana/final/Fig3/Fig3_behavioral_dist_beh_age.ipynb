{
 "cells": [
  {
   "cell_type": "code",
   "execution_count": null,
   "id": "a77ea523",
   "metadata": {},
   "outputs": [],
   "source": [
    "import numpy as np\n",
    "import pandas as pd\n",
    "import seaborn as sns\n",
    "import matplotlib.pyplot as plt\n",
    "from aging.plotting import format_plots, PlotConfig, save_factory, figure, legend, format_pizza_plots\n",
    "from collections import Counter\n",
    "from matplotlib.lines import Line2D\n",
    "from scipy.stats import zscore"
   ]
  },
  {
   "cell_type": "code",
   "execution_count": null,
   "id": "d1dc615e",
   "metadata": {},
   "outputs": [],
   "source": [
    "import numpy as np\n",
    "import pandas as pd\n",
    "import matplotlib.pyplot as plt\n",
    "import seaborn as sns\n",
    "import colorcet as cc\n",
    "from operator import add\n",
    "from tqdm.auto import tqdm\n",
    "from functools import reduce\n",
    "from sklearn.cluster import KMeans\n",
    "from sklearn.decomposition import PCA\n",
    "from scipy.spatial.distance import squareform, pdist\n",
    "from sklearn.metrics import silhouette_score\n",
    "from aging.plotting import format_plots, figure, save_factory, PlotConfig, legend, add_identity\n",
    "from scipy.cluster.hierarchy import dendrogram, linkage"
   ]
  },
  {
   "cell_type": "code",
   "execution_count": null,
   "id": "86571b2b",
   "metadata": {},
   "outputs": [],
   "source": [
    "def mm_norm_col(column):\n",
    "    return (column - column.min()) / (column.max() - column.min())"
   ]
  },
  {
   "cell_type": "code",
   "execution_count": null,
   "id": "25a26386",
   "metadata": {},
   "outputs": [],
   "source": [
    "from matplotlib.colors import LinearSegmentedColormap\n",
    "colors = ['#c7eae5','#008C8D']\n",
    "custom_cmap = LinearSegmentedColormap.from_list(\"custom_purples\", colors, N=256)\n",
    "cmm=custom_cmap\n",
    "\n",
    "colors = ['#c7eae5','#008C8D']\n",
    "custom_cmap = LinearSegmentedColormap.from_list(\"custom_purples\", colors, N=256)\n",
    "cmm=custom_cmap\n",
    "\n",
    "# Define the color map\n",
    "colors = ['#fee6ce','#d94801']\n",
    "custom_cmap = LinearSegmentedColormap.from_list(\"custom_purples\", colors, N=256)\n",
    "cmf=custom_cmap"
   ]
  },
  {
   "cell_type": "code",
   "execution_count": null,
   "id": "3b206b07",
   "metadata": {},
   "outputs": [],
   "source": [
    "## arrange data\n",
    "keep_syllables = np.loadtxt('to_keep_syllables_raw.txt', dtype=int)\n",
    "\n",
    "male_df = pd.read_parquet('2024-07-29-ontogeny_males_raw_usage_df_beh_age.parquet').astype(float)\n",
    "male_df = male_df[keep_syllables]\n",
    "# for female:# for female:\n",
    "m_df= male_df.groupby(['age','uuid']).mean()"
   ]
  },
  {
   "cell_type": "code",
   "execution_count": null,
   "id": "e37e0ee6",
   "metadata": {},
   "outputs": [],
   "source": [
    "# avarage per age or session\n",
    "m_df = m_df.sort_index(level='age')\n",
    "avg_m_df = m_df.groupby(['age']).mean()\n",
    "\n",
    "# normalize the data\n",
    "m_norm = mm_norm_col(m_df)\n",
    "avg_m_norm = mm_norm_col(avg_m_df)\n",
    "\n",
    "# zscore\n",
    "z_m = m_df.apply(zscore, axis=0)\n",
    "avg_z_m = avg_m_df.apply(zscore, axis=0)\n",
    "\n",
    "# log\n",
    "m_log = np.log(m_df+1e-3)\n",
    "avg_m_log = np.log(avg_m_df+1e-3)\n",
    "\n",
    "# log and z_score\n",
    "z_log = m_log.apply(zscore, axis=0)\n",
    "avg_z_log = avg_m_log.apply(zscore, axis=0)\n",
    "\n",
    "\n",
    "# sort syllable order by the average\n",
    "syll_sort_m = (\n",
    "    avg_m_norm.rolling(5, center=True, win_type=\"exponential\")\n",
    "    .mean(tau=1.5)\n",
    "    .idxmax()\n",
    "    .sort_values()\n",
    "    .index\n",
    ")"
   ]
  },
  {
   "cell_type": "markdown",
   "id": "8eae159f",
   "metadata": {},
   "source": [
    "## heatmaps"
   ]
  },
  {
   "cell_type": "code",
   "execution_count": null,
   "id": "389b46f1",
   "metadata": {},
   "outputs": [],
   "source": [
    "format_plots()"
   ]
  },
  {
   "cell_type": "code",
   "execution_count": null,
   "id": "8386c691",
   "metadata": {},
   "outputs": [],
   "source": [
    "## male heatmap"
   ]
  },
  {
   "cell_type": "code",
   "execution_count": null,
   "id": "317e8369",
   "metadata": {},
   "outputs": [],
   "source": [
    "# get distance\n",
    "data=avg_m_norm # \n",
    "dist_matrix = squareform(pdist(data,metric='cosine'))\n",
    "data_labels=data.index.get_level_values('age').to_numpy()\n",
    "\n",
    "percentiles_up = [95]\n",
    "percentiles_down = [5]\n",
    "#vmax_value = np.percentile(dist_matrix, percentiles_up)\n",
    "#vmin_value = np.percentile(dist_matrix, percentiles_down)\n",
    "vmax_value=0.60556295\n",
    "vmin_value = 0.03662301"
   ]
  },
  {
   "cell_type": "code",
   "execution_count": null,
   "id": "7b6813ad",
   "metadata": {},
   "outputs": [],
   "source": [
    "#colors for plotting\n",
    "cmap2 = cmm\n",
    "ages = np.unique(data_labels)\n",
    "colors = np.int_(np.arange(0, 256, 256/len(ages)))\n",
    "seqmatcolor='magma_r'\n",
    "\n",
    "# create age labels colors\n",
    "lines=[]\n",
    "counter = Counter(data_labels)\n",
    "sorted(counter.items())\n",
    "a=np.array([*counter.values()])\n",
    "\n",
    "color_mat=[]\n",
    "n=0\n",
    "for i,c in enumerate(colors):\n",
    "    for j in range(a[i]):\n",
    "        color_mat.append(cmap2(c))"
   ]
  },
  {
   "cell_type": "code",
   "execution_count": null,
   "id": "ab610888",
   "metadata": {},
   "outputs": [],
   "source": [
    "# plot syllable usage acoss time points\n",
    "cg=sns.clustermap(\n",
    "    data=dist_matrix,\n",
    "    cmap=seqmatcolor, \n",
    "    figsize=(1.3, 1.3),\n",
    "    col_colors=color_mat,\n",
    "    row_colors=color_mat,\n",
    "    cbar_pos=(1.02, 0.025, 0.025, .73),\n",
    "    col_cluster=False,\n",
    "    row_cluster=False,\n",
    "    yticklabels=ages,\n",
    "    xticklabels=ages,\n",
    "    cbar_kws={'label': 'Behavioral distance (cosine)'}, \n",
    "    vmin=vmin_value,\n",
    "    vmax=vmax_value,\n",
    "    rasterized=True,\n",
    "    )\n",
    "cg.ax_row_dendrogram.set_visible(False)\n",
    "# Perform hierarchical clustering\n",
    "col_linkage = linkage(avg_m_df, method='ward')\n",
    "# Add the column dendrogram\n",
    "col_dendrogram_data = dendrogram(col_linkage, ax=cg.ax_col_dendrogram, orientation='top', no_labels=True)\n",
    "cg.ax_col_dendrogram.set_visible(True)\n",
    "ax = cg.ax_heatmap\n",
    "#ax.tick_params(left=False, bottom=False, right=False)\n",
    "ax.set_xlabel('Beh.age (wks)')\n",
    "ax.set_ylabel('Beh.age (wks)')\n",
    "\n",
    "\n",
    "# Desired tick labels\n",
    "desired_ages = [4, 20, 40, 60, 80]\n",
    "# Find the positions of the desired ages\n",
    "tick_positions = [np.where(data_labels == age)[0][0] for age in desired_ages]\n",
    "tick_labels = desired_ages\n",
    "\n",
    "# Set x and y ticks and labels\n",
    "ax.set_xticks(tick_positions)\n",
    "ax.set_xticklabels(tick_labels)\n",
    "ax.set_yticks(tick_positions)\n",
    "ax.set_yticklabels(tick_labels)\n",
    "# legend\n",
    "#for i,c in enumerate(colors):\n",
    "#        lines.append(Line2D([0], [0], color=cmap2(c), lw=2))\n",
    "#plt.legend(handles=lines,labels=list(ages),bbox_to_anchor=(10, 1),loc='upper right',fontsize=6)\n",
    "plt.show()"
   ]
  },
  {
   "cell_type": "code",
   "execution_count": null,
   "id": "3f5afd8d",
   "metadata": {},
   "outputs": [],
   "source": [
    "c = PlotConfig()\n",
    "cg.savefig(c.dana_save_path / \"fig2\"/ '07_24_male_dist_matrix_minmax_cosine_beh_age.pdf')"
   ]
  },
  {
   "cell_type": "code",
   "execution_count": null,
   "id": "5a699e67",
   "metadata": {},
   "outputs": [],
   "source": [
    "## female average"
   ]
  },
  {
   "cell_type": "code",
   "execution_count": null,
   "id": "b08378c7",
   "metadata": {},
   "outputs": [],
   "source": [
    "## arrange data for females\n",
    "keep_syllables = np.loadtxt('to_keep_syllables_raw.txt', dtype=int)\n",
    "\n",
    "female_df = pd.read_parquet('2024-07-29-ontogeny_females_raw_usage_df_beh_age.parquet').astype(float)\n",
    "female_df = female_df[keep_syllables]\n",
    "\n",
    "# for female:\n",
    "f_df= female_df.groupby(['age','uuid']).mean()"
   ]
  },
  {
   "cell_type": "code",
   "execution_count": null,
   "id": "cb3323b9",
   "metadata": {},
   "outputs": [],
   "source": [
    "# avarage per age or session\n",
    "m_df = f_df.sort_index(level='age')\n",
    "avg_m_df = m_df.groupby(['age']).mean()\n",
    "\n",
    "# normalize the data\n",
    "m_norm = mm_norm_col(m_df)\n",
    "avg_m_norm = mm_norm_col(avg_m_df)\n",
    "\n",
    "# zscore\n",
    "z_m = m_df.apply(zscore, axis=0)\n",
    "avg_z_m = avg_m_df.apply(zscore, axis=0)\n",
    "\n",
    "# log\n",
    "m_log = np.log(m_df+1e-3)\n",
    "avg_m_log = np.log(avg_m_df+1e-3)\n",
    "\n",
    "# log and z_score\n",
    "z_log = m_log.apply(zscore, axis=0)\n",
    "avg_z_log = avg_m_log.apply(zscore, axis=0)\n",
    "\n",
    "\n",
    "# sort syllable order by the average\n",
    "syll_sort_m = (\n",
    "    avg_m_norm.rolling(5, center=True, win_type=\"exponential\")\n",
    "    .mean(tau=1.5)\n",
    "    .idxmax()\n",
    "    .sort_values()\n",
    "    .index\n",
    ")"
   ]
  },
  {
   "cell_type": "code",
   "execution_count": null,
   "id": "91bcda5d",
   "metadata": {},
   "outputs": [],
   "source": [
    "# get distance\n",
    "data=avg_m_norm # un-normalized\n",
    "dist_matrix = squareform(pdist(data,metric='cosine'))\n",
    "data_labels=data.index.get_level_values('age').to_numpy()\n",
    "\n",
    "percentiles_up = [95]\n",
    "percentiles_down = [5]\n",
    "#vmax_value = np.percentile(dist_matrix, percentiles_up)\n",
    "#vmin_value = np.percentile(dist_matrix, percentiles_down)"
   ]
  },
  {
   "cell_type": "code",
   "execution_count": null,
   "id": "2240a259",
   "metadata": {},
   "outputs": [],
   "source": [
    "#colors for plotting\n",
    "cmap2 = cmf\n",
    "ages = np.unique(data_labels)\n",
    "colors = np.int_(np.arange(0, 256, 256/len(ages)))\n",
    "seqmatcolor='magma_r'\n",
    "\n",
    "# create age labels colors\n",
    "lines=[]\n",
    "counter = Counter(data_labels)\n",
    "sorted(counter.items())\n",
    "a=np.array([*counter.values()])\n",
    "\n",
    "color_mat=[]\n",
    "n=0\n",
    "for i,c in enumerate(colors):\n",
    "    for j in range(a[i]):\n",
    "        color_mat.append(cmap2(c))"
   ]
  },
  {
   "cell_type": "code",
   "execution_count": null,
   "id": "e3b076f8",
   "metadata": {},
   "outputs": [],
   "source": [
    "# plot syllable usage acoss time points\n",
    "cg=sns.clustermap(\n",
    "    data=dist_matrix,\n",
    "    #data=squareform(pdist(data,metric='cosine')),\n",
    "    cmap=seqmatcolor, \n",
    "    figsize=(1.3, 1.3),\n",
    "    col_colors=color_mat,\n",
    "    row_colors=color_mat,\n",
    "    cbar_pos=(1.02, 0.025, 0.025, .73),\n",
    "    col_cluster=False,\n",
    "    row_cluster=False,\n",
    "    yticklabels=ages,\n",
    "    xticklabels=ages,\n",
    "    cbar_kws={'label': 'Behavioral distance (cosine)'}, \n",
    "    vmin=vmin_value,\n",
    "    vmax=vmax_value,\n",
    "    rasterized=True,\n",
    "    )\n",
    "cg.ax_row_dendrogram.set_visible(False)\n",
    "\n",
    "# Perform hierarchical clustering\n",
    "col_linkage = linkage(avg_m_df, method='ward')\n",
    "# Add the column dendrogram\n",
    "col_dendrogram_data = dendrogram(col_linkage, ax=cg.ax_col_dendrogram, orientation='top', no_labels=True)\n",
    "cg.ax_col_dendrogram.set_visible(True)\n",
    "\n",
    "ax = cg.ax_heatmap\n",
    "#ax.tick_params(left=False, bottom=False, right=False)\n",
    "ax.set_xlabel('Beh.age (wks)')\n",
    "ax.set_ylabel('Beh.age (wks)')\n",
    "\n",
    "\n",
    "# Desired tick labels\n",
    "desired_ages = [4, 20, 40, 60, 80]\n",
    "# Find the positions of the desired ages\n",
    "tick_positions = [np.where(data_labels == age)[0][0] for age in desired_ages]\n",
    "tick_labels = desired_ages\n",
    "\n",
    "# Set x and y ticks and labels\n",
    "ax.set_xticks(tick_positions)\n",
    "ax.set_xticklabels(tick_labels)\n",
    "ax.set_yticks(tick_positions)\n",
    "ax.set_yticklabels(tick_labels)\n",
    "\n",
    "# legend\n",
    "#for i,c in enumerate(colors):\n",
    "#        lines.append(Line2D([0], [0], color=cmap2(c), lw=2))\n",
    "#plt.legend(handles=lines,labels=list(ages),bbox_to_anchor=(10, 1),loc='upper right',fontsize=6)\n",
    "plt.show()"
   ]
  },
  {
   "cell_type": "code",
   "execution_count": null,
   "id": "44dbc59b",
   "metadata": {},
   "outputs": [],
   "source": [
    "c = PlotConfig()\n",
    "cg.savefig(c.dana_save_path / \"fig2\"/ '07_24_female_dist_matrix_minmax_cosine_beh_age.pdf')"
   ]
  }
 ],
 "metadata": {
  "kernelspec": {
   "display_name": "Python 3 (ipykernel)",
   "language": "python",
   "name": "python3"
  },
  "language_info": {
   "codemirror_mode": {
    "name": "ipython",
    "version": 3
   },
   "file_extension": ".py",
   "mimetype": "text/x-python",
   "name": "python",
   "nbconvert_exporter": "python",
   "pygments_lexer": "ipython3",
   "version": "3.10.12"
  }
 },
 "nbformat": 4,
 "nbformat_minor": 5
}
