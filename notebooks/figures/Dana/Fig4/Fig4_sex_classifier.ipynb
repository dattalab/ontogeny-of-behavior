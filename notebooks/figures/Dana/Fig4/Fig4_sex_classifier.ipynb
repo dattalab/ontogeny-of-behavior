{
 "cells": [
  {
   "cell_type": "code",
   "execution_count": null,
   "id": "a77ea523",
   "metadata": {},
   "outputs": [],
   "source": [
    "import numpy as np\n",
    "import pandas as pd\n",
    "import seaborn as sns\n",
    "import matplotlib.pyplot as plt\n",
    "from aging.plotting import format_plots, PlotConfig, save_factory, figure, legend, format_pizza_plots, COLORMAPS\n",
    "from collections import Counter\n",
    "from matplotlib.lines import Line2D\n",
    "from aging.organization.dataframes import load_male_long_df, load_female_long_df, DF_PATHS\n",
    "from tqdm import tqdm"
   ]
  },
  {
   "cell_type": "code",
   "execution_count": null,
   "id": "2855503e",
   "metadata": {},
   "outputs": [],
   "source": [
    "import sklearn.feature_selection as sfs\n",
    "from sklearn.pipeline import Pipeline\n",
    "from sklearn.preprocessing import FunctionTransformer\n",
    "from sklearn.svm import SVC\n",
    "from sklearn.decomposition import PCA\n",
    "from sklearn.model_selection import cross_val_score, StratifiedKFold, LeaveOneOut, RepeatedStratifiedKFold\n",
    "from sklearn.preprocessing import StandardScaler\n",
    "from sklearn.model_selection import cross_val_score, cross_val_predict\n",
    "import random\n",
    "from sklearn.metrics import accuracy_score"
   ]
  },
  {
   "cell_type": "code",
   "execution_count": null,
   "id": "0a49a035",
   "metadata": {},
   "outputs": [],
   "source": [
    "format_plots()\n",
    "#format_pizza_plots()"
   ]
  },
  {
   "cell_type": "code",
   "execution_count": null,
   "id": "9b68b96f",
   "metadata": {},
   "outputs": [],
   "source": [
    "def mm_norm_col(column):\n",
    "    return (column - column.min()) / (column.max() - column.min())"
   ]
  },
  {
   "cell_type": "code",
   "execution_count": null,
   "id": "dbcf364c",
   "metadata": {},
   "outputs": [],
   "source": [
    "# Log transform function\n",
    "def log_transform(x):\n",
    "    return np.log1p(x + 1e-3)"
   ]
  },
  {
   "cell_type": "code",
   "execution_count": null,
   "id": "c24ea0c4",
   "metadata": {},
   "outputs": [],
   "source": [
    "# Create pipeline\n",
    "pipeline = Pipeline([\n",
    "    ('log_transform', FunctionTransformer(log_transform)),\n",
    "    #('scaler', StandardScaler()),\n",
    "    ('pca', PCA(n_components=11)),\n",
    "    #(\"fs\", sfs.SelectKBest(sfs.f_classif, k=50)),\n",
    "    #('svm', SVC(kernel='linear'),\n",
    "    ('svm', SVC(kernel=\"rbf\"),\n",
    "    #('svm', SVC(kernel=\"sigmoid\"),\n",
    "    )\n",
    "])\n",
    "skf = StratifiedKFold(n_splits=5, shuffle=True, random_state=42)\n",
    "rkf = RepeatedStratifiedKFold(n_splits=5, n_repeats=50, random_state=42)\n",
    "loo = LeaveOneOut()"
   ]
  },
  {
   "cell_type": "code",
   "execution_count": null,
   "id": "f25ecab3",
   "metadata": {},
   "outputs": [],
   "source": [
    "cmm = COLORMAPS.ont_male\n",
    "cmf = COLORMAPS.ont_female\n",
    "m_df = load_male_long_df(average_weeks=False, merge_size=False, merge_ages=True, df_path=DF_PATHS.usage_male).groupby(['age','mouse']).mean()\n",
    "f_df = load_female_long_df(average_weeks=False, merge_size=False, filter_female=True, merge_ages=True, df_path=DF_PATHS.usage_female).groupby(['age','mouse']).mean()\n",
    "m_df['sex'] = 'm'\n",
    "m_df.set_index('sex', inplace = True, append=True)\n",
    "f_df['sex'] = 'f'\n",
    "f_df.set_index('sex', inplace = True, append=True)\n",
    "\n",
    "# Combine male and female data into a single DataFrame\n",
    "combined_df = pd.concat([m_df, f_df])\n",
    "#combined_df.set_index('sex', inplace=True, append=True)"
   ]
  },
  {
   "cell_type": "code",
   "execution_count": null,
   "id": "84f34d12",
   "metadata": {},
   "outputs": [],
   "source": [
    "# take only first sample from each week\n",
    "df = combined_df.copy()\n",
    "ages= df.index.get_level_values('age')\n",
    "weeks = (ages * 7) // 14\n",
    "df['binned_age'] = weeks\n",
    "\n",
    "sample = df.groupby(['mouse','binned_age','sex']).mean().reset_index()\n",
    "df = sample.copy()\n",
    "df.rename(columns={'binned_age': 'age'}, inplace=True)\n",
    "df.set_index(['age', 'mouse','sex'], inplace=True)"
   ]
  },
  {
   "cell_type": "code",
   "execution_count": null,
   "id": "c58fa838",
   "metadata": {},
   "outputs": [],
   "source": [
    "#number of iterations for shuffle\n",
    "it=100"
   ]
  },
  {
   "cell_type": "code",
   "execution_count": null,
   "id": "e34838f6",
   "metadata": {},
   "outputs": [],
   "source": [
    "age2=[]\n",
    "acc=[]\n",
    "n=10\n",
    "#n=16\n",
    "for i in tqdm(range(it)):\n",
    "    temp = df.groupby(level=['age', 'sex']).apply(lambda x: x.sample(n=n,replace=False, random_state=i)).reset_index(level=[0, 1],drop=True)\n",
    "    for age,_df in enumerate(temp.groupby('age')):\n",
    "        age2.append(_df[0])\n",
    "        x = _df[1].to_numpy()\n",
    "        y=_df[1].index.get_level_values('sex')\n",
    "        acc.append(np.mean(cross_val_score(pipeline, x, y, cv=rkf, n_jobs=-1)))"
   ]
  },
  {
   "cell_type": "code",
   "execution_count": null,
   "id": "bbd353f4",
   "metadata": {},
   "outputs": [],
   "source": [
    "np.mean(acc)"
   ]
  },
  {
   "cell_type": "code",
   "execution_count": null,
   "id": "4daa8e46",
   "metadata": {},
   "outputs": [],
   "source": [
    "sh_ages=[]\n",
    "sh_acc=[]\n",
    "\n",
    "for i in tqdm(range(it)):\n",
    "    temp = df.groupby(level=['age', 'sex']).apply(lambda x: x.sample(n=n,replace=False, random_state=i)).reset_index(level=[0, 1],drop=True)\n",
    "    for age,_df in enumerate(temp.groupby('age')):\n",
    "        sh_ages.append(_df[0])\n",
    "        x = _df[1].to_numpy()\n",
    "        y=_df[1].index.get_level_values('sex')\n",
    "        y = y.to_series().sample(frac=1, random_state=i).values\n",
    "        sh_acc.append(np.mean(cross_val_score(pipeline, x, y, cv=rkf, n_jobs=-1)))"
   ]
  },
  {
   "cell_type": "code",
   "execution_count": null,
   "id": "bec247d3",
   "metadata": {},
   "outputs": [],
   "source": [
    "# create df for plotting\n",
    "df_sh = pd.DataFrame()\n",
    "df_sh['acc']=sh_acc\n",
    "df_sh['ages'] = sh_ages\n",
    "\n",
    "df = pd.DataFrame()\n",
    "df['acc']=acc\n",
    "df['ages'] = age2"
   ]
  },
  {
   "cell_type": "code",
   "execution_count": null,
   "id": "e37582c9",
   "metadata": {},
   "outputs": [],
   "source": [
    "fig, ax = plt.subplots(figsize=(1, 1))\n",
    "sns.lineplot(data=df_sh, x=\"ages\", y=\"acc\", ax=ax, color='black', estimator='mean', errorbar=('sd', 1))\n",
    "sns.lineplot(data=df, x=\"ages\", y=\"acc\", ax=ax, color='purple', estimator='mean', errorbar=('sd', 1))\n",
    "plt.ylim([0.0,1])\n",
    "plt.legend([],[], frameon=False)\n",
    "# Set custom x-ticks\n",
    "#plt.xticks([2,5,10,15,20,25,30,35,])\n",
    "sns.despine()"
   ]
  },
  {
   "cell_type": "code",
   "execution_count": null,
   "id": "469f8e4d",
   "metadata": {},
   "outputs": [],
   "source": [
    "c = PlotConfig()\n",
    "fig.savefig(c.dana_save_path / \"fig3\"/ '07_28_fvm_sex_decoder_line.pdf', bbox_inches='tight')"
   ]
  }
 ],
 "metadata": {
  "kernelspec": {
   "display_name": "Python 3 (ipykernel)",
   "language": "python",
   "name": "python3"
  },
  "language_info": {
   "codemirror_mode": {
    "name": "ipython",
    "version": 3
   },
   "file_extension": ".py",
   "mimetype": "text/x-python",
   "name": "python",
   "nbconvert_exporter": "python",
   "pygments_lexer": "ipython3",
   "version": "3.10.12"
  }
 },
 "nbformat": 4,
 "nbformat_minor": 5
}
