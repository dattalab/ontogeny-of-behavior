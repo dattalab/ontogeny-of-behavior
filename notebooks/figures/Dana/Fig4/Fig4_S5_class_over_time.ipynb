{
 "cells": [
  {
   "cell_type": "code",
   "execution_count": null,
   "id": "fea1ffa2-cd9f-4be6-9b9e-1d1a11723968",
   "metadata": {},
   "outputs": [],
   "source": [
    "import numpy as np\n",
    "import pandas as pd\n",
    "import seaborn as sns\n",
    "import matplotlib.pyplot as plt\n",
    "from aging.plotting import format_plots, PlotConfig, save_factory, figure, legend, format_pizza_plots, COLORMAPS\n",
    "from collections import Counter\n",
    "from matplotlib.lines import Line2D\n",
    "from aging.organization.dataframes import load_male_long_df, load_female_long_df, DF_PATHS\n",
    "from tqdm import tqdm"
   ]
  },
  {
   "cell_type": "code",
   "execution_count": null,
   "id": "cceefc08-847a-4bbd-87ba-8316b3b391f2",
   "metadata": {},
   "outputs": [],
   "source": [
    "format_plots()\n",
    "c = PlotConfig()"
   ]
  },
  {
   "cell_type": "code",
   "execution_count": null,
   "id": "7cf85ad7-c039-4fee-b9fc-32bda75ae628",
   "metadata": {},
   "outputs": [],
   "source": [
    "def minmax(df):\n",
    "    df = df - df.min()\n",
    "    return df / df.max()\n",
    "\n",
    "def mm_norm_col(column):\n",
    "    return (column - column.min()) / (column.max() - column.min())"
   ]
  },
  {
   "cell_type": "code",
   "execution_count": null,
   "id": "7d3e96f3",
   "metadata": {},
   "outputs": [],
   "source": [
    "cmm = COLORMAPS.ont_male\n",
    "cmf = COLORMAPS.ont_female\n",
    "m_df = load_male_long_df(average_weeks=True, merge_size=False, merge_ages=True, df_path=DF_PATHS.usage_male).groupby(['age','mouse']).mean()\n",
    "f_df = load_female_long_df(average_weeks=True, merge_size=False, filter_female=True, merge_ages=True, df_path=DF_PATHS.usage_female).groupby(['age','mouse']).mean()"
   ]
  },
  {
   "cell_type": "code",
   "execution_count": null,
   "id": "51152f0f",
   "metadata": {},
   "outputs": [],
   "source": [
    "df = m_df.copy()"
   ]
  },
  {
   "cell_type": "code",
   "execution_count": null,
   "id": "1ce8f9be",
   "metadata": {},
   "outputs": [],
   "source": [
    "# upload syllable classes\n",
    "syllable_classes = pd.read_csv('./v11_syllable_labels_v3.csv')\n",
    "id_map = syllable_classes.set_index('Original ID')['Class']\n",
    "class_sort = [id_map[k] for k in df.columns]"
   ]
  },
  {
   "cell_type": "code",
   "execution_count": null,
   "id": "a3714472-6e59-4527-9f19-c847091e5db7",
   "metadata": {},
   "outputs": [],
   "source": [
    "class_avgs = {}\n",
    "class_norm_avgs = {}\n",
    "for _class, _df in df.T.groupby(class_sort):\n",
    "    avgs = _df.T.groupby('age').mean()\n",
    "    class_avgs[_class] = avgs.mean(1)\n",
    "\n",
    "    norm_avgs = minmax(avgs)\n",
    "\n",
    "    peaks = (\n",
    "        norm_avgs.rolling(7, min_periods=1, center=True, win_type=\"exponential\")\n",
    "        .mean(tau=3)\n",
    "        .idxmax()\n",
    "    )\n",
    "    peaks = peaks.sort_values()\n",
    "    class_norm_avgs[_class] = norm_avgs.mean(1)\n",
    "\n",
    "    ages = avgs.index\n",
    "\n",
    "    #fig = figure(1, 0.075 * avgs.shape[1])\n",
    "    fig, ax = plt.subplots(figsize=(1, 0.075 * avgs.shape[1]))\n",
    "    #plt.imshow(norm_avgs[peaks.index].T, cmap='cubehelix', extent=(ages[0], ages[-1], avgs.shape[1], 0), aspect='auto')\n",
    "    sns.heatmap(norm_avgs[peaks.index].T, cmap='cubehelix')\n",
    "    plt.title(_class)\n",
    "    #plt.colorbar(label=\"Normalized usage\")\n",
    "    desired_ticks = [5, 15, 25, 35, 45]\n",
    "    ax.set_xticks([x - 0.5 for x in desired_ticks])  # Adjust for center alignment\n",
    "    ax.set_xticklabels(desired_ticks)\n",
    "    plt.yticks([])\n",
    "    plt.xlabel(\"Chron. age (wks)\")\n",
    "    #sns.despine()\n",
    "    plt.gcf().set_rasterized(False)\n",
    "    fig.savefig(c.dana_save_path / \"fig3\"/ f'male_class-{_class}.pdf')\n",
    "    "
   ]
  },
  {
   "cell_type": "code",
   "execution_count": null,
   "id": "78d3180c-72ac-4a8a-bd39-44e517afee5d",
   "metadata": {},
   "outputs": [],
   "source": [
    "class_df = pd.DataFrame(class_norm_avgs)\n",
    "peaks = (\n",
    "    class_df.rolling(7, min_periods=1, center=True, win_type=\"exponential\")\n",
    "    .mean(tau=3)\n",
    "    .idxmax()\n",
    ")\n",
    "peaks = peaks.sort_values()"
   ]
  },
  {
   "cell_type": "code",
   "execution_count": null,
   "id": "91c4a537",
   "metadata": {},
   "outputs": [],
   "source": [
    "col_order = ['Pause', 'Scrunch', 'Groom', 'Rear down','Rear up','Run','Investigate','Walk']\n",
    "class_df_new = class_df.reindex(columns=col_order)"
   ]
  },
  {
   "cell_type": "code",
   "execution_count": null,
   "id": "8390e277",
   "metadata": {},
   "outputs": [],
   "source": [
    "format_plots()\n",
    "fig, ax = plt.subplots(figsize=(1.3, 1.3))\n",
    "sns.heatmap(class_df_new.T, cmap='cubehelix', vmax=1, cbar_kws=dict(label='Normalized usage'))\n",
    "plt.xlabel(\"Chron. age (wks)\")\n",
    "# Set specific x-ticks and labels\n",
    "desired_ticks = [5, 15, 25, 35, 45]\n",
    "ax.set_xticks([x - 0.5 for x in desired_ticks])  # Adjust for center alignment\n",
    "ax.set_xticklabels(desired_ticks)"
   ]
  },
  {
   "cell_type": "code",
   "execution_count": null,
   "id": "4dc016b5",
   "metadata": {},
   "outputs": [],
   "source": [
    "c = PlotConfig()\n",
    "fig.savefig(c.dana_save_path / \"fig3\"/ 'male_syll_clusters_avg.pdf')"
   ]
  },
  {
   "cell_type": "code",
   "execution_count": null,
   "id": "2a35e93b",
   "metadata": {},
   "outputs": [],
   "source": [
    "df = f_df.copy()"
   ]
  },
  {
   "cell_type": "code",
   "execution_count": null,
   "id": "82022d21",
   "metadata": {},
   "outputs": [],
   "source": [
    "class_avgs = {}\n",
    "class_norm_avgs = {}\n",
    "for _class, _df in df.T.groupby(class_sort):\n",
    "    avgs = _df.T.groupby('age').mean()\n",
    "    class_avgs[_class] = avgs.mean(1)\n",
    "\n",
    "    norm_avgs = minmax(avgs)\n",
    "\n",
    "    peaks = (\n",
    "        norm_avgs.rolling(7, min_periods=1, center=True, win_type=\"exponential\")\n",
    "        .mean(tau=3)\n",
    "        .idxmax()\n",
    "    )\n",
    "    peaks = peaks.sort_values()\n",
    "    class_norm_avgs[_class] = norm_avgs.mean(1)\n",
    "\n",
    "    ages = avgs.index\n",
    "\n",
    "    #fig = figure(1, 0.075 * avgs.shape[1])\n",
    "    fig, ax = plt.subplots(figsize=(1, 0.075 * avgs.shape[1]))\n",
    "    #plt.imshow(norm_avgs[peaks.index].T, cmap='cubehelix', extent=(ages[0], ages[-1], avgs.shape[1], 0), aspect='auto')\n",
    "    sns.heatmap(norm_avgs[peaks.index].T, cmap='cubehelix')\n",
    "    plt.title(_class)\n",
    "    #plt.colorbar(label=\"Normalized usage\")\n",
    "    desired_ticks = [5, 15, 25, 35, 45]\n",
    "    ax.set_xticks([x - 0.5 for x in desired_ticks])  # Adjust for center alignment\n",
    "    ax.set_xticklabels(desired_ticks)\n",
    "    plt.yticks([])\n",
    "    plt.xlabel(\"Chron. age (wks)\")\n",
    "    #sns.despine()\n",
    "    plt.gcf().set_rasterized(False)\n",
    "    fig.savefig(c.dana_save_path / \"fig3\"/ f'female_class-{_class}.pdf')\n",
    "    "
   ]
  },
  {
   "cell_type": "code",
   "execution_count": null,
   "id": "56f5174f",
   "metadata": {},
   "outputs": [],
   "source": [
    "class_df = pd.DataFrame(class_norm_avgs)\n",
    "peaks = (\n",
    "    class_df.rolling(7, min_periods=1, center=True, win_type=\"exponential\")\n",
    "    .mean(tau=3)\n",
    "    .idxmax()\n",
    ")\n",
    "peaks = peaks.sort_values()"
   ]
  },
  {
   "cell_type": "code",
   "execution_count": null,
   "id": "a6ca48c0",
   "metadata": {},
   "outputs": [],
   "source": [
    "col_order = ['Pause', 'Scrunch', 'Groom', 'Rear down','Rear up','Run','Investigate','Walk']\n",
    "class_df_new = class_df.reindex(columns=col_order)"
   ]
  },
  {
   "cell_type": "code",
   "execution_count": null,
   "id": "64273bd9",
   "metadata": {},
   "outputs": [],
   "source": [
    "format_plots()\n",
    "fig, ax = plt.subplots(figsize=(1.3, 1.3))\n",
    "sns.heatmap(class_df_new.T, cmap='cubehelix', vmax=1, cbar_kws=dict(label='Normalized usage'))\n",
    "plt.xlabel(\"Chron. age (wks)\")\n",
    "# Set specific x-ticks and labels\n",
    "desired_ticks = [5, 15, 25, 35, 45]\n",
    "ax.set_xticks([x - 0.5 for x in desired_ticks])  # Adjust for center alignment\n",
    "ax.set_xticklabels(desired_ticks)"
   ]
  },
  {
   "cell_type": "code",
   "execution_count": null,
   "id": "ba9237d5",
   "metadata": {},
   "outputs": [],
   "source": [
    "c = PlotConfig()\n",
    "fig.savefig(c.dana_save_path / \"fig3\"/ 'female_syll_clusters_avg.pdf')"
   ]
  }
 ],
 "metadata": {
  "kernelspec": {
   "display_name": "Python 3 (ipykernel)",
   "language": "python",
   "name": "python3"
  },
  "language_info": {
   "codemirror_mode": {
    "name": "ipython",
    "version": 3
   },
   "file_extension": ".py",
   "mimetype": "text/x-python",
   "name": "python",
   "nbconvert_exporter": "python",
   "pygments_lexer": "ipython3",
   "version": "3.10.12"
  },
  "widgets": {
   "application/vnd.jupyter.widget-state+json": {
    "state": {},
    "version_major": 2,
    "version_minor": 0
   }
  }
 },
 "nbformat": 4,
 "nbformat_minor": 5
}
