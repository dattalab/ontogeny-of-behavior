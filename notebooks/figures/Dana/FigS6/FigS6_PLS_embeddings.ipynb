{
 "cells": [
  {
   "cell_type": "code",
   "execution_count": null,
   "id": "a77ea523",
   "metadata": {},
   "outputs": [],
   "source": [
    "import numpy as np\n",
    "import pandas as pd\n",
    "import seaborn as sns\n",
    "import matplotlib.pyplot as plt\n",
    "from aging.plotting import format_plots, PlotConfig, save_factory, figure, legend, format_pizza_plots, COLORMAPS\n",
    "from collections import Counter\n",
    "from matplotlib.lines import Line2D\n",
    "from aging.organization.dataframes import load_male_long_df, load_female_long_df, DF_PATHS\n",
    "from tqdm import tqdm\n",
    "from matplotlib.colors import Normalize"
   ]
  },
  {
   "cell_type": "code",
   "execution_count": null,
   "id": "b776003f",
   "metadata": {},
   "outputs": [],
   "source": [
    "from sklearn.cross_decomposition import PLSRegression\n",
    "import umap\n",
    "import matplotlib.pyplot as plt\n",
    "import seaborn as sns\n",
    "from matplotlib.collections import LineCollection"
   ]
  },
  {
   "cell_type": "code",
   "execution_count": null,
   "id": "86571b2b",
   "metadata": {},
   "outputs": [],
   "source": [
    "def mm_norm_col(column):\n",
    "    return (column - column.min()) / (column.max() - column.min())"
   ]
  },
  {
   "cell_type": "code",
   "execution_count": null,
   "id": "b43685f1",
   "metadata": {},
   "outputs": [],
   "source": [
    "def pgl(df, ax, cmm):\n",
    "    age_pc_pls = df.groupby('age').mean()\n",
    "    # Convert to DataFrame for easier rolling operation\n",
    "    df_pls = pd.DataFrame(age_pc_pls)\n",
    "\n",
    "    # Apply rolling window average for PLS\n",
    "    window_size = 2  # Adjust the window size as needed\n",
    "    df_smooth_pls = df_pls.rolling(window=window_size, min_periods=1, center=True).mean()\n",
    "\n",
    "    # Create segments for LineCollection from the smoothed data for PLS\n",
    "    points_pls = np.array([df_smooth_pls['dim1'], df_smooth_pls['dim2']]).T.reshape(-1, 1, 2)\n",
    "    segments_pls = np.concatenate([points_pls[:-1], points_pls[1:]], axis=1)\n",
    "\n",
    "    # Create the line collection object for PLS\n",
    "    lc_pls = LineCollection(segments_pls, cmap=cmm, norm=plt.Normalize(0, 1), linewidth=1)\n",
    "    lc_pls.set_array(np.linspace(0, 1, len(df_smooth_pls['dim1'])))\n",
    "\n",
    "    # Create the outer black line collection for PLS\n",
    "    black_lc_pls = LineCollection(segments_pls, colors='black', linewidth=2)\n",
    "\n",
    "    # Add the black line collection to the plot for PLS\n",
    "    ax.add_collection(black_lc_pls)\n",
    "\n",
    "    # Add line collection to the plot for PLS\n",
    "    ax.add_collection(lc_pls)\n",
    "    ax.autoscale()"
   ]
  },
  {
   "cell_type": "code",
   "execution_count": null,
   "id": "389b46f1",
   "metadata": {},
   "outputs": [],
   "source": [
    "format_plots()"
   ]
  },
  {
   "cell_type": "code",
   "execution_count": null,
   "id": "deb6fbae",
   "metadata": {},
   "outputs": [],
   "source": [
    "cmm = COLORMAPS.ont_male\n",
    "cmf = COLORMAPS.ont_female\n",
    "m_df = pd.read_parquet('2024-07-30-longtogeny_v2_males_raw_usage_df_beh_age.parquet').groupby(['age','mouse']).mean()\n",
    "f_df =  pd.read_parquet('2024-07-30-longtogeny_v2_females_raw_usage_df_beh_age.parquet').groupby(['age','mouse']).mean()\n",
    "f_df = f_df.query('mouse!=\"F4_03\"')\n",
    "m_df['sex'] = 'm'\n",
    "m_df.set_index('sex', inplace = True, append=True)\n",
    "f_df['sex'] = 'f'\n",
    "f_df.set_index('sex', inplace = True, append=True)\n",
    "\n",
    "# Combine male and female data into a single DataFrame\n",
    "combined_df = pd.concat([m_df, f_df])"
   ]
  },
  {
   "cell_type": "markdown",
   "id": "8eae159f",
   "metadata": {},
   "source": [
    "## PLS regression"
   ]
  },
  {
   "cell_type": "code",
   "execution_count": null,
   "id": "9b6c14de",
   "metadata": {},
   "outputs": [],
   "source": [
    "#df = m_norm.copy()\n",
    "df=m_df.copy()\n",
    "\n",
    "# Perform PLS Regression Embedding\n",
    "pls = PLSRegression(n_components=2)\n",
    "X = df.values\n",
    "y = df.index.get_level_values('age').values\n",
    "pls_result = pls.fit_transform(X, y)[0]\n",
    "\n",
    "pcs_pls = pd.DataFrame(pls_result, columns=['dim1', 'dim2'])\n",
    "pcs_pls['age'] = y\n",
    "age_pc_pls = pcs_pls.groupby('age').mean()\n",
    "\n",
    "\n",
    "## plot\n",
    "## Plotting PLS Regression Embedding\n",
    "fig, ax = plt.subplots(figsize=(1.6,1.3))\n",
    "sns.scatterplot(data=pcs_pls, x='dim1', y='dim2', hue='age', palette=cmm, legend=False, s=6, edgecolor='none', ax=ax)\n",
    "pgl(age_pc_pls, ax, cmm)\n",
    "\n",
    "\n",
    "# Add color bar\n",
    "norm = plt.Normalize(vmin=pcs_pls['age'].min(), vmax=pcs_pls['age'].max())\n",
    "sm = plt.cm.ScalarMappable(cmap=cmm, norm=norm)\n",
    "sm.set_array([])\n",
    "\n",
    "# Create color bar and set ticks\n",
    "cbar = plt.colorbar(sm, ax=ax)\n",
    "cbar.set_label('Chron. age')\n",
    "cbar.set_ticks([5, 15, 25, 35, 45])\n",
    "cbar.set_ticks([5, 15, 25, 35, 45])\n",
    "\n",
    "sns.despine()\n",
    "plt.show()"
   ]
  },
  {
   "cell_type": "code",
   "execution_count": null,
   "id": "3f5afd8d",
   "metadata": {},
   "outputs": [],
   "source": [
    "c = PlotConfig()\n",
    "fig.savefig(c.dana_save_path / \"fig4\"/ '07_31_PLS_embedding_male_raw_beh_age.pdf')"
   ]
  },
  {
   "cell_type": "markdown",
   "id": "2fa95858",
   "metadata": {},
   "source": [
    "## PLS regression"
   ]
  },
  {
   "cell_type": "code",
   "execution_count": null,
   "id": "7b0f658e",
   "metadata": {},
   "outputs": [],
   "source": [
    "#df = m_norm.copy()\n",
    "cmm=cmf\n",
    "df=f_df.copy()\n",
    "\n",
    "# Perform PLS Regression Embedding\n",
    "pls = PLSRegression(n_components=2)\n",
    "X = df.values\n",
    "y = df.index.get_level_values('age').values\n",
    "pls_result = pls.fit_transform(X, y)[0]\n",
    "\n",
    "pcs_pls = pd.DataFrame(pls_result, columns=['dim1', 'dim2'])\n",
    "pcs_pls['age'] = y\n",
    "age_pc_pls = pcs_pls.groupby('age').mean()\n",
    "\n",
    "\n",
    "## plot\n",
    "## Plotting PLS Regression Embedding\n",
    "fig, ax = plt.subplots(figsize=(1.6,1.3))\n",
    "sns.scatterplot(data=pcs_pls, x='dim1', y='dim2', hue='age', palette=cmm, legend=False, s=6, edgecolor='none', ax=ax)\n",
    "pgl(age_pc_pls, ax, cmf)\n",
    "\n",
    "# Add color bar\n",
    "norm = plt.Normalize(vmin=pcs_pls['age'].min(), vmax=pcs_pls['age'].max())\n",
    "sm = plt.cm.ScalarMappable(cmap=cmf, norm=norm)\n",
    "sm.set_array([])\n",
    "\n",
    "# Create color bar and set ticks\n",
    "cbar = plt.colorbar(sm, ax=ax)\n",
    "cbar.set_label('Chron. age')\n",
    "cbar.set_ticks([5, 15, 25, 35, 45])\n",
    "cbar.set_ticks([5, 15, 25, 35, 45])\n",
    "\n",
    "sns.despine()\n",
    "plt.show()"
   ]
  },
  {
   "cell_type": "code",
   "execution_count": null,
   "id": "0d7beaf5",
   "metadata": {},
   "outputs": [],
   "source": [
    "c = PlotConfig()\n",
    "fig.savefig(c.dana_save_path / \"fig4\"/ '07_31_PLS_embedding_female_raw_beh_age.pdf')"
   ]
  },
  {
   "cell_type": "code",
   "execution_count": null,
   "id": "c64fb3f5",
   "metadata": {},
   "outputs": [],
   "source": [
    "## joint plotting"
   ]
  },
  {
   "cell_type": "code",
   "execution_count": null,
   "id": "069e31d3",
   "metadata": {},
   "outputs": [],
   "source": [
    "#df = m_norm.copy()\n",
    "df=combined_df.copy()\n",
    "cmm = COLORMAPS.ont_male\n",
    "cmf = COLORMAPS.ont_female"
   ]
  },
  {
   "cell_type": "code",
   "execution_count": null,
   "id": "b4355c5f",
   "metadata": {},
   "outputs": [],
   "source": [
    "# Perform PLS Regression Embedding\n",
    "pls = PLSRegression(n_components=2)\n",
    "X = df.values\n",
    "y = df.index.get_level_values('age').values\n",
    "pls_result = pls.fit_transform(X, y)[0]\n",
    "\n",
    "pcs_pls = pd.DataFrame(pls_result, columns=['dim1', 'dim2'])\n",
    "pcs_pls['age'] = y\n",
    "pcs_pls['sex'] = df.index.get_level_values('sex')\n",
    "\n",
    "fig, ax = plt.subplots(figsize=(1.3,1.3))\n",
    "\n",
    "#get and plot the male data\n",
    "pcs_male = pcs_pls.query('sex==\"m\"').drop(columns=['sex'])\n",
    "sns.scatterplot(data=pcs_male, x='dim1', y='dim2', hue='age', palette=cmm, legend=False, s=6, edgecolor='none', ax=ax)\n",
    "pgl(pcs_male, ax, cmm)\n",
    "\n",
    "\n",
    "# Add color bar for male data\n",
    "norm_male = Normalize(vmin=pcs_male['age'].min(), vmax=pcs_male['age'].max())\n",
    "sm_male = plt.cm.ScalarMappable(cmap=cmm, norm=norm_male)\n",
    "sm_male.set_array([])\n",
    "\n",
    "# Position color bar for male data\n",
    "cbar_ax_male = fig.add_axes([0.95, 0.1, 0.03, 0.80])  # [left, bottom, width, height]\n",
    "cbar_male = fig.colorbar(sm_male, cax=cbar_ax_male)\n",
    "cbar_male.set_ticks([5, 15, 25, 35, 45])\n",
    "cbar_male.set_ticklabels([5, 15, 25, 35, 45])\n",
    "\n",
    "#get and plot the female data\n",
    "pcs_female = pcs_pls.query('sex==\"f\"').drop(columns=['sex'])\n",
    "sns.scatterplot(data=pcs_female, x='dim1', y='dim2', hue='age', palette=cmf, legend=False, s=6, edgecolor='none', ax=ax)\n",
    "pgl(pcs_female, ax, cmf)\n",
    "\n",
    "# Add color bar for female data\n",
    "norm_female = Normalize(vmin=pcs_female['age'].min(), vmax=pcs_female['age'].max())\n",
    "sm_female = plt.cm.ScalarMappable(cmap=cmf, norm=norm_female)\n",
    "sm_female.set_array([])\n",
    "\n",
    "# Position color bar for female data\n",
    "cbar_ax_female = fig.add_axes([0.85, 0.1, 0.03, 0.80])  # [left, bottom, width, height]\n",
    "cbar_female = fig.colorbar(sm_female, cax=cbar_ax_female)\n",
    "cbar_female.set_ticks([5, 15, 25, 35, 45])\n",
    "cbar_female.set_ticklabels([5, 15, 25, 35, 45])\n",
    "\n",
    "sns.despine()\n",
    "plt.show()"
   ]
  },
  {
   "cell_type": "code",
   "execution_count": null,
   "id": "423d86e9",
   "metadata": {},
   "outputs": [],
   "source": [
    "c = PlotConfig()\n",
    "fig.savefig(c.dana_save_path / \"fig4\"/ '07_31_PLS_regression_fvm_beh_age.pdf')"
   ]
  }
 ],
 "metadata": {
  "kernelspec": {
   "display_name": "Python 3 (ipykernel)",
   "language": "python",
   "name": "python3"
  },
  "language_info": {
   "codemirror_mode": {
    "name": "ipython",
    "version": 3
   },
   "file_extension": ".py",
   "mimetype": "text/x-python",
   "name": "python",
   "nbconvert_exporter": "python",
   "pygments_lexer": "ipython3",
   "version": "3.10.12"
  }
 },
 "nbformat": 4,
 "nbformat_minor": 5
}
