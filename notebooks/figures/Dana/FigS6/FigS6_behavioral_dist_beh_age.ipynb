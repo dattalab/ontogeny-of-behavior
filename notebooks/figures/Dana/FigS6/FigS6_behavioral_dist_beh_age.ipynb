{
 "cells": [
  {
   "cell_type": "code",
   "execution_count": null,
   "id": "a77ea523",
   "metadata": {},
   "outputs": [],
   "source": [
    "import numpy as np\n",
    "import pandas as pd\n",
    "import matplotlib.pyplot as plt\n",
    "import seaborn as sns\n",
    "from pathlib import Path\n",
    "import matplotlib as mpl\n",
    "from aging.plotting import format_plots, PlotConfig, save_factory, figure, legend, format_pizza_plots, COLORMAPS\n",
    "from collections import Counter\n",
    "from matplotlib.lines import Line2D\n",
    "from aging.organization.dataframes import load_male_long_df, load_female_long_df, DF_PATHS\n",
    "from tqdm import tqdm"
   ]
  },
  {
   "cell_type": "code",
   "execution_count": null,
   "id": "d1dc615e",
   "metadata": {},
   "outputs": [],
   "source": [
    "import numpy as np\n",
    "import pandas as pd\n",
    "import matplotlib.pyplot as plt\n",
    "import seaborn as sns\n",
    "import colorcet as cc\n",
    "from operator import add\n",
    "from tqdm.auto import tqdm\n",
    "from functools import reduce\n",
    "from sklearn.cluster import KMeans\n",
    "from sklearn.decomposition import PCA\n",
    "from scipy.spatial.distance import squareform, pdist\n",
    "from sklearn.metrics import silhouette_score\n",
    "from aging.plotting import format_plots, figure, save_factory, PlotConfig, legend, add_identity"
   ]
  },
  {
   "cell_type": "code",
   "execution_count": null,
   "id": "86571b2b",
   "metadata": {},
   "outputs": [],
   "source": [
    "def mm_norm_col(column):\n",
    "    return (column - column.min()) / (column.max() - column.min())"
   ]
  },
  {
   "cell_type": "code",
   "execution_count": null,
   "id": "c4feedbb",
   "metadata": {},
   "outputs": [],
   "source": [
    "cmm = COLORMAPS.ont_male\n",
    "cmf = COLORMAPS.ont_female\n",
    "\n",
    "m_df = pd.read_parquet('2024-07-30-longtogeny_v2_males_raw_usage_df_beh_age.parquet').groupby(['age','mouse']).mean()\n",
    "f_df =  pd.read_parquet('2024-07-30-longtogeny_v2_females_raw_usage_df_beh_age.parquet').groupby(['age','mouse']).mean()\n",
    "f_df = f_df.query('mouse!=\"F4_03\"')"
   ]
  },
  {
   "cell_type": "markdown",
   "id": "8eae159f",
   "metadata": {},
   "source": [
    "## heatmaps"
   ]
  },
  {
   "cell_type": "code",
   "execution_count": null,
   "id": "0fb5f29b",
   "metadata": {},
   "outputs": [],
   "source": [
    "# avarage per age or session\n",
    "avg_m_df = m_df.groupby(['age']).mean()\n",
    "avg_f_df = f_df.groupby(['age']).mean()\n",
    "\n",
    "# normalize the data\n",
    "m_norm = mm_norm_col(m_df)\n",
    "avg_m_norm = mm_norm_col(avg_m_df)\n",
    "\n",
    "# normalize the data\n",
    "f_norm = mm_norm_col(f_df)\n",
    "avg_f_norm = mm_norm_col(avg_f_df)\n"
   ]
  },
  {
   "cell_type": "code",
   "execution_count": null,
   "id": "389b46f1",
   "metadata": {},
   "outputs": [],
   "source": [
    "format_plots()"
   ]
  },
  {
   "cell_type": "code",
   "execution_count": null,
   "id": "8386c691",
   "metadata": {},
   "outputs": [],
   "source": [
    "## male heatmap average"
   ]
  },
  {
   "cell_type": "code",
   "execution_count": null,
   "id": "317e8369",
   "metadata": {},
   "outputs": [],
   "source": [
    "# get distance\n",
    "data=avg_m_norm # un-normalized\n",
    "dist_matrix = squareform(pdist(data,metric='cosine'))\n",
    "data_labels=data.index.get_level_values('age').to_numpy()\n",
    "\n",
    "percentiles_up = [95]\n",
    "percentiles_down = [5]\n",
    "#vmax_value = np.percentile(dist_matrix, percentiles_up)\n",
    "#vmin_value = np.percentile(dist_matrix, percentiles_down)\n",
    "\n",
    "vmax_value = 0.57430365\n",
    "vmin_value = 0.02377485"
   ]
  },
  {
   "cell_type": "code",
   "execution_count": null,
   "id": "17ab106c",
   "metadata": {},
   "outputs": [],
   "source": [
    "print(vmax_value)\n",
    "print(vmin_value)"
   ]
  },
  {
   "cell_type": "code",
   "execution_count": null,
   "id": "7b6813ad",
   "metadata": {},
   "outputs": [],
   "source": [
    "#colors for plotting\n",
    "cmap2 = cmm\n",
    "ages = np.unique(data_labels)\n",
    "colors = np.int_(np.arange(0, 256, 256/len(ages)))\n",
    "seqmatcolor='magma_r'\n",
    "\n",
    "# create age labels colors\n",
    "lines=[]\n",
    "counter = Counter(data_labels)\n",
    "sorted(counter.items())\n",
    "a=np.array([*counter.values()])\n",
    "\n",
    "color_mat=[]\n",
    "n=0\n",
    "for i,c in enumerate(colors):\n",
    "    for j in range(a[i]):\n",
    "        color_mat.append(cmap2(c))"
   ]
  },
  {
   "cell_type": "code",
   "execution_count": null,
   "id": "ab610888",
   "metadata": {},
   "outputs": [],
   "source": [
    "# plot syllable usage acoss time points\n",
    "cg=sns.clustermap(\n",
    "    data=dist_matrix,\n",
    "    cmap=seqmatcolor, \n",
    "    figsize=(1.3, 1.3),\n",
    "    col_colors=color_mat,\n",
    "    row_colors=color_mat,\n",
    "    cbar_pos=(1.02, 0.025, 0.025, .73),\n",
    "    col_cluster=False,\n",
    "    row_cluster=False,\n",
    "    yticklabels=ages,\n",
    "    xticklabels=ages,\n",
    "    cbar_kws={'label': 'Behavioral distance (cosine)'}, \n",
    "    vmin=vmin_value,\n",
    "    vmax=vmax_value,\n",
    "    rasterized=True,\n",
    "    )\n",
    "cg.ax_row_dendrogram.set_visible(False)\n",
    "ax = cg.ax_heatmap\n",
    "#ax.tick_params(left=False, bottom=False, right=False)\n",
    "ax.set_xlabel('Chron.age (wks)')\n",
    "ax.set_ylabel('Chron.age (wks)')\n",
    "\n",
    "# Desired tick labels\n",
    "desired_ages = [5, 15, 25, 35, 45]\n",
    "# Find the positions of the desired ages\n",
    "tick_positions = [np.where(data_labels == age)[0][0] for age in desired_ages]\n",
    "tick_labels = desired_ages\n",
    "\n",
    "# Set x and y ticks and labels\n",
    "ax.set_xticks(tick_positions)\n",
    "ax.set_xticklabels(tick_labels)\n",
    "ax.set_yticks(tick_positions)\n",
    "ax.set_yticklabels(tick_labels)\n",
    "# legend\n",
    "#for i,c in enumerate(colors):\n",
    "#        lines.append(Line2D([0], [0], color=cmap2(c), lw=2))\n",
    "#plt.legend(handles=lines,labels=list(ages),bbox_to_anchor=(10, 1),loc='upper right',fontsize=6)\n",
    "plt.show()"
   ]
  },
  {
   "cell_type": "code",
   "execution_count": null,
   "id": "3f5afd8d",
   "metadata": {},
   "outputs": [],
   "source": [
    "c = PlotConfig()\n",
    "cg.savefig(c.dana_save_path / \"fig4\"/ '07_31_male_dist_matrix_minmax_cosine_longv2_beh_age.pdf')"
   ]
  },
  {
   "cell_type": "code",
   "execution_count": null,
   "id": "5a699e67",
   "metadata": {},
   "outputs": [],
   "source": [
    "## female"
   ]
  },
  {
   "cell_type": "code",
   "execution_count": null,
   "id": "91bcda5d",
   "metadata": {},
   "outputs": [],
   "source": [
    "# get distance\n",
    "data=avg_f_norm # un-normalized\n",
    "dist_matrix = squareform(pdist(data,metric='cosine'))\n",
    "data_labels=data.index.get_level_values('age').to_numpy()\n",
    "\n",
    "percentiles_up = [95]\n",
    "percentiles_down = [5]\n",
    "#vmax_value = np.percentile(dist_matrix, percentiles_up)\n",
    "#vmin_value = np.percentile(dist_matrix, percentiles_down)"
   ]
  },
  {
   "cell_type": "code",
   "execution_count": null,
   "id": "2240a259",
   "metadata": {},
   "outputs": [],
   "source": [
    "#colors for plotting\n",
    "cmap2 = cmf\n",
    "ages = np.unique(data_labels)\n",
    "colors = np.int_(np.arange(0, 256, 256/len(ages)))\n",
    "seqmatcolor='magma_r'\n",
    "\n",
    "# create age labels colors\n",
    "lines=[]\n",
    "counter = Counter(data_labels)\n",
    "sorted(counter.items())\n",
    "a=np.array([*counter.values()])\n",
    "\n",
    "color_mat=[]\n",
    "n=0\n",
    "for i,c in enumerate(colors):\n",
    "    for j in range(a[i]):\n",
    "        color_mat.append(cmap2(c))"
   ]
  },
  {
   "cell_type": "code",
   "execution_count": null,
   "id": "e3b076f8",
   "metadata": {},
   "outputs": [],
   "source": [
    "# plot syllable usage acoss time points\n",
    "cg=sns.clustermap(\n",
    "    data=dist_matrix,\n",
    "    #data=squareform(pdist(data,metric='cosine')),\n",
    "    cmap=seqmatcolor, \n",
    "    figsize=(1.3, 1.3),\n",
    "    col_colors=color_mat,\n",
    "    row_colors=color_mat,\n",
    "    cbar_pos=(1.02, 0.025, 0.025, .73),\n",
    "    col_cluster=False,\n",
    "    row_cluster=False,\n",
    "    yticklabels=ages,\n",
    "    xticklabels=ages,\n",
    "    cbar_kws={'label': 'Behavioral distance (cosine)'}, \n",
    "    vmin=vmin_value,\n",
    "    vmax=vmax_value,\n",
    "    rasterized=True,\n",
    "    )\n",
    "cg.ax_row_dendrogram.set_visible(False)\n",
    "ax = cg.ax_heatmap\n",
    "#ax.tick_params(left=False, bottom=False, right=False)\n",
    "ax.set_xlabel('Chron.age (wks)')\n",
    "ax.set_ylabel('Chron.age (wks)')\n",
    "\n",
    "# Desired tick labels\n",
    "desired_ages = [5, 15, 25, 35, 45]\n",
    "# Find the positions of the desired ages\n",
    "tick_positions = [np.where(data_labels == age)[0][0] for age in desired_ages]\n",
    "tick_labels = desired_ages\n",
    "\n",
    "# Set x and y ticks and labels\n",
    "ax.set_xticks(tick_positions)\n",
    "ax.set_xticklabels(tick_labels)\n",
    "ax.set_yticks(tick_positions)\n",
    "ax.set_yticklabels(tick_labels)\n",
    "\n",
    "# legend\n",
    "#for i,c in enumerate(colors):\n",
    "#        lines.append(Line2D([0], [0], color=cmap2(c), lw=2))\n",
    "#plt.legend(handles=lines,labels=list(ages),bbox_to_anchor=(10, 1),loc='upper right',fontsize=6)\n",
    "plt.show()"
   ]
  },
  {
   "cell_type": "code",
   "execution_count": null,
   "id": "44dbc59b",
   "metadata": {},
   "outputs": [],
   "source": [
    "c = PlotConfig()\n",
    "cg.savefig(c.dana_save_path / \"fig4\"/ '07_31_female_dist_matrix_minmax_cosine_longv2_beh_age.pdf')"
   ]
  }
 ],
 "metadata": {
  "kernelspec": {
   "display_name": "Python 3 (ipykernel)",
   "language": "python",
   "name": "python3"
  },
  "language_info": {
   "codemirror_mode": {
    "name": "ipython",
    "version": 3
   },
   "file_extension": ".py",
   "mimetype": "text/x-python",
   "name": "python",
   "nbconvert_exporter": "python",
   "pygments_lexer": "ipython3",
   "version": "3.10.12"
  }
 },
 "nbformat": 4,
 "nbformat_minor": 5
}
