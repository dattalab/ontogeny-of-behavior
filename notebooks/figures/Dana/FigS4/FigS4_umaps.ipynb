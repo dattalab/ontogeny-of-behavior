{
 "cells": [
  {
   "cell_type": "code",
   "execution_count": null,
   "id": "a77ea523",
   "metadata": {},
   "outputs": [],
   "source": [
    "import numpy as np\n",
    "import pandas as pd\n",
    "import seaborn as sns\n",
    "import matplotlib.pyplot as plt\n",
    "from aging.plotting import format_plots, PlotConfig, save_factory, figure, legend, format_pizza_plots\n",
    "from collections import Counter\n",
    "from matplotlib.lines import Line2D\n",
    "from tqdm import tqdm\n",
    "# Create segments for LineCollection\n",
    "from matplotlib.collections import LineCollection"
   ]
  },
  {
   "cell_type": "code",
   "execution_count": null,
   "id": "d1dc615e",
   "metadata": {},
   "outputs": [],
   "source": [
    "import numpy as np\n",
    "import pandas as pd\n",
    "import matplotlib.pyplot as plt\n",
    "import seaborn as sns\n",
    "import colorcet as cc\n",
    "from operator import add\n",
    "from tqdm.auto import tqdm\n",
    "from functools import reduce\n",
    "from sklearn.cluster import KMeans\n",
    "from sklearn.decomposition import PCA\n",
    "from scipy.spatial.distance import squareform, pdist\n",
    "from sklearn.metrics import silhouette_score\n",
    "from aging.plotting import format_plots, figure, save_factory, PlotConfig, legend, add_identity\n",
    "from sklearn.cross_decomposition import PLSRegression\n",
    "import umap"
   ]
  },
  {
   "cell_type": "code",
   "execution_count": null,
   "id": "86571b2b",
   "metadata": {},
   "outputs": [],
   "source": [
    "def mm_norm_col(column):\n",
    "    return (column - column.min()) / (column.max() - column.min())"
   ]
  },
  {
   "cell_type": "code",
   "execution_count": null,
   "id": "e4e30ebd",
   "metadata": {},
   "outputs": [],
   "source": [
    "from matplotlib.colors import LinearSegmentedColormap\n",
    "# Define the color map\n",
    "colors = ['#c7eae5','#008C8D']\n",
    "custom_cmap = LinearSegmentedColormap.from_list(\"custom_purples\", colors, N=256)\n",
    "cmm=custom_cmap\n",
    "\n",
    "# prepare colors for plot\n",
    "colors = ['#c7eae5','#008C8D']\n",
    "import matplotlib\n",
    "cmap = LinearSegmentedColormap.from_list(\"custom_purples\", colors, N=256)\n",
    "matplotlib.cm.register_cmap(\"dana\", cmap)\n",
    "phasec_m = sns.color_palette(\"dana\", n_colors=27)\n",
    "\n",
    "\n",
    "from matplotlib.colors import LinearSegmentedColormap\n",
    "# Define the color map\n",
    "colors = ['#fee6ce','#d94801']\n",
    "custom_cmap = LinearSegmentedColormap.from_list(\"custom_purples\", colors, N=256)\n",
    "cmf=custom_cmap\n",
    "\n",
    "# prepare colors for plot\n",
    "colors = ['#fee6ce','#d94801']\n",
    "import matplotlib\n",
    "cmap = LinearSegmentedColormap.from_list(\"custom_purples\", colors, N=256)\n",
    "matplotlib.cm.register_cmap(\"dana_f\", cmap)\n",
    "phasec_f = sns.color_palette(\"dana_f\", n_colors=27)"
   ]
  },
  {
   "cell_type": "markdown",
   "id": "61e38622",
   "metadata": {},
   "source": [
    "## fit the model on ontogeny chron age"
   ]
  },
  {
   "cell_type": "code",
   "execution_count": null,
   "id": "982e2732",
   "metadata": {},
   "outputs": [],
   "source": [
    "## arrange data for male\n",
    "keep_syllables = np.loadtxt('to_keep_syllables_raw.txt', dtype=int)\n",
    "\n",
    "male_df = pd.read_parquet('ontogeny_males_raw_usage_matrix_v00.parquet').astype(float)\n",
    "male_df = male_df[keep_syllables]\n",
    "m_df= male_df.groupby(['age','uuid']).mean()\n",
    "\n",
    "## arrange data for females\n",
    "keep_syllables = np.loadtxt('to_keep_syllables_raw.txt', dtype=int)\n",
    "\n",
    "female_df = pd.read_parquet('ontogeny_females_raw_usage_matrix_v00.parquet').astype(float)\n",
    "female_df = female_df[keep_syllables]\n",
    "\n",
    "# for female:\n",
    "f_df= female_df.groupby(['age','uuid']).mean()\n",
    "# Update age value to 52 for rows with uuid in the list\n",
    "# Update age value to 52 for rows with uuid in the list\n",
    "uuids = ['f1d5dce5-f5cf-4b03-b07d-d9b8c1f034b0','6fa50ac7-6d49-4ef9-9059-3d90bdd8c5d4',\n",
    "         'e9e05da8-fc59-40f3-a9c8-f57c492c6141','327e7fa1-2237-43d2-b25f-c1801912df33',\n",
    "        '242bee8e-0ee7-45e7-8a13-678836a4cddb','552ec70f-0676-4471-8ab0-403e1fcf43e3','d6f254af-d55a-427a-96e0-c452a233cbe2']\n",
    "f_df.reset_index(inplace=True)\n",
    "\n",
    "age_mapping = {\n",
    "    93: 94,\n",
    "    95: 94,\n",
    "    97: 98,\n",
    "    98: 98,\n",
    "    102: 98,\n",
    "    103: 105,\n",
    "    105: 105,\n",
    "    107: 105\n",
    "}\n",
    "\n",
    "f_df['age'] = f_df['age'].map(age_mapping).fillna(f_df['age'])\n",
    "f_df.loc[f_df['uuid'].isin(uuids), 'age'] = 52\n",
    "# Set the index back\n",
    "f_df.set_index(['age', 'uuid'], inplace=True)\n",
    "f_df=f_df.query('age<127')"
   ]
  },
  {
   "cell_type": "code",
   "execution_count": null,
   "id": "48ffa03b",
   "metadata": {},
   "outputs": [],
   "source": [
    "# avarage per age or session\n",
    "f_df= f_df.groupby(['age','uuid']).mean()\n",
    "avg_f_df = f_df.groupby(['age']).mean()\n",
    "\n",
    "# normalize the data\n",
    "f_norm = mm_norm_col(f_df)\n",
    "avg_f_norm = mm_norm_col(avg_f_df)\n",
    "\n",
    "# avarage per age or session\n",
    "m_df= m_df.groupby(['age','uuid']).mean()\n",
    "avg_m_df = m_df.groupby(['age']).mean()\n",
    "\n",
    "# normalize the data\n",
    "m_norm = mm_norm_col(m_df)\n",
    "avg_m_norm = mm_norm_col(avg_m_df)"
   ]
  },
  {
   "cell_type": "code",
   "execution_count": null,
   "id": "2ab4d5fa",
   "metadata": {},
   "outputs": [],
   "source": [
    "# Perform UMAP dimensionality reduction males ontogeny\n",
    "df = m_norm.copy()\n",
    "reducer = umap.UMAP(n_components=2, random_state=10, n_neighbors=50)\n",
    "umap_result = reducer.fit_transform(df)\n",
    "\n",
    "pcs_male = pd.DataFrame(umap_result, columns=['dim1','dim2'])\n",
    "pcs_male['age'] = df.index.get_level_values('age')\n",
    "pcs_male['uuid'] = df.index.get_level_values('uuid')"
   ]
  },
  {
   "cell_type": "code",
   "execution_count": null,
   "id": "359a2a75",
   "metadata": {},
   "outputs": [],
   "source": [
    "# Perform UMAP dimensionality reduction males ontogeny\n",
    "df = f_norm.copy()\n",
    "reducer = umap.UMAP(n_components=2, random_state=10, n_neighbors=50, min_dist=0.1)\n",
    "umap_result = reducer.fit_transform(df)\n",
    "\n",
    "pcs_female = pd.DataFrame(umap_result, columns=['dim1','dim2'])\n",
    "pcs_female['age'] = df.index.get_level_values('age')\n",
    "pcs_female['uuid'] = df.index.get_level_values('uuid')"
   ]
  },
  {
   "cell_type": "code",
   "execution_count": null,
   "id": "01cb147b",
   "metadata": {},
   "outputs": [],
   "source": [
    "format_plots()"
   ]
  },
  {
   "cell_type": "markdown",
   "id": "715f5b32",
   "metadata": {},
   "source": [
    "## data female beh age"
   ]
  },
  {
   "cell_type": "code",
   "execution_count": null,
   "id": "e9d19727",
   "metadata": {},
   "outputs": [],
   "source": [
    "## arrange data\n",
    "## arrange data for females\n",
    "keep_syllables = np.loadtxt('to_keep_syllables_raw.txt', dtype=int)\n",
    "\n",
    "female_df = pd.read_parquet('beh_age_df/2024-07-29-ontogeny_females_raw_usage_df_beh_age.parquet').astype(float)\n",
    "#female_df = pd.read_parquet('/n/groups/datta/win/longtogeny/data/ontogeny/version_11-1/beh_age_df/ontogeny_females_raw_usage_df_beh_age.parquet').astype(float)\n",
    "female_df = female_df[keep_syllables]\n",
    "f_df= female_df.groupby(['age','uuid']).mean()"
   ]
  },
  {
   "cell_type": "markdown",
   "id": "118b0c7f",
   "metadata": {},
   "source": [
    "## data males beh age"
   ]
  },
  {
   "cell_type": "code",
   "execution_count": null,
   "id": "c3bd4eb0",
   "metadata": {},
   "outputs": [],
   "source": [
    "## arrange data\n",
    "keep_syllables = np.loadtxt('to_keep_syllables_raw.txt', dtype=int)\n",
    "\n",
    "male_df = pd.read_parquet('2024-07-29-ontogeny_males_raw_usage_df_beh_age.parquet').astype(float)\n",
    "#male_df = pd.read_parquet('/n/groups/datta/win/longtogeny/data/ontogeny/version_11-1/beh_age_df/ontogeny_males_raw_usage_df_beh_age.parquet').astype(float)\n",
    "male_df = male_df[keep_syllables]\n",
    "m_df= male_df.groupby(['age','uuid']).mean()"
   ]
  },
  {
   "cell_type": "markdown",
   "id": "37c7963a",
   "metadata": {},
   "source": [
    "## umaps"
   ]
  },
  {
   "cell_type": "code",
   "execution_count": null,
   "id": "5d1e207e",
   "metadata": {},
   "outputs": [],
   "source": [
    "# Step 3: Convert 'uuid' to index for joining\n",
    "filtered_pcs = pcs_male[pcs_male['uuid'].isin(m_df.index.get_level_values('uuid'))]\n",
    "filtered_pcs.set_index('uuid', inplace=True)\n",
    "# Step 4: Prepare df2 for joining (ensure 'uuid' is the index and 'age' is a level of the index)\n",
    "df2=m_df.copy()\n",
    "df2_indexed = df2.reset_index().set_index('uuid')\n",
    "filtered_pcs = filtered_pcs.join(df2_indexed['age'].rename('beh_age'), on='uuid')"
   ]
  },
  {
   "cell_type": "code",
   "execution_count": null,
   "id": "4710f8ac",
   "metadata": {},
   "outputs": [],
   "source": [
    "age_pc = filtered_pcs.groupby('beh_age').mean()\n",
    "\n",
    "# Plot\n",
    "fig, ax = plt.subplots()\n",
    "fig.set_size_inches(1.3, 1)\n",
    "\n",
    "# Scatter plot\n",
    "im = ax.scatter(\n",
    "    x=filtered_pcs['dim1'], y=filtered_pcs['dim2'], \n",
    "    c=filtered_pcs['beh_age'], \n",
    "    cmap=cmm,\n",
    "    s=3,\n",
    ")\n",
    "\n",
    "# Add colorbar\n",
    "cb = fig.colorbar(im, ax=ax)\n",
    "tick_values = [10,20,30,40,50]\n",
    "# Customize the plot\n",
    "sns.despine()\n",
    "#plt.title('UMAP Plot of Data')\n",
    "plt.xlabel('dim1')\n",
    "plt.ylabel('dim2')\n",
    "plt.legend()\n",
    "plt.show()"
   ]
  },
  {
   "cell_type": "code",
   "execution_count": null,
   "id": "776d6f0f",
   "metadata": {},
   "outputs": [],
   "source": [
    "# Plot\n",
    "fig, ax = plt.subplots()\n",
    "fig.set_size_inches(1.2, 1)\n",
    "im=sns.scatterplot(data=filtered_pcs, x='dim1',y='dim2',hue='beh_age',palette=cmm, legend=False, s=8, edgecolor='none')\n",
    "\n",
    "# Convert to DataFrame for easier rolling operation\n",
    "df = pd.DataFrame(age_pc)\n",
    "\n",
    "# Apply rolling window average\n",
    "window_size = 2  # Adjust the window size as needed\n",
    "df_smooth = df.rolling(window=window_size, min_periods=1, center=True).mean()\n",
    "\n",
    "# Create segments for LineCollection from the smoothed data\n",
    "points = np.array([df_smooth['dim1'], df_smooth['dim2']]).T.reshape(-1, 1, 2)\n",
    "segments = np.concatenate([points[:-1], points[1:]], axis=1)\n",
    "\n",
    "# Create the line collection object\n",
    "lc = LineCollection(segments, cmap=cmm, norm=plt.Normalize(0, 1),linewidth=1)\n",
    "lc.set_array(np.linspace(0, 1, len(df_smooth['dim1'])))\n",
    "\n",
    "# Create the outer black line collection\n",
    "black_lc = LineCollection(segments, colors='black', linewidth=2)\n",
    "\n",
    "# Add the black line collection to the plot\n",
    "ax.add_collection(black_lc)\n",
    "\n",
    "# Add line collection to the plot\n",
    "ax.add_collection(lc)\n",
    "ax.autoscale()\n",
    "\n",
    "# Add color bar\n",
    "norm = plt.Normalize(vmin=filtered_pcs['beh_age'].min(), vmax=filtered_pcs['beh_age'].max())\n",
    "sm = plt.cm.ScalarMappable(cmap=cmm, norm=norm)\n",
    "sm.set_array([])\n",
    "\n",
    "# Create color bar and set ticks\n",
    "cbar = plt.colorbar(sm, ax=ax)\n",
    "cbar.set_label('Behavioral Age')\n",
    "cbar.set_ticks([20, 40, 60, 80])\n",
    "cbar.set_ticklabels([20, 40, 60, 80])\n",
    "\n",
    "sns.despine()\n"
   ]
  },
  {
   "cell_type": "code",
   "execution_count": null,
   "id": "c35a9c23",
   "metadata": {},
   "outputs": [],
   "source": [
    "c = PlotConfig()\n",
    "fig.savefig(c.dana_save_path / \"fig2\"/ '07_24_UMAP_male_n50_smoothen_beh_age.pdf')"
   ]
  },
  {
   "cell_type": "code",
   "execution_count": null,
   "id": "e318b206",
   "metadata": {},
   "outputs": [],
   "source": [
    "## for females:"
   ]
  },
  {
   "cell_type": "code",
   "execution_count": null,
   "id": "3a0d1042",
   "metadata": {},
   "outputs": [],
   "source": [
    "# Step 3: Convert 'uuid' to index for joining\n",
    "filtered_pcs = pcs_female[pcs_female['uuid'].isin(f_df.index.get_level_values('uuid'))]\n",
    "filtered_pcs.set_index('uuid', inplace=True)\n",
    "# Step 4: Prepare df2 for joining (ensure 'uuid' is the index and 'age' is a level of the index)\n",
    "df2=f_df.copy()\n",
    "df2_indexed = df2.reset_index().set_index('uuid')\n",
    "filtered_pcs = filtered_pcs.join(df2_indexed['age'].rename('beh_age'), on='uuid')"
   ]
  },
  {
   "cell_type": "code",
   "execution_count": null,
   "id": "dbbf8b58",
   "metadata": {},
   "outputs": [],
   "source": [
    "age_pc = filtered_pcs.groupby('beh_age').mean()\n",
    "\n",
    "# Plot\n",
    "fig, ax = plt.subplots()\n",
    "fig.set_size_inches(1.3, 1)\n",
    "\n",
    "# Scatter plot\n",
    "im = ax.scatter(\n",
    "    x=filtered_pcs['dim1'], y=filtered_pcs['dim2'], \n",
    "    c=filtered_pcs['beh_age'], \n",
    "    cmap=cmf,\n",
    "    s=8,\n",
    "    linewidth =0.25,\n",
    ")\n",
    "\n",
    "# Customize the plot\n",
    "sns.despine()\n",
    "#plt.title('UMAP Plot of Data females')\n",
    "plt.xlabel('dim1')\n",
    "plt.ylabel('dim2')\n",
    "plt.legend()\n",
    "plt.show()"
   ]
  },
  {
   "cell_type": "code",
   "execution_count": null,
   "id": "ab686dd2",
   "metadata": {},
   "outputs": [],
   "source": [
    "# Plot\n",
    "fig, ax = plt.subplots()\n",
    "fig.set_size_inches(1.2, 1)\n",
    "im=sns.scatterplot(data=filtered_pcs, x='dim1',y='dim2',hue='beh_age',palette=cmf, legend=False, s=8, edgecolor='none')\n",
    "\n",
    "# Convert to DataFrame for easier rolling operation\n",
    "df = pd.DataFrame(age_pc)\n",
    "\n",
    "# Apply rolling window average\n",
    "window_size = 2  # Adjust the window size as needed\n",
    "df_smooth = df.rolling(window=window_size, min_periods=1, center=True).mean()\n",
    "\n",
    "# Create segments for LineCollection from the smoothed data\n",
    "points = np.array([df_smooth['dim1'], df_smooth['dim2']]).T.reshape(-1, 1, 2)\n",
    "segments = np.concatenate([points[:-1], points[1:]], axis=1)\n",
    "\n",
    "# Create the line collection object\n",
    "lc = LineCollection(segments, cmap=cmf, norm=plt.Normalize(0, 1),linewidth=1)\n",
    "lc.set_array(np.linspace(0, 1, len(df_smooth['dim1'])))\n",
    "\n",
    "# Create the outer black line collection\n",
    "black_lc = LineCollection(segments, colors='black', linewidth=2)\n",
    "# Add the black line collection to the plot\n",
    "ax.add_collection(black_lc)\n",
    "\n",
    "# Add line collection to the plot\n",
    "ax.add_collection(lc)\n",
    "ax.autoscale()\n",
    "\n",
    "# Add color bar\n",
    "norm = plt.Normalize(vmin=filtered_pcs['beh_age'].min(), vmax=filtered_pcs['beh_age'].max())\n",
    "sm = plt.cm.ScalarMappable(cmap=cmf, norm=norm)\n",
    "sm.set_array([])\n",
    "\n",
    "# Create color bar and set ticks\n",
    "cbar = plt.colorbar(sm, ax=ax)\n",
    "cbar.set_label('Behavioral Age')\n",
    "cbar.set_ticks([20, 40, 60, 80])\n",
    "cbar.set_ticklabels([20, 40, 60, 80])\n",
    "\n",
    "sns.despine()"
   ]
  },
  {
   "cell_type": "code",
   "execution_count": null,
   "id": "5ae3da18",
   "metadata": {},
   "outputs": [],
   "source": [
    "c = PlotConfig()\n",
    "fig.savefig(c.dana_save_path / \"fig2\"/ '07_24_UMAP_female_n50_smoothen_beh_age.pdf')"
   ]
  }
 ],
 "metadata": {
  "kernelspec": {
   "display_name": "Python 3 (ipykernel)",
   "language": "python",
   "name": "python3"
  },
  "language_info": {
   "codemirror_mode": {
    "name": "ipython",
    "version": 3
   },
   "file_extension": ".py",
   "mimetype": "text/x-python",
   "name": "python",
   "nbconvert_exporter": "python",
   "pygments_lexer": "ipython3",
   "version": "3.10.12"
  }
 },
 "nbformat": 4,
 "nbformat_minor": 5
}
