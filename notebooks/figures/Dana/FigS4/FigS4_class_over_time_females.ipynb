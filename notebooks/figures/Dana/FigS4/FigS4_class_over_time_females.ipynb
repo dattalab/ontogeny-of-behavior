{
 "cells": [
  {
   "cell_type": "code",
   "execution_count": null,
   "id": "a77ea523",
   "metadata": {},
   "outputs": [],
   "source": [
    "import numpy as np\n",
    "import pandas as pd\n",
    "import matplotlib.pyplot as plt\n",
    "import seaborn as sns\n",
    "from pathlib import Path\n",
    "import matplotlib as mpl\n",
    "import os\n",
    "from toolz import concat\n",
    "from matplotlib.lines import Line2D\n",
    "from collections import Counter\n",
    "import math\n",
    "from sklearn.decomposition import PCA\n",
    "from sklearn.neighbors import KNeighborsRegressor\n",
    "from aging.behavior.syllables import relabel_by_usage\n",
    "from tqdm import tqdm\n",
    "%matplotlib inline\n",
    "import warnings\n",
    "warnings.simplefilter('ignore')\n",
    "import random\n",
    "import scipy\n",
    "from sklearn.pipeline import make_pipeline\n",
    "from sklearn.cluster import KMeans\n",
    "from sklearn.preprocessing import StandardScaler\n",
    "from sklearn.metrics import adjusted_rand_score\n",
    "from kneed import KneeLocator\n",
    "from sklearn.metrics import silhouette_score\n",
    "from scipy.spatial.distance import jensenshannon\n",
    "%matplotlib inline\n",
    "from aging.plotting import format_plots, PlotConfig, save_factory, figure, legend, format_pizza_plots"
   ]
  },
  {
   "cell_type": "code",
   "execution_count": null,
   "id": "0a49a035",
   "metadata": {},
   "outputs": [],
   "source": [
    "format_plots()\n",
    "#format_pizza_plots()"
   ]
  },
  {
   "cell_type": "code",
   "execution_count": null,
   "id": "f5ffcc1e",
   "metadata": {},
   "outputs": [],
   "source": [
    "def minmax(df):\n",
    "    df = df - df.min()\n",
    "    return df / df.max()\n",
    "\n",
    "def mm_norm_col(column):\n",
    "    return (column - column.min()) / (column.max() - column.min())"
   ]
  },
  {
   "cell_type": "code",
   "execution_count": null,
   "id": "4fae13a8",
   "metadata": {},
   "outputs": [],
   "source": [
    "from matplotlib.colors import LinearSegmentedColormap\n",
    "# Define the color map\n",
    "colors = ['#d94801','white','#008C8D']\n",
    "custom_cmap = LinearSegmentedColormap.from_list(\"custom_purples\", colors, N=256)\n",
    "cmmf=custom_cmap\n",
    "\n",
    "colors = ['#dadaeb','#6a51a3']\n",
    "custom_cmap = LinearSegmentedColormap.from_list(\"custom_purples\", colors, N=256)\n",
    "cma=custom_cmap\n",
    "\n",
    "colors = ['white','gray']\n",
    "custom_cmap = LinearSegmentedColormap.from_list(\"custom_purples\", colors, N=256)\n",
    "cma=custom_cmap\n",
    "\n",
    "colors = ['#ccece6','#99d8c9','#66c2a4','#41ae76','#238b45','#006d2c']\n",
    "cml = sns.blend_palette(colors, n_colors=256, as_cmap=True)\n",
    "\n",
    "# Define the color map\n",
    "colors = ['#fee6ce','#d94801']\n",
    "custom_cmap = LinearSegmentedColormap.from_list(\"custom_purples\", colors, N=256)\n",
    "cmf=custom_cmap\n",
    "\n",
    "colors = ['#c7eae5','#008C8D']\n",
    "custom_cmap = LinearSegmentedColormap.from_list(\"custom_purples\", colors, N=256)\n",
    "cmm=custom_cmap"
   ]
  },
  {
   "cell_type": "code",
   "execution_count": null,
   "id": "39930526",
   "metadata": {},
   "outputs": [],
   "source": [
    "## arrange data for females\n",
    "keep_syllables = np.loadtxt('to_keep_syllables_raw.txt', dtype=int)\n",
    "\n",
    "female_df = pd.read_parquet('2024-07-29-ontogeny_females_raw_usage_df_beh_age.parquet').astype(float)\n",
    "female_df = female_df[keep_syllables]\n",
    "f_df= female_df.groupby(['age','uuid']).mean()"
   ]
  },
  {
   "cell_type": "code",
   "execution_count": null,
   "id": "1de69c4b",
   "metadata": {},
   "outputs": [],
   "source": [
    "#average and normalize female\n",
    "f_data=f_df.copy()\n",
    "avg_f_df = f_data.groupby(['age']).mean()\n",
    "# normalize the data\n",
    "f_norm = mm_norm_col(f_data)\n",
    "avg_f_norm = mm_norm_col(avg_f_df)"
   ]
  },
  {
   "cell_type": "code",
   "execution_count": null,
   "id": "6b1261a9",
   "metadata": {},
   "outputs": [],
   "source": [
    "# look at syllable usage diff male and females according to actual age\n",
    "df = f_data"
   ]
  },
  {
   "cell_type": "code",
   "execution_count": null,
   "id": "610224ee",
   "metadata": {},
   "outputs": [],
   "source": [
    "# upload syllable classes\n",
    "syllable_classes = pd.read_csv('./v11_syllable_labels_v3.csv')\n",
    "id_map = syllable_classes.set_index('Original ID')['Class']\n",
    "class_sort = [id_map[k] for k in df.columns]"
   ]
  },
  {
   "cell_type": "code",
   "execution_count": null,
   "id": "b1763535",
   "metadata": {},
   "outputs": [],
   "source": [
    "class_avgs = {}\n",
    "class_norm_avgs = {}\n",
    "for _class, _df in df.T.groupby(class_sort):\n",
    "    avgs = _df.T.groupby('age').mean()\n",
    "    class_avgs[_class] = avgs.mean(1)\n",
    "\n",
    "    norm_avgs = minmax(avgs)\n",
    "    #norm_avgs = avgs\n",
    "\n",
    "    peaks = (\n",
    "        norm_avgs.rolling(7, min_periods=1, center=True, win_type=\"exponential\")\n",
    "        .mean(tau=3)\n",
    "        .idxmax()\n",
    "    )\n",
    "    peaks = peaks.sort_values()\n",
    "    class_norm_avgs[_class] = norm_avgs.mean(1)\n",
    "\n",
    "    ages = avgs.index\n",
    "\n",
    "    fig = figure(1, 0.075 * avgs.shape[1])\n",
    "    plt.imshow(norm_avgs[peaks.index].T, cmap='cubehelix', extent=(ages[0], ages[-1], avgs.shape[1], 0), aspect='auto',\n",
    "              vmax=1,\n",
    "              )\n",
    "    plt.title(_class)\n",
    "    plt.colorbar(label=\"normalized usage\")\n",
    "    plt.yticks([])\n",
    "    plt.xticks([20,40,60,80,100])\n",
    "    plt.xlabel(\"Age (wks)\")\n",
    "    #sns.despine()\n",
    "    c = PlotConfig()\n",
    "    fig.savefig(c.dana_save_path / \"fig2\"/ f'08_08_female_class_beh_age-{_class}.pdf')\n"
   ]
  },
  {
   "cell_type": "code",
   "execution_count": null,
   "id": "d96c0d47",
   "metadata": {},
   "outputs": [],
   "source": [
    "class_df = pd.DataFrame(class_norm_avgs)\n",
    "peaks = (\n",
    "    class_df.rolling(7, min_periods=1, center=True, win_type=\"exponential\")\n",
    "    .mean(tau=3)\n",
    "    .idxmax()\n",
    ")\n",
    "peaks = peaks.sort_values()"
   ]
  },
  {
   "cell_type": "code",
   "execution_count": null,
   "id": "0e3721dc",
   "metadata": {},
   "outputs": [],
   "source": [
    "col_order = ['Pause', 'Scrunch', 'Groom', 'Rear down','Rear up','Run','Investigate','Walk']\n",
    "class_df_new = class_df.reindex(columns=col_order)"
   ]
  },
  {
   "cell_type": "code",
   "execution_count": null,
   "id": "57b6c459",
   "metadata": {},
   "outputs": [],
   "source": [
    "format_plots()\n",
    "fig, ax = plt.subplots(figsize=(1, 1))\n",
    "sns.heatmap(class_df_new.T, cmap='cubehelix', vmax=1.0, cbar_kws=dict(label='Normalized usage'))"
   ]
  },
  {
   "cell_type": "code",
   "execution_count": null,
   "id": "bdcf1a48",
   "metadata": {},
   "outputs": [],
   "source": [
    "c = PlotConfig()\n",
    "fig.savefig(c.dana_save_path / \"fig2\"/ '07_24_female_syll_clusters_avg_beh_age.pdf')"
   ]
  },
  {
   "cell_type": "code",
   "execution_count": null,
   "id": "f85ac262",
   "metadata": {},
   "outputs": [],
   "source": [
    "#stats"
   ]
  },
  {
   "cell_type": "code",
   "execution_count": null,
   "id": "c9ba1d07",
   "metadata": {},
   "outputs": [],
   "source": [
    "import statsmodels.api as sm\n",
    "import statsmodels.formula.api as smf\n",
    "from statsmodels.tools.tools import pinv_extended  \n",
    "from statsmodels.stats.anova import anova_lm\n",
    "import scipy.stats as stats\n",
    "import statsmodels.api as sm\n",
    "from statsmodels.formula.api import ols\n",
    "from tabulate import tabulate"
   ]
  },
  {
   "cell_type": "code",
   "execution_count": null,
   "id": "bbbed3f0",
   "metadata": {},
   "outputs": [],
   "source": [
    "def ow_anova(data, dependent_var, factor1):\n",
    "    \"\"\"\n",
    "    Perform two-way ANOVA.\n",
    "    \n",
    "    Parameters:\n",
    "    data (pd.DataFrame): The input data frame.\n",
    "    dependent_var (str): The name of the dependent variable column.\n",
    "    factor1 (str): The name of the first factor column.\n",
    "    factor2 (str): The name of the second factor column.\n",
    "    \n",
    "    Returns:\n",
    "    pd.DataFrame: The ANOVA results.\n",
    "    \"\"\"\n",
    "    \n",
    "    # Align the data\n",
    "    align_data = data.copy()\n",
    "    align_data['ranked_response'] = align_data[[dependent_var]]\n",
    "    # Fit an OLS model on the ranked data\n",
    "    model = ols(f'ranked_response ~ {factor1}', data=align_data).fit()\n",
    "    # Perform ANOVA on the fitted model\n",
    "    anova_results = sm.stats.anova_lm(model, typ=3)\n",
    "    \n",
    "    # Convert results to a DataFrame\n",
    "    anova_df = pd.DataFrame(anova_results)\n",
    "    \n",
    "    return anova_df"
   ]
  },
  {
   "cell_type": "code",
   "execution_count": null,
   "id": "523f9830",
   "metadata": {},
   "outputs": [],
   "source": [
    "# look at syllable usage diff male and females according to actual age\n",
    "df = f_norm"
   ]
  },
  {
   "cell_type": "code",
   "execution_count": null,
   "id": "97d90996",
   "metadata": {},
   "outputs": [],
   "source": [
    "# upload syllable classes\n",
    "syllable_classes = pd.read_csv('./v11_syllable_labels_v3.csv')\n",
    "id_map = syllable_classes.set_index('Original ID')['Class']\n",
    "class_sort = [id_map[k] for k in df.columns]"
   ]
  },
  {
   "cell_type": "code",
   "execution_count": null,
   "id": "154ce508",
   "metadata": {},
   "outputs": [],
   "source": [
    "class_avgs = {}\n",
    "class_norm_avgs = {}\n",
    "for _class, _df in df.T.groupby(class_sort):\n",
    "    avgs = _df.T.groupby(['age','uuid']).mean()\n",
    "    class_avgs[_class] = avgs.mean(1)\n",
    "\n",
    "    #norm_avgs = minmax(avgs)\n",
    "    norm_avgs = avgs.copy()\n",
    "    class_norm_avgs[_class] = norm_avgs.mean(1)"
   ]
  },
  {
   "cell_type": "code",
   "execution_count": null,
   "id": "cf9edb7a",
   "metadata": {},
   "outputs": [],
   "source": [
    "class_df = pd.DataFrame(class_norm_avgs)"
   ]
  },
  {
   "cell_type": "code",
   "execution_count": null,
   "id": "46f4c51b",
   "metadata": {},
   "outputs": [],
   "source": [
    "col_order = ['Pause', 'Scrunch', 'Groom', 'Rear down','Rear up','Run','Investigate','Walk']\n",
    "class_df_new = class_df.reindex(columns=col_order)"
   ]
  },
  {
   "cell_type": "code",
   "execution_count": null,
   "id": "f9a55327",
   "metadata": {},
   "outputs": [],
   "source": [
    "#females\n",
    "data=class_df_new\n",
    "temp = data.copy()\n",
    "temp.reset_index(inplace=True)\n",
    "results = []\n",
    "dependent_vars = data.columns\n",
    "n_tests = len(dependent_vars)  # Number of ANOVA tests\n",
    "\n",
    "# Perform ANOVA for each dependent variable\n",
    "for i, k in enumerate(dependent_vars):\n",
    "    print(k)\n",
    "    anova_results = ow_anova(temp, k, 'age')\n",
    "    anova_results['Dependent Variable'] = k  # Add dependent variable to the results\n",
    "    results.append(anova_results)\n",
    "    print(tabulate(anova_results, headers='keys', tablefmt='psql'))\n",
    "\n",
    "# Combine results into a DataFrame\n",
    "results_df = pd.concat(results).reset_index()\n",
    "results_df.rename(columns={'index': 'Parameter'}, inplace=True)\n",
    "\n",
    "# Move the 'Dependent Variable' column to the first position\n",
    "cols = ['Dependent Variable'] + [col for col in results_df.columns if col != 'Dependent Variable']\n",
    "results_df = results_df[cols]\n",
    "\n",
    "# Apply Bonferroni correction to the p-values\n",
    "results_df['Bonferroni_corrected_p'] = results_df['PR(>F)'] * n_tests\n",
    "results_df['Bonferroni_corrected_p'] = results_df['Bonferroni_corrected_p'].apply(lambda p: min(p, 1))  # p-values should not exceed 1\n",
    "\n",
    "# Save DataFrame to CSV file\n",
    "results_df.to_csv('anova_results_syllable_classes_ontogeny_females_beh_age.csv', index=False)\n",
    "\n",
    "print(\"ANOVA results with Bonferroni-corrected p-values have been saved to 'anova_results.csv'\")"
   ]
  }
 ],
 "metadata": {
  "kernelspec": {
   "display_name": "Python 3 (ipykernel)",
   "language": "python",
   "name": "python3"
  },
  "language_info": {
   "codemirror_mode": {
    "name": "ipython",
    "version": 3
   },
   "file_extension": ".py",
   "mimetype": "text/x-python",
   "name": "python",
   "nbconvert_exporter": "python",
   "pygments_lexer": "ipython3",
   "version": "3.10.12"
  }
 },
 "nbformat": 4,
 "nbformat_minor": 5
}
