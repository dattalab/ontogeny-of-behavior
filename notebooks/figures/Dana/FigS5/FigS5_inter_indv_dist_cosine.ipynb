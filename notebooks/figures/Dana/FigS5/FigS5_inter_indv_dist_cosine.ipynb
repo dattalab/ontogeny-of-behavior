{
 "cells": [
  {
   "cell_type": "code",
   "execution_count": null,
   "id": "a77ea523",
   "metadata": {},
   "outputs": [],
   "source": [
    "import numpy as np\n",
    "import pandas as pd\n",
    "import seaborn as sns\n",
    "import matplotlib.pyplot as plt\n",
    "from aging.plotting import format_plots, PlotConfig, save_factory, figure, legend, format_pizza_plots, COLORMAPS\n",
    "from collections import Counter\n",
    "from matplotlib.lines import Line2D\n",
    "from aging.organization.dataframes import load_male_long_df, load_female_long_df, DF_PATHS\n",
    "from tqdm import tqdm"
   ]
  },
  {
   "cell_type": "code",
   "execution_count": null,
   "id": "d1dc615e",
   "metadata": {},
   "outputs": [],
   "source": [
    "import numpy as np\n",
    "import pandas as pd\n",
    "import matplotlib.pyplot as plt\n",
    "import seaborn as sns\n",
    "import colorcet as cc\n",
    "from operator import add\n",
    "from tqdm.auto import tqdm\n",
    "from functools import reduce\n",
    "from sklearn.cluster import KMeans\n",
    "from sklearn.decomposition import PCA\n",
    "from scipy.spatial.distance import squareform, pdist\n",
    "from sklearn.metrics import silhouette_score\n",
    "from aging.plotting import format_plots, figure, save_factory, PlotConfig, legend, add_identity\n",
    "from sklearn.cross_decomposition import PLSRegression\n",
    "from sklearn.feature_selection import mutual_info_classif as MIC"
   ]
  },
  {
   "cell_type": "code",
   "execution_count": null,
   "id": "86571b2b",
   "metadata": {},
   "outputs": [],
   "source": [
    "def mm_norm_col(column):\n",
    "    return (column - column.min()) / (column.max() - column.min())"
   ]
  },
  {
   "cell_type": "code",
   "execution_count": null,
   "id": "2e853f45",
   "metadata": {},
   "outputs": [],
   "source": [
    "cmm = COLORMAPS.ont_male\n",
    "cmf = COLORMAPS.ont_female\n",
    "m_df = load_male_long_df(average_weeks=True, merge_size=False, merge_ages=True, df_path=DF_PATHS.usage_male).groupby(['age','mouse']).mean()\n",
    "f_df = load_female_long_df(average_weeks=True, merge_size=False, filter_female=True, merge_ages=True, df_path=DF_PATHS.usage_female).groupby(['age','mouse']).mean()\n",
    "m_df['sex'] = 'm'\n",
    "m_df.set_index('sex', inplace=True, append=True)\n",
    "f_df['sex'] = 'f'\n",
    "f_df.set_index('sex', inplace=True, append=True)\n",
    "\n",
    "# Combine male and female data into a single DataFrame\n",
    "combined_df = pd.concat([m_df, f_df])"
   ]
  },
  {
   "cell_type": "code",
   "execution_count": null,
   "id": "763a1455",
   "metadata": {},
   "outputs": [],
   "source": [
    "long_data = combined_df.copy()\n",
    "X = long_data.to_numpy()\n",
    "y = list(long_data.index.get_level_values('mouse'))\n",
    "mi_score_id = MIC(X,y)"
   ]
  },
  {
   "cell_type": "code",
   "execution_count": null,
   "id": "ce80e614",
   "metadata": {},
   "outputs": [],
   "source": [
    "n=10\n",
    "id_indx = np.argsort(mi_score_id)[::-1][0:n] # syllble index\n",
    "impsyl_id= list(long_data.columns[id_indx]) #syllable id\n",
    "top_mi_score_id = mi_score_id[id_indx]\n",
    "imp_id = np.array(['n']*len(mi_score_id))\n",
    "imp_id[np.array(id_indx)]='y'"
   ]
  },
  {
   "cell_type": "code",
   "execution_count": null,
   "id": "cc2644b9",
   "metadata": {},
   "outputs": [],
   "source": [
    "print('10 most informative syllables for identity: ',impsyl_id)"
   ]
  },
  {
   "cell_type": "code",
   "execution_count": null,
   "id": "c1278e09",
   "metadata": {},
   "outputs": [],
   "source": [
    "data=long_data[impsyl_id]"
   ]
  },
  {
   "cell_type": "code",
   "execution_count": null,
   "id": "c6c11287",
   "metadata": {},
   "outputs": [],
   "source": [
    "f_data=data.query('sex==\"f\"')\n",
    "m_data=data.query('sex==\"m\"')"
   ]
  },
  {
   "cell_type": "code",
   "execution_count": null,
   "id": "8a582abc",
   "metadata": {},
   "outputs": [],
   "source": [
    "format_plots()"
   ]
  },
  {
   "cell_type": "code",
   "execution_count": null,
   "id": "6eea6131",
   "metadata": {},
   "outputs": [],
   "source": [
    "#met = 'jensenshannon'\n",
    "met= 'cosine'"
   ]
  },
  {
   "cell_type": "code",
   "execution_count": null,
   "id": "581eedd1",
   "metadata": {},
   "outputs": [],
   "source": [
    "iid = dict()\n",
    "iid_df = []\n",
    "iid_avg_df = []\n",
    "for age, _df in f_data.groupby('age'):\n",
    "    inter_ind_dists = pdist(_df, metric=met)\n",
    "    iid[age] = inter_ind_dists\n",
    "    #iid_df.append(pd.DataFrame(dict(iid=inter_ind_dists, age=age)))\n",
    "    iid_df.append(pd.DataFrame(dict(iid=inter_ind_dists, age=age)))\n",
    "    d = squareform(inter_ind_dists)\n",
    "    d[np.diag_indices_from(d)] = np.nan\n",
    "    d = np.nanmean(d, axis=1)\n",
    "    iid_avg_df.append(pd.DataFrame(dict(iid=d, age=age, mouse=_df.index.get_level_values('mouse'))))\n",
    "iid_df = pd.concat(iid_df)\n",
    "iid_avg_df_f = pd.concat(iid_avg_df)"
   ]
  },
  {
   "cell_type": "code",
   "execution_count": null,
   "id": "823f1668",
   "metadata": {},
   "outputs": [],
   "source": [
    "iid = dict()\n",
    "iid_df = []\n",
    "iid_avg_df = []\n",
    "for age, _df in m_data.groupby('age'):\n",
    "    inter_ind_dists = pdist(_df, metric=met)\n",
    "    iid[age] = inter_ind_dists\n",
    "    iid_df.append(pd.DataFrame(dict(iid=inter_ind_dists, age=age)))\n",
    "    d = squareform(inter_ind_dists)\n",
    "    d[np.diag_indices_from(d)] = np.nan\n",
    "    d = np.nanmean(d, axis=1)\n",
    "    iid_avg_df.append(pd.DataFrame(dict(iid=d, age=age, mouse=_df.index.get_level_values('mouse'))))\n",
    "iid_df = pd.concat(iid_df)\n",
    "iid_avg_df_m = pd.concat(iid_avg_df)"
   ]
  },
  {
   "cell_type": "code",
   "execution_count": null,
   "id": "6a4273ad",
   "metadata": {},
   "outputs": [],
   "source": [
    "fig = figure(1.3, 1.3)\n",
    "ax = fig.gca()\n",
    "'''\n",
    "a = sns.scatterplot(\n",
    "    data=iid_avg_df_m,\n",
    "    x=\"age\",\n",
    "    y=\"iid\",\n",
    "    palette=cmm,\n",
    "    hue=\"age\",\n",
    "    legend=False,\n",
    "    s=3,\n",
    "    linewidths=0,\n",
    "    alpha=1,\n",
    "    zorder=1,\n",
    ")\n",
    "a = sns.scatterplot(\n",
    "    data=iid_avg_df_f,\n",
    "    x=\"age\",\n",
    "    y=\"iid\",\n",
    "    palette=cmf,\n",
    "    hue=\"age\",\n",
    "    legend=False,\n",
    "    s=3,\n",
    "    linewidths=0,\n",
    "    alpha=1,\n",
    "    zorder=1,\n",
    ")\n",
    "'''\n",
    "a = sns.lineplot(\n",
    "    data=iid_avg_df_m,\n",
    "    x=\"age\",\n",
    "    y=\"iid\",\n",
    "    zorder=-1,\n",
    "    color='#20B2AA',\n",
    "    err_kws={\"lw\": 0, \"alpha\": 0.4},\n",
    "    errorbar=(\"se\"),\n",
    ")\n",
    "\n",
    "\n",
    "a = sns.lineplot(\n",
    "    data=iid_avg_df_f,\n",
    "    x=\"age\",\n",
    "    y=\"iid\",\n",
    "    zorder=-1,\n",
    "    color='#f16913',\n",
    "    err_kws={\"lw\": 0, \"alpha\": 0.4},\n",
    "    errorbar=(\"se\"),\n",
    ")\n",
    "a.set(\n",
    "    #ylim=(0, 0.3),\n",
    "    xlim=(0, None),\n",
    "    xlabel=\"Age (wks)\",\n",
    "    ylabel=\"Inter-individual distance (cosine)\",\n",
    "    xticks=[5,15,25,35,45],\n",
    ")\n",
    "\n",
    "sns.despine()"
   ]
  },
  {
   "cell_type": "code",
   "execution_count": null,
   "id": "ad3d47ea",
   "metadata": {},
   "outputs": [],
   "source": [
    "c = PlotConfig()\n",
    "fig.savefig(c.dana_save_path / \"fig3\"/ 'inter_indv_distance_longv2_fvm_MI_cosine.pdf')"
   ]
  },
  {
   "cell_type": "code",
   "execution_count": null,
   "id": "3f1b25a0",
   "metadata": {},
   "outputs": [],
   "source": [
    "## stats"
   ]
  },
  {
   "cell_type": "code",
   "execution_count": null,
   "id": "8615d0db",
   "metadata": {},
   "outputs": [],
   "source": [
    "import numpy as np\n",
    "import pandas as pd\n",
    "import seaborn as sns\n",
    "import matplotlib.pyplot as plt\n",
    "from aging.plotting import format_plots, PlotConfig, save_factory, figure, legend, format_pizza_plots, COLORMAPS\n",
    "from collections import Counter\n",
    "from matplotlib.lines import Line2D\n",
    "from aging.organization.dataframes import load_male_long_df, load_female_long_df, DF_PATHS\n",
    "from tqdm import tqdm\n",
    "import statsmodels.api as sm\n",
    "import statsmodels.formula.api as smf\n",
    "from statsmodels.tools.tools import pinv_extended  \n",
    "from statsmodels.stats.anova import anova_lm\n",
    "import scipy.stats as stats\n",
    "import statsmodels.api as sm\n",
    "from statsmodels.formula.api import ols\n",
    "from tabulate import tabulate"
   ]
  },
  {
   "cell_type": "code",
   "execution_count": null,
   "id": "02f273b4",
   "metadata": {},
   "outputs": [],
   "source": [
    "def fit_2mixed_linear_models(data, dependent_var, factor1,factor2, group):\n",
    "    \n",
    "    align_data = data.copy()\n",
    "    align_data['ranked_response'] = align_data[[dependent_var]]\n",
    "\n",
    "    #formula = f'ranked_response ~ {factor1}*{group}'\n",
    "    formula = f'ranked_response ~ {factor1}*C({factor2})'\n",
    "        \n",
    "    # Fit the mixed linear model\n",
    "    model = smf.mixedlm(formula, align_data, groups=f'{group}')\n",
    "    result = model.fit()\n",
    "    return result\n",
    "\n",
    "def extract_summary_to_dataframe(results, num_tests):\n",
    "    summary_data = []\n",
    "\n",
    "    for var, result in results.items():\n",
    "        summary = result.summary()\n",
    "        coefs = result.params\n",
    "        pvalues = result.pvalues\n",
    "        conf_int = result.conf_int()\n",
    "        \n",
    "        for param in coefs.index:\n",
    "            pvalue_corrected = min(pvalues[param] * num_tests, 1.0)  # Apply Bonferroni correction\n",
    "            \n",
    "            summary_data.append({\n",
    "                'Dependent Variable': var,\n",
    "                'Parameter': param,\n",
    "                'Coefficient': coefs[param],\n",
    "                'P-value': pvalues[param],\n",
    "                'Corrected P-value': pvalue_corrected,\n",
    "                'CI Lower': conf_int[0][param],\n",
    "                'CI Upper': conf_int[1][param]\n",
    "            })\n",
    "    \n",
    "    summary_df = pd.DataFrame(summary_data)\n",
    "    return summary_df"
   ]
  },
  {
   "cell_type": "code",
   "execution_count": null,
   "id": "086ae246",
   "metadata": {},
   "outputs": [],
   "source": [
    "cmm = COLORMAPS.ont_male\n",
    "cmf = COLORMAPS.ont_female\n",
    "m_df = load_male_long_df(average_weeks=True, merge_size=False, merge_ages=True, df_path=DF_PATHS.usage_male).groupby(['age','mouse']).mean()\n",
    "f_df = load_female_long_df(average_weeks=True, merge_size=False, filter_female=True, merge_ages=True, df_path=DF_PATHS.usage_female).groupby(['age','mouse']).mean()\n",
    "m_df['sex'] = 'm'\n",
    "m_df.set_index('sex', inplace=True, append=True)\n",
    "f_df['sex'] = 'f'\n",
    "f_df.set_index('sex', inplace=True, append=True)"
   ]
  },
  {
   "cell_type": "code",
   "execution_count": null,
   "id": "4dde2654",
   "metadata": {},
   "outputs": [],
   "source": [
    "iid = dict()\n",
    "iid_df = []\n",
    "iid_avg_df = []\n",
    "for age, _df in f_data.groupby('age'):\n",
    "    inter_ind_dists = pdist(_df, metric=met)\n",
    "    iid[age] = inter_ind_dists\n",
    "    #iid_df.append(pd.DataFrame(dict(iid=inter_ind_dists, age=age)))\n",
    "    iid_df.append(pd.DataFrame(dict(iid=inter_ind_dists, age=age)))\n",
    "    d = squareform(inter_ind_dists)\n",
    "    d[np.diag_indices_from(d)] = np.nan\n",
    "    d = np.nanmean(d, axis=1)\n",
    "    iid_avg_df.append(pd.DataFrame(dict(iid=d, age=age, mouse=_df.index.get_level_values('mouse'))))\n",
    "iid_df = pd.concat(iid_df)\n",
    "iid_avg_df_f = pd.concat(iid_avg_df)"
   ]
  },
  {
   "cell_type": "code",
   "execution_count": null,
   "id": "35ab5e2a",
   "metadata": {},
   "outputs": [],
   "source": [
    "iid = dict()\n",
    "iid_df = []\n",
    "iid_avg_df = []\n",
    "for age, _df in m_data.groupby('age'):\n",
    "    inter_ind_dists = pdist(_df, metric=met)\n",
    "    iid[age] = inter_ind_dists\n",
    "    iid_df.append(pd.DataFrame(dict(iid=inter_ind_dists, age=age)))\n",
    "    d = squareform(inter_ind_dists)\n",
    "    d[np.diag_indices_from(d)] = np.nan\n",
    "    d = np.nanmean(d, axis=1)\n",
    "    iid_avg_df.append(pd.DataFrame(dict(iid=d, age=age, mouse=_df.index.get_level_values('mouse'))))\n",
    "iid_df = pd.concat(iid_df)\n",
    "iid_avg_df_m = pd.concat(iid_avg_df)"
   ]
  },
  {
   "cell_type": "code",
   "execution_count": null,
   "id": "7ff9422e",
   "metadata": {},
   "outputs": [],
   "source": [
    "iid_avg_df_f['sex']='f'\n",
    "iid_avg_df_f.set_index(['age','mouse','sex'], inplace=True)\n",
    "\n",
    "iid_avg_df_m['sex']='m'\n",
    "iid_avg_df_m.set_index(['age','mouse','sex'], inplace=True)\n",
    "\n",
    "combined_df = pd.concat([iid_avg_df_m,iid_avg_df_f])"
   ]
  },
  {
   "cell_type": "code",
   "execution_count": null,
   "id": "12bec731",
   "metadata": {},
   "outputs": [],
   "source": [
    "data = combined_df.copy()\n",
    "temp = data.copy()\n",
    "temp.reset_index(inplace=True)\n",
    "\n",
    "if 'level_0' in temp.columns:\n",
    "    temp.drop(columns=['level_0'], inplace=True)\n",
    "\n",
    "results={}\n",
    "syll = data.columns\n",
    "n=len(syll)\n",
    "ss=[]\n",
    "ps=[]\n",
    "ints=[]\n",
    "intp=[]\n",
    "\n",
    "for i in syll:\n",
    "    result=fit_2mixed_linear_models(temp, i, 'age','sex','mouse')\n",
    "    results[i] = result\n",
    "\n",
    "# Extract the summary to a DataFrame with Bonferroni correction\n",
    "num_tests = len(data.columns)  # Number of tests is the number of dependent variables (excluding 'age' and 'mouse')\n",
    "summary_df = extract_summary_to_dataframe(results, num_tests)\n",
    "\n",
    "# Print the DataFrame nicely\n",
    "print(summary_df)\n",
    "summary_df.to_csv('mxlm_fvm_longv2_inter-indv.csv', index=False)"
   ]
  }
 ],
 "metadata": {
  "kernelspec": {
   "display_name": "Python 3 (ipykernel)",
   "language": "python",
   "name": "python3"
  },
  "language_info": {
   "codemirror_mode": {
    "name": "ipython",
    "version": 3
   },
   "file_extension": ".py",
   "mimetype": "text/x-python",
   "name": "python",
   "nbconvert_exporter": "python",
   "pygments_lexer": "ipython3",
   "version": "3.10.12"
  }
 },
 "nbformat": 4,
 "nbformat_minor": 5
}
