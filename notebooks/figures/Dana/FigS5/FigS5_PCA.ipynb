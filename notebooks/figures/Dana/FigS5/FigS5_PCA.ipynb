{
 "cells": [
  {
   "cell_type": "code",
   "execution_count": null,
   "id": "a77ea523",
   "metadata": {},
   "outputs": [],
   "source": [
    "import numpy as np\n",
    "import pandas as pd\n",
    "import seaborn as sns\n",
    "import matplotlib.pyplot as plt\n",
    "from aging.plotting import format_plots, PlotConfig, save_factory, figure, legend, format_pizza_plots, COLORMAPS\n",
    "from collections import Counter\n",
    "from matplotlib.lines import Line2D\n",
    "from aging.organization.dataframes import load_male_long_df, load_female_long_df, DF_PATHS\n",
    "from tqdm import tqdm"
   ]
  },
  {
   "cell_type": "code",
   "execution_count": null,
   "id": "d1dc615e",
   "metadata": {},
   "outputs": [],
   "source": [
    "import numpy as np\n",
    "import pandas as pd\n",
    "import matplotlib.pyplot as plt\n",
    "import seaborn as sns\n",
    "import colorcet as cc\n",
    "from operator import add\n",
    "from tqdm.auto import tqdm\n",
    "from functools import reduce\n",
    "from sklearn.cluster import KMeans\n",
    "from sklearn.decomposition import PCA\n",
    "from scipy.spatial.distance import squareform, pdist\n",
    "from sklearn.metrics import silhouette_score\n",
    "from aging.plotting import format_plots, figure, save_factory, PlotConfig, legend, add_identity\n",
    "from sklearn.cross_decomposition import PLSRegression"
   ]
  },
  {
   "cell_type": "code",
   "execution_count": null,
   "id": "86571b2b",
   "metadata": {},
   "outputs": [],
   "source": [
    "def mm_norm_col(column):\n",
    "    return (column - column.min()) / (column.max() - column.min())"
   ]
  },
  {
   "cell_type": "code",
   "execution_count": null,
   "id": "5d7d3841",
   "metadata": {},
   "outputs": [],
   "source": [
    "cmm = COLORMAPS.ont_male\n",
    "cmf = COLORMAPS.ont_female\n",
    "m_df = load_male_long_df(average_weeks=True, merge_size=False, merge_ages=True, df_path=DF_PATHS.usage_male).groupby(['age','mouse']).mean()\n",
    "f_df = load_female_long_df(average_weeks=True, merge_size=False, filter_female=True, merge_ages=True, df_path=DF_PATHS.usage_female).groupby(['age','mouse']).mean()"
   ]
  },
  {
   "cell_type": "code",
   "execution_count": null,
   "id": "77b0e1e1",
   "metadata": {},
   "outputs": [],
   "source": [
    "format_plots()"
   ]
  },
  {
   "cell_type": "markdown",
   "id": "01a43d09",
   "metadata": {},
   "source": [
    "## normalized"
   ]
  },
  {
   "cell_type": "code",
   "execution_count": null,
   "id": "d19ce310",
   "metadata": {},
   "outputs": [],
   "source": [
    "# avarage per age or session\n",
    "avg_f_df = f_df.groupby(['age']).mean()\n",
    "\n",
    "# normalize the data\n",
    "f_norm = mm_norm_col(f_df)\n",
    "avg_f_norm = mm_norm_col(avg_f_df)\n",
    "\n",
    "# avarage per age or session\n",
    "avg_m_df = m_df.groupby(['age']).mean()\n",
    "\n",
    "# normalize the data\n",
    "m_norm = mm_norm_col(m_df)\n",
    "avg_m_norm = mm_norm_col(avg_m_df)"
   ]
  },
  {
   "cell_type": "markdown",
   "id": "fcfeda2e",
   "metadata": {},
   "source": [
    "## pca females"
   ]
  },
  {
   "cell_type": "code",
   "execution_count": null,
   "id": "d9ba8bba",
   "metadata": {},
   "outputs": [],
   "source": [
    "## female\n",
    "df=f_norm.copy()\n",
    "pc = PCA(n_components=3)\n",
    "pcss = pc.fit_transform(df)"
   ]
  },
  {
   "cell_type": "code",
   "execution_count": null,
   "id": "89e1e298",
   "metadata": {},
   "outputs": [],
   "source": [
    "pcs = pd.DataFrame(pcss, columns=['PC1','PC2','PC3'])\n",
    "pcs['age'] = df.index.get_level_values('age')\n",
    "pcs['mouse'] = df.index.get_level_values('mouse')\n",
    "age_pc = pcs.drop('mouse', axis=1).groupby('age').mean()"
   ]
  },
  {
   "cell_type": "code",
   "execution_count": null,
   "id": "2da3d0cf",
   "metadata": {},
   "outputs": [],
   "source": [
    "variance_explained = pc.explained_variance_ratio_\n",
    "# Calculate cumulative variance explained by PCs\n",
    "print(np.cumsum(variance_explained))\n",
    "format_plots()"
   ]
  },
  {
   "cell_type": "code",
   "execution_count": null,
   "id": "bcb03870",
   "metadata": {},
   "outputs": [],
   "source": [
    "# Create a colormap\n",
    "#colors = plt.cm.cmf(np.linspace(0, 1, len(pcs)))\n",
    "from matplotlib.collections import LineCollection\n",
    "# Create segments for LineCollection\n",
    "points = np.array([age_pc['PC1'],age_pc['PC2']]).T.reshape(-1, 1, 2)\n",
    "segments = np.concatenate([points[:-1], points[1:]], axis=1)\n",
    "\n",
    "# Create the line collection object\n",
    "lc = LineCollection(segments, cmap=cmf, norm=plt.Normalize(0, 1))\n",
    "lc.set_array(np.linspace(0, 1, len(age_pc['PC1'])))"
   ]
  },
  {
   "cell_type": "code",
   "execution_count": null,
   "id": "3a82d69c",
   "metadata": {},
   "outputs": [],
   "source": [
    "# Create segments for LineCollection\n",
    "points = np.array([age_pc['PC1'], age_pc['PC2']]).T.reshape(-1, 1, 2)\n",
    "segments = np.concatenate([points[:-1], points[1:]], axis=1)\n",
    "\n",
    "# Create the line collection object\n",
    "lc = LineCollection(segments, cmap=cmf, norm=plt.Normalize(0, 1),linewidth=1)\n",
    "lc.set_array(np.linspace(0, 1, len(age_pc['PC1'])))\n",
    "# Create the outer black line collection\n",
    "black_lc = LineCollection(segments, colors='black', linewidth=1.5)\n",
    "\n",
    "# Plot\n",
    "fig, ax = plt.subplots()\n",
    "fig.set_size_inches(1.6, 1.3)\n",
    "\n",
    "# Scatter plot\n",
    "im = ax.scatter(\n",
    "    x=pcs['PC1'], y=pcs['PC2'], \n",
    "    c=pcs['age'], \n",
    "    cmap=cmf,\n",
    "    s=5,\n",
    "    edgecolor='none',\n",
    ")\n",
    "\n",
    "# Add colorbar\n",
    "cb = fig.colorbar(im, ax=ax)\n",
    "tick_values = [5,15,25,35,45]\n",
    "cb.set_ticks(tick_values)\n",
    "cb.set_ticklabels([f'{int(tick)}' for tick in tick_values])\n",
    "\n",
    "\n",
    "# Add the black line collection to the plot\n",
    "ax.add_collection(black_lc)\n",
    "\n",
    "# Add line collection to the plot\n",
    "ax.add_collection(lc)\n",
    "ax.autoscale()\n",
    "\n",
    "# Customize the plot\n",
    "sns.despine()\n",
    "plt.xlabel('PC1')\n",
    "plt.ylabel('PC2')\n",
    "plt.show()"
   ]
  },
  {
   "cell_type": "code",
   "execution_count": null,
   "id": "566c2998",
   "metadata": {},
   "outputs": [],
   "source": [
    "c = PlotConfig()\n",
    "fig.savefig(c.dana_save_path / \"fig3\"/ 'PCA_female_norm_line_longv2.pdf')"
   ]
  },
  {
   "cell_type": "code",
   "execution_count": null,
   "id": "3fc76d25",
   "metadata": {},
   "outputs": [],
   "source": [
    "df = pd.DataFrame(age_pc)\n",
    "\n",
    "# Apply rolling window average\n",
    "window_size = 2  # Adjust the window size as needed\n",
    "df_smooth = df.rolling(window=window_size, min_periods=1, center=True).mean()\n",
    "\n",
    "# Create segments for LineCollection from the smoothed data\n",
    "points = np.array([df_smooth['PC1'], df_smooth['PC2']]).T.reshape(-1, 1, 2)\n",
    "segments = np.concatenate([points[:-1], points[1:]], axis=1)\n",
    "\n",
    "# Create the line collection object\n",
    "lc = LineCollection(segments, cmap=cmf, norm=plt.Normalize(0, 1),linewidth=1)\n",
    "lc.set_array(np.linspace(0, 1, len(df_smooth['PC1'])))\n",
    "\n",
    "# Create the outer black line collection\n",
    "black_lc = LineCollection(segments, colors='black', linewidth=2)\n",
    "\n",
    "# Plot\n",
    "fig, ax = plt.subplots()\n",
    "fig.set_size_inches(1.6, 1.3)\n",
    "\n",
    "# Scatter plot\n",
    "im = ax.scatter(\n",
    "    x=pcs['PC1'], y=pcs['PC2'], \n",
    "    c=pcs['age'], \n",
    "    cmap=cmf,\n",
    "    s=5,\n",
    "    edgecolor='none',\n",
    ")\n",
    "\n",
    "# Add colorbar\n",
    "cb = fig.colorbar(im, ax=ax)\n",
    "tick_values = [5,15,25,35,45]\n",
    "cb.set_ticks(tick_values)\n",
    "cb.set_ticklabels([f'{int(tick)}' for tick in tick_values])\n",
    "\n",
    "\n",
    "# Add the black line collection to the plot\n",
    "ax.add_collection(black_lc)\n",
    "\n",
    "# Add line collection to the plot\n",
    "ax.add_collection(lc)\n",
    "ax.autoscale()\n",
    "\n",
    "# Customize the plot\n",
    "sns.despine()\n",
    "plt.xlabel('PC1')\n",
    "plt.ylabel('PC2')\n",
    "plt.show()"
   ]
  },
  {
   "cell_type": "code",
   "execution_count": null,
   "id": "4a94cf73",
   "metadata": {},
   "outputs": [],
   "source": [
    "c = PlotConfig()\n",
    "fig.savefig(c.dana_save_path / \"fig3\"/ 'PCA_female_norm_line_longv2_smoothened.pdf')"
   ]
  },
  {
   "cell_type": "code",
   "execution_count": null,
   "id": "02123514",
   "metadata": {},
   "outputs": [],
   "source": [
    "#PC1 correlation\n",
    "from scipy import stats\n",
    "[cm,pm] = stats.spearmanr(pcs['age'], pcs['PC1'])\n",
    "print(cm)\n",
    "fig, ax = plt.subplots()\n",
    "fig.set_size_inches(1.6,1.3) \n",
    "plt.scatter(x=pcs['age'], y=pcs['PC1'], \n",
    "            s=3, \n",
    "            c=pcs['age'], \n",
    "            edgecolor='none',\n",
    "            #linewidth=0.25,\n",
    "            #norm='log',\n",
    "            #alpha=0.75,\n",
    "            cmap=cmf)\n",
    "ax = sns.regplot(data=pcs, x='age', y=pcs['PC1'], scatter=False, color='black',\n",
    "                 logx=True,\n",
    "                )\n",
    "ax.set(xlabel='age (wks)', ylabel='PC1', xticks=[5,15,25,35,45])\n",
    "plt.title(f'$\\\\rho$={cm:0.2f}')\n",
    "norm = plt.Normalize(pcs['age'].min(), pcs['age'].max())\n",
    "sns.despine()\n",
    "sm = plt.cm.ScalarMappable(cmap=cmf, norm=norm)\n",
    "#sm = plt.cm.ScalarMappable(cmap=cmm)\n",
    "sm.set_array([])\n",
    "\n",
    "# Remove the legend and add a colorbar\n",
    "ax.figure.colorbar(sm)"
   ]
  },
  {
   "cell_type": "code",
   "execution_count": null,
   "id": "5d8e107e",
   "metadata": {},
   "outputs": [],
   "source": [
    "c = PlotConfig()\n",
    "fig.savefig(c.dana_save_path / \"fig3\"/ 'PCA_pc1_correlation_female_longv2.pdf')"
   ]
  },
  {
   "cell_type": "markdown",
   "id": "74f0bae8",
   "metadata": {},
   "source": [
    "## pca males"
   ]
  },
  {
   "cell_type": "code",
   "execution_count": null,
   "id": "c429f061",
   "metadata": {},
   "outputs": [],
   "source": [
    "df=m_norm.copy()\n",
    "pc = PCA(n_components=3)\n",
    "pcss = pc.fit_transform(df)"
   ]
  },
  {
   "cell_type": "code",
   "execution_count": null,
   "id": "77bfe721",
   "metadata": {},
   "outputs": [],
   "source": [
    "pcs = pd.DataFrame(pcss, columns=['PC1','PC2','PC3'])\n",
    "pcs['age'] = df.index.get_level_values('age')\n",
    "pcs['mouse'] = df.index.get_level_values('mouse')\n",
    "age_pc = pcs.drop('mouse', axis=1).groupby('age').mean()"
   ]
  },
  {
   "cell_type": "code",
   "execution_count": null,
   "id": "34149992",
   "metadata": {},
   "outputs": [],
   "source": [
    "variance_explained = pc.explained_variance_ratio_\n",
    "# Calculate cumulative variance explained by PCs\n",
    "print(np.cumsum(variance_explained))\n",
    "format_plots()"
   ]
  },
  {
   "cell_type": "code",
   "execution_count": null,
   "id": "0e9a4130",
   "metadata": {},
   "outputs": [],
   "source": [
    "# Create segments for LineCollection\n",
    "points = np.array([age_pc['PC1'], age_pc['PC2']]).T.reshape(-1, 1, 2)\n",
    "segments = np.concatenate([points[:-1], points[1:]], axis=1)\n",
    "\n",
    "# Create the line collection object\n",
    "lc = LineCollection(segments, cmap=cmm, norm=plt.Normalize(0, 1),linewidth=1)\n",
    "lc.set_array(np.linspace(0, 1, len(age_pc['PC1'])))\n",
    "# Create the outer black line collection\n",
    "black_lc = LineCollection(segments, colors='black', linewidth=1.5)\n",
    "\n",
    "# Plot\n",
    "fig, ax = plt.subplots()\n",
    "fig.set_size_inches(1.6, 1.3)\n",
    "\n",
    "# Scatter plot\n",
    "im = ax.scatter(\n",
    "    x=pcs['PC1'], y=pcs['PC2'], \n",
    "    c=pcs['age'], \n",
    "    cmap=cmm,\n",
    "    s=8,\n",
    "    edgecolor='none',\n",
    ")\n",
    "\n",
    "# Add colorbar\n",
    "cb = fig.colorbar(im, ax=ax)\n",
    "tick_values = [5,15,25,35,45]\n",
    "cb.set_ticks(tick_values)\n",
    "cb.set_ticklabels([f'{int(tick)}' for tick in tick_values])\n",
    "tick_values = [5,15,25,35,45]\n",
    "\n",
    "# Add the black line collection to the plot\n",
    "ax.add_collection(black_lc)\n",
    "\n",
    "# Add line collection to the plot\n",
    "ax.add_collection(lc)\n",
    "ax.autoscale()\n",
    "\n",
    "# Customize the plot\n",
    "sns.despine()\n",
    "plt.xlabel('PC1')\n",
    "plt.ylabel('PC2')\n",
    "plt.show()"
   ]
  },
  {
   "cell_type": "code",
   "execution_count": null,
   "id": "29e4ecce",
   "metadata": {},
   "outputs": [],
   "source": [
    "c = PlotConfig()\n",
    "fig.savefig(c.dana_save_path / \"fig3\"/ 'PCA_male_norm_line_longv2.pdf')"
   ]
  },
  {
   "cell_type": "code",
   "execution_count": null,
   "id": "d9eeefa6",
   "metadata": {},
   "outputs": [],
   "source": [
    "## smoothened line\n",
    "# Create segments for LineCollection\n",
    "df = pd.DataFrame(age_pc)\n",
    "\n",
    "# Apply rolling window average\n",
    "window_size = 2  # Adjust the window size as needed\n",
    "df_smooth = df.rolling(window=window_size, min_periods=1, center=True).mean()\n",
    "\n",
    "# Create segments for LineCollection from the smoothed data\n",
    "points = np.array([df_smooth['PC1'], df_smooth['PC2']]).T.reshape(-1, 1, 2)\n",
    "segments = np.concatenate([points[:-1], points[1:]], axis=1)\n",
    "\n",
    "# Create the line collection object\n",
    "lc = LineCollection(segments, cmap=cmm, norm=plt.Normalize(0, 1),linewidth=1)\n",
    "lc.set_array(np.linspace(0, 1, len(df_smooth['PC1'])))\n",
    "\n",
    "# Create the outer black line collection\n",
    "black_lc = LineCollection(segments, colors='black', linewidth=2)\n",
    "\n",
    "# Plot\n",
    "fig, ax = plt.subplots()\n",
    "fig.set_size_inches(1.6, 1.3)\n",
    "\n",
    "# Scatter plot\n",
    "im = ax.scatter(\n",
    "    x=pcs['PC1'], y=pcs['PC2'], \n",
    "    c=pcs['age'], \n",
    "    cmap=cmm,\n",
    "    s=8,\n",
    "    edgecolor='none',\n",
    ")\n",
    "\n",
    "# Add colorbar\n",
    "cb = fig.colorbar(im, ax=ax)\n",
    "tick_values = [5,15,25,35,45]\n",
    "cb.set_ticks(tick_values)\n",
    "cb.set_ticklabels([f'{int(tick)}' for tick in tick_values])\n",
    "tick_values = [5,15,25,35,45]\n",
    "\n",
    "# Add the black line collection to the plot\n",
    "ax.add_collection(black_lc)\n",
    "\n",
    "# Add line collection to the plot\n",
    "ax.add_collection(lc)\n",
    "ax.autoscale()\n",
    "\n",
    "# Customize the plot\n",
    "sns.despine()\n",
    "plt.xlabel('PC1')\n",
    "plt.ylabel('PC2')\n",
    "plt.show()"
   ]
  },
  {
   "cell_type": "code",
   "execution_count": null,
   "id": "1b901351",
   "metadata": {},
   "outputs": [],
   "source": [
    "c = PlotConfig()\n",
    "fig.savefig(c.dana_save_path / \"fig3\"/ 'PCA_male_norm_line_longv2_smoothened.pdf')"
   ]
  },
  {
   "cell_type": "code",
   "execution_count": null,
   "id": "2a39e8dc",
   "metadata": {},
   "outputs": [],
   "source": [
    "#PC1 correlation\n",
    "from scipy import stats\n",
    "[cm,pm] = stats.spearmanr(pcs['age'], pcs['PC1'])\n",
    "print(cm)\n",
    "fig, ax = plt.subplots()\n",
    "fig.set_size_inches(1.7,1.3) \n",
    "plt.scatter(x=pcs['age'], y=pcs['PC1'], \n",
    "            s=3, \n",
    "            c=pcs['age'], \n",
    "            edgecolor='none',\n",
    "            #linewidth=0.25,\n",
    "            #norm='log',\n",
    "            #alpha=0.75,\n",
    "            cmap=cmm)\n",
    "ax = sns.regplot(data=pcs, x='age', y=pcs['PC1'], scatter=False, color='black',\n",
    "                 logx=True,\n",
    "                )\n",
    "ax.set(xlabel='age (wks)', ylabel='PC1', xticks=[5,15,25,35,45])\n",
    "plt.title(f'$\\\\rho$={cm:0.2f}')\n",
    "norm = plt.Normalize(pcs['age'].min(), pcs['age'].max())\n",
    "sns.despine()\n",
    "tick_values = [5,15,25,35,45]\n",
    "sm = plt.cm.ScalarMappable(cmap=cmm, norm=norm)\n",
    "#sm = plt.cm.ScalarMappable(cmap=cmm)\n",
    "sm.set_array([])\n",
    "\n",
    "# Remove the legend and add a colorbar\n",
    "ax.figure.colorbar(sm)"
   ]
  },
  {
   "cell_type": "code",
   "execution_count": null,
   "id": "9bdf110f",
   "metadata": {},
   "outputs": [],
   "source": [
    "c = PlotConfig()\n",
    "fig.savefig(c.dana_save_path / \"fig3\"/ 'PCA_pc1_correlation_male_longv2.pdf')"
   ]
  }
 ],
 "metadata": {
  "kernelspec": {
   "display_name": "Python 3 (ipykernel)",
   "language": "python",
   "name": "python3"
  },
  "language_info": {
   "codemirror_mode": {
    "name": "ipython",
    "version": 3
   },
   "file_extension": ".py",
   "mimetype": "text/x-python",
   "name": "python",
   "nbconvert_exporter": "python",
   "pygments_lexer": "ipython3",
   "version": "3.10.12"
  }
 },
 "nbformat": 4,
 "nbformat_minor": 5
}
