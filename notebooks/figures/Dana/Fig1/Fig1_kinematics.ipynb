{
 "cells": [
  {
   "cell_type": "markdown",
   "id": "fabad8e2-baf8-4137-b706-aac9360c455a",
   "metadata": {},
   "source": [
    "# Kinematics and morphology for males and females"
   ]
  },
  {
   "cell_type": "code",
   "execution_count": null,
   "id": "c13fc5f3-8bf5-428b-9824-1210a36232b8",
   "metadata": {},
   "outputs": [],
   "source": [
    "import numpy as np\n",
    "import pandas as pd\n",
    "import matplotlib.pyplot as plt\n",
    "import seaborn as sns\n",
    "from tabulate import tabulate\n",
    "from aging.plotting import (\n",
    "    format_plots,\n",
    "    save_factory,\n",
    "    figure,\n",
    "    PLOT_CONFIG,\n",
    "    COLORMAPS,\n",
    ")"
   ]
  },
  {
   "cell_type": "code",
   "execution_count": null,
   "id": "05355453-7b6e-4146-b23a-4e3d71eb48ac",
   "metadata": {},
   "outputs": [],
   "source": [
    "%matplotlib inline"
   ]
  },
  {
   "cell_type": "code",
   "execution_count": null,
   "id": "078af1d4-174a-4351-99e0-eabcee5b2b41",
   "metadata": {},
   "outputs": [],
   "source": [
    "format_plots()\n",
    "saver = save_factory(PLOT_CONFIG.save_path / \"fig1-panels\", tight_layout=False)"
   ]
  },
  {
   "cell_type": "code",
   "execution_count": null,
   "id": "ff9bff25-d95d-4120-b8b8-71f97a2a2273",
   "metadata": {},
   "outputs": [],
   "source": [
    "def compute_kinematics(df):\n",
    "    mean_angular_speed = (df[\"angle\"].diff(3) / 3).abs().mean() * 30\n",
    "    mean_velocity = (\n",
    "        df[\"velocity_2d_mm\"]\n",
    "        .rolling(3, center=True, min_periods=1, win_type=\"gaussian\")\n",
    "        .mean(std=0.5)\n",
    "        .mean()\n",
    "    ) * 30 / 100\n",
    "    mean_3d_velocity = (\n",
    "        df[\"velocity_3d_mm\"]\n",
    "        .rolling(3, center=True, min_periods=1, win_type=\"gaussian\")\n",
    "        .mean(std=0.5)\n",
    "        .mean()\n",
    "    ) * 30 / 100\n",
    "    return pd.Series(dict(angular=mean_angular_speed, two_d=mean_velocity, three_d=mean_3d_velocity))\n",
    "\n",
    "\n",
    "def compute_dist_to_center(df):\n",
    "    center_x = (df['centroid_x_mm'].max() - df['centroid_x_mm'].min()) / 2\n",
    "    center_y = (df['centroid_y_mm'].max() - df['centroid_y_mm'].min()) / 2\n",
    "\n",
    "    distance_x = df['centroid_x_mm'] - center_x\n",
    "    distance_y = df['centroid_y_mm'] - center_y\n",
    "\n",
    "    dist_to_center = np.sqrt(distance_x ** 2 + distance_y ** 2)\n",
    "\n",
    "    return pd.Series(dict(center_distance=dist_to_center.mean()))"
   ]
  },
  {
   "cell_type": "code",
   "execution_count": null,
   "id": "8b96355c-fd2c-43ba-b355-124c9a301ccd",
   "metadata": {},
   "outputs": [],
   "source": [
    "agg_kin_df = []\n",
    "agg_size_df = []"
   ]
  },
  {
   "cell_type": "code",
   "execution_count": null,
   "id": "cbf70fb3-4ebb-4877-96cf-e41753124b19",
   "metadata": {},
   "outputs": [],
   "source": [
    "df = pd.read_parquet('ontogeny_males_syllable_df_v00.parquet')\n",
    "df = df.query('age < 100')\n",
    "kin_df = df.groupby(['age', 'uuid'], sort=False)[['angle', 'velocity_2d_mm', 'velocity_3d_mm']].apply(compute_kinematics)\n",
    "_ddf = df.groupby(['age', 'uuid'], sort=False)[['centroid_x_mm', 'centroid_y_mm']].apply(compute_dist_to_center)\n",
    "kin_df = kin_df.join(_ddf)\n",
    "kin_df['exp'] = 'males'\n",
    "\n",
    "agg_kin_df.append(kin_df)\n",
    "\n",
    "size_df = df.groupby(['age', 'uuid'], sort=False)[['height_ave_mm', 'area_mm', 'width_mm']].mean()\n",
    "size_df['area_mm'] = size_df['area_mm'] / 100\n",
    "# size_df['exp'] = 'males'\n",
    "\n",
    "agg_size_df.append(size_df)"
   ]
  },
  {
   "cell_type": "code",
   "execution_count": null,
   "id": "5146d2ab",
   "metadata": {},
   "outputs": [],
   "source": [
    "df = pd.read_parquet('ontogeny_females_syllable_df_v00.parquet')\n",
    "df = df.query('age < 100')\n",
    "kin_df = df.groupby(['age', 'uuid'], sort=False)[['angle', 'velocity_2d_mm', 'velocity_3d_mm']].apply(compute_kinematics)\n",
    "_ddf = df.groupby(['age', 'uuid'], sort=False)[['centroid_x_mm', 'centroid_y_mm']].apply(compute_dist_to_center)\n",
    "kin_df = kin_df.join(_ddf)\n",
    "kin_df['exp'] = 'females'\n",
    "kin_df = kin_df.query('angular > 0.1')"
   ]
  },
  {
   "cell_type": "code",
   "execution_count": null,
   "id": "c9dbe8c2",
   "metadata": {},
   "outputs": [],
   "source": [
    "agg_kin_df.append(kin_df)"
   ]
  },
  {
   "cell_type": "code",
   "execution_count": null,
   "id": "156a8c38",
   "metadata": {},
   "outputs": [],
   "source": [
    "size_df = df.groupby(['age', 'uuid'], sort=False)[['height_ave_mm', 'area_mm', 'width_mm']].mean()\n",
    "size_df['area_mm'] = size_df['area_mm'] / 100\n",
    "# size_df['exp'] = 'females'\n",
    "size_df = size_df.query('area_mm > 1')\n",
    "agg_size_df.append(size_df)"
   ]
  },
  {
   "cell_type": "code",
   "execution_count": null,
   "id": "1ddfb771-1d8b-4796-8ecf-e62d7f43c000",
   "metadata": {},
   "outputs": [],
   "source": [
    "agg_kin_df = pd.concat(agg_kin_df)\n",
    "agg_size_df = pd.concat(agg_size_df)"
   ]
  },
  {
   "cell_type": "code",
   "execution_count": null,
   "id": "8be2dcb7-24d7-4f40-875f-0442543ceb77",
   "metadata": {},
   "outputs": [],
   "source": [
    "agg_df = agg_kin_df.join(agg_size_df)"
   ]
  },
  {
   "cell_type": "code",
   "execution_count": null,
   "id": "168a5e46-c823-4bfd-b590-552d83a67d4e",
   "metadata": {},
   "outputs": [],
   "source": [
    "# for female:\n",
    "# Update age value to 52 for rows with uuid in the list\n",
    "uuids = ['242bee8e-0ee7-45e7-8a13-678836a4cddb','d6f254af-d55a-427a-96e0-c452a233cbe2']\n",
    "\n",
    "age_mapping = {\n",
    "    93: 94,\n",
    "    95: 94,\n",
    "    97: 98,\n",
    "    98: 98,\n",
    "    102: 98,\n",
    "    103: 105,\n",
    "    105: 105,\n",
    "    107: 105\n",
    "}\n",
    "\n",
    "agg_df.reset_index(inplace=True)\n",
    "agg_df['age'] = agg_df['age'].map(age_mapping).fillna(agg_df['age'])\n",
    "agg_df.loc[agg_df['uuid'].isin(uuids), 'age'] = 52\n",
    "# Set the index back\n",
    "agg_df.set_index(['age', 'uuid'], inplace=True)"
   ]
  },
  {
   "cell_type": "code",
   "execution_count": null,
   "id": "26abb68a",
   "metadata": {},
   "outputs": [],
   "source": [
    "mask = agg_df['area_mm'].isna()"
   ]
  },
  {
   "cell_type": "code",
   "execution_count": null,
   "id": "70e198b0",
   "metadata": {},
   "outputs": [],
   "source": [
    "agg_df[mask]"
   ]
  },
  {
   "cell_type": "code",
   "execution_count": null,
   "id": "4ea5b32a-28fb-4d58-91b1-8638c7a5f8dc",
   "metadata": {},
   "outputs": [],
   "source": [
    "ylabel_map = dict(\n",
    "    angular=\"Angular speed (rad/s)\", two_d=\"2D speed (cm/s)\", three_d=\"3D speed (cm/s)\", center_distance=\"Dist. to center (mm)\",\n",
    "    area_mm=\"Area (cm2)\", height_ave_mm=\"Height (mm)\", width_mm=\"Width (mm)\",\n",
    ")"
   ]
  },
  {
   "cell_type": "code",
   "execution_count": null,
   "id": "a8ffb46f-c0bf-4255-837c-e7767f75a506",
   "metadata": {},
   "outputs": [],
   "source": [
    "fig, ax = plt.subplots(2, 3, figsize=(2.1, 1.5), sharex=True)\n",
    "for a, k in zip(ax.flat, (\"area_mm\", \"height_ave_mm\", \"width_mm\", \"angular\", \"two_d\", \"center_distance\")):\n",
    "    a = sns.scatterplot(\n",
    "        data=agg_df.reset_index(),\n",
    "        x=\"age\",\n",
    "        y=k,\n",
    "        hue='exp',\n",
    "        linewidths='none',\n",
    "        s=4.5,\n",
    "        zorder=-1,\n",
    "        palette=[COLORMAPS.ont_male(5), COLORMAPS.ont_female(5)],\n",
    "        hue_order=['males', 'females'],\n",
    "        ax=a,\n",
    "        alpha=0.5,\n",
    "        legend=False,\n",
    "    )\n",
    "    a = sns.lineplot(\n",
    "        data=agg_df.reset_index(),\n",
    "        x=\"age\",\n",
    "        y=k,\n",
    "        hue='exp',\n",
    "        errorbar=None,\n",
    "        # err_kws=dict(lw=0, alpha=0.3),\n",
    "        palette=[COLORMAPS.ont_male(255), COLORMAPS.ont_female(255)],\n",
    "        hue_order=['males', 'females'],\n",
    "        ax=a,\n",
    "        #legend=k == \"width_mm\",\n",
    "        legend=False,\n",
    "    )\n",
    "    a.set(ylabel=ylabel_map[k], xlabel=\"Age (wks)\", xticks=[0, 40, 80])\n",
    "sns.despine()\n",
    "fig.tight_layout()"
   ]
  },
  {
   "cell_type": "code",
   "execution_count": null,
   "id": "d870564a",
   "metadata": {},
   "outputs": [],
   "source": [
    "from aging.plotting import format_plots, PlotConfig, save_factory, figure, legend\n",
    "c = PlotConfig()\n",
    "fig.savefig(c.dana_save_path / \"fig1\"/ \"mf-kinematics-and-morphology-over-age.pdf\")"
   ]
  },
  {
   "cell_type": "markdown",
   "id": "62838590",
   "metadata": {},
   "source": [
    "## stats"
   ]
  },
  {
   "cell_type": "code",
   "execution_count": null,
   "id": "bb74d525",
   "metadata": {},
   "outputs": [],
   "source": [
    "data=agg_df.reset_index()"
   ]
  },
  {
   "cell_type": "code",
   "execution_count": null,
   "id": "5404180d",
   "metadata": {},
   "outputs": [],
   "source": [
    "#use all mice until 90 and remove age 16 to get only the ages in which we have data for both males and females:\n",
    "data=data.query('age<91')\n",
    "data=data.query('age!=16')"
   ]
  },
  {
   "cell_type": "code",
   "execution_count": null,
   "id": "54e5a88c",
   "metadata": {},
   "outputs": [],
   "source": [
    "agg_df.to_csv('kinematics_ontogeny.csv', index=True)"
   ]
  },
  {
   "cell_type": "code",
   "execution_count": null,
   "id": "123c912d",
   "metadata": {},
   "outputs": [],
   "source": [
    "import scipy.stats as stats\n",
    "import statsmodels.api as sm\n",
    "from statsmodels.formula.api import ols\n",
    "\n",
    "def art_anova(data, dependent_var, factor1, factor2):\n",
    "    \"\"\"\n",
    "    Perform Aligned Rank Transform (ART) ANOVA.\n",
    "    \n",
    "    Parameters:\n",
    "    data (pd.DataFrame): The input data frame.\n",
    "    dependent_var (str): The name of the dependent variable column.\n",
    "    factor1 (str): The name of the first factor column.\n",
    "    factor2 (str): The name of the second factor column.\n",
    "    \n",
    "    Returns:\n",
    "    pd.DataFrame: The ANOVA results.\n",
    "    \"\"\"\n",
    "    \n",
    "    # Align the data\n",
    "    align_data = data.copy()\n",
    "    # Subtract the mean of each combination of factors from the dependent variable\n",
    "    align_data[dependent_var] -= align_data.groupby([factor1, factor2])[dependent_var].transform('mean')\n",
    "    \n",
    "    # Rank the aligned data\n",
    "    align_data['ranked_response'] = align_data[dependent_var].rank()\n",
    "    \n",
    "    # Fit an OLS model on the ranked data\n",
    "    model = ols(f'ranked_response ~ {factor1} * {factor2}', data=align_data).fit()\n",
    "    \n",
    "    # Perform ANOVA on the fitted model\n",
    "    anova_results = sm.stats.anova_lm(model, typ=2)\n",
    "    \n",
    "    # Convert results to a DataFrame\n",
    "    anova_df = pd.DataFrame(anova_results)\n",
    "    \n",
    "    return anova_df\n",
    "\n",
    "def tw_anova(data, dependent_var, factor1, factor2):\n",
    "    \"\"\"\n",
    "    Perform two-way ANOVA.\n",
    "    \n",
    "    Parameters:\n",
    "    data (pd.DataFrame): The input data frame.\n",
    "    dependent_var (str): The name of the dependent variable column.\n",
    "    factor1 (str): The name of the first factor column.\n",
    "    factor2 (str): The name of the second factor column.\n",
    "    \n",
    "    Returns:\n",
    "    pd.DataFrame: The ANOVA results.\n",
    "    \"\"\"\n",
    "    \n",
    "    # Align the data\n",
    "    align_data = data.copy()\n",
    "    align_data['ranked_response'] = align_data[[dependent_var]]\n",
    "    # Fit an OLS model on the ranked data\n",
    "    #model = ols(f'ranked_response ~ {factor1} * {factor2}', data=align_data).fit()\n",
    "    model = ols(f'ranked_response ~ {factor1} * C({factor2})', data=align_data).fit()\n",
    "\n",
    "    # Perform ANOVA on the fitted model\n",
    "    anova_results = sm.stats.anova_lm(model, typ=3)\n",
    "    \n",
    "    # Convert results to a DataFrame\n",
    "    anova_df = pd.DataFrame(anova_results)\n",
    "    \n",
    "    return anova_df\n",
    "\n",
    "def ow_anova(data, dependent_var, factor1, factor2):\n",
    "    \"\"\"\n",
    "    Perform two-way ANOVA.\n",
    "    \n",
    "    Parameters:\n",
    "    data (pd.DataFrame): The input data frame.\n",
    "    dependent_var (str): The name of the dependent variable column.\n",
    "    factor1 (str): The name of the first factor column.\n",
    "    factor2 (str): The name of the second factor column.\n",
    "    \n",
    "    Returns:\n",
    "    pd.DataFrame: The ANOVA results.\n",
    "    \"\"\"\n",
    "    \n",
    "    # Align the data\n",
    "    align_data = data.copy()\n",
    "    align_data['ranked_response'] = align_data[[dependent_var]]\n",
    "    # Fit an OLS model on the ranked data\n",
    "    model = ols(f'ranked_response ~ {factor1}', data=align_data).fit()\n",
    "    # Perform ANOVA on the fitted model\n",
    "    anova_results = sm.stats.anova_lm(model, typ=3)\n",
    "    \n",
    "    # Convert results to a DataFrame\n",
    "    anova_df = pd.DataFrame(anova_results)\n",
    "    \n",
    "    return anova_df"
   ]
  },
  {
   "cell_type": "code",
   "execution_count": null,
   "id": "1fb5f751",
   "metadata": {},
   "outputs": [],
   "source": [
    "# Initialize variables\n",
    "results = []\n",
    "dependent_vars = [\"angular\", \"two_d\", \"center_distance\", \"area_mm\", \"height_ave_mm\", \"width_mm\"]\n",
    "n_tests = len(dependent_vars)  # Number of ANOVA tests\n",
    "\n",
    "# Perform ANOVA for each dependent variable\n",
    "for i, k in enumerate(dependent_vars):\n",
    "    print(k)\n",
    "    anova_results = tw_anova(data, k, 'age', 'exp')\n",
    "    anova_results['Dependent Variable'] = k  # Add dependent variable to the results\n",
    "    results.append(anova_results)\n",
    "    print(tabulate(anova_results, headers='keys', tablefmt='psql'))\n",
    "\n",
    "# Combine results into a DataFrame\n",
    "results_df = pd.concat(results).reset_index()\n",
    "results_df.rename(columns={'index': 'Parameter'}, inplace=True)\n",
    "\n",
    "# Move the 'Dependent Variable' column to the first position\n",
    "cols = ['Dependent Variable'] + [col for col in results_df.columns if col != 'Dependent Variable']\n",
    "results_df = results_df[cols]\n",
    "\n",
    "# Apply Bonferroni correction to the p-values\n",
    "results_df['Bonferroni_corrected_p'] = results_df['PR(>F)'] * n_tests\n",
    "results_df['Bonferroni_corrected_p'] = results_df['Bonferroni_corrected_p'].apply(lambda p: min(p, 1))  # p-values should not exceed 1\n",
    "\n",
    "# Save DataFrame to CSV file\n",
    "results_df.to_csv('anova_results_kinematics.csv', index=False)\n",
    "\n",
    "print(\"ANOVA results with Bonferroni-corrected p-values have been saved to 'anova_results.csv'\")"
   ]
  }
 ],
 "metadata": {
  "kernelspec": {
   "display_name": "Python 3 (ipykernel)",
   "language": "python",
   "name": "python3"
  },
  "language_info": {
   "codemirror_mode": {
    "name": "ipython",
    "version": 3
   },
   "file_extension": ".py",
   "mimetype": "text/x-python",
   "name": "python",
   "nbconvert_exporter": "python",
   "pygments_lexer": "ipython3",
   "version": "3.10.12"
  },
  "widgets": {
   "application/vnd.jupyter.widget-state+json": {
    "state": {},
    "version_major": 2,
    "version_minor": 0
   }
  }
 },
 "nbformat": 4,
 "nbformat_minor": 5
}
