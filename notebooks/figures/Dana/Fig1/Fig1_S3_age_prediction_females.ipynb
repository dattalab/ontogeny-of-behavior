{
 "cells": [
  {
   "cell_type": "code",
   "execution_count": null,
   "id": "a77ea523",
   "metadata": {},
   "outputs": [],
   "source": [
    "import numpy as np\n",
    "import pandas as pd\n",
    "import seaborn as sns\n",
    "import matplotlib.pyplot as plt\n",
    "from aging.plotting import format_plots, PlotConfig, save_factory, figure, legend, format_pizza_plots, add_identity\n",
    "from collections import Counter\n",
    "from matplotlib.lines import Line2D\n",
    "from tqdm import tqdm\n",
    "from sklearn.model_selection import GroupKFold, cross_val_predict\n",
    "from sklearn.ensemble import RandomForestRegressor  # or any regressor you use\n",
    "from sklearn.metrics import r2_score, mean_squared_error\n",
    "from sklearn.metrics import mean_absolute_error, median_absolute_error"
   ]
  },
  {
   "cell_type": "code",
   "execution_count": null,
   "id": "d1dc615e",
   "metadata": {},
   "outputs": [],
   "source": [
    "from sklearn.model_selection import train_test_split\n",
    "from sklearn import svm\n",
    "from sklearn.ensemble import RandomForestClassifier\n",
    "from matplotlib.gridspec import GridSpec\n",
    "from collections import defaultdict\n",
    "from sklearn.model_selection import cross_val_score, cross_val_predict\n",
    "from sklearn.linear_model import LogisticRegression, LinearRegression\n",
    "from sklearn.model_selection import ShuffleSplit\n",
    "from sklearn.svm import LinearSVC\n",
    "from sklearn.model_selection import GroupKFold, LeaveOneGroupOut, LeaveOneOut, KFold\n",
    "from sklearn.metrics import accuracy_score, mean_absolute_error, mean_squared_error, r2_score, confusion_matrix\n",
    "from sklearn.neighbors import KNeighborsRegressor\n",
    "from sklearn.cross_decomposition import PLSRegression"
   ]
  },
  {
   "cell_type": "code",
   "execution_count": null,
   "id": "86571b2b",
   "metadata": {},
   "outputs": [],
   "source": [
    "def mm_norm_col(column):\n",
    "    return (column - column.min()) / (column.max() - column.min())"
   ]
  },
  {
   "cell_type": "code",
   "execution_count": null,
   "id": "25a26386",
   "metadata": {},
   "outputs": [],
   "source": [
    "from matplotlib.colors import LinearSegmentedColormap\n",
    "colors = ['#c7eae5','#008C8D']\n",
    "custom_cmap = LinearSegmentedColormap.from_list(\"custom_purples\", colors, N=256)\n",
    "cmm=custom_cmap\n",
    "\n",
    "# Define the color map\n",
    "colors = ['#fee6ce','#d94801']\n",
    "custom_cmap = LinearSegmentedColormap.from_list(\"custom_purples\", colors, N=256)\n",
    "cmf=custom_cmap\n",
    "\n",
    "image_ctx = {'image.cmap': 'cubehelix', 'image.interpolation': 'none'}"
   ]
  },
  {
   "cell_type": "code",
   "execution_count": null,
   "id": "e34ebdd1",
   "metadata": {},
   "outputs": [],
   "source": [
    "## arrange data\n",
    "## arrange data for females\n",
    "keep_syllables = np.loadtxt('to_keep_syllables_raw.txt', dtype=int)\n",
    "\n",
    "female_df = pd.read_parquet('ontogeny_females_raw_usage_matrix_v00.parquet').astype(float)\n",
    "female_df = female_df[keep_syllables]\n",
    "\n",
    "# for female:\n",
    "f_df= female_df.groupby(['age','uuid']).mean()\n",
    "# Update age value to 52 for rows with uuid in the list\n",
    "uuids = ['f1d5dce5-f5cf-4b03-b07d-d9b8c1f034b0','6fa50ac7-6d49-4ef9-9059-3d90bdd8c5d4',\n",
    "         'e9e05da8-fc59-40f3-a9c8-f57c492c6141','327e7fa1-2237-43d2-b25f-c1801912df33',\n",
    "        '242bee8e-0ee7-45e7-8a13-678836a4cddb','552ec70f-0676-4471-8ab0-403e1fcf43e3','d6f254af-d55a-427a-96e0-c452a233cbe2']\n",
    "f_df.reset_index(inplace=True)\n",
    "\n",
    "age_mapping = {\n",
    "    93: 94,\n",
    "    95: 94,\n",
    "    97: 98,\n",
    "    98: 98,\n",
    "    102: 98,\n",
    "    103: 105,\n",
    "    105: 105,\n",
    "    107: 105\n",
    "}\n",
    "\n",
    "f_df['age'] = f_df['age'].map(age_mapping).fillna(f_df['age'])\n",
    "f_df.loc[f_df['uuid'].isin(uuids), 'age'] = 52\n",
    "# Set the index back\n",
    "f_df.set_index(['age', 'uuid'], inplace=True)\n",
    "f_df=f_df.query('age<127')"
   ]
  },
  {
   "cell_type": "code",
   "execution_count": null,
   "id": "fbc08584",
   "metadata": {},
   "outputs": [],
   "source": [
    "# choose a model for decoder\n",
    "clf = PLSRegression(n_components=5)\n",
    "cv = LeaveOneOut()\n",
    "#number of iterations for shuffle\n",
    "it=100"
   ]
  },
  {
   "cell_type": "code",
   "execution_count": null,
   "id": "b356544a",
   "metadata": {},
   "outputs": [],
   "source": [
    "format_plots()"
   ]
  },
  {
   "cell_type": "code",
   "execution_count": null,
   "id": "b3241d1f",
   "metadata": {},
   "outputs": [],
   "source": [
    "#prepare data\n",
    "#data=f_norm.copy()\n",
    "data=f_df.copy()\n",
    "y_age =data.index.get_level_values('age').to_numpy()\n",
    "X=data.to_numpy()"
   ]
  },
  {
   "cell_type": "code",
   "execution_count": null,
   "id": "692e8809",
   "metadata": {},
   "outputs": [],
   "source": [
    "#decoder\n",
    "y_pred = cross_val_predict(clf, X, y_age, cv=cv)\n",
    "r2_age = r2_score(y_age, y_pred)\n",
    "print(r2_age)"
   ]
  },
  {
   "cell_type": "code",
   "execution_count": null,
   "id": "99a5ac30",
   "metadata": {},
   "outputs": [],
   "source": [
    "res_age = y_age.flatten()-y_pred.flatten()\n",
    "res_less = res_age[res_age<0]\n",
    "res_more = res_age[res_age>0]\n",
    "print(np.mean(abs(res_less)))\n",
    "print(np.mean(abs(res_more)))"
   ]
  },
  {
   "cell_type": "code",
   "execution_count": null,
   "id": "152f8cd5",
   "metadata": {},
   "outputs": [],
   "source": [
    "df_res = pd.DataFrame(res_age)\n",
    "df_res['age'] = y_age.flatten()"
   ]
  },
  {
   "cell_type": "code",
   "execution_count": null,
   "id": "fd0a886d",
   "metadata": {},
   "outputs": [],
   "source": [
    "from scipy.stats import pearsonr\n",
    "print(pearsonr(y_age, y_pred.flatten()))"
   ]
  },
  {
   "cell_type": "code",
   "execution_count": null,
   "id": "cf78e0dd",
   "metadata": {},
   "outputs": [],
   "source": [
    "# Calculating Mean Absolute Error (MAE)\n",
    "mae_age = median_absolute_error(y_age, y_pred)\n",
    "print(\"Median Absolute Error (MAE):\", mae_age)"
   ]
  },
  {
   "cell_type": "code",
   "execution_count": null,
   "id": "a9849e1c",
   "metadata": {},
   "outputs": [],
   "source": [
    "fig = figure(1, 1)\n",
    "ax = fig.gca()\n",
    "plt.scatter(y_age, y_pred, c=y_age, cmap=cmf, s=3)\n",
    "#add_identity(ax, ls='--', color='k', zorder=-1)\n",
    "ax.set(xlim=(0, None),yticks=[-20,0, 20, 40, 60,80,100, 120], xticks=[0, 20, 40, 60,80,100,120], xlabel=\"Age (wks)\", ylabel=\"Predicted age (wks)\", \n",
    "       title=f\"R2={r2_age:0.2f}\",\n",
    "      )\n",
    "plt.plot(y_age, y_age, linestyle='--', color='black')\n",
    "sns.despine()"
   ]
  },
  {
   "cell_type": "code",
   "execution_count": null,
   "id": "78d15afa",
   "metadata": {},
   "outputs": [],
   "source": [
    "c = PlotConfig()\n",
    "fig.savefig(c.dana_save_path / \"fig1\"/ 'Age_regression_female.pdf', bbox_inches='tight')"
   ]
  },
  {
   "cell_type": "code",
   "execution_count": null,
   "id": "1b5d6f38",
   "metadata": {},
   "outputs": [],
   "source": [
    "#shuffle\n",
    "ysh_score_age=[]\n",
    "ysh_age=[]\n",
    "ysh_predict_age=[]\n",
    "ysh_mse_age=[]\n",
    "for i in tqdm(range(it)):\n",
    "    ysh_temp=np.random.permutation(y_age)\n",
    "    y_pred_temp = cross_val_predict(clf, X, ysh_temp, cv=cv, n_jobs=-1)\n",
    "    ysh_score_age.append(r2_score(y_age, y_pred_temp))\n",
    "    ysh_age.extend(ysh_temp)\n",
    "    ysh_predict_age.extend(y_pred_temp)\n",
    "    ysh_mse_age.append(mean_squared_error(y_age, y_pred_temp))"
   ]
  },
  {
   "cell_type": "code",
   "execution_count": null,
   "id": "41969c20",
   "metadata": {},
   "outputs": [],
   "source": [
    "fig = plt.figure(figsize=(1, 1))\n",
    "fig.dpi = 300\n",
    "ax = sns.histplot(data=ysh_score_age, fill=True, element='step', lw=0, color='black', alpha=0.25)\n",
    "ax.axvline(r2_age, color='#f16913', lw=1, linestyle='--')\n",
    "\n",
    "ax.set(ylabel='Count')\n",
    "ax.set(xlabel='R2')\n",
    "plt.xlim([-1,1])\n",
    "sns.despine()\n",
    "c = PlotConfig()\n",
    "fig.savefig(c.dana_save_path / \"fig1\"/ 'Age_regression_female_shuf.pdf', bbox_inches='tight')"
   ]
  },
  {
   "cell_type": "code",
   "execution_count": null,
   "id": "725a4d65",
   "metadata": {},
   "outputs": [],
   "source": [
    "## leave one age out"
   ]
  },
  {
   "cell_type": "code",
   "execution_count": null,
   "id": "df000987",
   "metadata": {},
   "outputs": [],
   "source": [
    "# Prepare data\n",
    "data = f_df.copy()\n",
    "\n",
    "# Extract features and target\n",
    "X = data.to_numpy()\n",
    "y = data.index.get_level_values('age').to_numpy()\n",
    "groups = data.index.get_level_values('age').to_numpy()\n",
    "\n",
    "cv = LeaveOneGroupOut()\n",
    "cv.get_n_splits(X, y, groups)\n",
    "\n",
    "# decoder\n",
    "y_age=y\n",
    "y_pred = cross_val_predict(clf, X, y_age, groups=groups, cv=cv, n_jobs=-1)\n",
    "r2_age = r2_score(y_age, y_pred)"
   ]
  },
  {
   "cell_type": "code",
   "execution_count": null,
   "id": "1da510f0",
   "metadata": {},
   "outputs": [],
   "source": [
    "from scipy.stats import pearsonr\n",
    "print(pearsonr(y_age, np.array(y_pred).flatten()))"
   ]
  },
  {
   "cell_type": "code",
   "execution_count": null,
   "id": "7e095e2c",
   "metadata": {},
   "outputs": [],
   "source": [
    "# Calculating Mean Absolute Error (MAE)\n",
    "mae_age = median_absolute_error(y_age, y_pred)\n",
    "print(\"Median Absolute Error (MAE):\", mae_age)"
   ]
  },
  {
   "cell_type": "code",
   "execution_count": null,
   "id": "36c9db0b",
   "metadata": {},
   "outputs": [],
   "source": [
    "fig = figure(1, 1)\n",
    "ax = fig.gca()\n",
    "plt.scatter(y_age, y_pred, c=y_age, cmap=cmf, s=3)\n",
    "#add_identity(ax, ls='--', color='k', zorder=-1)\n",
    "ax.set(xlim=(0, None),yticks=[-20,0, 20, 40, 60,80,100,120], xticks=[0, 20, 40, 60,80,100,120], xlabel=\"Age (wks)\", ylabel=\"Predicted age (wks)\", \n",
    "       title=f\"R2={r2_age:0.2f}\",\n",
    "      )\n",
    "plt.plot(y_age, y_age, linestyle='--', color='black')\n",
    "sns.despine()"
   ]
  },
  {
   "cell_type": "code",
   "execution_count": null,
   "id": "51258466",
   "metadata": {},
   "outputs": [],
   "source": [
    "c = PlotConfig()\n",
    "fig.savefig(c.dana_save_path / \"fig1\"/ 'Age_regression_female_age_out.pdf', bbox_inches='tight')"
   ]
  },
  {
   "cell_type": "code",
   "execution_count": null,
   "id": "b3993abb",
   "metadata": {},
   "outputs": [],
   "source": [
    "## shuffle\n",
    "#shuffle\n",
    "ysh_score_age=[]\n",
    "ysh_age=[]\n",
    "ysh_predict_age=[]\n",
    "ysh_mse_age=[]\n",
    "for i in tqdm(range(it)):\n",
    "    ysh_temp=np.random.permutation(y_age)\n",
    "    y_pred_temp = cross_val_predict(clf, X, ysh_temp, groups=groups, cv=cv, n_jobs=-1)\n",
    "    ysh_score_age.append(r2_score(y_age, y_pred_temp))\n",
    "    ysh_age.extend(ysh_temp)\n",
    "    ysh_predict_age.extend(y_pred_temp)\n",
    "    ysh_mse_age.append(mean_squared_error(y_age, y_pred_temp))"
   ]
  },
  {
   "cell_type": "code",
   "execution_count": null,
   "id": "19b65890",
   "metadata": {},
   "outputs": [],
   "source": [
    "fig = plt.figure(figsize=(1, 1))\n",
    "fig.dpi = 300\n",
    "ax = sns.histplot(data=ysh_score_age, fill=True, element='step', lw=0, color='black', alpha=0.25)\n",
    "ax.axvline(r2_age, color='#f16913', lw=1, linestyle='--')\n",
    "\n",
    "ax.set(ylabel='Count')\n",
    "ax.set(xlabel='R2')\n",
    "plt.xlim([-1,1])\n",
    "sns.despine()\n",
    "c = PlotConfig()\n",
    "fig.savefig(c.dana_save_path / \"fig1\"/ 'Age_regression_age_out_female_shuf.pdf', bbox_inches='tight')"
   ]
  }
 ],
 "metadata": {
  "kernelspec": {
   "display_name": "Python 3 (ipykernel)",
   "language": "python",
   "name": "python3"
  },
  "language_info": {
   "codemirror_mode": {
    "name": "ipython",
    "version": 3
   },
   "file_extension": ".py",
   "mimetype": "text/x-python",
   "name": "python",
   "nbconvert_exporter": "python",
   "pygments_lexer": "ipython3",
   "version": "3.10.12"
  }
 },
 "nbformat": 4,
 "nbformat_minor": 5
}
