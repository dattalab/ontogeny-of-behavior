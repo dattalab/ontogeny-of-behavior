{
 "cells": [
  {
   "cell_type": "code",
   "execution_count": null,
   "id": "a77ea523",
   "metadata": {},
   "outputs": [],
   "source": [
    "import numpy as np\n",
    "import pandas as pd\n",
    "import seaborn as sns\n",
    "import matplotlib.pyplot as plt\n",
    "from aging.plotting import format_plots, PlotConfig, save_factory, figure, legend, format_pizza_plots, COLORMAPS\n",
    "from collections import Counter\n",
    "from matplotlib.lines import Line2D\n",
    "from aging.organization.dataframes import load_male_long_df, load_female_long_df, DF_PATHS\n",
    "from tqdm import tqdm"
   ]
  },
  {
   "cell_type": "code",
   "execution_count": null,
   "id": "d1dc615e",
   "metadata": {},
   "outputs": [],
   "source": [
    "import numpy as np\n",
    "import pandas as pd\n",
    "import matplotlib.pyplot as plt\n",
    "import seaborn as sns\n",
    "import colorcet as cc\n",
    "from operator import add\n",
    "from tqdm.auto import tqdm\n",
    "from functools import reduce\n",
    "from sklearn.cluster import KMeans\n",
    "from sklearn.decomposition import PCA\n",
    "from scipy.spatial.distance import squareform, pdist\n",
    "from sklearn.metrics import silhouette_score\n",
    "from aging.plotting import format_plots, figure, save_factory, PlotConfig, legend, add_identity"
   ]
  },
  {
   "cell_type": "code",
   "execution_count": null,
   "id": "86571b2b",
   "metadata": {},
   "outputs": [],
   "source": [
    "def mm_norm_col(column):\n",
    "    return (column - column.min()) / (column.max() - column.min())"
   ]
  },
  {
   "cell_type": "code",
   "execution_count": null,
   "id": "3f754bb7",
   "metadata": {},
   "outputs": [],
   "source": [
    "format_plots()"
   ]
  },
  {
   "cell_type": "code",
   "execution_count": null,
   "id": "e8bd9143",
   "metadata": {},
   "outputs": [],
   "source": [
    "cmm = COLORMAPS.ont_male\n",
    "cmf = COLORMAPS.ont_female\n",
    "m_df = load_male_long_df(average_weeks=True, merge_size=False, merge_ages=True, df_path=DF_PATHS.usage_male).groupby(['age','mouse']).mean()\n",
    "f_df = load_female_long_df(average_weeks=True, merge_size=False, filter_female=True, merge_ages=True, df_path=DF_PATHS.usage_female).groupby(['age','mouse']).mean()\n",
    "m_df['sex'] = 'm'\n",
    "m_df.set_index('sex', inplace=True, append=True)\n",
    "f_df['sex'] = 'f'\n",
    "f_df.set_index('sex', inplace=True, append=True)\n",
    "\n",
    "# Combine male and female data into a single DataFrame\n",
    "combined_df = pd.concat([m_df, f_df])"
   ]
  },
  {
   "cell_type": "code",
   "execution_count": null,
   "id": "3b206b07",
   "metadata": {},
   "outputs": [],
   "source": [
    "# avarage per age or session\n",
    "avg_m_df = m_df.groupby(['age']).mean()\n",
    "avg_f_df = f_df.groupby(['age']).mean()\n",
    "\n",
    "# normalize the data\n",
    "avg_m_norm = mm_norm_col(avg_m_df)\n",
    "avg_f_norm = mm_norm_col(avg_f_df)"
   ]
  },
  {
   "cell_type": "code",
   "execution_count": null,
   "id": "fbc08584",
   "metadata": {},
   "outputs": [],
   "source": [
    "# sort syllable order by the average\n",
    "syll_sort_m = (\n",
    "    avg_m_norm.rolling(5, center=True, win_type=\"exponential\")\n",
    "    .mean(tau=1.5)\n",
    "    .idxmax()\n",
    "    .sort_values()\n",
    "    .index\n",
    ")\n",
    "\n",
    "\n",
    "# sort syllable order by the average\n",
    "syll_sort_f = (\n",
    "    avg_f_norm.rolling(5, center=True, win_type=\"exponential\")\n",
    "    .mean(tau=1.5)\n",
    "    .idxmax()\n",
    "    .sort_values()\n",
    "    .index\n",
    ")"
   ]
  },
  {
   "cell_type": "code",
   "execution_count": null,
   "id": "15bba0c7",
   "metadata": {},
   "outputs": [],
   "source": [
    "ba = m_df[syll_sort_m]"
   ]
  },
  {
   "cell_type": "code",
   "execution_count": null,
   "id": "ade2196e",
   "metadata": {},
   "outputs": [],
   "source": [
    "ind1 = 4\n",
    "ind2 = 16\n",
    "b1 = ba.loc[(ind1, \"M1_04\")].to_numpy().squeeze()\n",
    "b2 = ba.loc[(ind1, \"M1_03\")].to_numpy().squeeze()\n",
    "\n",
    "b3 = ba.loc[(ind2, \"M1_04\")].to_numpy().squeeze()\n",
    "b4 = ba.loc[(ind2, \"M1_03\")].to_numpy().squeeze()\n",
    "\n",
    "syll_df = pd.concat(\n",
    "    [\n",
    "        pd.DataFrame(\n",
    "            dict(\n",
    "                diff=b1 - b2,\n",
    "                sort_diff=np.sort(b1 - b2),\n",
    "                m1=b1,\n",
    "                m2=b2,\n",
    "                age=ind1,\n",
    "                ord=np.arange(len(b1))[np.argsort(b1 - b2)],\n",
    "            )\n",
    "        ),\n",
    "        pd.DataFrame(\n",
    "            dict(\n",
    "                diff=b3 - b4,\n",
    "                sort_diff=np.sort(b3 - b4),\n",
    "                m1=b3,\n",
    "                m2=b4,\n",
    "                age=ind2,\n",
    "                ord=np.arange(len(b3))[np.argsort(b3 - b4)],\n",
    "            )\n",
    "        ),\n",
    "    ]\n",
    ").reset_index()\n",
    "syll_df = syll_df.rename(columns={\"index\": \"syllable\"})"
   ]
  },
  {
   "cell_type": "code",
   "execution_count": null,
   "id": "b72bc656",
   "metadata": {},
   "outputs": [],
   "source": [
    "fig, ax = plt.subplots(figsize=(1.3, 1.3))\n",
    "ax = sns.kdeplot(data=syll_df, x='diff', hue='age', bw_adjust=1.5, palette=cmm, fill=True, edgecolor='k', linewidth=0.5, alpha=0.85, legend=False)\n",
    "ax.set(xlabel=\"Usage difference\", xlim=(-0.125, 0.125))\n",
    "sns.despine()"
   ]
  },
  {
   "cell_type": "code",
   "execution_count": null,
   "id": "640a37b2",
   "metadata": {},
   "outputs": [],
   "source": [
    "c = PlotConfig()\n",
    "fig.savefig(c.dana_save_path / \"fig3\"/ '2indv_diff_dist_longv2_male.pdf')"
   ]
  },
  {
   "cell_type": "code",
   "execution_count": null,
   "id": "b3e480c0",
   "metadata": {},
   "outputs": [],
   "source": [
    "idx = np.argsort(b2 + b4)[::-1]"
   ]
  },
  {
   "cell_type": "code",
   "execution_count": null,
   "id": "dc890315",
   "metadata": {},
   "outputs": [],
   "source": [
    "fig, ax = plt.subplots(1, 2, figsize=(2.8, 1.3), sharey=True)\n",
    "ax[0].plot(b2[idx], label=\"Mouse 1\", c='k')\n",
    "ax[0].plot(b1[idx], label=\"Mouse 2\", c='#66c2a4')\n",
    "ax[1].plot(b4[idx], label=\"Mouse 1\", c='k')\n",
    "ax[1].plot(b3[idx], label=\"Mouse 2\", c='#66c2a4')\n",
    "ax[1].set(title=f\"{ind2} weeks\")\n",
    "ax[0].set(xlabel=\"Sorted syllable ID\", ylabel=\"Fraction of use\", title=f\"{ind1} weeks\")\n",
    "legend(ax[1])\n",
    "sns.despine()"
   ]
  },
  {
   "cell_type": "code",
   "execution_count": null,
   "id": "39a74d7f",
   "metadata": {},
   "outputs": [],
   "source": [
    "c = PlotConfig()\n",
    "fig.savefig(c.dana_save_path / \"fig3\"/ '2indv_example_line_longv2_male.pdf')"
   ]
  },
  {
   "cell_type": "code",
   "execution_count": null,
   "id": "dc483d79",
   "metadata": {
    "scrolled": true
   },
   "outputs": [],
   "source": [
    "# sort by similarity of mice in the first age\n",
    "g = sns.clustermap(ba.loc[ind1], cmap='RdBu_r', col_cluster=False, center=0,  metric='euclidean', method='ward')\n",
    "row_order = g.dendrogram_row.dendrogram['leaves']"
   ]
  },
  {
   "cell_type": "code",
   "execution_count": null,
   "id": "4f22fbce",
   "metadata": {},
   "outputs": [],
   "source": [
    "fig, ax = plt.subplots(1, 2, figsize=(1.2, 0.6), sharey=True)\n",
    "age = syll_df['age'].min()\n",
    "out = squareform(pdist(ba.loc[ind1].iloc[row_order], metric='cosine'))\n",
    "ax[0].imshow(out, vmin=0.0, vmax=0.3, cmap='mako')\n",
    "ax[0].set(xticks=[], yticks=[],title=f\"{age} weeks\")\n",
    "age = syll_df['age'].max()\n",
    "out = squareform(pdist(ba.loc[ind2].iloc[row_order], metric='cosine'))\n",
    "im=ax[1].imshow(out,vmin=0.0, vmax=0.3, cmap='mako')\n",
    "ax[1].set(xticks=[], yticks=[],title=f\"{age} weeks\")\n",
    "fig.colorbar(im, ax=ax, label=\"Beh. distance (cosine)\")\n",
    "legend(ax[1])"
   ]
  },
  {
   "cell_type": "code",
   "execution_count": null,
   "id": "adf35711",
   "metadata": {},
   "outputs": [],
   "source": [
    "c = PlotConfig()\n",
    "fig.savefig(c.dana_save_path / \"fig3\"/ '2indv_example_dist_longv2_male_cosine.pdf')"
   ]
  },
  {
   "cell_type": "code",
   "execution_count": null,
   "id": "1071f118",
   "metadata": {},
   "outputs": [],
   "source": [
    "## for females"
   ]
  },
  {
   "cell_type": "code",
   "execution_count": null,
   "id": "7bfcb934",
   "metadata": {},
   "outputs": [],
   "source": [
    "ba = f_df[syll_sort_f]"
   ]
  },
  {
   "cell_type": "code",
   "execution_count": null,
   "id": "ea2da893",
   "metadata": {},
   "outputs": [],
   "source": [
    "ind1 = 4\n",
    "ind2 = 16\n",
    "b1 = ba.loc[(ind1, \"F1_01\")].to_numpy().squeeze()\n",
    "b2 = ba.loc[(ind1, \"F1_02\")].to_numpy().squeeze()\n",
    "\n",
    "b3 = ba.loc[(ind2, \"F1_01\")].to_numpy().squeeze()\n",
    "b4 = ba.loc[(ind2, \"F1_02\")].to_numpy().squeeze()\n",
    "\n",
    "syll_df = pd.concat(\n",
    "    [\n",
    "        pd.DataFrame(\n",
    "            dict(\n",
    "                diff=b1 - b2,\n",
    "                sort_diff=np.sort(b1 - b2),\n",
    "                m1=b1,\n",
    "                m2=b2,\n",
    "                age=ind1,\n",
    "                ord=np.arange(len(b1))[np.argsort(b1 - b2)],\n",
    "            )\n",
    "        ),\n",
    "        pd.DataFrame(\n",
    "            dict(\n",
    "                diff=b3 - b4,\n",
    "                sort_diff=np.sort(b3 - b4),\n",
    "                m1=b3,\n",
    "                m2=b4,\n",
    "                age=ind2,\n",
    "                ord=np.arange(len(b3))[np.argsort(b3 - b4)],\n",
    "            )\n",
    "        ),\n",
    "    ]\n",
    ").reset_index()\n",
    "syll_df = syll_df.rename(columns={\"index\": \"syllable\"})"
   ]
  },
  {
   "cell_type": "code",
   "execution_count": null,
   "id": "4c46945d",
   "metadata": {},
   "outputs": [],
   "source": [
    "fig, ax = plt.subplots(figsize=(1.3, 1.3))\n",
    "ax = sns.kdeplot(data=syll_df, x='diff', hue='age', bw_adjust=1.5, palette=cmf, fill=True, edgecolor='k', linewidth=0.5, alpha=0.85, legend=False)\n",
    "ax.set(xlabel=\"Usage difference\", xlim=(-0.125, 0.125))\n",
    "sns.despine()"
   ]
  },
  {
   "cell_type": "code",
   "execution_count": null,
   "id": "8e0a440e",
   "metadata": {},
   "outputs": [],
   "source": [
    "c = PlotConfig()\n",
    "fig.savefig(c.dana_save_path / \"fig3\"/ '2indv_diff_dist_longv2_female.pdf')"
   ]
  },
  {
   "cell_type": "code",
   "execution_count": null,
   "id": "a3a246b6",
   "metadata": {},
   "outputs": [],
   "source": [
    "idx = np.argsort(b2 + b4)[::-1]"
   ]
  },
  {
   "cell_type": "code",
   "execution_count": null,
   "id": "05e3a490",
   "metadata": {},
   "outputs": [],
   "source": [
    "fig, ax = plt.subplots(1, 2, figsize=(2.8, 1.3), sharey=True)\n",
    "ax[0].plot(b2[idx], label=\"Mouse 1\", c='k')\n",
    "ax[0].plot(b1[idx], label=\"Mouse 2\", c='purple')\n",
    "ax[1].plot(b4[idx], label=\"Mouse 1\", c='k')\n",
    "ax[1].plot(b3[idx], label=\"Mouse 2\", c='purple')\n",
    "ax[1].set(title=f\"{ind2} weeks\")\n",
    "ax[0].set(xlabel=\"Sorted syllable ID\", ylabel=\"Fraction of use\", title=f\"{ind1} weeks\")\n",
    "legend(ax[1])\n",
    "sns.despine()"
   ]
  },
  {
   "cell_type": "code",
   "execution_count": null,
   "id": "c77eb977",
   "metadata": {},
   "outputs": [],
   "source": [
    "c = PlotConfig()\n",
    "fig.savefig(c.dana_save_path / \"fig3\"/ '2indv_example_line_longv2_female.pdf')"
   ]
  },
  {
   "cell_type": "code",
   "execution_count": null,
   "id": "1bd602e2",
   "metadata": {},
   "outputs": [],
   "source": [
    "g = sns.clustermap(ba.loc[ind1], cmap='RdBu_r', col_cluster=False, center=0,  metric='euclidean', method='ward')\n",
    "row_order = g.dendrogram_row.dendrogram['leaves']"
   ]
  },
  {
   "cell_type": "code",
   "execution_count": null,
   "id": "e73823e5",
   "metadata": {},
   "outputs": [],
   "source": [
    "fig, ax = plt.subplots(1, 2, figsize=(1.2, 0.6), sharey=True)\n",
    "age = syll_df['age'].min()\n",
    "#out = squareform(pdist(ba.loc[ind1], metric='jensenshannon'))\n",
    "out = squareform(pdist(ba.loc[ind1].iloc[row_order], metric='cosine'))\n",
    "ax[0].imshow(out, vmin=0.0, vmax=0.3, cmap='mako')\n",
    "ax[0].set(xticks=[], yticks=[],title=f\"{age} weeks\")\n",
    "age = syll_df['age'].max()\n",
    "#out = squareform(pdist(ba.loc[ind2],metric='jensenshannon'))\n",
    "out = squareform(pdist(ba.loc[ind2].iloc[row_order], metric='cosine'))\n",
    "im=ax[1].imshow(out,vmin=0, vmax=0.3, cmap='mako')\n",
    "ax[1].set(xticks=[], yticks=[],title=f\"{age} weeks\")\n",
    "fig.colorbar(im, ax=ax, label=\"Beh. distance (cosine)\")\n",
    "legend(ax[1])"
   ]
  },
  {
   "cell_type": "code",
   "execution_count": null,
   "id": "cd4c9ff8",
   "metadata": {},
   "outputs": [],
   "source": [
    "c = PlotConfig()\n",
    "fig.savefig(c.dana_save_path / \"fig3\"/ '2indv_example_dist_longv2_female_cosine.pdf')"
   ]
  }
 ],
 "metadata": {
  "kernelspec": {
   "display_name": "Python 3 (ipykernel)",
   "language": "python",
   "name": "python3"
  },
  "language_info": {
   "codemirror_mode": {
    "name": "ipython",
    "version": 3
   },
   "file_extension": ".py",
   "mimetype": "text/x-python",
   "name": "python",
   "nbconvert_exporter": "python",
   "pygments_lexer": "ipython3",
   "version": "3.10.12"
  }
 },
 "nbformat": 4,
 "nbformat_minor": 5
}
