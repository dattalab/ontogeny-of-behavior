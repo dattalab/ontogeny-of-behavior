{
 "cells": [
  {
   "cell_type": "code",
   "execution_count": null,
   "id": "a77ea523",
   "metadata": {},
   "outputs": [],
   "source": [
    "import numpy as np\n",
    "import pandas as pd\n",
    "import matplotlib.pyplot as plt\n",
    "import seaborn as sns\n",
    "from pathlib import Path\n",
    "import matplotlib as mpl\n",
    "import os\n",
    "from matplotlib.lines import Line2D\n",
    "from collections import Counter\n",
    "import math\n",
    "from sklearn.decomposition import PCA\n",
    "from aging.behavior.syllables import relabel_by_usage\n",
    "from tqdm import tqdm\n",
    "%matplotlib inline\n",
    "import warnings\n",
    "warnings.simplefilter('ignore')\n",
    "import random\n",
    "import scipy\n",
    "from sklearn.cluster import KMeans\n",
    "from sklearn.preprocessing import StandardScaler\n",
    "from sklearn.metrics import adjusted_rand_score\n",
    "from kneed import KneeLocator\n",
    "from sklearn.metrics import silhouette_score\n",
    "%matplotlib inline\n",
    "from aging.plotting import format_plots, PlotConfig, save_factory, figure, legend, format_pizza_plots\n",
    "from sklearn.linear_model import ElasticNet\n",
    "from sklearn.preprocessing import MinMaxScaler\n",
    "from sklearn.feature_selection import mutual_info_classif as MIC\n",
    "from sklearn.feature_selection import mutual_info_regression as MIR\n",
    "from aging.plotting import format_plots, PlotConfig, save_factory, figure, legend, format_pizza_plots, COLORMAPS\n",
    "from collections import Counter\n",
    "from matplotlib.lines import Line2D\n",
    "from aging.organization.dataframes import load_male_long_df, load_female_long_df, DF_PATHS\n",
    "from tqdm import tqdm"
   ]
  },
  {
   "cell_type": "code",
   "execution_count": null,
   "id": "3c4c8f8b",
   "metadata": {},
   "outputs": [],
   "source": [
    "format_plots()\n",
    "#format_pizza_plots()"
   ]
  },
  {
   "cell_type": "code",
   "execution_count": null,
   "id": "a5d457e3",
   "metadata": {},
   "outputs": [],
   "source": [
    "def mm_norm_col(column):\n",
    "    return (column - column.min()) / (column.max() - column.min())"
   ]
  },
  {
   "cell_type": "code",
   "execution_count": null,
   "id": "a7cbf73c",
   "metadata": {},
   "outputs": [],
   "source": [
    "cmm = COLORMAPS.ont_male\n",
    "cmf = COLORMAPS.ont_female\n",
    "m_df = load_male_long_df(average_weeks=True, merge_size=False, merge_ages=True, df_path=DF_PATHS.usage_male).groupby(['age','mouse']).mean()\n",
    "f_df = load_female_long_df(average_weeks=True, merge_size=False, filter_female=True, merge_ages=True, df_path=DF_PATHS.usage_female).groupby(['age','mouse']).mean()"
   ]
  },
  {
   "cell_type": "code",
   "execution_count": null,
   "id": "c10d42f6",
   "metadata": {},
   "outputs": [],
   "source": [
    "# avarage per age or session\n",
    "avg_m_df = m_df.groupby(['age']).mean()\n",
    "\n",
    "# normalize the data\n",
    "m_norm = mm_norm_col(m_df)\n",
    "avg_m_norm = mm_norm_col(avg_m_df)"
   ]
  },
  {
   "cell_type": "code",
   "execution_count": null,
   "id": "5c255859",
   "metadata": {},
   "outputs": [],
   "source": [
    "long_data = m_df.copy()"
   ]
  },
  {
   "cell_type": "code",
   "execution_count": null,
   "id": "3d164fc7",
   "metadata": {},
   "outputs": [],
   "source": [
    "## MI for age in longtogeny"
   ]
  },
  {
   "cell_type": "code",
   "execution_count": null,
   "id": "3a9c1c17",
   "metadata": {},
   "outputs": [],
   "source": [
    "X = long_data.to_numpy()\n",
    "y = list(long_data.index.get_level_values('age'))\n",
    "mi_score_long = MIR(X,y)"
   ]
  },
  {
   "cell_type": "code",
   "execution_count": null,
   "id": "67b8b38a",
   "metadata": {},
   "outputs": [],
   "source": [
    "long_indx = np.argsort(mi_score_long)[::-1][0:len(long_data.columns)] # syllble index\n",
    "impsyl_long= list(long_data.columns[long_indx]) #syllable id\n",
    "top_mi_score_long = mi_score_long[long_indx]\n",
    "imp_long = np.array(['n']*len(mi_score_long))\n",
    "imp_long[np.array(long_indx)]='y'"
   ]
  },
  {
   "cell_type": "code",
   "execution_count": null,
   "id": "a35fe19d",
   "metadata": {},
   "outputs": [],
   "source": [
    "print('10 most informative syllables for age: ',impsyl_long)"
   ]
  },
  {
   "cell_type": "code",
   "execution_count": null,
   "id": "64975bcb",
   "metadata": {},
   "outputs": [],
   "source": [
    "## MI for identity in longtogeny"
   ]
  },
  {
   "cell_type": "code",
   "execution_count": null,
   "id": "78f6d16c",
   "metadata": {},
   "outputs": [],
   "source": [
    "X = long_data.to_numpy()\n",
    "y = list(long_data.index.get_level_values('mouse'))\n",
    "mi_score_id = MIC(X,y)"
   ]
  },
  {
   "cell_type": "code",
   "execution_count": null,
   "id": "2e3173a3",
   "metadata": {},
   "outputs": [],
   "source": [
    "id_indx = np.argsort(mi_score_id)[::-1][0:len(long_data.columns)] # syllble index\n",
    "impsyl_id= list(long_data.columns[id_indx]) #syllable id\n",
    "top_mi_score_id = mi_score_id[id_indx]\n",
    "imp_id = np.array(['n']*len(mi_score_id))\n",
    "imp_id[np.array(id_indx)]='y'"
   ]
  },
  {
   "cell_type": "code",
   "execution_count": null,
   "id": "6eedfc00",
   "metadata": {},
   "outputs": [],
   "source": [
    "print('10 most informative syllables for identity: ',impsyl_id)"
   ]
  },
  {
   "cell_type": "code",
   "execution_count": null,
   "id": "7f6bbe1e",
   "metadata": {},
   "outputs": [],
   "source": [
    "syllable_classes = pd.read_csv('./v11_syllable_labels_v3.csv')\n",
    "id_map = syllable_classes.set_index('Original ID')['Class']\n",
    "class_sort = [id_map[k] for k in long_data.columns]"
   ]
  },
  {
   "cell_type": "code",
   "execution_count": null,
   "id": "9cb55e59",
   "metadata": {},
   "outputs": [],
   "source": [
    "from sklearn.preprocessing import LabelEncoder\n",
    "format_plots()\n",
    "mi_df = pd.DataFrame()\n",
    "mi_df['mi'] = np.concatenate((mi_score_id,mi_score_long))\n",
    "mi_df['syll'] = np.concatenate((np.array(long_data.columns),np.array(long_data.columns)))\n",
    "mi_df['exp'] = ['Identity']*len(long_data.columns)+['Age']*len(long_data.columns)\n",
    "mi_df['rank'] = mi_df.groupby('exp')['mi'].rank()\n",
    "mi_df['class'] = np.concatenate((class_sort, class_sort))\n",
    "\n",
    "le = LabelEncoder()\n",
    "le.fit(np.unique(mi_df['class'].unique()))\n",
    "y = le.transform(mi_df['class'])\n",
    "palette = sns.color_palette(\"tab20\", len(np.unique(mi_df['class'])))"
   ]
  },
  {
   "cell_type": "code",
   "execution_count": null,
   "id": "6c59e4e1",
   "metadata": {},
   "outputs": [],
   "source": [
    "# Label encoding for classes\n",
    "le = LabelEncoder()\n",
    "le.fit(np.unique(mi_df['class'].unique()))\n",
    "mi_df['class_encoded'] = le.transform(mi_df['class'])\n",
    "\n",
    "# Separate the data into male and female MI scores\n",
    "Identity_mi = mi_df[mi_df['exp'] == 'Identity']\n",
    "Age_mi = mi_df[mi_df['exp'] == 'Age']\n",
    "\n",
    "# Ensure that the syllables are aligned between male and female dataframes\n",
    "Identity_mi = Identity_mi.set_index('syll')\n",
    "Age_mi = Age_mi.set_index('syll')\n",
    "\n",
    "# Merge male and female MI scores based on syllables\n",
    "merged_mi_df = Identity_mi[['mi', 'class_encoded']].join(Age_mi[['mi']], lsuffix='_identity', rsuffix='_age')\n",
    "\n",
    "# Plot\n",
    "palette = sns.color_palette(\"tab20\", len(np.unique(mi_df['class'])))\n",
    "fig, ax = plt.subplots()\n",
    "fig.set_size_inches(1.3,1.3)\n",
    "sns.scatterplot(data=merged_mi_df, x='mi_age', y='mi_identity', hue='class_encoded', palette=palette, s=15,\n",
    "               edgecolor='black', linewidth=0.1)\n",
    "\n",
    "# Add labels and title\n",
    "plt.xlim([-0.05, 0.55])\n",
    "plt.ylim([-0.05, 0.55])\n",
    "plt.xlabel('MI scores age (nats)')\n",
    "plt.ylabel('MI scores identity (nats)')\n",
    "\n",
    "# Create legend\n",
    "legend_labels = le.inverse_transform(range(len(np.unique(mi_df['class']))))\n",
    "legend_handles = [plt.Line2D([0], [0], marker='o', color='w', label=label, \n",
    "                              markerfacecolor=color, markersize=8) for label, color in zip(legend_labels, palette)]\n",
    "plt.legend(handles=legend_handles, title='Class', bbox_to_anchor=(1.05, 1), loc='upper left')\n",
    "\n",
    "# Add identity line\n",
    "plt.plot([-0.05, 0.55], [-0.05, 0.55], 'k--', lw=0.25)\n",
    "\n",
    "sns.despine()\n",
    "plt.show()"
   ]
  },
  {
   "cell_type": "code",
   "execution_count": null,
   "id": "3ce59b51",
   "metadata": {},
   "outputs": [],
   "source": [
    "c = PlotConfig()\n",
    "fig.savefig(c.dana_save_path / \"fig3\"/ 'MI_aging_vs_indv_longv2_classes_scatter.pdf')"
   ]
  },
  {
   "cell_type": "code",
   "execution_count": null,
   "id": "1ea233ca",
   "metadata": {},
   "outputs": [],
   "source": [
    "## plot example for 3 syllables with highest age MI across life for 4 mice\n",
    "n=10\n",
    "df_age = long_data[impsyl_long[0:n]]"
   ]
  },
  {
   "cell_type": "code",
   "execution_count": null,
   "id": "92496b4e",
   "metadata": {},
   "outputs": [],
   "source": [
    "import seaborn as sns\n",
    "import matplotlib.pyplot as plt\n",
    "n=10\n",
    "\n",
    "rolling_window_size = 5  # You can adjust this value according to your preference\n",
    "\n",
    "for i in range(n):\n",
    "    fig, ax = plt.subplots()\n",
    "    fig.set_size_inches(0.75, 0.75) \n",
    "    sns.lineplot(data=df_age, x='age', y=impsyl_long[i], hue='mouse', marker='none',\n",
    "                 palette='gray',\n",
    "                 hue_order=['M4_02', 'M3_02', 'M2_02', 'M1_02'],\n",
    "                 legend=False, linewidth=0.5, ax=ax)\n",
    "\n",
    "    # Apply rolling average\n",
    "    for line in ax.lines:\n",
    "        y = line.get_ydata()\n",
    "        rolling_y = pd.Series(y).rolling(window=rolling_window_size, min_periods=1, center=True).mean().values\n",
    "        line.set_ydata(rolling_y)\n",
    "\n",
    "    sns.despine()\n",
    "    fig.savefig(c.dana_save_path / \"fig3\" / ('example_MI_aging_longv2_'+str(impsyl_long[i])+'.pdf'))\n"
   ]
  },
  {
   "cell_type": "code",
   "execution_count": null,
   "id": "fb7a8817",
   "metadata": {},
   "outputs": [],
   "source": [
    "import seaborn as sns\n",
    "import matplotlib.pyplot as plt\n",
    "n=10\n",
    "df_age = long_data[impsyl_id[0:n]]\n",
    "rolling_window_size = 5  # You can adjust this value according to your preference\n",
    "\n",
    "for i in range(n):\n",
    "    fig, ax = plt.subplots()\n",
    "    fig.set_size_inches(0.75, 0.75) \n",
    "    sns.lineplot(data=df_age, x='age', y=impsyl_id[i], hue='mouse', marker='none',\n",
    "                 palette='gray',\n",
    "                 hue_order=['M4_02', 'M3_02', 'M2_02', 'M1_02'],\n",
    "                 legend=False, linewidth=0.5, ax=ax)\n",
    "\n",
    "    # Apply rolling average\n",
    "    for line in ax.lines:\n",
    "        y = line.get_ydata()\n",
    "        rolling_y = pd.Series(y).rolling(window=rolling_window_size, min_periods=1, center=True).mean().values\n",
    "        line.set_ydata(rolling_y)\n",
    "\n",
    "    sns.despine()\n",
    "    fig.savefig(c.dana_save_path / \"fig3\" / ('example_MI_id_longv2_'+str(impsyl_long[i])+'.pdf'))"
   ]
  }
 ],
 "metadata": {
  "kernelspec": {
   "display_name": "Python 3 (ipykernel)",
   "language": "python",
   "name": "python3"
  },
  "language_info": {
   "codemirror_mode": {
    "name": "ipython",
    "version": 3
   },
   "file_extension": ".py",
   "mimetype": "text/x-python",
   "name": "python",
   "nbconvert_exporter": "python",
   "pygments_lexer": "ipython3",
   "version": "3.10.12"
  }
 },
 "nbformat": 4,
 "nbformat_minor": 5
}
