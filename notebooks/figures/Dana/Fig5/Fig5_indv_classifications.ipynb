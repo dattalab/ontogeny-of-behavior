{
 "cells": [
  {
   "cell_type": "code",
   "execution_count": null,
   "id": "ea8bfae7",
   "metadata": {},
   "outputs": [],
   "source": [
    "import numpy as np\n",
    "import pandas as pd\n",
    "import seaborn as sns\n",
    "import matplotlib.pyplot as plt\n",
    "from aging.plotting import format_plots, PlotConfig, save_factory, figure, legend, format_pizza_plots, COLORMAPS\n",
    "from collections import Counter\n",
    "from matplotlib.lines import Line2D\n",
    "from aging.organization.dataframes import load_male_long_df, load_female_long_df, DF_PATHS\n",
    "from tqdm import tqdm"
   ]
  },
  {
   "cell_type": "code",
   "execution_count": null,
   "id": "60ff956b",
   "metadata": {},
   "outputs": [],
   "source": [
    "from sklearn.preprocessing import StandardScaler\n",
    "from sklearn.svm import SVC\n",
    "from sklearn.model_selection import StratifiedKFold, cross_val_score, cross_val_predict\n",
    "from sklearn.pipeline import Pipeline\n",
    "import random\n",
    "from sklearn.metrics import accuracy_score"
   ]
  },
  {
   "cell_type": "code",
   "execution_count": null,
   "id": "4af329a3",
   "metadata": {},
   "outputs": [],
   "source": [
    "cmm = COLORMAPS.ont_male\n",
    "cmf = COLORMAPS.ont_female\n",
    "m_df = load_male_long_df(average_weeks=True, merge_size=False, merge_ages=True, df_path=DF_PATHS.usage_male).groupby(['age','mouse']).mean()\n",
    "f_df = load_female_long_df(average_weeks=True, merge_size=False, filter_female=True, merge_ages=True, df_path=DF_PATHS.usage_female).groupby(['age','mouse']).mean()\n",
    "m_df['sex'] = 'm'\n",
    "m_df.set_index('sex', inplace = True, append=True)\n",
    "f_df['sex'] = 'f'\n",
    "f_df.set_index('sex', inplace = True, append=True)\n",
    "\n",
    "# Combine male and female data into a single DataFrame\n",
    "combined_df = pd.concat([m_df, f_df])\n",
    "#combined_df.set_index('sex', inplace=True, append=True)"
   ]
  },
  {
   "cell_type": "code",
   "execution_count": null,
   "id": "b6d948b7",
   "metadata": {},
   "outputs": [],
   "source": [
    "format_plots()"
   ]
  },
  {
   "cell_type": "code",
   "execution_count": null,
   "id": "ebd544c5",
   "metadata": {},
   "outputs": [],
   "source": [
    "# Parameters\n",
    "N_SPLIT = 5\n",
    "N_REP = 20\n",
    "N_SHUFFLE = 100\n",
    "WINDOW_SIZE = 8\n",
    "\n",
    "# Define the pipeline\n",
    "pipeline = Pipeline([\n",
    "    ('scaler', StandardScaler()),\n",
    "    ('svc', SVC(C=10, kernel='linear'))\n",
    "])\n",
    "\n",
    "# Function to perform rolling window analysis using a pipeline\n",
    "def rolling_window_classification(df, pipeline, window_size=8):\n",
    "    results = []\n",
    "    shuffle_results = []\n",
    "    ages = df.index.get_level_values('age').unique()\n",
    "    \n",
    "    for i in tqdm(range(len(ages) - window_size + 1), desc=\"Rolling Window Classification Progress\"):\n",
    "        window_ages = ages[i:i + window_size]\n",
    "        window_data = df.loc[df.index.get_level_values('age').isin(window_ages)]\n",
    "        center_age = np.mean(window_ages)\n",
    "        \n",
    "        for sex in np.unique(window_data.index.get_level_values('sex')):\n",
    "            sex_data = window_data[window_data.index.get_level_values('sex') == sex]\n",
    "            X_sex = sex_data.values\n",
    "            y_sex = sex_data.index.get_level_values('mouse')\n",
    "            \n",
    "            # Original classification\n",
    "            for j in range(N_REP):\n",
    "                skf = StratifiedKFold(n_splits=N_SPLIT, shuffle=True, random_state=j)\n",
    "                y_pred = cross_val_predict(pipeline, X_sex, y_sex, cv=skf, n_jobs=-1)\n",
    "                results.append((center_age, accuracy_score(y_sex,y_pred), sex))\n",
    "             \n",
    "            # Shuffled classifications\n",
    "            for j in range(N_SHUFFLE):\n",
    "                y_shuffled = np.random.permutation(y_sex)\n",
    "                skf = StratifiedKFold(n_splits=N_SPLIT, shuffle=True, random_state=j)\n",
    "                y_pred_shuff = cross_val_predict(pipeline, X_sex, y_shuffled, cv=skf, n_jobs=-1)\n",
    "                shuffle_results.append((center_age, accuracy_score(y_shuffled,y_pred_shuff), sex))\n",
    "    \n",
    "    return results, shuffle_results\n",
    "\n",
    "# Run the rolling window classification for combined data\n",
    "results, shuffle_results = rolling_window_classification(combined_df, pipeline, window_size=WINDOW_SIZE)\n",
    "results_df = pd.DataFrame(results, columns=['age', 'accuracy', 'sex'])\n",
    "shuffle_df = pd.DataFrame(shuffle_results, columns=['age', 'accuracy', 'sex'])"
   ]
  },
  {
   "cell_type": "code",
   "execution_count": null,
   "id": "af520ed9",
   "metadata": {},
   "outputs": [],
   "source": [
    "temp = shuffle_df.query('sex==\"m\"')"
   ]
  },
  {
   "cell_type": "code",
   "execution_count": null,
   "id": "0203f046",
   "metadata": {},
   "outputs": [],
   "source": [
    "# Plot accuracy scores\n",
    "fig=plt.figure(figsize=(1.3, 1.3))\n",
    "\n",
    "# Plot shuffled results\n",
    "sns.lineplot(data=shuffle_df, x='age', y='accuracy', hue='sex', hue_order=['m','f'], \n",
    "             palette=['#20B2AA', '#f16913'], alpha=0.25, legend=False, errorbar=('sd', 2))\n",
    "\n",
    "# Plot original results\n",
    "sns.lineplot(data=results_df, x='age', y='accuracy', hue='sex', hue_order=['m','f'], \n",
    "             palette=['#20B2AA', '#f16913'], errorbar=('sd', 2))\n",
    "\n",
    "plt.xlabel('Age')\n",
    "plt.ylabel('Accuracy Score')\n",
    "plt.ylim([0, 1])\n",
    "plt.xticks([5,15,25,35,45])\n",
    "sns.despine()\n",
    "plt.show()"
   ]
  },
  {
   "cell_type": "code",
   "execution_count": null,
   "id": "3223291c",
   "metadata": {},
   "outputs": [],
   "source": [
    "c = PlotConfig()\n",
    "fig.savefig(c.dana_save_path / \"fig3\"/ '07_25_indv_decoder_longv2.pdf')"
   ]
  },
  {
   "cell_type": "code",
   "execution_count": null,
   "id": "5cc5fc6c",
   "metadata": {},
   "outputs": [],
   "source": [
    "## last data point prediction"
   ]
  },
  {
   "cell_type": "code",
   "execution_count": null,
   "id": "cded75f3",
   "metadata": {},
   "outputs": [],
   "source": [
    "# Parameters\n",
    "N_SPLIT = 5\n",
    "N_REP = 20\n",
    "N_SHUFFLE = 100\n",
    "WINDOW_SIZE = 8\n",
    "N_TEST_SESSIONS = 8\n",
    "\n",
    "# Define the pipeline\n",
    "pipeline = Pipeline([\n",
    "    ('scaler', StandardScaler()),\n",
    "    ('svc', SVC(C=10, kernel='linear'))\n",
    "])\n",
    "\n",
    "def rolling_window_classification(df, pipeline, window_size=8, n_test_sessions=2):\n",
    "    results = []\n",
    "    shuffle_results = []\n",
    "    ages = df.index.get_level_values('age').unique()\n",
    "    \n",
    "    # Identify the last n sessions for testing\n",
    "    test_sessions = ages[-n_test_sessions:]\n",
    "    \n",
    "    for i in tqdm(range(len(ages) - window_size - n_test_sessions + 1), desc=\"Rolling Window Classification Progress\"):\n",
    "        window_ages = ages[i:i + window_size]\n",
    "        window_data = df.loc[df.index.get_level_values('age').isin(window_ages)]\n",
    "        center_age = np.mean(window_ages)\n",
    "        \n",
    "        # Get test data (always the same last n sessions)\n",
    "        test_data = df.loc[df.index.get_level_values('age').isin(test_sessions)]\n",
    "        \n",
    "        for sex in np.unique(window_data.index.get_level_values('sex')):\n",
    "            train_data = window_data[window_data.index.get_level_values('sex') == sex]\n",
    "            X_train = train_data.values\n",
    "            y_train = train_data.index.get_level_values('mouse')\n",
    "            \n",
    "            test_data_sex = test_data[test_data.index.get_level_values('sex') == sex]\n",
    "            X_test = test_data_sex.values\n",
    "            y_test = test_data_sex.index.get_level_values('mouse')\n",
    "            \n",
    "            # Original classification\n",
    "            for j in range(N_REP):\n",
    "                pipeline.fit(X_train, y_train)\n",
    "                y_pred = pipeline.predict(X_test)\n",
    "                results.append((center_age, accuracy_score(y_test, y_pred), sex))\n",
    "             \n",
    "            # Shuffled classifications\n",
    "            for j in range(N_SHUFFLE):\n",
    "                y_train_shuffled = np.random.permutation(y_train)\n",
    "                y_test_shuffled = np.random.permutation(y_test)\n",
    "                pipeline.fit(X_train, y_train_shuffled)\n",
    "                y_pred_shuff = pipeline.predict(X_test)\n",
    "                shuffle_results.append((center_age, accuracy_score(y_test_shuffled, y_pred_shuff), sex))\n",
    "    \n",
    "    return results, shuffle_results\n",
    "\n",
    "# Run the rolling window classification for combined data\n",
    "results, shuffle_results = rolling_window_classification(combined_df, pipeline, window_size=WINDOW_SIZE, n_test_sessions=N_TEST_SESSIONS)\n",
    "results_df = pd.DataFrame(results, columns=['age', 'accuracy', 'sex'])\n",
    "shuffle_df = pd.DataFrame(shuffle_results, columns=['age', 'accuracy', 'sex'])"
   ]
  },
  {
   "cell_type": "code",
   "execution_count": null,
   "id": "13c32261",
   "metadata": {},
   "outputs": [],
   "source": [
    "temp = results_df.query('sex==\"m\"')\n",
    "temp['age'].value_counts()"
   ]
  },
  {
   "cell_type": "code",
   "execution_count": null,
   "id": "82a1c237",
   "metadata": {},
   "outputs": [],
   "source": [
    "# Plot accuracy scores\n",
    "fig=plt.figure(figsize=(1.3, 1.3))\n",
    "\n",
    "# Plot shuffled results\n",
    "sns.lineplot(data=shuffle_df, x='age', y='accuracy', hue='sex', hue_order=['m','f'], \n",
    "             palette=['#20B2AA', '#f16913'], alpha=0.25, legend=False, errorbar=('sd', 2))\n",
    "\n",
    "# Plot original results\n",
    "sns.lineplot(data=results_df, x='age', y='accuracy', hue='sex', hue_order=['m','f'], \n",
    "             palette=['#20B2AA', '#f16913'], errorbar=('sd', 2))\n",
    "\n",
    "plt.xlabel('Age')\n",
    "plt.ylabel('Accuracy Score')\n",
    "plt.ylim([0, 1])\n",
    "plt.xticks([5,15,25,35,45])\n",
    "sns.despine()\n",
    "plt.show()"
   ]
  },
  {
   "cell_type": "code",
   "execution_count": null,
   "id": "0d317711",
   "metadata": {},
   "outputs": [],
   "source": [
    "c = PlotConfig()\n",
    "fig.savefig(c.dana_save_path / \"fig3\"/ '07_25_indv_decoder_longv2_TEST_LAST_POINT.pdf')"
   ]
  }
 ],
 "metadata": {
  "kernelspec": {
   "display_name": "Python 3 (ipykernel)",
   "language": "python",
   "name": "python3"
  },
  "language_info": {
   "codemirror_mode": {
    "name": "ipython",
    "version": 3
   },
   "file_extension": ".py",
   "mimetype": "text/x-python",
   "name": "python",
   "nbconvert_exporter": "python",
   "pygments_lexer": "ipython3",
   "version": "3.10.12"
  }
 },
 "nbformat": 4,
 "nbformat_minor": 5
}
