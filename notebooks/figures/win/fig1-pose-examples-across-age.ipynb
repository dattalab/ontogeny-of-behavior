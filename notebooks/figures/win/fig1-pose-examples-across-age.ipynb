{
 "cells": [
  {
   "cell_type": "markdown",
   "id": "2b9793e7-e9fa-41f8-963d-cf23d1136e90",
   "metadata": {},
   "source": [
    "# Visualize similar poses across age according to the model"
   ]
  },
  {
   "cell_type": "code",
   "execution_count": 1,
   "id": "eb2047d5-8490-4e94-bd4f-03ed3fcb6f58",
   "metadata": {
    "tags": []
   },
   "outputs": [],
   "source": [
    "import re\n",
    "import h5py\n",
    "import numpy as np\n",
    "import matplotlib.pyplot as plt\n",
    "import seaborn as sns\n",
    "from tqdm.auto import tqdm\n",
    "from toolz import groupby, valmap, compose\n",
    "from toolz.curried import get, pluck\n",
    "from pathlib import Path\n",
    "from sklearn.decomposition import PCA\n",
    "from sklearn.cluster import k_means\n",
    "from scipy.spatial.distance import cdist\n",
    "\n",
    "from aging.plotting import format_plots, PlotConfig, save_factory, figure\n",
    "from toolz import topk\n",
    "from itertools import repeat"
   ]
  },
  {
   "cell_type": "code",
   "execution_count": 2,
   "id": "042b3c29",
   "metadata": {
    "tags": []
   },
   "outputs": [],
   "source": [
    "format_plots()\n",
    "c = PlotConfig()\n",
    "saver = save_factory(c.save_path / 'size-normalization', tight_layout=False)"
   ]
  },
  {
   "cell_type": "code",
   "execution_count": 3,
   "id": "8fae5531-7d81-4036-9b00-367bc8713794",
   "metadata": {
    "tags": []
   },
   "outputs": [],
   "source": [
    "folder = Path('/n/groups/datta/win/longtogeny/data/ontogeny/version_03/all_data_pca/Ontogeny_males')"
   ]
  },
  {
   "cell_type": "code",
   "execution_count": 4,
   "id": "bcc23702",
   "metadata": {
    "tags": []
   },
   "outputs": [],
   "source": [
    "files = sorted(folder.glob('*.h5'))"
   ]
  },
  {
   "cell_type": "code",
   "execution_count": 5,
   "id": "559b49f8",
   "metadata": {
    "tags": []
   },
   "outputs": [],
   "source": [
    "pattern = re.compile(r'(\\d{1,2}[wm])')"
   ]
  },
  {
   "cell_type": "code",
   "execution_count": 6,
   "id": "a1fdf32d",
   "metadata": {
    "tags": []
   },
   "outputs": [],
   "source": [
    "def get_name(file):\n",
    "    with h5py.File(file, 'r') as h5f:\n",
    "        return h5f['metadata/acquisition/SessionName'][()].decode()"
   ]
  },
  {
   "cell_type": "code",
   "execution_count": 7,
   "id": "a424be71",
   "metadata": {
    "tags": []
   },
   "outputs": [],
   "source": [
    "names = list(map(get_name, files))"
   ]
  },
  {
   "cell_type": "code",
   "execution_count": 8,
   "id": "da01e994",
   "metadata": {
    "tags": []
   },
   "outputs": [],
   "source": [
    "ages = [pattern.search(n).group(0) for n in names]"
   ]
  },
  {
   "cell_type": "code",
   "execution_count": 9,
   "id": "980c495c",
   "metadata": {
    "tags": []
   },
   "outputs": [],
   "source": [
    "grps = list(zip(ages, files))"
   ]
  },
  {
   "cell_type": "code",
   "execution_count": 10,
   "id": "fe66458b",
   "metadata": {
    "tags": []
   },
   "outputs": [],
   "source": [
    "groups = groupby(get(0), grps)\n",
    "groups = valmap(compose(list, pluck(1)), groups)"
   ]
  },
  {
   "cell_type": "markdown",
   "id": "b020ee1c",
   "metadata": {},
   "source": [
    "## Get pose \"classes\" from 3 month old mice"
   ]
  },
  {
   "cell_type": "code",
   "execution_count": 11,
   "id": "6c5175df",
   "metadata": {
    "tags": []
   },
   "outputs": [
    {
     "data": {
      "application/vnd.jupyter.widget-view+json": {
       "model_id": "666ca092a70b4727b75c77a3797d4e66",
       "version_major": 2,
       "version_minor": 0
      },
      "text/plain": [
       "  0%|          | 0/27 [00:00<?, ?it/s]"
      ]
     },
     "metadata": {},
     "output_type": "display_data"
    }
   ],
   "source": [
    "frames_per_sample = 500\n",
    "files_3m = groups['3m']\n",
    "frames_key = 'win_size_norm_frames_v4'\n",
    "\n",
    "np.random.seed(0)\n",
    "\n",
    "frames = []\n",
    "for file in tqdm(files_3m):\n",
    "    try:\n",
    "        with h5py.File(file, 'r') as h5f:\n",
    "            indices = np.sort(np.random.permutation(len(h5f[frames_key]))[:frames_per_sample])\n",
    "            data = h5f[frames_key][indices].astype('uint8')\n",
    "            frames.append(data)\n",
    "\n",
    "    except KeyError:\n",
    "        continue\n",
    "\n",
    "frames = np.concatenate(frames, axis=0)"
   ]
  },
  {
   "cell_type": "code",
   "execution_count": 12,
   "id": "c8659df0",
   "metadata": {
    "tags": []
   },
   "outputs": [],
   "source": [
    "pca = PCA(n_components=10)\n",
    "pcs = pca.fit_transform(frames.reshape(len(frames), -1))"
   ]
  },
  {
   "cell_type": "code",
   "execution_count": 13,
   "id": "db7ba218",
   "metadata": {
    "tags": []
   },
   "outputs": [
    {
     "data": {
      "text/plain": [
       "(13500, 10)"
      ]
     },
     "execution_count": 13,
     "metadata": {},
     "output_type": "execute_result"
    }
   ],
   "source": [
    "pcs.shape"
   ]
  },
  {
   "cell_type": "code",
   "execution_count": 14,
   "id": "38b0249e",
   "metadata": {
    "tags": []
   },
   "outputs": [
    {
     "name": "stderr",
     "output_type": "stream",
     "text": [
      "/home/wg41/miniconda3/envs/aging/lib/python3.10/site-packages/sklearn/cluster/_kmeans.py:1412: FutureWarning: The default value of `n_init` will change from 10 to 'auto' in 1.4. Set the value of `n_init` explicitly to suppress the warning\n",
      "  super()._check_params_vs_input(X, default_n_init=10)\n"
     ]
    }
   ],
   "source": [
    "centroid, labels, inertia = k_means(pcs, n_clusters=20, random_state=0)"
   ]
  },
  {
   "cell_type": "code",
   "execution_count": 15,
   "id": "97c2d05b",
   "metadata": {
    "tags": []
   },
   "outputs": [
    {
     "data": {
      "text/plain": [
       "array([16, 15,  7, ..., 14, 16,  8], dtype=int32)"
      ]
     },
     "execution_count": 15,
     "metadata": {},
     "output_type": "execute_result"
    }
   ],
   "source": [
    "labels"
   ]
  },
  {
   "cell_type": "code",
   "execution_count": 16,
   "id": "7cf23fd6",
   "metadata": {
    "tags": []
   },
   "outputs": [
    {
     "data": {
      "text/plain": [
       "array([1255,  382, 1472,  208,  282,  326,  705, 1381,  167,  264,  753,\n",
       "        720,  363,  284,  572, 1150, 1143,  828, 1011,  234])"
      ]
     },
     "execution_count": 16,
     "metadata": {},
     "output_type": "execute_result"
    }
   ],
   "source": [
    "np.bincount(labels)"
   ]
  },
  {
   "cell_type": "code",
   "execution_count": 17,
   "id": "d66f51c6",
   "metadata": {
    "tags": []
   },
   "outputs": [
    {
     "data": {
      "image/png": "[encoded data removed]",
      "text/plain": [
       "<Figure size 1280x960 with 20 Axes>"
      ]
     },
     "metadata": {
      "image/png": {
       "height": 810,
       "width": 1021
      }
     },
     "output_type": "display_data"
    }
   ],
   "source": [
    "fig, ax = plt.subplots(4, 5)\n",
    "for i, a in enumerate(ax.flat):\n",
    "    a.imshow(np.mean(frames[labels == i], axis=0))\n",
    "    a.set_title(i)\n",
    "    a.set_axis_off()"
   ]
  },
  {
   "cell_type": "markdown",
   "id": "9c7db767",
   "metadata": {},
   "source": [
    "- find most similar 3mo old animal to centroid\n",
    "- then go through ages, find most similar animal to 3mo old in each age group"
   ]
  },
  {
   "cell_type": "code",
   "execution_count": 18,
   "id": "a38fc5cd",
   "metadata": {
    "tags": []
   },
   "outputs": [],
   "source": [
    "label_list = [2, 4, 8, 14, 16]\n",
    "\n",
    "templates = {}\n",
    "for label in label_list:\n",
    "    examples = pcs[labels == label]\n",
    "    topk_idx = cdist(examples, centroid[[label]]).squeeze().argmin()\n",
    "    templates[label] = examples[topk_idx]"
   ]
  },
  {
   "cell_type": "code",
   "execution_count": 19,
   "id": "0e84501c",
   "metadata": {
    "tags": []
   },
   "outputs": [
    {
     "data": {
      "text/plain": [
       "{2: array([-182.31373696,  -20.80594404,  -76.9953309 ,    9.09270071,\n",
       "          10.50367718,   -1.66699012,  -38.86097715,  -23.62512745,\n",
       "           4.66165042,   -7.8224511 ]),\n",
       " 4: array([ 384.41562894,  214.1812716 ,   54.68808134,  113.68719942,\n",
       "         -30.41591086,  -26.47522891, -135.45760661,   19.46842795,\n",
       "          -0.93648677,  -27.63677919]),\n",
       " 8: array([433.44088666, 327.00394905, -19.67303223, -53.25373499,\n",
       "         23.27757551, 182.67922339, -31.15914431, 129.44507173,\n",
       "         -6.68114863,   5.04760072]),\n",
       " 14: array([125.24416785,  45.54043233,  14.95260685, -87.89251957,\n",
       "         59.4025445 ,  26.79047437,  -9.80583606, -23.29620614,\n",
       "        -12.0998181 ,  19.79690485]),\n",
       " 16: array([-138.0331194 ,  160.47326898,   74.21230751,  -14.61057569,\n",
       "           3.25507573,  -20.48084395,   -0.97898356,   27.68270655,\n",
       "         -19.45239372,   19.75486011])}"
      ]
     },
     "execution_count": 19,
     "metadata": {},
     "output_type": "execute_result"
    }
   ],
   "source": [
    "templates"
   ]
  },
  {
   "cell_type": "code",
   "execution_count": null,
   "id": "14df37db",
   "metadata": {
    "tags": []
   },
   "outputs": [
    {
     "data": {
      "application/vnd.jupyter.widget-view+json": {
       "model_id": "b6b5a9b63f0c47a5a9ea1d2f8112fdea",
       "version_major": 2,
       "version_minor": 0
      },
      "text/plain": [
       "  0%|          | 0/11 [00:00<?, ?it/s]"
      ]
     },
     "metadata": {},
     "output_type": "display_data"
    }
   ],
   "source": [
    "n_frames = 12500\n",
    "\n",
    "pc_dict = {}\n",
    "for age, _files in tqdm(groups.items()):\n",
    "    frames = {}\n",
    "    for file in _files:\n",
    "        with h5py.File(file, 'r') as h5f:\n",
    "            data = h5f[frames_key][:n_frames].astype('uint8')\n",
    "            frames[file] = pca.transform(data.reshape(len(data), -1))\n",
    "    pc_dict[age] = frames"
   ]
  },
  {
   "cell_type": "code",
   "execution_count": null,
   "id": "65548439",
   "metadata": {
    "tags": []
   },
   "outputs": [],
   "source": [
    "n_best = 10\n",
    "examples = {}\n",
    "for age, frames in pc_dict.items():\n",
    "    for lbl, template in templates.items():\n",
    "        best_examples = []\n",
    "        best_dist = np.inf\n",
    "        for file, _frames in frames.items():\n",
    "            dist = cdist(_frames, [template]).squeeze()\n",
    "            topk_idx = dist.argmin()\n",
    "            best = list(topk(n_best, zip(enumerate(repeat(file)), -dist), key=get(1)))\n",
    "            best_examples.extend(best)\n",
    "        examples[(age, lbl)] = list(pluck(0, topk(n_best, best_examples, key=get(1))))"
   ]
  },
  {
   "cell_type": "code",
   "execution_count": null,
   "id": "db229648",
   "metadata": {
    "tags": []
   },
   "outputs": [],
   "source": [
    "def get_frame(idx, file):\n",
    "    with h5py.File(file, 'r') as h5f:\n",
    "        return (h5f[frames_key][idx].astype('uint8'), h5f['frames'][idx].astype('uint8'))"
   ]
  },
  {
   "cell_type": "code",
   "execution_count": null,
   "id": "c2d1c09b",
   "metadata": {
    "tags": []
   },
   "outputs": [],
   "source": [
    "# loop through examples and load frames + reconstructions\n",
    "example_frames = {}\n",
    "for key, _topk in examples.items():\n",
    "    example_frames[key] = [get_frame(*args) for args in _topk]"
   ]
  },
  {
   "cell_type": "code",
   "execution_count": null,
   "id": "05f2de8e",
   "metadata": {
    "tags": []
   },
   "outputs": [],
   "source": [
    "def week_translator(key):\n",
    "    if 'm' in key:\n",
    "        return int(key.replace('m', '')) * 4\n",
    "    elif 'w' in key:\n",
    "        return int(key.replace('w', ''))"
   ]
  },
  {
   "cell_type": "code",
   "execution_count": null,
   "id": "5b04d0dc",
   "metadata": {
    "tags": []
   },
   "outputs": [],
   "source": [
    "keys = list(example_frames)\n",
    "sorted_keys = sorted(sorted(keys, key=lambda x: week_translator(x[0])), key=lambda x: x[1])\n",
    "grouped_keys = groupby(get(1), sorted_keys)"
   ]
  },
  {
   "cell_type": "code",
   "execution_count": null,
   "id": "b1e2f656",
   "metadata": {
    "tags": []
   },
   "outputs": [],
   "source": [
    "topk_idx = 2\n",
    "inds = [0, 2, 4, 8]\n",
    "for lbl, _keys in grouped_keys.items():\n",
    "    concat = np.concatenate([example_frames[_keys[key]][topk_idx][0] for key in inds], axis=1)\n",
    "    concat2 = np.concatenate([example_frames[_keys[key]][topk_idx][1] for key in inds], axis=1)\n",
    "    concat = np.concatenate([concat2, concat], axis=0)\n",
    "    fig = figure(3, 0.75)\n",
    "    plt.imshow(concat, cmap='cubehelix', vmax=85)\n",
    "    # for i in range(1, 4):\n",
    "    #     plt.axvline(80 * i, color='w', lw=1)\n",
    "    plt.axhline(80, color='w', lw=1)\n",
    "    plt.colorbar(label='Height (mm)')\n",
    "    plt.xticks([])\n",
    "    plt.yticks([])\n",
    "    saver(fig, f'same-pose-across-age-{lbl}');"
   ]
  },
  {
   "cell_type": "code",
   "execution_count": 28,
   "id": "82db2e21",
   "metadata": {
    "tags": []
   },
   "outputs": [
    {
     "data": {
      "text/plain": [
       "[('3w', 16), ('7w', 16), ('3m', 16), ('18m', 16)]"
      ]
     },
     "execution_count": 28,
     "metadata": {},
     "output_type": "execute_result"
    }
   ],
   "source": [
    "[_keys[i] for i in inds]"
   ]
  },
  {
   "cell_type": "code",
   "execution_count": null,
   "id": "294753e3",
   "metadata": {},
   "outputs": [],
   "source": []
  }
 ],
 "metadata": {
  "kernelspec": {
   "display_name": "Ontogeny",
   "language": "python",
   "name": "aging"
  },
  "language_info": {
   "codemirror_mode": {
    "name": "ipython",
    "version": 3
   },
   "file_extension": ".py",
   "mimetype": "text/x-python",
   "name": "python",
   "nbconvert_exporter": "python",
   "pygments_lexer": "ipython3",
   "version": "3.10.10"
  },
  "widgets": {
   "application/vnd.jupyter.widget-state+json": {
    "state": {
     "2a353227f19343b1be46e89f443683b5": {
      "model_module": "@jupyter-widgets/controls",
      "model_module_version": "2.0.0",
      "model_name": "HTMLStyleModel",
      "state": {
       "description_width": "",
       "font_size": null,
       "text_color": null
      }
     },
     "2c6da6b467974d3cbab7c6d468250afb": {
      "model_module": "@jupyter-widgets/base",
      "model_module_version": "2.0.0",
      "model_name": "LayoutModel",
      "state": {}
     },
     "30241810ce3748e796e16c56fe0e86ef": {
      "model_module": "@jupyter-widgets/base",
      "model_module_version": "2.0.0",
      "model_name": "LayoutModel",
      "state": {}
     },
     "3c32224278754aa7990aefa9ad54af72": {
      "model_module": "@jupyter-widgets/base",
      "model_module_version": "2.0.0",
      "model_name": "LayoutModel",
      "state": {}
     },
     "46b99006476b4e23ba8c463eed9dce7b": {
      "model_module": "@jupyter-widgets/controls",
      "model_module_version": "2.0.0",
      "model_name": "HTMLModel",
      "state": {
       "layout": "IPY_MODEL_c26277bac3c441c68d4b0f6b7009f39f",
       "style": "IPY_MODEL_706d444102a449e291c9712d4cf01362",
       "value": "100%"
      }
     },
     "4a40914305554a9faac2856819298038": {
      "model_module": "@jupyter-widgets/controls",
      "model_module_version": "2.0.0",
      "model_name": "ProgressStyleModel",
      "state": {
       "description_width": ""
      }
     },
     "666ca092a70b4727b75c77a3797d4e66": {
      "model_module": "@jupyter-widgets/controls",
      "model_module_version": "2.0.0",
      "model_name": "HBoxModel",
      "state": {
       "children": [
        "IPY_MODEL_a817f53b288246bb8d38592a03d83262",
        "IPY_MODEL_ac401967dd984e6589066ec3d6770de5",
        "IPY_MODEL_8194052e07af4195acea0f00201eae54"
       ],
       "layout": "IPY_MODEL_2c6da6b467974d3cbab7c6d468250afb"
      }
     },
     "6be61c70d80742e79c00e23a39302f12": {
      "model_module": "@jupyter-widgets/base",
      "model_module_version": "2.0.0",
      "model_name": "LayoutModel",
      "state": {}
     },
     "706d444102a449e291c9712d4cf01362": {
      "model_module": "@jupyter-widgets/controls",
      "model_module_version": "2.0.0",
      "model_name": "HTMLStyleModel",
      "state": {
       "description_width": "",
       "font_size": null,
       "text_color": null
      }
     },
     "748c81b437614950a9d447e880207a90": {
      "model_module": "@jupyter-widgets/controls",
      "model_module_version": "2.0.0",
      "model_name": "HTMLModel",
      "state": {
       "layout": "IPY_MODEL_ca7a34b4e9f4489dae997d12ddf2aa4b",
       "style": "IPY_MODEL_2a353227f19343b1be46e89f443683b5",
       "value": " 11/11 [49:12&lt;00:00, 235.80s/it]"
      }
     },
     "8063b003074544f883ecf2094173ba26": {
      "model_module": "@jupyter-widgets/controls",
      "model_module_version": "2.0.0",
      "model_name": "HTMLStyleModel",
      "state": {
       "description_width": "",
       "font_size": null,
       "text_color": null
      }
     },
     "8194052e07af4195acea0f00201eae54": {
      "model_module": "@jupyter-widgets/controls",
      "model_module_version": "2.0.0",
      "model_name": "HTMLModel",
      "state": {
       "layout": "IPY_MODEL_6be61c70d80742e79c00e23a39302f12",
       "style": "IPY_MODEL_8063b003074544f883ecf2094173ba26",
       "value": " 27/27 [12:56&lt;00:00, 37.16s/it]"
      }
     },
     "8d8e2691806b4a7e94c8f49f4d8d0b10": {
      "model_module": "@jupyter-widgets/controls",
      "model_module_version": "2.0.0",
      "model_name": "FloatProgressModel",
      "state": {
       "bar_style": "success",
       "layout": "IPY_MODEL_30241810ce3748e796e16c56fe0e86ef",
       "max": 11,
       "style": "IPY_MODEL_aaa51a4e1cac46c1b5b34ca495c033d0",
       "value": 11
      }
     },
     "a747824096964e81bd76828262220d8b": {
      "model_module": "@jupyter-widgets/base",
      "model_module_version": "2.0.0",
      "model_name": "LayoutModel",
      "state": {}
     },
     "a817f53b288246bb8d38592a03d83262": {
      "model_module": "@jupyter-widgets/controls",
      "model_module_version": "2.0.0",
      "model_name": "HTMLModel",
      "state": {
       "layout": "IPY_MODEL_a747824096964e81bd76828262220d8b",
       "style": "IPY_MODEL_faff9057134645b5997c3303d51ceeb1",
       "value": "100%"
      }
     },
     "aaa51a4e1cac46c1b5b34ca495c033d0": {
      "model_module": "@jupyter-widgets/controls",
      "model_module_version": "2.0.0",
      "model_name": "ProgressStyleModel",
      "state": {
       "description_width": ""
      }
     },
     "ac401967dd984e6589066ec3d6770de5": {
      "model_module": "@jupyter-widgets/controls",
      "model_module_version": "2.0.0",
      "model_name": "FloatProgressModel",
      "state": {
       "bar_style": "success",
       "layout": "IPY_MODEL_3c32224278754aa7990aefa9ad54af72",
       "max": 27,
       "style": "IPY_MODEL_4a40914305554a9faac2856819298038",
       "value": 27
      }
     },
     "b6b5a9b63f0c47a5a9ea1d2f8112fdea": {
      "model_module": "@jupyter-widgets/controls",
      "model_module_version": "2.0.0",
      "model_name": "HBoxModel",
      "state": {
       "children": [
        "IPY_MODEL_46b99006476b4e23ba8c463eed9dce7b",
        "IPY_MODEL_8d8e2691806b4a7e94c8f49f4d8d0b10",
        "IPY_MODEL_748c81b437614950a9d447e880207a90"
       ],
       "layout": "IPY_MODEL_c1ce87f3f3c14a5485a6d2326da32112"
      }
     },
     "c1ce87f3f3c14a5485a6d2326da32112": {
      "model_module": "@jupyter-widgets/base",
      "model_module_version": "2.0.0",
      "model_name": "LayoutModel",
      "state": {}
     },
     "c26277bac3c441c68d4b0f6b7009f39f": {
      "model_module": "@jupyter-widgets/base",
      "model_module_version": "2.0.0",
      "model_name": "LayoutModel",
      "state": {}
     },
     "ca7a34b4e9f4489dae997d12ddf2aa4b": {
      "model_module": "@jupyter-widgets/base",
      "model_module_version": "2.0.0",
      "model_name": "LayoutModel",
      "state": {}
     },
     "faff9057134645b5997c3303d51ceeb1": {
      "model_module": "@jupyter-widgets/controls",
      "model_module_version": "2.0.0",
      "model_name": "HTMLStyleModel",
      "state": {
       "description_width": "",
       "font_size": null,
       "text_color": null
      }
     }
    },
    "version_major": 2,
    "version_minor": 0
   }
  }
 },
 "nbformat": 4,
 "nbformat_minor": 5
}
