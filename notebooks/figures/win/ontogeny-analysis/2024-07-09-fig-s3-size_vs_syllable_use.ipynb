{
 "cells": [
  {
   "cell_type": "markdown",
   "id": "49b83959-2457-4f26-a6b3-c452665f310d",
   "metadata": {},
   "source": [
    "# Compute relationship between size and syllable use"
   ]
  },
  {
   "cell_type": "code",
   "execution_count": 1,
   "id": "8a31d278-610b-4f9a-b1e9-cbe1a60d8f1b",
   "metadata": {},
   "outputs": [],
   "source": [
    "import numpy as np\n",
    "import pandas as pd\n",
    "import matplotlib.pyplot as plt\n",
    "import seaborn as sns\n",
    "from tqdm.auto import tqdm\n",
    "from collections import defaultdict\n",
    "from scipy.stats import spearmanr, pearsonr\n",
    "from statsmodels.stats.multitest import multipletests\n",
    "from sklearn.metrics import r2_score\n",
    "from sklearn.pipeline import make_pipeline\n",
    "from sklearn.preprocessing import StandardScaler\n",
    "from sklearn.linear_model import LinearRegression\n",
    "from sklearn.model_selection import cross_val_predict, KFold\n",
    "from aging.plotting import figure, legend, format_plots, COLORMAPS, PLOT_CONFIG, save_factory"
   ]
  },
  {
   "cell_type": "code",
   "execution_count": 2,
   "id": "bf48d2ff-a5e7-42e0-ab21-848c906e9f43",
   "metadata": {},
   "outputs": [],
   "source": [
    "format_plots()\n",
    "saver = save_factory(PLOT_CONFIG.save_path / \"fig-1-size\", tight_layout=False)"
   ]
  },
  {
   "cell_type": "code",
   "execution_count": 3,
   "id": "829a7e3d-e87d-48e1-a1b1-59ea080d81bb",
   "metadata": {},
   "outputs": [],
   "source": [
    "def zscore(ser: pd.Series):\n",
    "    return (ser - ser.mean()) / ser.std()\n",
    "\n",
    "\n",
    "def demean(ser: pd.Series):\n",
    "    return ser - ser.mean()\n",
    "\n",
    "\n",
    "def quantile(n):\n",
    "    def percentile_(x):\n",
    "        return x.quantile(n)\n",
    "    percentile_.__name__ = 'q_{:0.02f}'.format(n)\n",
    "    return percentile_"
   ]
  },
  {
   "cell_type": "markdown",
   "id": "d3954f93-4e8d-4f7a-b294-c389c6d7c82d",
   "metadata": {},
   "source": [
    "## Load males"
   ]
  },
  {
   "cell_type": "code",
   "execution_count": 4,
   "id": "21fe40b2-1ac9-41c0-82ea-04d520bba413",
   "metadata": {},
   "outputs": [],
   "source": [
    "keep_syllables = np.loadtxt('/n/groups/datta/win/longtogeny/data/ontogeny/version_11/to_keep_syllables_raw.txt', dtype=int)\n",
    "\n",
    "male_df = pd.read_parquet('/n/groups/datta/win/longtogeny/data/ontogeny/version_11-1/ontogeny_males_raw_usage_matrix_v00.parquet').astype(float)\n",
    "male_df = male_df[keep_syllables]\n",
    "m_df= male_df.copy()"
   ]
  },
  {
   "cell_type": "code",
   "execution_count": 5,
   "id": "c5a0c3c2",
   "metadata": {},
   "outputs": [],
   "source": [
    "size_df = pd.read_parquet(\n",
    "    '/n/groups/datta/win/longtogeny/data/ontogeny/version_11-1/ontogeny_males_mouse_area_df_v00.parquet'\n",
    ")\n",
    "age_cut = pd.cut(size_df.index.get_level_values('age'), 19)\n",
    "\n",
    "size_df.loc[size_df['quant_0.5'] == 0, 'quant_0.5'] = np.nan\n",
    "sizes_col = size_df['quant_0.5']\n",
    "sizes_col = sizes_col.groupby('mouse').apply(lambda df: df.sort_index(level='age').interpolate()).droplevel(0)\n",
    "\n",
    "# sizes_col = zscore(sizes_col.groupby(age_cut, observed=True).transform(demean))\n",
    "sizes_col = sizes_col.groupby(age_cut, observed=True).transform(zscore)\n",
    "sizes_col = sizes_col.fillna(0)\n",
    "sizes_col = sizes_col.loc[m_df.index]\n",
    "\n",
    "# make sure df matches sizes\n",
    "m_df = m_df.loc[sizes_col.index]\n",
    "age = m_df.index.get_level_values(\"age\")"
   ]
  },
  {
   "cell_type": "code",
   "execution_count": 6,
   "id": "37beff09-d27e-470a-93ab-bf7f28bec4a4",
   "metadata": {},
   "outputs": [],
   "source": [
    "m_df['size'] = sizes_col"
   ]
  },
  {
   "cell_type": "markdown",
   "id": "1d06ad7f-9097-439c-b6e6-199c43d414b1",
   "metadata": {},
   "source": [
    "## Load females"
   ]
  },
  {
   "cell_type": "code",
   "execution_count": 7,
   "id": "2dbaf167-b08a-469c-9f15-9cf2b847db75",
   "metadata": {},
   "outputs": [],
   "source": [
    "## arrange data for females\n",
    "age_mapping = {\n",
    "    93: 94,\n",
    "    95: 94,\n",
    "    97: 98,\n",
    "    98: 98,\n",
    "    102: 98,\n",
    "    103: 105,\n",
    "    105: 105,\n",
    "    107: 105\n",
    "}\n",
    "\n",
    "female_df = pd.read_parquet('/n/groups/datta/win/longtogeny/data/ontogeny/version_11-1/ontogeny_females_raw_usage_matrix_v00.parquet').astype(float)\n",
    "female_df = female_df[keep_syllables]\n",
    "f_df=female_df.copy()\n",
    "\n",
    "# for female:\n",
    "\n",
    "# Update age value to 52 for rows with uuid in the list\n",
    "uuids = ['f1d5dce5-f5cf-4b03-b07d-d9b8c1f034b0','6fa50ac7-6d49-4ef9-9059-3d90bdd8c5d4',\n",
    "         'e9e05da8-fc59-40f3-a9c8-f57c492c6141','327e7fa1-2237-43d2-b25f-c1801912df33',\n",
    "        '242bee8e-0ee7-45e7-8a13-678836a4cddb','552ec70f-0676-4471-8ab0-403e1fcf43e3','d6f254af-d55a-427a-96e0-c452a233cbe2']\n",
    "\n",
    "# Save the original index\n",
    "original_index = f_df.index.names\n",
    "\n",
    "f_df.reset_index(inplace=True)\n",
    "\n",
    "f_df['age'] = f_df['age'].map(age_mapping).fillna(f_df['age'])\n",
    "f_df.loc[f_df['uuid'].isin(uuids), 'age'] = 52\n",
    "# Set the index back\n",
    "f_df.set_index(original_index, inplace=True)\n",
    "\n",
    "f_df = f_df.query('age<127')"
   ]
  },
  {
   "cell_type": "code",
   "execution_count": 8,
   "id": "50e2c4da-1e81-4723-ad2b-d39a56197a2f",
   "metadata": {},
   "outputs": [],
   "source": [
    "size_df = pd.read_parquet(\n",
    "    '/n/groups/datta/win/longtogeny/data/ontogeny/version_11-1/ontogeny_females_mouse_area_df_v00.parquet'\n",
    ")\n",
    "# Save the original index\n",
    "original_index = size_df.index.names\n",
    "size_df.reset_index(inplace=True)\n",
    "size_df.loc[size_df['uuid'].isin(uuids), 'age'] = 52\n",
    "size_df['age'] = size_df['age'].map(age_mapping).fillna(size_df['age'])\n",
    "# Set the index back\n",
    "size_df.set_index(original_index, inplace=True)\n",
    "\n",
    "age_cut = pd.cut(size_df.index.get_level_values('age'), 19)\n",
    "\n",
    "size_df.loc[size_df['quant_0.5'] == 0, 'quant_0.5'] = np.nan\n",
    "sizes_col = size_df['quant_0.5']\n",
    "sizes_col = sizes_col.groupby('mouse').apply(lambda df: df.sort_index(level='age').interpolate()).droplevel(0)\n",
    "\n",
    "# sizes_col = zscore(sizes_col.groupby(age_cut, observed=True).transform(demean))\n",
    "sizes_col = sizes_col.groupby(age_cut, observed=True).transform(zscore)\n",
    "sizes_col = sizes_col.fillna(0)\n",
    "sizes_col = sizes_col.loc[f_df.index]\n",
    "\n",
    "# make sure df matches sizes\n",
    "f_df = f_df.loc[sizes_col.index]\n",
    "age = f_df.index.get_level_values(\"age\")"
   ]
  },
  {
   "cell_type": "code",
   "execution_count": 9,
   "id": "fc6b49f5-94e0-4fee-9ce4-b9b4227b8983",
   "metadata": {},
   "outputs": [],
   "source": [
    "f_df['size'] = sizes_col"
   ]
  },
  {
   "cell_type": "markdown",
   "id": "fece2bc1-b9fe-4d9b-aec7-83606f10693f",
   "metadata": {},
   "source": [
    "## Make linear predictions - get r2 scores"
   ]
  },
  {
   "cell_type": "code",
   "execution_count": 10,
   "id": "b8e6b7ed-b064-4b39-8313-cc00ac1c5022",
   "metadata": {},
   "outputs": [],
   "source": [
    "pipeline = make_pipeline(\n",
    "    StandardScaler(),\n",
    "    LinearRegression(),\n",
    ")"
   ]
  },
  {
   "cell_type": "code",
   "execution_count": 11,
   "id": "d273f395-c879-430d-b569-70e85eff453d",
   "metadata": {},
   "outputs": [],
   "source": [
    "from toolz import valmap"
   ]
  },
  {
   "cell_type": "code",
   "execution_count": 12,
   "id": "dfe390e9-4111-4dd0-bbe6-597518a1bb09",
   "metadata": {},
   "outputs": [
    {
     "data": {
      "application/vnd.jupyter.widget-view+json": {
       "model_id": "607a43ba65a7410caa0501e6dc3cbbdb",
       "version_major": 2,
       "version_minor": 0
      },
      "text/plain": [
       "  0%|          | 0/58 [00:00<?, ?it/s]"
      ]
     },
     "metadata": {},
     "output_type": "display_data"
    }
   ],
   "source": [
    "np.random.seed(0)\n",
    "\n",
    "m_scores = defaultdict(list)\n",
    "m_shuff_scores = defaultdict(list)\n",
    "\n",
    "n_repeats = 10\n",
    "n_shuffles = 100\n",
    "\n",
    "\n",
    "for syllable in tqdm(m_df.columns[:-1]):\n",
    "\n",
    "    for i in range(n_repeats):\n",
    "\n",
    "        preds = cross_val_predict(pipeline, m_df[['size']], m_df[syllable], cv=KFold(n_splits=8, shuffle=True, random_state=i))\n",
    "\n",
    "        m_scores[syllable].append(r2_score(m_df[syllable], preds))\n",
    "\n",
    "    # shuffle\n",
    "    for i in range(n_shuffles):\n",
    "\n",
    "        y = np.random.permutation(m_df[syllable])\n",
    "\n",
    "        preds = cross_val_predict(pipeline, m_df[['size']], y, cv=KFold(n_splits=8, shuffle=True, random_state=i))\n",
    "\n",
    "        m_shuff_scores[syllable].append(r2_score(y, preds))"
   ]
  },
  {
   "cell_type": "code",
   "execution_count": 13,
   "id": "8a7d4ff9-5323-4c24-87b9-0161c9693bd0",
   "metadata": {},
   "outputs": [],
   "source": [
    "p_vals = {}\n",
    "for syllable in m_scores:\n",
    "    p = np.mean(np.abs(m_shuff_scores[syllable]) > np.abs(np.mean(m_scores[syllable])))\n",
    "    p_vals[syllable] = p\n",
    "\n",
    "is_sig = valmap(lambda x: x < 0.05, p_vals)"
   ]
  },
  {
   "cell_type": "code",
   "execution_count": 14,
   "id": "4acd7b66-e555-45ae-b2cf-6bffeb1c5814",
   "metadata": {},
   "outputs": [
    {
     "data": {
      "text/plain": [
       "32"
      ]
     },
     "execution_count": 14,
     "metadata": {},
     "output_type": "execute_result"
    }
   ],
   "source": [
    "np.sum(list(is_sig.values()))"
   ]
  },
  {
   "cell_type": "code",
   "execution_count": 15,
   "id": "ae7b8c88-10c0-4f4c-9353-d71eccbbce98",
   "metadata": {},
   "outputs": [
    {
     "data": {
      "text/plain": [
       "0.5517241379310345"
      ]
     },
     "execution_count": 15,
     "metadata": {},
     "output_type": "execute_result"
    }
   ],
   "source": [
    "np.mean(list(is_sig.values()))"
   ]
  },
  {
   "cell_type": "code",
   "execution_count": 16,
   "id": "363fecd9-509b-4d95-a2e9-c50956a52123",
   "metadata": {},
   "outputs": [],
   "source": [
    "plt_scores = valmap(np.mean, m_scores)\n",
    "ps = list(plt_scores.values())\n",
    "bins = np.linspace(np.min(ps), np.max(ps), 9)"
   ]
  },
  {
   "cell_type": "code",
   "execution_count": 17,
   "id": "e549b88e-fc54-4292-9a9e-d4e6039b2512",
   "metadata": {},
   "outputs": [
    {
     "name": "stderr",
     "output_type": "stream",
     "text": [
      "webf NOT subset; don't know how to subset; dropped\n"
     ]
    },
    {
     "data": {
      "image/png": "[encoded data removed]",
      "text/plain": [
       "<Figure size 300x300 with 1 Axes>"
      ]
     },
     "metadata": {
      "image/png": {
       "height": 358,
       "width": 579
      }
     },
     "output_type": "display_data"
    }
   ],
   "source": [
    "fig = figure(1, 1)\n",
    "ax = sns.histplot(list(plt_scores.values()), element='step', bins=bins, fill=True, stat='count', lw=0, color='gray')\n",
    "sns.histplot(list({k: v for k, v in plt_scores.items() if is_sig[k]}.values()), element='step', bins=bins, fill=True, stat='count', lw=0, color=COLORMAPS.ont_male(255), ax=ax, label=\"significant\", alpha=1)\n",
    "legend(ax)\n",
    "ax.set(xlabel=\"Held-out R2\")\n",
    "sns.despine()\n",
    "saver(fig, \"male-r2-vals\");"
   ]
  },
  {
   "cell_type": "markdown",
   "id": "722dfa0a-1055-477e-8168-b862bec46b81",
   "metadata": {},
   "source": [
    "### Get slopes"
   ]
  },
  {
   "cell_type": "code",
   "execution_count": 18,
   "id": "98ec3f92-b5e2-4294-bf11-83b520f15749",
   "metadata": {},
   "outputs": [],
   "source": [
    "slope_pipeline = make_pipeline(\n",
    "    StandardScaler(),\n",
    "    LinearRegression(),\n",
    ")"
   ]
  },
  {
   "cell_type": "code",
   "execution_count": 19,
   "id": "f002b3ed-f8a1-4f10-93da-1dbbed6b2311",
   "metadata": {},
   "outputs": [
    {
     "data": {
      "application/vnd.jupyter.widget-view+json": {
       "model_id": "d8560d5c8f984654b30b80c8efbd4c25",
       "version_major": 2,
       "version_minor": 0
      },
      "text/plain": [
       "  0%|          | 0/58 [00:00<?, ?it/s]"
      ]
     },
     "metadata": {},
     "output_type": "display_data"
    }
   ],
   "source": [
    "m_slopes = {}\n",
    "for syllable in tqdm(m_df.columns[:-1]):\n",
    "    slope_pipeline.fit(m_df[['size']], m_df[syllable])\n",
    "    coef = slope_pipeline.named_steps['linearregression'].coef_[0]\n",
    "    m_slopes[syllable] = coef"
   ]
  },
  {
   "cell_type": "code",
   "execution_count": 20,
   "id": "541583bc-d7f6-43f8-9ef0-c12010420d27",
   "metadata": {},
   "outputs": [
    {
     "name": "stderr",
     "output_type": "stream",
     "text": [
      "webf NOT subset; don't know how to subset; dropped\n"
     ]
    },
    {
     "data": {
      "image/png": "[encoded data removed]",
      "text/plain": [
       "<Figure size 300x300 with 1 Axes>"
      ]
     },
     "metadata": {
      "image/png": {
       "height": 359,
       "width": 488
      }
     },
     "output_type": "display_data"
    }
   ],
   "source": [
    "fig = figure(1, 1)\n",
    "ax = sns.histplot(list(m_slopes.values()), element='step', bins=15, fill=True, stat='count', lw=0, color=COLORMAPS.ont_male(255), label=\"M\")\n",
    "legend(ax)\n",
    "ax.set(xlabel=\"Slope\", xlim=(-0.01, 0.01))\n",
    "sns.despine()\n",
    "saver(fig, \"male-slopes\");"
   ]
  },
  {
   "cell_type": "code",
   "execution_count": 27,
   "id": "c77214ed-c18f-4082-8414-18e58d1f56be",
   "metadata": {},
   "outputs": [
    {
     "data": {
      "text/plain": [
       "{62: -0.009470361,\n",
       " 11: -0.004475301,\n",
       " 42: -0.004182067,\n",
       " 70: -0.0032850774,\n",
       " 69: -0.0029557496,\n",
       " 2: -0.002791307,\n",
       " 9: -0.0026858735,\n",
       " 23: -0.0025357113,\n",
       " 53: -0.0020996558,\n",
       " 36: -0.0017923855,\n",
       " 64: -0.0016732387,\n",
       " 13: -0.0013722947,\n",
       " 76: -0.0013195721,\n",
       " 71: -0.0013155637,\n",
       " 67: -0.0012036912,\n",
       " 27: -0.0011103308,\n",
       " 73: -0.0010636278,\n",
       " 6: -0.0010341031,\n",
       " 32: -0.0008681119,\n",
       " 12: -0.0005781007,\n",
       " 84: -0.00048104534,\n",
       " 97: -0.0004483568,\n",
       " 49: -0.0003422366,\n",
       " 52: -0.00029454596,\n",
       " 41: -0.00024765084,\n",
       " 44: -0.00024343822,\n",
       " 33: -0.00017030272,\n",
       " 24: -9.1404494e-05,\n",
       " 85: -5.6958375e-05,\n",
       " 93: -2.734255e-05,\n",
       " 10: 0.00013581276,\n",
       " 98: 0.00016370363,\n",
       " 60: 0.0002825949,\n",
       " 54: 0.00031682017,\n",
       " 30: 0.00033524304,\n",
       " 95: 0.00035356593,\n",
       " 77: 0.00049773086,\n",
       " 4: 0.0006760156,\n",
       " 17: 0.0006942457,\n",
       " 63: 0.0007232918,\n",
       " 55: 0.00073259394,\n",
       " 39: 0.0009808682,\n",
       " 0: 0.0010583979,\n",
       " 79: 0.0011839885,\n",
       " 66: 0.0014192682,\n",
       " 14: 0.0015137924,\n",
       " 83: 0.0016573305,\n",
       " 25: 0.001675814,\n",
       " 16: 0.0018896862,\n",
       " 90: 0.0024301226,\n",
       " 68: 0.0028139993,\n",
       " 18: 0.0028291533,\n",
       " 59: 0.0034240712,\n",
       " 61: 0.0035185926,\n",
       " 50: 0.004453344,\n",
       " 7: 0.004737332,\n",
       " 74: 0.0060508554,\n",
       " 5: 0.008904523}"
      ]
     },
     "execution_count": 27,
     "metadata": {},
     "output_type": "execute_result"
    }
   ],
   "source": [
    "dict(sorted(m_slopes.items(), key=lambda x: x[1]))"
   ]
  },
  {
   "cell_type": "markdown",
   "id": "f8dbb048-4903-488d-b13c-d39a6ae6d4eb",
   "metadata": {},
   "source": [
    "## Females"
   ]
  },
  {
   "cell_type": "code",
   "execution_count": 29,
   "id": "e626c345-112e-4f2d-99f8-68438a8dc842",
   "metadata": {},
   "outputs": [
    {
     "data": {
      "application/vnd.jupyter.widget-view+json": {
       "model_id": "78e697dd1f78462fb905a70f16cce2a6",
       "version_major": 2,
       "version_minor": 0
      },
      "text/plain": [
       "  0%|          | 0/58 [00:00<?, ?it/s]"
      ]
     },
     "metadata": {},
     "output_type": "display_data"
    }
   ],
   "source": [
    "np.random.seed(0)\n",
    "\n",
    "scores = defaultdict(list)\n",
    "shuff_scores = defaultdict(list)\n",
    "\n",
    "n_repeats = 10\n",
    "n_shuffles = 100\n",
    "\n",
    "\n",
    "for syllable in tqdm(f_df.columns[:-1]):\n",
    "\n",
    "    for i in range(n_repeats):\n",
    "\n",
    "        preds = cross_val_predict(pipeline, f_df[['size']], f_df[syllable], cv=KFold(n_splits=8, shuffle=True, random_state=i))\n",
    "\n",
    "        scores[syllable].append(r2_score(f_df[syllable], preds))\n",
    "\n",
    "    # shuffle\n",
    "    for i in range(n_shuffles):\n",
    "\n",
    "        y = np.random.permutation(f_df[syllable])\n",
    "\n",
    "        preds = cross_val_predict(pipeline, f_df[['size']], y, cv=KFold(n_splits=8, shuffle=True, random_state=i))\n",
    "\n",
    "        shuff_scores[syllable].append(r2_score(y, preds))"
   ]
  },
  {
   "cell_type": "code",
   "execution_count": 30,
   "id": "61b277ea-59b2-4ce4-92a9-60072fb0adc7",
   "metadata": {},
   "outputs": [],
   "source": [
    "p_vals = {}\n",
    "for syllable in scores:\n",
    "    p = np.mean(np.abs(shuff_scores[syllable]) > np.abs(np.mean(scores[syllable])))\n",
    "    p_vals[syllable] = p\n",
    "\n",
    "is_sig = valmap(lambda x: x < 0.05, p_vals)"
   ]
  },
  {
   "cell_type": "code",
   "execution_count": 31,
   "id": "a089c68f-8f18-4af9-a225-4f3cf4d556ff",
   "metadata": {},
   "outputs": [
    {
     "data": {
      "text/plain": [
       "35"
      ]
     },
     "execution_count": 31,
     "metadata": {},
     "output_type": "execute_result"
    }
   ],
   "source": [
    "np.sum(list(is_sig.values()))"
   ]
  },
  {
   "cell_type": "code",
   "execution_count": 32,
   "id": "d76437c0-8a2e-4552-b88c-8063a95e7254",
   "metadata": {},
   "outputs": [
    {
     "data": {
      "text/plain": [
       "0.603448275862069"
      ]
     },
     "execution_count": 32,
     "metadata": {},
     "output_type": "execute_result"
    }
   ],
   "source": [
    "np.mean(list(is_sig.values()))"
   ]
  },
  {
   "cell_type": "code",
   "execution_count": 33,
   "id": "f3bbb73a-6a6e-4e1f-8e7e-7402fb80232d",
   "metadata": {},
   "outputs": [],
   "source": [
    "plt_scores = valmap(np.mean, scores)"
   ]
  },
  {
   "cell_type": "code",
   "execution_count": 34,
   "id": "2572d398-5f7a-4b2e-adfc-ddea1bc43cef",
   "metadata": {},
   "outputs": [],
   "source": [
    "ps = list(plt_scores.values())"
   ]
  },
  {
   "cell_type": "code",
   "execution_count": 35,
   "id": "3680f053-9a4e-4107-a3f1-e0c961926bc1",
   "metadata": {},
   "outputs": [],
   "source": [
    "bins = np.linspace(np.min(ps), np.max(ps), 9)"
   ]
  },
  {
   "cell_type": "code",
   "execution_count": 36,
   "id": "8ba1ab55-d5c2-40ea-a956-5b85446b14fb",
   "metadata": {},
   "outputs": [
    {
     "name": "stderr",
     "output_type": "stream",
     "text": [
      "webf NOT subset; don't know how to subset; dropped\n"
     ]
    },
    {
     "data": {
      "image/png": "[encoded data removed]",
      "text/plain": [
       "<Figure size 300x300 with 1 Axes>"
      ]
     },
     "metadata": {
      "image/png": {
       "height": 358,
       "width": 579
      }
     },
     "output_type": "display_data"
    }
   ],
   "source": [
    "fig = figure(1, 1)\n",
    "ax = sns.histplot(list(plt_scores.values()), element='step', bins=bins, fill=True, stat='count', lw=0, color='gray')\n",
    "sns.histplot(list({k: v for k, v in plt_scores.items() if is_sig[k]}.values()), element='step', bins=bins, fill=True, stat='count', lw=0, color=COLORMAPS.ont_female(255), ax=ax, label=\"significant\", alpha=1)\n",
    "legend(ax)\n",
    "ax.set(xlabel=\"Held-out R2\")\n",
    "sns.despine()\n",
    "saver(fig, \"female-r2-vals\");"
   ]
  },
  {
   "cell_type": "markdown",
   "id": "fd3ebd26-f278-4610-af6b-3f18b7fc1d97",
   "metadata": {},
   "source": [
    "### Get slopes"
   ]
  },
  {
   "cell_type": "code",
   "execution_count": 37,
   "id": "00e542de-e49e-4786-bd9c-ccc6f9ddcd22",
   "metadata": {},
   "outputs": [],
   "source": [
    "slope_pipeline = make_pipeline(\n",
    "    StandardScaler(),\n",
    "    LinearRegression(),\n",
    ")"
   ]
  },
  {
   "cell_type": "code",
   "execution_count": 38,
   "id": "2248fd2f-6f5b-46f1-ba60-98315dfe2349",
   "metadata": {},
   "outputs": [
    {
     "data": {
      "application/vnd.jupyter.widget-view+json": {
       "model_id": "6ea86b156bb5459ebdbd917ad5d24fce",
       "version_major": 2,
       "version_minor": 0
      },
      "text/plain": [
       "  0%|          | 0/58 [00:00<?, ?it/s]"
      ]
     },
     "metadata": {},
     "output_type": "display_data"
    }
   ],
   "source": [
    "f_slopes = {}\n",
    "for syllable in tqdm(f_df.columns[:-1]):\n",
    "    slope_pipeline.fit(f_df[['size']], f_df[syllable])\n",
    "    coef = slope_pipeline.named_steps['linearregression'].coef_[0]\n",
    "    f_slopes[syllable] = coef"
   ]
  },
  {
   "cell_type": "code",
   "execution_count": 39,
   "id": "4ebf3598-ed98-4b8a-b153-4a0e32c439a8",
   "metadata": {},
   "outputs": [
    {
     "name": "stderr",
     "output_type": "stream",
     "text": [
      "webf NOT subset; don't know how to subset; dropped\n"
     ]
    },
    {
     "data": {
      "image/png": "[encoded data removed]",
      "text/plain": [
       "<Figure size 300x300 with 1 Axes>"
      ]
     },
     "metadata": {
      "image/png": {
       "height": 359,
       "width": 482
      }
     },
     "output_type": "display_data"
    }
   ],
   "source": [
    "fig = figure(1, 1)\n",
    "ax = sns.histplot(list(f_slopes.values()), element='step', bins=15, fill=True, stat='count', lw=0, color=COLORMAPS.ont_female(255), label=\"F\")\n",
    "legend(ax)\n",
    "ax.set(xlabel=\"Slope\")\n",
    "sns.despine()\n",
    "saver(fig, \"female-slopes\");"
   ]
  },
  {
   "cell_type": "code",
   "execution_count": 40,
   "id": "4696089a-1ef6-4955-8f2a-65117960298e",
   "metadata": {},
   "outputs": [
    {
     "data": {
      "text/plain": [
       "{62: -0.01381402,\n",
       " 42: -0.0080585815,\n",
       " 69: -0.006173394,\n",
       " 11: -0.0047532343,\n",
       " 9: -0.002287984,\n",
       " 53: -0.0020674241,\n",
       " 12: -0.0016728224,\n",
       " 41: -0.001203053,\n",
       " 49: -0.0011009641,\n",
       " 85: -0.00088482193,\n",
       " 27: -0.0008397827,\n",
       " 13: -0.00078082085,\n",
       " 52: -0.0007386591,\n",
       " 60: -0.00073476473,\n",
       " 44: -0.0007290951,\n",
       " 67: -0.0006725756,\n",
       " 24: -0.0005521342,\n",
       " 36: -0.00053268904,\n",
       " 76: -0.00047617053,\n",
       " 10: -0.00046513946,\n",
       " 6: -0.00044283885,\n",
       " 73: -0.00042000657,\n",
       " 23: -0.00039480886,\n",
       " 32: -0.00034790678,\n",
       " 84: -0.00032648738,\n",
       " 14: -0.00032260286,\n",
       " 70: -0.0002620334,\n",
       " 97: 4.0106243e-05,\n",
       " 59: 0.0001331088,\n",
       " 63: 0.00018184248,\n",
       " 39: 0.00043991403,\n",
       " 30: 0.00044214565,\n",
       " 64: 0.00048274273,\n",
       " 93: 0.0005825262,\n",
       " 33: 0.00063518627,\n",
       " 71: 0.00065262744,\n",
       " 16: 0.00081012293,\n",
       " 17: 0.000921114,\n",
       " 54: 0.00092481746,\n",
       " 55: 0.0009545916,\n",
       " 77: 0.0010554258,\n",
       " 83: 0.0011648589,\n",
       " 90: 0.0011743561,\n",
       " 98: 0.0012801213,\n",
       " 95: 0.0013010199,\n",
       " 0: 0.0015295247,\n",
       " 68: 0.0018045788,\n",
       " 61: 0.0018639871,\n",
       " 79: 0.0021212476,\n",
       " 18: 0.0024634576,\n",
       " 74: 0.0025012381,\n",
       " 25: 0.002923505,\n",
       " 7: 0.0033486376,\n",
       " 50: 0.0035185178,\n",
       " 66: 0.0037030585,\n",
       " 2: 0.0038402218,\n",
       " 5: 0.006546034,\n",
       " 4: 0.008957862}"
      ]
     },
     "execution_count": 40,
     "metadata": {},
     "output_type": "execute_result"
    }
   ],
   "source": [
    "dict(sorted(f_slopes.items(), key=lambda x: x[1]))"
   ]
  },
  {
   "cell_type": "code",
   "execution_count": null,
   "id": "cf32f576-38fd-4bfe-8339-c612039169db",
   "metadata": {},
   "outputs": [],
   "source": []
  },
  {
   "cell_type": "code",
   "execution_count": 128,
   "id": "6edfb291-66ce-415e-895f-291babff7151",
   "metadata": {},
   "outputs": [],
   "source": [
    "m_plt_scores = valmap(np.mean, m_scores)"
   ]
  },
  {
   "cell_type": "code",
   "execution_count": 134,
   "id": "40a5ac25-3371-48bb-9fa1-c7762f05738a",
   "metadata": {},
   "outputs": [],
   "source": [
    "ps = list(plt_scores.values())\n",
    "bins = np.linspace(np.min(ps), np.max(ps), 11)"
   ]
  },
  {
   "cell_type": "code",
   "execution_count": 135,
   "id": "f7356247-f4fa-489d-a9db-0382c9ec62af",
   "metadata": {},
   "outputs": [
    {
     "name": "stderr",
     "output_type": "stream",
     "text": [
      "webf NOT subset; don't know how to subset; dropped\n"
     ]
    },
    {
     "data": {
      "image/png": "[encoded data removed]",
      "text/plain": [
       "<Figure size 300x300 with 1 Axes>"
      ]
     },
     "metadata": {
      "image/png": {
       "height": 364,
       "width": 488
      }
     },
     "output_type": "display_data"
    }
   ],
   "source": [
    "fig = figure(1, 1)\n",
    "ax = sns.histplot(list(m_plt_scores.values()), element='step', bins=bins, fill=True, stat='count', lw=0, color=COLORMAPS.ont_male(255), label=\"M\")\n",
    "sns.histplot(list(plt_scores.values()), element='step', bins=bins, fill=True, stat='count', lw=0, color=COLORMAPS.ont_female(255), label=\"F\")\n",
    "legend(ax)\n",
    "ax.set(xlabel=\"Held-out R2\")\n",
    "sns.despine()\n",
    "saver(fig, \"male-female-heldout-r2\");"
   ]
  },
  {
   "cell_type": "code",
   "execution_count": 139,
   "id": "276652a1-9bc3-4705-a858-85bc9fce1894",
   "metadata": {},
   "outputs": [],
   "source": [
    "ps = list(f_slopes.values())\n",
    "bins = np.linspace(np.min(ps), np.max(ps), 15)"
   ]
  },
  {
   "cell_type": "code",
   "execution_count": 140,
   "id": "e967ec5a-01ba-415d-a21c-f30f859965a7",
   "metadata": {},
   "outputs": [
    {
     "name": "stderr",
     "output_type": "stream",
     "text": [
      "webf NOT subset; don't know how to subset; dropped\n"
     ]
    },
    {
     "data": {
      "image/png": "[encoded data removed]",
      "text/plain": [
       "<Figure size 300x300 with 1 Axes>"
      ]
     },
     "metadata": {
      "image/png": {
       "height": 359,
       "width": 488
      }
     },
     "output_type": "display_data"
    }
   ],
   "source": [
    "fig = figure(1, 1)\n",
    "ax = sns.histplot(list(m_slopes.values()), element='step', bins=bins, fill=True, stat='count', lw=0, color=COLORMAPS.ont_male(255), label=\"M\")\n",
    "sns.histplot(list(f_slopes.values()), element='step', bins=bins, fill=True, stat='count', lw=0, color=COLORMAPS.ont_female(255), label=\"F\", ax=ax)\n",
    "legend(ax)\n",
    "ax.set(xlabel=\"Slope\")\n",
    "sns.despine()\n",
    "saver(fig, \"male-female-slopes\");"
   ]
  },
  {
   "cell_type": "code",
   "execution_count": null,
   "id": "b3e66d91-dcc1-4540-9782-8050bf279999",
   "metadata": {},
   "outputs": [],
   "source": []
  }
 ],
 "metadata": {
  "kernelspec": {
   "display_name": "Ontogeny",
   "language": "python",
   "name": "aging"
  },
  "language_info": {
   "codemirror_mode": {
    "name": "ipython",
    "version": 3
   },
   "file_extension": ".py",
   "mimetype": "text/x-python",
   "name": "python",
   "nbconvert_exporter": "python",
   "pygments_lexer": "ipython3",
   "version": "3.10.10"
  },
  "widgets": {
   "application/vnd.jupyter.widget-state+json": {
    "state": {
     "03245d6bb7ff47daa166ea8b243d5ba7": {
      "model_module": "@jupyter-widgets/controls",
      "model_module_version": "2.0.0",
      "model_name": "FloatProgressModel",
      "state": {
       "bar_style": "success",
       "layout": "IPY_MODEL_83e24e9d34894fac8856698f53f371e6",
       "max": 58,
       "style": "IPY_MODEL_fabe581b703a4f5a9f435e6b16eb1be2",
       "value": 58
      }
     },
     "4b17169cd03348bd98aec7700b51028e": {
      "model_module": "@jupyter-widgets/base",
      "model_module_version": "2.0.0",
      "model_name": "LayoutModel",
      "state": {}
     },
     "5afe69dde72b43cda5f5f3c1799f4032": {
      "model_module": "@jupyter-widgets/controls",
      "model_module_version": "2.0.0",
      "model_name": "HTMLStyleModel",
      "state": {
       "description_width": "",
       "font_size": null,
       "text_color": null
      }
     },
     "5ea691abd5184f129cbe755a35625e3c": {
      "model_module": "@jupyter-widgets/base",
      "model_module_version": "2.0.0",
      "model_name": "LayoutModel",
      "state": {}
     },
     "607a43ba65a7410caa0501e6dc3cbbdb": {
      "model_module": "@jupyter-widgets/controls",
      "model_module_version": "2.0.0",
      "model_name": "HBoxModel",
      "state": {
       "children": [
        "IPY_MODEL_ffa4bda9b4b242d3a46a847d05439819",
        "IPY_MODEL_fd9cd3b58cb443998e00cab6ca9ef58d",
        "IPY_MODEL_afaa8b0bf0f2458999d5df556b53aaec"
       ],
       "layout": "IPY_MODEL_fa38fc04edab4cc8ba38dc4174bf445b"
      }
     },
     "83e24e9d34894fac8856698f53f371e6": {
      "model_module": "@jupyter-widgets/base",
      "model_module_version": "2.0.0",
      "model_name": "LayoutModel",
      "state": {}
     },
     "8f41b93aa25645f49c09d69c35ee5088": {
      "model_module": "@jupyter-widgets/base",
      "model_module_version": "2.0.0",
      "model_name": "LayoutModel",
      "state": {}
     },
     "8f81f96c38ee42e28504c7fb02865d9f": {
      "model_module": "@jupyter-widgets/base",
      "model_module_version": "2.0.0",
      "model_name": "LayoutModel",
      "state": {}
     },
     "90fa8627c90b42918098328ababde9eb": {
      "model_module": "@jupyter-widgets/controls",
      "model_module_version": "2.0.0",
      "model_name": "HTMLModel",
      "state": {
       "layout": "IPY_MODEL_8f81f96c38ee42e28504c7fb02865d9f",
       "style": "IPY_MODEL_aa61dc552ec247fd8c348da7d524b27b",
       "value": " 58/58 [00:00&lt;00:00, 219.99it/s]"
      }
     },
     "9961ef7239544782b80a10c8e30c0614": {
      "model_module": "@jupyter-widgets/controls",
      "model_module_version": "2.0.0",
      "model_name": "ProgressStyleModel",
      "state": {
       "description_width": ""
      }
     },
     "aa61dc552ec247fd8c348da7d524b27b": {
      "model_module": "@jupyter-widgets/controls",
      "model_module_version": "2.0.0",
      "model_name": "HTMLStyleModel",
      "state": {
       "description_width": "",
       "font_size": null,
       "text_color": null
      }
     },
     "afaa8b0bf0f2458999d5df556b53aaec": {
      "model_module": "@jupyter-widgets/controls",
      "model_module_version": "2.0.0",
      "model_name": "HTMLModel",
      "state": {
       "layout": "IPY_MODEL_4b17169cd03348bd98aec7700b51028e",
       "style": "IPY_MODEL_dda930ea60754972b647efb4dcd4ce04",
       "value": " 58/58 [05:23&lt;00:00,  5.57s/it]"
      }
     },
     "bf47413bec424ade82bf6ab53d4bc1ce": {
      "model_module": "@jupyter-widgets/base",
      "model_module_version": "2.0.0",
      "model_name": "LayoutModel",
      "state": {}
     },
     "d52fcc3492ee4313961f81db103e44dd": {
      "model_module": "@jupyter-widgets/controls",
      "model_module_version": "2.0.0",
      "model_name": "HTMLModel",
      "state": {
       "layout": "IPY_MODEL_8f41b93aa25645f49c09d69c35ee5088",
       "style": "IPY_MODEL_f3db311319834fdc868c362d07a69a9d",
       "value": "100%"
      }
     },
     "d8560d5c8f984654b30b80c8efbd4c25": {
      "model_module": "@jupyter-widgets/controls",
      "model_module_version": "2.0.0",
      "model_name": "HBoxModel",
      "state": {
       "children": [
        "IPY_MODEL_d52fcc3492ee4313961f81db103e44dd",
        "IPY_MODEL_03245d6bb7ff47daa166ea8b243d5ba7",
        "IPY_MODEL_90fa8627c90b42918098328ababde9eb"
       ],
       "layout": "IPY_MODEL_fc5bef94c9b7479da3ac6549f2dca958"
      }
     },
     "dda930ea60754972b647efb4dcd4ce04": {
      "model_module": "@jupyter-widgets/controls",
      "model_module_version": "2.0.0",
      "model_name": "HTMLStyleModel",
      "state": {
       "description_width": "",
       "font_size": null,
       "text_color": null
      }
     },
     "f3db311319834fdc868c362d07a69a9d": {
      "model_module": "@jupyter-widgets/controls",
      "model_module_version": "2.0.0",
      "model_name": "HTMLStyleModel",
      "state": {
       "description_width": "",
       "font_size": null,
       "text_color": null
      }
     },
     "fa38fc04edab4cc8ba38dc4174bf445b": {
      "model_module": "@jupyter-widgets/base",
      "model_module_version": "2.0.0",
      "model_name": "LayoutModel",
      "state": {}
     },
     "fabe581b703a4f5a9f435e6b16eb1be2": {
      "model_module": "@jupyter-widgets/controls",
      "model_module_version": "2.0.0",
      "model_name": "ProgressStyleModel",
      "state": {
       "description_width": ""
      }
     },
     "fc5bef94c9b7479da3ac6549f2dca958": {
      "model_module": "@jupyter-widgets/base",
      "model_module_version": "2.0.0",
      "model_name": "LayoutModel",
      "state": {}
     },
     "fd9cd3b58cb443998e00cab6ca9ef58d": {
      "model_module": "@jupyter-widgets/controls",
      "model_module_version": "2.0.0",
      "model_name": "FloatProgressModel",
      "state": {
       "bar_style": "success",
       "layout": "IPY_MODEL_5ea691abd5184f129cbe755a35625e3c",
       "max": 58,
       "style": "IPY_MODEL_9961ef7239544782b80a10c8e30c0614",
       "value": 58
      }
     },
     "ffa4bda9b4b242d3a46a847d05439819": {
      "model_module": "@jupyter-widgets/controls",
      "model_module_version": "2.0.0",
      "model_name": "HTMLModel",
      "state": {
       "layout": "IPY_MODEL_bf47413bec424ade82bf6ab53d4bc1ce",
       "style": "IPY_MODEL_5afe69dde72b43cda5f5f3c1799f4032",
       "value": "100%"
      }
     }
    },
    "version_major": 2,
    "version_minor": 0
   }
  }
 },
 "nbformat": 4,
 "nbformat_minor": 5
}
