{
 "cells": [
  {
   "cell_type": "code",
   "execution_count": 8,
   "metadata": {},
   "outputs": [],
   "source": [
    "import polars as pl\n",
    "import matplotlib.pyplot as plt\n",
    "import seaborn as sns\n",
    "from pathlib import Path"
   ]
  },
  {
   "cell_type": "code",
   "execution_count": 9,
   "metadata": {},
   "outputs": [],
   "source": [
    "df = pl.read_csv(\"/n/groups/datta/win/longtogeny/size_norm/models/bottleneck_optimization_00/models.csv\")"
   ]
  },
  {
   "cell_type": "code",
   "execution_count": 11,
   "metadata": {},
   "outputs": [
    {
     "data": {
      "text/html": [
       "<div><style>\n",
       ".dataframe > thead > tr,\n",
       ".dataframe > tbody > tr {\n",
       "  text-align: right;\n",
       "  white-space: pre-wrap;\n",
       "}\n",
       "</style>\n",
       "<small>shape: (2, 2)</small><table border=\"1\" class=\"dataframe\"><thead><tr><th>uuid</th><th>curriculum_learning</th></tr><tr><td>str</td><td>bool</td></tr></thead><tbody><tr><td>&quot;a6cebcff-a0ad-…</td><td>true</td></tr><tr><td>&quot;d4c09116-8aa7-…</td><td>false</td></tr></tbody></table></div>"
      ],
      "text/plain": [
       "shape: (2, 2)\n",
       "┌───────────────────────────────────┬─────────────────────┐\n",
       "│ uuid                              ┆ curriculum_learning │\n",
       "│ ---                               ┆ ---                 │\n",
       "│ str                               ┆ bool                │\n",
       "╞═══════════════════════════════════╪═════════════════════╡\n",
       "│ a6cebcff-a0ad-426b-be90-9459e591… ┆ true                │\n",
       "│ d4c09116-8aa7-48a2-a87c-a9405b6f… ┆ false               │\n",
       "└───────────────────────────────────┴─────────────────────┘"
      ]
     },
     "execution_count": 11,
     "metadata": {},
     "output_type": "execute_result"
    }
   ],
   "source": [
    "df.filter(pl.col(\"stage\") == \"stage_04\")[['uuid', 'curriculum_learning']]"
   ]
  },
  {
   "cell_type": "code",
   "execution_count": 13,
   "metadata": {},
   "outputs": [
    {
     "data": {
      "text/html": [
       "<div><style>\n",
       ".dataframe > thead > tr,\n",
       ".dataframe > tbody > tr {\n",
       "  text-align: right;\n",
       "  white-space: pre-wrap;\n",
       "}\n",
       "</style>\n",
       "<small>shape: (8, 8)</small><table border=\"1\" class=\"dataframe\"><thead><tr><th>stage</th><th>uuid</th><th>arch</th><th>fft_branch</th><th>bottleneck</th><th>channels</th><th>curriculum_learning</th><th>file</th></tr><tr><td>str</td><td>str</td><td>str</td><td>bool</td><td>i64</td><td>i64</td><td>bool</td><td>str</td></tr></thead><tbody><tr><td>&quot;stage_05&quot;</td><td>&quot;30e86477-76ad-…</td><td>&quot;ae&quot;</td><td>false</td><td>25</td><td>128</td><td>false</td><td>&quot;/n/groups/datt…</td></tr><tr><td>&quot;stage_05&quot;</td><td>&quot;a043f8c0-d675-…</td><td>&quot;ae&quot;</td><td>false</td><td>25</td><td>128</td><td>true</td><td>&quot;/n/groups/datt…</td></tr><tr><td>&quot;stage_05&quot;</td><td>&quot;0d6e9634-b8d2-…</td><td>&quot;ae&quot;</td><td>true</td><td>25</td><td>128</td><td>false</td><td>&quot;/n/groups/datt…</td></tr><tr><td>&quot;stage_05&quot;</td><td>&quot;4c8fc0b1-8514-…</td><td>&quot;ae&quot;</td><td>true</td><td>25</td><td>128</td><td>true</td><td>&quot;/n/groups/datt…</td></tr><tr><td>&quot;stage_05&quot;</td><td>&quot;6f0d9a78-606e-…</td><td>&quot;vae&quot;</td><td>false</td><td>25</td><td>128</td><td>false</td><td>&quot;/n/groups/datt…</td></tr><tr><td>&quot;stage_05&quot;</td><td>&quot;8b6bc1ee-bfb6-…</td><td>&quot;vae&quot;</td><td>false</td><td>25</td><td>128</td><td>true</td><td>&quot;/n/groups/datt…</td></tr><tr><td>&quot;stage_05&quot;</td><td>&quot;c7988d0a-9185-…</td><td>&quot;vae&quot;</td><td>true</td><td>25</td><td>128</td><td>false</td><td>&quot;/n/groups/datt…</td></tr><tr><td>&quot;stage_05&quot;</td><td>&quot;625cd119-dba6-…</td><td>&quot;vae&quot;</td><td>true</td><td>25</td><td>128</td><td>true</td><td>&quot;/n/groups/datt…</td></tr></tbody></table></div>"
      ],
      "text/plain": [
       "shape: (8, 8)\n",
       "┌──────────┬──────────────┬──────┬────────────┬────────────┬──────────┬──────────────┬─────────────┐\n",
       "│ stage    ┆ uuid         ┆ arch ┆ fft_branch ┆ bottleneck ┆ channels ┆ curriculum_l ┆ file        │\n",
       "│ ---      ┆ ---          ┆ ---  ┆ ---        ┆ ---        ┆ ---      ┆ earning      ┆ ---         │\n",
       "│ str      ┆ str          ┆ str  ┆ bool       ┆ i64        ┆ i64      ┆ ---          ┆ str         │\n",
       "│          ┆              ┆      ┆            ┆            ┆          ┆ bool         ┆             │\n",
       "╞══════════╪══════════════╪══════╪════════════╪════════════╪══════════╪══════════════╪═════════════╡\n",
       "│ stage_05 ┆ 30e86477-76a ┆ ae   ┆ false      ┆ 25         ┆ 128      ┆ false        ┆ /n/groups/d │\n",
       "│          ┆ d-4168-846b- ┆      ┆            ┆            ┆          ┆              ┆ atta/win/lo │\n",
       "│          ┆ 97da1ffe…    ┆      ┆            ┆            ┆          ┆              ┆ ngtogeny/s… │\n",
       "│ stage_05 ┆ a043f8c0-d67 ┆ ae   ┆ false      ┆ 25         ┆ 128      ┆ true         ┆ /n/groups/d │\n",
       "│          ┆ 5-4ea9-93ca- ┆      ┆            ┆            ┆          ┆              ┆ atta/win/lo │\n",
       "│          ┆ 1f6f2d9d…    ┆      ┆            ┆            ┆          ┆              ┆ ngtogeny/s… │\n",
       "│ stage_05 ┆ 0d6e9634-b8d ┆ ae   ┆ true       ┆ 25         ┆ 128      ┆ false        ┆ /n/groups/d │\n",
       "│          ┆ 2-41a1-a166- ┆      ┆            ┆            ┆          ┆              ┆ atta/win/lo │\n",
       "│          ┆ 5e715265…    ┆      ┆            ┆            ┆          ┆              ┆ ngtogeny/s… │\n",
       "│ stage_05 ┆ 4c8fc0b1-851 ┆ ae   ┆ true       ┆ 25         ┆ 128      ┆ true         ┆ /n/groups/d │\n",
       "│          ┆ 4-4a94-991b- ┆      ┆            ┆            ┆          ┆              ┆ atta/win/lo │\n",
       "│          ┆ 2dc3d916…    ┆      ┆            ┆            ┆          ┆              ┆ ngtogeny/s… │\n",
       "│ stage_05 ┆ 6f0d9a78-606 ┆ vae  ┆ false      ┆ 25         ┆ 128      ┆ false        ┆ /n/groups/d │\n",
       "│          ┆ e-496f-9296- ┆      ┆            ┆            ┆          ┆              ┆ atta/win/lo │\n",
       "│          ┆ 79feea47…    ┆      ┆            ┆            ┆          ┆              ┆ ngtogeny/s… │\n",
       "│ stage_05 ┆ 8b6bc1ee-bfb ┆ vae  ┆ false      ┆ 25         ┆ 128      ┆ true         ┆ /n/groups/d │\n",
       "│          ┆ 6-44ba-8d25- ┆      ┆            ┆            ┆          ┆              ┆ atta/win/lo │\n",
       "│          ┆ 728797b9…    ┆      ┆            ┆            ┆          ┆              ┆ ngtogeny/s… │\n",
       "│ stage_05 ┆ c7988d0a-918 ┆ vae  ┆ true       ┆ 25         ┆ 128      ┆ false        ┆ /n/groups/d │\n",
       "│          ┆ 5-4066-8cd6- ┆      ┆            ┆            ┆          ┆              ┆ atta/win/lo │\n",
       "│          ┆ debffc36…    ┆      ┆            ┆            ┆          ┆              ┆ ngtogeny/s… │\n",
       "│ stage_05 ┆ 625cd119-dba ┆ vae  ┆ true       ┆ 25         ┆ 128      ┆ true         ┆ /n/groups/d │\n",
       "│          ┆ 6-4d7b-a374- ┆      ┆            ┆            ┆          ┆              ┆ atta/win/lo │\n",
       "│          ┆ 422844ce…    ┆      ┆            ┆            ┆          ┆              ┆ ngtogeny/s… │\n",
       "└──────────┴──────────────┴──────┴────────────┴────────────┴──────────┴──────────────┴─────────────┘"
      ]
     },
     "execution_count": 13,
     "metadata": {},
     "output_type": "execute_result"
    }
   ],
   "source": [
    "df.filter(pl.col(\"stage\") == \"stage_05\").sort(by=['arch', 'fft_branch', 'curriculum_learning'])"
   ]
  },
  {
   "cell_type": "code",
   "execution_count": null,
   "metadata": {},
   "outputs": [],
   "source": []
  }
 ],
 "metadata": {
  "kernelspec": {
   "display_name": "aging",
   "language": "python",
   "name": "python3"
  },
  "language_info": {
   "codemirror_mode": {
    "name": "ipython",
    "version": 3
   },
   "file_extension": ".py",
   "mimetype": "text/x-python",
   "name": "python",
   "nbconvert_exporter": "python",
   "pygments_lexer": "ipython3",
   "version": "3.10.10"
  }
 },
 "nbformat": 4,
 "nbformat_minor": 2
}
