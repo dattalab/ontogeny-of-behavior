{
 "cells": [
  {
   "cell_type": "code",
   "execution_count": 1,
   "metadata": {},
   "outputs": [],
   "source": [
    "import toml\n",
    "import polars as pl\n",
    "from toolz import get_in\n",
    "from pathlib import Path"
   ]
  },
  {
   "cell_type": "code",
   "execution_count": 2,
   "metadata": {},
   "outputs": [],
   "source": [
    "model_path = Path(\n",
    "    \"/n/groups/datta/win/longtogeny/size_norm/models/bottleneck_optimization_00\"\n",
    ")"
   ]
  },
  {
   "cell_type": "code",
   "execution_count": 3,
   "metadata": {},
   "outputs": [],
   "source": [
    "models = sorted(model_path.glob(\"**/model.pt\"))"
   ]
  },
  {
   "cell_type": "code",
   "execution_count": 4,
   "metadata": {},
   "outputs": [],
   "source": [
    "df = []\n",
    "for model in models:\n",
    "    uuid = model.parent.name\n",
    "    stage = model.parents[1].name\n",
    "    config = toml.load(model.with_name(\"config.toml\"))\n",
    "    arch = config[\"model\"][\"lightning\"][\"arch\"]\n",
    "    use_fft = get_in([\"model\", arch, \"use_fft_branch\"], config, False)\n",
    "    bottleneck = get_in([\"model\", arch, \"bottleneck\"], config, 0)\n",
    "    channels = get_in([\"model\", \"init_channel\"], config, 0)\n",
    "    curriculum_learning = get_in([\"model\", \"lightning\", \"use_curriculum_learning\"], config, False)\n",
    "    df.append(\n",
    "        {\n",
    "            \"stage\": stage,\n",
    "            \"uuid\": uuid,\n",
    "            \"arch\": arch,\n",
    "            \"fft_branch\": use_fft,\n",
    "            \"bottleneck\": bottleneck,\n",
    "            \"channels\": channels,\n",
    "            \"curriculum_learning\": curriculum_learning,\n",
    "            \"file\": str(model),\n",
    "        }\n",
    "    )\n",
    "df = pl.DataFrame(df)"
   ]
  },
  {
   "cell_type": "code",
   "execution_count": 5,
   "metadata": {},
   "outputs": [],
   "source": [
    "df.write_csv(model_path / \"models.csv\")"
   ]
  }
 ],
 "metadata": {
  "kernelspec": {
   "display_name": "aging",
   "language": "python",
   "name": "python3"
  },
  "language_info": {
   "codemirror_mode": {
    "name": "ipython",
    "version": 3
   },
   "file_extension": ".py",
   "mimetype": "text/x-python",
   "name": "python",
   "nbconvert_exporter": "python",
   "pygments_lexer": "ipython3",
   "version": "3.10.10"
  }
 },
 "nbformat": 4,
 "nbformat_minor": 2
}
