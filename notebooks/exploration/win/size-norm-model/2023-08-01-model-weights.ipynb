{
 "cells": [
  {
   "cell_type": "code",
   "execution_count": 8,
   "id": "b3e12d2e-2d72-401b-94ad-e9201eb23fe3",
   "metadata": {
    "tags": []
   },
   "outputs": [],
   "source": [
    "import torch\n",
    "import seaborn as sns"
   ]
  },
  {
   "cell_type": "code",
   "execution_count": 3,
   "id": "d6890733-b000-4299-9be1-8014c06dd135",
   "metadata": {
    "tags": []
   },
   "outputs": [],
   "source": [
    "model = torch.jit.load('/n/groups/datta/win/longtogeny/size_norm/models/pre_final_model-2023-07-29/model.pt', map_location='cpu')"
   ]
  },
  {
   "cell_type": "code",
   "execution_count": 6,
   "id": "eb6921c8-3905-4f46-8d54-5e4cc780749c",
   "metadata": {
    "tags": []
   },
   "outputs": [],
   "source": [
    "params = torch.cat([p.flatten() for p in model.parameters()])"
   ]
  },
  {
   "cell_type": "code",
   "execution_count": 11,
   "id": "fef08713-9d55-4662-a008-853631d36441",
   "metadata": {
    "tags": []
   },
   "outputs": [
    {
     "data": {
      "text/plain": [
       "tensor(7.1575, grad_fn=<MaxBackward1>)"
      ]
     },
     "execution_count": 11,
     "metadata": {},
     "output_type": "execute_result"
    }
   ],
   "source": [
    "torch.max(params)"
   ]
  },
  {
   "cell_type": "code",
   "execution_count": 12,
   "id": "e1efac58-ae80-47a3-8821-eb82e9257ccf",
   "metadata": {
    "tags": []
   },
   "outputs": [
    {
     "data": {
      "text/plain": [
       "tensor(-7.8656, grad_fn=<MinBackward1>)"
      ]
     },
     "execution_count": 12,
     "metadata": {},
     "output_type": "execute_result"
    }
   ],
   "source": [
    "torch.min(params)"
   ]
  },
  {
   "cell_type": "code",
   "execution_count": null,
   "id": "3d58d5af-d0bd-428a-b684-e3c7103c2ff7",
   "metadata": {},
   "outputs": [],
   "source": []
  }
 ],
 "metadata": {
  "kernelspec": {
   "display_name": "Ontogeny",
   "language": "python",
   "name": "aging"
  },
  "language_info": {
   "codemirror_mode": {
    "name": "ipython",
    "version": 3
   },
   "file_extension": ".py",
   "mimetype": "text/x-python",
   "name": "python",
   "nbconvert_exporter": "python",
   "pygments_lexer": "ipython3",
   "version": "3.10.10"
  },
  "widgets": {
   "application/vnd.jupyter.widget-state+json": {
    "state": {},
    "version_major": 2,
    "version_minor": 0
   }
  }
 },
 "nbformat": 4,
 "nbformat_minor": 5
}
