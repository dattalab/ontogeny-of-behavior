{
 "cells": [
  {
   "cell_type": "code",
   "execution_count": 5,
   "metadata": {},
   "outputs": [],
   "source": [
    "from aging.organization.dataframes import get_experiment\n",
    "from aging.organization.paths import FOLDERS\n",
    "from toolz import valmap"
   ]
  },
  {
   "cell_type": "code",
   "execution_count": 3,
   "metadata": {},
   "outputs": [],
   "source": [
    "files = {k: sorted(k.glob('**/*results_00.h5')) for k in FOLDERS}"
   ]
  },
  {
   "cell_type": "code",
   "execution_count": 4,
   "metadata": {},
   "outputs": [
    {
     "data": {
      "text/plain": [
       "[PosixPath('/n/groups/datta/Dana/Ontogeny/raw_data/Ontogeny_females'),\n",
       " PosixPath('/n/groups/datta/Dana/Ontogeny/raw_data/Ontogeny_males'),\n",
       " PosixPath('/n/groups/datta/Dana/Ontogeny/raw_data/Dana_ontogeny/Males'),\n",
       " PosixPath('/n/groups/datta/Dana/Ontogeny/raw_data/Dana_ontogeny/Females'),\n",
       " PosixPath('/n/groups/datta/Dana/Ontogeny/raw_data/longtogeny_pre_unet/Males'),\n",
       " PosixPath('/n/groups/datta/min/longtogeny_072023/Males'),\n",
       " PosixPath('/n/groups/datta/min/longtogeny_072023/Females'),\n",
       " PosixPath('/n/groups/datta/min/wheel_062023'),\n",
       " PosixPath('/n/groups/datta/win/longtogeny/dlight'),\n",
       " PosixPath('/n/groups/datta/min/longtogeny_052023/Males'),\n",
       " PosixPath('/n/groups/datta/win/longtogeny/data/jackson-labs/datta_i'),\n",
       " PosixPath('/n/groups/datta/Dana/Ontogeny/raw_data/Klothos'),\n",
       " PosixPath('/n/groups/datta/Dana/Ontogeny/raw_data/Epigclock')]"
      ]
     },
     "execution_count": 4,
     "metadata": {},
     "output_type": "execute_result"
    }
   ],
   "source": [
    "list(files)"
   ]
  },
  {
   "cell_type": "code",
   "execution_count": 8,
   "metadata": {},
   "outputs": [],
   "source": [
    "experiments = valmap(lambda v: list(map(get_experiment, v)), files)"
   ]
  },
  {
   "cell_type": "code",
   "execution_count": 12,
   "metadata": {},
   "outputs": [
    {
     "data": {
      "text/plain": [
       "PosixPath('/n/groups/datta/min/wheel_062023')"
      ]
     },
     "execution_count": 12,
     "metadata": {},
     "output_type": "execute_result"
    }
   ],
   "source": [
    "FOLDERS[7]"
   ]
  },
  {
   "cell_type": "code",
   "execution_count": 14,
   "metadata": {},
   "outputs": [
    {
     "data": {
      "text/plain": [
       "969"
      ]
     },
     "execution_count": 14,
     "metadata": {},
     "output_type": "execute_result"
    }
   ],
   "source": [
    "len(experiments[FOLDERS[7]])"
   ]
  },
  {
   "cell_type": "code",
   "execution_count": null,
   "metadata": {},
   "outputs": [],
   "source": []
  }
 ],
 "metadata": {
  "kernelspec": {
   "display_name": "aging",
   "language": "python",
   "name": "python3"
  },
  "language_info": {
   "codemirror_mode": {
    "name": "ipython",
    "version": 3
   },
   "file_extension": ".py",
   "mimetype": "text/x-python",
   "name": "python",
   "nbconvert_exporter": "python",
   "pygments_lexer": "ipython3",
   "version": "3.10.10"
  }
 },
 "nbformat": 4,
 "nbformat_minor": 2
}
