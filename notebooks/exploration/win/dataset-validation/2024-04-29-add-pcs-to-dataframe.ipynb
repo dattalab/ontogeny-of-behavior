{
 "cells": [
  {
   "cell_type": "code",
   "execution_count": 1,
   "id": "e93b6924-851a-411e-8982-3c87b41dc7f5",
   "metadata": {},
   "outputs": [],
   "source": [
    "import h5py"
   ]
  },
  {
   "cell_type": "code",
   "execution_count": 2,
   "id": "e589f419-ca46-430b-886f-a9e67985c349",
   "metadata": {},
   "outputs": [],
   "source": [
    "path = '/n/groups/datta/win/longtogeny/data/ontogeny/version_11/all_data_pca/pca_scores.h5'"
   ]
  },
  {
   "cell_type": "code",
   "execution_count": 7,
   "id": "ed699622-6b1a-4a2b-a369-b73e41238211",
   "metadata": {},
   "outputs": [
    {
     "name": "stdout",
     "output_type": "stream",
     "text": [
      "['metadata', 'scores', 'scores_idx']\n",
      "(54001, 20)\n"
     ]
    }
   ],
   "source": [
    "with h5py.File(path, 'r') as h5f:\n",
    "    print(list(h5f))\n",
    "    k = list(h5f['scores'])[0]\n",
    "    print(h5f['scores'][k].shape)"
   ]
  },
  {
   "cell_type": "code",
   "execution_count": null,
   "id": "4837717b-f050-4e9d-957b-cd0341a92e1e",
   "metadata": {},
   "outputs": [],
   "source": []
  }
 ],
 "metadata": {
  "kernelspec": {
   "display_name": "Ontogeny",
   "language": "python",
   "name": "aging"
  },
  "language_info": {
   "codemirror_mode": {
    "name": "ipython",
    "version": 3
   },
   "file_extension": ".py",
   "mimetype": "text/x-python",
   "name": "python",
   "nbconvert_exporter": "python",
   "pygments_lexer": "ipython3",
   "version": "3.10.10"
  },
  "widgets": {
   "application/vnd.jupyter.widget-state+json": {
    "state": {},
    "version_major": 2,
    "version_minor": 0
   }
  }
 },
 "nbformat": 4,
 "nbformat_minor": 5
}
