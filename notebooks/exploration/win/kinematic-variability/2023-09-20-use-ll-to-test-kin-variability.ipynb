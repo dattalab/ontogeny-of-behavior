{
 "cells": [
  {
   "cell_type": "markdown",
   "id": "d6e416e9-6e1c-49a7-8763-51c789a79a64",
   "metadata": {},
   "source": [
    "# LL-based kinematic variability\n",
    "\n",
    "Use the log-likelihood of syllable execution from instance to instance to make a claim about kinematic variability.\n",
    "\n",
    "Can also use scalars like height, length, width to make the same claim.\n",
    "It's possible that the log-likelihood is less sensitive to syllable duration though."
   ]
  },
  {
   "cell_type": "code",
   "execution_count": null,
   "id": "77af1982-34bd-477b-911d-8fbb1ee13dc6",
   "metadata": {},
   "outputs": [],
   "source": []
  }
 ],
 "metadata": {
  "kernelspec": {
   "display_name": "Ontogeny",
   "language": "python",
   "name": "aging"
  },
  "language_info": {
   "codemirror_mode": {
    "name": "ipython",
    "version": 3
   },
   "file_extension": ".py",
   "mimetype": "text/x-python",
   "name": "python",
   "nbconvert_exporter": "python",
   "pygments_lexer": "ipython3",
   "version": "3.10.10"
  },
  "widgets": {
   "application/vnd.jupyter.widget-state+json": {
    "state": {},
    "version_major": 2,
    "version_minor": 0
   }
  }
 },
 "nbformat": 4,
 "nbformat_minor": 5
}
