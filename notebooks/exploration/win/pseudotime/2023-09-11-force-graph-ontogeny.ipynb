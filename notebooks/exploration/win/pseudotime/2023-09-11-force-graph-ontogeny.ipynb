{
 "cells": [
  {
   "cell_type": "code",
   "execution_count": 1,
   "id": "367dd1a4-00d4-4d0c-8231-1b08c238d98b",
   "metadata": {
    "tags": []
   },
   "outputs": [],
   "source": [
    "import numpy as np\n",
    "import pandas as pd\n",
    "import seaborn as sns\n",
    "from aging.plotting import format_plots, PlotConfig, save_factory, figure\n",
    "from aging.behavior.pseudotime import compute_pseudotime, pseudotime_springplot"
   ]
  },
  {
   "cell_type": "code",
   "execution_count": 2,
   "id": "c67db392-29c6-4906-a03f-388f948b1f6d",
   "metadata": {
    "tags": []
   },
   "outputs": [
    {
     "data": {
      "text/plain": [
       "PosixPath('/n/groups/datta/win/figures/ontogeny')"
      ]
     },
     "execution_count": 2,
     "metadata": {},
     "output_type": "execute_result"
    }
   ],
   "source": [
    "format_plots()\n",
    "c = PlotConfig()\n",
    "saver = save_factory(c.dana_save_path / \"pseudotime\", tight_layout=False)\n",
    "c.save_path"
   ]
  },
  {
   "cell_type": "code",
   "execution_count": 3,
   "id": "1aad6618-ad53-4073-8245-b7e6b0d60d63",
   "metadata": {
    "tags": []
   },
   "outputs": [],
   "source": [
    "version = 7  # arhmm version\n",
    "df = pd.read_parquet(f'/n/groups/datta/win/longtogeny/data/ontogeny/version_{version:02d}/ontogeny_males_clean_v2.parquet')\n",
    "# df = pd.read_parquet(f'/n/groups/datta/win/longtogeny/data/ontogeny/version_{version:02d}/ontogeny_males_clean_20mins_v1.parquet')"
   ]
  },
  {
   "cell_type": "code",
   "execution_count": 4,
   "id": "307b7aab-785d-402d-8b4b-1eff36a3c3b0",
   "metadata": {
    "tags": []
   },
   "outputs": [],
   "source": [
    "def remove_crl(df):\n",
    "    return df[~df.index.get_level_values('session_name').str.contains('CRL')]"
   ]
  },
  {
   "cell_type": "code",
   "execution_count": 5,
   "id": "8934e158-6c67-4576-a524-1696691224a7",
   "metadata": {
    "tags": []
   },
   "outputs": [
    {
     "data": {
      "text/plain": [
       "Index([ 0,  1,  2,  3,  4,  5,  6,  7,  8,  9, 10, 11, 12, 13, 14, 15, 16, 17,\n",
       "       18, 19, 20, 21, 22, 23, 24, 25, 26, 27, 28, 29, 30, 31, 32, 33, 34, 35,\n",
       "       36, 37, 38, 39, 40, 41, 42, 43, 44, 45, 46, 47, 48, 49, 50, 51, 52, 53,\n",
       "       54, 55, 56, 57, 58, 59, 60, 61, 62, 63, 64, 65, 66, 67, 68, 69, 70, 71,\n",
       "       72, 73, 74, 75, 76],\n",
       "      dtype='object', name='relabeled_syllables')"
      ]
     },
     "execution_count": 5,
     "metadata": {},
     "output_type": "execute_result"
    }
   ],
   "source": [
    "df.columns"
   ]
  },
  {
   "cell_type": "code",
   "execution_count": 6,
   "id": "be348ac5-5ae3-401d-bae1-6690ccd2f2d7",
   "metadata": {},
   "outputs": [],
   "source": [
    "def zscore(df):\n",
    "    return (df - df.mean()) / df.std()"
   ]
  },
  {
   "cell_type": "code",
   "execution_count": 7,
   "id": "4fe996b1-f4cb-4a06-a80e-cc3fc0cb414a",
   "metadata": {
    "tags": []
   },
   "outputs": [
    {
     "data": {
      "application/vnd.jupyter.widget-view+json": {
       "model_id": "cf44a97c6ff84332976cf8eb0213a28b",
       "version_major": 2,
       "version_minor": 0
      },
      "text/plain": [
       "  0%|          | 0/5000 [00:00<?, ?it/s]"
      ]
     },
     "metadata": {},
     "output_type": "display_data"
    },
    {
     "data": {
      "text/html": [
       "<div>\n",
       "<style scoped>\n",
       "    .dataframe tbody tr th:only-of-type {\n",
       "        vertical-align: middle;\n",
       "    }\n",
       "\n",
       "    .dataframe tbody tr th {\n",
       "        vertical-align: top;\n",
       "    }\n",
       "\n",
       "    .dataframe thead th {\n",
       "        text-align: right;\n",
       "    }\n",
       "</style>\n",
       "<table border=\"1\" class=\"dataframe\">\n",
       "  <thead>\n",
       "    <tr style=\"text-align: right;\">\n",
       "      <th></th>\n",
       "      <th>pseudotime_rank</th>\n",
       "      <th>age</th>\n",
       "    </tr>\n",
       "  </thead>\n",
       "  <tbody>\n",
       "    <tr>\n",
       "      <th>pseudotime_rank</th>\n",
       "      <td>1.000000</td>\n",
       "      <td>0.870003</td>\n",
       "    </tr>\n",
       "    <tr>\n",
       "      <th>age</th>\n",
       "      <td>0.870003</td>\n",
       "      <td>1.000000</td>\n",
       "    </tr>\n",
       "  </tbody>\n",
       "</table>\n",
       "</div>"
      ],
      "text/plain": [
       "                 pseudotime_rank       age\n",
       "pseudotime_rank         1.000000  0.870003\n",
       "age                     0.870003  1.000000"
      ]
     },
     "execution_count": 7,
     "metadata": {},
     "output_type": "execute_result"
    }
   ],
   "source": [
    "sample = []\n",
    "for a, _df in df.groupby('age'):\n",
    "    try:\n",
    "        sample.append(_df.sample(n=16, random_state=1))\n",
    "    except ValueError:\n",
    "        sample.append(_df.sample(n=15, random_state=1))\n",
    "sample = pd.concat(sample)\n",
    "pseudo_df = compute_pseudotime(\n",
    "    sample, remove_crl, k_neigh=6\n",
    ")\n",
    "pseudo_df.reset_index().loc[:, [\"pseudotime_rank\", \"age\"]].corr(method=\"spearman\")"
   ]
  },
  {
   "cell_type": "code",
   "execution_count": 8,
   "id": "cd24eb5e-50af-41b9-8690-9a1c9445e4c6",
   "metadata": {
    "tags": []
   },
   "outputs": [
    {
     "data": {
      "text/html": [
       "<svg  width=\"660\" height=\"55\"><rect x=\"0\" y=\"0\" width=\"55\" height=\"55\" style=\"fill:#dadaeb;stroke-width:2;stroke:rgb(255,255,255)\"/><rect x=\"55\" y=\"0\" width=\"55\" height=\"55\" style=\"fill:#d0cee5;stroke-width:2;stroke:rgb(255,255,255)\"/><rect x=\"110\" y=\"0\" width=\"55\" height=\"55\" style=\"fill:#c6c1de;stroke-width:2;stroke:rgb(255,255,255)\"/><rect x=\"165\" y=\"0\" width=\"55\" height=\"55\" style=\"fill:#bcb5d8;stroke-width:2;stroke:rgb(255,255,255)\"/><rect x=\"220\" y=\"0\" width=\"55\" height=\"55\" style=\"fill:#b1a8d1;stroke-width:2;stroke:rgb(255,255,255)\"/><rect x=\"275\" y=\"0\" width=\"55\" height=\"55\" style=\"fill:#a79cca;stroke-width:2;stroke:rgb(255,255,255)\"/><rect x=\"330\" y=\"0\" width=\"55\" height=\"55\" style=\"fill:#9d8fc4;stroke-width:2;stroke:rgb(255,255,255)\"/><rect x=\"385\" y=\"0\" width=\"55\" height=\"55\" style=\"fill:#9383bd;stroke-width:2;stroke:rgb(255,255,255)\"/><rect x=\"440\" y=\"0\" width=\"55\" height=\"55\" style=\"fill:#8876b6;stroke-width:2;stroke:rgb(255,255,255)\"/><rect x=\"495\" y=\"0\" width=\"55\" height=\"55\" style=\"fill:#7e6ab0;stroke-width:2;stroke:rgb(255,255,255)\"/><rect x=\"550\" y=\"0\" width=\"55\" height=\"55\" style=\"fill:#745da9;stroke-width:2;stroke:rgb(255,255,255)\"/><rect x=\"605\" y=\"0\" width=\"55\" height=\"55\" style=\"fill:#6a51a3;stroke-width:2;stroke:rgb(255,255,255)\"/></svg>"
      ],
      "text/plain": [
       "[(0.8549019607843137, 0.8549019607843137, 0.9215686274509803),\n",
       " (0.8152864282968089, 0.8064436755094194, 0.8961014994232986),\n",
       " (0.775670895809304, 0.7579853902345252, 0.8706343713956171),\n",
       " (0.7360553633217993, 0.7095271049596309, 0.8451672433679354),\n",
       " (0.6947174163783161, 0.658961937716263, 0.8185928489042675),\n",
       " (0.6551018838908113, 0.6105036524413687, 0.7931257208765858),\n",
       " (0.6154863514033064, 0.5620453671664745, 0.7676585928489043),\n",
       " (0.5758708189158016, 0.5135870818915802, 0.7421914648212226),\n",
       " (0.5345328719723184, 0.46302191464821224, 0.7156170703575547),\n",
       " (0.49491733948481353, 0.4145636293733179, 0.6901499423298731),\n",
       " (0.45530180699730877, 0.36610534409842366, 0.6646828143021914),\n",
       " (0.41568627450980394, 0.3176470588235294, 0.6392156862745098)]"
      ]
     },
     "execution_count": 8,
     "metadata": {},
     "output_type": "execute_result"
    }
   ],
   "source": [
    "colors = ['#DADAEB','#6A51A3']\n",
    "sns.blend_palette(colors, 12)"
   ]
  },
  {
   "cell_type": "code",
   "execution_count": 9,
   "id": "f09a2163-51fb-40c9-abe8-d33c3da5241d",
   "metadata": {
    "tags": []
   },
   "outputs": [
    {
     "data": {
      "image/png": "[encoded data removed]",
      "text/plain": [
       "<Figure size 300x300 with 2 Axes>"
      ]
     },
     "metadata": {},
     "output_type": "display_data"
    }
   ],
   "source": [
    "graph, pos, c, fig = pseudotime_springplot(\n",
    "    sample,\n",
    "    remove_crl,\n",
    "    # xform_fun=zscore,\n",
    "    k_neigh=6,\n",
    "    seed=2,\n",
    "    node_size=2.5,\n",
    "    cmap=sns.blend_palette(colors, as_cmap=True),\n",
    ")\n",
    "# saver(fig, \"pseudotime-ontogeny-spring-20mins\");\n",
    "saver(fig, \"pseudotime-ontogeny-spring\");"
   ]
  },
  {
   "cell_type": "code",
   "execution_count": 10,
   "id": "91f6b5d7-7fa9-4052-aca3-1cedddb6f0f0",
   "metadata": {
    "tags": []
   },
   "outputs": [
    {
     "data": {
      "image/png": "[encoded data removed]",
      "text/plain": [
       "<Figure size 300x300 with 2 Axes>"
      ]
     },
     "metadata": {},
     "output_type": "display_data"
    }
   ],
   "source": [
    "scatter_pos = np.array(list(pos.values()))\n",
    "\n",
    "fig = figure(1, 1)\n",
    "ax = fig.gca()\n",
    "im = ax.scatter(\n",
    "    *scatter_pos.T,\n",
    "    c=c,\n",
    "    cmap=sns.blend_palette(colors, as_cmap=True),\n",
    "    s=4,\n",
    "    lw=0.1,\n",
    "    ec='k',\n",
    "    # rasterized=True,\n",
    "    # norm='log'\n",
    ")\n",
    "ax.set(xticks=[], yticks=[], xlabel=\"Dim 1\", ylabel=\"Dim 2\")\n",
    "cb = fig.colorbar(im, ax=ax, label=\"Age (weeks)\")\n",
    "cb.set_ticks(np.arange(10, 100, 10, dtype='int'))\n",
    "cb.set_ticks([], minor=True)\n",
    "sns.despine()\n",
    "saver(fig, \"pseudotime-ontogeny\");"
   ]
  },
  {
   "cell_type": "code",
   "execution_count": 11,
   "id": "f1b81b05-1cf6-4325-ad69-c53b77b67f8b",
   "metadata": {
    "tags": []
   },
   "outputs": [],
   "source": [
    "merged_df = sample.join(pseudo_df)"
   ]
  },
  {
   "cell_type": "code",
   "execution_count": 12,
   "id": "ad5a3403-3f9a-4f09-b1dd-fa7dcb925f5e",
   "metadata": {
    "tags": []
   },
   "outputs": [
    {
     "name": "stderr",
     "output_type": "stream",
     "text": [
      "/home/drl21/miniconda/envs/aging/lib/python3.10/site-packages/pandas/io/parquet.py:159: UserWarning: The DataFrame has column names of mixed type. They will be converted to strings and not roundtrip correctly.\n",
      "  table = self.api.Table.from_pandas(df, **from_pandas_kwargs)\n"
     ]
    }
   ],
   "source": [
    "merged_df.to_parquet(f'/n/groups/datta/win/longtogeny/data/ontogeny/version_{version:02d}/ontogeny_males_clean_pseudotime_v02.parquet')\n",
    "#merged_df.to_parquet(f'/n/groups/datta/win/longtogeny/data/ontogeny/version_{version:02d}/ontogeny_males_clean_pseudotime_resampled_v02.parquet')\n",
    "# merged_df.to_parquet(f'/n/groups/datta/win/longtogeny/data/ontogeny/version_{version:02d}/ontogeny_males_clean_pseudotime_20mins_v02.parquet')"
   ]
  },
  {
   "cell_type": "code",
   "execution_count": 13,
   "id": "36c1989f-3974-446b-8b1c-6106aedb8230",
   "metadata": {
    "tags": []
   },
   "outputs": [],
   "source": [
    "from sklearn.cross_decomposition import PLSRegression"
   ]
  },
  {
   "cell_type": "code",
   "execution_count": 14,
   "id": "3c527c36-90b6-4efe-9de9-adcb35eb21a5",
   "metadata": {
    "tags": []
   },
   "outputs": [
    {
     "data": {
      "text/plain": [
       "0.9575962206604264"
      ]
     },
     "execution_count": 14,
     "metadata": {},
     "output_type": "execute_result"
    }
   ],
   "source": [
    "mdl = PLSRegression(n_components=5)\n",
    "x = remove_crl(merged_df)\n",
    "y = x['pseudotime_rank']\n",
    "x = x.filter(regex=r'\\d')\n",
    "mdl.fit(x, y)\n",
    "mdl.score(x, y)"
   ]
  },
  {
   "cell_type": "code",
   "execution_count": 15,
   "id": "2037bcea-d626-4b00-b3d3-ba8b6b829bb1",
   "metadata": {
    "tags": []
   },
   "outputs": [
    {
     "data": {
      "text/plain": [
       "0.8728871903913349"
      ]
     },
     "execution_count": 15,
     "metadata": {},
     "output_type": "execute_result"
    }
   ],
   "source": [
    "mdl = PLSRegression(n_components=5)\n",
    "x = remove_crl(merged_df)\n",
    "y = x.index.get_level_values('age')\n",
    "x = x.filter(regex=r'\\d')\n",
    "mdl.fit(x, y)\n",
    "mdl.score(x, y)"
   ]
  },
  {
   "cell_type": "code",
   "execution_count": null,
   "id": "f720211a-ba97-4ddb-b5ad-0ab586a6b780",
   "metadata": {},
   "outputs": [],
   "source": []
  }
 ],
 "metadata": {
  "kernelspec": {
   "display_name": "Python 3 (ipykernel)",
   "language": "python",
   "name": "python3"
  },
  "language_info": {
   "codemirror_mode": {
    "name": "ipython",
    "version": 3
   },
   "file_extension": ".py",
   "mimetype": "text/x-python",
   "name": "python",
   "nbconvert_exporter": "python",
   "pygments_lexer": "ipython3",
   "version": "3.10.12"
  },
  "widgets": {
   "application/vnd.jupyter.widget-state+json": {
    "state": {
     "04f072c427dd4ca9a15728d5d5e0ea09": {
      "model_module": "@jupyter-widgets/controls",
      "model_module_version": "2.0.0",
      "model_name": "HBoxModel",
      "state": {
       "children": [
        "IPY_MODEL_5b1053044d374c46b087d2827197558f",
        "IPY_MODEL_96ef9f2c4ef444fdb387c4a1ea5ec3af",
        "IPY_MODEL_c8bf609fb1c2479ca16f09ceb9b9d73a"
       ],
       "layout": "IPY_MODEL_7ce60645f78941a09454e4cefd9914d4"
      }
     },
     "05ca6c20a51d4d8083a5c45114782b78": {
      "model_module": "@jupyter-widgets/controls",
      "model_module_version": "2.0.0",
      "model_name": "HTMLModel",
      "state": {
       "layout": "IPY_MODEL_38a6bed84f49447b85cb48252b5dcf02",
       "style": "IPY_MODEL_7e8b49f190824a55bd0f323bc4e53eca",
       "value": " 5000/5000 [00:00&lt;00:00, 10528.82it/s]"
      }
     },
     "07174b64f1a042a2b2220295c8cac602": {
      "model_module": "@jupyter-widgets/base",
      "model_module_version": "2.0.0",
      "model_name": "LayoutModel",
      "state": {}
     },
     "072cdaa7f3924dc58696428aa02931c7": {
      "model_module": "@jupyter-widgets/controls",
      "model_module_version": "2.0.0",
      "model_name": "HTMLModel",
      "state": {
       "layout": "IPY_MODEL_68f9221e767746319ab359ec0fde4a1d",
       "style": "IPY_MODEL_d28cde25cd814407baac6188fed21673",
       "value": "100%"
      }
     },
     "073672177cfa4bd1990c076b96a5e258": {
      "model_module": "@jupyter-widgets/controls",
      "model_module_version": "2.0.0",
      "model_name": "HTMLModel",
      "state": {
       "layout": "IPY_MODEL_1c723c903b53496ba868cac92b5e8a4b",
       "style": "IPY_MODEL_e614c91c63ed4bf99220413dc3147782",
       "value": " 5000/5000 [00:00&lt;00:00, 10657.99it/s]"
      }
     },
     "07cfbcbf861c4d43bb20742c549b44d8": {
      "model_module": "@jupyter-widgets/controls",
      "model_module_version": "2.0.0",
      "model_name": "HTMLModel",
      "state": {
       "layout": "IPY_MODEL_e627fb5cf18e4583ad4d0f351a13c66d",
       "style": "IPY_MODEL_65b7524b7e9b41f595173abfcab0d444",
       "value": "100%"
      }
     },
     "083596c7cc8d40a085cde9f381073591": {
      "model_module": "@jupyter-widgets/controls",
      "model_module_version": "2.0.0",
      "model_name": "HTMLModel",
      "state": {
       "layout": "IPY_MODEL_91c3f68db3d54316b7291556eb31b9b6",
       "style": "IPY_MODEL_96349483b54a489598d802206fe5687c",
       "value": " 5000/5000 [00:00&lt;00:00, 10781.22it/s]"
      }
     },
     "0c4947401b464c97be5736487d113bc4": {
      "model_module": "@jupyter-widgets/controls",
      "model_module_version": "2.0.0",
      "model_name": "HBoxModel",
      "state": {
       "children": [
        "IPY_MODEL_fea7c9eec1a147c6af25a1f0f262b6f3",
        "IPY_MODEL_9054d4e6372c4b5a84ae17d2bb5f5135",
        "IPY_MODEL_31db7b97076a46ca9fd878f538a48048"
       ],
       "layout": "IPY_MODEL_30d1e97c015f4e1a9a84c0df02eba0aa"
      }
     },
     "0c5c303940a14850ba858059259a96e6": {
      "model_module": "@jupyter-widgets/controls",
      "model_module_version": "2.0.0",
      "model_name": "HTMLStyleModel",
      "state": {
       "description_width": "",
       "font_size": null,
       "text_color": null
      }
     },
     "0c8d3a5b09154eaa9a1acfe9a627c2f5": {
      "model_module": "@jupyter-widgets/controls",
      "model_module_version": "2.0.0",
      "model_name": "HTMLStyleModel",
      "state": {
       "description_width": "",
       "font_size": null,
       "text_color": null
      }
     },
     "0e8c1e2bc0af47f2b3ad2348957b31e1": {
      "model_module": "@jupyter-widgets/base",
      "model_module_version": "2.0.0",
      "model_name": "LayoutModel",
      "state": {}
     },
     "1166d86238bf49739b7ffca6db32d168": {
      "model_module": "@jupyter-widgets/controls",
      "model_module_version": "2.0.0",
      "model_name": "HTMLModel",
      "state": {
       "layout": "IPY_MODEL_be3c157f7d574d7abe58228e72ed0edf",
       "style": "IPY_MODEL_3e4ba35537d14927b68e22eaccb7ad76",
       "value": " 5000/5000 [00:00&lt;00:00, 10352.92it/s]"
      }
     },
     "11a418cf7d2642a0b5dd4058f4e809ff": {
      "model_module": "@jupyter-widgets/controls",
      "model_module_version": "2.0.0",
      "model_name": "FloatProgressModel",
      "state": {
       "bar_style": "success",
       "layout": "IPY_MODEL_53986f4323cf49ee85e205eaf7e095fb",
       "max": 5000,
       "style": "IPY_MODEL_7092570747f34b759d2b5474a868523f",
       "value": 5000
      }
     },
     "15f78133039147d7b5874b8cb55cc385": {
      "model_module": "@jupyter-widgets/controls",
      "model_module_version": "2.0.0",
      "model_name": "HTMLStyleModel",
      "state": {
       "description_width": "",
       "font_size": null,
       "text_color": null
      }
     },
     "17aaa8f8a38c48f59ca0823ba317befa": {
      "model_module": "@jupyter-widgets/base",
      "model_module_version": "2.0.0",
      "model_name": "LayoutModel",
      "state": {}
     },
     "19e3c3f60eaa4404b32daeb59cc1baec": {
      "model_module": "@jupyter-widgets/base",
      "model_module_version": "2.0.0",
      "model_name": "LayoutModel",
      "state": {}
     },
     "1ab016f268654bde8e9b0d09bb3fd86a": {
      "model_module": "@jupyter-widgets/controls",
      "model_module_version": "2.0.0",
      "model_name": "HTMLStyleModel",
      "state": {
       "description_width": "",
       "font_size": null,
       "text_color": null
      }
     },
     "1c723c903b53496ba868cac92b5e8a4b": {
      "model_module": "@jupyter-widgets/base",
      "model_module_version": "2.0.0",
      "model_name": "LayoutModel",
      "state": {}
     },
     "1f31978a8c9840ffba22153cebf76ef0": {
      "model_module": "@jupyter-widgets/controls",
      "model_module_version": "2.0.0",
      "model_name": "HBoxModel",
      "state": {
       "children": [
        "IPY_MODEL_84feac873a414083b5d4a5ee74bd48eb",
        "IPY_MODEL_7b78fed2f13c4ef2a460e7e580514590",
        "IPY_MODEL_073672177cfa4bd1990c076b96a5e258"
       ],
       "layout": "IPY_MODEL_b5e04302017d47fd9571c19bfd963dc5"
      }
     },
     "1fa6d575cb754d4392c326407b860741": {
      "model_module": "@jupyter-widgets/base",
      "model_module_version": "2.0.0",
      "model_name": "LayoutModel",
      "state": {}
     },
     "208cf91e2a8042f1a46f31c869d47f94": {
      "model_module": "@jupyter-widgets/base",
      "model_module_version": "2.0.0",
      "model_name": "LayoutModel",
      "state": {}
     },
     "26e0df487f4b474fb453e63b8fe0c9d5": {
      "model_module": "@jupyter-widgets/base",
      "model_module_version": "2.0.0",
      "model_name": "LayoutModel",
      "state": {}
     },
     "2929041ece3e4a5897c95f915146314e": {
      "model_module": "@jupyter-widgets/base",
      "model_module_version": "2.0.0",
      "model_name": "LayoutModel",
      "state": {}
     },
     "2bdce82f9f6d4b4a8e8784a948ceb61d": {
      "model_module": "@jupyter-widgets/controls",
      "model_module_version": "2.0.0",
      "model_name": "ProgressStyleModel",
      "state": {
       "description_width": ""
      }
     },
     "30d1e97c015f4e1a9a84c0df02eba0aa": {
      "model_module": "@jupyter-widgets/base",
      "model_module_version": "2.0.0",
      "model_name": "LayoutModel",
      "state": {}
     },
     "3112e1617b9d4366854fd01239198db6": {
      "model_module": "@jupyter-widgets/controls",
      "model_module_version": "2.0.0",
      "model_name": "HTMLStyleModel",
      "state": {
       "description_width": "",
       "font_size": null,
       "text_color": null
      }
     },
     "318208a9a06e48c58a7dfdcd9dccd95b": {
      "model_module": "@jupyter-widgets/base",
      "model_module_version": "2.0.0",
      "model_name": "LayoutModel",
      "state": {}
     },
     "31db7b97076a46ca9fd878f538a48048": {
      "model_module": "@jupyter-widgets/controls",
      "model_module_version": "2.0.0",
      "model_name": "HTMLModel",
      "state": {
       "layout": "IPY_MODEL_533f1fa2669f47c8b500a4b560d69c9a",
       "style": "IPY_MODEL_dfb91bdaccdc441da4af1b4851e99de2",
       "value": " 5000/5000 [00:00&lt;00:00, 10758.32it/s]"
      }
     },
     "32cd4330c5ba4e179003432a5eee868d": {
      "model_module": "@jupyter-widgets/base",
      "model_module_version": "2.0.0",
      "model_name": "LayoutModel",
      "state": {}
     },
     "357f38f11bf7412b9276ffc73015786e": {
      "model_module": "@jupyter-widgets/base",
      "model_module_version": "2.0.0",
      "model_name": "LayoutModel",
      "state": {}
     },
     "377fad5f8ff542e987fba27c58edcf65": {
      "model_module": "@jupyter-widgets/base",
      "model_module_version": "2.0.0",
      "model_name": "LayoutModel",
      "state": {}
     },
     "388d13e09fe44da0b0d1df324b9ced95": {
      "model_module": "@jupyter-widgets/controls",
      "model_module_version": "2.0.0",
      "model_name": "ProgressStyleModel",
      "state": {
       "description_width": ""
      }
     },
     "38a6bed84f49447b85cb48252b5dcf02": {
      "model_module": "@jupyter-widgets/base",
      "model_module_version": "2.0.0",
      "model_name": "LayoutModel",
      "state": {}
     },
     "3916ccd48ec648ae9681df4be64f18fd": {
      "model_module": "@jupyter-widgets/controls",
      "model_module_version": "2.0.0",
      "model_name": "FloatProgressModel",
      "state": {
       "bar_style": "success",
       "layout": "IPY_MODEL_6c23bfce247c47a5834e02f7e493bef8",
       "max": 5000,
       "style": "IPY_MODEL_f4fa870cd2bc4b92b96bb3bd731a42d3",
       "value": 5000
      }
     },
     "3b9ce4735b5b48398d6f223ef923a0bf": {
      "model_module": "@jupyter-widgets/controls",
      "model_module_version": "2.0.0",
      "model_name": "HTMLModel",
      "state": {
       "layout": "IPY_MODEL_e7f664b742e044d88e5a163d29d38c6a",
       "style": "IPY_MODEL_ed59a6f307324f88ae0fad0a84cf1a0d",
       "value": " 5000/5000 [00:00&lt;00:00, 10755.67it/s]"
      }
     },
     "3e4ba35537d14927b68e22eaccb7ad76": {
      "model_module": "@jupyter-widgets/controls",
      "model_module_version": "2.0.0",
      "model_name": "HTMLStyleModel",
      "state": {
       "description_width": "",
       "font_size": null,
       "text_color": null
      }
     },
     "3f08db26cbcd408d850756d80f1f096e": {
      "model_module": "@jupyter-widgets/base",
      "model_module_version": "2.0.0",
      "model_name": "LayoutModel",
      "state": {}
     },
     "4208c545a5ee44a6861570cfaf467aec": {
      "model_module": "@jupyter-widgets/controls",
      "model_module_version": "2.0.0",
      "model_name": "ProgressStyleModel",
      "state": {
       "description_width": ""
      }
     },
     "4239967627fd436f92642bf5d3d810c0": {
      "model_module": "@jupyter-widgets/controls",
      "model_module_version": "2.0.0",
      "model_name": "FloatProgressModel",
      "state": {
       "bar_style": "success",
       "layout": "IPY_MODEL_bd15c73690ca45b3ae2235ff7734e044",
       "max": 5000,
       "style": "IPY_MODEL_c1783b18b9724ba79bc1177108dccc44",
       "value": 5000
      }
     },
     "423c69571c19443fa66194b3a735674e": {
      "model_module": "@jupyter-widgets/base",
      "model_module_version": "2.0.0",
      "model_name": "LayoutModel",
      "state": {}
     },
     "438f8c2f688544eaaca4f6c0fe23ce01": {
      "model_module": "@jupyter-widgets/controls",
      "model_module_version": "2.0.0",
      "model_name": "HTMLStyleModel",
      "state": {
       "description_width": "",
       "font_size": null,
       "text_color": null
      }
     },
     "44b00754aab64d058efc3962da85007f": {
      "model_module": "@jupyter-widgets/controls",
      "model_module_version": "2.0.0",
      "model_name": "HTMLStyleModel",
      "state": {
       "description_width": "",
       "font_size": null,
       "text_color": null
      }
     },
     "46343032204444c4a1dd7b9475ae793c": {
      "model_module": "@jupyter-widgets/controls",
      "model_module_version": "2.0.0",
      "model_name": "HTMLStyleModel",
      "state": {
       "description_width": "",
       "font_size": null,
       "text_color": null
      }
     },
     "46e6713953444bd88f37d9f8fa7d1879": {
      "model_module": "@jupyter-widgets/controls",
      "model_module_version": "2.0.0",
      "model_name": "HTMLStyleModel",
      "state": {
       "description_width": "",
       "font_size": null,
       "text_color": null
      }
     },
     "472269e7f6854b61a5568ba88ec6b34b": {
      "model_module": "@jupyter-widgets/controls",
      "model_module_version": "2.0.0",
      "model_name": "HTMLStyleModel",
      "state": {
       "description_width": "",
       "font_size": null,
       "text_color": null
      }
     },
     "476ad265f98b4679a38fd14d85f6cc8d": {
      "model_module": "@jupyter-widgets/controls",
      "model_module_version": "2.0.0",
      "model_name": "HTMLModel",
      "state": {
       "layout": "IPY_MODEL_07174b64f1a042a2b2220295c8cac602",
       "style": "IPY_MODEL_eadbdf7b93c24cfea0d30f72e78aae2e",
       "value": "100%"
      }
     },
     "488fa2ebea10476492c20e81e339c325": {
      "model_module": "@jupyter-widgets/controls",
      "model_module_version": "2.0.0",
      "model_name": "FloatProgressModel",
      "state": {
       "bar_style": "success",
       "layout": "IPY_MODEL_4c06502d8a6e4910a91ccd0e6a02d6fd",
       "max": 5000,
       "style": "IPY_MODEL_81bc614aa6bc4d1d9ad73312f13f97ed",
       "value": 5000
      }
     },
     "49f93eaad6bd4e278049ff87044a9b30": {
      "model_module": "@jupyter-widgets/base",
      "model_module_version": "2.0.0",
      "model_name": "LayoutModel",
      "state": {}
     },
     "4acf60232c104df7bf43864a8756a168": {
      "model_module": "@jupyter-widgets/base",
      "model_module_version": "2.0.0",
      "model_name": "LayoutModel",
      "state": {}
     },
     "4c06502d8a6e4910a91ccd0e6a02d6fd": {
      "model_module": "@jupyter-widgets/base",
      "model_module_version": "2.0.0",
      "model_name": "LayoutModel",
      "state": {}
     },
     "4e6d379015254663a85bc2fc208b0ff4": {
      "model_module": "@jupyter-widgets/controls",
      "model_module_version": "2.0.0",
      "model_name": "HTMLStyleModel",
      "state": {
       "description_width": "",
       "font_size": null,
       "text_color": null
      }
     },
     "51c5bffe16a0410b92eced87dc137f2b": {
      "model_module": "@jupyter-widgets/controls",
      "model_module_version": "2.0.0",
      "model_name": "HTMLModel",
      "state": {
       "layout": "IPY_MODEL_7f2d3735e875482ea5f35dd40db5f8e5",
       "style": "IPY_MODEL_0c8d3a5b09154eaa9a1acfe9a627c2f5",
       "value": "100%"
      }
     },
     "525d7ef415a947af8320c2077724a1da": {
      "model_module": "@jupyter-widgets/controls",
      "model_module_version": "2.0.0",
      "model_name": "HTMLModel",
      "state": {
       "layout": "IPY_MODEL_7c9622fbd7524e548985558620af1266",
       "style": "IPY_MODEL_0c5c303940a14850ba858059259a96e6",
       "value": "100%"
      }
     },
     "527684af0c3f4b1392d1a041d1727f8c": {
      "model_module": "@jupyter-widgets/base",
      "model_module_version": "2.0.0",
      "model_name": "LayoutModel",
      "state": {}
     },
     "533951bd10864b3f9b513c9286e10e34": {
      "model_module": "@jupyter-widgets/controls",
      "model_module_version": "2.0.0",
      "model_name": "HTMLModel",
      "state": {
       "layout": "IPY_MODEL_be2f22071544454bbab2a55d6c0c09e7",
       "style": "IPY_MODEL_b01706dd6e204631872445593469fd5a",
       "value": "100%"
      }
     },
     "533f1fa2669f47c8b500a4b560d69c9a": {
      "model_module": "@jupyter-widgets/base",
      "model_module_version": "2.0.0",
      "model_name": "LayoutModel",
      "state": {}
     },
     "53986f4323cf49ee85e205eaf7e095fb": {
      "model_module": "@jupyter-widgets/base",
      "model_module_version": "2.0.0",
      "model_name": "LayoutModel",
      "state": {}
     },
     "542b6fb03b3c466dab441e310f739258": {
      "model_module": "@jupyter-widgets/controls",
      "model_module_version": "2.0.0",
      "model_name": "HTMLStyleModel",
      "state": {
       "description_width": "",
       "font_size": null,
       "text_color": null
      }
     },
     "5796617466e44e5bb2c926f688ff49a7": {
      "model_module": "@jupyter-widgets/controls",
      "model_module_version": "2.0.0",
      "model_name": "ProgressStyleModel",
      "state": {
       "description_width": ""
      }
     },
     "57a54a3578f4487c98a3212cf7a7bd75": {
      "model_module": "@jupyter-widgets/controls",
      "model_module_version": "2.0.0",
      "model_name": "ProgressStyleModel",
      "state": {
       "description_width": ""
      }
     },
     "5957fbd27b07448e8e2bc672e20e17c6": {
      "model_module": "@jupyter-widgets/controls",
      "model_module_version": "2.0.0",
      "model_name": "HTMLStyleModel",
      "state": {
       "description_width": "",
       "font_size": null,
       "text_color": null
      }
     },
     "5a1bf10698b94cd6a8ac44b3c1c36561": {
      "model_module": "@jupyter-widgets/controls",
      "model_module_version": "2.0.0",
      "model_name": "HTMLModel",
      "state": {
       "layout": "IPY_MODEL_8fae441ae20546338e95fa982ee3d0ab",
       "style": "IPY_MODEL_15f78133039147d7b5874b8cb55cc385",
       "value": " 5000/5000 [00:00&lt;00:00, 10537.54it/s]"
      }
     },
     "5b1053044d374c46b087d2827197558f": {
      "model_module": "@jupyter-widgets/controls",
      "model_module_version": "2.0.0",
      "model_name": "HTMLModel",
      "state": {
       "layout": "IPY_MODEL_1fa6d575cb754d4392c326407b860741",
       "style": "IPY_MODEL_63f3f439a0cb4979bd1caba77c8ac816",
       "value": "100%"
      }
     },
     "5dafc0c8954a44b19e6f6751ebbff0a0": {
      "model_module": "@jupyter-widgets/controls",
      "model_module_version": "2.0.0",
      "model_name": "FloatProgressModel",
      "state": {
       "bar_style": "success",
       "layout": "IPY_MODEL_49f93eaad6bd4e278049ff87044a9b30",
       "max": 5000,
       "style": "IPY_MODEL_9cbcbf0643c345f38f0698aa1711bdfb",
       "value": 5000
      }
     },
     "5dd3decb3c484b208384da21da4bcf4d": {
      "model_module": "@jupyter-widgets/controls",
      "model_module_version": "2.0.0",
      "model_name": "HTMLModel",
      "state": {
       "layout": "IPY_MODEL_e1043f0c798c49c1b85d313497334bdf",
       "style": "IPY_MODEL_44b00754aab64d058efc3962da85007f",
       "value": "100%"
      }
     },
     "5e4ca574862f41ea858530bac24f77c0": {
      "model_module": "@jupyter-widgets/controls",
      "model_module_version": "2.0.0",
      "model_name": "FloatProgressModel",
      "state": {
       "bar_style": "success",
       "layout": "IPY_MODEL_e82390c9211c4c3f8e2ef0d87e5ac0d7",
       "max": 5000,
       "style": "IPY_MODEL_2bdce82f9f6d4b4a8e8784a948ceb61d",
       "value": 5000
      }
     },
     "60003548e3d44804af073a9e6ed6d157": {
      "model_module": "@jupyter-widgets/controls",
      "model_module_version": "2.0.0",
      "model_name": "HBoxModel",
      "state": {
       "children": [
        "IPY_MODEL_476ad265f98b4679a38fd14d85f6cc8d",
        "IPY_MODEL_3916ccd48ec648ae9681df4be64f18fd",
        "IPY_MODEL_3b9ce4735b5b48398d6f223ef923a0bf"
       ],
       "layout": "IPY_MODEL_d1400b1643f34469af24742782a30026"
      }
     },
     "61643c82f61b49a1a8a07f635486899f": {
      "model_module": "@jupyter-widgets/controls",
      "model_module_version": "2.0.0",
      "model_name": "FloatProgressModel",
      "state": {
       "bar_style": "success",
       "layout": "IPY_MODEL_357f38f11bf7412b9276ffc73015786e",
       "max": 5000,
       "style": "IPY_MODEL_6227886efb84443e83e30d21c6774668",
       "value": 5000
      }
     },
     "6227886efb84443e83e30d21c6774668": {
      "model_module": "@jupyter-widgets/controls",
      "model_module_version": "2.0.0",
      "model_name": "ProgressStyleModel",
      "state": {
       "description_width": ""
      }
     },
     "63f3f439a0cb4979bd1caba77c8ac816": {
      "model_module": "@jupyter-widgets/controls",
      "model_module_version": "2.0.0",
      "model_name": "HTMLStyleModel",
      "state": {
       "description_width": "",
       "font_size": null,
       "text_color": null
      }
     },
     "64681aee6b4740978be60c8ed52d81f3": {
      "model_module": "@jupyter-widgets/controls",
      "model_module_version": "2.0.0",
      "model_name": "ProgressStyleModel",
      "state": {
       "description_width": ""
      }
     },
     "65b7524b7e9b41f595173abfcab0d444": {
      "model_module": "@jupyter-widgets/controls",
      "model_module_version": "2.0.0",
      "model_name": "HTMLStyleModel",
      "state": {
       "description_width": "",
       "font_size": null,
       "text_color": null
      }
     },
     "671fac97ef924296aaa7de2b1ad37705": {
      "model_module": "@jupyter-widgets/controls",
      "model_module_version": "2.0.0",
      "model_name": "HTMLStyleModel",
      "state": {
       "description_width": "",
       "font_size": null,
       "text_color": null
      }
     },
     "67fafadd79ec4ff3bbdacb7241b57310": {
      "model_module": "@jupyter-widgets/controls",
      "model_module_version": "2.0.0",
      "model_name": "HTMLModel",
      "state": {
       "layout": "IPY_MODEL_f063be5f93424ce49f994dc17047d83b",
       "style": "IPY_MODEL_4e6d379015254663a85bc2fc208b0ff4",
       "value": " 5000/5000 [00:00&lt;00:00, 11066.02it/s]"
      }
     },
     "68f9221e767746319ab359ec0fde4a1d": {
      "model_module": "@jupyter-widgets/base",
      "model_module_version": "2.0.0",
      "model_name": "LayoutModel",
      "state": {}
     },
     "6a0baddfe59f4868bb527e45421ecc18": {
      "model_module": "@jupyter-widgets/controls",
      "model_module_version": "2.0.0",
      "model_name": "HTMLModel",
      "state": {
       "layout": "IPY_MODEL_9e3c9ee14ed74822884ef73817e9411b",
       "style": "IPY_MODEL_472269e7f6854b61a5568ba88ec6b34b",
       "value": " 5000/5000 [00:00&lt;00:00, 10348.77it/s]"
      }
     },
     "6a893fecdbb14f3389e4a8fed1762cd4": {
      "model_module": "@jupyter-widgets/controls",
      "model_module_version": "2.0.0",
      "model_name": "ProgressStyleModel",
      "state": {
       "description_width": ""
      }
     },
     "6ba0113cfebb44158b70db2188216ca8": {
      "model_module": "@jupyter-widgets/controls",
      "model_module_version": "2.0.0",
      "model_name": "ProgressStyleModel",
      "state": {
       "description_width": ""
      }
     },
     "6c23bfce247c47a5834e02f7e493bef8": {
      "model_module": "@jupyter-widgets/base",
      "model_module_version": "2.0.0",
      "model_name": "LayoutModel",
      "state": {}
     },
     "6e3254cef43347be9527001ac8e88e32": {
      "model_module": "@jupyter-widgets/controls",
      "model_module_version": "2.0.0",
      "model_name": "FloatProgressModel",
      "state": {
       "bar_style": "success",
       "layout": "IPY_MODEL_e5616e0810a9422fbbf178ea3114c839",
       "max": 5000,
       "style": "IPY_MODEL_6a893fecdbb14f3389e4a8fed1762cd4",
       "value": 5000
      }
     },
     "6f6f3edd05d74037b81c0dbfb192c812": {
      "model_module": "@jupyter-widgets/controls",
      "model_module_version": "2.0.0",
      "model_name": "HBoxModel",
      "state": {
       "children": [
        "IPY_MODEL_07cfbcbf861c4d43bb20742c549b44d8",
        "IPY_MODEL_8e582fede5b447c2ac1425ae217f136c",
        "IPY_MODEL_67fafadd79ec4ff3bbdacb7241b57310"
       ],
       "layout": "IPY_MODEL_0e8c1e2bc0af47f2b3ad2348957b31e1"
      }
     },
     "7092570747f34b759d2b5474a868523f": {
      "model_module": "@jupyter-widgets/controls",
      "model_module_version": "2.0.0",
      "model_name": "ProgressStyleModel",
      "state": {
       "description_width": ""
      }
     },
     "7213068ccb364866b348365ee790105e": {
      "model_module": "@jupyter-widgets/base",
      "model_module_version": "2.0.0",
      "model_name": "LayoutModel",
      "state": {}
     },
     "741d25150dfe4d4bbdf329d0420232dd": {
      "model_module": "@jupyter-widgets/controls",
      "model_module_version": "2.0.0",
      "model_name": "HTMLModel",
      "state": {
       "layout": "IPY_MODEL_4acf60232c104df7bf43864a8756a168",
       "style": "IPY_MODEL_46e6713953444bd88f37d9f8fa7d1879",
       "value": " 5000/5000 [00:00&lt;00:00, 10910.85it/s]"
      }
     },
     "7672744f393c4f36913c499a6ca2de90": {
      "model_module": "@jupyter-widgets/controls",
      "model_module_version": "2.0.0",
      "model_name": "HBoxModel",
      "state": {
       "children": [
        "IPY_MODEL_f3b5fa58117d4fff9d9e9c0090a5d857",
        "IPY_MODEL_11a418cf7d2642a0b5dd4058f4e809ff",
        "IPY_MODEL_abda7ee588284c67b78814087b3d6dbf"
       ],
       "layout": "IPY_MODEL_fc9d8653313a447fa06d73c07175fab6"
      }
     },
     "76a77f743c6347e29887c222f65ce0ee": {
      "model_module": "@jupyter-widgets/controls",
      "model_module_version": "2.0.0",
      "model_name": "HTMLStyleModel",
      "state": {
       "description_width": "",
       "font_size": null,
       "text_color": null
      }
     },
     "7b78fed2f13c4ef2a460e7e580514590": {
      "model_module": "@jupyter-widgets/controls",
      "model_module_version": "2.0.0",
      "model_name": "FloatProgressModel",
      "state": {
       "bar_style": "success",
       "layout": "IPY_MODEL_32cd4330c5ba4e179003432a5eee868d",
       "max": 5000,
       "style": "IPY_MODEL_64681aee6b4740978be60c8ed52d81f3",
       "value": 5000
      }
     },
     "7c9622fbd7524e548985558620af1266": {
      "model_module": "@jupyter-widgets/base",
      "model_module_version": "2.0.0",
      "model_name": "LayoutModel",
      "state": {}
     },
     "7ce60645f78941a09454e4cefd9914d4": {
      "model_module": "@jupyter-widgets/base",
      "model_module_version": "2.0.0",
      "model_name": "LayoutModel",
      "state": {}
     },
     "7e8b49f190824a55bd0f323bc4e53eca": {
      "model_module": "@jupyter-widgets/controls",
      "model_module_version": "2.0.0",
      "model_name": "HTMLStyleModel",
      "state": {
       "description_width": "",
       "font_size": null,
       "text_color": null
      }
     },
     "7f2d3735e875482ea5f35dd40db5f8e5": {
      "model_module": "@jupyter-widgets/base",
      "model_module_version": "2.0.0",
      "model_name": "LayoutModel",
      "state": {}
     },
     "81bc614aa6bc4d1d9ad73312f13f97ed": {
      "model_module": "@jupyter-widgets/controls",
      "model_module_version": "2.0.0",
      "model_name": "ProgressStyleModel",
      "state": {
       "description_width": ""
      }
     },
     "832eb25d27e342fdae6c2b83bdbbf24a": {
      "model_module": "@jupyter-widgets/controls",
      "model_module_version": "2.0.0",
      "model_name": "FloatProgressModel",
      "state": {
       "bar_style": "success",
       "layout": "IPY_MODEL_e829cc4a40684d9d8d1b273f95a95e83",
       "max": 5000,
       "style": "IPY_MODEL_5796617466e44e5bb2c926f688ff49a7",
       "value": 5000
      }
     },
     "84feac873a414083b5d4a5ee74bd48eb": {
      "model_module": "@jupyter-widgets/controls",
      "model_module_version": "2.0.0",
      "model_name": "HTMLModel",
      "state": {
       "layout": "IPY_MODEL_8ce752835ae5472bb640587b0c5fc164",
       "style": "IPY_MODEL_76a77f743c6347e29887c222f65ce0ee",
       "value": "100%"
      }
     },
     "85f2cfa53da24cf4ade1f96162b514ad": {
      "model_module": "@jupyter-widgets/controls",
      "model_module_version": "2.0.0",
      "model_name": "HTMLModel",
      "state": {
       "layout": "IPY_MODEL_b4ce78ddb54a4c398ac93119ca6c26fb",
       "style": "IPY_MODEL_5957fbd27b07448e8e2bc672e20e17c6",
       "value": "100%"
      }
     },
     "8999d9ad56d441ef8b83fb8eb93cac4f": {
      "model_module": "@jupyter-widgets/base",
      "model_module_version": "2.0.0",
      "model_name": "LayoutModel",
      "state": {}
     },
     "8c30ef764665443ba442963db600e669": {
      "model_module": "@jupyter-widgets/controls",
      "model_module_version": "2.0.0",
      "model_name": "ProgressStyleModel",
      "state": {
       "description_width": ""
      }
     },
     "8ce752835ae5472bb640587b0c5fc164": {
      "model_module": "@jupyter-widgets/base",
      "model_module_version": "2.0.0",
      "model_name": "LayoutModel",
      "state": {}
     },
     "8e582fede5b447c2ac1425ae217f136c": {
      "model_module": "@jupyter-widgets/controls",
      "model_module_version": "2.0.0",
      "model_name": "FloatProgressModel",
      "state": {
       "bar_style": "success",
       "layout": "IPY_MODEL_19e3c3f60eaa4404b32daeb59cc1baec",
       "max": 5000,
       "style": "IPY_MODEL_57a54a3578f4487c98a3212cf7a7bd75",
       "value": 5000
      }
     },
     "8e5b9a22065f4565a5fe6776d8fa39ef": {
      "model_module": "@jupyter-widgets/base",
      "model_module_version": "2.0.0",
      "model_name": "LayoutModel",
      "state": {}
     },
     "8ed9fee8d82c4070a7b49ec06693f0ba": {
      "model_module": "@jupyter-widgets/controls",
      "model_module_version": "2.0.0",
      "model_name": "HTMLStyleModel",
      "state": {
       "description_width": "",
       "font_size": null,
       "text_color": null
      }
     },
     "8f054eb6bce647b5aa3a83e648641b2b": {
      "model_module": "@jupyter-widgets/controls",
      "model_module_version": "2.0.0",
      "model_name": "ProgressStyleModel",
      "state": {
       "description_width": ""
      }
     },
     "8fae441ae20546338e95fa982ee3d0ab": {
      "model_module": "@jupyter-widgets/base",
      "model_module_version": "2.0.0",
      "model_name": "LayoutModel",
      "state": {}
     },
     "9054d4e6372c4b5a84ae17d2bb5f5135": {
      "model_module": "@jupyter-widgets/controls",
      "model_module_version": "2.0.0",
      "model_name": "FloatProgressModel",
      "state": {
       "bar_style": "success",
       "layout": "IPY_MODEL_318208a9a06e48c58a7dfdcd9dccd95b",
       "max": 5000,
       "style": "IPY_MODEL_cd7f1ec3e7eb40e7b390459f3602c2ad",
       "value": 5000
      }
     },
     "905bd3a262894589a8173c8b5ae86ef4": {
      "model_module": "@jupyter-widgets/base",
      "model_module_version": "2.0.0",
      "model_name": "LayoutModel",
      "state": {}
     },
     "91c3f68db3d54316b7291556eb31b9b6": {
      "model_module": "@jupyter-widgets/base",
      "model_module_version": "2.0.0",
      "model_name": "LayoutModel",
      "state": {}
     },
     "96349483b54a489598d802206fe5687c": {
      "model_module": "@jupyter-widgets/controls",
      "model_module_version": "2.0.0",
      "model_name": "HTMLStyleModel",
      "state": {
       "description_width": "",
       "font_size": null,
       "text_color": null
      }
     },
     "96ef9f2c4ef444fdb387c4a1ea5ec3af": {
      "model_module": "@jupyter-widgets/controls",
      "model_module_version": "2.0.0",
      "model_name": "FloatProgressModel",
      "state": {
       "bar_style": "success",
       "layout": "IPY_MODEL_c7e2f52ee37d40c486b829dfc7c0e0a2",
       "max": 5000,
       "style": "IPY_MODEL_4208c545a5ee44a6861570cfaf467aec",
       "value": 5000
      }
     },
     "973b1fa1778941ae9b9bde7d94989b4a": {
      "model_module": "@jupyter-widgets/controls",
      "model_module_version": "2.0.0",
      "model_name": "HBoxModel",
      "state": {
       "children": [
        "IPY_MODEL_ee837b4a7fee42b0b03fa0b6111fbe99",
        "IPY_MODEL_f0768d43ec6545419b0b4a1d627a59c7",
        "IPY_MODEL_5a1bf10698b94cd6a8ac44b3c1c36561"
       ],
       "layout": "IPY_MODEL_26e0df487f4b474fb453e63b8fe0c9d5"
      }
     },
     "98ba568eda4148abb7365e64ad7a6c03": {
      "model_module": "@jupyter-widgets/base",
      "model_module_version": "2.0.0",
      "model_name": "LayoutModel",
      "state": {}
     },
     "9cbcbf0643c345f38f0698aa1711bdfb": {
      "model_module": "@jupyter-widgets/controls",
      "model_module_version": "2.0.0",
      "model_name": "ProgressStyleModel",
      "state": {
       "description_width": ""
      }
     },
     "9e3c9ee14ed74822884ef73817e9411b": {
      "model_module": "@jupyter-widgets/base",
      "model_module_version": "2.0.0",
      "model_name": "LayoutModel",
      "state": {}
     },
     "9f36861466684435b9f371313f5f9ab4": {
      "model_module": "@jupyter-widgets/controls",
      "model_module_version": "2.0.0",
      "model_name": "FloatProgressModel",
      "state": {
       "bar_style": "success",
       "layout": "IPY_MODEL_7213068ccb364866b348365ee790105e",
       "max": 5000,
       "style": "IPY_MODEL_8c30ef764665443ba442963db600e669",
       "value": 5000
      }
     },
     "9f5421ec5e354de3a6cf0030f9736fee": {
      "model_module": "@jupyter-widgets/base",
      "model_module_version": "2.0.0",
      "model_name": "LayoutModel",
      "state": {}
     },
     "a043d12f65894e5cb6c159adee004cad": {
      "model_module": "@jupyter-widgets/base",
      "model_module_version": "2.0.0",
      "model_name": "LayoutModel",
      "state": {}
     },
     "a6bc14431f21473c856c052dd8d8039b": {
      "model_module": "@jupyter-widgets/base",
      "model_module_version": "2.0.0",
      "model_name": "LayoutModel",
      "state": {}
     },
     "a9c16dfdeac14fec82cc4f344a1713f0": {
      "model_module": "@jupyter-widgets/controls",
      "model_module_version": "2.0.0",
      "model_name": "HTMLModel",
      "state": {
       "layout": "IPY_MODEL_ef9097c9c591474781064bfa0391db0f",
       "style": "IPY_MODEL_f3157841b0184acca2b60c0efbde1027",
       "value": " 5000/5000 [00:00&lt;00:00, 10572.51it/s]"
      }
     },
     "aaf0cd1b581640fea127267bc7746a13": {
      "model_module": "@jupyter-widgets/controls",
      "model_module_version": "2.0.0",
      "model_name": "HBoxModel",
      "state": {
       "children": [
        "IPY_MODEL_072cdaa7f3924dc58696428aa02931c7",
        "IPY_MODEL_9f36861466684435b9f371313f5f9ab4",
        "IPY_MODEL_6a0baddfe59f4868bb527e45421ecc18"
       ],
       "layout": "IPY_MODEL_bfffa40078ec4174a6c6fb8cb97d10ce"
      }
     },
     "ab482997730344f49f8518a2fcaeb091": {
      "model_module": "@jupyter-widgets/base",
      "model_module_version": "2.0.0",
      "model_name": "LayoutModel",
      "state": {}
     },
     "abda7ee588284c67b78814087b3d6dbf": {
      "model_module": "@jupyter-widgets/controls",
      "model_module_version": "2.0.0",
      "model_name": "HTMLModel",
      "state": {
       "layout": "IPY_MODEL_c158cb11e55045a9a427b6c8aaea1fb1",
       "style": "IPY_MODEL_c39c28c293d74fa7a1961d7fe43cbbee",
       "value": " 5000/5000 [00:00&lt;00:00, 10491.91it/s]"
      }
     },
     "acc606d97991411482df34fa3ea1cf7e": {
      "model_module": "@jupyter-widgets/controls",
      "model_module_version": "2.0.0",
      "model_name": "HTMLModel",
      "state": {
       "layout": "IPY_MODEL_98ba568eda4148abb7365e64ad7a6c03",
       "style": "IPY_MODEL_8ed9fee8d82c4070a7b49ec06693f0ba",
       "value": " 5000/5000 [00:00&lt;00:00, 11496.10it/s]"
      }
     },
     "ae0cb66de29b4efdac12b6cc45e1d661": {
      "model_module": "@jupyter-widgets/controls",
      "model_module_version": "2.0.0",
      "model_name": "HTMLModel",
      "state": {
       "layout": "IPY_MODEL_af3aabf5302444e5b2507bbdd5576ef3",
       "style": "IPY_MODEL_b8e4477d6dd347e0be81721aae9174ed",
       "value": "100%"
      }
     },
     "ae95070716604908babf11931132517e": {
      "model_module": "@jupyter-widgets/controls",
      "model_module_version": "2.0.0",
      "model_name": "HBoxModel",
      "state": {
       "children": [
        "IPY_MODEL_5dd3decb3c484b208384da21da4bcf4d",
        "IPY_MODEL_5dafc0c8954a44b19e6f6751ebbff0a0",
        "IPY_MODEL_acc606d97991411482df34fa3ea1cf7e"
       ],
       "layout": "IPY_MODEL_e5a711b65962465d827edadbd4f7cd06"
      }
     },
     "af3aabf5302444e5b2507bbdd5576ef3": {
      "model_module": "@jupyter-widgets/base",
      "model_module_version": "2.0.0",
      "model_name": "LayoutModel",
      "state": {}
     },
     "b00d2a236f5a44d88da1f31927568cef": {
      "model_module": "@jupyter-widgets/controls",
      "model_module_version": "2.0.0",
      "model_name": "HTMLModel",
      "state": {
       "layout": "IPY_MODEL_423c69571c19443fa66194b3a735674e",
       "style": "IPY_MODEL_542b6fb03b3c466dab441e310f739258",
       "value": " 5000/5000 [00:00&lt;00:00, 10354.98it/s]"
      }
     },
     "b01706dd6e204631872445593469fd5a": {
      "model_module": "@jupyter-widgets/controls",
      "model_module_version": "2.0.0",
      "model_name": "HTMLStyleModel",
      "state": {
       "description_width": "",
       "font_size": null,
       "text_color": null
      }
     },
     "b1d268090c8c4bf58f1a942ea1e126dd": {
      "model_module": "@jupyter-widgets/base",
      "model_module_version": "2.0.0",
      "model_name": "LayoutModel",
      "state": {}
     },
     "b4ce78ddb54a4c398ac93119ca6c26fb": {
      "model_module": "@jupyter-widgets/base",
      "model_module_version": "2.0.0",
      "model_name": "LayoutModel",
      "state": {}
     },
     "b5e04302017d47fd9571c19bfd963dc5": {
      "model_module": "@jupyter-widgets/base",
      "model_module_version": "2.0.0",
      "model_name": "LayoutModel",
      "state": {}
     },
     "b65955caca984418b08348c88bb0b8b3": {
      "model_module": "@jupyter-widgets/controls",
      "model_module_version": "2.0.0",
      "model_name": "HTMLStyleModel",
      "state": {
       "description_width": "",
       "font_size": null,
       "text_color": null
      }
     },
     "b884c99a768341fea56a651a95d0087a": {
      "model_module": "@jupyter-widgets/controls",
      "model_module_version": "2.0.0",
      "model_name": "HTMLStyleModel",
      "state": {
       "description_width": "",
       "font_size": null,
       "text_color": null
      }
     },
     "b8e4477d6dd347e0be81721aae9174ed": {
      "model_module": "@jupyter-widgets/controls",
      "model_module_version": "2.0.0",
      "model_name": "HTMLStyleModel",
      "state": {
       "description_width": "",
       "font_size": null,
       "text_color": null
      }
     },
     "bb10eb44dd864b3d93503f14f03a1e4d": {
      "model_module": "@jupyter-widgets/base",
      "model_module_version": "2.0.0",
      "model_name": "LayoutModel",
      "state": {}
     },
     "bd15c73690ca45b3ae2235ff7734e044": {
      "model_module": "@jupyter-widgets/base",
      "model_module_version": "2.0.0",
      "model_name": "LayoutModel",
      "state": {}
     },
     "be2f22071544454bbab2a55d6c0c09e7": {
      "model_module": "@jupyter-widgets/base",
      "model_module_version": "2.0.0",
      "model_name": "LayoutModel",
      "state": {}
     },
     "be3c157f7d574d7abe58228e72ed0edf": {
      "model_module": "@jupyter-widgets/base",
      "model_module_version": "2.0.0",
      "model_name": "LayoutModel",
      "state": {}
     },
     "bfffa40078ec4174a6c6fb8cb97d10ce": {
      "model_module": "@jupyter-widgets/base",
      "model_module_version": "2.0.0",
      "model_name": "LayoutModel",
      "state": {}
     },
     "c158cb11e55045a9a427b6c8aaea1fb1": {
      "model_module": "@jupyter-widgets/base",
      "model_module_version": "2.0.0",
      "model_name": "LayoutModel",
      "state": {}
     },
     "c1783b18b9724ba79bc1177108dccc44": {
      "model_module": "@jupyter-widgets/controls",
      "model_module_version": "2.0.0",
      "model_name": "ProgressStyleModel",
      "state": {
       "description_width": ""
      }
     },
     "c2013c45c4974bcf8e988d39dac057c1": {
      "model_module": "@jupyter-widgets/controls",
      "model_module_version": "2.0.0",
      "model_name": "HBoxModel",
      "state": {
       "children": [
        "IPY_MODEL_85f2cfa53da24cf4ade1f96162b514ad",
        "IPY_MODEL_832eb25d27e342fdae6c2b83bdbbf24a",
        "IPY_MODEL_05ca6c20a51d4d8083a5c45114782b78"
       ],
       "layout": "IPY_MODEL_b1d268090c8c4bf58f1a942ea1e126dd"
      }
     },
     "c30e47a4b02443d3b3dcb0629a1ecb01": {
      "model_module": "@jupyter-widgets/controls",
      "model_module_version": "2.0.0",
      "model_name": "HTMLModel",
      "state": {
       "layout": "IPY_MODEL_c7dcd8608ef84df7a9f2a2272ff074b5",
       "style": "IPY_MODEL_b884c99a768341fea56a651a95d0087a",
       "value": "100%"
      }
     },
     "c39c28c293d74fa7a1961d7fe43cbbee": {
      "model_module": "@jupyter-widgets/controls",
      "model_module_version": "2.0.0",
      "model_name": "HTMLStyleModel",
      "state": {
       "description_width": "",
       "font_size": null,
       "text_color": null
      }
     },
     "c46cea69b8254871a755408bb58fe50b": {
      "model_module": "@jupyter-widgets/base",
      "model_module_version": "2.0.0",
      "model_name": "LayoutModel",
      "state": {}
     },
     "c553c157947b470198a1e13dd32f11a9": {
      "model_module": "@jupyter-widgets/controls",
      "model_module_version": "2.0.0",
      "model_name": "HTMLModel",
      "state": {
       "layout": "IPY_MODEL_3f08db26cbcd408d850756d80f1f096e",
       "style": "IPY_MODEL_1ab016f268654bde8e9b0d09bb3fd86a",
       "value": " 5000/5000 [00:00&lt;00:00, 10890.56it/s]"
      }
     },
     "c7dcd8608ef84df7a9f2a2272ff074b5": {
      "model_module": "@jupyter-widgets/base",
      "model_module_version": "2.0.0",
      "model_name": "LayoutModel",
      "state": {}
     },
     "c7e2f52ee37d40c486b829dfc7c0e0a2": {
      "model_module": "@jupyter-widgets/base",
      "model_module_version": "2.0.0",
      "model_name": "LayoutModel",
      "state": {}
     },
     "c8bf609fb1c2479ca16f09ceb9b9d73a": {
      "model_module": "@jupyter-widgets/controls",
      "model_module_version": "2.0.0",
      "model_name": "HTMLModel",
      "state": {
       "layout": "IPY_MODEL_2929041ece3e4a5897c95f915146314e",
       "style": "IPY_MODEL_b65955caca984418b08348c88bb0b8b3",
       "value": " 5000/5000 [00:00&lt;00:00, 11927.71it/s]"
      }
     },
     "cb0281ab097e43479c4b5439dbc0e46b": {
      "model_module": "@jupyter-widgets/base",
      "model_module_version": "2.0.0",
      "model_name": "LayoutModel",
      "state": {}
     },
     "cd7f1ec3e7eb40e7b390459f3602c2ad": {
      "model_module": "@jupyter-widgets/controls",
      "model_module_version": "2.0.0",
      "model_name": "ProgressStyleModel",
      "state": {
       "description_width": ""
      }
     },
     "d035cad486184df798d2a8edb16ccddf": {
      "model_module": "@jupyter-widgets/controls",
      "model_module_version": "2.0.0",
      "model_name": "HBoxModel",
      "state": {
       "children": [
        "IPY_MODEL_533951bd10864b3f9b513c9286e10e34",
        "IPY_MODEL_de9420561f2a4e1fa82d48365a320e2c",
        "IPY_MODEL_1166d86238bf49739b7ffca6db32d168"
       ],
       "layout": "IPY_MODEL_527684af0c3f4b1392d1a041d1727f8c"
      }
     },
     "d1400b1643f34469af24742782a30026": {
      "model_module": "@jupyter-widgets/base",
      "model_module_version": "2.0.0",
      "model_name": "LayoutModel",
      "state": {}
     },
     "d184fbfc346040ab83c05c968de87dcd": {
      "model_module": "@jupyter-widgets/base",
      "model_module_version": "2.0.0",
      "model_name": "LayoutModel",
      "state": {}
     },
     "d1b615c438234a9fa68eca5e24ce0c40": {
      "model_module": "@jupyter-widgets/controls",
      "model_module_version": "2.0.0",
      "model_name": "HTMLStyleModel",
      "state": {
       "description_width": "",
       "font_size": null,
       "text_color": null
      }
     },
     "d28cde25cd814407baac6188fed21673": {
      "model_module": "@jupyter-widgets/controls",
      "model_module_version": "2.0.0",
      "model_name": "HTMLStyleModel",
      "state": {
       "description_width": "",
       "font_size": null,
       "text_color": null
      }
     },
     "dc1c74540f8a4265a9ded6307a8be4fc": {
      "model_module": "@jupyter-widgets/controls",
      "model_module_version": "2.0.0",
      "model_name": "HBoxModel",
      "state": {
       "children": [
        "IPY_MODEL_f437b5cef7be4521934c8d57849f4d8c",
        "IPY_MODEL_5e4ca574862f41ea858530bac24f77c0",
        "IPY_MODEL_741d25150dfe4d4bbdf329d0420232dd"
       ],
       "layout": "IPY_MODEL_a6bc14431f21473c856c052dd8d8039b"
      }
     },
     "de9420561f2a4e1fa82d48365a320e2c": {
      "model_module": "@jupyter-widgets/controls",
      "model_module_version": "2.0.0",
      "model_name": "FloatProgressModel",
      "state": {
       "bar_style": "success",
       "layout": "IPY_MODEL_bb10eb44dd864b3d93503f14f03a1e4d",
       "max": 5000,
       "style": "IPY_MODEL_388d13e09fe44da0b0d1df324b9ced95",
       "value": 5000
      }
     },
     "dfb91bdaccdc441da4af1b4851e99de2": {
      "model_module": "@jupyter-widgets/controls",
      "model_module_version": "2.0.0",
      "model_name": "HTMLStyleModel",
      "state": {
       "description_width": "",
       "font_size": null,
       "text_color": null
      }
     },
     "e1043f0c798c49c1b85d313497334bdf": {
      "model_module": "@jupyter-widgets/base",
      "model_module_version": "2.0.0",
      "model_name": "LayoutModel",
      "state": {}
     },
     "e176d2ab41c1457a8858cb34ae58aa5c": {
      "model_module": "@jupyter-widgets/controls",
      "model_module_version": "2.0.0",
      "model_name": "FloatProgressModel",
      "state": {
       "bar_style": "success",
       "layout": "IPY_MODEL_a043d12f65894e5cb6c159adee004cad",
       "max": 5000,
       "style": "IPY_MODEL_6ba0113cfebb44158b70db2188216ca8",
       "value": 5000
      }
     },
     "e55042b6c2334e888cf2423413e10556": {
      "model_module": "@jupyter-widgets/controls",
      "model_module_version": "2.0.0",
      "model_name": "HBoxModel",
      "state": {
       "children": [
        "IPY_MODEL_ae0cb66de29b4efdac12b6cc45e1d661",
        "IPY_MODEL_488fa2ebea10476492c20e81e339c325",
        "IPY_MODEL_eac0e47d298a45a59a76153e7829554c"
       ],
       "layout": "IPY_MODEL_8999d9ad56d441ef8b83fb8eb93cac4f"
      }
     },
     "e5616e0810a9422fbbf178ea3114c839": {
      "model_module": "@jupyter-widgets/base",
      "model_module_version": "2.0.0",
      "model_name": "LayoutModel",
      "state": {}
     },
     "e5a711b65962465d827edadbd4f7cd06": {
      "model_module": "@jupyter-widgets/base",
      "model_module_version": "2.0.0",
      "model_name": "LayoutModel",
      "state": {}
     },
     "e614c91c63ed4bf99220413dc3147782": {
      "model_module": "@jupyter-widgets/controls",
      "model_module_version": "2.0.0",
      "model_name": "HTMLStyleModel",
      "state": {
       "description_width": "",
       "font_size": null,
       "text_color": null
      }
     },
     "e627fb5cf18e4583ad4d0f351a13c66d": {
      "model_module": "@jupyter-widgets/base",
      "model_module_version": "2.0.0",
      "model_name": "LayoutModel",
      "state": {}
     },
     "e7f664b742e044d88e5a163d29d38c6a": {
      "model_module": "@jupyter-widgets/base",
      "model_module_version": "2.0.0",
      "model_name": "LayoutModel",
      "state": {}
     },
     "e82390c9211c4c3f8e2ef0d87e5ac0d7": {
      "model_module": "@jupyter-widgets/base",
      "model_module_version": "2.0.0",
      "model_name": "LayoutModel",
      "state": {}
     },
     "e829cc4a40684d9d8d1b273f95a95e83": {
      "model_module": "@jupyter-widgets/base",
      "model_module_version": "2.0.0",
      "model_name": "LayoutModel",
      "state": {}
     },
     "eac0e47d298a45a59a76153e7829554c": {
      "model_module": "@jupyter-widgets/controls",
      "model_module_version": "2.0.0",
      "model_name": "HTMLModel",
      "state": {
       "layout": "IPY_MODEL_208cf91e2a8042f1a46f31c869d47f94",
       "style": "IPY_MODEL_fe809411fc9142f68263cbca56a75a65",
       "value": " 5000/5000 [00:00&lt;00:00, 11352.74it/s]"
      }
     },
     "eadbdf7b93c24cfea0d30f72e78aae2e": {
      "model_module": "@jupyter-widgets/controls",
      "model_module_version": "2.0.0",
      "model_name": "HTMLStyleModel",
      "state": {
       "description_width": "",
       "font_size": null,
       "text_color": null
      }
     },
     "ec8238a06a924c9d811bbcb6f2a5f982": {
      "model_module": "@jupyter-widgets/controls",
      "model_module_version": "2.0.0",
      "model_name": "HBoxModel",
      "state": {
       "children": [
        "IPY_MODEL_c30e47a4b02443d3b3dcb0629a1ecb01",
        "IPY_MODEL_e176d2ab41c1457a8858cb34ae58aa5c",
        "IPY_MODEL_b00d2a236f5a44d88da1f31927568cef"
       ],
       "layout": "IPY_MODEL_17aaa8f8a38c48f59ca0823ba317befa"
      }
     },
     "ed59a6f307324f88ae0fad0a84cf1a0d": {
      "model_module": "@jupyter-widgets/controls",
      "model_module_version": "2.0.0",
      "model_name": "HTMLStyleModel",
      "state": {
       "description_width": "",
       "font_size": null,
       "text_color": null
      }
     },
     "ee837b4a7fee42b0b03fa0b6111fbe99": {
      "model_module": "@jupyter-widgets/controls",
      "model_module_version": "2.0.0",
      "model_name": "HTMLModel",
      "state": {
       "layout": "IPY_MODEL_8e5b9a22065f4565a5fe6776d8fa39ef",
       "style": "IPY_MODEL_d1b615c438234a9fa68eca5e24ce0c40",
       "value": "100%"
      }
     },
     "ef81898c95ef4ecdbb5245d1660841e4": {
      "model_module": "@jupyter-widgets/controls",
      "model_module_version": "2.0.0",
      "model_name": "HBoxModel",
      "state": {
       "children": [
        "IPY_MODEL_51c5bffe16a0410b92eced87dc137f2b",
        "IPY_MODEL_4239967627fd436f92642bf5d3d810c0",
        "IPY_MODEL_a9c16dfdeac14fec82cc4f344a1713f0"
       ],
       "layout": "IPY_MODEL_905bd3a262894589a8173c8b5ae86ef4"
      }
     },
     "ef9097c9c591474781064bfa0391db0f": {
      "model_module": "@jupyter-widgets/base",
      "model_module_version": "2.0.0",
      "model_name": "LayoutModel",
      "state": {}
     },
     "f063be5f93424ce49f994dc17047d83b": {
      "model_module": "@jupyter-widgets/base",
      "model_module_version": "2.0.0",
      "model_name": "LayoutModel",
      "state": {}
     },
     "f0768d43ec6545419b0b4a1d627a59c7": {
      "model_module": "@jupyter-widgets/controls",
      "model_module_version": "2.0.0",
      "model_name": "FloatProgressModel",
      "state": {
       "bar_style": "success",
       "layout": "IPY_MODEL_fc81514142f4432db96de546e42099b6",
       "max": 5000,
       "style": "IPY_MODEL_8f054eb6bce647b5aa3a83e648641b2b",
       "value": 5000
      }
     },
     "f0880cfcb5ab4c38a2e92105142159fd": {
      "model_module": "@jupyter-widgets/controls",
      "model_module_version": "2.0.0",
      "model_name": "HTMLModel",
      "state": {
       "layout": "IPY_MODEL_cb0281ab097e43479c4b5439dbc0e46b",
       "style": "IPY_MODEL_671fac97ef924296aaa7de2b1ad37705",
       "value": "100%"
      }
     },
     "f2f55a4d6c5849199f28dbd8bba91847": {
      "model_module": "@jupyter-widgets/controls",
      "model_module_version": "2.0.0",
      "model_name": "HBoxModel",
      "state": {
       "children": [
        "IPY_MODEL_f0880cfcb5ab4c38a2e92105142159fd",
        "IPY_MODEL_6e3254cef43347be9527001ac8e88e32",
        "IPY_MODEL_083596c7cc8d40a085cde9f381073591"
       ],
       "layout": "IPY_MODEL_ab482997730344f49f8518a2fcaeb091"
      }
     },
     "f3157841b0184acca2b60c0efbde1027": {
      "model_module": "@jupyter-widgets/controls",
      "model_module_version": "2.0.0",
      "model_name": "HTMLStyleModel",
      "state": {
       "description_width": "",
       "font_size": null,
       "text_color": null
      }
     },
     "f3b5fa58117d4fff9d9e9c0090a5d857": {
      "model_module": "@jupyter-widgets/controls",
      "model_module_version": "2.0.0",
      "model_name": "HTMLModel",
      "state": {
       "layout": "IPY_MODEL_377fad5f8ff542e987fba27c58edcf65",
       "style": "IPY_MODEL_438f8c2f688544eaaca4f6c0fe23ce01",
       "value": "100%"
      }
     },
     "f437b5cef7be4521934c8d57849f4d8c": {
      "model_module": "@jupyter-widgets/controls",
      "model_module_version": "2.0.0",
      "model_name": "HTMLModel",
      "state": {
       "layout": "IPY_MODEL_c46cea69b8254871a755408bb58fe50b",
       "style": "IPY_MODEL_3112e1617b9d4366854fd01239198db6",
       "value": "100%"
      }
     },
     "f4fa870cd2bc4b92b96bb3bd731a42d3": {
      "model_module": "@jupyter-widgets/controls",
      "model_module_version": "2.0.0",
      "model_name": "ProgressStyleModel",
      "state": {
       "description_width": ""
      }
     },
     "fc81514142f4432db96de546e42099b6": {
      "model_module": "@jupyter-widgets/base",
      "model_module_version": "2.0.0",
      "model_name": "LayoutModel",
      "state": {}
     },
     "fc9d8653313a447fa06d73c07175fab6": {
      "model_module": "@jupyter-widgets/base",
      "model_module_version": "2.0.0",
      "model_name": "LayoutModel",
      "state": {}
     },
     "fe809411fc9142f68263cbca56a75a65": {
      "model_module": "@jupyter-widgets/controls",
      "model_module_version": "2.0.0",
      "model_name": "HTMLStyleModel",
      "state": {
       "description_width": "",
       "font_size": null,
       "text_color": null
      }
     },
     "fe8bb982dddc420085ac6afccdc0723c": {
      "model_module": "@jupyter-widgets/controls",
      "model_module_version": "2.0.0",
      "model_name": "HBoxModel",
      "state": {
       "children": [
        "IPY_MODEL_525d7ef415a947af8320c2077724a1da",
        "IPY_MODEL_61643c82f61b49a1a8a07f635486899f",
        "IPY_MODEL_c553c157947b470198a1e13dd32f11a9"
       ],
       "layout": "IPY_MODEL_9f5421ec5e354de3a6cf0030f9736fee"
      }
     },
     "fea7c9eec1a147c6af25a1f0f262b6f3": {
      "model_module": "@jupyter-widgets/controls",
      "model_module_version": "2.0.0",
      "model_name": "HTMLModel",
      "state": {
       "layout": "IPY_MODEL_d184fbfc346040ab83c05c968de87dcd",
       "style": "IPY_MODEL_46343032204444c4a1dd7b9475ae793c",
       "value": "100%"
      }
     }
    },
    "version_major": 2,
    "version_minor": 0
   }
  }
 },
 "nbformat": 4,
 "nbformat_minor": 5
}
