{
 "cells": [
  {
   "cell_type": "code",
   "execution_count": 1,
   "id": "3407ce02-e9a8-4ae6-971f-32c22ee4dfe4",
   "metadata": {
    "tags": []
   },
   "outputs": [],
   "source": [
    "import os\n",
    "import numba\n",
    "import pandas as pd\n",
    "import numpy as np\n",
    "import matplotlib.pyplot as plt\n",
    "import seaborn as sns\n",
    "from pathlib import Path\n",
    "from scipy.stats import entropy\n",
    "from toolz import frequencies, sliding_window, compose, partial\n",
    "from aging.dlight.windowing import window_trials_as_mtx\n",
    "from aging.dlight.stats import bootstrap_lineplot, bootstrap_ci\n",
    "from aging.behavior.syllables import relabel_by_usage\n",
    "from aging.plotting import legend, format_plots, figure, save_factory, PlotConfig"
   ]
  },
  {
   "cell_type": "code",
   "execution_count": 2,
   "id": "5284a29a-66bd-42b4-bde1-1c6d79b5bf0b",
   "metadata": {
    "tags": []
   },
   "outputs": [],
   "source": [
    "numba.set_num_threads(int(os.environ.get(\"SLURM_JOB_CPUS_PER_NODE\", 1)))"
   ]
  },
  {
   "cell_type": "code",
   "execution_count": 3,
   "id": "115c8ec5-9a91-484d-81d7-d4e923fba976",
   "metadata": {},
   "outputs": [],
   "source": [
    "def zscore(arr):\n",
    "    return (arr - arr.mean()) / arr.std()"
   ]
  },
  {
   "cell_type": "code",
   "execution_count": 4,
   "id": "bfb0f0ef-6182-4813-b797-b253ca558a5c",
   "metadata": {
    "tags": []
   },
   "outputs": [],
   "source": [
    "format_plots()\n",
    "c = PlotConfig()\n",
    "saver = save_factory(c.save_path / \"dlight\", tight_layout=False)"
   ]
  },
  {
   "cell_type": "code",
   "execution_count": 1,
   "id": "c17283ca-6d74-4289-93da-5cab60c5f4db",
   "metadata": {
    "tags": []
   },
   "outputs": [
    {
     "ename": "NameError",
     "evalue": "name 'Path' is not defined",
     "output_type": "error",
     "traceback": [
      "\u001b[0;31m---------------------------------------------------------------------------\u001b[0m",
      "\u001b[0;31mNameError\u001b[0m                                 Traceback (most recent call last)",
      "Cell \u001b[0;32mIn[1], line 2\u001b[0m\n\u001b[1;32m      1\u001b[0m version \u001b[38;5;241m=\u001b[39m \u001b[38;5;241m11\u001b[39m\n\u001b[0;32m----> 2\u001b[0m file \u001b[38;5;241m=\u001b[39m \u001b[43mPath\u001b[49m(\n\u001b[1;32m      3\u001b[0m     \u001b[38;5;124mf\u001b[39m\u001b[38;5;124m\"\u001b[39m\u001b[38;5;124m/n/groups/datta/win/longtogeny/data/ontogeny/version_\u001b[39m\u001b[38;5;132;01m{\u001b[39;00mversion\u001b[38;5;132;01m:\u001b[39;00m\u001b[38;5;124m02d\u001b[39m\u001b[38;5;132;01m}\u001b[39;00m\u001b[38;5;124m/dlight_photometry_df_filter_stats_da_paper.parquet\u001b[39m\u001b[38;5;124m\"\u001b[39m\n\u001b[1;32m      4\u001b[0m )\n",
      "\u001b[0;31mNameError\u001b[0m: name 'Path' is not defined"
     ]
    }
   ],
   "source": [
    "version = 12\n",
    "file = Path(\n",
    "    f\"/n/groups/datta/win/longtogeny/data/ontogeny/version_{version:02d}/dlight_photometry_df_filter_stats_da_paper.parquet\"\n",
    ")"
   ]
  },
  {
   "cell_type": "code",
   "execution_count": 6,
   "id": "c4c36cb7-898d-45b0-a8e8-1fa3a8689ad5",
   "metadata": {
    "tags": []
   },
   "outputs": [],
   "source": [
    "df = pd.read_parquet(file)\n",
    "df = relabel_by_usage(df, return_map=False)"
   ]
  },
  {
   "cell_type": "code",
   "execution_count": 7,
   "id": "44de7b72-d758-4ea4-9c1c-1638248315fe",
   "metadata": {},
   "outputs": [
    {
     "data": {
      "text/plain": [
       "Index(['pmt00_ref00 (dLight)', 'pmt00_ref01 (UV)', 'timestamp',\n",
       "       'raw_timestamp', 'fs', 'ir_indices', 'subject_name', 'session_name',\n",
       "       'start_time', 'syllables', 'uuid', 'dlight_dff', 'uv_dff',\n",
       "       'dlight_reref', 'uv_reference_fit', 'dlight_reref_zscore',\n",
       "       'dlight_reref_zscore_filter', 'onsets', 'relabeled_syllables',\n",
       "       'session_motion_corr', 'snr', 'rolling_motion_corr'],\n",
       "      dtype='object')"
      ]
     },
     "execution_count": 7,
     "metadata": {},
     "output_type": "execute_result"
    }
   ],
   "source": [
    "df.columns"
   ]
  },
  {
   "cell_type": "code",
   "execution_count": null,
   "id": "f1454c69-ce1b-4b48-8522-2da2d0c5fd1e",
   "metadata": {},
   "outputs": [],
   "source": []
  },
  {
   "cell_type": "code",
   "execution_count": null,
   "id": "cffcd853-15b8-419c-bbd9-41da85ada16e",
   "metadata": {},
   "outputs": [],
   "source": []
  }
 ],
 "metadata": {
  "kernelspec": {
   "display_name": "Ontogeny",
   "language": "python",
   "name": "aging"
  },
  "language_info": {
   "codemirror_mode": {
    "name": "ipython",
    "version": 3
   },
   "file_extension": ".py",
   "mimetype": "text/x-python",
   "name": "python",
   "nbconvert_exporter": "python",
   "pygments_lexer": "ipython3",
   "version": "3.10.10"
  },
  "widgets": {
   "application/vnd.jupyter.widget-state+json": {
    "state": {},
    "version_major": 2,
    "version_minor": 0
   }
  }
 },
 "nbformat": 4,
 "nbformat_minor": 5
}
