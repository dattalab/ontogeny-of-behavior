{
 "cells": [
  {
   "cell_type": "code",
   "execution_count": 1,
   "id": "c0458a75-c881-4476-8cdf-77551eae1a26",
   "metadata": {},
   "outputs": [],
   "source": [
    "from pathlib import Path\n",
    "from tqdm.auto import tqdm"
   ]
  },
  {
   "cell_type": "code",
   "execution_count": 2,
   "id": "55d09a97-226b-4956-993e-f1efc005e9f6",
   "metadata": {},
   "outputs": [],
   "source": [
    "folder = Path('/n/groups/datta/win/longtogeny/dlight')\n",
    "files = sorted(folder.glob('**/results_00.h5'))"
   ]
  },
  {
   "cell_type": "code",
   "execution_count": 3,
   "id": "6afab919-28eb-43e2-9a9c-c53b2111b8bc",
   "metadata": {},
   "outputs": [
    {
     "data": {
      "text/plain": [
       "174"
      ]
     },
     "execution_count": 3,
     "metadata": {},
     "output_type": "execute_result"
    }
   ],
   "source": [
    "len(files)"
   ]
  },
  {
   "cell_type": "code",
   "execution_count": 4,
   "id": "2413d312-05a6-40b4-a5e4-50b6e3efb660",
   "metadata": {},
   "outputs": [
    {
     "data": {
      "text/plain": [
       "'/n/groups/datta/win/longtogeny/dlight/session_20230807113048-862691 (datta-realtime1)/proc/results_00.h5'"
      ]
     },
     "execution_count": 4,
     "metadata": {},
     "output_type": "execute_result"
    }
   ],
   "source": [
    "str(files[0])"
   ]
  },
  {
   "cell_type": "code",
   "execution_count": 5,
   "id": "21e5d4e7-07e1-4a5e-84cd-516fabd8e97c",
   "metadata": {
    "tags": []
   },
   "outputs": [],
   "source": [
    "script = '''#!/bin/env bash\n",
    "#SBATCH -c 3\n",
    "#SBATCH -n 1\n",
    "#SBATCH --mem=20G\n",
    "#SBATCH -p short\n",
    "#SBATCH -t 01:10:00\n",
    "#SBATCH --output=/n/scratch/users/w/wg41/tmp/da-paper-ae-%j.out\n",
    "\n",
    "source $HOME/.bashrc\n",
    "conda activate rockwell-unet\n",
    "python tmp.py \"{file_path}\"\n",
    "'''"
   ]
  },
  {
   "cell_type": "code",
   "execution_count": 6,
   "id": "95ed6957-abb1-4865-9bf2-86d938ebb362",
   "metadata": {},
   "outputs": [],
   "source": [
    "tmp_py = '''\n",
    "import sys\n",
    "import h5py\n",
    "import numpy as np\n",
    "import tensorflow as tf\n",
    "\n",
    "file = sys.argv[1]\n",
    "\n",
    "in_frames = 'win_size_norm_frames_v8'\n",
    "out_frames = 'da_paper_frames'\n",
    "\n",
    "ae = tf.keras.models.load_model('/n/groups/datta/win/reinforcement-models/realtime-packages/realtime-package-v6/autoencoder.h5')\n",
    "ae.trainable = False\n",
    "\n",
    "with h5py.File(file, 'a') as h5f:\n",
    "    frames = h5f[in_frames][()]\n",
    "    pred = ae.predict(frames[..., None]).squeeze()\n",
    "    h5f.create_dataset(out_frames, data=pred)\n",
    "\n",
    "print(\"DONE\")\n",
    "'''\n",
    "\n",
    "with open(\"tmp.py\", 'w') as f:\n",
    "    f.write(tmp_py)"
   ]
  },
  {
   "cell_type": "code",
   "execution_count": 7,
   "id": "73991eb2-c4b6-41be-a734-5b560a09ac91",
   "metadata": {},
   "outputs": [],
   "source": [
    "# %%bash\n",
    "\n",
    "# source $HOME/.bashrc\n",
    "# conda activate rockwell-unet\n",
    "# python tmp.py '/n/groups/datta/win/longtogeny/dlight/session_20230807113048-862691 (datta-realtime1)/proc/results_00.h5'"
   ]
  },
  {
   "cell_type": "code",
   "execution_count": 8,
   "id": "0051b7b6-35df-4209-8da4-c132af1c3c88",
   "metadata": {
    "scrolled": true
   },
   "outputs": [
    {
     "name": "stdout",
     "output_type": "stream",
     "text": [
      "Submitted batch job 32818997\n",
      "Submitted batch job 32818999\n",
      "Submitted batch job 32819000\n",
      "Submitted batch job 32819001\n",
      "Submitted batch job 32819002\n",
      "Submitted batch job 32819003\n",
      "Submitted batch job 32819004\n",
      "Submitted batch job 32819005\n",
      "Submitted batch job 32819006\n",
      "Submitted batch job 32819007\n",
      "Submitted batch job 32819008\n",
      "Submitted batch job 32819009\n",
      "Submitted batch job 32819010\n",
      "Submitted batch job 32819011\n",
      "Submitted batch job 32819012\n",
      "Submitted batch job 32819013\n",
      "Submitted batch job 32819014\n",
      "Submitted batch job 32819015\n",
      "Submitted batch job 32819016\n",
      "Submitted batch job 32819017\n",
      "Submitted batch job 32819018\n",
      "Submitted batch job 32819019\n",
      "Submitted batch job 32819020\n",
      "Submitted batch job 32819021\n",
      "Submitted batch job 32819022\n",
      "Submitted batch job 32819023\n",
      "Submitted batch job 32819024\n",
      "Submitted batch job 32819025\n",
      "Submitted batch job 32819026\n",
      "Submitted batch job 32819027\n",
      "Submitted batch job 32819028\n",
      "Submitted batch job 32819029\n",
      "Submitted batch job 32819030\n",
      "Submitted batch job 32819031\n",
      "Submitted batch job 32819032\n",
      "Submitted batch job 32819033\n",
      "Submitted batch job 32819034\n",
      "Submitted batch job 32819035\n",
      "Submitted batch job 32819036\n",
      "Submitted batch job 32819037\n",
      "Submitted batch job 32819038\n",
      "Submitted batch job 32819039\n",
      "Submitted batch job 32819040\n",
      "Submitted batch job 32819041\n",
      "Submitted batch job 32819042\n",
      "Submitted batch job 32819043\n",
      "Submitted batch job 32819044\n",
      "Submitted batch job 32819045\n",
      "Submitted batch job 32819046\n",
      "Submitted batch job 32819047\n",
      "Submitted batch job 32819048\n",
      "Submitted batch job 32819049\n",
      "Submitted batch job 32819050\n",
      "Submitted batch job 32819051\n",
      "Submitted batch job 32819052\n",
      "Submitted batch job 32819053\n",
      "Submitted batch job 32819054\n",
      "Submitted batch job 32819055\n",
      "Submitted batch job 32819056\n",
      "Submitted batch job 32819057\n",
      "Submitted batch job 32819058\n",
      "Submitted batch job 32819059\n",
      "Submitted batch job 32819060\n",
      "Submitted batch job 32819061\n",
      "Submitted batch job 32819062\n",
      "Submitted batch job 32819063\n",
      "Submitted batch job 32819064\n",
      "Submitted batch job 32819065\n",
      "Submitted batch job 32819066\n",
      "Submitted batch job 32819067\n",
      "Submitted batch job 32819068\n",
      "Submitted batch job 32819069\n",
      "Submitted batch job 32819070\n",
      "Submitted batch job 32819071\n",
      "Submitted batch job 32819072\n",
      "Submitted batch job 32819073\n",
      "Submitted batch job 32819074\n",
      "Submitted batch job 32819075\n",
      "Submitted batch job 32819076\n",
      "Submitted batch job 32819077\n",
      "Submitted batch job 32819078\n",
      "Submitted batch job 32819080\n",
      "Submitted batch job 32819081\n",
      "Submitted batch job 32819082\n",
      "Submitted batch job 32819083\n",
      "Submitted batch job 32819084\n",
      "Submitted batch job 32819085\n",
      "Submitted batch job 32819086\n",
      "Submitted batch job 32819087\n",
      "Submitted batch job 32819088\n",
      "Submitted batch job 32819089\n",
      "Submitted batch job 32819090\n",
      "Submitted batch job 32819091\n",
      "Submitted batch job 32819092\n",
      "Submitted batch job 32819093\n",
      "Submitted batch job 32819094\n",
      "Submitted batch job 32819095\n",
      "Submitted batch job 32819096\n",
      "Submitted batch job 32819097\n",
      "Submitted batch job 32819098\n",
      "Submitted batch job 32819099\n",
      "Submitted batch job 32819100\n",
      "Submitted batch job 32819101\n",
      "Submitted batch job 32819102\n",
      "Submitted batch job 32819103\n",
      "Submitted batch job 32819104\n",
      "Submitted batch job 32819105\n",
      "Submitted batch job 32819106\n",
      "Submitted batch job 32819108\n",
      "Submitted batch job 32819109\n",
      "Submitted batch job 32819113\n",
      "Submitted batch job 32819116\n",
      "Submitted batch job 32819119\n",
      "Submitted batch job 32819121\n",
      "Submitted batch job 32819124\n",
      "Submitted batch job 32819127\n",
      "Submitted batch job 32819130\n",
      "Submitted batch job 32819133\n",
      "Submitted batch job 32819136\n",
      "Submitted batch job 32819139\n",
      "Submitted batch job 32819142\n",
      "Submitted batch job 32819145\n",
      "Submitted batch job 32819149\n",
      "Submitted batch job 32819153\n",
      "Submitted batch job 32819157\n",
      "Submitted batch job 32819160\n",
      "Submitted batch job 32819163\n",
      "Submitted batch job 32819166\n",
      "Submitted batch job 32819169\n",
      "Submitted batch job 32819172\n",
      "Submitted batch job 32819176\n",
      "Submitted batch job 32819179\n",
      "Submitted batch job 32819182\n",
      "Submitted batch job 32819185\n",
      "Submitted batch job 32819188\n",
      "Submitted batch job 32819191\n",
      "Submitted batch job 32819195\n",
      "Submitted batch job 32819198\n",
      "Submitted batch job 32819200\n",
      "Submitted batch job 32819203\n",
      "Submitted batch job 32819207\n",
      "Submitted batch job 32819213\n",
      "Submitted batch job 32819216\n",
      "Submitted batch job 32819220\n",
      "Submitted batch job 32819222\n",
      "Submitted batch job 32819224\n",
      "Submitted batch job 32819226\n",
      "Submitted batch job 32819227\n",
      "Submitted batch job 32819230\n",
      "Submitted batch job 32819241\n",
      "Submitted batch job 32819244\n",
      "Submitted batch job 32819248\n",
      "Submitted batch job 32819250\n",
      "Submitted batch job 32819251\n",
      "Submitted batch job 32819253\n",
      "Submitted batch job 32819255\n",
      "Submitted batch job 32819256\n",
      "Submitted batch job 32819257\n",
      "Submitted batch job 32819258\n",
      "Submitted batch job 32819261\n",
      "Submitted batch job 32819262\n",
      "Submitted batch job 32819263\n",
      "Submitted batch job 32819264\n",
      "Submitted batch job 32819265\n",
      "Submitted batch job 32819266\n",
      "Submitted batch job 32819267\n",
      "Submitted batch job 32819268\n",
      "Submitted batch job 32819269\n",
      "Submitted batch job 32819270\n",
      "Submitted batch job 32819271\n",
      "Submitted batch job 32819272\n",
      "Submitted batch job 32819273\n",
      "Submitted batch job 32819274\n",
      "Submitted batch job 32819275\n"
     ]
    }
   ],
   "source": [
    "for file in files:\n",
    "    new_script = script.format(file_path=str(file))\n",
    "    with open(\"tmp.sh\", 'w') as f:\n",
    "        f.write(new_script)\n",
    "    !sbatch tmp.sh"
   ]
  },
  {
   "cell_type": "markdown",
   "id": "5f8e54a4-4a75-4243-a409-f36497570238",
   "metadata": {},
   "source": [
    "## Run PCA and apply whitening"
   ]
  },
  {
   "cell_type": "code",
   "execution_count": 4,
   "id": "f1f81ed9-9f70-4d85-b11b-6f4099e5b130",
   "metadata": {},
   "outputs": [],
   "source": [
    "import h5py\n",
    "import joblib"
   ]
  },
  {
   "cell_type": "code",
   "execution_count": 5,
   "id": "03c12e00-1ded-4fd5-b5cc-0e08146afbcc",
   "metadata": {},
   "outputs": [],
   "source": [
    "with h5py.File('/n/groups/datta/win/reinforcement-models/realtime-packages/realtime-package-v6/pc_components.h5', 'r') as h5f:\n",
    "    pc_components = h5f['components'][:10]"
   ]
  },
  {
   "cell_type": "code",
   "execution_count": 6,
   "id": "320d2322-3cba-478f-8eb6-a004ec4a1680",
   "metadata": {},
   "outputs": [
    {
     "data": {
      "text/plain": [
       "(10, 6400)"
      ]
     },
     "execution_count": 6,
     "metadata": {},
     "output_type": "execute_result"
    }
   ],
   "source": [
    "pc_components.shape"
   ]
  },
  {
   "cell_type": "code",
   "execution_count": 7,
   "id": "37b4eb37-61a4-4081-bb1f-9fcd54cb4955",
   "metadata": {
    "scrolled": true
   },
   "outputs": [
    {
     "name": "stderr",
     "output_type": "stream",
     "text": [
      "/home/wg41/miniconda3/lib/python3.7/site-packages/sklearn/base.py:338: UserWarning: Trying to unpickle estimator FunctionTransformer from version 0.19.0 when using version 1.0.2. This might lead to breaking code or invalid results. Use at your own risk. For more info please refer to:\n",
      "https://scikit-learn.org/stable/modules/model_persistence.html#security-maintainability-limitations\n",
      "  UserWarning,\n"
     ]
    }
   ],
   "source": [
    "whitener = joblib.load('/n/groups/datta/win/reinforcement-models/realtime-packages/realtime-package-v6/preprocessor.p')"
   ]
  },
  {
   "cell_type": "code",
   "execution_count": 8,
   "id": "49adb6be-8a73-4877-866e-331e0be38ab1",
   "metadata": {},
   "outputs": [],
   "source": [
    "arhmm = joblib.load('/n/groups/datta/win/reinforcement-models/realtime-packages/realtime-package-v6/arhmm.p')"
   ]
  },
  {
   "cell_type": "code",
   "execution_count": 9,
   "id": "2d4ab90f-f22a-4914-b5af-081a883751b1",
   "metadata": {},
   "outputs": [
    {
     "data": {
      "application/vnd.jupyter.widget-view+json": {
       "model_id": "c8993bcf5ec5425eb013b49a4e122d23",
       "version_major": 2,
       "version_minor": 0
      },
      "text/plain": [
       "  0%|          | 0/174 [00:00<?, ?it/s]"
      ]
     },
     "metadata": {},
     "output_type": "display_data"
    }
   ],
   "source": [
    "with h5py.File(\"/n/groups/datta/win/longtogeny/data/ontogeny/version_12/dlight_da_paper_syllables.h5\", \"w\") as syllable_h5:\n",
    "    for file in tqdm(files):\n",
    "        try:\n",
    "            with h5py.File(file, 'r') as h5f:\n",
    "                uuid = h5f['metadata']['uuid'][()].decode()\n",
    "                frames = h5f['da_paper_frames'][()]\n",
    "            pcs = frames.reshape(len(frames), -1).dot(pc_components.T)\n",
    "            pcs = whitener.transform(pcs)\n",
    "            syllables = arhmm['model'].heldout_viterbi(pcs)\n",
    "            syllable_h5.create_dataset(uuid, data=syllables)\n",
    "        except KeyError:\n",
    "            pass"
   ]
  },
  {
   "cell_type": "code",
   "execution_count": null,
   "id": "642387ac-c25b-4f8a-a459-9d0984d7ecb0",
   "metadata": {},
   "outputs": [],
   "source": []
  }
 ],
 "metadata": {
  "kernelspec": {
   "display_name": "base",
   "language": "python",
   "name": "base"
  },
  "language_info": {
   "codemirror_mode": {
    "name": "ipython",
    "version": 3
   },
   "file_extension": ".py",
   "mimetype": "text/x-python",
   "name": "python",
   "nbconvert_exporter": "python",
   "pygments_lexer": "ipython3",
   "version": "3.7.4"
  },
  "widgets": {
   "application/vnd.jupyter.widget-state+json": {
    "state": {},
    "version_major": 2,
    "version_minor": 0
   }
  }
 },
 "nbformat": 4,
 "nbformat_minor": 5
}
