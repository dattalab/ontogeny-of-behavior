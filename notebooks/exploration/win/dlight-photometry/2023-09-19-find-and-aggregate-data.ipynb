{
 "cells": [
  {
   "cell_type": "markdown",
   "id": "d7e05446-3165-44fa-8f8e-0aae7eaa2157",
   "metadata": {},
   "source": [
    "# Gather all the data\n",
    "\n",
    "- depth files\n",
    "- tdt files"
   ]
  },
  {
   "cell_type": "code",
   "execution_count": 29,
   "id": "328bb30a-bd5c-4ac8-9147-dbf739243b93",
   "metadata": {
    "tags": []
   },
   "outputs": [],
   "source": [
    "import os\n",
    "import stat\n",
    "import json\n",
    "import shutil\n",
    "import datetime\n",
    "import numpy as np\n",
    "from pathlib import Path\n",
    "from toolz import compose, curry\n",
    "from tqdm.auto import tqdm"
   ]
  },
  {
   "cell_type": "code",
   "execution_count": 2,
   "id": "7ef9461a-036c-466b-949c-f630c344ce2c",
   "metadata": {
    "tags": []
   },
   "outputs": [],
   "source": [
    "photometry_folder = Path('/n/groups/datta/win/longtogeny/dlight/photometry')\n",
    "behavior_folder = Path('/n/groups/datta/win/longtogeny/dlight')"
   ]
  },
  {
   "cell_type": "code",
   "execution_count": 15,
   "id": "bf486657-2a0e-4fde-a675-eb70552b7ec4",
   "metadata": {
    "tags": []
   },
   "outputs": [],
   "source": [
    "depth_files = sorted(behavior_folder.glob('**/depth.*'))"
   ]
  },
  {
   "cell_type": "markdown",
   "id": "309b5ef2-ab51-4a11-a771-9bc3715415b7",
   "metadata": {},
   "source": [
    "## Extract data"
   ]
  },
  {
   "cell_type": "code",
   "execution_count": 9,
   "id": "43f20837-a508-44ff-8801-50480a96867e",
   "metadata": {
    "tags": []
   },
   "outputs": [],
   "source": [
    "def not_extracted(file):\n",
    "    if file.name.endswith('filepart'):\n",
    "        return False\n",
    "\n",
    "    if extracted := (file.parent / \"proc\" / \"results_00.h5\").exists():\n",
    "        try:\n",
    "            with h5py.File(file.parent / \"proc\" / \"results_00.h5\", \"r\") as h5f:\n",
    "                list(h5f)\n",
    "        except Exception as e:\n",
    "            print(e)\n",
    "            return True\n",
    "        with open(file.parent / \"proc\" / \"results_00.yaml\", \"r\") as conf_f:\n",
    "            config = yaml.safe_load(conf_f)\n",
    "        extracted = config[\"complete\"]\n",
    "    # TODO: make sure extraction is newer than 5/30/2023\n",
    "    return not extracted\n",
    "\n",
    "\n",
    "def no_depth_doubles(file):\n",
    "    return not (file.name.endswith(\"avi\") and file.with_suffix(\".dat\").exists())\n",
    "\n",
    "\n",
    "def multi_filter(*filters, seq):\n",
    "    return compose(*(curry(filter)(f) for f in filters))(seq)"
   ]
  },
  {
   "cell_type": "code",
   "execution_count": 6,
   "id": "f2b8780b-0687-4471-9968-5b2efca97519",
   "metadata": {
    "tags": []
   },
   "outputs": [],
   "source": [
    "user = os.environ['USER']"
   ]
  },
  {
   "cell_type": "code",
   "execution_count": 10,
   "id": "21e5d4e7-07e1-4a5e-84cd-516fabd8e97c",
   "metadata": {
    "tags": []
   },
   "outputs": [],
   "source": [
    "script = '''#!/bin/env bash\n",
    "#SBATCH -c 1\n",
    "#SBATCH -n 1\n",
    "#SBATCH --mem=10G\n",
    "#SBATCH -p short\n",
    "#SBATCH -t 00:40:00\n",
    "#SBATCH --output=/n/scratch3/users/{user_pth}/tmp/ontogeny/dlight-depth-extraction-%j.out\n",
    "\n",
    "source $HOME/.bashrc\n",
    "conda activate moseq2-app\n",
    "moseq2-extract extract \"{file_path}\" --config-file \"/n/groups/datta/win/longtogeny/data/extractions/config.yaml\"\n",
    "'''"
   ]
  },
  {
   "cell_type": "code",
   "execution_count": 16,
   "id": "877d0c00-87d9-4d56-83ab-06d7e07094b8",
   "metadata": {
    "collapsed": true,
    "jupyter": {
     "outputs_hidden": true
    },
    "tags": []
   },
   "outputs": [
    {
     "data": {
      "application/vnd.jupyter.widget-view+json": {
       "model_id": "34e76a570409476ea608a448183f2449",
       "version_major": 2,
       "version_minor": 0
      },
      "text/plain": [
       "0it [00:00, ?it/s]"
      ]
     },
     "metadata": {},
     "output_type": "display_data"
    },
    {
     "name": "stdout",
     "output_type": "stream",
     "text": [
      "extracting: /n/groups/datta/win/longtogeny/dlight/session_20230807113048-862691 (datta-realtime1)/depth.dat\n",
      "Submitted batch job 18136162\n",
      "extracting: /n/groups/datta/win/longtogeny/dlight/session_20230807121131-654885 (datta-realtime1)/depth.dat\n",
      "Submitted batch job 18136163\n",
      "extracting: /n/groups/datta/win/longtogeny/dlight/session_20230807125505-062630 (datta-realtime1)/depth.dat\n",
      "Submitted batch job 18136164\n",
      "extracting: /n/groups/datta/win/longtogeny/dlight/session_20230807133323-254885 (datta-realtime1)/depth.dat\n",
      "Submitted batch job 18136165\n",
      "extracting: /n/groups/datta/win/longtogeny/dlight/session_20230807143853-524963 (datta-realtime1)/depth.dat\n",
      "Submitted batch job 18136166\n",
      "extracting: /n/groups/datta/win/longtogeny/dlight/session_20230807152155-314778 (datta-realtime1)/depth.dat\n",
      "Submitted batch job 18136167\n",
      "extracting: /n/groups/datta/win/longtogeny/dlight/session_20230807160308-202771 (datta-realtime1)/depth.dat\n",
      "Submitted batch job 18136168\n",
      "extracting: /n/groups/datta/win/longtogeny/dlight/session_20230807164148-426692 (datta-realtime1)/depth.dat\n",
      "Submitted batch job 18136169\n",
      "extracting: /n/groups/datta/win/longtogeny/dlight/session_20230807172453-274701 (datta-realtime1)/depth.dat\n",
      "Submitted batch job 18136170\n",
      "extracting: /n/groups/datta/win/longtogeny/dlight/session_20230807180623-650759 (datta-realtime1)/depth.dat\n",
      "Submitted batch job 18136171\n",
      "extracting: /n/groups/datta/win/longtogeny/dlight/session_20230808105917-234785 (datta-realtime1)/depth.dat\n",
      "Submitted batch job 18136172\n",
      "extracting: /n/groups/datta/win/longtogeny/dlight/session_20230808114305-758662 (datta-realtime1)/depth.dat\n",
      "Submitted batch job 18136173\n",
      "extracting: /n/groups/datta/win/longtogeny/dlight/session_20230808122552-006736 (datta-realtime1)/depth.dat\n",
      "Submitted batch job 18136174\n",
      "extracting: /n/groups/datta/win/longtogeny/dlight/session_20230808130616-634255 (datta-realtime1)/depth.dat\n",
      "Submitted batch job 18136175\n",
      "extracting: /n/groups/datta/win/longtogeny/dlight/session_20230808134708-090792 (datta-realtime1)/depth.dat\n",
      "Submitted batch job 18136176\n",
      "extracting: /n/groups/datta/win/longtogeny/dlight/session_20230808142629-262638 (datta-realtime1)/depth.dat\n",
      "Submitted batch job 18136177\n",
      "extracting: /n/groups/datta/win/longtogeny/dlight/session_20230808150748-266807 (datta-realtime1)/depth.dat\n",
      "Submitted batch job 18136178\n",
      "extracting: /n/groups/datta/win/longtogeny/dlight/session_20230808154633-678567 (datta-realtime1)/depth.dat\n",
      "Submitted batch job 18136179\n",
      "extracting: /n/groups/datta/win/longtogeny/dlight/session_20230808162702-510727 (datta-realtime1)/depth.dat\n",
      "Submitted batch job 18136180\n",
      "extracting: /n/groups/datta/win/longtogeny/dlight/session_20230808171210-862688 (datta-realtime1)/depth.dat\n",
      "Submitted batch job 18136181\n",
      "extracting: /n/groups/datta/win/longtogeny/dlight/session_20230808175006-366520 (datta-realtime1)/depth.dat\n",
      "Submitted batch job 18136182\n",
      "extracting: /n/groups/datta/win/longtogeny/dlight/session_20230808182756-262654 (datta-realtime1)/depth.dat\n",
      "Submitted batch job 18136183\n",
      "extracting: /n/groups/datta/win/longtogeny/dlight/session_20230809104333-558645 (datta-realtime1)/depth.dat\n",
      "Submitted batch job 18136184\n",
      "extracting: /n/groups/datta/win/longtogeny/dlight/session_20230809112414-558092 (datta-realtime1)/depth.dat\n",
      "Submitted batch job 18136185\n",
      "extracting: /n/groups/datta/win/longtogeny/dlight/session_20230809115950-938711 (datta-realtime1)/depth.dat\n",
      "Submitted batch job 18136186\n",
      "extracting: /n/groups/datta/win/longtogeny/dlight/session_20230809123833-480857 (datta-realtime1)/depth.dat\n",
      "Submitted batch job 18136189\n",
      "extracting: /n/groups/datta/win/longtogeny/dlight/session_20230809131645-290732 (datta-realtime1)/depth.dat\n",
      "Submitted batch job 18136190\n",
      "extracting: /n/groups/datta/win/longtogeny/dlight/session_20230809135317-598633 (datta-realtime1)/depth.dat\n",
      "Submitted batch job 18136191\n",
      "extracting: /n/groups/datta/win/longtogeny/dlight/session_20230809152059-310672 (datta-realtime1)/depth.dat\n",
      "Submitted batch job 18136192\n",
      "extracting: /n/groups/datta/win/longtogeny/dlight/session_20230809152555-446501 (datta-realtime1)/depth.dat\n",
      "Submitted batch job 18136193\n",
      "extracting: /n/groups/datta/win/longtogeny/dlight/session_20230809160724-550688 (datta-realtime1)/depth.dat\n",
      "Submitted batch job 18136196\n",
      "extracting: /n/groups/datta/win/longtogeny/dlight/session_20230809164407-478744 (datta-realtime1)/depth.dat\n",
      "Submitted batch job 18136197\n",
      "extracting: /n/groups/datta/win/longtogeny/dlight/session_20230809173949-974515 (datta-realtime1)/depth.dat\n",
      "Submitted batch job 18136198\n",
      "extracting: /n/groups/datta/win/longtogeny/dlight/session_20230809182031-986681 (datta-realtime1)/depth.dat\n",
      "Submitted batch job 18136199\n",
      "extracting: /n/groups/datta/win/longtogeny/dlight/session_20230810115646-362395 (datta-realtime1)/depth.dat\n",
      "Submitted batch job 18136200\n",
      "extracting: /n/groups/datta/win/longtogeny/dlight/session_20230810123714-894543 (datta-realtime1)/depth.dat\n",
      "Submitted batch job 18136201\n",
      "extracting: /n/groups/datta/win/longtogeny/dlight/session_20230810131127-750587 (datta-realtime1)/depth.dat\n",
      "Submitted batch job 18136202\n",
      "extracting: /n/groups/datta/win/longtogeny/dlight/session_20230810134551-482627 (datta-realtime1)/depth.dat\n",
      "Submitted batch job 18136203\n",
      "extracting: /n/groups/datta/win/longtogeny/dlight/session_20230810142514-461567 (datta-realtime1)/depth.dat\n",
      "Submitted batch job 18136205\n",
      "extracting: /n/groups/datta/win/longtogeny/dlight/session_20230810150102-582781 (datta-realtime1)/depth.dat\n",
      "Submitted batch job 18136206\n",
      "extracting: /n/groups/datta/win/longtogeny/dlight/session_20230810153554-840165 (datta-realtime1)/depth.dat\n",
      "Submitted batch job 18136207\n",
      "extracting: /n/groups/datta/win/longtogeny/dlight/session_20230810161223-486673 (datta-realtime1)/depth.dat\n",
      "Submitted batch job 18136210\n",
      "extracting: /n/groups/datta/win/longtogeny/dlight/session_20230810170124-654655 (datta-realtime1)/depth.dat\n",
      "Submitted batch job 18136211\n",
      "extracting: /n/groups/datta/win/longtogeny/dlight/session_20230810173823-030668 (datta-realtime1)/depth.dat\n",
      "Submitted batch job 18136212\n",
      "extracting: /n/groups/datta/win/longtogeny/dlight/session_20230810181532-366506 (datta-realtime1)/depth.dat\n",
      "Submitted batch job 18136213\n",
      "extracting: /n/groups/datta/win/longtogeny/dlight/session_20230810185441-974730 (datta-realtime1)/depth.dat\n",
      "Submitted batch job 18136214\n",
      "extracting: /n/groups/datta/win/longtogeny/dlight/session_20230810192923-342687 (datta-realtime1)/depth.dat\n",
      "Submitted batch job 18136215\n",
      "extracting: /n/groups/datta/win/longtogeny/dlight/session_20230810200533-702564 (datta-realtime1)/depth.dat\n",
      "Submitted batch job 18136216\n",
      "extracting: /n/groups/datta/win/longtogeny/dlight/session_20230811111557-386826 (datta-realtime1)/depth.dat\n",
      "Submitted batch job 18136217\n",
      "extracting: /n/groups/datta/win/longtogeny/dlight/session_20230811120534-282699 (datta-realtime1)/depth.dat\n",
      "Submitted batch job 18136220\n",
      "extracting: /n/groups/datta/win/longtogeny/dlight/session_20230811123951-678738 (datta-realtime1)/depth.dat\n",
      "Submitted batch job 18136221\n",
      "extracting: /n/groups/datta/win/longtogeny/dlight/session_20230811131551-088350 (datta-realtime1)/depth.dat\n",
      "Submitted batch job 18136222\n",
      "extracting: /n/groups/datta/win/longtogeny/dlight/session_20230811135115-078589 (datta-realtime1)/depth.dat\n",
      "Submitted batch job 18136223\n",
      "extracting: /n/groups/datta/win/longtogeny/dlight/session_20230811143748-785375 (datta-realtime1)/depth.dat\n",
      "Submitted batch job 18136224\n",
      "extracting: /n/groups/datta/win/longtogeny/dlight/session_20230811151630-534687 (datta-realtime1)/depth.dat\n",
      "Submitted batch job 18136225\n",
      "extracting: /n/groups/datta/win/longtogeny/dlight/session_20230811155218-446665 (datta-realtime1)/depth.dat\n",
      "Submitted batch job 18136226\n",
      "extracting: /n/groups/datta/win/longtogeny/dlight/session_20230811162723-434658 (datta-realtime1)/depth.dat\n",
      "Submitted batch job 18136227\n",
      "extracting: /n/groups/datta/win/longtogeny/dlight/session_20230811170300-526675 (datta-realtime1)/depth.dat\n",
      "Submitted batch job 18136228\n",
      "extracting: /n/groups/datta/win/longtogeny/dlight/session_20230811174036-538526 (datta-realtime1)/depth.dat\n",
      "Submitted batch job 18136229\n",
      "extracting: /n/groups/datta/win/longtogeny/dlight/session_20230811182233-902539 (datta-realtime1)/depth.dat\n",
      "Submitted batch job 18136230\n",
      "extracting: /n/groups/datta/win/longtogeny/dlight/session_20230811185959-058784 (datta-realtime1)/depth.dat\n",
      "Submitted batch job 18136231\n",
      "extracting: /n/groups/datta/win/longtogeny/dlight/session_20230815115742-686684 (datta-realtime1)/depth.dat\n",
      "Submitted batch job 18136232\n",
      "extracting: /n/groups/datta/win/longtogeny/dlight/session_20230815130700-982697 (datta-realtime1)/depth.dat\n",
      "Submitted batch job 18136233\n",
      "extracting: /n/groups/datta/win/longtogeny/dlight/session_20230815135006-378722 (datta-realtime1)/depth.dat\n",
      "Submitted batch job 18136234\n",
      "extracting: /n/groups/datta/win/longtogeny/dlight/session_20230815143255-582056 (datta-realtime1)/depth.dat\n",
      "Submitted batch job 18136235\n",
      "extracting: /n/groups/datta/win/longtogeny/dlight/session_20230815152114-917582 (datta-realtime1)/depth.dat\n",
      "Submitted batch job 18136236\n",
      "extracting: /n/groups/datta/win/longtogeny/dlight/session_20230815155741-650686 (datta-realtime1)/depth.dat\n",
      "Submitted batch job 18136238\n",
      "extracting: /n/groups/datta/win/longtogeny/dlight/session_20230815163422-082553 (datta-realtime1)/depth.dat\n",
      "Submitted batch job 18136240\n",
      "extracting: /n/groups/datta/win/longtogeny/dlight/session_20230817121705-122712 (datta-realtime1)/depth.dat\n",
      "Submitted batch job 18136241\n",
      "extracting: /n/groups/datta/win/longtogeny/dlight/session_20230817131337-262145 (datta-realtime1)/depth.dat\n",
      "Submitted batch job 18136242\n",
      "extracting: /n/groups/datta/win/longtogeny/dlight/session_20230817134725-374771 (datta-realtime1)/depth.dat\n",
      "Submitted batch job 18136243\n",
      "extracting: /n/groups/datta/win/longtogeny/dlight/session_20230817142034-486657 (datta-realtime1)/depth.dat\n",
      "Submitted batch job 18136245\n",
      "extracting: /n/groups/datta/win/longtogeny/dlight/session_20230817145656-902683 (datta-realtime1)/depth.dat\n",
      "Submitted batch job 18136247\n",
      "extracting: /n/groups/datta/win/longtogeny/dlight/session_20230817153108-794651 (datta-realtime1)/depth.dat\n",
      "Submitted batch job 18136248\n",
      "extracting: /n/groups/datta/win/longtogeny/dlight/session_20230817160635-734519 (datta-realtime1)/depth.dat\n",
      "Submitted batch job 18136249\n",
      "extracting: /n/groups/datta/win/longtogeny/dlight/session_20230817164735-622230 (datta-realtime1)/depth.dat\n",
      "Submitted batch job 18136252\n",
      "extracting: /n/groups/datta/win/longtogeny/dlight/session_20230817172221-130567 (datta-realtime1)/depth.dat\n",
      "Submitted batch job 18136253\n",
      "extracting: /n/groups/datta/win/longtogeny/dlight/session_20230817175637-960282 (datta-realtime1)/depth.dat\n",
      "Submitted batch job 18136254\n",
      "extracting: /n/groups/datta/win/longtogeny/dlight/session_20230817183349-830557 (datta-realtime1)/depth.dat\n",
      "Submitted batch job 18136255\n",
      "extracting: /n/groups/datta/win/longtogeny/dlight/session_20230817192055-570679 (datta-realtime1)/depth.dat\n",
      "Submitted batch job 18136258\n",
      "extracting: /n/groups/datta/win/longtogeny/dlight/session_20230819125849-290701 (datta-realtime1)/depth.dat\n",
      "Submitted batch job 18136259\n",
      "extracting: /n/groups/datta/win/longtogeny/dlight/session_20230819133449-346385 (datta-realtime1)/depth.dat\n",
      "Submitted batch job 18136260\n",
      "extracting: /n/groups/datta/win/longtogeny/dlight/session_20230819141038-234701 (datta-realtime1)/depth.dat\n",
      "Submitted batch job 18136261\n",
      "extracting: /n/groups/datta/win/longtogeny/dlight/session_20230819144440-190706 (datta-realtime1)/depth.dat\n",
      "Submitted batch job 18136262\n",
      "extracting: /n/groups/datta/win/longtogeny/dlight/session_20230819151941-174649 (datta-realtime1)/depth.dat\n",
      "Submitted batch job 18136263\n",
      "extracting: /n/groups/datta/win/longtogeny/dlight/session_20230819155256-582496 (datta-realtime1)/depth.dat\n",
      "Submitted batch job 18136264\n",
      "extracting: /n/groups/datta/win/longtogeny/dlight/session_20230819162932-174688 (datta-realtime1)/depth.dat\n",
      "Submitted batch job 18136265\n",
      "extracting: /n/groups/datta/win/longtogeny/dlight/session_20230819170421-738640 (datta-realtime1)/depth.dat\n",
      "Submitted batch job 18136266\n",
      "extracting: /n/groups/datta/win/longtogeny/dlight/session_20230819173947-394657 (datta-realtime1)/depth.dat\n",
      "Submitted batch job 18136267\n",
      "extracting: /n/groups/datta/win/longtogeny/dlight/session_20230820120757-662810 (datta-realtime1)/depth.dat\n",
      "Submitted batch job 18136268\n",
      "extracting: /n/groups/datta/win/longtogeny/dlight/session_20230820124256-514516 (datta-realtime1)/depth.dat\n",
      "Submitted batch job 18136269\n",
      "extracting: /n/groups/datta/win/longtogeny/dlight/session_20230820131749-170487 (datta-realtime1)/depth.dat\n",
      "Submitted batch job 18136270\n",
      "extracting: /n/groups/datta/win/longtogeny/dlight/session_20230820135755-654673 (datta-realtime1)/depth.dat\n",
      "Submitted batch job 18136271\n",
      "extracting: /n/groups/datta/win/longtogeny/dlight/session_20230820143210-314677 (datta-realtime1)/depth.dat\n",
      "Submitted batch job 18136272\n",
      "extracting: /n/groups/datta/win/longtogeny/dlight/session_20230820151006-422647 (datta-realtime1)/depth.dat\n",
      "Submitted batch job 18136273\n",
      "extracting: /n/groups/datta/win/longtogeny/dlight/session_20230820154408-246640 (datta-realtime1)/depth.dat\n",
      "Submitted batch job 18136275\n",
      "extracting: /n/groups/datta/win/longtogeny/dlight/session_20230820162026-018645 (datta-realtime1)/depth.dat\n",
      "Submitted batch job 18136277\n",
      "extracting: /n/groups/datta/win/longtogeny/dlight/session_20230820165354-842596 (datta-realtime1)/depth.dat\n",
      "Submitted batch job 18136278\n",
      "extracting: /n/groups/datta/win/longtogeny/dlight/session_20230820173148-580157 (datta-realtime1)/depth.dat\n",
      "Submitted batch job 18136279\n",
      "extracting: /n/groups/datta/win/longtogeny/dlight/session_20230820180744-598524 (datta-realtime1)/depth.dat\n",
      "Submitted batch job 18136280\n",
      "extracting: /n/groups/datta/win/longtogeny/dlight/session_20230820184223-118551 (datta-realtime1)/depth.dat\n",
      "Submitted batch job 18136281\n",
      "extracting: /n/groups/datta/win/longtogeny/dlight/session_20230820184631-906650 (datta-realtime1)/depth.dat\n",
      "Submitted batch job 18136282\n",
      "extracting: /n/groups/datta/win/longtogeny/dlight/session_20230822115827-986707 (datta-realtime1)/depth.dat\n",
      "Submitted batch job 18136284\n",
      "extracting: /n/groups/datta/win/longtogeny/dlight/session_20230822123319-294695 (datta-realtime1)/depth.dat\n",
      "Submitted batch job 18136286\n",
      "extracting: /n/groups/datta/win/longtogeny/dlight/session_20230822141113-223227 (datta-realtime1)/depth.dat\n",
      "Submitted batch job 18136289\n",
      "extracting: /n/groups/datta/win/longtogeny/dlight/session_20230824115602-822748 (datta-realtime1)/depth.dat\n",
      "Submitted batch job 18136294\n",
      "extracting: /n/groups/datta/win/longtogeny/dlight/session_20230824124811-338744 (datta-realtime1)/depth.dat\n",
      "Submitted batch job 18136297\n",
      "extracting: /n/groups/datta/win/longtogeny/dlight/session_20230824132225-466641 (datta-realtime1)/depth.dat\n",
      "Submitted batch job 18136298\n",
      "extracting: /n/groups/datta/win/longtogeny/dlight/session_20230824135617-558678 (datta-realtime1)/depth.dat\n",
      "Submitted batch job 18136299\n",
      "extracting: /n/groups/datta/win/longtogeny/dlight/session_20230824143245-350618 (datta-realtime1)/depth.dat\n",
      "Submitted batch job 18136300\n",
      "extracting: /n/groups/datta/win/longtogeny/dlight/session_20230824150902-770783 (datta-realtime1)/depth.dat\n",
      "Submitted batch job 18136301\n",
      "extracting: /n/groups/datta/win/longtogeny/dlight/session_20230824151151-294577 (datta-realtime1)/depth.dat\n",
      "Submitted batch job 18136302\n",
      "extracting: /n/groups/datta/win/longtogeny/dlight/session_20230824151654-310687 (datta-realtime1)/depth.dat\n",
      "Submitted batch job 18136303\n",
      "extracting: /n/groups/datta/win/longtogeny/dlight/session_20230824153714-098472 (datta-realtime1)/depth.dat\n",
      "Submitted batch job 18136304\n",
      "extracting: /n/groups/datta/win/longtogeny/dlight/session_20230824161233-638675 (datta-realtime1)/depth.dat\n",
      "Submitted batch job 18136305\n",
      "extracting: /n/groups/datta/win/longtogeny/dlight/session_20230824164701-370175 (datta-realtime1)/depth.dat\n",
      "Submitted batch job 18136308\n",
      "extracting: /n/groups/datta/win/longtogeny/dlight/session_20230824172208-658594 (datta-realtime1)/depth.dat\n",
      "Submitted batch job 18136309\n",
      "extracting: /n/groups/datta/win/longtogeny/dlight/session_20230824175551-186582 (datta-realtime1)/depth.dat\n",
      "Submitted batch job 18136311\n",
      "extracting: /n/groups/datta/win/longtogeny/dlight/session_20230824183342-762532 (datta-realtime1)/depth.dat\n",
      "Submitted batch job 18136313\n",
      "extracting: /n/groups/datta/win/longtogeny/dlight/session_20230824190742-606563 (datta-realtime1)/depth.dat\n",
      "Submitted batch job 18136314\n",
      "extracting: /n/groups/datta/win/longtogeny/dlight/session_20230824194209-110656 (datta-realtime1)/depth.dat\n",
      "Submitted batch job 18136315\n",
      "extracting: /n/groups/datta/win/longtogeny/dlight/session_20230825175848-342759 (datta-realtime1)/depth.dat\n",
      "Submitted batch job 18136318\n",
      "extracting: /n/groups/datta/win/longtogeny/dlight/session_20230825183243-713856 (datta-realtime1)/depth.dat\n",
      "Submitted batch job 18136319\n",
      "extracting: /n/groups/datta/win/longtogeny/dlight/session_20230825190755-846694 (datta-realtime1)/depth.dat\n",
      "Submitted batch job 18136320\n",
      "extracting: /n/groups/datta/win/longtogeny/dlight/session_20230825194402-474529 (datta-realtime1)/depth.dat\n",
      "Submitted batch job 18136322\n",
      "extracting: /n/groups/datta/win/longtogeny/dlight/session_20230828130328-740094 (datta-realtime1)/depth.dat\n",
      "Submitted batch job 18136324\n",
      "extracting: /n/groups/datta/win/longtogeny/dlight/session_20230828133950-394709 (datta-realtime1)/depth.dat\n",
      "Submitted batch job 18136325\n",
      "extracting: /n/groups/datta/win/longtogeny/dlight/session_20230828141656-346663 (datta-realtime1)/depth.dat\n",
      "Submitted batch job 18136326\n",
      "extracting: /n/groups/datta/win/longtogeny/dlight/session_20230828145257-642690 (datta-realtime1)/depth.dat\n",
      "Submitted batch job 18136328\n",
      "extracting: /n/groups/datta/win/longtogeny/dlight/session_20230828152926-206669 (datta-realtime1)/depth.dat\n",
      "Submitted batch job 18136330\n",
      "extracting: /n/groups/datta/win/longtogeny/dlight/session_20230828164002-249214 (datta-realtime1)/depth.dat\n",
      "Submitted batch job 18136332\n",
      "extracting: /n/groups/datta/win/longtogeny/dlight/session_20230828171450-950683 (datta-realtime1)/depth.dat\n",
      "Submitted batch job 18136334\n",
      "extracting: /n/groups/datta/win/longtogeny/dlight/session_20230828175334-942639 (datta-realtime1)/depth.dat\n",
      "Submitted batch job 18136335\n",
      "extracting: /n/groups/datta/win/longtogeny/dlight/session_20230828182944-534511 (datta-realtime1)/depth.dat\n",
      "Submitted batch job 18136336\n",
      "extracting: /n/groups/datta/win/longtogeny/dlight/session_20230828190514-182738 (datta-realtime1)/depth.dat\n",
      "Submitted batch job 18136339\n",
      "extracting: /n/groups/datta/win/longtogeny/dlight/session_20230828194156-106692 (datta-realtime1)/depth.dat\n",
      "Submitted batch job 18136341\n",
      "extracting: /n/groups/datta/win/longtogeny/dlight/session_20230828201712-036987 (datta-realtime1)/depth.dat\n",
      "Submitted batch job 18136343\n",
      "extracting: /n/groups/datta/win/longtogeny/dlight/session_20230829125217-746589 (datta-realtime1)/depth.dat\n",
      "Submitted batch job 18136344\n",
      "extracting: /n/groups/datta/win/longtogeny/dlight/session_20230829141628-418699 (datta-realtime1)/depth.dat\n",
      "Submitted batch job 18136345\n",
      "extracting: /n/groups/datta/win/longtogeny/dlight/session_20230829145352-910668 (datta-realtime1)/depth.dat\n",
      "Submitted batch job 18136346\n",
      "extracting: /n/groups/datta/win/longtogeny/dlight/session_20230829154424-246534 (datta-realtime1)/depth.dat\n",
      "Submitted batch job 18136347\n",
      "extracting: /n/groups/datta/win/longtogeny/dlight/session_20230829162302-450670 (datta-realtime1)/depth.dat\n",
      "Submitted batch job 18136348\n",
      "extracting: /n/groups/datta/win/longtogeny/dlight/session_20230830134845-450793 (datta-realtime1)/depth.dat\n",
      "Submitted batch job 18136350\n",
      "extracting: /n/groups/datta/win/longtogeny/dlight/session_20230830142603-222513 (datta-realtime1)/depth.dat\n",
      "Submitted batch job 18136352\n",
      "extracting: /n/groups/datta/win/longtogeny/dlight/session_20230830152054-118603 (datta-realtime1)/depth.dat\n",
      "Submitted batch job 18136353\n",
      "extracting: /n/groups/datta/win/longtogeny/dlight/session_20230830155626-258731 (datta-realtime1)/depth.dat\n",
      "Submitted batch job 18136355\n",
      "extracting: /n/groups/datta/win/longtogeny/dlight/session_20230830163131-530624 (datta-realtime1)/depth.dat\n",
      "Submitted batch job 18136357\n",
      "extracting: /n/groups/datta/win/longtogeny/dlight/session_20230831131708-371041 (datta-realtime1)/depth.dat\n",
      "Submitted batch job 18136358\n",
      "extracting: /n/groups/datta/win/longtogeny/dlight/session_20230831135259-046596 (datta-realtime1)/depth.dat\n",
      "Submitted batch job 18136359\n",
      "extracting: /n/groups/datta/win/longtogeny/dlight/session_20230901113213-718732 (datta-realtime1)/depth.dat\n",
      "Submitted batch job 18136362\n",
      "extracting: /n/groups/datta/win/longtogeny/dlight/session_20230901121116-726699 (datta-realtime1)/depth.dat\n",
      "Submitted batch job 18136363\n",
      "extracting: /n/groups/datta/win/longtogeny/dlight/session_20230901124912-246794 (datta-realtime1)/depth.dat\n",
      "Submitted batch job 18136364\n",
      "extracting: /n/groups/datta/win/longtogeny/dlight/session_20230901132457-526694 (datta-realtime1)/depth.dat\n",
      "Submitted batch job 18136366\n",
      "extracting: /n/groups/datta/win/longtogeny/dlight/session_20230901140317-438665 (datta-realtime1)/depth.dat\n",
      "Submitted batch job 18136368\n",
      "extracting: /n/groups/datta/win/longtogeny/dlight/session_20230901144628-794690 (datta-realtime1)/depth.dat\n",
      "Submitted batch job 18136369\n",
      "extracting: /n/groups/datta/win/longtogeny/dlight/session_20230901152904-334666 (datta-realtime1)/depth.dat\n",
      "Submitted batch job 18136370\n",
      "extracting: /n/groups/datta/win/longtogeny/dlight/session_20230905141011-534667 (datta-realtime1)/depth.dat\n",
      "Submitted batch job 18136372\n",
      "extracting: /n/groups/datta/win/longtogeny/dlight/session_20230905144643-671230 (datta-realtime1)/depth.dat\n",
      "Submitted batch job 18136374\n",
      "extracting: /n/groups/datta/win/longtogeny/dlight/session_20230905152341-006552 (datta-realtime1)/depth.dat\n",
      "Submitted batch job 18136375\n",
      "extracting: /n/groups/datta/win/longtogeny/dlight/session_20230905155926-942308 (datta-realtime1)/depth.dat\n",
      "Submitted batch job 18136376\n",
      "extracting: /n/groups/datta/win/longtogeny/dlight/session_20230905160147-478672 (datta-realtime1)/depth.dat\n",
      "Submitted batch job 18136377\n",
      "extracting: /n/groups/datta/win/longtogeny/dlight/session_20230906143719-582325 (datta-realtime1)/depth.dat\n",
      "Submitted batch job 18136378\n",
      "extracting: /n/groups/datta/win/longtogeny/dlight/session_20230906144121-278227 (datta-realtime1)/depth.dat\n",
      "Submitted batch job 18136379\n",
      "extracting: /n/groups/datta/win/longtogeny/dlight/session_20230911125814-151542 (datta-realtime1)/depth.dat\n",
      "Submitted batch job 18136380\n",
      "extracting: /n/groups/datta/win/longtogeny/dlight/session_20230911133617-446223 (datta-realtime1)/depth.dat\n",
      "Submitted batch job 18136381\n",
      "extracting: /n/groups/datta/win/longtogeny/dlight/session_20230911142049-286260 (datta-realtime1)/depth.dat\n",
      "Submitted batch job 18136382\n",
      "extracting: /n/groups/datta/win/longtogeny/dlight/session_20230912125623-034961 (datta-realtime1)/depth.dat\n",
      "Submitted batch job 18136383\n",
      "extracting: /n/groups/datta/win/longtogeny/dlight/session_20230912133214-882976 (datta-realtime1)/depth.dat\n",
      "Submitted batch job 18136384\n",
      "extracting: /n/groups/datta/win/longtogeny/dlight/session_20230913133010-706783 (datta-realtime1)/depth.dat\n",
      "Submitted batch job 18136385\n",
      "extracting: /n/groups/datta/win/longtogeny/dlight/session_20230913140358-970976 (datta-realtime1)/depth.dat\n",
      "Submitted batch job 18136386\n",
      "extracting: /n/groups/datta/win/longtogeny/dlight/session_20230913144225-742834 (datta-realtime1)/depth.dat\n",
      "Submitted batch job 18136389\n",
      "extracting: /n/groups/datta/win/longtogeny/dlight/session_20230913151742-842845 (datta-realtime1)/depth.dat\n",
      "Submitted batch job 18136390\n",
      "extracting: /n/groups/datta/win/longtogeny/dlight/session_20230914142630-758814 (datta-realtime1)/depth.dat\n",
      "Submitted batch job 18136391\n",
      "extracting: /n/groups/datta/win/longtogeny/dlight/session_20230914150123-904638 (datta-realtime1)/depth.dat\n",
      "Submitted batch job 18136392\n"
     ]
    }
   ],
   "source": [
    "files = multi_filter(not_extracted, no_depth_doubles, seq=depth_files)\n",
    "\n",
    "for f in tqdm(files):\n",
    "    # skip avi files that have a dat copy - meaning just use dat copy for extractions\n",
    "    print('extracting:', f)\n",
    "    new_script = script.format(user_pth=f\"{user[0]}/{user}\", file_path=str(f.absolute()))\n",
    "    with open(\"tmp.sh\", \"w\") as f:\n",
    "        f.write(new_script)\n",
    "\n",
    "    !sbatch tmp.sh\n",
    "!rm tmp.sh"
   ]
  },
  {
   "cell_type": "markdown",
   "id": "713d508a-8c69-423e-942a-7bf071e9095e",
   "metadata": {},
   "source": [
    "## Copy photometry files to behavior folder"
   ]
  },
  {
   "cell_type": "code",
   "execution_count": 7,
   "id": "f243df3e-ba6e-4462-8412-a8668ee765b4",
   "metadata": {},
   "outputs": [],
   "source": [
    "def parse_session(filepath):\n",
    "    folder = filepath.name.split(\" \")[0]\n",
    "    time = datetime.datetime.strptime(folder, \"session_%Y%m%d%H%M%S-%f\")\n",
    "    return time\n",
    "\n",
    "\n",
    "def parse_photometry(filepath):\n",
    "    file = filepath.name.split(\".dat\")[0]\n",
    "    time = datetime.datetime.strptime(file, \"tdt_data_%Y%m%d%H%M%S\")\n",
    "    return time"
   ]
  },
  {
   "cell_type": "code",
   "execution_count": 10,
   "id": "f8b4fe3f-619c-449b-b2f4-6b6658392dac",
   "metadata": {
    "tags": []
   },
   "outputs": [],
   "source": [
    "def is_appropriate_size(file: Path):\n",
    "    size = file.stat().st_size / 1024 / 1024  # megabytes\n",
    "    return size > 50"
   ]
  },
  {
   "cell_type": "code",
   "execution_count": 13,
   "id": "489ea2b4-a51f-4d9c-8f5c-87ec29896c18",
   "metadata": {
    "tags": []
   },
   "outputs": [],
   "source": [
    "def check_animal(beh_folder: Path, tdt_file: Path):\n",
    "    tdt_json = tdt_file.with_suffix(\".json\")\n",
    "    beh_json = beh_folder / \"metadata.json\"\n",
    "    with open(tdt_json, \"r\") as f:\n",
    "        tdt_data = json.load(f)\n",
    "    with open(beh_json, \"r\") as f:\n",
    "        beh_data = json.load(f)\n",
    "    tdt_name = tdt_data[\"metadata\"][\"subject_name\"]\n",
    "    beh_name = beh_data[\"SubjectName\"]\n",
    "    tdt_name_parts = tdt_name.split(\"-\")\n",
    "    beh_name_parts = beh_name.split(\"-\")\n",
    "    if any((tdt_name_parts[0] != beh_name_parts[0], tdt_name_parts[-1] != beh_name_parts[-1])):\n",
    "        print(\"tdt\", tdt_name, \"beh\", beh_name)\n",
    "        return False\n",
    "    else:\n",
    "        return True"
   ]
  },
  {
   "cell_type": "code",
   "execution_count": 11,
   "id": "6a8a0ce0-031e-4fc0-8c99-9c29cfe94674",
   "metadata": {
    "tags": []
   },
   "outputs": [],
   "source": [
    "tdt_files = sorted(filter(is_appropriate_size, photometry_folder.glob(\"tdt*.dat\")))"
   ]
  },
  {
   "cell_type": "code",
   "execution_count": 12,
   "id": "fc16cfec-2efa-464d-afd2-c47470b01522",
   "metadata": {
    "tags": []
   },
   "outputs": [
    {
     "data": {
      "text/plain": [
       "169"
      ]
     },
     "execution_count": 12,
     "metadata": {},
     "output_type": "execute_result"
    }
   ],
   "source": [
    "len(tdt_files)"
   ]
  },
  {
   "cell_type": "code",
   "execution_count": 17,
   "id": "47df1522-1787-4209-8a24-19823d2a853b",
   "metadata": {},
   "outputs": [],
   "source": [
    "tdt_times = np.array([parse_photometry(f) for f in tdt_files])\n",
    "beh_times = np.array([parse_session(f) for f in map(lambda x: x.parent, depth_files)])"
   ]
  },
  {
   "cell_type": "code",
   "execution_count": 19,
   "id": "0a6e5dc2-c616-4eac-b2af-2b1a947e46bb",
   "metadata": {
    "tags": []
   },
   "outputs": [
    {
     "data": {
      "application/vnd.jupyter.widget-view+json": {
       "model_id": "dde300ca25614884a1cca484e8bade33",
       "version_major": 2,
       "version_minor": 0
      },
      "text/plain": [
       "  0%|          | 0/174 [00:00<?, ?it/s]"
      ]
     },
     "metadata": {},
     "output_type": "display_data"
    },
    {
     "name": "stdout",
     "output_type": "stream",
     "text": [
      "tdt 98w-3 beh 98w-2\n",
      "tdt 52w-4 beh 12w-3\n",
      "tdt 98w-3 beh 98w-4\n",
      "tdt 98w-5 beh 52w-5\n",
      "tdt 98w-5 beh 52w-5\n"
     ]
    }
   ],
   "source": [
    "unmatched_tdt = []\n",
    "matched_tdt = []\n",
    "\n",
    "for idx, t in enumerate(tqdm(beh_times)):\n",
    "    delta = t - tdt_times\n",
    "    if not any([d.days == 0 for d in delta]):\n",
    "        continue\n",
    "    i = np.argmin(np.abs(delta))\n",
    "    if not tdt_files[i].with_suffix(\".json\").exists():\n",
    "        print('error: no json file')\n",
    "        continue\n",
    "    is_same_animal = check_animal(depth_files[idx].parent, tdt_files[i])\n",
    "    new_tdt = depth_files[idx].parent / tdt_files[i].name\n",
    "    if is_same_animal and not new_tdt.exists():\n",
    "        shutil.copy(tdt_files[i], new_tdt)\n",
    "        json_file = tdt_files[i].with_suffix(\".json\")\n",
    "        shutil.copy(json_file, new_tdt.with_suffix(\".json\"))\n",
    "        matched_tdt.append(tdt_files[i])\n",
    "    elif is_same_animal:\n",
    "        matched_tdt.append(tdt_files[i])\n",
    "    else:\n",
    "        unmatched_tdt.append(tdt_files[i])"
   ]
  },
  {
   "cell_type": "markdown",
   "id": "70b263d8-e475-4542-bf2c-4cc8ece24be6",
   "metadata": {},
   "source": [
    "## Align TDT recordings to behavior"
   ]
  },
  {
   "cell_type": "code",
   "execution_count": 23,
   "id": "5b2be859-d2bc-488d-9a24-06cd775c73bc",
   "metadata": {
    "tags": []
   },
   "outputs": [],
   "source": [
    "def folder_filter(path: Path, out_file: Path):\n",
    "    out_file_exists = not out_file.exists()\n",
    "\n",
    "    dat_file_exists = (path / \"ir.dat\").exists()\n",
    "    avi_file_exists = (path / \"ir.avi\").exists()\n",
    "    mov_file_exists = any((dat_file_exists, avi_file_exists))\n",
    "\n",
    "    tdt_file_exists = len(sorted(path.glob(\"tdt*.dat\"))) > 0\n",
    "    return all((out_file_exists, mov_file_exists, tdt_file_exists))"
   ]
  },
  {
   "cell_type": "code",
   "execution_count": 20,
   "id": "dcfe6c21-8824-46e1-88cd-798973c7a77a",
   "metadata": {
    "tags": []
   },
   "outputs": [],
   "source": [
    "led_sync_kws = dict(\n",
    "    median_winsize=6,\n",
    "    threshold_scale=1.1,\n",
    "    mode_winsize=9,\n",
    ")"
   ]
  },
  {
   "cell_type": "code",
   "execution_count": 21,
   "id": "95dbffd1-2728-46e7-b4cb-28e668547def",
   "metadata": {
    "tags": []
   },
   "outputs": [],
   "source": [
    "script = '''#!/bin/env python\n",
    "#SBATCH -c 2\n",
    "#SBATCH -n 1\n",
    "#SBATCH --mem=25G\n",
    "#SBATCH -p short\n",
    "#SBATCH -t 0:45:00\n",
    "#SBATCH --mail-type=END\n",
    "#SBATCH --mail-user=wgillis@g.harvard.edu\n",
    "#SBATCH --output=\"{}\"\n",
    "\n",
    "import pandas as pd\n",
    "from rl_analysis.rl_photometry.align import align_photometry_to_behavior_v2\n",
    "\n",
    "df, alignment_pred = align_photometry_to_behavior_v2(\"{}\", led_sync_kws={led_sync_kws})\n",
    "\n",
    "df['start_time'] = pd.to_datetime(df['start_time'])\n",
    "df.to_parquet(\"{}\")\n",
    "\n",
    "alignment_pred.to_parquet(\"{}\")\n",
    "'''"
   ]
  },
  {
   "cell_type": "code",
   "execution_count": 30,
   "id": "75267266-4041-40a3-981b-6f504179838d",
   "metadata": {
    "collapsed": true,
    "jupyter": {
     "outputs_hidden": true
    },
    "tags": []
   },
   "outputs": [
    {
     "name": "stdout",
     "output_type": "stream",
     "text": [
      "Submitted batch job 18225426\n",
      "Submitted batch job 18225428\n",
      "Submitted batch job 18225429\n",
      "Submitted batch job 18225430\n",
      "Submitted batch job 18225433\n",
      "Submitted batch job 18225434\n",
      "Submitted batch job 18225435\n",
      "Submitted batch job 18225438\n",
      "Submitted batch job 18225439\n",
      "Submitted batch job 18225620\n",
      "Submitted batch job 18225622\n",
      "Submitted batch job 18225623\n",
      "Submitted batch job 18225624\n",
      "Submitted batch job 18225626\n",
      "Submitted batch job 18225628\n",
      "Submitted batch job 18225629\n",
      "Submitted batch job 18225631\n",
      "Submitted batch job 18225633\n",
      "Submitted batch job 18225634\n",
      "Submitted batch job 18225636\n",
      "Submitted batch job 18225638\n",
      "Submitted batch job 18225639\n",
      "Submitted batch job 18225642\n",
      "Submitted batch job 18225643\n",
      "Submitted batch job 18225644\n",
      "Submitted batch job 18225647\n",
      "Submitted batch job 18225648\n",
      "Submitted batch job 18225649\n",
      "Submitted batch job 18225651\n",
      "Submitted batch job 18225653\n",
      "Submitted batch job 18225654\n",
      "Submitted batch job 18225656\n",
      "Submitted batch job 18225658\n",
      "Submitted batch job 18225659\n",
      "Submitted batch job 18225661\n",
      "Submitted batch job 18225663\n",
      "Submitted batch job 18225664\n",
      "Submitted batch job 18225665\n",
      "Submitted batch job 18225668\n",
      "Submitted batch job 18225669\n",
      "Submitted batch job 18225670\n",
      "Submitted batch job 18225673\n",
      "Submitted batch job 18225674\n",
      "Submitted batch job 18225675\n",
      "Submitted batch job 18225678\n",
      "Submitted batch job 18225679\n",
      "Submitted batch job 18225680\n",
      "Submitted batch job 18225683\n",
      "Submitted batch job 18225684\n",
      "Submitted batch job 18225685\n",
      "Submitted batch job 18225687\n",
      "Submitted batch job 18225689\n",
      "Submitted batch job 18225690\n",
      "Submitted batch job 18225691\n",
      "Submitted batch job 18225694\n",
      "Submitted batch job 18225695\n",
      "Submitted batch job 18225696\n",
      "Submitted batch job 18225698\n",
      "Submitted batch job 18225700\n",
      "Submitted batch job 18225701\n",
      "Submitted batch job 18225702\n",
      "Submitted batch job 18225705\n",
      "Submitted batch job 18225706\n",
      "Submitted batch job 18225707\n",
      "Submitted batch job 18225709\n",
      "Submitted batch job 18225711\n",
      "Submitted batch job 18225712\n",
      "Submitted batch job 18225713\n",
      "Submitted batch job 18225716\n",
      "Submitted batch job 18225717\n",
      "Submitted batch job 18225718\n",
      "Submitted batch job 18225721\n",
      "Submitted batch job 18225722\n",
      "Submitted batch job 18225723\n",
      "Submitted batch job 18225726\n",
      "Submitted batch job 18225727\n",
      "Submitted batch job 18225728\n",
      "Submitted batch job 18225730\n",
      "Submitted batch job 18225732\n",
      "Submitted batch job 18225733\n",
      "Submitted batch job 18225734\n",
      "Submitted batch job 18225737\n",
      "Submitted batch job 18225738\n",
      "Submitted batch job 18225739\n",
      "Submitted batch job 18225742\n",
      "Submitted batch job 18225743\n",
      "Submitted batch job 18225744\n",
      "Submitted batch job 18225746\n",
      "Submitted batch job 18225748\n",
      "Submitted batch job 18225749\n",
      "Submitted batch job 18225751\n",
      "Submitted batch job 18225753\n",
      "Submitted batch job 18225754\n",
      "Submitted batch job 18225755\n",
      "Submitted batch job 18225758\n",
      "Submitted batch job 18225759\n",
      "Submitted batch job 18225760\n",
      "Submitted batch job 18225762\n",
      "Submitted batch job 18225764\n",
      "Submitted batch job 18225765\n",
      "Submitted batch job 18225766\n",
      "Submitted batch job 18225768\n",
      "Submitted batch job 18225770\n",
      "Submitted batch job 18225771\n",
      "Submitted batch job 18225773\n",
      "Submitted batch job 18225775\n",
      "Submitted batch job 18225776\n",
      "Submitted batch job 18225777\n",
      "Submitted batch job 18225780\n",
      "Submitted batch job 18225781\n",
      "Submitted batch job 18225782\n",
      "Submitted batch job 18225785\n",
      "Submitted batch job 18225786\n",
      "Submitted batch job 18225787\n",
      "Submitted batch job 18225789\n",
      "Submitted batch job 18225791\n",
      "Submitted batch job 18225792\n",
      "Submitted batch job 18225794\n",
      "Submitted batch job 18225796\n",
      "Submitted batch job 18225797\n",
      "Submitted batch job 18225798\n",
      "Submitted batch job 18225801\n",
      "Submitted batch job 18225802\n",
      "Submitted batch job 18225804\n",
      "Submitted batch job 18225806\n",
      "Submitted batch job 18225807\n",
      "Submitted batch job 18225808\n",
      "Submitted batch job 18225811\n",
      "Submitted batch job 18225812\n",
      "Submitted batch job 18225813\n",
      "Submitted batch job 18225815\n",
      "Submitted batch job 18225817\n",
      "Submitted batch job 18225818\n",
      "Submitted batch job 18225819\n",
      "Submitted batch job 18225822\n",
      "Submitted batch job 18225823\n",
      "Submitted batch job 18225824\n",
      "Submitted batch job 18225826\n",
      "Submitted batch job 18225828\n",
      "Submitted batch job 18225829\n",
      "Submitted batch job 18225830\n",
      "Submitted batch job 18225832\n",
      "Submitted batch job 18225834\n",
      "Submitted batch job 18225835\n",
      "Submitted batch job 18225836\n",
      "Submitted batch job 18225839\n",
      "Submitted batch job 18225840\n",
      "Submitted batch job 18225842\n",
      "Submitted batch job 18225844\n",
      "Submitted batch job 18225845\n",
      "Submitted batch job 18225846\n",
      "Submitted batch job 18225849\n",
      "Submitted batch job 18225850\n",
      "Submitted batch job 18225851\n",
      "Submitted batch job 18225853\n",
      "Submitted batch job 18225855\n",
      "Submitted batch job 18225856\n",
      "Submitted batch job 18225857\n",
      "Submitted batch job 18225860\n",
      "Submitted batch job 18225861\n",
      "Submitted batch job 18225862\n"
     ]
    }
   ],
   "source": [
    "for session in map(lambda f: f.parent, depth_files):\n",
    "    out_file = session / \"photometry_df_v2.parquet\"\n",
    "    alignment_file = session / \"alignment_df.parquet\"\n",
    "    if folder_filter(session, out_file):\n",
    "        new_script = script.format(\n",
    "            session / \"photometry_alignment_v2_%j.out\",\n",
    "            session,\n",
    "            out_file,\n",
    "            alignment_file,\n",
    "            led_sync_kws=led_sync_kws,\n",
    "        )\n",
    "\n",
    "        with open(\"tmp.py\", \"w\") as f:\n",
    "            f.write(new_script)\n",
    "\n",
    "        st = os.stat(\"tmp.py\")\n",
    "        os.chmod(\"tmp.py\", st.st_mode | stat.S_IEXEC)\n",
    "\n",
    "        !sbatch tmp.py\n",
    "!rm tmp.py"
   ]
  },
  {
   "cell_type": "code",
   "execution_count": null,
   "id": "20bd5b98-e27a-4e86-abd2-274bb4ed56e2",
   "metadata": {},
   "outputs": [],
   "source": []
  }
 ],
 "metadata": {
  "kernelspec": {
   "display_name": "Ontogeny",
   "language": "python",
   "name": "aging"
  },
  "language_info": {
   "codemirror_mode": {
    "name": "ipython",
    "version": 3
   },
   "file_extension": ".py",
   "mimetype": "text/x-python",
   "name": "python",
   "nbconvert_exporter": "python",
   "pygments_lexer": "ipython3",
   "version": "3.10.10"
  },
  "widgets": {
   "application/vnd.jupyter.widget-state+json": {
    "state": {
     "06613b6e8ee945debcabb1b78aa5f22b": {
      "model_module": "@jupyter-widgets/controls",
      "model_module_version": "2.0.0",
      "model_name": "HTMLModel",
      "state": {
       "layout": "IPY_MODEL_479f7f719f074a12a5462e1bf8dc2620",
       "style": "IPY_MODEL_143e78cbb0664ac188f79e7b501d0d8d",
       "value": " 174/174 [10:35&lt;00:00,  5.19s/it]"
      }
     },
     "0e7290634a8048669e64a0bf8d24ea6f": {
      "model_module": "@jupyter-widgets/base",
      "model_module_version": "2.0.0",
      "model_name": "LayoutModel",
      "state": {}
     },
     "143e78cbb0664ac188f79e7b501d0d8d": {
      "model_module": "@jupyter-widgets/controls",
      "model_module_version": "2.0.0",
      "model_name": "HTMLStyleModel",
      "state": {
       "description_width": "",
       "font_size": null,
       "text_color": null
      }
     },
     "479f7f719f074a12a5462e1bf8dc2620": {
      "model_module": "@jupyter-widgets/base",
      "model_module_version": "2.0.0",
      "model_name": "LayoutModel",
      "state": {}
     },
     "91b28a2854c34f9b81910303112bf0b9": {
      "model_module": "@jupyter-widgets/controls",
      "model_module_version": "2.0.0",
      "model_name": "ProgressStyleModel",
      "state": {
       "description_width": ""
      }
     },
     "a13b78d41ab94965ad1711f573732d2d": {
      "model_module": "@jupyter-widgets/controls",
      "model_module_version": "2.0.0",
      "model_name": "HTMLModel",
      "state": {
       "layout": "IPY_MODEL_f797aa3ac1814611a86b99ec5ef74626",
       "style": "IPY_MODEL_cc4bae60d6d44bc0bf0d9f2db5b3542c",
       "value": "100%"
      }
     },
     "cc4bae60d6d44bc0bf0d9f2db5b3542c": {
      "model_module": "@jupyter-widgets/controls",
      "model_module_version": "2.0.0",
      "model_name": "HTMLStyleModel",
      "state": {
       "description_width": "",
       "font_size": null,
       "text_color": null
      }
     },
     "cdfcd451c32948bbb031d2aa458e23c9": {
      "model_module": "@jupyter-widgets/controls",
      "model_module_version": "2.0.0",
      "model_name": "FloatProgressModel",
      "state": {
       "bar_style": "success",
       "layout": "IPY_MODEL_d117eed4cd754022b5e2138e09d3d824",
       "max": 174,
       "style": "IPY_MODEL_91b28a2854c34f9b81910303112bf0b9",
       "value": 174
      }
     },
     "d117eed4cd754022b5e2138e09d3d824": {
      "model_module": "@jupyter-widgets/base",
      "model_module_version": "2.0.0",
      "model_name": "LayoutModel",
      "state": {}
     },
     "dde300ca25614884a1cca484e8bade33": {
      "model_module": "@jupyter-widgets/controls",
      "model_module_version": "2.0.0",
      "model_name": "HBoxModel",
      "state": {
       "children": [
        "IPY_MODEL_a13b78d41ab94965ad1711f573732d2d",
        "IPY_MODEL_cdfcd451c32948bbb031d2aa458e23c9",
        "IPY_MODEL_06613b6e8ee945debcabb1b78aa5f22b"
       ],
       "layout": "IPY_MODEL_0e7290634a8048669e64a0bf8d24ea6f"
      }
     },
     "f797aa3ac1814611a86b99ec5ef74626": {
      "model_module": "@jupyter-widgets/base",
      "model_module_version": "2.0.0",
      "model_name": "LayoutModel",
      "state": {}
     }
    },
    "version_major": 2,
    "version_minor": 0
   }
  }
 },
 "nbformat": 4,
 "nbformat_minor": 5
}
