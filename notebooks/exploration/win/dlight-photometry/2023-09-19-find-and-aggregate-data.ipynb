{
 "cells": [
  {
   "cell_type": "markdown",
   "id": "d7e05446-3165-44fa-8f8e-0aae7eaa2157",
   "metadata": {},
   "source": [
    "# Gather all the data\n",
    "\n",
    "- depth files\n",
    "- tdt files"
   ]
  },
  {
   "cell_type": "code",
   "execution_count": 1,
   "id": "328bb30a-bd5c-4ac8-9147-dbf739243b93",
   "metadata": {
    "tags": []
   },
   "outputs": [],
   "source": [
    "import os\n",
    "import h5py\n",
    "import stat\n",
    "import json\n",
    "import shutil\n",
    "import datetime\n",
    "import numpy as np\n",
    "import pandas as pd\n",
    "from ruamel.yaml import YAML\n",
    "from pathlib import Path\n",
    "from toolz import compose, curry\n",
    "from tqdm.auto import tqdm"
   ]
  },
  {
   "cell_type": "code",
   "execution_count": 2,
   "id": "7ef9461a-036c-466b-949c-f630c344ce2c",
   "metadata": {
    "tags": []
   },
   "outputs": [],
   "source": [
    "photometry_folder = Path('/n/groups/datta/win/longtogeny/dlight')\n",
    "behavior_folder = Path('/n/groups/datta/win/longtogeny/dlight')"
   ]
  },
  {
   "cell_type": "code",
   "execution_count": 3,
   "id": "bf486657-2a0e-4fde-a675-eb70552b7ec4",
   "metadata": {
    "tags": []
   },
   "outputs": [],
   "source": [
    "depth_files = sorted(behavior_folder.glob('**/depth.*'))"
   ]
  },
  {
   "cell_type": "markdown",
   "id": "309b5ef2-ab51-4a11-a771-9bc3715415b7",
   "metadata": {},
   "source": [
    "## Extract data"
   ]
  },
  {
   "cell_type": "code",
   "execution_count": 4,
   "id": "43f20837-a508-44ff-8801-50480a96867e",
   "metadata": {
    "tags": []
   },
   "outputs": [],
   "source": [
    "def not_extracted(file):\n",
    "    yaml = YAML(typ='safe', pure=True)\n",
    "    if file.name.endswith('filepart'):\n",
    "        return False\n",
    "\n",
    "    if extracted := (file.parent / \"proc\" / \"results_00.h5\").exists():\n",
    "        try:\n",
    "            with h5py.File(file.parent / \"proc\" / \"results_00.h5\", \"r\") as h5f:\n",
    "                list(h5f)\n",
    "        except Exception as e:\n",
    "            print(e)\n",
    "            return True\n",
    "        with open(file.parent / \"proc\" / \"results_00.yaml\", \"r\") as conf_f:\n",
    "            config = yaml.load(conf_f)\n",
    "        extracted = config[\"complete\"]\n",
    "    # TODO: make sure extraction is newer than 5/30/2023\n",
    "    return not extracted\n",
    "\n",
    "\n",
    "def no_depth_doubles(file):\n",
    "    return not (file.name.endswith(\"avi\") and file.with_suffix(\".dat\").exists())\n",
    "\n",
    "\n",
    "def multi_filter(*filters, seq):\n",
    "    return compose(*(curry(filter)(f) for f in filters))(seq)"
   ]
  },
  {
   "cell_type": "code",
   "execution_count": 5,
   "id": "f2b8780b-0687-4471-9968-5b2efca97519",
   "metadata": {
    "tags": []
   },
   "outputs": [],
   "source": [
    "user = os.environ['USER']"
   ]
  },
  {
   "cell_type": "code",
   "execution_count": 6,
   "id": "21e5d4e7-07e1-4a5e-84cd-516fabd8e97c",
   "metadata": {
    "tags": []
   },
   "outputs": [],
   "source": [
    "script = '''#!/bin/env bash\n",
    "#SBATCH -c 1\n",
    "#SBATCH -n 1\n",
    "#SBATCH --mem=10G\n",
    "#SBATCH -p short\n",
    "#SBATCH -t 00:40:00\n",
    "#SBATCH --output=/n/scratch3/users/{user_pth}/tmp/ontogeny/dlight-depth-extraction-%j.out\n",
    "\n",
    "source $HOME/.bashrc\n",
    "conda activate moseq2-app\n",
    "moseq2-extract extract \"{file_path}\" --config-file \"/n/groups/datta/win/longtogeny/data/extractions/config.yaml\"\n",
    "'''"
   ]
  },
  {
   "cell_type": "code",
   "execution_count": 12,
   "id": "877d0c00-87d9-4d56-83ab-06d7e07094b8",
   "metadata": {
    "scrolled": true,
    "tags": []
   },
   "outputs": [
    {
     "data": {
      "application/vnd.jupyter.widget-view+json": {
       "model_id": "edbc211633f24a6c854abbdeb338eded",
       "version_major": 2,
       "version_minor": 0
      },
      "text/plain": [
       "0it [00:00, ?it/s]"
      ]
     },
     "metadata": {},
     "output_type": "display_data"
    },
    {
     "name": "stdout",
     "output_type": "stream",
     "text": [
      "extracting: /n/groups/datta/win/longtogeny/dlight/session_20240411133150-029204 (datta-realtime1)/depth.avi\n",
      "Submitted batch job 46544822\n",
      "extracting: /n/groups/datta/win/longtogeny/dlight/session_20240411144109-706839 (datta-realtime1)/depth.avi\n",
      "Submitted batch job 46544918\n",
      "extracting: /n/groups/datta/win/longtogeny/dlight/session_20240411151727-255016 (datta-realtime1)/depth.avi\n",
      "Submitted batch job 46544921\n",
      "extracting: /n/groups/datta/win/longtogeny/dlight/session_20240411155402-721981 (datta-realtime1)/depth.avi\n",
      "Submitted batch job 46544924\n",
      "extracting: /n/groups/datta/win/longtogeny/dlight/session_20240411162938-306900 (datta-realtime1)/depth.avi\n",
      "Submitted batch job 46544927\n",
      "extracting: /n/groups/datta/win/longtogeny/dlight/session_20240411170358-670997 (datta-realtime1)/depth.avi\n",
      "Submitted batch job 46544930\n",
      "extracting: /n/groups/datta/win/longtogeny/dlight/session_20240411174821-158437 (datta-realtime1)/depth.avi\n",
      "Submitted batch job 46544934\n",
      "extracting: /n/groups/datta/win/longtogeny/dlight/session_20240411182530-311036 (datta-realtime1)/depth.avi\n",
      "Submitted batch job 46544937\n",
      "extracting: /n/groups/datta/win/longtogeny/dlight/session_20240412112351-435045 (datta-realtime1)/depth.avi\n",
      "Submitted batch job 46544940\n",
      "extracting: /n/groups/datta/win/longtogeny/dlight/session_20240412120151-062964 (datta-realtime1)/depth.avi\n",
      "Submitted batch job 46544944\n",
      "extracting: /n/groups/datta/win/longtogeny/dlight/session_20240412123714-610888 (datta-realtime1)/depth.avi\n",
      "Submitted batch job 46544947\n",
      "extracting: /n/groups/datta/win/longtogeny/dlight/session_20240412131453-933021 (datta-realtime1)/depth.avi\n",
      "Submitted batch job 46544950\n",
      "extracting: /n/groups/datta/win/longtogeny/dlight/session_20240412140554-246909 (datta-realtime1)/depth.avi\n",
      "Submitted batch job 46544952\n",
      "extracting: /n/groups/datta/win/longtogeny/dlight/session_20240412144445-618794 (datta-realtime1)/depth.avi\n",
      "Submitted batch job 46544954\n",
      "extracting: /n/groups/datta/win/longtogeny/dlight/session_20240412151856-122697 (datta-realtime1)/depth.avi\n",
      "Submitted batch job 46544956\n",
      "extracting: /n/groups/datta/win/longtogeny/dlight/session_20240412155525-755032 (datta-realtime1)/depth.avi\n",
      "Submitted batch job 46544958\n",
      "extracting: /n/groups/datta/win/longtogeny/dlight/session_20240412163028-580872 (datta-realtime1)/depth.avi\n",
      "Submitted batch job 46544960\n",
      "extracting: /n/groups/datta/win/longtogeny/dlight/session_20240412171914-378859 (datta-realtime1)/depth.avi\n",
      "Submitted batch job 46544962\n",
      "extracting: /n/groups/datta/win/longtogeny/dlight/session_20240416123211-423051 (datta-realtime1)/depth.avi\n",
      "Submitted batch job 46544964\n",
      "extracting: /n/groups/datta/win/longtogeny/dlight/session_20240416130729-292483 (datta-realtime1)/depth.avi\n",
      "Submitted batch job 46544966\n",
      "extracting: /n/groups/datta/win/longtogeny/dlight/session_20240416134310-778869 (datta-realtime1)/depth.avi\n",
      "Submitted batch job 46544968\n",
      "extracting: /n/groups/datta/win/longtogeny/dlight/session_20240416141849-126899 (datta-realtime1)/depth.avi\n",
      "Submitted batch job 46544970\n",
      "extracting: /n/groups/datta/win/longtogeny/dlight/session_20240416145513-846890 (datta-realtime1)/depth.avi\n",
      "Submitted batch job 46544972\n",
      "extracting: /n/groups/datta/win/longtogeny/dlight/session_20240416153050-162733 (datta-realtime1)/depth.avi\n",
      "Submitted batch job 46544974\n",
      "extracting: /n/groups/datta/win/longtogeny/dlight/session_20240416161202-122855 (datta-realtime1)/depth.avi\n",
      "Submitted batch job 46544976\n",
      "extracting: /n/groups/datta/win/longtogeny/dlight/session_20240416164726-446892 (datta-realtime1)/depth.avi\n",
      "Submitted batch job 46544978\n",
      "extracting: /n/groups/datta/win/longtogeny/dlight/session_20240416172634-686908 (datta-realtime1)/depth.avi\n",
      "Submitted batch job 46544980\n",
      "extracting: /n/groups/datta/win/longtogeny/dlight/session_20240416180102-027061 (datta-realtime1)/depth.avi\n",
      "Submitted batch job 46544983\n",
      "extracting: /n/groups/datta/win/longtogeny/dlight/session_20240417151433-400436 (datta-realtime1)/depth.avi\n",
      "Submitted batch job 46544985\n",
      "extracting: /n/groups/datta/win/longtogeny/dlight/session_20240417160837-597623 (datta-realtime1)/depth.avi\n",
      "Submitted batch job 46544987\n",
      "extracting: /n/groups/datta/win/longtogeny/dlight/session_20240417164251-131083 (datta-realtime1)/depth.avi\n",
      "Submitted batch job 46544989\n",
      "extracting: /n/groups/datta/win/longtogeny/dlight/session_20240417171904-083050 (datta-realtime1)/depth.avi\n",
      "Submitted batch job 46544991\n",
      "extracting: /n/groups/datta/win/longtogeny/dlight/session_20240417175702-491065 (datta-realtime1)/depth.avi\n",
      "Submitted batch job 46544993\n",
      "extracting: /n/groups/datta/win/longtogeny/dlight/session_20240419112831-374749 (datta-realtime1)/depth.avi\n",
      "Submitted batch job 46544995\n",
      "extracting: /n/groups/datta/win/longtogeny/dlight/session_20240419120331-299037 (datta-realtime1)/depth.avi\n",
      "Submitted batch job 46544999\n",
      "extracting: /n/groups/datta/win/longtogeny/dlight/session_20240419125247-909191 (datta-realtime1)/depth.avi\n",
      "Submitted batch job 46545002\n",
      "extracting: /n/groups/datta/win/longtogeny/dlight/session_20240419133148-045503 (datta-realtime1)/depth.avi\n",
      "Submitted batch job 46545006\n",
      "extracting: /n/groups/datta/win/longtogeny/dlight/session_20240419141105-290885 (datta-realtime1)/depth.avi\n",
      "Submitted batch job 46545009\n",
      "extracting: /n/groups/datta/win/longtogeny/dlight/session_20240419144639-443001 (datta-realtime1)/depth.avi\n",
      "Submitted batch job 46545011\n",
      "extracting: /n/groups/datta/win/longtogeny/dlight/session_20240419152103-467012 (datta-realtime1)/depth.avi\n",
      "Submitted batch job 46545015\n",
      "extracting: /n/groups/datta/win/longtogeny/dlight/session_20240419160152-133675 (datta-realtime1)/depth.avi\n",
      "Submitted batch job 46545018\n",
      "extracting: /n/groups/datta/win/longtogeny/dlight/session_20240419163604-138791 (datta-realtime1)/depth.avi\n",
      "Submitted batch job 46545020\n",
      "extracting: /n/groups/datta/win/longtogeny/dlight/session_20240420125137-562941 (datta-realtime1)/depth.avi\n",
      "Submitted batch job 46545023\n",
      "extracting: /n/groups/datta/win/longtogeny/dlight/session_20240420132901-034690 (datta-realtime1)/depth.avi\n",
      "Submitted batch job 46545027\n",
      "extracting: /n/groups/datta/win/longtogeny/dlight/session_20240420140921-880535 (datta-realtime1)/depth.avi\n",
      "Submitted batch job 46545030\n",
      "extracting: /n/groups/datta/win/longtogeny/dlight/session_20240420145227-490924 (datta-realtime1)/depth.avi\n",
      "Submitted batch job 46545034\n",
      "extracting: /n/groups/datta/win/longtogeny/dlight/session_20240420153002-714931 (datta-realtime1)/depth.avi\n",
      "Submitted batch job 46545037\n",
      "extracting: /n/groups/datta/win/longtogeny/dlight/session_20240420161149-821237 (datta-realtime1)/depth.avi\n",
      "Submitted batch job 46545040\n",
      "extracting: /n/groups/datta/win/longtogeny/dlight/session_20240420164840-132743 (datta-realtime1)/depth.avi\n",
      "Submitted batch job 46545043\n",
      "extracting: /n/groups/datta/win/longtogeny/dlight/session_20240420172648-874909 (datta-realtime1)/depth.avi\n",
      "Submitted batch job 46545045\n",
      "extracting: /n/groups/datta/win/longtogeny/dlight/session_20240420173042-181983 (datta-realtime1)/depth.avi\n",
      "Submitted batch job 46545048\n",
      "extracting: /n/groups/datta/win/longtogeny/dlight/session_20240420180609-682921 (datta-realtime1)/depth.avi\n",
      "Submitted batch job 46545050\n",
      "extracting: /n/groups/datta/win/longtogeny/dlight/session_20240422112735-723025 (datta-realtime1)/depth.avi\n",
      "Submitted batch job 46545054\n",
      "extracting: /n/groups/datta/win/longtogeny/dlight/session_20240422120351-523057 (datta-realtime1)/depth.avi\n",
      "Submitted batch job 46545057\n",
      "extracting: /n/groups/datta/win/longtogeny/dlight/session_20240422124135-923063 (datta-realtime1)/depth.avi\n",
      "Submitted batch job 46545060\n",
      "extracting: /n/groups/datta/win/longtogeny/dlight/session_20240422132334-775010 (datta-realtime1)/depth.avi\n",
      "Submitted batch job 46545062\n",
      "extracting: /n/groups/datta/win/longtogeny/dlight/session_20240422140222-466900 (datta-realtime1)/depth.avi\n",
      "Submitted batch job 46545065\n",
      "extracting: /n/groups/datta/win/longtogeny/dlight/session_20240422144035-770934 (datta-realtime1)/depth.avi\n",
      "Submitted batch job 46545068\n",
      "extracting: /n/groups/datta/win/longtogeny/dlight/session_20240422151513-674957 (datta-realtime1)/depth.avi\n",
      "Submitted batch job 46545070\n",
      "extracting: /n/groups/datta/win/longtogeny/dlight/session_20240422154907-826870 (datta-realtime1)/depth.avi\n",
      "Submitted batch job 46545073\n",
      "extracting: /n/groups/datta/win/longtogeny/dlight/session_20240422162305-451359 (datta-realtime1)/depth.avi\n",
      "Submitted batch job 46545076\n",
      "extracting: /n/groups/datta/win/longtogeny/dlight/session_20240423131156-130937 (datta-realtime1)/depth.avi\n",
      "Submitted batch job 46545078\n",
      "extracting: /n/groups/datta/win/longtogeny/dlight/session_20240423134655-698962 (datta-realtime1)/depth.avi\n",
      "Submitted batch job 46545082\n",
      "extracting: /n/groups/datta/win/longtogeny/dlight/session_20240423142840-664149 (datta-realtime1)/depth.avi\n",
      "Submitted batch job 46545086\n",
      "extracting: /n/groups/datta/win/longtogeny/dlight/session_20240423150403-654963 (datta-realtime1)/depth.avi\n",
      "Submitted batch job 46545089\n",
      "extracting: /n/groups/datta/win/longtogeny/dlight/session_20240423154554-664947 (datta-realtime1)/depth.avi\n",
      "Submitted batch job 46545091\n",
      "extracting: /n/groups/datta/win/longtogeny/dlight/session_20240423162534-368386 (datta-realtime1)/depth.avi\n",
      "Submitted batch job 46545094\n",
      "extracting: /n/groups/datta/win/longtogeny/dlight/session_20240423170451-023022 (datta-realtime1)/depth.avi\n",
      "Submitted batch job 46545096\n",
      "extracting: /n/groups/datta/win/longtogeny/dlight/session_20240423174132-911093 (datta-realtime1)/depth.avi\n",
      "Submitted batch job 46545098\n",
      "extracting: /n/groups/datta/win/longtogeny/dlight/session_20240423181946-367025 (datta-realtime1)/depth.avi\n",
      "Submitted batch job 46545101\n",
      "extracting: /n/groups/datta/win/longtogeny/dlight/session_20240424105058-223059 (datta-realtime1)/depth.avi\n",
      "Submitted batch job 46545104\n",
      "extracting: /n/groups/datta/win/longtogeny/dlight/session_20240424112822-447662 (datta-realtime1)/depth.avi\n",
      "Submitted batch job 46545108\n",
      "extracting: /n/groups/datta/win/longtogeny/dlight/session_20240424120326-314953 (datta-realtime1)/depth.avi\n",
      "Submitted batch job 46545111\n",
      "extracting: /n/groups/datta/win/longtogeny/dlight/session_20240424123731-235018 (datta-realtime1)/depth.avi\n",
      "Submitted batch job 46545113\n",
      "extracting: /n/groups/datta/win/longtogeny/dlight/session_20240424131202-242997 (datta-realtime1)/depth.avi\n",
      "Submitted batch job 46545117\n",
      "extracting: /n/groups/datta/win/longtogeny/dlight/session_20240424135041-588269 (datta-realtime1)/depth.avi\n",
      "Submitted batch job 46545120\n",
      "extracting: /n/groups/datta/win/longtogeny/dlight/session_20240424150341-135048 (datta-realtime1)/depth.avi\n",
      "Submitted batch job 46545124\n",
      "extracting: /n/groups/datta/win/longtogeny/dlight/session_20240424154304-208319 (datta-realtime1)/depth.avi\n",
      "Submitted batch job 46545128\n",
      "extracting: /n/groups/datta/win/longtogeny/dlight/session_20240424161926-703006 (datta-realtime1)/depth.avi\n",
      "Submitted batch job 46545129\n",
      "extracting: /n/groups/datta/win/longtogeny/dlight/session_20240424165413-210407 (datta-realtime1)/depth.avi\n",
      "Submitted batch job 46545133\n",
      "extracting: /n/groups/datta/win/longtogeny/dlight/session_20240425111229-119134 (datta-realtime1)/depth.avi\n",
      "Submitted batch job 46545137\n",
      "extracting: /n/groups/datta/win/longtogeny/dlight/session_20240425115240-394961 (datta-realtime1)/depth.avi\n",
      "Submitted batch job 46545142\n",
      "extracting: /n/groups/datta/win/longtogeny/dlight/session_20240425122818-931091 (datta-realtime1)/depth.avi\n",
      "Submitted batch job 46545145\n",
      "extracting: /n/groups/datta/win/longtogeny/dlight/session_20240425130355-347068 (datta-realtime1)/depth.avi\n",
      "Submitted batch job 46545151\n",
      "extracting: /n/groups/datta/win/longtogeny/dlight/session_20240425133947-890932 (datta-realtime1)/depth.avi\n",
      "Submitted batch job 46545155\n",
      "extracting: /n/groups/datta/win/longtogeny/dlight/session_20240425142010-202916 (datta-realtime1)/depth.avi\n",
      "Submitted batch job 46545158\n",
      "extracting: /n/groups/datta/win/longtogeny/dlight/session_20240425151018-951017 (datta-realtime1)/depth.avi\n",
      "Submitted batch job 46545166\n",
      "extracting: /n/groups/datta/win/longtogeny/dlight/session_20240425155155-888381 (datta-realtime1)/depth.avi\n",
      "Submitted batch job 46545173\n",
      "extracting: /n/groups/datta/win/longtogeny/dlight/session_20240425162937-730875 (datta-realtime1)/depth.avi\n",
      "Submitted batch job 46545178\n",
      "extracting: /n/groups/datta/win/longtogeny/dlight/session_20240425170701-311031 (datta-realtime1)/depth.avi\n",
      "Submitted batch job 46545183\n",
      "extracting: /n/groups/datta/win/longtogeny/dlight/session_20240425174337-647049 (datta-realtime1)/depth.avi\n",
      "Submitted batch job 46545190\n",
      "extracting: /n/groups/datta/win/longtogeny/dlight/session_20240425181851-359038 (datta-realtime1)/depth.avi\n",
      "Submitted batch job 46545197\n",
      "extracting: /n/groups/datta/win/longtogeny/dlight/session_20240425185416-494981 (datta-realtime1)/depth.avi\n",
      "Submitted batch job 46545202\n",
      "extracting: /n/groups/datta/win/longtogeny/dlight/session_20240425193040-798872 (datta-realtime1)/depth.avi\n",
      "Submitted batch job 46545212\n",
      "extracting: /n/groups/datta/win/longtogeny/dlight/session_20240426113253-031058 (datta-realtime1)/depth.avi\n",
      "Submitted batch job 46545219\n",
      "extracting: /n/groups/datta/win/longtogeny/dlight/session_20240426121312-358329 (datta-realtime1)/depth.avi\n",
      "Submitted batch job 46545224\n",
      "extracting: /n/groups/datta/win/longtogeny/dlight/session_20240426125102-499034 (datta-realtime1)/depth.avi\n",
      "Submitted batch job 46545227\n",
      "extracting: /n/groups/datta/win/longtogeny/dlight/session_20240426132627-555088 (datta-realtime1)/depth.avi\n",
      "Submitted batch job 46545230\n",
      "extracting: /n/groups/datta/win/longtogeny/dlight/session_20240426140207-274900 (datta-realtime1)/depth.avi\n",
      "Submitted batch job 46545234\n",
      "extracting: /n/groups/datta/win/longtogeny/dlight/session_20240426143622-567071 (datta-realtime1)/depth.avi\n",
      "Submitted batch job 46545238\n",
      "extracting: /n/groups/datta/win/longtogeny/dlight/session_20240426151313-103000 (datta-realtime1)/depth.avi\n",
      "Submitted batch job 46545241\n",
      "extracting: /n/groups/datta/win/longtogeny/dlight/session_20240426155327-307069 (datta-realtime1)/depth.avi\n",
      "Submitted batch job 46545244\n",
      "extracting: /n/groups/datta/win/longtogeny/dlight/session_20240426162941-838890 (datta-realtime1)/depth.avi\n",
      "Submitted batch job 46545247\n",
      "extracting: /n/groups/datta/win/longtogeny/dlight/session_20240426173950-295059 (datta-realtime1)/depth.avi\n",
      "Submitted batch job 46545250\n",
      "extracting: /n/groups/datta/win/longtogeny/dlight/session_20240428113526-575015 (datta-realtime1)/depth.avi\n",
      "Submitted batch job 46545253\n",
      "extracting: /n/groups/datta/win/longtogeny/dlight/session_20240428121113-855127 (datta-realtime1)/depth.avi\n",
      "Submitted batch job 46545257\n",
      "extracting: /n/groups/datta/win/longtogeny/dlight/session_20240428124711-899031 (datta-realtime1)/depth.avi\n",
      "Submitted batch job 46545260\n",
      "extracting: /n/groups/datta/win/longtogeny/dlight/session_20240428132246-482927 (datta-realtime1)/depth.avi\n",
      "Submitted batch job 46545264\n",
      "extracting: /n/groups/datta/win/longtogeny/dlight/session_20240428135849-924871 (datta-realtime1)/depth.avi\n",
      "Submitted batch job 46545267\n",
      "extracting: /n/groups/datta/win/longtogeny/dlight/session_20240428143539-308236 (datta-realtime1)/depth.avi\n",
      "Submitted batch job 46545269\n",
      "extracting: /n/groups/datta/win/longtogeny/dlight/session_20240428151119-095102 (datta-realtime1)/depth.avi\n",
      "Submitted batch job 46545271\n",
      "extracting: /n/groups/datta/win/longtogeny/dlight/session_20240428154706-605912 (datta-realtime1)/depth.avi\n",
      "Submitted batch job 46545273\n",
      "extracting: /n/groups/datta/win/longtogeny/dlight/session_20240428162159-947031 (datta-realtime1)/depth.avi\n",
      "Submitted batch job 46545275\n",
      "extracting: /n/groups/datta/win/longtogeny/dlight/session_20240428165740-410997 (datta-realtime1)/depth.avi\n",
      "Submitted batch job 46545277\n",
      "extracting: /n/groups/datta/win/longtogeny/dlight/session_20240428173347-994902 (datta-realtime1)/depth.avi\n",
      "Submitted batch job 46545279\n",
      "extracting: /n/groups/datta/win/longtogeny/dlight/session_20240428180901-719027 (datta-realtime1)/depth.avi\n",
      "Submitted batch job 46545281\n",
      "extracting: /n/groups/datta/win/longtogeny/dlight/session_20240429112208-503435 (datta-realtime1)/depth.avi\n",
      "Submitted batch job 46545284\n",
      "extracting: /n/groups/datta/win/longtogeny/dlight/session_20240429115740-134488 (datta-realtime1)/depth.avi\n",
      "Submitted batch job 46545286\n",
      "extracting: /n/groups/datta/win/longtogeny/dlight/session_20240429123425-951134 (datta-realtime1)/depth.avi\n",
      "Submitted batch job 46545289\n",
      "extracting: /n/groups/datta/win/longtogeny/dlight/session_20240429131352-255074 (datta-realtime1)/depth.avi\n",
      "Submitted batch job 46545291\n",
      "extracting: /n/groups/datta/win/longtogeny/dlight/session_20240429135145-622989 (datta-realtime1)/depth.avi\n",
      "Submitted batch job 46545293\n",
      "extracting: /n/groups/datta/win/longtogeny/dlight/session_20240429142727-647040 (datta-realtime1)/depth.avi\n",
      "Submitted batch job 46545295\n",
      "extracting: /n/groups/datta/win/longtogeny/dlight/session_20240429150522-768359 (datta-realtime1)/depth.avi\n",
      "Submitted batch job 46545297\n",
      "extracting: /n/groups/datta/win/longtogeny/dlight/session_20240429154028-127030 (datta-realtime1)/depth.avi\n",
      "Submitted batch job 46545299\n",
      "extracting: /n/groups/datta/win/longtogeny/dlight/session_20240430112730-817756 (datta-realtime1)/depth.avi\n",
      "Submitted batch job 46545302\n",
      "extracting: /n/groups/datta/win/longtogeny/dlight/session_20240430120335-982853 (datta-realtime1)/depth.avi\n",
      "Submitted batch job 46545304\n",
      "extracting: /n/groups/datta/win/longtogeny/dlight/session_20240430124345-586970 (datta-realtime1)/depth.avi\n",
      "Submitted batch job 46545306\n",
      "extracting: /n/groups/datta/win/longtogeny/dlight/session_20240430132405-960449 (datta-realtime1)/depth.avi\n",
      "Submitted batch job 46545308\n",
      "extracting: /n/groups/datta/win/longtogeny/dlight/session_20240430140012-163023 (datta-realtime1)/depth.avi\n",
      "Submitted batch job 46545310\n",
      "extracting: /n/groups/datta/win/longtogeny/dlight/session_20240430143540-462949 (datta-realtime1)/depth.avi\n",
      "Submitted batch job 46545312\n",
      "extracting: /n/groups/datta/win/longtogeny/dlight/session_20240430151226-239080 (datta-realtime1)/depth.avi\n",
      "Submitted batch job 46545314\n",
      "extracting: /n/groups/datta/win/longtogeny/dlight/session_20240430154622-188575 (datta-realtime1)/depth.avi\n",
      "Submitted batch job 46545316\n",
      "extracting: /n/groups/datta/win/longtogeny/dlight/session_20240430162247-420377 (datta-realtime1)/depth.avi\n",
      "Submitted batch job 46545318\n",
      "extracting: /n/groups/datta/win/longtogeny/dlight/session_20240430165837-738930 (datta-realtime1)/depth.avi\n",
      "Submitted batch job 46545320\n",
      "extracting: /n/groups/datta/win/longtogeny/dlight/session_20240430173356-691083 (datta-realtime1)/depth.avi\n",
      "Submitted batch job 46545321\n",
      "extracting: /n/groups/datta/win/longtogeny/dlight/session_20240501105709-839029 (datta-realtime1)/depth.avi\n",
      "Submitted batch job 46545322\n",
      "extracting: /n/groups/datta/win/longtogeny/dlight/session_20240501113642-851189 (datta-realtime1)/depth.avi\n",
      "Submitted batch job 46545323\n",
      "extracting: /n/groups/datta/win/longtogeny/dlight/session_20240501121238-847090 (datta-realtime1)/depth.avi\n",
      "Submitted batch job 46545324\n",
      "extracting: /n/groups/datta/win/longtogeny/dlight/session_20240501125520-523020 (datta-realtime1)/depth.avi\n",
      "Submitted batch job 46545326\n",
      "extracting: /n/groups/datta/win/longtogeny/dlight/session_20240501133047-366928 (datta-realtime1)/depth.avi\n",
      "Submitted batch job 46545327\n",
      "extracting: /n/groups/datta/win/longtogeny/dlight/session_20240501140647-415013 (datta-realtime1)/depth.avi\n",
      "Submitted batch job 46545328\n",
      "extracting: /n/groups/datta/win/longtogeny/dlight/session_20240501144144-430861 (datta-realtime1)/depth.avi\n",
      "Submitted batch job 46545329\n",
      "extracting: /n/groups/datta/win/longtogeny/dlight/session_20240501151725-810878 (datta-realtime1)/depth.avi\n",
      "Submitted batch job 46545330\n",
      "extracting: /n/groups/datta/win/longtogeny/dlight/session_20240501155346-955047 (datta-realtime1)/depth.avi\n",
      "Submitted batch job 46545331\n",
      "extracting: /n/groups/datta/win/longtogeny/dlight/session_20240502111914-642103 (datta-realtime1)/depth.avi\n",
      "Submitted batch job 46545332\n",
      "extracting: /n/groups/datta/win/longtogeny/dlight/session_20240502115811-635057 (datta-realtime1)/depth.avi\n",
      "Submitted batch job 46545334\n",
      "extracting: /n/groups/datta/win/longtogeny/dlight/session_20240502123251-423084 (datta-realtime1)/depth.avi\n",
      "Submitted batch job 46545336\n",
      "extracting: /n/groups/datta/win/longtogeny/dlight/session_20240502131616-072733 (datta-realtime1)/depth.avi\n",
      "Submitted batch job 46545338\n",
      "extracting: /n/groups/datta/win/longtogeny/dlight/session_20240502135714-703075 (datta-realtime1)/depth.avi\n",
      "Submitted batch job 46545340\n",
      "extracting: /n/groups/datta/win/longtogeny/dlight/session_20240502143752-079889 (datta-realtime1)/depth.avi\n",
      "Submitted batch job 46545342\n",
      "extracting: /n/groups/datta/win/longtogeny/dlight/session_20240502151209-867030 (datta-realtime1)/depth.avi\n",
      "Submitted batch job 46545343\n",
      "extracting: /n/groups/datta/win/longtogeny/dlight/session_20240502154935-551052 (datta-realtime1)/depth.avi\n",
      "Submitted batch job 46545345\n",
      "extracting: /n/groups/datta/win/longtogeny/dlight/session_20240502162714-634446 (datta-realtime1)/depth.avi\n",
      "Submitted batch job 46545347\n",
      "extracting: /n/groups/datta/win/longtogeny/dlight/session_20240502170208-054683 (datta-realtime1)/depth.avi\n",
      "Submitted batch job 46545349\n",
      "extracting: /n/groups/datta/win/longtogeny/dlight/session_20240502173909-547068 (datta-realtime1)/depth.avi\n",
      "Submitted batch job 46545351\n",
      "extracting: /n/groups/datta/win/longtogeny/dlight/session_20240503113336-181239 (datta-realtime1)/depth.avi\n",
      "Submitted batch job 46545352\n",
      "extracting: /n/groups/datta/win/longtogeny/dlight/session_20240503120921-859019 (datta-realtime1)/depth.avi\n",
      "Submitted batch job 46545354\n",
      "extracting: /n/groups/datta/win/longtogeny/dlight/session_20240503125419-379044 (datta-realtime1)/depth.avi\n",
      "Submitted batch job 46545355\n",
      "extracting: /n/groups/datta/win/longtogeny/dlight/session_20240503133526-834969 (datta-realtime1)/depth.avi\n",
      "Submitted batch job 46545357\n",
      "extracting: /n/groups/datta/win/longtogeny/dlight/session_20240503141317-698874 (datta-realtime1)/depth.avi\n",
      "Submitted batch job 46545359\n",
      "extracting: /n/groups/datta/win/longtogeny/dlight/session_20240503145028-707012 (datta-realtime1)/depth.avi\n",
      "Submitted batch job 46545360\n",
      "extracting: /n/groups/datta/win/longtogeny/dlight/session_20240503152803-963093 (datta-realtime1)/depth.avi\n",
      "Submitted batch job 46545362\n",
      "extracting: /n/groups/datta/win/longtogeny/dlight/session_20240503160332-839070 (datta-realtime1)/depth.avi\n",
      "Submitted batch job 46545364\n",
      "extracting: /n/groups/datta/win/longtogeny/dlight/session_20240503164311-651028 (datta-realtime1)/depth.avi\n",
      "Submitted batch job 46545365\n",
      "extracting: /n/groups/datta/win/longtogeny/dlight/session_20240503173013-981203 (datta-realtime1)/depth.avi\n",
      "Submitted batch job 46545367\n",
      "extracting: /n/groups/datta/win/longtogeny/dlight/session_20240503180622-202925 (datta-realtime1)/depth.avi\n",
      "Submitted batch job 46545368\n",
      "extracting: /n/groups/datta/win/longtogeny/dlight/session_20240504114401-262982 (datta-realtime1)/depth.avi\n",
      "Submitted batch job 46545370\n",
      "extracting: /n/groups/datta/win/longtogeny/dlight/session_20240504122756-405367 (datta-realtime1)/depth.avi\n",
      "Submitted batch job 46545371\n",
      "extracting: /n/groups/datta/win/longtogeny/dlight/session_20240504130440-079400 (datta-realtime1)/depth.avi\n",
      "Submitted batch job 46545373\n",
      "extracting: /n/groups/datta/win/longtogeny/dlight/session_20240504134019-143117 (datta-realtime1)/depth.avi\n",
      "Submitted batch job 46545375\n",
      "extracting: /n/groups/datta/win/longtogeny/dlight/session_20240504141509-671045 (datta-realtime1)/depth.avi\n",
      "Submitted batch job 46545376\n",
      "extracting: /n/groups/datta/win/longtogeny/dlight/session_20240504145200-283080 (datta-realtime1)/depth.avi\n",
      "Submitted batch job 46545378\n",
      "extracting: /n/groups/datta/win/longtogeny/dlight/session_20240504153321-567053 (datta-realtime1)/depth.avi\n",
      "Submitted batch job 46545380\n",
      "extracting: /n/groups/datta/win/longtogeny/dlight/session_20240504160835-522882 (datta-realtime1)/depth.avi\n",
      "Submitted batch job 46545383\n",
      "extracting: /n/groups/datta/win/longtogeny/dlight/session_20240504164418-967056 (datta-realtime1)/depth.avi\n",
      "Submitted batch job 46545385\n",
      "extracting: /n/groups/datta/win/longtogeny/dlight/session_20240504172127-299081 (datta-realtime1)/depth.avi\n",
      "Submitted batch job 46545387\n",
      "extracting: /n/groups/datta/win/longtogeny/dlight/session_20240504175646-607189 (datta-realtime1)/depth.avi\n",
      "Submitted batch job 46545389\n",
      "extracting: /n/groups/datta/win/longtogeny/dlight/session_20240505114954-518011 (datta-realtime1)/depth.avi\n",
      "Submitted batch job 46545390\n",
      "extracting: /n/groups/datta/win/longtogeny/dlight/session_20240505122418-706963 (datta-realtime1)/depth.avi\n",
      "Submitted batch job 46545392\n",
      "extracting: /n/groups/datta/win/longtogeny/dlight/session_20240505130447-928177 (datta-realtime1)/depth.avi\n",
      "Submitted batch job 46545394\n",
      "extracting: /n/groups/datta/win/longtogeny/dlight/session_20240505134239-446982 (datta-realtime1)/depth.avi\n",
      "Submitted batch job 46545395\n",
      "extracting: /n/groups/datta/win/longtogeny/dlight/session_20240505141709-691028 (datta-realtime1)/depth.avi\n",
      "Submitted batch job 46545397\n",
      "extracting: /n/groups/datta/win/longtogeny/dlight/session_20240505145225-642989 (datta-realtime1)/depth.avi\n",
      "Submitted batch job 46545398\n",
      "extracting: /n/groups/datta/win/longtogeny/dlight/session_20240505152859-563031 (datta-realtime1)/depth.avi\n",
      "Submitted batch job 46545400\n",
      "extracting: /n/groups/datta/win/longtogeny/dlight/session_20240505160348-438938 (datta-realtime1)/depth.avi\n",
      "Submitted batch job 46545402\n",
      "extracting: /n/groups/datta/win/longtogeny/dlight/session_20240505164138-878863 (datta-realtime1)/depth.avi\n",
      "Submitted batch job 46545404\n",
      "extracting: /n/groups/datta/win/longtogeny/dlight/session_20240505171944-519045 (datta-realtime1)/depth.avi\n",
      "Submitted batch job 46545406\n",
      "extracting: /n/groups/datta/win/longtogeny/dlight/session_20240505175753-151109 (datta-realtime1)/depth.avi\n",
      "Submitted batch job 46545408\n",
      "extracting: /n/groups/datta/win/longtogeny/dlight/session_20240506121834-902564 (datta-realtime1)/depth.avi\n",
      "Submitted batch job 46545411\n",
      "extracting: /n/groups/datta/win/longtogeny/dlight/session_20240506125419-732659 (datta-realtime1)/depth.avi\n",
      "Submitted batch job 46545412\n",
      "extracting: /n/groups/datta/win/longtogeny/dlight/session_20240506133127-998836 (datta-realtime1)/depth.avi\n",
      "Submitted batch job 46545414\n",
      "extracting: /n/groups/datta/win/longtogeny/dlight/session_20240506140645-478903 (datta-realtime1)/depth.avi\n",
      "Submitted batch job 46545416\n",
      "extracting: /n/groups/datta/win/longtogeny/dlight/session_20240506144219-051329 (datta-realtime1)/depth.avi\n",
      "Submitted batch job 46545417\n",
      "extracting: /n/groups/datta/win/longtogeny/dlight/session_20240506151846-039078 (datta-realtime1)/depth.avi\n",
      "Submitted batch job 46545419\n",
      "extracting: /n/groups/datta/win/longtogeny/dlight/session_20240507110044-822253 (datta-realtime1)/depth.avi\n",
      "Submitted batch job 46545421\n",
      "extracting: /n/groups/datta/win/longtogeny/dlight/session_20240507113832-459830 (datta-realtime1)/depth.avi\n",
      "Submitted batch job 46545422\n",
      "extracting: /n/groups/datta/win/longtogeny/dlight/session_20240507121501-315017 (datta-realtime1)/depth.avi\n",
      "Submitted batch job 46545424\n",
      "extracting: /n/groups/datta/win/longtogeny/dlight/session_20240507125232-363070 (datta-realtime1)/depth.avi\n",
      "Submitted batch job 46545426\n",
      "extracting: /n/groups/datta/win/longtogeny/dlight/session_20240507132928-579055 (datta-realtime1)/depth.avi\n",
      "Submitted batch job 46545428\n",
      "extracting: /n/groups/datta/win/longtogeny/dlight/session_20240507140347-530861 (datta-realtime1)/depth.avi\n",
      "Submitted batch job 46545429\n",
      "extracting: /n/groups/datta/win/longtogeny/dlight/session_20240507144511-278366 (datta-realtime1)/depth.avi\n",
      "Submitted batch job 46545431\n",
      "extracting: /n/groups/datta/win/longtogeny/dlight/session_20240509115112-369551 (datta-realtime1)/depth.avi\n",
      "Submitted batch job 46545432\n",
      "extracting: /n/groups/datta/win/longtogeny/dlight/session_20240509123101-623006 (datta-realtime1)/depth.avi\n",
      "Submitted batch job 46545434\n",
      "extracting: /n/groups/datta/win/longtogeny/dlight/session_20240509130453-047056 (datta-realtime1)/depth.avi\n",
      "Submitted batch job 46545436\n",
      "extracting: /n/groups/datta/win/longtogeny/dlight/session_20240509134056-793262 (datta-realtime1)/depth.avi\n",
      "Submitted batch job 46545438\n",
      "extracting: /n/groups/datta/win/longtogeny/dlight/session_20240509141513-258905 (datta-realtime1)/depth.avi\n",
      "Submitted batch job 46545440\n",
      "extracting: /n/groups/datta/win/longtogeny/dlight/session_20240509145051-086944 (datta-realtime1)/depth.avi\n",
      "Submitted batch job 46545441\n"
     ]
    }
   ],
   "source": [
    "files = multi_filter(not_extracted, no_depth_doubles, seq=depth_files)\n",
    "\n",
    "for f in tqdm(files):\n",
    "    # skip avi files that have a dat copy - meaning just use dat copy for extractions\n",
    "    print('extracting:', f)\n",
    "    new_script = script.format(user_pth=f\"{user[0]}/{user}\", file_path=str(f.absolute()))\n",
    "    with open(\"tmp.sh\", \"w\") as f:\n",
    "        f.write(new_script)\n",
    "\n",
    "    !sbatch tmp.sh\n",
    "!rm tmp.sh"
   ]
  },
  {
   "cell_type": "markdown",
   "id": "713d508a-8c69-423e-942a-7bf071e9095e",
   "metadata": {},
   "source": [
    "## Copy photometry files to behavior folder"
   ]
  },
  {
   "cell_type": "code",
   "execution_count": 6,
   "id": "f243df3e-ba6e-4462-8412-a8668ee765b4",
   "metadata": {},
   "outputs": [],
   "source": [
    "def parse_session(filepath):\n",
    "    folder = filepath.name.split(\" \")[0]\n",
    "    time = datetime.datetime.strptime(folder, \"session_%Y%m%d%H%M%S-%f\")\n",
    "    return time\n",
    "\n",
    "\n",
    "def parse_photometry(filepath):\n",
    "    file = filepath.name.split(\".dat\")[0]\n",
    "    time = datetime.datetime.strptime(file, \"tdt_data_%Y%m%d%H%M%S\")\n",
    "    return time"
   ]
  },
  {
   "cell_type": "code",
   "execution_count": 7,
   "id": "f8b4fe3f-619c-449b-b2f4-6b6658392dac",
   "metadata": {
    "tags": []
   },
   "outputs": [],
   "source": [
    "def is_appropriate_size(file: Path):\n",
    "    size = file.stat().st_size / 1024 / 1024  # megabytes\n",
    "    return size > 50"
   ]
  },
  {
   "cell_type": "code",
   "execution_count": 8,
   "id": "489ea2b4-a51f-4d9c-8f5c-87ec29896c18",
   "metadata": {
    "tags": []
   },
   "outputs": [],
   "source": [
    "def check_animal(beh_folder: Path, tdt_file: Path):\n",
    "    tdt_json = tdt_file.with_suffix(\".json\")\n",
    "    beh_json = beh_folder / \"metadata.json\"\n",
    "    with open(tdt_json, \"r\") as f:\n",
    "        tdt_data = json.load(f)\n",
    "    with open(beh_json, \"r\") as f:\n",
    "        beh_data = json.load(f)\n",
    "    tdt_name = tdt_data[\"metadata\"][\"subject_name\"]\n",
    "    beh_name = beh_data[\"SubjectName\"]\n",
    "    tdt_name_parts = tdt_name.split(\"-\")\n",
    "    beh_name_parts = beh_name.split(\"-\")\n",
    "    if any((tdt_name_parts[0] != beh_name_parts[0], tdt_name_parts[-1] != beh_name_parts[-1])):\n",
    "        print(\"tdt\", tdt_name, \"beh\", beh_name)\n",
    "        return False\n",
    "    else:\n",
    "        return True"
   ]
  },
  {
   "cell_type": "code",
   "execution_count": 33,
   "id": "6a8a0ce0-031e-4fc0-8c99-9c29cfe94674",
   "metadata": {
    "tags": []
   },
   "outputs": [],
   "source": [
    "tdt_files = sorted(filter(is_appropriate_size, photometry_folder.glob(\"photometry*/tdt*.dat\")))"
   ]
  },
  {
   "cell_type": "code",
   "execution_count": 34,
   "id": "fc16cfec-2efa-464d-afd2-c47470b01522",
   "metadata": {
    "tags": []
   },
   "outputs": [
    {
     "data": {
      "text/plain": [
       "385"
      ]
     },
     "execution_count": 34,
     "metadata": {},
     "output_type": "execute_result"
    }
   ],
   "source": [
    "len(tdt_files)"
   ]
  },
  {
   "cell_type": "code",
   "execution_count": 35,
   "id": "47df1522-1787-4209-8a24-19823d2a853b",
   "metadata": {},
   "outputs": [],
   "source": [
    "tdt_times = np.array([parse_photometry(f) for f in tdt_files])\n",
    "beh_times = np.array([parse_session(f) for f in map(lambda x: x.parent, depth_files)])"
   ]
  },
  {
   "cell_type": "code",
   "execution_count": 36,
   "id": "0a6e5dc2-c616-4eac-b2af-2b1a947e46bb",
   "metadata": {
    "tags": []
   },
   "outputs": [
    {
     "data": {
      "application/vnd.jupyter.widget-view+json": {
       "model_id": "cf9618346c4641de8c84dbd923429d1c",
       "version_major": 2,
       "version_minor": 0
      },
      "text/plain": [
       "  0%|          | 0/381 [00:00<?, ?it/s]"
      ]
     },
     "metadata": {},
     "output_type": "display_data"
    },
    {
     "name": "stdout",
     "output_type": "stream",
     "text": [
      "tdt 98w-3 beh 98w-2\n",
      "tdt 52w-4 beh 12w-3\n",
      "tdt 98w-3 beh 98w-4\n",
      "tdt 98w-5 beh 52w-5\n",
      "tdt 98w-5 beh 52w-5\n",
      "tdt 98w-3 beh 98w-1\n"
     ]
    }
   ],
   "source": [
    "unmatched_tdt = []\n",
    "matched_tdt = []\n",
    "\n",
    "for idx, t in enumerate(tqdm(beh_times)):\n",
    "    delta = t - tdt_times\n",
    "    if not any([d.days == 0 for d in delta]):\n",
    "        continue\n",
    "    i = np.argmin(np.abs(delta))\n",
    "    if not tdt_files[i].with_suffix(\".json\").exists():\n",
    "        print('error: no json file')\n",
    "        continue\n",
    "    is_same_animal = check_animal(depth_files[idx].parent, tdt_files[i])\n",
    "    new_tdt = depth_files[idx].parent / tdt_files[i].name\n",
    "    if is_same_animal and not new_tdt.exists():\n",
    "        shutil.copy(tdt_files[i], new_tdt)\n",
    "        json_file = tdt_files[i].with_suffix(\".json\")\n",
    "        shutil.copy(json_file, new_tdt.with_suffix(\".json\"))\n",
    "        matched_tdt.append(tdt_files[i])\n",
    "    elif is_same_animal:\n",
    "        matched_tdt.append(tdt_files[i])\n",
    "    else:\n",
    "        unmatched_tdt.append(tdt_files[i])"
   ]
  },
  {
   "cell_type": "markdown",
   "id": "70b263d8-e475-4542-bf2c-4cc8ece24be6",
   "metadata": {},
   "source": [
    "## Align TDT recordings to behavior"
   ]
  },
  {
   "cell_type": "code",
   "execution_count": 9,
   "id": "5b2be859-d2bc-488d-9a24-06cd775c73bc",
   "metadata": {
    "tags": []
   },
   "outputs": [],
   "source": [
    "def folder_filter(path: Path, out_file: Path):\n",
    "    out_file_exists = not out_file.exists()\n",
    "\n",
    "    dat_file_exists = (path / \"ir.dat\").exists()\n",
    "    avi_file_exists = (path / \"ir.avi\").exists()\n",
    "    mov_file_exists = any((dat_file_exists, avi_file_exists))\n",
    "\n",
    "    tdt_file_exists = len(sorted(path.glob(\"tdt*.dat\"))) > 0\n",
    "    return all((out_file_exists, mov_file_exists, tdt_file_exists))"
   ]
  },
  {
   "cell_type": "code",
   "execution_count": 38,
   "id": "dcfe6c21-8824-46e1-88cd-798973c7a77a",
   "metadata": {
    "tags": []
   },
   "outputs": [],
   "source": [
    "led_sync_kws = dict(\n",
    "    median_winsize=6,\n",
    "    threshold_scale=1.1,\n",
    "    mode_winsize=9,\n",
    ")"
   ]
  },
  {
   "cell_type": "code",
   "execution_count": 39,
   "id": "95dbffd1-2728-46e7-b4cb-28e668547def",
   "metadata": {
    "tags": []
   },
   "outputs": [],
   "source": [
    "script = '''#!/bin/env python\n",
    "#SBATCH -c 2\n",
    "#SBATCH -n 1\n",
    "#SBATCH --mem=25G\n",
    "#SBATCH -p short\n",
    "#SBATCH -t 0:45:00\n",
    "#SBATCH --mail-type=END\n",
    "#SBATCH --mail-user=wgillis@g.harvard.edu\n",
    "#SBATCH --output=\"{}\"\n",
    "\n",
    "import pandas as pd\n",
    "from rl_analysis.rl_photometry.align import align_photometry_to_behavior_v2\n",
    "\n",
    "df, alignment_pred = align_photometry_to_behavior_v2(\"{}\", led_sync_kws={led_sync_kws})\n",
    "\n",
    "df['start_time'] = pd.to_datetime(df['start_time'])\n",
    "df.to_parquet(\"{}\")\n",
    "\n",
    "alignment_pred.to_parquet(\"{}\")\n",
    "'''"
   ]
  },
  {
   "cell_type": "code",
   "execution_count": null,
   "id": "75267266-4041-40a3-981b-6f504179838d",
   "metadata": {
    "tags": []
   },
   "outputs": [
    {
     "name": "stdout",
     "output_type": "stream",
     "text": [
      "Submitted batch job 46560721\n",
      "Submitted batch job 46560722\n",
      "Submitted batch job 46560724\n",
      "Submitted batch job 46560725\n",
      "Submitted batch job 46560727\n",
      "Submitted batch job 46560729\n",
      "Submitted batch job 46560730\n",
      "Submitted batch job 46560731\n",
      "Submitted batch job 46560732\n",
      "Submitted batch job 46560733\n",
      "Submitted batch job 46560734\n",
      "Submitted batch job 46560735\n",
      "Submitted batch job 46560736\n",
      "Submitted batch job 46560737\n",
      "Submitted batch job 46560738\n",
      "Submitted batch job 46560739\n",
      "Submitted batch job 46560740\n",
      "Submitted batch job 46560741\n",
      "Submitted batch job 46560742\n",
      "Submitted batch job 46560743\n",
      "Submitted batch job 46560744\n",
      "Submitted batch job 46560745\n",
      "Submitted batch job 46560746\n",
      "Submitted batch job 46560747\n",
      "Submitted batch job 46560748\n",
      "Submitted batch job 46560749\n",
      "Submitted batch job 46560750\n",
      "Submitted batch job 46560751\n",
      "Submitted batch job 46560752\n",
      "Submitted batch job 46560753\n",
      "Submitted batch job 46560754\n"
     ]
    }
   ],
   "source": [
    "for session in map(lambda f: f.parent, depth_files):\n",
    "    out_file = session / \"photometry_df_v2.parquet\"\n",
    "    alignment_file = session / \"alignment_df.parquet\"\n",
    "    if folder_filter(session, out_file):\n",
    "        new_script = script.format(\n",
    "            session / \"photometry_alignment_v2_%j.out\",\n",
    "            session,\n",
    "            out_file,\n",
    "            alignment_file,\n",
    "            led_sync_kws=led_sync_kws,\n",
    "        )\n",
    "\n",
    "        with open(\"tmp.py\", \"w\") as f:\n",
    "            f.write(new_script)\n",
    "\n",
    "        st = os.stat(\"tmp.py\")\n",
    "        os.chmod(\"tmp.py\", st.st_mode | stat.S_IEXEC)\n",
    "\n",
    "        !sbatch tmp.py\n",
    "!rm tmp.py"
   ]
  },
  {
   "cell_type": "code",
   "execution_count": null,
   "id": "20bd5b98-e27a-4e86-abd2-274bb4ed56e2",
   "metadata": {},
   "outputs": [],
   "source": []
  },
  {
   "cell_type": "markdown",
   "id": "deee2e37-63a3-4b6c-80b6-190a8930656a",
   "metadata": {},
   "source": [
    "## Merge photometry and behavior"
   ]
  },
  {
   "cell_type": "code",
   "execution_count": 10,
   "id": "1972d077-b2ff-4c22-a55d-5b35232e7bc3",
   "metadata": {
    "tags": []
   },
   "outputs": [],
   "source": [
    "import matplotlib.pyplot as plt\n",
    "from scipy import signal\n",
    "from toolz import partial\n",
    "from aging.dlight.normalize import rolling_fluor_normalization, rereference"
   ]
  },
  {
   "cell_type": "code",
   "execution_count": 24,
   "id": "cc74e484-0eb4-43a6-9611-142d3c33c8f3",
   "metadata": {
    "tags": []
   },
   "outputs": [],
   "source": [
    "pc_scores_file = Path(f'/n/groups/datta/win/longtogeny/data/ontogeny/version_11-1/all_data_pca/pca_scores.h5')\n",
    "syllables_file = pc_scores_file.with_name('syllables.h5')"
   ]
  },
  {
   "cell_type": "code",
   "execution_count": 25,
   "id": "055bcc70-a4d1-452c-bdc1-8a2ac21701a4",
   "metadata": {
    "tags": []
   },
   "outputs": [],
   "source": [
    "h5_files = sorted(behavior_folder.glob('**/results_00.h5'))"
   ]
  },
  {
   "cell_type": "code",
   "execution_count": 26,
   "id": "f17dc1f3-5063-46ff-b925-934e72d4c304",
   "metadata": {
    "tags": []
   },
   "outputs": [],
   "source": [
    "norm_func = partial(rolling_fluor_normalization, window_size=10, quantile=0.5)\n",
    "dff_func = partial(rolling_fluor_normalization, window_size=5, quantile=0.1, normalizer=\"dff\")\n",
    "\n",
    "\n",
    "def filter_signal(v):\n",
    "    sos = signal.butter(2, 3, output=\"sos\", fs=30)\n",
    "    f = signal.sosfiltfilt(sos, v)\n",
    "    return f"
   ]
  },
  {
   "cell_type": "code",
   "execution_count": 27,
   "id": "88856ac1-ec4e-4c3d-a700-8af3b34718ba",
   "metadata": {
    "tags": []
   },
   "outputs": [
    {
     "data": {
      "application/vnd.jupyter.widget-view+json": {
       "model_id": "c23b11cea08540d1b2cfdafc0375edc1",
       "version_major": 2,
       "version_minor": 0
      },
      "text/plain": [
       "  0%|          | 0/555 [00:00<?, ?it/s]"
      ]
     },
     "metadata": {},
     "output_type": "display_data"
    }
   ],
   "source": [
    "concat_phot_df = []\n",
    "for file in tqdm(h5_files):\n",
    "    phot_file = file.parents[1] / \"photometry_df_v2.parquet\"\n",
    "    if not phot_file.exists():\n",
    "        continue\n",
    "    try:\n",
    "        with h5py.File(file, 'r') as h5f:\n",
    "            uuid = h5f['metadata/uuid'][()].decode()\n",
    "            timestamps = h5f['timestamps'][()]\n",
    "        with h5py.File(pc_scores_file, 'r') as pc_h5f:\n",
    "            scores = pc_h5f['scores'][uuid][:, :10]\n",
    "            scores_idx = pc_h5f['scores_idx'][uuid][()]\n",
    "        with h5py.File(syllables_file, 'r') as s_h5f:\n",
    "            syllables = s_h5f[uuid][()]\n",
    "    except KeyError:\n",
    "        continue\n",
    "\n",
    "    phot_df = pd.read_parquet(phot_file)\n",
    "    assert np.all(np.nan_to_num(scores_idx)[:len(phot_df)] == np.nan_to_num(phot_df['ir_indices'].to_numpy()))\n",
    "    phot_df['syllables'] = syllables[:len(phot_df)]\n",
    "    phot_df['uuid'] = uuid\n",
    "\n",
    "    phot_df[\"dlight_dff\"] = dff_func(phot_df[\"pmt00_ref00 (dLight)\"])\n",
    "    phot_df[\"uv_dff\"] = dff_func(phot_df[\"pmt00_ref01 (UV)\"])\n",
    "\n",
    "    msk = ~phot_df[\"uv_dff\"].isna()\n",
    "    if msk.sum() > 1000:\n",
    "        uv_filter = filter_signal(phot_df.loc[msk, \"uv_dff\"])\n",
    "        ref_df = rereference(\n",
    "            pd.Series(uv_filter), phot_df.loc[msk, \"dlight_dff\"], center=True\n",
    "        )\n",
    "        phot_df[\"dlight_reref\"] = ref_df[\"rereference\"]\n",
    "        phot_df[\"uv_reference_fit\"] = ref_df[\"reference_fit\"]\n",
    "        # run robust zscore on rereferenced dlight\n",
    "        phot_df[\"dlight_reref_zscore\"] = norm_func(phot_df[\"dlight_reref\"])\n",
    "        msk2 = ~phot_df[\"dlight_reref_zscore\"].isna()\n",
    "        phot_df.loc[msk2, \"dlight_reref_zscore_filter\"] = filter_signal(\n",
    "            phot_df.loc[msk2, \"dlight_reref_zscore\"]\n",
    "        )\n",
    "\n",
    "    phot_df = phot_df.drop(\n",
    "        columns=[\n",
    "            \"pmt01_ref00\",\n",
    "            \"pmt01_ref01\",\n",
    "            \"pmt00_ref00_robust_dff (dLight)\",\n",
    "            \"pmt00_ref01_robust_dff (UV)\",\n",
    "            \"pmt01_ref00_robust_dff\",\n",
    "            \"pmt01_ref01_robust_dff\",\n",
    "        ]\n",
    "    )\n",
    "    concat_phot_df.append(phot_df)"
   ]
  },
  {
   "cell_type": "code",
   "execution_count": 28,
   "id": "17e9931e-876b-4cdf-b763-041fa4fe466b",
   "metadata": {
    "tags": []
   },
   "outputs": [],
   "source": [
    "concat_phot_df = pd.concat(concat_phot_df, ignore_index=True)"
   ]
  },
  {
   "cell_type": "code",
   "execution_count": 29,
   "id": "33e5ef0d-5000-4283-bca4-902590a0578d",
   "metadata": {
    "tags": []
   },
   "outputs": [
    {
     "data": {
      "text/html": [
       "<div>\n",
       "<style scoped>\n",
       "    .dataframe tbody tr th:only-of-type {\n",
       "        vertical-align: middle;\n",
       "    }\n",
       "\n",
       "    .dataframe tbody tr th {\n",
       "        vertical-align: top;\n",
       "    }\n",
       "\n",
       "    .dataframe thead th {\n",
       "        text-align: right;\n",
       "    }\n",
       "</style>\n",
       "<table border=\"1\" class=\"dataframe\">\n",
       "  <thead>\n",
       "    <tr style=\"text-align: right;\">\n",
       "      <th></th>\n",
       "      <th>pmt00_ref00 (dLight)</th>\n",
       "      <th>pmt00_ref01 (UV)</th>\n",
       "      <th>timestamp</th>\n",
       "      <th>raw_timestamp</th>\n",
       "      <th>fs</th>\n",
       "      <th>ir_indices</th>\n",
       "      <th>subject_name</th>\n",
       "      <th>session_name</th>\n",
       "      <th>start_time</th>\n",
       "      <th>syllables</th>\n",
       "      <th>uuid</th>\n",
       "      <th>dlight_dff</th>\n",
       "      <th>uv_dff</th>\n",
       "      <th>dlight_reref</th>\n",
       "      <th>uv_reference_fit</th>\n",
       "      <th>dlight_reref_zscore</th>\n",
       "      <th>dlight_reref_zscore_filter</th>\n",
       "    </tr>\n",
       "  </thead>\n",
       "  <tbody>\n",
       "    <tr>\n",
       "      <th>0</th>\n",
       "      <td>0.032205</td>\n",
       "      <td>0.013812</td>\n",
       "      <td>0.000000</td>\n",
       "      <td>2.823607e+09</td>\n",
       "      <td>29.962547</td>\n",
       "      <td>0.0</td>\n",
       "      <td>98w-4</td>\n",
       "      <td>dlight-aging</td>\n",
       "      <td>2023-08-07 12:11:31.654885</td>\n",
       "      <td>92</td>\n",
       "      <td>39aadf6c-370c-41cc-99cd-5fe6e18878af</td>\n",
       "      <td>0.010748</td>\n",
       "      <td>0.003174</td>\n",
       "      <td>0.008385</td>\n",
       "      <td>0.002362</td>\n",
       "      <td>0.386749</td>\n",
       "      <td>0.386264</td>\n",
       "    </tr>\n",
       "    <tr>\n",
       "      <th>1</th>\n",
       "      <td>0.032189</td>\n",
       "      <td>0.013818</td>\n",
       "      <td>0.033375</td>\n",
       "      <td>2.823607e+09</td>\n",
       "      <td>29.962547</td>\n",
       "      <td>1.0</td>\n",
       "      <td>98w-4</td>\n",
       "      <td>dlight-aging</td>\n",
       "      <td>2023-08-07 12:11:31.654885</td>\n",
       "      <td>92</td>\n",
       "      <td>39aadf6c-370c-41cc-99cd-5fe6e18878af</td>\n",
       "      <td>0.010231</td>\n",
       "      <td>0.003526</td>\n",
       "      <td>0.009052</td>\n",
       "      <td>0.001179</td>\n",
       "      <td>0.441440</td>\n",
       "      <td>1.019494</td>\n",
       "    </tr>\n",
       "    <tr>\n",
       "      <th>2</th>\n",
       "      <td>0.032540</td>\n",
       "      <td>0.013813</td>\n",
       "      <td>0.066688</td>\n",
       "      <td>2.823608e+09</td>\n",
       "      <td>29.962547</td>\n",
       "      <td>NaN</td>\n",
       "      <td>98w-4</td>\n",
       "      <td>dlight-aging</td>\n",
       "      <td>2023-08-07 12:11:31.654885</td>\n",
       "      <td>92</td>\n",
       "      <td>39aadf6c-370c-41cc-99cd-5fe6e18878af</td>\n",
       "      <td>0.021203</td>\n",
       "      <td>0.003282</td>\n",
       "      <td>0.020677</td>\n",
       "      <td>0.000526</td>\n",
       "      <td>1.327567</td>\n",
       "      <td>1.625018</td>\n",
       "    </tr>\n",
       "    <tr>\n",
       "      <th>3</th>\n",
       "      <td>0.033076</td>\n",
       "      <td>0.013693</td>\n",
       "      <td>0.100000</td>\n",
       "      <td>2.823608e+09</td>\n",
       "      <td>29.962547</td>\n",
       "      <td>2.0</td>\n",
       "      <td>98w-4</td>\n",
       "      <td>dlight-aging</td>\n",
       "      <td>2023-08-07 12:11:31.654885</td>\n",
       "      <td>23</td>\n",
       "      <td>39aadf6c-370c-41cc-99cd-5fe6e18878af</td>\n",
       "      <td>0.037963</td>\n",
       "      <td>-0.005500</td>\n",
       "      <td>0.037004</td>\n",
       "      <td>0.000959</td>\n",
       "      <td>2.572543</td>\n",
       "      <td>2.134613</td>\n",
       "    </tr>\n",
       "    <tr>\n",
       "      <th>4</th>\n",
       "      <td>0.033303</td>\n",
       "      <td>0.013747</td>\n",
       "      <td>0.133313</td>\n",
       "      <td>2.823608e+09</td>\n",
       "      <td>29.962547</td>\n",
       "      <td>NaN</td>\n",
       "      <td>98w-4</td>\n",
       "      <td>dlight-aging</td>\n",
       "      <td>2023-08-07 12:11:31.654885</td>\n",
       "      <td>23</td>\n",
       "      <td>39aadf6c-370c-41cc-99cd-5fe6e18878af</td>\n",
       "      <td>0.045054</td>\n",
       "      <td>-0.001611</td>\n",
       "      <td>0.042285</td>\n",
       "      <td>0.002769</td>\n",
       "      <td>2.991705</td>\n",
       "      <td>2.459852</td>\n",
       "    </tr>\n",
       "  </tbody>\n",
       "</table>\n",
       "</div>"
      ],
      "text/plain": [
       "   pmt00_ref00 (dLight)  pmt00_ref01 (UV)  timestamp  raw_timestamp  \\\n",
       "0              0.032205          0.013812   0.000000   2.823607e+09   \n",
       "1              0.032189          0.013818   0.033375   2.823607e+09   \n",
       "2              0.032540          0.013813   0.066688   2.823608e+09   \n",
       "3              0.033076          0.013693   0.100000   2.823608e+09   \n",
       "4              0.033303          0.013747   0.133313   2.823608e+09   \n",
       "\n",
       "          fs  ir_indices subject_name  session_name  \\\n",
       "0  29.962547         0.0        98w-4  dlight-aging   \n",
       "1  29.962547         1.0        98w-4  dlight-aging   \n",
       "2  29.962547         NaN        98w-4  dlight-aging   \n",
       "3  29.962547         2.0        98w-4  dlight-aging   \n",
       "4  29.962547         NaN        98w-4  dlight-aging   \n",
       "\n",
       "                  start_time  syllables                                  uuid  \\\n",
       "0 2023-08-07 12:11:31.654885         92  39aadf6c-370c-41cc-99cd-5fe6e18878af   \n",
       "1 2023-08-07 12:11:31.654885         92  39aadf6c-370c-41cc-99cd-5fe6e18878af   \n",
       "2 2023-08-07 12:11:31.654885         92  39aadf6c-370c-41cc-99cd-5fe6e18878af   \n",
       "3 2023-08-07 12:11:31.654885         23  39aadf6c-370c-41cc-99cd-5fe6e18878af   \n",
       "4 2023-08-07 12:11:31.654885         23  39aadf6c-370c-41cc-99cd-5fe6e18878af   \n",
       "\n",
       "   dlight_dff    uv_dff  dlight_reref  uv_reference_fit  dlight_reref_zscore  \\\n",
       "0    0.010748  0.003174      0.008385          0.002362             0.386749   \n",
       "1    0.010231  0.003526      0.009052          0.001179             0.441440   \n",
       "2    0.021203  0.003282      0.020677          0.000526             1.327567   \n",
       "3    0.037963 -0.005500      0.037004          0.000959             2.572543   \n",
       "4    0.045054 -0.001611      0.042285          0.002769             2.991705   \n",
       "\n",
       "   dlight_reref_zscore_filter  \n",
       "0                    0.386264  \n",
       "1                    1.019494  \n",
       "2                    1.625018  \n",
       "3                    2.134613  \n",
       "4                    2.459852  "
      ]
     },
     "execution_count": 29,
     "metadata": {},
     "output_type": "execute_result"
    }
   ],
   "source": [
    "concat_phot_df.head()"
   ]
  },
  {
   "cell_type": "code",
   "execution_count": 30,
   "id": "ab012c32-3588-45ae-bc8d-8b0cf2b4b032",
   "metadata": {
    "tags": []
   },
   "outputs": [],
   "source": [
    "concat_phot_df.to_parquet(\n",
    "    pc_scores_file.parents[1] / \"dlight_photometry_df.parquet\", compression=\"brotli\"\n",
    ")"
   ]
  },
  {
   "cell_type": "code",
   "execution_count": 31,
   "id": "ce4d2901-bda3-4214-a899-c7afb55d26d2",
   "metadata": {},
   "outputs": [
    {
     "data": {
      "text/plain": [
       "PosixPath('/n/groups/datta/win/longtogeny/data/ontogeny/version_11-1/dlight_photometry_df.parquet')"
      ]
     },
     "execution_count": 31,
     "metadata": {},
     "output_type": "execute_result"
    }
   ],
   "source": [
    "pc_scores_file.parents[1] / \"dlight_photometry_df.parquet\""
   ]
  },
  {
   "cell_type": "code",
   "execution_count": null,
   "id": "2d79ba89-ad37-4464-babd-c6c0f53c10f9",
   "metadata": {},
   "outputs": [],
   "source": []
  },
  {
   "cell_type": "code",
   "execution_count": null,
   "id": "389fa902-c4af-4a9a-acd1-98ec843a4ab4",
   "metadata": {},
   "outputs": [],
   "source": []
  }
 ],
 "metadata": {
  "kernelspec": {
   "display_name": "Ontogeny",
   "language": "python",
   "name": "aging"
  },
  "language_info": {
   "codemirror_mode": {
    "name": "ipython",
    "version": 3
   },
   "file_extension": ".py",
   "mimetype": "text/x-python",
   "name": "python",
   "nbconvert_exporter": "python",
   "pygments_lexer": "ipython3",
   "version": "3.10.10"
  },
  "widgets": {
   "application/vnd.jupyter.widget-state+json": {
    "state": {
     "0175b72c865a47c08a9b9906eb4ca2c9": {
      "model_module": "@jupyter-widgets/controls",
      "model_module_version": "2.0.0",
      "model_name": "HTMLStyleModel",
      "state": {
       "description_width": "",
       "font_size": null,
       "text_color": null
      }
     },
     "01cc72e7ad7e400db7dc5d2e8082731e": {
      "model_module": "@jupyter-widgets/controls",
      "model_module_version": "2.0.0",
      "model_name": "HTMLModel",
      "state": {
       "layout": "IPY_MODEL_9a20adf08ff94d4d85b63d9751ee2d33",
       "style": "IPY_MODEL_c8e6ea3a99cd48f584d7cc6faa2a1225",
       "value": " 555/555 [01:22&lt;00:00,  3.97it/s]"
      }
     },
     "08a267a5edf9474795383662ec32f564": {
      "model_module": "@jupyter-widgets/controls",
      "model_module_version": "2.0.0",
      "model_name": "ProgressStyleModel",
      "state": {
       "description_width": ""
      }
     },
     "0ad753bfdd0d46a78a25c060193ed21a": {
      "model_module": "@jupyter-widgets/base",
      "model_module_version": "2.0.0",
      "model_name": "LayoutModel",
      "state": {}
     },
     "0e8d3a7131ad4e52b1eeeb601fc37c32": {
      "model_module": "@jupyter-widgets/controls",
      "model_module_version": "2.0.0",
      "model_name": "HBoxModel",
      "state": {
       "children": [
        "IPY_MODEL_c637f8c1ed2e489e992bcf6dc1c8040d",
        "IPY_MODEL_4d4c5ef2936648ae9d644ad0cba9ffb7",
        "IPY_MODEL_a7a721c6f504480fb709e7004ada9953"
       ],
       "layout": "IPY_MODEL_0ad753bfdd0d46a78a25c060193ed21a"
      }
     },
     "16c80bf691f94a159d8de093f10d5271": {
      "model_module": "@jupyter-widgets/base",
      "model_module_version": "2.0.0",
      "model_name": "LayoutModel",
      "state": {}
     },
     "1c4e46be5b244e44b9ed0f6f8de4c7b1": {
      "model_module": "@jupyter-widgets/base",
      "model_module_version": "2.0.0",
      "model_name": "LayoutModel",
      "state": {}
     },
     "3933417a72714b3bb9b2b2d61a5429ac": {
      "model_module": "@jupyter-widgets/base",
      "model_module_version": "2.0.0",
      "model_name": "LayoutModel",
      "state": {}
     },
     "398f58232f8c49d78c4035ae73365cb2": {
      "model_module": "@jupyter-widgets/controls",
      "model_module_version": "2.0.0",
      "model_name": "HTMLModel",
      "state": {
       "layout": "IPY_MODEL_ec6547d0bbce4c3ca2708676d3d0c01a",
       "style": "IPY_MODEL_0175b72c865a47c08a9b9906eb4ca2c9",
       "value": " 555/555 [01:20&lt;00:00, 69.08it/s]"
      }
     },
     "431da0d3de9c460e9f621ccf2b954df8": {
      "model_module": "@jupyter-widgets/controls",
      "model_module_version": "2.0.0",
      "model_name": "FloatProgressModel",
      "state": {
       "bar_style": "success",
       "layout": "IPY_MODEL_16c80bf691f94a159d8de093f10d5271",
       "max": 555,
       "style": "IPY_MODEL_a72b897046a34a8997c4618a26a9e4c4",
       "value": 555
      }
     },
     "460507b0f06443ada36e979ff668597a": {
      "model_module": "@jupyter-widgets/controls",
      "model_module_version": "2.0.0",
      "model_name": "HTMLStyleModel",
      "state": {
       "description_width": "",
       "font_size": null,
       "text_color": null
      }
     },
     "4cdd1dbfd33641108db4fafff89a0df7": {
      "model_module": "@jupyter-widgets/controls",
      "model_module_version": "2.0.0",
      "model_name": "FloatProgressModel",
      "state": {
       "bar_style": "success",
       "layout": "IPY_MODEL_7f3a193ed28e4902a952d8a21f6bb796",
       "max": 555,
       "style": "IPY_MODEL_63ba8f5d126545faae72e140e8e41611",
       "value": 555
      }
     },
     "4d4c5ef2936648ae9d644ad0cba9ffb7": {
      "model_module": "@jupyter-widgets/controls",
      "model_module_version": "2.0.0",
      "model_name": "FloatProgressModel",
      "state": {
       "bar_style": "success",
       "layout": "IPY_MODEL_d3531b19b45a4235808786aea535f5f0",
       "max": 555,
       "style": "IPY_MODEL_08a267a5edf9474795383662ec32f564",
       "value": 555
      }
     },
     "501e1e5d14fb4462b3896b17ffae7f90": {
      "model_module": "@jupyter-widgets/controls",
      "model_module_version": "2.0.0",
      "model_name": "HTMLStyleModel",
      "state": {
       "description_width": "",
       "font_size": null,
       "text_color": null
      }
     },
     "60be8aced82244adb44973400b4830d3": {
      "model_module": "@jupyter-widgets/controls",
      "model_module_version": "2.0.0",
      "model_name": "HTMLModel",
      "state": {
       "layout": "IPY_MODEL_a3028f8d3fec48979863c5531d78312f",
       "style": "IPY_MODEL_cd209aead85144369eee3a41992ec7f3",
       "value": " 555/555 [00:00&lt;00:00, 3266.23it/s]"
      }
     },
     "63ba8f5d126545faae72e140e8e41611": {
      "model_module": "@jupyter-widgets/controls",
      "model_module_version": "2.0.0",
      "model_name": "ProgressStyleModel",
      "state": {
       "description_width": ""
      }
     },
     "6db176064b5445dcb6a145db210e6fbd": {
      "model_module": "@jupyter-widgets/controls",
      "model_module_version": "2.0.0",
      "model_name": "ProgressStyleModel",
      "state": {
       "description_width": ""
      }
     },
     "74f1b3ef14c34094974f8029526c02b5": {
      "model_module": "@jupyter-widgets/base",
      "model_module_version": "2.0.0",
      "model_name": "LayoutModel",
      "state": {}
     },
     "7e61aead18a74d2bb07e6406a30b8f4d": {
      "model_module": "@jupyter-widgets/controls",
      "model_module_version": "2.0.0",
      "model_name": "HTMLStyleModel",
      "state": {
       "description_width": "",
       "font_size": null,
       "text_color": null
      }
     },
     "7f3a193ed28e4902a952d8a21f6bb796": {
      "model_module": "@jupyter-widgets/base",
      "model_module_version": "2.0.0",
      "model_name": "LayoutModel",
      "state": {}
     },
     "886187594b2c4f8591a7fefa50167176": {
      "model_module": "@jupyter-widgets/base",
      "model_module_version": "2.0.0",
      "model_name": "LayoutModel",
      "state": {}
     },
     "8af39aed9158444bb466324fedb5ac65": {
      "model_module": "@jupyter-widgets/controls",
      "model_module_version": "2.0.0",
      "model_name": "HTMLStyleModel",
      "state": {
       "description_width": "",
       "font_size": null,
       "text_color": null
      }
     },
     "90a3be85a1be485bad8d4a2cd9971381": {
      "model_module": "@jupyter-widgets/base",
      "model_module_version": "2.0.0",
      "model_name": "LayoutModel",
      "state": {}
     },
     "9a20adf08ff94d4d85b63d9751ee2d33": {
      "model_module": "@jupyter-widgets/base",
      "model_module_version": "2.0.0",
      "model_name": "LayoutModel",
      "state": {}
     },
     "a3028f8d3fec48979863c5531d78312f": {
      "model_module": "@jupyter-widgets/base",
      "model_module_version": "2.0.0",
      "model_name": "LayoutModel",
      "state": {}
     },
     "a5d8469ebe8b42b2a963dff2434108a6": {
      "model_module": "@jupyter-widgets/controls",
      "model_module_version": "2.0.0",
      "model_name": "HTMLModel",
      "state": {
       "layout": "IPY_MODEL_74f1b3ef14c34094974f8029526c02b5",
       "style": "IPY_MODEL_501e1e5d14fb4462b3896b17ffae7f90",
       "value": "100%"
      }
     },
     "a72b897046a34a8997c4618a26a9e4c4": {
      "model_module": "@jupyter-widgets/controls",
      "model_module_version": "2.0.0",
      "model_name": "ProgressStyleModel",
      "state": {
       "description_width": ""
      }
     },
     "a7a721c6f504480fb709e7004ada9953": {
      "model_module": "@jupyter-widgets/controls",
      "model_module_version": "2.0.0",
      "model_name": "HTMLModel",
      "state": {
       "layout": "IPY_MODEL_b1c73798dcf747b4aff96883a449878e",
       "style": "IPY_MODEL_460507b0f06443ada36e979ff668597a",
       "value": " 555/555 [00:00&lt;00:00, 3809.90it/s]"
      }
     },
     "b1c73798dcf747b4aff96883a449878e": {
      "model_module": "@jupyter-widgets/base",
      "model_module_version": "2.0.0",
      "model_name": "LayoutModel",
      "state": {}
     },
     "c0d97de29a344012a280d3d554a9fb8d": {
      "model_module": "@jupyter-widgets/base",
      "model_module_version": "2.0.0",
      "model_name": "LayoutModel",
      "state": {}
     },
     "c23b11cea08540d1b2cfdafc0375edc1": {
      "model_module": "@jupyter-widgets/controls",
      "model_module_version": "2.0.0",
      "model_name": "HBoxModel",
      "state": {
       "children": [
        "IPY_MODEL_e2e5049bec21426da157471b25d39355",
        "IPY_MODEL_431da0d3de9c460e9f621ccf2b954df8",
        "IPY_MODEL_01cc72e7ad7e400db7dc5d2e8082731e"
       ],
       "layout": "IPY_MODEL_c0d97de29a344012a280d3d554a9fb8d"
      }
     },
     "c545ab2a78424d219823afb8c4da8773": {
      "model_module": "@jupyter-widgets/controls",
      "model_module_version": "2.0.0",
      "model_name": "HTMLModel",
      "state": {
       "layout": "IPY_MODEL_fa3a5bd0eddb47009e6a4456298afbee",
       "style": "IPY_MODEL_f9944d97cae045919c4b88ecefd715a9",
       "value": "100%"
      }
     },
     "c637f8c1ed2e489e992bcf6dc1c8040d": {
      "model_module": "@jupyter-widgets/controls",
      "model_module_version": "2.0.0",
      "model_name": "HTMLModel",
      "state": {
       "layout": "IPY_MODEL_3933417a72714b3bb9b2b2d61a5429ac",
       "style": "IPY_MODEL_8af39aed9158444bb466324fedb5ac65",
       "value": "100%"
      }
     },
     "c8e6ea3a99cd48f584d7cc6faa2a1225": {
      "model_module": "@jupyter-widgets/controls",
      "model_module_version": "2.0.0",
      "model_name": "HTMLStyleModel",
      "state": {
       "description_width": "",
       "font_size": null,
       "text_color": null
      }
     },
     "cd209aead85144369eee3a41992ec7f3": {
      "model_module": "@jupyter-widgets/controls",
      "model_module_version": "2.0.0",
      "model_name": "HTMLStyleModel",
      "state": {
       "description_width": "",
       "font_size": null,
       "text_color": null
      }
     },
     "cfbb73a148f9438a8f9b82174fb8cd1e": {
      "model_module": "@jupyter-widgets/controls",
      "model_module_version": "2.0.0",
      "model_name": "FloatProgressModel",
      "state": {
       "bar_style": "success",
       "layout": "IPY_MODEL_1c4e46be5b244e44b9ed0f6f8de4c7b1",
       "max": 555,
       "style": "IPY_MODEL_6db176064b5445dcb6a145db210e6fbd",
       "value": 555
      }
     },
     "d1d05ccf3f8b4100811753b4e4b9ce7f": {
      "model_module": "@jupyter-widgets/controls",
      "model_module_version": "2.0.0",
      "model_name": "HBoxModel",
      "state": {
       "children": [
        "IPY_MODEL_c545ab2a78424d219823afb8c4da8773",
        "IPY_MODEL_4cdd1dbfd33641108db4fafff89a0df7",
        "IPY_MODEL_398f58232f8c49d78c4035ae73365cb2"
       ],
       "layout": "IPY_MODEL_886187594b2c4f8591a7fefa50167176"
      }
     },
     "d3531b19b45a4235808786aea535f5f0": {
      "model_module": "@jupyter-widgets/base",
      "model_module_version": "2.0.0",
      "model_name": "LayoutModel",
      "state": {}
     },
     "e2e5049bec21426da157471b25d39355": {
      "model_module": "@jupyter-widgets/controls",
      "model_module_version": "2.0.0",
      "model_name": "HTMLModel",
      "state": {
       "layout": "IPY_MODEL_90a3be85a1be485bad8d4a2cd9971381",
       "style": "IPY_MODEL_7e61aead18a74d2bb07e6406a30b8f4d",
       "value": "100%"
      }
     },
     "ec6547d0bbce4c3ca2708676d3d0c01a": {
      "model_module": "@jupyter-widgets/base",
      "model_module_version": "2.0.0",
      "model_name": "LayoutModel",
      "state": {}
     },
     "f17c67ae990347d08a4ce9c96be2dc6c": {
      "model_module": "@jupyter-widgets/base",
      "model_module_version": "2.0.0",
      "model_name": "LayoutModel",
      "state": {}
     },
     "f9944d97cae045919c4b88ecefd715a9": {
      "model_module": "@jupyter-widgets/controls",
      "model_module_version": "2.0.0",
      "model_name": "HTMLStyleModel",
      "state": {
       "description_width": "",
       "font_size": null,
       "text_color": null
      }
     },
     "fa3a5bd0eddb47009e6a4456298afbee": {
      "model_module": "@jupyter-widgets/base",
      "model_module_version": "2.0.0",
      "model_name": "LayoutModel",
      "state": {}
     },
     "fad6ee1d7fc34f09b4098a185d14ed7f": {
      "model_module": "@jupyter-widgets/controls",
      "model_module_version": "2.0.0",
      "model_name": "HBoxModel",
      "state": {
       "children": [
        "IPY_MODEL_a5d8469ebe8b42b2a963dff2434108a6",
        "IPY_MODEL_cfbb73a148f9438a8f9b82174fb8cd1e",
        "IPY_MODEL_60be8aced82244adb44973400b4830d3"
       ],
       "layout": "IPY_MODEL_f17c67ae990347d08a4ce9c96be2dc6c"
      }
     }
    },
    "version_major": 2,
    "version_minor": 0
   }
  }
 },
 "nbformat": 4,
 "nbformat_minor": 5
}
