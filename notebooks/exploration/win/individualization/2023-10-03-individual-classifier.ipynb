{
 "cells": [
  {
   "cell_type": "markdown",
   "id": "b0e4af2f-1e61-4fb3-8b61-37db148b885c",
   "metadata": {},
   "source": [
    "# Classify individuals across age"
   ]
  },
  {
   "cell_type": "code",
   "execution_count": 256,
   "id": "55feb923-e887-4e50-b5ec-ccd825703b4e",
   "metadata": {},
   "outputs": [],
   "source": [
    "import numpy as np\n",
    "import pandas as pd\n",
    "import seaborn as sns\n",
    "import matplotlib.pyplot as plt\n",
    "from tqdm.auto import tqdm\n",
    "from toolz import partial, sliding_window\n",
    "from aging.plotting import format_plots, PlotConfig, save_factory, figure, legend\n",
    "from sklearn.preprocessing import StandardScaler\n",
    "from sklearn.linear_model import LogisticRegression\n",
    "from sklearn.pipeline import make_pipeline\n",
    "from sklearn.metrics import accuracy_score\n",
    "from sklearn.model_selection import RepeatedStratifiedKFold, cross_val_score, StratifiedKFold\n",
    "from sklearn.decomposition import PCA\n",
    "from math import floor, ceil"
   ]
  },
  {
   "cell_type": "code",
   "execution_count": 2,
   "id": "7b49c7dc-bf5d-4a72-98f6-27a8fd10c154",
   "metadata": {
    "tags": []
   },
   "outputs": [],
   "source": [
    "format_plots()\n",
    "c = PlotConfig()\n",
    "saver = save_factory(c.save_path / \"beh-individualization\", tight_layout=False)"
   ]
  },
  {
   "cell_type": "code",
   "execution_count": 3,
   "id": "ecd34fe6-a967-46b9-9b95-41d1ccf79bd9",
   "metadata": {
    "tags": []
   },
   "outputs": [],
   "source": [
    "def load_long_df(version=5):\n",
    "    usage_mtx = pd.read_parquet(\n",
    "        f\"/n/groups/datta/win/longtogeny/data/ontogeny/version_{version:02d}/longtogeny_males_clean.parquet\"\n",
    "    )\n",
    "    return usage_mtx"
   ]
  },
  {
   "cell_type": "code",
   "execution_count": 4,
   "id": "cb64b310-7708-4f1a-9e55-5b7b2210b901",
   "metadata": {},
   "outputs": [],
   "source": [
    "def get_train_test(df, random_state=0):\n",
    "    test = df.groupby('mouse').sample(n=1, random_state=random_state)\n",
    "    train = df.drop(test.index)\n",
    "    return train, test"
   ]
  },
  {
   "cell_type": "code",
   "execution_count": 5,
   "id": "a66b48b2-81ec-49cd-903b-c1af235da333",
   "metadata": {
    "tags": []
   },
   "outputs": [],
   "source": [
    "df = load_long_df(version=5)\n",
    "df = df.query('age < 600')\n",
    "\n",
    "keep_sylls = df.columns[df.median() > 0.005]\n",
    "df = df[keep_sylls]\n",
    "\n",
    "index = ['age', 'mouse', 'cage', 'uuid', 'subject_name', 'date']\n",
    "\n",
    "index = ['binned_age'] + index\n",
    "ages = df.index.get_level_values('age')\n",
    "lbls, bins = pd.qcut(ages, 12, labels=False, retbins=True)\n",
    "\n",
    "df['binned_age'] = lbls\n",
    "df = df.reset_index().set_index(index)\n",
    "binned_ages = df.groupby(['binned_age', 'mouse', 'cage']).mean()\n",
    "\n",
    "bin_map = {k: np.mean(v) / 7 for k, v in enumerate(sliding_window(2, bins))}"
   ]
  },
  {
   "cell_type": "code",
   "execution_count": 6,
   "id": "aaa20926-d343-44f0-8636-1ea687648e0a",
   "metadata": {},
   "outputs": [
    {
     "data": {
      "text/plain": [
       "mouse\n",
       "01_01    64\n",
       "01_02    58\n",
       "01_03    52\n",
       "01_04    61\n",
       "02_01    66\n",
       "02_02    64\n",
       "02_03    53\n",
       "02_04    52\n",
       "03_01    65\n",
       "03_02    64\n",
       "03_03    40\n",
       "03_04    58\n",
       "04_01    64\n",
       "04_02    61\n",
       "04_03    54\n",
       "04_04    57\n",
       "Name: age, dtype: int64"
      ]
     },
     "execution_count": 6,
     "metadata": {},
     "output_type": "execute_result"
    }
   ],
   "source": [
    "df.reset_index().groupby('mouse')['age'].count()"
   ]
  },
  {
   "cell_type": "code",
   "execution_count": 349,
   "id": "c6668615-adac-4b63-8007-b0b954b6e26f",
   "metadata": {},
   "outputs": [],
   "source": [
    "ages = pd.qcut(df.reset_index()['age'], 18, labels=False)\n",
    "avg_age = df.reset_index().groupby(ages)['age'].mean()"
   ]
  },
  {
   "cell_type": "code",
   "execution_count": 350,
   "id": "b9edeaba-8910-4e4b-95b3-27c02ab60374",
   "metadata": {},
   "outputs": [],
   "source": [
    "n_samples = 8\n",
    "new_dataset = []\n",
    "for mouse, _df in df.reset_index().groupby('mouse'):\n",
    "    _df = _df.sort_values(by='age')\n",
    "    for grp, _age in enumerate(avg_age.iloc[1:-1]):\n",
    "        idx = np.argmin((_df['age'] - _age).abs())\n",
    "        sample = _df.iloc[idx-ceil(n_samples/2):idx+floor(n_samples/2)].copy().reset_index(drop=True)\n",
    "        sample['group'] = grp\n",
    "        sample = sample.drop(columns=['cage', 'binned_age', 'subject_name'])\n",
    "        if len(sample) < n_samples:\n",
    "            continue\n",
    "        new_dataset.append(sample)\n",
    "new_dataset = pd.concat(new_dataset).set_index(['age', 'mouse', 'uuid', 'date'])"
   ]
  },
  {
   "cell_type": "code",
   "execution_count": 342,
   "id": "746535aa-0cab-46ea-88d5-1e358e4f69ec",
   "metadata": {},
   "outputs": [
    {
     "data": {
      "text/plain": [
       "group\n",
       "0     11\n",
       "1     16\n",
       "2     16\n",
       "3     16\n",
       "4     16\n",
       "5     16\n",
       "6     16\n",
       "7     16\n",
       "8     16\n",
       "9     16\n",
       "10    16\n",
       "11    15\n",
       "12    15\n",
       "13    15\n",
       "14    14\n",
       "15    14\n",
       "16    14\n",
       "Name: mouse, dtype: int64"
      ]
     },
     "execution_count": 342,
     "metadata": {},
     "output_type": "execute_result"
    }
   ],
   "source": [
    "new_dataset.reset_index().groupby('group')['mouse'].nunique()"
   ]
  },
  {
   "cell_type": "code",
   "execution_count": 292,
   "id": "40e327e9-7e37-44e0-bd9f-c021bfc6676c",
   "metadata": {},
   "outputs": [],
   "source": [
    "mdl = make_pipeline(\n",
    "    PCA(n_components=20),\n",
    "    StandardScaler(),\n",
    "    LogisticRegression()\n",
    ")"
   ]
  },
  {
   "cell_type": "code",
   "execution_count": 293,
   "id": "6bc3e906-2b47-4db5-8092-a3419a886345",
   "metadata": {},
   "outputs": [
    {
     "data": {
      "application/vnd.jupyter.widget-view+json": {
       "model_id": "9ef99bc43a284032b5d299b4da46ada8",
       "version_major": 2,
       "version_minor": 0
      },
      "text/plain": [
       "  0%|          | 0/30 [00:00<?, ?it/s]"
      ]
     },
     "metadata": {},
     "output_type": "display_data"
    }
   ],
   "source": [
    "age_acc = {}\n",
    "for bin, _df in tqdm(new_dataset.groupby(\"group\", sort=False)):\n",
    "    y = _df.index.get_level_values(\"mouse\")\n",
    "    acc = cross_val_score(\n",
    "        mdl,\n",
    "        _df.drop(columns=[\"group\"]),\n",
    "        y,\n",
    "        cv=RepeatedStratifiedKFold(n_splits=n_samples // 2, n_repeats=10),\n",
    "    )\n",
    "    age_acc[bin] = acc"
   ]
  },
  {
   "cell_type": "code",
   "execution_count": 294,
   "id": "ff1f1e4f-2135-406c-ba04-5e1f817e674b",
   "metadata": {},
   "outputs": [],
   "source": [
    "age_acc = pd.DataFrame(age_acc)"
   ]
  },
  {
   "cell_type": "code",
   "execution_count": 295,
   "id": "f9150165-56c6-4f86-bc1f-9e8a75dad48b",
   "metadata": {},
   "outputs": [],
   "source": [
    "to_plt = age_acc.melt(var_name='age', value_name='accuracy')\n",
    "to_plt['age'] = to_plt['age'].map(dict(enumerate(avg_age.iloc[1:-1])))"
   ]
  },
  {
   "cell_type": "code",
   "execution_count": 296,
   "id": "2f16af6d-46ec-43fa-8c05-e9ba3aab00dc",
   "metadata": {},
   "outputs": [
    {
     "data": {
      "image/png": "[encoded data removed]",
      "text/plain": [
       "<Figure size 300x300 with 1 Axes>"
      ]
     },
     "metadata": {
      "image/png": {
       "height": 367,
       "width": 372
      }
     },
     "output_type": "display_data"
    }
   ],
   "source": [
    "fig = figure(1, 1)\n",
    "ax = sns.lineplot(data=to_plt, x='age', y='accuracy', color='k', err_kws=dict(lw=0), lw=1)\n",
    "ax.set(ylabel=\"Accuracy\", xlabel=\"Age (weeks)\", ylim=[0.5, 1])\n",
    "sns.despine()"
   ]
  },
  {
   "cell_type": "code",
   "execution_count": 282,
   "id": "0ff953fe-d9af-4254-9c67-37741b89c05d",
   "metadata": {},
   "outputs": [
    {
     "data": {
      "application/vnd.jupyter.widget-view+json": {
       "model_id": "1788a7fe5f4240e7b25a36493cba862f",
       "version_major": 2,
       "version_minor": 0
      },
      "text/plain": [
       "  0%|          | 0/14 [00:00<?, ?it/s]"
      ]
     },
     "metadata": {},
     "output_type": "display_data"
    }
   ],
   "source": [
    "np.random.seed(0)\n",
    "shuff_age_acc = {}\n",
    "n_shuffs = 10\n",
    "for bin, _df in tqdm(new_dataset.groupby(\"group\", sort=False)):\n",
    "    y = _df.index.get_level_values(\"mouse\").to_numpy()\n",
    "    accs = []\n",
    "    for i in range(n_shuffs):\n",
    "        np.random.shuffle(y)\n",
    "        acc = cross_val_score(\n",
    "            mdl,\n",
    "            _df.drop(columns=[\"group\"]),\n",
    "            y,\n",
    "            cv=StratifiedKFold(n_splits=n_samples // 2),\n",
    "        )\n",
    "        accs.extend(acc)\n",
    "    shuff_age_acc[bin] = accs"
   ]
  },
  {
   "cell_type": "code",
   "execution_count": 283,
   "id": "f3c55065-7234-4236-b353-1f26f9512808",
   "metadata": {},
   "outputs": [],
   "source": [
    "shuff_age_acc = pd.DataFrame(shuff_age_acc)"
   ]
  },
  {
   "cell_type": "code",
   "execution_count": 284,
   "id": "aefb43ec-4006-44c9-aa93-ea976b2b0946",
   "metadata": {},
   "outputs": [],
   "source": [
    "shuff_plt = shuff_age_acc.melt(var_name='age', value_name='accuracy')\n",
    "shuff_plt['age'] = shuff_plt['age'].map(dict(enumerate(avg_age.iloc[1:-1])))"
   ]
  },
  {
   "cell_type": "code",
   "execution_count": 285,
   "id": "3ca2b98c-a6f2-41b5-878d-9188d1333d9b",
   "metadata": {},
   "outputs": [],
   "source": [
    "shuff_avg_acc = shuff_plt.groupby('age')['accuracy'].mean()"
   ]
  },
  {
   "cell_type": "code",
   "execution_count": 286,
   "id": "b0922238-faae-4b0a-a12b-1708127bc666",
   "metadata": {},
   "outputs": [],
   "source": [
    "tmp_plt = to_plt.set_index('age')\n",
    "tmp_plt = tmp_plt['accuracy'] / shuff_avg_acc.reindex(tmp_plt.index)"
   ]
  },
  {
   "cell_type": "code",
   "execution_count": 287,
   "id": "a4f9d005-b760-4e17-a366-5620b8a4e4c8",
   "metadata": {},
   "outputs": [
    {
     "data": {
      "image/png": "[encoded data removed]",
      "text/plain": [
       "<Figure size 300x300 with 1 Axes>"
      ]
     },
     "metadata": {
      "image/png": {
       "height": 367,
       "width": 583
      }
     },
     "output_type": "display_data"
    }
   ],
   "source": [
    "fig = figure(1, 1)\n",
    "ax = sns.lineplot(data=to_plt, x='age', y='accuracy', color='k', err_kws=dict(lw=0), lw=1, label='Observed')\n",
    "ax = sns.lineplot(data=shuff_plt, x='age', y='accuracy', color='gray', err_kws=dict(lw=0), lw=1, label='Shuffle', ax=ax)\n",
    "ax.set(ylabel=\"Accuracy\", xlabel=\"Age (weeks)\", ylim=[None, 1])\n",
    "legend(ax)\n",
    "sns.despine()"
   ]
  },
  {
   "cell_type": "code",
   "execution_count": 288,
   "id": "8543cc99-6a94-44e0-a983-6725475f88ac",
   "metadata": {},
   "outputs": [
    {
     "data": {
      "image/png": "[encoded data removed]",
      "text/plain": [
       "<Figure size 300x300 with 1 Axes>"
      ]
     },
     "metadata": {
      "image/png": {
       "height": 358,
       "width": 386
      }
     },
     "output_type": "display_data"
    }
   ],
   "source": [
    "fig = figure(1, 1)\n",
    "ax = sns.lineplot(data=pd.DataFrame(tmp_plt).reset_index(), x='age', y='accuracy', color='k', err_kws=dict(lw=0), lw=1)\n",
    "ax.set(ylabel=\"Accuracy ratio\", xlabel=\"Age (weeks)\")\n",
    "sns.despine()"
   ]
  },
  {
   "cell_type": "markdown",
   "id": "71987e62-6be9-488f-bd32-8c04681a4d87",
   "metadata": {},
   "source": [
    "## Find optimal model parameters"
   ]
  },
  {
   "cell_type": "code",
   "execution_count": 313,
   "id": "6b62ff1f-9b6e-4f45-970f-2b10f9031644",
   "metadata": {},
   "outputs": [
    {
     "data": {
      "application/vnd.jupyter.widget-view+json": {
       "model_id": "4454f4f583784d21902656a67c5d4565",
       "version_major": 2,
       "version_minor": 0
      },
      "text/plain": [
       "  0%|          | 0/42 [00:00<?, ?it/s]"
      ]
     },
     "metadata": {},
     "output_type": "display_data"
    }
   ],
   "source": [
    "cs = {}\n",
    "for c in tqdm(range(1, df.shape[1] - 1)):\n",
    "    mdl = make_pipeline(\n",
    "        PCA(n_components=c),\n",
    "        StandardScaler(),\n",
    "        LogisticRegression()\n",
    "    )\n",
    "\n",
    "    age_acc = {}\n",
    "    for bin, _df in new_dataset.groupby(\"group\", sort=False):\n",
    "        y = _df.index.get_level_values(\"mouse\")\n",
    "        acc = cross_val_score(\n",
    "            mdl,\n",
    "            _df.drop(columns=[\"group\"]),\n",
    "            y,\n",
    "            cv=RepeatedStratifiedKFold(n_splits=n_samples // 2, n_repeats=5),\n",
    "        )\n",
    "        age_acc[bin] = acc\n",
    "    age_acc = pd.DataFrame(age_acc)\n",
    "    cs[c] = age_acc.mean()"
   ]
  },
  {
   "cell_type": "code",
   "execution_count": 314,
   "id": "d26519b0-1fe5-4901-9c3d-211c5568bf42",
   "metadata": {},
   "outputs": [],
   "source": [
    "cs = pd.DataFrame(cs)"
   ]
  },
  {
   "cell_type": "code",
   "execution_count": 315,
   "id": "b4da71e7-bd61-4425-9d0c-283dfb19eac6",
   "metadata": {},
   "outputs": [
    {
     "data": {
      "text/plain": [
       "2     0.515625\n",
       "1     0.537500\n",
       "3     0.612500\n",
       "4     0.703125\n",
       "6     0.781250\n",
       "5     0.790625\n",
       "7     0.800000\n",
       "8     0.817187\n",
       "9     0.825000\n",
       "10    0.864062\n",
       "12    0.871875\n",
       "11    0.873437\n",
       "13    0.887500\n",
       "14    0.893750\n",
       "15    0.906250\n",
       "16    0.909375\n",
       "41    0.914062\n",
       "17    0.918750\n",
       "19    0.918750\n",
       "40    0.921875\n",
       "39    0.921875\n",
       "37    0.925000\n",
       "21    0.926562\n",
       "26    0.926667\n",
       "22    0.928125\n",
       "42    0.929688\n",
       "27    0.929688\n",
       "23    0.929688\n",
       "25    0.931250\n",
       "18    0.931250\n",
       "35    0.932813\n",
       "28    0.935937\n",
       "30    0.935937\n",
       "31    0.935937\n",
       "38    0.937500\n",
       "24    0.937500\n",
       "32    0.937500\n",
       "29    0.939063\n",
       "34    0.942187\n",
       "36    0.942187\n",
       "20    0.943750\n",
       "33    0.945312\n",
       "dtype: float64"
      ]
     },
     "execution_count": 315,
     "metadata": {},
     "output_type": "execute_result"
    }
   ],
   "source": [
    "cs.max().sort_values()"
   ]
  },
  {
   "cell_type": "code",
   "execution_count": 316,
   "id": "9d8ee14c-9b4f-4412-94c9-b14d822fe680",
   "metadata": {},
   "outputs": [],
   "source": [
    "age_acc = pd.DataFrame(age_acc)"
   ]
  },
  {
   "cell_type": "code",
   "execution_count": 317,
   "id": "6f54fc97-0c69-4306-903d-216dedfb76d3",
   "metadata": {},
   "outputs": [
    {
     "data": {
      "text/plain": [
       "<matplotlib.colorbar.Colorbar at 0x7f0a873966b0>"
      ]
     },
     "execution_count": 317,
     "metadata": {},
     "output_type": "execute_result"
    },
    {
     "data": {
      "image/png": "[encoded data removed]",
      "text/plain": [
       "<Figure size 600x600 with 2 Axes>"
      ]
     },
     "metadata": {
      "image/png": {
       "height": 525,
       "width": 473
      }
     },
     "output_type": "display_data"
    }
   ],
   "source": [
    "plt.imshow(cs.T)\n",
    "plt.colorbar()"
   ]
  },
  {
   "cell_type": "code",
   "execution_count": 327,
   "id": "60542009-5a85-4841-8728-935cbada2d35",
   "metadata": {},
   "outputs": [
    {
     "data": {
      "application/vnd.jupyter.widget-view+json": {
       "model_id": "e073d9a6feb449d18335d09cfa8f7fd6",
       "version_major": 2,
       "version_minor": 0
      },
      "text/plain": [
       "  0%|          | 0/42 [00:00<?, ?it/s]"
      ]
     },
     "metadata": {},
     "output_type": "display_data"
    }
   ],
   "source": [
    "cs = {}\n",
    "mdl = make_pipeline(\n",
    "    StandardScaler(),\n",
    "    LogisticRegression()\n",
    ")\n",
    "for c in tqdm(range(1, df.shape[1] - 1)):\n",
    "    data = PCA(n_components=c).fit_transform(new_dataset.iloc[:, :-1])\n",
    "    data = pd.DataFrame(data, index=new_dataset.index)\n",
    "    data['group'] = new_dataset['group']\n",
    "    age_acc = {}\n",
    "    for bin, _df in data.groupby(\"group\", sort=False):\n",
    "        y = _df.index.get_level_values(\"mouse\")\n",
    "        acc = cross_val_score(\n",
    "            mdl,\n",
    "            _df.drop(columns=[\"group\"]),\n",
    "            y,\n",
    "            cv=RepeatedStratifiedKFold(n_splits=n_samples // 2, n_repeats=5),\n",
    "        )\n",
    "        age_acc[bin] = acc\n",
    "    age_acc = pd.DataFrame(age_acc)\n",
    "    cs[c] = age_acc.mean()"
   ]
  },
  {
   "cell_type": "code",
   "execution_count": 328,
   "id": "a6c8f8b1-986d-42f3-93b8-aa1c935bb3fd",
   "metadata": {},
   "outputs": [],
   "source": [
    "cs = pd.DataFrame(cs)"
   ]
  },
  {
   "cell_type": "code",
   "execution_count": 329,
   "id": "31ed6ffb-8e23-4c87-bfe1-16b20841786d",
   "metadata": {},
   "outputs": [
    {
     "data": {
      "text/plain": [
       "<matplotlib.colorbar.Colorbar at 0x7f0a85db6260>"
      ]
     },
     "execution_count": 329,
     "metadata": {},
     "output_type": "execute_result"
    },
    {
     "data": {
      "image/png": "[encoded data removed]",
      "text/plain": [
       "<Figure size 600x600 with 2 Axes>"
      ]
     },
     "metadata": {
      "image/png": {
       "height": 525,
       "width": 473
      }
     },
     "output_type": "display_data"
    }
   ],
   "source": [
    "plt.imshow(cs.T)\n",
    "plt.colorbar()"
   ]
  },
  {
   "cell_type": "code",
   "execution_count": 330,
   "id": "d2269d73-9cc0-424a-96f0-7932ff892c9b",
   "metadata": {},
   "outputs": [
    {
     "data": {
      "text/plain": [
       "27    0.959375\n",
       "42    0.957812\n",
       "34    0.957812\n",
       "26    0.957812\n",
       "36    0.956250\n",
       "37    0.953125\n",
       "35    0.953125\n",
       "28    0.951562\n",
       "33    0.950000\n",
       "31    0.950000\n",
       "39    0.948438\n",
       "24    0.948438\n",
       "30    0.948438\n",
       "41    0.948438\n",
       "29    0.946875\n",
       "40    0.945312\n",
       "38    0.945312\n",
       "20    0.939063\n",
       "32    0.935937\n",
       "25    0.934375\n",
       "21    0.932813\n",
       "19    0.925000\n",
       "22    0.918750\n",
       "23    0.914062\n",
       "18    0.903125\n",
       "17    0.890625\n",
       "16    0.889062\n",
       "15    0.876563\n",
       "14    0.860938\n",
       "13    0.839063\n",
       "10    0.835938\n",
       "12    0.818750\n",
       "11    0.815625\n",
       "9     0.812500\n",
       "8     0.778571\n",
       "5     0.721429\n",
       "6     0.703125\n",
       "7     0.694643\n",
       "4     0.650000\n",
       "3     0.632143\n",
       "2     0.582143\n",
       "1     0.417857\n",
       "dtype: float64"
      ]
     },
     "execution_count": 330,
     "metadata": {},
     "output_type": "execute_result"
    }
   ],
   "source": [
    "cs.max().sort_values(ascending=False)"
   ]
  },
  {
   "cell_type": "code",
   "execution_count": 360,
   "id": "9c0e6036-4a33-4b29-aaa1-51c7e3d197a9",
   "metadata": {},
   "outputs": [],
   "source": [
    "mdl = make_pipeline(\n",
    "    StandardScaler(),\n",
    "    LogisticRegression()\n",
    ")\n",
    "\n",
    "age_acc = {}\n",
    "for bin, _df in new_dataset.groupby(\"group\", sort=False):\n",
    "    y = _df.index.get_level_values(\"mouse\")\n",
    "    acc = cross_val_score(\n",
    "        mdl,\n",
    "        _df.drop(columns=[\"group\"]),\n",
    "        y,\n",
    "        cv=RepeatedStratifiedKFold(n_splits=n_samples // 2, n_repeats=15),\n",
    "    )\n",
    "    age_acc[bin] = acc\n",
    "age_acc = pd.DataFrame(age_acc)"
   ]
  },
  {
   "cell_type": "code",
   "execution_count": 361,
   "id": "4ac56668-0270-4240-bfb2-384b11302c21",
   "metadata": {},
   "outputs": [],
   "source": [
    "to_plt = age_acc.iloc[:, 1:-1].melt(var_name='age', value_name='accuracy')\n",
    "to_plt['age'] = to_plt['age'].map(dict(enumerate(avg_age.iloc[1:-1]))) / 7"
   ]
  },
  {
   "cell_type": "code",
   "execution_count": 373,
   "id": "654b639c-ac9c-4e38-b2db-b287cb8dc02a",
   "metadata": {},
   "outputs": [
    {
     "data": {
      "image/png": "[encoded data removed]",
      "text/plain": [
       "<Figure size 300x300 with 1 Axes>"
      ]
     },
     "metadata": {
      "image/png": {
       "height": 367,
       "width": 382
      }
     },
     "output_type": "display_data"
    }
   ],
   "source": [
    "fig = figure(1, 1)\n",
    "ax = sns.lineplot(\n",
    "    data=to_plt,\n",
    "    x=\"age\",\n",
    "    y=\"accuracy\",\n",
    "    color=\"k\",\n",
    "    err_kws=dict(lw=0),\n",
    "    lw=1,\n",
    "    errorbar=(\"ci\", 99),\n",
    ")\n",
    "ax.set(ylabel=\"Accuracy\", xlabel=\"Age (weeks)\", ylim=[0.75, 1])\n",
    "sns.despine()\n",
    "saver(fig, \"mouse-decoder-across-age\");"
   ]
  },
  {
   "cell_type": "code",
   "execution_count": 363,
   "id": "68b76327-db5f-43c8-9d9f-b50a756d5a86",
   "metadata": {},
   "outputs": [
    {
     "data": {
      "application/vnd.jupyter.widget-view+json": {
       "model_id": "caa8d3e5aec247e5a7a2e4f72f09839f",
       "version_major": 2,
       "version_minor": 0
      },
      "text/plain": [
       "  0%|          | 0/16 [00:00<?, ?it/s]"
      ]
     },
     "metadata": {},
     "output_type": "display_data"
    }
   ],
   "source": [
    "np.random.seed(0)\n",
    "shuff_age_acc = {}\n",
    "n_shuffs = 10\n",
    "for bin, _df in tqdm(new_dataset.groupby(\"group\", sort=False)):\n",
    "    y = _df.index.get_level_values(\"mouse\").to_numpy()\n",
    "    accs = []\n",
    "    for i in range(n_shuffs):\n",
    "        np.random.shuffle(y)\n",
    "        acc = cross_val_score(\n",
    "            mdl,\n",
    "            _df.drop(columns=[\"group\"]),\n",
    "            y,\n",
    "            cv=StratifiedKFold(n_splits=n_samples // 2),\n",
    "        )\n",
    "        accs.extend(acc)\n",
    "    shuff_age_acc[bin] = accs"
   ]
  },
  {
   "cell_type": "code",
   "execution_count": 371,
   "id": "8fed8114-5f79-4a2a-8c4f-7616dcd46cc8",
   "metadata": {},
   "outputs": [],
   "source": [
    "shuff_age_acc = pd.DataFrame(shuff_age_acc)\n",
    "shuff_plt = shuff_age_acc.iloc[:, 1:-1].melt(var_name='age', value_name='accuracy')\n",
    "shuff_plt['age'] = shuff_plt['age'].map(dict(enumerate(avg_age.iloc[1:-1]))) / 7"
   ]
  },
  {
   "cell_type": "code",
   "execution_count": 372,
   "id": "b56a457d-be92-487f-83fd-165e8b7e0727",
   "metadata": {},
   "outputs": [
    {
     "data": {
      "image/png": "[encoded data removed]",
      "text/plain": [
       "<Figure size 300x300 with 1 Axes>"
      ]
     },
     "metadata": {
      "image/png": {
       "height": 367,
       "width": 583
      }
     },
     "output_type": "display_data"
    }
   ],
   "source": [
    "fig = figure(1, 1)\n",
    "ax = sns.lineplot(data=to_plt, x='age', y='accuracy', color='k', err_kws=dict(lw=0), lw=1, label='Observed', errorbar=('ci', 99))\n",
    "ax = sns.lineplot(data=shuff_plt, x='age', y='accuracy', color='gray', err_kws=dict(lw=0), lw=1, label='Shuffle', ax=ax, errorbar=('ci', 99))\n",
    "ax.set(ylabel=\"Accuracy\", xlabel=\"Age (weeks)\", ylim=[None, 1])\n",
    "legend(ax)\n",
    "sns.despine()\n",
    "saver(fig, \"mouse-decoder-across-age-plus-shuffle\");"
   ]
  },
  {
   "cell_type": "code",
   "execution_count": null,
   "id": "019600f3-8422-4cd1-a7e0-cd883126855a",
   "metadata": {},
   "outputs": [],
   "source": []
  },
  {
   "cell_type": "code",
   "execution_count": null,
   "id": "e6c69571-d0b2-4683-b6ab-5febf517b7f2",
   "metadata": {},
   "outputs": [],
   "source": []
  }
 ],
 "metadata": {
  "kernelspec": {
   "display_name": "Ontogeny",
   "language": "python",
   "name": "aging"
  },
  "language_info": {
   "codemirror_mode": {
    "name": "ipython",
    "version": 3
   },
   "file_extension": ".py",
   "mimetype": "text/x-python",
   "name": "python",
   "nbconvert_exporter": "python",
   "pygments_lexer": "ipython3",
   "version": "3.10.10"
  },
  "widgets": {
   "application/vnd.jupyter.widget-state+json": {
    "state": {
     "0066c17d04c5409eaf9387801aeaada1": {
      "model_module": "@jupyter-widgets/base",
      "model_module_version": "2.0.0",
      "model_name": "LayoutModel",
      "state": {}
     },
     "00755e88f4924a408d52a626ce942b33": {
      "model_module": "@jupyter-widgets/controls",
      "model_module_version": "2.0.0",
      "model_name": "HTMLModel",
      "state": {
       "layout": "IPY_MODEL_4d2220972c5a45c5a28af67e0ce32013",
       "style": "IPY_MODEL_67da58db6f594cbca9c8b7b23c29f78d",
       "value": " 30/30 [00:05&lt;00:00,  6.13it/s]"
      }
     },
     "00ac5dfbbead45509b281098c30ed9f3": {
      "model_module": "@jupyter-widgets/base",
      "model_module_version": "2.0.0",
      "model_name": "LayoutModel",
      "state": {}
     },
     "00e7c68a4a4443fd928cb021ad35ca74": {
      "model_module": "@jupyter-widgets/controls",
      "model_module_version": "2.0.0",
      "model_name": "HTMLStyleModel",
      "state": {
       "description_width": "",
       "font_size": null,
       "text_color": null
      }
     },
     "010c870c6e574c6095225481fe596b23": {
      "model_module": "@jupyter-widgets/base",
      "model_module_version": "2.0.0",
      "model_name": "LayoutModel",
      "state": {}
     },
     "0110b7719c844dda91ab76d87ebf6ce5": {
      "model_module": "@jupyter-widgets/controls",
      "model_module_version": "2.0.0",
      "model_name": "HTMLStyleModel",
      "state": {
       "description_width": "",
       "font_size": null,
       "text_color": null
      }
     },
     "011a646ddb3d49acab61dbeb2907f170": {
      "model_module": "@jupyter-widgets/controls",
      "model_module_version": "2.0.0",
      "model_name": "HTMLStyleModel",
      "state": {
       "description_width": "",
       "font_size": null,
       "text_color": null
      }
     },
     "013e3e94ac854f91b5cf620fc6cc6e97": {
      "model_module": "@jupyter-widgets/controls",
      "model_module_version": "2.0.0",
      "model_name": "ProgressStyleModel",
      "state": {
       "description_width": ""
      }
     },
     "01ba00c5c89343bb8b90df9ece6128d9": {
      "model_module": "@jupyter-widgets/base",
      "model_module_version": "2.0.0",
      "model_name": "LayoutModel",
      "state": {}
     },
     "029c1472a31c475e9e99781af52038c8": {
      "model_module": "@jupyter-widgets/controls",
      "model_module_version": "2.0.0",
      "model_name": "HTMLModel",
      "state": {
       "layout": "IPY_MODEL_cc212409ac4d4a1c9f4846d8c3120a31",
       "style": "IPY_MODEL_2b7de73ec296471dacf6cdb5f616bfcf",
       "value": "100%"
      }
     },
     "02efb4565517464087b582ddebdbbfa3": {
      "model_module": "@jupyter-widgets/controls",
      "model_module_version": "2.0.0",
      "model_name": "ProgressStyleModel",
      "state": {
       "description_width": ""
      }
     },
     "02f4f3fe2d2e4ba8b254cde680241a39": {
      "model_module": "@jupyter-widgets/base",
      "model_module_version": "2.0.0",
      "model_name": "LayoutModel",
      "state": {}
     },
     "02f88bf17da44ccea567f219e14077d7": {
      "model_module": "@jupyter-widgets/controls",
      "model_module_version": "2.0.0",
      "model_name": "HTMLStyleModel",
      "state": {
       "description_width": "",
       "font_size": null,
       "text_color": null
      }
     },
     "033201c1d03a487a9703b0b32effcba2": {
      "model_module": "@jupyter-widgets/controls",
      "model_module_version": "2.0.0",
      "model_name": "HTMLStyleModel",
      "state": {
       "description_width": "",
       "font_size": null,
       "text_color": null
      }
     },
     "035781f55c664564987d00e887157f7b": {
      "model_module": "@jupyter-widgets/controls",
      "model_module_version": "2.0.0",
      "model_name": "ProgressStyleModel",
      "state": {
       "description_width": ""
      }
     },
     "038efcbf335549c3b2dbb8e9991a8b88": {
      "model_module": "@jupyter-widgets/base",
      "model_module_version": "2.0.0",
      "model_name": "LayoutModel",
      "state": {}
     },
     "03b5a8764f884bff94924f3116b92ac0": {
      "model_module": "@jupyter-widgets/controls",
      "model_module_version": "2.0.0",
      "model_name": "ProgressStyleModel",
      "state": {
       "description_width": ""
      }
     },
     "03dfc9a1888b49f4b551d7fc30d13d71": {
      "model_module": "@jupyter-widgets/controls",
      "model_module_version": "2.0.0",
      "model_name": "HBoxModel",
      "state": {
       "children": [
        "IPY_MODEL_da052b920ca54c3fb89db2f0d52c6a1f",
        "IPY_MODEL_ede9d472624a45eb83d83c4de1dda9c2",
        "IPY_MODEL_c89c634e904f466ab7cf3923ffd7e23b"
       ],
       "layout": "IPY_MODEL_4beece5f2ced4f40bd004452c4175ad6"
      }
     },
     "042f3abe8a064e00b472e0c297b14f3e": {
      "model_module": "@jupyter-widgets/controls",
      "model_module_version": "2.0.0",
      "model_name": "HTMLStyleModel",
      "state": {
       "description_width": "",
       "font_size": null,
       "text_color": null
      }
     },
     "0431cf5cb2684a1cada56e957592efe5": {
      "model_module": "@jupyter-widgets/base",
      "model_module_version": "2.0.0",
      "model_name": "LayoutModel",
      "state": {}
     },
     "052649204ba440339c829ccb6c3a9760": {
      "model_module": "@jupyter-widgets/controls",
      "model_module_version": "2.0.0",
      "model_name": "ProgressStyleModel",
      "state": {
       "description_width": ""
      }
     },
     "05339752433245bd88b8130ca4741cea": {
      "model_module": "@jupyter-widgets/base",
      "model_module_version": "2.0.0",
      "model_name": "LayoutModel",
      "state": {}
     },
     "05623ae05bca419a8de1ccd3242d58e2": {
      "model_module": "@jupyter-widgets/controls",
      "model_module_version": "2.0.0",
      "model_name": "HTMLModel",
      "state": {
       "layout": "IPY_MODEL_d36a932d32a54f288fc52c866a1a7ec4",
       "style": "IPY_MODEL_cab153153f83480d922a801c413730bb",
       "value": "100%"
      }
     },
     "05dda803141e4bda839e2dbb58b02a48": {
      "model_module": "@jupyter-widgets/base",
      "model_module_version": "2.0.0",
      "model_name": "LayoutModel",
      "state": {}
     },
     "0617d53eb190429ca454ab161b3ab0a3": {
      "model_module": "@jupyter-widgets/base",
      "model_module_version": "2.0.0",
      "model_name": "LayoutModel",
      "state": {}
     },
     "06a249389fb74e4da40d75f6eb92974c": {
      "model_module": "@jupyter-widgets/controls",
      "model_module_version": "2.0.0",
      "model_name": "HTMLStyleModel",
      "state": {
       "description_width": "",
       "font_size": null,
       "text_color": null
      }
     },
     "07700e7e96fb4a74866ee961afe455a9": {
      "model_module": "@jupyter-widgets/controls",
      "model_module_version": "2.0.0",
      "model_name": "HTMLStyleModel",
      "state": {
       "description_width": "",
       "font_size": null,
       "text_color": null
      }
     },
     "077e56000a694f688f8da76a6f995b9c": {
      "model_module": "@jupyter-widgets/controls",
      "model_module_version": "2.0.0",
      "model_name": "HTMLModel",
      "state": {
       "layout": "IPY_MODEL_3aaef2376dcb4391a14d8ba450d8222d",
       "style": "IPY_MODEL_555e88104617420981784b6d68ed51ca",
       "value": "  0%"
      }
     },
     "07b15d9fa83d49d896cee7e8c3e87e55": {
      "model_module": "@jupyter-widgets/controls",
      "model_module_version": "2.0.0",
      "model_name": "HTMLStyleModel",
      "state": {
       "description_width": "",
       "font_size": null,
       "text_color": null
      }
     },
     "07eb092aae1c431996b1a8f016e426f3": {
      "model_module": "@jupyter-widgets/controls",
      "model_module_version": "2.0.0",
      "model_name": "HBoxModel",
      "state": {
       "children": [
        "IPY_MODEL_a82dbc5132ea4f288f7047e33292cbe3",
        "IPY_MODEL_92a97317933f435a85a8a1c18661251f",
        "IPY_MODEL_1432fff8451d49ca84b18b051efc742b"
       ],
       "layout": "IPY_MODEL_e25343a32d4948948157b7c8f63fd4d7"
      }
     },
     "086134994dad46e4b511dcdc90f55b3d": {
      "model_module": "@jupyter-widgets/controls",
      "model_module_version": "2.0.0",
      "model_name": "HBoxModel",
      "state": {
       "children": [
        "IPY_MODEL_10ec9324612f4f17ab84e4e22629102f",
        "IPY_MODEL_b8ca2417844b4926ad3ae11b5409ca8a",
        "IPY_MODEL_0b365a569d764671b013fd5fc7c5deea"
       ],
       "layout": "IPY_MODEL_268e5eaf6c6248b79922820fcb70795a"
      }
     },
     "086415b321664170acce2cbb0249752f": {
      "model_module": "@jupyter-widgets/base",
      "model_module_version": "2.0.0",
      "model_name": "LayoutModel",
      "state": {}
     },
     "087dd0e6e869422ba1e6d43c8909ef47": {
      "model_module": "@jupyter-widgets/base",
      "model_module_version": "2.0.0",
      "model_name": "LayoutModel",
      "state": {}
     },
     "08e838626cb24dc2920d6b3556e7ac3f": {
      "model_module": "@jupyter-widgets/base",
      "model_module_version": "2.0.0",
      "model_name": "LayoutModel",
      "state": {}
     },
     "09491ccc34e548a1ad12b13defa75a44": {
      "model_module": "@jupyter-widgets/controls",
      "model_module_version": "2.0.0",
      "model_name": "HTMLModel",
      "state": {
       "layout": "IPY_MODEL_ef2fb54f2e204686b5293d2bf5ded8ef",
       "style": "IPY_MODEL_34b7fc15c1b64797ad96e7c4d5084b23",
       "value": " 30/30 [00:05&lt;00:00,  5.89it/s]"
      }
     },
     "0988ce33538348bba72f78c004f654bc": {
      "model_module": "@jupyter-widgets/controls",
      "model_module_version": "2.0.0",
      "model_name": "HTMLModel",
      "state": {
       "layout": "IPY_MODEL_9440ff3947ea4b8c9cc1576d1251eae9",
       "style": "IPY_MODEL_ac9f1cf1b7bf4ee6ae2b53b5e35723fe",
       "value": "100%"
      }
     },
     "09a4240f8a2744698e2060696ca1ea28": {
      "model_module": "@jupyter-widgets/base",
      "model_module_version": "2.0.0",
      "model_name": "LayoutModel",
      "state": {}
     },
     "0a2313d071c048dbb41561f4d862acda": {
      "model_module": "@jupyter-widgets/controls",
      "model_module_version": "2.0.0",
      "model_name": "HTMLStyleModel",
      "state": {
       "description_width": "",
       "font_size": null,
       "text_color": null
      }
     },
     "0a740e3f2b2a46529268b1176667bdbb": {
      "model_module": "@jupyter-widgets/controls",
      "model_module_version": "2.0.0",
      "model_name": "HTMLModel",
      "state": {
       "layout": "IPY_MODEL_c470ef6bc7e5466fb6a9de7d58ea3a8d",
       "style": "IPY_MODEL_520a5d79babd45c9a008c8568327ec59",
       "value": " 42/42 [07:08&lt;00:00, 11.12s/it]"
      }
     },
     "0a74287895f44dc4948965c4d76386b7": {
      "model_module": "@jupyter-widgets/controls",
      "model_module_version": "2.0.0",
      "model_name": "HBoxModel",
      "state": {
       "children": [
        "IPY_MODEL_3fab5c43c1844a94b34c9f200b9e25e2",
        "IPY_MODEL_57331687515349be9e7953ef9ba5281d",
        "IPY_MODEL_194dbc6909dd44ebbe41fd93b6441b27"
       ],
       "layout": "IPY_MODEL_919bc3730da54eb8baa2e6ab3f11c94f"
      }
     },
     "0ad463b190264627ab53d0cf216a8ba6": {
      "model_module": "@jupyter-widgets/controls",
      "model_module_version": "2.0.0",
      "model_name": "HTMLModel",
      "state": {
       "layout": "IPY_MODEL_6aa0e97db39c42778cbe0bd0752039f2",
       "style": "IPY_MODEL_c997abedb91c461da0c6c897f4e42d56",
       "value": "100%"
      }
     },
     "0b189e73785c49959fd5f28a16f69dd5": {
      "model_module": "@jupyter-widgets/controls",
      "model_module_version": "2.0.0",
      "model_name": "ProgressStyleModel",
      "state": {
       "description_width": ""
      }
     },
     "0b365a569d764671b013fd5fc7c5deea": {
      "model_module": "@jupyter-widgets/controls",
      "model_module_version": "2.0.0",
      "model_name": "HTMLModel",
      "state": {
       "layout": "IPY_MODEL_6b50737b57284f2e9700a1c769fc4e9c",
       "style": "IPY_MODEL_56dfd0cd45c34a68a4d600d3e43d8e77",
       "value": " 16/16 [00:10&lt;00:00,  1.64it/s]"
      }
     },
     "0b40c26fd78e451ab7262a0145c3a59b": {
      "model_module": "@jupyter-widgets/controls",
      "model_module_version": "2.0.0",
      "model_name": "HTMLModel",
      "state": {
       "layout": "IPY_MODEL_5436d5b518dd48b9806acfb6f1885360",
       "style": "IPY_MODEL_811d35b3725e43869e61320c1767f236",
       "value": "100%"
      }
     },
     "0b4bad1b1b3a4abf99ca6299e7730d66": {
      "model_module": "@jupyter-widgets/base",
      "model_module_version": "2.0.0",
      "model_name": "LayoutModel",
      "state": {}
     },
     "0c33139542a444c6a529eabb0d6ced68": {
      "model_module": "@jupyter-widgets/controls",
      "model_module_version": "2.0.0",
      "model_name": "HBoxModel",
      "state": {
       "children": [
        "IPY_MODEL_5dbca5453fe8495a9a9a499360cca09f",
        "IPY_MODEL_480b68eaa3964cba85efb04a7e9c9b0b",
        "IPY_MODEL_2c799473fb6646e4a0db9f83a759bbed"
       ],
       "layout": "IPY_MODEL_85ad3227f1bc48b6b8e8bdfe4df406bd"
      }
     },
     "0c99b3e0185e46cd83dacd5110522b11": {
      "model_module": "@jupyter-widgets/base",
      "model_module_version": "2.0.0",
      "model_name": "LayoutModel",
      "state": {}
     },
     "0cc8ee3a01ac4133ad1401c872108255": {
      "model_module": "@jupyter-widgets/controls",
      "model_module_version": "2.0.0",
      "model_name": "HBoxModel",
      "state": {
       "children": [
        "IPY_MODEL_3fee2b85f5994050b843e0c1de8dcba4",
        "IPY_MODEL_35bdfd59c6d9455c8d7feae2519487e5",
        "IPY_MODEL_09491ccc34e548a1ad12b13defa75a44"
       ],
       "layout": "IPY_MODEL_ff7cfa12e4ae4d5289c231ecdbd00aef"
      }
     },
     "0cd365c08fc446eab2f5bd5aaabe143c": {
      "model_module": "@jupyter-widgets/controls",
      "model_module_version": "2.0.0",
      "model_name": "ProgressStyleModel",
      "state": {
       "description_width": ""
      }
     },
     "0d1b393a97f9469c932eb9422bc08e59": {
      "model_module": "@jupyter-widgets/base",
      "model_module_version": "2.0.0",
      "model_name": "LayoutModel",
      "state": {}
     },
     "0dbf47ac807e42a18a88d44f4fca34dc": {
      "model_module": "@jupyter-widgets/base",
      "model_module_version": "2.0.0",
      "model_name": "LayoutModel",
      "state": {}
     },
     "0dc012d83a8a44399226ec3ccdf3ee96": {
      "model_module": "@jupyter-widgets/base",
      "model_module_version": "2.0.0",
      "model_name": "LayoutModel",
      "state": {}
     },
     "0e632b42ecf94464aba5c5392355f008": {
      "model_module": "@jupyter-widgets/controls",
      "model_module_version": "2.0.0",
      "model_name": "ProgressStyleModel",
      "state": {
       "description_width": ""
      }
     },
     "0e93e28b98594f5e8d54484ed7a99396": {
      "model_module": "@jupyter-widgets/controls",
      "model_module_version": "2.0.0",
      "model_name": "HBoxModel",
      "state": {
       "children": [
        "IPY_MODEL_077e56000a694f688f8da76a6f995b9c",
        "IPY_MODEL_b0d654a979e64050b9b1b908b7b44dd3",
        "IPY_MODEL_dbb5db465ff14a7e979a07ed74b13770"
       ],
       "layout": "IPY_MODEL_ae7b4effdbce4fa984e9d1b6638a6f54"
      }
     },
     "0f141687f77c42929e9f4cd1fd8bb286": {
      "model_module": "@jupyter-widgets/controls",
      "model_module_version": "2.0.0",
      "model_name": "HBoxModel",
      "state": {
       "children": [
        "IPY_MODEL_7781e81b629e4d87be9b546343c4a6b4",
        "IPY_MODEL_7c150e55dd8549c1ab82bac0f425081d",
        "IPY_MODEL_8273ce638bb047ab973214f7b098e194"
       ],
       "layout": "IPY_MODEL_4d1486148124440495db0b30d801958a"
      }
     },
     "0f6eb0a77e6343b58f9be561855b2379": {
      "model_module": "@jupyter-widgets/base",
      "model_module_version": "2.0.0",
      "model_name": "LayoutModel",
      "state": {}
     },
     "10217591bbc74c04a18ed478479f43d9": {
      "model_module": "@jupyter-widgets/controls",
      "model_module_version": "2.0.0",
      "model_name": "ProgressStyleModel",
      "state": {
       "description_width": ""
      }
     },
     "106cbc1420a54aa0a1ce3d06cb8a387c": {
      "model_module": "@jupyter-widgets/base",
      "model_module_version": "2.0.0",
      "model_name": "LayoutModel",
      "state": {}
     },
     "10963941a10d4e0a83a734e0b828b150": {
      "model_module": "@jupyter-widgets/controls",
      "model_module_version": "2.0.0",
      "model_name": "HTMLModel",
      "state": {
       "layout": "IPY_MODEL_843c80ecc92c41209150163d136515e1",
       "style": "IPY_MODEL_e16252889ac44248ad8875a08bd1f4f9",
       "value": "100%"
      }
     },
     "10d554e384d442299e8fe9d7eb1e41e9": {
      "model_module": "@jupyter-widgets/controls",
      "model_module_version": "2.0.0",
      "model_name": "HTMLModel",
      "state": {
       "layout": "IPY_MODEL_9c2edb49e2d74eb3b576517d3ea080dd",
       "style": "IPY_MODEL_76f5159a8c9446968415c8c5e7523cc4",
       "value": "100%"
      }
     },
     "10ec9324612f4f17ab84e4e22629102f": {
      "model_module": "@jupyter-widgets/controls",
      "model_module_version": "2.0.0",
      "model_name": "HTMLModel",
      "state": {
       "layout": "IPY_MODEL_84dab47e2a3946fabcfdfff32d747603",
       "style": "IPY_MODEL_e3940234ec5344c0ae20c7927a964e0e",
       "value": "100%"
      }
     },
     "115a52539ecf42f3bc89c947a33533f9": {
      "model_module": "@jupyter-widgets/base",
      "model_module_version": "2.0.0",
      "model_name": "LayoutModel",
      "state": {}
     },
     "118198edf8db40e6ae8a0b848f12054d": {
      "model_module": "@jupyter-widgets/controls",
      "model_module_version": "2.0.0",
      "model_name": "ProgressStyleModel",
      "state": {
       "description_width": ""
      }
     },
     "1189dcc8919347b58ad6c2a0237ecad5": {
      "model_module": "@jupyter-widgets/controls",
      "model_module_version": "2.0.0",
      "model_name": "ProgressStyleModel",
      "state": {
       "description_width": ""
      }
     },
     "1249031f6f7f4fe0a8d415f860d0f20f": {
      "model_module": "@jupyter-widgets/base",
      "model_module_version": "2.0.0",
      "model_name": "LayoutModel",
      "state": {}
     },
     "125375b38cdf4c23b55dfaed167b9190": {
      "model_module": "@jupyter-widgets/controls",
      "model_module_version": "2.0.0",
      "model_name": "ProgressStyleModel",
      "state": {
       "description_width": ""
      }
     },
     "12bcc88d1f3c4ac2abc3412fa1769a82": {
      "model_module": "@jupyter-widgets/controls",
      "model_module_version": "2.0.0",
      "model_name": "HTMLModel",
      "state": {
       "layout": "IPY_MODEL_849170704b464115846a38bb9342ae39",
       "style": "IPY_MODEL_dc25de042bfd4fffb55440d74a1cd6cf",
       "value": "100%"
      }
     },
     "12d1f229f4ea4a74a7137249112c4fc5": {
      "model_module": "@jupyter-widgets/base",
      "model_module_version": "2.0.0",
      "model_name": "LayoutModel",
      "state": {}
     },
     "12ea951c6a524957a24baee97d993ae1": {
      "model_module": "@jupyter-widgets/controls",
      "model_module_version": "2.0.0",
      "model_name": "HTMLModel",
      "state": {
       "layout": "IPY_MODEL_68acc760ac3c4355a184de71d85fe8a0",
       "style": "IPY_MODEL_4ddb6e8f89f04f28b38f9ee1389d6112",
       "value": "100%"
      }
     },
     "12eb54d98fd7444da7e0bd89fad5ec77": {
      "model_module": "@jupyter-widgets/controls",
      "model_module_version": "2.0.0",
      "model_name": "HTMLStyleModel",
      "state": {
       "description_width": "",
       "font_size": null,
       "text_color": null
      }
     },
     "1322b3f2529b4ca5b7231f841e0e6b8f": {
      "model_module": "@jupyter-widgets/controls",
      "model_module_version": "2.0.0",
      "model_name": "FloatProgressModel",
      "state": {
       "bar_style": "success",
       "layout": "IPY_MODEL_50fb389d51114619874822577e13eb19",
       "max": 18,
       "style": "IPY_MODEL_02efb4565517464087b582ddebdbbfa3",
       "value": 18
      }
     },
     "1357f06c338a431089361ef573f9f671": {
      "model_module": "@jupyter-widgets/base",
      "model_module_version": "2.0.0",
      "model_name": "LayoutModel",
      "state": {}
     },
     "13e2c7bd9e0d4b709defabc88d775edc": {
      "model_module": "@jupyter-widgets/controls",
      "model_module_version": "2.0.0",
      "model_name": "ProgressStyleModel",
      "state": {
       "description_width": ""
      }
     },
     "1432fff8451d49ca84b18b051efc742b": {
      "model_module": "@jupyter-widgets/controls",
      "model_module_version": "2.0.0",
      "model_name": "HTMLModel",
      "state": {
       "layout": "IPY_MODEL_0d1b393a97f9469c932eb9422bc08e59",
       "style": "IPY_MODEL_033201c1d03a487a9703b0b32effcba2",
       "value": " 18/18 [00:06&lt;00:00,  2.68it/s]"
      }
     },
     "148f18078fa94cf48c9ce23e70aebc06": {
      "model_module": "@jupyter-widgets/controls",
      "model_module_version": "2.0.0",
      "model_name": "FloatProgressModel",
      "state": {
       "bar_style": "success",
       "layout": "IPY_MODEL_8f07c3f327ff4f65ab73e0f01a644f62",
       "max": 30,
       "style": "IPY_MODEL_516bf74ac5f74387865c2fc8234f172a",
       "value": 30
      }
     },
     "14dbbb6e3d5b4e0ba89e0d71c299d9b2": {
      "model_module": "@jupyter-widgets/controls",
      "model_module_version": "2.0.0",
      "model_name": "HBoxModel",
      "state": {
       "children": [
        "IPY_MODEL_3ed5b20daaa74589857d5c9c3bac2725",
        "IPY_MODEL_e51dcdfd6c8a4d738cd002d9398e3914",
        "IPY_MODEL_cf0664c66168476ca8638e8161ab3305"
       ],
       "layout": "IPY_MODEL_69af889d7f104b1b8eeab452ccca04a5"
      }
     },
     "151964e95f4f42389347257d9e7a4ea2": {
      "model_module": "@jupyter-widgets/base",
      "model_module_version": "2.0.0",
      "model_name": "LayoutModel",
      "state": {}
     },
     "155d75a614574e0cb56f7ec2288eff78": {
      "model_module": "@jupyter-widgets/base",
      "model_module_version": "2.0.0",
      "model_name": "LayoutModel",
      "state": {}
     },
     "15f4a5989b934690ad89b1c33f851616": {
      "model_module": "@jupyter-widgets/controls",
      "model_module_version": "2.0.0",
      "model_name": "HTMLStyleModel",
      "state": {
       "description_width": "",
       "font_size": null,
       "text_color": null
      }
     },
     "1607c741e37e41d5bc3d2ed96c27dc54": {
      "model_module": "@jupyter-widgets/controls",
      "model_module_version": "2.0.0",
      "model_name": "HTMLModel",
      "state": {
       "layout": "IPY_MODEL_1249031f6f7f4fe0a8d415f860d0f20f",
       "style": "IPY_MODEL_26ec7f21202d42599732580afb15a73d",
       "value": " 18/18 [00:19&lt;00:00,  1.14s/it]"
      }
     },
     "1644c8c41df24432a5436dc6ed2f7dc0": {
      "model_module": "@jupyter-widgets/controls",
      "model_module_version": "2.0.0",
      "model_name": "HTMLModel",
      "state": {
       "layout": "IPY_MODEL_de682180e3eb4ea89de5b9565382139f",
       "style": "IPY_MODEL_52971ad5a80448c4b53e015099aa6464",
       "value": "100%"
      }
     },
     "177ba7210b5b4806b7b6039e205ff7a3": {
      "model_module": "@jupyter-widgets/controls",
      "model_module_version": "2.0.0",
      "model_name": "HTMLModel",
      "state": {
       "layout": "IPY_MODEL_1868157ca37a448cba1aecc51be20e35",
       "style": "IPY_MODEL_ea71ada05b7f44e0a21929ec44d8a23b",
       "value": "100%"
      }
     },
     "1788a7fe5f4240e7b25a36493cba862f": {
      "model_module": "@jupyter-widgets/controls",
      "model_module_version": "2.0.0",
      "model_name": "HBoxModel",
      "state": {
       "children": [
        "IPY_MODEL_12bcc88d1f3c4ac2abc3412fa1769a82",
        "IPY_MODEL_472aa8fbc8994fddab15a8cfef08f027",
        "IPY_MODEL_d7f5b663b31841999b5aa513974780ad"
       ],
       "layout": "IPY_MODEL_b6da349bd8ff40ee871d8e57aef831c7"
      }
     },
     "183b583121d349e39c962b1a19206d69": {
      "model_module": "@jupyter-widgets/base",
      "model_module_version": "2.0.0",
      "model_name": "LayoutModel",
      "state": {}
     },
     "1868157ca37a448cba1aecc51be20e35": {
      "model_module": "@jupyter-widgets/base",
      "model_module_version": "2.0.0",
      "model_name": "LayoutModel",
      "state": {}
     },
     "18b26c47ebd84169bafa1d86b4c38974": {
      "model_module": "@jupyter-widgets/base",
      "model_module_version": "2.0.0",
      "model_name": "LayoutModel",
      "state": {}
     },
     "18ee237603754f48b0f0bf3dfb12ee45": {
      "model_module": "@jupyter-widgets/controls",
      "model_module_version": "2.0.0",
      "model_name": "HTMLStyleModel",
      "state": {
       "description_width": "",
       "font_size": null,
       "text_color": null
      }
     },
     "191c7952fc53463daa8298ca3a6d4b2a": {
      "model_module": "@jupyter-widgets/controls",
      "model_module_version": "2.0.0",
      "model_name": "ProgressStyleModel",
      "state": {
       "description_width": ""
      }
     },
     "193ad45481b54d3595a38bcb4589f412": {
      "model_module": "@jupyter-widgets/base",
      "model_module_version": "2.0.0",
      "model_name": "LayoutModel",
      "state": {}
     },
     "1946be2c9cca4d809c2786433985fdd2": {
      "model_module": "@jupyter-widgets/base",
      "model_module_version": "2.0.0",
      "model_name": "LayoutModel",
      "state": {}
     },
     "194dbc6909dd44ebbe41fd93b6441b27": {
      "model_module": "@jupyter-widgets/controls",
      "model_module_version": "2.0.0",
      "model_name": "HTMLModel",
      "state": {
       "layout": "IPY_MODEL_cf849a4db03a487e9d251fb240b8b3ca",
       "style": "IPY_MODEL_9a8aeaee1d8c4c54b8134acd67bf2fd0",
       "value": " 16/16 [00:09&lt;00:00,  1.74it/s]"
      }
     },
     "19ad22ff25044494946b5ddfa076f2b0": {
      "model_module": "@jupyter-widgets/controls",
      "model_module_version": "2.0.0",
      "model_name": "HBoxModel",
      "state": {
       "children": [
        "IPY_MODEL_e38aa0fb940f49938dca86c72255a8d5",
        "IPY_MODEL_ab9aaa72d91a4476b22f4670f77365a8",
        "IPY_MODEL_95b07f98816b4aa9aa75dcc946cb121d"
       ],
       "layout": "IPY_MODEL_f11935b0a4304261817dcff99c714231"
      }
     },
     "1a0116ffcf0543328103f2ca6861afe3": {
      "model_module": "@jupyter-widgets/controls",
      "model_module_version": "2.0.0",
      "model_name": "HTMLModel",
      "state": {
       "layout": "IPY_MODEL_42ec17f1205449d893eec5f10ed3fb6e",
       "style": "IPY_MODEL_b4c05580fc76419f9469d02b4a052e21",
       "value": " 18/18 [00:05&lt;00:00,  3.55it/s]"
      }
     },
     "1abfc2d2f8c2470c9c451c2e734da52a": {
      "model_module": "@jupyter-widgets/controls",
      "model_module_version": "2.0.0",
      "model_name": "FloatProgressModel",
      "state": {
       "bar_style": "success",
       "layout": "IPY_MODEL_4516b30814b049a1b20d9e19cde9c360",
       "max": 18,
       "style": "IPY_MODEL_afa14e1533a04c8095bfdc26a5c8d577",
       "value": 18
      }
     },
     "1af0d42e796d4f3a8a2b96d945bcba06": {
      "model_module": "@jupyter-widgets/controls",
      "model_module_version": "2.0.0",
      "model_name": "HTMLModel",
      "state": {
       "layout": "IPY_MODEL_d222deba0b3944cdafd6d1ac14bf85c6",
       "style": "IPY_MODEL_a73d0f86fb5140299544f300122a1e2d",
       "value": "100%"
      }
     },
     "1b1b259d562f4e4f8241e6893d07a349": {
      "model_module": "@jupyter-widgets/controls",
      "model_module_version": "2.0.0",
      "model_name": "HTMLStyleModel",
      "state": {
       "description_width": "",
       "font_size": null,
       "text_color": null
      }
     },
     "1b8b079da1c84ec58985acd3001612a0": {
      "model_module": "@jupyter-widgets/controls",
      "model_module_version": "2.0.0",
      "model_name": "HTMLStyleModel",
      "state": {
       "description_width": "",
       "font_size": null,
       "text_color": null
      }
     },
     "1b9cf159d35246e7b643658261f76fca": {
      "model_module": "@jupyter-widgets/base",
      "model_module_version": "2.0.0",
      "model_name": "LayoutModel",
      "state": {}
     },
     "1c4b465702924c0b8d804890d815865b": {
      "model_module": "@jupyter-widgets/controls",
      "model_module_version": "2.0.0",
      "model_name": "HTMLStyleModel",
      "state": {
       "description_width": "",
       "font_size": null,
       "text_color": null
      }
     },
     "1d1b5a4caed14826bfb3be0060b2c71f": {
      "model_module": "@jupyter-widgets/controls",
      "model_module_version": "2.0.0",
      "model_name": "HTMLStyleModel",
      "state": {
       "description_width": "",
       "font_size": null,
       "text_color": null
      }
     },
     "1d2a1cb5408544dab06a424738e92550": {
      "model_module": "@jupyter-widgets/controls",
      "model_module_version": "2.0.0",
      "model_name": "HTMLModel",
      "state": {
       "layout": "IPY_MODEL_6240738535b34cdea0611a7df4dc3083",
       "style": "IPY_MODEL_aaa58ef28b2240f782da898dd908fac8",
       "value": "100%"
      }
     },
     "1d491c87b7ea470ba8af8770a6f9f486": {
      "model_module": "@jupyter-widgets/controls",
      "model_module_version": "2.0.0",
      "model_name": "FloatProgressModel",
      "state": {
       "bar_style": "success",
       "layout": "IPY_MODEL_2c1288171070407d9d940766e5bbfa0e",
       "max": 30,
       "style": "IPY_MODEL_87a5cc30b35c4909a5189f05fe5b4688",
       "value": 30
      }
     },
     "1d98ee4e9bbb4b4da232a8807191783c": {
      "model_module": "@jupyter-widgets/controls",
      "model_module_version": "2.0.0",
      "model_name": "HTMLModel",
      "state": {
       "layout": "IPY_MODEL_46378da464c549ba800dd6997c60927b",
       "style": "IPY_MODEL_90e6c71f55124e2dae618b5be67dfbe4",
       "value": "100%"
      }
     },
     "1e6b7b46f5c04848be13f2dde1d4701e": {
      "model_module": "@jupyter-widgets/base",
      "model_module_version": "2.0.0",
      "model_name": "LayoutModel",
      "state": {}
     },
     "1f02d4f62b8b49e7a30389913171abda": {
      "model_module": "@jupyter-widgets/controls",
      "model_module_version": "2.0.0",
      "model_name": "HBoxModel",
      "state": {
       "children": [
        "IPY_MODEL_05623ae05bca419a8de1ccd3242d58e2",
        "IPY_MODEL_df129d8b2f874e22b88cf4d5a470e9bc",
        "IPY_MODEL_83e7aa1b42064fa08cf744936502cd26"
       ],
       "layout": "IPY_MODEL_44cf007c1d7249f28f3dcc9ed905bf85"
      }
     },
     "1f218d334e554381811789332c73a46a": {
      "model_module": "@jupyter-widgets/base",
      "model_module_version": "2.0.0",
      "model_name": "LayoutModel",
      "state": {}
     },
     "1f56930bb7fc4c498165431019455882": {
      "model_module": "@jupyter-widgets/base",
      "model_module_version": "2.0.0",
      "model_name": "LayoutModel",
      "state": {}
     },
     "1fd1894a565e48ed9e184681a0e71860": {
      "model_module": "@jupyter-widgets/controls",
      "model_module_version": "2.0.0",
      "model_name": "ProgressStyleModel",
      "state": {
       "description_width": ""
      }
     },
     "1fe6b57fb98e4a5b9fd97b300b48e19d": {
      "model_module": "@jupyter-widgets/base",
      "model_module_version": "2.0.0",
      "model_name": "LayoutModel",
      "state": {}
     },
     "206483ba7d0c40459e893bdda61d264c": {
      "model_module": "@jupyter-widgets/controls",
      "model_module_version": "2.0.0",
      "model_name": "ProgressStyleModel",
      "state": {
       "description_width": ""
      }
     },
     "20cda836efbe4ad1a5eb1cfb367b4440": {
      "model_module": "@jupyter-widgets/controls",
      "model_module_version": "2.0.0",
      "model_name": "HTMLStyleModel",
      "state": {
       "description_width": "",
       "font_size": null,
       "text_color": null
      }
     },
     "20ddcf6b222b4fed9aa0a6bb1e8a564b": {
      "model_module": "@jupyter-widgets/base",
      "model_module_version": "2.0.0",
      "model_name": "LayoutModel",
      "state": {}
     },
     "20ff74ad003e4514957d8d2857053d19": {
      "model_module": "@jupyter-widgets/base",
      "model_module_version": "2.0.0",
      "model_name": "LayoutModel",
      "state": {}
     },
     "215665a7dc9b49a3a55ada2ae74e9d1f": {
      "model_module": "@jupyter-widgets/controls",
      "model_module_version": "2.0.0",
      "model_name": "FloatProgressModel",
      "state": {
       "bar_style": "success",
       "layout": "IPY_MODEL_c05e8a8e7933491bb302467675e4c9f4",
       "max": 30,
       "style": "IPY_MODEL_9eb1a8d8f8734295b2b48f6693018a71",
       "value": 30
      }
     },
     "218faae1cafc4853b97d40ef5a7b1690": {
      "model_module": "@jupyter-widgets/base",
      "model_module_version": "2.0.0",
      "model_name": "LayoutModel",
      "state": {}
     },
     "21f6ffaf74954e33bf110c72c7221abb": {
      "model_module": "@jupyter-widgets/base",
      "model_module_version": "2.0.0",
      "model_name": "LayoutModel",
      "state": {}
     },
     "221c0a08bb4c470eb42c99f1d8b5c1e6": {
      "model_module": "@jupyter-widgets/controls",
      "model_module_version": "2.0.0",
      "model_name": "HBoxModel",
      "state": {
       "children": [
        "IPY_MODEL_10d554e384d442299e8fe9d7eb1e41e9",
        "IPY_MODEL_d03dbd7a59d14ab7ae0248809f815f68",
        "IPY_MODEL_4c590414d8f649009f62257cbbdde7e6"
       ],
       "layout": "IPY_MODEL_b278821f928b49148ebc375b062a353d"
      }
     },
     "223a6a5472fe4ad9964197190dd6afb2": {
      "model_module": "@jupyter-widgets/base",
      "model_module_version": "2.0.0",
      "model_name": "LayoutModel",
      "state": {}
     },
     "227792eddb494b25a74c4a50a2b269a3": {
      "model_module": "@jupyter-widgets/controls",
      "model_module_version": "2.0.0",
      "model_name": "HTMLStyleModel",
      "state": {
       "description_width": "",
       "font_size": null,
       "text_color": null
      }
     },
     "236d964e1a7a4c789c98f1ce6524dc27": {
      "model_module": "@jupyter-widgets/base",
      "model_module_version": "2.0.0",
      "model_name": "LayoutModel",
      "state": {}
     },
     "2374c501997748a194619b0d75bb9c08": {
      "model_module": "@jupyter-widgets/base",
      "model_module_version": "2.0.0",
      "model_name": "LayoutModel",
      "state": {}
     },
     "237d62e121f84ad296eff7b32c866632": {
      "model_module": "@jupyter-widgets/controls",
      "model_module_version": "2.0.0",
      "model_name": "HTMLStyleModel",
      "state": {
       "description_width": "",
       "font_size": null,
       "text_color": null
      }
     },
     "23b9c200dca04b2aadc3909e77e1dd7c": {
      "model_module": "@jupyter-widgets/controls",
      "model_module_version": "2.0.0",
      "model_name": "ProgressStyleModel",
      "state": {
       "description_width": ""
      }
     },
     "23c14b11e1c44f9baf25659d097066e6": {
      "model_module": "@jupyter-widgets/controls",
      "model_module_version": "2.0.0",
      "model_name": "HTMLModel",
      "state": {
       "layout": "IPY_MODEL_9d2bfab533c0497c975891e0b49927e1",
       "style": "IPY_MODEL_15f4a5989b934690ad89b1c33f851616",
       "value": " 30/30 [00:05&lt;00:00,  5.98it/s]"
      }
     },
     "23ebba71f2f84cd6bb15c4e198fb0300": {
      "model_module": "@jupyter-widgets/controls",
      "model_module_version": "2.0.0",
      "model_name": "HTMLStyleModel",
      "state": {
       "description_width": "",
       "font_size": null,
       "text_color": null
      }
     },
     "2403fc83b5304ca3bb6ad46681a44254": {
      "model_module": "@jupyter-widgets/base",
      "model_module_version": "2.0.0",
      "model_name": "LayoutModel",
      "state": {}
     },
     "2444671acdb44c96b108a04f1ffefd48": {
      "model_module": "@jupyter-widgets/controls",
      "model_module_version": "2.0.0",
      "model_name": "ProgressStyleModel",
      "state": {
       "description_width": ""
      }
     },
     "2450320cf3434f8dbf615cf118584635": {
      "model_module": "@jupyter-widgets/controls",
      "model_module_version": "2.0.0",
      "model_name": "HTMLStyleModel",
      "state": {
       "description_width": "",
       "font_size": null,
       "text_color": null
      }
     },
     "255249ab8b9c4d78acf307e491d6106b": {
      "model_module": "@jupyter-widgets/base",
      "model_module_version": "2.0.0",
      "model_name": "LayoutModel",
      "state": {}
     },
     "25703b08eb12473faa392da9bea7b6c9": {
      "model_module": "@jupyter-widgets/controls",
      "model_module_version": "2.0.0",
      "model_name": "HTMLStyleModel",
      "state": {
       "description_width": "",
       "font_size": null,
       "text_color": null
      }
     },
     "2586028698b442f68e9045ababd68f96": {
      "model_module": "@jupyter-widgets/controls",
      "model_module_version": "2.0.0",
      "model_name": "HTMLModel",
      "state": {
       "layout": "IPY_MODEL_f08b9a3de268445e9684f793923ef5a5",
       "style": "IPY_MODEL_ba3b46c0512b4185b99f32f376d9c25b",
       "value": "100%"
      }
     },
     "25e5ec8cdc1440df9856eda07eee0846": {
      "model_module": "@jupyter-widgets/base",
      "model_module_version": "2.0.0",
      "model_name": "LayoutModel",
      "state": {}
     },
     "268e5eaf6c6248b79922820fcb70795a": {
      "model_module": "@jupyter-widgets/base",
      "model_module_version": "2.0.0",
      "model_name": "LayoutModel",
      "state": {}
     },
     "26c492c145924e8f90c767704ea9935f": {
      "model_module": "@jupyter-widgets/controls",
      "model_module_version": "2.0.0",
      "model_name": "HTMLStyleModel",
      "state": {
       "description_width": "",
       "font_size": null,
       "text_color": null
      }
     },
     "26ec7f21202d42599732580afb15a73d": {
      "model_module": "@jupyter-widgets/controls",
      "model_module_version": "2.0.0",
      "model_name": "HTMLStyleModel",
      "state": {
       "description_width": "",
       "font_size": null,
       "text_color": null
      }
     },
     "274d2241a2fa4d80b01e673a5ddb6844": {
      "model_module": "@jupyter-widgets/base",
      "model_module_version": "2.0.0",
      "model_name": "LayoutModel",
      "state": {}
     },
     "2760f6d729674937bf0057fe201dd6a8": {
      "model_module": "@jupyter-widgets/controls",
      "model_module_version": "2.0.0",
      "model_name": "HTMLStyleModel",
      "state": {
       "description_width": "",
       "font_size": null,
       "text_color": null
      }
     },
     "27ead5bcdef4451ab002f6e6fe6b7a80": {
      "model_module": "@jupyter-widgets/controls",
      "model_module_version": "2.0.0",
      "model_name": "FloatProgressModel",
      "state": {
       "bar_style": "success",
       "layout": "IPY_MODEL_758929581913404ab4a745d9b5647333",
       "max": 18,
       "style": "IPY_MODEL_b3f40d2fcad34dcc90ad179b040ef1a2",
       "value": 18
      }
     },
     "2819889630dd493e928d03fd50a7fdfb": {
      "model_module": "@jupyter-widgets/controls",
      "model_module_version": "2.0.0",
      "model_name": "HTMLModel",
      "state": {
       "layout": "IPY_MODEL_435f115c223445b39425d0e2fa0a403f",
       "style": "IPY_MODEL_c6186393f97443968ddff18db0762d1a",
       "value": " 18/18 [00:06&lt;00:00,  2.76it/s]"
      }
     },
     "2821cd10f6f7468f91b0194f6241f3c9": {
      "model_module": "@jupyter-widgets/base",
      "model_module_version": "2.0.0",
      "model_name": "LayoutModel",
      "state": {}
     },
     "283ae1b3315544e99ffc846824c1c776": {
      "model_module": "@jupyter-widgets/controls",
      "model_module_version": "2.0.0",
      "model_name": "HTMLStyleModel",
      "state": {
       "description_width": "",
       "font_size": null,
       "text_color": null
      }
     },
     "286099fd05f34ac8ba714516deba7892": {
      "model_module": "@jupyter-widgets/controls",
      "model_module_version": "2.0.0",
      "model_name": "HTMLStyleModel",
      "state": {
       "description_width": "",
       "font_size": null,
       "text_color": null
      }
     },
     "28aeb6e1fea34a54b31345cf160d866d": {
      "model_module": "@jupyter-widgets/controls",
      "model_module_version": "2.0.0",
      "model_name": "HTMLModel",
      "state": {
       "layout": "IPY_MODEL_ae21248ba25f401abff6fa72d3bfd569",
       "style": "IPY_MODEL_4c4c601fb48949dabdc5678512b61f30",
       "value": "100%"
      }
     },
     "298f5ad2a6b34ff6894b454dbda33d36": {
      "model_module": "@jupyter-widgets/controls",
      "model_module_version": "2.0.0",
      "model_name": "HTMLModel",
      "state": {
       "layout": "IPY_MODEL_fd37564357f642d294102166a7378aec",
       "style": "IPY_MODEL_f5fbd13afecc451c93acfcdf1681a5d9",
       "value": " 16/16 [00:09&lt;00:00,  1.73it/s]"
      }
     },
     "29b39ba8c4854c8eb21e7101decd4c06": {
      "model_module": "@jupyter-widgets/controls",
      "model_module_version": "2.0.0",
      "model_name": "HTMLStyleModel",
      "state": {
       "description_width": "",
       "font_size": null,
       "text_color": null
      }
     },
     "29d2e13b7b2547bfaa2a93331e5af9a3": {
      "model_module": "@jupyter-widgets/base",
      "model_module_version": "2.0.0",
      "model_name": "LayoutModel",
      "state": {}
     },
     "29ead08bcc5a454caecec380d447af9a": {
      "model_module": "@jupyter-widgets/base",
      "model_module_version": "2.0.0",
      "model_name": "LayoutModel",
      "state": {}
     },
     "2a1a2cc9b707491480cb50ce0296f84e": {
      "model_module": "@jupyter-widgets/controls",
      "model_module_version": "2.0.0",
      "model_name": "HTMLStyleModel",
      "state": {
       "description_width": "",
       "font_size": null,
       "text_color": null
      }
     },
     "2aa6fdf51d654ce3bcdec6cd0bf3d4b2": {
      "model_module": "@jupyter-widgets/controls",
      "model_module_version": "2.0.0",
      "model_name": "HTMLStyleModel",
      "state": {
       "description_width": "",
       "font_size": null,
       "text_color": null
      }
     },
     "2ae2fe7df12d44afb44de32c38a8122f": {
      "model_module": "@jupyter-widgets/controls",
      "model_module_version": "2.0.0",
      "model_name": "FloatProgressModel",
      "state": {
       "bar_style": "success",
       "layout": "IPY_MODEL_d499839660714faa8cb04d8336650d58",
       "max": 18,
       "style": "IPY_MODEL_655d9ffefead4933abe77a3ce7dbf871",
       "value": 18
      }
     },
     "2b7de73ec296471dacf6cdb5f616bfcf": {
      "model_module": "@jupyter-widgets/controls",
      "model_module_version": "2.0.0",
      "model_name": "HTMLStyleModel",
      "state": {
       "description_width": "",
       "font_size": null,
       "text_color": null
      }
     },
     "2c1288171070407d9d940766e5bbfa0e": {
      "model_module": "@jupyter-widgets/base",
      "model_module_version": "2.0.0",
      "model_name": "LayoutModel",
      "state": {}
     },
     "2c799473fb6646e4a0db9f83a759bbed": {
      "model_module": "@jupyter-widgets/controls",
      "model_module_version": "2.0.0",
      "model_name": "HTMLModel",
      "state": {
       "layout": "IPY_MODEL_c05dd5fd16104b5e96e5f80e118aa36f",
       "style": "IPY_MODEL_31de6f82f0cc4800a00fa504242fdcaf",
       "value": " 18/18 [00:02&lt;00:00,  6.57it/s]"
      }
     },
     "2ccf72c8dccd43e883daa8c920871562": {
      "model_module": "@jupyter-widgets/controls",
      "model_module_version": "2.0.0",
      "model_name": "HTMLStyleModel",
      "state": {
       "description_width": "",
       "font_size": null,
       "text_color": null
      }
     },
     "2d54923844b14ba3953fc8caebac378c": {
      "model_module": "@jupyter-widgets/base",
      "model_module_version": "2.0.0",
      "model_name": "LayoutModel",
      "state": {}
     },
     "2d6be410412a4bff9c0152ca9359c19c": {
      "model_module": "@jupyter-widgets/controls",
      "model_module_version": "2.0.0",
      "model_name": "HTMLModel",
      "state": {
       "layout": "IPY_MODEL_a5df5ef947964f80bfa66c2d90bd5dab",
       "style": "IPY_MODEL_46310abb85d44f93b876eac62a13d985",
       "value": " 30/30 [00:05&lt;00:00,  6.02it/s]"
      }
     },
     "2d8bee66dab44e3e8abaddc7520e5f65": {
      "model_module": "@jupyter-widgets/base",
      "model_module_version": "2.0.0",
      "model_name": "LayoutModel",
      "state": {}
     },
     "2ddab2138eb643f89c9cec7ef093cd29": {
      "model_module": "@jupyter-widgets/controls",
      "model_module_version": "2.0.0",
      "model_name": "HTMLStyleModel",
      "state": {
       "description_width": "",
       "font_size": null,
       "text_color": null
      }
     },
     "2def9cb725f64c82aad081f197a74877": {
      "model_module": "@jupyter-widgets/base",
      "model_module_version": "2.0.0",
      "model_name": "LayoutModel",
      "state": {}
     },
     "2df99cae136c401685ad8899df7d9bff": {
      "model_module": "@jupyter-widgets/controls",
      "model_module_version": "2.0.0",
      "model_name": "FloatProgressModel",
      "state": {
       "bar_style": "success",
       "layout": "IPY_MODEL_7dd039d1c8b949ff8c136cd8b7bb82df",
       "max": 30,
       "style": "IPY_MODEL_206483ba7d0c40459e893bdda61d264c",
       "value": 30
      }
     },
     "2e151a74ef6f490f85b9b50d857aa144": {
      "model_module": "@jupyter-widgets/controls",
      "model_module_version": "2.0.0",
      "model_name": "ProgressStyleModel",
      "state": {
       "description_width": ""
      }
     },
     "2ed935f1a860408282c428552337d0ed": {
      "model_module": "@jupyter-widgets/controls",
      "model_module_version": "2.0.0",
      "model_name": "HTMLStyleModel",
      "state": {
       "description_width": "",
       "font_size": null,
       "text_color": null
      }
     },
     "2eef9ee0034547169efc0d19f57330dd": {
      "model_module": "@jupyter-widgets/controls",
      "model_module_version": "2.0.0",
      "model_name": "ProgressStyleModel",
      "state": {
       "description_width": ""
      }
     },
     "2f0fd5e23e30411599f777125e7dc5df": {
      "model_module": "@jupyter-widgets/controls",
      "model_module_version": "2.0.0",
      "model_name": "HTMLStyleModel",
      "state": {
       "description_width": "",
       "font_size": null,
       "text_color": null
      }
     },
     "2f14718afa334dd08dec841fc38adc84": {
      "model_module": "@jupyter-widgets/controls",
      "model_module_version": "2.0.0",
      "model_name": "FloatProgressModel",
      "state": {
       "bar_style": "success",
       "layout": "IPY_MODEL_183b583121d349e39c962b1a19206d69",
       "max": 30,
       "style": "IPY_MODEL_10217591bbc74c04a18ed478479f43d9",
       "value": 30
      }
     },
     "2f2152a9113747829ae7ee17b0f04207": {
      "model_module": "@jupyter-widgets/controls",
      "model_module_version": "2.0.0",
      "model_name": "ProgressStyleModel",
      "state": {
       "description_width": ""
      }
     },
     "2f44f3d6630b4b6e951c3bb673c00249": {
      "model_module": "@jupyter-widgets/base",
      "model_module_version": "2.0.0",
      "model_name": "LayoutModel",
      "state": {}
     },
     "2f7166014aeb45df83831c721f0d9449": {
      "model_module": "@jupyter-widgets/controls",
      "model_module_version": "2.0.0",
      "model_name": "ProgressStyleModel",
      "state": {
       "description_width": ""
      }
     },
     "30020d8e7db141c680fcd1b32f43104f": {
      "model_module": "@jupyter-widgets/controls",
      "model_module_version": "2.0.0",
      "model_name": "HTMLStyleModel",
      "state": {
       "description_width": "",
       "font_size": null,
       "text_color": null
      }
     },
     "3073cd4020e048fda3642b7e7aa10bba": {
      "model_module": "@jupyter-widgets/controls",
      "model_module_version": "2.0.0",
      "model_name": "FloatProgressModel",
      "state": {
       "bar_style": "success",
       "layout": "IPY_MODEL_ecd5e614a3c647b083267c5864f3ee6e",
       "max": 18,
       "style": "IPY_MODEL_3a6e9af23dc84e6086ca44e6cdc9b674",
       "value": 18
      }
     },
     "30aea1e985604b219f51359ab239c42b": {
      "model_module": "@jupyter-widgets/base",
      "model_module_version": "2.0.0",
      "model_name": "LayoutModel",
      "state": {}
     },
     "312dd132960746768507e96f35c18757": {
      "model_module": "@jupyter-widgets/controls",
      "model_module_version": "2.0.0",
      "model_name": "HBoxModel",
      "state": {
       "children": [
        "IPY_MODEL_1644c8c41df24432a5436dc6ed2f7dc0",
        "IPY_MODEL_4c326e6103834687919dc389430a678f",
        "IPY_MODEL_d29d7ab761e04c8d9eec9dba19559d56"
       ],
       "layout": "IPY_MODEL_c83a4aa1865243dea40f525995d55097"
      }
     },
     "313e490ff0214ea9aec81bf899e99c1f": {
      "model_module": "@jupyter-widgets/base",
      "model_module_version": "2.0.0",
      "model_name": "LayoutModel",
      "state": {}
     },
     "319aaff34bbb4a799281ef4c057b66d5": {
      "model_module": "@jupyter-widgets/base",
      "model_module_version": "2.0.0",
      "model_name": "LayoutModel",
      "state": {}
     },
     "31de6f82f0cc4800a00fa504242fdcaf": {
      "model_module": "@jupyter-widgets/controls",
      "model_module_version": "2.0.0",
      "model_name": "HTMLStyleModel",
      "state": {
       "description_width": "",
       "font_size": null,
       "text_color": null
      }
     },
     "3201028aca8b4606aada1483759d80d5": {
      "model_module": "@jupyter-widgets/controls",
      "model_module_version": "2.0.0",
      "model_name": "HTMLModel",
      "state": {
       "layout": "IPY_MODEL_79d789ed61ec41819dc9adb780c4766b",
       "style": "IPY_MODEL_29b39ba8c4854c8eb21e7101decd4c06",
       "value": " 27/27 [00:16&lt;00:00,  1.77it/s]"
      }
     },
     "321f41281707477b81404324747204d4": {
      "model_module": "@jupyter-widgets/controls",
      "model_module_version": "2.0.0",
      "model_name": "HTMLStyleModel",
      "state": {
       "description_width": "",
       "font_size": null,
       "text_color": null
      }
     },
     "328e52d6316b46fca543d4d97774353e": {
      "model_module": "@jupyter-widgets/controls",
      "model_module_version": "2.0.0",
      "model_name": "ProgressStyleModel",
      "state": {
       "description_width": ""
      }
     },
     "32960802029744eb9e616943fbf3a5f3": {
      "model_module": "@jupyter-widgets/base",
      "model_module_version": "2.0.0",
      "model_name": "LayoutModel",
      "state": {}
     },
     "32af9cbd7faa4a74bba72d91576456e1": {
      "model_module": "@jupyter-widgets/base",
      "model_module_version": "2.0.0",
      "model_name": "LayoutModel",
      "state": {}
     },
     "32c45c2690904f67a1e1eb6015cec48b": {
      "model_module": "@jupyter-widgets/controls",
      "model_module_version": "2.0.0",
      "model_name": "FloatProgressModel",
      "state": {
       "bar_style": "success",
       "layout": "IPY_MODEL_d631934632184b43bbf54d2b0b709dad",
       "max": 30,
       "style": "IPY_MODEL_ed59dc2bbd354e4db8d04bc3b8aec106",
       "value": 30
      }
     },
     "332ade35e50c43a4b36d592adf344c2c": {
      "model_module": "@jupyter-widgets/controls",
      "model_module_version": "2.0.0",
      "model_name": "HTMLStyleModel",
      "state": {
       "description_width": "",
       "font_size": null,
       "text_color": null
      }
     },
     "3331a842880045d195c19a1b2cf17fbe": {
      "model_module": "@jupyter-widgets/controls",
      "model_module_version": "2.0.0",
      "model_name": "FloatProgressModel",
      "state": {
       "bar_style": "success",
       "layout": "IPY_MODEL_02f4f3fe2d2e4ba8b254cde680241a39",
       "max": 30,
       "style": "IPY_MODEL_356d799aaf454f9bb59c286844e49ff9",
       "value": 30
      }
     },
     "33e3d2b913e448488f579019e5ede3a6": {
      "model_module": "@jupyter-widgets/base",
      "model_module_version": "2.0.0",
      "model_name": "LayoutModel",
      "state": {}
     },
     "3407fce0cc644afeae2dcee4cbb1e543": {
      "model_module": "@jupyter-widgets/base",
      "model_module_version": "2.0.0",
      "model_name": "LayoutModel",
      "state": {}
     },
     "348efd8c4967474084eb9e2226118665": {
      "model_module": "@jupyter-widgets/controls",
      "model_module_version": "2.0.0",
      "model_name": "HTMLModel",
      "state": {
       "layout": "IPY_MODEL_76b56b8a73964bb18691cfd515f3694e",
       "style": "IPY_MODEL_a37f0160f1ee47e1a25616c4dd42a03e",
       "value": " 22/22 [00:12&lt;00:00,  1.87it/s]"
      }
     },
     "3496e0f8bf094d709ad77f294807fb42": {
      "model_module": "@jupyter-widgets/controls",
      "model_module_version": "2.0.0",
      "model_name": "HTMLStyleModel",
      "state": {
       "description_width": "",
       "font_size": null,
       "text_color": null
      }
     },
     "34b7fc15c1b64797ad96e7c4d5084b23": {
      "model_module": "@jupyter-widgets/controls",
      "model_module_version": "2.0.0",
      "model_name": "HTMLStyleModel",
      "state": {
       "description_width": "",
       "font_size": null,
       "text_color": null
      }
     },
     "34fcca6995b5459a9e9419280d7072bb": {
      "model_module": "@jupyter-widgets/base",
      "model_module_version": "2.0.0",
      "model_name": "LayoutModel",
      "state": {}
     },
     "3510c80f9b66472aace255b86525390e": {
      "model_module": "@jupyter-widgets/controls",
      "model_module_version": "2.0.0",
      "model_name": "HBoxModel",
      "state": {
       "children": [
        "IPY_MODEL_51db2bbf50294e3f9275e5ace7ccd19f",
        "IPY_MODEL_32c45c2690904f67a1e1eb6015cec48b",
        "IPY_MODEL_00755e88f4924a408d52a626ce942b33"
       ],
       "layout": "IPY_MODEL_94daa41b646d4533a2a7ed3a996a5f1c"
      }
     },
     "35696b93653a4b7282319c02094497cc": {
      "model_module": "@jupyter-widgets/controls",
      "model_module_version": "2.0.0",
      "model_name": "HTMLStyleModel",
      "state": {
       "description_width": "",
       "font_size": null,
       "text_color": null
      }
     },
     "356d799aaf454f9bb59c286844e49ff9": {
      "model_module": "@jupyter-widgets/controls",
      "model_module_version": "2.0.0",
      "model_name": "ProgressStyleModel",
      "state": {
       "description_width": ""
      }
     },
     "358cd777e42040b49c6e6d5805ecc7fe": {
      "model_module": "@jupyter-widgets/controls",
      "model_module_version": "2.0.0",
      "model_name": "HTMLStyleModel",
      "state": {
       "description_width": "",
       "font_size": null,
       "text_color": null
      }
     },
     "35bdfd59c6d9455c8d7feae2519487e5": {
      "model_module": "@jupyter-widgets/controls",
      "model_module_version": "2.0.0",
      "model_name": "FloatProgressModel",
      "state": {
       "bar_style": "success",
       "layout": "IPY_MODEL_74eb82c580b44ce294c11e0aa3e12a3b",
       "max": 30,
       "style": "IPY_MODEL_71676e870f974448a0034b1764020382",
       "value": 30
      }
     },
     "35f56ee029c04e6a9fc4558516036393": {
      "model_module": "@jupyter-widgets/controls",
      "model_module_version": "2.0.0",
      "model_name": "HTMLModel",
      "state": {
       "layout": "IPY_MODEL_2f44f3d6630b4b6e951c3bb673c00249",
       "style": "IPY_MODEL_aed7bcfe9de24232b556fd118202e1d7",
       "value": "100%"
      }
     },
     "3610e6b7bb0e4a66b421dbdaaee9169d": {
      "model_module": "@jupyter-widgets/base",
      "model_module_version": "2.0.0",
      "model_name": "LayoutModel",
      "state": {}
     },
     "36349698fca04e84a0da2a0c981baad0": {
      "model_module": "@jupyter-widgets/base",
      "model_module_version": "2.0.0",
      "model_name": "LayoutModel",
      "state": {}
     },
     "364a5c9e607c4457a8357b4c5e0b5e0d": {
      "model_module": "@jupyter-widgets/base",
      "model_module_version": "2.0.0",
      "model_name": "LayoutModel",
      "state": {}
     },
     "3662673a53084818b2b6e61cc4708be1": {
      "model_module": "@jupyter-widgets/base",
      "model_module_version": "2.0.0",
      "model_name": "LayoutModel",
      "state": {}
     },
     "36ada4bafc304e029f3255edf530fda6": {
      "model_module": "@jupyter-widgets/base",
      "model_module_version": "2.0.0",
      "model_name": "LayoutModel",
      "state": {}
     },
     "36bf4281370f43b3868fde78be0c2936": {
      "model_module": "@jupyter-widgets/base",
      "model_module_version": "2.0.0",
      "model_name": "LayoutModel",
      "state": {}
     },
     "371009254a9941d6ac5b6af700aec15a": {
      "model_module": "@jupyter-widgets/base",
      "model_module_version": "2.0.0",
      "model_name": "LayoutModel",
      "state": {}
     },
     "374c35c3b2894d4d91c0692db4cb5837": {
      "model_module": "@jupyter-widgets/controls",
      "model_module_version": "2.0.0",
      "model_name": "HTMLModel",
      "state": {
       "layout": "IPY_MODEL_4479c74ba9684cf2958ceb554afdef14",
       "style": "IPY_MODEL_81160a9400a64341b23bf1174286d22d",
       "value": "100%"
      }
     },
     "37bcd724f3cf407bbbeee27e55cac658": {
      "model_module": "@jupyter-widgets/base",
      "model_module_version": "2.0.0",
      "model_name": "LayoutModel",
      "state": {}
     },
     "387bd3b6e0e14121ad385af73dcd5561": {
      "model_module": "@jupyter-widgets/base",
      "model_module_version": "2.0.0",
      "model_name": "LayoutModel",
      "state": {}
     },
     "38e79a7a4efd4302bd439373fd3857c1": {
      "model_module": "@jupyter-widgets/controls",
      "model_module_version": "2.0.0",
      "model_name": "HTMLStyleModel",
      "state": {
       "description_width": "",
       "font_size": null,
       "text_color": null
      }
     },
     "38ea18f3eaa84e829264a6e7f0a14bfa": {
      "model_module": "@jupyter-widgets/controls",
      "model_module_version": "2.0.0",
      "model_name": "HBoxModel",
      "state": {
       "children": [
        "IPY_MODEL_f9d7ded4db414a8f8364edd8c1faef7a",
        "IPY_MODEL_60c4ed0293ac4eff89d03b524ae443fb",
        "IPY_MODEL_a792ede83ae94a05958d33a6bc0b984d"
       ],
       "layout": "IPY_MODEL_32af9cbd7faa4a74bba72d91576456e1"
      }
     },
     "390f19c9fe6040548cd78de2fab8da1d": {
      "model_module": "@jupyter-widgets/base",
      "model_module_version": "2.0.0",
      "model_name": "LayoutModel",
      "state": {}
     },
     "3976fcd28470407584e4554966cc46b5": {
      "model_module": "@jupyter-widgets/controls",
      "model_module_version": "2.0.0",
      "model_name": "HTMLModel",
      "state": {
       "layout": "IPY_MODEL_d65407e21fe246c184371b26c1218357",
       "style": "IPY_MODEL_06a249389fb74e4da40d75f6eb92974c",
       "value": " 30/30 [00:05&lt;00:00,  6.07it/s]"
      }
     },
     "3a3ad3b1f67d4614862e2c65f9300248": {
      "model_module": "@jupyter-widgets/controls",
      "model_module_version": "2.0.0",
      "model_name": "HTMLModel",
      "state": {
       "layout": "IPY_MODEL_af6124ce349c4ea393f87659bf6966e3",
       "style": "IPY_MODEL_9d6b12a9a613433cb0b6757a54e40df3",
       "value": " 18/18 [00:02&lt;00:00,  6.91it/s]"
      }
     },
     "3a6e9af23dc84e6086ca44e6cdc9b674": {
      "model_module": "@jupyter-widgets/controls",
      "model_module_version": "2.0.0",
      "model_name": "ProgressStyleModel",
      "state": {
       "description_width": ""
      }
     },
     "3aaef2376dcb4391a14d8ba450d8222d": {
      "model_module": "@jupyter-widgets/base",
      "model_module_version": "2.0.0",
      "model_name": "LayoutModel",
      "state": {}
     },
     "3afc37f5401f4e17bba7a1101cefcb3a": {
      "model_module": "@jupyter-widgets/controls",
      "model_module_version": "2.0.0",
      "model_name": "HTMLStyleModel",
      "state": {
       "description_width": "",
       "font_size": null,
       "text_color": null
      }
     },
     "3b7a70fb07824413a395ee24d3dea4ef": {
      "model_module": "@jupyter-widgets/controls",
      "model_module_version": "2.0.0",
      "model_name": "ProgressStyleModel",
      "state": {
       "description_width": ""
      }
     },
     "3be67d37841e42b29f29e2294009cae4": {
      "model_module": "@jupyter-widgets/controls",
      "model_module_version": "2.0.0",
      "model_name": "HTMLStyleModel",
      "state": {
       "description_width": "",
       "font_size": null,
       "text_color": null
      }
     },
     "3bebf137476540f8a13da7a7ad12335b": {
      "model_module": "@jupyter-widgets/base",
      "model_module_version": "2.0.0",
      "model_name": "LayoutModel",
      "state": {}
     },
     "3c360342fec0474bb62f8e63715be163": {
      "model_module": "@jupyter-widgets/controls",
      "model_module_version": "2.0.0",
      "model_name": "HTMLStyleModel",
      "state": {
       "description_width": "",
       "font_size": null,
       "text_color": null
      }
     },
     "3c7456dd78754dfa8786f9522ecc311c": {
      "model_module": "@jupyter-widgets/base",
      "model_module_version": "2.0.0",
      "model_name": "LayoutModel",
      "state": {}
     },
     "3ccb30883e4c44aca394fa9d2276efcc": {
      "model_module": "@jupyter-widgets/controls",
      "model_module_version": "2.0.0",
      "model_name": "FloatProgressModel",
      "state": {
       "bar_style": "success",
       "layout": "IPY_MODEL_db2c3cd621f143b0b8102c03359c64ad",
       "max": 30,
       "style": "IPY_MODEL_0cd365c08fc446eab2f5bd5aaabe143c",
       "value": 30
      }
     },
     "3d28728a6f2e4b71aa9fe877600b6f1b": {
      "model_module": "@jupyter-widgets/controls",
      "model_module_version": "2.0.0",
      "model_name": "FloatProgressModel",
      "state": {
       "bar_style": "success",
       "layout": "IPY_MODEL_30aea1e985604b219f51359ab239c42b",
       "max": 27,
       "style": "IPY_MODEL_1189dcc8919347b58ad6c2a0237ecad5",
       "value": 27
      }
     },
     "3d6f00fb9cdf4394b4b35484a749f2c4": {
      "model_module": "@jupyter-widgets/base",
      "model_module_version": "2.0.0",
      "model_name": "LayoutModel",
      "state": {}
     },
     "3d9dca06082b4304b7f9e3c1399606f5": {
      "model_module": "@jupyter-widgets/controls",
      "model_module_version": "2.0.0",
      "model_name": "FloatProgressModel",
      "state": {
       "bar_style": "success",
       "layout": "IPY_MODEL_0dbf47ac807e42a18a88d44f4fca34dc",
       "max": 42,
       "style": "IPY_MODEL_93d1638dd2bc48229efc06cdb3aa1a42",
       "value": 42
      }
     },
     "3dd2881472884a1c9e1a8487834ccfb4": {
      "model_module": "@jupyter-widgets/base",
      "model_module_version": "2.0.0",
      "model_name": "LayoutModel",
      "state": {}
     },
     "3ddbd9e6f16e4b5ba0946dc3284f4697": {
      "model_module": "@jupyter-widgets/base",
      "model_module_version": "2.0.0",
      "model_name": "LayoutModel",
      "state": {}
     },
     "3de84a0dac6b417dbf74e6d4194b47ad": {
      "model_module": "@jupyter-widgets/base",
      "model_module_version": "2.0.0",
      "model_name": "LayoutModel",
      "state": {}
     },
     "3df3d2659da044e4b69cf0e557dcaec0": {
      "model_module": "@jupyter-widgets/base",
      "model_module_version": "2.0.0",
      "model_name": "LayoutModel",
      "state": {}
     },
     "3e557e0d70b840faa50a79a772c0d713": {
      "model_module": "@jupyter-widgets/base",
      "model_module_version": "2.0.0",
      "model_name": "LayoutModel",
      "state": {}
     },
     "3ed5b20daaa74589857d5c9c3bac2725": {
      "model_module": "@jupyter-widgets/controls",
      "model_module_version": "2.0.0",
      "model_name": "HTMLModel",
      "state": {
       "layout": "IPY_MODEL_efc6248c865c4f1f9f1f416ddaad76d3",
       "style": "IPY_MODEL_b7605a5d339e415c9ed9073fdea3f345",
       "value": "100%"
      }
     },
     "3ef971c2776245849f043a9d264c42aa": {
      "model_module": "@jupyter-widgets/base",
      "model_module_version": "2.0.0",
      "model_name": "LayoutModel",
      "state": {}
     },
     "3fab5c43c1844a94b34c9f200b9e25e2": {
      "model_module": "@jupyter-widgets/controls",
      "model_module_version": "2.0.0",
      "model_name": "HTMLModel",
      "state": {
       "layout": "IPY_MODEL_01ba00c5c89343bb8b90df9ece6128d9",
       "style": "IPY_MODEL_3be67d37841e42b29f29e2294009cae4",
       "value": "100%"
      }
     },
     "3fee2b85f5994050b843e0c1de8dcba4": {
      "model_module": "@jupyter-widgets/controls",
      "model_module_version": "2.0.0",
      "model_name": "HTMLModel",
      "state": {
       "layout": "IPY_MODEL_29ead08bcc5a454caecec380d447af9a",
       "style": "IPY_MODEL_4dddaf93b1c349678dc066dd7898ced5",
       "value": "100%"
      }
     },
     "42ec17f1205449d893eec5f10ed3fb6e": {
      "model_module": "@jupyter-widgets/base",
      "model_module_version": "2.0.0",
      "model_name": "LayoutModel",
      "state": {}
     },
     "435e12a943174e2e8cad69b68cdae28d": {
      "model_module": "@jupyter-widgets/controls",
      "model_module_version": "2.0.0",
      "model_name": "HTMLStyleModel",
      "state": {
       "description_width": "",
       "font_size": null,
       "text_color": null
      }
     },
     "435f115c223445b39425d0e2fa0a403f": {
      "model_module": "@jupyter-widgets/base",
      "model_module_version": "2.0.0",
      "model_name": "LayoutModel",
      "state": {}
     },
     "438dcfa522d349dfba3c12bd13dff2f3": {
      "model_module": "@jupyter-widgets/base",
      "model_module_version": "2.0.0",
      "model_name": "LayoutModel",
      "state": {}
     },
     "43db7a4cfc2e4d9d88a2ad9bc4e45d75": {
      "model_module": "@jupyter-widgets/controls",
      "model_module_version": "2.0.0",
      "model_name": "HBoxModel",
      "state": {
       "children": [
        "IPY_MODEL_ff1ba3d5ea504cd88f36128d95771c30",
        "IPY_MODEL_1322b3f2529b4ca5b7231f841e0e6b8f",
        "IPY_MODEL_2819889630dd493e928d03fd50a7fdfb"
       ],
       "layout": "IPY_MODEL_364a5c9e607c4457a8357b4c5e0b5e0d"
      }
     },
     "443150450eb345ceb5b7e8b30fc62573": {
      "model_module": "@jupyter-widgets/base",
      "model_module_version": "2.0.0",
      "model_name": "LayoutModel",
      "state": {}
     },
     "4454f4f583784d21902656a67c5d4565": {
      "model_module": "@jupyter-widgets/controls",
      "model_module_version": "2.0.0",
      "model_name": "HBoxModel",
      "state": {
       "children": [
        "IPY_MODEL_7cc2ba19391342ccbc606a48ccfa196f",
        "IPY_MODEL_3d9dca06082b4304b7f9e3c1399606f5",
        "IPY_MODEL_b39b913072784a4ba939eb7e78386851"
       ],
       "layout": "IPY_MODEL_4eaf780130ed4b7586f9436fe91c3472"
      }
     },
     "4479c74ba9684cf2958ceb554afdef14": {
      "model_module": "@jupyter-widgets/base",
      "model_module_version": "2.0.0",
      "model_name": "LayoutModel",
      "state": {}
     },
     "447ca95d54e3414a921bc74e29900b70": {
      "model_module": "@jupyter-widgets/controls",
      "model_module_version": "2.0.0",
      "model_name": "HTMLModel",
      "state": {
       "layout": "IPY_MODEL_d74d017f644d44b29e485fdddac10220",
       "style": "IPY_MODEL_2450320cf3434f8dbf615cf118584635",
       "value": "100%"
      }
     },
     "448e009905764f34834c6365e4bd4f3f": {
      "model_module": "@jupyter-widgets/base",
      "model_module_version": "2.0.0",
      "model_name": "LayoutModel",
      "state": {}
     },
     "44b0dfa727704693afbbe28362318bea": {
      "model_module": "@jupyter-widgets/controls",
      "model_module_version": "2.0.0",
      "model_name": "ProgressStyleModel",
      "state": {
       "description_width": ""
      }
     },
     "44c0e31ae5c44b598729b5c1f5c3c4af": {
      "model_module": "@jupyter-widgets/base",
      "model_module_version": "2.0.0",
      "model_name": "LayoutModel",
      "state": {}
     },
     "44cf007c1d7249f28f3dcc9ed905bf85": {
      "model_module": "@jupyter-widgets/base",
      "model_module_version": "2.0.0",
      "model_name": "LayoutModel",
      "state": {}
     },
     "44fe19e1f9c84ba3af9759f5f9274034": {
      "model_module": "@jupyter-widgets/controls",
      "model_module_version": "2.0.0",
      "model_name": "HBoxModel",
      "state": {
       "children": [
        "IPY_MODEL_6dbdd86cfd8f4b8cae517e1685f7dd14",
        "IPY_MODEL_5123d2e3f820499e9d540d253023b335",
        "IPY_MODEL_c23928e4487e4051a0bc86b37682edf7"
       ],
       "layout": "IPY_MODEL_3662673a53084818b2b6e61cc4708be1"
      }
     },
     "45123295b8854a029f18669fab0f91c3": {
      "model_module": "@jupyter-widgets/base",
      "model_module_version": "2.0.0",
      "model_name": "LayoutModel",
      "state": {}
     },
     "4516b30814b049a1b20d9e19cde9c360": {
      "model_module": "@jupyter-widgets/base",
      "model_module_version": "2.0.0",
      "model_name": "LayoutModel",
      "state": {}
     },
     "45198f9ab7694ccf8f3c7a886ab5eb29": {
      "model_module": "@jupyter-widgets/base",
      "model_module_version": "2.0.0",
      "model_name": "LayoutModel",
      "state": {}
     },
     "45f88d93e0004612af150c1ebc64916a": {
      "model_module": "@jupyter-widgets/base",
      "model_module_version": "2.0.0",
      "model_name": "LayoutModel",
      "state": {}
     },
     "46310abb85d44f93b876eac62a13d985": {
      "model_module": "@jupyter-widgets/controls",
      "model_module_version": "2.0.0",
      "model_name": "HTMLStyleModel",
      "state": {
       "description_width": "",
       "font_size": null,
       "text_color": null
      }
     },
     "46378da464c549ba800dd6997c60927b": {
      "model_module": "@jupyter-widgets/base",
      "model_module_version": "2.0.0",
      "model_name": "LayoutModel",
      "state": {}
     },
     "46aed41e23e648c9a836de25405c3f9f": {
      "model_module": "@jupyter-widgets/controls",
      "model_module_version": "2.0.0",
      "model_name": "HBoxModel",
      "state": {
       "children": [
        "IPY_MODEL_d4fed7f592234f9992eac07feaf6f528",
        "IPY_MODEL_d2e68642934a494791a8b5fc4159afd8",
        "IPY_MODEL_97e5ba5e85754dd9ab08501df89288cc"
       ],
       "layout": "IPY_MODEL_fc89695dca5d44bfa11e00133a8d81c3"
      }
     },
     "46ca30658a4c4bfeb9b2c67f897623c5": {
      "model_module": "@jupyter-widgets/base",
      "model_module_version": "2.0.0",
      "model_name": "LayoutModel",
      "state": {}
     },
     "46d2172524fc4a859df7bf7ff646f6cf": {
      "model_module": "@jupyter-widgets/controls",
      "model_module_version": "2.0.0",
      "model_name": "ProgressStyleModel",
      "state": {
       "description_width": ""
      }
     },
     "472aa8fbc8994fddab15a8cfef08f027": {
      "model_module": "@jupyter-widgets/controls",
      "model_module_version": "2.0.0",
      "model_name": "FloatProgressModel",
      "state": {
       "bar_style": "success",
       "layout": "IPY_MODEL_d5d211514f2a4a81bb81c30d524fba74",
       "max": 14,
       "style": "IPY_MODEL_6fa4320da04d4fea951064144600b919",
       "value": 14
      }
     },
     "4740dd6f543c446e8744fbf352625445": {
      "model_module": "@jupyter-widgets/controls",
      "model_module_version": "2.0.0",
      "model_name": "HTMLStyleModel",
      "state": {
       "description_width": "",
       "font_size": null,
       "text_color": null
      }
     },
     "4745e13cb9894ef1b678647270c39e2c": {
      "model_module": "@jupyter-widgets/base",
      "model_module_version": "2.0.0",
      "model_name": "LayoutModel",
      "state": {}
     },
     "47793a0742ae4b31a39e0eaf40c81d17": {
      "model_module": "@jupyter-widgets/base",
      "model_module_version": "2.0.0",
      "model_name": "LayoutModel",
      "state": {}
     },
     "47abf983ab6e45569138a917f7d5ab86": {
      "model_module": "@jupyter-widgets/controls",
      "model_module_version": "2.0.0",
      "model_name": "ProgressStyleModel",
      "state": {
       "description_width": ""
      }
     },
     "480b68eaa3964cba85efb04a7e9c9b0b": {
      "model_module": "@jupyter-widgets/controls",
      "model_module_version": "2.0.0",
      "model_name": "FloatProgressModel",
      "state": {
       "bar_style": "success",
       "layout": "IPY_MODEL_ae0f28fad21c4fdf91e3473f76b5a93a",
       "max": 18,
       "style": "IPY_MODEL_47abf983ab6e45569138a917f7d5ab86",
       "value": 18
      }
     },
     "4842be40422143bd97fc8688678adb78": {
      "model_module": "@jupyter-widgets/controls",
      "model_module_version": "2.0.0",
      "model_name": "FloatProgressModel",
      "state": {
       "bar_style": "success",
       "layout": "IPY_MODEL_4cb9db49ad6f47f1ab9885b5b9b5b23a",
       "max": 14,
       "style": "IPY_MODEL_8a4c422b846245fea5548f0e9937643f",
       "value": 14
      }
     },
     "485789d6084c4b03bb5bebbcda4d19be": {
      "model_module": "@jupyter-widgets/base",
      "model_module_version": "2.0.0",
      "model_name": "LayoutModel",
      "state": {}
     },
     "48dcce420d9941b9872fe6e69033ea56": {
      "model_module": "@jupyter-widgets/controls",
      "model_module_version": "2.0.0",
      "model_name": "ProgressStyleModel",
      "state": {
       "description_width": ""
      }
     },
     "498479d302fe4f839a59a1dfc6e85fa0": {
      "model_module": "@jupyter-widgets/base",
      "model_module_version": "2.0.0",
      "model_name": "LayoutModel",
      "state": {}
     },
     "49c1b78b41a3472691b2004c2a3bd97f": {
      "model_module": "@jupyter-widgets/controls",
      "model_module_version": "2.0.0",
      "model_name": "HTMLStyleModel",
      "state": {
       "description_width": "",
       "font_size": null,
       "text_color": null
      }
     },
     "49ca27b795724433bf6e5cac764eb2e8": {
      "model_module": "@jupyter-widgets/controls",
      "model_module_version": "2.0.0",
      "model_name": "HBoxModel",
      "state": {
       "children": [
        "IPY_MODEL_4b4c4d966f7c4ad4be481de5fdb81449",
        "IPY_MODEL_70223f3acedc4418874a59844a91ecfd",
        "IPY_MODEL_f59abb55ed874e7a87b698d2644673bd"
       ],
       "layout": "IPY_MODEL_6e9503ba350a48f183df431fb3f34ec7"
      }
     },
     "4aada1062af44309a95958285241b5e8": {
      "model_module": "@jupyter-widgets/controls",
      "model_module_version": "2.0.0",
      "model_name": "HTMLModel",
      "state": {
       "layout": "IPY_MODEL_f8f2ccc636a54105b1b00fc4cb36b2ba",
       "style": "IPY_MODEL_4740dd6f543c446e8744fbf352625445",
       "value": " 30/30 [00:05&lt;00:00,  6.13it/s]"
      }
     },
     "4ac73ccb5d39456580512eb09730a3a8": {
      "model_module": "@jupyter-widgets/controls",
      "model_module_version": "2.0.0",
      "model_name": "HTMLModel",
      "state": {
       "layout": "IPY_MODEL_d2d6cb5d03af4d0f8d9d1e24e5f71cfd",
       "style": "IPY_MODEL_924e311bad534a99a7c722a003ffef64",
       "value": "100%"
      }
     },
     "4ae0295f5c7f4e37a8cb4f2c7a357be0": {
      "model_module": "@jupyter-widgets/controls",
      "model_module_version": "2.0.0",
      "model_name": "ProgressStyleModel",
      "state": {
       "description_width": ""
      }
     },
     "4b4c4d966f7c4ad4be481de5fdb81449": {
      "model_module": "@jupyter-widgets/controls",
      "model_module_version": "2.0.0",
      "model_name": "HTMLModel",
      "state": {
       "layout": "IPY_MODEL_d0e461eb23ec49ffa7ab73598cec338f",
       "style": "IPY_MODEL_2a1a2cc9b707491480cb50ce0296f84e",
       "value": "100%"
      }
     },
     "4b672539b69c4b35a82adb128e56acec": {
      "model_module": "@jupyter-widgets/controls",
      "model_module_version": "2.0.0",
      "model_name": "ProgressStyleModel",
      "state": {
       "description_width": ""
      }
     },
     "4b6e56b1b49e4f88a31a48790c97bc62": {
      "model_module": "@jupyter-widgets/controls",
      "model_module_version": "2.0.0",
      "model_name": "FloatProgressModel",
      "state": {
       "bar_style": "danger",
       "layout": "IPY_MODEL_12d1f229f4ea4a74a7137249112c4fc5",
       "max": 16,
       "style": "IPY_MODEL_96d62266fc5f44948168232ffcb3b739"
      }
     },
     "4b801d1adad84628b3d52e1bf6fc6724": {
      "model_module": "@jupyter-widgets/controls",
      "model_module_version": "2.0.0",
      "model_name": "HTMLModel",
      "state": {
       "layout": "IPY_MODEL_857556d1f6254ab5a99a43b1a6754a6f",
       "style": "IPY_MODEL_011a646ddb3d49acab61dbeb2907f170",
       "value": " 18/18 [00:11&lt;00:00,  1.61it/s]"
      }
     },
     "4beece5f2ced4f40bd004452c4175ad6": {
      "model_module": "@jupyter-widgets/base",
      "model_module_version": "2.0.0",
      "model_name": "LayoutModel",
      "state": {}
     },
     "4bf5a556dc31426b8f0c59c7ac669922": {
      "model_module": "@jupyter-widgets/controls",
      "model_module_version": "2.0.0",
      "model_name": "HTMLModel",
      "state": {
       "layout": "IPY_MODEL_448e009905764f34834c6365e4bd4f3f",
       "style": "IPY_MODEL_35696b93653a4b7282319c02094497cc",
       "value": " 30/30 [00:05&lt;00:00,  5.87it/s]"
      }
     },
     "4c326e6103834687919dc389430a678f": {
      "model_module": "@jupyter-widgets/controls",
      "model_module_version": "2.0.0",
      "model_name": "FloatProgressModel",
      "state": {
       "bar_style": "success",
       "layout": "IPY_MODEL_29d2e13b7b2547bfaa2a93331e5af9a3",
       "max": 30,
       "style": "IPY_MODEL_48dcce420d9941b9872fe6e69033ea56",
       "value": 30
      }
     },
     "4c4c601fb48949dabdc5678512b61f30": {
      "model_module": "@jupyter-widgets/controls",
      "model_module_version": "2.0.0",
      "model_name": "HTMLStyleModel",
      "state": {
       "description_width": "",
       "font_size": null,
       "text_color": null
      }
     },
     "4c590414d8f649009f62257cbbdde7e6": {
      "model_module": "@jupyter-widgets/controls",
      "model_module_version": "2.0.0",
      "model_name": "HTMLModel",
      "state": {
       "layout": "IPY_MODEL_18b26c47ebd84169bafa1d86b4c38974",
       "style": "IPY_MODEL_8ff9a2c937314239a2f691b51fb1e8c5",
       "value": " 18/18 [00:10&lt;00:00,  1.78it/s]"
      }
     },
     "4cb9db49ad6f47f1ab9885b5b9b5b23a": {
      "model_module": "@jupyter-widgets/base",
      "model_module_version": "2.0.0",
      "model_name": "LayoutModel",
      "state": {}
     },
     "4cc7352bd9874095adf095f2c6f5c451": {
      "model_module": "@jupyter-widgets/controls",
      "model_module_version": "2.0.0",
      "model_name": "FloatProgressModel",
      "state": {
       "bar_style": "success",
       "layout": "IPY_MODEL_bd075f7213e7413191c3f48a5160719a",
       "max": 18,
       "style": "IPY_MODEL_191c7952fc53463daa8298ca3a6d4b2a",
       "value": 18
      }
     },
     "4cd0c075cad146d08ef100a156e6616c": {
      "model_module": "@jupyter-widgets/base",
      "model_module_version": "2.0.0",
      "model_name": "LayoutModel",
      "state": {}
     },
     "4d1486148124440495db0b30d801958a": {
      "model_module": "@jupyter-widgets/base",
      "model_module_version": "2.0.0",
      "model_name": "LayoutModel",
      "state": {}
     },
     "4d2220972c5a45c5a28af67e0ce32013": {
      "model_module": "@jupyter-widgets/base",
      "model_module_version": "2.0.0",
      "model_name": "LayoutModel",
      "state": {}
     },
     "4d53c10832584f1abcbf1c8a9318f229": {
      "model_module": "@jupyter-widgets/controls",
      "model_module_version": "2.0.0",
      "model_name": "FloatProgressModel",
      "state": {
       "bar_style": "success",
       "layout": "IPY_MODEL_b16d0a43b48f49a5874f2ddd062a5cfc",
       "max": 16,
       "style": "IPY_MODEL_8de8ddac9f6e4123a84ebd337bb7238b",
       "value": 16
      }
     },
     "4d8f14481bf44abc98081bae53dcef2d": {
      "model_module": "@jupyter-widgets/controls",
      "model_module_version": "2.0.0",
      "model_name": "HTMLModel",
      "state": {
       "layout": "IPY_MODEL_ffe80af14beb42f3b356f216ca12f259",
       "style": "IPY_MODEL_1b8b079da1c84ec58985acd3001612a0",
       "value": "100%"
      }
     },
     "4da42521e91a48caa608425cb015a431": {
      "model_module": "@jupyter-widgets/base",
      "model_module_version": "2.0.0",
      "model_name": "LayoutModel",
      "state": {}
     },
     "4ddb6e8f89f04f28b38f9ee1389d6112": {
      "model_module": "@jupyter-widgets/controls",
      "model_module_version": "2.0.0",
      "model_name": "HTMLStyleModel",
      "state": {
       "description_width": "",
       "font_size": null,
       "text_color": null
      }
     },
     "4dddaf93b1c349678dc066dd7898ced5": {
      "model_module": "@jupyter-widgets/controls",
      "model_module_version": "2.0.0",
      "model_name": "HTMLStyleModel",
      "state": {
       "description_width": "",
       "font_size": null,
       "text_color": null
      }
     },
     "4e7cbbb2b0d24dbdbd0fdd9ef187f980": {
      "model_module": "@jupyter-widgets/controls",
      "model_module_version": "2.0.0",
      "model_name": "HBoxModel",
      "state": {
       "children": [
        "IPY_MODEL_e7c36bd527df4bd98a57c0774801b6b5",
        "IPY_MODEL_4cc7352bd9874095adf095f2c6f5c451",
        "IPY_MODEL_9169c1aa1d26487e9ea9dee5d9f20335"
       ],
       "layout": "IPY_MODEL_319aaff34bbb4a799281ef4c057b66d5"
      }
     },
     "4eaf780130ed4b7586f9436fe91c3472": {
      "model_module": "@jupyter-widgets/base",
      "model_module_version": "2.0.0",
      "model_name": "LayoutModel",
      "state": {}
     },
     "4eeae08656414d3ea0dc93eeaed64775": {
      "model_module": "@jupyter-widgets/base",
      "model_module_version": "2.0.0",
      "model_name": "LayoutModel",
      "state": {}
     },
     "4f332ab2b98f429a91b06c09d78c0ed8": {
      "model_module": "@jupyter-widgets/controls",
      "model_module_version": "2.0.0",
      "model_name": "HBoxModel",
      "state": {
       "children": [
        "IPY_MODEL_e2c6917cf668461aa44ef425c8d2c92c",
        "IPY_MODEL_3331a842880045d195c19a1b2cf17fbe",
        "IPY_MODEL_b155bb4348334237ba2e9be61b1ba637"
       ],
       "layout": "IPY_MODEL_21f6ffaf74954e33bf110c72c7221abb"
      }
     },
     "4f3a14b5af8543528c7b72feda8e1885": {
      "model_module": "@jupyter-widgets/controls",
      "model_module_version": "2.0.0",
      "model_name": "HTMLStyleModel",
      "state": {
       "description_width": "",
       "font_size": null,
       "text_color": null
      }
     },
     "4fa34e1a599e44b082c9d587f9c39c9e": {
      "model_module": "@jupyter-widgets/controls",
      "model_module_version": "2.0.0",
      "model_name": "ProgressStyleModel",
      "state": {
       "description_width": ""
      }
     },
     "4fc1b2ebb9cd42a9b26333b1d75301e0": {
      "model_module": "@jupyter-widgets/controls",
      "model_module_version": "2.0.0",
      "model_name": "HTMLStyleModel",
      "state": {
       "description_width": "",
       "font_size": null,
       "text_color": null
      }
     },
     "4fee0b77bc6a4596a3cf1d5a67f60c21": {
      "model_module": "@jupyter-widgets/controls",
      "model_module_version": "2.0.0",
      "model_name": "FloatProgressModel",
      "state": {
       "bar_style": "success",
       "layout": "IPY_MODEL_45123295b8854a029f18669fab0f91c3",
       "max": 30,
       "style": "IPY_MODEL_2eef9ee0034547169efc0d19f57330dd",
       "value": 30
      }
     },
     "505134c9f93b422c8b9ddeb983ff0564": {
      "model_module": "@jupyter-widgets/controls",
      "model_module_version": "2.0.0",
      "model_name": "HTMLStyleModel",
      "state": {
       "description_width": "",
       "font_size": null,
       "text_color": null
      }
     },
     "507fb9b4cd124300a02bb6a39204b74c": {
      "model_module": "@jupyter-widgets/controls",
      "model_module_version": "2.0.0",
      "model_name": "HBoxModel",
      "state": {
       "children": [
        "IPY_MODEL_374c35c3b2894d4d91c0692db4cb5837",
        "IPY_MODEL_c3a218d1941247e596fe55f427023ff8",
        "IPY_MODEL_23c14b11e1c44f9baf25659d097066e6"
       ],
       "layout": "IPY_MODEL_9cfabf3beda6402ea007e289789f91fe"
      }
     },
     "509f00daf312476c88df1f54f93535ff": {
      "model_module": "@jupyter-widgets/controls",
      "model_module_version": "2.0.0",
      "model_name": "ProgressStyleModel",
      "state": {
       "description_width": ""
      }
     },
     "50a0104c02b444d3b48f439b191f9f83": {
      "model_module": "@jupyter-widgets/base",
      "model_module_version": "2.0.0",
      "model_name": "LayoutModel",
      "state": {}
     },
     "50dab783924e4382bc3a000ca33a7088": {
      "model_module": "@jupyter-widgets/base",
      "model_module_version": "2.0.0",
      "model_name": "LayoutModel",
      "state": {}
     },
     "50ee2bdddf01454bb71eff79499b2bc6": {
      "model_module": "@jupyter-widgets/controls",
      "model_module_version": "2.0.0",
      "model_name": "HTMLStyleModel",
      "state": {
       "description_width": "",
       "font_size": null,
       "text_color": null
      }
     },
     "50fb389d51114619874822577e13eb19": {
      "model_module": "@jupyter-widgets/base",
      "model_module_version": "2.0.0",
      "model_name": "LayoutModel",
      "state": {}
     },
     "5120f66ed21743ad843901713eece5b7": {
      "model_module": "@jupyter-widgets/base",
      "model_module_version": "2.0.0",
      "model_name": "LayoutModel",
      "state": {}
     },
     "5123d2e3f820499e9d540d253023b335": {
      "model_module": "@jupyter-widgets/controls",
      "model_module_version": "2.0.0",
      "model_name": "FloatProgressModel",
      "state": {
       "bar_style": "success",
       "layout": "IPY_MODEL_628ae6b37d90492f9b0e121b09fc1756",
       "max": 30,
       "style": "IPY_MODEL_be7e102d50f745e9b09a258e30f19d54",
       "value": 30
      }
     },
     "514b7bf4ec554f6ba7318c48c5c5e328": {
      "model_module": "@jupyter-widgets/base",
      "model_module_version": "2.0.0",
      "model_name": "LayoutModel",
      "state": {}
     },
     "516bf74ac5f74387865c2fc8234f172a": {
      "model_module": "@jupyter-widgets/controls",
      "model_module_version": "2.0.0",
      "model_name": "ProgressStyleModel",
      "state": {
       "description_width": ""
      }
     },
     "5174045e1dd54f51b6c15f8790e7b9d0": {
      "model_module": "@jupyter-widgets/controls",
      "model_module_version": "2.0.0",
      "model_name": "FloatProgressModel",
      "state": {
       "bar_style": "success",
       "layout": "IPY_MODEL_802e22aaba594096b3aac50e846385bc",
       "max": 18,
       "style": "IPY_MODEL_fbe22489595344278104ffc0b596dd98",
       "value": 18
      }
     },
     "518212b4ddae444d81fef2182ec44ade": {
      "model_module": "@jupyter-widgets/controls",
      "model_module_version": "2.0.0",
      "model_name": "HTMLModel",
      "state": {
       "layout": "IPY_MODEL_7f9251a322bd4e9eb587d47d2bd0331c",
       "style": "IPY_MODEL_a6ab6b2000e04a61b2b1ca83a58d75e5",
       "value": " 30/30 [00:17&lt;00:00,  1.89it/s]"
      }
     },
     "519b6691ef20471bb2d9dc3a60912fcf": {
      "model_module": "@jupyter-widgets/controls",
      "model_module_version": "2.0.0",
      "model_name": "HTMLStyleModel",
      "state": {
       "description_width": "",
       "font_size": null,
       "text_color": null
      }
     },
     "51db2bbf50294e3f9275e5ace7ccd19f": {
      "model_module": "@jupyter-widgets/controls",
      "model_module_version": "2.0.0",
      "model_name": "HTMLModel",
      "state": {
       "layout": "IPY_MODEL_20ff74ad003e4514957d8d2857053d19",
       "style": "IPY_MODEL_dfe29e955f2b464785ddf3862139b612",
       "value": "100%"
      }
     },
     "520a5d79babd45c9a008c8568327ec59": {
      "model_module": "@jupyter-widgets/controls",
      "model_module_version": "2.0.0",
      "model_name": "HTMLStyleModel",
      "state": {
       "description_width": "",
       "font_size": null,
       "text_color": null
      }
     },
     "5242852286a54a28962fb55900d96ae1": {
      "model_module": "@jupyter-widgets/controls",
      "model_module_version": "2.0.0",
      "model_name": "HTMLStyleModel",
      "state": {
       "description_width": "",
       "font_size": null,
       "text_color": null
      }
     },
     "52577c0d4b904387a0e9fab0deb0c69c": {
      "model_module": "@jupyter-widgets/controls",
      "model_module_version": "2.0.0",
      "model_name": "HBoxModel",
      "state": {
       "children": [
        "IPY_MODEL_b4d24542d22b49b18b44db45aa1cabb0",
        "IPY_MODEL_4d53c10832584f1abcbf1c8a9318f229",
        "IPY_MODEL_ffee8f3beffc46ba8d381837b355c866"
       ],
       "layout": "IPY_MODEL_9ab486cd324d4c30b96417fbb73ea082"
      }
     },
     "5273c069794b4452881a8113a9eaba91": {
      "model_module": "@jupyter-widgets/controls",
      "model_module_version": "2.0.0",
      "model_name": "HTMLStyleModel",
      "state": {
       "description_width": "",
       "font_size": null,
       "text_color": null
      }
     },
     "52971ad5a80448c4b53e015099aa6464": {
      "model_module": "@jupyter-widgets/controls",
      "model_module_version": "2.0.0",
      "model_name": "HTMLStyleModel",
      "state": {
       "description_width": "",
       "font_size": null,
       "text_color": null
      }
     },
     "52c85648fb244cce86fddd5bc82436af": {
      "model_module": "@jupyter-widgets/base",
      "model_module_version": "2.0.0",
      "model_name": "LayoutModel",
      "state": {}
     },
     "52cd254ab52e4f1183c5f47bf204c45d": {
      "model_module": "@jupyter-widgets/controls",
      "model_module_version": "2.0.0",
      "model_name": "HTMLModel",
      "state": {
       "layout": "IPY_MODEL_d09c3d302a744d85b303a9d6ef7f6bb1",
       "style": "IPY_MODEL_991234bae5c64baeb8982b1003787461",
       "value": "100%"
      }
     },
     "534568c4c20a43b38481923a92e2b9a3": {
      "model_module": "@jupyter-widgets/controls",
      "model_module_version": "2.0.0",
      "model_name": "HTMLStyleModel",
      "state": {
       "description_width": "",
       "font_size": null,
       "text_color": null
      }
     },
     "53834155d92a4c40aef0be50cd44c696": {
      "model_module": "@jupyter-widgets/controls",
      "model_module_version": "2.0.0",
      "model_name": "ProgressStyleModel",
      "state": {
       "description_width": ""
      }
     },
     "5413e538f3c34e589ebe54ffd9bbdb1e": {
      "model_module": "@jupyter-widgets/base",
      "model_module_version": "2.0.0",
      "model_name": "LayoutModel",
      "state": {}
     },
     "54156c3bb2c5410d84cfc374b7420f09": {
      "model_module": "@jupyter-widgets/base",
      "model_module_version": "2.0.0",
      "model_name": "LayoutModel",
      "state": {}
     },
     "542f541b68ff43558d76d99560abc02f": {
      "model_module": "@jupyter-widgets/controls",
      "model_module_version": "2.0.0",
      "model_name": "FloatProgressModel",
      "state": {
       "bar_style": "success",
       "layout": "IPY_MODEL_8028e92430664d14a86aec689f071c67",
       "max": 30,
       "style": "IPY_MODEL_570eb02043b94d33976642657d0c03d1",
       "value": 30
      }
     },
     "5436d5b518dd48b9806acfb6f1885360": {
      "model_module": "@jupyter-widgets/base",
      "model_module_version": "2.0.0",
      "model_name": "LayoutModel",
      "state": {}
     },
     "546cf15c20a14dbe8ea843d87d324b13": {
      "model_module": "@jupyter-widgets/controls",
      "model_module_version": "2.0.0",
      "model_name": "HTMLStyleModel",
      "state": {
       "description_width": "",
       "font_size": null,
       "text_color": null
      }
     },
     "553fb2571c1d4f8980fc092d57c9c0ec": {
      "model_module": "@jupyter-widgets/controls",
      "model_module_version": "2.0.0",
      "model_name": "HBoxModel",
      "state": {
       "children": [
        "IPY_MODEL_2586028698b442f68e9045ababd68f96",
        "IPY_MODEL_f5065a3b698d44ab98a510762f4d3b9d",
        "IPY_MODEL_f170d33a0e5b41e9b0bfd76a93e022bc"
       ],
       "layout": "IPY_MODEL_86d2b743365f44898288a711471ea603"
      }
     },
     "554b9a0ae2b7446b86de66fdc805057a": {
      "model_module": "@jupyter-widgets/base",
      "model_module_version": "2.0.0",
      "model_name": "LayoutModel",
      "state": {}
     },
     "554f39d547ca4acaaabdce5985da58c8": {
      "model_module": "@jupyter-widgets/base",
      "model_module_version": "2.0.0",
      "model_name": "LayoutModel",
      "state": {}
     },
     "555e88104617420981784b6d68ed51ca": {
      "model_module": "@jupyter-widgets/controls",
      "model_module_version": "2.0.0",
      "model_name": "HTMLStyleModel",
      "state": {
       "description_width": "",
       "font_size": null,
       "text_color": null
      }
     },
     "5561cc736d454ea1a9f8d1dbc2138929": {
      "model_module": "@jupyter-widgets/controls",
      "model_module_version": "2.0.0",
      "model_name": "FloatProgressModel",
      "state": {
       "bar_style": "success",
       "layout": "IPY_MODEL_4eeae08656414d3ea0dc93eeaed64775",
       "max": 30,
       "style": "IPY_MODEL_96dab39b2adc4bf994fa29094376c848",
       "value": 30
      }
     },
     "556c4e8b813448188db124f840132be0": {
      "model_module": "@jupyter-widgets/controls",
      "model_module_version": "2.0.0",
      "model_name": "HTMLModel",
      "state": {
       "layout": "IPY_MODEL_2374c501997748a194619b0d75bb9c08",
       "style": "IPY_MODEL_0110b7719c844dda91ab76d87ebf6ce5",
       "value": "100%"
      }
     },
     "559746e76a7f4f548732c86668f95945": {
      "model_module": "@jupyter-widgets/base",
      "model_module_version": "2.0.0",
      "model_name": "LayoutModel",
      "state": {}
     },
     "55a4f31b23134f2489e239895ae54226": {
      "model_module": "@jupyter-widgets/controls",
      "model_module_version": "2.0.0",
      "model_name": "FloatProgressModel",
      "state": {
       "bar_style": "success",
       "layout": "IPY_MODEL_be8d4500efc245e38922b5de00a23de0",
       "max": 30,
       "style": "IPY_MODEL_eb48d8fae34b43e480f8e473dcdfd35c",
       "value": 30
      }
     },
     "55d0cd082a2942efac0843dc63b941be": {
      "model_module": "@jupyter-widgets/controls",
      "model_module_version": "2.0.0",
      "model_name": "HTMLStyleModel",
      "state": {
       "description_width": "",
       "font_size": null,
       "text_color": null
      }
     },
     "5653ea2cc1b04bdf84a8ee0a4780965c": {
      "model_module": "@jupyter-widgets/base",
      "model_module_version": "2.0.0",
      "model_name": "LayoutModel",
      "state": {}
     },
     "568bcaee88ec42aaadd5fade7d5f4cfc": {
      "model_module": "@jupyter-widgets/controls",
      "model_module_version": "2.0.0",
      "model_name": "HTMLModel",
      "state": {
       "layout": "IPY_MODEL_ddc7ebb035e2407a9ac3c80c625c5431",
       "style": "IPY_MODEL_18ee237603754f48b0f0bf3dfb12ee45",
       "value": "100%"
      }
     },
     "56dfd0cd45c34a68a4d600d3e43d8e77": {
      "model_module": "@jupyter-widgets/controls",
      "model_module_version": "2.0.0",
      "model_name": "HTMLStyleModel",
      "state": {
       "description_width": "",
       "font_size": null,
       "text_color": null
      }
     },
     "570b2657921648eaa38db327885b538d": {
      "model_module": "@jupyter-widgets/base",
      "model_module_version": "2.0.0",
      "model_name": "LayoutModel",
      "state": {}
     },
     "570eb02043b94d33976642657d0c03d1": {
      "model_module": "@jupyter-widgets/controls",
      "model_module_version": "2.0.0",
      "model_name": "ProgressStyleModel",
      "state": {
       "description_width": ""
      }
     },
     "57331687515349be9e7953ef9ba5281d": {
      "model_module": "@jupyter-widgets/controls",
      "model_module_version": "2.0.0",
      "model_name": "FloatProgressModel",
      "state": {
       "bar_style": "success",
       "layout": "IPY_MODEL_3dd2881472884a1c9e1a8487834ccfb4",
       "max": 16,
       "style": "IPY_MODEL_dafcb255454c44019ce852a99ff7f32a",
       "value": 16
      }
     },
     "575f4bd5330f4ab4a4954a2a98a328ee": {
      "model_module": "@jupyter-widgets/controls",
      "model_module_version": "2.0.0",
      "model_name": "HTMLModel",
      "state": {
       "layout": "IPY_MODEL_5653ea2cc1b04bdf84a8ee0a4780965c",
       "style": "IPY_MODEL_57b5451a7f114eb9bd232f3c2fab93e2",
       "value": " 30/30 [00:05&lt;00:00,  6.33it/s]"
      }
     },
     "5799ff43a6b245b19ec9f0f519f422c0": {
      "model_module": "@jupyter-widgets/controls",
      "model_module_version": "2.0.0",
      "model_name": "HTMLModel",
      "state": {
       "layout": "IPY_MODEL_4cd0c075cad146d08ef100a156e6616c",
       "style": "IPY_MODEL_79c4bd07734d4fa7a7717d39e32577ce",
       "value": " 30/30 [00:05&lt;00:00,  5.94it/s]"
      }
     },
     "57b5451a7f114eb9bd232f3c2fab93e2": {
      "model_module": "@jupyter-widgets/controls",
      "model_module_version": "2.0.0",
      "model_name": "HTMLStyleModel",
      "state": {
       "description_width": "",
       "font_size": null,
       "text_color": null
      }
     },
     "57f10ab8e4f74af8bf33728046eb42fd": {
      "model_module": "@jupyter-widgets/controls",
      "model_module_version": "2.0.0",
      "model_name": "ProgressStyleModel",
      "state": {
       "description_width": ""
      }
     },
     "58205bab19a340e29e70bfb3147ecc6e": {
      "model_module": "@jupyter-widgets/base",
      "model_module_version": "2.0.0",
      "model_name": "LayoutModel",
      "state": {}
     },
     "59140077d2e44f86b3d98c78c924d8dd": {
      "model_module": "@jupyter-widgets/base",
      "model_module_version": "2.0.0",
      "model_name": "LayoutModel",
      "state": {}
     },
     "5931428c8d88449ea2e62701ffb74c1e": {
      "model_module": "@jupyter-widgets/controls",
      "model_module_version": "2.0.0",
      "model_name": "HBoxModel",
      "state": {
       "children": [
        "IPY_MODEL_bd0a6b8cef314fa0b80d3c91b51a53e5",
        "IPY_MODEL_55a4f31b23134f2489e239895ae54226",
        "IPY_MODEL_6398a5fddb11432ca6ad5c4696889cd7"
       ],
       "layout": "IPY_MODEL_c92b82c165fe473f800b107e5576edf0"
      }
     },
     "593c10c802e342679036b5be85ae1012": {
      "model_module": "@jupyter-widgets/controls",
      "model_module_version": "2.0.0",
      "model_name": "HTMLModel",
      "state": {
       "layout": "IPY_MODEL_5413e538f3c34e589ebe54ffd9bbdb1e",
       "style": "IPY_MODEL_95d417b18fe0428b8d35c4a8402d7747",
       "value": "100%"
      }
     },
     "594a5c41d9e44c8bbf3814af7dae36d8": {
      "model_module": "@jupyter-widgets/base",
      "model_module_version": "2.0.0",
      "model_name": "LayoutModel",
      "state": {}
     },
     "59b5e8c0b3d0466fbdcb381ebd4c25c3": {
      "model_module": "@jupyter-widgets/controls",
      "model_module_version": "2.0.0",
      "model_name": "FloatProgressModel",
      "state": {
       "bar_style": "success",
       "layout": "IPY_MODEL_1e6b7b46f5c04848be13f2dde1d4701e",
       "max": 30,
       "style": "IPY_MODEL_9a4c9cac0dc24c72b6f8b1e3afa5806c",
       "value": 30
      }
     },
     "5a08b8c184c340e4bb8b875956653ddc": {
      "model_module": "@jupyter-widgets/controls",
      "model_module_version": "2.0.0",
      "model_name": "HBoxModel",
      "state": {
       "children": [
        "IPY_MODEL_12ea951c6a524957a24baee97d993ae1",
        "IPY_MODEL_148f18078fa94cf48c9ce23e70aebc06",
        "IPY_MODEL_fa08e114e6bb47149ad11d2ea64029c3"
       ],
       "layout": "IPY_MODEL_c562c5d3d13e48f899415a05dd0e8568"
      }
     },
     "5a66f9d3eadb44f7896fbf646daef356": {
      "model_module": "@jupyter-widgets/base",
      "model_module_version": "2.0.0",
      "model_name": "LayoutModel",
      "state": {}
     },
     "5afe4cb4cf9b42e6a719396f94b0568e": {
      "model_module": "@jupyter-widgets/controls",
      "model_module_version": "2.0.0",
      "model_name": "ProgressStyleModel",
      "state": {
       "description_width": ""
      }
     },
     "5bb7f342e74941c99bf628d71bccc4de": {
      "model_module": "@jupyter-widgets/controls",
      "model_module_version": "2.0.0",
      "model_name": "HBoxModel",
      "state": {
       "children": [
        "IPY_MODEL_b71de901c1cb41b2960e37f86e4d5802",
        "IPY_MODEL_877b2e29d0c54fccb65aa15bdafc2fdd",
        "IPY_MODEL_1a0116ffcf0543328103f2ca6861afe3"
       ],
       "layout": "IPY_MODEL_6a84a6e325b941a0b4e543daa9c56474"
      }
     },
     "5bbcb07805c143449e0cccb855f14319": {
      "model_module": "@jupyter-widgets/controls",
      "model_module_version": "2.0.0",
      "model_name": "FloatProgressModel",
      "state": {
       "bar_style": "success",
       "layout": "IPY_MODEL_7b3419e9d83c4e0ea4cf34bbf6f75fad",
       "max": 30,
       "style": "IPY_MODEL_c815f4e198904edeaa4615e997a99b38",
       "value": 30
      }
     },
     "5bf0b24e40d346b892a8df3521c06616": {
      "model_module": "@jupyter-widgets/controls",
      "model_module_version": "2.0.0",
      "model_name": "ProgressStyleModel",
      "state": {
       "description_width": ""
      }
     },
     "5dbca5453fe8495a9a9a499360cca09f": {
      "model_module": "@jupyter-widgets/controls",
      "model_module_version": "2.0.0",
      "model_name": "HTMLModel",
      "state": {
       "layout": "IPY_MODEL_e82a0b810a624a569aa1ceb088272ef5",
       "style": "IPY_MODEL_cda7b7f57b9f406bb32040e0cb8d536a",
       "value": "100%"
      }
     },
     "5e5d63055b3a4926bb25ed47cf9c9457": {
      "model_module": "@jupyter-widgets/controls",
      "model_module_version": "2.0.0",
      "model_name": "HTMLModel",
      "state": {
       "layout": "IPY_MODEL_7b78086590254c60bc82db8df25413e0",
       "style": "IPY_MODEL_f260e3c4f56d4b048edb459db363d2ad",
       "value": " 18/18 [00:10&lt;00:00,  1.66it/s]"
      }
     },
     "5e5f599242824523aeb35536d9ac02b9": {
      "model_module": "@jupyter-widgets/controls",
      "model_module_version": "2.0.0",
      "model_name": "HTMLStyleModel",
      "state": {
       "description_width": "",
       "font_size": null,
       "text_color": null
      }
     },
     "5ee5f7c564694cf9a24fa183e493f340": {
      "model_module": "@jupyter-widgets/controls",
      "model_module_version": "2.0.0",
      "model_name": "ProgressStyleModel",
      "state": {
       "description_width": ""
      }
     },
     "5f68d5fd67244d5cad8f9bc3b0b87bd0": {
      "model_module": "@jupyter-widgets/base",
      "model_module_version": "2.0.0",
      "model_name": "LayoutModel",
      "state": {}
     },
     "609a9535fc9c40f095f95c3a12d8073b": {
      "model_module": "@jupyter-widgets/controls",
      "model_module_version": "2.0.0",
      "model_name": "HTMLStyleModel",
      "state": {
       "description_width": "",
       "font_size": null,
       "text_color": null
      }
     },
     "60c4ed0293ac4eff89d03b524ae443fb": {
      "model_module": "@jupyter-widgets/controls",
      "model_module_version": "2.0.0",
      "model_name": "FloatProgressModel",
      "state": {
       "bar_style": "success",
       "layout": "IPY_MODEL_75ac1e49085f43d3bf4eb77a804ecc81",
       "max": 18,
       "style": "IPY_MODEL_b6a9f4633aea4025aca6ed308d6aec6e",
       "value": 18
      }
     },
     "60e02724cf3f4ee3aa964d267d8243b9": {
      "model_module": "@jupyter-widgets/base",
      "model_module_version": "2.0.0",
      "model_name": "LayoutModel",
      "state": {}
     },
     "614be8a5e63d4c45a1c0ffe8905ed9da": {
      "model_module": "@jupyter-widgets/controls",
      "model_module_version": "2.0.0",
      "model_name": "HTMLModel",
      "state": {
       "layout": "IPY_MODEL_9c620d569e5542178003ed5a11794ee8",
       "style": "IPY_MODEL_c6fb5735ddfc4deeb7a3f238cbe7c907",
       "value": " 30/30 [00:05&lt;00:00,  5.87it/s]"
      }
     },
     "619fdc5411254fa4af97e60c5248be18": {
      "model_module": "@jupyter-widgets/controls",
      "model_module_version": "2.0.0",
      "model_name": "FloatProgressModel",
      "state": {
       "bar_style": "success",
       "layout": "IPY_MODEL_a44e00741a6045d0b55652cee84f75b1",
       "max": 30,
       "style": "IPY_MODEL_118198edf8db40e6ae8a0b848f12054d",
       "value": 30
      }
     },
     "61bfdbc9dea742a690bedb3adf6d6103": {
      "model_module": "@jupyter-widgets/controls",
      "model_module_version": "2.0.0",
      "model_name": "HTMLStyleModel",
      "state": {
       "description_width": "",
       "font_size": null,
       "text_color": null
      }
     },
     "61da579dce3b49ab89addc82cba097ad": {
      "model_module": "@jupyter-widgets/controls",
      "model_module_version": "2.0.0",
      "model_name": "HTMLModel",
      "state": {
       "layout": "IPY_MODEL_cb01f33c0f2748e3a0cf4c03db85660d",
       "style": "IPY_MODEL_2ddab2138eb643f89c9cec7ef093cd29",
       "value": "100%"
      }
     },
     "61ee2736320148b38c9b7cff90d5e9ab": {
      "model_module": "@jupyter-widgets/controls",
      "model_module_version": "2.0.0",
      "model_name": "HTMLModel",
      "state": {
       "layout": "IPY_MODEL_554b9a0ae2b7446b86de66fdc805057a",
       "style": "IPY_MODEL_38e79a7a4efd4302bd439373fd3857c1",
       "value": " 30/30 [00:05&lt;00:00,  6.09it/s]"
      }
     },
     "6226e9fded874642b215574b49fb40b1": {
      "model_module": "@jupyter-widgets/controls",
      "model_module_version": "2.0.0",
      "model_name": "HTMLModel",
      "state": {
       "layout": "IPY_MODEL_554f39d547ca4acaaabdce5985da58c8",
       "style": "IPY_MODEL_c59d14421c6e4f9081749676ae0ac33c",
       "value": "100%"
      }
     },
     "6240738535b34cdea0611a7df4dc3083": {
      "model_module": "@jupyter-widgets/base",
      "model_module_version": "2.0.0",
      "model_name": "LayoutModel",
      "state": {}
     },
     "628ae6b37d90492f9b0e121b09fc1756": {
      "model_module": "@jupyter-widgets/base",
      "model_module_version": "2.0.0",
      "model_name": "LayoutModel",
      "state": {}
     },
     "6299423d22fd4030ae256ddd553788ae": {
      "model_module": "@jupyter-widgets/controls",
      "model_module_version": "2.0.0",
      "model_name": "HBoxModel",
      "state": {
       "children": [
        "IPY_MODEL_10963941a10d4e0a83a734e0b828b150",
        "IPY_MODEL_faeff451b8ca48a280b3f75aba0b8983",
        "IPY_MODEL_696b84f8866b4699a7ae981f4c3d124e"
       ],
       "layout": "IPY_MODEL_274d2241a2fa4d80b01e673a5ddb6844"
      }
     },
     "62d308baf5ca41fd8f98e1d342c8a9b8": {
      "model_module": "@jupyter-widgets/controls",
      "model_module_version": "2.0.0",
      "model_name": "HTMLModel",
      "state": {
       "layout": "IPY_MODEL_c92006c9c34747e6999455355857db44",
       "style": "IPY_MODEL_da36a779bd80408bb3983d79974202a1",
       "value": " 30/30 [00:05&lt;00:00,  6.18it/s]"
      }
     },
     "62e69d09951045f3a9533610193b2360": {
      "model_module": "@jupyter-widgets/base",
      "model_module_version": "2.0.0",
      "model_name": "LayoutModel",
      "state": {}
     },
     "63480d00b0a6421eb996eb07f8665767": {
      "model_module": "@jupyter-widgets/base",
      "model_module_version": "2.0.0",
      "model_name": "LayoutModel",
      "state": {}
     },
     "6398a5fddb11432ca6ad5c4696889cd7": {
      "model_module": "@jupyter-widgets/controls",
      "model_module_version": "2.0.0",
      "model_name": "HTMLModel",
      "state": {
       "layout": "IPY_MODEL_e30c569f2ca145499804649ce8b33530",
       "style": "IPY_MODEL_609a9535fc9c40f095f95c3a12d8073b",
       "value": " 30/30 [00:05&lt;00:00,  6.12it/s]"
      }
     },
     "639bd5155cdf4745a29928d64ebbdc05": {
      "model_module": "@jupyter-widgets/base",
      "model_module_version": "2.0.0",
      "model_name": "LayoutModel",
      "state": {}
     },
     "63b3aa96b7ab45ceafaccae059a91108": {
      "model_module": "@jupyter-widgets/base",
      "model_module_version": "2.0.0",
      "model_name": "LayoutModel",
      "state": {}
     },
     "643e386be2d84b7b8ba00d8ab0e7e540": {
      "model_module": "@jupyter-widgets/controls",
      "model_module_version": "2.0.0",
      "model_name": "HBoxModel",
      "state": {
       "children": [
        "IPY_MODEL_e9eb817bf3544a8ca6f84268a324b8f2",
        "IPY_MODEL_ffdb6c43a5af445d8da97100ecc5e25d",
        "IPY_MODEL_ad7d43928cd24182b3978557f119daf6"
       ],
       "layout": "IPY_MODEL_09a4240f8a2744698e2060696ca1ea28"
      }
     },
     "64acbf6fe259404abe3fe4333ed059d1": {
      "model_module": "@jupyter-widgets/controls",
      "model_module_version": "2.0.0",
      "model_name": "HTMLModel",
      "state": {
       "layout": "IPY_MODEL_c4cdb669c1fb4584a9f5849fea319607",
       "style": "IPY_MODEL_534568c4c20a43b38481923a92e2b9a3",
       "value": " 18/18 [00:06&lt;00:00,  2.77it/s]"
      }
     },
     "6546597cd8bd4b3f9330acf9dbe258c3": {
      "model_module": "@jupyter-widgets/controls",
      "model_module_version": "2.0.0",
      "model_name": "HTMLModel",
      "state": {
       "layout": "IPY_MODEL_71e9cc71d395462b9ea2fcf7cc52ea8b",
       "style": "IPY_MODEL_5273c069794b4452881a8113a9eaba91",
       "value": "100%"
      }
     },
     "655d9ffefead4933abe77a3ce7dbf871": {
      "model_module": "@jupyter-widgets/controls",
      "model_module_version": "2.0.0",
      "model_name": "ProgressStyleModel",
      "state": {
       "description_width": ""
      }
     },
     "65d05877fff547c18703151156b387ef": {
      "model_module": "@jupyter-widgets/controls",
      "model_module_version": "2.0.0",
      "model_name": "FloatProgressModel",
      "state": {
       "bar_style": "success",
       "layout": "IPY_MODEL_ac6aae2db6ca41e0bad31889019567d9",
       "max": 20,
       "style": "IPY_MODEL_4b672539b69c4b35a82adb128e56acec",
       "value": 20
      }
     },
     "65ea751778da48be918d6bdbc0f35b57": {
      "model_module": "@jupyter-widgets/controls",
      "model_module_version": "2.0.0",
      "model_name": "ProgressStyleModel",
      "state": {
       "description_width": ""
      }
     },
     "65ee92e2c7df43249aed07a864708ecd": {
      "model_module": "@jupyter-widgets/base",
      "model_module_version": "2.0.0",
      "model_name": "LayoutModel",
      "state": {}
     },
     "6614d91b42aa4abcab7d1941d72ed932": {
      "model_module": "@jupyter-widgets/controls",
      "model_module_version": "2.0.0",
      "model_name": "FloatProgressModel",
      "state": {
       "bar_style": "success",
       "layout": "IPY_MODEL_fcf83876f7d64bd1afcc5136abd10d3e",
       "max": 30,
       "style": "IPY_MODEL_86a7e8fd1f744f13b0f6858be9e647c9",
       "value": 30
      }
     },
     "66545abc4f9a4d76a023b1f55c0c1088": {
      "model_module": "@jupyter-widgets/base",
      "model_module_version": "2.0.0",
      "model_name": "LayoutModel",
      "state": {}
     },
     "66d0ade97fad41b2aaefbf139877b3c2": {
      "model_module": "@jupyter-widgets/base",
      "model_module_version": "2.0.0",
      "model_name": "LayoutModel",
      "state": {}
     },
     "66f5040beae4444f92809201c3498d49": {
      "model_module": "@jupyter-widgets/controls",
      "model_module_version": "2.0.0",
      "model_name": "FloatProgressModel",
      "state": {
       "bar_style": "success",
       "layout": "IPY_MODEL_371009254a9941d6ac5b6af700aec15a",
       "max": 18,
       "style": "IPY_MODEL_b4651f3cee624ce489d72efb33392507",
       "value": 18
      }
     },
     "67109ecc6ae14057ae4172877539601d": {
      "model_module": "@jupyter-widgets/controls",
      "model_module_version": "2.0.0",
      "model_name": "HTMLModel",
      "state": {
       "layout": "IPY_MODEL_6e70ab2c08cd43bbae3404e0c9bf7b54",
       "style": "IPY_MODEL_97e862e23f404b3f9d26d32f1881c3fc",
       "value": " 30/30 [00:04&lt;00:00,  7.53it/s]"
      }
     },
     "6776bec0fbae4386a4b29a08d1c796ef": {
      "model_module": "@jupyter-widgets/controls",
      "model_module_version": "2.0.0",
      "model_name": "HTMLStyleModel",
      "state": {
       "description_width": "",
       "font_size": null,
       "text_color": null
      }
     },
     "67da58db6f594cbca9c8b7b23c29f78d": {
      "model_module": "@jupyter-widgets/controls",
      "model_module_version": "2.0.0",
      "model_name": "HTMLStyleModel",
      "state": {
       "description_width": "",
       "font_size": null,
       "text_color": null
      }
     },
     "682099fc5a344f78b2146d0b2ad242f4": {
      "model_module": "@jupyter-widgets/base",
      "model_module_version": "2.0.0",
      "model_name": "LayoutModel",
      "state": {}
     },
     "68ab9ace59884fa4a5e606ca06d64cb1": {
      "model_module": "@jupyter-widgets/controls",
      "model_module_version": "2.0.0",
      "model_name": "HTMLModel",
      "state": {
       "layout": "IPY_MODEL_e97c96a2ff194130a8f248f762c88142",
       "style": "IPY_MODEL_e2d9b2d19d3f4e4fa68f51366ebfc1a2",
       "value": "100%"
      }
     },
     "68acc760ac3c4355a184de71d85fe8a0": {
      "model_module": "@jupyter-widgets/base",
      "model_module_version": "2.0.0",
      "model_name": "LayoutModel",
      "state": {}
     },
     "68e16f11d8f149e6afdfd1d1f5fc1351": {
      "model_module": "@jupyter-widgets/controls",
      "model_module_version": "2.0.0",
      "model_name": "HBoxModel",
      "state": {
       "children": [
        "IPY_MODEL_1d2a1cb5408544dab06a424738e92550",
        "IPY_MODEL_8929f0f40f74489f9acf7c61fa7ceca7",
        "IPY_MODEL_b78e68f98d3c49009ff15d47a82c7422"
       ],
       "layout": "IPY_MODEL_66d0ade97fad41b2aaefbf139877b3c2"
      }
     },
     "6910efa293864701a97572eb79f5bcc3": {
      "model_module": "@jupyter-widgets/base",
      "model_module_version": "2.0.0",
      "model_name": "LayoutModel",
      "state": {}
     },
     "692fcc16c0304f02afa7bc8bf5517432": {
      "model_module": "@jupyter-widgets/controls",
      "model_module_version": "2.0.0",
      "model_name": "HTMLModel",
      "state": {
       "layout": "IPY_MODEL_151964e95f4f42389347257d9e7a4ea2",
       "style": "IPY_MODEL_a07ada27f1a44acab2d539986fd384c0",
       "value": "100%"
      }
     },
     "6940b4ee82dc420bb0a0f52eef4f3ed4": {
      "model_module": "@jupyter-widgets/controls",
      "model_module_version": "2.0.0",
      "model_name": "HTMLStyleModel",
      "state": {
       "description_width": "",
       "font_size": null,
       "text_color": null
      }
     },
     "6967297db0c24a56a46ede7504f3e380": {
      "model_module": "@jupyter-widgets/controls",
      "model_module_version": "2.0.0",
      "model_name": "FloatProgressModel",
      "state": {
       "bar_style": "danger",
       "layout": "IPY_MODEL_3c7456dd78754dfa8786f9522ecc311c",
       "max": 42,
       "style": "IPY_MODEL_a964dd03bf8142e88fe2a2a4cd816c5c"
      }
     },
     "696b84f8866b4699a7ae981f4c3d124e": {
      "model_module": "@jupyter-widgets/controls",
      "model_module_version": "2.0.0",
      "model_name": "HTMLModel",
      "state": {
       "layout": "IPY_MODEL_d5a2d5e2a1734658b4ff810e56ae93cf",
       "style": "IPY_MODEL_d14c70163f554085a8fd55c6aae01863",
       "value": " 18/18 [00:05&lt;00:00,  3.60it/s]"
      }
     },
     "69770612593144de8c3c4325c70fdab3": {
      "model_module": "@jupyter-widgets/controls",
      "model_module_version": "2.0.0",
      "model_name": "FloatProgressModel",
      "state": {
       "bar_style": "success",
       "layout": "IPY_MODEL_193ad45481b54d3595a38bcb4589f412",
       "max": 16,
       "style": "IPY_MODEL_5bf0b24e40d346b892a8df3521c06616",
       "value": 16
      }
     },
     "6985e017e4b44358addb3861ad70c4ef": {
      "model_module": "@jupyter-widgets/controls",
      "model_module_version": "2.0.0",
      "model_name": "ProgressStyleModel",
      "state": {
       "description_width": ""
      }
     },
     "69af889d7f104b1b8eeab452ccca04a5": {
      "model_module": "@jupyter-widgets/base",
      "model_module_version": "2.0.0",
      "model_name": "LayoutModel",
      "state": {}
     },
     "69ee047b7d204550b45ffb11245ebd1c": {
      "model_module": "@jupyter-widgets/base",
      "model_module_version": "2.0.0",
      "model_name": "LayoutModel",
      "state": {}
     },
     "69fb1ee5b3b248de8a363c1ae4ee2569": {
      "model_module": "@jupyter-widgets/controls",
      "model_module_version": "2.0.0",
      "model_name": "HTMLModel",
      "state": {
       "layout": "IPY_MODEL_9898412f5925415e848d6158f0f5d6e1",
       "style": "IPY_MODEL_902cafaff6fa48b58cc211d792f00059",
       "value": "100%"
      }
     },
     "6a84a6e325b941a0b4e543daa9c56474": {
      "model_module": "@jupyter-widgets/base",
      "model_module_version": "2.0.0",
      "model_name": "LayoutModel",
      "state": {}
     },
     "6aa0e97db39c42778cbe0bd0752039f2": {
      "model_module": "@jupyter-widgets/base",
      "model_module_version": "2.0.0",
      "model_name": "LayoutModel",
      "state": {}
     },
     "6ad2a5eb86fc447e8ec61e7a216fc0aa": {
      "model_module": "@jupyter-widgets/base",
      "model_module_version": "2.0.0",
      "model_name": "LayoutModel",
      "state": {}
     },
     "6ad669bf65f24d5b8ffa79c331406538": {
      "model_module": "@jupyter-widgets/controls",
      "model_module_version": "2.0.0",
      "model_name": "ProgressStyleModel",
      "state": {
       "description_width": ""
      }
     },
     "6b4ddc9d80d849b0a56e0318da25937d": {
      "model_module": "@jupyter-widgets/controls",
      "model_module_version": "2.0.0",
      "model_name": "FloatProgressModel",
      "state": {
       "bar_style": "success",
       "layout": "IPY_MODEL_736e87b4623e4752a771b583d4d6b3aa",
       "max": 30,
       "style": "IPY_MODEL_65ea751778da48be918d6bdbc0f35b57",
       "value": 30
      }
     },
     "6b50737b57284f2e9700a1c769fc4e9c": {
      "model_module": "@jupyter-widgets/base",
      "model_module_version": "2.0.0",
      "model_name": "LayoutModel",
      "state": {}
     },
     "6b85b12fb1d545ccb1f002282a3624fa": {
      "model_module": "@jupyter-widgets/controls",
      "model_module_version": "2.0.0",
      "model_name": "HTMLStyleModel",
      "state": {
       "description_width": "",
       "font_size": null,
       "text_color": null
      }
     },
     "6bd5b1fed4004d57b21a543ae0817c4f": {
      "model_module": "@jupyter-widgets/controls",
      "model_module_version": "2.0.0",
      "model_name": "HTMLStyleModel",
      "state": {
       "description_width": "",
       "font_size": null,
       "text_color": null
      }
     },
     "6c9c6789801e4df6b8929c0ec2069490": {
      "model_module": "@jupyter-widgets/base",
      "model_module_version": "2.0.0",
      "model_name": "LayoutModel",
      "state": {}
     },
     "6d67cb2a899e45f095ef4bad14bae92a": {
      "model_module": "@jupyter-widgets/controls",
      "model_module_version": "2.0.0",
      "model_name": "HTMLStyleModel",
      "state": {
       "description_width": "",
       "font_size": null,
       "text_color": null
      }
     },
     "6dbdd86cfd8f4b8cae517e1685f7dd14": {
      "model_module": "@jupyter-widgets/controls",
      "model_module_version": "2.0.0",
      "model_name": "HTMLModel",
      "state": {
       "layout": "IPY_MODEL_8aff769eac67498aa5d097aa29488b89",
       "style": "IPY_MODEL_965535f355a441a8b44cf8ba387efd20",
       "value": "100%"
      }
     },
     "6dbfbd837d984cd9b97fb1e45c1abe91": {
      "model_module": "@jupyter-widgets/base",
      "model_module_version": "2.0.0",
      "model_name": "LayoutModel",
      "state": {}
     },
     "6e5ffbd818a04e4a84e6f8cc4d5e1021": {
      "model_module": "@jupyter-widgets/base",
      "model_module_version": "2.0.0",
      "model_name": "LayoutModel",
      "state": {}
     },
     "6e70ab2c08cd43bbae3404e0c9bf7b54": {
      "model_module": "@jupyter-widgets/base",
      "model_module_version": "2.0.0",
      "model_name": "LayoutModel",
      "state": {}
     },
     "6e9503ba350a48f183df431fb3f34ec7": {
      "model_module": "@jupyter-widgets/base",
      "model_module_version": "2.0.0",
      "model_name": "LayoutModel",
      "state": {}
     },
     "6ee070f46c45418aad31c633c9f2cefc": {
      "model_module": "@jupyter-widgets/controls",
      "model_module_version": "2.0.0",
      "model_name": "HBoxModel",
      "state": {
       "children": [
        "IPY_MODEL_a1c7b5cfb0a9424086e2a7c0b3b66086",
        "IPY_MODEL_c34d280273454165b8d050fef72f4a49",
        "IPY_MODEL_9bfc7c03d41e4dbdb4f460cc94ebe25c"
       ],
       "layout": "IPY_MODEL_086415b321664170acce2cbb0249752f"
      }
     },
     "6f1bd1a1d62a45a78eee908a836f6a2f": {
      "model_module": "@jupyter-widgets/base",
      "model_module_version": "2.0.0",
      "model_name": "LayoutModel",
      "state": {}
     },
     "6f518848edbd41d8855bc03da91f6d60": {
      "model_module": "@jupyter-widgets/controls",
      "model_module_version": "2.0.0",
      "model_name": "HTMLStyleModel",
      "state": {
       "description_width": "",
       "font_size": null,
       "text_color": null
      }
     },
     "6fa4320da04d4fea951064144600b919": {
      "model_module": "@jupyter-widgets/controls",
      "model_module_version": "2.0.0",
      "model_name": "ProgressStyleModel",
      "state": {
       "description_width": ""
      }
     },
     "70223f3acedc4418874a59844a91ecfd": {
      "model_module": "@jupyter-widgets/controls",
      "model_module_version": "2.0.0",
      "model_name": "FloatProgressModel",
      "state": {
       "bar_style": "success",
       "layout": "IPY_MODEL_8dd06c8dae0940e980bcda1b3b3036e1",
       "max": 16,
       "style": "IPY_MODEL_e29a6084a5a54ca89b5e9375e4826cd8",
       "value": 16
      }
     },
     "705ad0d5ea734cf69a4c282baaab82b5": {
      "model_module": "@jupyter-widgets/controls",
      "model_module_version": "2.0.0",
      "model_name": "HBoxModel",
      "state": {
       "children": [
        "IPY_MODEL_6226e9fded874642b215574b49fb40b1",
        "IPY_MODEL_c89f8da5a6824378bced3d664dbf8a62",
        "IPY_MODEL_c9b50a7bff7549cf93cf8dd2f84b1bef"
       ],
       "layout": "IPY_MODEL_69ee047b7d204550b45ffb11245ebd1c"
      }
     },
     "70aa108dbec2405f8c3660fb24b33c41": {
      "model_module": "@jupyter-widgets/base",
      "model_module_version": "2.0.0",
      "model_name": "LayoutModel",
      "state": {}
     },
     "70abd533335f476e9139e0f510616acd": {
      "model_module": "@jupyter-widgets/controls",
      "model_module_version": "2.0.0",
      "model_name": "HTMLModel",
      "state": {
       "layout": "IPY_MODEL_ee4c4cadbc5840c793c21478a1c0e716",
       "style": "IPY_MODEL_2ccf72c8dccd43e883daa8c920871562",
       "value": "100%"
      }
     },
     "714cebc06e8344efa9f6fa88a0aaa96e": {
      "model_module": "@jupyter-widgets/controls",
      "model_module_version": "2.0.0",
      "model_name": "HBoxModel",
      "state": {
       "children": [
        "IPY_MODEL_6546597cd8bd4b3f9330acf9dbe258c3",
        "IPY_MODEL_5561cc736d454ea1a9f8d1dbc2138929",
        "IPY_MODEL_d47e2be763a140a2b26b608562bcf8f2"
       ],
       "layout": "IPY_MODEL_9b488f1f5a6b4310adfe00b2b09e9eba"
      }
     },
     "71676e870f974448a0034b1764020382": {
      "model_module": "@jupyter-widgets/controls",
      "model_module_version": "2.0.0",
      "model_name": "ProgressStyleModel",
      "state": {
       "description_width": ""
      }
     },
     "71868b0fb0634b6db8a8432fad69e49b": {
      "model_module": "@jupyter-widgets/controls",
      "model_module_version": "2.0.0",
      "model_name": "HBoxModel",
      "state": {
       "children": [
        "IPY_MODEL_ee9a8b9902fe477db89c042149bc09fe",
        "IPY_MODEL_619fdc5411254fa4af97e60c5248be18",
        "IPY_MODEL_5799ff43a6b245b19ec9f0f519f422c0"
       ],
       "layout": "IPY_MODEL_a3435fd8c806413cb0088293e94fcbfb"
      }
     },
     "719ed5708faf411aa42ef3058a078020": {
      "model_module": "@jupyter-widgets/base",
      "model_module_version": "2.0.0",
      "model_name": "LayoutModel",
      "state": {}
     },
     "71d12e2cc8a54495bd9bdeb1849e3daa": {
      "model_module": "@jupyter-widgets/controls",
      "model_module_version": "2.0.0",
      "model_name": "HTMLModel",
      "state": {
       "layout": "IPY_MODEL_973d0c32f1c2435d8b6d79db5c271b80",
       "style": "IPY_MODEL_6b85b12fb1d545ccb1f002282a3624fa",
       "value": "100%"
      }
     },
     "71e9cc71d395462b9ea2fcf7cc52ea8b": {
      "model_module": "@jupyter-widgets/base",
      "model_module_version": "2.0.0",
      "model_name": "LayoutModel",
      "state": {}
     },
     "721c7f27c1374dbfb76935875c9e40fb": {
      "model_module": "@jupyter-widgets/controls",
      "model_module_version": "2.0.0",
      "model_name": "FloatProgressModel",
      "state": {
       "bar_style": "success",
       "layout": "IPY_MODEL_b077b556f5a4483c987c84056d253375",
       "max": 30,
       "style": "IPY_MODEL_328e52d6316b46fca543d4d97774353e",
       "value": 30
      }
     },
     "72441ac6592b4eb39860690ba2810930": {
      "model_module": "@jupyter-widgets/controls",
      "model_module_version": "2.0.0",
      "model_name": "FloatProgressModel",
      "state": {
       "bar_style": "success",
       "layout": "IPY_MODEL_1b9cf159d35246e7b643658261f76fca",
       "max": 18,
       "style": "IPY_MODEL_125375b38cdf4c23b55dfaed167b9190",
       "value": 18
      }
     },
     "72bbd64717f34ef28ce17740af265bad": {
      "model_module": "@jupyter-widgets/controls",
      "model_module_version": "2.0.0",
      "model_name": "HTMLModel",
      "state": {
       "layout": "IPY_MODEL_97e133d183924dd39a88821f16848753",
       "style": "IPY_MODEL_cac3a23e9a1348bf90bebb47815295e2",
       "value": " 18/18 [00:10&lt;00:00,  1.69it/s]"
      }
     },
     "7335570b46b44322b7061e688e9deb7d": {
      "model_module": "@jupyter-widgets/base",
      "model_module_version": "2.0.0",
      "model_name": "LayoutModel",
      "state": {}
     },
     "733c42e7211d4cb5997bd093376720fb": {
      "model_module": "@jupyter-widgets/controls",
      "model_module_version": "2.0.0",
      "model_name": "HTMLStyleModel",
      "state": {
       "description_width": "",
       "font_size": null,
       "text_color": null
      }
     },
     "7369b61c21804daf9e1c309b928da996": {
      "model_module": "@jupyter-widgets/controls",
      "model_module_version": "2.0.0",
      "model_name": "HTMLStyleModel",
      "state": {
       "description_width": "",
       "font_size": null,
       "text_color": null
      }
     },
     "736e87b4623e4752a771b583d4d6b3aa": {
      "model_module": "@jupyter-widgets/base",
      "model_module_version": "2.0.0",
      "model_name": "LayoutModel",
      "state": {}
     },
     "73a91e70734443bd91f9a5c9751706b9": {
      "model_module": "@jupyter-widgets/controls",
      "model_module_version": "2.0.0",
      "model_name": "HTMLStyleModel",
      "state": {
       "description_width": "",
       "font_size": null,
       "text_color": null
      }
     },
     "74df169ead674285a7f91f5b1e443eaf": {
      "model_module": "@jupyter-widgets/controls",
      "model_module_version": "2.0.0",
      "model_name": "HTMLModel",
      "state": {
       "layout": "IPY_MODEL_adf70422c33443bb805eb311ef379396",
       "style": "IPY_MODEL_1b1b259d562f4e4f8241e6893d07a349",
       "value": "100%"
      }
     },
     "74eb82c580b44ce294c11e0aa3e12a3b": {
      "model_module": "@jupyter-widgets/base",
      "model_module_version": "2.0.0",
      "model_name": "LayoutModel",
      "state": {}
     },
     "758929581913404ab4a745d9b5647333": {
      "model_module": "@jupyter-widgets/base",
      "model_module_version": "2.0.0",
      "model_name": "LayoutModel",
      "state": {}
     },
     "75ac1e49085f43d3bf4eb77a804ecc81": {
      "model_module": "@jupyter-widgets/base",
      "model_module_version": "2.0.0",
      "model_name": "LayoutModel",
      "state": {}
     },
     "75d741ebf7ad493ab7d196cae3ef2b9e": {
      "model_module": "@jupyter-widgets/base",
      "model_module_version": "2.0.0",
      "model_name": "LayoutModel",
      "state": {}
     },
     "75eba22f6afb42eaade5781f8c737997": {
      "model_module": "@jupyter-widgets/controls",
      "model_module_version": "2.0.0",
      "model_name": "HTMLStyleModel",
      "state": {
       "description_width": "",
       "font_size": null,
       "text_color": null
      }
     },
     "75f1bd7c0320483aa3962d307680e556": {
      "model_module": "@jupyter-widgets/controls",
      "model_module_version": "2.0.0",
      "model_name": "HTMLModel",
      "state": {
       "layout": "IPY_MODEL_223a6a5472fe4ad9964197190dd6afb2",
       "style": "IPY_MODEL_4f3a14b5af8543528c7b72feda8e1885",
       "value": " 18/18 [00:07&lt;00:00,  2.68it/s]"
      }
     },
     "766cb4066e9d4ce6a156a072c36011c7": {
      "model_module": "@jupyter-widgets/controls",
      "model_module_version": "2.0.0",
      "model_name": "HTMLModel",
      "state": {
       "layout": "IPY_MODEL_34fcca6995b5459a9e9419280d7072bb",
       "style": "IPY_MODEL_bd5406a04fa54edbab481de43d2c440b",
       "value": "100%"
      }
     },
     "76a57a20f9ed477c92b9c31331b04c31": {
      "model_module": "@jupyter-widgets/controls",
      "model_module_version": "2.0.0",
      "model_name": "HBoxModel",
      "state": {
       "children": [
        "IPY_MODEL_ec9ac10218ff44a98961d52036db31ae",
        "IPY_MODEL_7869a52d8ec14b32aeb6ac9a9d389e8e",
        "IPY_MODEL_4aada1062af44309a95958285241b5e8"
       ],
       "layout": "IPY_MODEL_594a5c41d9e44c8bbf3814af7dae36d8"
      }
     },
     "76b56b8a73964bb18691cfd515f3694e": {
      "model_module": "@jupyter-widgets/base",
      "model_module_version": "2.0.0",
      "model_name": "LayoutModel",
      "state": {}
     },
     "76e11031832e4061bd863c3e8e955951": {
      "model_module": "@jupyter-widgets/controls",
      "model_module_version": "2.0.0",
      "model_name": "HBoxModel",
      "state": {
       "children": [
        "IPY_MODEL_9b69f693005b4c75b862c70ffcaa66f6",
        "IPY_MODEL_e25442a64177462eb23941becc5cd270",
        "IPY_MODEL_614be8a5e63d4c45a1c0ffe8905ed9da"
       ],
       "layout": "IPY_MODEL_85b4176102974e44bb68260567bd25a6"
      }
     },
     "76f5159a8c9446968415c8c5e7523cc4": {
      "model_module": "@jupyter-widgets/controls",
      "model_module_version": "2.0.0",
      "model_name": "HTMLStyleModel",
      "state": {
       "description_width": "",
       "font_size": null,
       "text_color": null
      }
     },
     "775fb67c59ab478bac9d0b65097208ff": {
      "model_module": "@jupyter-widgets/controls",
      "model_module_version": "2.0.0",
      "model_name": "ProgressStyleModel",
      "state": {
       "description_width": ""
      }
     },
     "777553a130bd49a69bc576e05e2c858d": {
      "model_module": "@jupyter-widgets/controls",
      "model_module_version": "2.0.0",
      "model_name": "HBoxModel",
      "state": {
       "children": [
        "IPY_MODEL_a6df4cbda2fe4b6cab2bcfb173b68404",
        "IPY_MODEL_9af024e95b214c3c9df78e3faf75d8be",
        "IPY_MODEL_b61b6e9eea2243d7b551782aa5617496"
       ],
       "layout": "IPY_MODEL_58205bab19a340e29e70bfb3147ecc6e"
      }
     },
     "7781e81b629e4d87be9b546343c4a6b4": {
      "model_module": "@jupyter-widgets/controls",
      "model_module_version": "2.0.0",
      "model_name": "HTMLModel",
      "state": {
       "layout": "IPY_MODEL_a74573774d4240d4ac6aa525b05102af",
       "style": "IPY_MODEL_da3b7dbbb2c643fa945b0c03602513ba",
       "value": "100%"
      }
     },
     "7824fd1806e842dfaedb024d7f34ff11": {
      "model_module": "@jupyter-widgets/controls",
      "model_module_version": "2.0.0",
      "model_name": "HTMLStyleModel",
      "state": {
       "description_width": "",
       "font_size": null,
       "text_color": null
      }
     },
     "7869a52d8ec14b32aeb6ac9a9d389e8e": {
      "model_module": "@jupyter-widgets/controls",
      "model_module_version": "2.0.0",
      "model_name": "FloatProgressModel",
      "state": {
       "bar_style": "success",
       "layout": "IPY_MODEL_44c0e31ae5c44b598729b5c1f5c3c4af",
       "max": 30,
       "style": "IPY_MODEL_035781f55c664564987d00e887157f7b",
       "value": 30
      }
     },
     "789a7474081946f08a20509a2964be9a": {
      "model_module": "@jupyter-widgets/controls",
      "model_module_version": "2.0.0",
      "model_name": "HBoxModel",
      "state": {
       "children": [
        "IPY_MODEL_b459fd7ef1a34e7cad93b324f3c3769d",
        "IPY_MODEL_721c7f27c1374dbfb76935875c9e40fb",
        "IPY_MODEL_9aca3cd82c014c1485320f355a21796c"
       ],
       "layout": "IPY_MODEL_36349698fca04e84a0da2a0c981baad0"
      }
     },
     "78ae90569eb542db8ae0d1bcf352302a": {
      "model_module": "@jupyter-widgets/controls",
      "model_module_version": "2.0.0",
      "model_name": "HTMLStyleModel",
      "state": {
       "description_width": "",
       "font_size": null,
       "text_color": null
      }
     },
     "79174ce46b854e7daa7d04d0dda1a855": {
      "model_module": "@jupyter-widgets/base",
      "model_module_version": "2.0.0",
      "model_name": "LayoutModel",
      "state": {}
     },
     "797283e0cfb94872860d9470746313ab": {
      "model_module": "@jupyter-widgets/controls",
      "model_module_version": "2.0.0",
      "model_name": "HTMLStyleModel",
      "state": {
       "description_width": "",
       "font_size": null,
       "text_color": null
      }
     },
     "79ba2d2c91724149bfcac2faffbe66bb": {
      "model_module": "@jupyter-widgets/controls",
      "model_module_version": "2.0.0",
      "model_name": "HTMLModel",
      "state": {
       "layout": "IPY_MODEL_08e838626cb24dc2920d6b3556e7ac3f",
       "style": "IPY_MODEL_f9f036de13d846fca313419d60303eff",
       "value": " 30/30 [00:05&lt;00:00,  6.24it/s]"
      }
     },
     "79c4bd07734d4fa7a7717d39e32577ce": {
      "model_module": "@jupyter-widgets/controls",
      "model_module_version": "2.0.0",
      "model_name": "HTMLStyleModel",
      "state": {
       "description_width": "",
       "font_size": null,
       "text_color": null
      }
     },
     "79c6bca65ce34c3f8982c697f74703c0": {
      "model_module": "@jupyter-widgets/controls",
      "model_module_version": "2.0.0",
      "model_name": "HBoxModel",
      "state": {
       "children": [
        "IPY_MODEL_c42404e097c643449555c44b829afacd",
        "IPY_MODEL_e1c73e611a794a8b86b4282c8fbfafbe",
        "IPY_MODEL_c9ff06b5ebd64bae9dd4291481171626"
       ],
       "layout": "IPY_MODEL_79e3807cd3a24cd7a9a5d0e6462975a3"
      }
     },
     "79d789ed61ec41819dc9adb780c4766b": {
      "model_module": "@jupyter-widgets/base",
      "model_module_version": "2.0.0",
      "model_name": "LayoutModel",
      "state": {}
     },
     "79e3807cd3a24cd7a9a5d0e6462975a3": {
      "model_module": "@jupyter-widgets/base",
      "model_module_version": "2.0.0",
      "model_name": "LayoutModel",
      "state": {}
     },
     "7a32e3ed782748ceb14db8e11612d460": {
      "model_module": "@jupyter-widgets/base",
      "model_module_version": "2.0.0",
      "model_name": "LayoutModel",
      "state": {}
     },
     "7b3419e9d83c4e0ea4cf34bbf6f75fad": {
      "model_module": "@jupyter-widgets/base",
      "model_module_version": "2.0.0",
      "model_name": "LayoutModel",
      "state": {}
     },
     "7b78086590254c60bc82db8df25413e0": {
      "model_module": "@jupyter-widgets/base",
      "model_module_version": "2.0.0",
      "model_name": "LayoutModel",
      "state": {}
     },
     "7c150e55dd8549c1ab82bac0f425081d": {
      "model_module": "@jupyter-widgets/controls",
      "model_module_version": "2.0.0",
      "model_name": "FloatProgressModel",
      "state": {
       "bar_style": "success",
       "layout": "IPY_MODEL_2821cd10f6f7468f91b0194f6241f3c9",
       "max": 18,
       "style": "IPY_MODEL_872181c6981a4a5298a059be6b43a6d8",
       "value": 18
      }
     },
     "7c184e5ef08e4f7fb0738f680b71f170": {
      "model_module": "@jupyter-widgets/controls",
      "model_module_version": "2.0.0",
      "model_name": "HTMLStyleModel",
      "state": {
       "description_width": "",
       "font_size": null,
       "text_color": null
      }
     },
     "7c60eb24a73b46a189372ecf055fc4eb": {
      "model_module": "@jupyter-widgets/controls",
      "model_module_version": "2.0.0",
      "model_name": "HTMLModel",
      "state": {
       "layout": "IPY_MODEL_46ca30658a4c4bfeb9b2c67f897623c5",
       "style": "IPY_MODEL_2760f6d729674937bf0057fe201dd6a8",
       "value": " 18/18 [00:05&lt;00:00,  3.51it/s]"
      }
     },
     "7c749d97e10a46cfbeabf1fb82c1e24a": {
      "model_module": "@jupyter-widgets/controls",
      "model_module_version": "2.0.0",
      "model_name": "HTMLStyleModel",
      "state": {
       "description_width": "",
       "font_size": null,
       "text_color": null
      }
     },
     "7cc2ba19391342ccbc606a48ccfa196f": {
      "model_module": "@jupyter-widgets/controls",
      "model_module_version": "2.0.0",
      "model_name": "HTMLModel",
      "state": {
       "layout": "IPY_MODEL_60e02724cf3f4ee3aa964d267d8243b9",
       "style": "IPY_MODEL_a1c692e6fd5a4947a156091850a86478",
       "value": "100%"
      }
     },
     "7d06c582ba6140d38995c6f2fe4c260d": {
      "model_module": "@jupyter-widgets/controls",
      "model_module_version": "2.0.0",
      "model_name": "FloatProgressModel",
      "state": {
       "bar_style": "success",
       "layout": "IPY_MODEL_a29e89f790d7418f9d3e195596089e03",
       "max": 30,
       "style": "IPY_MODEL_970f0d1382ea4ec697f1e414990c32b3",
       "value": 30
      }
     },
     "7dcb5d6ad2ac4551bbe9460b646dd0cb": {
      "model_module": "@jupyter-widgets/controls",
      "model_module_version": "2.0.0",
      "model_name": "FloatProgressModel",
      "state": {
       "bar_style": "success",
       "layout": "IPY_MODEL_0b4bad1b1b3a4abf99ca6299e7730d66",
       "max": 18,
       "style": "IPY_MODEL_adad37edbc7b4d28b475a89413a37b64",
       "value": 18
      }
     },
     "7dd039d1c8b949ff8c136cd8b7bb82df": {
      "model_module": "@jupyter-widgets/base",
      "model_module_version": "2.0.0",
      "model_name": "LayoutModel",
      "state": {}
     },
     "7ed79bdcf2b24524b4b01e941ae5f9ef": {
      "model_module": "@jupyter-widgets/controls",
      "model_module_version": "2.0.0",
      "model_name": "HTMLModel",
      "state": {
       "layout": "IPY_MODEL_f56713dbce8349c28ad7ef7d709c927e",
       "style": "IPY_MODEL_332ade35e50c43a4b36d592adf344c2c",
       "value": "100%"
      }
     },
     "7edfd0308a924b6e8ada35575b17ace6": {
      "model_module": "@jupyter-widgets/controls",
      "model_module_version": "2.0.0",
      "model_name": "FloatProgressModel",
      "state": {
       "bar_style": "success",
       "layout": "IPY_MODEL_99e0d4261cb74f6687fa92edd5d2561c",
       "max": 18,
       "style": "IPY_MODEL_2f7166014aeb45df83831c721f0d9449",
       "value": 18
      }
     },
     "7f2f339fad3b44dca425357a4520ddfd": {
      "model_module": "@jupyter-widgets/base",
      "model_module_version": "2.0.0",
      "model_name": "LayoutModel",
      "state": {}
     },
     "7f3ac0fef6f24264a4bf60fb718b7803": {
      "model_module": "@jupyter-widgets/controls",
      "model_module_version": "2.0.0",
      "model_name": "HTMLModel",
      "state": {
       "layout": "IPY_MODEL_63b3aa96b7ab45ceafaccae059a91108",
       "style": "IPY_MODEL_eae14e2b02ba465b831fa3cc73658739",
       "value": " 30/30 [00:05&lt;00:00,  6.32it/s]"
      }
     },
     "7f9251a322bd4e9eb587d47d2bd0331c": {
      "model_module": "@jupyter-widgets/base",
      "model_module_version": "2.0.0",
      "model_name": "LayoutModel",
      "state": {}
     },
     "7fdbb9ccd7824ee088f72c91b3d1b56a": {
      "model_module": "@jupyter-widgets/controls",
      "model_module_version": "2.0.0",
      "model_name": "ProgressStyleModel",
      "state": {
       "description_width": ""
      }
     },
     "7fe417a5848e4914b2e85e174a4d1f32": {
      "model_module": "@jupyter-widgets/base",
      "model_module_version": "2.0.0",
      "model_name": "LayoutModel",
      "state": {}
     },
     "8028e92430664d14a86aec689f071c67": {
      "model_module": "@jupyter-widgets/base",
      "model_module_version": "2.0.0",
      "model_name": "LayoutModel",
      "state": {}
     },
     "802e22aaba594096b3aac50e846385bc": {
      "model_module": "@jupyter-widgets/base",
      "model_module_version": "2.0.0",
      "model_name": "LayoutModel",
      "state": {}
     },
     "80b2abb2094e4b12bad08d40675433da": {
      "model_module": "@jupyter-widgets/controls",
      "model_module_version": "2.0.0",
      "model_name": "HTMLStyleModel",
      "state": {
       "description_width": "",
       "font_size": null,
       "text_color": null
      }
     },
     "81160a9400a64341b23bf1174286d22d": {
      "model_module": "@jupyter-widgets/controls",
      "model_module_version": "2.0.0",
      "model_name": "HTMLStyleModel",
      "state": {
       "description_width": "",
       "font_size": null,
       "text_color": null
      }
     },
     "811d35b3725e43869e61320c1767f236": {
      "model_module": "@jupyter-widgets/controls",
      "model_module_version": "2.0.0",
      "model_name": "HTMLStyleModel",
      "state": {
       "description_width": "",
       "font_size": null,
       "text_color": null
      }
     },
     "819c6b2422fb488fbe3787c29f77b81e": {
      "model_module": "@jupyter-widgets/controls",
      "model_module_version": "2.0.0",
      "model_name": "ProgressStyleModel",
      "state": {
       "description_width": ""
      }
     },
     "8230fb07336e454d990199025e2cf792": {
      "model_module": "@jupyter-widgets/controls",
      "model_module_version": "2.0.0",
      "model_name": "ProgressStyleModel",
      "state": {
       "description_width": ""
      }
     },
     "8273ce638bb047ab973214f7b098e194": {
      "model_module": "@jupyter-widgets/controls",
      "model_module_version": "2.0.0",
      "model_name": "HTMLModel",
      "state": {
       "layout": "IPY_MODEL_63480d00b0a6421eb996eb07f8665767",
       "style": "IPY_MODEL_5242852286a54a28962fb55900d96ae1",
       "value": " 18/18 [00:11&lt;00:00,  1.65it/s]"
      }
     },
     "83207c55713e42399e81ddb5dd96d22c": {
      "model_module": "@jupyter-widgets/controls",
      "model_module_version": "2.0.0",
      "model_name": "HBoxModel",
      "state": {
       "children": [
        "IPY_MODEL_556c4e8b813448188db124f840132be0",
        "IPY_MODEL_2ae2fe7df12d44afb44de32c38a8122f",
        "IPY_MODEL_5e5d63055b3a4926bb25ed47cf9c9457"
       ],
       "layout": "IPY_MODEL_75d741ebf7ad493ab7d196cae3ef2b9e"
      }
     },
     "835323c145ff496b952e14d65cf60d02": {
      "model_module": "@jupyter-widgets/controls",
      "model_module_version": "2.0.0",
      "model_name": "HBoxModel",
      "state": {
       "children": [
        "IPY_MODEL_c78822452271455a9baa16c65e288457",
        "IPY_MODEL_4842be40422143bd97fc8688678adb78",
        "IPY_MODEL_a022fe237f644aed8456cfc52a42a779"
       ],
       "layout": "IPY_MODEL_a0952d66b5aa462ca5cdce4deffcf74a"
      }
     },
     "83692d133cfb4bcf8bfd5777e3674e4d": {
      "model_module": "@jupyter-widgets/controls",
      "model_module_version": "2.0.0",
      "model_name": "HTMLStyleModel",
      "state": {
       "description_width": "",
       "font_size": null,
       "text_color": null
      }
     },
     "83e7aa1b42064fa08cf744936502cd26": {
      "model_module": "@jupyter-widgets/controls",
      "model_module_version": "2.0.0",
      "model_name": "HTMLModel",
      "state": {
       "layout": "IPY_MODEL_f5103173d9b34476b85a5948381eeeb3",
       "style": "IPY_MODEL_efa54dcc998c417da0644b0723c5cf67",
       "value": " 55/55 [00:33&lt;00:00,  1.79it/s]"
      }
     },
     "843c80ecc92c41209150163d136515e1": {
      "model_module": "@jupyter-widgets/base",
      "model_module_version": "2.0.0",
      "model_name": "LayoutModel",
      "state": {}
     },
     "849170704b464115846a38bb9342ae39": {
      "model_module": "@jupyter-widgets/base",
      "model_module_version": "2.0.0",
      "model_name": "LayoutModel",
      "state": {}
     },
     "84ba02e65e4a406baab36abbf6d87870": {
      "model_module": "@jupyter-widgets/controls",
      "model_module_version": "2.0.0",
      "model_name": "HBoxModel",
      "state": {
       "children": [
        "IPY_MODEL_70abd533335f476e9139e0f510616acd",
        "IPY_MODEL_69770612593144de8c3c4325c70fdab3",
        "IPY_MODEL_e8a31ae70ecb47ce8a00b3338a02f1cc"
       ],
       "layout": "IPY_MODEL_ee8cc04daac748f6bd764d77ac459904"
      }
     },
     "84dab47e2a3946fabcfdfff32d747603": {
      "model_module": "@jupyter-widgets/base",
      "model_module_version": "2.0.0",
      "model_name": "LayoutModel",
      "state": {}
     },
     "857556d1f6254ab5a99a43b1a6754a6f": {
      "model_module": "@jupyter-widgets/base",
      "model_module_version": "2.0.0",
      "model_name": "LayoutModel",
      "state": {}
     },
     "85a7c038664b4bc393a57aca90c6fc6a": {
      "model_module": "@jupyter-widgets/controls",
      "model_module_version": "2.0.0",
      "model_name": "HTMLModel",
      "state": {
       "layout": "IPY_MODEL_a6b6e7367029404fb28e9222c4c8aa86",
       "style": "IPY_MODEL_7c184e5ef08e4f7fb0738f680b71f170",
       "value": " 30/30 [00:05&lt;00:00,  5.93it/s]"
      }
     },
     "85ad3227f1bc48b6b8e8bdfe4df406bd": {
      "model_module": "@jupyter-widgets/base",
      "model_module_version": "2.0.0",
      "model_name": "LayoutModel",
      "state": {}
     },
     "85b4176102974e44bb68260567bd25a6": {
      "model_module": "@jupyter-widgets/base",
      "model_module_version": "2.0.0",
      "model_name": "LayoutModel",
      "state": {}
     },
     "85ec4ec6297449e4befc1c729fb9967a": {
      "model_module": "@jupyter-widgets/controls",
      "model_module_version": "2.0.0",
      "model_name": "FloatProgressModel",
      "state": {
       "bar_style": "success",
       "layout": "IPY_MODEL_e33712282796404aa5884bf7b0ab074a",
       "max": 30,
       "style": "IPY_MODEL_8820245f475040ef90a7298673591e1d",
       "value": 30
      }
     },
     "8632cd8b45dc4495a6cd77a37ab00c10": {
      "model_module": "@jupyter-widgets/controls",
      "model_module_version": "2.0.0",
      "model_name": "HBoxModel",
      "state": {
       "children": [
        "IPY_MODEL_4ac73ccb5d39456580512eb09730a3a8",
        "IPY_MODEL_59b5e8c0b3d0466fbdcb381ebd4c25c3",
        "IPY_MODEL_85a7c038664b4bc393a57aca90c6fc6a"
       ],
       "layout": "IPY_MODEL_155d75a614574e0cb56f7ec2288eff78"
      }
     },
     "86a110fdc02641fbb3bf3117d580089e": {
      "model_module": "@jupyter-widgets/base",
      "model_module_version": "2.0.0",
      "model_name": "LayoutModel",
      "state": {}
     },
     "86a7e8fd1f744f13b0f6858be9e647c9": {
      "model_module": "@jupyter-widgets/controls",
      "model_module_version": "2.0.0",
      "model_name": "ProgressStyleModel",
      "state": {
       "description_width": ""
      }
     },
     "86d2b743365f44898288a711471ea603": {
      "model_module": "@jupyter-widgets/base",
      "model_module_version": "2.0.0",
      "model_name": "LayoutModel",
      "state": {}
     },
     "8713312d732c4c98aab3dc6353713f59": {
      "model_module": "@jupyter-widgets/controls",
      "model_module_version": "2.0.0",
      "model_name": "HBoxModel",
      "state": {
       "children": [
        "IPY_MODEL_bf79c85ea49e466d95bd40ee9bf4babf",
        "IPY_MODEL_215665a7dc9b49a3a55ada2ae74e9d1f",
        "IPY_MODEL_7f3ac0fef6f24264a4bf60fb718b7803"
       ],
       "layout": "IPY_MODEL_acb2125b864c4118934bc6b55c0b4a13"
      }
     },
     "872181c6981a4a5298a059be6b43a6d8": {
      "model_module": "@jupyter-widgets/controls",
      "model_module_version": "2.0.0",
      "model_name": "ProgressStyleModel",
      "state": {
       "description_width": ""
      }
     },
     "875baf1d0c884f1b861bfaaf73a39795": {
      "model_module": "@jupyter-widgets/base",
      "model_module_version": "2.0.0",
      "model_name": "LayoutModel",
      "state": {}
     },
     "877b2e29d0c54fccb65aa15bdafc2fdd": {
      "model_module": "@jupyter-widgets/controls",
      "model_module_version": "2.0.0",
      "model_name": "FloatProgressModel",
      "state": {
       "bar_style": "success",
       "layout": "IPY_MODEL_2def9cb725f64c82aad081f197a74877",
       "max": 18,
       "style": "IPY_MODEL_7fdbb9ccd7824ee088f72c91b3d1b56a",
       "value": 18
      }
     },
     "87a5cc30b35c4909a5189f05fe5b4688": {
      "model_module": "@jupyter-widgets/controls",
      "model_module_version": "2.0.0",
      "model_name": "ProgressStyleModel",
      "state": {
       "description_width": ""
      }
     },
     "87c921025fa0467894bf5bb0dfc64134": {
      "model_module": "@jupyter-widgets/controls",
      "model_module_version": "2.0.0",
      "model_name": "HTMLStyleModel",
      "state": {
       "description_width": "",
       "font_size": null,
       "text_color": null
      }
     },
     "87db8a578b90479aa06eab961ef1f023": {
      "model_module": "@jupyter-widgets/controls",
      "model_module_version": "2.0.0",
      "model_name": "FloatProgressModel",
      "state": {
       "bar_style": "success",
       "layout": "IPY_MODEL_45198f9ab7694ccf8f3c7a886ab5eb29",
       "max": 16,
       "style": "IPY_MODEL_f815b5e6e7f948769d18ee86ffd12635",
       "value": 16
      }
     },
     "87e965494fc142dd98cc0bd65bd1a3f5": {
      "model_module": "@jupyter-widgets/controls",
      "model_module_version": "2.0.0",
      "model_name": "HTMLStyleModel",
      "state": {
       "description_width": "",
       "font_size": null,
       "text_color": null
      }
     },
     "87fe70181a5f4d10b584b617cb02c672": {
      "model_module": "@jupyter-widgets/base",
      "model_module_version": "2.0.0",
      "model_name": "LayoutModel",
      "state": {}
     },
     "8820245f475040ef90a7298673591e1d": {
      "model_module": "@jupyter-widgets/controls",
      "model_module_version": "2.0.0",
      "model_name": "ProgressStyleModel",
      "state": {
       "description_width": ""
      }
     },
     "887f65ffa3cf4acb82cdad05b47613f7": {
      "model_module": "@jupyter-widgets/base",
      "model_module_version": "2.0.0",
      "model_name": "LayoutModel",
      "state": {}
     },
     "88d1ad7fdc714606b0e26989a496606e": {
      "model_module": "@jupyter-widgets/controls",
      "model_module_version": "2.0.0",
      "model_name": "FloatProgressModel",
      "state": {
       "bar_style": "success",
       "layout": "IPY_MODEL_5a66f9d3eadb44f7896fbf646daef356",
       "max": 30,
       "style": "IPY_MODEL_13e2c7bd9e0d4b709defabc88d775edc",
       "value": 30
      }
     },
     "8929f0f40f74489f9acf7c61fa7ceca7": {
      "model_module": "@jupyter-widgets/controls",
      "model_module_version": "2.0.0",
      "model_name": "FloatProgressModel",
      "state": {
       "bar_style": "success",
       "layout": "IPY_MODEL_c60b60d7b95045c89866e3913e2f6ad3",
       "max": 30,
       "style": "IPY_MODEL_8ee50ed365ca4a64a3c4f4da79c1edea",
       "value": 30
      }
     },
     "89b16685815b4cdeaa64a0df682f39e1": {
      "model_module": "@jupyter-widgets/controls",
      "model_module_version": "2.0.0",
      "model_name": "HTMLModel",
      "state": {
       "layout": "IPY_MODEL_50a0104c02b444d3b48f439b191f9f83",
       "style": "IPY_MODEL_75eba22f6afb42eaade5781f8c737997",
       "value": " 30/30 [00:05&lt;00:00,  5.91it/s]"
      }
     },
     "89c825e728514f53803b3836a3edbf71": {
      "model_module": "@jupyter-widgets/controls",
      "model_module_version": "2.0.0",
      "model_name": "FloatProgressModel",
      "state": {
       "bar_style": "success",
       "layout": "IPY_MODEL_9b50c318be034ffd82d6fafccc5c35fb",
       "max": 30,
       "style": "IPY_MODEL_03b5a8764f884bff94924f3116b92ac0",
       "value": 30
      }
     },
     "89d456ce1f9f4eda848050121ab5d333": {
      "model_module": "@jupyter-widgets/controls",
      "model_module_version": "2.0.0",
      "model_name": "HBoxModel",
      "state": {
       "children": [
        "IPY_MODEL_d24de0018622475291dae4bdaacd2417",
        "IPY_MODEL_87db8a578b90479aa06eab961ef1f023",
        "IPY_MODEL_bb465df5d75744f1ab951a8f2ff0d341"
       ],
       "layout": "IPY_MODEL_ad9e9a9840224324b8379b5c9f238ad3"
      }
     },
     "8a3452de473949eab1d751a61c570cfb": {
      "model_module": "@jupyter-widgets/controls",
      "model_module_version": "2.0.0",
      "model_name": "ProgressStyleModel",
      "state": {
       "description_width": ""
      }
     },
     "8a4c422b846245fea5548f0e9937643f": {
      "model_module": "@jupyter-widgets/controls",
      "model_module_version": "2.0.0",
      "model_name": "ProgressStyleModel",
      "state": {
       "description_width": ""
      }
     },
     "8a75210b4eda4a9bb54c5e14742a66c8": {
      "model_module": "@jupyter-widgets/controls",
      "model_module_version": "2.0.0",
      "model_name": "HBoxModel",
      "state": {
       "children": [
        "IPY_MODEL_766cb4066e9d4ce6a156a072c36011c7",
        "IPY_MODEL_27ead5bcdef4451ab002f6e6fe6b7a80",
        "IPY_MODEL_7c60eb24a73b46a189372ecf055fc4eb"
       ],
       "layout": "IPY_MODEL_25e5ec8cdc1440df9856eda07eee0846"
      }
     },
     "8ad39b28863543c6b3ff213c1736909c": {
      "model_module": "@jupyter-widgets/controls",
      "model_module_version": "2.0.0",
      "model_name": "HTMLModel",
      "state": {
       "layout": "IPY_MODEL_f4427cff65b746639b79a85d7132d47b",
       "style": "IPY_MODEL_3c360342fec0474bb62f8e63715be163",
       "value": "100%"
      }
     },
     "8ae7d8b917e341df906a67743563736d": {
      "model_module": "@jupyter-widgets/base",
      "model_module_version": "2.0.0",
      "model_name": "LayoutModel",
      "state": {}
     },
     "8aff769eac67498aa5d097aa29488b89": {
      "model_module": "@jupyter-widgets/base",
      "model_module_version": "2.0.0",
      "model_name": "LayoutModel",
      "state": {}
     },
     "8cc98a8cac4042f9b0df57a4bc4d35c3": {
      "model_module": "@jupyter-widgets/base",
      "model_module_version": "2.0.0",
      "model_name": "LayoutModel",
      "state": {}
     },
     "8d3eeae7f71a4df38998c3144c3d7f72": {
      "model_module": "@jupyter-widgets/base",
      "model_module_version": "2.0.0",
      "model_name": "LayoutModel",
      "state": {}
     },
     "8d41a9da674b4a5eb29438ff01a8219f": {
      "model_module": "@jupyter-widgets/controls",
      "model_module_version": "2.0.0",
      "model_name": "HTMLStyleModel",
      "state": {
       "description_width": "",
       "font_size": null,
       "text_color": null
      }
     },
     "8d571033e4e34e90b8e056fa70b38aef": {
      "model_module": "@jupyter-widgets/controls",
      "model_module_version": "2.0.0",
      "model_name": "HBoxModel",
      "state": {
       "children": [
        "IPY_MODEL_447ca95d54e3414a921bc74e29900b70",
        "IPY_MODEL_cc64c3a17e574243acea46783141fe7d",
        "IPY_MODEL_d757a272144f494e8eb88d18e2f9907f"
       ],
       "layout": "IPY_MODEL_570b2657921648eaa38db327885b538d"
      }
     },
     "8d7e9515452b4a5d8fbed7c0703cf48d": {
      "model_module": "@jupyter-widgets/base",
      "model_module_version": "2.0.0",
      "model_name": "LayoutModel",
      "state": {}
     },
     "8dd06c8dae0940e980bcda1b3b3036e1": {
      "model_module": "@jupyter-widgets/base",
      "model_module_version": "2.0.0",
      "model_name": "LayoutModel",
      "state": {}
     },
     "8dd867d7f649424d8eaad8f34f5c1e75": {
      "model_module": "@jupyter-widgets/base",
      "model_module_version": "2.0.0",
      "model_name": "LayoutModel",
      "state": {}
     },
     "8de8ddac9f6e4123a84ebd337bb7238b": {
      "model_module": "@jupyter-widgets/controls",
      "model_module_version": "2.0.0",
      "model_name": "ProgressStyleModel",
      "state": {
       "description_width": ""
      }
     },
     "8ee50ed365ca4a64a3c4f4da79c1edea": {
      "model_module": "@jupyter-widgets/controls",
      "model_module_version": "2.0.0",
      "model_name": "ProgressStyleModel",
      "state": {
       "description_width": ""
      }
     },
     "8f07c3f327ff4f65ab73e0f01a644f62": {
      "model_module": "@jupyter-widgets/base",
      "model_module_version": "2.0.0",
      "model_name": "LayoutModel",
      "state": {}
     },
     "8f7c7f9fff294336b5c30e32dd2005bb": {
      "model_module": "@jupyter-widgets/controls",
      "model_module_version": "2.0.0",
      "model_name": "HBoxModel",
      "state": {
       "children": [
        "IPY_MODEL_71d12e2cc8a54495bd9bdeb1849e3daa",
        "IPY_MODEL_5bbcb07805c143449e0cccb855f14319",
        "IPY_MODEL_61ee2736320148b38c9b7cff90d5e9ab"
       ],
       "layout": "IPY_MODEL_887f65ffa3cf4acb82cdad05b47613f7"
      }
     },
     "8ff9a2c937314239a2f691b51fb1e8c5": {
      "model_module": "@jupyter-widgets/controls",
      "model_module_version": "2.0.0",
      "model_name": "HTMLStyleModel",
      "state": {
       "description_width": "",
       "font_size": null,
       "text_color": null
      }
     },
     "902cafaff6fa48b58cc211d792f00059": {
      "model_module": "@jupyter-widgets/controls",
      "model_module_version": "2.0.0",
      "model_name": "HTMLStyleModel",
      "state": {
       "description_width": "",
       "font_size": null,
       "text_color": null
      }
     },
     "904b8fa03ffa466e9cd0793e30d19fd0": {
      "model_module": "@jupyter-widgets/base",
      "model_module_version": "2.0.0",
      "model_name": "LayoutModel",
      "state": {}
     },
     "90e6c71f55124e2dae618b5be67dfbe4": {
      "model_module": "@jupyter-widgets/controls",
      "model_module_version": "2.0.0",
      "model_name": "HTMLStyleModel",
      "state": {
       "description_width": "",
       "font_size": null,
       "text_color": null
      }
     },
     "912d791296c643b4973a95d5e3030bba": {
      "model_module": "@jupyter-widgets/base",
      "model_module_version": "2.0.0",
      "model_name": "LayoutModel",
      "state": {}
     },
     "914626a1ac7b4c56889bd4b4c0e788b9": {
      "model_module": "@jupyter-widgets/controls",
      "model_module_version": "2.0.0",
      "model_name": "ProgressStyleModel",
      "state": {
       "description_width": ""
      }
     },
     "9169c1aa1d26487e9ea9dee5d9f20335": {
      "model_module": "@jupyter-widgets/controls",
      "model_module_version": "2.0.0",
      "model_name": "HTMLModel",
      "state": {
       "layout": "IPY_MODEL_2d8bee66dab44e3e8abaddc7520e5f65",
       "style": "IPY_MODEL_c470ac3786d14ab78c2547d373888625",
       "value": " 18/18 [00:05&lt;00:00,  3.52it/s]"
      }
     },
     "919bc3730da54eb8baa2e6ab3f11c94f": {
      "model_module": "@jupyter-widgets/base",
      "model_module_version": "2.0.0",
      "model_name": "LayoutModel",
      "state": {}
     },
     "924e311bad534a99a7c722a003ffef64": {
      "model_module": "@jupyter-widgets/controls",
      "model_module_version": "2.0.0",
      "model_name": "HTMLStyleModel",
      "state": {
       "description_width": "",
       "font_size": null,
       "text_color": null
      }
     },
     "92724514938e404b9b6b4acf2f2b3100": {
      "model_module": "@jupyter-widgets/controls",
      "model_module_version": "2.0.0",
      "model_name": "HTMLModel",
      "state": {
       "layout": "IPY_MODEL_3d6f00fb9cdf4394b4b35484a749f2c4",
       "style": "IPY_MODEL_30020d8e7db141c680fcd1b32f43104f",
       "value": "100%"
      }
     },
     "92a97317933f435a85a8a1c18661251f": {
      "model_module": "@jupyter-widgets/controls",
      "model_module_version": "2.0.0",
      "model_name": "FloatProgressModel",
      "state": {
       "bar_style": "success",
       "layout": "IPY_MODEL_9a2497c0b85c4b21bb745438de610974",
       "max": 18,
       "style": "IPY_MODEL_af908f9d2da94720a3ed3a168dc5a29f",
       "value": 18
      }
     },
     "935ee04f5299407496b9541a38800714": {
      "model_module": "@jupyter-widgets/controls",
      "model_module_version": "2.0.0",
      "model_name": "HTMLModel",
      "state": {
       "layout": "IPY_MODEL_a3380f28d3104652b67c87ff4893ecef",
       "style": "IPY_MODEL_25703b08eb12473faa392da9bea7b6c9",
       "value": " 0/42 [00:00&lt;?, ?it/s]"
      }
     },
     "93b23f980e474ebcb9ff05fd9c2b497f": {
      "model_module": "@jupyter-widgets/controls",
      "model_module_version": "2.0.0",
      "model_name": "HTMLStyleModel",
      "state": {
       "description_width": "",
       "font_size": null,
       "text_color": null
      }
     },
     "93d1638dd2bc48229efc06cdb3aa1a42": {
      "model_module": "@jupyter-widgets/controls",
      "model_module_version": "2.0.0",
      "model_name": "ProgressStyleModel",
      "state": {
       "description_width": ""
      }
     },
     "941c8a9f353e49a687976971b2532ab6": {
      "model_module": "@jupyter-widgets/base",
      "model_module_version": "2.0.0",
      "model_name": "LayoutModel",
      "state": {}
     },
     "9440ff3947ea4b8c9cc1576d1251eae9": {
      "model_module": "@jupyter-widgets/base",
      "model_module_version": "2.0.0",
      "model_name": "LayoutModel",
      "state": {}
     },
     "94daa41b646d4533a2a7ed3a996a5f1c": {
      "model_module": "@jupyter-widgets/base",
      "model_module_version": "2.0.0",
      "model_name": "LayoutModel",
      "state": {}
     },
     "94e2ec7b98244a879b63585278196da9": {
      "model_module": "@jupyter-widgets/controls",
      "model_module_version": "2.0.0",
      "model_name": "HTMLStyleModel",
      "state": {
       "description_width": "",
       "font_size": null,
       "text_color": null
      }
     },
     "950b17785c3949179c8affcb3af87c5a": {
      "model_module": "@jupyter-widgets/controls",
      "model_module_version": "2.0.0",
      "model_name": "FloatProgressModel",
      "state": {
       "bar_style": "success",
       "layout": "IPY_MODEL_f767b68db6624d789b4431852d6e01ed",
       "max": 18,
       "style": "IPY_MODEL_bc8c4980aacb4a06a892d6f34268ad09",
       "value": 18
      }
     },
     "953cce71d8d24f1baa5b18e388edaa90": {
      "model_module": "@jupyter-widgets/controls",
      "model_module_version": "2.0.0",
      "model_name": "HTMLModel",
      "state": {
       "layout": "IPY_MODEL_e62c96be069b49a3b10aa13e0cf4ca7b",
       "style": "IPY_MODEL_321f41281707477b81404324747204d4",
       "value": " 30/30 [00:05&lt;00:00,  6.24it/s]"
      }
     },
     "95ac92581e4d40318587b5c9a0a5a583": {
      "model_module": "@jupyter-widgets/controls",
      "model_module_version": "2.0.0",
      "model_name": "HBoxModel",
      "state": {
       "children": [
        "IPY_MODEL_cb2a069698814e95b008e84507ace20b",
        "IPY_MODEL_4b6e56b1b49e4f88a31a48790c97bc62",
        "IPY_MODEL_f5de9ce1f82a47b9a7cb4b340a931b7b"
       ],
       "layout": "IPY_MODEL_e2f2ba4fa80b40238c67895c1859b1ac"
      }
     },
     "95b07f98816b4aa9aa75dcc946cb121d": {
      "model_module": "@jupyter-widgets/controls",
      "model_module_version": "2.0.0",
      "model_name": "HTMLModel",
      "state": {
       "layout": "IPY_MODEL_b43e5bc2e48740e9910395654fca8b22",
       "style": "IPY_MODEL_af4a2c208fec4c84bfaa5463c0e8bc92",
       "value": " 14/14 [00:08&lt;00:00,  1.73it/s]"
      }
     },
     "95d417b18fe0428b8d35c4a8402d7747": {
      "model_module": "@jupyter-widgets/controls",
      "model_module_version": "2.0.0",
      "model_name": "HTMLStyleModel",
      "state": {
       "description_width": "",
       "font_size": null,
       "text_color": null
      }
     },
     "96412a8519634d3ea192708759177595": {
      "model_module": "@jupyter-widgets/base",
      "model_module_version": "2.0.0",
      "model_name": "LayoutModel",
      "state": {}
     },
     "965535f355a441a8b44cf8ba387efd20": {
      "model_module": "@jupyter-widgets/controls",
      "model_module_version": "2.0.0",
      "model_name": "HTMLStyleModel",
      "state": {
       "description_width": "",
       "font_size": null,
       "text_color": null
      }
     },
     "96be14199a134c318e7af3ab75bff66a": {
      "model_module": "@jupyter-widgets/base",
      "model_module_version": "2.0.0",
      "model_name": "LayoutModel",
      "state": {}
     },
     "96d62266fc5f44948168232ffcb3b739": {
      "model_module": "@jupyter-widgets/controls",
      "model_module_version": "2.0.0",
      "model_name": "ProgressStyleModel",
      "state": {
       "description_width": ""
      }
     },
     "96dab39b2adc4bf994fa29094376c848": {
      "model_module": "@jupyter-widgets/controls",
      "model_module_version": "2.0.0",
      "model_name": "ProgressStyleModel",
      "state": {
       "description_width": ""
      }
     },
     "96e74f7acbd045359f73c085ad4b7c16": {
      "model_module": "@jupyter-widgets/controls",
      "model_module_version": "2.0.0",
      "model_name": "HBoxModel",
      "state": {
       "children": [
        "IPY_MODEL_1af0d42e796d4f3a8a2b96d945bcba06",
        "IPY_MODEL_d25512bf47714ddca7ba80fe78823100",
        "IPY_MODEL_d12b34e6a2ff42b6b20b069943d3a602"
       ],
       "layout": "IPY_MODEL_de612223e55c4b21af7ae3417409e702"
      }
     },
     "970f0d1382ea4ec697f1e414990c32b3": {
      "model_module": "@jupyter-widgets/controls",
      "model_module_version": "2.0.0",
      "model_name": "ProgressStyleModel",
      "state": {
       "description_width": ""
      }
     },
     "973d0c32f1c2435d8b6d79db5c271b80": {
      "model_module": "@jupyter-widgets/base",
      "model_module_version": "2.0.0",
      "model_name": "LayoutModel",
      "state": {}
     },
     "976c81ee886f4fe89c55e86dc05f74fb": {
      "model_module": "@jupyter-widgets/controls",
      "model_module_version": "2.0.0",
      "model_name": "HTMLStyleModel",
      "state": {
       "description_width": "",
       "font_size": null,
       "text_color": null
      }
     },
     "976fb611202d48758a8424aaaed5a544": {
      "model_module": "@jupyter-widgets/controls",
      "model_module_version": "2.0.0",
      "model_name": "HTMLStyleModel",
      "state": {
       "description_width": "",
       "font_size": null,
       "text_color": null
      }
     },
     "97e133d183924dd39a88821f16848753": {
      "model_module": "@jupyter-widgets/base",
      "model_module_version": "2.0.0",
      "model_name": "LayoutModel",
      "state": {}
     },
     "97e5ba5e85754dd9ab08501df89288cc": {
      "model_module": "@jupyter-widgets/controls",
      "model_module_version": "2.0.0",
      "model_name": "HTMLModel",
      "state": {
       "layout": "IPY_MODEL_8d7e9515452b4a5d8fbed7c0703cf48d",
       "style": "IPY_MODEL_d70d6c6999474a17aeccb3e28aa5febc",
       "value": " 30/30 [00:05&lt;00:00,  6.06it/s]"
      }
     },
     "97e862e23f404b3f9d26d32f1881c3fc": {
      "model_module": "@jupyter-widgets/controls",
      "model_module_version": "2.0.0",
      "model_name": "HTMLStyleModel",
      "state": {
       "description_width": "",
       "font_size": null,
       "text_color": null
      }
     },
     "980b99373ac041cd9610f1705ef5e9a7": {
      "model_module": "@jupyter-widgets/controls",
      "model_module_version": "2.0.0",
      "model_name": "HTMLModel",
      "state": {
       "layout": "IPY_MODEL_3407fce0cc644afeae2dcee4cbb1e543",
       "style": "IPY_MODEL_93b23f980e474ebcb9ff05fd9c2b497f",
       "value": "100%"
      }
     },
     "98769807c81a430e8ce6c6473e6c863e": {
      "model_module": "@jupyter-widgets/controls",
      "model_module_version": "2.0.0",
      "model_name": "HTMLStyleModel",
      "state": {
       "description_width": "",
       "font_size": null,
       "text_color": null
      }
     },
     "9893c5a54a7646b1906ea96b5b5c63d4": {
      "model_module": "@jupyter-widgets/base",
      "model_module_version": "2.0.0",
      "model_name": "LayoutModel",
      "state": {}
     },
     "9898412f5925415e848d6158f0f5d6e1": {
      "model_module": "@jupyter-widgets/base",
      "model_module_version": "2.0.0",
      "model_name": "LayoutModel",
      "state": {}
     },
     "98fabe063ff64db4bddb90ec7f816955": {
      "model_module": "@jupyter-widgets/controls",
      "model_module_version": "2.0.0",
      "model_name": "HTMLModel",
      "state": {
       "layout": "IPY_MODEL_d1412265a5914c4aa2aa58c2c9439bae",
       "style": "IPY_MODEL_2f0fd5e23e30411599f777125e7dc5df",
       "value": "100%"
      }
     },
     "991234bae5c64baeb8982b1003787461": {
      "model_module": "@jupyter-widgets/controls",
      "model_module_version": "2.0.0",
      "model_name": "HTMLStyleModel",
      "state": {
       "description_width": "",
       "font_size": null,
       "text_color": null
      }
     },
     "99e0d4261cb74f6687fa92edd5d2561c": {
      "model_module": "@jupyter-widgets/base",
      "model_module_version": "2.0.0",
      "model_name": "LayoutModel",
      "state": {}
     },
     "99ee6b3979b64e2ea72e35a239c74d36": {
      "model_module": "@jupyter-widgets/base",
      "model_module_version": "2.0.0",
      "model_name": "LayoutModel",
      "state": {}
     },
     "9a2497c0b85c4b21bb745438de610974": {
      "model_module": "@jupyter-widgets/base",
      "model_module_version": "2.0.0",
      "model_name": "LayoutModel",
      "state": {}
     },
     "9a4c9cac0dc24c72b6f8b1e3afa5806c": {
      "model_module": "@jupyter-widgets/controls",
      "model_module_version": "2.0.0",
      "model_name": "ProgressStyleModel",
      "state": {
       "description_width": ""
      }
     },
     "9a7d61e98ee34dbbabc9c3e48ee8c207": {
      "model_module": "@jupyter-widgets/base",
      "model_module_version": "2.0.0",
      "model_name": "LayoutModel",
      "state": {}
     },
     "9a8aeaee1d8c4c54b8134acd67bf2fd0": {
      "model_module": "@jupyter-widgets/controls",
      "model_module_version": "2.0.0",
      "model_name": "HTMLStyleModel",
      "state": {
       "description_width": "",
       "font_size": null,
       "text_color": null
      }
     },
     "9ab486cd324d4c30b96417fbb73ea082": {
      "model_module": "@jupyter-widgets/base",
      "model_module_version": "2.0.0",
      "model_name": "LayoutModel",
      "state": {}
     },
     "9aca3cd82c014c1485320f355a21796c": {
      "model_module": "@jupyter-widgets/controls",
      "model_module_version": "2.0.0",
      "model_name": "HTMLModel",
      "state": {
       "layout": "IPY_MODEL_c57058a7e34d46608c809cf1e719b1f2",
       "style": "IPY_MODEL_f41d9e04683248f8a069b7624f0529f5",
       "value": " 30/30 [00:05&lt;00:00,  6.08it/s]"
      }
     },
     "9af024e95b214c3c9df78e3faf75d8be": {
      "model_module": "@jupyter-widgets/controls",
      "model_module_version": "2.0.0",
      "model_name": "FloatProgressModel",
      "state": {
       "bar_style": "success",
       "layout": "IPY_MODEL_e239a257e154476f906f5b16823fd9ef",
       "max": 30,
       "style": "IPY_MODEL_1fd1894a565e48ed9e184681a0e71860",
       "value": 30
      }
     },
     "9b488f1f5a6b4310adfe00b2b09e9eba": {
      "model_module": "@jupyter-widgets/base",
      "model_module_version": "2.0.0",
      "model_name": "LayoutModel",
      "state": {}
     },
     "9b50c318be034ffd82d6fafccc5c35fb": {
      "model_module": "@jupyter-widgets/base",
      "model_module_version": "2.0.0",
      "model_name": "LayoutModel",
      "state": {}
     },
     "9b69f693005b4c75b862c70ffcaa66f6": {
      "model_module": "@jupyter-widgets/controls",
      "model_module_version": "2.0.0",
      "model_name": "HTMLModel",
      "state": {
       "layout": "IPY_MODEL_904b8fa03ffa466e9cd0793e30d19fd0",
       "style": "IPY_MODEL_6776bec0fbae4386a4b29a08d1c796ef",
       "value": "100%"
      }
     },
     "9b8e0eb00c534d9a9664379fe4085a21": {
      "model_module": "@jupyter-widgets/base",
      "model_module_version": "2.0.0",
      "model_name": "LayoutModel",
      "state": {}
     },
     "9ba978d4ee134ead9a451b682af89d6c": {
      "model_module": "@jupyter-widgets/base",
      "model_module_version": "2.0.0",
      "model_name": "LayoutModel",
      "state": {}
     },
     "9be602877af14b74be72eb4a8b0e2b2a": {
      "model_module": "@jupyter-widgets/controls",
      "model_module_version": "2.0.0",
      "model_name": "HTMLModel",
      "state": {
       "layout": "IPY_MODEL_e3d255f2792e470791db45b0bc1feeb7",
       "style": "IPY_MODEL_b2ef1e7b7b6743cf9368f162d5248b0a",
       "value": "100%"
      }
     },
     "9bfc7c03d41e4dbdb4f460cc94ebe25c": {
      "model_module": "@jupyter-widgets/controls",
      "model_module_version": "2.0.0",
      "model_name": "HTMLModel",
      "state": {
       "layout": "IPY_MODEL_8d3eeae7f71a4df38998c3144c3d7f72",
       "style": "IPY_MODEL_bf41e03beef440bcb40082a08597d867",
       "value": " 4/22 [00:04&lt;00:17,  1.00it/s]"
      }
     },
     "9c020d255a084e9d91039e25bfc79ff0": {
      "model_module": "@jupyter-widgets/controls",
      "model_module_version": "2.0.0",
      "model_name": "FloatProgressModel",
      "state": {
       "bar_style": "success",
       "layout": "IPY_MODEL_639bd5155cdf4745a29928d64ebbdc05",
       "max": 30,
       "style": "IPY_MODEL_3b7a70fb07824413a395ee24d3dea4ef",
       "value": 30
      }
     },
     "9c2edb49e2d74eb3b576517d3ea080dd": {
      "model_module": "@jupyter-widgets/base",
      "model_module_version": "2.0.0",
      "model_name": "LayoutModel",
      "state": {}
     },
     "9c620d569e5542178003ed5a11794ee8": {
      "model_module": "@jupyter-widgets/base",
      "model_module_version": "2.0.0",
      "model_name": "LayoutModel",
      "state": {}
     },
     "9c9350bd42704d0c999afbd178f467ff": {
      "model_module": "@jupyter-widgets/controls",
      "model_module_version": "2.0.0",
      "model_name": "HTMLModel",
      "state": {
       "layout": "IPY_MODEL_0dc012d83a8a44399226ec3ccdf3ee96",
       "style": "IPY_MODEL_1c4b465702924c0b8d804890d815865b",
       "value": " 30/30 [00:04&lt;00:00,  6.31it/s]"
      }
     },
     "9cfabf3beda6402ea007e289789f91fe": {
      "model_module": "@jupyter-widgets/base",
      "model_module_version": "2.0.0",
      "model_name": "LayoutModel",
      "state": {}
     },
     "9d2bfab533c0497c975891e0b49927e1": {
      "model_module": "@jupyter-widgets/base",
      "model_module_version": "2.0.0",
      "model_name": "LayoutModel",
      "state": {}
     },
     "9d6b12a9a613433cb0b6757a54e40df3": {
      "model_module": "@jupyter-widgets/controls",
      "model_module_version": "2.0.0",
      "model_name": "HTMLStyleModel",
      "state": {
       "description_width": "",
       "font_size": null,
       "text_color": null
      }
     },
     "9dc99ce65ced4f9695d855bece881c95": {
      "model_module": "@jupyter-widgets/controls",
      "model_module_version": "2.0.0",
      "model_name": "FloatProgressModel",
      "state": {
       "bar_style": "success",
       "layout": "IPY_MODEL_010c870c6e574c6095225481fe596b23",
       "max": 42,
       "style": "IPY_MODEL_c5827860991f4c7a9b7913234514a043",
       "value": 42
      }
     },
     "9e996247955b4cf9964a8e631feb641e": {
      "model_module": "@jupyter-widgets/base",
      "model_module_version": "2.0.0",
      "model_name": "LayoutModel",
      "state": {}
     },
     "9eb1a8d8f8734295b2b48f6693018a71": {
      "model_module": "@jupyter-widgets/controls",
      "model_module_version": "2.0.0",
      "model_name": "ProgressStyleModel",
      "state": {
       "description_width": ""
      }
     },
     "9eb5bbeb4bf14f6f8703f29104951c46": {
      "model_module": "@jupyter-widgets/controls",
      "model_module_version": "2.0.0",
      "model_name": "HTMLStyleModel",
      "state": {
       "description_width": "",
       "font_size": null,
       "text_color": null
      }
     },
     "9edcc94a0e0a40538bfd6a65bc4e60a6": {
      "model_module": "@jupyter-widgets/controls",
      "model_module_version": "2.0.0",
      "model_name": "HTMLModel",
      "state": {
       "layout": "IPY_MODEL_f7d1856e77e44b328463ceae05cef30e",
       "style": "IPY_MODEL_07b15d9fa83d49d896cee7e8c3e87e55",
       "value": "100%"
      }
     },
     "9ef99bc43a284032b5d299b4da46ada8": {
      "model_module": "@jupyter-widgets/controls",
      "model_module_version": "2.0.0",
      "model_name": "HBoxModel",
      "state": {
       "children": [
        "IPY_MODEL_029c1472a31c475e9e99781af52038c8",
        "IPY_MODEL_85ec4ec6297449e4befc1c729fb9967a",
        "IPY_MODEL_518212b4ddae444d81fef2182ec44ade"
       ],
       "layout": "IPY_MODEL_c3d96de5336c4eb39f5c09198baeb6e4"
      }
     },
     "9f4942de1f874283894e536ed03b5ace": {
      "model_module": "@jupyter-widgets/controls",
      "model_module_version": "2.0.0",
      "model_name": "ProgressStyleModel",
      "state": {
       "description_width": ""
      }
     },
     "9fce33e31fba4d5a91ceafe364926181": {
      "model_module": "@jupyter-widgets/controls",
      "model_module_version": "2.0.0",
      "model_name": "HBoxModel",
      "state": {
       "children": [
        "IPY_MODEL_8ad39b28863543c6b3ff213c1736909c",
        "IPY_MODEL_d375189e6c374db09855968173fafe4d",
        "IPY_MODEL_af30b2b72de145d4b51ab3e60101d1d5"
       ],
       "layout": "IPY_MODEL_f4e29270cec24adba232cd2bd17c1f33"
      }
     },
     "a022fe237f644aed8456cfc52a42a779": {
      "model_module": "@jupyter-widgets/controls",
      "model_module_version": "2.0.0",
      "model_name": "HTMLModel",
      "state": {
       "layout": "IPY_MODEL_3610e6b7bb0e4a66b421dbdaaee9169d",
       "style": "IPY_MODEL_ec138f3dc16447c3af60aa262ee22ef5",
       "value": " 14/14 [00:08&lt;00:00,  1.70it/s]"
      }
     },
     "a07ada27f1a44acab2d539986fd384c0": {
      "model_module": "@jupyter-widgets/controls",
      "model_module_version": "2.0.0",
      "model_name": "HTMLStyleModel",
      "state": {
       "description_width": "",
       "font_size": null,
       "text_color": null
      }
     },
     "a0927088b77d4979891e42b913009d2b": {
      "model_module": "@jupyter-widgets/base",
      "model_module_version": "2.0.0",
      "model_name": "LayoutModel",
      "state": {}
     },
     "a0952d66b5aa462ca5cdce4deffcf74a": {
      "model_module": "@jupyter-widgets/base",
      "model_module_version": "2.0.0",
      "model_name": "LayoutModel",
      "state": {}
     },
     "a1bd8303eb254ee7a9b6420082ecb21a": {
      "model_module": "@jupyter-widgets/controls",
      "model_module_version": "2.0.0",
      "model_name": "FloatProgressModel",
      "state": {
       "bar_style": "success",
       "layout": "IPY_MODEL_4745e13cb9894ef1b678647270c39e2c",
       "max": 42,
       "style": "IPY_MODEL_5afe4cb4cf9b42e6a719396f94b0568e",
       "value": 42
      }
     },
     "a1c692e6fd5a4947a156091850a86478": {
      "model_module": "@jupyter-widgets/controls",
      "model_module_version": "2.0.0",
      "model_name": "HTMLStyleModel",
      "state": {
       "description_width": "",
       "font_size": null,
       "text_color": null
      }
     },
     "a1c7b5cfb0a9424086e2a7c0b3b66086": {
      "model_module": "@jupyter-widgets/controls",
      "model_module_version": "2.0.0",
      "model_name": "HTMLModel",
      "state": {
       "layout": "IPY_MODEL_05dda803141e4bda839e2dbb58b02a48",
       "style": "IPY_MODEL_6bd5b1fed4004d57b21a543ae0817c4f",
       "value": " 18%"
      }
     },
     "a1cd0bf264ec44788270957abe53fe8d": {
      "model_module": "@jupyter-widgets/base",
      "model_module_version": "2.0.0",
      "model_name": "LayoutModel",
      "state": {}
     },
     "a22ed1a29318493c9cf5d18df473a3cb": {
      "model_module": "@jupyter-widgets/controls",
      "model_module_version": "2.0.0",
      "model_name": "HTMLModel",
      "state": {
       "layout": "IPY_MODEL_6910efa293864701a97572eb79f5bcc3",
       "style": "IPY_MODEL_227792eddb494b25a74c4a50a2b269a3",
       "value": " 16/16 [00:18&lt;00:00,  1.15s/it]"
      }
     },
     "a2479e9654ec4e8aa3b0389d2856c1cc": {
      "model_module": "@jupyter-widgets/base",
      "model_module_version": "2.0.0",
      "model_name": "LayoutModel",
      "state": {}
     },
     "a29e89f790d7418f9d3e195596089e03": {
      "model_module": "@jupyter-widgets/base",
      "model_module_version": "2.0.0",
      "model_name": "LayoutModel",
      "state": {}
     },
     "a2c2a3809afa48eb947537602051bbf9": {
      "model_module": "@jupyter-widgets/base",
      "model_module_version": "2.0.0",
      "model_name": "LayoutModel",
      "state": {}
     },
     "a32a0f292d73420db58a4e1ee6f38239": {
      "model_module": "@jupyter-widgets/controls",
      "model_module_version": "2.0.0",
      "model_name": "HTMLModel",
      "state": {
       "layout": "IPY_MODEL_514b7bf4ec554f6ba7318c48c5c5e328",
       "style": "IPY_MODEL_e27a26dd6c394501bfc02768c1367e44",
       "value": "100%"
      }
     },
     "a3380f28d3104652b67c87ff4893ecef": {
      "model_module": "@jupyter-widgets/base",
      "model_module_version": "2.0.0",
      "model_name": "LayoutModel",
      "state": {}
     },
     "a3435fd8c806413cb0088293e94fcbfb": {
      "model_module": "@jupyter-widgets/base",
      "model_module_version": "2.0.0",
      "model_name": "LayoutModel",
      "state": {}
     },
     "a37f0160f1ee47e1a25616c4dd42a03e": {
      "model_module": "@jupyter-widgets/controls",
      "model_module_version": "2.0.0",
      "model_name": "HTMLStyleModel",
      "state": {
       "description_width": "",
       "font_size": null,
       "text_color": null
      }
     },
     "a41c3e92e64144ba8c7d7cb16d9ff2d9": {
      "model_module": "@jupyter-widgets/controls",
      "model_module_version": "2.0.0",
      "model_name": "HTMLStyleModel",
      "state": {
       "description_width": "",
       "font_size": null,
       "text_color": null
      }
     },
     "a41de0018ccc497f8da23efdde420cef": {
      "model_module": "@jupyter-widgets/base",
      "model_module_version": "2.0.0",
      "model_name": "LayoutModel",
      "state": {}
     },
     "a44e00741a6045d0b55652cee84f75b1": {
      "model_module": "@jupyter-widgets/base",
      "model_module_version": "2.0.0",
      "model_name": "LayoutModel",
      "state": {}
     },
     "a4d0098a272443f996ec3d6a575fa6d4": {
      "model_module": "@jupyter-widgets/controls",
      "model_module_version": "2.0.0",
      "model_name": "HTMLStyleModel",
      "state": {
       "description_width": "",
       "font_size": null,
       "text_color": null
      }
     },
     "a50f5ef28a8c4a8888387df2aee19fae": {
      "model_module": "@jupyter-widgets/controls",
      "model_module_version": "2.0.0",
      "model_name": "HTMLStyleModel",
      "state": {
       "description_width": "",
       "font_size": null,
       "text_color": null
      }
     },
     "a5102c6b3cc14804803f2478f52e30ca": {
      "model_module": "@jupyter-widgets/controls",
      "model_module_version": "2.0.0",
      "model_name": "HTMLStyleModel",
      "state": {
       "description_width": "",
       "font_size": null,
       "text_color": null
      }
     },
     "a5cb9f28f40341bdac8ad53a737ccffc": {
      "model_module": "@jupyter-widgets/controls",
      "model_module_version": "2.0.0",
      "model_name": "FloatProgressModel",
      "state": {
       "bar_style": "success",
       "layout": "IPY_MODEL_6e5ffbd818a04e4a84e6f8cc4d5e1021",
       "max": 30,
       "style": "IPY_MODEL_914626a1ac7b4c56889bd4b4c0e788b9",
       "value": 30
      }
     },
     "a5df5ef947964f80bfa66c2d90bd5dab": {
      "model_module": "@jupyter-widgets/base",
      "model_module_version": "2.0.0",
      "model_name": "LayoutModel",
      "state": {}
     },
     "a5fa41ff9f6b41d693071f16b5a7f8e5": {
      "model_module": "@jupyter-widgets/base",
      "model_module_version": "2.0.0",
      "model_name": "LayoutModel",
      "state": {}
     },
     "a62015fb6a834c92a002ede22d9b7cd6": {
      "model_module": "@jupyter-widgets/controls",
      "model_module_version": "2.0.0",
      "model_name": "HTMLModel",
      "state": {
       "layout": "IPY_MODEL_5f68d5fd67244d5cad8f9bc3b0b87bd0",
       "style": "IPY_MODEL_0a2313d071c048dbb41561f4d862acda",
       "value": "100%"
      }
     },
     "a6ab6b2000e04a61b2b1ca83a58d75e5": {
      "model_module": "@jupyter-widgets/controls",
      "model_module_version": "2.0.0",
      "model_name": "HTMLStyleModel",
      "state": {
       "description_width": "",
       "font_size": null,
       "text_color": null
      }
     },
     "a6b6e7367029404fb28e9222c4c8aa86": {
      "model_module": "@jupyter-widgets/base",
      "model_module_version": "2.0.0",
      "model_name": "LayoutModel",
      "state": {}
     },
     "a6df4cbda2fe4b6cab2bcfb173b68404": {
      "model_module": "@jupyter-widgets/controls",
      "model_module_version": "2.0.0",
      "model_name": "HTMLModel",
      "state": {
       "layout": "IPY_MODEL_4da42521e91a48caa608425cb015a431",
       "style": "IPY_MODEL_55d0cd082a2942efac0843dc63b941be",
       "value": "100%"
      }
     },
     "a73d0f86fb5140299544f300122a1e2d": {
      "model_module": "@jupyter-widgets/controls",
      "model_module_version": "2.0.0",
      "model_name": "HTMLStyleModel",
      "state": {
       "description_width": "",
       "font_size": null,
       "text_color": null
      }
     },
     "a74573774d4240d4ac6aa525b05102af": {
      "model_module": "@jupyter-widgets/base",
      "model_module_version": "2.0.0",
      "model_name": "LayoutModel",
      "state": {}
     },
     "a77c36ea47f842e892189684a15e5d57": {
      "model_module": "@jupyter-widgets/controls",
      "model_module_version": "2.0.0",
      "model_name": "HTMLStyleModel",
      "state": {
       "description_width": "",
       "font_size": null,
       "text_color": null
      }
     },
     "a78364820ea645b89c9054905c263bd2": {
      "model_module": "@jupyter-widgets/controls",
      "model_module_version": "2.0.0",
      "model_name": "HTMLModel",
      "state": {
       "layout": "IPY_MODEL_3bebf137476540f8a13da7a7ad12335b",
       "style": "IPY_MODEL_87c921025fa0467894bf5bb0dfc64134",
       "value": "100%"
      }
     },
     "a792ede83ae94a05958d33a6bc0b984d": {
      "model_module": "@jupyter-widgets/controls",
      "model_module_version": "2.0.0",
      "model_name": "HTMLModel",
      "state": {
       "layout": "IPY_MODEL_86a110fdc02641fbb3bf3117d580089e",
       "style": "IPY_MODEL_2ed935f1a860408282c428552337d0ed",
       "value": " 18/18 [00:10&lt;00:00,  1.71it/s]"
      }
     },
     "a7d7390ce24842ebbca84df3c51c4ed5": {
      "model_module": "@jupyter-widgets/base",
      "model_module_version": "2.0.0",
      "model_name": "LayoutModel",
      "state": {}
     },
     "a8259e138f2d4f15a47ee5ba6c09850f": {
      "model_module": "@jupyter-widgets/controls",
      "model_module_version": "2.0.0",
      "model_name": "HTMLStyleModel",
      "state": {
       "description_width": "",
       "font_size": null,
       "text_color": null
      }
     },
     "a82dbc5132ea4f288f7047e33292cbe3": {
      "model_module": "@jupyter-widgets/controls",
      "model_module_version": "2.0.0",
      "model_name": "HTMLModel",
      "state": {
       "layout": "IPY_MODEL_eb3a9d0aa19841789680767b0aa07549",
       "style": "IPY_MODEL_9eb5bbeb4bf14f6f8703f29104951c46",
       "value": "100%"
      }
     },
     "a89b1cae5245492eb81fe6ca0f08d728": {
      "model_module": "@jupyter-widgets/controls",
      "model_module_version": "2.0.0",
      "model_name": "HTMLStyleModel",
      "state": {
       "description_width": "",
       "font_size": null,
       "text_color": null
      }
     },
     "a93cbe32261b4ea0a0af4ce26fbb8ad9": {
      "model_module": "@jupyter-widgets/controls",
      "model_module_version": "2.0.0",
      "model_name": "HTMLModel",
      "state": {
       "layout": "IPY_MODEL_65ee92e2c7df43249aed07a864708ecd",
       "style": "IPY_MODEL_50ee2bdddf01454bb71eff79499b2bc6",
       "value": "100%"
      }
     },
     "a964dd03bf8142e88fe2a2a4cd816c5c": {
      "model_module": "@jupyter-widgets/controls",
      "model_module_version": "2.0.0",
      "model_name": "ProgressStyleModel",
      "state": {
       "description_width": ""
      }
     },
     "aa9b7f12ebec4e77bfa4cd7593ea4df4": {
      "model_module": "@jupyter-widgets/base",
      "model_module_version": "2.0.0",
      "model_name": "LayoutModel",
      "state": {}
     },
     "aaa58ef28b2240f782da898dd908fac8": {
      "model_module": "@jupyter-widgets/controls",
      "model_module_version": "2.0.0",
      "model_name": "HTMLStyleModel",
      "state": {
       "description_width": "",
       "font_size": null,
       "text_color": null
      }
     },
     "ab154657e134446a9549bfd09ec74957": {
      "model_module": "@jupyter-widgets/controls",
      "model_module_version": "2.0.0",
      "model_name": "HBoxModel",
      "state": {
       "children": [
        "IPY_MODEL_b44aa270c5844451a198254d0e8b8128",
        "IPY_MODEL_bd514e960d954cfb9d7c6fcd1b38b65e",
        "IPY_MODEL_348efd8c4967474084eb9e2226118665"
       ],
       "layout": "IPY_MODEL_cc95d4db601443ed9b46851e310ecd96"
      }
     },
     "ab594dcb46624973b35d2973e0d99879": {
      "model_module": "@jupyter-widgets/controls",
      "model_module_version": "2.0.0",
      "model_name": "HBoxModel",
      "state": {
       "children": [
        "IPY_MODEL_0988ce33538348bba72f78c004f654bc",
        "IPY_MODEL_3ccb30883e4c44aca394fa9d2276efcc",
        "IPY_MODEL_eb5cc1250b874a12950ad682bf67a5d7"
       ],
       "layout": "IPY_MODEL_1357f06c338a431089361ef573f9f671"
      }
     },
     "ab9aaa72d91a4476b22f4670f77365a8": {
      "model_module": "@jupyter-widgets/controls",
      "model_module_version": "2.0.0",
      "model_name": "FloatProgressModel",
      "state": {
       "bar_style": "success",
       "layout": "IPY_MODEL_443150450eb345ceb5b7e8b30fc62573",
       "max": 14,
       "style": "IPY_MODEL_cd07452383f7496aa9fc172218d2c428",
       "value": 14
      }
     },
     "abb0075cc8f74a759823979375cb98de": {
      "model_module": "@jupyter-widgets/controls",
      "model_module_version": "2.0.0",
      "model_name": "HBoxModel",
      "state": {
       "children": [
        "IPY_MODEL_0ad463b190264627ab53d0cf216a8ba6",
        "IPY_MODEL_6b4ddc9d80d849b0a56e0318da25937d",
        "IPY_MODEL_79ba2d2c91724149bfcac2faffbe66bb"
       ],
       "layout": "IPY_MODEL_f61e211df12449a59b2458bf83f013da"
      }
     },
     "ac6aae2db6ca41e0bad31889019567d9": {
      "model_module": "@jupyter-widgets/base",
      "model_module_version": "2.0.0",
      "model_name": "LayoutModel",
      "state": {}
     },
     "ac9f1cf1b7bf4ee6ae2b53b5e35723fe": {
      "model_module": "@jupyter-widgets/controls",
      "model_module_version": "2.0.0",
      "model_name": "HTMLStyleModel",
      "state": {
       "description_width": "",
       "font_size": null,
       "text_color": null
      }
     },
     "acb2125b864c4118934bc6b55c0b4a13": {
      "model_module": "@jupyter-widgets/base",
      "model_module_version": "2.0.0",
      "model_name": "LayoutModel",
      "state": {}
     },
     "ad7d43928cd24182b3978557f119daf6": {
      "model_module": "@jupyter-widgets/controls",
      "model_module_version": "2.0.0",
      "model_name": "HTMLModel",
      "state": {
       "layout": "IPY_MODEL_37bcd724f3cf407bbbeee27e55cac658",
       "style": "IPY_MODEL_a5102c6b3cc14804803f2478f52e30ca",
       "value": " 30/30 [00:05&lt;00:00,  5.92it/s]"
      }
     },
     "ad9e9a9840224324b8379b5c9f238ad3": {
      "model_module": "@jupyter-widgets/base",
      "model_module_version": "2.0.0",
      "model_name": "LayoutModel",
      "state": {}
     },
     "adad37edbc7b4d28b475a89413a37b64": {
      "model_module": "@jupyter-widgets/controls",
      "model_module_version": "2.0.0",
      "model_name": "ProgressStyleModel",
      "state": {
       "description_width": ""
      }
     },
     "adf70422c33443bb805eb311ef379396": {
      "model_module": "@jupyter-widgets/base",
      "model_module_version": "2.0.0",
      "model_name": "LayoutModel",
      "state": {}
     },
     "ae08032a20354d54a130d3e4de7676e7": {
      "model_module": "@jupyter-widgets/controls",
      "model_module_version": "2.0.0",
      "model_name": "HTMLModel",
      "state": {
       "layout": "IPY_MODEL_cb2e161c5570435db735273e30b65a7d",
       "style": "IPY_MODEL_976c81ee886f4fe89c55e86dc05f74fb",
       "value": " 30/30 [00:05&lt;00:00,  5.89it/s]"
      }
     },
     "ae0f28fad21c4fdf91e3473f76b5a93a": {
      "model_module": "@jupyter-widgets/base",
      "model_module_version": "2.0.0",
      "model_name": "LayoutModel",
      "state": {}
     },
     "ae21248ba25f401abff6fa72d3bfd569": {
      "model_module": "@jupyter-widgets/base",
      "model_module_version": "2.0.0",
      "model_name": "LayoutModel",
      "state": {}
     },
     "ae45f2237ad940559b20029eebc7c249": {
      "model_module": "@jupyter-widgets/controls",
      "model_module_version": "2.0.0",
      "model_name": "HTMLStyleModel",
      "state": {
       "description_width": "",
       "font_size": null,
       "text_color": null
      }
     },
     "ae7b4effdbce4fa984e9d1b6638a6f54": {
      "model_module": "@jupyter-widgets/base",
      "model_module_version": "2.0.0",
      "model_name": "LayoutModel",
      "state": {}
     },
     "aed7bcfe9de24232b556fd118202e1d7": {
      "model_module": "@jupyter-widgets/controls",
      "model_module_version": "2.0.0",
      "model_name": "HTMLStyleModel",
      "state": {
       "description_width": "",
       "font_size": null,
       "text_color": null
      }
     },
     "af30b2b72de145d4b51ab3e60101d1d5": {
      "model_module": "@jupyter-widgets/controls",
      "model_module_version": "2.0.0",
      "model_name": "HTMLModel",
      "state": {
       "layout": "IPY_MODEL_6c9c6789801e4df6b8929c0ec2069490",
       "style": "IPY_MODEL_26c492c145924e8f90c767704ea9935f",
       "value": " 22/22 [00:04&lt;00:00,  4.97it/s]"
      }
     },
     "af4a2c208fec4c84bfaa5463c0e8bc92": {
      "model_module": "@jupyter-widgets/controls",
      "model_module_version": "2.0.0",
      "model_name": "HTMLStyleModel",
      "state": {
       "description_width": "",
       "font_size": null,
       "text_color": null
      }
     },
     "af6124ce349c4ea393f87659bf6966e3": {
      "model_module": "@jupyter-widgets/base",
      "model_module_version": "2.0.0",
      "model_name": "LayoutModel",
      "state": {}
     },
     "af908f9d2da94720a3ed3a168dc5a29f": {
      "model_module": "@jupyter-widgets/controls",
      "model_module_version": "2.0.0",
      "model_name": "ProgressStyleModel",
      "state": {
       "description_width": ""
      }
     },
     "af9c6e75160241189745dfb070e750b9": {
      "model_module": "@jupyter-widgets/controls",
      "model_module_version": "2.0.0",
      "model_name": "FloatProgressModel",
      "state": {
       "bar_style": "success",
       "layout": "IPY_MODEL_bb36a6cb8fc3451c8a8eb833a594706d",
       "max": 16,
       "style": "IPY_MODEL_57f10ab8e4f74af8bf33728046eb42fd",
       "value": 16
      }
     },
     "afa14e1533a04c8095bfdc26a5c8d577": {
      "model_module": "@jupyter-widgets/controls",
      "model_module_version": "2.0.0",
      "model_name": "ProgressStyleModel",
      "state": {
       "description_width": ""
      }
     },
     "b077b556f5a4483c987c84056d253375": {
      "model_module": "@jupyter-widgets/base",
      "model_module_version": "2.0.0",
      "model_name": "LayoutModel",
      "state": {}
     },
     "b0d654a979e64050b9b1b908b7b44dd3": {
      "model_module": "@jupyter-widgets/controls",
      "model_module_version": "2.0.0",
      "model_name": "FloatProgressModel",
      "state": {
       "bar_style": "danger",
       "layout": "IPY_MODEL_8ae7d8b917e341df906a67743563736d",
       "max": 42,
       "style": "IPY_MODEL_8a3452de473949eab1d751a61c570cfb"
      }
     },
     "b155bb4348334237ba2e9be61b1ba637": {
      "model_module": "@jupyter-widgets/controls",
      "model_module_version": "2.0.0",
      "model_name": "HTMLModel",
      "state": {
       "layout": "IPY_MODEL_d011e01cf6ab4232886d3510821b76d6",
       "style": "IPY_MODEL_b86a6e3288634c819a63018153383c33",
       "value": " 30/30 [00:05&lt;00:00,  6.11it/s]"
      }
     },
     "b16d0a43b48f49a5874f2ddd062a5cfc": {
      "model_module": "@jupyter-widgets/base",
      "model_module_version": "2.0.0",
      "model_name": "LayoutModel",
      "state": {}
     },
     "b23d4e86f6f44f618366478da46cb813": {
      "model_module": "@jupyter-widgets/controls",
      "model_module_version": "2.0.0",
      "model_name": "HTMLStyleModel",
      "state": {
       "description_width": "",
       "font_size": null,
       "text_color": null
      }
     },
     "b278821f928b49148ebc375b062a353d": {
      "model_module": "@jupyter-widgets/base",
      "model_module_version": "2.0.0",
      "model_name": "LayoutModel",
      "state": {}
     },
     "b297f323ac9a412c96b94d05bff87d78": {
      "model_module": "@jupyter-widgets/base",
      "model_module_version": "2.0.0",
      "model_name": "LayoutModel",
      "state": {}
     },
     "b2eb198b0c2d4c22a9cb1edb22b896d0": {
      "model_module": "@jupyter-widgets/controls",
      "model_module_version": "2.0.0",
      "model_name": "HTMLModel",
      "state": {
       "layout": "IPY_MODEL_1fe6b57fb98e4a5b9fd97b300b48e19d",
       "style": "IPY_MODEL_49c1b78b41a3472691b2004c2a3bd97f",
       "value": " 30/30 [00:04&lt;00:00,  7.38it/s]"
      }
     },
     "b2ef1e7b7b6743cf9368f162d5248b0a": {
      "model_module": "@jupyter-widgets/controls",
      "model_module_version": "2.0.0",
      "model_name": "HTMLStyleModel",
      "state": {
       "description_width": "",
       "font_size": null,
       "text_color": null
      }
     },
     "b341a0f268364941ad8a7712b24c551d": {
      "model_module": "@jupyter-widgets/base",
      "model_module_version": "2.0.0",
      "model_name": "LayoutModel",
      "state": {}
     },
     "b3935d0c9eee41d8ba56f403de618eaa": {
      "model_module": "@jupyter-widgets/controls",
      "model_module_version": "2.0.0",
      "model_name": "HTMLStyleModel",
      "state": {
       "description_width": "",
       "font_size": null,
       "text_color": null
      }
     },
     "b39b913072784a4ba939eb7e78386851": {
      "model_module": "@jupyter-widgets/controls",
      "model_module_version": "2.0.0",
      "model_name": "HTMLModel",
      "state": {
       "layout": "IPY_MODEL_a2c2a3809afa48eb947537602051bbf9",
       "style": "IPY_MODEL_f3fc6763c6d54d069229a70f39119a9c",
       "value": " 42/42 [05:59&lt;00:00,  9.12s/it]"
      }
     },
     "b3caec06177843e6b2af544333674881": {
      "model_module": "@jupyter-widgets/controls",
      "model_module_version": "2.0.0",
      "model_name": "HBoxModel",
      "state": {
       "children": [
        "IPY_MODEL_177ba7210b5b4806b7b6039e205ff7a3",
        "IPY_MODEL_ddd0481614e6470aa281bfb47f000812",
        "IPY_MODEL_cde01ef839f84555b0e92cff96c8629c"
       ],
       "layout": "IPY_MODEL_fbcfba1a6bcf4dd1a6db3ad0cdea6745"
      }
     },
     "b3f40d2fcad34dcc90ad179b040ef1a2": {
      "model_module": "@jupyter-widgets/controls",
      "model_module_version": "2.0.0",
      "model_name": "ProgressStyleModel",
      "state": {
       "description_width": ""
      }
     },
     "b42b716843404105bfc710a6f5477cf8": {
      "model_module": "@jupyter-widgets/base",
      "model_module_version": "2.0.0",
      "model_name": "LayoutModel",
      "state": {}
     },
     "b43e5bc2e48740e9910395654fca8b22": {
      "model_module": "@jupyter-widgets/base",
      "model_module_version": "2.0.0",
      "model_name": "LayoutModel",
      "state": {}
     },
     "b44aa270c5844451a198254d0e8b8128": {
      "model_module": "@jupyter-widgets/controls",
      "model_module_version": "2.0.0",
      "model_name": "HTMLModel",
      "state": {
       "layout": "IPY_MODEL_dc904901b43e4c648ee4d1cf3d918c0e",
       "style": "IPY_MODEL_00e7c68a4a4443fd928cb021ad35ca74",
       "value": "100%"
      }
     },
     "b455006877f24f41b5ce4aae01e643d5": {
      "model_module": "@jupyter-widgets/controls",
      "model_module_version": "2.0.0",
      "model_name": "HBoxModel",
      "state": {
       "children": [
        "IPY_MODEL_92724514938e404b9b6b4acf2f2b3100",
        "IPY_MODEL_7d06c582ba6140d38995c6f2fe4c260d",
        "IPY_MODEL_89b16685815b4cdeaa64a0df682f39e1"
       ],
       "layout": "IPY_MODEL_fc0233b7b05b4881b91d92a29f4bdd1b"
      }
     },
     "b459fd7ef1a34e7cad93b324f3c3769d": {
      "model_module": "@jupyter-widgets/controls",
      "model_module_version": "2.0.0",
      "model_name": "HTMLModel",
      "state": {
       "layout": "IPY_MODEL_dbc99961a88c4d989f8bd1c363b2b005",
       "style": "IPY_MODEL_3afc37f5401f4e17bba7a1101cefcb3a",
       "value": "100%"
      }
     },
     "b4651f3cee624ce489d72efb33392507": {
      "model_module": "@jupyter-widgets/controls",
      "model_module_version": "2.0.0",
      "model_name": "ProgressStyleModel",
      "state": {
       "description_width": ""
      }
     },
     "b4c05580fc76419f9469d02b4a052e21": {
      "model_module": "@jupyter-widgets/controls",
      "model_module_version": "2.0.0",
      "model_name": "HTMLStyleModel",
      "state": {
       "description_width": "",
       "font_size": null,
       "text_color": null
      }
     },
     "b4d24542d22b49b18b44db45aa1cabb0": {
      "model_module": "@jupyter-widgets/controls",
      "model_module_version": "2.0.0",
      "model_name": "HTMLModel",
      "state": {
       "layout": "IPY_MODEL_d4872edc6431457b8ea9d1041e2c3a9d",
       "style": "IPY_MODEL_23ebba71f2f84cd6bb15c4e198fb0300",
       "value": "100%"
      }
     },
     "b52d7fc5689247d6a46bb17247508831": {
      "model_module": "@jupyter-widgets/base",
      "model_module_version": "2.0.0",
      "model_name": "LayoutModel",
      "state": {}
     },
     "b57754b1688941c4a298708aa8341b82": {
      "model_module": "@jupyter-widgets/controls",
      "model_module_version": "2.0.0",
      "model_name": "HTMLStyleModel",
      "state": {
       "description_width": "",
       "font_size": null,
       "text_color": null
      }
     },
     "b61b14b1e4784e55b64959842583b03b": {
      "model_module": "@jupyter-widgets/controls",
      "model_module_version": "2.0.0",
      "model_name": "HTMLModel",
      "state": {
       "layout": "IPY_MODEL_485789d6084c4b03bb5bebbcda4d19be",
       "style": "IPY_MODEL_c6b26efd46a042ccaae17343def6d6c7",
       "value": " 22/22 [00:04&lt;00:00,  5.12it/s]"
      }
     },
     "b61b6e9eea2243d7b551782aa5617496": {
      "model_module": "@jupyter-widgets/controls",
      "model_module_version": "2.0.0",
      "model_name": "HTMLModel",
      "state": {
       "layout": "IPY_MODEL_a1cd0bf264ec44788270957abe53fe8d",
       "style": "IPY_MODEL_b7dfdafc37d2489b9176a5752a4c0fb6",
       "value": " 30/30 [00:05&lt;00:00,  5.86it/s]"
      }
     },
     "b6a4f811dbc249e8af9611f629c17968": {
      "model_module": "@jupyter-widgets/controls",
      "model_module_version": "2.0.0",
      "model_name": "HTMLModel",
      "state": {
       "layout": "IPY_MODEL_8cc98a8cac4042f9b0df57a4bc4d35c3",
       "style": "IPY_MODEL_546cf15c20a14dbe8ea843d87d324b13",
       "value": " 18/18 [00:06&lt;00:00,  2.74it/s]"
      }
     },
     "b6a9f4633aea4025aca6ed308d6aec6e": {
      "model_module": "@jupyter-widgets/controls",
      "model_module_version": "2.0.0",
      "model_name": "ProgressStyleModel",
      "state": {
       "description_width": ""
      }
     },
     "b6da349bd8ff40ee871d8e57aef831c7": {
      "model_module": "@jupyter-widgets/base",
      "model_module_version": "2.0.0",
      "model_name": "LayoutModel",
      "state": {}
     },
     "b6f85cdb9ffd4b80b8eef5bf9f4a3306": {
      "model_module": "@jupyter-widgets/base",
      "model_module_version": "2.0.0",
      "model_name": "LayoutModel",
      "state": {}
     },
     "b71de901c1cb41b2960e37f86e4d5802": {
      "model_module": "@jupyter-widgets/controls",
      "model_module_version": "2.0.0",
      "model_name": "HTMLModel",
      "state": {
       "layout": "IPY_MODEL_1f56930bb7fc4c498165431019455882",
       "style": "IPY_MODEL_3496e0f8bf094d709ad77f294807fb42",
       "value": "100%"
      }
     },
     "b72fba39780a453a8051a9b420c40ff0": {
      "model_module": "@jupyter-widgets/base",
      "model_module_version": "2.0.0",
      "model_name": "LayoutModel",
      "state": {}
     },
     "b756f23ba3274a8884eebc5de699401c": {
      "model_module": "@jupyter-widgets/controls",
      "model_module_version": "2.0.0",
      "model_name": "HBoxModel",
      "state": {
       "children": [
        "IPY_MODEL_69fb1ee5b3b248de8a363c1ae4ee2569",
        "IPY_MODEL_9dc99ce65ced4f9695d855bece881c95",
        "IPY_MODEL_cacd241d65294466a0f32f3cf251b895"
       ],
       "layout": "IPY_MODEL_f41054ef7c5947c49d41689559b98202"
      }
     },
     "b7605a5d339e415c9ed9073fdea3f345": {
      "model_module": "@jupyter-widgets/controls",
      "model_module_version": "2.0.0",
      "model_name": "HTMLStyleModel",
      "state": {
       "description_width": "",
       "font_size": null,
       "text_color": null
      }
     },
     "b783804b1d994a6da9e349ab98beddee": {
      "model_module": "@jupyter-widgets/controls",
      "model_module_version": "2.0.0",
      "model_name": "HBoxModel",
      "state": {
       "children": [
        "IPY_MODEL_a32a0f292d73420db58a4e1ee6f38239",
        "IPY_MODEL_3d28728a6f2e4b71aa9fe877600b6f1b",
        "IPY_MODEL_3201028aca8b4606aada1483759d80d5"
       ],
       "layout": "IPY_MODEL_cbcc19783b4547bb9cb30bd0da04b311"
      }
     },
     "b78e68f98d3c49009ff15d47a82c7422": {
      "model_module": "@jupyter-widgets/controls",
      "model_module_version": "2.0.0",
      "model_name": "HTMLModel",
      "state": {
       "layout": "IPY_MODEL_cc6218beae2140dfb03a286445197f90",
       "style": "IPY_MODEL_20cda836efbe4ad1a5eb1cfb367b4440",
       "value": " 30/30 [00:05&lt;00:00,  6.19it/s]"
      }
     },
     "b7a2c64d63794f1e89b576a2dd6af897": {
      "model_module": "@jupyter-widgets/controls",
      "model_module_version": "2.0.0",
      "model_name": "HBoxModel",
      "state": {
       "children": [
        "IPY_MODEL_28aeb6e1fea34a54b31345cf160d866d",
        "IPY_MODEL_de48a8e4e3e34bcc9eded9faf755ca67",
        "IPY_MODEL_9c9350bd42704d0c999afbd178f467ff"
       ],
       "layout": "IPY_MODEL_6dbfbd837d984cd9b97fb1e45c1abe91"
      }
     },
     "b7af157ef8444a38bf4c662665a86bbc": {
      "model_module": "@jupyter-widgets/controls",
      "model_module_version": "2.0.0",
      "model_name": "HTMLModel",
      "state": {
       "layout": "IPY_MODEL_79174ce46b854e7daa7d04d0dda1a855",
       "style": "IPY_MODEL_02f88bf17da44ccea567f219e14077d7",
       "value": " 30/30 [00:04&lt;00:00,  6.55it/s]"
      }
     },
     "b7b7238dda314303b46f9c2fb134e937": {
      "model_module": "@jupyter-widgets/controls",
      "model_module_version": "2.0.0",
      "model_name": "HBoxModel",
      "state": {
       "children": [
        "IPY_MODEL_e4c0cfc032d14efba2ebb76ac8b2dd62",
        "IPY_MODEL_e963885f19d94670b2f7770c2d34992f",
        "IPY_MODEL_298f5ad2a6b34ff6894b454dbda33d36"
       ],
       "layout": "IPY_MODEL_9893c5a54a7646b1906ea96b5b5c63d4"
      }
     },
     "b7d73047a30b45f2936169f3ef8207a8": {
      "model_module": "@jupyter-widgets/base",
      "model_module_version": "2.0.0",
      "model_name": "LayoutModel",
      "state": {}
     },
     "b7dfdafc37d2489b9176a5752a4c0fb6": {
      "model_module": "@jupyter-widgets/controls",
      "model_module_version": "2.0.0",
      "model_name": "HTMLStyleModel",
      "state": {
       "description_width": "",
       "font_size": null,
       "text_color": null
      }
     },
     "b86a6e3288634c819a63018153383c33": {
      "model_module": "@jupyter-widgets/controls",
      "model_module_version": "2.0.0",
      "model_name": "HTMLStyleModel",
      "state": {
       "description_width": "",
       "font_size": null,
       "text_color": null
      }
     },
     "b8ca2417844b4926ad3ae11b5409ca8a": {
      "model_module": "@jupyter-widgets/controls",
      "model_module_version": "2.0.0",
      "model_name": "FloatProgressModel",
      "state": {
       "bar_style": "success",
       "layout": "IPY_MODEL_038efcbf335549c3b2dbb8e9991a8b88",
       "max": 16,
       "style": "IPY_MODEL_d13ae8fb1aa64b048e095921090690b8",
       "value": 16
      }
     },
     "b9027d39099c4dbd9785a2e9d4f9680a": {
      "model_module": "@jupyter-widgets/controls",
      "model_module_version": "2.0.0",
      "model_name": "HBoxModel",
      "state": {
       "children": [
        "IPY_MODEL_68ab9ace59884fa4a5e606ca06d64cb1",
        "IPY_MODEL_e7544e57ad8e495b829157befa62c0b1",
        "IPY_MODEL_2d6be410412a4bff9c0152ca9359c19c"
       ],
       "layout": "IPY_MODEL_a41de0018ccc497f8da23efdde420cef"
      }
     },
     "b9efdf1811c24786b3467ac069724477": {
      "model_module": "@jupyter-widgets/controls",
      "model_module_version": "2.0.0",
      "model_name": "HBoxModel",
      "state": {
       "children": [
        "IPY_MODEL_568bcaee88ec42aaadd5fade7d5f4cfc",
        "IPY_MODEL_4fee0b77bc6a4596a3cf1d5a67f60c21",
        "IPY_MODEL_62d308baf5ca41fd8f98e1d342c8a9b8"
       ],
       "layout": "IPY_MODEL_20ddcf6b222b4fed9aa0a6bb1e8a564b"
      }
     },
     "b9f65cea7ad04f6b9dfc91739fa648e8": {
      "model_module": "@jupyter-widgets/controls",
      "model_module_version": "2.0.0",
      "model_name": "HTMLModel",
      "state": {
       "layout": "IPY_MODEL_7335570b46b44322b7061e688e9deb7d",
       "style": "IPY_MODEL_c8208001e30e47c5805fa9b569a6028e",
       "value": "100%"
      }
     },
     "ba3b46c0512b4185b99f32f376d9c25b": {
      "model_module": "@jupyter-widgets/controls",
      "model_module_version": "2.0.0",
      "model_name": "HTMLStyleModel",
      "state": {
       "description_width": "",
       "font_size": null,
       "text_color": null
      }
     },
     "bb36a6cb8fc3451c8a8eb833a594706d": {
      "model_module": "@jupyter-widgets/base",
      "model_module_version": "2.0.0",
      "model_name": "LayoutModel",
      "state": {}
     },
     "bb465df5d75744f1ab951a8f2ff0d341": {
      "model_module": "@jupyter-widgets/controls",
      "model_module_version": "2.0.0",
      "model_name": "HTMLModel",
      "state": {
       "layout": "IPY_MODEL_559746e76a7f4f548732c86668f95945",
       "style": "IPY_MODEL_a4d0098a272443f996ec3d6a575fa6d4",
       "value": " 16/16 [00:17&lt;00:00,  1.15s/it]"
      }
     },
     "bba4fa36e53e403aa643a13827b09af5": {
      "model_module": "@jupyter-widgets/controls",
      "model_module_version": "2.0.0",
      "model_name": "HBoxModel",
      "state": {
       "children": [
        "IPY_MODEL_0b40c26fd78e451ab7262a0145c3a59b",
        "IPY_MODEL_950b17785c3949179c8affcb3af87c5a",
        "IPY_MODEL_75f1bd7c0320483aa3962d307680e556"
       ],
       "layout": "IPY_MODEL_3ddbd9e6f16e4b5ba0946dc3284f4697"
      }
     },
     "bc8c4980aacb4a06a892d6f34268ad09": {
      "model_module": "@jupyter-widgets/controls",
      "model_module_version": "2.0.0",
      "model_name": "ProgressStyleModel",
      "state": {
       "description_width": ""
      }
     },
     "bc8ce2efffd74e599945622c427042ad": {
      "model_module": "@jupyter-widgets/controls",
      "model_module_version": "2.0.0",
      "model_name": "FloatProgressModel",
      "state": {
       "bar_style": "success",
       "layout": "IPY_MODEL_c3587e24ada44aab9c663124ff677857",
       "max": 30,
       "style": "IPY_MODEL_0e632b42ecf94464aba5c5392355f008",
       "value": 30
      }
     },
     "bca7c6ddd6bd49beb41a97d5153fb08a": {
      "model_module": "@jupyter-widgets/controls",
      "model_module_version": "2.0.0",
      "model_name": "HBoxModel",
      "state": {
       "children": [
        "IPY_MODEL_692fcc16c0304f02afa7bc8bf5517432",
        "IPY_MODEL_9c020d255a084e9d91039e25bfc79ff0",
        "IPY_MODEL_f7bfd7336701479a9e701193ca540f36"
       ],
       "layout": "IPY_MODEL_f3b1fea66e2f4c5c81ee1fc1ca1029d4"
      }
     },
     "bd075f7213e7413191c3f48a5160719a": {
      "model_module": "@jupyter-widgets/base",
      "model_module_version": "2.0.0",
      "model_name": "LayoutModel",
      "state": {}
     },
     "bd0a6b8cef314fa0b80d3c91b51a53e5": {
      "model_module": "@jupyter-widgets/controls",
      "model_module_version": "2.0.0",
      "model_name": "HTMLModel",
      "state": {
       "layout": "IPY_MODEL_d2f2fb8af2a047f7af3da09c7aba61da",
       "style": "IPY_MODEL_87e965494fc142dd98cc0bd65bd1a3f5",
       "value": "100%"
      }
     },
     "bd514e960d954cfb9d7c6fcd1b38b65e": {
      "model_module": "@jupyter-widgets/controls",
      "model_module_version": "2.0.0",
      "model_name": "FloatProgressModel",
      "state": {
       "bar_style": "success",
       "layout": "IPY_MODEL_d47c0c8f78484c45a91dd12135e280bf",
       "max": 22,
       "style": "IPY_MODEL_4fa34e1a599e44b082c9d587f9c39c9e",
       "value": 22
      }
     },
     "bd5406a04fa54edbab481de43d2c440b": {
      "model_module": "@jupyter-widgets/controls",
      "model_module_version": "2.0.0",
      "model_name": "HTMLStyleModel",
      "state": {
       "description_width": "",
       "font_size": null,
       "text_color": null
      }
     },
     "bd79947131ad430eb5b62074c3378b9c": {
      "model_module": "@jupyter-widgets/controls",
      "model_module_version": "2.0.0",
      "model_name": "FloatProgressModel",
      "state": {
       "bar_style": "success",
       "layout": "IPY_MODEL_390f19c9fe6040548cd78de2fab8da1d",
       "max": 22,
       "style": "IPY_MODEL_052649204ba440339c829ccb6c3a9760",
       "value": 22
      }
     },
     "bd891c1a948f4a8f94e4e864dab7e053": {
      "model_module": "@jupyter-widgets/controls",
      "model_module_version": "2.0.0",
      "model_name": "ProgressStyleModel",
      "state": {
       "description_width": ""
      }
     },
     "be7e102d50f745e9b09a258e30f19d54": {
      "model_module": "@jupyter-widgets/controls",
      "model_module_version": "2.0.0",
      "model_name": "ProgressStyleModel",
      "state": {
       "description_width": ""
      }
     },
     "be8d4500efc245e38922b5de00a23de0": {
      "model_module": "@jupyter-widgets/base",
      "model_module_version": "2.0.0",
      "model_name": "LayoutModel",
      "state": {}
     },
     "bf0e15c274b84c5293abd325f9374a2d": {
      "model_module": "@jupyter-widgets/controls",
      "model_module_version": "2.0.0",
      "model_name": "HBoxModel",
      "state": {
       "children": [
        "IPY_MODEL_e6b0c2dda43f41aab5c380be922bdff6",
        "IPY_MODEL_2df99cae136c401685ad8899df7d9bff",
        "IPY_MODEL_e22cc09146a240d7bff0784c38a7c0e4"
       ],
       "layout": "IPY_MODEL_e7c24a9428e64acf97c0e056841ba03e"
      }
     },
     "bf41e03beef440bcb40082a08597d867": {
      "model_module": "@jupyter-widgets/controls",
      "model_module_version": "2.0.0",
      "model_name": "HTMLStyleModel",
      "state": {
       "description_width": "",
       "font_size": null,
       "text_color": null
      }
     },
     "bf79c85ea49e466d95bd40ee9bf4babf": {
      "model_module": "@jupyter-widgets/controls",
      "model_module_version": "2.0.0",
      "model_name": "HTMLModel",
      "state": {
       "layout": "IPY_MODEL_66545abc4f9a4d76a023b1f55c0c1088",
       "style": "IPY_MODEL_a41c3e92e64144ba8c7d7cb16d9ff2d9",
       "value": "100%"
      }
     },
     "c05dd5fd16104b5e96e5f80e118aa36f": {
      "model_module": "@jupyter-widgets/base",
      "model_module_version": "2.0.0",
      "model_name": "LayoutModel",
      "state": {}
     },
     "c05e8a8e7933491bb302467675e4c9f4": {
      "model_module": "@jupyter-widgets/base",
      "model_module_version": "2.0.0",
      "model_name": "LayoutModel",
      "state": {}
     },
     "c14fd23fadd44c489ee28bfec01f39f1": {
      "model_module": "@jupyter-widgets/controls",
      "model_module_version": "2.0.0",
      "model_name": "ProgressStyleModel",
      "state": {
       "description_width": ""
      }
     },
     "c1669e44a6e3460c90600c6ce0571b73": {
      "model_module": "@jupyter-widgets/controls",
      "model_module_version": "2.0.0",
      "model_name": "ProgressStyleModel",
      "state": {
       "description_width": ""
      }
     },
     "c207fd722b584588a88ee61e4b36b5e6": {
      "model_module": "@jupyter-widgets/controls",
      "model_module_version": "2.0.0",
      "model_name": "HBoxModel",
      "state": {
       "children": [
        "IPY_MODEL_35f56ee029c04e6a9fc4558516036393",
        "IPY_MODEL_6614d91b42aa4abcab7d1941d72ed932",
        "IPY_MODEL_f6e326dd32304cfbb22a42529e5c4fbf"
       ],
       "layout": "IPY_MODEL_912d791296c643b4973a95d5e3030bba"
      }
     },
     "c227c76425064860801e1ac93892795a": {
      "model_module": "@jupyter-widgets/controls",
      "model_module_version": "2.0.0",
      "model_name": "HBoxModel",
      "state": {
       "children": [
        "IPY_MODEL_e799fa0ab4a541f5a48305583574e2dd",
        "IPY_MODEL_88d1ad7fdc714606b0e26989a496606e",
        "IPY_MODEL_575f4bd5330f4ab4a4954a2a98a328ee"
       ],
       "layout": "IPY_MODEL_d2c4ab27684c4b31a6e19f5802aae73f"
      }
     },
     "c23928e4487e4051a0bc86b37682edf7": {
      "model_module": "@jupyter-widgets/controls",
      "model_module_version": "2.0.0",
      "model_name": "HTMLModel",
      "state": {
       "layout": "IPY_MODEL_50dab783924e4382bc3a000ca33a7088",
       "style": "IPY_MODEL_f1676073b8ce4606b2f38f1cde663b89",
       "value": " 30/30 [00:05&lt;00:00,  5.87it/s]"
      }
     },
     "c33c3699074f4b31b7128e87f9455ff3": {
      "model_module": "@jupyter-widgets/base",
      "model_module_version": "2.0.0",
      "model_name": "LayoutModel",
      "state": {}
     },
     "c34d280273454165b8d050fef72f4a49": {
      "model_module": "@jupyter-widgets/controls",
      "model_module_version": "2.0.0",
      "model_name": "FloatProgressModel",
      "state": {
       "bar_style": "danger",
       "layout": "IPY_MODEL_96412a8519634d3ea192708759177595",
       "max": 22,
       "style": "IPY_MODEL_e1ff5964e3194e839eec26feda817dff",
       "value": 4
      }
     },
     "c3587e24ada44aab9c663124ff677857": {
      "model_module": "@jupyter-widgets/base",
      "model_module_version": "2.0.0",
      "model_name": "LayoutModel",
      "state": {}
     },
     "c3a218d1941247e596fe55f427023ff8": {
      "model_module": "@jupyter-widgets/controls",
      "model_module_version": "2.0.0",
      "model_name": "FloatProgressModel",
      "state": {
       "bar_style": "success",
       "layout": "IPY_MODEL_f5e47ee1b991428ebc30e3b2863f926c",
       "max": 30,
       "style": "IPY_MODEL_23b9c200dca04b2aadc3909e77e1dd7c",
       "value": 30
      }
     },
     "c3abfd78b1654eaf99768acc5836f9b1": {
      "model_module": "@jupyter-widgets/base",
      "model_module_version": "2.0.0",
      "model_name": "LayoutModel",
      "state": {}
     },
     "c3d96de5336c4eb39f5c09198baeb6e4": {
      "model_module": "@jupyter-widgets/base",
      "model_module_version": "2.0.0",
      "model_name": "LayoutModel",
      "state": {}
     },
     "c3f5993d62014d679144ada8a0f854ba": {
      "model_module": "@jupyter-widgets/base",
      "model_module_version": "2.0.0",
      "model_name": "LayoutModel",
      "state": {}
     },
     "c42404e097c643449555c44b829afacd": {
      "model_module": "@jupyter-widgets/controls",
      "model_module_version": "2.0.0",
      "model_name": "HTMLModel",
      "state": {
       "layout": "IPY_MODEL_ce1b15a9ff004c1f859e95e4731a8dbf",
       "style": "IPY_MODEL_ed1f924f0ced4420b7ccb67420420336",
       "value": "100%"
      }
     },
     "c470ac3786d14ab78c2547d373888625": {
      "model_module": "@jupyter-widgets/controls",
      "model_module_version": "2.0.0",
      "model_name": "HTMLStyleModel",
      "state": {
       "description_width": "",
       "font_size": null,
       "text_color": null
      }
     },
     "c470ef6bc7e5466fb6a9de7d58ea3a8d": {
      "model_module": "@jupyter-widgets/base",
      "model_module_version": "2.0.0",
      "model_name": "LayoutModel",
      "state": {}
     },
     "c4a44cda9d7244d79dfb6f7e402cadbd": {
      "model_module": "@jupyter-widgets/controls",
      "model_module_version": "2.0.0",
      "model_name": "HTMLModel",
      "state": {
       "layout": "IPY_MODEL_7f2f339fad3b44dca425357a4520ddfd",
       "style": "IPY_MODEL_d305958f60aa4d2cac7f1f34d25bf9fb",
       "value": " 30/30 [00:05&lt;00:00,  6.10it/s]"
      }
     },
     "c4cdb669c1fb4584a9f5849fea319607": {
      "model_module": "@jupyter-widgets/base",
      "model_module_version": "2.0.0",
      "model_name": "LayoutModel",
      "state": {}
     },
     "c4d47dc50b8e42cda8e259832adc98a9": {
      "model_module": "@jupyter-widgets/base",
      "model_module_version": "2.0.0",
      "model_name": "LayoutModel",
      "state": {}
     },
     "c562c5d3d13e48f899415a05dd0e8568": {
      "model_module": "@jupyter-widgets/base",
      "model_module_version": "2.0.0",
      "model_name": "LayoutModel",
      "state": {}
     },
     "c57058a7e34d46608c809cf1e719b1f2": {
      "model_module": "@jupyter-widgets/base",
      "model_module_version": "2.0.0",
      "model_name": "LayoutModel",
      "state": {}
     },
     "c5827860991f4c7a9b7913234514a043": {
      "model_module": "@jupyter-widgets/controls",
      "model_module_version": "2.0.0",
      "model_name": "ProgressStyleModel",
      "state": {
       "description_width": ""
      }
     },
     "c5906fdd047e42f4b721440a17d919db": {
      "model_module": "@jupyter-widgets/controls",
      "model_module_version": "2.0.0",
      "model_name": "HBoxModel",
      "state": {
       "children": [
        "IPY_MODEL_61da579dce3b49ab89addc82cba097ad",
        "IPY_MODEL_5174045e1dd54f51b6c15f8790e7b9d0",
        "IPY_MODEL_e45427ac54884db5bfd8ef648b508fc5"
       ],
       "layout": "IPY_MODEL_e22aa5430a4547559ccb967b53136eae"
      }
     },
     "c59d14421c6e4f9081749676ae0ac33c": {
      "model_module": "@jupyter-widgets/controls",
      "model_module_version": "2.0.0",
      "model_name": "HTMLStyleModel",
      "state": {
       "description_width": "",
       "font_size": null,
       "text_color": null
      }
     },
     "c5db17a901a342e1ad9bb3b642c77b5d": {
      "model_module": "@jupyter-widgets/base",
      "model_module_version": "2.0.0",
      "model_name": "LayoutModel",
      "state": {}
     },
     "c60b60d7b95045c89866e3913e2f6ad3": {
      "model_module": "@jupyter-widgets/base",
      "model_module_version": "2.0.0",
      "model_name": "LayoutModel",
      "state": {}
     },
     "c6186393f97443968ddff18db0762d1a": {
      "model_module": "@jupyter-widgets/controls",
      "model_module_version": "2.0.0",
      "model_name": "HTMLStyleModel",
      "state": {
       "description_width": "",
       "font_size": null,
       "text_color": null
      }
     },
     "c643342201224e58ab7145f75585641c": {
      "model_module": "@jupyter-widgets/controls",
      "model_module_version": "2.0.0",
      "model_name": "HTMLStyleModel",
      "state": {
       "description_width": "",
       "font_size": null,
       "text_color": null
      }
     },
     "c6992862a6ad4491909ec1ed5eaf589a": {
      "model_module": "@jupyter-widgets/base",
      "model_module_version": "2.0.0",
      "model_name": "LayoutModel",
      "state": {}
     },
     "c6b26efd46a042ccaae17343def6d6c7": {
      "model_module": "@jupyter-widgets/controls",
      "model_module_version": "2.0.0",
      "model_name": "HTMLStyleModel",
      "state": {
       "description_width": "",
       "font_size": null,
       "text_color": null
      }
     },
     "c6fb5735ddfc4deeb7a3f238cbe7c907": {
      "model_module": "@jupyter-widgets/controls",
      "model_module_version": "2.0.0",
      "model_name": "HTMLStyleModel",
      "state": {
       "description_width": "",
       "font_size": null,
       "text_color": null
      }
     },
     "c78822452271455a9baa16c65e288457": {
      "model_module": "@jupyter-widgets/controls",
      "model_module_version": "2.0.0",
      "model_name": "HTMLModel",
      "state": {
       "layout": "IPY_MODEL_36bf4281370f43b3868fde78be0c2936",
       "style": "IPY_MODEL_b23d4e86f6f44f618366478da46cb813",
       "value": "100%"
      }
     },
     "c78eb85843264b5ebe634ff19ead45c4": {
      "model_module": "@jupyter-widgets/base",
      "model_module_version": "2.0.0",
      "model_name": "LayoutModel",
      "state": {}
     },
     "c815f4e198904edeaa4615e997a99b38": {
      "model_module": "@jupyter-widgets/controls",
      "model_module_version": "2.0.0",
      "model_name": "ProgressStyleModel",
      "state": {
       "description_width": ""
      }
     },
     "c8194961cc0f4e08bf28e823a8413b29": {
      "model_module": "@jupyter-widgets/base",
      "model_module_version": "2.0.0",
      "model_name": "LayoutModel",
      "state": {}
     },
     "c8208001e30e47c5805fa9b569a6028e": {
      "model_module": "@jupyter-widgets/controls",
      "model_module_version": "2.0.0",
      "model_name": "HTMLStyleModel",
      "state": {
       "description_width": "",
       "font_size": null,
       "text_color": null
      }
     },
     "c83a4aa1865243dea40f525995d55097": {
      "model_module": "@jupyter-widgets/base",
      "model_module_version": "2.0.0",
      "model_name": "LayoutModel",
      "state": {}
     },
     "c844fa77964d40909948bd06ad38ffba": {
      "model_module": "@jupyter-widgets/controls",
      "model_module_version": "2.0.0",
      "model_name": "HTMLStyleModel",
      "state": {
       "description_width": "",
       "font_size": null,
       "text_color": null
      }
     },
     "c89c634e904f466ab7cf3923ffd7e23b": {
      "model_module": "@jupyter-widgets/controls",
      "model_module_version": "2.0.0",
      "model_name": "HTMLModel",
      "state": {
       "layout": "IPY_MODEL_87fe70181a5f4d10b584b617cb02c672",
       "style": "IPY_MODEL_12eb54d98fd7444da7e0bd89fad5ec77",
       "value": " 16/16 [00:09&lt;00:00,  1.65it/s]"
      }
     },
     "c89f8da5a6824378bced3d664dbf8a62": {
      "model_module": "@jupyter-widgets/controls",
      "model_module_version": "2.0.0",
      "model_name": "FloatProgressModel",
      "state": {
       "bar_style": "success",
       "layout": "IPY_MODEL_e05fd90e84bb44ff86a1f44238218e27",
       "max": 30,
       "style": "IPY_MODEL_8230fb07336e454d990199025e2cf792",
       "value": 30
      }
     },
     "c92006c9c34747e6999455355857db44": {
      "model_module": "@jupyter-widgets/base",
      "model_module_version": "2.0.0",
      "model_name": "LayoutModel",
      "state": {}
     },
     "c92b82c165fe473f800b107e5576edf0": {
      "model_module": "@jupyter-widgets/base",
      "model_module_version": "2.0.0",
      "model_name": "LayoutModel",
      "state": {}
     },
     "c932680586de49e09b8b9ad1dcfc5909": {
      "model_module": "@jupyter-widgets/controls",
      "model_module_version": "2.0.0",
      "model_name": "ProgressStyleModel",
      "state": {
       "description_width": ""
      }
     },
     "c997abedb91c461da0c6c897f4e42d56": {
      "model_module": "@jupyter-widgets/controls",
      "model_module_version": "2.0.0",
      "model_name": "HTMLStyleModel",
      "state": {
       "description_width": "",
       "font_size": null,
       "text_color": null
      }
     },
     "c9b50a7bff7549cf93cf8dd2f84b1bef": {
      "model_module": "@jupyter-widgets/controls",
      "model_module_version": "2.0.0",
      "model_name": "HTMLModel",
      "state": {
       "layout": "IPY_MODEL_3ef971c2776245849f043a9d264c42aa",
       "style": "IPY_MODEL_ced314be218e49cb94d8d842dfc73d8b",
       "value": " 30/30 [00:05&lt;00:00,  5.92it/s]"
      }
     },
     "c9ce55e31c9c495e81160a2fcc541299": {
      "model_module": "@jupyter-widgets/controls",
      "model_module_version": "2.0.0",
      "model_name": "HTMLStyleModel",
      "state": {
       "description_width": "",
       "font_size": null,
       "text_color": null
      }
     },
     "c9ff06b5ebd64bae9dd4291481171626": {
      "model_module": "@jupyter-widgets/controls",
      "model_module_version": "2.0.0",
      "model_name": "HTMLModel",
      "state": {
       "layout": "IPY_MODEL_aa9b7f12ebec4e77bfa4cd7593ea4df4",
       "style": "IPY_MODEL_b57754b1688941c4a298708aa8341b82",
       "value": " 18/18 [00:09&lt;00:00,  1.82it/s]"
      }
     },
     "caa8d3e5aec247e5a7a2e4f72f09839f": {
      "model_module": "@jupyter-widgets/controls",
      "model_module_version": "2.0.0",
      "model_name": "HBoxModel",
      "state": {
       "children": [
        "IPY_MODEL_7ed79bdcf2b24524b4b01e941ae5f9ef",
        "IPY_MODEL_af9c6e75160241189745dfb070e750b9",
        "IPY_MODEL_a22ed1a29318493c9cf5d18df473a3cb"
       ],
       "layout": "IPY_MODEL_0617d53eb190429ca454ab161b3ab0a3"
      }
     },
     "cab153153f83480d922a801c413730bb": {
      "model_module": "@jupyter-widgets/controls",
      "model_module_version": "2.0.0",
      "model_name": "HTMLStyleModel",
      "state": {
       "description_width": "",
       "font_size": null,
       "text_color": null
      }
     },
     "cac3a23e9a1348bf90bebb47815295e2": {
      "model_module": "@jupyter-widgets/controls",
      "model_module_version": "2.0.0",
      "model_name": "HTMLStyleModel",
      "state": {
       "description_width": "",
       "font_size": null,
       "text_color": null
      }
     },
     "cacd241d65294466a0f32f3cf251b895": {
      "model_module": "@jupyter-widgets/controls",
      "model_module_version": "2.0.0",
      "model_name": "HTMLModel",
      "state": {
       "layout": "IPY_MODEL_36ada4bafc304e029f3255edf530fda6",
       "style": "IPY_MODEL_7824fd1806e842dfaedb024d7f34ff11",
       "value": " 42/42 [02:50&lt;00:00,  4.49s/it]"
      }
     },
     "cb01f33c0f2748e3a0cf4c03db85660d": {
      "model_module": "@jupyter-widgets/base",
      "model_module_version": "2.0.0",
      "model_name": "LayoutModel",
      "state": {}
     },
     "cb061b2fa7ce4495b18b90cf2266599f": {
      "model_module": "@jupyter-widgets/controls",
      "model_module_version": "2.0.0",
      "model_name": "HBoxModel",
      "state": {
       "children": [
        "IPY_MODEL_b9f65cea7ad04f6b9dfc91739fa648e8",
        "IPY_MODEL_72441ac6592b4eb39860690ba2810930",
        "IPY_MODEL_b6a4f811dbc249e8af9611f629c17968"
       ],
       "layout": "IPY_MODEL_f70d9d2545b446938272ef5280534ba9"
      }
     },
     "cb2a069698814e95b008e84507ace20b": {
      "model_module": "@jupyter-widgets/controls",
      "model_module_version": "2.0.0",
      "model_name": "HTMLModel",
      "state": {
       "layout": "IPY_MODEL_f9e6e1e8c7d04d7bafdb938f98ac6e03",
       "style": "IPY_MODEL_7369b61c21804daf9e1c309b928da996",
       "value": "  0%"
      }
     },
     "cb2e161c5570435db735273e30b65a7d": {
      "model_module": "@jupyter-widgets/base",
      "model_module_version": "2.0.0",
      "model_name": "LayoutModel",
      "state": {}
     },
     "cb333ce364714de79e8c55793315e97b": {
      "model_module": "@jupyter-widgets/controls",
      "model_module_version": "2.0.0",
      "model_name": "HTMLModel",
      "state": {
       "layout": "IPY_MODEL_313e490ff0214ea9aec81bf899e99c1f",
       "style": "IPY_MODEL_07700e7e96fb4a74866ee961afe455a9",
       "value": "100%"
      }
     },
     "cb62868009024c0e9f9e45e2cccccbee": {
      "model_module": "@jupyter-widgets/controls",
      "model_module_version": "2.0.0",
      "model_name": "FloatProgressModel",
      "state": {
       "bar_style": "success",
       "layout": "IPY_MODEL_3e557e0d70b840faa50a79a772c0d713",
       "max": 30,
       "style": "IPY_MODEL_0b189e73785c49959fd5f28a16f69dd5",
       "value": 30
      }
     },
     "cbcc19783b4547bb9cb30bd0da04b311": {
      "model_module": "@jupyter-widgets/base",
      "model_module_version": "2.0.0",
      "model_name": "LayoutModel",
      "state": {}
     },
     "cbfe59fe0c174517a5a73d5e62bb42fe": {
      "model_module": "@jupyter-widgets/base",
      "model_module_version": "2.0.0",
      "model_name": "LayoutModel",
      "state": {}
     },
     "cc212409ac4d4a1c9f4846d8c3120a31": {
      "model_module": "@jupyter-widgets/base",
      "model_module_version": "2.0.0",
      "model_name": "LayoutModel",
      "state": {}
     },
     "cc6218beae2140dfb03a286445197f90": {
      "model_module": "@jupyter-widgets/base",
      "model_module_version": "2.0.0",
      "model_name": "LayoutModel",
      "state": {}
     },
     "cc64c3a17e574243acea46783141fe7d": {
      "model_module": "@jupyter-widgets/controls",
      "model_module_version": "2.0.0",
      "model_name": "FloatProgressModel",
      "state": {
       "bar_style": "success",
       "layout": "IPY_MODEL_eccc65b2bbc74fedacc1223a871087d2",
       "max": 22,
       "style": "IPY_MODEL_e5410f0baf2045f0afa916320f47bb59",
       "value": 22
      }
     },
     "cc8b965577444883a51e4ac4512e15e7": {
      "model_module": "@jupyter-widgets/controls",
      "model_module_version": "2.0.0",
      "model_name": "HTMLStyleModel",
      "state": {
       "description_width": "",
       "font_size": null,
       "text_color": null
      }
     },
     "cc95d4db601443ed9b46851e310ecd96": {
      "model_module": "@jupyter-widgets/base",
      "model_module_version": "2.0.0",
      "model_name": "LayoutModel",
      "state": {}
     },
     "ccc09a6cb3a84391b471c77670c4beb5": {
      "model_module": "@jupyter-widgets/controls",
      "model_module_version": "2.0.0",
      "model_name": "ProgressStyleModel",
      "state": {
       "description_width": ""
      }
     },
     "cd07452383f7496aa9fc172218d2c428": {
      "model_module": "@jupyter-widgets/controls",
      "model_module_version": "2.0.0",
      "model_name": "ProgressStyleModel",
      "state": {
       "description_width": ""
      }
     },
     "cd0c4e825f044ae2839804c5a840f164": {
      "model_module": "@jupyter-widgets/controls",
      "model_module_version": "2.0.0",
      "model_name": "FloatProgressModel",
      "state": {
       "bar_style": "success",
       "layout": "IPY_MODEL_cdef8ec64eb5497ab8707e30d22f10b5",
       "max": 30,
       "style": "IPY_MODEL_5ee5f7c564694cf9a24fa183e493f340",
       "value": 30
      }
     },
     "cd47e45b06c6435c9dd18c7e70551db1": {
      "model_module": "@jupyter-widgets/controls",
      "model_module_version": "2.0.0",
      "model_name": "HBoxModel",
      "state": {
       "children": [
        "IPY_MODEL_98fabe063ff64db4bddb90ec7f816955",
        "IPY_MODEL_1d491c87b7ea470ba8af8770a6f9f486",
        "IPY_MODEL_ef6c1a0530c94c8f8de002c842d4ca8d"
       ],
       "layout": "IPY_MODEL_e76135692caa4bfbb0faf4dfa9562538"
      }
     },
     "cda7b7f57b9f406bb32040e0cb8d536a": {
      "model_module": "@jupyter-widgets/controls",
      "model_module_version": "2.0.0",
      "model_name": "HTMLStyleModel",
      "state": {
       "description_width": "",
       "font_size": null,
       "text_color": null
      }
     },
     "cde01ef839f84555b0e92cff96c8629c": {
      "model_module": "@jupyter-widgets/controls",
      "model_module_version": "2.0.0",
      "model_name": "HTMLModel",
      "state": {
       "layout": "IPY_MODEL_45f88d93e0004612af150c1ebc64916a",
       "style": "IPY_MODEL_61bfdbc9dea742a690bedb3adf6d6103",
       "value": " 18/18 [00:11&lt;00:00,  1.65it/s]"
      }
     },
     "cdef8ec64eb5497ab8707e30d22f10b5": {
      "model_module": "@jupyter-widgets/base",
      "model_module_version": "2.0.0",
      "model_name": "LayoutModel",
      "state": {}
     },
     "ce1b15a9ff004c1f859e95e4731a8dbf": {
      "model_module": "@jupyter-widgets/base",
      "model_module_version": "2.0.0",
      "model_name": "LayoutModel",
      "state": {}
     },
     "ced314be218e49cb94d8d842dfc73d8b": {
      "model_module": "@jupyter-widgets/controls",
      "model_module_version": "2.0.0",
      "model_name": "HTMLStyleModel",
      "state": {
       "description_width": "",
       "font_size": null,
       "text_color": null
      }
     },
     "cf0664c66168476ca8638e8161ab3305": {
      "model_module": "@jupyter-widgets/controls",
      "model_module_version": "2.0.0",
      "model_name": "HTMLModel",
      "state": {
       "layout": "IPY_MODEL_de3c66e685fb4014b41fe927036c7177",
       "style": "IPY_MODEL_f63bbb665001407e9988a0a1e7374a77",
       "value": " 30/30 [00:05&lt;00:00,  5.88it/s]"
      }
     },
     "cf849a4db03a487e9d251fb240b8b3ca": {
      "model_module": "@jupyter-widgets/base",
      "model_module_version": "2.0.0",
      "model_name": "LayoutModel",
      "state": {}
     },
     "d011e01cf6ab4232886d3510821b76d6": {
      "model_module": "@jupyter-widgets/base",
      "model_module_version": "2.0.0",
      "model_name": "LayoutModel",
      "state": {}
     },
     "d03dbd7a59d14ab7ae0248809f815f68": {
      "model_module": "@jupyter-widgets/controls",
      "model_module_version": "2.0.0",
      "model_name": "FloatProgressModel",
      "state": {
       "bar_style": "success",
       "layout": "IPY_MODEL_d1d7724134764ad8ba093c0fb48b9c09",
       "max": 18,
       "style": "IPY_MODEL_775fb67c59ab478bac9d0b65097208ff",
       "value": 18
      }
     },
     "d09c3d302a744d85b303a9d6ef7f6bb1": {
      "model_module": "@jupyter-widgets/base",
      "model_module_version": "2.0.0",
      "model_name": "LayoutModel",
      "state": {}
     },
     "d0e461eb23ec49ffa7ab73598cec338f": {
      "model_module": "@jupyter-widgets/base",
      "model_module_version": "2.0.0",
      "model_name": "LayoutModel",
      "state": {}
     },
     "d10207764f3a4cc786b1436efbbea7c0": {
      "model_module": "@jupyter-widgets/controls",
      "model_module_version": "2.0.0",
      "model_name": "HBoxModel",
      "state": {
       "children": [
        "IPY_MODEL_d5caeef625934337bdee74c5f2c9d11a",
        "IPY_MODEL_e1b469dc89914f2583ed8cbc001693cb",
        "IPY_MODEL_953cce71d8d24f1baa5b18e388edaa90"
       ],
       "layout": "IPY_MODEL_0c99b3e0185e46cd83dacd5110522b11"
      }
     },
     "d12b34e6a2ff42b6b20b069943d3a602": {
      "model_module": "@jupyter-widgets/controls",
      "model_module_version": "2.0.0",
      "model_name": "HTMLModel",
      "state": {
       "layout": "IPY_MODEL_087dd0e6e869422ba1e6d43c8909ef47",
       "style": "IPY_MODEL_80b2abb2094e4b12bad08d40675433da",
       "value": " 18/18 [00:07&lt;00:00,  2.65it/s]"
      }
     },
     "d138c5d30388488e8446be5fc0fc0697": {
      "model_module": "@jupyter-widgets/controls",
      "model_module_version": "2.0.0",
      "model_name": "HTMLModel",
      "state": {
       "layout": "IPY_MODEL_f953deb37e6b46e095325a6e89749987",
       "style": "IPY_MODEL_a50f5ef28a8c4a8888387df2aee19fae",
       "value": "  0%"
      }
     },
     "d13ae8fb1aa64b048e095921090690b8": {
      "model_module": "@jupyter-widgets/controls",
      "model_module_version": "2.0.0",
      "model_name": "ProgressStyleModel",
      "state": {
       "description_width": ""
      }
     },
     "d1412265a5914c4aa2aa58c2c9439bae": {
      "model_module": "@jupyter-widgets/base",
      "model_module_version": "2.0.0",
      "model_name": "LayoutModel",
      "state": {}
     },
     "d14c70163f554085a8fd55c6aae01863": {
      "model_module": "@jupyter-widgets/controls",
      "model_module_version": "2.0.0",
      "model_name": "HTMLStyleModel",
      "state": {
       "description_width": "",
       "font_size": null,
       "text_color": null
      }
     },
     "d1d21d686e5f4b339d5eb89c923cb638": {
      "model_module": "@jupyter-widgets/controls",
      "model_module_version": "2.0.0",
      "model_name": "HBoxModel",
      "state": {
       "children": [
        "IPY_MODEL_cb333ce364714de79e8c55793315e97b",
        "IPY_MODEL_a5cb9f28f40341bdac8ad53a737ccffc",
        "IPY_MODEL_c4a44cda9d7244d79dfb6f7e402cadbd"
       ],
       "layout": "IPY_MODEL_fff3424e2a9e4ac885b9576d3ebb78ea"
      }
     },
     "d1d7724134764ad8ba093c0fb48b9c09": {
      "model_module": "@jupyter-widgets/base",
      "model_module_version": "2.0.0",
      "model_name": "LayoutModel",
      "state": {}
     },
     "d222deba0b3944cdafd6d1ac14bf85c6": {
      "model_module": "@jupyter-widgets/base",
      "model_module_version": "2.0.0",
      "model_name": "LayoutModel",
      "state": {}
     },
     "d24de0018622475291dae4bdaacd2417": {
      "model_module": "@jupyter-widgets/controls",
      "model_module_version": "2.0.0",
      "model_name": "HTMLModel",
      "state": {
       "layout": "IPY_MODEL_e48788fce5ae43d789a5c6b8fa33b26d",
       "style": "IPY_MODEL_2aa6fdf51d654ce3bcdec6cd0bf3d4b2",
       "value": "100%"
      }
     },
     "d25512bf47714ddca7ba80fe78823100": {
      "model_module": "@jupyter-widgets/controls",
      "model_module_version": "2.0.0",
      "model_name": "FloatProgressModel",
      "state": {
       "bar_style": "success",
       "layout": "IPY_MODEL_96be14199a134c318e7af3ab75bff66a",
       "max": 18,
       "style": "IPY_MODEL_bd891c1a948f4a8f94e4e864dab7e053",
       "value": 18
      }
     },
     "d29d7ab761e04c8d9eec9dba19559d56": {
      "model_module": "@jupyter-widgets/controls",
      "model_module_version": "2.0.0",
      "model_name": "HTMLModel",
      "state": {
       "layout": "IPY_MODEL_236d964e1a7a4c789c98f1ce6524dc27",
       "style": "IPY_MODEL_8d41a9da674b4a5eb29438ff01a8219f",
       "value": " 30/30 [00:05&lt;00:00,  6.18it/s]"
      }
     },
     "d2c4ab27684c4b31a6e19f5802aae73f": {
      "model_module": "@jupyter-widgets/base",
      "model_module_version": "2.0.0",
      "model_name": "LayoutModel",
      "state": {}
     },
     "d2d6cb5d03af4d0f8d9d1e24e5f71cfd": {
      "model_module": "@jupyter-widgets/base",
      "model_module_version": "2.0.0",
      "model_name": "LayoutModel",
      "state": {}
     },
     "d2e68642934a494791a8b5fc4159afd8": {
      "model_module": "@jupyter-widgets/controls",
      "model_module_version": "2.0.0",
      "model_name": "FloatProgressModel",
      "state": {
       "bar_style": "success",
       "layout": "IPY_MODEL_05339752433245bd88b8130ca4741cea",
       "max": 30,
       "style": "IPY_MODEL_819c6b2422fb488fbe3787c29f77b81e",
       "value": 30
      }
     },
     "d2f2fb8af2a047f7af3da09c7aba61da": {
      "model_module": "@jupyter-widgets/base",
      "model_module_version": "2.0.0",
      "model_name": "LayoutModel",
      "state": {}
     },
     "d2fe47d7efe144bf8b1bc2d595b203ed": {
      "model_module": "@jupyter-widgets/controls",
      "model_module_version": "2.0.0",
      "model_name": "HTMLStyleModel",
      "state": {
       "description_width": "",
       "font_size": null,
       "text_color": null
      }
     },
     "d305958f60aa4d2cac7f1f34d25bf9fb": {
      "model_module": "@jupyter-widgets/controls",
      "model_module_version": "2.0.0",
      "model_name": "HTMLStyleModel",
      "state": {
       "description_width": "",
       "font_size": null,
       "text_color": null
      }
     },
     "d36a932d32a54f288fc52c866a1a7ec4": {
      "model_module": "@jupyter-widgets/base",
      "model_module_version": "2.0.0",
      "model_name": "LayoutModel",
      "state": {}
     },
     "d375189e6c374db09855968173fafe4d": {
      "model_module": "@jupyter-widgets/controls",
      "model_module_version": "2.0.0",
      "model_name": "FloatProgressModel",
      "state": {
       "bar_style": "success",
       "layout": "IPY_MODEL_99ee6b3979b64e2ea72e35a239c74d36",
       "max": 22,
       "style": "IPY_MODEL_c932680586de49e09b8b9ad1dcfc5909",
       "value": 22
      }
     },
     "d47c0c8f78484c45a91dd12135e280bf": {
      "model_module": "@jupyter-widgets/base",
      "model_module_version": "2.0.0",
      "model_name": "LayoutModel",
      "state": {}
     },
     "d47e2be763a140a2b26b608562bcf8f2": {
      "model_module": "@jupyter-widgets/controls",
      "model_module_version": "2.0.0",
      "model_name": "HTMLModel",
      "state": {
       "layout": "IPY_MODEL_c3f5993d62014d679144ada8a0f854ba",
       "style": "IPY_MODEL_c9ce55e31c9c495e81160a2fcc541299",
       "value": " 30/30 [00:05&lt;00:00,  5.85it/s]"
      }
     },
     "d4872edc6431457b8ea9d1041e2c3a9d": {
      "model_module": "@jupyter-widgets/base",
      "model_module_version": "2.0.0",
      "model_name": "LayoutModel",
      "state": {}
     },
     "d499839660714faa8cb04d8336650d58": {
      "model_module": "@jupyter-widgets/base",
      "model_module_version": "2.0.0",
      "model_name": "LayoutModel",
      "state": {}
     },
     "d4fed7f592234f9992eac07feaf6f528": {
      "model_module": "@jupyter-widgets/controls",
      "model_module_version": "2.0.0",
      "model_name": "HTMLModel",
      "state": {
       "layout": "IPY_MODEL_70aa108dbec2405f8c3660fb24b33c41",
       "style": "IPY_MODEL_94e2ec7b98244a879b63585278196da9",
       "value": "100%"
      }
     },
     "d508b9d9f5414b6c9b97134d62f2c68f": {
      "model_module": "@jupyter-widgets/controls",
      "model_module_version": "2.0.0",
      "model_name": "HBoxModel",
      "state": {
       "children": [
        "IPY_MODEL_74df169ead674285a7f91f5b1e443eaf",
        "IPY_MODEL_cd0c4e825f044ae2839804c5a840f164",
        "IPY_MODEL_3976fcd28470407584e4554966cc46b5"
       ],
       "layout": "IPY_MODEL_32960802029744eb9e616943fbf3a5f3"
      }
     },
     "d580e0b9c2934384ab5ff1293835a484": {
      "model_module": "@jupyter-widgets/controls",
      "model_module_version": "2.0.0",
      "model_name": "HBoxModel",
      "state": {
       "children": [
        "IPY_MODEL_dd3e944a5ccf4121ad8ab235817b9b16",
        "IPY_MODEL_89c825e728514f53803b3836a3edbf71",
        "IPY_MODEL_4bf5a556dc31426b8f0c59c7ac669922"
       ],
       "layout": "IPY_MODEL_c78eb85843264b5ebe634ff19ead45c4"
      }
     },
     "d5a2d5e2a1734658b4ff810e56ae93cf": {
      "model_module": "@jupyter-widgets/base",
      "model_module_version": "2.0.0",
      "model_name": "LayoutModel",
      "state": {}
     },
     "d5caeef625934337bdee74c5f2c9d11a": {
      "model_module": "@jupyter-widgets/controls",
      "model_module_version": "2.0.0",
      "model_name": "HTMLModel",
      "state": {
       "layout": "IPY_MODEL_941c8a9f353e49a687976971b2532ab6",
       "style": "IPY_MODEL_976fb611202d48758a8424aaaed5a544",
       "value": "100%"
      }
     },
     "d5d211514f2a4a81bb81c30d524fba74": {
      "model_module": "@jupyter-widgets/base",
      "model_module_version": "2.0.0",
      "model_name": "LayoutModel",
      "state": {}
     },
     "d6102190099442d78fede1f96337ba47": {
      "model_module": "@jupyter-widgets/base",
      "model_module_version": "2.0.0",
      "model_name": "LayoutModel",
      "state": {}
     },
     "d631934632184b43bbf54d2b0b709dad": {
      "model_module": "@jupyter-widgets/base",
      "model_module_version": "2.0.0",
      "model_name": "LayoutModel",
      "state": {}
     },
     "d65407e21fe246c184371b26c1218357": {
      "model_module": "@jupyter-widgets/base",
      "model_module_version": "2.0.0",
      "model_name": "LayoutModel",
      "state": {}
     },
     "d70d6c6999474a17aeccb3e28aa5febc": {
      "model_module": "@jupyter-widgets/controls",
      "model_module_version": "2.0.0",
      "model_name": "HTMLStyleModel",
      "state": {
       "description_width": "",
       "font_size": null,
       "text_color": null
      }
     },
     "d74d017f644d44b29e485fdddac10220": {
      "model_module": "@jupyter-widgets/base",
      "model_module_version": "2.0.0",
      "model_name": "LayoutModel",
      "state": {}
     },
     "d757a272144f494e8eb88d18e2f9907f": {
      "model_module": "@jupyter-widgets/controls",
      "model_module_version": "2.0.0",
      "model_name": "HTMLModel",
      "state": {
       "layout": "IPY_MODEL_a0927088b77d4979891e42b913009d2b",
       "style": "IPY_MODEL_519b6691ef20471bb2d9dc3a60912fcf",
       "value": " 22/22 [00:05&lt;00:00,  3.94it/s]"
      }
     },
     "d7f5b663b31841999b5aa513974780ad": {
      "model_module": "@jupyter-widgets/controls",
      "model_module_version": "2.0.0",
      "model_name": "HTMLModel",
      "state": {
       "layout": "IPY_MODEL_438dcfa522d349dfba3c12bd13dff2f3",
       "style": "IPY_MODEL_7c749d97e10a46cfbeabf1fb82c1e24a",
       "value": " 14/14 [00:08&lt;00:00,  1.63it/s]"
      }
     },
     "d984094c32fa4bd2a259c5c9ae0f5c2d": {
      "model_module": "@jupyter-widgets/base",
      "model_module_version": "2.0.0",
      "model_name": "LayoutModel",
      "state": {}
     },
     "d9a80a40ac824257a41624bac9bb01aa": {
      "model_module": "@jupyter-widgets/controls",
      "model_module_version": "2.0.0",
      "model_name": "HBoxModel",
      "state": {
       "children": [
        "IPY_MODEL_d138c5d30388488e8446be5fc0fc0697",
        "IPY_MODEL_6967297db0c24a56a46ede7504f3e380",
        "IPY_MODEL_935ee04f5299407496b9541a38800714"
       ],
       "layout": "IPY_MODEL_b297f323ac9a412c96b94d05bff87d78"
      }
     },
     "da052b920ca54c3fb89db2f0d52c6a1f": {
      "model_module": "@jupyter-widgets/controls",
      "model_module_version": "2.0.0",
      "model_name": "HTMLModel",
      "state": {
       "layout": "IPY_MODEL_6f1bd1a1d62a45a78eee908a836f6a2f",
       "style": "IPY_MODEL_c643342201224e58ab7145f75585641c",
       "value": "100%"
      }
     },
     "da36a779bd80408bb3983d79974202a1": {
      "model_module": "@jupyter-widgets/controls",
      "model_module_version": "2.0.0",
      "model_name": "HTMLStyleModel",
      "state": {
       "description_width": "",
       "font_size": null,
       "text_color": null
      }
     },
     "da3b7dbbb2c643fa945b0c03602513ba": {
      "model_module": "@jupyter-widgets/controls",
      "model_module_version": "2.0.0",
      "model_name": "HTMLStyleModel",
      "state": {
       "description_width": "",
       "font_size": null,
       "text_color": null
      }
     },
     "dafcb255454c44019ce852a99ff7f32a": {
      "model_module": "@jupyter-widgets/controls",
      "model_module_version": "2.0.0",
      "model_name": "ProgressStyleModel",
      "state": {
       "description_width": ""
      }
     },
     "db2c3cd621f143b0b8102c03359c64ad": {
      "model_module": "@jupyter-widgets/base",
      "model_module_version": "2.0.0",
      "model_name": "LayoutModel",
      "state": {}
     },
     "dbb5db465ff14a7e979a07ed74b13770": {
      "model_module": "@jupyter-widgets/controls",
      "model_module_version": "2.0.0",
      "model_name": "HTMLModel",
      "state": {
       "layout": "IPY_MODEL_dcbe10d7520e483588c8b95bbf02bf37",
       "style": "IPY_MODEL_797283e0cfb94872860d9470746313ab",
       "value": " 0/42 [00:00&lt;?, ?it/s]"
      }
     },
     "dbc99961a88c4d989f8bd1c363b2b005": {
      "model_module": "@jupyter-widgets/base",
      "model_module_version": "2.0.0",
      "model_name": "LayoutModel",
      "state": {}
     },
     "dc0a2251dad54275a316cff21b56cd67": {
      "model_module": "@jupyter-widgets/controls",
      "model_module_version": "2.0.0",
      "model_name": "HTMLModel",
      "state": {
       "layout": "IPY_MODEL_52c85648fb244cce86fddd5bc82436af",
       "style": "IPY_MODEL_78ae90569eb542db8ae0d1bcf352302a",
       "value": " 30/30 [00:05&lt;00:00,  6.13it/s]"
      }
     },
     "dc25de042bfd4fffb55440d74a1cd6cf": {
      "model_module": "@jupyter-widgets/controls",
      "model_module_version": "2.0.0",
      "model_name": "HTMLStyleModel",
      "state": {
       "description_width": "",
       "font_size": null,
       "text_color": null
      }
     },
     "dc904901b43e4c648ee4d1cf3d918c0e": {
      "model_module": "@jupyter-widgets/base",
      "model_module_version": "2.0.0",
      "model_name": "LayoutModel",
      "state": {}
     },
     "dcbe10d7520e483588c8b95bbf02bf37": {
      "model_module": "@jupyter-widgets/base",
      "model_module_version": "2.0.0",
      "model_name": "LayoutModel",
      "state": {}
     },
     "dd3e944a5ccf4121ad8ab235817b9b16": {
      "model_module": "@jupyter-widgets/controls",
      "model_module_version": "2.0.0",
      "model_name": "HTMLModel",
      "state": {
       "layout": "IPY_MODEL_8dd867d7f649424d8eaad8f34f5c1e75",
       "style": "IPY_MODEL_358cd777e42040b49c6e6d5805ecc7fe",
       "value": "100%"
      }
     },
     "ddc7ebb035e2407a9ac3c80c625c5431": {
      "model_module": "@jupyter-widgets/base",
      "model_module_version": "2.0.0",
      "model_name": "LayoutModel",
      "state": {}
     },
     "ddd0481614e6470aa281bfb47f000812": {
      "model_module": "@jupyter-widgets/controls",
      "model_module_version": "2.0.0",
      "model_name": "FloatProgressModel",
      "state": {
       "bar_style": "success",
       "layout": "IPY_MODEL_b42b716843404105bfc710a6f5477cf8",
       "max": 18,
       "style": "IPY_MODEL_c1669e44a6e3460c90600c6ce0571b73",
       "value": 18
      }
     },
     "de3c66e685fb4014b41fe927036c7177": {
      "model_module": "@jupyter-widgets/base",
      "model_module_version": "2.0.0",
      "model_name": "LayoutModel",
      "state": {}
     },
     "de48a8e4e3e34bcc9eded9faf755ca67": {
      "model_module": "@jupyter-widgets/controls",
      "model_module_version": "2.0.0",
      "model_name": "FloatProgressModel",
      "state": {
       "bar_style": "success",
       "layout": "IPY_MODEL_b7d73047a30b45f2936169f3ef8207a8",
       "max": 30,
       "style": "IPY_MODEL_6ad669bf65f24d5b8ffa79c331406538",
       "value": 30
      }
     },
     "de5181a170e3479f9a5510b3c404306e": {
      "model_module": "@jupyter-widgets/controls",
      "model_module_version": "2.0.0",
      "model_name": "FloatProgressModel",
      "state": {
       "bar_style": "success",
       "layout": "IPY_MODEL_6ad2a5eb86fc447e8ec61e7a216fc0aa",
       "max": 30,
       "style": "IPY_MODEL_2e151a74ef6f490f85b9b50d857aa144",
       "value": 30
      }
     },
     "de612223e55c4b21af7ae3417409e702": {
      "model_module": "@jupyter-widgets/base",
      "model_module_version": "2.0.0",
      "model_name": "LayoutModel",
      "state": {}
     },
     "de682180e3eb4ea89de5b9565382139f": {
      "model_module": "@jupyter-widgets/base",
      "model_module_version": "2.0.0",
      "model_name": "LayoutModel",
      "state": {}
     },
     "de9174ba851347e59a6075928e468fd8": {
      "model_module": "@jupyter-widgets/controls",
      "model_module_version": "2.0.0",
      "model_name": "HTMLModel",
      "state": {
       "layout": "IPY_MODEL_c5db17a901a342e1ad9bb3b642c77b5d",
       "style": "IPY_MODEL_6940b4ee82dc420bb0a0f52eef4f3ed4",
       "value": " 20/20 [00:04&lt;00:00,  5.00it/s]"
      }
     },
     "df129d8b2f874e22b88cf4d5a470e9bc": {
      "model_module": "@jupyter-widgets/controls",
      "model_module_version": "2.0.0",
      "model_name": "FloatProgressModel",
      "state": {
       "bar_style": "success",
       "layout": "IPY_MODEL_3de84a0dac6b417dbf74e6d4194b47ad",
       "max": 55,
       "style": "IPY_MODEL_c14fd23fadd44c489ee28bfec01f39f1",
       "value": 55
      }
     },
     "df9bb705f8fb42fda1d7ea3f1bd96fbf": {
      "model_module": "@jupyter-widgets/base",
      "model_module_version": "2.0.0",
      "model_name": "LayoutModel",
      "state": {}
     },
     "dfe29e955f2b464785ddf3862139b612": {
      "model_module": "@jupyter-widgets/controls",
      "model_module_version": "2.0.0",
      "model_name": "HTMLStyleModel",
      "state": {
       "description_width": "",
       "font_size": null,
       "text_color": null
      }
     },
     "e05fd90e84bb44ff86a1f44238218e27": {
      "model_module": "@jupyter-widgets/base",
      "model_module_version": "2.0.0",
      "model_name": "LayoutModel",
      "state": {}
     },
     "e073d9a6feb449d18335d09cfa8f7fd6": {
      "model_module": "@jupyter-widgets/controls",
      "model_module_version": "2.0.0",
      "model_name": "HBoxModel",
      "state": {
       "children": [
        "IPY_MODEL_593c10c802e342679036b5be85ae1012",
        "IPY_MODEL_a1bd8303eb254ee7a9b6420082ecb21a",
        "IPY_MODEL_0a740e3f2b2a46529268b1176667bdbb"
       ],
       "layout": "IPY_MODEL_7fe417a5848e4914b2e85e174a4d1f32"
      }
     },
     "e07b4e21e9f34deb9f8b156c9a22b2a0": {
      "model_module": "@jupyter-widgets/controls",
      "model_module_version": "2.0.0",
      "model_name": "HBoxModel",
      "state": {
       "children": [
        "IPY_MODEL_4d8f14481bf44abc98081bae53dcef2d",
        "IPY_MODEL_bd79947131ad430eb5b62074c3378b9c",
        "IPY_MODEL_b61b14b1e4784e55b64959842583b03b"
       ],
       "layout": "IPY_MODEL_0431cf5cb2684a1cada56e957592efe5"
      }
     },
     "e0871ee6bd984e9696e1634e310a0bef": {
      "model_module": "@jupyter-widgets/controls",
      "model_module_version": "2.0.0",
      "model_name": "HBoxModel",
      "state": {
       "children": [
        "IPY_MODEL_e35830f536974962811dc7a58dd428ae",
        "IPY_MODEL_2f14718afa334dd08dec841fc38adc84",
        "IPY_MODEL_b7af157ef8444a38bf4c662665a86bbc"
       ],
       "layout": "IPY_MODEL_875baf1d0c884f1b861bfaaf73a39795"
      }
     },
     "e09ab89840184bacb3f8e2918cbbfd60": {
      "model_module": "@jupyter-widgets/base",
      "model_module_version": "2.0.0",
      "model_name": "LayoutModel",
      "state": {}
     },
     "e16252889ac44248ad8875a08bd1f4f9": {
      "model_module": "@jupyter-widgets/controls",
      "model_module_version": "2.0.0",
      "model_name": "HTMLStyleModel",
      "state": {
       "description_width": "",
       "font_size": null,
       "text_color": null
      }
     },
     "e1b469dc89914f2583ed8cbc001693cb": {
      "model_module": "@jupyter-widgets/controls",
      "model_module_version": "2.0.0",
      "model_name": "FloatProgressModel",
      "state": {
       "bar_style": "success",
       "layout": "IPY_MODEL_0f6eb0a77e6343b58f9be561855b2379",
       "max": 30,
       "style": "IPY_MODEL_9f4942de1f874283894e536ed03b5ace",
       "value": 30
      }
     },
     "e1c73e611a794a8b86b4282c8fbfafbe": {
      "model_module": "@jupyter-widgets/controls",
      "model_module_version": "2.0.0",
      "model_name": "FloatProgressModel",
      "state": {
       "bar_style": "success",
       "layout": "IPY_MODEL_62e69d09951045f3a9533610193b2360",
       "max": 18,
       "style": "IPY_MODEL_6985e017e4b44358addb3861ad70c4ef",
       "value": 18
      }
     },
     "e1ff5964e3194e839eec26feda817dff": {
      "model_module": "@jupyter-widgets/controls",
      "model_module_version": "2.0.0",
      "model_name": "ProgressStyleModel",
      "state": {
       "description_width": ""
      }
     },
     "e22aa5430a4547559ccb967b53136eae": {
      "model_module": "@jupyter-widgets/base",
      "model_module_version": "2.0.0",
      "model_name": "LayoutModel",
      "state": {}
     },
     "e22cc09146a240d7bff0784c38a7c0e4": {
      "model_module": "@jupyter-widgets/controls",
      "model_module_version": "2.0.0",
      "model_name": "HTMLModel",
      "state": {
       "layout": "IPY_MODEL_682099fc5a344f78b2146d0b2ad242f4",
       "style": "IPY_MODEL_6d67cb2a899e45f095ef4bad14bae92a",
       "value": " 30/30 [00:05&lt;00:00,  6.12it/s]"
      }
     },
     "e239a257e154476f906f5b16823fd9ef": {
      "model_module": "@jupyter-widgets/base",
      "model_module_version": "2.0.0",
      "model_name": "LayoutModel",
      "state": {}
     },
     "e25343a32d4948948157b7c8f63fd4d7": {
      "model_module": "@jupyter-widgets/base",
      "model_module_version": "2.0.0",
      "model_name": "LayoutModel",
      "state": {}
     },
     "e25442a64177462eb23941becc5cd270": {
      "model_module": "@jupyter-widgets/controls",
      "model_module_version": "2.0.0",
      "model_name": "FloatProgressModel",
      "state": {
       "bar_style": "success",
       "layout": "IPY_MODEL_f94245373ef744529aff91753ab7b770",
       "max": 30,
       "style": "IPY_MODEL_53834155d92a4c40aef0be50cd44c696",
       "value": 30
      }
     },
     "e27a26dd6c394501bfc02768c1367e44": {
      "model_module": "@jupyter-widgets/controls",
      "model_module_version": "2.0.0",
      "model_name": "HTMLStyleModel",
      "state": {
       "description_width": "",
       "font_size": null,
       "text_color": null
      }
     },
     "e29a6084a5a54ca89b5e9375e4826cd8": {
      "model_module": "@jupyter-widgets/controls",
      "model_module_version": "2.0.0",
      "model_name": "ProgressStyleModel",
      "state": {
       "description_width": ""
      }
     },
     "e2c6917cf668461aa44ef425c8d2c92c": {
      "model_module": "@jupyter-widgets/controls",
      "model_module_version": "2.0.0",
      "model_name": "HTMLModel",
      "state": {
       "layout": "IPY_MODEL_a7d7390ce24842ebbca84df3c51c4ed5",
       "style": "IPY_MODEL_286099fd05f34ac8ba714516deba7892",
       "value": "100%"
      }
     },
     "e2d9b2d19d3f4e4fa68f51366ebfc1a2": {
      "model_module": "@jupyter-widgets/controls",
      "model_module_version": "2.0.0",
      "model_name": "HTMLStyleModel",
      "state": {
       "description_width": "",
       "font_size": null,
       "text_color": null
      }
     },
     "e2f2ba4fa80b40238c67895c1859b1ac": {
      "model_module": "@jupyter-widgets/base",
      "model_module_version": "2.0.0",
      "model_name": "LayoutModel",
      "state": {}
     },
     "e2f9c914d90f42c0964f76943e064ea9": {
      "model_module": "@jupyter-widgets/base",
      "model_module_version": "2.0.0",
      "model_name": "LayoutModel",
      "state": {}
     },
     "e30c569f2ca145499804649ce8b33530": {
      "model_module": "@jupyter-widgets/base",
      "model_module_version": "2.0.0",
      "model_name": "LayoutModel",
      "state": {}
     },
     "e33712282796404aa5884bf7b0ab074a": {
      "model_module": "@jupyter-widgets/base",
      "model_module_version": "2.0.0",
      "model_name": "LayoutModel",
      "state": {}
     },
     "e35830f536974962811dc7a58dd428ae": {
      "model_module": "@jupyter-widgets/controls",
      "model_module_version": "2.0.0",
      "model_name": "HTMLModel",
      "state": {
       "layout": "IPY_MODEL_a5fa41ff9f6b41d693071f16b5a7f8e5",
       "style": "IPY_MODEL_042f3abe8a064e00b472e0c297b14f3e",
       "value": "100%"
      }
     },
     "e38aa0fb940f49938dca86c72255a8d5": {
      "model_module": "@jupyter-widgets/controls",
      "model_module_version": "2.0.0",
      "model_name": "HTMLModel",
      "state": {
       "layout": "IPY_MODEL_eeb49fdb8594480683e2b647fb7f7fea",
       "style": "IPY_MODEL_733c42e7211d4cb5997bd093376720fb",
       "value": "100%"
      }
     },
     "e3940234ec5344c0ae20c7927a964e0e": {
      "model_module": "@jupyter-widgets/controls",
      "model_module_version": "2.0.0",
      "model_name": "HTMLStyleModel",
      "state": {
       "description_width": "",
       "font_size": null,
       "text_color": null
      }
     },
     "e3d255f2792e470791db45b0bc1feeb7": {
      "model_module": "@jupyter-widgets/base",
      "model_module_version": "2.0.0",
      "model_name": "LayoutModel",
      "state": {}
     },
     "e45427ac54884db5bfd8ef648b508fc5": {
      "model_module": "@jupyter-widgets/controls",
      "model_module_version": "2.0.0",
      "model_name": "HTMLModel",
      "state": {
       "layout": "IPY_MODEL_b52d7fc5689247d6a46bb17247508831",
       "style": "IPY_MODEL_a77c36ea47f842e892189684a15e5d57",
       "value": " 18/18 [00:04&lt;00:00,  4.56it/s]"
      }
     },
     "e48788fce5ae43d789a5c6b8fa33b26d": {
      "model_module": "@jupyter-widgets/base",
      "model_module_version": "2.0.0",
      "model_name": "LayoutModel",
      "state": {}
     },
     "e4c0cfc032d14efba2ebb76ac8b2dd62": {
      "model_module": "@jupyter-widgets/controls",
      "model_module_version": "2.0.0",
      "model_name": "HTMLModel",
      "state": {
       "layout": "IPY_MODEL_cbfe59fe0c174517a5a73d5e62bb42fe",
       "style": "IPY_MODEL_6f518848edbd41d8855bc03da91f6d60",
       "value": "100%"
      }
     },
     "e51dcdfd6c8a4d738cd002d9398e3914": {
      "model_module": "@jupyter-widgets/controls",
      "model_module_version": "2.0.0",
      "model_name": "FloatProgressModel",
      "state": {
       "bar_style": "success",
       "layout": "IPY_MODEL_b341a0f268364941ad8a7712b24c551d",
       "max": 30,
       "style": "IPY_MODEL_2444671acdb44c96b108a04f1ffefd48",
       "value": 30
      }
     },
     "e5410f0baf2045f0afa916320f47bb59": {
      "model_module": "@jupyter-widgets/controls",
      "model_module_version": "2.0.0",
      "model_name": "ProgressStyleModel",
      "state": {
       "description_width": ""
      }
     },
     "e62c96be069b49a3b10aa13e0cf4ca7b": {
      "model_module": "@jupyter-widgets/base",
      "model_module_version": "2.0.0",
      "model_name": "LayoutModel",
      "state": {}
     },
     "e6640e35903040ddb9deb5a553491ca9": {
      "model_module": "@jupyter-widgets/controls",
      "model_module_version": "2.0.0",
      "model_name": "HBoxModel",
      "state": {
       "children": [
        "IPY_MODEL_a62015fb6a834c92a002ede22d9b7cd6",
        "IPY_MODEL_de5181a170e3479f9a5510b3c404306e",
        "IPY_MODEL_b2eb198b0c2d4c22a9cb1edb22b896d0"
       ],
       "layout": "IPY_MODEL_54156c3bb2c5410d84cfc374b7420f09"
      }
     },
     "e6b0c2dda43f41aab5c380be922bdff6": {
      "model_module": "@jupyter-widgets/controls",
      "model_module_version": "2.0.0",
      "model_name": "HTMLModel",
      "state": {
       "layout": "IPY_MODEL_a2479e9654ec4e8aa3b0389d2856c1cc",
       "style": "IPY_MODEL_ef9e8c1b29ca43ea8fbcbb5b0b75515a",
       "value": "100%"
      }
     },
     "e7544e57ad8e495b829157befa62c0b1": {
      "model_module": "@jupyter-widgets/controls",
      "model_module_version": "2.0.0",
      "model_name": "FloatProgressModel",
      "state": {
       "bar_style": "success",
       "layout": "IPY_MODEL_5120f66ed21743ad843901713eece5b7",
       "max": 30,
       "style": "IPY_MODEL_44b0dfa727704693afbbe28362318bea",
       "value": 30
      }
     },
     "e76135692caa4bfbb0faf4dfa9562538": {
      "model_module": "@jupyter-widgets/base",
      "model_module_version": "2.0.0",
      "model_name": "LayoutModel",
      "state": {}
     },
     "e799fa0ab4a541f5a48305583574e2dd": {
      "model_module": "@jupyter-widgets/controls",
      "model_module_version": "2.0.0",
      "model_name": "HTMLModel",
      "state": {
       "layout": "IPY_MODEL_c8194961cc0f4e08bf28e823a8413b29",
       "style": "IPY_MODEL_ae45f2237ad940559b20029eebc7c249",
       "value": "100%"
      }
     },
     "e7c24a9428e64acf97c0e056841ba03e": {
      "model_module": "@jupyter-widgets/base",
      "model_module_version": "2.0.0",
      "model_name": "LayoutModel",
      "state": {}
     },
     "e7c36bd527df4bd98a57c0774801b6b5": {
      "model_module": "@jupyter-widgets/controls",
      "model_module_version": "2.0.0",
      "model_name": "HTMLModel",
      "state": {
       "layout": "IPY_MODEL_c3abfd78b1654eaf99768acc5836f9b1",
       "style": "IPY_MODEL_f6e1e51c594142ed935cac478aee8b80",
       "value": "100%"
      }
     },
     "e82a0b810a624a569aa1ceb088272ef5": {
      "model_module": "@jupyter-widgets/base",
      "model_module_version": "2.0.0",
      "model_name": "LayoutModel",
      "state": {}
     },
     "e8a31ae70ecb47ce8a00b3338a02f1cc": {
      "model_module": "@jupyter-widgets/controls",
      "model_module_version": "2.0.0",
      "model_name": "HTMLModel",
      "state": {
       "layout": "IPY_MODEL_c33c3699074f4b31b7128e87f9455ff3",
       "style": "IPY_MODEL_f613797f97d34a729a2ffa96d7d9fc47",
       "value": " 16/16 [00:01&lt;00:00, 15.25it/s]"
      }
     },
     "e963885f19d94670b2f7770c2d34992f": {
      "model_module": "@jupyter-widgets/controls",
      "model_module_version": "2.0.0",
      "model_name": "FloatProgressModel",
      "state": {
       "bar_style": "success",
       "layout": "IPY_MODEL_d984094c32fa4bd2a259c5c9ae0f5c2d",
       "max": 16,
       "style": "IPY_MODEL_ccc09a6cb3a84391b471c77670c4beb5",
       "value": 16
      }
     },
     "e97c96a2ff194130a8f248f762c88142": {
      "model_module": "@jupyter-widgets/base",
      "model_module_version": "2.0.0",
      "model_name": "LayoutModel",
      "state": {}
     },
     "e9eb817bf3544a8ca6f84268a324b8f2": {
      "model_module": "@jupyter-widgets/controls",
      "model_module_version": "2.0.0",
      "model_name": "HTMLModel",
      "state": {
       "layout": "IPY_MODEL_33e3d2b913e448488f579019e5ede3a6",
       "style": "IPY_MODEL_1d1b5a4caed14826bfb3be0060b2c71f",
       "value": "100%"
      }
     },
     "e9f5801e3f62474fad31aee0b893689f": {
      "model_module": "@jupyter-widgets/controls",
      "model_module_version": "2.0.0",
      "model_name": "HBoxModel",
      "state": {
       "children": [
        "IPY_MODEL_a93cbe32261b4ea0a0af4ce26fbb8ad9",
        "IPY_MODEL_3073cd4020e048fda3642b7e7aa10bba",
        "IPY_MODEL_72bbd64717f34ef28ce17740af265bad"
       ],
       "layout": "IPY_MODEL_c6992862a6ad4491909ec1ed5eaf589a"
      }
     },
     "ea2c704d3bdd492f94246f2b2b8db301": {
      "model_module": "@jupyter-widgets/controls",
      "model_module_version": "2.0.0",
      "model_name": "HTMLStyleModel",
      "state": {
       "description_width": "",
       "font_size": null,
       "text_color": null
      }
     },
     "ea5fa654977d4b1096d880e924546702": {
      "model_module": "@jupyter-widgets/base",
      "model_module_version": "2.0.0",
      "model_name": "LayoutModel",
      "state": {}
     },
     "ea71ada05b7f44e0a21929ec44d8a23b": {
      "model_module": "@jupyter-widgets/controls",
      "model_module_version": "2.0.0",
      "model_name": "HTMLStyleModel",
      "state": {
       "description_width": "",
       "font_size": null,
       "text_color": null
      }
     },
     "eae14e2b02ba465b831fa3cc73658739": {
      "model_module": "@jupyter-widgets/controls",
      "model_module_version": "2.0.0",
      "model_name": "HTMLStyleModel",
      "state": {
       "description_width": "",
       "font_size": null,
       "text_color": null
      }
     },
     "eb3a9d0aa19841789680767b0aa07549": {
      "model_module": "@jupyter-widgets/base",
      "model_module_version": "2.0.0",
      "model_name": "LayoutModel",
      "state": {}
     },
     "eb48d8fae34b43e480f8e473dcdfd35c": {
      "model_module": "@jupyter-widgets/controls",
      "model_module_version": "2.0.0",
      "model_name": "ProgressStyleModel",
      "state": {
       "description_width": ""
      }
     },
     "eb5cc1250b874a12950ad682bf67a5d7": {
      "model_module": "@jupyter-widgets/controls",
      "model_module_version": "2.0.0",
      "model_name": "HTMLModel",
      "state": {
       "layout": "IPY_MODEL_e09ab89840184bacb3f8e2918cbbfd60",
       "style": "IPY_MODEL_283ae1b3315544e99ffc846824c1c776",
       "value": " 30/30 [00:05&lt;00:00,  5.87it/s]"
      }
     },
     "eb5e366aa8bb4d07b9ec3b682eab7c2a": {
      "model_module": "@jupyter-widgets/controls",
      "model_module_version": "2.0.0",
      "model_name": "HTMLModel",
      "state": {
       "layout": "IPY_MODEL_00ac5dfbbead45509b281098c30ed9f3",
       "style": "IPY_MODEL_a8259e138f2d4f15a47ee5ba6c09850f",
       "value": "100%"
      }
     },
     "ec138f3dc16447c3af60aa262ee22ef5": {
      "model_module": "@jupyter-widgets/controls",
      "model_module_version": "2.0.0",
      "model_name": "HTMLStyleModel",
      "state": {
       "description_width": "",
       "font_size": null,
       "text_color": null
      }
     },
     "ec9ac10218ff44a98961d52036db31ae": {
      "model_module": "@jupyter-widgets/controls",
      "model_module_version": "2.0.0",
      "model_name": "HTMLModel",
      "state": {
       "layout": "IPY_MODEL_218faae1cafc4853b97d40ef5a7b1690",
       "style": "IPY_MODEL_237d62e121f84ad296eff7b32c866632",
       "value": "100%"
      }
     },
     "ecc61411c4014755a1623847e3c56d05": {
      "model_module": "@jupyter-widgets/controls",
      "model_module_version": "2.0.0",
      "model_name": "HTMLStyleModel",
      "state": {
       "description_width": "",
       "font_size": null,
       "text_color": null
      }
     },
     "eccc65b2bbc74fedacc1223a871087d2": {
      "model_module": "@jupyter-widgets/base",
      "model_module_version": "2.0.0",
      "model_name": "LayoutModel",
      "state": {}
     },
     "ecd5e614a3c647b083267c5864f3ee6e": {
      "model_module": "@jupyter-widgets/base",
      "model_module_version": "2.0.0",
      "model_name": "LayoutModel",
      "state": {}
     },
     "ed1f924f0ced4420b7ccb67420420336": {
      "model_module": "@jupyter-widgets/controls",
      "model_module_version": "2.0.0",
      "model_name": "HTMLStyleModel",
      "state": {
       "description_width": "",
       "font_size": null,
       "text_color": null
      }
     },
     "ed59dc2bbd354e4db8d04bc3b8aec106": {
      "model_module": "@jupyter-widgets/controls",
      "model_module_version": "2.0.0",
      "model_name": "ProgressStyleModel",
      "state": {
       "description_width": ""
      }
     },
     "ede9d472624a45eb83d83c4de1dda9c2": {
      "model_module": "@jupyter-widgets/controls",
      "model_module_version": "2.0.0",
      "model_name": "FloatProgressModel",
      "state": {
       "bar_style": "success",
       "layout": "IPY_MODEL_59140077d2e44f86b3d98c78c924d8dd",
       "max": 16,
       "style": "IPY_MODEL_4ae0295f5c7f4e37a8cb4f2c7a357be0",
       "value": 16
      }
     },
     "ee06d6def44f49429c1d16bd264713bf": {
      "model_module": "@jupyter-widgets/controls",
      "model_module_version": "2.0.0",
      "model_name": "HBoxModel",
      "state": {
       "children": [
        "IPY_MODEL_9be602877af14b74be72eb4a8b0e2b2a",
        "IPY_MODEL_7edfd0308a924b6e8ada35575b17ace6",
        "IPY_MODEL_3a3ad3b1f67d4614862e2c65f9300248"
       ],
       "layout": "IPY_MODEL_106cbc1420a54aa0a1ce3d06cb8a387c"
      }
     },
     "ee4c4cadbc5840c793c21478a1c0e716": {
      "model_module": "@jupyter-widgets/base",
      "model_module_version": "2.0.0",
      "model_name": "LayoutModel",
      "state": {}
     },
     "ee8cc04daac748f6bd764d77ac459904": {
      "model_module": "@jupyter-widgets/base",
      "model_module_version": "2.0.0",
      "model_name": "LayoutModel",
      "state": {}
     },
     "ee9a8b9902fe477db89c042149bc09fe": {
      "model_module": "@jupyter-widgets/controls",
      "model_module_version": "2.0.0",
      "model_name": "HTMLModel",
      "state": {
       "layout": "IPY_MODEL_9e996247955b4cf9964a8e631feb641e",
       "style": "IPY_MODEL_5e5f599242824523aeb35536d9ac02b9",
       "value": "100%"
      }
     },
     "eeb49fdb8594480683e2b647fb7f7fea": {
      "model_module": "@jupyter-widgets/base",
      "model_module_version": "2.0.0",
      "model_name": "LayoutModel",
      "state": {}
     },
     "ef2fb54f2e204686b5293d2bf5ded8ef": {
      "model_module": "@jupyter-widgets/base",
      "model_module_version": "2.0.0",
      "model_name": "LayoutModel",
      "state": {}
     },
     "ef6c1a0530c94c8f8de002c842d4ca8d": {
      "model_module": "@jupyter-widgets/controls",
      "model_module_version": "2.0.0",
      "model_name": "HTMLModel",
      "state": {
       "layout": "IPY_MODEL_2d54923844b14ba3953fc8caebac378c",
       "style": "IPY_MODEL_4fc1b2ebb9cd42a9b26333b1d75301e0",
       "value": " 30/30 [00:05&lt;00:00,  6.14it/s]"
      }
     },
     "ef9e8c1b29ca43ea8fbcbb5b0b75515a": {
      "model_module": "@jupyter-widgets/controls",
      "model_module_version": "2.0.0",
      "model_name": "HTMLStyleModel",
      "state": {
       "description_width": "",
       "font_size": null,
       "text_color": null
      }
     },
     "efa54dcc998c417da0644b0723c5cf67": {
      "model_module": "@jupyter-widgets/controls",
      "model_module_version": "2.0.0",
      "model_name": "HTMLStyleModel",
      "state": {
       "description_width": "",
       "font_size": null,
       "text_color": null
      }
     },
     "efc6248c865c4f1f9f1f416ddaad76d3": {
      "model_module": "@jupyter-widgets/base",
      "model_module_version": "2.0.0",
      "model_name": "LayoutModel",
      "state": {}
     },
     "f08b9a3de268445e9684f793923ef5a5": {
      "model_module": "@jupyter-widgets/base",
      "model_module_version": "2.0.0",
      "model_name": "LayoutModel",
      "state": {}
     },
     "f11935b0a4304261817dcff99c714231": {
      "model_module": "@jupyter-widgets/base",
      "model_module_version": "2.0.0",
      "model_name": "LayoutModel",
      "state": {}
     },
     "f1676073b8ce4606b2f38f1cde663b89": {
      "model_module": "@jupyter-widgets/controls",
      "model_module_version": "2.0.0",
      "model_name": "HTMLStyleModel",
      "state": {
       "description_width": "",
       "font_size": null,
       "text_color": null
      }
     },
     "f170d33a0e5b41e9b0bfd76a93e022bc": {
      "model_module": "@jupyter-widgets/controls",
      "model_module_version": "2.0.0",
      "model_name": "HTMLModel",
      "state": {
       "layout": "IPY_MODEL_1946be2c9cca4d809c2786433985fdd2",
       "style": "IPY_MODEL_a89b1cae5245492eb81fe6ca0f08d728",
       "value": " 14/14 [00:08&lt;00:00,  1.58it/s]"
      }
     },
     "f260e3c4f56d4b048edb459db363d2ad": {
      "model_module": "@jupyter-widgets/controls",
      "model_module_version": "2.0.0",
      "model_name": "HTMLStyleModel",
      "state": {
       "description_width": "",
       "font_size": null,
       "text_color": null
      }
     },
     "f3b1fea66e2f4c5c81ee1fc1ca1029d4": {
      "model_module": "@jupyter-widgets/base",
      "model_module_version": "2.0.0",
      "model_name": "LayoutModel",
      "state": {}
     },
     "f3fc6763c6d54d069229a70f39119a9c": {
      "model_module": "@jupyter-widgets/controls",
      "model_module_version": "2.0.0",
      "model_name": "HTMLStyleModel",
      "state": {
       "description_width": "",
       "font_size": null,
       "text_color": null
      }
     },
     "f41054ef7c5947c49d41689559b98202": {
      "model_module": "@jupyter-widgets/base",
      "model_module_version": "2.0.0",
      "model_name": "LayoutModel",
      "state": {}
     },
     "f41d9e04683248f8a069b7624f0529f5": {
      "model_module": "@jupyter-widgets/controls",
      "model_module_version": "2.0.0",
      "model_name": "HTMLStyleModel",
      "state": {
       "description_width": "",
       "font_size": null,
       "text_color": null
      }
     },
     "f4427cff65b746639b79a85d7132d47b": {
      "model_module": "@jupyter-widgets/base",
      "model_module_version": "2.0.0",
      "model_name": "LayoutModel",
      "state": {}
     },
     "f4d2d9940a8c4d64ad3159ec05dbb491": {
      "model_module": "@jupyter-widgets/controls",
      "model_module_version": "2.0.0",
      "model_name": "FloatProgressModel",
      "state": {
       "bar_style": "success",
       "layout": "IPY_MODEL_255249ab8b9c4d78acf307e491d6106b",
       "max": 16,
       "style": "IPY_MODEL_509f00daf312476c88df1f54f93535ff",
       "value": 16
      }
     },
     "f4e29270cec24adba232cd2bd17c1f33": {
      "model_module": "@jupyter-widgets/base",
      "model_module_version": "2.0.0",
      "model_name": "LayoutModel",
      "state": {}
     },
     "f5065a3b698d44ab98a510762f4d3b9d": {
      "model_module": "@jupyter-widgets/controls",
      "model_module_version": "2.0.0",
      "model_name": "FloatProgressModel",
      "state": {
       "bar_style": "success",
       "layout": "IPY_MODEL_9b8e0eb00c534d9a9664379fe4085a21",
       "max": 14,
       "style": "IPY_MODEL_2f2152a9113747829ae7ee17b0f04207",
       "value": 14
      }
     },
     "f5103173d9b34476b85a5948381eeeb3": {
      "model_module": "@jupyter-widgets/base",
      "model_module_version": "2.0.0",
      "model_name": "LayoutModel",
      "state": {}
     },
     "f56713dbce8349c28ad7ef7d709c927e": {
      "model_module": "@jupyter-widgets/base",
      "model_module_version": "2.0.0",
      "model_name": "LayoutModel",
      "state": {}
     },
     "f59abb55ed874e7a87b698d2644673bd": {
      "model_module": "@jupyter-widgets/controls",
      "model_module_version": "2.0.0",
      "model_name": "HTMLModel",
      "state": {
       "layout": "IPY_MODEL_b72fba39780a453a8051a9b420c40ff0",
       "style": "IPY_MODEL_83692d133cfb4bcf8bfd5777e3674e4d",
       "value": " 16/16 [00:09&lt;00:00,  1.72it/s]"
      }
     },
     "f5de9ce1f82a47b9a7cb4b340a931b7b": {
      "model_module": "@jupyter-widgets/controls",
      "model_module_version": "2.0.0",
      "model_name": "HTMLModel",
      "state": {
       "layout": "IPY_MODEL_7a32e3ed782748ceb14db8e11612d460",
       "style": "IPY_MODEL_435e12a943174e2e8cad69b68cdae28d",
       "value": " 0/16 [00:00&lt;?, ?it/s]"
      }
     },
     "f5e47ee1b991428ebc30e3b2863f926c": {
      "model_module": "@jupyter-widgets/base",
      "model_module_version": "2.0.0",
      "model_name": "LayoutModel",
      "state": {}
     },
     "f5fbd13afecc451c93acfcdf1681a5d9": {
      "model_module": "@jupyter-widgets/controls",
      "model_module_version": "2.0.0",
      "model_name": "HTMLStyleModel",
      "state": {
       "description_width": "",
       "font_size": null,
       "text_color": null
      }
     },
     "f61202c2d81c46acbbf4b90c4cd1309c": {
      "model_module": "@jupyter-widgets/controls",
      "model_module_version": "2.0.0",
      "model_name": "HTMLModel",
      "state": {
       "layout": "IPY_MODEL_df9bb705f8fb42fda1d7ea3f1bd96fbf",
       "style": "IPY_MODEL_73a91e70734443bd91f9a5c9751706b9",
       "value": " 16/16 [00:09&lt;00:00,  1.72it/s]"
      }
     },
     "f613797f97d34a729a2ffa96d7d9fc47": {
      "model_module": "@jupyter-widgets/controls",
      "model_module_version": "2.0.0",
      "model_name": "HTMLStyleModel",
      "state": {
       "description_width": "",
       "font_size": null,
       "text_color": null
      }
     },
     "f61e211df12449a59b2458bf83f013da": {
      "model_module": "@jupyter-widgets/base",
      "model_module_version": "2.0.0",
      "model_name": "LayoutModel",
      "state": {}
     },
     "f63391ea9437490cb3afbc9ae1c5de05": {
      "model_module": "@jupyter-widgets/controls",
      "model_module_version": "2.0.0",
      "model_name": "HBoxModel",
      "state": {
       "children": [
        "IPY_MODEL_1d98ee4e9bbb4b4da232a8807191783c",
        "IPY_MODEL_542f541b68ff43558d76d99560abc02f",
        "IPY_MODEL_67109ecc6ae14057ae4172877539601d"
       ],
       "layout": "IPY_MODEL_c4d47dc50b8e42cda8e259832adc98a9"
      }
     },
     "f63bbb665001407e9988a0a1e7374a77": {
      "model_module": "@jupyter-widgets/controls",
      "model_module_version": "2.0.0",
      "model_name": "HTMLStyleModel",
      "state": {
       "description_width": "",
       "font_size": null,
       "text_color": null
      }
     },
     "f6a5ee19289a46fda2324143aeaf3566": {
      "model_module": "@jupyter-widgets/controls",
      "model_module_version": "2.0.0",
      "model_name": "HBoxModel",
      "state": {
       "children": [
        "IPY_MODEL_fa52c93514bf48b6815779eeeedf52b8",
        "IPY_MODEL_f4d2d9940a8c4d64ad3159ec05dbb491",
        "IPY_MODEL_f61202c2d81c46acbbf4b90c4cd1309c"
       ],
       "layout": "IPY_MODEL_3df3d2659da044e4b69cf0e557dcaec0"
      }
     },
     "f6e1e51c594142ed935cac478aee8b80": {
      "model_module": "@jupyter-widgets/controls",
      "model_module_version": "2.0.0",
      "model_name": "HTMLStyleModel",
      "state": {
       "description_width": "",
       "font_size": null,
       "text_color": null
      }
     },
     "f6e326dd32304cfbb22a42529e5c4fbf": {
      "model_module": "@jupyter-widgets/controls",
      "model_module_version": "2.0.0",
      "model_name": "HTMLModel",
      "state": {
       "layout": "IPY_MODEL_9a7d61e98ee34dbbabc9c3e48ee8c207",
       "style": "IPY_MODEL_cc8b965577444883a51e4ac4512e15e7",
       "value": " 30/30 [00:05&lt;00:00,  5.97it/s]"
      }
     },
     "f70d9d2545b446938272ef5280534ba9": {
      "model_module": "@jupyter-widgets/base",
      "model_module_version": "2.0.0",
      "model_name": "LayoutModel",
      "state": {}
     },
     "f767b68db6624d789b4431852d6e01ed": {
      "model_module": "@jupyter-widgets/base",
      "model_module_version": "2.0.0",
      "model_name": "LayoutModel",
      "state": {}
     },
     "f7738b2f82754a11b34dd1f99bf0a2ac": {
      "model_module": "@jupyter-widgets/base",
      "model_module_version": "2.0.0",
      "model_name": "LayoutModel",
      "state": {}
     },
     "f7bfd7336701479a9e701193ca540f36": {
      "model_module": "@jupyter-widgets/controls",
      "model_module_version": "2.0.0",
      "model_name": "HTMLModel",
      "state": {
       "layout": "IPY_MODEL_f7738b2f82754a11b34dd1f99bf0a2ac",
       "style": "IPY_MODEL_c844fa77964d40909948bd06ad38ffba",
       "value": " 30/30 [00:05&lt;00:00,  5.91it/s]"
      }
     },
     "f7c74bfab3bd4a96806cfeb446b60f41": {
      "model_module": "@jupyter-widgets/controls",
      "model_module_version": "2.0.0",
      "model_name": "HBoxModel",
      "state": {
       "children": [
        "IPY_MODEL_52cd254ab52e4f1183c5f47bf204c45d",
        "IPY_MODEL_7dcb5d6ad2ac4551bbe9460b646dd0cb",
        "IPY_MODEL_64acbf6fe259404abe3fe4333ed059d1"
       ],
       "layout": "IPY_MODEL_2403fc83b5304ca3bb6ad46681a44254"
      }
     },
     "f7d1856e77e44b328463ceae05cef30e": {
      "model_module": "@jupyter-widgets/base",
      "model_module_version": "2.0.0",
      "model_name": "LayoutModel",
      "state": {}
     },
     "f815b5e6e7f948769d18ee86ffd12635": {
      "model_module": "@jupyter-widgets/controls",
      "model_module_version": "2.0.0",
      "model_name": "ProgressStyleModel",
      "state": {
       "description_width": ""
      }
     },
     "f844bc140a8a4fcab9db6738122793ef": {
      "model_module": "@jupyter-widgets/controls",
      "model_module_version": "2.0.0",
      "model_name": "HBoxModel",
      "state": {
       "children": [
        "IPY_MODEL_a78364820ea645b89c9054905c263bd2",
        "IPY_MODEL_1abfc2d2f8c2470c9c451c2e734da52a",
        "IPY_MODEL_4b801d1adad84628b3d52e1bf6fc6724"
       ],
       "layout": "IPY_MODEL_e2f9c914d90f42c0964f76943e064ea9"
      }
     },
     "f8f2ccc636a54105b1b00fc4cb36b2ba": {
      "model_module": "@jupyter-widgets/base",
      "model_module_version": "2.0.0",
      "model_name": "LayoutModel",
      "state": {}
     },
     "f94245373ef744529aff91753ab7b770": {
      "model_module": "@jupyter-widgets/base",
      "model_module_version": "2.0.0",
      "model_name": "LayoutModel",
      "state": {}
     },
     "f953deb37e6b46e095325a6e89749987": {
      "model_module": "@jupyter-widgets/base",
      "model_module_version": "2.0.0",
      "model_name": "LayoutModel",
      "state": {}
     },
     "f9ca17dae96844d4b67b4f4bab9e9cf5": {
      "model_module": "@jupyter-widgets/controls",
      "model_module_version": "2.0.0",
      "model_name": "HBoxModel",
      "state": {
       "children": [
        "IPY_MODEL_eb5e366aa8bb4d07b9ec3b682eab7c2a",
        "IPY_MODEL_bc8ce2efffd74e599945622c427042ad",
        "IPY_MODEL_ae08032a20354d54a130d3e4de7676e7"
       ],
       "layout": "IPY_MODEL_0066c17d04c5409eaf9387801aeaada1"
      }
     },
     "f9d7ded4db414a8f8364edd8c1faef7a": {
      "model_module": "@jupyter-widgets/controls",
      "model_module_version": "2.0.0",
      "model_name": "HTMLModel",
      "state": {
       "layout": "IPY_MODEL_1f218d334e554381811789332c73a46a",
       "style": "IPY_MODEL_98769807c81a430e8ce6c6473e6c863e",
       "value": "100%"
      }
     },
     "f9e6e1e8c7d04d7bafdb938f98ac6e03": {
      "model_module": "@jupyter-widgets/base",
      "model_module_version": "2.0.0",
      "model_name": "LayoutModel",
      "state": {}
     },
     "f9f036de13d846fca313419d60303eff": {
      "model_module": "@jupyter-widgets/controls",
      "model_module_version": "2.0.0",
      "model_name": "HTMLStyleModel",
      "state": {
       "description_width": "",
       "font_size": null,
       "text_color": null
      }
     },
     "fa08e114e6bb47149ad11d2ea64029c3": {
      "model_module": "@jupyter-widgets/controls",
      "model_module_version": "2.0.0",
      "model_name": "HTMLModel",
      "state": {
       "layout": "IPY_MODEL_115a52539ecf42f3bc89c947a33533f9",
       "style": "IPY_MODEL_ecc61411c4014755a1623847e3c56d05",
       "value": " 30/30 [00:05&lt;00:00,  6.13it/s]"
      }
     },
     "fa52c93514bf48b6815779eeeedf52b8": {
      "model_module": "@jupyter-widgets/controls",
      "model_module_version": "2.0.0",
      "model_name": "HTMLModel",
      "state": {
       "layout": "IPY_MODEL_b6f85cdb9ffd4b80b8eef5bf9f4a3306",
       "style": "IPY_MODEL_d2fe47d7efe144bf8b1bc2d595b203ed",
       "value": "100%"
      }
     },
     "fa7300a711f542d4808ca40fa2e5833b": {
      "model_module": "@jupyter-widgets/base",
      "model_module_version": "2.0.0",
      "model_name": "LayoutModel",
      "state": {}
     },
     "fae61fa4f6b745e19c09eb635dbadbf3": {
      "model_module": "@jupyter-widgets/controls",
      "model_module_version": "2.0.0",
      "model_name": "HBoxModel",
      "state": {
       "children": [
        "IPY_MODEL_9edcc94a0e0a40538bfd6a65bc4e60a6",
        "IPY_MODEL_66f5040beae4444f92809201c3498d49",
        "IPY_MODEL_1607c741e37e41d5bc3d2ed96c27dc54"
       ],
       "layout": "IPY_MODEL_719ed5708faf411aa42ef3058a078020"
      }
     },
     "faeff451b8ca48a280b3f75aba0b8983": {
      "model_module": "@jupyter-widgets/controls",
      "model_module_version": "2.0.0",
      "model_name": "FloatProgressModel",
      "state": {
       "bar_style": "success",
       "layout": "IPY_MODEL_387bd3b6e0e14121ad385af73dcd5561",
       "max": 18,
       "style": "IPY_MODEL_013e3e94ac854f91b5cf620fc6cc6e97",
       "value": 18
      }
     },
     "fb85be6b1266468d8e9a5c5caf0e3785": {
      "model_module": "@jupyter-widgets/controls",
      "model_module_version": "2.0.0",
      "model_name": "HBoxModel",
      "state": {
       "children": [
        "IPY_MODEL_fe761573d30e43999824aa2c37ebf90e",
        "IPY_MODEL_cb62868009024c0e9f9e45e2cccccbee",
        "IPY_MODEL_dc0a2251dad54275a316cff21b56cd67"
       ],
       "layout": "IPY_MODEL_498479d302fe4f839a59a1dfc6e85fa0"
      }
     },
     "fbcfba1a6bcf4dd1a6db3ad0cdea6745": {
      "model_module": "@jupyter-widgets/base",
      "model_module_version": "2.0.0",
      "model_name": "LayoutModel",
      "state": {}
     },
     "fbe22489595344278104ffc0b596dd98": {
      "model_module": "@jupyter-widgets/controls",
      "model_module_version": "2.0.0",
      "model_name": "ProgressStyleModel",
      "state": {
       "description_width": ""
      }
     },
     "fc0233b7b05b4881b91d92a29f4bdd1b": {
      "model_module": "@jupyter-widgets/base",
      "model_module_version": "2.0.0",
      "model_name": "LayoutModel",
      "state": {}
     },
     "fc1e58ade2284e27897cdc03662028ad": {
      "model_module": "@jupyter-widgets/controls",
      "model_module_version": "2.0.0",
      "model_name": "HBoxModel",
      "state": {
       "children": [
        "IPY_MODEL_980b99373ac041cd9610f1705ef5e9a7",
        "IPY_MODEL_65d05877fff547c18703151156b387ef",
        "IPY_MODEL_de9174ba851347e59a6075928e468fd8"
       ],
       "layout": "IPY_MODEL_47793a0742ae4b31a39e0eaf40c81d17"
      }
     },
     "fc89695dca5d44bfa11e00133a8d81c3": {
      "model_module": "@jupyter-widgets/base",
      "model_module_version": "2.0.0",
      "model_name": "LayoutModel",
      "state": {}
     },
     "fcf83876f7d64bd1afcc5136abd10d3e": {
      "model_module": "@jupyter-widgets/base",
      "model_module_version": "2.0.0",
      "model_name": "LayoutModel",
      "state": {}
     },
     "fd37564357f642d294102166a7378aec": {
      "model_module": "@jupyter-widgets/base",
      "model_module_version": "2.0.0",
      "model_name": "LayoutModel",
      "state": {}
     },
     "fe761573d30e43999824aa2c37ebf90e": {
      "model_module": "@jupyter-widgets/controls",
      "model_module_version": "2.0.0",
      "model_name": "HTMLModel",
      "state": {
       "layout": "IPY_MODEL_d6102190099442d78fede1f96337ba47",
       "style": "IPY_MODEL_505134c9f93b422c8b9ddeb983ff0564",
       "value": "100%"
      }
     },
     "ff1ba3d5ea504cd88f36128d95771c30": {
      "model_module": "@jupyter-widgets/controls",
      "model_module_version": "2.0.0",
      "model_name": "HTMLModel",
      "state": {
       "layout": "IPY_MODEL_ea5fa654977d4b1096d880e924546702",
       "style": "IPY_MODEL_b3935d0c9eee41d8ba56f403de618eaa",
       "value": "100%"
      }
     },
     "ff7cfa12e4ae4d5289c231ecdbd00aef": {
      "model_module": "@jupyter-widgets/base",
      "model_module_version": "2.0.0",
      "model_name": "LayoutModel",
      "state": {}
     },
     "ffdb6c43a5af445d8da97100ecc5e25d": {
      "model_module": "@jupyter-widgets/controls",
      "model_module_version": "2.0.0",
      "model_name": "FloatProgressModel",
      "state": {
       "bar_style": "success",
       "layout": "IPY_MODEL_fa7300a711f542d4808ca40fa2e5833b",
       "max": 30,
       "style": "IPY_MODEL_46d2172524fc4a859df7bf7ff646f6cf",
       "value": 30
      }
     },
     "ffe80af14beb42f3b356f216ca12f259": {
      "model_module": "@jupyter-widgets/base",
      "model_module_version": "2.0.0",
      "model_name": "LayoutModel",
      "state": {}
     },
     "ffee8f3beffc46ba8d381837b355c866": {
      "model_module": "@jupyter-widgets/controls",
      "model_module_version": "2.0.0",
      "model_name": "HTMLModel",
      "state": {
       "layout": "IPY_MODEL_9ba978d4ee134ead9a451b682af89d6c",
       "style": "IPY_MODEL_ea2c704d3bdd492f94246f2b2b8db301",
       "value": " 16/16 [00:06&lt;00:00,  2.59it/s]"
      }
     },
     "fff3424e2a9e4ac885b9576d3ebb78ea": {
      "model_module": "@jupyter-widgets/base",
      "model_module_version": "2.0.0",
      "model_name": "LayoutModel",
      "state": {}
     }
    },
    "version_major": 2,
    "version_minor": 0
   }
  }
 },
 "nbformat": 4,
 "nbformat_minor": 5
}
