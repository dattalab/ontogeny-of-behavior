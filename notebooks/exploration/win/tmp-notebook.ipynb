{
 "cells": [
  {
   "cell_type": "code",
   "execution_count": 1,
   "metadata": {},
   "outputs": [],
   "source": [
    "import pandas as pd"
   ]
  },
  {
   "cell_type": "code",
   "execution_count": 2,
   "metadata": {},
   "outputs": [],
   "source": [
    "df = pd.read_parquet('/n/groups/datta/win/longtogeny/data/ontogeny/version_08/longtogeny_v2_females_syllable_df_v00.parquet')"
   ]
  },
  {
   "cell_type": "code",
   "execution_count": 3,
   "metadata": {},
   "outputs": [
    {
     "data": {
      "text/plain": [
       "<StringArray>\n",
       "['F3_01_63', 'F5_04_38', 'F3_01_37', 'F4_01_28', 'F2_04_14', 'F4_02_35',\n",
       " 'F4_03_66', 'F2_04_79', 'F2_02_19', 'F3_01_17',\n",
       " ...\n",
       " 'F2_02_48', 'F1_02_59', 'F3_02_51', 'F4_04_15', 'F1_02_66', 'F4_03_67',\n",
       " 'F2_04_12', 'F4_03_48', 'F1_03_19', 'F1_02_53']\n",
       "Length: 1407, dtype: string"
      ]
     },
     "execution_count": 3,
     "metadata": {},
     "output_type": "execute_result"
    }
   ],
   "source": [
    "df['subject_name'].unique()"
   ]
  },
  {
   "cell_type": "code",
   "execution_count": null,
   "metadata": {},
   "outputs": [],
   "source": [
    "def mouse_map(string):\n",
    "    '''returns mouse identity'''\n",
    "    if 'ong4' in string:\n",
    "        return '04'+m\n",
    "    if 'ong3' in string:\n",
    "        return '03'+m\n",
    "    if 'ong2' in string:\n",
    "        return '02'+m\n",
    "    if 'ong1' in string:\n",
    "        return '01'+m\n",
    "    return string[:5]\n"
   ]
  }
 ],
 "metadata": {
  "kernelspec": {
   "display_name": "aging",
   "language": "python",
   "name": "python3"
  },
  "language_info": {
   "codemirror_mode": {
    "name": "ipython",
    "version": 3
   },
   "file_extension": ".py",
   "mimetype": "text/x-python",
   "name": "python",
   "nbconvert_exporter": "python",
   "pygments_lexer": "ipython3",
   "version": "3.10.10"
  }
 },
 "nbformat": 4,
 "nbformat_minor": 2
}
