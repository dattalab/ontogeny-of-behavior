{
 "cells": [
  {
   "cell_type": "code",
   "execution_count": 1,
   "id": "fea1ffa2-cd9f-4be6-9b9e-1d1a11723968",
   "metadata": {},
   "outputs": [],
   "source": [
    "import numpy as np\n",
    "import pandas as pd\n",
    "import seaborn as sns\n",
    "import matplotlib.pyplot as plt\n",
    "from aging.plotting import figure, format_plots, PlotConfig"
   ]
  },
  {
   "cell_type": "code",
   "execution_count": 2,
   "id": "cceefc08-847a-4bbd-87ba-8316b3b391f2",
   "metadata": {},
   "outputs": [],
   "source": [
    "format_plots()\n",
    "c = PlotConfig()"
   ]
  },
  {
   "cell_type": "code",
   "execution_count": 3,
   "id": "7cf85ad7-c039-4fee-b9fc-32bda75ae628",
   "metadata": {},
   "outputs": [],
   "source": [
    "def minmax(df):\n",
    "    df = df - df.min()\n",
    "    return df / df.max()"
   ]
  },
  {
   "cell_type": "code",
   "execution_count": 4,
   "id": "03a98f08-73e7-402d-9d45-ab0bbd42c939",
   "metadata": {},
   "outputs": [],
   "source": [
    "syllable_classes = pd.read_csv('./v11_syllable_labels_v2.csv')"
   ]
  },
  {
   "cell_type": "code",
   "execution_count": 5,
   "id": "20baa0da-daa0-465d-a136-5a649739226d",
   "metadata": {},
   "outputs": [],
   "source": [
    "id_map = syllable_classes.set_index('Original ID')['Class']"
   ]
  },
  {
   "cell_type": "code",
   "execution_count": 6,
   "id": "9b589859-ff05-4424-84ac-561b9e936173",
   "metadata": {},
   "outputs": [],
   "source": [
    "colors = ['#c7eae5','#008C8D']\n",
    "male_cmap = sns.blend_palette(colors, as_cmap=True)\n",
    "colors = ['#fee6ce','#d94801']\n",
    "female_cmap = sns.blend_palette(colors, as_cmap=True)"
   ]
  },
  {
   "cell_type": "code",
   "execution_count": 7,
   "id": "1e17dc93-5303-47ce-93ea-9208a8d4c87b",
   "metadata": {},
   "outputs": [],
   "source": [
    "cmapmap = {\n",
    "    'ont_males': male_cmap,\n",
    "    'ont_females': female_cmap,\n",
    "    'long_v2_male': male_cmap,\n",
    "    'long_v2_female': female_cmap,\n",
    "}"
   ]
  },
  {
   "cell_type": "code",
   "execution_count": 8,
   "id": "5b5e17e2-a129-4eb8-aac0-fa80c85e69cf",
   "metadata": {},
   "outputs": [],
   "source": [
    "df = pd.read_parquet('/n/groups/datta/win/longtogeny/data/ontogeny/version_11/ontogeny_males_raw_usage_matrix_v00.parquet').astype(float)\n",
    "keep_syllables = np.loadtxt('/n/groups/datta/win/longtogeny/data/ontogeny/version_11/to_keep_syllables_raw.txt', dtype=int)\n",
    "df = df[keep_syllables]\n",
    "df['exp'] = 'ont_males'\n",
    "df = df.set_index('exp', append=True)\n",
    "# df = minmax(df)"
   ]
  },
  {
   "cell_type": "code",
   "execution_count": 9,
   "id": "063f3abc-01ee-4bcf-bc7a-be7bc2f1bc0b",
   "metadata": {},
   "outputs": [],
   "source": [
    "class_sort = [id_map[k] for k in df.columns]"
   ]
  },
  {
   "cell_type": "code",
   "execution_count": 10,
   "id": "a3714472-6e59-4527-9f19-c847091e5db7",
   "metadata": {},
   "outputs": [],
   "source": [
    "class_avgs = {}\n",
    "class_norm_avgs = {}\n",
    "for _class, _df in df.T.groupby(class_sort):\n",
    "    avgs = _df.T.groupby('age').mean()\n",
    "    class_avgs[_class] = avgs.mean(1)\n",
    "\n",
    "    norm_avgs = minmax(avgs)\n",
    "\n",
    "    peaks = (\n",
    "        norm_avgs.rolling(7, min_periods=1, center=True, win_type=\"exponential\")\n",
    "        .mean(tau=3)\n",
    "        .idxmax()\n",
    "    )\n",
    "    peaks = peaks.sort_values()\n",
    "    class_norm_avgs[_class] = norm_avgs.mean(1)\n",
    "\n",
    "    ages = avgs.index\n",
    "\n",
    "    fig = figure(2, 0.075 * avgs.shape[1])\n",
    "    plt.imshow(norm_avgs[peaks.index].T, cmap='cubehelix', extent=(ages[0], ages[-1], avgs.shape[1], 0), aspect='auto')\n",
    "    plt.title(_class)\n",
    "    plt.colorbar(label=\"Normalized usage\")\n",
    "    plt.yticks([])\n",
    "    plt.xlabel(\"Age (weeks)\")\n",
    "    #sns.despine()\n",
    "    fig.savefig(c.dana_save_path / \"fig2\"/ f'male_class-{_class}.pdf')\n",
    "    "
   ]
  },
  {
   "cell_type": "code",
   "execution_count": 11,
   "id": "78d3180c-72ac-4a8a-bd39-44e517afee5d",
   "metadata": {},
   "outputs": [],
   "source": [
    "class_df = pd.DataFrame(class_norm_avgs)\n",
    "peaks = (\n",
    "    class_df.rolling(7, min_periods=1, center=True, win_type=\"exponential\")\n",
    "    .mean(tau=3)\n",
    "    .idxmax()\n",
    ")\n",
    "peaks = peaks.sort_values()"
   ]
  },
  {
   "cell_type": "code",
   "execution_count": 12,
   "id": "91c4a537",
   "metadata": {},
   "outputs": [],
   "source": [
    "col_order = ['Pause', 'Scrunch', 'Groom', 'Rear down','Rear up','Run','Investigate','Walk']\n",
    "class_df_new = class_df.reindex(columns=col_order)"
   ]
  },
  {
   "cell_type": "code",
   "execution_count": 13,
   "id": "1573745c-cf6f-4f24-b43e-5ee0d452fed0",
   "metadata": {},
   "outputs": [],
   "source": [
    "format_plots()\n",
    "fig, ax = plt.subplots(figsize=(1.3, 1.3))\n",
    "sns.heatmap(minmax(class_df_new).T, cmap='cubehelix', vmax=1, cbar_kws=dict(label='Normalized usage'))"
   ]
  },
  {
   "cell_type": "code",
   "execution_count": 14,
   "id": "8390e277",
   "metadata": {},
   "outputs": [],
   "source": [
    "format_plots()\n",
    "fig, ax = plt.subplots(figsize=(1.3, 1.3))\n",
    "sns.heatmap(class_df_new.T, cmap='cubehelix', vmax=0.75, cbar_kws=dict(label='Normalized usage'))"
   ]
  },
  {
   "cell_type": "code",
   "execution_count": 15,
   "id": "4dc016b5",
   "metadata": {},
   "outputs": [],
   "source": [
    "c = PlotConfig()\n",
    "fig.savefig(c.dana_save_path / \"fig2\"/ 'male_syll_clusters_avg.pdf')"
   ]
  },
  {
   "cell_type": "markdown",
   "id": "ace299a9",
   "metadata": {},
   "source": [
    "## for females"
   ]
  },
  {
   "cell_type": "code",
   "execution_count": 16,
   "id": "4838f6a5-ad13-42c1-a04a-08d227ed1570",
   "metadata": {},
   "outputs": [],
   "source": [
    "_df = pd.read_parquet(\n",
    "    \"/n/groups/datta/win/longtogeny/data/ontogeny/version_11/ontogeny_females_raw_usage_matrix_v00.parquet\"\n",
    ").astype(float)\n",
    "_df = _df[keep_syllables]\n",
    "_df = _df.query(\"age < 100\")\n",
    "_df[\"exp\"] = \"ont_females\"\n",
    "_df = _df.set_index(\"exp\", append=True)"
   ]
  },
  {
   "cell_type": "code",
   "execution_count": 17,
   "id": "c13dc455-b731-47c3-a035-83a2546c5e56",
   "metadata": {},
   "outputs": [],
   "source": [
    "class_sort = [id_map[k] for k in _df.columns]"
   ]
  },
  {
   "cell_type": "code",
   "execution_count": 25,
   "id": "a2608de7-98b7-4410-847b-ee5895fe0ee6",
   "metadata": {},
   "outputs": [],
   "source": [
    "class_avgs = {}\n",
    "class_norm_avgs = {}\n",
    "for _class, __df in _df.T.groupby(class_sort):\n",
    "    avgs = __df.T.groupby('age').mean()\n",
    "    class_avgs[_class] = avgs.mean(1)\n",
    "\n",
    "    norm_avgs = minmax(avgs)\n",
    "\n",
    "    peaks = (\n",
    "        norm_avgs.rolling(7, min_periods=1, center=True, win_type=\"exponential\")\n",
    "        .mean(tau=3)\n",
    "        .idxmax()\n",
    "    )\n",
    "    peaks = peaks.sort_values()\n",
    "    class_norm_avgs[_class] = norm_avgs.mean(1)\n",
    "\n",
    "    ages = avgs.index\n",
    "\n",
    "    fig = figure(2, 0.075 * avgs.shape[1])\n",
    "    plt.imshow(norm_avgs[peaks.index].T, cmap='cubehelix', extent=(ages[0], ages[-1], avgs.shape[1], 0), aspect='auto')\n",
    "    plt.title(_class)\n",
    "    plt.colorbar(label=\"Normalized usage\")\n",
    "    plt.yticks([])\n",
    "    plt.xlabel(\"Age (weeks)\")\n",
    "    fig.savefig(c.dana_save_path / \"fig3\"/ f'female_class-{_class}.pdf')"
   ]
  },
  {
   "cell_type": "code",
   "execution_count": 26,
   "id": "7c970279-9d50-49c8-9e7e-a8bb3ce28659",
   "metadata": {},
   "outputs": [],
   "source": [
    "class_df = pd.DataFrame(class_norm_avgs)\n",
    "peaks = (\n",
    "    class_df.rolling(7, min_periods=1, center=True, win_type=\"exponential\")\n",
    "    .mean(tau=3)\n",
    "    .idxmax()\n",
    ")\n",
    "peaks = peaks.sort_values()"
   ]
  },
  {
   "cell_type": "code",
   "execution_count": 27,
   "id": "22e8d73a-a20e-46d2-a633-0c4025ac46fe",
   "metadata": {},
   "outputs": [],
   "source": [
    "ax = minmax(class_df).rolling(7, min_periods=1, center=True, win_type=\"exponential\").mean(tau=2).plot()\n",
    "ax.set(xlabel=\"Age (weeks)\", ylabel=\"Normalized usage\")"
   ]
  },
  {
   "cell_type": "code",
   "execution_count": 28,
   "id": "d066bdab",
   "metadata": {},
   "outputs": [],
   "source": [
    "col_order = ['Pause', 'Scrunch', 'Groom', 'Rear down','Rear up','Run','Investigate','Walk']\n",
    "class_df_new = class_df.reindex(columns=col_order)"
   ]
  },
  {
   "cell_type": "code",
   "execution_count": 29,
   "id": "929683ef",
   "metadata": {},
   "outputs": [],
   "source": [
    "format_plots()\n",
    "fig, ax = plt.subplots(figsize=(1.3, 1.3))\n",
    "sns.heatmap(minmax(class_df_new).T, cmap='cubehelix', vmax=1, cbar_kws=dict(label='Normalized usage'))"
   ]
  },
  {
   "cell_type": "code",
   "execution_count": 30,
   "id": "9b0e63be",
   "metadata": {},
   "outputs": [],
   "source": [
    "format_plots()\n",
    "fig, ax = plt.subplots(figsize=(1.3, 1.3))\n",
    "sns.heatmap(class_df_new.T, cmap='cubehelix', vmax=0.75, cbar_kws=dict(label='Normalized usage'))"
   ]
  },
  {
   "cell_type": "code",
   "execution_count": 31,
   "id": "a82f9eda",
   "metadata": {},
   "outputs": [],
   "source": [
    "c = PlotConfig()\n",
    "fig.savefig(c.dana_save_path / \"fig3\"/ 'female_syll_clusters_avg.pdf')"
   ]
  },
  {
   "cell_type": "code",
   "execution_count": null,
   "id": "192e9eef",
   "metadata": {},
   "outputs": [],
   "source": []
  }
 ],
 "metadata": {
  "kernelspec": {
   "display_name": "Python 3 (ipykernel)",
   "language": "python",
   "name": "python3"
  },
  "language_info": {
   "codemirror_mode": {
    "name": "ipython",
    "version": 3
   },
   "file_extension": ".py",
   "mimetype": "text/x-python",
   "name": "python",
   "nbconvert_exporter": "python",
   "pygments_lexer": "ipython3",
   "version": "3.10.12"
  },
  "widgets": {
   "application/vnd.jupyter.widget-state+json": {
    "state": {},
    "version_major": 2,
    "version_minor": 0
   }
  }
 },
 "nbformat": 4,
 "nbformat_minor": 5
}
