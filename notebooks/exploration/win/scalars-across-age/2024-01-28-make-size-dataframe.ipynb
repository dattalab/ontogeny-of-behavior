{
 "cells": [
  {
   "cell_type": "markdown",
   "metadata": {},
   "source": [
    "# Make dataframe with distribution of sizes"
   ]
  },
  {
   "cell_type": "code",
   "execution_count": 1,
   "metadata": {},
   "outputs": [],
   "source": [
    "import polars as pl\n",
    "import numpy as np"
   ]
  },
  {
   "cell_type": "markdown",
   "metadata": {},
   "source": [
    "## Ontogeny males"
   ]
  },
  {
   "cell_type": "code",
   "execution_count": 2,
   "metadata": {},
   "outputs": [],
   "source": [
    "df = pl.scan_parquet('/n/groups/datta/win/longtogeny/data/ontogeny/version_11/ontogeny_males_syllable_df_v00.parquet')"
   ]
  },
  {
   "cell_type": "code",
   "execution_count": 2,
   "metadata": {},
   "outputs": [],
   "source": [
    "gb_list = ['age', 'mouse', 'subject_name', 'session_name', 'uuid', 'date']"
   ]
  },
  {
   "cell_type": "code",
   "execution_count": 4,
   "metadata": {},
   "outputs": [],
   "source": [
    "sizes = df.group_by(gb_list, maintain_order=True).agg(\n",
    "    *[\n",
    "        pl.col(\"area_px\").quantile(x).alias(f\"quant_{x:0.1f}\")\n",
    "        for x in np.arange(0.1, 1, 0.1)\n",
    "    ]\n",
    ")\n",
    "\n",
    "sizes = sizes.collect()\n",
    "sizes = sizes.to_pandas().set_index(gb_list)"
   ]
  },
  {
   "cell_type": "code",
   "execution_count": 5,
   "metadata": {},
   "outputs": [
    {
     "data": {
      "text/html": [
       "<div>\n",
       "<style scoped>\n",
       "    .dataframe tbody tr th:only-of-type {\n",
       "        vertical-align: middle;\n",
       "    }\n",
       "\n",
       "    .dataframe tbody tr th {\n",
       "        vertical-align: top;\n",
       "    }\n",
       "\n",
       "    .dataframe thead th {\n",
       "        text-align: right;\n",
       "    }\n",
       "</style>\n",
       "<table border=\"1\" class=\"dataframe\">\n",
       "  <thead>\n",
       "    <tr style=\"text-align: right;\">\n",
       "      <th></th>\n",
       "      <th></th>\n",
       "      <th></th>\n",
       "      <th></th>\n",
       "      <th></th>\n",
       "      <th></th>\n",
       "      <th>quant_0.1</th>\n",
       "      <th>quant_0.2</th>\n",
       "      <th>quant_0.3</th>\n",
       "      <th>quant_0.4</th>\n",
       "      <th>quant_0.5</th>\n",
       "      <th>quant_0.6</th>\n",
       "      <th>quant_0.7</th>\n",
       "      <th>quant_0.8</th>\n",
       "      <th>quant_0.9</th>\n",
       "    </tr>\n",
       "    <tr>\n",
       "      <th>age</th>\n",
       "      <th>mouse</th>\n",
       "      <th>subject_name</th>\n",
       "      <th>session_name</th>\n",
       "      <th>uuid</th>\n",
       "      <th>date</th>\n",
       "      <th></th>\n",
       "      <th></th>\n",
       "      <th></th>\n",
       "      <th></th>\n",
       "      <th></th>\n",
       "      <th></th>\n",
       "      <th></th>\n",
       "      <th></th>\n",
       "      <th></th>\n",
       "    </tr>\n",
       "  </thead>\n",
       "  <tbody>\n",
       "    <tr>\n",
       "      <th rowspan=\"5\" valign=\"top\">12</th>\n",
       "      <th>12M_04_03</th>\n",
       "      <th>12M_04_03</th>\n",
       "      <th>otgy_12M_04</th>\n",
       "      <th>c2cefc36-82e0-4ddc-a56b-5c45ebeaa452</th>\n",
       "      <th>2023-12-02 18:35:24</th>\n",
       "      <td>468.0</td>\n",
       "      <td>502.0</td>\n",
       "      <td>528.0</td>\n",
       "      <td>549.0</td>\n",
       "      <td>570.0</td>\n",
       "      <td>592.0</td>\n",
       "      <td>616.0</td>\n",
       "      <td>646.0</td>\n",
       "      <td>688.0</td>\n",
       "    </tr>\n",
       "    <tr>\n",
       "      <th>12M_03_04</th>\n",
       "      <th>12M_03_04</th>\n",
       "      <th>otgy_12M_03</th>\n",
       "      <th>f59e2af9-71d0-492e-9f78-73ffecdb9ad4</th>\n",
       "      <th>2023-12-02 13:34:37</th>\n",
       "      <td>481.0</td>\n",
       "      <td>498.0</td>\n",
       "      <td>516.0</td>\n",
       "      <td>535.0</td>\n",
       "      <td>556.0</td>\n",
       "      <td>579.0</td>\n",
       "      <td>603.0</td>\n",
       "      <td>632.0</td>\n",
       "      <td>680.0</td>\n",
       "    </tr>\n",
       "    <tr>\n",
       "      <th>12M_01_02</th>\n",
       "      <th>12M_01_02</th>\n",
       "      <th>otgy_12M_01</th>\n",
       "      <th>eb4a613e-5aae-47e2-877d-30fe03cdb34b</th>\n",
       "      <th>2023-12-02 09:28:18</th>\n",
       "      <td>479.0</td>\n",
       "      <td>499.0</td>\n",
       "      <td>513.0</td>\n",
       "      <td>527.0</td>\n",
       "      <td>543.0</td>\n",
       "      <td>560.0</td>\n",
       "      <td>580.0</td>\n",
       "      <td>606.0</td>\n",
       "      <td>644.0</td>\n",
       "    </tr>\n",
       "    <tr>\n",
       "      <th>12M_03_01</th>\n",
       "      <th>12M_03_01</th>\n",
       "      <th>otgy_12M_03</th>\n",
       "      <th>83166f68-4012-4bc2-834c-bba962bea93b</th>\n",
       "      <th>2023-12-02 16:33:34</th>\n",
       "      <td>478.0</td>\n",
       "      <td>499.0</td>\n",
       "      <td>517.0</td>\n",
       "      <td>533.0</td>\n",
       "      <td>548.0</td>\n",
       "      <td>565.0</td>\n",
       "      <td>582.0</td>\n",
       "      <td>605.0</td>\n",
       "      <td>642.0</td>\n",
       "    </tr>\n",
       "    <tr>\n",
       "      <th>12M_01_04</th>\n",
       "      <th>12M_01_04</th>\n",
       "      <th>otgy_12M_01</th>\n",
       "      <th>87fbe972-825e-4b62-bb61-b97dcef93748</th>\n",
       "      <th>2023-12-02 09:29:02</th>\n",
       "      <td>459.0</td>\n",
       "      <td>487.0</td>\n",
       "      <td>507.0</td>\n",
       "      <td>524.0</td>\n",
       "      <td>542.0</td>\n",
       "      <td>561.0</td>\n",
       "      <td>582.0</td>\n",
       "      <td>609.0</td>\n",
       "      <td>653.0</td>\n",
       "    </tr>\n",
       "  </tbody>\n",
       "</table>\n",
       "</div>"
      ],
      "text/plain": [
       "                                                                                                  quant_0.1  \\\n",
       "age mouse     subject_name session_name uuid                                 date                             \n",
       "12  12M_04_03 12M_04_03    otgy_12M_04  c2cefc36-82e0-4ddc-a56b-5c45ebeaa452 2023-12-02 18:35:24      468.0   \n",
       "    12M_03_04 12M_03_04    otgy_12M_03  f59e2af9-71d0-492e-9f78-73ffecdb9ad4 2023-12-02 13:34:37      481.0   \n",
       "    12M_01_02 12M_01_02    otgy_12M_01  eb4a613e-5aae-47e2-877d-30fe03cdb34b 2023-12-02 09:28:18      479.0   \n",
       "    12M_03_01 12M_03_01    otgy_12M_03  83166f68-4012-4bc2-834c-bba962bea93b 2023-12-02 16:33:34      478.0   \n",
       "    12M_01_04 12M_01_04    otgy_12M_01  87fbe972-825e-4b62-bb61-b97dcef93748 2023-12-02 09:29:02      459.0   \n",
       "\n",
       "                                                                                                  quant_0.2  \\\n",
       "age mouse     subject_name session_name uuid                                 date                             \n",
       "12  12M_04_03 12M_04_03    otgy_12M_04  c2cefc36-82e0-4ddc-a56b-5c45ebeaa452 2023-12-02 18:35:24      502.0   \n",
       "    12M_03_04 12M_03_04    otgy_12M_03  f59e2af9-71d0-492e-9f78-73ffecdb9ad4 2023-12-02 13:34:37      498.0   \n",
       "    12M_01_02 12M_01_02    otgy_12M_01  eb4a613e-5aae-47e2-877d-30fe03cdb34b 2023-12-02 09:28:18      499.0   \n",
       "    12M_03_01 12M_03_01    otgy_12M_03  83166f68-4012-4bc2-834c-bba962bea93b 2023-12-02 16:33:34      499.0   \n",
       "    12M_01_04 12M_01_04    otgy_12M_01  87fbe972-825e-4b62-bb61-b97dcef93748 2023-12-02 09:29:02      487.0   \n",
       "\n",
       "                                                                                                  quant_0.3  \\\n",
       "age mouse     subject_name session_name uuid                                 date                             \n",
       "12  12M_04_03 12M_04_03    otgy_12M_04  c2cefc36-82e0-4ddc-a56b-5c45ebeaa452 2023-12-02 18:35:24      528.0   \n",
       "    12M_03_04 12M_03_04    otgy_12M_03  f59e2af9-71d0-492e-9f78-73ffecdb9ad4 2023-12-02 13:34:37      516.0   \n",
       "    12M_01_02 12M_01_02    otgy_12M_01  eb4a613e-5aae-47e2-877d-30fe03cdb34b 2023-12-02 09:28:18      513.0   \n",
       "    12M_03_01 12M_03_01    otgy_12M_03  83166f68-4012-4bc2-834c-bba962bea93b 2023-12-02 16:33:34      517.0   \n",
       "    12M_01_04 12M_01_04    otgy_12M_01  87fbe972-825e-4b62-bb61-b97dcef93748 2023-12-02 09:29:02      507.0   \n",
       "\n",
       "                                                                                                  quant_0.4  \\\n",
       "age mouse     subject_name session_name uuid                                 date                             \n",
       "12  12M_04_03 12M_04_03    otgy_12M_04  c2cefc36-82e0-4ddc-a56b-5c45ebeaa452 2023-12-02 18:35:24      549.0   \n",
       "    12M_03_04 12M_03_04    otgy_12M_03  f59e2af9-71d0-492e-9f78-73ffecdb9ad4 2023-12-02 13:34:37      535.0   \n",
       "    12M_01_02 12M_01_02    otgy_12M_01  eb4a613e-5aae-47e2-877d-30fe03cdb34b 2023-12-02 09:28:18      527.0   \n",
       "    12M_03_01 12M_03_01    otgy_12M_03  83166f68-4012-4bc2-834c-bba962bea93b 2023-12-02 16:33:34      533.0   \n",
       "    12M_01_04 12M_01_04    otgy_12M_01  87fbe972-825e-4b62-bb61-b97dcef93748 2023-12-02 09:29:02      524.0   \n",
       "\n",
       "                                                                                                  quant_0.5  \\\n",
       "age mouse     subject_name session_name uuid                                 date                             \n",
       "12  12M_04_03 12M_04_03    otgy_12M_04  c2cefc36-82e0-4ddc-a56b-5c45ebeaa452 2023-12-02 18:35:24      570.0   \n",
       "    12M_03_04 12M_03_04    otgy_12M_03  f59e2af9-71d0-492e-9f78-73ffecdb9ad4 2023-12-02 13:34:37      556.0   \n",
       "    12M_01_02 12M_01_02    otgy_12M_01  eb4a613e-5aae-47e2-877d-30fe03cdb34b 2023-12-02 09:28:18      543.0   \n",
       "    12M_03_01 12M_03_01    otgy_12M_03  83166f68-4012-4bc2-834c-bba962bea93b 2023-12-02 16:33:34      548.0   \n",
       "    12M_01_04 12M_01_04    otgy_12M_01  87fbe972-825e-4b62-bb61-b97dcef93748 2023-12-02 09:29:02      542.0   \n",
       "\n",
       "                                                                                                  quant_0.6  \\\n",
       "age mouse     subject_name session_name uuid                                 date                             \n",
       "12  12M_04_03 12M_04_03    otgy_12M_04  c2cefc36-82e0-4ddc-a56b-5c45ebeaa452 2023-12-02 18:35:24      592.0   \n",
       "    12M_03_04 12M_03_04    otgy_12M_03  f59e2af9-71d0-492e-9f78-73ffecdb9ad4 2023-12-02 13:34:37      579.0   \n",
       "    12M_01_02 12M_01_02    otgy_12M_01  eb4a613e-5aae-47e2-877d-30fe03cdb34b 2023-12-02 09:28:18      560.0   \n",
       "    12M_03_01 12M_03_01    otgy_12M_03  83166f68-4012-4bc2-834c-bba962bea93b 2023-12-02 16:33:34      565.0   \n",
       "    12M_01_04 12M_01_04    otgy_12M_01  87fbe972-825e-4b62-bb61-b97dcef93748 2023-12-02 09:29:02      561.0   \n",
       "\n",
       "                                                                                                  quant_0.7  \\\n",
       "age mouse     subject_name session_name uuid                                 date                             \n",
       "12  12M_04_03 12M_04_03    otgy_12M_04  c2cefc36-82e0-4ddc-a56b-5c45ebeaa452 2023-12-02 18:35:24      616.0   \n",
       "    12M_03_04 12M_03_04    otgy_12M_03  f59e2af9-71d0-492e-9f78-73ffecdb9ad4 2023-12-02 13:34:37      603.0   \n",
       "    12M_01_02 12M_01_02    otgy_12M_01  eb4a613e-5aae-47e2-877d-30fe03cdb34b 2023-12-02 09:28:18      580.0   \n",
       "    12M_03_01 12M_03_01    otgy_12M_03  83166f68-4012-4bc2-834c-bba962bea93b 2023-12-02 16:33:34      582.0   \n",
       "    12M_01_04 12M_01_04    otgy_12M_01  87fbe972-825e-4b62-bb61-b97dcef93748 2023-12-02 09:29:02      582.0   \n",
       "\n",
       "                                                                                                  quant_0.8  \\\n",
       "age mouse     subject_name session_name uuid                                 date                             \n",
       "12  12M_04_03 12M_04_03    otgy_12M_04  c2cefc36-82e0-4ddc-a56b-5c45ebeaa452 2023-12-02 18:35:24      646.0   \n",
       "    12M_03_04 12M_03_04    otgy_12M_03  f59e2af9-71d0-492e-9f78-73ffecdb9ad4 2023-12-02 13:34:37      632.0   \n",
       "    12M_01_02 12M_01_02    otgy_12M_01  eb4a613e-5aae-47e2-877d-30fe03cdb34b 2023-12-02 09:28:18      606.0   \n",
       "    12M_03_01 12M_03_01    otgy_12M_03  83166f68-4012-4bc2-834c-bba962bea93b 2023-12-02 16:33:34      605.0   \n",
       "    12M_01_04 12M_01_04    otgy_12M_01  87fbe972-825e-4b62-bb61-b97dcef93748 2023-12-02 09:29:02      609.0   \n",
       "\n",
       "                                                                                                  quant_0.9  \n",
       "age mouse     subject_name session_name uuid                                 date                            \n",
       "12  12M_04_03 12M_04_03    otgy_12M_04  c2cefc36-82e0-4ddc-a56b-5c45ebeaa452 2023-12-02 18:35:24      688.0  \n",
       "    12M_03_04 12M_03_04    otgy_12M_03  f59e2af9-71d0-492e-9f78-73ffecdb9ad4 2023-12-02 13:34:37      680.0  \n",
       "    12M_01_02 12M_01_02    otgy_12M_01  eb4a613e-5aae-47e2-877d-30fe03cdb34b 2023-12-02 09:28:18      644.0  \n",
       "    12M_03_01 12M_03_01    otgy_12M_03  83166f68-4012-4bc2-834c-bba962bea93b 2023-12-02 16:33:34      642.0  \n",
       "    12M_01_04 12M_01_04    otgy_12M_01  87fbe972-825e-4b62-bb61-b97dcef93748 2023-12-02 09:29:02      653.0  "
      ]
     },
     "execution_count": 5,
     "metadata": {},
     "output_type": "execute_result"
    }
   ],
   "source": [
    "sizes.head()"
   ]
  },
  {
   "cell_type": "code",
   "execution_count": 6,
   "metadata": {},
   "outputs": [],
   "source": [
    "sizes.to_parquet('/n/groups/datta/win/longtogeny/data/ontogeny/version_11/ontogeny_males_mouse_area_df_v00.parquet')"
   ]
  },
  {
   "cell_type": "markdown",
   "metadata": {},
   "source": [
    "## Longtogeny v1"
   ]
  },
  {
   "cell_type": "code",
   "execution_count": 7,
   "metadata": {},
   "outputs": [],
   "source": [
    "df = pl.scan_parquet('/n/groups/datta/win/longtogeny/data/ontogeny/version_11/longtogeny_males_syllable_df_v00.parquet')"
   ]
  },
  {
   "cell_type": "code",
   "execution_count": 8,
   "metadata": {},
   "outputs": [],
   "source": [
    "gb_list = ['age', 'mouse', 'subject_name', 'session_name', 'uuid', 'date']"
   ]
  },
  {
   "cell_type": "code",
   "execution_count": 9,
   "metadata": {},
   "outputs": [],
   "source": [
    "sizes = df.group_by(gb_list, maintain_order=True).agg(\n",
    "    *[\n",
    "        pl.col(\"area_px\").quantile(x).alias(f\"quant_{x:0.1f}\")\n",
    "        for x in np.arange(0.1, 1, 0.1)\n",
    "    ]\n",
    ")\n",
    "\n",
    "sizes = sizes.collect()\n",
    "sizes = sizes.to_pandas().set_index(gb_list)"
   ]
  },
  {
   "cell_type": "code",
   "execution_count": 10,
   "metadata": {},
   "outputs": [],
   "source": [
    "sizes.to_parquet('/n/groups/datta/win/longtogeny/data/ontogeny/version_11/longtogeny_males_mouse_area_df_v00.parquet')"
   ]
  },
  {
   "cell_type": "code",
   "execution_count": null,
   "metadata": {},
   "outputs": [],
   "source": []
  },
  {
   "cell_type": "markdown",
   "metadata": {},
   "source": [
    "## Longtogeny v2"
   ]
  },
  {
   "cell_type": "code",
   "execution_count": 3,
   "metadata": {},
   "outputs": [],
   "source": [
    "df = pl.scan_parquet('/n/groups/datta/win/longtogeny/data/ontogeny/version_11/longtogeny_v2_males_syllable_df_v00.parquet')"
   ]
  },
  {
   "cell_type": "code",
   "execution_count": 4,
   "metadata": {},
   "outputs": [],
   "source": [
    "gb_list = ['age', 'mouse', 'subject_name', 'session_name', 'uuid', 'date']"
   ]
  },
  {
   "cell_type": "code",
   "execution_count": 5,
   "metadata": {},
   "outputs": [],
   "source": [
    "sizes = df.group_by(gb_list, maintain_order=True).agg(\n",
    "    *[\n",
    "        pl.col(\"area_px\").quantile(x).alias(f\"quant_{x:0.1f}\")\n",
    "        for x in np.arange(0.1, 1, 0.1)\n",
    "    ]\n",
    ")\n",
    "\n",
    "sizes = sizes.collect()\n",
    "sizes = sizes.to_pandas().set_index(gb_list)"
   ]
  },
  {
   "cell_type": "code",
   "execution_count": 6,
   "metadata": {},
   "outputs": [],
   "source": [
    "sizes.to_parquet('/n/groups/datta/win/longtogeny/data/ontogeny/version_11/longtogeny_v2_males_mouse_area_df_v00.parquet')"
   ]
  },
  {
   "cell_type": "markdown",
   "metadata": {},
   "source": [
    "### Females"
   ]
  },
  {
   "cell_type": "code",
   "execution_count": 7,
   "metadata": {},
   "outputs": [],
   "source": [
    "df = pl.scan_parquet('/n/groups/datta/win/longtogeny/data/ontogeny/version_11/longtogeny_v2_females_syllable_df_v00.parquet')"
   ]
  },
  {
   "cell_type": "code",
   "execution_count": 8,
   "metadata": {},
   "outputs": [],
   "source": [
    "gb_list = ['age', 'mouse', 'subject_name', 'session_name', 'uuid', 'date']"
   ]
  },
  {
   "cell_type": "code",
   "execution_count": 9,
   "metadata": {},
   "outputs": [],
   "source": [
    "sizes = df.group_by(gb_list, maintain_order=True).agg(\n",
    "    *[\n",
    "        pl.col(\"area_px\").quantile(x).alias(f\"quant_{x:0.1f}\")\n",
    "        for x in np.arange(0.1, 1, 0.1)\n",
    "    ]\n",
    ")\n",
    "\n",
    "sizes = sizes.collect()\n",
    "sizes = sizes.to_pandas().set_index(gb_list)"
   ]
  },
  {
   "cell_type": "code",
   "execution_count": 10,
   "metadata": {},
   "outputs": [],
   "source": [
    "sizes.to_parquet('/n/groups/datta/win/longtogeny/data/ontogeny/version_11/longtogeny_v2_females_mouse_area_df_v00.parquet')"
   ]
  },
  {
   "cell_type": "markdown",
   "metadata": {},
   "source": [
    "## Females ontogeny"
   ]
  },
  {
   "cell_type": "code",
   "execution_count": 2,
   "metadata": {},
   "outputs": [],
   "source": [
    "df = pl.scan_parquet('/n/groups/datta/win/longtogeny/data/ontogeny/version_11/ontogeny_females_syllable_df_v00.parquet')"
   ]
  },
  {
   "cell_type": "code",
   "execution_count": 3,
   "metadata": {},
   "outputs": [],
   "source": [
    "gb_list = ['age', 'mouse', 'subject_name', 'session_name', 'uuid', 'date']"
   ]
  },
  {
   "cell_type": "code",
   "execution_count": 4,
   "metadata": {},
   "outputs": [],
   "source": [
    "sizes = df.group_by(gb_list, maintain_order=True).agg(\n",
    "    *[\n",
    "        pl.col(\"area_px\").quantile(x).alias(f\"quant_{x:0.1f}\")\n",
    "        for x in np.arange(0.1, 1, 0.1)\n",
    "    ]\n",
    ")\n",
    "\n",
    "sizes = sizes.collect()\n",
    "sizes = sizes.to_pandas().set_index(gb_list)"
   ]
  },
  {
   "cell_type": "code",
   "execution_count": 5,
   "metadata": {},
   "outputs": [],
   "source": [
    "sizes.to_parquet('/n/groups/datta/win/longtogeny/data/ontogeny/version_11/ontogeny_females_mouse_area_df_v00.parquet')"
   ]
  },
  {
   "cell_type": "code",
   "execution_count": null,
   "metadata": {},
   "outputs": [],
   "source": []
  },
  {
   "cell_type": "markdown",
   "metadata": {},
   "source": [
    "# Version 11-1"
   ]
  },
  {
   "cell_type": "markdown",
   "metadata": {},
   "source": [
    "## Ontogeny males"
   ]
  },
  {
   "cell_type": "code",
   "execution_count": 2,
   "metadata": {},
   "outputs": [],
   "source": [
    "df = pl.scan_parquet('/n/groups/datta/win/longtogeny/data/ontogeny/version_11-1/ontogeny_males_syllable_df_v00.parquet')"
   ]
  },
  {
   "cell_type": "code",
   "execution_count": 3,
   "metadata": {},
   "outputs": [],
   "source": [
    "gb_list = ['age', 'mouse', 'subject_name', 'session_name', 'uuid', 'date']"
   ]
  },
  {
   "cell_type": "code",
   "execution_count": 4,
   "metadata": {},
   "outputs": [],
   "source": [
    "sizes = df.group_by(gb_list, maintain_order=True).agg(\n",
    "    *[\n",
    "        pl.col(\"area_px\").quantile(x).alias(f\"quant_{x:0.1f}\")\n",
    "        for x in np.arange(0.1, 1, 0.1)\n",
    "    ]\n",
    ")\n",
    "\n",
    "sizes = sizes.collect()\n",
    "sizes = sizes.to_pandas().set_index(gb_list)"
   ]
  },
  {
   "cell_type": "code",
   "execution_count": 5,
   "metadata": {},
   "outputs": [
    {
     "data": {
      "text/html": [
       "<div>\n",
       "<style scoped>\n",
       "    .dataframe tbody tr th:only-of-type {\n",
       "        vertical-align: middle;\n",
       "    }\n",
       "\n",
       "    .dataframe tbody tr th {\n",
       "        vertical-align: top;\n",
       "    }\n",
       "\n",
       "    .dataframe thead th {\n",
       "        text-align: right;\n",
       "    }\n",
       "</style>\n",
       "<table border=\"1\" class=\"dataframe\">\n",
       "  <thead>\n",
       "    <tr style=\"text-align: right;\">\n",
       "      <th></th>\n",
       "      <th></th>\n",
       "      <th></th>\n",
       "      <th></th>\n",
       "      <th></th>\n",
       "      <th></th>\n",
       "      <th>quant_0.1</th>\n",
       "      <th>quant_0.2</th>\n",
       "      <th>quant_0.3</th>\n",
       "      <th>quant_0.4</th>\n",
       "      <th>quant_0.5</th>\n",
       "      <th>quant_0.6</th>\n",
       "      <th>quant_0.7</th>\n",
       "      <th>quant_0.8</th>\n",
       "      <th>quant_0.9</th>\n",
       "    </tr>\n",
       "    <tr>\n",
       "      <th>age</th>\n",
       "      <th>mouse</th>\n",
       "      <th>subject_name</th>\n",
       "      <th>session_name</th>\n",
       "      <th>uuid</th>\n",
       "      <th>date</th>\n",
       "      <th></th>\n",
       "      <th></th>\n",
       "      <th></th>\n",
       "      <th></th>\n",
       "      <th></th>\n",
       "      <th></th>\n",
       "      <th></th>\n",
       "      <th></th>\n",
       "      <th></th>\n",
       "    </tr>\n",
       "  </thead>\n",
       "  <tbody>\n",
       "    <tr>\n",
       "      <th rowspan=\"5\" valign=\"top\">12</th>\n",
       "      <th>12M_02_03</th>\n",
       "      <th>12M_02_03</th>\n",
       "      <th>otgy_12M_02</th>\n",
       "      <th>399fcb5e-56c6-41de-8235-7e1b20a95b5a</th>\n",
       "      <th>2023-12-02 14:31:33</th>\n",
       "      <td>365.0</td>\n",
       "      <td>385.0</td>\n",
       "      <td>400.0</td>\n",
       "      <td>413.0</td>\n",
       "      <td>428.0</td>\n",
       "      <td>443.0</td>\n",
       "      <td>460.0</td>\n",
       "      <td>480.0</td>\n",
       "      <td>510.0</td>\n",
       "    </tr>\n",
       "    <tr>\n",
       "      <th>12M_03_01</th>\n",
       "      <th>12M_03_01</th>\n",
       "      <th>otgy_12M_03</th>\n",
       "      <th>ae668e1f-2399-42e6-9ff6-0a359890bdcb</th>\n",
       "      <th>2023-12-02 16:33:34</th>\n",
       "      <td>418.0</td>\n",
       "      <td>434.0</td>\n",
       "      <td>447.0</td>\n",
       "      <td>460.0</td>\n",
       "      <td>472.0</td>\n",
       "      <td>486.0</td>\n",
       "      <td>502.0</td>\n",
       "      <td>522.0</td>\n",
       "      <td>552.0</td>\n",
       "    </tr>\n",
       "    <tr>\n",
       "      <th>12M_04_03</th>\n",
       "      <th>12M_04_03</th>\n",
       "      <th>otgy_12M_04</th>\n",
       "      <th>20fb06ee-752b-4e52-b78a-c4111282a57d</th>\n",
       "      <th>2023-12-02 18:35:24</th>\n",
       "      <td>413.0</td>\n",
       "      <td>442.0</td>\n",
       "      <td>464.0</td>\n",
       "      <td>482.0</td>\n",
       "      <td>501.0</td>\n",
       "      <td>519.0</td>\n",
       "      <td>540.0</td>\n",
       "      <td>565.0</td>\n",
       "      <td>598.0</td>\n",
       "    </tr>\n",
       "    <tr>\n",
       "      <th>12M_02_04</th>\n",
       "      <th>12M_02_04</th>\n",
       "      <th>otgy_12M_02</th>\n",
       "      <th>6ab00a19-d9b7-424e-9f5a-2490312392e5</th>\n",
       "      <th>2023-12-02 11:31:56</th>\n",
       "      <td>396.0</td>\n",
       "      <td>413.0</td>\n",
       "      <td>427.0</td>\n",
       "      <td>442.0</td>\n",
       "      <td>456.0</td>\n",
       "      <td>472.0</td>\n",
       "      <td>490.0</td>\n",
       "      <td>511.0</td>\n",
       "      <td>541.0</td>\n",
       "    </tr>\n",
       "    <tr>\n",
       "      <th>12M_02_01</th>\n",
       "      <th>12M_02_01</th>\n",
       "      <th>otgy_12M_02</th>\n",
       "      <th>c5fd161f-6690-42d3-b481-ad725de46306</th>\n",
       "      <th>2023-12-02 14:30:46</th>\n",
       "      <td>419.0</td>\n",
       "      <td>440.0</td>\n",
       "      <td>455.0</td>\n",
       "      <td>469.0</td>\n",
       "      <td>482.0</td>\n",
       "      <td>497.0</td>\n",
       "      <td>513.0</td>\n",
       "      <td>534.0</td>\n",
       "      <td>562.0</td>\n",
       "    </tr>\n",
       "  </tbody>\n",
       "</table>\n",
       "</div>"
      ],
      "text/plain": [
       "                                                                                                  quant_0.1  \\\n",
       "age mouse     subject_name session_name uuid                                 date                             \n",
       "12  12M_02_03 12M_02_03    otgy_12M_02  399fcb5e-56c6-41de-8235-7e1b20a95b5a 2023-12-02 14:31:33      365.0   \n",
       "    12M_03_01 12M_03_01    otgy_12M_03  ae668e1f-2399-42e6-9ff6-0a359890bdcb 2023-12-02 16:33:34      418.0   \n",
       "    12M_04_03 12M_04_03    otgy_12M_04  20fb06ee-752b-4e52-b78a-c4111282a57d 2023-12-02 18:35:24      413.0   \n",
       "    12M_02_04 12M_02_04    otgy_12M_02  6ab00a19-d9b7-424e-9f5a-2490312392e5 2023-12-02 11:31:56      396.0   \n",
       "    12M_02_01 12M_02_01    otgy_12M_02  c5fd161f-6690-42d3-b481-ad725de46306 2023-12-02 14:30:46      419.0   \n",
       "\n",
       "                                                                                                  quant_0.2  \\\n",
       "age mouse     subject_name session_name uuid                                 date                             \n",
       "12  12M_02_03 12M_02_03    otgy_12M_02  399fcb5e-56c6-41de-8235-7e1b20a95b5a 2023-12-02 14:31:33      385.0   \n",
       "    12M_03_01 12M_03_01    otgy_12M_03  ae668e1f-2399-42e6-9ff6-0a359890bdcb 2023-12-02 16:33:34      434.0   \n",
       "    12M_04_03 12M_04_03    otgy_12M_04  20fb06ee-752b-4e52-b78a-c4111282a57d 2023-12-02 18:35:24      442.0   \n",
       "    12M_02_04 12M_02_04    otgy_12M_02  6ab00a19-d9b7-424e-9f5a-2490312392e5 2023-12-02 11:31:56      413.0   \n",
       "    12M_02_01 12M_02_01    otgy_12M_02  c5fd161f-6690-42d3-b481-ad725de46306 2023-12-02 14:30:46      440.0   \n",
       "\n",
       "                                                                                                  quant_0.3  \\\n",
       "age mouse     subject_name session_name uuid                                 date                             \n",
       "12  12M_02_03 12M_02_03    otgy_12M_02  399fcb5e-56c6-41de-8235-7e1b20a95b5a 2023-12-02 14:31:33      400.0   \n",
       "    12M_03_01 12M_03_01    otgy_12M_03  ae668e1f-2399-42e6-9ff6-0a359890bdcb 2023-12-02 16:33:34      447.0   \n",
       "    12M_04_03 12M_04_03    otgy_12M_04  20fb06ee-752b-4e52-b78a-c4111282a57d 2023-12-02 18:35:24      464.0   \n",
       "    12M_02_04 12M_02_04    otgy_12M_02  6ab00a19-d9b7-424e-9f5a-2490312392e5 2023-12-02 11:31:56      427.0   \n",
       "    12M_02_01 12M_02_01    otgy_12M_02  c5fd161f-6690-42d3-b481-ad725de46306 2023-12-02 14:30:46      455.0   \n",
       "\n",
       "                                                                                                  quant_0.4  \\\n",
       "age mouse     subject_name session_name uuid                                 date                             \n",
       "12  12M_02_03 12M_02_03    otgy_12M_02  399fcb5e-56c6-41de-8235-7e1b20a95b5a 2023-12-02 14:31:33      413.0   \n",
       "    12M_03_01 12M_03_01    otgy_12M_03  ae668e1f-2399-42e6-9ff6-0a359890bdcb 2023-12-02 16:33:34      460.0   \n",
       "    12M_04_03 12M_04_03    otgy_12M_04  20fb06ee-752b-4e52-b78a-c4111282a57d 2023-12-02 18:35:24      482.0   \n",
       "    12M_02_04 12M_02_04    otgy_12M_02  6ab00a19-d9b7-424e-9f5a-2490312392e5 2023-12-02 11:31:56      442.0   \n",
       "    12M_02_01 12M_02_01    otgy_12M_02  c5fd161f-6690-42d3-b481-ad725de46306 2023-12-02 14:30:46      469.0   \n",
       "\n",
       "                                                                                                  quant_0.5  \\\n",
       "age mouse     subject_name session_name uuid                                 date                             \n",
       "12  12M_02_03 12M_02_03    otgy_12M_02  399fcb5e-56c6-41de-8235-7e1b20a95b5a 2023-12-02 14:31:33      428.0   \n",
       "    12M_03_01 12M_03_01    otgy_12M_03  ae668e1f-2399-42e6-9ff6-0a359890bdcb 2023-12-02 16:33:34      472.0   \n",
       "    12M_04_03 12M_04_03    otgy_12M_04  20fb06ee-752b-4e52-b78a-c4111282a57d 2023-12-02 18:35:24      501.0   \n",
       "    12M_02_04 12M_02_04    otgy_12M_02  6ab00a19-d9b7-424e-9f5a-2490312392e5 2023-12-02 11:31:56      456.0   \n",
       "    12M_02_01 12M_02_01    otgy_12M_02  c5fd161f-6690-42d3-b481-ad725de46306 2023-12-02 14:30:46      482.0   \n",
       "\n",
       "                                                                                                  quant_0.6  \\\n",
       "age mouse     subject_name session_name uuid                                 date                             \n",
       "12  12M_02_03 12M_02_03    otgy_12M_02  399fcb5e-56c6-41de-8235-7e1b20a95b5a 2023-12-02 14:31:33      443.0   \n",
       "    12M_03_01 12M_03_01    otgy_12M_03  ae668e1f-2399-42e6-9ff6-0a359890bdcb 2023-12-02 16:33:34      486.0   \n",
       "    12M_04_03 12M_04_03    otgy_12M_04  20fb06ee-752b-4e52-b78a-c4111282a57d 2023-12-02 18:35:24      519.0   \n",
       "    12M_02_04 12M_02_04    otgy_12M_02  6ab00a19-d9b7-424e-9f5a-2490312392e5 2023-12-02 11:31:56      472.0   \n",
       "    12M_02_01 12M_02_01    otgy_12M_02  c5fd161f-6690-42d3-b481-ad725de46306 2023-12-02 14:30:46      497.0   \n",
       "\n",
       "                                                                                                  quant_0.7  \\\n",
       "age mouse     subject_name session_name uuid                                 date                             \n",
       "12  12M_02_03 12M_02_03    otgy_12M_02  399fcb5e-56c6-41de-8235-7e1b20a95b5a 2023-12-02 14:31:33      460.0   \n",
       "    12M_03_01 12M_03_01    otgy_12M_03  ae668e1f-2399-42e6-9ff6-0a359890bdcb 2023-12-02 16:33:34      502.0   \n",
       "    12M_04_03 12M_04_03    otgy_12M_04  20fb06ee-752b-4e52-b78a-c4111282a57d 2023-12-02 18:35:24      540.0   \n",
       "    12M_02_04 12M_02_04    otgy_12M_02  6ab00a19-d9b7-424e-9f5a-2490312392e5 2023-12-02 11:31:56      490.0   \n",
       "    12M_02_01 12M_02_01    otgy_12M_02  c5fd161f-6690-42d3-b481-ad725de46306 2023-12-02 14:30:46      513.0   \n",
       "\n",
       "                                                                                                  quant_0.8  \\\n",
       "age mouse     subject_name session_name uuid                                 date                             \n",
       "12  12M_02_03 12M_02_03    otgy_12M_02  399fcb5e-56c6-41de-8235-7e1b20a95b5a 2023-12-02 14:31:33      480.0   \n",
       "    12M_03_01 12M_03_01    otgy_12M_03  ae668e1f-2399-42e6-9ff6-0a359890bdcb 2023-12-02 16:33:34      522.0   \n",
       "    12M_04_03 12M_04_03    otgy_12M_04  20fb06ee-752b-4e52-b78a-c4111282a57d 2023-12-02 18:35:24      565.0   \n",
       "    12M_02_04 12M_02_04    otgy_12M_02  6ab00a19-d9b7-424e-9f5a-2490312392e5 2023-12-02 11:31:56      511.0   \n",
       "    12M_02_01 12M_02_01    otgy_12M_02  c5fd161f-6690-42d3-b481-ad725de46306 2023-12-02 14:30:46      534.0   \n",
       "\n",
       "                                                                                                  quant_0.9  \n",
       "age mouse     subject_name session_name uuid                                 date                            \n",
       "12  12M_02_03 12M_02_03    otgy_12M_02  399fcb5e-56c6-41de-8235-7e1b20a95b5a 2023-12-02 14:31:33      510.0  \n",
       "    12M_03_01 12M_03_01    otgy_12M_03  ae668e1f-2399-42e6-9ff6-0a359890bdcb 2023-12-02 16:33:34      552.0  \n",
       "    12M_04_03 12M_04_03    otgy_12M_04  20fb06ee-752b-4e52-b78a-c4111282a57d 2023-12-02 18:35:24      598.0  \n",
       "    12M_02_04 12M_02_04    otgy_12M_02  6ab00a19-d9b7-424e-9f5a-2490312392e5 2023-12-02 11:31:56      541.0  \n",
       "    12M_02_01 12M_02_01    otgy_12M_02  c5fd161f-6690-42d3-b481-ad725de46306 2023-12-02 14:30:46      562.0  "
      ]
     },
     "execution_count": 5,
     "metadata": {},
     "output_type": "execute_result"
    }
   ],
   "source": [
    "sizes.head()"
   ]
  },
  {
   "cell_type": "code",
   "execution_count": 6,
   "metadata": {},
   "outputs": [],
   "source": [
    "sizes.to_parquet('/n/groups/datta/win/longtogeny/data/ontogeny/version_11-1/ontogeny_males_mouse_area_df_v00.parquet')"
   ]
  },
  {
   "cell_type": "markdown",
   "metadata": {},
   "source": [
    "## Longtogeny v1"
   ]
  },
  {
   "cell_type": "code",
   "execution_count": 7,
   "metadata": {},
   "outputs": [],
   "source": [
    "df = pl.scan_parquet('/n/groups/datta/win/longtogeny/data/ontogeny/version_11-1/longtogeny_males_syllable_df_v00.parquet')"
   ]
  },
  {
   "cell_type": "code",
   "execution_count": 8,
   "metadata": {},
   "outputs": [],
   "source": [
    "gb_list = ['age', 'mouse', 'subject_name', 'session_name', 'uuid', 'date']"
   ]
  },
  {
   "cell_type": "code",
   "execution_count": 9,
   "metadata": {},
   "outputs": [],
   "source": [
    "sizes = df.group_by(gb_list, maintain_order=True).agg(\n",
    "    *[\n",
    "        pl.col(\"area_px\").quantile(x).alias(f\"quant_{x:0.1f}\")\n",
    "        for x in np.arange(0.1, 1, 0.1)\n",
    "    ]\n",
    ")\n",
    "\n",
    "sizes = sizes.collect()\n",
    "sizes = sizes.to_pandas().set_index(gb_list)"
   ]
  },
  {
   "cell_type": "code",
   "execution_count": 10,
   "metadata": {},
   "outputs": [],
   "source": [
    "sizes.to_parquet('/n/groups/datta/win/longtogeny/data/ontogeny/version_11-1/longtogeny_males_mouse_area_df_v00.parquet')"
   ]
  },
  {
   "cell_type": "markdown",
   "metadata": {},
   "source": [
    "## Longtogeny v2"
   ]
  },
  {
   "cell_type": "code",
   "execution_count": 2,
   "metadata": {},
   "outputs": [],
   "source": [
    "df = pl.scan_parquet('/n/groups/datta/win/longtogeny/data/ontogeny/version_11-1/longtogeny_v2_males_syllable_df_v00.parquet')"
   ]
  },
  {
   "cell_type": "code",
   "execution_count": 3,
   "metadata": {},
   "outputs": [],
   "source": [
    "gb_list = ['age', 'mouse', 'subject_name', 'session_name', 'uuid', 'date']"
   ]
  },
  {
   "cell_type": "code",
   "execution_count": 4,
   "metadata": {},
   "outputs": [],
   "source": [
    "sizes = df.group_by(gb_list, maintain_order=True).agg(\n",
    "    *[\n",
    "        pl.col(\"area_px\").quantile(x).alias(f\"quant_{x:0.1f}\")\n",
    "        for x in np.arange(0.1, 1, 0.1)\n",
    "    ]\n",
    ")\n",
    "\n",
    "sizes = sizes.collect()\n",
    "sizes = sizes.to_pandas().set_index(gb_list)"
   ]
  },
  {
   "cell_type": "code",
   "execution_count": 5,
   "metadata": {},
   "outputs": [],
   "source": [
    "sizes.to_parquet('/n/groups/datta/win/longtogeny/data/ontogeny/version_11-1/longtogeny_v2_males_mouse_area_df_v00.parquet')"
   ]
  },
  {
   "cell_type": "markdown",
   "metadata": {},
   "source": [
    "### Females"
   ]
  },
  {
   "cell_type": "code",
   "execution_count": 6,
   "metadata": {},
   "outputs": [],
   "source": [
    "df = pl.scan_parquet('/n/groups/datta/win/longtogeny/data/ontogeny/version_11-1/longtogeny_v2_females_syllable_df_v00.parquet')"
   ]
  },
  {
   "cell_type": "code",
   "execution_count": 7,
   "metadata": {},
   "outputs": [],
   "source": [
    "gb_list = ['age', 'mouse', 'subject_name', 'session_name', 'uuid', 'date']"
   ]
  },
  {
   "cell_type": "code",
   "execution_count": 8,
   "metadata": {},
   "outputs": [],
   "source": [
    "sizes = df.group_by(gb_list, maintain_order=True).agg(\n",
    "    *[\n",
    "        pl.col(\"area_px\").quantile(x).alias(f\"quant_{x:0.1f}\")\n",
    "        for x in np.arange(0.1, 1, 0.1)\n",
    "    ]\n",
    ")\n",
    "\n",
    "sizes = sizes.collect()\n",
    "sizes = sizes.to_pandas().set_index(gb_list)"
   ]
  },
  {
   "cell_type": "code",
   "execution_count": 9,
   "metadata": {},
   "outputs": [],
   "source": [
    "sizes.to_parquet('/n/groups/datta/win/longtogeny/data/ontogeny/version_11-1/longtogeny_v2_females_mouse_area_df_v00.parquet')"
   ]
  },
  {
   "cell_type": "markdown",
   "metadata": {},
   "source": [
    "## Females ontogeny"
   ]
  },
  {
   "cell_type": "code",
   "execution_count": 19,
   "metadata": {},
   "outputs": [],
   "source": [
    "df = pl.scan_parquet('/n/groups/datta/win/longtogeny/data/ontogeny/version_11-1/ontogeny_females_syllable_df_v00.parquet')"
   ]
  },
  {
   "cell_type": "code",
   "execution_count": 20,
   "metadata": {},
   "outputs": [],
   "source": [
    "gb_list = ['age', 'mouse', 'subject_name', 'session_name', 'uuid', 'date']"
   ]
  },
  {
   "cell_type": "code",
   "execution_count": 21,
   "metadata": {},
   "outputs": [],
   "source": [
    "sizes = df.group_by(gb_list, maintain_order=True).agg(\n",
    "    *[\n",
    "        pl.col(\"area_px\").quantile(x).alias(f\"quant_{x:0.1f}\")\n",
    "        for x in np.arange(0.1, 1, 0.1)\n",
    "    ]\n",
    ")\n",
    "\n",
    "sizes = sizes.collect()\n",
    "sizes = sizes.to_pandas().set_index(gb_list)"
   ]
  },
  {
   "cell_type": "code",
   "execution_count": 22,
   "metadata": {},
   "outputs": [],
   "source": [
    "sizes.to_parquet('/n/groups/datta/win/longtogeny/data/ontogeny/version_11-1/ontogeny_females_mouse_area_df_v00.parquet')"
   ]
  },
  {
   "cell_type": "code",
   "execution_count": null,
   "metadata": {},
   "outputs": [],
   "source": []
  },
  {
   "cell_type": "markdown",
   "metadata": {},
   "source": [
    "## Wheel"
   ]
  },
  {
   "cell_type": "code",
   "execution_count": 2,
   "metadata": {},
   "outputs": [],
   "source": [
    "df = pl.scan_parquet('/n/groups/datta/win/longtogeny/data/ontogeny/version_11-1/wheel_syllable_df_v00.parquet')"
   ]
  },
  {
   "cell_type": "code",
   "execution_count": 3,
   "metadata": {},
   "outputs": [],
   "source": [
    "gb_list = ['age', 'mouse', 'subject_name', 'session_name', 'uuid', 'date']"
   ]
  },
  {
   "cell_type": "code",
   "execution_count": null,
   "metadata": {},
   "outputs": [],
   "source": [
    "sizes = df.group_by(gb_list, maintain_order=True).agg(\n",
    "    *[\n",
    "        pl.col(\"area_px\").quantile(x).alias(f\"quant_{x:0.1f}\")\n",
    "        for x in np.arange(0.1, 1, 0.1)\n",
    "    ]\n",
    ")\n",
    "\n",
    "sizes = sizes.collect()\n",
    "sizes = sizes.to_pandas().set_index(gb_list)"
   ]
  },
  {
   "cell_type": "code",
   "execution_count": null,
   "metadata": {},
   "outputs": [],
   "source": [
    "sizes.to_parquet('/n/groups/datta/win/longtogeny/data/ontogeny/version_11-1/wheel_mouse_area_df_v00.parquet')"
   ]
  },
  {
   "cell_type": "code",
   "execution_count": null,
   "metadata": {},
   "outputs": [],
   "source": []
  }
 ],
 "metadata": {
  "kernelspec": {
   "display_name": "Ontogeny",
   "language": "python",
   "name": "aging"
  },
  "language_info": {
   "codemirror_mode": {
    "name": "ipython",
    "version": 3
   },
   "file_extension": ".py",
   "mimetype": "text/x-python",
   "name": "python",
   "nbconvert_exporter": "python",
   "pygments_lexer": "ipython3",
   "version": "3.10.10"
  },
  "widgets": {
   "application/vnd.jupyter.widget-state+json": {
    "state": {},
    "version_major": 2,
    "version_minor": 0
   }
  }
 },
 "nbformat": 4,
 "nbformat_minor": 4
}
