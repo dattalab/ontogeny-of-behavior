{
 "cells": [
  {
   "cell_type": "markdown",
   "id": "c010c89b-86cd-45c5-bbb7-830b8a988c61",
   "metadata": {},
   "source": [
    "# Compare scalars within-age and between-age\n",
    "\n",
    "Scalar _distributions_ should be more similar within-age than they are across age.\n",
    "Show that this is independent of mouse morphology differences."
   ]
  },
  {
   "cell_type": "code",
   "execution_count": null,
   "id": "076022f7-ac89-4c23-93a2-bd93e4c69302",
   "metadata": {},
   "outputs": [],
   "source": []
  }
 ],
 "metadata": {
  "kernelspec": {
   "display_name": "Ontogeny",
   "language": "python",
   "name": "aging"
  },
  "language_info": {
   "codemirror_mode": {
    "name": "ipython",
    "version": 3
   },
   "file_extension": ".py",
   "mimetype": "text/x-python",
   "name": "python",
   "nbconvert_exporter": "python",
   "pygments_lexer": "ipython3",
   "version": "3.10.10"
  },
  "widgets": {
   "application/vnd.jupyter.widget-state+json": {
    "state": {},
    "version_major": 2,
    "version_minor": 0
   }
  }
 },
 "nbformat": 4,
 "nbformat_minor": 5
}
