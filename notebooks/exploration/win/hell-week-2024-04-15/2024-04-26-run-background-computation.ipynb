{
 "cells": [
  {
   "cell_type": "code",
   "execution_count": 1,
   "id": "9d989791-82a6-4dbb-9d45-6953e9ba78a0",
   "metadata": {},
   "outputs": [],
   "source": [
    "import av\n",
    "import random\n",
    "import numpy as np\n",
    "import pandas as pd\n",
    "import matplotlib.pyplot as plt\n",
    "from tqdm.auto import tqdm\n",
    "from aging.organization.paths import get_experiment_grouped_depth_files\n",
    "from aging.organization.dataframes import get_experiment\n",
    "from aging.plotting import save_factory\n",
    "from toolz import interleave"
   ]
  },
  {
   "cell_type": "code",
   "execution_count": 2,
   "id": "2ed7141b-e841-44fe-b0c1-015bbf37f96d",
   "metadata": {},
   "outputs": [],
   "source": [
    "random.seed(0)"
   ]
  },
  {
   "cell_type": "code",
   "execution_count": 3,
   "id": "81f7d25d-1a69-4f25-85af-10793f041b07",
   "metadata": {},
   "outputs": [],
   "source": [
    "depth_files = get_experiment_grouped_depth_files()"
   ]
  },
  {
   "cell_type": "code",
   "execution_count": 4,
   "id": "2c6ed790-c599-4de9-92ea-793f7d031712",
   "metadata": {},
   "outputs": [],
   "source": [
    "random.shuffle(depth_files['longtogeny_v2_longtogeny_072023'])\n",
    "random.shuffle(depth_files['ontogeny_males'])\n",
    "random.shuffle(depth_files['ontogeny_females'])"
   ]
  },
  {
   "cell_type": "code",
   "execution_count": 5,
   "id": "e775836b-904a-449d-9e62-b711177bfe26",
   "metadata": {},
   "outputs": [
    {
     "data": {
      "text/plain": [
       "['ontogeny_females',\n",
       " 'ontogeny_males',\n",
       " 'dana_ontogeny_dana_ontogeny',\n",
       " 'dana_ontogeny_raw_data',\n",
       " 'longtogeny_males',\n",
       " 'longtogeny_v2_longtogeny_072023',\n",
       " 'wheel',\n",
       " 'dlight',\n",
       " 'klothos']"
      ]
     },
     "execution_count": 5,
     "metadata": {},
     "output_type": "execute_result"
    }
   ],
   "source": [
    "list(depth_files)"
   ]
  },
  {
   "cell_type": "code",
   "execution_count": 6,
   "id": "17a18ff8-3c25-4cd9-bb52-ed03681496d8",
   "metadata": {},
   "outputs": [],
   "source": [
    "save_dict = {}\n",
    "for k in depth_files:\n",
    "    save_dict[k] = save_factory('/n/groups/datta/win/tmp/' + k + '_depth_bg')"
   ]
  },
  {
   "cell_type": "code",
   "execution_count": 7,
   "id": "950ee589-e1bc-43f6-b831-d7d71a21eb33",
   "metadata": {},
   "outputs": [],
   "source": [
    "pixel_list = [\n",
    "    [75, 300],\n",
    "    [200, 200],\n",
    "    # [200, 300],\n",
    "    [325, 300],\n",
    "    # [200, 400],\n",
    "    # [250, 350],\n",
    "]"
   ]
  },
  {
   "cell_type": "code",
   "execution_count": null,
   "id": "69cf4ece-a9b0-4c2b-89ff-b785a8fabbe3",
   "metadata": {},
   "outputs": [
    {
     "data": {
      "application/vnd.jupyter.widget-view+json": {
       "model_id": "8c0e3eb019f040729a0767b7aa10b39f",
       "version_major": 2,
       "version_minor": 0
      },
      "text/plain": [
       "0it [00:00, ?it/s]"
      ]
     },
     "metadata": {},
     "output_type": "display_data"
    }
   ],
   "source": [
    "for file in tqdm(interleave(\n",
    "    [\n",
    "        depth_files[\"ontogeny_females\"],\n",
    "        depth_files[\"ontogeny_males\"],\n",
    "        depth_files[\"longtogeny_v2_longtogeny_072023\"],\n",
    "    ]\n",
    ")):\n",
    "    for px_loc in pixel_list:\n",
    "        if file.suffix == \".avi\":\n",
    "            px = []\n",
    "            with av.open(file, \"r\") as container:\n",
    "                container.streams.video[0].thread_type = \"AUTO\"\n",
    "                for frame in map(lambda x: x.to_ndarray(), container.decode(video=0)):\n",
    "                    px.append(frame[tuple(px_loc)])\n",
    "            px = pd.Series(px)\n",
    "        elif file.suffix == \".dat\":\n",
    "            data = np.memmap(str(file), dtype=np.uint16)\n",
    "            data = data.reshape((-1, 424, 512))\n",
    "            px = pd.Series(data[:, px_loc[0], px_loc[1]])\n",
    "        else:\n",
    "            continue\n",
    "        fig = plt.figure()\n",
    "        plt.plot(px)\n",
    "        plt.axhline(px.median(), color=\"C1\")\n",
    "        save_dict[get_experiment(file)](\n",
    "            fig, file.parent.name + f\"{px_loc[0]}_{px_loc[1]}\"\n",
    "        )\n",
    "\n",
    "        fig = plt.figure()\n",
    "        plt.plot(px.rolling(601, center=True).median())\n",
    "        plt.axhline(px.median(), color=\"C1\")\n",
    "        save_dict[get_experiment(file)](\n",
    "            fig, file.parent.name + f\"_rolling_median_{px_loc[0]}_{px_loc[1]}\"\n",
    "        )\n",
    "        plt.close(\"all\")"
   ]
  },
  {
   "cell_type": "code",
   "execution_count": null,
   "id": "9e054898-3f2e-4153-a434-afa31bacba50",
   "metadata": {},
   "outputs": [],
   "source": []
  }
 ],
 "metadata": {
  "kernelspec": {
   "display_name": "Ontogeny",
   "language": "python",
   "name": "aging"
  },
  "language_info": {
   "codemirror_mode": {
    "name": "ipython",
    "version": 3
   },
   "file_extension": ".py",
   "mimetype": "text/x-python",
   "name": "python",
   "nbconvert_exporter": "python",
   "pygments_lexer": "ipython3",
   "version": "3.10.10"
  },
  "widgets": {
   "application/vnd.jupyter.widget-state+json": {
    "state": {
     "150564334e954bb1a95f0dd85c6e193e": {
      "model_module": "@jupyter-widgets/base",
      "model_module_version": "2.0.0",
      "model_name": "LayoutModel",
      "state": {}
     },
     "28e60bac2e0b46f5a7d015f740dac053": {
      "model_module": "@jupyter-widgets/controls",
      "model_module_version": "2.0.0",
      "model_name": "FloatProgressModel",
      "state": {
       "bar_style": "info",
       "layout": "IPY_MODEL_36054364d548466bab4e70a91296b6d8",
       "max": 1,
       "style": "IPY_MODEL_9749c8c6b8454d78be2cfcea4ee1af2d"
      }
     },
     "36054364d548466bab4e70a91296b6d8": {
      "model_module": "@jupyter-widgets/base",
      "model_module_version": "2.0.0",
      "model_name": "LayoutModel",
      "state": {
       "width": "20px"
      }
     },
     "3917a02b8a9e46ac98d8f6ced1278335": {
      "model_module": "@jupyter-widgets/controls",
      "model_module_version": "2.0.0",
      "model_name": "HTMLStyleModel",
      "state": {
       "description_width": "",
       "font_size": null,
       "text_color": null
      }
     },
     "45f5ec6faa3741b181db03be6bf78ed1": {
      "model_module": "@jupyter-widgets/controls",
      "model_module_version": "2.0.0",
      "model_name": "HTMLModel",
      "state": {
       "layout": "IPY_MODEL_e71d5a9b723d4ae488fe97c548fa5429",
       "style": "IPY_MODEL_96a8c7191c86408ea5b1bdee7765cce5"
      }
     },
     "679af0e75dcd4b9384136a0db3041463": {
      "model_module": "@jupyter-widgets/base",
      "model_module_version": "2.0.0",
      "model_name": "LayoutModel",
      "state": {}
     },
     "8c0e3eb019f040729a0767b7aa10b39f": {
      "model_module": "@jupyter-widgets/controls",
      "model_module_version": "2.0.0",
      "model_name": "HBoxModel",
      "state": {
       "children": [
        "IPY_MODEL_45f5ec6faa3741b181db03be6bf78ed1",
        "IPY_MODEL_28e60bac2e0b46f5a7d015f740dac053",
        "IPY_MODEL_d2ceb8e6851b4f6b8a296119dfb79681"
       ],
       "layout": "IPY_MODEL_679af0e75dcd4b9384136a0db3041463"
      }
     },
     "96a8c7191c86408ea5b1bdee7765cce5": {
      "model_module": "@jupyter-widgets/controls",
      "model_module_version": "2.0.0",
      "model_name": "HTMLStyleModel",
      "state": {
       "description_width": "",
       "font_size": null,
       "text_color": null
      }
     },
     "9749c8c6b8454d78be2cfcea4ee1af2d": {
      "model_module": "@jupyter-widgets/controls",
      "model_module_version": "2.0.0",
      "model_name": "ProgressStyleModel",
      "state": {
       "description_width": ""
      }
     },
     "d2ceb8e6851b4f6b8a296119dfb79681": {
      "model_module": "@jupyter-widgets/controls",
      "model_module_version": "2.0.0",
      "model_name": "HTMLModel",
      "state": {
       "layout": "IPY_MODEL_150564334e954bb1a95f0dd85c6e193e",
       "style": "IPY_MODEL_3917a02b8a9e46ac98d8f6ced1278335",
       "value": " 0/? [00:00&lt;?, ?it/s]"
      }
     },
     "e71d5a9b723d4ae488fe97c548fa5429": {
      "model_module": "@jupyter-widgets/base",
      "model_module_version": "2.0.0",
      "model_name": "LayoutModel",
      "state": {}
     }
    },
    "version_major": 2,
    "version_minor": 0
   }
  }
 },
 "nbformat": 4,
 "nbformat_minor": 5
}
