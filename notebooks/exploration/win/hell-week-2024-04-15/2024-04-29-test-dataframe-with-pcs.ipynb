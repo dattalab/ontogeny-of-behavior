{
 "cells": [
  {
   "cell_type": "code",
   "execution_count": 1,
   "id": "71e27222-c5ce-41eb-bc8d-fc8737e5e38c",
   "metadata": {},
   "outputs": [],
   "source": [
    "from aging.moseq_modeling.dataframe import (\n",
    "    aggregate_into_dataframe, filter_session_length,\n",
    "    add_mouse_id, corrections, mouse_filter\n",
    ")"
   ]
  },
  {
   "cell_type": "code",
   "execution_count": 3,
   "id": "d4c297f2-845e-4e85-91e1-4db5837eb82e",
   "metadata": {},
   "outputs": [
    {
     "name": "stdout",
     "output_type": "stream",
     "text": [
      "Using 3 cpus\n"
     ]
    },
    {
     "data": {
      "application/vnd.jupyter.widget-view+json": {
       "model_id": "da3cb7b79ab148f9a0b23407e2df25fb",
       "version_major": 2,
       "version_minor": 0
      },
      "text/plain": [
       "0it [00:00, ?it/s]"
      ]
     },
     "metadata": {},
     "output_type": "display_data"
    },
    {
     "data": {
      "application/vnd.jupyter.widget-view+json": {
       "model_id": "d2c7a6260538457a8a64c44926b795e5",
       "version_major": 2,
       "version_minor": 0
      },
      "text/plain": [
       "0it [00:00, ?it/s]"
      ]
     },
     "metadata": {},
     "output_type": "display_data"
    },
    {
     "name": "stdout",
     "output_type": "stream",
     "text": [
      "Filtering sessions\n",
      "Correcting errors\n",
      "Adding mouse ids\n",
      "Filtering unwanted mice\n"
     ]
    }
   ],
   "source": [
    "df = aggregate_into_dataframe(\n",
    "    \"ontogeny_females\",\n",
    "    \"/n/groups/datta/win/longtogeny/data/ontogeny/version_11\",\n",
    "    \"win_size_norm_frames_v7\",\n",
    ")\n",
    "\n",
    "if df is not None:\n",
    "    print(\"Filtering sessions\")\n",
    "    df = filter_session_length(df, experiment=\"${experiment}\")\n",
    "    print(\"Correcting errors\")\n",
    "    df = corrections(df, \"${experiment}\")\n",
    "    print(\"Adding mouse ids\")\n",
    "    df = add_mouse_id(df, \"${experiment}\")\n",
    "    print(\"Filtering unwanted mice\")\n",
    "    df = mouse_filter(df, \"${experiment}\")\n",
    "    # print(\"Saving dataframe\")\n",
    "    # df.to_parquet(\"${params.moseq_folder}/${experiment}_syllable_df_v00.parquet\", compression=\"brotli\")"
   ]
  },
  {
   "cell_type": "code",
   "execution_count": 4,
   "id": "11b9fc68-3750-4c66-b0a5-d1c23d0f593a",
   "metadata": {},
   "outputs": [
    {
     "data": {
      "text/plain": [
       "pandas.core.frame.DataFrame"
      ]
     },
     "execution_count": 4,
     "metadata": {},
     "output_type": "execute_result"
    }
   ],
   "source": [
    "type(df)"
   ]
  },
  {
   "cell_type": "code",
   "execution_count": null,
   "id": "3bc91a62-d8af-4ba2-aca8-f1a33a772463",
   "metadata": {},
   "outputs": [],
   "source": []
  }
 ],
 "metadata": {
  "kernelspec": {
   "display_name": "Ontogeny",
   "language": "python",
   "name": "aging"
  },
  "language_info": {
   "codemirror_mode": {
    "name": "ipython",
    "version": 3
   },
   "file_extension": ".py",
   "mimetype": "text/x-python",
   "name": "python",
   "nbconvert_exporter": "python",
   "pygments_lexer": "ipython3",
   "version": "3.10.10"
  },
  "widgets": {
   "application/vnd.jupyter.widget-state+json": {
    "state": {
     "019b24f940484945a88e998795f0bc7c": {
      "model_module": "@jupyter-widgets/controls",
      "model_module_version": "2.0.0",
      "model_name": "HTMLModel",
      "state": {
       "layout": "IPY_MODEL_cf805b94ae6749c1aae6c58541d8eace",
       "style": "IPY_MODEL_809ddfb4ad404faf943da35c9456e69c",
       "value": " 722/? [00:25&lt;00:00, 129.50it/s]"
      }
     },
     "04f56ddb8de64234844ac02f296c986b": {
      "model_module": "@jupyter-widgets/controls",
      "model_module_version": "2.0.0",
      "model_name": "ProgressStyleModel",
      "state": {
       "description_width": ""
      }
     },
     "0c0503f4b3f44e4290ac28400c4901c8": {
      "model_module": "@jupyter-widgets/controls",
      "model_module_version": "2.0.0",
      "model_name": "HTMLStyleModel",
      "state": {
       "description_width": "",
       "font_size": null,
       "text_color": null
      }
     },
     "129dc7ccb6b146d99cb9d926d88591e7": {
      "model_module": "@jupyter-widgets/controls",
      "model_module_version": "2.0.0",
      "model_name": "FloatProgressModel",
      "state": {
       "bar_style": "success",
       "layout": "IPY_MODEL_88ea5f3b245440629c83cae7067c72c8",
       "max": 1,
       "style": "IPY_MODEL_5bdcb5ec53cb4c21b4b4a67a4443026e",
       "value": 1
      }
     },
     "187ca0655bbd4f47a728fbff19753108": {
      "model_module": "@jupyter-widgets/controls",
      "model_module_version": "2.0.0",
      "model_name": "FloatProgressModel",
      "state": {
       "bar_style": "success",
       "layout": "IPY_MODEL_57c6813032ee44f783ea583d289620fa",
       "max": 1,
       "style": "IPY_MODEL_04f56ddb8de64234844ac02f296c986b",
       "value": 1
      }
     },
     "2a0dd405d415427f9e8fae5d66b34571": {
      "model_module": "@jupyter-widgets/base",
      "model_module_version": "2.0.0",
      "model_name": "LayoutModel",
      "state": {}
     },
     "37f6c84849d84949b4ef68b96f5530eb": {
      "model_module": "@jupyter-widgets/base",
      "model_module_version": "2.0.0",
      "model_name": "LayoutModel",
      "state": {}
     },
     "3964b4169d3c455da34d44678279d5c4": {
      "model_module": "@jupyter-widgets/base",
      "model_module_version": "2.0.0",
      "model_name": "LayoutModel",
      "state": {}
     },
     "41f3d87981c64416a4c0ef154aaa4f5a": {
      "model_module": "@jupyter-widgets/controls",
      "model_module_version": "2.0.0",
      "model_name": "HBoxModel",
      "state": {
       "children": [
        "IPY_MODEL_de7c65aba050404292be606e3a7a57d9",
        "IPY_MODEL_da856fafed0c48738477e795bdcdf1a8",
        "IPY_MODEL_98039faeb77c404781364727adc9f6c7"
       ],
       "layout": "IPY_MODEL_44941897d1b54faf81c0175991e905fc"
      }
     },
     "44941897d1b54faf81c0175991e905fc": {
      "model_module": "@jupyter-widgets/base",
      "model_module_version": "2.0.0",
      "model_name": "LayoutModel",
      "state": {}
     },
     "52fb206b95264c389285fbdd3ec85263": {
      "model_module": "@jupyter-widgets/controls",
      "model_module_version": "2.0.0",
      "model_name": "HTMLModel",
      "state": {
       "layout": "IPY_MODEL_3964b4169d3c455da34d44678279d5c4",
       "style": "IPY_MODEL_a7efbe0e1eb24155a37c779010be814e"
      }
     },
     "560e128cf3c7470db8e66121cb92be81": {
      "model_module": "@jupyter-widgets/controls",
      "model_module_version": "2.0.0",
      "model_name": "HTMLModel",
      "state": {
       "layout": "IPY_MODEL_cbd4a5e360a94babac6010b1ebe86809",
       "style": "IPY_MODEL_0c0503f4b3f44e4290ac28400c4901c8",
       "value": " 333/? [36:10&lt;00:00,  6.04s/it]"
      }
     },
     "57c6813032ee44f783ea583d289620fa": {
      "model_module": "@jupyter-widgets/base",
      "model_module_version": "2.0.0",
      "model_name": "LayoutModel",
      "state": {
       "width": "20px"
      }
     },
     "5bdcb5ec53cb4c21b4b4a67a4443026e": {
      "model_module": "@jupyter-widgets/controls",
      "model_module_version": "2.0.0",
      "model_name": "ProgressStyleModel",
      "state": {
       "description_width": ""
      }
     },
     "7a748d0613cd49c4a1c0729a459e5f1f": {
      "model_module": "@jupyter-widgets/controls",
      "model_module_version": "2.0.0",
      "model_name": "HTMLStyleModel",
      "state": {
       "description_width": "",
       "font_size": null,
       "text_color": null
      }
     },
     "809ddfb4ad404faf943da35c9456e69c": {
      "model_module": "@jupyter-widgets/controls",
      "model_module_version": "2.0.0",
      "model_name": "HTMLStyleModel",
      "state": {
       "description_width": "",
       "font_size": null,
       "text_color": null
      }
     },
     "88ea5f3b245440629c83cae7067c72c8": {
      "model_module": "@jupyter-widgets/base",
      "model_module_version": "2.0.0",
      "model_name": "LayoutModel",
      "state": {
       "width": "20px"
      }
     },
     "898d83d8c56842c090fa18535af6d295": {
      "model_module": "@jupyter-widgets/base",
      "model_module_version": "2.0.0",
      "model_name": "LayoutModel",
      "state": {}
     },
     "98039faeb77c404781364727adc9f6c7": {
      "model_module": "@jupyter-widgets/controls",
      "model_module_version": "2.0.0",
      "model_name": "HTMLModel",
      "state": {
       "layout": "IPY_MODEL_37f6c84849d84949b4ef68b96f5530eb",
       "style": "IPY_MODEL_9d67ce8c6cb7425ca6c95fce0577d304",
       "value": " 722/? [02:29&lt;00:00, 66.54it/s]"
      }
     },
     "9c844b2646f14631ab08d756da310307": {
      "model_module": "@jupyter-widgets/controls",
      "model_module_version": "2.0.0",
      "model_name": "HTMLStyleModel",
      "state": {
       "description_width": "",
       "font_size": null,
       "text_color": null
      }
     },
     "9d67ce8c6cb7425ca6c95fce0577d304": {
      "model_module": "@jupyter-widgets/controls",
      "model_module_version": "2.0.0",
      "model_name": "HTMLStyleModel",
      "state": {
       "description_width": "",
       "font_size": null,
       "text_color": null
      }
     },
     "a7efbe0e1eb24155a37c779010be814e": {
      "model_module": "@jupyter-widgets/controls",
      "model_module_version": "2.0.0",
      "model_name": "HTMLStyleModel",
      "state": {
       "description_width": "",
       "font_size": null,
       "text_color": null
      }
     },
     "a934f0ff663e4ba3b94a5ce73d1620eb": {
      "model_module": "@jupyter-widgets/controls",
      "model_module_version": "2.0.0",
      "model_name": "HTMLModel",
      "state": {
       "layout": "IPY_MODEL_ee7843f1bd1a4b4aa69a8841eb5c4262",
       "style": "IPY_MODEL_7a748d0613cd49c4a1c0729a459e5f1f"
      }
     },
     "aca7776a2c1e400e8b6db549f2a4a47e": {
      "model_module": "@jupyter-widgets/controls",
      "model_module_version": "2.0.0",
      "model_name": "ProgressStyleModel",
      "state": {
       "description_width": ""
      }
     },
     "b81fbd05457f42ffb630e2a7922e1070": {
      "model_module": "@jupyter-widgets/base",
      "model_module_version": "2.0.0",
      "model_name": "LayoutModel",
      "state": {
       "width": "20px"
      }
     },
     "cbd4a5e360a94babac6010b1ebe86809": {
      "model_module": "@jupyter-widgets/base",
      "model_module_version": "2.0.0",
      "model_name": "LayoutModel",
      "state": {}
     },
     "cf805b94ae6749c1aae6c58541d8eace": {
      "model_module": "@jupyter-widgets/base",
      "model_module_version": "2.0.0",
      "model_name": "LayoutModel",
      "state": {}
     },
     "d108af3fe62747528d2de74c0c1d101a": {
      "model_module": "@jupyter-widgets/base",
      "model_module_version": "2.0.0",
      "model_name": "LayoutModel",
      "state": {}
     },
     "d2c7a6260538457a8a64c44926b795e5": {
      "model_module": "@jupyter-widgets/controls",
      "model_module_version": "2.0.0",
      "model_name": "HBoxModel",
      "state": {
       "children": [
        "IPY_MODEL_52fb206b95264c389285fbdd3ec85263",
        "IPY_MODEL_187ca0655bbd4f47a728fbff19753108",
        "IPY_MODEL_560e128cf3c7470db8e66121cb92be81"
       ],
       "layout": "IPY_MODEL_2a0dd405d415427f9e8fae5d66b34571"
      }
     },
     "da3cb7b79ab148f9a0b23407e2df25fb": {
      "model_module": "@jupyter-widgets/controls",
      "model_module_version": "2.0.0",
      "model_name": "HBoxModel",
      "state": {
       "children": [
        "IPY_MODEL_a934f0ff663e4ba3b94a5ce73d1620eb",
        "IPY_MODEL_129dc7ccb6b146d99cb9d926d88591e7",
        "IPY_MODEL_019b24f940484945a88e998795f0bc7c"
       ],
       "layout": "IPY_MODEL_898d83d8c56842c090fa18535af6d295"
      }
     },
     "da856fafed0c48738477e795bdcdf1a8": {
      "model_module": "@jupyter-widgets/controls",
      "model_module_version": "2.0.0",
      "model_name": "FloatProgressModel",
      "state": {
       "bar_style": "success",
       "layout": "IPY_MODEL_b81fbd05457f42ffb630e2a7922e1070",
       "max": 1,
       "style": "IPY_MODEL_aca7776a2c1e400e8b6db549f2a4a47e",
       "value": 1
      }
     },
     "de7c65aba050404292be606e3a7a57d9": {
      "model_module": "@jupyter-widgets/controls",
      "model_module_version": "2.0.0",
      "model_name": "HTMLModel",
      "state": {
       "layout": "IPY_MODEL_d108af3fe62747528d2de74c0c1d101a",
       "style": "IPY_MODEL_9c844b2646f14631ab08d756da310307"
      }
     },
     "ee7843f1bd1a4b4aa69a8841eb5c4262": {
      "model_module": "@jupyter-widgets/base",
      "model_module_version": "2.0.0",
      "model_name": "LayoutModel",
      "state": {}
     }
    },
    "version_major": 2,
    "version_minor": 0
   }
  }
 },
 "nbformat": 4,
 "nbformat_minor": 5
}
