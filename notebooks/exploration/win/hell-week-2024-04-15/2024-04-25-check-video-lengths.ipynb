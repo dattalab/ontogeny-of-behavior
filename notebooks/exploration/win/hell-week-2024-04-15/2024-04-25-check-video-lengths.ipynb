{
 "cells": [
  {
   "cell_type": "code",
   "execution_count": 1,
   "id": "9f8f9218-99b3-4d4a-9e64-f4a5949b0374",
   "metadata": {},
   "outputs": [],
   "source": [
    "import h5py\n",
    "import imageio.v3 as iio\n",
    "from tqdm.auto import tqdm\n",
    "from aging.organization.paths import FOLDERS"
   ]
  },
  {
   "cell_type": "code",
   "execution_count": 2,
   "id": "21f5d1a6-7e0a-49a2-be68-7f6ee65186c3",
   "metadata": {},
   "outputs": [
    {
     "data": {
      "text/plain": [
       "(PosixPath('/n/groups/datta/Dana/Ontogeny/raw_data/Ontogeny_females'),\n",
       " PosixPath('/n/groups/datta/Dana/Ontogeny/raw_data/Ontogeny_males'),\n",
       " PosixPath('/n/groups/datta/Dana/Ontogeny/raw_data/Dana_ontogeny/Males'),\n",
       " PosixPath('/n/groups/datta/Dana/Ontogeny/raw_data/Dana_ontogeny/Females'),\n",
       " PosixPath('/n/groups/datta/Dana/Ontogeny/raw_data/longtogeny_pre_unet/Males'),\n",
       " PosixPath('/n/groups/datta/min/longtogeny_072023/Males'),\n",
       " PosixPath('/n/groups/datta/min/longtogeny_072023/Females'),\n",
       " PosixPath('/n/groups/datta/min/wheel_062023'),\n",
       " PosixPath('/n/groups/datta/win/longtogeny/dlight'),\n",
       " PosixPath('/n/groups/datta/min/longtogeny_052023/Males'),\n",
       " PosixPath('/n/groups/datta/win/longtogeny/data/jackson-labs/datta_i'),\n",
       " PosixPath('/n/groups/datta/Dana/Ontogeny/raw_data/Klothos'),\n",
       " PosixPath('/n/groups/datta/Dana/Ontogeny/raw_data/Epigclock'))"
      ]
     },
     "execution_count": 2,
     "metadata": {},
     "output_type": "execute_result"
    }
   ],
   "source": [
    "FOLDERS"
   ]
  },
  {
   "cell_type": "code",
   "execution_count": 3,
   "id": "d96d287c-346a-4f06-8317-5cbb504c206e",
   "metadata": {},
   "outputs": [
    {
     "data": {
      "application/vnd.jupyter.widget-view+json": {
       "model_id": "7b296a84ce6a4959ba179517c24ff273",
       "version_major": 2,
       "version_minor": 0
      },
      "text/plain": [
       "  0%|          | 0/13 [00:00<?, ?it/s]"
      ]
     },
     "metadata": {},
     "output_type": "display_data"
    },
    {
     "data": {
      "application/vnd.jupyter.widget-view+json": {
       "model_id": "a58ffe6594a7481ea674b82fb4b6a19c",
       "version_major": 2,
       "version_minor": 0
      },
      "text/plain": [
       "  0%|          | 0/261 [00:00<?, ?it/s]"
      ]
     },
     "metadata": {},
     "output_type": "display_data"
    },
    {
     "data": {
      "application/vnd.jupyter.widget-view+json": {
       "model_id": "8d481f627a054023b73d73a6e4c5a7a1",
       "version_major": 2,
       "version_minor": 0
      },
      "text/plain": [
       "  0%|          | 0/347 [00:00<?, ?it/s]"
      ]
     },
     "metadata": {},
     "output_type": "display_data"
    },
    {
     "data": {
      "application/vnd.jupyter.widget-view+json": {
       "model_id": "cc0cb79f27f2406a836b0ef9c88ab9a1",
       "version_major": 2,
       "version_minor": 0
      },
      "text/plain": [
       "  0%|          | 0/216 [00:00<?, ?it/s]"
      ]
     },
     "metadata": {},
     "output_type": "display_data"
    },
    {
     "data": {
      "application/vnd.jupyter.widget-view+json": {
       "model_id": "92b7e32d14914f368e443b21d4cb9672",
       "version_major": 2,
       "version_minor": 0
      },
      "text/plain": [
       "  0%|          | 0/240 [00:00<?, ?it/s]"
      ]
     },
     "metadata": {},
     "output_type": "display_data"
    },
    {
     "data": {
      "application/vnd.jupyter.widget-view+json": {
       "model_id": "179528fee7b244f499ab3cf1797ec871",
       "version_major": 2,
       "version_minor": 0
      },
      "text/plain": [
       "  0%|          | 0/1085 [00:00<?, ?it/s]"
      ]
     },
     "metadata": {},
     "output_type": "display_data"
    },
    {
     "name": "stdout",
     "output_type": "stream",
     "text": [
      "False 28124 35944\n",
      "/n/groups/datta/Dana/Ontogeny/raw_data/longtogeny_pre_unet/Males/session_20220320184933/depth.avi\n"
     ]
    },
    {
     "data": {
      "application/vnd.jupyter.widget-view+json": {
       "model_id": "d255d02a213a4065aa516b195a929230",
       "version_major": 2,
       "version_minor": 0
      },
      "text/plain": [
       "  0%|          | 0/1920 [00:00<?, ?it/s]"
      ]
     },
     "metadata": {},
     "output_type": "display_data"
    },
    {
     "data": {
      "application/vnd.jupyter.widget-view+json": {
       "model_id": "ea2a7508e8914e0db1bc03b1a71f47a0",
       "version_major": 2,
       "version_minor": 0
      },
      "text/plain": [
       "  0%|          | 0/1930 [00:00<?, ?it/s]"
      ]
     },
     "metadata": {},
     "output_type": "display_data"
    },
    {
     "data": {
      "application/vnd.jupyter.widget-view+json": {
       "model_id": "dac4f5ce87304776876e609e4fe462f1",
       "version_major": 2,
       "version_minor": 0
      },
      "text/plain": [
       "  0%|          | 0/969 [00:00<?, ?it/s]"
      ]
     },
     "metadata": {},
     "output_type": "display_data"
    },
    {
     "data": {
      "application/vnd.jupyter.widget-view+json": {
       "model_id": "67cbe39a593a4cacb6fe3018b36ae980",
       "version_major": 2,
       "version_minor": 0
      },
      "text/plain": [
       "  0%|          | 0/174 [00:00<?, ?it/s]"
      ]
     },
     "metadata": {},
     "output_type": "display_data"
    },
    {
     "data": {
      "application/vnd.jupyter.widget-view+json": {
       "model_id": "98385a3533a74b82a5ae3f1c458ba352",
       "version_major": 2,
       "version_minor": 0
      },
      "text/plain": [
       "  0%|          | 0/111 [00:00<?, ?it/s]"
      ]
     },
     "metadata": {},
     "output_type": "display_data"
    },
    {
     "data": {
      "application/vnd.jupyter.widget-view+json": {
       "model_id": "53b5fe33faa141e5993dfe8766a9b378",
       "version_major": 2,
       "version_minor": 0
      },
      "text/plain": [
       "0it [00:00, ?it/s]"
      ]
     },
     "metadata": {},
     "output_type": "display_data"
    },
    {
     "data": {
      "application/vnd.jupyter.widget-view+json": {
       "model_id": "9a0e14412b724f9295ac3726c50f8bdc",
       "version_major": 2,
       "version_minor": 0
      },
      "text/plain": [
       "  0%|          | 0/32 [00:00<?, ?it/s]"
      ]
     },
     "metadata": {},
     "output_type": "display_data"
    },
    {
     "data": {
      "application/vnd.jupyter.widget-view+json": {
       "model_id": "5656e43cb5594320bb80b17bff814a63",
       "version_major": 2,
       "version_minor": 0
      },
      "text/plain": [
       "0it [00:00, ?it/s]"
      ]
     },
     "metadata": {},
     "output_type": "display_data"
    }
   ],
   "source": [
    "out = {}\n",
    "for folder in tqdm(FOLDERS):\n",
    "    for depth_file in tqdm(sorted(folder.glob(\"**/depth.avi\"))):\n",
    "        h5_file = depth_file.parent / \"proc/results_00.h5\"\n",
    "        if h5_file.exists():\n",
    "            count = iio.improps(depth_file, plugin=\"pyav\").shape[0]\n",
    "            if count == 0:\n",
    "                for count, frame in enumerate(iio.imiter(depth_file, plugin=\"pyav\")):\n",
    "                    continue\n",
    "            with h5py.File(h5_file, 'r') as h5f:\n",
    "                extracted_frame_count = len(h5f['frames'])\n",
    "            out[depth_file] = (count, extracted_frame_count)\n",
    "            if count != extracted_frame_count:\n",
    "                print(count == extracted_frame_count, count, extracted_frame_count)\n",
    "                print(depth_file)"
   ]
  },
  {
   "cell_type": "code",
   "execution_count": null,
   "id": "defc40da-af31-482f-bf3d-63e70e7da27a",
   "metadata": {},
   "outputs": [],
   "source": []
  }
 ],
 "metadata": {
  "kernelspec": {
   "display_name": "Ontogeny",
   "language": "python",
   "name": "aging"
  },
  "language_info": {
   "codemirror_mode": {
    "name": "ipython",
    "version": 3
   },
   "file_extension": ".py",
   "mimetype": "text/x-python",
   "name": "python",
   "nbconvert_exporter": "python",
   "pygments_lexer": "ipython3",
   "version": "3.10.10"
  },
  "widgets": {
   "application/vnd.jupyter.widget-state+json": {
    "state": {
     "034e529bbc5c4c55873e3e8a0915f86b": {
      "model_module": "@jupyter-widgets/controls",
      "model_module_version": "2.0.0",
      "model_name": "ProgressStyleModel",
      "state": {
       "description_width": ""
      }
     },
     "039a60e72b394b678c3f562faaa9e7eb": {
      "model_module": "@jupyter-widgets/controls",
      "model_module_version": "2.0.0",
      "model_name": "ProgressStyleModel",
      "state": {
       "description_width": ""
      }
     },
     "063d4be2b6a04fb9804a8ec5fa1c7ea1": {
      "model_module": "@jupyter-widgets/base",
      "model_module_version": "2.0.0",
      "model_name": "LayoutModel",
      "state": {}
     },
     "08c38592af1d42839e6a76690344e796": {
      "model_module": "@jupyter-widgets/controls",
      "model_module_version": "2.0.0",
      "model_name": "ProgressStyleModel",
      "state": {
       "description_width": ""
      }
     },
     "08e4f2d2a89746aa9e6ab2a22f32e810": {
      "model_module": "@jupyter-widgets/controls",
      "model_module_version": "2.0.0",
      "model_name": "HTMLStyleModel",
      "state": {
       "description_width": "",
       "font_size": null,
       "text_color": null
      }
     },
     "0f508f1f60d94caca37a46908ba39866": {
      "model_module": "@jupyter-widgets/base",
      "model_module_version": "2.0.0",
      "model_name": "LayoutModel",
      "state": {}
     },
     "1042b642578c47a6984fb1b11c725d4d": {
      "model_module": "@jupyter-widgets/base",
      "model_module_version": "2.0.0",
      "model_name": "LayoutModel",
      "state": {}
     },
     "179528fee7b244f499ab3cf1797ec871": {
      "model_module": "@jupyter-widgets/controls",
      "model_module_version": "2.0.0",
      "model_name": "HBoxModel",
      "state": {
       "children": [
        "IPY_MODEL_45252f6e09fd46059a70041a3544e0f3",
        "IPY_MODEL_b5ee0305a87b4f75a6973253ae5dd7ed",
        "IPY_MODEL_81bc25834c9d443e9c531d5f68336fab"
       ],
       "layout": "IPY_MODEL_85d2f2c445a74faaabb1b26cecd4dbbf"
      }
     },
     "1a78b0e7326f46148b93b3982825fcff": {
      "model_module": "@jupyter-widgets/base",
      "model_module_version": "2.0.0",
      "model_name": "LayoutModel",
      "state": {}
     },
     "1f6e4e37c7dd4eaaa1d10b97e7d91192": {
      "model_module": "@jupyter-widgets/controls",
      "model_module_version": "2.0.0",
      "model_name": "ProgressStyleModel",
      "state": {
       "description_width": ""
      }
     },
     "25a4cfc6396247238c4d4f8e28576e94": {
      "model_module": "@jupyter-widgets/controls",
      "model_module_version": "2.0.0",
      "model_name": "HTMLStyleModel",
      "state": {
       "description_width": "",
       "font_size": null,
       "text_color": null
      }
     },
     "2656e0d75d174a1d969c5bf779b2a8b3": {
      "model_module": "@jupyter-widgets/base",
      "model_module_version": "2.0.0",
      "model_name": "LayoutModel",
      "state": {}
     },
     "26c6580c901c4167a22c79e7ff27582d": {
      "model_module": "@jupyter-widgets/controls",
      "model_module_version": "2.0.0",
      "model_name": "HTMLModel",
      "state": {
       "layout": "IPY_MODEL_ea285334955a48c79eca67edd4a50f21",
       "style": "IPY_MODEL_c5163df7ef4c4ca3887a351128887314",
       "value": "100%"
      }
     },
     "279ec52fd532473b830030e3f49f69d7": {
      "model_module": "@jupyter-widgets/controls",
      "model_module_version": "2.0.0",
      "model_name": "HTMLModel",
      "state": {
       "layout": "IPY_MODEL_cb098733e3ef4f7b9c7665d2af98d2a7",
       "style": "IPY_MODEL_41272eea58824341b288d1c4f93f258e",
       "value": "100%"
      }
     },
     "2ae42948461247bdb155677b20635ee5": {
      "model_module": "@jupyter-widgets/base",
      "model_module_version": "2.0.0",
      "model_name": "LayoutModel",
      "state": {}
     },
     "2aef1fcad5db44269fa6d6c58360de06": {
      "model_module": "@jupyter-widgets/base",
      "model_module_version": "2.0.0",
      "model_name": "LayoutModel",
      "state": {}
     },
     "2b6f0b2492ac4a7689a07ea19c7f36ec": {
      "model_module": "@jupyter-widgets/controls",
      "model_module_version": "2.0.0",
      "model_name": "HTMLStyleModel",
      "state": {
       "description_width": "",
       "font_size": null,
       "text_color": null
      }
     },
     "2f69e18c92544ca480cccdbf4b39a929": {
      "model_module": "@jupyter-widgets/controls",
      "model_module_version": "2.0.0",
      "model_name": "HTMLStyleModel",
      "state": {
       "description_width": "",
       "font_size": null,
       "text_color": null
      }
     },
     "32195fa7bbf144de806f6f8e7d2cd864": {
      "model_module": "@jupyter-widgets/controls",
      "model_module_version": "2.0.0",
      "model_name": "HTMLStyleModel",
      "state": {
       "description_width": "",
       "font_size": null,
       "text_color": null
      }
     },
     "32d8ff5124b54dc18286acefe9d9c45a": {
      "model_module": "@jupyter-widgets/controls",
      "model_module_version": "2.0.0",
      "model_name": "HTMLStyleModel",
      "state": {
       "description_width": "",
       "font_size": null,
       "text_color": null
      }
     },
     "3824995ec895415ea195e2042aaa97c1": {
      "model_module": "@jupyter-widgets/controls",
      "model_module_version": "2.0.0",
      "model_name": "ProgressStyleModel",
      "state": {
       "description_width": ""
      }
     },
     "394fb8481fe0467ab3918677f1e285bd": {
      "model_module": "@jupyter-widgets/controls",
      "model_module_version": "2.0.0",
      "model_name": "HTMLStyleModel",
      "state": {
       "description_width": "",
       "font_size": null,
       "text_color": null
      }
     },
     "4035601f2c2440a7b7064a0fb79ed718": {
      "model_module": "@jupyter-widgets/controls",
      "model_module_version": "2.0.0",
      "model_name": "HTMLStyleModel",
      "state": {
       "description_width": "",
       "font_size": null,
       "text_color": null
      }
     },
     "41272eea58824341b288d1c4f93f258e": {
      "model_module": "@jupyter-widgets/controls",
      "model_module_version": "2.0.0",
      "model_name": "HTMLStyleModel",
      "state": {
       "description_width": "",
       "font_size": null,
       "text_color": null
      }
     },
     "41f5c225470249cc959ddf890d9f0f6d": {
      "model_module": "@jupyter-widgets/base",
      "model_module_version": "2.0.0",
      "model_name": "LayoutModel",
      "state": {}
     },
     "44e240462e7640c29ea77286df180ce5": {
      "model_module": "@jupyter-widgets/controls",
      "model_module_version": "2.0.0",
      "model_name": "FloatProgressModel",
      "state": {
       "bar_style": "success",
       "layout": "IPY_MODEL_a3213278eb0f4dc2a526f9ce8c8a4245",
       "max": 1930,
       "style": "IPY_MODEL_08c38592af1d42839e6a76690344e796",
       "value": 1930
      }
     },
     "45252f6e09fd46059a70041a3544e0f3": {
      "model_module": "@jupyter-widgets/controls",
      "model_module_version": "2.0.0",
      "model_name": "HTMLModel",
      "state": {
       "layout": "IPY_MODEL_947bb3a1f0b54458814615d50b6f02b0",
       "style": "IPY_MODEL_32d8ff5124b54dc18286acefe9d9c45a",
       "value": "100%"
      }
     },
     "45f9d0a015334e4f945201c706bf98db": {
      "model_module": "@jupyter-widgets/controls",
      "model_module_version": "2.0.0",
      "model_name": "ProgressStyleModel",
      "state": {
       "description_width": ""
      }
     },
     "4651d6ff90da4072ba5be0e2539da34f": {
      "model_module": "@jupyter-widgets/controls",
      "model_module_version": "2.0.0",
      "model_name": "HTMLModel",
      "state": {
       "layout": "IPY_MODEL_2ae42948461247bdb155677b20635ee5",
       "style": "IPY_MODEL_cd5d13b2567e46abadb6b7c53d1b0755",
       "value": " 1930/1930 [01:46&lt;00:00, 19.33it/s]"
      }
     },
     "47f6d234fe324875a2f099b87699ecee": {
      "model_module": "@jupyter-widgets/controls",
      "model_module_version": "2.0.0",
      "model_name": "HTMLStyleModel",
      "state": {
       "description_width": "",
       "font_size": null,
       "text_color": null
      }
     },
     "48984807c92741ea8b1c5d3ae07acfee": {
      "model_module": "@jupyter-widgets/base",
      "model_module_version": "2.0.0",
      "model_name": "LayoutModel",
      "state": {}
     },
     "48d47e74d15d478b8dda3f33bee5d662": {
      "model_module": "@jupyter-widgets/controls",
      "model_module_version": "2.0.0",
      "model_name": "ProgressStyleModel",
      "state": {
       "description_width": ""
      }
     },
     "4918950587834bd08333db03251866c5": {
      "model_module": "@jupyter-widgets/base",
      "model_module_version": "2.0.0",
      "model_name": "LayoutModel",
      "state": {}
     },
     "49f82b3d3f9d4faf8b0d21bbcf4c5922": {
      "model_module": "@jupyter-widgets/controls",
      "model_module_version": "2.0.0",
      "model_name": "ProgressStyleModel",
      "state": {
       "description_width": ""
      }
     },
     "4af4e8260a5046258798aa690591177e": {
      "model_module": "@jupyter-widgets/controls",
      "model_module_version": "2.0.0",
      "model_name": "ProgressStyleModel",
      "state": {
       "description_width": ""
      }
     },
     "4b50c5090031471ea7ca46269721b63c": {
      "model_module": "@jupyter-widgets/controls",
      "model_module_version": "2.0.0",
      "model_name": "HTMLStyleModel",
      "state": {
       "description_width": "",
       "font_size": null,
       "text_color": null
      }
     },
     "4ba246c6f85e48449d798e0453708e03": {
      "model_module": "@jupyter-widgets/base",
      "model_module_version": "2.0.0",
      "model_name": "LayoutModel",
      "state": {}
     },
     "4bd83a99218946cbb2fafc0bf89ade0b": {
      "model_module": "@jupyter-widgets/controls",
      "model_module_version": "2.0.0",
      "model_name": "HTMLModel",
      "state": {
       "layout": "IPY_MODEL_fbdf1504505f479f988d36f90baf850f",
       "style": "IPY_MODEL_8ffd1ccc44954273b948112d906a1208",
       "value": " 1920/1920 [01:48&lt;00:00, 19.98it/s]"
      }
     },
     "4da5311ac37249f78cfc86e14fa240a0": {
      "model_module": "@jupyter-widgets/base",
      "model_module_version": "2.0.0",
      "model_name": "LayoutModel",
      "state": {}
     },
     "4dda6d03eee54a34895c275d86d64de6": {
      "model_module": "@jupyter-widgets/base",
      "model_module_version": "2.0.0",
      "model_name": "LayoutModel",
      "state": {}
     },
     "4e41ebfdad124c6385203d10b3205e9c": {
      "model_module": "@jupyter-widgets/controls",
      "model_module_version": "2.0.0",
      "model_name": "HTMLModel",
      "state": {
       "layout": "IPY_MODEL_a3d4e048eda347acb25f8af8ef6a5a4f",
       "style": "IPY_MODEL_32195fa7bbf144de806f6f8e7d2cd864",
       "value": "100%"
      }
     },
     "4e7bceb97bca4d30a0770aee10028fb2": {
      "model_module": "@jupyter-widgets/controls",
      "model_module_version": "2.0.0",
      "model_name": "HTMLStyleModel",
      "state": {
       "description_width": "",
       "font_size": null,
       "text_color": null
      }
     },
     "513dd5310e0f4909bfba7e69b67903fd": {
      "model_module": "@jupyter-widgets/controls",
      "model_module_version": "2.0.0",
      "model_name": "HTMLStyleModel",
      "state": {
       "description_width": "",
       "font_size": null,
       "text_color": null
      }
     },
     "53b5fe33faa141e5993dfe8766a9b378": {
      "model_module": "@jupyter-widgets/controls",
      "model_module_version": "2.0.0",
      "model_name": "HBoxModel",
      "state": {
       "children": [
        "IPY_MODEL_6984c234f2f94473bf8439fddd558a0f",
        "IPY_MODEL_78c1009b390944c9816ce9d3c384263e",
        "IPY_MODEL_ece665bd868640689fee3fa358b78b60"
       ],
       "layout": "IPY_MODEL_e3803bf0f82d4c6f9abff32071475cc7"
      }
     },
     "5656e43cb5594320bb80b17bff814a63": {
      "model_module": "@jupyter-widgets/controls",
      "model_module_version": "2.0.0",
      "model_name": "HBoxModel",
      "state": {
       "children": [
        "IPY_MODEL_ece5223234714216821033f9cadd69b6",
        "IPY_MODEL_bdc6b2a2bedd411fa9e47e1ed31950d1",
        "IPY_MODEL_8fd66ab87b7d410da8317d5f260de6bf"
       ],
       "layout": "IPY_MODEL_dedc5757d12f4ddaa0d1c63ea1fd380c"
      }
     },
     "57884ec69cb145089fdc3304510e8959": {
      "model_module": "@jupyter-widgets/controls",
      "model_module_version": "2.0.0",
      "model_name": "HTMLModel",
      "state": {
       "layout": "IPY_MODEL_6cc2d919d6934c5080c806cb8a58ce40",
       "style": "IPY_MODEL_513dd5310e0f4909bfba7e69b67903fd",
       "value": "100%"
      }
     },
     "582a17b496c1440b89205510d8651830": {
      "model_module": "@jupyter-widgets/base",
      "model_module_version": "2.0.0",
      "model_name": "LayoutModel",
      "state": {}
     },
     "595e8e11d08548ad9b02c345f45cbeb7": {
      "model_module": "@jupyter-widgets/controls",
      "model_module_version": "2.0.0",
      "model_name": "HTMLModel",
      "state": {
       "layout": "IPY_MODEL_c35a1223c0844c26bafb0151a987e55d",
       "style": "IPY_MODEL_4b50c5090031471ea7ca46269721b63c",
       "value": " 347/347 [00:16&lt;00:00, 18.73it/s]"
      }
     },
     "59c680709577439a9c8cdabba74a0d1c": {
      "model_module": "@jupyter-widgets/base",
      "model_module_version": "2.0.0",
      "model_name": "LayoutModel",
      "state": {}
     },
     "5a23e9bbe165463a8f3f3915fd9a9b27": {
      "model_module": "@jupyter-widgets/controls",
      "model_module_version": "2.0.0",
      "model_name": "HTMLModel",
      "state": {
       "layout": "IPY_MODEL_966e9dfb38634403bf4c4852d3adff8f",
       "style": "IPY_MODEL_e081b78c5a5445ec85fda4c87726b11a",
       "value": "100%"
      }
     },
     "5cd035d664664cb98e1548d16577bf3d": {
      "model_module": "@jupyter-widgets/controls",
      "model_module_version": "2.0.0",
      "model_name": "HTMLStyleModel",
      "state": {
       "description_width": "",
       "font_size": null,
       "text_color": null
      }
     },
     "606b8e73b9594d758256fb2c8250f61e": {
      "model_module": "@jupyter-widgets/controls",
      "model_module_version": "2.0.0",
      "model_name": "FloatProgressModel",
      "state": {
       "bar_style": "success",
       "layout": "IPY_MODEL_6e273e9bef454cf18b0d6e15741d1937",
       "max": 174,
       "style": "IPY_MODEL_d50c883b6c5546d6927608fca03c3096",
       "value": 174
      }
     },
     "610b1cf55c6b45fa91a2802507deb248": {
      "model_module": "@jupyter-widgets/controls",
      "model_module_version": "2.0.0",
      "model_name": "FloatProgressModel",
      "state": {
       "bar_style": "success",
       "layout": "IPY_MODEL_ad47026651084f42b17e70944f29e995",
       "max": 32,
       "style": "IPY_MODEL_49f82b3d3f9d4faf8b0d21bbcf4c5922",
       "value": 32
      }
     },
     "615603d1b04b4b33ba9d3895910d69ce": {
      "model_module": "@jupyter-widgets/controls",
      "model_module_version": "2.0.0",
      "model_name": "HTMLModel",
      "state": {
       "layout": "IPY_MODEL_59c680709577439a9c8cdabba74a0d1c",
       "style": "IPY_MODEL_4035601f2c2440a7b7064a0fb79ed718",
       "value": "100%"
      }
     },
     "641769b55b6c426b891b91ce95a975ee": {
      "model_module": "@jupyter-widgets/base",
      "model_module_version": "2.0.0",
      "model_name": "LayoutModel",
      "state": {}
     },
     "64b2aed19f8b4392be631bffdaab165a": {
      "model_module": "@jupyter-widgets/controls",
      "model_module_version": "2.0.0",
      "model_name": "ProgressStyleModel",
      "state": {
       "description_width": ""
      }
     },
     "666623eeaad746928838ef5cb86863e8": {
      "model_module": "@jupyter-widgets/base",
      "model_module_version": "2.0.0",
      "model_name": "LayoutModel",
      "state": {}
     },
     "67cbe39a593a4cacb6fe3018b36ae980": {
      "model_module": "@jupyter-widgets/controls",
      "model_module_version": "2.0.0",
      "model_name": "HBoxModel",
      "state": {
       "children": [
        "IPY_MODEL_26c6580c901c4167a22c79e7ff27582d",
        "IPY_MODEL_606b8e73b9594d758256fb2c8250f61e",
        "IPY_MODEL_b5539ae8f9d148dfbdd22b3e89b3b8c3"
       ],
       "layout": "IPY_MODEL_db2044a10c1d4c2b855984ad3eb070f3"
      }
     },
     "688760c4cbd7469c8d51b0b8912fecef": {
      "model_module": "@jupyter-widgets/controls",
      "model_module_version": "2.0.0",
      "model_name": "HTMLModel",
      "state": {
       "layout": "IPY_MODEL_d51c7bc24a67435aaa8187d5ddd2248b",
       "style": "IPY_MODEL_9ab56da6c3a141a3be26266ff274a8bb",
       "value": " 32/32 [00:02&lt;00:00, 14.90it/s]"
      }
     },
     "6984c234f2f94473bf8439fddd558a0f": {
      "model_module": "@jupyter-widgets/controls",
      "model_module_version": "2.0.0",
      "model_name": "HTMLModel",
      "state": {
       "layout": "IPY_MODEL_f6990ee9f8f14b03a04b479e687f6608",
       "style": "IPY_MODEL_394fb8481fe0467ab3918677f1e285bd"
      }
     },
     "6b119cf559fc41dfb6a9f2e2306a1f0e": {
      "model_module": "@jupyter-widgets/controls",
      "model_module_version": "2.0.0",
      "model_name": "HTMLModel",
      "state": {
       "layout": "IPY_MODEL_730c4007d5af40aea2c9690daa4929a7",
       "style": "IPY_MODEL_4e7bceb97bca4d30a0770aee10028fb2",
       "value": "100%"
      }
     },
     "6b27f4a82082461fbae4b6f1d6344aa0": {
      "model_module": "@jupyter-widgets/controls",
      "model_module_version": "2.0.0",
      "model_name": "HTMLStyleModel",
      "state": {
       "description_width": "",
       "font_size": null,
       "text_color": null
      }
     },
     "6cc2d919d6934c5080c806cb8a58ce40": {
      "model_module": "@jupyter-widgets/base",
      "model_module_version": "2.0.0",
      "model_name": "LayoutModel",
      "state": {}
     },
     "6d3786f3fa9b4137b51a83e8b34090a9": {
      "model_module": "@jupyter-widgets/base",
      "model_module_version": "2.0.0",
      "model_name": "LayoutModel",
      "state": {}
     },
     "6daeb9709fa148b6acf8b80d922b2330": {
      "model_module": "@jupyter-widgets/controls",
      "model_module_version": "2.0.0",
      "model_name": "FloatProgressModel",
      "state": {
       "bar_style": "success",
       "layout": "IPY_MODEL_a0b3a6ba5696468ea3f16805b7ef4b5d",
       "max": 240,
       "style": "IPY_MODEL_039a60e72b394b678c3f562faaa9e7eb",
       "value": 240
      }
     },
     "6e273e9bef454cf18b0d6e15741d1937": {
      "model_module": "@jupyter-widgets/base",
      "model_module_version": "2.0.0",
      "model_name": "LayoutModel",
      "state": {}
     },
     "7253fb24ef674b3fa37e3c7c9c952266": {
      "model_module": "@jupyter-widgets/controls",
      "model_module_version": "2.0.0",
      "model_name": "HTMLModel",
      "state": {
       "layout": "IPY_MODEL_1a78b0e7326f46148b93b3982825fcff",
       "style": "IPY_MODEL_6b27f4a82082461fbae4b6f1d6344aa0",
       "value": "100%"
      }
     },
     "72ae6be1dcd140148450fc05ef539236": {
      "model_module": "@jupyter-widgets/base",
      "model_module_version": "2.0.0",
      "model_name": "LayoutModel",
      "state": {}
     },
     "730c4007d5af40aea2c9690daa4929a7": {
      "model_module": "@jupyter-widgets/base",
      "model_module_version": "2.0.0",
      "model_name": "LayoutModel",
      "state": {}
     },
     "75559a2c2fe14b9ea3c6e1556a795c46": {
      "model_module": "@jupyter-widgets/base",
      "model_module_version": "2.0.0",
      "model_name": "LayoutModel",
      "state": {}
     },
     "78c1009b390944c9816ce9d3c384263e": {
      "model_module": "@jupyter-widgets/controls",
      "model_module_version": "2.0.0",
      "model_name": "FloatProgressModel",
      "state": {
       "bar_style": "success",
       "layout": "IPY_MODEL_d214d04136d24c6dac81f669455189bb",
       "max": 1,
       "style": "IPY_MODEL_1f6e4e37c7dd4eaaa1d10b97e7d91192"
      }
     },
     "7b296a84ce6a4959ba179517c24ff273": {
      "model_module": "@jupyter-widgets/controls",
      "model_module_version": "2.0.0",
      "model_name": "HBoxModel",
      "state": {
       "children": [
        "IPY_MODEL_8782a96147774df78545d3c3488a57c2",
        "IPY_MODEL_cde3c745e28d4e92ac1de10c9dd18c69",
        "IPY_MODEL_88d05095971e46acba61fdada8960512"
       ],
       "layout": "IPY_MODEL_c6568d34e46e45669081640dd6dbe22b"
      }
     },
     "7d29f1057ac04274800ae256d29bba29": {
      "model_module": "@jupyter-widgets/controls",
      "model_module_version": "2.0.0",
      "model_name": "HTMLStyleModel",
      "state": {
       "description_width": "",
       "font_size": null,
       "text_color": null
      }
     },
     "7dc1f362158e45e3b6c71c26f624b6b1": {
      "model_module": "@jupyter-widgets/controls",
      "model_module_version": "2.0.0",
      "model_name": "HTMLStyleModel",
      "state": {
       "description_width": "",
       "font_size": null,
       "text_color": null
      }
     },
     "81bc25834c9d443e9c531d5f68336fab": {
      "model_module": "@jupyter-widgets/controls",
      "model_module_version": "2.0.0",
      "model_name": "HTMLModel",
      "state": {
       "layout": "IPY_MODEL_a3ac36f25e46437b9a60d8c1242b5d1a",
       "style": "IPY_MODEL_e005b36687064b7e9edf2805366fe576",
       "value": " 1085/1085 [01:04&lt;00:00, 18.74it/s]"
      }
     },
     "82565e50bede4506b2a29597c8697625": {
      "model_module": "@jupyter-widgets/controls",
      "model_module_version": "2.0.0",
      "model_name": "ProgressStyleModel",
      "state": {
       "description_width": ""
      }
     },
     "82d6044f899a4d99ab78ccf15beedb0a": {
      "model_module": "@jupyter-widgets/controls",
      "model_module_version": "2.0.0",
      "model_name": "HTMLModel",
      "state": {
       "layout": "IPY_MODEL_41f5c225470249cc959ddf890d9f0f6d",
       "style": "IPY_MODEL_7dc1f362158e45e3b6c71c26f624b6b1",
       "value": " 240/240 [00:16&lt;00:00, 15.87it/s]"
      }
     },
     "85d2f2c445a74faaabb1b26cecd4dbbf": {
      "model_module": "@jupyter-widgets/base",
      "model_module_version": "2.0.0",
      "model_name": "LayoutModel",
      "state": {}
     },
     "86db31c5874744958187e9fbdc360798": {
      "model_module": "@jupyter-widgets/base",
      "model_module_version": "2.0.0",
      "model_name": "LayoutModel",
      "state": {}
     },
     "8782a96147774df78545d3c3488a57c2": {
      "model_module": "@jupyter-widgets/controls",
      "model_module_version": "2.0.0",
      "model_name": "HTMLModel",
      "state": {
       "layout": "IPY_MODEL_c6ff17e126eb4e1fb819ea48c5309a7a",
       "style": "IPY_MODEL_9f6f1882529e41febcfe4d72dc121d16",
       "value": "100%"
      }
     },
     "887a8cd3c2404d348a42d84f75b1927d": {
      "model_module": "@jupyter-widgets/base",
      "model_module_version": "2.0.0",
      "model_name": "LayoutModel",
      "state": {}
     },
     "88d05095971e46acba61fdada8960512": {
      "model_module": "@jupyter-widgets/controls",
      "model_module_version": "2.0.0",
      "model_name": "HTMLModel",
      "state": {
       "layout": "IPY_MODEL_887a8cd3c2404d348a42d84f75b1927d",
       "style": "IPY_MODEL_b5e09d0e322f4cebab8c23d1c61cee19",
       "value": " 13/13 [07:43&lt;00:00, 20.65s/it]"
      }
     },
     "8d481f627a054023b73d73a6e4c5a7a1": {
      "model_module": "@jupyter-widgets/controls",
      "model_module_version": "2.0.0",
      "model_name": "HBoxModel",
      "state": {
       "children": [
        "IPY_MODEL_7253fb24ef674b3fa37e3c7c9c952266",
        "IPY_MODEL_b75d58f859c3482880c455999e01acff",
        "IPY_MODEL_595e8e11d08548ad9b02c345f45cbeb7"
       ],
       "layout": "IPY_MODEL_666623eeaad746928838ef5cb86863e8"
      }
     },
     "8dd3e61f615b4b9ba8fee32f7d7eed20": {
      "model_module": "@jupyter-widgets/controls",
      "model_module_version": "2.0.0",
      "model_name": "HTMLModel",
      "state": {
       "layout": "IPY_MODEL_641769b55b6c426b891b91ce95a975ee",
       "style": "IPY_MODEL_5cd035d664664cb98e1548d16577bf3d",
       "value": "100%"
      }
     },
     "8fd66ab87b7d410da8317d5f260de6bf": {
      "model_module": "@jupyter-widgets/controls",
      "model_module_version": "2.0.0",
      "model_name": "HTMLModel",
      "state": {
       "layout": "IPY_MODEL_1042b642578c47a6984fb1b11c725d4d",
       "style": "IPY_MODEL_7d29f1057ac04274800ae256d29bba29",
       "value": " 0/0 [00:00&lt;?, ?it/s]"
      }
     },
     "8ffd1ccc44954273b948112d906a1208": {
      "model_module": "@jupyter-widgets/controls",
      "model_module_version": "2.0.0",
      "model_name": "HTMLStyleModel",
      "state": {
       "description_width": "",
       "font_size": null,
       "text_color": null
      }
     },
     "90760ced178740e1a7d747617c913f2f": {
      "model_module": "@jupyter-widgets/controls",
      "model_module_version": "2.0.0",
      "model_name": "HTMLStyleModel",
      "state": {
       "description_width": "",
       "font_size": null,
       "text_color": null
      }
     },
     "914f99ba99f44c598bc09b6160e73c75": {
      "model_module": "@jupyter-widgets/controls",
      "model_module_version": "2.0.0",
      "model_name": "ProgressStyleModel",
      "state": {
       "description_width": ""
      }
     },
     "92b7e32d14914f368e443b21d4cb9672": {
      "model_module": "@jupyter-widgets/controls",
      "model_module_version": "2.0.0",
      "model_name": "HBoxModel",
      "state": {
       "children": [
        "IPY_MODEL_5a23e9bbe165463a8f3f3915fd9a9b27",
        "IPY_MODEL_6daeb9709fa148b6acf8b80d922b2330",
        "IPY_MODEL_82d6044f899a4d99ab78ccf15beedb0a"
       ],
       "layout": "IPY_MODEL_fa4b6c55ac114db284cb3c7fdf3b3448"
      }
     },
     "947bb3a1f0b54458814615d50b6f02b0": {
      "model_module": "@jupyter-widgets/base",
      "model_module_version": "2.0.0",
      "model_name": "LayoutModel",
      "state": {}
     },
     "966e9dfb38634403bf4c4852d3adff8f": {
      "model_module": "@jupyter-widgets/base",
      "model_module_version": "2.0.0",
      "model_name": "LayoutModel",
      "state": {}
     },
     "97aef4a1d0cc427fb2c7f1efe60f3ae1": {
      "model_module": "@jupyter-widgets/base",
      "model_module_version": "2.0.0",
      "model_name": "LayoutModel",
      "state": {}
     },
     "98385a3533a74b82a5ae3f1c458ba352": {
      "model_module": "@jupyter-widgets/controls",
      "model_module_version": "2.0.0",
      "model_name": "HBoxModel",
      "state": {
       "children": [
        "IPY_MODEL_6b119cf559fc41dfb6a9f2e2306a1f0e",
        "IPY_MODEL_adbb749f473b4953ac12d511fadc1b58",
        "IPY_MODEL_fe423b83fb4c4f30b53345e984364465"
       ],
       "layout": "IPY_MODEL_b80b832df6fa4ee3b382c46412333085"
      }
     },
     "9a0e14412b724f9295ac3726c50f8bdc": {
      "model_module": "@jupyter-widgets/controls",
      "model_module_version": "2.0.0",
      "model_name": "HBoxModel",
      "state": {
       "children": [
        "IPY_MODEL_d35e7ec9272d4c28a0abcf0e4bea4960",
        "IPY_MODEL_610b1cf55c6b45fa91a2802507deb248",
        "IPY_MODEL_688760c4cbd7469c8d51b0b8912fecef"
       ],
       "layout": "IPY_MODEL_abbf516498d845b5a3e4b343352974d7"
      }
     },
     "9ab56da6c3a141a3be26266ff274a8bb": {
      "model_module": "@jupyter-widgets/controls",
      "model_module_version": "2.0.0",
      "model_name": "HTMLStyleModel",
      "state": {
       "description_width": "",
       "font_size": null,
       "text_color": null
      }
     },
     "9f6f1882529e41febcfe4d72dc121d16": {
      "model_module": "@jupyter-widgets/controls",
      "model_module_version": "2.0.0",
      "model_name": "HTMLStyleModel",
      "state": {
       "description_width": "",
       "font_size": null,
       "text_color": null
      }
     },
     "a0a20dc48b2549009242ef5fecb862ea": {
      "model_module": "@jupyter-widgets/base",
      "model_module_version": "2.0.0",
      "model_name": "LayoutModel",
      "state": {}
     },
     "a0b3a6ba5696468ea3f16805b7ef4b5d": {
      "model_module": "@jupyter-widgets/base",
      "model_module_version": "2.0.0",
      "model_name": "LayoutModel",
      "state": {}
     },
     "a3213278eb0f4dc2a526f9ce8c8a4245": {
      "model_module": "@jupyter-widgets/base",
      "model_module_version": "2.0.0",
      "model_name": "LayoutModel",
      "state": {}
     },
     "a3ac36f25e46437b9a60d8c1242b5d1a": {
      "model_module": "@jupyter-widgets/base",
      "model_module_version": "2.0.0",
      "model_name": "LayoutModel",
      "state": {}
     },
     "a3d4e048eda347acb25f8af8ef6a5a4f": {
      "model_module": "@jupyter-widgets/base",
      "model_module_version": "2.0.0",
      "model_name": "LayoutModel",
      "state": {}
     },
     "a58ffe6594a7481ea674b82fb4b6a19c": {
      "model_module": "@jupyter-widgets/controls",
      "model_module_version": "2.0.0",
      "model_name": "HBoxModel",
      "state": {
       "children": [
        "IPY_MODEL_57884ec69cb145089fdc3304510e8959",
        "IPY_MODEL_c7433bf7d09949d0829049a9f8e715f6",
        "IPY_MODEL_c783b13d3ada460bbfdbd59fac15b30d"
       ],
       "layout": "IPY_MODEL_fb098bfdf21a47a7926118f5bbeb62ef"
      }
     },
     "abbf516498d845b5a3e4b343352974d7": {
      "model_module": "@jupyter-widgets/base",
      "model_module_version": "2.0.0",
      "model_name": "LayoutModel",
      "state": {}
     },
     "ad47026651084f42b17e70944f29e995": {
      "model_module": "@jupyter-widgets/base",
      "model_module_version": "2.0.0",
      "model_name": "LayoutModel",
      "state": {}
     },
     "adbb749f473b4953ac12d511fadc1b58": {
      "model_module": "@jupyter-widgets/controls",
      "model_module_version": "2.0.0",
      "model_name": "FloatProgressModel",
      "state": {
       "bar_style": "success",
       "layout": "IPY_MODEL_2656e0d75d174a1d969c5bf779b2a8b3",
       "max": 111,
       "style": "IPY_MODEL_45f9d0a015334e4f945201c706bf98db",
       "value": 111
      }
     },
     "b23f6ed898004770889361c311b3e697": {
      "model_module": "@jupyter-widgets/controls",
      "model_module_version": "2.0.0",
      "model_name": "HTMLModel",
      "state": {
       "layout": "IPY_MODEL_4dda6d03eee54a34895c275d86d64de6",
       "style": "IPY_MODEL_2b6f0b2492ac4a7689a07ea19c7f36ec",
       "value": " 216/216 [00:13&lt;00:00, 14.91it/s]"
      }
     },
     "b5539ae8f9d148dfbdd22b3e89b3b8c3": {
      "model_module": "@jupyter-widgets/controls",
      "model_module_version": "2.0.0",
      "model_name": "HTMLModel",
      "state": {
       "layout": "IPY_MODEL_a0a20dc48b2549009242ef5fecb862ea",
       "style": "IPY_MODEL_25a4cfc6396247238c4d4f8e28576e94",
       "value": " 174/174 [00:11&lt;00:00, 16.30it/s]"
      }
     },
     "b5e09d0e322f4cebab8c23d1c61cee19": {
      "model_module": "@jupyter-widgets/controls",
      "model_module_version": "2.0.0",
      "model_name": "HTMLStyleModel",
      "state": {
       "description_width": "",
       "font_size": null,
       "text_color": null
      }
     },
     "b5ee0305a87b4f75a6973253ae5dd7ed": {
      "model_module": "@jupyter-widgets/controls",
      "model_module_version": "2.0.0",
      "model_name": "FloatProgressModel",
      "state": {
       "bar_style": "success",
       "layout": "IPY_MODEL_2aef1fcad5db44269fa6d6c58360de06",
       "max": 1085,
       "style": "IPY_MODEL_4af4e8260a5046258798aa690591177e",
       "value": 1085
      }
     },
     "b75d58f859c3482880c455999e01acff": {
      "model_module": "@jupyter-widgets/controls",
      "model_module_version": "2.0.0",
      "model_name": "FloatProgressModel",
      "state": {
       "bar_style": "success",
       "layout": "IPY_MODEL_0f508f1f60d94caca37a46908ba39866",
       "max": 347,
       "style": "IPY_MODEL_64b2aed19f8b4392be631bffdaab165a",
       "value": 347
      }
     },
     "b80b832df6fa4ee3b382c46412333085": {
      "model_module": "@jupyter-widgets/base",
      "model_module_version": "2.0.0",
      "model_name": "LayoutModel",
      "state": {}
     },
     "bdc6b2a2bedd411fa9e47e1ed31950d1": {
      "model_module": "@jupyter-widgets/controls",
      "model_module_version": "2.0.0",
      "model_name": "FloatProgressModel",
      "state": {
       "bar_style": "success",
       "layout": "IPY_MODEL_bdcf91286cd34070b53bfef7aef5b567",
       "max": 1,
       "style": "IPY_MODEL_034e529bbc5c4c55873e3e8a0915f86b"
      }
     },
     "bdcf91286cd34070b53bfef7aef5b567": {
      "model_module": "@jupyter-widgets/base",
      "model_module_version": "2.0.0",
      "model_name": "LayoutModel",
      "state": {
       "width": "20px"
      }
     },
     "c2d5ea675e79498eb96b6a829d3b7a1f": {
      "model_module": "@jupyter-widgets/base",
      "model_module_version": "2.0.0",
      "model_name": "LayoutModel",
      "state": {}
     },
     "c35a1223c0844c26bafb0151a987e55d": {
      "model_module": "@jupyter-widgets/base",
      "model_module_version": "2.0.0",
      "model_name": "LayoutModel",
      "state": {}
     },
     "c5163df7ef4c4ca3887a351128887314": {
      "model_module": "@jupyter-widgets/controls",
      "model_module_version": "2.0.0",
      "model_name": "HTMLStyleModel",
      "state": {
       "description_width": "",
       "font_size": null,
       "text_color": null
      }
     },
     "c6568d34e46e45669081640dd6dbe22b": {
      "model_module": "@jupyter-widgets/base",
      "model_module_version": "2.0.0",
      "model_name": "LayoutModel",
      "state": {}
     },
     "c66170ac4d6d4f6e899ca5a5050f0b39": {
      "model_module": "@jupyter-widgets/controls",
      "model_module_version": "2.0.0",
      "model_name": "HTMLModel",
      "state": {
       "layout": "IPY_MODEL_4ba246c6f85e48449d798e0453708e03",
       "style": "IPY_MODEL_d27d8571fbfc4dd2b8c7fe0f3c73f886",
       "value": " 969/969 [00:49&lt;00:00, 18.80it/s]"
      }
     },
     "c6ff17e126eb4e1fb819ea48c5309a7a": {
      "model_module": "@jupyter-widgets/base",
      "model_module_version": "2.0.0",
      "model_name": "LayoutModel",
      "state": {}
     },
     "c7433bf7d09949d0829049a9f8e715f6": {
      "model_module": "@jupyter-widgets/controls",
      "model_module_version": "2.0.0",
      "model_name": "FloatProgressModel",
      "state": {
       "bar_style": "success",
       "layout": "IPY_MODEL_ce3774f5ec644beaa30c80ed947136f8",
       "max": 261,
       "style": "IPY_MODEL_3824995ec895415ea195e2042aaa97c1",
       "value": 261
      }
     },
     "c783b13d3ada460bbfdbd59fac15b30d": {
      "model_module": "@jupyter-widgets/controls",
      "model_module_version": "2.0.0",
      "model_name": "HTMLModel",
      "state": {
       "layout": "IPY_MODEL_dc81bff162114061adda3f87cc88b688",
       "style": "IPY_MODEL_47f6d234fe324875a2f099b87699ecee",
       "value": " 261/261 [00:10&lt;00:00, 25.25it/s]"
      }
     },
     "cb098733e3ef4f7b9c7665d2af98d2a7": {
      "model_module": "@jupyter-widgets/base",
      "model_module_version": "2.0.0",
      "model_name": "LayoutModel",
      "state": {}
     },
     "cc0cb79f27f2406a836b0ef9c88ab9a1": {
      "model_module": "@jupyter-widgets/controls",
      "model_module_version": "2.0.0",
      "model_name": "HBoxModel",
      "state": {
       "children": [
        "IPY_MODEL_8dd3e61f615b4b9ba8fee32f7d7eed20",
        "IPY_MODEL_d17da86fa4f3410f912bfca2f5c9af0d",
        "IPY_MODEL_b23f6ed898004770889361c311b3e697"
       ],
       "layout": "IPY_MODEL_c2d5ea675e79498eb96b6a829d3b7a1f"
      }
     },
     "ccc88357cbf9439180a2fe080f6b226d": {
      "model_module": "@jupyter-widgets/controls",
      "model_module_version": "2.0.0",
      "model_name": "ProgressStyleModel",
      "state": {
       "description_width": ""
      }
     },
     "cd5d13b2567e46abadb6b7c53d1b0755": {
      "model_module": "@jupyter-widgets/controls",
      "model_module_version": "2.0.0",
      "model_name": "HTMLStyleModel",
      "state": {
       "description_width": "",
       "font_size": null,
       "text_color": null
      }
     },
     "cde3c745e28d4e92ac1de10c9dd18c69": {
      "model_module": "@jupyter-widgets/controls",
      "model_module_version": "2.0.0",
      "model_name": "FloatProgressModel",
      "state": {
       "bar_style": "success",
       "layout": "IPY_MODEL_4da5311ac37249f78cfc86e14fa240a0",
       "max": 13,
       "style": "IPY_MODEL_48d47e74d15d478b8dda3f33bee5d662",
       "value": 13
      }
     },
     "ce3774f5ec644beaa30c80ed947136f8": {
      "model_module": "@jupyter-widgets/base",
      "model_module_version": "2.0.0",
      "model_name": "LayoutModel",
      "state": {}
     },
     "d17da86fa4f3410f912bfca2f5c9af0d": {
      "model_module": "@jupyter-widgets/controls",
      "model_module_version": "2.0.0",
      "model_name": "FloatProgressModel",
      "state": {
       "bar_style": "success",
       "layout": "IPY_MODEL_48984807c92741ea8b1c5d3ae07acfee",
       "max": 216,
       "style": "IPY_MODEL_914f99ba99f44c598bc09b6160e73c75",
       "value": 216
      }
     },
     "d214d04136d24c6dac81f669455189bb": {
      "model_module": "@jupyter-widgets/base",
      "model_module_version": "2.0.0",
      "model_name": "LayoutModel",
      "state": {
       "width": "20px"
      }
     },
     "d255d02a213a4065aa516b195a929230": {
      "model_module": "@jupyter-widgets/controls",
      "model_module_version": "2.0.0",
      "model_name": "HBoxModel",
      "state": {
       "children": [
        "IPY_MODEL_279ec52fd532473b830030e3f49f69d7",
        "IPY_MODEL_d937118276a0447eae10df70714d45ab",
        "IPY_MODEL_4bd83a99218946cbb2fafc0bf89ade0b"
       ],
       "layout": "IPY_MODEL_6d3786f3fa9b4137b51a83e8b34090a9"
      }
     },
     "d27d8571fbfc4dd2b8c7fe0f3c73f886": {
      "model_module": "@jupyter-widgets/controls",
      "model_module_version": "2.0.0",
      "model_name": "HTMLStyleModel",
      "state": {
       "description_width": "",
       "font_size": null,
       "text_color": null
      }
     },
     "d35e7ec9272d4c28a0abcf0e4bea4960": {
      "model_module": "@jupyter-widgets/controls",
      "model_module_version": "2.0.0",
      "model_name": "HTMLModel",
      "state": {
       "layout": "IPY_MODEL_97aef4a1d0cc427fb2c7f1efe60f3ae1",
       "style": "IPY_MODEL_08e4f2d2a89746aa9e6ab2a22f32e810",
       "value": "100%"
      }
     },
     "d50c883b6c5546d6927608fca03c3096": {
      "model_module": "@jupyter-widgets/controls",
      "model_module_version": "2.0.0",
      "model_name": "ProgressStyleModel",
      "state": {
       "description_width": ""
      }
     },
     "d51c7bc24a67435aaa8187d5ddd2248b": {
      "model_module": "@jupyter-widgets/base",
      "model_module_version": "2.0.0",
      "model_name": "LayoutModel",
      "state": {}
     },
     "d937118276a0447eae10df70714d45ab": {
      "model_module": "@jupyter-widgets/controls",
      "model_module_version": "2.0.0",
      "model_name": "FloatProgressModel",
      "state": {
       "bar_style": "success",
       "layout": "IPY_MODEL_4918950587834bd08333db03251866c5",
       "max": 1920,
       "style": "IPY_MODEL_ccc88357cbf9439180a2fe080f6b226d",
       "value": 1920
      }
     },
     "dab3e090865c4e4892b5c297b0958405": {
      "model_module": "@jupyter-widgets/controls",
      "model_module_version": "2.0.0",
      "model_name": "HTMLStyleModel",
      "state": {
       "description_width": "",
       "font_size": null,
       "text_color": null
      }
     },
     "dac4f5ce87304776876e609e4fe462f1": {
      "model_module": "@jupyter-widgets/controls",
      "model_module_version": "2.0.0",
      "model_name": "HBoxModel",
      "state": {
       "children": [
        "IPY_MODEL_4e41ebfdad124c6385203d10b3205e9c",
        "IPY_MODEL_e7ec7016a1ef48cca7fb39ac65da9154",
        "IPY_MODEL_c66170ac4d6d4f6e899ca5a5050f0b39"
       ],
       "layout": "IPY_MODEL_063d4be2b6a04fb9804a8ec5fa1c7ea1"
      }
     },
     "db2044a10c1d4c2b855984ad3eb070f3": {
      "model_module": "@jupyter-widgets/base",
      "model_module_version": "2.0.0",
      "model_name": "LayoutModel",
      "state": {}
     },
     "dc81bff162114061adda3f87cc88b688": {
      "model_module": "@jupyter-widgets/base",
      "model_module_version": "2.0.0",
      "model_name": "LayoutModel",
      "state": {}
     },
     "dedc5757d12f4ddaa0d1c63ea1fd380c": {
      "model_module": "@jupyter-widgets/base",
      "model_module_version": "2.0.0",
      "model_name": "LayoutModel",
      "state": {}
     },
     "e005b36687064b7e9edf2805366fe576": {
      "model_module": "@jupyter-widgets/controls",
      "model_module_version": "2.0.0",
      "model_name": "HTMLStyleModel",
      "state": {
       "description_width": "",
       "font_size": null,
       "text_color": null
      }
     },
     "e081b78c5a5445ec85fda4c87726b11a": {
      "model_module": "@jupyter-widgets/controls",
      "model_module_version": "2.0.0",
      "model_name": "HTMLStyleModel",
      "state": {
       "description_width": "",
       "font_size": null,
       "text_color": null
      }
     },
     "e3803bf0f82d4c6f9abff32071475cc7": {
      "model_module": "@jupyter-widgets/base",
      "model_module_version": "2.0.0",
      "model_name": "LayoutModel",
      "state": {}
     },
     "e7ec7016a1ef48cca7fb39ac65da9154": {
      "model_module": "@jupyter-widgets/controls",
      "model_module_version": "2.0.0",
      "model_name": "FloatProgressModel",
      "state": {
       "bar_style": "success",
       "layout": "IPY_MODEL_72ae6be1dcd140148450fc05ef539236",
       "max": 969,
       "style": "IPY_MODEL_82565e50bede4506b2a29597c8697625",
       "value": 969
      }
     },
     "ea285334955a48c79eca67edd4a50f21": {
      "model_module": "@jupyter-widgets/base",
      "model_module_version": "2.0.0",
      "model_name": "LayoutModel",
      "state": {}
     },
     "ea2a7508e8914e0db1bc03b1a71f47a0": {
      "model_module": "@jupyter-widgets/controls",
      "model_module_version": "2.0.0",
      "model_name": "HBoxModel",
      "state": {
       "children": [
        "IPY_MODEL_615603d1b04b4b33ba9d3895910d69ce",
        "IPY_MODEL_44e240462e7640c29ea77286df180ce5",
        "IPY_MODEL_4651d6ff90da4072ba5be0e2539da34f"
       ],
       "layout": "IPY_MODEL_75559a2c2fe14b9ea3c6e1556a795c46"
      }
     },
     "ece43c24d94d430da0b7792bcd5d11d4": {
      "model_module": "@jupyter-widgets/base",
      "model_module_version": "2.0.0",
      "model_name": "LayoutModel",
      "state": {}
     },
     "ece5223234714216821033f9cadd69b6": {
      "model_module": "@jupyter-widgets/controls",
      "model_module_version": "2.0.0",
      "model_name": "HTMLModel",
      "state": {
       "layout": "IPY_MODEL_86db31c5874744958187e9fbdc360798",
       "style": "IPY_MODEL_2f69e18c92544ca480cccdbf4b39a929"
      }
     },
     "ece665bd868640689fee3fa358b78b60": {
      "model_module": "@jupyter-widgets/controls",
      "model_module_version": "2.0.0",
      "model_name": "HTMLModel",
      "state": {
       "layout": "IPY_MODEL_582a17b496c1440b89205510d8651830",
       "style": "IPY_MODEL_90760ced178740e1a7d747617c913f2f",
       "value": " 0/0 [00:00&lt;?, ?it/s]"
      }
     },
     "f6990ee9f8f14b03a04b479e687f6608": {
      "model_module": "@jupyter-widgets/base",
      "model_module_version": "2.0.0",
      "model_name": "LayoutModel",
      "state": {}
     },
     "fa4b6c55ac114db284cb3c7fdf3b3448": {
      "model_module": "@jupyter-widgets/base",
      "model_module_version": "2.0.0",
      "model_name": "LayoutModel",
      "state": {}
     },
     "fb098bfdf21a47a7926118f5bbeb62ef": {
      "model_module": "@jupyter-widgets/base",
      "model_module_version": "2.0.0",
      "model_name": "LayoutModel",
      "state": {}
     },
     "fbdf1504505f479f988d36f90baf850f": {
      "model_module": "@jupyter-widgets/base",
      "model_module_version": "2.0.0",
      "model_name": "LayoutModel",
      "state": {}
     },
     "fe423b83fb4c4f30b53345e984364465": {
      "model_module": "@jupyter-widgets/controls",
      "model_module_version": "2.0.0",
      "model_name": "HTMLModel",
      "state": {
       "layout": "IPY_MODEL_ece43c24d94d430da0b7792bcd5d11d4",
       "style": "IPY_MODEL_dab3e090865c4e4892b5c297b0958405",
       "value": " 111/111 [00:05&lt;00:00, 20.43it/s]"
      }
     }
    },
    "version_major": 2,
    "version_minor": 0
   }
  }
 },
 "nbformat": 4,
 "nbformat_minor": 5
}
