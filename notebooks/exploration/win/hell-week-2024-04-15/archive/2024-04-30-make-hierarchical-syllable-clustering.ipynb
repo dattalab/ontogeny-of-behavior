{
 "cells": [
  {
   "cell_type": "markdown",
   "id": "e52d87bd-4b13-45b8-8ea4-5c8252bf7908",
   "metadata": {},
   "source": [
    "# Compute syllable similarities"
   ]
  },
  {
   "cell_type": "code",
   "execution_count": null,
   "id": "5648da4a-a31c-45a9-90e0-387e5c8a5689",
   "metadata": {},
   "outputs": [],
   "source": [
    "import numpy as np\n",
    "import pandas as pd\n",
    "import matplotlib.pyplot as plt\n",
    "import seaborn as sns\n",
    "from pathlib import Path\n",
    "from tqdm.auto import tqdm\n",
    "from toolz import valmap\n",
    "from scipy.spatial.distance import squareform, pdist\n",
    "from scipy.cluster.hierarchy import dendrogram, complete, ward, leaves_list\n",
    "from tslearn.barycenters import softdtw_barycenter\n",
    "from tslearn.utils import to_time_series_dataset\n",
    "from aging.moseq_modeling.pca import apply_whitening, get_whitening_params_from_training_data\n",
    "from aging.plotting import format_plots, figure, save_factory, PlotConfig"
   ]
  },
  {
   "cell_type": "code",
   "execution_count": null,
   "id": "8feedf8d-cb15-498e-ab32-2af9818f778d",
   "metadata": {},
   "outputs": [],
   "source": [
    "format_plots()\n",
    "saver = save_factory(PlotConfig().save_path / \"fig-s2\", tight_layout=False)"
   ]
  },
  {
   "cell_type": "code",
   "execution_count": null,
   "id": "160fc558-2906-4476-be2b-8cdec0acdf79",
   "metadata": {},
   "outputs": [],
   "source": [
    "mu, L = get_whitening_params_from_training_data(Path('/n/groups/datta/win/longtogeny/data/ontogeny/version_11'))"
   ]
  },
  {
   "cell_type": "code",
   "execution_count": null,
   "id": "3b6d1d28-c640-4d13-bdfa-1106befc9418",
   "metadata": {},
   "outputs": [],
   "source": [
    "df = pd.read_parquet('/n/groups/datta/win/longtogeny/data/ontogeny/version_11/ontogeny_males_syllable_df_v00.parquet')\n",
    "keep_syllables = np.loadtxt('/n/groups/datta/win/longtogeny/data/ontogeny/version_11/to_keep_syllables_raw.txt', dtype=int)\n",
    "\n",
    "# compute durations\n",
    "idx = np.where(df['onsets'])[0]\n",
    "durs = np.diff(idx).tolist() + [len(df) - idx[0]]\n",
    "df.loc[df.index[idx], 'dur'] = durs\n",
    "df['dur'] = df['dur'].ffill().astype('int16')"
   ]
  },
  {
   "cell_type": "code",
   "execution_count": null,
   "id": "69a1e3b7-3f92-4a72-9b7a-ff3227d2e922",
   "metadata": {},
   "outputs": [],
   "source": [
    "usage_df = pd.read_parquet('/n/groups/datta/win/longtogeny/data/ontogeny/version_11/ontogeny_males_raw_usage_matrix_v00.parquet')"
   ]
  },
  {
   "cell_type": "code",
   "execution_count": null,
   "id": "082b28a4-5551-444e-a527-7c5f934ef3fa",
   "metadata": {},
   "outputs": [],
   "source": [
    "pc_keys = [f\"pc_{i:02d}\" for i in range(10)]"
   ]
  },
  {
   "cell_type": "code",
   "execution_count": null,
   "id": "28c396c2-3970-4728-9373-99d1a794f9c8",
   "metadata": {},
   "outputs": [],
   "source": [
    "df[pc_keys] = df[pc_keys].interpolate()"
   ]
  },
  {
   "cell_type": "code",
   "execution_count": null,
   "id": "80578347-0501-48fb-8714-6eb48652fae1",
   "metadata": {},
   "outputs": [],
   "source": [
    "df.query('onsets')['dur'].median()"
   ]
  },
  {
   "cell_type": "code",
   "execution_count": null,
   "id": "fb4c7b3d-1a7b-4366-912c-82dc61541396",
   "metadata": {},
   "outputs": [],
   "source": [
    "# filter short duration syllables\n",
    "df = df.query('dur > 6 & dur < 25')  # frames"
   ]
  },
  {
   "cell_type": "code",
   "execution_count": null,
   "id": "a535315e-4ad2-4418-8f22-0f419f7dc559",
   "metadata": {},
   "outputs": [],
   "source": [
    "# filter for only syllables we are keeping in the paper\n",
    "df = df[df['syllables'].isin(keep_syllables)]"
   ]
  },
  {
   "cell_type": "code",
   "execution_count": null,
   "id": "178ace64-d081-4b03-846e-1888c72325be",
   "metadata": {},
   "outputs": [],
   "source": [
    "syll_counts = df.query(\"onsets\").groupby(\"age\")[\"syllables\"].value_counts()"
   ]
  },
  {
   "cell_type": "code",
   "execution_count": null,
   "id": "c5fc3530-10b4-408d-bace-06e3bb94f94f",
   "metadata": {},
   "outputs": [],
   "source": [
    "# only include age/syllable pairs that have more than 50 examples\n",
    "syll_data = syll_counts[syll_counts > 50]"
   ]
  },
  {
   "cell_type": "code",
   "execution_count": null,
   "id": "f5338d82-dbb0-41fa-90cc-32939104d126",
   "metadata": {},
   "outputs": [],
   "source": [
    "pd.pivot_table(\n",
    "    syll_counts.reset_index(),\n",
    "    columns=\"age\",\n",
    "    index=\"syllables\",\n",
    "    values=\"count\",\n",
    ")"
   ]
  },
  {
   "cell_type": "code",
   "execution_count": null,
   "id": "1fe685e5-a4dd-4615-90ff-dd06b3ba3899",
   "metadata": {},
   "outputs": [],
   "source": [
    "# sample a subset of syllables across ages\n",
    "def sample_syllable(df, syllable, ages, n_samples_per_age=6, length=20):\n",
    "    df = df.query(\"syllables == @syllable\")\n",
    "    df = df[df[\"age\"].isin(ages)].copy()\n",
    "    df[\"unique_id\"] = df[\"onsets\"].cumsum()\n",
    "    sample = []\n",
    "    for _age, _df in df.groupby(\"age\", sort=False):\n",
    "        idx = np.random.permutation(_df[\"unique_id\"].unique())[:n_samples_per_age]\n",
    "        sample.append(_df[_df[\"unique_id\"].isin(idx)])\n",
    "    sample = pd.concat(sample)\n",
    "\n",
    "    # repeat sampling until I get what I want\n",
    "    while sample['dur'].max() < length:\n",
    "        sample = []\n",
    "        for _age, _df in df.groupby(\"age\", sort=False):\n",
    "            idx = np.random.permutation(_df[\"unique_id\"].unique())[:n_samples_per_age]\n",
    "            sample.append(_df[_df[\"unique_id\"].isin(idx)])\n",
    "        sample = pd.concat(sample)\n",
    "        \n",
    "    return sample"
   ]
  },
  {
   "cell_type": "code",
   "execution_count": null,
   "id": "93488e14-f67a-446d-9457-7b0118123a28",
   "metadata": {},
   "outputs": [],
   "source": [
    "def construct_ts(df):\n",
    "    out = []\n",
    "    for _, _df in df.groupby('unique_id', sort=False):\n",
    "        out.append(apply_whitening(_df[pc_keys].to_numpy(), L, mu))\n",
    "    return to_time_series_dataset(out)"
   ]
  },
  {
   "cell_type": "code",
   "execution_count": null,
   "id": "d47417ff-78d5-4112-a3a3-d738fd9348b7",
   "metadata": {},
   "outputs": [],
   "source": [
    "np.random.seed(0)\n",
    "\n",
    "subset = []\n",
    "for syllable in tqdm(keep_syllables):\n",
    "    has_ages = syll_data.loc[pd.IndexSlice[:, syllable]].index\n",
    "    sample = sample_syllable(df, syllable, has_ages, n_samples_per_age=8)\n",
    "    ts = construct_ts(sample)\n",
    "    break\n",
    "    # subset.append()\n",
    "# subset = pd.concat(subset)"
   ]
  },
  {
   "cell_type": "code",
   "execution_count": null,
   "id": "dcae275d-268e-407a-91da-571b84193fef",
   "metadata": {},
   "outputs": [],
   "source": [
    "traj = softdtw_barycenter(ts, gamma=7, max_iter=1_000)\n",
    "plt.plot(traj[:, 0])"
   ]
  },
  {
   "cell_type": "code",
   "execution_count": null,
   "id": "e56dff39-02ed-4b23-83c2-8f62e9c839ae",
   "metadata": {
    "scrolled": true
   },
   "outputs": [],
   "source": [
    "np.random.seed(0)\n",
    "\n",
    "subset = []\n",
    "for syllable in tqdm(keep_syllables):\n",
    "    has_ages = syll_data.loc[pd.IndexSlice[:, syllable]].index\n",
    "    sample = sample_syllable(df, syllable, has_ages, n_samples_per_age=15)\n",
    "    ts = construct_ts(sample)\n",
    "\n",
    "    plt.figure()\n",
    "    traj = softdtw_barycenter(ts, gamma=0.1, max_iter=1_000)\n",
    "    plt.plot(traj[:, 0], label=0.1)\n",
    "    \n",
    "    traj = softdtw_barycenter(ts, gamma=1, max_iter=1_000)\n",
    "    plt.plot(traj[:, 0], label=1)\n",
    "    \n",
    "    traj = softdtw_barycenter(ts, gamma=2, max_iter=1_000)\n",
    "    plt.plot(traj[:, 0], label=2)\n",
    "    \n",
    "    traj = softdtw_barycenter(ts, gamma=4, max_iter=1_000)\n",
    "    plt.plot(traj[:, 0], label=4)\n",
    "    \n",
    "    traj = softdtw_barycenter(ts, gamma=8, max_iter=1_000)\n",
    "    plt.plot(traj[:, 0], label=8)\n",
    "    plt.title(syllable)\n",
    "    plt.legend()\n",
    "    plt.show()"
   ]
  },
  {
   "cell_type": "code",
   "execution_count": null,
   "id": "2746e66c-620e-453f-b3fe-b83638c897e4",
   "metadata": {},
   "outputs": [],
   "source": []
  },
  {
   "cell_type": "code",
   "execution_count": null,
   "id": "80291830-092e-45af-8632-e9871e04f7f6",
   "metadata": {},
   "outputs": [],
   "source": [
    "np.random.seed(0)\n",
    "\n",
    "syllable_traj = {}\n",
    "for syllable in tqdm(keep_syllables):\n",
    "    has_ages = syll_data.loc[pd.IndexSlice[:, syllable]].index\n",
    "    sample = sample_syllable(df, syllable, has_ages, n_samples_per_age=16, length=24)\n",
    "    ts = construct_ts(sample)\n",
    "    bc = softdtw_barycenter(ts, gamma=1, max_iter=1_000)\n",
    "    syllable_traj[syllable] = bc"
   ]
  },
  {
   "cell_type": "code",
   "execution_count": null,
   "id": "5579d8ae-9a7e-4524-a62b-cd6a4c77a0d5",
   "metadata": {},
   "outputs": [],
   "source": [
    "flattened = valmap(lambda v: v.flatten(), syllable_traj)"
   ]
  },
  {
   "cell_type": "code",
   "execution_count": null,
   "id": "c5aa5a70-e46d-44e0-8ade-8e05d18c53f1",
   "metadata": {},
   "outputs": [],
   "source": [
    "mtx = np.array(list(flattened.values()))"
   ]
  },
  {
   "cell_type": "code",
   "execution_count": null,
   "id": "4fc504f0-5adc-4856-b06e-cb3df26c5468",
   "metadata": {},
   "outputs": [],
   "source": [
    "dists = pdist(mtx, metric='correlation')"
   ]
  },
  {
   "cell_type": "code",
   "execution_count": null,
   "id": "269a73a2-f4b9-4883-909c-44f19813eb31",
   "metadata": {},
   "outputs": [],
   "source": [
    "sns.clustermap(squareform(dists), method='complete')"
   ]
  },
  {
   "cell_type": "code",
   "execution_count": null,
   "id": "d787ce8c-714d-42a4-b361-506f1c15c8e0",
   "metadata": {},
   "outputs": [],
   "source": [
    "Z = complete(dists)\n",
    "leaves = leaves_list(Z)\n",
    "fig, ax = plt.subplots(figsize=(2, 10), gridspec_kw=)\n",
    "\n",
    "dendrogram(Z, orientation='right', above_threshold_color='k', color_threshold=0, )\n",
    "ax = fig.gca()\n",
    "ax.set(xlabel='MoSeq distance')\n",
    "sns.despine()"
   ]
  },
  {
   "cell_type": "code",
   "execution_count": null,
   "id": "77dc7a11-7a48-4e23-998d-caf806b39dc9",
   "metadata": {},
   "outputs": [],
   "source": [
    "leaves = leaves_list(Z)\n"
   ]
  },
  {
   "cell_type": "code",
   "execution_count": null,
   "id": "c5655283-e487-44c7-bb75-1020deb7f8b4",
   "metadata": {},
   "outputs": [],
   "source": [
    "mosaic = [[str(l), 'D'] for l in leaves]"
   ]
  },
  {
   "cell_type": "code",
   "execution_count": null,
   "id": "d6520e1d-31b1-4eea-a335-7fed0cf7849c",
   "metadata": {},
   "outputs": [],
   "source": [
    "avg_use = usage_df[keep_syllables].groupby('age').mean()"
   ]
  },
  {
   "cell_type": "code",
   "execution_count": null,
   "id": "de4be064-a274-4483-a3af-c6d1cc850b2e",
   "metadata": {},
   "outputs": [],
   "source": [
    "fig, ax = plt.subplot_mosaic(mosaic, figsize=(3, 12), width_ratios=[3, 5])\n",
    "\n",
    "dendrogram(Z, orientation='right', above_threshold_color='k', color_threshold=0, ax=ax['D'])\n",
    "\n",
    "for i, l in enumerate(leaves):\n",
    "    a = ax[str(l)]\n",
    "    a.plot(avg_use.index, avg_use[keep_syllables[l]], color='k', lw=0.75)\n",
    "    if i < len(leaves) - 1:\n",
    "        a.set(yticks=[], xticks=[])\n",
    "    else:\n",
    "        a.set(yticks=[])\n",
    "a.set(xlabel=\"Age (weeks)\")\n",
    "ax['D'].set(xlabel='MoSeq distance')\n",
    "sns.despine()\n",
    "saver(fig, \"behavior-similarity-dendrogram\");"
   ]
  },
  {
   "cell_type": "code",
   "execution_count": null,
   "id": "15454114-6f04-4acf-aa96-4165959bca3d",
   "metadata": {},
   "outputs": [],
   "source": []
  }
 ],
 "metadata": {
  "kernelspec": {
   "display_name": "Ontogeny",
   "language": "python",
   "name": "aging"
  },
  "language_info": {
   "codemirror_mode": {
    "name": "ipython",
    "version": 3
   },
   "file_extension": ".py",
   "mimetype": "text/x-python",
   "name": "python",
   "nbconvert_exporter": "python",
   "pygments_lexer": "ipython3",
   "version": "3.10.10"
  },
  "widgets": {
   "application/vnd.jupyter.widget-state+json": {
    "state": {},
    "version_major": 2,
    "version_minor": 0
   }
  }
 },
 "nbformat": 4,
 "nbformat_minor": 5
}
