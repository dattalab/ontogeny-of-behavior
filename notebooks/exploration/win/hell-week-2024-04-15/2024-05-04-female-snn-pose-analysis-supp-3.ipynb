{
 "cells": [
  {
   "cell_type": "markdown",
   "id": "1005c450-b7af-4840-be16-12646d7fd4ee",
   "metadata": {},
   "source": [
    "# Pose analysis panels for females"
   ]
  },
  {
   "cell_type": "code",
   "execution_count": 1,
   "id": "76dfb074-f8bb-40af-a498-18cec5ba79c5",
   "metadata": {
    "tags": []
   },
   "outputs": [],
   "source": [
    "import cv2\n",
    "import h5py\n",
    "import umap\n",
    "import random\n",
    "import warnings\n",
    "import numpy as np\n",
    "import colorcet as cc\n",
    "import seaborn as sns\n",
    "import matplotlib.pyplot as plt\n",
    "from copy import deepcopy\n",
    "from tqdm.auto import tqdm\n",
    "from sklearn.decomposition import PCA\n",
    "from aging.size_norm.data import clean\n",
    "from toolz import valmap, compose, groupby, curry, concat\n",
    "from aging.organization.dataframes import get_age\n",
    "from aging.size_norm.util import subsample, flatten\n",
    "from aging.organization.paths import get_experiment_results_by_extraction_time\n",
    "from aging.plotting import format_plots, PLOT_CONFIG, save_factory, figure, legend, COLORMAPS\n",
    "\n",
    "warnings.simplefilter('ignore')"
   ]
  },
  {
   "cell_type": "code",
   "execution_count": 2,
   "id": "64da3ba2-613b-4fc1-aac3-1ce8547b5fee",
   "metadata": {},
   "outputs": [],
   "source": [
    "ONTOGENY_AGE_CMAP = \"cubehelix\""
   ]
  },
  {
   "cell_type": "code",
   "execution_count": 3,
   "id": "48c431c2-dc18-4315-b8d9-c6b2e8252128",
   "metadata": {
    "tags": []
   },
   "outputs": [],
   "source": [
    "format_plots()\n",
    "saver = save_factory(PLOT_CONFIG.save_path / \"supp-fig1-females\", tight_layout=False, dpi=600)"
   ]
  },
  {
   "cell_type": "code",
   "execution_count": 4,
   "id": "b895c844-db11-4072-9cba-486fc3d4ed22",
   "metadata": {
    "tags": []
   },
   "outputs": [],
   "source": [
    "def smooth_clean(frame):\n",
    "    frame = clean(frame, height_thresh=13)\n",
    "    frame = cv2.GaussianBlur(frame, (21, 21), 1.5, 1)\n",
    "    return frame\n",
    "\n",
    "\n",
    "def zscore(arr):\n",
    "    return (arr - np.nanmean(arr, axis=0)) / np.nanstd(arr, axis=0)"
   ]
  },
  {
   "cell_type": "code",
   "execution_count": 5,
   "id": "9b8d0e8b-561e-4d36-94f3-1eb5dd08580b",
   "metadata": {
    "tags": []
   },
   "outputs": [],
   "source": [
    "thinning = 5"
   ]
  },
  {
   "cell_type": "code",
   "execution_count": 6,
   "id": "9f69d828-96f6-4463-b934-112972b0ec06",
   "metadata": {},
   "outputs": [],
   "source": [
    "def fit_pca(frames: dict[int, np.ndarray], is_recon=False):\n",
    "    train = subsample(frames, subset=300, seed=0)\n",
    "    if not is_recon:\n",
    "        train = np.array(list(map(smooth_clean, train)))\n",
    "    pca = PCA(n_components=10).fit(flatten(train))\n",
    "    return pca\n",
    "\n",
    "\n",
    "def apply_pca_factory(pca):\n",
    "    return curry(valmap)(compose(pca.transform, flatten))"
   ]
  },
  {
   "cell_type": "code",
   "execution_count": 7,
   "id": "17ed7beb-1b74-4216-9e52-e4761cbb02d5",
   "metadata": {},
   "outputs": [],
   "source": [
    "files = get_experiment_results_by_extraction_time(old=False)"
   ]
  },
  {
   "cell_type": "code",
   "execution_count": 8,
   "id": "cdcfc40c-f9d0-48c0-92aa-a52a354163b3",
   "metadata": {},
   "outputs": [
    {
     "data": {
      "text/plain": [
       "['ontogeny_females',\n",
       " 'ontogeny_males',\n",
       " 'dana_ontogeny_males',\n",
       " 'dana_ontogeny_females',\n",
       " 'dana_ontogeny_dana_ontogeny',\n",
       " 'longtogeny_males',\n",
       " 'longtogeny_v2_males',\n",
       " 'longtogeny_v2_females',\n",
       " 'wheel',\n",
       " 'dlight',\n",
       " 'jax_longtogeny',\n",
       " 'klothos']"
      ]
     },
     "execution_count": 8,
     "metadata": {},
     "output_type": "execute_result"
    }
   ],
   "source": [
    "list(files)"
   ]
  },
  {
   "cell_type": "code",
   "execution_count": 9,
   "id": "3efc3846-e101-4725-b91d-31e6afa63471",
   "metadata": {},
   "outputs": [],
   "source": [
    "female_files = groupby(get_age, files['ontogeny_females'])"
   ]
  },
  {
   "cell_type": "code",
   "execution_count": 10,
   "id": "4c8ba6cc-f52e-411c-8d81-c42d86d7a05a",
   "metadata": {},
   "outputs": [],
   "source": [
    "def load_frames(key, n_frames, path):\n",
    "    with h5py.File(path, 'r') as h5f:\n",
    "        return h5f[key][:n_frames]\n",
    "\n",
    "\n",
    "def select_files(n_files: int, files: list):\n",
    "    files = deepcopy(files)\n",
    "    random.shuffle(files)\n",
    "    return files[:n_files]"
   ]
  },
  {
   "cell_type": "code",
   "execution_count": 11,
   "id": "d5dc6b80-bbd9-48ae-86b7-3f58c80ef39a",
   "metadata": {},
   "outputs": [],
   "source": [
    "# select and load a subset of frames from a subset of files\n",
    "n_files = 10\n",
    "frames_per_file = 3_500"
   ]
  },
  {
   "cell_type": "code",
   "execution_count": 12,
   "id": "2cc81158-e0ea-498f-9619-b0904cc2544a",
   "metadata": {},
   "outputs": [],
   "source": [
    "frame_loader = curry(load_frames)(\"frames\", frames_per_file)\n",
    "recon_frame_loader = curry(load_frames)(\"win_size_norm_frames_v7\", frames_per_file)\n",
    "file_selector = curry(select_files)(n_files)\n",
    "\n",
    "file_aggregator = curry(map)(frame_loader)\n",
    "recon_file_aggregator = curry(map)(recon_frame_loader)"
   ]
  },
  {
   "cell_type": "code",
   "execution_count": 13,
   "id": "7c192f09-973e-4a0e-ac3f-c534413f9b81",
   "metadata": {},
   "outputs": [],
   "source": [
    "random.seed(1)\n",
    "frames_files = valmap(compose(list, file_selector), female_files)"
   ]
  },
  {
   "cell_type": "code",
   "execution_count": 14,
   "id": "39ef6d6e-d373-469f-892b-296d57171237",
   "metadata": {},
   "outputs": [],
   "source": [
    "frames_dict = valmap(compose(np.vstack, list, file_aggregator), frames_files)\n",
    "recon_frames_dict = valmap(compose(np.vstack, list, recon_file_aggregator), frames_files)"
   ]
  },
  {
   "cell_type": "code",
   "execution_count": null,
   "id": "95c12904-f624-46b9-8962-f19d4d0793cf",
   "metadata": {},
   "outputs": [],
   "source": [
    "pca = fit_pca(frames_dict, is_recon=False)\n",
    "apply_pca = apply_pca_factory(pca)\n",
    "og_frame_pcs = apply_pca(frames_dict)"
   ]
  },
  {
   "cell_type": "code",
   "execution_count": null,
   "id": "15c095b7-8edd-4284-8122-86916da5fa4e",
   "metadata": {},
   "outputs": [],
   "source": [
    "recon_pca = fit_pca(recon_frames_dict, is_recon=True)\n",
    "apply_pca = apply_pca_factory(recon_pca)\n",
    "recon_frame_pcs = apply_pca(recon_frames_dict)"
   ]
  },
  {
   "cell_type": "markdown",
   "id": "48bc24cf-0e45-409d-acd6-53cdc6dfb092",
   "metadata": {},
   "source": [
    "## Plot pca pre- and post-"
   ]
  },
  {
   "cell_type": "code",
   "execution_count": null,
   "id": "a2f0685a-beff-4e0a-8049-098cee7b0d19",
   "metadata": {},
   "outputs": [],
   "source": [
    "_pcs = np.vstack(list(og_frame_pcs.values()))\n",
    "ages = np.array(list(concat([k] * len(v) for k, v in og_frame_pcs.items())))"
   ]
  },
  {
   "cell_type": "code",
   "execution_count": null,
   "id": "25ea7f05-cb51-42cf-a7db-5922a74ce120",
   "metadata": {},
   "outputs": [],
   "source": [
    "permutation = np.random.permutation(len(_pcs))[::thinning]"
   ]
  },
  {
   "cell_type": "code",
   "execution_count": null,
   "id": "1920a3d9-f284-4d31-b681-7acaf050e075",
   "metadata": {
    "tags": []
   },
   "outputs": [],
   "source": [
    "fig = figure(1.25, 1.15)\n",
    "ax = fig.gca()\n",
    "im = ax.scatter(\n",
    "    *_pcs[permutation, :2].T,\n",
    "    c=ages[permutation],\n",
    "    cmap=ONTOGENY_AGE_CMAP,\n",
    "    s=1,\n",
    "    lw=0.05,\n",
    "    ec=\"k\",\n",
    "    alpha=0.9,\n",
    "    rasterized=True,\n",
    "    vmin=0,\n",
    "    vmax=100,\n",
    ")\n",
    "fig.colorbar(im, label=\"Age (weeks)\", ax=ax)\n",
    "ax.set(xticks=[], yticks=[], xlabel=\"PC 1\", ylabel=\"PC 2\")\n",
    "sns.despine()\n",
    "saver(fig, 'pre-model-pcs-across-age', dpi=700);"
   ]
  },
  {
   "cell_type": "code",
   "execution_count": null,
   "id": "36ae1ffa-3392-4bc8-be00-92f0aa032778",
   "metadata": {},
   "outputs": [],
   "source": [
    "_pcs = np.vstack(list(recon_frame_pcs.values()))\n",
    "ages = np.array(list(concat([k] * len(v) for k, v in recon_frame_pcs.items())))"
   ]
  },
  {
   "cell_type": "code",
   "execution_count": null,
   "id": "e2ad00a8-a1b9-478e-af59-4c22f90e88fe",
   "metadata": {
    "tags": []
   },
   "outputs": [],
   "source": [
    "fig = figure(1.25, 1.15)\n",
    "ax = fig.gca()\n",
    "im = ax.scatter(\n",
    "    *_pcs[permutation, :2].T,\n",
    "    c=ages[permutation],\n",
    "    cmap=ONTOGENY_AGE_CMAP,\n",
    "    s=1,\n",
    "    lw=0.05,\n",
    "    ec=\"k\",\n",
    "    alpha=0.9,\n",
    "    rasterized=True,\n",
    "    vmin=0,\n",
    "    vmax=100,\n",
    ")\n",
    "fig.colorbar(im, label=\"Age (weeks)\", ax=ax)\n",
    "ax.set(xticks=[], yticks=[], xlabel=\"PC 1\", ylabel=\"PC 2\")\n",
    "sns.despine()\n",
    "saver(fig, 'post-model-pcs-across-age', dpi=700);"
   ]
  },
  {
   "cell_type": "markdown",
   "id": "f92845f4-9f84-4145-a1cf-c8d423c2998d",
   "metadata": {},
   "source": [
    "## Plot UMAP pre- and post-"
   ]
  },
  {
   "cell_type": "code",
   "execution_count": null,
   "id": "33269808-2425-41fa-8913-205b87fd8c59",
   "metadata": {},
   "outputs": [],
   "source": [
    "_pcs = np.vstack(list(og_frame_pcs.values()))\n",
    "ages = np.array(list(concat([k] * len(v) for k, v in og_frame_pcs.items())))\n",
    "\n",
    "umap_mdl = umap.UMAP(random_state=0)\n",
    "pre_latents = umap_mdl.fit_transform(_pcs[permutation])"
   ]
  },
  {
   "cell_type": "code",
   "execution_count": null,
   "id": "68e8c886-40ac-4589-a6d2-d2e67cb35a6f",
   "metadata": {
    "tags": []
   },
   "outputs": [],
   "source": [
    "fig = figure(1.25, 1.15)\n",
    "ax = fig.gca()\n",
    "im = ax.scatter(\n",
    "    *pre_latents.T,\n",
    "    c=ages[permutation],\n",
    "    cmap=ONTOGENY_AGE_CMAP,\n",
    "    s=1,\n",
    "    lw=0.05,\n",
    "    ec=\"k\",\n",
    "    alpha=0.9,\n",
    "    rasterized=True,\n",
    "    vmin=0,\n",
    "    vmax=100,\n",
    ")\n",
    "fig.colorbar(im, label=\"Age (weeks)\", ax=ax)\n",
    "ax.set(xticks=[], yticks=[], xlabel=\"UMAP 1\", ylabel=\"UMAP 2\")\n",
    "sns.despine()\n",
    "saver(fig, 'pre-model-umap-across-age', dpi=700);"
   ]
  },
  {
   "cell_type": "code",
   "execution_count": null,
   "id": "4203f60e-5e18-43d2-b73f-610ea9d785c1",
   "metadata": {},
   "outputs": [],
   "source": [
    "_pcs = np.vstack(list(recon_frame_pcs.values()))\n",
    "ages = np.array(list(concat([k] * len(v) for k, v in recon_frame_pcs.items())))\n",
    "\n",
    "umap_mdl = umap.UMAP(random_state=0)\n",
    "post_latents = umap_mdl.fit_transform(_pcs[permutation])"
   ]
  },
  {
   "cell_type": "code",
   "execution_count": null,
   "id": "795aec0e-258c-44e9-b306-12df188a97e9",
   "metadata": {
    "tags": []
   },
   "outputs": [],
   "source": [
    "fig = figure(1.25, 1.15)\n",
    "ax = fig.gca()\n",
    "im = ax.scatter(\n",
    "    *post_latents.T,\n",
    "    c=ages[permutation],\n",
    "    cmap=ONTOGENY_AGE_CMAP,\n",
    "    s=1,\n",
    "    lw=0.05,\n",
    "    ec=\"k\",\n",
    "    alpha=0.9,\n",
    "    rasterized=True,\n",
    "    vmin=0,\n",
    "    vmax=100,\n",
    ")\n",
    "fig.colorbar(im, label=\"Age (weeks)\", ax=ax)\n",
    "ax.set(xticks=[], yticks=[], xlabel=\"UMAP 1\", ylabel=\"UMAP 2\")\n",
    "sns.despine()\n",
    "saver(fig, 'post-model-umap-across-age', dpi=700);"
   ]
  },
  {
   "cell_type": "markdown",
   "id": "678af3f9-895b-46d2-9ce0-a3d823fee2f6",
   "metadata": {},
   "source": [
    "## k-means clustering of post-NN space, apply coloring to pre-NN space"
   ]
  },
  {
   "cell_type": "code",
   "execution_count": null,
   "id": "701a24af-f1b6-4bec-9cf0-a6df36985d1d",
   "metadata": {
    "tags": []
   },
   "outputs": [],
   "source": [
    "from sklearn.cluster import k_means"
   ]
  },
  {
   "cell_type": "code",
   "execution_count": null,
   "id": "d95f9c85-faa9-4af9-bdbb-6e83044077a4",
   "metadata": {},
   "outputs": [],
   "source": [
    "def get_avg_frames(labels, frames):\n",
    "    np.random.seed(0)\n",
    "    avgs = {}\n",
    "    counts = {}\n",
    "    start = 0\n",
    "    unique_labels = np.unique(labels)\n",
    "    for k, v in frames.items():\n",
    "        label_subset = labels[start:start+len(v)]\n",
    "        start += len(v)\n",
    "        for i in unique_labels:\n",
    "            if i not in avgs:\n",
    "                avgs[i] = np.sum(v[label_subset == i], axis=0)\n",
    "                counts[i] = np.sum(label_subset == i)\n",
    "            else:\n",
    "                avgs[i] = avgs[i] + np.sum(v[label_subset == i], axis=0)\n",
    "                counts[i] = counts[i] + np.sum(label_subset == i)\n",
    "    return {k: v / counts[k] for k, v in avgs.items()}"
   ]
  },
  {
   "cell_type": "code",
   "execution_count": null,
   "id": "5ffc73ea-f32c-4cad-a0f3-9fe6b4415ea3",
   "metadata": {},
   "outputs": [],
   "source": [
    "_pcs = np.vstack(list(recon_frame_pcs.values()))\n",
    "ages = np.array(list(concat([k] * len(v) for k, v in recon_frame_pcs.items())))\n",
    "\n",
    "centroid, labels, inertia = k_means(\n",
    "    _pcs, n_clusters=5, random_state=0\n",
    ")"
   ]
  },
  {
   "cell_type": "code",
   "execution_count": null,
   "id": "b64dd9f6-49ed-4e8a-b7db-05280a9e654f",
   "metadata": {},
   "outputs": [],
   "source": [
    "recon_frame_clusters = get_avg_frames(labels, recon_frames_dict)\n",
    "frame_clusters = get_avg_frames(labels, frames_dict)"
   ]
  },
  {
   "cell_type": "code",
   "execution_count": null,
   "id": "75677629-cfe7-4dad-955a-ab8960aa98c9",
   "metadata": {
    "scrolled": true
   },
   "outputs": [],
   "source": [
    "for k, v in frame_clusters.items():\n",
    "    fig = figure(0.5, 0.5)\n",
    "    ax = fig.gca()\n",
    "    im = ax.imshow(v, vmax=80, cmap=ONTOGENY_AGE_CMAP, vmin=0)\n",
    "    ax.set(xticks=[], yticks=[])\n",
    "    fig.colorbar(im, ax=ax, label=\"Height (mm)\")\n",
    "    plt.title(k)\n",
    "    saver(fig, f\"avg-cluster-{k}-pre-pose-post-fit-to-pre\");"
   ]
  },
  {
   "cell_type": "code",
   "execution_count": null,
   "id": "a2863b16-b5d7-425e-bfd2-0fc461477348",
   "metadata": {
    "scrolled": true
   },
   "outputs": [],
   "source": [
    "for k, v in recon_frame_clusters.items():\n",
    "    fig = figure(0.5, 0.5)\n",
    "    ax = fig.gca()\n",
    "    im = ax.imshow(v, vmax=80, cmap=ONTOGENY_AGE_CMAP, vmin=0)\n",
    "    ax.set(xticks=[], yticks=[])\n",
    "    fig.colorbar(im, ax=ax, label=\"Height (mm)\")\n",
    "    plt.title(k)\n",
    "    saver(fig, f\"avg-cluster-{k}-post-pose-post-fit-to-pre\");"
   ]
  },
  {
   "cell_type": "code",
   "execution_count": null,
   "id": "722b743c-e88e-4d6e-9533-184e4449fc7c",
   "metadata": {},
   "outputs": [],
   "source": [
    "centroid.shape"
   ]
  },
  {
   "cell_type": "code",
   "execution_count": null,
   "id": "d71a28ed-f123-42a3-ba45-9c56b81d6cc5",
   "metadata": {},
   "outputs": [],
   "source": [
    "pre_centroids = {\n",
    "    k: np.mean(pre_latents[labels[permutation] == k], axis=0)\n",
    "    for k in sorted(np.unique(labels))\n",
    "}\n",
    "pre_centroids = np.array(list(pre_centroids.values()))\n",
    "\n",
    "post_centroids = {\n",
    "    k: np.mean(post_latents[labels[permutation] == k], axis=0)\n",
    "    for k in sorted(np.unique(labels))\n",
    "}\n",
    "post_centroids = np.array(list(post_centroids.values()))"
   ]
  },
  {
   "cell_type": "code",
   "execution_count": null,
   "id": "8c15b584-7507-4ff6-b6e5-3afd97b2ce01",
   "metadata": {
    "tags": []
   },
   "outputs": [],
   "source": [
    "fig = figure(1.25, 1.15)\n",
    "ax = fig.gca()\n",
    "ax.scatter(*post_centroids[:, :2].T, color=\"k\", s=3, zorder=2)\n",
    "im = ax.scatter(\n",
    "    *post_latents.T,\n",
    "    c=labels[permutation],\n",
    "    cmap=cc.cm.glasbey,\n",
    "    s=0.4,\n",
    "    lw=0,\n",
    "    # ec=\"k\",\n",
    "    alpha=0.9,\n",
    "    rasterized=True,\n",
    "    vmax=256\n",
    ")\n",
    "cb = fig.colorbar(im, label=\"Cluster\", ax=ax, boundaries=[0, 1, 2, 3, 4, 5])\n",
    "cb.set_ticks(np.arange(0.5, 5, 1))\n",
    "cb.set_ticklabels((np.arange(0.5, 5, 1) + 0.5).astype(int))\n",
    "ax.set(xticks=[], yticks=[], xlabel=\"UMAP 1\", ylabel=\"UMAP 2\")\n",
    "sns.despine()\n",
    "saver(fig, \"post-model-umap-across-pose-clusters-post-fit\", dpi=700);"
   ]
  },
  {
   "cell_type": "code",
   "execution_count": null,
   "id": "cdff1fc4-87cf-4649-849c-1fe8849a0b09",
   "metadata": {
    "tags": []
   },
   "outputs": [],
   "source": [
    "fig = figure(1.25, 1.15)\n",
    "ax = fig.gca()\n",
    "ax.scatter(*pre_centroids[:, :2].T, color='k', s=3, zorder=2)\n",
    "im = ax.scatter(\n",
    "    *pre_latents.T,\n",
    "    c=labels[permutation],\n",
    "    cmap=cc.cm.glasbey,\n",
    "    s=0.4,\n",
    "    lw=0,\n",
    "    # ec=\"k\",\n",
    "    alpha=0.9,\n",
    "    rasterized=True,\n",
    "    vmax=256\n",
    ")\n",
    "cb = fig.colorbar(im, label=\"Cluster\", ax=ax, boundaries=[0, 1, 2, 3, 4, 5])\n",
    "cb.set_ticks(np.arange(0.5, 5, 1))\n",
    "cb.set_ticklabels((np.arange(0.5, 5, 1) + 0.5).astype(int))\n",
    "ax.set(xticks=[], yticks=[], xlabel=\"UMAP 1\", ylabel=\"UMAP 2\")\n",
    "sns.despine()\n",
    "saver(fig, \"pre-model-umap-across-pose-clusters-post-fit\", dpi=700);"
   ]
  },
  {
   "cell_type": "markdown",
   "id": "4ddbe08a-b186-4470-9637-7a01976b10e1",
   "metadata": {},
   "source": [
    "## Area transform"
   ]
  },
  {
   "cell_type": "code",
   "execution_count": null,
   "id": "3f0f5f88-efd6-48ad-b580-e0f2c9997a2c",
   "metadata": {},
   "outputs": [],
   "source": [
    "import polars as pl"
   ]
  },
  {
   "cell_type": "code",
   "execution_count": null,
   "id": "604e2b54-410e-4e4d-905a-5d2749b63c2f",
   "metadata": {},
   "outputs": [],
   "source": [
    "colors = ['#fee6ce','#d94801']\n",
    "female_cmap = sns.blend_palette(colors, as_cmap=True)"
   ]
  },
  {
   "cell_type": "code",
   "execution_count": null,
   "id": "05ebf398-e5c5-4812-a70d-e709c99d00e1",
   "metadata": {
    "tags": []
   },
   "outputs": [],
   "source": [
    "version = 11\n",
    "df = pl.scan_parquet(\n",
    "    f\"/n/groups/datta/win/longtogeny/data/ontogeny/version_{version:02d}/ontogeny_females_syllable_df_v00.parquet\"\n",
    ")"
   ]
  },
  {
   "cell_type": "code",
   "execution_count": null,
   "id": "c1b70981-5ef3-4998-a12a-e3958e9689ca",
   "metadata": {},
   "outputs": [],
   "source": [
    "areas = (\n",
    "    df.group_by([\"age\", \"session_name\", \"uuid\"])\n",
    "    .agg([pl.col(\"area_px\").median(), pl.col(\"recon_area\").median()])\n",
    "    .group_by(\"age\")\n",
    "    .agg([pl.col(\"area_px\").mean(), pl.col(\"recon_area\").mean()])\n",
    "    .filter(pl.col(\"age\") < 100)\n",
    "    .collect()\n",
    ")\n",
    "\n",
    "melted_areas = areas.to_pandas().melt(id_vars='age', value_vars=['area_px', 'recon_area'])"
   ]
  },
  {
   "cell_type": "code",
   "execution_count": null,
   "id": "cbbd7be9-89ba-4814-8204-196e26756aaf",
   "metadata": {
    "tags": []
   },
   "outputs": [],
   "source": [
    "fig = figure(0.5, 1)\n",
    "ax = sns.lineplot(\n",
    "    data=melted_areas, x=\"variable\", y=\"value\", hue=\"age\", palette=female_cmap\n",
    ")\n",
    "ax.set(ylabel=\"Mouse area (px2)\", xlabel=\"\", xticklabels=[\"Original\", \"Transformed\"])\n",
    "plt.xticks(rotation=90)\n",
    "legend(ax, title=\"Age (weeks)\")\n",
    "sns.despine()\n",
    "saver(fig, \"intra-age-area-mean\");"
   ]
  },
  {
   "cell_type": "markdown",
   "id": "78078c36-4cf4-4bf9-9fa4-45d7f81c7259",
   "metadata": {},
   "source": [
    "## Extract dynamics"
   ]
  },
  {
   "cell_type": "code",
   "execution_count": null,
   "id": "7e1c809b-469b-4f95-b2e7-942951149bc0",
   "metadata": {},
   "outputs": [],
   "source": [
    "import pandas as pd\n",
    "import polars as pl\n",
    "from aging.behavior.scalars import compute_scalars"
   ]
  },
  {
   "cell_type": "code",
   "execution_count": null,
   "id": "ef2d4b47-299e-4bd8-b75d-4a5686fefb86",
   "metadata": {},
   "outputs": [],
   "source": [
    "dynamics_frame_loader = curry(load_frames)(\"frames\", frames_per_file * 3)\n",
    "dynamics_recon_frame_loader = curry(load_frames)(\n",
    "    \"win_size_norm_frames_v7\", frames_per_file * 3\n",
    ")\n",
    "dynamics_file_aggregator = curry(map)(dynamics_frame_loader)\n",
    "dynamics_recon_file_aggregator = curry(map)(dynamics_recon_frame_loader)"
   ]
  },
  {
   "cell_type": "code",
   "execution_count": null,
   "id": "6a61decd-0046-4f8a-ab21-f9a640c90b9f",
   "metadata": {},
   "outputs": [],
   "source": [
    "frames_dict = valmap(compose(list, dynamics_file_aggregator), frames_files)\n",
    "recon_frames_dict = valmap(compose(list, dynamics_recon_file_aggregator), frames_files)"
   ]
  },
  {
   "cell_type": "code",
   "execution_count": null,
   "id": "6005fc1a-2cfe-42eb-829f-e27075ac40a3",
   "metadata": {},
   "outputs": [],
   "source": [
    "rolling_win_size = 40 * 30\n",
    "\n",
    "dynamics_corr_df = []\n",
    "dynamics_rolling_corr_df = []\n",
    "\n",
    "for age, frames_list in tqdm(frames_dict.items()):\n",
    "    for i, (_og_frames, _recon_frames) in enumerate(\n",
    "        zip(frames_list, recon_frames_dict[age])\n",
    "    ):\n",
    "        scalars = compute_scalars(_og_frames.copy(), is_recon=False, height_thresh=12)\n",
    "        recon_scalars = compute_scalars(\n",
    "            _recon_frames.copy(), is_recon=False, height_thresh=12\n",
    "        )\n",
    "\n",
    "        # aggregate correlations for all scalars\n",
    "        # alse compute rolling correlations to find plottable examples\n",
    "        tmp_corrs = {}\n",
    "        rolling_corrs = {}\n",
    "\n",
    "        for k, v in scalars.items():\n",
    "            tmp_corrs[k] = pd.Series(v).corr(pd.Series(recon_scalars[k]))\n",
    "            pl_df = pl.DataFrame({k: v, f\"{k}_recon\": recon_scalars[k]})\n",
    "            corr_val = pl_df.with_columns(\n",
    "                [\n",
    "                    pl.rolling_corr(\n",
    "                        k, f\"{k}_recon\", window_size=rolling_win_size\n",
    "                    ).alias(\"corr\")\n",
    "                ]\n",
    "            )[\"corr\"]\n",
    "            rolling_corrs[k] = np.asarray(corr_val)\n",
    "        tmp_corrs[\"avg\"] = np.mean(list(tmp_corrs.values()))\n",
    "        tmp_corrs[\"age\"] = age\n",
    "\n",
    "        dynamics_corr_df.append(tmp_corrs)\n",
    "\n",
    "        rolling_corrs = pd.DataFrame(rolling_corrs)\n",
    "        rolling_corrs[\"avg\"] = rolling_corrs.mean(1)\n",
    "        rolling_corrs[\"age\"] = age\n",
    "        rolling_corrs[\"file_index\"] = i\n",
    "\n",
    "        dynamics_rolling_corr_df.append(rolling_corrs)\n",
    "\n",
    "dynamics_corr_df = pd.DataFrame(dynamics_corr_df)\n",
    "dynamics_rolling_corr_df = pd.concat(dynamics_rolling_corr_df)"
   ]
  },
  {
   "cell_type": "code",
   "execution_count": null,
   "id": "c3e8bd8d-be10-48b0-9794-7ca7db4cb77f",
   "metadata": {},
   "outputs": [],
   "source": [
    "colors = [\"#fee6ce\", \"#d94801\"]\n",
    "female_cmap = sns.blend_palette(colors, as_cmap=True)\n",
    "\n",
    "fig = figure(0.65, 1.3)\n",
    "ax = sns.swarmplot(\n",
    "    data=dynamics_corr_df,\n",
    "    y=\"avg\",\n",
    "    hue=\"age\",\n",
    "    palette=female_cmap,\n",
    "    size=0.7,\n",
    "    legend=False,\n",
    ")\n",
    "ax.set(ylim=(0, 1), xlabel=\"Age (weeks)\", ylabel=\"Dynamics correlation (R)\")\n",
    "sns.despine()\n",
    "saver(fig, \"dynamics-correlation-vs-age-swarmplot\");"
   ]
  },
  {
   "cell_type": "markdown",
   "id": "3b629040-9398-40a1-8818-9b1cce26f119",
   "metadata": {},
   "source": [
    "### Individual examples of dynamics"
   ]
  },
  {
   "cell_type": "code",
   "execution_count": null,
   "id": "47926d56-775d-4aaa-8f29-f544da2a8858",
   "metadata": {},
   "outputs": [],
   "source": [
    "def get_best_example(age):\n",
    "    best_young_session = (\n",
    "        dynamics_rolling_corr_df.query(\"age == @age\")\n",
    "        .groupby(\"file_index\")[\"width\"]\n",
    "        .max()\n",
    "        .idxmax()\n",
    "    )\n",
    "    end_idx = np.argmax(\n",
    "        dynamics_rolling_corr_df.query(\n",
    "            \"age == @age & file_index == @best_young_session\"\n",
    "        )[\"width\"]\n",
    "    )\n",
    "    return best_young_session, end_idx\n",
    "\n",
    "\n",
    "def compute_example(data, recon_data):\n",
    "    scalars = compute_scalars(data.copy(), is_recon=False, height_thresh=12)\n",
    "    recon_scalars = compute_scalars(recon_data.copy(), is_recon=False, height_thresh=12)\n",
    "    start = end_idx - rolling_win_size\n",
    "    w1 = zscore(scalars[\"width\"][start:end_idx])\n",
    "    w2 = zscore(recon_scalars[\"width\"][start:end_idx])\n",
    "\n",
    "    w1 = pd.Series(w1).rolling(8).mean()\n",
    "    w2 = pd.Series(w2).rolling(8).mean()\n",
    "\n",
    "    ww1 = scalars[\"width\"][start:end_idx]\n",
    "    ww2 = recon_scalars[\"width\"][start:end_idx]\n",
    "\n",
    "    ww1 = pd.Series(ww1).rolling(8).mean()\n",
    "    ww2 = pd.Series(ww2).rolling(8).mean()\n",
    "\n",
    "    return w1, w2, ww1, ww2"
   ]
  },
  {
   "cell_type": "code",
   "execution_count": null,
   "id": "294e6d84-bf84-469f-a5e6-3c2973495c54",
   "metadata": {},
   "outputs": [],
   "source": [
    "time = np.arange(rolling_win_size) / 30"
   ]
  },
  {
   "cell_type": "code",
   "execution_count": null,
   "id": "ab6b8c7f-da91-4de6-bbdc-8a62fdc26ebe",
   "metadata": {},
   "outputs": [],
   "source": [
    "best_young_session, end_idx = get_best_example(4)\n",
    "\n",
    "data = frames_dict[4][best_young_session]\n",
    "recon_data = recon_frames_dict[4][best_young_session]\n",
    "\n",
    "w1, w2, ww1, ww2 = compute_example(data, recon_data)"
   ]
  },
  {
   "cell_type": "code",
   "execution_count": null,
   "id": "1ba31197-355a-4729-bde7-8ef48dace9d8",
   "metadata": {},
   "outputs": [],
   "source": [
    "fig = figure(2, 1)\n",
    "ax = fig.gca()\n",
    "ax.plot(time, w1, label=\"Original\", color=\"k\")\n",
    "ax.plot(time, w2, label=\"Transformed\", color=\"silver\")\n",
    "ax.set(xlabel=\"Time (s)\", ylabel=\"Width (z)\", title=\"4 weeks\", xlim=(0, 40))\n",
    "legend(ax)\n",
    "sns.despine()\n",
    "saver(fig, \"dynamics-example-4-wks\");\n",
    "\n",
    "fig = figure(2, 1)\n",
    "ax = fig.gca()\n",
    "ax.plot(time, ww1, label=\"Original\", color=\"k\")\n",
    "ax.plot(time, ww2, label=\"Transformed\", color=\"silver\")\n",
    "ax.set(xlabel=\"Time (s)\", ylabel=\"Width (px)\", title=\"4 weeks\", xlim=(0, 40))\n",
    "legend(ax)\n",
    "sns.despine()\n",
    "saver(fig, \"dynamics-example-raw-4-wks\");"
   ]
  },
  {
   "cell_type": "code",
   "execution_count": null,
   "id": "933af53f-ece2-4feb-89ad-05523f739e6c",
   "metadata": {},
   "outputs": [],
   "source": [
    "best_young_session, end_idx = get_best_example(84)\n",
    "\n",
    "data = frames_dict[84][best_young_session]\n",
    "recon_data = recon_frames_dict[84][best_young_session]\n",
    "\n",
    "w1, w2, ww1, ww2 = compute_example(data, recon_data)"
   ]
  },
  {
   "cell_type": "code",
   "execution_count": null,
   "id": "8517dcc2-2260-4c4f-b0a6-a95ba3f077c6",
   "metadata": {},
   "outputs": [],
   "source": [
    "fig = figure(2, 1)\n",
    "ax = fig.gca()\n",
    "ax.plot(time, w1, label='Original', color='k')\n",
    "ax.plot(time, w2, label='Transformed', color='silver')\n",
    "ax.set(xlabel=\"Time (s)\", ylabel=\"Width (z)\", title='84 weeks', xlim=(0, 40))\n",
    "legend(ax)\n",
    "sns.despine()\n",
    "saver(fig, 'dynamics-example-84-wks');\n",
    "\n",
    "fig = figure(2, 1)\n",
    "ax = fig.gca()\n",
    "ax.plot(time, ww1, label='Original', color='k')\n",
    "ax.plot(time, ww2, label='Transformed', color='silver')\n",
    "ax.set(xlabel=\"Time (s)\", ylabel=\"Width (px)\", title='84 weeks', xlim=(0, 40))\n",
    "legend(ax)\n",
    "sns.despine()\n",
    "saver(fig, 'dynamics-example-raw-84-wks');"
   ]
  },
  {
   "cell_type": "code",
   "execution_count": null,
   "id": "e9d938d9-0c94-4993-ad16-eba78d583b0b",
   "metadata": {},
   "outputs": [],
   "source": [
    "best_young_session, end_idx = get_best_example(12)\n",
    "\n",
    "data = frames_dict[12][best_young_session]\n",
    "recon_data = recon_frames_dict[12][best_young_session]\n",
    "\n",
    "w1, w2, ww1, ww2 = compute_example(data, recon_data)"
   ]
  },
  {
   "cell_type": "code",
   "execution_count": null,
   "id": "ac3c90f9-a964-4568-816c-a7d86c932968",
   "metadata": {},
   "outputs": [],
   "source": [
    "fig = figure(2, 1)\n",
    "ax = fig.gca()\n",
    "ax.plot(time, w1, label=\"Original\", color=\"k\")\n",
    "ax.plot(time, w2, label=\"Transformed\", color=\"silver\")\n",
    "ax.set(xlabel=\"Time (s)\", ylabel=\"Width (z)\", title=\"12 weeks\", xlim=(0, 40))\n",
    "legend(ax)\n",
    "sns.despine()\n",
    "saver(fig, \"dynamics-example-12-wks\")\n",
    "\n",
    "fig = figure(2, 1)\n",
    "ax = fig.gca()\n",
    "ax.plot(time, ww1, label=\"Original\", color=\"k\")\n",
    "ax.plot(time, ww2, label=\"Transformed\", color=\"silver\")\n",
    "ax.set(xlabel=\"Time (s)\", ylabel=\"Width (px)\", title=\"12 weeks\", xlim=(0, 40))\n",
    "legend(ax)\n",
    "sns.despine()\n",
    "saver(fig, \"dynamics-example-raw-12-wks\");"
   ]
  },
  {
   "cell_type": "markdown",
   "id": "635154ed-abe7-4bb2-94e9-6f7be5e2ff81",
   "metadata": {},
   "source": [
    "## Compute changepoints"
   ]
  },
  {
   "cell_type": "code",
   "execution_count": null,
   "id": "d6988341-3eda-463c-93bd-eac0cf244457",
   "metadata": {},
   "outputs": [],
   "source": [
    "from aging.plotting import IMG_KWARGS\n",
    "from sklearn.random_projection import GaussianRandomProjection"
   ]
  },
  {
   "cell_type": "code",
   "execution_count": null,
   "id": "268abe98-50b6-46a3-8174-70306819e653",
   "metadata": {},
   "outputs": [],
   "source": [
    "def compute_changepoints(frames, mdl=None, k=5, sig=3):\n",
    "    if mdl is None:\n",
    "        mdl = GaussianRandomProjection(n_components=300, random_state=0)\n",
    "        proj = mdl.fit_transform(flatten(frames))\n",
    "    else:\n",
    "        proj = mdl.transform(flatten(frames))\n",
    "\n",
    "    proj_df = pd.DataFrame(zscore(zscore(proj).T).T, index=np.arange(len(proj)) / 30)\n",
    "    proj_df_smooth = (\n",
    "        proj_df.rolling(sig * 4, win_type=\"gaussian\", center=True)\n",
    "        .mean(std=sig)\n",
    "        .dropna()\n",
    "    )\n",
    "    squared_diff = np.square(proj_df_smooth.diff(k)).shift(-k // 2)\n",
    "    cp = squared_diff.mean(axis=\"columns\")\n",
    "\n",
    "    return cp, proj_df_smooth, mdl\n",
    "\n",
    "\n",
    "def imshow(fig, data, cmap, lims):\n",
    "    ax = fig.gca()\n",
    "    ax.imshow(\n",
    "        data,\n",
    "        cmap=cmap,\n",
    "        vmin=-lims,\n",
    "        vmax=lims,\n",
    "        extent=(0, data.shape[1] / 30, 0, len(data)),\n",
    "        **IMG_KWARGS\n",
    "    )\n",
    "    ax.set(yticks=[], xlabel=\"Time (s)\", ylabel=\"Random projections\")\n",
    "    return ax\n",
    "\n",
    "\n",
    "def plot_changepoints(\n",
    "    frames, recon_frames, cmap=\"RdBu_r\", lims=1.5, start_idx=0, n_frames=750\n",
    "):\n",
    "    cp, proj_df, mdl = compute_changepoints(frames)\n",
    "    cp_t, proj_df_t, _ = compute_changepoints(recon_frames, mdl)\n",
    "\n",
    "    fig1 = figure(2, 0.5)\n",
    "    ax = imshow(fig1, proj_df.iloc[start_idx : start_idx + n_frames].T, cmap, lims)\n",
    "\n",
    "    fig2 = figure(2, 0.5)\n",
    "    ax = imshow(fig2, proj_df_t.iloc[start_idx : start_idx + n_frames].T, cmap, lims)\n",
    "    fig3 = figure(2, 0.7)\n",
    "    ax = fig3.gca()\n",
    "    ax.plot(\n",
    "        np.arange(n_frames) / 30,\n",
    "        cp_t.iloc[start_idx : start_idx + n_frames],\n",
    "        color=\"k\",\n",
    "        label=\"Transformed\",\n",
    "    )\n",
    "    ax.plot(\n",
    "        np.arange(n_frames) / 30,\n",
    "        cp.iloc[start_idx : start_idx + n_frames],\n",
    "        color=\"silver\",\n",
    "        label=\"Original\",\n",
    "        alpha=0.9,\n",
    "    )\n",
    "    legend(ax)\n",
    "    ax.set(ylabel=\"Changepoint score (a.u.)\", xlabel=\"Time (s)\", xlim=(0, 25))\n",
    "    sns.despine(ax=ax)\n",
    "\n",
    "    return fig1, fig2, fig3"
   ]
  },
  {
   "cell_type": "code",
   "execution_count": null,
   "id": "4a64a0e1-0d45-492c-8e32-c005662cdc8d",
   "metadata": {
    "tags": []
   },
   "outputs": [],
   "source": [
    "cmap = \"RdBu_r\"\n",
    "lims = 1.5"
   ]
  },
  {
   "cell_type": "code",
   "execution_count": null,
   "id": "e7393d43-f030-4609-81b9-38c53bbd3ec5",
   "metadata": {
    "tags": []
   },
   "outputs": [],
   "source": [
    "age = 84\n",
    "session_idx = 1\n",
    "frames = frames_dict[age][session_idx]\n",
    "transformed_frames = recon_frames_dict[age][session_idx]\n",
    "\n",
    "figs = plot_changepoints(\n",
    "    frames, transformed_frames, start_idx=1200, cmap=cmap, lims=lims\n",
    ")\n",
    "saver(figs[0], f'rps-{age}w-raw')\n",
    "saver(figs[1], f'rps-{age}w-transformed')\n",
    "saver(figs[2], f'cps-{age}w');"
   ]
  },
  {
   "cell_type": "code",
   "execution_count": null,
   "id": "4fafa5a8-5019-4cd0-a232-21662a6c7b05",
   "metadata": {
    "tags": []
   },
   "outputs": [],
   "source": [
    "age = 4\n",
    "session_idx = 1\n",
    "frames = frames_dict[age][session_idx]\n",
    "transformed_frames = recon_frames_dict[age][session_idx]\n",
    "\n",
    "figs = plot_changepoints(\n",
    "    frames, transformed_frames, start_idx=2500, cmap=cmap, lims=lims\n",
    ")\n",
    "saver(figs[0], f'rps-{age}w-raw')\n",
    "saver(figs[1], f'rps-{age}w-transformed')\n",
    "saver(figs[2], f'cps-{age}w');"
   ]
  },
  {
   "cell_type": "code",
   "execution_count": null,
   "id": "5f1ee3bb-04a2-4225-96f8-eed171510b65",
   "metadata": {
    "tags": []
   },
   "outputs": [],
   "source": [
    "age = 12\n",
    "session_idx = 1\n",
    "frames = frames_dict[age][session_idx]\n",
    "transformed_frames = recon_frames_dict[age][session_idx]\n",
    "\n",
    "figs = plot_changepoints(\n",
    "    frames, transformed_frames, start_idx=2500, cmap=cmap, lims=lims\n",
    ")\n",
    "saver(figs[0], f'rps-{age}w-raw')\n",
    "saver(figs[1], f'rps-{age}w-transformed')\n",
    "saver(figs[2], f'cps-{age}w');"
   ]
  },
  {
   "cell_type": "markdown",
   "id": "1345f982-500c-4a53-a9d6-3ee10dc1fa59",
   "metadata": {},
   "source": [
    "### Compute changepoint correlations"
   ]
  },
  {
   "cell_type": "code",
   "execution_count": null,
   "id": "332d678f-37a8-4a2d-8efc-3d379783df68",
   "metadata": {},
   "outputs": [],
   "source": [
    "from collections import defaultdict"
   ]
  },
  {
   "cell_type": "code",
   "execution_count": null,
   "id": "9a78383f-54b2-4ae0-8361-db233204eee5",
   "metadata": {},
   "outputs": [],
   "source": [
    "cp_dict = defaultdict(list)\n",
    "for k, v in tqdm(frames_dict.items()):\n",
    "    for frames, recon_frames in zip(v, recon_frames_dict[k]):\n",
    "        cp, _, mdl = compute_changepoints(frames)\n",
    "        cp_t, _, _ = compute_changepoints(recon_frames, mdl=mdl)\n",
    "\n",
    "        c = cp.corr(cp_t)\n",
    "        cp_dict[k].append(c)"
   ]
  },
  {
   "cell_type": "code",
   "execution_count": null,
   "id": "b8c2c450-a60a-4c68-a24c-508a7d05acf6",
   "metadata": {},
   "outputs": [],
   "source": [
    "cp_df = pd.concat((pd.DataFrame({\"corr\": d, \"Age\": k}) for k, d in cp_dict.items()), ignore_index=True)"
   ]
  },
  {
   "cell_type": "code",
   "execution_count": null,
   "id": "d853189d-da66-4d7c-b352-37f79dcf2bf1",
   "metadata": {},
   "outputs": [],
   "source": [
    "fig = figure(0.65, 1.3)\n",
    "ax = sns.swarmplot(\n",
    "    data=cp_df,\n",
    "    y=\"corr\",\n",
    "    hue=\"Age\",\n",
    "    palette=female_cmap,\n",
    "    size=0.7,\n",
    "    legend=False,\n",
    ")\n",
    "ax.set(ylim=(0, 1), ylabel=\"Changepoint score correlation\")\n",
    "sns.despine()\n",
    "saver(fig, \"cps-correlation-vs-age-swarmplot\");"
   ]
  },
  {
   "cell_type": "code",
   "execution_count": null,
   "id": "fc993604-02e4-4cea-8ad4-71939cc86cf8",
   "metadata": {},
   "outputs": [],
   "source": []
  }
 ],
 "metadata": {
  "kernelspec": {
   "display_name": "Ontogeny",
   "language": "python",
   "name": "aging"
  },
  "language_info": {
   "codemirror_mode": {
    "name": "ipython",
    "version": 3
   },
   "file_extension": ".py",
   "mimetype": "text/x-python",
   "name": "python",
   "nbconvert_exporter": "python",
   "pygments_lexer": "ipython3",
   "version": "3.10.10"
  },
  "widgets": {
   "application/vnd.jupyter.widget-state+json": {
    "state": {},
    "version_major": 2,
    "version_minor": 0
   }
  }
 },
 "nbformat": 4,
 "nbformat_minor": 5
}
