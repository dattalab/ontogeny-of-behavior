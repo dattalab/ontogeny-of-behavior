{
 "cells": [
  {
   "cell_type": "markdown",
   "id": "e723dd9d-ad3f-4284-8143-311c7d19dc14",
   "metadata": {},
   "source": [
    "# Make panels in figure 3 - males vs females"
   ]
  },
  {
   "cell_type": "code",
   "execution_count": null,
   "id": "8578f43d-3f03-4c53-ba2b-22827952430e",
   "metadata": {},
   "outputs": [],
   "source": [
    "import numpy as np\n",
    "import pandas as pd\n",
    "import matplotlib.pyplot as plt\n",
    "import colorcet as cc\n",
    "import seaborn as sns\n",
    "from aging.plotting import format_plots, save_factory, figure, legend, PlotConfig, add_identity"
   ]
  },
  {
   "cell_type": "code",
   "execution_count": null,
   "id": "992e4870-4d3b-4686-a463-2a1a9fb84bce",
   "metadata": {},
   "outputs": [],
   "source": [
    "format_plots()\n",
    "c = PlotConfig()\n",
    "saver = save_factory(c.save_path / \"fig3-panels\", tight_layout=False)\n",
    "\n",
    "colors = ['#c7eae5','#008C8D']\n",
    "male_cmap = sns.blend_palette(colors, as_cmap=True)\n",
    "colors = ['#fee6ce','#d94801']\n",
    "female_cmap = sns.blend_palette(colors, as_cmap=True)"
   ]
  },
  {
   "cell_type": "code",
   "execution_count": null,
   "id": "26f344f3-abd4-4d45-91e7-5d7d74e06db0",
   "metadata": {},
   "outputs": [],
   "source": [
    "df = pd.read_parquet('/n/groups/datta/win/longtogeny/data/ontogeny/version_11/ontogeny_males_raw_usage_matrix_v00.parquet')\n",
    "# f_df = pd.read_parquet('/n/groups/datta/win/longtogeny/data/ontogeny/version_11/ontogeny_females_raw_usage_matrix_v00.parquet')\n",
    "f_df = pd.read_parquet('/n/groups/datta/win/longtogeny/data/ontogeny/version_11/ontogeny_females_raw_usage_matrix_v{df_version:02d}.parquet')\n",
    "keep_syllables = np.loadtxt('/n/groups/datta/win/longtogeny/data/ontogeny/version_11/to_keep_syllables_raw.txt', dtype=int)\n",
    "df = df[keep_syllables]\n",
    "f_df = f_df[keep_syllables]\n",
    "df = df.set_index(pd.Index(['male'] * len(df), name='experiment'), append=True)\n",
    "f_df = f_df.set_index(pd.Index(['female'] * len(f_df), name='experiment'), append=True)\n",
    "df = pd.concat([df, f_df])\n",
    "\n",
    "usage_order = df.quantile(0.9).sort_values(ascending=False).index\n",
    "df = df[usage_order].astype('float32')\n",
    "df = df.query('age < 100')"
   ]
  },
  {
   "cell_type": "markdown",
   "id": "4b5e105b-54de-44c3-b161-c3b650533fe4",
   "metadata": {},
   "source": [
    "## Make panel for male/female \"pca\""
   ]
  },
  {
   "cell_type": "code",
   "execution_count": null,
   "id": "de9ca7d4-0535-44f0-bc0c-9f8a01add721",
   "metadata": {},
   "outputs": [],
   "source": [
    "from sklearn.cross_decomposition import PLSRegression"
   ]
  },
  {
   "cell_type": "code",
   "execution_count": null,
   "id": "8a704743-0fd1-4425-99e9-0823be0d4d17",
   "metadata": {},
   "outputs": [],
   "source": [
    "reg = PLSRegression(n_components=2)\n",
    "reg.fit(df, df.index.get_level_values('age').to_numpy()[:, None])"
   ]
  },
  {
   "cell_type": "code",
   "execution_count": null,
   "id": "cfbe67de-3519-4bb0-81fd-bbb7eb314b80",
   "metadata": {},
   "outputs": [],
   "source": [
    "scores = reg.transform(df)"
   ]
  },
  {
   "cell_type": "code",
   "execution_count": null,
   "id": "9473000a-b553-47fa-b7ff-b34073857a20",
   "metadata": {},
   "outputs": [],
   "source": [
    "scores_df = pd.DataFrame(scores, index=df.index)"
   ]
  },
  {
   "cell_type": "code",
   "execution_count": null,
   "id": "92389dd6-0d2b-478a-bfb0-0bf01b6ea588",
   "metadata": {},
   "outputs": [],
   "source": [
    "cmapmap = {\n",
    "    'male': male_cmap,\n",
    "    'female': female_cmap,\n",
    "}"
   ]
  },
  {
   "cell_type": "code",
   "execution_count": null,
   "id": "7fb5e850-927f-4199-8208-58a11f47fd9f",
   "metadata": {},
   "outputs": [],
   "source": [
    "fig = figure(1, 1)\n",
    "ax = fig.gca()\n",
    "for experiment, _df in scores_df.groupby('experiment'):\n",
    "    ax.scatter(_df[0], _df[1], c=_df.index.get_level_values('age'), cmap=cmapmap[experiment], s=1.5)\n",
    "ax.set(xticks=[], yticks=[], xlabel=\"Dim 1\", ylabel=\"Dim 2\")\n",
    "sns.despine()\n",
    "saver(fig, \"pls-regression-male-female\");"
   ]
  },
  {
   "cell_type": "markdown",
   "id": "a5753a7e-cd14-4fe0-8ef7-8ffb75469c4a",
   "metadata": {},
   "source": [
    "## Female regression"
   ]
  },
  {
   "cell_type": "code",
   "execution_count": null,
   "id": "55635962-7e17-4bbb-832a-44b322b8b694",
   "metadata": {},
   "outputs": [],
   "source": [
    "from sklearn.cross_decomposition import PLSRegression\n",
    "from sklearn.model_selection import StratifiedKFold, LeaveOneGroupOut, cross_val_predict\n",
    "from sklearn.metrics import r2_score"
   ]
  },
  {
   "cell_type": "code",
   "execution_count": null,
   "id": "a98c635f-bf7c-4ecd-a327-c5073c9ad1b6",
   "metadata": {},
   "outputs": [],
   "source": [
    "female_df = df.query('experiment == \"female\"')\n",
    "y = female_df.index.get_level_values(\"age\")"
   ]
  },
  {
   "cell_type": "code",
   "execution_count": null,
   "id": "61855a57-4a94-413b-a8b3-c9a39468b063",
   "metadata": {},
   "outputs": [],
   "source": [
    "preds = cross_val_predict(\n",
    "    PLSRegression(n_components=5),\n",
    "    female_df,\n",
    "    y.to_numpy()[:, None],\n",
    "    groups=y,\n",
    "    cv=LeaveOneGroupOut(),\n",
    "    n_jobs=-1,\n",
    ").squeeze()\n",
    "r2s = r2_score(y, preds)\n",
    "r2s"
   ]
  },
  {
   "cell_type": "code",
   "execution_count": null,
   "id": "d6ed2edf-0ec3-42e8-8338-5ef7e25bdad8",
   "metadata": {},
   "outputs": [],
   "source": [
    "fig = figure(1.2, 1.2)\n",
    "ax = fig.gca()\n",
    "plt.scatter(y, preds, c=y, cmap=female_cmap, s=3)\n",
    "add_identity(ax, ls='--', color='k', zorder=-1)\n",
    "ax.set(xlim=(0, None), yticks=[0, 50, 100], xlabel=\"True age (weeks)\", ylabel=\"Predicted age (weeks)\", title=f\"R2={r2s:0.2f}\")\n",
    "sns.despine()\n",
    "saver(fig, \"female-chron-age-regression-results-logo\");"
   ]
  },
  {
   "cell_type": "code",
   "execution_count": null,
   "id": "c72ff7fc-a671-496f-a250-290ed206d852",
   "metadata": {},
   "outputs": [],
   "source": [
    "preds = cross_val_predict(\n",
    "    PLSRegression(n_components=5),\n",
    "    female_df,\n",
    "    y.to_numpy()[:, None],\n",
    "    groups=y,\n",
    "    cv=StratifiedKFold(n_splits=5, random_state=0, shuffle=True),\n",
    "    n_jobs=-1,\n",
    ").squeeze()\n",
    "r2s = r2_score(y, preds)\n",
    "r2s"
   ]
  },
  {
   "cell_type": "code",
   "execution_count": null,
   "id": "f890e418-aca7-4db8-88a4-7aa22f4aca39",
   "metadata": {},
   "outputs": [],
   "source": [
    "fig = figure(1.2, 1.2)\n",
    "ax = fig.gca()\n",
    "plt.scatter(y, preds, c=y, cmap=female_cmap, s=3)\n",
    "add_identity(ax, ls='--', color='k', zorder=-1)\n",
    "ax.set(xlim=(0, None), yticks=[0, 50, 100], xlabel=\"True age (weeks)\", ylabel=\"Predicted age (weeks)\", title=f\"R2={r2s:0.2f}\")\n",
    "sns.despine()\n",
    "saver(fig, \"female-chron-age-regression-results-stratified\");"
   ]
  },
  {
   "cell_type": "markdown",
   "id": "e63f39a8-8082-4aef-8b43-004feaff33e7",
   "metadata": {},
   "source": [
    "## Plot usage based on male ontogeny syllable ordering"
   ]
  },
  {
   "cell_type": "code",
   "execution_count": null,
   "id": "bf2b34f0-a57d-4c5c-8e9b-0d25e8de7379",
   "metadata": {},
   "outputs": [],
   "source": [
    "plt_order = np.loadtxt(\"/n/groups/datta/win/longtogeny/data/ontogeny/version_11/onto_male_syllable_plot_order.txt\", dtype=int)\n",
    "plt_order2 = np.loadtxt(\"/n/groups/datta/win/longtogeny/data/ontogeny/version_11/onto_male_syllable_plot_order_2.txt\", dtype=int)"
   ]
  },
  {
   "cell_type": "code",
   "execution_count": null,
   "id": "b192b3b1-23bb-4e87-b116-442d9c90cbe9",
   "metadata": {},
   "outputs": [],
   "source": [
    "image_ctx = {'image.cmap': 'cubehelix', 'image.interpolation': 'none'}"
   ]
  },
  {
   "cell_type": "code",
   "execution_count": null,
   "id": "e98e913e-1f0e-416a-8bb0-f13d48e3b87e",
   "metadata": {},
   "outputs": [],
   "source": [
    "female_df = df.query('experiment == \"female\"')\n",
    "ages = female_df.index.get_level_values(\"age\")\n",
    "\n",
    "for i, _order in enumerate((plt_order, plt_order2)):\n",
    "    with plt.rc_context(image_ctx):\n",
    "        fig = figure(1.6, 1)\n",
    "        ax = fig.gca()\n",
    "        im = ax.imshow(female_df[_order].T, vmax=0.075, aspect='auto', vmin=0, extent=(ages.min(), ages.max(), len(df.T), 0))\n",
    "        cb = fig.colorbar(mappable=im, ax=ax, label=\"Usage fraction\")\n",
    "        cb.set_ticks([0, 0.075])\n",
    "        ax.set(yticks=[], xticks=[], xlabel='Age (weeks)', ylabel=\"Syllables\")\n",
    "    saver(fig, f\"female_usage_plot_order-{i:02d}\")"
   ]
  },
  {
   "cell_type": "code",
   "execution_count": null,
   "id": "89b4463b-6f83-44ca-bd4b-d6b18888633b",
   "metadata": {},
   "outputs": [],
   "source": [
    "for i, _order in enumerate((plt_order, plt_order2)):\n",
    "    with plt.rc_context(image_ctx):\n",
    "        fig = figure(1.05, 1)\n",
    "        ax = fig.gca()\n",
    "        im = ax.imshow(female_df.groupby('age').mean()[_order].T, vmax=0.075, aspect='auto', vmin=0, extent=(ages.min(), ages.max(), len(df.T), 0))\n",
    "        cb = fig.colorbar(mappable=im, ax=ax, label=\"Usage fraction\")\n",
    "        cb.set_ticks([0, 0.075])\n",
    "        ax.set(yticks=[], xticks=[], xlabel='Age (weeks)', ylabel=\"Syllables\")\n",
    "    saver(fig, f\"female_averaged_usage_plot_order-{i:02d}\")\n",
    "    plt.show()"
   ]
  },
  {
   "cell_type": "markdown",
   "id": "8fc6f3b5-4ebb-4a92-b111-9ac62c439a1c",
   "metadata": {},
   "source": [
    "### Do within-female clustering"
   ]
  },
  {
   "cell_type": "code",
   "execution_count": null,
   "id": "06d967e1-a4f8-458f-98eb-eae595085a59",
   "metadata": {},
   "outputs": [],
   "source": [
    "from sklearn.cluster import KMeans\n",
    "from functools import reduce\n",
    "from operator import add"
   ]
  },
  {
   "cell_type": "code",
   "execution_count": null,
   "id": "ac11f0cb-d39e-45f2-87cb-3753c9577c8e",
   "metadata": {},
   "outputs": [],
   "source": [
    "norm_df = female_df - female_df.min()\n",
    "norm_df = norm_df / norm_df.quantile(0.95)"
   ]
  },
  {
   "cell_type": "code",
   "execution_count": null,
   "id": "6f2061db-ff53-4ced-bc72-44358c1f06b7",
   "metadata": {},
   "outputs": [],
   "source": [
    "km = KMeans(n_clusters=4, random_state=0)\n",
    "lbls = km.fit_predict(norm_df.T)\n",
    "syll_lbl_df = pd.DataFrame({\"syll\": df.columns, \"lbl\": lbls})"
   ]
  },
  {
   "cell_type": "code",
   "execution_count": null,
   "id": "20e12538-fca4-4ce5-b440-cfd81a2563e5",
   "metadata": {},
   "outputs": [],
   "source": [
    "# sort syllables by usage within cluster\n",
    "cluster_avgs = female_df.T.groupby(lbls).mean().T.mean().sort_values(ascending=False)\n",
    "new_map_order = dict(map(reversed, enumerate(cluster_avgs.index)))\n",
    "cluster_avgs"
   ]
  },
  {
   "cell_type": "code",
   "execution_count": null,
   "id": "cf996660-e615-463d-8c35-10cbd65f9235",
   "metadata": {},
   "outputs": [],
   "source": [
    "new_map_order"
   ]
  },
  {
   "cell_type": "code",
   "execution_count": null,
   "id": "a375e2ca-09f7-42e6-8ce2-3863f6dc8d6e",
   "metadata": {},
   "outputs": [],
   "source": [
    "df_with_cluster = female_df.T\n",
    "df_with_cluster = df_with_cluster.set_index(\n",
    "    [\n",
    "        pd.Index(lbls, name=\"labels\").map(new_map_order),\n",
    "        pd.Index(df_with_cluster.index, name=\"syllables\"),\n",
    "    ]\n",
    ")"
   ]
  },
  {
   "cell_type": "code",
   "execution_count": null,
   "id": "55fe7088-5e42-4cb0-ac82-47bb047e39db",
   "metadata": {},
   "outputs": [],
   "source": [
    "within_clust_org = {}\n",
    "for i, (l, _df) in enumerate(df_with_cluster.groupby('labels')):\n",
    "    syllable_order = _df.T.quantile(0.75).index.get_level_values('syllables')\n",
    "    if i % 2 == 0:\n",
    "        within_clust_org[l] = list(syllable_order)\n",
    "    else:\n",
    "        within_clust_org[l] = list(syllable_order)[::-1]\n",
    "plt_order = reduce(add, within_clust_org.values())\n",
    "\n",
    "within_clust_org = {}\n",
    "for i, (l, _df) in enumerate(df_with_cluster.groupby('labels')):\n",
    "    syllable_order = _df.T.quantile(0.75).index.get_level_values('syllables')\n",
    "    if i % 2 == 1:\n",
    "        within_clust_org[l] = list(syllable_order)\n",
    "    else:\n",
    "        within_clust_org[l] = list(syllable_order)[::-1]\n",
    "plt_order2 = reduce(add, within_clust_org.values())"
   ]
  },
  {
   "cell_type": "code",
   "execution_count": null,
   "id": "d58859eb-c8b7-4bdc-9128-fe5a960c2106",
   "metadata": {},
   "outputs": [],
   "source": [
    "female_df = df.query('experiment == \"female\"')\n",
    "ages = female_df.index.get_level_values(\"age\")\n",
    "\n",
    "for i, _order in enumerate((plt_order, plt_order2)):\n",
    "    with plt.rc_context(image_ctx):\n",
    "        fig = figure(1.6, 1)\n",
    "        ax = fig.gca()\n",
    "        im = ax.imshow(female_df[_order].T, vmax=0.075, aspect='auto', vmin=0, extent=(ages.min(), ages.max(), len(df.T), 0))\n",
    "        cb = fig.colorbar(mappable=im, ax=ax, label=\"Usage fraction\")\n",
    "        cb.set_ticks([0, 0.075])\n",
    "        ax.set(yticks=[], xticks=[], xlabel='Age (weeks)', ylabel=\"Syllables\")\n",
    "    saver(fig, f\"female_usage_plot_order-{i:02d}-female-specific-sort\")"
   ]
  },
  {
   "cell_type": "code",
   "execution_count": null,
   "id": "070ea348-8734-4e35-912b-77bc21494495",
   "metadata": {},
   "outputs": [],
   "source": [
    "for i, _order in enumerate((plt_order, plt_order2)):\n",
    "    with plt.rc_context(image_ctx):\n",
    "        fig = figure(1.05, 1)\n",
    "        ax = fig.gca()\n",
    "        im = ax.imshow(female_df.groupby('age').mean()[_order].T, vmax=0.075, aspect='auto', vmin=0, extent=(ages.min(), ages.max(), len(df.T), 0))\n",
    "        cb = fig.colorbar(mappable=im, ax=ax, label=\"Usage fraction\")\n",
    "        cb.set_ticks([0, 0.075])\n",
    "        ax.set(yticks=[], xticks=[], xlabel='Age (weeks)', ylabel=\"Syllables\")\n",
    "    saver(fig, f\"female_averaged_usage_plot_order-{i:02d}-female-specific-sort\")"
   ]
  },
  {
   "cell_type": "code",
   "execution_count": null,
   "id": "56e6ceac-7d77-4633-b981-bd18bec40892",
   "metadata": {},
   "outputs": [],
   "source": [
    "for _lbl, _df in norm_df.T.groupby(list(map(new_map_order.get, lbls))):\n",
    "    fig = figure(0.6, 0.6)\n",
    "    ax = fig.gca()\n",
    "    ax = (\n",
    "        _df.T.groupby(\"age\")\n",
    "        .mean()\n",
    "        .plot(ax=ax, legend=False, color=\"silver\", lw=0.5, alpha=0.4)\n",
    "    )\n",
    "    ax.plot(\n",
    "        _df.T.groupby(\"age\")\n",
    "        .mean()\n",
    "        .mean(1)\n",
    "        .rolling(5, win_type=\"gaussian\", min_periods=1, center=True)\n",
    "        .mean(std=0.75),\n",
    "        lw=1.5,\n",
    "        color=cc.glasbey[_lbl],\n",
    "    )\n",
    "    ax.set(ylim=(0, 1), yticks=[0, 1], xlabel=\"Age (weeks)\", title=f\"Cluster {_lbl + 1}\")\n",
    "    sns.despine()\n",
    "    saver(fig, f\"females-clustered-usage-cluster-{_lbl}\")"
   ]
  },
  {
   "cell_type": "markdown",
   "id": "dc02b865-941c-49ee-ac0f-e49437f7ca7b",
   "metadata": {},
   "source": [
    "## PCA of syllable usage"
   ]
  },
  {
   "cell_type": "code",
   "execution_count": null,
   "id": "5ef19e6d-d085-47d1-b89a-be9c7e15ee1b",
   "metadata": {},
   "outputs": [],
   "source": [
    "from sklearn.decomposition import PCA"
   ]
  },
  {
   "cell_type": "code",
   "execution_count": null,
   "id": "966f5feb-df50-46ae-a267-fa6fd3cb343c",
   "metadata": {},
   "outputs": [],
   "source": [
    "def zscore(df):\n",
    "    return (df - df.mean()) / df.std()\n",
    "\n",
    "def mmn(df):\n",
    "    m = df.where(df > 0).min()\n",
    "    ma = df.max()\n",
    "    return (df - m) / (ma - m)"
   ]
  },
  {
   "cell_type": "code",
   "execution_count": null,
   "id": "7e51ee7d-1929-491e-a594-857432f2276d",
   "metadata": {},
   "outputs": [],
   "source": [
    "pcs = PCA(n_components=2).fit_transform(female_df)"
   ]
  },
  {
   "cell_type": "code",
   "execution_count": null,
   "id": "10109834-0916-443f-8dbe-b7ac16b97c22",
   "metadata": {},
   "outputs": [],
   "source": [
    "fig = figure(1.7, 1.5)\n",
    "ax = fig.gca()\n",
    "im = ax.scatter(pcs[:, 0], pcs[:, 1], c=ages, cmap=female_cmap, s=10)\n",
    "cb = fig.colorbar(im, ax=ax, label=\"Age (weeks)\")\n",
    "cb.set_ticks([4, 90])\n",
    "ax.set(xticks=[], yticks=[], xlabel=\"PC 1\", ylabel=\"PC 2\")\n",
    "sns.despine()\n",
    "# saver(fig, \"female_pca-scores\");"
   ]
  },
  {
   "cell_type": "markdown",
   "id": "d3130869-638c-4553-a823-5578bfd6a006",
   "metadata": {},
   "source": [
    "## Inter-individual distances"
   ]
  },
  {
   "cell_type": "code",
   "execution_count": null,
   "id": "33c53198-a2c1-44db-aa86-c367f489ea29",
   "metadata": {},
   "outputs": [],
   "source": [
    "import matplotlib.colors as mpc\n",
    "from scipy.spatial.distance import pdist, squareform"
   ]
  },
  {
   "cell_type": "code",
   "execution_count": null,
   "id": "49519c14-7583-435f-a573-dabbb2d917a0",
   "metadata": {},
   "outputs": [],
   "source": [
    "iid = dict()\n",
    "iid_df = []\n",
    "iid_avg_df = []\n",
    "for age, _df in female_df.groupby('age'):\n",
    "    inter_ind_dists = pdist(_df, metric='jensenshannon')\n",
    "    iid[age] = inter_ind_dists\n",
    "    iid_df.append(pd.DataFrame(dict(iid=inter_ind_dists, age=age)))\n",
    "    d = squareform(inter_ind_dists)\n",
    "    d[np.diag_indices_from(d)] = np.nan\n",
    "    d = np.nanmean(d, axis=1)\n",
    "    iid_avg_df.append(pd.DataFrame(dict(iid=d, age=age)))\n",
    "iid_df = pd.concat(iid_df)\n",
    "iid_avg_df = pd.concat(iid_avg_df)"
   ]
  },
  {
   "cell_type": "code",
   "execution_count": null,
   "id": "d728e2b3-652b-49ec-9f65-b7457c203836",
   "metadata": {},
   "outputs": [],
   "source": [
    "normalizer = mpc.Normalize(vmin=min(iid), vmax=max(iid))\n",
    "onto_color_list = female_cmap(normalizer(list(iid)))"
   ]
  },
  {
   "cell_type": "code",
   "execution_count": null,
   "id": "376cbb4b-002e-4db1-8529-c018506fa901",
   "metadata": {},
   "outputs": [],
   "source": [
    "fig = figure(1.7, 1.25)\n",
    "a = sns.boxplot(data=iid, showfliers=False, showcaps=False, palette=list(onto_color_list))\n",
    "a.set(xlabel=\"Age (weeks)\", ylabel=\"Inter-individual distance (JSD)\", ylim=(None, 0.46))\n",
    "sns.despine()\n",
    "saver(fig, \"female_iid-jsd-boxplot\");"
   ]
  },
  {
   "cell_type": "code",
   "execution_count": null,
   "id": "580d6886-1980-4414-b856-204d98a63a93",
   "metadata": {},
   "outputs": [],
   "source": [
    "fig = figure(1.7, 1.25)\n",
    "a = sns.lineplot(\n",
    "    data=iid_avg_df,\n",
    "    x=\"age\",\n",
    "    y=\"iid\",\n",
    "    zorder=-1,\n",
    "    color=\"gray\",\n",
    "    err_kws={\"lw\": 0, \"alpha\": 0.4},\n",
    "    errorbar=(\"se\", 2),\n",
    ")\n",
    "a = sns.scatterplot(\n",
    "    data=iid_avg_df,\n",
    "    x=\"age\",\n",
    "    y=\"iid\",\n",
    "    palette=female_cmap,\n",
    "    hue=\"age\",\n",
    "    legend=False,\n",
    "    s=6,\n",
    "    linewidths=0,\n",
    "    alpha=1,\n",
    "    zorder=1,\n",
    ")\n",
    "a.set(\n",
    "    ylim=(None, 0.38),\n",
    "    xlim=(0, None),\n",
    "    xlabel=\"Age (weeks)\",\n",
    "    ylabel=\"Inter-individual distance (JSD)\",\n",
    ")\n",
    "sns.despine()\n",
    "saver(fig, \"female_iid-jsd-scatter\");"
   ]
  },
  {
   "cell_type": "code",
   "execution_count": null,
   "id": "f6e726dc-e142-413e-b7ca-80ff01004143",
   "metadata": {},
   "outputs": [],
   "source": [
    "iid = dict()\n",
    "iid_df = []\n",
    "iid_avg_df = []\n",
    "for age, _df in female_df.groupby('age'):\n",
    "    inter_ind_dists = pdist(_df, metric='cosine')\n",
    "    iid[age] = inter_ind_dists\n",
    "    iid_df.append(pd.DataFrame(dict(iid=inter_ind_dists, age=age)))\n",
    "    d = squareform(inter_ind_dists)\n",
    "    d[np.diag_indices_from(d)] = np.nan\n",
    "    d = np.nanmean(d, axis=1)\n",
    "    iid_avg_df.append(pd.DataFrame(dict(iid=d, age=age)))\n",
    "iid_df = pd.concat(iid_df)\n",
    "iid_avg_df = pd.concat(iid_avg_df)"
   ]
  },
  {
   "cell_type": "code",
   "execution_count": null,
   "id": "adfd3bf3-2655-4b55-a809-7221c6065be1",
   "metadata": {},
   "outputs": [],
   "source": [
    "fig = figure(1.7, 1.25)\n",
    "a = sns.boxplot(data=iid, showfliers=False, showcaps=False, palette=list(onto_color_list))\n",
    "a.set(xlabel=\"Age (weeks)\", ylabel=\"Inter-individual distance (cosine)\")\n",
    "sns.despine()\n",
    "saver(fig, \"female_iid-cosine-boxplot\");"
   ]
  },
  {
   "cell_type": "code",
   "execution_count": null,
   "id": "1edf9a05-0176-44fc-ac36-b9ae68fdf890",
   "metadata": {},
   "outputs": [],
   "source": [
    "fig = figure(1.7, 1.25)\n",
    "a = sns.lineplot(\n",
    "    data=iid_avg_df,\n",
    "    x=\"age\",\n",
    "    y=\"iid\",\n",
    "    zorder=-1,\n",
    "    color=\"gray\",\n",
    "    err_kws={\"lw\": 0, \"alpha\": 0.4},\n",
    "    errorbar=(\"se\", 2),\n",
    ")\n",
    "a = sns.scatterplot(\n",
    "    data=iid_avg_df,\n",
    "    x=\"age\",\n",
    "    y=\"iid\",\n",
    "    palette=female_cmap,\n",
    "    hue=\"age\",\n",
    "    legend=False,\n",
    "    s=6,\n",
    "    linewidths=0,\n",
    "    alpha=1,\n",
    "    zorder=1,\n",
    ")\n",
    "a.set(\n",
    "    ylim=(None, 0.36),\n",
    "    xlim=(0, None),\n",
    "    xlabel=\"Age (weeks)\",\n",
    "    ylabel=\"Inter-individual distance (cosine)\",\n",
    ")\n",
    "sns.despine()\n",
    "saver(fig, \"female_iid-cosine-scatter\");"
   ]
  },
  {
   "cell_type": "markdown",
   "id": "04411a43-69e4-4505-9a1b-5f8704c2b2d5",
   "metadata": {},
   "source": [
    "## Rate of change"
   ]
  },
  {
   "cell_type": "code",
   "execution_count": null,
   "id": "383137cb-288c-41af-8566-9843a22e8840",
   "metadata": {},
   "outputs": [],
   "source": [
    "n_boot = 1_000\n",
    "boots = []\n",
    "for i in range(n_boot):\n",
    "    sampled = female_df.groupby('age').sample(frac=1, replace=True, random_state=i)\n",
    "    avg_usage = sampled.groupby(\"age\").mean()\n",
    "    smoothed_avg_usage = avg_usage.rolling(\n",
    "        5, min_periods=1, win_type=\"gaussian\", center=True\n",
    "    ).mean(std=2)\n",
    "    abs_diff = smoothed_avg_usage.diff().abs()\n",
    "    norm_diff = np.linalg.norm(abs_diff.to_numpy(), axis=1)\n",
    "    # min-max normalize\n",
    "    norm_diff -= np.nanmin(norm_diff)\n",
    "    norm_diff /= np.nanmax(norm_diff)\n",
    "\n",
    "    boots.append(\n",
    "        pd.Series(norm_diff, index=abs_diff.index)\n",
    "    )\n",
    "\n",
    "boot_df = pd.DataFrame(boots).T.reset_index()\n",
    "boot_df = boot_df.melt(id_vars=\"age\")"
   ]
  },
  {
   "cell_type": "code",
   "execution_count": null,
   "id": "8e763cd8-60d1-48ee-be78-111a5ef7e552",
   "metadata": {},
   "outputs": [],
   "source": [
    "fig = figure(1, 1)\n",
    "ax = sns.lineplot(\n",
    "    data=boot_df,\n",
    "    x=\"age\",\n",
    "    y=\"value\",\n",
    "    errorbar=(\"sd\", 2),\n",
    "    err_kws=dict(lw=0),\n",
    "    color=female_cmap(256),\n",
    ")\n",
    "ax.set(xlim=(0, None), ylabel=\"Usage rate of change (normalized)\", xlabel=\"Age (weeks)\")\n",
    "sns.despine()\n",
    "saver(fig, \"ontogeny-female-rate-of-change\");"
   ]
  },
  {
   "cell_type": "code",
   "execution_count": null,
   "id": "4860012f-1412-4086-9e42-1be494456674",
   "metadata": {},
   "outputs": [],
   "source": [
    "n_boot = 1_000\n",
    "boots = []\n",
    "for i in range(n_boot):\n",
    "    sampled = female_df.groupby('age').sample(frac=1, replace=True, random_state=i)\n",
    "    avg_usage = sampled.groupby(\"age\").mean()\n",
    "    smoothed_avg_usage = avg_usage.rolling(\n",
    "        5, min_periods=1, win_type=\"gaussian\", center=True\n",
    "    ).mean(std=2)\n",
    "    abs_diff = smoothed_avg_usage.diff().abs()\n",
    "    norm_diff = np.linalg.norm(abs_diff.to_numpy(), axis=1)\n",
    "\n",
    "    boots.append(\n",
    "        pd.Series(norm_diff, index=abs_diff.index)\n",
    "    )\n",
    "\n",
    "boot_df = pd.DataFrame(boots).T.reset_index()\n",
    "boot_df = boot_df.melt(id_vars=\"age\")"
   ]
  },
  {
   "cell_type": "code",
   "execution_count": null,
   "id": "3a434715-43f5-421a-ac45-a67424f66d4c",
   "metadata": {},
   "outputs": [],
   "source": [
    "fig = figure(1, 1)\n",
    "ax = sns.lineplot(\n",
    "    data=boot_df,\n",
    "    x=\"age\",\n",
    "    y=\"value\",\n",
    "    errorbar=(\"sd\", 2),\n",
    "    err_kws=dict(lw=0),\n",
    "    color=female_cmap(256),\n",
    ")\n",
    "ax.set(xlim=(0, 105), ylabel=\"Usage rate of change (a.u.)\", xlabel=\"Age (weeks)\", ylim=(0, 0.025))\n",
    "sns.despine()\n",
    "saver(fig, \"ontogeny-female-rate-of-change-unnormalized\");"
   ]
  },
  {
   "cell_type": "markdown",
   "id": "8123b622-d292-4fce-8239-8755b54ef43e",
   "metadata": {},
   "source": [
    "## NMF"
   ]
  },
  {
   "cell_type": "code",
   "execution_count": null,
   "id": "9994a086-1ecf-4d88-9894-b09fe2e8055d",
   "metadata": {},
   "outputs": [],
   "source": [
    "from sklearn.decomposition import NMF"
   ]
  },
  {
   "cell_type": "code",
   "execution_count": null,
   "id": "56dd3e32-4b19-4b96-908b-bc640ae4198f",
   "metadata": {},
   "outputs": [],
   "source": [
    "n_boot = 1_000\n",
    "boots = []\n",
    "for i in range(n_boot):\n",
    "    sampled = female_df.groupby('age').sample(frac=1, replace=True, random_state=i)\n",
    "    avg_usage = sampled.groupby(\"age\").mean()\n",
    "\n",
    "    nmf = NMF(n_components=2, random_state=0, max_iter=4000)\n",
    "    scores = nmf.fit_transform(avg_usage)\n",
    "    boots.append(\n",
    "        pd.DataFrame(scores, index=avg_usage.index)\n",
    "    )\n",
    "boot_df = pd.concat(boots).reset_index()\n",
    "boot_df = boot_df.melt(id_vars=\"age\", var_name='component')"
   ]
  },
  {
   "cell_type": "code",
   "execution_count": null,
   "id": "176dc0ab-4472-45e4-b0cc-9e968ae78152",
   "metadata": {},
   "outputs": [],
   "source": [
    "fig = figure(1.5, 1)\n",
    "ax = sns.lineplot(data=boot_df, x='age', y='value', hue='component', palette=cc.glasbey_light[5:9], errorbar=('sd', 2), err_kws=dict(lw=0))\n",
    "legend(ax, title=\"Component\")\n",
    "ax.set(xlabel=\"Age (weeks)\", ylabel=\"NMF score\", xlim=(0, None), ylim=(0, None))\n",
    "sns.despine()\n",
    "saver(fig, 'female_nmf-components-with-error');"
   ]
  },
  {
   "cell_type": "code",
   "execution_count": null,
   "id": "1975c680-e7e3-4260-8dc7-dab86f04b65a",
   "metadata": {},
   "outputs": [],
   "source": [
    "fig = figure(1.5, 1)\n",
    "ax = sns.lineplot(data=boot_df, x='age', y='value', hue='component', palette=cc.glasbey_light[5:9], errorbar=None, err_kws=dict(lw=0))\n",
    "legend(ax, title=\"Component\")\n",
    "ax.set(xlabel=\"Age (weeks)\", ylabel=\"NMF score\", xlim=(0, None), ylim=(0, None))\n",
    "sns.despine()\n",
    "saver(fig, 'female_nmf-components-no-error');"
   ]
  },
  {
   "cell_type": "markdown",
   "id": "5e825691-8dcb-45d4-9422-04c2ae51293e",
   "metadata": {},
   "source": [
    "## Entropy of syllable usage"
   ]
  },
  {
   "cell_type": "code",
   "execution_count": null,
   "id": "d2fbff95-8cfc-4a13-beb6-4ca10334ac63",
   "metadata": {},
   "outputs": [],
   "source": [
    "from scipy.stats import entropy"
   ]
  },
  {
   "cell_type": "code",
   "execution_count": null,
   "id": "99f60c7a-84da-494c-be52-afa8178107fd",
   "metadata": {},
   "outputs": [],
   "source": [
    "ent = pd.Series(entropy(female_df.to_numpy() + 1e-4, axis=1), index=female_df.index)\n",
    "ent.name = 'entropy'"
   ]
  },
  {
   "cell_type": "code",
   "execution_count": null,
   "id": "8ee7e361-7660-4432-b26c-35ceffe9e477",
   "metadata": {},
   "outputs": [],
   "source": [
    "fig = figure(1.7, 1.25)\n",
    "ax = sns.boxplot(\n",
    "    data=ent.reset_index(),\n",
    "    x=\"age\",\n",
    "    y=\"entropy\",\n",
    "    showfliers=False,\n",
    "    showcaps=False,\n",
    "    hue=\"age\",\n",
    "    palette=list(onto_color_list),\n",
    "    legend=False,\n",
    ")\n",
    "ax.set(xlabel='Age (weeks)', ylabel='Behavioral variability (nats)')\n",
    "sns.despine()\n",
    "saver(fig, \"female_usage-entropy-boxplot\");"
   ]
  },
  {
   "cell_type": "code",
   "execution_count": null,
   "id": "3998e074-6318-4a09-9567-0c24b872eaee",
   "metadata": {},
   "outputs": [],
   "source": [
    "fig = figure(1.7, 1.25)\n",
    "ax = sns.lineplot(\n",
    "    data=ent.reset_index(),\n",
    "    x=\"age\",\n",
    "    y=\"entropy\",\n",
    "    zorder=-1,\n",
    "    color=\"gray\",\n",
    "    err_kws={\"lw\": 0, \"alpha\": 0.4},\n",
    "    errorbar=(\"se\", 2),\n",
    ")\n",
    "ax = sns.scatterplot(\n",
    "    data=ent.reset_index(),\n",
    "    x=\"age\",\n",
    "    y=\"entropy\",\n",
    "    hue=\"age\",\n",
    "    palette=female_cmap,\n",
    "    linewidths=0,\n",
    "    s=5,\n",
    "    legend=False,\n",
    ")\n",
    "ax.set(xlabel=\"Age (weeks)\", ylabel=\"Behavioral variability (nats)\", ylim=(2.88, None))\n",
    "sns.despine()\n",
    "saver(fig, \"female_usage-entropy-scatter\");"
   ]
  },
  {
   "cell_type": "code",
   "execution_count": null,
   "id": "f33d556c-8b3d-49c0-bb6b-5b9c45a7386c",
   "metadata": {},
   "outputs": [],
   "source": []
  }
 ],
 "metadata": {
  "kernelspec": {
   "display_name": "Ontogeny",
   "language": "python",
   "name": "aging"
  },
  "language_info": {
   "codemirror_mode": {
    "name": "ipython",
    "version": 3
   },
   "file_extension": ".py",
   "mimetype": "text/x-python",
   "name": "python",
   "nbconvert_exporter": "python",
   "pygments_lexer": "ipython3",
   "version": "3.10.10"
  },
  "widgets": {
   "application/vnd.jupyter.widget-state+json": {
    "state": {},
    "version_major": 2,
    "version_minor": 0
   }
  }
 },
 "nbformat": 4,
 "nbformat_minor": 5
}
