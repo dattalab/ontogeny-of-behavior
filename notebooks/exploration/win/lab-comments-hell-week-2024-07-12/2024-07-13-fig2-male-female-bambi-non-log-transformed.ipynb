{
 "cells": [
  {
   "cell_type": "markdown",
   "id": "bdd57d30-a031-4f31-add8-dddc88698138",
   "metadata": {},
   "source": [
    "# Fit bambi model to males and females combined"
   ]
  },
  {
   "cell_type": "code",
   "execution_count": 1,
   "id": "39c474a3-d91b-4050-8cbd-5ff52e56abe8",
   "metadata": {},
   "outputs": [],
   "source": [
    "import jax\n",
    "import joblib\n",
    "import numpy as np\n",
    "import pandas as pd\n",
    "import jax.numpy as jnp\n",
    "import matplotlib.pyplot as plt\n",
    "import seaborn as sns\n",
    "import colorcet as cc\n",
    "\n",
    "from tqdm.auto import tqdm\n",
    "from sklearn.preprocessing import OneHotEncoder, LabelEncoder\n",
    "from aging.plotting import (\n",
    "    figure,\n",
    "    format_plots,\n",
    "    add_identity,\n",
    "    legend,\n",
    "    PLOT_CONFIG,\n",
    "    save_factory,\n",
    "    COLORMAPS,\n",
    ")\n",
    "from copy import deepcopy\n",
    "from operator import or_\n",
    "from toolz import reduce, valmap, keyfilter, pluck\n",
    "from aging.behavior.bio_age_model import (\n",
    "    fit_model,\n",
    "    masked_xval,\n",
    "    raise_dim\n",
    ")\n",
    "from scipy.spatial.distance import pdist, squareform\n",
    "from sklearn.decomposition import PCA, NMF\n",
    "from scipy.stats import ks_2samp\n",
    "from itertools import product\n",
    "from scipy.stats import norm\n",
    "from itertools import combinations"
   ]
  },
  {
   "cell_type": "code",
   "execution_count": 2,
   "id": "e41a16ca-3564-42a4-9b44-3ddc5d19ff86",
   "metadata": {},
   "outputs": [],
   "source": [
    "format_plots()\n",
    "saver = save_factory(PLOT_CONFIG.save_path / \"fig2-bambi\", tight_layout=False)"
   ]
  },
  {
   "cell_type": "code",
   "execution_count": 3,
   "id": "9435ed51-adb0-4406-8e49-c61df4bc8861",
   "metadata": {},
   "outputs": [],
   "source": [
    "def zscore(ser: pd.Series):\n",
    "    return (ser - ser.mean()) / ser.std()\n",
    "\n",
    "\n",
    "def demean(ser: pd.Series):\n",
    "    return ser - ser.mean()\n",
    "\n",
    "\n",
    "def quantile(n):\n",
    "    def percentile_(x):\n",
    "        return x.quantile(n)\n",
    "    percentile_.__name__ = 'q_{:0.02f}'.format(n)\n",
    "    return percentile_\n",
    "\n",
    "\n",
    "def minmax(df):\n",
    "    return (df - df.min()) / (df.max() - df.min())"
   ]
  },
  {
   "cell_type": "code",
   "execution_count": 4,
   "id": "299acd8e-4f3e-494a-85ad-a64ff3e3d260",
   "metadata": {},
   "outputs": [],
   "source": [
    "def make_plot(age_df, width, height):\n",
    "    boundaries = np.arange(age_df[\"labels\"].max() + 2) - 0.5\n",
    "    pal = sns.blend_palette([COLORMAPS.ont_male(255), COLORMAPS.ont_female(255)], as_cmap=True)\n",
    "    fig = figure(width, height)\n",
    "    ax = sns.lineplot(\n",
    "        data=age_df,\n",
    "        x=\"true_ages\",\n",
    "        y=\"bio_ages\",\n",
    "        hue=\"labels\",\n",
    "        palette=[COLORMAPS.ont_male(255), COLORMAPS.ont_female(255)],\n",
    "        legend=False,\n",
    "        zorder=-1,\n",
    "        lw=0.25,\n",
    "        err_kws=dict(lw=0),\n",
    "    )\n",
    "    perm = np.random.permutation(len(age_df))\n",
    "    im = ax.scatter(\n",
    "        age_df[\"true_ages\"].iloc[perm],\n",
    "        age_df[\"bio_ages\"].iloc[perm],\n",
    "        c=age_df[\"labels\"].iloc[perm],\n",
    "        cmap=pal,\n",
    "        vmin=0,\n",
    "        vmax=1,\n",
    "        s=1,\n",
    "    )\n",
    "    cb = fig.colorbar(\n",
    "        mappable=im,\n",
    "        boundaries=boundaries,\n",
    "        ax=ax,\n",
    "        label=\"Sex\",\n",
    "    )\n",
    "    cb.set_ticks(range(0, 2))\n",
    "    cb.set_ticklabels([\"Male\", \"Female\"])\n",
    "    add_identity(ax, c=\"k\", ls=\"--\", zorder=-2)\n",
    "    ax.set(\n",
    "        xlabel=\"Chronological age (weeks)\",\n",
    "        ylabel=\"Behavioral age (weeks)\",\n",
    "        aspect=\"equal\",\n",
    "        xlim=(0, 120),\n",
    "    )\n",
    "    sns.despine()\n",
    "    return fig"
   ]
  },
  {
   "cell_type": "code",
   "execution_count": 5,
   "id": "bc3b6fd2-a270-41dd-8164-3173406a18ae",
   "metadata": {},
   "outputs": [],
   "source": [
    "def read_male_ontogeny(use_syllables):\n",
    "    df = pd.read_parquet(\n",
    "        \"/n/groups/datta/win/longtogeny/data/ontogeny/version_11-1/ontogeny_males_raw_counts_matrix_v00.parquet\"\n",
    "    )\n",
    "    df = df[use_syllables]\n",
    "    df = df.query('age < 100')\n",
    "\n",
    "    pth = '/n/groups/datta/win/longtogeny/data/ontogeny/version_11-1/ontogeny_males_mouse_area_df_v00.parquet'\n",
    "    size_df = pd.read_parquet(pth)\n",
    "\n",
    "    sizes_col = zscore(size_df.groupby('age')['quant_0.5'].transform(demean))\n",
    "    sizes_col = sizes_col.loc[df.index]\n",
    "    df = df.loc[sizes_col.index]\n",
    "    df = df[use_syllables]\n",
    "    return df, sizes_col\n",
    "\n",
    "\n",
    "def read_female_ontogeny(use_syllables):\n",
    "    df = pd.read_parquet(\n",
    "        \"/n/groups/datta/win/longtogeny/data/ontogeny/version_11-1/ontogeny_females_raw_counts_matrix_v00.parquet\"\n",
    "    )\n",
    "    df = df[use_syllables]\n",
    "    df = df.query('age < 100')\n",
    "\n",
    "    # re-assign 52-wk old animals from their incorrect 8-wk old assignment\n",
    "    x = ['d6f254af-d55a-427a-96e0-c452a233cbe2', '242bee8e-0ee7-45e7-8a13-678836a4cddb']\n",
    "\n",
    "    idx = df.index.names\n",
    "    tmp_df = df.reset_index()\n",
    "    mask = tmp_df['uuid'].isin(x)\n",
    "    tmp_df.loc[mask, 'age'] = 52\n",
    "    df = tmp_df.set_index(idx)\n",
    "\n",
    "    pth = '/n/groups/datta/win/longtogeny/data/ontogeny/version_11-1/ontogeny_females_mouse_area_df_v00.parquet'\n",
    "    size_df = pd.read_parquet(pth)\n",
    "\n",
    "    idx = size_df.index.names\n",
    "    tmp_df = size_df.reset_index()\n",
    "    mask = tmp_df['uuid'].isin(x)\n",
    "    tmp_df.loc[mask, 'age'] = 52\n",
    "    size_df = tmp_df.set_index(idx)\n",
    "\n",
    "    sizes_col = zscore(size_df.groupby('age')['quant_0.5'].transform(demean))\n",
    "    sizes_col = sizes_col.loc[df.index]\n",
    "    df = df.loc[sizes_col.index]\n",
    "\n",
    "    df = df[use_syllables]\n",
    "\n",
    "    age_mapping = {\n",
    "        93: 94,\n",
    "        95: 94,\n",
    "        97: 98,\n",
    "        98: 98,\n",
    "        102: 98,\n",
    "        103: 105,\n",
    "        105: 105,\n",
    "        107: 105\n",
    "    }\n",
    "\n",
    "    df = df.reset_index(level='age')\n",
    "    df['age'] = df['age'].map(age_mapping).fillna(df['age'])\n",
    "\n",
    "    return df.set_index('age', append=True).reorder_levels(idx), sizes_col"
   ]
  },
  {
   "cell_type": "code",
   "execution_count": 6,
   "id": "f8d90e83-a071-43ac-80d3-010c96fb7215",
   "metadata": {},
   "outputs": [],
   "source": [
    "keep_syllables = np.loadtxt('/n/groups/datta/win/longtogeny/data/ontogeny/version_11/to_keep_syllables_raw.txt', dtype=int)"
   ]
  },
  {
   "cell_type": "code",
   "execution_count": 7,
   "id": "b357de4c-fdfb-4be6-9b1b-ae80ff495c2e",
   "metadata": {},
   "outputs": [],
   "source": [
    "df, sizes_col = read_male_ontogeny(keep_syllables)\n",
    "female_df, female_sizes_col = read_female_ontogeny(keep_syllables)\n",
    "df = pd.concat([df, female_df])\n",
    "\n",
    "age = jnp.array(df.index.get_level_values(\"age\"))\n",
    "syllable_counts_jax = jnp.array(df.astype(float))\n",
    "\n",
    "label_encoder = OneHotEncoder(sparse_output=False, dtype=np.float32)\n",
    "sex_id = label_encoder.fit_transform(\n",
    "    np.hstack([np.zeros(len(df) - len(female_df)), np.ones(len(female_df))])[:, None]\n",
    ").T\n",
    "\n",
    "sort_idx = np.argsort(syllable_counts_jax.mean(0))[::-1]\n",
    "\n",
    "df['sex'] = np.where(sex_id == 1)[0]\n",
    "df = df.set_index('sex', append=True)"
   ]
  },
  {
   "cell_type": "code",
   "execution_count": 8,
   "id": "4b20f2b0-96d6-4321-85b7-fe749710e96e",
   "metadata": {},
   "outputs": [],
   "source": [
    "features = {\n",
    "    \"ages\": age,  # models >= 1\n",
    "    \"counts\": syllable_counts_jax + 1,  # models >= 1\n",
    "    \"sizes\": pd.concat([sizes_col, female_sizes_col]).to_numpy(),  # models > 1\n",
    "    \"mice\": sex_id,\n",
    "}\n",
    "\n",
    "log_scale_sd = True\n",
    "log_age = True\n",
    "\n",
    "if log_scale_sd:\n",
    "    age_sd = 0.17667\n",
    "else:\n",
    "    age_sd = 0.04\n",
    "\n",
    "if not log_age:\n",
    "    age_sd = 2.25\n",
    "\n",
    "hypparams = {\n",
    "    \"log_age\": log_age,\n",
    "    \"min_age\": 2,\n",
    "    \"max_age\": 125,\n",
    "    \"age_sd\": age_sd,\n",
    "    \"n_age_samples\": 1000,\n",
    "    \"n_splines\": 4,\n",
    "    \"n_syllables\": syllable_counts_jax.shape[1],\n",
    "    \"n_development_splines\": 4,\n",
    "    \"scale\": 150,\n",
    "    \"normalize_by_softmax\": True,\n",
    "    \"n_keep_sylls\": 25,\n",
    "    \"n_sessions\": len(syllable_counts_jax),\n",
    "    \"n_animals\": len(sex_id),\n",
    "    \"lr\": 0.25,\n",
    "    \"n_opt_iter\": 700,\n",
    "    \"log_scale_sd\": log_scale_sd,\n",
    "}"
   ]
  },
  {
   "cell_type": "markdown",
   "id": "e99ca24f-3e91-41fb-ac27-41935462edda",
   "metadata": {},
   "source": [
    "## Get males vs females"
   ]
  },
  {
   "cell_type": "code",
   "execution_count": 9,
   "id": "e3a5a309-6979-4307-afbd-01e921b0959a",
   "metadata": {},
   "outputs": [],
   "source": [
    "mdl = fit_model(features, hypparams, 5, return_loss_on_error=True)\n",
    "\n",
    "if len(mdl) == 1:\n",
    "    print(hypparams['n_opt_iter'] - np.isnan(mdl['loss']).sum())"
   ]
  },
  {
   "cell_type": "code",
   "execution_count": null,
   "id": "1d25e39b-4b73-4262-a008-938f75563edf",
   "metadata": {},
   "outputs": [],
   "source": [
    "plt.plot(mdl['loss'][100:])"
   ]
  },
  {
   "cell_type": "code",
   "execution_count": 11,
   "id": "9da5a3ab-131c-4be9-9c44-c297770e5e18",
   "metadata": {},
   "outputs": [],
   "source": [
    "labels = LabelEncoder().fit_transform(np.hstack([np.zeros(len(df) - len(female_df)), np.ones(len(female_df))]))"
   ]
  },
  {
   "cell_type": "markdown",
   "id": "47102bcc-2d71-46e9-a70d-698a2865b42c",
   "metadata": {},
   "source": [
    "## Make ontogeny sex age plot"
   ]
  },
  {
   "cell_type": "code",
   "execution_count": 12,
   "id": "16899709-2ed3-4a62-8c0a-c0d7df8d98b1",
   "metadata": {},
   "outputs": [],
   "source": [
    "age_df = pd.DataFrame(\n",
    "    dict(bio_ages=mdl[\"bio_ages\"], true_ages=mdl[\"true_ages\"], labels=labels),\n",
    ")"
   ]
  },
  {
   "cell_type": "code",
   "execution_count": null,
   "id": "5bd27eb0-d2b6-481b-9484-a1108d9bb22e",
   "metadata": {},
   "outputs": [],
   "source": [
    "fig = make_plot(age_df, 1.5, 1.3)\n",
    "saver(fig, \"ontogeny-sex-chron-vs-beh-age-all-timepoints\");"
   ]
  },
  {
   "cell_type": "markdown",
   "id": "5c57e926-40bb-4ece-89b2-fd58ffaf7d62",
   "metadata": {},
   "source": [
    "# Plots and analysis"
   ]
  },
  {
   "cell_type": "markdown",
   "id": "700dbcd6-302e-48ec-bc9b-3eb54847ed55",
   "metadata": {},
   "source": [
    "## Predicted syllables plot"
   ]
  },
  {
   "cell_type": "code",
   "execution_count": null,
   "id": "b422ea49-1488-412d-b96b-df8784c3da81",
   "metadata": {
    "scrolled": true
   },
   "outputs": [],
   "source": [
    "# male is blue, female is orange\n",
    "example_mice = [0, 1]\n",
    "\n",
    "mask = []\n",
    "for m in example_mice:\n",
    "    mask.append(labels == m)\n",
    "mask = reduce(or_, mask)\n",
    "\n",
    "sylls = [0, 1, 3, 5, 6, 8, 10, 14, 15, 19, 23]\n",
    "fig, ax = plt.subplots(len(sylls), 3, figsize=(3, len(sylls)), sharex=True, dpi=900)\n",
    "\n",
    "true_age = mdl[\"true_ages\"][mask]\n",
    "bio_age = mdl[\"bio_ages\"][mask]\n",
    "counts = mdl[\"counts\"][mask]\n",
    "pred_counts = mdl[\"predicted_counts\"][mask]\n",
    "\n",
    "pal = sns.blend_palette([COLORMAPS.ont_male(255), COLORMAPS.ont_female(255)], as_cmap=True)\n",
    "\n",
    "for a, syll, i in zip(ax, map(lambda i: int(sort_idx[i]), sylls), sylls):\n",
    "    max_counts = max([counts[:, syll].max(), pred_counts[:, syll].max()]) * 1.05\n",
    "    a[0].scatter(true_age, counts[:, syll], s=2.5, c=labels[mask], cmap=pal, vmax=1, vmin=0, rasterized=True)\n",
    "    a[0].set(title=f\"Idx {i} Syllable {df.columns[syll]}\", ylabel=\"Counts\", xlabel=\"Chron. age (weeks)\", ylim=(0, max_counts))\n",
    "\n",
    "    a[2].scatter(bio_age, pred_counts[:, syll], s=2.5, c=labels[mask], cmap=pal, vmax=1, vmin=0, rasterized=True)\n",
    "    a[2].set(ylabel=\"Pred. counts\", xlabel=\"Beh. age (weeks)\", ylim=(0, max_counts), yticklabels=[])\n",
    "\n",
    "    a[1].scatter(bio_age, counts[:, syll], s=2.5, c=labels[mask], cmap=pal, vmax=1, vmin=0, rasterized=True)\n",
    "    a[1].set(ylabel=\"Counts\", xlabel=\"Beh. age (weeks)\", ylim=(0, max_counts), yticklabels=[])\n",
    "\n",
    "sns.despine()\n",
    "fig.tight_layout()\n",
    "\n",
    "saver(fig, \"sex-ontogeny-true-vs-predicted-counts\", dpi=300);"
   ]
  },
  {
   "cell_type": "code",
   "execution_count": null,
   "id": "d09095e3-35da-4928-94f5-6216720c5939",
   "metadata": {},
   "outputs": [],
   "source": [
    "list(mdl['params'])"
   ]
  },
  {
   "cell_type": "code",
   "execution_count": null,
   "id": "6bd35135-00b8-4545-bc20-e6bcf304d0b9",
   "metadata": {},
   "outputs": [],
   "source": [
    "comps = mdl['init_components']\n",
    "\n",
    "x = mdl['params']['development_weights']\n",
    "dev = np.exp(x @ comps.bases['development']).squeeze()\n",
    "_ages = comps.age_unnormalizer(comps.age_samples)\n",
    "dev = np.where(_ages < 4, np.nan, dev)\n",
    "\n",
    "fig = figure(1, 1.3)\n",
    "ax = fig.gca()\n",
    "ax.plot(_ages, dev, color='k')\n",
    "plt.xlim(0, 100)\n",
    "# plt.ylim(0, None)\n",
    "plt.xlabel(\"Beh. age (weeks)\")\n",
    "plt.ylabel(\"Relative effect of sex\")\n",
    "sns.despine()\n",
    "saver(fig, \"ontogeny-effect-of-sex\");"
   ]
  },
  {
   "cell_type": "markdown",
   "id": "f6e58077-02f8-4465-b8c7-705d003b28d7",
   "metadata": {},
   "source": [
    "## Make ontogeny sex age plot"
   ]
  },
  {
   "cell_type": "code",
   "execution_count": 17,
   "id": "871529ae-3481-4dbc-91a6-dc5bb47098d0",
   "metadata": {},
   "outputs": [],
   "source": [
    "age_df = pd.DataFrame(\n",
    "    dict(bio_ages=mdl[\"bio_ages\"], true_ages=mdl[\"true_ages\"], labels=labels),\n",
    ")"
   ]
  },
  {
   "cell_type": "code",
   "execution_count": null,
   "id": "940fd565-b90d-475c-9619-3c3782f58618",
   "metadata": {},
   "outputs": [],
   "source": [
    "fig = make_plot(age_df, 1.5, 1.3)\n",
    "saver(fig, \"ontogeny-sex-chron-vs-beh-age-all-timepoints\");"
   ]
  },
  {
   "cell_type": "markdown",
   "id": "5469473b-0b2a-4800-bdc7-941d94806dc2",
   "metadata": {},
   "source": [
    "### At each chronological age, what is the male/female distribution of biological age?"
   ]
  },
  {
   "cell_type": "code",
   "execution_count": 19,
   "id": "22a43681-4e3a-4d24-bc0b-af47c59f8b49",
   "metadata": {},
   "outputs": [],
   "source": [
    "age_df['bin'] = pd.cut(age_df['true_ages'], 8, labels=False)"
   ]
  },
  {
   "cell_type": "code",
   "execution_count": null,
   "id": "32914fd9-b211-4df2-814a-c7ec8fc60e2c",
   "metadata": {},
   "outputs": [],
   "source": [
    "fig, ax = plt.subplots(4, 2, figsize=(2.2, 2.9), sharey=True, sharex=True)\n",
    "for a, (_bin, _df) in zip(ax.flat, age_df.groupby(\"bin\")):\n",
    "    mean_age = _df[\"true_ages\"].mean()\n",
    "    _male_df = _df.query(\"labels == 0\")\n",
    "    _female_df = _df.query(\"labels == 1\")\n",
    "    sns.histplot(\n",
    "        data=_male_df[\"bio_ages\"] - _male_df['true_ages'],\n",
    "        ax=a,\n",
    "        color=COLORMAPS.ont_male(255),\n",
    "        bins=np.linspace(-50, 50, 200),\n",
    "        fill=False,\n",
    "        cumulative=True,\n",
    "        element=\"step\",\n",
    "        stat='probability',\n",
    "    )\n",
    "    sns.histplot(\n",
    "        data=_female_df[\"bio_ages\"] - _female_df['true_ages'],\n",
    "        ax=a,\n",
    "        color=COLORMAPS.ont_female(255),\n",
    "        bins=np.linspace(-50, 50, 200),\n",
    "        fill=False,\n",
    "        cumulative=True,\n",
    "        element=\"step\",\n",
    "        stat='probability',\n",
    "    )\n",
    "    a.set(title=f\"Chron. age: {mean_age:0.0f} weeks\", ylim=(0, 1))\n",
    "for a in ax[-1]:\n",
    "    a.set(xlabel=\"Beh. age residual (weeks)\", xlim=(-50, 50))\n",
    "sns.despine()\n",
    "fig.tight_layout()\n",
    "saver(fig, \"male-female-difference-to-avg-chron-age\");"
   ]
  },
  {
   "cell_type": "code",
   "execution_count": null,
   "id": "2982e839-ef9f-4ec1-a795-c5cbe1611497",
   "metadata": {},
   "outputs": [],
   "source": [
    "fig = figure(1, 0.6)\n",
    "_male_df = age_df.query(\"labels == 0\")\n",
    "_female_df = age_df.query(\"labels == 1\")\n",
    "sns.histplot(\n",
    "    data=_male_df[\"bio_ages\"] - _male_df['true_ages'],\n",
    "    color=COLORMAPS.ont_male(255),\n",
    "    bins=np.linspace(-50, 50, 200),\n",
    "    fill=False,\n",
    "    cumulative=True,\n",
    "    element=\"step\",\n",
    "    stat='probability',\n",
    ")\n",
    "a = sns.histplot(\n",
    "    data=_female_df[\"bio_ages\"] - _female_df['true_ages'],\n",
    "    color=COLORMAPS.ont_female(255),\n",
    "    bins=np.linspace(-50, 50, 200),\n",
    "    fill=False,\n",
    "    cumulative=True,\n",
    "    element=\"step\",\n",
    "    stat='probability',\n",
    ")\n",
    "a.set(xlabel=\"Beh. age residual (weeks)\", xlim=(-50, 50), ylim=(0, 1))\n",
    "sns.despine()\n",
    "saver(fig, \"male-female-difference-to-avg-chron-age-combined\");"
   ]
  },
  {
   "cell_type": "code",
   "execution_count": null,
   "id": "dc99c301-9f40-45e4-b419-289b45a098e9",
   "metadata": {},
   "outputs": [],
   "source": [
    "ks_result = ks_2samp(_male_df['bio_ages'] - _male_df['true_ages'], _female_df['bio_ages'] - _female_df['true_ages'])\n",
    "ks_result"
   ]
  },
  {
   "cell_type": "markdown",
   "id": "56fc841d-c84c-46d3-9101-bcb9ab3e2293",
   "metadata": {},
   "source": [
    "## Sorting by model predictions"
   ]
  },
  {
   "cell_type": "code",
   "execution_count": 23,
   "id": "9e58cdc7-65c1-4578-a521-a14e82275f1f",
   "metadata": {},
   "outputs": [],
   "source": [
    "df_copy = df.copy().astype('float32')\n",
    "\n",
    "# normalize to sum to 1\n",
    "df_copy = df_copy / (df_copy.sum(1).to_numpy()[:, None])\n",
    "df_copy['beh_age'] = mdl['bio_ages']\n",
    "df_copy = df_copy.set_index('beh_age', append=True)\n",
    "df_copy['age_bin'] = pd.cut(df_copy.index.get_level_values('age'), 24, labels=False)\n",
    "df_copy['beh_age_bin'] = pd.cut(df_copy.index.get_level_values('beh_age'), 24, labels=False)\n",
    "df_copy = df_copy.set_index(['beh_age_bin', 'age_bin'], append=True)"
   ]
  },
  {
   "cell_type": "markdown",
   "id": "0334bebd-c301-4c23-84c9-aff9c255a485",
   "metadata": {},
   "source": [
    "### Pre-bambi males and females"
   ]
  },
  {
   "cell_type": "code",
   "execution_count": null,
   "id": "9c4cf394-10d9-4f89-85ae-b685accf1e69",
   "metadata": {},
   "outputs": [],
   "source": [
    "fig, ax = plt.subplots(2, 2, figsize=(3, 3))\n",
    "\n",
    "sex_vmap = {\n",
    "    0: 0.5,\n",
    "    1: 0.35,\n",
    "}\n",
    "\n",
    "for (_sex, _sorting), a in zip(product([0, 1], [\"age\", \"beh_age\"]), ax.flat):\n",
    "    d = pdist(df_copy.query('sex == @_sex').sort_index(level=_sorting), metric=\"cosine\")\n",
    "    d = squareform(d)\n",
    "\n",
    "    im = a.imshow(d, cmap=\"cubehelix\", vmax=sex_vmap[_sex], vmin=0)\n",
    "    fig.colorbar(im, ax=a, label=\"Behavioral distance (cosine)\")\n",
    "    a.set(xticks=[], yticks=[])\n",
    "saver(fig, 'male-female-distance-matrix-pre-post-bambi-sorting-cosine');"
   ]
  },
  {
   "cell_type": "code",
   "execution_count": null,
   "id": "db60a8ad-46bc-423f-a6ae-92b48d9f3208",
   "metadata": {},
   "outputs": [],
   "source": [
    "fig, ax = plt.subplots(2, 2, figsize=(3, 3))\n",
    "\n",
    "sex_vmap = {\n",
    "    0: 0.25,\n",
    "    1: 0.25,\n",
    "}\n",
    "\n",
    "for (_sex, _sorting), a in zip(product([0, 1], [\"age_bin\", \"beh_age_bin\"]), ax.flat):\n",
    "    d = pdist(df_copy.query('sex == @_sex').groupby(_sorting).mean(), metric=\"cosine\")\n",
    "    d = squareform(d)\n",
    "\n",
    "    im = a.imshow(d, cmap=\"cubehelix\", vmax=sex_vmap[_sex], vmin=0)\n",
    "    fig.colorbar(im, ax=a, label=\"Behavioral distance (cosine)\")\n",
    "    a.set(xticks=[], yticks=[])\n",
    "saver(fig, 'ontogeny-averaged-distance-matrix-pre-post-bambi-sorting-cosine');"
   ]
  },
  {
   "cell_type": "markdown",
   "id": "3a8604ee-4d44-4566-bbc3-9ad1406f66a0",
   "metadata": {},
   "source": [
    "## PCA on model predictions"
   ]
  },
  {
   "cell_type": "code",
   "execution_count": 26,
   "id": "5c788ce1-3f3e-4b0c-a390-08f4644897bb",
   "metadata": {},
   "outputs": [],
   "source": [
    "pc = mdl['predicted_counts']\n",
    "pc = pc / pc.sum(1, keepdims=True)"
   ]
  },
  {
   "cell_type": "code",
   "execution_count": 27,
   "id": "a1e59c07-29ef-4f84-ac76-f675fdd59406",
   "metadata": {},
   "outputs": [],
   "source": [
    "pca = PCA(n_components=2)\n",
    "scores = pca.fit_transform(pc)\n",
    "scores_df = pd.DataFrame(scores, index=df.index)\n",
    "scores_df['bio_age'] = mdl['bio_ages']"
   ]
  },
  {
   "cell_type": "code",
   "execution_count": null,
   "id": "47643b82-3c30-4f53-9ec5-ae9d885b3975",
   "metadata": {},
   "outputs": [],
   "source": [
    "fig = figure(1.8, 1.3)\n",
    "ax = fig.gca()\n",
    "for sex, _df in scores_df.groupby('sex'):\n",
    "    cm = COLORMAPS.ont_male if sex == 0 else COLORMAPS.ont_female\n",
    "    im = ax.scatter(_df[0], _df[1], c=_df['bio_age'], cmap=cm, s=5, vmin=0, vmax=100)\n",
    "    cb = fig.colorbar(im, ax=ax, label=\"Behavioral age\" if sex == 0 else None)\n",
    "ax.set(xticks=[], yticks=[], xlabel=\"PC 1\", ylabel=\"PC 2\")\n",
    "sns.despine()\n",
    "saver(fig, \"model-based-pca-males-females-bio-age\");"
   ]
  },
  {
   "cell_type": "markdown",
   "id": "39023d6a-7f8f-486e-ab9c-a0589fd21f4b",
   "metadata": {},
   "source": [
    "## Plot age likelihoods"
   ]
  },
  {
   "cell_type": "code",
   "execution_count": 29,
   "id": "81575db5-a5ae-4bf6-acc2-adf888efe0cf",
   "metadata": {},
   "outputs": [],
   "source": [
    "_age = mdl['init_components'].age_unnormalizer(mdl['init_components'].age_samples)"
   ]
  },
  {
   "cell_type": "code",
   "execution_count": null,
   "id": "aa0d3568-cabe-4372-82b1-96f9fc50ab72",
   "metadata": {},
   "outputs": [],
   "source": [
    "# bambi likelihood\n",
    "fig = figure(1, 0.6)\n",
    "ax = fig.gca()\n",
    "ax.plot(_age, mdl['age_likelihoods'][100], color='k')\n",
    "ax.set(xticks=[], yticks=[], xlabel=\"Behavioral age\", ylabel=\"Likelihood\")\n",
    "sns.despine()\n",
    "saver(fig, \"beh-age-likelihood-function-schematic\");\n",
    "\n",
    "# gaussian likelihood\n",
    "out = norm.pdf(np.linspace(-6, 6, 100), loc=0, scale=1)\n",
    "\n",
    "fig = figure(0.4, 0.4)\n",
    "ax = fig.gca()\n",
    "ax.plot(out, color='k')\n",
    "ax.set(xticks=[], yticks=[], xlabel=\"Chronological age\")\n",
    "sns.despine()\n",
    "saver(fig, \"chron-age-prior-schematic\");"
   ]
  },
  {
   "cell_type": "markdown",
   "id": "10bb91b8-d68a-4490-a913-f5560cf43b83",
   "metadata": {},
   "source": [
    "## Relative contributions"
   ]
  },
  {
   "cell_type": "code",
   "execution_count": null,
   "id": "3750947f-aba9-47aa-88e3-8aa7e2a95de1",
   "metadata": {},
   "outputs": [],
   "source": [
    "mdl_params = mdl['params']\n",
    "mdl_components = mdl['init_components']\n",
    "bias_scale = np.exp(mdl_params['development_weights'] @ mdl_components.bases['development'])\n",
    "list(mdl_params)"
   ]
  },
  {
   "cell_type": "markdown",
   "id": "3041ac0c-7be7-4fd0-94bd-b22eb92185bf",
   "metadata": {},
   "source": [
    "### Size"
   ]
  },
  {
   "cell_type": "code",
   "execution_count": 32,
   "id": "a02c57fe-80ed-4873-907e-5fd090af32c5",
   "metadata": {},
   "outputs": [],
   "source": [
    "size_effect = np.abs(mdl_params['size_slope'].squeeze())"
   ]
  },
  {
   "cell_type": "code",
   "execution_count": null,
   "id": "9b20c7aa-f980-4f09-a764-8b4abf99dd14",
   "metadata": {},
   "outputs": [],
   "source": [
    "# size plot - histogram of slopes across syllables\n",
    "fig = figure(1, 1.3)\n",
    "\n",
    "ax = sns.histplot(size_effect, bins=13, element='step', fill=True, linewidth=0, color=\"k\")\n",
    "ax.set(xlabel=\"|d(syllable use) / d(size; px^2)| (fold-change)\")\n",
    "sns.despine()\n",
    "saver(fig, \"size-deriv-histogram\");"
   ]
  },
  {
   "cell_type": "markdown",
   "id": "a0de2542-32c5-412f-8bd4-9a62170f4bc2",
   "metadata": {},
   "source": [
    "### Age"
   ]
  },
  {
   "cell_type": "code",
   "execution_count": 34,
   "id": "1263b9b7-683b-4da6-bb89-7494c6b086bc",
   "metadata": {},
   "outputs": [],
   "source": [
    "def get_component_diffs(comp, age1, age2):\n",
    "    x = np.interp(mdl_components.age_normalizer(np.array([age1, age2])), mdl_components.age_samples, comp)\n",
    "    return x[1] - x[0], age2 - age1\n",
    "\n",
    "def get_spline_diffs(splines, age1, age2, syllable):\n",
    "    '''returns the difference in spline values and the difference in ages'''\n",
    "    return get_component_diffs(splines[syllable], age1, age2)"
   ]
  },
  {
   "cell_type": "code",
   "execution_count": 35,
   "id": "c3ee058c-01b7-45cd-908c-4bfd15cf5289",
   "metadata": {},
   "outputs": [],
   "source": [
    "splines = mdl_params['bio_basis_weights'] @ mdl_components.bases['bio']\n",
    "\n",
    "bio_deriv = np.diff(splines, axis=1)\n",
    "\n",
    "true_age = mdl_components.age_unnormalizer(mdl_components.age_samples)\n",
    "age_diff = np.diff(true_age)\n",
    "\n",
    "bio_deriv_norm = bio_deriv / age_diff[None]"
   ]
  },
  {
   "cell_type": "code",
   "execution_count": 36,
   "id": "c7a42fc8-461d-4539-b136-38dac5ee774a",
   "metadata": {},
   "outputs": [],
   "source": [
    "def get_bio_deriv(age, syllable):\n",
    "    '''age can be a vector or scalar.\n",
    "    Syllable should be an int from 0-58'''\n",
    "    return np.interp(age, true_age[:-1], bio_deriv_norm[syllable])"
   ]
  },
  {
   "cell_type": "code",
   "execution_count": 37,
   "id": "8cabc254-c67d-47bd-844f-3939ac8d514a",
   "metadata": {},
   "outputs": [],
   "source": [
    "deriv_df = pd.DataFrame(bio_deriv_norm.T, columns=pd.Index(df.columns, name=\"syllable\"), index=pd.Index(true_age[:-1], name=\"age\")).abs()\n",
    "melt_deriv_df = deriv_df.reset_index().melt(id_vars='age').query('age < 100 & age > 4')"
   ]
  },
  {
   "cell_type": "code",
   "execution_count": null,
   "id": "933d0a28-79e9-4328-921d-9279de0b1f85",
   "metadata": {},
   "outputs": [],
   "source": [
    "melt_deriv_df"
   ]
  },
  {
   "cell_type": "code",
   "execution_count": null,
   "id": "9c142b3f-fd74-4b28-8b82-844723409e4e",
   "metadata": {},
   "outputs": [],
   "source": [
    "fig = figure(1, 1.3)\n",
    "ax = sns.lineplot(\n",
    "    data=melt_deriv_df,\n",
    "    x=\"age\",\n",
    "    y=\"value\",\n",
    "    hue=\"syllable\",\n",
    "    errorbar=None,\n",
    "    err_kws=dict(lw=0),\n",
    "    palette=[\"gray\"],\n",
    "    legend=False,\n",
    "    linewidth=0.3,\n",
    "    alpha=0.3,\n",
    ")\n",
    "ax = sns.lineplot(\n",
    "    data=melt_deriv_df,\n",
    "    x=\"age\",\n",
    "    y=\"value\",\n",
    "    errorbar=None,\n",
    "    err_kws=dict(lw=0),\n",
    "    color='k',\n",
    "    legend=False,\n",
    "    linewidth=1,\n",
    "    alpha=1,\n",
    "    ax=ax\n",
    ")\n",
    "ax.set(\n",
    "    xlabel=\"Age (weeks)\",\n",
    "    ylabel=\"|d(syllable use) / d(age; weeks)| (fold-change)\",\n",
    "    xlim=(0, 100),\n",
    "    ylim=(0, None),\n",
    ")\n",
    "sns.despine()\n",
    "saver(fig, \"age-deriv-lineplot\");"
   ]
  },
  {
   "cell_type": "markdown",
   "id": "ae4e59ba-19c8-4872-b454-e0e9ea2928d3",
   "metadata": {},
   "source": [
    "### Sex"
   ]
  },
  {
   "cell_type": "code",
   "execution_count": 40,
   "id": "e5fcf7cb-b518-4a8d-82bd-0e582e92a352",
   "metadata": {},
   "outputs": [],
   "source": [
    "sex_bias = np.array(raise_dim(mdl_params['individual_biases'], axis=1))\n",
    "sex_bias_effect = np.mean(np.abs(sex_bias), axis=1).squeeze()\n",
    "sex_bias_effect_w_scaling = (bias_scale * sex_bias_effect[:, None])"
   ]
  },
  {
   "cell_type": "code",
   "execution_count": 41,
   "id": "06d76e77-5cbc-46de-8c0e-a2a110edf9fe",
   "metadata": {},
   "outputs": [],
   "source": [
    "sex_deriv_df = pd.DataFrame(sex_bias_effect_w_scaling.T, columns=pd.Index(df.columns, name=\"syllable\"), index=pd.Index(true_age, name=\"age\")).abs()\n",
    "melt_sex_deriv_df = sex_deriv_df.reset_index().melt(id_vars='age').query('age < 100 & age > 4')"
   ]
  },
  {
   "cell_type": "code",
   "execution_count": null,
   "id": "e8f435b7-24c6-4a56-bf19-ceaa5364f648",
   "metadata": {},
   "outputs": [],
   "source": [
    "fig = figure(1, 1.3)\n",
    "ax = sns.lineplot(\n",
    "    data=melt_sex_deriv_df,\n",
    "    x=\"age\",\n",
    "    y=\"value\",\n",
    "    hue=\"syllable\",\n",
    "    errorbar=None,\n",
    "    err_kws=dict(lw=0),\n",
    "    palette=[\"gray\"],\n",
    "    legend=False,\n",
    "    linewidth=0.3,\n",
    "    alpha=0.3,\n",
    ")\n",
    "ax = sns.lineplot(\n",
    "    data=melt_sex_deriv_df,\n",
    "    x=\"age\",\n",
    "    y=\"value\",\n",
    "    errorbar=None,\n",
    "    err_kws=dict(lw=0),\n",
    "    color='k',\n",
    "    legend=False,\n",
    "    linewidth=1,\n",
    "    alpha=1,\n",
    "    ax=ax,\n",
    ")\n",
    "ax.set(\n",
    "    xlabel=\"Age (weeks)\",\n",
    "    ylabel=\"|d(syllable use) / d(sex)| (fold-change)\",\n",
    "    xlim=(0, 100),\n",
    "    ylim=(0, None),\n",
    ")\n",
    "sns.despine()\n",
    "saver(fig, \"sex-deriv-lineplot\");"
   ]
  },
  {
   "cell_type": "markdown",
   "id": "533d32dd-716e-4eeb-956a-a410a55b0791",
   "metadata": {},
   "source": [
    "### Rank-order each syllable + effect"
   ]
  },
  {
   "cell_type": "code",
   "execution_count": 43,
   "id": "6dae20a1-00e6-4754-8a6d-4c27160aba50",
   "metadata": {},
   "outputs": [],
   "source": [
    "sex_rank = np.argsort(np.argsort(sex_deriv_df.mean().values))\n",
    "size_rank = np.argsort(np.argsort(size_effect))\n",
    "age_rank = np.argsort(np.argsort(deriv_df.mean().values))"
   ]
  },
  {
   "cell_type": "code",
   "execution_count": 44,
   "id": "b237ee30-ced0-4c44-9fb8-3955097bde38",
   "metadata": {},
   "outputs": [],
   "source": [
    "rank_df = pd.DataFrame(dict(sex=sex_rank, size=size_rank, age=age_rank), index=pd.Index(range(len(sex_rank)), name=\"syll_idx\"))"
   ]
  },
  {
   "cell_type": "code",
   "execution_count": 45,
   "id": "8116ae58-903a-40cb-9760-bb23099532f6",
   "metadata": {},
   "outputs": [],
   "source": [
    "melt_rank_df = rank_df.reset_index().melt(id_vars='syll_idx')"
   ]
  },
  {
   "cell_type": "code",
   "execution_count": null,
   "id": "cf6fb1da-3492-4002-b83b-2ff63e296b82",
   "metadata": {},
   "outputs": [],
   "source": [
    "melt_rank_df"
   ]
  },
  {
   "cell_type": "code",
   "execution_count": 47,
   "id": "ad356235-583f-48d1-b265-d8daa7e7f1eb",
   "metadata": {},
   "outputs": [],
   "source": [
    "age_rank_map = rank_df['age']"
   ]
  },
  {
   "cell_type": "code",
   "execution_count": 48,
   "id": "a64b2189-93d8-41c5-816c-42b944284a84",
   "metadata": {},
   "outputs": [],
   "source": [
    "melt_rank_df['age_rank_map'] = melt_rank_df['syll_idx'].map(age_rank_map)"
   ]
  },
  {
   "cell_type": "code",
   "execution_count": null,
   "id": "265ef3fb-d9af-4a54-9e6a-bac881989087",
   "metadata": {},
   "outputs": [],
   "source": [
    "fig = figure(1.5, 1.4)\n",
    "ax = sns.pointplot(data=melt_rank_df, x='variable', y='value', hue='age_rank_map', order=['age', 'sex', 'size'], palette='mako', linewidth=1)\n",
    "ax.set(ylabel=\"Syllable rank\", xlabel=\"Factor\", xticklabels=[\"Age\", \"Sex\", \"Size\"])\n",
    "legend(ax, title=\"Ranking via\")\n",
    "sns.despine()\n",
    "saver(fig, \"bambi-factor-syllable-derivative-ranking\");"
   ]
  },
  {
   "cell_type": "code",
   "execution_count": null,
   "id": "d2bc1087-afdd-4e6a-a6a5-8a43e7c69f9c",
   "metadata": {},
   "outputs": [],
   "source": [
    "fig = figure(1.3, 1.3)\n",
    "ax = sns.lineplot(\n",
    "    data=melt_rank_df,\n",
    "    x=\"age_rank_map\",\n",
    "    y=\"value\",\n",
    "    hue=\"variable\",\n",
    "    hue_order=[\"age\", \"sex\", \"size\"],\n",
    "    palette=cc.glasbey[:3],\n",
    "    linewidth=1,\n",
    ")\n",
    "ax.set(ylabel=\"Syllable rank\", xlabel=\"Syllable sorted by age rank\")\n",
    "legend(ax)\n",
    "sns.despine()\n",
    "saver(fig, \"sorted-factor-rankings\");"
   ]
  },
  {
   "cell_type": "markdown",
   "id": "60f84a35-22a0-4c17-937e-627e2d651602",
   "metadata": {},
   "source": [
    "## Make plots showing high-influence syllables are better predicting than low-influence syllables"
   ]
  },
  {
   "cell_type": "code",
   "execution_count": 51,
   "id": "ddeebc83-c608-43ce-a62f-3ce39d3b400f",
   "metadata": {},
   "outputs": [],
   "source": [
    "from sklearn.svm import SVC, SVR\n",
    "from sklearn.pipeline import make_pipeline\n",
    "from sklearn.preprocessing import StandardScaler\n",
    "from sklearn.linear_model import LinearRegression, ElasticNet\n",
    "from sklearn.cross_decomposition import PLSRegression\n",
    "from sklearn.model_selection import cross_val_predict, KFold\n",
    "from sklearn.metrics import accuracy_score, r2_score"
   ]
  },
  {
   "cell_type": "code",
   "execution_count": 52,
   "id": "f099c734-2546-494b-a5e5-24e51740556c",
   "metadata": {},
   "outputs": [],
   "source": [
    "clf_data = df.reset_index().assign(bio_age=mdl['bio_ages'])"
   ]
  },
  {
   "cell_type": "code",
   "execution_count": 53,
   "id": "114c3b9a-d625-4fe1-84c8-bc9d9f1dcf92",
   "metadata": {},
   "outputs": [],
   "source": [
    "melt_rank_df = rank_df.reset_index().melt(id_vars='syll_idx')"
   ]
  },
  {
   "cell_type": "code",
   "execution_count": 54,
   "id": "ea75a716-e866-4830-a765-3668c32f5169",
   "metadata": {},
   "outputs": [],
   "source": [
    "syll_factors = rank_df.idxmax(1)"
   ]
  },
  {
   "cell_type": "code",
   "execution_count": 55,
   "id": "f4fe7412-53b4-42b2-857b-48fc07501ad0",
   "metadata": {},
   "outputs": [],
   "source": [
    "grp_ranks = {}\n",
    "for grp, ser in syll_factors.groupby(syll_factors):\n",
    "    grp_ranks[grp] = rank_df.loc[ser.index, grp].sort_values(ascending=False)"
   ]
  },
  {
   "cell_type": "code",
   "execution_count": null,
   "id": "7ed3932a-8557-4b5e-9def-d123cbada94d",
   "metadata": {},
   "outputs": [],
   "source": [
    "valmap(len, grp_ranks)"
   ]
  },
  {
   "cell_type": "code",
   "execution_count": 57,
   "id": "98f75acd-a31c-4d1a-89cb-95717c958c09",
   "metadata": {},
   "outputs": [],
   "source": [
    "pipe = make_pipeline(\n",
    "    StandardScaler(),\n",
    "    # LinearRegression(),\n",
    "    # SVR(),\n",
    "    PLSRegression(n_components=2),\n",
    "    # ElasticNet(l1_ratio=0.5, alpha=5),\n",
    ")"
   ]
  },
  {
   "cell_type": "code",
   "execution_count": 58,
   "id": "c223614a-7c29-4a83-b7f9-0f7ac6666024",
   "metadata": {},
   "outputs": [],
   "source": [
    "top_n = 9\n",
    "filt_sylls = {k: v.index[:top_n] for k, v in grp_ranks.items()}"
   ]
  },
  {
   "cell_type": "code",
   "execution_count": null,
   "id": "6d530fb1-a84f-4495-ab34-dada5b935a43",
   "metadata": {},
   "outputs": [],
   "source": [
    "colors = dict(zip(['age', 'sex', 'size'], cc.glasbey[2:]))\n",
    "\n",
    "for t1, t2 in combinations(['age', 'sex', 'size'], 2):\n",
    "    fig = figure(0.5, 0.5)\n",
    "    ax = fig.gca()\n",
    "    c = rank_df[t1].corr(rank_df[t2], method='spearman')\n",
    "    ax.scatter(rank_df[t1], rank_df[t2], s=2.5, linewidth=0, color='gray')\n",
    "    for _factor, _color in colors.items():\n",
    "        ax.scatter(rank_df.loc[filt_sylls[_factor], t1], rank_df.loc[filt_sylls[_factor], t2], s=5, linewidth=0, color=colors[_factor], label=_factor.capitalize())\n",
    "    add_identity(ax, ls='--', color='k', zorder=-1)\n",
    "    legend(ax)\n",
    "    ax.set(xlabel=f\"{t1.capitalize()} rank\", ylabel=f\"{t2.capitalize()} rank\", title=f\"rho: {c:0.2f}\")\n",
    "    sns.despine()\n",
    "\n",
    "    saver(fig, f\"{t1}-{t2}-rank-comparison\");"
   ]
  },
  {
   "cell_type": "code",
   "execution_count": null,
   "id": "07a54a24-fc89-4cb6-a16e-e5a5ae54bcfc",
   "metadata": {},
   "outputs": [],
   "source": [
    "n_repeats = 25\n",
    "x = []\n",
    "\n",
    "for rank_grp, _df in filt_sylls.items():\n",
    "    for i in range(n_repeats):\n",
    "        preds = cross_val_predict(\n",
    "            pipe,\n",
    "            np.array(syllable_counts_jax[:, _df.values]),\n",
    "            clf_data[\"age\"],\n",
    "            # clf_data[\"bio_age\"],\n",
    "            cv=KFold(n_splits=5, shuffle=True, random_state=i),\n",
    "            n_jobs=-1,\n",
    "        )\n",
    "        x.append({\"r2\": r2_score(clf_data[\"age\"], preds), \"type\": rank_grp.capitalize()})\n",
    "x = pd.DataFrame(x)\n",
    "\n",
    "\n",
    "fig = figure(0.9, 1.4)\n",
    "ax = sns.stripplot(data=x, x='type', y='r2', hue='type', palette=['k', 'darkgray', 'silver'], size=1, linewidth=0.05)\n",
    "plt.xticks(rotation=90)\n",
    "ax.set(ylabel=\"Held-out R2\", xlabel=\"\", title=\"Predict age\")\n",
    "sns.despine()\n",
    "saver(fig, \"predict-age-from-syllables\", tight_layout=True);"
   ]
  },
  {
   "cell_type": "code",
   "execution_count": null,
   "id": "8fafb4f1-3b01-4f38-af16-f65a68522719",
   "metadata": {},
   "outputs": [],
   "source": [
    "n_repeats = 25\n",
    "x = []\n",
    "\n",
    "for rank_grp, _df in filt_sylls.items():\n",
    "    for i in range(n_repeats):\n",
    "        preds = cross_val_predict(\n",
    "            pipe,\n",
    "            np.array(syllable_counts_jax[:, _df.values]),\n",
    "            clf_data[\"bio_age\"],\n",
    "            cv=KFold(n_splits=5, shuffle=True, random_state=i),\n",
    "            n_jobs=-1,\n",
    "        )\n",
    "        x.append({\"r2\": r2_score(clf_data[\"age\"], preds), \"type\": rank_grp.capitalize()})\n",
    "x = pd.DataFrame(x)\n",
    "\n",
    "\n",
    "fig = figure(0.9, 1.4)\n",
    "ax = sns.stripplot(data=x, x='type', y='r2', hue='type', palette=['k', 'darkgray', 'silver'], size=1, linewidth=0.05)\n",
    "plt.xticks(rotation=90)\n",
    "ax.set(ylabel=\"Held-out R2\", xlabel=\"\", title=\"Predict beh. age\")\n",
    "sns.despine()\n",
    "saver(fig, \"predict-beh-age-from-syllables\", tight_layout=True);"
   ]
  },
  {
   "cell_type": "code",
   "execution_count": null,
   "id": "470da19f-a80a-4ed3-a4b4-42cb171bf83f",
   "metadata": {},
   "outputs": [],
   "source": [
    "n_repeats = 25\n",
    "x = []\n",
    "\n",
    "y = np.array(features['sizes'])\n",
    "\n",
    "for rank_grp, _df in filt_sylls.items():\n",
    "    for i in range(n_repeats):\n",
    "        preds = cross_val_predict(\n",
    "            pipe,\n",
    "            np.array(syllable_counts_jax[:, _df.values]),\n",
    "            y,\n",
    "            cv=KFold(n_splits=5, shuffle=True, random_state=i),\n",
    "            n_jobs=-1,\n",
    "        )\n",
    "        x.append({\"r2\": r2_score(y, preds), \"type\": rank_grp.capitalize()})\n",
    "x = pd.DataFrame(x)\n",
    "\n",
    "fig = figure(0.9, 1.4)\n",
    "ax = sns.stripplot(data=x, x='type', y='r2', hue='type', palette=['k', 'darkgray', 'silver'], size=1, linewidth=0.05)\n",
    "plt.xticks(rotation=90)\n",
    "ax.set(ylabel=\"Held-out R2\", xlabel=\"\", title=\"Predict size\")\n",
    "sns.despine()\n",
    "saver(fig, \"predict-size-from-syllables\", tight_layout=True);"
   ]
  },
  {
   "cell_type": "code",
   "execution_count": 63,
   "id": "a4ea608c-00cb-4880-a07b-b00c937a2554",
   "metadata": {},
   "outputs": [],
   "source": [
    "clf_pipe = make_pipeline(\n",
    "    StandardScaler(),\n",
    "    SVC(kernel='linear', class_weight='balanced'),\n",
    ")"
   ]
  },
  {
   "cell_type": "code",
   "execution_count": null,
   "id": "e5613be2-8f54-49fa-b165-61d7eb088d32",
   "metadata": {},
   "outputs": [],
   "source": [
    "n_repeats = 25\n",
    "x = []\n",
    "\n",
    "y = np.argmax(features['mice'], axis=0)\n",
    "\n",
    "for rank_grp, _df in filt_sylls.items():\n",
    "    for i in range(n_repeats):\n",
    "        preds = cross_val_predict(\n",
    "            clf_pipe,\n",
    "            np.array(syllable_counts_jax[:, _df.values]),\n",
    "            y,\n",
    "            cv=KFold(n_splits=5, shuffle=True, random_state=i),\n",
    "            n_jobs=-1,\n",
    "        )\n",
    "        x.append({\"acc\": accuracy_score(y, preds), \"type\": rank_grp.capitalize()})\n",
    "x = pd.DataFrame(x)\n",
    "\n",
    "\n",
    "fig = figure(0.9, 1.4)\n",
    "ax = sns.stripplot(data=x, x='type', y='acc', hue='type', palette=['k', 'darkgray', 'silver'], size=1, linewidth=0.05)\n",
    "plt.xticks(rotation=90)\n",
    "ax.set(ylabel=\"Held-out accuracy\", xlabel=\"\", title=\"Predict sex\")\n",
    "sns.despine()\n",
    "saver(fig, \"predict-sex-from-syllables\", tight_layout=True);"
   ]
  },
  {
   "cell_type": "markdown",
   "id": "cc415f78-3a1a-4a61-8e8d-cbf4a256dfbe",
   "metadata": {},
   "source": [
    "## Relative contributions"
   ]
  },
  {
   "cell_type": "code",
   "execution_count": 65,
   "id": "6439dea0-59c9-4368-92de-c8a90c645cee",
   "metadata": {},
   "outputs": [],
   "source": [
    "conc_c = mdl['concentration_components']"
   ]
  },
  {
   "cell_type": "code",
   "execution_count": 66,
   "id": "e4a2adde-909f-47ff-9d23-f7cde207d0e7",
   "metadata": {},
   "outputs": [],
   "source": [
    "spline_weights = mdl['params']['bio_basis_weights']"
   ]
  },
  {
   "cell_type": "code",
   "execution_count": null,
   "id": "489297fa-a476-4aea-8551-14c00f8d63df",
   "metadata": {},
   "outputs": [],
   "source": [
    "spline_weights.shape"
   ]
  },
  {
   "cell_type": "code",
   "execution_count": 68,
   "id": "71ded79e-d210-43ff-b9c3-f8468553c0b4",
   "metadata": {},
   "outputs": [],
   "source": [
    "spline_avgs = spline_weights.mean(1)"
   ]
  },
  {
   "cell_type": "code",
   "execution_count": 69,
   "id": "c325c5c5-bd05-40aa-b55c-d1be84ecd11d",
   "metadata": {},
   "outputs": [],
   "source": [
    "bio_comp = conc_c['bio'].copy()\n",
    "bio_comp = bio_comp - spline_avgs[:, None]"
   ]
  },
  {
   "cell_type": "code",
   "execution_count": 70,
   "id": "077ecb6b-2380-4216-ab16-245469a85621",
   "metadata": {},
   "outputs": [],
   "source": [
    "indiv_components = conc_c['indiv'] * conc_c['indiv_scale'][None, :, None]"
   ]
  },
  {
   "cell_type": "code",
   "execution_count": 71,
   "id": "4087b642-0159-4b8d-b186-6b6da9e704d4",
   "metadata": {},
   "outputs": [],
   "source": [
    "total = (\n",
    "    np.abs(bio_comp[..., None])\n",
    "    + np.abs(indiv_components)\n",
    "    + np.abs(conc_c[\"size\"][:, None, :])\n",
    ")\n"
   ]
  },
  {
   "cell_type": "code",
   "execution_count": 72,
   "id": "f5f6c546-5e95-4cab-813e-1813ef697e8c",
   "metadata": {},
   "outputs": [],
   "source": [
    "inds = np.argmax(mdl['age_likelihoods'], axis=1)"
   ]
  },
  {
   "cell_type": "code",
   "execution_count": 73,
   "id": "6273a5e7-adc1-4188-bc4a-2704a9db953b",
   "metadata": {},
   "outputs": [],
   "source": [
    "bio = np.abs(bio_comp[..., None]) / total\n",
    "indiv = np.abs(indiv_components) / total\n",
    "size = np.abs(conc_c['size'][:, None, :]) / total"
   ]
  },
  {
   "cell_type": "code",
   "execution_count": 74,
   "id": "bc490a96-8580-4ca0-bcd9-43235d8b31e9",
   "metadata": {},
   "outputs": [],
   "source": [
    "inds = np.argmax(mdl['age_likelihoods'], axis=1)"
   ]
  },
  {
   "cell_type": "code",
   "execution_count": 75,
   "id": "68503d22-a8df-4c71-8fb2-84f9447a8635",
   "metadata": {},
   "outputs": [],
   "source": [
    "bio = bio[:, inds, np.arange(len(inds))]\n",
    "indiv = indiv[:, inds, np.arange(len(inds))]\n",
    "size = size[:, inds, np.arange(len(inds))]"
   ]
  },
  {
   "cell_type": "code",
   "execution_count": 76,
   "id": "ea81bb49-bc42-4eb9-ba14-ca83156ea77c",
   "metadata": {},
   "outputs": [],
   "source": [
    "bio_df = pd.DataFrame(bio.T, index=df.index).reset_index()\n",
    "bio_df[\"bio_age\"] = mdl[\"bio_ages\"]\n",
    "bio_df = bio_df.drop(columns=['subject_name', 'session_name', 'uuid', 'date']).melt(\n",
    "    id_vars=[\"mouse\", \"age\", \"bio_age\", \"sex\"], var_name=\"syllable\", value_name=\"influence\"\n",
    ")\n",
    "bio_df[\"type\"] = \"Beh. age\"\n",
    "\n",
    "size_df = pd.DataFrame(size.T, index=df.index).reset_index()\n",
    "size_df[\"bio_age\"] = mdl[\"bio_ages\"]\n",
    "size_df = size_df.drop(columns=['subject_name', 'session_name', 'uuid', 'date']).melt(\n",
    "    id_vars=[\"mouse\", \"age\", \"bio_age\", \"sex\"], var_name=\"syllable\", value_name=\"influence\"\n",
    ")\n",
    "size_df[\"type\"] = \"Size\"\n",
    "\n",
    "indiv_df = pd.DataFrame(indiv.T, index=df.index).reset_index()\n",
    "indiv_df[\"bio_age\"] = mdl[\"bio_ages\"]\n",
    "indiv_df = indiv_df.drop(columns=['subject_name', 'session_name', 'uuid', 'date']).melt(\n",
    "    id_vars=[\"mouse\", \"age\", \"bio_age\", \"sex\"], var_name=\"syllable\", value_name=\"influence\"\n",
    ")\n",
    "indiv_df[\"type\"] = \"Sex\""
   ]
  },
  {
   "cell_type": "code",
   "execution_count": 77,
   "id": "0effb046-b1c2-4c18-94b1-9827535e1d19",
   "metadata": {},
   "outputs": [],
   "source": [
    "plt_dfs = pd.concat([bio_df, size_df, indiv_df])\n",
    "plt_dfs['bio_bin'] = pd.cut(plt_dfs['bio_age'], 25)\n",
    "plt_dfs['bio_bin'] = plt_dfs['bio_bin'].map(lambda x: x.mid)\n",
    "plt_dfs['age_bin'] = pd.cut(plt_dfs['age'], 25)\n",
    "plt_dfs['age_bin'] = plt_dfs['age_bin'].map(lambda x: x.mid)"
   ]
  },
  {
   "cell_type": "code",
   "execution_count": null,
   "id": "60cdea44-eb71-4433-a4e4-ab46614d1b72",
   "metadata": {},
   "outputs": [],
   "source": [
    "fig = figure(1.3, 1.3)\n",
    "ax = sns.lineplot(\n",
    "    data=plt_dfs,\n",
    "    x=\"bio_bin\",\n",
    "    y=\"influence\",\n",
    "    errorbar=(\"se\", 2),\n",
    "    hue=\"type\",\n",
    "    palette=cc.glasbey[24:27],\n",
    "    err_kws=dict(lw=0),\n",
    ")\n",
    "ax.set(\n",
    "    xlabel=\"Binned behavioral age (weeks)\",\n",
    "    ylabel=\"Relative influence on behavior\",\n",
    "    ylim=(0, 0.8),\n",
    "    xlim=(0, 100),\n",
    ")\n",
    "legend()\n",
    "sns.despine()\n",
    "saver(fig, \"sex-component-influence-on-behavior\");"
   ]
  },
  {
   "cell_type": "code",
   "execution_count": 79,
   "id": "1db8d2ba-4712-4543-9842-474a1903b36f",
   "metadata": {},
   "outputs": [],
   "source": [
    "x = pd.pivot_table(\n",
    "    plt_dfs.groupby([\"syllable\", \"type\"])[\"influence\"].mean().reset_index(),\n",
    "    index=\"syllable\",\n",
    "    columns=\"type\",\n",
    "    values=\"influence\",\n",
    ")\n",
    "remapping = dict(\n",
    "    map(reversed, enumerate(x.sort_values(by=\"Beh. age\", ascending=False).index))\n",
    ")"
   ]
  },
  {
   "cell_type": "code",
   "execution_count": 80,
   "id": "34310002-5074-4908-ba9c-7fe8c5298310",
   "metadata": {},
   "outputs": [],
   "source": [
    "plt_dfs['sorted_syllable'] = plt_dfs['syllable'].map(remapping)"
   ]
  },
  {
   "cell_type": "code",
   "execution_count": null,
   "id": "d2cf5f9f-967d-4f94-a109-53991150e4cc",
   "metadata": {},
   "outputs": [],
   "source": [
    "fig = figure(1.3, 1.3)\n",
    "ax = sns.lineplot(data=plt_dfs, x='sorted_syllable', y='influence', errorbar='se', hue='type', palette=cc.glasbey[24:27])\n",
    "ax.set(xlabel=\"Syllables (sorted)\", ylabel=\"Influence on behavior\", ylim=(0, 1))\n",
    "legend()\n",
    "sns.despine()\n",
    "saver(fig, 'sex-syllables-component-influence-on-behavior-sorted');"
   ]
  },
  {
   "cell_type": "code",
   "execution_count": null,
   "id": "f6584871-2b70-403c-b2f0-31c2a06e9fb5",
   "metadata": {},
   "outputs": [],
   "source": []
  },
  {
   "cell_type": "markdown",
   "id": "7f8dcfda-6d10-4dd8-a2d7-4216ae0859e8",
   "metadata": {},
   "source": [
    "## NMF"
   ]
  },
  {
   "cell_type": "markdown",
   "id": "299e5eff-e469-4f28-9508-8bd59d41940a",
   "metadata": {},
   "source": [
    "### Males"
   ]
  },
  {
   "cell_type": "code",
   "execution_count": 82,
   "id": "9bfae70b-9354-4e65-881e-ac1386163fc8",
   "metadata": {},
   "outputs": [],
   "source": [
    "mask = df.index.get_level_values('sex') == 0\n",
    "\n",
    "nmf_df = pd.DataFrame(dict(age=mdl['true_ages'], bio_age=mdl['bio_ages']), index=df.index).loc[mask].copy()\n",
    "\n",
    "_age = nmf_df['age'].to_numpy()\n",
    "nmf_df = nmf_df.sort_values(by='bio_age')\n",
    "nmf_df['bio_age_map'] = _age\n",
    "nmf_df = nmf_df.loc[df.index[mask]]"
   ]
  },
  {
   "cell_type": "code",
   "execution_count": 83,
   "id": "7d300e08-5f9f-482f-8030-e2e3f781c20e",
   "metadata": {},
   "outputs": [],
   "source": [
    "nmf_components = 4\n",
    "nmf = NMF(n_components=nmf_components, random_state=0, max_iter=2_000)\n",
    "scores = nmf.fit_transform(minmax(df.loc[mask].copy()))\n",
    "nmf_keys = [f\"{c + 1}\" for c in range(nmf_components)]\n",
    "nmf_df[nmf_keys] = scores"
   ]
  },
  {
   "cell_type": "code",
   "execution_count": 84,
   "id": "85d44acd-a2e1-4e01-b50e-cd167c826379",
   "metadata": {},
   "outputs": [],
   "source": [
    "# joblib.dump(nmf.components_, '/n/groups/datta/win/longtogeny/data/ontogeny/version_11-1/beh_age_df/male-nmf-components.p')\n",
    "# nmf_df.to_parquet('/n/groups/datta/win/longtogeny/data/ontogeny/version_11-1/beh_age_df/male-nmf-scores.parquet')"
   ]
  },
  {
   "cell_type": "code",
   "execution_count": 85,
   "id": "a448451a-9d41-4fe0-8914-9f385a71abe6",
   "metadata": {},
   "outputs": [],
   "source": [
    "chron_avg = nmf_df.groupby(level='age')[nmf_keys].mean()\n",
    "bio_avg = nmf_df.groupby('bio_age_map')[nmf_keys].mean()"
   ]
  },
  {
   "cell_type": "code",
   "execution_count": null,
   "id": "28b4b2ac-3dd9-48bb-8875-dd1a68065b08",
   "metadata": {},
   "outputs": [],
   "source": [
    "with plt.rc_context({'axes.prop_cycle': plt.cycler(color=cc.glasbey_cool[15:])}):\n",
    "    fig, ax = plt.subplots(1, 2, figsize=(3, 1.3), sharey=True, sharex=True)\n",
    "    a = chron_avg.plot(ax=ax[0], legend=False)\n",
    "    a.set(xlabel=\"Chronological age (weeks)\", ylabel=\"Score\")\n",
    "    a2 = bio_avg.plot(ax=ax[1])\n",
    "    a2.set(xlabel=\"Behavioral age (weeks)\", ylabel=\"Score\", xlim=(0, 100))\n",
    "    legend(a2, title=\"Component\")\n",
    "    sns.despine()\n",
    "    fig.suptitle(\"NMF clustering - Males\")\n",
    "    saver(fig, \"nmf-components-pre-post-sorting-blue-colors\");"
   ]
  },
  {
   "cell_type": "markdown",
   "id": "b1feaade-3222-4546-a9dd-2690a70108a2",
   "metadata": {},
   "source": [
    "### Females"
   ]
  },
  {
   "cell_type": "code",
   "execution_count": 87,
   "id": "50649e3e-c54a-4efc-b252-ee1f1845e81f",
   "metadata": {},
   "outputs": [],
   "source": [
    "mask = df.index.get_level_values('sex') == 1\n",
    "\n",
    "nmf_df = pd.DataFrame(dict(age=mdl['true_ages'], bio_age=mdl['bio_ages']), index=df.index).loc[mask].copy()\n",
    "\n",
    "_age = nmf_df['age'].to_numpy()\n",
    "nmf_df = nmf_df.sort_values(by='bio_age')\n",
    "nmf_df['bio_age_map'] = _age\n",
    "nmf_df = nmf_df.loc[df.index[mask]]"
   ]
  },
  {
   "cell_type": "code",
   "execution_count": 88,
   "id": "f93a76cc-6c5f-43fc-8ecb-205dbf399530",
   "metadata": {},
   "outputs": [],
   "source": [
    "nmf = NMF(n_components=nmf_components, random_state=0, max_iter=2_000)\n",
    "scores = nmf.fit_transform(minmax(df.loc[mask].copy()))\n",
    "nmf_keys = [f\"{c + 1}\" for c in range(nmf_components)]\n",
    "nmf_df[nmf_keys] = scores"
   ]
  },
  {
   "cell_type": "code",
   "execution_count": 89,
   "id": "19214b7c-7a1c-4e3a-bb45-240c48c783b7",
   "metadata": {},
   "outputs": [],
   "source": [
    "# joblib.dump(nmf.components_, '/n/groups/datta/win/longtogeny/data/ontogeny/version_11-1/beh_age_df/female-nmf-components.p')\n",
    "# nmf_df.to_parquet('/n/groups/datta/win/longtogeny/data/ontogeny/version_11-1/beh_age_df/female-nmf-scores.parquet')"
   ]
  },
  {
   "cell_type": "code",
   "execution_count": 90,
   "id": "63faf95d-4def-41cb-a4e1-82d2b2026c65",
   "metadata": {},
   "outputs": [],
   "source": [
    "chron_avg = nmf_df.groupby(level='age')[nmf_keys].mean()\n",
    "bio_avg = nmf_df.groupby('bio_age_map')[nmf_keys].mean()"
   ]
  },
  {
   "cell_type": "code",
   "execution_count": null,
   "id": "ceffadb0-a1ad-4af2-baa8-c10665f3d91c",
   "metadata": {},
   "outputs": [],
   "source": [
    "with plt.rc_context({'axes.prop_cycle': plt.cycler(color=cc.glasbey_warm[11:])}):\n",
    "    fig, ax = plt.subplots(1, 2, figsize=(3, 1.3), sharey=True, sharex=True)\n",
    "    a = chron_avg.plot(ax=ax[0], legend=False)\n",
    "    a.set(xlabel=\"Chronological age (weeks)\", ylabel=\"Score\")\n",
    "    a2 = bio_avg.plot(ax=ax[1])\n",
    "    legend(a2, title=\"Component\")\n",
    "    a2.set(xlabel=\"Behavioral age (weeks)\", ylabel=\"Score\", xlim=(0, 100))\n",
    "    sns.despine()\n",
    "    fig.suptitle(\"NMF clustering - Females\")\n",
    "    saver(fig, \"female-nmf-components-pre-post-sorting-blue-colors\");"
   ]
  },
  {
   "cell_type": "markdown",
   "id": "6f61af44-2693-43be-b5aa-04764b668cc0",
   "metadata": {},
   "source": [
    "## K-means\n",
    "\n",
    "### males\n",
    "\n",
    "#### sort by chron age"
   ]
  },
  {
   "cell_type": "code",
   "execution_count": 92,
   "id": "1393314a-e2ec-48d4-97f8-25b8bda78e85",
   "metadata": {},
   "outputs": [],
   "source": [
    "from itertools import combinations\n",
    "from toolz import groupby, valmap, compose\n",
    "from toolz.curried import get, pluck\n",
    "\n",
    "from sklearn.cluster import k_means\n",
    "from sklearn.metrics import silhouette_score"
   ]
  },
  {
   "cell_type": "code",
   "execution_count": 93,
   "id": "70eedd41-062f-410e-a96d-9770d7a3aba0",
   "metadata": {},
   "outputs": [],
   "source": [
    "class_df = pd.read_csv(\n",
    "    \"../super-hell-week-2024-05-09/v11_syllable_labels_v2.csv\", index_col=\"Original ID\", usecols=range(4)\n",
    ")\n",
    "\n",
    "def get_class(syll):\n",
    "    return class_df.loc[syll, \"Class\"]"
   ]
  },
  {
   "cell_type": "code",
   "execution_count": 94,
   "id": "c6143525-4457-40d3-a42b-8dc011acd1fb",
   "metadata": {},
   "outputs": [],
   "source": [
    "mask = df.index.get_level_values('sex') == 0"
   ]
  },
  {
   "cell_type": "code",
   "execution_count": null,
   "id": "10e259d5-03c3-4133-a62b-8c0dcc660f85",
   "metadata": {},
   "outputs": [],
   "source": [
    "silhouettes = []\n",
    "\n",
    "_males = df.loc[mask].copy()\n",
    "for c, seed in tqdm(product(range(2, 7), range(100))):\n",
    "    mm_df = minmax(_males.sample(frac=1, replace=True, random_state=seed).groupby('age').mean())\n",
    "    centroid, labels, inertia = k_means(mm_df.T, c, random_state=seed)\n",
    "    silhouettes.append(dict(n_clust=c, seed=seed, s_sc=silhouette_score(mm_df.T, labels), sse=inertia))\n",
    "silhouettes = pd.DataFrame(silhouettes)"
   ]
  },
  {
   "cell_type": "code",
   "execution_count": null,
   "id": "3a13ad65-9dbc-425e-8167-6a667490eadd",
   "metadata": {},
   "outputs": [],
   "source": [
    "fig = figure(0.8, 1.3)\n",
    "ax = sns.lineplot(\n",
    "    data=silhouettes,\n",
    "    x=\"n_clust\",\n",
    "    y=\"sse\",\n",
    "    errorbar=(\"sd\", 2),\n",
    "    err_kws=dict(lw=0),\n",
    "    color=\"k\",\n",
    ")\n",
    "ax.set(ylabel=\"SSE\", xlabel=\"Cluster numbers\", xlim=(2, 6), title=\"Chronological age\")\n",
    "sns.despine()\n",
    "saver(fig, \"male-k-means-cluster-silhouette-score-chron-age\");"
   ]
  },
  {
   "cell_type": "code",
   "execution_count": null,
   "id": "52c228da-92df-48f7-ba6e-02b14545a90c",
   "metadata": {},
   "outputs": [],
   "source": [
    "fig = figure(0.8, 1.3)\n",
    "ax = sns.lineplot(\n",
    "    data=silhouettes,\n",
    "    x=\"n_clust\",\n",
    "    y=\"s_sc\",\n",
    "    errorbar=(\"sd\", 2),\n",
    "    err_kws=dict(lw=0),\n",
    "    color=\"k\",\n",
    ")\n",
    "ax.axvline(3, color=\"gray\", ls=\"--\")\n",
    "ax.set(ylabel=\"Silhouette score\", xlabel=\"Cluster numbers\", xlim=(2, 6), title=\"Chronological age\")\n",
    "sns.despine()\n",
    "saver(fig, \"male-k-means-cluster-silhouette-score-chron-age\");"
   ]
  },
  {
   "cell_type": "code",
   "execution_count": null,
   "id": "16cc8048-35c0-490c-bb03-a303ffd88f65",
   "metadata": {},
   "outputs": [],
   "source": [
    "_males = df.loc[mask].copy()\n",
    "mm_df = minmax(_males.groupby('age').mean())\n",
    "\n",
    "n_clust = 3\n",
    "\n",
    "centroid_dfs = []\n",
    "syllable_groups = {}\n",
    "\n",
    "for seed in tqdm(range(500)):\n",
    "    centroid, labels, inertia = k_means(mm_df.T, n_clust, random_state=seed)\n",
    "    s_sc = silhouette_score(mm_df.T, labels)\n",
    "\n",
    "    k = pd.DataFrame(centroid.T, index=mm_df.index)\n",
    "    k['seed'] = seed\n",
    "    k['s_sc'] = s_sc\n",
    "    centroid_dfs.append(k)\n",
    "\n",
    "    groups = groupby(get(0), zip(labels, mm_df.columns))\n",
    "    groups = valmap(compose(list, pluck(1)), groups)\n",
    "    syllable_groups[seed] = groups"
   ]
  },
  {
   "cell_type": "code",
   "execution_count": 99,
   "id": "b388cd83-afd5-4684-ba5a-d3179911bb41",
   "metadata": {},
   "outputs": [],
   "source": [
    "best_kmeans = max(centroid_dfs, key=lambda x: x['s_sc'].max())\n",
    "best_seed = best_kmeans['seed'].iloc[0]"
   ]
  },
  {
   "cell_type": "code",
   "execution_count": null,
   "id": "e936eece-3e61-43e3-98e6-055978fc1f7b",
   "metadata": {},
   "outputs": [],
   "source": [
    "best_kmeans.head(2)"
   ]
  },
  {
   "cell_type": "code",
   "execution_count": null,
   "id": "aee46553-20c1-4e6b-8d41-6b2091a9d03f",
   "metadata": {},
   "outputs": [],
   "source": [
    "with plt.rc_context({'axes.prop_cycle': plt.cycler(color=cc.glasbey_cool[15:])}):\n",
    "    fig = figure(1.1, 1.3)\n",
    "    ax = fig.gca()\n",
    "    ax = best_kmeans.drop(columns=['seed', 's_sc']).rename(columns=lambda x: x + 1).plot(ax=ax)\n",
    "    legend(ax, title=\"Cluster\")\n",
    "    ax.set(xlabel=\"Chron. age (weeks)\", ylabel=\"Normalized usage\", xlim=(0, 100), ylim=(0, 1))\n",
    "    sns.despine()\n",
    "    saver(fig, \"male-k-means-cluster-chron-age\");"
   ]
  },
  {
   "cell_type": "markdown",
   "id": "56fa1dcf-6097-4173-be0c-b0a3e35527f8",
   "metadata": {},
   "source": [
    "#### Cluster version with 4 plots, one for each cluster"
   ]
  },
  {
   "cell_type": "code",
   "execution_count": 102,
   "id": "ab03dbc4-aba1-47b0-a20a-c80f2be36e30",
   "metadata": {},
   "outputs": [],
   "source": [
    "syll_classes = valmap(lambda x: list(map(get_class, x)), syllable_groups[best_seed])\n",
    "# sort classes\n",
    "syll_classes = dict(sorted(syll_classes.items(), key=get(0)))\n",
    "\n",
    "class_freqs = valmap(lambda x: pd.Series(x).value_counts(), syll_classes)"
   ]
  },
  {
   "cell_type": "code",
   "execution_count": null,
   "id": "b804fa0b-db7c-4e43-b5a1-5cf4b3c1e8c4",
   "metadata": {},
   "outputs": [],
   "source": [
    "_classes = dict(sorted(syllable_groups[best_seed].items(), key=lambda item: item[0]))\n",
    "\n",
    "start_letter = ord('a')\n",
    "\n",
    "row1 = ''.join(chr(start_letter + i) for i in range(n_clust))\n",
    "row2 = chr(start_letter + n_clust) * n_clust\n",
    "\n",
    "mosaic = '\\n'.join([row1, row2])\n",
    "\n",
    "fig, ax = plt.subplot_mosaic(mosaic, figsize=(2.6, 1.8), gridspec_kw={'wspace': 0.3, 'hspace': 0.4})\n",
    "\n",
    "for _a, ((k, sylls), color) in enumerate(zip(_classes.items(), cc.glasbey_cool[15:])):\n",
    "    letter = chr(_a + 97)\n",
    "    a = ax[letter]\n",
    "    mm_df[sylls].plot(ax=a, legend=False, color='#ccc', alpha=0.5, lw=0.7)\n",
    "    a.plot(mm_df[sylls].mean(1), color=color, lw=1.5)\n",
    "    a.set(title=f\"Cluster #{k + 1}\", xlabel=\"\", ylim=(0, 1), yticks=(0, 1), xlim=(0, 100))\n",
    "ax['a'].set(ylabel=\"Normalized usage\")\n",
    "ax['b'].set(xlabel=\"Beh. age (wks)\")\n",
    "\n",
    "with plt.rc_context({'axes.prop_cycle': plt.cycler(color=cc.glasbey_cool[15:])}):\n",
    "    a = ax[chr(start_letter + n_clust)]\n",
    "    cf_df = pd.DataFrame(class_freqs).fillna(0).rename(columns=lambda x: x+1)\n",
    "    cf_df = cf_df.loc[cf_df.sum(1).sort_values(ascending=False).index]\n",
    "    a = cf_df.plot(kind='bar', ax=a, width=0.6, linewidth=0)\n",
    "    legend(a, title=\"Cluster\")\n",
    "    a.set(ylabel=\"Counts\", xlabel=\"\", ylim=(0, cf_df.max().max()))\n",
    "sns.despine()\n",
    "saver(fig, \"male-k-means-cluster-all-sylls-chron-age\", tight_layout=True);"
   ]
  },
  {
   "cell_type": "code",
   "execution_count": null,
   "id": "ea579352-801c-4340-aeb6-d46e8870be19",
   "metadata": {},
   "outputs": [],
   "source": [
    "joblib.dump(syllable_groups[best_seed], '/n/groups/datta/win/longtogeny/data/ontogeny/version_11-1/beh_age_df/male-kmeans-label-dict-chron-age.p')"
   ]
  },
  {
   "cell_type": "markdown",
   "id": "61cf442b-38e1-494a-9888-39ce4353b4a7",
   "metadata": {},
   "source": [
    "#### Sort by bio age"
   ]
  },
  {
   "cell_type": "code",
   "execution_count": null,
   "id": "bcd95650-00ca-4591-a5d6-9cb2c0af17ff",
   "metadata": {},
   "outputs": [],
   "source": [
    "silhouettes = []\n",
    "\n",
    "_males = df.loc[mask].copy()\n",
    "_males['bio_age'] = mdl['bio_ages'][mask]\n",
    "_age = _males.index.get_level_values('age')\n",
    "_males = _males.sort_values(by='bio_age')\n",
    "_males['bio_age_map'] = _age.to_numpy()\n",
    "_males = _males.loc[df.index[mask]].drop(columns=['bio_age']).set_index('bio_age_map', append=True)\n",
    "\n",
    "for c, seed in tqdm(product(range(2, 7), range(100))):\n",
    "    mm_df = minmax(_males.sample(frac=1, replace=True, random_state=seed).groupby('bio_age_map').mean())\n",
    "    pd_mtx = squareform(pdist(mm_df.T, metric='correlation'))\n",
    "\n",
    "    cols = mm_df.columns.to_numpy()\n",
    "    col_map = dict(map(reversed, enumerate(cols)))\n",
    "\n",
    "    def to_syll_array(sylls):\n",
    "        return np.array([col_map[s] for s in sylls])\n",
    "\n",
    "    centroid, labels, inertia = k_means(mm_df.T, c, random_state=seed)\n",
    "\n",
    "    groups = groupby(get(0), zip(labels, mm_df.columns))\n",
    "    groups = valmap(compose(list, pluck(1)), groups)\n",
    "\n",
    "    silhouettes.append(dict(n_clust=c, seed=seed, s_sc=silhouette_score(mm_df.T, labels), sse=inertia))\n",
    "silhouettes = pd.DataFrame(silhouettes)"
   ]
  },
  {
   "cell_type": "code",
   "execution_count": null,
   "id": "c844f546-c32c-4ace-b3e5-b4996fda3247",
   "metadata": {},
   "outputs": [],
   "source": [
    "fig = figure(0.8, 1.3)\n",
    "ax = sns.lineplot(\n",
    "    data=silhouettes,\n",
    "    x=\"n_clust\",\n",
    "    y=\"s_sc\",\n",
    "    errorbar=(\"sd\", 2),\n",
    "    err_kws=dict(lw=0),\n",
    "    color=\"k\",\n",
    ")\n",
    "ax.axvline(3, color=\"gray\", ls=\"--\")\n",
    "ax.set(ylabel=\"Silhouette score\", xlabel=\"Cluster numbers\", xlim=(2, 6), title=\"Behavioral age\")\n",
    "sns.despine()\n",
    "saver(fig, \"male-k-means-cluster-silhouette-score-beh-age\");"
   ]
  },
  {
   "cell_type": "code",
   "execution_count": null,
   "id": "ff343dd1-2ef3-44f9-b2cb-2720c6a1b62f",
   "metadata": {},
   "outputs": [],
   "source": [
    "_males = df.loc[mask].copy()\n",
    "_males['bio_age'] = mdl['bio_ages'][mask]\n",
    "_age = _males.index.get_level_values('age')\n",
    "_males = _males.sort_values(by='bio_age')\n",
    "_males['bio_age_map'] = _age.to_numpy()\n",
    "_males = _males.loc[df.index[mask]].drop(columns=['bio_age']).set_index('bio_age_map', append=True)\n",
    "\n",
    "mm_df = minmax(_males.groupby('bio_age_map').mean())\n",
    "\n",
    "centroid_dfs = []\n",
    "syllable_groups = {}\n",
    "\n",
    "for seed in tqdm(range(500)):\n",
    "    centroid, labels, inertia = k_means(mm_df.T, n_clust, random_state=seed)\n",
    "    s_sc = silhouette_score(mm_df.T, labels)\n",
    "\n",
    "    k = pd.DataFrame(centroid.T, index=mm_df.index)\n",
    "    k['seed'] = seed\n",
    "    k['s_sc'] = s_sc\n",
    "\n",
    "    groups = groupby(get(0), zip(labels, mm_df.columns))\n",
    "    groups = valmap(compose(list, pluck(1)), groups)\n",
    "    syllable_groups[seed] = groups\n",
    "\n",
    "    centroid_dfs.append(k)"
   ]
  },
  {
   "cell_type": "code",
   "execution_count": 108,
   "id": "2144acb7-9578-498a-b5f9-680bbbde3faa",
   "metadata": {},
   "outputs": [],
   "source": [
    "best_kmeans = max(centroid_dfs, key=lambda x: x['s_sc'].max())\n",
    "best_seed = best_kmeans['seed'].iloc[0]"
   ]
  },
  {
   "cell_type": "code",
   "execution_count": null,
   "id": "40b04000-d7b2-4ab3-b2f6-ead1ae6e3151",
   "metadata": {},
   "outputs": [],
   "source": [
    "best_kmeans.head(2)"
   ]
  },
  {
   "cell_type": "code",
   "execution_count": null,
   "id": "5e95fadc-5802-4e9e-a855-29de79d4f31c",
   "metadata": {},
   "outputs": [],
   "source": [
    "with plt.rc_context({'axes.prop_cycle': plt.cycler(color=cc.glasbey_cool[15:])}):\n",
    "    fig = figure(1.1, 1.3)\n",
    "    ax = fig.gca()\n",
    "    ax = best_kmeans.drop(columns=['seed', 's_sc']).rename(columns=lambda x: x + 1).plot(ax=ax)\n",
    "    legend(ax, title=\"Cluster\")\n",
    "    ax.set(xlabel=\"Beh. age (weeks)\", ylabel=\"Normalized usage\", xlim=(0, 100))\n",
    "    sns.despine()\n",
    "    saver(fig, \"male-k-means-cluster-beh-age\");"
   ]
  },
  {
   "cell_type": "code",
   "execution_count": 111,
   "id": "10b9cfb4-d267-4ee4-b911-ff0d6ab2a606",
   "metadata": {},
   "outputs": [],
   "source": [
    "syll_classes = valmap(lambda x: list(map(get_class, x)), syllable_groups[best_seed])\n",
    "# sort classes\n",
    "syll_classes = dict(sorted(syll_classes.items(), key=get(0)))\n",
    "\n",
    "class_freqs = valmap(lambda x: pd.Series(x).value_counts(), syll_classes)"
   ]
  },
  {
   "cell_type": "code",
   "execution_count": null,
   "id": "c14ab751-1ece-47a5-a4c0-87268e968050",
   "metadata": {},
   "outputs": [],
   "source": [
    "_classes = dict(sorted(syllable_groups[best_seed].items(), key=lambda item: item[0]))\n",
    "\n",
    "start_letter = ord('a')\n",
    "\n",
    "row1 = ''.join(chr(start_letter + i) for i in range(n_clust))\n",
    "row2 = chr(start_letter + n_clust) * n_clust\n",
    "\n",
    "mosaic = '\\n'.join([row1, row2])\n",
    "\n",
    "fig, ax = plt.subplot_mosaic(mosaic, figsize=(2.6, 1.8), gridspec_kw={'wspace': 0.3, 'hspace': 0.4})\n",
    "\n",
    "for _a, ((k, sylls), color) in enumerate(zip(_classes.items(), cc.glasbey_cool[15:])):\n",
    "    letter = chr(_a + 97)\n",
    "    a = ax[letter]\n",
    "    mm_df[sylls].plot(ax=a, legend=False, color='#ccc', alpha=0.5, lw=0.7)\n",
    "    a.plot(mm_df[sylls].mean(1), color=color, lw=1.5)\n",
    "    a.set(title=f\"Cluster #{k + 1}\", xlabel=\"\", ylim=(0, 1), yticks=(0, 1), xlim=(0, 100))\n",
    "ax['a'].set(ylabel=\"Normalized usage\")\n",
    "ax['b'].set(xlabel=\"Beh. age (wks)\")\n",
    "\n",
    "with plt.rc_context({'axes.prop_cycle': plt.cycler(color=cc.glasbey_cool[15:])}):\n",
    "    a = ax[chr(start_letter + n_clust)]\n",
    "    cf_df = pd.DataFrame(class_freqs).fillna(0).rename(columns=lambda x: x+1)\n",
    "    cf_df = cf_df.loc[cf_df.sum(1).sort_values(ascending=False).index]\n",
    "    a = cf_df.plot(kind='bar', ax=a, width=0.6, linewidth=0)\n",
    "    legend(a, title=\"Cluster\")\n",
    "    a.set(ylabel=\"Counts\", xlabel=\"\", ylim=(0, cf_df.max().max()))\n",
    "sns.despine()\n",
    "saver(fig, \"male-k-means-cluster-all-sylls-beh-age\", tight_layout=False);"
   ]
  },
  {
   "cell_type": "code",
   "execution_count": null,
   "id": "7c2ec48d-a036-471a-8b13-d3cc84e48db0",
   "metadata": {},
   "outputs": [],
   "source": [
    "joblib.dump(syllable_groups[best_seed], '/n/groups/datta/win/longtogeny/data/ontogeny/version_11-1/beh_age_df/male-kmeans-label-dict-beh-age.p')"
   ]
  },
  {
   "cell_type": "markdown",
   "id": "a0d1d567-4ac7-47f9-be65-955a186f401c",
   "metadata": {},
   "source": [
    "### females"
   ]
  },
  {
   "cell_type": "code",
   "execution_count": 114,
   "id": "709170f6-9f46-4edb-98da-f7336b1a78f0",
   "metadata": {},
   "outputs": [],
   "source": [
    "mask = df.index.get_level_values('sex') == 1"
   ]
  },
  {
   "cell_type": "code",
   "execution_count": null,
   "id": "0797ecc1-c712-498e-a451-13e07298b0a4",
   "metadata": {},
   "outputs": [],
   "source": [
    "silhouettes = []\n",
    "\n",
    "_males = df.loc[mask].copy()\n",
    "for c, seed in tqdm(product(range(2, 7), range(100))):\n",
    "    mm_df = minmax(_males.sample(frac=1, replace=True, random_state=seed).groupby('age').mean())\n",
    "    centroid, labels, inertia = k_means(mm_df.T, c, random_state=seed)\n",
    "    silhouettes.append(dict(n_clust=c, seed=seed, s_sc=silhouette_score(mm_df.T, labels), sse=inertia))\n",
    "silhouettes = pd.DataFrame(silhouettes)"
   ]
  },
  {
   "cell_type": "code",
   "execution_count": null,
   "id": "0c79492d-bfba-42e4-bc21-07e3bb891f2c",
   "metadata": {},
   "outputs": [],
   "source": [
    "fig = figure(0.8, 1.3)\n",
    "ax = sns.lineplot(\n",
    "    data=silhouettes,\n",
    "    x=\"n_clust\",\n",
    "    y=\"s_sc\",\n",
    "    errorbar=(\"sd\", 2),\n",
    "    err_kws=dict(lw=0),\n",
    "    color=\"k\",\n",
    ")\n",
    "ax.axvline(3, color=\"gray\", ls=\"--\")\n",
    "ax.set(ylabel=\"Silhouette score\", xlabel=\"Cluster numbers\", xlim=(2, 6), title=\"Chronological age\")\n",
    "sns.despine()\n",
    "saver(fig, \"female-k-means-cluster-silhouette-score-chron-age\");"
   ]
  },
  {
   "cell_type": "code",
   "execution_count": null,
   "id": "fe6ca6f1-01b1-4639-80c8-6e738f1c0751",
   "metadata": {},
   "outputs": [],
   "source": [
    "_males = df.loc[mask].copy()\n",
    "mm_df = minmax(_males.groupby('age').mean())\n",
    "\n",
    "centroid_dfs = []\n",
    "syllable_groups = {}\n",
    "\n",
    "for seed in tqdm(range(500)):\n",
    "    centroid, labels, inertia = k_means(mm_df.T, n_clust, random_state=seed)\n",
    "    s_sc = silhouette_score(mm_df.T, labels)\n",
    "\n",
    "    k = pd.DataFrame(centroid.T, index=mm_df.index)\n",
    "    k['seed'] = seed\n",
    "    k['s_sc'] = s_sc\n",
    "    centroid_dfs.append(k)\n",
    "\n",
    "    groups = groupby(get(0), zip(labels, mm_df.columns))\n",
    "    groups = valmap(compose(list, pluck(1)), groups)\n",
    "    syllable_groups[seed] = groups"
   ]
  },
  {
   "cell_type": "code",
   "execution_count": 118,
   "id": "f20a141a-2af9-47f1-93f6-6f1cd56c6d48",
   "metadata": {},
   "outputs": [],
   "source": [
    "best_kmeans = max(centroid_dfs, key=lambda x: x['s_sc'].max())\n",
    "best_seed = best_kmeans['seed'].iloc[0]"
   ]
  },
  {
   "cell_type": "code",
   "execution_count": null,
   "id": "39590c77-299e-473c-b61c-b97c3e9633ce",
   "metadata": {},
   "outputs": [],
   "source": [
    "best_kmeans.head(2)"
   ]
  },
  {
   "cell_type": "code",
   "execution_count": null,
   "id": "e6a317c6-7790-426b-9ab7-4a31f255c384",
   "metadata": {},
   "outputs": [],
   "source": [
    "with plt.rc_context({'axes.prop_cycle': plt.cycler(color=cc.glasbey_warm[11:])}):\n",
    "    fig = figure(1.1, 1.3)\n",
    "    ax = fig.gca()\n",
    "    ax = best_kmeans.drop(columns=['seed', 's_sc']).rename(columns=lambda x: x + 1).plot(ax=ax)\n",
    "    legend(ax, title=\"Cluster\")\n",
    "    ax.set(xlabel=\"Chron. age (weeks)\", ylabel=\"Normalized usage\", xlim=(0, 100), ylim=(0, 1))\n",
    "    sns.despine()\n",
    "    saver(fig, \"female-k-means-cluster-chron-age\");"
   ]
  },
  {
   "cell_type": "code",
   "execution_count": 121,
   "id": "b30056da-424d-457a-a9dd-462f80fcb477",
   "metadata": {},
   "outputs": [],
   "source": [
    "syll_classes = valmap(lambda x: list(map(get_class, x)), syllable_groups[best_seed])\n",
    "# sort classes\n",
    "syll_classes = dict(sorted(syll_classes.items(), key=get(0)))\n",
    "\n",
    "class_freqs = valmap(lambda x: pd.Series(x).value_counts(), syll_classes)"
   ]
  },
  {
   "cell_type": "code",
   "execution_count": null,
   "id": "a8505e7d-7aaf-4315-a99e-8b279b5853c5",
   "metadata": {},
   "outputs": [],
   "source": [
    "_classes = dict(sorted(syllable_groups[best_seed].items(), key=lambda item: item[0]))\n",
    "\n",
    "start_letter = ord('a')\n",
    "\n",
    "row1 = ''.join(chr(start_letter + i) for i in range(n_clust))\n",
    "row2 = chr(start_letter + n_clust) * n_clust\n",
    "\n",
    "mosaic = '\\n'.join([row1, row2])\n",
    "\n",
    "fig, ax = plt.subplot_mosaic(mosaic, figsize=(2.6, 1.8), gridspec_kw={'wspace': 0.3, 'hspace': 0.4})\n",
    "\n",
    "for _a, ((k, sylls), color) in enumerate(zip(_classes.items(), cc.glasbey_warm[11:])):\n",
    "    letter = chr(_a + 97)\n",
    "    a = ax[letter]\n",
    "    mm_df[sylls].plot(ax=a, legend=False, color='#ccc', alpha=0.5, lw=0.7)\n",
    "    a.plot(mm_df[sylls].mean(1), color=color, lw=1.5)\n",
    "    a.set(title=f\"Cluster #{k + 1}\", xlabel=\"\", ylim=(0, 1), yticks=(0, 1), xlim=(0, 100))\n",
    "ax['a'].set(ylabel=\"Normalized usage\")\n",
    "ax['b'].set(xlabel=\"Beh. age (wks)\")\n",
    "\n",
    "with plt.rc_context({'axes.prop_cycle': plt.cycler(color=cc.glasbey_warm[11:])}):\n",
    "    a = ax[chr(start_letter + n_clust)]\n",
    "    cf_df = pd.DataFrame(class_freqs).fillna(0).rename(columns=lambda x: x+1)\n",
    "    cf_df = cf_df.loc[cf_df.sum(1).sort_values(ascending=False).index]\n",
    "    a = cf_df.plot(kind='bar', ax=a, width=0.6, linewidth=0)\n",
    "    legend(a, title=\"Cluster\")\n",
    "    a.set(ylabel=\"Counts\", xlabel=\"\", ylim=(0, cf_df.max().max()))\n",
    "sns.despine()\n",
    "saver(fig, \"female-k-means-cluster-all-sylls-chron-age\", tight_layout=False);"
   ]
  },
  {
   "cell_type": "code",
   "execution_count": null,
   "id": "33bd2dd9-ff61-40e9-b206-ba8515e3e403",
   "metadata": {},
   "outputs": [],
   "source": [
    "joblib.dump(syllable_groups[best_seed], '/n/groups/datta/win/longtogeny/data/ontogeny/version_11-1/beh_age_df/female-kmeans-label-dict-chron-age.p')"
   ]
  },
  {
   "cell_type": "markdown",
   "id": "f3c49113-b948-4f59-a7f8-97d6d2c3951a",
   "metadata": {},
   "source": [
    "#### Sort by bio age"
   ]
  },
  {
   "cell_type": "code",
   "execution_count": null,
   "id": "66fd61bd-f622-4b3a-b547-75e47ec5e6bd",
   "metadata": {},
   "outputs": [],
   "source": [
    "silhouettes = []\n",
    "\n",
    "_males = df.loc[mask].copy()\n",
    "_males['bio_age'] = mdl['bio_ages'][mask]\n",
    "_age = _males.index.get_level_values('age')\n",
    "_males = _males.sort_values(by='bio_age')\n",
    "_males['bio_age_map'] = _age.to_numpy()\n",
    "_males = _males.loc[df.index[mask]].drop(columns=['bio_age']).set_index('bio_age_map', append=True)\n",
    "\n",
    "for c, seed in tqdm(product(range(2, 7), range(100))):\n",
    "    mm_df = minmax(_males.sample(frac=1, replace=True, random_state=seed).groupby('bio_age_map').mean())\n",
    "    centroid, labels, inertia = k_means(mm_df.T, c, random_state=seed)\n",
    "    silhouettes.append(dict(n_clust=c, seed=seed, s_sc=silhouette_score(mm_df.T, labels), sse=inertia))\n",
    "silhouettes = pd.DataFrame(silhouettes)"
   ]
  },
  {
   "cell_type": "code",
   "execution_count": null,
   "id": "d0702f49-9fee-44d5-a9cf-03bb089ab27b",
   "metadata": {},
   "outputs": [],
   "source": [
    "fig = figure(0.8, 1.3)\n",
    "ax = sns.lineplot(\n",
    "    data=silhouettes,\n",
    "    x=\"n_clust\",\n",
    "    y=\"s_sc\",\n",
    "    errorbar=(\"sd\", 2),\n",
    "    err_kws=dict(lw=0),\n",
    "    color=\"k\",\n",
    ")\n",
    "ax.axvline(3, color=\"gray\", ls=\"--\")\n",
    "ax.set(ylabel=\"Silhouette score\", xlabel=\"Cluster numbers\", xlim=(2, 6), title=\"Behavioral age\")\n",
    "sns.despine()\n",
    "saver(fig, \"female-k-means-cluster-silhouette-score-beh-age\");"
   ]
  },
  {
   "cell_type": "code",
   "execution_count": null,
   "id": "0f9bce76-d010-4b59-a75f-fedd62a0cba5",
   "metadata": {},
   "outputs": [],
   "source": [
    "_males = df.loc[mask].copy()\n",
    "_males['bio_age'] = mdl['bio_ages'][mask]\n",
    "_age = _males.index.get_level_values('age')\n",
    "_males = _males.sort_values(by='bio_age')\n",
    "_males['bio_age_map'] = _age.to_numpy()\n",
    "_males = _males.loc[df.index[mask]].drop(columns=['bio_age']).set_index('bio_age_map', append=True)\n",
    "\n",
    "mm_df = minmax(_males.groupby('bio_age_map').mean())\n",
    "\n",
    "centroid_dfs = []\n",
    "syllable_groups = {}\n",
    "\n",
    "for seed in tqdm(range(500)):\n",
    "    centroid, labels, inertia = k_means(mm_df.T, n_clust, random_state=seed)\n",
    "    s_sc = silhouette_score(mm_df.T, labels)\n",
    "\n",
    "    k = pd.DataFrame(centroid.T, index=mm_df.index)\n",
    "    k['seed'] = seed\n",
    "    k['s_sc'] = s_sc\n",
    "    centroid_dfs.append(k)\n",
    "\n",
    "    groups = groupby(get(0), zip(labels, mm_df.columns))\n",
    "    groups = valmap(compose(list, pluck(1)), groups)\n",
    "    syllable_groups[seed] = groups"
   ]
  },
  {
   "cell_type": "code",
   "execution_count": 127,
   "id": "38d27e46-b544-4389-bfc1-0f1df54b3354",
   "metadata": {},
   "outputs": [],
   "source": [
    "best_kmeans = max(centroid_dfs, key=lambda x: x['s_sc'].max())\n",
    "best_seed = best_kmeans['seed'].iloc[0]"
   ]
  },
  {
   "cell_type": "code",
   "execution_count": null,
   "id": "bb8d4d0e-8e67-4981-85f2-54750d8db889",
   "metadata": {},
   "outputs": [],
   "source": [
    "best_kmeans.head(2)"
   ]
  },
  {
   "cell_type": "code",
   "execution_count": null,
   "id": "f722ace2-2c6f-4ffd-9d84-b6e97059ca87",
   "metadata": {},
   "outputs": [],
   "source": [
    "with plt.rc_context({'axes.prop_cycle': plt.cycler(color=cc.glasbey_warm[11:])}):\n",
    "    fig = figure(1.1, 1.3)\n",
    "    ax = fig.gca()\n",
    "    ax = best_kmeans.drop(columns=['seed', 's_sc']).rename(columns=lambda x: x + 1).plot(ax=ax)\n",
    "    legend(ax, title=\"Cluster\")\n",
    "    ax.set(xlabel=\"Beh. age (weeks)\", ylabel=\"Normalized usage\", xlim=(0, 100), ylim=(0, 1))\n",
    "    sns.despine()\n",
    "    saver(fig, \"female-k-means-cluster-beh-age\");"
   ]
  },
  {
   "cell_type": "code",
   "execution_count": 130,
   "id": "c2917867-70c7-407d-9877-2e9494345d6c",
   "metadata": {},
   "outputs": [],
   "source": [
    "syll_classes = valmap(lambda x: list(map(get_class, x)), syllable_groups[best_seed])\n",
    "# sort classes\n",
    "syll_classes = dict(sorted(syll_classes.items(), key=get(0)))\n",
    "\n",
    "class_freqs = valmap(lambda x: pd.Series(x).value_counts(), syll_classes)"
   ]
  },
  {
   "cell_type": "code",
   "execution_count": null,
   "id": "332fafed-c617-4466-a25e-bf877e531957",
   "metadata": {},
   "outputs": [],
   "source": [
    "_classes = dict(sorted(syllable_groups[best_seed].items(), key=lambda item: item[0]))\n",
    "\n",
    "start_letter = ord('a')\n",
    "\n",
    "row1 = ''.join(chr(start_letter + i) for i in range(n_clust))\n",
    "row2 = chr(start_letter + n_clust) * n_clust\n",
    "\n",
    "mosaic = '\\n'.join([row1, row2])\n",
    "\n",
    "fig, ax = plt.subplot_mosaic(mosaic, figsize=(2.6, 1.8), gridspec_kw={'wspace': 0.3, 'hspace': 0.4})\n",
    "\n",
    "for _a, ((k, sylls), color) in enumerate(zip(_classes.items(), cc.glasbey_warm[11:])):\n",
    "    letter = chr(_a + 97)\n",
    "    a = ax[letter]\n",
    "    mm_df[sylls].plot(ax=a, legend=False, color='#ccc', alpha=0.5, lw=0.7)\n",
    "    a.plot(mm_df[sylls].mean(1), color=color, lw=1.5)\n",
    "    a.set(title=f\"Cluster #{k + 1}\", xlabel=\"\", ylim=(0, 1), yticks=(0, 1), xlim=(0, 100))\n",
    "ax['a'].set(ylabel=\"Normalized usage\")\n",
    "ax['b'].set(xlabel=\"Beh. age (wks)\")\n",
    "\n",
    "with plt.rc_context({'axes.prop_cycle': plt.cycler(color=cc.glasbey_warm[11:])}):\n",
    "    a = ax[chr(start_letter + n_clust)]\n",
    "    cf_df = pd.DataFrame(class_freqs).fillna(0).rename(columns=lambda x: x+1)\n",
    "    cf_df = cf_df.loc[cf_df.sum(1).sort_values(ascending=False).index]\n",
    "    a = cf_df.plot(kind='bar', ax=a, width=0.6, linewidth=0)\n",
    "    legend(a, title=\"Cluster\")\n",
    "    a.set(ylabel=\"Counts\", xlabel=\"\", ylim=(0, cf_df.max().max()))\n",
    "sns.despine()\n",
    "saver(fig, \"female-k-means-cluster-all-sylls-beh-age\", tight_layout=False);"
   ]
  },
  {
   "cell_type": "code",
   "execution_count": null,
   "id": "2a1702ad-867c-4c3e-89cb-a66e63d04504",
   "metadata": {},
   "outputs": [],
   "source": [
    "joblib.dump(syllable_groups[best_seed], '/n/groups/datta/win/longtogeny/data/ontogeny/version_11-1/beh_age_df/female-kmeans-label-dict-beh-age.p')"
   ]
  },
  {
   "cell_type": "markdown",
   "id": "cd3fbc2f-3d9f-4f03-8fab-fdd6ec793d51",
   "metadata": {},
   "source": [
    "## Combine males and females"
   ]
  },
  {
   "cell_type": "code",
   "execution_count": null,
   "id": "9fbedf7c-f430-4991-96bf-07d9cd065c00",
   "metadata": {},
   "outputs": [],
   "source": []
  },
  {
   "cell_type": "markdown",
   "id": "6bca6467-5d1d-485f-9dd3-69250b718afb",
   "metadata": {},
   "source": [
    "## Show shuffles/controls"
   ]
  },
  {
   "cell_type": "code",
   "execution_count": 133,
   "id": "cb0b047f-2895-484c-87c3-e0bf670c3015",
   "metadata": {},
   "outputs": [],
   "source": [
    "from scipy.stats import ttest_ind"
   ]
  },
  {
   "cell_type": "code",
   "execution_count": 134,
   "id": "7d342026-21db-411c-ba37-65d63f1842bc",
   "metadata": {},
   "outputs": [],
   "source": [
    "# features = {\n",
    "#     \"ages\": age,  # models >= 1\n",
    "#     \"counts\": syllable_counts_jax + 1,  # models >= 1\n",
    "#     \"sizes\": pd.concat([sizes_col, female_sizes_col]).to_numpy(),  # models > 1\n",
    "#     \"mice\": sex_id,\n",
    "# }\n",
    "\n",
    "# age_sd = 0.04\n",
    "\n",
    "# hypparams = {\n",
    "#     \"log_age\": True,\n",
    "#     \"min_age\": 3,\n",
    "#     \"max_age\": 130,\n",
    "#     \"age_sd\": age_sd,\n",
    "#     \"n_age_samples\": 1000,\n",
    "#     \"n_splines\": 4,\n",
    "#     \"n_syllables\": syllable_counts_jax.shape[1],\n",
    "#     \"n_development_splines\": 4,\n",
    "#     \"scale\": 400,\n",
    "#     \"normalize_by_softmax\": True,\n",
    "#     \"n_keep_sylls\": 25,\n",
    "#     \"n_sessions\": len(syllable_counts_jax),\n",
    "#     \"n_animals\": len(sex_id),\n",
    "#     \"lr\": 0.25,\n",
    "#     \"n_opt_iter\": 1300,\n",
    "# }"
   ]
  },
  {
   "cell_type": "code",
   "execution_count": 135,
   "id": "43af2fb9-e31d-4fd1-8a66-25aed7ce2873",
   "metadata": {},
   "outputs": [],
   "source": [
    "n_repeats = 25"
   ]
  },
  {
   "cell_type": "code",
   "execution_count": null,
   "id": "fa0e0dbc-c07a-4d83-b553-d5f537b54d13",
   "metadata": {},
   "outputs": [],
   "source": [
    "hyp_copy = deepcopy(hypparams)\n",
    "mdl3 = masked_xval(features, hyp_copy, 5, n_repeats=n_repeats)\n",
    "r2_3 = list(pluck('heldout_r2_total_v3', mdl3.values()))\n",
    "ll_3 = list(pluck('heldout_ll', mdl3.values()))\n",
    "print(np.mean(r2_3))\n",
    "del mdl3"
   ]
  },
  {
   "cell_type": "code",
   "execution_count": null,
   "id": "72556953-fc02-43c1-acfd-76e0bccf6e2b",
   "metadata": {},
   "outputs": [],
   "source": [
    "hyp_copy = deepcopy(hypparams)\n",
    "mdl2 = masked_xval(features, hyp_copy, 2, n_repeats=n_repeats)\n",
    "r2_2 = list(pluck('heldout_r2_total_v3', mdl2.values()))\n",
    "ll_2 = list(pluck('heldout_ll', mdl2.values()))\n",
    "print(np.mean(r2_2))\n",
    "del mdl2"
   ]
  },
  {
   "cell_type": "code",
   "execution_count": null,
   "id": "111dcca4-746e-4d7e-a406-dfa99fac52eb",
   "metadata": {},
   "outputs": [],
   "source": [
    "ttest_ind(r2_2, r2_3, alternative='less')"
   ]
  },
  {
   "cell_type": "code",
   "execution_count": null,
   "id": "0da43ee8-d8c4-4dbc-ae82-1a362f1f1a4d",
   "metadata": {},
   "outputs": [],
   "source": [
    "ttest_ind(ll_2, ll_3, alternative='less')"
   ]
  },
  {
   "cell_type": "code",
   "execution_count": null,
   "id": "4480d2b6-70a3-4955-95ec-166ff1c19618",
   "metadata": {},
   "outputs": [],
   "source": [
    "hyp_copy = deepcopy(hypparams)\n",
    "mdl1 = masked_xval(features, hyp_copy, 1, n_repeats=n_repeats)\n",
    "r2_1 = list(pluck('heldout_r2_total_v3', mdl1.values()))\n",
    "ll_1 = list(pluck('heldout_ll', mdl1.values()))\n",
    "print(np.mean(r2_1))\n",
    "del mdl1"
   ]
  },
  {
   "cell_type": "code",
   "execution_count": null,
   "id": "faf58440-4b36-47a3-a9fb-386fd2db2ca5",
   "metadata": {},
   "outputs": [],
   "source": [
    "hyp_copy = deepcopy(hypparams)\n",
    "mdl0 = masked_xval(features, hyp_copy, 0, n_repeats=n_repeats)\n",
    "r2_0 = list(pluck('heldout_r2_total_v3', mdl0.values()))\n",
    "ll_0 = list(pluck('heldout_ll', mdl0.values()))\n",
    "print(np.mean(r2_0))\n",
    "del mdl0"
   ]
  },
  {
   "cell_type": "code",
   "execution_count": null,
   "id": "07fa5d8a-3712-4a56-988f-d596440d75d7",
   "metadata": {},
   "outputs": [],
   "source": [
    "hyp_copy = deepcopy(hypparams)\n",
    "hyp_copy['age_sd'] = 1e-6\n",
    "mdl0_1 = masked_xval(features, hyp_copy, 1, n_repeats=n_repeats)\n",
    "r2_0_1 = list(pluck('heldout_r2_total_v3', mdl0_1.values()))\n",
    "ll_0_1 = list(pluck('heldout_ll', mdl0_1.values()))\n",
    "print(np.mean(r2_0_1))\n",
    "del mdl0_1"
   ]
  },
  {
   "cell_type": "code",
   "execution_count": null,
   "id": "e694de9a-ffdb-42db-a079-70b341c5b70a",
   "metadata": {},
   "outputs": [],
   "source": [
    "# shuffle syllables\n",
    "np.random.seed(0)\n",
    "shuff_features = deepcopy(features)\n",
    "hyp_copy = deepcopy(hypparams)\n",
    "hyp_copy['n_opt_iter'] = 800\n",
    "\n",
    "r2_shuff = []\n",
    "ll_shuff = []\n",
    "for i in tqdm(range(n_repeats)):\n",
    "    perm = np.array([np.random.permutation(58) for _ in range(len(syllable_counts_jax))])\n",
    "    shuff = syllable_counts_jax[np.arange(len(syllable_counts_jax))[:, None], perm]\n",
    "    shuff_features['counts'] = shuff\n",
    "    try:\n",
    "        tmp = masked_xval(shuff_features, hyp_copy, model_version=5, n_repeats=1, seed=i, disable_tqdm=True, return_loss_on_error=True)\n",
    "        if len(tmp[0]) > 1:\n",
    "            r2_shuff.append(tmp[0]['heldout_r2_total_v3'])\n",
    "            ll_shuff.append(tmp[0]['heldout_ll'])\n",
    "        else:\n",
    "            print('Non-NaN iterations:', hyp_copy['n_opt_iter'] - np.isnan(tmp[0]['loss']).sum())\n",
    "        del tmp\n",
    "    except ValueError:\n",
    "        continue\n",
    "print(np.mean(r2_shuff))"
   ]
  },
  {
   "cell_type": "code",
   "execution_count": null,
   "id": "80269a55-5f1e-45c5-b42f-bec4084cd962",
   "metadata": {},
   "outputs": [],
   "source": [
    "# shuffle sexes\n",
    "np.random.seed(0)\n",
    "\n",
    "shuff_features = deepcopy(features)\n",
    "hyp_copy = deepcopy(hypparams)\n",
    "\n",
    "shuff_r2s = []\n",
    "shuff_lls = []\n",
    "for i in tqdm(range(n_repeats)):\n",
    "    shuff_features['mice'] = np.random.permutation(features['mice'].T).T\n",
    "    try:\n",
    "        shuff_results = masked_xval(shuff_features, hyp_copy, 5, n_repeats=1, seed=i, disable_tqdm=True)\n",
    "        shuff_r2s.append(shuff_results[0]['heldout_r2_total_v3'])\n",
    "        shuff_lls.append(shuff_results[0]['heldout_ll'])\n",
    "    except ValueError:\n",
    "        continue\n",
    "print(np.mean(shuff_r2s))"
   ]
  },
  {
   "cell_type": "code",
   "execution_count": null,
   "id": "4e5687da-601a-4de5-81f5-6328c6cbdcec",
   "metadata": {},
   "outputs": [],
   "source": [
    "plt_data = {\n",
    "    \"Syll. shuffle\": r2_shuff,\n",
    "    \"Sex shuffle\": shuff_r2s,\n",
    "    \"Chron. age\": r2_0_1,\n",
    "    \"Linear\": r2_0,\n",
    "    \"Beh. age\": r2_1,\n",
    "    \"Beh. age + size\": r2_2,\n",
    "    \"Beh. age + size + sex\": r2_3,\n",
    "}\n",
    "\n",
    "fig = figure(1.1, 1.3)\n",
    "ax = sns.pointplot(\n",
    "    data=plt_data,\n",
    "    palette=[\"silver\", \"silver\", \"gray\", \"gray\", \"lightgreen\", \"limegreen\", \"green\"],\n",
    "    linewidth=0.6, errorbar=('sd', 2), ms=3\n",
    ")\n",
    "ax.set(\n",
    "    xlabel=\"BAMBI model type\",\n",
    "    ylabel=\"Heldout R2\",\n",
    "    ylim=(-0.3, 0.7),\n",
    ")\n",
    "plt.xticks(rotation=90)\n",
    "sns.despine()\n",
    "saver(fig, \"ontogeny-males-females-heldout-r2-model-comparison\");"
   ]
  },
  {
   "cell_type": "code",
   "execution_count": null,
   "id": "b0c53214-b715-4fda-b49f-9f7d14053a7b",
   "metadata": {},
   "outputs": [],
   "source": [
    "plt_data = {\n",
    "    \"Beh. age\": r2_1,\n",
    "    \"Beh. age + size\": r2_2,\n",
    "    \"Beh. age + size + sex\": r2_3,\n",
    "}\n",
    "\n",
    "fig = figure(0.4, 1.3)\n",
    "ax = sns.pointplot(\n",
    "    data=plt_data,\n",
    "    palette=[\"lightgreen\", \"limegreen\", \"green\"],\n",
    "    linewidth=0.6, errorbar=('sd', 2), ms=3\n",
    ")\n",
    "ax.set(\n",
    "    xlabel=\"BAMBI model type\",\n",
    "    ylabel=\"Heldout R2\",\n",
    ")\n",
    "plt.xticks(rotation=90)\n",
    "sns.despine()\n",
    "saver(fig, \"ontogeny-males-females-heldout-r2-model-comparison-just-bambi\");"
   ]
  },
  {
   "cell_type": "markdown",
   "id": "d289be7a-951c-494b-b630-134ce93837e7",
   "metadata": {},
   "source": [
    "## Heldout LLs"
   ]
  },
  {
   "cell_type": "code",
   "execution_count": null,
   "id": "a951f516-a3fd-48bd-ae44-97adc36e63ab",
   "metadata": {},
   "outputs": [],
   "source": [
    "all_ll_plot_data = {\n",
    "    \"Syll. shuffle\": ll_shuff,\n",
    "    \"Sex shuffle\": shuff_lls,\n",
    "    \"Chron. age\": ll_0_1,\n",
    "    \"Linear\": ll_0,\n",
    "    \"Beh. age\": ll_1,\n",
    "    \"Beh. age + size\": ll_2,\n",
    "    \"Beh. age + size + sex\": ll_3,\n",
    "}"
   ]
  },
  {
   "cell_type": "code",
   "execution_count": null,
   "id": "cbf289a1-f44b-46d1-9df4-239b1936da3b",
   "metadata": {},
   "outputs": [],
   "source": [
    "plt_data = {\n",
    "    \"Syll. shuffle\": ll_shuff,\n",
    "    \"Sex shuffle\": shuff_lls,\n",
    "    \"Chron. age\": ll_0_1,\n",
    "    \"Linear\": ll_0,\n",
    "    \"Beh. age\": ll_1,\n",
    "    \"Beh. age + size\": ll_2,\n",
    "    \"Beh. age + size + sex\": ll_3,\n",
    "}\n",
    "\n",
    "fig = figure(1.1, 1.3)\n",
    "ax = sns.pointplot(\n",
    "    data=plt_data,\n",
    "    palette=[\"silver\", \"silver\", \"gray\", \"gray\", \"lightgreen\", \"limegreen\", \"green\"],\n",
    "    linewidth=0.6, errorbar=('sd', 2), ms=3\n",
    ")\n",
    "ax.set(\n",
    "    xlabel=\"BAMBI model type\",\n",
    "    ylabel=\"Heldout LL\",\n",
    ")\n",
    "plt.xticks(rotation=90)\n",
    "sns.despine()\n",
    "saver(fig, \"ontogeny-males-females-heldout-ll-model-comparison\");"
   ]
  },
  {
   "cell_type": "code",
   "execution_count": null,
   "id": "6b6df557-cfaa-4032-a290-04d9b6779acc",
   "metadata": {},
   "outputs": [],
   "source": [
    "plt_data = {\n",
    "    \"Syll. shuffle\": ll_shuff,\n",
    "    \"Sex shuffle\": shuff_lls,\n",
    "    # \"Chron. age\": ll_0_1,\n",
    "    # \"Linear\": ll_0,\n",
    "    \"Beh. age\": ll_1,\n",
    "    \"Beh. age + size\": ll_2,\n",
    "    \"Beh. age + size + sex\": ll_3,\n",
    "}\n",
    "\n",
    "fig = figure(1.1, 1.3)\n",
    "ax = sns.pointplot(\n",
    "    data=plt_data,\n",
    "    palette=[\"silver\", \"silver\", \"lightgreen\", \"limegreen\", \"green\"],\n",
    "    linewidth=0.6, errorbar=('sd', 2), ms=3\n",
    ")\n",
    "ax.set(\n",
    "    xlabel=\"BAMBI model type\",\n",
    "    ylabel=\"Heldout LL\",\n",
    ")\n",
    "plt.xticks(rotation=90)\n",
    "sns.despine()\n",
    "saver(fig, \"ontogeny-males-females-heldout-ll-model-comparison-no-simple-models\");"
   ]
  },
  {
   "cell_type": "code",
   "execution_count": null,
   "id": "d3cf8aa8-6aef-45ae-a199-2c806bdcc24a",
   "metadata": {},
   "outputs": [],
   "source": [
    "plt_data = {\n",
    "    # \"Syll. shuffle\": ll_shuff,\n",
    "    # \"Sex shuffle\": shuff_lls,\n",
    "    # \"Chron. age\": ll_0_1,\n",
    "    # \"Linear\": ll_0,\n",
    "    \"Beh. age\": ll_1,\n",
    "    \"Beh. age + size\": ll_2,\n",
    "    \"Beh. age + size + sex\": ll_3,\n",
    "}\n",
    "\n",
    "fig = figure(1.1, 1.3)\n",
    "ax = sns.pointplot(\n",
    "    data=plt_data,\n",
    "    # palette=[\"silver\", \"silver\", \"gray\", \"gray\", \"lightgreen\", \"limegreen\", \"green\"],\n",
    "    palette=[\"lightgreen\", \"limegreen\", \"green\"],\n",
    "    order=list(all_ll_plot_data),\n",
    "    linewidth=0.6, errorbar=('sd', 2), ms=3\n",
    ")\n",
    "ax.set(\n",
    "    xlabel=\"BAMBI model type\",\n",
    "    ylabel=\"Heldout LL\",\n",
    ")\n",
    "plt.xticks(rotation=90)\n",
    "sns.despine()\n",
    "# saver(fig, \"ontogeny-males-females-heldout-ll-model-comparison-bambi-only\");"
   ]
  },
  {
   "cell_type": "markdown",
   "id": "d6165925-53f0-4ca5-9d7c-0d3caf16cdd3",
   "metadata": {},
   "source": [
    "## Test broken axis plot"
   ]
  },
  {
   "cell_type": "code",
   "execution_count": null,
   "id": "89458ac8-2770-4a34-a9ed-bf43748b98af",
   "metadata": {},
   "outputs": [],
   "source": [
    "def create_broken_axis_plot(y_values, colors, order, figsize=(2, 2)):\n",
    "    \"\"\"\n",
    "    Create a broken axis plot with 3 subplots. Made with Claude 3.5's help.\n",
    "\n",
    "    Parameters:\n",
    "    x_values (list): List of 3 numpy arrays, each containing x values for a subplot.\n",
    "    y_values (list): List of 3 numpy arrays, each containing y values for a subplot.\n",
    "    y_limits (list): List of 3 tuples, each containing (ymin, ymax) for a subplot.\n",
    "    figsize (tuple): Figure size (width, height) in inches.\n",
    "    title (str): Title of the plot.\n",
    "    \"\"\"\n",
    "\n",
    "    # Create the figure and axes\n",
    "    fig, (ax1, ax2, ax3) = plt.subplots(3, 1, sharex=True, figsize=figsize)\n",
    "    fig.subplots_adjust(hspace=0.09)  # Adjust space between axes\n",
    "\n",
    "    # Plot the data\n",
    "    axes = [ax1, ax2, ax3]\n",
    "    for ax, y, palette in zip(axes, y_values, colors):\n",
    "        sns.pointplot(\n",
    "            data=y,\n",
    "            palette=palette,\n",
    "            order=list(all_ll_plot_data),\n",
    "            linewidth=0.6, errorbar=('sd', 2), ms=3,\n",
    "            ax=ax\n",
    "        )\n",
    "        sns.despine(ax=ax, top=True)\n",
    "        # ax.set_ylim(ymin, ymax)\n",
    "\n",
    "    # Hide the spines between axes\n",
    "    for ax in axes[:-1]:\n",
    "        ax.spines['bottom'].set_visible(False)\n",
    "        ax.tick_params(labeltop=False)\n",
    "    axes[-1].xaxis.tick_bottom()\n",
    "\n",
    "    # Add diagonal lines to indicate the breaks\n",
    "    d = .015  # Size of diagonal lines\n",
    "    for ax in axes:\n",
    "        kwargs = dict(transform=ax.transAxes, color='k', clip_on=False)\n",
    "        ax.plot((-d, +d), (-d, +d), **kwargs)\n",
    "        # ax.plot((1 - d, 1 + d), (-d, +d), **kwargs)\n",
    "        ax.plot((-d, +d), (1 - d, 1 + d), **kwargs)\n",
    "        # ax.plot((1 - d, 1 + d), (1 - d, 1 + d), **kwargs)\n",
    "\n",
    "    # Add labels and title\n",
    "    for ax in axes:\n",
    "        ax.set_ylabel('Heldout LL')\n",
    "    axes[-1].tick_params(axis='x', rotation=90)\n",
    "    return fig"
   ]
  },
  {
   "cell_type": "code",
   "execution_count": null,
   "id": "403c0277-7e5d-4e20-8c1a-1b4659c0be4d",
   "metadata": {},
   "outputs": [],
   "source": [
    "data_list = [\n",
    "    {\n",
    "        \"Sex shuffle\": shuff_lls,\n",
    "        \"Beh. age\": ll_1,\n",
    "        \"Beh. age + size\": ll_2,\n",
    "        \"Beh. age + size + sex\": ll_3,\n",
    "    },\n",
    "    {\n",
    "        \"Syll. shuffle\": ll_shuff,\n",
    "    },\n",
    "    {\n",
    "        \"Chron. age\": ll_0_1,\n",
    "        \"Linear\": ll_0,\n",
    "    },\n",
    "]\n",
    "fig = create_broken_axis_plot(\n",
    "    data_list,\n",
    "    colors=[[\"silver\", \"lightgreen\", \"limegreen\", \"green\"], [\"silver\"], [\"gray\", \"gray\"]],\n",
    "    order=list(all_ll_plot_data),\n",
    "    figsize=(1.2, 1.75)\n",
    ")\n",
    "saver(fig, \"heldout-ll-broken-axis-plot\");"
   ]
  },
  {
   "cell_type": "code",
   "execution_count": null,
   "id": "45bb74d2-0f64-4dcc-ae3e-27cf8a04c0a3",
   "metadata": {},
   "outputs": [],
   "source": []
  }
 ],
 "metadata": {
  "kernelspec": {
   "display_name": "Aging (GPU OG)",
   "language": "python",
   "name": "aging-gpu"
  },
  "language_info": {
   "codemirror_mode": {
    "name": "ipython",
    "version": 3
   },
   "file_extension": ".py",
   "mimetype": "text/x-python",
   "name": "python",
   "nbconvert_exporter": "python",
   "pygments_lexer": "ipython3",
   "version": "3.10.13"
  },
  "widgets": {
   "application/vnd.jupyter.widget-state+json": {
    "state": {},
    "version_major": 2,
    "version_minor": 0
   }
  }
 },
 "nbformat": 4,
 "nbformat_minor": 5
}
