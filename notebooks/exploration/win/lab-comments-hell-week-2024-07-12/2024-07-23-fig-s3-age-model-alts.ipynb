{
 "cells": [
  {
   "cell_type": "markdown",
   "id": "a2f1d197-714c-4b26-9d9c-ea4d422df307",
   "metadata": {},
   "source": [
    "# Figure panels comparing MAE and R2 for multiple models\n",
    "\n",
    "Model options for comparison:\n",
    "- PLS (i.e., main figure)\n",
    "- ElasticNet\n",
    "- GradientBoosting\n",
    "- KNN\n",
    "\n",
    "Cross-validation:\n",
    "- leave-one-out"
   ]
  },
  {
   "cell_type": "code",
   "execution_count": 1,
   "id": "787c61da-bc12-4629-a094-e757fa238617",
   "metadata": {},
   "outputs": [],
   "source": [
    "import numpy as np\n",
    "import pandas as pd\n",
    "import colorcet as cc\n",
    "import seaborn as sns\n",
    "import matplotlib.pyplot as plt\n",
    "from tqdm.auto import tqdm\n",
    "from sklearn.metrics import median_absolute_error, r2_score\n",
    "from aging.behavior.age_models import MODEL_OPTIONS, generate_pipeline\n",
    "from sklearn.model_selection import KFold, cross_val_predict, cross_validate\n",
    "from aging.plotting import format_plots, figure, save_factory, PLOT_CONFIG, COLORMAPS"
   ]
  },
  {
   "cell_type": "code",
   "execution_count": 2,
   "id": "cf6459e5-6d54-4db7-87e4-13055d2b7c30",
   "metadata": {},
   "outputs": [],
   "source": [
    "format_plots()\n",
    "saver = save_factory(PLOT_CONFIG.save_path / \"fig-s3-models\", tight_layout=False)"
   ]
  },
  {
   "cell_type": "code",
   "execution_count": 3,
   "id": "542df1c9-754d-46fa-825a-20d21b86d2c1",
   "metadata": {},
   "outputs": [],
   "source": [
    "keep_syllables = np.loadtxt(\n",
    "    \"/n/groups/datta/win/longtogeny/data/ontogeny/version_11/to_keep_syllables_raw.txt\",\n",
    "    dtype=int,\n",
    ")\n",
    "\n",
    "def read_male_ontogeny(use_syllables):\n",
    "    df = pd.read_parquet(\n",
    "        \"/n/groups/datta/win/longtogeny/data/ontogeny/version_11-1/ontogeny_males_raw_usage_matrix_v00.parquet\"\n",
    "    )\n",
    "    df = df[use_syllables]\n",
    "    df = df.query('age < 100')\n",
    "    return df\n",
    "\n",
    "\n",
    "def read_female_ontogeny(use_syllables):\n",
    "    df = pd.read_parquet(\n",
    "        \"/n/groups/datta/win/longtogeny/data/ontogeny/version_11-1/ontogeny_females_raw_usage_matrix_v00.parquet\"\n",
    "    )\n",
    "    df = df[use_syllables]\n",
    "    df = df.query('age < 100')\n",
    "\n",
    "    # re-assign 52-wk old animals from their incorrect 8-wk old assignment\n",
    "    x = ['d6f254af-d55a-427a-96e0-c452a233cbe2', '242bee8e-0ee7-45e7-8a13-678836a4cddb']\n",
    "\n",
    "    idx = df.index.names\n",
    "    tmp_df = df.reset_index()\n",
    "    mask = tmp_df['uuid'].isin(x)\n",
    "    tmp_df.loc[mask, 'age'] = 52\n",
    "    df = tmp_df.set_index(idx)\n",
    "\n",
    "    age_mapping = {\n",
    "        93: 94,\n",
    "        95: 94,\n",
    "        97: 98,\n",
    "        98: 98,\n",
    "        102: 98,\n",
    "        103: 105,\n",
    "        105: 105,\n",
    "        107: 105\n",
    "    }\n",
    "\n",
    "    df = df.reset_index(level='age')\n",
    "    df['age'] = df['age'].map(age_mapping).fillna(df['age'])\n",
    "\n",
    "    return df.set_index('age', append=True).reorder_levels(idx)\n",
    "\n",
    "\n",
    "def fit_seq(mdl, X, y, mdl_type, sex, use_log):\n",
    "    mae = median_absolute_error(y, y_pred)\n",
    "\n",
    "    return mae, np.mean(r2s)"
   ]
  },
  {
   "cell_type": "code",
   "execution_count": 4,
   "id": "33d9c1fe-830d-4c18-beda-08df3de13cdc",
   "metadata": {},
   "outputs": [],
   "source": [
    "def fit_model(pipeline, X, y, n_repeats=3):\n",
    "\n",
    "    r2s = []\n",
    "    maes = []\n",
    "    for i in tqdm(range(n_repeats)):\n",
    "        y_pred = cross_val_predict(\n",
    "            pipeline,\n",
    "            X,\n",
    "            y,\n",
    "            cv=KFold(15, shuffle=True, random_state=i),\n",
    "            n_jobs=-1,\n",
    "        )\n",
    "        r2s.append(\n",
    "            r2_score(\n",
    "                y,\n",
    "                y_pred,\n",
    "            )\n",
    "        )\n",
    "        maes.append(median_absolute_error(y, y_pred))\n",
    "\n",
    "    return r2s, maes\n",
    "\n",
    "\n",
    "def fit_model2(pipeline, X, y, n_repeats=3, display=True):\n",
    "    r2s = []\n",
    "    maes = []\n",
    "    for i in tqdm(range(n_repeats), display=display):\n",
    "        cv = cross_validate(\n",
    "            pipeline,\n",
    "            X,\n",
    "            y,\n",
    "            scoring=[\"r2\", \"neg_median_absolute_error\"],\n",
    "            n_jobs=-1,\n",
    "            cv=KFold(5, shuffle=True, random_state=i),\n",
    "        )\n",
    "        r2s.extend(cv[\"test_r2\"])\n",
    "        maes.extend(-cv[\"test_neg_median_absolute_error\"])\n",
    "\n",
    "    return r2s, maes"
   ]
  },
  {
   "cell_type": "code",
   "execution_count": 5,
   "id": "7ef1f02a-8e6b-4489-9ab6-8015442fdb2b",
   "metadata": {},
   "outputs": [],
   "source": [
    "male_df = read_male_ontogeny(keep_syllables) + 1e-4\n",
    "female_df = read_female_ontogeny(keep_syllables) + 1e-4\n",
    "male_age = male_df.index.get_level_values('age')\n",
    "female_age = female_df.index.get_level_values('age')"
   ]
  },
  {
   "cell_type": "code",
   "execution_count": 6,
   "id": "6cb7ffa0-8e6b-4c82-975d-9e1c6c027f8d",
   "metadata": {},
   "outputs": [],
   "source": [
    "opts1 = pd.read_parquet('/n/scratch/users/w/wg41/2024-07-22-age-prediction-model-optimization.parquet')\n",
    "opts2 = pd.read_parquet('/n/scratch/users/w/wg41/2024-07-22-age-prediction-model-optimization-2.parquet')"
   ]
  },
  {
   "cell_type": "code",
   "execution_count": 7,
   "id": "e815dd11-ed4a-466f-9769-0c1c48286963",
   "metadata": {},
   "outputs": [
    {
     "data": {
      "text/html": [
       "<div>\n",
       "<style scoped>\n",
       "    .dataframe tbody tr th:only-of-type {\n",
       "        vertical-align: middle;\n",
       "    }\n",
       "\n",
       "    .dataframe tbody tr th {\n",
       "        vertical-align: top;\n",
       "    }\n",
       "\n",
       "    .dataframe thead th {\n",
       "        text-align: right;\n",
       "    }\n",
       "</style>\n",
       "<table border=\"1\" class=\"dataframe\">\n",
       "  <thead>\n",
       "    <tr style=\"text-align: right;\">\n",
       "      <th></th>\n",
       "      <th>model</th>\n",
       "      <th>mae</th>\n",
       "      <th>r2</th>\n",
       "      <th>sex</th>\n",
       "      <th>log_xform</th>\n",
       "      <th>poly_xform</th>\n",
       "      <th>max_depth</th>\n",
       "      <th>n_estimators</th>\n",
       "      <th>metric</th>\n",
       "      <th>n_neighbors</th>\n",
       "      <th>weights</th>\n",
       "      <th>n_components</th>\n",
       "      <th>activation</th>\n",
       "      <th>hidden_layer_sizes</th>\n",
       "      <th>max_fun</th>\n",
       "      <th>max_iter</th>\n",
       "      <th>solver</th>\n",
       "    </tr>\n",
       "  </thead>\n",
       "  <tbody>\n",
       "    <tr>\n",
       "      <th>105</th>\n",
       "      <td>gb</td>\n",
       "      <td>7.545455</td>\n",
       "      <td>0.660281</td>\n",
       "      <td>m</td>\n",
       "      <td>True</td>\n",
       "      <td>False</td>\n",
       "      <td>6.0</td>\n",
       "      <td>500.0</td>\n",
       "      <td>None</td>\n",
       "      <td>NaN</td>\n",
       "      <td>None</td>\n",
       "      <td>NaN</td>\n",
       "      <td>None</td>\n",
       "      <td>None</td>\n",
       "      <td>NaN</td>\n",
       "      <td>NaN</td>\n",
       "      <td>None</td>\n",
       "    </tr>\n",
       "    <tr>\n",
       "      <th>128</th>\n",
       "      <td>knn</td>\n",
       "      <td>7.877015</td>\n",
       "      <td>0.700292</td>\n",
       "      <td>m</td>\n",
       "      <td>True</td>\n",
       "      <td>False</td>\n",
       "      <td>NaN</td>\n",
       "      <td>NaN</td>\n",
       "      <td>cosine</td>\n",
       "      <td>19.0</td>\n",
       "      <td>distance</td>\n",
       "      <td>NaN</td>\n",
       "      <td>None</td>\n",
       "      <td>None</td>\n",
       "      <td>NaN</td>\n",
       "      <td>NaN</td>\n",
       "      <td>None</td>\n",
       "    </tr>\n",
       "    <tr>\n",
       "      <th>28</th>\n",
       "      <td>mlp</td>\n",
       "      <td>8.039476</td>\n",
       "      <td>0.658907</td>\n",
       "      <td>m</td>\n",
       "      <td>False</td>\n",
       "      <td>False</td>\n",
       "      <td>NaN</td>\n",
       "      <td>NaN</td>\n",
       "      <td>None</td>\n",
       "      <td>NaN</td>\n",
       "      <td>None</td>\n",
       "      <td>NaN</td>\n",
       "      <td>tanh</td>\n",
       "      <td>[200]</td>\n",
       "      <td>100000.0</td>\n",
       "      <td>10000.0</td>\n",
       "      <td>lbfgs</td>\n",
       "    </tr>\n",
       "    <tr>\n",
       "      <th>36</th>\n",
       "      <td>pls</td>\n",
       "      <td>8.419126</td>\n",
       "      <td>0.707785</td>\n",
       "      <td>m</td>\n",
       "      <td>True</td>\n",
       "      <td>False</td>\n",
       "      <td>NaN</td>\n",
       "      <td>NaN</td>\n",
       "      <td>None</td>\n",
       "      <td>NaN</td>\n",
       "      <td>None</td>\n",
       "      <td>6.0</td>\n",
       "      <td>None</td>\n",
       "      <td>None</td>\n",
       "      <td>NaN</td>\n",
       "      <td>NaN</td>\n",
       "      <td>None</td>\n",
       "    </tr>\n",
       "  </tbody>\n",
       "</table>\n",
       "</div>"
      ],
      "text/plain": [
       "    model       mae        r2 sex  log_xform  poly_xform  max_depth  \\\n",
       "105    gb  7.545455  0.660281   m       True       False        6.0   \n",
       "128   knn  7.877015  0.700292   m       True       False        NaN   \n",
       "28    mlp  8.039476  0.658907   m      False       False        NaN   \n",
       "36    pls  8.419126  0.707785   m       True       False        NaN   \n",
       "\n",
       "     n_estimators  metric  n_neighbors   weights  n_components activation  \\\n",
       "105         500.0    None          NaN      None           NaN       None   \n",
       "128           NaN  cosine         19.0  distance           NaN       None   \n",
       "28            NaN    None          NaN      None           NaN       tanh   \n",
       "36            NaN    None          NaN      None           6.0       None   \n",
       "\n",
       "    hidden_layer_sizes   max_fun  max_iter solver  \n",
       "105               None       NaN       NaN   None  \n",
       "128               None       NaN       NaN   None  \n",
       "28               [200]  100000.0   10000.0  lbfgs  \n",
       "36                None       NaN       NaN   None  "
      ]
     },
     "execution_count": 7,
     "metadata": {},
     "output_type": "execute_result"
    }
   ],
   "source": [
    "opts1.loc[opts1.groupby('model')['mae'].idxmin().values]"
   ]
  },
  {
   "cell_type": "code",
   "execution_count": 8,
   "id": "81d383a8-9f84-4d13-bbbd-d1b25bab9177",
   "metadata": {},
   "outputs": [
    {
     "data": {
      "text/html": [
       "<div>\n",
       "<style scoped>\n",
       "    .dataframe tbody tr th:only-of-type {\n",
       "        vertical-align: middle;\n",
       "    }\n",
       "\n",
       "    .dataframe tbody tr th {\n",
       "        vertical-align: top;\n",
       "    }\n",
       "\n",
       "    .dataframe thead th {\n",
       "        text-align: right;\n",
       "    }\n",
       "</style>\n",
       "<table border=\"1\" class=\"dataframe\">\n",
       "  <thead>\n",
       "    <tr style=\"text-align: right;\">\n",
       "      <th></th>\n",
       "      <th>model</th>\n",
       "      <th>mae</th>\n",
       "      <th>r2</th>\n",
       "      <th>sex</th>\n",
       "      <th>log_xform</th>\n",
       "      <th>poly_xform</th>\n",
       "      <th>alpha</th>\n",
       "      <th>l1_ratio</th>\n",
       "      <th>max_iter</th>\n",
       "      <th>C</th>\n",
       "      <th>kernel</th>\n",
       "    </tr>\n",
       "  </thead>\n",
       "  <tbody>\n",
       "    <tr>\n",
       "      <th>159</th>\n",
       "      <td>elastic</td>\n",
       "      <td>8.082457</td>\n",
       "      <td>0.717971</td>\n",
       "      <td>m</td>\n",
       "      <td>True</td>\n",
       "      <td>False</td>\n",
       "      <td>0.464159</td>\n",
       "      <td>0.55</td>\n",
       "      <td>5000.0</td>\n",
       "      <td>NaN</td>\n",
       "      <td>None</td>\n",
       "    </tr>\n",
       "    <tr>\n",
       "      <th>248</th>\n",
       "      <td>svm</td>\n",
       "      <td>7.705408</td>\n",
       "      <td>0.737166</td>\n",
       "      <td>m</td>\n",
       "      <td>True</td>\n",
       "      <td>False</td>\n",
       "      <td>NaN</td>\n",
       "      <td>NaN</td>\n",
       "      <td>NaN</td>\n",
       "      <td>25.118864</td>\n",
       "      <td>rbf</td>\n",
       "    </tr>\n",
       "  </tbody>\n",
       "</table>\n",
       "</div>"
      ],
      "text/plain": [
       "       model       mae        r2 sex  log_xform  poly_xform     alpha  \\\n",
       "159  elastic  8.082457  0.717971   m       True       False  0.464159   \n",
       "248      svm  7.705408  0.737166   m       True       False       NaN   \n",
       "\n",
       "     l1_ratio  max_iter          C kernel  \n",
       "159      0.55    5000.0        NaN   None  \n",
       "248       NaN       NaN  25.118864    rbf  "
      ]
     },
     "execution_count": 8,
     "metadata": {},
     "output_type": "execute_result"
    }
   ],
   "source": [
    "opts2.loc[opts2.groupby('model')['mae'].idxmin().values]"
   ]
  },
  {
   "cell_type": "markdown",
   "id": "bf784993-5a3f-478d-b3c7-b157c1da6bef",
   "metadata": {},
   "source": [
    "## Fit models"
   ]
  },
  {
   "cell_type": "code",
   "execution_count": 9,
   "id": "e107bdbd-c4c0-486a-9688-9a7aa23e836c",
   "metadata": {},
   "outputs": [],
   "source": [
    "models = {\n",
    "    'pls': MODEL_OPTIONS['pls'](n_components=6),\n",
    "    'gb': MODEL_OPTIONS['gb'](max_depth=6, n_estimators=300),\n",
    "    'knn': MODEL_OPTIONS['knn'](metric='cosine', n_neighbors=20, weights='distance'),\n",
    "    'elastic': MODEL_OPTIONS['elastic'](alpha=0.45, l1_ratio=0.55, max_iter=5_000),\n",
    "}"
   ]
  },
  {
   "cell_type": "code",
   "execution_count": 10,
   "id": "17decdf3-157e-4c8b-8dea-9b1ecee5f85e",
   "metadata": {},
   "outputs": [
    {
     "data": {
      "application/vnd.jupyter.widget-view+json": {
       "model_id": "b89f7bff64884c399bb7f6f109576366",
       "version_major": 2,
       "version_minor": 0
      },
      "text/plain": [
       "  0%|          | 0/4 [00:00<?, ?it/s]"
      ]
     },
     "metadata": {},
     "output_type": "display_data"
    },
    {
     "data": {
      "application/vnd.jupyter.widget-view+json": {
       "model_id": "a9d925dfbb3a4bf9a3584f8f7455327d",
       "version_major": 2,
       "version_minor": 0
      },
      "text/plain": [
       "  0%|          | 0/25 [00:00<?, ?it/s]"
      ]
     },
     "metadata": {},
     "output_type": "display_data"
    },
    {
     "data": {
      "application/vnd.jupyter.widget-view+json": {
       "model_id": "cfe1bc28ec7d4a45a157e272911942e2",
       "version_major": 2,
       "version_minor": 0
      },
      "text/plain": [
       "  0%|          | 0/25 [00:00<?, ?it/s]"
      ]
     },
     "metadata": {},
     "output_type": "display_data"
    },
    {
     "data": {
      "application/vnd.jupyter.widget-view+json": {
       "model_id": "1eece9ab91b94543886a6b45e5a8fa88",
       "version_major": 2,
       "version_minor": 0
      },
      "text/plain": [
       "  0%|          | 0/25 [00:00<?, ?it/s]"
      ]
     },
     "metadata": {},
     "output_type": "display_data"
    },
    {
     "data": {
      "application/vnd.jupyter.widget-view+json": {
       "model_id": "3496be1350f844bda00ce6fe8db1eaa7",
       "version_major": 2,
       "version_minor": 0
      },
      "text/plain": [
       "  0%|          | 0/25 [00:00<?, ?it/s]"
      ]
     },
     "metadata": {},
     "output_type": "display_data"
    },
    {
     "data": {
      "application/vnd.jupyter.widget-view+json": {
       "model_id": "277a55c3e5464e558410c9e861fd8c4f",
       "version_major": 2,
       "version_minor": 0
      },
      "text/plain": [
       "  0%|          | 0/25 [00:00<?, ?it/s]"
      ]
     },
     "metadata": {},
     "output_type": "display_data"
    },
    {
     "data": {
      "application/vnd.jupyter.widget-view+json": {
       "model_id": "bed0f5a63b5f42509c4779a51a5064d4",
       "version_major": 2,
       "version_minor": 0
      },
      "text/plain": [
       "  0%|          | 0/25 [00:00<?, ?it/s]"
      ]
     },
     "metadata": {},
     "output_type": "display_data"
    },
    {
     "data": {
      "application/vnd.jupyter.widget-view+json": {
       "model_id": "47464b4587804fc59dbcf802e63baa3b",
       "version_major": 2,
       "version_minor": 0
      },
      "text/plain": [
       "  0%|          | 0/25 [00:00<?, ?it/s]"
      ]
     },
     "metadata": {},
     "output_type": "display_data"
    },
    {
     "data": {
      "application/vnd.jupyter.widget-view+json": {
       "model_id": "5bcfbf6d290546eeb8b661f51d5db406",
       "version_major": 2,
       "version_minor": 0
      },
      "text/plain": [
       "  0%|          | 0/25 [00:00<?, ?it/s]"
      ]
     },
     "metadata": {},
     "output_type": "display_data"
    },
    {
     "data": {
      "application/vnd.jupyter.widget-view+json": {
       "model_id": "3d87238328b0424da2275d863dba7ec9",
       "version_major": 2,
       "version_minor": 0
      },
      "text/plain": [
       "  0%|          | 0/4 [00:00<?, ?it/s]"
      ]
     },
     "metadata": {},
     "output_type": "display_data"
    },
    {
     "data": {
      "application/vnd.jupyter.widget-view+json": {
       "model_id": "0fcd4a3cb1bb49e5bbdf632e66348809",
       "version_major": 2,
       "version_minor": 0
      },
      "text/plain": [
       "  0%|          | 0/25 [00:00<?, ?it/s]"
      ]
     },
     "metadata": {},
     "output_type": "display_data"
    },
    {
     "data": {
      "application/vnd.jupyter.widget-view+json": {
       "model_id": "a378c094a110427f85c8d0b9a359cf04",
       "version_major": 2,
       "version_minor": 0
      },
      "text/plain": [
       "  0%|          | 0/25 [00:00<?, ?it/s]"
      ]
     },
     "metadata": {},
     "output_type": "display_data"
    },
    {
     "data": {
      "application/vnd.jupyter.widget-view+json": {
       "model_id": "67e165e4587d4ccd928320c691c31b29",
       "version_major": 2,
       "version_minor": 0
      },
      "text/plain": [
       "  0%|          | 0/25 [00:00<?, ?it/s]"
      ]
     },
     "metadata": {},
     "output_type": "display_data"
    },
    {
     "data": {
      "application/vnd.jupyter.widget-view+json": {
       "model_id": "4d5485d2d8754d55b54cbcf9ff0f29e4",
       "version_major": 2,
       "version_minor": 0
      },
      "text/plain": [
       "  0%|          | 0/25 [00:00<?, ?it/s]"
      ]
     },
     "metadata": {},
     "output_type": "display_data"
    },
    {
     "data": {
      "application/vnd.jupyter.widget-view+json": {
       "model_id": "c91a3f7d3f184eaa9717616f0f552a6f",
       "version_major": 2,
       "version_minor": 0
      },
      "text/plain": [
       "  0%|          | 0/25 [00:00<?, ?it/s]"
      ]
     },
     "metadata": {},
     "output_type": "display_data"
    },
    {
     "data": {
      "application/vnd.jupyter.widget-view+json": {
       "model_id": "904691e95fa24de5a705f456cc9e7232",
       "version_major": 2,
       "version_minor": 0
      },
      "text/plain": [
       "  0%|          | 0/25 [00:00<?, ?it/s]"
      ]
     },
     "metadata": {},
     "output_type": "display_data"
    },
    {
     "data": {
      "application/vnd.jupyter.widget-view+json": {
       "model_id": "2a7605e7d5e94b7ea504e51700324dd7",
       "version_major": 2,
       "version_minor": 0
      },
      "text/plain": [
       "  0%|          | 0/25 [00:00<?, ?it/s]"
      ]
     },
     "metadata": {},
     "output_type": "display_data"
    },
    {
     "data": {
      "application/vnd.jupyter.widget-view+json": {
       "model_id": "29dccb322b6a4498ba87c391f5327dab",
       "version_major": 2,
       "version_minor": 0
      },
      "text/plain": [
       "  0%|          | 0/25 [00:00<?, ?it/s]"
      ]
     },
     "metadata": {},
     "output_type": "display_data"
    }
   ],
   "source": [
    "# outputs = []\n",
    "outputs2 = []\n",
    "for model_name, mdl in tqdm(models.items()):\n",
    "    for sex in (\"m\", \"f\"):\n",
    "        X = male_df if sex == \"m\" else female_df\n",
    "        y = male_age if sex == \"m\" else female_age\n",
    "        pipeline = generate_pipeline(mdl, use_poly=False, use_log=True)\n",
    "        # r2s, maes = fit_model(pipeline, X, y, n_repeats=2)\n",
    "        r2s2, maes2 = fit_model2(pipeline, X, y, n_repeats=25)\n",
    "        # outputs.append(\n",
    "        #     pd.DataFrame(\n",
    "        #         dict(r2=r2s, mae=maes, model=model_name, sex=sex, type=\"observed\")\n",
    "        #     )\n",
    "        # )\n",
    "        outputs2.append(\n",
    "            pd.DataFrame(\n",
    "                dict(r2=r2s2, mae=maes2, model=model_name, sex=sex, type=\"observed\")\n",
    "            )\n",
    "        )\n",
    "\n",
    "# run shuffles\n",
    "n_shuff = 25\n",
    "np.random.seed(23)\n",
    "# _outputs = []\n",
    "_outputs2 = []\n",
    "for model_name, mdl in tqdm(models.items()):\n",
    "    for sex in (\"m\", \"f\"):\n",
    "        X = male_df if sex == \"m\" else female_df\n",
    "        y = male_age if sex == \"m\" else female_age\n",
    "        pipeline = generate_pipeline(mdl, use_poly=False, use_log=True)\n",
    "        for shuff in tqdm(range(n_shuff)):\n",
    "            y = np.random.permutation(y)\n",
    "            # r2s, maes = fit_model(pipeline, X, y, n_repeats=1, display=False)\n",
    "            r2s2, maes2 = fit_model2(pipeline, X, y, n_repeats=1, display=False)\n",
    "            # _outputs.append(\n",
    "            #     dict(r2=r2s[0], mae=maes[0], model=model_name, sex=sex, type=\"shuffle\")\n",
    "            # )\n",
    "            _outputs2.append(\n",
    "                dict(r2=r2s2[0], mae=maes2[0], model=model_name, sex=sex, type=\"shuffle\")\n",
    "            )\n",
    "# outputs = pd.concat(outputs + [pd.DataFrame(_outputs)])\n",
    "outputs2 = pd.concat(outputs2 + [pd.DataFrame(_outputs2)])"
   ]
  },
  {
   "cell_type": "code",
   "execution_count": 24,
   "id": "c889727b-59ca-4cba-a9f4-142937869b80",
   "metadata": {},
   "outputs": [
    {
     "name": "stderr",
     "output_type": "stream",
     "text": [
      "/tmp/ipykernel_2789/1822133185.py:25: UserWarning: set_ticklabels() should only be used with a fixed number of ticks, i.e. after set_ticks() or using a FixedLocator.\n",
      "  a.set(xticklabels=[\"E-net\", \"PLS\", \"Grad. boost\", \"K-NN\"], xlabel=\"Model type\")\n",
      "/tmp/ipykernel_2789/1822133185.py:25: UserWarning: set_ticklabels() should only be used with a fixed number of ticks, i.e. after set_ticks() or using a FixedLocator.\n",
      "  a.set(xticklabels=[\"E-net\", \"PLS\", \"Grad. boost\", \"K-NN\"], xlabel=\"Model type\")\n",
      "webf NOT subset; don't know how to subset; dropped\n"
     ]
    },
    {
     "data": {
      "image/png": "[encoded data removed]",
      "text/plain": [
       "<Figure size 523.125x260 with 2 Axes>"
      ]
     },
     "metadata": {
      "image/png": {
       "height": 336,
       "width": 534
      }
     },
     "output_type": "display_data"
    }
   ],
   "source": [
    "fgrid = sns.FacetGrid(\n",
    "    data=outputs2.query('type == \"observed\"'),\n",
    "    col=\"sex\",\n",
    "    height=1.3,\n",
    "    aspect=0.8,\n",
    "    hue=\"model\",\n",
    "    palette=cc.glasbey[:4],\n",
    "    sharey=False,\n",
    ")\n",
    "fgrid.map(\n",
    "    # sns.stripplot,\n",
    "    sns.boxplot,\n",
    "    \"model\",\n",
    "    \"mae\",\n",
    "    order=[\"elastic\", \"pls\", \"gb\", \"knn\"],\n",
    "    showfliers=False,\n",
    "    showcaps=False,\n",
    "    # s=3,\n",
    "    # linewidth=0,\n",
    "    # jitter=0.2\n",
    ")\n",
    "for i, a in enumerate(fgrid.axes.flat):\n",
    "    if i == 0:\n",
    "        a.set(ylabel=\"Held-out MAE (weeks)\")\n",
    "    a.set(xticklabels=[\"E-net\", \"PLS\", \"Grad. boost\", \"K-NN\"], xlabel=\"Model type\")\n",
    "    a.tick_params(axis='x', rotation=90)\n",
    "fgrid.add_legend()\n",
    "saver(fgrid.fig, \"age-mae-across-models\");"
   ]
  },
  {
   "cell_type": "code",
   "execution_count": null,
   "id": "2fa8018b-e00e-409d-b871-0b0af0a1a7c4",
   "metadata": {},
   "outputs": [
    {
     "name": "stderr",
     "output_type": "stream",
     "text": [
      "/tmp/ipykernel_2789/879220891.py:26: UserWarning: set_ticklabels() should only be used with a fixed number of ticks, i.e. after set_ticks() or using a FixedLocator.\n",
      "  a.set(xticklabels=[\"E-net\", \"PLS\", \"Grad. boost\", \"K-NN\"], xlabel=\"Model type\")\n",
      "/tmp/ipykernel_2789/879220891.py:26: UserWarning: set_ticklabels() should only be used with a fixed number of ticks, i.e. after set_ticks() or using a FixedLocator.\n",
      "  a.set(xticklabels=[\"E-net\", \"PLS\", \"Grad. boost\", \"K-NN\"], xlabel=\"Model type\")\n"
     ]
    }
   ],
   "source": [
    "fgrid = sns.FacetGrid(\n",
    "    data=outputs2,\n",
    "    col=\"sex\",\n",
    "    height=1.3,\n",
    "    aspect=0.8,\n",
    "    hue=\"type\",\n",
    "    hue_order=['shuffle', \"observed\"],\n",
    "    palette=['#ddd', \"#777\"],\n",
    "    sharey=False,\n",
    ")\n",
    "fgrid.map(\n",
    "    # sns.stripplot,\n",
    "    sns.boxplot,\n",
    "    \"model\",\n",
    "    \"r2\",\n",
    "    order=[\"elastic\", \"pls\", \"gb\", \"knn\"],\n",
    "    showfliers=False,\n",
    "    showcaps=False,\n",
    "    # s=2.5,\n",
    "    # linewidth=0,\n",
    "    # jitter=0.2\n",
    ")\n",
    "for i, a in enumerate(fgrid.axes.flat):\n",
    "    if i == 0:\n",
    "        a.set(ylabel=\"Held-out R2\")\n",
    "    a.set(xticklabels=[\"E-net\", \"PLS\", \"Grad. boost\", \"K-NN\"], xlabel=\"Model type\")\n",
    "    a.tick_params(axis='x', rotation=90)\n",
    "fgrid.add_legend()\n",
    "saver(fgrid.fig, \"age-r2-across-models\");"
   ]
  },
  {
   "cell_type": "code",
   "execution_count": null,
   "id": "5d97de19-7a81-4219-b912-b32e9de11e4c",
   "metadata": {},
   "outputs": [],
   "source": []
  }
 ],
 "metadata": {
  "kernelspec": {
   "display_name": "Ontogeny",
   "language": "python",
   "name": "aging"
  },
  "language_info": {
   "codemirror_mode": {
    "name": "ipython",
    "version": 3
   },
   "file_extension": ".py",
   "mimetype": "text/x-python",
   "name": "python",
   "nbconvert_exporter": "python",
   "pygments_lexer": "ipython3",
   "version": "3.10.10"
  },
  "widgets": {
   "application/vnd.jupyter.widget-state+json": {
    "state": {},
    "version_major": 2,
    "version_minor": 0
   }
  }
 },
 "nbformat": 4,
 "nbformat_minor": 5
}
