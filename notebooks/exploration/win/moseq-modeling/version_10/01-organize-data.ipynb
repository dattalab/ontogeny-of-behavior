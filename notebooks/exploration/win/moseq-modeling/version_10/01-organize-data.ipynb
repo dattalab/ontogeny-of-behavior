{
 "cells": [
  {
   "cell_type": "markdown",
   "id": "56438c6c-2791-41e5-9b4e-24687eeaedf0",
   "metadata": {},
   "source": [
    "# Organize data for running PCA\n",
    "\n",
    "Two main approaches:\n",
    "1. select a subset of all ontogeny sessions, a few sessions from each age and sex\n",
    "2. select a subset of all longtogeny sessions, a few sessions from each age and sex. Make sure to have the same number of sessions and similar ages per mouse."
   ]
  },
  {
   "cell_type": "code",
   "execution_count": 34,
   "id": "38001854-b71c-4131-97d7-b1b7456a4803",
   "metadata": {
    "tags": []
   },
   "outputs": [],
   "source": [
    "import json\n",
    "import h5py\n",
    "import pandas as pd\n",
    "from pathlib import Path\n",
    "from toolz import concat, curry, frequencies\n",
    "from aging.organization.paths import FOLDERS\n",
    "from aging.organization.dataframes import get_experiment, get_age"
   ]
  },
  {
   "cell_type": "code",
   "execution_count": 2,
   "id": "f05c19a1-47c5-4850-86f6-226bdc825dca",
   "metadata": {},
   "outputs": [
    {
     "data": {
      "text/plain": [
       "(PosixPath('/n/groups/datta/Dana/Ontogeny/raw_data/Ontogeny_females'),\n",
       " PosixPath('/n/groups/datta/Dana/Ontogeny/raw_data/Ontogeny_males'),\n",
       " PosixPath('/n/groups/datta/Dana/Ontogeny/raw_data/longtogeny_pre_unet/Males'),\n",
       " PosixPath('/n/groups/datta/min/longtogeny_072023/Males'),\n",
       " PosixPath('/n/groups/datta/min/longtogeny_072023/Females'),\n",
       " PosixPath('/n/groups/datta/min/wheel_062023'),\n",
       " PosixPath('/n/groups/datta/win/longtogeny/dlight'),\n",
       " PosixPath('/n/groups/datta/win/longtogeny/data/jackson-labs/datta_i'),\n",
       " PosixPath('/n/groups/datta/min/longtogeny_052023/Males'))"
      ]
     },
     "execution_count": 2,
     "metadata": {},
     "output_type": "execute_result"
    }
   ],
   "source": [
    "FOLDERS"
   ]
  },
  {
   "cell_type": "code",
   "execution_count": 3,
   "id": "dec7c436-03c2-4cfe-8d06-cdb3d4c3c86b",
   "metadata": {
    "tags": []
   },
   "outputs": [],
   "source": [
    "arhmm_version = 10\n",
    "size_norm_key = 'win_size_norm_frames_v6'"
   ]
  },
  {
   "cell_type": "code",
   "execution_count": 4,
   "id": "fc788d60-8b73-4418-aad3-857c0e03de03",
   "metadata": {
    "tags": []
   },
   "outputs": [],
   "source": [
    "session_exclusion_list = '/n/groups/datta/win/longtogeny/data/metadata/Ontogeny experiment list - Session quality control.csv'\n",
    "exclusion_df = pd.read_csv(session_exclusion_list, header=0)"
   ]
  },
  {
   "cell_type": "code",
   "execution_count": 5,
   "id": "306b14b0-3896-46c8-b04c-5f4c4e300148",
   "metadata": {
    "tags": []
   },
   "outputs": [
    {
     "data": {
      "text/plain": [
       "array(['y', 'n', '?'], dtype=object)"
      ]
     },
     "execution_count": 5,
     "metadata": {},
     "output_type": "execute_result"
    }
   ],
   "source": [
    "exclusion_df['Keep?'] = exclusion_df['Keep?'].str.lower()\n",
    "exclusion_df['Keep?'].unique()"
   ]
  },
  {
   "cell_type": "code",
   "execution_count": 6,
   "id": "8dbf748c-7cb8-4035-a5d4-76a6139d1d41",
   "metadata": {
    "tags": []
   },
   "outputs": [],
   "source": [
    "exclusions = exclusion_df.query('`Keep?` != \"y\"')"
   ]
  },
  {
   "cell_type": "code",
   "execution_count": 7,
   "id": "1f514675-8c47-4dd0-9b24-04887210d64b",
   "metadata": {
    "tags": []
   },
   "outputs": [],
   "source": [
    "def is_size_normalized(file):\n",
    "    try:\n",
    "        with h5py.File(file, 'r') as h5f:\n",
    "            return size_norm_key in h5f\n",
    "    except OSError:\n",
    "        print(file)\n",
    "        return False\n",
    "\n",
    "\n",
    "def not_excluded(file):\n",
    "    return str(file) not in exclusions['File path'].values\n",
    "\n",
    "\n",
    "@curry\n",
    "def thread_and(funcs, x):\n",
    "    return all(f(x) for f in funcs)\n",
    "\n",
    "\n",
    "@curry\n",
    "def not_double(parent_counts, path):\n",
    "    if \"jackson\" not in str(path) and parent_counts[str(path.parents[1])] > 1:\n",
    "        return 'proc_cleaned' == path.parent.name\n",
    "    return True"
   ]
  },
  {
   "cell_type": "markdown",
   "id": "28b8bb46-0725-4090-a12e-f6e6f0797875",
   "metadata": {},
   "source": [
    "## Organize ontogeny sessions\n",
    "\n",
    "These are the data that will be run through PCA and the modeling steps\n",
    "\n",
    "- create a dataframe with the file path, age, sex, and session name\n",
    "- do a groupby and subsample the same number of sessions for each (age, sex) group\n",
    "- symlink results.h5 files to a new folder"
   ]
  },
  {
   "cell_type": "code",
   "execution_count": 8,
   "id": "aec72f89-9bf2-465e-9497-ad50d07e4033",
   "metadata": {
    "tags": []
   },
   "outputs": [],
   "source": [
    "agg_folder = Path(f'/n/groups/datta/win/longtogeny/data/ontogeny/version_{arhmm_version:02d}/training_data')\n",
    "agg_folder.mkdir(exist_ok=True, parents=True)"
   ]
  },
  {
   "cell_type": "code",
   "execution_count": 9,
   "id": "2eb8dae8-a780-40fc-8a38-318292a14c33",
   "metadata": {},
   "outputs": [
    {
     "data": {
      "text/plain": [
       "(PosixPath('/n/groups/datta/Dana/Ontogeny/raw_data/Ontogeny_females'),\n",
       " PosixPath('/n/groups/datta/Dana/Ontogeny/raw_data/Ontogeny_males'),\n",
       " PosixPath('/n/groups/datta/Dana/Ontogeny/raw_data/longtogeny_pre_unet/Males'),\n",
       " PosixPath('/n/groups/datta/min/longtogeny_072023/Males'),\n",
       " PosixPath('/n/groups/datta/min/longtogeny_072023/Females'),\n",
       " PosixPath('/n/groups/datta/win/longtogeny/data/jackson-labs/datta_i'),\n",
       " PosixPath('/n/groups/datta/min/longtogeny_052023/Males'))"
      ]
     },
     "execution_count": 9,
     "metadata": {},
     "output_type": "execute_result"
    }
   ],
   "source": [
    "folder_list = FOLDERS[:5] + FOLDERS[-2:]\n",
    "folder_list"
   ]
  },
  {
   "cell_type": "code",
   "execution_count": 10,
   "id": "26cddb9f-e03e-42cc-83bb-1c2aa0bc4e2f",
   "metadata": {
    "tags": []
   },
   "outputs": [
    {
     "name": "stdout",
     "output_type": "stream",
     "text": [
      "/n/groups/datta/Dana/Ontogeny/raw_data/Ontogeny_males/12months_28042021/session_20210428102836/proc_cleaned/results_00.h5\n"
     ]
    }
   ],
   "source": [
    "# filter files for the ones with size_normalized_frames\n",
    "files = sorted(\n",
    "    filter(\n",
    "        thread_and((is_size_normalized, not_excluded)),\n",
    "        concat(f.glob(\"**/*results_00.h5\") for f in folder_list),\n",
    "    )\n",
    ")"
   ]
  },
  {
   "cell_type": "code",
   "execution_count": 11,
   "id": "4031f9a4-18c9-4b05-a5d0-e4c37885c69e",
   "metadata": {},
   "outputs": [
    {
     "data": {
      "text/plain": [
       "4674"
      ]
     },
     "execution_count": 11,
     "metadata": {},
     "output_type": "execute_result"
    }
   ],
   "source": [
    "len(files)"
   ]
  },
  {
   "cell_type": "code",
   "execution_count": 12,
   "id": "a96bba4f-c6a1-463f-9417-8c98217f4b92",
   "metadata": {},
   "outputs": [],
   "source": [
    "parent_counts = frequencies(str(f.parents[1]) for f in files)"
   ]
  },
  {
   "cell_type": "code",
   "execution_count": 13,
   "id": "dc4383ab-013a-4b5d-a910-e6c021d402c1",
   "metadata": {},
   "outputs": [],
   "source": [
    "files = list(filter(not_double(parent_counts), files))"
   ]
  },
  {
   "cell_type": "code",
   "execution_count": 14,
   "id": "85d2c27d-9b50-412a-be17-65605c700d04",
   "metadata": {},
   "outputs": [
    {
     "data": {
      "text/plain": [
       "4625"
      ]
     },
     "execution_count": 14,
     "metadata": {},
     "output_type": "execute_result"
    }
   ],
   "source": [
    "len(files)"
   ]
  },
  {
   "cell_type": "code",
   "execution_count": 21,
   "id": "03719788-6aa0-49a4-ace4-1b9e55ecf5aa",
   "metadata": {
    "tags": []
   },
   "outputs": [
    {
     "name": "stdout",
     "output_type": "stream",
     "text": [
      "KeyError:  /n/groups/datta/Dana/Ontogeny/raw_data/Ontogeny_females/session_20230721072116/proc/results_00.h5\n",
      "KeyError:  /n/groups/datta/Dana/Ontogeny/raw_data/Ontogeny_females/session_20230721072215/proc/results_00.h5\n",
      "KeyError:  /n/groups/datta/Dana/Ontogeny/raw_data/Ontogeny_females/session_20230721072329/proc/results_00.h5\n",
      "KeyError:  /n/groups/datta/Dana/Ontogeny/raw_data/Ontogeny_females/session_20230721082639/proc/results_00.h5\n",
      "KeyError:  /n/groups/datta/Dana/Ontogeny/raw_data/Ontogeny_females/session_20230721082719/proc/results_00.h5\n",
      "KeyError:  /n/groups/datta/Dana/Ontogeny/raw_data/Ontogeny_females/session_20230721082802/proc/results_00.h5\n",
      "KeyError:  /n/groups/datta/Dana/Ontogeny/raw_data/Ontogeny_females/session_20230721091042/proc/results_00.h5\n",
      "KeyError:  /n/groups/datta/Dana/Ontogeny/raw_data/Ontogeny_females/session_20230721091057/proc/results_00.h5\n",
      "KeyError:  /n/groups/datta/Dana/Ontogeny/raw_data/Ontogeny_females/session_20230721091106/proc/results_00.h5\n",
      "KeyError:  /n/groups/datta/Dana/Ontogeny/raw_data/Ontogeny_females/session_20230721094917/proc/results_00.h5\n",
      "KeyError:  /n/groups/datta/Dana/Ontogeny/raw_data/Ontogeny_females/session_20230721094942/proc/results_00.h5\n",
      "KeyError:  /n/groups/datta/Dana/Ontogeny/raw_data/Ontogeny_females/session_20230721094953/proc/results_00.h5\n",
      "KeyError:  /n/groups/datta/Dana/Ontogeny/raw_data/Ontogeny_females/session_20230721101942/proc/results_00.h5\n",
      "KeyError:  /n/groups/datta/Dana/Ontogeny/raw_data/Ontogeny_females/session_20230721112646/proc/results_00.h5\n",
      "KeyError:  /n/groups/datta/Dana/Ontogeny/raw_data/Ontogeny_females/session_20230721121028/proc/results_00.h5\n",
      "KeyError:  /n/groups/datta/Dana/Ontogeny/raw_data/Ontogeny_females/session_20230721124928/proc/results_00.h5\n"
     ]
    }
   ],
   "source": [
    "df = []\n",
    "for f in files:\n",
    "    try:\n",
    "        md_file = f.parents[1] / \"metadata.json\"\n",
    "        data = dict(\n",
    "            age=get_age(f),\n",
    "            experiment=get_experiment(f),\n",
    "            session=f.parents[1].name,\n",
    "            path=str(f),\n",
    "            SessionName='',\n",
    "        )\n",
    "        if md_file.exists():\n",
    "            md = json.load(md_file.open())\n",
    "            data[\"SessionName\"] = md[\"SessionName\"]\n",
    "        df.append(data)\n",
    "    except KeyError:\n",
    "        print(\"KeyError: \", f)\n",
    "    except FileNotFoundError:\n",
    "        print(\"File not found\", f)\n",
    "        continue\n",
    "df = pd.DataFrame(df)"
   ]
  },
  {
   "cell_type": "code",
   "execution_count": 22,
   "id": "dd956c5d-92da-42a2-86d5-037f6db54dc0",
   "metadata": {},
   "outputs": [
    {
     "data": {
      "text/plain": [
       "4609"
      ]
     },
     "execution_count": 22,
     "metadata": {},
     "output_type": "execute_result"
    }
   ],
   "source": [
    "len(df)"
   ]
  },
  {
   "cell_type": "code",
   "execution_count": 23,
   "id": "4017a7c2-1999-44cf-8bf4-d9d97e7a4f9c",
   "metadata": {
    "tags": []
   },
   "outputs": [],
   "source": [
    "df = df[~df['SessionName'].str.contains(\"CRL\")]"
   ]
  },
  {
   "cell_type": "code",
   "execution_count": 24,
   "id": "ac228e74-0ab0-4e60-b0e2-0de3c7078ba5",
   "metadata": {
    "tags": []
   },
   "outputs": [
    {
     "data": {
      "text/html": [
       "<div>\n",
       "<style scoped>\n",
       "    .dataframe tbody tr th:only-of-type {\n",
       "        vertical-align: middle;\n",
       "    }\n",
       "\n",
       "    .dataframe tbody tr th {\n",
       "        vertical-align: top;\n",
       "    }\n",
       "\n",
       "    .dataframe thead th {\n",
       "        text-align: right;\n",
       "    }\n",
       "</style>\n",
       "<table border=\"1\" class=\"dataframe\">\n",
       "  <thead>\n",
       "    <tr style=\"text-align: right;\">\n",
       "      <th></th>\n",
       "      <th></th>\n",
       "      <th>session</th>\n",
       "      <th>path</th>\n",
       "      <th>SessionName</th>\n",
       "    </tr>\n",
       "    <tr>\n",
       "      <th>age</th>\n",
       "      <th>experiment</th>\n",
       "      <th></th>\n",
       "      <th></th>\n",
       "      <th></th>\n",
       "    </tr>\n",
       "  </thead>\n",
       "  <tbody>\n",
       "    <tr>\n",
       "      <th rowspan=\"3\" valign=\"top\">3.000000</th>\n",
       "      <th>longtogeny_males</th>\n",
       "      <td>16</td>\n",
       "      <td>16</td>\n",
       "      <td>16</td>\n",
       "    </tr>\n",
       "    <tr>\n",
       "      <th>ontogeny_females</th>\n",
       "      <td>23</td>\n",
       "      <td>23</td>\n",
       "      <td>23</td>\n",
       "    </tr>\n",
       "    <tr>\n",
       "      <th>ontogeny_males</th>\n",
       "      <td>15</td>\n",
       "      <td>15</td>\n",
       "      <td>15</td>\n",
       "    </tr>\n",
       "    <tr>\n",
       "      <th>3.142857</th>\n",
       "      <th>longtogeny_males</th>\n",
       "      <td>12</td>\n",
       "      <td>12</td>\n",
       "      <td>12</td>\n",
       "    </tr>\n",
       "    <tr>\n",
       "      <th>3.285714</th>\n",
       "      <th>longtogeny_males</th>\n",
       "      <td>12</td>\n",
       "      <td>12</td>\n",
       "      <td>12</td>\n",
       "    </tr>\n",
       "    <tr>\n",
       "      <th>...</th>\n",
       "      <th>...</th>\n",
       "      <td>...</td>\n",
       "      <td>...</td>\n",
       "      <td>...</td>\n",
       "    </tr>\n",
       "    <tr>\n",
       "      <th>112.000000</th>\n",
       "      <th>jax_longtogeny</th>\n",
       "      <td>11</td>\n",
       "      <td>11</td>\n",
       "      <td>11</td>\n",
       "    </tr>\n",
       "    <tr>\n",
       "      <th>114.571429</th>\n",
       "      <th>longtogeny_males</th>\n",
       "      <td>13</td>\n",
       "      <td>13</td>\n",
       "      <td>13</td>\n",
       "    </tr>\n",
       "    <tr>\n",
       "      <th>116.285714</th>\n",
       "      <th>longtogeny_males</th>\n",
       "      <td>13</td>\n",
       "      <td>13</td>\n",
       "      <td>13</td>\n",
       "    </tr>\n",
       "    <tr>\n",
       "      <th>118.714286</th>\n",
       "      <th>longtogeny_males</th>\n",
       "      <td>12</td>\n",
       "      <td>12</td>\n",
       "      <td>12</td>\n",
       "    </tr>\n",
       "    <tr>\n",
       "      <th>127.000000</th>\n",
       "      <th>ontogeny_females</th>\n",
       "      <td>8</td>\n",
       "      <td>8</td>\n",
       "      <td>8</td>\n",
       "    </tr>\n",
       "  </tbody>\n",
       "</table>\n",
       "<p>289 rows × 3 columns</p>\n",
       "</div>"
      ],
      "text/plain": [
       "                             session  path  SessionName\n",
       "age        experiment                                  \n",
       "3.000000   longtogeny_males       16    16           16\n",
       "           ontogeny_females       23    23           23\n",
       "           ontogeny_males         15    15           15\n",
       "3.142857   longtogeny_males       12    12           12\n",
       "3.285714   longtogeny_males       12    12           12\n",
       "...                              ...   ...          ...\n",
       "112.000000 jax_longtogeny         11    11           11\n",
       "114.571429 longtogeny_males       13    13           13\n",
       "116.285714 longtogeny_males       13    13           13\n",
       "118.714286 longtogeny_males       12    12           12\n",
       "127.000000 ontogeny_females        8     8            8\n",
       "\n",
       "[289 rows x 3 columns]"
      ]
     },
     "execution_count": 24,
     "metadata": {},
     "output_type": "execute_result"
    }
   ],
   "source": [
    "df.groupby(['age', 'experiment']).count()"
   ]
  },
  {
   "cell_type": "code",
   "execution_count": 25,
   "id": "968be7de-2504-4c54-b5b1-8dc5c5f31b72",
   "metadata": {},
   "outputs": [],
   "source": [
    "# bin ages to make sampling easier\n",
    "df['age_cuts'] = df.groupby(\"experiment\")[\"age\"].transform(lambda v: pd.qcut(v, 15, labels=False))"
   ]
  },
  {
   "cell_type": "code",
   "execution_count": 30,
   "id": "716800f6-c070-4122-b972-a47aae79f175",
   "metadata": {
    "tags": []
   },
   "outputs": [],
   "source": [
    "# sub-select 4 sessions from each group\n",
    "# 64 sessions = 3.5e6 frames\n",
    "sample = df.groupby(['age_cuts', 'experiment']).sample(n=6, random_state=0)"
   ]
  },
  {
   "cell_type": "code",
   "execution_count": 31,
   "id": "9a45b8ac-202f-422a-bc66-fb104dc7edca",
   "metadata": {},
   "outputs": [
    {
     "data": {
      "text/plain": [
       "540"
      ]
     },
     "execution_count": 31,
     "metadata": {},
     "output_type": "execute_result"
    }
   ],
   "source": [
    "len(sample)"
   ]
  },
  {
   "cell_type": "code",
   "execution_count": 32,
   "id": "1118ccc4-b480-44cb-9e8e-9e3ff5d472fa",
   "metadata": {},
   "outputs": [
    {
     "data": {
      "text/plain": [
       "19440000"
      ]
     },
     "execution_count": 32,
     "metadata": {},
     "output_type": "execute_result"
    }
   ],
   "source": [
    "len(sample) * 30 * 60 * 20"
   ]
  },
  {
   "cell_type": "code",
   "execution_count": 36,
   "id": "1d542191-4897-4ca8-b7a8-980119747940",
   "metadata": {},
   "outputs": [],
   "source": [
    "for idx, row in sample.iterrows():\n",
    "    path = Path(row.path)\n",
    "    try:\n",
    "        if row.experiment == \"jax_longtogeny\":\n",
    "            new_path = agg_folder / path.name\n",
    "        else:\n",
    "            new_path = agg_folder / (path.parents[1].name + \".h5\")\n",
    "\n",
    "        new_path.symlink_to(path)\n",
    "        new_path = new_path.with_suffix(\".yaml\")\n",
    "        new_path.symlink_to(path.with_suffix(\".yaml\"))\n",
    "    except FileExistsError:\n",
    "        print(path, \"exists in training set\")"
   ]
  },
  {
   "cell_type": "code",
   "execution_count": null,
   "id": "b1b107a6-e6c8-44dc-87e7-3034f9caab79",
   "metadata": {},
   "outputs": [],
   "source": []
  }
 ],
 "metadata": {
  "kernelspec": {
   "display_name": "Ontogeny",
   "language": "python",
   "name": "aging"
  },
  "language_info": {
   "codemirror_mode": {
    "name": "ipython",
    "version": 3
   },
   "file_extension": ".py",
   "mimetype": "text/x-python",
   "name": "python",
   "nbconvert_exporter": "python",
   "pygments_lexer": "ipython3",
   "version": "3.10.10"
  },
  "widgets": {
   "application/vnd.jupyter.widget-state+json": {
    "state": {},
    "version_major": 2,
    "version_minor": 0
   }
  }
 },
 "nbformat": 4,
 "nbformat_minor": 5
}
