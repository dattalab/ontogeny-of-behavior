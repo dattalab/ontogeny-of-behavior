{
 "cells": [
  {
   "cell_type": "code",
   "execution_count": 1,
   "id": "49f8a388-52ed-4a21-86eb-f6ce78751134",
   "metadata": {
    "tags": []
   },
   "outputs": [
    {
     "name": "stdout",
     "output_type": "stream",
     "text": [
      "env: FRAMES_KEY=win_size_norm_frames_v6\n",
      "env: VERSION=11\n"
     ]
    }
   ],
   "source": [
    "version = 10\n",
    "frames_key = \"win_size_norm_frames_v6\"\n",
    "\n",
    "# set environment variables for bash scripts below\n",
    "%env FRAMES_KEY=$frames_key\n",
    "%env VERSION=$version"
   ]
  },
  {
   "cell_type": "markdown",
   "id": "5ca1c541-39d3-4434-82aa-bc19aa3e4c18",
   "metadata": {},
   "source": [
    "## PCA was trained on data version_08\n",
    "\n",
    "\n",
    "copy pca files from version 8"
   ]
  },
  {
   "cell_type": "code",
   "execution_count": 2,
   "id": "9c30d299-b09c-417e-8643-9f0c90e9b1a5",
   "metadata": {},
   "outputs": [
    {
     "name": "stdout",
     "output_type": "stream",
     "text": [
      "sending incremental file list\n",
      "_pca/\n",
      "\n",
      "sent 316 bytes  received 20 bytes  672.00 bytes/sec\n",
      "total size is 2,175,545,641  speedup is 6,474,838.22\n"
     ]
    }
   ],
   "source": [
    "%%bash\n",
    "\n",
    "printf -v VER \"%02d\" $VERSION\n",
    "\n",
    "rsync -auv /n/groups/datta/win/longtogeny/data/ontogeny/version_08/_pca /n/groups/datta/win/longtogeny/data/ontogeny/version_${VER}/\n",
    "rm /n/groups/datta/win/longtogeny/data/ontogeny/version_${VER}/_pca/pca_scores.h5"
   ]
  },
  {
   "cell_type": "markdown",
   "id": "d7830abe-f1b2-41a6-9e5c-e15c2ea1f9cd",
   "metadata": {},
   "source": [
    "# Apply PCA on dataset"
   ]
  },
  {
   "cell_type": "code",
   "execution_count": 3,
   "id": "8ca30753-a269-462a-9b74-89f59fc3f689",
   "metadata": {
    "tags": []
   },
   "outputs": [
    {
     "name": "stdout",
     "output_type": "stream",
     "text": [
      "Hello from o2\n",
      "Loading PCs from /n/groups/datta/win/longtogeny/data/ontogeny/version_11/_pca/pca.h5\n",
      "Access dask dashboard at http://localhost:8787\n"
     ]
    },
    {
     "name": "stderr",
     "output_type": "stream",
     "text": [
      "Intializing workers: 100%|██████████| 34/34 [01:11<00:00,  2.09s/it]\n",
      "100%|██████████| 33/33 [10:48<00:00, 19.66s/it]\n"
     ]
    }
   ],
   "source": [
    "%%bash\n",
    "# ontogeny\n",
    "printf -v VER \"%02d\" $VERSION\n",
    "source $HOME/.bashrc\n",
    "conda activate moseq2-app\n",
    "moseq2-pca apply-pca \\\n",
    "    -i /n/groups/datta/win/longtogeny/data/ontogeny/version_${VER}/training_data \\\n",
    "    -o /n/groups/datta/win/longtogeny/data/ontogeny/version_${VER}/_pca \\\n",
    "    --h5-path ${FRAMES_KEY} --timeout 10 -n 34 -w 00:25:00 -m 10GB \\\n",
    "    -q short --cluster-type slurm --dask-cache-path /n/scratch3/users/w/wg41/tmp \\\n",
    "    --batch-apply --overwrite-pca-apply 1"
   ]
  },
  {
   "cell_type": "code",
   "execution_count": 4,
   "id": "9c7f433e-74e1-4e89-9913-ee8a7402dd98",
   "metadata": {},
   "outputs": [],
   "source": [
    "!rm slurm-*.out"
   ]
  },
  {
   "cell_type": "code",
   "execution_count": null,
   "id": "86819284-6bf9-4b26-8719-5ea6652192c0",
   "metadata": {},
   "outputs": [],
   "source": []
  }
 ],
 "metadata": {
  "kernelspec": {
   "display_name": "Ontogeny",
   "language": "python",
   "name": "aging"
  },
  "language_info": {
   "codemirror_mode": {
    "name": "ipython",
    "version": 3
   },
   "file_extension": ".py",
   "mimetype": "text/x-python",
   "name": "python",
   "nbconvert_exporter": "python",
   "pygments_lexer": "ipython3",
   "version": "3.10.10"
  },
  "widgets": {
   "application/vnd.jupyter.widget-state+json": {
    "state": {},
    "version_major": 2,
    "version_minor": 0
   }
  }
 },
 "nbformat": 4,
 "nbformat_minor": 5
}
