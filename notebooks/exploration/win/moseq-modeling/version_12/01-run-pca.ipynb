{
 "cells": [
  {
   "cell_type": "code",
   "execution_count": 1,
   "id": "49f8a388-52ed-4a21-86eb-f6ce78751134",
   "metadata": {
    "tags": []
   },
   "outputs": [
    {
     "name": "stdout",
     "output_type": "stream",
     "text": [
      "env: FRAMES_KEY=win_size_norm_frames_v8\n",
      "env: VERSION=12\n"
     ]
    }
   ],
   "source": [
    "version = 12\n",
    "\n",
    "# NEW SIZE NORM MODEL\n",
    "frames_key = \"win_size_norm_frames_v8\"\n",
    "\n",
    "# set environment variables for bash scripts below\n",
    "%env FRAMES_KEY=$frames_key\n",
    "%env VERSION=$version"
   ]
  },
  {
   "cell_type": "markdown",
   "id": "5ca1c541-39d3-4434-82aa-bc19aa3e4c18",
   "metadata": {},
   "source": [
    "## Train PCA on `training_data`"
   ]
  },
  {
   "cell_type": "code",
   "execution_count": 3,
   "id": "81cd9522",
   "metadata": {},
   "outputs": [
    {
     "name": "stdout",
     "output_type": "stream",
     "text": [
      "Hello from o2\n",
      "Access dask dashboard at http://localhost:8787\n"
     ]
    },
    {
     "name": "stderr",
     "output_type": "stream",
     "text": [
      "100%|██████████| 599/599 [00:08<00:00, 67.74it/s]\n"
     ]
    },
    {
     "name": "stdout",
     "output_type": "stream",
     "text": [
      "Processing 26698245 total frames\n",
      "Cleaning frames...\n",
      "\n",
      "Computing SVD...\n",
      "[####################################### ] | 99% Completed |  7min 46.1s"
     ]
    },
    {
     "name": "stderr",
     "output_type": "stream",
     "text": [
      "Intializing workers: 100%|██████████| 45/45 [09:14<00:00, 12.32s/it]\n"
     ]
    },
    {
     "name": "stdout",
     "output_type": "stream",
     "text": [
      "[########################################] | 100% Completed |  8min 25.4s\n",
      "Calculation complete...\n"
     ]
    }
   ],
   "source": [
    "%%bash\n",
    "# ontogeny\n",
    "printf -v VER \"%02d\" $VERSION\n",
    "source $HOME/.bashrc\n",
    "conda activate moseq2-app\n",
    "moseq2-pca train-pca \\\n",
    "    -i /n/groups/datta/win/longtogeny/data/ontogeny/version_${VER}/training_data \\\n",
    "    -o /n/groups/datta/win/longtogeny/data/ontogeny/version_${VER}/_pca \\\n",
    "    --h5-path ${FRAMES_KEY} --timeout 10 -n 45 -w 01:45:00 -m 10GB \\\n",
    "    -q short --cluster-type slurm --dask-cache-path /n/scratch/users/w/wg41/tmp \\\n",
    "    --gaussfilter-space 0.2 0.1 --tailfilter-size 3 3 --rank 20 "
   ]
  },
  {
   "cell_type": "markdown",
   "id": "d7830abe-f1b2-41a6-9e5c-e15c2ea1f9cd",
   "metadata": {},
   "source": [
    "# Apply PCA on dataset"
   ]
  },
  {
   "cell_type": "code",
   "execution_count": 4,
   "id": "8ca30753-a269-462a-9b74-89f59fc3f689",
   "metadata": {
    "tags": []
   },
   "outputs": [
    {
     "name": "stdout",
     "output_type": "stream",
     "text": [
      "Hello from o2\n",
      "Loading PCs from /n/groups/datta/win/longtogeny/data/ontogeny/version_12/_pca/pca.h5\n",
      "Access dask dashboard at http://localhost:8787\n"
     ]
    },
    {
     "name": "stderr",
     "output_type": "stream",
     "text": [
      "Intializing workers: 100%|██████████| 45/45 [04:07<00:00,  5.51s/it]\n",
      "0it [00:00, ?it/s]\n"
     ]
    }
   ],
   "source": [
    "%%bash\n",
    "# ontogeny\n",
    "printf -v VER \"%02d\" $VERSION\n",
    "source $HOME/.bashrc\n",
    "conda activate moseq2-app\n",
    "moseq2-pca apply-pca \\\n",
    "    -i /n/groups/datta/win/longtogeny/data/ontogeny/version_${VER}/training_data \\\n",
    "    -o /n/groups/datta/win/longtogeny/data/ontogeny/version_${VER}/_pca \\\n",
    "    --h5-path ${FRAMES_KEY} --timeout 15 -n 45 -w 01:40:00 -m 10GB \\\n",
    "    -q short --cluster-type slurm --dask-cache-path /n/scratch/users/w/wg41/tmp \\\n",
    "    --batch-apply --overwrite-pca-apply 1"
   ]
  },
  {
   "cell_type": "code",
   "execution_count": 5,
   "id": "9c7f433e-74e1-4e89-9913-ee8a7402dd98",
   "metadata": {},
   "outputs": [],
   "source": [
    "!rm slurm-*.out"
   ]
  },
  {
   "cell_type": "code",
   "execution_count": null,
   "id": "86819284-6bf9-4b26-8719-5ea6652192c0",
   "metadata": {},
   "outputs": [],
   "source": []
  }
 ],
 "metadata": {
  "kernelspec": {
   "display_name": "Ontogeny",
   "language": "python",
   "name": "aging"
  },
  "language_info": {
   "codemirror_mode": {
    "name": "ipython",
    "version": 3
   },
   "file_extension": ".py",
   "mimetype": "text/x-python",
   "name": "python",
   "nbconvert_exporter": "python",
   "pygments_lexer": "ipython3",
   "version": "3.10.10"
  },
  "widgets": {
   "application/vnd.jupyter.widget-state+json": {
    "state": {},
    "version_major": 2,
    "version_minor": 0
   }
  }
 },
 "nbformat": 4,
 "nbformat_minor": 5
}
