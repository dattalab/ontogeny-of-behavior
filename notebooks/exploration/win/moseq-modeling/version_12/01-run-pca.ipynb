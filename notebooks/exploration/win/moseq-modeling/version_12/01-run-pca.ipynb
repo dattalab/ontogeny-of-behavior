{
 "cells": [
  {
   "cell_type": "markdown",
   "id": "d7830abe-f1b2-41a6-9e5c-e15c2ea1f9cd",
   "metadata": {},
   "source": [
    "# Run PCA on ontogeny dataset"
   ]
  },
  {
   "cell_type": "code",
   "execution_count": 1,
   "id": "49f8a388-52ed-4a21-86eb-f6ce78751134",
   "metadata": {
    "tags": []
   },
   "outputs": [
    {
     "name": "stdout",
     "output_type": "stream",
     "text": [
      "env: FRAMES_KEY=win_size_norm_frames_v6\n",
      "env: VERSION=12\n"
     ]
    }
   ],
   "source": [
    "version = 12\n",
    "frames_key = \"win_size_norm_frames_v6\"\n",
    "\n",
    "# set environment variables for bash scripts below\n",
    "%env FRAMES_KEY=$frames_key\n",
    "%env VERSION=$version"
   ]
  },
  {
   "cell_type": "code",
   "execution_count": 2,
   "id": "8373f838-7153-4daa-84a7-344a2eb21d6e",
   "metadata": {},
   "outputs": [
    {
     "name": "stdout",
     "output_type": "stream",
     "text": [
      "sending incremental file list\n",
      "_pca/\n",
      "_pca/pca.h5\n",
      "_pca/pca.yaml\n",
      "_pca/pca_components.pdf\n",
      "_pca/pca_components.png\n",
      "_pca/pca_scores.h5\n",
      "_pca/pca_scree.pdf\n",
      "_pca/pca_scree.png\n",
      "_pca/scores.log\n",
      "_pca/train.log\n",
      "\n",
      "sent 2,176,077,436 bytes  received 191 bytes  189,224,141.48 bytes/sec\n",
      "total size is 2,175,545,641  speedup is 1.00\n"
     ]
    }
   ],
   "source": [
    "%%bash\n",
    "\n",
    "printf -v VER \"%02d\" $VERSION\n",
    "\n",
    "rsync -auv /n/groups/datta/win/longtogeny/data/ontogeny/version_08/_pca /n/groups/datta/win/longtogeny/data/ontogeny/version_${VER}/\n",
    "rm /n/groups/datta/win/longtogeny/data/ontogeny/version_${VER}/_pca/pca_scores.h5"
   ]
  },
  {
   "cell_type": "markdown",
   "id": "117c840a-f9c3-445b-b988-aee01a8bac16",
   "metadata": {},
   "source": [
    "## Ontogeny"
   ]
  },
  {
   "cell_type": "code",
   "execution_count": 3,
   "id": "ae6572e5-675a-4f97-ac18-5adf2c3a4030",
   "metadata": {
    "jupyter": {
     "source_hidden": true
    },
    "tags": []
   },
   "outputs": [],
   "source": [
    "# %%bash\n",
    "# # ontogeny\n",
    "# printf -v VER \"%02d\" $VERSION\n",
    "# source $HOME/.bashrc\n",
    "# conda activate moseq2-app\n",
    "# moseq2-pca train-pca \\\n",
    "#     -i /n/groups/datta/win/longtogeny/data/ontogeny/version_${VER}/training_data \\\n",
    "#     -o /n/groups/datta/win/longtogeny/data/ontogeny/version_${VER}/_pca \\\n",
    "#     --h5-path ${FRAMES_KEY} --timeout 10 -n 30 -w 00:30:00 -m 10GB \\\n",
    "#     -q short --cluster-type slurm --dask-cache-path /n/scratch3/users/w/wg41/tmp \\\n",
    "#     --gaussfilter-space 1 0.75 --tailfilter-size 5 5 --rank 20 "
   ]
  },
  {
   "cell_type": "code",
   "execution_count": 4,
   "id": "8ca30753-a269-462a-9b74-89f59fc3f689",
   "metadata": {
    "tags": []
   },
   "outputs": [
    {
     "name": "stdout",
     "output_type": "stream",
     "text": [
      "Hello from o2\n",
      "Loading PCs from /n/groups/datta/win/longtogeny/data/ontogeny/version_12/_pca/pca.h5\n",
      "Access dask dashboard at http://localhost:8787\n"
     ]
    },
    {
     "name": "stderr",
     "output_type": "stream",
     "text": [
      "Intializing workers: 100%|██████████| 25/25 [02:48<00:00,  6.74s/it]\n",
      "100%|██████████| 7/7 [06:19<00:00, 54.23s/it]\n"
     ]
    }
   ],
   "source": [
    "%%bash\n",
    "# ontogeny\n",
    "printf -v VER \"%02d\" $VERSION\n",
    "source $HOME/.bashrc\n",
    "conda activate moseq2-app\n",
    "moseq2-pca apply-pca \\\n",
    "    -i /n/groups/datta/win/longtogeny/data/ontogeny/version_${VER}/training_data \\\n",
    "    -o /n/groups/datta/win/longtogeny/data/ontogeny/version_${VER}/_pca \\\n",
    "    --h5-path ${FRAMES_KEY} --timeout 10 -n 25 -w 01:05:00 -m 10GB \\\n",
    "    -q short --cluster-type slurm --dask-cache-path /n/scratch3/users/w/wg41/tmp \\\n",
    "    --batch-apply --overwrite-pca-apply 1"
   ]
  },
  {
   "cell_type": "code",
   "execution_count": 5,
   "id": "9c7f433e-74e1-4e89-9913-ee8a7402dd98",
   "metadata": {},
   "outputs": [],
   "source": [
    "!rm slurm-*.out"
   ]
  },
  {
   "cell_type": "code",
   "execution_count": null,
   "id": "459f0225-a906-4b12-9fd3-7d7bb84eb18c",
   "metadata": {},
   "outputs": [],
   "source": []
  }
 ],
 "metadata": {
  "kernelspec": {
   "display_name": "Ontogeny",
   "language": "python",
   "name": "aging"
  },
  "language_info": {
   "codemirror_mode": {
    "name": "ipython",
    "version": 3
   },
   "file_extension": ".py",
   "mimetype": "text/x-python",
   "name": "python",
   "nbconvert_exporter": "python",
   "pygments_lexer": "ipython3",
   "version": "3.10.10"
  },
  "widgets": {
   "application/vnd.jupyter.widget-state+json": {
    "state": {},
    "version_major": 2,
    "version_minor": 0
   }
  }
 },
 "nbformat": 4,
 "nbformat_minor": 5
}
