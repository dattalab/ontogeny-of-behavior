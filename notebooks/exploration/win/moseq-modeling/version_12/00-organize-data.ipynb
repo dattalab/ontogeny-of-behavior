{
 "cells": [
  {
   "cell_type": "markdown",
   "id": "56438c6c-2791-41e5-9b4e-24687eeaedf0",
   "metadata": {},
   "source": [
    "# Organize data for running PCA\n",
    "\n",
    "Two main approaches:\n",
    "1. select a subset of all ontogeny sessions, a few sessions from each age and sex\n",
    "2. select a subset of all longtogeny sessions, a few sessions from each age and sex. Make sure to have the same number of sessions and similar ages per mouse."
   ]
  },
  {
   "cell_type": "code",
   "execution_count": 1,
   "id": "38001854-b71c-4131-97d7-b1b7456a4803",
   "metadata": {
    "tags": []
   },
   "outputs": [],
   "source": [
    "import json\n",
    "import h5py\n",
    "import numpy as np\n",
    "import pandas as pd\n",
    "from pathlib import Path\n",
    "from toolz import concat, curry, frequencies, keyfilter\n",
    "from aging.organization.paths import get_experiment_grouped_files\n",
    "from aging.organization.dataframes import get_experiment, get_age"
   ]
  },
  {
   "cell_type": "code",
   "execution_count": 2,
   "id": "7ca38a09",
   "metadata": {},
   "outputs": [],
   "source": [
    "files = get_experiment_grouped_files()\n",
    "files = keyfilter(lambda x: x not in [\"jax_longtogeny\", \"dana_ontogeny_dana_ontogeny\"], files)"
   ]
  },
  {
   "cell_type": "code",
   "execution_count": 3,
   "id": "01681086",
   "metadata": {},
   "outputs": [
    {
     "data": {
      "text/plain": [
       "['ontogeny_females',\n",
       " 'ontogeny_males',\n",
       " 'dana_ontogeny_males',\n",
       " 'dana_ontogeny_females',\n",
       " 'longtogeny_males',\n",
       " 'longtogeny_v2_males',\n",
       " 'longtogeny_v2_females',\n",
       " 'wheel',\n",
       " 'dlight',\n",
       " 'klothos']"
      ]
     },
     "execution_count": 3,
     "metadata": {},
     "output_type": "execute_result"
    }
   ],
   "source": [
    "list(files)"
   ]
  },
  {
   "cell_type": "code",
   "execution_count": 4,
   "id": "dec7c436-03c2-4cfe-8d06-cdb3d4c3c86b",
   "metadata": {
    "tags": []
   },
   "outputs": [],
   "source": [
    "arhmm_version = 12\n",
    "\n",
    "# NEW SIZE NORM MODEL\n",
    "size_norm_key = 'win_size_norm_frames_v8'"
   ]
  },
  {
   "cell_type": "code",
   "execution_count": 5,
   "id": "fc788d60-8b73-4418-aad3-857c0e03de03",
   "metadata": {
    "tags": []
   },
   "outputs": [],
   "source": [
    "session_exclusion_list = '/n/groups/datta/win/longtogeny/data/metadata/Ontogeny experiment list - Session quality control.csv'\n",
    "exclusion_df = pd.read_csv(session_exclusion_list, header=0)"
   ]
  },
  {
   "cell_type": "code",
   "execution_count": 6,
   "id": "306b14b0-3896-46c8-b04c-5f4c4e300148",
   "metadata": {
    "tags": []
   },
   "outputs": [
    {
     "data": {
      "text/plain": [
       "array(['y', 'n', '?'], dtype=object)"
      ]
     },
     "execution_count": 6,
     "metadata": {},
     "output_type": "execute_result"
    }
   ],
   "source": [
    "exclusion_df['Keep?'] = exclusion_df['Keep?'].str.lower()\n",
    "exclusion_df['Keep?'].unique()"
   ]
  },
  {
   "cell_type": "code",
   "execution_count": 7,
   "id": "8dbf748c-7cb8-4035-a5d4-76a6139d1d41",
   "metadata": {
    "tags": []
   },
   "outputs": [],
   "source": [
    "exclusions = exclusion_df.query('`Keep?` != \"y\"')"
   ]
  },
  {
   "cell_type": "code",
   "execution_count": 8,
   "id": "1f514675-8c47-4dd0-9b24-04887210d64b",
   "metadata": {
    "tags": []
   },
   "outputs": [],
   "source": [
    "def is_size_normalized(file):\n",
    "    try:\n",
    "        with h5py.File(file, 'r') as h5f:\n",
    "            return size_norm_key in h5f\n",
    "    except OSError:\n",
    "        print(file)\n",
    "        return False\n",
    "\n",
    "\n",
    "def not_excluded(file):\n",
    "    return str(file) not in exclusions['File path'].values\n",
    "\n",
    "\n",
    "@curry\n",
    "def thread_and(funcs, x):\n",
    "    return all(f(x) for f in funcs)\n",
    "\n",
    "\n",
    "@curry\n",
    "def not_double(parent_counts, path):\n",
    "    if parent_counts[str(path.parents[1])] > 1:\n",
    "        return 'proc_cleaned' == path.parent.name\n",
    "    return True"
   ]
  },
  {
   "cell_type": "markdown",
   "id": "28b8bb46-0725-4090-a12e-f6e6f0797875",
   "metadata": {},
   "source": [
    "## Organize ontogeny sessions\n",
    "\n",
    "These are the data that will be run through PCA and the modeling steps\n",
    "\n",
    "- create a dataframe with the file path, age, sex, and session name\n",
    "- do a groupby and subsample the same number of sessions for each (age, sex) group\n",
    "- symlink results.h5 files to a new folder"
   ]
  },
  {
   "cell_type": "code",
   "execution_count": 9,
   "id": "aec72f89-9bf2-465e-9497-ad50d07e4033",
   "metadata": {
    "tags": []
   },
   "outputs": [],
   "source": [
    "agg_folder = Path(f'/n/groups/datta/win/longtogeny/data/ontogeny/version_{arhmm_version:02d}/training_data')\n",
    "agg_folder.mkdir(exist_ok=True, parents=True)"
   ]
  },
  {
   "cell_type": "code",
   "execution_count": 10,
   "id": "26cddb9f-e03e-42cc-83bb-1c2aa0bc4e2f",
   "metadata": {
    "tags": []
   },
   "outputs": [
    {
     "name": "stdout",
     "output_type": "stream",
     "text": [
      "/n/groups/datta/Dana/Ontogeny/raw_data/Dana_ontogeny/Males/12months_28042021/session_20210428102836/proc_cleaned/results_00.h5\n"
     ]
    }
   ],
   "source": [
    "# filter files for the ones with size_normalized_frames\n",
    "files = sorted(\n",
    "    filter(\n",
    "        thread_and((is_size_normalized, not_excluded)),\n",
    "        concat(files.values()),\n",
    "    )\n",
    ")"
   ]
  },
  {
   "cell_type": "code",
   "execution_count": 11,
   "id": "a96bba4f-c6a1-463f-9417-8c98217f4b92",
   "metadata": {},
   "outputs": [],
   "source": [
    "parent_counts = frequencies(str(f.parents[1]) for f in files)"
   ]
  },
  {
   "cell_type": "code",
   "execution_count": 12,
   "id": "dc4383ab-013a-4b5d-a910-e6c021d402c1",
   "metadata": {},
   "outputs": [],
   "source": [
    "files = list(filter(not_double(parent_counts), files))"
   ]
  },
  {
   "cell_type": "code",
   "execution_count": 13,
   "id": "03719788-6aa0-49a4-ace4-1b9e55ecf5aa",
   "metadata": {
    "tags": []
   },
   "outputs": [],
   "source": [
    "df = []\n",
    "for f in files:\n",
    "    try:\n",
    "        md = json.load((f.parents[1] / \"metadata.json\").open())\n",
    "        data = dict(\n",
    "            age=get_age(f),\n",
    "            experiment=get_experiment(f),\n",
    "            session=f.parents[1].name,\n",
    "            path=str(f),\n",
    "            SessionName=md[\"SessionName\"],\n",
    "        )\n",
    "        df.append(data)\n",
    "    except KeyError:\n",
    "        print(\"KeyError: \", f)\n",
    "    except FileNotFoundError:\n",
    "        continue\n",
    "df = pd.DataFrame(df)"
   ]
  },
  {
   "cell_type": "code",
   "execution_count": 14,
   "id": "dd956c5d-92da-42a2-86d5-037f6db54dc0",
   "metadata": {},
   "outputs": [
    {
     "data": {
      "text/plain": [
       "7218"
      ]
     },
     "execution_count": 14,
     "metadata": {},
     "output_type": "execute_result"
    }
   ],
   "source": [
    "len(df)"
   ]
  },
  {
   "cell_type": "code",
   "execution_count": 15,
   "id": "2a32657e-1636-413d-aec1-6027069a23e0",
   "metadata": {},
   "outputs": [
    {
     "data": {
      "text/plain": [
       "array(['dana_ontogeny_females', 'dana_ontogeny_males', 'klothos',\n",
       "       'ontogeny_females', 'ontogeny_males', 'longtogeny_males',\n",
       "       'longtogeny_v2_females', 'longtogeny_v2_males', 'wheel', 'dlight'],\n",
       "      dtype=object)"
      ]
     },
     "execution_count": 15,
     "metadata": {},
     "output_type": "execute_result"
    }
   ],
   "source": [
    "df['experiment'].unique()"
   ]
  },
  {
   "cell_type": "code",
   "execution_count": 16,
   "id": "64ebe327-dea0-48b4-a578-17d27f7e4064",
   "metadata": {},
   "outputs": [],
   "source": [
    "if \"wheel\" in df[\"experiment\"].unique():\n",
    "    mask = df['experiment'] == \"wheel\"\n",
    "    fake_ages = list(range(mask.sum()))\n",
    "    df.loc[mask, \"age\"] = fake_ages"
   ]
  },
  {
   "cell_type": "code",
   "execution_count": 17,
   "id": "feac8141-9a13-4ef5-bf86-9f55779e9d0e",
   "metadata": {},
   "outputs": [
    {
     "data": {
      "text/html": [
       "<div>\n",
       "<style scoped>\n",
       "    .dataframe tbody tr th:only-of-type {\n",
       "        vertical-align: middle;\n",
       "    }\n",
       "\n",
       "    .dataframe tbody tr th {\n",
       "        vertical-align: top;\n",
       "    }\n",
       "\n",
       "    .dataframe thead th {\n",
       "        text-align: right;\n",
       "    }\n",
       "</style>\n",
       "<table border=\"1\" class=\"dataframe\">\n",
       "  <thead>\n",
       "    <tr style=\"text-align: right;\">\n",
       "      <th></th>\n",
       "      <th>age</th>\n",
       "      <th>experiment</th>\n",
       "      <th>session</th>\n",
       "      <th>path</th>\n",
       "      <th>SessionName</th>\n",
       "    </tr>\n",
       "  </thead>\n",
       "  <tbody>\n",
       "    <tr>\n",
       "      <th>0</th>\n",
       "      <td>52.0</td>\n",
       "      <td>dana_ontogeny_females</td>\n",
       "      <td>session_20221018094245</td>\n",
       "      <td>/n/groups/datta/Dana/Ontogeny/raw_data/Dana_on...</td>\n",
       "      <td>fo_12months</td>\n",
       "    </tr>\n",
       "    <tr>\n",
       "      <th>1</th>\n",
       "      <td>52.0</td>\n",
       "      <td>dana_ontogeny_females</td>\n",
       "      <td>session_20221018094429</td>\n",
       "      <td>/n/groups/datta/Dana/Ontogeny/raw_data/Dana_on...</td>\n",
       "      <td>fo_12months</td>\n",
       "    </tr>\n",
       "    <tr>\n",
       "      <th>2</th>\n",
       "      <td>52.0</td>\n",
       "      <td>dana_ontogeny_females</td>\n",
       "      <td>session_20221018094537</td>\n",
       "      <td>/n/groups/datta/Dana/Ontogeny/raw_data/Dana_on...</td>\n",
       "      <td>fo_12months</td>\n",
       "    </tr>\n",
       "    <tr>\n",
       "      <th>3</th>\n",
       "      <td>52.0</td>\n",
       "      <td>dana_ontogeny_females</td>\n",
       "      <td>session_20221018094629</td>\n",
       "      <td>/n/groups/datta/Dana/Ontogeny/raw_data/Dana_on...</td>\n",
       "      <td>fo_12months</td>\n",
       "    </tr>\n",
       "    <tr>\n",
       "      <th>4</th>\n",
       "      <td>52.0</td>\n",
       "      <td>dana_ontogeny_females</td>\n",
       "      <td>session_20221018110503</td>\n",
       "      <td>/n/groups/datta/Dana/Ontogeny/raw_data/Dana_on...</td>\n",
       "      <td>fo_12months</td>\n",
       "    </tr>\n",
       "  </tbody>\n",
       "</table>\n",
       "</div>"
      ],
      "text/plain": [
       "    age             experiment                 session  \\\n",
       "0  52.0  dana_ontogeny_females  session_20221018094245   \n",
       "1  52.0  dana_ontogeny_females  session_20221018094429   \n",
       "2  52.0  dana_ontogeny_females  session_20221018094537   \n",
       "3  52.0  dana_ontogeny_females  session_20221018094629   \n",
       "4  52.0  dana_ontogeny_females  session_20221018110503   \n",
       "\n",
       "                                                path  SessionName  \n",
       "0  /n/groups/datta/Dana/Ontogeny/raw_data/Dana_on...  fo_12months  \n",
       "1  /n/groups/datta/Dana/Ontogeny/raw_data/Dana_on...  fo_12months  \n",
       "2  /n/groups/datta/Dana/Ontogeny/raw_data/Dana_on...  fo_12months  \n",
       "3  /n/groups/datta/Dana/Ontogeny/raw_data/Dana_on...  fo_12months  \n",
       "4  /n/groups/datta/Dana/Ontogeny/raw_data/Dana_on...  fo_12months  "
      ]
     },
     "execution_count": 17,
     "metadata": {},
     "output_type": "execute_result"
    }
   ],
   "source": [
    "df.head()"
   ]
  },
  {
   "cell_type": "code",
   "execution_count": 18,
   "id": "4017a7c2-1999-44cf-8bf4-d9d97e7a4f9c",
   "metadata": {
    "tags": []
   },
   "outputs": [],
   "source": [
    "df = df[~df['SessionName'].str.contains(\"CRL\")]"
   ]
  },
  {
   "cell_type": "code",
   "execution_count": 19,
   "id": "ac228e74-0ab0-4e60-b0e2-0de3c7078ba5",
   "metadata": {
    "tags": []
   },
   "outputs": [
    {
     "data": {
      "text/html": [
       "<div>\n",
       "<style scoped>\n",
       "    .dataframe tbody tr th:only-of-type {\n",
       "        vertical-align: middle;\n",
       "    }\n",
       "\n",
       "    .dataframe tbody tr th {\n",
       "        vertical-align: top;\n",
       "    }\n",
       "\n",
       "    .dataframe thead th {\n",
       "        text-align: right;\n",
       "    }\n",
       "</style>\n",
       "<table border=\"1\" class=\"dataframe\">\n",
       "  <thead>\n",
       "    <tr style=\"text-align: right;\">\n",
       "      <th></th>\n",
       "      <th></th>\n",
       "      <th>session</th>\n",
       "      <th>path</th>\n",
       "      <th>SessionName</th>\n",
       "    </tr>\n",
       "    <tr>\n",
       "      <th>age</th>\n",
       "      <th>experiment</th>\n",
       "      <th></th>\n",
       "      <th></th>\n",
       "      <th></th>\n",
       "    </tr>\n",
       "  </thead>\n",
       "  <tbody>\n",
       "    <tr>\n",
       "      <th>0.0</th>\n",
       "      <th>wheel</th>\n",
       "      <td>1</td>\n",
       "      <td>1</td>\n",
       "      <td>1</td>\n",
       "    </tr>\n",
       "    <tr>\n",
       "      <th>1.0</th>\n",
       "      <th>wheel</th>\n",
       "      <td>1</td>\n",
       "      <td>1</td>\n",
       "      <td>1</td>\n",
       "    </tr>\n",
       "    <tr>\n",
       "      <th>2.0</th>\n",
       "      <th>wheel</th>\n",
       "      <td>1</td>\n",
       "      <td>1</td>\n",
       "      <td>1</td>\n",
       "    </tr>\n",
       "    <tr>\n",
       "      <th rowspan=\"2\" valign=\"top\">3.0</th>\n",
       "      <th>dana_ontogeny_females</th>\n",
       "      <td>24</td>\n",
       "      <td>24</td>\n",
       "      <td>24</td>\n",
       "    </tr>\n",
       "    <tr>\n",
       "      <th>dana_ontogeny_males</th>\n",
       "      <td>15</td>\n",
       "      <td>15</td>\n",
       "      <td>15</td>\n",
       "    </tr>\n",
       "    <tr>\n",
       "      <th>...</th>\n",
       "      <th>...</th>\n",
       "      <td>...</td>\n",
       "      <td>...</td>\n",
       "      <td>...</td>\n",
       "    </tr>\n",
       "    <tr>\n",
       "      <th>995.0</th>\n",
       "      <th>wheel</th>\n",
       "      <td>1</td>\n",
       "      <td>1</td>\n",
       "      <td>1</td>\n",
       "    </tr>\n",
       "    <tr>\n",
       "      <th>996.0</th>\n",
       "      <th>wheel</th>\n",
       "      <td>1</td>\n",
       "      <td>1</td>\n",
       "      <td>1</td>\n",
       "    </tr>\n",
       "    <tr>\n",
       "      <th>997.0</th>\n",
       "      <th>wheel</th>\n",
       "      <td>1</td>\n",
       "      <td>1</td>\n",
       "      <td>1</td>\n",
       "    </tr>\n",
       "    <tr>\n",
       "      <th>998.0</th>\n",
       "      <th>wheel</th>\n",
       "      <td>1</td>\n",
       "      <td>1</td>\n",
       "      <td>1</td>\n",
       "    </tr>\n",
       "    <tr>\n",
       "      <th>999.0</th>\n",
       "      <th>wheel</th>\n",
       "      <td>1</td>\n",
       "      <td>1</td>\n",
       "      <td>1</td>\n",
       "    </tr>\n",
       "  </tbody>\n",
       "</table>\n",
       "<p>1338 rows × 3 columns</p>\n",
       "</div>"
      ],
      "text/plain": [
       "                             session  path  SessionName\n",
       "age   experiment                                       \n",
       "0.0   wheel                        1     1            1\n",
       "1.0   wheel                        1     1            1\n",
       "2.0   wheel                        1     1            1\n",
       "3.0   dana_ontogeny_females       24    24           24\n",
       "      dana_ontogeny_males         15    15           15\n",
       "...                              ...   ...          ...\n",
       "995.0 wheel                        1     1            1\n",
       "996.0 wheel                        1     1            1\n",
       "997.0 wheel                        1     1            1\n",
       "998.0 wheel                        1     1            1\n",
       "999.0 wheel                        1     1            1\n",
       "\n",
       "[1338 rows x 3 columns]"
      ]
     },
     "execution_count": 19,
     "metadata": {},
     "output_type": "execute_result"
    }
   ],
   "source": [
    "df.groupby(['age', 'experiment']).count()"
   ]
  },
  {
   "cell_type": "code",
   "execution_count": 20,
   "id": "d17abe5e",
   "metadata": {},
   "outputs": [
    {
     "name": "stdout",
     "output_type": "stream",
     "text": [
      "dana_ontogeny_females 60\n",
      "dana_ontogeny_males 60\n",
      "klothos 6\n",
      "ontogeny_females 78\n",
      "ontogeny_males 78\n",
      "longtogeny_males 78\n",
      "longtogeny_v2_females 78\n",
      "longtogeny_v2_males 78\n",
      "wheel 78\n",
      "dlight 6\n"
     ]
    }
   ],
   "source": [
    "sample_size = 6\n",
    "samples = []\n",
    "for experiment, _df in df.groupby('experiment', sort=False):\n",
    "    unique_ages = _df['age'].nunique()\n",
    "    if unique_ages > 15:\n",
    "        age_cut = pd.qcut(_df['age'], 13, labels=False)\n",
    "        _samples = _df.groupby(age_cut).sample(n=sample_size)\n",
    "    elif np.all(_df['age'].isna()):\n",
    "        _samples = _df.iloc[::(len(_df) // sample_size)]\n",
    "    else:\n",
    "        _samples = _df.groupby('age').sample(n=sample_size)\n",
    "    print(experiment, len(_samples))\n",
    "    samples.append(_samples)\n",
    "samples = pd.concat(samples)"
   ]
  },
  {
   "cell_type": "code",
   "execution_count": 21,
   "id": "0305fef1",
   "metadata": {},
   "outputs": [
    {
     "data": {
      "text/html": [
       "<div>\n",
       "<style scoped>\n",
       "    .dataframe tbody tr th:only-of-type {\n",
       "        vertical-align: middle;\n",
       "    }\n",
       "\n",
       "    .dataframe tbody tr th {\n",
       "        vertical-align: top;\n",
       "    }\n",
       "\n",
       "    .dataframe thead th {\n",
       "        text-align: right;\n",
       "    }\n",
       "</style>\n",
       "<table border=\"1\" class=\"dataframe\">\n",
       "  <thead>\n",
       "    <tr style=\"text-align: right;\">\n",
       "      <th></th>\n",
       "      <th>age</th>\n",
       "      <th>experiment</th>\n",
       "      <th>session</th>\n",
       "      <th>path</th>\n",
       "      <th>SessionName</th>\n",
       "    </tr>\n",
       "  </thead>\n",
       "  <tbody>\n",
       "    <tr>\n",
       "      <th>99</th>\n",
       "      <td>3.0</td>\n",
       "      <td>dana_ontogeny_females</td>\n",
       "      <td>session_20221007115446</td>\n",
       "      <td>/n/groups/datta/Dana/Ontogeny/raw_data/Dana_on...</td>\n",
       "      <td>fo_3wks</td>\n",
       "    </tr>\n",
       "    <tr>\n",
       "      <th>89</th>\n",
       "      <td>3.0</td>\n",
       "      <td>dana_ontogeny_females</td>\n",
       "      <td>session_20221007094130</td>\n",
       "      <td>/n/groups/datta/Dana/Ontogeny/raw_data/Dana_on...</td>\n",
       "      <td>fo_3w</td>\n",
       "    </tr>\n",
       "    <tr>\n",
       "      <th>91</th>\n",
       "      <td>3.0</td>\n",
       "      <td>dana_ontogeny_females</td>\n",
       "      <td>session_20221007100636</td>\n",
       "      <td>/n/groups/datta/Dana/Ontogeny/raw_data/Dana_on...</td>\n",
       "      <td>fo_3wks</td>\n",
       "    </tr>\n",
       "    <tr>\n",
       "      <th>90</th>\n",
       "      <td>3.0</td>\n",
       "      <td>dana_ontogeny_females</td>\n",
       "      <td>session_20221007094148</td>\n",
       "      <td>/n/groups/datta/Dana/Ontogeny/raw_data/Dana_on...</td>\n",
       "      <td>fo_3wks</td>\n",
       "    </tr>\n",
       "    <tr>\n",
       "      <th>107</th>\n",
       "      <td>3.0</td>\n",
       "      <td>dana_ontogeny_females</td>\n",
       "      <td>session_20221007131737</td>\n",
       "      <td>/n/groups/datta/Dana/Ontogeny/raw_data/Dana_on...</td>\n",
       "      <td>fo_3wks</td>\n",
       "    </tr>\n",
       "    <tr>\n",
       "      <th>...</th>\n",
       "      <td>...</td>\n",
       "      <td>...</td>\n",
       "      <td>...</td>\n",
       "      <td>...</td>\n",
       "      <td>...</td>\n",
       "    </tr>\n",
       "    <tr>\n",
       "      <th>7073</th>\n",
       "      <td>NaN</td>\n",
       "      <td>dlight</td>\n",
       "      <td>session_20230809152555-446501 (datta-realtime1)</td>\n",
       "      <td>/n/groups/datta/win/longtogeny/dlight/session_...</td>\n",
       "      <td>dlight-aging</td>\n",
       "    </tr>\n",
       "    <tr>\n",
       "      <th>7102</th>\n",
       "      <td>NaN</td>\n",
       "      <td>dlight</td>\n",
       "      <td>session_20230811174036-538526 (datta-realtime1)</td>\n",
       "      <td>/n/groups/datta/win/longtogeny/dlight/session_...</td>\n",
       "      <td>dlight-aging</td>\n",
       "    </tr>\n",
       "    <tr>\n",
       "      <th>7131</th>\n",
       "      <td>NaN</td>\n",
       "      <td>dlight</td>\n",
       "      <td>session_20230819170421-738640 (datta-realtime1)</td>\n",
       "      <td>/n/groups/datta/win/longtogeny/dlight/session_...</td>\n",
       "      <td>dlight-aging</td>\n",
       "    </tr>\n",
       "    <tr>\n",
       "      <th>7160</th>\n",
       "      <td>NaN</td>\n",
       "      <td>dlight</td>\n",
       "      <td>session_20230824172208-658594 (datta-realtime1)</td>\n",
       "      <td>/n/groups/datta/win/longtogeny/dlight/session_...</td>\n",
       "      <td>dlight-aging</td>\n",
       "    </tr>\n",
       "    <tr>\n",
       "      <th>7189</th>\n",
       "      <td>NaN</td>\n",
       "      <td>dlight</td>\n",
       "      <td>session_20230830155626-258731 (datta-realtime1)</td>\n",
       "      <td>/n/groups/datta/win/longtogeny/dlight/session_...</td>\n",
       "      <td>dlight-aging</td>\n",
       "    </tr>\n",
       "  </tbody>\n",
       "</table>\n",
       "<p>600 rows × 5 columns</p>\n",
       "</div>"
      ],
      "text/plain": [
       "      age             experiment  \\\n",
       "99    3.0  dana_ontogeny_females   \n",
       "89    3.0  dana_ontogeny_females   \n",
       "91    3.0  dana_ontogeny_females   \n",
       "90    3.0  dana_ontogeny_females   \n",
       "107   3.0  dana_ontogeny_females   \n",
       "...   ...                    ...   \n",
       "7073  NaN                 dlight   \n",
       "7102  NaN                 dlight   \n",
       "7131  NaN                 dlight   \n",
       "7160  NaN                 dlight   \n",
       "7189  NaN                 dlight   \n",
       "\n",
       "                                              session  \\\n",
       "99                             session_20221007115446   \n",
       "89                             session_20221007094130   \n",
       "91                             session_20221007100636   \n",
       "90                             session_20221007094148   \n",
       "107                            session_20221007131737   \n",
       "...                                               ...   \n",
       "7073  session_20230809152555-446501 (datta-realtime1)   \n",
       "7102  session_20230811174036-538526 (datta-realtime1)   \n",
       "7131  session_20230819170421-738640 (datta-realtime1)   \n",
       "7160  session_20230824172208-658594 (datta-realtime1)   \n",
       "7189  session_20230830155626-258731 (datta-realtime1)   \n",
       "\n",
       "                                                   path   SessionName  \n",
       "99    /n/groups/datta/Dana/Ontogeny/raw_data/Dana_on...       fo_3wks  \n",
       "89    /n/groups/datta/Dana/Ontogeny/raw_data/Dana_on...         fo_3w  \n",
       "91    /n/groups/datta/Dana/Ontogeny/raw_data/Dana_on...       fo_3wks  \n",
       "90    /n/groups/datta/Dana/Ontogeny/raw_data/Dana_on...       fo_3wks  \n",
       "107   /n/groups/datta/Dana/Ontogeny/raw_data/Dana_on...       fo_3wks  \n",
       "...                                                 ...           ...  \n",
       "7073  /n/groups/datta/win/longtogeny/dlight/session_...  dlight-aging  \n",
       "7102  /n/groups/datta/win/longtogeny/dlight/session_...  dlight-aging  \n",
       "7131  /n/groups/datta/win/longtogeny/dlight/session_...  dlight-aging  \n",
       "7160  /n/groups/datta/win/longtogeny/dlight/session_...  dlight-aging  \n",
       "7189  /n/groups/datta/win/longtogeny/dlight/session_...  dlight-aging  \n",
       "\n",
       "[600 rows x 5 columns]"
      ]
     },
     "execution_count": 21,
     "metadata": {},
     "output_type": "execute_result"
    }
   ],
   "source": [
    "samples"
   ]
  },
  {
   "cell_type": "code",
   "execution_count": 22,
   "id": "9a45b8ac-202f-422a-bc66-fb104dc7edca",
   "metadata": {},
   "outputs": [
    {
     "data": {
      "text/plain": [
       "600"
      ]
     },
     "execution_count": 22,
     "metadata": {},
     "output_type": "execute_result"
    }
   ],
   "source": [
    "len(samples)"
   ]
  },
  {
   "cell_type": "code",
   "execution_count": 23,
   "id": "1118ccc4-b480-44cb-9e8e-9e3ff5d472fa",
   "metadata": {},
   "outputs": [
    {
     "data": {
      "text/plain": [
       "21600000"
      ]
     },
     "execution_count": 23,
     "metadata": {},
     "output_type": "execute_result"
    }
   ],
   "source": [
    "len(samples) * 30 * 60 * 20"
   ]
  },
  {
   "cell_type": "code",
   "execution_count": 24,
   "id": "6b7574a0-b502-413a-bcdd-979290d1b00a",
   "metadata": {
    "tags": []
   },
   "outputs": [
    {
     "name": "stdout",
     "output_type": "stream",
     "text": [
      "/n/groups/datta/Dana/Ontogeny/raw_data/longtogeny_pre_unet/Males/session_20230520125314/proc/results_00.h5 exists in training set\n"
     ]
    }
   ],
   "source": [
    "for path in map(Path, samples['path']):\n",
    "    try:\n",
    "        new_path = agg_folder / (path.parents[1].name + '.h5')\n",
    "        new_path.symlink_to(path)\n",
    "        new_path = agg_folder / (path.parents[1].name + '.yaml')\n",
    "        new_path.symlink_to(path.with_suffix('.yaml'))\n",
    "    except FileExistsError:\n",
    "        print(path, 'exists in training set')"
   ]
  },
  {
   "cell_type": "code",
   "execution_count": null,
   "id": "b1b107a6-e6c8-44dc-87e7-3034f9caab79",
   "metadata": {},
   "outputs": [],
   "source": []
  }
 ],
 "metadata": {
  "kernelspec": {
   "display_name": "Ontogeny",
   "language": "python",
   "name": "aging"
  },
  "language_info": {
   "codemirror_mode": {
    "name": "ipython",
    "version": 3
   },
   "file_extension": ".py",
   "mimetype": "text/x-python",
   "name": "python",
   "nbconvert_exporter": "python",
   "pygments_lexer": "ipython3",
   "version": "3.10.10"
  },
  "widgets": {
   "application/vnd.jupyter.widget-state+json": {
    "state": {},
    "version_major": 2,
    "version_minor": 0
   }
  }
 },
 "nbformat": 4,
 "nbformat_minor": 5
}
