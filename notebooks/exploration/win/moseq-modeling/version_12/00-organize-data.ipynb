{
 "cells": [
  {
   "cell_type": "markdown",
   "id": "56438c6c-2791-41e5-9b4e-24687eeaedf0",
   "metadata": {},
   "source": [
    "# Organize data for running PCA\n",
    "\n",
    "Two main approaches:\n",
    "1. select a subset of all ontogeny sessions, a few sessions from each age and sex\n",
    "2. select a subset of all longtogeny sessions, a few sessions from each age and sex. Make sure to have the same number of sessions and similar ages per mouse."
   ]
  },
  {
   "cell_type": "code",
   "execution_count": 1,
   "id": "38001854-b71c-4131-97d7-b1b7456a4803",
   "metadata": {
    "tags": []
   },
   "outputs": [],
   "source": [
    "import json\n",
    "import h5py\n",
    "import pandas as pd\n",
    "from pathlib import Path\n",
    "from toolz import concat, curry, frequencies\n",
    "from aging.organization.paths import FOLDERS\n",
    "from aging.organization.dataframes import get_experiment, get_age"
   ]
  },
  {
   "cell_type": "code",
   "execution_count": 2,
   "id": "f05c19a1-47c5-4850-86f6-226bdc825dca",
   "metadata": {},
   "outputs": [
    {
     "data": {
      "text/plain": [
       "(PosixPath('/n/groups/datta/Dana/Ontogeny/raw_data/Ontogeny_females'),\n",
       " PosixPath('/n/groups/datta/Dana/Ontogeny/raw_data/Ontogeny_males'),\n",
       " PosixPath('/n/groups/datta/Dana/Ontogeny/raw_data/Dana_ontogeny/Males'),\n",
       " PosixPath('/n/groups/datta/Dana/Ontogeny/raw_data/Dana_ontogeny/Females'),\n",
       " PosixPath('/n/groups/datta/Dana/Ontogeny/raw_data/longtogeny_pre_unet/Males'),\n",
       " PosixPath('/n/groups/datta/min/longtogeny_072023/Males'),\n",
       " PosixPath('/n/groups/datta/min/longtogeny_072023/Females'),\n",
       " PosixPath('/n/groups/datta/min/wheel_062023'),\n",
       " PosixPath('/n/groups/datta/win/longtogeny/dlight'),\n",
       " PosixPath('/n/groups/datta/min/longtogeny_052023/Males'),\n",
       " PosixPath('/n/groups/datta/win/longtogeny/data/jackson-labs/datta_i'))"
      ]
     },
     "execution_count": 2,
     "metadata": {},
     "output_type": "execute_result"
    }
   ],
   "source": [
    "FOLDERS"
   ]
  },
  {
   "cell_type": "code",
   "execution_count": 3,
   "id": "dec7c436-03c2-4cfe-8d06-cdb3d4c3c86b",
   "metadata": {
    "tags": []
   },
   "outputs": [],
   "source": [
    "arhmm_version = 12\n",
    "size_norm_key = 'win_size_norm_frames_v6'"
   ]
  },
  {
   "cell_type": "code",
   "execution_count": 4,
   "id": "fc788d60-8b73-4418-aad3-857c0e03de03",
   "metadata": {
    "tags": []
   },
   "outputs": [],
   "source": [
    "session_exclusion_list = '/n/groups/datta/win/longtogeny/data/metadata/Ontogeny experiment list - Session quality control.csv'\n",
    "exclusion_df = pd.read_csv(session_exclusion_list, header=0)"
   ]
  },
  {
   "cell_type": "code",
   "execution_count": 5,
   "id": "306b14b0-3896-46c8-b04c-5f4c4e300148",
   "metadata": {
    "tags": []
   },
   "outputs": [
    {
     "data": {
      "text/plain": [
       "array(['y', 'n', '?'], dtype=object)"
      ]
     },
     "execution_count": 5,
     "metadata": {},
     "output_type": "execute_result"
    }
   ],
   "source": [
    "exclusion_df['Keep?'] = exclusion_df['Keep?'].str.lower()\n",
    "exclusion_df['Keep?'].unique()"
   ]
  },
  {
   "cell_type": "code",
   "execution_count": 6,
   "id": "8dbf748c-7cb8-4035-a5d4-76a6139d1d41",
   "metadata": {
    "tags": []
   },
   "outputs": [],
   "source": [
    "exclusions = exclusion_df.query('`Keep?` != \"y\"')"
   ]
  },
  {
   "cell_type": "code",
   "execution_count": 8,
   "id": "1f514675-8c47-4dd0-9b24-04887210d64b",
   "metadata": {
    "tags": []
   },
   "outputs": [],
   "source": [
    "def is_size_normalized(file):\n",
    "    try:\n",
    "        with h5py.File(file, 'r') as h5f:\n",
    "            return size_norm_key in h5f\n",
    "    except OSError:\n",
    "        print(file)\n",
    "        return False\n",
    "\n",
    "\n",
    "def not_excluded(file):\n",
    "    return str(file) not in exclusions['File path'].values\n",
    "\n",
    "\n",
    "@curry\n",
    "def thread_and(funcs, x):\n",
    "    return all(f(x) for f in funcs)\n",
    "\n",
    "\n",
    "@curry\n",
    "def not_double(parent_counts, path):\n",
    "    if \"jackson\" not in str(path) and parent_counts[str(path.parents[1])] > 1:\n",
    "        return 'proc_cleaned' == path.parent.name\n",
    "    return True"
   ]
  },
  {
   "cell_type": "markdown",
   "id": "28b8bb46-0725-4090-a12e-f6e6f0797875",
   "metadata": {},
   "source": [
    "## Organize ontogeny sessions\n",
    "\n",
    "These are the data that will be run through PCA and the modeling steps\n",
    "\n",
    "- create a dataframe with the file path, age, sex, and session name\n",
    "- do a groupby and subsample the same number of sessions for each (age, sex) group\n",
    "- symlink results.h5 files to a new folder"
   ]
  },
  {
   "cell_type": "code",
   "execution_count": 9,
   "id": "aec72f89-9bf2-465e-9497-ad50d07e4033",
   "metadata": {
    "tags": []
   },
   "outputs": [],
   "source": [
    "agg_folder = Path(f'/n/groups/datta/win/longtogeny/data/ontogeny/version_{arhmm_version:02d}/training_data')\n",
    "agg_folder.mkdir(exist_ok=True, parents=True)"
   ]
  },
  {
   "cell_type": "code",
   "execution_count": 11,
   "id": "2eb8dae8-a780-40fc-8a38-318292a14c33",
   "metadata": {},
   "outputs": [
    {
     "data": {
      "text/plain": [
       "(PosixPath('/n/groups/datta/Dana/Ontogeny/raw_data/Ontogeny_females'),\n",
       " PosixPath('/n/groups/datta/Dana/Ontogeny/raw_data/Ontogeny_males'),\n",
       " PosixPath('/n/groups/datta/Dana/Ontogeny/raw_data/Dana_ontogeny/Males'),\n",
       " PosixPath('/n/groups/datta/Dana/Ontogeny/raw_data/Dana_ontogeny/Females'))"
      ]
     },
     "execution_count": 11,
     "metadata": {},
     "output_type": "execute_result"
    }
   ],
   "source": [
    "FOLDERS[:4]"
   ]
  },
  {
   "cell_type": "code",
   "execution_count": 12,
   "id": "26cddb9f-e03e-42cc-83bb-1c2aa0bc4e2f",
   "metadata": {
    "tags": []
   },
   "outputs": [
    {
     "name": "stdout",
     "output_type": "stream",
     "text": [
      "/n/groups/datta/Dana/Ontogeny/raw_data/Dana_ontogeny/Males/12months_28042021/session_20210428102836/proc_cleaned/results_00.h5\n"
     ]
    }
   ],
   "source": [
    "# filter files for the ones with size_normalized_frames\n",
    "files = sorted(\n",
    "    filter(\n",
    "        thread_and((is_size_normalized, not_excluded)),\n",
    "        concat(f.glob(\"**/*results_00.h5\") for f in FOLDERS[:4]),\n",
    "    )\n",
    ")"
   ]
  },
  {
   "cell_type": "code",
   "execution_count": 13,
   "id": "051a2e2f-cd18-4f4e-8012-6aabb0f89aa0",
   "metadata": {},
   "outputs": [],
   "source": [
    "parent_counts = frequencies(str(f.parents[1]) for f in files)\n",
    "files = list(filter(not_double(parent_counts), files))"
   ]
  },
  {
   "cell_type": "code",
   "execution_count": 14,
   "id": "03719788-6aa0-49a4-ace4-1b9e55ecf5aa",
   "metadata": {
    "tags": []
   },
   "outputs": [
    {
     "name": "stdout",
     "output_type": "stream",
     "text": [
      "KeyError:  /n/groups/datta/Dana/Ontogeny/raw_data/Dana_ontogeny/Females/session_20230721072116/proc/results_00.h5\n",
      "KeyError:  /n/groups/datta/Dana/Ontogeny/raw_data/Dana_ontogeny/Females/session_20230721072215/proc/results_00.h5\n",
      "KeyError:  /n/groups/datta/Dana/Ontogeny/raw_data/Dana_ontogeny/Females/session_20230721072329/proc/results_00.h5\n",
      "KeyError:  /n/groups/datta/Dana/Ontogeny/raw_data/Dana_ontogeny/Females/session_20230721082639/proc/results_00.h5\n",
      "KeyError:  /n/groups/datta/Dana/Ontogeny/raw_data/Dana_ontogeny/Females/session_20230721082719/proc/results_00.h5\n",
      "KeyError:  /n/groups/datta/Dana/Ontogeny/raw_data/Dana_ontogeny/Females/session_20230721082802/proc/results_00.h5\n",
      "KeyError:  /n/groups/datta/Dana/Ontogeny/raw_data/Dana_ontogeny/Females/session_20230721091042/proc/results_00.h5\n",
      "KeyError:  /n/groups/datta/Dana/Ontogeny/raw_data/Dana_ontogeny/Females/session_20230721091057/proc/results_00.h5\n",
      "KeyError:  /n/groups/datta/Dana/Ontogeny/raw_data/Dana_ontogeny/Females/session_20230721091106/proc/results_00.h5\n",
      "KeyError:  /n/groups/datta/Dana/Ontogeny/raw_data/Dana_ontogeny/Females/session_20230721094917/proc/results_00.h5\n",
      "KeyError:  /n/groups/datta/Dana/Ontogeny/raw_data/Dana_ontogeny/Females/session_20230721094942/proc/results_00.h5\n",
      "KeyError:  /n/groups/datta/Dana/Ontogeny/raw_data/Dana_ontogeny/Females/session_20230721094953/proc/results_00.h5\n",
      "KeyError:  /n/groups/datta/Dana/Ontogeny/raw_data/Dana_ontogeny/Females/session_20230721101942/proc/results_00.h5\n",
      "KeyError:  /n/groups/datta/Dana/Ontogeny/raw_data/Dana_ontogeny/Females/session_20230721112646/proc/results_00.h5\n",
      "KeyError:  /n/groups/datta/Dana/Ontogeny/raw_data/Dana_ontogeny/Females/session_20230721121028/proc/results_00.h5\n",
      "KeyError:  /n/groups/datta/Dana/Ontogeny/raw_data/Dana_ontogeny/Females/session_20230721124928/proc/results_00.h5\n"
     ]
    }
   ],
   "source": [
    "df = []\n",
    "for f in files:\n",
    "    try:\n",
    "        md = json.load((f.parents[1] / \"metadata.json\").open())\n",
    "        data = dict(\n",
    "            age=get_age(f),\n",
    "            experiment=get_experiment(f),\n",
    "            session=f.parents[1].name,\n",
    "            # sex=f.parents[3].name.split(\"_\")[-1][:-1],\n",
    "            path=str(f),\n",
    "            SessionName=md[\"SessionName\"],\n",
    "        )\n",
    "        df.append(data)\n",
    "    except KeyError:\n",
    "        print(\"KeyError: \", f)\n",
    "    except FileNotFoundError:\n",
    "        continue\n",
    "df = pd.DataFrame(df)"
   ]
  },
  {
   "cell_type": "code",
   "execution_count": 15,
   "id": "dd956c5d-92da-42a2-86d5-037f6db54dc0",
   "metadata": {},
   "outputs": [
    {
     "data": {
      "text/plain": [
       "905"
      ]
     },
     "execution_count": 15,
     "metadata": {},
     "output_type": "execute_result"
    }
   ],
   "source": [
    "len(df)"
   ]
  },
  {
   "cell_type": "code",
   "execution_count": 16,
   "id": "feac8141-9a13-4ef5-bf86-9f55779e9d0e",
   "metadata": {},
   "outputs": [
    {
     "data": {
      "text/html": [
       "<div>\n",
       "<style scoped>\n",
       "    .dataframe tbody tr th:only-of-type {\n",
       "        vertical-align: middle;\n",
       "    }\n",
       "\n",
       "    .dataframe tbody tr th {\n",
       "        vertical-align: top;\n",
       "    }\n",
       "\n",
       "    .dataframe thead th {\n",
       "        text-align: right;\n",
       "    }\n",
       "</style>\n",
       "<table border=\"1\" class=\"dataframe\">\n",
       "  <thead>\n",
       "    <tr style=\"text-align: right;\">\n",
       "      <th></th>\n",
       "      <th>age</th>\n",
       "      <th>experiment</th>\n",
       "      <th>session</th>\n",
       "      <th>path</th>\n",
       "      <th>SessionName</th>\n",
       "    </tr>\n",
       "  </thead>\n",
       "  <tbody>\n",
       "    <tr>\n",
       "      <th>0</th>\n",
       "      <td>52</td>\n",
       "      <td>dana_ontogeny_females</td>\n",
       "      <td>session_20221018094245</td>\n",
       "      <td>/n/groups/datta/Dana/Ontogeny/raw_data/Dana_on...</td>\n",
       "      <td>fo_12months</td>\n",
       "    </tr>\n",
       "    <tr>\n",
       "      <th>1</th>\n",
       "      <td>52</td>\n",
       "      <td>dana_ontogeny_females</td>\n",
       "      <td>session_20221018094429</td>\n",
       "      <td>/n/groups/datta/Dana/Ontogeny/raw_data/Dana_on...</td>\n",
       "      <td>fo_12months</td>\n",
       "    </tr>\n",
       "    <tr>\n",
       "      <th>2</th>\n",
       "      <td>52</td>\n",
       "      <td>dana_ontogeny_females</td>\n",
       "      <td>session_20221018094537</td>\n",
       "      <td>/n/groups/datta/Dana/Ontogeny/raw_data/Dana_on...</td>\n",
       "      <td>fo_12months</td>\n",
       "    </tr>\n",
       "    <tr>\n",
       "      <th>3</th>\n",
       "      <td>52</td>\n",
       "      <td>dana_ontogeny_females</td>\n",
       "      <td>session_20221018094629</td>\n",
       "      <td>/n/groups/datta/Dana/Ontogeny/raw_data/Dana_on...</td>\n",
       "      <td>fo_12months</td>\n",
       "    </tr>\n",
       "    <tr>\n",
       "      <th>4</th>\n",
       "      <td>52</td>\n",
       "      <td>dana_ontogeny_females</td>\n",
       "      <td>session_20221018110503</td>\n",
       "      <td>/n/groups/datta/Dana/Ontogeny/raw_data/Dana_on...</td>\n",
       "      <td>fo_12months</td>\n",
       "    </tr>\n",
       "  </tbody>\n",
       "</table>\n",
       "</div>"
      ],
      "text/plain": [
       "   age             experiment                 session  \\\n",
       "0   52  dana_ontogeny_females  session_20221018094245   \n",
       "1   52  dana_ontogeny_females  session_20221018094429   \n",
       "2   52  dana_ontogeny_females  session_20221018094537   \n",
       "3   52  dana_ontogeny_females  session_20221018094629   \n",
       "4   52  dana_ontogeny_females  session_20221018110503   \n",
       "\n",
       "                                                path  SessionName  \n",
       "0  /n/groups/datta/Dana/Ontogeny/raw_data/Dana_on...  fo_12months  \n",
       "1  /n/groups/datta/Dana/Ontogeny/raw_data/Dana_on...  fo_12months  \n",
       "2  /n/groups/datta/Dana/Ontogeny/raw_data/Dana_on...  fo_12months  \n",
       "3  /n/groups/datta/Dana/Ontogeny/raw_data/Dana_on...  fo_12months  \n",
       "4  /n/groups/datta/Dana/Ontogeny/raw_data/Dana_on...  fo_12months  "
      ]
     },
     "execution_count": 16,
     "metadata": {},
     "output_type": "execute_result"
    }
   ],
   "source": [
    "df.head()"
   ]
  },
  {
   "cell_type": "code",
   "execution_count": 17,
   "id": "4017a7c2-1999-44cf-8bf4-d9d97e7a4f9c",
   "metadata": {
    "tags": []
   },
   "outputs": [],
   "source": [
    "df = df[~df['SessionName'].str.contains(\"CRL\")]"
   ]
  },
  {
   "cell_type": "code",
   "execution_count": 18,
   "id": "ac228e74-0ab0-4e60-b0e2-0de3c7078ba5",
   "metadata": {
    "tags": []
   },
   "outputs": [
    {
     "data": {
      "text/html": [
       "<div>\n",
       "<style scoped>\n",
       "    .dataframe tbody tr th:only-of-type {\n",
       "        vertical-align: middle;\n",
       "    }\n",
       "\n",
       "    .dataframe tbody tr th {\n",
       "        vertical-align: top;\n",
       "    }\n",
       "\n",
       "    .dataframe thead th {\n",
       "        text-align: right;\n",
       "    }\n",
       "</style>\n",
       "<table border=\"1\" class=\"dataframe\">\n",
       "  <thead>\n",
       "    <tr style=\"text-align: right;\">\n",
       "      <th></th>\n",
       "      <th></th>\n",
       "      <th>session</th>\n",
       "      <th>path</th>\n",
       "      <th>SessionName</th>\n",
       "    </tr>\n",
       "    <tr>\n",
       "      <th>age</th>\n",
       "      <th>experiment</th>\n",
       "      <th></th>\n",
       "      <th></th>\n",
       "      <th></th>\n",
       "    </tr>\n",
       "  </thead>\n",
       "  <tbody>\n",
       "    <tr>\n",
       "      <th rowspan=\"2\" valign=\"top\">3</th>\n",
       "      <th>dana_ontogeny_females</th>\n",
       "      <td>24</td>\n",
       "      <td>24</td>\n",
       "      <td>24</td>\n",
       "    </tr>\n",
       "    <tr>\n",
       "      <th>dana_ontogeny_males</th>\n",
       "      <td>15</td>\n",
       "      <td>15</td>\n",
       "      <td>15</td>\n",
       "    </tr>\n",
       "    <tr>\n",
       "      <th rowspan=\"2\" valign=\"top\">5</th>\n",
       "      <th>dana_ontogeny_females</th>\n",
       "      <td>24</td>\n",
       "      <td>24</td>\n",
       "      <td>24</td>\n",
       "    </tr>\n",
       "    <tr>\n",
       "      <th>dana_ontogeny_males</th>\n",
       "      <td>16</td>\n",
       "      <td>16</td>\n",
       "      <td>16</td>\n",
       "    </tr>\n",
       "    <tr>\n",
       "      <th rowspan=\"2\" valign=\"top\">7</th>\n",
       "      <th>dana_ontogeny_females</th>\n",
       "      <td>24</td>\n",
       "      <td>24</td>\n",
       "      <td>24</td>\n",
       "    </tr>\n",
       "    <tr>\n",
       "      <th>dana_ontogeny_males</th>\n",
       "      <td>16</td>\n",
       "      <td>16</td>\n",
       "      <td>16</td>\n",
       "    </tr>\n",
       "    <tr>\n",
       "      <th rowspan=\"2\" valign=\"top\">9</th>\n",
       "      <th>dana_ontogeny_females</th>\n",
       "      <td>24</td>\n",
       "      <td>24</td>\n",
       "      <td>24</td>\n",
       "    </tr>\n",
       "    <tr>\n",
       "      <th>dana_ontogeny_males</th>\n",
       "      <td>16</td>\n",
       "      <td>16</td>\n",
       "      <td>16</td>\n",
       "    </tr>\n",
       "    <tr>\n",
       "      <th rowspan=\"2\" valign=\"top\">12</th>\n",
       "      <th>dana_ontogeny_females</th>\n",
       "      <td>24</td>\n",
       "      <td>24</td>\n",
       "      <td>24</td>\n",
       "    </tr>\n",
       "    <tr>\n",
       "      <th>dana_ontogeny_males</th>\n",
       "      <td>27</td>\n",
       "      <td>27</td>\n",
       "      <td>27</td>\n",
       "    </tr>\n",
       "    <tr>\n",
       "      <th rowspan=\"2\" valign=\"top\">16</th>\n",
       "      <th>dana_ontogeny_females</th>\n",
       "      <td>16</td>\n",
       "      <td>16</td>\n",
       "      <td>16</td>\n",
       "    </tr>\n",
       "    <tr>\n",
       "      <th>ontogeny_males</th>\n",
       "      <td>16</td>\n",
       "      <td>16</td>\n",
       "      <td>16</td>\n",
       "    </tr>\n",
       "    <tr>\n",
       "      <th rowspan=\"2\" valign=\"top\">20</th>\n",
       "      <th>ontogeny_females</th>\n",
       "      <td>16</td>\n",
       "      <td>16</td>\n",
       "      <td>16</td>\n",
       "    </tr>\n",
       "    <tr>\n",
       "      <th>ontogeny_males</th>\n",
       "      <td>16</td>\n",
       "      <td>16</td>\n",
       "      <td>16</td>\n",
       "    </tr>\n",
       "    <tr>\n",
       "      <th rowspan=\"2\" valign=\"top\">24</th>\n",
       "      <th>dana_ontogeny_females</th>\n",
       "      <td>24</td>\n",
       "      <td>24</td>\n",
       "      <td>24</td>\n",
       "    </tr>\n",
       "    <tr>\n",
       "      <th>dana_ontogeny_males</th>\n",
       "      <td>24</td>\n",
       "      <td>24</td>\n",
       "      <td>24</td>\n",
       "    </tr>\n",
       "    <tr>\n",
       "      <th>28</th>\n",
       "      <th>ontogeny_males</th>\n",
       "      <td>16</td>\n",
       "      <td>16</td>\n",
       "      <td>16</td>\n",
       "    </tr>\n",
       "    <tr>\n",
       "      <th rowspan=\"2\" valign=\"top\">32</th>\n",
       "      <th>ontogeny_females</th>\n",
       "      <td>16</td>\n",
       "      <td>16</td>\n",
       "      <td>16</td>\n",
       "    </tr>\n",
       "    <tr>\n",
       "      <th>ontogeny_males</th>\n",
       "      <td>16</td>\n",
       "      <td>16</td>\n",
       "      <td>16</td>\n",
       "    </tr>\n",
       "    <tr>\n",
       "      <th rowspan=\"2\" valign=\"top\">35</th>\n",
       "      <th>dana_ontogeny_females</th>\n",
       "      <td>16</td>\n",
       "      <td>16</td>\n",
       "      <td>16</td>\n",
       "    </tr>\n",
       "    <tr>\n",
       "      <th>dana_ontogeny_males</th>\n",
       "      <td>16</td>\n",
       "      <td>16</td>\n",
       "      <td>16</td>\n",
       "    </tr>\n",
       "    <tr>\n",
       "      <th rowspan=\"2\" valign=\"top\">36</th>\n",
       "      <th>ontogeny_females</th>\n",
       "      <td>16</td>\n",
       "      <td>16</td>\n",
       "      <td>16</td>\n",
       "    </tr>\n",
       "    <tr>\n",
       "      <th>ontogeny_males</th>\n",
       "      <td>16</td>\n",
       "      <td>16</td>\n",
       "      <td>16</td>\n",
       "    </tr>\n",
       "    <tr>\n",
       "      <th rowspan=\"2\" valign=\"top\">40</th>\n",
       "      <th>ontogeny_females</th>\n",
       "      <td>16</td>\n",
       "      <td>16</td>\n",
       "      <td>16</td>\n",
       "    </tr>\n",
       "    <tr>\n",
       "      <th>ontogeny_males</th>\n",
       "      <td>16</td>\n",
       "      <td>16</td>\n",
       "      <td>16</td>\n",
       "    </tr>\n",
       "    <tr>\n",
       "      <th rowspan=\"2\" valign=\"top\">44</th>\n",
       "      <th>ontogeny_females</th>\n",
       "      <td>16</td>\n",
       "      <td>16</td>\n",
       "      <td>16</td>\n",
       "    </tr>\n",
       "    <tr>\n",
       "      <th>ontogeny_males</th>\n",
       "      <td>16</td>\n",
       "      <td>16</td>\n",
       "      <td>16</td>\n",
       "    </tr>\n",
       "    <tr>\n",
       "      <th rowspan=\"2\" valign=\"top\">48</th>\n",
       "      <th>ontogeny_females</th>\n",
       "      <td>16</td>\n",
       "      <td>16</td>\n",
       "      <td>16</td>\n",
       "    </tr>\n",
       "    <tr>\n",
       "      <th>ontogeny_males</th>\n",
       "      <td>16</td>\n",
       "      <td>16</td>\n",
       "      <td>16</td>\n",
       "    </tr>\n",
       "    <tr>\n",
       "      <th rowspan=\"2\" valign=\"top\">52</th>\n",
       "      <th>dana_ontogeny_females</th>\n",
       "      <td>24</td>\n",
       "      <td>24</td>\n",
       "      <td>24</td>\n",
       "    </tr>\n",
       "    <tr>\n",
       "      <th>dana_ontogeny_males</th>\n",
       "      <td>26</td>\n",
       "      <td>26</td>\n",
       "      <td>26</td>\n",
       "    </tr>\n",
       "    <tr>\n",
       "      <th rowspan=\"2\" valign=\"top\">56</th>\n",
       "      <th>ontogeny_females</th>\n",
       "      <td>16</td>\n",
       "      <td>16</td>\n",
       "      <td>16</td>\n",
       "    </tr>\n",
       "    <tr>\n",
       "      <th>ontogeny_males</th>\n",
       "      <td>16</td>\n",
       "      <td>16</td>\n",
       "      <td>16</td>\n",
       "    </tr>\n",
       "    <tr>\n",
       "      <th rowspan=\"2\" valign=\"top\">60</th>\n",
       "      <th>ontogeny_females</th>\n",
       "      <td>16</td>\n",
       "      <td>16</td>\n",
       "      <td>16</td>\n",
       "    </tr>\n",
       "    <tr>\n",
       "      <th>ontogeny_males</th>\n",
       "      <td>16</td>\n",
       "      <td>16</td>\n",
       "      <td>16</td>\n",
       "    </tr>\n",
       "    <tr>\n",
       "      <th rowspan=\"2\" valign=\"top\">64</th>\n",
       "      <th>ontogeny_females</th>\n",
       "      <td>16</td>\n",
       "      <td>16</td>\n",
       "      <td>16</td>\n",
       "    </tr>\n",
       "    <tr>\n",
       "      <th>ontogeny_males</th>\n",
       "      <td>15</td>\n",
       "      <td>15</td>\n",
       "      <td>15</td>\n",
       "    </tr>\n",
       "    <tr>\n",
       "      <th rowspan=\"2\" valign=\"top\">68</th>\n",
       "      <th>ontogeny_females</th>\n",
       "      <td>16</td>\n",
       "      <td>16</td>\n",
       "      <td>16</td>\n",
       "    </tr>\n",
       "    <tr>\n",
       "      <th>ontogeny_males</th>\n",
       "      <td>16</td>\n",
       "      <td>16</td>\n",
       "      <td>16</td>\n",
       "    </tr>\n",
       "    <tr>\n",
       "      <th>72</th>\n",
       "      <th>ontogeny_males</th>\n",
       "      <td>16</td>\n",
       "      <td>16</td>\n",
       "      <td>16</td>\n",
       "    </tr>\n",
       "    <tr>\n",
       "      <th rowspan=\"3\" valign=\"top\">78</th>\n",
       "      <th>dana_ontogeny_females</th>\n",
       "      <td>24</td>\n",
       "      <td>24</td>\n",
       "      <td>24</td>\n",
       "    </tr>\n",
       "    <tr>\n",
       "      <th>dana_ontogeny_males</th>\n",
       "      <td>27</td>\n",
       "      <td>27</td>\n",
       "      <td>27</td>\n",
       "    </tr>\n",
       "    <tr>\n",
       "      <th>ontogeny_females</th>\n",
       "      <td>16</td>\n",
       "      <td>16</td>\n",
       "      <td>16</td>\n",
       "    </tr>\n",
       "    <tr>\n",
       "      <th rowspan=\"2\" valign=\"top\">80</th>\n",
       "      <th>ontogeny_females</th>\n",
       "      <td>8</td>\n",
       "      <td>8</td>\n",
       "      <td>8</td>\n",
       "    </tr>\n",
       "    <tr>\n",
       "      <th>ontogeny_males</th>\n",
       "      <td>16</td>\n",
       "      <td>16</td>\n",
       "      <td>16</td>\n",
       "    </tr>\n",
       "    <tr>\n",
       "      <th rowspan=\"2\" valign=\"top\">84</th>\n",
       "      <th>ontogeny_females</th>\n",
       "      <td>16</td>\n",
       "      <td>16</td>\n",
       "      <td>16</td>\n",
       "    </tr>\n",
       "    <tr>\n",
       "      <th>ontogeny_males</th>\n",
       "      <td>16</td>\n",
       "      <td>16</td>\n",
       "      <td>16</td>\n",
       "    </tr>\n",
       "    <tr>\n",
       "      <th rowspan=\"2\" valign=\"top\">90</th>\n",
       "      <th>dana_ontogeny_males</th>\n",
       "      <td>16</td>\n",
       "      <td>16</td>\n",
       "      <td>16</td>\n",
       "    </tr>\n",
       "    <tr>\n",
       "      <th>ontogeny_females</th>\n",
       "      <td>8</td>\n",
       "      <td>8</td>\n",
       "      <td>8</td>\n",
       "    </tr>\n",
       "    <tr>\n",
       "      <th>103</th>\n",
       "      <th>ontogeny_males</th>\n",
       "      <td>11</td>\n",
       "      <td>11</td>\n",
       "      <td>11</td>\n",
       "    </tr>\n",
       "    <tr>\n",
       "      <th>127</th>\n",
       "      <th>ontogeny_females</th>\n",
       "      <td>8</td>\n",
       "      <td>8</td>\n",
       "      <td>8</td>\n",
       "    </tr>\n",
       "  </tbody>\n",
       "</table>\n",
       "</div>"
      ],
      "text/plain": [
       "                           session  path  SessionName\n",
       "age experiment                                       \n",
       "3   dana_ontogeny_females       24    24           24\n",
       "    dana_ontogeny_males         15    15           15\n",
       "5   dana_ontogeny_females       24    24           24\n",
       "    dana_ontogeny_males         16    16           16\n",
       "7   dana_ontogeny_females       24    24           24\n",
       "    dana_ontogeny_males         16    16           16\n",
       "9   dana_ontogeny_females       24    24           24\n",
       "    dana_ontogeny_males         16    16           16\n",
       "12  dana_ontogeny_females       24    24           24\n",
       "    dana_ontogeny_males         27    27           27\n",
       "16  dana_ontogeny_females       16    16           16\n",
       "    ontogeny_males              16    16           16\n",
       "20  ontogeny_females            16    16           16\n",
       "    ontogeny_males              16    16           16\n",
       "24  dana_ontogeny_females       24    24           24\n",
       "    dana_ontogeny_males         24    24           24\n",
       "28  ontogeny_males              16    16           16\n",
       "32  ontogeny_females            16    16           16\n",
       "    ontogeny_males              16    16           16\n",
       "35  dana_ontogeny_females       16    16           16\n",
       "    dana_ontogeny_males         16    16           16\n",
       "36  ontogeny_females            16    16           16\n",
       "    ontogeny_males              16    16           16\n",
       "40  ontogeny_females            16    16           16\n",
       "    ontogeny_males              16    16           16\n",
       "44  ontogeny_females            16    16           16\n",
       "    ontogeny_males              16    16           16\n",
       "48  ontogeny_females            16    16           16\n",
       "    ontogeny_males              16    16           16\n",
       "52  dana_ontogeny_females       24    24           24\n",
       "    dana_ontogeny_males         26    26           26\n",
       "56  ontogeny_females            16    16           16\n",
       "    ontogeny_males              16    16           16\n",
       "60  ontogeny_females            16    16           16\n",
       "    ontogeny_males              16    16           16\n",
       "64  ontogeny_females            16    16           16\n",
       "    ontogeny_males              15    15           15\n",
       "68  ontogeny_females            16    16           16\n",
       "    ontogeny_males              16    16           16\n",
       "72  ontogeny_males              16    16           16\n",
       "78  dana_ontogeny_females       24    24           24\n",
       "    dana_ontogeny_males         27    27           27\n",
       "    ontogeny_females            16    16           16\n",
       "80  ontogeny_females             8     8            8\n",
       "    ontogeny_males              16    16           16\n",
       "84  ontogeny_females            16    16           16\n",
       "    ontogeny_males              16    16           16\n",
       "90  dana_ontogeny_males         16    16           16\n",
       "    ontogeny_females             8     8            8\n",
       "103 ontogeny_males              11    11           11\n",
       "127 ontogeny_females             8     8            8"
      ]
     },
     "execution_count": 18,
     "metadata": {},
     "output_type": "execute_result"
    }
   ],
   "source": [
    "df.groupby(['age', 'experiment']).count()"
   ]
  },
  {
   "cell_type": "code",
   "execution_count": 28,
   "id": "716800f6-c070-4122-b972-a47aae79f175",
   "metadata": {
    "tags": []
   },
   "outputs": [],
   "source": [
    "# sub-select 4 sessions from each group\n",
    "# 64 sessions = 3.5e6 frames\n",
    "sample = df.groupby(['age', 'experiment']).sample(n=3, random_state=0)"
   ]
  },
  {
   "cell_type": "code",
   "execution_count": 29,
   "id": "9a45b8ac-202f-422a-bc66-fb104dc7edca",
   "metadata": {},
   "outputs": [
    {
     "data": {
      "text/plain": [
       "153"
      ]
     },
     "execution_count": 29,
     "metadata": {},
     "output_type": "execute_result"
    }
   ],
   "source": [
    "len(sample)"
   ]
  },
  {
   "cell_type": "code",
   "execution_count": 30,
   "id": "1118ccc4-b480-44cb-9e8e-9e3ff5d472fa",
   "metadata": {},
   "outputs": [
    {
     "data": {
      "text/plain": [
       "5508000"
      ]
     },
     "execution_count": 30,
     "metadata": {},
     "output_type": "execute_result"
    }
   ],
   "source": [
    "len(sample) * 30 * 60 * 20"
   ]
  },
  {
   "cell_type": "code",
   "execution_count": 31,
   "id": "6b7574a0-b502-413a-bcdd-979290d1b00a",
   "metadata": {
    "tags": []
   },
   "outputs": [],
   "source": [
    "for path in map(Path, sample['path']):\n",
    "    try:\n",
    "        new_path = agg_folder / (path.parents[1].name + '.h5')\n",
    "        new_path.symlink_to(path)\n",
    "        new_path = agg_folder / (path.parents[1].name + '.yaml')\n",
    "        new_path.symlink_to(path.with_suffix('.yaml'))\n",
    "    except FileExistsError:\n",
    "        print(path, 'exists in training set')"
   ]
  },
  {
   "cell_type": "code",
   "execution_count": null,
   "id": "b1b107a6-e6c8-44dc-87e7-3034f9caab79",
   "metadata": {},
   "outputs": [],
   "source": []
  }
 ],
 "metadata": {
  "kernelspec": {
   "display_name": "Ontogeny",
   "language": "python",
   "name": "aging"
  },
  "language_info": {
   "codemirror_mode": {
    "name": "ipython",
    "version": 3
   },
   "file_extension": ".py",
   "mimetype": "text/x-python",
   "name": "python",
   "nbconvert_exporter": "python",
   "pygments_lexer": "ipython3",
   "version": "3.10.10"
  },
  "widgets": {
   "application/vnd.jupyter.widget-state+json": {
    "state": {},
    "version_major": 2,
    "version_minor": 0
   }
  }
 },
 "nbformat": 4,
 "nbformat_minor": 5
}
