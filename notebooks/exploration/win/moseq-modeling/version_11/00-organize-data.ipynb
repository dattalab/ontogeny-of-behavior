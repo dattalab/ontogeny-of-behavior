{
 "cells": [
  {
   "cell_type": "markdown",
   "id": "56438c6c-2791-41e5-9b4e-24687eeaedf0",
   "metadata": {},
   "source": [
    "# Organize data for running PCA\n",
    "\n",
    "Two main approaches:\n",
    "1. select a subset of all ontogeny sessions, a few sessions from each age and sex\n",
    "2. select a subset of all longtogeny sessions, a few sessions from each age and sex. Make sure to have the same number of sessions and similar ages per mouse."
   ]
  },
  {
   "cell_type": "code",
   "execution_count": 1,
   "id": "38001854-b71c-4131-97d7-b1b7456a4803",
   "metadata": {
    "tags": []
   },
   "outputs": [],
   "source": [
    "import json\n",
    "import h5py\n",
    "import pandas as pd\n",
    "from pathlib import Path\n",
    "from toolz import concat, curry, frequencies\n",
    "from aging.organization.paths import FOLDERS\n",
    "from aging.organization.dataframes import get_experiment, get_age"
   ]
  },
  {
   "cell_type": "code",
   "execution_count": 2,
   "id": "f05c19a1-47c5-4850-86f6-226bdc825dca",
   "metadata": {},
   "outputs": [
    {
     "data": {
      "text/plain": [
       "(PosixPath('/n/groups/datta/Dana/Ontogeny/raw_data/Ontogeny_females'),\n",
       " PosixPath('/n/groups/datta/Dana/Ontogeny/raw_data/Ontogeny_males'),\n",
       " PosixPath('/n/groups/datta/Dana/Ontogeny/raw_data/longtogeny_pre_unet/Males'),\n",
       " PosixPath('/n/groups/datta/min/longtogeny_072023/Males'),\n",
       " PosixPath('/n/groups/datta/min/longtogeny_072023/Females'),\n",
       " PosixPath('/n/groups/datta/min/wheel_062023'),\n",
       " PosixPath('/n/groups/datta/win/longtogeny/dlight'),\n",
       " PosixPath('/n/groups/datta/win/longtogeny/data/jackson-labs/datta_i'),\n",
       " PosixPath('/n/groups/datta/min/longtogeny_052023/Males'))"
      ]
     },
     "execution_count": 2,
     "metadata": {},
     "output_type": "execute_result"
    }
   ],
   "source": [
    "FOLDERS"
   ]
  },
  {
   "cell_type": "code",
   "execution_count": 3,
   "id": "dec7c436-03c2-4cfe-8d06-cdb3d4c3c86b",
   "metadata": {
    "tags": []
   },
   "outputs": [],
   "source": [
    "arhmm_version = 11\n",
    "size_norm_key = 'win_size_norm_frames_v6'"
   ]
  },
  {
   "cell_type": "code",
   "execution_count": 4,
   "id": "fc788d60-8b73-4418-aad3-857c0e03de03",
   "metadata": {
    "tags": []
   },
   "outputs": [],
   "source": [
    "session_exclusion_list = '/n/groups/datta/win/longtogeny/data/metadata/Ontogeny experiment list - Session quality control.csv'\n",
    "exclusion_df = pd.read_csv(session_exclusion_list, header=0)"
   ]
  },
  {
   "cell_type": "code",
   "execution_count": 5,
   "id": "306b14b0-3896-46c8-b04c-5f4c4e300148",
   "metadata": {
    "tags": []
   },
   "outputs": [
    {
     "data": {
      "text/plain": [
       "array(['y', 'n', '?'], dtype=object)"
      ]
     },
     "execution_count": 5,
     "metadata": {},
     "output_type": "execute_result"
    }
   ],
   "source": [
    "exclusion_df['Keep?'] = exclusion_df['Keep?'].str.lower()\n",
    "exclusion_df['Keep?'].unique()"
   ]
  },
  {
   "cell_type": "code",
   "execution_count": 6,
   "id": "8dbf748c-7cb8-4035-a5d4-76a6139d1d41",
   "metadata": {
    "tags": []
   },
   "outputs": [],
   "source": [
    "exclusions = exclusion_df.query('`Keep?` != \"y\"')"
   ]
  },
  {
   "cell_type": "code",
   "execution_count": 7,
   "id": "1f514675-8c47-4dd0-9b24-04887210d64b",
   "metadata": {
    "tags": []
   },
   "outputs": [],
   "source": [
    "def is_size_normalized(file):\n",
    "    try:\n",
    "        with h5py.File(file, 'r') as h5f:\n",
    "            return size_norm_key in h5f\n",
    "    except OSError:\n",
    "        print(file)\n",
    "        return False\n",
    "\n",
    "\n",
    "def not_excluded(file):\n",
    "    return str(file) not in exclusions['File path'].values\n",
    "\n",
    "\n",
    "@curry\n",
    "def thread_and(funcs, x):\n",
    "    return all(f(x) for f in funcs)\n",
    "\n",
    "\n",
    "@curry\n",
    "def not_double(parent_counts, path):\n",
    "    if parent_counts[str(path.parents[1])] > 1:\n",
    "        return 'proc_cleaned' == path.parent.name\n",
    "    return True"
   ]
  },
  {
   "cell_type": "markdown",
   "id": "28b8bb46-0725-4090-a12e-f6e6f0797875",
   "metadata": {},
   "source": [
    "## Organize ontogeny sessions\n",
    "\n",
    "These are the data that will be run through PCA and the modeling steps\n",
    "\n",
    "- create a dataframe with the file path, age, sex, and session name\n",
    "- do a groupby and subsample the same number of sessions for each (age, sex) group\n",
    "- symlink results.h5 files to a new folder"
   ]
  },
  {
   "cell_type": "code",
   "execution_count": 8,
   "id": "aec72f89-9bf2-465e-9497-ad50d07e4033",
   "metadata": {
    "tags": []
   },
   "outputs": [],
   "source": [
    "agg_folder = Path(f'/n/groups/datta/win/longtogeny/data/ontogeny/version_{arhmm_version:02d}/training_data')\n",
    "agg_folder.mkdir(exist_ok=True, parents=True)"
   ]
  },
  {
   "cell_type": "code",
   "execution_count": 23,
   "id": "2eb8dae8-a780-40fc-8a38-318292a14c33",
   "metadata": {},
   "outputs": [
    {
     "data": {
      "text/plain": [
       "(PosixPath('/n/groups/datta/Dana/Ontogeny/raw_data/Ontogeny_females'),\n",
       " PosixPath('/n/groups/datta/Dana/Ontogeny/raw_data/Ontogeny_males'),\n",
       " PosixPath('/n/groups/datta/Dana/Ontogeny/raw_data/longtogeny_pre_unet/Males'),\n",
       " PosixPath('/n/groups/datta/min/longtogeny_072023/Males'),\n",
       " PosixPath('/n/groups/datta/min/longtogeny_072023/Females'),\n",
       " PosixPath('/n/groups/datta/min/wheel_062023'))"
      ]
     },
     "execution_count": 23,
     "metadata": {},
     "output_type": "execute_result"
    }
   ],
   "source": [
    "FOLDERS[:6]"
   ]
  },
  {
   "cell_type": "code",
   "execution_count": 24,
   "id": "26cddb9f-e03e-42cc-83bb-1c2aa0bc4e2f",
   "metadata": {
    "tags": []
   },
   "outputs": [
    {
     "name": "stdout",
     "output_type": "stream",
     "text": [
      "/n/groups/datta/Dana/Ontogeny/raw_data/Ontogeny_males/12months_28042021/session_20210428102836/proc_cleaned/results_00.h5\n"
     ]
    }
   ],
   "source": [
    "# filter files for the ones with size_normalized_frames\n",
    "files = sorted(\n",
    "    filter(\n",
    "        thread_and((is_size_normalized, not_excluded)),\n",
    "        concat(f.glob(\"**/results_00.h5\") for f in FOLDERS[:6]),\n",
    "    )\n",
    ")"
   ]
  },
  {
   "cell_type": "code",
   "execution_count": 25,
   "id": "a96bba4f-c6a1-463f-9417-8c98217f4b92",
   "metadata": {},
   "outputs": [],
   "source": [
    "parent_counts = frequencies(str(f.parents[1]) for f in files)"
   ]
  },
  {
   "cell_type": "code",
   "execution_count": 26,
   "id": "dc4383ab-013a-4b5d-a910-e6c021d402c1",
   "metadata": {},
   "outputs": [],
   "source": [
    "files = list(filter(not_double(parent_counts), files))"
   ]
  },
  {
   "cell_type": "code",
   "execution_count": 27,
   "id": "03719788-6aa0-49a4-ace4-1b9e55ecf5aa",
   "metadata": {
    "tags": []
   },
   "outputs": [
    {
     "name": "stdout",
     "output_type": "stream",
     "text": [
      "KeyError:  /n/groups/datta/Dana/Ontogeny/raw_data/Ontogeny_females/session_20230721072116/proc/results_00.h5\n",
      "KeyError:  /n/groups/datta/Dana/Ontogeny/raw_data/Ontogeny_females/session_20230721072215/proc/results_00.h5\n",
      "KeyError:  /n/groups/datta/Dana/Ontogeny/raw_data/Ontogeny_females/session_20230721072329/proc/results_00.h5\n",
      "KeyError:  /n/groups/datta/Dana/Ontogeny/raw_data/Ontogeny_females/session_20230721082639/proc/results_00.h5\n",
      "KeyError:  /n/groups/datta/Dana/Ontogeny/raw_data/Ontogeny_females/session_20230721082719/proc/results_00.h5\n",
      "KeyError:  /n/groups/datta/Dana/Ontogeny/raw_data/Ontogeny_females/session_20230721082802/proc/results_00.h5\n",
      "KeyError:  /n/groups/datta/Dana/Ontogeny/raw_data/Ontogeny_females/session_20230721091042/proc/results_00.h5\n",
      "KeyError:  /n/groups/datta/Dana/Ontogeny/raw_data/Ontogeny_females/session_20230721091057/proc/results_00.h5\n",
      "KeyError:  /n/groups/datta/Dana/Ontogeny/raw_data/Ontogeny_females/session_20230721091106/proc/results_00.h5\n",
      "KeyError:  /n/groups/datta/Dana/Ontogeny/raw_data/Ontogeny_females/session_20230721094917/proc/results_00.h5\n",
      "KeyError:  /n/groups/datta/Dana/Ontogeny/raw_data/Ontogeny_females/session_20230721094942/proc/results_00.h5\n",
      "KeyError:  /n/groups/datta/Dana/Ontogeny/raw_data/Ontogeny_females/session_20230721094953/proc/results_00.h5\n",
      "KeyError:  /n/groups/datta/Dana/Ontogeny/raw_data/Ontogeny_females/session_20230721101942/proc/results_00.h5\n",
      "KeyError:  /n/groups/datta/Dana/Ontogeny/raw_data/Ontogeny_females/session_20230721112646/proc/results_00.h5\n",
      "KeyError:  /n/groups/datta/Dana/Ontogeny/raw_data/Ontogeny_females/session_20230721121028/proc/results_00.h5\n",
      "KeyError:  /n/groups/datta/Dana/Ontogeny/raw_data/Ontogeny_females/session_20230721124928/proc/results_00.h5\n"
     ]
    }
   ],
   "source": [
    "df = []\n",
    "for f in files:\n",
    "    try:\n",
    "        md = json.load((f.parents[1] / \"metadata.json\").open())\n",
    "        data = dict(\n",
    "            age=get_age(f),\n",
    "            experiment=get_experiment(f),\n",
    "            session=f.parents[1].name,\n",
    "            # sex=f.parents[3].name.split(\"_\")[-1][:-1],\n",
    "            path=str(f),\n",
    "            SessionName=md[\"SessionName\"],\n",
    "        )\n",
    "        df.append(data)\n",
    "    except KeyError:\n",
    "        print(\"KeyError: \", f)\n",
    "    except FileNotFoundError:\n",
    "        continue\n",
    "df = pd.DataFrame(df)"
   ]
  },
  {
   "cell_type": "code",
   "execution_count": 28,
   "id": "dd956c5d-92da-42a2-86d5-037f6db54dc0",
   "metadata": {},
   "outputs": [
    {
     "data": {
      "text/plain": [
       "5298"
      ]
     },
     "execution_count": 28,
     "metadata": {},
     "output_type": "execute_result"
    }
   ],
   "source": [
    "len(df)"
   ]
  },
  {
   "cell_type": "code",
   "execution_count": 29,
   "id": "2a32657e-1636-413d-aec1-6027069a23e0",
   "metadata": {},
   "outputs": [
    {
     "data": {
      "text/plain": [
       "array(['ontogeny_females', 'ontogeny_males', 'longtogeny_males',\n",
       "       'longtogeny_v2_females', 'longtogeny_v2_males', 'wheel'],\n",
       "      dtype=object)"
      ]
     },
     "execution_count": 29,
     "metadata": {},
     "output_type": "execute_result"
    }
   ],
   "source": [
    "df['experiment'].unique()"
   ]
  },
  {
   "cell_type": "code",
   "execution_count": 32,
   "id": "64ebe327-dea0-48b4-a578-17d27f7e4064",
   "metadata": {},
   "outputs": [],
   "source": [
    "mask = df['experiment'] == \"wheel\"\n",
    "fake_ages = list(range(mask.sum()))\n",
    "df.loc[mask, \"age\"] = fake_ages"
   ]
  },
  {
   "cell_type": "code",
   "execution_count": 34,
   "id": "feac8141-9a13-4ef5-bf86-9f55779e9d0e",
   "metadata": {},
   "outputs": [
    {
     "data": {
      "text/html": [
       "<div>\n",
       "<style scoped>\n",
       "    .dataframe tbody tr th:only-of-type {\n",
       "        vertical-align: middle;\n",
       "    }\n",
       "\n",
       "    .dataframe tbody tr th {\n",
       "        vertical-align: top;\n",
       "    }\n",
       "\n",
       "    .dataframe thead th {\n",
       "        text-align: right;\n",
       "    }\n",
       "</style>\n",
       "<table border=\"1\" class=\"dataframe\">\n",
       "  <thead>\n",
       "    <tr style=\"text-align: right;\">\n",
       "      <th></th>\n",
       "      <th>age</th>\n",
       "      <th>experiment</th>\n",
       "      <th>session</th>\n",
       "      <th>path</th>\n",
       "      <th>SessionName</th>\n",
       "    </tr>\n",
       "  </thead>\n",
       "  <tbody>\n",
       "    <tr>\n",
       "      <th>0</th>\n",
       "      <td>127.0</td>\n",
       "      <td>ontogeny_females</td>\n",
       "      <td>session_20231030082607</td>\n",
       "      <td>/n/groups/datta/Dana/Ontogeny/raw_data/Ontogen...</td>\n",
       "      <td>otgy_127F_01</td>\n",
       "    </tr>\n",
       "    <tr>\n",
       "      <th>1</th>\n",
       "      <td>127.0</td>\n",
       "      <td>ontogeny_females</td>\n",
       "      <td>session_20231030102302</td>\n",
       "      <td>/n/groups/datta/Dana/Ontogeny/raw_data/Ontogen...</td>\n",
       "      <td>otgy_127F_02</td>\n",
       "    </tr>\n",
       "    <tr>\n",
       "      <th>2</th>\n",
       "      <td>127.0</td>\n",
       "      <td>ontogeny_females</td>\n",
       "      <td>session_20231030102324</td>\n",
       "      <td>/n/groups/datta/Dana/Ontogeny/raw_data/Ontogen...</td>\n",
       "      <td>otgy_127F_02</td>\n",
       "    </tr>\n",
       "    <tr>\n",
       "      <th>3</th>\n",
       "      <td>127.0</td>\n",
       "      <td>ontogeny_females</td>\n",
       "      <td>session_20231030102342</td>\n",
       "      <td>/n/groups/datta/Dana/Ontogeny/raw_data/Ontogen...</td>\n",
       "      <td>otgy_127F_02</td>\n",
       "    </tr>\n",
       "    <tr>\n",
       "      <th>4</th>\n",
       "      <td>127.0</td>\n",
       "      <td>ontogeny_females</td>\n",
       "      <td>session_20231030112543</td>\n",
       "      <td>/n/groups/datta/Dana/Ontogeny/raw_data/Ontogen...</td>\n",
       "      <td>otgy_127F_01</td>\n",
       "    </tr>\n",
       "  </tbody>\n",
       "</table>\n",
       "</div>"
      ],
      "text/plain": [
       "     age        experiment                 session  \\\n",
       "0  127.0  ontogeny_females  session_20231030082607   \n",
       "1  127.0  ontogeny_females  session_20231030102302   \n",
       "2  127.0  ontogeny_females  session_20231030102324   \n",
       "3  127.0  ontogeny_females  session_20231030102342   \n",
       "4  127.0  ontogeny_females  session_20231030112543   \n",
       "\n",
       "                                                path   SessionName  \n",
       "0  /n/groups/datta/Dana/Ontogeny/raw_data/Ontogen...  otgy_127F_01  \n",
       "1  /n/groups/datta/Dana/Ontogeny/raw_data/Ontogen...  otgy_127F_02  \n",
       "2  /n/groups/datta/Dana/Ontogeny/raw_data/Ontogen...  otgy_127F_02  \n",
       "3  /n/groups/datta/Dana/Ontogeny/raw_data/Ontogen...  otgy_127F_02  \n",
       "4  /n/groups/datta/Dana/Ontogeny/raw_data/Ontogen...  otgy_127F_01  "
      ]
     },
     "execution_count": 34,
     "metadata": {},
     "output_type": "execute_result"
    }
   ],
   "source": [
    "df.head()"
   ]
  },
  {
   "cell_type": "code",
   "execution_count": 35,
   "id": "4017a7c2-1999-44cf-8bf4-d9d97e7a4f9c",
   "metadata": {
    "tags": []
   },
   "outputs": [],
   "source": [
    "df = df[~df['SessionName'].str.contains(\"CRL\")]"
   ]
  },
  {
   "cell_type": "code",
   "execution_count": 36,
   "id": "ac228e74-0ab0-4e60-b0e2-0de3c7078ba5",
   "metadata": {
    "tags": []
   },
   "outputs": [
    {
     "data": {
      "text/html": [
       "<div>\n",
       "<style scoped>\n",
       "    .dataframe tbody tr th:only-of-type {\n",
       "        vertical-align: middle;\n",
       "    }\n",
       "\n",
       "    .dataframe tbody tr th {\n",
       "        vertical-align: top;\n",
       "    }\n",
       "\n",
       "    .dataframe thead th {\n",
       "        text-align: right;\n",
       "    }\n",
       "</style>\n",
       "<table border=\"1\" class=\"dataframe\">\n",
       "  <thead>\n",
       "    <tr style=\"text-align: right;\">\n",
       "      <th></th>\n",
       "      <th></th>\n",
       "      <th>session</th>\n",
       "      <th>path</th>\n",
       "      <th>SessionName</th>\n",
       "    </tr>\n",
       "    <tr>\n",
       "      <th>age</th>\n",
       "      <th>experiment</th>\n",
       "      <th></th>\n",
       "      <th></th>\n",
       "      <th></th>\n",
       "    </tr>\n",
       "  </thead>\n",
       "  <tbody>\n",
       "    <tr>\n",
       "      <th>0.0</th>\n",
       "      <th>wheel</th>\n",
       "      <td>1</td>\n",
       "      <td>1</td>\n",
       "      <td>1</td>\n",
       "    </tr>\n",
       "    <tr>\n",
       "      <th>1.0</th>\n",
       "      <th>wheel</th>\n",
       "      <td>1</td>\n",
       "      <td>1</td>\n",
       "      <td>1</td>\n",
       "    </tr>\n",
       "    <tr>\n",
       "      <th>2.0</th>\n",
       "      <th>wheel</th>\n",
       "      <td>1</td>\n",
       "      <td>1</td>\n",
       "      <td>1</td>\n",
       "    </tr>\n",
       "    <tr>\n",
       "      <th rowspan=\"2\" valign=\"top\">3.0</th>\n",
       "      <th>longtogeny_males</th>\n",
       "      <td>16</td>\n",
       "      <td>16</td>\n",
       "      <td>16</td>\n",
       "    </tr>\n",
       "    <tr>\n",
       "      <th>ontogeny_females</th>\n",
       "      <td>23</td>\n",
       "      <td>23</td>\n",
       "      <td>23</td>\n",
       "    </tr>\n",
       "    <tr>\n",
       "      <th>...</th>\n",
       "      <th>...</th>\n",
       "      <td>...</td>\n",
       "      <td>...</td>\n",
       "      <td>...</td>\n",
       "    </tr>\n",
       "    <tr>\n",
       "      <th>964.0</th>\n",
       "      <th>wheel</th>\n",
       "      <td>1</td>\n",
       "      <td>1</td>\n",
       "      <td>1</td>\n",
       "    </tr>\n",
       "    <tr>\n",
       "      <th>965.0</th>\n",
       "      <th>wheel</th>\n",
       "      <td>1</td>\n",
       "      <td>1</td>\n",
       "      <td>1</td>\n",
       "    </tr>\n",
       "    <tr>\n",
       "      <th>966.0</th>\n",
       "      <th>wheel</th>\n",
       "      <td>1</td>\n",
       "      <td>1</td>\n",
       "      <td>1</td>\n",
       "    </tr>\n",
       "    <tr>\n",
       "      <th>967.0</th>\n",
       "      <th>wheel</th>\n",
       "      <td>1</td>\n",
       "      <td>1</td>\n",
       "      <td>1</td>\n",
       "    </tr>\n",
       "    <tr>\n",
       "      <th>968.0</th>\n",
       "      <th>wheel</th>\n",
       "      <td>1</td>\n",
       "      <td>1</td>\n",
       "      <td>1</td>\n",
       "    </tr>\n",
       "  </tbody>\n",
       "</table>\n",
       "<p>1216 rows × 3 columns</p>\n",
       "</div>"
      ],
      "text/plain": [
       "                        session  path  SessionName\n",
       "age   experiment                                  \n",
       "0.0   wheel                   1     1            1\n",
       "1.0   wheel                   1     1            1\n",
       "2.0   wheel                   1     1            1\n",
       "3.0   longtogeny_males       16    16           16\n",
       "      ontogeny_females       23    23           23\n",
       "...                         ...   ...          ...\n",
       "964.0 wheel                   1     1            1\n",
       "965.0 wheel                   1     1            1\n",
       "966.0 wheel                   1     1            1\n",
       "967.0 wheel                   1     1            1\n",
       "968.0 wheel                   1     1            1\n",
       "\n",
       "[1216 rows x 3 columns]"
      ]
     },
     "execution_count": 36,
     "metadata": {},
     "output_type": "execute_result"
    }
   ],
   "source": [
    "df.groupby(['age', 'experiment']).count()"
   ]
  },
  {
   "cell_type": "code",
   "execution_count": 37,
   "id": "968be7de-2504-4c54-b5b1-8dc5c5f31b72",
   "metadata": {},
   "outputs": [],
   "source": [
    "# bin ages to make sampling easier\n",
    "df['age_cuts'] = df.groupby(\"experiment\")[\"age\"].transform(lambda v: pd.qcut(v, 15, labels=False))"
   ]
  },
  {
   "cell_type": "code",
   "execution_count": 40,
   "id": "716800f6-c070-4122-b972-a47aae79f175",
   "metadata": {
    "tags": []
   },
   "outputs": [],
   "source": [
    "# sub-select 4 sessions from each group\n",
    "# 64 sessions = 3.5e6 frames\n",
    "sample = df.groupby(['age_cuts', 'experiment']).sample(n=7, random_state=0)"
   ]
  },
  {
   "cell_type": "code",
   "execution_count": 41,
   "id": "9a45b8ac-202f-422a-bc66-fb104dc7edca",
   "metadata": {},
   "outputs": [
    {
     "data": {
      "text/plain": [
       "630"
      ]
     },
     "execution_count": 41,
     "metadata": {},
     "output_type": "execute_result"
    }
   ],
   "source": [
    "len(sample)"
   ]
  },
  {
   "cell_type": "code",
   "execution_count": 42,
   "id": "1118ccc4-b480-44cb-9e8e-9e3ff5d472fa",
   "metadata": {},
   "outputs": [
    {
     "data": {
      "text/plain": [
       "22680000"
      ]
     },
     "execution_count": 42,
     "metadata": {},
     "output_type": "execute_result"
    }
   ],
   "source": [
    "len(sample) * 30 * 60 * 20"
   ]
  },
  {
   "cell_type": "code",
   "execution_count": 43,
   "id": "6b7574a0-b502-413a-bcdd-979290d1b00a",
   "metadata": {
    "tags": []
   },
   "outputs": [
    {
     "name": "stdout",
     "output_type": "stream",
     "text": [
      "/n/groups/datta/Dana/Ontogeny/raw_data/longtogeny_pre_unet/Males/20210331/session_20210331163355/proc/results_00.h5 exists in training set\n",
      "/n/groups/datta/Dana/Ontogeny/raw_data/longtogeny_pre_unet/Males/20210331/session_20210331163403/proc/results_00.h5 exists in training set\n",
      "/n/groups/datta/Dana/Ontogeny/raw_data/longtogeny_pre_unet/Males/20210402/session_20210402170649/proc/results_00.h5 exists in training set\n",
      "/n/groups/datta/Dana/Ontogeny/raw_data/longtogeny_pre_unet/Males/20210331/session_20210331153528/proc/results_00.h5 exists in training set\n",
      "/n/groups/datta/Dana/Ontogeny/raw_data/longtogeny_pre_unet/Males/20210401/session_20210401144828/proc/results_00.h5 exists in training set\n",
      "/n/groups/datta/Dana/Ontogeny/raw_data/longtogeny_pre_unet/Males/20210403/session_20210403143928/proc/results_00.h5 exists in training set\n",
      "/n/groups/datta/Dana/Ontogeny/raw_data/longtogeny_pre_unet/Males/20210330/session_20210330153328/proc/results_00.h5 exists in training set\n",
      "/n/groups/datta/min/longtogeny_072023/Females/session_20230704131807/proc/results_00.h5 exists in training set\n",
      "/n/groups/datta/min/longtogeny_072023/Females/session_20230703182200/proc/results_00.h5 exists in training set\n",
      "/n/groups/datta/min/longtogeny_072023/Females/session_20230704161817/proc/results_00.h5 exists in training set\n",
      "/n/groups/datta/min/longtogeny_072023/Females/session_20230703210255/proc/results_00.h5 exists in training set\n",
      "/n/groups/datta/min/longtogeny_072023/Females/session_20230704134316/proc/results_00.h5 exists in training set\n",
      "/n/groups/datta/min/longtogeny_072023/Females/session_20230704134258/proc/results_00.h5 exists in training set\n",
      "/n/groups/datta/min/longtogeny_072023/Females/session_20230705113437/proc/results_00.h5 exists in training set\n",
      "/n/groups/datta/min/longtogeny_072023/Males/session_20230705104440/proc/results_00.h5 exists in training set\n",
      "/n/groups/datta/min/longtogeny_072023/Males/session_20230706114838/proc/results_00.h5 exists in training set\n",
      "/n/groups/datta/min/longtogeny_072023/Males/session_20230705104500/proc/results_00.h5 exists in training set\n",
      "/n/groups/datta/min/longtogeny_072023/Males/session_20230704104144/proc/results_00.h5 exists in training set\n",
      "/n/groups/datta/min/longtogeny_072023/Males/session_20230706125139/proc/results_00.h5 exists in training set\n",
      "/n/groups/datta/min/longtogeny_072023/Males/session_20230706114826/proc/results_00.h5 exists in training set\n",
      "/n/groups/datta/min/longtogeny_072023/Males/session_20230704114418/proc/results_00.h5 exists in training set\n",
      "/n/groups/datta/Dana/Ontogeny/raw_data/Ontogeny_females/5wks/session_20221020110706/proc/results_00.h5 exists in training set\n",
      "/n/groups/datta/Dana/Ontogeny/raw_data/Ontogeny_females/5wks/session_20221020110659/proc/results_00.h5 exists in training set\n",
      "/n/groups/datta/Dana/Ontogeny/raw_data/Ontogeny_females/3wks/session_20221007123335/proc/results_00.h5 exists in training set\n",
      "/n/groups/datta/Dana/Ontogeny/raw_data/Ontogeny_females/3wks/session_20221007104848/proc/results_00.h5 exists in training set\n",
      "/n/groups/datta/Dana/Ontogeny/raw_data/Ontogeny_females/5wks/session_20221020095224/proc/results_00.h5 exists in training set\n",
      "/n/groups/datta/Dana/Ontogeny/raw_data/Ontogeny_females/5wks/session_20221020135834/proc/results_00.h5 exists in training set\n",
      "/n/groups/datta/Dana/Ontogeny/raw_data/Ontogeny_females/3wks/session_20221007131737/proc/results_00.h5 exists in training set\n",
      "/n/groups/datta/Dana/Ontogeny/raw_data/Ontogeny_males/5wks_02112021/session_20211029123236/proc/results_00.h5 exists in training set\n",
      "/n/groups/datta/Dana/Ontogeny/raw_data/Ontogeny_males/3wks_02112021/session_20211029110021/proc/results_00.h5 exists in training set\n",
      "/n/groups/datta/Dana/Ontogeny/raw_data/Ontogeny_males/3wks_02112021/session_20211029110030/proc/results_00.h5 exists in training set\n",
      "/n/groups/datta/Dana/Ontogeny/raw_data/Ontogeny_males/5wks_02112021/session_20211029133528/proc/results_00.h5 exists in training set\n",
      "/n/groups/datta/Dana/Ontogeny/raw_data/Ontogeny_males/5wks_02112021/session_20211029141925/proc/results_00.h5 exists in training set\n",
      "/n/groups/datta/Dana/Ontogeny/raw_data/Ontogeny_males/5wks_02112021/session_20211029133538/proc/results_00.h5 exists in training set\n",
      "/n/groups/datta/Dana/Ontogeny/raw_data/Ontogeny_males/3wks_02112021/session_20211029114521/proc/results_00.h5 exists in training set\n",
      "/n/groups/datta/min/longtogeny_072023/Males/session_20230713082400/proc/results_00.h5 exists in training set\n",
      "/n/groups/datta/Dana/Ontogeny/raw_data/Ontogeny_females/7wks/session_20221021092811/proc/results_00.h5 exists in training set\n",
      "/n/groups/datta/Dana/Ontogeny/raw_data/Ontogeny_males/9wks_1811_2021/session_20230605151738/proc/results_00.h5 exists in training set\n",
      "/n/groups/datta/Dana/Ontogeny/raw_data/Ontogeny_males/7wks_18112021/session_20211118093950/proc/results_00.h5 exists in training set\n",
      "/n/groups/datta/Dana/Ontogeny/raw_data/Ontogeny_males/9wks_1811_2021/session_20211118135658/proc/results_00.h5 exists in training set\n",
      "/n/groups/datta/Dana/Ontogeny/raw_data/longtogeny_pre_unet/Males/20210423/session_20210423193545/proc/results_00.h5 exists in training set\n",
      "/n/groups/datta/Dana/Ontogeny/raw_data/Ontogeny_females/9wks/session_20221028095319/proc/results_00.h5 exists in training set\n",
      "/n/groups/datta/Dana/Ontogeny/raw_data/Ontogeny_males/3months_19042021/session_20210419113604/proc/results_00.h5 exists in training set\n",
      "/n/groups/datta/Dana/Ontogeny/raw_data/Ontogeny_males/16wks_092923/session_20230929084121/proc/results_00.h5 exists in training set\n",
      "/n/groups/datta/Dana/Ontogeny/raw_data/longtogeny_pre_unet/Males/20210506/session_20210506163902/proc/results_00.h5 exists in training set\n",
      "/n/groups/datta/Dana/Ontogeny/raw_data/Ontogeny_females/3months/session_20221011115335/proc/results_00.h5 exists in training set\n",
      "/n/groups/datta/Dana/Ontogeny/raw_data/Ontogeny_females/3months/session_20221011133126/proc/results_00.h5 exists in training set\n",
      "/n/groups/datta/Dana/Ontogeny/raw_data/Ontogeny_females/3months/session_20221011133148/proc/results_00.h5 exists in training set\n",
      "/n/groups/datta/Dana/Ontogeny/raw_data/Ontogeny_females/3months/session_20221011093726/proc/results_00.h5 exists in training set\n",
      "/n/groups/datta/Dana/Ontogeny/raw_data/Ontogeny_males/20wks_093023/session_20230930125042/proc/results_00.h5 exists in training set\n",
      "/n/groups/datta/Dana/Ontogeny/raw_data/Ontogeny_males/20wks_093023/session_20230930102415/proc/results_00.h5 exists in training set\n",
      "/n/groups/datta/Dana/Ontogeny/raw_data/Ontogeny_males/20wks_093023/session_20230930134456/proc/results_00.h5 exists in training set\n",
      "/n/groups/datta/Dana/Ontogeny/raw_data/longtogeny_pre_unet/Males/20210528/session_20210528104020/proc/results_00.h5 exists in training set\n",
      "/n/groups/datta/min/longtogeny_072023/Females/session_20230731152633/proc/results_00.h5 exists in training set\n",
      "/n/groups/datta/Dana/Ontogeny/raw_data/Ontogeny_females/16wks_100923/session_20231009073724/proc/results_00.h5 exists in training set\n",
      "/n/groups/datta/Dana/Ontogeny/raw_data/Ontogeny_females/16wks_100923/session_20231009170049/proc/results_00.h5 exists in training set\n",
      "/n/groups/datta/Dana/Ontogeny/raw_data/Ontogeny_females/20wks_101323/session_20231013134917/proc/results_00.h5 exists in training set\n",
      "/n/groups/datta/Dana/Ontogeny/raw_data/Ontogeny_males/28wks_092923/session_20230929125630/proc/results_00.h5 exists in training set\n",
      "/n/groups/datta/Dana/Ontogeny/raw_data/longtogeny_pre_unet/Males/20210604/session_20210604143249/proc/results_00.h5 exists in training set\n",
      "/n/groups/datta/Dana/Ontogeny/raw_data/longtogeny_pre_unet/Males/20210610/session_20210610150432/proc/results_00.h5 exists in training set\n",
      "/n/groups/datta/Dana/Ontogeny/raw_data/Ontogeny_females/6months/session_20221027105958/proc/results_00.h5 exists in training set\n",
      "/n/groups/datta/Dana/Ontogeny/raw_data/Ontogeny_males/32wks_100223/session_20231002133508/proc/results_00.h5 exists in training set\n",
      "/n/groups/datta/Dana/Ontogeny/raw_data/Ontogeny_males/32wks_100223/session_20231002133530/proc/results_00.h5 exists in training set\n",
      "/n/groups/datta/Dana/Ontogeny/raw_data/Ontogeny_males/9months_060923/session_20230609130055/proc/results_00.h5 exists in training set\n",
      "/n/groups/datta/Dana/Ontogeny/raw_data/longtogeny_pre_unet/Males/20210629/session_20210629163905/proc/results_00.h5 exists in training set\n",
      "/n/groups/datta/min/longtogeny_072023/Males/session_20230811092212/proc/results_00.h5 exists in training set\n",
      "/n/groups/datta/Dana/Ontogeny/raw_data/Ontogeny_females/9months/session_20230609160255/proc/results_00.h5 exists in training set\n",
      "/n/groups/datta/Dana/Ontogeny/raw_data/Ontogeny_females/9months/session_20230609160244/proc/results_00.h5 exists in training set\n",
      "/n/groups/datta/Dana/Ontogeny/raw_data/Ontogeny_males/40wks_100623/session_20231006095520/proc/results_00.h5 exists in training set\n",
      "/n/groups/datta/Dana/Ontogeny/raw_data/Ontogeny_males/36wks_093023/session_20230930130630/proc/results_00.h5 exists in training set\n",
      "/n/groups/datta/Dana/Ontogeny/raw_data/longtogeny_pre_unet/Males/20210722/session_20210722162106/proc/results_00.h5 exists in training set\n",
      "/n/groups/datta/min/longtogeny_072023/Females/session_20230821115612/proc/results_00.h5 exists in training set\n",
      "/n/groups/datta/Dana/Ontogeny/raw_data/Ontogeny_females/40wks_100923/session_20231009091929/proc/results_00.h5 exists in training set\n",
      "/n/groups/datta/Dana/Ontogeny/raw_data/Ontogeny_females/40wks_100923/session_20231009142319/proc/results_00.h5 exists in training set\n",
      "/n/groups/datta/Dana/Ontogeny/raw_data/Ontogeny_females/36wks_101623/session_20231016155508/proc/results_00.h5 exists in training set\n",
      "/n/groups/datta/Dana/Ontogeny/raw_data/Ontogeny_males/44wks_100723/session_20231007170300/proc/results_00.h5 exists in training set\n",
      "/n/groups/datta/Dana/Ontogeny/raw_data/Ontogeny_males/44wks_100723/session_20231007121124/proc/results_00.h5 exists in training set\n",
      "/n/groups/datta/Dana/Ontogeny/raw_data/Ontogeny_males/44wks_100723/session_20231007125752/proc/results_00.h5 exists in training set\n",
      "/n/groups/datta/Dana/Ontogeny/raw_data/Ontogeny_males/44wks_100723/session_20231007121047/proc/results_00.h5 exists in training set\n",
      "/n/groups/datta/Dana/Ontogeny/raw_data/longtogeny_pre_unet/Males/20210919/session_20210919140408/proc/results_00.h5 exists in training set\n",
      "/n/groups/datta/Dana/Ontogeny/raw_data/Ontogeny_females/44wks_101323/session_20231013110241/proc/results_00.h5 exists in training set\n",
      "/n/groups/datta/Dana/Ontogeny/raw_data/Ontogeny_females/44wks_101323/session_20231013131234/proc/results_00.h5 exists in training set\n",
      "/n/groups/datta/Dana/Ontogeny/raw_data/Ontogeny_females/44wks_101323/session_20231013161142/proc/results_00.h5 exists in training set\n",
      "/n/groups/datta/Dana/Ontogeny/raw_data/Ontogeny_males/48wks_100623/session_20231006121120/proc/results_00.h5 exists in training set\n",
      "/n/groups/datta/min/longtogeny_072023/Females/session_20230918131005/proc/results_00.h5 exists in training set\n",
      "/n/groups/datta/Dana/Ontogeny/raw_data/Ontogeny_females/12months/session_20221018114657/proc/results_00.h5 exists in training set\n",
      "/n/groups/datta/Dana/Ontogeny/raw_data/Ontogeny_males/56wks_100223/session_20231002110050/proc/results_00.h5 exists in training set\n",
      "/n/groups/datta/Dana/Ontogeny/raw_data/Ontogeny_males/56wks_100223/session_20231002115949/proc/results_00.h5 exists in training set\n",
      "/n/groups/datta/Dana/Ontogeny/raw_data/Ontogeny_females/60wks_101423/session_20231014091340/proc/results_00.h5 exists in training set\n",
      "/n/groups/datta/Dana/Ontogeny/raw_data/Ontogeny_males/64wks_110623/session_20231106090420/proc/results_00.h5 exists in training set\n",
      "/n/groups/datta/Dana/Ontogeny/raw_data/Ontogeny_males/64wks_110623/session_20231106072637/proc/results_00.h5 exists in training set\n",
      "/n/groups/datta/Dana/Ontogeny/raw_data/Ontogeny_males/64wks_110623/session_20231106093933/proc/results_00.h5 exists in training set\n",
      "/n/groups/datta/Dana/Ontogeny/raw_data/Ontogeny_males/64wks_110623/session_20231106072433/proc/results_00.h5 exists in training set\n",
      "/n/groups/datta/Dana/Ontogeny/raw_data/Ontogeny_females/68wks_100923/session_20231009124609/proc/results_00.h5 exists in training set\n",
      "/n/groups/datta/Dana/Ontogeny/raw_data/Ontogeny_females/64wks_110323/session_20231103154358/proc/results_00.h5 exists in training set\n",
      "/n/groups/datta/Dana/Ontogeny/raw_data/Ontogeny_females/68wks_100923/session_20231009124627/proc/results_00.h5 exists in training set\n",
      "/n/groups/datta/Dana/Ontogeny/raw_data/Ontogeny_males/72wks_100223/session_20231002101842/proc/results_00.h5 exists in training set\n",
      "/n/groups/datta/Dana/Ontogeny/raw_data/Ontogeny_males/68wks_100623/session_20231006141637/proc/results_00.h5 exists in training set\n",
      "/n/groups/datta/Dana/Ontogeny/raw_data/Ontogeny_males/68wks_100623/session_20231006122343/proc/results_00.h5 exists in training set\n",
      "/n/groups/datta/min/longtogeny_072023/Males/session_20231012115612/proc/results_00.h5 exists in training set\n",
      "/n/groups/datta/Dana/Ontogeny/raw_data/Ontogeny_females/18months/session_20221013115619/proc/results_00.h5 exists in training set\n",
      "/n/groups/datta/Dana/Ontogeny/raw_data/Ontogeny_females/78wks_101323/session_20231013172636/proc/results_00.h5 exists in training set\n",
      "/n/groups/datta/Dana/Ontogeny/raw_data/Ontogeny_males/18months_29042021/session_20210429114019/proc_cleaned/results_00.h5 exists in training set\n",
      "/n/groups/datta/Dana/Ontogeny/raw_data/Ontogeny_males/18months_29042021/session_20210429134918/proc_cleaned/results_00.h5 exists in training set\n",
      "/n/groups/datta/Dana/Ontogeny/raw_data/Ontogeny_males/18months_29042021/session_20210429114027/proc_cleaned/results_00.h5 exists in training set\n",
      "/n/groups/datta/Dana/Ontogeny/raw_data/longtogeny_pre_unet/Males/session_20220522171854/proc/results_00.h5 exists in training set\n",
      "/n/groups/datta/Dana/Ontogeny/raw_data/longtogeny_pre_unet/Males/session_20220601130817/proc/results_00.h5 exists in training set\n",
      "/n/groups/datta/min/longtogeny_072023/Females/session_20231024115453/proc/results_00.h5 exists in training set\n",
      "/n/groups/datta/min/longtogeny_072023/Males/session_20231026113735/proc/results_00.h5 exists in training set\n",
      "/n/groups/datta/Dana/Ontogeny/raw_data/Ontogeny_females/80wks_103023/session_20231030094220/proc/results_00.h5 exists in training set\n",
      "/n/groups/datta/Dana/Ontogeny/raw_data/Ontogeny_males/84wks_092923/session_20230929111337/proc/results_00.h5 exists in training set\n",
      "/n/groups/datta/Dana/Ontogeny/raw_data/Ontogeny_males/84wks_092923/session_20230929181821/proc/results_00.h5 exists in training set\n",
      "/n/groups/datta/Dana/Ontogeny/raw_data/Ontogeny_females/127wks_103023/session_20231030102324/proc/results_00.h5 exists in training set\n",
      "/n/groups/datta/Dana/Ontogeny/raw_data/Ontogeny_females/90wks_103023/session_20231030110028/proc/results_00.h5 exists in training set\n",
      "/n/groups/datta/Dana/Ontogeny/raw_data/Ontogeny_females/127wks_103023/session_20231030143602/proc/results_00.h5 exists in training set\n",
      "/n/groups/datta/Dana/Ontogeny/raw_data/Ontogeny_males/22months_06052023/session_20230605110130/proc/results_00.h5 exists in training set\n",
      "/n/groups/datta/Dana/Ontogeny/raw_data/Ontogeny_males/22months_06052023/session_20230605094036/proc/results_00.h5 exists in training set\n",
      "/n/groups/datta/Dana/Ontogeny/raw_data/Ontogeny_males/103wks_100723/session_20231007084633/proc/results_00.h5 exists in training set\n"
     ]
    }
   ],
   "source": [
    "for path in map(Path, sample['path']):\n",
    "    try:\n",
    "        new_path = agg_folder / (path.parents[1].name + '.h5')\n",
    "        new_path.symlink_to(path)\n",
    "        new_path = agg_folder / (path.parents[1].name + '.yaml')\n",
    "        new_path.symlink_to(path.with_suffix('.yaml'))\n",
    "    except FileExistsError:\n",
    "        print(path, 'exists in training set')"
   ]
  },
  {
   "cell_type": "code",
   "execution_count": null,
   "id": "b1b107a6-e6c8-44dc-87e7-3034f9caab79",
   "metadata": {},
   "outputs": [],
   "source": []
  }
 ],
 "metadata": {
  "kernelspec": {
   "display_name": "Ontogeny",
   "language": "python",
   "name": "aging"
  },
  "language_info": {
   "codemirror_mode": {
    "name": "ipython",
    "version": 3
   },
   "file_extension": ".py",
   "mimetype": "text/x-python",
   "name": "python",
   "nbconvert_exporter": "python",
   "pygments_lexer": "ipython3",
   "version": "3.10.10"
  },
  "widgets": {
   "application/vnd.jupyter.widget-state+json": {
    "state": {},
    "version_major": 2,
    "version_minor": 0
   }
  }
 },
 "nbformat": 4,
 "nbformat_minor": 5
}
