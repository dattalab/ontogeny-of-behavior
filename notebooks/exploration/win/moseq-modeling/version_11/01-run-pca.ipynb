{
 "cells": [
  {
   "cell_type": "code",
   "execution_count": 1,
   "id": "49f8a388-52ed-4a21-86eb-f6ce78751134",
   "metadata": {
    "tags": []
   },
   "outputs": [
    {
     "name": "stdout",
     "output_type": "stream",
     "text": [
      "env: FRAMES_KEY=win_size_norm_frames_v7\n",
      "env: VERSION=11\n"
     ]
    }
   ],
   "source": [
    "version = 11\n",
    "\n",
    "# NEW SIZE NORM MODEL\n",
    "frames_key = \"win_size_norm_frames_v7\"\n",
    "\n",
    "# set environment variables for bash scripts below\n",
    "%env FRAMES_KEY=$frames_key\n",
    "%env VERSION=$version"
   ]
  },
  {
   "cell_type": "markdown",
   "id": "5ca1c541-39d3-4434-82aa-bc19aa3e4c18",
   "metadata": {},
   "source": [
    "## Train PCA on `training_data`"
   ]
  },
  {
   "cell_type": "code",
   "execution_count": 2,
   "id": "81cd9522",
   "metadata": {},
   "outputs": [
    {
     "name": "stdout",
     "output_type": "stream",
     "text": [
      "Hello from o2\n"
     ]
    },
    {
     "name": "stderr",
     "output_type": "stream",
     "text": [
      "nvm is not compatible with the npm config \"prefix\" option: currently set to \"/home/wg41/miniconda3\"\n",
      "Run `npm config delete prefix` or `nvm use --delete-prefix v12.4.0 --silent` to unset it.\n",
      "100%|██████████| 600/600 [00:05<00:00, 118.83it/s]\n"
     ]
    },
    {
     "name": "stdout",
     "output_type": "stream",
     "text": [
      "Access dask dashboard at http://localhost:8787\n"
     ]
    },
    {
     "name": "stderr",
     "output_type": "stream",
     "text": [
      "Intializing workers:  97%|█████████▋| 34/35 [10:00<00:17, 17.65s/it]\n"
     ]
    },
    {
     "name": "stdout",
     "output_type": "stream",
     "text": [
      "Processing 26670111 total frames\n",
      "Cleaning frames...\n",
      "\n",
      "Computing SVD...\n",
      "[########################################] | 100% Completed | 11min 42.2s\n",
      "Calculation complete...\n"
     ]
    }
   ],
   "source": [
    "%%bash\n",
    "# ontogeny\n",
    "printf -v VER \"%02d\" $VERSION\n",
    "source $HOME/.bashrc\n",
    "conda activate moseq2-app\n",
    "moseq2-pca train-pca \\\n",
    "    -i /n/groups/datta/win/longtogeny/data/ontogeny/version_${VER}/training_data \\\n",
    "    -o /n/groups/datta/win/longtogeny/data/ontogeny/version_${VER}/_pca \\\n",
    "    --h5-path ${FRAMES_KEY} --timeout 10 -n 35 -w 00:38:00 -m 10GB \\\n",
    "    -q short --cluster-type slurm --dask-cache-path /n/scratch/users/w/wg41/tmp \\\n",
    "    --gaussfilter-space 1 0.75 --tailfilter-size 5 5 --rank 20 "
   ]
  },
  {
   "cell_type": "markdown",
   "id": "d7830abe-f1b2-41a6-9e5c-e15c2ea1f9cd",
   "metadata": {},
   "source": [
    "# Apply PCA on dataset"
   ]
  },
  {
   "cell_type": "code",
   "execution_count": 2,
   "id": "8ca30753-a269-462a-9b74-89f59fc3f689",
   "metadata": {
    "tags": []
   },
   "outputs": [
    {
     "name": "stdout",
     "output_type": "stream",
     "text": [
      "Hello from o2\n"
     ]
    },
    {
     "name": "stderr",
     "output_type": "stream",
     "text": [
      "nvm is not compatible with the npm config \"prefix\" option: currently set to \"/home/wg41/miniconda3\"\n",
      "Run `npm config delete prefix` or `nvm use --delete-prefix v12.4.0 --silent` to unset it.\n"
     ]
    },
    {
     "name": "stdout",
     "output_type": "stream",
     "text": [
      "Loading PCs from /n/groups/datta/win/longtogeny/data/ontogeny/version_11/_pca/pca.h5\n",
      "Access dask dashboard at http://localhost:8787\n"
     ]
    },
    {
     "name": "stderr",
     "output_type": "stream",
     "text": [
      "Intializing workers: 100%|██████████| 34/34 [05:42<00:00, 10.08s/it]\n",
      "100%|██████████| 18/18 [10:29<00:00, 35.00s/it]\n"
     ]
    }
   ],
   "source": [
    "%%bash\n",
    "# ontogeny\n",
    "printf -v VER \"%02d\" $VERSION\n",
    "source $HOME/.bashrc\n",
    "conda activate moseq2-app\n",
    "moseq2-pca apply-pca \\\n",
    "    -i /n/groups/datta/win/longtogeny/data/ontogeny/version_${VER}/training_data \\\n",
    "    -o /n/groups/datta/win/longtogeny/data/ontogeny/version_${VER}/_pca \\\n",
    "    --h5-path ${FRAMES_KEY} --timeout 10 -n 34 -w 00:25:00 -m 10GB \\\n",
    "    -q short --cluster-type slurm --dask-cache-path /n/scratch/users/w/wg41/tmp \\\n",
    "    --batch-apply --overwrite-pca-apply 1"
   ]
  },
  {
   "cell_type": "code",
   "execution_count": 4,
   "id": "9c7f433e-74e1-4e89-9913-ee8a7402dd98",
   "metadata": {},
   "outputs": [],
   "source": [
    "!rm slurm-*.out"
   ]
  },
  {
   "cell_type": "code",
   "execution_count": null,
   "id": "86819284-6bf9-4b26-8719-5ea6652192c0",
   "metadata": {},
   "outputs": [],
   "source": []
  }
 ],
 "metadata": {
  "kernelspec": {
   "display_name": "aging",
   "language": "python",
   "name": "python3"
  },
  "language_info": {
   "codemirror_mode": {
    "name": "ipython",
    "version": 3
   },
   "file_extension": ".py",
   "mimetype": "text/x-python",
   "name": "python",
   "nbconvert_exporter": "python",
   "pygments_lexer": "ipython3",
   "version": "3.10.10"
  },
  "widgets": {
   "application/vnd.jupyter.widget-state+json": {
    "state": {},
    "version_major": 2,
    "version_minor": 0
   }
  }
 },
 "nbformat": 4,
 "nbformat_minor": 5
}
