{
 "cells": [
  {
   "cell_type": "markdown",
   "id": "56438c6c-2791-41e5-9b4e-24687eeaedf0",
   "metadata": {},
   "source": [
    "# Organize data for running PCA\n",
    "\n",
    "Two main approaches:\n",
    "1. select a subset of all ontogeny sessions, a few sessions from each age and sex\n",
    "2. select a subset of all longtogeny sessions, a few sessions from each age and sex. Make sure to have the same number of sessions and similar ages per mouse."
   ]
  },
  {
   "cell_type": "code",
   "execution_count": 1,
   "id": "38001854-b71c-4131-97d7-b1b7456a4803",
   "metadata": {
    "tags": []
   },
   "outputs": [],
   "source": [
    "import json\n",
    "import h5py\n",
    "import pandas as pd\n",
    "from pathlib import Path\n",
    "from toolz import concat, curry, frequencies\n",
    "from aging.organization.paths import FOLDERS"
   ]
  },
  {
   "cell_type": "code",
   "execution_count": 2,
   "id": "f05c19a1-47c5-4850-86f6-226bdc825dca",
   "metadata": {},
   "outputs": [
    {
     "data": {
      "text/plain": [
       "(PosixPath('/n/groups/datta/Dana/Ontogeny/raw_data/Ontogeny_females'),\n",
       " PosixPath('/n/groups/datta/Dana/Ontogeny/raw_data/Ontogeny_males'),\n",
       " PosixPath('/n/groups/datta/Dana/Ontogeny/raw_data/Dana_ontogeny/Males'),\n",
       " PosixPath('/n/groups/datta/Dana/Ontogeny/raw_data/Dana_ontogeny/Females'),\n",
       " PosixPath('/n/groups/datta/Dana/Ontogeny/raw_data/longtogeny_pre_unet/Males'),\n",
       " PosixPath('/n/groups/datta/min/longtogeny_072023/Males'),\n",
       " PosixPath('/n/groups/datta/min/longtogeny_072023/Females'),\n",
       " PosixPath('/n/groups/datta/min/wheel_062023'),\n",
       " PosixPath('/n/groups/datta/win/longtogeny/dlight'),\n",
       " PosixPath('/n/groups/datta/min/longtogeny_052023/Males'),\n",
       " PosixPath('/n/groups/datta/win/longtogeny/data/jackson-labs/datta_i'))"
      ]
     },
     "execution_count": 2,
     "metadata": {},
     "output_type": "execute_result"
    }
   ],
   "source": [
    "FOLDERS"
   ]
  },
  {
   "cell_type": "code",
   "execution_count": 3,
   "id": "dec7c436-03c2-4cfe-8d06-cdb3d4c3c86b",
   "metadata": {
    "tags": []
   },
   "outputs": [],
   "source": [
    "arhmm_version = 9\n",
    "size_norm_key = 'win_size_norm_frames_v6'"
   ]
  },
  {
   "cell_type": "code",
   "execution_count": 4,
   "id": "fc788d60-8b73-4418-aad3-857c0e03de03",
   "metadata": {
    "tags": []
   },
   "outputs": [],
   "source": [
    "session_exclusion_list = '/n/groups/datta/win/longtogeny/data/metadata/Ontogeny experiment list - Session quality control.csv'\n",
    "exclusion_df = pd.read_csv(session_exclusion_list, header=0)"
   ]
  },
  {
   "cell_type": "code",
   "execution_count": 5,
   "id": "306b14b0-3896-46c8-b04c-5f4c4e300148",
   "metadata": {
    "tags": []
   },
   "outputs": [
    {
     "data": {
      "text/plain": [
       "array(['y', 'n', '?'], dtype=object)"
      ]
     },
     "execution_count": 5,
     "metadata": {},
     "output_type": "execute_result"
    }
   ],
   "source": [
    "exclusion_df['Keep?'] = exclusion_df['Keep?'].str.lower()\n",
    "exclusion_df['Keep?'].unique()"
   ]
  },
  {
   "cell_type": "code",
   "execution_count": 6,
   "id": "8dbf748c-7cb8-4035-a5d4-76a6139d1d41",
   "metadata": {
    "tags": []
   },
   "outputs": [],
   "source": [
    "exclusions = exclusion_df.query('`Keep?` != \"y\"')"
   ]
  },
  {
   "cell_type": "code",
   "execution_count": 11,
   "id": "1f514675-8c47-4dd0-9b24-04887210d64b",
   "metadata": {
    "tags": []
   },
   "outputs": [],
   "source": [
    "def is_size_normalized(file):\n",
    "    try:\n",
    "        with h5py.File(file, 'r') as h5f:\n",
    "            return size_norm_key in h5f\n",
    "    except OSError:\n",
    "        print(file)\n",
    "        return False\n",
    "\n",
    "\n",
    "def not_excluded(file):\n",
    "    return str(file) not in exclusions['File path'].values\n",
    "\n",
    "\n",
    "@curry\n",
    "def thread_and(funcs, x):\n",
    "    return all(f(x) for f in funcs)\n",
    "\n",
    "\n",
    "@curry\n",
    "def not_double(parent_counts, path):\n",
    "    if \"jackson\" not in str(path) and parent_counts[str(path.parents[1])] > 1:\n",
    "        return 'proc_cleaned' == path.parent.name\n",
    "    return True"
   ]
  },
  {
   "cell_type": "markdown",
   "id": "28b8bb46-0725-4090-a12e-f6e6f0797875",
   "metadata": {},
   "source": [
    "## Organize ontogeny sessions\n",
    "\n",
    "These are the data that will be run through PCA and the modeling steps\n",
    "\n",
    "- create a dataframe with the file path, age, sex, and session name\n",
    "- do a groupby and subsample the same number of sessions for each (age, sex) group\n",
    "- symlink results.h5 files to a new folder"
   ]
  },
  {
   "cell_type": "code",
   "execution_count": 9,
   "id": "aec72f89-9bf2-465e-9497-ad50d07e4033",
   "metadata": {
    "tags": []
   },
   "outputs": [],
   "source": [
    "agg_folder = Path(f'/n/groups/datta/win/longtogeny/data/ontogeny/version_{arhmm_version:02d}/training_data')\n",
    "agg_folder.mkdir(exist_ok=True, parents=True)"
   ]
  },
  {
   "cell_type": "code",
   "execution_count": 8,
   "id": "2eb8dae8-a780-40fc-8a38-318292a14c33",
   "metadata": {},
   "outputs": [
    {
     "data": {
      "text/plain": [
       "(PosixPath('/n/groups/datta/Dana/Ontogeny/raw_data/Ontogeny_females'),\n",
       " PosixPath('/n/groups/datta/Dana/Ontogeny/raw_data/Ontogeny_males'),\n",
       " PosixPath('/n/groups/datta/Dana/Ontogeny/raw_data/Dana_ontogeny/Males'),\n",
       " PosixPath('/n/groups/datta/Dana/Ontogeny/raw_data/Dana_ontogeny/Females'),\n",
       " PosixPath('/n/groups/datta/Dana/Ontogeny/raw_data/longtogeny_pre_unet/Males'),\n",
       " PosixPath('/n/groups/datta/min/longtogeny_072023/Males'),\n",
       " PosixPath('/n/groups/datta/min/longtogeny_072023/Females'),\n",
       " PosixPath('/n/groups/datta/min/wheel_062023'),\n",
       " PosixPath('/n/groups/datta/win/longtogeny/dlight'),\n",
       " PosixPath('/n/groups/datta/min/longtogeny_052023/Males'))"
      ]
     },
     "execution_count": 8,
     "metadata": {},
     "output_type": "execute_result"
    }
   ],
   "source": [
    "FOLDERS[:-1]"
   ]
  },
  {
   "cell_type": "code",
   "execution_count": 12,
   "id": "26cddb9f-e03e-42cc-83bb-1c2aa0bc4e2f",
   "metadata": {
    "tags": []
   },
   "outputs": [
    {
     "name": "stdout",
     "output_type": "stream",
     "text": [
      "/n/groups/datta/Dana/Ontogeny/raw_data/Dana_ontogeny/Males/12months_28042021/session_20210428102836/proc_cleaned/results_00.h5\n"
     ]
    }
   ],
   "source": [
    "# filter files for the ones with size_normalized_frames\n",
    "files = sorted(\n",
    "    filter(\n",
    "        thread_and((is_size_normalized, not_excluded)),\n",
    "        concat(f.glob(\"**/*results_00.h5\") for f in FOLDERS[:-1]),\n",
    "    )\n",
    ")"
   ]
  },
  {
   "cell_type": "code",
   "execution_count": 13,
   "id": "a96bba4f-c6a1-463f-9417-8c98217f4b92",
   "metadata": {},
   "outputs": [],
   "source": [
    "parent_counts = frequencies(str(f.parents[1]) for f in files)"
   ]
  },
  {
   "cell_type": "code",
   "execution_count": 14,
   "id": "dc4383ab-013a-4b5d-a910-e6c021d402c1",
   "metadata": {},
   "outputs": [],
   "source": [
    "files = list(filter(not_double(parent_counts), files))"
   ]
  },
  {
   "cell_type": "code",
   "execution_count": 15,
   "id": "6b7574a0-b502-413a-bcdd-979290d1b00a",
   "metadata": {
    "tags": []
   },
   "outputs": [
    {
     "name": "stdout",
     "output_type": "stream",
     "text": [
      "/n/groups/datta/min/wheel_062023/session_20230726160946/proc/results_00.h5 exists in training set\n",
      "/n/groups/datta/min/wheel_062023/session_20230726163905/proc/results_00.h5 exists in training set\n",
      "/n/groups/datta/min/wheel_062023/session_20230726170544/proc/results_00.h5 exists in training set\n",
      "/n/groups/datta/min/wheel_062023/session_20230726173404/proc/results_00.h5 exists in training set\n",
      "/n/groups/datta/min/wheel_062023/session_20230726180157/proc/results_00.h5 exists in training set\n",
      "/n/groups/datta/min/wheel_062023/wheel_min/session_20230715120836/proc/results_00.h5 exists in training set\n",
      "/n/groups/datta/min/wheel_062023/wheel_min/session_20230715125704/proc/results_00.h5 exists in training set\n",
      "/n/groups/datta/min/wheel_062023/wheel_min/session_20230715132708/proc/results_00.h5 exists in training set\n",
      "/n/groups/datta/min/wheel_062023/wheel_min/session_20230715135804/proc/results_00.h5 exists in training set\n",
      "/n/groups/datta/min/wheel_062023/wheel_min/session_20230715142922/proc/results_00.h5 exists in training set\n",
      "/n/groups/datta/min/wheel_062023/wheel_min/session_20230715150432/proc/results_00.h5 exists in training set\n",
      "/n/groups/datta/min/wheel_062023/wheel_min/session_20230715153529/proc/results_00.h5 exists in training set\n",
      "/n/groups/datta/min/wheel_062023/wheel_min/session_20230715160638/proc/results_00.h5 exists in training set\n",
      "/n/groups/datta/min/wheel_062023/wheel_min/session_20230716122150/proc/results_00.h5 exists in training set\n",
      "/n/groups/datta/min/wheel_062023/wheel_min/session_20230716125909/proc/results_00.h5 exists in training set\n",
      "/n/groups/datta/min/wheel_062023/wheel_min/session_20230716133615/proc/results_00.h5 exists in training set\n",
      "/n/groups/datta/min/wheel_062023/wheel_min/session_20230716140501/proc/results_00.h5 exists in training set\n",
      "/n/groups/datta/min/wheel_062023/wheel_min/session_20230716143436/proc/results_00.h5 exists in training set\n",
      "/n/groups/datta/min/wheel_062023/wheel_min/session_20230716150150/proc/results_00.h5 exists in training set\n",
      "/n/groups/datta/min/wheel_062023/wheel_min/session_20230716153353/proc/results_00.h5 exists in training set\n",
      "/n/groups/datta/min/wheel_062023/wheel_min/session_20230716161227/proc/results_00.h5 exists in training set\n"
     ]
    }
   ],
   "source": [
    "for path in files:\n",
    "    try:\n",
    "        new_path = agg_folder / (path.parents[1].name + '.h5')\n",
    "        new_path.symlink_to(path)\n",
    "        new_path = agg_folder / (path.parents[1].name + '.yaml')\n",
    "        new_path.symlink_to(path.with_suffix('.yaml'))\n",
    "    except FileExistsError:\n",
    "        print(path, 'exists in training set')"
   ]
  },
  {
   "cell_type": "code",
   "execution_count": null,
   "id": "b1b107a6-e6c8-44dc-87e7-3034f9caab79",
   "metadata": {},
   "outputs": [],
   "source": []
  }
 ],
 "metadata": {
  "kernelspec": {
   "display_name": "Ontogeny",
   "language": "python",
   "name": "aging"
  },
  "language_info": {
   "codemirror_mode": {
    "name": "ipython",
    "version": 3
   },
   "file_extension": ".py",
   "mimetype": "text/x-python",
   "name": "python",
   "nbconvert_exporter": "python",
   "pygments_lexer": "ipython3",
   "version": "3.10.10"
  },
  "widgets": {
   "application/vnd.jupyter.widget-state+json": {
    "state": {},
    "version_major": 2,
    "version_minor": 0
   }
  }
 },
 "nbformat": 4,
 "nbformat_minor": 5
}
