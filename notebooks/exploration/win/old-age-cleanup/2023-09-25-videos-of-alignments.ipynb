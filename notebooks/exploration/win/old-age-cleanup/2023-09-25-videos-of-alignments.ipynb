{
 "cells": [
  {
   "cell_type": "markdown",
   "id": "0988fb3c-a8d4-4265-aeba-62e924626739",
   "metadata": {},
   "source": [
    "# Create videos to check the size norm results"
   ]
  },
  {
   "cell_type": "code",
   "execution_count": 1,
   "id": "6dfcc29b",
   "metadata": {},
   "outputs": [],
   "source": [
    "import joblib\n",
    "import numpy as np\n",
    "from pathlib import Path\n",
    "from tqdm.auto import tqdm\n",
    "from aging.video import write_movie_av"
   ]
  },
  {
   "cell_type": "code",
   "execution_count": 2,
   "id": "f3050875",
   "metadata": {},
   "outputs": [],
   "source": [
    "save_folder = Path('/n/scratch3/users/w/wg41/age-aligned-frames-with-flip-correction')"
   ]
  },
  {
   "cell_type": "code",
   "execution_count": 3,
   "id": "19573d05",
   "metadata": {},
   "outputs": [],
   "source": [
    "# data = joblib.load('/n/scratch3/users/w/wg41/aging-aligned-frames.p')\n",
    "data = joblib.load('/n/scratch3/users/w/wg41/aging-aligned-frames-with-flip-correction.p')"
   ]
  },
  {
   "cell_type": "code",
   "execution_count": 4,
   "id": "d5907abc",
   "metadata": {},
   "outputs": [
    {
     "data": {
      "text/plain": [
       "(90,\n",
       " '56ce96a5-cfa2-48ea-b4ff-7190b18bb5e7',\n",
       " '/n/groups/datta/win/longtogeny/data/ontogeny/version_06/all_data_pca/Ontogeny_males/session_20211029101832.h5',\n",
       " 3)"
      ]
     },
     "execution_count": 4,
     "metadata": {},
     "output_type": "execute_result"
    }
   ],
   "source": [
    "list(data['frames'])[0]"
   ]
  },
  {
   "cell_type": "code",
   "execution_count": 5,
   "id": "bf6d04a4",
   "metadata": {},
   "outputs": [
    {
     "data": {
      "application/vnd.jupyter.widget-view+json": {
       "model_id": "3417c648283547c1ab942524450f6c57",
       "version_major": 2,
       "version_minor": 0
      },
      "text/plain": [
       "  0%|          | 0/75 [00:00<?, ?it/s]"
      ]
     },
     "metadata": {},
     "output_type": "display_data"
    }
   ],
   "source": [
    "n_frames = 9_000\n",
    "for k, v in tqdm(data['frames'].items()):\n",
    "    concat = np.concatenate((v[:n_frames], data['recon'][k][:n_frames]), axis=2)\n",
    "    save_file = save_folder / f\"age_{k[-1]:02d}_wks\" / f'{k[1]}.mp4'\n",
    "    write_movie_av(save_file, concat)"
   ]
  },
  {
   "cell_type": "code",
   "execution_count": null,
   "id": "5d64b7b6",
   "metadata": {},
   "outputs": [],
   "source": []
  }
 ],
 "metadata": {
  "kernelspec": {
   "display_name": "aging",
   "language": "python",
   "name": "python3"
  },
  "language_info": {
   "codemirror_mode": {
    "name": "ipython",
    "version": 3
   },
   "file_extension": ".py",
   "mimetype": "text/x-python",
   "name": "python",
   "nbconvert_exporter": "python",
   "pygments_lexer": "ipython3",
   "version": "3.10.10"
  },
  "widgets": {
   "application/vnd.jupyter.widget-state+json": {
    "state": {},
    "version_major": 2,
    "version_minor": 0
   }
  }
 },
 "nbformat": 4,
 "nbformat_minor": 5
}
