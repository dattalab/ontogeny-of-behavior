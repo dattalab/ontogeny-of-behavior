{
 "cells": [
  {
   "cell_type": "code",
   "execution_count": null,
   "id": "ef9e3bd3",
   "metadata": {},
   "outputs": [],
   "source": []
  },
  {
   "cell_type": "code",
   "execution_count": 1,
   "id": "70159d69",
   "metadata": {},
   "outputs": [],
   "source": [
    "import numpy as np\n",
    "import pandas as pd\n",
    "import matplotlib.pyplot as plt\n",
    "import seaborn as sns\n",
    "from pathlib import Path\n",
    "import matplotlib as mpl\n",
    "import os\n",
    "from matplotlib.lines import Line2D\n",
    "from collections import Counter\n",
    "import math\n",
    "from sklearn.decomposition import PCA\n",
    "from aging.behavior.syllables import relabel_by_usage\n",
    "from tqdm import tqdm\n",
    "%matplotlib inline\n",
    "import warnings\n",
    "warnings.simplefilter('ignore')\n",
    "import random"
   ]
  },
  {
   "cell_type": "code",
   "execution_count": 2,
   "id": "e2029beb",
   "metadata": {},
   "outputs": [],
   "source": [
    "from sklearn.linear_model import LinearRegression, ElasticNet\n",
    "from sklearn.preprocessing import OneHotEncoder\n",
    "import statsmodels.api as sm\n",
    "from statsmodels.formula.api import ols\n",
    "from statsmodels.tools.tools import pinv_extended  \n",
    "from statsmodels.stats.anova import anova_lm\n",
    "from tqdm.auto import tqdm"
   ]
  },
  {
   "cell_type": "code",
   "execution_count": 3,
   "id": "052e0400",
   "metadata": {},
   "outputs": [],
   "source": [
    "# plot/colors definitions\n",
    "cpath = '/n/groups/datta/win/longtogeny/code/notebooks/exploration/Dana'\n",
    "data_loc=cpath+'/figs/'\n",
    "try:\n",
    "    os.mkdir(data_loc)\n",
    "except FileExistsError:\n",
    "    # directory already exists\n",
    "    pass\n",
    "\n",
    "plt.style.use('seaborn-paper')\n",
    "cmm = sns.color_palette(\"light:b\", as_cmap=True)\n",
    "cmf = sns.color_palette(\"light:orange\", as_cmap=True)"
   ]
  },
  {
   "cell_type": "code",
   "execution_count": 4,
   "id": "c58a65f1",
   "metadata": {},
   "outputs": [],
   "source": [
    "## upload data frame females\n",
    "path = Path('/n/groups/datta/win/longtogeny/data/ontogeny/version_04/longtogeny_males_clean.parquet')\n",
    "mdf = pd.read_parquet(path)"
   ]
  },
  {
   "cell_type": "code",
   "execution_count": 5,
   "id": "f636b8fe",
   "metadata": {},
   "outputs": [],
   "source": [
    "#get rid of new recording sessions\n",
    "mdf = mdf[mdf.index.get_level_values(0)<800]"
   ]
  },
  {
   "cell_type": "code",
   "execution_count": null,
   "id": "e22864c0",
   "metadata": {},
   "outputs": [],
   "source": [
    "# remove later datapoints"
   ]
  },
  {
   "cell_type": "code",
   "execution_count": null,
   "id": "c614a520",
   "metadata": {},
   "outputs": [],
   "source": [
    "## filter out bad days - \n",
    "bad_session=[221, 228]\n",
    "\n",
    "new_df.drop(bad_session, level=0, axis=0, inplace=True)\n"
   ]
  },
  {
   "cell_type": "code",
   "execution_count": 6,
   "id": "6cc82b58",
   "metadata": {},
   "outputs": [],
   "source": [
    "df_indv=mdf.groupby(['mouse','age']).mean()"
   ]
  },
  {
   "cell_type": "code",
   "execution_count": 7,
   "id": "ee6dffcb",
   "metadata": {},
   "outputs": [
    {
     "data": {
      "text/plain": [
       "Index([ 0,  1,  2,  3,  4,  5,  6,  7,  8,  9, 10, 11, 12, 13, 14, 15, 16, 17,\n",
       "       18, 19, 20, 21, 22, 23, 24, 25, 26, 27, 28, 29, 30, 31, 32, 33, 34, 35,\n",
       "       36, 37, 38, 39, 40, 41, 42, 43, 44, 45, 46, 47, 48, 49, 50, 51, 52, 53,\n",
       "       54],\n",
       "      dtype='int64', name='relabeled_syllables')"
      ]
     },
     "execution_count": 7,
     "metadata": {},
     "output_type": "execute_result"
    }
   ],
   "source": [
    "df_indv.columns"
   ]
  },
  {
   "cell_type": "code",
   "execution_count": 8,
   "id": "5db3c767",
   "metadata": {},
   "outputs": [],
   "source": [
    "y = df_indv.to_numpy()\n",
    "y_log = np.log(y + 1e-6)\n",
    "y = (y_log - y_log.mean(axis=0, keepdims=True)) / y_log.std(axis=0, keepdims=True) # z-score"
   ]
  },
  {
   "cell_type": "code",
   "execution_count": 9,
   "id": "717f5a61",
   "metadata": {},
   "outputs": [
    {
     "data": {
      "text/html": [
       "<style>#sk-container-id-1 {color: black;}#sk-container-id-1 pre{padding: 0;}#sk-container-id-1 div.sk-toggleable {background-color: white;}#sk-container-id-1 label.sk-toggleable__label {cursor: pointer;display: block;width: 100%;margin-bottom: 0;padding: 0.3em;box-sizing: border-box;text-align: center;}#sk-container-id-1 label.sk-toggleable__label-arrow:before {content: \"▸\";float: left;margin-right: 0.25em;color: #696969;}#sk-container-id-1 label.sk-toggleable__label-arrow:hover:before {color: black;}#sk-container-id-1 div.sk-estimator:hover label.sk-toggleable__label-arrow:before {color: black;}#sk-container-id-1 div.sk-toggleable__content {max-height: 0;max-width: 0;overflow: hidden;text-align: left;background-color: #f0f8ff;}#sk-container-id-1 div.sk-toggleable__content pre {margin: 0.2em;color: black;border-radius: 0.25em;background-color: #f0f8ff;}#sk-container-id-1 input.sk-toggleable__control:checked~div.sk-toggleable__content {max-height: 200px;max-width: 100%;overflow: auto;}#sk-container-id-1 input.sk-toggleable__control:checked~label.sk-toggleable__label-arrow:before {content: \"▾\";}#sk-container-id-1 div.sk-estimator input.sk-toggleable__control:checked~label.sk-toggleable__label {background-color: #d4ebff;}#sk-container-id-1 div.sk-label input.sk-toggleable__control:checked~label.sk-toggleable__label {background-color: #d4ebff;}#sk-container-id-1 input.sk-hidden--visually {border: 0;clip: rect(1px 1px 1px 1px);clip: rect(1px, 1px, 1px, 1px);height: 1px;margin: -1px;overflow: hidden;padding: 0;position: absolute;width: 1px;}#sk-container-id-1 div.sk-estimator {font-family: monospace;background-color: #f0f8ff;border: 1px dotted black;border-radius: 0.25em;box-sizing: border-box;margin-bottom: 0.5em;}#sk-container-id-1 div.sk-estimator:hover {background-color: #d4ebff;}#sk-container-id-1 div.sk-parallel-item::after {content: \"\";width: 100%;border-bottom: 1px solid gray;flex-grow: 1;}#sk-container-id-1 div.sk-label:hover label.sk-toggleable__label {background-color: #d4ebff;}#sk-container-id-1 div.sk-serial::before {content: \"\";position: absolute;border-left: 1px solid gray;box-sizing: border-box;top: 0;bottom: 0;left: 50%;z-index: 0;}#sk-container-id-1 div.sk-serial {display: flex;flex-direction: column;align-items: center;background-color: white;padding-right: 0.2em;padding-left: 0.2em;position: relative;}#sk-container-id-1 div.sk-item {position: relative;z-index: 1;}#sk-container-id-1 div.sk-parallel {display: flex;align-items: stretch;justify-content: center;background-color: white;position: relative;}#sk-container-id-1 div.sk-item::before, #sk-container-id-1 div.sk-parallel-item::before {content: \"\";position: absolute;border-left: 1px solid gray;box-sizing: border-box;top: 0;bottom: 0;left: 50%;z-index: -1;}#sk-container-id-1 div.sk-parallel-item {display: flex;flex-direction: column;z-index: 1;position: relative;background-color: white;}#sk-container-id-1 div.sk-parallel-item:first-child::after {align-self: flex-end;width: 50%;}#sk-container-id-1 div.sk-parallel-item:last-child::after {align-self: flex-start;width: 50%;}#sk-container-id-1 div.sk-parallel-item:only-child::after {width: 0;}#sk-container-id-1 div.sk-dashed-wrapped {border: 1px dashed gray;margin: 0 0.4em 0.5em 0.4em;box-sizing: border-box;padding-bottom: 0.4em;background-color: white;}#sk-container-id-1 div.sk-label label {font-family: monospace;font-weight: bold;display: inline-block;line-height: 1.2em;}#sk-container-id-1 div.sk-label-container {text-align: center;}#sk-container-id-1 div.sk-container {/* jupyter's `normalize.less` sets `[hidden] { display: none; }` but bootstrap.min.css set `[hidden] { display: none !important; }` so we also need the `!important` here to be able to override the default hidden behavior on the sphinx rendered scikit-learn.org. See: https://github.com/scikit-learn/scikit-learn/issues/21755 */display: inline-block !important;position: relative;}#sk-container-id-1 div.sk-text-repr-fallback {display: none;}</style><div id=\"sk-container-id-1\" class=\"sk-top-container\"><div class=\"sk-text-repr-fallback\"><pre>ElasticNet(alpha=0.01)</pre><b>In a Jupyter environment, please rerun this cell to show the HTML representation or trust the notebook. <br />On GitHub, the HTML representation is unable to render, please try loading this page with nbviewer.org.</b></div><div class=\"sk-container\" hidden><div class=\"sk-item\"><div class=\"sk-estimator sk-toggleable\"><input class=\"sk-toggleable__control sk-hidden--visually\" id=\"sk-estimator-id-1\" type=\"checkbox\" checked><label for=\"sk-estimator-id-1\" class=\"sk-toggleable__label sk-toggleable__label-arrow\">ElasticNet</label><div class=\"sk-toggleable__content\"><pre>ElasticNet(alpha=0.01)</pre></div></div></div></div></div>"
      ],
      "text/plain": [
       "ElasticNet(alpha=0.01)"
      ]
     },
     "execution_count": 9,
     "metadata": {},
     "output_type": "execute_result"
    }
   ],
   "source": [
    "# run GLM for all data\n",
    "indv_encoder = OneHotEncoder(sparse=False).fit_transform(df_indv.index.get_level_values(0).to_numpy().reshape(-1, 1))\n",
    "age_encoder = OneHotEncoder(sparse=False).fit_transform(df_indv.index.get_level_values(1).to_numpy().reshape(-1, 1))\n",
    "x = np.concatenate((age_encoder,indv_encoder), axis=1)\n",
    "lr = ElasticNet(alpha=0.01)\n",
    "lr.fit(x, y)"
   ]
  },
  {
   "cell_type": "code",
   "execution_count": 10,
   "id": "57465a05",
   "metadata": {},
   "outputs": [
    {
     "data": {
      "text/plain": [
       "0.3552108661945509"
      ]
     },
     "execution_count": 10,
     "metadata": {},
     "output_type": "execute_result"
    }
   ],
   "source": [
    "lr.score(x,y)"
   ]
  },
  {
   "cell_type": "code",
   "execution_count": 11,
   "id": "4c0c8bdb",
   "metadata": {},
   "outputs": [],
   "source": [
    "## explained by indv at specific age"
   ]
  },
  {
   "cell_type": "code",
   "execution_count": 12,
   "id": "9ae77c15",
   "metadata": {},
   "outputs": [],
   "source": [
    "df = pd.DataFrame()\n",
    "df['indv'] = df_indv.index.get_level_values(0).to_numpy()\n",
    "df['age'] = df_indv.index.get_level_values(1).to_numpy()\n",
    "syll=df_indv.columns.to_numpy()"
   ]
  },
  {
   "cell_type": "code",
   "execution_count": 13,
   "id": "202f0b2d",
   "metadata": {},
   "outputs": [
    {
     "data": {
      "text/plain": [
       "<matplotlib.colorbar.Colorbar at 0x7f20dc102710>"
      ]
     },
     "execution_count": 13,
     "metadata": {},
     "output_type": "execute_result"
    },
    {
     "data": {
      "image/png": "[encoded data removed]",
      "text/plain": [
       "<Figure size 800x800 with 2 Axes>"
      ]
     },
     "metadata": {},
     "output_type": "display_data"
    }
   ],
   "source": [
    "# plot weights for phase and individual identity\n",
    "from mpl_toolkits.axes_grid1 import make_axes_locatable\n",
    "\n",
    "fig, ax = plt.subplots()\n",
    "fig.set_size_inches(8,8)\n",
    "im=plt.imshow(lr.coef_, cmap='RdBu_r', vmin=-2, vmax=2)\n",
    "#plt.imshow(lr.coef_, cmap='RdBu_r')\n",
    "plt.title('Model weights')\n",
    "ax = plt.gca()\n",
    "rect = plt.Rectangle((-0.5, -1.5), age_encoder.shape[1], 1, facecolor='red', alpha=1, label='age')\n",
    "ax.add_patch(rect)\n",
    "rect = plt.Rectangle((age_encoder.shape[1]-0.5, -1.5), indv_encoder.shape[1], 1, facecolor='blue', alpha=1, label='indv_identity')\n",
    "ax.add_patch(rect)\n",
    "plt.axvline(age_encoder.shape[1] - 0.5, c='k', ls='--', lw=1)\n",
    "plt.ylim(-1.5, y.shape[1] - 0.5)\n",
    "\n",
    "# create an axes on the right side of ax. The width of cax will be 5%\n",
    "# of ax and the padding between cax and ax will be fixed at 0.05 inch.\n",
    "\n",
    "plt.legend(frameon=False, loc='upper left', bbox_to_anchor=(1.25, 1))\n",
    "divider = make_axes_locatable(ax)\n",
    "cax = divider.append_axes(\"right\", size=\"5%\", pad=0.05)\n",
    "   \n",
    "plt.colorbar(im, cax=cax)\n",
    "#fig.savefig(data_loc + 'long_GLM_coefficients.pdf', bbox_inches='tight')"
   ]
  },
  {
   "cell_type": "code",
   "execution_count": 14,
   "id": "a11df048",
   "metadata": {},
   "outputs": [],
   "source": [
    "## compute multiple models"
   ]
  },
  {
   "cell_type": "code",
   "execution_count": 15,
   "id": "95ff92c2",
   "metadata": {},
   "outputs": [],
   "source": [
    "#load and prepare data\n",
    "df = pd.DataFrame()\n",
    "df['indv'] = df_indv.index.get_level_values(0).to_numpy()\n",
    "df['phase'] = df_indv.index.get_level_values(1).to_numpy()\n",
    "syll=df_indv.columns.to_numpy()"
   ]
  },
  {
   "cell_type": "code",
   "execution_count": 16,
   "id": "69921f7d",
   "metadata": {},
   "outputs": [],
   "source": [
    "## for addition (no interaction)\n",
    "ip = []\n",
    "formula = 'syll ~ C(indv) + C(phase)'\n",
    "for i in range(len(syll)):\n",
    "    df['syll']=y[:,i]\n",
    "    model = ols(formula, data=df)\n",
    "    res=model.fit_regularized(method='elastic_net',alpha=0.01)\n",
    "    pinv_wexog,_ = pinv_extended(model.wexog)\n",
    "    normalized_cov_params = np.dot(pinv_wexog, np.transpose(pinv_wexog))\n",
    "    summary = sm.regression.linear_model.OLSResults(model,res.params,normalized_cov_params)\n",
    "    ip.append(summary.rsquared)"
   ]
  },
  {
   "cell_type": "code",
   "execution_count": 17,
   "id": "67e1ab41",
   "metadata": {},
   "outputs": [],
   "source": [
    "## for addition and interactions per syllable\n",
    "ip_intr = []\n",
    "formula = 'syll ~ C(indv) + C(phase) + C(indv):C(phase)'\n",
    "for i in range(len(syll)):\n",
    "    df['syll']=y[:,i]\n",
    "    model = ols(formula, data=df)\n",
    "    res=model.fit_regularized(method='elastic_net',alpha=0.01)\n",
    "    pinv_wexog,_ = pinv_extended(model.wexog)\n",
    "    normalized_cov_params = np.dot(pinv_wexog, np.transpose(pinv_wexog))\n",
    "    summary = sm.regression.linear_model.OLSResults(model,res.params,normalized_cov_params)\n",
    "    ip_intr.append(summary.rsquared)"
   ]
  },
  {
   "cell_type": "code",
   "execution_count": 18,
   "id": "5d3546cf",
   "metadata": {},
   "outputs": [],
   "source": [
    "## for individual identity alone\n",
    "## for phase alone\n",
    "df['indv'] = df_indv.index.get_level_values(0).to_numpy()\n",
    "df['phase'] = df_indv.index.get_level_values(1).to_numpy()\n",
    "indv = []\n",
    "formula = 'syll ~ C(indv)'\n",
    "for i in range(len(syll)):\n",
    "    df['syll']=y[:,i]\n",
    "    model = ols(formula, data=df)\n",
    "    res=model.fit_regularized(method='elastic_net',alpha=0.01)\n",
    "    pinv_wexog,_ = pinv_extended(model.wexog)\n",
    "    normalized_cov_params = np.dot(pinv_wexog, np.transpose(pinv_wexog))\n",
    "    summary = sm.regression.linear_model.OLSResults(model,res.params,normalized_cov_params)\n",
    "    indv.append(summary.rsquared)"
   ]
  },
  {
   "cell_type": "code",
   "execution_count": 19,
   "id": "94fa45db",
   "metadata": {},
   "outputs": [
    {
     "data": {
      "application/vnd.jupyter.widget-view+json": {
       "model_id": "",
       "version_major": 2,
       "version_minor": 0
      },
      "text/plain": [
       "  0%|          | 0/55 [00:00<?, ?it/s]"
      ]
     },
     "metadata": {},
     "output_type": "display_data"
    }
   ],
   "source": [
    "## for shuffeled individual labels\n",
    "a=df_indv.index.get_level_values(0).to_numpy()\n",
    "formula = 'syll ~ C(new_indv)'\n",
    "indv_shuff = []\n",
    "it=100\n",
    "for i in tqdm(range(len(syll))):\n",
    "    temp_indv=[]\n",
    "    df['syll']=y[:,i]\n",
    "    for j in range(it):\n",
    "        df['new_indv'] = np.random.permutation(a)\n",
    "        model = ols(formula, data=df)\n",
    "        res=model.fit_regularized(method='elastic_net',alpha=0.01)\n",
    "        pinv_wexog,_ = pinv_extended(model.wexog)\n",
    "        normalized_cov_params = np.dot(pinv_wexog, np.transpose(pinv_wexog))\n",
    "        summary = sm.regression.linear_model.OLSResults(model,res.params,normalized_cov_params)\n",
    "        temp_indv.append(summary.rsquared)\n",
    "    indv_shuff.append(np.mean(temp_indv))"
   ]
  },
  {
   "cell_type": "code",
   "execution_count": 20,
   "id": "c6a95484",
   "metadata": {},
   "outputs": [],
   "source": [
    "## for phase alone\n",
    "df['indv'] = df_indv.index.get_level_values(0).to_numpy()\n",
    "df['phase'] = df_indv.index.get_level_values(1).to_numpy()\n",
    "ph = []\n",
    "formula = 'syll ~ C(phase)'\n",
    "\n",
    "for i in range(len(syll)):\n",
    "    df['syll']=y[:,i]\n",
    "    model = ols(formula, data=df)\n",
    "    res=model.fit_regularized(method='elastic_net',alpha=0.01)\n",
    "    pinv_wexog,_ = pinv_extended(model.wexog)\n",
    "    normalized_cov_params = np.dot(pinv_wexog, np.transpose(pinv_wexog))\n",
    "    summary = sm.regression.linear_model.OLSResults(model,res.params,normalized_cov_params)\n",
    "    ph.append(summary.rsquared)"
   ]
  },
  {
   "cell_type": "code",
   "execution_count": 21,
   "id": "63664aab",
   "metadata": {},
   "outputs": [
    {
     "data": {
      "application/vnd.jupyter.widget-view+json": {
       "model_id": "",
       "version_major": 2,
       "version_minor": 0
      },
      "text/plain": [
       "  0%|          | 0/55 [00:00<?, ?it/s]"
      ]
     },
     "metadata": {},
     "output_type": "display_data"
    }
   ],
   "source": [
    "## for shuffeled phase labels\n",
    "a=df_indv.index.get_level_values(1).to_numpy()\n",
    "formula = 'syll ~ C(new_phase)'\n",
    "phase_shuff = []\n",
    "it=100\n",
    "for i in tqdm(range(len(syll))):\n",
    "    temp_phase=[]\n",
    "    df['syll']=y[:,i]\n",
    "    for j in range(it):\n",
    "        df['new_phase'] = np.random.permutation(a)\n",
    "        model = ols(formula, data=df)\n",
    "        res=model.fit_regularized(method='elastic_net',alpha=0.01)\n",
    "        pinv_wexog,_ = pinv_extended(model.wexog)\n",
    "        normalized_cov_params = np.dot(pinv_wexog, np.transpose(pinv_wexog))\n",
    "        summary = sm.regression.linear_model.OLSResults(model,res.params,normalized_cov_params)\n",
    "        temp_phase.append(summary.rsquared)\n",
    "    phase_shuff.append(np.mean(temp_phase))"
   ]
  },
  {
   "cell_type": "code",
   "execution_count": 22,
   "id": "ff185d96",
   "metadata": {},
   "outputs": [],
   "source": [
    "# create dataframe for plotting\n",
    "r2 = np.concatenate((np.array(ip_intr),\n",
    "                      np.array(ip),\n",
    "                      np.array(ph),\n",
    "                      np.array(phase_shuff),\n",
    "                      np.array(indv),\n",
    "                      np.array(indv_shuff)\n",
    "                    ))\n",
    "models = np.concatenate((len(np.array(ip_intr)) * ['Indv*Age'],\n",
    "                         len(np.array(ip)) * ['I:A'],\n",
    "                         len(np.array(ph)) * ['Age'],\n",
    "                         len(np.array(phase_shuff)) * ['Age_sh'],\n",
    "                         len(np.array(indv)) * ['Indv'],\n",
    "                         len(np.array(indv_shuff)) * ['Indv_sh']\n",
    "                        ))\n",
    "lsyll = list(syll)*6\n",
    "data = {'r2': list(r2), \n",
    "        'models': list(models),\n",
    "        'syll':list(lsyll)}"
   ]
  },
  {
   "cell_type": "code",
   "execution_count": 23,
   "id": "92d29e17",
   "metadata": {},
   "outputs": [
    {
     "name": "stderr",
     "output_type": "stream",
     "text": [
      "No artists with labels found to put in legend.  Note that artists whose label start with an underscore are ignored when legend() is called with no argument.\n"
     ]
    },
    {
     "data": {
      "image/png": "[encoded data removed]",
      "text/plain": [
       "<Figure size 500x500 with 1 Axes>"
      ]
     },
     "metadata": {},
     "output_type": "display_data"
    }
   ],
   "source": [
    "# plot\n",
    "fig, ax = plt.subplots()\n",
    "fig.set_size_inches(5,5)\n",
    "ax = sns.pointplot(x=\"models\",y=\"r2\",data=data,errorbar=('se'),join=False, \n",
    "                   order=['Indv*Age','I:A','Age','Age_sh','Indv','Indv_sh'])\n",
    "plt.legend(frameon=False, loc='upper left', bbox_to_anchor=(1.25, 1))\n",
    "ax.set_title('LGM model performance R2')\n",
    "sns.despine()\n",
    "#fig.savefig(data_loc +'long_GLM_r2.pdf', bbox_inches='tight')"
   ]
  },
  {
   "cell_type": "code",
   "execution_count": 24,
   "id": "3d48dd01",
   "metadata": {},
   "outputs": [],
   "source": [
    "## indv vs age component in different ages"
   ]
  },
  {
   "cell_type": "code",
   "execution_count": 6,
   "id": "a2d53f6f",
   "metadata": {},
   "outputs": [],
   "source": [
    "#get rid of new recording sessions\n",
    "df_indv=mdf.groupby(['mouse','age']).mean()\n",
    "df_indv = df_indv[df_indv.index.get_level_values(1)<800]"
   ]
  },
  {
   "cell_type": "code",
   "execution_count": 7,
   "id": "be945e15",
   "metadata": {},
   "outputs": [],
   "source": [
    "# get rid of all new ages"
   ]
  },
  {
   "cell_type": "code",
   "execution_count": 8,
   "id": "25551f49",
   "metadata": {},
   "outputs": [],
   "source": [
    "df=df_indv.copy().reset_index()"
   ]
  },
  {
   "cell_type": "code",
   "execution_count": 9,
   "id": "4029727f",
   "metadata": {},
   "outputs": [
    {
     "data": {
      "text/plain": [
       "\"\\n#on pcs\\npca = PCA(n_components=10)\\npcs=pca.fit_transform(np.log(df_indv + 1e-6))\\npc_df = pd.DataFrame(pcs)\\npc_df['age'] = df['age']\\npc_df['mouse'] = df['mouse']\\ndf=pc_df.copy()\\n\""
      ]
     },
     "execution_count": 9,
     "metadata": {},
     "output_type": "execute_result"
    }
   ],
   "source": [
    "'''\n",
    "#on pcs\n",
    "pca = PCA(n_components=10)\n",
    "pcs=pca.fit_transform(np.log(df_indv + 1e-6))\n",
    "pc_df = pd.DataFrame(pcs)\n",
    "pc_df['age'] = df['age']\n",
    "pc_df['mouse'] = df['mouse']\n",
    "df=pc_df.copy()\n",
    "'''"
   ]
  },
  {
   "cell_type": "code",
   "execution_count": 10,
   "id": "c9afbc6b",
   "metadata": {},
   "outputs": [],
   "source": [
    "xmale = pd.DataFrame()\n",
    "a=0\n",
    "n=25 # number of consecutive days for calculate over\n",
    "age=[]\n",
    "indv=[]\n",
    "time=[]\n",
    "score=[]\n",
    "b=False\n",
    "\n",
    "while True:\n",
    "    # build the current age matrix\n",
    "    for m,_df in enumerate(df.groupby('mouse')):\n",
    "        xmale_temp = _df[1][a:a+n]\n",
    "        xmale = pd.concat([xmale,xmale_temp])\n",
    "    rep_counts = xmale.groupby('mouse')['age'].nunique()\n",
    "    keep_mice = list(rep_counts[rep_counts >= n].index) # keep mice that have at least 5 sessions\n",
    "    xmale = xmale[xmale['mouse'].isin(keep_mice)]\n",
    "    if xmale.empty:\n",
    "        break\n",
    "    # run GLM\n",
    "    # prepare syllable data\n",
    "    age.append(np.floor(np.mean(xmale['age'])).astype(int))\n",
    "    y = xmale.drop(['mouse','age'], axis=1).to_numpy()\n",
    "    y_log = np.log(y + 1e-6)\n",
    "    y = (y_log - y_log.mean(axis=0, keepdims=True)) / y_log.std(axis=0, keepdims=True) # z-score\n",
    "    # prepare predictors\n",
    "    indv_encoder = OneHotEncoder(sparse=False).fit_transform(xmale['mouse'].to_numpy().reshape(-1, 1))\n",
    "    age_encoder = OneHotEncoder(sparse=False).fit_transform(xmale['age'].to_numpy().reshape(-1, 1))\n",
    "    lr = ElasticNet(alpha=0.01)\n",
    "    lr.fit(indv_encoder, y)\n",
    "    indv.append(lr.score(indv_encoder,y))\n",
    "    lr.fit(age_encoder, y)\n",
    "    time.append(lr.score(age_encoder,y))\n",
    "    \n",
    "    x = np.concatenate((age_encoder,indv_encoder), axis=1)\n",
    "    lr = ElasticNet(alpha=0.01)\n",
    "    lr.fit(x, y)\n",
    "    score.append(lr.score(x,y))\n",
    "    \n",
    "    # handle variables for the loop\n",
    "    xmale = pd.DataFrame()\n",
    "    #temp_acc=[]\n",
    "    a=a+1"
   ]
  },
  {
   "cell_type": "code",
   "execution_count": 12,
   "id": "7aba8626",
   "metadata": {},
   "outputs": [
    {
     "name": "stdout",
     "output_type": "stream",
     "text": [
      "(('r2', 120), ('models', 120), ('ages', 120))\n"
     ]
    },
    {
     "data": {
      "image/png": "[encoded data removed]",
      "text/plain": [
       "<Figure size 600x400 with 1 Axes>"
      ]
     },
     "metadata": {},
     "output_type": "display_data"
    }
   ],
   "source": [
    "# plot\n",
    "r2 = np.concatenate((np.array(score),\n",
    "                      np.array(indv),\n",
    "                      np.array(time)\n",
    "                    ))\n",
    "models = np.concatenate((len(np.array(score)) * ['indv*age'],\n",
    "                         len(np.array(indv)) * ['indv'],\n",
    "                         len(np.array(time)) * ['age']\n",
    "                        ))\n",
    "\n",
    "ages = list(age)*3\n",
    "#data=pd.DataFrame()\n",
    "data = {'r2': list(r2), \n",
    "        'models': list(models),\n",
    "        'ages':list(ages)}\n",
    "print(tuple((k, len(v)) for k, v in data.items()))\n",
    "fig, ax = plt.subplots(figsize=(6, 4))\n",
    "sns.pointplot(data=pd.DataFrame(data), x=\"ages\", y=\"r2\",hue='models', ax=ax,join=True)\n",
    "#plt.legend([],[], frameon=False)\n",
    "#plt.xticks([])\n",
    "ax.set_ylim([0,0.7])\n",
    "sns.despine()"
   ]
  },
  {
   "cell_type": "code",
   "execution_count": 95,
   "id": "2c30160c",
   "metadata": {},
   "outputs": [],
   "source": [
    "xmale = pd.DataFrame()\n",
    "a=0\n",
    "n=20 # number of consecutive days for calculate over\n",
    "age=[]\n",
    "indv=[]\n",
    "time=[]\n",
    "score=[]\n",
    "b=False\n",
    "\n",
    "while True:\n",
    "    # build the current age matrix\n",
    "    for m,_df in enumerate(df.groupby('mouse')):\n",
    "        xmale_temp = _df[1][a:a+n]\n",
    "        xmale = pd.concat([xmale,xmale_temp])\n",
    "    rep_counts = xmale.groupby('mouse')['age'].nunique()\n",
    "    keep_mice = list(rep_counts[rep_counts >= n].index) # keep mice that have at least 5 sessions\n",
    "    xmale = xmale[xmale['mouse'].isin(keep_mice)]\n",
    "    if xmale.empty:\n",
    "        break\n",
    "    # run GLM\n",
    "    # prepare syllable data\n",
    "    age.append(np.floor(np.mean(xmale['age'])).astype(int))\n",
    "    y = xmale.drop(['mouse','age'], axis=1).to_numpy()\n",
    "    y_log = np.log(y + 1e-6)\n",
    "    y = (y_log - y_log.mean(axis=0, keepdims=True)) / y_log.std(axis=0, keepdims=True) # z-score\n",
    "    # prepare predictors\n",
    "    indv_encoder = OneHotEncoder(sparse=False).fit_transform(xmale['mouse'].to_numpy().reshape(-1, 1))\n",
    "    age_encoder = OneHotEncoder(sparse=False).fit_transform(xmale['age'].to_numpy().reshape(-1, 1))\n",
    "    x = np.concatenate((age_encoder,indv_encoder), axis=1)\n",
    "    lr = ElasticNet(alpha=0.01)\n",
    "    lr.fit(x, y)\n",
    "    score.append(lr.score(x,y))\n",
    "    # calcualte score on suffles indv (so just for age)\n",
    "    new_indv = np.random.permutation(indv_encoder)\n",
    "    x = np.concatenate((age_encoder,new_indv), axis=1)\n",
    "    time.append(lr.score(x,y))\n",
    "    # calcualte score on suffles age (so just indv)\n",
    "    new_age = np.random.permutation(age_encoder)\n",
    "    x = np.concatenate((new_age,indv_encoder), axis=1)\n",
    "    indv.append(lr.score(x,y))\n",
    "    # handle variables for the loop\n",
    "    xmale = pd.DataFrame()\n",
    "    #temp_acc=[]\n",
    "    a=a+1"
   ]
  },
  {
   "cell_type": "code",
   "execution_count": 97,
   "id": "87957588",
   "metadata": {},
   "outputs": [
    {
     "name": "stdout",
     "output_type": "stream",
     "text": [
      "(('r2', 144), ('models', 144), ('ages', 144))\n"
     ]
    },
    {
     "data": {
      "image/png": "[encoded data removed]",
      "text/plain": [
       "<Figure size 600x400 with 1 Axes>"
      ]
     },
     "metadata": {},
     "output_type": "display_data"
    }
   ],
   "source": [
    "# plot\n",
    "r2 = np.concatenate((np.array(score),\n",
    "                      np.array(indv),\n",
    "                      np.array(time)\n",
    "                    ))\n",
    "models = np.concatenate((len(np.array(score)) * ['score'],\n",
    "                         len(np.array(indv)) * ['indv'],\n",
    "                         len(np.array(time)) * ['time']\n",
    "                        ))\n",
    "\n",
    "ages = list(age)*3\n",
    "#data=pd.DataFrame()\n",
    "data = {'r2': list(r2), \n",
    "        'models': list(models),\n",
    "        'ages':list(ages)}\n",
    "print(tuple((k, len(v)) for k, v in data.items()))\n",
    "fig, ax = plt.subplots(figsize=(6, 4))\n",
    "sns.pointplot(data=pd.DataFrame(data), x=\"ages\", y=\"r2\", hue='models', ax=ax,join=True)\n",
    "plt.legend([],[], frameon=False)\n",
    "plt.xticks([])\n",
    "ax.set_ylim([0,1])\n",
    "sns.despine()"
   ]
  },
  {
   "cell_type": "code",
   "execution_count": null,
   "id": "96c22dd6",
   "metadata": {},
   "outputs": [],
   "source": []
  }
 ],
 "metadata": {
  "kernelspec": {
   "display_name": "Python 3 (ipykernel)",
   "language": "python",
   "name": "python3"
  },
  "language_info": {
   "codemirror_mode": {
    "name": "ipython",
    "version": 3
   },
   "file_extension": ".py",
   "mimetype": "text/x-python",
   "name": "python",
   "nbconvert_exporter": "python",
   "pygments_lexer": "ipython3",
   "version": "3.10.12"
  }
 },
 "nbformat": 4,
 "nbformat_minor": 5
}
