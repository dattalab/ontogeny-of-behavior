{
 "cells": [
  {
   "cell_type": "code",
   "execution_count": null,
   "id": "ef9e3bd3",
   "metadata": {},
   "outputs": [],
   "source": []
  },
  {
   "cell_type": "code",
   "execution_count": 1,
   "id": "70159d69",
   "metadata": {},
   "outputs": [],
   "source": [
    "import numpy as np\n",
    "import pandas as pd\n",
    "import matplotlib.pyplot as plt\n",
    "import seaborn as sns\n",
    "from pathlib import Path\n",
    "import matplotlib as mpl\n",
    "import os\n",
    "from matplotlib.lines import Line2D\n",
    "from collections import Counter\n",
    "import math\n",
    "from sklearn.decomposition import PCA\n",
    "from aging.behavior.syllables import relabel_by_usage\n",
    "from tqdm import tqdm\n",
    "%matplotlib inline\n",
    "import warnings\n",
    "warnings.simplefilter('ignore')\n",
    "import random"
   ]
  },
  {
   "cell_type": "code",
   "execution_count": 2,
   "id": "e2029beb",
   "metadata": {},
   "outputs": [],
   "source": [
    "from sklearn.linear_model import LinearRegression, ElasticNet\n",
    "from sklearn.preprocessing import OneHotEncoder\n",
    "import statsmodels.api as sm\n",
    "from statsmodels.formula.api import ols\n",
    "from statsmodels.tools.tools import pinv_extended  \n",
    "from statsmodels.stats.anova import anova_lm\n",
    "from tqdm.auto import tqdm"
   ]
  },
  {
   "cell_type": "code",
   "execution_count": 3,
   "id": "052e0400",
   "metadata": {},
   "outputs": [],
   "source": [
    "# plot/colors definitions\n",
    "cpath = '/n/groups/datta/win/longtogeny/code/notebooks/exploration/Dana'\n",
    "data_loc=cpath+'/figs/'\n",
    "try:\n",
    "    os.mkdir(data_loc)\n",
    "except FileExistsError:\n",
    "    # directory already exists\n",
    "    pass\n",
    "\n",
    "plt.style.use('dark_background')\n",
    "cmm = sns.color_palette(\"light:b\", as_cmap=True)\n",
    "cmf = sns.color_palette(\"light:orange\", as_cmap=True)"
   ]
  },
  {
   "cell_type": "code",
   "execution_count": 4,
   "id": "79732457",
   "metadata": {},
   "outputs": [],
   "source": [
    "## for males"
   ]
  },
  {
   "cell_type": "code",
   "execution_count": 5,
   "id": "c58a65f1",
   "metadata": {},
   "outputs": [],
   "source": [
    "## upload data frame females\n",
    "path = Path('/n/groups/datta/win/longtogeny/data/ontogeny/version_02/longtogeny_musages_mtx_all.parquet')\n",
    "mdf_all = pd.read_parquet(path)\n",
    "path = Path('/n/groups/datta/win/longtogeny/data/ontogeny/version_02/longtogeny_musages_mtx_most_used.parquet')\n",
    "mdf = pd.read_parquet(path)"
   ]
  },
  {
   "cell_type": "code",
   "execution_count": 6,
   "id": "2ed1ef1a",
   "metadata": {},
   "outputs": [],
   "source": [
    "## filter out bad days - \n",
    "bad_session=[221, 228]\n",
    "#bad_syllable=[44,89]\n",
    "bad_syllable=[44]\n",
    "bad_mouse='04_01'\n",
    "new_df=mdf.copy()\n",
    "new_df.drop(bad_session, level=0, axis=0, inplace=True)\n",
    "new_df.drop(bad_mouse, level=1, axis=0, inplace=True)\n",
    "new_df.drop(bad_syllable, axis=1, inplace=True)"
   ]
  },
  {
   "cell_type": "code",
   "execution_count": 7,
   "id": "6cc82b58",
   "metadata": {},
   "outputs": [],
   "source": [
    "df_indv=mdf.groupby(['mouse','age']).mean()"
   ]
  },
  {
   "cell_type": "code",
   "execution_count": 8,
   "id": "ee6dffcb",
   "metadata": {},
   "outputs": [
    {
     "data": {
      "text/plain": [
       "Index([ 0,  3,  6,  7, 10, 13, 14, 16, 19, 21, 27, 31, 32, 35, 36, 38, 40, 42,\n",
       "       44, 46, 49, 54, 55, 57, 58, 62, 65, 67, 69, 70, 72, 73, 75, 78, 79, 83,\n",
       "       86, 88, 89, 92, 94, 96, 98, 99],\n",
       "      dtype='int16', name='syllables')"
      ]
     },
     "execution_count": 8,
     "metadata": {},
     "output_type": "execute_result"
    }
   ],
   "source": [
    "df_indv.columns"
   ]
  },
  {
   "cell_type": "code",
   "execution_count": 9,
   "id": "9dd33572",
   "metadata": {},
   "outputs": [],
   "source": [
    "#days =df_indv['age'].to_numpy()\n",
    "#df_indv['wks'] = np.floor(days/7).astype(int)\n",
    "#df_indv['months'] = np.ceil(days/30).astype(int)\n",
    "#df_indv.set_index(['wks','months'])"
   ]
  },
  {
   "cell_type": "code",
   "execution_count": 10,
   "id": "5db3c767",
   "metadata": {},
   "outputs": [],
   "source": [
    "y = df_indv.to_numpy()\n",
    "y_log = np.log(y + 1e-6)\n",
    "y = (y_log - y_log.mean(axis=0, keepdims=True)) / y_log.std(axis=0, keepdims=True) # z-score"
   ]
  },
  {
   "cell_type": "code",
   "execution_count": 11,
   "id": "af0b199f",
   "metadata": {},
   "outputs": [
    {
     "data": {
      "text/plain": [
       "array([ 21,  22,  25,  26,  27,  28,  29,  30,  32,  42,  45,  48,  55,\n",
       "        58,  62,  66,  70,  73,  76,  80,  84,  87,  90,  93,  97, 107,\n",
       "       114, 121, 128, 135, 143, 149, 157, 165, 183, 194, 199, 206, 215,\n",
       "       221, 228, 243, 250, 270, 285, 354, 360, 366, 376, 381, 385, 395,\n",
       "       404, 411, 418, 431, 439, 449, 460, 468, 479, 488, 492,  21,  22,\n",
       "        25,  26,  27,  31,  32,  45,  48,  55,  58,  62,  66,  70,  73,\n",
       "        76,  80,  84,  87,  90,  93,  97, 107, 114, 121, 128, 135, 143,\n",
       "       149, 157, 165, 183, 194, 199, 206, 215, 221, 228, 243, 250, 270,\n",
       "       285, 354, 360, 366, 376, 381, 385, 395, 404, 411, 418, 431, 439,\n",
       "       449, 460, 468, 479, 488, 492,  21,  22,  25,  26,  27,  28,  29,\n",
       "        30,  31,  32,  42,  45,  48,  55,  58,  62,  66,  70,  73,  76,\n",
       "        84,  87,  90,  93,  97, 107, 114, 121, 128, 135, 149, 157, 165,\n",
       "       183, 194, 199, 206, 215, 221, 228, 243, 250, 270, 285, 354, 360,\n",
       "       366, 376, 381, 385, 395, 404, 411, 418, 431, 439, 449, 460, 468,\n",
       "       479, 488, 492,  21,  25,  26,  27,  28,  29,  30,  42,  45,  48,\n",
       "        55,  58,  62,  66,  70,  73,  76,  80,  84,  87,  90,  93,  97,\n",
       "       107, 114, 121, 128, 135, 143, 149, 157, 165, 183, 194, 199, 206,\n",
       "       215, 221, 228, 243, 250, 270, 285, 354, 360, 366, 376, 381, 385,\n",
       "       395, 404, 411, 418, 431, 439, 449, 460, 468, 479, 488, 492,  21,\n",
       "        22,  25,  26,  27,  28,  29,  30,  31,  32,  42,  45,  48,  55,\n",
       "        58,  62,  66,  70,  73,  76,  80,  84,  87,  90,  93,  97, 107,\n",
       "       114, 121, 128, 135, 143, 149, 157, 165, 183, 194, 199, 206, 215,\n",
       "       221, 228, 243, 250, 270, 285, 354, 360, 366, 376, 381, 385, 395,\n",
       "       404, 411, 418, 431, 439, 449, 460, 468, 479, 488, 492,  21,  22,\n",
       "        25,  26,  27,  28,  31,  32,  42,  45,  48,  55,  58,  62,  66,\n",
       "        70,  73,  76,  80,  84,  87,  90,  93,  97, 107, 114, 121, 128,\n",
       "       135, 143, 149, 157, 165, 183, 194, 199, 206, 215, 221, 228, 243,\n",
       "       250, 270, 285, 354, 360, 366, 376, 381, 385, 395, 404, 411, 418,\n",
       "       431, 439, 449, 460, 468, 479, 488, 492,  21,  22,  25,  26,  27,\n",
       "        28,  29,  30,  31,  32,  42,  45,  48,  55,  58,  62,  66,  70,\n",
       "        73,  76,  80,  84,  87,  90,  93,  97, 107, 114, 121, 128, 135,\n",
       "       149, 157, 165, 183, 194, 199, 206, 215, 221, 228, 243, 250, 270,\n",
       "       285, 354, 360, 366, 376, 381, 385, 395, 404, 411, 418, 431, 439,\n",
       "       449, 460, 468, 479, 488, 492,  21,  25,  26,  27,  28,  29,  30,\n",
       "        32,  42,  45,  48,  55,  58,  62,  66,  70,  73,  76,  80,  84,\n",
       "        87,  90,  93,  97, 107, 114, 121, 128, 135, 143, 149, 157, 165,\n",
       "       183, 194, 199, 206, 215, 221, 228, 243, 250, 270, 285, 354, 360,\n",
       "       366, 376, 381, 385, 395,  21,  22,  25,  26,  27,  28,  29,  30,\n",
       "        31,  32,  42,  45,  48,  55,  58,  62,  66,  70,  73,  76,  80,\n",
       "        84,  87,  90,  93,  97, 107, 114, 121, 128, 135, 143, 149, 157,\n",
       "       165, 183, 194, 199, 206, 215, 221, 228, 243, 250, 270, 285, 354,\n",
       "       360, 366, 376, 381, 385, 395, 404, 411, 418, 431, 439, 449, 460,\n",
       "       468, 479, 488, 492,  21,  22,  25,  26,  27,  28,  31,  32,  42,\n",
       "        45,  48,  55,  58,  62,  66,  70,  73,  76,  80,  84,  87,  90,\n",
       "        93,  97, 107, 114, 121, 128, 135, 143, 149, 157, 165, 183, 194,\n",
       "       199, 206, 215, 221, 228, 243, 250, 270, 285, 354, 360, 366, 376,\n",
       "       381, 385, 395, 404, 411, 418, 431, 439, 449, 460, 468, 479, 488,\n",
       "       492,  21,  22,  25,  26,  27,  28,  29,  30,  31,  32,  42,  45,\n",
       "        48,  55,  58,  62,  66,  70,  73,  76,  80,  84,  87,  90,  93,\n",
       "        97, 107, 114, 121, 128, 135, 149, 157, 165, 183, 194, 199, 206,\n",
       "       215, 221, 228,  21,  25,  27,  28,  29,  30,  32,  42,  45,  48,\n",
       "        55,  58,  62,  66,  70,  73,  76,  80,  84,  87,  90,  93,  97,\n",
       "       107, 114, 121, 128, 135, 143, 149, 157, 165, 183, 194, 199, 206,\n",
       "       215, 221, 228, 243, 250, 270, 285, 354, 360, 366, 376, 381, 385,\n",
       "       395, 404, 411, 418, 431, 439, 449, 460, 468, 479, 488, 492,  21,\n",
       "        22,  25,  26,  27,  28,  29,  30,  31,  42,  45,  48,  55,  58,\n",
       "        62,  66,  70,  73,  76,  80,  84,  87,  90,  93,  97, 107, 114,\n",
       "       121, 128, 135, 143, 149, 157, 165, 183, 194, 199, 206, 215, 221,\n",
       "       228, 243, 250, 270, 285, 354, 360, 366, 376, 381, 385, 395, 404,\n",
       "       411, 418, 431, 439, 449, 460, 468, 479, 488, 492,  21,  22,  25,\n",
       "        26,  27,  31,  32,  42,  45,  48,  55,  58,  62,  66,  70,  73,\n",
       "        76,  80,  84,  87,  90,  93,  97, 107, 114, 121, 128, 135, 143,\n",
       "       149, 157, 165, 183, 194, 199, 206, 215, 221, 228, 243, 250, 270,\n",
       "       285, 354, 360, 366, 376, 381, 385, 395, 404, 411, 418, 431, 439,\n",
       "       449, 460, 468, 479, 488, 492,  21,  22,  26,  27,  28,  29,  30,\n",
       "        31,  32,  42,  48,  55,  58,  62,  66,  73,  76,  84,  87,  90,\n",
       "        93,  97, 107, 114, 121, 128, 135, 149, 157, 165, 183, 194, 199,\n",
       "       206, 215, 221, 228, 243, 250, 270, 285, 354, 360, 376, 381, 385,\n",
       "       395, 404, 411, 418, 431, 439, 449, 460, 468, 479, 488, 492,  21,\n",
       "        25,  27,  28,  29,  30,  42,  45,  48,  55,  58,  62,  66,  70,\n",
       "        73,  76,  80,  84,  87,  90,  93,  97, 107, 114, 121, 128, 135,\n",
       "       143, 149, 157, 165, 183, 194, 199, 206, 215, 221, 228, 250, 270,\n",
       "       285, 354, 360, 366, 376, 381, 385, 395, 404, 411, 418, 431, 439,\n",
       "       449, 460, 468, 479, 488, 492])"
      ]
     },
     "execution_count": 11,
     "metadata": {},
     "output_type": "execute_result"
    }
   ],
   "source": [
    "df_indv.index.get_level_values(1).to_numpy()"
   ]
  },
  {
   "cell_type": "code",
   "execution_count": 12,
   "id": "dc60ba76",
   "metadata": {},
   "outputs": [],
   "source": [
    "## decoder"
   ]
  },
  {
   "cell_type": "code",
   "execution_count": 13,
   "id": "717f5a61",
   "metadata": {},
   "outputs": [
    {
     "data": {
      "text/html": [
       "<style>#sk-container-id-1 {color: black;background-color: white;}#sk-container-id-1 pre{padding: 0;}#sk-container-id-1 div.sk-toggleable {background-color: white;}#sk-container-id-1 label.sk-toggleable__label {cursor: pointer;display: block;width: 100%;margin-bottom: 0;padding: 0.3em;box-sizing: border-box;text-align: center;}#sk-container-id-1 label.sk-toggleable__label-arrow:before {content: \"▸\";float: left;margin-right: 0.25em;color: #696969;}#sk-container-id-1 label.sk-toggleable__label-arrow:hover:before {color: black;}#sk-container-id-1 div.sk-estimator:hover label.sk-toggleable__label-arrow:before {color: black;}#sk-container-id-1 div.sk-toggleable__content {max-height: 0;max-width: 0;overflow: hidden;text-align: left;background-color: #f0f8ff;}#sk-container-id-1 div.sk-toggleable__content pre {margin: 0.2em;color: black;border-radius: 0.25em;background-color: #f0f8ff;}#sk-container-id-1 input.sk-toggleable__control:checked~div.sk-toggleable__content {max-height: 200px;max-width: 100%;overflow: auto;}#sk-container-id-1 input.sk-toggleable__control:checked~label.sk-toggleable__label-arrow:before {content: \"▾\";}#sk-container-id-1 div.sk-estimator input.sk-toggleable__control:checked~label.sk-toggleable__label {background-color: #d4ebff;}#sk-container-id-1 div.sk-label input.sk-toggleable__control:checked~label.sk-toggleable__label {background-color: #d4ebff;}#sk-container-id-1 input.sk-hidden--visually {border: 0;clip: rect(1px 1px 1px 1px);clip: rect(1px, 1px, 1px, 1px);height: 1px;margin: -1px;overflow: hidden;padding: 0;position: absolute;width: 1px;}#sk-container-id-1 div.sk-estimator {font-family: monospace;background-color: #f0f8ff;border: 1px dotted black;border-radius: 0.25em;box-sizing: border-box;margin-bottom: 0.5em;}#sk-container-id-1 div.sk-estimator:hover {background-color: #d4ebff;}#sk-container-id-1 div.sk-parallel-item::after {content: \"\";width: 100%;border-bottom: 1px solid gray;flex-grow: 1;}#sk-container-id-1 div.sk-label:hover label.sk-toggleable__label {background-color: #d4ebff;}#sk-container-id-1 div.sk-serial::before {content: \"\";position: absolute;border-left: 1px solid gray;box-sizing: border-box;top: 0;bottom: 0;left: 50%;z-index: 0;}#sk-container-id-1 div.sk-serial {display: flex;flex-direction: column;align-items: center;background-color: white;padding-right: 0.2em;padding-left: 0.2em;position: relative;}#sk-container-id-1 div.sk-item {position: relative;z-index: 1;}#sk-container-id-1 div.sk-parallel {display: flex;align-items: stretch;justify-content: center;background-color: white;position: relative;}#sk-container-id-1 div.sk-item::before, #sk-container-id-1 div.sk-parallel-item::before {content: \"\";position: absolute;border-left: 1px solid gray;box-sizing: border-box;top: 0;bottom: 0;left: 50%;z-index: -1;}#sk-container-id-1 div.sk-parallel-item {display: flex;flex-direction: column;z-index: 1;position: relative;background-color: white;}#sk-container-id-1 div.sk-parallel-item:first-child::after {align-self: flex-end;width: 50%;}#sk-container-id-1 div.sk-parallel-item:last-child::after {align-self: flex-start;width: 50%;}#sk-container-id-1 div.sk-parallel-item:only-child::after {width: 0;}#sk-container-id-1 div.sk-dashed-wrapped {border: 1px dashed gray;margin: 0 0.4em 0.5em 0.4em;box-sizing: border-box;padding-bottom: 0.4em;background-color: white;}#sk-container-id-1 div.sk-label label {font-family: monospace;font-weight: bold;display: inline-block;line-height: 1.2em;}#sk-container-id-1 div.sk-label-container {text-align: center;}#sk-container-id-1 div.sk-container {/* jupyter's `normalize.less` sets `[hidden] { display: none; }` but bootstrap.min.css set `[hidden] { display: none !important; }` so we also need the `!important` here to be able to override the default hidden behavior on the sphinx rendered scikit-learn.org. See: https://github.com/scikit-learn/scikit-learn/issues/21755 */display: inline-block !important;position: relative;}#sk-container-id-1 div.sk-text-repr-fallback {display: none;}</style><div id=\"sk-container-id-1\" class=\"sk-top-container\"><div class=\"sk-text-repr-fallback\"><pre>ElasticNet(alpha=0.01)</pre><b>In a Jupyter environment, please rerun this cell to show the HTML representation or trust the notebook. <br />On GitHub, the HTML representation is unable to render, please try loading this page with nbviewer.org.</b></div><div class=\"sk-container\" hidden><div class=\"sk-item\"><div class=\"sk-estimator sk-toggleable\"><input class=\"sk-toggleable__control sk-hidden--visually\" id=\"sk-estimator-id-1\" type=\"checkbox\" checked><label for=\"sk-estimator-id-1\" class=\"sk-toggleable__label sk-toggleable__label-arrow\">ElasticNet</label><div class=\"sk-toggleable__content\"><pre>ElasticNet(alpha=0.01)</pre></div></div></div></div></div>"
      ],
      "text/plain": [
       "ElasticNet(alpha=0.01)"
      ]
     },
     "execution_count": 13,
     "metadata": {},
     "output_type": "execute_result"
    }
   ],
   "source": [
    "# run GLM\n",
    "indv_encoder = OneHotEncoder(sparse=False).fit_transform(df_indv.index.get_level_values(0).to_numpy().reshape(-1, 1))\n",
    "age_encoder = OneHotEncoder(sparse=False).fit_transform(df_indv.index.get_level_values(1).to_numpy().reshape(-1, 1))\n",
    "x = np.concatenate((age_encoder,indv_encoder), axis=1)\n",
    "lr = ElasticNet(alpha=0.01)\n",
    "lr.fit(x, y)"
   ]
  },
  {
   "cell_type": "code",
   "execution_count": 14,
   "id": "202f0b2d",
   "metadata": {},
   "outputs": [
    {
     "data": {
      "image/png": "[encoded data removed]",
      "text/plain": [
       "<Figure size 800x800 with 2 Axes>"
      ]
     },
     "metadata": {},
     "output_type": "display_data"
    }
   ],
   "source": [
    "# plot weights for phase and individual identity\n",
    "from mpl_toolkits.axes_grid1 import make_axes_locatable\n",
    "\n",
    "fig, ax = plt.subplots()\n",
    "fig.set_size_inches(8,8)\n",
    "im=plt.imshow(lr.coef_, cmap='RdBu_r', vmin=-2, vmax=2)\n",
    "#plt.imshow(lr.coef_, cmap='RdBu_r')\n",
    "plt.title('Model weights')\n",
    "ax = plt.gca()\n",
    "rect = plt.Rectangle((-0.5, -1.5), age_encoder.shape[1], 1, facecolor='red', alpha=1, label='age')\n",
    "ax.add_patch(rect)\n",
    "rect = plt.Rectangle((age_encoder.shape[1]-0.5, -1.5), indv_encoder.shape[1], 1, facecolor='blue', alpha=1, label='indv_identity')\n",
    "ax.add_patch(rect)\n",
    "plt.axvline(age_encoder.shape[1] - 0.5, c='k', ls='--', lw=1)\n",
    "plt.ylim(-1.5, y.shape[1] - 0.5)\n",
    "\n",
    "# create an axes on the right side of ax. The width of cax will be 5%\n",
    "# of ax and the padding between cax and ax will be fixed at 0.05 inch.\n",
    "\n",
    "plt.legend(frameon=False, loc='upper left', bbox_to_anchor=(1.25, 1))\n",
    "divider = make_axes_locatable(ax)\n",
    "cax = divider.append_axes(\"right\", size=\"5%\", pad=0.05)\n",
    "   \n",
    "plt.colorbar(im, cax=cax)\n",
    "fig.savefig(data_loc + 'long_GLM_coefficients.pdf', bbox_inches='tight')"
   ]
  },
  {
   "cell_type": "code",
   "execution_count": 15,
   "id": "a11df048",
   "metadata": {},
   "outputs": [],
   "source": [
    "## compute multiple models"
   ]
  },
  {
   "cell_type": "code",
   "execution_count": 16,
   "id": "95ff92c2",
   "metadata": {},
   "outputs": [],
   "source": [
    "#load and prepare data\n",
    "df = pd.DataFrame()\n",
    "df['indv'] = df_indv.index.get_level_values(0).to_numpy()\n",
    "df['phase'] = df_indv.index.get_level_values(1).to_numpy()\n",
    "syll=df_indv.columns.to_numpy()"
   ]
  },
  {
   "cell_type": "code",
   "execution_count": 17,
   "id": "69921f7d",
   "metadata": {},
   "outputs": [],
   "source": [
    "## for addition (no interaction)\n",
    "ip = []\n",
    "formula = 'syll ~ C(indv) + C(phase)'\n",
    "for i in range(len(syll)):\n",
    "    df['syll']=y[:,i]\n",
    "    model = ols(formula, data=df)\n",
    "    res=model.fit_regularized(method='elastic_net',alpha=0.01)\n",
    "    pinv_wexog,_ = pinv_extended(model.wexog)\n",
    "    normalized_cov_params = np.dot(pinv_wexog, np.transpose(pinv_wexog))\n",
    "    summary = sm.regression.linear_model.OLSResults(model,res.params,normalized_cov_params)\n",
    "    ip.append(summary.rsquared)"
   ]
  },
  {
   "cell_type": "code",
   "execution_count": 18,
   "id": "67e1ab41",
   "metadata": {},
   "outputs": [],
   "source": [
    "## for additiona and interactions per syllable\n",
    "ip_intr = []\n",
    "formula = 'syll ~ C(indv) + C(phase) + C(indv):C(phase)'\n",
    "for i in range(len(syll)):\n",
    "    df['syll']=y[:,i]\n",
    "    model = ols(formula, data=df)\n",
    "    res=model.fit_regularized(method='elastic_net',alpha=0.01)\n",
    "    pinv_wexog,_ = pinv_extended(model.wexog)\n",
    "    normalized_cov_params = np.dot(pinv_wexog, np.transpose(pinv_wexog))\n",
    "    summary = sm.regression.linear_model.OLSResults(model,res.params,normalized_cov_params)\n",
    "    ip_intr.append(summary.rsquared)"
   ]
  },
  {
   "cell_type": "code",
   "execution_count": 19,
   "id": "5d3546cf",
   "metadata": {},
   "outputs": [],
   "source": [
    "## for individual identity alone\n",
    "indv = []\n",
    "formula = 'syll ~ C(indv)'\n",
    "for i in range(len(syll)):\n",
    "    df['syll']=y[:,i]\n",
    "    model = ols(formula, data=df)\n",
    "    res=model.fit_regularized(method='elastic_net',alpha=0.01)\n",
    "    pinv_wexog,_ = pinv_extended(model.wexog)\n",
    "    normalized_cov_params = np.dot(pinv_wexog, np.transpose(pinv_wexog))\n",
    "    summary = sm.regression.linear_model.OLSResults(model,res.params,normalized_cov_params)\n",
    "    indv.append(summary.rsquared)"
   ]
  },
  {
   "cell_type": "code",
   "execution_count": 20,
   "id": "94fa45db",
   "metadata": {},
   "outputs": [
    {
     "data": {
      "application/vnd.jupyter.widget-view+json": {
       "model_id": "ac3ce58c2a2643b89283cccbadbca2bc",
       "version_major": 2,
       "version_minor": 0
      },
      "text/plain": [
       "  0%|          | 0/44 [00:00<?, ?it/s]"
      ]
     },
     "metadata": {},
     "output_type": "display_data"
    }
   ],
   "source": [
    "## for shuffeled individual labels\n",
    "a=df_indv.index.get_level_values(0).to_numpy()\n",
    "formula = 'syll ~ C(new_indv)'\n",
    "indv_shuff = []\n",
    "it=100\n",
    "for i in tqdm(range(len(syll))):\n",
    "    temp_indv=[]\n",
    "    df['syll']=y[:,i]\n",
    "    for j in range(it):\n",
    "        df['new_indv'] = np.random.permutation(a)\n",
    "        model = ols(formula, data=df)\n",
    "        res=model.fit_regularized(method='elastic_net',alpha=0.01)\n",
    "        pinv_wexog,_ = pinv_extended(model.wexog)\n",
    "        normalized_cov_params = np.dot(pinv_wexog, np.transpose(pinv_wexog))\n",
    "        summary = sm.regression.linear_model.OLSResults(model,res.params,normalized_cov_params)\n",
    "        temp_indv.append(summary.rsquared)\n",
    "    indv_shuff.append(np.mean(temp_indv))"
   ]
  },
  {
   "cell_type": "code",
   "execution_count": 21,
   "id": "c6a95484",
   "metadata": {},
   "outputs": [],
   "source": [
    "## for phase alone\n",
    "df['indv'] = df_indv.index.get_level_values(0).to_numpy()\n",
    "df['phase'] = df_indv.index.get_level_values(1).to_numpy()\n",
    "ph = []\n",
    "formula = 'syll ~ C(phase)'\n",
    "\n",
    "for i in range(len(syll)):\n",
    "    df['syll']=y[:,i]\n",
    "    model = ols(formula, data=df)\n",
    "    res=model.fit_regularized(method='elastic_net',alpha=0.01)\n",
    "    pinv_wexog,_ = pinv_extended(model.wexog)\n",
    "    normalized_cov_params = np.dot(pinv_wexog, np.transpose(pinv_wexog))\n",
    "    summary = sm.regression.linear_model.OLSResults(model,res.params,normalized_cov_params)\n",
    "    ph.append(summary.rsquared)"
   ]
  },
  {
   "cell_type": "code",
   "execution_count": 22,
   "id": "63664aab",
   "metadata": {},
   "outputs": [
    {
     "data": {
      "application/vnd.jupyter.widget-view+json": {
       "model_id": "e117f6c86aa74b299ac5f532b696af78",
       "version_major": 2,
       "version_minor": 0
      },
      "text/plain": [
       "  0%|          | 0/44 [00:00<?, ?it/s]"
      ]
     },
     "metadata": {},
     "output_type": "display_data"
    }
   ],
   "source": [
    "## for shuffeled phase labels\n",
    "formula = 'syll ~ C(new_phase)'\n",
    "phase_shuff = []\n",
    "it=100\n",
    "for i in tqdm(range(len(syll))):\n",
    "    temp_phase=[]\n",
    "    df['syll']=y[:,i]\n",
    "    for j in range(it):\n",
    "        df['new_phase'] = np.random.permutation(df_indv.index.get_level_values(1).to_numpy())\n",
    "        model = ols(formula, data=df)\n",
    "        res=model.fit_regularized(method='elastic_net',alpha=0.01)\n",
    "        pinv_wexog,_ = pinv_extended(model.wexog)\n",
    "        normalized_cov_params = np.dot(pinv_wexog, np.transpose(pinv_wexog))\n",
    "        summary = sm.regression.linear_model.OLSResults(model,res.params,normalized_cov_params)\n",
    "        temp_phase.append(summary.rsquared)\n",
    "    phase_shuff.append(np.mean(temp_phase))"
   ]
  },
  {
   "cell_type": "code",
   "execution_count": 25,
   "id": "ff185d96",
   "metadata": {},
   "outputs": [],
   "source": [
    "# create dataframe for plotting\n",
    "r2 = np.concatenate((np.array(ip_intr),\n",
    "                      #np.array(ip),\n",
    "                      np.array(ph),\n",
    "                      np.array(phase_shuff),\n",
    "                      np.array(indv),\n",
    "                      np.array(indv_shuff)\n",
    "                    ))\n",
    "models = np.concatenate((len(np.array(ip_intr)) * ['Indv*Age'],\n",
    "                         #len(np.array(ip)) * ['I:A'],\n",
    "                         len(np.array(ph)) * ['Age'],\n",
    "                         len(np.array(phase_shuff)) * ['Age_sh'],\n",
    "                         len(np.array(indv)) * ['Indv'],\n",
    "                         len(np.array(indv_shuff)) * ['Indv_sh']\n",
    "                        ))\n",
    "lsyll = list(syll)*6\n",
    "data = {'r2': list(r2), \n",
    "        'models': list(models),\n",
    "        'syll':list(lsyll)}"
   ]
  },
  {
   "cell_type": "code",
   "execution_count": 28,
   "id": "92d29e17",
   "metadata": {},
   "outputs": [
    {
     "name": "stderr",
     "output_type": "stream",
     "text": [
      "No artists with labels found to put in legend.  Note that artists whose label start with an underscore are ignored when legend() is called with no argument.\n"
     ]
    },
    {
     "data": {
      "image/png": "[encoded data removed]",
      "text/plain": [
       "<Figure size 500x500 with 1 Axes>"
      ]
     },
     "metadata": {},
     "output_type": "display_data"
    }
   ],
   "source": [
    "# plot\n",
    "fig, ax = plt.subplots()\n",
    "fig.set_size_inches(5,5)\n",
    "ax = sns.pointplot(x=\"models\",y=\"r2\",data=data,errorbar=('se'),join=False, \n",
    "                   order=['Indv*Age','Age','Age_sh','Indv','Indv_sh'])\n",
    "plt.legend(frameon=False, loc='upper left', bbox_to_anchor=(1.25, 1))\n",
    "ax.set_title('LGM model performance R2')\n",
    "sns.despine()\n",
    "fig.savefig(data_loc +'long_GLM_r2.pdf', bbox_inches='tight')"
   ]
  },
  {
   "cell_type": "code",
   "execution_count": null,
   "id": "3d48dd01",
   "metadata": {},
   "outputs": [],
   "source": []
  }
 ],
 "metadata": {
  "kernelspec": {
   "display_name": "Python 3 (ipykernel)",
   "language": "python",
   "name": "python3"
  },
  "language_info": {
   "codemirror_mode": {
    "name": "ipython",
    "version": 3
   },
   "file_extension": ".py",
   "mimetype": "text/x-python",
   "name": "python",
   "nbconvert_exporter": "python",
   "pygments_lexer": "ipython3",
   "version": "3.10.12"
  }
 },
 "nbformat": 4,
 "nbformat_minor": 5
}
