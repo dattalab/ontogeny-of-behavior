{
 "cells": [
  {
   "cell_type": "code",
   "execution_count": null,
   "id": "ef9e3bd3",
   "metadata": {},
   "outputs": [],
   "source": []
  },
  {
   "cell_type": "code",
   "execution_count": 67,
   "id": "70159d69",
   "metadata": {},
   "outputs": [],
   "source": [
    "import numpy as np\n",
    "import pandas as pd\n",
    "import matplotlib.pyplot as plt\n",
    "import seaborn as sns\n",
    "from pathlib import Path\n",
    "import matplotlib as mpl\n",
    "import os\n",
    "from matplotlib.lines import Line2D\n",
    "from collections import Counter\n",
    "import math\n",
    "from sklearn.decomposition import PCA\n",
    "from aging.behavior.syllables import relabel_by_usage\n",
    "from tqdm import tqdm\n",
    "%matplotlib inline\n",
    "import warnings\n",
    "warnings.simplefilter('ignore')\n",
    "import random"
   ]
  },
  {
   "cell_type": "code",
   "execution_count": 68,
   "id": "e9d8fc7a",
   "metadata": {},
   "outputs": [],
   "source": [
    "from sklearn.model_selection import train_test_split\n",
    "from sklearn import datasets\n",
    "from sklearn import svm\n",
    "from sklearn.ensemble import RandomForestClassifier\n",
    "from sklearn.metrics import accuracy_score\n",
    "from matplotlib.gridspec import GridSpec\n",
    "from collections import defaultdict\n",
    "from sklearn.metrics import confusion_matrix\n",
    "from sklearn.model_selection import cross_val_score, cross_val_predict\n",
    "from sklearn.linear_model import LogisticRegression, LinearRegression\n",
    "from sklearn.model_selection import ShuffleSplit\n",
    "from sklearn.svm import LinearSVC\n",
    "from sklearn.model_selection import GroupKFold, LeaveOneGroupOut, LeaveOneOut, KFold\n",
    "from sklearn.metrics import accuracy_score"
   ]
  },
  {
   "cell_type": "code",
   "execution_count": null,
   "id": "e2029beb",
   "metadata": {},
   "outputs": [],
   "source": []
  },
  {
   "cell_type": "code",
   "execution_count": 69,
   "id": "052e0400",
   "metadata": {},
   "outputs": [],
   "source": [
    "# plot/colors definitions\n",
    "cpath = '/n/groups/datta/win/longtogeny/code/notebooks/exploration/Dana'\n",
    "data_loc=cpath+'/figs/'\n",
    "try:\n",
    "    os.mkdir(data_loc)\n",
    "except FileExistsError:\n",
    "    # directory already exists\n",
    "    pass\n",
    "\n",
    "#sns.set_style('white')\n",
    "plt.style.use('dark_background')"
   ]
  },
  {
   "cell_type": "code",
   "execution_count": null,
   "id": "4abbffec",
   "metadata": {},
   "outputs": [],
   "source": []
  },
  {
   "cell_type": "code",
   "execution_count": 70,
   "id": "c02dc047",
   "metadata": {},
   "outputs": [],
   "source": [
    "def compute_usage(df):\n",
    "    onsets = np.where(np.diff(df['syllables']) != 0)[0]\n",
    "    usage = df.loc[df.index[onsets], 'syllables'].value_counts(normalize=True)\n",
    "    return usage"
   ]
  },
  {
   "cell_type": "code",
   "execution_count": 71,
   "id": "8a3a0b7a",
   "metadata": {},
   "outputs": [],
   "source": [
    "# filter by syllable usage\n",
    "def syll_index_above_threshold(mean_df, threshold = 0.01):\n",
    "    syll_mean_usage = mean_df.groupby(['syllables']).mean()\n",
    "    return syll_mean_usage[syll_mean_usage > threshold].index.to_list()"
   ]
  },
  {
   "cell_type": "code",
   "execution_count": 72,
   "id": "d167ba02",
   "metadata": {},
   "outputs": [],
   "source": [
    "def _plot_cm(y_true, y_pred, ax, ax_labels, title):\n",
    "    cm = confusion_matrix(y_true, y_pred)\n",
    "    cm = cm / cm.sum(axis=1, keepdims=True)\n",
    "    im = ax.imshow(cm, cmap='cubehelix', vmin=0, vmax=1)\n",
    "    plt.xticks(range(len(ax_labels)), ax_labels)\n",
    "    plt.yticks(range(len(ax_labels)), ax_labels)\n",
    "    ax.set_xlabel('Predicted')\n",
    "    ax.set_ylabel('Real')\n",
    "    ax.set_title(title)\n",
    "    return im\n",
    "\n",
    "def plot_cm(y_true, y_pred, y_shuffle_true, y_shuffle_pred,name):\n",
    "    '''\n",
    "    plot confusion matrix\n",
    "\n",
    "    Args:\n",
    "        y_true ([np.array]): array for true label\n",
    "        y_pred ([np.array]): array for predicted label\n",
    "        y_shuffle_true ([np.array]): array for shffuled label\n",
    "        y_shuffle_pred ([np.array]): array for shuffled predicted label\n",
    "    '''\n",
    "    fig = plt.figure(figsize=(23, 10), facecolor='white')\n",
    "    gs = GridSpec(ncols=3, nrows=1, wspace=0.1, figure = fig, width_ratios=[10,10,0.3])\n",
    "    fig_ax = fig.add_subplot(gs[0,0])\n",
    "    labels = np.unique(y_true)\n",
    "    _plot_cm(y_true, y_pred, fig_ax, labels, f'Real Accuracy {accuracy_score(y_true, y_pred):0.2f}')\n",
    "\n",
    "    fig_ax = fig.add_subplot(gs[0,1])\n",
    "    im = _plot_cm(y_shuffle_true, y_shuffle_pred, fig_ax, labels, f'Shuffle Accuracy {accuracy_score(y_shuffle_true, y_shuffle_pred):0.2f}')\n",
    "    fig_ax.set_ylabel('')\n",
    "    fig_ax.set_yticklabels([])\n",
    "\n",
    "    # plot colorbar\n",
    "    cb = fig.add_subplot(gs[0,2])\n",
    "    fig.colorbar(mappable=im, cax=cb, label='Fraction of labels', )\n",
    "    fig.tight_layout()\n",
    "    plt.show()\n",
    "    fig.savefig(data_loc +name+'.pdf', bbox_inches='tight')"
   ]
  },
  {
   "cell_type": "code",
   "execution_count": null,
   "id": "79732457",
   "metadata": {},
   "outputs": [],
   "source": []
  },
  {
   "cell_type": "code",
   "execution_count": 73,
   "id": "c58a65f1",
   "metadata": {},
   "outputs": [],
   "source": [
    "## upload data frame females\n",
    "path = Path('/n/groups/datta/win/longtogeny/data/ontogeny/version_02/ontogeny_females.parquet')\n",
    "df = pd.read_parquet(path)"
   ]
  },
  {
   "cell_type": "code",
   "execution_count": 74,
   "id": "78bf9c58",
   "metadata": {},
   "outputs": [],
   "source": [
    "# change age to weeks\n",
    "df['age'].replace(['7wks', '3months', '9wks', '12months', '6months', '18months','3wks', '5wks','9months','22months'],\n",
    "           ['07wks','12wks','09wks','52wks','24wks','78wks','03wks','05wks','36wks','90wks'], inplace=True)"
   ]
  },
  {
   "cell_type": "code",
   "execution_count": 75,
   "id": "c83b5580",
   "metadata": {},
   "outputs": [],
   "source": [
    "# calculate usage\n",
    "fusages = df.groupby(['age', 'uuid','experiment'], observed=True, sort=False).apply(compute_usage)\n",
    "fusage_mtx = pd.pivot_table(fusages.reset_index(), index=['age', 'uuid','experiment'], columns='syllables').fillna(0)\n",
    "fusage_mtx.columns = fusage_mtx.columns.droplevel(0)\n",
    "\n",
    "#filter most used syllables just females\n",
    "#include_syll = syll_index_above_threshold(usages)\n",
    "#usage_mtx = usage_mtx[include_syll]"
   ]
  },
  {
   "cell_type": "code",
   "execution_count": 76,
   "id": "b4be6704",
   "metadata": {},
   "outputs": [],
   "source": [
    "fdf_all = fusage_mtx.copy()"
   ]
  },
  {
   "cell_type": "code",
   "execution_count": 77,
   "id": "34befe04",
   "metadata": {},
   "outputs": [],
   "source": [
    "#get random 16 mice per age\n",
    "n=16\n",
    "fdf_all = fdf_all.groupby('age').apply(lambda x: x.sample(n=n,replace=False)).reset_index(level=0, drop=True)"
   ]
  },
  {
   "cell_type": "code",
   "execution_count": 78,
   "id": "b634733d",
   "metadata": {},
   "outputs": [],
   "source": [
    "## upload data frame males\n",
    "path = Path('/n/groups/datta/win/longtogeny/data/ontogeny/version_02/ontogeny_males.parquet')\n",
    "df = pd.read_parquet(path)"
   ]
  },
  {
   "cell_type": "code",
   "execution_count": 79,
   "id": "d0d1c831",
   "metadata": {},
   "outputs": [],
   "source": [
    "# change age to weeks\n",
    "df['age'].replace(['7wks', '3months', '9wks', '12months', '6months', '18months','3wks', '5wks','9months','22months'],\n",
    "           ['07wks','12wks','09wks','52wks','24wks','78wks','03wks','05wks','36wks','90wks'], inplace=True)"
   ]
  },
  {
   "cell_type": "code",
   "execution_count": 80,
   "id": "00e356b6",
   "metadata": {},
   "outputs": [],
   "source": [
    "# calculate usage\n",
    "musages = df.groupby(['age', 'uuid','experiment'], observed=True, sort=False).apply(compute_usage)\n",
    "musage_mtx = pd.pivot_table(musages.reset_index(), index=['age', 'uuid','experiment'], columns='syllables').fillna(0)\n",
    "musage_mtx.columns = musage_mtx.columns.droplevel(0)\n",
    "\n",
    "#filter most used syllables just males\n",
    "#include_syll = syll_index_above_threshold(usages)\n",
    "#usage_mtx = usage_mtx[include_syll]"
   ]
  },
  {
   "cell_type": "code",
   "execution_count": 81,
   "id": "5fbdfaf3",
   "metadata": {},
   "outputs": [],
   "source": [
    "mdf_all = musage_mtx.copy()"
   ]
  },
  {
   "cell_type": "code",
   "execution_count": 82,
   "id": "0b33315c",
   "metadata": {},
   "outputs": [],
   "source": [
    "#get random 16 mice per age\n",
    "n=16\n",
    "mdf_all = mdf_all.groupby('age').apply(lambda x: x.sample(n=n,replace=False)).reset_index(level=0, drop=True)"
   ]
  },
  {
   "cell_type": "code",
   "execution_count": 83,
   "id": "35915495",
   "metadata": {},
   "outputs": [],
   "source": [
    "# filter by use of both sexes\n",
    "combined_df = pd.concat([musages,fusages]).fillna(0)\n",
    "include_syll = syll_index_above_threshold(combined_df)\n",
    "mdf = mdf_all[include_syll]\n",
    "fdf = fdf_all[include_syll]"
   ]
  },
  {
   "cell_type": "markdown",
   "id": "62011859",
   "metadata": {},
   "source": [
    "## decoder"
   ]
  },
  {
   "cell_type": "code",
   "execution_count": 84,
   "id": "d7ac0f28",
   "metadata": {},
   "outputs": [],
   "source": [
    "#for males\n",
    "ymale = mdf.index.get_level_values(0).to_numpy()\n",
    "Xmale= mdf.to_numpy()\n",
    "Xmale = np.log(Xmale + 1e-6) # convert to linear\n",
    "\n",
    "#for females\n",
    "yfemale = fdf.index.get_level_values(0).to_numpy()\n",
    "Xfemale= fdf.to_numpy()\n",
    "Xfemale = np.log(Xfemale + 1e-6) # convert to linear"
   ]
  },
  {
   "cell_type": "code",
   "execution_count": 85,
   "id": "dd0419fc",
   "metadata": {},
   "outputs": [],
   "source": [
    "# choose a model\n",
    "clf = svm.SVC(kernel='linear') \n",
    "#clf = RandomForestClassifier(n_estimators = 250)\n",
    "#clf = LinearRegression()\n",
    "#clf = LinearSVC()\n",
    "\n",
    "# choose cross validation scheme\n",
    "#cv = LeaveOneOut()\n",
    "#cv = ShuffleSplit(n_splits=5, test_size=0.10, random_state=0)\n",
    "cv=5\n",
    "\n",
    "#number of iterations for shuffle\n",
    "it=100"
   ]
  },
  {
   "cell_type": "code",
   "execution_count": 86,
   "id": "717e6b87",
   "metadata": {},
   "outputs": [
    {
     "name": "stderr",
     "output_type": "stream",
     "text": [
      "100%|█████████████████████████████████████████████████████████████████████████████████████████████████████████████████████████████████████████████████████████████████████████| 100/100 [00:08<00:00, 12.39it/s]\n"
     ]
    }
   ],
   "source": [
    "#for males\n",
    "y_pred = cross_val_predict(clf, Xmale, ymale, cv=cv)\n",
    "acc=np.mean(np.mean(cross_val_score(clf, Xmale, ymale, cv=cv)))\n",
    "ysh=[]\n",
    "ysh_predict=[]\n",
    "ysh_score=[]\n",
    "for i in tqdm(range(it)):\n",
    "    ysh_temp=np.random.permutation(ymale)\n",
    "    y_pred_temp = cross_val_predict(clf, Xmale, ysh_temp, cv=cv)\n",
    "    y_score_temp = cross_val_score(clf, Xmale, ysh_temp, cv=cv)\n",
    "    ysh_score.append(np.mean(y_score_temp))\n",
    "    ysh.extend(ysh_temp)\n",
    "    ysh_predict.extend(y_pred_temp)    "
   ]
  },
  {
   "cell_type": "code",
   "execution_count": 87,
   "id": "1f079a04",
   "metadata": {},
   "outputs": [
    {
     "data": {
      "image/png": "[encoded data removed]",
      "text/plain": [
       "<Figure size 2300x1000 with 3 Axes>"
      ]
     },
     "metadata": {},
     "output_type": "display_data"
    }
   ],
   "source": [
    "# plot confusion matrix\n",
    "decoder ='ontogeny_age_decoder_males'\n",
    "plot_cm(ymale,y_pred,ysh,ysh_predict,decoder+'_confusion')"
   ]
  },
  {
   "cell_type": "code",
   "execution_count": 88,
   "id": "89bfad94",
   "metadata": {},
   "outputs": [
    {
     "data": {
      "image/png": "[encoded data removed]",
      "text/plain": [
       "<Figure size 200x400 with 1 Axes>"
      ]
     },
     "metadata": {},
     "output_type": "display_data"
    }
   ],
   "source": [
    "# plot accuracy\n",
    "shuff_v=pd.DataFrame()\n",
    "true_acc=pd.DataFrame()\n",
    "shuff_v['shacc'] = ysh_score\n",
    "fig = plt.figure(figsize=(1, 2))\n",
    "fig.dpi = 200\n",
    "ax = sns.boxplot(data=shuff_v['shacc'], showfliers=False, showcaps=False)\n",
    "ax.plot(0, acc, 'r.')\n",
    "plt.xticks(ticks=[])\n",
    "ax.set(ylabel='Accuracy')\n",
    "plt.ylim([0,1])\n",
    "plt.axhline(y=shuff_v['shacc'].quantile(.95), xmin=0, xmax=1, ls='--', c='k') #plot threshold for significance \n",
    "sns.despine()\n",
    "fig.savefig(data_loc +decoder+'accuracy.pdf', bbox_inches='tight')"
   ]
  },
  {
   "cell_type": "code",
   "execution_count": 89,
   "id": "dc46c841",
   "metadata": {},
   "outputs": [
    {
     "name": "stderr",
     "output_type": "stream",
     "text": [
      "100%|█████████████████████████████████████████████████████████████████████████████████████████████████████████████████████████████████████████████████████████████████████████| 100/100 [00:06<00:00, 16.02it/s]\n"
     ]
    }
   ],
   "source": [
    "#for females\n",
    "y_pred = cross_val_predict(clf, Xfemale, yfemale, cv=cv)\n",
    "acc=np.mean(np.mean(cross_val_score(clf, Xfemale, yfemale, cv=cv)))\n",
    "ysh=[]\n",
    "ysh_predict=[]\n",
    "ysh_score=[]\n",
    "for i in tqdm(range(it)):\n",
    "    ysh_temp=np.random.permutation(yfemale)\n",
    "    y_pred_temp = cross_val_predict(clf, Xfemale, ysh_temp, cv=cv)\n",
    "    y_score_temp = cross_val_score(clf, Xfemale, ysh_temp, cv=cv)\n",
    "    ysh.extend(ysh_temp)\n",
    "    ysh_predict.extend(y_pred_temp)\n",
    "    ysh_score.append(np.mean(y_score_temp))"
   ]
  },
  {
   "cell_type": "code",
   "execution_count": 90,
   "id": "78489d31",
   "metadata": {},
   "outputs": [
    {
     "data": {
      "image/png": "[encoded data removed]",
      "text/plain": [
       "<Figure size 2300x1000 with 3 Axes>"
      ]
     },
     "metadata": {},
     "output_type": "display_data"
    }
   ],
   "source": [
    "# plot confusion matrix\n",
    "decoder ='ontogeny_age_decoder_females'\n",
    "plot_cm(yfemale,y_pred,ysh,ysh_predict,decoder+'_confusion')"
   ]
  },
  {
   "cell_type": "code",
   "execution_count": 91,
   "id": "40e9577f",
   "metadata": {},
   "outputs": [
    {
     "data": {
      "image/png": "[encoded data removed]",
      "text/plain": [
       "<Figure size 200x400 with 1 Axes>"
      ]
     },
     "metadata": {},
     "output_type": "display_data"
    }
   ],
   "source": [
    "# plot accuracy\n",
    "shuff_v=pd.DataFrame()\n",
    "true_acc=pd.DataFrame()\n",
    "shuff_v['shacc'] = ysh_score\n",
    "fig = plt.figure(figsize=(1, 2))\n",
    "fig.dpi = 200\n",
    "ax = sns.boxplot(data=shuff_v['shacc'], showfliers=False, showcaps=False)\n",
    "ax.plot(0, acc, 'r.')\n",
    "plt.xticks(ticks=[])\n",
    "ax.set(ylabel='Accuracy')\n",
    "plt.ylim([0,1])\n",
    "plt.axhline(y=shuff_v['shacc'].quantile(.95), xmin=0, xmax=1, ls='--', c='k') #plot threshold for significance \n",
    "sns.despine()\n",
    "fig.savefig(data_loc +decoder+'accuracy.pdf', bbox_inches='tight')"
   ]
  },
  {
   "cell_type": "code",
   "execution_count": 92,
   "id": "5bed9224",
   "metadata": {},
   "outputs": [],
   "source": [
    "## sex decoder in the different ages"
   ]
  },
  {
   "cell_type": "code",
   "execution_count": 93,
   "id": "192adea1",
   "metadata": {},
   "outputs": [],
   "source": [
    "# choose a model\n",
    "clf = svm.SVC(kernel='linear') \n",
    "#clf = RandomForestClassifier(n_estimators = 150)\n",
    "#clf = LinearRegression()\n",
    "\n",
    "# choose cross validation scheme\n",
    "#cv = LeaveOneOut()\n",
    "#cv = ShuffleSplit(n_splits=5, test_size=0.25, random_state=0)\n",
    "cv=5\n",
    "\n",
    "#number of iterations for shuffle\n",
    "it=100"
   ]
  },
  {
   "cell_type": "code",
   "execution_count": 94,
   "id": "52c202bf",
   "metadata": {},
   "outputs": [
    {
     "name": "stderr",
     "output_type": "stream",
     "text": [
      "100%|█████████████████████████████████████████████████████████████████████████████████████████████████████████████████████████████████████████████████████████████████████████| 100/100 [00:01<00:00, 84.69it/s]\n",
      "100%|█████████████████████████████████████████████████████████████████████████████████████████████████████████████████████████████████████████████████████████████████████████| 100/100 [00:01<00:00, 84.38it/s]\n",
      "100%|█████████████████████████████████████████████████████████████████████████████████████████████████████████████████████████████████████████████████████████████████████████| 100/100 [00:01<00:00, 83.85it/s]\n",
      "100%|█████████████████████████████████████████████████████████████████████████████████████████████████████████████████████████████████████████████████████████████████████████| 100/100 [00:01<00:00, 84.64it/s]\n",
      "100%|█████████████████████████████████████████████████████████████████████████████████████████████████████████████████████████████████████████████████████████████████████████| 100/100 [00:01<00:00, 82.89it/s]\n",
      "100%|█████████████████████████████████████████████████████████████████████████████████████████████████████████████████████████████████████████████████████████████████████████| 100/100 [00:01<00:00, 84.46it/s]\n",
      "100%|█████████████████████████████████████████████████████████████████████████████████████████████████████████████████████████████████████████████████████████████████████████| 100/100 [00:01<00:00, 83.66it/s]\n",
      "100%|█████████████████████████████████████████████████████████████████████████████████████████████████████████████████████████████████████████████████████████████████████████| 100/100 [00:01<00:00, 84.48it/s]\n"
     ]
    }
   ],
   "source": [
    "#combined = pd.concat([fdf,mdf]).fillna(0)\n",
    "#combined = pd.concat([fdf,mdf])\n",
    "combined = pd.concat([fdf_all,mdf_all])\n",
    "combined.dropna(axis=1,inplace=True) # drop syllables that do not exist in one sex\n",
    "combined = combined.drop('90wks')\n",
    "combined = np.log(combined + 1e-6) # convert to linear\n",
    "#combined = combined[include_syll]\n",
    "\n",
    "acc=[]\n",
    "sh_acc=[]\n",
    "ages=[]\n",
    "ysh=[]\n",
    "ysh_predict=[]\n",
    "ysh_ages=[]\n",
    "ages=[]\n",
    "for age,_df in enumerate(combined.groupby('age')):\n",
    "    ages.extend(_df[1].index.get_level_values(0).unique().to_numpy())\n",
    "    #get data\n",
    "    y=_df[1].index.get_level_values(2).to_numpy()\n",
    "    X = _df[1].to_numpy()\n",
    "    #run model\n",
    "    #y_pred = cross_val_predict(clf, X, y, cv=cv)\n",
    "    y_pred = cross_val_score(clf, X, y, cv=cv)\n",
    "    \n",
    "    for i in tqdm(range(it)):\n",
    "        ysh_temp=np.random.permutation(y)\n",
    "        #y_pred_temp = cross_val_predict(clf, X, ysh_temp, cv=cv)\n",
    "        y_pred_temp = cross_val_score(clf, X, ysh_temp, cv=cv)\n",
    "        #ysh.extend(ysh_temp)\n",
    "        #ysh_predict.extend(y_pred_temp)\n",
    "        ysh_predict.append(np.mean(y_pred_temp))\n",
    "        ysh_ages.extend(_df[1].index.get_level_values(0).unique().to_numpy())\n",
    "        \n",
    "    acc.append(np.mean(y_pred))\n",
    "    #sh_acc.append(ysh_predict)"
   ]
  },
  {
   "cell_type": "code",
   "execution_count": 95,
   "id": "a112f505",
   "metadata": {},
   "outputs": [],
   "source": [
    "# create df for plotting\n",
    "df_sh = pd.DataFrame()\n",
    "df_sh['acc']=ysh_predict\n",
    "df_sh['ages'] = ysh_ages\n",
    "\n",
    "df = pd.DataFrame()\n",
    "df['acc']=acc\n",
    "df['ages'] = ages"
   ]
  },
  {
   "cell_type": "code",
   "execution_count": 98,
   "id": "fabbcf4b",
   "metadata": {},
   "outputs": [
    {
     "data": {
      "image/png": "[encoded data removed]",
      "text/plain": [
       "<Figure size 640x480 with 1 Axes>"
      ]
     },
     "metadata": {},
     "output_type": "display_data"
    }
   ],
   "source": [
    "fig, ax = plt.subplots()\n",
    "sns.pointplot(data=df_sh, x=\"ages\", y=\"acc\", ax=ax, color='gray',join=False)\n",
    "sns.pointplot(data=df, x=\"ages\", y=\"acc\",\n",
    "              dodge=0.4, \n",
    "              join=False, \n",
    "              palette='hot_r',\n",
    "              ax=ax, \n",
    "             )\n",
    "ax.set_title('sex decoding in different ages ontogeny')\n",
    "sns.despine()\n",
    "fig.savefig(data_loc +'sex_decoder_ages_accuracy.pdf', bbox_inches='tight')"
   ]
  },
  {
   "cell_type": "code",
   "execution_count": null,
   "id": "aecfd56a",
   "metadata": {},
   "outputs": [],
   "source": []
  }
 ],
 "metadata": {
  "kernelspec": {
   "display_name": "Python 3 (ipykernel)",
   "language": "python",
   "name": "python3"
  },
  "language_info": {
   "codemirror_mode": {
    "name": "ipython",
    "version": 3
   },
   "file_extension": ".py",
   "mimetype": "text/x-python",
   "name": "python",
   "nbconvert_exporter": "python",
   "pygments_lexer": "ipython3",
   "version": "3.10.12"
  }
 },
 "nbformat": 4,
 "nbformat_minor": 5
}
