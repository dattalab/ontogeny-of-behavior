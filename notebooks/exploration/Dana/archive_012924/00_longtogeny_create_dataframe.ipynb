{
 "cells": [
  {
   "cell_type": "code",
   "execution_count": 10,
   "id": "369b3505",
   "metadata": {},
   "outputs": [],
   "source": [
    "import h5py\n",
    "import pandas as pd\n",
    "from toolz import concat, partition_all\n",
    "from tqdm.auto import tqdm\n",
    "from pathlib import Path\n",
    "from datetime import datetime"
   ]
  },
  {
   "cell_type": "code",
   "execution_count": 11,
   "id": "abfb5e0f",
   "metadata": {},
   "outputs": [],
   "source": [
    "data_folder = Path('/n/groups/datta/win/longtogeny/data/ontogeny/version_02')"
   ]
  },
  {
   "cell_type": "code",
   "execution_count": 12,
   "id": "e7e8c277",
   "metadata": {},
   "outputs": [
    {
     "name": "stdout",
     "output_type": "stream",
     "text": [
      "env: POLARS_MAX_THREADS=1\n"
     ]
    }
   ],
   "source": [
    "%env POLARS_MAX_THREADS=1\n",
    "import polars as pl\n",
    "from toolz import compose, curry"
   ]
  },
  {
   "cell_type": "code",
   "execution_count": 13,
   "id": "069f687a",
   "metadata": {},
   "outputs": [],
   "source": [
    "@curry\n",
    "def ontogeny_filter(sex, df):\n",
    "    return df.filter(pl.col(\"experiment\") == f\"longtogeny_{sex}\")"
   ]
  },
  {
   "cell_type": "code",
   "execution_count": null,
   "id": "6fc02862",
   "metadata": {},
   "outputs": [],
   "source": [
    "for sex in (\"females\",\"males\"):\n",
    "    ont_df = pl.concat(\n",
    "        map(\n",
    "            compose(ontogeny_filter(sex), pl.scan_parquet),\n",
    "            data_folder.glob(\"syllable*.parquet\"),\n",
    "        )\n",
    "    ).collect(streaming=True)\n",
    "    #ont_df.write_parquet(data_folder / f\"longtogeny_{sex}.parquet\", use_pyarrow=True)"
   ]
  },
  {
   "cell_type": "code",
   "execution_count": null,
   "id": "0f9bcad0",
   "metadata": {},
   "outputs": [],
   "source": [
    "ont_df"
   ]
  },
  {
   "cell_type": "code",
   "execution_count": null,
   "id": "9e9bd36a",
   "metadata": {},
   "outputs": [],
   "source": []
  }
 ],
 "metadata": {
  "kernelspec": {
   "display_name": "Python 3 (ipykernel)",
   "language": "python",
   "name": "python3"
  },
  "language_info": {
   "codemirror_mode": {
    "name": "ipython",
    "version": 3
   },
   "file_extension": ".py",
   "mimetype": "text/x-python",
   "name": "python",
   "nbconvert_exporter": "python",
   "pygments_lexer": "ipython3",
   "version": "3.10.11"
  }
 },
 "nbformat": 4,
 "nbformat_minor": 5
}
