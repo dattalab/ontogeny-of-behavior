{
 "cells": [
  {
   "cell_type": "code",
   "execution_count": null,
   "id": "ef9e3bd3",
   "metadata": {},
   "outputs": [],
   "source": []
  },
  {
   "cell_type": "code",
   "execution_count": 1,
   "id": "70159d69",
   "metadata": {},
   "outputs": [],
   "source": [
    "import numpy as np\n",
    "import pandas as pd\n",
    "import matplotlib.pyplot as plt\n",
    "import seaborn as sns\n",
    "from pathlib import Path\n",
    "import matplotlib as mpl\n",
    "import os\n",
    "from matplotlib.lines import Line2D\n",
    "from collections import Counter\n",
    "import math\n",
    "from sklearn.decomposition import PCA\n",
    "from aging.behavior.syllables import relabel_by_usage, compute_usage\n",
    "%matplotlib inline\n",
    "import datetime"
   ]
  },
  {
   "cell_type": "code",
   "execution_count": null,
   "id": "e2029beb",
   "metadata": {},
   "outputs": [],
   "source": []
  },
  {
   "cell_type": "code",
   "execution_count": 2,
   "id": "052e0400",
   "metadata": {},
   "outputs": [],
   "source": [
    "# plot/colors definitions\n",
    "cpath = '/n/groups/datta/win/longtogeny/code/notebooks/exploration/Dana'\n",
    "data_loc=cpath+'/figs/'\n",
    "try:\n",
    "    os.mkdir(data_loc)\n",
    "except FileExistsError:\n",
    "    # directory already exists\n",
    "    pass\n",
    "\n",
    "sns.set_style('white')"
   ]
  },
  {
   "cell_type": "code",
   "execution_count": null,
   "id": "4abbffec",
   "metadata": {},
   "outputs": [],
   "source": []
  },
  {
   "cell_type": "code",
   "execution_count": 3,
   "id": "c02dc047",
   "metadata": {},
   "outputs": [],
   "source": [
    "def compute_usage(df):\n",
    "    onsets = np.where(np.diff(df['syllables']) != 0)[0]\n",
    "    usage = df.loc[df.index[onsets], 'syllables'].value_counts(normalize=True)\n",
    "    return usage"
   ]
  },
  {
   "cell_type": "code",
   "execution_count": 4,
   "id": "8a3a0b7a",
   "metadata": {},
   "outputs": [],
   "source": [
    "# filter by syllable usage\n",
    "def syll_index_above_threshold(mean_df, threshold = 0.01):\n",
    "    syll_mean_usage = mean_df.groupby(['syllables']).mean()\n",
    "    return syll_mean_usage[syll_mean_usage > threshold].index.to_list()"
   ]
  },
  {
   "cell_type": "code",
   "execution_count": 5,
   "id": "79732457",
   "metadata": {},
   "outputs": [],
   "source": [
    "## for females"
   ]
  },
  {
   "cell_type": "code",
   "execution_count": 11,
   "id": "c58a65f1",
   "metadata": {},
   "outputs": [],
   "source": [
    "## upload data frame females\n",
    "data_folder = Path('/n/groups/datta/win/longtogeny/data/ontogeny/version_02')\n",
    "path = Path('/n/groups/datta/win/longtogeny/data/ontogeny/version_02/longtogeny_females.parquet')\n",
    "df = pd.read_parquet(path)"
   ]
  },
  {
   "cell_type": "code",
   "execution_count": 10,
   "id": "7c54432b",
   "metadata": {},
   "outputs": [
    {
     "data": {
      "text/html": [
       "<div>\n",
       "<style scoped>\n",
       "    .dataframe tbody tr th:only-of-type {\n",
       "        vertical-align: middle;\n",
       "    }\n",
       "\n",
       "    .dataframe tbody tr th {\n",
       "        vertical-align: top;\n",
       "    }\n",
       "\n",
       "    .dataframe thead th {\n",
       "        text-align: right;\n",
       "    }\n",
       "</style>\n",
       "<table border=\"1\" class=\"dataframe\">\n",
       "  <thead>\n",
       "    <tr style=\"text-align: right;\">\n",
       "      <th></th>\n",
       "      <th>experiment</th>\n",
       "      <th>file</th>\n",
       "      <th>syllables</th>\n",
       "      <th>date</th>\n",
       "      <th>uuid</th>\n",
       "      <th>age</th>\n",
       "      <th>session_name</th>\n",
       "      <th>subject_name</th>\n",
       "      <th>mouse</th>\n",
       "    </tr>\n",
       "  </thead>\n",
       "  <tbody>\n",
       "  </tbody>\n",
       "</table>\n",
       "</div>"
      ],
      "text/plain": [
       "Empty DataFrame\n",
       "Columns: [experiment, file, syllables, date, uuid, age, session_name, subject_name, mouse]\n",
       "Index: []"
      ]
     },
     "execution_count": 10,
     "metadata": {},
     "output_type": "execute_result"
    }
   ],
   "source": [
    "df.head()"
   ]
  },
  {
   "cell_type": "code",
   "execution_count": 7,
   "id": "d1ce2e51",
   "metadata": {},
   "outputs": [],
   "source": [
    "# calculate age for males\n",
    "first= pd.Timestamp(year=2021, month=7, day=15)\n",
    "age = (df.date-first).dt.days+21\n",
    "df.age=age"
   ]
  },
  {
   "cell_type": "code",
   "execution_count": 8,
   "id": "3054db00",
   "metadata": {},
   "outputs": [],
   "source": [
    "df['mouse'] = df.subject_name.str[:5]"
   ]
  },
  {
   "cell_type": "code",
   "execution_count": null,
   "id": "7fd7089f",
   "metadata": {},
   "outputs": [],
   "source": [
    "# calculate mouse name for males and replace with 1-16)\n",
    "df['mouse'] = df.subject_name.str[:5]\n",
    "keep_mice = ['01_01',\n",
    " '01_02',\n",
    " '01_03',\n",
    " '01_04',\n",
    " '02_01',\n",
    " '02_02',\n",
    " '02_03',\n",
    " '02_04',\n",
    " '03_01',\n",
    " '03_02',\n",
    " '03_03',\n",
    " '03_04',\n",
    " '04_01',\n",
    " '04_02',\n",
    " '04_03',\n",
    " '04_04']\n",
    "df = df[df['mouse'].isin(keep_mice)].reset_index()\n",
    "df['mouse'] = df['mouse'].replace(to_replace=df['mouse'].unique(), value=list(range(1,len(df['mouse'].unique())+1)))\n",
    "\n",
    "# define cage\n",
    "df['cage'] = df.subject_name.str[:2]"
   ]
  },
  {
   "cell_type": "code",
   "execution_count": null,
   "id": "c83b5580",
   "metadata": {},
   "outputs": [],
   "source": [
    "# calculate usage\n",
    "musages = df.groupby(['age','mouse','uuid','experiment','subject_name','cage'], observed=True, sort=False).apply(compute_usage)\n",
    "musage_mtx = pd.pivot_table(musages.reset_index(), index=['age', 'mouse','cage','experiment','uuid'], columns='syllables', values='proportion').fillna(0)\n",
    "musage_mtx.write_parquet(data_folder / \"longtogeny_musage_mtx\"\", use_pyarrow=True)\n",
    "musage.write_parquet(data_folder / \"longtogeny_musage\"\", use_pyarrow=True)\n",
    "\n",
    "\n",
    "#musage_mtx.columns = musage_mtx.columns.droplevel(0)\n",
    "#mdf_all = musage_mtx.copy()\n",
    "\n",
    "#filter most used syllables just males\n",
    "#include_syll = syll_index_above_threshold(musages)\n",
    "#musage_mtx = musage_mtx[include_syll]"
   ]
  },
  {
   "cell_type": "code",
   "execution_count": null,
   "id": "77058a02",
   "metadata": {},
   "outputs": [],
   "source": []
  }
 ],
 "metadata": {
  "kernelspec": {
   "display_name": "Python 3 (ipykernel)",
   "language": "python",
   "name": "python3"
  },
  "language_info": {
   "codemirror_mode": {
    "name": "ipython",
    "version": 3
   },
   "file_extension": ".py",
   "mimetype": "text/x-python",
   "name": "python",
   "nbconvert_exporter": "python",
   "pygments_lexer": "ipython3",
   "version": "3.10.11"
  }
 },
 "nbformat": 4,
 "nbformat_minor": 5
}
