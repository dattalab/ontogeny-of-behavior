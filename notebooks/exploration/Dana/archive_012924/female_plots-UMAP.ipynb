{
 "cells": [
  {
   "cell_type": "markdown",
   "id": "8c932cb4",
   "metadata": {},
   "source": [
    "imports\n",
    "-----------"
   ]
  },
  {
   "cell_type": "code",
   "execution_count": 1,
   "id": "a9def74a",
   "metadata": {},
   "outputs": [],
   "source": [
    "#standard library imports\n",
    "import copy\n",
    "import pylab\n",
    "from sklearn.manifold import TSNE\n",
    "import h5py\n",
    "import scipy\n",
    "import datetime\n",
    "import math\n",
    "import cmasher as cmr\n",
    "from matplotlib.lines import Line2D\n",
    "from matplotlib_venn import venn3\n",
    "from scipy import linalg as LA\n",
    "import glob\n",
    "import yaml\n",
    "from scipy.stats import linregress\n",
    "import pandas as pd\n",
    "from collections import Counter\n",
    "import matplotlib as mpl\n",
    "import matplotlib.pyplot as plt\n",
    "import matplotlib.ticker as ticker\n",
    "import numpy as np\n",
    "np.random.seed(123456)\n",
    "import pickle\n",
    "import seaborn as sns\n",
    "from scipy.spatial.distance import squareform\n",
    "import warnings\n",
    "from statistics import median\n",
    "warnings.filterwarnings(\"ignore\", category=DeprecationWarning) \n",
    "from os.path import join, dirname, abspath\n",
    "import os\n",
    "import shutil\n",
    "from collections import Counter\n",
    "from sklearn.decomposition import PCA\n",
    "from sklearn.linear_model import LogisticRegression, LinearRegression\n",
    "from sklearn.svm import SVC\n",
    "from sklearn.discriminant_analysis import LinearDiscriminantAnalysis\n",
    "from sklearn.datasets import make_blobs\n",
    "from sklearn.model_selection import train_test_split\n",
    "from sklearn.preprocessing import StandardScaler, LabelEncoder\n",
    "from sklearn.ensemble import RandomForestClassifier\n",
    "from sklearn.model_selection import StratifiedKFold, LeaveOneOut, RepeatedStratifiedKFold, KFold\n",
    "from sklearn.svm import LinearSVC\n",
    "from sklearn.model_selection import GridSearchCV\n",
    "from sklearn.metrics import confusion_matrix, accuracy_score, f1_score\n",
    "from sklearn.preprocessing import LabelEncoder\n",
    "from collections import defaultdict\n",
    "from tqdm.auto import tqdm\n",
    "from matplotlib.gridspec import GridSpec\n",
    "from scipy import stats\n",
    "\n",
    "%matplotlib inline"
   ]
  },
  {
   "cell_type": "code",
   "execution_count": 2,
   "id": "37f68919",
   "metadata": {},
   "outputs": [],
   "source": [
    "from moseq2_viz.model.util import (relabel_by_usage, parse_model_results, compute_syllable_explained_variance)\n",
    "from moseq2_app.gui.progress import update_progress, restore_progress_vars\n",
    "from moseq2_viz.util import parse_index\n",
    "from moseq2_viz.scalars.util import scalars_to_dataframe\n",
    "from moseq2_viz.model.util import compute_behavioral_statistics\n",
    "from moseq2_viz.util import read_yaml"
   ]
  },
  {
   "cell_type": "markdown",
   "id": "f5c33fe2",
   "metadata": {},
   "source": [
    "\n",
    "Functions\n",
    "----------"
   ]
  },
  {
   "cell_type": "markdown",
   "id": "d10b637a",
   "metadata": {},
   "source": [
    "UMAP preprocessing and functions\n",
    "--------------------"
   ]
  },
  {
   "cell_type": "code",
   "execution_count": 3,
   "id": "fab75bef",
   "metadata": {},
   "outputs": [],
   "source": [
    "import warnings\n",
    "\n",
    "# Binning / smoothing\n",
    "    \n",
    "def firing_rates(\n",
    "    spike_times, \n",
    "    spike_labels, \n",
    "    window_size=0.2, \n",
    "    window_step=0.02\n",
    "):\n",
    "    \"\"\"Convert spike tikes to firing rates using a sliding window\n",
    "    \n",
    "    Parameters\n",
    "    ----------\n",
    "    spike_times : ndarray\n",
    "        Spike times (in seconds) for all units. The source of each spike is\n",
    "        input separately using ``spike_labels``\n",
    "        \n",
    "    spike_labels: ndarray\n",
    "        The source/label for each spike in ``spike_times``. The maximum\n",
    "        value of this array determines the number of rows in the heatmap.\n",
    "    \n",
    "    window_size: float, default=0.2\n",
    "        Length (in seconds) of the sliding window used to calculate firing rates\n",
    "        \n",
    "    window_step: float, default=0.02\n",
    "        Step-size (in seconds) between each window used to calculate firing rates\n",
    "    Returns\n",
    "    -------\n",
    "    firing_rates: ndarray\n",
    "        Array of firing rates, where rows units and columns are sliding \n",
    "        window locations. ``firing_rates`` has shape ``(N,M)`` where::\n",
    "            N = max(spike_labels)+1\n",
    "            M = (max(spike_times)-min(spike_times))/binsize\n",
    "    start_time, float\n",
    "        The time (in seconds) corresponding to the left-boundary\n",
    "        of the first window in ``firing_rates``.\n",
    "    \"\"\"\n",
    "    # round spikes to window_step and factor our start time\n",
    "    spike_times = np.around(spike_times/window_step).astype(int)\n",
    "    start_time = spike_times.min()\n",
    "    spike_times = spike_times - start_time\n",
    "    \n",
    "    # create heatmap of spike counts for each window_step-sized bin\n",
    "    spike_labels = spike_labels.astype(int)\n",
    "    heatmap = np.zeros((spike_labels.max()+1, spike_times.max()+1))\n",
    "    np.add.at(heatmap, (spike_labels, spike_times), 1/window_step)\n",
    "    \n",
    "    # use convolution to get sliding window counts\n",
    "    kernel = np.ones(int(window_size//window_step))/(window_size//window_step)\n",
    "    for i in range(heatmap.shape[0]): heatmap[i,:] = np.convolve(heatmap[i,:],kernel, mode='same')\n",
    "    return heatmap, start_time-window_step/2\n",
    "\n",
    "\n",
    "def bin_data(\n",
    "    data, \n",
    "    binsize,\n",
    "    axis=-1,\n",
    "    return_intervals=False\n",
    "):\n",
    "    \"\"\"Bin data using non-overlaping windows along `axis`\n",
    "    Returns\n",
    "    -------\n",
    "    data_binned: ndarray\n",
    "    bin_intervals: ndarray (returned if ``rerturn_intervals=True``)\n",
    "        (N,2) array with the start and end index of each bin\n",
    "    \"\"\"\n",
    "    data = np.moveaxis(data,axis,-1)\n",
    "    pad_amount = (-data.shape[-1])%binsize\n",
    "    num_bins = int((data.shape[-1]+pad_amount)/binsize)\n",
    "\n",
    "    data_padded = np.pad(data,[(0,0)]*(len(data.shape)-1)+[(0,pad_amount)])\n",
    "    data_binned = data_padded.reshape(*data.shape[:-1], num_bins, binsize).mean(-1)\n",
    "    if pad_amount > 0: data_binned[...,-1] = data_binned[...,-1] * binsize/(binsize-pad_amount)\n",
    "    data_binned = np.moveaxis(data_binned,-1,axis)\n",
    "\n",
    "    if return_intervals:\n",
    "        bin_starts = np.arange(0,num_bins)*binsize\n",
    "        bin_ends = np.arange(1,num_bins+1)*binsize\n",
    "        bin_ends[-1] = data.shape[-1]\n",
    "        bin_intervals = np.vstack((bin_starts,bin_ends)).T\n",
    "        return data_binned, bin_intervals\n",
    "    else: return data_binned\n",
    "\n",
    "\n",
    "\n",
    "# Normalization\n",
    "\n",
    "def zscore(data, axis=0, eps=1e-10):\n",
    "    \"\"\"\n",
    "    Z-score standardize the data along ``axis``\n",
    "    \"\"\"\n",
    "    mean = np.mean(data, axis=axis, keepdims=True)\n",
    "    std = np.std(data, axis=axis, keepdims=True) + eps\n",
    "    return (data-mean)/std\n",
    "\n",
    "\n",
    "# Dimensionality reduction\n",
    "\n",
    "def sort(\n",
    "    data, \n",
    "    method='rastermap', \n",
    "    options={}\n",
    "):\n",
    "    \"\"\"Compute neuron ordering that groups neurons with similar activity\n",
    "    Parameters\n",
    "    ----------\n",
    "    data: ndarray\n",
    "        Data matrix where rows are neurons and columns are time points\n",
    "    method: {'rastermap'}\n",
    "        Method to use for sorting (currently only rastermap is implemented)\n",
    "    options: dict, default={}\n",
    "        Sorting method-specific options.\n",
    "        'rastermap'\n",
    "            ``options`` will be passed as keyword arguments when initializing\n",
    "            `rastermap.mapping.Rastermap <https://github.com/MouseLand/rastermap/blob/40867ce9a8b2850d76483890740c0dc10d6cb413/rastermap/mapping.py#L531>`_\n",
    "    Returns\n",
    "    -------\n",
    "    ordering: ndarray\n",
    "        Ordering index that can be used for sorting (see `numpy.argsort`)\n",
    "    \"\"\"\n",
    "    valid_sort_methods = ['rastermap']\n",
    "    if not method in valid_sort_methods:\n",
    "        raise AssertionError(method+' is not a valid sort method. Must be one of '+repr(valid_sort_methods))\n",
    "    if method=='rastermap':\n",
    "        print('Computing row order with rastermap')\n",
    "        from rastermap import mapping\n",
    "        model = mapping.Rastermap(n_components=1).fit(data)\n",
    "        return np.argsort(model.embedding[:,0])\n",
    "\n",
    "\n",
    "def umap_embedding(\n",
    "    data, \n",
    "    standardize=True,\n",
    "    n_pcs=20, \n",
    "    n_components=2, \n",
    "    n_neighbors=100,\n",
    "    random_state=42,\n",
    "    **kwargs\n",
    "):\n",
    "    \"\"\"Generate a 2D embedding of neural activity using UMAP. The function \n",
    "    generates the embedding in three steps:\n",
    "        1. (Optionally) standardize (Z-score) the activity of each neuron\n",
    "        2. Perform initial dimensionality reduction using PCA\n",
    "        3. Run UMAP on the output of PCA\n",
    "    Parameters\n",
    "    ----------\n",
    "    data: ndarray\n",
    "        Array of neural activity where rows are neurons and columns are time points\n",
    "    standardize: bool, default=True\n",
    "        Whether to standardize (Z-score) the data prior to PCA\n",
    "    n_pcs: int, default=20\n",
    "        Number of principal components to use during PCA. If ``n_pcs=None``, the binned \n",
    "        data will be passed directly to UMAP\n",
    "    n_components: int, default=2\n",
    "        Dimensionality of the embedding\n",
    "    n_neighbors: int, default=100\n",
    "        Passed to UMAP (see `explanation of UMAP parameters <https://umap-learn.readthedocs.io/en/latest/parameters.html>`_).\n",
    "    **kwargs\n",
    "        Any other UMAP parameters can also be passed as keyword arguments\n",
    "    Returns\n",
    "    -------\n",
    "    coodinates: ndarray\n",
    "        (N,2) array containing UMAP coordinates\n",
    "    \"\"\"\n",
    "    from sklearn.decomposition import PCA\n",
    "    from umap import UMAP\n",
    "\n",
    "    if standardize: data = zscore(data, axis=1)\n",
    "    PCs = PCA(n_components=n_pcs).fit_transform(data.T)\n",
    "    umap_obj = UMAP(n_neighbors=n_neighbors, n_components=n_components, n_epochs=500,random_state=random_state,**kwargs)\n",
    "    coordinates = umap_obj.fit_transform(PCs)\n",
    "    return coordinates"
   ]
  },
  {
   "cell_type": "code",
   "execution_count": 4,
   "id": "840d5b3c",
   "metadata": {},
   "outputs": [],
   "source": [
    "# upload data\n",
    "warnings.simplefilter('ignore')\n",
    "mean_df = pd.read_csv('/n/groups/datta/Dana/Estrous/mean_df.csv')\n",
    "#scalar_df = pd.read_csv('/n/groups/datta/Dana/Estrous/scalar_df.csv')"
   ]
  },
  {
   "cell_type": "code",
   "execution_count": 5,
   "id": "15035468",
   "metadata": {},
   "outputs": [
    {
     "data": {
      "image/png": "[encoded data removed]",
      "text/plain": [
       "<Figure size 432x288 with 1 Axes>"
      ]
     },
     "metadata": {
      "needs_background": "light"
     },
     "output_type": "display_data"
    }
   ],
   "source": [
    "# remove bad sessions based on mouse size\n",
    "area_df = mean_df.groupby(['group', 'SubjectName'])['area_mm'].mean()\n",
    "sns.histplot(area_df)\n",
    "mina = 600\n",
    "maxa = 750"
   ]
  },
  {
   "cell_type": "markdown",
   "id": "39f57ead",
   "metadata": {},
   "source": [
    "rearrrange data in structure\n",
    "----------"
   ]
  },
  {
   "cell_type": "code",
   "execution_count": 6,
   "id": "48d0090a",
   "metadata": {},
   "outputs": [
    {
     "name": "stdout",
     "output_type": "stream",
     "text": [
      "200\n"
     ]
    },
    {
     "data": {
      "text/plain": [
       "49"
      ]
     },
     "execution_count": 6,
     "metadata": {},
     "output_type": "execute_result"
    }
   ],
   "source": [
    "# arrange all data in stcuture: 4 phases X 16 mice in each phase X n samples in session\n",
    "groups = mean_df['group'].unique()\n",
    "mic = mean_df['mouse'].unique()\n",
    "sessions=[]\n",
    "st=[]\n",
    "dbg = []\n",
    "mice=[]\n",
    "mice_all=[]\n",
    "phase=[]\n",
    "phase_all=[]\n",
    "rep = []\n",
    "for indg, gp in enumerate(groups): # for all phases\n",
    "    #print(gp)\n",
    "    smic1=[]\n",
    "    s1=[]\n",
    "    m1=[]\n",
    "    m11=[]\n",
    "    ph1=[]\n",
    "    ph11=[]\n",
    "    rep1=[]\n",
    "    for indm, mc in enumerate(mic): # for all mice\n",
    "        smic2=[]\n",
    "        s2=[]\n",
    "        m2=[]\n",
    "        ph2=[]\n",
    "        rep2=[]\n",
    "        curr = mean_df.loc[(mean_df['group']==gp) & (mean_df['mouse']==mc)] # find the current mouse in current phase\n",
    "        #print(len(curr.syllable.unique()))\n",
    "        cs=curr['SubjectName'].unique()\n",
    "        for inds, ss in enumerate(cs):\n",
    "            syl = curr.loc[curr['SubjectName']==ss]['usage'].values\n",
    "            area = curr.loc[curr['SubjectName']==ss]['area_mm'].mean()\n",
    "            if (area>mina) & (area<maxa):\n",
    "                s2.append(ss)\n",
    "                rep2.append(curr.loc[curr['SubjectName']==ss]['rep'].unique())\n",
    "                smic2.append(syl)\n",
    "                m2.append(mc)\n",
    "                ph2.append(gp)\n",
    "        if m2:\n",
    "            #_, idx = np.unique(m2, return_index=True)\n",
    "            #m1.append(list((m2[np.sort(idx)])))\n",
    "            m1.append(list(np.unique(m2)))\n",
    "            m11.append(list(m2))\n",
    "            smic1.append(smic2)\n",
    "            s1.append(s2)\n",
    "            st.append(s2)\n",
    "            rep1.append(rep2)\n",
    "            #_, idx = np.unique(ph2, return_index=True)\n",
    "            #ph1.append(list((ph2[np.sort(idx)])))\n",
    "            ph1.append(list(np.unique(ph2)))\n",
    "            ph11.append(list(ph2))\n",
    "    mice.append(m1) # 4 phases X 16 mice \n",
    "    mice_all.append(m11) # 4 phases X 16 mice X number of times each mouse appears\n",
    "    phase_all.append(ph11) # 4 phases X 16 mice X number of times each phase appears\n",
    "    dbg.append(smic1) #syllable usages 4 phaes X 16 mice X sessions X 61 syllables \n",
    "    sessions.append(s1) # 4 phaes X 16 mice X sessions names\n",
    "    phase.append(ph1) # 4 phaes X 16 mice X phase names\n",
    "    rep.append(rep1) # 4 phaes X 16 mice X repetitions names\n",
    "# sanity check\n",
    "print(len(np.concatenate(np.concatenate(sessions))))\n",
    "ind_sessions = np.concatenate(np.concatenate(sessions)) # list of all sessions included\n",
    "ind_mice = np.concatenate(np.concatenate(mice))\n",
    "ind_phase = np.concatenate(np.concatenate(phase))# lise of all mice included\n",
    "ind_rep_all = np.concatenate(np.concatenate(rep))\n",
    "ind_mice_all = np.concatenate(np.concatenate(mice_all))\n",
    "ind_phase_all = np.concatenate(np.concatenate(phase_all))\n",
    "len(dbg[0][1][0])"
   ]
  },
  {
   "cell_type": "code",
   "execution_count": 7,
   "id": "6ca22099",
   "metadata": {},
   "outputs": [],
   "source": [
    "# arrange all data in stcuture: 4 phases X 16 mice in each phase X n samples in session\n",
    "mic = sorted(mean_df['mouse'].unique())\n",
    "rep = sorted(mean_df['rep'].unique())\n",
    "groups = sorted(mean_df['group'].unique())\n",
    "\n",
    "# matrix per mouse\n",
    "msessions=[]\n",
    "mdbg = []\n",
    "mmice=[]\n",
    "mrep = []\n",
    "mphase=[]\n",
    "for indm, mc in enumerate(mic): # for all mice\n",
    "    s1=[]\n",
    "    rep1=[]\n",
    "    smic1=[]\n",
    "    m1=[]\n",
    "    phase1=[]\n",
    "    curr=mean_df.loc[(mean_df['mouse']==mc)] # find the current mouse in current phase\n",
    "    #sor=np.argsort(curr['rep'].unique(),axis=0)\n",
    "    #cs=curr['SubjectName'].unique()[sor]\n",
    "    cs=curr['SubjectName'].unique()\n",
    "    for inds, ss in enumerate(cs): #all session for a mouse\n",
    "            syl = curr.loc[curr['SubjectName']==ss]['usage'].values\n",
    "            area = curr.loc[curr['SubjectName']==ss]['area_mm'].mean()\n",
    "            if (area>mina) & (area<maxa):\n",
    "                s1.append(ss) #session name\n",
    "                rep1.append(int(curr.loc[curr['SubjectName']==ss]['rep'].unique())) #repetition number\n",
    "                smic1.append(syl) #syllable usafe\n",
    "                m1.append(mc) #mouse\n",
    "                phase1.append(str(curr.loc[curr['SubjectName']==ss]['group'].unique())) #phase\n",
    "    mmice.append(m1) # 16 mics X n sessions \n",
    "    mdbg.append(smic1) #syllable usages 16 mice X n sessions X 61 syllables \n",
    "    msessions.append(s1) # 16 mice X sessions names\n",
    "    mrep.append(rep1) # 16 mice X repetitions names\n",
    "    mphase.append(phase1)\n",
    "\n",
    "# matrix per repetition\n",
    "rsessions=[]\n",
    "rdbg = []\n",
    "rmice=[]\n",
    "rrep = []\n",
    "rphase=[]\n",
    "for indm, mc in enumerate(rep): # for all repetitions\n",
    "    s1=[]\n",
    "    rep1=[]\n",
    "    smic1=[]\n",
    "    m1=[]\n",
    "    phase1=[]\n",
    "    curr=mean_df.loc[(mean_df['rep']==mc)] # find all mice in current repetition\n",
    "    #sor=np.argsort(curr['mouse'].unique(),axis=0)\n",
    "    #cs=curr['SubjectName'].unique()[sor]\n",
    "    cs=curr['SubjectName'].unique()\n",
    "    for inds, ss in enumerate(cs): #all session for a mouse\n",
    "            syl = curr.loc[curr['SubjectName']==ss]['usage'].values\n",
    "            s1.append(ss) #session name\n",
    "            rep1.append(int(curr.loc[curr['SubjectName']==ss]['rep'].unique())) #repetition number\n",
    "            smic1.append(syl) #syllable usafe\n",
    "            m1.append(str(curr.loc[curr['SubjectName']==ss]['mouse'].unique())) #mouse\n",
    "            phase1.append(str(curr.loc[curr['SubjectName']==ss]['group'].unique())) #phase\n",
    "    rmice.append(m1) # 16 mics X n sessions \n",
    "    rdbg.append(smic1) #syllable usages 16 mice X n sessions X 61 syllables \n",
    "    rsessions.append(s1) # 16 mice X sessions names\n",
    "    rrep.append(rep1) # 16 reprtitions X mouse names\n",
    "    rphase.append(phase1)\n",
    "    \n",
    "# matrix per phase\n",
    "psessions=[]\n",
    "pdbg = []\n",
    "pmice=[]\n",
    "prep = []\n",
    "pphase=[]\n",
    "for indm, mc in enumerate(groups): # for all repetitions\n",
    "    s1=[]\n",
    "    rep1=[]\n",
    "    smic1=[]\n",
    "    m1=[]\n",
    "    phase1=[]\n",
    "    curr=mean_df.loc[(mean_df['group']==mc)] # find all rep in current repetition\n",
    "    cs=curr['SubjectName'].unique()\n",
    "    for inds, ss in enumerate(cs): #all session for a mouse\n",
    "            syl = curr.loc[curr['SubjectName']==ss]['usage'].values\n",
    "            s1.append(ss) #session name\n",
    "            rep1.append(int(curr.loc[curr['SubjectName']==ss]['rep'].unique())) #repetition number\n",
    "            smic1.append(syl) #syllable usafe\n",
    "            m1.append(str(curr.loc[curr['SubjectName']==ss]['mouse'].unique())) #mouse\n",
    "            phase1.append(str(curr.loc[curr['SubjectName']==ss]['group'].unique())) #phase\n",
    "    pmice.append(m1) # 16 mics X n sessions \n",
    "    pdbg.append(smic1) #syllable usages 16 mice X n sessions X 61 syllables \n",
    "    psessions.append(s1) # 16 mice X sessions names\n",
    "    prep.append(rep1) # 16 reprtitions X mouse names\n",
    "    pphase.append(phase1)"
   ]
  },
  {
   "cell_type": "code",
   "execution_count": 8,
   "id": "da8025c5",
   "metadata": {},
   "outputs": [],
   "source": [
    "#Keep only the average syll for each mouse for each phase\n",
    "frequencies_bg=[]\n",
    "for indg, gp in enumerate(dbg):\n",
    "    ftemp=[]\n",
    "    for indm, ms in enumerate(gp):\n",
    "        ftemp.append(np.nanmean(np.array(ms),axis=0))\n",
    "    frequencies_bg.append(ftemp)"
   ]
  },
  {
   "cell_type": "code",
   "execution_count": 9,
   "id": "4bb250fd",
   "metadata": {},
   "outputs": [
    {
     "data": {
      "text/plain": [
       "200"
      ]
     },
     "execution_count": 9,
     "metadata": {},
     "output_type": "execute_result"
    }
   ],
   "source": [
    "len(mean_df.uuid.unique())"
   ]
  },
  {
   "cell_type": "markdown",
   "id": "b7131dc4",
   "metadata": {},
   "source": [
    "# ----------------------------------------------------------------------- \n",
    "# ANALYSIS\n",
    "# -----------------------------------------------------------------------"
   ]
  },
  {
   "cell_type": "code",
   "execution_count": 10,
   "id": "b4320481",
   "metadata": {},
   "outputs": [
    {
     "data": {
      "text/plain": [
       "'\\n[‘Solarize_Light2’, ‘_classic_test_patch’, ‘bmh’, ‘classic’, \\n ‘dark_background’, ‘fast’, ‘fivethirtyeight’, ‘ggplot’,’grayscale’,’seaborn’,’seaborn-bright’,\\n ’seaborn-colorblind’, ‘seaborn-dark’, ‘seaborn-dark-palette’, ‘seaborn-darkgrid’, ‘seaborn-deep’, \\n ‘seaborn-muted’, ‘seaborn-notebook’, ‘seaborn-paper’, ‘seaborn-pastel’, ‘seaborn-poster’,’seaborn-talk’,\\n ’seaborn-ticks’,’seaborn-white’,’seaborn-whitegrid’,’tableau-colorblind10′]\\n '"
      ]
     },
     "execution_count": 10,
     "metadata": {},
     "output_type": "execute_result"
    }
   ],
   "source": [
    "# plot/colors definitions\n",
    "from matplotlib.lines import Line2D\n",
    "import matplotlib as mpl\n",
    "rep_labels = np.unique(np.concatenate(mrep))\n",
    "mouse_labels = np.unique(np.concatenate(mmice))\n",
    "group_labels = list(np.unique(np.concatenate(mphase)))\n",
    "max_sylls=len(dbg[0][1][0])\n",
    "\n",
    "# save figures\n",
    "data_loc=\"/n/groups/datta/Dana/\"+'estrous_figs_new2/'\n",
    "try:\n",
    "    os.mkdir(data_loc)\n",
    "except FileExistsError:\n",
    "    # directory already exists\n",
    "    pass\n",
    "os.chdir(data_loc)\n",
    "\n",
    "plt.style.use(\"seaborn-paper\")\n",
    "'''\n",
    "[‘Solarize_Light2’, ‘_classic_test_patch’, ‘bmh’, ‘classic’, \n",
    " ‘dark_background’, ‘fast’, ‘fivethirtyeight’, ‘ggplot’,’grayscale’,’seaborn’,’seaborn-bright’,\n",
    " ’seaborn-colorblind’, ‘seaborn-dark’, ‘seaborn-dark-palette’, ‘seaborn-darkgrid’, ‘seaborn-deep’, \n",
    " ‘seaborn-muted’, ‘seaborn-notebook’, ‘seaborn-paper’, ‘seaborn-pastel’, ‘seaborn-poster’,’seaborn-talk’,\n",
    " ’seaborn-ticks’,’seaborn-white’,’seaborn-whitegrid’,’tableau-colorblind10′]\n",
    " '''"
   ]
  },
  {
   "cell_type": "markdown",
   "id": "1c30da9f",
   "metadata": {},
   "source": [
    "UMAP\n",
    "-----------"
   ]
  },
  {
   "cell_type": "markdown",
   "id": "45251fe8",
   "metadata": {},
   "source": [
    "# Umap based on bootstraping and applied to data"
   ]
  },
  {
   "cell_type": "code",
   "execution_count": 11,
   "id": "b53e1859",
   "metadata": {},
   "outputs": [
    {
     "data": {
      "text/plain": [
       "\"\\n# prepare copy of mean_df\\nplot_df = mean_df[mean_df.group.str.contains('long')].copy()\\nplot_df['group']= plot_df['group'].str.split('_', expand = True)[1]\\ntemp_mean_df = plot_df.groupby(by = ['mouse', 'group','rep', 'syllable']).mean()['usage'].reset_index()\\nmean_df_lc = pd.pivot_table(temp_mean_df, values='usage', index=['group','rep', 'mouse'], columns=['syllable']).reset_index().fillna(0)\\nnewf=[]\\nyr=[]\\nyp=[]\\nti=100\\n\\n# bootstrap\\nfor i in range(ti):\\n    for choose in mouse_labels:\\n        curr = mean_df_lc[mean_df_lc['mouse'] == choose]\\n        btrain = curr.groupby('group').apply(lambda x: x.sample(n=1,replace=True)).reset_index(drop=True) # new balanced df\\n                #print(btrain)\\n        currf = btrain.drop(['group','rep', 'mouse'], axis=1).to_numpy()\\n        newf.append(currf)\\n        y = btrain['group'].to_numpy()\\n        ya = btrain['rep'].to_numpy()\\n        yp.append(y)\\n        yr.append(ya)\\n\""
      ]
     },
     "execution_count": 11,
     "metadata": {},
     "output_type": "execute_result"
    }
   ],
   "source": [
    "'''\n",
    "# prepare copy of mean_df\n",
    "plot_df = mean_df[mean_df.group.str.contains('long')].copy()\n",
    "plot_df['group']= plot_df['group'].str.split('_', expand = True)[1]\n",
    "temp_mean_df = plot_df.groupby(by = ['mouse', 'group','rep', 'syllable']).mean()['usage'].reset_index()\n",
    "mean_df_lc = pd.pivot_table(temp_mean_df, values='usage', index=['group','rep', 'mouse'], columns=['syllable']).reset_index().fillna(0)\n",
    "newf=[]\n",
    "yr=[]\n",
    "yp=[]\n",
    "ti=100\n",
    "\n",
    "# bootstrap\n",
    "for i in range(ti):\n",
    "    for choose in mouse_labels:\n",
    "        curr = mean_df_lc[mean_df_lc['mouse'] == choose]\n",
    "        btrain = curr.groupby('group').apply(lambda x: x.sample(n=1,replace=True)).reset_index(drop=True) # new balanced df\n",
    "                #print(btrain)\n",
    "        currf = btrain.drop(['group','rep', 'mouse'], axis=1).to_numpy()\n",
    "        newf.append(currf)\n",
    "        y = btrain['group'].to_numpy()\n",
    "        ya = btrain['rep'].to_numpy()\n",
    "        yp.append(y)\n",
    "        yr.append(ya)\n",
    "'''"
   ]
  },
  {
   "cell_type": "code",
   "execution_count": 12,
   "id": "aa00ac89",
   "metadata": {},
   "outputs": [
    {
     "data": {
      "text/plain": [
       "'\\n# umap fit on bootstapped data, transform real data\\nfrom umap import UMAP\\nn_pcs=None \\nn_components=2\\nn_neighbors=20\\n\\nnewfrequencies = np.concatenate(newf)\\ndata = newfrequencies.T\\ndata = zscore(data, axis=1)\\nPCs = PCA(n_components=n_pcs).fit_transform(data.T)\\numap_obj = UMAP(n_neighbors=n_neighbors, n_components=n_components, n_epochs=500).fit(PCs)\\n\\nfrequencies = np.concatenate(mdbg)\\ndata = frequencies.T\\ndata = zscore(data, axis=1)\\nPCs = PCA(n_components=n_pcs).fit_transform(data.T)\\ncoordinates = umap_obj.transform(PCs)\\n'"
      ]
     },
     "execution_count": 12,
     "metadata": {},
     "output_type": "execute_result"
    }
   ],
   "source": [
    "'''\n",
    "# umap fit on bootstapped data, transform real data\n",
    "from umap import UMAP\n",
    "n_pcs=None \n",
    "n_components=2\n",
    "n_neighbors=20\n",
    "\n",
    "newfrequencies = np.concatenate(newf)\n",
    "data = newfrequencies.T\n",
    "data = zscore(data, axis=1)\n",
    "PCs = PCA(n_components=n_pcs).fit_transform(data.T)\n",
    "umap_obj = UMAP(n_neighbors=n_neighbors, n_components=n_components, n_epochs=500).fit(PCs)\n",
    "\n",
    "frequencies = np.concatenate(mdbg)\n",
    "data = frequencies.T\n",
    "data = zscore(data, axis=1)\n",
    "PCs = PCA(n_components=n_pcs).fit_transform(data.T)\n",
    "coordinates = umap_obj.transform(PCs)\n",
    "'''"
   ]
  },
  {
   "cell_type": "markdown",
   "id": "8137d123",
   "metadata": {},
   "source": [
    "plot by individuals 3D\n",
    "--------------"
   ]
  },
  {
   "cell_type": "code",
   "execution_count": 13,
   "id": "2eacba6b",
   "metadata": {},
   "outputs": [
    {
     "data": {
      "text/plain": [
       "\"\\n# variables to plot\\nfrom mpl_toolkits.mplot3d import Axes3D\\nfactor=1\\ncmap2 = mpl.cm.tab20\\n\\n# set the colors for the plot\\nage_labels = mouse_labels\\ncolor_mat=[]\\ncustom_lines=[]\\nfrom collections import Counter\\ncounts = Counter(sorted(np.concatenate(mmice))).values()\\nc=0\\nfor i in counts:\\n    for j in range(i):\\n        color_mat.append(cmap2(c*factor))\\n    c=c+1\\n_,idx=np.unique(color_mat, axis=0,return_index=True)\\nlcol = np.array(color_mat)[np.sort(idx)]\\nfor indc, col in enumerate(lcol):\\n    custom_lines.append(Line2D([0], [0], color=col, lw=4)) \\n    \\n\\n# sort frequencies by mouse\\nfrequencies = np.concatenate(mdbg)\\n\\n# umap\\nfor i in ([7,12,14,18,24,26,30]):\\n    coordinates = umap_embedding(frequencies.T, \\n        standardize=True,\\n        n_pcs=None, \\n        n_components=3, \\n        n_neighbors=8,\\n        random_state=i)\\n\\n    fig = plt.figure()\\n    fig.set_size_inches(10,10) \\n    ax = fig.add_subplot(projection='3d')\\n    plt.legend(handles=custom_lines,labels=list(age_labels),bbox_to_anchor=(1.2, 1))\\n    plt.title('Umap colored by mouse'+str(i),fontsize=20)\\n    #plt.xlabel('LD1',fontsize=20)\\n    #plt.ylabel('LD2',fontsize=20)\\n    ax.set_xticks([])\\n    ax.set_yticks([])\\n    fig.patch.set_facecolor('white')\\n    for j in range(len(coordinates)):\\n        ax.scatter(coordinates[j][0],coordinates[j][1],coordinates[j][2],color=color_mat[j],s=50)\\n    plt.show()\\n\""
      ]
     },
     "execution_count": 13,
     "metadata": {},
     "output_type": "execute_result"
    }
   ],
   "source": [
    "'''\n",
    "# variables to plot\n",
    "from mpl_toolkits.mplot3d import Axes3D\n",
    "factor=1\n",
    "cmap2 = mpl.cm.tab20\n",
    "\n",
    "# set the colors for the plot\n",
    "age_labels = mouse_labels\n",
    "color_mat=[]\n",
    "custom_lines=[]\n",
    "from collections import Counter\n",
    "counts = Counter(sorted(np.concatenate(mmice))).values()\n",
    "c=0\n",
    "for i in counts:\n",
    "    for j in range(i):\n",
    "        color_mat.append(cmap2(c*factor))\n",
    "    c=c+1\n",
    "_,idx=np.unique(color_mat, axis=0,return_index=True)\n",
    "lcol = np.array(color_mat)[np.sort(idx)]\n",
    "for indc, col in enumerate(lcol):\n",
    "    custom_lines.append(Line2D([0], [0], color=col, lw=4)) \n",
    "    \n",
    "\n",
    "# sort frequencies by mouse\n",
    "frequencies = np.concatenate(mdbg)\n",
    "\n",
    "# umap\n",
    "for i in ([7,12,14,18,24,26,30]):\n",
    "    coordinates = umap_embedding(frequencies.T, \n",
    "        standardize=True,\n",
    "        n_pcs=None, \n",
    "        n_components=3, \n",
    "        n_neighbors=8,\n",
    "        random_state=i)\n",
    "\n",
    "    fig = plt.figure()\n",
    "    fig.set_size_inches(10,10) \n",
    "    ax = fig.add_subplot(projection='3d')\n",
    "    plt.legend(handles=custom_lines,labels=list(age_labels),bbox_to_anchor=(1.2, 1))\n",
    "    plt.title('Umap colored by mouse'+str(i),fontsize=20)\n",
    "    #plt.xlabel('LD1',fontsize=20)\n",
    "    #plt.ylabel('LD2',fontsize=20)\n",
    "    ax.set_xticks([])\n",
    "    ax.set_yticks([])\n",
    "    fig.patch.set_facecolor('white')\n",
    "    for j in range(len(coordinates)):\n",
    "        ax.scatter(coordinates[j][0],coordinates[j][1],coordinates[j][2],color=color_mat[j],s=50)\n",
    "    plt.show()\n",
    "'''"
   ]
  },
  {
   "cell_type": "markdown",
   "id": "62ce8c0a",
   "metadata": {},
   "source": [
    "plot by individuals 2D\n",
    "--------------"
   ]
  },
  {
   "cell_type": "code",
   "execution_count": 14,
   "id": "9f9bd71e",
   "metadata": {},
   "outputs": [
    {
     "data": {
      "image/png": "[encoded data removed]",
      "text/plain": [
       "<Figure size 360x360 with 1 Axes>"
      ]
     },
     "metadata": {},
     "output_type": "display_data"
    },
    {
     "data": {
      "image/png": "[encoded data removed]",
      "text/plain": [
       "<Figure size 360x360 with 1 Axes>"
      ]
     },
     "metadata": {},
     "output_type": "display_data"
    },
    {
     "data": {
      "image/png": "[encoded data removed]",
      "text/plain": [
       "<Figure size 360x360 with 1 Axes>"
      ]
     },
     "metadata": {},
     "output_type": "display_data"
    },
    {
     "data": {
      "image/png": "[encoded data removed]",
      "text/plain": [
       "<Figure size 360x360 with 1 Axes>"
      ]
     },
     "metadata": {},
     "output_type": "display_data"
    }
   ],
   "source": [
    "# variables to plot\n",
    "from mpl_toolkits.mplot3d import Axes3D\n",
    "factor=1\n",
    "cmap2 = mpl.cm.tab20\n",
    "import colorcet as cc\n",
    "cmap2 = cc.glasbey\n",
    "\n",
    "# set the colors for the plot\n",
    "age_labels = mouse_labels\n",
    "color_mat=[]\n",
    "custom_lines=[]\n",
    "from collections import Counter\n",
    "counts = Counter(sorted(np.concatenate(mmice))).values()\n",
    "c=0\n",
    "for i in counts:\n",
    "    for j in range(i):\n",
    "        color_mat.append(cmap2[c*factor])\n",
    "    c=c+1\n",
    "_,idx=np.unique(color_mat, axis=0,return_index=True)\n",
    "lcol = np.array(color_mat)[np.sort(idx)]\n",
    "for indc, col in enumerate(lcol):\n",
    "    custom_lines.append(Line2D([0], [0], color=col, lw=4)) \n",
    "    \n",
    "\n",
    "# sort frequencies by mouse\n",
    "frequencies = np.concatenate(mdbg)\n",
    "# if you want to log transform\n",
    "frequencies = np.log(frequencies + 1e-6)\n",
    "\n",
    "# umap\n",
    "for i in ([0,7,9,13]):\n",
    "    coordinates = umap_embedding(frequencies.T, \n",
    "        standardize=True,\n",
    "        n_pcs=None, \n",
    "        n_components=2, \n",
    "        n_neighbors=8,\n",
    "        random_state=i)\n",
    "\n",
    "    fig, ax = plt.subplots()\n",
    "    fig.set_size_inches(5,5) \n",
    "    plt.legend(handles=custom_lines,labels=list(age_labels),bbox_to_anchor=(1.2, 1))\n",
    "    plt.title('Umap colored by mouse'+str(i),fontsize=20)\n",
    "    #plt.xlabel('LD1',fontsize=20)\n",
    "    #plt.ylabel('LD2',fontsize=20)\n",
    "    ax.set_xticks([])\n",
    "    ax.set_yticks([])\n",
    "    fig.patch.set_facecolor('white')\n",
    "    for j in range(len(coordinates)):\n",
    "        ax.scatter(coordinates[j][0],coordinates[j][1],color=color_mat[j],s=50)\n",
    "    plt.show()"
   ]
  },
  {
   "cell_type": "code",
   "execution_count": 19,
   "id": "8db37f9c",
   "metadata": {},
   "outputs": [],
   "source": [
    "# sort frequencies by mouse\n",
    "frequencies = np.concatenate(mdbg)\n",
    "coordinates = umap_embedding(frequencies.T, \n",
    "        standardize=True,\n",
    "        n_pcs=None, \n",
    "        n_components=2, \n",
    "        n_neighbors=8,\n",
    "        random_state=0)"
   ]
  },
  {
   "cell_type": "code",
   "execution_count": 20,
   "id": "a5715957",
   "metadata": {},
   "outputs": [
    {
     "data": {
      "image/png": "[encoded data removed]",
      "text/plain": [
       "<Figure size 360x360 with 1 Axes>"
      ]
     },
     "metadata": {},
     "output_type": "display_data"
    }
   ],
   "source": [
    "# variables to plot\n",
    "max_syllable=60\n",
    "factor=1\n",
    "cmap2 = mpl.cm.tab20\n",
    "import colorcet as cc\n",
    "cmap2 = cc.glasbey\n",
    "\n",
    "# set the colors for the plot\n",
    "age_labels = mouse_labels\n",
    "color_mat=[]\n",
    "custom_lines=[]\n",
    "from collections import Counter\n",
    "counts = Counter(sorted(np.concatenate(mmice))).values()\n",
    "c=0\n",
    "for i in counts:\n",
    "    for j in range(i):\n",
    "        color_mat.append(cmap2[c*factor])\n",
    "    c=c+1\n",
    "_,idx=np.unique(color_mat, axis=0,return_index=True)\n",
    "lcol = np.array(color_mat)[np.sort(idx)]\n",
    "for indc, col in enumerate(lcol):\n",
    "    custom_lines.append(Line2D([0], [0], color=col, lw=4)) \n",
    "    \n",
    "fig, ax = plt.subplots()\n",
    "fig.set_size_inches(5,5)  \n",
    "plt.legend(handles=custom_lines,labels=list(age_labels),bbox_to_anchor=(1.2, 1))\n",
    "plt.title('Umap colored by mouse',fontsize=20)\n",
    "#plt.xlabel('LD1',fontsize=20)\n",
    "#plt.ylabel('LD2',fontsize=20)\n",
    "ax.set_xticks([])\n",
    "ax.set_yticks([])\n",
    "fig.patch.set_facecolor('white')\n",
    "    \n",
    "\n",
    "for i in range(len(coordinates)):\n",
    "    plt.scatter(coordinates[i][0],coordinates[i][1],color=color_mat[i], s=50)\n",
    "\n",
    "#plt.scatter(coordinates[:][0],coordinates[1],c=[cc.glasbey[mouse_map[m]] for m in mice], s=50)\n",
    "    \n",
    "#fig.savefig(data_loc + 'umap_individual_new.pdf', bbox_inches='tight')"
   ]
  },
  {
   "cell_type": "markdown",
   "id": "3caec004",
   "metadata": {},
   "source": [
    "# color with clusters"
   ]
  },
  {
   "cell_type": "code",
   "execution_count": null,
   "id": "a4f23784",
   "metadata": {},
   "outputs": [],
   "source": [
    "import numpy as np\n",
    "import pandas as pd\n",
    "import colorcet as cc\n",
    "import matplotlib.pyplot as plt\n",
    "from matplotlib.patches import Ellipse\n",
    "\n",
    "# umap coords\n",
    "coords = coordinates\n",
    "# mouse id\n",
    "mice = np.concatenate(mmice)\n",
    "mouse_map = dict(map(reversed, enumerate(np.unique(mice))))\n",
    "\n",
    "# cluster id\n",
    "clusters = clust_labels_indv\n",
    "df = pd.DataFrame(data=np.concatenate((coords, clusters[:, None], mice[:, None]), axis=1), columns=['umap1', 'umap2', 'cluster', 'mice'])\n",
    "df = df.astype({'umap1': float, 'umap2': float, 'cluster': int})\n",
    "\n",
    "fig = plt.figure()\n",
    "ax = fig.gca()\n",
    "fig1 = plt.figure()\n",
    "ax1 = fig1.gca()\n",
    "\n",
    "padding = 1\n",
    "npoints = 7\n",
    "\n",
    "for cluster, _df in df.groupby('cluster'):\n",
    "    x = _df['umap1']\n",
    "    y = _df['umap2']\n",
    "    xmu = np.mean(x)\n",
    "    ymu = np.mean(y)\n",
    "    x -= xmu\n",
    "    y -= ymu\n",
    "    to_remove = (x**2 + y**2).sort_values()\n",
    "\n",
    "    \n",
    "    x = x[to_remove.index[:-1]].to_numpy()\n",
    "    y = y[to_remove.index[:-1]].to_numpy()\n",
    "    \n",
    "    U, S, V = np.linalg.svd(np.vstack((x, y)))\n",
    "    freq_mouse = _df['mice'].map(mouse_map).mode().iloc[0]\n",
    "    angle = np.rad2deg(np.arctan2(U[1, 0], U[0, 0]))\n",
    "    e = Ellipse(xy=(xmu, ymu), width=S[0] * padding, height=S[1] * padding, angle=angle, fc=cc.glasbey[cluster], alpha=0.2)\n",
    "    ax.add_artist(e)\n",
    "    e = Ellipse(xy=(xmu, ymu), width=S[0] * padding, height=S[1] * padding, angle=angle, fc=cc.glasbey[cluster], alpha=0.2)\n",
    "    ax1.add_artist(e)\n",
    "\n",
    "ax1.scatter(df['umap1'], df['umap2'], c=[cc.glasbey[mouse_map[m]] for m in mice])\n",
    "ax1.set(title='dots colored by mouse')\n",
    "ax.scatter(df['umap1'], df['umap2'], c=[cc.glasbey[c] for c in df['cluster']])\n",
    "ax.set(title='dots colored by cluster')\n",
    "plt.show()"
   ]
  },
  {
   "cell_type": "markdown",
   "id": "b682c852",
   "metadata": {},
   "source": [
    "plot by clustering algorithm labels\n",
    "-----------"
   ]
  },
  {
   "cell_type": "code",
   "execution_count": null,
   "id": "e84cc7d5",
   "metadata": {},
   "outputs": [],
   "source": [
    "# variables to plot\n",
    "max_syllable=60\n",
    "factor=80\n",
    "cmap2 = mpl.cm.rainbow\n",
    "factor=16\n",
    "custom_lines=[]\n",
    "\n",
    "# set the colors for the plot\n",
    "labels = clust_labels_indv\n",
    "age_labels = np.unique(clust_labels_indv)\n",
    "for i in range(len(age_labels)):\n",
    "    custom_lines.append(Line2D([0], [0], color=cmap2(i*factor), lw=4)) \n",
    "\n",
    "fig, ax = plt.subplots()\n",
    "fig.set_size_inches(5,5)  \n",
    "plt.legend(handles=custom_lines,labels=list(age_labels),bbox_to_anchor=(1.2, 1))\n",
    "plt.title('Umap colored by mouse clustering algorithm',fontsize=20)\n",
    "#plt.xlabel('LD1',fontsize=20)\n",
    "#plt.ylabel('LD2',fontsize=20)\n",
    "ax.set_xticks([])\n",
    "ax.set_yticks([])\n",
    "fig.patch.set_facecolor('white')\n",
    "    \n",
    "for i in range(len(coordinates)):\n",
    "    plt.scatter(coordinates[i][0],coordinates[i][1],color=custom_lines[labels[i]].get_color(), s=50)\n",
    "fig.savefig(data_loc + 'umap_clusters_indv_new.pdf', bbox_inches='tight')"
   ]
  },
  {
   "cell_type": "code",
   "execution_count": 24,
   "id": "a8be6761",
   "metadata": {},
   "outputs": [],
   "source": [
    "phasec = ['#CE3045','#EF7C32','#FFDD00','#939598']\n",
    "custom_lines=[]\n",
    "i=0\n",
    "custom_lines.append(Line2D([0], [0], color=phasec[i], lw=4))"
   ]
  },
  {
   "cell_type": "markdown",
   "id": "8db9a658",
   "metadata": {},
   "source": [
    "plot by phase\n",
    "---------------------"
   ]
  },
  {
   "cell_type": "code",
   "execution_count": 25,
   "id": "5dfb1c29",
   "metadata": {},
   "outputs": [
    {
     "data": {
      "image/png": "[encoded data removed]",
      "text/plain": [
       "<Figure size 360x360 with 1 Axes>"
      ]
     },
     "metadata": {},
     "output_type": "display_data"
    }
   ],
   "source": [
    "# variables to plot\n",
    "max_syllable=60\n",
    "factor=5\n",
    "import colorcet as cc\n",
    "cmap2 = cc.glasbey_warm\n",
    "custom_lines=[]\n",
    "\n",
    "phasec = ['#CE3045','#EF7C32','#FFDD00','#939598']\n",
    "\n",
    "# set the colors for the plot\n",
    "age_labels = group_labels\n",
    "for i in range(len(age_labels)):\n",
    "    custom_lines.append(Line2D([0], [0], color=phasec[i], lw=4))\n",
    "le = LabelEncoder()\n",
    "le.fit(np.unique(np.concatenate(mphase)))\n",
    "y = le.transform(np.concatenate(mphase))\n",
    "    \n",
    "fig, ax = plt.subplots()\n",
    "fig.set_size_inches(5,5)  \n",
    "plt.legend(handles=custom_lines,labels=list(age_labels),bbox_to_anchor=(1.2, 1))\n",
    "plt.title('Umap colored by phase',fontsize=20)\n",
    "ax.set_xticks([])\n",
    "ax.set_yticks([])\n",
    "fig.patch.set_facecolor('white')\n",
    "    \n",
    "for i in range(len(coordinates)):\n",
    "    plt.scatter(coordinates[i][0],coordinates[i][1],color=custom_lines[y[i]].get_color(), s=100)\n",
    "fig.savefig(data_loc + 'umap_phase_new.pdf', bbox_inches='tight')"
   ]
  },
  {
   "cell_type": "markdown",
   "id": "df2ef925",
   "metadata": {},
   "source": [
    "plot by phase clustering\n",
    "-----------"
   ]
  },
  {
   "cell_type": "code",
   "execution_count": null,
   "id": "8f1e0f24",
   "metadata": {},
   "outputs": [],
   "source": [
    "# variables to plot\n",
    "max_syllable=60\n",
    "factor=80\n",
    "cmap2 = mpl.cm.gnuplot\n",
    "custom_lines=[]\n",
    "\n",
    "# set the colors for the plot\n",
    "labels = clust_labels_phase\n",
    "age_labels = list(np.unique(clust_labels_phase))\n",
    "for i in range(len(age_labels)):\n",
    "    custom_lines.append(Line2D([0], [0], color=cmap2(i*factor), lw=4)) \n",
    "\n",
    "fig, ax = plt.subplots()\n",
    "fig.set_size_inches(5,5)  \n",
    "plt.legend(handles=custom_lines,labels=age_labels,bbox_to_anchor=(1.2, 1))\n",
    "plt.title('Umap colored by clustering algorithm',fontsize=20)\n",
    "#plt.xlabel('LD1',fontsize=20)\n",
    "#plt.ylabel('LD2',fontsize=20)\n",
    "ax.set_xticks([])\n",
    "ax.set_yticks([])\n",
    "fig.patch.set_facecolor('white')\n",
    "    \n",
    "for i in range(len(coordinates)):\n",
    "    plt.scatter(coordinates[i][0],coordinates[i][1],color=custom_lines[labels[i]].get_color(), s=100)\n",
    "fig.savefig(data_loc + 'umap_clusters_phase_new.pdf', bbox_inches='tight')"
   ]
  },
  {
   "cell_type": "markdown",
   "id": "a0512b2b",
   "metadata": {},
   "source": [
    "plot by repetition\n",
    "---------------------"
   ]
  },
  {
   "cell_type": "code",
   "execution_count": null,
   "id": "82c13670",
   "metadata": {},
   "outputs": [],
   "source": [
    "# to color by phase\n",
    "# create array of labels of phases\n",
    "# variables to plot\n",
    "factor=16\n",
    "cmap2 = mpl.cm.rainbow\n",
    "age_labels = rep_labels\n",
    "custom_lines=[]\n",
    "import colorcet as cc\n",
    "cmap2 = cc.CET_C8\n",
    "\n",
    "# set the colors for the plot\n",
    "for i in range(len(age_labels)):\n",
    "    custom_lines.append(Line2D([0], [0], color=cmap2[i*factor], lw=4)) \n",
    "le = LabelEncoder()\n",
    "le.fit(np.unique(np.concatenate(mrep)))\n",
    "y = le.transform(np.concatenate(mrep))\n",
    "    \n",
    "fig, ax = plt.subplots()\n",
    "fig.set_size_inches(5,5)  \n",
    "plt.legend(handles=custom_lines,labels=list(age_labels),bbox_to_anchor=(1.2, 1))\n",
    "plt.title('Umap colored by phase',fontsize=20)\n",
    "ax.set_xticks([])\n",
    "ax.set_yticks([])\n",
    "fig.patch.set_facecolor('white')\n",
    "    \n",
    "for i in range(len(coordinates)):\n",
    "    plt.scatter(coordinates[i][0],coordinates[i][1],color=custom_lines[y[i]].get_color(), s=100)\n",
    "fig.savefig(data_loc + 'umap_rep_new.pdf', bbox_inches='tight')"
   ]
  },
  {
   "cell_type": "markdown",
   "id": "7e4016c1",
   "metadata": {},
   "source": [
    "plot by rep clustering\n",
    "-----------"
   ]
  },
  {
   "cell_type": "code",
   "execution_count": null,
   "id": "46d37032",
   "metadata": {},
   "outputs": [],
   "source": [
    "labels = clust_labels_rep\n",
    "age_labels = list(np.unique(clust_labels_rep))\n",
    "# variables to plot\n",
    "\n",
    "# to color by phase\n",
    "# create array of labels of phases\n",
    "# variables to plot\n",
    "factor=1\n",
    "cmap2 = mpl.cm.tab20\n",
    "custom_lines=[]\n",
    "\n",
    "# set the colors for the plot\n",
    "for i in range(len(age_labels)):\n",
    "    custom_lines.append(Line2D([0], [0], color=cmap2(i*factor), lw=4)) \n",
    "\n",
    "fig, ax = plt.subplots()\n",
    "fig.set_size_inches(5,5)  \n",
    "plt.legend(handles=custom_lines,labels=age_labels,bbox_to_anchor=(1.2, 1))\n",
    "plt.title('Umap colored by clustering algorithm',fontsize=20)\n",
    "#plt.xlabel('LD1',fontsize=20)\n",
    "#plt.ylabel('LD2',fontsize=20)\n",
    "ax.set_xticks([])\n",
    "ax.set_yticks([])\n",
    "fig.patch.set_facecolor('white')\n",
    "    \n",
    "for i in range(len(coordinates)):\n",
    "    plt.scatter(coordinates[i][0],coordinates[i][1],color=custom_lines[labels[i]].get_color(), s=100)\n",
    "fig.savefig(data_loc + 'umap_clusters_rep_new.pdf', bbox_inches='tight')"
   ]
  }
 ],
 "metadata": {
  "kernelspec": {
   "display_name": "Python 3 (ipykernel)",
   "language": "python",
   "name": "python3"
  },
  "language_info": {
   "codemirror_mode": {
    "name": "ipython",
    "version": 3
   },
   "file_extension": ".py",
   "mimetype": "text/x-python",
   "name": "python",
   "nbconvert_exporter": "python",
   "pygments_lexer": "ipython3",
   "version": "3.10.11"
  }
 },
 "nbformat": 4,
 "nbformat_minor": 5
}
