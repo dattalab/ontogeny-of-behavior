{
 "cells": [
  {
   "cell_type": "markdown",
   "id": "8c932cb4",
   "metadata": {},
   "source": [
    "imports\n",
    "-----------"
   ]
  },
  {
   "cell_type": "code",
   "execution_count": 44,
   "id": "a9def74a",
   "metadata": {},
   "outputs": [],
   "source": [
    "#standard library imports\n",
    "import copy\n",
    "import pylab\n",
    "from sklearn.manifold import TSNE\n",
    "import h5py\n",
    "import scipy\n",
    "import datetime\n",
    "import math\n",
    "import cmasher as cmr\n",
    "from matplotlib.lines import Line2D\n",
    "from matplotlib_venn import venn3\n",
    "from scipy import linalg as LA\n",
    "import glob\n",
    "import yaml\n",
    "from scipy.stats import linregress\n",
    "import pandas as pd\n",
    "from collections import Counter\n",
    "import matplotlib as mpl\n",
    "import matplotlib.pyplot as plt\n",
    "import matplotlib.ticker as ticker\n",
    "import numpy as np\n",
    "np.random.seed(123456)\n",
    "import pickle\n",
    "import seaborn as sns\n",
    "from scipy.spatial.distance import squareform\n",
    "import warnings\n",
    "from statistics import median\n",
    "warnings.filterwarnings(\"ignore\", category=DeprecationWarning) \n",
    "from os.path import join, dirname, abspath\n",
    "import os\n",
    "import shutil\n",
    "from collections import Counter\n",
    "from sklearn.decomposition import PCA\n",
    "from sklearn.linear_model import LogisticRegression, LinearRegression\n",
    "from sklearn.svm import SVC\n",
    "from sklearn.discriminant_analysis import LinearDiscriminantAnalysis\n",
    "from sklearn.datasets import make_blobs\n",
    "from sklearn.model_selection import train_test_split\n",
    "from sklearn.preprocessing import StandardScaler, LabelEncoder\n",
    "from sklearn.ensemble import RandomForestClassifier\n",
    "from sklearn.model_selection import StratifiedKFold, LeaveOneOut, RepeatedStratifiedKFold, KFold\n",
    "from sklearn.svm import LinearSVC\n",
    "from sklearn.model_selection import GridSearchCV\n",
    "from sklearn.metrics import confusion_matrix, accuracy_score, f1_score\n",
    "from sklearn.preprocessing import LabelEncoder\n",
    "from collections import defaultdict\n",
    "from tqdm.auto import tqdm\n",
    "from matplotlib.gridspec import GridSpec\n",
    "from scipy import stats\n",
    "\n",
    "%matplotlib inline"
   ]
  },
  {
   "cell_type": "code",
   "execution_count": 45,
   "id": "37f68919",
   "metadata": {},
   "outputs": [],
   "source": [
    "from moseq2_viz.model.util import (relabel_by_usage, parse_model_results, compute_syllable_explained_variance)\n",
    "from moseq2_app.gui.progress import update_progress, restore_progress_vars\n",
    "from moseq2_viz.util import parse_index\n",
    "from moseq2_viz.scalars.util import scalars_to_dataframe\n",
    "from moseq2_viz.model.util import compute_behavioral_statistics\n",
    "from moseq2_viz.util import read_yaml"
   ]
  },
  {
   "cell_type": "markdown",
   "id": "9de6ce46",
   "metadata": {},
   "source": [
    "## save results"
   ]
  },
  {
   "cell_type": "code",
   "execution_count": 49,
   "id": "9f060ef5",
   "metadata": {},
   "outputs": [],
   "source": [
    "mean_df = pd.read_csv('/n/groups/datta/Dana/Estrous/script_paper/mean_df_male.csv')\n",
    "scalar_df = pd.read_csv('/n/groups/datta/Dana/Estrous/scalar_df_male.csv')"
   ]
  },
  {
   "cell_type": "code",
   "execution_count": 50,
   "id": "d3545b0b",
   "metadata": {},
   "outputs": [],
   "source": [
    "# processing scalar df\n",
    "uuid_include = mean_df.uuid.unique()\n",
    "scalar_df = scalar_df[scalar_df.uuid.isin(uuid_include)]\n",
    "\n",
    "scalar_df['mouse'] = scalar_df.SubjectName.str[:5]\n",
    "scalar_df['cage'] = scalar_df.SubjectName.str[:2]\n",
    "scalar_df['rep'] = scalar_df.SubjectName.str[6:]\n",
    "scalar_df = scalar_df.astype({'rep':'int'}) # convert rep to integer"
   ]
  },
  {
   "cell_type": "code",
   "execution_count": 51,
   "id": "931a434a",
   "metadata": {},
   "outputs": [],
   "source": [
    "scalar_df.to_csv('/n/groups/datta/Dana/Estrous/script_paper/scalar_df_male.csv')"
   ]
  },
  {
   "cell_type": "code",
   "execution_count": 43,
   "id": "8fdc56a8",
   "metadata": {},
   "outputs": [
    {
     "data": {
      "text/html": [
       "<div>\n",
       "<style scoped>\n",
       "    .dataframe tbody tr th:only-of-type {\n",
       "        vertical-align: middle;\n",
       "    }\n",
       "\n",
       "    .dataframe tbody tr th {\n",
       "        vertical-align: top;\n",
       "    }\n",
       "\n",
       "    .dataframe thead th {\n",
       "        text-align: right;\n",
       "    }\n",
       "</style>\n",
       "<table border=\"1\" class=\"dataframe\">\n",
       "  <thead>\n",
       "    <tr style=\"text-align: right;\">\n",
       "      <th></th>\n",
       "      <th>Unnamed: 0</th>\n",
       "      <th>Unnamed: 0.1</th>\n",
       "      <th>angle</th>\n",
       "      <th>area_mm</th>\n",
       "      <th>area_px</th>\n",
       "      <th>centroid_x_mm</th>\n",
       "      <th>centroid_x_px</th>\n",
       "      <th>centroid_y_mm</th>\n",
       "      <th>centroid_y_px</th>\n",
       "      <th>height_ave_mm</th>\n",
       "      <th>...</th>\n",
       "      <th>StartTime</th>\n",
       "      <th>labels (original)</th>\n",
       "      <th>labels (usage sort)</th>\n",
       "      <th>labels (frames sort)</th>\n",
       "      <th>onset</th>\n",
       "      <th>syllable index</th>\n",
       "      <th>group</th>\n",
       "      <th>mouse</th>\n",
       "      <th>cage</th>\n",
       "      <th>rep</th>\n",
       "    </tr>\n",
       "  </thead>\n",
       "  <tbody>\n",
       "  </tbody>\n",
       "</table>\n",
       "<p>0 rows × 36 columns</p>\n",
       "</div>"
      ],
      "text/plain": [
       "Empty DataFrame\n",
       "Columns: [Unnamed: 0, Unnamed: 0.1, angle, area_mm, area_px, centroid_x_mm, centroid_x_px, centroid_y_mm, centroid_y_px, height_ave_mm, length_mm, length_px, velocity_2d_mm, velocity_2d_px, velocity_3d_mm, velocity_3d_px, velocity_theta, width_mm, width_px, dist_to_center_px, uuid, h5_path, timestamps, frame index, SessionName, SubjectName, StartTime, labels (original), labels (usage sort), labels (frames sort), onset, syllable index, group, mouse, cage, rep]\n",
       "Index: []\n",
       "\n",
       "[0 rows x 36 columns]"
      ]
     },
     "execution_count": 43,
     "metadata": {},
     "output_type": "execute_result"
    }
   ],
   "source": [
    "pd.concat([scalar_df,old_scalar_df]).drop_duplicates(keep=False)\n"
   ]
  },
  {
   "cell_type": "code",
   "execution_count": 37,
   "id": "e0e778ff",
   "metadata": {},
   "outputs": [],
   "source": [
    "# processing scalar df\n",
    "uuid_include = mean_df.uuid.unique()\n",
    "scalar_df = scalar_df[scalar_df.uuid.isin(uuid_include)]\n",
    "\n",
    "scalar_df['mouse'] = scalar_df.SubjectName.str[:5]\n",
    "scalar_df['cage'] = scalar_df.SubjectName.str[:2]\n",
    "scalar_df['rep'] = scalar_df.SubjectName.str[6:]\n",
    "scalar_df = scalar_df.astype({'rep':'int'}) # convert rep to integer"
   ]
  },
  {
   "cell_type": "code",
   "execution_count": 39,
   "id": "cea4b011",
   "metadata": {},
   "outputs": [
    {
     "name": "stdout",
     "output_type": "stream",
     "text": [
      "192\n",
      "192\n"
     ]
    }
   ],
   "source": [
    "print(len(mean_df.uuid.unique()))\n",
    "print(len(scalar_df.uuid.unique()))"
   ]
  },
  {
   "cell_type": "code",
   "execution_count": 41,
   "id": "81247744",
   "metadata": {},
   "outputs": [],
   "source": [
    "scalar_df.to_csv('/n/groups/datta/Dana/Estrous/script_paper/scalar_df_male.csv')"
   ]
  },
  {
   "cell_type": "code",
   "execution_count": 36,
   "id": "36a4fd62",
   "metadata": {},
   "outputs": [
    {
     "data": {
      "text/plain": [
       "[2, 3, 4, 5, 6, 7, 8, 9, 10, 11, 12, 13, 14, 15]"
      ]
     },
     "execution_count": 36,
     "metadata": {},
     "output_type": "execute_result"
    }
   ],
   "source": [
    "sorted(scalar_df.rep.unique())"
   ]
  },
  {
   "cell_type": "code",
   "execution_count": 3,
   "id": "4eb2f218",
   "metadata": {},
   "outputs": [],
   "source": [
    "#scalar_df.to_csv('/n/groups/datta/Dana/Estrous/scalar_df_female2.csv')\n",
    "#mean_df.to_csv('/n/groups/datta/Dana/Estrous/mean_df_female2.csv')"
   ]
  },
  {
   "cell_type": "code",
   "execution_count": 21,
   "id": "52319049",
   "metadata": {},
   "outputs": [
    {
     "name": "stdout",
     "output_type": "stream",
     "text": [
      "[ 0  1  2  3  4  5  6  7  8  9 10 11 12 13 14 15 16 17 18 19 20 21 22 23\n",
      " 24 25 26 27 28 29 30 31 32 33 34 35 36 37 38 39 40 41 42 43 44 45 46 47\n",
      " 48 49 50 51 52 53 54]\n",
      "55\n"
     ]
    }
   ],
   "source": [
    "len(mean_df_old.uuid.unique())\n",
    "print(mean_df_old.syllable.unique())\n",
    "print(len(mean_df_old.syllable.unique()))"
   ]
  },
  {
   "cell_type": "code",
   "execution_count": 22,
   "id": "149ffa11",
   "metadata": {},
   "outputs": [
    {
     "name": "stdout",
     "output_type": "stream",
     "text": [
      "[ 0  1  2  3  4  5  6  7  8  9 10 11 12 13 14 15 16 17 18 19 20 21 22 23\n",
      " 24 25 26 27 28 29 30 31 32 33 34 35 36 37 38 39 40 41 42 43 44 45 46 47\n",
      " 48]\n",
      "49\n",
      "['01_01' '01_02' '01_03' '01_04' '02_01' '02_02' '02_03' '02_04' '03_01'\n",
      " '03_02' '03_03' '03_04' '04_01' '04_02' '04_03' '04_04']\n",
      "16\n"
     ]
    }
   ],
   "source": [
    "keep_syll = list(range(49))\n",
    "keep_mice = mean_df_old.mouse.unique()[range(16)]\n",
    "mean_df=mean_df_old[mean_df_old.mouse.isin(keep_mice)]\n",
    "mean_df=mean_df[mean_df.syllable.isin(keep_syll)]\n",
    "print(mean_df.syllable.unique())\n",
    "print(len(mean_df.syllable.unique()))\n",
    "print(mean_df.mouse.unique())\n",
    "print(len(mean_df.mouse.unique()))"
   ]
  },
  {
   "cell_type": "code",
   "execution_count": 23,
   "id": "505657c9",
   "metadata": {},
   "outputs": [
    {
     "data": {
      "text/plain": [
       "115"
      ]
     },
     "execution_count": 23,
     "metadata": {},
     "output_type": "execute_result"
    }
   ],
   "source": [
    "len(mean_df.uuid.unique())"
   ]
  },
  {
   "cell_type": "code",
   "execution_count": 24,
   "id": "4fe65a79",
   "metadata": {},
   "outputs": [],
   "source": [
    "mean_df.to_csv('/n/groups/datta/Dana/Estrous/script_paper/scalar_df_male_new.csv')"
   ]
  },
  {
   "cell_type": "code",
   "execution_count": null,
   "id": "2b8806d0",
   "metadata": {},
   "outputs": [],
   "source": []
  }
 ],
 "metadata": {
  "kernelspec": {
   "display_name": "Python 3 (ipykernel)",
   "language": "python",
   "name": "python3"
  },
  "language_info": {
   "codemirror_mode": {
    "name": "ipython",
    "version": 3
   },
   "file_extension": ".py",
   "mimetype": "text/x-python",
   "name": "python",
   "nbconvert_exporter": "python",
   "pygments_lexer": "ipython3",
   "version": "3.10.11"
  }
 },
 "nbformat": 4,
 "nbformat_minor": 5
}
