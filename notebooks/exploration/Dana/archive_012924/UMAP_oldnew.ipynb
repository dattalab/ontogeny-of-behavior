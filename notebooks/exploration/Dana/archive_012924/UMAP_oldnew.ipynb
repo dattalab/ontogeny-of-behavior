{
 "cells": [
  {
   "cell_type": "markdown",
   "id": "8c932cb4",
   "metadata": {},
   "source": [
    "imports\n",
    "-----------"
   ]
  },
  {
   "cell_type": "code",
   "execution_count": 66,
   "id": "a9def74a",
   "metadata": {},
   "outputs": [],
   "source": [
    "#standard library imports\n",
    "import copy\n",
    "import pylab\n",
    "from sklearn.manifold import TSNE\n",
    "import h5py\n",
    "import scipy\n",
    "import datetime\n",
    "import math\n",
    "import cmasher as cmr\n",
    "from matplotlib.lines import Line2D\n",
    "from matplotlib_venn import venn3\n",
    "from scipy import linalg as LA\n",
    "import glob\n",
    "import yaml\n",
    "from scipy.stats import linregress\n",
    "import pandas as pd\n",
    "from collections import Counter\n",
    "import matplotlib as mpl\n",
    "import matplotlib.pyplot as plt\n",
    "import matplotlib.ticker as ticker\n",
    "import numpy as np\n",
    "np.random.seed(123456)\n",
    "import pickle\n",
    "import seaborn as sns\n",
    "from scipy.spatial.distance import squareform\n",
    "import warnings\n",
    "from statistics import median\n",
    "warnings.filterwarnings(\"ignore\", category=DeprecationWarning) \n",
    "from os.path import join, dirname, abspath\n",
    "import os\n",
    "import shutil\n",
    "from collections import Counter\n",
    "from sklearn.decomposition import PCA\n",
    "from sklearn.linear_model import LogisticRegression, LinearRegression\n",
    "from sklearn.svm import SVC\n",
    "from sklearn.discriminant_analysis import LinearDiscriminantAnalysis\n",
    "from sklearn.datasets import make_blobs\n",
    "from sklearn.model_selection import train_test_split\n",
    "from sklearn.preprocessing import StandardScaler, LabelEncoder\n",
    "from sklearn.ensemble import RandomForestClassifier\n",
    "from sklearn.model_selection import StratifiedKFold, LeaveOneOut, RepeatedStratifiedKFold, KFold\n",
    "from sklearn.svm import LinearSVC\n",
    "from sklearn.model_selection import GridSearchCV\n",
    "from sklearn.metrics import confusion_matrix, accuracy_score, f1_score\n",
    "from sklearn.preprocessing import LabelEncoder\n",
    "from collections import defaultdict\n",
    "from tqdm.auto import tqdm\n",
    "from matplotlib.gridspec import GridSpec\n",
    "from scipy import stats\n",
    "\n",
    "%matplotlib inline"
   ]
  },
  {
   "cell_type": "code",
   "execution_count": 67,
   "id": "37f68919",
   "metadata": {},
   "outputs": [],
   "source": [
    "from moseq2_viz.model.util import (relabel_by_usage, parse_model_results, compute_syllable_explained_variance)\n",
    "from moseq2_app.gui.progress import update_progress, restore_progress_vars\n",
    "from moseq2_viz.util import parse_index\n",
    "from moseq2_viz.scalars.util import scalars_to_dataframe\n",
    "from moseq2_viz.model.util import compute_behavioral_statistics\n",
    "from moseq2_viz.util import read_yaml"
   ]
  },
  {
   "cell_type": "markdown",
   "id": "f5c33fe2",
   "metadata": {},
   "source": [
    "\n",
    "Functions\n",
    "----------"
   ]
  },
  {
   "cell_type": "markdown",
   "id": "d10b637a",
   "metadata": {},
   "source": [
    "UMAP preprocessing and functions\n",
    "--------------------"
   ]
  },
  {
   "cell_type": "code",
   "execution_count": 68,
   "id": "fab75bef",
   "metadata": {},
   "outputs": [],
   "source": [
    "import warnings\n",
    "\n",
    "# Binning / smoothing\n",
    "    \n",
    "def firing_rates(\n",
    "    spike_times, \n",
    "    spike_labels, \n",
    "    window_size=0.2, \n",
    "    window_step=0.02\n",
    "):\n",
    "    \"\"\"Convert spike tikes to firing rates using a sliding window\n",
    "    \n",
    "    Parameters\n",
    "    ----------\n",
    "    spike_times : ndarray\n",
    "        Spike times (in seconds) for all units. The source of each spike is\n",
    "        input separately using ``spike_labels``\n",
    "        \n",
    "    spike_labels: ndarray\n",
    "        The source/label for each spike in ``spike_times``. The maximum\n",
    "        value of this array determines the number of rows in the heatmap.\n",
    "    \n",
    "    window_size: float, default=0.2\n",
    "        Length (in seconds) of the sliding window used to calculate firing rates\n",
    "        \n",
    "    window_step: float, default=0.02\n",
    "        Step-size (in seconds) between each window used to calculate firing rates\n",
    "    Returns\n",
    "    -------\n",
    "    firing_rates: ndarray\n",
    "        Array of firing rates, where rows units and columns are sliding \n",
    "        window locations. ``firing_rates`` has shape ``(N,M)`` where::\n",
    "            N = max(spike_labels)+1\n",
    "            M = (max(spike_times)-min(spike_times))/binsize\n",
    "    start_time, float\n",
    "        The time (in seconds) corresponding to the left-boundary\n",
    "        of the first window in ``firing_rates``.\n",
    "    \"\"\"\n",
    "    # round spikes to window_step and factor our start time\n",
    "    spike_times = np.around(spike_times/window_step).astype(int)\n",
    "    start_time = spike_times.min()\n",
    "    spike_times = spike_times - start_time\n",
    "    \n",
    "    # create heatmap of spike counts for each window_step-sized bin\n",
    "    spike_labels = spike_labels.astype(int)\n",
    "    heatmap = np.zeros((spike_labels.max()+1, spike_times.max()+1))\n",
    "    np.add.at(heatmap, (spike_labels, spike_times), 1/window_step)\n",
    "    \n",
    "    # use convolution to get sliding window counts\n",
    "    kernel = np.ones(int(window_size//window_step))/(window_size//window_step)\n",
    "    for i in range(heatmap.shape[0]): heatmap[i,:] = np.convolve(heatmap[i,:],kernel, mode='same')\n",
    "    return heatmap, start_time-window_step/2\n",
    "\n",
    "\n",
    "def bin_data(\n",
    "    data, \n",
    "    binsize,\n",
    "    axis=-1,\n",
    "    return_intervals=False\n",
    "):\n",
    "    \"\"\"Bin data using non-overlaping windows along `axis`\n",
    "    Returns\n",
    "    -------\n",
    "    data_binned: ndarray\n",
    "    bin_intervals: ndarray (returned if ``rerturn_intervals=True``)\n",
    "        (N,2) array with the start and end index of each bin\n",
    "    \"\"\"\n",
    "    data = np.moveaxis(data,axis,-1)\n",
    "    pad_amount = (-data.shape[-1])%binsize\n",
    "    num_bins = int((data.shape[-1]+pad_amount)/binsize)\n",
    "\n",
    "    data_padded = np.pad(data,[(0,0)]*(len(data.shape)-1)+[(0,pad_amount)])\n",
    "    data_binned = data_padded.reshape(*data.shape[:-1], num_bins, binsize).mean(-1)\n",
    "    if pad_amount > 0: data_binned[...,-1] = data_binned[...,-1] * binsize/(binsize-pad_amount)\n",
    "    data_binned = np.moveaxis(data_binned,-1,axis)\n",
    "\n",
    "    if return_intervals:\n",
    "        bin_starts = np.arange(0,num_bins)*binsize\n",
    "        bin_ends = np.arange(1,num_bins+1)*binsize\n",
    "        bin_ends[-1] = data.shape[-1]\n",
    "        bin_intervals = np.vstack((bin_starts,bin_ends)).T\n",
    "        return data_binned, bin_intervals\n",
    "    else: return data_binned\n",
    "\n",
    "\n",
    "\n",
    "# Normalization\n",
    "\n",
    "def zscore(data, axis=0, eps=1e-10):\n",
    "    \"\"\"\n",
    "    Z-score standardize the data along ``axis``\n",
    "    \"\"\"\n",
    "    mean = np.mean(data, axis=axis, keepdims=True)\n",
    "    std = np.std(data, axis=axis, keepdims=True) + eps\n",
    "    return (data-mean)/std\n",
    "\n",
    "\n",
    "# Dimensionality reduction\n",
    "\n",
    "def sort(\n",
    "    data, \n",
    "    method='rastermap', \n",
    "    options={}\n",
    "):\n",
    "    \"\"\"Compute neuron ordering that groups neurons with similar activity\n",
    "    Parameters\n",
    "    ----------\n",
    "    data: ndarray\n",
    "        Data matrix where rows are neurons and columns are time points\n",
    "    method: {'rastermap'}\n",
    "        Method to use for sorting (currently only rastermap is implemented)\n",
    "    options: dict, default={}\n",
    "        Sorting method-specific options.\n",
    "        'rastermap'\n",
    "            ``options`` will be passed as keyword arguments when initializing\n",
    "            `rastermap.mapping.Rastermap <https://github.com/MouseLand/rastermap/blob/40867ce9a8b2850d76483890740c0dc10d6cb413/rastermap/mapping.py#L531>`_\n",
    "    Returns\n",
    "    -------\n",
    "    ordering: ndarray\n",
    "        Ordering index that can be used for sorting (see `numpy.argsort`)\n",
    "    \"\"\"\n",
    "    valid_sort_methods = ['rastermap']\n",
    "    if not method in valid_sort_methods:\n",
    "        raise AssertionError(method+' is not a valid sort method. Must be one of '+repr(valid_sort_methods))\n",
    "    if method=='rastermap':\n",
    "        print('Computing row order with rastermap')\n",
    "        from rastermap import mapping\n",
    "        model = mapping.Rastermap(n_components=1).fit(data)\n",
    "        return np.argsort(model.embedding[:,0])\n",
    "\n",
    "\n",
    "def umap_embedding(\n",
    "    data, \n",
    "    standardize=True,\n",
    "    n_pcs=20, \n",
    "    n_components=2, \n",
    "    n_neighbors=100,\n",
    "    random_state=42,\n",
    "    **kwargs\n",
    "):\n",
    "    \"\"\"Generate a 2D embedding of neural activity using UMAP. The function \n",
    "    generates the embedding in three steps:\n",
    "        1. (Optionally) standardize (Z-score) the activity of each neuron\n",
    "        2. Perform initial dimensionality reduction using PCA\n",
    "        3. Run UMAP on the output of PCA\n",
    "    Parameters\n",
    "    ----------\n",
    "    data: ndarray\n",
    "        Array of neural activity where rows are neurons and columns are time points\n",
    "    standardize: bool, default=True\n",
    "        Whether to standardize (Z-score) the data prior to PCA\n",
    "    n_pcs: int, default=20\n",
    "        Number of principal components to use during PCA. If ``n_pcs=None``, the binned \n",
    "        data will be passed directly to UMAP\n",
    "    n_components: int, default=2\n",
    "        Dimensionality of the embedding\n",
    "    n_neighbors: int, default=100\n",
    "        Passed to UMAP (see `explanation of UMAP parameters <https://umap-learn.readthedocs.io/en/latest/parameters.html>`_).\n",
    "    **kwargs\n",
    "        Any other UMAP parameters can also be passed as keyword arguments\n",
    "    Returns\n",
    "    -------\n",
    "    coodinates: ndarray\n",
    "        (N,2) array containing UMAP coordinates\n",
    "    \"\"\"\n",
    "    from sklearn.decomposition import PCA\n",
    "    from umap import UMAP\n",
    "\n",
    "    if standardize: data = zscore(data, axis=1)\n",
    "    PCs = PCA(n_components=n_pcs).fit_transform(data.T)\n",
    "    umap_obj = UMAP(n_neighbors=n_neighbors, n_components=n_components, n_epochs=500,random_state=random_state,**kwargs)\n",
    "    coordinates = umap_obj.fit_transform(PCs)\n",
    "    return coordinates"
   ]
  },
  {
   "cell_type": "code",
   "execution_count": 69,
   "id": "840d5b3c",
   "metadata": {},
   "outputs": [],
   "source": [
    "# upload data\n",
    "warnings.simplefilter('ignore')\n",
    "mean_df = pd.read_csv('/n/groups/datta/Dana/Estrous/mean_df_all_elong_1120.csv')\n",
    "#scalar_df = pd.read_csv('/n/groups/datta/Dana/Estrous/scalar_df.csv')\n",
    "#mean_df = mean_df[mean_df.rep!=1] # loose first dat\n",
    "mean_df = mean_df[mean_df['group'].str.contains('NA') ==False]"
   ]
  },
  {
   "cell_type": "code",
   "execution_count": 98,
   "id": "c351431d",
   "metadata": {},
   "outputs": [],
   "source": [
    "# for female estrous exp\n",
    "male_mean_df=mean_df.copy()\n",
    "# new data frame with split value columns\n",
    "new = male_mean_df['group'].str.split('_', n=1, expand = True)\n",
    "male_mean_df['exp']= new[0]\n",
    "male_mean_df['group']= new[1]\n",
    "male_mean_df['exp'][(male_mean_df['rep']<15) & (male_mean_df['exp']=='long1')] = 'old_beg'\n",
    "male_mean_df['exp'][(male_mean_df['rep']>15) & (male_mean_df['exp']=='long1')] = 'old_end'\n",
    "male_mean_df = male_mean_df[male_mean_df['exp']!='long1']"
   ]
  },
  {
   "cell_type": "code",
   "execution_count": 99,
   "id": "351c9a37",
   "metadata": {},
   "outputs": [
    {
     "data": {
      "text/plain": [
       "\"\\n## for females\\n# add label for experiment type\\nmale_mean_df=mean_df.copy()\\nmale_mean_df['exp']=0\\nmale_mean_df['exp'][(male_mean_df['rep']<9) & (male_mean_df['group']=='old')] = 'old_beg'\\nmale_mean_df['exp'][(male_mean_df['rep']<9) & (male_mean_df['group']=='new')] = 'new_beg'\\nmale_mean_df['exp'][(male_mean_df['rep']>8) & (male_mean_df['group']=='old')] = 'old_end'\\nmale_mean_df = male_mean_df[male_mean_df['exp']!=0]\\nmale_mean_df['exp'].unique()\\n\""
      ]
     },
     "execution_count": 99,
     "metadata": {},
     "output_type": "execute_result"
    }
   ],
   "source": [
    "'''\n",
    "## for females\n",
    "# add label for experiment type\n",
    "male_mean_df=mean_df.copy()\n",
    "male_mean_df['exp']=0\n",
    "male_mean_df['exp'][(male_mean_df['rep']<9) & (male_mean_df['group']=='old')] = 'old_beg'\n",
    "male_mean_df['exp'][(male_mean_df['rep']<9) & (male_mean_df['group']=='new')] = 'new_beg'\n",
    "male_mean_df['exp'][(male_mean_df['rep']>8) & (male_mean_df['group']=='old')] = 'old_end'\n",
    "male_mean_df = male_mean_df[male_mean_df['exp']!=0]\n",
    "male_mean_df['exp'].unique()\n",
    "'''"
   ]
  },
  {
   "cell_type": "markdown",
   "id": "1432bd38",
   "metadata": {},
   "source": [
    "## umap"
   ]
  },
  {
   "cell_type": "code",
   "execution_count": 100,
   "id": "16ba3588",
   "metadata": {},
   "outputs": [],
   "source": [
    "# prepare data\n",
    "data = male_mean_df.groupby(by = ['mouse', 'exp','rep','syllable']).mean()['usage'].reset_index()\n",
    "data = pd.pivot_table(data, values='usage', index=['exp','rep', 'mouse'], columns=['syllable']).reset_index().fillna(0)\n",
    "data_umap = data.drop(['exp','rep','mouse'], axis=1).to_numpy()\n",
    "data_umap_labels = data['exp'].to_numpy()"
   ]
  },
  {
   "cell_type": "code",
   "execution_count": 101,
   "id": "00ddc29a",
   "metadata": {},
   "outputs": [
    {
     "data": {
      "text/plain": [
       "array(['long2', 'old_beg', 'old_end'], dtype=object)"
      ]
     },
     "execution_count": 101,
     "metadata": {},
     "output_type": "execute_result"
    }
   ],
   "source": [
    "male_mean_df['exp'].unique()"
   ]
  },
  {
   "cell_type": "code",
   "execution_count": 102,
   "id": "e1ba9e09",
   "metadata": {},
   "outputs": [
    {
     "data": {
      "text/plain": [
       "array(['long2', 'long2', 'long2', 'long2', 'long2', 'long2', 'long2',\n",
       "       'long2', 'long2', 'long2', 'long2', 'long2', 'long2', 'long2',\n",
       "       'long2', 'long2', 'long2', 'long2', 'long2', 'long2', 'long2',\n",
       "       'long2', 'long2', 'long2', 'long2', 'long2', 'long2', 'long2',\n",
       "       'long2', 'long2', 'long2', 'long2', 'long2', 'long2', 'long2',\n",
       "       'long2', 'long2', 'long2', 'long2', 'long2', 'long2', 'long2',\n",
       "       'long2', 'long2', 'long2', 'long2', 'long2', 'long2', 'long2',\n",
       "       'long2', 'long2', 'long2', 'long2', 'long2', 'long2', 'long2',\n",
       "       'long2', 'long2', 'long2', 'long2', 'long2', 'long2', 'long2',\n",
       "       'long2', 'long2', 'long2', 'long2', 'long2', 'long2', 'long2',\n",
       "       'long2', 'long2', 'long2', 'long2', 'long2', 'long2', 'long2',\n",
       "       'long2', 'long2', 'long2', 'long2', 'long2', 'long2', 'long2',\n",
       "       'long2', 'long2', 'long2', 'long2', 'long2', 'long2', 'long2',\n",
       "       'long2', 'long2', 'long2', 'long2', 'long2', 'long2', 'long2',\n",
       "       'old_beg', 'old_beg', 'old_beg', 'old_beg', 'old_beg', 'old_beg',\n",
       "       'old_beg', 'old_beg', 'old_beg', 'old_beg', 'old_beg', 'old_beg',\n",
       "       'old_beg', 'old_beg', 'old_beg', 'old_beg', 'old_beg', 'old_beg',\n",
       "       'old_beg', 'old_beg', 'old_beg', 'old_beg', 'old_beg', 'old_beg',\n",
       "       'old_beg', 'old_beg', 'old_beg', 'old_beg', 'old_beg', 'old_beg',\n",
       "       'old_beg', 'old_beg', 'old_beg', 'old_beg', 'old_beg', 'old_beg',\n",
       "       'old_beg', 'old_beg', 'old_beg', 'old_beg', 'old_beg', 'old_beg',\n",
       "       'old_beg', 'old_beg', 'old_beg', 'old_beg', 'old_beg', 'old_beg',\n",
       "       'old_beg', 'old_beg', 'old_beg', 'old_beg', 'old_beg', 'old_beg',\n",
       "       'old_beg', 'old_beg', 'old_beg', 'old_beg', 'old_beg', 'old_beg',\n",
       "       'old_beg', 'old_beg', 'old_beg', 'old_beg', 'old_beg', 'old_beg',\n",
       "       'old_beg', 'old_beg', 'old_beg', 'old_beg', 'old_beg', 'old_beg',\n",
       "       'old_beg', 'old_beg', 'old_beg', 'old_beg', 'old_beg', 'old_beg',\n",
       "       'old_beg', 'old_beg', 'old_beg', 'old_beg', 'old_beg', 'old_beg',\n",
       "       'old_beg', 'old_beg', 'old_beg', 'old_beg', 'old_beg', 'old_end',\n",
       "       'old_end', 'old_end', 'old_end', 'old_end', 'old_end', 'old_end',\n",
       "       'old_end', 'old_end', 'old_end', 'old_end', 'old_end', 'old_end',\n",
       "       'old_end', 'old_end', 'old_end', 'old_end', 'old_end', 'old_end',\n",
       "       'old_end', 'old_end', 'old_end', 'old_end', 'old_end', 'old_end',\n",
       "       'old_end', 'old_end', 'old_end', 'old_end', 'old_end', 'old_end',\n",
       "       'old_end', 'old_end', 'old_end', 'old_end', 'old_end', 'old_end',\n",
       "       'old_end', 'old_end', 'old_end', 'old_end', 'old_end', 'old_end',\n",
       "       'old_end', 'old_end', 'old_end', 'old_end', 'old_end', 'old_end',\n",
       "       'old_end', 'old_end', 'old_end', 'old_end', 'old_end', 'old_end',\n",
       "       'old_end', 'old_end', 'old_end', 'old_end', 'old_end', 'old_end',\n",
       "       'old_end', 'old_end', 'old_end', 'old_end', 'old_end', 'old_end',\n",
       "       'old_end', 'old_end', 'old_end', 'old_end', 'old_end', 'old_end',\n",
       "       'old_end', 'old_end', 'old_end', 'old_end', 'old_end', 'old_end',\n",
       "       'old_end', 'old_end', 'old_end', 'old_end', 'old_end', 'old_end',\n",
       "       'old_end', 'old_end', 'old_end', 'old_end', 'old_end', 'old_end',\n",
       "       'old_end', 'old_end', 'old_end', 'old_end', 'old_end', 'old_end',\n",
       "       'old_end', 'old_end', 'old_end'], dtype=object)"
      ]
     },
     "execution_count": 102,
     "metadata": {},
     "output_type": "execute_result"
    }
   ],
   "source": [
    "data_umap_labels"
   ]
  },
  {
   "cell_type": "code",
   "execution_count": 103,
   "id": "35e90179",
   "metadata": {},
   "outputs": [],
   "source": [
    "# transform exp type to labels\n",
    "exp = sorted(male_mean_df.exp.unique())\n",
    "le = LabelEncoder()\n",
    "le.fit(exp)\n",
    "y = le.transform(data_umap_labels)"
   ]
  },
  {
   "cell_type": "code",
   "execution_count": 104,
   "id": "65584294",
   "metadata": {},
   "outputs": [],
   "source": [
    "# actual umap\n",
    "coordinates = umap_embedding(data_umap.T, \n",
    "        standardize=True,\n",
    "        n_pcs=None, \n",
    "        n_components=2, \n",
    "        n_neighbors=7,\n",
    "        random_state=41)"
   ]
  },
  {
   "cell_type": "code",
   "execution_count": 107,
   "id": "8de7e063",
   "metadata": {},
   "outputs": [
    {
     "data": {
      "image/png": "[encoded data removed]",
      "text/plain": [
       "<Figure size 576x576 with 1 Axes>"
      ]
     },
     "metadata": {},
     "output_type": "display_data"
    }
   ],
   "source": [
    "# plot\n",
    "# prepare colors for plot\n",
    "phasec = ['#CE3045','#EF7C32','#3288bd']\n",
    "custom_lines=[]\n",
    "for i in range(len(exp)):\n",
    "    custom_lines.append(Line2D([0], [0], color=phasec[i], lw=4))\n",
    "    \n",
    "fig, ax = plt.subplots()\n",
    "fig.set_size_inches(8,8)  \n",
    "plt.legend(handles=custom_lines,labels=list(exp),bbox_to_anchor=(1.2, 1))\n",
    "plt.title('Umap colored by exp type',fontsize=20)\n",
    "ax.set_xticks([])\n",
    "ax.set_yticks([])\n",
    "fig.patch.set_facecolor('white')\n",
    "    \n",
    "for i in range(len(coordinates)):\n",
    "    plt.scatter(coordinates[i][0],coordinates[i][1],color=custom_lines[y[i]].get_color(),alpha=0.8, s=50)\n",
    "#fig.savefig(data_loc + 'umap_phase_new.pdf', bbox_inches='tight')"
   ]
  },
  {
   "cell_type": "code",
   "execution_count": null,
   "id": "237e2386",
   "metadata": {},
   "outputs": [],
   "source": []
  }
 ],
 "metadata": {
  "kernelspec": {
   "display_name": "Python 3 (ipykernel)",
   "language": "python",
   "name": "python3"
  },
  "language_info": {
   "codemirror_mode": {
    "name": "ipython",
    "version": 3
   },
   "file_extension": ".py",
   "mimetype": "text/x-python",
   "name": "python",
   "nbconvert_exporter": "python",
   "pygments_lexer": "ipython3",
   "version": "3.10.12"
  }
 },
 "nbformat": 4,
 "nbformat_minor": 5
}
