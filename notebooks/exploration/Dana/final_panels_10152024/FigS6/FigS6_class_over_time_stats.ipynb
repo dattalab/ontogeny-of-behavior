{
 "cells": [
  {
   "cell_type": "code",
   "execution_count": null,
   "id": "a77ea523",
   "metadata": {},
   "outputs": [],
   "source": [
    "import numpy as np\n",
    "import pandas as pd\n",
    "import seaborn as sns\n",
    "import matplotlib.pyplot as plt\n",
    "from aging.plotting import format_plots, PlotConfig, save_factory, figure, legend, format_pizza_plots, COLORMAPS\n",
    "from collections import Counter\n",
    "from matplotlib.lines import Line2D\n",
    "from aging.organization.dataframes import load_male_long_df, load_female_long_df, DF_PATHS\n",
    "from tqdm import tqdm"
   ]
  },
  {
   "cell_type": "code",
   "execution_count": null,
   "id": "0a49a035",
   "metadata": {},
   "outputs": [],
   "source": [
    "format_plots()"
   ]
  },
  {
   "cell_type": "code",
   "execution_count": null,
   "id": "f5ffcc1e",
   "metadata": {},
   "outputs": [],
   "source": [
    "def minmax(df):\n",
    "    df = df - df.min()\n",
    "    return df / df.max()\n",
    "\n",
    "def mm_norm_col(column):\n",
    "    return (column - column.min()) / (column.max() - column.min())"
   ]
  },
  {
   "cell_type": "code",
   "execution_count": null,
   "id": "39930526",
   "metadata": {},
   "outputs": [],
   "source": [
    "cmm = COLORMAPS.ont_male\n",
    "cmf = COLORMAPS.ont_female\n",
    "m_df = pd.read_parquet('2024-07-30-longtogeny_v2_males_raw_usage_df_beh_age.parquet').groupby(['age','mouse']).mean()\n",
    "f_df =  pd.read_parquet('2024-07-30-longtogeny_v2_females_raw_usage_df_beh_age.parquet').groupby(['age','mouse']).mean()\n",
    "f_df = f_df.query('mouse!=\"F4_03\"')\n",
    "m_df['sex'] = 'm'\n",
    "m_df.set_index('sex', inplace = True, append=True)\n",
    "f_df['sex'] = 'f'\n",
    "f_df.set_index('sex', inplace = True, append=True)"
   ]
  },
  {
   "cell_type": "code",
   "execution_count": null,
   "id": "6b1261a9",
   "metadata": {},
   "outputs": [],
   "source": [
    "df = m_df.copy()"
   ]
  },
  {
   "cell_type": "code",
   "execution_count": null,
   "id": "610224ee",
   "metadata": {},
   "outputs": [],
   "source": [
    "# upload syllable classes\n",
    "syllable_classes = pd.read_csv('./v11_syllable_labels_v3.csv')\n",
    "id_map = syllable_classes.set_index('Original ID')['Class']\n",
    "class_sort = [id_map[k] for k in df.columns]"
   ]
  },
  {
   "cell_type": "code",
   "execution_count": null,
   "id": "b1763535",
   "metadata": {},
   "outputs": [],
   "source": [
    "class_avgs = {}\n",
    "class_norm_avgs = {}\n",
    "for _class, _df in df.T.groupby(class_sort):\n",
    "    avgs = _df.T.groupby(['age','mouse']).mean()\n",
    "    class_avgs[_class] = avgs.mean(1)\n",
    "\n",
    "    #norm_avgs = minmax(avgs)\n",
    "    norm_avgs = avgs\n",
    "    class_norm_avgs[_class] = norm_avgs.mean(1)"
   ]
  },
  {
   "cell_type": "code",
   "execution_count": null,
   "id": "d96c0d47",
   "metadata": {},
   "outputs": [],
   "source": [
    "class_df = pd.DataFrame(class_norm_avgs)"
   ]
  },
  {
   "cell_type": "code",
   "execution_count": null,
   "id": "0e3721dc",
   "metadata": {},
   "outputs": [],
   "source": [
    "col_order = ['Pause', 'Scrunch', 'Groom', 'Rear down','Rear up','Run','Investigate','Walk']\n",
    "class_df_new = class_df.reindex(columns=col_order)"
   ]
  },
  {
   "cell_type": "code",
   "execution_count": null,
   "id": "f3cfe0ec",
   "metadata": {},
   "outputs": [],
   "source": [
    "#stats"
   ]
  },
  {
   "cell_type": "code",
   "execution_count": null,
   "id": "323b7c86",
   "metadata": {},
   "outputs": [],
   "source": [
    "import statsmodels.api as sm\n",
    "import statsmodels.formula.api as smf\n",
    "from statsmodels.tools.tools import pinv_extended  \n",
    "from statsmodels.stats.anova import anova_lm\n",
    "import scipy.stats as stats\n",
    "import statsmodels.api as sm\n",
    "from statsmodels.formula.api import ols\n",
    "from tabulate import tabulate\n",
    "\n",
    "def fit_1mixed_linear_models(data, dependent_var, factor1, group):\n",
    "    \n",
    "    align_data = data.copy()\n",
    "    align_data['ranked_response'] = align_data[[dependent_var]]\n",
    "\n",
    "    #formula = f'ranked_response ~ {factor1}*{group}'\n",
    "    formula = f'ranked_response ~ {factor1}'\n",
    "        \n",
    "    # Fit the mixed linear model\n",
    "    model = smf.mixedlm(formula, align_data, groups=f'{group}')\n",
    "    result = model.fit()\n",
    "    return result\n",
    "\n",
    "\n",
    "def fit_2mixed_linear_models(data, dependent_var, factor1,factor2, group):\n",
    "    \n",
    "    align_data = data.copy()\n",
    "    align_data['ranked_response'] = align_data[[dependent_var]]\n",
    "\n",
    "    #formula = f'ranked_response ~ {factor1}*{group}'\n",
    "    formula = f'ranked_response ~ {factor1}*C({factor2})'\n",
    "        \n",
    "    # Fit the mixed linear model\n",
    "    model = smf.mixedlm(formula, align_data, groups=f'{group}')\n",
    "    result = model.fit()\n",
    "    return result\n",
    "\n",
    "def extract_summary_to_dataframe(results, num_tests):\n",
    "    summary_data = []\n",
    "\n",
    "    for var, result in results.items():\n",
    "        summary = result.summary()\n",
    "        coefs = result.params\n",
    "        pvalues = result.pvalues\n",
    "        conf_int = result.conf_int()\n",
    "        \n",
    "        for param in coefs.index:\n",
    "            pvalue_corrected = min(pvalues[param] * num_tests, 1.0)  # Apply Bonferroni correction\n",
    "            \n",
    "            summary_data.append({\n",
    "                'Dependent Variable': var,\n",
    "                'Parameter': param,\n",
    "                'Coefficient': coefs[param],\n",
    "                'P-value': pvalues[param],\n",
    "                'Corrected P-value': pvalue_corrected,\n",
    "                'CI Lower': conf_int[0][param],\n",
    "                'CI Upper': conf_int[1][param]\n",
    "            })\n",
    "    \n",
    "    summary_df = pd.DataFrame(summary_data)\n",
    "    return summary_df"
   ]
  },
  {
   "cell_type": "code",
   "execution_count": null,
   "id": "887979be",
   "metadata": {},
   "outputs": [],
   "source": [
    "## females\n",
    "data=class_df_new.copy()\n",
    "a=0.05\n",
    "s=[]\n",
    "p=[]\n",
    "temp = data.copy()\n",
    "temp.reset_index(inplace=True)\n",
    "results={}\n",
    "if 'level_0' in temp.columns:\n",
    "    temp.drop(columns=['level_0'], inplace=True)\n",
    "\n",
    "syll = data.columns\n",
    "for i in syll:\n",
    "    result=fit_1mixed_linear_models(temp, i, 'age','mouse')\n",
    "    results[i] = result\n",
    "\n",
    "# Extract the summary to a DataFrame with Bonferroni correction\n",
    "num_tests = len(data.columns)  # Number of tests is the number of dependent variables (excluding 'age' and 'mouse')\n",
    "summary_df = extract_summary_to_dataframe(results, num_tests)\n",
    "\n",
    "# Print the DataFrame nicely\n",
    "summary_df.to_csv('/n/groups/datta/win/longtogeny/data/ontogeny/version_11-1/stats/mxlm_male_longv2_class_over_time_beh_age.csv', index=False)"
   ]
  },
  {
   "cell_type": "code",
   "execution_count": null,
   "id": "d03fbb2b",
   "metadata": {},
   "outputs": [],
   "source": [
    "df = f_df.copy()"
   ]
  },
  {
   "cell_type": "code",
   "execution_count": null,
   "id": "2a100a12",
   "metadata": {},
   "outputs": [],
   "source": [
    "class_avgs = {}\n",
    "class_norm_avgs = {}\n",
    "for _class, _df in df.T.groupby(class_sort):\n",
    "    avgs = _df.T.groupby(['age','mouse']).mean()\n",
    "    class_avgs[_class] = avgs.mean(1)\n",
    "\n",
    "    #norm_avgs = minmax(avgs)\n",
    "    norm_avgs = avgs\n",
    "    class_norm_avgs[_class] = norm_avgs.mean(1)"
   ]
  },
  {
   "cell_type": "code",
   "execution_count": null,
   "id": "f544a3e4",
   "metadata": {},
   "outputs": [],
   "source": [
    "class_df = pd.DataFrame(class_norm_avgs)"
   ]
  },
  {
   "cell_type": "code",
   "execution_count": null,
   "id": "7b2e444d",
   "metadata": {},
   "outputs": [],
   "source": [
    "col_order = ['Pause', 'Scrunch', 'Groom', 'Rear down','Rear up','Run','Investigate','Walk']\n",
    "class_df_new = class_df.reindex(columns=col_order)"
   ]
  },
  {
   "cell_type": "code",
   "execution_count": null,
   "id": "6a9ff645",
   "metadata": {},
   "outputs": [],
   "source": [
    "## females\n",
    "data=class_df_new.copy()\n",
    "a=0.05\n",
    "s=[]\n",
    "p=[]\n",
    "temp = data.copy()\n",
    "temp.reset_index(inplace=True)\n",
    "results={}\n",
    "if 'level_0' in temp.columns:\n",
    "    temp.drop(columns=['level_0'], inplace=True)\n",
    "\n",
    "syll = data.columns\n",
    "for i in syll:\n",
    "    result=fit_1mixed_linear_models(temp, i, 'age','mouse')\n",
    "    results[i] = result\n",
    "\n",
    "# Extract the summary to a DataFrame with Bonferroni correction\n",
    "num_tests = len(data.columns)  # Number of tests is the number of dependent variables (excluding 'age' and 'mouse')\n",
    "summary_df = extract_summary_to_dataframe(results, num_tests)\n",
    "\n",
    "# Print the DataFrame nicely\n",
    "print(summary_df)\n",
    "summary_df.to_csv('/n/groups/datta/win/longtogeny/data/ontogeny/version_11-1/stats/mxlm_female_longv2_class_over_time_beh_age.csv', index=False)"
   ]
  }
 ],
 "metadata": {
  "kernelspec": {
   "display_name": "Python 3 (ipykernel)",
   "language": "python",
   "name": "python3"
  },
  "language_info": {
   "codemirror_mode": {
    "name": "ipython",
    "version": 3
   },
   "file_extension": ".py",
   "mimetype": "text/x-python",
   "name": "python",
   "nbconvert_exporter": "python",
   "pygments_lexer": "ipython3",
   "version": "3.10.12"
  }
 },
 "nbformat": 4,
 "nbformat_minor": 5
}
