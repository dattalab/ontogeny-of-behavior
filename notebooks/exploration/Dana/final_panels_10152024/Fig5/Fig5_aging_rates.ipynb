{
 "cells": [
  {
   "cell_type": "code",
   "execution_count": null,
   "id": "a0d77451-f0e8-4ce8-bce5-5c608e822bac",
   "metadata": {},
   "outputs": [],
   "source": [
    "import numpy as np\n",
    "import pandas as pd\n",
    "import seaborn as sns\n",
    "import matplotlib.pyplot as plt\n",
    "from aging.plotting import (\n",
    "    figure,\n",
    "    format_plots,\n",
    "    add_identity,\n",
    "    legend,\n",
    "    PLOT_CONFIG,\n",
    "    save_factory,\n",
    "    COLORMAPS,\n",
    ")\n",
    "from toolz import reduce\n",
    "from aging.plotting import format_plots, PlotConfig, save_factory, figure, legend, format_pizza_plots, COLORMAPS\n",
    "from collections import Counter\n",
    "from matplotlib.lines import Line2D\n",
    "from aging.organization.dataframes import load_male_long_df, load_female_long_df, DF_PATHS\n",
    "from tqdm import tqdm"
   ]
  },
  {
   "cell_type": "code",
   "execution_count": null,
   "id": "1f3e92ee",
   "metadata": {},
   "outputs": [],
   "source": [
    "def merge(left, right):\n",
    "    return pd.merge(left, right, left_index=True, right_index=True, how='outer')"
   ]
  },
  {
   "cell_type": "code",
   "execution_count": null,
   "id": "3a641709-ca02-4383-8be5-73e0a1ce550a",
   "metadata": {},
   "outputs": [],
   "source": [
    "format_plots()"
   ]
  },
  {
   "cell_type": "code",
   "execution_count": null,
   "id": "3a87ad14-5f53-42a5-a5c6-0cbc21c1a302",
   "metadata": {},
   "outputs": [],
   "source": [
    "cmm = COLORMAPS.ont_male\n",
    "cmf = COLORMAPS.ont_female\n",
    "df = load_male_long_df(average_weeks=True, merge_size=False, merge_ages=True, df_path=DF_PATHS.usage_male).groupby(['age','mouse']).mean()\n",
    "fdf = load_female_long_df(average_weeks=True, merge_size=False, filter_female=True, merge_ages=True, df_path=DF_PATHS.usage_female).groupby(['age','mouse']).mean()"
   ]
  },
  {
   "cell_type": "code",
   "execution_count": null,
   "id": "51cbfb41-c664-4e9f-aa31-e43423b30e59",
   "metadata": {},
   "outputs": [],
   "source": [
    "age = df.index.get_level_values(\"age\")\n",
    "bins = pd.cut(age, 40, labels=False)\n",
    "sort_syllables = df.groupby(bins, observed=True).mean().quantile(0.95).sort_values(ascending=False).index"
   ]
  },
  {
   "cell_type": "markdown",
   "id": "48f8aedd-e111-4c31-9f32-289d60435fde",
   "metadata": {},
   "source": [
    "## Try looking at variance"
   ]
  },
  {
   "cell_type": "code",
   "execution_count": null,
   "id": "c9e0d886-c40f-4f47-82ac-9422b80bcd4b",
   "metadata": {},
   "outputs": [],
   "source": [
    "windows = np.arange(1, 51)\n",
    "\n",
    "n_sylls = 25\n",
    "roll_size = 7\n",
    "\n",
    "norms = {}\n",
    "for mouse, _df in df.groupby('mouse'):\n",
    "    m_age = _df.index.get_level_values('age')\n",
    "    cuts = pd.cut(m_age, windows)\n",
    "\n",
    "    samples = []\n",
    "    index = []\n",
    "    for _bin, win_df in _df.groupby(cuts, observed=True):\n",
    "        _sample = win_df.iloc[:2].mean()\n",
    "        samples.append(_sample)\n",
    "        index.append(win_df.index[0])\n",
    "    samples = pd.DataFrame(samples, index=pd.MultiIndex.from_tuples(index, names=win_df.index.names))[sort_syllables[:n_sylls]]\n",
    "\n",
    "    smooth_samples = samples.rolling(roll_size, center=True).std().mean(1)\n",
    "    _ages = smooth_samples.index.get_level_values('age').astype(int)\n",
    "    norms[mouse] = pd.Series(smooth_samples.to_numpy(), index=_ages, name=mouse)\n",
    "    norms[mouse] = norms[mouse][~norms[mouse].index.duplicated(keep='first')]\n",
    "\n",
    "norms = reduce(merge, norms.values())\n",
    "\n",
    "mask = norms.isna().sum(1) < 10\n",
    "norms = norms[mask]\n",
    "norms_melt = norms.reset_index().melt(id_vars='age', var_name='mouse', value_name='ar')\n",
    "# Convert 'mouse' to category or string\n",
    "#norms_melt['mouse'] = norms_melt['mouse'].astype('category')\n",
    "\n",
    "fnorms = {}\n",
    "for mouse, _df in fdf.groupby('mouse'):\n",
    "    m_age = _df.index.get_level_values('age')\n",
    "    cuts = pd.cut(m_age, windows)\n",
    "\n",
    "    samples = []\n",
    "    index = []\n",
    "    for _bin, win_df in _df.groupby(cuts, observed=True):\n",
    "        _sample = win_df.iloc[:2].mean()\n",
    "        samples.append(_sample)\n",
    "        index.append(win_df.index[0])\n",
    "    samples = pd.DataFrame(samples, index=pd.MultiIndex.from_tuples(index, names=win_df.index.names))[sort_syllables[:n_sylls]]\n",
    "\n",
    "    smooth_samples = samples.rolling(roll_size, center=True).std().mean(1)\n",
    "    _ages = smooth_samples.index.get_level_values('age').astype(int)\n",
    "    fnorms[mouse] = pd.Series(smooth_samples.to_numpy(), index=_ages, name=mouse)\n",
    "    fnorms[mouse] = fnorms[mouse][~fnorms[mouse].index.duplicated(keep='first')]\n",
    "\n",
    "fnorms = reduce(merge, fnorms.values())\n",
    "\n",
    "mask = fnorms.isna().sum(1) < 10\n",
    "fnorms = fnorms[mask]\n",
    "fnorms_melt = fnorms.reset_index().melt(id_vars='age', var_name='mouse', value_name='ar')\n",
    "#fnorms_melt['mouse'] = fnorms_melt['mouse'].astype('category')"
   ]
  },
  {
   "cell_type": "code",
   "execution_count": null,
   "id": "f26011ff-488c-43c6-b28d-501b9f39dc10",
   "metadata": {},
   "outputs": [],
   "source": [
    "fig = figure(1.3, 1.3)\n",
    "ax = sns.lineplot(data=norms_melt, x='age', y='ar', errorbar='sd', err_kws=dict(lw=0), color=COLORMAPS.ont_male(255), label=\"M\")\n",
    "sns.lineplot(data=fnorms_melt, x='age', y='ar', errorbar='sd', ax=ax, err_kws=dict(lw=0), color=COLORMAPS.ont_female(255), label=\"F\")\n",
    "ax.set(ylabel=\"Variance (sd)\", xlabel=\"Age (weeks)\")\n",
    "legend(ax)\n",
    "sns.despine()"
   ]
  },
  {
   "cell_type": "code",
   "execution_count": null,
   "id": "c69b4b4a",
   "metadata": {},
   "outputs": [],
   "source": [
    "c = PlotConfig()\n",
    "fig.savefig(c.dana_save_path / \"fig3\"/ 'aging_rate_longv2.pdf')"
   ]
  },
  {
   "cell_type": "code",
   "execution_count": null,
   "id": "9692a4d2",
   "metadata": {},
   "outputs": [],
   "source": [
    "## stats"
   ]
  },
  {
   "cell_type": "code",
   "execution_count": null,
   "id": "d9345af6",
   "metadata": {},
   "outputs": [],
   "source": [
    "import statsmodels.api as sm\n",
    "import statsmodels.formula.api as smf\n",
    "from statsmodels.tools.tools import pinv_extended  \n",
    "from statsmodels.stats.anova import anova_lm\n",
    "import scipy.stats as stats\n",
    "import statsmodels.api as sm\n",
    "from statsmodels.formula.api import ols\n",
    "from tabulate import tabulate"
   ]
  },
  {
   "cell_type": "code",
   "execution_count": null,
   "id": "1e316752",
   "metadata": {},
   "outputs": [],
   "source": [
    "import statsmodels.formula.api as smf\n",
    "\n",
    "def ow_anova(data, dependent_var, factor1):\n",
    "    \"\"\"\n",
    "    Perform two-way ANOVA.\n",
    "    \n",
    "    Parameters:\n",
    "    data (pd.DataFrame): The input data frame.\n",
    "    dependent_var (str): The name of the dependent variable column.\n",
    "    factor1 (str): The name of the first factor column.\n",
    "    factor2 (str): The name of the second factor column.\n",
    "    \n",
    "    Returns:\n",
    "    pd.DataFrame: The ANOVA results.\n",
    "    \"\"\"\n",
    "    \n",
    "    # Align the data\n",
    "    align_data = data.copy()\n",
    "    align_data['ranked_response'] = align_data[[dependent_var]]\n",
    "    # Fit an OLS model on the ranked data\n",
    "    model = ols(f'ranked_response ~ {factor1}', data=align_data).fit()\n",
    "    # Perform ANOVA on the fitted model\n",
    "    anova_results = sm.stats.anova_lm(model, typ=3)\n",
    "    \n",
    "    # Convert results to a DataFrame\n",
    "    anova_df = pd.DataFrame(anova_results)\n",
    "    \n",
    "    return anova_df\n",
    "\n",
    "\n",
    "\n",
    "def fit_1mixed_linear_models(data, dependent_var, factor1, group):\n",
    "    \n",
    "    align_data = data.copy()\n",
    "    align_data['ranked_response'] = align_data[[dependent_var]]\n",
    "\n",
    "    #formula = f'ranked_response ~ {factor1}*{group}'\n",
    "    formula = f'ranked_response ~ {factor1}'\n",
    "        \n",
    "    # Fit the mixed linear model\n",
    "    model = smf.mixedlm(formula, align_data, groups=f'{group}')\n",
    "    result = model.fit()\n",
    "    return result\n",
    "\n",
    "\n",
    "def fit_2mixed_linear_models(data, dependent_var, factor1,factor2, group):\n",
    "    \n",
    "    align_data = data.copy()\n",
    "    align_data['ranked_response'] = align_data[[dependent_var]]\n",
    "    formula = f'ranked_response ~ {factor1}*C({factor2})'\n",
    "        \n",
    "    # Fit the mixed linear model\n",
    "    model = smf.mixedlm(formula, align_data, groups=f'{group}')\n",
    "    result = model.fit()\n",
    "    return result\n",
    "\n",
    "\n",
    "def extract_summary_to_dataframe(results, num_tests):\n",
    "    summary_data = []\n",
    "\n",
    "    for var, result in results.items():\n",
    "        summary = result.summary()\n",
    "        coefs = result.params\n",
    "        pvalues = result.pvalues\n",
    "        conf_int = result.conf_int()\n",
    "        \n",
    "        for param in coefs.index:\n",
    "            pvalue_corrected = min(pvalues[param] * num_tests, 1.0)  # Apply Bonferroni correction\n",
    "            \n",
    "            summary_data.append({\n",
    "                'Dependent Variable': var,\n",
    "                'Parameter': param,\n",
    "                'Coefficient': coefs[param],\n",
    "                'P-value': pvalues[param],\n",
    "                'Corrected P-value': pvalue_corrected,\n",
    "                'CI Lower': conf_int[0][param],\n",
    "                'CI Upper': conf_int[1][param]\n",
    "            })\n",
    "    \n",
    "    summary_df = pd.DataFrame(summary_data)\n",
    "    return summary_df"
   ]
  },
  {
   "cell_type": "code",
   "execution_count": null,
   "id": "97bcdb95",
   "metadata": {},
   "outputs": [],
   "source": [
    "mdf = norms_melt.copy()\n",
    "fdf = fnorms_melt.copy()\n",
    "\n",
    "fdf['sex']=str('f')\n",
    "mdf['sex']=str('m')\n",
    "\n",
    "data = pd.concat([mdf, fdf], ignore_index=True)"
   ]
  },
  {
   "cell_type": "code",
   "execution_count": null,
   "id": "ffb274c7",
   "metadata": {},
   "outputs": [],
   "source": [
    "results={}\n",
    "\n",
    "syll = ['ar']\n",
    "temp = data.dropna().copy()\n",
    "temp.reset_index(inplace=True)\n",
    "\n",
    "for i in syll:\n",
    "    result=fit_2mixed_linear_models(temp, i, 'age','sex','mouse')\n",
    "    results[i] = result\n",
    "num_tests = len(data.columns)  # Number of tests is the number of dependent variables (excluding 'age' and 'mouse')\n",
    "summary_df = extract_summary_to_dataframe(results, num_tests)\n",
    "\n",
    "# Print the DataFrame nicely\n",
    "print(summary_df)\n",
    "summary_df.to_csv('aging_rate_fvm_longv2.csv')"
   ]
  }
 ],
 "metadata": {
  "kernelspec": {
   "display_name": "Python 3 (ipykernel)",
   "language": "python",
   "name": "python3"
  },
  "language_info": {
   "codemirror_mode": {
    "name": "ipython",
    "version": 3
   },
   "file_extension": ".py",
   "mimetype": "text/x-python",
   "name": "python",
   "nbconvert_exporter": "python",
   "pygments_lexer": "ipython3",
   "version": "3.10.12"
  },
  "widgets": {
   "application/vnd.jupyter.widget-state+json": {
    "state": {},
    "version_major": 2,
    "version_minor": 0
   }
  }
 },
 "nbformat": 4,
 "nbformat_minor": 5
}
