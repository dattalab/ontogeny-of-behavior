{
 "cells": [
  {
   "cell_type": "code",
   "execution_count": null,
   "id": "a77ea523",
   "metadata": {},
   "outputs": [],
   "source": [
    "import numpy as np\n",
    "import pandas as pd\n",
    "import seaborn as sns\n",
    "import matplotlib.pyplot as plt\n",
    "from aging.plotting import format_plots, PlotConfig, save_factory, figure, legend, format_pizza_plots, COLORMAPS\n",
    "from collections import Counter\n",
    "from matplotlib.lines import Line2D\n",
    "from aging.organization.dataframes import load_male_long_df, load_female_long_df, DF_PATHS\n",
    "from tqdm import tqdm"
   ]
  },
  {
   "cell_type": "code",
   "execution_count": null,
   "id": "d1dc615e",
   "metadata": {},
   "outputs": [],
   "source": [
    "import numpy as np\n",
    "import pandas as pd\n",
    "import matplotlib.pyplot as plt\n",
    "import seaborn as sns\n",
    "import colorcet as cc\n",
    "from operator import add\n",
    "from tqdm.auto import tqdm\n",
    "from functools import reduce\n",
    "from sklearn.cluster import KMeans\n",
    "from sklearn.decomposition import PCA\n",
    "from scipy.spatial.distance import squareform, pdist\n",
    "from sklearn.metrics import silhouette_score\n",
    "from aging.plotting import format_plots, figure, save_factory, PlotConfig, legend, add_identity\n",
    "from sklearn.cross_decomposition import PLSRegression"
   ]
  },
  {
   "cell_type": "code",
   "execution_count": null,
   "id": "86571b2b",
   "metadata": {},
   "outputs": [],
   "source": [
    "def mm_norm_col(column):\n",
    "    return (column - column.min()) / (column.max() - column.min())"
   ]
  },
  {
   "cell_type": "code",
   "execution_count": null,
   "id": "e4e30ebd",
   "metadata": {},
   "outputs": [],
   "source": [
    "from matplotlib.colors import LinearSegmentedColormap\n",
    "\n",
    "# prepare colors for plot\n",
    "colors = ['#c7eae5','#008C8D']\n",
    "import matplotlib\n",
    "cmap = LinearSegmentedColormap.from_list(\"custom_purples\", colors, N=256)\n",
    "matplotlib.cm.register_cmap(\"dana\", cmap)\n",
    "phasec_m = sns.color_palette(\"dana\", n_colors=27)\n",
    "\n",
    "# prepare colors for plot\n",
    "colors = ['#fee6ce','#d94801']\n",
    "import matplotlib\n",
    "cmap = LinearSegmentedColormap.from_list(\"custom_purples\", colors, N=256)\n",
    "matplotlib.cm.register_cmap(\"dana_f\", cmap)\n",
    "phasec_f = sns.color_palette(\"dana_f\", n_colors=27)\n",
    "\n",
    "import colorcet as cc\n",
    "fmap = cc.glasbey[0:20]\n",
    "mmap = cc.glasbey[20:40]"
   ]
  },
  {
   "cell_type": "code",
   "execution_count": null,
   "id": "0cc89f9a",
   "metadata": {},
   "outputs": [],
   "source": [
    "cmm = COLORMAPS.ont_male\n",
    "cmf = COLORMAPS.ont_female\n",
    "m_df = load_male_long_df(average_weeks=True, merge_size=False, merge_ages=True, df_path=DF_PATHS.usage_male).groupby(['age','mouse']).mean()\n",
    "f_df = load_female_long_df(average_weeks=True, merge_size=False, filter_female=True, merge_ages=True, df_path=DF_PATHS.usage_female).groupby(['age','mouse']).mean()"
   ]
  },
  {
   "cell_type": "markdown",
   "id": "01a43d09",
   "metadata": {},
   "source": [
    "## normalized"
   ]
  },
  {
   "cell_type": "code",
   "execution_count": null,
   "id": "d19ce310",
   "metadata": {},
   "outputs": [],
   "source": [
    "# avarage per age or session\n",
    "avg_f_df = f_df.groupby(['age']).mean()\n",
    "\n",
    "# normalize the data\n",
    "f_norm = mm_norm_col(f_df)\n",
    "avg_f_norm = mm_norm_col(avg_f_df)\n",
    "\n",
    "# avarage per age or session\n",
    "avg_m_df = m_df.groupby(['age']).mean()\n",
    "\n",
    "# normalize the data\n",
    "m_norm = mm_norm_col(m_df)\n",
    "avg_m_norm = mm_norm_col(avg_m_df)"
   ]
  },
  {
   "cell_type": "code",
   "execution_count": null,
   "id": "8df22b0f",
   "metadata": {},
   "outputs": [],
   "source": [
    "format_plots()"
   ]
  },
  {
   "cell_type": "markdown",
   "id": "37c7963a",
   "metadata": {},
   "source": [
    "## umaps"
   ]
  },
  {
   "cell_type": "code",
   "execution_count": null,
   "id": "f6a37aa0",
   "metadata": {},
   "outputs": [],
   "source": [
    "import umap\n",
    "df=m_norm.copy()\n",
    "reducer = umap.UMAP(random_state=10,n_neighbors=200)\n",
    "umap_result = reducer.fit_transform(df)\n",
    "\n",
    "pcs = pd.DataFrame(umap_result, columns=['dim1','dim2'])\n",
    "pcs['age'] = df.index.get_level_values('age')\n",
    "pcs['mouse'] = df.index.get_level_values('mouse')\n",
    "age_pc = pcs.drop('mouse', axis=1).groupby('age').mean()\n",
    "# Plot\n",
    "fig, ax = plt.subplots()\n",
    "fig.set_size_inches(1.3, 1.3)\n",
    "im=sns.scatterplot(data=pcs, x='dim1',y='dim2',hue='age',palette=cmm, legend=False, s=3, edgecolor='none')\n",
    "sns.despine()"
   ]
  },
  {
   "cell_type": "code",
   "execution_count": null,
   "id": "253b5ee3",
   "metadata": {},
   "outputs": [],
   "source": [
    "c = PlotConfig()\n",
    "fig.savefig(c.dana_save_path / \"fig3\"/ 'UMAP_male_age_longv2_n200.pdf')"
   ]
  },
  {
   "cell_type": "code",
   "execution_count": null,
   "id": "4710f8ac",
   "metadata": {},
   "outputs": [],
   "source": [
    "import pandas as pd\n",
    "import umap\n",
    "import matplotlib.pyplot as plt\n",
    "import seaborn as sns\n",
    "# Assuming df contains your data\n",
    "# Perform UMAP dimensionality reduction\n",
    "df = m_norm.copy()\n",
    "reducer = umap.UMAP(random_state=0, n_neighbors=30)\n",
    "umap_result = reducer.fit_transform(df)\n",
    "\n",
    "pcs = pd.DataFrame(umap_result, columns=['dim1','dim2'])\n",
    "pcs['age'] = df.index.get_level_values('age')\n",
    "pcs['mouse'] = df.index.get_level_values('mouse')\n",
    "\n",
    "# Plot\n",
    "fig, ax = plt.subplots()\n",
    "fig.set_size_inches(1.7, 1.3)\n",
    "\n",
    "# Scatter plot\n",
    "im = ax.scatter(\n",
    "    x=pcs['dim1'], y=pcs['dim2'], \n",
    "    c=pcs['age'], \n",
    "    cmap=cmm,\n",
    "    s=3,\n",
    ")\n",
    "\n",
    "# Add colorbar\n",
    "cb = fig.colorbar(im, ax=ax)\n",
    "tick_values = [5,15,25,35,45]\n",
    "# Customize the plot\n",
    "sns.despine()\n",
    "#plt.title('UMAP Plot of Data')\n",
    "plt.xlabel('dim1')\n",
    "plt.ylabel('dim2')\n",
    "plt.legend()\n",
    "plt.show()"
   ]
  },
  {
   "cell_type": "code",
   "execution_count": null,
   "id": "365559bb",
   "metadata": {},
   "outputs": [],
   "source": [
    "# Plot\n",
    "fig, ax = plt.subplots()\n",
    "fig.set_size_inches(1.3, 1.3)\n",
    "im=sns.scatterplot(data=pcs, x='dim1',y='dim2',hue='age',palette=cmm, legend=False, s=3, edgecolor='none')\n",
    "sns.despine()"
   ]
  },
  {
   "cell_type": "code",
   "execution_count": null,
   "id": "748df632",
   "metadata": {},
   "outputs": [],
   "source": [
    "c = PlotConfig()\n",
    "fig.savefig(c.dana_save_path / \"fig3\"/ 'UMAP_male_age_longv2_n30.pdf')"
   ]
  },
  {
   "cell_type": "code",
   "execution_count": null,
   "id": "d69b8267",
   "metadata": {},
   "outputs": [],
   "source": [
    "# Plot\n",
    "fig, ax = plt.subplots()\n",
    "fig.set_size_inches(1.3, 1.3)\n",
    "im=sns.scatterplot(data=pcs, x='dim1',y='dim2',hue='mouse',palette=mmap, legend=False, s=3, edgecolor='none')\n",
    "#cb = fig.colorbar(im, ax=ax)\n",
    "#plt.title('UMAP Plot of Data males')\n",
    "sns.despine()"
   ]
  },
  {
   "cell_type": "code",
   "execution_count": null,
   "id": "4939910f",
   "metadata": {},
   "outputs": [],
   "source": [
    "c = PlotConfig()\n",
    "fig.savefig(c.dana_save_path / \"fig3\"/ 'UMAP_male_indv_longv2_n30.pdf')"
   ]
  },
  {
   "cell_type": "code",
   "execution_count": null,
   "id": "87b397a4",
   "metadata": {},
   "outputs": [],
   "source": [
    "# Create a dictionary to map mouse IDs to colors\n",
    "mouse_colors = dict(zip(pcs['mouse'].unique(), mmap))\n",
    "\n",
    "# Set the size of the plot\n",
    "fig, ax = plt.subplots()\n",
    "fig.set_size_inches(1.3, 1.3)\n",
    "\n",
    "# Ensure that 'mouse' column is treated as a category for better handling\n",
    "pcs['mouse'] = pcs['mouse'].astype('category')\n",
    "\n",
    "# Apply a rolling window to smooth the data and plot lines for each mouse\n",
    "for mouse_id in pcs['mouse'].unique():\n",
    "    mouse_data = pcs[pcs['mouse'] == mouse_id]\n",
    "    mouse_data = mouse_data.sort_values(by='age')  # Sort by 'age' for rolling window\n",
    "    mouse_data['dim1_smooth'] = mouse_data['dim1'].rolling(window=2, min_periods=1).mean()\n",
    "    mouse_data['dim2_smooth'] = mouse_data['dim2'].rolling(window=2, min_periods=1).mean()\n",
    "    ax.plot(mouse_data['dim1_smooth'], mouse_data['dim2_smooth'], label=mouse_id, color=mouse_colors[mouse_id], alpha=0.7, linewidth=1)\n",
    "\n",
    "# Customize the plot\n",
    "sns.despine()\n",
    "plt.xlabel('dim1')\n",
    "plt.ylabel('dim2')\n",
    "plt.legend(title='Mouse', bbox_to_anchor=(1.05, 1), loc='upper left')\n",
    "\n",
    "# Show the plot\n",
    "plt.show()"
   ]
  },
  {
   "cell_type": "code",
   "execution_count": null,
   "id": "5065ddc6",
   "metadata": {},
   "outputs": [],
   "source": [
    "c = PlotConfig()\n",
    "fig.savefig(c.dana_save_path / \"fig3\"/ 'UMAP_male_indv_longv2_n30_traj.pdf')"
   ]
  },
  {
   "cell_type": "code",
   "execution_count": null,
   "id": "087b3e24",
   "metadata": {},
   "outputs": [],
   "source": [
    "# Create a dictionary to map mouse IDs to colors\n",
    "mouse_colors = dict(zip(pcs['mouse'].unique(), mmap))\n",
    "\n",
    "# Set the size of the plot\n",
    "fig, ax = plt.subplots()\n",
    "fig.set_size_inches(1.3, 1.3)\n",
    "\n",
    "# Ensure that 'mouse' column is treated as a category for better handling\n",
    "pcs['mouse'] = pcs['mouse'].astype('category')\n",
    "\n",
    "# Apply a rolling window to smooth the data and plot lines for each mouse\n",
    "for mouse_id in pcs['mouse'].unique():\n",
    "    mouse_data = pcs[pcs['mouse'] == mouse_id]\n",
    "    mouse_data = mouse_data.sort_values(by='age')  # Sort by 'age' for rolling window\n",
    "    ax.plot(mouse_data['dim1'], mouse_data['dim2'], label=mouse_id, color=mouse_colors[mouse_id], alpha=0.7, linewidth=1)\n",
    "\n",
    "# Customize the plot\n",
    "sns.despine()\n",
    "plt.xlabel('dim1')\n",
    "plt.ylabel('dim2')\n",
    "plt.legend(title='Mouse', bbox_to_anchor=(1.05, 1), loc='upper left')\n",
    "\n",
    "# Show the plot\n",
    "plt.show()"
   ]
  },
  {
   "cell_type": "code",
   "execution_count": null,
   "id": "f728f500",
   "metadata": {},
   "outputs": [],
   "source": [
    "c = PlotConfig()\n",
    "fig.savefig(c.dana_save_path / \"fig3\"/ 'UMAP_male_indv_longv2_n30_traj_unsmooth.pdf')"
   ]
  },
  {
   "cell_type": "code",
   "execution_count": null,
   "id": "b53f112a",
   "metadata": {},
   "outputs": [],
   "source": [
    "# Define the colormap for ages\n",
    "import matplotlib.colors as mcolors\n",
    "norm = mcolors.Normalize(vmin=pcs['age'].min(), vmax=pcs['age'].max())\n",
    "cmap = cmm\n",
    "import matplotlib.cm as cm\n",
    "\n",
    "# Set the size of the plot\n",
    "fig, ax = plt.subplots()\n",
    "fig.set_size_inches(1.3, 1.3)\n",
    "\n",
    "# Ensure that 'mouse' column is treated as a category for better handling\n",
    "pcs['mouse'] = pcs['mouse'].astype('category')\n",
    "\n",
    "# Apply a rolling window to smooth the data\n",
    "smoothed_data = []\n",
    "\n",
    "for mouse_id in pcs['mouse'].unique():\n",
    "    mouse_data = pcs[pcs['mouse'] == mouse_id]\n",
    "    mouse_data = mouse_data.sort_values(by='age')  # Sort by 'age' for rolling window\n",
    "    mouse_data['dim1_smooth'] = mouse_data['dim1'].rolling(window=2, min_periods=1).mean()\n",
    "    mouse_data['dim2_smooth'] = mouse_data['dim2'].rolling(window=2, min_periods=1).mean()\n",
    "    smoothed_data.append(mouse_data)\n",
    "\n",
    "# Concatenate all smoothed data\n",
    "smoothed_data = pd.concat(smoothed_data)\n",
    "\n",
    "# Plot each line segment with gradient colors based on age\n",
    "for mouse_id in smoothed_data['mouse'].unique():\n",
    "    mouse_data = smoothed_data[smoothed_data['mouse'] == mouse_id]\n",
    "    points = mouse_data[['dim1_smooth', 'dim2_smooth']].values\n",
    "    ages = mouse_data['age'].values\n",
    "    for i in range(len(points) - 1):\n",
    "        segment = points[i:i+2]\n",
    "        age_norm = norm(ages[i])\n",
    "        color = cmap(age_norm)\n",
    "        ax.plot(segment[:, 0], segment[:, 1], color=color, linewidth=1, alpha=0.7)\n",
    "\n",
    "# Customize the plot\n",
    "sns.despine()\n",
    "plt.xlabel('dim1')\n",
    "plt.ylabel('dim2')\n",
    "sm = cm.ScalarMappable(cmap=cmap, norm=norm)\n",
    "sm.set_array([])\n",
    "#cbar = plt.colorbar(sm, ax=ax)\n",
    "#cbar.set_label('Age')\n",
    "\n",
    "# Show the plot\n",
    "plt.show()"
   ]
  },
  {
   "cell_type": "code",
   "execution_count": null,
   "id": "963f5735",
   "metadata": {},
   "outputs": [],
   "source": [
    "c = PlotConfig()\n",
    "fig.savefig(c.dana_save_path / \"fig3\"/ 'UMAP_male_age_longv2_n30_traj.pdf')"
   ]
  },
  {
   "cell_type": "code",
   "execution_count": null,
   "id": "e318b206",
   "metadata": {},
   "outputs": [],
   "source": [
    "## for females:"
   ]
  },
  {
   "cell_type": "code",
   "execution_count": null,
   "id": "dbbf8b58",
   "metadata": {},
   "outputs": [],
   "source": [
    "import umap\n",
    "df=f_norm.copy()\n",
    "reducer = umap.UMAP(random_state=10,n_neighbors=200)\n",
    "umap_result = reducer.fit_transform(df)\n",
    "\n",
    "pcs = pd.DataFrame(umap_result, columns=['dim1','dim2'])\n",
    "pcs['age'] = df.index.get_level_values('age')\n",
    "pcs['mouse'] = df.index.get_level_values('mouse')\n",
    "age_pc = pcs.drop('mouse', axis=1).groupby('age').mean()\n",
    "# Plot\n",
    "fig, ax = plt.subplots()\n",
    "fig.set_size_inches(1.3, 1.3)\n",
    "im=sns.scatterplot(data=pcs, x='dim1',y='dim2',hue='age',palette=cmf, legend=False, s=3, edgecolor='none')\n",
    "sns.despine()"
   ]
  },
  {
   "cell_type": "code",
   "execution_count": null,
   "id": "9098e2ba",
   "metadata": {},
   "outputs": [],
   "source": [
    "c = PlotConfig()\n",
    "fig.savefig(c.dana_save_path / \"fig3\"/ 'UMAP_female_age_n200.pdf')"
   ]
  },
  {
   "cell_type": "code",
   "execution_count": null,
   "id": "c6b1088b",
   "metadata": {},
   "outputs": [],
   "source": [
    "import pandas as pd\n",
    "import umap\n",
    "import matplotlib.pyplot as plt\n",
    "import seaborn as sns\n",
    "# Assuming df contains your data\n",
    "# Perform UMAP dimensionality reduction\n",
    "df=f_norm.copy()\n",
    "reducer = umap.UMAP(random_state=10,n_neighbors=30)\n",
    "umap_result = reducer.fit_transform(df)\n",
    "\n",
    "pcs = pd.DataFrame(umap_result, columns=['dim1','dim2'])\n",
    "pcs['age'] = df.index.get_level_values('age')\n",
    "pcs['mouse'] = df.index.get_level_values('mouse')\n",
    "age_pc = pcs.drop('mouse', axis=1).groupby('age').mean()\n",
    "\n",
    "# Plot\n",
    "fig, ax = plt.subplots()\n",
    "fig.set_size_inches(1.7, 1.3)\n",
    "\n",
    "# Scatter plot\n",
    "im = ax.scatter(\n",
    "    x=pcs['dim1'], y=pcs['dim2'], \n",
    "    c=pcs['age'], \n",
    "    cmap=cmf,\n",
    "    s=3,\n",
    "    linewidth =0.25,\n",
    ")\n",
    "\n",
    "# Add colorbar\n",
    "cb = fig.colorbar(im, ax=ax)\n",
    "tick_values = [5,15,25,35,45]\n",
    "\n",
    "# Customize the plot\n",
    "sns.despine()\n",
    "#plt.title('UMAP Plot of Data females')\n",
    "plt.xlabel('dim1')\n",
    "plt.ylabel('dim2')\n",
    "plt.legend()\n",
    "plt.show()"
   ]
  },
  {
   "cell_type": "code",
   "execution_count": null,
   "id": "480849b8",
   "metadata": {},
   "outputs": [],
   "source": [
    "# Plot\n",
    "fig, ax = plt.subplots()\n",
    "fig.set_size_inches(1.3, 1.3)\n",
    "im=sns.scatterplot(data=pcs, x='dim1',y='dim2',hue='age',palette=cmf, legend=False, s=3, edgecolor='none')\n",
    "sns.despine()"
   ]
  },
  {
   "cell_type": "code",
   "execution_count": null,
   "id": "595067ae",
   "metadata": {},
   "outputs": [],
   "source": [
    "c = PlotConfig()\n",
    "fig.savefig(c.dana_save_path / \"fig3\"/ 'UMAP_female_age_longv2.pdf')"
   ]
  },
  {
   "cell_type": "code",
   "execution_count": null,
   "id": "0f37a98a",
   "metadata": {},
   "outputs": [],
   "source": [
    "# Plot\n",
    "fig, ax = plt.subplots()\n",
    "fig.set_size_inches(1.3, 1.3)\n",
    "im=sns.scatterplot(data=pcs, x='dim1',y='dim2',hue='mouse',palette=fmap, legend=False, s=3, edgecolor='none')\n",
    "#cb = fig.colorbar(im, ax=ax)\n",
    "#plt.title('UMAP Plot of Data females')\n",
    "\n",
    "sns.despine()"
   ]
  },
  {
   "cell_type": "code",
   "execution_count": null,
   "id": "5b2c0108",
   "metadata": {},
   "outputs": [],
   "source": [
    "c = PlotConfig()\n",
    "fig.savefig(c.dana_save_path / \"fig3\"/ 'UMAP_female_indv_longv2.pdf')"
   ]
  },
  {
   "cell_type": "code",
   "execution_count": null,
   "id": "44152686",
   "metadata": {},
   "outputs": [],
   "source": [
    "# Create a dictionary to map mouse IDs to colors\n",
    "mouse_colors = dict(zip(pcs['mouse'].unique(), fmap))\n",
    "\n",
    "# Set the size of the plot\n",
    "fig, ax = plt.subplots()\n",
    "fig.set_size_inches(1.3, 1.3)\n",
    "\n",
    "# Ensure that 'mouse' column is treated as a category for better handling\n",
    "pcs['mouse'] = pcs['mouse'].astype('category')\n",
    "\n",
    "# Apply a rolling window to smooth the data and plot lines for each mouse\n",
    "for mouse_id in pcs['mouse'].unique():\n",
    "    mouse_data = pcs[pcs['mouse'] == mouse_id]\n",
    "    mouse_data = mouse_data.sort_values(by='age')  # Sort by 'age' for rolling window\n",
    "    mouse_data['dim1_smooth'] = mouse_data['dim1'].rolling(window=2, min_periods=1).mean()\n",
    "    mouse_data['dim2_smooth'] = mouse_data['dim2'].rolling(window=2, min_periods=1).mean()\n",
    "    ax.plot(mouse_data['dim1_smooth'], mouse_data['dim2_smooth'], label=mouse_id, color=mouse_colors[mouse_id], alpha=0.7, linewidth=1)\n",
    "\n",
    "# Customize the plot\n",
    "sns.despine()\n",
    "plt.xlabel('dim1')\n",
    "plt.ylabel('dim2')\n",
    "plt.legend(title='Mouse', bbox_to_anchor=(1.05, 1), loc='upper left')\n",
    "\n",
    "# Show the plot\n",
    "plt.show()"
   ]
  },
  {
   "cell_type": "code",
   "execution_count": null,
   "id": "f5549515",
   "metadata": {},
   "outputs": [],
   "source": [
    "c = PlotConfig()\n",
    "fig.savefig(c.dana_save_path / \"fig3\"/ 'UMAP_female_indv_longv2_traj.pdf')"
   ]
  },
  {
   "cell_type": "code",
   "execution_count": null,
   "id": "baa86665",
   "metadata": {},
   "outputs": [],
   "source": [
    "# Create a dictionary to map mouse IDs to colors\n",
    "mouse_colors = dict(zip(pcs['mouse'].unique(), fmap))\n",
    "\n",
    "# Set the size of the plot\n",
    "fig, ax = plt.subplots()\n",
    "fig.set_size_inches(1.3, 1.3)\n",
    "\n",
    "# Ensure that 'mouse' column is treated as a category for better handling\n",
    "pcs['mouse'] = pcs['mouse'].astype('category')\n",
    "\n",
    "# Apply a rolling window to smooth the data and plot lines for each mouse\n",
    "for mouse_id in pcs['mouse'].unique():\n",
    "    mouse_data = pcs[pcs['mouse'] == mouse_id]\n",
    "    mouse_data = mouse_data.sort_values(by='age')  # Sort by 'age' for rolling window\n",
    "    ax.plot(mouse_data['dim1'], mouse_data['dim2'], label=mouse_id, color=mouse_colors[mouse_id], alpha=0.7, linewidth=1)\n",
    "\n",
    "# Customize the plot\n",
    "sns.despine()\n",
    "plt.xlabel('dim1')\n",
    "plt.ylabel('dim2')\n",
    "plt.legend(title='Mouse', bbox_to_anchor=(1.05, 1), loc='upper left')\n",
    "\n",
    "# Show the plot\n",
    "plt.show()"
   ]
  },
  {
   "cell_type": "code",
   "execution_count": null,
   "id": "ed6c95d6",
   "metadata": {},
   "outputs": [],
   "source": [
    "c = PlotConfig()\n",
    "fig.savefig(c.dana_save_path / \"fig3\"/ 'UMAP_female_indv_longv2_traj_unsmooth.pdf')"
   ]
  },
  {
   "cell_type": "code",
   "execution_count": null,
   "id": "a5ffc7ea",
   "metadata": {},
   "outputs": [],
   "source": [
    "# Define the colormap for ages\n",
    "import matplotlib.colors as mcolors\n",
    "norm = mcolors.Normalize(vmin=pcs['age'].min(), vmax=pcs['age'].max())\n",
    "cmap = cmf\n",
    "import matplotlib.cm as cm\n",
    "\n",
    "# Set the size of the plot\n",
    "fig, ax = plt.subplots()\n",
    "fig.set_size_inches(1.3, 1.3)\n",
    "\n",
    "# Ensure that 'mouse' column is treated as a category for better handling\n",
    "pcs['mouse'] = pcs['mouse'].astype('category')\n",
    "\n",
    "# Apply a rolling window to smooth the data\n",
    "smoothed_data = []\n",
    "\n",
    "for mouse_id in pcs['mouse'].unique():\n",
    "    mouse_data = pcs[pcs['mouse'] == mouse_id]\n",
    "    mouse_data = mouse_data.sort_values(by='age')  # Sort by 'age' for rolling window\n",
    "    mouse_data['dim1_smooth'] = mouse_data['dim1'].rolling(window=2, min_periods=1).mean()\n",
    "    mouse_data['dim2_smooth'] = mouse_data['dim2'].rolling(window=2, min_periods=1).mean()\n",
    "    smoothed_data.append(mouse_data)\n",
    "\n",
    "# Concatenate all smoothed data\n",
    "smoothed_data = pd.concat(smoothed_data)\n",
    "\n",
    "# Plot each line segment with gradient colors based on age\n",
    "for mouse_id in smoothed_data['mouse'].unique():\n",
    "    mouse_data = smoothed_data[smoothed_data['mouse'] == mouse_id]\n",
    "    points = mouse_data[['dim1_smooth', 'dim2_smooth']].values\n",
    "    ages = mouse_data['age'].values\n",
    "    for i in range(len(points) - 1):\n",
    "        segment = points[i:i+2]\n",
    "        age_norm = norm(ages[i])\n",
    "        color = cmap(age_norm)\n",
    "        ax.plot(segment[:, 0], segment[:, 1], color=color, linewidth=1, alpha=0.7)\n",
    "\n",
    "# Customize the plot\n",
    "sns.despine()\n",
    "plt.xlabel('dim1')\n",
    "plt.ylabel('dim2')\n",
    "sm = cm.ScalarMappable(cmap=cmap, norm=norm)\n",
    "sm.set_array([])\n",
    "#cbar = plt.colorbar(sm, ax=ax)\n",
    "#cbar.set_label('Age')\n",
    "\n",
    "# Show the plot\n",
    "plt.show()"
   ]
  },
  {
   "cell_type": "code",
   "execution_count": null,
   "id": "7f2f22c7",
   "metadata": {},
   "outputs": [],
   "source": [
    "c = PlotConfig()\n",
    "fig.savefig(c.dana_save_path / \"fig3\"/ 'UMAP_female_age_longv2_traj.pdf')"
   ]
  }
 ],
 "metadata": {
  "kernelspec": {
   "display_name": "Python 3 (ipykernel)",
   "language": "python",
   "name": "python3"
  },
  "language_info": {
   "codemirror_mode": {
    "name": "ipython",
    "version": 3
   },
   "file_extension": ".py",
   "mimetype": "text/x-python",
   "name": "python",
   "nbconvert_exporter": "python",
   "pygments_lexer": "ipython3",
   "version": "3.10.12"
  }
 },
 "nbformat": 4,
 "nbformat_minor": 5
}
