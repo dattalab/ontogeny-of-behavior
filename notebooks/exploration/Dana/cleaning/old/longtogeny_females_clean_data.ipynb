{
 "cells": [
  {
   "cell_type": "markdown",
   "id": "2cccffdc",
   "metadata": {},
   "source": [
    "## imports"
   ]
  },
  {
   "cell_type": "code",
   "execution_count": 1,
   "id": "70159d69",
   "metadata": {},
   "outputs": [],
   "source": [
    "import numpy as np\n",
    "import pandas as pd\n",
    "import matplotlib.pyplot as plt\n",
    "import seaborn as sns\n",
    "from pathlib import Path\n",
    "import matplotlib as mpl\n",
    "import os\n",
    "from matplotlib.lines import Line2D\n",
    "from collections import Counter\n",
    "import math\n",
    "from sklearn.decomposition import PCA\n",
    "from aging.behavior.syllables import relabel_by_usage, compute_usage, assign_onsets\n",
    "%matplotlib inline\n",
    "import datetime"
   ]
  },
  {
   "cell_type": "code",
   "execution_count": 2,
   "id": "0856f580",
   "metadata": {},
   "outputs": [],
   "source": [
    "def mouse_map(string):\n",
    "    '''returns mouse identity'''\n",
    "    if 'nt' in string:\n",
    "        m='_01'\n",
    "    elif 'RL' in string:\n",
    "        m='_04'\n",
    "    elif 'R' in string:\n",
    "        m='_02'\n",
    "    elif 'L' in string:\n",
    "        m='_03'\n",
    "    if 'ong4' in string:\n",
    "        return '04'+m\n",
    "    if 'ong3' in string:\n",
    "        return '03'+m\n",
    "    if 'ong2' in string:\n",
    "        return '02'+m\n",
    "    if 'ong1' in string:\n",
    "        return '01'+m\n",
    "    if 'ong5' in string:\n",
    "        return '05'+m\n",
    "    return string[:5]"
   ]
  },
  {
   "cell_type": "code",
   "execution_count": 3,
   "id": "79732457",
   "metadata": {},
   "outputs": [],
   "source": [
    "## for males"
   ]
  },
  {
   "cell_type": "code",
   "execution_count": 4,
   "id": "c58a65f1",
   "metadata": {},
   "outputs": [],
   "source": [
    "## upload data frame females\n",
    "data_folder = Path('/n/groups/datta/win/longtogeny/data/ontogeny/version_03')\n",
    "path = Path('/n/groups/datta/win/longtogeny/data/ontogeny/version_03/longtogeny_females_syllable_df.parquet')\n",
    "df = pd.read_parquet(path)\n",
    "\n",
    "## get syllable maps from male ontogeny\n",
    "df_temp = pd.read_parquet('/n/groups/datta/win/longtogeny/data/ontogeny/version_03/ontogeny_males_syllable_df.parquet')\n",
    "df_temp,usage_map = relabel_by_usage(df_temp, return_map=True)\n",
    "\n",
    "df = assign_onsets(df)\n",
    "df['relabeled_syllables'] = df['syllables'].map(usage_map)\n",
    "#df = relabel_by_usage(df, return_map=False)"
   ]
  },
  {
   "cell_type": "code",
   "execution_count": 5,
   "id": "1efd50d6",
   "metadata": {},
   "outputs": [],
   "source": [
    "## add extra females to the dataframe\n",
    "extra_females=pd.read_parquet(data_folder / \"longtogeny_extra_females.parquet\", engine='pyarrow') \n",
    "df=pd.concat([df,extra_females])"
   ]
  },
  {
   "cell_type": "code",
   "execution_count": 6,
   "id": "d1ce2e51",
   "metadata": {},
   "outputs": [],
   "source": [
    "# calculate age for males\n",
    "first= pd.Timestamp(year=2021, month=7, day=15)\n",
    "age = (df.date-first).dt.days+21\n",
    "df.age=age"
   ]
  },
  {
   "cell_type": "markdown",
   "id": "803cb7dd",
   "metadata": {},
   "source": [
    "## manual curations"
   ]
  },
  {
   "cell_type": "code",
   "execution_count": 7,
   "id": "5cd81f33",
   "metadata": {},
   "outputs": [
    {
     "data": {
      "image/png": "[encoded data removed]",
      "text/plain": [
       "<Figure size 640x480 with 1 Axes>"
      ]
     },
     "metadata": {},
     "output_type": "display_data"
    }
   ],
   "source": [
    "# clean up the data by removing short sessions\n",
    "t = 600\n",
    "session_length = df.groupby(\"uuid\", sort=False)['timestamps'].max()\n",
    "remove_uuids = session_length[session_length < t].index\n",
    "session_length.hist()\n",
    "df = df[~df['uuid'].isin(remove_uuids)]"
   ]
  },
  {
   "cell_type": "code",
   "execution_count": 8,
   "id": "7781a6ae",
   "metadata": {},
   "outputs": [
    {
     "data": {
      "text/plain": [
       "<Axes: >"
      ]
     },
     "execution_count": 8,
     "metadata": {},
     "output_type": "execute_result"
    },
    {
     "data": {
      "image/png": "[encoded data removed]",
      "text/plain": [
       "<Figure size 640x480 with 1 Axes>"
      ]
     },
     "metadata": {},
     "output_type": "display_data"
    }
   ],
   "source": [
    "session_length = df.groupby(\"uuid\", sort=False)['timestamps'].max()\n",
    "remove_uuids = session_length[session_length < t].index\n",
    "session_length.hist()"
   ]
  },
  {
   "cell_type": "markdown",
   "id": "3655ff9c",
   "metadata": {},
   "source": [
    "## get mouse names"
   ]
  },
  {
   "cell_type": "code",
   "execution_count": 9,
   "id": "c2310624",
   "metadata": {},
   "outputs": [],
   "source": [
    "# calculate mouse identity\n",
    "df['mouse'] = df['subject_name'].map(mouse_map)"
   ]
  },
  {
   "cell_type": "code",
   "execution_count": 10,
   "id": "f1e30455",
   "metadata": {},
   "outputs": [],
   "source": [
    "# calculate usage\n",
    "usage_df = df.query('onsets').groupby(['age','uuid','mouse','subject_name','date'])['relabeled_syllables'].value_counts(normalize=True)\n",
    "usage_df.name = 'usage'\n",
    "usage_df = usage_df.reset_index()"
   ]
  },
  {
   "cell_type": "code",
   "execution_count": 11,
   "id": "aa6e961e",
   "metadata": {},
   "outputs": [],
   "source": [
    "## remove sessions were a syllable occours more than x% of time\n",
    "thresh=0.15\n",
    "syll_usage = usage_df.groupby(\"uuid\", sort=False)['usage'].max()\n",
    "remove_uuids=syll_usage[syll_usage>thresh].to_frame().reset_index()['uuid']\n",
    "usage_df = usage_df[~usage_df['uuid'].isin(remove_uuids)]"
   ]
  },
  {
   "cell_type": "code",
   "execution_count": 12,
   "id": "1a51b45e",
   "metadata": {},
   "outputs": [],
   "source": [
    "# find ages where less than 8 data points exists and filter them out (not sure we want that)\n",
    "temp = usage_df.pivot_table(values='usage', columns='relabeled_syllables', index=['age','uuid','subject_name','date']).fillna(0).reset_index()\n",
    "counter = Counter(temp['age'])\n",
    "thresh=8\n",
    "remove_sessions = ([k for k, v in counter.items() if v < thresh])\n",
    "usage_df = usage_df[~usage_df['age'].isin(remove_sessions)]"
   ]
  },
  {
   "cell_type": "code",
   "execution_count": 13,
   "id": "653f17cb",
   "metadata": {},
   "outputs": [],
   "source": [
    "# define cage\n",
    "usage_df['cage'] = usage_df.mouse.str[:2]"
   ]
  },
  {
   "cell_type": "markdown",
   "id": "e3a188b7",
   "metadata": {},
   "source": [
    "# some tests"
   ]
  },
  {
   "cell_type": "code",
   "execution_count": 14,
   "id": "9b12e3fc",
   "metadata": {},
   "outputs": [
    {
     "name": "stdout",
     "output_type": "stream",
     "text": [
      "relabeled_syllables subject_name  age                date\n",
      "119                    01_02_011   45 2021-08-08 13:34:02\n",
      "120                    01_01_010   45 2021-08-08 13:32:01\n",
      "121                    03_03_011   45 2021-08-08 14:47:33\n",
      "122                    02_04_011   45 2021-08-08 14:20:44\n",
      "123                    03_01_010   45 2021-08-08 14:47:46\n",
      "124                    03_04_011   45 2021-08-08 14:47:28\n",
      "125                    02_01_010   45 2021-08-08 14:21:09\n",
      "126                    01_03_011   45 2021-08-08 13:33:11\n",
      "127                    05_04_011   45 2021-08-08 15:40:51\n",
      "128                    05_01_010   45 2021-08-08 15:40:45\n",
      "129                    05_03_011   45 2021-08-08 15:40:58\n",
      "130                    03_02_011   45 2021-08-08 14:47:40\n",
      "131                    04_03_011   45 2021-08-08 15:14:19\n",
      "132                    04_04_011   45 2021-08-08 15:13:04\n",
      "133                    01_04_011   45 2021-08-08 13:32:23\n",
      "134                    04_01_010   45 2021-08-08 15:13:20\n",
      "135                    05_02_011   45 2021-08-08 15:41:03\n",
      "136                    02_02_011   45 2021-08-08 14:21:01\n",
      "137                    04_02_011   45 2021-08-08 15:13:15\n",
      "19\n"
     ]
    }
   ],
   "source": [
    "# figure out if male and female data mixed by checking if for similar age we have a different session number\n",
    "# calculate usage\n",
    "temp = usage_df.pivot_table(values='usage', columns='relabeled_syllables', index=['age','uuid','subject_name','date']).fillna(0).reset_index()\n",
    "\n",
    "ages = temp.age.unique()\n",
    "for age in ages:\n",
    "    curr = temp[temp.age==age]\n",
    "    sessions = curr.subject_name.str[-3:] #get session number\n",
    "    if len(sessions.unique())>1: #if the same age has different session numbers\n",
    "        curr_print = curr[['subject_name','age','date']]\n",
    "        print(curr_print)\n",
    "        print(len(curr_print))"
   ]
  },
  {
   "cell_type": "code",
   "execution_count": 15,
   "id": "3d7b2a55",
   "metadata": {},
   "outputs": [
    {
     "data": {
      "text/plain": [
       "Counter({'05_01': 44,\n",
       "         '03_01': 43,\n",
       "         '01_04': 43,\n",
       "         '01_01': 42,\n",
       "         '02_01': 42,\n",
       "         '03_02': 42,\n",
       "         '04_01': 41,\n",
       "         '03_04': 39,\n",
       "         '05_04': 39,\n",
       "         '02_02': 39,\n",
       "         '02_04': 38,\n",
       "         '04_04': 38,\n",
       "         '04_02': 37,\n",
       "         '01_02': 37,\n",
       "         '05_02': 36,\n",
       "         '03_03': 30,\n",
       "         '04_03': 29,\n",
       "         '01_03': 28,\n",
       "         '05_03': 25,\n",
       "         '02_03': 24})"
      ]
     },
     "execution_count": 15,
     "metadata": {},
     "output_type": "execute_result"
    }
   ],
   "source": [
    "#check number of sessions per age\n",
    "temp = usage_df.pivot_table(values='usage', columns='relabeled_syllables', index=['age','uuid','mouse','subject_name','date']).fillna(0).reset_index()\n",
    "counter = Counter(temp['mouse'])\n",
    "counter"
   ]
  },
  {
   "cell_type": "code",
   "execution_count": 28,
   "id": "59f768a6",
   "metadata": {},
   "outputs": [
    {
     "name": "stdout",
     "output_type": "stream",
     "text": [
      "Counter({'03': 154, '01': 150, '04': 145, '05': 144, '02': 143})\n"
     ]
    }
   ],
   "source": [
    "## get only the 16 mice which cages have the most sessions\n",
    "#check number of sessions per cage\n",
    "temp = usage_df.pivot_table(values='usage', columns='relabeled_syllables', index=['age','uuid','mouse','subject_name','date','cage']).fillna(0).reset_index()\n",
    "print(Counter(temp['cage']))\n",
    "cages=['03','01','04','05']\n",
    "usage_df = usage_df[usage_df['cage'].isin(cages)]"
   ]
  },
  {
   "cell_type": "markdown",
   "id": "d39f4ffa",
   "metadata": {},
   "source": [
    "## save dataframe"
   ]
  },
  {
   "cell_type": "code",
   "execution_count": 29,
   "id": "c83b5580",
   "metadata": {},
   "outputs": [],
   "source": [
    "usage_mtx = usage_df.pivot_table(values='usage', columns='relabeled_syllables', index=['age', 'mouse','cage','uuid','subject_name']).fillna(0)\n",
    "usage_mtx.to_parquet(data_folder / \"longtogeny_females_clean.parquet\", engine='pyarrow') "
   ]
  }
 ],
 "metadata": {
  "kernelspec": {
   "display_name": "Python 3 (ipykernel)",
   "language": "python",
   "name": "python3"
  },
  "language_info": {
   "codemirror_mode": {
    "name": "ipython",
    "version": 3
   },
   "file_extension": ".py",
   "mimetype": "text/x-python",
   "name": "python",
   "nbconvert_exporter": "python",
   "pygments_lexer": "ipython3",
   "version": "3.10.11"
  }
 },
 "nbformat": 4,
 "nbformat_minor": 5
}
