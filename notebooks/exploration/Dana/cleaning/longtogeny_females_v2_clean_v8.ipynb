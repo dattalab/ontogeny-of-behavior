{
 "cells": [
  {
   "cell_type": "markdown",
   "id": "2cccffdc",
   "metadata": {},
   "source": [
    "## imports"
   ]
  },
  {
   "cell_type": "code",
   "execution_count": 1,
   "id": "70159d69",
   "metadata": {},
   "outputs": [],
   "source": [
    "import numpy as np\n",
    "import pandas as pd\n",
    "import matplotlib.pyplot as plt\n",
    "import seaborn as sns\n",
    "from pathlib import Path\n",
    "import matplotlib as mpl\n",
    "import os\n",
    "from matplotlib.lines import Line2D\n",
    "from collections import Counter\n",
    "import math\n",
    "from sklearn.decomposition import PCA\n",
    "from aging.behavior.syllables import relabel_by_usage, compute_usage, assign_onsets\n",
    "%matplotlib inline\n",
    "import datetime"
   ]
  },
  {
   "cell_type": "code",
   "execution_count": 2,
   "id": "0856f580",
   "metadata": {},
   "outputs": [],
   "source": [
    "def mouse_map(string):\n",
    "    '''returns mouse identity'''\n",
    "    if 'ong4' in string:\n",
    "        return '04'+m\n",
    "    if 'ong3' in string:\n",
    "        return '03'+m\n",
    "    if 'ong2' in string:\n",
    "        return '02'+m\n",
    "    if 'ong1' in string:\n",
    "        return '01'+m\n",
    "    return string[:5]"
   ]
  },
  {
   "cell_type": "code",
   "execution_count": 3,
   "id": "79732457",
   "metadata": {},
   "outputs": [],
   "source": [
    "## for females"
   ]
  },
  {
   "cell_type": "code",
   "execution_count": 4,
   "id": "c58a65f1",
   "metadata": {},
   "outputs": [],
   "source": [
    "## upload data frame females\n",
    "data_folder = Path('/n/groups/datta/win/longtogeny/data/ontogeny/version_08')\n",
    "path = Path('/n/groups/datta/win/longtogeny/data/ontogeny/version_08/longtogeny_v2_females_syllable_df_v00.parquet')\n",
    "df = pd.read_parquet(path)\n",
    "\n",
    "## get syllable maps from male ontogeny\n",
    "df_temp = pd.read_parquet('/n/groups/datta/win/longtogeny/data/ontogeny/version_08/ontogeny_males_syllable_df_v00.parquet')\n",
    "df_temp,usage_map = relabel_by_usage(df_temp, return_map=True)\n",
    "\n",
    "df = assign_onsets(df)\n",
    "df['relabeled_syllables'] = df['syllables'].map(usage_map)"
   ]
  },
  {
   "cell_type": "code",
   "execution_count": 5,
   "id": "d1ce2e51",
   "metadata": {},
   "outputs": [],
   "source": [
    "# calculate age for females\n",
    "first= pd.Timestamp(year=2023, month=6, day=29)\n",
    "age = (df.date-first).dt.days+20\n",
    "df.age=age\n",
    "df['age'] = df['age'].astype('int32[pyarrow]')"
   ]
  },
  {
   "cell_type": "code",
   "execution_count": 6,
   "id": "a9e9ef8a",
   "metadata": {},
   "outputs": [],
   "source": [
    "sorted(df.age.unique())"
   ]
  },
  {
   "cell_type": "markdown",
   "id": "803cb7dd",
   "metadata": {},
   "source": [
    "## manual curations"
   ]
  },
  {
   "cell_type": "code",
   "execution_count": 7,
   "id": "5cd81f33",
   "metadata": {},
   "outputs": [],
   "source": [
    "# clean up the data by removing short sessions\n",
    "t = 600\n",
    "session_length = df.groupby(\"uuid\", sort=False)['timestamps'].max()\n",
    "remove_uuids = session_length[session_length < t].index\n",
    "session_length.hist()\n",
    "df = df[~df['uuid'].isin(remove_uuids)]"
   ]
  },
  {
   "cell_type": "code",
   "execution_count": 8,
   "id": "b90e461b",
   "metadata": {},
   "outputs": [],
   "source": [
    "# clean up the data by removing long sessions\n",
    "t = 1250\n",
    "session_length = df.groupby(\"uuid\", sort=False)['timestamps'].max()\n",
    "remove_uuids = session_length[session_length > t].index\n",
    "df = df[~df['uuid'].isin(remove_uuids)]"
   ]
  },
  {
   "cell_type": "code",
   "execution_count": 9,
   "id": "c7fca140",
   "metadata": {},
   "outputs": [],
   "source": [
    "session_length = df.groupby(\"uuid\", sort=False)['timestamps'].max()\n",
    "session_length.hist()"
   ]
  },
  {
   "cell_type": "code",
   "execution_count": 10,
   "id": "c428b40b",
   "metadata": {},
   "outputs": [],
   "source": [
    "# remove duplicated files due to cleaning extractions\n",
    "new_df = []\n",
    "for (date, subject), _df in df.groupby(['date', 'subject_name'], sort=False):\n",
    "    if _df['uuid'].nunique() > 1:\n",
    "        _df = _df[_df['file'].str.contains('proc_cleaned')]\n",
    "    new_df.append(_df)\n",
    "    \n",
    "df = pd.concat(new_df)"
   ]
  },
  {
   "cell_type": "markdown",
   "id": "3655ff9c",
   "metadata": {},
   "source": [
    "## get mouse names"
   ]
  },
  {
   "cell_type": "code",
   "execution_count": 11,
   "id": "95eda681",
   "metadata": {},
   "outputs": [],
   "source": [
    "sorted(df['subject_name'].unique())"
   ]
  },
  {
   "cell_type": "code",
   "execution_count": 12,
   "id": "c2310624",
   "metadata": {},
   "outputs": [],
   "source": [
    "# calculate mouse identity\n",
    "df['mouse'] = df['subject_name'].map(mouse_map)"
   ]
  },
  {
   "cell_type": "code",
   "execution_count": 13,
   "id": "02d50037",
   "metadata": {},
   "outputs": [],
   "source": [
    "df['mouse'] = df['mouse'].replace('f1_04', 'F1_04')"
   ]
  },
  {
   "cell_type": "code",
   "execution_count": 14,
   "id": "cb88b6d0",
   "metadata": {},
   "outputs": [],
   "source": [
    "sorted(df['mouse'].unique())"
   ]
  },
  {
   "cell_type": "code",
   "execution_count": 15,
   "id": "2fa46786",
   "metadata": {},
   "outputs": [],
   "source": [
    "## keep only mice that are part of the male experiment\n",
    "keep_mice = ['F1_01',\n",
    " 'F1_02',\n",
    " 'F1_03',\n",
    " 'F1_04',\n",
    " 'F2_01',\n",
    " 'F2_02',\n",
    " 'F2_03',\n",
    " 'F2_04',\n",
    " 'F3_01',\n",
    " 'F3_02',\n",
    " 'F3_03',\n",
    " 'F3_04',\n",
    " 'F4_01',\n",
    " 'F4_02',\n",
    " 'F4_03',\n",
    " 'F4_04',\n",
    " 'F5_01',\n",
    " 'F5_02',\n",
    " 'F5_03',\n",
    " 'F5_04']\n",
    "df = df[df['mouse'].isin(keep_mice)].reset_index()\n",
    "#df['mouse'] = df['mouse'].replace(to_replace=df['mouse'].unique(), value=list(range(1,len(df['mouse'].unique())+1)))"
   ]
  },
  {
   "cell_type": "code",
   "execution_count": 16,
   "id": "f1e30455",
   "metadata": {},
   "outputs": [],
   "source": [
    "# calculate usage\n",
    "usage_df = df.query('onsets').groupby(['age','uuid','mouse','subject_name','date'])['relabeled_syllables'].value_counts(normalize=True)\n",
    "usage_df.name = 'usage'\n",
    "usage_df = usage_df.reset_index()"
   ]
  },
  {
   "cell_type": "code",
   "execution_count": 17,
   "id": "aa6e961e",
   "metadata": {},
   "outputs": [],
   "source": [
    "## remove sessions were a syllable occours more than x% of time\n",
    "thresh=0.2\n",
    "syll_usage = usage_df.groupby(\"uuid\", sort=False)['usage'].max()\n",
    "remove_uuids=syll_usage[syll_usage>thresh].to_frame().reset_index()['uuid']\n",
    "usage_df = usage_df[~usage_df['uuid'].isin(remove_uuids)]"
   ]
  },
  {
   "cell_type": "code",
   "execution_count": 18,
   "id": "653f17cb",
   "metadata": {},
   "outputs": [],
   "source": [
    "# define cage\n",
    "usage_df['cage'] = usage_df.mouse.str[:2]"
   ]
  },
  {
   "cell_type": "markdown",
   "id": "e3a188b7",
   "metadata": {},
   "source": [
    "# some tests"
   ]
  },
  {
   "cell_type": "code",
   "execution_count": 19,
   "id": "9b12e3fc",
   "metadata": {},
   "outputs": [],
   "source": [
    "# figure out if male and female data mixed by checking if for similar age we have a different session number\n",
    "# calculate usage\n",
    "temp = usage_df.pivot_table(values='usage', columns='relabeled_syllables', index=['age','uuid','subject_name','date']).fillna(0).reset_index()\n",
    "\n",
    "ages = temp.age.unique()\n",
    "for age in ages:\n",
    "    curr = temp[temp.age==age]\n",
    "    sessions = curr.subject_name.str[-3:] #get session number\n",
    "    if len(sessions.unique())>1: #if the same age has different session numbers\n",
    "        curr_print = curr[['subject_name','age','date']]\n",
    "        print(curr_print)\n",
    "        print(len(curr_print))"
   ]
  },
  {
   "cell_type": "code",
   "execution_count": 20,
   "id": "3d7b2a55",
   "metadata": {},
   "outputs": [],
   "source": [
    "#check number of sessions per age\n",
    "temp = usage_df.pivot_table(values='usage', columns='relabeled_syllables', index=['age','uuid','subject_name','date']).fillna(0).reset_index()\n",
    "counter = Counter(temp['age'])\n",
    "counter"
   ]
  },
  {
   "cell_type": "code",
   "execution_count": 21,
   "id": "f254218d",
   "metadata": {},
   "outputs": [],
   "source": [
    "usage_mtx = usage_df.pivot_table(values='usage', columns='relabeled_syllables', index=['age', 'mouse','cage','uuid','subject_name']).fillna(0)\n",
    "data_folder = Path('/n/groups/datta/win/longtogeny/data/ontogeny/version_08')\n",
    "usage_mtx.to_parquet(data_folder / \"longv2_females_clean_v1.parquet\", engine='pyarrow') "
   ]
  },
  {
   "cell_type": "code",
   "execution_count": 22,
   "id": "1a51b45e",
   "metadata": {},
   "outputs": [],
   "source": [
    "# find ages where less than 9 data points exists and filter them out (not sure we want that)\n",
    "temp = usage_df.pivot_table(values='usage', columns='relabeled_syllables', index=['age','uuid','subject_name','date']).fillna(0).reset_index()\n",
    "counter = Counter(temp['age'])\n",
    "thresh=9\n",
    "remove_sessions = ([k for k, v in counter.items() if v < thresh])\n",
    "usage_df = usage_df[~usage_df['age'].isin(remove_sessions)]"
   ]
  },
  {
   "cell_type": "markdown",
   "id": "d39f4ffa",
   "metadata": {},
   "source": [
    "## save dataframe"
   ]
  },
  {
   "cell_type": "code",
   "execution_count": 23,
   "id": "c83b5580",
   "metadata": {},
   "outputs": [],
   "source": [
    "usage_mtx = usage_df.pivot_table(values='usage', columns='relabeled_syllables', index=['age', 'mouse','cage','uuid','subject_name']).fillna(0)\n",
    "data_folder = Path('/n/groups/datta/win/longtogeny/data/ontogeny/version_08')\n",
    "usage_mtx.to_parquet(data_folder / \"longv2_females_clean_v2.parquet\", engine='pyarrow') "
   ]
  }
 ],
 "metadata": {
  "kernelspec": {
   "display_name": "Python 3 (ipykernel)",
   "language": "python",
   "name": "python3"
  },
  "language_info": {
   "codemirror_mode": {
    "name": "ipython",
    "version": 3
   },
   "file_extension": ".py",
   "mimetype": "text/x-python",
   "name": "python",
   "nbconvert_exporter": "python",
   "pygments_lexer": "ipython3",
   "version": "3.10.12"
  }
 },
 "nbformat": 4,
 "nbformat_minor": 5
}
