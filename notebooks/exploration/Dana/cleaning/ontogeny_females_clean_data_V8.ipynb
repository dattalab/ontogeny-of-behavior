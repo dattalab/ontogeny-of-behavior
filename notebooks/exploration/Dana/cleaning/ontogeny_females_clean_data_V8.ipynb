{
 "cells": [
  {
   "cell_type": "code",
   "execution_count": 1,
   "metadata": {},
   "outputs": [],
   "source": [
    "import pandas as pd\n",
    "import matplotlib.pyplot as plt\n",
    "import seaborn as sns\n",
    "import numpy as np\n",
    "from aging.behavior.syllables import relabel_by_usage, assign_onsets\n",
    "import colorcet as cc\n",
    "from pathlib import Path"
   ]
  },
  {
   "cell_type": "code",
   "execution_count": 2,
   "metadata": {},
   "outputs": [],
   "source": [
    "def age_map_fun(age):\n",
    "    try:\n",
    "        return int(age.split(\"w\")[0])\n",
    "    except ValueError:\n",
    "        return {\"3\": 12, \"6\": 24, \"9\": 35, \"12\": 52, \"18\": 72, \"22\": 90}[\n",
    "            age.split(\"m\")[0]\n",
    "        ]"
   ]
  },
  {
   "cell_type": "markdown",
   "metadata": {},
   "source": [
    "## upload data and housekeeping"
   ]
  },
  {
   "cell_type": "code",
   "execution_count": 3,
   "metadata": {},
   "outputs": [],
   "source": [
    "## get syllable maps from male ontogeny\n",
    "df_temp = pd.read_parquet('/n/groups/datta/win/longtogeny/data/ontogeny/version_08/ontogeny_males_syllable_df_v00.parquet')\n",
    "df_temp,usage_map = relabel_by_usage(df_temp, return_map=True)"
   ]
  },
  {
   "cell_type": "code",
   "execution_count": 4,
   "metadata": {},
   "outputs": [],
   "source": [
    "df = pd.read_parquet('/n/groups/datta/win/longtogeny/data/ontogeny/version_08/ontogeny_females_syllable_df_v00.parquet')"
   ]
  },
  {
   "cell_type": "code",
   "execution_count": 5,
   "metadata": {},
   "outputs": [],
   "source": [
    "# relabel syllables by usage and add age\n",
    "#df = relabel_by_usage(df, return_map=False)\n",
    "df = assign_onsets(df)\n",
    "# remove CRl mice\n",
    "df = df[~df['session_name'].str.contains('CRL')]\n",
    "df['relabeled_syllables'] = df['syllables'].map(usage_map)\n",
    "#df['age'] = df['age'].map(age_map)"
   ]
  },
  {
   "cell_type": "code",
   "execution_count": 6,
   "metadata": {},
   "outputs": [],
   "source": [
    "unique_ages = df['age'].unique()\n",
    "age_map = dict(zip(unique_ages, map(age_map_fun, unique_ages)))\n",
    "df['age'] = df['age'].map(age_map).astype('int16[pyarrow]')"
   ]
  },
  {
   "cell_type": "code",
   "execution_count": 7,
   "metadata": {},
   "outputs": [],
   "source": [
    "df.age.unique()"
   ]
  },
  {
   "cell_type": "code",
   "execution_count": 8,
   "metadata": {},
   "outputs": [],
   "source": [
    "# clean up the data by removing short sessions\n",
    "t = 600\n",
    "session_length = df.groupby(\"uuid\", sort=False)['timestamps'].max()\n",
    "remove_uuids = session_length[session_length < t].index\n",
    "session_length.hist()\n",
    "df = df[~df['uuid'].isin(remove_uuids)]"
   ]
  },
  {
   "cell_type": "code",
   "execution_count": 9,
   "metadata": {},
   "outputs": [],
   "source": [
    "# remove duplicated files due to cleaning extractions\n",
    "new_df = []\n",
    "for (date, subject), _df in df.groupby(['date', 'subject_name'], sort=False):\n",
    "    if _df['uuid'].nunique() > 1:\n",
    "        _df = _df[_df['file'].str.contains('proc_cleaned')]\n",
    "    new_df.append(_df)\n",
    "    \n",
    "df = pd.concat(new_df)"
   ]
  },
  {
   "cell_type": "code",
   "execution_count": 10,
   "metadata": {},
   "outputs": [],
   "source": [
    "# computer usage"
   ]
  },
  {
   "cell_type": "code",
   "execution_count": 11,
   "metadata": {},
   "outputs": [],
   "source": [
    "usage_df = df.query('onsets').groupby(['age', 'subject_name', 'session_name','uuid','date'])['relabeled_syllables'].value_counts(normalize=True)\n",
    "usage_df.name = 'usage'\n",
    "usage_df = usage_df.reset_index()\n",
    "usage_mtx = usage_df.pivot_table(values='usage', columns='relabeled_syllables', index=['age','subject_name','session_name', 'uuid','date']).fillna(0)"
   ]
  },
  {
   "cell_type": "code",
   "execution_count": 12,
   "metadata": {},
   "outputs": [],
   "source": [
    "v = df.groupby(['age','subject_name','session_name', 'uuid','date']).velocity_2d_mm.mean()\n",
    "usage_mtx['velocity'] = v\n",
    "usage_mtx.set_index('velocity', append=True, inplace=True)\n",
    "usage_mtx = usage_mtx.drop(35, level='age')"
   ]
  },
  {
   "cell_type": "code",
   "execution_count": 13,
   "metadata": {},
   "outputs": [],
   "source": [
    "from collections import Counter\n",
    "Counter(usage_mtx.index.get_level_values(0))"
   ]
  },
  {
   "cell_type": "code",
   "execution_count": 14,
   "metadata": {},
   "outputs": [],
   "source": [
    "plt.plot(usage_mtx.values.T, c='k', alpha=0.2);"
   ]
  },
  {
   "cell_type": "code",
   "execution_count": 15,
   "metadata": {},
   "outputs": [],
   "source": [
    "# remove sessions with abnormally high syllable usage\n",
    "us = 0.2\n",
    "usage_mtx = usage_mtx[~(usage_mtx > us).any(axis=1)]\n",
    "plt.plot(usage_mtx.values.T, c='k', alpha=0.2);"
   ]
  },
  {
   "cell_type": "code",
   "execution_count": 16,
   "metadata": {},
   "outputs": [],
   "source": [
    "um = usage_mtx.reset_index()\n",
    "from collections import Counter\n",
    "Counter(um.age)"
   ]
  },
  {
   "cell_type": "code",
   "execution_count": 17,
   "metadata": {},
   "outputs": [],
   "source": [
    "data_folder = Path('/n/groups/datta/win/longtogeny/data/ontogeny/version_08')\n",
    "usage_mtx.to_parquet(data_folder / \"ontogeny_females_clean_v1.parquet\", engine='pyarrow') "
   ]
  },
  {
   "cell_type": "code",
   "execution_count": 18,
   "metadata": {},
   "outputs": [],
   "source": [
    "#get random 16 mice per age\n",
    "#get random 16 mice for ages in which there are more than 16 mice\n",
    "n=16\n",
    "usage_mtx = usage_mtx.groupby('age').apply(lambda x: x.sample(n=n,replace=False) if len(x)>n else x.sample(n=len(x),replace=False)).reset_index(level=0, drop=True)"
   ]
  },
  {
   "cell_type": "code",
   "execution_count": 19,
   "metadata": {},
   "outputs": [],
   "source": [
    "um = usage_mtx.reset_index()\n",
    "from collections import Counter\n",
    "Counter(um.age)"
   ]
  },
  {
   "cell_type": "code",
   "execution_count": 20,
   "metadata": {},
   "outputs": [],
   "source": [
    "data_folder = Path('/n/groups/datta/win/longtogeny/data/ontogeny/version_08')\n",
    "usage_mtx.to_parquet(data_folder / \"ontogeny_females_clean_v2.parquet\", engine='pyarrow') "
   ]
  }
 ],
 "metadata": {
  "kernelspec": {
   "display_name": "Python 3 (ipykernel)",
   "language": "python",
   "name": "python3"
  },
  "language_info": {
   "codemirror_mode": {
    "name": "ipython",
    "version": 3
   },
   "file_extension": ".py",
   "mimetype": "text/x-python",
   "name": "python",
   "nbconvert_exporter": "python",
   "pygments_lexer": "ipython3",
   "version": "3.10.12"
  }
 },
 "nbformat": 4,
 "nbformat_minor": 2
}
