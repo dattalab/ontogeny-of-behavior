{
 "cells": [
  {
   "cell_type": "code",
   "execution_count": 1,
   "id": "a77ea523",
   "metadata": {},
   "outputs": [],
   "source": [
    "import numpy as np\n",
    "import pandas as pd\n",
    "import matplotlib.pyplot as plt\n",
    "import seaborn as sns\n",
    "from pathlib import Path\n",
    "import matplotlib as mpl\n",
    "import os\n",
    "from matplotlib.lines import Line2D\n",
    "from collections import Counter\n",
    "import math\n",
    "from sklearn.decomposition import PCA\n",
    "from aging.behavior.syllables import relabel_by_usage\n",
    "from tqdm import tqdm\n",
    "%matplotlib inline\n",
    "import warnings\n",
    "warnings.simplefilter('ignore')\n",
    "import random\n",
    "import scipy\n",
    "from sklearn.cluster import KMeans\n",
    "from sklearn.preprocessing import StandardScaler\n",
    "from sklearn.metrics import adjusted_rand_score\n",
    "from kneed import KneeLocator\n",
    "from sklearn.metrics import silhouette_score\n",
    "%matplotlib inline\n",
    "from aging.plotting import format_plots, PlotConfig, save_factory, figure, legend, format_pizza_plots\n",
    "from sklearn.linear_model import ElasticNet\n",
    "from sklearn.preprocessing import MinMaxScaler\n",
    "import sklearn.feature_selection as sfs"
   ]
  },
  {
   "cell_type": "code",
   "execution_count": 2,
   "id": "2855503e",
   "metadata": {},
   "outputs": [],
   "source": [
    "from sklearn.pipeline import Pipeline\n",
    "from sklearn.svm import SVC\n",
    "from sklearn.preprocessing import FunctionTransformer\n",
    "from sklearn.decomposition import PCA\n",
    "from sklearn.model_selection import cross_val_score, StratifiedKFold, LeaveOneOut, RepeatedStratifiedKFold"
   ]
  },
  {
   "cell_type": "code",
   "execution_count": 3,
   "id": "0a49a035",
   "metadata": {},
   "outputs": [],
   "source": [
    "format_plots()\n",
    "#format_pizza_plots()"
   ]
  },
  {
   "cell_type": "code",
   "execution_count": 4,
   "id": "9b68b96f",
   "metadata": {},
   "outputs": [],
   "source": [
    "def mm_norm_col(column):\n",
    "    return (column - column.min()) / (column.max() - column.min())"
   ]
  },
  {
   "cell_type": "code",
   "execution_count": 5,
   "id": "dbcf364c",
   "metadata": {},
   "outputs": [],
   "source": [
    "# Log transform function\n",
    "def log_transform(x):\n",
    "    return np.log1p(x + 1e-6)"
   ]
  },
  {
   "cell_type": "code",
   "execution_count": 6,
   "id": "c24ea0c4",
   "metadata": {},
   "outputs": [],
   "source": [
    "# Create pipeline\n",
    "pipeline = Pipeline([\n",
    "    ('log_transform', FunctionTransformer(log_transform)),\n",
    "    #('scaler', StandardScaler()),\n",
    "    ('pca', PCA(n_components=11)),\n",
    "    #(\"fs\", sfs.SelectKBest(sfs.f_classif, k=50)),\n",
    "    #('svm', SVC(kernel='linear'),\n",
    "    ('svm', SVC(kernel=\"rbf\"),\n",
    "    #('svm', SVC(kernel=\"sigmoid\"),\n",
    "    )\n",
    "])\n",
    "skf = StratifiedKFold(n_splits=5, shuffle=True, random_state=42)\n",
    "rkf = RepeatedStratifiedKFold(n_splits=5, n_repeats=50, random_state=42)\n",
    "loo = LeaveOneOut()"
   ]
  },
  {
   "cell_type": "code",
   "execution_count": 7,
   "id": "b11d07e8",
   "metadata": {},
   "outputs": [],
   "source": [
    "from matplotlib.colors import LinearSegmentedColormap\n",
    "# Define the color map\n",
    "colors = ['#008C8D','white','#d94801']\n",
    "custom_cmap = LinearSegmentedColormap.from_list(\"custom_purples\", colors, N=256)\n",
    "cmmf=custom_cmap\n",
    "\n",
    "colors = ['#dadaeb','#6a51a3']\n",
    "custom_cmap = LinearSegmentedColormap.from_list(\"custom_purples\", colors, N=256)\n",
    "cma=custom_cmap\n",
    "\n",
    "colors = ['white','gray']\n",
    "custom_cmap = LinearSegmentedColormap.from_list(\"custom_purples\", colors, N=256)\n",
    "cma=custom_cmap\n",
    "\n",
    "colors = ['#ccece6','#99d8c9','#66c2a4','#41ae76','#238b45','#006d2c']\n",
    "cml = sns.blend_palette(colors, n_colors=256, as_cmap=True)\n",
    "\n",
    "# Define the color map\n",
    "colors = ['#fee6ce','#d94801']\n",
    "custom_cmap = LinearSegmentedColormap.from_list(\"custom_purples\", colors, N=256)\n",
    "cmf=custom_cmap\n",
    "\n",
    "colors = ['#c7eae5','#008C8D']\n",
    "custom_cmap = LinearSegmentedColormap.from_list(\"custom_purples\", colors, N=256)\n",
    "cmm=custom_cmap"
   ]
  },
  {
   "cell_type": "code",
   "execution_count": 8,
   "id": "84f34d12",
   "metadata": {},
   "outputs": [],
   "source": [
    "keep_syllables = np.loadtxt('/n/groups/datta/win/longtogeny/data/ontogeny/version_11/to_keep_syllables_raw.txt', dtype=int)\n",
    "\n",
    "df = pd.read_parquet('/n/groups/datta/win/longtogeny/data/ontogeny/version_11-1/longtogeny_v2_females_raw_usage_matrix_v00.parquet').astype(float)\n",
    "df = df[keep_syllables].groupby(['age','uuid','mouse']).mean()\n",
    "\n",
    "# take only first sample from each week\n",
    "ages= df.index.get_level_values('age')\n",
    "weeks = (ages * 7) // 14\n",
    "df['binned_age'] = weeks\n",
    "\n",
    "sample = df.groupby(['mouse','binned_age']).mean().reset_index()\n",
    "df_female = sample.copy()\n",
    "df_female.rename(columns={'binned_age': 'age'}, inplace=True)\n",
    "df_female.set_index(['age', 'mouse'], inplace=True)\n",
    "df_female = df_female.query('mouse!=\"F4_03\"')"
   ]
  },
  {
   "cell_type": "code",
   "execution_count": 9,
   "id": "24d6e7ae",
   "metadata": {},
   "outputs": [],
   "source": [
    "keep_syllables = np.loadtxt('/n/groups/datta/win/longtogeny/data/ontogeny/version_11/to_keep_syllables_raw.txt', dtype=int)\n",
    "\n",
    "df = pd.read_parquet('/n/groups/datta/win/longtogeny/data/ontogeny/version_11-1/longtogeny_v2_males_raw_usage_matrix_v00.parquet').astype(float)\n",
    "df = df[keep_syllables].groupby(['age','mouse']).mean()\n",
    "\n",
    "ages= df.index.get_level_values('age')\n",
    "weeks = (ages * 7) // 14\n",
    "df['binned_age'] = weeks\n",
    "sample = df.groupby(['mouse','binned_age']).mean().reset_index()\n",
    "df_male=sample.copy()\n",
    "df_male.rename(columns={'binned_age': 'age'}, inplace=True)\n",
    "\n",
    "df_male.set_index(['age', 'mouse'], inplace=True)"
   ]
  },
  {
   "cell_type": "code",
   "execution_count": 10,
   "id": "17b3cb33",
   "metadata": {},
   "outputs": [],
   "source": [
    "# avarage per age or session\n",
    "f_df= df_female.groupby(['age','mouse']).mean()\n",
    "avg_f_df = f_df.groupby(['age']).mean()\n",
    "\n",
    "# normalize the data\n",
    "f_norm = mm_norm_col(f_df)\n",
    "avg_f_norm = mm_norm_col(avg_f_df)\n",
    "\n",
    "# avarage per age or session\n",
    "m_df= df_male.groupby(['age','mouse']).mean()\n",
    "avg_m_df = m_df.groupby(['age']).mean()\n",
    "\n",
    "# normalize the data\n",
    "m_norm = mm_norm_col(m_df)\n",
    "avg_m_norm = mm_norm_col(avg_m_df)"
   ]
  },
  {
   "cell_type": "code",
   "execution_count": 11,
   "id": "42f8b7e7",
   "metadata": {},
   "outputs": [],
   "source": [
    "## joint data\n",
    "#m_data=m_norm.copy()\n",
    "m_data=m_df.copy()\n",
    "m_data['sex'] = 'm'\n",
    "m_data.set_index('sex',inplace=True,append=True)\n",
    "\n",
    "#f_data=f_norm.copy()\n",
    "f_data=f_df.copy()\n",
    "f_data['sex'] = 'f'\n",
    "f_data.set_index('sex',inplace=True,append=True)"
   ]
  },
  {
   "cell_type": "code",
   "execution_count": 12,
   "id": "b8fb1d58",
   "metadata": {},
   "outputs": [],
   "source": [
    "data=pd.concat([m_data,f_data])"
   ]
  },
  {
   "cell_type": "code",
   "execution_count": 13,
   "id": "c58fa838",
   "metadata": {},
   "outputs": [],
   "source": [
    "df=data.copy()\n",
    "# choose a model for decoder\n",
    "clf = SVC(kernel='linear') \n",
    "cv = LeaveOneOut()\n",
    "#number of iterations for shuffle\n",
    "it=100"
   ]
  },
  {
   "cell_type": "code",
   "execution_count": 14,
   "id": "e34838f6",
   "metadata": {},
   "outputs": [
    {
     "name": "stderr",
     "output_type": "stream",
     "text": [
      "100%|███████████████████████████████████████████████████████████████████████████████████████████████████████████████████████████████████████████████████████████████████████████████████████████████████████████████████████████████████████████████████████| 100/100 [14:37<00:00,  8.78s/it]\n"
     ]
    }
   ],
   "source": [
    "age2=[]\n",
    "acc=[]\n",
    "n=10\n",
    "#n=16\n",
    "for i in tqdm(range(it)):\n",
    "    temp = df.groupby(level=['age', 'sex']).apply(lambda x: x.sample(n=n,replace=False, random_state=i)).reset_index(level=[0, 1],drop=True)\n",
    "    for age,_df in enumerate(temp.groupby('age')):\n",
    "        age2.append(_df[0])\n",
    "        x = _df[1].to_numpy()\n",
    "        y=_df[1].index.get_level_values('sex')\n",
    "        acc.append(np.mean(cross_val_score(pipeline, x, y, cv=rkf, n_jobs=-1)))"
   ]
  },
  {
   "cell_type": "code",
   "execution_count": 15,
   "id": "540162be",
   "metadata": {},
   "outputs": [],
   "source": [
    "# create df for plotting\n",
    "df = pd.DataFrame()\n",
    "df['acc']=acc\n",
    "df['ages'] = age2"
   ]
  },
  {
   "cell_type": "code",
   "execution_count": 16,
   "id": "bbd353f4",
   "metadata": {},
   "outputs": [
    {
     "data": {
      "text/plain": [
       "0.8356464"
      ]
     },
     "execution_count": 16,
     "metadata": {},
     "output_type": "execute_result"
    }
   ],
   "source": [
    "df.acc.mean()"
   ]
  },
  {
   "cell_type": "code",
   "execution_count": 17,
   "id": "a45d317b",
   "metadata": {},
   "outputs": [],
   "source": [
    "df=data.copy()"
   ]
  },
  {
   "cell_type": "code",
   "execution_count": 18,
   "id": "4daa8e46",
   "metadata": {},
   "outputs": [
    {
     "name": "stderr",
     "output_type": "stream",
     "text": [
      "100%|███████████████████████████████████████████████████████████████████████████████████████████████████████████████████████████████████████████████████████████████████████████████████████████████████████████████████████████████████████████████████████| 100/100 [15:00<00:00,  9.00s/it]\n"
     ]
    }
   ],
   "source": [
    "sh_ages=[]\n",
    "sh_acc=[]\n",
    "\n",
    "for i in tqdm(range(it)):\n",
    "    temp = df.groupby(level=['age', 'sex']).apply(lambda x: x.sample(n=n,replace=False, random_state=i)).reset_index(level=[0, 1],drop=True)\n",
    "    for age,_df in enumerate(temp.groupby('age')):\n",
    "        sh_ages.append(_df[0])\n",
    "        x = _df[1].to_numpy()\n",
    "        y=_df[1].index.get_level_values('sex')\n",
    "        y = y.to_series().sample(frac=1, random_state=i).values\n",
    "        sh_acc.append(np.mean(cross_val_score(pipeline, x, y, cv=rkf, n_jobs=-1)))"
   ]
  },
  {
   "cell_type": "code",
   "execution_count": 19,
   "id": "bec247d3",
   "metadata": {},
   "outputs": [],
   "source": [
    "# create df for plotting\n",
    "df_sh = pd.DataFrame()\n",
    "df_sh['acc']=sh_acc\n",
    "df_sh['ages'] = sh_ages\n",
    "\n",
    "df = pd.DataFrame()\n",
    "df['acc']=acc\n",
    "df['ages'] = age2"
   ]
  },
  {
   "cell_type": "code",
   "execution_count": 20,
   "id": "e37582c9",
   "metadata": {},
   "outputs": [
    {
     "data": {
      "image/png": "[encoded data removed]",
      "text/plain": [
       "<Figure size 200x200 with 1 Axes>"
      ]
     },
     "metadata": {},
     "output_type": "display_data"
    }
   ],
   "source": [
    "fig, ax = plt.subplots(figsize=(1, 1))\n",
    "sns.lineplot(data=df_sh, x=\"ages\", y=\"acc\", ax=ax, color='black', estimator='mean', errorbar=('sd', 1))\n",
    "sns.lineplot(data=df, x=\"ages\", y=\"acc\", ax=ax, color='purple', estimator='mean', errorbar=('sd', 1))\n",
    "plt.ylim([0.0,1])\n",
    "plt.legend([],[], frameon=False)\n",
    "# Set custom x-ticks\n",
    "#plt.xticks([2,5,10,15,20,25,30,35,])\n",
    "sns.despine()\n"
   ]
  },
  {
   "cell_type": "code",
   "execution_count": 21,
   "id": "469f8e4d",
   "metadata": {},
   "outputs": [],
   "source": [
    "c = PlotConfig()\n",
    "fig.savefig(c.dana_save_path / \"fig3\"/ '07_20_fvm_sex_decoder_line.pdf', bbox_inches='tight')"
   ]
  }
 ],
 "metadata": {
  "kernelspec": {
   "display_name": "Python 3 (ipykernel)",
   "language": "python",
   "name": "python3"
  },
  "language_info": {
   "codemirror_mode": {
    "name": "ipython",
    "version": 3
   },
   "file_extension": ".py",
   "mimetype": "text/x-python",
   "name": "python",
   "nbconvert_exporter": "python",
   "pygments_lexer": "ipython3",
   "version": "3.10.12"
  }
 },
 "nbformat": 4,
 "nbformat_minor": 5
}
