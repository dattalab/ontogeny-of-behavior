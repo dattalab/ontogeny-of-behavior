{
 "cells": [
  {
   "cell_type": "code",
   "execution_count": 1,
   "id": "a77ea523",
   "metadata": {},
   "outputs": [],
   "source": [
    "import numpy as np\n",
    "import pandas as pd\n",
    "import matplotlib.pyplot as plt\n",
    "import seaborn as sns\n",
    "from pathlib import Path\n",
    "import matplotlib as mpl\n",
    "import os\n",
    "from matplotlib.lines import Line2D\n",
    "from collections import Counter\n",
    "import math\n",
    "from sklearn.decomposition import PCA\n",
    "from aging.behavior.syllables import relabel_by_usage\n",
    "from tqdm import tqdm\n",
    "%matplotlib inline\n",
    "import warnings\n",
    "warnings.simplefilter('ignore')\n",
    "import random\n",
    "import scipy\n",
    "from sklearn.cluster import KMeans\n",
    "from sklearn.preprocessing import StandardScaler\n",
    "from sklearn.metrics import adjusted_rand_score\n",
    "from kneed import KneeLocator\n",
    "from sklearn.metrics import silhouette_score\n",
    "%matplotlib inline\n",
    "from aging.plotting import format_plots, PlotConfig, save_factory, figure, legend, format_pizza_plots\n",
    "from sklearn.linear_model import ElasticNet\n",
    "from sklearn.preprocessing import MinMaxScaler"
   ]
  },
  {
   "cell_type": "code",
   "execution_count": 2,
   "id": "2855503e",
   "metadata": {},
   "outputs": [],
   "source": [
    "from sklearn.pipeline import Pipeline\n",
    "from sklearn.svm import SVC\n",
    "from sklearn.preprocessing import FunctionTransformer\n",
    "from sklearn.decomposition import PCA\n",
    "from sklearn.model_selection import cross_val_score, StratifiedKFold"
   ]
  },
  {
   "cell_type": "code",
   "execution_count": 3,
   "id": "0a49a035",
   "metadata": {},
   "outputs": [],
   "source": [
    "format_plots()\n",
    "#format_pizza_plots()"
   ]
  },
  {
   "cell_type": "code",
   "execution_count": 4,
   "id": "9b68b96f",
   "metadata": {},
   "outputs": [],
   "source": [
    "def mm_norm_col(column):\n",
    "    return (column - column.min()) / (column.max() - column.min())"
   ]
  },
  {
   "cell_type": "code",
   "execution_count": 5,
   "id": "455249f7",
   "metadata": {},
   "outputs": [],
   "source": [
    "# Log transform function\n",
    "def log_transform(x):\n",
    "    return np.log1p(x + 1e-6)"
   ]
  },
  {
   "cell_type": "code",
   "execution_count": 6,
   "id": "08f67698",
   "metadata": {},
   "outputs": [],
   "source": [
    "# Create pipeline\n",
    "pipeline = Pipeline([\n",
    "    ('log_transform', FunctionTransformer(log_transform)),\n",
    "    ('pca', PCA(n_components=11)),\n",
    "    ('svm', SVC(kernel='linear'))\n",
    "])\n",
    "stratified_kfold = StratifiedKFold(n_splits=5, shuffle=True, random_state=42)"
   ]
  },
  {
   "cell_type": "code",
   "execution_count": 7,
   "id": "55bb17f5",
   "metadata": {},
   "outputs": [],
   "source": [
    "from matplotlib.colors import LinearSegmentedColormap\n",
    "# Define the color map\n",
    "colors = ['#d94801','white','#008C8D']\n",
    "custom_cmap = LinearSegmentedColormap.from_list(\"custom_purples\", colors, N=256)\n",
    "cmmf=custom_cmap\n",
    "\n",
    "colors = ['#dadaeb','#6a51a3']\n",
    "custom_cmap = LinearSegmentedColormap.from_list(\"custom_purples\", colors, N=256)\n",
    "cma=custom_cmap\n",
    "\n",
    "colors = ['white','gray']\n",
    "custom_cmap = LinearSegmentedColormap.from_list(\"custom_purples\", colors, N=256)\n",
    "cma=custom_cmap\n",
    "\n",
    "colors = ['#ccece6','#99d8c9','#66c2a4','#41ae76','#238b45','#006d2c']\n",
    "cml = sns.blend_palette(colors, n_colors=256, as_cmap=True)\n",
    "\n",
    "# Define the color map\n",
    "colors = ['#fee6ce','#d94801']\n",
    "custom_cmap = LinearSegmentedColormap.from_list(\"custom_purples\", colors, N=256)\n",
    "cmf=custom_cmap\n",
    "\n",
    "colors = ['#c7eae5','#008C8D']\n",
    "custom_cmap = LinearSegmentedColormap.from_list(\"custom_purples\", colors, N=256)\n",
    "cmm=custom_cmap"
   ]
  },
  {
   "cell_type": "code",
   "execution_count": 8,
   "id": "a721aa49",
   "metadata": {},
   "outputs": [],
   "source": [
    "## arrange data\n",
    "keep_syllables = np.loadtxt('/n/groups/datta/win/longtogeny/data/ontogeny/version_11/to_keep_syllables_raw.txt', dtype=int)\n",
    "\n",
    "male_df = pd.read_parquet('/n/groups/datta/win/longtogeny/data/ontogeny/version_11-1/ontogeny_males_raw_usage_matrix_v00.parquet').astype(float)\n",
    "male_df = male_df[keep_syllables]\n",
    "m_df= male_df.groupby(['age','uuid']).mean()\n",
    "\n",
    "\n",
    "## arrange data for females\n",
    "keep_syllables = np.loadtxt('/n/groups/datta/win/longtogeny/data/ontogeny/version_11/to_keep_syllables_raw.txt', dtype=int)\n",
    "\n",
    "female_df = pd.read_parquet('/n/groups/datta/win/longtogeny/data/ontogeny/version_11-1/ontogeny_females_raw_usage_matrix_v00.parquet').astype(float)\n",
    "female_df = female_df[keep_syllables]\n",
    "\n",
    "\n",
    "# for female:\n",
    "f_df= female_df.groupby(['age','uuid']).mean()\n",
    "# Update age value to 52 for rows with uuid in the list\n",
    "uuids = ['f1d5dce5-f5cf-4b03-b07d-d9b8c1f034b0','6fa50ac7-6d49-4ef9-9059-3d90bdd8c5d4',\n",
    "         'e9e05da8-fc59-40f3-a9c8-f57c492c6141','327e7fa1-2237-43d2-b25f-c1801912df33',\n",
    "        '242bee8e-0ee7-45e7-8a13-678836a4cddb','552ec70f-0676-4471-8ab0-403e1fcf43e3','d6f254af-d55a-427a-96e0-c452a233cbe2']\n",
    "f_df.reset_index(inplace=True)\n",
    "\n",
    "age_mapping = {\n",
    "    93: 94,\n",
    "    95: 94,\n",
    "    97: 98,\n",
    "    98: 98,\n",
    "    102: 98,\n",
    "    103: 105,\n",
    "    105: 105,\n",
    "    107: 105\n",
    "}\n",
    "\n",
    "f_df['age'] = f_df['age'].map(age_mapping).fillna(f_df['age'])\n",
    "f_df.loc[f_df['uuid'].isin(uuids), 'age'] = 52\n",
    "# Set the index back\n",
    "f_df.set_index(['age', 'uuid'], inplace=True)\n",
    "f_df=f_df.query('age<127')"
   ]
  },
  {
   "cell_type": "code",
   "execution_count": 9,
   "id": "3a603c67",
   "metadata": {},
   "outputs": [],
   "source": [
    "# use only common ages\n",
    "f_ages = f_df.index.get_level_values('age').unique().to_numpy()\n",
    "m_ages = m_df.index.get_level_values('age').unique().to_numpy()\n",
    "cages = list(np.intersect1d(f_ages,m_ages))\n",
    "\n",
    "m_data = m_df.loc[m_df.index.get_level_values('age').isin(cages)]\n",
    "m_data['sex'] = 'm'\n",
    "m_data.set_index('sex',inplace=True,append=True)\n",
    "\n",
    "f_data = f_df.loc[f_df.index.get_level_values('age').isin(cages)]\n",
    "f_data['sex'] = 'f'\n",
    "f_data.set_index('sex',inplace=True,append=True)\n",
    "data=pd.concat([m_data,f_data])"
   ]
  },
  {
   "cell_type": "code",
   "execution_count": 10,
   "id": "b8fb1d58",
   "metadata": {},
   "outputs": [],
   "source": [
    "#average and normalize male\n",
    "avg_m_df = m_data.groupby(['age']).mean()\n",
    "# normalize the data\n",
    "m_norm = mm_norm_col(m_data)\n",
    "avg_m_norm = mm_norm_col(avg_m_df)\n",
    "\n",
    "#average and normalize female\n",
    "avg_f_df = f_data.groupby(['age']).mean()\n",
    "# normalize the data\n",
    "f_norm = mm_norm_col(f_data)\n",
    "avg_f_norm = mm_norm_col(avg_f_df)\n",
    "\n",
    "data=pd.concat([m_data,f_data])"
   ]
  },
  {
   "cell_type": "code",
   "execution_count": 11,
   "id": "c58fa838",
   "metadata": {},
   "outputs": [],
   "source": [
    "df=data.copy()\n",
    "it=100"
   ]
  },
  {
   "cell_type": "code",
   "execution_count": 12,
   "id": "8c26eb6e",
   "metadata": {},
   "outputs": [
    {
     "name": "stderr",
     "output_type": "stream",
     "text": [
      "100%|███████████████████████████████████████████████████████████████████████████████████████████████████████████████████████████████████████████████████████████████████████| 100/100 [00:55<00:00,  1.79it/s]\n"
     ]
    }
   ],
   "source": [
    "age2=[]\n",
    "acc=[]\n",
    "n=10\n",
    "for i in tqdm(range(it)):\n",
    "    temp = df.groupby(level=['age', 'sex']).apply(lambda x: x.sample(n=n,replace=False, random_state=i)).reset_index(level=[0, 1],drop=True)\n",
    "    for age,_df in enumerate(temp.groupby('age')):\n",
    "        age2.append(_df[0])\n",
    "        x = _df[1].to_numpy()\n",
    "        y=_df[1].index.get_level_values('sex')\n",
    "        #acc.append(np.mean(cross_val_score(clf, x, y, cv=cv, n_jobs=-1)))\n",
    "        acc.append(np.mean(cross_val_score(pipeline, x, y, cv=stratified_kfold, n_jobs=-1)))"
   ]
  },
  {
   "cell_type": "code",
   "execution_count": 13,
   "id": "4429a18e",
   "metadata": {},
   "outputs": [
    {
     "name": "stderr",
     "output_type": "stream",
     "text": [
      "100%|███████████████████████████████████████████████████████████████████████████████████████████████████████████████████████████████████████████████████████████████████████| 100/100 [00:58<00:00,  1.70it/s]\n"
     ]
    }
   ],
   "source": [
    "sh_ages=[]\n",
    "sh_acc=[]\n",
    "\n",
    "for i in tqdm(range(it)):\n",
    "    temp = df.groupby(level=['age', 'sex']).apply(lambda x: x.sample(n=n,replace=False, random_state=i)).reset_index(level=[0, 1],drop=True)\n",
    "    # Extract the MultiIndex levels\n",
    "    index_df = temp.index.to_frame()\n",
    "    index_df['sex'] = index_df['sex'].sample(frac=1, random_state=42).values\n",
    "    # Create a new MultiIndex with the shuffled 'sex'\n",
    "    temp.index = pd.MultiIndex.from_frame(index_df)\n",
    "    for age,_df in enumerate(temp.groupby('age')):\n",
    "        sh_ages.append(_df[0])\n",
    "        x = _df[1].to_numpy()\n",
    "        y=_df[1].index.get_level_values('sex')\n",
    "        #sh_acc.append(np.mean(cross_val_score(clf, x, y, cv=cv, n_jobs=-1)))\n",
    "        sh_acc.append(np.mean(cross_val_score(pipeline, x, y, cv=stratified_kfold, n_jobs=-1)))"
   ]
  },
  {
   "cell_type": "code",
   "execution_count": 14,
   "id": "bec247d3",
   "metadata": {},
   "outputs": [],
   "source": [
    "# create df for plotting\n",
    "df_sh = pd.DataFrame()\n",
    "df_sh['acc']=sh_acc\n",
    "df_sh['ages'] = sh_ages\n",
    "\n",
    "df = pd.DataFrame()\n",
    "df['acc']=acc\n",
    "df['ages'] = age2"
   ]
  },
  {
   "cell_type": "code",
   "execution_count": 15,
   "id": "e34838f6",
   "metadata": {},
   "outputs": [
    {
     "data": {
      "text/plain": [
       "\"\\nage2=[]\\nacc=[]\\nn=10\\nfor i in tqdm(range(it)):\\n    temp = df.groupby(level=['age', 'sex']).apply(lambda x: x.sample(n=n,replace=False, random_state=i)).reset_index(level=[0, 1],drop=True)\\n    for age,_df in enumerate(temp.groupby('age')):\\n        age2.append(_df[0])\\n        x = _df[1].to_numpy()\\n        y=_df[1].index.get_level_values('sex')\\n        acc.append(np.mean(cross_val_score(clf, x, y, cv=cv, n_jobs=-1)))\\n\""
      ]
     },
     "execution_count": 15,
     "metadata": {},
     "output_type": "execute_result"
    }
   ],
   "source": [
    "'''\n",
    "age2=[]\n",
    "acc=[]\n",
    "n=10\n",
    "for i in tqdm(range(it)):\n",
    "    temp = df.groupby(level=['age', 'sex']).apply(lambda x: x.sample(n=n,replace=False, random_state=i)).reset_index(level=[0, 1],drop=True)\n",
    "    for age,_df in enumerate(temp.groupby('age')):\n",
    "        age2.append(_df[0])\n",
    "        x = _df[1].to_numpy()\n",
    "        y=_df[1].index.get_level_values('sex')\n",
    "        acc.append(np.mean(cross_val_score(clf, x, y, cv=cv, n_jobs=-1)))\n",
    "'''"
   ]
  },
  {
   "cell_type": "code",
   "execution_count": 16,
   "id": "35bff88c",
   "metadata": {},
   "outputs": [
    {
     "data": {
      "image/png": "[encoded data removed]",
      "text/plain": [
       "<Figure size 200x200 with 1 Axes>"
      ]
     },
     "metadata": {},
     "output_type": "display_data"
    }
   ],
   "source": [
    "format_plots()\n",
    "fig, ax = plt.subplots(figsize=(1, 1))\n",
    "sns.lineplot(data=df_sh, x=\"ages\", y=\"acc\", ax=ax, color='black', estimator='mean', errorbar=('sd', 2))\n",
    "sns.lineplot (data=df, x='ages', y='acc', \n",
    "              markers=True, \n",
    "              marker='o',\n",
    "              markersize=4,\n",
    "              palette = cma,\n",
    "              hue='ages',\n",
    "              linestyle='-',\n",
    "              markeredgecolor='black', \n",
    "              markeredgewidth=0.25,\n",
    "              estimator='mean', \n",
    "              errorbar=('sd',2),\n",
    "            legend=False)\n",
    "plt.ylim([0.0,1.1])\n",
    "plt.legend([],[], frameon=False)\n",
    "# Set custom x-ticks\n",
    "plt.xticks([0, 20, 40, 60, 80])\n",
    "sns.despine()\n"
   ]
  },
  {
   "cell_type": "code",
   "execution_count": 17,
   "id": "b78e4fd0",
   "metadata": {},
   "outputs": [],
   "source": [
    "c = PlotConfig()\n",
    "fig.savefig(c.dana_save_path / \"fig1\"/ 'fvm_sex_decoder_svm_sd_pca.pdf', bbox_inches='tight')"
   ]
  },
  {
   "cell_type": "code",
   "execution_count": null,
   "id": "11759212",
   "metadata": {},
   "outputs": [],
   "source": []
  }
 ],
 "metadata": {
  "kernelspec": {
   "display_name": "Python 3 (ipykernel)",
   "language": "python",
   "name": "python3"
  },
  "language_info": {
   "codemirror_mode": {
    "name": "ipython",
    "version": 3
   },
   "file_extension": ".py",
   "mimetype": "text/x-python",
   "name": "python",
   "nbconvert_exporter": "python",
   "pygments_lexer": "ipython3",
   "version": "3.10.12"
  }
 },
 "nbformat": 4,
 "nbformat_minor": 5
}
