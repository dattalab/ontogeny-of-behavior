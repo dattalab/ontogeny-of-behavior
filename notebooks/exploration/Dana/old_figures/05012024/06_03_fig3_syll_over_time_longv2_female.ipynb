{
 "cells": [
  {
   "cell_type": "code",
   "execution_count": 1,
   "id": "a77ea523",
   "metadata": {},
   "outputs": [],
   "source": [
    "import numpy as np\n",
    "import pandas as pd\n",
    "import seaborn as sns\n",
    "import matplotlib.pyplot as plt\n",
    "from aging.plotting import format_plots, PlotConfig, save_factory, figure, legend, format_pizza_plots\n",
    "from collections import Counter\n",
    "from matplotlib.lines import Line2D"
   ]
  },
  {
   "cell_type": "code",
   "execution_count": 2,
   "id": "86571b2b",
   "metadata": {},
   "outputs": [],
   "source": [
    "def mm_norm_col(column):\n",
    "    return (column - column.min()) / (column.max() - column.min())"
   ]
  },
  {
   "cell_type": "code",
   "execution_count": 3,
   "id": "25a26386",
   "metadata": {},
   "outputs": [],
   "source": [
    "from matplotlib.colors import LinearSegmentedColormap\n",
    "colors = ['#c7eae5','#008C8D']\n",
    "custom_cmap = LinearSegmentedColormap.from_list(\"custom_purples\", colors, N=256)\n",
    "cmm=custom_cmap\n",
    "\n",
    "# Define the color map\n",
    "colors = ['#fee6ce','#d94801']\n",
    "custom_cmap = LinearSegmentedColormap.from_list(\"custom_purples\", colors, N=256)\n",
    "cmf=custom_cmap"
   ]
  },
  {
   "cell_type": "code",
   "execution_count": 4,
   "id": "6a43e450",
   "metadata": {},
   "outputs": [],
   "source": [
    "keep_syllables = np.loadtxt('/n/groups/datta/win/longtogeny/data/ontogeny/version_11/to_keep_syllables_raw.txt', dtype=int)\n",
    "\n",
    "df = pd.read_parquet('/n/groups/datta/win/longtogeny/data/ontogeny/version_11-1/longtogeny_v2_females_raw_usage_matrix_v00.parquet').astype(float)\n",
    "df = df[keep_syllables].groupby(['age','uuid','mouse']).mean()\n",
    "\n",
    "ages= df.index.get_level_values('age')\n",
    "weeks = (ages * 7) // 7\n",
    "df['binned_age'] = weeks\n",
    "sample = df.groupby(['mouse','binned_age']).first().reset_index()\n",
    "sample2 = df.groupby(['mouse','binned_age']).last().reset_index()\n",
    "sample2['binned_age'] = sample2['binned_age']+0.5\n",
    "df_male = pd.concat([sample,sample2])\n",
    "df_male.rename(columns={'binned_age': 'age'}, inplace=True)\n",
    "\n",
    "df_male.set_index(['age', 'mouse'], inplace=True)"
   ]
  },
  {
   "cell_type": "code",
   "execution_count": 5,
   "id": "3b206b07",
   "metadata": {},
   "outputs": [],
   "source": [
    "# avarage per age or session\n",
    "m_df= df_male.groupby(['age','mouse']).mean()\n",
    "avg_m_df = m_df.groupby(['age']).mean()\n",
    "\n",
    "# normalize the data\n",
    "m_norm = mm_norm_col(m_df)\n",
    "avg_m_norm = mm_norm_col(avg_m_df)\n",
    "\n",
    "# sort syllable order by the average\n",
    "syll_sort_m = (\n",
    "    avg_m_norm.rolling(5, center=True, win_type=\"exponential\")\n",
    "    .mean(tau=1.5)\n",
    "    .idxmax()\n",
    "    .sort_values()\n",
    "    .index\n",
    ")"
   ]
  },
  {
   "cell_type": "code",
   "execution_count": 6,
   "id": "a83387df",
   "metadata": {},
   "outputs": [],
   "source": [
    "# get labels and data fot plottinh\n",
    "data_labels = m_norm.index.get_level_values('age').to_numpy()\n",
    "data = m_norm.to_numpy()"
   ]
  },
  {
   "cell_type": "code",
   "execution_count": 7,
   "id": "93766569",
   "metadata": {},
   "outputs": [],
   "source": [
    "#colors for plotting\n",
    "cmap2 = cmf\n",
    "ages = np.unique(data_labels)\n",
    "colors = np.int_(np.arange(0, 256, 256/len(ages)))\n",
    "seqmatcolor='cubehelix'\n",
    "\n",
    "# create age labels colors\n",
    "lines=[]\n",
    "counter = Counter(data_labels)\n",
    "sorted(counter.items())\n",
    "a=np.array([*counter.values()])\n",
    "\n",
    "color_mat=[]\n",
    "n=0\n",
    "for i,c in enumerate(colors):\n",
    "    for j in range(a[i]):\n",
    "        color_mat.append(cmap2(c))\n",
    "\n",
    "# plot\n",
    "cg=sns.clustermap(\n",
    "    data=m_norm[syll_sort_m].T,\n",
    "    cmap=seqmatcolor, \n",
    "    figsize=(2, 2),\n",
    "    col_colors=color_mat,\n",
    "    cbar_pos=(1.02, 0.025, 0.025, .73),\n",
    "    col_cluster=False,\n",
    "    row_cluster=False,\n",
    "    yticklabels=False,\n",
    "    xticklabels=False,\n",
    "    rasterized=True,\n",
    "    cbar_kws={'label': 'fraction of use'}, \n",
    "    )\n",
    "cg.ax_row_dendrogram.set_visible(False)\n",
    "ax = cg.ax_heatmap\n",
    "ax.set_xlabel('Sessions')\n",
    "ax.set_ylabel('Syllables')\n",
    "\n",
    "# legend\n",
    "for i,c in enumerate(colors):\n",
    "        lines.append(Line2D([0], [0], color=cmap2(c), lw=2))\n",
    "plt.legend(handles=lines,labels=list(ages),bbox_to_anchor=(10, 1),loc='upper right',fontsize=6)\n",
    "plt.show()"
   ]
  },
  {
   "cell_type": "code",
   "execution_count": 8,
   "id": "586afa00",
   "metadata": {},
   "outputs": [],
   "source": [
    "c = PlotConfig()\n",
    "cg.savefig(c.dana_save_path / \"fig3\"/ 'syll_over_time_all_sessions_longv2_female.pdf', bbox_inches='tight')"
   ]
  },
  {
   "cell_type": "code",
   "execution_count": 9,
   "id": "2c1753b3",
   "metadata": {},
   "outputs": [],
   "source": [
    "# get labels and data fot plottinh\n",
    "data_labels = avg_m_norm.index.get_level_values('age').to_numpy()\n",
    "data = m_norm.to_numpy()"
   ]
  },
  {
   "cell_type": "code",
   "execution_count": 10,
   "id": "d4dc2ed1",
   "metadata": {},
   "outputs": [],
   "source": [
    "#colors for plotting\n",
    "cmap2 = cmf\n",
    "ages = np.unique(data_labels)\n",
    "colors = np.int_(np.arange(0, 256, 256/len(ages)))\n",
    "seqmatcolor='cubehelix'\n",
    "\n",
    "# create age labels colors\n",
    "lines=[]\n",
    "counter = Counter(data_labels)\n",
    "sorted(counter.items())\n",
    "a=np.array([*counter.values()])\n",
    "\n",
    "color_mat=[]\n",
    "n=0\n",
    "for i,c in enumerate(colors):\n",
    "    for j in range(a[i]):\n",
    "        color_mat.append(cmap2(c))\n",
    "\n",
    "# plot\n",
    "cg=sns.clustermap(\n",
    "    data=avg_m_norm[syll_sort_m].T,\n",
    "    cmap=seqmatcolor, \n",
    "    figsize=(2, 2),\n",
    "    col_colors=color_mat,\n",
    "    cbar_pos=(1.02, 0.025, 0.025, .73),\n",
    "    col_cluster=False,\n",
    "    row_cluster=False,\n",
    "    yticklabels=False,\n",
    "    xticklabels=False,\n",
    "    cbar_kws={'label': 'fraction of use'}, \n",
    "    )\n",
    "cg.ax_row_dendrogram.set_visible(False)\n",
    "ax = cg.ax_heatmap\n",
    "ax.set_xlabel('Sessions')\n",
    "ax.set_ylabel('Syllables')\n",
    "\n",
    "# legend\n",
    "for i,c in enumerate(colors):\n",
    "        lines.append(Line2D([0], [0], color=cmap2(c), lw=2))\n",
    "plt.legend(handles=lines,labels=list(ages),bbox_to_anchor=(10, 1),loc='upper right',fontsize=6)\n",
    "plt.show()"
   ]
  },
  {
   "cell_type": "code",
   "execution_count": 11,
   "id": "159d4eeb",
   "metadata": {},
   "outputs": [],
   "source": [
    "c = PlotConfig()\n",
    "cg.savefig(c.dana_save_path / \"fig3\"/ 'syll_over_time_avg_longv2_female.pdf', bbox_inches='tight')"
   ]
  }
 ],
 "metadata": {
  "kernelspec": {
   "display_name": "Python 3 (ipykernel)",
   "language": "python",
   "name": "python3"
  },
  "language_info": {
   "codemirror_mode": {
    "name": "ipython",
    "version": 3
   },
   "file_extension": ".py",
   "mimetype": "text/x-python",
   "name": "python",
   "nbconvert_exporter": "python",
   "pygments_lexer": "ipython3",
   "version": "3.10.12"
  }
 },
 "nbformat": 4,
 "nbformat_minor": 5
}
