{
 "cells": [
  {
   "cell_type": "code",
   "execution_count": 1,
   "id": "d1dc615e",
   "metadata": {},
   "outputs": [],
   "source": [
    "import numpy as np\n",
    "import random\n",
    "import pandas as pd\n",
    "import matplotlib.pyplot as plt\n",
    "import seaborn as sns\n",
    "import colorcet as cc\n",
    "from operator import add\n",
    "from tqdm.auto import tqdm\n",
    "from functools import reduce\n",
    "from sklearn.cluster import KMeans\n",
    "from sklearn.decomposition import PCA\n",
    "from scipy.spatial.distance import squareform, pdist\n",
    "from sklearn.metrics import silhouette_score\n",
    "from aging.plotting import format_plots, figure, save_factory, PlotConfig, legend, add_identity\n",
    "from sklearn.feature_selection import mutual_info_classif as MIC\n",
    "from sklearn.feature_selection import mutual_info_regression as MIR"
   ]
  },
  {
   "cell_type": "code",
   "execution_count": 2,
   "id": "86bc3f62",
   "metadata": {},
   "outputs": [],
   "source": [
    "from matplotlib.colors import LinearSegmentedColormap\n",
    "# Define the color map\n",
    "colors = ['#d94801','white','#008C8D']\n",
    "custom_cmap = LinearSegmentedColormap.from_list(\"custom_purples\", colors, N=256)\n",
    "cmmf=custom_cmap\n",
    "\n",
    "colors = ['#dadaeb','#6a51a3']\n",
    "custom_cmap = LinearSegmentedColormap.from_list(\"custom_purples\", colors, N=256)\n",
    "cma=custom_cmap\n",
    "\n",
    "colors = ['white','gray']\n",
    "custom_cmap = LinearSegmentedColormap.from_list(\"custom_purples\", colors, N=256)\n",
    "cma=custom_cmap\n",
    "\n",
    "colors = ['#ccece6','#99d8c9','#66c2a4','#41ae76','#238b45','#006d2c']\n",
    "cml = sns.blend_palette(colors, n_colors=256, as_cmap=True)\n",
    "\n",
    "# Define the color map\n",
    "colors = ['#fee6ce','#d94801']\n",
    "custom_cmap = LinearSegmentedColormap.from_list(\"custom_purples\", colors, N=256)\n",
    "cmf=custom_cmap\n",
    "\n",
    "colors = ['#c7eae5','#008C8D']\n",
    "custom_cmap = LinearSegmentedColormap.from_list(\"custom_purples\", colors, N=256)\n",
    "cmm=custom_cmap"
   ]
  },
  {
   "cell_type": "code",
   "execution_count": 3,
   "id": "c6997e71",
   "metadata": {},
   "outputs": [],
   "source": [
    "format_plots()"
   ]
  },
  {
   "cell_type": "code",
   "execution_count": 4,
   "id": "86571b2b",
   "metadata": {},
   "outputs": [],
   "source": [
    "def mm_norm_col(column):\n",
    "    return (column - column.min()) / (column.max() - column.min())"
   ]
  },
  {
   "cell_type": "code",
   "execution_count": 5,
   "id": "7866371a",
   "metadata": {},
   "outputs": [],
   "source": [
    "## arrange data\n",
    "keep_syllables = np.loadtxt('/n/groups/datta/win/longtogeny/data/ontogeny/version_11/to_keep_syllables_raw.txt', dtype=int)\n",
    "\n",
    "male_df = pd.read_parquet('/n/groups/datta/win/longtogeny/data/ontogeny/version_11-1/ontogeny_males_raw_usage_matrix_v00.parquet').astype(float)\n",
    "male_df = male_df[keep_syllables]\n",
    "m_df= male_df.groupby(['age','uuid']).mean()"
   ]
  },
  {
   "cell_type": "code",
   "execution_count": 6,
   "id": "5b1c4b93",
   "metadata": {},
   "outputs": [],
   "source": [
    "## arrange data for females\n",
    "keep_syllables = np.loadtxt('/n/groups/datta/win/longtogeny/data/ontogeny/version_11/to_keep_syllables_raw.txt', dtype=int)\n",
    "\n",
    "\n",
    "female_df = pd.read_parquet('/n/groups/datta/win/longtogeny/data/ontogeny/version_11-1/ontogeny_females_raw_usage_matrix_v00.parquet').astype(float)\n",
    "female_df = female_df[keep_syllables]\n",
    "\n",
    "\n",
    "# for female:\n",
    "f_df= female_df.groupby(['age','uuid']).mean()\n",
    "# Update age value to 52 for rows with uuid in the list\n",
    "uuids = ['f1d5dce5-f5cf-4b03-b07d-d9b8c1f034b0','6fa50ac7-6d49-4ef9-9059-3d90bdd8c5d4',\n",
    "         'e9e05da8-fc59-40f3-a9c8-f57c492c6141','327e7fa1-2237-43d2-b25f-c1801912df33',\n",
    "        '242bee8e-0ee7-45e7-8a13-678836a4cddb','552ec70f-0676-4471-8ab0-403e1fcf43e3','d6f254af-d55a-427a-96e0-c452a233cbe2']\n",
    "f_df.reset_index(inplace=True)\n",
    "\n",
    "age_mapping = {\n",
    "    93: 94,\n",
    "    95: 94,\n",
    "    97: 98,\n",
    "    98: 98,\n",
    "    102: 98,\n",
    "    103: 105,\n",
    "    105: 105,\n",
    "    107: 105\n",
    "}\n",
    "\n",
    "f_df['age'] = f_df['age'].map(age_mapping).fillna(f_df['age'])\n",
    "f_df.loc[f_df['uuid'].isin(uuids), 'age'] = 52\n",
    "# Set the index back\n",
    "f_df.set_index(['age', 'uuid'], inplace=True)\n",
    "f_df=f_df.query('age<127')"
   ]
  },
  {
   "cell_type": "code",
   "execution_count": 7,
   "id": "d57109d2",
   "metadata": {},
   "outputs": [
    {
     "name": "stderr",
     "output_type": "stream",
     "text": [
      "/tmp/ipykernel_26524/1663783390.py:7: SettingWithCopyWarning: \n",
      "A value is trying to be set on a copy of a slice from a DataFrame.\n",
      "Try using .loc[row_indexer,col_indexer] = value instead\n",
      "\n",
      "See the caveats in the documentation: https://pandas.pydata.org/pandas-docs/stable/user_guide/indexing.html#returning-a-view-versus-a-copy\n",
      "  m_data['sex'] = 'm'\n",
      "/tmp/ipykernel_26524/1663783390.py:11: SettingWithCopyWarning: \n",
      "A value is trying to be set on a copy of a slice from a DataFrame.\n",
      "Try using .loc[row_indexer,col_indexer] = value instead\n",
      "\n",
      "See the caveats in the documentation: https://pandas.pydata.org/pandas-docs/stable/user_guide/indexing.html#returning-a-view-versus-a-copy\n",
      "  f_data['sex'] = 'f'\n"
     ]
    }
   ],
   "source": [
    "# use only common ages\n",
    "f_ages = f_df.index.get_level_values('age').unique().to_numpy()\n",
    "m_ages = m_df.index.get_level_values('age').unique().to_numpy()\n",
    "cages = list(np.intersect1d(f_ages,m_ages))\n",
    "\n",
    "m_data = m_df.loc[m_df.index.get_level_values('age').isin(cages)]\n",
    "m_data['sex'] = 'm'\n",
    "m_data.set_index('sex',inplace=True,append=True)\n",
    "\n",
    "f_data = f_df.loc[f_df.index.get_level_values('age').isin(cages)]\n",
    "f_data['sex'] = 'f'\n",
    "f_data.set_index('sex',inplace=True,append=True)"
   ]
  },
  {
   "cell_type": "code",
   "execution_count": 8,
   "id": "4ac4e86e",
   "metadata": {},
   "outputs": [],
   "source": [
    "#average and normalize male\n",
    "avg_m_df = m_data.groupby(['age']).mean()\n",
    "# normalize the data\n",
    "m_norm = mm_norm_col(m_data)\n",
    "avg_m_norm = mm_norm_col(avg_m_df)\n",
    "\n",
    "#average and normalize female\n",
    "avg_f_df = f_data.groupby(['age']).mean()\n",
    "# normalize the data\n",
    "f_norm = mm_norm_col(f_data)\n",
    "avg_f_norm = mm_norm_col(avg_f_df)\n",
    "data=pd.concat([m_data,f_data])"
   ]
  },
  {
   "cell_type": "code",
   "execution_count": 9,
   "id": "aad25f1f",
   "metadata": {},
   "outputs": [],
   "source": [
    "## MI for age in ontogeny"
   ]
  },
  {
   "cell_type": "code",
   "execution_count": 10,
   "id": "1eca2396",
   "metadata": {},
   "outputs": [
    {
     "data": {
      "application/vnd.jupyter.widget-view+json": {
       "model_id": "0b098c27669648a4a73320030590a039",
       "version_major": 2,
       "version_minor": 0
      },
      "text/plain": [
       "  0%|          | 0/100 [00:00<?, ?it/s]"
      ]
     },
     "metadata": {},
     "output_type": "display_data"
    }
   ],
   "source": [
    "X = m_data.to_numpy()\n",
    "y = list(m_data.index.get_level_values('age'))\n",
    "mi_score_m = MIR(X,y)\n",
    "mi_shf=[]\n",
    "\n",
    "it=100\n",
    "for i in tqdm(range(it)):\n",
    "    ytemp = random.shuffle(y)\n",
    "    mi_temp = MIR(X,y)\n",
    "    mi_shf.extend(mi_temp)"
   ]
  },
  {
   "cell_type": "code",
   "execution_count": 11,
   "id": "90c3aaf1",
   "metadata": {},
   "outputs": [],
   "source": [
    "m_sh_m=np.percentile(mi_shf, 95, axis=0)"
   ]
  },
  {
   "cell_type": "code",
   "execution_count": 12,
   "id": "feed09c7",
   "metadata": {},
   "outputs": [],
   "source": [
    "# Create figure and axis\n",
    "df = pd.DataFrame()\n",
    "df['mi'] = np.concatenate((np.array(mi_score_m),\n",
    "                      np.array(mi_shf)))\n",
    "\n",
    "df['exp'] = np.concatenate((len(np.array(mi_score_m)) * ['m'],\n",
    "                         len(np.array(mi_shf)) * ['shf']))\n",
    "df_m=df.copy()"
   ]
  },
  {
   "cell_type": "code",
   "execution_count": 13,
   "id": "815f3a36",
   "metadata": {},
   "outputs": [
    {
     "name": "stderr",
     "output_type": "stream",
     "text": [
      "/home/drl21/miniconda/envs/aging/lib/python3.10/site-packages/seaborn/_oldcore.py:1119: FutureWarning: use_inf_as_na option is deprecated and will be removed in a future version. Convert inf values to NaN before operating instead.\n",
      "  with pd.option_context('mode.use_inf_as_na', True):\n",
      "/home/drl21/miniconda/envs/aging/lib/python3.10/site-packages/seaborn/_oldcore.py:1119: FutureWarning: use_inf_as_na option is deprecated and will be removed in a future version. Convert inf values to NaN before operating instead.\n",
      "  with pd.option_context('mode.use_inf_as_na', True):\n"
     ]
    },
    {
     "data": {
      "image/png": "[encoded data removed]",
      "text/plain": [
       "<Figure size 200x200 with 1 Axes>"
      ]
     },
     "metadata": {},
     "output_type": "display_data"
    }
   ],
   "source": [
    "# Create figure and axis\n",
    "fig = plt.figure(figsize=(1, 1))\n",
    "ax = fig.gca()\n",
    "sns.kdeplot(mi_score_m,fill=True,color = '#20B2AA',ax=ax)\n",
    "sns.kdeplot(mi_shf, fill=True,color = 'gray',ax=ax)\n",
    "\n",
    "#sns.displot(mi_score_m, kind=\"kde\",fill=True,color = '#20B2AA',ax=ax)\n",
    "#sns.displot(mi_shf, kind=\"kde\",fill=True,color = 'gray',ax=ax)\n",
    "\n",
    "plt.xlabel('Mutual information scores')\n",
    "sns.despine()"
   ]
  },
  {
   "cell_type": "code",
   "execution_count": 14,
   "id": "b430647f",
   "metadata": {},
   "outputs": [],
   "source": [
    "c = PlotConfig()\n",
    "fig.savefig(c.dana_save_path / \"fig1\"/ 'MI_age_male.pdf', bbox_inches='tight')"
   ]
  },
  {
   "cell_type": "code",
   "execution_count": 15,
   "id": "00a7bac0",
   "metadata": {},
   "outputs": [
    {
     "data": {
      "application/vnd.jupyter.widget-view+json": {
       "model_id": "de8a81053ce840ac94326f20db00dab4",
       "version_major": 2,
       "version_minor": 0
      },
      "text/plain": [
       "  0%|          | 0/100 [00:00<?, ?it/s]"
      ]
     },
     "metadata": {},
     "output_type": "display_data"
    }
   ],
   "source": [
    "X = f_data.to_numpy()\n",
    "y = list(f_data.index.get_level_values('age'))\n",
    "mi_score_f = MIR(X,y)\n",
    "mi_shf_f=[]\n",
    "\n",
    "it=100\n",
    "for i in tqdm(range(it)):\n",
    "    ytemp = random.shuffle(y)\n",
    "    mi_temp = MIR(X,y)\n",
    "    mi_shf_f.extend(mi_temp)"
   ]
  },
  {
   "cell_type": "code",
   "execution_count": 16,
   "id": "728cc01e",
   "metadata": {},
   "outputs": [],
   "source": [
    "m_sh_f=np.percentile(mi_shf_f, 95, axis=0)"
   ]
  },
  {
   "cell_type": "code",
   "execution_count": 17,
   "id": "bc7f2354",
   "metadata": {},
   "outputs": [
    {
     "name": "stderr",
     "output_type": "stream",
     "text": [
      "/home/drl21/miniconda/envs/aging/lib/python3.10/site-packages/seaborn/_oldcore.py:1119: FutureWarning: use_inf_as_na option is deprecated and will be removed in a future version. Convert inf values to NaN before operating instead.\n",
      "  with pd.option_context('mode.use_inf_as_na', True):\n",
      "/home/drl21/miniconda/envs/aging/lib/python3.10/site-packages/seaborn/_oldcore.py:1119: FutureWarning: use_inf_as_na option is deprecated and will be removed in a future version. Convert inf values to NaN before operating instead.\n",
      "  with pd.option_context('mode.use_inf_as_na', True):\n"
     ]
    },
    {
     "data": {
      "image/png": "[encoded data removed]",
      "text/plain": [
       "<Figure size 200x200 with 1 Axes>"
      ]
     },
     "metadata": {},
     "output_type": "display_data"
    }
   ],
   "source": [
    "# Create figure and axis\n",
    "fig = plt.figure(figsize=(1, 1))\n",
    "ax = fig.gca()\n",
    "sns.kdeplot(mi_score_f,fill=True,color = '#f16913',ax=ax)\n",
    "sns.kdeplot(mi_shf_f, fill=True,color = 'gray',ax=ax)\n",
    "\n",
    "#sns.displot(mi_score_m, kind=\"kde\",fill=True,color = '#20B2AA',ax=ax)\n",
    "#sns.displot(mi_shf, kind=\"kde\",fill=True,color = 'gray',ax=ax)\n",
    "\n",
    "plt.xlabel('Mutual information scores')\n",
    "sns.despine()"
   ]
  },
  {
   "cell_type": "code",
   "execution_count": 18,
   "id": "d0fee072",
   "metadata": {},
   "outputs": [],
   "source": [
    "c = PlotConfig()\n",
    "fig.savefig(c.dana_save_path / \"fig1\"/ 'MI_age_female.pdf', bbox_inches='tight')"
   ]
  },
  {
   "cell_type": "code",
   "execution_count": 19,
   "id": "6e1f12bf",
   "metadata": {},
   "outputs": [],
   "source": [
    "## directly compare male/female"
   ]
  },
  {
   "cell_type": "code",
   "execution_count": 20,
   "id": "94865a07",
   "metadata": {},
   "outputs": [
    {
     "name": "stderr",
     "output_type": "stream",
     "text": [
      "/home/drl21/miniconda/envs/aging/lib/python3.10/site-packages/seaborn/_oldcore.py:1119: FutureWarning: use_inf_as_na option is deprecated and will be removed in a future version. Convert inf values to NaN before operating instead.\n",
      "  with pd.option_context('mode.use_inf_as_na', True):\n",
      "/home/drl21/miniconda/envs/aging/lib/python3.10/site-packages/seaborn/_oldcore.py:1119: FutureWarning: use_inf_as_na option is deprecated and will be removed in a future version. Convert inf values to NaN before operating instead.\n",
      "  with pd.option_context('mode.use_inf_as_na', True):\n"
     ]
    },
    {
     "data": {
      "image/png": "[encoded data removed]",
      "text/plain": [
       "<Figure size 200x200 with 1 Axes>"
      ]
     },
     "metadata": {},
     "output_type": "display_data"
    }
   ],
   "source": [
    "# Create figure and axis\n",
    "fig = plt.figure(figsize=(1, 1))\n",
    "ax = fig.gca()\n",
    "sns.kdeplot(mi_score_m,fill=True,color = '#20B2AA',ax=ax, cut=0)\n",
    "sns.kdeplot(mi_score_f,fill=True,color = '#f16913',ax=ax, cut=0)\n",
    "# Add dotted vertical lines\n",
    "ax.axvline(m_sh_m, linestyle='--', color='#20B2AA')\n",
    "ax.axvline(m_sh_f, linestyle='--', color='#f16913')\n",
    "plt.xlabel('Mutual information scores')\n",
    "sns.despine()"
   ]
  },
  {
   "cell_type": "code",
   "execution_count": 21,
   "id": "f11807a9",
   "metadata": {},
   "outputs": [],
   "source": [
    "c = PlotConfig()\n",
    "fig.savefig(c.dana_save_path / \"fig1\"/ 'MI_age_fvm.pdf', bbox_inches='tight')"
   ]
  },
  {
   "cell_type": "code",
   "execution_count": null,
   "id": "6373e9b5",
   "metadata": {},
   "outputs": [],
   "source": []
  }
 ],
 "metadata": {
  "kernelspec": {
   "display_name": "Python 3 (ipykernel)",
   "language": "python",
   "name": "python3"
  },
  "language_info": {
   "codemirror_mode": {
    "name": "ipython",
    "version": 3
   },
   "file_extension": ".py",
   "mimetype": "text/x-python",
   "name": "python",
   "nbconvert_exporter": "python",
   "pygments_lexer": "ipython3",
   "version": "3.10.12"
  }
 },
 "nbformat": 4,
 "nbformat_minor": 5
}
