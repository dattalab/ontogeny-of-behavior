{
 "cells": [
  {
   "cell_type": "markdown",
   "id": "37e8cab2-eaf5-48ea-a40d-5701517b3ca3",
   "metadata": {},
   "source": [
    "# Show avg syllable duration across age"
   ]
  },
  {
   "cell_type": "code",
   "execution_count": 1,
   "id": "105cd19b-5e97-4e96-8121-1d611cfed591",
   "metadata": {},
   "outputs": [],
   "source": [
    "import numpy as np\n",
    "import pandas as pd\n",
    "import matplotlib.pyplot as plt\n",
    "import seaborn as sns\n",
    "from aging.plotting import (\n",
    "    format_plots,\n",
    "    save_factory,\n",
    "    figure,\n",
    "    PLOT_CONFIG,\n",
    "    COLORMAPS,\n",
    "    PlotConfig\n",
    ")"
   ]
  },
  {
   "cell_type": "code",
   "execution_count": 2,
   "id": "078af1d4-174a-4351-99e0-eabcee5b2b41",
   "metadata": {},
   "outputs": [],
   "source": [
    "format_plots()\n",
    "c = PlotConfig()"
   ]
  },
  {
   "cell_type": "code",
   "execution_count": 3,
   "id": "2b2cdb5a",
   "metadata": {},
   "outputs": [],
   "source": [
    "from matplotlib.colors import LinearSegmentedColormap\n",
    "# Define the color map\n",
    "colors = ['#d94801','white','#008C8D']\n",
    "custom_cmap = LinearSegmentedColormap.from_list(\"custom_purples\", colors, N=256)\n",
    "cmmf=custom_cmap\n",
    "\n",
    "colors = ['#dadaeb','#6a51a3']\n",
    "custom_cmap = LinearSegmentedColormap.from_list(\"custom_purples\", colors, N=256)\n",
    "cma=custom_cmap\n",
    "\n",
    "colors = ['white','gray']\n",
    "custom_cmap = LinearSegmentedColormap.from_list(\"custom_purples\", colors, N=256)\n",
    "cma=custom_cmap\n",
    "\n",
    "colors = ['#ccece6','#99d8c9','#66c2a4','#41ae76','#238b45','#006d2c']\n",
    "cml = sns.blend_palette(colors, n_colors=256, as_cmap=True)\n",
    "\n",
    "# Define the color map\n",
    "colors = ['#fee6ce','#d94801']\n",
    "custom_cmap = LinearSegmentedColormap.from_list(\"custom_purples\", colors, N=256)\n",
    "cmf=custom_cmap\n",
    "\n",
    "colors = ['#c7eae5','#008C8D']\n",
    "custom_cmap = LinearSegmentedColormap.from_list(\"custom_purples\", colors, N=256)\n",
    "cmm=custom_cmap"
   ]
  },
  {
   "cell_type": "markdown",
   "id": "ff48b1af-914c-402f-81f9-88766b19e572",
   "metadata": {},
   "source": [
    "## Females"
   ]
  },
  {
   "cell_type": "code",
   "execution_count": 4,
   "id": "b4ea8f68",
   "metadata": {},
   "outputs": [],
   "source": [
    "df = pd.read_parquet('/n/groups/datta/win/longtogeny/data/ontogeny/version_11-1/ontogeny_females_syllable_df_v00.parquet')\n",
    "keep_syllables = np.loadtxt('/n/groups/datta/win/longtogeny/data/ontogeny/version_11/to_keep_syllables_raw.txt', dtype=int)"
   ]
  },
  {
   "cell_type": "code",
   "execution_count": 5,
   "id": "f7e79cd4",
   "metadata": {},
   "outputs": [],
   "source": [
    "df['idx'] = np.arange(len(df))\n",
    "df.loc[df['onsets'], 'dur'] = df.query('onsets')['idx'].diff()\n",
    "df['dur'] = df['dur'].ffill()\n",
    "df = df.drop(columns=['idx'])"
   ]
  },
  {
   "cell_type": "code",
   "execution_count": 6,
   "id": "f7c985cf",
   "metadata": {},
   "outputs": [],
   "source": [
    "# for female:\n",
    "uuids = ['f1d5dce5-f5cf-4b03-b07d-d9b8c1f034b0','6fa50ac7-6d49-4ef9-9059-3d90bdd8c5d4',\n",
    "         'e9e05da8-fc59-40f3-a9c8-f57c492c6141','327e7fa1-2237-43d2-b25f-c1801912df33',\n",
    "        '242bee8e-0ee7-45e7-8a13-678836a4cddb','552ec70f-0676-4471-8ab0-403e1fcf43e3','d6f254af-d55a-427a-96e0-c452a233cbe2']\n",
    "age_mapping = {\n",
    "    93: 94,\n",
    "    95: 94,\n",
    "    97: 98,\n",
    "    98: 98,\n",
    "    102: 98,\n",
    "    103: 105,\n",
    "    105: 105,\n",
    "    107: 105\n",
    "}\n",
    "\n",
    "df['age'] = df['age'].map(age_mapping).fillna(df['age'])\n",
    "df.loc[df['uuid'].isin(uuids), 'age'] = 52\n",
    "df=df.query('age<127')"
   ]
  },
  {
   "cell_type": "code",
   "execution_count": 7,
   "id": "18a3d556",
   "metadata": {},
   "outputs": [],
   "source": [
    "durs_all = df.groupby(['age', 'mouse','syllables'])['dur'].mean() / 30\n",
    "durs_all = durs_all.unstack('syllables')\n",
    "durs_all = durs_all[keep_syllables]"
   ]
  },
  {
   "cell_type": "code",
   "execution_count": 8,
   "id": "4fdb0454",
   "metadata": {},
   "outputs": [],
   "source": [
    "durs = pd.DataFrame(durs_all.mean(axis=1), columns=['dur'])"
   ]
  },
  {
   "cell_type": "code",
   "execution_count": 9,
   "id": "889c1dab",
   "metadata": {},
   "outputs": [],
   "source": [
    "fig, ax = plt.subplots()\n",
    "fig.set_size_inches(1.3,1.3) \n",
    "plt.scatter(data=durs.reset_index(),\n",
    "            x='age', \n",
    "            y='dur', \n",
    "            s=10, \n",
    "            c='age', \n",
    "            edgecolor='none',\n",
    "            linewidth=0.25,\n",
    "            alpha=0.75,\n",
    "            cmap=cmf)\n",
    "\n",
    "ax = sns.regplot(\n",
    "    data=durs.reset_index(),\n",
    "    x=\"age\",\n",
    "    y=\"dur\",\n",
    "    #color=COLORMAPS.ont_male(255),\n",
    "    color='black',\n",
    "    #scatter_kws=dict(linewidths=0),\n",
    "    scatter=False,\n",
    "    logx=True,\n",
    ")\n",
    "ax.set(xlabel=\"Age (weeks)\", ylabel=\"Syllable duration\", ylim=[0.45,0.8])\n",
    "sns.despine()"
   ]
  },
  {
   "cell_type": "code",
   "execution_count": 10,
   "id": "cd768301",
   "metadata": {},
   "outputs": [],
   "source": [
    "c = PlotConfig()\n",
    "fig.savefig(c.dana_save_path / \"fig3\"/ 'syll_duration_female_log.pdf')"
   ]
  },
  {
   "cell_type": "code",
   "execution_count": 18,
   "id": "274342dd",
   "metadata": {},
   "outputs": [],
   "source": [
    "fig, ax = plt.subplots()\n",
    "fig.set_size_inches(1.3,1.3) \n",
    "plt.scatter(data=durs.reset_index(),\n",
    "            x='age', \n",
    "            y='dur', \n",
    "            s=10, \n",
    "            c='age', \n",
    "            edgecolor='none',\n",
    "            linewidth=0.25,\n",
    "            alpha=0.75,\n",
    "            cmap=cmf)\n",
    "\n",
    "ax = sns.regplot(\n",
    "    data=durs.reset_index(),\n",
    "    x=\"age\",\n",
    "    y=\"dur\",\n",
    "    #color=COLORMAPS.ont_male(255),\n",
    "    color='black',\n",
    "    #scatter_kws=dict(linewidths=0),\n",
    "    scatter=False,\n",
    "    #logx=True,\n",
    ")\n",
    "ax.set(xlabel=\"Age (weeks)\", ylabel=\"Syllable duration\", ylim=[0.45,0.8], xticks=[20,40,60,80,100])\n",
    "sns.despine()"
   ]
  },
  {
   "cell_type": "code",
   "execution_count": 19,
   "id": "0d42f9fd",
   "metadata": {},
   "outputs": [],
   "source": [
    "c = PlotConfig()\n",
    "fig.savefig(c.dana_save_path / \"fig3\"/ 'syll_duration_female_linear.pdf')"
   ]
  },
  {
   "cell_type": "code",
   "execution_count": 13,
   "id": "5b0c4743",
   "metadata": {},
   "outputs": [],
   "source": [
    "dur_df = durs.reset_index()\n",
    "dur_bins = pd.cut(dur_df['age'], 12, labels=False)\n",
    "dur_df['bins'] = dur_bins\n",
    "age_map = dur_df.groupby('bins')['age'].mean()\n",
    "dur_df['avg_age'] = dur_df['bins'].map(age_map).round(0)"
   ]
  },
  {
   "cell_type": "code",
   "execution_count": 14,
   "id": "a6b9c88b",
   "metadata": {},
   "outputs": [],
   "source": [
    "ax = sns.boxplot(\n",
    "    data=dur_df.reset_index(),\n",
    "    x=\"avg_age\",\n",
    "    y=\"dur\",\n",
    "    showcaps=False,\n",
    "    showfliers=False,\n",
    "    color=COLORMAPS.ont_female(255),\n",
    ")\n",
    "ax.set(xlabel=\"Binned age (weeks)\", ylabel=\"Syllable duration (s)\")\n",
    "sns.despine()"
   ]
  },
  {
   "cell_type": "code",
   "execution_count": null,
   "id": "df5bef0b",
   "metadata": {},
   "outputs": [],
   "source": []
  }
 ],
 "metadata": {
  "kernelspec": {
   "display_name": "Python 3 (ipykernel)",
   "language": "python",
   "name": "python3"
  },
  "language_info": {
   "codemirror_mode": {
    "name": "ipython",
    "version": 3
   },
   "file_extension": ".py",
   "mimetype": "text/x-python",
   "name": "python",
   "nbconvert_exporter": "python",
   "pygments_lexer": "ipython3",
   "version": "3.10.12"
  },
  "widgets": {
   "application/vnd.jupyter.widget-state+json": {
    "state": {},
    "version_major": 2,
    "version_minor": 0
   }
  }
 },
 "nbformat": 4,
 "nbformat_minor": 5
}
