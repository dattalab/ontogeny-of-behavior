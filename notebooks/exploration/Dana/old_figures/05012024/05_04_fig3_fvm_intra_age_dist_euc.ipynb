{
 "cells": [
  {
   "cell_type": "code",
   "execution_count": 1,
   "id": "a77ea523",
   "metadata": {},
   "outputs": [],
   "source": [
    "import numpy as np\n",
    "import pandas as pd\n",
    "import seaborn as sns\n",
    "import matplotlib.pyplot as plt\n",
    "from aging.plotting import format_plots, PlotConfig, save_factory, figure, legend, format_pizza_plots\n",
    "from collections import Counter\n",
    "from matplotlib.lines import Line2D"
   ]
  },
  {
   "cell_type": "code",
   "execution_count": 2,
   "id": "d1dc615e",
   "metadata": {},
   "outputs": [],
   "source": [
    "import numpy as np\n",
    "import pandas as pd\n",
    "import matplotlib.pyplot as plt\n",
    "import seaborn as sns\n",
    "import colorcet as cc\n",
    "from operator import add\n",
    "from tqdm.auto import tqdm\n",
    "from functools import reduce\n",
    "from sklearn.cluster import KMeans\n",
    "from sklearn.decomposition import PCA\n",
    "from scipy.spatial.distance import squareform, pdist\n",
    "from sklearn.metrics import silhouette_score\n",
    "from aging.plotting import format_plots, figure, save_factory, PlotConfig, legend, add_identity\n",
    "from sklearn.feature_selection import mutual_info_classif as MIC\n",
    "from sklearn.feature_selection import mutual_info_regression as MIR"
   ]
  },
  {
   "cell_type": "code",
   "execution_count": 3,
   "id": "7811bd0e",
   "metadata": {},
   "outputs": [],
   "source": [
    "from matplotlib.colors import LinearSegmentedColormap\n",
    "# Define the color map\n",
    "colors = ['#d94801','white','#008C8D']\n",
    "custom_cmap = LinearSegmentedColormap.from_list(\"custom_purples\", colors, N=256)\n",
    "cmmf=custom_cmap\n",
    "\n",
    "colors = ['#dadaeb','#6a51a3']\n",
    "custom_cmap = LinearSegmentedColormap.from_list(\"custom_purples\", colors, N=256)\n",
    "cma=custom_cmap\n",
    "\n",
    "colors = ['white','gray']\n",
    "custom_cmap = LinearSegmentedColormap.from_list(\"custom_purples\", colors, N=256)\n",
    "cma=custom_cmap\n",
    "\n",
    "colors = ['#ccece6','#99d8c9','#66c2a4','#41ae76','#238b45','#006d2c']\n",
    "cml = sns.blend_palette(colors, n_colors=256, as_cmap=True)\n",
    "\n",
    "# Define the color map\n",
    "colors = ['#fee6ce','#d94801']\n",
    "custom_cmap = LinearSegmentedColormap.from_list(\"custom_purples\", colors, N=256)\n",
    "cmf=custom_cmap\n",
    "\n",
    "colors = ['#c7eae5','#008C8D']\n",
    "custom_cmap = LinearSegmentedColormap.from_list(\"custom_purples\", colors, N=256)\n",
    "cmm=custom_cmap"
   ]
  },
  {
   "cell_type": "code",
   "execution_count": 4,
   "id": "d2c73a97",
   "metadata": {},
   "outputs": [
    {
     "name": "stderr",
     "output_type": "stream",
     "text": [
      "/tmp/ipykernel_22652/813501115.py:6: MatplotlibDeprecationWarning: The register_cmap function was deprecated in Matplotlib 3.7 and will be removed two minor releases later. Use ``matplotlib.colormaps.register(name)`` instead.\n",
      "  matplotlib.cm.register_cmap(\"dana\", cmap)\n",
      "/tmp/ipykernel_22652/813501115.py:15: MatplotlibDeprecationWarning: The register_cmap function was deprecated in Matplotlib 3.7 and will be removed two minor releases later. Use ``matplotlib.colormaps.register(name)`` instead.\n",
      "  matplotlib.cm.register_cmap(\"dana2\", cmap)\n"
     ]
    }
   ],
   "source": [
    "# prepare colors for plot\n",
    "from matplotlib.colors import LinearSegmentedColormap\n",
    "colors = ['#c7eae5','#008C8D']\n",
    "import matplotlib\n",
    "cmap = LinearSegmentedColormap.from_list(\"custom_purples\", colors, N=256)\n",
    "matplotlib.cm.register_cmap(\"dana\", cmap)\n",
    "phasec = sns.color_palette(\"dana\", n_colors=27)\n",
    "\n",
    "\n",
    "# prepare colors for plot\n",
    "from matplotlib.colors import LinearSegmentedColormap\n",
    "colors = ['#fee6ce','#d94801']\n",
    "import matplotlib\n",
    "cmap = LinearSegmentedColormap.from_list(\"custom_purples\", colors, N=256)\n",
    "matplotlib.cm.register_cmap(\"dana2\", cmap)\n",
    "phasecf = sns.color_palette(\"dana2\", n_colors=27)"
   ]
  },
  {
   "cell_type": "code",
   "execution_count": 5,
   "id": "86571b2b",
   "metadata": {},
   "outputs": [],
   "source": [
    "def mm_norm_col(column):\n",
    "    return (column - column.min()) / (column.max() - column.min())"
   ]
  },
  {
   "cell_type": "code",
   "execution_count": 6,
   "id": "7866371a",
   "metadata": {},
   "outputs": [],
   "source": [
    "## arrange data\n",
    "keep_syllables = np.loadtxt('/n/groups/datta/win/longtogeny/data/ontogeny/version_11/to_keep_syllables_raw.txt', dtype=int)\n",
    "\n",
    "male_df = pd.read_parquet('/n/groups/datta/win/longtogeny/data/ontogeny/version_11/ontogeny_males_raw_usage_matrix_v00.parquet').astype(float)\n",
    "male_df = male_df[keep_syllables]\n",
    "m_df= male_df.groupby(['age','uuid']).mean()\n",
    "\n",
    "## arrange data\n",
    "female_df = pd.read_parquet('/n/groups/datta/win/longtogeny/data/ontogeny/version_11/ontogeny_females_raw_usage_matrix_v00.parquet').astype(float)\n",
    "female_df = female_df[keep_syllables]\n",
    "f_df= female_df.groupby(['age','uuid']).mean()\n",
    "\n",
    "# for female:\n",
    "f_df= female_df.groupby(['age','uuid']).mean()\n",
    "# Update age value to 52 for rows with uuid in the list\n",
    "uuids = ['f1d5dce5-f5cf-4b03-b07d-d9b8c1f034b0','6fa50ac7-6d49-4ef9-9059-3d90bdd8c5d4','e9e05da8-fc59-40f3-a9c8-f57c492c6141','327e7fa1-2237-43d2-b25f-c1801912df33']\n",
    "f_df.reset_index(inplace=True)\n",
    "f_df.loc[f_df['uuid'].isin(uuids), 'age'] = 52\n",
    "# Set the index back\n",
    "f_df.set_index(['age', 'uuid'], inplace=True)"
   ]
  },
  {
   "cell_type": "code",
   "execution_count": 7,
   "id": "428193d2",
   "metadata": {},
   "outputs": [
    {
     "name": "stderr",
     "output_type": "stream",
     "text": [
      "/tmp/ipykernel_22652/244619805.py:9: SettingWithCopyWarning: \n",
      "A value is trying to be set on a copy of a slice from a DataFrame.\n",
      "Try using .loc[row_indexer,col_indexer] = value instead\n",
      "\n",
      "See the caveats in the documentation: https://pandas.pydata.org/pandas-docs/stable/user_guide/indexing.html#returning-a-view-versus-a-copy\n",
      "  m_data['sex'] = 'm'\n",
      "/tmp/ipykernel_22652/244619805.py:13: SettingWithCopyWarning: \n",
      "A value is trying to be set on a copy of a slice from a DataFrame.\n",
      "Try using .loc[row_indexer,col_indexer] = value instead\n",
      "\n",
      "See the caveats in the documentation: https://pandas.pydata.org/pandas-docs/stable/user_guide/indexing.html#returning-a-view-versus-a-copy\n",
      "  f_data['sex'] = 'f'\n"
     ]
    }
   ],
   "source": [
    "# use only common ages\n",
    "f_ages = f_df.index.get_level_values('age').unique().to_numpy()\n",
    "m_ages = m_df.index.get_level_values('age').unique().to_numpy()\n",
    "cages = list(np.intersect1d(f_ages,m_ages))\n",
    "if 90 in cages:\n",
    "    cages.remove(90)\n",
    "    \n",
    "m_data = m_df.loc[m_df.index.get_level_values('age').isin(cages)]\n",
    "m_data['sex'] = 'm'\n",
    "m_data.set_index('sex',inplace=True,append=True)\n",
    "\n",
    "f_data = f_df.loc[f_df.index.get_level_values('age').isin(cages)]\n",
    "f_data['sex'] = 'f'\n",
    "f_data.set_index('sex',inplace=True,append=True)\n",
    "\n",
    "data=pd.concat([m_data,f_data])\n",
    "\n",
    "# use the same number of mice per age - only age 80\n",
    "\n",
    "# Get indices of rows where age is 80\n",
    "indices = m_data[m_data.index.get_level_values('age') == 80].index\n",
    "# Choose a random index\n",
    "np.random.seed(0)\n",
    "random_index = np.random.choice(indices)\n",
    "# Remove the row with the selected index\n",
    "m_data = m_data.drop(random_index)"
   ]
  },
  {
   "cell_type": "code",
   "execution_count": 8,
   "id": "4ac4e86e",
   "metadata": {},
   "outputs": [],
   "source": [
    "#average and normalize male\n",
    "avg_m_df = m_data.groupby(['age']).mean()\n",
    "# normalize the data\n",
    "m_norm = mm_norm_col(m_data)\n",
    "avg_m_norm = mm_norm_col(avg_m_df)\n",
    "\n",
    "#average and normalize female\n",
    "avg_f_df = f_data.groupby(['age']).mean()\n",
    "# normalize the data\n",
    "f_norm = mm_norm_col(f_data)\n",
    "avg_f_norm = mm_norm_col(avg_f_df)\n",
    "data=pd.concat([m_data,f_data])"
   ]
  },
  {
   "cell_type": "code",
   "execution_count": 9,
   "id": "cbbfaf13",
   "metadata": {},
   "outputs": [],
   "source": [
    "## from win"
   ]
  },
  {
   "cell_type": "code",
   "execution_count": 10,
   "id": "04d48d0a",
   "metadata": {},
   "outputs": [],
   "source": [
    "import matplotlib.colors as mpc\n",
    "from scipy.spatial.distance import pdist, squareform"
   ]
  },
  {
   "cell_type": "code",
   "execution_count": 11,
   "id": "281ca7bc",
   "metadata": {},
   "outputs": [],
   "source": [
    "iid = dict()\n",
    "iid_df = []\n",
    "iid_avg_df = []\n",
    "for age, _df in f_data.groupby('age'):\n",
    "    inter_ind_dists = pdist(_df, metric='euclidean')\n",
    "    iid[age] = inter_ind_dists\n",
    "    iid_df.append(pd.DataFrame(dict(iid=inter_ind_dists, age=age)))\n",
    "    d = squareform(inter_ind_dists)\n",
    "    d[np.diag_indices_from(d)] = np.nan\n",
    "    d = np.nanmean(d, axis=1)\n",
    "    iid_avg_df.append(pd.DataFrame(dict(iid=d, age=age)))\n",
    "iid_df = pd.concat(iid_df)\n",
    "iid_avg_df = pd.concat(iid_avg_df)"
   ]
  },
  {
   "cell_type": "code",
   "execution_count": 12,
   "id": "56ad4cbc",
   "metadata": {},
   "outputs": [
    {
     "data": {
      "image/png": "[encoded data removed]",
      "text/plain": [
       "<Figure size 130x130 with 1 Axes>"
      ]
     },
     "metadata": {},
     "output_type": "display_data"
    }
   ],
   "source": [
    "fig, ax = plt.subplots(figsize=(1.3, 1.3))\n",
    "a = sns.lineplot(\n",
    "    data=iid_avg_df,\n",
    "    x=\"age\",\n",
    "    y=\"iid\",\n",
    "    zorder=-1,\n",
    "    color='#f16913',\n",
    "    err_kws={\"lw\": 0, \"alpha\": 0.4},\n",
    "    errorbar=(\"se\"),\n",
    ")\n",
    "a = sns.scatterplot(\n",
    "    data=iid_avg_df,\n",
    "    x=\"age\",\n",
    "    y=\"iid\",\n",
    "    palette=cmf,\n",
    "    hue=\"age\",\n",
    "    legend=False,\n",
    "    s=6,\n",
    "    linewidths=0,\n",
    "    alpha=1,\n",
    "    zorder=1,\n",
    ")\n",
    "a.set(\n",
    "    ylim=(0.0, 0.20),\n",
    "    xlim=(0, None),\n",
    "    xlabel=\"Age (wks)\",\n",
    "    ylabel=\"Inter-individual distance (Euclidean)\",\n",
    "    xticks=[0,20,40,60,80],\n",
    ")\n",
    "sns.despine()"
   ]
  },
  {
   "cell_type": "code",
   "execution_count": 13,
   "id": "9d21ea1f",
   "metadata": {},
   "outputs": [],
   "source": [
    "c = PlotConfig()\n",
    "fig.savefig(c.dana_save_path / \"fig3\"/ 'inter_indv_female_euc.pdf', bbox_inches='tight')"
   ]
  },
  {
   "cell_type": "code",
   "execution_count": 14,
   "id": "2bb6e544",
   "metadata": {},
   "outputs": [],
   "source": [
    "## from win"
   ]
  },
  {
   "cell_type": "code",
   "execution_count": 15,
   "id": "259d769b",
   "metadata": {},
   "outputs": [],
   "source": [
    "import matplotlib.colors as mpc\n",
    "from scipy.spatial.distance import pdist, squareform"
   ]
  },
  {
   "cell_type": "code",
   "execution_count": 16,
   "id": "4f6c61d8",
   "metadata": {},
   "outputs": [],
   "source": [
    "iid = dict()\n",
    "iid_df = []\n",
    "iid_avg_df = []\n",
    "for age, _df in m_data.groupby('age'):\n",
    "    inter_ind_dists = pdist(_df, metric='euclidean')\n",
    "    iid[age] = inter_ind_dists\n",
    "    iid_df.append(pd.DataFrame(dict(iid=inter_ind_dists, age=age)))\n",
    "    d = squareform(inter_ind_dists)\n",
    "    d[np.diag_indices_from(d)] = np.nan\n",
    "    d = np.nanmean(d, axis=1)\n",
    "    iid_avg_df.append(pd.DataFrame(dict(iid=d, age=age)))\n",
    "iid_df = pd.concat(iid_df)\n",
    "iid_avg_df = pd.concat(iid_avg_df)"
   ]
  },
  {
   "cell_type": "code",
   "execution_count": 17,
   "id": "f10dde86",
   "metadata": {},
   "outputs": [
    {
     "data": {
      "image/png": "[encoded data removed]",
      "text/plain": [
       "<Figure size 130x130 with 1 Axes>"
      ]
     },
     "metadata": {},
     "output_type": "display_data"
    }
   ],
   "source": [
    "fig, ax = plt.subplots(figsize=(1.3, 1.3))\n",
    "a = sns.lineplot(\n",
    "    data=iid_avg_df,\n",
    "    x=\"age\",\n",
    "    y=\"iid\",\n",
    "    zorder=-1,\n",
    "    color='#20B2AA',\n",
    "    err_kws={\"lw\": 0, \"alpha\": 0.4},\n",
    "    errorbar=(\"se\"),\n",
    ")\n",
    "a = sns.scatterplot(\n",
    "    data=iid_avg_df,\n",
    "    x=\"age\",\n",
    "    y=\"iid\",\n",
    "    palette=cmm,\n",
    "    hue=\"age\",\n",
    "    legend=False,\n",
    "    s=6,\n",
    "    linewidths=0,\n",
    "    alpha=1,\n",
    "    zorder=1,\n",
    ")\n",
    "a.set(\n",
    "    ylim=(0.0, 0.20),\n",
    "    xlim=(0, None),\n",
    "    xlabel=\"Age (wks)\",\n",
    "    ylabel=\"Inter-individual distance (Euclidean)\",\n",
    "    xticks=[0,20,40,60,80],\n",
    ")\n",
    "sns.despine()"
   ]
  },
  {
   "cell_type": "code",
   "execution_count": 18,
   "id": "4d6fe443",
   "metadata": {},
   "outputs": [],
   "source": [
    "fig.savefig(c.dana_save_path / \"fig3\"/ 'inter_indv_male_euc.pdf', bbox_inches='tight')"
   ]
  }
 ],
 "metadata": {
  "kernelspec": {
   "display_name": "Python 3 (ipykernel)",
   "language": "python",
   "name": "python3"
  },
  "language_info": {
   "codemirror_mode": {
    "name": "ipython",
    "version": 3
   },
   "file_extension": ".py",
   "mimetype": "text/x-python",
   "name": "python",
   "nbconvert_exporter": "python",
   "pygments_lexer": "ipython3",
   "version": "3.10.12"
  }
 },
 "nbformat": 4,
 "nbformat_minor": 5
}
