{
 "cells": [
  {
   "cell_type": "code",
   "execution_count": 1,
   "id": "a77ea523",
   "metadata": {},
   "outputs": [],
   "source": [
    "import numpy as np\n",
    "import pandas as pd\n",
    "import matplotlib.pyplot as plt\n",
    "import seaborn as sns\n",
    "from pathlib import Path\n",
    "import matplotlib as mpl\n",
    "import os\n",
    "from matplotlib.lines import Line2D\n",
    "from collections import Counter\n",
    "import math\n",
    "from sklearn.decomposition import PCA\n",
    "from aging.behavior.syllables import relabel_by_usage\n",
    "from tqdm import tqdm\n",
    "%matplotlib inline\n",
    "import warnings\n",
    "warnings.simplefilter('ignore')\n",
    "import random\n",
    "import scipy\n",
    "from sklearn.cluster import KMeans\n",
    "from sklearn.preprocessing import StandardScaler\n",
    "from sklearn.metrics import adjusted_rand_score\n",
    "from kneed import KneeLocator\n",
    "from sklearn.metrics import silhouette_score\n",
    "%matplotlib inline\n",
    "from aging.plotting import format_plots, PlotConfig, save_factory, figure, legend, format_pizza_plots\n",
    "from sklearn.linear_model import ElasticNet\n",
    "from sklearn.preprocessing import MinMaxScaler\n",
    "from sklearn.feature_selection import mutual_info_classif as MIC\n",
    "from sklearn.feature_selection import mutual_info_regression as MIR"
   ]
  },
  {
   "cell_type": "code",
   "execution_count": 2,
   "id": "3c4c8f8b",
   "metadata": {},
   "outputs": [],
   "source": [
    "format_plots()\n",
    "#format_pizza_plots()"
   ]
  },
  {
   "cell_type": "code",
   "execution_count": 3,
   "id": "a5d457e3",
   "metadata": {},
   "outputs": [],
   "source": [
    "def mm_norm_col(column):\n",
    "    return (column - column.min()) / (column.max() - column.min())"
   ]
  },
  {
   "cell_type": "code",
   "execution_count": 4,
   "id": "fca29863",
   "metadata": {},
   "outputs": [],
   "source": [
    "keep_syllables = np.loadtxt('/n/groups/datta/win/longtogeny/data/ontogeny/version_11/to_keep_syllables_raw.txt', dtype=int)\n",
    "\n",
    "df = pd.read_parquet('/n/groups/datta/win/longtogeny/data/ontogeny/version_11-1/longtogeny_v2_females_raw_usage_matrix_v00.parquet').astype(float)\n",
    "df = df[keep_syllables].groupby(['age','uuid','mouse']).mean()\n",
    "\n",
    "# take only first sample from each week\n",
    "ages= df.index.get_level_values('age')\n",
    "weeks = (ages * 7) // 7\n",
    "df['binned_age'] = weeks\n",
    "\n",
    "sample = df.groupby(['mouse','binned_age']).first().reset_index()\n",
    "sample2 = df.groupby(['mouse','binned_age']).last().reset_index()\n",
    "sample2['binned_age'] = sample2['binned_age']+0.5\n",
    "df_female = pd.concat([sample,sample2])\n",
    "df_female.rename(columns={'binned_age': 'age'}, inplace=True)\n",
    "df_female.set_index(['age', 'mouse'], inplace=True)\n"
   ]
  },
  {
   "cell_type": "code",
   "execution_count": 5,
   "id": "9104e231",
   "metadata": {},
   "outputs": [],
   "source": [
    "keep_syllables = np.loadtxt('/n/groups/datta/win/longtogeny/data/ontogeny/version_11/to_keep_syllables_raw.txt', dtype=int)\n",
    "\n",
    "df = pd.read_parquet('/n/groups/datta/win/longtogeny/data/ontogeny/version_11-1/longtogeny_v2_males_raw_usage_matrix_v00.parquet').astype(float)\n",
    "df = df[keep_syllables].groupby(['age','uuid','mouse']).mean()\n",
    "\n",
    "ages= df.index.get_level_values('age')\n",
    "weeks = (ages * 7) // 7\n",
    "df['binned_age'] = weeks\n",
    "sample = df.groupby(['mouse','binned_age']).first().reset_index()\n",
    "sample2 = df.groupby(['mouse','binned_age']).last().reset_index()\n",
    "sample2['binned_age'] = sample2['binned_age']+0.5\n",
    "df_male = pd.concat([sample,sample2])\n",
    "df_male.rename(columns={'binned_age': 'age'}, inplace=True)\n",
    "\n",
    "df_male.set_index(['age', 'mouse'], inplace=True)"
   ]
  },
  {
   "cell_type": "code",
   "execution_count": 6,
   "id": "4a197712",
   "metadata": {},
   "outputs": [],
   "source": [
    "# avarage per age or session\n",
    "f_df= df_female.groupby(['age','mouse']).mean()\n",
    "avg_f_df = f_df.groupby(['age']).mean()\n",
    "\n",
    "# normalize the data\n",
    "f_norm = mm_norm_col(f_df)\n",
    "avg_f_norm = mm_norm_col(avg_f_df)\n",
    "\n",
    "# avarage per age or session\n",
    "m_df= df_male.groupby(['age','mouse']).mean()\n",
    "avg_m_df = m_df.groupby(['age']).mean()\n",
    "\n",
    "# normalize the data\n",
    "m_norm = mm_norm_col(m_df)\n",
    "avg_m_norm = mm_norm_col(avg_m_df)"
   ]
  },
  {
   "cell_type": "code",
   "execution_count": 7,
   "id": "7a3092e3",
   "metadata": {},
   "outputs": [],
   "source": [
    "## joint data\n",
    "#m_data=m_norm.copy()\n",
    "m_data=m_df.copy()\n",
    "m_data['sex'] = 'm'\n",
    "m_data.set_index('sex',inplace=True,append=True)\n",
    "\n",
    "#f_data=f_norm.copy()\n",
    "f_data=f_df.copy()\n",
    "f_data['sex'] = 'f'\n",
    "f_data.set_index('sex',inplace=True,append=True)\n",
    "\n",
    "data=pd.concat([m_data,f_data])"
   ]
  },
  {
   "cell_type": "code",
   "execution_count": 8,
   "id": "5c255859",
   "metadata": {},
   "outputs": [],
   "source": [
    "long_data = data.copy()"
   ]
  },
  {
   "cell_type": "code",
   "execution_count": 9,
   "id": "3d164fc7",
   "metadata": {},
   "outputs": [],
   "source": [
    "## MI for age"
   ]
  },
  {
   "cell_type": "code",
   "execution_count": 10,
   "id": "3a9c1c17",
   "metadata": {},
   "outputs": [],
   "source": [
    "X = long_data.to_numpy()\n",
    "y = list(long_data.index.get_level_values('age'))\n",
    "mi_score_long = MIR(X,y)"
   ]
  },
  {
   "cell_type": "code",
   "execution_count": 11,
   "id": "67b8b38a",
   "metadata": {},
   "outputs": [],
   "source": [
    "long_indx = np.argsort(mi_score_long)[::-1][0:len(keep_syllables)] # syllble index\n",
    "impsyl_long= list(long_data.columns[long_indx]) #syllable id\n",
    "top_mi_score_long = mi_score_long[long_indx]\n",
    "imp_long = np.array(['n']*len(mi_score_long))\n",
    "imp_long[np.array(long_indx)]='y'"
   ]
  },
  {
   "cell_type": "code",
   "execution_count": 12,
   "id": "a35fe19d",
   "metadata": {},
   "outputs": [],
   "source": [
    "print('10 most informative syllables for longtogeny: ',impsyl_long)"
   ]
  },
  {
   "cell_type": "code",
   "execution_count": 13,
   "id": "64975bcb",
   "metadata": {},
   "outputs": [],
   "source": [
    "## MI for identity in longtogeny"
   ]
  },
  {
   "cell_type": "code",
   "execution_count": 14,
   "id": "78f6d16c",
   "metadata": {},
   "outputs": [],
   "source": [
    "X = long_data.to_numpy()\n",
    "y = list(long_data.index.get_level_values('sex'))\n",
    "mi_score_id = MIC(X,y)"
   ]
  },
  {
   "cell_type": "code",
   "execution_count": 15,
   "id": "2e3173a3",
   "metadata": {},
   "outputs": [],
   "source": [
    "id_indx = np.argsort(mi_score_id)[::-1][0:len(keep_syllables)] # syllble index\n",
    "impsyl_id= list(long_data.columns[id_indx]) #syllable id\n",
    "top_mi_score_id = mi_score_id[id_indx]\n",
    "imp_id = np.array(['n']*len(mi_score_id))\n",
    "imp_id[np.array(id_indx)]='y'"
   ]
  },
  {
   "cell_type": "code",
   "execution_count": 16,
   "id": "6eedfc00",
   "metadata": {},
   "outputs": [],
   "source": [
    "print('10 most informative syllables for sex: ',impsyl_id)"
   ]
  },
  {
   "cell_type": "code",
   "execution_count": 17,
   "id": "7f6bbe1e",
   "metadata": {},
   "outputs": [],
   "source": [
    "syllable_classes = pd.read_csv('./v11_syllable_labels_v2.csv')\n",
    "id_map = syllable_classes.set_index('Original ID')['Class']\n",
    "class_sort = [id_map[k] for k in long_data.columns]"
   ]
  },
  {
   "cell_type": "code",
   "execution_count": 18,
   "id": "9cb55e59",
   "metadata": {},
   "outputs": [],
   "source": [
    "from sklearn.preprocessing import LabelEncoder\n",
    "format_plots()\n",
    "mi_df = pd.DataFrame()\n",
    "mi_df['mi'] = np.concatenate((mi_score_id,mi_score_long))\n",
    "mi_df['syll'] = np.concatenate((np.array(long_data.columns),np.array(long_data.columns)))\n",
    "mi_df['exp'] = ['Sex']*len(long_data.columns)+['Age']*len(long_data.columns)\n",
    "mi_df['rank'] = mi_df.groupby('exp')['mi'].rank()\n",
    "mi_df['class'] = np.concatenate((class_sort, class_sort))\n",
    "\n",
    "le = LabelEncoder()\n",
    "le.fit(np.unique(mi_df['class'].unique()))\n",
    "y = le.transform(mi_df['class'])\n",
    "palette = sns.color_palette(\"tab20\", len(np.unique(mi_df['class'])))\n",
    "\n",
    "# Plot\n",
    "format_plots()\n",
    "fig, ax = plt.subplots()\n",
    "fig.set_size_inches(1.3,1.3)\n",
    "for i in mi_df['syll'].unique():\n",
    "    sns.pointplot(data=mi_df[mi_df.syll==i], x='exp', y='mi', join=True, \n",
    "                  color=palette[y[mi_df[mi_df['syll'] == i].index[0]]],\n",
    "                  order=['Age', 'Sex'], markers=['o', 's'], scale=0.5, ax=ax)  # Adjust marker size with scale\n",
    "\n",
    "# Create legend\n",
    "legend_labels = le.inverse_transform(range(len(np.unique(mi_df['class']))))\n",
    "legend_handles = [plt.Line2D([0], [0], marker='o', color='w', label=label, \n",
    "                              markerfacecolor=color, markersize=4) for label, color in zip(legend_labels, palette)]\n",
    "plt.legend(handles=legend_handles, title='Class', bbox_to_anchor=(1.05, 1), loc='upper left')  # Place legend outside of the panel\n",
    "sns.despine()\n",
    "plt.show()\n",
    "c = PlotConfig()\n",
    "fig.savefig(c.dana_save_path / \"fig4\"/ 'MI_aging_vs_sex_longtogeny_classes.pdf')"
   ]
  },
  {
   "cell_type": "code",
   "execution_count": 19,
   "id": "b8955616",
   "metadata": {},
   "outputs": [],
   "source": [
    "format_plots()\n",
    "fig, ax = plt.subplots()\n",
    "fig.set_size_inches(1.3,1.3)\n",
    "\n",
    "#sns.pointplot(data=mi_df,x='exp',y='rank',hue='syll',join=True, palette='magma',hue_order=impsyl_id)\n",
    "sns.pointplot(data=mi_df,x='exp',y='mi',hue='syll',join=True, palette='magma',order = ['Age','Sex'],\n",
    "              hue_order=impsyl_long)\n",
    "\n",
    "sns.despine()\n",
    "ax.legend_.remove()  # Remove the legend\n",
    "c = PlotConfig()\n",
    "fig.savefig(c.dana_save_path / \"fig4\"/ 'MI_aging_vs_sex_longtogeny.pdf')"
   ]
  },
  {
   "cell_type": "code",
   "execution_count": 20,
   "id": "fc8b82a1",
   "metadata": {},
   "outputs": [],
   "source": [
    "fig, ax = plt.subplots()\n",
    "fig.set_size_inches(1.3,1.3)\n",
    "\n",
    "#sns.pointplot(data=mi_df,x='exp',y='rank',hue='syll',join=True, palette='magma',hue_order=impsyl_id)\n",
    "sns.pointplot(data=mi_df,x='exp',y='rank',hue='syll',join=True, palette='magma',order = ['Age','Sex'], hue_order=impsyl_long)\n",
    "ax.legend_.remove()\n",
    "sns.despine()\n",
    "c = PlotConfig()\n",
    "fig.savefig(c.dana_save_path / \"fig3\"/ 'MI_aging_vs_sex_point_RANK_longtogeny.pdf')"
   ]
  },
  {
   "cell_type": "code",
   "execution_count": 21,
   "id": "fd3bbfdd",
   "metadata": {},
   "outputs": [],
   "source": [
    "## plot differently"
   ]
  },
  {
   "cell_type": "code",
   "execution_count": 22,
   "id": "30fae01d",
   "metadata": {},
   "outputs": [],
   "source": [
    "X = long_data.to_numpy()\n",
    "y = list(long_data.index.get_level_values('age'))\n",
    "mi_score_m = MIR(X,y)\n",
    "\n",
    "m_rank = np.argsort(mi_score_m)[::-1]\n",
    "m_scores = mi_score_m[m_rank]"
   ]
  },
  {
   "cell_type": "code",
   "execution_count": 23,
   "id": "408f79d9",
   "metadata": {},
   "outputs": [],
   "source": [
    "import random\n",
    "it=100\n",
    "mi_shf=[]\n",
    "for i in tqdm(range(it)):\n",
    "    ytemp = random.shuffle(y)\n",
    "    mi_temp = MIR(X,y)\n",
    "    mi_shf.append(mi_temp)\n",
    "    \n",
    "m_sh = np.mean(mi_shf, axis=0)"
   ]
  },
  {
   "cell_type": "code",
   "execution_count": 24,
   "id": "808877bc",
   "metadata": {},
   "outputs": [],
   "source": [
    "m_sh = np.mean(mi_shf, axis=0)\n",
    "m_scores_sh = m_sh[m_rank]"
   ]
  },
  {
   "cell_type": "code",
   "execution_count": 25,
   "id": "a5885ebd",
   "metadata": {},
   "outputs": [],
   "source": [
    "X = long_data.to_numpy()\n",
    "y = list(long_data.index.get_level_values('sex'))\n",
    "mi_score_f = MIC(X,y)\n",
    "\n",
    "f_rank = np.argsort(mi_score_f)\n",
    "f_scores = mi_score_f[m_rank] ## sorted by males"
   ]
  },
  {
   "cell_type": "code",
   "execution_count": 26,
   "id": "99d658dd",
   "metadata": {},
   "outputs": [],
   "source": [
    "import random\n",
    "it=100\n",
    "mi_shf=[]\n",
    "for i in tqdm(range(it)):\n",
    "    ytemp = random.shuffle(y)\n",
    "    mi_temp = MIC(X,y)\n",
    "    mi_shf.append(mi_temp)\n",
    "    \n",
    "f_sh = np.mean(mi_shf, axis=0)\n",
    "f_scores_sh = f_sh[m_rank]"
   ]
  },
  {
   "cell_type": "code",
   "execution_count": 27,
   "id": "c5933554",
   "metadata": {},
   "outputs": [],
   "source": [
    "fig = plt.figure(figsize=(1.3, 1.3))\n",
    "ax = fig.gca()\n",
    "sns.lineplot(m_scores, ax=ax, color = '#20B2AA', lw=1)\n",
    "sns.lineplot(f_scores, ax=ax, color = 'purple',lw=1)\n",
    "sns.lineplot(m_scores_sh, ax=ax, color = '#20B2AA', lw=1, linestyle='dashed')\n",
    "sns.lineplot(f_scores_sh, ax=ax, color = 'purple',lw=1,linestyle='dashed')\n",
    "sns.despine()\n",
    "plt.xlabel('syllables (sorted by age MI score)')\n",
    "plt.ylabel('MI score')"
   ]
  },
  {
   "cell_type": "code",
   "execution_count": 28,
   "id": "090494b2",
   "metadata": {},
   "outputs": [],
   "source": [
    "#c = PlotConfig()\n",
    "#fig.savefig(c.dana_save_path / \"fig4\"/ 'long_MI_aging_vs_indv_sorted_shuff_longv2.pdf')"
   ]
  },
  {
   "cell_type": "code",
   "execution_count": null,
   "id": "fb123e0d",
   "metadata": {},
   "outputs": [],
   "source": []
  },
  {
   "cell_type": "code",
   "execution_count": 29,
   "id": "1ea233ca",
   "metadata": {},
   "outputs": [],
   "source": [
    "## plot example for 3 syllables with highest age MI across life for 4 mice\n",
    "n=10\n",
    "df_age = long_data[impsyl_long[0:n]]"
   ]
  },
  {
   "cell_type": "code",
   "execution_count": 30,
   "id": "28948413",
   "metadata": {},
   "outputs": [],
   "source": [
    "for i in range(n):\n",
    "    fig, ax = plt.subplots()\n",
    "    fig.set_size_inches(0.75,0.75) \n",
    "    sns.lineplot(data=df_age,x='age',y=impsyl_long[i],hue='mouse',marker='none',\n",
    "                 palette = 'gray',\n",
    "             hue_order=['M4_02','M3_02','M2_02','M1_02'],\n",
    "             #hue_order=['01_01','01_02','01_03','01_04'],\n",
    "             legend=False, linewidth = 0.5)\n",
    "    sns.despine()\n",
    "    #fig.savefig(c.dana_save_path / \"fig4\"/ ('example_MI_aging_longv2_'+str(impsyl_long[i])+'.pdf'))"
   ]
  },
  {
   "cell_type": "code",
   "execution_count": 31,
   "id": "7dfaca8e",
   "metadata": {},
   "outputs": [],
   "source": [
    "from statsmodels.nonparametric.smoothers_lowess import lowess\n",
    "\n",
    "for i in range(n):\n",
    "    fig, ax = plt.subplots()\n",
    "    fig.set_size_inches(0.75, 0.75) \n",
    "    sns.lineplot(data=df_age, x='age', y=impsyl_long[i], hue='mouse', marker='none',\n",
    "                 palette='gray',\n",
    "                 hue_order=['M4_02', 'M3_02', 'M2_02', 'M1_02'],\n",
    "                 legend=False, linewidth=0.5, ax=ax)\n",
    "\n",
    "    # Smooth the lines\n",
    "    for line in ax.lines:\n",
    "        y = line.get_ydata()\n",
    "        x = line.get_xdata()\n",
    "        smoothed = lowess(y, x)\n",
    "        line.set_ydata(smoothed[:, 1])\n",
    "\n",
    "    sns.despine()"
   ]
  },
  {
   "cell_type": "code",
   "execution_count": 32,
   "id": "92496b4e",
   "metadata": {},
   "outputs": [],
   "source": [
    "import seaborn as sns\n",
    "import matplotlib.pyplot as plt\n",
    "n=10\n",
    "\n",
    "rolling_window_size = 5  # You can adjust this value according to your preference\n",
    "\n",
    "for i in range(n):\n",
    "    fig, ax = plt.subplots()\n",
    "    fig.set_size_inches(0.75, 0.75) \n",
    "    sns.lineplot(data=df_age, x='age', y=impsyl_long[i], hue='mouse', marker='none',\n",
    "                 palette='gray',\n",
    "                 hue_order=['M4_02', 'M3_02', 'M2_02', 'M1_02'],\n",
    "                 legend=False, linewidth=0.5, ax=ax)\n",
    "\n",
    "    # Apply rolling average\n",
    "    for line in ax.lines:\n",
    "        y = line.get_ydata()\n",
    "        rolling_y = pd.Series(y).rolling(window=rolling_window_size, min_periods=1, center=True).mean().values\n",
    "        line.set_ydata(rolling_y)\n",
    "\n",
    "    sns.despine()\n",
    "    #fig.savefig(c.dana_save_path / \"fig4\" / ('example_MI_aging_longv2_'+str(impsyl_long[i])+'.pdf'))\n"
   ]
  },
  {
   "cell_type": "code",
   "execution_count": 33,
   "id": "fb7a8817",
   "metadata": {},
   "outputs": [],
   "source": [
    "import seaborn as sns\n",
    "import matplotlib.pyplot as plt\n",
    "n=5\n",
    "df_age = long_data[impsyl_id[0:n]]\n",
    "rolling_window_size = 5  # You can adjust this value according to your preference\n",
    "\n",
    "for i in range(n):\n",
    "    fig, ax = plt.subplots()\n",
    "    fig.set_size_inches(0.75, 0.75) \n",
    "    sns.lineplot(data=df_age, x='age', y=impsyl_id[i], hue='mouse', marker='none',\n",
    "                 palette='gray',\n",
    "                 hue_order=['M4_02', 'M3_02', 'M2_02', 'M1_02'],\n",
    "                 legend=False, linewidth=0.5, ax=ax)\n",
    "\n",
    "    # Apply rolling average\n",
    "    for line in ax.lines:\n",
    "        y = line.get_ydata()\n",
    "        rolling_y = pd.Series(y).rolling(window=rolling_window_size, min_periods=1, center=True).mean().values\n",
    "        line.set_ydata(rolling_y)\n",
    "\n",
    "    sns.despine()\n",
    "    #fig.savefig(c.dana_save_path / \"fig4\" / ('example_MI_id_longv2_'+str(impsyl_long[i])+'.pdf'))"
   ]
  },
  {
   "cell_type": "code",
   "execution_count": 34,
   "id": "97b75ea8",
   "metadata": {},
   "outputs": [],
   "source": [
    "for i in range(n):\n",
    "    fig, ax = plt.subplots()\n",
    "    fig.set_size_inches(0.75,0.75) \n",
    "    sns.lineplot(data=df_age,x='age',y=impsyl_id[i],hue='mouse',marker='none',\n",
    "                 palette = 'gray',\n",
    "             hue_order=['M4_02','M3_02','M2_02','M1_02'],\n",
    "             #hue_order=['01_01','01_02','01_03','01_04'],\n",
    "                 linewidth=0.5,\n",
    "             legend=False)\n",
    "    sns.despine()\n",
    "    #fig.savefig(c.dana_save_path / \"fig4\"/ ('example_MI_id_longv2_'+str(impsyl_id[i])+'.pdf'))"
   ]
  },
  {
   "cell_type": "code",
   "execution_count": null,
   "id": "f17948ce",
   "metadata": {},
   "outputs": [],
   "source": []
  },
  {
   "cell_type": "code",
   "execution_count": null,
   "id": "9f6cba7e",
   "metadata": {},
   "outputs": [],
   "source": []
  }
 ],
 "metadata": {
  "kernelspec": {
   "display_name": "Python 3 (ipykernel)",
   "language": "python",
   "name": "python3"
  },
  "language_info": {
   "codemirror_mode": {
    "name": "ipython",
    "version": 3
   },
   "file_extension": ".py",
   "mimetype": "text/x-python",
   "name": "python",
   "nbconvert_exporter": "python",
   "pygments_lexer": "ipython3",
   "version": "3.10.12"
  }
 },
 "nbformat": 4,
 "nbformat_minor": 5
}
