{
 "cells": [
  {
   "cell_type": "code",
   "execution_count": 1,
   "id": "a77ea523",
   "metadata": {},
   "outputs": [],
   "source": [
    "import numpy as np\n",
    "import pandas as pd\n",
    "import seaborn as sns\n",
    "import matplotlib.pyplot as plt\n",
    "from aging.plotting import format_plots, PlotConfig, save_factory, figure, legend, format_pizza_plots, add_identity\n",
    "from collections import Counter\n",
    "from matplotlib.lines import Line2D\n",
    "from tqdm import tqdm"
   ]
  },
  {
   "cell_type": "code",
   "execution_count": 2,
   "id": "d1dc615e",
   "metadata": {},
   "outputs": [],
   "source": [
    "from sklearn.model_selection import train_test_split\n",
    "from sklearn import svm\n",
    "from sklearn.ensemble import RandomForestClassifier\n",
    "from matplotlib.gridspec import GridSpec\n",
    "from collections import defaultdict\n",
    "from sklearn.model_selection import cross_val_score, cross_val_predict\n",
    "from sklearn.linear_model import LogisticRegression, LinearRegression\n",
    "from sklearn.model_selection import ShuffleSplit\n",
    "from sklearn.svm import LinearSVC\n",
    "from sklearn.model_selection import GroupKFold, LeaveOneGroupOut, LeaveOneOut, KFold\n",
    "from sklearn.metrics import accuracy_score, mean_absolute_error, mean_squared_error, r2_score, confusion_matrix\n",
    "from sklearn.neighbors import KNeighborsRegressor\n",
    "from sklearn.cross_decomposition import PLSRegression"
   ]
  },
  {
   "cell_type": "code",
   "execution_count": 3,
   "id": "86571b2b",
   "metadata": {},
   "outputs": [],
   "source": [
    "def mm_norm_col(column):\n",
    "    return (column - column.min()) / (column.max() - column.min())"
   ]
  },
  {
   "cell_type": "code",
   "execution_count": 4,
   "id": "25a26386",
   "metadata": {},
   "outputs": [],
   "source": [
    "from matplotlib.colors import LinearSegmentedColormap\n",
    "# Define the color map\n",
    "colors = ['#d94801','white','#008C8D']\n",
    "custom_cmap = LinearSegmentedColormap.from_list(\"custom_purples\", colors, N=256)\n",
    "cmmf=custom_cmap\n",
    "\n",
    "colors = ['#dadaeb','#6a51a3']\n",
    "custom_cmap = LinearSegmentedColormap.from_list(\"custom_purples\", colors, N=256)\n",
    "cma=custom_cmap\n",
    "\n",
    "colors = ['white','gray']\n",
    "custom_cmap = LinearSegmentedColormap.from_list(\"custom_purples\", colors, N=256)\n",
    "cma=custom_cmap\n",
    "\n",
    "colors = ['#ccece6','#99d8c9','#66c2a4','#41ae76','#238b45','#006d2c']\n",
    "cml = sns.blend_palette(colors, n_colors=256, as_cmap=True)\n",
    "\n",
    "# Define the color map\n",
    "colors = ['#fee6ce','#d94801']\n",
    "custom_cmap = LinearSegmentedColormap.from_list(\"custom_purples\", colors, N=256)\n",
    "cmf=custom_cmap\n",
    "\n",
    "colors = ['#c7eae5','#008C8D']\n",
    "custom_cmap = LinearSegmentedColormap.from_list(\"custom_purples\", colors, N=256)\n",
    "cmm=custom_cmap"
   ]
  },
  {
   "cell_type": "code",
   "execution_count": 5,
   "id": "e34ebdd1",
   "metadata": {},
   "outputs": [],
   "source": [
    "keep_syllables = np.loadtxt('/n/groups/datta/win/longtogeny/data/ontogeny/version_11/to_keep_syllables_raw.txt', dtype=int)\n",
    "\n",
    "df = pd.read_parquet('/n/groups/datta/win/longtogeny/data/ontogeny/version_11-1/longtogeny_v2_females_raw_usage_matrix_v00.parquet').astype(float)\n",
    "df = df[keep_syllables].groupby(['age','uuid','mouse']).mean()\n",
    "\n",
    "ages= df.index.get_level_values('age')\n",
    "weeks = (ages * 7) // 7\n",
    "df['binned_age'] = weeks\n",
    "sample = df.groupby(['mouse','binned_age']).first().reset_index()\n",
    "sample2 = df.groupby(['mouse','binned_age']).last().reset_index()\n",
    "sample2['binned_age'] = sample2['binned_age']+0.5\n",
    "df_male = pd.concat([sample,sample2])\n",
    "df_male.rename(columns={'binned_age': 'age'}, inplace=True)\n",
    "\n",
    "df_male.set_index(['age', 'mouse'], inplace=True)"
   ]
  },
  {
   "cell_type": "code",
   "execution_count": 6,
   "id": "3b206b07",
   "metadata": {},
   "outputs": [],
   "source": [
    "# avarage per age or session\n",
    "m_df= df_male.groupby(['age','mouse']).mean()\n",
    "# normalize the data\n",
    "m_norm = mm_norm_col(m_df)"
   ]
  },
  {
   "cell_type": "code",
   "execution_count": 7,
   "id": "fbc08584",
   "metadata": {},
   "outputs": [],
   "source": [
    "# choose a model for decoder\n",
    "clf = PLSRegression(n_components=5)\n",
    "cv = LeaveOneOut()\n",
    "#number of iterations for shuffle\n",
    "it=100"
   ]
  },
  {
   "cell_type": "code",
   "execution_count": 8,
   "id": "b356544a",
   "metadata": {},
   "outputs": [],
   "source": [
    "format_plots()"
   ]
  },
  {
   "cell_type": "code",
   "execution_count": 9,
   "id": "b3241d1f",
   "metadata": {},
   "outputs": [],
   "source": [
    "#prepare data\n",
    "data=m_norm.copy()\n",
    "y_age =data.index.get_level_values('age').to_numpy()\n",
    "X=data.to_numpy()\n",
    "#X=np.log(X + 1e-6) # convert to linear"
   ]
  },
  {
   "cell_type": "code",
   "execution_count": 10,
   "id": "692e8809",
   "metadata": {},
   "outputs": [],
   "source": [
    "#decoder\n",
    "y_pred = cross_val_predict(clf, X, y_age, cv=cv)\n",
    "r2_age = r2_score(y_age, y_pred)\n",
    "print(r2_age)"
   ]
  },
  {
   "cell_type": "code",
   "execution_count": 11,
   "id": "99a5ac30",
   "metadata": {},
   "outputs": [],
   "source": [
    "res_age = y_age.flatten()-y_pred.flatten()\n",
    "res_less = res_age[res_age<0]\n",
    "res_more = res_age[res_age>0]\n",
    "print(np.mean(abs(res_less)))\n",
    "print(np.mean(abs(res_more)))"
   ]
  },
  {
   "cell_type": "code",
   "execution_count": 12,
   "id": "fd0a886d",
   "metadata": {},
   "outputs": [],
   "source": [
    "from scipy.stats import pearsonr\n",
    "print(pearsonr(y_age, y_pred.flatten()))"
   ]
  },
  {
   "cell_type": "code",
   "execution_count": 13,
   "id": "a9849e1c",
   "metadata": {},
   "outputs": [],
   "source": [
    "fig = figure(1.3, 1.3)\n",
    "ax = fig.gca()\n",
    "plt.scatter(y_age, y_pred, c=y_age, cmap=cmf, s=3)\n",
    "#add_identity(ax, ls='--', color='k', zorder=-1)\n",
    "ax.set(xlim=(0, None),yticks=[0, 10, 20, 30, 40,50,60], xticks=[0, 10, 20, 30, 40,50], xlabel=\"Age (wks)\", ylabel=\"Predicted age (wks)\", \n",
    "       title=f\"R2={r2_age:0.2f}\",\n",
    "      )\n",
    "plt.plot(y_age, y_age, linestyle='--', color='black')\n",
    "sns.despine()"
   ]
  },
  {
   "cell_type": "code",
   "execution_count": 14,
   "id": "78d15afa",
   "metadata": {},
   "outputs": [],
   "source": [
    "c = PlotConfig()\n",
    "fig.savefig(c.dana_save_path / \"fig4\"/ 'decoder_true_vs_predicted_longv2_female.pdf', bbox_inches='tight')"
   ]
  },
  {
   "cell_type": "code",
   "execution_count": 15,
   "id": "1b5d6f38",
   "metadata": {},
   "outputs": [],
   "source": [
    "#shuffle\n",
    "ysh_score_age=[]\n",
    "ysh_age=[]\n",
    "ysh_predict_age=[]\n",
    "ysh_mse_age=[]\n",
    "for i in tqdm(range(it)):\n",
    "    ysh_temp=np.random.permutation(y_age)\n",
    "    y_pred_temp = cross_val_predict(clf, X, ysh_temp, cv=cv)\n",
    "    ysh_score_age.append(r2_score(y_age, y_pred_temp))\n",
    "    ysh_age.extend(ysh_temp)\n",
    "    ysh_predict_age.extend(y_pred_temp)\n",
    "    ysh_mse_age.append(mean_squared_error(y_age, y_pred_temp))"
   ]
  },
  {
   "cell_type": "code",
   "execution_count": 16,
   "id": "41969c20",
   "metadata": {},
   "outputs": [],
   "source": [
    "fig = plt.figure(figsize=(1, 1))\n",
    "fig.dpi = 300\n",
    "ax = sns.histplot(data=ysh_score_age, fill=True, element='step', lw=0, color='black', alpha=0.25)\n",
    "ax.axvline(r2_age, color='#f16913', lw=1, linestyle='--')\n",
    "\n",
    "ax.set(ylabel='Count')\n",
    "ax.set(xlabel='R2')\n",
    "plt.xlim([-1,1])\n",
    "sns.despine()\n",
    "c = PlotConfig()\n",
    "fig.savefig(c.dana_save_path / \"fig4\"/ 'age_regression_shuf_longv2_female.pdf', bbox_inches='tight')"
   ]
  },
  {
   "cell_type": "code",
   "execution_count": null,
   "id": "455e91c3",
   "metadata": {},
   "outputs": [],
   "source": []
  },
  {
   "cell_type": "code",
   "execution_count": 17,
   "id": "725a4d65",
   "metadata": {},
   "outputs": [],
   "source": [
    "## leave one age out"
   ]
  },
  {
   "cell_type": "code",
   "execution_count": 18,
   "id": "160978e7",
   "metadata": {},
   "outputs": [],
   "source": [
    "#prepare data\n",
    "data=m_norm.copy()\n",
    "y_pred=[]\n",
    "y_age=[]\n",
    "for age in data.index.get_level_values('age').unique():\n",
    "    test = data[data.index.get_level_values('age')==age]\n",
    "    x_test = test.to_numpy()\n",
    "    y_test = test.index.get_level_values('age')\n",
    "    \n",
    "    train = data[data.index.get_level_values('age')!=age]\n",
    "    x_train = train.to_numpy()\n",
    "    y_train = train.index.get_level_values('age')\n",
    "    \n",
    "    clf.fit(x_train, y_train)\n",
    "    pred =clf.predict(x_test)\n",
    "    \n",
    "    y_age.extend(y_test)\n",
    "    y_pred.extend(pred)"
   ]
  },
  {
   "cell_type": "code",
   "execution_count": 19,
   "id": "b5cafd1b",
   "metadata": {},
   "outputs": [],
   "source": [
    "r2_age = r2_score(y_age, y_pred)\n",
    "print(r2_age)"
   ]
  },
  {
   "cell_type": "code",
   "execution_count": 20,
   "id": "9397e53e",
   "metadata": {},
   "outputs": [],
   "source": [
    "from scipy.stats import pearsonr\n",
    "print(pearsonr(y_age, np.array(y_pred).flatten()))"
   ]
  },
  {
   "cell_type": "code",
   "execution_count": 21,
   "id": "570aed0f",
   "metadata": {},
   "outputs": [],
   "source": [
    "fig = figure(1.2, 1.2)\n",
    "ax = fig.gca()\n",
    "plt.scatter(y_age, y_pred, c=y_age, cmap=cmf, s=3)\n",
    "#add_identity(ax, ls='--', color='k', zorder=-1)\n",
    "ax.set(xlim=(0, None),yticks=[0, 10, 20, 30, 40,50,60], xticks=[0, 10, 20, 30, 40,50], xlabel=\"Age (wks)\", ylabel=\"Predicted age (wks)\", \n",
    "       title=f\"R2={r2_age:0.2f}\",\n",
    "      )\n",
    "plt.plot(y_age, y_age, linestyle='--', color='black')\n",
    "sns.despine()"
   ]
  },
  {
   "cell_type": "code",
   "execution_count": 22,
   "id": "e3a7a3a4",
   "metadata": {},
   "outputs": [],
   "source": [
    "c = PlotConfig()\n",
    "fig.savefig(c.dana_save_path / \"fig4\"/ 'decoder_true_vs_predicted_leave_age_out_longv2_female.pdf', bbox_inches='tight')"
   ]
  },
  {
   "cell_type": "code",
   "execution_count": null,
   "id": "0641079a",
   "metadata": {},
   "outputs": [],
   "source": []
  }
 ],
 "metadata": {
  "kernelspec": {
   "display_name": "Python 3 (ipykernel)",
   "language": "python",
   "name": "python3"
  },
  "language_info": {
   "codemirror_mode": {
    "name": "ipython",
    "version": 3
   },
   "file_extension": ".py",
   "mimetype": "text/x-python",
   "name": "python",
   "nbconvert_exporter": "python",
   "pygments_lexer": "ipython3",
   "version": "3.10.12"
  }
 },
 "nbformat": 4,
 "nbformat_minor": 5
}
