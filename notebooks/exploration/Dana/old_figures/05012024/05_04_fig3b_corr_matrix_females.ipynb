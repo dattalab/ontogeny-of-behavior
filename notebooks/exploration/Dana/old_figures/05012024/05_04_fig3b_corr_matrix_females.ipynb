{
 "cells": [
  {
   "cell_type": "code",
   "execution_count": 1,
   "id": "a77ea523",
   "metadata": {},
   "outputs": [],
   "source": [
    "import numpy as np\n",
    "import pandas as pd\n",
    "import seaborn as sns\n",
    "import matplotlib.pyplot as plt\n",
    "from aging.plotting import format_plots, PlotConfig, save_factory, figure, legend, format_pizza_plots\n",
    "from collections import Counter\n",
    "from matplotlib.lines import Line2D"
   ]
  },
  {
   "cell_type": "code",
   "execution_count": 2,
   "id": "d1dc615e",
   "metadata": {},
   "outputs": [],
   "source": [
    "import numpy as np\n",
    "import pandas as pd\n",
    "import matplotlib.pyplot as plt\n",
    "import seaborn as sns\n",
    "import colorcet as cc\n",
    "from operator import add\n",
    "from tqdm.auto import tqdm\n",
    "from functools import reduce\n",
    "from sklearn.cluster import KMeans\n",
    "from sklearn.decomposition import PCA\n",
    "from scipy.spatial.distance import squareform, pdist\n",
    "from sklearn.metrics import silhouette_score\n",
    "from aging.plotting import format_plots, figure, save_factory, PlotConfig, legend, add_identity"
   ]
  },
  {
   "cell_type": "code",
   "execution_count": 3,
   "id": "86571b2b",
   "metadata": {},
   "outputs": [],
   "source": [
    "def mm_norm_col(column):\n",
    "    return (column - column.min()) / (column.max() - column.min())"
   ]
  },
  {
   "cell_type": "code",
   "execution_count": 4,
   "id": "25a26386",
   "metadata": {},
   "outputs": [],
   "source": [
    "from matplotlib.colors import LinearSegmentedColormap\n",
    "colors = ['#c7eae5','#008C8D']\n",
    "custom_cmap = LinearSegmentedColormap.from_list(\"custom_purples\", colors, N=256)\n",
    "cmm=custom_cmap\n",
    "\n",
    "# Define the color map\n",
    "colors = ['#fee6ce','#d94801']\n",
    "custom_cmap = LinearSegmentedColormap.from_list(\"custom_purples\", colors, N=256)\n",
    "cmf=custom_cmap\n",
    "image_ctx = {'image.cmap': 'cubehelix', 'image.interpolation': 'none'}"
   ]
  },
  {
   "cell_type": "code",
   "execution_count": 5,
   "id": "e34ebdd1",
   "metadata": {},
   "outputs": [],
   "source": [
    "## arrange data\n",
    "keep_syllables = np.loadtxt('/n/groups/datta/win/longtogeny/data/ontogeny/version_11/to_keep_syllables_raw.txt', dtype=int)\n",
    "\n",
    "female_df = pd.read_parquet('/n/groups/datta/win/longtogeny/data/ontogeny/version_11/ontogeny_females_raw_usage_matrix_v00.parquet').astype(float)\n",
    "female_df = female_df[keep_syllables]"
   ]
  },
  {
   "cell_type": "code",
   "execution_count": 6,
   "id": "3b206b07",
   "metadata": {},
   "outputs": [],
   "source": [
    "# avarage per age or session\n",
    "f_df= female_df.groupby(['age','uuid']).mean()\n",
    "# Update age value to 52 for rows with uuid in the list\n",
    "uuids = ['f1d5dce5-f5cf-4b03-b07d-d9b8c1f034b0','6fa50ac7-6d49-4ef9-9059-3d90bdd8c5d4','e9e05da8-fc59-40f3-a9c8-f57c492c6141','327e7fa1-2237-43d2-b25f-c1801912df33']\n",
    "f_df.reset_index(inplace=True)\n",
    "f_df.loc[f_df['uuid'].isin(uuids), 'age'] = 52\n",
    "# Set the index back\n",
    "f_df.set_index(['age', 'uuid'], inplace=True)\n",
    "\n",
    "avg_f_df = f_df.groupby(['age']).mean()\n",
    "\n",
    "# normalize the data\n",
    "f_norm = mm_norm_col(f_df)\n",
    "avg_f_norm = mm_norm_col(avg_f_df)"
   ]
  },
  {
   "cell_type": "code",
   "execution_count": 7,
   "id": "de3a2864",
   "metadata": {},
   "outputs": [
    {
     "ename": "NameError",
     "evalue": "name 'avg_f' is not defined",
     "output_type": "error",
     "traceback": [
      "\u001b[0;31m---------------------------------------------------------------------------\u001b[0m",
      "\u001b[0;31mNameError\u001b[0m                                 Traceback (most recent call last)",
      "Cell \u001b[0;32mIn[7], line 2\u001b[0m\n\u001b[1;32m      1\u001b[0m avg_df \u001b[38;5;241m=\u001b[39m avg_f_df\n\u001b[0;32m----> 2\u001b[0m ages \u001b[38;5;241m=\u001b[39m \u001b[43mavg_f\u001b[49m\u001b[38;5;241m.\u001b[39mindex\u001b[38;5;241m.\u001b[39mget_level_values(\u001b[38;5;124m'\u001b[39m\u001b[38;5;124mage\u001b[39m\u001b[38;5;124m'\u001b[39m)\n\u001b[1;32m      3\u001b[0m ages\u001b[38;5;241m.\u001b[39mmin(), ages\u001b[38;5;241m.\u001b[39mmax()\n",
      "\u001b[0;31mNameError\u001b[0m: name 'avg_f' is not defined"
     ]
    }
   ],
   "source": [
    "avg_df = avg_f_df\n",
    "ages = avg_f_df.index.get_level_values('age')\n",
    "ages.min(), ages.max()"
   ]
  },
  {
   "cell_type": "code",
   "execution_count": null,
   "id": "d9b2c5d9",
   "metadata": {},
   "outputs": [],
   "source": [
    "# get JSD\n",
    "fdata=avg_f_df\n",
    "kld = squareform(pdist(fdata, metric='jensenshannon'))\n",
    "data_labels=fdata.index.get_level_values('age').to_numpy()"
   ]
  },
  {
   "cell_type": "code",
   "execution_count": null,
   "id": "133d1e17",
   "metadata": {},
   "outputs": [],
   "source": [
    "#colors for plotting\n",
    "cmap2 = cmf\n",
    "ages = np.unique(data_labels)\n",
    "colors = np.int_(np.arange(0, 256, 256/len(ages)))\n",
    "seqmatcolor='cubehelix'\n",
    "\n",
    "# create age labels colors\n",
    "lines=[]\n",
    "counter = Counter(data_labels)\n",
    "sorted(counter.items())\n",
    "a=np.array([*counter.values()])\n",
    "\n",
    "color_mat=[]\n",
    "n=0\n",
    "for i,c in enumerate(colors):\n",
    "    for j in range(a[i]):\n",
    "        color_mat.append(cmap2(c))"
   ]
  },
  {
   "cell_type": "code",
   "execution_count": null,
   "id": "482f2b5e",
   "metadata": {},
   "outputs": [],
   "source": [
    "# plot syllable usage acoss time points\n",
    "cg=sns.clustermap(\n",
    "    data=kld,\n",
    "    cmap=seqmatcolor, \n",
    "    figsize=(3, 3),\n",
    "    col_colors=color_mat,\n",
    "    row_colors=color_mat,\n",
    "    cbar_pos=(1.02, 0.025, 0.025, .73),\n",
    "    col_cluster=False,\n",
    "    row_cluster=False,\n",
    "    yticklabels=False,\n",
    "    xticklabels=False,\n",
    "    cbar_kws={'label': 'fraction of use'}, \n",
    "    vmin=0.0,\n",
    "    vmax=0.4)\n",
    "cg.ax_row_dendrogram.set_visible(False)\n",
    "ax = cg.ax_heatmap\n",
    "ax.tick_params(left=False, bottom=False, right=False)\n",
    "ax.set_xlabel('Sessions')\n",
    "ax.set_ylabel('Syllables')\n",
    "ax.set_title('correlation matrix per mouse min data')\n",
    "# legend\n",
    "for i,c in enumerate(colors):\n",
    "        lines.append(Line2D([0], [0], color=cmap2(c), lw=2))\n",
    "plt.legend(handles=lines,labels=list(ages),bbox_to_anchor=(10, 1),loc='upper right',fontsize=6)\n",
    "plt.show()"
   ]
  },
  {
   "cell_type": "code",
   "execution_count": null,
   "id": "e61fd728",
   "metadata": {},
   "outputs": [],
   "source": [
    "c = PlotConfig()\n",
    "cg.savefig(c.dana_save_path / \"fig3\"/ 'female_corr_matrix.pdf')"
   ]
  },
  {
   "cell_type": "code",
   "execution_count": null,
   "id": "bde656de",
   "metadata": {},
   "outputs": [],
   "source": []
  },
  {
   "cell_type": "code",
   "execution_count": null,
   "id": "ebf2dbd0",
   "metadata": {},
   "outputs": [],
   "source": [
    "# get JSD\n",
    "fdata=f_df\n",
    "kld = squareform(pdist(fdata, metric='jensenshannon'))\n",
    "#dm[np.diag_indices_from(dm)] = np.nan\n",
    "data_labels=fdata.index.get_level_values('age').to_numpy()"
   ]
  },
  {
   "cell_type": "code",
   "execution_count": null,
   "id": "5f23f231",
   "metadata": {},
   "outputs": [],
   "source": [
    "#colors for plotting\n",
    "cmap2 = cmf\n",
    "ages = np.unique(data_labels)\n",
    "colors = np.int_(np.arange(0, 256, 256/len(ages)))\n",
    "seqmatcolor='cubehelix'\n",
    "\n",
    "# create age labels colors\n",
    "lines=[]\n",
    "counter = Counter(data_labels)\n",
    "sorted(counter.items())\n",
    "a=np.array([*counter.values()])\n",
    "\n",
    "color_mat=[]\n",
    "n=0\n",
    "for i,c in enumerate(colors):\n",
    "    for j in range(a[i]):\n",
    "        color_mat.append(cmap2(c))"
   ]
  },
  {
   "cell_type": "code",
   "execution_count": null,
   "id": "973f5819",
   "metadata": {},
   "outputs": [],
   "source": [
    "# plot syllable usage acoss time points\n",
    "cg=sns.clustermap(\n",
    "    data=kld,\n",
    "    cmap=seqmatcolor, \n",
    "    figsize=(3, 3),\n",
    "    col_colors=color_mat,\n",
    "    row_colors=color_mat,\n",
    "    cbar_pos=(1.02, 0.025, 0.025, .73),\n",
    "    col_cluster=False,\n",
    "    row_cluster=False,\n",
    "    yticklabels=False,\n",
    "    xticklabels=False,\n",
    "    cbar_kws={'label': 'fraction of use'}, \n",
    "    vmin=0.1,\n",
    "    vmax=0.5)\n",
    "cg.ax_row_dendrogram.set_visible(False)\n",
    "ax = cg.ax_heatmap\n",
    "ax.tick_params(left=False, bottom=False, right=False)\n",
    "ax.set_xlabel('Sessions')\n",
    "ax.set_ylabel('Syllables')\n",
    "ax.set_title('correlation matrix per mouse data')\n",
    "# legend\n",
    "for i,c in enumerate(colors):\n",
    "        lines.append(Line2D([0], [0], color=cmap2(c), lw=2))\n",
    "plt.legend(handles=lines,labels=list(ages),bbox_to_anchor=(10, 1),loc='upper right',fontsize=6)\n",
    "plt.show()"
   ]
  },
  {
   "cell_type": "code",
   "execution_count": null,
   "id": "63214207",
   "metadata": {},
   "outputs": [],
   "source": [
    "c = PlotConfig()\n",
    "cg.savefig(c.dana_save_path / \"fig3\"/ 'female_corr_matrix_indv.pdf')"
   ]
  }
 ],
 "metadata": {
  "kernelspec": {
   "display_name": "Python 3 (ipykernel)",
   "language": "python",
   "name": "python3"
  },
  "language_info": {
   "codemirror_mode": {
    "name": "ipython",
    "version": 3
   },
   "file_extension": ".py",
   "mimetype": "text/x-python",
   "name": "python",
   "nbconvert_exporter": "python",
   "pygments_lexer": "ipython3",
   "version": "3.10.12"
  }
 },
 "nbformat": 4,
 "nbformat_minor": 5
}
