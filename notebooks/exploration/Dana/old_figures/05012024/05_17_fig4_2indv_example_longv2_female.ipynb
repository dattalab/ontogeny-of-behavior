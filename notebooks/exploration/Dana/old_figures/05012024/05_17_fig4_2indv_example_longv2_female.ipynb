{
 "cells": [
  {
   "cell_type": "code",
   "execution_count": 1,
   "id": "a77ea523",
   "metadata": {},
   "outputs": [],
   "source": [
    "import numpy as np\n",
    "import pandas as pd\n",
    "import seaborn as sns\n",
    "import matplotlib.pyplot as plt\n",
    "from aging.plotting import format_plots, PlotConfig, save_factory, figure, legend, format_pizza_plots\n",
    "from collections import Counter\n",
    "from matplotlib.lines import Line2D"
   ]
  },
  {
   "cell_type": "code",
   "execution_count": 2,
   "id": "d1dc615e",
   "metadata": {},
   "outputs": [],
   "source": [
    "import numpy as np\n",
    "import pandas as pd\n",
    "import matplotlib.pyplot as plt\n",
    "import seaborn as sns\n",
    "import colorcet as cc\n",
    "from operator import add\n",
    "from tqdm.auto import tqdm\n",
    "from functools import reduce\n",
    "from sklearn.cluster import KMeans\n",
    "from sklearn.decomposition import PCA\n",
    "from scipy.spatial.distance import squareform, pdist\n",
    "from sklearn.metrics import silhouette_score\n",
    "from aging.plotting import format_plots, figure, save_factory, PlotConfig, legend, add_identity"
   ]
  },
  {
   "cell_type": "code",
   "execution_count": 3,
   "id": "86571b2b",
   "metadata": {},
   "outputs": [],
   "source": [
    "def mm_norm_col(column):\n",
    "    return (column - column.min()) / (column.max() - column.min())"
   ]
  },
  {
   "cell_type": "code",
   "execution_count": null,
   "id": "fe3f9766",
   "metadata": {},
   "outputs": [],
   "source": []
  },
  {
   "cell_type": "code",
   "execution_count": 4,
   "id": "25a26386",
   "metadata": {},
   "outputs": [],
   "source": [
    "from matplotlib.colors import LinearSegmentedColormap\n",
    "# Define the color map\n",
    "colors = ['#c7eae5','#008C8D']\n",
    "custom_cmap = LinearSegmentedColormap.from_list(\"custom_purples\", colors, N=256)\n",
    "cmm=custom_cmap\n",
    "\n",
    "# prepare colors for plot\n",
    "colors = ['#c7eae5','#008C8D']\n",
    "import matplotlib\n",
    "cmap = LinearSegmentedColormap.from_list(\"custom_purples\", colors, N=256)\n",
    "matplotlib.cm.register_cmap(\"dana\", cmap)\n",
    "phasec_m = sns.color_palette(\"dana\", n_colors=27)\n",
    "\n",
    "\n",
    "from matplotlib.colors import LinearSegmentedColormap\n",
    "# Define the color map\n",
    "colors = ['#fee6ce','#d94801']\n",
    "custom_cmap = LinearSegmentedColormap.from_list(\"custom_purples\", colors, N=256)\n",
    "cmf=custom_cmap\n",
    "\n",
    "# prepare colors for plot\n",
    "colors = ['#fee6ce','#d94801']\n",
    "import matplotlib\n",
    "cmap = LinearSegmentedColormap.from_list(\"custom_purples\", colors, N=256)\n",
    "matplotlib.cm.register_cmap(\"dana_f\", cmap)\n",
    "phasec_f = sns.color_palette(\"dana_f\", n_colors=27)"
   ]
  },
  {
   "cell_type": "code",
   "execution_count": 5,
   "id": "e34ebdd1",
   "metadata": {},
   "outputs": [],
   "source": [
    "keep_syllables = np.loadtxt('/n/groups/datta/win/longtogeny/data/ontogeny/version_11/to_keep_syllables_raw.txt', dtype=int)\n",
    "\n",
    "df = pd.read_parquet('/n/groups/datta/win/longtogeny/data/ontogeny/version_11-1/longtogeny_v2_females_raw_usage_matrix_v00.parquet').astype(float)\n",
    "df = df[keep_syllables].groupby(['age','uuid','mouse']).mean()\n",
    "\n",
    "ages= df.index.get_level_values('age')\n",
    "weeks = (ages * 7) // 7\n",
    "df['binned_age'] = weeks\n",
    "sample = df.groupby(['mouse','binned_age']).first().reset_index()\n",
    "#sample2 = df.groupby(['mouse','binned_age']).last().reset_index()\n",
    "#sample2['binned_age'] = sample2['binned_age']+0.5\n",
    "#df_male = pd.concat([sample,sample2])\n",
    "df_male = sample.copy()\n",
    "df_male.rename(columns={'binned_age': 'age'}, inplace=True)\n",
    "\n",
    "df_male.set_index(['age', 'mouse'], inplace=True)"
   ]
  },
  {
   "cell_type": "code",
   "execution_count": 6,
   "id": "3b206b07",
   "metadata": {},
   "outputs": [],
   "source": [
    "# avarage per age or session\n",
    "m_df= df_male.groupby(['age','mouse']).mean()\n",
    "avg_m_df = m_df.groupby(['age']).mean()\n",
    "\n",
    "# normalize the data\n",
    "m_norm = mm_norm_col(m_df)\n",
    "avg_m_norm = mm_norm_col(avg_m_df)"
   ]
  },
  {
   "cell_type": "code",
   "execution_count": 7,
   "id": "fbc08584",
   "metadata": {},
   "outputs": [],
   "source": [
    "# sort syllable order by the average\n",
    "syll_sort_m = (\n",
    "    avg_m_norm.rolling(5, center=True, win_type=\"exponential\")\n",
    "    .mean(tau=1.5)\n",
    "    .idxmax()\n",
    "    .sort_values()\n",
    "    .index\n",
    ")"
   ]
  },
  {
   "cell_type": "code",
   "execution_count": 8,
   "id": "15bba0c7",
   "metadata": {},
   "outputs": [],
   "source": [
    "ba = m_df[syll_sort_m]"
   ]
  },
  {
   "cell_type": "code",
   "execution_count": 9,
   "id": "ade2196e",
   "metadata": {},
   "outputs": [],
   "source": [
    "ind1 = 6\n",
    "ind2 = 36\n",
    "b1 = ba.loc[(ind1, \"F1_01\")].to_numpy().squeeze()\n",
    "b2 = ba.loc[(ind1, \"F1_02\")].to_numpy().squeeze()\n",
    "\n",
    "b3 = ba.loc[(ind2, \"F1_01\")].to_numpy().squeeze()\n",
    "b4 = ba.loc[(ind2, \"F1_02\")].to_numpy().squeeze()\n",
    "\n",
    "syll_df = pd.concat(\n",
    "    [\n",
    "        pd.DataFrame(\n",
    "            dict(\n",
    "                diff=b1 - b2,\n",
    "                sort_diff=np.sort(b1 - b2),\n",
    "                m1=b1,\n",
    "                m2=b2,\n",
    "                age=ind1,\n",
    "                ord=np.arange(len(b1))[np.argsort(b1 - b2)],\n",
    "            )\n",
    "        ),\n",
    "        pd.DataFrame(\n",
    "            dict(\n",
    "                diff=b3 - b4,\n",
    "                sort_diff=np.sort(b3 - b4),\n",
    "                m1=b3,\n",
    "                m2=b4,\n",
    "                age=ind2,\n",
    "                ord=np.arange(len(b3))[np.argsort(b3 - b4)],\n",
    "            )\n",
    "        ),\n",
    "    ]\n",
    ").reset_index()\n",
    "syll_df = syll_df.rename(columns={\"index\": \"syllable\"})"
   ]
  },
  {
   "cell_type": "code",
   "execution_count": 10,
   "id": "b72bc656",
   "metadata": {},
   "outputs": [],
   "source": [
    "fig, ax = plt.subplots(figsize=(1.3, 1.3))\n",
    "ax = sns.kdeplot(data=syll_df, x='diff', hue='age', bw_adjust=1.5, palette=cmf, fill=True, edgecolor='k', linewidth=0.5, alpha=0.85, legend=False)\n",
    "ax.set(xlabel=\"Usage difference\", xlim=(-0.125, 0.125))\n",
    "sns.despine()"
   ]
  },
  {
   "cell_type": "code",
   "execution_count": 11,
   "id": "640a37b2",
   "metadata": {},
   "outputs": [],
   "source": [
    "c = PlotConfig()\n",
    "fig.savefig(c.dana_save_path / \"fig4\"/ 'longv2_2indv_diff_dist_female.pdf')"
   ]
  },
  {
   "cell_type": "code",
   "execution_count": 12,
   "id": "b3e480c0",
   "metadata": {},
   "outputs": [],
   "source": [
    "idx = np.argsort(b2 + b4)[::-1]"
   ]
  },
  {
   "cell_type": "code",
   "execution_count": 13,
   "id": "dc890315",
   "metadata": {},
   "outputs": [],
   "source": [
    "fig, ax = plt.subplots(1, 2, figsize=(3.6, 1.3), sharey=True)\n",
    "ax[0].plot(b2[idx], label=\"Mouse 1\", c='k')\n",
    "ax[0].plot(b1[idx], label=\"Mouse 2\", c='silver')\n",
    "ax[1].plot(b4[idx], label=\"Mouse 1\", c='k')\n",
    "ax[1].plot(b3[idx], label=\"Mouse 2\", c='silver')\n",
    "ax[1].set(title=f\"{ind2} weeks\")\n",
    "ax[0].set(xlabel=\"Sorted syllable ID\", ylabel=\"Fraction of use\", title=f\"{ind1} weeks\")\n",
    "legend(ax[1])\n",
    "sns.despine()"
   ]
  },
  {
   "cell_type": "code",
   "execution_count": 14,
   "id": "39a74d7f",
   "metadata": {},
   "outputs": [],
   "source": [
    "c = PlotConfig()\n",
    "fig.savefig(c.dana_save_path / \"fig4\"/ 'longv2_2indv_line_female.pdf')"
   ]
  },
  {
   "cell_type": "code",
   "execution_count": 15,
   "id": "bc7db262",
   "metadata": {},
   "outputs": [],
   "source": [
    "age = syll_df['age'].min()\n",
    "out = squareform(pdist(ba.loc[ind1]))\n",
    "fig = figure(1.2, 1)\n",
    "ax = fig.gca()\n",
    "im = ax.imshow(out, vmax=0.15, cmap='cubehelix')\n",
    "ax.set(xticks=[], yticks=[], xlabel=\"Mouse ID\", ylabel=\"Mouse ID\", title=f\"{age} weeks\")\n",
    "fig.colorbar(im, ax=ax, label=\"Beh. distance (JSD)\")\n",
    "c = PlotConfig()\n",
    "fig.savefig(c.dana_save_path / \"fig4\"/ 'longv2_2indv_dist_age1_female.pdf')"
   ]
  },
  {
   "cell_type": "code",
   "execution_count": 16,
   "id": "91740776",
   "metadata": {},
   "outputs": [],
   "source": [
    "age = syll_df['age'].max()\n",
    "out = squareform(pdist(ba.loc[ind2]))\n",
    "fig = figure(1.2, 1)\n",
    "ax = fig.gca()\n",
    "im = ax.imshow(out, vmax=0.15, cmap='cubehelix')\n",
    "ax.set(xticks=[], yticks=[], xlabel=\"Mouse ID\", ylabel=\"Mouse ID\", title=f\"{age} weeks\")\n",
    "fig.colorbar(im, ax=ax, label=\"Beh. distance (JSD)\")\n",
    "fig.savefig(c.dana_save_path / \"fig4\"/ 'longv2_2indv_dist_age2_female.pdf')"
   ]
  },
  {
   "cell_type": "code",
   "execution_count": null,
   "id": "99f75e11",
   "metadata": {},
   "outputs": [],
   "source": []
  }
 ],
 "metadata": {
  "kernelspec": {
   "display_name": "Python 3 (ipykernel)",
   "language": "python",
   "name": "python3"
  },
  "language_info": {
   "codemirror_mode": {
    "name": "ipython",
    "version": 3
   },
   "file_extension": ".py",
   "mimetype": "text/x-python",
   "name": "python",
   "nbconvert_exporter": "python",
   "pygments_lexer": "ipython3",
   "version": "3.10.12"
  }
 },
 "nbformat": 4,
 "nbformat_minor": 5
}
