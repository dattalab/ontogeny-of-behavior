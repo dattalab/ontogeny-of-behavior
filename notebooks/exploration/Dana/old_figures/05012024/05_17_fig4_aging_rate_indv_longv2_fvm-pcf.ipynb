{
 "cells": [
  {
   "cell_type": "code",
   "execution_count": 1,
   "id": "a77ea523",
   "metadata": {},
   "outputs": [],
   "source": [
    "%matplotlib inline\n",
    "import numpy as np\n",
    "import pandas as pd\n",
    "import seaborn as sns\n",
    "import matplotlib.pyplot as plt\n",
    "from aging.plotting import format_plots, PlotConfig, save_factory, figure, legend, format_pizza_plots, add_identity\n",
    "from collections import Counter\n",
    "from matplotlib.lines import Line2D\n",
    "from tqdm import tqdm"
   ]
  },
  {
   "cell_type": "code",
   "execution_count": 2,
   "id": "d1dc615e",
   "metadata": {},
   "outputs": [],
   "source": [
    "from sklearn.model_selection import train_test_split\n",
    "from sklearn import svm\n",
    "from sklearn.ensemble import RandomForestClassifier\n",
    "from matplotlib.gridspec import GridSpec\n",
    "from collections import defaultdict\n",
    "from sklearn.model_selection import cross_val_score, cross_val_predict\n",
    "from sklearn.linear_model import LogisticRegression, LinearRegression\n",
    "from sklearn.model_selection import ShuffleSplit\n",
    "from sklearn.svm import LinearSVC\n",
    "from sklearn.model_selection import GroupKFold, LeaveOneGroupOut, LeaveOneOut, KFold\n",
    "from sklearn.metrics import accuracy_score, mean_absolute_error, mean_squared_error, r2_score, confusion_matrix\n",
    "from sklearn.neighbors import KNeighborsRegressor\n",
    "from sklearn.cross_decomposition import PLSRegression"
   ]
  },
  {
   "cell_type": "code",
   "execution_count": 3,
   "id": "86571b2b",
   "metadata": {},
   "outputs": [],
   "source": [
    "def mm_norm_col(column):\n",
    "    return (column - column.min()) / (column.max() - column.min())"
   ]
  },
  {
   "cell_type": "code",
   "execution_count": 4,
   "id": "25a26386",
   "metadata": {},
   "outputs": [],
   "source": [
    "from matplotlib.colors import LinearSegmentedColormap\n",
    "colors = ['#c7eae5','#008C8D']\n",
    "custom_cmap = LinearSegmentedColormap.from_list(\"custom_purples\", colors, N=256)\n",
    "cmm=custom_cmap\n",
    "\n",
    "image_ctx = {'image.cmap': 'cubehelix', 'image.interpolation': 'none'}"
   ]
  },
  {
   "cell_type": "code",
   "execution_count": 5,
   "id": "e34ebdd1",
   "metadata": {},
   "outputs": [
    {
     "data": {
      "text/plain": [
       "\"\\nkeep_syllables = np.loadtxt('/n/groups/datta/win/longtogeny/data/ontogeny/version_11/to_keep_syllables_raw.txt', dtype=int)\\n\\ndf = pd.read_parquet('/n/groups/datta/win/longtogeny/data/ontogeny/version_11-1/longtogeny_v2_males_raw_usage_matrix_v00.parquet').astype(float)\\ndf = df[keep_syllables].groupby(['age','uuid','mouse']).mean()\\n\\nages= df.index.get_level_values('age')\\nweeks = (ages * 7) // 7\\ndf['binned_age'] = weeks\\n#sample = df.groupby(['mouse','binned_age']).first().reset_index()\\nsample = df.groupby(['mouse','binned_age']).mean().reset_index()\\n#sample2 = df.groupby(['mouse','binned_age']).last().reset_index()\\n#sample2['binned_age'] = sample2['binned_age']+0.5\\n#df_male = pd.concat([sample,sample2])\\ndf_male=sample.copy()\\ndf_male.rename(columns={'binned_age': 'age'}, inplace=True)\\n\\ndf_male.set_index(['age', 'mouse'], inplace=True)\\n\""
      ]
     },
     "execution_count": 5,
     "metadata": {},
     "output_type": "execute_result"
    }
   ],
   "source": [
    "'''\n",
    "keep_syllables = np.loadtxt('/n/groups/datta/win/longtogeny/data/ontogeny/version_11/to_keep_syllables_raw.txt', dtype=int)\n",
    "\n",
    "df = pd.read_parquet('/n/groups/datta/win/longtogeny/data/ontogeny/version_11-1/longtogeny_v2_males_raw_usage_matrix_v00.parquet').astype(float)\n",
    "df = df[keep_syllables].groupby(['age','uuid','mouse']).mean()\n",
    "\n",
    "ages= df.index.get_level_values('age')\n",
    "weeks = (ages * 7) // 7\n",
    "df['binned_age'] = weeks\n",
    "#sample = df.groupby(['mouse','binned_age']).first().reset_index()\n",
    "sample = df.groupby(['mouse','binned_age']).mean().reset_index()\n",
    "#sample2 = df.groupby(['mouse','binned_age']).last().reset_index()\n",
    "#sample2['binned_age'] = sample2['binned_age']+0.5\n",
    "#df_male = pd.concat([sample,sample2])\n",
    "df_male=sample.copy()\n",
    "df_male.rename(columns={'binned_age': 'age'}, inplace=True)\n",
    "\n",
    "df_male.set_index(['age', 'mouse'], inplace=True)\n",
    "'''"
   ]
  },
  {
   "cell_type": "code",
   "execution_count": 6,
   "id": "d71fc950",
   "metadata": {},
   "outputs": [],
   "source": [
    "# Load data\n",
    "keep_syllables = np.loadtxt('/n/groups/datta/win/longtogeny/data/ontogeny/version_11/to_keep_syllables_raw.txt', dtype=int)\n",
    "\n",
    "df = pd.read_parquet('/n/groups/datta/win/longtogeny/data/ontogeny/version_11-1/longtogeny_v2_males_raw_usage_matrix_v00.parquet').astype(float)\n",
    "df = df[keep_syllables]#.groupby(['age', 'uuid', 'mouse']).mean()\n",
    "\n",
    "# get age in weeks\n",
    "weeks = (df.index.get_level_values('age') * 7) // 30\n",
    "\n",
    "# Convert age to approximate months\n",
    "# df['age_months'] = df.index.get_level_values('age') // 4\n",
    "\n",
    "# Group by mouse and monthly age, then select the first entry in each group\n",
    "# monthly_first = df.groupby(['mouse', 'age_months']).first().reset_index()\n",
    "monthly_first = df.groupby(['mouse', weeks], observed=True).first()#.reset_index()\n",
    "#monthly_first = df.groupby(['mouse', 'age_months']).mean().reset_index()\n",
    "\n",
    "# If 'age' is the original age in weeks and you want to keep it\n",
    "# monthly_first['age'] = monthly_first['age_months'] * 4\n",
    "\n",
    "# Set the index back to age (in weeks) and mouse\n",
    "# monthly_first.set_index(['age', 'mouse'], inplace=True)\n",
    "\n",
    "df_male= monthly_first.copy()"
   ]
  },
  {
   "cell_type": "code",
   "execution_count": 8,
   "id": "12fd03b6",
   "metadata": {},
   "outputs": [],
   "source": [
    "# Load data\n",
    "keep_syllables = np.loadtxt('/n/groups/datta/win/longtogeny/data/ontogeny/version_11/to_keep_syllables_raw.txt', dtype=int)\n",
    "\n",
    "df = pd.read_parquet('/n/groups/datta/win/longtogeny/data/ontogeny/version_11-1/longtogeny_v2_females_raw_usage_matrix_v00.parquet').astype(float)\n",
    "df = df[keep_syllables]#.groupby(['age', 'uuid', 'mouse']).mean()\n",
    "\n",
    "# get age in weeks\n",
    "weeks = (df.index.get_level_values('age') * 7) // 7\n",
    "\n",
    "# Convert age to approximate months\n",
    "# df['age_months'] = df.index.get_level_values('age') // 4\n",
    "\n",
    "# Group by mouse and monthly age, then select the first entry in each group\n",
    "# monthly_first = df.groupby(['mouse', 'age_months']).first().reset_index()\n",
    "monthly_first = df.groupby(['mouse', weeks], observed=True).first()#.reset_index()\n",
    "#monthly_first = df.groupby(['mouse', 'age_months']).mean().reset_index()\n",
    "\n",
    "# If 'age' is the original age in weeks and you want to keep it\n",
    "# monthly_first['age'] = monthly_first['age_months'] * 4\n",
    "\n",
    "# Set the index back to age (in weeks) and mouse\n",
    "# monthly_first.set_index(['age', 'mouse'], inplace=True)\n",
    "\n",
    "df_female= monthly_first.copy()"
   ]
  },
  {
   "cell_type": "code",
   "execution_count": 8,
   "id": "3b206b07",
   "metadata": {},
   "outputs": [],
   "source": [
    "# avarage per age or session\n",
    "m_df=df_male.groupby(['age','mouse']).mean()\n",
    "avg_m_df = m_df.groupby(['age']).mean()\n",
    "\n",
    "# normalize the data\n",
    "m_norm = mm_norm_col(m_df)\n",
    "avg_m_norm = mm_norm_col(avg_m_df)\n",
    "\n",
    "# avarage per age or session\n",
    "f_df=df_female.groupby(['age','mouse']).mean()\n",
    "avg_f_df = f_df.groupby(['age']).mean()\n",
    "\n",
    "# normalize the data\n",
    "f_norm = mm_norm_col(f_df)\n",
    "avg_f_norm = mm_norm_col(avg_f_df)"
   ]
  },
  {
   "cell_type": "code",
   "execution_count": 9,
   "id": "55e64139",
   "metadata": {},
   "outputs": [],
   "source": [
    "dist=[]\n",
    "data=m_df.copy()\n",
    "for m, _df in data.groupby('mouse'):\n",
    "    abs_diff = _df.diff().abs()\n",
    "    smoothed_usage = abs_diff.rolling(\n",
    "        1, min_periods=1, win_type=\"gaussian\", center=True\n",
    "    ).mean(std=2)\n",
    "    norm_diff = np.linalg.norm(smoothed_usage.to_numpy(), axis=1)\n",
    "    dist.append(\n",
    "        pd.Series(norm_diff, index=abs_diff.index)\n",
    "    )\n",
    "    \n",
    "boot_df = pd.DataFrame(dist).T.reset_index()\n",
    "boot_df = boot_df.melt(id_vars=[\"age\",'mouse'])\n",
    "boot_df_m=boot_df.copy()"
   ]
  },
  {
   "cell_type": "code",
   "execution_count": 10,
   "id": "6ca9d631",
   "metadata": {},
   "outputs": [],
   "source": [
    "format_plots()"
   ]
  },
  {
   "cell_type": "code",
   "execution_count": 11,
   "id": "d61c35a8",
   "metadata": {},
   "outputs": [],
   "source": [
    "fig = figure(1.3, 1.3)\n",
    "ax = sns.lineplot(\n",
    "    data=boot_df_m,\n",
    "    x=\"age\",\n",
    "    y=\"value\",\n",
    "    hue='mouse',\n",
    "    palette='tab20',\n",
    "    legend=False,\n",
    ")\n",
    "\n",
    "ax.set(ylabel=\"Usage rate of change (normalized)\", xlabel=\"Age (wks)\", xticks = [0,10,20,30,40])\n",
    "sns.despine()"
   ]
  },
  {
   "cell_type": "code",
   "execution_count": 12,
   "id": "ca9d8921",
   "metadata": {},
   "outputs": [],
   "source": [
    "c = PlotConfig()\n",
    "fig.savefig(c.dana_save_path / \"fig4\"/ 'aging_rate_indv_lines_mean_month.pdf', bbox_inches='tight')"
   ]
  },
  {
   "cell_type": "code",
   "execution_count": 13,
   "id": "144394db",
   "metadata": {},
   "outputs": [],
   "source": [
    "fig = figure(1.3, 1.3)\n",
    "ax = sns.lineplot(\n",
    "    data=boot_df_m,\n",
    "    x=\"age\",\n",
    "    y=\"value\",\n",
    "    legend=False,\n",
    "    errorbar=(\"se\"),\n",
    "    err_kws=dict(lw=0),\n",
    "    color='#20B2AA',\n",
    ")\n",
    "#plt.ylim(0.2,1)\n",
    "ax.set(ylabel=\"Usage rate of change (normalized)\", xlabel=\"Age (wks)\", xticks = [0,10,20,30,40])\n",
    "sns.despine()"
   ]
  },
  {
   "cell_type": "code",
   "execution_count": 14,
   "id": "78d15afa",
   "metadata": {},
   "outputs": [],
   "source": [
    "c = PlotConfig()\n",
    "fig.savefig(c.dana_save_path / \"fig4\"/ 'aging_rate_indv_avg_mean_month.pdf', bbox_inches='tight')"
   ]
  },
  {
   "cell_type": "code",
   "execution_count": null,
   "id": "286f3afa",
   "metadata": {},
   "outputs": [],
   "source": []
  },
  {
   "cell_type": "code",
   "execution_count": 15,
   "id": "293c1dbd",
   "metadata": {},
   "outputs": [],
   "source": [
    "dist=[]\n",
    "data=f_df.copy()\n",
    "for m, _df in data.groupby('mouse'):\n",
    "    abs_diff = _df.diff().abs()\n",
    "    smoothed_usage = abs_diff.rolling(\n",
    "        1, min_periods=1, win_type=\"gaussian\", center=True\n",
    "    ).mean(std=2)\n",
    "    norm_diff = np.linalg.norm(smoothed_usage.to_numpy(), axis=1)\n",
    "    dist.append(\n",
    "        pd.Series(norm_diff, index=abs_diff.index)\n",
    "    )\n",
    "    \n",
    "boot_df = pd.DataFrame(dist).T.reset_index()\n",
    "boot_df = boot_df.melt(id_vars=[\"age\",'mouse'])\n",
    "boot_df_f=boot_df.copy()"
   ]
  },
  {
   "cell_type": "code",
   "execution_count": 16,
   "id": "6a8fcb2a",
   "metadata": {},
   "outputs": [],
   "source": [
    "format_plots()"
   ]
  },
  {
   "cell_type": "code",
   "execution_count": 17,
   "id": "2bbde73c",
   "metadata": {},
   "outputs": [],
   "source": [
    "fig = figure(1.3, 1.3)\n",
    "ax = sns.lineplot(\n",
    "    data=boot_df_f,\n",
    "    x=\"age\",\n",
    "    y=\"value\",\n",
    "    hue='mouse',\n",
    "    palette='tab20',\n",
    "    legend=False,\n",
    ")\n",
    "\n",
    "ax.set(ylabel=\"Usage rate of change (normalized)\", xlabel=\"Age (wks)\", xticks = [0,10,20,30,40])\n",
    "sns.despine()"
   ]
  },
  {
   "cell_type": "code",
   "execution_count": 18,
   "id": "326b74fa",
   "metadata": {},
   "outputs": [],
   "source": [
    "c = PlotConfig()\n",
    "fig.savefig(c.dana_save_path / \"fig4\"/ 'aging_rate_indv_lines_mean_month_female.pdf', bbox_inches='tight')"
   ]
  },
  {
   "cell_type": "code",
   "execution_count": 19,
   "id": "a036b94d",
   "metadata": {},
   "outputs": [],
   "source": [
    "fig = figure(1.3, 1.3)\n",
    "ax = sns.lineplot(\n",
    "    data=boot_df_f,\n",
    "    x=\"age\",\n",
    "    y=\"value\",\n",
    "    legend=False,\n",
    "    errorbar=(\"se\"),\n",
    "    err_kws=dict(lw=0),\n",
    "    color='#f16913',\n",
    ")\n",
    "#plt.ylim(0.2,1)\n",
    "ax.set(ylabel=\"Usage rate of change (normalized)\", xlabel=\"Age (wks)\", xticks = [0,10,20,30,40])\n",
    "sns.despine()"
   ]
  },
  {
   "cell_type": "code",
   "execution_count": 20,
   "id": "dd3b7ca9",
   "metadata": {},
   "outputs": [],
   "source": [
    "c = PlotConfig()\n",
    "fig.savefig(c.dana_save_path / \"fig4\"/ 'aging_rate_indv_avg_mean_month_female.pdf', bbox_inches='tight')"
   ]
  },
  {
   "cell_type": "code",
   "execution_count": 21,
   "id": "03a0f08f",
   "metadata": {},
   "outputs": [],
   "source": [
    "format_plots()\n",
    "fig, ax = plt.subplots()\n",
    "fig.set_size_inches(1.3,1.3)\n",
    "\n",
    "ax = sns.lineplot(\n",
    "    data=boot_df_m,\n",
    "    x=\"age\",\n",
    "    y=\"value\",\n",
    "    legend=False,\n",
    "    errorbar=(\"se\"),\n",
    "    err_kws=dict(lw=0),\n",
    "    color='#20B2AA',\n",
    ")\n",
    "\n",
    "ax = sns.lineplot(\n",
    "    data=boot_df_f,\n",
    "    x=\"age\",\n",
    "    y=\"value\",\n",
    "    legend=False,\n",
    "    errorbar=(\"se\"),\n",
    "    err_kws=dict(lw=0),\n",
    "    color='#f16913',\n",
    ")\n",
    "\n",
    "ax.set(ylabel=\"Usage rate of change (normalized)\", xlabel=\"Age (wks)\", xticks = [0,10,20,30,40])\n",
    "sns.despine()"
   ]
  },
  {
   "cell_type": "code",
   "execution_count": 22,
   "id": "43d96e69",
   "metadata": {},
   "outputs": [],
   "source": [
    "c = PlotConfig()\n",
    "fig.savefig(c.dana_save_path / \"fig4\"/ 'aging_rate_indv_avg_mean_month_fvm.pdf', bbox_inches='tight')"
   ]
  },
  {
   "cell_type": "code",
   "execution_count": null,
   "id": "70268efa",
   "metadata": {},
   "outputs": [],
   "source": []
  }
 ],
 "metadata": {
  "kernelspec": {
   "display_name": "Python 3 (ipykernel)",
   "language": "python",
   "name": "python3"
  },
  "language_info": {
   "codemirror_mode": {
    "name": "ipython",
    "version": 3
   },
   "file_extension": ".py",
   "mimetype": "text/x-python",
   "name": "python",
   "nbconvert_exporter": "python",
   "pygments_lexer": "ipython3",
   "version": "3.10.12"
  }
 },
 "nbformat": 4,
 "nbformat_minor": 5
}
