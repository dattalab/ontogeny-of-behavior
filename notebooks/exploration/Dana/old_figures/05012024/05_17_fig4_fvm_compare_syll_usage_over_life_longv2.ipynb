{
 "cells": [
  {
   "cell_type": "code",
   "execution_count": 1,
   "id": "a77ea523",
   "metadata": {},
   "outputs": [],
   "source": [
    "import numpy as np\n",
    "import pandas as pd\n",
    "import seaborn as sns\n",
    "import matplotlib.pyplot as plt\n",
    "from aging.plotting import format_plots, PlotConfig, save_factory, figure, legend, format_pizza_plots\n",
    "from collections import Counter\n",
    "from matplotlib.lines import Line2D\n",
    "from tqdm import tqdm"
   ]
  },
  {
   "cell_type": "code",
   "execution_count": 2,
   "id": "d1dc615e",
   "metadata": {},
   "outputs": [],
   "source": [
    "import numpy as np\n",
    "import pandas as pd\n",
    "import matplotlib.pyplot as plt\n",
    "import seaborn as sns\n",
    "import colorcet as cc\n",
    "from operator import add\n",
    "from tqdm.auto import tqdm\n",
    "from functools import reduce\n",
    "from sklearn.cluster import KMeans\n",
    "from sklearn.decomposition import PCA\n",
    "from scipy.spatial.distance import squareform, pdist\n",
    "from sklearn.metrics import silhouette_score\n",
    "from aging.plotting import format_plots, figure, save_factory, PlotConfig, legend, add_identity\n",
    "from sklearn.cross_decomposition import PLSRegression"
   ]
  },
  {
   "cell_type": "code",
   "execution_count": 3,
   "id": "86571b2b",
   "metadata": {},
   "outputs": [],
   "source": [
    "def mm_norm_col(column):\n",
    "    return (column - column.min()) / (column.max() - column.min())"
   ]
  },
  {
   "cell_type": "code",
   "execution_count": 4,
   "id": "e4e30ebd",
   "metadata": {},
   "outputs": [],
   "source": [
    "from matplotlib.colors import LinearSegmentedColormap\n",
    "# Define the color map\n",
    "colors = ['#d94801','white','#008C8D']\n",
    "custom_cmap = LinearSegmentedColormap.from_list(\"custom_purples\", colors, N=256)\n",
    "cmmf=custom_cmap\n",
    "\n",
    "colors = ['#dadaeb','#6a51a3']\n",
    "custom_cmap = LinearSegmentedColormap.from_list(\"custom_purples\", colors, N=256)\n",
    "cma=custom_cmap\n",
    "\n",
    "colors = ['white','gray']\n",
    "custom_cmap = LinearSegmentedColormap.from_list(\"custom_purples\", colors, N=256)\n",
    "cma=custom_cmap\n",
    "\n",
    "colors = ['#ccece6','#99d8c9','#66c2a4','#41ae76','#238b45','#006d2c']\n",
    "cml = sns.blend_palette(colors, n_colors=256, as_cmap=True)\n",
    "\n",
    "# Define the color map\n",
    "colors = ['#fee6ce','#d94801']\n",
    "custom_cmap = LinearSegmentedColormap.from_list(\"custom_purples\", colors, N=256)\n",
    "cmf=custom_cmap\n",
    "\n",
    "colors = ['#c7eae5','#008C8D']\n",
    "custom_cmap = LinearSegmentedColormap.from_list(\"custom_purples\", colors, N=256)\n",
    "cmm=custom_cmap"
   ]
  },
  {
   "cell_type": "markdown",
   "id": "715f5b32",
   "metadata": {},
   "source": [
    "## data female"
   ]
  },
  {
   "cell_type": "code",
   "execution_count": 5,
   "id": "e9d19727",
   "metadata": {},
   "outputs": [],
   "source": [
    "keep_syllables = np.loadtxt('/n/groups/datta/win/longtogeny/data/ontogeny/version_11/to_keep_syllables_raw.txt', dtype=int)\n",
    "\n",
    "df = pd.read_parquet('/n/groups/datta/win/longtogeny/data/ontogeny/version_11-1/longtogeny_v2_females_raw_usage_matrix_v00.parquet').astype(float)\n",
    "df = df[keep_syllables].groupby(['age','uuid','mouse']).mean()\n",
    "\n",
    "# take only first sample from each week\n",
    "ages= df.index.get_level_values('age')\n",
    "weeks = (ages * 7) // 7\n",
    "df['binned_age'] = weeks\n",
    "\n",
    "sample = df.groupby(['mouse','binned_age']).first().reset_index()\n",
    "sample2 = df.groupby(['mouse','binned_age']).last().reset_index()\n",
    "sample2['binned_age'] = sample2['binned_age']+0.5\n",
    "df_female = pd.concat([sample,sample2])\n",
    "df_female.rename(columns={'binned_age': 'age'}, inplace=True)\n",
    "df_female.set_index(['age', 'mouse'], inplace=True)\n"
   ]
  },
  {
   "cell_type": "markdown",
   "id": "118b0c7f",
   "metadata": {},
   "source": [
    "## data males"
   ]
  },
  {
   "cell_type": "code",
   "execution_count": 6,
   "id": "c3bd4eb0",
   "metadata": {},
   "outputs": [],
   "source": [
    "keep_syllables = np.loadtxt('/n/groups/datta/win/longtogeny/data/ontogeny/version_11/to_keep_syllables_raw.txt', dtype=int)\n",
    "\n",
    "df = pd.read_parquet('/n/groups/datta/win/longtogeny/data/ontogeny/version_11-1/longtogeny_v2_males_raw_usage_matrix_v00.parquet').astype(float)\n",
    "df = df[keep_syllables].groupby(['age','uuid','mouse']).mean()\n",
    "\n",
    "ages= df.index.get_level_values('age')\n",
    "weeks = (ages * 7) // 7\n",
    "df['binned_age'] = weeks\n",
    "sample = df.groupby(['mouse','binned_age']).first().reset_index()\n",
    "sample2 = df.groupby(['mouse','binned_age']).last().reset_index()\n",
    "sample2['binned_age'] = sample2['binned_age']+0.5\n",
    "df_male = pd.concat([sample,sample2])\n",
    "df_male.rename(columns={'binned_age': 'age'}, inplace=True)\n",
    "\n",
    "df_male.set_index(['age', 'mouse'], inplace=True)"
   ]
  },
  {
   "cell_type": "markdown",
   "id": "01a43d09",
   "metadata": {},
   "source": [
    "## normalized"
   ]
  },
  {
   "cell_type": "code",
   "execution_count": 7,
   "id": "d19ce310",
   "metadata": {},
   "outputs": [],
   "source": [
    "# avarage per age or session\n",
    "f_df= df_female.groupby(['age','mouse']).mean()\n",
    "avg_f_df = f_df.groupby(['age']).mean()\n",
    "\n",
    "# normalize the data\n",
    "f_norm = mm_norm_col(f_df)\n",
    "avg_f_norm = mm_norm_col(avg_f_df)\n",
    "\n",
    "# avarage per age or session\n",
    "m_df= df_male.groupby(['age','mouse']).mean()\n",
    "avg_m_df = m_df.groupby(['age']).mean()\n",
    "\n",
    "# normalize the data\n",
    "m_norm = mm_norm_col(m_df)\n",
    "avg_m_norm = mm_norm_col(avg_m_df)"
   ]
  },
  {
   "cell_type": "code",
   "execution_count": 8,
   "id": "1bda49fd",
   "metadata": {},
   "outputs": [],
   "source": [
    "## joint data\n",
    "#m_data=m_norm.copy()\n",
    "m_data=m_df.copy()\n",
    "m_data['sex'] = 'm'\n",
    "m_data.set_index('sex',inplace=True,append=True)\n",
    "\n",
    "#f_data=f_norm.copy()\n",
    "f_data=f_df.copy()\n",
    "f_data['sex'] = 'f'\n",
    "f_data.set_index('sex',inplace=True,append=True)\n",
    "\n",
    "data=pd.concat([m_data,f_data])"
   ]
  },
  {
   "cell_type": "code",
   "execution_count": 9,
   "id": "354597b5",
   "metadata": {},
   "outputs": [],
   "source": [
    "format_plots()"
   ]
  },
  {
   "cell_type": "code",
   "execution_count": 10,
   "id": "ad3d47ea",
   "metadata": {},
   "outputs": [],
   "source": [
    "# look at syllable usage diff male and females according to actual age\n",
    "diff_age_ont =m_data.groupby('age').mean().to_numpy()-f_data.groupby('age').mean().to_numpy()"
   ]
  },
  {
   "cell_type": "code",
   "execution_count": 11,
   "id": "51ba467c",
   "metadata": {},
   "outputs": [
    {
     "data": {
      "text/plain": [
       "[3.0,\n",
       " 3.5,\n",
       " 4.0,\n",
       " 4.5,\n",
       " 5.0,\n",
       " 5.5,\n",
       " 6.0,\n",
       " 6.5,\n",
       " 7.0,\n",
       " 7.5,\n",
       " 8.0,\n",
       " 8.5,\n",
       " 9.0,\n",
       " 9.5,\n",
       " 10.0,\n",
       " 10.5,\n",
       " 11.0,\n",
       " 11.5,\n",
       " 12.0,\n",
       " 12.5,\n",
       " 13.0,\n",
       " 13.5,\n",
       " 14.0,\n",
       " 14.5,\n",
       " 15.0,\n",
       " 15.5,\n",
       " 16.0,\n",
       " 16.5,\n",
       " 17.0,\n",
       " 17.5,\n",
       " 18.0,\n",
       " 18.5,\n",
       " 19.0,\n",
       " 19.5,\n",
       " 20.0,\n",
       " 20.5,\n",
       " 21.0,\n",
       " 21.5,\n",
       " 22.0,\n",
       " 22.5,\n",
       " 23.0,\n",
       " 23.5,\n",
       " 24.0,\n",
       " 24.5,\n",
       " 25.0,\n",
       " 25.5,\n",
       " 26.0,\n",
       " 26.5,\n",
       " 27.0,\n",
       " 27.5,\n",
       " 29.0,\n",
       " 29.5,\n",
       " 30.0,\n",
       " 30.5,\n",
       " 31.0,\n",
       " 31.5,\n",
       " 32.0,\n",
       " 32.5,\n",
       " 33.0,\n",
       " 33.5,\n",
       " 34.0,\n",
       " 34.5,\n",
       " 36.0,\n",
       " 36.5,\n",
       " 37.0,\n",
       " 37.5,\n",
       " 38.0,\n",
       " 38.5,\n",
       " 39.0,\n",
       " 39.5,\n",
       " 40.0,\n",
       " 40.5,\n",
       " 41.0,\n",
       " 41.5,\n",
       " 42.0,\n",
       " 42.5,\n",
       " 43.0,\n",
       " 43.5,\n",
       " 44.0,\n",
       " 44.5,\n",
       " 45.0,\n",
       " 45.5,\n",
       " 46.0,\n",
       " 46.5,\n",
       " 47.0,\n",
       " 47.5,\n",
       " 48.0,\n",
       " 48.5]"
      ]
     },
     "execution_count": 11,
     "metadata": {},
     "output_type": "execute_result"
    }
   ],
   "source": [
    "sorted(f_data.index.get_level_values('age').unique())"
   ]
  },
  {
   "cell_type": "code",
   "execution_count": 12,
   "id": "b814c3de",
   "metadata": {},
   "outputs": [],
   "source": [
    "# plot syllable usage acoss time points\n",
    "#colors for plotting\n",
    "data_labels = f_data.index.get_level_values('age').unique().to_numpy()\n",
    "cmap2 = cma\n",
    "ages = np.unique(data_labels)\n",
    "colors = np.int_(np.arange(0, 256, 256/len(ages)))\n",
    "seqmatcolor='cubehelix'\n",
    "\n",
    "# create age labels colors\n",
    "lines=[]\n",
    "counter = Counter(data_labels)\n",
    "sorted(counter.items())\n",
    "a=np.array([*counter.values()])\n",
    "\n",
    "color_mat=[]\n",
    "n=0\n",
    "for i,c in enumerate(colors):\n",
    "    for j in range(a[i]):\n",
    "        color_mat.append(cmap2(c))"
   ]
  },
  {
   "cell_type": "code",
   "execution_count": 13,
   "id": "d4b656d6",
   "metadata": {},
   "outputs": [],
   "source": [
    "a=diff_age_ont.sum(axis=0)\n",
    "ind = np.argsort(-a)\n",
    "data=diff_age_ont.T\n",
    "data=data[ind]"
   ]
  },
  {
   "cell_type": "code",
   "execution_count": 32,
   "id": "79f81d28",
   "metadata": {},
   "outputs": [
    {
     "data": {
      "text/plain": [
       "[Text(0, 0, '3.0'),\n",
       " Text(10, 0, '8.0'),\n",
       " Text(20, 0, '13.0'),\n",
       " Text(30, 0, '18.0'),\n",
       " Text(40, 0, '23.0'),\n",
       " Text(50, 0, '29.0'),\n",
       " Text(60, 0, '34.0'),\n",
       " Text(70, 0, '40.0'),\n",
       " Text(80, 0, '45.0')]"
      ]
     },
     "execution_count": 32,
     "metadata": {},
     "output_type": "execute_result"
    },
    {
     "data": {
      "image/png": "[encoded data removed]",
      "text/plain": [
       "<Figure size 260x260 with 4 Axes>"
      ]
     },
     "metadata": {},
     "output_type": "display_data"
    }
   ],
   "source": [
    "cg=sns.clustermap(\n",
    "    data=data,\n",
    "    cmap=cmmf, \n",
    "    figsize=(1.3, 1.3),\n",
    "    #col_colors=color_mat,\n",
    "    cbar_pos=(1.02, 0.025, 0.025, .73),\n",
    "    col_cluster=False,\n",
    "    row_cluster=False,\n",
    "    #yticklabels=keep_syllables[ind],\n",
    "    yticklabels=False,\n",
    "    #xticklabels=False,\n",
    "    cbar_kws={'label': 'M-F relative fraction of use'}, \n",
    "    vmax=0.04,\n",
    "    vmin=-0.04,\n",
    ")\n",
    "ages = data_labels\n",
    "# Set the x-axis tick labels to 'age' and show only 1 in every 10 values\n",
    "\n",
    "# Customize the x-axis ticks\n",
    "ax = cg.ax_heatmap\n",
    "ax.set_title('Relative syllable use across life')\n",
    "tick_positions = range(0, len(ages), 10)\n",
    "tick_labels = [ages[i] for i in tick_positions]\n",
    "ax.set_xticks(tick_positions)\n",
    "ax.set_xticklabels(tick_labels)\n",
    "#plt.xlabel('Age (wks)')"
   ]
  },
  {
   "cell_type": "code",
   "execution_count": 33,
   "id": "96ae05cd",
   "metadata": {},
   "outputs": [],
   "source": [
    "c = PlotConfig()\n",
    "cg.savefig(c.dana_save_path / \"fig4\"/ 'longv2_M-F_syllable_usage_across_life.pdf')"
   ]
  },
  {
   "cell_type": "code",
   "execution_count": null,
   "id": "2b44bc24",
   "metadata": {},
   "outputs": [],
   "source": []
  }
 ],
 "metadata": {
  "kernelspec": {
   "display_name": "Python 3 (ipykernel)",
   "language": "python",
   "name": "python3"
  },
  "language_info": {
   "codemirror_mode": {
    "name": "ipython",
    "version": 3
   },
   "file_extension": ".py",
   "mimetype": "text/x-python",
   "name": "python",
   "nbconvert_exporter": "python",
   "pygments_lexer": "ipython3",
   "version": "3.10.12"
  }
 },
 "nbformat": 4,
 "nbformat_minor": 5
}
