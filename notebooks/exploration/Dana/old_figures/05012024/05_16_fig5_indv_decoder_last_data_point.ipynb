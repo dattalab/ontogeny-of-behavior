{
 "cells": [
  {
   "cell_type": "code",
   "execution_count": 1,
   "id": "a77ea523",
   "metadata": {},
   "outputs": [],
   "source": [
    "import numpy as np\n",
    "import pandas as pd\n",
    "import seaborn as sns\n",
    "import matplotlib.pyplot as plt\n",
    "from aging.plotting import format_plots, PlotConfig, save_factory, figure, legend, format_pizza_plots\n",
    "from collections import Counter\n",
    "from matplotlib.lines import Line2D\n",
    "from tqdm import tqdm"
   ]
  },
  {
   "cell_type": "code",
   "execution_count": 2,
   "id": "d1dc615e",
   "metadata": {},
   "outputs": [],
   "source": [
    "from sklearn.model_selection import train_test_split\n",
    "from sklearn import datasets\n",
    "from sklearn import svm\n",
    "from sklearn.ensemble import RandomForestClassifier\n",
    "from sklearn.metrics import accuracy_score\n",
    "from matplotlib.gridspec import GridSpec\n",
    "from collections import defaultdict\n",
    "from sklearn.metrics import confusion_matrix\n",
    "from sklearn.model_selection import cross_val_score, cross_val_predict\n",
    "from sklearn.linear_model import LogisticRegression, LinearRegression\n",
    "from sklearn.model_selection import ShuffleSplit\n",
    "from sklearn.svm import LinearSVC\n",
    "from sklearn.model_selection import GroupKFold, LeaveOneGroupOut, LeaveOneOut, KFold\n",
    "from sklearn.metrics import accuracy_score\n",
    "import random"
   ]
  },
  {
   "cell_type": "code",
   "execution_count": 3,
   "id": "86571b2b",
   "metadata": {},
   "outputs": [],
   "source": [
    "def mm_norm_col(column):\n",
    "    return (column - column.min()) / (column.max() - column.min())"
   ]
  },
  {
   "cell_type": "code",
   "execution_count": 4,
   "id": "fe3f9766",
   "metadata": {},
   "outputs": [],
   "source": [
    "## update data\n",
    "def filter_df(df):\n",
    "    thresh=8\n",
    "    age_counts = df.index.get_level_values('age').value_counts()\n",
    "    ages_greater = list(age_counts[age_counts > thresh].index)\n",
    "    return df.loc[df.index.get_level_values('age').isin(ages_greater)]"
   ]
  },
  {
   "cell_type": "code",
   "execution_count": 5,
   "id": "25a26386",
   "metadata": {},
   "outputs": [],
   "source": [
    "from matplotlib.colors import LinearSegmentedColormap\n",
    "colors = ['#c7eae5','#008C8D']\n",
    "custom_cmap = LinearSegmentedColormap.from_list(\"custom_purples\", colors, N=256)\n",
    "cmm=custom_cmap\n",
    "\n",
    "image_ctx = {'image.cmap': 'cubehelix', 'image.interpolation': 'none'}\n",
    "\n",
    "from matplotlib.colors import LinearSegmentedColormap\n",
    "# Define the color map\n",
    "colors = ['#dadaeb','#6a51a3']\n",
    "custom_cmap = LinearSegmentedColormap.from_list(\"custom_purples\", colors, N=256)\n",
    "cmm=custom_cmap"
   ]
  },
  {
   "cell_type": "code",
   "execution_count": 6,
   "id": "e34ebdd1",
   "metadata": {},
   "outputs": [],
   "source": [
    "## arrange data\n",
    "keep_syllables = np.loadtxt('/n/groups/datta/win/longtogeny/data/ontogeny/version_11/to_keep_syllables_raw.txt', dtype=int)\n",
    "\n",
    "male_df = pd.read_parquet('/n/groups/datta/win/longtogeny/data/ontogeny/version_11/longtogeny_males_raw_usage_matrix_v00.parquet').astype(float)\n",
    "male_df = male_df[keep_syllables]\n",
    "male_df=filter_df(male_df)\n",
    "male_df = male_df.query('age<100')"
   ]
  },
  {
   "cell_type": "code",
   "execution_count": 7,
   "id": "03e32b07",
   "metadata": {},
   "outputs": [],
   "source": [
    "long_df=male_df.copy()\n",
    "# find first recording per week in the longtogeny dataset\n",
    "from collections import defaultdict\n",
    "ages = list(long_df.index.get_level_values('age').unique())\n",
    "week_entries = defaultdict(list)\n",
    "for age in ages:\n",
    "    week, day = str(age).split('.')\n",
    "    week_entries[week].append(age)\n",
    "\n",
    "# Find the entry with the lowest day for each week\n",
    "lowest_day_entries = [min(entries, key=lambda x: float(str(x).split('.')[1])) for entries in week_entries.values()]\n",
    "long_df = long_df[long_df.index.get_level_values('age').isin(lowest_day_entries)]\n",
    "long_df = long_df.rename_axis(index={'age': 'age_old'})\n",
    "long_df['age'] = np.floor(long_df.index.get_level_values('age_old')).astype(int)\n",
    "long_df.set_index('age',inplace=True, append=True)"
   ]
  },
  {
   "cell_type": "code",
   "execution_count": 8,
   "id": "ad5a65f2",
   "metadata": {},
   "outputs": [],
   "source": [
    "# Group by 'bin' and 'mouse' and count the occurrences\n",
    "#long_df.groupby(['age', 'mouse']).size().unstack(fill_value=0)\n",
    "long_df = long_df.drop(index=['03_03', '02_04'], level='mouse')\n",
    "#long_df.groupby(['age', 'mouse']).size().unstack(fill_value=0)"
   ]
  },
  {
   "cell_type": "code",
   "execution_count": 9,
   "id": "ded8f561",
   "metadata": {},
   "outputs": [],
   "source": [
    "# avarage per age or session\n",
    "m_df= long_df.groupby(['age','uuid','mouse']).mean()\n",
    "avg_m_df = m_df.groupby(['age']).mean()\n",
    "\n",
    "# normalize the data\n",
    "m_norm = mm_norm_col(m_df)\n",
    "avg_m_norm = mm_norm_col(avg_m_df)\n",
    "df_indv=m_norm.groupby(['mouse','age']).mean()\n",
    "df=df_indv.copy()"
   ]
  },
  {
   "cell_type": "code",
   "execution_count": 10,
   "id": "95b62fbf",
   "metadata": {},
   "outputs": [],
   "source": [
    "## get data to test on - all mice that have the last final 5 datapints:\n",
    "#create test data - average of the 5 final data point of each mouse\n",
    "nend=4\n",
    "xtest=pd.DataFrame()\n",
    "df=df_indv.copy()\n",
    "# Identify the last 3 ages\n",
    "last_5_ages = df.index.get_level_values('age').unique()[-nend:]\n",
    "\n",
    "# Filter the DataFrame to include only the last 5 ages\n",
    "last_5_df = df[df.index.get_level_values('age').isin(last_5_ages)]\n",
    "\n",
    "xtest = df[df.index.get_level_values('age').isin(last_5_ages)]\n",
    "xtest = mm_norm_col(xtest)\n",
    "ytest = xtest.index.get_level_values('mouse').to_numpy()"
   ]
  },
  {
   "cell_type": "code",
   "execution_count": 11,
   "id": "3b206b07",
   "metadata": {},
   "outputs": [],
   "source": [
    "# avarage per age or session\n",
    "m_df= long_df.groupby(['age','uuid','mouse']).mean()\n",
    "avg_m_df = m_df.groupby(['age']).mean()\n",
    "\n",
    "# normalize the data\n",
    "m_norm = mm_norm_col(m_df)\n",
    "avg_m_norm = mm_norm_col(avg_m_df)"
   ]
  },
  {
   "cell_type": "code",
   "execution_count": 12,
   "id": "3550e776",
   "metadata": {},
   "outputs": [],
   "source": [
    "df_indv=m_norm.groupby(['mouse','age']).mean()\n",
    "df=df_indv.copy()\n",
    "df= df[~df.index.get_level_values('age').isin(last_5_ages)].reset_index()\n"
   ]
  },
  {
   "cell_type": "code",
   "execution_count": 13,
   "id": "9969074b",
   "metadata": {},
   "outputs": [],
   "source": [
    "# choose a model\n",
    "clf = svm.SVC(kernel='linear') \n",
    "\n",
    "# choose cross validation scheme\n",
    "cv = LeaveOneOut()\n",
    "#cv = ShuffleSplit(n_splits=5, test_size=0.25, random_state=0)\n",
    "#cv=5\n",
    "\n",
    "#number of iterations for shuffle\n",
    "it=1000"
   ]
  },
  {
   "cell_type": "code",
   "execution_count": 14,
   "id": "048110bf",
   "metadata": {},
   "outputs": [
    {
     "name": "stderr",
     "output_type": "stream",
     "text": [
      "/tmp/ipykernel_19543/3747994374.py:5: MatplotlibDeprecationWarning: The register_cmap function was deprecated in Matplotlib 3.7 and will be removed two minor releases later. Use ``matplotlib.colormaps.register(name)`` instead.\n",
      "  matplotlib.cm.register_cmap(\"dana\", cmap)\n"
     ]
    }
   ],
   "source": [
    "# prepare colors for plot\n",
    "colors = ['#dadaeb','#6a51a3']\n",
    "import matplotlib\n",
    "cmap = LinearSegmentedColormap.from_list(\"custom_purples\", colors, N=256)\n",
    "matplotlib.cm.register_cmap(\"dana\", cmap)\n",
    "pl = sns.color_palette(\"dana\", n_colors=50)"
   ]
  },
  {
   "cell_type": "code",
   "execution_count": 15,
   "id": "0be589c7",
   "metadata": {
    "scrolled": false
   },
   "outputs": [
    {
     "name": "stderr",
     "output_type": "stream",
     "text": [
      "/tmp/ipykernel_19543/4286828631.py:29: DeprecationWarning: DataFrameGroupBy.apply operated on the grouping columns. This behavior is deprecated, and in a future version of pandas the grouping columns will be excluded from the operation. Either pass `include_groups=False` to exclude the groupings or explicitly select the grouping columns after groupby to silence this warning.\n",
      "  xmale = xmale.groupby('mouse').apply(lambda x: x.sample(n=nmin, replace=False)).reset_index(level=0, drop=True)\n"
     ]
    },
    {
     "name": "stdout",
     "output_type": "stream",
     "text": [
      "14\n"
     ]
    },
    {
     "name": "stderr",
     "output_type": "stream",
     "text": [
      "100%|█████████████████████████████████████████████████████████████████████████████████████████████████████████████████████████████████████████████████████████████████████| 1000/1000 [07:19<00:00,  2.28it/s]\n",
      "/tmp/ipykernel_19543/4286828631.py:29: DeprecationWarning: DataFrameGroupBy.apply operated on the grouping columns. This behavior is deprecated, and in a future version of pandas the grouping columns will be excluded from the operation. Either pass `include_groups=False` to exclude the groupings or explicitly select the grouping columns after groupby to silence this warning.\n",
      "  xmale = xmale.groupby('mouse').apply(lambda x: x.sample(n=nmin, replace=False)).reset_index(level=0, drop=True)\n"
     ]
    },
    {
     "name": "stdout",
     "output_type": "stream",
     "text": [
      "14\n"
     ]
    },
    {
     "name": "stderr",
     "output_type": "stream",
     "text": [
      "100%|█████████████████████████████████████████████████████████████████████████████████████████████████████████████████████████████████████████████████████████████████████| 1000/1000 [07:10<00:00,  2.32it/s]\n",
      "/tmp/ipykernel_19543/4286828631.py:29: DeprecationWarning: DataFrameGroupBy.apply operated on the grouping columns. This behavior is deprecated, and in a future version of pandas the grouping columns will be excluded from the operation. Either pass `include_groups=False` to exclude the groupings or explicitly select the grouping columns after groupby to silence this warning.\n",
      "  xmale = xmale.groupby('mouse').apply(lambda x: x.sample(n=nmin, replace=False)).reset_index(level=0, drop=True)\n"
     ]
    },
    {
     "name": "stdout",
     "output_type": "stream",
     "text": [
      "14\n"
     ]
    },
    {
     "name": "stderr",
     "output_type": "stream",
     "text": [
      "100%|█████████████████████████████████████████████████████████████████████████████████████████████████████████████████████████████████████████████████████████████████████| 1000/1000 [07:08<00:00,  2.33it/s]\n",
      "/tmp/ipykernel_19543/4286828631.py:29: DeprecationWarning: DataFrameGroupBy.apply operated on the grouping columns. This behavior is deprecated, and in a future version of pandas the grouping columns will be excluded from the operation. Either pass `include_groups=False` to exclude the groupings or explicitly select the grouping columns after groupby to silence this warning.\n",
      "  xmale = xmale.groupby('mouse').apply(lambda x: x.sample(n=nmin, replace=False)).reset_index(level=0, drop=True)\n"
     ]
    },
    {
     "name": "stdout",
     "output_type": "stream",
     "text": [
      "14\n"
     ]
    },
    {
     "name": "stderr",
     "output_type": "stream",
     "text": [
      "100%|█████████████████████████████████████████████████████████████████████████████████████████████████████████████████████████████████████████████████████████████████████| 1000/1000 [07:15<00:00,  2.30it/s]\n",
      "/tmp/ipykernel_19543/4286828631.py:29: DeprecationWarning: DataFrameGroupBy.apply operated on the grouping columns. This behavior is deprecated, and in a future version of pandas the grouping columns will be excluded from the operation. Either pass `include_groups=False` to exclude the groupings or explicitly select the grouping columns after groupby to silence this warning.\n",
      "  xmale = xmale.groupby('mouse').apply(lambda x: x.sample(n=nmin, replace=False)).reset_index(level=0, drop=True)\n"
     ]
    },
    {
     "name": "stdout",
     "output_type": "stream",
     "text": [
      "14\n"
     ]
    },
    {
     "name": "stderr",
     "output_type": "stream",
     "text": [
      "100%|█████████████████████████████████████████████████████████████████████████████████████████████████████████████████████████████████████████████████████████████████████| 1000/1000 [07:19<00:00,  2.28it/s]\n",
      "/tmp/ipykernel_19543/4286828631.py:29: DeprecationWarning: DataFrameGroupBy.apply operated on the grouping columns. This behavior is deprecated, and in a future version of pandas the grouping columns will be excluded from the operation. Either pass `include_groups=False` to exclude the groupings or explicitly select the grouping columns after groupby to silence this warning.\n",
      "  xmale = xmale.groupby('mouse').apply(lambda x: x.sample(n=nmin, replace=False)).reset_index(level=0, drop=True)\n"
     ]
    },
    {
     "name": "stdout",
     "output_type": "stream",
     "text": [
      "14\n"
     ]
    },
    {
     "name": "stderr",
     "output_type": "stream",
     "text": [
      " 10%|████████████████                                                                                                                                                       | 96/1000 [00:41<06:34,  2.29it/s]"
     ]
    }
   ],
   "source": [
    "xmale = pd.DataFrame()\n",
    "a = 0\n",
    "n = 10  # size of sliding window\n",
    "nmin = 8  # number of minimum sessions \n",
    "nmouse = 10  # number of minimum mice\n",
    "age = []\n",
    "acc = []\n",
    "sh_acc = []\n",
    "sh_ages = []\n",
    "coefficients_list = []\n",
    "\n",
    "while True:\n",
    "    # Build the current age matrix\n",
    "    for m, _df in enumerate(df.groupby('mouse')):\n",
    "        xmale_temp = _df[1][a:a+n]\n",
    "        xmale = pd.concat([xmale, xmale_temp])\n",
    "    \n",
    "    rep_counts = xmale.groupby('mouse')['age'].size()\n",
    "    keep_mice = list(rep_counts[rep_counts >= nmin].index)  # keep mice that have at least nmin sessions\n",
    "    xmale = xmale[xmale['mouse'].isin(keep_mice)]\n",
    "    \n",
    "    print(len(keep_mice))\n",
    "    if xmale.empty or len(keep_mice) < nmouse:\n",
    "        break\n",
    "    \n",
    "    # Select random nmin sessions per each mouse to balance the training set\n",
    "    #selected_mice = random.sample(keep_mice, nmouse)  # select random 10 mice out of all mice\n",
    "    #xmale = xmale[xmale['mouse'].isin(selected_mice)]\n",
    "    xmale = xmale.groupby('mouse').apply(lambda x: x.sample(n=nmin, replace=False)).reset_index(level=0, drop=True)\n",
    "    age.append(np.floor(np.mean(xmale['age'])).astype(int))\n",
    "    \n",
    "    ymale = xmale['mouse']\n",
    "    x = xmale.drop(['mouse', 'age'], axis=1).to_numpy()\n",
    "    \n",
    "    # Fit the model and collect coefficients\n",
    "    clf.fit(x, ymale)\n",
    "    coefficients_list.append(np.mean(clf.coef_,axis=0))\n",
    "    \n",
    "    # Predict labels for the test data\n",
    "    y_pred = clf.predict(xtest)\n",
    "\n",
    "    # Calculate accuracy score\n",
    "    accuracy = accuracy_score(ytest, y_pred)\n",
    "\n",
    "    acc.append(accuracy)\n",
    "    \n",
    "    # Shuffle labels and calculate shuffled accuracy\n",
    "    for i in tqdm(range(it)):\n",
    "        ysh_temp = np.random.permutation(ymale)\n",
    "        y_pred_temp = cross_val_score(clf, x, ysh_temp, cv=cv)\n",
    "        sh_acc.append(np.mean(y_pred_temp))\n",
    "        sh_ages.append(np.floor(np.mean(xmale['age'])).astype(int))\n",
    "    \n",
    "    # Handle variables for the loop\n",
    "    xmale = pd.DataFrame()\n",
    "    a = a + 1"
   ]
  },
  {
   "cell_type": "code",
   "execution_count": 16,
   "id": "78e8d903",
   "metadata": {},
   "outputs": [],
   "source": [
    "# create df for plotting\n",
    "df_sh = pd.DataFrame()\n",
    "df_sh['acc']=sh_acc\n",
    "df_sh['ages'] = sh_ages\n",
    "\n",
    "df = pd.DataFrame()\n",
    "df['acc']=acc\n",
    "df['ages'] = age"
   ]
  },
  {
   "cell_type": "code",
   "execution_count": 17,
   "id": "2dd2a072",
   "metadata": {},
   "outputs": [],
   "source": [
    "format_plots()"
   ]
  },
  {
   "cell_type": "code",
   "execution_count": 18,
   "id": "d8df77f6",
   "metadata": {},
   "outputs": [],
   "source": [
    "fig, ax = plt.subplots(figsize=(1.3, 1.3))\n",
    "sns.pointplot(data=df_sh, x=\"ages\", y=\"acc\", ax=ax, color='grey',estimator='mean', errorbar='se',join=True,scale=0.5)\n",
    "plt.setp(ax.collections, alpha=.3) #for the markers\n",
    "plt.setp(ax.lines, alpha=.3)       #for the lines\n",
    "sns.pointplot(data=df, x=\"ages\", y=\"acc\",\n",
    "              dodge=0, \n",
    "              join=True, \n",
    "              ax=ax, \n",
    "              scale=0.5,\n",
    "              hue='ages',\n",
    "              palette=pl,\n",
    "              #edgecolor='gray',\n",
    "              #linewidth=0.3\n",
    "             )\n",
    "plt.legend([],[], frameon=False)\n",
    "#plt.xticks([])\n",
    "ax.set_ylim([0,1])\n",
    "\n",
    "# Set x-axis ticks to show only every 10 ages\n",
    "tick_positions = range(0, len(df['ages']), 6)\n",
    "tick_labels = [df['ages'].iloc[i] for i in tick_positions]\n",
    "ax.set_xticks(tick_positions)\n",
    "ax.set_xticklabels(tick_labels)\n",
    "\n",
    "sns.despine()\n",
    "#ax.set_title('identity decoding in different ages bin=' + str(n))\n",
    "c = PlotConfig()\n",
    "fig.savefig(c.dana_save_path / \"fig5\"/ 'long_id_decoder_last_data_points.pdf')"
   ]
  },
  {
   "cell_type": "code",
   "execution_count": 19,
   "id": "2e6b90f4",
   "metadata": {},
   "outputs": [],
   "source": [
    "fig, ax = plt.subplots(figsize=(1.3, 1.3))\n",
    "# Convert coefficients list to a DataFrame\n",
    "coefficients_df = pd.DataFrame(coefficients_list)\n",
    "sns.heatmap(coefficients_df.T, cmap='coolwarm', center=0, annot=False, fmt='.2f', vmin=-0.25, vmax=0.25)\n",
    "plt.ylabel('Syllables')\n",
    "plt.xlabel('Ages')\n",
    "\n",
    "# Set x-axis ticks to show only every 6 ages\n",
    "tick_positions = range(0, len(age), 6)\n",
    "tick_labels = [age[i] for i in tick_positions]\n",
    "plt.xticks(tick_positions, tick_labels)\n",
    "\n",
    "plt.show()"
   ]
  },
  {
   "cell_type": "code",
   "execution_count": 20,
   "id": "56103bb4",
   "metadata": {},
   "outputs": [],
   "source": [
    "fig.savefig(c.dana_save_path / \"fig5\"/ 'coeef_long_id_decoder_last_data_points.pdf')"
   ]
  },
  {
   "cell_type": "code",
   "execution_count": null,
   "id": "1bda49fd",
   "metadata": {},
   "outputs": [],
   "source": []
  }
 ],
 "metadata": {
  "kernelspec": {
   "display_name": "Python 3 (ipykernel)",
   "language": "python",
   "name": "python3"
  },
  "language_info": {
   "codemirror_mode": {
    "name": "ipython",
    "version": 3
   },
   "file_extension": ".py",
   "mimetype": "text/x-python",
   "name": "python",
   "nbconvert_exporter": "python",
   "pygments_lexer": "ipython3",
   "version": "3.10.12"
  }
 },
 "nbformat": 4,
 "nbformat_minor": 5
}
