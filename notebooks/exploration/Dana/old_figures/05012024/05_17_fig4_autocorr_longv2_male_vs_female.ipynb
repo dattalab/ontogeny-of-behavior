{
 "cells": [
  {
   "cell_type": "code",
   "execution_count": 1,
   "id": "a77ea523",
   "metadata": {},
   "outputs": [],
   "source": [
    "import numpy as np\n",
    "import pandas as pd\n",
    "import seaborn as sns\n",
    "import matplotlib.pyplot as plt\n",
    "from aging.plotting import format_plots, PlotConfig, save_factory, figure, legend, format_pizza_plots\n",
    "from collections import Counter\n",
    "from matplotlib.lines import Line2D\n",
    "%matplotlib inline\n"
   ]
  },
  {
   "cell_type": "code",
   "execution_count": 2,
   "id": "d1dc615e",
   "metadata": {},
   "outputs": [],
   "source": [
    "import numpy as np\n",
    "import pandas as pd\n",
    "import matplotlib.pyplot as plt\n",
    "import seaborn as sns\n",
    "import colorcet as cc\n",
    "from operator import add\n",
    "from tqdm.auto import tqdm\n",
    "from functools import reduce\n",
    "from sklearn.cluster import KMeans\n",
    "from sklearn.decomposition import PCA\n",
    "from scipy.spatial.distance import squareform, pdist\n",
    "from sklearn.metrics import silhouette_score\n",
    "from aging.plotting import format_plots, figure, save_factory, PlotConfig, legend, add_identity"
   ]
  },
  {
   "cell_type": "code",
   "execution_count": 3,
   "id": "86571b2b",
   "metadata": {},
   "outputs": [],
   "source": [
    "def mm_norm_col(column):\n",
    "    return (column - column.min()) / (column.max() - column.min())"
   ]
  },
  {
   "cell_type": "code",
   "execution_count": 4,
   "id": "d1249079",
   "metadata": {},
   "outputs": [],
   "source": [
    "from matplotlib.colors import LinearSegmentedColormap\n",
    "colors = ['#c7eae5','#008C8D']\n",
    "custom_cmap = LinearSegmentedColormap.from_list(\"custom_purples\", colors, N=256)\n",
    "cmm=custom_cmap\n",
    "\n",
    "image_ctx = {'image.cmap': 'cubehelix', 'image.interpolation': 'none'}\n",
    "\n",
    "#from matplotlib.colors import LinearSegmentedColormap\n",
    "# Define the color map\n",
    "#colors = ['#dadaeb','#6a51a3']\n",
    "#custom_cmap = LinearSegmentedColormap.from_list(\"custom_purples\", colors, N=256)\n",
    "#cmm=custom_cmap"
   ]
  },
  {
   "cell_type": "code",
   "execution_count": 5,
   "id": "8f319de8",
   "metadata": {},
   "outputs": [],
   "source": [
    "keep_syllables = np.loadtxt('/n/groups/datta/win/longtogeny/data/ontogeny/version_11/to_keep_syllables_raw.txt', dtype=int)\n",
    "\n",
    "df = pd.read_parquet('/n/groups/datta/win/longtogeny/data/ontogeny/version_11-1/longtogeny_v2_males_raw_usage_matrix_v00.parquet').astype(float)\n",
    "df = df[keep_syllables].groupby(['age','uuid','mouse']).mean()\n",
    "\n",
    "ages= df.index.get_level_values('age')\n",
    "weeks = (ages * 7) // 7\n",
    "df['binned_age'] = weeks\n",
    "sample = df.groupby(['mouse','binned_age']).first().reset_index()\n",
    "sample2 = df.groupby(['mouse','binned_age']).last().reset_index()\n",
    "sample2['binned_age'] = sample2['binned_age']+0.5\n",
    "df_male = pd.concat([sample,sample2])\n",
    "df_male.rename(columns={'binned_age': 'age'}, inplace=True)\n",
    "\n",
    "df_male.set_index(['age', 'mouse'], inplace=True)"
   ]
  },
  {
   "cell_type": "code",
   "execution_count": null,
   "id": "46535bbc",
   "metadata": {},
   "outputs": [],
   "source": [
    "keep_syllables = np.loadtxt('/n/groups/datta/win/longtogeny/data/ontogeny/version_11/to_keep_syllables_raw.txt', dtype=int)\n",
    "\n",
    "df = pd.read_parquet('/n/groups/datta/win/longtogeny/data/ontogeny/version_11-1/longtogeny_v2_females_raw_usage_matrix_v00.parquet').astype(float)\n",
    "df = df[keep_syllables].groupby(['age','uuid','mouse']).mean()\n",
    "\n",
    "ages= df.index.get_level_values('age')\n",
    "weeks = (ages * 7) // 7\n",
    "df['binned_age'] = weeks\n",
    "sample = df.groupby(['mouse','binned_age']).first().reset_index()\n",
    "sample2 = df.groupby(['mouse','binned_age']).last().reset_index()\n",
    "sample2['binned_age'] = sample2['binned_age']+0.5\n",
    "df_female = pd.concat([sample,sample2])\n",
    "df_female.rename(columns={'binned_age': 'age'}, inplace=True)\n",
    "\n",
    "df_female.set_index(['age', 'mouse'], inplace=True)"
   ]
  },
  {
   "cell_type": "code",
   "execution_count": null,
   "id": "df6015ee",
   "metadata": {},
   "outputs": [],
   "source": [
    "format_plots()"
   ]
  },
  {
   "cell_type": "code",
   "execution_count": null,
   "id": "1a82efa8",
   "metadata": {},
   "outputs": [],
   "source": [
    "# avarage per age or session\n",
    "m_df=df_male.groupby(['age','mouse']).mean()\n",
    "avg_m_df = m_df.groupby(['age']).mean()\n",
    "\n",
    "# normalize the data\n",
    "m_norm = mm_norm_col(m_df)\n",
    "avg_m_norm = mm_norm_col(avg_m_df)\n",
    "\n",
    "# avarage per age or session\n",
    "f_df=df_female.groupby(['age','mouse']).mean()\n",
    "avg_f_df = f_df.groupby(['age']).mean()\n",
    "\n",
    "# normalize the data\n",
    "f_norm = mm_norm_col(f_df)\n",
    "avg_f_norm = mm_norm_col(avg_f_df)"
   ]
  },
  {
   "cell_type": "code",
   "execution_count": null,
   "id": "d472c437",
   "metadata": {},
   "outputs": [],
   "source": [
    "import pandas as pd\n",
    "import numpy as np\n",
    "import matplotlib.pyplot as plt\n",
    "from statsmodels.tsa.stattools import acf\n",
    "\n",
    "# Assuming m_df is your DataFrame with MultiIndex (mouse, age) and 60 measurement columns\n",
    "\n",
    "def calculate_acf(m_df, nlags=20):\n",
    "    mice = m_df.index.get_level_values('mouse').unique()\n",
    "    measurements = m_df.columns\n",
    "    acf_results = {measurement: [] for measurement in measurements}\n",
    "    \n",
    "    for mouse in mice:\n",
    "        for measurement in measurements:\n",
    "            try:\n",
    "                individual_data = m_df.xs(mouse, level='mouse')[measurement].sort_index()\n",
    "                autocorr_values = acf(individual_data, nlags=nlags)\n",
    "                acf_results[measurement].append(autocorr_values)\n",
    "            except KeyError as e:\n",
    "                print(f'Error processing {mouse} - {measurement}: {e}')\n",
    "    \n",
    "    return acf_results\n",
    "\n",
    "acf_results = calculate_acf(m_df, nlags=20)"
   ]
  },
  {
   "cell_type": "code",
   "execution_count": null,
   "id": "a9969b6b",
   "metadata": {},
   "outputs": [],
   "source": [
    "def aggregate_acf(acf_results, nlags=20):\n",
    "    aggregated_acf = {}\n",
    "    \n",
    "    for measurement, acf_values in acf_results.items():\n",
    "        # Convert list of acf arrays to a DataFrame for easy aggregation\n",
    "        acf_df = pd.DataFrame(acf_values)\n",
    "        # Calculate mean autocorrelation for each lag\n",
    "        mean_acf = acf_df.mean(axis=0)\n",
    "        aggregated_acf[measurement] = mean_acf\n",
    "    \n",
    "    return aggregated_acf\n",
    "\n",
    "aggregated_acf = aggregate_acf(acf_results, nlags=20)"
   ]
  },
  {
   "cell_type": "code",
   "execution_count": null,
   "id": "2ae62ee7",
   "metadata": {},
   "outputs": [],
   "source": [
    "def plot_aggregated_acf(aggregated_acf, nlags=20):\n",
    "    fig = figure(1.3, 1.3)\n",
    "    #plt.figure(figsize=(12, 8))\n",
    "    \n",
    "    for measurement, mean_acf in aggregated_acf.items():\n",
    "        plt.plot(range(nlags+1), mean_acf, label=measurement)\n",
    "    \n",
    "    plt.xlabel('Lag')\n",
    "    plt.ylabel('Mean Autocorrelation')\n",
    "    plt.title('Mean Autocorrelation for Each Syllable Across All Mice')\n",
    "    plt.legend(bbox_to_anchor=(1.05, 1), loc='upper left')\n",
    "    plt.tight_layout()\n",
    "    sns.despine()\n",
    "    plt.show()\n",
    "    c = PlotConfig()\n",
    "    #fig.savefig(c.dana_save_path / \"fig4\"/ 'autocorr_decay_line_longv2_male.pdf')\n",
    "\n",
    "plot_aggregated_acf(aggregated_acf, nlags=20)"
   ]
  },
  {
   "cell_type": "code",
   "execution_count": null,
   "id": "13145172",
   "metadata": {},
   "outputs": [],
   "source": [
    "# Function to compute average ACF for each mouse\n",
    "def compute_avg_acf(df, nlags=20):\n",
    "    acf_values = {}\n",
    "    for mouse in df.index.get_level_values('mouse').unique():\n",
    "        mouse_data = df.xs(mouse, level='mouse')\n",
    "        acf_matrix = np.array([acf(mouse_data[col], nlags=nlags, fft=False) for col in mouse_data.columns])\n",
    "        avg_acf = acf_matrix.mean(axis=0)\n",
    "        acf_values[mouse] = avg_acf\n",
    "    return acf_values\n",
    "\n",
    "# Compute average ACF for each mouse\n",
    "nlags = 20\n",
    "avg_acf_values = compute_avg_acf(m_df, nlags=nlags)\n",
    "\n",
    "# Prepare data for plotting\n",
    "lags = np.arange(nlags + 1)\n",
    "colors = plt.cm.tab20(np.linspace(0, 1, len(avg_acf_values)))"
   ]
  },
  {
   "cell_type": "code",
   "execution_count": null,
   "id": "c92e9040",
   "metadata": {},
   "outputs": [],
   "source": [
    "# Step 2: Create a DataFrame with mice as index and ACF values at different lags as columns\n",
    "acf_df = pd.DataFrame(avg_acf_values).T\n",
    "acf_df.columns = [i for i in range(nlags + 1)]\n",
    "\n",
    "# Step 3: Convert the DataFrame to long format with columns: mouse, acf, and lag\n",
    "acf_long_df = acf_df.reset_index().melt(id_vars='index', var_name='lag', value_name='acf')\n",
    "acf_long_df.rename(columns={'index': 'mouse'}, inplace=True)"
   ]
  },
  {
   "cell_type": "code",
   "execution_count": null,
   "id": "cd1d26ed",
   "metadata": {},
   "outputs": [],
   "source": [
    "format_plots()\n",
    "fig, ax = plt.subplots()\n",
    "fig.set_size_inches(1.3,1.3) \n",
    "sns.lineplot(data=acf_long_df, x='lag', y='acf', hue='mouse', palette = 'tab20')\n",
    "plt.legend(bbox_to_anchor=(1.05, 1), loc='upper left')\n",
    "plt.xlabel('Lag (wks)')\n",
    "plt.ylabel('Mean Autocorrelation')\n",
    "sns.despine()"
   ]
  },
  {
   "cell_type": "code",
   "execution_count": null,
   "id": "8399e5cf",
   "metadata": {},
   "outputs": [],
   "source": [
    "c = PlotConfig()\n",
    "fig.savefig(c.dana_save_path / \"fig4\"/ 'autocorr_ave_per_mouse_longv2_male.pdf')\n"
   ]
  },
  {
   "cell_type": "code",
   "execution_count": null,
   "id": "70076a0d",
   "metadata": {
    "scrolled": true
   },
   "outputs": [],
   "source": [
    "format_plots()\n",
    "fig, ax = plt.subplots()\n",
    "fig.set_size_inches(1.3,1.3) \n",
    "sns.lineplot(data=acf_long_df, x='lag', y='acf', estimator='mean',errorbar='sd', color='#20B2AA')\n",
    "#plt.legend(bbox_to_anchor=(1.05, 1), loc='upper left')\n",
    "plt.xlabel('Lag (wks)')\n",
    "plt.ylabel('Mean Autocorrelation')\n",
    "sns.despine()"
   ]
  },
  {
   "cell_type": "code",
   "execution_count": null,
   "id": "e212de80",
   "metadata": {},
   "outputs": [],
   "source": [
    "c = PlotConfig()\n",
    "fig.savefig(c.dana_save_path / \"fig4\"/ 'autocorr_ave_per_mouse_longv2_male_mean.pdf')"
   ]
  },
  {
   "cell_type": "code",
   "execution_count": null,
   "id": "a94cf752",
   "metadata": {},
   "outputs": [],
   "source": []
  },
  {
   "cell_type": "code",
   "execution_count": null,
   "id": "f36df015",
   "metadata": {},
   "outputs": [],
   "source": [
    "# Function to compute average ACF for each mouse\n",
    "def compute_avg_acf(df, nlags=20):\n",
    "    acf_values = {}\n",
    "    for mouse in df.index.get_level_values('mouse').unique():\n",
    "        mouse_data = df.xs(mouse, level='mouse')\n",
    "        acf_matrix = np.array([acf(mouse_data[col], nlags=nlags, fft=False) for col in mouse_data.columns])\n",
    "        avg_acf = acf_matrix.mean(axis=0)\n",
    "        acf_values[mouse] = avg_acf\n",
    "    return acf_values\n",
    "\n",
    "# Compute average ACF for each mouse\n",
    "nlags = 20\n",
    "avg_acf_values_f = compute_avg_acf(f_df, nlags=nlags)\n",
    "\n",
    "# Prepare data for plotting\n",
    "lags = np.arange(nlags + 1)\n",
    "colors = plt.cm.tab20(np.linspace(0, 1, len(avg_acf_values)))"
   ]
  },
  {
   "cell_type": "code",
   "execution_count": null,
   "id": "64e50773",
   "metadata": {},
   "outputs": [],
   "source": [
    "# Step 2: Create a DataFrame with mice as index and ACF values at different lags as columns\n",
    "acf_df = pd.DataFrame(avg_acf_values_f).T\n",
    "acf_df.columns = [i for i in range(nlags + 1)]\n",
    "\n",
    "# Step 3: Convert the DataFrame to long format with columns: mouse, acf, and lag\n",
    "acf_long_df_f = acf_df.reset_index().melt(id_vars='index', var_name='lag', value_name='acf')\n",
    "acf_long_df_f.rename(columns={'index': 'mouse'}, inplace=True)"
   ]
  },
  {
   "cell_type": "code",
   "execution_count": null,
   "id": "da532720",
   "metadata": {},
   "outputs": [],
   "source": [
    "format_plots()\n",
    "fig, ax = plt.subplots()\n",
    "fig.set_size_inches(1.3,1.3) \n",
    "sns.lineplot(data=acf_long_df_f, x='lag', y='acf', hue='mouse', palette = 'tab20')\n",
    "plt.legend(bbox_to_anchor=(1.05, 1), loc='upper left')\n",
    "plt.xlabel('Lag (wks)')\n",
    "plt.ylabel('Mean Autocorrelation')\n",
    "sns.despine()"
   ]
  },
  {
   "cell_type": "code",
   "execution_count": null,
   "id": "68c0a142",
   "metadata": {},
   "outputs": [],
   "source": [
    "c = PlotConfig()\n",
    "fig.savefig(c.dana_save_path / \"fig4\"/ 'autocorr_ave_per_mouse_longv2_female.pdf')"
   ]
  },
  {
   "cell_type": "code",
   "execution_count": null,
   "id": "447f0730",
   "metadata": {
    "scrolled": true
   },
   "outputs": [],
   "source": [
    "format_plots()\n",
    "fig, ax = plt.subplots()\n",
    "fig.set_size_inches(1.3,1.3) \n",
    "sns.lineplot(data=acf_long_df_f, x='lag', y='acf', estimator='mean',errorbar='sd', color='#f16913')\n",
    "#plt.legend(bbox_to_anchor=(1.05, 1), loc='upper left')\n",
    "plt.xlabel('Lag (wks)')\n",
    "plt.ylabel('Mean Autocorrelation')\n",
    "sns.despine()"
   ]
  },
  {
   "cell_type": "code",
   "execution_count": null,
   "id": "737bd724",
   "metadata": {},
   "outputs": [],
   "source": [
    "c = PlotConfig()\n",
    "fig.savefig(c.dana_save_path / \"fig4\"/ 'autocorr_ave_per_mouse_longv2_female_mean.pdf')"
   ]
  },
  {
   "cell_type": "code",
   "execution_count": null,
   "id": "7e19a2b8",
   "metadata": {},
   "outputs": [],
   "source": [
    "fig, ax = plt.subplots()\n",
    "fig.set_size_inches(1.3,1.3) \n",
    "ax = sns.lineplot(data=acf_long_df, x='lag', y='acf', estimator='mean',errorbar='sd', color='#20B2AA')\n",
    "#plt.legend(bbox_to_anchor=(1.05, 1), loc='upper left')\n",
    "ax = sns.lineplot(data=acf_long_df_f, x='lag', y='acf', estimator='mean',errorbar='sd', color='#f16913')\n",
    "\n",
    "\n",
    "plt.xlabel('Lag (wks)')\n",
    "plt.ylabel('Mean Autocorrelation')\n",
    "sns.despine()"
   ]
  },
  {
   "cell_type": "code",
   "execution_count": null,
   "id": "659f6ff8",
   "metadata": {},
   "outputs": [],
   "source": [
    "c = PlotConfig()\n",
    "fig.savefig(c.dana_save_path / \"fig4\"/ 'autocorr_ave_per_mouse_longv2_fvm.pdf')"
   ]
  }
 ],
 "metadata": {
  "kernelspec": {
   "display_name": "Python 3 (ipykernel)",
   "language": "python",
   "name": "python3"
  },
  "language_info": {
   "codemirror_mode": {
    "name": "ipython",
    "version": 3
   },
   "file_extension": ".py",
   "mimetype": "text/x-python",
   "name": "python",
   "nbconvert_exporter": "python",
   "pygments_lexer": "ipython3",
   "version": "3.10.12"
  }
 },
 "nbformat": 4,
 "nbformat_minor": 5
}
