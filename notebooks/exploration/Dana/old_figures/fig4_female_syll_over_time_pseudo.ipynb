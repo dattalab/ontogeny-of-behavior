{
 "cells": [
  {
   "cell_type": "code",
   "execution_count": 150,
   "id": "a77ea523",
   "metadata": {},
   "outputs": [],
   "source": [
    "import numpy as np\n",
    "import pandas as pd\n",
    "import matplotlib.pyplot as plt\n",
    "import seaborn as sns\n",
    "from pathlib import Path\n",
    "import matplotlib as mpl\n",
    "import os\n",
    "from matplotlib.lines import Line2D\n",
    "from collections import Counter\n",
    "import math\n",
    "from sklearn.decomposition import PCA\n",
    "from aging.behavior.syllables import relabel_by_usage\n",
    "from tqdm import tqdm\n",
    "%matplotlib inline\n",
    "import warnings\n",
    "warnings.simplefilter('ignore')\n",
    "import random\n",
    "import scipy\n",
    "from aging.plotting import format_plots, PlotConfig, save_factory, figure, legend, format_pizza_plots"
   ]
  },
  {
   "cell_type": "code",
   "execution_count": 151,
   "id": "0a49a035",
   "metadata": {},
   "outputs": [],
   "source": [
    "format_plots()\n",
    "#format_pizza_plots()\n",
    "c = PlotConfig()\n",
    "saver = save_factory(c.dana_save_path / \"age_vs_behavioral_age\", tight_layout=False)"
   ]
  },
  {
   "cell_type": "code",
   "execution_count": 152,
   "id": "1e464ef7",
   "metadata": {},
   "outputs": [],
   "source": [
    "from matplotlib.colors import LinearSegmentedColormap\n",
    "colors = ['#fee6ce','#d94801']\n",
    "custom_cmap = LinearSegmentedColormap.from_list(\"custom_purples\", colors, N=256)\n",
    "cmm=custom_cmap"
   ]
  },
  {
   "cell_type": "code",
   "execution_count": 153,
   "id": "9711e242",
   "metadata": {},
   "outputs": [],
   "source": [
    "## update data\n",
    "def remove_crl(df):\n",
    "    max=39\n",
    "    syll=df.columns.values[df.columns.values>max]\n",
    "    df.drop(syll,axis=1, inplace=True)\n",
    "    #df.drop('b365ea6a-369f-4991-b139-15694dc1c86d',level=3, axis=0, inplace=True)\n",
    "    return df[~df.index.get_level_values('session_name').str.contains('CRL')]"
   ]
  },
  {
   "cell_type": "code",
   "execution_count": 154,
   "id": "f6b7f1c9",
   "metadata": {},
   "outputs": [],
   "source": [
    "## use the same sorting of syllables as the males"
   ]
  },
  {
   "cell_type": "code",
   "execution_count": 155,
   "id": "074d662b",
   "metadata": {},
   "outputs": [],
   "source": [
    "# remapped to bins\n",
    "mapdr = {0: 3, \n",
    "       1: 5, \n",
    "       2: 7,\n",
    "       3: 9,\n",
    "       4: 12,\n",
    "       5: 24,\n",
    "       6: 36,\n",
    "       7: 52,\n",
    "       8: 78,\n",
    "       9: 90,\n",
    "       }\n",
    "\n",
    "# arrange data\n",
    "path = Path('/n/groups/datta/win/longtogeny/data/ontogeny/version_05/ontogeny_males_clean_v2.parquet')\n",
    "df_age = pd.read_parquet(path)\n",
    "df_age= remove_crl(df_age)\n",
    "\n",
    "path = Path('/n/groups/datta/win/longtogeny/data/ontogeny/version_05/ontogeny_males_clean_pseudotime_v02.parquet')\n",
    "df_psd = pd.read_parquet(path)\n",
    "df_psd=df_psd.reset_index()\n",
    "df_psd=df_psd[['uuid','pseudotime_rank']]\n",
    "df_psd = pd.merge(df_age.reset_index(),df_psd,how='left',on=['uuid'])\n",
    "\n",
    "# to convert pseudo time into bins the lengh of the bins of cross-sectional data\n",
    "df_psd['bins'] = pd.qcut(df_psd['pseudotime_rank'], len(df_age.index.get_level_values(0).unique()),labels=False)\n",
    "# prepare data\n",
    "y_psd=df_psd['bins'].to_numpy()\n",
    "y_psd = [mapdr[item] for item in y_psd]\n",
    "df_psd['remapped_bins'] = y_psd\n",
    "df_psd.set_index('remapped_bins', inplace=True)\n",
    "\n",
    "data=df_psd.filter(regex=r'\\d')\n",
    "data_labels = data.index.get_level_values(0).to_numpy()\n",
    "data= data.to_numpy()"
   ]
  },
  {
   "cell_type": "code",
   "execution_count": 156,
   "id": "199ab353",
   "metadata": {},
   "outputs": [],
   "source": [
    "# plot syllable usage acoss time points\n",
    "figure(4,4)\n",
    "cg=sns.clustermap(\n",
    "    data=data.T,\n",
    "    col_cluster=False,\n",
    "    row_cluster=True,\n",
    "    yticklabels=False,\n",
    "    xticklabels=False,\n",
    "    method='average',\n",
    "    metric='jensenshannon',\n",
    "    cmap = 'cubehelix',\n",
    "    cbar_kws={'label': 'fraction of use'}, \n",
    "    vmax=0.075,\n",
    "    )\n",
    "col_order = cg.dendrogram_row.reordered_ind"
   ]
  },
  {
   "cell_type": "code",
   "execution_count": 157,
   "id": "953ccc75",
   "metadata": {},
   "outputs": [],
   "source": [
    "# arrange data\n",
    "path = Path('/n/groups/datta/win/longtogeny/data/ontogeny/version_05/ontogeny_females_clean_v2.parquet')\n",
    "df_age = pd.read_parquet(path)\n",
    "df_age= remove_crl(df_age)"
   ]
  },
  {
   "cell_type": "code",
   "execution_count": 158,
   "id": "a3a00001",
   "metadata": {},
   "outputs": [],
   "source": [
    "# pseudo data\n",
    "path = Path('/n/groups/datta/win/longtogeny/data/ontogeny/version_05/ontogeny_females_clean_pseudotime_v02.parquet')\n",
    "df_psd = pd.read_parquet(path)\n",
    "df_psd=df_psd.reset_index()\n",
    "df_psd=df_psd[['uuid','pseudotime_rank']]\n",
    "df_psd = pd.merge(df_age.reset_index(),df_psd,how='left',on=['uuid'])\n",
    "df_psd.set_index(['pseudotime_rank','uuid'], inplace=True)\n",
    "df_psd = df_psd.filter(regex=r'\\d')\n",
    "data=df_psd.groupby(['pseudotime_rank','uuid']).mean()"
   ]
  },
  {
   "cell_type": "code",
   "execution_count": 159,
   "id": "b2fcee24",
   "metadata": {},
   "outputs": [],
   "source": [
    "# arrange data\n",
    "data_labels = data.index.get_level_values(0).to_numpy()\n",
    "data= data.to_numpy()\n",
    "data = data[:, col_order]"
   ]
  },
  {
   "cell_type": "code",
   "execution_count": 160,
   "id": "7c4681ca",
   "metadata": {},
   "outputs": [],
   "source": [
    "#colors for plotting\n",
    "cmap2 = cmm\n",
    "ages = np.unique(data_labels)\n",
    "colors = np.int_(np.arange(0, 256, 256/len(ages)))\n",
    "seqmatcolor='cubehelix'\n",
    "\n",
    "# create age labels colors\n",
    "lines=[]\n",
    "counter = Counter(data_labels)\n",
    "sorted(counter.items())\n",
    "a=np.array([*counter.values()])\n",
    "\n",
    "color_mat=[]\n",
    "n=0\n",
    "for i,c in enumerate(colors):\n",
    "    for j in range(a[i]):\n",
    "        color_mat.append(cmap2(c))"
   ]
  },
  {
   "cell_type": "code",
   "execution_count": 161,
   "id": "5501c3b7",
   "metadata": {},
   "outputs": [],
   "source": [
    "# plot syllable usage acoss time points\n",
    "figure(4,4)\n",
    "cg=sns.clustermap(\n",
    "    data=data.T,\n",
    "    cmap=seqmatcolor, \n",
    "    figsize=(3, 3),\n",
    "    col_colors=color_mat,\n",
    "    cbar_pos=(1.02, 0.025, 0.025, .73),\n",
    "    col_cluster=False,\n",
    "    row_cluster=True,\n",
    "    yticklabels=False,\n",
    "    xticklabels=False,\n",
    "    method='average',\n",
    "    #method = 'single',\n",
    "    #metric='sqeuclidean',\n",
    "    #metric='cosine',\n",
    "    metric='jensenshannon',\n",
    "    cbar_kws={'label': 'fraction of use'}, \n",
    "    vmax=0.075)\n",
    "cg.ax_row_dendrogram.set_visible(False)\n",
    "ax = cg.ax_heatmap\n",
    "ax.tick_params(left=False, bottom=False, right=False)\n",
    "ax.set_xlabel('Sessions')\n",
    "ax.set_ylabel('Syllables')\n",
    "\n",
    "# legend\n",
    "for i,c in enumerate(colors):\n",
    "        lines.append(Line2D([0], [0], color=cmap2(c), lw=2))\n",
    "plt.legend(handles=lines,labels=list(ages),bbox_to_anchor=(10, 1),loc='upper right',fontsize=6)\n",
    "plt.show()"
   ]
  },
  {
   "cell_type": "code",
   "execution_count": 162,
   "id": "bcb9804c",
   "metadata": {},
   "outputs": [],
   "source": [
    "c = PlotConfig()\n",
    "cg.savefig(c.dana_save_path / 'fig4_ontogeny_females'/ 'syll_over_time_jsd_psd.pdf', bbox_inches='tight')"
   ]
  },
  {
   "cell_type": "code",
   "execution_count": 163,
   "id": "d5fb6071",
   "metadata": {},
   "outputs": [],
   "source": [
    "# remapped to bins\n",
    "mapdr = {0: 3, \n",
    "       1: 5, \n",
    "       2: 7,\n",
    "       3: 9,\n",
    "       4: 12,\n",
    "       5: 24,\n",
    "       6: 36,\n",
    "       7: 52,\n",
    "       8: 72,\n",
    "       9: 90,\n",
    "       }\n",
    "\n",
    "# arrange data\n",
    "path = Path('/n/groups/datta/win/longtogeny/data/ontogeny/version_05/ontogeny_females_clean_v2.parquet')\n",
    "df_age = pd.read_parquet(path)\n",
    "df_age= remove_crl(df_age)\n",
    "\n",
    "path = Path('/n/groups/datta/win/longtogeny/data/ontogeny/version_05/ontogeny_females_clean_pseudotime_v02.parquet')\n",
    "df_psd = pd.read_parquet(path)\n",
    "df_psd=df_psd.reset_index()\n",
    "df_psd=df_psd[['uuid','pseudotime_rank']]\n",
    "df_psd = pd.merge(df_age.reset_index(),df_psd,how='left',on=['uuid'])\n",
    "\n",
    "# to convert pseudo time into bins the lengh of the bins of cross-sectional data\n",
    "df_psd['bins'] = pd.qcut(df_psd['pseudotime_rank'], len(df_age.index.get_level_values(0).unique()),labels=False)\n",
    "# prepare data\n",
    "y_psd=df_psd['bins'].to_numpy()\n",
    "y_psd = [mapdr[item] for item in y_psd]\n",
    "df_psd['remapped_bins'] = y_psd\n",
    "df_psd.set_index('remapped_bins', inplace=True)\n",
    "data=df_psd.filter(regex=r'\\d')"
   ]
  },
  {
   "cell_type": "code",
   "execution_count": 164,
   "id": "d8c18b65",
   "metadata": {},
   "outputs": [],
   "source": [
    "data_labels = data.index.get_level_values(0).to_numpy()\n",
    "data= data.to_numpy()\n",
    "data = data[:, col_order]"
   ]
  },
  {
   "cell_type": "code",
   "execution_count": 165,
   "id": "1d7efe4f",
   "metadata": {},
   "outputs": [],
   "source": [
    "#colors for plotting\n",
    "cmap2 = cmm\n",
    "ages = np.unique(data_labels)\n",
    "colors = np.int_(np.arange(0, 256, 256/len(ages)))\n",
    "seqmatcolor='cubehelix'\n",
    "\n",
    "# create age labels colors\n",
    "lines=[]\n",
    "counter = Counter(data_labels)\n",
    "sorted(counter.items())\n",
    "a=np.array([*counter.values()])\n",
    "\n",
    "color_mat=[]\n",
    "n=0\n",
    "for i,c in enumerate(colors):\n",
    "    for j in range(a[i]):\n",
    "        color_mat.append(cmap2(c))"
   ]
  },
  {
   "cell_type": "code",
   "execution_count": 166,
   "id": "7b3a07f5",
   "metadata": {},
   "outputs": [],
   "source": [
    "# plot syllable usage acoss time points\n",
    "figure(4,4)\n",
    "cg=sns.clustermap(\n",
    "    data=data.T,\n",
    "    cmap=seqmatcolor, \n",
    "    figsize=(3, 3),\n",
    "    col_colors=color_mat,\n",
    "    cbar_pos=(1.02, 0.025, 0.025, .73),\n",
    "    col_cluster=False,\n",
    "    row_cluster=True,\n",
    "    yticklabels=False,\n",
    "    xticklabels=False,\n",
    "    method='average',\n",
    "    #method = 'single',\n",
    "    #metric='sqeuclidean',\n",
    "    #metric='cosine',\n",
    "    metric='jensenshannon',\n",
    "    cbar_kws={'label': 'fraction of use'}, \n",
    "    vmin=0.0,\n",
    "    vmax=0.075)\n",
    "cg.ax_row_dendrogram.set_visible(False)\n",
    "ax = cg.ax_heatmap\n",
    "ax.tick_params(left=False, bottom=False, right=False)\n",
    "ax.set_xlabel('Sessions')\n",
    "ax.set_ylabel('Syllables')\n",
    "\n",
    "# legend\n",
    "for i,c in enumerate(colors):\n",
    "        lines.append(Line2D([0], [0], color=cmap2(c), lw=2))\n",
    "plt.legend(handles=lines,labels=list(ages),bbox_to_anchor=(10, 1),loc='upper right',fontsize=6)\n",
    "plt.show()"
   ]
  },
  {
   "cell_type": "code",
   "execution_count": 167,
   "id": "76fa0cf9",
   "metadata": {},
   "outputs": [],
   "source": [
    "c = PlotConfig()\n",
    "cg.savefig(c.dana_save_path / 'fig4_ontogeny_females'/ 'syll_over_time_jsd_psd_remaped_bins.pdf', bbox_inches='tight')"
   ]
  }
 ],
 "metadata": {
  "kernelspec": {
   "display_name": "Python 3 (ipykernel)",
   "language": "python",
   "name": "python3"
  },
  "language_info": {
   "codemirror_mode": {
    "name": "ipython",
    "version": 3
   },
   "file_extension": ".py",
   "mimetype": "text/x-python",
   "name": "python",
   "nbconvert_exporter": "python",
   "pygments_lexer": "ipython3",
   "version": "3.10.12"
  }
 },
 "nbformat": 4,
 "nbformat_minor": 5
}
