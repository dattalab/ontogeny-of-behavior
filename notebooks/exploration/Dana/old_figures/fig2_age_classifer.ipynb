{
 "cells": [
  {
   "cell_type": "code",
   "execution_count": 216,
   "id": "a77ea523",
   "metadata": {},
   "outputs": [],
   "source": [
    "import numpy as np\n",
    "import pandas as pd\n",
    "import matplotlib.pyplot as plt\n",
    "import seaborn as sns\n",
    "from pathlib import Path\n",
    "import matplotlib as mpl\n",
    "import os\n",
    "from matplotlib.lines import Line2D\n",
    "from collections import Counter\n",
    "import math\n",
    "from sklearn.decomposition import PCA\n",
    "from aging.behavior.syllables import relabel_by_usage\n",
    "from tqdm import tqdm\n",
    "%matplotlib inline\n",
    "import warnings\n",
    "warnings.simplefilter('ignore')\n",
    "import random\n",
    "import scipy\n",
    "from aging.plotting import format_plots, PlotConfig, save_factory, figure, legend, format_pizza_plots"
   ]
  },
  {
   "cell_type": "code",
   "execution_count": 217,
   "id": "0f29b869",
   "metadata": {},
   "outputs": [],
   "source": [
    "from sklearn.model_selection import train_test_split\n",
    "from sklearn import svm\n",
    "from sklearn.ensemble import RandomForestClassifier\n",
    "from matplotlib.gridspec import GridSpec\n",
    "from collections import defaultdict\n",
    "from sklearn.model_selection import cross_val_score, cross_val_predict\n",
    "from sklearn.linear_model import LogisticRegression, LinearRegression\n",
    "from sklearn.model_selection import ShuffleSplit\n",
    "from sklearn.svm import LinearSVC\n",
    "from sklearn.model_selection import GroupKFold, LeaveOneGroupOut, LeaveOneOut, KFold\n",
    "from sklearn.metrics import accuracy_score, mean_absolute_error, mean_squared_error, r2_score, confusion_matrix\n",
    "from sklearn.neighbors import KNeighborsRegressor"
   ]
  },
  {
   "cell_type": "code",
   "execution_count": 218,
   "id": "0a49a035",
   "metadata": {},
   "outputs": [],
   "source": [
    "#format_plots()\n",
    "#format_pizza_plots()\n",
    "c = PlotConfig()\n",
    "saver = save_factory(c.dana_save_path / \"age_vs_behavioral_age\", tight_layout=False)"
   ]
  },
  {
   "cell_type": "code",
   "execution_count": 219,
   "id": "1e464ef7",
   "metadata": {},
   "outputs": [],
   "source": [
    "from matplotlib.colors import LinearSegmentedColormap\n",
    "# Define the color map\n",
    "#colors = [(0.5, 0.5, 0.5), (0.8, 0.6, 0.8), (0.6, 0.4, 0.6), (0.4, 0.2, 0.4), (0.2, 0.0, 0.2)]\n",
    "colors = ['#dadaeb','#6a51a3']\n",
    "custom_cmap = LinearSegmentedColormap.from_list(\"custom_purples\", colors, N=256)\n",
    "cmm=custom_cmap"
   ]
  },
  {
   "cell_type": "code",
   "execution_count": 220,
   "id": "953ccc75",
   "metadata": {},
   "outputs": [],
   "source": [
    "path = Path('/n/groups/datta/win/longtogeny/data/ontogeny/version_05/ontogeny_males_clean_v2.parquet')\n",
    "df = pd.read_parquet(path)"
   ]
  },
  {
   "cell_type": "code",
   "execution_count": 221,
   "id": "9711e242",
   "metadata": {},
   "outputs": [],
   "source": [
    "## update data\n",
    "def remove_crl(df):\n",
    "    max=39\n",
    "    syll=df.columns.values[df.columns.values>max]\n",
    "    df.drop(syll,axis=1, inplace=True)\n",
    "    df.drop('m05_c02_b01_s01', level=1, axis=0, inplace=True)\n",
    "    return df[~df.index.get_level_values('session_name').str.contains('CRL')]"
   ]
  },
  {
   "cell_type": "code",
   "execution_count": 222,
   "id": "689f3ac4",
   "metadata": {},
   "outputs": [],
   "source": [
    "def _plot_cm(y_true, y_pred, ax, ax_labels, title):\n",
    "    cm = confusion_matrix(y_true, y_pred)\n",
    "    cm = cm / cm.sum(axis=1, keepdims=True)\n",
    "    im = ax.imshow(cm, cmap='cubehelix', vmin=0, vmax=1)\n",
    "    plt.xticks(range(len(ax_labels)), ax_labels)\n",
    "    plt.yticks(range(len(ax_labels)), ax_labels)\n",
    "    ax.set_xlabel('Predicted')\n",
    "    ax.set_ylabel('Real')\n",
    "    ax.set_title(title)\n",
    "    return im\n",
    "\n",
    "def plot_cm(y_true, y_pred, y_shuffle_true, y_shuffle_pred):\n",
    "    '''\n",
    "    plot confusion matrix\n",
    "\n",
    "    Args:\n",
    "        y_true ([np.array]): array for true label\n",
    "        y_pred ([np.array]): array for predicted label\n",
    "        y_shuffle_true ([np.array]): array for shffuled label\n",
    "        y_shuffle_pred ([np.array]): array for shuffled predicted label\n",
    "    '''\n",
    "    fig = plt.figure(figsize=(23, 10), facecolor='white')\n",
    "    gs = GridSpec(ncols=3, nrows=1, wspace=0.1, figure = fig, width_ratios=[10,10,0.3])\n",
    "    fig_ax = fig.add_subplot(gs[0,0])\n",
    "    labels = np.unique(y_true)\n",
    "    _plot_cm(y_true, y_pred, fig_ax, labels, f'Real Accuracy {accuracy_score(y_true, y_pred):0.2f}')\n",
    "\n",
    "    fig_ax = fig.add_subplot(gs[0,1])\n",
    "    im = _plot_cm(y_shuffle_true, y_shuffle_pred, fig_ax, labels, f'Shuffle Accuracy {accuracy_score(y_shuffle_true, y_shuffle_pred):0.2f}')\n",
    "    fig_ax.set_ylabel('')\n",
    "    fig_ax.set_yticklabels([])\n",
    "\n",
    "    # plot colorbar\n",
    "    cb = fig.add_subplot(gs[0,2])\n",
    "    fig.colorbar(mappable=im, cax=cb, label='Fraction of labels', )\n",
    "    fig.tight_layout()\n",
    "    plt.show()\n",
    "    c = PlotConfig()\n",
    "    fig.savefig(c.dana_save_path / \"age_vs_behavioral_age\"/ 'age_decoder_confusion_pre.pdf')"
   ]
  },
  {
   "cell_type": "code",
   "execution_count": 223,
   "id": "308bba0c",
   "metadata": {},
   "outputs": [],
   "source": [
    "# choose a model for decoder\n",
    "#clf = svm.SVC(kernel='linear') \n",
    "#clf = RandomForestClassifier(n_estimators = 200)\n",
    "#clf = LinearRegression()\n",
    "clf = KNeighborsRegressor(n_neighbors=5)\n",
    "\n",
    "# choose cross validation scheme\n",
    "cv = LeaveOneOut()\n",
    "#cv = ShuffleSplit(n_splits=5, test_size=0.25, random_state=0)\n",
    "#cv=5\n",
    "\n",
    "#number of iterations for shuffle\n",
    "it=10"
   ]
  },
  {
   "cell_type": "code",
   "execution_count": 224,
   "id": "ea79814f",
   "metadata": {},
   "outputs": [],
   "source": [
    "# process data"
   ]
  },
  {
   "cell_type": "code",
   "execution_count": 225,
   "id": "b2fcee24",
   "metadata": {},
   "outputs": [],
   "source": [
    "# arrange data\n",
    "data= remove_crl(df)\n",
    "data_labels = data.index.get_level_values(0).to_numpy()\n",
    "ages=data.index.get_level_values(0)\n",
    "mice=data.index.get_level_values(1)"
   ]
  },
  {
   "cell_type": "code",
   "execution_count": 226,
   "id": "f35c3c06",
   "metadata": {},
   "outputs": [],
   "source": [
    "# make linear\n",
    "y =data.index.get_level_values(0).to_numpy()\n",
    "X=data.to_numpy()\n",
    "#X=np.log(X + 1e-6) # convert to linear"
   ]
  },
  {
   "cell_type": "code",
   "execution_count": 227,
   "id": "1c62c503",
   "metadata": {},
   "outputs": [
    {
     "data": {
      "text/plain": [
       "'\\npca=PCA(n_components=10)\\npcs=pca.fit_transform(np.log(data+1e-6))\\nX=pcs\\n'"
      ]
     },
     "execution_count": 227,
     "metadata": {},
     "output_type": "execute_result"
    }
   ],
   "source": [
    "# perform PCA if wanted\n",
    "'''\n",
    "pca=PCA(n_components=10)\n",
    "pcs=pca.fit_transform(np.log(data+1e-6))\n",
    "X=pcs\n",
    "'''"
   ]
  },
  {
   "cell_type": "code",
   "execution_count": 228,
   "id": "daa51f2e",
   "metadata": {},
   "outputs": [
    {
     "data": {
      "text/plain": [
       "'\\nfrom sklearn.cross_decomposition import PLSRegression\\n# PLS regression\\nmdl = PLSRegression(n_components=5)\\nmdl.fit(X, y)\\nX=mdl.transform(X)\\n'"
      ]
     },
     "execution_count": 228,
     "metadata": {},
     "output_type": "execute_result"
    }
   ],
   "source": [
    "# perform data regularization\n",
    "'''\n",
    "from sklearn.cross_decomposition import PLSRegression\n",
    "# PLS regression\n",
    "mdl = PLSRegression(n_components=5)\n",
    "mdl.fit(X, y)\n",
    "X=mdl.transform(X)\n",
    "'''"
   ]
  },
  {
   "cell_type": "code",
   "execution_count": 229,
   "id": "2d4839d9",
   "metadata": {},
   "outputs": [
    {
     "name": "stdout",
     "output_type": "stream",
     "text": [
      "0.8298286419314724\n",
      "nan\n"
     ]
    }
   ],
   "source": [
    "#decoder\n",
    "y_pred = cross_val_predict(clf, X, y, cv=cv)\n",
    "r2 = r2_score(y, y_pred)\n",
    "print(r2)\n",
    "#acc=np.mean(np.mean(cross_val_score(clf, X, y, cv=cv)))\n",
    "#print(acc)"
   ]
  },
  {
   "cell_type": "code",
   "execution_count": 55,
   "id": "0bb959cb",
   "metadata": {},
   "outputs": [
    {
     "name": "stderr",
     "output_type": "stream",
     "text": [
      "100%|███████████████████████████████████████████████████████████████████████████████████████████████████████████████████████████████████████████████████████████████████████████| 10/10 [00:38<00:00,  3.89s/it]\n"
     ]
    }
   ],
   "source": [
    "#shuffle\n",
    "ysh_score=[]\n",
    "ysh=[]\n",
    "ysh_predict=[]\n",
    "for i in tqdm(range(it)):\n",
    "    ysh_temp=np.random.permutation(y)\n",
    "    y_pred_temp = cross_val_predict(clf, X, ysh_temp, cv=cv)\n",
    "    y_score_temp = cross_val_score(clf, X, ysh_temp, cv=cv)\n",
    "    ysh.extend(ysh_temp)\n",
    "    ysh_predict.extend(y_pred_temp)\n",
    "    ysh_score.append(np.mean(y_score_temp))"
   ]
  },
  {
   "cell_type": "code",
   "execution_count": 56,
   "id": "4416155b",
   "metadata": {},
   "outputs": [
    {
     "data": {
      "image/png": "[encoded data removed]",
      "text/plain": [
       "<Figure size 2300x1000 with 3 Axes>"
      ]
     },
     "metadata": {},
     "output_type": "display_data"
    }
   ],
   "source": [
    "# plot confusion matrix\n",
    "plot_cm(y,y_pred,ysh,ysh_predict)"
   ]
  },
  {
   "cell_type": "code",
   "execution_count": 57,
   "id": "3b39cd58",
   "metadata": {},
   "outputs": [
    {
     "data": {
      "image/png": "[encoded data removed]",
      "text/plain": [
       "<Figure size 300x300 with 1 Axes>"
      ]
     },
     "metadata": {},
     "output_type": "display_data"
    }
   ],
   "source": [
    "fig = plt.figure(figsize=(1, 1))\n",
    "fig.dpi = 300\n",
    "ax = sns.histplot(data=ysh_score, fill=True, element='step', lw=0, color='purple', alpha=0.5)\n",
    "ax.axvline(acc, color='black', lw=1)\n",
    "#plt.xticks(ticks=[])\n",
    "ax.set(ylabel='Count')\n",
    "ax.set(xlabel='accuracy')\n",
    "plt.xlim([0,0.75])\n",
    "sns.despine()\n",
    "c = PlotConfig()\n",
    "fig.savefig(c.dana_save_path / \"age_vs_behavioral_age\"/ 'age_decoder_accuracy_pre.pdf')"
   ]
  },
  {
   "cell_type": "code",
   "execution_count": 245,
   "id": "e815af47",
   "metadata": {},
   "outputs": [],
   "source": [
    "## pseudo time decoder accuracy"
   ]
  },
  {
   "cell_type": "code",
   "execution_count": 246,
   "id": "0328c676",
   "metadata": {},
   "outputs": [],
   "source": [
    "path = Path('/n/groups/datta/win/longtogeny/data/ontogeny/version_05/ontogeny_males_clean_pseudotime_v02.parquet')\n",
    "df_psd = pd.read_parquet(path).reset_index()"
   ]
  },
  {
   "cell_type": "code",
   "execution_count": 247,
   "id": "202a4194",
   "metadata": {},
   "outputs": [],
   "source": [
    "df_psd=df_psd.reset_index()\n",
    "df_psd=df_psd[['uuid','pseudotime_rank']]\n",
    "df_psd = pd.merge(data.reset_index(),df_psd,how='left',on=['uuid'])\n",
    "\n",
    "# to use classifier convert pseudo time into bins the lengh of the bins of cross-sectional data\n",
    "df_psd['bins'] = pd.cut(df_psd['pseudotime_rank'], bins=len(ages.unique()))\n",
    "df_psd['psd_bins'] = df_psd.groupby('bins')['pseudotime_rank'].transform('mean')\n",
    "df_psd['bins'] = pd.qcut(df_psd['pseudotime_rank'], len(ages.unique()),labels=False)"
   ]
  },
  {
   "cell_type": "code",
   "execution_count": 248,
   "id": "ecfff597",
   "metadata": {},
   "outputs": [],
   "source": [
    "# prepare data\n",
    "y =df_psd['bins'].to_numpy()\n",
    "#y =df_psd['psd_bins'].to_numpy()\n",
    "X=df_psd.filter(regex=r'\\d')\n",
    "#X=np.log(X+1e-6)"
   ]
  },
  {
   "cell_type": "code",
   "execution_count": 249,
   "id": "2a875614",
   "metadata": {},
   "outputs": [
    {
     "name": "stdout",
     "output_type": "stream",
     "text": [
      "0.9714119340617596\n",
      "nan\n"
     ]
    }
   ],
   "source": [
    "#decoder\n",
    "clf = LinearRegression()\n",
    "clf = KNeighborsRegressor(n_neighbors=10)\n",
    "y_pred = cross_val_predict(clf, X, y, cv=cv)\n",
    "r2 = r2_score(y, y_pred)\n",
    "print(r2)\n",
    "#acc=np.mean(np.mean(cross_val_score(clf, X, y, cv=cv)))\n",
    "#print(acc)"
   ]
  },
  {
   "cell_type": "code",
   "execution_count": null,
   "id": "b93f94f6",
   "metadata": {},
   "outputs": [],
   "source": []
  }
 ],
 "metadata": {
  "kernelspec": {
   "display_name": "Python 3 (ipykernel)",
   "language": "python",
   "name": "python3"
  },
  "language_info": {
   "codemirror_mode": {
    "name": "ipython",
    "version": 3
   },
   "file_extension": ".py",
   "mimetype": "text/x-python",
   "name": "python",
   "nbconvert_exporter": "python",
   "pygments_lexer": "ipython3",
   "version": "3.10.12"
  }
 },
 "nbformat": 4,
 "nbformat_minor": 5
}
