{
 "cells": [
  {
   "cell_type": "code",
   "execution_count": 1,
   "id": "a77ea523",
   "metadata": {},
   "outputs": [],
   "source": [
    "import numpy as np\n",
    "import pandas as pd\n",
    "import seaborn as sns\n",
    "import matplotlib.pyplot as plt\n",
    "from aging.plotting import format_plots, PlotConfig, save_factory, figure, legend, format_pizza_plots\n",
    "from collections import Counter\n",
    "from matplotlib.lines import Line2D\n",
    "from tqdm import tqdm"
   ]
  },
  {
   "cell_type": "code",
   "execution_count": 2,
   "id": "d1dc615e",
   "metadata": {},
   "outputs": [],
   "source": [
    "from sklearn.model_selection import train_test_split\n",
    "from sklearn import datasets\n",
    "from sklearn import svm\n",
    "from sklearn.ensemble import RandomForestClassifier\n",
    "from sklearn.metrics import accuracy_score\n",
    "from matplotlib.gridspec import GridSpec\n",
    "from collections import defaultdict\n",
    "from sklearn.metrics import confusion_matrix\n",
    "from sklearn.model_selection import cross_val_score, cross_val_predict\n",
    "from sklearn.linear_model import LogisticRegression, LinearRegression\n",
    "from sklearn.model_selection import ShuffleSplit\n",
    "from sklearn.svm import LinearSVC\n",
    "from sklearn.model_selection import GroupKFold, LeaveOneGroupOut, LeaveOneOut, KFold\n",
    "from sklearn.metrics import accuracy_score\n",
    "import random"
   ]
  },
  {
   "cell_type": "code",
   "execution_count": 3,
   "id": "86571b2b",
   "metadata": {},
   "outputs": [],
   "source": [
    "def mm_norm_col(column):\n",
    "    return (column - column.min()) / (column.max() - column.min())"
   ]
  },
  {
   "cell_type": "code",
   "execution_count": 4,
   "id": "4af329a3",
   "metadata": {},
   "outputs": [],
   "source": [
    "keep_syllables = np.loadtxt('/n/groups/datta/win/longtogeny/data/ontogeny/version_11/to_keep_syllables_raw.txt', dtype=int)\n",
    "\n",
    "df = pd.read_parquet('/n/groups/datta/win/longtogeny/data/ontogeny/version_11-1/longtogeny_v2_males_raw_usage_matrix_v00.parquet').astype(float)\n",
    "df = df[keep_syllables].groupby(['age','uuid','mouse']).mean()\n",
    "\n",
    "ages= df.index.get_level_values('age')\n",
    "weeks = (ages * 7) // 7\n",
    "df['binned_age'] = weeks\n",
    "sample = df.groupby(['mouse','binned_age']).first().reset_index()\n",
    "#sample2 = df.groupby(['mouse','binned_age']).last().reset_index()\n",
    "#sample2['binned_age'] = sample2['binned_age']+0.5\n",
    "#df_male = pd.concat([sample,sample2])\n",
    "df_male = sample.copy()\n",
    "df_male.rename(columns={'binned_age': 'age'}, inplace=True)\n",
    "\n",
    "df_male.set_index(['age', 'mouse'], inplace=True)"
   ]
  },
  {
   "cell_type": "code",
   "execution_count": 5,
   "id": "4c1eea16",
   "metadata": {},
   "outputs": [],
   "source": [
    "df_male.groupby('age').size()"
   ]
  },
  {
   "cell_type": "code",
   "execution_count": 6,
   "id": "aac752d3",
   "metadata": {},
   "outputs": [],
   "source": [
    "# avarage per age or session\n",
    "m_df= df_male.groupby(['age','mouse']).mean()\n",
    "avg_m_df = m_df.groupby(['age']).mean()\n",
    "\n",
    "# normalize the data\n",
    "m_norm = mm_norm_col(m_df)\n",
    "avg_m_norm = mm_norm_col(avg_m_df)"
   ]
  },
  {
   "cell_type": "code",
   "execution_count": 7,
   "id": "3550e776",
   "metadata": {},
   "outputs": [],
   "source": [
    "df_indv=m_df.groupby(['mouse','age']).mean()\n",
    "df=df_indv.copy().reset_index()"
   ]
  },
  {
   "cell_type": "code",
   "execution_count": 8,
   "id": "9969074b",
   "metadata": {},
   "outputs": [],
   "source": [
    "# choose a model\n",
    "clf = svm.SVC(kernel='linear') \n",
    "\n",
    "# choose cross validation scheme\n",
    "cv = LeaveOneOut()\n",
    "\n",
    "#number of iterations for shuffle\n",
    "it=100"
   ]
  },
  {
   "cell_type": "code",
   "execution_count": 9,
   "id": "048110bf",
   "metadata": {},
   "outputs": [],
   "source": [
    "# prepare colors for plot\n",
    "from matplotlib.colors import LinearSegmentedColormap\n",
    "colors = ['#c7eae5','#008C8D']\n",
    "import matplotlib\n",
    "cmap = LinearSegmentedColormap.from_list(\"custom_purples\", colors, N=256)\n",
    "matplotlib.cm.register_cmap(\"dana\", cmap)\n",
    "pl = sns.color_palette(\"dana\", n_colors=50)"
   ]
  },
  {
   "cell_type": "code",
   "execution_count": 10,
   "id": "0be589c7",
   "metadata": {
    "scrolled": false
   },
   "outputs": [],
   "source": [
    "xmale = pd.DataFrame()\n",
    "a = 0\n",
    "n=8\n",
    "nmin=8\n",
    "age = []\n",
    "acc = []\n",
    "sh_acc = []\n",
    "sh_ages = []\n",
    "coefficients_list = []\n",
    "\n",
    "while True:\n",
    "    # Build the current age matrix\n",
    "    for m, _df in enumerate(df.groupby('mouse')):\n",
    "        xmale_temp = _df[1][a:a+n]\n",
    "        xmale = pd.concat([xmale, xmale_temp])\n",
    "        \n",
    "    rep_counts = xmale.groupby('mouse')['age'].size()\n",
    "    keep_mice = list(rep_counts[rep_counts >= nmin].index)  # keep mice that have at least nmin sessions\n",
    "    xmale = xmale[xmale['mouse'].isin(keep_mice)]\n",
    "    if xmale.empty:\n",
    "        break\n",
    "    age.append(np.floor(np.mean(xmale['age'])).astype(int))    \n",
    "    ymale = xmale['mouse']\n",
    "    x = xmale.drop(['mouse', 'age'], axis=1).to_numpy()\n",
    "    x=np.log(x+1e-6)\n",
    "    # Fit the model and collect coefficients\n",
    "    clf.fit(x, ymale)\n",
    "    coefficients_list.append(np.mean(clf.coef_,axis=0))\n",
    "    \n",
    "    # Perform cross-validation\n",
    "    y_pred = cross_val_predict(clf, x, ymale, cv=cv)\n",
    "    temp_acc = np.mean(cross_val_score(clf, x, ymale, cv=cv, n_jobs=-1))\n",
    "    acc.append(temp_acc)\n",
    "    \n",
    "    # Shuffle labels and calculate shuffled accuracy\n",
    "    for i in tqdm(range(it)):\n",
    "        ysh_temp = np.random.permutation(ymale)\n",
    "        y_pred_temp = cross_val_score(clf, x, ysh_temp, cv=cv, n_jobs=-1)\n",
    "        sh_acc.append(np.mean(y_pred_temp))\n",
    "        sh_ages.append(np.floor(np.mean(xmale['age'])).astype(int))\n",
    "    \n",
    "    # Handle variables for the loop\n",
    "    xmale = pd.DataFrame()\n",
    "    a = a + 1\n"
   ]
  },
  {
   "cell_type": "code",
   "execution_count": 11,
   "id": "78e8d903",
   "metadata": {},
   "outputs": [],
   "source": [
    "# create df for plotting\n",
    "df_sh = pd.DataFrame()\n",
    "df_sh['acc']=sh_acc\n",
    "df_sh['ages'] = sh_ages\n",
    "\n",
    "df = pd.DataFrame()\n",
    "df['acc']=acc\n",
    "df['ages'] = age"
   ]
  },
  {
   "cell_type": "code",
   "execution_count": 12,
   "id": "2dd2a072",
   "metadata": {},
   "outputs": [],
   "source": [
    "format_plots()"
   ]
  },
  {
   "cell_type": "code",
   "execution_count": 13,
   "id": "d8df77f6",
   "metadata": {},
   "outputs": [],
   "source": [
    "fig, ax = plt.subplots(figsize=(1.3, 1.3))\n",
    "sns.pointplot(data=df_sh, x=\"ages\", y=\"acc\", ax=ax, color='grey',estimator='mean', errorbar=('sd',2),join=True)\n",
    "plt.setp(ax.collections, alpha=.3) #for the markers\n",
    "plt.setp(ax.lines, alpha=.3)       #for the lines\n",
    "sns.pointplot(data=df, x=\"ages\", y=\"acc\",\n",
    "              dodge=0, \n",
    "              join=True, \n",
    "              ax=ax, \n",
    "              scale=0.5,\n",
    "              hue='ages',\n",
    "              palette=pl,\n",
    "              estimator='mean', errorbar=('sd',2),\n",
    "              #edgecolor='gray',\n",
    "              #linewidth=0.3\n",
    "             )\n",
    "plt.legend([],[], frameon=False)\n",
    "#plt.xticks([])\n",
    "ax.set_ylim([0,1.1])\n",
    "# Customize xticks\n",
    "xticks = [6, 16, 26, 36]\n",
    "ax.set_xticks(xticks)\n",
    "\n",
    "#ax.set_xticks([0,11,31,49,67])\n",
    "#ax.set_xticklabels([10,20,30,40])\n",
    "\n",
    "sns.despine()\n",
    "#ax.set_title('identity classifier male')\n",
    "c = PlotConfig()"
   ]
  },
  {
   "cell_type": "code",
   "execution_count": 14,
   "id": "3223291c",
   "metadata": {},
   "outputs": [],
   "source": [
    "c = PlotConfig()\n",
    "fig.savefig(c.dana_save_path / \"fig3\"/ 'indv_decoder_longv2_male.pdf')"
   ]
  },
  {
   "cell_type": "code",
   "execution_count": 30,
   "id": "a217e678",
   "metadata": {},
   "outputs": [],
   "source": [
    "format_plots()\n",
    "fig, ax = plt.subplots(figsize=(1.3, 1.3))\n",
    "sns.lineplot(data=df_sh, x=\"ages\", y=\"acc\", ax=ax, color='black', estimator='mean', errorbar=('sd', 2))\n",
    "sns.lineplot(data=df, x=\"ages\", y=\"acc\", ax=ax, color='#20B2AA', estimator='mean', errorbar=('sd', 2))\n",
    "plt.ylim([0.0,1.1])\n",
    "plt.legend([],[], frameon=False)\n",
    "# Set custom x-ticks\n",
    "plt.xticks([5, 10, 15, 20, 25, 30, 35,40,45])\n",
    "sns.despine()"
   ]
  },
  {
   "cell_type": "code",
   "execution_count": 31,
   "id": "b272f4b8",
   "metadata": {},
   "outputs": [],
   "source": [
    "c = PlotConfig()\n",
    "fig.savefig(c.dana_save_path / \"fig3\"/ 'indv_decoder_longv2_male_line.pdf')"
   ]
  },
  {
   "cell_type": "code",
   "execution_count": 17,
   "id": "2e6b90f4",
   "metadata": {},
   "outputs": [],
   "source": [
    "fig, ax = plt.subplots(figsize=(1.3, 1.3))\n",
    "# Convert coefficients list to a DataFrame\n",
    "coefficients_df = pd.DataFrame(coefficients_list)\n",
    "sns.heatmap(coefficients_df.T, cmap='coolwarm', center=0, annot=False, fmt='.2f', vmin=-0.035, vmax=0.035)\n",
    "plt.ylabel('Syllables')\n",
    "plt.xlabel('Ages')\n",
    "\n",
    "# Set x-axis ticks to show only every 6 ages\n",
    "tick_positions = range(0, len(age), 6)\n",
    "tick_labels = [age[i] for i in tick_positions]\n",
    "plt.xticks(tick_positions, tick_labels)\n",
    "\n",
    "plt.show()"
   ]
  },
  {
   "cell_type": "code",
   "execution_count": 18,
   "id": "ac87b980",
   "metadata": {},
   "outputs": [],
   "source": [
    "np.max(coefficients_list)"
   ]
  },
  {
   "cell_type": "code",
   "execution_count": 19,
   "id": "56103bb4",
   "metadata": {},
   "outputs": [],
   "source": [
    "c = PlotConfig()\n",
    "fig.savefig(c.dana_save_path / \"fig3\"/ 'indv_decoder_longv2_coefficient_male.pdf')"
   ]
  },
  {
   "cell_type": "code",
   "execution_count": 20,
   "id": "6b6edc6a",
   "metadata": {},
   "outputs": [],
   "source": [
    "from sklearn.feature_selection import mutual_info_classif as MIC\n",
    "from sklearn.feature_selection import mutual_info_regression as MIR\n",
    "X = df_indv.to_numpy()\n",
    "y = list(df_indv.index.get_level_values('mouse'))\n",
    "mi_score_id = MIC(X,y)\n",
    "id_indx = np.argsort(mi_score_id)[::-1][0:len(keep_syllables)] # syllble index\n",
    "impsyl_id= list(df_indv.columns[id_indx]) #syllable id"
   ]
  },
  {
   "cell_type": "code",
   "execution_count": 21,
   "id": "011e45d5",
   "metadata": {},
   "outputs": [],
   "source": [
    "# Convert coefficients list to a DataFrame\n",
    "coef= pd.DataFrame(coefficients_list).T\n",
    "coef['syll'] = keep_syllables\n",
    "coef.set_index(['syll'],inplace=True)\n",
    "# Step 3: Rename the columns\n",
    "coef.columns = age\n",
    "coef = coef.reindex(impsyl_id)"
   ]
  },
  {
   "cell_type": "code",
   "execution_count": 22,
   "id": "1aed003d",
   "metadata": {},
   "outputs": [],
   "source": [
    "fig, ax = plt.subplots(figsize=(1.3, 1.3))\n",
    "sns.heatmap(coef, cmap='coolwarm', center=0, annot=False, fmt='.2f', vmin=-0.035, vmax=0.035)\n",
    "plt.ylabel('Syllables')\n",
    "plt.xlabel('Ages')\n",
    "\n",
    "# Set x-axis ticks to show only every 6 ages\n",
    "tick_positions = range(0, len(age), 6)\n",
    "tick_labels = [age[i] for i in tick_positions]\n",
    "plt.xticks(tick_positions, tick_labels)\n",
    "plt.show()"
   ]
  },
  {
   "cell_type": "code",
   "execution_count": 23,
   "id": "bd13e2e6",
   "metadata": {},
   "outputs": [],
   "source": [
    "c = PlotConfig()\n",
    "fig.savefig(c.dana_save_path / \"fig3\"/ 'indv_decoder_longv2_coefficient_resorted_male.pdf')"
   ]
  },
  {
   "cell_type": "code",
   "execution_count": 24,
   "id": "1bda49fd",
   "metadata": {},
   "outputs": [],
   "source": [
    "import matplotlib.pyplot as plt\n",
    "import matplotlib.colors as mcolors\n",
    "import matplotlib.cm as cm\n",
    "\n",
    "# Define the number of colors in the tab20 colormap\n",
    "num_colors = 20\n",
    "\n",
    "# Create a figure and an axis\n",
    "fig, ax = plt.subplots(figsize=(6, 1))\n",
    "fig.subplots_adjust(bottom=0.5)\n",
    "\n",
    "# Create a colormap object\n",
    "cmap = plt.get_cmap('tab20', num_colors)\n",
    "\n",
    "# Create a ScalarMappable with the colormap and normalize it\n",
    "norm = mcolors.Normalize(vmin=0, vmax=num_colors-1)\n",
    "sm = cm.ScalarMappable(cmap=cmap, norm=norm)\n",
    "sm.set_array([])\n",
    "\n",
    "# Add a color bar to the plot\n",
    "cbar = fig.colorbar(sm, orientation='horizontal', ticks=range(num_colors))\n",
    "\n",
    "# Set the color bar ticks and labels\n",
    "cbar.ax.set_xticklabels([str(i) for i in range(1, num_colors+1)])\n",
    "cbar.set_label('tab20 Colormap')\n",
    "\n",
    "# Show the plot\n",
    "plt.show()"
   ]
  },
  {
   "cell_type": "code",
   "execution_count": 25,
   "id": "4f8726c0",
   "metadata": {},
   "outputs": [],
   "source": [
    "c = PlotConfig()\n",
    "#fig.savefig(c.dana_save_path / \"fig3/ 'longv2_indv_colormap.pdf')"
   ]
  }
 ],
 "metadata": {
  "kernelspec": {
   "display_name": "Python 3 (ipykernel)",
   "language": "python",
   "name": "python3"
  },
  "language_info": {
   "codemirror_mode": {
    "name": "ipython",
    "version": 3
   },
   "file_extension": ".py",
   "mimetype": "text/x-python",
   "name": "python",
   "nbconvert_exporter": "python",
   "pygments_lexer": "ipython3",
   "version": "3.10.12"
  }
 },
 "nbformat": 4,
 "nbformat_minor": 5
}
