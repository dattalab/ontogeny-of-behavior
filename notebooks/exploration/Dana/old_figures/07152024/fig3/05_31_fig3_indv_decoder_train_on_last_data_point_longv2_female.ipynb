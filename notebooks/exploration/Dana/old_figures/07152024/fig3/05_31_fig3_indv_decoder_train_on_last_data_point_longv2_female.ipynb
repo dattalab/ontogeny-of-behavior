{
 "cells": [
  {
   "cell_type": "code",
   "execution_count": 1,
   "id": "a77ea523",
   "metadata": {},
   "outputs": [],
   "source": [
    "import numpy as np\n",
    "import pandas as pd\n",
    "import seaborn as sns\n",
    "import matplotlib.pyplot as plt\n",
    "from aging.plotting import format_plots, PlotConfig, save_factory, figure, legend, format_pizza_plots\n",
    "from collections import Counter\n",
    "from matplotlib.lines import Line2D\n",
    "from tqdm import tqdm"
   ]
  },
  {
   "cell_type": "code",
   "execution_count": 2,
   "id": "d1dc615e",
   "metadata": {},
   "outputs": [],
   "source": [
    "from sklearn.model_selection import train_test_split\n",
    "from sklearn import datasets\n",
    "from sklearn import svm\n",
    "from sklearn.ensemble import RandomForestClassifier\n",
    "from sklearn.metrics import accuracy_score\n",
    "from matplotlib.gridspec import GridSpec\n",
    "from collections import defaultdict\n",
    "from sklearn.metrics import confusion_matrix\n",
    "from sklearn.model_selection import cross_val_score, cross_val_predict\n",
    "from sklearn.linear_model import LogisticRegression, LinearRegression\n",
    "from sklearn.model_selection import ShuffleSplit\n",
    "from sklearn.svm import LinearSVC\n",
    "from sklearn.model_selection import GroupKFold, LeaveOneGroupOut, LeaveOneOut, KFold\n",
    "from sklearn.metrics import accuracy_score\n",
    "import random"
   ]
  },
  {
   "cell_type": "code",
   "execution_count": 3,
   "id": "86571b2b",
   "metadata": {},
   "outputs": [],
   "source": [
    "def mm_norm_col(column):\n",
    "    return (column - column.min()) / (column.max() - column.min())"
   ]
  },
  {
   "cell_type": "code",
   "execution_count": 4,
   "id": "125a4a45",
   "metadata": {},
   "outputs": [],
   "source": [
    "keep_syllables = np.loadtxt('/n/groups/datta/win/longtogeny/data/ontogeny/version_11/to_keep_syllables_raw.txt', dtype=int)\n",
    "\n",
    "df = pd.read_parquet('/n/groups/datta/win/longtogeny/data/ontogeny/version_11-1/longtogeny_v2_females_raw_usage_matrix_v00.parquet').astype(float)\n",
    "df = df[keep_syllables].groupby(['age','uuid','mouse']).mean()\n",
    "\n",
    "# take only first sample from each week\n",
    "ages= df.index.get_level_values('age')\n",
    "weeks = (ages * 7) // 7\n",
    "df['binned_age'] = weeks\n",
    "\n",
    "sample = df.groupby(['mouse','binned_age']).first().reset_index()\n",
    "#sample2 = df.groupby(['mouse','binned_age']).last().reset_index()\n",
    "#sample2['binned_age'] = sample2['binned_age']+0.5\n",
    "#df_female = pd.concat([sample,sample2])\n",
    "df_female = sample.copy()\n",
    "df_female.rename(columns={'binned_age': 'age'}, inplace=True)\n",
    "df_female.set_index(['age', 'mouse'], inplace=True)\n"
   ]
  },
  {
   "cell_type": "code",
   "execution_count": 5,
   "id": "7977e784",
   "metadata": {},
   "outputs": [],
   "source": [
    "keep_syllables = np.loadtxt('/n/groups/datta/win/longtogeny/data/ontogeny/version_11/to_keep_syllables_raw.txt', dtype=int)\n",
    "\n",
    "df = pd.read_parquet('/n/groups/datta/win/longtogeny/data/ontogeny/version_11-1/longtogeny_v2_males_raw_usage_matrix_v00.parquet').astype(float)\n",
    "df = df[keep_syllables].groupby(['age','uuid','mouse']).mean()\n",
    "\n",
    "ages= df.index.get_level_values('age')\n",
    "weeks = (ages * 7) // 7\n",
    "df['binned_age'] = weeks\n",
    "sample = df.groupby(['mouse','binned_age']).first().reset_index()\n",
    "sample2 = df.groupby(['mouse','binned_age']).last().reset_index()\n",
    "sample2['binned_age'] = sample2['binned_age']+0.5\n",
    "df_male = pd.concat([sample,sample2])\n",
    "#df_male = sample.copy()\n",
    "df_male.rename(columns={'binned_age': 'age'}, inplace=True)\n",
    "\n",
    "df_male.set_index(['age', 'mouse'], inplace=True)"
   ]
  },
  {
   "cell_type": "code",
   "execution_count": 6,
   "id": "95cb9b48",
   "metadata": {},
   "outputs": [],
   "source": [
    "# avarage per age or session\n",
    "f_df= df_female.groupby(['age','mouse']).mean()\n",
    "avg_f_df = f_df.groupby(['age']).mean()\n",
    "\n",
    "# normalize the data\n",
    "f_norm = mm_norm_col(f_df)\n",
    "avg_f_norm = mm_norm_col(avg_f_df)\n",
    "\n",
    "# avarage per age or session\n",
    "m_df= df_male.groupby(['age','mouse']).mean()\n",
    "avg_m_df = m_df.groupby(['age']).mean()\n",
    "\n",
    "# normalize the data\n",
    "m_norm = mm_norm_col(m_df)\n",
    "avg_m_norm = mm_norm_col(avg_m_df)"
   ]
  },
  {
   "cell_type": "code",
   "execution_count": 7,
   "id": "63d8d16f",
   "metadata": {},
   "outputs": [],
   "source": [
    "df_indv=f_df.groupby(['mouse','age']).mean()\n",
    "df_indv = np.log(df_indv + 1e-6) #log transform"
   ]
  },
  {
   "cell_type": "code",
   "execution_count": 8,
   "id": "95b62fbf",
   "metadata": {},
   "outputs": [],
   "source": [
    "## get data to test on - all mice that have the last final 5 datapints:\n",
    "#create test data - average of the 5 final data point of each mouse\n",
    "nend=8\n",
    "xtrain=pd.DataFrame()\n",
    "df=df_indv.copy()\n",
    "\n",
    "# Identify the last 3 ages\n",
    "last_5_ages = df.index.get_level_values('age').unique()[-nend:]\n",
    "\n",
    "# Filter the DataFrame to include only the last 5 ages\n",
    "last_5_df = df[df.index.get_level_values('age').isin(last_5_ages)]\n",
    "\n",
    "xtrain = df[df.index.get_level_values('age').isin(last_5_ages)]\n",
    "ytrain = xtrain.index.get_level_values('mouse').to_numpy()"
   ]
  },
  {
   "cell_type": "code",
   "execution_count": 9,
   "id": "9969074b",
   "metadata": {},
   "outputs": [],
   "source": [
    "# choose a model\n",
    "clf = svm.SVC(kernel='linear') \n",
    "\n",
    "# choose cross validation scheme\n",
    "cv = LeaveOneOut()\n",
    "\n",
    "#number of iterations for shuffle\n",
    "it=100"
   ]
  },
  {
   "cell_type": "code",
   "execution_count": 10,
   "id": "174079a8",
   "metadata": {},
   "outputs": [],
   "source": [
    "clf.fit(xtrain, ytrain)\n",
    "coefficients_list=np.mean(clf.coef_,axis=0)"
   ]
  },
  {
   "cell_type": "code",
   "execution_count": 11,
   "id": "0fda26d8",
   "metadata": {},
   "outputs": [],
   "source": [
    "## predict ages on every"
   ]
  },
  {
   "cell_type": "code",
   "execution_count": 12,
   "id": "3550e776",
   "metadata": {},
   "outputs": [],
   "source": [
    "df=df_indv.copy()\n",
    "df= df[~df.index.get_level_values('age').isin(last_5_ages)].reset_index()"
   ]
  },
  {
   "cell_type": "code",
   "execution_count": 13,
   "id": "048110bf",
   "metadata": {},
   "outputs": [
    {
     "name": "stderr",
     "output_type": "stream",
     "text": [
      "/tmp/ipykernel_29378/1691959703.py:6: MatplotlibDeprecationWarning: The register_cmap function was deprecated in Matplotlib 3.7 and will be removed two minor releases later. Use ``matplotlib.colormaps.register(name)`` instead.\n",
      "  matplotlib.cm.register_cmap(\"dana\", cmap)\n"
     ]
    }
   ],
   "source": [
    "# prepare colors for plot\n",
    "from matplotlib.colors import LinearSegmentedColormap\n",
    "colors = ['#fee6ce','#d94801']\n",
    "import matplotlib\n",
    "cmap = LinearSegmentedColormap.from_list(\"custom_purples\", colors, N=256)\n",
    "matplotlib.cm.register_cmap(\"dana\", cmap)\n",
    "pl = sns.color_palette(\"dana\", n_colors=50)"
   ]
  },
  {
   "cell_type": "code",
   "execution_count": 14,
   "id": "0be589c7",
   "metadata": {
    "scrolled": false
   },
   "outputs": [
    {
     "name": "stderr",
     "output_type": "stream",
     "text": [
      "100%|███████████████████████████████████████████████████████████████████████████████████████████████████████████████████████████████████████████████████████████████████████| 100/100 [00:27<00:00,  3.60it/s]\n",
      "100%|███████████████████████████████████████████████████████████████████████████████████████████████████████████████████████████████████████████████████████████████████████| 100/100 [01:24<00:00,  1.19it/s]\n",
      "100%|███████████████████████████████████████████████████████████████████████████████████████████████████████████████████████████████████████████████████████████████████████| 100/100 [02:05<00:00,  1.25s/it]\n",
      "100%|███████████████████████████████████████████████████████████████████████████████████████████████████████████████████████████████████████████████████████████████████████| 100/100 [02:05<00:00,  1.26s/it]\n",
      "100%|███████████████████████████████████████████████████████████████████████████████████████████████████████████████████████████████████████████████████████████████████████| 100/100 [02:07<00:00,  1.28s/it]\n",
      "100%|███████████████████████████████████████████████████████████████████████████████████████████████████████████████████████████████████████████████████████████████████████| 100/100 [02:07<00:00,  1.27s/it]\n",
      "100%|███████████████████████████████████████████████████████████████████████████████████████████████████████████████████████████████████████████████████████████████████████| 100/100 [02:05<00:00,  1.25s/it]\n",
      "100%|███████████████████████████████████████████████████████████████████████████████████████████████████████████████████████████████████████████████████████████████████████| 100/100 [02:03<00:00,  1.23s/it]\n",
      "100%|███████████████████████████████████████████████████████████████████████████████████████████████████████████████████████████████████████████████████████████████████████| 100/100 [02:00<00:00,  1.21s/it]\n",
      "100%|███████████████████████████████████████████████████████████████████████████████████████████████████████████████████████████████████████████████████████████████████████| 100/100 [02:04<00:00,  1.25s/it]\n",
      "100%|███████████████████████████████████████████████████████████████████████████████████████████████████████████████████████████████████████████████████████████████████████| 100/100 [01:58<00:00,  1.19s/it]\n",
      "100%|███████████████████████████████████████████████████████████████████████████████████████████████████████████████████████████████████████████████████████████████████████| 100/100 [02:02<00:00,  1.22s/it]\n",
      "100%|███████████████████████████████████████████████████████████████████████████████████████████████████████████████████████████████████████████████████████████████████████| 100/100 [02:01<00:00,  1.21s/it]\n",
      "100%|███████████████████████████████████████████████████████████████████████████████████████████████████████████████████████████████████████████████████████████████████████| 100/100 [02:03<00:00,  1.23s/it]\n",
      "100%|███████████████████████████████████████████████████████████████████████████████████████████████████████████████████████████████████████████████████████████████████████| 100/100 [02:07<00:00,  1.28s/it]\n",
      "100%|███████████████████████████████████████████████████████████████████████████████████████████████████████████████████████████████████████████████████████████████████████| 100/100 [02:06<00:00,  1.27s/it]\n",
      "100%|███████████████████████████████████████████████████████████████████████████████████████████████████████████████████████████████████████████████████████████████████████| 100/100 [02:04<00:00,  1.24s/it]\n",
      "100%|███████████████████████████████████████████████████████████████████████████████████████████████████████████████████████████████████████████████████████████████████████| 100/100 [01:58<00:00,  1.19s/it]\n",
      "100%|███████████████████████████████████████████████████████████████████████████████████████████████████████████████████████████████████████████████████████████████████████| 100/100 [02:04<00:00,  1.24s/it]\n",
      "100%|███████████████████████████████████████████████████████████████████████████████████████████████████████████████████████████████████████████████████████████████████████| 100/100 [02:03<00:00,  1.23s/it]\n",
      "100%|███████████████████████████████████████████████████████████████████████████████████████████████████████████████████████████████████████████████████████████████████████| 100/100 [01:59<00:00,  1.19s/it]\n",
      "100%|███████████████████████████████████████████████████████████████████████████████████████████████████████████████████████████████████████████████████████████████████████| 100/100 [02:02<00:00,  1.22s/it]\n",
      "100%|███████████████████████████████████████████████████████████████████████████████████████████████████████████████████████████████████████████████████████████████████████| 100/100 [02:03<00:00,  1.24s/it]\n",
      "100%|███████████████████████████████████████████████████████████████████████████████████████████████████████████████████████████████████████████████████████████████████████| 100/100 [01:59<00:00,  1.20s/it]\n",
      "100%|███████████████████████████████████████████████████████████████████████████████████████████████████████████████████████████████████████████████████████████████████████| 100/100 [02:01<00:00,  1.22s/it]\n",
      "100%|███████████████████████████████████████████████████████████████████████████████████████████████████████████████████████████████████████████████████████████████████████| 100/100 [01:58<00:00,  1.18s/it]\n",
      "100%|███████████████████████████████████████████████████████████████████████████████████████████████████████████████████████████████████████████████████████████████████████| 100/100 [01:54<00:00,  1.14s/it]\n",
      "100%|███████████████████████████████████████████████████████████████████████████████████████████████████████████████████████████████████████████████████████████████████████| 100/100 [01:56<00:00,  1.17s/it]\n",
      "100%|███████████████████████████████████████████████████████████████████████████████████████████████████████████████████████████████████████████████████████████████████████| 100/100 [01:51<00:00,  1.12s/it]\n",
      "100%|███████████████████████████████████████████████████████████████████████████████████████████████████████████████████████████████████████████████████████████████████████| 100/100 [01:53<00:00,  1.13s/it]\n",
      "100%|███████████████████████████████████████████████████████████████████████████████████████████████████████████████████████████████████████████████████████████████████████| 100/100 [01:51<00:00,  1.12s/it]\n"
     ]
    }
   ],
   "source": [
    "xmale = pd.DataFrame()\n",
    "a = 0\n",
    "n = 8  # size of sliding window\n",
    "age = []\n",
    "acc = []\n",
    "sh_acc = []\n",
    "sh_ages = []\n",
    "coefficients_list = []\n",
    "\n",
    "while True:\n",
    "    # Build the current age matrix\n",
    "    for m, _df in enumerate(df.groupby('mouse')):\n",
    "        xmale_temp = _df[1][a:a+n]\n",
    "        xmale = pd.concat([xmale, xmale_temp])\n",
    "    rep_counts = xmale.groupby('mouse')['age'].size()\n",
    "    keep_mice = list(rep_counts[rep_counts >= n].index)  # keep mice that have at least nmin sessions\n",
    "    xmale = xmale[xmale['mouse'].isin(keep_mice)]\n",
    "    if xmale.empty:\n",
    "        break\n",
    "    age.append(np.floor(np.mean(xmale['age'])).astype(int))\n",
    "    \n",
    "    ymale = xmale['mouse']\n",
    "    x = xmale.drop(['mouse', 'age'], axis=1).to_numpy()\n",
    "    \n",
    "    # Fit the model and collect coefficients    \n",
    "    # Predict labels for the test data\n",
    "    y_pred = clf.predict(x)\n",
    "\n",
    "    # Calculate accuracy score\n",
    "    accuracy = accuracy_score(ymale, y_pred)\n",
    "\n",
    "    acc.append(accuracy)\n",
    "    \n",
    "    # Shuffle labels and calculate shuffled accuracy\n",
    "    for i in tqdm(range(it)):\n",
    "        ysh_temp = np.random.permutation(ymale)\n",
    "        y_pred_temp = cross_val_score(clf, x, ysh_temp, cv=cv, n_jobs=-1)\n",
    "        sh_acc.append(np.mean(y_pred_temp))\n",
    "        sh_ages.append(np.floor(np.mean(xmale['age'])).astype(int))\n",
    "    \n",
    "    # Handle variables for the loop\n",
    "    xmale = pd.DataFrame()\n",
    "    a = a + 1"
   ]
  },
  {
   "cell_type": "code",
   "execution_count": 15,
   "id": "78e8d903",
   "metadata": {},
   "outputs": [],
   "source": [
    "# create df for plotting\n",
    "df_sh = pd.DataFrame()\n",
    "df_sh['acc']=sh_acc\n",
    "df_sh['ages'] = sh_ages\n",
    "\n",
    "df = pd.DataFrame()\n",
    "df['acc']=acc\n",
    "df['ages'] = age"
   ]
  },
  {
   "cell_type": "code",
   "execution_count": 16,
   "id": "2dd2a072",
   "metadata": {},
   "outputs": [],
   "source": [
    "format_plots()"
   ]
  },
  {
   "cell_type": "code",
   "execution_count": 17,
   "id": "d8df77f6",
   "metadata": {},
   "outputs": [
    {
     "data": {
      "image/png": "[encoded data removed]",
      "text/plain": [
       "<Figure size 260x260 with 1 Axes>"
      ]
     },
     "metadata": {},
     "output_type": "display_data"
    }
   ],
   "source": [
    "fig, ax = plt.subplots(figsize=(1.3, 1.3))\n",
    "sns.pointplot(data=df_sh, x=\"ages\", y=\"acc\", ax=ax, color='grey',estimator='mean', errorbar=('sd',2),join=True,scale=0.5)\n",
    "plt.setp(ax.collections, alpha=.3) #for the markers\n",
    "plt.setp(ax.lines, alpha=.3)       #for the lines\n",
    "sns.pointplot(data=df, x=\"ages\", y=\"acc\",\n",
    "              dodge=0, \n",
    "              join=True, \n",
    "              ax=ax, \n",
    "              scale=0.5,\n",
    "              hue='ages',\n",
    "              palette=pl,\n",
    "              #edgecolor='gray',\n",
    "              #linewidth=0.3\n",
    "             )\n",
    "plt.legend([],[], frameon=False)\n",
    "#plt.xticks([])\n",
    "ax.set_ylim([0,1])\n",
    "xticks = [4, 14, 23, 32]\n",
    "ax.set_xticks(xticks)\n",
    "sns.despine()\n",
    "#ax.set_title('identity decoding in different ages bin=' + str(n))\n",
    "c = PlotConfig()\n",
    "fig.savefig(c.dana_save_path / \"fig3\"/ 'longv2_id_decoder_train_on_last_data_points_female.pdf')"
   ]
  },
  {
   "cell_type": "code",
   "execution_count": 18,
   "id": "4e18861b",
   "metadata": {},
   "outputs": [
    {
     "name": "stderr",
     "output_type": "stream",
     "text": [
      "/home/drl21/miniconda/envs/aging/lib/python3.10/site-packages/seaborn/_oldcore.py:1119: FutureWarning: use_inf_as_na option is deprecated and will be removed in a future version. Convert inf values to NaN before operating instead.\n",
      "  with pd.option_context('mode.use_inf_as_na', True):\n",
      "/home/drl21/miniconda/envs/aging/lib/python3.10/site-packages/seaborn/_oldcore.py:1119: FutureWarning: use_inf_as_na option is deprecated and will be removed in a future version. Convert inf values to NaN before operating instead.\n",
      "  with pd.option_context('mode.use_inf_as_na', True):\n",
      "/home/drl21/miniconda/envs/aging/lib/python3.10/site-packages/seaborn/_oldcore.py:1119: FutureWarning: use_inf_as_na option is deprecated and will be removed in a future version. Convert inf values to NaN before operating instead.\n",
      "  with pd.option_context('mode.use_inf_as_na', True):\n",
      "/home/drl21/miniconda/envs/aging/lib/python3.10/site-packages/seaborn/_oldcore.py:1119: FutureWarning: use_inf_as_na option is deprecated and will be removed in a future version. Convert inf values to NaN before operating instead.\n",
      "  with pd.option_context('mode.use_inf_as_na', True):\n"
     ]
    },
    {
     "data": {
      "image/png": "[encoded data removed]",
      "text/plain": [
       "<Figure size 260x260 with 1 Axes>"
      ]
     },
     "metadata": {},
     "output_type": "display_data"
    }
   ],
   "source": [
    "format_plots()\n",
    "fig, ax = plt.subplots(figsize=(1.3, 1.3))\n",
    "sns.lineplot(data=df_sh, x=\"ages\", y=\"acc\", ax=ax, color='black', estimator='mean', errorbar=('sd', 2))\n",
    "sns.lineplot(data=df, x=\"ages\", y=\"acc\", ax=ax, color='#f16913', estimator='mean', errorbar=('sd', 2))\n",
    "plt.ylim([0.0,1.1])\n",
    "plt.legend([],[], frameon=False)\n",
    "# Set custom x-ticks\n",
    "plt.xticks([5, 10, 15, 20, 25, 30, 35])\n",
    "sns.despine()\n",
    "plt.show()"
   ]
  },
  {
   "cell_type": "code",
   "execution_count": 19,
   "id": "0bf5f0f3",
   "metadata": {},
   "outputs": [],
   "source": [
    "c = PlotConfig()\n",
    "fig.savefig(c.dana_save_path / \"fig3\"/ 'longv2_id_decoder_train_on_last_data_points_female_line.pdf')"
   ]
  }
 ],
 "metadata": {
  "kernelspec": {
   "display_name": "Python 3 (ipykernel)",
   "language": "python",
   "name": "python3"
  },
  "language_info": {
   "codemirror_mode": {
    "name": "ipython",
    "version": 3
   },
   "file_extension": ".py",
   "mimetype": "text/x-python",
   "name": "python",
   "nbconvert_exporter": "python",
   "pygments_lexer": "ipython3",
   "version": "3.10.12"
  }
 },
 "nbformat": 4,
 "nbformat_minor": 5
}
