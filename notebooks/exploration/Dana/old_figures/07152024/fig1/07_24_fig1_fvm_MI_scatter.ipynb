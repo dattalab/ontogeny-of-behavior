{
 "cells": [
  {
   "cell_type": "code",
   "execution_count": 1,
   "id": "a77ea523",
   "metadata": {},
   "outputs": [],
   "source": [
    "import numpy as np\n",
    "import pandas as pd\n",
    "import seaborn as sns\n",
    "import matplotlib.pyplot as plt\n",
    "from aging.plotting import format_plots, PlotConfig, save_factory, figure, legend, format_pizza_plots\n",
    "from collections import Counter\n",
    "from matplotlib.lines import Line2D"
   ]
  },
  {
   "cell_type": "code",
   "execution_count": 2,
   "id": "d1dc615e",
   "metadata": {},
   "outputs": [],
   "source": [
    "import numpy as np\n",
    "import pandas as pd\n",
    "import matplotlib.pyplot as plt\n",
    "import seaborn as sns\n",
    "import colorcet as cc\n",
    "from operator import add\n",
    "from tqdm.auto import tqdm\n",
    "from functools import reduce\n",
    "from sklearn.cluster import KMeans\n",
    "from sklearn.decomposition import PCA\n",
    "from scipy.spatial.distance import squareform, pdist\n",
    "from sklearn.metrics import silhouette_score\n",
    "from aging.plotting import format_plots, figure, save_factory, PlotConfig, legend, add_identity\n",
    "from sklearn.feature_selection import mutual_info_classif as MIC\n",
    "from sklearn.feature_selection import mutual_info_regression as MIR"
   ]
  },
  {
   "cell_type": "code",
   "execution_count": 3,
   "id": "86bc3f62",
   "metadata": {},
   "outputs": [],
   "source": [
    "from matplotlib.colors import LinearSegmentedColormap\n",
    "# Define the color map\n",
    "colors = ['#d94801','white','#008C8D']\n",
    "custom_cmap = LinearSegmentedColormap.from_list(\"custom_purples\", colors, N=256)\n",
    "cmmf=custom_cmap\n",
    "\n",
    "colors = ['#dadaeb','#6a51a3']\n",
    "custom_cmap = LinearSegmentedColormap.from_list(\"custom_purples\", colors, N=256)\n",
    "cma=custom_cmap\n",
    "\n",
    "colors = ['white','gray']\n",
    "custom_cmap = LinearSegmentedColormap.from_list(\"custom_purples\", colors, N=256)\n",
    "cma=custom_cmap\n",
    "\n",
    "colors = ['#ccece6','#99d8c9','#66c2a4','#41ae76','#238b45','#006d2c']\n",
    "cml = sns.blend_palette(colors, n_colors=256, as_cmap=True)\n",
    "\n",
    "# Define the color map\n",
    "colors = ['#fee6ce','#d94801']\n",
    "custom_cmap = LinearSegmentedColormap.from_list(\"custom_purples\", colors, N=256)\n",
    "cmf=custom_cmap\n",
    "\n",
    "colors = ['#c7eae5','#008C8D']\n",
    "custom_cmap = LinearSegmentedColormap.from_list(\"custom_purples\", colors, N=256)\n",
    "cmm=custom_cmap"
   ]
  },
  {
   "cell_type": "code",
   "execution_count": 4,
   "id": "86571b2b",
   "metadata": {},
   "outputs": [],
   "source": [
    "def mm_norm_col(column):\n",
    "    return (column - column.min()) / (column.max() - column.min())"
   ]
  },
  {
   "cell_type": "code",
   "execution_count": 5,
   "id": "bf89b2f7",
   "metadata": {},
   "outputs": [],
   "source": [
    "## arrange data\n",
    "keep_syllables = np.loadtxt('/n/groups/datta/win/longtogeny/data/ontogeny/version_11/to_keep_syllables_raw.txt', dtype=int)\n",
    "\n",
    "male_df = pd.read_parquet('/n/groups/datta/win/longtogeny/data/ontogeny/version_11-1/ontogeny_males_raw_usage_matrix_v00.parquet').astype(float)\n",
    "male_df = male_df[keep_syllables]\n",
    "m_df= male_df.groupby(['age','uuid']).mean()"
   ]
  },
  {
   "cell_type": "code",
   "execution_count": 6,
   "id": "e99a9231",
   "metadata": {},
   "outputs": [],
   "source": [
    "## arrange data for females\n",
    "keep_syllables = np.loadtxt('/n/groups/datta/win/longtogeny/data/ontogeny/version_11/to_keep_syllables_raw.txt', dtype=int)\n",
    "\n",
    "\n",
    "female_df = pd.read_parquet('/n/groups/datta/win/longtogeny/data/ontogeny/version_11-1/ontogeny_females_raw_usage_matrix_v00.parquet').astype(float)\n",
    "female_df = female_df[keep_syllables]\n",
    "\n",
    "# for female:\n",
    "f_df= female_df.groupby(['age','uuid']).mean()\n",
    "# Update age value to 52 for rows with uuid in the list\n",
    "uuids = ['f1d5dce5-f5cf-4b03-b07d-d9b8c1f034b0','6fa50ac7-6d49-4ef9-9059-3d90bdd8c5d4',\n",
    "         'e9e05da8-fc59-40f3-a9c8-f57c492c6141','327e7fa1-2237-43d2-b25f-c1801912df33',\n",
    "        '242bee8e-0ee7-45e7-8a13-678836a4cddb','552ec70f-0676-4471-8ab0-403e1fcf43e3','d6f254af-d55a-427a-96e0-c452a233cbe2']\n",
    "f_df.reset_index(inplace=True)\n",
    "\n",
    "age_mapping = {\n",
    "    93: 94,\n",
    "    95: 94,\n",
    "    97: 98,\n",
    "    98: 98,\n",
    "    102: 98,\n",
    "    103: 105,\n",
    "    105: 105,\n",
    "    107: 105\n",
    "}\n",
    "\n",
    "f_df['age'] = f_df['age'].map(age_mapping).fillna(f_df['age'])\n",
    "f_df.loc[f_df['uuid'].isin(uuids), 'age'] = 52\n",
    "# Set the index back\n",
    "f_df.set_index(['age', 'uuid'], inplace=True)\n",
    "f_df=f_df.query('age<127')"
   ]
  },
  {
   "cell_type": "code",
   "execution_count": 7,
   "id": "df7d5454",
   "metadata": {},
   "outputs": [
    {
     "name": "stderr",
     "output_type": "stream",
     "text": [
      "/tmp/ipykernel_27429/1663783390.py:7: SettingWithCopyWarning: \n",
      "A value is trying to be set on a copy of a slice from a DataFrame.\n",
      "Try using .loc[row_indexer,col_indexer] = value instead\n",
      "\n",
      "See the caveats in the documentation: https://pandas.pydata.org/pandas-docs/stable/user_guide/indexing.html#returning-a-view-versus-a-copy\n",
      "  m_data['sex'] = 'm'\n",
      "/tmp/ipykernel_27429/1663783390.py:11: SettingWithCopyWarning: \n",
      "A value is trying to be set on a copy of a slice from a DataFrame.\n",
      "Try using .loc[row_indexer,col_indexer] = value instead\n",
      "\n",
      "See the caveats in the documentation: https://pandas.pydata.org/pandas-docs/stable/user_guide/indexing.html#returning-a-view-versus-a-copy\n",
      "  f_data['sex'] = 'f'\n"
     ]
    }
   ],
   "source": [
    "# use only common ages\n",
    "f_ages = f_df.index.get_level_values('age').unique().to_numpy()\n",
    "m_ages = m_df.index.get_level_values('age').unique().to_numpy()\n",
    "cages = list(np.intersect1d(f_ages,m_ages))\n",
    "\n",
    "m_data = m_df.loc[m_df.index.get_level_values('age').isin(cages)]\n",
    "m_data['sex'] = 'm'\n",
    "m_data.set_index('sex',inplace=True,append=True)\n",
    "\n",
    "f_data = f_df.loc[f_df.index.get_level_values('age').isin(cages)]\n",
    "f_data['sex'] = 'f'\n",
    "f_data.set_index('sex',inplace=True,append=True)"
   ]
  },
  {
   "cell_type": "code",
   "execution_count": 8,
   "id": "4ac4e86e",
   "metadata": {},
   "outputs": [],
   "source": [
    "#average and normalize male\n",
    "avg_m_df = m_data.groupby(['age']).mean()\n",
    "# normalize the data\n",
    "m_norm = mm_norm_col(m_data)\n",
    "avg_m_norm = mm_norm_col(avg_m_df)\n",
    "\n",
    "#average and normalize female\n",
    "avg_f_df = f_data.groupby(['age']).mean()\n",
    "# normalize the data\n",
    "f_norm = mm_norm_col(f_data)\n",
    "avg_f_norm = mm_norm_col(avg_f_df)\n",
    "data=pd.concat([m_data,f_data])"
   ]
  },
  {
   "cell_type": "code",
   "execution_count": 9,
   "id": "4ef097c2",
   "metadata": {},
   "outputs": [],
   "source": [
    "## plot"
   ]
  },
  {
   "cell_type": "code",
   "execution_count": 10,
   "id": "dc157f59",
   "metadata": {},
   "outputs": [],
   "source": [
    "X = m_data.to_numpy()\n",
    "y = list(m_data.index.get_level_values('age'))\n",
    "mi_score_m = MIR(X,y)\n",
    "\n",
    "m_rank = np.argsort(mi_score_m)[::-1]\n",
    "m_scores = mi_score_m[m_rank]"
   ]
  },
  {
   "cell_type": "code",
   "execution_count": 11,
   "id": "1324f70b",
   "metadata": {},
   "outputs": [],
   "source": [
    "X = f_data.to_numpy()\n",
    "y = list(f_data.index.get_level_values('age'))\n",
    "mi_score_f = MIR(X,y)\n",
    "\n",
    "f_rank = np.argsort(mi_score_f)\n",
    "f_scores = mi_score_f[m_rank] ## sorted by males"
   ]
  },
  {
   "cell_type": "code",
   "execution_count": 12,
   "id": "b0cff4a5",
   "metadata": {},
   "outputs": [],
   "source": [
    "format_plots()"
   ]
  },
  {
   "cell_type": "code",
   "execution_count": 13,
   "id": "2fcd984e",
   "metadata": {},
   "outputs": [],
   "source": [
    "syllable_classes = pd.read_csv('./v11_syllable_labels_v3.csv')\n",
    "id_map = syllable_classes.set_index('Original ID')['Class']\n",
    "class_sort = [id_map[k] for k in m_data.columns]"
   ]
  },
  {
   "cell_type": "code",
   "execution_count": 14,
   "id": "f0404897",
   "metadata": {},
   "outputs": [],
   "source": [
    "from sklearn.preprocessing import LabelEncoder\n",
    "format_plots()\n",
    "mi_df = pd.DataFrame()\n",
    "mi_df['mi'] = np.concatenate((m_scores,f_scores))\n",
    "mi_df['syll'] = np.concatenate((np.array(m_data.columns),np.array(f_data.columns)))\n",
    "mi_df['exp'] = ['male']*len(m_data.columns)+['female']*len(f_data.columns)\n",
    "mi_df['rank'] = mi_df.groupby('exp')['mi'].rank()\n",
    "mi_df['class'] = np.concatenate((class_sort, class_sort))"
   ]
  },
  {
   "cell_type": "code",
   "execution_count": 15,
   "id": "6441a273",
   "metadata": {},
   "outputs": [
    {
     "data": {
      "image/png": "[encoded data removed]",
      "text/plain": [
       "<Figure size 200x200 with 1 Axes>"
      ]
     },
     "metadata": {},
     "output_type": "display_data"
    }
   ],
   "source": [
    "# Label encoding for classes\n",
    "le = LabelEncoder()\n",
    "le.fit(np.unique(mi_df['class'].unique()))\n",
    "mi_df['class_encoded'] = le.transform(mi_df['class'])\n",
    "\n",
    "# Separate the data into male and female MI scores\n",
    "m_mi = mi_df[mi_df['exp'] == 'male']\n",
    "f_mi = mi_df[mi_df['exp'] == 'female']\n",
    "\n",
    "# Ensure that the syllables are aligned between male and female dataframes\n",
    "m_mi = m_mi.set_index('syll')\n",
    "f_mi = f_mi.set_index('syll')\n",
    "\n",
    "# Merge male and female MI scores based on syllables\n",
    "merged_mi_df = m_mi[['mi', 'class_encoded']].join(f_mi[['mi']], lsuffix='_male', rsuffix='_female')\n",
    "\n",
    "# Plot\n",
    "palette = sns.color_palette(\"tab20\", len(np.unique(mi_df['class'])))\n",
    "fig, ax = plt.subplots()\n",
    "fig.set_size_inches(1,1)\n",
    "sns.scatterplot(data=merged_mi_df, x='mi_male', y='mi_female', hue='class_encoded', palette=palette, s=15,\n",
    "                edgecolor='black', linewidth=0.1)\n",
    "\n",
    "# Add labels and title\n",
    "plt.xlim([-0.025, 0.4])\n",
    "plt.ylim([-0.025, 0.4])\n",
    "plt.xlabel('Male MI scores (nats)')\n",
    "plt.ylabel('Female MI scores (nats)')\n",
    "\n",
    "# Create legend\n",
    "legend_labels = le.inverse_transform(range(len(np.unique(mi_df['class']))))\n",
    "legend_handles = [plt.Line2D([0], [0], marker='o', color='w', label=label, \n",
    "                              markerfacecolor=color, markersize=8) for label, color in zip(legend_labels, palette)]\n",
    "plt.legend(handles=legend_handles, title='Class', bbox_to_anchor=(1.05, 1), loc='upper left')\n",
    "\n",
    "# Add identity line\n",
    "plt.plot([-0.025, 0.4], [-0.025, 0.4], 'k--', lw=0.25)\n",
    "\n",
    "sns.despine()\n",
    "plt.show()"
   ]
  },
  {
   "cell_type": "code",
   "execution_count": 16,
   "id": "2d86f61f",
   "metadata": {},
   "outputs": [],
   "source": [
    "c = PlotConfig()\n",
    "fig.savefig(c.dana_save_path / \"fig1\"/ '07_24_fvm_MI_aging_scatter.pdf')"
   ]
  }
 ],
 "metadata": {
  "kernelspec": {
   "display_name": "Python 3 (ipykernel)",
   "language": "python",
   "name": "python3"
  },
  "language_info": {
   "codemirror_mode": {
    "name": "ipython",
    "version": 3
   },
   "file_extension": ".py",
   "mimetype": "text/x-python",
   "name": "python",
   "nbconvert_exporter": "python",
   "pygments_lexer": "ipython3",
   "version": "3.10.12"
  }
 },
 "nbformat": 4,
 "nbformat_minor": 5
}
