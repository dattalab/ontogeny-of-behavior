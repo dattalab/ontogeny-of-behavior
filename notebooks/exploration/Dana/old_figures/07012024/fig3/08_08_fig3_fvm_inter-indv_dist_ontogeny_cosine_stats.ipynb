{
 "cells": [
  {
   "cell_type": "code",
   "execution_count": 1,
   "id": "a77ea523",
   "metadata": {},
   "outputs": [],
   "source": [
    "import numpy as np\n",
    "import pandas as pd\n",
    "import seaborn as sns\n",
    "import matplotlib.pyplot as plt\n",
    "from aging.plotting import format_plots, PlotConfig, save_factory, figure, legend, format_pizza_plots\n",
    "from collections import Counter\n",
    "from matplotlib.lines import Line2D"
   ]
  },
  {
   "cell_type": "code",
   "execution_count": 2,
   "id": "d1dc615e",
   "metadata": {},
   "outputs": [],
   "source": [
    "import numpy as np\n",
    "import pandas as pd\n",
    "import matplotlib.pyplot as plt\n",
    "import seaborn as sns\n",
    "import colorcet as cc\n",
    "from operator import add\n",
    "from tqdm.auto import tqdm\n",
    "from functools import reduce\n",
    "from sklearn.cluster import KMeans\n",
    "from sklearn.decomposition import PCA\n",
    "from scipy.spatial.distance import squareform, pdist\n",
    "from sklearn.metrics import silhouette_score\n",
    "from aging.plotting import format_plots, figure, save_factory, PlotConfig, legend, add_identity\n",
    "from sklearn.feature_selection import mutual_info_classif as MIC\n",
    "from sklearn.feature_selection import mutual_info_regression as MIR\n",
    "\n",
    "import matplotlib.colors as mpc\n",
    "from scipy.spatial.distance import pdist, squareform"
   ]
  },
  {
   "cell_type": "code",
   "execution_count": 3,
   "id": "b5f1c73a",
   "metadata": {},
   "outputs": [],
   "source": [
    "format_plots()"
   ]
  },
  {
   "cell_type": "code",
   "execution_count": 4,
   "id": "d2c73a97",
   "metadata": {},
   "outputs": [
    {
     "name": "stderr",
     "output_type": "stream",
     "text": [
      "/tmp/ipykernel_3035/813501115.py:6: MatplotlibDeprecationWarning: The register_cmap function was deprecated in Matplotlib 3.7 and will be removed two minor releases later. Use ``matplotlib.colormaps.register(name)`` instead.\n",
      "  matplotlib.cm.register_cmap(\"dana\", cmap)\n",
      "/tmp/ipykernel_3035/813501115.py:15: MatplotlibDeprecationWarning: The register_cmap function was deprecated in Matplotlib 3.7 and will be removed two minor releases later. Use ``matplotlib.colormaps.register(name)`` instead.\n",
      "  matplotlib.cm.register_cmap(\"dana2\", cmap)\n"
     ]
    }
   ],
   "source": [
    "# prepare colors for plot\n",
    "from matplotlib.colors import LinearSegmentedColormap\n",
    "colors = ['#c7eae5','#008C8D']\n",
    "import matplotlib\n",
    "cmap = LinearSegmentedColormap.from_list(\"custom_purples\", colors, N=256)\n",
    "matplotlib.cm.register_cmap(\"dana\", cmap)\n",
    "phasec = sns.color_palette(\"dana\", n_colors=27)\n",
    "\n",
    "\n",
    "# prepare colors for plot\n",
    "from matplotlib.colors import LinearSegmentedColormap\n",
    "colors = ['#fee6ce','#d94801']\n",
    "import matplotlib\n",
    "cmap = LinearSegmentedColormap.from_list(\"custom_purples\", colors, N=256)\n",
    "matplotlib.cm.register_cmap(\"dana2\", cmap)\n",
    "phasecf = sns.color_palette(\"dana2\", n_colors=27)"
   ]
  },
  {
   "cell_type": "code",
   "execution_count": 5,
   "id": "86571b2b",
   "metadata": {},
   "outputs": [],
   "source": [
    "def mm_norm_col(column):\n",
    "    return (column - column.min()) / (column.max() - column.min())"
   ]
  },
  {
   "cell_type": "code",
   "execution_count": 6,
   "id": "515cef35",
   "metadata": {},
   "outputs": [],
   "source": [
    "from matplotlib.colors import LinearSegmentedColormap\n",
    "# Define the color map\n",
    "colors = ['#d94801','white','#008C8D']\n",
    "custom_cmap = LinearSegmentedColormap.from_list(\"custom_purples\", colors, N=256)\n",
    "cmmf=custom_cmap\n",
    "\n",
    "colors = ['#dadaeb','#6a51a3']\n",
    "custom_cmap = LinearSegmentedColormap.from_list(\"custom_purples\", colors, N=256)\n",
    "cma=custom_cmap\n",
    "\n",
    "colors = ['white','gray']\n",
    "custom_cmap = LinearSegmentedColormap.from_list(\"custom_purples\", colors, N=256)\n",
    "cma=custom_cmap\n",
    "\n",
    "colors = ['#ccece6','#99d8c9','#66c2a4','#41ae76','#238b45','#006d2c']\n",
    "cml = sns.blend_palette(colors, n_colors=256, as_cmap=True)\n",
    "\n",
    "# Define the color map\n",
    "colors = ['#fee6ce','#d94801']\n",
    "custom_cmap = LinearSegmentedColormap.from_list(\"custom_purples\", colors, N=256)\n",
    "cmf=custom_cmap\n",
    "\n",
    "colors = ['#c7eae5','#008C8D']\n",
    "custom_cmap = LinearSegmentedColormap.from_list(\"custom_purples\", colors, N=256)\n",
    "cmm=custom_cmap"
   ]
  },
  {
   "cell_type": "code",
   "execution_count": 7,
   "id": "c8161147",
   "metadata": {},
   "outputs": [],
   "source": [
    "## arrange data\n",
    "keep_syllables = np.loadtxt('/n/groups/datta/win/longtogeny/data/ontogeny/version_11/to_keep_syllables_raw.txt', dtype=int)\n",
    "\n",
    "male_df = pd.read_parquet('/n/groups/datta/win/longtogeny/data/ontogeny/version_11-1/ontogeny_males_raw_usage_matrix_v00.parquet').astype(float)\n",
    "male_df = male_df[keep_syllables]\n",
    "m_df= male_df.groupby(['age','uuid']).mean()\n",
    "\n",
    "\n",
    "## arrange data for females\n",
    "keep_syllables = np.loadtxt('/n/groups/datta/win/longtogeny/data/ontogeny/version_11/to_keep_syllables_raw.txt', dtype=int)\n",
    "\n",
    "female_df = pd.read_parquet('/n/groups/datta/win/longtogeny/data/ontogeny/version_11-1/ontogeny_females_raw_usage_matrix_v00.parquet').astype(float)\n",
    "female_df = female_df[keep_syllables]\n",
    "\n",
    "\n",
    "# for female:\n",
    "f_df= female_df.groupby(['age','uuid']).mean()\n",
    "# Update age value to 52 for rows with uuid in the list\n",
    "uuids = ['f1d5dce5-f5cf-4b03-b07d-d9b8c1f034b0','6fa50ac7-6d49-4ef9-9059-3d90bdd8c5d4',\n",
    "         'e9e05da8-fc59-40f3-a9c8-f57c492c6141','327e7fa1-2237-43d2-b25f-c1801912df33',\n",
    "        '242bee8e-0ee7-45e7-8a13-678836a4cddb','552ec70f-0676-4471-8ab0-403e1fcf43e3','d6f254af-d55a-427a-96e0-c452a233cbe2']\n",
    "f_df.reset_index(inplace=True)\n",
    "\n",
    "age_mapping = {\n",
    "    93: 94,\n",
    "    95: 94,\n",
    "    97: 98,\n",
    "    98: 98,\n",
    "    102: 98,\n",
    "    103: 105,\n",
    "    105: 105,\n",
    "    107: 105\n",
    "}\n",
    "\n",
    "f_df['age'] = f_df['age'].map(age_mapping).fillna(f_df['age'])\n",
    "f_df.loc[f_df['uuid'].isin(uuids), 'age'] = 52\n",
    "# Set the index back\n",
    "f_df.set_index(['age', 'uuid'], inplace=True)\n",
    "f_df=f_df.query('age<127')"
   ]
  },
  {
   "cell_type": "code",
   "execution_count": 8,
   "id": "112259c0",
   "metadata": {},
   "outputs": [
    {
     "name": "stderr",
     "output_type": "stream",
     "text": [
      "/tmp/ipykernel_3035/1663783390.py:7: SettingWithCopyWarning: \n",
      "A value is trying to be set on a copy of a slice from a DataFrame.\n",
      "Try using .loc[row_indexer,col_indexer] = value instead\n",
      "\n",
      "See the caveats in the documentation: https://pandas.pydata.org/pandas-docs/stable/user_guide/indexing.html#returning-a-view-versus-a-copy\n",
      "  m_data['sex'] = 'm'\n",
      "/tmp/ipykernel_3035/1663783390.py:11: SettingWithCopyWarning: \n",
      "A value is trying to be set on a copy of a slice from a DataFrame.\n",
      "Try using .loc[row_indexer,col_indexer] = value instead\n",
      "\n",
      "See the caveats in the documentation: https://pandas.pydata.org/pandas-docs/stable/user_guide/indexing.html#returning-a-view-versus-a-copy\n",
      "  f_data['sex'] = 'f'\n"
     ]
    }
   ],
   "source": [
    "# use only common ages\n",
    "f_ages = f_df.index.get_level_values('age').unique().to_numpy()\n",
    "m_ages = m_df.index.get_level_values('age').unique().to_numpy()\n",
    "cages = list(np.intersect1d(f_ages,m_ages))\n",
    "\n",
    "m_data = m_df.loc[m_df.index.get_level_values('age').isin(cages)]\n",
    "m_data['sex'] = 'm'\n",
    "m_data.set_index('sex',inplace=True,append=True)\n",
    "\n",
    "f_data = f_df.loc[f_df.index.get_level_values('age').isin(cages)]\n",
    "f_data['sex'] = 'f'\n",
    "f_data.set_index('sex',inplace=True,append=True)"
   ]
  },
  {
   "cell_type": "code",
   "execution_count": 9,
   "id": "cbbfaf13",
   "metadata": {},
   "outputs": [],
   "source": [
    "#average and normalize male\n",
    "avg_m_df = m_data.groupby(['age']).mean()\n",
    "# normalize the data\n",
    "m_norm = mm_norm_col(m_data)\n",
    "avg_m_norm = mm_norm_col(avg_m_df)\n",
    "\n",
    "#average and normalize female\n",
    "avg_f_df = f_data.groupby(['age']).mean()\n",
    "# normalize the data\n",
    "f_norm = mm_norm_col(f_data)\n",
    "avg_f_norm = mm_norm_col(avg_f_df)\n",
    "\n",
    "data=pd.concat([m_data,f_data])"
   ]
  },
  {
   "cell_type": "code",
   "execution_count": 10,
   "id": "281ca7bc",
   "metadata": {},
   "outputs": [],
   "source": [
    "iid = dict()\n",
    "iid_df = []\n",
    "iid_avg_df = []\n",
    "for age, _df in f_data.groupby('age'):\n",
    "    inter_ind_dists = pdist(_df, metric='cosine')\n",
    "    iid[age] = inter_ind_dists\n",
    "    iid_df.append(pd.DataFrame(dict(iid=inter_ind_dists, age=age)))\n",
    "    d = squareform(inter_ind_dists)\n",
    "    d[np.diag_indices_from(d)] = np.nan\n",
    "    d = np.nanmean(d, axis=1)\n",
    "    iid_avg_df.append(pd.DataFrame(dict(iid=d, age=age)))\n",
    "iid_df = pd.concat(iid_df)\n",
    "iid_avg_df_f = pd.concat(iid_avg_df)"
   ]
  },
  {
   "cell_type": "code",
   "execution_count": 11,
   "id": "2bb6e544",
   "metadata": {},
   "outputs": [],
   "source": [
    "## from win"
   ]
  },
  {
   "cell_type": "code",
   "execution_count": 12,
   "id": "a3f5c89a",
   "metadata": {},
   "outputs": [],
   "source": [
    "format_plots()"
   ]
  },
  {
   "cell_type": "code",
   "execution_count": 13,
   "id": "259d769b",
   "metadata": {},
   "outputs": [],
   "source": [
    "import matplotlib.colors as mpc\n",
    "from scipy.spatial.distance import pdist, squareform"
   ]
  },
  {
   "cell_type": "code",
   "execution_count": 14,
   "id": "4f6c61d8",
   "metadata": {},
   "outputs": [],
   "source": [
    "iid = dict()\n",
    "iid_df = []\n",
    "iid_avg_df = []\n",
    "for age, _df in m_data.groupby('age'):\n",
    "    inter_ind_dists = pdist(_df, metric='cosine')\n",
    "    iid[age] = inter_ind_dists\n",
    "    iid_df.append(pd.DataFrame(dict(iid=inter_ind_dists, age=age)))\n",
    "    d = squareform(inter_ind_dists)\n",
    "    d[np.diag_indices_from(d)] = np.nan\n",
    "    d = np.nanmean(d, axis=1)\n",
    "    iid_avg_df.append(pd.DataFrame(dict(iid=d, age=age)))\n",
    "iid_df = pd.concat(iid_df)\n",
    "iid_avg_df_m = pd.concat(iid_avg_df)"
   ]
  },
  {
   "cell_type": "code",
   "execution_count": 15,
   "id": "4e3052b2",
   "metadata": {},
   "outputs": [
    {
     "name": "stderr",
     "output_type": "stream",
     "text": [
      "/home/drl21/miniconda/envs/aging/lib/python3.10/site-packages/seaborn/_oldcore.py:1119: FutureWarning: use_inf_as_na option is deprecated and will be removed in a future version. Convert inf values to NaN before operating instead.\n",
      "  with pd.option_context('mode.use_inf_as_na', True):\n",
      "/home/drl21/miniconda/envs/aging/lib/python3.10/site-packages/seaborn/_oldcore.py:1119: FutureWarning: use_inf_as_na option is deprecated and will be removed in a future version. Convert inf values to NaN before operating instead.\n",
      "  with pd.option_context('mode.use_inf_as_na', True):\n",
      "/home/drl21/miniconda/envs/aging/lib/python3.10/site-packages/seaborn/_oldcore.py:1119: FutureWarning: use_inf_as_na option is deprecated and will be removed in a future version. Convert inf values to NaN before operating instead.\n",
      "  with pd.option_context('mode.use_inf_as_na', True):\n",
      "/home/drl21/miniconda/envs/aging/lib/python3.10/site-packages/seaborn/_oldcore.py:1119: FutureWarning: use_inf_as_na option is deprecated and will be removed in a future version. Convert inf values to NaN before operating instead.\n",
      "  with pd.option_context('mode.use_inf_as_na', True):\n"
     ]
    },
    {
     "data": {
      "image/png": "[encoded data removed]",
      "text/plain": [
       "<Figure size 260x260 with 1 Axes>"
      ]
     },
     "metadata": {},
     "output_type": "display_data"
    }
   ],
   "source": [
    "import pandas as pd\n",
    "import seaborn as sns\n",
    "import matplotlib.pyplot as plt\n",
    "\n",
    "fig = plt.figure(figsize=(1.3, 1.3))\n",
    "ax = fig.gca()\n",
    "\n",
    "# Plot lines without error bars\n",
    "a = sns.lineplot(\n",
    "    data=iid_avg_df_m,\n",
    "    x=\"age\",\n",
    "    y=\"iid\",\n",
    "    zorder=-1,\n",
    "    color='#20B2AA',\n",
    "    errorbar=None,\n",
    "    marker='o',\n",
    "    markerfacecolor='#20B2AA',\n",
    "    markeredgecolor='none',  # Remove marker outline\n",
    ")\n",
    "\n",
    "a = sns.lineplot(\n",
    "    data=iid_avg_df_f,\n",
    "    x=\"age\",\n",
    "    y=\"iid\",\n",
    "    zorder=-1,\n",
    "    color='#f16913',\n",
    "    errorbar=None,\n",
    "    marker='o',\n",
    "    markerfacecolor='#f16913',\n",
    "    markeredgecolor='none',  # Remove marker outline\n",
    ")\n",
    "\n",
    "# Calculate error bars for unique ages\n",
    "def calculate_error_bars(df):\n",
    "    return df.groupby('age')['iid'].agg(['mean', 'sem']).reset_index()\n",
    "\n",
    "error_m = calculate_error_bars(iid_avg_df_m)\n",
    "error_f = calculate_error_bars(iid_avg_df_f)\n",
    "\n",
    "# Add error bars to markers\n",
    "ax.errorbar(\n",
    "    error_m['age'], \n",
    "    error_m['mean'], \n",
    "    yerr=error_m['sem'],\n",
    "    fmt='none', \n",
    "    ecolor='#20B2AA', \n",
    "    alpha=0.75,\n",
    "    capsize=None,\n",
    "    elinewidth=1,  # Set error bar width to 0.5\n",
    ")\n",
    "\n",
    "ax.errorbar(\n",
    "    error_f['age'], \n",
    "    error_f['mean'], \n",
    "    yerr=error_f['sem'],\n",
    "    fmt='none', \n",
    "    ecolor='#f16913', \n",
    "    alpha=0.75,\n",
    "    capsize=None,\n",
    "    elinewidth=1,  # Set error bar width to 0.5\n",
    ")\n",
    "\n",
    "a.set(\n",
    "    ylim=(0, None),\n",
    "    xlim=(0, None),\n",
    "    xlabel=\"Chron. age (wks)\",\n",
    "    ylabel=\"Inter-individual distance (cosine)\",\n",
    "    xticks=[0,20,40,60,80],\n",
    ")\n",
    "sns.despine()\n",
    "#plt.tight_layout()\n",
    "plt.show()"
   ]
  },
  {
   "cell_type": "code",
   "execution_count": 16,
   "id": "212e3d2c",
   "metadata": {},
   "outputs": [],
   "source": [
    "c = PlotConfig()\n",
    "fig.savefig(c.dana_save_path / \"fig3\"/ '07_23_inter_indv_ontogeny_fvm_cosine.pdf', bbox_inches='tight')"
   ]
  },
  {
   "cell_type": "code",
   "execution_count": 17,
   "id": "c693f08d",
   "metadata": {},
   "outputs": [],
   "source": [
    "## stats"
   ]
  },
  {
   "cell_type": "code",
   "execution_count": 18,
   "id": "05bcfa25",
   "metadata": {},
   "outputs": [],
   "source": [
    "def tw_anova(data, dependent_var, factor1, factor2):\n",
    "    \"\"\"\n",
    "    Perform two-way ANOVA.\n",
    "    \n",
    "    Parameters:\n",
    "    data (pd.DataFrame): The input data frame.\n",
    "    dependent_var (str): The name of the dependent variable column.\n",
    "    factor1 (str): The name of the first factor column.\n",
    "    factor2 (str): The name of the second factor column.\n",
    "    \n",
    "    Returns:\n",
    "    pd.DataFrame: The ANOVA results.\n",
    "    \"\"\"\n",
    "    \n",
    "    # Align the data\n",
    "    align_data = data.copy()\n",
    "    align_data['ranked_response'] = align_data[[dependent_var]]\n",
    "    # Fit an OLS model on the ranked data\n",
    "    #model = ols(f'ranked_response ~ {factor1} * {factor2}', data=align_data).fit()\n",
    "    model = ols(f'ranked_response ~ {factor1} * C({factor2})', data=align_data).fit()\n",
    "\n",
    "    # Perform ANOVA on the fitted model\n",
    "    anova_results = sm.stats.anova_lm(model, typ=3)\n",
    "    \n",
    "    # Convert results to a DataFrame\n",
    "    anova_df = pd.DataFrame(anova_results)\n",
    "    \n",
    "    return anova_df"
   ]
  },
  {
   "cell_type": "code",
   "execution_count": null,
   "id": "16d10017",
   "metadata": {},
   "outputs": [],
   "source": [
    "import statsmodels.api as sm\n",
    "import statsmodels.formula.api as smf\n",
    "from statsmodels.tools.tools import pinv_extended  \n",
    "from statsmodels.stats.anova import anova_lm\n",
    "import scipy.stats as stats\n",
    "import statsmodels.api as sm\n",
    "from statsmodels.formula.api import ols\n",
    "from tabulate import tabulate"
   ]
  },
  {
   "cell_type": "code",
   "execution_count": null,
   "id": "3dee205b",
   "metadata": {},
   "outputs": [],
   "source": [
    "iid_avg_df_m['sex']='m'\n",
    "iid_avg_df_f['sex']='f'"
   ]
  },
  {
   "cell_type": "code",
   "execution_count": null,
   "id": "2e44579d",
   "metadata": {},
   "outputs": [],
   "source": [
    "temp=pd.concat([iid_avg_df_m,iid_avg_df_f])\n",
    "anova_results = tw_anova(temp, 'iid', 'age','sex')\n",
    "print(tabulate(anova_results, headers='keys', tablefmt='psql'))"
   ]
  },
  {
   "cell_type": "code",
   "execution_count": null,
   "id": "8d82c331",
   "metadata": {},
   "outputs": [],
   "source": [
    "# Combine results into a DataFrame\n",
    "results=[]\n",
    "n_tests=1\n",
    "anova_results['Dependent Variable'] = 'Inter-indv distance (Cosine)'  # Add dependent variable to the results\n",
    "results.append(anova_results)\n",
    "results_df = pd.concat(results).reset_index()\n",
    "results_df.rename(columns={'index': 'Parameter'}, inplace=True)\n",
    "\n",
    "# Move the 'Dependent Variable' column to the first position\n",
    "cols = ['Dependent Variable'] + [col for col in results_df.columns if col != 'Dependent Variable']\n",
    "results_df = results_df[cols]\n",
    "\n",
    "# Apply Bonferroni correction to the p-values\n",
    "results_df['Bonferroni_corrected_p'] = results_df['PR(>F)'] * n_tests\n",
    "results_df['Bonferroni_corrected_p'] = results_df['Bonferroni_corrected_p'].apply(lambda p: min(p, 1))  # p-values should not exceed 1\n",
    "\n",
    "# Save DataFrame to CSV file\n",
    "results_df.to_csv('/n/groups/datta/win/longtogeny/data/ontogeny/version_11-1/stats/anova_results_JSD_ontogeny.csv', index=False)"
   ]
  }
 ],
 "metadata": {
  "kernelspec": {
   "display_name": "Python 3 (ipykernel)",
   "language": "python",
   "name": "python3"
  },
  "language_info": {
   "codemirror_mode": {
    "name": "ipython",
    "version": 3
   },
   "file_extension": ".py",
   "mimetype": "text/x-python",
   "name": "python",
   "nbconvert_exporter": "python",
   "pygments_lexer": "ipython3",
   "version": "3.10.12"
  }
 },
 "nbformat": 4,
 "nbformat_minor": 5
}
