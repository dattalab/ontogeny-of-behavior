{
 "cells": [
  {
   "cell_type": "code",
   "execution_count": 1,
   "id": "a77ea523",
   "metadata": {},
   "outputs": [],
   "source": [
    "import numpy as np\n",
    "import pandas as pd\n",
    "import matplotlib.pyplot as plt\n",
    "import seaborn as sns\n",
    "from pathlib import Path\n",
    "import matplotlib as mpl\n",
    "import os\n",
    "from matplotlib.lines import Line2D\n",
    "from collections import Counter\n",
    "import math\n",
    "from sklearn.decomposition import PCA\n",
    "from aging.behavior.syllables import relabel_by_usage\n",
    "from tqdm import tqdm\n",
    "%matplotlib inline\n",
    "import warnings\n",
    "warnings.simplefilter('ignore')\n",
    "import random\n",
    "import scipy\n",
    "from sklearn.cluster import KMeans\n",
    "from sklearn.preprocessing import StandardScaler\n",
    "from sklearn.metrics import adjusted_rand_score\n",
    "from kneed import KneeLocator\n",
    "from sklearn.metrics import silhouette_score\n",
    "%matplotlib inline\n",
    "from aging.plotting import format_plots, PlotConfig, save_factory, figure, legend, format_pizza_plots"
   ]
  },
  {
   "cell_type": "code",
   "execution_count": 2,
   "id": "0a49a035",
   "metadata": {},
   "outputs": [],
   "source": [
    "format_plots()\n",
    "#format_pizza_plots()"
   ]
  },
  {
   "cell_type": "code",
   "execution_count": 3,
   "id": "1e464ef7",
   "metadata": {},
   "outputs": [],
   "source": [
    "from matplotlib.colors import LinearSegmentedColormap\n",
    "colors = ['#fee6ce','#d94801']\n",
    "custom_cmap = LinearSegmentedColormap.from_list(\"custom_purples\", colors, N=256)\n",
    "cmf=custom_cmap\n",
    "\n",
    "colors = ['#dadaeb','#6a51a3']\n",
    "custom_cmap = LinearSegmentedColormap.from_list(\"custom_purples\", colors, N=256)\n",
    "cmm=custom_cmap"
   ]
  },
  {
   "cell_type": "code",
   "execution_count": 4,
   "id": "9711e242",
   "metadata": {},
   "outputs": [],
   "source": [
    "## update data\n",
    "def remove_crl(df):\n",
    "    max=46\n",
    "    df.drop('9c060c9b-9eee-4788-90be-803700bbacd8',level=3, axis=0, inplace=True)\n",
    "    syll=df.columns.values[df.columns.values>max]\n",
    "    #syll=0\n",
    "    df.drop(syll,axis=1, inplace=True)\n",
    "    return df[~df.index.get_level_values('session_name').str.contains('CRL')]"
   ]
  },
  {
   "cell_type": "code",
   "execution_count": null,
   "id": "a99a08e8",
   "metadata": {},
   "outputs": [],
   "source": [
    "# arrange data\n",
    "# pseudo data males\n",
    "path = Path('/n/groups/datta/win/longtogeny/data/ontogeny/version_07/ontogeny_males_clean_pseudotime_v02.parquet')\n",
    "m_psd = pd.read_parquet(path)\n",
    "m_psd=m_psd.reset_index()\n",
    "m_psd=m_psd[['uuid','pseudotime_rank','age']]\n",
    "\n",
    "#make sure only animals in clean v2 are in the male dataframe:\n",
    "path = Path('/n/groups/datta/win/longtogeny/data/ontogeny/version_07/ontogeny_males_clean_v2.parquet')\n",
    "df_males = pd.read_parquet(path)\n",
    "df_males = remove_crl(df_males)\n",
    "m_psd = df_males.merge(m_psd, on='uuid', how='left')\n",
    "\n",
    "#do some cleaning up\n",
    "m_psd.rename(columns={'pseudotime_rank': 'psd'}, inplace=True)\n",
    "m_psd.set_index(['psd','uuid','age'], append=True, inplace=True)\n",
    "m_psd = m_psd.filter(regex=r'\\d')\n",
    "\n",
    "## convert male pseudotime to bins and remap the bins\n",
    "m_psd['bins'] = pd.qcut(m_psd.index.get_level_values('psd'), len(m_psd.index.get_level_values('age').unique()),labels=False)\n",
    "\n",
    "ages = m_psd.index.get_level_values('age').unique().to_numpy()\n",
    "mapdr_males = dict(zip(list(range(len(ages))), ages))\n",
    "y_temp = m_psd['bins'].to_numpy()\n",
    "y_temp = [mapdr_males[item] for item in y_temp]\n",
    "\n",
    "m_psd['remapped_bins'] = y_temp\n",
    "m_psd.set_index(['bins','remapped_bins'], \n",
    "                append=True, inplace=True)"
   ]
  },
  {
   "cell_type": "code",
   "execution_count": null,
   "id": "d78e4b41",
   "metadata": {},
   "outputs": [],
   "source": [
    "# arrange data\n",
    "# pseudo data females\n",
    "path = Path('/n/groups/datta/win/longtogeny/data/ontogeny/version_07/ontogeny_females_clean_pseudotime_v02.parquet')\n",
    "f_psd = pd.read_parquet(path)\n",
    "f_psd=f_psd.reset_index()\n",
    "f_psd=f_psd[['uuid','pseudotime_rank','age']]\n",
    "\n",
    "#make sure only animals in clean v2 are in the female dataframe:\n",
    "path = Path('/n/groups/datta/win/longtogeny/data/ontogeny/version_07/ontogeny_females_clean_v2.parquet')\n",
    "df_females = pd.read_parquet(path)\n",
    "df_females = remove_crl(df_females)\n",
    "f_psd = df_females.merge(f_psd, on='uuid', how='left')\n",
    "\n",
    "#do some cleaning up\n",
    "f_psd.rename(columns={'pseudotime_rank': 'psd'}, inplace=True)\n",
    "f_psd.set_index(['psd','uuid','age'], append=True, inplace=True)\n",
    "f_psd = f_psd.filter(regex=r'\\d')\n",
    "\n",
    "## convert male pseudotime to bins and remap the bins\n",
    "f_psd['bins'] = pd.qcut(f_psd.index.get_level_values('psd'), len(f_psd.index.get_level_values('age').unique()),labels=False)\n",
    "\n",
    "ages = f_psd.index.get_level_values('age').unique().to_numpy()\n",
    "mapdr_females = dict(zip(list(range(len(ages))), ages))\n",
    "y_temp = f_psd['bins'].to_numpy()\n",
    "y_temp = [mapdr_females[item] for item in y_temp]\n",
    "\n",
    "f_psd['remapped_bins'] = y_temp\n",
    "f_psd.set_index(['bins','remapped_bins'], \n",
    "                append=True, inplace=True)"
   ]
  },
  {
   "cell_type": "code",
   "execution_count": 6,
   "id": "b2fcee24",
   "metadata": {},
   "outputs": [],
   "source": [
    "# arrange data\n",
    "path = Path('/n/groups/datta/win/longtogeny/data/ontogeny/version_05/ontogeny_females_clean_v2.parquet')\n",
    "f_psd = pd.read_parquet(path)\n",
    "f_psd= remove_crl(f_psd)\n",
    "\n",
    "# pseudo data males\n",
    "path = Path('/n/groups/datta/win/longtogeny/data/ontogeny/version_05/ontogeny_males_clean_pseudotime_v02.parquet')\n",
    "m_psd = pd.read_parquet(path)\n",
    "m_psd=m_psd.reset_index()\n",
    "m_psd=m_psd[['uuid','pseudotime_rank','age']]\n",
    "\n",
    "#make sure only animals in clean v2 are in the male dataframe:\n",
    "path = Path('/n/groups/datta/win/longtogeny/data/ontogeny/version_05/ontogeny_males_clean_v2.parquet')\n",
    "df_males = pd.read_parquet(path)\n",
    "df_males = remove_crl(df_males)\n",
    "m_psd = df_males.merge(m_psd, on='uuid', how='left')\n",
    "\n",
    "#do some cleaning up\n",
    "m_psd.rename(columns={'pseudotime_rank': 'psd'}, inplace=True)\n",
    "m_psd.set_index(['psd','uuid','age'], append=True, inplace=True)\n",
    "m_psd = m_psd.filter(regex=r'\\d')"
   ]
  },
  {
   "cell_type": "code",
   "execution_count": 7,
   "id": "aa4f3062",
   "metadata": {},
   "outputs": [
    {
     "name": "stdout",
     "output_type": "stream",
     "text": [
      "0.9553997342803521\n"
     ]
    }
   ],
   "source": [
    "# pseudo regression\n",
    "from sklearn.cross_decomposition import PLSRegression\n",
    "from sklearn import neighbors\n",
    "mdl= neighbors.KNeighborsRegressor(n_neighbors=8)\n",
    "mdl = PLSRegression(n_components=3)\n",
    "x = m_psd.filter(regex=r'\\d')\n",
    "y = x.index.get_level_values('psd')\n",
    "mdl.fit(x, y)\n",
    "print(mdl.score(x, y))\n",
    "\n",
    "#if you want to log transform\n",
    "#x = np.log(x + 1e-6) # convert to linear\n",
    "x = f_psd.filter(regex=r'\\d')\n",
    "f_psd['psd']=mdl.predict(x)"
   ]
  },
  {
   "cell_type": "code",
   "execution_count": 8,
   "id": "6e1e392b",
   "metadata": {},
   "outputs": [],
   "source": [
    "# to convert pseudo time into bins the lengh of the bins of cross-sectional data and remap:\n",
    "# females\n",
    "f_psd['bins'] = pd.qcut(f_psd['psd'], len(f_psd.index.get_level_values('age').unique()),labels=False)\n",
    "y_psd=f_psd['bins'].to_numpy()\n",
    "y_psd = [mapdr_females[item] for item in y_psd]\n",
    "f_psd['remapped_bins'] = y_psd\n",
    "f_psd.set_index(['remapped_bins','bins','psd'], append=True, inplace=True)"
   ]
  },
  {
   "cell_type": "code",
   "execution_count": 9,
   "id": "54832eac",
   "metadata": {},
   "outputs": [],
   "source": [
    "# add the original pseudotime\n",
    "path = Path('/n/groups/datta/win/longtogeny/data/ontogeny/version_05/ontogeny_females_clean_pseudotime_v02.parquet')\n",
    "df_temp = pd.read_parquet(path)\n",
    "df_temp = df_temp[~df_temp.index.get_level_values('session_name').str.contains('CRL')]\n",
    "df_temp = df_temp.reset_index()\n",
    "\n",
    "#get bins and remap bins\n",
    "df_temp['fpsd_bins'] = pd.qcut(df_temp['pseudotime_rank'], len(df_temp['age'].unique()),labels=False)\n",
    "df_temp = df_temp.rename(columns={'pseudotime_rank': 'fpsd'})\n",
    "y_temp = df_temp['fpsd_bins'].to_numpy()\n",
    "y_temp = [mapdr_females[item] for item in y_temp]\n",
    "df_temp['fpsd_remapped_bins'] = y_temp\n",
    "df_temp=df_temp[['uuid','fpsd','fpsd_bins','fpsd_remapped_bins']]\n",
    "\n",
    "#merge with female dataframe\n",
    "f_psd = pd.merge(f_psd.reset_index(),df_temp,how='left',on=['uuid'])\n",
    "f_psd.set_index(['age','uuid','psd','bins','remapped_bins','fpsd','fpsd_bins','fpsd_remapped_bins'], \n",
    "                append=True, inplace=True)"
   ]
  },
  {
   "cell_type": "code",
   "execution_count": 10,
   "id": "6d281367",
   "metadata": {},
   "outputs": [],
   "source": [
    "## convert male pseudotime to bins and remap the bins\n",
    "m_psd['bins'] = pd.qcut(m_psd.index.get_level_values('psd'), len(m_psd.index.get_level_values('age').unique()),labels=False)\n",
    "y_temp = m_psd['bins'].to_numpy()\n",
    "y_temp = [mapdr_males[item] for item in y_temp]\n",
    "m_psd['remapped_bins'] = y_temp\n",
    "m_psd.set_index(['bins','remapped_bins'], \n",
    "                append=True, inplace=True)"
   ]
  },
  {
   "cell_type": "code",
   "execution_count": 11,
   "id": "0f556492",
   "metadata": {},
   "outputs": [],
   "source": [
    "#m_data = m_psd.query('age != 90').reset_index()\n",
    "m_data = m_psd.reset_index()\n",
    "f_data = f_psd.reset_index()"
   ]
  },
  {
   "cell_type": "code",
   "execution_count": 12,
   "id": "8443af42",
   "metadata": {},
   "outputs": [
    {
     "data": {
      "text/plain": [
       "Text(0.5, 1.0, ' predicted age vs actual age - orange projected males, green calculated female')"
      ]
     },
     "execution_count": 12,
     "metadata": {},
     "output_type": "execute_result"
    },
    {
     "name": "stderr",
     "output_type": "stream",
     "text": [
      "findfont: Generic family 'sans-serif' not found because none of the following families were found: Helvetica\n",
      "findfont: Generic family 'sans-serif' not found because none of the following families were found: Helvetica\n",
      "findfont: Generic family 'sans-serif' not found because none of the following families were found: Helvetica\n",
      "findfont: Generic family 'sans-serif' not found because none of the following families were found: Helvetica\n",
      "findfont: Generic family 'sans-serif' not found because none of the following families were found: Helvetica\n",
      "findfont: Generic family 'sans-serif' not found because none of the following families were found: Helvetica\n",
      "findfont: Generic family 'sans-serif' not found because none of the following families were found: Helvetica\n",
      "findfont: Generic family 'sans-serif' not found because none of the following families were found: Helvetica\n",
      "findfont: Generic family 'sans-serif' not found because none of the following families were found: Helvetica\n",
      "findfont: Generic family 'sans-serif' not found because none of the following families were found: Helvetica\n",
      "findfont: Generic family 'sans-serif' not found because none of the following families were found: Helvetica\n",
      "findfont: Generic family 'sans-serif' not found because none of the following families were found: Helvetica\n",
      "findfont: Generic family 'sans-serif' not found because none of the following families were found: Helvetica\n",
      "findfont: Generic family 'sans-serif' not found because none of the following families were found: Helvetica\n",
      "findfont: Generic family 'sans-serif' not found because none of the following families were found: Helvetica\n",
      "findfont: Generic family 'sans-serif' not found because none of the following families were found: Helvetica\n",
      "findfont: Generic family 'sans-serif' not found because none of the following families were found: Helvetica\n",
      "findfont: Generic family 'sans-serif' not found because none of the following families were found: Helvetica\n",
      "findfont: Generic family 'sans-serif' not found because none of the following families were found: Helvetica\n",
      "findfont: Generic family 'sans-serif' not found because none of the following families were found: Helvetica\n",
      "findfont: Generic family 'sans-serif' not found because none of the following families were found: Helvetica\n",
      "findfont: Generic family 'sans-serif' not found because none of the following families were found: Helvetica\n",
      "findfont: Generic family 'sans-serif' not found because none of the following families were found: Helvetica\n",
      "findfont: Generic family 'sans-serif' not found because none of the following families were found: Helvetica\n",
      "findfont: Generic family 'sans-serif' not found because none of the following families were found: Helvetica\n",
      "findfont: Generic family 'sans-serif' not found because none of the following families were found: Helvetica\n",
      "findfont: Generic family 'sans-serif' not found because none of the following families were found: Helvetica\n",
      "findfont: Generic family 'sans-serif' not found because none of the following families were found: Helvetica\n",
      "findfont: Generic family 'sans-serif' not found because none of the following families were found: Helvetica\n",
      "findfont: Generic family 'sans-serif' not found because none of the following families were found: Helvetica\n",
      "findfont: Generic family 'sans-serif' not found because none of the following families were found: Helvetica\n",
      "findfont: Generic family 'sans-serif' not found because none of the following families were found: Helvetica\n",
      "findfont: Generic family 'sans-serif' not found because none of the following families were found: Helvetica\n",
      "findfont: Generic family 'sans-serif' not found because none of the following families were found: Helvetica\n",
      "findfont: Generic family 'sans-serif' not found because none of the following families were found: Helvetica\n",
      "findfont: Generic family 'sans-serif' not found because none of the following families were found: Helvetica\n",
      "findfont: Generic family 'sans-serif' not found because none of the following families were found: Helvetica\n",
      "findfont: Generic family 'sans-serif' not found because none of the following families were found: Helvetica\n",
      "findfont: Generic family 'sans-serif' not found because none of the following families were found: Helvetica\n",
      "findfont: Generic family 'sans-serif' not found because none of the following families were found: Helvetica\n",
      "findfont: Generic family 'sans-serif' not found because none of the following families were found: Helvetica\n",
      "findfont: Generic family 'sans-serif' not found because none of the following families were found: Helvetica\n",
      "findfont: Generic family 'sans-serif' not found because none of the following families were found: Helvetica\n",
      "findfont: Generic family 'sans-serif' not found because none of the following families were found: Helvetica\n",
      "findfont: Generic family 'sans-serif' not found because none of the following families were found: Helvetica\n",
      "findfont: Generic family 'sans-serif' not found because none of the following families were found: Helvetica\n",
      "findfont: Generic family 'sans-serif' not found because none of the following families were found: Helvetica\n",
      "findfont: Generic family 'sans-serif' not found because none of the following families were found: Helvetica\n",
      "findfont: Generic family 'sans-serif' not found because none of the following families were found: Helvetica\n",
      "findfont: Generic family 'sans-serif' not found because none of the following families were found: Helvetica\n",
      "findfont: Generic family 'sans-serif' not found because none of the following families were found: Helvetica\n",
      "findfont: Generic family 'sans-serif' not found because none of the following families were found: Helvetica\n",
      "findfont: Generic family 'sans-serif' not found because none of the following families were found: Helvetica\n",
      "findfont: Generic family 'sans-serif' not found because none of the following families were found: Helvetica\n",
      "findfont: Generic family 'sans-serif' not found because none of the following families were found: Helvetica\n",
      "findfont: Generic family 'sans-serif' not found because none of the following families were found: Helvetica\n",
      "findfont: Generic family 'sans-serif' not found because none of the following families were found: Helvetica\n",
      "findfont: Generic family 'sans-serif' not found because none of the following families were found: Helvetica\n",
      "findfont: Generic family 'sans-serif' not found because none of the following families were found: Helvetica\n",
      "findfont: Generic family 'sans-serif' not found because none of the following families were found: Helvetica\n",
      "findfont: Generic family 'sans-serif' not found because none of the following families were found: Helvetica\n",
      "findfont: Generic family 'sans-serif' not found because none of the following families were found: Helvetica\n"
     ]
    },
    {
     "data": {
      "image/png": "[encoded data removed]",
      "text/plain": [
       "<Figure size 600x600 with 1 Axes>"
      ]
     },
     "metadata": {},
     "output_type": "display_data"
    }
   ],
   "source": [
    "#sns.scatterplot(data=f_psd, x='age', y='remapped_bins')\n",
    "sns.lineplot (data=f_data, x='age', y='remapped_bins', estimator='mean', \n",
    "              errorbar='se',\n",
    "              err_style=\"bars\",\n",
    "              markers=True, \n",
    "              marker='o',\n",
    "              markersize=10,\n",
    "              palette = cmf,\n",
    "              hue='age',\n",
    "              linestyle='',\n",
    "              markeredgecolor='grey', markeredgewidth=0.25,\n",
    "             legend=False)\n",
    "\n",
    "sns.lineplot (data=f_data, x='age', y='fpsd_remapped_bins', estimator='mean', \n",
    "              errorbar='se',\n",
    "              err_style=\"bars\",\n",
    "              markers=True, \n",
    "              marker='o',\n",
    "              markersize=10,\n",
    "              palette = 'Greens',\n",
    "              hue='age',\n",
    "              linestyle='',\n",
    "              markeredgecolor='grey', markeredgewidth=0.25,\n",
    "             legend=False)\n",
    "sns.despine()\n",
    "plt.plot(f_data['age'], f_data['age'], linestyle='--', color='gray')\n",
    "plt.title(' predicted age vs actual age - orange projected males, green calculated female')"
   ]
  },
  {
   "cell_type": "code",
   "execution_count": null,
   "id": "350487ec",
   "metadata": {},
   "outputs": [],
   "source": []
  },
  {
   "cell_type": "code",
   "execution_count": 13,
   "id": "532afe82",
   "metadata": {},
   "outputs": [],
   "source": [
    "## panel for fig"
   ]
  },
  {
   "cell_type": "code",
   "execution_count": 19,
   "id": "3b0d9d45",
   "metadata": {},
   "outputs": [
    {
     "data": {
      "text/plain": [
       "(0.0, 95.0)"
      ]
     },
     "execution_count": 19,
     "metadata": {},
     "output_type": "execute_result"
    },
    {
     "name": "stderr",
     "output_type": "stream",
     "text": [
      "findfont: Generic family 'sans-serif' not found because none of the following families were found: Helvetica\n",
      "findfont: Generic family 'sans-serif' not found because none of the following families were found: Helvetica\n",
      "findfont: Generic family 'sans-serif' not found because none of the following families were found: Helvetica\n",
      "findfont: Generic family 'sans-serif' not found because none of the following families were found: Helvetica\n",
      "findfont: Generic family 'sans-serif' not found because none of the following families were found: Helvetica\n",
      "findfont: Generic family 'sans-serif' not found because none of the following families were found: Helvetica\n",
      "findfont: Generic family 'sans-serif' not found because none of the following families were found: Helvetica\n",
      "findfont: Generic family 'sans-serif' not found because none of the following families were found: Helvetica\n",
      "findfont: Generic family 'sans-serif' not found because none of the following families were found: Helvetica\n",
      "findfont: Generic family 'sans-serif' not found because none of the following families were found: Helvetica\n",
      "findfont: Generic family 'sans-serif' not found because none of the following families were found: Helvetica\n",
      "findfont: Generic family 'sans-serif' not found because none of the following families were found: Helvetica\n",
      "findfont: Generic family 'sans-serif' not found because none of the following families were found: Helvetica\n",
      "findfont: Generic family 'sans-serif' not found because none of the following families were found: Helvetica\n",
      "findfont: Generic family 'sans-serif' not found because none of the following families were found: Helvetica\n",
      "findfont: Generic family 'sans-serif' not found because none of the following families were found: Helvetica\n",
      "findfont: Generic family 'sans-serif' not found because none of the following families were found: Helvetica\n",
      "findfont: Generic family 'sans-serif' not found because none of the following families were found: Helvetica\n",
      "findfont: Generic family 'sans-serif' not found because none of the following families were found: Helvetica\n",
      "findfont: Generic family 'sans-serif' not found because none of the following families were found: Helvetica\n",
      "findfont: Generic family 'sans-serif' not found because none of the following families were found: Helvetica\n",
      "findfont: Generic family 'sans-serif' not found because none of the following families were found: Helvetica\n",
      "findfont: Generic family 'sans-serif' not found because none of the following families were found: Helvetica\n",
      "findfont: Generic family 'sans-serif' not found because none of the following families were found: Helvetica\n",
      "findfont: Generic family 'sans-serif' not found because none of the following families were found: Helvetica\n",
      "findfont: Generic family 'sans-serif' not found because none of the following families were found: Helvetica\n",
      "findfont: Generic family 'sans-serif' not found because none of the following families were found: Helvetica\n",
      "findfont: Generic family 'sans-serif' not found because none of the following families were found: Helvetica\n",
      "findfont: Generic family 'sans-serif' not found because none of the following families were found: Helvetica\n",
      "findfont: Generic family 'sans-serif' not found because none of the following families were found: Helvetica\n",
      "findfont: Generic family 'sans-serif' not found because none of the following families were found: Helvetica\n",
      "findfont: Generic family 'sans-serif' not found because none of the following families were found: Helvetica\n",
      "findfont: Generic family 'sans-serif' not found because none of the following families were found: Helvetica\n",
      "findfont: Generic family 'sans-serif' not found because none of the following families were found: Helvetica\n",
      "findfont: Generic family 'sans-serif' not found because none of the following families were found: Helvetica\n",
      "findfont: Generic family 'sans-serif' not found because none of the following families were found: Helvetica\n",
      "findfont: Generic family 'sans-serif' not found because none of the following families were found: Helvetica\n",
      "findfont: Generic family 'sans-serif' not found because none of the following families were found: Helvetica\n",
      "findfont: Generic family 'sans-serif' not found because none of the following families were found: Helvetica\n",
      "findfont: Generic family 'sans-serif' not found because none of the following families were found: Helvetica\n"
     ]
    },
    {
     "data": {
      "image/png": "[encoded data removed]",
      "text/plain": [
       "<Figure size 600x600 with 1 Axes>"
      ]
     },
     "metadata": {},
     "output_type": "display_data"
    }
   ],
   "source": [
    "#sns.scatterplot(data=f_psd, x='age', y='remapped_bins')\n",
    "fig, ax = plt.subplots()\n",
    "fig.set_size_inches(3,3)\n",
    "sns.lineplot (data=f_data, x='age', y='remapped_bins', estimator='mean', \n",
    "              errorbar='se',\n",
    "              err_style=\"bars\",\n",
    "              markers=True, \n",
    "              marker='o',\n",
    "              markersize=8,\n",
    "              palette = cmf,\n",
    "              hue='age',\n",
    "              linestyle='',\n",
    "              alpha=0.75,\n",
    "              markeredgecolor='grey', markeredgewidth=0.25,\n",
    "             legend=False)\n",
    "\n",
    "sns.lineplot (data=m_data, x='age', y='remapped_bins', estimator='mean', \n",
    "              errorbar='se',\n",
    "              err_style=\"bars\",\n",
    "              markers=True, \n",
    "              marker='o',\n",
    "              markersize=8,\n",
    "              palette = cmm,\n",
    "              #norm='log',\n",
    "              alpha=0.75,\n",
    "              hue='age',\n",
    "              linestyle='',\n",
    "              markeredgecolor='grey', markeredgewidth=0.25,\n",
    "             legend=False)\n",
    "sns.despine()\n",
    "plt.plot(m_data['age'], m_data['age'], linestyle='--', color='gray')\n",
    "#plt.title(' predicted age vs actual age - orange females, purple males')\n",
    "plt.ylim([0,95])\n",
    "plt.xlim([0,95])"
   ]
  },
  {
   "cell_type": "code",
   "execution_count": 20,
   "id": "78b76d5c",
   "metadata": {},
   "outputs": [
    {
     "name": "stderr",
     "output_type": "stream",
     "text": [
      "findfont: Generic family 'sans-serif' not found because none of the following families were found: Helvetica\n",
      "findfont: Generic family 'sans-serif' not found because none of the following families were found: Helvetica\n",
      "findfont: Generic family 'sans-serif' not found because none of the following families were found: Helvetica\n",
      "findfont: Generic family 'sans-serif' not found because none of the following families were found: Helvetica\n",
      "findfont: Generic family 'sans-serif' not found because none of the following families were found: Helvetica\n",
      "findfont: Generic family 'sans-serif' not found because none of the following families were found: Helvetica\n",
      "findfont: Generic family 'sans-serif' not found because none of the following families were found: Helvetica\n",
      "findfont: Generic family 'sans-serif' not found because none of the following families were found: Helvetica\n",
      "findfont: Generic family 'sans-serif' not found because none of the following families were found: Helvetica\n",
      "findfont: Generic family 'sans-serif' not found because none of the following families were found: Helvetica\n",
      "findfont: Generic family 'sans-serif' not found because none of the following families were found: Helvetica\n",
      "findfont: Generic family 'sans-serif' not found because none of the following families were found: Helvetica\n",
      "findfont: Generic family 'sans-serif' not found because none of the following families were found: Helvetica\n",
      "findfont: Generic family 'sans-serif' not found because none of the following families were found: Helvetica\n",
      "findfont: Generic family 'sans-serif' not found because none of the following families were found: Helvetica\n",
      "findfont: Generic family 'sans-serif' not found because none of the following families were found: Helvetica\n",
      "findfont: Generic family 'sans-serif' not found because none of the following families were found: Helvetica\n",
      "findfont: Generic family 'sans-serif' not found because none of the following families were found: Helvetica\n",
      "findfont: Generic family 'sans-serif' not found because none of the following families were found: Helvetica\n",
      "findfont: Generic family 'sans-serif' not found because none of the following families were found: Helvetica\n"
     ]
    }
   ],
   "source": [
    "c = PlotConfig()\n",
    "fig.savefig(c.dana_save_path / \"fig4_ontogeny_females\"/ 'pred_vs_actual.pdf')"
   ]
  },
  {
   "cell_type": "code",
   "execution_count": 24,
   "id": "35e30d4e",
   "metadata": {},
   "outputs": [
    {
     "data": {
      "text/plain": [
       "0.9020557956988033"
      ]
     },
     "execution_count": 24,
     "metadata": {},
     "output_type": "execute_result"
    }
   ],
   "source": [
    "from scipy.stats import pearsonr\n",
    "\n",
    "# Calculate Pearson correlation coefficient\n",
    "correlation_coefficient, p_value = pearsonr(m_data.age.values, m_data.remapped_bins.values)\n",
    "correlation_coefficient"
   ]
  },
  {
   "cell_type": "code",
   "execution_count": 25,
   "id": "621c429b",
   "metadata": {},
   "outputs": [
    {
     "data": {
      "text/plain": [
       "0.896606711361698"
      ]
     },
     "execution_count": 25,
     "metadata": {},
     "output_type": "execute_result"
    }
   ],
   "source": [
    "correlation_coefficient, p_value = pearsonr(f_data.age.values, f_data.remapped_bins.values)\n",
    "correlation_coefficient"
   ]
  },
  {
   "cell_type": "code",
   "execution_count": null,
   "id": "0715a304",
   "metadata": {},
   "outputs": [],
   "source": []
  }
 ],
 "metadata": {
  "kernelspec": {
   "display_name": "Python 3 (ipykernel)",
   "language": "python",
   "name": "python3"
  },
  "language_info": {
   "codemirror_mode": {
    "name": "ipython",
    "version": 3
   },
   "file_extension": ".py",
   "mimetype": "text/x-python",
   "name": "python",
   "nbconvert_exporter": "python",
   "pygments_lexer": "ipython3",
   "version": "3.10.12"
  }
 },
 "nbformat": 4,
 "nbformat_minor": 5
}
