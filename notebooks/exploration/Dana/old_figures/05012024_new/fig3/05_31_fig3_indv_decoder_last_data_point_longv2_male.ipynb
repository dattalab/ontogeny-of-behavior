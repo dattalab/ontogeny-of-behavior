{
 "cells": [
  {
   "cell_type": "code",
   "execution_count": 1,
   "id": "a77ea523",
   "metadata": {},
   "outputs": [],
   "source": [
    "import numpy as np\n",
    "import pandas as pd\n",
    "import seaborn as sns\n",
    "import matplotlib.pyplot as plt\n",
    "from aging.plotting import format_plots, PlotConfig, save_factory, figure, legend, format_pizza_plots\n",
    "from collections import Counter\n",
    "from matplotlib.lines import Line2D\n",
    "from tqdm import tqdm"
   ]
  },
  {
   "cell_type": "code",
   "execution_count": 2,
   "id": "d1dc615e",
   "metadata": {},
   "outputs": [],
   "source": [
    "from sklearn.model_selection import train_test_split\n",
    "from sklearn import datasets\n",
    "from sklearn import svm\n",
    "from sklearn.ensemble import RandomForestClassifier\n",
    "from sklearn.metrics import accuracy_score\n",
    "from matplotlib.gridspec import GridSpec\n",
    "from collections import defaultdict\n",
    "from sklearn.metrics import confusion_matrix\n",
    "from sklearn.model_selection import cross_val_score, cross_val_predict\n",
    "from sklearn.linear_model import LogisticRegression, LinearRegression\n",
    "from sklearn.model_selection import ShuffleSplit\n",
    "from sklearn.svm import LinearSVC\n",
    "from sklearn.model_selection import GroupKFold, LeaveOneGroupOut, LeaveOneOut, KFold\n",
    "from sklearn.metrics import accuracy_score\n",
    "import random"
   ]
  },
  {
   "cell_type": "code",
   "execution_count": 3,
   "id": "86571b2b",
   "metadata": {},
   "outputs": [],
   "source": [
    "def mm_norm_col(column):\n",
    "    return (column - column.min()) / (column.max() - column.min())"
   ]
  },
  {
   "cell_type": "code",
   "execution_count": 4,
   "id": "7977e784",
   "metadata": {},
   "outputs": [],
   "source": [
    "keep_syllables = np.loadtxt('/n/groups/datta/win/longtogeny/data/ontogeny/version_11/to_keep_syllables_raw.txt', dtype=int)\n",
    "\n",
    "df = pd.read_parquet('/n/groups/datta/win/longtogeny/data/ontogeny/version_11-1/longtogeny_v2_males_raw_usage_matrix_v00.parquet').astype(float)\n",
    "df = df[keep_syllables].groupby(['age','uuid','mouse']).mean()\n",
    "\n",
    "ages= df.index.get_level_values('age')\n",
    "weeks = (ages * 7) // 7\n",
    "df['binned_age'] = weeks\n",
    "sample = df.groupby(['mouse','binned_age']).first().reset_index()\n",
    "df_male = sample.copy()\n",
    "df_male.rename(columns={'binned_age': 'age'}, inplace=True)\n",
    "\n",
    "df_male.set_index(['age', 'mouse'], inplace=True)"
   ]
  },
  {
   "cell_type": "code",
   "execution_count": 5,
   "id": "95cb9b48",
   "metadata": {},
   "outputs": [],
   "source": [
    "# avarage per age or session\n",
    "m_df= df_male.groupby(['age','mouse']).mean()\n",
    "avg_m_df = m_df.groupby(['age']).mean()\n",
    "\n",
    "# normalize the data\n",
    "m_norm = mm_norm_col(m_df)\n",
    "avg_m_norm = mm_norm_col(avg_m_df)"
   ]
  },
  {
   "cell_type": "code",
   "execution_count": 6,
   "id": "63d8d16f",
   "metadata": {},
   "outputs": [],
   "source": [
    "df_indv=m_df.groupby(['mouse','age']).mean()\n",
    "df_indv = np.log(df_indv+1e-6)"
   ]
  },
  {
   "cell_type": "code",
   "execution_count": 7,
   "id": "95b62fbf",
   "metadata": {},
   "outputs": [],
   "source": [
    "## get data to test on - all mice that have the last final 5 datapints:\n",
    "#create test data - average of the 5 final data point of each mouse\n",
    "nend=8\n",
    "xtest=pd.DataFrame()\n",
    "df=df_indv.copy()\n",
    "# Identify the last 3 ages\n",
    "last_5_ages = df.index.get_level_values('age').unique()[-nend:]\n",
    "\n",
    "# Filter the DataFrame to include only the last 5 ages\n",
    "last_5_df = df[df.index.get_level_values('age').isin(last_5_ages)]\n",
    "\n",
    "xtest = df[df.index.get_level_values('age').isin(last_5_ages)]\n",
    "ytest = xtest.index.get_level_values('mouse').to_numpy()"
   ]
  },
  {
   "cell_type": "code",
   "execution_count": 8,
   "id": "3550e776",
   "metadata": {},
   "outputs": [],
   "source": [
    "df=df_indv.copy()\n",
    "df= df[~df.index.get_level_values('age').isin(last_5_ages)].reset_index()"
   ]
  },
  {
   "cell_type": "code",
   "execution_count": 9,
   "id": "9969074b",
   "metadata": {},
   "outputs": [],
   "source": [
    "# choose a model\n",
    "clf = svm.SVC(kernel='linear') \n",
    "\n",
    "# choose cross validation scheme\n",
    "cv = LeaveOneOut()\n",
    "\n",
    "#number of iterations for shuffle\n",
    "it=100"
   ]
  },
  {
   "cell_type": "code",
   "execution_count": 10,
   "id": "048110bf",
   "metadata": {},
   "outputs": [
    {
     "name": "stderr",
     "output_type": "stream",
     "text": [
      "/tmp/ipykernel_4072/3279468233.py:7: MatplotlibDeprecationWarning: The register_cmap function was deprecated in Matplotlib 3.7 and will be removed two minor releases later. Use ``matplotlib.colormaps.register(name)`` instead.\n",
      "  matplotlib.cm.register_cmap(\"dana\", cmap)\n"
     ]
    }
   ],
   "source": [
    "# prepare colors for plot\n",
    "from matplotlib.colors import LinearSegmentedColormap\n",
    "#colors = ['#dadaeb','#6a51a3']\n",
    "colors = ['#c7eae5','#008C8D']\n",
    "import matplotlib\n",
    "cmap = LinearSegmentedColormap.from_list(\"custom_purples\", colors, N=256)\n",
    "matplotlib.cm.register_cmap(\"dana\", cmap)\n",
    "pl = sns.color_palette(\"dana\", n_colors=50)"
   ]
  },
  {
   "cell_type": "code",
   "execution_count": 11,
   "id": "0be589c7",
   "metadata": {
    "scrolled": false
   },
   "outputs": [
    {
     "name": "stderr",
     "output_type": "stream",
     "text": [
      "100%|███████████████████████████████████████████████████████████████████████████████████████████████████████████████████████████████████████████████████████████████████████| 100/100 [00:42<00:00,  2.33it/s]\n",
      "100%|███████████████████████████████████████████████████████████████████████████████████████████████████████████████████████████████████████████████████████████████████████| 100/100 [00:53<00:00,  1.87it/s]\n",
      "100%|███████████████████████████████████████████████████████████████████████████████████████████████████████████████████████████████████████████████████████████████████████| 100/100 [01:00<00:00,  1.66it/s]\n",
      "100%|███████████████████████████████████████████████████████████████████████████████████████████████████████████████████████████████████████████████████████████████████████| 100/100 [00:56<00:00,  1.77it/s]\n",
      "100%|███████████████████████████████████████████████████████████████████████████████████████████████████████████████████████████████████████████████████████████████████████| 100/100 [01:00<00:00,  1.65it/s]\n",
      "100%|███████████████████████████████████████████████████████████████████████████████████████████████████████████████████████████████████████████████████████████████████████| 100/100 [00:55<00:00,  1.79it/s]\n",
      "100%|███████████████████████████████████████████████████████████████████████████████████████████████████████████████████████████████████████████████████████████████████████| 100/100 [01:01<00:00,  1.64it/s]\n",
      "100%|███████████████████████████████████████████████████████████████████████████████████████████████████████████████████████████████████████████████████████████████████████| 100/100 [00:57<00:00,  1.75it/s]\n",
      "100%|███████████████████████████████████████████████████████████████████████████████████████████████████████████████████████████████████████████████████████████████████████| 100/100 [00:56<00:00,  1.77it/s]\n",
      "100%|███████████████████████████████████████████████████████████████████████████████████████████████████████████████████████████████████████████████████████████████████████| 100/100 [00:57<00:00,  1.74it/s]\n",
      "100%|███████████████████████████████████████████████████████████████████████████████████████████████████████████████████████████████████████████████████████████████████████| 100/100 [00:53<00:00,  1.88it/s]\n",
      "100%|███████████████████████████████████████████████████████████████████████████████████████████████████████████████████████████████████████████████████████████████████████| 100/100 [00:53<00:00,  1.85it/s]\n",
      "100%|███████████████████████████████████████████████████████████████████████████████████████████████████████████████████████████████████████████████████████████████████████| 100/100 [00:53<00:00,  1.86it/s]\n",
      "100%|███████████████████████████████████████████████████████████████████████████████████████████████████████████████████████████████████████████████████████████████████████| 100/100 [00:54<00:00,  1.84it/s]\n",
      "100%|███████████████████████████████████████████████████████████████████████████████████████████████████████████████████████████████████████████████████████████████████████| 100/100 [00:55<00:00,  1.79it/s]\n",
      "100%|███████████████████████████████████████████████████████████████████████████████████████████████████████████████████████████████████████████████████████████████████████| 100/100 [01:33<00:00,  1.06it/s]\n",
      "100%|███████████████████████████████████████████████████████████████████████████████████████████████████████████████████████████████████████████████████████████████████████| 100/100 [01:37<00:00,  1.02it/s]\n",
      "100%|███████████████████████████████████████████████████████████████████████████████████████████████████████████████████████████████████████████████████████████████████████| 100/100 [01:34<00:00,  1.06it/s]\n",
      "100%|███████████████████████████████████████████████████████████████████████████████████████████████████████████████████████████████████████████████████████████████████████| 100/100 [01:39<00:00,  1.01it/s]\n",
      "100%|███████████████████████████████████████████████████████████████████████████████████████████████████████████████████████████████████████████████████████████████████████| 100/100 [01:34<00:00,  1.06it/s]\n",
      "100%|███████████████████████████████████████████████████████████████████████████████████████████████████████████████████████████████████████████████████████████████████████| 100/100 [01:38<00:00,  1.01it/s]\n",
      "100%|███████████████████████████████████████████████████████████████████████████████████████████████████████████████████████████████████████████████████████████████████████| 100/100 [01:40<00:00,  1.01s/it]\n",
      "100%|███████████████████████████████████████████████████████████████████████████████████████████████████████████████████████████████████████████████████████████████████████| 100/100 [01:36<00:00,  1.03it/s]\n",
      "100%|███████████████████████████████████████████████████████████████████████████████████████████████████████████████████████████████████████████████████████████████████████| 100/100 [01:33<00:00,  1.07it/s]\n",
      "100%|███████████████████████████████████████████████████████████████████████████████████████████████████████████████████████████████████████████████████████████████████████| 100/100 [01:33<00:00,  1.07it/s]\n",
      "100%|███████████████████████████████████████████████████████████████████████████████████████████████████████████████████████████████████████████████████████████████████████| 100/100 [01:35<00:00,  1.05it/s]\n",
      "100%|███████████████████████████████████████████████████████████████████████████████████████████████████████████████████████████████████████████████████████████████████████| 100/100 [01:32<00:00,  1.08it/s]\n",
      "100%|███████████████████████████████████████████████████████████████████████████████████████████████████████████████████████████████████████████████████████████████████████| 100/100 [01:33<00:00,  1.07it/s]\n",
      "100%|███████████████████████████████████████████████████████████████████████████████████████████████████████████████████████████████████████████████████████████████████████| 100/100 [01:31<00:00,  1.09it/s]\n",
      "100%|███████████████████████████████████████████████████████████████████████████████████████████████████████████████████████████████████████████████████████████████████████| 100/100 [01:25<00:00,  1.17it/s]\n",
      "100%|███████████████████████████████████████████████████████████████████████████████████████████████████████████████████████████████████████████████████████████████████████| 100/100 [01:32<00:00,  1.08it/s]\n"
     ]
    }
   ],
   "source": [
    "xmale = pd.DataFrame()\n",
    "a = 0\n",
    "n = 8  # size of sliding window\n",
    "age = []\n",
    "acc = []\n",
    "sh_acc = []\n",
    "sh_ages = []\n",
    "coefficients_list = []\n",
    "\n",
    "while True:\n",
    "    # Build the current age matrix\n",
    "    for m, _df in enumerate(df.groupby('mouse')):\n",
    "        xmale_temp = _df[1][a:a+n]\n",
    "        xmale = pd.concat([xmale, xmale_temp])\n",
    "    rep_counts = xmale.groupby('mouse')['age'].size()\n",
    "    keep_mice = list(rep_counts[rep_counts >= n].index)  # keep mice that have at least nmin sessions\n",
    "    xmale = xmale[xmale['mouse'].isin(keep_mice)]\n",
    "    if xmale.empty:\n",
    "        break\n",
    "    age.append(np.floor(np.mean(xmale['age'])).astype(int))\n",
    "    \n",
    "    ymale = xmale['mouse']\n",
    "    x = xmale.drop(['mouse', 'age'], axis=1).to_numpy()\n",
    "    \n",
    "    # Fit the model and collect coefficients\n",
    "    clf.fit(x, ymale)\n",
    "    coefficients_list.append(np.mean(clf.coef_,axis=0))\n",
    "    \n",
    "    # Predict labels for the test data\n",
    "    y_pred = clf.predict(xtest)\n",
    "\n",
    "    # Calculate accuracy score\n",
    "    accuracy = accuracy_score(ytest, y_pred)\n",
    "\n",
    "    acc.append(accuracy)\n",
    "    \n",
    "    # Shuffle labels and calculate shuffled accuracy\n",
    "    for i in tqdm(range(it)):\n",
    "        ysh_temp = np.random.permutation(ymale)\n",
    "        y_pred_temp = cross_val_score(clf, x, ysh_temp, cv=cv, n_jobs=-1)\n",
    "        sh_acc.append(np.mean(y_pred_temp))\n",
    "        sh_ages.append(np.floor(np.mean(xmale['age'])).astype(int))\n",
    "    \n",
    "    # Handle variables for the loop\n",
    "    xmale = pd.DataFrame()\n",
    "    a = a + 1"
   ]
  },
  {
   "cell_type": "code",
   "execution_count": 12,
   "id": "78e8d903",
   "metadata": {},
   "outputs": [],
   "source": [
    "# create df for plotting\n",
    "df_sh = pd.DataFrame()\n",
    "df_sh['acc']=sh_acc\n",
    "df_sh['ages'] = sh_ages\n",
    "\n",
    "df = pd.DataFrame()\n",
    "df['acc']=acc\n",
    "df['ages'] = age"
   ]
  },
  {
   "cell_type": "code",
   "execution_count": 13,
   "id": "2dd2a072",
   "metadata": {},
   "outputs": [],
   "source": [
    "format_plots()"
   ]
  },
  {
   "cell_type": "code",
   "execution_count": 14,
   "id": "d8df77f6",
   "metadata": {},
   "outputs": [
    {
     "data": {
      "image/png": "[encoded data removed]",
      "text/plain": [
       "<Figure size 260x260 with 1 Axes>"
      ]
     },
     "metadata": {},
     "output_type": "display_data"
    }
   ],
   "source": [
    "fig, ax = plt.subplots(figsize=(1.3, 1.3))\n",
    "sns.pointplot(data=df_sh, x=\"ages\", y=\"acc\", ax=ax, color='grey',estimator='mean', errorbar=('sd',2),join=True,scale=0.5)\n",
    "plt.setp(ax.collections, alpha=.3) #for the markers\n",
    "plt.setp(ax.lines, alpha=.3)       #for the lines\n",
    "sns.pointplot(data=df, x=\"ages\", y=\"acc\",\n",
    "              dodge=0, \n",
    "              join=True, \n",
    "              ax=ax, \n",
    "              scale=0.5,\n",
    "              hue='ages',\n",
    "              palette=pl,\n",
    "              #edgecolor='gray',\n",
    "              #linewidth=0.3\n",
    "             )\n",
    "plt.legend([],[], frameon=False)\n",
    "#plt.xticks([])\n",
    "ax.set_ylim([0,1])\n",
    "xticks = [4, 14, 23, 32]\n",
    "ax.set_xticks(xticks)\n",
    "\n",
    "sns.despine()\n",
    "#ax.set_title('identity decoding in different ages bin=' + str(n))\n",
    "c = PlotConfig()\n",
    "fig.savefig(c.dana_save_path / \"fig3\"/ 'longv2_id_decoder_last_data_points.pdf')"
   ]
  },
  {
   "cell_type": "code",
   "execution_count": null,
   "id": "1bda49fd",
   "metadata": {},
   "outputs": [],
   "source": []
  }
 ],
 "metadata": {
  "kernelspec": {
   "display_name": "Python 3 (ipykernel)",
   "language": "python",
   "name": "python3"
  },
  "language_info": {
   "codemirror_mode": {
    "name": "ipython",
    "version": 3
   },
   "file_extension": ".py",
   "mimetype": "text/x-python",
   "name": "python",
   "nbconvert_exporter": "python",
   "pygments_lexer": "ipython3",
   "version": "3.10.12"
  }
 },
 "nbformat": 4,
 "nbformat_minor": 5
}
