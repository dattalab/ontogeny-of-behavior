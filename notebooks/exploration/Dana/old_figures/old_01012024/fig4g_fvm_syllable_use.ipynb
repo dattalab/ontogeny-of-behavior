{
 "cells": [
  {
   "cell_type": "code",
   "execution_count": 1,
   "id": "a77ea523",
   "metadata": {},
   "outputs": [],
   "source": [
    "import numpy as np\n",
    "import pandas as pd\n",
    "import matplotlib.pyplot as plt\n",
    "import seaborn as sns\n",
    "from pathlib import Path\n",
    "import matplotlib as mpl\n",
    "import os\n",
    "from toolz import concat\n",
    "from matplotlib.lines import Line2D\n",
    "from collections import Counter\n",
    "import math\n",
    "from sklearn.decomposition import PCA\n",
    "from sklearn.neighbors import KNeighborsRegressor\n",
    "from aging.behavior.syllables import relabel_by_usage\n",
    "from tqdm import tqdm\n",
    "%matplotlib inline\n",
    "import warnings\n",
    "warnings.simplefilter('ignore')\n",
    "import random\n",
    "import scipy\n",
    "from sklearn.pipeline import make_pipeline\n",
    "from sklearn.cluster import KMeans\n",
    "from sklearn.preprocessing import StandardScaler\n",
    "from sklearn.metrics import adjusted_rand_score\n",
    "from kneed import KneeLocator\n",
    "from sklearn.metrics import silhouette_score\n",
    "from scipy.spatial.distance import jensenshannon\n",
    "%matplotlib inline\n",
    "from aging.plotting import format_plots, PlotConfig, save_factory, figure, legend, format_pizza_plots"
   ]
  },
  {
   "cell_type": "code",
   "execution_count": 2,
   "id": "0a49a035",
   "metadata": {},
   "outputs": [],
   "source": [
    "format_plots()\n",
    "#format_pizza_plots()"
   ]
  },
  {
   "cell_type": "code",
   "execution_count": 3,
   "id": "1e464ef7",
   "metadata": {},
   "outputs": [],
   "source": [
    "from matplotlib.colors import LinearSegmentedColormap\n",
    "colors = ['#fee6ce','#d94801']\n",
    "custom_cmap = LinearSegmentedColormap.from_list(\"custom_purples\", colors, N=256)\n",
    "cmf=custom_cmap\n",
    "\n",
    "colors = ['#dadaeb','#6a51a3']\n",
    "custom_cmap = LinearSegmentedColormap.from_list(\"custom_purples\", colors, N=256)\n",
    "cmm=custom_cmap"
   ]
  },
  {
   "cell_type": "code",
   "execution_count": 4,
   "id": "9711e242",
   "metadata": {},
   "outputs": [],
   "source": [
    "## update data\n",
    "def remove_crl_male(df):\n",
    "    max=39\n",
    "    df.drop('9c060c9b-9eee-4788-90be-803700bbacd8',level=3, axis=0, inplace=True)\n",
    "    syll=df.columns.values[df.columns.values>max]\n",
    "    #syll=0\n",
    "    df.drop(syll,axis=1, inplace=True)\n",
    "    return df[~df.index.get_level_values('session_name').str.contains('CRL')]\n",
    "\n",
    "def remove_crl_female(df):\n",
    "    max=39\n",
    "    #df.drop('9c060c9b-9eee-4788-90be-803700bbacd8',level=3, axis=0, inplace=True)\n",
    "    syll=df.columns.values[df.columns.values>max]\n",
    "    #syll=0\n",
    "    df.drop(syll,axis=1, inplace=True)\n",
    "    return df[~df.index.get_level_values('session_name').str.contains('CRL')]"
   ]
  },
  {
   "cell_type": "code",
   "execution_count": 5,
   "id": "a99a08e8",
   "metadata": {},
   "outputs": [],
   "source": [
    "# arrange data\n",
    "# pseudo data males\n",
    "path = Path('/n/groups/datta/win/longtogeny/data/ontogeny/version_07/ontogeny_males_clean_pseudotime_v02.parquet')\n",
    "m_psd = pd.read_parquet(path)\n",
    "m_psd=m_psd.reset_index()\n",
    "m_psd=m_psd[['uuid','pseudotime_rank','age','pseudo_age']]\n",
    "\n",
    "#make sure only animals in clean v2 are in the male dataframe:\n",
    "path = Path('/n/groups/datta/win/longtogeny/data/ontogeny/version_07/ontogeny_males_clean_v2.parquet')\n",
    "df_males = pd.read_parquet(path)\n",
    "df_males = remove_crl_male(df_males)\n",
    "m_psd = df_males.merge(m_psd, on='uuid', how='left')\n",
    "\n",
    "#do some cleaning up\n",
    "m_psd.rename(columns={'pseudotime_rank': 'psd'}, inplace=True)\n",
    "m_psd.set_index(['psd','uuid','age'], append=True, inplace=True)\n",
    "m_psd['remapped_bins'] = m_psd['pseudo_age']\n",
    "m_psd.set_index(['remapped_bins'], \n",
    "                append=True, inplace=True)\n",
    "m_psd = m_psd.filter(regex=r'\\d')"
   ]
  },
  {
   "cell_type": "code",
   "execution_count": 6,
   "id": "d78e4b41",
   "metadata": {},
   "outputs": [],
   "source": [
    "# arrange data\n",
    "# pseudo data females\n",
    "path = Path('/n/groups/datta/win/longtogeny/data/ontogeny/version_07/ontogeny_females_clean_pseudotime_v02.parquet')\n",
    "f_psd = pd.read_parquet(path)\n",
    "f_psd=f_psd.reset_index()\n",
    "f_psd=f_psd[['uuid','pseudotime_rank','age']]\n",
    "\n",
    "#make sure only animals in clean v2 are in the female dataframe:\n",
    "path = Path('/n/groups/datta/win/longtogeny/data/ontogeny/version_07/ontogeny_females_clean_v2.parquet')\n",
    "df_females = pd.read_parquet(path)\n",
    "df_females = remove_crl_female(df_females)\n",
    "f_psd = df_females.merge(f_psd, on='uuid', how='left')\n",
    "\n",
    "#do some cleaning up\n",
    "f_psd.rename(columns={'pseudotime_rank': 'psd'}, inplace=True)\n",
    "f_psd.set_index(['psd','uuid','age'], append=True, inplace=True)\n",
    "f_psd = f_psd.filter(regex=r'\\d')\n",
    "\n",
    "## convert male pseudotime to bins and remap the bins\n",
    "f_psd['bins'] = pd.qcut(f_psd.index.get_level_values('psd'), len(f_psd.index.get_level_values('age').unique()),labels=False)\n",
    "\n",
    "ages = f_psd.index.get_level_values('age').unique().to_numpy()\n",
    "mapdr_females = dict(zip(list(range(len(ages))), ages))\n",
    "y_temp = f_psd['bins'].to_numpy()\n",
    "y_temp = [mapdr_females[item] for item in y_temp]\n",
    "\n",
    "f_psd['remapped_bins'] = y_temp\n",
    "f_psd.set_index(['bins','remapped_bins'], \n",
    "                append=True, inplace=True)"
   ]
  },
  {
   "cell_type": "code",
   "execution_count": 7,
   "id": "3727af91",
   "metadata": {},
   "outputs": [
    {
     "name": "stdout",
     "output_type": "stream",
     "text": [
      "0.9782308974978633\n"
     ]
    }
   ],
   "source": [
    "# pseudo regression\n",
    "from sklearn.cross_decomposition import PLSRegression\n",
    "from sklearn import neighbors\n",
    "mdl= neighbors.KNeighborsRegressor(n_neighbors=8)\n",
    "#mdl = PLSRegression(n_components=3)\n",
    "x = m_psd.filter(regex=r'\\d')\n",
    "y = x.index.get_level_values('psd')\n",
    "mdl.fit(x, y)\n",
    "print(mdl.score(x, y))\n",
    "\n",
    "#if you want to log transform\n",
    "#x = np.log(x + 1e-6) # convert to linear\n",
    "x = f_psd.filter(regex=r'\\d')\n",
    "psd=mdl.predict(x)"
   ]
  },
  {
   "cell_type": "code",
   "execution_count": 8,
   "id": "6cb3ce25",
   "metadata": {},
   "outputs": [],
   "source": [
    "# add female psd projected on males\n",
    "f_psd['proj_psd'] = psd\n",
    "f_psd['proj_bins'] = pd.qcut(f_psd.proj_psd, len(f_psd.index.get_level_values('age').unique()),labels=False)\n",
    "y_temp = f_psd['proj_bins'].to_numpy()\n",
    "y_temp = [mapdr_females[item] for item in y_temp]\n",
    "\n",
    "f_psd['proj_remapped_bins'] = y_temp\n",
    "f_psd.set_index(['proj_psd','proj_bins','proj_remapped_bins'], \n",
    "                append=True, inplace=True)"
   ]
  },
  {
   "cell_type": "code",
   "execution_count": 10,
   "id": "4cb17f9b",
   "metadata": {},
   "outputs": [],
   "source": [
    "f_ages = f_psd.index.get_level_values('age').unique().to_numpy()\n",
    "m_ages = m_psd.index.get_level_values('age').unique().to_numpy()\n",
    "cages = list(np.intersect1d(f_ages,m_ages))\n",
    "#f_ages[f_ages==72]=78 \n"
   ]
  },
  {
   "cell_type": "code",
   "execution_count": 22,
   "id": "45bda534",
   "metadata": {},
   "outputs": [],
   "source": [
    "# look at syllable usage diff male and females according to actual age\n",
    "#m_data = m_psd.loc[m_psd.index.get_level_values('remapped_bins').isin(cages)]\n",
    "#f_data = f_psd.loc[f_psd.index.get_level_values('remapped_bins').isin(cages)]\n",
    "m_data = m_psd.loc[m_psd.index.get_level_values('age').isin(cages)]\n",
    "f_data = f_psd.loc[f_psd.index.get_level_values('age').isin(cages)]\n",
    "#f_data.rename(index={72: 78}, level='remapped_bins', inplace=True)\n",
    "#diff_age =m_data.groupby('remapped_bins').mean().to_numpy()-f_data.groupby('remapped_bins').mean().to_numpy()\n",
    "diff_age =m_data.groupby('age').mean().to_numpy()-f_data.groupby('age').mean().to_numpy()"
   ]
  },
  {
   "cell_type": "code",
   "execution_count": 23,
   "id": "8ed3e693",
   "metadata": {},
   "outputs": [
    {
     "data": {
      "text/plain": [
       "([<matplotlib.axis.XTick at 0x7f0551007c40>,\n",
       "  <matplotlib.axis.XTick at 0x7f0551007910>,\n",
       "  <matplotlib.axis.XTick at 0x7f05512a94e0>,\n",
       "  <matplotlib.axis.XTick at 0x7f055113a7a0>,\n",
       "  <matplotlib.axis.XTick at 0x7f055113afe0>,\n",
       "  <matplotlib.axis.XTick at 0x7f055113b4f0>,\n",
       "  <matplotlib.axis.XTick at 0x7f055113bfa0>,\n",
       "  <matplotlib.axis.XTick at 0x7f0551026320>,\n",
       "  <matplotlib.axis.XTick at 0x7f0551024340>,\n",
       "  <matplotlib.axis.XTick at 0x7f0551027d60>,\n",
       "  <matplotlib.axis.XTick at 0x7f05511e02e0>,\n",
       "  <matplotlib.axis.XTick at 0x7f05511e0d90>,\n",
       "  <matplotlib.axis.XTick at 0x7f05511dd390>,\n",
       "  <matplotlib.axis.XTick at 0x7f05511e2ce0>,\n",
       "  <matplotlib.axis.XTick at 0x7f055109e920>,\n",
       "  <matplotlib.axis.XTick at 0x7f055109d210>,\n",
       "  <matplotlib.axis.XTick at 0x7f05511e1f30>,\n",
       "  <matplotlib.axis.XTick at 0x7f0551027190>,\n",
       "  <matplotlib.axis.XTick at 0x7f0551026cb0>,\n",
       "  <matplotlib.axis.XTick at 0x7f055113a860>,\n",
       "  <matplotlib.axis.XTick at 0x7f055113ae90>,\n",
       "  <matplotlib.axis.XTick at 0x7f0551025ae0>,\n",
       "  <matplotlib.axis.XTick at 0x7f05512ab430>],\n",
       " [Text(0, 0, '3'),\n",
       "  Text(1, 0, '5'),\n",
       "  Text(2, 0, '7'),\n",
       "  Text(3, 0, '9'),\n",
       "  Text(4, 0, '12'),\n",
       "  Text(5, 0, '16'),\n",
       "  Text(6, 0, '20'),\n",
       "  Text(7, 0, '24'),\n",
       "  Text(8, 0, '32'),\n",
       "  Text(9, 0, '36'),\n",
       "  Text(10, 0, '40'),\n",
       "  Text(11, 0, '44'),\n",
       "  Text(12, 0, '48'),\n",
       "  Text(13, 0, '52'),\n",
       "  Text(14, 0, '56'),\n",
       "  Text(15, 0, '60'),\n",
       "  Text(16, 0, '64'),\n",
       "  Text(17, 0, '68'),\n",
       "  Text(18, 0, '72'),\n",
       "  Text(19, 0, '78'),\n",
       "  Text(20, 0, '80'),\n",
       "  Text(21, 0, '84'),\n",
       "  Text(22, 0, '90')])"
      ]
     },
     "execution_count": 23,
     "metadata": {},
     "output_type": "execute_result"
    },
    {
     "data": {
      "image/png": "[encoded data removed]",
      "text/plain": [
       "<Figure size 500x300 with 2 Axes>"
      ]
     },
     "metadata": {},
     "output_type": "display_data"
    }
   ],
   "source": [
    "fig, ax = plt.subplots()\n",
    "fig.set_size_inches(2.5,1.5)\n",
    "sns.heatmap(diff_age.T, cmap ='PuOr', vmin=-0.06, vmax=0.06)\n",
    "plt.xlabel('age')\n",
    "plt.ylabel('syllable')\n",
    "#plt.xticks(x_values, custom_labels)\n",
    "plt.xticks(list(range(len(cages))),cages)"
   ]
  },
  {
   "cell_type": "code",
   "execution_count": 24,
   "id": "0ab9ef28",
   "metadata": {},
   "outputs": [],
   "source": [
    "c = PlotConfig()\n",
    "fig.savefig(c.dana_save_path / \"fig4\"/ 'fvm_syll_diff_heatmap_real_age.pdf')"
   ]
  },
  {
   "cell_type": "code",
   "execution_count": null,
   "id": "81f2dc27",
   "metadata": {},
   "outputs": [],
   "source": []
  }
 ],
 "metadata": {
  "kernelspec": {
   "display_name": "Python 3 (ipykernel)",
   "language": "python",
   "name": "python3"
  },
  "language_info": {
   "codemirror_mode": {
    "name": "ipython",
    "version": 3
   },
   "file_extension": ".py",
   "mimetype": "text/x-python",
   "name": "python",
   "nbconvert_exporter": "python",
   "pygments_lexer": "ipython3",
   "version": "3.10.12"
  }
 },
 "nbformat": 4,
 "nbformat_minor": 5
}
