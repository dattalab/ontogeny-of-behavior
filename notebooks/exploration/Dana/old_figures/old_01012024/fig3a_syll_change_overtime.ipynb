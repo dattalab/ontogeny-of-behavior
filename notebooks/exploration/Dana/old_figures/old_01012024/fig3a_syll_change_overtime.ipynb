{
 "cells": [
  {
   "cell_type": "code",
   "execution_count": 1,
   "id": "a77ea523",
   "metadata": {},
   "outputs": [],
   "source": [
    "import numpy as np\n",
    "import pandas as pd\n",
    "import matplotlib.pyplot as plt\n",
    "import seaborn as sns\n",
    "from pathlib import Path\n",
    "import matplotlib as mpl\n",
    "import os\n",
    "from matplotlib.lines import Line2D\n",
    "from collections import Counter\n",
    "import math\n",
    "from sklearn.decomposition import PCA\n",
    "from aging.behavior.syllables import relabel_by_usage\n",
    "from tqdm import tqdm\n",
    "%matplotlib inline\n",
    "import warnings\n",
    "warnings.simplefilter('ignore')\n",
    "import random\n",
    "import scipy\n",
    "from aging.plotting import format_plots, PlotConfig, save_factory, figure, legend, format_pizza_plots"
   ]
  },
  {
   "cell_type": "code",
   "execution_count": 2,
   "id": "0a49a035",
   "metadata": {},
   "outputs": [],
   "source": [
    "format_plots()\n",
    "#format_pizza_plots()"
   ]
  },
  {
   "cell_type": "code",
   "execution_count": 3,
   "id": "8839284a",
   "metadata": {},
   "outputs": [],
   "source": [
    "#c = PlotConfig()\n",
    "#cg.savefig(c.dana_save_path / \"fig3\"/ 'B_syll_clusters.pdf', bbox_inches='tight')"
   ]
  },
  {
   "cell_type": "code",
   "execution_count": 4,
   "id": "1e464ef7",
   "metadata": {},
   "outputs": [],
   "source": [
    "from matplotlib.colors import LinearSegmentedColormap\n",
    "# Define the color map\n",
    "colors = ['#dadaeb','#6a51a3']\n",
    "custom_cmap = LinearSegmentedColormap.from_list(\"custom_purples\", colors, N=256)\n",
    "cmm=custom_cmap"
   ]
  },
  {
   "cell_type": "code",
   "execution_count": 5,
   "id": "954c0aa5",
   "metadata": {},
   "outputs": [],
   "source": [
    "## update data\n",
    "def remove_crl_male(df):\n",
    "    max=39\n",
    "    df.drop('9c060c9b-9eee-4788-90be-803700bbacd8',level=3, axis=0, inplace=True)\n",
    "    syll=df.columns.values[df.columns.values>max]\n",
    "    #syll=0\n",
    "    df.drop(syll,axis=1, inplace=True)\n",
    "    return df[~df.index.get_level_values('session_name').str.contains('CRL')]\n",
    "\n",
    "def remove_crl_female(df):\n",
    "    max=39\n",
    "    #df.drop('9c060c9b-9eee-4788-90be-803700bbacd8',level=3, axis=0, inplace=True)\n",
    "    syll=df.columns.values[df.columns.values>max]\n",
    "    #syll=0\n",
    "    df.drop(syll,axis=1, inplace=True)\n",
    "    return df[~df.index.get_level_values('session_name').str.contains('CRL')]"
   ]
  },
  {
   "cell_type": "code",
   "execution_count": 6,
   "id": "a3a00001",
   "metadata": {},
   "outputs": [],
   "source": [
    "# arrange data\n",
    "# pseudo data males\n",
    "path = Path('/n/groups/datta/win/longtogeny/data/ontogeny/version_07/ontogeny_males_clean_pseudotime_v02.parquet')\n",
    "m_psd = pd.read_parquet(path)\n",
    "m_psd=m_psd.reset_index()\n",
    "m_psd=m_psd[['uuid','pseudotime_rank','age','pseudo_age']]\n",
    "\n",
    "#make sure only animals in clean v2 are in the male dataframe:\n",
    "path = Path('/n/groups/datta/win/longtogeny/data/ontogeny/version_07/ontogeny_males_clean_v2.parquet')\n",
    "df_males = pd.read_parquet(path)\n",
    "df_males = remove_crl_male(df_males)\n",
    "m_psd = df_males.merge(m_psd, on='uuid', how='left')\n",
    "\n",
    "#do some cleaning up\n",
    "m_psd.rename(columns={'pseudotime_rank': 'psd'}, inplace=True)\n",
    "m_psd.set_index(['psd','uuid','age'], append=True, inplace=True)\n",
    "m_psd['remapped_bins'] = m_psd['pseudo_age']\n",
    "m_psd.set_index(['remapped_bins'], \n",
    "                append=True, inplace=True)\n",
    "m_psd = m_psd.filter(regex=r'\\d')"
   ]
  },
  {
   "cell_type": "code",
   "execution_count": 7,
   "id": "d2303d44",
   "metadata": {},
   "outputs": [],
   "source": [
    "data = m_psd.groupby(['remapped_bins','uuid']).mean()\n",
    "data_labels = data.index.get_level_values('remapped_bins').to_numpy()\n",
    "data= data.to_numpy()"
   ]
  },
  {
   "cell_type": "code",
   "execution_count": 8,
   "id": "b4e0050a",
   "metadata": {},
   "outputs": [],
   "source": [
    "#colors for plotting\n",
    "cmap2 = cmm\n",
    "ages = np.unique(data_labels)\n",
    "colors = np.int_(np.arange(0, 256, 256/len(ages)))\n",
    "seqmatcolor='cubehelix'\n",
    "\n",
    "# create age labels colors\n",
    "lines=[]\n",
    "counter = Counter(data_labels)\n",
    "sorted(counter.items())\n",
    "a=np.array([*counter.values()])\n",
    "\n",
    "color_mat=[]\n",
    "n=0\n",
    "for i,c in enumerate(colors):\n",
    "    for j in range(a[i]):\n",
    "        color_mat.append(cmap2(c))"
   ]
  },
  {
   "cell_type": "code",
   "execution_count": 9,
   "id": "7283a675",
   "metadata": {},
   "outputs": [],
   "source": [
    "# plot syllable usage acoss time points\n",
    "figure(4,4)\n",
    "cg=sns.clustermap(\n",
    "    data=data.T,\n",
    "    cmap=seqmatcolor, \n",
    "    figsize=(2, 2),\n",
    "    col_colors=color_mat,\n",
    "    cbar_pos=(1.02, 0.025, 0.025, .73),\n",
    "    col_cluster=False,\n",
    "    row_cluster=True,\n",
    "    yticklabels=False,\n",
    "    xticklabels=False,\n",
    "    method='average',\n",
    "    #method = 'single',\n",
    "    metric='sqeuclidean',\n",
    "    #metric='cosine',\n",
    "    #metric='jensenshannon',\n",
    "    cbar_kws={'label': 'fraction of use'}, \n",
    "    vmax=0.075)\n",
    "cg.ax_row_dendrogram.set_visible(False)\n",
    "ax = cg.ax_heatmap\n",
    "ax.tick_params(left=False, bottom=False, right=False)\n",
    "ax.set_xlabel('Sessions')\n",
    "ax.set_ylabel('Syllables')\n",
    "\n",
    "# legend\n",
    "for i,c in enumerate(colors):\n",
    "        lines.append(Line2D([0], [0], color=cmap2(c), lw=2))\n",
    "plt.legend(handles=lines,labels=list(ages),bbox_to_anchor=(10, 1),loc='upper right',fontsize=6)\n",
    "plt.show()"
   ]
  },
  {
   "cell_type": "code",
   "execution_count": null,
   "id": "00919678",
   "metadata": {},
   "outputs": [],
   "source": []
  },
  {
   "cell_type": "code",
   "execution_count": 10,
   "id": "42d91980",
   "metadata": {},
   "outputs": [],
   "source": [
    "c = PlotConfig()\n",
    "cg.savefig(c.dana_save_path / \"fig3\"/ 'a_syll_over_time_euc_order.pdf', bbox_inches='tight')"
   ]
  }
 ],
 "metadata": {
  "kernelspec": {
   "display_name": "Python 3 (ipykernel)",
   "language": "python",
   "name": "python3"
  },
  "language_info": {
   "codemirror_mode": {
    "name": "ipython",
    "version": 3
   },
   "file_extension": ".py",
   "mimetype": "text/x-python",
   "name": "python",
   "nbconvert_exporter": "python",
   "pygments_lexer": "ipython3",
   "version": "3.10.12"
  }
 },
 "nbformat": 4,
 "nbformat_minor": 5
}
