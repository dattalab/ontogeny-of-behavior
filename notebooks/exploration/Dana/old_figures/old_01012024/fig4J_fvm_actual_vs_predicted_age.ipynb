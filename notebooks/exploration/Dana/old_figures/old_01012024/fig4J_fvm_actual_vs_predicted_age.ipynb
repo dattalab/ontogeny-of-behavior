{
 "cells": [
  {
   "cell_type": "code",
   "execution_count": 1,
   "id": "a77ea523",
   "metadata": {},
   "outputs": [],
   "source": [
    "import numpy as np\n",
    "import pandas as pd\n",
    "import matplotlib.pyplot as plt\n",
    "import seaborn as sns\n",
    "from pathlib import Path\n",
    "import matplotlib as mpl\n",
    "import os\n",
    "from toolz import concat\n",
    "from matplotlib.lines import Line2D\n",
    "from collections import Counter\n",
    "import math\n",
    "from sklearn.decomposition import PCA\n",
    "from sklearn.neighbors import KNeighborsRegressor\n",
    "from aging.behavior.syllables import relabel_by_usage\n",
    "from tqdm import tqdm\n",
    "%matplotlib inline\n",
    "import warnings\n",
    "warnings.simplefilter('ignore')\n",
    "import random\n",
    "import scipy\n",
    "from sklearn.pipeline import make_pipeline\n",
    "from sklearn.cluster import KMeans\n",
    "from sklearn.preprocessing import StandardScaler\n",
    "from sklearn.metrics import adjusted_rand_score\n",
    "from kneed import KneeLocator\n",
    "from sklearn.metrics import silhouette_score\n",
    "from scipy.spatial.distance import jensenshannon\n",
    "%matplotlib inline\n",
    "from aging.plotting import format_plots, PlotConfig, save_factory, figure, legend, format_pizza_plots"
   ]
  },
  {
   "cell_type": "code",
   "execution_count": 2,
   "id": "0a49a035",
   "metadata": {},
   "outputs": [],
   "source": [
    "format_plots()\n",
    "#format_pizza_plots()"
   ]
  },
  {
   "cell_type": "code",
   "execution_count": 3,
   "id": "1e464ef7",
   "metadata": {},
   "outputs": [],
   "source": [
    "from matplotlib.colors import LinearSegmentedColormap\n",
    "colors = ['#fee6ce','#d94801']\n",
    "custom_cmap = LinearSegmentedColormap.from_list(\"custom_purples\", colors, N=256)\n",
    "cmf=custom_cmap\n",
    "\n",
    "colors = ['#dadaeb','#6a51a3']\n",
    "custom_cmap = LinearSegmentedColormap.from_list(\"custom_purples\", colors, N=256)\n",
    "cmm=custom_cmap"
   ]
  },
  {
   "cell_type": "code",
   "execution_count": 4,
   "id": "9711e242",
   "metadata": {},
   "outputs": [],
   "source": [
    "## update data\n",
    "def remove_crl_male(df):\n",
    "    max=39\n",
    "    df.drop('9c060c9b-9eee-4788-90be-803700bbacd8',level=3, axis=0, inplace=True)\n",
    "    syll=df.columns.values[df.columns.values>max]\n",
    "    #syll=0\n",
    "    df.drop(syll,axis=1, inplace=True)\n",
    "    return df[~df.index.get_level_values('session_name').str.contains('CRL')]\n",
    "\n",
    "def remove_crl_female(df):\n",
    "    max=39\n",
    "    #df.drop('9c060c9b-9eee-4788-90be-803700bbacd8',level=3, axis=0, inplace=True)\n",
    "    syll=df.columns.values[df.columns.values>max]\n",
    "    #syll=0\n",
    "    df.drop(syll,axis=1, inplace=True)\n",
    "    return df[~df.index.get_level_values('session_name').str.contains('CRL')]"
   ]
  },
  {
   "cell_type": "code",
   "execution_count": 5,
   "id": "a99a08e8",
   "metadata": {},
   "outputs": [],
   "source": [
    "# arrange data\n",
    "# pseudo data males\n",
    "path = Path('/n/groups/datta/win/longtogeny/data/ontogeny/version_07/ontogeny_males_clean_pseudotime_v02.parquet')\n",
    "m_psd = pd.read_parquet(path)\n",
    "m_psd=m_psd.reset_index()\n",
    "m_psd=m_psd[['uuid','pseudotime_rank','age','pseudo_age']]\n",
    "\n",
    "#make sure only animals in clean v2 are in the male dataframe:\n",
    "path = Path('/n/groups/datta/win/longtogeny/data/ontogeny/version_07/ontogeny_males_clean_v2.parquet')\n",
    "df_males = pd.read_parquet(path)\n",
    "df_males = remove_crl_male(df_males)\n",
    "m_psd = df_males.merge(m_psd, on='uuid', how='left')\n",
    "\n",
    "#do some cleaning up\n",
    "m_psd.rename(columns={'pseudotime_rank': 'psd'}, inplace=True)\n",
    "m_psd.set_index(['psd','uuid','age'], append=True, inplace=True)\n",
    "m_psd['remapped_bins'] = m_psd['pseudo_age']\n",
    "m_psd.set_index(['remapped_bins'], \n",
    "                append=True, inplace=True)\n",
    "m_psd = m_psd.filter(regex=r'\\d')"
   ]
  },
  {
   "cell_type": "code",
   "execution_count": 6,
   "id": "d78e4b41",
   "metadata": {},
   "outputs": [],
   "source": [
    "# arrange data\n",
    "# pseudo data females\n",
    "path = Path('/n/groups/datta/win/longtogeny/data/ontogeny/version_07/ontogeny_females_clean_pseudotime_v02.parquet')\n",
    "f_psd = pd.read_parquet(path)\n",
    "f_psd=f_psd.reset_index()\n",
    "f_psd=f_psd[['uuid','pseudotime_rank','age']]\n",
    "\n",
    "#make sure only animals in clean v2 are in the female dataframe:\n",
    "path = Path('/n/groups/datta/win/longtogeny/data/ontogeny/version_07/ontogeny_females_clean_v2.parquet')\n",
    "df_females = pd.read_parquet(path)\n",
    "df_females = remove_crl_female(df_females)\n",
    "f_psd = df_females.merge(f_psd, on='uuid', how='left')\n",
    "\n",
    "#do some cleaning up\n",
    "f_psd.rename(columns={'pseudotime_rank': 'psd'}, inplace=True)\n",
    "f_psd.set_index(['psd','uuid','age'], append=True, inplace=True)\n",
    "f_psd = f_psd.filter(regex=r'\\d')\n",
    "\n",
    "## convert male pseudotime to bins and remap the bins\n",
    "f_psd['bins'] = pd.qcut(f_psd.index.get_level_values('psd'), len(f_psd.index.get_level_values('age').unique()),labels=False)\n",
    "\n",
    "ages = f_psd.index.get_level_values('age').unique().to_numpy()\n",
    "mapdr_females = dict(zip(list(range(len(ages))), ages))\n",
    "y_temp = f_psd['bins'].to_numpy()\n",
    "y_temp = [mapdr_females[item] for item in y_temp]\n",
    "\n",
    "f_psd['remapped_bins'] = y_temp\n",
    "f_psd.set_index(['bins','remapped_bins'], \n",
    "                append=True, inplace=True)"
   ]
  },
  {
   "cell_type": "code",
   "execution_count": 7,
   "id": "3727af91",
   "metadata": {},
   "outputs": [],
   "source": [
    "# pseudo regression\n",
    "from sklearn.cross_decomposition import PLSRegression\n",
    "from sklearn import neighbors\n",
    "mdl= neighbors.KNeighborsRegressor(n_neighbors=8)\n",
    "#mdl = PLSRegression(n_components=3)\n",
    "x = m_psd.filter(regex=r'\\d')\n",
    "y = x.index.get_level_values('psd')\n",
    "mdl.fit(x, y)\n",
    "print(mdl.score(x, y))\n",
    "\n",
    "#if you want to log transform\n",
    "#x = np.log(x + 1e-6) # convert to linear\n",
    "x = f_psd.filter(regex=r'\\d')\n",
    "psd=mdl.predict(x)"
   ]
  },
  {
   "cell_type": "code",
   "execution_count": 8,
   "id": "6cb3ce25",
   "metadata": {},
   "outputs": [],
   "source": [
    "# add female psd projected on males\n",
    "f_psd['proj_psd'] = psd\n",
    "f_psd['proj_bins'] = pd.qcut(f_psd.proj_psd, len(f_psd.index.get_level_values('age').unique()),labels=False)\n",
    "y_temp = f_psd['proj_bins'].to_numpy()\n",
    "y_temp = [mapdr_females[item] for item in y_temp]\n",
    "\n",
    "f_psd['proj_remapped_bins'] = y_temp\n",
    "f_psd.set_index(['proj_psd','proj_bins','proj_remapped_bins'], \n",
    "                append=True, inplace=True)"
   ]
  },
  {
   "cell_type": "code",
   "execution_count": 9,
   "id": "4d12bfae",
   "metadata": {},
   "outputs": [],
   "source": [
    "fig = figure(2, 2)\n",
    "ax = sns.scatterplot(\n",
    "    data=f_psd,\n",
    "    x=\"age\",\n",
    "    y=\"proj_remapped_bins\",\n",
    "    legend=False,\n",
    ")\n",
    "ax.plot([0, 80], [0, 80], color=\"k\", ls=\"--\")\n",
    "ax.set(title='proj psd')\n",
    "sns.despine()"
   ]
  },
  {
   "cell_type": "code",
   "execution_count": 10,
   "id": "d86401b6",
   "metadata": {},
   "outputs": [],
   "source": [
    "fig = figure(2, 2)\n",
    "ax = sns.scatterplot(\n",
    "    data=f_psd,\n",
    "    x=\"age\",\n",
    "    y=\"remapped_bins\",\n",
    "    legend=False,\n",
    ")\n",
    "ax.plot([0, 80], [0, 80], color=\"k\", ls=\"--\")\n",
    "ax.set(title='psd')\n",
    "sns.despine()"
   ]
  },
  {
   "cell_type": "code",
   "execution_count": 11,
   "id": "328b9421",
   "metadata": {},
   "outputs": [],
   "source": [
    "'''\n",
    "## project female data onto male pseudo time\n",
    "ont_df = pd.read_parquet('/n/groups/datta/win/longtogeny/data/ontogeny/version_07/ontogeny_males_clean_pseudotime_v02.parquet')\n",
    "count_map = ont_df.groupby('age')['0'].count()\n",
    "ages = list(concat([i] * n for i, n in count_map.items()))\n",
    "ont_sort = ont_df.sort_values(by='pseudotime_rank')\n",
    "ont_sort['pseudo_age'] = ages\n",
    "\n",
    "pipeline = make_pipeline(KNeighborsRegressor(n_neighbors=4, metric=jensenshannon))\n",
    "pipeline = pipeline.fit(ont_sort.iloc[:, :-3], y=ont_sort[\"pseudo_age\"])\n",
    "\n",
    "psd = pipeline.predict(df_females.reindex(columns=list(map(int, ont_sort.columns[:-3]))).fillna(0))\n",
    "psd_df = pd.Series(psd, index=df_females.index, name='pseudoage').reset_index()\n",
    "'''"
   ]
  },
  {
   "cell_type": "code",
   "execution_count": 12,
   "id": "0f556492",
   "metadata": {},
   "outputs": [],
   "source": [
    "#m_data = m_psd.query('age != 90').reset_index()\n",
    "m_data = m_psd.reset_index()\n",
    "f_data = f_psd.reset_index()"
   ]
  },
  {
   "cell_type": "code",
   "execution_count": 13,
   "id": "8443af42",
   "metadata": {},
   "outputs": [],
   "source": [
    "#sns.scatterplot(data=f_psd, x='age', y='remapped_bins')\n",
    "sns.lineplot (data=f_data, x='age', y='proj_remapped_bins', estimator='mean', \n",
    "              errorbar='se',\n",
    "              err_style=\"bars\",\n",
    "              markers=True, \n",
    "              marker='o',\n",
    "              markersize=10,\n",
    "              palette = cmf,\n",
    "              hue='age',\n",
    "              linestyle='',\n",
    "              markeredgecolor='grey', markeredgewidth=0.25,\n",
    "             legend=False)\n",
    "\n",
    "sns.lineplot (data=f_data, x='age', y='remapped_bins', estimator='mean', \n",
    "              errorbar='se',\n",
    "              err_style=\"bars\",\n",
    "              markers=True, \n",
    "              marker='o',\n",
    "              markersize=10,\n",
    "              palette = 'Greens',\n",
    "              hue='age',\n",
    "              linestyle='',\n",
    "              markeredgecolor='grey', markeredgewidth=0.25,\n",
    "             legend=False)\n",
    "sns.despine()\n",
    "plt.plot(f_data['age'], f_data['age'], linestyle='--', color='gray')\n",
    "plt.title(' predicted age vs actual age - orange projected males, green calculated female')"
   ]
  },
  {
   "cell_type": "code",
   "execution_count": 14,
   "id": "ce528623",
   "metadata": {},
   "outputs": [],
   "source": [
    "#sns.scatterplot(data=f_psd, x='age', y='remapped_bins')\n",
    "sns.lineplot (data=f_data, x='age', y='remapped_bins', estimator='mean', \n",
    "              errorbar='se',\n",
    "              err_style=\"bars\",\n",
    "              markers=True, \n",
    "              marker='o',\n",
    "              markersize=10,\n",
    "              palette = cmf,\n",
    "              hue='age',\n",
    "              linestyle='',\n",
    "              markeredgecolor='grey', markeredgewidth=0.25,\n",
    "             legend=False)\n",
    "sns.despine()\n",
    "plt.plot(f_data['age'], f_data['age'], linestyle='--', color='gray')\n",
    "plt.title(' predicted age vs actual age - orange projected males, green calculated female')"
   ]
  },
  {
   "cell_type": "code",
   "execution_count": 15,
   "id": "563d723d",
   "metadata": {},
   "outputs": [],
   "source": [
    "c = PlotConfig()\n",
    "fig.savefig(c.dana_save_path / \"fig4\"/ 'female_pred_vs_actual.pdf')"
   ]
  },
  {
   "cell_type": "code",
   "execution_count": 16,
   "id": "532afe82",
   "metadata": {},
   "outputs": [],
   "source": [
    "## panel for fig"
   ]
  },
  {
   "cell_type": "code",
   "execution_count": 17,
   "id": "478fae18",
   "metadata": {},
   "outputs": [],
   "source": [
    "#sns.scatterplot(data=f_psd, x='age', y='remapped_bins')\n",
    "fig, ax = plt.subplots()\n",
    "fig.set_size_inches(3,3)\n",
    "sns.lineplot (data=f_data, x='age', y='proj_remapped_bins', estimator='mean', \n",
    "              errorbar='se',\n",
    "              err_style=\"bars\",\n",
    "              markers=True, \n",
    "              marker='o',\n",
    "              markersize=8,\n",
    "              palette = cmf,\n",
    "              hue='age',\n",
    "              linestyle='',\n",
    "              alpha=0.75,\n",
    "              markeredgecolor='silver', markeredgewidth=0.25,\n",
    "             legend=False)\n",
    "sns.despine()\n",
    "plt.plot(f_data['age'], f_data['age'], linestyle='--', color='gray')\n",
    "#plt.title(' predicted age vs actual age - orange females, purple males')\n",
    "plt.ylim([0,75])\n",
    "plt.xlim([0,75])"
   ]
  },
  {
   "cell_type": "code",
   "execution_count": 18,
   "id": "9823226c",
   "metadata": {},
   "outputs": [],
   "source": [
    "c = PlotConfig()\n",
    "fig.savefig(c.dana_save_path / \"fig4\"/ 'female_proj_pred_vs_actual.pdf')"
   ]
  },
  {
   "cell_type": "code",
   "execution_count": 19,
   "id": "3b0d9d45",
   "metadata": {},
   "outputs": [],
   "source": [
    "#sns.scatterplot(data=f_psd, x='age', y='remapped_bins')\n",
    "fig, ax = plt.subplots()\n",
    "fig.set_size_inches(3,3)\n",
    "sns.lineplot (data=f_data, x='age', y='remapped_bins', estimator='mean', \n",
    "              errorbar='se',\n",
    "              err_style=\"bars\",\n",
    "              markers=True, \n",
    "              marker='o',\n",
    "              markersize=8,\n",
    "              palette = cmf,\n",
    "              hue='age',\n",
    "              linestyle='',\n",
    "              alpha=0.75,\n",
    "              markeredgecolor='silver', markeredgewidth=0.25,\n",
    "             legend=False)\n",
    "\n",
    "sns.lineplot (data=m_data, x='age', y='remapped_bins', estimator='mean', \n",
    "              errorbar='se',\n",
    "              err_style=\"bars\",\n",
    "              markers=True, \n",
    "              marker='o',\n",
    "              markersize=8,\n",
    "              palette = cmm,\n",
    "              #norm='log',\n",
    "              alpha=0.75,\n",
    "              hue='age',\n",
    "              linestyle='',\n",
    "              markeredgecolor='silver', markeredgewidth=0.25,\n",
    "             legend=False)\n",
    "sns.despine()\n",
    "plt.plot(m_data['age'], m_data['age'], linestyle='--', color='gray')\n",
    "#plt.title(' predicted age vs actual age - orange females, purple males')\n",
    "plt.ylim([0,95])\n",
    "plt.xlim([0,95])"
   ]
  },
  {
   "cell_type": "code",
   "execution_count": 20,
   "id": "78b76d5c",
   "metadata": {},
   "outputs": [],
   "source": [
    "c = PlotConfig()\n",
    "fig.savefig(c.dana_save_path / \"fig4\"/ 'male_female_pred_vs_actual.pdf')"
   ]
  },
  {
   "cell_type": "code",
   "execution_count": 21,
   "id": "35e30d4e",
   "metadata": {},
   "outputs": [],
   "source": [
    "from scipy.stats import pearsonr\n",
    "from scipy.stats import spearmanr\n",
    "# Calculate Pearson correlation coefficient\n",
    "correlation_coefficient, p_value = pearsonr(m_data.age.values, m_data.remapped_bins.values)\n",
    "correlation_coefficient\n",
    "correlation_coefficient, p_value = spearmanr(m_data.age.values, m_data.remapped_bins.values)\n",
    "correlation_coefficient"
   ]
  },
  {
   "cell_type": "code",
   "execution_count": 22,
   "id": "621c429b",
   "metadata": {},
   "outputs": [],
   "source": [
    "correlation_coefficient, p_value = spearmanr(f_data.age.values, f_data.remapped_bins.values)\n",
    "correlation_coefficient"
   ]
  },
  {
   "cell_type": "code",
   "execution_count": 23,
   "id": "2b083986",
   "metadata": {},
   "outputs": [],
   "source": [
    "# plot residuals\n",
    "\n",
    "#X=np.log(X + 1e-6) # convert to linear\n",
    "res = m_data.age.values - m_data.remapped_bins.values\n",
    "res=pd.DataFrame(res)\n",
    "res['age'] = m_data.age.values\n",
    "#fig = plt.figure(figsize=(2, 2))\n",
    "#fig = sns.boxplot(data=res, x='age',y=0)\n",
    "x_labels = m_data.age.values\n",
    "fig = plt.plot(res[0], color='purple', lw=1, alpha=0.7)\n",
    "plt.xticks(range(len(x_labels)), x_labels, fontsize=3)\n",
    "#plt.ylim([-20, 5])\n",
    "sns.despine()\n",
    "c = PlotConfig()\n",
    "plt.savefig(c.dana_save_path / \"fig4\"/ 'male_age_behavioral_residues.pdf', bbox_inches='tight')"
   ]
  },
  {
   "cell_type": "code",
   "execution_count": 24,
   "id": "0715a304",
   "metadata": {},
   "outputs": [],
   "source": [
    "correlation_coefficient, p_value = pearsonr(f_data.age.values, f_data.proj_remapped_bins.values)\n",
    "correlation_coefficient"
   ]
  },
  {
   "cell_type": "code",
   "execution_count": 25,
   "id": "b526a04e",
   "metadata": {},
   "outputs": [],
   "source": [
    "# plot residuals\n",
    "\n",
    "#X=np.log(X + 1e-6) # convert to linear\n",
    "res = f_data.age.values - f_data.remapped_bins.values\n",
    "res=pd.DataFrame(res)\n",
    "res['age'] = f_data.age.values\n",
    "#fig = plt.figure(figsize=(2, 2))\n",
    "#fig = sns.boxplot(data=res, x='age',y=0)\n",
    "x_labels = f_data.age.values\n",
    "fig = plt.plot(res[0], color='orange', lw=1, alpha=0.7)\n",
    "plt.xticks(range(len(x_labels)), x_labels, fontsize=3)\n",
    "#plt.ylim([-20, 5])\n",
    "sns.despine()\n",
    "c = PlotConfig()\n",
    "plt.savefig(c.dana_save_path / \"fig4\"/ 'female_pseudoage_residues.pdf', bbox_inches='tight')"
   ]
  }
 ],
 "metadata": {
  "kernelspec": {
   "display_name": "Python 3 (ipykernel)",
   "language": "python",
   "name": "python3"
  },
  "language_info": {
   "codemirror_mode": {
    "name": "ipython",
    "version": 3
   },
   "file_extension": ".py",
   "mimetype": "text/x-python",
   "name": "python",
   "nbconvert_exporter": "python",
   "pygments_lexer": "ipython3",
   "version": "3.10.12"
  }
 },
 "nbformat": 4,
 "nbformat_minor": 5
}
