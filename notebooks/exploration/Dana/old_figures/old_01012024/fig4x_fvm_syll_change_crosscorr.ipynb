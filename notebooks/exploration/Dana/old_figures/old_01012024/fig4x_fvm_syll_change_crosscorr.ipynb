{
 "cells": [
  {
   "cell_type": "code",
   "execution_count": 1,
   "id": "a77ea523",
   "metadata": {},
   "outputs": [],
   "source": [
    "import numpy as np\n",
    "import pandas as pd\n",
    "import matplotlib.pyplot as plt\n",
    "import seaborn as sns\n",
    "from pathlib import Path\n",
    "import matplotlib as mpl\n",
    "import os\n",
    "from toolz import concat\n",
    "from matplotlib.lines import Line2D\n",
    "from collections import Counter\n",
    "import math\n",
    "from sklearn.decomposition import PCA\n",
    "from sklearn.neighbors import KNeighborsRegressor\n",
    "from aging.behavior.syllables import relabel_by_usage\n",
    "from tqdm import tqdm\n",
    "%matplotlib inline\n",
    "import warnings\n",
    "warnings.simplefilter('ignore')\n",
    "import random\n",
    "import scipy\n",
    "from sklearn.pipeline import make_pipeline\n",
    "from sklearn.cluster import KMeans\n",
    "from sklearn.preprocessing import StandardScaler\n",
    "from sklearn.metrics import adjusted_rand_score\n",
    "from kneed import KneeLocator\n",
    "from sklearn.metrics import silhouette_score\n",
    "from scipy.spatial.distance import jensenshannon\n",
    "%matplotlib inline\n",
    "from aging.plotting import format_plots, PlotConfig, save_factory, figure, legend, format_pizza_plots"
   ]
  },
  {
   "cell_type": "code",
   "execution_count": 2,
   "id": "0a49a035",
   "metadata": {},
   "outputs": [],
   "source": [
    "format_plots()\n",
    "#format_pizza_plots()"
   ]
  },
  {
   "cell_type": "code",
   "execution_count": 3,
   "id": "1e464ef7",
   "metadata": {},
   "outputs": [],
   "source": [
    "from matplotlib.colors import LinearSegmentedColormap\n",
    "colors = ['#fee6ce','#d94801']\n",
    "custom_cmap = LinearSegmentedColormap.from_list(\"custom_purples\", colors, N=256)\n",
    "cmf=custom_cmap\n",
    "\n",
    "colors = ['#dadaeb','#6a51a3']\n",
    "custom_cmap = LinearSegmentedColormap.from_list(\"custom_purples\", colors, N=256)\n",
    "cmm=custom_cmap"
   ]
  },
  {
   "cell_type": "code",
   "execution_count": 4,
   "id": "9711e242",
   "metadata": {},
   "outputs": [],
   "source": [
    "## update data\n",
    "def remove_crl_male(df):\n",
    "    max=39\n",
    "    df.drop('9c060c9b-9eee-4788-90be-803700bbacd8',level=3, axis=0, inplace=True)\n",
    "    syll=df.columns.values[df.columns.values>max]\n",
    "    #syll=0\n",
    "    df.drop(syll,axis=1, inplace=True)\n",
    "    return df[~df.index.get_level_values('session_name').str.contains('CRL')]\n",
    "\n",
    "def remove_crl_female(df):\n",
    "    max=39\n",
    "    #df.drop('9c060c9b-9eee-4788-90be-803700bbacd8',level=3, axis=0, inplace=True)\n",
    "    syll=df.columns.values[df.columns.values>max]\n",
    "    #syll=0\n",
    "    df.drop(syll,axis=1, inplace=True)\n",
    "    return df[~df.index.get_level_values('session_name').str.contains('CRL')]"
   ]
  },
  {
   "cell_type": "code",
   "execution_count": 5,
   "id": "a99a08e8",
   "metadata": {},
   "outputs": [],
   "source": [
    "# arrange data\n",
    "# pseudo data males\n",
    "path = Path('/n/groups/datta/win/longtogeny/data/ontogeny/version_07/ontogeny_males_clean_pseudotime_v02.parquet')\n",
    "m_psd = pd.read_parquet(path)\n",
    "m_psd=m_psd.reset_index()\n",
    "m_psd=m_psd[['uuid','pseudotime_rank','age']]\n",
    "\n",
    "#make sure only animals in clean v2 are in the male dataframe:\n",
    "path = Path('/n/groups/datta/win/longtogeny/data/ontogeny/version_07/ontogeny_males_clean_v2.parquet')\n",
    "df_males = pd.read_parquet(path)\n",
    "df_males = remove_crl_male(df_males)\n",
    "m_psd = df_males.merge(m_psd, on='uuid', how='left')\n",
    "\n",
    "#do some cleaning up\n",
    "m_psd.rename(columns={'pseudotime_rank': 'psd'}, inplace=True)\n",
    "m_psd.set_index(['psd','uuid','age'], append=True, inplace=True)\n",
    "m_psd = m_psd.filter(regex=r'\\d')\n",
    "\n",
    "## convert male pseudotime to bins and remap the bins\n",
    "m_psd['bins'] = pd.qcut(m_psd.index.get_level_values('psd'), len(m_psd.index.get_level_values('age').unique()),labels=False)\n",
    "\n",
    "ages = m_psd.index.get_level_values('age').unique().to_numpy()\n",
    "mapdr_males = dict(zip(list(range(len(ages))), ages))\n",
    "y_temp = m_psd['bins'].to_numpy()\n",
    "y_temp = [mapdr_males[item] for item in y_temp]\n",
    "\n",
    "m_psd['remapped_bins'] = y_temp\n",
    "m_psd.set_index(['bins','remapped_bins'], \n",
    "                append=True, inplace=True)"
   ]
  },
  {
   "cell_type": "code",
   "execution_count": 6,
   "id": "d78e4b41",
   "metadata": {},
   "outputs": [],
   "source": [
    "# arrange data\n",
    "# pseudo data females\n",
    "path = Path('/n/groups/datta/win/longtogeny/data/ontogeny/version_07/ontogeny_females_clean_pseudotime_v02.parquet')\n",
    "f_psd = pd.read_parquet(path)\n",
    "f_psd=f_psd.reset_index()\n",
    "f_psd=f_psd[['uuid','pseudotime_rank','age']]\n",
    "\n",
    "#make sure only animals in clean v2 are in the female dataframe:\n",
    "path = Path('/n/groups/datta/win/longtogeny/data/ontogeny/version_07/ontogeny_females_clean_v2.parquet')\n",
    "df_females = pd.read_parquet(path)\n",
    "df_females = remove_crl_female(df_females)\n",
    "f_psd = df_females.merge(f_psd, on='uuid', how='left')\n",
    "\n",
    "#do some cleaning up\n",
    "f_psd.rename(columns={'pseudotime_rank': 'psd'}, inplace=True)\n",
    "f_psd.set_index(['psd','uuid','age'], append=True, inplace=True)\n",
    "f_psd = f_psd.filter(regex=r'\\d')\n",
    "\n",
    "## convert male pseudotime to bins and remap the bins\n",
    "f_psd['bins'] = pd.qcut(f_psd.index.get_level_values('psd'), len(f_psd.index.get_level_values('age').unique()),labels=False)\n",
    "\n",
    "ages = f_psd.index.get_level_values('age').unique().to_numpy()\n",
    "mapdr_females = dict(zip(list(range(len(ages))), ages))\n",
    "y_temp = f_psd['bins'].to_numpy()\n",
    "y_temp = [mapdr_females[item] for item in y_temp]\n",
    "\n",
    "f_psd['remapped_bins'] = y_temp\n",
    "f_psd.set_index(['bins','remapped_bins'], \n",
    "                append=True, inplace=True)"
   ]
  },
  {
   "cell_type": "code",
   "execution_count": 7,
   "id": "3727af91",
   "metadata": {},
   "outputs": [
    {
     "name": "stdout",
     "output_type": "stream",
     "text": [
      "0.989007630091245\n"
     ]
    }
   ],
   "source": [
    "# pseudo regression\n",
    "from sklearn.cross_decomposition import PLSRegression\n",
    "from sklearn import neighbors\n",
    "mdl= neighbors.KNeighborsRegressor(n_neighbors=8)\n",
    "#mdl = PLSRegression(n_components=3)\n",
    "x = m_psd.filter(regex=r'\\d')\n",
    "y = x.index.get_level_values('psd')\n",
    "mdl.fit(x, y)\n",
    "print(mdl.score(x, y))\n",
    "\n",
    "#if you want to log transform\n",
    "#x = np.log(x + 1e-6) # convert to linear\n",
    "x = f_psd.filter(regex=r'\\d')\n",
    "psd=mdl.predict(x)"
   ]
  },
  {
   "cell_type": "code",
   "execution_count": 8,
   "id": "6cb3ce25",
   "metadata": {},
   "outputs": [],
   "source": [
    "# add female psd projected on males\n",
    "f_psd['proj_psd'] = psd\n",
    "f_psd['proj_bins'] = pd.qcut(f_psd.proj_psd, len(f_psd.index.get_level_values('age').unique()),labels=False)\n",
    "y_temp = f_psd['proj_bins'].to_numpy()\n",
    "y_temp = [mapdr_females[item] for item in y_temp]\n",
    "\n",
    "f_psd['proj_remapped_bins'] = y_temp\n",
    "f_psd.set_index(['proj_psd','proj_bins','proj_remapped_bins'], \n",
    "                append=True, inplace=True)"
   ]
  },
  {
   "cell_type": "code",
   "execution_count": 9,
   "id": "c6c0bd15",
   "metadata": {},
   "outputs": [],
   "source": [
    "f_ages = f_psd.index.get_level_values('age').unique().to_numpy()\n",
    "f_ages[f_ages==72]=78 \n",
    "# look at syllable usage diff male and females according to actual age\n",
    "m_data = m_psd.loc[m_psd.index.get_level_values('remapped_bins').isin(f_ages)]\n",
    "f_data = f_psd.copy()\n",
    "#f_data['sex'] = 'f'\n"
   ]
  },
  {
   "cell_type": "code",
   "execution_count": 10,
   "id": "595474dd",
   "metadata": {},
   "outputs": [],
   "source": [
    "m_data= m_data.groupby('remapped_bins').mean()\n",
    "f_data = f_data.groupby('remapped_bins').mean()"
   ]
  },
  {
   "cell_type": "code",
   "execution_count": 11,
   "id": "1cb1289f",
   "metadata": {},
   "outputs": [],
   "source": [
    "correlation_matrix = m_data.corrwith(f_data, axis=0, method='spearman').to_numpy()"
   ]
  },
  {
   "cell_type": "code",
   "execution_count": 18,
   "id": "e6295ef7",
   "metadata": {},
   "outputs": [
    {
     "data": {
      "image/png": "[encoded data removed]",
      "text/plain": [
       "<Figure size 400x400 with 1 Axes>"
      ]
     },
     "metadata": {},
     "output_type": "display_data"
    }
   ],
   "source": [
    "# Create a DataFrame from the correlation values list\n",
    "corr_df = pd.DataFrame(correlation_matrix, columns=['corr'])\n",
    "\n",
    "# Sort the DataFrame by correlation values\n",
    "corr_df = corr_df.sort_values(by='corr', ascending=False)\n",
    "corr_df['syll'] = list(range(len(correlation_matrix)))\n",
    "\n",
    "# Plotting\n",
    "fig = plt.figure(figsize=(2, 2))\n",
    "sns.barplot(x='syll', y='corr', data=corr_df, dodge=True, palette =\"coolwarm_r\" )\n",
    "plt.xticks(rotation=45, ha='right')\n",
    "#plt.title('Spearman Correlation between Columns of df1 and df2')\n",
    "#plt.xlabel('Columns in df1')\n",
    "plt.ylim([-1,1])\n",
    "plt.ylabel('Spearman Correlation')\n",
    "plt.tight_layout()\n",
    "sns.despine()"
   ]
  },
  {
   "cell_type": "code",
   "execution_count": 19,
   "id": "3ca624bd",
   "metadata": {},
   "outputs": [],
   "source": [
    "c = PlotConfig()\n",
    "fig.savefig(c.dana_save_path / \"fig4\"/ 'fvm_syll_corr.pdf')"
   ]
  },
  {
   "cell_type": "code",
   "execution_count": 14,
   "id": "3daaed1b",
   "metadata": {},
   "outputs": [
    {
     "ename": "AttributeError",
     "evalue": "'numpy.ndarray' object has no attribute 'to_frame'",
     "output_type": "error",
     "traceback": [
      "\u001b[0;31m---------------------------------------------------------------------------\u001b[0m",
      "\u001b[0;31mAttributeError\u001b[0m                            Traceback (most recent call last)",
      "Cell \u001b[0;32mIn[14], line 2\u001b[0m\n\u001b[1;32m      1\u001b[0m plt\u001b[38;5;241m.\u001b[39mfigure(figsize\u001b[38;5;241m=\u001b[39m(\u001b[38;5;241m10\u001b[39m, \u001b[38;5;241m8\u001b[39m))\n\u001b[0;32m----> 2\u001b[0m sns\u001b[38;5;241m.\u001b[39mheatmap(\u001b[43mcorrelation_matrix\u001b[49m\u001b[38;5;241;43m.\u001b[39;49m\u001b[43mto_frame\u001b[49m(), annot\u001b[38;5;241m=\u001b[39m\u001b[38;5;28;01mTrue\u001b[39;00m, cmap\u001b[38;5;241m=\u001b[39m\u001b[38;5;124m\"\u001b[39m\u001b[38;5;124mcoolwarm\u001b[39m\u001b[38;5;124m\"\u001b[39m, cbar\u001b[38;5;241m=\u001b[39m\u001b[38;5;28;01mTrue\u001b[39;00m, square\u001b[38;5;241m=\u001b[39m\u001b[38;5;28;01mTrue\u001b[39;00m)\n\u001b[1;32m      3\u001b[0m plt\u001b[38;5;241m.\u001b[39mtitle(\u001b[38;5;124m\"\u001b[39m\u001b[38;5;124mSpearman Correlation Heatmap\u001b[39m\u001b[38;5;124m\"\u001b[39m)\n\u001b[1;32m      4\u001b[0m plt\u001b[38;5;241m.\u001b[39mshow()\n",
      "\u001b[0;31mAttributeError\u001b[0m: 'numpy.ndarray' object has no attribute 'to_frame'"
     ]
    },
    {
     "data": {
      "text/plain": [
       "<Figure size 2000x1600 with 0 Axes>"
      ]
     },
     "metadata": {},
     "output_type": "display_data"
    }
   ],
   "source": [
    "plt.figure(figsize=(10, 8))\n",
    "sns.heatmap(correlation_matrix.to_frame(), annot=True, cmap=\"coolwarm\", cbar=True, square=True)\n",
    "plt.title(\"Spearman Correlation Heatmap\")\n",
    "plt.show()"
   ]
  },
  {
   "cell_type": "code",
   "execution_count": null,
   "id": "5557099f",
   "metadata": {},
   "outputs": [],
   "source": []
  },
  {
   "cell_type": "code",
   "execution_count": null,
   "id": "bf493acc",
   "metadata": {},
   "outputs": [],
   "source": []
  }
 ],
 "metadata": {
  "kernelspec": {
   "display_name": "Python 3 (ipykernel)",
   "language": "python",
   "name": "python3"
  },
  "language_info": {
   "codemirror_mode": {
    "name": "ipython",
    "version": 3
   },
   "file_extension": ".py",
   "mimetype": "text/x-python",
   "name": "python",
   "nbconvert_exporter": "python",
   "pygments_lexer": "ipython3",
   "version": "3.10.12"
  }
 },
 "nbformat": 4,
 "nbformat_minor": 5
}
