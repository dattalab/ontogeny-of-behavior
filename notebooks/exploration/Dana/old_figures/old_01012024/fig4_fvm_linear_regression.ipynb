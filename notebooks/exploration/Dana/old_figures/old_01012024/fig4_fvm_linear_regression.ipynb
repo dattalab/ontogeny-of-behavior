{
 "cells": [
  {
   "cell_type": "code",
   "execution_count": 24,
   "id": "a77ea523",
   "metadata": {},
   "outputs": [],
   "source": [
    "import numpy as np\n",
    "import pandas as pd\n",
    "import matplotlib.pyplot as plt\n",
    "import seaborn as sns\n",
    "from pathlib import Path\n",
    "import matplotlib as mpl\n",
    "import os\n",
    "from matplotlib.lines import Line2D\n",
    "from collections import Counter\n",
    "import math\n",
    "from sklearn.decomposition import PCA\n",
    "from aging.behavior.syllables import relabel_by_usage\n",
    "from tqdm import tqdm\n",
    "%matplotlib inline\n",
    "import warnings\n",
    "warnings.simplefilter('ignore')\n",
    "import random\n",
    "import scipy\n",
    "from sklearn.cluster import KMeans\n",
    "from sklearn.preprocessing import StandardScaler\n",
    "from sklearn.metrics import adjusted_rand_score\n",
    "from kneed import KneeLocator\n",
    "from sklearn.metrics import silhouette_score\n",
    "%matplotlib inline\n",
    "from aging.plotting import format_plots, PlotConfig, save_factory, figure, legend, format_pizza_plots"
   ]
  },
  {
   "cell_type": "code",
   "execution_count": 25,
   "id": "0a49a035",
   "metadata": {},
   "outputs": [],
   "source": [
    "#format_plots()\n",
    "#format_pizza_plots()"
   ]
  },
  {
   "cell_type": "code",
   "execution_count": 26,
   "id": "1e464ef7",
   "metadata": {},
   "outputs": [],
   "source": [
    "from matplotlib.colors import LinearSegmentedColormap\n",
    "colors = ['#fee6ce','#d94801']\n",
    "custom_cmap = LinearSegmentedColormap.from_list(\"custom_purples\", colors, N=256)\n",
    "cmf=custom_cmap\n",
    "\n",
    "colors = ['#dadaeb','#6a51a3']\n",
    "custom_cmap = LinearSegmentedColormap.from_list(\"custom_purples\", colors, N=256)\n",
    "cmm=custom_cmap"
   ]
  },
  {
   "cell_type": "code",
   "execution_count": 27,
   "id": "9711e242",
   "metadata": {},
   "outputs": [],
   "source": [
    "## update data\n",
    "def remove_crl(df):\n",
    "    max=39\n",
    "    syll=df.columns.values[df.columns.values>max]\n",
    "    #syll=(['47','48','49','50'])\n",
    "    df.drop(syll,axis=1, inplace=True)\n",
    "    #df.drop('b365ea6a-369f-4991-b139-15694dc1c86d',level=3, axis=0, inplace=True)\n",
    "    return df[~df.index.get_level_values('session_name').str.contains('CRL')]"
   ]
  },
  {
   "cell_type": "code",
   "execution_count": 28,
   "id": "3dc030e3",
   "metadata": {},
   "outputs": [],
   "source": [
    "# remapped to bins\n",
    "mapdr_females = {0: 3, \n",
    "       1: 5, \n",
    "       2: 7,\n",
    "       3: 9,\n",
    "       4: 12,\n",
    "       5: 24,\n",
    "       6: 36,\n",
    "       7: 52,\n",
    "       8: 72,\n",
    "       9: 90,\n",
    "       }\n",
    "\n",
    "mapdr_males = {0: 3, \n",
    "       1: 5, \n",
    "       2: 7,\n",
    "       3: 9,\n",
    "       4: 12,\n",
    "       5: 24,\n",
    "       6: 36,\n",
    "       7: 52,\n",
    "       8: 78,\n",
    "       9: 90,\n",
    "       }"
   ]
  },
  {
   "cell_type": "code",
   "execution_count": 29,
   "id": "b2fcee24",
   "metadata": {},
   "outputs": [],
   "source": [
    "# arrange data\n",
    "path = Path('/n/groups/datta/win/longtogeny/data/ontogeny/version_05/ontogeny_females_clean_v2.parquet')\n",
    "f_psd = pd.read_parquet(path)\n",
    "f_psd= remove_crl(f_psd)\n",
    "\n",
    "# pseudo data males\n",
    "path = Path('/n/groups/datta/win/longtogeny/data/ontogeny/version_05/ontogeny_males_clean_pseudotime_v02.parquet')\n",
    "m_psd = pd.read_parquet(path)\n",
    "m_psd=m_psd.reset_index()\n",
    "m_psd=m_psd[['uuid','pseudotime_rank','age']]\n",
    "\n",
    "#make sure only animals in clean v2 are in the male dataframe:\n",
    "path = Path('/n/groups/datta/win/longtogeny/data/ontogeny/version_05/ontogeny_males_clean_v2.parquet')\n",
    "df_males = pd.read_parquet(path)\n",
    "df_males = remove_crl(df_males)\n",
    "m_psd = df_males.merge(m_psd, on='uuid', how='left')\n",
    "\n",
    "#do some cleaning up\n",
    "m_psd.rename(columns={'pseudotime_rank': 'psd'}, inplace=True)\n",
    "m_psd.set_index(['psd','uuid','age'], append=True, inplace=True)\n",
    "m_psd = m_psd.filter(regex=r'\\d')"
   ]
  },
  {
   "cell_type": "code",
   "execution_count": 30,
   "id": "aa4f3062",
   "metadata": {},
   "outputs": [
    {
     "name": "stdout",
     "output_type": "stream",
     "text": [
      "0.9553095183555017\n"
     ]
    }
   ],
   "source": [
    "# pseudo regression\n",
    "from sklearn.cross_decomposition import PLSRegression\n",
    "mdl = PLSRegression(n_components=3)\n",
    "x = m_psd.filter(regex=r'\\d')\n",
    "y = x.index.get_level_values('psd')\n",
    "mdl.fit(x, y)\n",
    "print(mdl.score(x, y))\n",
    "\n",
    "#if you want to log transform\n",
    "#x = np.log(x + 1e-6) # convert to linear\n",
    "x = f_psd.filter(regex=r'\\d')\n",
    "f_psd['psd']=mdl.predict(x)"
   ]
  },
  {
   "cell_type": "code",
   "execution_count": 31,
   "id": "6e1e392b",
   "metadata": {},
   "outputs": [],
   "source": [
    "# to convert pseudo time into bins the lengh of the bins of cross-sectional data and remap:\n",
    "# females\n",
    "f_psd['bins'] = pd.qcut(f_psd['psd'], len(f_psd.index.get_level_values('age').unique()),labels=False)\n",
    "y_psd=f_psd['bins'].to_numpy()\n",
    "y_psd = [mapdr_females[item] for item in y_psd]\n",
    "f_psd['remapped_bins'] = y_psd\n",
    "f_psd.set_index(['remapped_bins','bins','psd'], append=True, inplace=True)\n",
    "\n",
    "# males\n",
    "m_psd['bins'] = pd.qcut(m_psd.index.get_level_values('psd'), len(m_psd.index.get_level_values('age').unique()),labels=False)\n",
    "y_psd=m_psd['bins'].to_numpy()\n",
    "y_psd = [mapdr_males[item] for item in y_psd]\n",
    "m_psd['remapped_bins'] = y_psd\n",
    "m_psd.set_index(['remapped_bins','bins'], append=True, inplace=True)"
   ]
  },
  {
   "cell_type": "code",
   "execution_count": null,
   "id": "2e09c9c8",
   "metadata": {},
   "outputs": [],
   "source": [
    "f_data = f_psd.query('remapped_bins != 90').groupby(['bins']).mean()\n",
    "f_labels = f_data.index.get_level_values('bins').to_numpy()\n",
    "\n",
    "m_data = m_psd.query('remapped_bins != 90').groupby(['bins']).mean()\n",
    "m_labels = m_data.index.get_level_values('bins').to_numpy()\n",
    "\n",
    "data_umap=np.concatenate([m_data.to_numpy(),f_data.to_numpy()], axis=1).T\n",
    "\n",
    "data_labels = f_labels\n",
    "\n",
    "#data['sex'] = ['m'] * len(m_data) + ['f']* len(f_data)\n",
    "#data.set_index('sex', append=True, inplace=True)"
   ]
  },
  {
   "cell_type": "code",
   "execution_count": 45,
   "id": "64c686d2",
   "metadata": {},
   "outputs": [],
   "source": [
    "## to use the female only pseudo time\n",
    "\n",
    "path = Path('/n/groups/datta/win/longtogeny/data/ontogeny/version_05/ontogeny_females_clean_v2.parquet')\n",
    "df_age = pd.read_parquet(path)\n",
    "df_age= remove_crl(df_age)\n",
    "\n",
    "# pseudo data\n",
    "path = Path('/n/groups/datta/win/longtogeny/data/ontogeny/version_05/ontogeny_females_clean_pseudotime_v02.parquet')\n",
    "df_psd = pd.read_parquet(path)\n",
    "df_psd=df_psd.reset_index()\n",
    "df_psd=df_psd[['uuid','pseudotime_rank']]\n",
    "df_psd = pd.merge(df_age.reset_index(),df_psd,how='left',on=['uuid'])\n",
    "\n",
    "# to convert pseudo time into bins the lengh of the bins of cross-sectional data\n",
    "df_psd['bins'] = pd.qcut(df_psd['pseudotime_rank'], len(df_age.index.get_level_values(0).unique()),labels=False)\n",
    "# prepare data\n",
    "#y_psd=df_psd['bins'].to_numpy()\n",
    "#y_psd = [mapdr[item] for item in y_psd]\n",
    "#df_psd['remapped_bins'] = y_psd\n",
    "#df_psd.set_index('remapped_bins', inplace=True)\n",
    "df_psd.set_index('bins', inplace=True)\n",
    "f_data=df_psd.filter(regex=r'\\d')\n",
    "\n",
    "f_data = f_data.groupby(['bins']).mean()\n",
    "\n",
    "m_data = m_psd.query('remapped_bins != 90').groupby(['bins']).mean()\n",
    "m_labels = m_data.index.get_level_values('bins').to_numpy()\n",
    "\n",
    "data_umap=np.concatenate([m_data.to_numpy(),f_data.to_numpy()], axis=1).T\n",
    "data_labels = m_labels"
   ]
  },
  {
   "cell_type": "code",
   "execution_count": 46,
   "id": "21c9ed0e",
   "metadata": {},
   "outputs": [
    {
     "data": {
      "text/plain": [
       "\"\\nf_data = f_psd.query('age != 90').groupby(['age']).mean()\\nf_labels = f_data.index.get_level_values('age').to_numpy()\\n\\nm_data = m_psd.query('age != 90').groupby(['age']).mean()\\nm_labels = m_data.index.get_level_values('age').to_numpy()\\n\\ndata_umap=np.concatenate([m_data.to_numpy(),f_data.to_numpy()], axis=1).T\\ndata_labels = f_labels\\n\""
      ]
     },
     "execution_count": 46,
     "metadata": {},
     "output_type": "execute_result"
    }
   ],
   "source": [
    "'''\n",
    "f_data = f_psd.query('age != 90').groupby(['age']).mean()\n",
    "f_labels = f_data.index.get_level_values('age').to_numpy()\n",
    "\n",
    "m_data = m_psd.query('age != 90').groupby(['age']).mean()\n",
    "m_labels = m_data.index.get_level_values('age').to_numpy()\n",
    "\n",
    "data_umap=np.concatenate([m_data.to_numpy(),f_data.to_numpy()], axis=1).T\n",
    "data_labels = f_labels\n",
    "'''"
   ]
  },
  {
   "cell_type": "code",
   "execution_count": 47,
   "id": "cd3ee5f1",
   "metadata": {},
   "outputs": [],
   "source": [
    "from sklearn.linear_model import LinearRegression\n",
    "import statsmodels.api as sm\n",
    "x = np.array(range(len(data_labels)))\n",
    "x = sm.add_constant(x)\n",
    "\n",
    "mdf_temp = m_data.to_numpy()\n",
    "fdf_temp = f_data.to_numpy()"
   ]
  },
  {
   "cell_type": "code",
   "execution_count": 48,
   "id": "f4ee815e",
   "metadata": {},
   "outputs": [],
   "source": [
    "fr2=[]\n",
    "fpvalue=[]\n",
    "fslop=[]\n",
    "fexp=[]\n",
    "mr2=[]\n",
    "mpvalue=[]\n",
    "mslop=[]\n",
    "mexp=[]\n",
    "\n",
    "for i in range(np.shape(mdf_temp)[1]):\n",
    "    y=mdf_temp[:,i]\n",
    "    #fit linear regression model\n",
    "    model = sm.OLS(y, x).fit()\n",
    "    #view model summary\n",
    "    mr2.append(model.rsquared)\n",
    "    mpvalue.append(model.f_pvalue)\n",
    "    mslop.append(model.params[1])\n",
    "    #fexp.append('male')\n",
    "    \n",
    "for i in range(np.shape(fdf_temp)[1]):\n",
    "    y=fdf_temp[:,i]\n",
    "    #fit linear regression model\n",
    "    model = sm.OLS(y, x).fit()\n",
    "    #view model summary\n",
    "    fr2.append(model.rsquared)\n",
    "    fpvalue.append(model.f_pvalue)\n",
    "    fslop.append(model.params[1])\n",
    "    #fexp.append('female')"
   ]
  },
  {
   "cell_type": "code",
   "execution_count": 49,
   "id": "e105f2c1",
   "metadata": {},
   "outputs": [
    {
     "data": {
      "image/png": "[encoded data removed]",
      "text/plain": [
       "<Figure size 500x500 with 1 Axes>"
      ]
     },
     "metadata": {},
     "output_type": "display_data"
    }
   ],
   "source": [
    "fig, ax = plt.subplots()\n",
    "fig.set_size_inches(5,5)\n",
    "plt.scatter(x=mslop, y=fslop)\n",
    "ax.plot([0, 1], [0, 1], transform=ax.transAxes, linestyle='--', c='r')\n",
    "sns.despine\n",
    "plt.xlabel('regression slop syllable use with age males')\n",
    "plt.ylabel('regression slop syllable use with age females')\n",
    "#plt.title('linear change in syllables in different sexes')\n",
    "sns.despine()\n",
    "#fig.savefig(data_loc +'corr_male_female_syll.pdf', bbox_inches='tight')"
   ]
  },
  {
   "cell_type": "code",
   "execution_count": null,
   "id": "cd62aebe",
   "metadata": {},
   "outputs": [],
   "source": []
  }
 ],
 "metadata": {
  "kernelspec": {
   "display_name": "Python 3 (ipykernel)",
   "language": "python",
   "name": "python3"
  },
  "language_info": {
   "codemirror_mode": {
    "name": "ipython",
    "version": 3
   },
   "file_extension": ".py",
   "mimetype": "text/x-python",
   "name": "python",
   "nbconvert_exporter": "python",
   "pygments_lexer": "ipython3",
   "version": "3.10.12"
  }
 },
 "nbformat": 4,
 "nbformat_minor": 5
}
