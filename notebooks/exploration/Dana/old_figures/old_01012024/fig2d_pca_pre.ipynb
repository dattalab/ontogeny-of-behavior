{
 "cells": [
  {
   "cell_type": "code",
   "execution_count": 1,
   "id": "a77ea523",
   "metadata": {},
   "outputs": [],
   "source": [
    "import numpy as np\n",
    "import pandas as pd\n",
    "import matplotlib.pyplot as plt\n",
    "import seaborn as sns\n",
    "from pathlib import Path\n",
    "import matplotlib as mpl\n",
    "import os\n",
    "from matplotlib.lines import Line2D\n",
    "from collections import Counter\n",
    "import math\n",
    "from sklearn.decomposition import PCA\n",
    "from aging.behavior.syllables import relabel_by_usage\n",
    "from tqdm import tqdm\n",
    "%matplotlib inline\n",
    "import warnings\n",
    "warnings.simplefilter('ignore')\n",
    "import random\n",
    "import scipy\n",
    "from aging.plotting import format_plots, PlotConfig, save_factory, figure, legend, format_pizza_plots"
   ]
  },
  {
   "cell_type": "code",
   "execution_count": 2,
   "id": "0a49a035",
   "metadata": {},
   "outputs": [],
   "source": [
    "format_plots()\n",
    "#format_pizza_plots()"
   ]
  },
  {
   "cell_type": "code",
   "execution_count": 3,
   "id": "1e464ef7",
   "metadata": {},
   "outputs": [],
   "source": [
    "from matplotlib.colors import LinearSegmentedColormap\n",
    "# Define the color map\n",
    "colors = ['#dadaeb','#6a51a3']\n",
    "custom_cmap = LinearSegmentedColormap.from_list(\"custom_purples\", colors, N=256)\n",
    "cmm=custom_cmap"
   ]
  },
  {
   "cell_type": "code",
   "execution_count": 4,
   "id": "953ccc75",
   "metadata": {},
   "outputs": [],
   "source": [
    "path = Path('/n/groups/datta/win/longtogeny/data/ontogeny/version_11/ontogeny_males_relabeled_usage_matrix_v00.parquet')\n",
    "#path = Path('/n/groups/datta/win/longtogeny/data/ontogeny/version_11/ontogeny_males_relabeled_counts_matrix_v00.parquet')\n",
    "df = pd.read_parquet(path)"
   ]
  },
  {
   "cell_type": "code",
   "execution_count": 5,
   "id": "9711e242",
   "metadata": {},
   "outputs": [],
   "source": [
    "## update data\n",
    "def filter_df(df):\n",
    "    max=39\n",
    "    #df.drop('9c060c9b-9eee-4788-90be-803700bbacd8',level=3, axis=0, inplace=True)\n",
    "    syll=df.columns.values[df.columns.values>max]\n",
    "    df.drop(syll,axis=1, inplace=True)\n",
    "    return df[~df.index.get_level_values('session_name').str.contains('CRL')]"
   ]
  },
  {
   "cell_type": "code",
   "execution_count": 6,
   "id": "b2fcee24",
   "metadata": {},
   "outputs": [
    {
     "ename": "KeyError",
     "evalue": "'Level velocity not found'",
     "output_type": "error",
     "traceback": [
      "\u001b[0;31m---------------------------------------------------------------------------\u001b[0m",
      "\u001b[0;31mValueError\u001b[0m                                Traceback (most recent call last)",
      "File \u001b[0;32m~/miniconda/envs/aging/lib/python3.10/site-packages/pandas/core/indexes/multi.py:1488\u001b[0m, in \u001b[0;36mMultiIndex._get_level_number\u001b[0;34m(self, level)\u001b[0m\n\u001b[1;32m   1487\u001b[0m \u001b[38;5;28;01mtry\u001b[39;00m:\n\u001b[0;32m-> 1488\u001b[0m     level \u001b[38;5;241m=\u001b[39m \u001b[38;5;28;43mself\u001b[39;49m\u001b[38;5;241;43m.\u001b[39;49m\u001b[43mnames\u001b[49m\u001b[38;5;241;43m.\u001b[39;49m\u001b[43mindex\u001b[49m\u001b[43m(\u001b[49m\u001b[43mlevel\u001b[49m\u001b[43m)\u001b[49m\n\u001b[1;32m   1489\u001b[0m \u001b[38;5;28;01mexcept\u001b[39;00m \u001b[38;5;167;01mValueError\u001b[39;00m \u001b[38;5;28;01mas\u001b[39;00m err:\n",
      "\u001b[0;31mValueError\u001b[0m: 'velocity' is not in list",
      "\nThe above exception was the direct cause of the following exception:\n",
      "\u001b[0;31mKeyError\u001b[0m                                  Traceback (most recent call last)",
      "Cell \u001b[0;32mIn[6], line 8\u001b[0m\n\u001b[1;32m      6\u001b[0m mice \u001b[38;5;241m=\u001b[39m data\u001b[38;5;241m.\u001b[39mindex\u001b[38;5;241m.\u001b[39mget_level_values(\u001b[38;5;124m'\u001b[39m\u001b[38;5;124muuid\u001b[39m\u001b[38;5;124m'\u001b[39m)\n\u001b[1;32m      7\u001b[0m \u001b[38;5;66;03m#data = data.to_numpy()\u001b[39;00m\n\u001b[0;32m----> 8\u001b[0m vel \u001b[38;5;241m=\u001b[39m \u001b[43mdata\u001b[49m\u001b[38;5;241;43m.\u001b[39;49m\u001b[43mindex\u001b[49m\u001b[38;5;241;43m.\u001b[39;49m\u001b[43mget_level_values\u001b[49m\u001b[43m(\u001b[49m\u001b[38;5;124;43m'\u001b[39;49m\u001b[38;5;124;43mvelocity\u001b[39;49m\u001b[38;5;124;43m'\u001b[39;49m\u001b[43m)\u001b[49m\n",
      "File \u001b[0;32m~/miniconda/envs/aging/lib/python3.10/site-packages/pandas/core/indexes/multi.py:1655\u001b[0m, in \u001b[0;36mMultiIndex.get_level_values\u001b[0;34m(self, level)\u001b[0m\n\u001b[1;32m   1607\u001b[0m \u001b[38;5;28;01mdef\u001b[39;00m \u001b[38;5;21mget_level_values\u001b[39m(\u001b[38;5;28mself\u001b[39m, level):\n\u001b[1;32m   1608\u001b[0m \u001b[38;5;250m    \u001b[39m\u001b[38;5;124;03m\"\"\"\u001b[39;00m\n\u001b[1;32m   1609\u001b[0m \u001b[38;5;124;03m    Return vector of label values for requested level.\u001b[39;00m\n\u001b[1;32m   1610\u001b[0m \n\u001b[0;32m   (...)\u001b[0m\n\u001b[1;32m   1653\u001b[0m \u001b[38;5;124;03m    Index([1.0, nan, 2.0], dtype='float64')\u001b[39;00m\n\u001b[1;32m   1654\u001b[0m \u001b[38;5;124;03m    \"\"\"\u001b[39;00m\n\u001b[0;32m-> 1655\u001b[0m     level \u001b[38;5;241m=\u001b[39m \u001b[38;5;28;43mself\u001b[39;49m\u001b[38;5;241;43m.\u001b[39;49m\u001b[43m_get_level_number\u001b[49m\u001b[43m(\u001b[49m\u001b[43mlevel\u001b[49m\u001b[43m)\u001b[49m\n\u001b[1;32m   1656\u001b[0m     values \u001b[38;5;241m=\u001b[39m \u001b[38;5;28mself\u001b[39m\u001b[38;5;241m.\u001b[39m_get_level_values(level)\n\u001b[1;32m   1657\u001b[0m     \u001b[38;5;28;01mreturn\u001b[39;00m values\n",
      "File \u001b[0;32m~/miniconda/envs/aging/lib/python3.10/site-packages/pandas/core/indexes/multi.py:1491\u001b[0m, in \u001b[0;36mMultiIndex._get_level_number\u001b[0;34m(self, level)\u001b[0m\n\u001b[1;32m   1489\u001b[0m \u001b[38;5;28;01mexcept\u001b[39;00m \u001b[38;5;167;01mValueError\u001b[39;00m \u001b[38;5;28;01mas\u001b[39;00m err:\n\u001b[1;32m   1490\u001b[0m     \u001b[38;5;28;01mif\u001b[39;00m \u001b[38;5;129;01mnot\u001b[39;00m is_integer(level):\n\u001b[0;32m-> 1491\u001b[0m         \u001b[38;5;28;01mraise\u001b[39;00m \u001b[38;5;167;01mKeyError\u001b[39;00m(\u001b[38;5;124mf\u001b[39m\u001b[38;5;124m\"\u001b[39m\u001b[38;5;124mLevel \u001b[39m\u001b[38;5;132;01m{\u001b[39;00mlevel\u001b[38;5;132;01m}\u001b[39;00m\u001b[38;5;124m not found\u001b[39m\u001b[38;5;124m\"\u001b[39m) \u001b[38;5;28;01mfrom\u001b[39;00m \u001b[38;5;21;01merr\u001b[39;00m\n\u001b[1;32m   1492\u001b[0m     \u001b[38;5;28;01mif\u001b[39;00m level \u001b[38;5;241m<\u001b[39m \u001b[38;5;241m0\u001b[39m:\n\u001b[1;32m   1493\u001b[0m         level \u001b[38;5;241m+\u001b[39m\u001b[38;5;241m=\u001b[39m \u001b[38;5;28mself\u001b[39m\u001b[38;5;241m.\u001b[39mnlevels\n",
      "\u001b[0;31mKeyError\u001b[0m: 'Level velocity not found'"
     ]
    }
   ],
   "source": [
    "# arrange data\n",
    "# arrange data\n",
    "data = df.astype(float, errors='ignore')\n",
    "data= filter_df(data).groupby(['age','uuid']).mean()\n",
    "ages = data.index.get_level_values('age')\n",
    "mice = data.index.get_level_values('uuid')\n",
    "#data = data.to_numpy()\n",
    "vel = data.index.get_level_values('velocity')"
   ]
  },
  {
   "cell_type": "code",
   "execution_count": null,
   "id": "d14cfcba",
   "metadata": {},
   "outputs": [],
   "source": [
    "pcs = PCA(n_components=2).fit_transform(np.log(data + 1e-6))\n",
    "pc_df = pd.DataFrame(pcs)\n",
    "pc_df['age'] = ages\n",
    "pc_df['vel'] = vel"
   ]
  },
  {
   "cell_type": "code",
   "execution_count": null,
   "id": "d7ef3df5",
   "metadata": {},
   "outputs": [],
   "source": [
    "pca = PCA(n_components=2)\n",
    "pca.fit_transform(np.log(data + 1e-6))\n",
    "\n",
    "# Variance explained by each principal component\n",
    "variance_explained = pca.explained_variance_ratio_\n",
    "\n",
    "# Calculate cumulative variance explained by PCs\n",
    "cumulative_variance_explained = np.cumsum(variance_explained)"
   ]
  },
  {
   "cell_type": "code",
   "execution_count": null,
   "id": "2d959ab8",
   "metadata": {},
   "outputs": [],
   "source": [
    "cumulative_variance_explained"
   ]
  },
  {
   "cell_type": "code",
   "execution_count": null,
   "id": "a505941d",
   "metadata": {},
   "outputs": [],
   "source": [
    "fig, ax = plt.subplots()\n",
    "fig.set_size_inches(4,3) \n",
    "sns.scatterplot(data=pc_df, x=pc_df[0], y=pc_df[1], \n",
    "                hue=\"age\",\n",
    "                palette=cmm,\n",
    "                legend=\"full\",\n",
    "                s=50,\n",
    "                alpha=0.7,\n",
    "                edgecolor='black',\n",
    "                linewidth=0.25,\n",
    "                ax=ax\n",
    "               )\n",
    "plt.legend(bbox_to_anchor=(1.02, 1), loc='upper left', borderaxespad=0)\n",
    "plt.xlabel(\"PC 1\")\n",
    "plt.ylabel(\"PC 2\")\n",
    "#plt.title(\"pca males\")\n",
    "sns.despine()\n",
    "\n",
    "norm = plt.Normalize(pc_df['age'].min(), pc_df['age'].max())\n",
    "sm = plt.cm.ScalarMappable(cmap=cmm, norm=norm)\n",
    "sm.set_array([])\n",
    "\n",
    "# Remove the legend and add a colorbar\n",
    "ax.get_legend().remove()\n",
    "ax.figure.colorbar(sm)\n",
    "plt.show()\n",
    "c = PlotConfig()\n",
    "fig.savefig(c.dana_save_path / \"fig2\"/ 'D_PCA_pre.pdf', bbox_inches='tight')"
   ]
  },
  {
   "cell_type": "code",
   "execution_count": null,
   "id": "050eb689",
   "metadata": {},
   "outputs": [],
   "source": [
    "fig, ax = plt.subplots()\n",
    "fig.set_size_inches(4,3) \n",
    "im=plt.scatter(x=pc_df[0], y=pc_df[1], \n",
    "                cmap=cmm,\n",
    "                s=50,\n",
    "                alpha=0.7,\n",
    "                edgecolor='black',\n",
    "                c=pc_df['age'], \n",
    "                linewidth=0.25,\n",
    "                norm='log'\n",
    "               )\n",
    "plt.legend(bbox_to_anchor=(1.02, 1), loc='upper left', borderaxespad=0)\n",
    "plt.xlabel(\"PC 1\")\n",
    "plt.ylabel(\"PC 2\")\n",
    "sns.despine()\n",
    "ax.get_legend().remove()\n",
    "cb=fig.colorbar(im,ax=ax)\n",
    "\n",
    "#plt.savefig(c.dana_save_path / \"age_vs_behavioral_age\"/ 'pca_ontogeny_pre.pdf', bbox_inches='tight')"
   ]
  },
  {
   "cell_type": "code",
   "execution_count": null,
   "id": "dca828ac",
   "metadata": {},
   "outputs": [],
   "source": [
    "## 3D scatter\n",
    "from mpl_toolkits.mplot3d import Axes3D  # Import the 3D plotting module\n",
    "\n",
    "pcs3 = PCA(n_components=3).fit_transform(np.log(data + 1e-6))\n",
    "ages = data.index.get_level_values('age')\n",
    "pc3_df = pd.DataFrame(pcs3)\n",
    "pc3_df['age'] = ages\n",
    "\n",
    "# Create a 3D figure\n",
    "fig = plt.figure(figsize=(3, 3))\n",
    "ax = fig.add_subplot(111, projection='3d')\n",
    "\n",
    "scatter = ax.scatter(pc3_df[0], pc3_df[1], pc3_df[2], c=ages, cmap=cmm)\n",
    "\n",
    "cbar = plt.colorbar(scatter)\n",
    "cbar.set_label('age')\n",
    "\n",
    "# Set custom viewing angles (elevation, azimuthal)\n",
    "#ax.view_init(elev=50, azim=150)\n",
    "\n",
    "# Set labels for each axis\n",
    "ax.set_xlabel('PC1')\n",
    "ax.set_ylabel('PC2')\n",
    "ax.set_zlabel('PC3')"
   ]
  },
  {
   "cell_type": "code",
   "execution_count": null,
   "id": "0e65746b",
   "metadata": {},
   "outputs": [],
   "source": [
    "c = PlotConfig()\n",
    "#fig.savefig(c.dana_save_path / \"age_vs_behavioral_age\"/ 'pca_ontogeny_pre.pdf', bbox_inches='tight')\n",
    "#saver(fig,'pca_ontogeny_pre.pdf', tight_layout=True);"
   ]
  },
  {
   "cell_type": "code",
   "execution_count": null,
   "id": "344d1022",
   "metadata": {},
   "outputs": [],
   "source": [
    "#PC1 correlation\n",
    "from scipy import stats\n",
    "[c,p] = stats.spearmanr(pc_df[0], ages)"
   ]
  },
  {
   "cell_type": "code",
   "execution_count": null,
   "id": "e27b81ef",
   "metadata": {},
   "outputs": [],
   "source": [
    "fig, ax = plt.subplots()\n",
    "fig.set_size_inches(4,3) \n",
    "plt.scatter(x=np.log(pc_df['age']), y=pc_df[0], \n",
    "            s=40, \n",
    "            c=pc_df['age'], \n",
    "            edgecolor='black',\n",
    "            linewidth=0.25,\n",
    "            norm='log',\n",
    "            cmap=cmm)\n",
    "#ax = sns.regplot(data=pc_df, x='age', y=pc_df[0], scatter=False, color='black', logx=True)\n",
    "ax = sns.regplot(x=np.log(pc_df['age']), y=pc_df[0], scatter=False, color='black', \n",
    "                 #logx=True, \n",
    "                 order=2)\n",
    "ax.set(xlabel='Age (weeks)', ylabel='PC 1')\n",
    "plt.title(f'$\\\\rho$={c:0.2f}')\n",
    "norm = plt.Normalize(pc_df['age'].min(), pc_df['age'].max())\n",
    "sns.despine()\n",
    "sm = plt.cm.ScalarMappable(cmap=cmm, norm=norm)\n",
    "sm.set_array([])\n",
    "\n",
    "# Remove the legend and add a colorbar\n",
    "ax.figure.colorbar(sm)\n",
    "c = PlotConfig()\n",
    "plt.savefig(c.dana_save_path / \"fig2\"/ 'D_PCA_pre_correaltion.pdf', bbox_inches='tight')"
   ]
  },
  {
   "cell_type": "code",
   "execution_count": null,
   "id": "8abad260",
   "metadata": {},
   "outputs": [],
   "source": [
    "#PC1 correlation\n",
    "from scipy import stats\n",
    "[c,p] = stats.spearmanr(pc_df[0], ages)"
   ]
  },
  {
   "cell_type": "code",
   "execution_count": null,
   "id": "8a05b0e9",
   "metadata": {},
   "outputs": [],
   "source": [
    "fig, ax = plt.subplots()\n",
    "fig.set_size_inches(4,3) \n",
    "im = plt.scatter(x=pc_df['age'], y=pc_df[0], \n",
    "            s=50, \n",
    "            c=pc_df['age'], \n",
    "            edgecolor='black',\n",
    "            linewidth=0.5,\n",
    "            #norm='log',\n",
    "            cmap=cmm)\n",
    "cb=fig.colorbar(im,ax=ax)\n",
    "plt.title(f'$\\\\rho$={c:0.2f}')\n",
    "ax = sns.regplot(data=pc_df, x='age', y=pc_df[0], scatter=False, color='black', logx=True)\n",
    "ax.set(xlabel='Age (weeks)', ylabel='PC 1')\n",
    "sns.despine()"
   ]
  },
  {
   "cell_type": "code",
   "execution_count": null,
   "id": "c3d2b67f",
   "metadata": {},
   "outputs": [],
   "source": [
    "c = PlotConfig()\n",
    "fig.savefig(c.dana_save_path / \"fig2\"/ 'D_PCA_pre_correlation.pdf', bbox_inches='tight')"
   ]
  },
  {
   "cell_type": "code",
   "execution_count": null,
   "id": "6e752609",
   "metadata": {},
   "outputs": [],
   "source": []
  },
  {
   "cell_type": "code",
   "execution_count": null,
   "id": "5ce7f466",
   "metadata": {},
   "outputs": [],
   "source": [
    "#PC1 correlation\n",
    "from scipy import stats\n",
    "pc_df = pc_df.query('vel<4')\n",
    "[c,p] = stats.spearmanr(pc_df[1], pc_df['vel'])"
   ]
  },
  {
   "cell_type": "code",
   "execution_count": null,
   "id": "8c73a1c3",
   "metadata": {},
   "outputs": [],
   "source": []
  },
  {
   "cell_type": "code",
   "execution_count": null,
   "id": "4b4bb686",
   "metadata": {},
   "outputs": [],
   "source": [
    "fig, ax = plt.subplots()\n",
    "fig.set_size_inches(4,3) \n",
    "im = plt.scatter(x=pc_df['vel'], y=pc_df[1], \n",
    "            s=50, \n",
    "            c=pc_df['vel'], \n",
    "            edgecolor='black',\n",
    "            linewidth=0.5,\n",
    "            #norm='log',\n",
    "            cmap=cmm)\n",
    "cb=fig.colorbar(im,ax=ax)\n",
    "plt.title(f'$\\\\rho$={c:0.2f}')\n",
    "ax = sns.regplot(data=pc_df, x='vel', y=pc_df[1], scatter=False, color='black', logx=False)\n",
    "ax.set(xlabel='velocity', ylabel='PC 2')\n",
    "sns.despine()"
   ]
  },
  {
   "cell_type": "code",
   "execution_count": null,
   "id": "0fa70b33",
   "metadata": {},
   "outputs": [],
   "source": [
    "c = PlotConfig()\n",
    "fig.savefig(c.dana_save_path / \"fig2\"/ 'D_PC2_pre_correlation.pdf', bbox_inches='tight')"
   ]
  },
  {
   "cell_type": "code",
   "execution_count": null,
   "id": "abe60017",
   "metadata": {},
   "outputs": [],
   "source": [
    "#c = PlotConfig()\n",
    "#saver(fig,'pca_ontogeny_pre_correlation.pdf', tight_layout=True);\n",
    "c = PlotConfig()\n",
    "#fig.savefig(c.dana_save_path / \"age_vs_behavioral_age\"/ 'pca_ontogeny_pre_correlation.pdf')"
   ]
  },
  {
   "cell_type": "code",
   "execution_count": null,
   "id": "508b886d",
   "metadata": {},
   "outputs": [],
   "source": [
    "# Variance explained by each principal component\n",
    "variance_explained = pca.explained_variance_ratio_\n",
    "\n",
    "# Calculate cumulative variance explained by PCs\n",
    "cumulative_variance_explained = np.cumsum(variance_explained)"
   ]
  }
 ],
 "metadata": {
  "kernelspec": {
   "display_name": "Python 3 (ipykernel)",
   "language": "python",
   "name": "python3"
  },
  "language_info": {
   "codemirror_mode": {
    "name": "ipython",
    "version": 3
   },
   "file_extension": ".py",
   "mimetype": "text/x-python",
   "name": "python",
   "nbconvert_exporter": "python",
   "pygments_lexer": "ipython3",
   "version": "3.10.12"
  }
 },
 "nbformat": 4,
 "nbformat_minor": 5
}
