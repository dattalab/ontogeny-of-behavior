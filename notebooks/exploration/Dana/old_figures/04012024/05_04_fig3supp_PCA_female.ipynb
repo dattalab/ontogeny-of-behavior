{
 "cells": [
  {
   "cell_type": "code",
   "execution_count": 1,
   "id": "a77ea523",
   "metadata": {},
   "outputs": [],
   "source": [
    "import numpy as np\n",
    "import pandas as pd\n",
    "import seaborn as sns\n",
    "import matplotlib.pyplot as plt\n",
    "from aging.plotting import format_plots, PlotConfig, save_factory, figure, legend, format_pizza_plots\n",
    "from collections import Counter\n",
    "from matplotlib.lines import Line2D"
   ]
  },
  {
   "cell_type": "code",
   "execution_count": 2,
   "id": "d1dc615e",
   "metadata": {},
   "outputs": [],
   "source": [
    "import numpy as np\n",
    "import pandas as pd\n",
    "import matplotlib.pyplot as plt\n",
    "import seaborn as sns\n",
    "import colorcet as cc\n",
    "from operator import add\n",
    "from tqdm.auto import tqdm\n",
    "from functools import reduce\n",
    "from sklearn.cluster import KMeans\n",
    "from sklearn.decomposition import PCA\n",
    "from scipy.spatial.distance import squareform, pdist\n",
    "from sklearn.metrics import silhouette_score\n",
    "from aging.plotting import format_plots, figure, save_factory, PlotConfig, legend, add_identity"
   ]
  },
  {
   "cell_type": "code",
   "execution_count": 3,
   "id": "86571b2b",
   "metadata": {},
   "outputs": [],
   "source": [
    "def mm_norm_col(column):\n",
    "    return (column - column.min()) / (column.max() - column.min())"
   ]
  },
  {
   "cell_type": "code",
   "execution_count": 4,
   "id": "25a26386",
   "metadata": {},
   "outputs": [],
   "source": [
    "from matplotlib.colors import LinearSegmentedColormap\n",
    "colors = ['#c7eae5','#008C8D']\n",
    "custom_cmap = LinearSegmentedColormap.from_list(\"custom_purples\", colors, N=256)\n",
    "cmm=custom_cmap\n",
    "# Define the color map\n",
    "colors = ['#fee6ce','#d94801']\n",
    "custom_cmap = LinearSegmentedColormap.from_list(\"custom_purples\", colors, N=256)\n",
    "cmf=custom_cmap\n",
    "\n",
    "image_ctx = {'image.cmap': 'cubehelix', 'image.interpolation': 'none'}"
   ]
  },
  {
   "cell_type": "code",
   "execution_count": 5,
   "id": "e34ebdd1",
   "metadata": {},
   "outputs": [],
   "source": [
    "## arrange data\n",
    "keep_syllables = np.loadtxt('/n/groups/datta/win/longtogeny/data/ontogeny/version_11/to_keep_syllables_raw.txt', dtype=int)\n",
    "\n",
    "male_df = pd.read_parquet('/n/groups/datta/win/longtogeny/data/ontogeny/version_11/ontogeny_females_raw_usage_matrix_v00.parquet').astype(float)\n",
    "male_df = male_df[keep_syllables]\n",
    "\n",
    "#male_df = male_df.query('age<100')"
   ]
  },
  {
   "cell_type": "code",
   "execution_count": 6,
   "id": "3b206b07",
   "metadata": {},
   "outputs": [],
   "source": [
    "# avarage per age or session\n",
    "m_df= male_df.groupby(['age','uuid']).mean()\n",
    "avg_m_df = male_df.groupby(['age']).mean()\n",
    "\n",
    "# normalize the data\n",
    "m_norm = mm_norm_col(m_df)\n",
    "avg_m_norm = mm_norm_col(avg_m_df)"
   ]
  },
  {
   "cell_type": "code",
   "execution_count": 7,
   "id": "2db431fd",
   "metadata": {},
   "outputs": [],
   "source": [
    "pc = PCA(n_components=3)\n",
    "#pc.fit(m_data)\n",
    "pcs_male = pc.fit_transform(m_norm)\n",
    "pcm = pd.DataFrame(pcs_male)\n",
    "pcm['psd'] = m_norm.index.get_level_values('age')"
   ]
  },
  {
   "cell_type": "code",
   "execution_count": 8,
   "id": "3b17acd1",
   "metadata": {},
   "outputs": [],
   "source": [
    "fig, ax = plt.subplots()\n",
    "fig.set_size_inches(4,3) \n",
    "im = plt.scatter(x=pcm[0], y=pcm[1], \n",
    "                cmap=cmf,\n",
    "                s=50,\n",
    "                edgecolor='silver',\n",
    "                c=pcm['psd'], \n",
    "                linewidth=0.25,\n",
    "                #norm='log',\n",
    "            alpha=0.75,\n",
    "               )\n",
    "cb=fig.colorbar(im,ax=ax)\n",
    "sns.despine()\n",
    "plt.title('female ontogeny')\n",
    "plt.xlabel('pc 1')\n",
    "plt.ylabel('pc 2')\n",
    "c = PlotConfig()\n",
    "#fig.savefig(c.dana_save_path / \"simons\"/ 'pca_male.pdf')"
   ]
  },
  {
   "cell_type": "code",
   "execution_count": 9,
   "id": "a791a6aa",
   "metadata": {},
   "outputs": [],
   "source": [
    "c = PlotConfig()\n",
    "fig.savefig(c.dana_save_path / \"fig3\"/ 'female_pca.pdf')"
   ]
  },
  {
   "cell_type": "code",
   "execution_count": 10,
   "id": "35ddfe80",
   "metadata": {},
   "outputs": [],
   "source": [
    "variance_explained = pc.explained_variance_ratio_\n",
    "# Calculate cumulative variance explained by PCs\n",
    "cumulative_variance_explained = np.cumsum(variance_explained)"
   ]
  },
  {
   "cell_type": "code",
   "execution_count": 11,
   "id": "062c6e66",
   "metadata": {},
   "outputs": [],
   "source": [
    "cumulative_variance_explained"
   ]
  },
  {
   "cell_type": "code",
   "execution_count": 12,
   "id": "8f3862b8",
   "metadata": {},
   "outputs": [],
   "source": [
    "#PC1 correlation\n",
    "from scipy import stats\n",
    "[cm,pm] = stats.spearmanr(pcm[0], pcm['psd'])\n",
    "print(cm)"
   ]
  },
  {
   "cell_type": "code",
   "execution_count": 13,
   "id": "f872f3b3",
   "metadata": {},
   "outputs": [],
   "source": [
    "fig, ax = plt.subplots()\n",
    "fig.set_size_inches(4,3) \n",
    "plt.scatter(x=pcm['psd'], y=pcm[0], \n",
    "            s=30, \n",
    "            c=pcm['psd'], \n",
    "            edgecolor='none',\n",
    "            linewidth=0.25,\n",
    "            #norm='log',\n",
    "            alpha=0.75,\n",
    "            cmap=cmf)\n",
    "ax = sns.regplot(data=pcm, x='psd', y=pcm[0], scatter=False, color='black',\n",
    "                 logx=True,\n",
    "                )\n",
    "ax.set(xlabel='age (wks)', ylabel='PC 1')\n",
    "plt.title(f'$\\\\rho$={cm:0.2f}')\n",
    "norm = plt.Normalize(pcm['psd'].min(), pcm['psd'].max())\n",
    "sns.despine()\n",
    "sm = plt.cm.ScalarMappable(cmap=cmf, norm=norm)\n",
    "#sm = plt.cm.ScalarMappable(cmap=cmm)\n",
    "sm.set_array([])\n",
    "\n",
    "# Remove the legend and add a colorbar\n",
    "ax.figure.colorbar(sm)\n",
    "\n",
    "c = PlotConfig()\n",
    "fig.savefig(c.dana_save_path / \"fig3\"/ 'female_pca_corr.pdf')"
   ]
  },
  {
   "cell_type": "code",
   "execution_count": null,
   "id": "fbc08584",
   "metadata": {},
   "outputs": [],
   "source": []
  }
 ],
 "metadata": {
  "kernelspec": {
   "display_name": "Python 3 (ipykernel)",
   "language": "python",
   "name": "python3"
  },
  "language_info": {
   "codemirror_mode": {
    "name": "ipython",
    "version": 3
   },
   "file_extension": ".py",
   "mimetype": "text/x-python",
   "name": "python",
   "nbconvert_exporter": "python",
   "pygments_lexer": "ipython3",
   "version": "3.10.12"
  }
 },
 "nbformat": 4,
 "nbformat_minor": 5
}
