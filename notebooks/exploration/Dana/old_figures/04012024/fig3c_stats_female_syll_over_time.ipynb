{
 "cells": [
  {
   "cell_type": "code",
   "execution_count": 1,
   "id": "a77ea523",
   "metadata": {},
   "outputs": [],
   "source": [
    "import numpy as np\n",
    "import pandas as pd\n",
    "import matplotlib.pyplot as plt\n",
    "import seaborn as sns\n",
    "from pathlib import Path\n",
    "import matplotlib as mpl\n",
    "import os\n",
    "from matplotlib.lines import Line2D\n",
    "from collections import Counter\n",
    "import math\n",
    "from sklearn.decomposition import PCA\n",
    "from aging.behavior.syllables import relabel_by_usage\n",
    "from tqdm import tqdm\n",
    "%matplotlib inline\n",
    "import warnings\n",
    "warnings.simplefilter('ignore')\n",
    "import random\n",
    "import scipy\n",
    "from scipy import stats\n",
    "from aging.plotting import format_plots, PlotConfig, save_factory, figure, legend, format_pizza_plots"
   ]
  },
  {
   "cell_type": "code",
   "execution_count": 2,
   "id": "0a49a035",
   "metadata": {},
   "outputs": [],
   "source": [
    "format_plots()\n",
    "#format_pizza_plots()"
   ]
  },
  {
   "cell_type": "code",
   "execution_count": 3,
   "id": "1e464ef7",
   "metadata": {},
   "outputs": [],
   "source": [
    "from matplotlib.colors import LinearSegmentedColormap\n",
    "# Define the color map\n",
    "colors = ['#fee6ce','#d94801']\n",
    "custom_cmap = LinearSegmentedColormap.from_list(\"custom_purples\", colors, N=256)\n",
    "cmf=custom_cmap\n",
    "\n",
    "colors = ['#c7eae5','#008C8D']\n",
    "custom_cmap = LinearSegmentedColormap.from_list(\"custom_purples\", colors, N=256)\n",
    "cmm=custom_cmap"
   ]
  },
  {
   "cell_type": "code",
   "execution_count": 4,
   "id": "9711e242",
   "metadata": {},
   "outputs": [],
   "source": [
    "## update data\n",
    "def filter_df(df):\n",
    "    max=39\n",
    "    syll=df.columns.values[df.columns.values>max]\n",
    "    df.drop(syll,axis=1, inplace=True)\n",
    "    return df[~df.index.get_level_values('session_name').str.contains('CRL')]"
   ]
  },
  {
   "cell_type": "code",
   "execution_count": 5,
   "id": "25fc06e7",
   "metadata": {},
   "outputs": [],
   "source": [
    "## female change in rate by male arrangement"
   ]
  },
  {
   "cell_type": "code",
   "execution_count": 6,
   "id": "60101642",
   "metadata": {},
   "outputs": [],
   "source": [
    "path = Path('/n/groups/datta/win/longtogeny/data/ontogeny/version_11/dana_ontogeny_females_relabeled_usage_matrix_v00.parquet')\n",
    "df_dana = pd.read_parquet(path)\n",
    "\n",
    "path = Path('/n/groups/datta/win/longtogeny/data/ontogeny/version_11/ontogeny_females_relabeled_usage_matrix_v00.parquet')\n",
    "df = pd.read_parquet(path)"
   ]
  },
  {
   "cell_type": "code",
   "execution_count": 7,
   "id": "b80c5329",
   "metadata": {},
   "outputs": [],
   "source": [
    "# arrange data\n",
    "data = df.astype(float, errors='ignore')\n",
    "data= filter_df(data).groupby(['age','uuid']).mean()\n",
    "data['data'] = 'min'\n",
    "data.set_index('data', inplace=True, append=True)\n",
    "\n",
    "data_dana = df_dana.astype(float, errors='ignore')\n",
    "data_dana= filter_df(data_dana).groupby(['age','uuid']).mean()\n",
    "data_dana['data'] = 'dana'\n",
    "data_dana.set_index('data', inplace=True, append=True)\n",
    "\n",
    "data_all = pd.concat([data,data_dana])\n",
    "# choose 16 mice from all dataset\n",
    "random_seed = 0\n",
    "n=16\n",
    "data_all = data_all.groupby('age').apply(lambda x: x.sample(n=n,replace=False,random_state=random_seed) if len(x)>n else x.sample(n=len(x),replace=False,random_state=random_seed)).reset_index(level=0, drop=True)\n",
    "data_all = data_all[sorted(data_all.columns)]"
   ]
  },
  {
   "cell_type": "code",
   "execution_count": 8,
   "id": "43bc2728",
   "metadata": {},
   "outputs": [],
   "source": [
    "data = data_all.copy()\n",
    "data_labels = data.index.get_level_values('age').to_numpy()"
   ]
  },
  {
   "cell_type": "code",
   "execution_count": 9,
   "id": "191ebc33",
   "metadata": {},
   "outputs": [],
   "source": [
    "temp = data_all.copy()\n",
    "temp.reset_index(inplace=True)\n",
    "\n",
    "if 'level_0' in temp.columns:\n",
    "    temp.drop(columns=['level_0'], inplace=True)"
   ]
  },
  {
   "cell_type": "code",
   "execution_count": 10,
   "id": "b2bbbd6e",
   "metadata": {},
   "outputs": [
    {
     "name": "stdout",
     "output_type": "stream",
     "text": [
      "H-statistic: 162.5520467449705\n",
      "p-value: 1.02285400246249e-21\n",
      "H-statistic: 125.75326408627802\n",
      "p-value: 4.8374034645542244e-15\n",
      "H-statistic: 106.99325030836928\n",
      "p-value: 8.585340002633518e-12\n",
      "H-statistic: 126.41751216084572\n",
      "p-value: 3.6924495136641796e-15\n",
      "H-statistic: 101.45987125628926\n",
      "p-value: 7.329431354086293e-11\n",
      "H-statistic: 128.39272245957275\n",
      "p-value: 1.6508491202834722e-15\n",
      "H-statistic: 123.04678384575514\n",
      "p-value: 1.44905486835788e-14\n",
      "H-statistic: 61.46056901386293\n",
      "p-value: 0.00010637185985431817\n",
      "H-statistic: 105.61889653875414\n",
      "p-value: 1.4667691902107613e-11\n",
      "H-statistic: 125.15647297348735\n",
      "p-value: 6.164233833516544e-15\n",
      "H-statistic: 102.7685959345034\n",
      "p-value: 4.4266024893223015e-11\n",
      "H-statistic: 233.5177182584873\n",
      "p-value: 2.924469812495588e-35\n",
      "H-statistic: 248.5804822372166\n",
      "p-value: 3.296334852720808e-38\n",
      "H-statistic: 91.71044328809899\n",
      "p-value: 2.9458889088789076e-09\n",
      "H-statistic: 104.84810845945245\n",
      "p-value: 1.9790172993448933e-11\n",
      "H-statistic: 122.97860386582667\n",
      "p-value: 1.4895567869582714e-14\n",
      "H-statistic: 31.46040876661165\n",
      "p-value: 0.2115675099378699\n",
      "H-statistic: 146.96506757133935\n",
      "p-value: 7.532162957142581e-19\n",
      "H-statistic: 173.20141800204235\n",
      "p-value: 1.0557986839739566e-23\n",
      "H-statistic: 133.0060451656618\n",
      "p-value: 2.4923370139436454e-16\n",
      "H-statistic: 117.01394115304174\n",
      "p-value: 1.6379688674268804e-13\n",
      "H-statistic: 198.39501200605432\n",
      "p-value: 1.7867819340101673e-28\n",
      "H-statistic: 114.1236645794201\n",
      "p-value: 5.179428275879393e-13\n",
      "H-statistic: 82.23967143463368\n",
      "p-value: 9.428156270993574e-08\n",
      "H-statistic: 125.5375662350425\n",
      "p-value: 5.280461399012372e-15\n",
      "H-statistic: 177.784819295841\n",
      "p-value: 1.4543939975226403e-24\n",
      "H-statistic: 130.51109569595474\n",
      "p-value: 6.941370223251861e-16\n",
      "H-statistic: 197.67353986643369\n",
      "p-value: 2.4545022729426893e-28\n",
      "H-statistic: 175.91077277779573\n",
      "p-value: 3.2741685640158003e-24\n",
      "H-statistic: 156.4604031836268\n",
      "p-value: 1.3689368406186168e-20\n",
      "H-statistic: 105.2180423136529\n",
      "p-value: 1.7141469392618263e-11\n",
      "H-statistic: 123.13186993692733\n",
      "p-value: 1.400044290612752e-14\n",
      "H-statistic: 130.1946961326753\n",
      "p-value: 7.90184424542895e-16\n",
      "H-statistic: 128.24042502987942\n",
      "p-value: 1.7567349409052855e-15\n",
      "H-statistic: 99.78745826399602\n",
      "p-value: 1.3922971483541886e-10\n",
      "H-statistic: 134.0281907702897\n",
      "p-value: 1.6362497697848507e-16\n",
      "H-statistic: 115.67930708253449\n",
      "p-value: 2.7897454174889366e-13\n",
      "H-statistic: 125.26265521316755\n",
      "p-value: 5.904159914063342e-15\n",
      "H-statistic: 259.50902628228846\n",
      "p-value: 2.329376558132106e-40\n",
      "H-statistic: 165.25071325442698\n",
      "p-value: 3.224249600327206e-22\n"
     ]
    }
   ],
   "source": [
    "# for all syllables\n",
    "syll = data_all.columns\n",
    "n=len(syll)\n",
    "s=[]\n",
    "p=[]\n",
    "h=[]\n",
    "a = 0.05\n",
    "\n",
    "for i in syll:\n",
    "    # Melt the DataFrame\n",
    "    melted_df = pd.melt(temp, id_vars='age', value_vars=[i], value_name='value')\n",
    "    melted_df.drop(columns=['variable'], inplace=True)\n",
    "    h_statistic, p_value = stats.kruskal(*[group['value'] for name, group in melted_df.groupby('age')])\n",
    "\n",
    "    # Print the results\n",
    "    print(\"H-statistic:\", h_statistic)\n",
    "    print(\"p-value:\", p_value)\n",
    "    cp = p_value*n\n",
    "    if cp<0.05:\n",
    "        s.extend([i])\n",
    "        p.extend([cp])\n",
    "        h.extend([h])"
   ]
  },
  {
   "cell_type": "code",
   "execution_count": 11,
   "id": "a68f11b5",
   "metadata": {},
   "outputs": [
    {
     "name": "stdout",
     "output_type": "stream",
     "text": [
      "39\n"
     ]
    }
   ],
   "source": [
    "print(len(s))"
   ]
  },
  {
   "cell_type": "code",
   "execution_count": 12,
   "id": "ea9aaba6",
   "metadata": {},
   "outputs": [
    {
     "data": {
      "text/plain": [
       "[0,\n",
       " 1,\n",
       " 2,\n",
       " 3,\n",
       " 4,\n",
       " 5,\n",
       " 6,\n",
       " 7,\n",
       " 8,\n",
       " 9,\n",
       " 10,\n",
       " 11,\n",
       " 12,\n",
       " 13,\n",
       " 14,\n",
       " 15,\n",
       " 17,\n",
       " 18,\n",
       " 19,\n",
       " 20,\n",
       " 21,\n",
       " 22,\n",
       " 23,\n",
       " 24,\n",
       " 25,\n",
       " 26,\n",
       " 27,\n",
       " 28,\n",
       " 29,\n",
       " 30,\n",
       " 31,\n",
       " 32,\n",
       " 33,\n",
       " 34,\n",
       " 35,\n",
       " 36,\n",
       " 37,\n",
       " 38,\n",
       " 39]"
      ]
     },
     "execution_count": 12,
     "metadata": {},
     "output_type": "execute_result"
    }
   ],
   "source": [
    "s"
   ]
  },
  {
   "cell_type": "code",
   "execution_count": null,
   "id": "4e99416a",
   "metadata": {},
   "outputs": [],
   "source": []
  }
 ],
 "metadata": {
  "kernelspec": {
   "display_name": "Python 3 (ipykernel)",
   "language": "python",
   "name": "python3"
  },
  "language_info": {
   "codemirror_mode": {
    "name": "ipython",
    "version": 3
   },
   "file_extension": ".py",
   "mimetype": "text/x-python",
   "name": "python",
   "nbconvert_exporter": "python",
   "pygments_lexer": "ipython3",
   "version": "3.10.12"
  }
 },
 "nbformat": 4,
 "nbformat_minor": 5
}
