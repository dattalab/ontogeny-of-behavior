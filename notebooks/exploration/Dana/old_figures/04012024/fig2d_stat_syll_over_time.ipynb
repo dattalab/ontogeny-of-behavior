{
 "cells": [
  {
   "cell_type": "code",
   "execution_count": 1,
   "id": "a77ea523",
   "metadata": {},
   "outputs": [],
   "source": [
    "import numpy as np\n",
    "import pandas as pd\n",
    "import matplotlib.pyplot as plt\n",
    "import seaborn as sns\n",
    "from pathlib import Path\n",
    "import matplotlib as mpl\n",
    "import os\n",
    "from matplotlib.lines import Line2D\n",
    "from collections import Counter\n",
    "import math\n",
    "from sklearn.decomposition import PCA\n",
    "from aging.behavior.syllables import relabel_by_usage\n",
    "from tqdm import tqdm\n",
    "%matplotlib inline\n",
    "import warnings\n",
    "warnings.simplefilter('ignore')\n",
    "import random\n",
    "import scipy\n",
    "from scipy import stats\n",
    "from aging.plotting import format_plots, PlotConfig, save_factory, figure, legend, format_pizza_plots"
   ]
  },
  {
   "cell_type": "code",
   "execution_count": 2,
   "id": "0a49a035",
   "metadata": {},
   "outputs": [],
   "source": [
    "format_plots()\n",
    "#format_pizza_plots()"
   ]
  },
  {
   "cell_type": "code",
   "execution_count": 3,
   "id": "1e464ef7",
   "metadata": {},
   "outputs": [],
   "source": [
    "from matplotlib.colors import LinearSegmentedColormap\n",
    "colors = ['#c7eae5','#008C8D']\n",
    "custom_cmap = LinearSegmentedColormap.from_list(\"custom_purples\", colors, N=256)\n",
    "cmm=custom_cmap"
   ]
  },
  {
   "cell_type": "code",
   "execution_count": 4,
   "id": "9711e242",
   "metadata": {},
   "outputs": [],
   "source": [
    "## update data\n",
    "def filter_df(df):\n",
    "    max=39\n",
    "    syll=df.columns.values[df.columns.values>max]\n",
    "    df.drop(syll,axis=1, inplace=True)\n",
    "    return df[~df.index.get_level_values('session_name').str.contains('CRL')]"
   ]
  },
  {
   "cell_type": "code",
   "execution_count": 5,
   "id": "d66eabbe",
   "metadata": {},
   "outputs": [],
   "source": [
    "path = Path('/n/groups/datta/win/longtogeny/data/ontogeny/version_11/dana_ontogeny_males_relabeled_usage_matrix_v00.parquet')\n",
    "df_dana = pd.read_parquet(path)\n",
    "\n",
    "path = Path('/n/groups/datta/win/longtogeny/data/ontogeny/version_11/ontogeny_males_relabeled_usage_matrix_v00.parquet')\n",
    "df = pd.read_parquet(path)"
   ]
  },
  {
   "cell_type": "code",
   "execution_count": 6,
   "id": "d423fb5a",
   "metadata": {},
   "outputs": [],
   "source": [
    "# arrange data\n",
    "data = df.astype(float, errors='ignore')\n",
    "data= filter_df(data).groupby(['age','uuid']).mean()\n",
    "\n",
    "\n",
    "data_dana = df_dana.astype(float, errors='ignore')\n",
    "data_dana= filter_df(data_dana).groupby(['age','uuid']).mean()\n",
    "\n",
    "\n",
    "data_all = pd.concat([data,data_dana])\n",
    "# choose 16 mice from all dataset\n",
    "random_seed = 0\n",
    "n=16\n",
    "data_all = data_all.groupby('age').apply(lambda x: x.sample(n=n,replace=False,random_state=random_seed) if len(x)>n else x.sample(n=len(x),replace=False,random_state=random_seed)).reset_index(level=0, drop=True)\n",
    "data_all = data_all[sorted(data_all.columns)]"
   ]
  },
  {
   "cell_type": "code",
   "execution_count": 7,
   "id": "05aebff3",
   "metadata": {},
   "outputs": [],
   "source": [
    "temp = data_all.copy()\n",
    "temp.reset_index(inplace=True)\n",
    "\n",
    "if 'level_0' in temp.columns:\n",
    "    temp.drop(columns=['level_0'], inplace=True)"
   ]
  },
  {
   "cell_type": "code",
   "execution_count": 18,
   "id": "d35144f5",
   "metadata": {},
   "outputs": [
    {
     "name": "stdout",
     "output_type": "stream",
     "text": [
      "H-statistic: 249.65669651486087\n",
      "p-value: 2.026060799866141e-38\n",
      "H-statistic: 212.9601322327182\n",
      "p-value: 2.8479720534505984e-31\n",
      "H-statistic: 110.31434543987984\n",
      "p-value: 2.3352917555431583e-12\n",
      "H-statistic: 193.10866499026133\n",
      "p-value: 1.8232105703082772e-27\n",
      "H-statistic: 115.19854968627783\n",
      "p-value: 3.3783637279023696e-13\n",
      "H-statistic: 141.54473979000932\n",
      "p-value: 7.264744406363365e-18\n",
      "H-statistic: 189.50682356154275\n",
      "p-value: 8.830517728018593e-27\n",
      "H-statistic: 134.6985252062413\n",
      "p-value: 1.2411857129312394e-16\n",
      "H-statistic: 148.12680221613493\n",
      "p-value: 4.624304898978107e-19\n",
      "H-statistic: 124.52418642297448\n",
      "p-value: 7.96678080483509e-15\n",
      "H-statistic: 234.2297604075466\n",
      "p-value: 2.123967595074595e-35\n",
      "H-statistic: 181.19388877700183\n",
      "p-value: 3.3125410844982847e-25\n",
      "H-statistic: 223.547432906981\n",
      "p-value: 2.545908144648086e-33\n",
      "H-statistic: 130.20081418772259\n",
      "p-value: 7.882072490029997e-16\n",
      "H-statistic: 146.93127368194152\n",
      "p-value: 7.639733972444476e-19\n",
      "H-statistic: 118.79911095176085\n",
      "p-value: 8.016225505437873e-14\n",
      "H-statistic: 55.918894315833086\n",
      "p-value: 0.0005781272451803866\n",
      "H-statistic: 119.59563642074431\n",
      "p-value: 5.822856759416721e-14\n",
      "H-statistic: 215.137595622017\n",
      "p-value: 1.0818733045216232e-31\n",
      "H-statistic: 71.89659093729718\n",
      "p-value: 3.4993539164775513e-06\n",
      "H-statistic: 271.87100778960456\n",
      "p-value: 8.383443843972346e-43\n",
      "H-statistic: 96.3829296940857\n",
      "p-value: 5.089545835785872e-10\n",
      "H-statistic: 127.24140349615523\n",
      "p-value: 2.6401840029939144e-15\n",
      "H-statistic: 277.0939580278737\n",
      "p-value: 7.720843281367923e-44\n",
      "H-statistic: 246.05211504688992\n",
      "p-value: 1.0333517799044308e-37\n",
      "H-statistic: 96.61548704231446\n",
      "p-value: 4.660317737158819e-10\n",
      "H-statistic: 134.51204214802897\n",
      "p-value: 1.3404053421573895e-16\n",
      "H-statistic: 167.3463752276952\n",
      "p-value: 1.3126312755304294e-22\n",
      "H-statistic: 143.88353853860025\n",
      "p-value: 2.737668509637362e-18\n",
      "H-statistic: 112.14922168162198\n",
      "p-value: 1.132421142085996e-12\n",
      "H-statistic: 116.39118249690142\n",
      "p-value: 2.100369626916233e-13\n",
      "H-statistic: 74.71042256456744\n",
      "p-value: 1.3357981807060172e-06\n",
      "H-statistic: 154.12331082374635\n",
      "p-value: 3.6863566567678757e-20\n",
      "H-statistic: 109.67695518123008\n",
      "p-value: 3.0006386931168715e-12\n",
      "H-statistic: 75.84415166844558\n",
      "p-value: 9.021476319103439e-07\n",
      "H-statistic: 121.60134395597173\n",
      "p-value: 2.5975837859962963e-14\n",
      "H-statistic: 182.9951587089841\n",
      "p-value: 1.5133490195940208e-25\n",
      "H-statistic: 86.33423364420908\n",
      "p-value: 2.1418701097473516e-08\n",
      "H-statistic: 217.2579440083431\n",
      "p-value: 4.2105708820455296e-32\n",
      "H-statistic: 89.17981553756174\n",
      "p-value: 7.53325049979952e-09\n"
     ]
    }
   ],
   "source": [
    "# for all syllables\n",
    "syll = data_all.columns\n",
    "n=len(syll)\n",
    "s=[]\n",
    "p=[]\n",
    "h=[]\n",
    "a = 0.05\n",
    "\n",
    "for i in syll:\n",
    "    # Melt the DataFrame\n",
    "    melted_df = pd.melt(temp, id_vars='age', value_vars=[i], value_name='value')\n",
    "    melted_df.drop(columns=['variable'], inplace=True)\n",
    "    h_statistic, p_value = stats.kruskal(*[group['value'] for name, group in melted_df.groupby('age')])\n",
    "\n",
    "    # Print the results\n",
    "    print(\"H-statistic:\", h_statistic)\n",
    "    print(\"p-value:\", p_value)\n",
    "    cp = p_value*n\n",
    "    if cp<0.05:\n",
    "        s.extend([i])\n",
    "        p.extend([cp])\n",
    "        h.extend([h])"
   ]
  },
  {
   "cell_type": "code",
   "execution_count": 8,
   "id": "86dc5796",
   "metadata": {},
   "outputs": [],
   "source": [
    "temp.reset_index(inplace=True)\n",
    "\n",
    "if 'level_0' in temp.columns:\n",
    "    temp.drop(columns=['level_0'], inplace=True)\n",
    "    \n",
    "# Melt the DataFrame\n",
    "melted_df = pd.melt(temp, id_vars='age', value_vars=[0], value_name='value')\n",
    "melted_df.drop(columns=['variable'], inplace=True)"
   ]
  },
  {
   "cell_type": "code",
   "execution_count": 10,
   "id": "13723b3c",
   "metadata": {},
   "outputs": [
    {
     "ename": "TypeError",
     "evalue": "AnovaRM.__init__() missing 1 required positional argument: 'subject'",
     "output_type": "error",
     "traceback": [
      "\u001b[0;31m---------------------------------------------------------------------------\u001b[0m",
      "\u001b[0;31mTypeError\u001b[0m                                 Traceback (most recent call last)",
      "Cell \u001b[0;32mIn[10], line 4\u001b[0m\n\u001b[1;32m      1\u001b[0m \u001b[38;5;28;01mfrom\u001b[39;00m \u001b[38;5;21;01mstatsmodels\u001b[39;00m\u001b[38;5;21;01m.\u001b[39;00m\u001b[38;5;21;01mstats\u001b[39;00m\u001b[38;5;21;01m.\u001b[39;00m\u001b[38;5;21;01manova\u001b[39;00m \u001b[38;5;28;01mimport\u001b[39;00m AnovaRM\n\u001b[1;32m      3\u001b[0m \u001b[38;5;66;03m#perform the repeated measures ANOVA\u001b[39;00m\n\u001b[0;32m----> 4\u001b[0m \u001b[38;5;28mprint\u001b[39m(\u001b[43mAnovaRM\u001b[49m\u001b[43m(\u001b[49m\u001b[43mdata\u001b[49m\u001b[38;5;241;43m=\u001b[39;49m\u001b[43mmelted_df\u001b[49m\u001b[43m,\u001b[49m\u001b[43m \u001b[49m\u001b[43mdepvar\u001b[49m\u001b[38;5;241;43m=\u001b[39;49m\u001b[38;5;124;43m'\u001b[39;49m\u001b[38;5;124;43mvalue\u001b[39;49m\u001b[38;5;124;43m'\u001b[39;49m\u001b[43m,\u001b[49m\u001b[43m \u001b[49m\u001b[43mwithin\u001b[49m\u001b[38;5;241;43m=\u001b[39;49m\u001b[43m[\u001b[49m\u001b[38;5;124;43m'\u001b[39;49m\u001b[38;5;124;43mage\u001b[39;49m\u001b[38;5;124;43m'\u001b[39;49m\u001b[43m]\u001b[49m\u001b[43m)\u001b[49m\u001b[38;5;241m.\u001b[39mfit())\n",
      "\u001b[0;31mTypeError\u001b[0m: AnovaRM.__init__() missing 1 required positional argument: 'subject'"
     ]
    }
   ],
   "source": [
    "'''\n",
    "from statsmodels.stats.anova import AnovaRM\n",
    "\n",
    "#perform the repeated measures ANOVA\n",
    "print(AnovaRM(data=melted_df, depvar='value', within=['age']).fit())\n",
    "'''"
   ]
  },
  {
   "cell_type": "code",
   "execution_count": 12,
   "id": "dba61027",
   "metadata": {},
   "outputs": [
    {
     "name": "stdout",
     "output_type": "stream",
     "text": [
      "            sum_sq     df         F        PR(>F)\n",
      "C(age)    0.245482   26.0  17.66126  4.211768e-51\n",
      "Residual  0.211699  396.0       NaN           NaN\n"
     ]
    }
   ],
   "source": [
    "'''\n",
    "import statsmodels.api as sm\n",
    "from statsmodels.formula.api import ols\n",
    "\n",
    "# Fit the repeated measures ANOVA model\n",
    "model = ols('value ~ C(age)', data=melted_df).fit()\n",
    "\n",
    "# Print the ANOVA table\n",
    "anova_table = sm.stats.anova_lm(model, typ=2)\n",
    "print(anova_table)\n",
    "'''"
   ]
  }
 ],
 "metadata": {
  "kernelspec": {
   "display_name": "Python 3 (ipykernel)",
   "language": "python",
   "name": "python3"
  },
  "language_info": {
   "codemirror_mode": {
    "name": "ipython",
    "version": 3
   },
   "file_extension": ".py",
   "mimetype": "text/x-python",
   "name": "python",
   "nbconvert_exporter": "python",
   "pygments_lexer": "ipython3",
   "version": "3.10.12"
  }
 },
 "nbformat": 4,
 "nbformat_minor": 5
}
