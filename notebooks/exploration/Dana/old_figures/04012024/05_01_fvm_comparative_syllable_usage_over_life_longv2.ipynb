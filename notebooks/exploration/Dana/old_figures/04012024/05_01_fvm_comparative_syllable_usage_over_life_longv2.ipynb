{
 "cells": [
  {
   "cell_type": "code",
   "execution_count": 1,
   "id": "a77ea523",
   "metadata": {},
   "outputs": [],
   "source": [
    "import numpy as np\n",
    "import pandas as pd\n",
    "import matplotlib.pyplot as plt\n",
    "import seaborn as sns\n",
    "from pathlib import Path\n",
    "import matplotlib as mpl\n",
    "import os\n",
    "from toolz import concat\n",
    "from matplotlib.lines import Line2D\n",
    "from collections import Counter\n",
    "import math\n",
    "from sklearn.decomposition import PCA\n",
    "from sklearn.neighbors import KNeighborsRegressor\n",
    "from aging.behavior.syllables import relabel_by_usage\n",
    "from tqdm import tqdm\n",
    "%matplotlib inline\n",
    "import warnings\n",
    "warnings.simplefilter('ignore')\n",
    "import random\n",
    "import scipy\n",
    "from sklearn.pipeline import make_pipeline\n",
    "from sklearn.cluster import KMeans\n",
    "from sklearn.preprocessing import StandardScaler\n",
    "from sklearn.metrics import adjusted_rand_score\n",
    "from kneed import KneeLocator\n",
    "from sklearn.metrics import silhouette_score\n",
    "from scipy.spatial.distance import jensenshannon\n",
    "%matplotlib inline\n",
    "from aging.plotting import format_plots, PlotConfig, save_factory, figure, legend, format_pizza_plots"
   ]
  },
  {
   "cell_type": "code",
   "execution_count": 2,
   "id": "0a49a035",
   "metadata": {},
   "outputs": [],
   "source": [
    "format_plots()\n",
    "#format_pizza_plots()"
   ]
  },
  {
   "cell_type": "code",
   "execution_count": 3,
   "id": "9d7f6cd1",
   "metadata": {},
   "outputs": [],
   "source": [
    "## update data\n",
    "def filter_df(df):\n",
    "    max=62\n",
    "    syll=df.columns.values[df.columns.values>max]\n",
    "    df.drop(syll,axis=1, inplace=True)\n",
    "    return df[~df.index.get_level_values('session_name').str.contains('CRL')]\n",
    "\n",
    "## update data\n",
    "def filter_df_long(df):\n",
    "    max=62\n",
    "    thresh=8\n",
    "    syll=df.columns.values[df.columns.values>max]\n",
    "    df.drop(syll,axis=1, inplace=True)\n",
    "    age_counts = df.index.get_level_values('age').value_counts()\n",
    "    ages_greater = list(age_counts[age_counts > thresh].index)\n",
    "    return df.loc[data.index.get_level_values('age').isin(ages_greater)]"
   ]
  },
  {
   "cell_type": "code",
   "execution_count": 4,
   "id": "f5ffcc1e",
   "metadata": {},
   "outputs": [],
   "source": [
    "def mm_norm_col(column):\n",
    "    return (column - column.min()) / (column.max() - column.min())"
   ]
  },
  {
   "cell_type": "code",
   "execution_count": 5,
   "id": "4fae13a8",
   "metadata": {},
   "outputs": [],
   "source": [
    "from matplotlib.colors import LinearSegmentedColormap\n",
    "# Define the color map\n",
    "colors = ['#d94801','white','#008C8D']\n",
    "custom_cmap = LinearSegmentedColormap.from_list(\"custom_purples\", colors, N=256)\n",
    "cmmf=custom_cmap\n",
    "\n",
    "colors = ['#dadaeb','#6a51a3']\n",
    "custom_cmap = LinearSegmentedColormap.from_list(\"custom_purples\", colors, N=256)\n",
    "cma=custom_cmap\n",
    "\n",
    "colors = ['white','gray']\n",
    "custom_cmap = LinearSegmentedColormap.from_list(\"custom_purples\", colors, N=256)\n",
    "cma=custom_cmap\n",
    "\n",
    "colors = ['#ccece6','#99d8c9','#66c2a4','#41ae76','#238b45','#006d2c']\n",
    "cml = sns.blend_palette(colors, n_colors=256, as_cmap=True)\n",
    "\n",
    "# Define the color map\n",
    "colors = ['#fee6ce','#d94801']\n",
    "custom_cmap = LinearSegmentedColormap.from_list(\"custom_purples\", colors, N=256)\n",
    "cmf=custom_cmap\n",
    "\n",
    "colors = ['#c7eae5','#008C8D']\n",
    "custom_cmap = LinearSegmentedColormap.from_list(\"custom_purples\", colors, N=256)\n",
    "cmm=custom_cmap"
   ]
  },
  {
   "cell_type": "code",
   "execution_count": 6,
   "id": "327902c3",
   "metadata": {},
   "outputs": [],
   "source": [
    "# arrange male ontogeny data\n",
    "path = Path('/n/groups/datta/win/longtogeny/data/ontogeny/version_11/dana_ontogeny_males_relabeled_usage_matrix_v00.parquet')\n",
    "df_dana = pd.read_parquet(path)\n",
    "\n",
    "path = Path('/n/groups/datta/win/longtogeny/data/ontogeny/version_11/ontogeny_males_relabeled_usage_matrix_v00.parquet')\n",
    "df = pd.read_parquet(path)\n",
    "\n",
    "data = df.astype(float, errors='ignore')\n",
    "data= filter_df(data).groupby(['age','uuid']).mean()\n",
    "data['data'] = 'min'\n",
    "data.set_index('data', inplace=True, append=True)\n",
    "\n",
    "data_dana = df_dana.astype(float, errors='ignore')\n",
    "data_dana= filter_df(data_dana).groupby(['age','uuid','mouse']).mean()\n",
    "data_dana['data'] = 'dana'\n",
    "data_dana.set_index('data', inplace=True, append=True)\n",
    "\n",
    "data_all = pd.concat([data,data_dana])\n",
    "# choose 16 mice from all dataset\n",
    "random_seed = 0\n",
    "n=16\n",
    "data_all = data_all.groupby('age').apply(lambda x: x.sample(n=n,replace=False,random_state=random_seed) if len(x)>n else x.sample(n=len(x),replace=False,random_state=random_seed)).reset_index(level=0, drop=True)\n",
    "data_all = data_all[sorted(data_all.columns)]\n",
    "m_data = data_all.query('age<100')"
   ]
  },
  {
   "cell_type": "code",
   "execution_count": 7,
   "id": "56ddaeeb",
   "metadata": {},
   "outputs": [],
   "source": [
    "# arrange male ontogeny data\n",
    "path = Path('/n/groups/datta/win/longtogeny/data/ontogeny/version_11/dana_ontogeny_females_relabeled_usage_matrix_v00.parquet')\n",
    "df_dana = pd.read_parquet(path)\n",
    "\n",
    "path = Path('/n/groups/datta/win/longtogeny/data/ontogeny/version_11/ontogeny_females_relabeled_usage_matrix_v00.parquet')\n",
    "df = pd.read_parquet(path)\n",
    "\n",
    "data = df.astype(float, errors='ignore')\n",
    "data= filter_df(data).groupby(['age','uuid']).mean()\n",
    "data['data'] = 'min'\n",
    "data.set_index('data', inplace=True, append=True)\n",
    "\n",
    "data_dana = df_dana.astype(float, errors='ignore')\n",
    "data_dana= filter_df(data_dana).groupby(['age','uuid','mouse']).mean()\n",
    "data_dana['data'] = 'dana'\n",
    "data_dana.set_index('data', inplace=True, append=True)\n",
    "\n",
    "data_all = pd.concat([data,data_dana])\n",
    "# choose 16 mice from all dataset\n",
    "random_seed = 0\n",
    "n=16\n",
    "data_all = data_all.groupby('age').apply(lambda x: x.sample(n=n,replace=False,random_state=random_seed) if len(x)>n else x.sample(n=len(x),replace=False,random_state=random_seed)).reset_index(level=0, drop=True)\n",
    "data_all = data_all[sorted(data_all.columns)]\n",
    "f_data = data_all.query('age<100')"
   ]
  },
  {
   "cell_type": "code",
   "execution_count": 8,
   "id": "d53e0854",
   "metadata": {},
   "outputs": [],
   "source": [
    "path = Path('/n/groups/datta/win/longtogeny/data/ontogeny/version_11/longtogeny_v2_females_relabeled_usage_matrix_v00.parquet')\n",
    "df = pd.read_parquet(path)\n",
    "\n",
    "# arrange data\n",
    "data = df.astype(float, errors='ignore')\n",
    "data= filter_df_long(data).groupby(['age','uuid','mouse']).mean()\n",
    "data = data.query('age<100')\n",
    "long_data = data[sorted(data.columns)].copy()"
   ]
  },
  {
   "cell_type": "code",
   "execution_count": 9,
   "id": "47107682",
   "metadata": {},
   "outputs": [],
   "source": [
    "# find first recording per week in the longtogeny dataset\n",
    "from collections import defaultdict\n",
    "ages = list(long_data.index.get_level_values('age').unique())\n",
    "# Group entries by week\n",
    "week_entries = defaultdict(list)\n",
    "for age in ages:\n",
    "    week, day = str(age).split('.')\n",
    "    week_entries[week].append(age)\n",
    "\n",
    "# Find the entry with the lowest day for each week\n",
    "lowest_day_entries = [min(entries, key=lambda x: float(str(x).split('.')[1])) for entries in week_entries.values()]\n",
    "long_data = long_data[long_data.index.get_level_values('age').isin(lowest_day_entries)]\n",
    "long_data = long_data.rename_axis(index={'age': 'age_old'})\n",
    "long_data['age'] = np.floor(long_data.index.get_level_values('age_old')).astype(int)\n",
    "long_data.set_index('age',inplace=True, append=True)"
   ]
  },
  {
   "cell_type": "code",
   "execution_count": 10,
   "id": "e589c7f5",
   "metadata": {},
   "outputs": [],
   "source": [
    "# use only common ages\n",
    "long_ages = long_data.index.get_level_values('age').unique().to_numpy()\n",
    "f_ages = f_data.index.get_level_values('age').unique().to_numpy()\n",
    "cages = list(np.intersect1d(long_ages,f_ages))\n",
    "f_data = f_data.loc[f_data.index.get_level_values('age').isin(cages)]\n",
    "f_data['exp'] = 'ont'\n",
    "f_data.set_index('exp',inplace=True,append=True)\n",
    "\n",
    "\n",
    "m_data = m_data.loc[m_data.index.get_level_values('age').isin(cages)]\n",
    "m_data['exp'] = 'ont'\n",
    "m_data.set_index('exp',inplace=True,append=True)\n",
    "\n",
    "long_data = long_data.loc[long_data.index.get_level_values('age').isin(cages)]\n",
    "long_data['exp'] = 'long'\n",
    "long_data.set_index('exp',inplace=True,append=True)\n",
    "\n",
    "long_f = long_data.copy()"
   ]
  },
  {
   "cell_type": "code",
   "execution_count": 11,
   "id": "b6fb527a",
   "metadata": {},
   "outputs": [],
   "source": [
    "path = Path('/n/groups/datta/win/longtogeny/data/ontogeny/version_11/longtogeny_v2_males_relabeled_usage_matrix_v00.parquet')\n",
    "df = pd.read_parquet(path)\n",
    "\n",
    "# arrange data\n",
    "data = df.astype(float, errors='ignore')\n",
    "data= filter_df_long(data).groupby(['age','uuid','mouse']).mean()\n",
    "data = data.query('age<100')\n",
    "long_data = data[sorted(data.columns)].copy()\n",
    "\n",
    "# find first recording per week in the longtogeny dataset\n",
    "from collections import defaultdict\n",
    "ages = list(long_data.index.get_level_values('age').unique())\n",
    "# Group entries by week\n",
    "week_entries = defaultdict(list)\n",
    "for age in ages:\n",
    "    week, day = str(age).split('.')\n",
    "    week_entries[week].append(age)\n",
    "\n",
    "# Find the entry with the lowest day for each week\n",
    "lowest_day_entries = [min(entries, key=lambda x: float(str(x).split('.')[1])) for entries in week_entries.values()]\n",
    "long_data = long_data[long_data.index.get_level_values('age').isin(lowest_day_entries)]\n",
    "long_data = long_data.rename_axis(index={'age': 'age_old'})\n",
    "long_data['age'] = np.floor(long_data.index.get_level_values('age_old')).astype(int)\n",
    "long_data.set_index('age',inplace=True, append=True)\n",
    "\n",
    "# use only common ages\n",
    "long_data = long_data.loc[long_data.index.get_level_values('age').isin(cages)]\n",
    "long_data['exp'] = 'long'\n",
    "long_data.set_index('exp',inplace=True,append=True)\n",
    "\n",
    "long_m = long_data.copy()"
   ]
  },
  {
   "cell_type": "code",
   "execution_count": 12,
   "id": "a86ac3b9",
   "metadata": {},
   "outputs": [],
   "source": [
    "#m_data= m_data.groupby('age').mean()\n",
    "f_data= f_data.groupby(['age','uuid']).mean()\n",
    "m_data= m_data.groupby(['age','uuid']).mean()\n",
    "long_f = long_f.groupby(['age','mouse','uuid']).mean()\n",
    "long_m = long_m.groupby(['age','mouse','uuid']).mean()"
   ]
  },
  {
   "cell_type": "code",
   "execution_count": 13,
   "id": "8909ed6f",
   "metadata": {},
   "outputs": [],
   "source": [
    "## normalize by min/max\n",
    "avg_male = mm_norm_col(m_data)\n",
    "avg_female = mm_norm_col(f_data)\n",
    "avg_long_f = mm_norm_col(long_f)\n",
    "avg_long_m = mm_norm_col(long_f)"
   ]
  },
  {
   "cell_type": "code",
   "execution_count": 14,
   "id": "55661789",
   "metadata": {},
   "outputs": [],
   "source": [
    "## normalize by min/max\n",
    "avg_male = m_data.copy()\n",
    "avg_female = f_data.copy()\n",
    "avg_long_f = long_f.copy()\n",
    "avg_long_m = long_m.copy()"
   ]
  },
  {
   "cell_type": "code",
   "execution_count": null,
   "id": "ea085fc3",
   "metadata": {},
   "outputs": [],
   "source": [
    "# use only common ages\n",
    "f_ages = f_data.index.get_level_values('age').unique().to_numpy()\n",
    "m_ages = m_data.index.get_level_values('age').unique().to_numpy()\n",
    "cages = list(np.intersect1d(f_ages,m_ages))\n",
    "m_data = m_data.loc[m_data.index.get_level_values('age').isin(cages)]\n",
    "m_data['sex'] = 'm'\n",
    "m_data.set_index('sex',inplace=True,append=True)\n",
    "\n",
    "f_data = f_data.loc[f_data.index.get_level_values('age').isin(cages)]\n",
    "f_data['sex'] = 'f'\n",
    "f_data.set_index('sex',inplace=True,append=True)\n",
    "\n",
    "data=pd.concat([m_data,f_data])\n",
    "#data.set_index('sex',inplace=True,append=True)"
   ]
  },
  {
   "cell_type": "code",
   "execution_count": null,
   "id": "2053b2d7",
   "metadata": {},
   "outputs": [],
   "source": []
  },
  {
   "cell_type": "code",
   "execution_count": 15,
   "id": "45bda534",
   "metadata": {},
   "outputs": [],
   "source": [
    "# look at syllable usage diff male and females according to actual age\n",
    "diff_age_ont =avg_male.groupby('age').mean().to_numpy()-avg_female.groupby('age').mean().to_numpy()\n",
    "diff_age_long =avg_long_m.groupby('age').mean().to_numpy()-avg_long_f.groupby('age').mean().to_numpy()"
   ]
  },
  {
   "cell_type": "code",
   "execution_count": 16,
   "id": "7c62554b",
   "metadata": {},
   "outputs": [],
   "source": [
    "def normalize_matrix(matrix):\n",
    "    # Find the minimum and maximum values in the matrix\n",
    "    min_value = np.min(matrix)\n",
    "    max_value = np.max(matrix)\n",
    "    \n",
    "    # Normalize the matrix using the formula\n",
    "    normalized_matrix = (matrix - min_value) / (max_value - min_value) * 2 - 1\n",
    "    \n",
    "    return normalized_matrix\n",
    "\n",
    "new_diff_ont = normalize_matrix(diff_age_ont)"
   ]
  },
  {
   "cell_type": "code",
   "execution_count": 25,
   "id": "cd445383",
   "metadata": {},
   "outputs": [],
   "source": [
    "# plot syllable usage acoss time points\n",
    "#colors for plotting\n",
    "data_labels = avg_female.index.get_level_values('age').unique().to_numpy()\n",
    "cmap2 = cma\n",
    "ages = np.unique(data_labels)\n",
    "colors = np.int_(np.arange(0, 256, 256/len(ages)))\n",
    "seqmatcolor='cubehelix'\n",
    "\n",
    "# create age labels colors\n",
    "lines=[]\n",
    "counter = Counter(data_labels)\n",
    "sorted(counter.items())\n",
    "a=np.array([*counter.values()])\n",
    "\n",
    "color_mat=[]\n",
    "n=0\n",
    "for i,c in enumerate(colors):\n",
    "    for j in range(a[i]):\n",
    "        color_mat.append(cmap2(c))"
   ]
  },
  {
   "cell_type": "code",
   "execution_count": 26,
   "id": "7df4678f",
   "metadata": {},
   "outputs": [],
   "source": [
    "a=diff_age_ont.sum(axis=0)\n",
    "ind = np.argsort(-a)\n",
    "data=diff_age_ont.T\n",
    "data=data[ind]"
   ]
  },
  {
   "cell_type": "code",
   "execution_count": 27,
   "id": "55cfc670",
   "metadata": {},
   "outputs": [
    {
     "data": {
      "text/plain": [
       "Text(0.5, 1.0, 'male/ female diff in ontogeny')"
      ]
     },
     "execution_count": 27,
     "metadata": {},
     "output_type": "execute_result"
    },
    {
     "data": {
      "image/png": "[encoded data removed]",
      "text/plain": [
       "<Figure size 800x800 with 5 Axes>"
      ]
     },
     "metadata": {},
     "output_type": "display_data"
    }
   ],
   "source": [
    "cg=sns.clustermap(\n",
    "    data=data,\n",
    "    cmap=cmmf, \n",
    "    figsize=(4, 4),\n",
    "    col_colors=color_mat,\n",
    "    cbar_pos=(1.02, 0.025, 0.025, .73),\n",
    "    col_cluster=False,\n",
    "    row_cluster=False,\n",
    "    yticklabels=False,\n",
    "    xticklabels=False,\n",
    "    cbar_kws={'label': 'fraction of use'}, \n",
    "    vmax=0.08,\n",
    "    vmin=-0.08,\n",
    ")\n",
    "plt.title ('male/ female diff in ontogeny')"
   ]
  },
  {
   "cell_type": "code",
   "execution_count": 28,
   "id": "0edc53fd",
   "metadata": {},
   "outputs": [],
   "source": [
    "## for longtogeny"
   ]
  },
  {
   "cell_type": "code",
   "execution_count": 29,
   "id": "5d894019",
   "metadata": {},
   "outputs": [],
   "source": [
    "# plot syllable usage acoss time points\n",
    "#colors for plotting\n",
    "data_labels = avg_long_f.index.get_level_values('age').unique().to_numpy()\n",
    "cmap2 = cma\n",
    "ages = np.unique(data_labels)\n",
    "colors = np.int_(np.arange(0, 256, 256/len(ages)))\n",
    "seqmatcolor='cubehelix'\n",
    "\n",
    "# create age labels colors\n",
    "lines=[]\n",
    "counter = Counter(data_labels)\n",
    "sorted(counter.items())\n",
    "a=np.array([*counter.values()])\n",
    "\n",
    "color_mat=[]\n",
    "n=0\n",
    "for i,c in enumerate(colors):\n",
    "    for j in range(a[i]):\n",
    "        color_mat.append(cmap2(c))"
   ]
  },
  {
   "cell_type": "code",
   "execution_count": 30,
   "id": "dd226737",
   "metadata": {},
   "outputs": [],
   "source": [
    "a=diff_age_long.sum(axis=0)\n",
    "ind = np.argsort(-a)\n",
    "data=diff_age_long.T\n",
    "data=data[ind]"
   ]
  },
  {
   "cell_type": "code",
   "execution_count": 31,
   "id": "6e7b8dbe",
   "metadata": {},
   "outputs": [
    {
     "data": {
      "image/png": "[encoded data removed]",
      "text/plain": [
       "<Figure size 800x800 with 5 Axes>"
      ]
     },
     "metadata": {},
     "output_type": "display_data"
    }
   ],
   "source": [
    "cg=sns.clustermap(\n",
    "    data=data,\n",
    "    cmap=cmmf, \n",
    "    figsize=(4, 4),\n",
    "    col_colors=color_mat,\n",
    "    cbar_pos=(1.02, 0.025, 0.025, .73),\n",
    "    col_cluster=False,\n",
    "    row_cluster=False,\n",
    "    yticklabels=False,\n",
    "    xticklabels=False,\n",
    "    cbar_kws={'label': 'fraction of use'}, \n",
    "    vmax=0.08,\n",
    "    vmin=-0.08,\n",
    ")\n",
    "plt.title ('male/ female diff in longtogeny')\n",
    "plt.show()"
   ]
  },
  {
   "cell_type": "code",
   "execution_count": 32,
   "id": "0b38af11",
   "metadata": {},
   "outputs": [],
   "source": [
    "## for longtogeny"
   ]
  },
  {
   "cell_type": "code",
   "execution_count": 33,
   "id": "4a90a9ef",
   "metadata": {},
   "outputs": [],
   "source": [
    "# plot syllable usage acoss time points\n",
    "#colors for plotting\n",
    "data_labels = avg_long_f.index.get_level_values('age').unique().to_numpy()\n",
    "cmap2 = cma\n",
    "ages = np.unique(data_labels)\n",
    "colors = np.int_(np.arange(0, 256, 256/len(ages)))\n",
    "seqmatcolor='cubehelix'\n",
    "\n",
    "# create age labels colors\n",
    "lines=[]\n",
    "counter = Counter(data_labels)\n",
    "sorted(counter.items())\n",
    "a=np.array([*counter.values()])\n",
    "\n",
    "color_mat=[]\n",
    "n=0\n",
    "for i,c in enumerate(colors):\n",
    "    for j in range(a[i]):\n",
    "        color_mat.append(cmap2(c))"
   ]
  },
  {
   "cell_type": "code",
   "execution_count": 34,
   "id": "1db74fe9",
   "metadata": {},
   "outputs": [],
   "source": [
    "a=diff_age_ont.sum(axis=0)\n",
    "ind = np.argsort(-a)\n",
    "data=diff_age_long.T\n",
    "data=data[ind]"
   ]
  },
  {
   "cell_type": "code",
   "execution_count": 35,
   "id": "8969bbff",
   "metadata": {},
   "outputs": [
    {
     "data": {
      "image/png": "[encoded data removed]",
      "text/plain": [
       "<Figure size 800x800 with 5 Axes>"
      ]
     },
     "metadata": {},
     "output_type": "display_data"
    }
   ],
   "source": [
    "cg=sns.clustermap(\n",
    "    data=data,\n",
    "    cmap=cmmf, \n",
    "    figsize=(4, 4),\n",
    "    col_colors=color_mat,\n",
    "    cbar_pos=(1.02, 0.025, 0.025, .73),\n",
    "    col_cluster=False,\n",
    "    row_cluster=False,\n",
    "    yticklabels=False,\n",
    "    xticklabels=False,\n",
    "    cbar_kws={'label': 'fraction of use'}, \n",
    "    vmax=0.08,\n",
    "    vmin=-0.08,\n",
    ")\n",
    "plt.title ('male/ female diff in longtogeny sorterd by ont')\n",
    "plt.show()"
   ]
  },
  {
   "cell_type": "code",
   "execution_count": null,
   "id": "36e11f18",
   "metadata": {},
   "outputs": [],
   "source": []
  }
 ],
 "metadata": {
  "kernelspec": {
   "display_name": "Python 3 (ipykernel)",
   "language": "python",
   "name": "python3"
  },
  "language_info": {
   "codemirror_mode": {
    "name": "ipython",
    "version": 3
   },
   "file_extension": ".py",
   "mimetype": "text/x-python",
   "name": "python",
   "nbconvert_exporter": "python",
   "pygments_lexer": "ipython3",
   "version": "3.10.12"
  }
 },
 "nbformat": 4,
 "nbformat_minor": 5
}
