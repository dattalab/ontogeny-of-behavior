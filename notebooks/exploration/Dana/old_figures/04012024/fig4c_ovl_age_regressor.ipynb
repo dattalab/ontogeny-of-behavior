{
 "cells": [
  {
   "cell_type": "code",
   "execution_count": 1,
   "id": "a77ea523",
   "metadata": {},
   "outputs": [],
   "source": [
    "import numpy as np\n",
    "import pandas as pd\n",
    "import matplotlib.pyplot as plt\n",
    "import seaborn as sns\n",
    "from pathlib import Path\n",
    "import matplotlib as mpl\n",
    "import os\n",
    "from matplotlib.lines import Line2D\n",
    "from collections import Counter\n",
    "import math\n",
    "from sklearn.decomposition import PCA\n",
    "from aging.behavior.syllables import relabel_by_usage\n",
    "from tqdm import tqdm\n",
    "%matplotlib inline\n",
    "import warnings\n",
    "warnings.simplefilter('ignore')\n",
    "import random\n",
    "import scipy\n",
    "from aging.plotting import format_plots, PlotConfig, save_factory, figure, legend, format_pizza_plots"
   ]
  },
  {
   "cell_type": "code",
   "execution_count": 2,
   "id": "0f29b869",
   "metadata": {},
   "outputs": [],
   "source": [
    "from sklearn.model_selection import train_test_split\n",
    "from sklearn import svm\n",
    "from sklearn.ensemble import RandomForestClassifier\n",
    "from matplotlib.gridspec import GridSpec\n",
    "from collections import defaultdict\n",
    "from sklearn.model_selection import cross_val_score, cross_val_predict\n",
    "from sklearn.linear_model import LogisticRegression, LinearRegression\n",
    "from sklearn.model_selection import ShuffleSplit\n",
    "from sklearn.svm import LinearSVC\n",
    "from sklearn.model_selection import GroupKFold, LeaveOneGroupOut, LeaveOneOut, KFold\n",
    "from sklearn.metrics import accuracy_score, mean_absolute_error, mean_squared_error, r2_score, confusion_matrix\n",
    "from sklearn.neighbors import KNeighborsRegressor\n",
    "from sklearn.cross_decomposition import PLSRegression"
   ]
  },
  {
   "cell_type": "code",
   "execution_count": 3,
   "id": "0a49a035",
   "metadata": {},
   "outputs": [],
   "source": [
    "format_plots()\n",
    "#format_pizza_plots()\n",
    "c = PlotConfig()"
   ]
  },
  {
   "cell_type": "code",
   "execution_count": 4,
   "id": "22cae59b",
   "metadata": {},
   "outputs": [],
   "source": [
    "## update data\n",
    "def filter_df(df):\n",
    "    max=39\n",
    "    syll=df.columns.values[df.columns.values>max]\n",
    "    df.drop(syll,axis=1, inplace=True)\n",
    "    return df[~df.index.get_level_values('session_name').str.contains('CRL')]\n",
    "\n",
    "## update data\n",
    "def filter_df_long(df):\n",
    "    max=39\n",
    "    thresh=8\n",
    "    syll=df.columns.values[df.columns.values>max]\n",
    "    df.drop(syll,axis=1, inplace=True)\n",
    "    age_counts = df.index.get_level_values('age').value_counts()\n",
    "    ages_greater = list(age_counts[age_counts > thresh].index)\n",
    "    return df.loc[data.index.get_level_values('age').isin(ages_greater)]"
   ]
  },
  {
   "cell_type": "code",
   "execution_count": 5,
   "id": "5ab35a80",
   "metadata": {},
   "outputs": [],
   "source": [
    "# arrange male ontogeny data\n",
    "path = Path('/n/groups/datta/win/longtogeny/data/ontogeny/version_11/dana_ontogeny_males_relabeled_usage_matrix_v00.parquet')\n",
    "df_dana = pd.read_parquet(path)\n",
    "\n",
    "path = Path('/n/groups/datta/win/longtogeny/data/ontogeny/version_11/ontogeny_males_relabeled_usage_matrix_v00.parquet')\n",
    "df = pd.read_parquet(path)\n",
    "\n",
    "data = df.astype(float, errors='ignore')\n",
    "data= filter_df(data).groupby(['age','uuid']).mean()\n",
    "data['data'] = 'min'\n",
    "data.set_index('data', inplace=True, append=True)\n",
    "\n",
    "data_dana = df_dana.astype(float, errors='ignore')\n",
    "data_dana= filter_df(data_dana).groupby(['age','uuid','mouse']).mean()\n",
    "data_dana['data'] = 'dana'\n",
    "data_dana.set_index('data', inplace=True, append=True)\n",
    "\n",
    "data_all = pd.concat([data,data_dana])\n",
    "# choose 16 mice from all dataset\n",
    "random_seed = 0\n",
    "n=16\n",
    "data_all = data_all.groupby('age').apply(lambda x: x.sample(n=n,replace=False,random_state=random_seed) if len(x)>n else x.sample(n=len(x),replace=False,random_state=random_seed)).reset_index(level=0, drop=True)\n",
    "data_all = data_all[sorted(data_all.columns)]\n",
    "m_data = data_all.query('age<100')"
   ]
  },
  {
   "cell_type": "code",
   "execution_count": 6,
   "id": "9bf0afbd",
   "metadata": {},
   "outputs": [],
   "source": [
    "path = Path('/n/groups/datta/win/longtogeny/data/ontogeny/version_11/longtogeny_males_relabeled_usage_matrix_v00.parquet')\n",
    "df = pd.read_parquet(path)\n",
    "\n",
    "# arrange data\n",
    "data = df.astype(float, errors='ignore')\n",
    "data= filter_df_long(data).groupby(['age','uuid','mouse']).mean()\n",
    "data = data.query('age<100')\n",
    "long_data = data[sorted(data.columns)].copy()"
   ]
  },
  {
   "cell_type": "code",
   "execution_count": 7,
   "id": "20b03215",
   "metadata": {},
   "outputs": [],
   "source": [
    "# find first recording per week in the longtogeny dataset\n",
    "from collections import defaultdict\n",
    "ages = list(long_data.index.get_level_values('age').unique())\n",
    "# Group entries by week\n",
    "week_entries = defaultdict(list)\n",
    "for age in ages:\n",
    "    week, day = str(age).split('.')\n",
    "    week_entries[week].append(age)\n",
    "\n",
    "# Find the entry with the lowest day for each week\n",
    "lowest_day_entries = [min(entries, key=lambda x: float(str(x).split('.')[1])) for entries in week_entries.values()]"
   ]
  },
  {
   "cell_type": "code",
   "execution_count": 8,
   "id": "5bbc7b7b",
   "metadata": {},
   "outputs": [],
   "source": [
    "long_data = long_data[long_data.index.get_level_values('age').isin(lowest_day_entries)]\n",
    "\n",
    "long_data = long_data.rename_axis(index={'age': 'age_old'})\n",
    "\n",
    "long_data['age'] = np.floor(long_data.index.get_level_values('age_old')).astype(int)\n",
    "long_data.set_index('age',inplace=True, append=True)"
   ]
  },
  {
   "cell_type": "code",
   "execution_count": 9,
   "id": "353b5872",
   "metadata": {},
   "outputs": [],
   "source": [
    "# use only common ages\n",
    "long_ages = long_data.index.get_level_values('age').unique().to_numpy()\n",
    "m_ages = m_data.index.get_level_values('age').unique().to_numpy()\n",
    "cages = list(np.intersect1d(long_ages,m_ages))\n",
    "m_data = m_data.loc[m_data.index.get_level_values('age').isin(cages)]\n",
    "m_data['exp'] = 'ont'\n",
    "m_data.set_index('exp',inplace=True,append=True)\n",
    "\n",
    "long_data = long_data.loc[long_data.index.get_level_values('age').isin(cages)]\n",
    "long_data['exp'] = 'long'\n",
    "long_data.set_index('exp',inplace=True,append=True)"
   ]
  },
  {
   "cell_type": "code",
   "execution_count": 10,
   "id": "f2c089d4",
   "metadata": {},
   "outputs": [],
   "source": [
    "male_data=m_data.copy()\n",
    "female_data=long_data.copy()"
   ]
  },
  {
   "cell_type": "code",
   "execution_count": 11,
   "id": "ea79814f",
   "metadata": {},
   "outputs": [],
   "source": [
    "# process data"
   ]
  },
  {
   "cell_type": "code",
   "execution_count": 12,
   "id": "d6247640",
   "metadata": {},
   "outputs": [],
   "source": [
    "# choose a model for decoder\n",
    "#clf = KNeighborsRegressor(n_neighbors=10)\n",
    "#clf = svm.SVC(kernel='linear') \n",
    "#clf = RandomForestClassifier(n_estimators = 100)\n",
    "#clf = LinearRegression()\n",
    "clf = PLSRegression(n_components=5)\n",
    "# choose cross validation scheme\n",
    "cv = LeaveOneOut()\n",
    "\n",
    "#number of iterations for shuffle\n",
    "it=1000"
   ]
  },
  {
   "cell_type": "code",
   "execution_count": 13,
   "id": "0501cd08",
   "metadata": {},
   "outputs": [],
   "source": [
    "# predict male age"
   ]
  },
  {
   "cell_type": "code",
   "execution_count": 14,
   "id": "f35c3c06",
   "metadata": {},
   "outputs": [],
   "source": [
    "#prepare data\n",
    "data=male_data.copy()\n",
    "y_age =data.index.get_level_values('age').to_numpy()\n",
    "X=data.to_numpy()\n",
    "#X=np.log(X + 1e-6) # convert to linear"
   ]
  },
  {
   "cell_type": "code",
   "execution_count": 15,
   "id": "2d4839d9",
   "metadata": {},
   "outputs": [
    {
     "name": "stdout",
     "output_type": "stream",
     "text": [
      "0.7522687665526864\n"
     ]
    }
   ],
   "source": [
    "#decoder\n",
    "y_pred = cross_val_predict(clf, X, y_age, cv=cv)\n",
    "r2_age = r2_score(y_age, y_pred)\n",
    "mse_age = mean_squared_error(y_age, y_pred)\n",
    "print(r2_age)"
   ]
  },
  {
   "cell_type": "code",
   "execution_count": 16,
   "id": "3299c501",
   "metadata": {},
   "outputs": [],
   "source": [
    "#predict female age"
   ]
  },
  {
   "cell_type": "code",
   "execution_count": 17,
   "id": "869b0a4c",
   "metadata": {},
   "outputs": [],
   "source": [
    "data=female_data.copy()\n",
    "y_psd =data.index.get_level_values('age').to_numpy()\n",
    "X=female_data.to_numpy()\n",
    "#X=np.log(X + 1e-6) # convert to linear"
   ]
  },
  {
   "cell_type": "code",
   "execution_count": 18,
   "id": "f047680d",
   "metadata": {},
   "outputs": [
    {
     "name": "stdout",
     "output_type": "stream",
     "text": [
      "0.7836716825867012\n"
     ]
    }
   ],
   "source": [
    "#decoder\n",
    "y_pred_psd = cross_val_predict(clf, X, y_psd, cv=cv)\n",
    "r2_psd = r2_score(y_psd, y_pred_psd)\n",
    "mse_psd = mean_squared_error(y_psd, y_pred_psd)\n",
    "print(r2_psd)"
   ]
  },
  {
   "cell_type": "code",
   "execution_count": 19,
   "id": "49f06455",
   "metadata": {},
   "outputs": [],
   "source": [
    "## train regressor on male predict on female"
   ]
  },
  {
   "cell_type": "code",
   "execution_count": 20,
   "id": "1ab8ec91",
   "metadata": {},
   "outputs": [
    {
     "name": "stdout",
     "output_type": "stream",
     "text": [
      "0.49831725410750494\n"
     ]
    }
   ],
   "source": [
    "## female prediction from male regressor\n",
    "y_train =male_data.index.get_level_values('age').to_numpy()\n",
    "X_train=male_data.to_numpy()\n",
    "clf.fit(X_train, y_train)\n",
    "\n",
    "X_test=female_data.to_numpy()\n",
    "y_f_from_m = clf.predict(X_test)\n",
    "r2_f_from_m = r2_score(y_psd, y_f_from_m)\n",
    "print(r2_f_from_m)"
   ]
  },
  {
   "cell_type": "code",
   "execution_count": 21,
   "id": "73eb51aa",
   "metadata": {},
   "outputs": [
    {
     "name": "stdout",
     "output_type": "stream",
     "text": [
      "0.596322075716314\n"
     ]
    }
   ],
   "source": [
    "\n",
    "## male prediction from female regressor\n",
    "y_train =female_data.index.get_level_values('age').to_numpy()\n",
    "X_train=female_data.to_numpy()\n",
    "clf.fit(X_train, y_train)\n",
    "\n",
    "\n",
    "X_test=male_data.to_numpy()\n",
    "y_m_from_f = clf.predict(X_test)\n",
    "\n",
    "r2_m_from_f = r2_score(y_age, y_m_from_f)\n",
    "print(r2_m_from_f)"
   ]
  },
  {
   "cell_type": "code",
   "execution_count": 22,
   "id": "95a28b8e",
   "metadata": {},
   "outputs": [],
   "source": [
    "## plot r2 for all options"
   ]
  },
  {
   "cell_type": "code",
   "execution_count": 24,
   "id": "2027b7f1",
   "metadata": {},
   "outputs": [
    {
     "data": {
      "image/png": "[encoded data removed]",
      "text/plain": [
       "<Figure size 140x200 with 1 Axes>"
      ]
     },
     "metadata": {},
     "output_type": "display_data"
    }
   ],
   "source": [
    "fig, ax = plt.subplots()\n",
    "fig.set_size_inches(0.7,1)\n",
    "sns.scatterplot(x=[1,2,3,4],y=[r2_age,r2_m_from_f,r2_psd,r2_f_from_m], \n",
    "                #join=False, \n",
    "              color=['#20B2AA','gray','#623f99','gray'],\n",
    "              s=25)\n",
    "plt.ylim([0, 1])\n",
    "plt.xlim([0.75, 4.25])\n",
    "plt.xlabel('Regressor design')\n",
    "plt.ylabel('r2')\n",
    "plt.xticks(range(1, 5))\n",
    "plt.gca().set_xticklabels(['male','male_trained_on_long','long','long_on_male'],fontsize=2)\n",
    "sns.despine()\n",
    "c = PlotConfig()\n",
    "plt.savefig(c.dana_save_path / \"fig4\"/ 'ovl_decoders_r2.pdf', bbox_inches='tight')"
   ]
  },
  {
   "cell_type": "code",
   "execution_count": null,
   "id": "8ceb4d70",
   "metadata": {},
   "outputs": [],
   "source": []
  }
 ],
 "metadata": {
  "kernelspec": {
   "display_name": "Python 3 (ipykernel)",
   "language": "python",
   "name": "python3"
  },
  "language_info": {
   "codemirror_mode": {
    "name": "ipython",
    "version": 3
   },
   "file_extension": ".py",
   "mimetype": "text/x-python",
   "name": "python",
   "nbconvert_exporter": "python",
   "pygments_lexer": "ipython3",
   "version": "3.10.12"
  }
 },
 "nbformat": 4,
 "nbformat_minor": 5
}
