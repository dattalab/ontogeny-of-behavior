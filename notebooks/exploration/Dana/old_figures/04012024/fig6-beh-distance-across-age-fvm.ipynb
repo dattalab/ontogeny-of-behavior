{
 "cells": [
  {
   "cell_type": "markdown",
   "id": "11ae23b4-eb54-49bf-9709-5bf192442ab6",
   "metadata": {},
   "source": [
    "# Compute behavioral similarity (via syllable usage) across individuals for different ages"
   ]
  },
  {
   "cell_type": "code",
   "execution_count": 1,
   "id": "7a9ba35c-1350-4e6e-93b6-3a5aaac4f075",
   "metadata": {},
   "outputs": [],
   "source": [
    "import numpy as np\n",
    "import pandas as pd\n",
    "import seaborn as sns\n",
    "import matplotlib.pyplot as plt\n",
    "from scipy.spatial.distance import cdist, pdist, squareform\n",
    "from toolz import partial\n",
    "from aging.plotting import format_plots, PlotConfig, save_factory, figure, legend, LONGTOGENY_AGE_CMAP"
   ]
  },
  {
   "cell_type": "code",
   "execution_count": 2,
   "id": "12c7fb89-ac2d-44a3-85ed-88a1662c45be",
   "metadata": {
    "tags": []
   },
   "outputs": [],
   "source": [
    "format_plots()\n",
    "c = PlotConfig()\n",
    "saver = save_factory(c.save_path / \"beh-individualization\", tight_layout=False)"
   ]
  },
  {
   "cell_type": "code",
   "execution_count": 3,
   "id": "2fd35693-b5c9-4391-b184-58403cf55b0e",
   "metadata": {
    "tags": []
   },
   "outputs": [],
   "source": [
    "df = pd.read_parquet('/n/groups/datta/win/longtogeny/data/ontogeny/version_11/longtogeny_v2_females_relabeled_usage_matrix_v00.parquet')\n",
    "df = df.sort_index(axis='columns')\n",
    "\n",
    "df = df.query('age < 90')\n",
    "keep_sylls = df.columns[df.median() > 0.005]\n",
    "df = df[keep_sylls]\n",
    "\n",
    "index = ['age', 'mouse', 'uuid', 'subject_name', 'session_name', 'date']"
   ]
  },
  {
   "cell_type": "code",
   "execution_count": 5,
   "id": "99499cbe",
   "metadata": {},
   "outputs": [
    {
     "data": {
      "text/plain": [
       "Index([3.4285714626312256, 3.5714285373687744, 3.7142856121063232,\n",
       "        3.857142925262451,                4.0, 4.4285712242126465,\n",
       "       4.5714287757873535,  4.714285850524902,  4.857142925262451,\n",
       "                      5.0, 5.4285712242126465, 5.5714287757873535,\n",
       "        5.714285850524902,  5.857142925262451,                6.0,\n",
       "       6.4285712242126465, 6.5714287757873535,  6.714285850524902,\n",
       "        6.857142925262451,                7.0, 7.4285712242126465,\n",
       "       7.5714287757873535,  7.714285850524902,  7.857142925262451,\n",
       "                      8.0,  8.571428298950195,                9.0,\n",
       "        9.571428298950195,  9.857142448425293, 10.428571701049805,\n",
       "       10.857142448425293, 11.428571701049805, 11.571428298950195,\n",
       "       11.714285850524902, 11.857142448425293,               12.0,\n",
       "       12.571428298950195,               13.0, 13.428571701049805,\n",
       "                     14.0, 14.428571701049805, 15.142857551574707,\n",
       "       15.285714149475098, 15.428571701049805, 15.571428298950195,\n",
       "       15.714285850524902, 15.857142448425293, 16.571428298950195,\n",
       "        16.85714340209961, 17.571428298950195,  17.85714340209961,\n",
       "       18.571428298950195,  18.85714340209961, 19.428571701049805,\n",
       "       19.571428298950195, 19.714284896850586,  19.85714340209961,\n",
       "                     20.0,  20.85714340209961, 21.428571701049805,\n",
       "        21.85714340209961, 22.428571701049805,  22.85714340209961,\n",
       "       23.428571701049805, 23.571428298950195, 23.714284896850586,\n",
       "        23.85714340209961,               24.0, 24.428571701049805,\n",
       "       24.714284896850586, 25.571428298950195,               26.0,\n",
       "       26.428571701049805, 26.571428298950195, 26.714284896850586,\n",
       "        26.85714340209961,               27.0, 27.571428298950195,\n",
       "        27.85714340209961, 29.571428298950195,  30.14285659790039,\n",
       "        30.85714340209961, 31.285715103149414, 31.428571701049805],\n",
       "      dtype='float32', name='age')"
      ]
     },
     "execution_count": 5,
     "metadata": {},
     "output_type": "execute_result"
    }
   ],
   "source": [
    "df.index.get_level_values('age').unique()"
   ]
  },
  {
   "cell_type": "code",
   "execution_count": 4,
   "id": "e57673c2-42a7-40b5-bd69-d7d94394d718",
   "metadata": {},
   "outputs": [],
   "source": [
    "index = ['binned_age'] + index\n",
    "ages = df.index.get_level_values('age')\n",
    "n_bins = 10\n",
    "lbls, bins = pd.cut(ages, n_bins, labels=False, retbins=True)\n",
    "\n",
    "df['binned_age'] = lbls\n",
    "df = df.reset_index()\n",
    "binned_ages = df.groupby(['binned_age', 'mouse'], observed=True).mean(numeric_only=True)"
   ]
  },
  {
   "cell_type": "code",
   "execution_count": 5,
   "id": "812fdb83",
   "metadata": {},
   "outputs": [
    {
     "data": {
      "text/plain": [
       "array([ 3.40057146,  6.22857149,  9.02857151, 11.82857153, 14.62857156,\n",
       "       17.42857158, 20.22857161, 23.02857163, 25.82857165, 28.62857168,\n",
       "       31.4285717 ])"
      ]
     },
     "execution_count": 5,
     "metadata": {},
     "output_type": "execute_result"
    }
   ],
   "source": [
    "bins"
   ]
  },
  {
   "cell_type": "code",
   "execution_count": 6,
   "id": "21a02936-035c-4e89-a9c8-6c39af974b27",
   "metadata": {},
   "outputs": [],
   "source": [
    "def shuffle_mouse_age(df):\n",
    "    '''df parameter corresponds to all mice at a certain age/age bin'''\n",
    "    df = df.reset_index()\n",
    "    df['age'] = df.groupby('mouse')['age'].sample(frac=1).to_numpy()\n",
    "    return df.set_index(index)"
   ]
  },
  {
   "cell_type": "code",
   "execution_count": 7,
   "id": "20d10648-a14e-4abb-a634-49ace6f5c684",
   "metadata": {},
   "outputs": [],
   "source": [
    "shuff_dists = []\n",
    "n_shuffs = 100\n",
    "for i in range(n_shuffs):\n",
    "    shuff_df = shuffle_mouse_age(df)\n",
    "    dists = shuff_df.groupby('age').apply(partial(pdist, metric='jensenshannon'))\n",
    "    avg_dist = dists.apply(lambda x: x.mean())\n",
    "    avg_dist.name = i\n",
    "    shuff_dists.append(avg_dist)\n",
    "shuff_dists = pd.DataFrame(shuff_dists)\n",
    "shuff_dists.index.name = 'shuffle'"
   ]
  },
  {
   "cell_type": "code",
   "execution_count": 8,
   "id": "9ddd992f-64a3-4514-8e84-12200d13ef9f",
   "metadata": {},
   "outputs": [],
   "source": [
    "shuff_df = shuff_dists.reset_index().melt(id_vars='shuffle', value_name='dist')"
   ]
  },
  {
   "cell_type": "code",
   "execution_count": 9,
   "id": "525904e6-667f-43d0-9a83-263f24cef428",
   "metadata": {},
   "outputs": [],
   "source": [
    "dists = df.set_index(index).groupby('age').apply(partial(pdist, metric='jensenshannon'))\n",
    "avg_dist = dists.apply(lambda x: x.mean())\n",
    "avg_dist.name = 'dist'"
   ]
  },
  {
   "cell_type": "code",
   "execution_count": 10,
   "id": "bdd4f8aa-2eb5-41bc-b78b-60457da96504",
   "metadata": {},
   "outputs": [],
   "source": [
    "def shuffle_binned_mouse_age(df):\n",
    "    '''df parameter corresponds to all mice at a certain age/age bin'''\n",
    "    df = df.reset_index()\n",
    "    df['binned_age'] = df.groupby('mouse')['binned_age'].sample(frac=1, replace=True).to_numpy()\n",
    "    return df.set_index(['binned_age', 'mouse']) "
   ]
  },
  {
   "cell_type": "code",
   "execution_count": 11,
   "id": "4f0b2730-88d6-4706-a2ed-1c62148cb426",
   "metadata": {},
   "outputs": [],
   "source": [
    "shuff_dists = []\n",
    "n_shuffs = 1_000\n",
    "for i in range(n_shuffs):\n",
    "    shuff_df = shuffle_binned_mouse_age(binned_ages)\n",
    "    dists = shuff_df.drop(columns=['age']).groupby('binned_age').apply(partial(pdist, metric='jensenshannon'))\n",
    "    avg_dist = dists.apply(lambda x: x.mean()).reindex(range(n_bins))\n",
    "    avg_dist.name = i\n",
    "    avg_dist.index = pd.Index((bins[:-1] + bins[1:]) / 2, name='binned_age')\n",
    "    shuff_dists.append(avg_dist)\n",
    "shuff_dists = pd.DataFrame(shuff_dists)\n",
    "shuff_dists.index.name = 'shuffle'\n",
    "shuff_df = shuff_dists.reset_index().melt(id_vars='shuffle', value_name='dist')"
   ]
  },
  {
   "cell_type": "code",
   "execution_count": 12,
   "id": "8004ce8c-2e2b-4c46-ad71-94fa1a75a533",
   "metadata": {},
   "outputs": [
    {
     "data": {
      "image/png": "[encoded data removed]",
      "text/plain": [
       "<Figure size 480x375 with 2 Axes>"
      ]
     },
     "metadata": {},
     "output_type": "display_data"
    }
   ],
   "source": [
    "dists = binned_ages.drop(columns=['age']).groupby('binned_age').apply(partial(pdist, metric='jensenshannon'))\n",
    "avg_dist = dists.apply(lambda x: x.mean()).reindex(range(n_bins))\n",
    "avg_dist.name = 'dist'\n",
    "avg_dist.index = pd.Index((bins[:-1] + bins[1:]) / 2, name='age')\n",
    "avg_dist = avg_dist.dropna()\n",
    "\n",
    "fig = figure(1.6, 1.25)\n",
    "ax = fig.gca()\n",
    "#sns.lineplot(data=shuff_df, x='binned_age', y='dist', errorbar=('sd', 2), color='gray', err_kws=dict(lw=0), ax=ax, label='Shuffle', zorder=0)\n",
    "ax = avg_dist.plot(c='k', lw=1, zorder=1, ax=ax)\n",
    "ax = pd.DataFrame(avg_dist).reset_index().plot(kind='scatter', x='age', y='dist', c='age', s=6, cmap=LONGTOGENY_AGE_CMAP, ax=ax, zorder=2)\n",
    "ax.set(xlabel=\"Binned age (weeks)\", ylabel=\"Behavioral distance\")\n",
    "ax.set_ylim(0.15,0.25)\n",
    "ax.legend(frameon=False)\n",
    "# legend(ax)\n",
    "\n",
    "sns.despine()\n",
    "#saver(fig, \"age-vs-behavioral-distance-binned\");"
   ]
  },
  {
   "cell_type": "code",
   "execution_count": 13,
   "id": "b9d6fa9c",
   "metadata": {},
   "outputs": [],
   "source": [
    "c = PlotConfig()\n",
    "fig.savefig(c.dana_save_path / \"fig4\"/ 'indv_distance_females_v2.pdf')"
   ]
  }
 ],
 "metadata": {
  "kernelspec": {
   "display_name": "Python 3 (ipykernel)",
   "language": "python",
   "name": "python3"
  },
  "language_info": {
   "codemirror_mode": {
    "name": "ipython",
    "version": 3
   },
   "file_extension": ".py",
   "mimetype": "text/x-python",
   "name": "python",
   "nbconvert_exporter": "python",
   "pygments_lexer": "ipython3",
   "version": "3.10.12"
  },
  "widgets": {
   "application/vnd.jupyter.widget-state+json": {
    "state": {},
    "version_major": 2,
    "version_minor": 0
   }
  }
 },
 "nbformat": 4,
 "nbformat_minor": 5
}
