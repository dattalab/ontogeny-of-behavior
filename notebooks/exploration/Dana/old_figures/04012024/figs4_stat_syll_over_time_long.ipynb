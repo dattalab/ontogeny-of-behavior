{
 "cells": [
  {
   "cell_type": "code",
   "execution_count": 1,
   "id": "a77ea523",
   "metadata": {},
   "outputs": [],
   "source": [
    "import numpy as np\n",
    "import pandas as pd\n",
    "import matplotlib.pyplot as plt\n",
    "import seaborn as sns\n",
    "from pathlib import Path\n",
    "import matplotlib as mpl\n",
    "import os\n",
    "from matplotlib.lines import Line2D\n",
    "from collections import Counter\n",
    "import math\n",
    "from sklearn.decomposition import PCA\n",
    "from aging.behavior.syllables import relabel_by_usage\n",
    "from tqdm import tqdm\n",
    "%matplotlib inline\n",
    "import warnings\n",
    "warnings.simplefilter('ignore')\n",
    "import random\n",
    "import scipy\n",
    "from scipy import stats\n",
    "from aging.plotting import format_plots, PlotConfig, save_factory, figure, legend, format_pizza_plots"
   ]
  },
  {
   "cell_type": "code",
   "execution_count": 2,
   "id": "0a49a035",
   "metadata": {},
   "outputs": [],
   "source": [
    "format_plots()\n",
    "#format_pizza_plots()"
   ]
  },
  {
   "cell_type": "code",
   "execution_count": 3,
   "id": "1e464ef7",
   "metadata": {},
   "outputs": [],
   "source": [
    "from matplotlib.colors import LinearSegmentedColormap\n",
    "# Define the color map\n",
    "colors = ['#dadaeb','#6a51a3']\n",
    "custom_cmap = LinearSegmentedColormap.from_list(\"custom_purples\", colors, N=256)\n",
    "cmm=custom_cmap"
   ]
  },
  {
   "cell_type": "code",
   "execution_count": 4,
   "id": "9711e242",
   "metadata": {},
   "outputs": [],
   "source": [
    "## update data\n",
    "def filter_df(df):\n",
    "    max=39\n",
    "    thresh=8\n",
    "    syll=df.columns.values[df.columns.values>max]\n",
    "    df.drop(syll,axis=1, inplace=True)\n",
    "    age_counts = df.index.get_level_values('age').value_counts()\n",
    "    ages_greater = list(age_counts[age_counts > thresh].index)\n",
    "    return df.loc[data.index.get_level_values('age').isin(ages_greater)]"
   ]
  },
  {
   "cell_type": "code",
   "execution_count": 5,
   "id": "d66eabbe",
   "metadata": {},
   "outputs": [],
   "source": [
    "path = Path('/n/groups/datta/win/longtogeny/data/ontogeny/version_11/longtogeny_males_relabeled_usage_matrix_v00.parquet')\n",
    "df = pd.read_parquet(path)"
   ]
  },
  {
   "cell_type": "code",
   "execution_count": 6,
   "id": "7874a097",
   "metadata": {},
   "outputs": [],
   "source": [
    "# arrange data\n",
    "data = df.astype(float, errors='ignore')\n",
    "data= filter_df(data).groupby(['age','uuid','mouse']).mean()\n",
    "data = data.query('age<100')\n",
    "data_all = data[sorted(data.columns)].copy()"
   ]
  },
  {
   "cell_type": "code",
   "execution_count": 7,
   "id": "a83387df",
   "metadata": {},
   "outputs": [],
   "source": [
    "data_labels = data_all.index.get_level_values('age').to_numpy()\n",
    "data = data_all.to_numpy()"
   ]
  },
  {
   "cell_type": "code",
   "execution_count": 8,
   "id": "fd364ed5",
   "metadata": {},
   "outputs": [],
   "source": [
    "temp = data_all.copy()\n",
    "temp.reset_index(inplace=True)\n",
    "\n",
    "if 'level_0' in temp.columns:\n",
    "    temp.drop(columns=['level_0'], inplace=True)"
   ]
  },
  {
   "cell_type": "code",
   "execution_count": 9,
   "id": "a5f64b92",
   "metadata": {},
   "outputs": [
    {
     "name": "stdout",
     "output_type": "stream",
     "text": [
      "H-statistic: 411.3332629590566\n",
      "p-value: 1.3592853104749496e-52\n",
      "H-statistic: 495.53567974739474\n",
      "p-value: 2.0106983057612795e-68\n",
      "H-statistic: 227.49904208579898\n",
      "p-value: 1.8698331205480778e-20\n",
      "H-statistic: 247.0330598587914\n",
      "p-value: 1.2857485156138399e-23\n",
      "H-statistic: 423.7742365368904\n",
      "p-value: 6.672577504014801e-55\n",
      "H-statistic: 337.48207171008704\n",
      "p-value: 3.674888444099864e-39\n",
      "H-statistic: 464.6091956405309\n",
      "p-value: 1.4769764199435667e-62\n",
      "H-statistic: 286.7438221047404\n",
      "p-value: 2.7656475963556246e-30\n",
      "H-statistic: 198.7481106293781\n",
      "p-value: 5.599837881097711e-16\n",
      "H-statistic: 464.76663943023425\n",
      "p-value: 1.379275572053763e-62\n",
      "H-statistic: 302.7241672546985\n",
      "p-value: 4.8311806819529325e-33\n",
      "H-statistic: 443.9103579447273\n",
      "p-value: 1.1572657496207915e-58\n",
      "H-statistic: 327.4900295405541\n",
      "p-value: 2.186580613021329e-37\n",
      "H-statistic: 145.04725006982602\n",
      "p-value: 2.0440985109390195e-08\n",
      "H-statistic: 264.95588467146956\n",
      "p-value: 1.3669302671086055e-26\n",
      "H-statistic: 391.3905852768039\n",
      "p-value: 6.446595360839669e-49\n",
      "H-statistic: 191.08420982947996\n",
      "p-value: 7.924160130394672e-15\n",
      "H-statistic: 313.3216358264846\n",
      "p-value: 6.839016146607502e-35\n",
      "H-statistic: 674.0241280617394\n",
      "p-value: 4.0195228843114014e-103\n",
      "H-statistic: 215.92450259615424\n",
      "p-value: 1.2642949741042445e-18\n",
      "H-statistic: 466.5988105291736\n",
      "p-value: 6.218135865058785e-63\n",
      "H-statistic: 156.51240602534634\n",
      "p-value: 6.42044827229756e-10\n",
      "H-statistic: 157.80870472169067\n",
      "p-value: 4.2973390378179193e-10\n",
      "H-statistic: 688.2646294479806\n",
      "p-value: 6.136803282507377e-106\n",
      "H-statistic: 538.7098088579194\n",
      "p-value: 1.071349976833379e-76\n",
      "H-statistic: 104.48668834239692\n",
      "p-value: 0.0007963103258969644\n",
      "H-statistic: 373.6817760390562\n",
      "p-value: 1.1096934061432641e-45\n",
      "H-statistic: 435.9438239468485\n",
      "p-value: 3.586906588323967e-57\n",
      "H-statistic: 522.4333909747917\n",
      "p-value: 1.4442577181661812e-73\n",
      "H-statistic: 322.19366184822115\n",
      "p-value: 1.8857820223423233e-36\n",
      "H-statistic: 327.28329991321124\n",
      "p-value: 2.378776864450121e-37\n",
      "H-statistic: 319.54569396930725\n",
      "p-value: 5.5208189710536966e-36\n",
      "H-statistic: 463.9545240024522\n",
      "p-value: 1.963122853555255e-62\n",
      "H-statistic: 155.77900418152495\n",
      "p-value: 8.050703085084773e-10\n",
      "H-statistic: 261.0540071923706\n",
      "p-value: 6.143392128370854e-26\n",
      "H-statistic: 256.7906962511567\n",
      "p-value: 3.1493061754870806e-25\n",
      "H-statistic: 281.0037291069366\n",
      "p-value: 2.6469304924250895e-29\n",
      "H-statistic: 274.953117420939\n",
      "p-value: 2.824125598694866e-28\n",
      "H-statistic: 428.4424559926682\n",
      "p-value: 9.01436496381255e-56\n",
      "H-statistic: 354.8750972273218\n",
      "p-value: 2.8148810262355144e-42\n"
     ]
    }
   ],
   "source": [
    "# for all syllables\n",
    "syll = data_all.columns\n",
    "n=len(syll)\n",
    "s=[]\n",
    "p=[]\n",
    "h=[]\n",
    "a = 0.05\n",
    "\n",
    "for i in syll:\n",
    "    # Melt the DataFrame\n",
    "    melted_df = pd.melt(temp, id_vars='age', value_vars=[i], value_name='value')\n",
    "    melted_df.drop(columns=['variable'], inplace=True)\n",
    "    h_statistic, p_value = stats.kruskal(*[group['value'] for name, group in melted_df.groupby('age')])\n",
    "\n",
    "    # Print the results\n",
    "    print(\"H-statistic:\", h_statistic)\n",
    "    print(\"p-value:\", p_value)\n",
    "    cp = p_value*n\n",
    "    if cp<0.05:\n",
    "        s.extend([i])\n",
    "        p.extend([cp])\n",
    "        h.extend([h])"
   ]
  },
  {
   "cell_type": "code",
   "execution_count": 12,
   "id": "7983ef3d",
   "metadata": {},
   "outputs": [
    {
     "name": "stdout",
     "output_type": "stream",
     "text": [
      "40\n"
     ]
    }
   ],
   "source": [
    "print(len(s))"
   ]
  },
  {
   "cell_type": "code",
   "execution_count": 10,
   "id": "5f5dafa4",
   "metadata": {},
   "outputs": [],
   "source": [
    "melted_df = pd.melt(temp, id_vars=['age','mouse'], value_vars=[0], value_name='value')\n",
    "melted_df.drop(columns=['variable'], inplace=True)"
   ]
  },
  {
   "cell_type": "code",
   "execution_count": 11,
   "id": "b8d9ab59",
   "metadata": {},
   "outputs": [
    {
     "ename": "ValueError",
     "evalue": "Data is unbalanced.",
     "output_type": "error",
     "traceback": [
      "\u001b[0;31m---------------------------------------------------------------------------\u001b[0m",
      "\u001b[0;31mValueError\u001b[0m                                Traceback (most recent call last)",
      "Cell \u001b[0;32mIn[11], line 4\u001b[0m\n\u001b[1;32m      1\u001b[0m \u001b[38;5;28;01mfrom\u001b[39;00m \u001b[38;5;21;01mstatsmodels\u001b[39;00m\u001b[38;5;21;01m.\u001b[39;00m\u001b[38;5;21;01mstats\u001b[39;00m\u001b[38;5;21;01m.\u001b[39;00m\u001b[38;5;21;01manova\u001b[39;00m \u001b[38;5;28;01mimport\u001b[39;00m AnovaRM\n\u001b[1;32m      3\u001b[0m \u001b[38;5;66;03m#perform the repeated measures ANOVA\u001b[39;00m\n\u001b[0;32m----> 4\u001b[0m \u001b[38;5;28mprint\u001b[39m(\u001b[43mAnovaRM\u001b[49m\u001b[43m(\u001b[49m\u001b[43mdata\u001b[49m\u001b[38;5;241;43m=\u001b[39;49m\u001b[43mmelted_df\u001b[49m\u001b[43m,\u001b[49m\u001b[43m \u001b[49m\u001b[43mdepvar\u001b[49m\u001b[38;5;241;43m=\u001b[39;49m\u001b[38;5;124;43m'\u001b[39;49m\u001b[38;5;124;43mvalue\u001b[39;49m\u001b[38;5;124;43m'\u001b[39;49m\u001b[43m,\u001b[49m\u001b[43m \u001b[49m\u001b[43msubject\u001b[49m\u001b[38;5;241;43m=\u001b[39;49m\u001b[38;5;124;43m'\u001b[39;49m\u001b[38;5;124;43mmouse\u001b[39;49m\u001b[38;5;124;43m'\u001b[39;49m\u001b[43m,\u001b[49m\u001b[43mwithin\u001b[49m\u001b[38;5;241;43m=\u001b[39;49m\u001b[43m[\u001b[49m\u001b[38;5;124;43m'\u001b[39;49m\u001b[38;5;124;43mage\u001b[39;49m\u001b[38;5;124;43m'\u001b[39;49m\u001b[43m]\u001b[49m\u001b[43m)\u001b[49m\u001b[38;5;241m.\u001b[39mfit())\n",
      "File \u001b[0;32m~/miniconda/envs/aging/lib/python3.10/site-packages/statsmodels/stats/anova.py:505\u001b[0m, in \u001b[0;36mAnovaRM.__init__\u001b[0;34m(self, data, depvar, subject, within, between, aggregate_func)\u001b[0m\n\u001b[1;32m    500\u001b[0m         msg \u001b[38;5;241m=\u001b[39m (\u001b[38;5;124m'\u001b[39m\u001b[38;5;124mThe data set contains more than one observation per \u001b[39m\u001b[38;5;124m'\u001b[39m\n\u001b[1;32m    501\u001b[0m                \u001b[38;5;124m'\u001b[39m\u001b[38;5;124msubject and cell. Either aggregate the data manually, \u001b[39m\u001b[38;5;124m'\u001b[39m\n\u001b[1;32m    502\u001b[0m                \u001b[38;5;124m'\u001b[39m\u001b[38;5;124mor pass the `aggregate_func` parameter.\u001b[39m\u001b[38;5;124m'\u001b[39m)\n\u001b[1;32m    503\u001b[0m         \u001b[38;5;28;01mraise\u001b[39;00m \u001b[38;5;167;01mValueError\u001b[39;00m(msg)\n\u001b[0;32m--> 505\u001b[0m \u001b[38;5;28;43mself\u001b[39;49m\u001b[38;5;241;43m.\u001b[39;49m\u001b[43m_check_data_balanced\u001b[49m\u001b[43m(\u001b[49m\u001b[43m)\u001b[49m\n",
      "File \u001b[0;32m~/miniconda/envs/aging/lib/python3.10/site-packages/statsmodels/stats/anova.py:541\u001b[0m, in \u001b[0;36mAnovaRM._check_data_balanced\u001b[0;34m(self)\u001b[0m\n\u001b[1;32m    539\u001b[0m \u001b[38;5;28;01mfor\u001b[39;00m key \u001b[38;5;129;01min\u001b[39;00m cell_count:\n\u001b[1;32m    540\u001b[0m     \u001b[38;5;28;01mif\u001b[39;00m count \u001b[38;5;241m!=\u001b[39m cell_count[key]:\n\u001b[0;32m--> 541\u001b[0m         \u001b[38;5;28;01mraise\u001b[39;00m \u001b[38;5;167;01mValueError\u001b[39;00m(error_message)\n\u001b[1;32m    542\u001b[0m \u001b[38;5;28;01mif\u001b[39;00m \u001b[38;5;28mself\u001b[39m\u001b[38;5;241m.\u001b[39mdata\u001b[38;5;241m.\u001b[39mshape[\u001b[38;5;241m0\u001b[39m] \u001b[38;5;241m>\u001b[39m count \u001b[38;5;241m*\u001b[39m factor_levels:\n\u001b[1;32m    543\u001b[0m     \u001b[38;5;28;01mraise\u001b[39;00m \u001b[38;5;167;01mValueError\u001b[39;00m(\u001b[38;5;124m'\u001b[39m\u001b[38;5;124mThere are more than 1 element in a cell! Missing\u001b[39m\u001b[38;5;124m'\u001b[39m\n\u001b[1;32m    544\u001b[0m                      \u001b[38;5;124m'\u001b[39m\u001b[38;5;124m factors?\u001b[39m\u001b[38;5;124m'\u001b[39m)\n",
      "\u001b[0;31mValueError\u001b[0m: Data is unbalanced."
     ]
    }
   ],
   "source": [
    "from statsmodels.stats.anova import AnovaRM\n",
    "\n",
    "#perform the repeated measures ANOVA\n",
    "print(AnovaRM(data=melted_df, depvar='value', subject='mouse',within=['age']).fit())"
   ]
  }
 ],
 "metadata": {
  "kernelspec": {
   "display_name": "Python 3 (ipykernel)",
   "language": "python",
   "name": "python3"
  },
  "language_info": {
   "codemirror_mode": {
    "name": "ipython",
    "version": 3
   },
   "file_extension": ".py",
   "mimetype": "text/x-python",
   "name": "python",
   "nbconvert_exporter": "python",
   "pygments_lexer": "ipython3",
   "version": "3.10.12"
  }
 },
 "nbformat": 4,
 "nbformat_minor": 5
}
