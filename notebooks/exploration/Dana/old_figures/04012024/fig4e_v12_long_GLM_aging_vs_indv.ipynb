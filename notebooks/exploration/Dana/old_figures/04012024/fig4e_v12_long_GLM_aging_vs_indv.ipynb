{
 "cells": [
  {
   "cell_type": "code",
   "execution_count": 1,
   "id": "a77ea523",
   "metadata": {},
   "outputs": [],
   "source": [
    "import numpy as np\n",
    "import pandas as pd\n",
    "import matplotlib.pyplot as plt\n",
    "import seaborn as sns\n",
    "from pathlib import Path\n",
    "import matplotlib as mpl\n",
    "import os\n",
    "from matplotlib.lines import Line2D\n",
    "from collections import Counter\n",
    "import math\n",
    "from sklearn.decomposition import PCA\n",
    "from aging.behavior.syllables import relabel_by_usage\n",
    "from tqdm import tqdm\n",
    "%matplotlib inline\n",
    "import warnings\n",
    "warnings.simplefilter('ignore')\n",
    "import random\n",
    "import scipy\n",
    "from sklearn.cluster import KMeans\n",
    "from sklearn.preprocessing import StandardScaler\n",
    "from sklearn.metrics import adjusted_rand_score\n",
    "from kneed import KneeLocator\n",
    "from sklearn.metrics import silhouette_score\n",
    "%matplotlib inline\n",
    "from aging.plotting import format_plots, PlotConfig, save_factory, figure, legend, format_pizza_plots\n",
    "from sklearn.linear_model import ElasticNet\n",
    "from sklearn.preprocessing import MinMaxScaler\n",
    "from sklearn.feature_selection import mutual_info_classif as MIC\n",
    "from sklearn.feature_selection import mutual_info_regression as MIR"
   ]
  },
  {
   "cell_type": "code",
   "execution_count": 2,
   "id": "651a4e10",
   "metadata": {},
   "outputs": [],
   "source": [
    "from sklearn.linear_model import LinearRegression, ElasticNet\n",
    "from sklearn.preprocessing import OneHotEncoder\n",
    "import statsmodels.api as sm\n",
    "from statsmodels.formula.api import ols\n",
    "from statsmodels.tools.tools import pinv_extended  \n",
    "from statsmodels.stats.anova import anova_lm\n",
    "from tqdm.auto import tqdm"
   ]
  },
  {
   "cell_type": "code",
   "execution_count": 3,
   "id": "3c4c8f8b",
   "metadata": {},
   "outputs": [],
   "source": [
    "format_plots()\n",
    "#format_pizza_plots()"
   ]
  },
  {
   "cell_type": "code",
   "execution_count": 4,
   "id": "5afdd5c4",
   "metadata": {},
   "outputs": [],
   "source": [
    "## update data\n",
    "def filter_df_long(df):\n",
    "    max=39\n",
    "    thresh=8\n",
    "    syll=df.columns.values[df.columns.values>max]\n",
    "    df.drop(syll,axis=1, inplace=True)\n",
    "    age_counts = df.index.get_level_values('age').value_counts()\n",
    "    ages_greater = list(age_counts[age_counts > thresh].index)\n",
    "    return df.loc[data.index.get_level_values('age').isin(ages_greater)]"
   ]
  },
  {
   "cell_type": "code",
   "execution_count": 5,
   "id": "8f42a553",
   "metadata": {},
   "outputs": [],
   "source": [
    "path = Path('/n/groups/datta/win/longtogeny/data/ontogeny/version_11/longtogeny_males_relabeled_usage_matrix_v00.parquet')\n",
    "df = pd.read_parquet(path)\n",
    "\n",
    "# arrange data\n",
    "data = df.astype(float, errors='ignore')\n",
    "data= filter_df_long(data).groupby(['age','uuid','mouse']).mean()\n",
    "data = data.query('age<100')\n",
    "long_data = data[sorted(data.columns)].copy()"
   ]
  },
  {
   "cell_type": "code",
   "execution_count": 6,
   "id": "92df6a58",
   "metadata": {},
   "outputs": [],
   "source": [
    "'''\n",
    "# find first recording per week in the longtogeny dataset\n",
    "from collections import defaultdict\n",
    "ages = list(long_data.index.get_level_values('age').unique())\n",
    "# Group entries by week\n",
    "week_entries = defaultdict(list)\n",
    "for age in ages:\n",
    "    week, day = str(age).split('.')\n",
    "    week_entries[week].append(age)\n",
    "\n",
    "# Find the entry with the lowest day for each week\n",
    "lowest_day_entries = [min(entries, key=lambda x: float(str(x).split('.')[1])) for entries in week_entries.values()]\n",
    "long_data = long_data[long_data.index.get_level_values('age').isin(lowest_day_entries)]\n",
    "'''"
   ]
  },
  {
   "cell_type": "code",
   "execution_count": 7,
   "id": "888c8df3",
   "metadata": {},
   "outputs": [],
   "source": [
    "y = long_data.to_numpy()\n",
    "y_log = np.log(y + 1e-6)\n",
    "y = (y_log - y_log.mean(axis=0, keepdims=True)) / y_log.std(axis=0, keepdims=True) # z-score"
   ]
  },
  {
   "cell_type": "code",
   "execution_count": 8,
   "id": "21ebc753",
   "metadata": {},
   "outputs": [],
   "source": [
    "# run GLM\n",
    "indv_encoder = OneHotEncoder(sparse=False).fit_transform(long_data.index.get_level_values('mouse').to_numpy().reshape(-1, 1))\n",
    "age_encoder = OneHotEncoder(sparse=False).fit_transform(long_data.index.get_level_values('age').to_numpy().reshape(-1, 1))\n",
    "x = np.concatenate((age_encoder,indv_encoder), axis=1)\n",
    "lr = ElasticNet(alpha=0.01)\n",
    "lr.fit(x, y)"
   ]
  },
  {
   "cell_type": "code",
   "execution_count": 9,
   "id": "fcb20300",
   "metadata": {},
   "outputs": [],
   "source": [
    "# plot weights for phase and individual identity\n",
    "from mpl_toolkits.axes_grid1 import make_axes_locatable\n",
    "\n",
    "fig, ax = plt.subplots()\n",
    "fig.set_size_inches(4,4)\n",
    "im=plt.imshow(lr.coef_, cmap='RdBu_r', vmin=-2, vmax=2)\n",
    "#plt.imshow(lr.coef_, cmap='RdBu_r')\n",
    "plt.title('Model weights')\n",
    "ax = plt.gca()\n",
    "rect = plt.Rectangle((-0.5, -1.5), age_encoder.shape[1], 1, facecolor='#623f99', alpha=1, label='age')\n",
    "ax.add_patch(rect)\n",
    "rect = plt.Rectangle((age_encoder.shape[1]-0.5, -1.5), indv_encoder.shape[1], 1, facecolor='purple', alpha=1, label='indv_identity')\n",
    "ax.add_patch(rect)\n",
    "plt.axvline(age_encoder.shape[1] - 0.5, c='k', ls='--', lw=1)\n",
    "plt.ylim(-1.5, y.shape[1] - 0.5)\n",
    "\n",
    "# create an axes on the right side of ax. The width of cax will be 5%\n",
    "# of ax and the padding between cax and ax will be fixed at 0.05 inch.\n",
    "\n",
    "plt.legend(frameon=False, loc='upper left', bbox_to_anchor=(1.25, 1))\n",
    "divider = make_axes_locatable(ax)\n",
    "cax = divider.append_axes(\"right\", size=\"5%\", pad=0.05)\n",
    "   \n",
    "plt.colorbar(im, cax=cax)\n",
    "#fig.savefig(data_loc + 'long_GLM_coefficients.pdf', bbox_inches='tight')\n",
    "c = PlotConfig()\n",
    "fig.savefig(c.dana_save_path / \"fig4\"/ 'GLM_weights.pdf', bbox_inches='tight')"
   ]
  }
 ],
 "metadata": {
  "kernelspec": {
   "display_name": "Python 3 (ipykernel)",
   "language": "python",
   "name": "python3"
  },
  "language_info": {
   "codemirror_mode": {
    "name": "ipython",
    "version": 3
   },
   "file_extension": ".py",
   "mimetype": "text/x-python",
   "name": "python",
   "nbconvert_exporter": "python",
   "pygments_lexer": "ipython3",
   "version": "3.10.12"
  }
 },
 "nbformat": 4,
 "nbformat_minor": 5
}
