{
 "cells": [
  {
   "cell_type": "code",
   "execution_count": 1,
   "id": "a77ea523",
   "metadata": {},
   "outputs": [],
   "source": [
    "import numpy as np\n",
    "import pandas as pd\n",
    "import matplotlib.pyplot as plt\n",
    "import seaborn as sns\n",
    "from pathlib import Path\n",
    "import matplotlib as mpl\n",
    "import os\n",
    "from toolz import concat\n",
    "from matplotlib.lines import Line2D\n",
    "from collections import Counter\n",
    "import math\n",
    "from sklearn.decomposition import PCA\n",
    "from sklearn.neighbors import KNeighborsRegressor\n",
    "from aging.behavior.syllables import relabel_by_usage\n",
    "from tqdm import tqdm\n",
    "%matplotlib inline\n",
    "import warnings\n",
    "warnings.simplefilter('ignore')\n",
    "import random\n",
    "import scipy\n",
    "from sklearn.pipeline import make_pipeline\n",
    "from sklearn.cluster import KMeans\n",
    "from sklearn.preprocessing import StandardScaler\n",
    "from sklearn.metrics import adjusted_rand_score\n",
    "from kneed import KneeLocator\n",
    "from sklearn.metrics import silhouette_score\n",
    "from scipy.spatial.distance import jensenshannon\n",
    "%matplotlib inline\n",
    "from scipy.ndimage import gaussian_filter1d\n",
    "from aging.plotting import format_plots, PlotConfig, save_factory, figure, legend, format_pizza_plots"
   ]
  },
  {
   "cell_type": "code",
   "execution_count": 2,
   "id": "0a49a035",
   "metadata": {},
   "outputs": [],
   "source": [
    "format_plots()\n",
    "#format_pizza_plots()"
   ]
  },
  {
   "cell_type": "code",
   "execution_count": 3,
   "id": "5ad823bd",
   "metadata": {},
   "outputs": [],
   "source": [
    "from matplotlib.colors import LinearSegmentedColormap\n",
    "# Define the color map\n",
    "colors = ['#fee6ce','#d94801']\n",
    "custom_cmap = LinearSegmentedColormap.from_list(\"custom_purples\", colors, N=256)\n",
    "cmf=custom_cmap\n",
    "\n",
    "colors = ['#c7eae5','#008C8D']\n",
    "custom_cmap = LinearSegmentedColormap.from_list(\"custom_purples\", colors, N=256)\n",
    "cmm=custom_cmap"
   ]
  },
  {
   "cell_type": "code",
   "execution_count": 4,
   "id": "2eaf9c2e",
   "metadata": {},
   "outputs": [],
   "source": [
    "# prepare colors for plot\n",
    "colors = ['#c7eae5','#008C8D']\n",
    "import matplotlib\n",
    "cmap = LinearSegmentedColormap.from_list(\"custom_purples\", colors, N=256)\n",
    "matplotlib.cm.register_cmap(\"dana\", cmap)\n",
    "pm = sns.color_palette(\"dana\", n_colors=27)\n",
    "\n",
    "# prepare colors for plot\n",
    "colors = ['#fee6ce','#d94801']\n",
    "import matplotlib\n",
    "cmap = LinearSegmentedColormap.from_list(\"custom_purples\", colors, N=256)\n",
    "matplotlib.cm.register_cmap(\"dana2\", cmap)\n",
    "pf = sns.color_palette(\"dana2\", n_colors=27)"
   ]
  },
  {
   "cell_type": "code",
   "execution_count": 5,
   "id": "296d73d3",
   "metadata": {},
   "outputs": [],
   "source": [
    "## update data\n",
    "def filter_df(df):\n",
    "    max=39\n",
    "    syll=df.columns.values[df.columns.values>max]\n",
    "    df.drop(syll,axis=1, inplace=True)\n",
    "    return df[~df.index.get_level_values('session_name').str.contains('CRL')]"
   ]
  },
  {
   "cell_type": "code",
   "execution_count": 6,
   "id": "b9530a7c",
   "metadata": {},
   "outputs": [],
   "source": [
    "path = Path('/n/groups/datta/win/longtogeny/data/ontogeny/version_11/dana_ontogeny_males_relabeled_usage_matrix_v00.parquet')\n",
    "df_dana = pd.read_parquet(path)\n",
    "\n",
    "path = Path('/n/groups/datta/win/longtogeny/data/ontogeny/version_11/ontogeny_males_relabeled_usage_matrix_v00.parquet')\n",
    "df = pd.read_parquet(path)\n",
    "\n",
    "# arrange data\n",
    "data = df.astype(float, errors='ignore')\n",
    "data= filter_df(data).groupby(['age','uuid']).mean()\n",
    "data['data'] = 'min'\n",
    "data.set_index('data', inplace=True, append=True)\n",
    "\n",
    "data_dana = df_dana.astype(float, errors='ignore')\n",
    "data_dana= filter_df(data_dana).groupby(['age','uuid']).mean()\n",
    "data_dana['data'] = 'dana'\n",
    "data_dana.set_index('data', inplace=True, append=True)\n",
    "\n",
    "data_all = pd.concat([data,data_dana])\n",
    "# choose 16 mice from all dataset\n",
    "random_seed = 0\n",
    "n=16\n",
    "data_all = data_all.groupby('age').apply(lambda x: x.sample(n=n,replace=False,random_state=random_seed) if len(x)>n else x.sample(n=len(x),replace=False,random_state=random_seed)).reset_index(level=0, drop=True)\n",
    "data_all = data_all[sorted(data_all.columns)]\n",
    "m_data = data_all.query('age<100')"
   ]
  },
  {
   "cell_type": "code",
   "execution_count": 7,
   "id": "edaa3c83",
   "metadata": {},
   "outputs": [],
   "source": [
    "path = Path('/n/groups/datta/win/longtogeny/data/ontogeny/version_11/dana_ontogeny_females_relabeled_usage_matrix_v00.parquet')\n",
    "df_dana = pd.read_parquet(path)\n",
    "\n",
    "path = Path('/n/groups/datta/win/longtogeny/data/ontogeny/version_11/ontogeny_females_relabeled_usage_matrix_v00.parquet')\n",
    "df = pd.read_parquet(path)\n",
    "\n",
    "# arrange data\n",
    "data = df.astype(float, errors='ignore')\n",
    "data= filter_df(data).groupby(['age','uuid']).mean()\n",
    "data['data'] = 'min'\n",
    "data.set_index('data', inplace=True, append=True)\n",
    "\n",
    "data_dana = df_dana.astype(float, errors='ignore')\n",
    "data_dana= filter_df(data_dana).groupby(['age','uuid']).mean()\n",
    "data_dana['data'] = 'dana'\n",
    "data_dana.set_index('data', inplace=True, append=True)\n",
    "\n",
    "data_all = pd.concat([data,data_dana])\n",
    "# choose 16 mice from all dataset\n",
    "random_seed = 0\n",
    "n=16\n",
    "data_all = data_all.groupby('age').apply(lambda x: x.sample(n=n,replace=False,random_state=random_seed) if len(x)>n else x.sample(n=len(x),replace=False,random_state=random_seed)).reset_index(level=0, drop=True)\n",
    "data_all = data_all[sorted(data_all.columns)]\n",
    "f_data = data_all.query('age<100')"
   ]
  },
  {
   "cell_type": "code",
   "execution_count": 8,
   "id": "159c6413",
   "metadata": {},
   "outputs": [],
   "source": [
    "# use only common ages\n",
    "f_ages = f_data.index.get_level_values('age').unique().to_numpy()\n",
    "m_ages = m_data.index.get_level_values('age').unique().to_numpy()\n",
    "cages = list(np.intersect1d(f_ages,m_ages))\n",
    "m_data = m_data.loc[m_data.index.get_level_values('age').isin(cages)]\n",
    "m_data['sex'] = 'm'\n",
    "m_data.set_index('sex',inplace=True,append=True)\n",
    "\n",
    "f_data = f_data.loc[f_data.index.get_level_values('age').isin(cages)]\n",
    "f_data['sex'] = 'f'\n",
    "f_data.set_index('sex',inplace=True,append=True)\n",
    "\n",
    "data=pd.concat([m_data,f_data])\n",
    "#data.set_index('sex',inplace=True,append=True)"
   ]
  },
  {
   "cell_type": "code",
   "execution_count": 9,
   "id": "8b5b33d3",
   "metadata": {},
   "outputs": [],
   "source": [
    "fig=plt.figure(figsize=(12, 12))\n",
    "plt.subplots_adjust(hspace=0.5)\n",
    "plt.suptitle(\"Entropy by age females\", fontsize=10, y=0.95)\n",
    "n=0\n",
    "ages=[]\n",
    "ent=[]\n",
    "\n",
    "\n",
    "sigma = 2  \n",
    "window_size = 3  \n",
    "\n",
    "# Apply Gaussian smoothing\n",
    "#smoothed_arr = gaussian_filter1d(arr, sigma=sigma)\n",
    "#smoothed_arr = np.convolve(arr, np.ones(window_size)/window_size, mode='valid')\n",
    "for age,_df in enumerate(f_data.groupby('age')):\n",
    "    ages.extend(_df[1].index.get_level_values('age').to_numpy())\n",
    "    data_temp = _df[1].to_numpy()\n",
    "    arr = scipy.stats.entropy(data_temp, axis=1)\n",
    "    #ent.extend(np.convolve(arr, np.ones(window_size)/window_size, mode='valid'))\n",
    "    ent.extend(gaussian_filter1d(arr, sigma=sigma))\n",
    "    ax = plt.subplot(6, 6, n + 1)\n",
    "    sns.barplot(data_temp, errorbar='se',ax=ax)\n",
    "    sns.lineplot(np.mean(data_temp, axis=0),ax=ax, color='#f16913')\n",
    "    ax.set_title('syllable usage ' + str(_df[1].index.get_level_values('age').unique().to_numpy()[0]))\n",
    "    ax.set_ylim(0,0.08)\n",
    "    ax.set_xticks([])\n",
    "    ax.set_ylabel('fraction of use')\n",
    "    n=n+1\n",
    "    sns.despine()"
   ]
  },
  {
   "cell_type": "code",
   "execution_count": 10,
   "id": "6646b11e",
   "metadata": {},
   "outputs": [],
   "source": [
    "c = PlotConfig()\n",
    "#fig.savefig(c.dana_save_path / \"simons\"/ 'female_entropy_examples.pdf')"
   ]
  },
  {
   "cell_type": "code",
   "execution_count": 11,
   "id": "9a4e4775",
   "metadata": {},
   "outputs": [],
   "source": [
    "# plot entropy values\n",
    "dff=pd.DataFrame()\n",
    "ages = [str(num) for num in ages]\n",
    "dff['ages']=ages\n",
    "dff['ent']=ent\n",
    "dff['sex'] = ['f'] * len(ages)\n",
    "fig, ax = plt.subplots()\n",
    "fig.set_size_inches(2,2)\n",
    "#sns.lineplot(data=df, x=\"ages\", y=\"ent\", estimator='mean', errorbar='se', c='black')\n",
    "\n",
    "sns.boxplot(data=dff, x=\"ages\", y=\"ent\",\n",
    "             palette = pf, dodge=True, showfliers=False, linewidth=0.5, showcaps=False)\n",
    "#sns.boxplot(data=dff, x=\"ages\", y=\"ent\",showfliers=False, color='#f16913')\n",
    "#sns.scatterplot(data=dff, x=\"ages\", y=\"ent\",color='#f16913', alpha=0.50,s=10)\n",
    "ax.set_title('entropy females')\n",
    "ax.set_ylim(3,3.6)\n",
    "sns.despine()"
   ]
  },
  {
   "cell_type": "code",
   "execution_count": 12,
   "id": "4d000a3e",
   "metadata": {},
   "outputs": [],
   "source": [
    "c = PlotConfig()\n",
    "fig.savefig(c.dana_save_path / \"fig3\"/ 'female_entropy_boxplots.pdf')"
   ]
  },
  {
   "cell_type": "code",
   "execution_count": 13,
   "id": "856cf349",
   "metadata": {},
   "outputs": [],
   "source": [
    "fig=plt.figure(figsize=(12, 12))\n",
    "plt.subplots_adjust(hspace=0.5)\n",
    "plt.suptitle(\"Entropy by age males\", fontsize=10, y=0.95)\n",
    "n=0\n",
    "ages=[]\n",
    "ent=[]\n",
    "\n",
    "for age,_df in enumerate(m_data.groupby('age')):\n",
    "    ages.extend(_df[1].index.get_level_values('age').to_numpy())\n",
    "    data_temp = _df[1].to_numpy()\n",
    "    #ent.extend(scipy.stats.entropy(data_temp, axis=1))\n",
    "    arr = scipy.stats.entropy(data_temp, axis=1)\n",
    "    #ent.extend(np.convolve(arr, np.ones(window_size)/window_size, mode='valid'))\n",
    "    ent.extend(gaussian_filter1d(arr, sigma=sigma))\n",
    "    ax = plt.subplot(6, 6, n + 1)\n",
    "    sns.barplot(data_temp, errorbar='se',ax=ax)\n",
    "    sns.lineplot(np.mean(data_temp, axis=0),ax=ax, color='#20B2AA')\n",
    "    ax.set_title('syllable usage ' + str(_df[1].index.get_level_values('age').unique().to_numpy()[0]))\n",
    "    ax.set_ylim(0,0.08)\n",
    "    ax.set_xticks([])\n",
    "    ax.set_ylabel('fraction of use')\n",
    "    n=n+1\n",
    "    sns.despine()"
   ]
  },
  {
   "cell_type": "code",
   "execution_count": 14,
   "id": "d9ca2b17",
   "metadata": {},
   "outputs": [],
   "source": [
    "c = PlotConfig()\n",
    "#fig.savefig(c.dana_save_path / \"simons\"/ 'male_entropy_examples.pdf')"
   ]
  },
  {
   "cell_type": "code",
   "execution_count": 15,
   "id": "3518b71d",
   "metadata": {},
   "outputs": [],
   "source": [
    "# plot entropy values\n",
    "dfm=pd.DataFrame()\n",
    "ages = [str(num) for num in ages]\n",
    "dfm['ages']=ages\n",
    "dfm['ent']=ent\n",
    "dfm['sex'] = ['m'] * len(ages)\n",
    "fig, ax = plt.subplots()\n",
    "fig.set_size_inches(2,2)\n",
    "#sns.lineplot(data=df, x=\"ages\", y=\"ent\", estimator='mean', errorbar='se', c='black')\n",
    "#sns.boxplot(data=dfm, x=\"ages\", y=\"ent\",showfliers=False, color='#20B2AA')\n",
    "sns.boxplot(data=dfm, x=\"ages\", y=\"ent\",\n",
    "             palette = pm, dodge=True, showfliers=False, linewidth=0.5, showcaps=False)\n",
    "#sns.scatterplot(data=dfm, x=\"ages\", y=\"ent\",color='#20B2AA', alpha=0.50,s=10)\n",
    "plt.setp(ax.collections, alpha=0.2)\n",
    "plt.setp(ax.collections, edgecolor='none')\n",
    "ax.set_title('entropy males')\n",
    "ax.set_ylim(3,3.6)\n",
    "sns.despine()"
   ]
  },
  {
   "cell_type": "code",
   "execution_count": 16,
   "id": "1af45eed",
   "metadata": {},
   "outputs": [],
   "source": [
    "c = PlotConfig()\n",
    "fig.savefig(c.dana_save_path / \"fig3\"/ 'male_entropy_boxplots.pdf')"
   ]
  },
  {
   "cell_type": "code",
   "execution_count": 17,
   "id": "8ac05a7c",
   "metadata": {},
   "outputs": [],
   "source": [
    "## show mean\n",
    "fig, ax = plt.subplots()\n",
    "fig.set_size_inches(2,2)\n",
    "df_all = pd.concat([dfm,dff])\n",
    "sns.pointplot(data=df_all, x=\"ages\", \n",
    "              y=\"ent\",\n",
    "              estimator='mean', \n",
    "              errorbar='se', \n",
    "              hue = 'sex', \n",
    "              palette=['#20B2AA','#f16913'],\n",
    "              join=False)\n",
    "\n",
    "#ax.set_ylim(3.2,3.7)\n",
    "plt.setp(ax.collections, alpha=.7)\n",
    "plt.setp(ax.collections, edgecolor='none')\n",
    "sns.despine()"
   ]
  },
  {
   "cell_type": "code",
   "execution_count": 18,
   "id": "21d26496",
   "metadata": {},
   "outputs": [],
   "source": [
    "c = PlotConfig()\n",
    "#fig.savefig(c.dana_save_path / \"fig3\"/ 'fvm_entropy_pointplot.pdf')"
   ]
  },
  {
   "cell_type": "code",
   "execution_count": 19,
   "id": "81ae4452",
   "metadata": {},
   "outputs": [],
   "source": [
    "## show mean\n",
    "fig, ax = plt.subplots()\n",
    "fig.set_size_inches(2,2)\n",
    "df_all = pd.concat([dfm,dff])\n",
    "ax=sns.boxplot(data=df_all, x=\"ages\", \n",
    "              y=\"ent\",\n",
    "              #estimator='mean', \n",
    "              #errorbar='se', \n",
    "              hue = 'sex', \n",
    "              palette=['#20B2AA','#f16913'],\n",
    "            \n",
    "            showfliers=False,\n",
    "              #join=False\n",
    "           )\n",
    "\n",
    "#ax.set_ylim(3.2,3.7)\n",
    "plt.setp(ax.collections, alpha=.7)\n",
    "plt.setp(ax.collections, edgecolor='none')\n",
    "sns.despine()"
   ]
  },
  {
   "cell_type": "code",
   "execution_count": null,
   "id": "6287157f",
   "metadata": {},
   "outputs": [],
   "source": []
  }
 ],
 "metadata": {
  "kernelspec": {
   "display_name": "Python 3 (ipykernel)",
   "language": "python",
   "name": "python3"
  },
  "language_info": {
   "codemirror_mode": {
    "name": "ipython",
    "version": 3
   },
   "file_extension": ".py",
   "mimetype": "text/x-python",
   "name": "python",
   "nbconvert_exporter": "python",
   "pygments_lexer": "ipython3",
   "version": "3.10.12"
  }
 },
 "nbformat": 4,
 "nbformat_minor": 5
}
