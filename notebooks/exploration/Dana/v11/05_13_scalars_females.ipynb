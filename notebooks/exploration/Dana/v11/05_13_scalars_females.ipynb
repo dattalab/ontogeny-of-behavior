{
 "cells": [
  {
   "cell_type": "markdown",
   "id": "6af5db79-86b8-456a-a9d8-9be8c59e9230",
   "metadata": {},
   "source": [
    "# Analysis on how scalars evolve across age\n",
    "\n",
    "- both before and after size normalization"
   ]
  },
  {
   "cell_type": "code",
   "execution_count": 1,
   "id": "5ad7dbd0",
   "metadata": {},
   "outputs": [],
   "source": [
    "import pandas as pd\n",
    "import polars as pl\n",
    "import numpy as np\n",
    "import matplotlib.pyplot as plt\n",
    "import seaborn as sns\n",
    "from pathlib import Path\n",
    "from toolz import sliding_window\n",
    "from aging.util import correct_for_camera_height\n",
    "from scipy.spatial.distance import pdist, squareform\n",
    "from aging.plotting import figure, format_plots, save_factory, PlotConfig, add_identity"
   ]
  },
  {
   "cell_type": "code",
   "execution_count": 2,
   "id": "765f8d9b",
   "metadata": {},
   "outputs": [],
   "source": [
    "format_plots()\n",
    "\n",
    "#c = PlotConfig()\n",
    "#fig.savefig(c.dana_save_path / \"fig4\"/ 'fvm_syll_diff__over_life_heatmap.pdf')"
   ]
  },
  {
   "cell_type": "code",
   "execution_count": 3,
   "id": "753a791d",
   "metadata": {},
   "outputs": [],
   "source": [
    "version = 11\n",
    "path = Path(f\"/n/groups/datta/win/longtogeny/data/ontogeny/version_{version:02d}/ontogeny_females_syllable_df_v00.parquet\")\n",
    "df = pd.read_parquet(path, engine=\"pyarrow\")"
   ]
  },
  {
   "cell_type": "code",
   "execution_count": 4,
   "id": "9aae74e0",
   "metadata": {},
   "outputs": [],
   "source": [
    "df[\"corrected_width\"] = correct_for_camera_height(df[\"width_px\"], df[\"true_depth\"])\n",
    "df[\"corrected_length\"] = correct_for_camera_height(df[\"length_px\"], df[\"true_depth\"])\n",
    "area = df[\"area_px\"]\n",
    "#df[\"corrected_area\"] = np.square(\n",
    "#    correct_for_camera_height(np.sqrt(area[area > 0]), df.loc[area > 0, \"true_depth\"])\n",
    "#)"
   ]
  },
  {
   "cell_type": "code",
   "execution_count": 5,
   "id": "f13364ff",
   "metadata": {},
   "outputs": [],
   "source": [
    "df['corrected_velocity_2d'] = correct_for_camera_height(df['velocity_2d_px'], df['true_depth'])"
   ]
  },
  {
   "cell_type": "code",
   "execution_count": 6,
   "id": "826395fd",
   "metadata": {},
   "outputs": [],
   "source": [
    "pl_df = pl.DataFrame(\n",
    "    df[\n",
    "        [\n",
    "            \"age\",\n",
    "            \"corrected_velocity_2d\",\n",
    "            \"velocity_2d_px\",\n",
    "            \"session_name\",\n",
    "            \"uuid\",\n",
    "            \"subject_name\",\n",
    "            \"centroid_x_px\",\n",
    "            \"centroid_y_px\",\n",
    "        ]\n",
    "    ]\n",
    ")\n",
    "# fix velcoity calculation when there are many dropped frames\n",
    "pl_df = pl_df.with_columns(\n",
    "    (\n",
    "        ~pl.col(\"corrected_velocity_2d\").is_null().shift(1).fill_null(False)\n",
    "        * pl.col(\"corrected_velocity_2d\")\n",
    "    )\n",
    ").with_columns(\n",
    "    pl.when(pl.col(\"corrected_velocity_2d\") == 0)\n",
    "    .then(None)\n",
    "    .otherwise(pl.col(\"corrected_velocity_2d\"))\n",
    "    #.name.keep()\n",
    "    .alias('\"corrected_velocity_2d\"')\n",
    ")\n",
    "# bin the velocities\n",
    "n_bins = 25\n",
    "pl_df = pl_df.with_columns(\n",
    "    pl.col(\"corrected_velocity_2d\")\n",
    "    .cut(\n",
    "        np.linspace(0, 5, n_bins + 1),\n",
    "        labels=[\"low\"]\n",
    "        + [str(np.mean(f)) for f in sliding_window(2, np.linspace(0, 5, n_bins + 1))]\n",
    "        + [\"high\"],\n",
    "    )\n",
    "    .alias(\"bins\")\n",
    ")\n",
    "\n",
    "# add distance to center\n",
    "pl_df = (\n",
    "    pl_df.lazy()\n",
    "    .with_columns(\n",
    "        (\n",
    "            pl.col(\"centroid_x_px\")\n",
    "            - (pl.col(\"centroid_x_px\").max() - pl.col(\"centroid_x_px\").min()) / 2\n",
    "        ).over(\"uuid\"),\n",
    "        (\n",
    "            pl.col(\"centroid_y_px\")\n",
    "            - (pl.col(\"centroid_y_px\").max() - pl.col(\"centroid_y_px\").min()) / 2\n",
    "        ).over(\"uuid\"),\n",
    "    )\n",
    "    .with_columns(\n",
    "        (pl.col(\"centroid_x_px\") ** 2 + pl.col(\"centroid_y_px\") ** 2)\n",
    "        .sqrt()\n",
    "        .alias(\"distance_to_center\")\n",
    "    )\n",
    "    .with_columns(\n",
    "        pl.col(\"distance_to_center\")\n",
    "        .cut(\n",
    "            np.linspace(0, 140, n_bins + 1),\n",
    "            labels=[\"low\"]\n",
    "            + [\n",
    "                str(np.mean(f))\n",
    "                for f in sliding_window(2, np.linspace(0, 140, n_bins + 1))\n",
    "            ]\n",
    "            + [\"high\"],\n",
    "        )\n",
    "        .alias(\"distance_bins\")\n",
    "    )\n",
    "    .collect()\n",
    ")"
   ]
  },
  {
   "cell_type": "code",
   "execution_count": 7,
   "id": "ea512290",
   "metadata": {},
   "outputs": [],
   "source": [
    "grouping = pl_df.groupby(\"age\").agg(pl.col(\"bins\").value_counts())"
   ]
  },
  {
   "cell_type": "code",
   "execution_count": 8,
   "id": "c82d74fc",
   "metadata": {},
   "outputs": [],
   "source": [
    "vel_hist = {}\n",
    "\n",
    "for age, row in grouping.iter_rows():\n",
    "    out = {}\n",
    "    for item in row:\n",
    "        if item[\"bins\"] in (None, \"low\", \"high\"):\n",
    "            continue\n",
    "        out[round(float(item[\"bins\"]) * 30, 1)] = item[\"counts\"]\n",
    "    vel_hist[age] = out"
   ]
  },
  {
   "cell_type": "code",
   "execution_count": 9,
   "id": "4d4a203c",
   "metadata": {},
   "outputs": [],
   "source": [
    "vel_hist_df = pd.DataFrame(vel_hist).T\n",
    "vel_hist_df.columns.name = \"Speed (px/s)\"\n",
    "vel_hist_df.index.name = \"Age (weeks)\"\n",
    "vel_hist_df = vel_hist_df.sort_index().sort_index(axis='columns')\n",
    "vel_hist_df = vel_hist_df / vel_hist_df.sum(axis=1).values[:, None]"
   ]
  },
  {
   "cell_type": "code",
   "execution_count": 10,
   "id": "f39e5ae9",
   "metadata": {},
   "outputs": [],
   "source": [
    "fig = figure(1.55, 1.2)\n",
    "ax = sns.heatmap(\n",
    "    vel_hist_df.clip(10 ** (-2.5), 0.12).T,\n",
    "    cmap=\"cubehelix\",\n",
    "    cbar_kws={\"label\": \"Probability\"},\n",
    "    norm=\"log\",\n",
    "    vmin=0,\n",
    ")\n",
    "ax.invert_yaxis()\n",
    "c = PlotConfig()\n",
    "fig.savefig(c.dana_save_path / \"fig3\"/ 'scalars_female_velocity_heatmap.pdf')"
   ]
  },
  {
   "cell_type": "code",
   "execution_count": 11,
   "id": "9304dd1b",
   "metadata": {},
   "outputs": [],
   "source": [
    "fig = figure(1.55, 1.2)\n",
    "ax=(vel_hist_df * vel_hist_df.columns.to_numpy()[None]).sum(1).rolling(4).mean().plot()\n",
    "ax.set_ylim([0,148])\n",
    "c = PlotConfig()\n",
    "fig.savefig(c.dana_save_path / \"fig3\"/ 'scalars_female_velocity_line.pdf')"
   ]
  },
  {
   "cell_type": "code",
   "execution_count": 12,
   "id": "2a54bae5",
   "metadata": {},
   "outputs": [],
   "source": [
    "mean_velocities = (\n",
    "    pl_df.lazy()\n",
    "    .filter(pl.col(\"corrected_velocity_2d\").is_between(0, 5, closed=\"none\"))\n",
    "    .groupby([\"age\", \"uuid\"])\n",
    "    .agg(pl.mean(\"corrected_velocity_2d\") * 30)\n",
    ").collect()"
   ]
  },
  {
   "cell_type": "code",
   "execution_count": 13,
   "id": "6243f5b8",
   "metadata": {},
   "outputs": [],
   "source": [
    "sns.lineplot(data=mean_velocities, x='age', y='corrected_velocity_2d', errorbar='se')"
   ]
  },
  {
   "cell_type": "code",
   "execution_count": 14,
   "id": "39615f80",
   "metadata": {},
   "outputs": [],
   "source": [
    "high_velocities = (\n",
    "    pl_df.lazy()\n",
    "    .filter(pl.col(\"corrected_velocity_2d\").is_between(0, 5, closed=\"none\"))\n",
    "    .groupby([\"age\", \"uuid\"])\n",
    "    .agg(pl.col(\"corrected_velocity_2d\").quantile(0.95) * 30)\n",
    ").collect()"
   ]
  },
  {
   "cell_type": "code",
   "execution_count": null,
   "id": "c0045bc0",
   "metadata": {},
   "outputs": [],
   "source": [
    "fig = figure(1.55, 1.2)\n",
    "ax = sns.lineplot(\n",
    "    data=high_velocities,\n",
    "    x=\"age\",\n",
    "    y=\"corrected_velocity_2d\",\n",
    "    errorbar=\"se\",\n",
    "    err_kws={\"lw\": 0},\n",
    "    c=\"k\",\n",
    "    lw=1\n",
    ")\n",
    "ax.set_ylim([0,148])\n",
    "ax.set(ylabel=\"Peak speed (px/s)\", xlabel=\"Age (weeks)\")\n",
    "sns.despine()\n",
    "c = PlotConfig()\n",
    "fig.savefig(c.dana_save_path / \"fig2\"/ 'scalars_male_velocity_line.pdf')"
   ]
  },
  {
   "cell_type": "markdown",
   "id": "895cb79b",
   "metadata": {},
   "source": [
    "## Distance to center"
   ]
  },
  {
   "cell_type": "code",
   "execution_count": null,
   "id": "b83ccc02",
   "metadata": {},
   "outputs": [],
   "source": [
    "dist_grouping = pl_df.groupby(\"age\").agg(pl.col(\"distance_bins\").value_counts())\n",
    "dist_hist = {}\n",
    "\n",
    "for age, row in dist_grouping.iter_rows():\n",
    "    out = {}\n",
    "    for item in row:\n",
    "        if item['distance_bins'] in (None, 'low', 'high'):\n",
    "            continue\n",
    "        out[round(float(item['distance_bins']), 1)] = item['counts']\n",
    "    dist_hist[age] = out"
   ]
  },
  {
   "cell_type": "code",
   "execution_count": null,
   "id": "537fda5e",
   "metadata": {},
   "outputs": [],
   "source": [
    "dist_hist_df = pd.DataFrame(dist_hist).T.fillna(0)\n",
    "dist_hist_df.columns.name = \"Distance to center (px)\"\n",
    "dist_hist_df.index.name = \"Age (weeks)\"\n",
    "dist_hist_df = dist_hist_df.sort_index().sort_index(axis='columns')\n",
    "dist_hist_df = dist_hist_df / dist_hist_df.sum(axis=1).values[:, None]"
   ]
  },
  {
   "cell_type": "code",
   "execution_count": null,
   "id": "8913ba55",
   "metadata": {},
   "outputs": [],
   "source": [
    "fig = figure(1.55, 1.2)\n",
    "ax = sns.heatmap(\n",
    "    dist_hist_df.clip(10 ** (-2.5), 0.12).T,\n",
    "    cmap=\"cubehelix\",\n",
    "    cbar_kws={\"label\": \"Probability\"},\n",
    "    norm=\"log\",\n",
    "    vmin=0,\n",
    ")\n",
    "ax.invert_yaxis()\n",
    "c = PlotConfig()\n",
    "fig.savefig(c.dana_save_path / \"fig3\"/ 'scalars_female_dist_to_center_heatmap.pdf')"
   ]
  },
  {
   "cell_type": "code",
   "execution_count": null,
   "id": "417d1b33",
   "metadata": {},
   "outputs": [],
   "source": [
    "fig = figure(1.55, 1.2)\n",
    "ax=(dist_hist_df * dist_hist_df.columns.to_numpy()[None]).sum(1).rolling(4).mean().plot()\n",
    "ax.set_ylim([0,148])\n",
    "c = PlotConfig()\n",
    "sns.despine()\n",
    "fig.savefig(c.dana_save_path / \"fig3\"/ 'scalars_female_dist_to_center_line.pdf')"
   ]
  },
  {
   "cell_type": "code",
   "execution_count": null,
   "id": "a45adc2b",
   "metadata": {},
   "outputs": [],
   "source": [
    "mean_center = (\n",
    "    pl_df.lazy()\n",
    "    .filter(pl.col(\"distance_to_center\").is_between(0, 5, closed=\"none\"))\n",
    "    .groupby([\"age\", \"uuid\"])\n",
    "    .agg(pl.mean(\"distance_to_center\") * 30)\n",
    ").collect()"
   ]
  },
  {
   "cell_type": "code",
   "execution_count": null,
   "id": "4bf1c192",
   "metadata": {},
   "outputs": [],
   "source": [
    "sns.lineplot(data=mean_center, x='age', y='distance_to_center', errorbar='se')"
   ]
  },
  {
   "cell_type": "code",
   "execution_count": null,
   "id": "4a858527",
   "metadata": {},
   "outputs": [],
   "source": []
  },
  {
   "cell_type": "markdown",
   "id": "034f506e",
   "metadata": {},
   "source": [
    "## Combine velocity and dist to center, classify/regress age"
   ]
  },
  {
   "cell_type": "code",
   "execution_count": null,
   "id": "16c2375a",
   "metadata": {},
   "outputs": [],
   "source": [
    "dist_grouping = pl_df.groupby([\"age\", \"uuid\"]).agg(pl.col(\"distance_bins\").value_counts())\n",
    "dist_hist = {}\n",
    "\n",
    "for age, uuid, row in dist_grouping.iter_rows():\n",
    "    out = {}\n",
    "    for item in row:\n",
    "        if item['distance_bins'] in (None, 'low', 'high'):\n",
    "            continue\n",
    "        out[round(float(item['distance_bins']), 1)] = item['counts']\n",
    "    dist_hist[(age, uuid)] = out"
   ]
  },
  {
   "cell_type": "code",
   "execution_count": null,
   "id": "afc5cb38",
   "metadata": {},
   "outputs": [],
   "source": [
    "indiv_dist_hist_df = pd.DataFrame(dist_hist).T.fillna(0)\n",
    "indiv_dist_hist_df.columns.name = \"Distance to Center (px)\"\n",
    "indiv_dist_hist_df.index.rename([\"Age (weeks)\", \"UUID\"], inplace=True)\n",
    "indiv_dist_hist_df = indiv_dist_hist_df.sort_index().sort_index(axis='columns')\n",
    "indiv_dist_hist_df = indiv_dist_hist_df / indiv_dist_hist_df.sum(axis=1).values[:, None]"
   ]
  },
  {
   "cell_type": "code",
   "execution_count": null,
   "id": "069f8d82",
   "metadata": {},
   "outputs": [],
   "source": [
    "fig = figure(1.55, 1.2)\n",
    "ax = sns.heatmap(\n",
    "    indiv_dist_hist_df.fillna(1e-6).clip(10 ** (-2.5), 0.15).droplevel(1),\n",
    "    cmap=\"cubehelix\",\n",
    "    cbar_kws={\"label\": \"Probability\"},\n",
    "    norm=\"log\",\n",
    ")\n",
    "# saver(fig, \"individual-center-dist-histogram-across-age\");"
   ]
  },
  {
   "cell_type": "code",
   "execution_count": null,
   "id": "3c4d833c",
   "metadata": {},
   "outputs": [],
   "source": []
  },
  {
   "cell_type": "code",
   "execution_count": null,
   "id": "b389eec6",
   "metadata": {},
   "outputs": [],
   "source": [
    "dist_dists = squareform(pdist(indiv_dist_hist_df.fillna(0), metric=\"jensenshannon\"))\n",
    "\n",
    "fig = figure(1.4, 1.1)\n",
    "ax = sns.heatmap(\n",
    "    dist_dists,\n",
    "    cmap=\"cubehelix\",\n",
    "    vmin=0,\n",
    "    vmax=0.35,\n",
    "    cbar_kws=dict(label=\"Distance - JSD (bits)\"),\n",
    "    rasterized=True,\n",
    ")\n",
    "ax.set(xlabel=\"Sessions\", ylabel=\"Sessions\", aspect=\"equal\")\n",
    "# saver(fig, \"individual-center-dist-histogram-distance-mtx\", dpi=600);"
   ]
  },
  {
   "cell_type": "code",
   "execution_count": null,
   "id": "9da75b51",
   "metadata": {},
   "outputs": [],
   "source": [
    "grouping = pl_df.groupby([\"age\", \"uuid\"]).agg(pl.col(\"bins\").value_counts())"
   ]
  },
  {
   "cell_type": "code",
   "execution_count": null,
   "id": "db8ac65c",
   "metadata": {},
   "outputs": [],
   "source": [
    "indiv_vel_hist = {}\n",
    "\n",
    "for age, uuid, row in grouping.iter_rows():\n",
    "    out = {}\n",
    "    for item in row:\n",
    "        if item['bins'] in (None, 'low', 'high'):\n",
    "            continue\n",
    "        out[round(float(item['bins']) * 30, 1)] = item['counts']\n",
    "    indiv_vel_hist[(age, uuid)] = out"
   ]
  },
  {
   "cell_type": "code",
   "execution_count": null,
   "id": "df86d8f1",
   "metadata": {},
   "outputs": [],
   "source": [
    "indiv_vel_hist_df = pd.DataFrame(indiv_vel_hist).T.fillna(0)\n",
    "indiv_vel_hist_df.columns.name = \"Speed (px/s)\"\n",
    "indiv_vel_hist_df.index.rename([\"Age (weeks)\", \"UUID\"], inplace=True)\n",
    "indiv_vel_hist_df = indiv_vel_hist_df.sort_index().sort_index(axis='columns')\n",
    "indiv_vel_hist_df = indiv_vel_hist_df / indiv_vel_hist_df.sum(axis=1).values[:, None]"
   ]
  },
  {
   "cell_type": "code",
   "execution_count": null,
   "id": "749e2458",
   "metadata": {},
   "outputs": [],
   "source": [
    "fig = figure(1.55, 1.2)\n",
    "ax = sns.heatmap(\n",
    "    indiv_vel_hist_df.fillna(1e-6).clip(10 ** (-2.5), 0.15).droplevel(1),\n",
    "    cmap=\"cubehelix\",\n",
    "    cbar_kws={\"label\": \"Probability\"},\n",
    "    norm=\"log\",\n",
    ")\n",
    "# saver(fig, \"individual-velocity-histogram-across-age\");"
   ]
  },
  {
   "cell_type": "code",
   "execution_count": null,
   "id": "063c1f1b",
   "metadata": {},
   "outputs": [],
   "source": [
    "combined_data = pd.concat([indiv_dist_hist_df, indiv_vel_hist_df], axis=1).fillna(0)"
   ]
  },
  {
   "cell_type": "code",
   "execution_count": null,
   "id": "f9bd8cd1",
   "metadata": {},
   "outputs": [],
   "source": [
    "# StratifiedKFold classifer first\n",
    "from sklearn.model_selection import StratifiedKFold, RepeatedStratifiedKFold, GroupKFold, LeaveOneGroupOut\n",
    "from sklearn.ensemble import RandomForestClassifier, RandomForestRegressor\n",
    "from sklearn.linear_model import LogisticRegression\n",
    "from sklearn.preprocessing import StandardScaler, LabelEncoder\n",
    "from sklearn.pipeline import make_pipeline\n",
    "from sklearn.model_selection import cross_val_score, cross_val_predict\n",
    "from sklearn.cross_decomposition import PLSRegression\n",
    "from sklearn.metrics import r2_score"
   ]
  },
  {
   "cell_type": "code",
   "execution_count": null,
   "id": "b7ff98e6",
   "metadata": {},
   "outputs": [],
   "source": [
    "ages = combined_data.index.get_level_values(0).values"
   ]
  },
  {
   "cell_type": "code",
   "execution_count": null,
   "id": "a9a8cf67",
   "metadata": {},
   "outputs": [],
   "source": [
    "pipeline = make_pipeline(StandardScaler(), LogisticRegression(max_iter=1000))"
   ]
  },
  {
   "cell_type": "code",
   "execution_count": null,
   "id": "94c0a73f",
   "metadata": {},
   "outputs": [],
   "source": [
    "scores = cross_val_score(\n",
    "    pipeline,\n",
    "    combined_data,\n",
    "    ages,\n",
    "    # cv=StratifiedKFold(n_splits=5),\n",
    "    cv=RepeatedStratifiedKFold(n_splits=4, n_repeats=10),\n",
    ")\n",
    "scores"
   ]
  },
  {
   "cell_type": "code",
   "execution_count": null,
   "id": "ec1a0b21",
   "metadata": {},
   "outputs": [],
   "source": [
    "scores = cross_val_score(\n",
    "    RandomForestClassifier(),\n",
    "    combined_data,\n",
    "    combined_data.index.get_level_values(0),\n",
    "    # cv=StratifiedKFold(n_splits=5),\n",
    "    cv=RepeatedStratifiedKFold(n_splits=4, n_repeats=3),\n",
    ")\n",
    "scores"
   ]
  },
  {
   "cell_type": "code",
   "execution_count": null,
   "id": "edb7f489",
   "metadata": {},
   "outputs": [],
   "source": [
    "# regression form\n",
    "pipeline = make_pipeline(StandardScaler(), PLSRegression(n_components=5))\n",
    "preds = cross_val_predict(\n",
    "    pipeline,\n",
    "    combined_data,\n",
    "    combined_data.index.get_level_values(0),\n",
    "    cv=LeaveOneGroupOut(),\n",
    "    groups=LabelEncoder().fit_transform(combined_data.index.get_level_values(0)).squeeze(),\n",
    ")\n",
    "r2_score(ages, preds)"
   ]
  },
  {
   "cell_type": "code",
   "execution_count": null,
   "id": "138c3e9c",
   "metadata": {},
   "outputs": [],
   "source": [
    "r2 = r2_score(ages, preds)\n",
    "\n",
    "fig = figure(1, 1)\n",
    "ax = fig.gca()\n",
    "ax.scatter(ages, preds, s=1, c='k')\n",
    "add_identity(ax, color='gray', ls='--')\n",
    "ax.set(title=f\"R2 = {r2:.2f}\", xlabel=\"True age (weeks)\", ylabel=\"Predicted age (weeks)\")\n",
    "sns.despine()\n",
    "fig.savefig(c.dana_save_path / \"fig3\"/ 'scalars_female_classifier.pdf')"
   ]
  }
 ],
 "metadata": {
  "kernelspec": {
   "display_name": "Python 3 (ipykernel)",
   "language": "python",
   "name": "python3"
  },
  "language_info": {
   "codemirror_mode": {
    "name": "ipython",
    "version": 3
   },
   "file_extension": ".py",
   "mimetype": "text/x-python",
   "name": "python",
   "nbconvert_exporter": "python",
   "pygments_lexer": "ipython3",
   "version": "3.10.12"
  },
  "widgets": {
   "application/vnd.jupyter.widget-state+json": {
    "state": {},
    "version_major": 2,
    "version_minor": 0
   }
  }
 },
 "nbformat": 4,
 "nbformat_minor": 5
}
