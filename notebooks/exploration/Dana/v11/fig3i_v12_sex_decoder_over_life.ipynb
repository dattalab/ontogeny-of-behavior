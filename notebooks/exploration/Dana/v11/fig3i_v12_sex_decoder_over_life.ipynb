{
 "cells": [
  {
   "cell_type": "code",
   "execution_count": 1,
   "id": "a77ea523",
   "metadata": {},
   "outputs": [],
   "source": [
    "import numpy as np\n",
    "import pandas as pd\n",
    "import matplotlib.pyplot as plt\n",
    "import seaborn as sns\n",
    "from pathlib import Path\n",
    "import matplotlib as mpl\n",
    "import os\n",
    "from matplotlib.lines import Line2D\n",
    "from collections import Counter\n",
    "import math\n",
    "from sklearn.decomposition import PCA\n",
    "from aging.behavior.syllables import relabel_by_usage\n",
    "from tqdm import tqdm\n",
    "%matplotlib inline\n",
    "import warnings\n",
    "warnings.simplefilter('ignore')\n",
    "import random\n",
    "import scipy\n",
    "from sklearn.cluster import KMeans\n",
    "from sklearn.preprocessing import StandardScaler\n",
    "from sklearn.metrics import adjusted_rand_score\n",
    "from kneed import KneeLocator\n",
    "from sklearn.metrics import silhouette_score\n",
    "%matplotlib inline\n",
    "from aging.plotting import format_plots, PlotConfig, save_factory, figure, legend, format_pizza_plots\n",
    "from sklearn.linear_model import ElasticNet\n",
    "from sklearn.preprocessing import MinMaxScaler"
   ]
  },
  {
   "cell_type": "code",
   "execution_count": 2,
   "id": "2855503e",
   "metadata": {},
   "outputs": [],
   "source": [
    "from sklearn.model_selection import train_test_split\n",
    "from sklearn import svm\n",
    "from sklearn.ensemble import RandomForestClassifier\n",
    "from matplotlib.gridspec import GridSpec\n",
    "from collections import defaultdict\n",
    "from sklearn.model_selection import cross_val_score, cross_val_predict\n",
    "from sklearn.linear_model import LogisticRegression, LinearRegression\n",
    "from sklearn.model_selection import ShuffleSplit\n",
    "from sklearn.svm import LinearSVC\n",
    "from sklearn.model_selection import GroupKFold, LeaveOneGroupOut, LeaveOneOut, KFold\n",
    "from sklearn.metrics import accuracy_score, mean_absolute_error, mean_squared_error, r2_score, confusion_matrix\n",
    "from sklearn.neighbors import KNeighborsRegressor"
   ]
  },
  {
   "cell_type": "code",
   "execution_count": 3,
   "id": "0a49a035",
   "metadata": {},
   "outputs": [],
   "source": [
    "format_plots()\n",
    "#format_pizza_plots()"
   ]
  },
  {
   "cell_type": "code",
   "execution_count": 4,
   "id": "1e464ef7",
   "metadata": {},
   "outputs": [],
   "source": [
    "## update data\n",
    "def filter_df(df):\n",
    "    max=39\n",
    "    #df.drop('9c060c9b-9eee-4788-90be-803700bbacd8',level=3, axis=0, inplace=True)\n",
    "    syll=df.columns.values[df.columns.values>max]\n",
    "    df.drop(syll,axis=1, inplace=True)\n",
    "    return df[~df.index.get_level_values('session_name').str.contains('CRL')]"
   ]
  },
  {
   "cell_type": "code",
   "execution_count": 5,
   "id": "b11d07e8",
   "metadata": {},
   "outputs": [],
   "source": [
    "from matplotlib.colors import LinearSegmentedColormap\n",
    "# Define the color map\n",
    "colors = ['#008C8D','white','#d94801']\n",
    "custom_cmap = LinearSegmentedColormap.from_list(\"custom_purples\", colors, N=256)\n",
    "cmmf=custom_cmap\n",
    "\n",
    "colors = ['#dadaeb','#6a51a3']\n",
    "custom_cmap = LinearSegmentedColormap.from_list(\"custom_purples\", colors, N=256)\n",
    "cma=custom_cmap\n",
    "\n",
    "colors = ['white','gray']\n",
    "custom_cmap = LinearSegmentedColormap.from_list(\"custom_purples\", colors, N=256)\n",
    "cma=custom_cmap\n",
    "\n",
    "colors = ['#ccece6','#99d8c9','#66c2a4','#41ae76','#238b45','#006d2c']\n",
    "cml = sns.blend_palette(colors, n_colors=256, as_cmap=True)\n",
    "\n",
    "# Define the color map\n",
    "colors = ['#fee6ce','#d94801']\n",
    "custom_cmap = LinearSegmentedColormap.from_list(\"custom_purples\", colors, N=256)\n",
    "cmf=custom_cmap\n",
    "\n",
    "colors = ['#c7eae5','#008C8D']\n",
    "custom_cmap = LinearSegmentedColormap.from_list(\"custom_purples\", colors, N=256)\n",
    "cmm=custom_cmap"
   ]
  },
  {
   "cell_type": "code",
   "execution_count": 6,
   "id": "33719547",
   "metadata": {},
   "outputs": [],
   "source": [
    "# arrange data\n",
    "path = Path('/n/groups/datta/win/longtogeny/data/ontogeny/version_11/dana_ontogeny_males_relabeled_usage_matrix_v00.parquet')\n",
    "df_dana = pd.read_parquet(path)\n",
    "\n",
    "path = Path('/n/groups/datta/win/longtogeny/data/ontogeny/version_11/ontogeny_males_relabeled_usage_matrix_v00.parquet')\n",
    "df = pd.read_parquet(path)\n",
    "\n",
    "data = df.astype(float, errors='ignore')\n",
    "data= filter_df(data).groupby(['age','uuid']).mean()\n",
    "data['data'] = 'min'\n",
    "data.set_index('data', inplace=True, append=True)\n",
    "\n",
    "data_dana = df_dana.astype(float, errors='ignore')\n",
    "data_dana= filter_df(data_dana).groupby(['age','uuid']).mean()\n",
    "data_dana['data'] = 'dana'\n",
    "data_dana.set_index('data', inplace=True, append=True)\n",
    "\n",
    "data_all = pd.concat([data,data_dana])\n",
    "# choose 16 mice from all dataset\n",
    "# choose 16 mice from all dataset\n",
    "random_seed = 0\n",
    "n=16\n",
    "data_all = data_all.groupby('age').apply(lambda x: x.sample(n=n,replace=False,random_state=random_seed) if len(x)>n else x.sample(n=len(x),replace=False,random_state=random_seed)).reset_index(level=0, drop=True)\n",
    "data_all = data_all[sorted(data_all.columns)]\n",
    "m_data = data_all.query('age<100')"
   ]
  },
  {
   "cell_type": "code",
   "execution_count": 7,
   "id": "7af1050d",
   "metadata": {},
   "outputs": [],
   "source": [
    "path = Path('/n/groups/datta/win/longtogeny/data/ontogeny/version_11/dana_ontogeny_females_relabeled_usage_matrix_v00.parquet')\n",
    "df_dana = pd.read_parquet(path)\n",
    "\n",
    "path = Path('/n/groups/datta/win/longtogeny/data/ontogeny/version_11/ontogeny_females_relabeled_usage_matrix_v00.parquet')\n",
    "df = pd.read_parquet(path)\n",
    "\n",
    "# arrange data\n",
    "data = df.astype(float, errors='ignore')\n",
    "data= filter_df(data).groupby(['age','uuid']).mean()\n",
    "data['data'] = 'min'\n",
    "data.set_index('data', inplace=True, append=True)\n",
    "\n",
    "data_dana = df_dana.astype(float, errors='ignore')\n",
    "data_dana= filter_df(data_dana).groupby(['age','uuid']).mean()\n",
    "data_dana['data'] = 'dana'\n",
    "data_dana.set_index('data', inplace=True, append=True)\n",
    "\n",
    "data_all = pd.concat([data,data_dana])\n",
    "# choose 16 mice from all dataset\n",
    "random_seed = 0\n",
    "n=16\n",
    "data_all = data_all.groupby('age').apply(lambda x: x.sample(n=n,replace=False,random_state=random_seed) if len(x)>n else x.sample(n=len(x),replace=False,random_state=random_seed)).reset_index(level=0, drop=True)\n",
    "data_all = data_all[sorted(data_all.columns)]\n",
    "f_data = data_all.query('age<100')"
   ]
  },
  {
   "cell_type": "code",
   "execution_count": 8,
   "id": "d704cef5",
   "metadata": {},
   "outputs": [],
   "source": [
    "# use only common ages\n",
    "f_ages = f_data.index.get_level_values('age').unique().to_numpy()\n",
    "m_ages = m_data.index.get_level_values('age').unique().to_numpy()\n",
    "cages = list(np.intersect1d(f_ages,m_ages))\n",
    "m_data = m_data.loc[m_data.index.get_level_values('age').isin(cages)]\n",
    "m_data['sex'] = 'm'\n",
    "m_data.set_index('sex',inplace=True,append=True)\n",
    "\n",
    "f_data = f_data.loc[f_data.index.get_level_values('age').isin(cages)]\n",
    "f_data['sex'] = 'f'\n",
    "f_data.set_index('sex',inplace=True,append=True)\n",
    "\n",
    "data=pd.concat([m_data,f_data])\n",
    "#data.set_index('sex',inplace=True,append=True)"
   ]
  },
  {
   "cell_type": "code",
   "execution_count": 9,
   "id": "c58fa838",
   "metadata": {},
   "outputs": [],
   "source": [
    "# choose a model for decoder\n",
    "#clf = svm.SVC(kernel='linear') \n",
    "clf = RandomForestClassifier(n_estimators = 150)\n",
    "#clf = LinearRegression()\n",
    "#clf = KNeighborsRegressor(n_neighbors=10)\n",
    "\n",
    "# choose cross validation scheme\n",
    "cv = LeaveOneOut()\n",
    "#cv = ShuffleSplit(n_splits=5, test_size=0.25, random_state=0)\n",
    "#cv=5\n",
    "\n",
    "#number of iterations for shuffle\n",
    "it=100"
   ]
  },
  {
   "cell_type": "code",
   "execution_count": 10,
   "id": "e34838f6",
   "metadata": {},
   "outputs": [
    {
     "name": "stderr",
     "output_type": "stream",
     "text": [
      "100%|███████████████████████████████████████████████████████████████████████████████████████████████████████████████████████████████████████████████████████████████████████| 100/100 [12:28<00:00,  7.49s/it]\n",
      "100%|███████████████████████████████████████████████████████████████████████████████████████████████████████████████████████████████████████████████████████████████████████| 100/100 [12:52<00:00,  7.73s/it]\n",
      "100%|███████████████████████████████████████████████████████████████████████████████████████████████████████████████████████████████████████████████████████████████████████| 100/100 [12:55<00:00,  7.75s/it]\n",
      "100%|███████████████████████████████████████████████████████████████████████████████████████████████████████████████████████████████████████████████████████████████████████| 100/100 [12:55<00:00,  7.75s/it]\n",
      "100%|███████████████████████████████████████████████████████████████████████████████████████████████████████████████████████████████████████████████████████████████████████| 100/100 [12:56<00:00,  7.77s/it]\n",
      "100%|███████████████████████████████████████████████████████████████████████████████████████████████████████████████████████████████████████████████████████████████████████| 100/100 [12:55<00:00,  7.75s/it]\n",
      "100%|███████████████████████████████████████████████████████████████████████████████████████████████████████████████████████████████████████████████████████████████████████| 100/100 [12:55<00:00,  7.75s/it]\n",
      "100%|███████████████████████████████████████████████████████████████████████████████████████████████████████████████████████████████████████████████████████████████████████| 100/100 [12:54<00:00,  7.75s/it]\n",
      "100%|███████████████████████████████████████████████████████████████████████████████████████████████████████████████████████████████████████████████████████████████████████| 100/100 [12:54<00:00,  7.75s/it]\n",
      "100%|███████████████████████████████████████████████████████████████████████████████████████████████████████████████████████████████████████████████████████████████████████| 100/100 [12:55<00:00,  7.75s/it]\n",
      "100%|███████████████████████████████████████████████████████████████████████████████████████████████████████████████████████████████████████████████████████████████████████| 100/100 [12:05<00:00,  7.25s/it]\n",
      "100%|███████████████████████████████████████████████████████████████████████████████████████████████████████████████████████████████████████████████████████████████████████| 100/100 [12:56<00:00,  7.76s/it]\n",
      "100%|███████████████████████████████████████████████████████████████████████████████████████████████████████████████████████████████████████████████████████████████████████| 100/100 [12:55<00:00,  7.76s/it]\n",
      "100%|███████████████████████████████████████████████████████████████████████████████████████████████████████████████████████████████████████████████████████████████████████| 100/100 [12:51<00:00,  7.72s/it]\n",
      "100%|███████████████████████████████████████████████████████████████████████████████████████████████████████████████████████████████████████████████████████████████████████| 100/100 [12:59<00:00,  7.79s/it]\n",
      "100%|███████████████████████████████████████████████████████████████████████████████████████████████████████████████████████████████████████████████████████████████████████| 100/100 [13:02<00:00,  7.83s/it]\n",
      "100%|███████████████████████████████████████████████████████████████████████████████████████████████████████████████████████████████████████████████████████████████████████| 100/100 [13:07<00:00,  7.87s/it]\n",
      "100%|███████████████████████████████████████████████████████████████████████████████████████████████████████████████████████████████████████████████████████████████████████| 100/100 [13:04<00:00,  7.84s/it]\n",
      "100%|███████████████████████████████████████████████████████████████████████████████████████████████████████████████████████████████████████████████████████████████████████| 100/100 [12:57<00:00,  7.77s/it]\n",
      "100%|███████████████████████████████████████████████████████████████████████████████████████████████████████████████████████████████████████████████████████████████████████| 100/100 [12:54<00:00,  7.74s/it]\n",
      "100%|███████████████████████████████████████████████████████████████████████████████████████████████████████████████████████████████████████████████████████████████████████| 100/100 [12:56<00:00,  7.76s/it]\n",
      "100%|███████████████████████████████████████████████████████████████████████████████████████████████████████████████████████████████████████████████████████████████████████| 100/100 [12:48<00:00,  7.68s/it]\n",
      "100%|███████████████████████████████████████████████████████████████████████████████████████████████████████████████████████████████████████████████████████████████████████| 100/100 [12:48<00:00,  7.68s/it]\n",
      "100%|███████████████████████████████████████████████████████████████████████████████████████████████████████████████████████████████████████████████████████████████████████| 100/100 [12:27<00:00,  7.47s/it]\n",
      "100%|███████████████████████████████████████████████████████████████████████████████████████████████████████████████████████████████████████████████████████████████████████| 100/100 [11:49<00:00,  7.09s/it]\n",
      "100%|███████████████████████████████████████████████████████████████████████████████████████████████████████████████████████████████████████████████████████████████████████| 100/100 [07:58<00:00,  4.79s/it]\n"
     ]
    },
    {
     "data": {
      "image/png": "[encoded data removed]",
      "text/plain": [
       "<Figure size 600x600 with 1 Axes>"
      ]
     },
     "metadata": {},
     "output_type": "display_data"
    }
   ],
   "source": [
    "sh_ages=[]\n",
    "age2=[]\n",
    "acc=[]\n",
    "sh_acc=[]\n",
    "for age,_df in enumerate(data.groupby('age')):\n",
    "    #ages.extend(_df[1].index.get_level_values('remapped_bins').to_numpy())\n",
    "    age2.append(_df[0])\n",
    "    x = _df[1].to_numpy()\n",
    "    #x = np.log(x + 1e-6)\n",
    "    plt.title(str(_df[0]))\n",
    "    y=_df[1].index.get_level_values('sex')\n",
    "    y_pred = cross_val_predict(clf, x, y, cv=cv)\n",
    "    acc.append(np.mean(cross_val_score(clf, x, y, cv=cv)))\n",
    "    for i in tqdm(range(it)):\n",
    "        sh_ages.append(_df[0])\n",
    "        ysh_temp=np.random.permutation(y)\n",
    "        sh_acc.append(np.mean(cross_val_score(clf, x, ysh_temp, cv=cv)))"
   ]
  },
  {
   "cell_type": "code",
   "execution_count": 11,
   "id": "bec247d3",
   "metadata": {},
   "outputs": [],
   "source": [
    "# create df for plotting\n",
    "df_sh = pd.DataFrame()\n",
    "df_sh['acc']=sh_acc\n",
    "df_sh['ages'] = sh_ages\n",
    "\n",
    "df = pd.DataFrame()\n",
    "df['acc']=acc\n",
    "df['ages'] = age2"
   ]
  },
  {
   "cell_type": "code",
   "execution_count": 12,
   "id": "35bff88c",
   "metadata": {},
   "outputs": [
    {
     "data": {
      "text/plain": [
       "(array([-20.,   0.,  20.,  40.,  60.,  80., 100.]),\n",
       " [Text(-20.0, 0, '−20'),\n",
       "  Text(0.0, 0, '0'),\n",
       "  Text(20.0, 0, '20'),\n",
       "  Text(40.0, 0, '40'),\n",
       "  Text(60.0, 0, '60'),\n",
       "  Text(80.0, 0, '80'),\n",
       "  Text(100.0, 0, '100')])"
      ]
     },
     "execution_count": 12,
     "metadata": {},
     "output_type": "execute_result"
    },
    {
     "data": {
      "image/png": "[encoded data removed]",
      "text/plain": [
       "<Figure size 400x400 with 1 Axes>"
      ]
     },
     "metadata": {},
     "output_type": "display_data"
    }
   ],
   "source": [
    "fig, ax = plt.subplots(figsize=(2, 2))\n",
    "#sns.violinplot(data=df_sh, x=\"ages\", y=\"acc\", ax=ax, color='gray')\n",
    "sns.lineplot(data=df_sh, x=\"ages\", y=\"acc\", ax=ax, color='silver', estimator='mean', errorbar=('sd', 2))\n",
    "#sns.pointplot(data=df, x=\"ages\", y=\"acc\",\n",
    "              #xticklabels=1,\n",
    "              #dodge=0, \n",
    "#              join=False, \n",
    "#              ax=ax, \n",
    "#              scale=1,\n",
    "#              hue='ages',\n",
    " #             palette='Blues',\n",
    "              #edgecolor='gray',\n",
    "              #linewidth=0.3\n",
    " #            )\n",
    "#sns.lineplot(data=df, x=\"ages\", y=\"acc\", ax=ax, color='gray')\n",
    "sns.lineplot (data=df, x='ages', y='acc', \n",
    "              markers=True, \n",
    "              marker='o',\n",
    "              markersize=5,\n",
    "              palette = cma,\n",
    "              hue='ages',\n",
    "              linestyle='-',\n",
    "              markeredgecolor='silver', \n",
    "              markeredgewidth=0.25,\n",
    "             legend=False)\n",
    "plt.ylim([0.0,1.1])\n",
    "plt.legend([],[], frameon=False)\n",
    "sns.despine()\n",
    "plt.xticks(rotation=45)"
   ]
  },
  {
   "cell_type": "code",
   "execution_count": 14,
   "id": "b78e4fd0",
   "metadata": {},
   "outputs": [],
   "source": [
    "c = PlotConfig()\n",
    "fig.savefig(c.dana_save_path / \"fig3\"/ 'fvm_sex_decoder_across_life.pdf', bbox_inches='tight')"
   ]
  },
  {
   "cell_type": "code",
   "execution_count": null,
   "id": "11759212",
   "metadata": {},
   "outputs": [],
   "source": []
  }
 ],
 "metadata": {
  "kernelspec": {
   "display_name": "Python 3 (ipykernel)",
   "language": "python",
   "name": "python3"
  },
  "language_info": {
   "codemirror_mode": {
    "name": "ipython",
    "version": 3
   },
   "file_extension": ".py",
   "mimetype": "text/x-python",
   "name": "python",
   "nbconvert_exporter": "python",
   "pygments_lexer": "ipython3",
   "version": "3.10.12"
  }
 },
 "nbformat": 4,
 "nbformat_minor": 5
}
