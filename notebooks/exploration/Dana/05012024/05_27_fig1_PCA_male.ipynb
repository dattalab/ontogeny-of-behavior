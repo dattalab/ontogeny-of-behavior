{
 "cells": [
  {
   "cell_type": "code",
   "execution_count": 1,
   "id": "a77ea523",
   "metadata": {},
   "outputs": [],
   "source": [
    "import numpy as np\n",
    "import pandas as pd\n",
    "import seaborn as sns\n",
    "import matplotlib.pyplot as plt\n",
    "from aging.plotting import format_plots, PlotConfig, save_factory, figure, legend, format_pizza_plots\n",
    "from collections import Counter\n",
    "from matplotlib.lines import Line2D"
   ]
  },
  {
   "cell_type": "code",
   "execution_count": 2,
   "id": "d1dc615e",
   "metadata": {},
   "outputs": [],
   "source": [
    "import numpy as np\n",
    "import pandas as pd\n",
    "import matplotlib.pyplot as plt\n",
    "import seaborn as sns\n",
    "import colorcet as cc\n",
    "from operator import add\n",
    "from tqdm.auto import tqdm\n",
    "from functools import reduce\n",
    "from sklearn.cluster import KMeans\n",
    "from sklearn.decomposition import PCA\n",
    "from scipy.spatial.distance import squareform, pdist\n",
    "from sklearn.metrics import silhouette_score\n",
    "from aging.plotting import format_plots, figure, save_factory, PlotConfig, legend, add_identity\n",
    "from sklearn.cross_decomposition import PLSRegression"
   ]
  },
  {
   "cell_type": "code",
   "execution_count": 3,
   "id": "86bc3f62",
   "metadata": {},
   "outputs": [],
   "source": [
    "from matplotlib.colors import LinearSegmentedColormap\n",
    "# Define the color map\n",
    "colors = ['#d94801','white','#008C8D']\n",
    "custom_cmap = LinearSegmentedColormap.from_list(\"custom_purples\", colors, N=256)\n",
    "cmmf=custom_cmap\n",
    "\n",
    "colors = ['#dadaeb','#6a51a3']\n",
    "custom_cmap = LinearSegmentedColormap.from_list(\"custom_purples\", colors, N=256)\n",
    "cma=custom_cmap\n",
    "\n",
    "colors = ['white','gray']\n",
    "custom_cmap = LinearSegmentedColormap.from_list(\"custom_purples\", colors, N=256)\n",
    "cma=custom_cmap\n",
    "\n",
    "colors = ['#ccece6','#99d8c9','#66c2a4','#41ae76','#238b45','#006d2c']\n",
    "cml = sns.blend_palette(colors, n_colors=256, as_cmap=True)\n",
    "\n",
    "# Define the color map\n",
    "colors = ['#fee6ce','#d94801']\n",
    "custom_cmap = LinearSegmentedColormap.from_list(\"custom_purples\", colors, N=256)\n",
    "cmf=custom_cmap\n",
    "\n",
    "colors = ['#c7eae5','#008C8D']\n",
    "custom_cmap = LinearSegmentedColormap.from_list(\"custom_purples\", colors, N=256)\n",
    "cmm=custom_cmap"
   ]
  },
  {
   "cell_type": "code",
   "execution_count": 4,
   "id": "86571b2b",
   "metadata": {},
   "outputs": [],
   "source": [
    "def mm_norm_col(column):\n",
    "    return (column - column.min()) / (column.max() - column.min())"
   ]
  },
  {
   "cell_type": "code",
   "execution_count": 5,
   "id": "7866371a",
   "metadata": {},
   "outputs": [],
   "source": [
    "## arrange data\n",
    "## arrange data for females\n",
    "keep_syllables = np.loadtxt('/n/groups/datta/win/longtogeny/data/ontogeny/version_11/to_keep_syllables_raw.txt', dtype=int)\n",
    "\n",
    "\n",
    "male_df = pd.read_parquet('/n/groups/datta/win/longtogeny/data/ontogeny/version_11-1/beh_age_df/ontogeny_males_raw_usage_df_beh_age.parquet').astype(float)\n",
    "male_df = male_df[keep_syllables]\n",
    "\n",
    "\n",
    "\n",
    "# for female:\n",
    "m_df= male_df.groupby(['age','uuid']).mean()"
   ]
  },
  {
   "cell_type": "code",
   "execution_count": 6,
   "id": "4ac4e86e",
   "metadata": {},
   "outputs": [],
   "source": [
    "#average and normalize female\n",
    "avg_m_df = m_df.groupby(['age']).mean()\n",
    "# normalize the data\n",
    "m_norm = mm_norm_col(m_df)\n",
    "avg_m_norm = mm_norm_col(avg_m_df)"
   ]
  },
  {
   "cell_type": "code",
   "execution_count": 7,
   "id": "098c36b1",
   "metadata": {},
   "outputs": [],
   "source": [
    "df = m_norm.copy()"
   ]
  },
  {
   "cell_type": "code",
   "execution_count": 8,
   "id": "ca80eceb",
   "metadata": {},
   "outputs": [],
   "source": [
    "pc = PCA(n_components=3)\n",
    "pcss = pc.fit_transform(df)"
   ]
  },
  {
   "cell_type": "code",
   "execution_count": 9,
   "id": "a36d890b",
   "metadata": {},
   "outputs": [],
   "source": [
    "pcs = pd.DataFrame(pcss, columns=['PC1','PC2','PC3'])\n",
    "pcs['age'] = df.index.get_level_values('age')"
   ]
  },
  {
   "cell_type": "code",
   "execution_count": 10,
   "id": "89375f2d",
   "metadata": {},
   "outputs": [],
   "source": [
    "age_pc = pcs.groupby('age').mean()"
   ]
  },
  {
   "cell_type": "code",
   "execution_count": 11,
   "id": "9c9866b4",
   "metadata": {},
   "outputs": [],
   "source": [
    "variance_explained = pc.explained_variance_ratio_\n",
    "# Calculate cumulative variance explained by PCs\n",
    "cumulative_variance_explained = np.cumsum(variance_explained)"
   ]
  },
  {
   "cell_type": "code",
   "execution_count": 12,
   "id": "5a26c03e",
   "metadata": {},
   "outputs": [
    {
     "name": "stdout",
     "output_type": "stream",
     "text": [
      "[0.20714413 0.35734183 0.47016506]\n"
     ]
    }
   ],
   "source": [
    "print(cumulative_variance_explained)\n",
    "format_plots()"
   ]
  },
  {
   "cell_type": "code",
   "execution_count": 13,
   "id": "d66e3166",
   "metadata": {},
   "outputs": [],
   "source": [
    "# Create a colormap\n",
    "#colors = plt.cm.cmf(np.linspace(0, 1, len(pcs)))\n",
    "from matplotlib.collections import LineCollection\n",
    "# Create segments for LineCollection\n",
    "points = np.array([age_pc['PC1'],age_pc['PC2']]).T.reshape(-1, 1, 2)\n",
    "segments = np.concatenate([points[:-1], points[1:]], axis=1)\n",
    "\n",
    "# Create the line collection object\n",
    "lc = LineCollection(segments, cmap=cmm, norm=plt.Normalize(0, 1))\n",
    "lc.set_array(np.linspace(0, 1, len(age_pc['PC1'])))"
   ]
  },
  {
   "cell_type": "code",
   "execution_count": 14,
   "id": "78d6bf16",
   "metadata": {},
   "outputs": [
    {
     "data": {
      "text/plain": [
       "Text(0, 0.5, 'PC2')"
      ]
     },
     "execution_count": 14,
     "metadata": {},
     "output_type": "execute_result"
    },
    {
     "data": {
      "image/png": "[encoded data removed]",
      "text/plain": [
       "<Figure size 260x200 with 2 Axes>"
      ]
     },
     "metadata": {},
     "output_type": "display_data"
    }
   ],
   "source": [
    "fig, ax = plt.subplots()\n",
    "fig.set_size_inches(1.3,1) \n",
    "im = ax.scatter(x=pcs['PC1'], y=pcs['PC2'], \n",
    "                cmap=cmm,\n",
    "                s=8,\n",
    "                edgecolor='none',\n",
    "                c=pcs['age'], \n",
    "               )\n",
    "cb=fig.colorbar(im,ax=ax)\n",
    "\n",
    "tick_values = [4,20,40,60,80,100]\n",
    "cb.set_ticks(tick_values)\n",
    "cb.set_ticklabels([f'{int(tick)}' for tick in tick_values])\n",
    "# Add more ticks\n",
    "sns.despine()\n",
    "#plt.title('female ontogeny')\n",
    "plt.xlabel('PC1')\n",
    "plt.ylabel('PC2')"
   ]
  },
  {
   "cell_type": "code",
   "execution_count": 15,
   "id": "22da665b",
   "metadata": {},
   "outputs": [],
   "source": [
    "c = PlotConfig()\n",
    "fig.savefig(c.dana_save_path / \"bio\"/ 'PCA_male_norm.pdf')"
   ]
  },
  {
   "cell_type": "code",
   "execution_count": 16,
   "id": "20f40628",
   "metadata": {},
   "outputs": [
    {
     "data": {
      "image/png": "[encoded data removed]",
      "text/plain": [
       "<Figure size 260x200 with 2 Axes>"
      ]
     },
     "metadata": {},
     "output_type": "display_data"
    }
   ],
   "source": [
    "# Create segments for LineCollection\n",
    "points = np.array([age_pc['PC1'], age_pc['PC2']]).T.reshape(-1, 1, 2)\n",
    "segments = np.concatenate([points[:-1], points[1:]], axis=1)\n",
    "\n",
    "# Create the line collection object\n",
    "lc = LineCollection(segments, cmap=cmm, norm=plt.Normalize(0, 1),linewidth=1)\n",
    "lc.set_array(np.linspace(0, 1, len(age_pc['PC1'])))\n",
    "# Create the outer black line collection\n",
    "black_lc = LineCollection(segments, colors='black', linewidth=1.5)\n",
    "\n",
    "# Plot\n",
    "fig, ax = plt.subplots()\n",
    "fig.set_size_inches(1.3, 1)\n",
    "\n",
    "# Scatter plot\n",
    "im = ax.scatter(\n",
    "    x=pcs['PC1'], y=pcs['PC2'], \n",
    "    c=pcs['age'], \n",
    "    cmap=cmm,\n",
    "    s=8,\n",
    "    edgecolor='none',\n",
    ")\n",
    "\n",
    "# Add colorbar\n",
    "cb = fig.colorbar(im, ax=ax)\n",
    "tick_values = [4,20,40,60,80,100]\n",
    "cb.set_ticks(tick_values)\n",
    "cb.set_ticklabels([f'{int(tick)}' for tick in tick_values])\n",
    "\n",
    "\n",
    "# Add the black line collection to the plot\n",
    "ax.add_collection(black_lc)\n",
    "\n",
    "# Add line collection to the plot\n",
    "ax.add_collection(lc)\n",
    "ax.autoscale()\n",
    "\n",
    "# Customize the plot\n",
    "sns.despine()\n",
    "plt.xlabel('PC1')\n",
    "plt.ylabel('PC2')\n",
    "plt.show()"
   ]
  },
  {
   "cell_type": "code",
   "execution_count": 17,
   "id": "af6dc64f",
   "metadata": {},
   "outputs": [],
   "source": [
    "c = PlotConfig()\n",
    "fig.savefig(c.dana_save_path / \"bio\"/ 'PCA_male_norm_line.pdf')"
   ]
  },
  {
   "cell_type": "code",
   "execution_count": 18,
   "id": "eedf52c7",
   "metadata": {},
   "outputs": [
    {
     "name": "stdout",
     "output_type": "stream",
     "text": [
      "-0.909266952217804\n"
     ]
    }
   ],
   "source": [
    "#PC1 correlation\n",
    "from scipy import stats\n",
    "[cm,pm] = stats.spearmanr(pcs['age'], pcs['PC1'])\n",
    "print(cm)"
   ]
  },
  {
   "cell_type": "code",
   "execution_count": null,
   "id": "1632a8e7",
   "metadata": {
    "scrolled": true
   },
   "outputs": [
    {
     "name": "stderr",
     "output_type": "stream",
     "text": [
      "/tmp/ipykernel_11728/1233151648.py:23: MatplotlibDeprecationWarning: Unable to determine Axes to steal space for Colorbar. Using gca(), but will raise in the future. Either provide the *cax* argument to use as the Axes for the Colorbar, provide the *ax* argument to steal space from it, or add *mappable* to an Axes.\n",
      "  ax.figure.colorbar(sm)\n",
      "findfont: Font family ['cursive'] not found. Falling back to DejaVu Sans.\n",
      "findfont: Generic family 'cursive' not found because none of the following families were found: Apple Chancery, Textile, Zapf Chancery, Sand, Script MT, Felipa, Comic Neue, Comic Sans MS, cursive\n",
      "findfont: Font family ['Liberation Sans'] not found. Falling back to DejaVu Sans.\n",
      "findfont: Font family ['Liberation Sans'] not found. Falling back to DejaVu Sans.\n",
      "findfont: Font family ['Liberation Sans'] not found. Falling back to DejaVu Sans.\n"
     ]
    }
   ],
   "source": [
    "fig, ax = plt.subplots()\n",
    "fig.set_size_inches(1.3,1) \n",
    "plt.scatter(x=pcs['age'], y=pcs['PC1'], \n",
    "            s=8, \n",
    "            c=pcs['age'], \n",
    "            edgecolor='none',\n",
    "            #linewidth=0.25,\n",
    "            #norm='log',\n",
    "            #alpha=0.75,\n",
    "            cmap=cmm)\n",
    "ax = sns.regplot(data=pcs, x='age', y=pcs['PC1'], scatter=False, color='black',\n",
    "                 logx=True,x_ci='sd',\n",
    "                )\n",
    "ax.set(xlabel='age (wks)', ylabel='PC1')\n",
    "plt.title(f'$\\\\rho$={cm:0.2f}')\n",
    "norm = plt.Normalize(pcs['age'].min(), pcs['age'].max())\n",
    "sns.despine()\n",
    "sm = plt.cm.ScalarMappable(cmap=cmm, norm=norm)\n",
    "sm.set_array([])\n",
    "\n",
    "\n",
    "# Remove the legend and add a colorbar\n",
    "ax.figure.colorbar(sm)\n",
    "\n",
    "c = PlotConfig()\n",
    "fig.savefig(c.dana_save_path / \"bio\"/ 'PCA_male_pc1_corr.pdf')"
   ]
  },
  {
   "cell_type": "code",
   "execution_count": null,
   "id": "5c50ea3d",
   "metadata": {},
   "outputs": [],
   "source": []
  }
 ],
 "metadata": {
  "kernelspec": {
   "display_name": "Python 3 (ipykernel)",
   "language": "python",
   "name": "python3"
  },
  "language_info": {
   "codemirror_mode": {
    "name": "ipython",
    "version": 3
   },
   "file_extension": ".py",
   "mimetype": "text/x-python",
   "name": "python",
   "nbconvert_exporter": "python",
   "pygments_lexer": "ipython3",
   "version": "3.10.12"
  }
 },
 "nbformat": 4,
 "nbformat_minor": 5
}
