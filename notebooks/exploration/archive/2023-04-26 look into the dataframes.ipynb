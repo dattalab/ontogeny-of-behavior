{
 "cells": [
  {
   "cell_type": "code",
   "execution_count": 1,
   "id": "61f7a930-1435-4b90-a6e8-7cf298db0147",
   "metadata": {
    "tags": []
   },
   "outputs": [],
   "source": [
    "import pandas as pd\n",
    "import numpy as np\n",
    "from aging.organization.longtogeny import LongtogenyPaths"
   ]
  },
  {
   "cell_type": "code",
   "execution_count": 2,
   "id": "7ac9cb81-e544-452d-b270-fc9462bf962a",
   "metadata": {
    "tags": []
   },
   "outputs": [],
   "source": [
    "pth = LongtogenyPaths()"
   ]
  },
  {
   "cell_type": "code",
   "execution_count": 3,
   "id": "b7ca066e-9b6c-40aa-a8d0-7a893d4826b3",
   "metadata": {
    "tags": []
   },
   "outputs": [
    {
     "data": {
      "text/plain": [
       "PosixPath('/n/groups/datta/rockwell/k2_data_gen4/longtogeny/LONG_AND_ONT/220323_long_ont_model_robust_s6.p')"
      ]
     },
     "execution_count": 3,
     "metadata": {},
     "output_type": "execute_result"
    }
   ],
   "source": [
    "pth.model_file"
   ]
  },
  {
   "cell_type": "code",
   "execution_count": 4,
   "id": "9e4618f0-4fa5-4e13-8026-c88588129642",
   "metadata": {
    "tags": []
   },
   "outputs": [
    {
     "data": {
      "text/plain": [
       "PosixPath('/n/groups/datta/rockwell/k2_data_gen4/longtogeny/LONG_AND_ONT/220323_long_and_ont_moseq6-index.yaml')"
      ]
     },
     "execution_count": 4,
     "metadata": {},
     "output_type": "execute_result"
    }
   ],
   "source": [
    "pth.index_file"
   ]
  },
  {
   "cell_type": "code",
   "execution_count": 5,
   "id": "000a3f52-b033-48d7-b32c-cf6ae34e72d9",
   "metadata": {
    "tags": []
   },
   "outputs": [],
   "source": [
    "df = pd.read_parquet(pth.intermediate_folder / \"rec_lon_male.parquet\")"
   ]
  },
  {
   "cell_type": "code",
   "execution_count": 6,
   "id": "c03e8656-3f06-43c9-8e8a-0e151ed918e6",
   "metadata": {
    "tags": []
   },
   "outputs": [
    {
     "data": {
      "text/html": [
       "<div>\n",
       "<style scoped>\n",
       "    .dataframe tbody tr th:only-of-type {\n",
       "        vertical-align: middle;\n",
       "    }\n",
       "\n",
       "    .dataframe tbody tr th {\n",
       "        vertical-align: top;\n",
       "    }\n",
       "\n",
       "    .dataframe thead th {\n",
       "        text-align: right;\n",
       "    }\n",
       "</style>\n",
       "<table border=\"1\" class=\"dataframe\">\n",
       "  <thead>\n",
       "    <tr style=\"text-align: right;\">\n",
       "      <th></th>\n",
       "      <th>uuid</th>\n",
       "      <th>subject_name</th>\n",
       "      <th>session_name</th>\n",
       "      <th>session_date</th>\n",
       "      <th>session_date_name</th>\n",
       "      <th>start_time</th>\n",
       "      <th>group</th>\n",
       "      <th>rec_full</th>\n",
       "      <th>rec</th>\n",
       "      <th>full_path</th>\n",
       "      <th>labels</th>\n",
       "      <th>onset</th>\n",
       "      <th>mouse_id</th>\n",
       "      <th>cage_id</th>\n",
       "      <th>age</th>\n",
       "    </tr>\n",
       "  </thead>\n",
       "  <tbody>\n",
       "    <tr>\n",
       "      <th>0</th>\n",
       "      <td>6dbe0679-9fc6-47fe-911b-d5cec68cfb7d</td>\n",
       "      <td>04_04_030</td>\n",
       "      <td>010</td>\n",
       "      <td>2021-04-08 18:23:33</td>\n",
       "      <td>session_20210408182333</td>\n",
       "      <td>2021-04-08T18:23:34.9759139-04:00</td>\n",
       "      <td>default</td>\n",
       "      <td>rec_lon_male_20210408</td>\n",
       "      <td>rec_lon_male</td>\n",
       "      <td>/n/groups/datta/rockwell/k2_data_gen3/longtoge...</td>\n",
       "      <td>-5</td>\n",
       "      <td>False</td>\n",
       "      <td>4</td>\n",
       "      <td>4</td>\n",
       "      <td>33</td>\n",
       "    </tr>\n",
       "    <tr>\n",
       "      <th>1</th>\n",
       "      <td>6dbe0679-9fc6-47fe-911b-d5cec68cfb7d</td>\n",
       "      <td>04_04_030</td>\n",
       "      <td>010</td>\n",
       "      <td>2021-04-08 18:23:33</td>\n",
       "      <td>session_20210408182333</td>\n",
       "      <td>2021-04-08T18:23:34.9759139-04:00</td>\n",
       "      <td>default</td>\n",
       "      <td>rec_lon_male_20210408</td>\n",
       "      <td>rec_lon_male</td>\n",
       "      <td>/n/groups/datta/rockwell/k2_data_gen3/longtoge...</td>\n",
       "      <td>-5</td>\n",
       "      <td>False</td>\n",
       "      <td>4</td>\n",
       "      <td>4</td>\n",
       "      <td>33</td>\n",
       "    </tr>\n",
       "    <tr>\n",
       "      <th>2</th>\n",
       "      <td>6dbe0679-9fc6-47fe-911b-d5cec68cfb7d</td>\n",
       "      <td>04_04_030</td>\n",
       "      <td>010</td>\n",
       "      <td>2021-04-08 18:23:33</td>\n",
       "      <td>session_20210408182333</td>\n",
       "      <td>2021-04-08T18:23:34.9759139-04:00</td>\n",
       "      <td>default</td>\n",
       "      <td>rec_lon_male_20210408</td>\n",
       "      <td>rec_lon_male</td>\n",
       "      <td>/n/groups/datta/rockwell/k2_data_gen3/longtoge...</td>\n",
       "      <td>-5</td>\n",
       "      <td>False</td>\n",
       "      <td>4</td>\n",
       "      <td>4</td>\n",
       "      <td>33</td>\n",
       "    </tr>\n",
       "    <tr>\n",
       "      <th>3</th>\n",
       "      <td>6dbe0679-9fc6-47fe-911b-d5cec68cfb7d</td>\n",
       "      <td>04_04_030</td>\n",
       "      <td>010</td>\n",
       "      <td>2021-04-08 18:23:33</td>\n",
       "      <td>session_20210408182333</td>\n",
       "      <td>2021-04-08T18:23:34.9759139-04:00</td>\n",
       "      <td>default</td>\n",
       "      <td>rec_lon_male_20210408</td>\n",
       "      <td>rec_lon_male</td>\n",
       "      <td>/n/groups/datta/rockwell/k2_data_gen3/longtoge...</td>\n",
       "      <td>13</td>\n",
       "      <td>True</td>\n",
       "      <td>4</td>\n",
       "      <td>4</td>\n",
       "      <td>33</td>\n",
       "    </tr>\n",
       "    <tr>\n",
       "      <th>4</th>\n",
       "      <td>6dbe0679-9fc6-47fe-911b-d5cec68cfb7d</td>\n",
       "      <td>04_04_030</td>\n",
       "      <td>010</td>\n",
       "      <td>2021-04-08 18:23:33</td>\n",
       "      <td>session_20210408182333</td>\n",
       "      <td>2021-04-08T18:23:34.9759139-04:00</td>\n",
       "      <td>default</td>\n",
       "      <td>rec_lon_male_20210408</td>\n",
       "      <td>rec_lon_male</td>\n",
       "      <td>/n/groups/datta/rockwell/k2_data_gen3/longtoge...</td>\n",
       "      <td>13</td>\n",
       "      <td>False</td>\n",
       "      <td>4</td>\n",
       "      <td>4</td>\n",
       "      <td>33</td>\n",
       "    </tr>\n",
       "  </tbody>\n",
       "</table>\n",
       "</div>"
      ],
      "text/plain": [
       "                                   uuid subject_name session_name   \n",
       "0  6dbe0679-9fc6-47fe-911b-d5cec68cfb7d    04_04_030          010  \\\n",
       "1  6dbe0679-9fc6-47fe-911b-d5cec68cfb7d    04_04_030          010   \n",
       "2  6dbe0679-9fc6-47fe-911b-d5cec68cfb7d    04_04_030          010   \n",
       "3  6dbe0679-9fc6-47fe-911b-d5cec68cfb7d    04_04_030          010   \n",
       "4  6dbe0679-9fc6-47fe-911b-d5cec68cfb7d    04_04_030          010   \n",
       "\n",
       "         session_date       session_date_name   \n",
       "0 2021-04-08 18:23:33  session_20210408182333  \\\n",
       "1 2021-04-08 18:23:33  session_20210408182333   \n",
       "2 2021-04-08 18:23:33  session_20210408182333   \n",
       "3 2021-04-08 18:23:33  session_20210408182333   \n",
       "4 2021-04-08 18:23:33  session_20210408182333   \n",
       "\n",
       "                          start_time    group               rec_full   \n",
       "0  2021-04-08T18:23:34.9759139-04:00  default  rec_lon_male_20210408  \\\n",
       "1  2021-04-08T18:23:34.9759139-04:00  default  rec_lon_male_20210408   \n",
       "2  2021-04-08T18:23:34.9759139-04:00  default  rec_lon_male_20210408   \n",
       "3  2021-04-08T18:23:34.9759139-04:00  default  rec_lon_male_20210408   \n",
       "4  2021-04-08T18:23:34.9759139-04:00  default  rec_lon_male_20210408   \n",
       "\n",
       "            rec                                          full_path  labels   \n",
       "0  rec_lon_male  /n/groups/datta/rockwell/k2_data_gen3/longtoge...      -5  \\\n",
       "1  rec_lon_male  /n/groups/datta/rockwell/k2_data_gen3/longtoge...      -5   \n",
       "2  rec_lon_male  /n/groups/datta/rockwell/k2_data_gen3/longtoge...      -5   \n",
       "3  rec_lon_male  /n/groups/datta/rockwell/k2_data_gen3/longtoge...      13   \n",
       "4  rec_lon_male  /n/groups/datta/rockwell/k2_data_gen3/longtoge...      13   \n",
       "\n",
       "   onset  mouse_id  cage_id  age  \n",
       "0  False         4        4   33  \n",
       "1  False         4        4   33  \n",
       "2  False         4        4   33  \n",
       "3   True         4        4   33  \n",
       "4  False         4        4   33  "
      ]
     },
     "execution_count": 6,
     "metadata": {},
     "output_type": "execute_result"
    }
   ],
   "source": [
    "df.head()"
   ]
  },
  {
   "cell_type": "code",
   "execution_count": 7,
   "id": "1a530c03-a2df-4bb2-9d7c-51c575da875b",
   "metadata": {
    "tags": []
   },
   "outputs": [
    {
     "data": {
      "text/plain": [
       "array([ 24,  25,  26,  27,  28,  29,  30,  31,  32,  33,  34,  35,  45,\n",
       "        48,  51,  58,  61,  65,  68,  69,  73,  76,  79,  82,  86,  87,\n",
       "        89,  93,  95,  96, 100, 103, 110, 117, 124, 131, 138, 145, 146,\n",
       "       151, 152, 160, 168, 185, 186, 196, 202, 208, 209, 217, 224, 231,\n",
       "       246, 253, 257, 258, 273, 288, 357, 363, 369, 379], dtype=int32)"
      ]
     },
     "execution_count": 7,
     "metadata": {},
     "output_type": "execute_result"
    }
   ],
   "source": [
    "np.sort(df['age'].unique())"
   ]
  },
  {
   "cell_type": "code",
   "execution_count": null,
   "id": "dcb0b68f-21c8-4bff-8e29-f860cfca4344",
   "metadata": {},
   "outputs": [],
   "source": []
  }
 ],
 "metadata": {
  "kernelspec": {
   "display_name": "Ontogeny",
   "language": "python",
   "name": "aging"
  },
  "language_info": {
   "codemirror_mode": {
    "name": "ipython",
    "version": 3
   },
   "file_extension": ".py",
   "mimetype": "text/x-python",
   "name": "python",
   "nbconvert_exporter": "python",
   "pygments_lexer": "ipython3",
   "version": "3.10.10"
  },
  "widgets": {
   "application/vnd.jupyter.widget-state+json": {
    "state": {},
    "version_major": 2,
    "version_minor": 0
   }
  }
 },
 "nbformat": 4,
 "nbformat_minor": 5
}
