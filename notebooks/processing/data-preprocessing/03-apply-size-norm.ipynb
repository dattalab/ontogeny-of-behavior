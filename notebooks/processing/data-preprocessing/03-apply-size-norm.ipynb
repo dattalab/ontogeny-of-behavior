{
 "cells": [
  {
   "cell_type": "code",
   "execution_count": 5,
   "metadata": {
    "tags": []
   },
   "outputs": [],
   "source": [
    "folders = [\n",
    "    '/n/groups/datta/Dana/Ontogeny/raw_data/Ontogeny_females',\n",
    "    '/n/groups/datta/Dana/Ontogeny/raw_data/Ontogeny_males',\n",
    "    '/n/groups/datta/Dana/Ontogeny/raw_data/longtogeny_pre_unet/Females',\n",
    "    '/n/groups/datta/Dana/Ontogeny/raw_data/longtogeny_pre_unet/Males',\n",
    "    '/n/groups/datta/min/dominance_v1',\n",
    "    '/n/groups/datta/min/community_v1',\n",
    "    # '/n/groups/datta/min/wheel_062023',\n",
    "    # '/n/groups/datta/min/cas_behavior_01',\n",
    "    # '/n/groups/datta/min/sham_behavior_01',\n",
    "]"
   ]
  },
  {
   "cell_type": "code",
   "execution_count": 2,
   "metadata": {
    "tags": []
   },
   "outputs": [],
   "source": [
    "# old model trained on females\n",
    "# model_path = '/n/groups/datta/win/longtogeny/size_norm/models/param_scan/bc632741-9de6-44bf-8b3c-e10e835948f8/Autoencoder-epoch=73-val_loss=5.84e-04.ckpt'\n",
    "\n",
    "# new model trained on males\n",
    "model_path = '/n/groups/datta/win/longtogeny/size_norm/models/pre_final_model/model.pt'"
   ]
  },
  {
   "cell_type": "code",
   "execution_count": 3,
   "metadata": {
    "tags": []
   },
   "outputs": [],
   "source": [
    "script = '''#!/bin/env bash\n",
    "#SBATCH -c 1\n",
    "#SBATCH -n 1\n",
    "#SBATCH --mem=8G\n",
    "#SBATCH -p gpu_quad\n",
    "#SBATCH --gres=gpu:1\n",
    "#SBATCH -t 04:00:00\n",
    "#SBATCH --output=/n/scratch3/users/w/wg41/tmp/win-size-norm-%j.out\n",
    "\n",
    "source $HOME/.bashrc\n",
    "conda activate aging\n",
    "module load gcc/9.2.0\n",
    "module load cuda/11.7\n",
    "python $HOME/code/ontogeny/scripts/02-apply-dnn.py \"{data_path}\" \"{model_path}\" --key win_size_norm_frames_v2\n",
    "'''"
   ]
  },
  {
   "cell_type": "code",
   "execution_count": 6,
   "metadata": {
    "tags": []
   },
   "outputs": [
    {
     "name": "stdout",
     "output_type": "stream",
     "text": [
      "sbatch: Setting QOS to gpuquad_qos\n",
      "Submitted batch job 11770455\n",
      "sbatch: Setting QOS to gpuquad_qos\n",
      "Submitted batch job 11770456\n",
      "sbatch: Setting QOS to gpuquad_qos\n",
      "Submitted batch job 11770457\n",
      "sbatch: Setting QOS to gpuquad_qos\n",
      "Submitted batch job 11770459\n"
     ]
    }
   ],
   "source": [
    "for folder in folders:\n",
    "    new_script = script.format(data_path=folder, model_path=model_path)\n",
    "    with open('tmp.sh', 'w') as f:\n",
    "        f.write(new_script)\n",
    "    !sbatch tmp.sh\n",
    "!rm tmp.sh"
   ]
  },
  {
   "cell_type": "code",
   "execution_count": null,
   "metadata": {},
   "outputs": [],
   "source": []
  }
 ],
 "metadata": {
  "kernelspec": {
   "display_name": "Python 3 (ipykernel)",
   "language": "python",
   "name": "python3"
  },
  "language_info": {
   "codemirror_mode": {
    "name": "ipython",
    "version": 3
   },
   "file_extension": ".py",
   "mimetype": "text/x-python",
   "name": "python",
   "nbconvert_exporter": "python",
   "pygments_lexer": "ipython3",
   "version": "3.7.4"
  },
  "widgets": {
   "application/vnd.jupyter.widget-state+json": {
    "state": {},
    "version_major": 2,
    "version_minor": 0
   }
  }
 },
 "nbformat": 4,
 "nbformat_minor": 4
}
