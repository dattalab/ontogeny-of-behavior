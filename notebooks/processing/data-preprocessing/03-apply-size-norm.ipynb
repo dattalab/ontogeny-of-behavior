{
 "cells": [
  {
   "cell_type": "code",
   "execution_count": 1,
   "metadata": {
    "tags": []
   },
   "outputs": [],
   "source": [
    "import os\n",
    "import h5py\n",
    "from datetime import timedelta\n",
    "from toolz import complement, curry, compose, valmap, valfilter\n",
    "from aging.organization.paths import FOLDERS"
   ]
  },
  {
   "cell_type": "code",
   "execution_count": 2,
   "metadata": {
    "tags": []
   },
   "outputs": [],
   "source": [
    "user = os.environ['USER']"
   ]
  },
  {
   "cell_type": "code",
   "execution_count": 3,
   "metadata": {
    "tags": []
   },
   "outputs": [
    {
     "data": {
      "text/plain": [
       "(PosixPath('/n/groups/datta/Dana/Ontogeny/raw_data/Ontogeny_females'),\n",
       " PosixPath('/n/groups/datta/Dana/Ontogeny/raw_data/Ontogeny_males'),\n",
       " PosixPath('/n/groups/datta/Dana/Ontogeny/raw_data/longtogeny_pre_unet/Males'),\n",
       " PosixPath('/n/groups/datta/min/longtogeny_072023'),\n",
       " PosixPath('/n/groups/datta/min/wheel_062023'))"
      ]
     },
     "execution_count": 3,
     "metadata": {},
     "output_type": "execute_result"
    }
   ],
   "source": [
    "FOLDERS"
   ]
  },
  {
   "cell_type": "code",
   "execution_count": 4,
   "metadata": {
    "tags": []
   },
   "outputs": [],
   "source": [
    "recon_key = \"win_size_norm_frames_v4\"\n",
    "max_time = timedelta(hours=8)\n",
    "min_time = timedelta(minutes=5)\n",
    "buffer = timedelta(minutes=5)"
   ]
  },
  {
   "cell_type": "code",
   "execution_count": 5,
   "metadata": {
    "tags": []
   },
   "outputs": [],
   "source": [
    "# old model trained on females\n",
    "# model_path = '/n/groups/datta/win/longtogeny/size_norm/models/param_scan/bc632741-9de6-44bf-8b3c-e10e835948f8/Autoencoder-epoch=73-val_loss=5.84e-04.ckpt'\n",
    "\n",
    "# new model trained on males\n",
    "# model_path = '/n/groups/datta/win/longtogeny/size_norm/models/pre_final_model/model.pt'\n",
    "model_path = '/home/wg41/groups/win/longtogeny/size_norm/models/pre_final_model-2023-08-02/model.pt'"
   ]
  },
  {
   "cell_type": "code",
   "execution_count": 6,
   "metadata": {
    "tags": []
   },
   "outputs": [],
   "source": [
    "# look through the contents of each folder and predict how long inference will take\n",
    "def has_key(path, key=recon_key):\n",
    "    try:\n",
    "        with h5py.File(path, \"r\") as h5f:\n",
    "            return key in h5f\n",
    "    except Exception:\n",
    "        # skip this file, because it errors\n",
    "        return True\n",
    "\n",
    "\n",
    "n_files = dict(\n",
    "    zip(\n",
    "        FOLDERS,\n",
    "        map(\n",
    "            compose(\n",
    "                sum,\n",
    "                curry(map)(complement(has_key)),\n",
    "                lambda f: f.glob(\"**/results_00.h5\"),\n",
    "            ),\n",
    "            FOLDERS,\n",
    "        ),\n",
    "    )\n",
    ")"
   ]
  },
  {
   "cell_type": "code",
   "execution_count": 7,
   "metadata": {
    "tags": []
   },
   "outputs": [
    {
     "data": {
      "text/plain": [
       "{PosixPath('/n/groups/datta/Dana/Ontogeny/raw_data/Ontogeny_females'): 0,\n",
       " PosixPath('/n/groups/datta/Dana/Ontogeny/raw_data/Ontogeny_males'): 0,\n",
       " PosixPath('/n/groups/datta/Dana/Ontogeny/raw_data/longtogeny_pre_unet/Males'): 0,\n",
       " PosixPath('/n/groups/datta/min/longtogeny_072023'): 54,\n",
       " PosixPath('/n/groups/datta/min/wheel_062023'): 0}"
      ]
     },
     "execution_count": 7,
     "metadata": {},
     "output_type": "execute_result"
    }
   ],
   "source": [
    "n_files"
   ]
  },
  {
   "cell_type": "code",
   "execution_count": 8,
   "metadata": {
    "tags": []
   },
   "outputs": [],
   "source": [
    "estimate_rate = 120  # seconds / file"
   ]
  },
  {
   "cell_type": "code",
   "execution_count": 9,
   "metadata": {
    "tags": []
   },
   "outputs": [],
   "source": [
    "time_est = valmap(lambda v: min(timedelta(seconds=v * estimate_rate), max_time), n_files)\n",
    "time_est = valfilter(lambda v: v > min_time, time_est)\n",
    "time_est = valmap(lambda v: v + buffer, time_est)"
   ]
  },
  {
   "cell_type": "code",
   "execution_count": 10,
   "metadata": {
    "tags": []
   },
   "outputs": [
    {
     "data": {
      "text/plain": [
       "{PosixPath('/n/groups/datta/min/longtogeny_072023'): datetime.timedelta(seconds=6780)}"
      ]
     },
     "execution_count": 10,
     "metadata": {},
     "output_type": "execute_result"
    }
   ],
   "source": [
    "time_est"
   ]
  },
  {
   "cell_type": "code",
   "execution_count": 11,
   "metadata": {
    "tags": []
   },
   "outputs": [],
   "source": [
    "script = '''#!/bin/env bash\n",
    "#SBATCH -c 1\n",
    "#SBATCH -n 1\n",
    "#SBATCH --mem=8G\n",
    "#SBATCH -p gpu_quad\n",
    "#SBATCH --gres=gpu:1\n",
    "#SBATCH -t {runtime}\n",
    "#SBATCH --output=/n/scratch3/users/{user}/tmp/win-size-norm-%j.out\n",
    "\n",
    "source $HOME/.bashrc\n",
    "conda activate aging\n",
    "module load gcc/9.2.0\n",
    "module load cuda/11.7\n",
    "python $HOME/code/ontogeny/scripts/02-apply-dnn.py \"{data_path}\" \"{model_path}\" --key {key}\n",
    "'''"
   ]
  },
  {
   "cell_type": "code",
   "execution_count": null,
   "metadata": {
    "tags": []
   },
   "outputs": [],
   "source": [
    "for folder, time in time_est.items():\n",
    "    new_script = script.format(\n",
    "        data_path=folder, model_path=model_path, user=f\"{user[0]}/{user}\", key=recon_key, runtime=time\n",
    "    )\n",
    "    with open(\"tmp.sh\", \"w\") as f:\n",
    "        f.write(new_script)\n",
    "    !sbatch tmp.sh\n",
    "!rm tmp.sh"
   ]
  },
  {
   "cell_type": "code",
   "execution_count": null,
   "metadata": {},
   "outputs": [],
   "source": []
  }
 ],
 "metadata": {
  "kernelspec": {
   "display_name": "Ontogeny",
   "language": "python",
   "name": "aging"
  },
  "language_info": {
   "codemirror_mode": {
    "name": "ipython",
    "version": 3
   },
   "file_extension": ".py",
   "mimetype": "text/x-python",
   "name": "python",
   "nbconvert_exporter": "python",
   "pygments_lexer": "ipython3",
   "version": "3.10.10"
  },
  "widgets": {
   "application/vnd.jupyter.widget-state+json": {
    "state": {},
    "version_major": 2,
    "version_minor": 0
   }
  }
 },
 "nbformat": 4,
 "nbformat_minor": 4
}
