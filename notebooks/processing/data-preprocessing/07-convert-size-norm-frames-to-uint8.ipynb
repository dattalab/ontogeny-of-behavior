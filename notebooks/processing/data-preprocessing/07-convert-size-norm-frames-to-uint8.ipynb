{
 "cells": [
  {
   "cell_type": "code",
   "execution_count": 1,
   "id": "7af34c96-68e4-4b7b-94de-793e2fa393ba",
   "metadata": {},
   "outputs": [],
   "source": [
    "import h5py\n",
    "import numpy as np\n",
    "from tqdm.auto import tqdm\n",
    "from aging.organization.paths import get_experiment_grouped_files"
   ]
  },
  {
   "cell_type": "code",
   "execution_count": 2,
   "id": "2b4340ad-dd1e-4e54-9605-315490abc1a4",
   "metadata": {},
   "outputs": [],
   "source": [
    "files = get_experiment_grouped_files()"
   ]
  },
  {
   "cell_type": "code",
   "execution_count": null,
   "id": "4bc32ed6-c2c8-41b3-a867-ca6295f1ea9f",
   "metadata": {},
   "outputs": [
    {
     "data": {
      "application/vnd.jupyter.widget-view+json": {
       "model_id": "4e3b8ff4b7dc4763901ccc0c3a67c2b0",
       "version_major": 2,
       "version_minor": 0
      },
      "text/plain": [
       "  0%|          | 0/338 [00:00<?, ?it/s]"
      ]
     },
     "metadata": {},
     "output_type": "display_data"
    },
    {
     "data": {
      "application/vnd.jupyter.widget-view+json": {
       "model_id": "883334591cfc4c4dab9719552ed29e18",
       "version_major": 2,
       "version_minor": 0
      },
      "text/plain": [
       "  0%|          | 0/363 [00:00<?, ?it/s]"
      ]
     },
     "metadata": {},
     "output_type": "display_data"
    },
    {
     "data": {
      "application/vnd.jupyter.widget-view+json": {
       "model_id": "be7f33752f2441d79c8e6e44e15c8b5f",
       "version_major": 2,
       "version_minor": 0
      },
      "text/plain": [
       "  0%|          | 0/268 [00:00<?, ?it/s]"
      ]
     },
     "metadata": {},
     "output_type": "display_data"
    },
    {
     "data": {
      "application/vnd.jupyter.widget-view+json": {
       "model_id": "26163bdd2869417aaf0794d3c73aa3b8",
       "version_major": 2,
       "version_minor": 0
      },
      "text/plain": [
       "  0%|          | 0/16 [00:00<?, ?it/s]"
      ]
     },
     "metadata": {},
     "output_type": "display_data"
    },
    {
     "data": {
      "application/vnd.jupyter.widget-view+json": {
       "model_id": "4083e556a4d84e2e87024ca94779e095",
       "version_major": 2,
       "version_minor": 0
      },
      "text/plain": [
       "  0%|          | 0/224 [00:00<?, ?it/s]"
      ]
     },
     "metadata": {},
     "output_type": "display_data"
    },
    {
     "data": {
      "application/vnd.jupyter.widget-view+json": {
       "model_id": "61d25d667f944e639f53c5e4f2c0217f",
       "version_major": 2,
       "version_minor": 0
      },
      "text/plain": [
       "  0%|          | 0/1220 [00:00<?, ?it/s]"
      ]
     },
     "metadata": {},
     "output_type": "display_data"
    },
    {
     "data": {
      "application/vnd.jupyter.widget-view+json": {
       "model_id": "a45c2adbc5ff40c6ac02865c141dd343",
       "version_major": 2,
       "version_minor": 0
      },
      "text/plain": [
       "  0%|          | 0/2000 [00:00<?, ?it/s]"
      ]
     },
     "metadata": {},
     "output_type": "display_data"
    },
    {
     "data": {
      "application/vnd.jupyter.widget-view+json": {
       "model_id": "67438f224c044f25aa262396d0bd764a",
       "version_major": 2,
       "version_minor": 0
      },
      "text/plain": [
       "  0%|          | 0/2011 [00:00<?, ?it/s]"
      ]
     },
     "metadata": {},
     "output_type": "display_data"
    },
    {
     "data": {
      "application/vnd.jupyter.widget-view+json": {
       "model_id": "aa74e5dc8485417f94a081546043817b",
       "version_major": 2,
       "version_minor": 0
      },
      "text/plain": [
       "  0%|          | 0/1000 [00:00<?, ?it/s]"
      ]
     },
     "metadata": {},
     "output_type": "display_data"
    }
   ],
   "source": [
    "ignore_keys = ['win_size_norm_frames_v8']\n",
    "for experiment, _files in files.items():\n",
    "    for f in tqdm(_files):\n",
    "        try:\n",
    "            with h5py.File(f, 'a') as h5f:\n",
    "                keys = list(h5f)\n",
    "                keys = [k for k in list(h5f) if 'win_size_norm' in k and k not in ignore_keys]\n",
    "                keys = [k for k in keys if h5f[k].dtype != 'uint8']\n",
    "                for k in keys:\n",
    "                    frames = np.round(h5f[k][()]).astype('uint8')\n",
    "                    del h5f[k]\n",
    "                    h5f.create_dataset(k, data=frames, compression=4)\n",
    "        except OSError:\n",
    "            continue"
   ]
  },
  {
   "cell_type": "code",
   "execution_count": null,
   "id": "38532964-1e48-42cb-9d80-abf843b551e5",
   "metadata": {},
   "outputs": [],
   "source": []
  }
 ],
 "metadata": {
  "kernelspec": {
   "display_name": "Ontogeny",
   "language": "python",
   "name": "aging"
  },
  "language_info": {
   "codemirror_mode": {
    "name": "ipython",
    "version": 3
   },
   "file_extension": ".py",
   "mimetype": "text/x-python",
   "name": "python",
   "nbconvert_exporter": "python",
   "pygments_lexer": "ipython3",
   "version": "3.10.10"
  },
  "widgets": {
   "application/vnd.jupyter.widget-state+json": {
    "state": {
     "02b8d18519774f7a9f74b5ea79948793": {
      "model_module": "@jupyter-widgets/controls",
      "model_module_version": "2.0.0",
      "model_name": "FloatProgressModel",
      "state": {
       "bar_style": "success",
       "layout": "IPY_MODEL_99f084928fcf4210ad60a7eee42df8c2",
       "max": 363,
       "style": "IPY_MODEL_8ef2b03359e54829bb1fa609e766523e",
       "value": 363
      }
     },
     "07aea59519814000a485f284bab946b9": {
      "model_module": "@jupyter-widgets/controls",
      "model_module_version": "2.0.0",
      "model_name": "HTMLStyleModel",
      "state": {
       "description_width": "",
       "font_size": null,
       "text_color": null
      }
     },
     "08e1ba0ba5f04058a86d35ca78abac34": {
      "model_module": "@jupyter-widgets/controls",
      "model_module_version": "2.0.0",
      "model_name": "HTMLModel",
      "state": {
       "layout": "IPY_MODEL_908b8fe1081b450f8e5b81e51d05c28b",
       "style": "IPY_MODEL_97880ec754c9451fa448e37f4ce2c833",
       "value": " 18%"
      }
     },
     "09d15837dfb84570bdae8d269882ec48": {
      "model_module": "@jupyter-widgets/controls",
      "model_module_version": "2.0.0",
      "model_name": "FloatProgressModel",
      "state": {
       "bar_style": "success",
       "layout": "IPY_MODEL_457ab02b711c4fd6b61834f749fe87d6",
       "max": 1220,
       "style": "IPY_MODEL_5cccbb45607c4bdcb9af1a234037fcb6",
       "value": 1220
      }
     },
     "0b1d95cd2ff14986b6b2df45e7ad3eed": {
      "model_module": "@jupyter-widgets/controls",
      "model_module_version": "2.0.0",
      "model_name": "HTMLModel",
      "state": {
       "layout": "IPY_MODEL_a16722de8ff74f6aabd0f56973da94bf",
       "style": "IPY_MODEL_73ce78b825ad4a84a7761643bb4eb639",
       "value": "100%"
      }
     },
     "0f0a4a29789d42e8ac41f49238d86a0d": {
      "model_module": "@jupyter-widgets/controls",
      "model_module_version": "2.0.0",
      "model_name": "FloatProgressModel",
      "state": {
       "layout": "IPY_MODEL_cba716927c4f44b89f437a9ad74dedc6",
       "max": 1000,
       "style": "IPY_MODEL_e1bc0d3b760c4f799be56c91481ecdee",
       "value": 185
      }
     },
     "0f8b4e4fb1494385a22e8246f3c0742d": {
      "model_module": "@jupyter-widgets/controls",
      "model_module_version": "2.0.0",
      "model_name": "ProgressStyleModel",
      "state": {
       "description_width": ""
      }
     },
     "10ba4876231f4ec9be06a7ed26b103e1": {
      "model_module": "@jupyter-widgets/controls",
      "model_module_version": "2.0.0",
      "model_name": "HTMLStyleModel",
      "state": {
       "description_width": "",
       "font_size": null,
       "text_color": null
      }
     },
     "132efad83b214fc3b1a3f3861a560df3": {
      "model_module": "@jupyter-widgets/controls",
      "model_module_version": "2.0.0",
      "model_name": "HTMLModel",
      "state": {
       "layout": "IPY_MODEL_d3bf5822050f46feb97a79845607eea1",
       "style": "IPY_MODEL_cd7e018da8dd497b9d3082ffa3febd94",
       "value": " 224/224 [00:05&lt;00:00, 42.70it/s]"
      }
     },
     "1a197b3a50934ddcb539416d1a8be499": {
      "model_module": "@jupyter-widgets/controls",
      "model_module_version": "2.0.0",
      "model_name": "ProgressStyleModel",
      "state": {
       "description_width": ""
      }
     },
     "1b60fdb4296a435b8080f266e136c756": {
      "model_module": "@jupyter-widgets/controls",
      "model_module_version": "2.0.0",
      "model_name": "HTMLModel",
      "state": {
       "layout": "IPY_MODEL_505c53ba19e4409fbca47246889ba75d",
       "style": "IPY_MODEL_6bb20ad5a31443a6a82de0d43af607c9",
       "value": "100%"
      }
     },
     "1bdd6277b89c444c8e04b6cf0914bdcc": {
      "model_module": "@jupyter-widgets/controls",
      "model_module_version": "2.0.0",
      "model_name": "HTMLStyleModel",
      "state": {
       "description_width": "",
       "font_size": null,
       "text_color": null
      }
     },
     "1d2e201346b444c79d4b8f35e1694bc3": {
      "model_module": "@jupyter-widgets/base",
      "model_module_version": "2.0.0",
      "model_name": "LayoutModel",
      "state": {}
     },
     "1dd6d680e34c4553becb7252f1d3a66d": {
      "model_module": "@jupyter-widgets/base",
      "model_module_version": "2.0.0",
      "model_name": "LayoutModel",
      "state": {}
     },
     "26163bdd2869417aaf0794d3c73aa3b8": {
      "model_module": "@jupyter-widgets/controls",
      "model_module_version": "2.0.0",
      "model_name": "HBoxModel",
      "state": {
       "children": [
        "IPY_MODEL_f58fad336fe24404b543c4198ae063ed",
        "IPY_MODEL_e5997d5041e54e319f6c72dfb0a7608e",
        "IPY_MODEL_59ec284871e341a9b3080a8bc88e919d"
       ],
       "layout": "IPY_MODEL_f4f05ddc2bc741f6bf2c759f85eefc02"
      }
     },
     "263a259a310143b0a67f0d2c6290fff5": {
      "model_module": "@jupyter-widgets/controls",
      "model_module_version": "2.0.0",
      "model_name": "HTMLStyleModel",
      "state": {
       "description_width": "",
       "font_size": null,
       "text_color": null
      }
     },
     "2b4cfc30732248a7be25d2d796c298b8": {
      "model_module": "@jupyter-widgets/controls",
      "model_module_version": "2.0.0",
      "model_name": "HTMLModel",
      "state": {
       "layout": "IPY_MODEL_1dd6d680e34c4553becb7252f1d3a66d",
       "style": "IPY_MODEL_1bdd6277b89c444c8e04b6cf0914bdcc",
       "value": " 1220/1220 [00:35&lt;00:00, 51.88it/s]"
      }
     },
     "2b7237d677fa474bb2dec21f38cfc04b": {
      "model_module": "@jupyter-widgets/base",
      "model_module_version": "2.0.0",
      "model_name": "LayoutModel",
      "state": {}
     },
     "2d288a8356554c93960d0528b64a73ab": {
      "model_module": "@jupyter-widgets/controls",
      "model_module_version": "2.0.0",
      "model_name": "HTMLModel",
      "state": {
       "layout": "IPY_MODEL_eaac3d16287541e3a93eab4a7ae6a439",
       "style": "IPY_MODEL_eb79f3565b6345bba010d5a87f6f92db",
       "value": " 338/338 [00:10&lt;00:00, 44.98it/s]"
      }
     },
     "30e0e6023e3545baa41ac7b50ad7fc59": {
      "model_module": "@jupyter-widgets/controls",
      "model_module_version": "2.0.0",
      "model_name": "HTMLModel",
      "state": {
       "layout": "IPY_MODEL_a2e6a1938778433c8f7f6de2111e1fc4",
       "style": "IPY_MODEL_64f3b8e9aad24a24a6fb95a8c7a5920d",
       "value": "100%"
      }
     },
     "37f021c90ccf4898a8857b4d916541f2": {
      "model_module": "@jupyter-widgets/controls",
      "model_module_version": "2.0.0",
      "model_name": "FloatProgressModel",
      "state": {
       "bar_style": "success",
       "layout": "IPY_MODEL_9cb5b5847b81407a88150919267a2968",
       "max": 338,
       "style": "IPY_MODEL_ceaf47fa2b3f42ff83d65ba51f988811",
       "value": 338
      }
     },
     "38d3518d6d454c42a343242100faf14a": {
      "model_module": "@jupyter-widgets/controls",
      "model_module_version": "2.0.0",
      "model_name": "FloatProgressModel",
      "state": {
       "bar_style": "success",
       "layout": "IPY_MODEL_99321f7045bf4088a0c7ccaa61db25f1",
       "max": 224,
       "style": "IPY_MODEL_828f96552ca347738cd27d6821b5a937",
       "value": 224
      }
     },
     "3a79cb584c0f4d1f95189b48a3b0a137": {
      "model_module": "@jupyter-widgets/controls",
      "model_module_version": "2.0.0",
      "model_name": "HTMLModel",
      "state": {
       "layout": "IPY_MODEL_f002ba3f2ac6485baf4d32a5a69db51a",
       "style": "IPY_MODEL_10ba4876231f4ec9be06a7ed26b103e1",
       "value": "100%"
      }
     },
     "3b30a525c04c41f4b13870899e5a90ab": {
      "model_module": "@jupyter-widgets/controls",
      "model_module_version": "2.0.0",
      "model_name": "HTMLStyleModel",
      "state": {
       "description_width": "",
       "font_size": null,
       "text_color": null
      }
     },
     "4083e556a4d84e2e87024ca94779e095": {
      "model_module": "@jupyter-widgets/controls",
      "model_module_version": "2.0.0",
      "model_name": "HBoxModel",
      "state": {
       "children": [
        "IPY_MODEL_5c7b64df8a68473d9085d1ad6649bcda",
        "IPY_MODEL_38d3518d6d454c42a343242100faf14a",
        "IPY_MODEL_132efad83b214fc3b1a3f3861a560df3"
       ],
       "layout": "IPY_MODEL_5ea905e86d024617b56684034c105c15"
      }
     },
     "4205daca161847638aa8261bc8de5f7a": {
      "model_module": "@jupyter-widgets/base",
      "model_module_version": "2.0.0",
      "model_name": "LayoutModel",
      "state": {}
     },
     "44888e58da8346d9a7d96163f68a5326": {
      "model_module": "@jupyter-widgets/base",
      "model_module_version": "2.0.0",
      "model_name": "LayoutModel",
      "state": {}
     },
     "457ab02b711c4fd6b61834f749fe87d6": {
      "model_module": "@jupyter-widgets/base",
      "model_module_version": "2.0.0",
      "model_name": "LayoutModel",
      "state": {}
     },
     "49642a3cd85d4fceb7f3f8a51c7ecafa": {
      "model_module": "@jupyter-widgets/controls",
      "model_module_version": "2.0.0",
      "model_name": "HTMLStyleModel",
      "state": {
       "description_width": "",
       "font_size": null,
       "text_color": null
      }
     },
     "49790b87881348c7ba7563fccc5b9f68": {
      "model_module": "@jupyter-widgets/base",
      "model_module_version": "2.0.0",
      "model_name": "LayoutModel",
      "state": {}
     },
     "4a74a5379ff344728aa19418df1701c6": {
      "model_module": "@jupyter-widgets/base",
      "model_module_version": "2.0.0",
      "model_name": "LayoutModel",
      "state": {}
     },
     "4e3b8ff4b7dc4763901ccc0c3a67c2b0": {
      "model_module": "@jupyter-widgets/controls",
      "model_module_version": "2.0.0",
      "model_name": "HBoxModel",
      "state": {
       "children": [
        "IPY_MODEL_3a79cb584c0f4d1f95189b48a3b0a137",
        "IPY_MODEL_37f021c90ccf4898a8857b4d916541f2",
        "IPY_MODEL_2d288a8356554c93960d0528b64a73ab"
       ],
       "layout": "IPY_MODEL_e354090c283c4465b64f6214114842e8"
      }
     },
     "5038f6f4f9d3470e83b8418f40235a47": {
      "model_module": "@jupyter-widgets/controls",
      "model_module_version": "2.0.0",
      "model_name": "HTMLStyleModel",
      "state": {
       "description_width": "",
       "font_size": null,
       "text_color": null
      }
     },
     "505c53ba19e4409fbca47246889ba75d": {
      "model_module": "@jupyter-widgets/base",
      "model_module_version": "2.0.0",
      "model_name": "LayoutModel",
      "state": {}
     },
     "59ec284871e341a9b3080a8bc88e919d": {
      "model_module": "@jupyter-widgets/controls",
      "model_module_version": "2.0.0",
      "model_name": "HTMLModel",
      "state": {
       "layout": "IPY_MODEL_8747d8da18554303ab0840537e3995c1",
       "style": "IPY_MODEL_5038f6f4f9d3470e83b8418f40235a47",
       "value": " 16/16 [00:00&lt;00:00, 47.31it/s]"
      }
     },
     "5c7b64df8a68473d9085d1ad6649bcda": {
      "model_module": "@jupyter-widgets/controls",
      "model_module_version": "2.0.0",
      "model_name": "HTMLModel",
      "state": {
       "layout": "IPY_MODEL_6d00005999bb4be5a672d0466147c399",
       "style": "IPY_MODEL_d2497c7fc3cf48d698e1ec85609869bd",
       "value": "100%"
      }
     },
     "5cccbb45607c4bdcb9af1a234037fcb6": {
      "model_module": "@jupyter-widgets/controls",
      "model_module_version": "2.0.0",
      "model_name": "ProgressStyleModel",
      "state": {
       "description_width": ""
      }
     },
     "5d739a4507d444679797528989c32b51": {
      "model_module": "@jupyter-widgets/controls",
      "model_module_version": "2.0.0",
      "model_name": "HTMLModel",
      "state": {
       "layout": "IPY_MODEL_69c27c47bf96422aa549cb217f4f6015",
       "style": "IPY_MODEL_a377d0b1d4e5488e8d676dd41a61e7f5",
       "value": " 185/1000 [00:14&lt;00:46, 17.53it/s]"
      }
     },
     "5ea905e86d024617b56684034c105c15": {
      "model_module": "@jupyter-widgets/base",
      "model_module_version": "2.0.0",
      "model_name": "LayoutModel",
      "state": {}
     },
     "61d25d667f944e639f53c5e4f2c0217f": {
      "model_module": "@jupyter-widgets/controls",
      "model_module_version": "2.0.0",
      "model_name": "HBoxModel",
      "state": {
       "children": [
        "IPY_MODEL_30e0e6023e3545baa41ac7b50ad7fc59",
        "IPY_MODEL_09d15837dfb84570bdae8d269882ec48",
        "IPY_MODEL_2b4cfc30732248a7be25d2d796c298b8"
       ],
       "layout": "IPY_MODEL_d2c61a74bb0649628a6a48f5c877334a"
      }
     },
     "64f3b8e9aad24a24a6fb95a8c7a5920d": {
      "model_module": "@jupyter-widgets/controls",
      "model_module_version": "2.0.0",
      "model_name": "HTMLStyleModel",
      "state": {
       "description_width": "",
       "font_size": null,
       "text_color": null
      }
     },
     "67438f224c044f25aa262396d0bd764a": {
      "model_module": "@jupyter-widgets/controls",
      "model_module_version": "2.0.0",
      "model_name": "HBoxModel",
      "state": {
       "children": [
        "IPY_MODEL_1b60fdb4296a435b8080f266e136c756",
        "IPY_MODEL_6f3b8cd3784f4483ae60af070f861db9",
        "IPY_MODEL_e4ca2c33a45e4a28a8a2242fb8e6c806"
       ],
       "layout": "IPY_MODEL_a7da5a15c26340df9a2a9271dfe82dd6"
      }
     },
     "68ad317ac9cf427293b630573fc36900": {
      "model_module": "@jupyter-widgets/base",
      "model_module_version": "2.0.0",
      "model_name": "LayoutModel",
      "state": {}
     },
     "69c27c47bf96422aa549cb217f4f6015": {
      "model_module": "@jupyter-widgets/base",
      "model_module_version": "2.0.0",
      "model_name": "LayoutModel",
      "state": {}
     },
     "6bb20ad5a31443a6a82de0d43af607c9": {
      "model_module": "@jupyter-widgets/controls",
      "model_module_version": "2.0.0",
      "model_name": "HTMLStyleModel",
      "state": {
       "description_width": "",
       "font_size": null,
       "text_color": null
      }
     },
     "6d00005999bb4be5a672d0466147c399": {
      "model_module": "@jupyter-widgets/base",
      "model_module_version": "2.0.0",
      "model_name": "LayoutModel",
      "state": {}
     },
     "6f3b8cd3784f4483ae60af070f861db9": {
      "model_module": "@jupyter-widgets/controls",
      "model_module_version": "2.0.0",
      "model_name": "FloatProgressModel",
      "state": {
       "bar_style": "success",
       "layout": "IPY_MODEL_de36e3baf8064469a72406e6817be14b",
       "max": 2011,
       "style": "IPY_MODEL_ead69d5b35c84901b06b159b513dc5c9",
       "value": 2011
      }
     },
     "72fcc8d71d9f4ad7aaf00752b79eb938": {
      "model_module": "@jupyter-widgets/controls",
      "model_module_version": "2.0.0",
      "model_name": "FloatProgressModel",
      "state": {
       "bar_style": "success",
       "layout": "IPY_MODEL_4a74a5379ff344728aa19418df1701c6",
       "max": 268,
       "style": "IPY_MODEL_1a197b3a50934ddcb539416d1a8be499",
       "value": 268
      }
     },
     "73ce78b825ad4a84a7761643bb4eb639": {
      "model_module": "@jupyter-widgets/controls",
      "model_module_version": "2.0.0",
      "model_name": "HTMLStyleModel",
      "state": {
       "description_width": "",
       "font_size": null,
       "text_color": null
      }
     },
     "7601f0678d3d4e8e869eebb6728597a1": {
      "model_module": "@jupyter-widgets/base",
      "model_module_version": "2.0.0",
      "model_name": "LayoutModel",
      "state": {}
     },
     "828f96552ca347738cd27d6821b5a937": {
      "model_module": "@jupyter-widgets/controls",
      "model_module_version": "2.0.0",
      "model_name": "ProgressStyleModel",
      "state": {
       "description_width": ""
      }
     },
     "8747d8da18554303ab0840537e3995c1": {
      "model_module": "@jupyter-widgets/base",
      "model_module_version": "2.0.0",
      "model_name": "LayoutModel",
      "state": {}
     },
     "883334591cfc4c4dab9719552ed29e18": {
      "model_module": "@jupyter-widgets/controls",
      "model_module_version": "2.0.0",
      "model_name": "HBoxModel",
      "state": {
       "children": [
        "IPY_MODEL_8f2665e32c594a2baeb2def35ff44801",
        "IPY_MODEL_02b8d18519774f7a9f74b5ea79948793",
        "IPY_MODEL_f613d0f9e77045828766508d0ab419b9"
       ],
       "layout": "IPY_MODEL_b33a3d63e7664b4e98c5861677a789c5"
      }
     },
     "8ad34a115ae745ee8472a1d846d7006b": {
      "model_module": "@jupyter-widgets/controls",
      "model_module_version": "2.0.0",
      "model_name": "HTMLModel",
      "state": {
       "layout": "IPY_MODEL_1d2e201346b444c79d4b8f35e1694bc3",
       "style": "IPY_MODEL_263a259a310143b0a67f0d2c6290fff5",
       "value": " 2000/2000 [10:32:44&lt;00:00, 33.87s/it]"
      }
     },
     "8e0478c88c6e45d9aaae006ac1d77a27": {
      "model_module": "@jupyter-widgets/controls",
      "model_module_version": "2.0.0",
      "model_name": "HTMLStyleModel",
      "state": {
       "description_width": "",
       "font_size": null,
       "text_color": null
      }
     },
     "8ef2b03359e54829bb1fa609e766523e": {
      "model_module": "@jupyter-widgets/controls",
      "model_module_version": "2.0.0",
      "model_name": "ProgressStyleModel",
      "state": {
       "description_width": ""
      }
     },
     "8f2665e32c594a2baeb2def35ff44801": {
      "model_module": "@jupyter-widgets/controls",
      "model_module_version": "2.0.0",
      "model_name": "HTMLModel",
      "state": {
       "layout": "IPY_MODEL_4205daca161847638aa8261bc8de5f7a",
       "style": "IPY_MODEL_3b30a525c04c41f4b13870899e5a90ab",
       "value": "100%"
      }
     },
     "908b8fe1081b450f8e5b81e51d05c28b": {
      "model_module": "@jupyter-widgets/base",
      "model_module_version": "2.0.0",
      "model_name": "LayoutModel",
      "state": {}
     },
     "93aa5b383470459e8a7b21303c936d51": {
      "model_module": "@jupyter-widgets/controls",
      "model_module_version": "2.0.0",
      "model_name": "HTMLStyleModel",
      "state": {
       "description_width": "",
       "font_size": null,
       "text_color": null
      }
     },
     "97880ec754c9451fa448e37f4ce2c833": {
      "model_module": "@jupyter-widgets/controls",
      "model_module_version": "2.0.0",
      "model_name": "HTMLStyleModel",
      "state": {
       "description_width": "",
       "font_size": null,
       "text_color": null
      }
     },
     "99321f7045bf4088a0c7ccaa61db25f1": {
      "model_module": "@jupyter-widgets/base",
      "model_module_version": "2.0.0",
      "model_name": "LayoutModel",
      "state": {}
     },
     "99f084928fcf4210ad60a7eee42df8c2": {
      "model_module": "@jupyter-widgets/base",
      "model_module_version": "2.0.0",
      "model_name": "LayoutModel",
      "state": {}
     },
     "9cb5b5847b81407a88150919267a2968": {
      "model_module": "@jupyter-widgets/base",
      "model_module_version": "2.0.0",
      "model_name": "LayoutModel",
      "state": {}
     },
     "a16722de8ff74f6aabd0f56973da94bf": {
      "model_module": "@jupyter-widgets/base",
      "model_module_version": "2.0.0",
      "model_name": "LayoutModel",
      "state": {}
     },
     "a2e6a1938778433c8f7f6de2111e1fc4": {
      "model_module": "@jupyter-widgets/base",
      "model_module_version": "2.0.0",
      "model_name": "LayoutModel",
      "state": {}
     },
     "a377d0b1d4e5488e8d676dd41a61e7f5": {
      "model_module": "@jupyter-widgets/controls",
      "model_module_version": "2.0.0",
      "model_name": "HTMLStyleModel",
      "state": {
       "description_width": "",
       "font_size": null,
       "text_color": null
      }
     },
     "a45c2adbc5ff40c6ac02865c141dd343": {
      "model_module": "@jupyter-widgets/controls",
      "model_module_version": "2.0.0",
      "model_name": "HBoxModel",
      "state": {
       "children": [
        "IPY_MODEL_ed10fa736d944ad7a5d343d8750f3d38",
        "IPY_MODEL_d9b11eea71c646d4b95deb5e4b3fe89b",
        "IPY_MODEL_8ad34a115ae745ee8472a1d846d7006b"
       ],
       "layout": "IPY_MODEL_b47564983af84f95b209d393ae50956a"
      }
     },
     "a7da5a15c26340df9a2a9271dfe82dd6": {
      "model_module": "@jupyter-widgets/base",
      "model_module_version": "2.0.0",
      "model_name": "LayoutModel",
      "state": {}
     },
     "aa74e5dc8485417f94a081546043817b": {
      "model_module": "@jupyter-widgets/controls",
      "model_module_version": "2.0.0",
      "model_name": "HBoxModel",
      "state": {
       "children": [
        "IPY_MODEL_08e1ba0ba5f04058a86d35ca78abac34",
        "IPY_MODEL_0f0a4a29789d42e8ac41f49238d86a0d",
        "IPY_MODEL_5d739a4507d444679797528989c32b51"
       ],
       "layout": "IPY_MODEL_ff7fd498cee54e89a4fde5e136c9d490"
      }
     },
     "ad0bcfa4678f44b2ac7be538783872d4": {
      "model_module": "@jupyter-widgets/controls",
      "model_module_version": "2.0.0",
      "model_name": "ProgressStyleModel",
      "state": {
       "description_width": ""
      }
     },
     "b33a3d63e7664b4e98c5861677a789c5": {
      "model_module": "@jupyter-widgets/base",
      "model_module_version": "2.0.0",
      "model_name": "LayoutModel",
      "state": {}
     },
     "b47564983af84f95b209d393ae50956a": {
      "model_module": "@jupyter-widgets/base",
      "model_module_version": "2.0.0",
      "model_name": "LayoutModel",
      "state": {}
     },
     "be7f33752f2441d79c8e6e44e15c8b5f": {
      "model_module": "@jupyter-widgets/controls",
      "model_module_version": "2.0.0",
      "model_name": "HBoxModel",
      "state": {
       "children": [
        "IPY_MODEL_0b1d95cd2ff14986b6b2df45e7ad3eed",
        "IPY_MODEL_72fcc8d71d9f4ad7aaf00752b79eb938",
        "IPY_MODEL_d2b998fe761046b98e897cee3ccf5b4e"
       ],
       "layout": "IPY_MODEL_44888e58da8346d9a7d96163f68a5326"
      }
     },
     "cba716927c4f44b89f437a9ad74dedc6": {
      "model_module": "@jupyter-widgets/base",
      "model_module_version": "2.0.0",
      "model_name": "LayoutModel",
      "state": {}
     },
     "cd7e018da8dd497b9d3082ffa3febd94": {
      "model_module": "@jupyter-widgets/controls",
      "model_module_version": "2.0.0",
      "model_name": "HTMLStyleModel",
      "state": {
       "description_width": "",
       "font_size": null,
       "text_color": null
      }
     },
     "ceaf47fa2b3f42ff83d65ba51f988811": {
      "model_module": "@jupyter-widgets/controls",
      "model_module_version": "2.0.0",
      "model_name": "ProgressStyleModel",
      "state": {
       "description_width": ""
      }
     },
     "d13994f2f9324d1894fd3f161cfd3af4": {
      "model_module": "@jupyter-widgets/base",
      "model_module_version": "2.0.0",
      "model_name": "LayoutModel",
      "state": {}
     },
     "d2497c7fc3cf48d698e1ec85609869bd": {
      "model_module": "@jupyter-widgets/controls",
      "model_module_version": "2.0.0",
      "model_name": "HTMLStyleModel",
      "state": {
       "description_width": "",
       "font_size": null,
       "text_color": null
      }
     },
     "d2b998fe761046b98e897cee3ccf5b4e": {
      "model_module": "@jupyter-widgets/controls",
      "model_module_version": "2.0.0",
      "model_name": "HTMLModel",
      "state": {
       "layout": "IPY_MODEL_68ad317ac9cf427293b630573fc36900",
       "style": "IPY_MODEL_49642a3cd85d4fceb7f3f8a51c7ecafa",
       "value": " 268/268 [00:06&lt;00:00, 41.35it/s]"
      }
     },
     "d2c61a74bb0649628a6a48f5c877334a": {
      "model_module": "@jupyter-widgets/base",
      "model_module_version": "2.0.0",
      "model_name": "LayoutModel",
      "state": {}
     },
     "d3bf5822050f46feb97a79845607eea1": {
      "model_module": "@jupyter-widgets/base",
      "model_module_version": "2.0.0",
      "model_name": "LayoutModel",
      "state": {}
     },
     "d9b11eea71c646d4b95deb5e4b3fe89b": {
      "model_module": "@jupyter-widgets/controls",
      "model_module_version": "2.0.0",
      "model_name": "FloatProgressModel",
      "state": {
       "bar_style": "success",
       "layout": "IPY_MODEL_49790b87881348c7ba7563fccc5b9f68",
       "max": 2000,
       "style": "IPY_MODEL_ad0bcfa4678f44b2ac7be538783872d4",
       "value": 2000
      }
     },
     "de36e3baf8064469a72406e6817be14b": {
      "model_module": "@jupyter-widgets/base",
      "model_module_version": "2.0.0",
      "model_name": "LayoutModel",
      "state": {}
     },
     "e1bc0d3b760c4f799be56c91481ecdee": {
      "model_module": "@jupyter-widgets/controls",
      "model_module_version": "2.0.0",
      "model_name": "ProgressStyleModel",
      "state": {
       "description_width": ""
      }
     },
     "e2201a98b92b411d9e2ed6bb71cf7853": {
      "model_module": "@jupyter-widgets/base",
      "model_module_version": "2.0.0",
      "model_name": "LayoutModel",
      "state": {}
     },
     "e354090c283c4465b64f6214114842e8": {
      "model_module": "@jupyter-widgets/base",
      "model_module_version": "2.0.0",
      "model_name": "LayoutModel",
      "state": {}
     },
     "e4ca2c33a45e4a28a8a2242fb8e6c806": {
      "model_module": "@jupyter-widgets/controls",
      "model_module_version": "2.0.0",
      "model_name": "HTMLModel",
      "state": {
       "layout": "IPY_MODEL_7601f0678d3d4e8e869eebb6728597a1",
       "style": "IPY_MODEL_8e0478c88c6e45d9aaae006ac1d77a27",
       "value": " 2011/2011 [2:14:08&lt;00:00,  3.89it/s]"
      }
     },
     "e5997d5041e54e319f6c72dfb0a7608e": {
      "model_module": "@jupyter-widgets/controls",
      "model_module_version": "2.0.0",
      "model_name": "FloatProgressModel",
      "state": {
       "bar_style": "success",
       "layout": "IPY_MODEL_e7dd2ce5123a4e43b594fdea5769aad2",
       "max": 16,
       "style": "IPY_MODEL_0f8b4e4fb1494385a22e8246f3c0742d",
       "value": 16
      }
     },
     "e7dd2ce5123a4e43b594fdea5769aad2": {
      "model_module": "@jupyter-widgets/base",
      "model_module_version": "2.0.0",
      "model_name": "LayoutModel",
      "state": {}
     },
     "eaac3d16287541e3a93eab4a7ae6a439": {
      "model_module": "@jupyter-widgets/base",
      "model_module_version": "2.0.0",
      "model_name": "LayoutModel",
      "state": {}
     },
     "ead69d5b35c84901b06b159b513dc5c9": {
      "model_module": "@jupyter-widgets/controls",
      "model_module_version": "2.0.0",
      "model_name": "ProgressStyleModel",
      "state": {
       "description_width": ""
      }
     },
     "eb79f3565b6345bba010d5a87f6f92db": {
      "model_module": "@jupyter-widgets/controls",
      "model_module_version": "2.0.0",
      "model_name": "HTMLStyleModel",
      "state": {
       "description_width": "",
       "font_size": null,
       "text_color": null
      }
     },
     "ec5bbba32e3647d2b0323201f37191ff": {
      "model_module": "@jupyter-widgets/controls",
      "model_module_version": "2.0.0",
      "model_name": "HTMLStyleModel",
      "state": {
       "description_width": "",
       "font_size": null,
       "text_color": null
      }
     },
     "ed10fa736d944ad7a5d343d8750f3d38": {
      "model_module": "@jupyter-widgets/controls",
      "model_module_version": "2.0.0",
      "model_name": "HTMLModel",
      "state": {
       "layout": "IPY_MODEL_2b7237d677fa474bb2dec21f38cfc04b",
       "style": "IPY_MODEL_07aea59519814000a485f284bab946b9",
       "value": "100%"
      }
     },
     "f002ba3f2ac6485baf4d32a5a69db51a": {
      "model_module": "@jupyter-widgets/base",
      "model_module_version": "2.0.0",
      "model_name": "LayoutModel",
      "state": {}
     },
     "f4f05ddc2bc741f6bf2c759f85eefc02": {
      "model_module": "@jupyter-widgets/base",
      "model_module_version": "2.0.0",
      "model_name": "LayoutModel",
      "state": {}
     },
     "f58fad336fe24404b543c4198ae063ed": {
      "model_module": "@jupyter-widgets/controls",
      "model_module_version": "2.0.0",
      "model_name": "HTMLModel",
      "state": {
       "layout": "IPY_MODEL_e2201a98b92b411d9e2ed6bb71cf7853",
       "style": "IPY_MODEL_93aa5b383470459e8a7b21303c936d51",
       "value": "100%"
      }
     },
     "f613d0f9e77045828766508d0ab419b9": {
      "model_module": "@jupyter-widgets/controls",
      "model_module_version": "2.0.0",
      "model_name": "HTMLModel",
      "state": {
       "layout": "IPY_MODEL_d13994f2f9324d1894fd3f161cfd3af4",
       "style": "IPY_MODEL_ec5bbba32e3647d2b0323201f37191ff",
       "value": " 363/363 [00:08&lt;00:00, 44.36it/s]"
      }
     },
     "ff7fd498cee54e89a4fde5e136c9d490": {
      "model_module": "@jupyter-widgets/base",
      "model_module_version": "2.0.0",
      "model_name": "LayoutModel",
      "state": {}
     }
    },
    "version_major": 2,
    "version_minor": 0
   }
  }
 },
 "nbformat": 4,
 "nbformat_minor": 5
}
