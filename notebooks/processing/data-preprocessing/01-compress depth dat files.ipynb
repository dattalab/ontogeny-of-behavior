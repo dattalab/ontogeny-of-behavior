{
 "cells": [
  {
   "cell_type": "markdown",
   "id": "d55a71f3-17f1-47d8-a7cc-c80d60b00117",
   "metadata": {},
   "source": [
    "# Compress all depth videos"
   ]
  },
  {
   "cell_type": "code",
   "execution_count": 1,
   "id": "0bb69bf8-45f6-4a34-99e2-0e4ea9802e23",
   "metadata": {
    "tags": []
   },
   "outputs": [],
   "source": [
    "import os\n",
    "from pathlib import Path\n",
    "from toolz import concat, complement\n",
    "from aging.organization.paths import FOLDERS"
   ]
  },
  {
   "cell_type": "code",
   "execution_count": 2,
   "id": "cf3cd5b3-c48d-497c-b960-161e4012cf1e",
   "metadata": {
    "tags": []
   },
   "outputs": [],
   "source": [
    "user = os.environ['USER']"
   ]
  },
  {
   "cell_type": "code",
   "execution_count": 3,
   "id": "86d71095-3054-4ad3-99c0-e0b2e6e74bf1",
   "metadata": {
    "tags": []
   },
   "outputs": [],
   "source": [
    "paths = sorted(concat(f.glob('**/depth.dat') for f in FOLDERS))\n",
    "# paths = sorted(Path('/n/groups/datta/min').glob('**/depth.dat'))"
   ]
  },
  {
   "cell_type": "code",
   "execution_count": 4,
   "id": "e41e5de6-f962-47fe-be35-27aa91dc6de7",
   "metadata": {
    "tags": []
   },
   "outputs": [
    {
     "data": {
      "text/plain": [
       "77"
      ]
     },
     "execution_count": 4,
     "metadata": {},
     "output_type": "execute_result"
    }
   ],
   "source": [
    "len(paths)"
   ]
  },
  {
   "cell_type": "code",
   "execution_count": 5,
   "id": "05847dfd-e606-4cc9-a991-a030423932bb",
   "metadata": {
    "tags": []
   },
   "outputs": [
    {
     "data": {
      "text/plain": [
       "PosixPath('/n/groups/datta/Dana/Ontogeny/raw_data/Ontogeny_females/64wks_110323/session_20231103080348/depth.dat')"
      ]
     },
     "execution_count": 5,
     "metadata": {},
     "output_type": "execute_result"
    }
   ],
   "source": [
    "paths[0].absolute()"
   ]
  },
  {
   "cell_type": "code",
   "execution_count": 6,
   "id": "66b1e1e4-73eb-4199-8ef4-06398ceed76e",
   "metadata": {
    "tags": []
   },
   "outputs": [
    {
     "data": {
      "text/plain": [
       "False"
      ]
     },
     "execution_count": 6,
     "metadata": {},
     "output_type": "execute_result"
    }
   ],
   "source": [
    "paths[0].with_suffix('.avi').exists()"
   ]
  },
  {
   "cell_type": "code",
   "execution_count": 7,
   "id": "21e5d4e7-07e1-4a5e-84cd-516fabd8e97c",
   "metadata": {
    "tags": []
   },
   "outputs": [],
   "source": [
    "script = '''#!/bin/env bash\n",
    "#SBATCH -c 1\n",
    "#SBATCH -n 1\n",
    "#SBATCH --mem=13G\n",
    "#SBATCH -p short\n",
    "#SBATCH -t 1:15:00\n",
    "#SBATCH --output=/n/scratch3/users/{user}/tmp/ontogeny/depth-compression-%j.out\n",
    "\n",
    "source $HOME/.bashrc\n",
    "conda activate moseq2-app\n",
    "moseq2-extract convert-raw-to-avi \"{file_path}\" --delete\n",
    "'''"
   ]
  },
  {
   "cell_type": "code",
   "execution_count": 8,
   "id": "7078916a-119f-4518-8bdf-9ee824d72a1f",
   "metadata": {
    "tags": []
   },
   "outputs": [],
   "source": [
    "def avi_not_exists(path):\n",
    "    return not Path(path).with_suffix(\".avi\").exists()"
   ]
  },
  {
   "cell_type": "code",
   "execution_count": 9,
   "id": "c8e62a6e-0292-4de7-bfde-8d9b9c9e4e86",
   "metadata": {
    "tags": []
   },
   "outputs": [
    {
     "name": "stdout",
     "output_type": "stream",
     "text": [
      "Submitted batch job 21444226\n",
      "Submitted batch job 21444227\n",
      "Submitted batch job 21444228\n",
      "Submitted batch job 21444229\n",
      "Submitted batch job 21444230\n",
      "Submitted batch job 21444231\n",
      "Submitted batch job 21444232\n",
      "Submitted batch job 21444233\n",
      "Submitted batch job 21444234\n",
      "Submitted batch job 21444235\n",
      "Submitted batch job 21444236\n",
      "Submitted batch job 21444237\n",
      "Submitted batch job 21444238\n",
      "Submitted batch job 21444239\n",
      "Submitted batch job 21444240\n",
      "Submitted batch job 21444241\n",
      "Submitted batch job 21444242\n",
      "Submitted batch job 21444243\n",
      "do_ypcall: clnt_call: RPC: Timed out\n",
      "Submitted batch job 21444248\n",
      "Submitted batch job 21444249\n",
      "Submitted batch job 21444250\n",
      "Submitted batch job 21444251\n",
      "Submitted batch job 21444252\n",
      "Submitted batch job 21444253\n",
      "Submitted batch job 21444254\n",
      "Submitted batch job 21444255\n",
      "Submitted batch job 21444256\n",
      "Submitted batch job 21444257\n",
      "Submitted batch job 21444258\n",
      "Submitted batch job 21444259\n",
      "Submitted batch job 21444260\n",
      "Submitted batch job 21444261\n",
      "Submitted batch job 21444262\n",
      "Submitted batch job 21444263\n",
      "Submitted batch job 21444264\n",
      "Submitted batch job 21444265\n",
      "Submitted batch job 21444266\n",
      "Submitted batch job 21444267\n",
      "Submitted batch job 21444268\n",
      "Submitted batch job 21444269\n",
      "Submitted batch job 21444270\n",
      "Submitted batch job 21444271\n",
      "Submitted batch job 21444272\n",
      "Submitted batch job 21444273\n",
      "Submitted batch job 21444274\n",
      "Submitted batch job 21444275\n",
      "Submitted batch job 21444276\n",
      "Submitted batch job 21444277\n",
      "Submitted batch job 21444278\n",
      "Submitted batch job 21444279\n",
      "Submitted batch job 21444280\n",
      "Submitted batch job 21444281\n",
      "Submitted batch job 21444282\n",
      "Submitted batch job 21444283\n",
      "Submitted batch job 21444284\n",
      "Submitted batch job 21444285\n",
      "Submitted batch job 21444286\n",
      "Submitted batch job 21444287\n",
      "Submitted batch job 21444288\n",
      "Submitted batch job 21444289\n",
      "Submitted batch job 21444290\n",
      "Submitted batch job 21444291\n",
      "Submitted batch job 21444292\n",
      "Submitted batch job 21444293\n",
      "Submitted batch job 21444294\n",
      "Submitted batch job 21444295\n"
     ]
    }
   ],
   "source": [
    "for p in filter(avi_not_exists, paths):\n",
    "    new_script = script.format(file_path=os.path.realpath(p), user=f\"{user[0]}/{user}\")\n",
    "    with open('tmp.sh', 'w') as f:\n",
    "        f.write(new_script)\n",
    "\n",
    "    !sbatch tmp.sh\n",
    "!rm tmp.sh"
   ]
  },
  {
   "cell_type": "markdown",
   "id": "046f12b5-5790-4305-85f4-b966e572a795",
   "metadata": {},
   "source": [
    "## Run locally for all failures to run correctly"
   ]
  },
  {
   "cell_type": "code",
   "execution_count": 10,
   "id": "ad7bb68c-887a-4b94-bfb0-a687f1eef9ce",
   "metadata": {},
   "outputs": [],
   "source": [
    "# for p in filter(complement(avi_not_exists), paths):\n",
    "#     new_script = script.format(file_path=os.path.realpath(p), user=f\"{user[0]}/{user}\")\n",
    "#     with open('tmp.sh', 'w') as f:\n",
    "#         f.write(new_script)\n",
    "\n",
    "#     !bash tmp.sh\n",
    "# !rm tmp.sh"
   ]
  },
  {
   "cell_type": "code",
   "execution_count": null,
   "id": "0b42964a-7b6b-4ea6-ae8b-4dbf78f1d3d8",
   "metadata": {},
   "outputs": [],
   "source": []
  }
 ],
 "metadata": {
  "kernelspec": {
   "display_name": "Ontogeny",
   "language": "python",
   "name": "aging"
  },
  "language_info": {
   "codemirror_mode": {
    "name": "ipython",
    "version": 3
   },
   "file_extension": ".py",
   "mimetype": "text/x-python",
   "name": "python",
   "nbconvert_exporter": "python",
   "pygments_lexer": "ipython3",
   "version": "3.10.10"
  },
  "widgets": {
   "application/vnd.jupyter.widget-state+json": {
    "state": {},
    "version_major": 2,
    "version_minor": 0
   }
  }
 },
 "nbformat": 4,
 "nbformat_minor": 5
}
