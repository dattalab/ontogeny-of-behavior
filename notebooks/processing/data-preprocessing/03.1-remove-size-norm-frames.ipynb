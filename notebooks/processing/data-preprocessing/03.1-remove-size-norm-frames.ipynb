{
 "cells": [
  {
   "cell_type": "code",
   "execution_count": 1,
   "id": "fa4baee5-a860-457e-8daa-e0d5dbc29e81",
   "metadata": {
    "tags": []
   },
   "outputs": [],
   "source": [
    "import h5py\n",
    "from tqdm.auto import tqdm\n",
    "from toolz import concat, curry\n",
    "from aging.organization.paths import FOLDERS"
   ]
  },
  {
   "cell_type": "code",
   "execution_count": 2,
   "id": "0886671b-ee38-4a00-aff9-e6a3ad486ec9",
   "metadata": {
    "tags": []
   },
   "outputs": [],
   "source": [
    "depth_files = sorted(concat(f.glob('**/results_00.h5') for f in FOLDERS))"
   ]
  },
  {
   "cell_type": "code",
   "execution_count": 3,
   "id": "020b60b3-ce85-4e97-838d-2083d3253c6b",
   "metadata": {
    "tags": []
   },
   "outputs": [],
   "source": [
    "recon_key = \"win_size_norm_frames_v4\""
   ]
  },
  {
   "cell_type": "code",
   "execution_count": 4,
   "id": "4a38bb04-3b48-4b5b-aeba-2532dad56eb6",
   "metadata": {
    "tags": []
   },
   "outputs": [],
   "source": [
    "@curry\n",
    "def has_key(file, key=recon_key):\n",
    "    with h5py.File(file, 'r') as h5f:\n",
    "        return key in h5f"
   ]
  },
  {
   "cell_type": "code",
   "execution_count": 5,
   "id": "0c0debd3-4855-4af8-9e65-4268ed5087e6",
   "metadata": {
    "tags": []
   },
   "outputs": [],
   "source": [
    "has_recon_key = has_key(key=recon_key)"
   ]
  },
  {
   "cell_type": "code",
   "execution_count": 8,
   "id": "0fd01c28-2445-4e5d-ab99-2623afd25742",
   "metadata": {
    "tags": []
   },
   "outputs": [
    {
     "data": {
      "application/vnd.jupyter.widget-view+json": {
       "model_id": "928039c2747e4ce4a3ce83944b826110",
       "version_major": 2,
       "version_minor": 0
      },
      "text/plain": [
       "  0%|          | 0/3188 [00:00<?, ?it/s]"
      ]
     },
     "metadata": {},
     "output_type": "display_data"
    }
   ],
   "source": [
    "for file in filter(has_recon_key, tqdm(depth_files)):\n",
    "    with h5py.File(file, 'a') as h5f:\n",
    "        del h5f[recon_key]"
   ]
  },
  {
   "cell_type": "code",
   "execution_count": null,
   "id": "c06f4757-a7d0-43e4-b59f-6d656a6d757b",
   "metadata": {},
   "outputs": [],
   "source": []
  }
 ],
 "metadata": {
  "kernelspec": {
   "display_name": "Ontogeny",
   "language": "python",
   "name": "aging"
  },
  "language_info": {
   "codemirror_mode": {
    "name": "ipython",
    "version": 3
   },
   "file_extension": ".py",
   "mimetype": "text/x-python",
   "name": "python",
   "nbconvert_exporter": "python",
   "pygments_lexer": "ipython3",
   "version": "3.10.10"
  },
  "widgets": {
   "application/vnd.jupyter.widget-state+json": {
    "state": {
     "08112560b0464ee89fa864113baf5121": {
      "model_module": "@jupyter-widgets/controls",
      "model_module_version": "2.0.0",
      "model_name": "HTMLStyleModel",
      "state": {
       "description_width": "",
       "font_size": null,
       "text_color": null
      }
     },
     "0de76882be7e4e9f810410214193d68e": {
      "model_module": "@jupyter-widgets/base",
      "model_module_version": "2.0.0",
      "model_name": "LayoutModel",
      "state": {}
     },
     "10bee983ceb645afb20d042ff45ba172": {
      "model_module": "@jupyter-widgets/base",
      "model_module_version": "2.0.0",
      "model_name": "LayoutModel",
      "state": {}
     },
     "1276992938d2453887608e686fd99604": {
      "model_module": "@jupyter-widgets/base",
      "model_module_version": "2.0.0",
      "model_name": "LayoutModel",
      "state": {}
     },
     "16ed4b0368f84cc28fba84640e006728": {
      "model_module": "@jupyter-widgets/controls",
      "model_module_version": "2.0.0",
      "model_name": "ProgressStyleModel",
      "state": {
       "description_width": ""
      }
     },
     "25bedfd06e5249e28960b5b1034f059d": {
      "model_module": "@jupyter-widgets/controls",
      "model_module_version": "2.0.0",
      "model_name": "HTMLModel",
      "state": {
       "layout": "IPY_MODEL_cef6fd040b6242ef9e441f9a72661906",
       "style": "IPY_MODEL_08112560b0464ee89fa864113baf5121",
       "value": "100%"
      }
     },
     "2c8bf1bf1b6344d4acbcf83791f6f6f9": {
      "model_module": "@jupyter-widgets/base",
      "model_module_version": "2.0.0",
      "model_name": "LayoutModel",
      "state": {}
     },
     "4615a3648f2c4c67b3bca91e341ebc82": {
      "model_module": "@jupyter-widgets/base",
      "model_module_version": "2.0.0",
      "model_name": "LayoutModel",
      "state": {}
     },
     "58ded0260b8147418ab9d322630810d0": {
      "model_module": "@jupyter-widgets/controls",
      "model_module_version": "2.0.0",
      "model_name": "HTMLStyleModel",
      "state": {
       "description_width": "",
       "font_size": null,
       "text_color": null
      }
     },
     "5938784765af4df5ae6a71c446297371": {
      "model_module": "@jupyter-widgets/base",
      "model_module_version": "2.0.0",
      "model_name": "LayoutModel",
      "state": {}
     },
     "6b9ff7211a874962a08b96742e3689a6": {
      "model_module": "@jupyter-widgets/controls",
      "model_module_version": "2.0.0",
      "model_name": "HTMLStyleModel",
      "state": {
       "description_width": "",
       "font_size": null,
       "text_color": null
      }
     },
     "7243807a82364ce9945a982d2f002125": {
      "model_module": "@jupyter-widgets/base",
      "model_module_version": "2.0.0",
      "model_name": "LayoutModel",
      "state": {}
     },
     "908a379c768b490ebbfd4f50d3404547": {
      "model_module": "@jupyter-widgets/controls",
      "model_module_version": "2.0.0",
      "model_name": "HTMLStyleModel",
      "state": {
       "description_width": "",
       "font_size": null,
       "text_color": null
      }
     },
     "928039c2747e4ce4a3ce83944b826110": {
      "model_module": "@jupyter-widgets/controls",
      "model_module_version": "2.0.0",
      "model_name": "HBoxModel",
      "state": {
       "children": [
        "IPY_MODEL_25bedfd06e5249e28960b5b1034f059d",
        "IPY_MODEL_c8ec2c6b9a864c2bb48f30b44cbd4139",
        "IPY_MODEL_a4a7823be214498ca5ae66a8017e28c1"
       ],
       "layout": "IPY_MODEL_bfa92ad6201a496aad416308dded1eb7"
      }
     },
     "a4a7823be214498ca5ae66a8017e28c1": {
      "model_module": "@jupyter-widgets/controls",
      "model_module_version": "2.0.0",
      "model_name": "HTMLModel",
      "state": {
       "layout": "IPY_MODEL_10bee983ceb645afb20d042ff45ba172",
       "style": "IPY_MODEL_b82c828ecc2143f7b17e0d75acce8586",
       "value": " 3188/3188 [12:02&lt;00:00,  1.56it/s]"
      }
     },
     "a761ab00e4414d9cac16d29dcf677af7": {
      "model_module": "@jupyter-widgets/controls",
      "model_module_version": "2.0.0",
      "model_name": "HTMLModel",
      "state": {
       "layout": "IPY_MODEL_7243807a82364ce9945a982d2f002125",
       "style": "IPY_MODEL_58ded0260b8147418ab9d322630810d0",
       "value": " 69%"
      }
     },
     "a79d4aa8859f4c678f16402eb97121f8": {
      "model_module": "@jupyter-widgets/controls",
      "model_module_version": "2.0.0",
      "model_name": "ProgressStyleModel",
      "state": {
       "description_width": ""
      }
     },
     "ac2e2ffdd472418393e3fe29a8c624d7": {
      "model_module": "@jupyter-widgets/controls",
      "model_module_version": "2.0.0",
      "model_name": "HBoxModel",
      "state": {
       "children": [
        "IPY_MODEL_a761ab00e4414d9cac16d29dcf677af7",
        "IPY_MODEL_ac54f6fbe9224cb1b211a87e3cbea244",
        "IPY_MODEL_c2305c203e8f4b53b347e30b154d0938"
       ],
       "layout": "IPY_MODEL_4615a3648f2c4c67b3bca91e341ebc82"
      }
     },
     "ac54f6fbe9224cb1b211a87e3cbea244": {
      "model_module": "@jupyter-widgets/controls",
      "model_module_version": "2.0.0",
      "model_name": "FloatProgressModel",
      "state": {
       "bar_style": "danger",
       "layout": "IPY_MODEL_be3baa1860054a5da99f8ff66388c874",
       "max": 3188,
       "style": "IPY_MODEL_16ed4b0368f84cc28fba84640e006728",
       "value": 2202
      }
     },
     "b82c828ecc2143f7b17e0d75acce8586": {
      "model_module": "@jupyter-widgets/controls",
      "model_module_version": "2.0.0",
      "model_name": "HTMLStyleModel",
      "state": {
       "description_width": "",
       "font_size": null,
       "text_color": null
      }
     },
     "bdede59895e3435cbf4a1cda5032248d": {
      "model_module": "@jupyter-widgets/base",
      "model_module_version": "2.0.0",
      "model_name": "LayoutModel",
      "state": {}
     },
     "be3baa1860054a5da99f8ff66388c874": {
      "model_module": "@jupyter-widgets/base",
      "model_module_version": "2.0.0",
      "model_name": "LayoutModel",
      "state": {}
     },
     "bfa92ad6201a496aad416308dded1eb7": {
      "model_module": "@jupyter-widgets/base",
      "model_module_version": "2.0.0",
      "model_name": "LayoutModel",
      "state": {}
     },
     "c1558ffee17a4b69a1b02636dee7dad5": {
      "model_module": "@jupyter-widgets/controls",
      "model_module_version": "2.0.0",
      "model_name": "FloatProgressModel",
      "state": {
       "bar_style": "danger",
       "layout": "IPY_MODEL_0de76882be7e4e9f810410214193d68e",
       "max": 3188,
       "style": "IPY_MODEL_a79d4aa8859f4c678f16402eb97121f8",
       "value": 2271
      }
     },
     "c2305c203e8f4b53b347e30b154d0938": {
      "model_module": "@jupyter-widgets/controls",
      "model_module_version": "2.0.0",
      "model_name": "HTMLModel",
      "state": {
       "layout": "IPY_MODEL_2c8bf1bf1b6344d4acbcf83791f6f6f9",
       "style": "IPY_MODEL_c942622459ca4fd5a720b46fbcd878f2",
       "value": " 2202/3188 [08:15&lt;03:39,  4.50it/s]"
      }
     },
     "c8ec2c6b9a864c2bb48f30b44cbd4139": {
      "model_module": "@jupyter-widgets/controls",
      "model_module_version": "2.0.0",
      "model_name": "FloatProgressModel",
      "state": {
       "bar_style": "success",
       "layout": "IPY_MODEL_1276992938d2453887608e686fd99604",
       "max": 3188,
       "style": "IPY_MODEL_d7f1406c35cd45adaf256449c18ac4b0",
       "value": 3188
      }
     },
     "c942622459ca4fd5a720b46fbcd878f2": {
      "model_module": "@jupyter-widgets/controls",
      "model_module_version": "2.0.0",
      "model_name": "HTMLStyleModel",
      "state": {
       "description_width": "",
       "font_size": null,
       "text_color": null
      }
     },
     "cef6fd040b6242ef9e441f9a72661906": {
      "model_module": "@jupyter-widgets/base",
      "model_module_version": "2.0.0",
      "model_name": "LayoutModel",
      "state": {}
     },
     "d3286d40df4843a99ef83418db396546": {
      "model_module": "@jupyter-widgets/controls",
      "model_module_version": "2.0.0",
      "model_name": "HBoxModel",
      "state": {
       "children": [
        "IPY_MODEL_fa9c3746d5df4c519ef822ca0dd2a4d4",
        "IPY_MODEL_c1558ffee17a4b69a1b02636dee7dad5",
        "IPY_MODEL_d4210c2740eb4ddbb074c20603e88cdd"
       ],
       "layout": "IPY_MODEL_bdede59895e3435cbf4a1cda5032248d"
      }
     },
     "d4210c2740eb4ddbb074c20603e88cdd": {
      "model_module": "@jupyter-widgets/controls",
      "model_module_version": "2.0.0",
      "model_name": "HTMLModel",
      "state": {
       "layout": "IPY_MODEL_f10b05296c62418c82fa8f952aa3bd53",
       "style": "IPY_MODEL_908a379c768b490ebbfd4f50d3404547",
       "value": " 2271/3188 [00:27&lt;02:59,  5.10it/s]"
      }
     },
     "d7f1406c35cd45adaf256449c18ac4b0": {
      "model_module": "@jupyter-widgets/controls",
      "model_module_version": "2.0.0",
      "model_name": "ProgressStyleModel",
      "state": {
       "description_width": ""
      }
     },
     "f10b05296c62418c82fa8f952aa3bd53": {
      "model_module": "@jupyter-widgets/base",
      "model_module_version": "2.0.0",
      "model_name": "LayoutModel",
      "state": {}
     },
     "fa9c3746d5df4c519ef822ca0dd2a4d4": {
      "model_module": "@jupyter-widgets/controls",
      "model_module_version": "2.0.0",
      "model_name": "HTMLModel",
      "state": {
       "layout": "IPY_MODEL_5938784765af4df5ae6a71c446297371",
       "style": "IPY_MODEL_6b9ff7211a874962a08b96742e3689a6",
       "value": " 71%"
      }
     }
    },
    "version_major": 2,
    "version_minor": 0
   }
  }
 },
 "nbformat": 4,
 "nbformat_minor": 5
}
