{
 "cells": [
  {
   "cell_type": "markdown",
   "id": "d55a71f3-17f1-47d8-a7cc-c80d60b00117",
   "metadata": {},
   "source": [
    "# Compress all depth videos"
   ]
  },
  {
   "cell_type": "code",
   "execution_count": 1,
   "id": "0bb69bf8-45f6-4a34-99e2-0e4ea9802e23",
   "metadata": {
    "tags": []
   },
   "outputs": [],
   "source": [
    "import os\n",
    "from pathlib import Path\n",
    "from toolz import concat\n",
    "from aging.organization.paths import FOLDERS"
   ]
  },
  {
   "cell_type": "code",
   "execution_count": 2,
   "id": "cf3cd5b3-c48d-497c-b960-161e4012cf1e",
   "metadata": {
    "tags": []
   },
   "outputs": [],
   "source": [
    "user = os.environ['USER']"
   ]
  },
  {
   "cell_type": "code",
   "execution_count": 3,
   "id": "86d71095-3054-4ad3-99c0-e0b2e6e74bf1",
   "metadata": {
    "tags": []
   },
   "outputs": [],
   "source": [
    "paths = sorted(concat(f.glob('**/depth.dat') for f in FOLDERS))"
   ]
  },
  {
   "cell_type": "code",
   "execution_count": 4,
   "id": "e41e5de6-f962-47fe-be35-27aa91dc6de7",
   "metadata": {
    "tags": []
   },
   "outputs": [
    {
     "data": {
      "text/plain": [
       "1335"
      ]
     },
     "execution_count": 4,
     "metadata": {},
     "output_type": "execute_result"
    }
   ],
   "source": [
    "len(paths)"
   ]
  },
  {
   "cell_type": "code",
   "execution_count": 5,
   "id": "05847dfd-e606-4cc9-a991-a030423932bb",
   "metadata": {
    "tags": []
   },
   "outputs": [
    {
     "data": {
      "text/plain": [
       "PosixPath('/n/groups/datta/Dana/Ontogeny/raw_data/Ontogeny_females/9months/session_20230609151954/depth.dat')"
      ]
     },
     "execution_count": 5,
     "metadata": {},
     "output_type": "execute_result"
    }
   ],
   "source": [
    "paths[0].absolute()"
   ]
  },
  {
   "cell_type": "code",
   "execution_count": 6,
   "id": "21e5d4e7-07e1-4a5e-84cd-516fabd8e97c",
   "metadata": {
    "tags": []
   },
   "outputs": [],
   "source": [
    "script = '''#!/bin/env bash\n",
    "#SBATCH -c 1\n",
    "#SBATCH -n 1\n",
    "#SBATCH --mem=10G\n",
    "#SBATCH -p short\n",
    "#SBATCH -t 0:55:00\n",
    "#SBATCH --output=/n/scratch3/users/{user}/tmp/ontogeny/depth-compression-%j.out\n",
    "\n",
    "source $HOME/.bashrc\n",
    "conda activate moseq2-app\n",
    "# for rockwell's data, don't delete\n",
    "moseq2-extract convert-raw-to-avi \"{file_path}\" --delete\n",
    "'''"
   ]
  },
  {
   "cell_type": "code",
   "execution_count": 7,
   "id": "7078916a-119f-4518-8bdf-9ee824d72a1f",
   "metadata": {
    "tags": []
   },
   "outputs": [],
   "source": [
    "def avi_not_exists(path):\n",
    "    return not Path(path).with_suffix(\".avi\").exists()"
   ]
  },
  {
   "cell_type": "code",
   "execution_count": 8,
   "id": "c8e62a6e-0292-4de7-bfde-8d9b9c9e4e86",
   "metadata": {
    "tags": []
   },
   "outputs": [
    {
     "name": "stdout",
     "output_type": "stream",
     "text": [
      "Submitted batch job 14434954\n",
      "Submitted batch job 14434955\n",
      "Submitted batch job 14434956\n",
      "Submitted batch job 14434957\n",
      "Submitted batch job 14434958\n",
      "Submitted batch job 14434959\n",
      "Submitted batch job 14434960\n",
      "Submitted batch job 14434961\n",
      "Submitted batch job 14434962\n",
      "Submitted batch job 14434963\n",
      "Submitted batch job 14434964\n",
      "Submitted batch job 14434965\n",
      "Submitted batch job 14434966\n",
      "Submitted batch job 14434967\n",
      "Submitted batch job 14434968\n",
      "Submitted batch job 14434969\n",
      "Submitted batch job 14434970\n",
      "Submitted batch job 14434971\n",
      "Submitted batch job 14434972\n",
      "Submitted batch job 14434973\n",
      "Submitted batch job 14434974\n",
      "Submitted batch job 14434975\n",
      "Submitted batch job 14434976\n",
      "Submitted batch job 14434977\n",
      "Submitted batch job 14434978\n",
      "Submitted batch job 14434979\n",
      "Submitted batch job 14434980\n",
      "Submitted batch job 14434981\n",
      "Submitted batch job 14434982\n",
      "Submitted batch job 14434983\n",
      "Submitted batch job 14434984\n",
      "Submitted batch job 14434985\n",
      "Submitted batch job 14434986\n",
      "Submitted batch job 14434987\n",
      "Submitted batch job 14434988\n",
      "Submitted batch job 14434989\n",
      "Submitted batch job 14434990\n",
      "Submitted batch job 14434991\n",
      "Submitted batch job 14434992\n",
      "Submitted batch job 14434993\n",
      "Submitted batch job 14434994\n",
      "Submitted batch job 14434995\n",
      "Submitted batch job 14434996\n",
      "Submitted batch job 14434997\n",
      "Submitted batch job 14434998\n",
      "Submitted batch job 14434999\n",
      "Submitted batch job 14435000\n",
      "Submitted batch job 14435001\n",
      "Submitted batch job 14435002\n",
      "Submitted batch job 14435003\n",
      "Submitted batch job 14435004\n",
      "Submitted batch job 14435005\n",
      "Submitted batch job 14435006\n",
      "Submitted batch job 14435007\n",
      "Submitted batch job 14435008\n",
      "Submitted batch job 14435012\n",
      "Submitted batch job 14435014\n",
      "Submitted batch job 14435015\n",
      "Submitted batch job 14435073\n",
      "Submitted batch job 14435074\n",
      "Submitted batch job 14435075\n",
      "Submitted batch job 14435076\n",
      "Submitted batch job 14435077\n",
      "Submitted batch job 14435078\n",
      "Submitted batch job 14435079\n",
      "Submitted batch job 14435081\n",
      "Submitted batch job 14435083\n",
      "Submitted batch job 14435086\n",
      "Submitted batch job 14435089\n",
      "Submitted batch job 14435091\n",
      "Submitted batch job 14435094\n",
      "Submitted batch job 14435095\n",
      "Submitted batch job 14435098\n",
      "Submitted batch job 14435100\n",
      "Submitted batch job 14435103\n",
      "Submitted batch job 14435105\n",
      "Submitted batch job 14435107\n",
      "Submitted batch job 14435109\n",
      "Submitted batch job 14435112\n",
      "Submitted batch job 14435115\n",
      "Submitted batch job 14435117\n",
      "Submitted batch job 14435120\n",
      "Submitted batch job 14435122\n",
      "Submitted batch job 14435124\n",
      "Submitted batch job 14435127\n",
      "Submitted batch job 14435129\n",
      "Submitted batch job 14435132\n",
      "Submitted batch job 14435134\n",
      "Submitted batch job 14435136\n",
      "Submitted batch job 14435138\n",
      "Submitted batch job 14435141\n",
      "Submitted batch job 14435143\n",
      "Submitted batch job 14435145\n",
      "Submitted batch job 14435148\n",
      "Submitted batch job 14435150\n",
      "Submitted batch job 14435152\n",
      "Submitted batch job 14435155\n",
      "Submitted batch job 14435157\n",
      "Submitted batch job 14435159\n",
      "Submitted batch job 14435162\n",
      "Submitted batch job 14435164\n",
      "Submitted batch job 14435167\n",
      "Submitted batch job 14435169\n",
      "Submitted batch job 14435172\n",
      "Submitted batch job 14435175\n",
      "Submitted batch job 14435177\n",
      "Submitted batch job 14435180\n",
      "Submitted batch job 14435182\n",
      "Submitted batch job 14435184\n",
      "Submitted batch job 14435188\n",
      "Submitted batch job 14435190\n",
      "Submitted batch job 14435192\n",
      "Submitted batch job 14435195\n",
      "Submitted batch job 14435198\n",
      "Submitted batch job 14435200\n",
      "Submitted batch job 14435203\n",
      "Submitted batch job 14435205\n",
      "Submitted batch job 14435207\n",
      "Submitted batch job 14435210\n",
      "Submitted batch job 14435212\n",
      "Submitted batch job 14435214\n",
      "Submitted batch job 14435217\n",
      "Submitted batch job 14435219\n",
      "Submitted batch job 14435222\n",
      "Submitted batch job 14435224\n",
      "Submitted batch job 14435227\n",
      "Submitted batch job 14435230\n",
      "Submitted batch job 14435232\n",
      "Submitted batch job 14435234\n",
      "Submitted batch job 14435237\n",
      "Submitted batch job 14435240\n",
      "Submitted batch job 14435242\n",
      "Submitted batch job 14435245\n",
      "Submitted batch job 14435247\n",
      "Submitted batch job 14435249\n",
      "Submitted batch job 14435252\n",
      "Submitted batch job 14435254\n",
      "Submitted batch job 14435257\n",
      "Submitted batch job 14435259\n",
      "Submitted batch job 14435262\n",
      "Submitted batch job 14435266\n",
      "Submitted batch job 14435268\n",
      "Submitted batch job 14435271\n",
      "Submitted batch job 14435273\n",
      "Submitted batch job 14435276\n",
      "Submitted batch job 14435278\n",
      "Submitted batch job 14435281\n",
      "Submitted batch job 14435283\n",
      "Submitted batch job 14435286\n",
      "Submitted batch job 14435288\n",
      "Submitted batch job 14435291\n",
      "Submitted batch job 14435293\n",
      "Submitted batch job 14435296\n",
      "Submitted batch job 14435298\n",
      "Submitted batch job 14435300\n",
      "Submitted batch job 14435303\n",
      "Submitted batch job 14435305\n",
      "Submitted batch job 14435307\n",
      "Submitted batch job 14435310\n",
      "Submitted batch job 14435312\n",
      "Submitted batch job 14435315\n",
      "Submitted batch job 14435318\n",
      "Submitted batch job 14435320\n",
      "Submitted batch job 14435323\n",
      "Submitted batch job 14435326\n",
      "Submitted batch job 14435330\n",
      "Submitted batch job 14435333\n",
      "Submitted batch job 14435336\n",
      "Submitted batch job 14435339\n",
      "Submitted batch job 14435342\n",
      "Submitted batch job 14435344\n",
      "Submitted batch job 14435347\n",
      "Submitted batch job 14435350\n"
     ]
    }
   ],
   "source": [
    "for p in filter(avi_not_exists, paths):\n",
    "    new_script = script.format(file_path=os.path.realpath(p), user=f\"{user[0]}/{user}\")\n",
    "    with open('tmp.sh', 'w') as f:\n",
    "        f.write(new_script)\n",
    "\n",
    "    !sbatch tmp.sh\n",
    "!rm tmp.sh"
   ]
  },
  {
   "cell_type": "code",
   "execution_count": null,
   "id": "ad7bb68c-887a-4b94-bfb0-a687f1eef9ce",
   "metadata": {},
   "outputs": [],
   "source": []
  }
 ],
 "metadata": {
  "kernelspec": {
   "display_name": "Python 3 (ipykernel)",
   "language": "python",
   "name": "python3"
  },
  "language_info": {
   "codemirror_mode": {
    "name": "ipython",
    "version": 3
   },
   "file_extension": ".py",
   "mimetype": "text/x-python",
   "name": "python",
   "nbconvert_exporter": "python",
   "pygments_lexer": "ipython3",
   "version": "3.10.11"
  },
  "widgets": {
   "application/vnd.jupyter.widget-state+json": {
    "state": {},
    "version_major": 2,
    "version_minor": 0
   }
  }
 },
 "nbformat": 4,
 "nbformat_minor": 5
}
