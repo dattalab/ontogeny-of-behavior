{
 "cells": [
  {
   "cell_type": "markdown",
   "id": "d55a71f3-17f1-47d8-a7cc-c80d60b00117",
   "metadata": {},
   "source": [
    "# Compress all depth videos"
   ]
  },
  {
   "cell_type": "code",
   "execution_count": 1,
   "id": "0bb69bf8-45f6-4a34-99e2-0e4ea9802e23",
   "metadata": {},
   "outputs": [],
   "source": [
    "import os\n",
    "from pathlib import Path\n",
    "from toolz import concat"
   ]
  },
  {
   "cell_type": "code",
   "execution_count": 2,
   "id": "23c91028-cc9d-4543-bf20-f1e3bc035b33",
   "metadata": {},
   "outputs": [],
   "source": [
    "folders = [\n",
    "    '/n/groups/datta/Dana/Ontogeny/raw_data/Ontogeny_females',\n",
    "    '/n/groups/datta/Dana/Ontogeny/raw_data/Ontogeny_males',\n",
    "    '/n/groups/datta/Dana/Ontogeny/raw_data/longtogeny_pre_unet/Females',\n",
    "    '/n/groups/datta/Dana/Ontogeny/raw_data/longtogeny_pre_unet/Males',\n",
    "    '/n/groups/datta/min/dominance_v1',\n",
    "    '/n/groups/datta/min/community_v1',\n",
    "    '/n/groups/datta/min/wheel_062023',\n",
    "    '/n/groups/datta/min/castrated_v1',\n",
    "]\n",
    "folders = [Path(f) for f in folders]"
   ]
  },
  {
   "cell_type": "code",
   "execution_count": 3,
   "id": "86d71095-3054-4ad3-99c0-e0b2e6e74bf1",
   "metadata": {
    "tags": []
   },
   "outputs": [],
   "source": [
    "paths = sorted(concat(f.glob('**/depth.dat') for f in folders))"
   ]
  },
  {
   "cell_type": "code",
   "execution_count": 4,
   "id": "e41e5de6-f962-47fe-be35-27aa91dc6de7",
   "metadata": {
    "tags": []
   },
   "outputs": [
    {
     "data": {
      "text/plain": [
       "1400"
      ]
     },
     "execution_count": 4,
     "metadata": {},
     "output_type": "execute_result"
    }
   ],
   "source": [
    "len(paths)"
   ]
  },
  {
   "cell_type": "code",
   "execution_count": 5,
   "id": "05847dfd-e606-4cc9-a991-a030423932bb",
   "metadata": {},
   "outputs": [
    {
     "data": {
      "text/plain": [
       "'/n/groups/datta/Dana/Ontogeny/raw_data/Ontogeny_males/22months_06052023/session_20230605093950/depth.dat'"
      ]
     },
     "execution_count": 5,
     "metadata": {},
     "output_type": "execute_result"
    }
   ],
   "source": [
    "os.path.realpath(paths[0])"
   ]
  },
  {
   "cell_type": "code",
   "execution_count": 12,
   "id": "21e5d4e7-07e1-4a5e-84cd-516fabd8e97c",
   "metadata": {},
   "outputs": [],
   "source": [
    "script = '''#!/bin/env bash\n",
    "#SBATCH -c 1\n",
    "#SBATCH -n 1\n",
    "#SBATCH --mem=7G\n",
    "#SBATCH -p short\n",
    "#SBATCH -t 0:45:00\n",
    "#SBATCH --output=/n/scratch3/users/w/wg41/tmp/ontogeny/depth-compression-%j.out\n",
    "\n",
    "source $HOME/.bashrc\n",
    "conda activate moseq2-app\n",
    "# for rockwell's data, don't delete\n",
    "moseq2-extract convert-raw-to-avi \"{file_path}\" --delete\n",
    "'''"
   ]
  },
  {
   "cell_type": "code",
   "execution_count": 13,
   "id": "7078916a-119f-4518-8bdf-9ee824d72a1f",
   "metadata": {
    "tags": []
   },
   "outputs": [],
   "source": [
    "def avi_not_exists(path):\n",
    "    return not Path(path).with_suffix(\".avi\").exists()"
   ]
  },
  {
   "cell_type": "code",
   "execution_count": 14,
   "id": "5485fb3b-a4f0-44a1-9eeb-f72dbc212598",
   "metadata": {
    "tags": []
   },
   "outputs": [
    {
     "name": "stdout",
     "output_type": "stream",
     "text": [
      "Submitted batch job 10019698\n",
      "Submitted batch job 10019699\n",
      "Submitted batch job 10019701\n",
      "Submitted batch job 10019702\n",
      "Submitted batch job 10019704\n",
      "Submitted batch job 10019705\n",
      "Submitted batch job 10019707\n",
      "Submitted batch job 10019709\n",
      "Submitted batch job 10019711\n",
      "Submitted batch job 10019712\n",
      "Submitted batch job 10019714\n",
      "Submitted batch job 10019717\n",
      "Submitted batch job 10019718\n",
      "Submitted batch job 10019720\n",
      "Submitted batch job 10019723\n",
      "Submitted batch job 10019724\n"
     ]
    }
   ],
   "source": [
    "for p in filter(avi_not_exists, paths):\n",
    "    new_script = script.format(file_path=os.path.realpath(p))\n",
    "    with open('tmp.sh', 'w') as f:\n",
    "        f.write(new_script)\n",
    "\n",
    "    !sbatch tmp.sh"
   ]
  },
  {
   "cell_type": "code",
   "execution_count": 15,
   "id": "55d77de3-2cab-4449-b479-1e09cf342dc8",
   "metadata": {},
   "outputs": [],
   "source": [
    "!rm tmp.sh"
   ]
  },
  {
   "cell_type": "code",
   "execution_count": null,
   "id": "ad7bb68c-887a-4b94-bfb0-a687f1eef9ce",
   "metadata": {},
   "outputs": [],
   "source": []
  }
 ],
 "metadata": {
  "kernelspec": {
   "display_name": "moseq2-app",
   "language": "python",
   "name": "moseq2-app"
  },
  "language_info": {
   "codemirror_mode": {
    "name": "ipython",
    "version": 3
   },
   "file_extension": ".py",
   "mimetype": "text/x-python",
   "name": "python",
   "nbconvert_exporter": "python",
   "pygments_lexer": "ipython3",
   "version": "3.7.13"
  },
  "widgets": {
   "application/vnd.jupyter.widget-state+json": {
    "state": {},
    "version_major": 2,
    "version_minor": 0
   }
  }
 },
 "nbformat": 4,
 "nbformat_minor": 5
}
