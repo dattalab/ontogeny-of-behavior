{
 "cells": [
  {
   "cell_type": "markdown",
   "id": "d55a71f3-17f1-47d8-a7cc-c80d60b00117",
   "metadata": {},
   "source": [
    "# Compress all depth videos"
   ]
  },
  {
   "cell_type": "code",
   "execution_count": 1,
   "id": "0bb69bf8-45f6-4a34-99e2-0e4ea9802e23",
   "metadata": {
    "tags": []
   },
   "outputs": [],
   "source": [
    "import os\n",
    "from pathlib import Path\n",
    "from toolz import concat\n",
    "from aging.organization.paths import FOLDERS"
   ]
  },
  {
   "cell_type": "code",
   "execution_count": 2,
   "id": "cf3cd5b3-c48d-497c-b960-161e4012cf1e",
   "metadata": {
    "tags": []
   },
   "outputs": [],
   "source": [
    "user = os.environ['USER']"
   ]
  },
  {
   "cell_type": "code",
   "execution_count": 3,
   "id": "86d71095-3054-4ad3-99c0-e0b2e6e74bf1",
   "metadata": {
    "tags": []
   },
   "outputs": [],
   "source": [
    "paths = sorted(concat(f.glob('**/depth.dat') for f in FOLDERS))\n",
    "# paths = sorted(Path('/n/groups/datta/min').glob('**/depth.dat'))"
   ]
  },
  {
   "cell_type": "code",
   "execution_count": 4,
   "id": "e41e5de6-f962-47fe-be35-27aa91dc6de7",
   "metadata": {
    "tags": []
   },
   "outputs": [
    {
     "data": {
      "text/plain": [
       "485"
      ]
     },
     "execution_count": 4,
     "metadata": {},
     "output_type": "execute_result"
    }
   ],
   "source": [
    "len(paths)"
   ]
  },
  {
   "cell_type": "code",
   "execution_count": 5,
   "id": "05847dfd-e606-4cc9-a991-a030423932bb",
   "metadata": {
    "tags": []
   },
   "outputs": [
    {
     "data": {
      "text/plain": [
       "PosixPath('/n/groups/datta/Dana/Ontogeny/raw_data/Ontogeny_females/9months/session_20230609151954/depth.dat')"
      ]
     },
     "execution_count": 5,
     "metadata": {},
     "output_type": "execute_result"
    }
   ],
   "source": [
    "paths[0].absolute()"
   ]
  },
  {
   "cell_type": "code",
   "execution_count": 6,
   "id": "66b1e1e4-73eb-4199-8ef4-06398ceed76e",
   "metadata": {
    "tags": []
   },
   "outputs": [
    {
     "data": {
      "text/plain": [
       "True"
      ]
     },
     "execution_count": 6,
     "metadata": {},
     "output_type": "execute_result"
    }
   ],
   "source": [
    "paths[0].with_suffix('.avi').exists()"
   ]
  },
  {
   "cell_type": "code",
   "execution_count": 7,
   "id": "21e5d4e7-07e1-4a5e-84cd-516fabd8e97c",
   "metadata": {
    "tags": []
   },
   "outputs": [],
   "source": [
    "script = '''#!/bin/env bash\n",
    "#SBATCH -c 1\n",
    "#SBATCH -n 1\n",
    "#SBATCH --mem=13G\n",
    "#SBATCH -p short\n",
    "#SBATCH -t 1:15:00\n",
    "#SBATCH --output=/n/scratch3/users/{user}/tmp/ontogeny/depth-compression-%j.out\n",
    "\n",
    "source $HOME/.bashrc\n",
    "conda activate moseq2-app\n",
    "# for rockwell's data, don't delete\n",
    "moseq2-extract convert-raw-to-avi \"{file_path}\" --delete\n",
    "'''"
   ]
  },
  {
   "cell_type": "code",
   "execution_count": 8,
   "id": "7078916a-119f-4518-8bdf-9ee824d72a1f",
   "metadata": {
    "tags": []
   },
   "outputs": [],
   "source": [
    "def avi_not_exists(path):\n",
    "    return not Path(path).with_suffix(\".avi\").exists()"
   ]
  },
  {
   "cell_type": "code",
   "execution_count": 9,
   "id": "c8e62a6e-0292-4de7-bfde-8d9b9c9e4e86",
   "metadata": {
    "tags": []
   },
   "outputs": [
    {
     "name": "stdout",
     "output_type": "stream",
     "text": [
      "Submitted batch job 18795632\n",
      "Submitted batch job 18795633\n",
      "Submitted batch job 18795634\n",
      "Submitted batch job 18795635\n",
      "Submitted batch job 18795636\n",
      "Submitted batch job 18795637\n",
      "Submitted batch job 18795638\n",
      "Submitted batch job 18795639\n",
      "Submitted batch job 18795640\n",
      "Submitted batch job 18795641\n",
      "Submitted batch job 18795642\n",
      "Submitted batch job 18795643\n",
      "Submitted batch job 18795644\n",
      "Submitted batch job 18795645\n",
      "Submitted batch job 18795646\n",
      "Submitted batch job 18795647\n",
      "Submitted batch job 18795648\n",
      "Submitted batch job 18795649\n",
      "Submitted batch job 18795650\n",
      "Submitted batch job 18795651\n",
      "Submitted batch job 18795652\n",
      "Submitted batch job 18795653\n",
      "Submitted batch job 18795654\n",
      "Submitted batch job 18795655\n",
      "Submitted batch job 18795656\n",
      "Submitted batch job 18795657\n",
      "Submitted batch job 18795658\n",
      "Submitted batch job 18795659\n",
      "Submitted batch job 18795660\n",
      "Submitted batch job 18795661\n",
      "Submitted batch job 18795662\n",
      "Submitted batch job 18795663\n",
      "Submitted batch job 18795664\n",
      "Submitted batch job 18795665\n",
      "Submitted batch job 18795666\n",
      "Submitted batch job 18795667\n",
      "Submitted batch job 18795668\n",
      "Submitted batch job 18795669\n",
      "Submitted batch job 18795670\n",
      "Submitted batch job 18795671\n",
      "Submitted batch job 18795672\n",
      "Submitted batch job 18795673\n",
      "Submitted batch job 18795674\n",
      "Submitted batch job 18795675\n",
      "Submitted batch job 18795676\n",
      "Submitted batch job 18795677\n",
      "Submitted batch job 18795678\n",
      "Submitted batch job 18795679\n",
      "Submitted batch job 18795680\n",
      "Submitted batch job 18795681\n",
      "Submitted batch job 18795682\n",
      "Submitted batch job 18795683\n",
      "Submitted batch job 18795684\n",
      "Submitted batch job 18795685\n",
      "Submitted batch job 18795686\n",
      "Submitted batch job 18795687\n",
      "Submitted batch job 18795688\n",
      "Submitted batch job 18795689\n",
      "Submitted batch job 18795691\n",
      "Submitted batch job 18795692\n",
      "Submitted batch job 18795693\n",
      "Submitted batch job 18795694\n",
      "Submitted batch job 18795695\n",
      "Submitted batch job 18795696\n",
      "Submitted batch job 18795697\n",
      "Submitted batch job 18795698\n",
      "Submitted batch job 18795699\n",
      "Submitted batch job 18795700\n",
      "Submitted batch job 18795701\n",
      "Submitted batch job 18795702\n",
      "Submitted batch job 18795703\n",
      "Submitted batch job 18795704\n",
      "Submitted batch job 18795705\n",
      "Submitted batch job 18795706\n",
      "Submitted batch job 18795707\n",
      "Submitted batch job 18795708\n",
      "Submitted batch job 18795709\n",
      "Submitted batch job 18795710\n",
      "Submitted batch job 18795711\n",
      "Submitted batch job 18795712\n",
      "Submitted batch job 18795713\n",
      "Submitted batch job 18795714\n",
      "Submitted batch job 18795715\n",
      "Submitted batch job 18795716\n",
      "Submitted batch job 18795717\n",
      "Submitted batch job 18795718\n",
      "Submitted batch job 18795719\n",
      "Submitted batch job 18795720\n",
      "Submitted batch job 18795721\n",
      "Submitted batch job 18795722\n",
      "Submitted batch job 18795723\n",
      "Submitted batch job 18795724\n",
      "Submitted batch job 18795725\n",
      "Submitted batch job 18795726\n",
      "Submitted batch job 18795727\n",
      "Submitted batch job 18795728\n",
      "Submitted batch job 18795729\n",
      "Submitted batch job 18795730\n",
      "Submitted batch job 18795731\n",
      "Submitted batch job 18795732\n",
      "Submitted batch job 18795733\n",
      "Submitted batch job 18795734\n",
      "Submitted batch job 18795735\n",
      "Submitted batch job 18795736\n",
      "Submitted batch job 18795737\n",
      "Submitted batch job 18795738\n",
      "Submitted batch job 18795739\n",
      "Submitted batch job 18795740\n",
      "Submitted batch job 18795741\n",
      "Submitted batch job 18795742\n",
      "Submitted batch job 18795743\n",
      "Submitted batch job 18795744\n",
      "Submitted batch job 18795745\n",
      "Submitted batch job 18795746\n",
      "Submitted batch job 18795747\n",
      "Submitted batch job 18795748\n",
      "Submitted batch job 18795749\n",
      "Submitted batch job 18795750\n",
      "Submitted batch job 18795751\n",
      "Submitted batch job 18795752\n",
      "Submitted batch job 18795753\n",
      "Submitted batch job 18795754\n",
      "Submitted batch job 18795755\n",
      "Submitted batch job 18795756\n",
      "Submitted batch job 18795757\n",
      "Submitted batch job 18795758\n",
      "Submitted batch job 18795759\n",
      "Submitted batch job 18795760\n",
      "Submitted batch job 18795761\n",
      "Submitted batch job 18795762\n",
      "Submitted batch job 18795763\n",
      "Submitted batch job 18795764\n",
      "Submitted batch job 18795765\n",
      "Submitted batch job 18795766\n",
      "Submitted batch job 18795767\n",
      "Submitted batch job 18795768\n",
      "Submitted batch job 18795769\n",
      "Submitted batch job 18795770\n",
      "Submitted batch job 18795771\n",
      "Submitted batch job 18795772\n",
      "Submitted batch job 18795773\n",
      "Submitted batch job 18795774\n",
      "Submitted batch job 18795775\n",
      "Submitted batch job 18795776\n",
      "Submitted batch job 18795777\n",
      "Submitted batch job 18795778\n",
      "Submitted batch job 18795779\n",
      "Submitted batch job 18795781\n",
      "Submitted batch job 18795782\n",
      "Submitted batch job 18795783\n",
      "Submitted batch job 18795784\n",
      "Submitted batch job 18795785\n",
      "Submitted batch job 18795786\n",
      "Submitted batch job 18795787\n",
      "Submitted batch job 18795788\n",
      "Submitted batch job 18795789\n",
      "Submitted batch job 18795790\n",
      "Submitted batch job 18795791\n",
      "Submitted batch job 18795792\n",
      "Submitted batch job 18795793\n",
      "Submitted batch job 18795794\n",
      "Submitted batch job 18795795\n",
      "Submitted batch job 18795796\n",
      "Submitted batch job 18795797\n",
      "Submitted batch job 18795798\n",
      "Submitted batch job 18795799\n",
      "Submitted batch job 18795800\n",
      "Submitted batch job 18795801\n",
      "Submitted batch job 18795802\n",
      "Submitted batch job 18795803\n",
      "Submitted batch job 18795804\n",
      "Submitted batch job 18795805\n",
      "Submitted batch job 18795806\n",
      "Submitted batch job 18795807\n",
      "Submitted batch job 18795808\n",
      "Submitted batch job 18795809\n",
      "Submitted batch job 18795810\n",
      "Submitted batch job 18795811\n",
      "Submitted batch job 18795812\n",
      "Submitted batch job 18795813\n",
      "Submitted batch job 18795814\n",
      "Submitted batch job 18795815\n",
      "Submitted batch job 18795816\n",
      "Submitted batch job 18795817\n",
      "Submitted batch job 18795818\n",
      "Submitted batch job 18795819\n",
      "Submitted batch job 18795820\n",
      "Submitted batch job 18795821\n",
      "Submitted batch job 18795822\n",
      "Submitted batch job 18795823\n",
      "Submitted batch job 18795824\n",
      "Submitted batch job 18795825\n",
      "Submitted batch job 18795826\n",
      "Submitted batch job 18795827\n",
      "Submitted batch job 18795828\n",
      "Submitted batch job 18795829\n",
      "Submitted batch job 18795830\n",
      "Submitted batch job 18795831\n",
      "Submitted batch job 18795832\n",
      "Submitted batch job 18795833\n",
      "Submitted batch job 18795834\n",
      "Submitted batch job 18795835\n",
      "Submitted batch job 18795836\n",
      "Submitted batch job 18795837\n",
      "Submitted batch job 18795838\n",
      "Submitted batch job 18795839\n",
      "Submitted batch job 18795840\n",
      "Submitted batch job 18795841\n",
      "Submitted batch job 18795842\n",
      "Submitted batch job 18795843\n",
      "Submitted batch job 18795844\n",
      "Submitted batch job 18795845\n",
      "Submitted batch job 18795846\n",
      "Submitted batch job 18795847\n",
      "Submitted batch job 18795848\n",
      "Submitted batch job 18795849\n",
      "Submitted batch job 18795850\n",
      "Submitted batch job 18795851\n",
      "Submitted batch job 18795852\n",
      "Submitted batch job 18795853\n",
      "Submitted batch job 18795854\n",
      "Submitted batch job 18795855\n",
      "Submitted batch job 18795856\n",
      "Submitted batch job 18795857\n",
      "Submitted batch job 18795858\n",
      "Submitted batch job 18795859\n",
      "Submitted batch job 18795860\n",
      "Submitted batch job 18795861\n",
      "Submitted batch job 18795862\n",
      "Submitted batch job 18795863\n",
      "Submitted batch job 18795864\n",
      "Submitted batch job 18795865\n",
      "Submitted batch job 18795866\n",
      "Submitted batch job 18795867\n",
      "Submitted batch job 18795868\n",
      "Submitted batch job 18795869\n",
      "Submitted batch job 18795870\n",
      "Submitted batch job 18795871\n",
      "Submitted batch job 18795872\n",
      "Submitted batch job 18795873\n",
      "Submitted batch job 18795874\n",
      "Submitted batch job 18795875\n",
      "Submitted batch job 18795876\n",
      "Submitted batch job 18795877\n",
      "Submitted batch job 18795878\n",
      "Submitted batch job 18795879\n",
      "Submitted batch job 18795880\n",
      "Submitted batch job 18795881\n",
      "Submitted batch job 18795882\n",
      "Submitted batch job 18795883\n",
      "Submitted batch job 18795884\n",
      "Submitted batch job 18795885\n",
      "Submitted batch job 18795886\n",
      "Submitted batch job 18795887\n",
      "Submitted batch job 18795888\n",
      "Submitted batch job 18795889\n",
      "Submitted batch job 18795890\n",
      "Submitted batch job 18795891\n",
      "Submitted batch job 18795892\n",
      "Submitted batch job 18795893\n",
      "Submitted batch job 18795894\n",
      "Submitted batch job 18795895\n",
      "Submitted batch job 18795896\n",
      "Submitted batch job 18795897\n",
      "Submitted batch job 18795898\n",
      "Submitted batch job 18795899\n",
      "Submitted batch job 18795900\n",
      "Submitted batch job 18795901\n",
      "Submitted batch job 18795902\n",
      "Submitted batch job 18795903\n",
      "Submitted batch job 18795904\n",
      "Submitted batch job 18795905\n",
      "Submitted batch job 18795906\n",
      "Submitted batch job 18795907\n",
      "Submitted batch job 18795908\n",
      "Submitted batch job 18795909\n",
      "Submitted batch job 18795910\n",
      "Submitted batch job 18795914\n",
      "Submitted batch job 18795915\n",
      "Submitted batch job 18795916\n",
      "Submitted batch job 18795917\n",
      "Submitted batch job 18795918\n",
      "Submitted batch job 18795919\n",
      "Submitted batch job 18795920\n",
      "Submitted batch job 18795921\n",
      "Submitted batch job 18795922\n",
      "Submitted batch job 18795923\n",
      "Submitted batch job 18795924\n",
      "Submitted batch job 18795925\n",
      "Submitted batch job 18795926\n",
      "Submitted batch job 18795927\n",
      "Submitted batch job 18795928\n",
      "Submitted batch job 18795929\n",
      "Submitted batch job 18795930\n",
      "Submitted batch job 18795931\n",
      "Submitted batch job 18795932\n",
      "Submitted batch job 18795933\n",
      "Submitted batch job 18795934\n",
      "Submitted batch job 18795935\n",
      "Submitted batch job 18795936\n",
      "Submitted batch job 18795937\n",
      "Submitted batch job 18795938\n",
      "Submitted batch job 18795939\n",
      "Submitted batch job 18795940\n",
      "Submitted batch job 18795941\n",
      "Submitted batch job 18795942\n",
      "Submitted batch job 18795943\n",
      "Submitted batch job 18795944\n"
     ]
    }
   ],
   "source": [
    "for p in filter(avi_not_exists, paths):\n",
    "# for p in paths:\n",
    "    new_script = script.format(file_path=os.path.realpath(p), user=f\"{user[0]}/{user}\")\n",
    "    with open('tmp.sh', 'w') as f:\n",
    "        f.write(new_script)\n",
    "\n",
    "    !sbatch tmp.sh\n",
    "!rm tmp.sh"
   ]
  },
  {
   "cell_type": "code",
   "execution_count": null,
   "id": "ad7bb68c-887a-4b94-bfb0-a687f1eef9ce",
   "metadata": {},
   "outputs": [],
   "source": []
  }
 ],
 "metadata": {
  "kernelspec": {
   "display_name": "Ontogeny",
   "language": "python",
   "name": "aging"
  },
  "language_info": {
   "codemirror_mode": {
    "name": "ipython",
    "version": 3
   },
   "file_extension": ".py",
   "mimetype": "text/x-python",
   "name": "python",
   "nbconvert_exporter": "python",
   "pygments_lexer": "ipython3",
   "version": "3.10.10"
  },
  "widgets": {
   "application/vnd.jupyter.widget-state+json": {
    "state": {},
    "version_major": 2,
    "version_minor": 0
   }
  }
 },
 "nbformat": 4,
 "nbformat_minor": 5
}
