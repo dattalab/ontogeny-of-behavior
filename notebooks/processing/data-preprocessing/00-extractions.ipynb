{
 "cells": [
  {
   "cell_type": "markdown",
   "id": "6ddd0b1d-0b87-4f29-aa87-1a1081d88294",
   "metadata": {},
   "source": [
    "# Create SLURM scripts to extract new depth recordings using latest `moseq2-app`"
   ]
  },
  {
   "cell_type": "code",
   "execution_count": 1,
   "id": "33e9713d-5431-4bef-a585-3481d6508229",
   "metadata": {
    "tags": []
   },
   "outputs": [],
   "source": [
    "import os\n",
    "import h5py\n",
    "from toolz import concat, compose, curry\n",
    "from ruamel.yaml import YAML\n",
    "from tqdm.auto import tqdm\n",
    "from aging.organization.paths import FOLDERS"
   ]
  },
  {
   "cell_type": "code",
   "execution_count": 2,
   "id": "1a745bd2-bcee-423b-86d1-7bcd4b294955",
   "metadata": {
    "tags": []
   },
   "outputs": [],
   "source": [
    "user = os.environ['USER']"
   ]
  },
  {
   "cell_type": "code",
   "execution_count": 3,
   "id": "21e5d4e7-07e1-4a5e-84cd-516fabd8e97c",
   "metadata": {
    "tags": []
   },
   "outputs": [],
   "source": [
    "script = '''#!/bin/env bash\n",
    "#SBATCH -c 1\n",
    "#SBATCH -n 1\n",
    "#SBATCH --mem=10G\n",
    "#SBATCH -p short\n",
    "#SBATCH -t 00:40:00\n",
    "#SBATCH --output=/n/scratch3/users/{user_pth}/tmp/ontogeny/depth-extraction-%j.out\n",
    "\n",
    "source $HOME/.bashrc\n",
    "conda activate moseq2-app\n",
    "moseq2-extract extract \"{file_path}\" --config-file \"/n/groups/datta/win/longtogeny/data/extractions/config.yaml\"\n",
    "'''"
   ]
  },
  {
   "cell_type": "code",
   "execution_count": 4,
   "id": "e24478d9-ca29-40e8-91e6-70fca76f8d3e",
   "metadata": {
    "tags": []
   },
   "outputs": [],
   "source": [
    "def not_extracted(file):\n",
    "    if file.name.endswith('filepart'):\n",
    "        return False\n",
    "\n",
    "    if extracted := (file.parent / \"proc\" / \"results_00.h5\").exists():\n",
    "        try:\n",
    "            with h5py.File(file.parent / \"proc\" / \"results_00.h5\", \"r\") as h5f:\n",
    "                list(h5f)\n",
    "        except Exception as e:\n",
    "            print(e)\n",
    "            return True\n",
    "        with open(file.parent / \"proc\" / \"results_00.yaml\", \"r\") as conf_f:\n",
    "            yaml = YAML(typ='safe', pure=True)\n",
    "            config = yaml.load(conf_f)\n",
    "        extracted = config[\"complete\"]\n",
    "    # TODO: make sure extraction is newer than 5/30/2023\n",
    "    return not extracted\n",
    "\n",
    "\n",
    "def no_depth_doubles(file):\n",
    "    return not (file.name.endswith(\"avi\") and file.with_suffix(\".dat\").exists())\n",
    "\n",
    "\n",
    "def multi_filter(*filters, seq):\n",
    "    return compose(*(curry(filter)(f) for f in filters))(seq)"
   ]
  },
  {
   "cell_type": "code",
   "execution_count": 5,
   "id": "240806f9-05cd-4fea-8a1d-cfc5e9064fcc",
   "metadata": {
    "tags": []
   },
   "outputs": [],
   "source": [
    "# first round, re-extract everything using my moseq config file\n",
    "# second round, only extract non-extracted data or incomplete extractions\n",
    "# files = list(concat(f.glob('**/depth.*') for f in folders))"
   ]
  },
  {
   "cell_type": "code",
   "execution_count": null,
   "id": "158e990b-bc5d-4f07-ada5-5332091aff82",
   "metadata": {
    "tags": []
   },
   "outputs": [
    {
     "data": {
      "application/vnd.jupyter.widget-view+json": {
       "model_id": "3681374f311445869eb17a16acfac866",
       "version_major": 2,
       "version_minor": 0
      },
      "text/plain": [
       "0it [00:00, ?it/s]"
      ]
     },
     "metadata": {},
     "output_type": "display_data"
    },
    {
     "name": "stdout",
     "output_type": "stream",
     "text": [
      "extracting: /n/groups/datta/Dana/Ontogeny/raw_data/Ontogeny_males/64wks_110623/session_20231106104458/depth.avi\n",
      "Submitted batch job 21700923\n",
      "extracting: /n/groups/datta/Dana/Ontogeny/raw_data/Ontogeny_males/64wks_110623/session_20231106093902/depth.avi\n",
      "Submitted batch job 21700924\n",
      "extracting: /n/groups/datta/Dana/Ontogeny/raw_data/Ontogeny_males/64wks_110623/session_20231106123849/depth.avi\n",
      "Submitted batch job 21700925\n",
      "extracting: /n/groups/datta/Dana/Ontogeny/raw_data/Ontogeny_males/64wks_110623/session_20231106090352/depth.avi\n",
      "Submitted batch job 21700926\n",
      "extracting: /n/groups/datta/Dana/Ontogeny/raw_data/Ontogeny_males/64wks_110623/session_20231106120339/depth.avi\n",
      "Submitted batch job 21700927\n",
      "extracting: /n/groups/datta/Dana/Ontogeny/raw_data/Ontogeny_males/64wks_110623/session_20231106093917/depth.avi\n",
      "Submitted batch job 21700928\n",
      "extracting: /n/groups/datta/Dana/Ontogeny/raw_data/Ontogeny_males/64wks_110623/session_20231106082558/depth.avi\n",
      "Submitted batch job 21700929\n",
      "extracting: /n/groups/datta/Dana/Ontogeny/raw_data/Ontogeny_males/64wks_110623/session_20231106090408/depth.avi\n",
      "Submitted batch job 21700930\n",
      "extracting: /n/groups/datta/Dana/Ontogeny/raw_data/Ontogeny_males/64wks_110623/session_20231106093933/depth.avi\n",
      "Submitted batch job 21700931\n",
      "extracting: /n/groups/datta/Dana/Ontogeny/raw_data/Ontogeny_males/64wks_110623/session_20231106072433/depth.avi\n",
      "Submitted batch job 21700932\n",
      "extracting: /n/groups/datta/Dana/Ontogeny/raw_data/Ontogeny_males/64wks_110623/session_20231106082613/depth.avi\n",
      "Submitted batch job 21700933\n",
      "extracting: /n/groups/datta/Dana/Ontogeny/raw_data/Ontogeny_males/64wks_110623/session_20231106112542/depth.avi\n",
      "Submitted batch job 21700934\n",
      "extracting: /n/groups/datta/Dana/Ontogeny/raw_data/Ontogeny_males/64wks_110623/session_20231106072637/depth.avi\n",
      "Submitted batch job 21700938\n",
      "extracting: /n/groups/datta/Dana/Ontogeny/raw_data/Ontogeny_males/64wks_110623/session_20231106090420/depth.avi\n",
      "Submitted batch job 21700941\n",
      "extracting: /n/groups/datta/Dana/Ontogeny/raw_data/Ontogeny_males/64wks_110623/session_20231106072205/depth.avi\n",
      "Submitted batch job 21700943\n",
      "extracting: /n/groups/datta/Dana/Ontogeny/raw_data/Ontogeny_males/64wks_110623/session_20231106082626/depth.avi\n",
      "Submitted batch job 21700944\n",
      "extracting: /n/groups/datta/min/longtogeny_072023/Males/session_20231106143023/depth.avi\n",
      "Submitted batch job 21701111\n",
      "extracting: /n/groups/datta/min/longtogeny_072023/Males/session_20231106122758/depth.dat\n",
      "Submitted batch job 21701112\n",
      "extracting: /n/groups/datta/min/longtogeny_072023/Males/session_20231106105721/depth.avi\n",
      "Submitted batch job 21701113\n",
      "extracting: /n/groups/datta/min/longtogeny_072023/Males/session_20231106125326/depth.dat\n",
      "Submitted batch job 21701125\n",
      "extracting: /n/groups/datta/min/longtogeny_072023/Males/session_20231106113046/depth.avi\n",
      "Submitted batch job 21701126\n",
      "extracting: /n/groups/datta/min/longtogeny_072023/Males/session_20231106152746/depth.dat\n",
      "Submitted batch job 21701127\n",
      "extracting: /n/groups/datta/min/longtogeny_072023/Males/session_20231106115757/depth.dat\n",
      "Submitted batch job 21701139\n",
      "extracting: /n/groups/datta/min/longtogeny_072023/Males/session_20231106115745/depth.dat\n",
      "Submitted batch job 21701162\n",
      "extracting: /n/groups/datta/min/longtogeny_072023/Males/session_20231106125315/depth.dat\n",
      "Submitted batch job 21701165\n",
      "extracting: /n/groups/datta/min/longtogeny_072023/Males/session_20231106113036/depth.avi\n",
      "Submitted batch job 21701195\n",
      "extracting: /n/groups/datta/min/longtogeny_072023/Males/session_20231106115808/depth.dat\n",
      "Submitted batch job 21701214\n",
      "extracting: /n/groups/datta/min/longtogeny_072023/Males/session_20231106122823/depth.dat\n",
      "Submitted batch job 21701215\n",
      "extracting: /n/groups/datta/min/longtogeny_072023/Males/session_20231106125337/depth.dat\n",
      "Submitted batch job 21701217\n",
      "extracting: /n/groups/datta/min/longtogeny_072023/Males/session_20231106122810/depth.dat\n",
      "Submitted batch job 21701221\n",
      "extracting: /n/groups/datta/min/longtogeny_072023/Males/session_20231106113056/depth.avi\n",
      "Submitted batch job 21701222\n",
      "extracting: /n/groups/datta/min/longtogeny_072023/Males/session_20231106110134/depth.avi\n",
      "Submitted batch job 21701224\n",
      "extracting: /n/groups/datta/min/longtogeny_072023/Males/session_20231106105940/depth.avi\n",
      "Submitted batch job 21701225\n",
      "extracting: /n/groups/datta/min/longtogeny_072023/Males/session_20231106135442/depth.avi\n",
      "Submitted batch job 21701243\n",
      "extracting: /n/groups/datta/min/longtogeny_072023/Males/session_20231106155304/depth.dat\n",
      "Submitted batch job 21701293\n",
      "extracting: /n/groups/datta/min/longtogeny_072023/Males/session_20231106145734/depth.avi\n",
      "Submitted batch job 21701296\n",
      "extracting: /n/groups/datta/min/longtogeny_072023/Females/session_20231106134437/depth.avi\n",
      "Submitted batch job 21701298\n",
      "extracting: /n/groups/datta/min/longtogeny_072023/Females/session_20231106153344/depth.dat\n",
      "Submitted batch job 21701305\n",
      "extracting: /n/groups/datta/min/longtogeny_072023/Females/session_20231106180422/depth.dat\n",
      "Submitted batch job 21701307\n",
      "extracting: /n/groups/datta/min/longtogeny_072023/Females/session_20231106150444/depth.dat\n",
      "Submitted batch job 21701313\n",
      "extracting: /n/groups/datta/min/longtogeny_072023/Females/session_20231106143711/depth.dat\n",
      "Submitted batch job 21701322\n",
      "extracting: /n/groups/datta/min/longtogeny_072023/Females/session_20231106141128/depth.avi\n",
      "Submitted batch job 21701323\n",
      "extracting: /n/groups/datta/min/longtogeny_072023/Females/session_20231106153333/depth.dat\n",
      "Submitted batch job 21701324\n",
      "extracting: /n/groups/datta/min/longtogeny_072023/Females/session_20231106141118/depth.avi\n",
      "Submitted batch job 21701326\n",
      "extracting: /n/groups/datta/min/longtogeny_072023/Females/session_20231106134453/depth.avi\n",
      "Submitted batch job 21701328\n",
      "extracting: /n/groups/datta/min/longtogeny_072023/Females/session_20231106183304/depth.dat\n",
      "Submitted batch job 21701350\n",
      "extracting: /n/groups/datta/min/longtogeny_072023/Females/session_20231106171057/depth.avi\n",
      "Submitted batch job 21701352\n",
      "extracting: /n/groups/datta/min/longtogeny_072023/Females/session_20231106153317/depth.dat\n",
      "Submitted batch job 21701371\n",
      "extracting: /n/groups/datta/min/longtogeny_072023/Females/session_20231106173645/depth.avi\n",
      "Submitted batch job 21701413\n",
      "extracting: /n/groups/datta/min/longtogeny_072023/Females/session_20231106143658/depth.dat\n",
      "Submitted batch job 21701425\n",
      "extracting: /n/groups/datta/min/longtogeny_072023/Females/session_20231106164402/depth.avi\n",
      "Submitted batch job 21701439\n",
      "extracting: /n/groups/datta/min/longtogeny_072023/Females/session_20231106150433/depth.dat\n",
      "Submitted batch job 21701440\n",
      "extracting: /n/groups/datta/min/longtogeny_072023/Females/session_20231106150458/depth.dat\n",
      "Submitted batch job 21701442\n",
      "extracting: /n/groups/datta/min/longtogeny_072023/Females/session_20231106141108/depth.avi\n",
      "Submitted batch job 21701457\n",
      "extracting: /n/groups/datta/min/longtogeny_072023/Females/session_20231106134419/depth.avi\n",
      "Submitted batch job 21701478\n",
      "extracting: /n/groups/datta/min/longtogeny_072023/Females/session_20231106143724/depth.dat\n",
      "Submitted batch job 21701479\n"
     ]
    }
   ],
   "source": [
    "files = multi_filter(not_extracted, no_depth_doubles, seq=concat(f.glob('**/depth.*') for f in FOLDERS))\n",
    "\n",
    "for f in tqdm(files):\n",
    "    # skip avi files that have a dat copy - meaning just use dat copy for extractions\n",
    "    print('extracting:', f)\n",
    "    new_script = script.format(user_pth=f\"{user[0]}/{user}\", file_path=str(f.absolute()))\n",
    "    with open(\"tmp.sh\", \"w\") as f:\n",
    "        f.write(new_script)\n",
    "\n",
    "    !sbatch tmp.sh\n",
    "!rm tmp.sh"
   ]
  },
  {
   "cell_type": "code",
   "execution_count": null,
   "id": "ae2165ed-9609-441c-954b-290c277d5d9e",
   "metadata": {},
   "outputs": [],
   "source": []
  }
 ],
 "metadata": {
  "kernelspec": {
   "display_name": "Ontogeny",
   "language": "python",
   "name": "aging"
  },
  "language_info": {
   "codemirror_mode": {
    "name": "ipython",
    "version": 3
   },
   "file_extension": ".py",
   "mimetype": "text/x-python",
   "name": "python",
   "nbconvert_exporter": "python",
   "pygments_lexer": "ipython3",
   "version": "3.10.10"
  },
  "widgets": {
   "application/vnd.jupyter.widget-state+json": {
    "state": {
     "3681374f311445869eb17a16acfac866": {
      "model_module": "@jupyter-widgets/controls",
      "model_module_version": "2.0.0",
      "model_name": "HBoxModel",
      "state": {
       "children": [
        "IPY_MODEL_46cff4a5a7004d018babe28543edccfb",
        "IPY_MODEL_ddbe6b2de43f412d9b59f8b6e3d9edca",
        "IPY_MODEL_ac305014040945408c904db63c021228"
       ],
       "layout": "IPY_MODEL_5b8ec27363f64c0886896940b1c5dedf"
      }
     },
     "46cff4a5a7004d018babe28543edccfb": {
      "model_module": "@jupyter-widgets/controls",
      "model_module_version": "2.0.0",
      "model_name": "HTMLModel",
      "state": {
       "layout": "IPY_MODEL_faf3551d5e1549a697f0d1f3e45a7e2f",
       "style": "IPY_MODEL_ad985c4ccbc5439ca7065842ed684526"
      }
     },
     "5b8ec27363f64c0886896940b1c5dedf": {
      "model_module": "@jupyter-widgets/base",
      "model_module_version": "2.0.0",
      "model_name": "LayoutModel",
      "state": {}
     },
     "6e23b5d5f26d42749e48101fde89e2d0": {
      "model_module": "@jupyter-widgets/base",
      "model_module_version": "2.0.0",
      "model_name": "LayoutModel",
      "state": {
       "width": "20px"
      }
     },
     "8242d78194a44292b365549df54220f4": {
      "model_module": "@jupyter-widgets/controls",
      "model_module_version": "2.0.0",
      "model_name": "HTMLStyleModel",
      "state": {
       "description_width": "",
       "font_size": null,
       "text_color": null
      }
     },
     "ac305014040945408c904db63c021228": {
      "model_module": "@jupyter-widgets/controls",
      "model_module_version": "2.0.0",
      "model_name": "HTMLModel",
      "state": {
       "layout": "IPY_MODEL_c2577a19862640b9a364059f56d5af7d",
       "style": "IPY_MODEL_8242d78194a44292b365549df54220f4",
       "value": " 56/? [05:28&lt;00:00,  3.93s/it]"
      }
     },
     "ad985c4ccbc5439ca7065842ed684526": {
      "model_module": "@jupyter-widgets/controls",
      "model_module_version": "2.0.0",
      "model_name": "HTMLStyleModel",
      "state": {
       "description_width": "",
       "font_size": null,
       "text_color": null
      }
     },
     "c2577a19862640b9a364059f56d5af7d": {
      "model_module": "@jupyter-widgets/base",
      "model_module_version": "2.0.0",
      "model_name": "LayoutModel",
      "state": {}
     },
     "cf934d6adbff43959769f9bef083ff2f": {
      "model_module": "@jupyter-widgets/controls",
      "model_module_version": "2.0.0",
      "model_name": "ProgressStyleModel",
      "state": {
       "description_width": ""
      }
     },
     "ddbe6b2de43f412d9b59f8b6e3d9edca": {
      "model_module": "@jupyter-widgets/controls",
      "model_module_version": "2.0.0",
      "model_name": "FloatProgressModel",
      "state": {
       "bar_style": "info",
       "layout": "IPY_MODEL_6e23b5d5f26d42749e48101fde89e2d0",
       "max": 1,
       "style": "IPY_MODEL_cf934d6adbff43959769f9bef083ff2f",
       "value": 1
      }
     },
     "faf3551d5e1549a697f0d1f3e45a7e2f": {
      "model_module": "@jupyter-widgets/base",
      "model_module_version": "2.0.0",
      "model_name": "LayoutModel",
      "state": {}
     }
    },
    "version_major": 2,
    "version_minor": 0
   }
  }
 },
 "nbformat": 4,
 "nbformat_minor": 5
}
