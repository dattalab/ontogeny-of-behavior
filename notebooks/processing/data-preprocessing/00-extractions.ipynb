{
 "cells": [
  {
   "cell_type": "markdown",
   "id": "6ddd0b1d-0b87-4f29-aa87-1a1081d88294",
   "metadata": {},
   "source": [
    "# Create SLURM scripts to extract new depth recordings using latest `moseq2-app`"
   ]
  },
  {
   "cell_type": "code",
   "execution_count": 1,
   "id": "33e9713d-5431-4bef-a585-3481d6508229",
   "metadata": {
    "tags": []
   },
   "outputs": [],
   "source": [
    "import os\n",
    "import h5py\n",
    "from toolz import concat, compose, curry\n",
    "from ruamel.yaml import YAML\n",
    "from tqdm.auto import tqdm\n",
    "from aging.organization.paths import FOLDERS"
   ]
  },
  {
   "cell_type": "code",
   "execution_count": 2,
   "id": "1a745bd2-bcee-423b-86d1-7bcd4b294955",
   "metadata": {
    "tags": []
   },
   "outputs": [],
   "source": [
    "user = os.environ['USER']"
   ]
  },
  {
   "cell_type": "code",
   "execution_count": 3,
   "id": "21e5d4e7-07e1-4a5e-84cd-516fabd8e97c",
   "metadata": {
    "tags": []
   },
   "outputs": [],
   "source": [
    "script = '''#!/bin/env bash\n",
    "#SBATCH -c 1\n",
    "#SBATCH -n 1\n",
    "#SBATCH --mem=10G\n",
    "#SBATCH -p short\n",
    "#SBATCH -t 00:40:00\n",
    "#SBATCH --output=/n/scratch3/users/{user_pth}/tmp/ontogeny/depth-extraction-%j.out\n",
    "\n",
    "source $HOME/.bashrc\n",
    "conda activate moseq2-app\n",
    "moseq2-extract extract \"{file_path}\" --config-file \"/n/groups/datta/win/longtogeny/data/extractions/config.yaml\"\n",
    "'''"
   ]
  },
  {
   "cell_type": "code",
   "execution_count": 4,
   "id": "e24478d9-ca29-40e8-91e6-70fca76f8d3e",
   "metadata": {
    "tags": []
   },
   "outputs": [],
   "source": [
    "def not_extracted(file):\n",
    "    if file.name.endswith('filepart'):\n",
    "        return False\n",
    "\n",
    "    if extracted := (file.parent / \"proc\" / \"results_00.h5\").exists():\n",
    "        try:\n",
    "            with h5py.File(file.parent / \"proc\" / \"results_00.h5\", \"r\") as h5f:\n",
    "                list(h5f)\n",
    "        except Exception as e:\n",
    "            print(e)\n",
    "            return True\n",
    "        with open(file.parent / \"proc\" / \"results_00.yaml\", \"r\") as conf_f:\n",
    "            yaml = YAML(typ='safe', pure=True)\n",
    "            config = yaml.load(conf_f)\n",
    "        extracted = config[\"complete\"]\n",
    "    # TODO: make sure extraction is newer than 5/30/2023\n",
    "    return not extracted\n",
    "\n",
    "\n",
    "def no_depth_doubles(file):\n",
    "    '''If there are depth files with two extensions (avi and dat),\n",
    "    then we want to skip the avi file.'''\n",
    "    return not (file.name.endswith(\"avi\") and file.with_suffix(\".dat\").exists())\n",
    "\n",
    "\n",
    "def multi_filter(*filters, seq):\n",
    "    return compose(*(curry(filter)(f) for f in filters))(seq)"
   ]
  },
  {
   "cell_type": "code",
   "execution_count": 5,
   "id": "240806f9-05cd-4fea-8a1d-cfc5e9064fcc",
   "metadata": {
    "tags": []
   },
   "outputs": [],
   "source": [
    "# first round, re-extract everything using my moseq config file\n",
    "# second round, only extract non-extracted data or incomplete extractions\n",
    "# files = list(concat(f.glob('**/depth.*') for f in folders))"
   ]
  },
  {
   "cell_type": "code",
   "execution_count": 6,
   "id": "158e990b-bc5d-4f07-ada5-5332091aff82",
   "metadata": {
    "tags": []
   },
   "outputs": [
    {
     "name": "stdout",
     "output_type": "stream",
     "text": [
      "448\n"
     ]
    }
   ],
   "source": [
    "files = multi_filter(not_extracted, no_depth_doubles, seq=concat(f.glob('**/depth.*') for f in FOLDERS))\n",
    "\n",
    "for f in tqdm(files):\n",
    "    print('extracting:', f)\n",
    "    new_script = script.format(user_pth=f\"{user[0]}/{user}\", file_path=str(f.absolute()))\n",
    "    with open(\"tmp.sh\", \"w\") as f:\n",
    "        f.write(new_script)\n",
    "\n",
    "    !sbatch tmp.sh\n",
    "!rm tmp.sh"
   ]
  },
  {
   "cell_type": "code",
   "execution_count": null,
   "id": "ae2165ed-9609-441c-954b-290c277d5d9e",
   "metadata": {},
   "outputs": [],
   "source": []
  }
 ],
 "metadata": {
  "kernelspec": {
   "display_name": "Python 3 (ipykernel)",
   "language": "python",
   "name": "python3"
  },
  "language_info": {
   "codemirror_mode": {
    "name": "ipython",
    "version": 3
   },
   "file_extension": ".py",
   "mimetype": "text/x-python",
   "name": "python",
   "nbconvert_exporter": "python",
   "pygments_lexer": "ipython3",
   "version": "3.10.10"
  },
  "widgets": {
   "application/vnd.jupyter.widget-state+json": {
    "state": {},
    "version_major": 2,
    "version_minor": 0
   }
  }
 },
 "nbformat": 4,
 "nbformat_minor": 5
}
