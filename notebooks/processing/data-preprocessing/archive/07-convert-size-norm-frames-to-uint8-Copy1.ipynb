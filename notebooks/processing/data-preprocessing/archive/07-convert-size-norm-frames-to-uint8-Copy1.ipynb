{
 "cells": [
  {
   "cell_type": "code",
   "execution_count": 2,
   "id": "7af34c96-68e4-4b7b-94de-793e2fa393ba",
   "metadata": {},
   "outputs": [],
   "source": [
    "import h5py\n",
    "import numpy as np\n",
    "from tqdm.auto import tqdm\n",
    "from aging.organization.paths import get_experiment_grouped_files"
   ]
  },
  {
   "cell_type": "code",
   "execution_count": 3,
   "id": "2b4340ad-dd1e-4e54-9605-315490abc1a4",
   "metadata": {},
   "outputs": [],
   "source": [
    "files = get_experiment_grouped_files()"
   ]
  },
  {
   "cell_type": "code",
   "execution_count": null,
   "id": "4bc32ed6-c2c8-41b3-a867-ca6295f1ea9f",
   "metadata": {},
   "outputs": [
    {
     "data": {
      "application/vnd.jupyter.widget-view+json": {
       "model_id": "7b4cfbb240bd4f3f9a32b6a6b9cf243c",
       "version_major": 2,
       "version_minor": 0
      },
      "text/plain": [
       "0it [00:00, ?it/s]"
      ]
     },
     "metadata": {},
     "output_type": "display_data"
    },
    {
     "data": {
      "application/vnd.jupyter.widget-view+json": {
       "model_id": "2bcab62fdb164677b81ed778a61c13ce",
       "version_major": 2,
       "version_minor": 0
      },
      "text/plain": [
       "0it [00:00, ?it/s]"
      ]
     },
     "metadata": {},
     "output_type": "display_data"
    },
    {
     "data": {
      "application/vnd.jupyter.widget-view+json": {
       "model_id": "f08d8bb7df424146bd1a6b449fc56265",
       "version_major": 2,
       "version_minor": 0
      },
      "text/plain": [
       "0it [00:00, ?it/s]"
      ]
     },
     "metadata": {},
     "output_type": "display_data"
    },
    {
     "data": {
      "application/vnd.jupyter.widget-view+json": {
       "model_id": "f36ae97b7dff456ea58135fd4aad6a1c",
       "version_major": 2,
       "version_minor": 0
      },
      "text/plain": [
       "0it [00:00, ?it/s]"
      ]
     },
     "metadata": {},
     "output_type": "display_data"
    },
    {
     "data": {
      "application/vnd.jupyter.widget-view+json": {
       "model_id": "3b17a3e5c9a74c8f88d3fd3d0eec98ad",
       "version_major": 2,
       "version_minor": 0
      },
      "text/plain": [
       "0it [00:00, ?it/s]"
      ]
     },
     "metadata": {},
     "output_type": "display_data"
    }
   ],
   "source": [
    "ignore_keys = ['win_size_norm_frames_v8']\n",
    "for experiment, _files in reversed(files.items()):\n",
    "    for f in tqdm(reversed(_files)):\n",
    "        try:\n",
    "            with h5py.File(f, 'a') as h5f:\n",
    "                keys = list(h5f)\n",
    "                keys = [k for k in list(h5f) if 'win_size_norm' in k and k not in ignore_keys]\n",
    "                keys = [k for k in keys if h5f[k].dtype != 'uint8']\n",
    "                for k in keys:\n",
    "                    frames = np.round(h5f[k][()]).astype('uint8')\n",
    "                    del h5f[k]\n",
    "                    h5f.create_dataset(k, data=frames, compression=4)\n",
    "        except OSError:\n",
    "            continue"
   ]
  },
  {
   "cell_type": "code",
   "execution_count": null,
   "id": "38532964-1e48-42cb-9d80-abf843b551e5",
   "metadata": {},
   "outputs": [],
   "source": []
  }
 ],
 "metadata": {
  "kernelspec": {
   "display_name": "Ontogeny",
   "language": "python",
   "name": "aging"
  },
  "language_info": {
   "codemirror_mode": {
    "name": "ipython",
    "version": 3
   },
   "file_extension": ".py",
   "mimetype": "text/x-python",
   "name": "python",
   "nbconvert_exporter": "python",
   "pygments_lexer": "ipython3",
   "version": "3.10.10"
  },
  "widgets": {
   "application/vnd.jupyter.widget-state+json": {
    "state": {
     "036fccb1e2a94d468f682d2296d044fb": {
      "model_module": "@jupyter-widgets/base",
      "model_module_version": "2.0.0",
      "model_name": "LayoutModel",
      "state": {}
     },
     "11a6fd4749eb4ba99c48be274b7ef3df": {
      "model_module": "@jupyter-widgets/controls",
      "model_module_version": "2.0.0",
      "model_name": "HTMLModel",
      "state": {
       "layout": "IPY_MODEL_6cc6224dad1f4592839a13f37cb32402",
       "style": "IPY_MODEL_916be33d78c44b8a99720af9af0dc22e",
       "value": " 1000/? [01:34&lt;00:00, 20.41it/s]"
      }
     },
     "15cb14c28d864d8280343f473845e67a": {
      "model_module": "@jupyter-widgets/controls",
      "model_module_version": "2.0.0",
      "model_name": "HTMLModel",
      "state": {
       "layout": "IPY_MODEL_a6060cf54c784dc68d8e85a57d691e5f",
       "style": "IPY_MODEL_4ca9fc5bffd94b278d837beeb6cb7fc2",
       "value": " 271/? [00:19&lt;00:00,  1.74it/s]"
      }
     },
     "1a79f55e86dd4e248e8f1c78beaac84a": {
      "model_module": "@jupyter-widgets/base",
      "model_module_version": "2.0.0",
      "model_name": "LayoutModel",
      "state": {}
     },
     "1ec4373c955249578d211fb253a8e4be": {
      "model_module": "@jupyter-widgets/controls",
      "model_module_version": "2.0.0",
      "model_name": "HTMLStyleModel",
      "state": {
       "description_width": "",
       "font_size": null,
       "text_color": null
      }
     },
     "227643cf04784c798874be3020f9ec7d": {
      "model_module": "@jupyter-widgets/base",
      "model_module_version": "2.0.0",
      "model_name": "LayoutModel",
      "state": {}
     },
     "23865bbe1673433da10cbb66b821941d": {
      "model_module": "@jupyter-widgets/controls",
      "model_module_version": "2.0.0",
      "model_name": "HTMLModel",
      "state": {
       "layout": "IPY_MODEL_8613b1c7a2884100a1e4d82353d24262",
       "style": "IPY_MODEL_97fb5252b1e444ecbce8913e4a59dd30"
      }
     },
     "23eff3208ce945bb98fecff70a3c8765": {
      "model_module": "@jupyter-widgets/controls",
      "model_module_version": "2.0.0",
      "model_name": "HTMLStyleModel",
      "state": {
       "description_width": "",
       "font_size": null,
       "text_color": null
      }
     },
     "2bcab62fdb164677b81ed778a61c13ce": {
      "model_module": "@jupyter-widgets/controls",
      "model_module_version": "2.0.0",
      "model_name": "HBoxModel",
      "state": {
       "children": [
        "IPY_MODEL_69851dd062fe45ce9a2147084676306c",
        "IPY_MODEL_e02b27a65e37442d98af06a97521383d",
        "IPY_MODEL_15cb14c28d864d8280343f473845e67a"
       ],
       "layout": "IPY_MODEL_1a79f55e86dd4e248e8f1c78beaac84a"
      }
     },
     "2ee4060c541f4e37b86b3b49e36a6feb": {
      "model_module": "@jupyter-widgets/base",
      "model_module_version": "2.0.0",
      "model_name": "LayoutModel",
      "state": {
       "width": "20px"
      }
     },
     "2f6452171b4c4d04b4539f1510e42910": {
      "model_module": "@jupyter-widgets/controls",
      "model_module_version": "2.0.0",
      "model_name": "FloatProgressModel",
      "state": {
       "bar_style": "info",
       "layout": "IPY_MODEL_6298e33fccdf4fc998432ba9ad5ea5cd",
       "max": 1,
       "style": "IPY_MODEL_83d341a2899541e4a1d5370451b3fa09"
      }
     },
     "3b17a3e5c9a74c8f88d3fd3d0eec98ad": {
      "model_module": "@jupyter-widgets/controls",
      "model_module_version": "2.0.0",
      "model_name": "HBoxModel",
      "state": {
       "children": [
        "IPY_MODEL_23865bbe1673433da10cbb66b821941d",
        "IPY_MODEL_2f6452171b4c4d04b4539f1510e42910",
        "IPY_MODEL_46647607a53c43a99ea883166708a87f"
       ],
       "layout": "IPY_MODEL_227643cf04784c798874be3020f9ec7d"
      }
     },
     "3c2f2993752c405b8fb45f97b98b94ca": {
      "model_module": "@jupyter-widgets/controls",
      "model_module_version": "2.0.0",
      "model_name": "HTMLStyleModel",
      "state": {
       "description_width": "",
       "font_size": null,
       "text_color": null
      }
     },
     "46647607a53c43a99ea883166708a87f": {
      "model_module": "@jupyter-widgets/controls",
      "model_module_version": "2.0.0",
      "model_name": "HTMLModel",
      "state": {
       "layout": "IPY_MODEL_b492bde6ef1248579e6f8623171b4f3f",
       "style": "IPY_MODEL_76d7eac75be5482088cc46a64880d538",
       "value": " 0/? [00:00&lt;?, ?it/s]"
      }
     },
     "4ca9fc5bffd94b278d837beeb6cb7fc2": {
      "model_module": "@jupyter-widgets/controls",
      "model_module_version": "2.0.0",
      "model_name": "HTMLStyleModel",
      "state": {
       "description_width": "",
       "font_size": null,
       "text_color": null
      }
     },
     "582cf49bb7b44f1a9a6b69e276aaf931": {
      "model_module": "@jupyter-widgets/controls",
      "model_module_version": "2.0.0",
      "model_name": "HTMLModel",
      "state": {
       "layout": "IPY_MODEL_a96ec62ef1724451b639e45e9a664645",
       "style": "IPY_MODEL_a846aaedc49a4e1e84accf6cbfd24802",
       "value": " 48/? [00:01&lt;00:00, 25.42it/s]"
      }
     },
     "5d71980e6f7f4fa7899ee6f2a97afb40": {
      "model_module": "@jupyter-widgets/base",
      "model_module_version": "2.0.0",
      "model_name": "LayoutModel",
      "state": {}
     },
     "6298e33fccdf4fc998432ba9ad5ea5cd": {
      "model_module": "@jupyter-widgets/base",
      "model_module_version": "2.0.0",
      "model_name": "LayoutModel",
      "state": {
       "width": "20px"
      }
     },
     "6303b8e3318b4c0dab3faabb682bd841": {
      "model_module": "@jupyter-widgets/controls",
      "model_module_version": "2.0.0",
      "model_name": "ProgressStyleModel",
      "state": {
       "description_width": ""
      }
     },
     "69851dd062fe45ce9a2147084676306c": {
      "model_module": "@jupyter-widgets/controls",
      "model_module_version": "2.0.0",
      "model_name": "HTMLModel",
      "state": {
       "layout": "IPY_MODEL_c2ee2de1ac09405e8432bc9e1c2f76fc",
       "style": "IPY_MODEL_3c2f2993752c405b8fb45f97b98b94ca"
      }
     },
     "6cbba26356844ee7bb332df0d9823b58": {
      "model_module": "@jupyter-widgets/controls",
      "model_module_version": "2.0.0",
      "model_name": "FloatProgressModel",
      "state": {
       "bar_style": "success",
       "layout": "IPY_MODEL_8d5bfa2f30f243d291c1952c4bcacb49",
       "max": 1,
       "style": "IPY_MODEL_c33673d88c1d4e9fbb0b39d0b4e4fb62",
       "value": 1
      }
     },
     "6cc6224dad1f4592839a13f37cb32402": {
      "model_module": "@jupyter-widgets/base",
      "model_module_version": "2.0.0",
      "model_name": "LayoutModel",
      "state": {}
     },
     "76d7eac75be5482088cc46a64880d538": {
      "model_module": "@jupyter-widgets/controls",
      "model_module_version": "2.0.0",
      "model_name": "HTMLStyleModel",
      "state": {
       "description_width": "",
       "font_size": null,
       "text_color": null
      }
     },
     "7b4cfbb240bd4f3f9a32b6a6b9cf243c": {
      "model_module": "@jupyter-widgets/controls",
      "model_module_version": "2.0.0",
      "model_name": "HBoxModel",
      "state": {
       "children": [
        "IPY_MODEL_b4a44d2479f24cfaacb85afa8fb58418",
        "IPY_MODEL_e88ed790c8584b6287edebc9897c68cb",
        "IPY_MODEL_582cf49bb7b44f1a9a6b69e276aaf931"
       ],
       "layout": "IPY_MODEL_7fe8f710095340189409a967cb8bf64b"
      }
     },
     "7fe8f710095340189409a967cb8bf64b": {
      "model_module": "@jupyter-widgets/base",
      "model_module_version": "2.0.0",
      "model_name": "LayoutModel",
      "state": {}
     },
     "83d341a2899541e4a1d5370451b3fa09": {
      "model_module": "@jupyter-widgets/controls",
      "model_module_version": "2.0.0",
      "model_name": "ProgressStyleModel",
      "state": {
       "description_width": ""
      }
     },
     "8613b1c7a2884100a1e4d82353d24262": {
      "model_module": "@jupyter-widgets/base",
      "model_module_version": "2.0.0",
      "model_name": "LayoutModel",
      "state": {}
     },
     "8d5bfa2f30f243d291c1952c4bcacb49": {
      "model_module": "@jupyter-widgets/base",
      "model_module_version": "2.0.0",
      "model_name": "LayoutModel",
      "state": {
       "width": "20px"
      }
     },
     "91179a15ac284ae9a14003d184df4145": {
      "model_module": "@jupyter-widgets/controls",
      "model_module_version": "2.0.0",
      "model_name": "HTMLModel",
      "state": {
       "layout": "IPY_MODEL_a94e0cbb85904a67a924bb6b82706115",
       "style": "IPY_MODEL_1ec4373c955249578d211fb253a8e4be"
      }
     },
     "916be33d78c44b8a99720af9af0dc22e": {
      "model_module": "@jupyter-widgets/controls",
      "model_module_version": "2.0.0",
      "model_name": "HTMLStyleModel",
      "state": {
       "description_width": "",
       "font_size": null,
       "text_color": null
      }
     },
     "92b4076b124c464784c384749c8ecfae": {
      "model_module": "@jupyter-widgets/base",
      "model_module_version": "2.0.0",
      "model_name": "LayoutModel",
      "state": {
       "width": "20px"
      }
     },
     "9357a16aaee64bc4b40bafdd926e22e9": {
      "model_module": "@jupyter-widgets/base",
      "model_module_version": "2.0.0",
      "model_name": "LayoutModel",
      "state": {
       "width": "20px"
      }
     },
     "97fb5252b1e444ecbce8913e4a59dd30": {
      "model_module": "@jupyter-widgets/controls",
      "model_module_version": "2.0.0",
      "model_name": "HTMLStyleModel",
      "state": {
       "description_width": "",
       "font_size": null,
       "text_color": null
      }
     },
     "a6060cf54c784dc68d8e85a57d691e5f": {
      "model_module": "@jupyter-widgets/base",
      "model_module_version": "2.0.0",
      "model_name": "LayoutModel",
      "state": {}
     },
     "a65ad9abcef64f838bb0c82166fee990": {
      "model_module": "@jupyter-widgets/base",
      "model_module_version": "2.0.0",
      "model_name": "LayoutModel",
      "state": {}
     },
     "a846aaedc49a4e1e84accf6cbfd24802": {
      "model_module": "@jupyter-widgets/controls",
      "model_module_version": "2.0.0",
      "model_name": "HTMLStyleModel",
      "state": {
       "description_width": "",
       "font_size": null,
       "text_color": null
      }
     },
     "a94e0cbb85904a67a924bb6b82706115": {
      "model_module": "@jupyter-widgets/base",
      "model_module_version": "2.0.0",
      "model_name": "LayoutModel",
      "state": {}
     },
     "a96ec62ef1724451b639e45e9a664645": {
      "model_module": "@jupyter-widgets/base",
      "model_module_version": "2.0.0",
      "model_name": "LayoutModel",
      "state": {}
     },
     "aad82b1f84d74804a4bb71bbfdd4d6b2": {
      "model_module": "@jupyter-widgets/controls",
      "model_module_version": "2.0.0",
      "model_name": "HTMLModel",
      "state": {
       "layout": "IPY_MODEL_a65ad9abcef64f838bb0c82166fee990",
       "style": "IPY_MODEL_c3824e6cc29643bfa244334f74a0b012"
      }
     },
     "ab915d7f4acc4611a280323904a22169": {
      "model_module": "@jupyter-widgets/controls",
      "model_module_version": "2.0.0",
      "model_name": "HTMLModel",
      "state": {
       "layout": "IPY_MODEL_e5be4e7b7a224c13b37236d8e6d9edd2",
       "style": "IPY_MODEL_f1246d6503554f018047bfe4123a7d6a",
       "value": " 174/? [00:15&lt;00:00, 22.34it/s]"
      }
     },
     "b492bde6ef1248579e6f8623171b4f3f": {
      "model_module": "@jupyter-widgets/base",
      "model_module_version": "2.0.0",
      "model_name": "LayoutModel",
      "state": {}
     },
     "b4a44d2479f24cfaacb85afa8fb58418": {
      "model_module": "@jupyter-widgets/controls",
      "model_module_version": "2.0.0",
      "model_name": "HTMLModel",
      "state": {
       "layout": "IPY_MODEL_036fccb1e2a94d468f682d2296d044fb",
       "style": "IPY_MODEL_23eff3208ce945bb98fecff70a3c8765"
      }
     },
     "b5936083e3e64cbfb6980151795c8896": {
      "model_module": "@jupyter-widgets/controls",
      "model_module_version": "2.0.0",
      "model_name": "ProgressStyleModel",
      "state": {
       "description_width": ""
      }
     },
     "c2ee2de1ac09405e8432bc9e1c2f76fc": {
      "model_module": "@jupyter-widgets/base",
      "model_module_version": "2.0.0",
      "model_name": "LayoutModel",
      "state": {}
     },
     "c33673d88c1d4e9fbb0b39d0b4e4fb62": {
      "model_module": "@jupyter-widgets/controls",
      "model_module_version": "2.0.0",
      "model_name": "ProgressStyleModel",
      "state": {
       "description_width": ""
      }
     },
     "c3824e6cc29643bfa244334f74a0b012": {
      "model_module": "@jupyter-widgets/controls",
      "model_module_version": "2.0.0",
      "model_name": "HTMLStyleModel",
      "state": {
       "description_width": "",
       "font_size": null,
       "text_color": null
      }
     },
     "dc46983e0069415293e55027528ad21f": {
      "model_module": "@jupyter-widgets/base",
      "model_module_version": "2.0.0",
      "model_name": "LayoutModel",
      "state": {}
     },
     "e02b27a65e37442d98af06a97521383d": {
      "model_module": "@jupyter-widgets/controls",
      "model_module_version": "2.0.0",
      "model_name": "FloatProgressModel",
      "state": {
       "bar_style": "success",
       "layout": "IPY_MODEL_9357a16aaee64bc4b40bafdd926e22e9",
       "max": 1,
       "style": "IPY_MODEL_b5936083e3e64cbfb6980151795c8896",
       "value": 1
      }
     },
     "e5be4e7b7a224c13b37236d8e6d9edd2": {
      "model_module": "@jupyter-widgets/base",
      "model_module_version": "2.0.0",
      "model_name": "LayoutModel",
      "state": {}
     },
     "e88ed790c8584b6287edebc9897c68cb": {
      "model_module": "@jupyter-widgets/controls",
      "model_module_version": "2.0.0",
      "model_name": "FloatProgressModel",
      "state": {
       "bar_style": "success",
       "layout": "IPY_MODEL_92b4076b124c464784c384749c8ecfae",
       "max": 1,
       "style": "IPY_MODEL_f7a19a3b6db5485f8ed0aa911273a2b6",
       "value": 1
      }
     },
     "eb10e19db4aa4b498b206b889f5e9a07": {
      "model_module": "@jupyter-widgets/controls",
      "model_module_version": "2.0.0",
      "model_name": "FloatProgressModel",
      "state": {
       "bar_style": "success",
       "layout": "IPY_MODEL_2ee4060c541f4e37b86b3b49e36a6feb",
       "max": 1,
       "style": "IPY_MODEL_6303b8e3318b4c0dab3faabb682bd841",
       "value": 1
      }
     },
     "f08d8bb7df424146bd1a6b449fc56265": {
      "model_module": "@jupyter-widgets/controls",
      "model_module_version": "2.0.0",
      "model_name": "HBoxModel",
      "state": {
       "children": [
        "IPY_MODEL_91179a15ac284ae9a14003d184df4145",
        "IPY_MODEL_6cbba26356844ee7bb332df0d9823b58",
        "IPY_MODEL_ab915d7f4acc4611a280323904a22169"
       ],
       "layout": "IPY_MODEL_dc46983e0069415293e55027528ad21f"
      }
     },
     "f1246d6503554f018047bfe4123a7d6a": {
      "model_module": "@jupyter-widgets/controls",
      "model_module_version": "2.0.0",
      "model_name": "HTMLStyleModel",
      "state": {
       "description_width": "",
       "font_size": null,
       "text_color": null
      }
     },
     "f36ae97b7dff456ea58135fd4aad6a1c": {
      "model_module": "@jupyter-widgets/controls",
      "model_module_version": "2.0.0",
      "model_name": "HBoxModel",
      "state": {
       "children": [
        "IPY_MODEL_aad82b1f84d74804a4bb71bbfdd4d6b2",
        "IPY_MODEL_eb10e19db4aa4b498b206b889f5e9a07",
        "IPY_MODEL_11a6fd4749eb4ba99c48be274b7ef3df"
       ],
       "layout": "IPY_MODEL_5d71980e6f7f4fa7899ee6f2a97afb40"
      }
     },
     "f7a19a3b6db5485f8ed0aa911273a2b6": {
      "model_module": "@jupyter-widgets/controls",
      "model_module_version": "2.0.0",
      "model_name": "ProgressStyleModel",
      "state": {
       "description_width": ""
      }
     }
    },
    "version_major": 2,
    "version_minor": 0
   }
  }
 },
 "nbformat": 4,
 "nbformat_minor": 5
}
