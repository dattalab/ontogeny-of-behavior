{
 "cells": [
  {
   "cell_type": "code",
   "execution_count": 1,
   "id": "62d27399-172d-41ad-b77b-e77de159c58d",
   "metadata": {
    "tags": []
   },
   "outputs": [],
   "source": [
    "import os\n",
    "import cv2\n",
    "import h5py\n",
    "import numpy as np\n",
    "from tqdm.auto import tqdm\n",
    "from multiprocess import Pool\n",
    "from toolz import concat\n",
    "from aging.organization.paths import FOLDERS"
   ]
  },
  {
   "cell_type": "code",
   "execution_count": 2,
   "id": "66443327-f043-4650-9241-bfa38e6967d4",
   "metadata": {
    "tags": []
   },
   "outputs": [],
   "source": [
    "n_cpus = int(os.environ.get(\"SLURM_CPUS_PER_TASK\", 1))"
   ]
  },
  {
   "cell_type": "code",
   "execution_count": 4,
   "id": "0af0eb8f-55a9-4700-93ba-e4af17b7e3b7",
   "metadata": {
    "tags": []
   },
   "outputs": [],
   "source": [
    "target_depth = 670  # mm - ~26.3in"
   ]
  },
  {
   "cell_type": "code",
   "execution_count": 5,
   "id": "203e1bcc-901f-4cee-babe-3f304da78431",
   "metadata": {
    "tags": []
   },
   "outputs": [],
   "source": [
    "def scale_mouse(scale, input_im):\n",
    "    '''scale input to match target'''\n",
    "    if isinstance(scale, np.ndarray):\n",
    "        scale = scale[0]\n",
    "    warp_mat = cv2.getRotationMatrix2D((input_im.shape[0] // 2, input_im.shape[1] // 2), 0, scale)\n",
    "    out_im = cv2.warpAffine(input_im, warp_mat, input_im.shape, flags=cv2.INTER_LINEAR)\n",
    "    return out_im"
   ]
  },
  {
   "cell_type": "code",
   "execution_count": 7,
   "id": "403df5c6-e32e-4124-815b-5aec0709814f",
   "metadata": {
    "tags": []
   },
   "outputs": [],
   "source": [
    "depth_files = sorted(concat(f.glob('**/results_00.h5') for f in FOLDERS))"
   ]
  },
  {
   "cell_type": "code",
   "execution_count": 12,
   "id": "1e01effd-e663-4ff0-8bf6-7304e2467d71",
   "metadata": {
    "tags": []
   },
   "outputs": [],
   "source": [
    "def not_rescaled(file):\n",
    "    try:\n",
    "        with h5py.File(file, 'r') as h5f:\n",
    "            return 'rescaled_frames' not in h5f\n",
    "    except (BlockingIOError, OSError):\n",
    "        return False"
   ]
  },
  {
   "cell_type": "code",
   "execution_count": 9,
   "id": "49114ea8-3f8f-426f-aaa5-cab0e9accc20",
   "metadata": {
    "tags": []
   },
   "outputs": [],
   "source": [
    "def rescale(file):\n",
    "    with h5py.File(file, 'a') as h5f:\n",
    "        true_depth = h5f['metadata/extraction/true_depth'][()]\n",
    "        frames = h5f['frames'][()]\n",
    "        factor = true_depth / target_depth\n",
    "        # factor = depth_pred(true_depth, target_depth)\n",
    "        # kornia is 2.5x slower than this\n",
    "        scaled_frames = np.array([scale_mouse(factor, frame) for frame in frames.astype('float32')])\n",
    "        h5f.create_dataset('rescaled_frames', data=scaled_frames.astype('uint8'), compression='gzip')\n",
    "    return True"
   ]
  },
  {
   "cell_type": "code",
   "execution_count": 10,
   "id": "267f84b6-ba0e-42a2-bd2f-de412145e244",
   "metadata": {
    "tags": []
   },
   "outputs": [],
   "source": [
    "# for file in tqdm(depth_files):\n",
    "#     with h5py.File(file, 'a') as h5f:\n",
    "#         if 'rescaled_frames' in h5f:\n",
    "#             del h5f['rescaled_frames']"
   ]
  },
  {
   "cell_type": "code",
   "execution_count": 13,
   "id": "d86f5237-8de2-4ea7-830e-588037075b43",
   "metadata": {
    "tags": []
   },
   "outputs": [
    {
     "data": {
      "application/vnd.jupyter.widget-view+json": {
       "model_id": "15a7dff3dd30406490593327806b6ace",
       "version_major": 2,
       "version_minor": 0
      },
      "text/plain": [
       "  0%|          | 0/174 [00:00<?, ?it/s]"
      ]
     },
     "metadata": {},
     "output_type": "display_data"
    }
   ],
   "source": [
    "pool = Pool(n_cpus)\n",
    "for i, file in enumerate(\n",
    "    tqdm(\n",
    "        pool.imap_unordered(rescale, filter(not_rescaled, depth_files)),\n",
    "        total=len(depth_files),\n",
    "    )\n",
    "):\n",
    "    continue"
   ]
  },
  {
   "cell_type": "code",
   "execution_count": null,
   "id": "1b50e113-8a7b-4a84-b1be-dd0edba0a30a",
   "metadata": {},
   "outputs": [],
   "source": []
  }
 ],
 "metadata": {
  "kernelspec": {
   "display_name": "Ontogeny",
   "language": "python",
   "name": "aging"
  },
  "language_info": {
   "codemirror_mode": {
    "name": "ipython",
    "version": 3
   },
   "file_extension": ".py",
   "mimetype": "text/x-python",
   "name": "python",
   "nbconvert_exporter": "python",
   "pygments_lexer": "ipython3",
   "version": "3.10.10"
  },
  "widgets": {
   "application/vnd.jupyter.widget-state+json": {
    "state": {
     "15a7dff3dd30406490593327806b6ace": {
      "model_module": "@jupyter-widgets/controls",
      "model_module_version": "2.0.0",
      "model_name": "HBoxModel",
      "state": {
       "children": [
        "IPY_MODEL_c9d959d277ab4e998a34fa02425cdc93",
        "IPY_MODEL_d722cfbdc9784f7f9096df75f69cd7d9",
        "IPY_MODEL_d01e9ccc8025496b9d659d473eae6dcd"
       ],
       "layout": "IPY_MODEL_c549b1befc404b578f8f4943079907f6"
      }
     },
     "3738b6b4996c4ca480a6c59c6c0d2ca5": {
      "model_module": "@jupyter-widgets/controls",
      "model_module_version": "2.0.0",
      "model_name": "HTMLModel",
      "state": {
       "layout": "IPY_MODEL_e75150b6757449e7abd9d5aa0456e4b9",
       "style": "IPY_MODEL_6ac145c4691d4bc39eef9727c26e7e46",
       "value": " 164/174 [22:19&lt;01:05,  6.55s/it]"
      }
     },
     "40a313ba430241a88820a3be97fbabe2": {
      "model_module": "@jupyter-widgets/base",
      "model_module_version": "2.0.0",
      "model_name": "LayoutModel",
      "state": {}
     },
     "4ef622e908114700a801c1db9749e50a": {
      "model_module": "@jupyter-widgets/base",
      "model_module_version": "2.0.0",
      "model_name": "LayoutModel",
      "state": {}
     },
     "5636a5ec48cd494292d035441345f13f": {
      "model_module": "@jupyter-widgets/controls",
      "model_module_version": "2.0.0",
      "model_name": "HTMLStyleModel",
      "state": {
       "description_width": "",
       "font_size": null,
       "text_color": null
      }
     },
     "5b27835708494ab7afa8e121a127a4a1": {
      "model_module": "@jupyter-widgets/controls",
      "model_module_version": "2.0.0",
      "model_name": "ProgressStyleModel",
      "state": {
       "description_width": ""
      }
     },
     "65e8638694c64e41850c55bf1778a2fb": {
      "model_module": "@jupyter-widgets/base",
      "model_module_version": "2.0.0",
      "model_name": "LayoutModel",
      "state": {}
     },
     "6ac145c4691d4bc39eef9727c26e7e46": {
      "model_module": "@jupyter-widgets/controls",
      "model_module_version": "2.0.0",
      "model_name": "HTMLStyleModel",
      "state": {
       "description_width": "",
       "font_size": null,
       "text_color": null
      }
     },
     "7d10af2b6fce4bae973dc0fb5e186332": {
      "model_module": "@jupyter-widgets/controls",
      "model_module_version": "2.0.0",
      "model_name": "HTMLStyleModel",
      "state": {
       "description_width": "",
       "font_size": null,
       "text_color": null
      }
     },
     "93909f56d340492486dc472a40f9983b": {
      "model_module": "@jupyter-widgets/controls",
      "model_module_version": "2.0.0",
      "model_name": "ProgressStyleModel",
      "state": {
       "description_width": ""
      }
     },
     "999deae68bb640459cab4d3978acf00a": {
      "model_module": "@jupyter-widgets/controls",
      "model_module_version": "2.0.0",
      "model_name": "FloatProgressModel",
      "state": {
       "bar_style": "danger",
       "layout": "IPY_MODEL_b4b78e40f3014a58b6f9dbe60f5878ac",
       "max": 174,
       "style": "IPY_MODEL_5b27835708494ab7afa8e121a127a4a1",
       "value": 164
      }
     },
     "a43a0566bf29480fb31a9b168b08c7cf": {
      "model_module": "@jupyter-widgets/base",
      "model_module_version": "2.0.0",
      "model_name": "LayoutModel",
      "state": {}
     },
     "b4b78e40f3014a58b6f9dbe60f5878ac": {
      "model_module": "@jupyter-widgets/base",
      "model_module_version": "2.0.0",
      "model_name": "LayoutModel",
      "state": {}
     },
     "b4bb7ed3457a4342ad34c43b87fcc149": {
      "model_module": "@jupyter-widgets/controls",
      "model_module_version": "2.0.0",
      "model_name": "HBoxModel",
      "state": {
       "children": [
        "IPY_MODEL_b847eb22390e41b59863bd564ad98399",
        "IPY_MODEL_999deae68bb640459cab4d3978acf00a",
        "IPY_MODEL_3738b6b4996c4ca480a6c59c6c0d2ca5"
       ],
       "layout": "IPY_MODEL_40a313ba430241a88820a3be97fbabe2"
      }
     },
     "b847eb22390e41b59863bd564ad98399": {
      "model_module": "@jupyter-widgets/controls",
      "model_module_version": "2.0.0",
      "model_name": "HTMLModel",
      "state": {
       "layout": "IPY_MODEL_65e8638694c64e41850c55bf1778a2fb",
       "style": "IPY_MODEL_ec016116626e424195565ddddc522e93",
       "value": " 94%"
      }
     },
     "c549b1befc404b578f8f4943079907f6": {
      "model_module": "@jupyter-widgets/base",
      "model_module_version": "2.0.0",
      "model_name": "LayoutModel",
      "state": {}
     },
     "c9d959d277ab4e998a34fa02425cdc93": {
      "model_module": "@jupyter-widgets/controls",
      "model_module_version": "2.0.0",
      "model_name": "HTMLModel",
      "state": {
       "layout": "IPY_MODEL_4ef622e908114700a801c1db9749e50a",
       "style": "IPY_MODEL_5636a5ec48cd494292d035441345f13f",
       "value": "  3%"
      }
     },
     "caccdb362ba244a5969e72391bf967ea": {
      "model_module": "@jupyter-widgets/base",
      "model_module_version": "2.0.0",
      "model_name": "LayoutModel",
      "state": {}
     },
     "d01e9ccc8025496b9d659d473eae6dcd": {
      "model_module": "@jupyter-widgets/controls",
      "model_module_version": "2.0.0",
      "model_name": "HTMLModel",
      "state": {
       "layout": "IPY_MODEL_a43a0566bf29480fb31a9b168b08c7cf",
       "style": "IPY_MODEL_7d10af2b6fce4bae973dc0fb5e186332",
       "value": " 6/174 [00:49&lt;27:21,  9.77s/it]"
      }
     },
     "d722cfbdc9784f7f9096df75f69cd7d9": {
      "model_module": "@jupyter-widgets/controls",
      "model_module_version": "2.0.0",
      "model_name": "FloatProgressModel",
      "state": {
       "bar_style": "danger",
       "layout": "IPY_MODEL_caccdb362ba244a5969e72391bf967ea",
       "max": 174,
       "style": "IPY_MODEL_93909f56d340492486dc472a40f9983b",
       "value": 6
      }
     },
     "e75150b6757449e7abd9d5aa0456e4b9": {
      "model_module": "@jupyter-widgets/base",
      "model_module_version": "2.0.0",
      "model_name": "LayoutModel",
      "state": {}
     },
     "ec016116626e424195565ddddc522e93": {
      "model_module": "@jupyter-widgets/controls",
      "model_module_version": "2.0.0",
      "model_name": "HTMLStyleModel",
      "state": {
       "description_width": "",
       "font_size": null,
       "text_color": null
      }
     }
    },
    "version_major": 2,
    "version_minor": 0
   }
  }
 },
 "nbformat": 4,
 "nbformat_minor": 5
}
