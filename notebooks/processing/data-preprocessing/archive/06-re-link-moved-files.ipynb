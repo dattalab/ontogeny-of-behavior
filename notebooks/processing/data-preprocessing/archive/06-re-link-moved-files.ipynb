{
 "cells": [
  {
   "cell_type": "markdown",
   "id": "6ef717b3-6cc2-497c-86db-3db7a6b2bdf9",
   "metadata": {},
   "source": [
    "## Some experimental files got moved to a new directory - find their symlinks and fix them"
   ]
  },
  {
   "cell_type": "code",
   "execution_count": 1,
   "id": "a7f943ab-0992-41e6-b93d-a77d75d39a40",
   "metadata": {},
   "outputs": [],
   "source": [
    "import re\n",
    "from pathlib import Path\n",
    "from toolz import concat, dissoc\n",
    "from aging.organization.paths import FOLDERS"
   ]
  },
  {
   "cell_type": "code",
   "execution_count": 2,
   "id": "0c752895-e5ba-401e-a866-6bd9ddb44f54",
   "metadata": {},
   "outputs": [],
   "source": [
    "folder = Path(\"/n/groups/datta/win/longtogeny/data/ontogeny\")"
   ]
  },
  {
   "cell_type": "code",
   "execution_count": 20,
   "id": "cf03dbde-c343-4b57-81f7-8632c8448e1b",
   "metadata": {},
   "outputs": [],
   "source": [
    "bad_h5s = sorted(f for f in folder.glob(\"**/*.h5\") if 'pca' not in f.name and not f.exists())"
   ]
  },
  {
   "cell_type": "code",
   "execution_count": 21,
   "id": "ea2728b4-16cb-4428-95ce-6a99629d914f",
   "metadata": {},
   "outputs": [
    {
     "data": {
      "text/plain": [
       "0"
      ]
     },
     "execution_count": 21,
     "metadata": {},
     "output_type": "execute_result"
    }
   ],
   "source": [
    "len(bad_h5s)"
   ]
  },
  {
   "cell_type": "code",
   "execution_count": 5,
   "id": "df4d6375-fead-4522-a9fa-60dbc2928bcf",
   "metadata": {},
   "outputs": [
    {
     "data": {
      "text/plain": [
       "[PosixPath('/n/groups/datta/win/longtogeny/data/ontogeny/version_01/all_data_pca/Ontogeny_females/session_20221007094054.h5'),\n",
       " PosixPath('/n/groups/datta/win/longtogeny/data/ontogeny/version_01/all_data_pca/Ontogeny_females/session_20221007094130.h5'),\n",
       " PosixPath('/n/groups/datta/win/longtogeny/data/ontogeny/version_01/all_data_pca/Ontogeny_females/session_20221007094148.h5'),\n",
       " PosixPath('/n/groups/datta/win/longtogeny/data/ontogeny/version_01/all_data_pca/Ontogeny_females/session_20221007100636.h5'),\n",
       " PosixPath('/n/groups/datta/win/longtogeny/data/ontogeny/version_01/all_data_pca/Ontogeny_females/session_20221007104828.h5')]"
      ]
     },
     "execution_count": 5,
     "metadata": {},
     "output_type": "execute_result"
    }
   ],
   "source": [
    "bad_h5s[:5]"
   ]
  },
  {
   "cell_type": "code",
   "execution_count": 7,
   "id": "39fe2d27-e05f-4405-b168-4230b633e5a2",
   "metadata": {},
   "outputs": [],
   "source": [
    "og_folders = sorted(concat(f.glob(\"**/*.h5\") for f in FOLDERS))"
   ]
  },
  {
   "cell_type": "code",
   "execution_count": 10,
   "id": "3f66873b-dc54-4956-8a53-cb3bab65a33e",
   "metadata": {},
   "outputs": [],
   "source": [
    "matcher = re.compile(r'session_\\d+')\n",
    "\n",
    "def get_group(match):\n",
    "    if match is None:\n",
    "        return match\n",
    "    return match.group()"
   ]
  },
  {
   "cell_type": "code",
   "execution_count": 9,
   "id": "30da69f5-c702-46aa-a903-5c90e1c5c491",
   "metadata": {},
   "outputs": [],
   "source": [
    "name_dict = dissoc({get_group(matcher.search(str(f))): f for f in og_folders}, None)"
   ]
  },
  {
   "cell_type": "code",
   "execution_count": 19,
   "id": "2ed4b12a-084a-478d-a6bf-9ffdbe4761f0",
   "metadata": {},
   "outputs": [],
   "source": [
    "for f in bad_h5s:\n",
    "    folder_name = f.stem\n",
    "    \n",
    "    f.unlink(missing_ok=True)\n",
    "    f.symlink_to(name_dict[folder_name])\n",
    "    \n",
    "    yaml = f.with_suffix('.yaml')\n",
    "    yaml.unlink(missing_ok=True)\n",
    "    yaml.symlink_to(name_dict[folder_name].with_suffix('.yaml'))"
   ]
  },
  {
   "cell_type": "code",
   "execution_count": null,
   "id": "4ad49138-d634-4aa6-91f2-ead19fa4e429",
   "metadata": {},
   "outputs": [],
   "source": []
  }
 ],
 "metadata": {
  "kernelspec": {
   "display_name": "Ontogeny",
   "language": "python",
   "name": "aging"
  },
  "language_info": {
   "codemirror_mode": {
    "name": "ipython",
    "version": 3
   },
   "file_extension": ".py",
   "mimetype": "text/x-python",
   "name": "python",
   "nbconvert_exporter": "python",
   "pygments_lexer": "ipython3",
   "version": "3.10.10"
  },
  "widgets": {
   "application/vnd.jupyter.widget-state+json": {
    "state": {},
    "version_major": 2,
    "version_minor": 0
   }
  }
 },
 "nbformat": 4,
 "nbformat_minor": 5
}
