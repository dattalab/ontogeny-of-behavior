{
 "cells": [
  {
   "cell_type": "code",
   "execution_count": 1,
   "metadata": {
    "tags": []
   },
   "outputs": [],
   "source": [
    "import h5py\n",
    "from tqdm.auto import tqdm\n",
    "from pathlib import Path\n",
    "from toolz import concat"
   ]
  },
  {
   "cell_type": "code",
   "execution_count": 2,
   "metadata": {},
   "outputs": [],
   "source": [
    "folders = [\n",
    "    '/n/groups/datta/Dana/Ontogeny/raw_data/Ontogeny_females',\n",
    "    '/n/groups/datta/Dana/Ontogeny/raw_data/Ontogeny_males',\n",
    "    '/n/groups/datta/Dana/Ontogeny/raw_data/longtogeny_pre_unet/Females',\n",
    "    '/n/groups/datta/Dana/Ontogeny/raw_data/longtogeny_pre_unet/Males',\n",
    "    '/n/groups/datta/min/dominance_v1',\n",
    "    '/n/groups/datta/min/community_v1',\n",
    "    '/n/groups/datta/min/wheel_062023',\n",
    "    '/n/groups/datta/min/castrated_v1',\n",
    "]\n",
    "folders = [Path(f) for f in folders]"
   ]
  },
  {
   "cell_type": "code",
   "execution_count": 3,
   "metadata": {},
   "outputs": [],
   "source": [
    "script = '''#!/bin/env bash\n",
    "#SBATCH -c 1\n",
    "#SBATCH -n 1\n",
    "#SBATCH --mem=6G\n",
    "#SBATCH -p short\n",
    "#SBATCH -t 00:25:00\n",
    "#SBATCH --output=/n/scratch3/users/w/wg41/tmp/ontogeny/rockwell-size-norm-%j.out\n",
    "\n",
    "source $HOME/.bashrc\n",
    "conda activate rockwell-unet\n",
    "$HOME/code/ontogeny/scripts/02.1-apply-rockwells-unet.py \"{file_path}\"\n",
    "'''"
   ]
  },
  {
   "cell_type": "code",
   "execution_count": 4,
   "metadata": {},
   "outputs": [],
   "source": [
    "def not_encoded(file):\n",
    "    try:\n",
    "        with h5py.File(file, 'r') as h5f:\n",
    "            return 'size_normalized_frames' not in h5f\n",
    "    except OSError:\n",
    "        return False"
   ]
  },
  {
   "cell_type": "code",
   "execution_count": 5,
   "metadata": {
    "tags": []
   },
   "outputs": [],
   "source": [
    "files = sorted(filter(not_encoded, concat(f.glob('**/results_00.h5') for f in folders)))"
   ]
  },
  {
   "cell_type": "code",
   "execution_count": 6,
   "metadata": {
    "tags": []
   },
   "outputs": [
    {
     "data": {
      "text/plain": [
       "19"
      ]
     },
     "execution_count": 6,
     "metadata": {},
     "output_type": "execute_result"
    }
   ],
   "source": [
    "len(files)"
   ]
  },
  {
   "cell_type": "code",
   "execution_count": 7,
   "metadata": {
    "tags": []
   },
   "outputs": [
    {
     "data": {
      "application/vnd.jupyter.widget-view+json": {
       "model_id": "f78e90108c0e4ed79334f39a3f306805",
       "version_major": 2,
       "version_minor": 0
      },
      "text/plain": [
       "  0%|          | 0/19 [00:00<?, ?it/s]"
      ]
     },
     "metadata": {},
     "output_type": "display_data"
    },
    {
     "name": "stdout",
     "output_type": "stream",
     "text": [
      "Submitted batch job 10677547\n",
      "Submitted batch job 10677548\n",
      "Submitted batch job 10677549\n",
      "Submitted batch job 10677550\n",
      "Submitted batch job 10677551\n",
      "Submitted batch job 10677552\n",
      "Submitted batch job 10677553\n",
      "Submitted batch job 10677554\n",
      "Submitted batch job 10677555\n",
      "Submitted batch job 10677556\n",
      "Submitted batch job 10677557\n",
      "Submitted batch job 10677558\n",
      "Submitted batch job 10677560\n",
      "Submitted batch job 10677561\n",
      "Submitted batch job 10677563\n",
      "Submitted batch job 10677564\n",
      "Submitted batch job 10677567\n",
      "Submitted batch job 10677568\n",
      "Submitted batch job 10677569\n"
     ]
    }
   ],
   "source": [
    "for h5 in tqdm(files):\n",
    "    new_script = script.format(file_path=str(h5.absolute()))\n",
    "    with open(\"tmp.sh\", \"w\") as f:\n",
    "        f.write(new_script)\n",
    "\n",
    "    !sbatch tmp.sh\n",
    "\n",
    "!rm tmp.sh"
   ]
  },
  {
   "cell_type": "code",
   "execution_count": null,
   "metadata": {},
   "outputs": [],
   "source": []
  }
 ],
 "metadata": {
  "kernelspec": {
   "display_name": "Rockwell UNET",
   "language": "python",
   "name": "rockwell-unet"
  },
  "language_info": {
   "codemirror_mode": {
    "name": "ipython",
    "version": 3
   },
   "file_extension": ".py",
   "mimetype": "text/x-python",
   "name": "python",
   "nbconvert_exporter": "python",
   "pygments_lexer": "ipython3",
   "version": "3.9.16"
  },
  "widgets": {
   "application/vnd.jupyter.widget-state+json": {
    "state": {},
    "version_major": 2,
    "version_minor": 0
   }
  }
 },
 "nbformat": 4,
 "nbformat_minor": 4
}
