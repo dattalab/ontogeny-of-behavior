{
 "cells": [
  {
   "cell_type": "markdown",
   "id": "6ddd0b1d-0b87-4f29-aa87-1a1081d88294",
   "metadata": {},
   "source": [
    "# Create SLURM scripts to extract new depth recordings using latest `moseq2-app`"
   ]
  },
  {
   "cell_type": "code",
   "execution_count": 1,
   "id": "33e9713d-5431-4bef-a585-3481d6508229",
   "metadata": {
    "tags": []
   },
   "outputs": [],
   "source": [
    "import os\n",
    "import h5py\n",
    "from pathlib import Path\n",
    "from toolz import concat, compose, curry\n",
    "from ruamel import yaml\n",
    "from tqdm.auto import tqdm\n",
    "from aging.organization.paths import FOLDERS"
   ]
  },
  {
   "cell_type": "code",
   "execution_count": 2,
   "id": "1a745bd2-bcee-423b-86d1-7bcd4b294955",
   "metadata": {
    "tags": []
   },
   "outputs": [],
   "source": [
    "user = os.environ['USER']"
   ]
  },
  {
   "cell_type": "code",
   "execution_count": 3,
   "id": "21e5d4e7-07e1-4a5e-84cd-516fabd8e97c",
   "metadata": {
    "tags": []
   },
   "outputs": [],
   "source": [
    "script = '''#!/bin/env bash\n",
    "#SBATCH -c 1\n",
    "#SBATCH -n 1\n",
    "#SBATCH --mem=10G\n",
    "#SBATCH -p short\n",
    "#SBATCH -t 00:40:00\n",
    "#SBATCH --output=/n/scratch3/users/{user_pth}/tmp/ontogeny/depth-extraction-%j.out\n",
    "\n",
    "source $HOME/.bashrc\n",
    "conda activate moseq2-app\n",
    "moseq2-extract extract \"{file_path}\" --config-file \"/n/groups/datta/win/longtogeny/data/extractions/config.yaml\"\n",
    "'''"
   ]
  },
  {
   "cell_type": "code",
   "execution_count": 4,
   "id": "e24478d9-ca29-40e8-91e6-70fca76f8d3e",
   "metadata": {
    "tags": []
   },
   "outputs": [],
   "source": [
    "def not_extracted(file):\n",
    "    if file.name.endswith('filepart'):\n",
    "        return False\n",
    "\n",
    "    if extracted := (file.parent / \"proc\" / \"results_00.h5\").exists():\n",
    "        try:\n",
    "            with h5py.File(file.parent / \"proc\" / \"results_00.h5\", \"r\") as h5f:\n",
    "                list(h5f)\n",
    "        except Exception as e:\n",
    "            print(e)\n",
    "            return True\n",
    "        with open(file.parent / \"proc\" / \"results_00.yaml\", \"r\") as conf_f:\n",
    "            config = yaml.safe_load(conf_f)\n",
    "        extracted = config[\"complete\"]\n",
    "    # TODO: make sure extraction is newer than 5/30/2023\n",
    "    return not extracted\n",
    "\n",
    "\n",
    "def no_depth_doubles(file):\n",
    "    return not (file.name.endswith(\"avi\") and file.with_suffix(\".dat\").exists())\n",
    "\n",
    "\n",
    "def multi_filter(*filters, seq):\n",
    "    return compose(*(curry(filter)(f) for f in filters))(seq)"
   ]
  },
  {
   "cell_type": "code",
   "execution_count": 5,
   "id": "240806f9-05cd-4fea-8a1d-cfc5e9064fcc",
   "metadata": {
    "tags": []
   },
   "outputs": [],
   "source": [
    "# first round, re-extract everything using my moseq config file\n",
    "# second round, only extract non-extracted data or incomplete extractions\n",
    "# files = list(concat(f.glob('**/depth.*') for f in folders))"
   ]
  },
  {
   "cell_type": "code",
   "execution_count": 6,
   "id": "158e990b-bc5d-4f07-ada5-5332091aff82",
   "metadata": {
    "tags": []
   },
   "outputs": [
    {
     "data": {
      "application/vnd.jupyter.widget-view+json": {
       "model_id": "c5eb84a536b942f1971fb87f17b97f55",
       "version_major": 2,
       "version_minor": 0
      },
      "text/plain": [
       "0it [00:00, ?it/s]"
      ]
     },
     "metadata": {},
     "output_type": "display_data"
    },
    {
     "name": "stdout",
     "output_type": "stream",
     "text": [
      "rm: cannot remove ‘tmp.sh’: No such file or directory\n"
     ]
    }
   ],
   "source": [
    "files = multi_filter(not_extracted, no_depth_doubles, seq=concat(f.glob('**/depth.*') for f in FOLDERS))\n",
    "\n",
    "for f in tqdm(files):\n",
    "    # skip avi files that have a dat copy - meaning just use dat copy for extractions\n",
    "    print('extracting:', f)\n",
    "    new_script = script.format(user_pth=f\"{user[0]}/{user}\", file_path=str(f.absolute()))\n",
    "    with open(\"tmp.sh\", \"w\") as f:\n",
    "        f.write(new_script)\n",
    "\n",
    "    !sbatch tmp.sh\n",
    "!rm tmp.sh"
   ]
  },
  {
   "cell_type": "code",
   "execution_count": null,
   "id": "ae2165ed-9609-441c-954b-290c277d5d9e",
   "metadata": {},
   "outputs": [],
   "source": []
  }
 ],
 "metadata": {
  "kernelspec": {
   "display_name": "Ontogeny",
   "language": "python",
   "name": "aging"
  },
  "language_info": {
   "codemirror_mode": {
    "name": "ipython",
    "version": 3
   },
   "file_extension": ".py",
   "mimetype": "text/x-python",
   "name": "python",
   "nbconvert_exporter": "python",
   "pygments_lexer": "ipython3",
   "version": "3.10.10"
  },
  "widgets": {
   "application/vnd.jupyter.widget-state+json": {
    "state": {
     "0d968b9e0d1341c59c92df18e1812fb8": {
      "model_module": "@jupyter-widgets/controls",
      "model_module_version": "2.0.0",
      "model_name": "HTMLModel",
      "state": {
       "layout": "IPY_MODEL_62860c9ac5ed4db8bfcfff4117bfd81a",
       "style": "IPY_MODEL_fffb76afe2fa4b2c879c6650313f7d5b"
      }
     },
     "33357b0f80b94f6dadb05c76895ae23c": {
      "model_module": "@jupyter-widgets/base",
      "model_module_version": "2.0.0",
      "model_name": "LayoutModel",
      "state": {}
     },
     "41c0414348ca45edbe1f7f965da653d0": {
      "model_module": "@jupyter-widgets/controls",
      "model_module_version": "2.0.0",
      "model_name": "ProgressStyleModel",
      "state": {
       "description_width": ""
      }
     },
     "4344e4d4501549ac85857f9b94420229": {
      "model_module": "@jupyter-widgets/controls",
      "model_module_version": "2.0.0",
      "model_name": "HTMLModel",
      "state": {
       "layout": "IPY_MODEL_33357b0f80b94f6dadb05c76895ae23c",
       "style": "IPY_MODEL_49925d957830425d894a6550df843313",
       "value": " 0/? [03:12&lt;?, ?it/s]"
      }
     },
     "49925d957830425d894a6550df843313": {
      "model_module": "@jupyter-widgets/controls",
      "model_module_version": "2.0.0",
      "model_name": "HTMLStyleModel",
      "state": {
       "description_width": "",
       "font_size": null,
       "text_color": null
      }
     },
     "5a4438d18f874fd4a6f4018f810c8135": {
      "model_module": "@jupyter-widgets/base",
      "model_module_version": "2.0.0",
      "model_name": "LayoutModel",
      "state": {
       "width": "20px"
      }
     },
     "62860c9ac5ed4db8bfcfff4117bfd81a": {
      "model_module": "@jupyter-widgets/base",
      "model_module_version": "2.0.0",
      "model_name": "LayoutModel",
      "state": {}
     },
     "a3293a4470ba49a2976bbe8d6e50ac1c": {
      "model_module": "@jupyter-widgets/controls",
      "model_module_version": "2.0.0",
      "model_name": "FloatProgressModel",
      "state": {
       "bar_style": "success",
       "layout": "IPY_MODEL_5a4438d18f874fd4a6f4018f810c8135",
       "max": 1,
       "style": "IPY_MODEL_41c0414348ca45edbe1f7f965da653d0"
      }
     },
     "c5eb84a536b942f1971fb87f17b97f55": {
      "model_module": "@jupyter-widgets/controls",
      "model_module_version": "2.0.0",
      "model_name": "HBoxModel",
      "state": {
       "children": [
        "IPY_MODEL_0d968b9e0d1341c59c92df18e1812fb8",
        "IPY_MODEL_a3293a4470ba49a2976bbe8d6e50ac1c",
        "IPY_MODEL_4344e4d4501549ac85857f9b94420229"
       ],
       "layout": "IPY_MODEL_dff84e1a822544c2a8a4d6f27df65e0f"
      }
     },
     "dff84e1a822544c2a8a4d6f27df65e0f": {
      "model_module": "@jupyter-widgets/base",
      "model_module_version": "2.0.0",
      "model_name": "LayoutModel",
      "state": {}
     },
     "fffb76afe2fa4b2c879c6650313f7d5b": {
      "model_module": "@jupyter-widgets/controls",
      "model_module_version": "2.0.0",
      "model_name": "HTMLStyleModel",
      "state": {
       "description_width": "",
       "font_size": null,
       "text_color": null
      }
     }
    },
    "version_major": 2,
    "version_minor": 0
   }
  }
 },
 "nbformat": 4,
 "nbformat_minor": 5
}
