{
 "cells": [
  {
   "cell_type": "markdown",
   "id": "6ddd0b1d-0b87-4f29-aa87-1a1081d88294",
   "metadata": {},
   "source": [
    "# Create SLURM scripts to extract new depth recordings using latest `moseq2-app`"
   ]
  },
  {
   "cell_type": "code",
   "execution_count": 1,
   "id": "33e9713d-5431-4bef-a585-3481d6508229",
   "metadata": {
    "tags": []
   },
   "outputs": [],
   "source": [
    "import os\n",
    "import h5py\n",
    "from pathlib import Path\n",
    "from toolz import concat, compose, curry\n",
    "from ruamel import yaml\n",
    "from tqdm.auto import tqdm\n",
    "from aging.organization.paths import FOLDERS"
   ]
  },
  {
   "cell_type": "code",
   "execution_count": 2,
   "id": "1a745bd2-bcee-423b-86d1-7bcd4b294955",
   "metadata": {
    "tags": []
   },
   "outputs": [],
   "source": [
    "user = os.environ['USER']"
   ]
  },
  {
   "cell_type": "code",
   "execution_count": 3,
   "id": "21e5d4e7-07e1-4a5e-84cd-516fabd8e97c",
   "metadata": {
    "tags": []
   },
   "outputs": [],
   "source": [
    "script = '''#!/bin/env bash\n",
    "#SBATCH -c 1\n",
    "#SBATCH -n 1\n",
    "#SBATCH --mem=10G\n",
    "#SBATCH -p short\n",
    "#SBATCH -t 00:40:00\n",
    "#SBATCH --output=/n/scratch3/users/{user_pth}/tmp/ontogeny/depth-extraction-%j.out\n",
    "\n",
    "source $HOME/.bashrc\n",
    "conda activate moseq2-app\n",
    "moseq2-extract extract \"{file_path}\" --config-file \"/n/groups/datta/win/longtogeny/data/extractions/config.yaml\"\n",
    "'''"
   ]
  },
  {
   "cell_type": "code",
   "execution_count": 4,
   "id": "e24478d9-ca29-40e8-91e6-70fca76f8d3e",
   "metadata": {
    "tags": []
   },
   "outputs": [],
   "source": [
    "def not_extracted(file):\n",
    "    if file.name.endswith('filepart'):\n",
    "        return False\n",
    "\n",
    "    if extracted := (file.parent / \"proc\" / \"results_00.h5\").exists():\n",
    "        try:\n",
    "            with h5py.File(file.parent / \"proc\" / \"results_00.h5\", \"r\") as h5f:\n",
    "                list(h5f)\n",
    "        except Exception as e:\n",
    "            print(e)\n",
    "            return True\n",
    "        with open(file.parent / \"proc\" / \"results_00.yaml\", \"r\") as conf_f:\n",
    "            config = yaml.safe_load(conf_f)\n",
    "        extracted = config[\"complete\"]\n",
    "    # TODO: make sure extraction is newer than 5/30/2023\n",
    "    return not extracted\n",
    "\n",
    "\n",
    "def no_depth_doubles(file):\n",
    "    return not (file.name.endswith(\"avi\") and file.with_suffix(\".dat\").exists())\n",
    "\n",
    "\n",
    "def multi_filter(*filters, seq):\n",
    "    return compose(*(curry(filter)(f) for f in filters))(seq)"
   ]
  },
  {
   "cell_type": "code",
   "execution_count": 5,
   "id": "240806f9-05cd-4fea-8a1d-cfc5e9064fcc",
   "metadata": {
    "tags": []
   },
   "outputs": [],
   "source": [
    "# first round, re-extract everything using my moseq config file\n",
    "# second round, only extract non-extracted data or incomplete extractions\n",
    "# files = list(concat(f.glob('**/depth.*') for f in folders))"
   ]
  },
  {
   "cell_type": "code",
   "execution_count": 6,
   "id": "158e990b-bc5d-4f07-ada5-5332091aff82",
   "metadata": {
    "tags": []
   },
   "outputs": [
    {
     "data": {
      "application/vnd.jupyter.widget-view+json": {
       "model_id": "c0b2b8ae7bcd436ea5e0e2fef661217c",
       "version_major": 2,
       "version_minor": 0
      },
      "text/plain": [
       "0it [00:00, ?it/s]"
      ]
     },
     "metadata": {},
     "output_type": "display_data"
    },
    {
     "name": "stdout",
     "output_type": "stream",
     "text": [
      "Submitted batch job 14922008\n",
      "Submitted batch job 14922009\n",
      "Submitted batch job 14922010\n",
      "Submitted batch job 14922011\n",
      "Unable to open file (bad object header version number)\n",
      "Submitted batch job 14922013\n",
      "Unable to open file (bad object header version number)\n",
      "Submitted batch job 14922016\n",
      "Unable to open file (bad object header version number)\n",
      "Submitted batch job 14922018\n",
      "Unable to open file (bad object header version number)\n",
      "Submitted batch job 14922019\n",
      "Unable to open file (bad object header version number)\n",
      "Submitted batch job 14922020\n",
      "Unable to open file (bad object header version number)\n",
      "Submitted batch job 14922021\n",
      "Unable to open file (bad object header version number)\n",
      "Submitted batch job 14922022\n",
      "Unable to open file (bad object header version number)\n",
      "Submitted batch job 14922023\n",
      "Submitted batch job 14922043\n",
      "Submitted batch job 14922065\n",
      "Submitted batch job 14922075\n",
      "Submitted batch job 14922076\n",
      "Submitted batch job 14922079\n",
      "Submitted batch job 14922080\n",
      "Submitted batch job 14922081\n",
      "Submitted batch job 14922083\n",
      "Submitted batch job 14922084\n",
      "Submitted batch job 14922086\n",
      "Submitted batch job 14922087\n",
      "Submitted batch job 14922097\n",
      "Submitted batch job 14922102\n",
      "Submitted batch job 14922105\n",
      "Submitted batch job 14922112\n",
      "Submitted batch job 14922113\n",
      "Submitted batch job 14922114\n",
      "Submitted batch job 14922115\n",
      "Submitted batch job 14922116\n",
      "Submitted batch job 14922117\n",
      "Submitted batch job 14922119\n",
      "Submitted batch job 14922120\n",
      "Submitted batch job 14922121\n",
      "Submitted batch job 14922122\n",
      "Submitted batch job 14922125\n",
      "Submitted batch job 14922126\n",
      "Submitted batch job 14922127\n",
      "Submitted batch job 14922128\n",
      "Submitted batch job 14922129\n",
      "Submitted batch job 14922130\n",
      "Submitted batch job 14922131\n",
      "Submitted batch job 14922132\n",
      "Submitted batch job 14922133\n",
      "Submitted batch job 14922134\n",
      "Submitted batch job 14922135\n",
      "Submitted batch job 14922136\n",
      "Submitted batch job 14922137\n",
      "Submitted batch job 14922138\n",
      "Submitted batch job 14922139\n",
      "Submitted batch job 14922140\n",
      "Submitted batch job 14922141\n",
      "Submitted batch job 14922142\n",
      "Submitted batch job 14922143\n",
      "Submitted batch job 14922144\n",
      "Submitted batch job 14922145\n",
      "Submitted batch job 14922146\n",
      "Submitted batch job 14922148\n",
      "Submitted batch job 14922149\n",
      "Submitted batch job 14922150\n",
      "Submitted batch job 14922151\n",
      "Submitted batch job 14922152\n",
      "Submitted batch job 14922153\n",
      "Submitted batch job 14922154\n",
      "Submitted batch job 14922155\n",
      "Submitted batch job 14922156\n",
      "Submitted batch job 14922158\n",
      "Submitted batch job 14922159\n",
      "Submitted batch job 14922160\n",
      "Submitted batch job 14922161\n",
      "Submitted batch job 14922162\n",
      "Submitted batch job 14922163\n",
      "Submitted batch job 14922164\n",
      "Submitted batch job 14922165\n",
      "Submitted batch job 14922166\n",
      "Submitted batch job 14922167\n",
      "Submitted batch job 14922168\n",
      "Submitted batch job 14922169\n",
      "Submitted batch job 14922170\n",
      "Submitted batch job 14922171\n",
      "Submitted batch job 14922172\n",
      "Submitted batch job 14922173\n",
      "Submitted batch job 14922174\n",
      "Submitted batch job 14922175\n",
      "Submitted batch job 14922176\n",
      "Submitted batch job 14922177\n",
      "Submitted batch job 14922178\n",
      "Submitted batch job 14922180\n",
      "Submitted batch job 14922181\n",
      "Submitted batch job 14922183\n",
      "Submitted batch job 14922184\n",
      "Submitted batch job 14922185\n",
      "Submitted batch job 14922186\n",
      "Submitted batch job 14922187\n",
      "Submitted batch job 14922188\n",
      "Submitted batch job 14922190\n",
      "Submitted batch job 14922192\n",
      "Submitted batch job 14922193\n",
      "Submitted batch job 14922194\n",
      "Submitted batch job 14922195\n",
      "Submitted batch job 14922197\n",
      "Submitted batch job 14922200\n",
      "Submitted batch job 14922201\n",
      "Submitted batch job 14922202\n",
      "Submitted batch job 14922208\n",
      "Submitted batch job 14922211\n",
      "Submitted batch job 14922213\n",
      "Submitted batch job 14922216\n",
      "Submitted batch job 14922218\n",
      "Submitted batch job 14922221\n",
      "Submitted batch job 14922223\n",
      "Submitted batch job 14922224\n",
      "Submitted batch job 14922226\n",
      "Submitted batch job 14922227\n",
      "Submitted batch job 14922228\n",
      "Submitted batch job 14922229\n",
      "Submitted batch job 14922231\n",
      "Submitted batch job 14922232\n",
      "Submitted batch job 14922233\n",
      "Submitted batch job 14922234\n",
      "Submitted batch job 14922246\n",
      "Submitted batch job 14922248\n",
      "Submitted batch job 14922249\n"
     ]
    }
   ],
   "source": [
    "files = multi_filter(not_extracted, no_depth_doubles, seq=concat(f.glob('**/depth.*') for f in FOLDERS))\n",
    "\n",
    "for f in tqdm(files):\n",
    "    # skip avi files that have a dat copy - meaning just use dat copy for extractions\n",
    "    new_script = script.format(user_pth=f\"{user[0]}/{user}\", file_path=str(f.absolute()))\n",
    "    with open(\"tmp.sh\", \"w\") as f:\n",
    "        f.write(new_script)\n",
    "\n",
    "    !sbatch tmp.sh\n",
    "!rm tmp.sh"
   ]
  },
  {
   "cell_type": "code",
   "execution_count": null,
   "id": "ae2165ed-9609-441c-954b-290c277d5d9e",
   "metadata": {},
   "outputs": [],
   "source": []
  }
 ],
 "metadata": {
  "kernelspec": {
   "display_name": "Ontogeny",
   "language": "python",
   "name": "aging"
  },
  "language_info": {
   "codemirror_mode": {
    "name": "ipython",
    "version": 3
   },
   "file_extension": ".py",
   "mimetype": "text/x-python",
   "name": "python",
   "nbconvert_exporter": "python",
   "pygments_lexer": "ipython3",
   "version": "3.10.10"
  },
  "widgets": {
   "application/vnd.jupyter.widget-state+json": {
    "state": {},
    "version_major": 2,
    "version_minor": 0
   }
  }
 },
 "nbformat": 4,
 "nbformat_minor": 5
}
