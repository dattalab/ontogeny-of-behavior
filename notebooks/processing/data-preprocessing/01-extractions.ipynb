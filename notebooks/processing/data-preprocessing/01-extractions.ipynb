{
 "cells": [
  {
   "cell_type": "markdown",
   "id": "6ddd0b1d-0b87-4f29-aa87-1a1081d88294",
   "metadata": {},
   "source": [
    "# Create SLURM scripts to extract new depth recordings using latest `moseq2-app`"
   ]
  },
  {
   "cell_type": "code",
   "execution_count": 1,
   "id": "33e9713d-5431-4bef-a585-3481d6508229",
   "metadata": {
    "tags": []
   },
   "outputs": [],
   "source": [
    "import os\n",
    "from pathlib import Path\n",
    "from toolz import concat\n",
    "from ruamel import yaml\n",
    "from tqdm.auto import tqdm"
   ]
  },
  {
   "cell_type": "code",
   "execution_count": 2,
   "id": "5883a9f7-65ee-4ea5-b706-9ece0a06c1c0",
   "metadata": {
    "tags": []
   },
   "outputs": [],
   "source": [
    "folders = [\n",
    "    '/n/groups/datta/Dana/Ontogeny/raw_data/Ontogeny_females',\n",
    "    '/n/groups/datta/Dana/Ontogeny/raw_data/Ontogeny_males',\n",
    "    '/n/groups/datta/Dana/Ontogeny/raw_data/longtogeny_pre_unet/Females',\n",
    "    '/n/groups/datta/Dana/Ontogeny/raw_data/longtogeny_pre_unet/Males',\n",
    "    '/n/groups/datta/min/dominance_v1',\n",
    "    '/n/groups/datta/min/community_v1',\n",
    "    '/n/groups/datta/min/wheel_062023',\n",
    "    '/n/groups/datta/min/cas_behavior_01',\n",
    "]\n",
    "folders = [Path(f) for f in folders]"
   ]
  },
  {
   "cell_type": "code",
   "execution_count": 4,
   "id": "1a745bd2-bcee-423b-86d1-7bcd4b294955",
   "metadata": {
    "tags": []
   },
   "outputs": [],
   "source": [
    "user = os.environ['USER']"
   ]
  },
  {
   "cell_type": "code",
   "execution_count": 5,
   "id": "21e5d4e7-07e1-4a5e-84cd-516fabd8e97c",
   "metadata": {
    "tags": []
   },
   "outputs": [],
   "source": [
    "script = '''#!/bin/env bash\n",
    "#SBATCH -c 1\n",
    "#SBATCH -n 1\n",
    "#SBATCH --mem=10G\n",
    "#SBATCH -p short\n",
    "#SBATCH -t 00:35:00\n",
    "#SBATCH --output=/n/scratch3/users/{user_pth}/tmp/ontogeny/depth-extraction-%j.out\n",
    "\n",
    "source $HOME/.bashrc\n",
    "conda activate moseq2-app\n",
    "moseq2-extract extract \"{file_path}\" --config-file \"/n/groups/datta/win/longtogeny/data/extractions/config.yaml\"\n",
    "'''"
   ]
  },
  {
   "cell_type": "code",
   "execution_count": 6,
   "id": "e24478d9-ca29-40e8-91e6-70fca76f8d3e",
   "metadata": {
    "tags": []
   },
   "outputs": [],
   "source": [
    "def not_extracted(file):\n",
    "    if file.name.endswith('filepart'):\n",
    "        return False\n",
    "\n",
    "    if extracted := (file.parent / \"proc\" / \"results_00.h5\").exists():\n",
    "        with open(file.parent / \"proc\" / \"results_00.yaml\", \"r\") as conf_f:\n",
    "            config = yaml.safe_load(conf_f)\n",
    "        extracted = config[\"complete\"]\n",
    "    # TODO: make sure extraction is newer than 5/30/2023\n",
    "    return not extracted"
   ]
  },
  {
   "cell_type": "code",
   "execution_count": 7,
   "id": "240806f9-05cd-4fea-8a1d-cfc5e9064fcc",
   "metadata": {
    "tags": []
   },
   "outputs": [],
   "source": [
    "# first round, re-extract everything using my moseq config file\n",
    "# second round, only extract non-extracted data or incomplete extractions\n",
    "files = sorted(filter(not_extracted, concat(f.glob('**/depth.*') for f in folders)))\n",
    "# files = list(concat(f.glob('**/depth.*') for f in folders))"
   ]
  },
  {
   "cell_type": "code",
   "execution_count": 8,
   "id": "c4552fb3-35ab-4795-8d44-d1eb23cbf21b",
   "metadata": {
    "tags": []
   },
   "outputs": [
    {
     "data": {
      "text/plain": [
       "448"
      ]
     },
     "execution_count": 8,
     "metadata": {},
     "output_type": "execute_result"
    }
   ],
   "source": [
    "len(files)"
   ]
  },
  {
   "cell_type": "code",
   "execution_count": 7,
   "id": "ed5ffbb7-c0e8-4a6e-aef8-761e2c6a2833",
   "metadata": {
    "collapsed": true,
    "jupyter": {
     "outputs_hidden": true
    },
    "tags": []
   },
   "outputs": [
    {
     "data": {
      "text/plain": [
       "[PosixPath('/n/groups/datta/Dana/Ontogeny/raw_data/Ontogeny_females/9months/session_20230609135625/depth.dat'),\n",
       " PosixPath('/n/groups/datta/Dana/Ontogeny/raw_data/Ontogeny_females/9months/session_20230609135634/depth.dat'),\n",
       " PosixPath('/n/groups/datta/Dana/Ontogeny/raw_data/Ontogeny_females/9months/session_20230609135644/depth.dat'),\n",
       " PosixPath('/n/groups/datta/Dana/Ontogeny/raw_data/Ontogeny_females/9months/session_20230609135654/depth.dat'),\n",
       " PosixPath('/n/groups/datta/Dana/Ontogeny/raw_data/Ontogeny_females/9months/session_20230609151844/depth.dat'),\n",
       " PosixPath('/n/groups/datta/Dana/Ontogeny/raw_data/Ontogeny_females/9months/session_20230609151857/depth.dat'),\n",
       " PosixPath('/n/groups/datta/Dana/Ontogeny/raw_data/Ontogeny_females/9months/session_20230609151908/depth.dat'),\n",
       " PosixPath('/n/groups/datta/Dana/Ontogeny/raw_data/Ontogeny_females/9months/session_20230609151954/depth.dat'),\n",
       " PosixPath('/n/groups/datta/Dana/Ontogeny/raw_data/Ontogeny_females/9months/session_20230609160244/depth.dat'),\n",
       " PosixPath('/n/groups/datta/Dana/Ontogeny/raw_data/Ontogeny_females/9months/session_20230609160255/depth.dat'),\n",
       " PosixPath('/n/groups/datta/Dana/Ontogeny/raw_data/Ontogeny_females/9months/session_20230609160302/depth.dat'),\n",
       " PosixPath('/n/groups/datta/Dana/Ontogeny/raw_data/Ontogeny_females/9months/session_20230609160313/depth.dat'),\n",
       " PosixPath('/n/groups/datta/Dana/Ontogeny/raw_data/Ontogeny_females/9months/session_20230609164552/depth.dat'),\n",
       " PosixPath('/n/groups/datta/Dana/Ontogeny/raw_data/Ontogeny_females/9months/session_20230609164604/depth.dat'),\n",
       " PosixPath('/n/groups/datta/Dana/Ontogeny/raw_data/Ontogeny_females/9months/session_20230609164614/depth.dat'),\n",
       " PosixPath('/n/groups/datta/Dana/Ontogeny/raw_data/Ontogeny_females/9months/session_20230609164625/depth.dat'),\n",
       " PosixPath('/n/groups/datta/Dana/Ontogeny/raw_data/Ontogeny_males/9months_060923/session_20230609100712/depth.dat'),\n",
       " PosixPath('/n/groups/datta/Dana/Ontogeny/raw_data/Ontogeny_males/9months_060923/session_20230609101707/depth.dat'),\n",
       " PosixPath('/n/groups/datta/Dana/Ontogeny/raw_data/Ontogeny_males/9months_060923/session_20230609101823/depth.dat'),\n",
       " PosixPath('/n/groups/datta/Dana/Ontogeny/raw_data/Ontogeny_males/9months_060923/session_20230609101849/depth.dat'),\n",
       " PosixPath('/n/groups/datta/Dana/Ontogeny/raw_data/Ontogeny_males/9months_060923/session_20230609113810/depth.dat'),\n",
       " PosixPath('/n/groups/datta/Dana/Ontogeny/raw_data/Ontogeny_males/9months_060923/session_20230609113818/depth.dat'),\n",
       " PosixPath('/n/groups/datta/Dana/Ontogeny/raw_data/Ontogeny_males/9months_060923/session_20230609113824/depth.dat'),\n",
       " PosixPath('/n/groups/datta/Dana/Ontogeny/raw_data/Ontogeny_males/9months_060923/session_20230609113832/depth.dat'),\n",
       " PosixPath('/n/groups/datta/Dana/Ontogeny/raw_data/Ontogeny_males/9months_060923/session_20230609122411/depth.dat'),\n",
       " PosixPath('/n/groups/datta/Dana/Ontogeny/raw_data/Ontogeny_males/9months_060923/session_20230609122422/depth.dat'),\n",
       " PosixPath('/n/groups/datta/Dana/Ontogeny/raw_data/Ontogeny_males/9months_060923/session_20230609122430/depth.dat'),\n",
       " PosixPath('/n/groups/datta/Dana/Ontogeny/raw_data/Ontogeny_males/9months_060923/session_20230609122441/depth.dat'),\n",
       " PosixPath('/n/groups/datta/Dana/Ontogeny/raw_data/Ontogeny_males/9months_060923/session_20230609130044/depth.dat'),\n",
       " PosixPath('/n/groups/datta/Dana/Ontogeny/raw_data/Ontogeny_males/9months_060923/session_20230609130055/depth.dat'),\n",
       " PosixPath('/n/groups/datta/Dana/Ontogeny/raw_data/Ontogeny_males/9months_060923/session_20230609130109/depth.dat'),\n",
       " PosixPath('/n/groups/datta/Dana/Ontogeny/raw_data/Ontogeny_males/9months_060923/session_20230609130122/depth.dat'),\n",
       " PosixPath('/n/groups/datta/min/community_v1/ontogeny_community_02012023/session_20230307111002/depth.dat'),\n",
       " PosixPath('/n/groups/datta/min/wheel_062023/session_20230607114556/depth.dat'),\n",
       " PosixPath('/n/groups/datta/min/wheel_062023/session_20230607114656/depth.dat'),\n",
       " PosixPath('/n/groups/datta/min/wheel_062023/session_20230607114739/depth.dat'),\n",
       " PosixPath('/n/groups/datta/min/wheel_062023/session_20230607114843/depth.dat'),\n",
       " PosixPath('/n/groups/datta/min/wheel_062023/session_20230607122223/depth.dat'),\n",
       " PosixPath('/n/groups/datta/min/wheel_062023/session_20230607122235/depth.dat'),\n",
       " PosixPath('/n/groups/datta/min/wheel_062023/session_20230607122248/depth.dat'),\n",
       " PosixPath('/n/groups/datta/min/wheel_062023/session_20230607122301/depth.dat'),\n",
       " PosixPath('/n/groups/datta/min/wheel_062023/session_20230607125456/depth.dat'),\n",
       " PosixPath('/n/groups/datta/min/wheel_062023/session_20230607125511/depth.dat'),\n",
       " PosixPath('/n/groups/datta/min/wheel_062023/session_20230607125525/depth.dat'),\n",
       " PosixPath('/n/groups/datta/min/wheel_062023/session_20230607125540/depth.dat'),\n",
       " PosixPath('/n/groups/datta/min/wheel_062023/session_20230607133319/depth.dat'),\n",
       " PosixPath('/n/groups/datta/min/wheel_062023/session_20230607133337/depth.dat'),\n",
       " PosixPath('/n/groups/datta/min/wheel_062023/session_20230607133350/depth.dat'),\n",
       " PosixPath('/n/groups/datta/min/wheel_062023/session_20230607133403/depth.dat'),\n",
       " PosixPath('/n/groups/datta/min/wheel_062023/session_20230607140512/depth.dat'),\n",
       " PosixPath('/n/groups/datta/min/wheel_062023/session_20230607140528/depth.dat'),\n",
       " PosixPath('/n/groups/datta/min/wheel_062023/session_20230607140544/depth.dat'),\n",
       " PosixPath('/n/groups/datta/min/wheel_062023/session_20230607140601/depth.dat'),\n",
       " PosixPath('/n/groups/datta/min/wheel_062023/session_20230607143656/depth.dat'),\n",
       " PosixPath('/n/groups/datta/min/wheel_062023/session_20230607143711/depth.dat'),\n",
       " PosixPath('/n/groups/datta/min/wheel_062023/session_20230607143725/depth.dat'),\n",
       " PosixPath('/n/groups/datta/min/wheel_062023/session_20230607143740/depth.dat'),\n",
       " PosixPath('/n/groups/datta/min/wheel_062023/session_20230607150957/depth.dat'),\n",
       " PosixPath('/n/groups/datta/min/wheel_062023/session_20230607151013/depth.dat'),\n",
       " PosixPath('/n/groups/datta/min/wheel_062023/session_20230607151028/depth.dat'),\n",
       " PosixPath('/n/groups/datta/min/wheel_062023/session_20230607151044/depth.dat'),\n",
       " PosixPath('/n/groups/datta/min/wheel_062023/session_20230607154315/depth.dat'),\n",
       " PosixPath('/n/groups/datta/min/wheel_062023/session_20230607154327/depth.dat'),\n",
       " PosixPath('/n/groups/datta/min/wheel_062023/session_20230607154340/depth.dat'),\n",
       " PosixPath('/n/groups/datta/min/wheel_062023/session_20230607154353/depth.dat'),\n",
       " PosixPath('/n/groups/datta/min/wheel_062023/session_20230608110029/depth.dat'),\n",
       " PosixPath('/n/groups/datta/min/wheel_062023/session_20230608110038/depth.dat'),\n",
       " PosixPath('/n/groups/datta/min/wheel_062023/session_20230608110048/depth.dat'),\n",
       " PosixPath('/n/groups/datta/min/wheel_062023/session_20230608110058/depth.dat'),\n",
       " PosixPath('/n/groups/datta/min/wheel_062023/session_20230608113646/depth.dat'),\n",
       " PosixPath('/n/groups/datta/min/wheel_062023/session_20230608113659/depth.dat'),\n",
       " PosixPath('/n/groups/datta/min/wheel_062023/session_20230608113713/depth.dat'),\n",
       " PosixPath('/n/groups/datta/min/wheel_062023/session_20230608113730/depth.dat'),\n",
       " PosixPath('/n/groups/datta/min/wheel_062023/session_20230608120746/depth.dat'),\n",
       " PosixPath('/n/groups/datta/min/wheel_062023/session_20230608120758/depth.dat'),\n",
       " PosixPath('/n/groups/datta/min/wheel_062023/session_20230608120813/depth.dat'),\n",
       " PosixPath('/n/groups/datta/min/wheel_062023/session_20230608120828/depth.dat'),\n",
       " PosixPath('/n/groups/datta/min/wheel_062023/session_20230608123800/depth.dat'),\n",
       " PosixPath('/n/groups/datta/min/wheel_062023/session_20230608123811/depth.dat'),\n",
       " PosixPath('/n/groups/datta/min/wheel_062023/session_20230608123824/depth.dat'),\n",
       " PosixPath('/n/groups/datta/min/wheel_062023/session_20230608123836/depth.dat'),\n",
       " PosixPath('/n/groups/datta/min/wheel_062023/session_20230608130906/depth.dat'),\n",
       " PosixPath('/n/groups/datta/min/wheel_062023/session_20230608130919/depth.dat'),\n",
       " PosixPath('/n/groups/datta/min/wheel_062023/session_20230608130934/depth.dat'),\n",
       " PosixPath('/n/groups/datta/min/wheel_062023/session_20230608130951/depth.dat'),\n",
       " PosixPath('/n/groups/datta/min/wheel_062023/session_20230608133949/depth.dat'),\n",
       " PosixPath('/n/groups/datta/min/wheel_062023/session_20230608134000/depth.dat'),\n",
       " PosixPath('/n/groups/datta/min/wheel_062023/session_20230608134012/depth.dat'),\n",
       " PosixPath('/n/groups/datta/min/wheel_062023/session_20230608134023/depth.dat'),\n",
       " PosixPath('/n/groups/datta/min/wheel_062023/session_20230608141012/depth.dat'),\n",
       " PosixPath('/n/groups/datta/min/wheel_062023/session_20230608141030/depth.dat'),\n",
       " PosixPath('/n/groups/datta/min/wheel_062023/session_20230608141044/depth.dat'),\n",
       " PosixPath('/n/groups/datta/min/wheel_062023/session_20230608141103/depth.dat'),\n",
       " PosixPath('/n/groups/datta/min/wheel_062023/session_20230608143909/depth.dat'),\n",
       " PosixPath('/n/groups/datta/min/wheel_062023/session_20230608143924/depth.dat'),\n",
       " PosixPath('/n/groups/datta/min/wheel_062023/session_20230608144108/depth.dat'),\n",
       " PosixPath('/n/groups/datta/min/wheel_062023/session_20230608144125/depth.dat')]"
      ]
     },
     "execution_count": 7,
     "metadata": {},
     "output_type": "execute_result"
    }
   ],
   "source": [
    "files"
   ]
  },
  {
   "cell_type": "code",
   "execution_count": 8,
   "id": "158e990b-bc5d-4f07-ada5-5332091aff82",
   "metadata": {
    "tags": []
   },
   "outputs": [
    {
     "data": {
      "application/vnd.jupyter.widget-view+json": {
       "model_id": "64881df9e3cc439dbc6311995cae1f63",
       "version_major": 2,
       "version_minor": 0
      },
      "text/plain": [
       "  0%|          | 0/97 [00:00<?, ?it/s]"
      ]
     },
     "metadata": {},
     "output_type": "display_data"
    },
    {
     "name": "stdout",
     "output_type": "stream",
     "text": [
      "Submitted batch job 10713510\n",
      "Submitted batch job 10713511\n",
      "Submitted batch job 10713512\n",
      "Submitted batch job 10713513\n",
      "Submitted batch job 10713514\n",
      "Submitted batch job 10713515\n",
      "Submitted batch job 10713516\n",
      "Submitted batch job 10713517\n",
      "Submitted batch job 10713518\n",
      "Submitted batch job 10713519\n",
      "Submitted batch job 10713520\n",
      "Submitted batch job 10713521\n",
      "Submitted batch job 10713522\n",
      "Submitted batch job 10713523\n",
      "Submitted batch job 10713524\n",
      "Submitted batch job 10713525\n",
      "Submitted batch job 10713526\n",
      "Submitted batch job 10713527\n",
      "Submitted batch job 10713528\n",
      "Submitted batch job 10713529\n",
      "Submitted batch job 10713530\n",
      "Submitted batch job 10713531\n",
      "Submitted batch job 10713532\n",
      "Submitted batch job 10713533\n",
      "Submitted batch job 10713534\n",
      "Submitted batch job 10713535\n",
      "Submitted batch job 10713536\n",
      "Submitted batch job 10713537\n",
      "Submitted batch job 10713538\n",
      "Submitted batch job 10713539\n",
      "Submitted batch job 10713540\n",
      "Submitted batch job 10713541\n",
      "Submitted batch job 10713542\n",
      "Submitted batch job 10713543\n",
      "Submitted batch job 10713544\n",
      "Submitted batch job 10713545\n",
      "Submitted batch job 10713546\n",
      "Submitted batch job 10713547\n",
      "Submitted batch job 10713548\n",
      "Submitted batch job 10713549\n",
      "Submitted batch job 10713551\n",
      "Submitted batch job 10713552\n",
      "Submitted batch job 10713553\n",
      "Submitted batch job 10713554\n",
      "Submitted batch job 10713555\n",
      "Submitted batch job 10713556\n",
      "Submitted batch job 10713557\n",
      "Submitted batch job 10713558\n",
      "Submitted batch job 10713559\n",
      "Submitted batch job 10713560\n",
      "Submitted batch job 10713561\n",
      "Submitted batch job 10713562\n",
      "Submitted batch job 10713563\n",
      "Submitted batch job 10713564\n",
      "Submitted batch job 10713565\n",
      "Submitted batch job 10713566\n",
      "Submitted batch job 10713567\n",
      "Submitted batch job 10713568\n",
      "Submitted batch job 10713569\n",
      "Submitted batch job 10713570\n",
      "Submitted batch job 10713571\n",
      "Submitted batch job 10713572\n",
      "Submitted batch job 10713573\n",
      "Submitted batch job 10713574\n",
      "Submitted batch job 10713575\n",
      "Submitted batch job 10713576\n",
      "Submitted batch job 10713577\n",
      "Submitted batch job 10713578\n",
      "Submitted batch job 10713579\n",
      "Submitted batch job 10713580\n",
      "Submitted batch job 10713581\n",
      "Submitted batch job 10713582\n",
      "Submitted batch job 10713583\n",
      "Submitted batch job 10713584\n",
      "Submitted batch job 10713585\n",
      "Submitted batch job 10713586\n",
      "Submitted batch job 10713587\n",
      "Submitted batch job 10713588\n",
      "Submitted batch job 10713589\n",
      "Submitted batch job 10713590\n",
      "Submitted batch job 10713591\n",
      "Submitted batch job 10713592\n",
      "Submitted batch job 10713593\n",
      "Submitted batch job 10713594\n",
      "Submitted batch job 10713595\n",
      "Submitted batch job 10713596\n",
      "Submitted batch job 10713597\n",
      "Submitted batch job 10713598\n",
      "Submitted batch job 10713599\n",
      "Submitted batch job 10713600\n",
      "Submitted batch job 10713601\n",
      "Submitted batch job 10713602\n",
      "Submitted batch job 10713603\n",
      "Submitted batch job 10713605\n",
      "Submitted batch job 10713606\n",
      "Submitted batch job 10713607\n",
      "Submitted batch job 10713608\n"
     ]
    }
   ],
   "source": [
    "for f in tqdm(files):\n",
    "    # skip dat files that have an avi copy\n",
    "    if f.name.endswith(\"dat\") and f.with_suffix(\".avi\").exists():\n",
    "        continue\n",
    "    new_script = script.format(user_pth=f\"{user[0]}/{user}\", file_path=str(f.absolute()))\n",
    "    with open(\"tmp.sh\", \"w\") as f:\n",
    "        f.write(new_script)\n",
    "\n",
    "    !sbatch tmp.sh\n",
    "!rm tmp.sh"
   ]
  },
  {
   "cell_type": "code",
   "execution_count": null,
   "id": "ae2165ed-9609-441c-954b-290c277d5d9e",
   "metadata": {},
   "outputs": [],
   "source": []
  }
 ],
 "metadata": {
  "kernelspec": {
   "display_name": "Ontogeny",
   "language": "python",
   "name": "aging"
  },
  "language_info": {
   "codemirror_mode": {
    "name": "ipython",
    "version": 3
   },
   "file_extension": ".py",
   "mimetype": "text/x-python",
   "name": "python",
   "nbconvert_exporter": "python",
   "pygments_lexer": "ipython3",
   "version": "3.10.10"
  },
  "widgets": {
   "application/vnd.jupyter.widget-state+json": {
    "state": {},
    "version_major": 2,
    "version_minor": 0
   }
  }
 },
 "nbformat": 4,
 "nbformat_minor": 5
}
