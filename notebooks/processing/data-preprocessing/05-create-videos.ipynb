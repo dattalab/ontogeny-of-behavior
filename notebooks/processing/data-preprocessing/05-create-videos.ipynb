{
 "cells": [
  {
   "cell_type": "markdown",
   "id": "0988fb3c-a8d4-4265-aeba-62e924626739",
   "metadata": {},
   "source": [
    "# Create videos to check the size norm results"
   ]
  },
  {
   "cell_type": "code",
   "execution_count": 1,
   "id": "6dfcc29b",
   "metadata": {},
   "outputs": [],
   "source": [
    "import h5py\n",
    "import random\n",
    "import numpy as np\n",
    "from tqdm.auto import tqdm\n",
    "from toolz import concat\n",
    "from aging.video import write_movie_av\n",
    "from aging.organization.paths import FOLDERS"
   ]
  },
  {
   "cell_type": "code",
   "execution_count": 2,
   "id": "19573d05",
   "metadata": {},
   "outputs": [],
   "source": [
    "random.seed(0)"
   ]
  },
  {
   "cell_type": "code",
   "execution_count": 4,
   "id": "ec5dc845",
   "metadata": {},
   "outputs": [],
   "source": [
    "def load_and_write_movie(path, recon_key, n_frames=9_000):\n",
    "    try:\n",
    "        vid_name = path.with_name(path.stem + f\"_{recon_key}.mp4\")\n",
    "        if vid_name.exists():\n",
    "            return\n",
    "        with h5py.File(path, 'r') as f:\n",
    "            frames = f[\"frames\"][:n_frames]\n",
    "            recon = f[recon_key][:n_frames].astype(\"uint8\")\n",
    "        concat = np.concatenate([frames, recon], axis=2)\n",
    "        write_movie_av(vid_name, concat)\n",
    "    except (OSError, KeyError) as e:\n",
    "        print(path)\n",
    "        print(e)"
   ]
  },
  {
   "cell_type": "code",
   "execution_count": 6,
   "id": "65c3551e",
   "metadata": {},
   "outputs": [],
   "source": [
    "# recon_key = \"win_size_norm_frames_v6\"\n",
    "recon_key = \"win_size_norm_frames_v7\"\n",
    "# for folder in FOLDERS:\n",
    "#     print(\"Writing movies for folder\", str(folder))\n",
    "#     files = list(folder.glob(\"**/results_00.h5\"))\n",
    "#     random.shuffle(files)\n",
    "#     for file in tqdm(files):\n",
    "#         load_and_write_movie(file, recon_key)"
   ]
  },
  {
   "cell_type": "code",
   "execution_count": null,
   "id": "5d64b7b6",
   "metadata": {},
   "outputs": [
    {
     "data": {
      "application/vnd.jupyter.widget-view+json": {
       "model_id": "13475bf84d0e4f51978d10f35b932421",
       "version_major": 2,
       "version_minor": 0
      },
      "text/plain": [
       "Groups:   0%|          | 0/4 [00:00<?, ?it/s]"
      ]
     },
     "metadata": {},
     "output_type": "display_data"
    },
    {
     "data": {
      "application/vnd.jupyter.widget-view+json": {
       "model_id": "43430d16bffc49d2bcbbe98667b41021",
       "version_major": 2,
       "version_minor": 0
      },
      "text/plain": [
       "Files:   0%|          | 0/631 [00:00<?, ?it/s]"
      ]
     },
     "metadata": {},
     "output_type": "display_data"
    }
   ],
   "source": [
    "recon_key = \"win_size_norm_frames_v7\"\n",
    "groups = [\n",
    "    concat(i.glob(\"**/results_00.h5\") for i in x)\n",
    "    for x in [\n",
    "        FOLDERS[1:3],\n",
    "        (*FOLDERS[4:7], FOLDERS[9]),\n",
    "        (FOLDERS[-2], FOLDERS[7]),\n",
    "        (FOLDERS[0], FOLDERS[3]),\n",
    "    ]\n",
    "]\n",
    "\n",
    "for group in tqdm(groups, desc=\"Groups\"):\n",
    "    files = list(group)\n",
    "    random.shuffle(files)\n",
    "    for file in tqdm(files, desc=\"Files\"):\n",
    "        load_and_write_movie(file, recon_key)"
   ]
  },
  {
   "cell_type": "code",
   "execution_count": null,
   "id": "fc5006b1-b954-4ff0-abf1-5e5c655a1722",
   "metadata": {},
   "outputs": [],
   "source": []
  }
 ],
 "metadata": {
  "kernelspec": {
   "display_name": "Ontogeny",
   "language": "python",
   "name": "aging"
  },
  "language_info": {
   "codemirror_mode": {
    "name": "ipython",
    "version": 3
   },
   "file_extension": ".py",
   "mimetype": "text/x-python",
   "name": "python",
   "nbconvert_exporter": "python",
   "pygments_lexer": "ipython3",
   "version": "3.10.10"
  },
  "widgets": {
   "application/vnd.jupyter.widget-state+json": {
    "state": {
     "0f041f66f88c46b0b3726204933bcf8d": {
      "model_module": "@jupyter-widgets/base",
      "model_module_version": "2.0.0",
      "model_name": "LayoutModel",
      "state": {}
     },
     "121faa0988ae4bb0a91790b67846b58e": {
      "model_module": "@jupyter-widgets/controls",
      "model_module_version": "2.0.0",
      "model_name": "HTMLStyleModel",
      "state": {
       "description_width": "",
       "font_size": null,
       "text_color": null
      }
     },
     "13475bf84d0e4f51978d10f35b932421": {
      "model_module": "@jupyter-widgets/controls",
      "model_module_version": "2.0.0",
      "model_name": "HBoxModel",
      "state": {
       "children": [
        "IPY_MODEL_acabc897e67b48e1b4e8fc40d2e9ace8",
        "IPY_MODEL_ea8f31c8ac9a4b11a4880299e57aa9d2",
        "IPY_MODEL_7939ca0ee6a04088997bc863a5501234"
       ],
       "layout": "IPY_MODEL_6659c96db717440f978aa4dbab45c6b2"
      }
     },
     "1766546683ca493db730201e656a0ee1": {
      "model_module": "@jupyter-widgets/controls",
      "model_module_version": "2.0.0",
      "model_name": "HBoxModel",
      "state": {
       "children": [
        "IPY_MODEL_89b5eeb5cc5d4f9499f2a1252a730069",
        "IPY_MODEL_bff2e8129c3045e98875560987d3c36b",
        "IPY_MODEL_f8ae760e413b4daaa7798a5c1cc5b814"
       ],
       "layout": "IPY_MODEL_52f4b54438414df7b0c644168bc1c002"
      }
     },
     "1b594d226e7c4efca78bbb02ed66b2d0": {
      "model_module": "@jupyter-widgets/base",
      "model_module_version": "2.0.0",
      "model_name": "LayoutModel",
      "state": {}
     },
     "274b8d065e9f4669a418d0e2b5e524e3": {
      "model_module": "@jupyter-widgets/controls",
      "model_module_version": "2.0.0",
      "model_name": "FloatProgressModel",
      "state": {
       "layout": "IPY_MODEL_c756a140c1d34e228b5794fb84c63f63",
       "max": 631,
       "style": "IPY_MODEL_cc20a2dd91744b368c9d75025ee022ec"
      }
     },
     "2bb0f6685984415fbd680781a4fff760": {
      "model_module": "@jupyter-widgets/controls",
      "model_module_version": "2.0.0",
      "model_name": "HTMLModel",
      "state": {
       "layout": "IPY_MODEL_3ace5a9533904b108228f295b8f51f8d",
       "style": "IPY_MODEL_b9c48a8553f548009b9ee22817d5070c",
       "value": " 0/631 [00:00&lt;?, ?it/s]"
      }
     },
     "3ace5a9533904b108228f295b8f51f8d": {
      "model_module": "@jupyter-widgets/base",
      "model_module_version": "2.0.0",
      "model_name": "LayoutModel",
      "state": {}
     },
     "43430d16bffc49d2bcbbe98667b41021": {
      "model_module": "@jupyter-widgets/controls",
      "model_module_version": "2.0.0",
      "model_name": "HBoxModel",
      "state": {
       "children": [
        "IPY_MODEL_e36d0e6da5814738a043bd2b8eb2a698",
        "IPY_MODEL_274b8d065e9f4669a418d0e2b5e524e3",
        "IPY_MODEL_2bb0f6685984415fbd680781a4fff760"
       ],
       "layout": "IPY_MODEL_b24b8df3c632450fb65fc6deca7eb671"
      }
     },
     "4d19b053e5524c5fb6e27bec84e42a66": {
      "model_module": "@jupyter-widgets/base",
      "model_module_version": "2.0.0",
      "model_name": "LayoutModel",
      "state": {}
     },
     "500c189750fa4ff0906507cbc61e21b9": {
      "model_module": "@jupyter-widgets/base",
      "model_module_version": "2.0.0",
      "model_name": "LayoutModel",
      "state": {}
     },
     "52f4b54438414df7b0c644168bc1c002": {
      "model_module": "@jupyter-widgets/base",
      "model_module_version": "2.0.0",
      "model_name": "LayoutModel",
      "state": {}
     },
     "530ecc4c8ddc4c669a2dfaeb85a6444e": {
      "model_module": "@jupyter-widgets/base",
      "model_module_version": "2.0.0",
      "model_name": "LayoutModel",
      "state": {}
     },
     "5894ba88bb0d4859bd64b09f36ab00d7": {
      "model_module": "@jupyter-widgets/base",
      "model_module_version": "2.0.0",
      "model_name": "LayoutModel",
      "state": {}
     },
     "5d75ef0f2950475b9453d97dce43f8c2": {
      "model_module": "@jupyter-widgets/controls",
      "model_module_version": "2.0.0",
      "model_name": "HTMLStyleModel",
      "state": {
       "description_width": "",
       "font_size": null,
       "text_color": null
      }
     },
     "6659c96db717440f978aa4dbab45c6b2": {
      "model_module": "@jupyter-widgets/base",
      "model_module_version": "2.0.0",
      "model_name": "LayoutModel",
      "state": {}
     },
     "6f15e8de8cd14f5996827aef6a8c6e96": {
      "model_module": "@jupyter-widgets/controls",
      "model_module_version": "2.0.0",
      "model_name": "HTMLModel",
      "state": {
       "layout": "IPY_MODEL_0f041f66f88c46b0b3726204933bcf8d",
       "style": "IPY_MODEL_e1c3ce9dc5e7481a8492a95c0b87b3f7",
       "value": "Files:   0%"
      }
     },
     "755b330a7ead49639e127561ffb662d6": {
      "model_module": "@jupyter-widgets/controls",
      "model_module_version": "2.0.0",
      "model_name": "ProgressStyleModel",
      "state": {
       "description_width": ""
      }
     },
     "788ed4ba2a4d470da82eea19535e87df": {
      "model_module": "@jupyter-widgets/base",
      "model_module_version": "2.0.0",
      "model_name": "LayoutModel",
      "state": {}
     },
     "7939ca0ee6a04088997bc863a5501234": {
      "model_module": "@jupyter-widgets/controls",
      "model_module_version": "2.0.0",
      "model_name": "HTMLModel",
      "state": {
       "layout": "IPY_MODEL_530ecc4c8ddc4c669a2dfaeb85a6444e",
       "style": "IPY_MODEL_c8dfa9ed3766458080e11f5ac7313046",
       "value": " 0/4 [00:00&lt;?, ?it/s]"
      }
     },
     "7a7877ada21f4f32b7bdc533acce0275": {
      "model_module": "@jupyter-widgets/controls",
      "model_module_version": "2.0.0",
      "model_name": "ProgressStyleModel",
      "state": {
       "description_width": ""
      }
     },
     "7bf532b01116438785340fccc011ca9b": {
      "model_module": "@jupyter-widgets/controls",
      "model_module_version": "2.0.0",
      "model_name": "HTMLStyleModel",
      "state": {
       "description_width": "",
       "font_size": null,
       "text_color": null
      }
     },
     "8078f69dcd584bd48f212e7e69462c31": {
      "model_module": "@jupyter-widgets/controls",
      "model_module_version": "2.0.0",
      "model_name": "HTMLModel",
      "state": {
       "layout": "IPY_MODEL_a20b391fc4964e788fcd3ad682ca7f68",
       "style": "IPY_MODEL_7bf532b01116438785340fccc011ca9b",
       "value": " 0/631 [00:00&lt;?, ?it/s]"
      }
     },
     "89b5eeb5cc5d4f9499f2a1252a730069": {
      "model_module": "@jupyter-widgets/controls",
      "model_module_version": "2.0.0",
      "model_name": "HTMLModel",
      "state": {
       "layout": "IPY_MODEL_8a2b08129f5645eb99d9f1674c8a578c",
       "style": "IPY_MODEL_5d75ef0f2950475b9453d97dce43f8c2",
       "value": "Groups:   0%"
      }
     },
     "8a2b08129f5645eb99d9f1674c8a578c": {
      "model_module": "@jupyter-widgets/base",
      "model_module_version": "2.0.0",
      "model_name": "LayoutModel",
      "state": {}
     },
     "a20b391fc4964e788fcd3ad682ca7f68": {
      "model_module": "@jupyter-widgets/base",
      "model_module_version": "2.0.0",
      "model_name": "LayoutModel",
      "state": {}
     },
     "a28f9787b6a74e28bf0e1f142d1a3716": {
      "model_module": "@jupyter-widgets/controls",
      "model_module_version": "2.0.0",
      "model_name": "HTMLStyleModel",
      "state": {
       "description_width": "",
       "font_size": null,
       "text_color": null
      }
     },
     "a635e1117db94263b0e641e100055182": {
      "model_module": "@jupyter-widgets/controls",
      "model_module_version": "2.0.0",
      "model_name": "ProgressStyleModel",
      "state": {
       "description_width": ""
      }
     },
     "acabc897e67b48e1b4e8fc40d2e9ace8": {
      "model_module": "@jupyter-widgets/controls",
      "model_module_version": "2.0.0",
      "model_name": "HTMLModel",
      "state": {
       "layout": "IPY_MODEL_1b594d226e7c4efca78bbb02ed66b2d0",
       "style": "IPY_MODEL_a28f9787b6a74e28bf0e1f142d1a3716",
       "value": "Groups:   0%"
      }
     },
     "b24b8df3c632450fb65fc6deca7eb671": {
      "model_module": "@jupyter-widgets/base",
      "model_module_version": "2.0.0",
      "model_name": "LayoutModel",
      "state": {}
     },
     "b9c48a8553f548009b9ee22817d5070c": {
      "model_module": "@jupyter-widgets/controls",
      "model_module_version": "2.0.0",
      "model_name": "HTMLStyleModel",
      "state": {
       "description_width": "",
       "font_size": null,
       "text_color": null
      }
     },
     "bff2e8129c3045e98875560987d3c36b": {
      "model_module": "@jupyter-widgets/controls",
      "model_module_version": "2.0.0",
      "model_name": "FloatProgressModel",
      "state": {
       "bar_style": "danger",
       "layout": "IPY_MODEL_500c189750fa4ff0906507cbc61e21b9",
       "max": 4,
       "style": "IPY_MODEL_7a7877ada21f4f32b7bdc533acce0275"
      }
     },
     "c756a140c1d34e228b5794fb84c63f63": {
      "model_module": "@jupyter-widgets/base",
      "model_module_version": "2.0.0",
      "model_name": "LayoutModel",
      "state": {}
     },
     "c8dfa9ed3766458080e11f5ac7313046": {
      "model_module": "@jupyter-widgets/controls",
      "model_module_version": "2.0.0",
      "model_name": "HTMLStyleModel",
      "state": {
       "description_width": "",
       "font_size": null,
       "text_color": null
      }
     },
     "caa142e40d1948369d1e27edf60e8075": {
      "model_module": "@jupyter-widgets/controls",
      "model_module_version": "2.0.0",
      "model_name": "HBoxModel",
      "state": {
       "children": [
        "IPY_MODEL_6f15e8de8cd14f5996827aef6a8c6e96",
        "IPY_MODEL_fea08a14d8264e56abb060941aecb769",
        "IPY_MODEL_8078f69dcd584bd48f212e7e69462c31"
       ],
       "layout": "IPY_MODEL_788ed4ba2a4d470da82eea19535e87df"
      }
     },
     "cc20a2dd91744b368c9d75025ee022ec": {
      "model_module": "@jupyter-widgets/controls",
      "model_module_version": "2.0.0",
      "model_name": "ProgressStyleModel",
      "state": {
       "description_width": ""
      }
     },
     "e1c3ce9dc5e7481a8492a95c0b87b3f7": {
      "model_module": "@jupyter-widgets/controls",
      "model_module_version": "2.0.0",
      "model_name": "HTMLStyleModel",
      "state": {
       "description_width": "",
       "font_size": null,
       "text_color": null
      }
     },
     "e36d0e6da5814738a043bd2b8eb2a698": {
      "model_module": "@jupyter-widgets/controls",
      "model_module_version": "2.0.0",
      "model_name": "HTMLModel",
      "state": {
       "layout": "IPY_MODEL_ed69baf734cb425e8f6ae58455b547af",
       "style": "IPY_MODEL_ef2671cb01b6466b9bc32b254113dec1",
       "value": "Files:   0%"
      }
     },
     "ea8f31c8ac9a4b11a4880299e57aa9d2": {
      "model_module": "@jupyter-widgets/controls",
      "model_module_version": "2.0.0",
      "model_name": "FloatProgressModel",
      "state": {
       "layout": "IPY_MODEL_fcab73af881d44b0af7b068fb947d1bb",
       "max": 4,
       "style": "IPY_MODEL_755b330a7ead49639e127561ffb662d6"
      }
     },
     "ed69baf734cb425e8f6ae58455b547af": {
      "model_module": "@jupyter-widgets/base",
      "model_module_version": "2.0.0",
      "model_name": "LayoutModel",
      "state": {}
     },
     "ef2671cb01b6466b9bc32b254113dec1": {
      "model_module": "@jupyter-widgets/controls",
      "model_module_version": "2.0.0",
      "model_name": "HTMLStyleModel",
      "state": {
       "description_width": "",
       "font_size": null,
       "text_color": null
      }
     },
     "f8ae760e413b4daaa7798a5c1cc5b814": {
      "model_module": "@jupyter-widgets/controls",
      "model_module_version": "2.0.0",
      "model_name": "HTMLModel",
      "state": {
       "layout": "IPY_MODEL_5894ba88bb0d4859bd64b09f36ab00d7",
       "style": "IPY_MODEL_121faa0988ae4bb0a91790b67846b58e",
       "value": " 0/4 [00:03&lt;?, ?it/s]"
      }
     },
     "fcab73af881d44b0af7b068fb947d1bb": {
      "model_module": "@jupyter-widgets/base",
      "model_module_version": "2.0.0",
      "model_name": "LayoutModel",
      "state": {}
     },
     "fea08a14d8264e56abb060941aecb769": {
      "model_module": "@jupyter-widgets/controls",
      "model_module_version": "2.0.0",
      "model_name": "FloatProgressModel",
      "state": {
       "bar_style": "danger",
       "layout": "IPY_MODEL_4d19b053e5524c5fb6e27bec84e42a66",
       "max": 631,
       "style": "IPY_MODEL_a635e1117db94263b0e641e100055182"
      }
     }
    },
    "version_major": 2,
    "version_minor": 0
   }
  }
 },
 "nbformat": 4,
 "nbformat_minor": 5
}
