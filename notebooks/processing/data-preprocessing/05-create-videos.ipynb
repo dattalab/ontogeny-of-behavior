{
 "cells": [
  {
   "cell_type": "markdown",
   "id": "0988fb3c-a8d4-4265-aeba-62e924626739",
   "metadata": {},
   "source": [
    "# Create videos to check the size norm results"
   ]
  },
  {
   "cell_type": "code",
   "execution_count": 1,
   "id": "6dfcc29b",
   "metadata": {},
   "outputs": [],
   "source": [
    "import h5py\n",
    "import random\n",
    "import numpy as np\n",
    "from tqdm.auto import tqdm\n",
    "from aging.video import write_movie_av\n",
    "from aging.organization.paths import FOLDERS"
   ]
  },
  {
   "cell_type": "code",
   "execution_count": 2,
   "id": "19573d05",
   "metadata": {},
   "outputs": [],
   "source": [
    "random.seed(0)"
   ]
  },
  {
   "cell_type": "code",
   "execution_count": 3,
   "id": "ec5dc845",
   "metadata": {},
   "outputs": [],
   "source": [
    "def load_and_write_movie(path, recon_key, n_frames=9_000):\n",
    "    try:\n",
    "        with h5py.File(path, 'r') as f:\n",
    "            frames = f[\"frames\"][:n_frames]\n",
    "            recon = f[recon_key][:n_frames].astype(\"uint8\")\n",
    "        concat = np.concatenate([frames, recon], axis=2)\n",
    "        write_movie_av(path.with_name(path.stem + f\"_{recon_key}.mp4\"), concat)\n",
    "    except (OSError, KeyError) as e:\n",
    "        print(path)\n",
    "        print(e)"
   ]
  },
  {
   "cell_type": "code",
   "execution_count": 4,
   "id": "a8d2f366",
   "metadata": {},
   "outputs": [
    {
     "data": {
      "text/plain": [
       "(PosixPath('/n/groups/datta/Dana/Ontogeny/raw_data/Ontogeny_females'),\n",
       " PosixPath('/n/groups/datta/Dana/Ontogeny/raw_data/Ontogeny_males'),\n",
       " PosixPath('/n/groups/datta/Dana/Ontogeny/raw_data/longtogeny_pre_unet/Males'),\n",
       " PosixPath('/n/groups/datta/min/longtogeny_072023/Males'),\n",
       " PosixPath('/n/groups/datta/min/longtogeny_072023/Females'),\n",
       " PosixPath('/n/groups/datta/min/wheel_062023'),\n",
       " PosixPath('/n/groups/datta/win/longtogeny/dlight'))"
      ]
     },
     "execution_count": 4,
     "metadata": {},
     "output_type": "execute_result"
    }
   ],
   "source": [
    "FOLDERS"
   ]
  },
  {
   "cell_type": "code",
   "execution_count": null,
   "id": "65c3551e",
   "metadata": {},
   "outputs": [
    {
     "name": "stdout",
     "output_type": "stream",
     "text": [
      "Writing movies for folder /n/groups/datta/win/longtogeny/dlight\n"
     ]
    },
    {
     "data": {
      "application/vnd.jupyter.widget-view+json": {
       "model_id": "f7ec6c2755d54650b1d7e28956b42711",
       "version_major": 2,
       "version_minor": 0
      },
      "text/plain": [
       "  0%|          | 0/174 [00:00<?, ?it/s]"
      ]
     },
     "metadata": {},
     "output_type": "display_data"
    },
    {
     "name": "stdout",
     "output_type": "stream",
     "text": [
      "Writing movies for folder /n/groups/datta/min/wheel_062023\n"
     ]
    },
    {
     "data": {
      "application/vnd.jupyter.widget-view+json": {
       "model_id": "aa9dbc1c6a1e44da83d95901de7c0496",
       "version_major": 2,
       "version_minor": 0
      },
      "text/plain": [
       "  0%|          | 0/906 [00:00<?, ?it/s]"
      ]
     },
     "metadata": {},
     "output_type": "display_data"
    }
   ],
   "source": [
    "recon_key = \"win_size_norm_frames_v6\"\n",
    "for folder in FOLDERS[::-1]:\n",
    "    print(\"Writing movies for folder\", str(folder))\n",
    "    files = list(folder.glob(\"**/results_00.h5\"))\n",
    "    random.shuffle(files)\n",
    "    for file in tqdm(files):\n",
    "        load_and_write_movie(file, recon_key)"
   ]
  },
  {
   "cell_type": "code",
   "execution_count": null,
   "id": "5d64b7b6",
   "metadata": {},
   "outputs": [],
   "source": []
  },
  {
   "cell_type": "code",
   "execution_count": null,
   "id": "fc5006b1-b954-4ff0-abf1-5e5c655a1722",
   "metadata": {},
   "outputs": [],
   "source": []
  }
 ],
 "metadata": {
  "kernelspec": {
   "display_name": "Python 3 (ipykernel)",
   "language": "python",
   "name": "python3"
  },
  "language_info": {
   "codemirror_mode": {
    "name": "ipython",
    "version": 3
   },
   "file_extension": ".py",
   "mimetype": "text/x-python",
   "name": "python",
   "nbconvert_exporter": "python",
   "pygments_lexer": "ipython3",
   "version": "3.10.10"
  },
  "widgets": {
   "application/vnd.jupyter.widget-state+json": {
    "state": {
     "007c07dbfd584ff7b5c59bd1ffcf1fee": {
      "model_module": "@jupyter-widgets/base",
      "model_module_version": "2.0.0",
      "model_name": "LayoutModel",
      "state": {}
     },
     "067c53999ad340edac9b3be640d30919": {
      "model_module": "@jupyter-widgets/base",
      "model_module_version": "2.0.0",
      "model_name": "LayoutModel",
      "state": {}
     },
     "0efa9f1ceb6e4916aa75ae28dd33917c": {
      "model_module": "@jupyter-widgets/controls",
      "model_module_version": "2.0.0",
      "model_name": "HTMLStyleModel",
      "state": {
       "description_width": "",
       "font_size": null,
       "text_color": null
      }
     },
     "300dbeddcd7548488f385d79f319ad7c": {
      "model_module": "@jupyter-widgets/controls",
      "model_module_version": "2.0.0",
      "model_name": "ProgressStyleModel",
      "state": {
       "description_width": ""
      }
     },
     "42043faa8fc34773b2945c9333d48f9f": {
      "model_module": "@jupyter-widgets/controls",
      "model_module_version": "2.0.0",
      "model_name": "FloatProgressModel",
      "state": {
       "layout": "IPY_MODEL_4d96cbaa5fb5465584e141a0bef4b8f6",
       "max": 906,
       "style": "IPY_MODEL_300dbeddcd7548488f385d79f319ad7c",
       "value": 2
      }
     },
     "4310422930404139951f9a6bbc23c82e": {
      "model_module": "@jupyter-widgets/controls",
      "model_module_version": "2.0.0",
      "model_name": "HTMLModel",
      "state": {
       "layout": "IPY_MODEL_45a8334a0a93422fa546db5cf0cf353e",
       "style": "IPY_MODEL_fe0fcb35b4e3480b8b9df2f0293296e2",
       "value": " 2/906 [00:47&lt;5:44:32, 22.87s/it]"
      }
     },
     "45a8334a0a93422fa546db5cf0cf353e": {
      "model_module": "@jupyter-widgets/base",
      "model_module_version": "2.0.0",
      "model_name": "LayoutModel",
      "state": {}
     },
     "4d96cbaa5fb5465584e141a0bef4b8f6": {
      "model_module": "@jupyter-widgets/base",
      "model_module_version": "2.0.0",
      "model_name": "LayoutModel",
      "state": {}
     },
     "57d766d99ded4dce80d8cca2918e5c87": {
      "model_module": "@jupyter-widgets/base",
      "model_module_version": "2.0.0",
      "model_name": "LayoutModel",
      "state": {}
     },
     "5d224c219f14492ea5781f59f2bf8000": {
      "model_module": "@jupyter-widgets/base",
      "model_module_version": "2.0.0",
      "model_name": "LayoutModel",
      "state": {}
     },
     "690e28385ac3489292bfb12b47598f20": {
      "model_module": "@jupyter-widgets/controls",
      "model_module_version": "2.0.0",
      "model_name": "HTMLStyleModel",
      "state": {
       "description_width": "",
       "font_size": null,
       "text_color": null
      }
     },
     "71d7afc6691d4cbdb0fef43d5c913d01": {
      "model_module": "@jupyter-widgets/base",
      "model_module_version": "2.0.0",
      "model_name": "LayoutModel",
      "state": {}
     },
     "79c57aea8dca47ab82fdc6b090ff8471": {
      "model_module": "@jupyter-widgets/controls",
      "model_module_version": "2.0.0",
      "model_name": "HTMLStyleModel",
      "state": {
       "description_width": "",
       "font_size": null,
       "text_color": null
      }
     },
     "7eb0321bd7aa48049432f42f4c1cfcd1": {
      "model_module": "@jupyter-widgets/controls",
      "model_module_version": "2.0.0",
      "model_name": "HTMLModel",
      "state": {
       "layout": "IPY_MODEL_067c53999ad340edac9b3be640d30919",
       "style": "IPY_MODEL_79c57aea8dca47ab82fdc6b090ff8471",
       "value": " 174/174 [53:56&lt;00:00, 20.08s/it]"
      }
     },
     "7f92d41d35fc47629accab91a40aeff2": {
      "model_module": "@jupyter-widgets/controls",
      "model_module_version": "2.0.0",
      "model_name": "HTMLModel",
      "state": {
       "layout": "IPY_MODEL_5d224c219f14492ea5781f59f2bf8000",
       "style": "IPY_MODEL_0efa9f1ceb6e4916aa75ae28dd33917c",
       "value": "100%"
      }
     },
     "aa9dbc1c6a1e44da83d95901de7c0496": {
      "model_module": "@jupyter-widgets/controls",
      "model_module_version": "2.0.0",
      "model_name": "HBoxModel",
      "state": {
       "children": [
        "IPY_MODEL_bdc6db897db64972940d62605a2112c4",
        "IPY_MODEL_42043faa8fc34773b2945c9333d48f9f",
        "IPY_MODEL_4310422930404139951f9a6bbc23c82e"
       ],
       "layout": "IPY_MODEL_007c07dbfd584ff7b5c59bd1ffcf1fee"
      }
     },
     "bdc6db897db64972940d62605a2112c4": {
      "model_module": "@jupyter-widgets/controls",
      "model_module_version": "2.0.0",
      "model_name": "HTMLModel",
      "state": {
       "layout": "IPY_MODEL_ca35ea536d7248d288a29c6e132599ce",
       "style": "IPY_MODEL_690e28385ac3489292bfb12b47598f20",
       "value": "  0%"
      }
     },
     "ca35ea536d7248d288a29c6e132599ce": {
      "model_module": "@jupyter-widgets/base",
      "model_module_version": "2.0.0",
      "model_name": "LayoutModel",
      "state": {}
     },
     "cb98a206b06042079cbc9a01c8a9e47d": {
      "model_module": "@jupyter-widgets/controls",
      "model_module_version": "2.0.0",
      "model_name": "ProgressStyleModel",
      "state": {
       "description_width": ""
      }
     },
     "d26a7428b1a449ca9174fe7eac8255f0": {
      "model_module": "@jupyter-widgets/controls",
      "model_module_version": "2.0.0",
      "model_name": "FloatProgressModel",
      "state": {
       "bar_style": "success",
       "layout": "IPY_MODEL_57d766d99ded4dce80d8cca2918e5c87",
       "max": 174,
       "style": "IPY_MODEL_cb98a206b06042079cbc9a01c8a9e47d",
       "value": 174
      }
     },
     "f7ec6c2755d54650b1d7e28956b42711": {
      "model_module": "@jupyter-widgets/controls",
      "model_module_version": "2.0.0",
      "model_name": "HBoxModel",
      "state": {
       "children": [
        "IPY_MODEL_7f92d41d35fc47629accab91a40aeff2",
        "IPY_MODEL_d26a7428b1a449ca9174fe7eac8255f0",
        "IPY_MODEL_7eb0321bd7aa48049432f42f4c1cfcd1"
       ],
       "layout": "IPY_MODEL_71d7afc6691d4cbdb0fef43d5c913d01"
      }
     },
     "fe0fcb35b4e3480b8b9df2f0293296e2": {
      "model_module": "@jupyter-widgets/controls",
      "model_module_version": "2.0.0",
      "model_name": "HTMLStyleModel",
      "state": {
       "description_width": "",
       "font_size": null,
       "text_color": null
      }
     }
    },
    "version_major": 2,
    "version_minor": 0
   }
  }
 },
 "nbformat": 4,
 "nbformat_minor": 5
}
