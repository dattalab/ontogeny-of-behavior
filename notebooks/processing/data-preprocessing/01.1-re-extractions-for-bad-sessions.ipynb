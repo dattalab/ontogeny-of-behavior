{
 "cells": [
  {
   "cell_type": "markdown",
   "id": "6ddd0b1d-0b87-4f29-aa87-1a1081d88294",
   "metadata": {},
   "source": [
    "# Fix extractions for the older mice in the ontogeny dataset"
   ]
  },
  {
   "cell_type": "code",
   "execution_count": 1,
   "id": "33e9713d-5431-4bef-a585-3481d6508229",
   "metadata": {
    "tags": []
   },
   "outputs": [],
   "source": [
    "import os\n",
    "import h5py\n",
    "from pathlib import Path\n",
    "from toolz import concat, compose, curry\n",
    "from ruamel import yaml\n",
    "from tqdm.auto import tqdm\n",
    "from aging.organization.paths import FOLDERS"
   ]
  },
  {
   "cell_type": "code",
   "execution_count": 2,
   "id": "1a745bd2-bcee-423b-86d1-7bcd4b294955",
   "metadata": {
    "tags": []
   },
   "outputs": [],
   "source": [
    "user = os.environ['USER']"
   ]
  },
  {
   "cell_type": "code",
   "execution_count": 13,
   "id": "21e5d4e7-07e1-4a5e-84cd-516fabd8e97c",
   "metadata": {
    "tags": []
   },
   "outputs": [],
   "source": [
    "script = '''#!/bin/env bash\n",
    "#SBATCH -c 1\n",
    "#SBATCH -n 1\n",
    "#SBATCH --mem=10G\n",
    "#SBATCH -p short\n",
    "#SBATCH -t 00:40:00\n",
    "#SBATCH --output=/n/scratch3/users/{user_pth}/tmp/ontogeny/depth-extraction-%j.out\n",
    "\n",
    "source $HOME/.bashrc\n",
    "conda activate moseq2-app\n",
    "moseq2-extract extract \"{file_path}\" --config-file \"/n/groups/datta/win/longtogeny/data/extractions/old_mouse_config.yaml\" --output-dir \"proc_cleaned\"\n",
    "'''"
   ]
  },
  {
   "cell_type": "code",
   "execution_count": 4,
   "id": "e24478d9-ca29-40e8-91e6-70fca76f8d3e",
   "metadata": {
    "tags": []
   },
   "outputs": [],
   "source": [
    "def not_extracted(file):\n",
    "    if file.name.endswith('filepart'):\n",
    "        return False\n",
    "\n",
    "    if extracted := (file.parent / \"proc\" / \"results_00.h5\").exists():\n",
    "        try:\n",
    "            with h5py.File(file.parent / \"proc\" / \"results_00.h5\", \"r\") as h5f:\n",
    "                list(h5f)\n",
    "        except Exception as e:\n",
    "            print(e)\n",
    "            return True\n",
    "        with open(file.parent / \"proc\" / \"results_00.yaml\", \"r\") as conf_f:\n",
    "            config = yaml.safe_load(conf_f)\n",
    "        extracted = config[\"complete\"]\n",
    "    # TODO: make sure extraction is newer than 5/30/2023\n",
    "    return not extracted\n",
    "\n",
    "\n",
    "def no_depth_doubles(file):\n",
    "    return not (file.name.endswith(\"avi\") and file.with_suffix(\".dat\").exists())\n",
    "\n",
    "\n",
    "def multi_filter(*filters, seq):\n",
    "    return compose(*(curry(filter)(f) for f in filters))(seq)"
   ]
  },
  {
   "cell_type": "code",
   "execution_count": 5,
   "id": "240806f9-05cd-4fea-8a1d-cfc5e9064fcc",
   "metadata": {
    "tags": []
   },
   "outputs": [],
   "source": [
    "# first round, re-extract everything using my moseq config file\n",
    "# second round, only extract non-extracted data or incomplete extractions\n",
    "# files = list(concat(f.glob('**/depth.*') for f in folders))"
   ]
  },
  {
   "cell_type": "code",
   "execution_count": 9,
   "id": "c3601c76-6dcb-46d9-b6fd-b7ccdb5fd5ce",
   "metadata": {
    "tags": []
   },
   "outputs": [],
   "source": [
    "# step 1: ontogeny male files\n",
    "files = sorted(multi_filter(no_depth_doubles, seq=concat(f.glob('**/depth.*') for f in FOLDERS[1:2])))"
   ]
  },
  {
   "cell_type": "code",
   "execution_count": 11,
   "id": "c8546e52-557f-46b4-b288-9afa4ae18878",
   "metadata": {
    "tags": []
   },
   "outputs": [],
   "source": [
    "month_18 = [f for f in files if '18mon' in str(f)]"
   ]
  },
  {
   "cell_type": "code",
   "execution_count": 14,
   "id": "158e990b-bc5d-4f07-ada5-5332091aff82",
   "metadata": {
    "tags": []
   },
   "outputs": [
    {
     "data": {
      "application/vnd.jupyter.widget-view+json": {
       "model_id": "5a0b97e97e4d42cfa96ccec97f7be974",
       "version_major": 2,
       "version_minor": 0
      },
      "text/plain": [
       "  0%|          | 0/27 [00:00<?, ?it/s]"
      ]
     },
     "metadata": {},
     "output_type": "display_data"
    },
    {
     "name": "stdout",
     "output_type": "stream",
     "text": [
      "extracting: /n/groups/datta/Dana/Ontogeny/raw_data/Ontogeny_males/18months_29042021/session_20210429093852/depth.avi\n",
      "Submitted batch job 18607353\n",
      "extracting: /n/groups/datta/Dana/Ontogeny/raw_data/Ontogeny_males/18months_29042021/session_20210429094029/depth.avi\n",
      "Submitted batch job 18607354\n",
      "extracting: /n/groups/datta/Dana/Ontogeny/raw_data/Ontogeny_males/18months_29042021/session_20210429094121/depth.avi\n",
      "Submitted batch job 18607355\n",
      "extracting: /n/groups/datta/Dana/Ontogeny/raw_data/Ontogeny_males/18months_29042021/session_20210429094215/depth.avi\n",
      "Submitted batch job 18607356\n",
      "extracting: /n/groups/datta/Dana/Ontogeny/raw_data/Ontogeny_males/18months_29042021/session_20210429104908/depth.avi\n",
      "Submitted batch job 18607357\n",
      "extracting: /n/groups/datta/Dana/Ontogeny/raw_data/Ontogeny_males/18months_29042021/session_20210429104919/depth.avi\n",
      "Submitted batch job 18607358\n",
      "extracting: /n/groups/datta/Dana/Ontogeny/raw_data/Ontogeny_males/18months_29042021/session_20210429104926/depth.avi\n",
      "Submitted batch job 18607359\n",
      "extracting: /n/groups/datta/Dana/Ontogeny/raw_data/Ontogeny_males/18months_29042021/session_20210429104935/depth.avi\n",
      "Submitted batch job 18607360\n",
      "extracting: /n/groups/datta/Dana/Ontogeny/raw_data/Ontogeny_males/18months_29042021/session_20210429114007/depth.avi\n",
      "Submitted batch job 18607361\n",
      "extracting: /n/groups/datta/Dana/Ontogeny/raw_data/Ontogeny_males/18months_29042021/session_20210429114019/depth.avi\n",
      "Submitted batch job 18607362\n",
      "extracting: /n/groups/datta/Dana/Ontogeny/raw_data/Ontogeny_males/18months_29042021/session_20210429114027/depth.avi\n",
      "Submitted batch job 18607363\n",
      "extracting: /n/groups/datta/Dana/Ontogeny/raw_data/Ontogeny_males/18months_29042021/session_20210429114036/depth.avi\n",
      "Submitted batch job 18607364\n",
      "extracting: /n/groups/datta/Dana/Ontogeny/raw_data/Ontogeny_males/18months_29042021/session_20210429122136/depth.avi\n",
      "Submitted batch job 18607365\n",
      "extracting: /n/groups/datta/Dana/Ontogeny/raw_data/Ontogeny_males/18months_29042021/session_20210429122146/depth.avi\n",
      "Submitted batch job 18607366\n",
      "extracting: /n/groups/datta/Dana/Ontogeny/raw_data/Ontogeny_males/18months_29042021/session_20210429122154/depth.avi\n",
      "Submitted batch job 18607367\n",
      "extracting: /n/groups/datta/Dana/Ontogeny/raw_data/Ontogeny_males/18months_29042021/session_20210429122204/depth.avi\n",
      "Submitted batch job 18607368\n",
      "extracting: /n/groups/datta/Dana/Ontogeny/raw_data/Ontogeny_males/18months_29042021/session_20210429130503/depth.avi\n",
      "Submitted batch job 18607369\n",
      "extracting: /n/groups/datta/Dana/Ontogeny/raw_data/Ontogeny_males/18months_29042021/session_20210429130513/depth.avi\n",
      "Submitted batch job 18607370\n",
      "extracting: /n/groups/datta/Dana/Ontogeny/raw_data/Ontogeny_males/18months_29042021/session_20210429130522/depth.avi\n",
      "Submitted batch job 18607371\n",
      "extracting: /n/groups/datta/Dana/Ontogeny/raw_data/Ontogeny_males/18months_29042021/session_20210429130532/depth.avi\n",
      "Submitted batch job 18607372\n",
      "extracting: /n/groups/datta/Dana/Ontogeny/raw_data/Ontogeny_males/18months_29042021/session_20210429134918/depth.avi\n",
      "Submitted batch job 18607373\n",
      "extracting: /n/groups/datta/Dana/Ontogeny/raw_data/Ontogeny_males/18months_29042021/session_20210429134930/depth.avi\n",
      "Submitted batch job 18607374\n",
      "extracting: /n/groups/datta/Dana/Ontogeny/raw_data/Ontogeny_males/18months_29042021/session_20210429134939/depth.avi\n",
      "Submitted batch job 18607375\n",
      "extracting: /n/groups/datta/Dana/Ontogeny/raw_data/Ontogeny_males/18months_29042021/session_20210429134948/depth.avi\n",
      "Submitted batch job 18607376\n",
      "extracting: /n/groups/datta/Dana/Ontogeny/raw_data/Ontogeny_males/18months_29042021/session_20230615125816/depth.avi\n",
      "Submitted batch job 18607377\n",
      "extracting: /n/groups/datta/Dana/Ontogeny/raw_data/Ontogeny_males/18months_29042021/session_20230615125823/depth.avi\n",
      "Submitted batch job 18607378\n",
      "extracting: /n/groups/datta/Dana/Ontogeny/raw_data/Ontogeny_males/18months_29042021/session_20230615130626/depth.avi\n",
      "Submitted batch job 18607379\n"
     ]
    }
   ],
   "source": [
    "for f in tqdm(month_18):\n",
    "    new_script = script.format(\n",
    "        user_pth=f\"{user[0]}/{user}\", file_path=str(f.absolute())\n",
    "    )\n",
    "    with open(\"tmp.sh\", \"w\") as f:\n",
    "        f.write(new_script)\n",
    "\n",
    "    !sbatch tmp.sh\n",
    "!rm tmp.sh"
   ]
  },
  {
   "cell_type": "code",
   "execution_count": 15,
   "id": "ee75e1c7-b526-4525-a25c-c05acd8ff891",
   "metadata": {
    "tags": []
   },
   "outputs": [],
   "source": [
    "month_12 = [f for f in files if '12mon' in str(f)]"
   ]
  },
  {
   "cell_type": "code",
   "execution_count": 16,
   "id": "f17090e2-98ef-40b4-8fb8-15b50c1c86c4",
   "metadata": {
    "tags": []
   },
   "outputs": [
    {
     "data": {
      "application/vnd.jupyter.widget-view+json": {
       "model_id": "2b173f5c72b74bbcb1f82496fc44a47b",
       "version_major": 2,
       "version_minor": 0
      },
      "text/plain": [
       "  0%|          | 0/26 [00:00<?, ?it/s]"
      ]
     },
     "metadata": {},
     "output_type": "display_data"
    },
    {
     "name": "stdout",
     "output_type": "stream",
     "text": [
      "Submitted batch job 18607407\n",
      "Submitted batch job 18607408\n",
      "Submitted batch job 18607409\n",
      "Submitted batch job 18607410\n",
      "Submitted batch job 18607411\n",
      "Submitted batch job 18607412\n",
      "Submitted batch job 18607413\n",
      "Submitted batch job 18607414\n",
      "Submitted batch job 18607415\n",
      "Submitted batch job 18607416\n",
      "Submitted batch job 18607417\n",
      "Submitted batch job 18607418\n",
      "Submitted batch job 18607419\n",
      "Submitted batch job 18607420\n",
      "Submitted batch job 18607421\n",
      "Submitted batch job 18607422\n",
      "Submitted batch job 18607423\n",
      "Submitted batch job 18607424\n",
      "Submitted batch job 18607425\n",
      "Submitted batch job 18607426\n",
      "Submitted batch job 18607427\n",
      "Submitted batch job 18607428\n",
      "Submitted batch job 18607429\n",
      "Submitted batch job 18607430\n",
      "Submitted batch job 18607431\n",
      "Submitted batch job 18607432\n"
     ]
    }
   ],
   "source": [
    "for f in tqdm(month_12):\n",
    "    new_script = script.format(\n",
    "        user_pth=f\"{user[0]}/{user}\", file_path=str(f.absolute())\n",
    "    )\n",
    "    with open(\"tmp.sh\", \"w\") as f:\n",
    "        f.write(new_script)\n",
    "\n",
    "    !sbatch tmp.sh\n",
    "!rm tmp.sh"
   ]
  },
  {
   "cell_type": "code",
   "execution_count": null,
   "id": "ae2165ed-9609-441c-954b-290c277d5d9e",
   "metadata": {},
   "outputs": [],
   "source": []
  }
 ],
 "metadata": {
  "kernelspec": {
   "display_name": "Ontogeny",
   "language": "python",
   "name": "aging"
  },
  "language_info": {
   "codemirror_mode": {
    "name": "ipython",
    "version": 3
   },
   "file_extension": ".py",
   "mimetype": "text/x-python",
   "name": "python",
   "nbconvert_exporter": "python",
   "pygments_lexer": "ipython3",
   "version": "3.10.10"
  },
  "widgets": {
   "application/vnd.jupyter.widget-state+json": {
    "state": {
     "0257b265faab47079947666a720fd509": {
      "model_module": "@jupyter-widgets/base",
      "model_module_version": "2.0.0",
      "model_name": "LayoutModel",
      "state": {}
     },
     "1175cd9d7c6d41e4ab6a79ad2d2228c3": {
      "model_module": "@jupyter-widgets/base",
      "model_module_version": "2.0.0",
      "model_name": "LayoutModel",
      "state": {}
     },
     "28292e50ff024f91ad2384f6d831b1f0": {
      "model_module": "@jupyter-widgets/controls",
      "model_module_version": "2.0.0",
      "model_name": "HTMLModel",
      "state": {
       "layout": "IPY_MODEL_1175cd9d7c6d41e4ab6a79ad2d2228c3",
       "style": "IPY_MODEL_8b82788564e247a699bc1bc3bb6aba28",
       "value": "100%"
      }
     },
     "29d052fca23b4fc98022580d17728d1c": {
      "model_module": "@jupyter-widgets/base",
      "model_module_version": "2.0.0",
      "model_name": "LayoutModel",
      "state": {}
     },
     "2b173f5c72b74bbcb1f82496fc44a47b": {
      "model_module": "@jupyter-widgets/controls",
      "model_module_version": "2.0.0",
      "model_name": "HBoxModel",
      "state": {
       "children": [
        "IPY_MODEL_f06ddf744c1b486a99e0cc538eac4eb9",
        "IPY_MODEL_89fb2884166c45fb8aa676e059496da0",
        "IPY_MODEL_ae75d186af0547329c038455957b6f10"
       ],
       "layout": "IPY_MODEL_38a9172600f0412e8b674ea1202163b7"
      }
     },
     "3858c87edfd44a648716fb659f4049cc": {
      "model_module": "@jupyter-widgets/controls",
      "model_module_version": "2.0.0",
      "model_name": "HTMLStyleModel",
      "state": {
       "description_width": "",
       "font_size": null,
       "text_color": null
      }
     },
     "38a9172600f0412e8b674ea1202163b7": {
      "model_module": "@jupyter-widgets/base",
      "model_module_version": "2.0.0",
      "model_name": "LayoutModel",
      "state": {}
     },
     "3bd41412f9df4ef3a0597bd2b5d3a432": {
      "model_module": "@jupyter-widgets/base",
      "model_module_version": "2.0.0",
      "model_name": "LayoutModel",
      "state": {}
     },
     "445cbb52e4c8460b96964f787e1832c7": {
      "model_module": "@jupyter-widgets/controls",
      "model_module_version": "2.0.0",
      "model_name": "HTMLStyleModel",
      "state": {
       "description_width": "",
       "font_size": null,
       "text_color": null
      }
     },
     "48ddfeae32a141058044d6779a8c5563": {
      "model_module": "@jupyter-widgets/controls",
      "model_module_version": "2.0.0",
      "model_name": "FloatProgressModel",
      "state": {
       "bar_style": "success",
       "layout": "IPY_MODEL_c8818c567f834659a54fd0c0eaabc0ab",
       "max": 27,
       "style": "IPY_MODEL_9e442da354014c60bc496cf9fbd32b0b",
       "value": 27
      }
     },
     "5a0b97e97e4d42cfa96ccec97f7be974": {
      "model_module": "@jupyter-widgets/controls",
      "model_module_version": "2.0.0",
      "model_name": "HBoxModel",
      "state": {
       "children": [
        "IPY_MODEL_28292e50ff024f91ad2384f6d831b1f0",
        "IPY_MODEL_48ddfeae32a141058044d6779a8c5563",
        "IPY_MODEL_edf9a3f2033e4754adc1e4e5a5f5031c"
       ],
       "layout": "IPY_MODEL_3bd41412f9df4ef3a0597bd2b5d3a432"
      }
     },
     "5a5d7b150dce42eb9404aa47d8edb955": {
      "model_module": "@jupyter-widgets/controls",
      "model_module_version": "2.0.0",
      "model_name": "HTMLStyleModel",
      "state": {
       "description_width": "",
       "font_size": null,
       "text_color": null
      }
     },
     "89fb2884166c45fb8aa676e059496da0": {
      "model_module": "@jupyter-widgets/controls",
      "model_module_version": "2.0.0",
      "model_name": "FloatProgressModel",
      "state": {
       "bar_style": "success",
       "layout": "IPY_MODEL_ae2442a490f44acfa76e4fc1cb8b3dda",
       "max": 26,
       "style": "IPY_MODEL_c86375decf894b12918eb6935dd351e1",
       "value": 26
      }
     },
     "8b82788564e247a699bc1bc3bb6aba28": {
      "model_module": "@jupyter-widgets/controls",
      "model_module_version": "2.0.0",
      "model_name": "HTMLStyleModel",
      "state": {
       "description_width": "",
       "font_size": null,
       "text_color": null
      }
     },
     "9e442da354014c60bc496cf9fbd32b0b": {
      "model_module": "@jupyter-widgets/controls",
      "model_module_version": "2.0.0",
      "model_name": "ProgressStyleModel",
      "state": {
       "description_width": ""
      }
     },
     "ae2442a490f44acfa76e4fc1cb8b3dda": {
      "model_module": "@jupyter-widgets/base",
      "model_module_version": "2.0.0",
      "model_name": "LayoutModel",
      "state": {}
     },
     "ae75d186af0547329c038455957b6f10": {
      "model_module": "@jupyter-widgets/controls",
      "model_module_version": "2.0.0",
      "model_name": "HTMLModel",
      "state": {
       "layout": "IPY_MODEL_f4fe41bc72694ff585f3228c88f24a2f",
       "style": "IPY_MODEL_5a5d7b150dce42eb9404aa47d8edb955",
       "value": " 26/26 [00:05&lt;00:00,  4.21it/s]"
      }
     },
     "c86375decf894b12918eb6935dd351e1": {
      "model_module": "@jupyter-widgets/controls",
      "model_module_version": "2.0.0",
      "model_name": "ProgressStyleModel",
      "state": {
       "description_width": ""
      }
     },
     "c8818c567f834659a54fd0c0eaabc0ab": {
      "model_module": "@jupyter-widgets/base",
      "model_module_version": "2.0.0",
      "model_name": "LayoutModel",
      "state": {}
     },
     "edf9a3f2033e4754adc1e4e5a5f5031c": {
      "model_module": "@jupyter-widgets/controls",
      "model_module_version": "2.0.0",
      "model_name": "HTMLModel",
      "state": {
       "layout": "IPY_MODEL_29d052fca23b4fc98022580d17728d1c",
       "style": "IPY_MODEL_445cbb52e4c8460b96964f787e1832c7",
       "value": " 27/27 [00:14&lt;00:00,  4.48it/s]"
      }
     },
     "f06ddf744c1b486a99e0cc538eac4eb9": {
      "model_module": "@jupyter-widgets/controls",
      "model_module_version": "2.0.0",
      "model_name": "HTMLModel",
      "state": {
       "layout": "IPY_MODEL_0257b265faab47079947666a720fd509",
       "style": "IPY_MODEL_3858c87edfd44a648716fb659f4049cc",
       "value": "100%"
      }
     },
     "f4fe41bc72694ff585f3228c88f24a2f": {
      "model_module": "@jupyter-widgets/base",
      "model_module_version": "2.0.0",
      "model_name": "LayoutModel",
      "state": {}
     }
    },
    "version_major": 2,
    "version_minor": 0
   }
  }
 },
 "nbformat": 4,
 "nbformat_minor": 5
}
