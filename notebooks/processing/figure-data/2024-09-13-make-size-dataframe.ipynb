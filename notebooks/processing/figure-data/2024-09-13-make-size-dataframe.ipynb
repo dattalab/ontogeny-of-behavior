{
 "cells": [
  {
   "cell_type": "markdown",
   "metadata": {},
   "source": [
    "# Make dataframe with distribution of sizes"
   ]
  },
  {
   "cell_type": "code",
   "execution_count": 1,
   "metadata": {},
   "outputs": [],
   "source": [
    "import polars as pl\n",
    "import numpy as np"
   ]
  },
  {
   "cell_type": "markdown",
   "metadata": {},
   "source": [
    "# Version 11-1"
   ]
  },
  {
   "cell_type": "code",
   "execution_count": 2,
   "metadata": {},
   "outputs": [],
   "source": [
    "version = 0"
   ]
  },
  {
   "cell_type": "markdown",
   "metadata": {},
   "source": [
    "## Ontogeny males"
   ]
  },
  {
   "cell_type": "code",
   "execution_count": 3,
   "metadata": {},
   "outputs": [],
   "source": [
    "df = pl.scan_parquet(f'/n/groups/datta/win/longtogeny/data/ontogeny/version_11-1/ontogeny_males_syllable_df_v{version:02d}.parquet')"
   ]
  },
  {
   "cell_type": "code",
   "execution_count": 4,
   "metadata": {},
   "outputs": [],
   "source": [
    "gb_list = ['age', 'mouse', 'subject_name', 'session_name', 'uuid', 'date']"
   ]
  },
  {
   "cell_type": "code",
   "execution_count": 5,
   "metadata": {},
   "outputs": [],
   "source": [
    "sizes = df.group_by(gb_list, maintain_order=True).agg(\n",
    "    *[\n",
    "        pl.col(\"area_px\").quantile(x).alias(f\"quant_{x:0.1f}\")\n",
    "        for x in np.arange(0.1, 1, 0.1)\n",
    "    ]\n",
    ")\n",
    "\n",
    "sizes = sizes.collect()\n",
    "sizes = sizes.to_pandas().set_index(gb_list)"
   ]
  },
  {
   "cell_type": "code",
   "execution_count": 6,
   "metadata": {},
   "outputs": [
    {
     "data": {
      "text/html": [
       "<div>\n",
       "<style scoped>\n",
       "    .dataframe tbody tr th:only-of-type {\n",
       "        vertical-align: middle;\n",
       "    }\n",
       "\n",
       "    .dataframe tbody tr th {\n",
       "        vertical-align: top;\n",
       "    }\n",
       "\n",
       "    .dataframe thead th {\n",
       "        text-align: right;\n",
       "    }\n",
       "</style>\n",
       "<table border=\"1\" class=\"dataframe\">\n",
       "  <thead>\n",
       "    <tr style=\"text-align: right;\">\n",
       "      <th></th>\n",
       "      <th></th>\n",
       "      <th></th>\n",
       "      <th></th>\n",
       "      <th></th>\n",
       "      <th></th>\n",
       "      <th>quant_0.1</th>\n",
       "      <th>quant_0.2</th>\n",
       "      <th>quant_0.3</th>\n",
       "      <th>quant_0.4</th>\n",
       "      <th>quant_0.5</th>\n",
       "      <th>quant_0.6</th>\n",
       "      <th>quant_0.7</th>\n",
       "      <th>quant_0.8</th>\n",
       "      <th>quant_0.9</th>\n",
       "    </tr>\n",
       "    <tr>\n",
       "      <th>age</th>\n",
       "      <th>mouse</th>\n",
       "      <th>subject_name</th>\n",
       "      <th>session_name</th>\n",
       "      <th>uuid</th>\n",
       "      <th>date</th>\n",
       "      <th></th>\n",
       "      <th></th>\n",
       "      <th></th>\n",
       "      <th></th>\n",
       "      <th></th>\n",
       "      <th></th>\n",
       "      <th></th>\n",
       "      <th></th>\n",
       "      <th></th>\n",
       "    </tr>\n",
       "  </thead>\n",
       "  <tbody>\n",
       "    <tr>\n",
       "      <th rowspan=\"5\" valign=\"top\">12</th>\n",
       "      <th>12M_03_04</th>\n",
       "      <th>12M_03_04</th>\n",
       "      <th>otgy_12M_03</th>\n",
       "      <th>9a31dbce-3b20-4259-b739-4ad588dae695</th>\n",
       "      <th>2023-12-02 13:34:37</th>\n",
       "      <td>433.0</td>\n",
       "      <td>445.0</td>\n",
       "      <td>459.0</td>\n",
       "      <td>474.0</td>\n",
       "      <td>490.0</td>\n",
       "      <td>509.0</td>\n",
       "      <td>529.0</td>\n",
       "      <td>554.0</td>\n",
       "      <td>591.0</td>\n",
       "    </tr>\n",
       "    <tr>\n",
       "      <th>12M_01_02</th>\n",
       "      <th>12M_01_02</th>\n",
       "      <th>otgy_12M_01</th>\n",
       "      <th>f806e260-8337-4692-92c5-df8060bdefb6</th>\n",
       "      <th>2023-12-02 09:28:18</th>\n",
       "      <td>430.0</td>\n",
       "      <td>447.0</td>\n",
       "      <td>460.0</td>\n",
       "      <td>471.0</td>\n",
       "      <td>484.0</td>\n",
       "      <td>498.0</td>\n",
       "      <td>514.0</td>\n",
       "      <td>537.0</td>\n",
       "      <td>572.0</td>\n",
       "    </tr>\n",
       "    <tr>\n",
       "      <th>12M_02_04</th>\n",
       "      <th>12M_02_04</th>\n",
       "      <th>otgy_12M_02</th>\n",
       "      <th>6ab00a19-d9b7-424e-9f5a-2490312392e5</th>\n",
       "      <th>2023-12-02 11:31:56</th>\n",
       "      <td>396.0</td>\n",
       "      <td>413.0</td>\n",
       "      <td>427.0</td>\n",
       "      <td>442.0</td>\n",
       "      <td>456.0</td>\n",
       "      <td>472.0</td>\n",
       "      <td>490.0</td>\n",
       "      <td>511.0</td>\n",
       "      <td>541.0</td>\n",
       "    </tr>\n",
       "    <tr>\n",
       "      <th>12M_04_04</th>\n",
       "      <th>12M_04_04</th>\n",
       "      <th>otgy_12M_04</th>\n",
       "      <th>f3fec3a3-326a-49cd-9c97-c2ae5feda502</th>\n",
       "      <th>2023-12-02 15:35:39</th>\n",
       "      <td>436.0</td>\n",
       "      <td>463.0</td>\n",
       "      <td>483.0</td>\n",
       "      <td>501.0</td>\n",
       "      <td>517.0</td>\n",
       "      <td>534.0</td>\n",
       "      <td>552.0</td>\n",
       "      <td>574.0</td>\n",
       "      <td>607.0</td>\n",
       "    </tr>\n",
       "    <tr>\n",
       "      <th>12M_03_01</th>\n",
       "      <th>12M_03_01</th>\n",
       "      <th>otgy_12M_03</th>\n",
       "      <th>ae668e1f-2399-42e6-9ff6-0a359890bdcb</th>\n",
       "      <th>2023-12-02 16:33:34</th>\n",
       "      <td>418.0</td>\n",
       "      <td>434.0</td>\n",
       "      <td>447.0</td>\n",
       "      <td>460.0</td>\n",
       "      <td>472.0</td>\n",
       "      <td>486.0</td>\n",
       "      <td>502.0</td>\n",
       "      <td>522.0</td>\n",
       "      <td>552.0</td>\n",
       "    </tr>\n",
       "  </tbody>\n",
       "</table>\n",
       "</div>"
      ],
      "text/plain": [
       "                                                                                                  quant_0.1  \\\n",
       "age mouse     subject_name session_name uuid                                 date                             \n",
       "12  12M_03_04 12M_03_04    otgy_12M_03  9a31dbce-3b20-4259-b739-4ad588dae695 2023-12-02 13:34:37      433.0   \n",
       "    12M_01_02 12M_01_02    otgy_12M_01  f806e260-8337-4692-92c5-df8060bdefb6 2023-12-02 09:28:18      430.0   \n",
       "    12M_02_04 12M_02_04    otgy_12M_02  6ab00a19-d9b7-424e-9f5a-2490312392e5 2023-12-02 11:31:56      396.0   \n",
       "    12M_04_04 12M_04_04    otgy_12M_04  f3fec3a3-326a-49cd-9c97-c2ae5feda502 2023-12-02 15:35:39      436.0   \n",
       "    12M_03_01 12M_03_01    otgy_12M_03  ae668e1f-2399-42e6-9ff6-0a359890bdcb 2023-12-02 16:33:34      418.0   \n",
       "\n",
       "                                                                                                  quant_0.2  \\\n",
       "age mouse     subject_name session_name uuid                                 date                             \n",
       "12  12M_03_04 12M_03_04    otgy_12M_03  9a31dbce-3b20-4259-b739-4ad588dae695 2023-12-02 13:34:37      445.0   \n",
       "    12M_01_02 12M_01_02    otgy_12M_01  f806e260-8337-4692-92c5-df8060bdefb6 2023-12-02 09:28:18      447.0   \n",
       "    12M_02_04 12M_02_04    otgy_12M_02  6ab00a19-d9b7-424e-9f5a-2490312392e5 2023-12-02 11:31:56      413.0   \n",
       "    12M_04_04 12M_04_04    otgy_12M_04  f3fec3a3-326a-49cd-9c97-c2ae5feda502 2023-12-02 15:35:39      463.0   \n",
       "    12M_03_01 12M_03_01    otgy_12M_03  ae668e1f-2399-42e6-9ff6-0a359890bdcb 2023-12-02 16:33:34      434.0   \n",
       "\n",
       "                                                                                                  quant_0.3  \\\n",
       "age mouse     subject_name session_name uuid                                 date                             \n",
       "12  12M_03_04 12M_03_04    otgy_12M_03  9a31dbce-3b20-4259-b739-4ad588dae695 2023-12-02 13:34:37      459.0   \n",
       "    12M_01_02 12M_01_02    otgy_12M_01  f806e260-8337-4692-92c5-df8060bdefb6 2023-12-02 09:28:18      460.0   \n",
       "    12M_02_04 12M_02_04    otgy_12M_02  6ab00a19-d9b7-424e-9f5a-2490312392e5 2023-12-02 11:31:56      427.0   \n",
       "    12M_04_04 12M_04_04    otgy_12M_04  f3fec3a3-326a-49cd-9c97-c2ae5feda502 2023-12-02 15:35:39      483.0   \n",
       "    12M_03_01 12M_03_01    otgy_12M_03  ae668e1f-2399-42e6-9ff6-0a359890bdcb 2023-12-02 16:33:34      447.0   \n",
       "\n",
       "                                                                                                  quant_0.4  \\\n",
       "age mouse     subject_name session_name uuid                                 date                             \n",
       "12  12M_03_04 12M_03_04    otgy_12M_03  9a31dbce-3b20-4259-b739-4ad588dae695 2023-12-02 13:34:37      474.0   \n",
       "    12M_01_02 12M_01_02    otgy_12M_01  f806e260-8337-4692-92c5-df8060bdefb6 2023-12-02 09:28:18      471.0   \n",
       "    12M_02_04 12M_02_04    otgy_12M_02  6ab00a19-d9b7-424e-9f5a-2490312392e5 2023-12-02 11:31:56      442.0   \n",
       "    12M_04_04 12M_04_04    otgy_12M_04  f3fec3a3-326a-49cd-9c97-c2ae5feda502 2023-12-02 15:35:39      501.0   \n",
       "    12M_03_01 12M_03_01    otgy_12M_03  ae668e1f-2399-42e6-9ff6-0a359890bdcb 2023-12-02 16:33:34      460.0   \n",
       "\n",
       "                                                                                                  quant_0.5  \\\n",
       "age mouse     subject_name session_name uuid                                 date                             \n",
       "12  12M_03_04 12M_03_04    otgy_12M_03  9a31dbce-3b20-4259-b739-4ad588dae695 2023-12-02 13:34:37      490.0   \n",
       "    12M_01_02 12M_01_02    otgy_12M_01  f806e260-8337-4692-92c5-df8060bdefb6 2023-12-02 09:28:18      484.0   \n",
       "    12M_02_04 12M_02_04    otgy_12M_02  6ab00a19-d9b7-424e-9f5a-2490312392e5 2023-12-02 11:31:56      456.0   \n",
       "    12M_04_04 12M_04_04    otgy_12M_04  f3fec3a3-326a-49cd-9c97-c2ae5feda502 2023-12-02 15:35:39      517.0   \n",
       "    12M_03_01 12M_03_01    otgy_12M_03  ae668e1f-2399-42e6-9ff6-0a359890bdcb 2023-12-02 16:33:34      472.0   \n",
       "\n",
       "                                                                                                  quant_0.6  \\\n",
       "age mouse     subject_name session_name uuid                                 date                             \n",
       "12  12M_03_04 12M_03_04    otgy_12M_03  9a31dbce-3b20-4259-b739-4ad588dae695 2023-12-02 13:34:37      509.0   \n",
       "    12M_01_02 12M_01_02    otgy_12M_01  f806e260-8337-4692-92c5-df8060bdefb6 2023-12-02 09:28:18      498.0   \n",
       "    12M_02_04 12M_02_04    otgy_12M_02  6ab00a19-d9b7-424e-9f5a-2490312392e5 2023-12-02 11:31:56      472.0   \n",
       "    12M_04_04 12M_04_04    otgy_12M_04  f3fec3a3-326a-49cd-9c97-c2ae5feda502 2023-12-02 15:35:39      534.0   \n",
       "    12M_03_01 12M_03_01    otgy_12M_03  ae668e1f-2399-42e6-9ff6-0a359890bdcb 2023-12-02 16:33:34      486.0   \n",
       "\n",
       "                                                                                                  quant_0.7  \\\n",
       "age mouse     subject_name session_name uuid                                 date                             \n",
       "12  12M_03_04 12M_03_04    otgy_12M_03  9a31dbce-3b20-4259-b739-4ad588dae695 2023-12-02 13:34:37      529.0   \n",
       "    12M_01_02 12M_01_02    otgy_12M_01  f806e260-8337-4692-92c5-df8060bdefb6 2023-12-02 09:28:18      514.0   \n",
       "    12M_02_04 12M_02_04    otgy_12M_02  6ab00a19-d9b7-424e-9f5a-2490312392e5 2023-12-02 11:31:56      490.0   \n",
       "    12M_04_04 12M_04_04    otgy_12M_04  f3fec3a3-326a-49cd-9c97-c2ae5feda502 2023-12-02 15:35:39      552.0   \n",
       "    12M_03_01 12M_03_01    otgy_12M_03  ae668e1f-2399-42e6-9ff6-0a359890bdcb 2023-12-02 16:33:34      502.0   \n",
       "\n",
       "                                                                                                  quant_0.8  \\\n",
       "age mouse     subject_name session_name uuid                                 date                             \n",
       "12  12M_03_04 12M_03_04    otgy_12M_03  9a31dbce-3b20-4259-b739-4ad588dae695 2023-12-02 13:34:37      554.0   \n",
       "    12M_01_02 12M_01_02    otgy_12M_01  f806e260-8337-4692-92c5-df8060bdefb6 2023-12-02 09:28:18      537.0   \n",
       "    12M_02_04 12M_02_04    otgy_12M_02  6ab00a19-d9b7-424e-9f5a-2490312392e5 2023-12-02 11:31:56      511.0   \n",
       "    12M_04_04 12M_04_04    otgy_12M_04  f3fec3a3-326a-49cd-9c97-c2ae5feda502 2023-12-02 15:35:39      574.0   \n",
       "    12M_03_01 12M_03_01    otgy_12M_03  ae668e1f-2399-42e6-9ff6-0a359890bdcb 2023-12-02 16:33:34      522.0   \n",
       "\n",
       "                                                                                                  quant_0.9  \n",
       "age mouse     subject_name session_name uuid                                 date                            \n",
       "12  12M_03_04 12M_03_04    otgy_12M_03  9a31dbce-3b20-4259-b739-4ad588dae695 2023-12-02 13:34:37      591.0  \n",
       "    12M_01_02 12M_01_02    otgy_12M_01  f806e260-8337-4692-92c5-df8060bdefb6 2023-12-02 09:28:18      572.0  \n",
       "    12M_02_04 12M_02_04    otgy_12M_02  6ab00a19-d9b7-424e-9f5a-2490312392e5 2023-12-02 11:31:56      541.0  \n",
       "    12M_04_04 12M_04_04    otgy_12M_04  f3fec3a3-326a-49cd-9c97-c2ae5feda502 2023-12-02 15:35:39      607.0  \n",
       "    12M_03_01 12M_03_01    otgy_12M_03  ae668e1f-2399-42e6-9ff6-0a359890bdcb 2023-12-02 16:33:34      552.0  "
      ]
     },
     "execution_count": 6,
     "metadata": {},
     "output_type": "execute_result"
    }
   ],
   "source": [
    "sizes.head()"
   ]
  },
  {
   "cell_type": "code",
   "execution_count": 7,
   "metadata": {},
   "outputs": [],
   "source": [
    "sizes.to_parquet(f'/n/groups/datta/win/longtogeny/data/ontogeny/version_11-1/ontogeny_males_mouse_area_df_v{version:02d}.parquet')"
   ]
  },
  {
   "cell_type": "markdown",
   "metadata": {},
   "source": [
    "## Longtogeny v1"
   ]
  },
  {
   "cell_type": "code",
   "execution_count": 8,
   "metadata": {},
   "outputs": [],
   "source": [
    "df = pl.scan_parquet(f'/n/groups/datta/win/longtogeny/data/ontogeny/version_11-1/longtogeny_males_syllable_df_v{version:02d}.parquet')"
   ]
  },
  {
   "cell_type": "code",
   "execution_count": 9,
   "metadata": {},
   "outputs": [],
   "source": [
    "gb_list = ['age', 'mouse', 'subject_name', 'session_name', 'uuid', 'date']"
   ]
  },
  {
   "cell_type": "code",
   "execution_count": 10,
   "metadata": {},
   "outputs": [],
   "source": [
    "sizes = df.group_by(gb_list, maintain_order=True).agg(\n",
    "    *[\n",
    "        pl.col(\"area_px\").quantile(x).alias(f\"quant_{x:0.1f}\")\n",
    "        for x in np.arange(0.1, 1, 0.1)\n",
    "    ]\n",
    ")\n",
    "\n",
    "sizes = sizes.collect()\n",
    "sizes = sizes.to_pandas().set_index(gb_list)"
   ]
  },
  {
   "cell_type": "code",
   "execution_count": 11,
   "metadata": {},
   "outputs": [],
   "source": [
    "sizes.to_parquet(f'/n/groups/datta/win/longtogeny/data/ontogeny/version_11-1/longtogeny_males_mouse_area_df_v{version:02d}.parquet')"
   ]
  },
  {
   "cell_type": "markdown",
   "metadata": {},
   "source": [
    "## Longtogeny v2"
   ]
  },
  {
   "cell_type": "code",
   "execution_count": 12,
   "metadata": {},
   "outputs": [],
   "source": [
    "df = pl.scan_parquet(f'/n/groups/datta/win/longtogeny/data/ontogeny/version_11-1/longtogeny_v2_males_syllable_df_v{version:02d}.parquet')"
   ]
  },
  {
   "cell_type": "code",
   "execution_count": 13,
   "metadata": {},
   "outputs": [],
   "source": [
    "gb_list = ['age', 'mouse', 'subject_name', 'session_name', 'uuid', 'date']"
   ]
  },
  {
   "cell_type": "code",
   "execution_count": 14,
   "metadata": {},
   "outputs": [],
   "source": [
    "sizes = df.group_by(gb_list, maintain_order=True).agg(\n",
    "    *[\n",
    "        pl.col(\"area_px\").quantile(x).alias(f\"quant_{x:0.1f}\")\n",
    "        for x in np.arange(0.1, 1, 0.1)\n",
    "    ]\n",
    ")\n",
    "\n",
    "sizes = sizes.collect()\n",
    "sizes = sizes.to_pandas().set_index(gb_list)"
   ]
  },
  {
   "cell_type": "code",
   "execution_count": 15,
   "metadata": {},
   "outputs": [],
   "source": [
    "sizes.to_parquet(f'/n/groups/datta/win/longtogeny/data/ontogeny/version_11-1/longtogeny_v2_males_mouse_area_df_v{version:02d}.parquet')"
   ]
  },
  {
   "cell_type": "markdown",
   "metadata": {},
   "source": [
    "### Females"
   ]
  },
  {
   "cell_type": "code",
   "execution_count": 16,
   "metadata": {},
   "outputs": [],
   "source": [
    "df = pl.scan_parquet(f'/n/groups/datta/win/longtogeny/data/ontogeny/version_11-1/longtogeny_v2_females_syllable_df_v{version:02d}.parquet')"
   ]
  },
  {
   "cell_type": "code",
   "execution_count": 17,
   "metadata": {},
   "outputs": [],
   "source": [
    "gb_list = ['age', 'mouse', 'subject_name', 'session_name', 'uuid', 'date']"
   ]
  },
  {
   "cell_type": "code",
   "execution_count": 18,
   "metadata": {},
   "outputs": [],
   "source": [
    "sizes = df.group_by(gb_list, maintain_order=True).agg(\n",
    "    *[\n",
    "        pl.col(\"area_px\").quantile(x).alias(f\"quant_{x:0.1f}\")\n",
    "        for x in np.arange(0.1, 1, 0.1)\n",
    "    ]\n",
    ")\n",
    "\n",
    "sizes = sizes.collect()\n",
    "sizes = sizes.to_pandas().set_index(gb_list)"
   ]
  },
  {
   "cell_type": "code",
   "execution_count": 19,
   "metadata": {},
   "outputs": [],
   "source": [
    "sizes.to_parquet(f'/n/groups/datta/win/longtogeny/data/ontogeny/version_11-1/longtogeny_v2_females_mouse_area_df_v{version:02d}.parquet')"
   ]
  },
  {
   "cell_type": "markdown",
   "metadata": {},
   "source": [
    "## Females ontogeny"
   ]
  },
  {
   "cell_type": "code",
   "execution_count": 20,
   "metadata": {},
   "outputs": [],
   "source": [
    "df = pl.scan_parquet(f'/n/groups/datta/win/longtogeny/data/ontogeny/version_11-1/ontogeny_females_syllable_df_v{version:02d}.parquet')"
   ]
  },
  {
   "cell_type": "code",
   "execution_count": 21,
   "metadata": {},
   "outputs": [],
   "source": [
    "gb_list = ['age', 'mouse', 'subject_name', 'session_name', 'uuid', 'date']"
   ]
  },
  {
   "cell_type": "code",
   "execution_count": 22,
   "metadata": {},
   "outputs": [],
   "source": [
    "sizes = df.group_by(gb_list, maintain_order=True).agg(\n",
    "    *[\n",
    "        pl.col(\"area_px\").quantile(x).alias(f\"quant_{x:0.1f}\")\n",
    "        for x in np.arange(0.1, 1, 0.1)\n",
    "    ]\n",
    ")\n",
    "\n",
    "sizes = sizes.collect()\n",
    "sizes = sizes.to_pandas().set_index(gb_list)"
   ]
  },
  {
   "cell_type": "code",
   "execution_count": 23,
   "metadata": {},
   "outputs": [],
   "source": [
    "sizes.to_parquet(f'/n/groups/datta/win/longtogeny/data/ontogeny/version_11-1/ontogeny_females_mouse_area_df_v{version:02d}.parquet')"
   ]
  },
  {
   "cell_type": "code",
   "execution_count": null,
   "metadata": {},
   "outputs": [],
   "source": []
  },
  {
   "cell_type": "markdown",
   "metadata": {},
   "source": [
    "## Wheel"
   ]
  },
  {
   "cell_type": "code",
   "execution_count": 24,
   "metadata": {},
   "outputs": [],
   "source": [
    "df = pl.scan_parquet(f'/n/groups/datta/win/longtogeny/data/ontogeny/version_11-1/wheel_syllable_df_v{version:02d}.parquet')"
   ]
  },
  {
   "cell_type": "code",
   "execution_count": 25,
   "metadata": {},
   "outputs": [],
   "source": [
    "gb_list = ['age', 'mouse', 'subject_name', 'session_name', 'uuid', 'date']"
   ]
  },
  {
   "cell_type": "code",
   "execution_count": 26,
   "metadata": {},
   "outputs": [],
   "source": [
    "sizes = df.group_by(gb_list, maintain_order=True).agg(\n",
    "    *[\n",
    "        pl.col(\"area_px\").quantile(x).alias(f\"quant_{x:0.1f}\")\n",
    "        for x in np.arange(0.1, 1, 0.1)\n",
    "    ]\n",
    ")\n",
    "\n",
    "sizes = sizes.collect()\n",
    "sizes = sizes.to_pandas().set_index(gb_list)"
   ]
  },
  {
   "cell_type": "code",
   "execution_count": 27,
   "metadata": {},
   "outputs": [],
   "source": [
    "sizes.to_parquet(f'/n/groups/datta/win/longtogeny/data/ontogeny/version_11-1/wheel_mouse_area_df_v{version:02d}.parquet')"
   ]
  },
  {
   "cell_type": "code",
   "execution_count": null,
   "metadata": {},
   "outputs": [],
   "source": []
  }
 ],
 "metadata": {
  "kernelspec": {
   "display_name": "Aging GPU (win folder)",
   "language": "python",
   "name": "aging-gpu"
  },
  "language_info": {
   "codemirror_mode": {
    "name": "ipython",
    "version": 3
   },
   "file_extension": ".py",
   "mimetype": "text/x-python",
   "name": "python",
   "nbconvert_exporter": "python",
   "pygments_lexer": "ipython3",
   "version": "3.10.13"
  },
  "widgets": {
   "application/vnd.jupyter.widget-state+json": {
    "state": {},
    "version_major": 2,
    "version_minor": 0
   }
  }
 },
 "nbformat": 4,
 "nbformat_minor": 4
}
