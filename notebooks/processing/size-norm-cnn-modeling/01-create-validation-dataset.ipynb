{
 "cells": [
  {
   "attachments": {},
   "cell_type": "markdown",
   "id": "f923803c-4f9f-462c-b2c4-1eabdfa15614",
   "metadata": {},
   "source": [
    "# Create datasets for model validation\n",
    "\n",
    "This dataset should include mice of all different sizes (smallest to largest)."
   ]
  },
  {
   "cell_type": "code",
   "execution_count": 1,
   "id": "337fccbd-9ce6-46c5-918b-d24300618f26",
   "metadata": {
    "tags": []
   },
   "outputs": [],
   "source": [
    "import h5py\n",
    "import numpy as np\n",
    "import pandas as pd\n",
    "from pathlib import Path\n",
    "from tqdm.auto import tqdm\n",
    "from toolz import valmap\n",
    "import matplotlib.pyplot as plt"
   ]
  },
  {
   "attachments": {},
   "cell_type": "markdown",
   "id": "053e3f00",
   "metadata": {},
   "source": [
    "## Female version"
   ]
  },
  {
   "cell_type": "code",
   "execution_count": 2,
   "id": "9e5792c4-a485-4ebb-ab1d-0cbfe41901eb",
   "metadata": {
    "tags": []
   },
   "outputs": [],
   "source": [
    "path = Path('/home/wg41/groups/Dana/Ontogeny/raw_data/Ontogeny_females')\n",
    "training_data_path = Path('/n/groups/datta/win/longtogeny/data/size_network/training_data')"
   ]
  },
  {
   "cell_type": "code",
   "execution_count": 3,
   "id": "ab69c58c-c913-42d5-ac05-065e45a41d5d",
   "metadata": {
    "tags": []
   },
   "outputs": [],
   "source": [
    "def zscore(df):\n",
    "    return (df - df.mean()) / df.std()"
   ]
  },
  {
   "cell_type": "code",
   "execution_count": 4,
   "id": "57041402-3594-4c68-8c5e-2bd7cb381be9",
   "metadata": {
    "tags": []
   },
   "outputs": [],
   "source": [
    "files = sorted(path.glob('**/results_00.h5'))"
   ]
  },
  {
   "cell_type": "code",
   "execution_count": 22,
   "id": "3c23abd8-b340-48fb-bbd2-e98d703a6eb0",
   "metadata": {
    "tags": []
   },
   "outputs": [
    {
     "data": {
      "application/vnd.jupyter.widget-view+json": {
       "model_id": "c38f0e51ade8410c8160cf286767f8b2",
       "version_major": 2,
       "version_minor": 0
      },
      "text/plain": [
       "  0%|          | 0/192 [00:00<?, ?it/s]"
      ]
     },
     "metadata": {},
     "output_type": "display_data"
    }
   ],
   "source": [
    "# open the files, get width/length/height of all sessions\n",
    "morph_stats = []\n",
    "for file in tqdm(files):\n",
    "    with h5py.File(file, 'r') as h5f:\n",
    "        a = h5f['scalars/area_mm']\n",
    "        morph_stats.append(dict(\n",
    "            file=str(file),\n",
    "            age=Path(file).parents[2].name,\n",
    "            mean_area=np.nanmean(a),\n",
    "            median_area=np.nanmedian(a),\n",
    "        ))\n",
    "morph_stats = pd.DataFrame(morph_stats)"
   ]
  },
  {
   "cell_type": "code",
   "execution_count": 26,
   "id": "1017c8da",
   "metadata": {},
   "outputs": [
    {
     "data": {
      "text/html": [
       "<div>\n",
       "<style scoped>\n",
       "    .dataframe tbody tr th:only-of-type {\n",
       "        vertical-align: middle;\n",
       "    }\n",
       "\n",
       "    .dataframe tbody tr th {\n",
       "        vertical-align: top;\n",
       "    }\n",
       "\n",
       "    .dataframe thead th {\n",
       "        text-align: right;\n",
       "    }\n",
       "</style>\n",
       "<table border=\"1\" class=\"dataframe\">\n",
       "  <thead>\n",
       "    <tr style=\"text-align: right;\">\n",
       "      <th></th>\n",
       "      <th>file</th>\n",
       "      <th>age</th>\n",
       "      <th>mean_area</th>\n",
       "      <th>median_area</th>\n",
       "    </tr>\n",
       "  </thead>\n",
       "  <tbody>\n",
       "    <tr>\n",
       "      <th>80</th>\n",
       "      <td>/home/wg41/groups/Dana/Ontogeny/raw_data/Ontog...</td>\n",
       "      <td>3wks</td>\n",
       "      <td>371.475800</td>\n",
       "      <td>360.489197</td>\n",
       "    </tr>\n",
       "    <tr>\n",
       "      <th>88</th>\n",
       "      <td>/home/wg41/groups/Dana/Ontogeny/raw_data/Ontog...</td>\n",
       "      <td>3wks</td>\n",
       "      <td>407.777710</td>\n",
       "      <td>398.006165</td>\n",
       "    </tr>\n",
       "    <tr>\n",
       "      <th>86</th>\n",
       "      <td>/home/wg41/groups/Dana/Ontogeny/raw_data/Ontog...</td>\n",
       "      <td>3wks</td>\n",
       "      <td>419.690430</td>\n",
       "      <td>408.580750</td>\n",
       "    </tr>\n",
       "    <tr>\n",
       "      <th>76</th>\n",
       "      <td>/home/wg41/groups/Dana/Ontogeny/raw_data/Ontog...</td>\n",
       "      <td>3wks</td>\n",
       "      <td>433.033203</td>\n",
       "      <td>422.473755</td>\n",
       "    </tr>\n",
       "    <tr>\n",
       "      <th>78</th>\n",
       "      <td>/home/wg41/groups/Dana/Ontogeny/raw_data/Ontog...</td>\n",
       "      <td>3wks</td>\n",
       "      <td>424.097321</td>\n",
       "      <td>422.778534</td>\n",
       "    </tr>\n",
       "    <tr>\n",
       "      <th>...</th>\n",
       "      <td>...</td>\n",
       "      <td>...</td>\n",
       "      <td>...</td>\n",
       "      <td>...</td>\n",
       "    </tr>\n",
       "    <tr>\n",
       "      <th>38</th>\n",
       "      <td>/home/wg41/groups/Dana/Ontogeny/raw_data/Ontog...</td>\n",
       "      <td>18months</td>\n",
       "      <td>1045.323486</td>\n",
       "      <td>1044.389526</td>\n",
       "    </tr>\n",
       "    <tr>\n",
       "      <th>3</th>\n",
       "      <td>/home/wg41/groups/Dana/Ontogeny/raw_data/Ontog...</td>\n",
       "      <td>12months</td>\n",
       "      <td>1051.986450</td>\n",
       "      <td>1045.511108</td>\n",
       "    </tr>\n",
       "    <tr>\n",
       "      <th>28</th>\n",
       "      <td>/home/wg41/groups/Dana/Ontogeny/raw_data/Ontog...</td>\n",
       "      <td>18months</td>\n",
       "      <td>1057.535034</td>\n",
       "      <td>1050.411865</td>\n",
       "    </tr>\n",
       "    <tr>\n",
       "      <th>24</th>\n",
       "      <td>/home/wg41/groups/Dana/Ontogeny/raw_data/Ontog...</td>\n",
       "      <td>18months</td>\n",
       "      <td>1060.546753</td>\n",
       "      <td>1054.653198</td>\n",
       "    </tr>\n",
       "    <tr>\n",
       "      <th>35</th>\n",
       "      <td>/home/wg41/groups/Dana/Ontogeny/raw_data/Ontog...</td>\n",
       "      <td>18months</td>\n",
       "      <td>1102.847168</td>\n",
       "      <td>1078.183350</td>\n",
       "    </tr>\n",
       "  </tbody>\n",
       "</table>\n",
       "<p>192 rows × 4 columns</p>\n",
       "</div>"
      ],
      "text/plain": [
       "                                                 file       age    mean_area  \\\n",
       "80  /home/wg41/groups/Dana/Ontogeny/raw_data/Ontog...      3wks   371.475800   \n",
       "88  /home/wg41/groups/Dana/Ontogeny/raw_data/Ontog...      3wks   407.777710   \n",
       "86  /home/wg41/groups/Dana/Ontogeny/raw_data/Ontog...      3wks   419.690430   \n",
       "76  /home/wg41/groups/Dana/Ontogeny/raw_data/Ontog...      3wks   433.033203   \n",
       "78  /home/wg41/groups/Dana/Ontogeny/raw_data/Ontog...      3wks   424.097321   \n",
       "..                                                ...       ...          ...   \n",
       "38  /home/wg41/groups/Dana/Ontogeny/raw_data/Ontog...  18months  1045.323486   \n",
       "3   /home/wg41/groups/Dana/Ontogeny/raw_data/Ontog...  12months  1051.986450   \n",
       "28  /home/wg41/groups/Dana/Ontogeny/raw_data/Ontog...  18months  1057.535034   \n",
       "24  /home/wg41/groups/Dana/Ontogeny/raw_data/Ontog...  18months  1060.546753   \n",
       "35  /home/wg41/groups/Dana/Ontogeny/raw_data/Ontog...  18months  1102.847168   \n",
       "\n",
       "    median_area  \n",
       "80   360.489197  \n",
       "88   398.006165  \n",
       "86   408.580750  \n",
       "76   422.473755  \n",
       "78   422.778534  \n",
       "..          ...  \n",
       "38  1044.389526  \n",
       "3   1045.511108  \n",
       "28  1050.411865  \n",
       "24  1054.653198  \n",
       "35  1078.183350  \n",
       "\n",
       "[192 rows x 4 columns]"
      ]
     },
     "execution_count": 26,
     "metadata": {},
     "output_type": "execute_result"
    }
   ],
   "source": [
    "morph_stats.sort_values(by='median_area')"
   ]
  },
  {
   "cell_type": "code",
   "execution_count": 36,
   "id": "bd70bcde",
   "metadata": {},
   "outputs": [],
   "source": [
    "avg_stat = morph_stats.groupby('age').median_area.mean().sort_values()"
   ]
  },
  {
   "cell_type": "code",
   "execution_count": 37,
   "id": "a2a6eafc",
   "metadata": {},
   "outputs": [
    {
     "data": {
      "text/plain": [
       "age\n",
       "3wks        498.264496\n",
       "5wks        595.463745\n",
       "7wks        671.005554\n",
       "9wks        676.560974\n",
       "3months     779.966797\n",
       "6months     837.250244\n",
       "12months    936.995789\n",
       "18months    981.852478\n",
       "Name: median_area, dtype: float32"
      ]
     },
     "execution_count": 37,
     "metadata": {},
     "output_type": "execute_result"
    }
   ],
   "source": [
    "avg_stat"
   ]
  },
  {
   "cell_type": "code",
   "execution_count": null,
   "id": "f78bf793",
   "metadata": {},
   "outputs": [
    {
     "data": {
      "text/plain": [
       "age\n",
       "3wks        0.736467\n",
       "5wks        0.880133\n",
       "7wks        0.991789\n",
       "9wks        1.000000\n",
       "3months     1.152840\n",
       "6months     1.237509\n",
       "12months    1.384939\n",
       "18months    1.451240\n",
       "Name: median_area, dtype: float32"
      ]
     },
     "execution_count": 38,
     "metadata": {},
     "output_type": "execute_result"
    }
   ],
   "source": [
    "avg_stat / avg_stat['9wks']"
   ]
  },
  {
   "cell_type": "code",
   "execution_count": 58,
   "id": "8528e073",
   "metadata": {},
   "outputs": [],
   "source": [
    "inds = dict(map(reversed, enumerate(avg_stat.index)))\n",
    "inds = valmap(lambda x: x / max(inds.values()), inds)"
   ]
  },
  {
   "cell_type": "code",
   "execution_count": 71,
   "id": "7db2d47e",
   "metadata": {},
   "outputs": [],
   "source": [
    "selected = []\n",
    "for grp, _df in morph_stats.groupby('age'):\n",
    "    _idx = int(len(_df) * inds[grp])\n",
    "    if _idx == len(_df):\n",
    "        _idx -= 2\n",
    "    selected.extend(_df.sort_values(by='median_area').iloc[_idx:_idx+2]['file'])"
   ]
  },
  {
   "cell_type": "code",
   "execution_count": 78,
   "id": "41a1787d-5aa4-4db0-9cbe-b46bac7c3e1d",
   "metadata": {
    "tags": []
   },
   "outputs": [
    {
     "data": {
      "image/png": "[encoded data removed]",
      "text/plain": [
       "<Figure size 960x720 with 1 Axes>"
      ]
     },
     "metadata": {
      "image/png": {
       "height": 624,
       "width": 625
      }
     },
     "output_type": "display_data"
    }
   ],
   "source": [
    "fig = plt.figure()\n",
    "fig.dpi = 150\n",
    "with h5py.File(selected[2], 'r') as h5f:\n",
    "    plt.imshow(h5f['frames'][100])"
   ]
  },
  {
   "cell_type": "code",
   "execution_count": 77,
   "id": "ac7c4a66-0859-4849-b4a6-d36c4484b0e1",
   "metadata": {
    "tags": []
   },
   "outputs": [
    {
     "data": {
      "image/png": "[encoded data removed]",
      "text/plain": [
       "<Figure size 960x720 with 1 Axes>"
      ]
     },
     "metadata": {
      "image/png": {
       "height": 624,
       "width": 625
      }
     },
     "output_type": "display_data"
    }
   ],
   "source": [
    "fig = plt.figure()\n",
    "fig.dpi = 150\n",
    "with h5py.File(selected[6], 'r') as h5f:\n",
    "    plt.imshow(h5f['frames'][100])"
   ]
  },
  {
   "cell_type": "code",
   "execution_count": 79,
   "id": "825995a0-dc48-4f15-9148-842eaecbe628",
   "metadata": {
    "tags": []
   },
   "outputs": [
    {
     "data": {
      "application/vnd.jupyter.widget-view+json": {
       "model_id": "76b460811784485a87f388b0f8918eea",
       "version_major": 2,
       "version_minor": 0
      },
      "text/plain": [
       "  0%|          | 0/16 [00:00<?, ?it/s]"
      ]
     },
     "metadata": {},
     "output_type": "display_data"
    }
   ],
   "source": [
    "with h5py.File('/n/groups/datta/win/longtogeny/data/size_network/female_ontogeny_validation.h5', 'w') as h5f:\n",
    "    for file in tqdm(selected):\n",
    "        folder = '_'.join(x.name for x in Path(file).parents[1:3])\n",
    "        with h5py.File(file, 'r') as in_h5f:\n",
    "            h5f.create_dataset(f'data/{folder}', data=in_h5f['frames'][()], compression='gzip')"
   ]
  },
  {
   "cell_type": "code",
   "execution_count": 80,
   "id": "094a2dda",
   "metadata": {},
   "outputs": [
    {
     "data": {
      "application/vnd.jupyter.widget-view+json": {
       "model_id": "2a642026747043b5a0c745c4589c93b3",
       "version_major": 2,
       "version_minor": 0
      },
      "text/plain": [
       "  0%|          | 0/16 [00:00<?, ?it/s]"
      ]
     },
     "metadata": {},
     "output_type": "display_data"
    },
    {
     "name": "stdout",
     "output_type": "stream",
     "text": [
      "No size_normalized_frames\n",
      "No size_normalized_frames\n"
     ]
    }
   ],
   "source": [
    "with h5py.File('/n/groups/datta/win/longtogeny/data/size_network/female_ontogeny_rw_preds.h5', 'w') as h5f:\n",
    "    for file in tqdm(selected):\n",
    "        folder = '_'.join(x.name for x in Path(file).parents[1:3])\n",
    "        with h5py.File(file, 'r') as in_h5f:\n",
    "            if 'size_normalized_frames' in in_h5f:\n",
    "                h5f.create_dataset(f'data/{folder}', data=in_h5f['size_normalized_frames'][()], compression='gzip')\n",
    "            else:\n",
    "                print('No size_normalized_frames')"
   ]
  },
  {
   "attachments": {},
   "cell_type": "markdown",
   "id": "4f661d7e",
   "metadata": {},
   "source": [
    "## Male version"
   ]
  },
  {
   "cell_type": "code",
   "execution_count": 2,
   "id": "65933040",
   "metadata": {},
   "outputs": [],
   "source": [
    "path = Path('/home/wg41/groups/Dana/Ontogeny/raw_data/Ontogeny_males')\n",
    "training_data_path = Path('/n/groups/datta/win/longtogeny/data/size_network/training_data')"
   ]
  },
  {
   "cell_type": "code",
   "execution_count": 3,
   "id": "c63848c6",
   "metadata": {},
   "outputs": [],
   "source": [
    "files = sorted(path.glob('**/results_00.h5'))"
   ]
  },
  {
   "cell_type": "code",
   "execution_count": 4,
   "id": "6c0b87e8",
   "metadata": {},
   "outputs": [
    {
     "data": {
      "application/vnd.jupyter.widget-view+json": {
       "model_id": "c40800280a1942edbfc0804c4549c6dd",
       "version_major": 2,
       "version_minor": 0
      },
      "text/plain": [
       "  0%|          | 0/192 [00:00<?, ?it/s]"
      ]
     },
     "metadata": {},
     "output_type": "display_data"
    }
   ],
   "source": [
    "# open the files, get width/length/height of all sessions\n",
    "morph_stats = []\n",
    "for file in tqdm(files):\n",
    "    with h5py.File(file, 'r') as h5f:\n",
    "        a = h5f['scalars/area_mm']\n",
    "        morph_stats.append(dict(\n",
    "            file=str(file),\n",
    "            age=Path(file).parents[2].name,\n",
    "            mean_area=np.nanmean(a),\n",
    "            median_area=np.nanmedian(a),\n",
    "        ))\n",
    "morph_stats = pd.DataFrame(morph_stats)"
   ]
  },
  {
   "cell_type": "code",
   "execution_count": 7,
   "id": "7e18d1fc",
   "metadata": {},
   "outputs": [
    {
     "data": {
      "text/plain": [
       "age\n",
       "3wks_02112021        0.568178\n",
       "5wks_02112021        0.775892\n",
       "9wks_1811_2021       0.870533\n",
       "7wks_18112021        0.893014\n",
       "3months_19042021     1.000000\n",
       "9months_060923       1.088633\n",
       "6months_20042021     1.147415\n",
       "12months_28042021    1.298850\n",
       "18months_29042021    1.405200\n",
       "22months_06052023    1.452438\n",
       "Name: median_area, dtype: float32"
      ]
     },
     "execution_count": 7,
     "metadata": {},
     "output_type": "execute_result"
    }
   ],
   "source": [
    "avg_stat = morph_stats.groupby('age').median_area.mean().sort_values()\n",
    "avg_stat / avg_stat['3months_19042021']"
   ]
  },
  {
   "cell_type": "code",
   "execution_count": 7,
   "id": "ccd62cc7",
   "metadata": {},
   "outputs": [],
   "source": [
    "inds = dict(map(reversed, enumerate(avg_stat.index)))\n",
    "inds = valmap(lambda x: x / max(inds.values()), inds)"
   ]
  },
  {
   "cell_type": "code",
   "execution_count": 8,
   "id": "2b211477",
   "metadata": {},
   "outputs": [],
   "source": [
    "selected = []\n",
    "for grp, _df in morph_stats.groupby('age'):\n",
    "    _idx = int(len(_df) * inds[grp])\n",
    "    if _idx == len(_df):\n",
    "        _idx -= 2\n",
    "    selected.extend(_df.sort_values(by='median_area').iloc[_idx:_idx+2]['file'])"
   ]
  },
  {
   "cell_type": "code",
   "execution_count": 9,
   "id": "78273773",
   "metadata": {},
   "outputs": [
    {
     "data": {
      "application/vnd.jupyter.widget-view+json": {
       "model_id": "74e2fc0097fc45bca5cd537cb85d3b92",
       "version_major": 2,
       "version_minor": 0
      },
      "text/plain": [
       "  0%|          | 0/20 [00:00<?, ?it/s]"
      ]
     },
     "metadata": {},
     "output_type": "display_data"
    }
   ],
   "source": [
    "with h5py.File('/n/groups/datta/win/longtogeny/data/size_network/male_ontogeny_validation.h5', 'w') as h5f:\n",
    "    for file in tqdm(selected):\n",
    "        folder = '_'.join(x.name for x in Path(file).parents[1:3])\n",
    "        with h5py.File(file, 'r') as in_h5f:\n",
    "            h5f.create_dataset(f'data/{folder}', data=in_h5f['frames'][()], compression='gzip')"
   ]
  },
  {
   "cell_type": "code",
   "execution_count": 10,
   "id": "e70faafa",
   "metadata": {},
   "outputs": [
    {
     "data": {
      "text/plain": [
       "['/home/wg41/groups/Dana/Ontogeny/raw_data/Ontogeny_males/12months_28042021/session_20210428134015/proc/results_00.h5',\n",
       " '/home/wg41/groups/Dana/Ontogeny/raw_data/Ontogeny_males/12months_28042021/session_20210428142014/proc/results_00.h5',\n",
       " '/home/wg41/groups/Dana/Ontogeny/raw_data/Ontogeny_males/18months_29042021/session_20210429130503/proc/results_00.h5',\n",
       " '/home/wg41/groups/Dana/Ontogeny/raw_data/Ontogeny_males/18months_29042021/session_20210429122136/proc/results_00.h5',\n",
       " '/home/wg41/groups/Dana/Ontogeny/raw_data/Ontogeny_males/22months_06052023/session_20230605122637/proc/results_00.h5',\n",
       " '/home/wg41/groups/Dana/Ontogeny/raw_data/Ontogeny_males/22months_06052023/session_20230605122631/proc/results_00.h5',\n",
       " '/home/wg41/groups/Dana/Ontogeny/raw_data/Ontogeny_males/3months_19042021/session_20210419135601/proc/results_00.h5',\n",
       " '/home/wg41/groups/Dana/Ontogeny/raw_data/Ontogeny_males/3months_19042021/session_20210419130121/proc/results_00.h5',\n",
       " '/home/wg41/groups/Dana/Ontogeny/raw_data/Ontogeny_males/3wks_02112021/session_20230605130947/proc/results_00.h5',\n",
       " '/home/wg41/groups/Dana/Ontogeny/raw_data/Ontogeny_males/3wks_02112021/session_20230605131002/proc/results_00.h5',\n",
       " '/home/wg41/groups/Dana/Ontogeny/raw_data/Ontogeny_males/5wks_02112021/session_20211029123208/proc/results_00.h5',\n",
       " '/home/wg41/groups/Dana/Ontogeny/raw_data/Ontogeny_males/5wks_02112021/session_20230605134839/proc/results_00.h5',\n",
       " '/home/wg41/groups/Dana/Ontogeny/raw_data/Ontogeny_males/6months_20042021/session_20210421132959/proc/results_00.h5',\n",
       " '/home/wg41/groups/Dana/Ontogeny/raw_data/Ontogeny_males/6months_20042021/session_20210420124510/proc/results_00.h5',\n",
       " '/home/wg41/groups/Dana/Ontogeny/raw_data/Ontogeny_males/7wks_18112021/session_20211118143846/proc/results_00.h5',\n",
       " '/home/wg41/groups/Dana/Ontogeny/raw_data/Ontogeny_males/7wks_18112021/session_20211118115344/proc/results_00.h5',\n",
       " '/home/wg41/groups/Dana/Ontogeny/raw_data/Ontogeny_males/9months_060923/session_20230609130044/proc/results_00.h5',\n",
       " '/home/wg41/groups/Dana/Ontogeny/raw_data/Ontogeny_males/9months_060923/session_20230609113832/proc/results_00.h5',\n",
       " '/home/wg41/groups/Dana/Ontogeny/raw_data/Ontogeny_males/9wks_1811_2021/session_20230605151759/proc/results_00.h5',\n",
       " '/home/wg41/groups/Dana/Ontogeny/raw_data/Ontogeny_males/9wks_1811_2021/session_20230605151811/proc/results_00.h5']"
      ]
     },
     "execution_count": 10,
     "metadata": {},
     "output_type": "execute_result"
    }
   ],
   "source": [
    "selected"
   ]
  },
  {
   "cell_type": "code",
   "execution_count": null,
   "id": "ffde2803",
   "metadata": {},
   "outputs": [],
   "source": []
  }
 ],
 "metadata": {
  "kernelspec": {
   "display_name": "aging",
   "language": "python",
   "name": "python3"
  },
  "language_info": {
   "codemirror_mode": {
    "name": "ipython",
    "version": 3
   },
   "file_extension": ".py",
   "mimetype": "text/x-python",
   "name": "python",
   "nbconvert_exporter": "python",
   "pygments_lexer": "ipython3",
   "version": "3.10.10"
  },
  "widgets": {
   "application/vnd.jupyter.widget-state+json": {
    "state": {},
    "version_major": 2,
    "version_minor": 0
   }
  }
 },
 "nbformat": 4,
 "nbformat_minor": 5
}
