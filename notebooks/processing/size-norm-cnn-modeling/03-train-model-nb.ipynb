{
 "cells": [
  {
   "cell_type": "code",
   "execution_count": 1,
   "id": "36b34fb0-7a28-426a-87d5-52158781b014",
   "metadata": {
    "tags": []
   },
   "outputs": [],
   "source": [
    "import toml\n",
    "import torch\n",
    "import random\n",
    "import lightning.pytorch as pl\n",
    "from toolz import get_in\n",
    "from pathlib import Path\n",
    "from aging.size_norm import models\n",
    "from toolz import dissoc, merge, valfilter, assoc\n",
    "from aging.size_norm.data import AugmentationParams, TrainingPaths\n",
    "from lightning.pytorch.loggers import CSVLogger, TensorBoardLogger\n",
    "from lightning.pytorch.callbacks import ModelCheckpoint, EarlyStopping\n",
    "from aging.size_norm.lightning import SizeNormModel, ImageDisplay, BehaviorValidation"
   ]
  },
  {
   "cell_type": "code",
   "execution_count": 2,
   "id": "e5095090-777a-42d2-a16b-a9e2bb013beb",
   "metadata": {
    "tags": []
   },
   "outputs": [],
   "source": [
    "config = toml.load('/home/wg41/code/ontogeny/configs/00-sizenorm_training_template.toml')"
   ]
  },
  {
   "cell_type": "code",
   "execution_count": 3,
   "id": "4d3fa1af-a008-4a28-b7f2-f1ffd6f05b45",
   "metadata": {
    "tags": []
   },
   "outputs": [],
   "source": [
    "paths = TrainingPaths(**dissoc(config['paths'], 'saving'))\n",
    "checkpoint = None\n",
    "save_folder = Path(config['paths']['saving'])\n",
    "save_folder.mkdir(exist_ok=True, parents=True)"
   ]
  },
  {
   "cell_type": "code",
   "execution_count": 4,
   "id": "66561eed-0a7f-404c-b22a-2cce43e461f9",
   "metadata": {
    "tags": []
   },
   "outputs": [],
   "source": [
    "config['augmentation']['rng'] = random.Random(config['augmentation']['seed'])"
   ]
  },
  {
   "cell_type": "code",
   "execution_count": 5,
   "id": "b61cae41-99b7-48e7-a46d-c7d426b45305",
   "metadata": {
    "tags": []
   },
   "outputs": [
    {
     "name": "stderr",
     "output_type": "stream",
     "text": [
      "[rank: 0] Global seed set to 0\n"
     ]
    },
    {
     "data": {
      "text/plain": [
       "0"
      ]
     },
     "execution_count": 5,
     "metadata": {},
     "output_type": "execute_result"
    }
   ],
   "source": [
    "pl.seed_everything(config['augmentation']['seed'])"
   ]
  },
  {
   "cell_type": "code",
   "execution_count": 6,
   "id": "ee2b4273-38b1-468a-826d-93e71d8ed13a",
   "metadata": {
    "tags": []
   },
   "outputs": [],
   "source": [
    "augmentation = AugmentationParams(**dissoc(config['augmentation'], 'seed'))"
   ]
  },
  {
   "cell_type": "code",
   "execution_count": 7,
   "id": "80bb2b11-43f4-4134-98ac-776a977ec042",
   "metadata": {
    "tags": []
   },
   "outputs": [],
   "source": [
    "match config['model']['lightning']['arch']:\n",
    "    case 'ae':\n",
    "        model_arch = models.Autoencoder\n",
    "    case 'unet':\n",
    "        model_arch = models.UNet\n",
    "    case 'efficient':\n",
    "        model_arch = models.EfficientAutoencoder\n",
    "    case 'efficient_unet':\n",
    "        model_arch = models.EfficientUNet\n",
    "    case _:\n",
    "        raise ValueError(f\"Unknown model architecture {config['model']['arch']}\")"
   ]
  },
  {
   "cell_type": "code",
   "execution_count": 8,
   "id": "fd44171e-f3ec-41eb-bd08-647f45d109d0",
   "metadata": {
    "tags": []
   },
   "outputs": [],
   "source": [
    "model_params = merge(config['model'], config['model'][config['model']['lightning']['arch']])\n",
    "model_params = valfilter(lambda x: not isinstance(x, dict), model_params)\n",
    "if 'activation' in model_params:\n",
    "    model_params = assoc(model_params, 'activation', getattr(torch.nn, model_params['activation']))"
   ]
  },
  {
   "cell_type": "code",
   "execution_count": 9,
   "id": "ab6184d4-4ed7-4469-ace2-5a8e8e987433",
   "metadata": {
    "tags": []
   },
   "outputs": [],
   "source": [
    "model = SizeNormModel(\n",
    "    paths,\n",
    "    augmentation,\n",
    "    model=model_arch,\n",
    "    model_params=model_params,\n",
    "    batch_size=64,\n",
    "    **dissoc(config['model']['lightning'], 'arch'),\n",
    "    seed=config['augmentation']['seed'],\n",
    "    use_adversarial_classifier=True,\n",
    "    classifier_scaling_factor_slope=1e-2,\n",
    "    classifier_scaling_factor_ceiling=1,\n",
    "    classifier_starting_epoch=20,\n",
    "    classifier_lr=1e-3,\n",
    "    adversarial_type='continuous',\n",
    "    jit=True,\n",
    ")"
   ]
  },
  {
   "cell_type": "code",
   "execution_count": 10,
   "id": "6cc984d0-9ddd-46f4-85d5-121360632ec1",
   "metadata": {
    "tags": []
   },
   "outputs": [],
   "source": [
    "ckpt_cb = ModelCheckpoint(\n",
    "    save_folder,\n",
    "    filename=f\"{model_arch.__name__}\" + \"-{epoch:02d}-{val_loss:.2e}\",\n",
    "    monitor=\"val_loss\",\n",
    "    save_top_k=1,\n",
    "    mode=\"min\",\n",
    ")\n",
    "\n",
    "early_stopping_cb = EarlyStopping(\n",
    "    monitor=\"val_loss\",\n",
    "    patience=get_in(['callbacks', 'stopping', 'patience'], config, 13),\n",
    "    mode=\"min\",\n",
    ")\n",
    "\n",
    "beh_val_cb = BehaviorValidation(\n",
    "    paths.validation,\n",
    "    paths.age_validation,\n",
    "    log_interval=get_in(['callbacks', 'validation', 'log_interval'], config, 30),\n",
    "    max_frames=get_in(['callbacks', 'validation', 'max_frames'], config, 8000),\n",
    ")"
   ]
  },
  {
   "cell_type": "code",
   "execution_count": 11,
   "id": "aac67645-28da-410d-a503-e4fb91e159b1",
   "metadata": {
    "tags": []
   },
   "outputs": [
    {
     "name": "stderr",
     "output_type": "stream",
     "text": [
      "Using 16bit Automatic Mixed Precision (AMP)\n",
      "GPU available: True (cuda), used: True\n",
      "TPU available: False, using: 0 TPU cores\n",
      "IPU available: False, using: 0 IPUs\n",
      "HPU available: False, using: 0 HPUs\n",
      "/home/wg41/miniconda3/envs/aging/lib/python3.10/site-packages/lightning/pytorch/callbacks/model_checkpoint.py:615: UserWarning: Checkpoint directory /n/groups/datta/win/longtogeny/size_norm/models/test_classifier_with_adversarial_nonlin exists and is not empty.\n",
      "  rank_zero_warn(f\"Checkpoint directory {dirpath} exists and is not empty.\")\n",
      "LOCAL_RANK: 0 - CUDA_VISIBLE_DEVICES: [0]\n",
      "/home/wg41/miniconda3/envs/aging/lib/python3.10/site-packages/lightning/pytorch/core/optimizer.py:306: RuntimeWarning: The lr scheduler dict contains the key(s) ['monitor'], but the keys will be ignored. You need to call `lr_scheduler.step()` manually in manual optimization.\n",
      "  rank_zero_warn(\n",
      "\n",
      "  | Name       | Type                 | Params\n",
      "----------------------------------------------------\n",
      "0 | model      | TopLevelTracedModule | 218 K \n",
      "1 | classifier | Regression           | 5.3 K \n",
      "----------------------------------------------------\n",
      "223 K     Trainable params\n",
      "0         Non-trainable params\n",
      "223 K     Total params\n",
      "0.895     Total estimated model params size (MB)\n",
      "SLURM auto-requeueing enabled. Setting signal handlers.\n"
     ]
    },
    {
     "data": {
      "application/vnd.jupyter.widget-view+json": {
       "model_id": "",
       "version_major": 2,
       "version_minor": 0
      },
      "text/plain": [
       "Sanity Checking: 0it [00:00, ?it/s]"
      ]
     },
     "metadata": {},
     "output_type": "display_data"
    },
    {
     "name": "stderr",
     "output_type": "stream",
     "text": [
      "/home/wg41/miniconda3/envs/aging/lib/python3.10/site-packages/lightning/pytorch/trainer/connectors/data_connector.py:432: PossibleUserWarning: The dataloader, val_dataloader, does not have many workers which may be a bottleneck. Consider increasing the value of the `num_workers` argument` (try 48 which is the number of cpus on this machine) in the `DataLoader` init to improve performance.\n",
      "  rank_zero_warn(\n",
      "/home/wg41/miniconda3/envs/aging/lib/python3.10/site-packages/lightning/pytorch/trainer/connectors/data_connector.py:432: PossibleUserWarning: The dataloader, train_dataloader, does not have many workers which may be a bottleneck. Consider increasing the value of the `num_workers` argument` (try 48 which is the number of cpus on this machine) in the `DataLoader` init to improve performance.\n",
      "  rank_zero_warn(\n"
     ]
    },
    {
     "data": {
      "application/vnd.jupyter.widget-view+json": {
       "model_id": "028f7924400b4231b6fee15771b2eae0",
       "version_major": 2,
       "version_minor": 0
      },
      "text/plain": [
       "Training: 0it [00:00, ?it/s]"
      ]
     },
     "metadata": {},
     "output_type": "display_data"
    },
    {
     "data": {
      "application/vnd.jupyter.widget-view+json": {
       "model_id": "6b86db7ac8284985a5a839a7fce2b6b5",
       "version_major": 2,
       "version_minor": 0
      },
      "text/plain": [
       "Image(value=b'\\x89PNG\\r\\n\\x1a\\n\\x00\\x00\\x00\\rIHDR\\x00\\x00\\x00\\x08\\x00\\x00\\x00\\x08\\x08\\x00\\x00\\x00\\x00\\xe1d\\xe1…"
      ]
     },
     "metadata": {},
     "output_type": "display_data"
    },
    {
     "data": {
      "application/vnd.jupyter.widget-view+json": {
       "model_id": "",
       "version_major": 2,
       "version_minor": 0
      },
      "text/plain": [
       "Validation: 0it [00:00, ?it/s]"
      ]
     },
     "metadata": {},
     "output_type": "display_data"
    },
    {
     "data": {
      "application/vnd.jupyter.widget-view+json": {
       "model_id": "",
       "version_major": 2,
       "version_minor": 0
      },
      "text/plain": [
       "Validation: 0it [00:00, ?it/s]"
      ]
     },
     "metadata": {},
     "output_type": "display_data"
    },
    {
     "data": {
      "application/vnd.jupyter.widget-view+json": {
       "model_id": "",
       "version_major": 2,
       "version_minor": 0
      },
      "text/plain": [
       "Validation: 0it [00:00, ?it/s]"
      ]
     },
     "metadata": {},
     "output_type": "display_data"
    },
    {
     "data": {
      "application/vnd.jupyter.widget-view+json": {
       "model_id": "",
       "version_major": 2,
       "version_minor": 0
      },
      "text/plain": [
       "Validation: 0it [00:00, ?it/s]"
      ]
     },
     "metadata": {},
     "output_type": "display_data"
    },
    {
     "data": {
      "application/vnd.jupyter.widget-view+json": {
       "model_id": "",
       "version_major": 2,
       "version_minor": 0
      },
      "text/plain": [
       "Validation: 0it [00:00, ?it/s]"
      ]
     },
     "metadata": {},
     "output_type": "display_data"
    },
    {
     "data": {
      "application/vnd.jupyter.widget-view+json": {
       "model_id": "",
       "version_major": 2,
       "version_minor": 0
      },
      "text/plain": [
       "Validation: 0it [00:00, ?it/s]"
      ]
     },
     "metadata": {},
     "output_type": "display_data"
    },
    {
     "data": {
      "application/vnd.jupyter.widget-view+json": {
       "model_id": "",
       "version_major": 2,
       "version_minor": 0
      },
      "text/plain": [
       "Validation: 0it [00:00, ?it/s]"
      ]
     },
     "metadata": {},
     "output_type": "display_data"
    },
    {
     "data": {
      "application/vnd.jupyter.widget-view+json": {
       "model_id": "",
       "version_major": 2,
       "version_minor": 0
      },
      "text/plain": [
       "Validation: 0it [00:00, ?it/s]"
      ]
     },
     "metadata": {},
     "output_type": "display_data"
    },
    {
     "data": {
      "application/vnd.jupyter.widget-view+json": {
       "model_id": "",
       "version_major": 2,
       "version_minor": 0
      },
      "text/plain": [
       "Validation: 0it [00:00, ?it/s]"
      ]
     },
     "metadata": {},
     "output_type": "display_data"
    },
    {
     "data": {
      "application/vnd.jupyter.widget-view+json": {
       "model_id": "",
       "version_major": 2,
       "version_minor": 0
      },
      "text/plain": [
       "Validation: 0it [00:00, ?it/s]"
      ]
     },
     "metadata": {},
     "output_type": "display_data"
    },
    {
     "data": {
      "application/vnd.jupyter.widget-view+json": {
       "model_id": "",
       "version_major": 2,
       "version_minor": 0
      },
      "text/plain": [
       "Validation: 0it [00:00, ?it/s]"
      ]
     },
     "metadata": {},
     "output_type": "display_data"
    },
    {
     "data": {
      "application/vnd.jupyter.widget-view+json": {
       "model_id": "",
       "version_major": 2,
       "version_minor": 0
      },
      "text/plain": [
       "Validation: 0it [00:00, ?it/s]"
      ]
     },
     "metadata": {},
     "output_type": "display_data"
    },
    {
     "data": {
      "application/vnd.jupyter.widget-view+json": {
       "model_id": "",
       "version_major": 2,
       "version_minor": 0
      },
      "text/plain": [
       "Validation: 0it [00:00, ?it/s]"
      ]
     },
     "metadata": {},
     "output_type": "display_data"
    },
    {
     "data": {
      "application/vnd.jupyter.widget-view+json": {
       "model_id": "",
       "version_major": 2,
       "version_minor": 0
      },
      "text/plain": [
       "Validation: 0it [00:00, ?it/s]"
      ]
     },
     "metadata": {},
     "output_type": "display_data"
    },
    {
     "data": {
      "application/vnd.jupyter.widget-view+json": {
       "model_id": "",
       "version_major": 2,
       "version_minor": 0
      },
      "text/plain": [
       "Validation: 0it [00:00, ?it/s]"
      ]
     },
     "metadata": {},
     "output_type": "display_data"
    },
    {
     "data": {
      "application/vnd.jupyter.widget-view+json": {
       "model_id": "",
       "version_major": 2,
       "version_minor": 0
      },
      "text/plain": [
       "Validation: 0it [00:00, ?it/s]"
      ]
     },
     "metadata": {},
     "output_type": "display_data"
    },
    {
     "name": "stdout",
     "output_type": "stream",
     "text": [
      "Running classifier\n"
     ]
    },
    {
     "data": {
      "application/vnd.jupyter.widget-view+json": {
       "model_id": "",
       "version_major": 2,
       "version_minor": 0
      },
      "text/plain": [
       "Validation: 0it [00:00, ?it/s]"
      ]
     },
     "metadata": {},
     "output_type": "display_data"
    },
    {
     "data": {
      "application/vnd.jupyter.widget-view+json": {
       "model_id": "",
       "version_major": 2,
       "version_minor": 0
      },
      "text/plain": [
       "Validation: 0it [00:00, ?it/s]"
      ]
     },
     "metadata": {},
     "output_type": "display_data"
    },
    {
     "data": {
      "application/vnd.jupyter.widget-view+json": {
       "model_id": "",
       "version_major": 2,
       "version_minor": 0
      },
      "text/plain": [
       "Validation: 0it [00:00, ?it/s]"
      ]
     },
     "metadata": {},
     "output_type": "display_data"
    },
    {
     "data": {
      "application/vnd.jupyter.widget-view+json": {
       "model_id": "",
       "version_major": 2,
       "version_minor": 0
      },
      "text/plain": [
       "Validation: 0it [00:00, ?it/s]"
      ]
     },
     "metadata": {},
     "output_type": "display_data"
    },
    {
     "data": {
      "application/vnd.jupyter.widget-view+json": {
       "model_id": "",
       "version_major": 2,
       "version_minor": 0
      },
      "text/plain": [
       "Validation: 0it [00:00, ?it/s]"
      ]
     },
     "metadata": {},
     "output_type": "display_data"
    },
    {
     "data": {
      "application/vnd.jupyter.widget-view+json": {
       "model_id": "",
       "version_major": 2,
       "version_minor": 0
      },
      "text/plain": [
       "Validation: 0it [00:00, ?it/s]"
      ]
     },
     "metadata": {},
     "output_type": "display_data"
    },
    {
     "data": {
      "application/vnd.jupyter.widget-view+json": {
       "model_id": "",
       "version_major": 2,
       "version_minor": 0
      },
      "text/plain": [
       "Validation: 0it [00:00, ?it/s]"
      ]
     },
     "metadata": {},
     "output_type": "display_data"
    },
    {
     "data": {
      "application/vnd.jupyter.widget-view+json": {
       "model_id": "",
       "version_major": 2,
       "version_minor": 0
      },
      "text/plain": [
       "Validation: 0it [00:00, ?it/s]"
      ]
     },
     "metadata": {},
     "output_type": "display_data"
    },
    {
     "data": {
      "application/vnd.jupyter.widget-view+json": {
       "model_id": "",
       "version_major": 2,
       "version_minor": 0
      },
      "text/plain": [
       "Validation: 0it [00:00, ?it/s]"
      ]
     },
     "metadata": {},
     "output_type": "display_data"
    },
    {
     "data": {
      "application/vnd.jupyter.widget-view+json": {
       "model_id": "",
       "version_major": 2,
       "version_minor": 0
      },
      "text/plain": [
       "Validation: 0it [00:00, ?it/s]"
      ]
     },
     "metadata": {},
     "output_type": "display_data"
    },
    {
     "data": {
      "application/vnd.jupyter.widget-view+json": {
       "model_id": "",
       "version_major": 2,
       "version_minor": 0
      },
      "text/plain": [
       "Validation: 0it [00:00, ?it/s]"
      ]
     },
     "metadata": {},
     "output_type": "display_data"
    },
    {
     "data": {
      "application/vnd.jupyter.widget-view+json": {
       "model_id": "",
       "version_major": 2,
       "version_minor": 0
      },
      "text/plain": [
       "Validation: 0it [00:00, ?it/s]"
      ]
     },
     "metadata": {},
     "output_type": "display_data"
    },
    {
     "data": {
      "application/vnd.jupyter.widget-view+json": {
       "model_id": "",
       "version_major": 2,
       "version_minor": 0
      },
      "text/plain": [
       "Validation: 0it [00:00, ?it/s]"
      ]
     },
     "metadata": {},
     "output_type": "display_data"
    },
    {
     "data": {
      "application/vnd.jupyter.widget-view+json": {
       "model_id": "",
       "version_major": 2,
       "version_minor": 0
      },
      "text/plain": [
       "Validation: 0it [00:00, ?it/s]"
      ]
     },
     "metadata": {},
     "output_type": "display_data"
    },
    {
     "data": {
      "application/vnd.jupyter.widget-view+json": {
       "model_id": "",
       "version_major": 2,
       "version_minor": 0
      },
      "text/plain": [
       "Validation: 0it [00:00, ?it/s]"
      ]
     },
     "metadata": {},
     "output_type": "display_data"
    },
    {
     "name": "stdout",
     "output_type": "stream",
     "text": [
      "Running classifier\n"
     ]
    },
    {
     "name": "stderr",
     "output_type": "stream",
     "text": [
      "`Trainer.fit` stopped: `max_epochs=31` reached.\n"
     ]
    }
   ],
   "source": [
    "image_cb = ImageDisplay(log_interval=75)\n",
    "\n",
    "trainer = pl.Trainer(\n",
    "    max_epochs=config.get('trainer', {}).get('max_epochs', 85),\n",
    "    accelerator=\"gpu\" if torch.cuda.is_available() else \"cpu\",\n",
    "    devices=1,\n",
    "    callbacks=[ckpt_cb, early_stopping_cb, image_cb, beh_val_cb],\n",
    "    precision='16-mixed' if torch.cuda.is_available() else \"bf16-mixed\",\n",
    "    logger=[CSVLogger(save_folder, name=\"size_norm_scan\"), TensorBoardLogger(save_folder, name=\"size_norm_scan\")],\n",
    ")\n",
    "trainer.fit(model, ckpt_path=checkpoint)"
   ]
  },
  {
   "cell_type": "code",
   "execution_count": 12,
   "id": "0987c0d0",
   "metadata": {},
   "outputs": [],
   "source": [
    "model = SizeNormModel.load_from_checkpoint(ckpt_cb.best_model_path)\n",
    "\n",
    "if model.hparams.jit:\n",
    "    # save jit version of model\n",
    "    torch.jit.save(model.model, save_folder / \"model.pt\")\n",
    "else:\n",
    "    mdl = torch.jit.trace(\n",
    "        model.model,\n",
    "        torch.zeros(\n",
    "            model.hparams.batch_size,\n",
    "            1,\n",
    "            model.hparams.image_dim,\n",
    "            model.hparams.image_dim,\n",
    "            device=model.device,\n",
    "        ),\n",
    "    )\n",
    "    torch.jit.save(mdl, save_folder / \"model.pt\")"
   ]
  },
  {
   "cell_type": "code",
   "execution_count": 13,
   "id": "ef15c70d-95c6-4764-bb12-c50c1baed400",
   "metadata": {
    "tags": []
   },
   "outputs": [
    {
     "data": {
      "text/plain": [
       "PosixPath('/n/groups/datta/win/longtogeny/size_norm/models/test_classifier_with_adversarial_nonlin')"
      ]
     },
     "execution_count": 13,
     "metadata": {},
     "output_type": "execute_result"
    }
   ],
   "source": [
    "save_folder"
   ]
  },
  {
   "cell_type": "code",
   "execution_count": null,
   "id": "10f0b7ca-ada7-4698-bc34-c013ec8be10a",
   "metadata": {},
   "outputs": [],
   "source": []
  }
 ],
 "metadata": {
  "kernelspec": {
   "display_name": "moseq2-dev",
   "language": "python",
   "name": "moseq2-dev"
  },
  "language_info": {
   "codemirror_mode": {
    "name": "ipython",
    "version": 3
   },
   "file_extension": ".py",
   "mimetype": "text/x-python",
   "name": "python",
   "nbconvert_exporter": "python",
   "pygments_lexer": "ipython3",
   "version": "3.7.12"
  },
  "widgets": {
   "application/vnd.jupyter.widget-state+json": {
    "state": {
     "012298ff6677467bae1714adbe3dcefc": {
      "model_module": "@jupyter-widgets/base",
      "model_module_version": "2.0.0",
      "model_name": "LayoutModel",
      "state": {
       "flex": "2"
      }
     },
     "028f7924400b4231b6fee15771b2eae0": {
      "model_module": "@jupyter-widgets/controls",
      "model_module_version": "2.0.0",
      "model_name": "HBoxModel",
      "state": {
       "children": [
        "IPY_MODEL_1601180f12234871b6b23768ca9e4a2d",
        "IPY_MODEL_679f1b988b40415d9f148e8e82f98c12",
        "IPY_MODEL_0353ee78deb8479da9ce1ad46e60f2ac"
       ],
       "layout": "IPY_MODEL_55275a96d7824f2296b3bef810aab5d7"
      }
     },
     "0353ee78deb8479da9ce1ad46e60f2ac": {
      "model_module": "@jupyter-widgets/controls",
      "model_module_version": "2.0.0",
      "model_name": "HTMLModel",
      "state": {
       "layout": "IPY_MODEL_2e49f6df5de4451ab85fb4488b1a4b3c",
       "style": "IPY_MODEL_eb8e96b574824fdc8b23e075e602b5e5",
       "value": " 462/462 [02:02&lt;00:00,  3.76it/s, v_num=2_3, scale_factor=0.100, class_loss=1.030, val_loss=0.00237]"
      }
     },
     "03ac697a52884b1190c6463c4914a872": {
      "model_module": "@jupyter-widgets/base",
      "model_module_version": "2.0.0",
      "model_name": "LayoutModel",
      "state": {}
     },
     "04e7f625db81417fa4444dd99f435af2": {
      "model_module": "@jupyter-widgets/controls",
      "model_module_version": "2.0.0",
      "model_name": "HTMLStyleModel",
      "state": {
       "description_width": "",
       "font_size": null,
       "text_color": null
      }
     },
     "05e7f7c6ab854a4cbb72ae837e07089a": {
      "model_module": "@jupyter-widgets/controls",
      "model_module_version": "2.0.0",
      "model_name": "HTMLStyleModel",
      "state": {
       "description_width": "",
       "font_size": null,
       "text_color": null
      }
     },
     "06207c3bbd6f42f0881055e941e4a884": {
      "model_module": "@jupyter-widgets/base",
      "model_module_version": "2.0.0",
      "model_name": "LayoutModel",
      "state": {}
     },
     "06c6145fff7a4a52bc2db2aeb1d274e8": {
      "model_module": "@jupyter-widgets/controls",
      "model_module_version": "2.0.0",
      "model_name": "FloatProgressModel",
      "state": {
       "layout": "IPY_MODEL_7ff1d3c926394de8ade559a3e2e4e578",
       "max": 58,
       "style": "IPY_MODEL_fc1226d5ac444049803032280f78e41b",
       "value": 58
      }
     },
     "077176b3f0634aa49932480f19b51011": {
      "model_module": "@jupyter-widgets/base",
      "model_module_version": "2.0.0",
      "model_name": "LayoutModel",
      "state": {}
     },
     "07f4cc58f55a4561b598028f22e6f294": {
      "model_module": "@jupyter-widgets/controls",
      "model_module_version": "2.0.0",
      "model_name": "HTMLStyleModel",
      "state": {
       "description_width": "",
       "font_size": null,
       "text_color": null
      }
     },
     "0836a1242c2f470f806d7dfae4bb1dd2": {
      "model_module": "@jupyter-widgets/base",
      "model_module_version": "2.0.0",
      "model_name": "LayoutModel",
      "state": {}
     },
     "083aa2d7720e4ce3b8b244d7a8dfe4d3": {
      "model_module": "@jupyter-widgets/controls",
      "model_module_version": "2.0.0",
      "model_name": "HTMLModel",
      "state": {
       "layout": "IPY_MODEL_127c1571206b4d1a9e7f7e58e333de22",
       "style": "IPY_MODEL_b1fee143722545278cf663974f008885",
       "value": "Validation DataLoader 0: 100%"
      }
     },
     "090e1371975949269b7c9e479e4a4d36": {
      "model_module": "@jupyter-widgets/controls",
      "model_module_version": "2.0.0",
      "model_name": "ProgressStyleModel",
      "state": {
       "description_width": ""
      }
     },
     "092c3d40ac574017b64125b543b31515": {
      "model_module": "@jupyter-widgets/controls",
      "model_module_version": "2.0.0",
      "model_name": "FloatProgressModel",
      "state": {
       "layout": "IPY_MODEL_981cd5a0540743b79c052eacc8a93d7c",
       "max": 58,
       "style": "IPY_MODEL_f7820724d2bd4d4daee5187904a7582d",
       "value": 58
      }
     },
     "095bcd5ea3cb47e48b25766ea5cebb90": {
      "model_module": "@jupyter-widgets/base",
      "model_module_version": "2.0.0",
      "model_name": "LayoutModel",
      "state": {}
     },
     "0b8af76e422f45828c02b5e7e780b523": {
      "model_module": "@jupyter-widgets/controls",
      "model_module_version": "2.0.0",
      "model_name": "HTMLModel",
      "state": {
       "layout": "IPY_MODEL_199ccebdfc0f4113aea052eb5bc995dd",
       "style": "IPY_MODEL_38022e5c04644eaf80c358c2b954a17c",
       "value": " 2/2 [00:26&lt;00:00, 13.31s/it]"
      }
     },
     "0c9413fcfb394b9c90cdbc6a80a63c6d": {
      "model_module": "@jupyter-widgets/base",
      "model_module_version": "2.0.0",
      "model_name": "LayoutModel",
      "state": {}
     },
     "0cb475f239124cc7b2dd80ed25444c2f": {
      "model_module": "@jupyter-widgets/base",
      "model_module_version": "2.0.0",
      "model_name": "LayoutModel",
      "state": {
       "flex": "2"
      }
     },
     "0cb4ba58a5864697a3dc07bf3caff46b": {
      "model_module": "@jupyter-widgets/controls",
      "model_module_version": "2.0.0",
      "model_name": "HTMLModel",
      "state": {
       "layout": "IPY_MODEL_b26e2f52d7a9469080aa14a2073f0943",
       "style": "IPY_MODEL_ce204ce8c21846a4aac6725eb53675ae",
       "value": "Validation DataLoader 0: 100%"
      }
     },
     "0e2fad16191d4884a1749bdaac1f8336": {
      "model_module": "@jupyter-widgets/base",
      "model_module_version": "2.0.0",
      "model_name": "LayoutModel",
      "state": {}
     },
     "0f061c53dd69441289923a524ef0f1a9": {
      "model_module": "@jupyter-widgets/controls",
      "model_module_version": "2.0.0",
      "model_name": "ProgressStyleModel",
      "state": {
       "description_width": ""
      }
     },
     "10d7b99e9cef47918199ef5d2213bd1a": {
      "model_module": "@jupyter-widgets/controls",
      "model_module_version": "2.0.0",
      "model_name": "FloatProgressModel",
      "state": {
       "layout": "IPY_MODEL_c3ee7a3147f64d808a1dae3e601e42c2",
       "max": 58,
       "style": "IPY_MODEL_cd9a06157ca048c7ad490db81061e72f",
       "value": 58
      }
     },
     "10ea38a581f44bc1a6f69c7549a09dca": {
      "model_module": "@jupyter-widgets/controls",
      "model_module_version": "2.0.0",
      "model_name": "HTMLModel",
      "state": {
       "layout": "IPY_MODEL_fbc675d223fe47958edddb7bc4acff8b",
       "style": "IPY_MODEL_28e79d6af39a4af483c4b0b6ef602205",
       "value": " 58/58 [00:01&lt;00:00, 30.14it/s]"
      }
     },
     "1112978b6fda45cb998ee4d404475efb": {
      "model_module": "@jupyter-widgets/base",
      "model_module_version": "2.0.0",
      "model_name": "LayoutModel",
      "state": {
       "flex": "2"
      }
     },
     "11547a6a0005409a9d6bdfb89b39b93f": {
      "model_module": "@jupyter-widgets/controls",
      "model_module_version": "2.0.0",
      "model_name": "HTMLStyleModel",
      "state": {
       "description_width": "",
       "font_size": null,
       "text_color": null
      }
     },
     "12155ed352e8445caf65cf6f138be7fd": {
      "model_module": "@jupyter-widgets/base",
      "model_module_version": "2.0.0",
      "model_name": "LayoutModel",
      "state": {
       "display": "inline-flex",
       "flex_flow": "row wrap",
       "visibility": "hidden",
       "width": "100%"
      }
     },
     "126626b4b3be46f2a2d4eb24b413f2fd": {
      "model_module": "@jupyter-widgets/base",
      "model_module_version": "2.0.0",
      "model_name": "LayoutModel",
      "state": {
       "display": "inline-flex",
       "flex_flow": "row wrap",
       "visibility": "hidden",
       "width": "100%"
      }
     },
     "127c1571206b4d1a9e7f7e58e333de22": {
      "model_module": "@jupyter-widgets/base",
      "model_module_version": "2.0.0",
      "model_name": "LayoutModel",
      "state": {}
     },
     "14453de182224d66b0a9244b08cec478": {
      "model_module": "@jupyter-widgets/base",
      "model_module_version": "2.0.0",
      "model_name": "LayoutModel",
      "state": {
       "display": "inline-flex",
       "flex_flow": "row wrap",
       "visibility": "hidden",
       "width": "100%"
      }
     },
     "1601180f12234871b6b23768ca9e4a2d": {
      "model_module": "@jupyter-widgets/controls",
      "model_module_version": "2.0.0",
      "model_name": "HTMLModel",
      "state": {
       "layout": "IPY_MODEL_43cc8d86262c44faac7d131c89070b41",
       "style": "IPY_MODEL_a6c42cf1b34d4b849627bbe138f66945",
       "value": "Epoch 30: 100%"
      }
     },
     "167a132d9d2e4cbf8b0001d31af560d4": {
      "model_module": "@jupyter-widgets/controls",
      "model_module_version": "2.0.0",
      "model_name": "HTMLStyleModel",
      "state": {
       "description_width": "",
       "font_size": null,
       "text_color": null
      }
     },
     "16c96e58bb244abfbb9041dbd413f039": {
      "model_module": "@jupyter-widgets/base",
      "model_module_version": "2.0.0",
      "model_name": "LayoutModel",
      "state": {}
     },
     "16d55ada4016496ba2c9488753ec2548": {
      "model_module": "@jupyter-widgets/base",
      "model_module_version": "2.0.0",
      "model_name": "LayoutModel",
      "state": {
       "flex": "2"
      }
     },
     "17363525bf4f47d4acef2ba8845f8aa5": {
      "model_module": "@jupyter-widgets/controls",
      "model_module_version": "2.0.0",
      "model_name": "HTMLModel",
      "state": {
       "layout": "IPY_MODEL_ff7a1c9522494a92aecfd80fd5775238",
       "style": "IPY_MODEL_393e992b4aba4056a3c05f33a4528440",
       "value": " 58/58 [00:02&lt;00:00, 27.99it/s]"
      }
     },
     "176a0acaae8441c7bfeef011fe39453f": {
      "model_module": "@jupyter-widgets/base",
      "model_module_version": "2.0.0",
      "model_name": "LayoutModel",
      "state": {
       "flex": "2"
      }
     },
     "177c0a434c044391a0dc8bbaf72eee42": {
      "model_module": "@jupyter-widgets/base",
      "model_module_version": "2.0.0",
      "model_name": "LayoutModel",
      "state": {
       "display": "inline-flex",
       "flex_flow": "row wrap",
       "visibility": "hidden",
       "width": "100%"
      }
     },
     "182af069ac824e09940810135cf6f08a": {
      "model_module": "@jupyter-widgets/controls",
      "model_module_version": "2.0.0",
      "model_name": "HTMLStyleModel",
      "state": {
       "description_width": "",
       "font_size": null,
       "text_color": null
      }
     },
     "1871bb906aab4ed8a33baae6fca64a2f": {
      "model_module": "@jupyter-widgets/controls",
      "model_module_version": "2.0.0",
      "model_name": "HTMLStyleModel",
      "state": {
       "description_width": "",
       "font_size": null,
       "text_color": null
      }
     },
     "18c56328324f411abc21369f54f1fe90": {
      "model_module": "@jupyter-widgets/controls",
      "model_module_version": "2.0.0",
      "model_name": "HTMLModel",
      "state": {
       "layout": "IPY_MODEL_0c9413fcfb394b9c90cdbc6a80a63c6d",
       "style": "IPY_MODEL_fe978194bb5a481aae48144f07cee57c",
       "value": " 58/58 [00:02&lt;00:00, 28.33it/s]"
      }
     },
     "1948ff952e034ea489c531aff6476a05": {
      "model_module": "@jupyter-widgets/base",
      "model_module_version": "2.0.0",
      "model_name": "LayoutModel",
      "state": {
       "flex": "2"
      }
     },
     "194b052b33b84cb6b48b5e9482e3c5f9": {
      "model_module": "@jupyter-widgets/base",
      "model_module_version": "2.0.0",
      "model_name": "LayoutModel",
      "state": {
       "display": "inline-flex",
       "flex_flow": "row wrap",
       "visibility": "hidden",
       "width": "100%"
      }
     },
     "199ccebdfc0f4113aea052eb5bc995dd": {
      "model_module": "@jupyter-widgets/base",
      "model_module_version": "2.0.0",
      "model_name": "LayoutModel",
      "state": {}
     },
     "1a99574f72f74e01a7d6b959dc217b09": {
      "model_module": "@jupyter-widgets/controls",
      "model_module_version": "2.0.0",
      "model_name": "ProgressStyleModel",
      "state": {
       "description_width": ""
      }
     },
     "1af696e3809c4989bda5fd8c66699437": {
      "model_module": "@jupyter-widgets/base",
      "model_module_version": "2.0.0",
      "model_name": "LayoutModel",
      "state": {}
     },
     "1e8e13dd00ae4fd89de489bc1b2276e9": {
      "model_module": "@jupyter-widgets/base",
      "model_module_version": "2.0.0",
      "model_name": "LayoutModel",
      "state": {
       "display": "inline-flex",
       "flex_flow": "row wrap",
       "visibility": "hidden",
       "width": "100%"
      }
     },
     "1e9a9a18ff104e80b3691b463911d8a4": {
      "model_module": "@jupyter-widgets/controls",
      "model_module_version": "2.0.0",
      "model_name": "ProgressStyleModel",
      "state": {
       "description_width": ""
      }
     },
     "20f4afc6e37546cfb1be6d321370de6e": {
      "model_module": "@jupyter-widgets/base",
      "model_module_version": "2.0.0",
      "model_name": "LayoutModel",
      "state": {}
     },
     "21babb70f83748b1b3e2d68ed025b3ab": {
      "model_module": "@jupyter-widgets/base",
      "model_module_version": "2.0.0",
      "model_name": "LayoutModel",
      "state": {}
     },
     "21fe81f59f614f59be1f06c6882757f0": {
      "model_module": "@jupyter-widgets/controls",
      "model_module_version": "2.0.0",
      "model_name": "HTMLStyleModel",
      "state": {
       "description_width": "",
       "font_size": null,
       "text_color": null
      }
     },
     "223fb4ec708e407f917d12ebb2bf2e0d": {
      "model_module": "@jupyter-widgets/controls",
      "model_module_version": "2.0.0",
      "model_name": "ProgressStyleModel",
      "state": {
       "description_width": ""
      }
     },
     "22a92750f4984a8b8ea3be689b446ae9": {
      "model_module": "@jupyter-widgets/controls",
      "model_module_version": "2.0.0",
      "model_name": "FloatProgressModel",
      "state": {
       "layout": "IPY_MODEL_b638ee78c4b6402194f6b7df197fbcec",
       "max": 58,
       "style": "IPY_MODEL_0f061c53dd69441289923a524ef0f1a9",
       "value": 58
      }
     },
     "232485b669c14370a9f81c97af757d5a": {
      "model_module": "@jupyter-widgets/controls",
      "model_module_version": "2.0.0",
      "model_name": "HTMLStyleModel",
      "state": {
       "description_width": "",
       "font_size": null,
       "text_color": null
      }
     },
     "23b8d9d0e744465ab4dd377b3edb90f9": {
      "model_module": "@jupyter-widgets/controls",
      "model_module_version": "2.0.0",
      "model_name": "HTMLModel",
      "state": {
       "layout": "IPY_MODEL_c3be33bed12e4f829dfd7f34688a1286",
       "style": "IPY_MODEL_b6bebef3eb8f4fb4a319e8a847da684a",
       "value": "Validation DataLoader 0: 100%"
      }
     },
     "240040b698154fa2bfd44d7d4984a53a": {
      "model_module": "@jupyter-widgets/base",
      "model_module_version": "2.0.0",
      "model_name": "LayoutModel",
      "state": {
       "display": "inline-flex",
       "flex_flow": "row wrap",
       "visibility": "hidden",
       "width": "100%"
      }
     },
     "2706c597be414e429e95529764f443e5": {
      "model_module": "@jupyter-widgets/controls",
      "model_module_version": "2.0.0",
      "model_name": "HTMLStyleModel",
      "state": {
       "description_width": "",
       "font_size": null,
       "text_color": null
      }
     },
     "27617f61c78342678a4e1beda0ec9c6d": {
      "model_module": "@jupyter-widgets/controls",
      "model_module_version": "2.0.0",
      "model_name": "HTMLModel",
      "state": {
       "layout": "IPY_MODEL_4401bb66f43e4fea9ac0ccc8ec0d7b7f",
       "style": "IPY_MODEL_05e7f7c6ab854a4cbb72ae837e07089a",
       "value": " 58/58 [00:02&lt;00:00, 28.70it/s]"
      }
     },
     "27a940dc850b4e268c1075945db25a96": {
      "model_module": "@jupyter-widgets/base",
      "model_module_version": "2.0.0",
      "model_name": "LayoutModel",
      "state": {
       "display": "inline-flex",
       "flex_flow": "row wrap",
       "visibility": "hidden",
       "width": "100%"
      }
     },
     "2821a272a62f459fa0a4600c3bccbf8d": {
      "model_module": "@jupyter-widgets/base",
      "model_module_version": "2.0.0",
      "model_name": "LayoutModel",
      "state": {}
     },
     "28a0eaa18e004eebb54a2a07622cba49": {
      "model_module": "@jupyter-widgets/controls",
      "model_module_version": "2.0.0",
      "model_name": "FloatProgressModel",
      "state": {
       "layout": "IPY_MODEL_81c94493a0ad430eb403ab7135e7e750",
       "max": 58,
       "style": "IPY_MODEL_adb1a7b657b44c8e9c70a791bd1712a2",
       "value": 58
      }
     },
     "28e79d6af39a4af483c4b0b6ef602205": {
      "model_module": "@jupyter-widgets/controls",
      "model_module_version": "2.0.0",
      "model_name": "HTMLStyleModel",
      "state": {
       "description_width": "",
       "font_size": null,
       "text_color": null
      }
     },
     "2a3cd0d3bce040dcaec2f47ea2e23fcc": {
      "model_module": "@jupyter-widgets/controls",
      "model_module_version": "2.0.0",
      "model_name": "HTMLModel",
      "state": {
       "layout": "IPY_MODEL_b8b2e5e7cad04781b6fa2c756b4e2b59",
       "style": "IPY_MODEL_ec633046841e4278bab7dff23b51dba7",
       "value": " 58/58 [00:01&lt;00:00, 29.14it/s]"
      }
     },
     "2af5b65ea5964416ac7d6c57de280075": {
      "model_module": "@jupyter-widgets/base",
      "model_module_version": "2.0.0",
      "model_name": "LayoutModel",
      "state": {}
     },
     "2bf98be2d4914bfeaa4dbebeb6cc4587": {
      "model_module": "@jupyter-widgets/controls",
      "model_module_version": "2.0.0",
      "model_name": "ProgressStyleModel",
      "state": {
       "description_width": ""
      }
     },
     "2ce0c3c7568747a799851000e4f69933": {
      "model_module": "@jupyter-widgets/base",
      "model_module_version": "2.0.0",
      "model_name": "LayoutModel",
      "state": {
       "flex": "2"
      }
     },
     "2e49f6df5de4451ab85fb4488b1a4b3c": {
      "model_module": "@jupyter-widgets/base",
      "model_module_version": "2.0.0",
      "model_name": "LayoutModel",
      "state": {}
     },
     "2e5fec23bffa4593b0c6894021072b60": {
      "model_module": "@jupyter-widgets/base",
      "model_module_version": "2.0.0",
      "model_name": "LayoutModel",
      "state": {}
     },
     "3016f678ce8e46a8a78c9aa0074105cd": {
      "model_module": "@jupyter-widgets/controls",
      "model_module_version": "2.0.0",
      "model_name": "HTMLModel",
      "state": {
       "layout": "IPY_MODEL_0e2fad16191d4884a1749bdaac1f8336",
       "style": "IPY_MODEL_91921d1228b74235ac8195052b5524e6",
       "value": " 58/58 [00:01&lt;00:00, 30.69it/s]"
      }
     },
     "312df1203a0b415eaff8ef0dafcd9277": {
      "model_module": "@jupyter-widgets/controls",
      "model_module_version": "2.0.0",
      "model_name": "HTMLModel",
      "state": {
       "layout": "IPY_MODEL_7653f6735cca438cbe1478632fa9d67b",
       "style": "IPY_MODEL_af2dbc9acb6047ca9c4ca00fee8c3f6f",
       "value": " 58/58 [00:01&lt;00:00, 29.55it/s]"
      }
     },
     "314c91c65609417681a774d946deab94": {
      "model_module": "@jupyter-widgets/base",
      "model_module_version": "2.0.0",
      "model_name": "LayoutModel",
      "state": {
       "display": "inline-flex",
       "flex_flow": "row wrap",
       "visibility": "hidden",
       "width": "100%"
      }
     },
     "3172da473775412eaa488e1523cc345e": {
      "model_module": "@jupyter-widgets/base",
      "model_module_version": "2.0.0",
      "model_name": "LayoutModel",
      "state": {
       "display": "inline-flex",
       "flex_flow": "row wrap",
       "visibility": "hidden",
       "width": "100%"
      }
     },
     "33d5a3e386a2471ab088178940146ced": {
      "model_module": "@jupyter-widgets/controls",
      "model_module_version": "2.0.0",
      "model_name": "FloatProgressModel",
      "state": {
       "layout": "IPY_MODEL_176a0acaae8441c7bfeef011fe39453f",
       "max": 58,
       "style": "IPY_MODEL_4c892fecf5ee455894f51a1f27c433ac",
       "value": 58
      }
     },
     "34fe811fb4834348b0aacb8b58338e6c": {
      "model_module": "@jupyter-widgets/controls",
      "model_module_version": "2.0.0",
      "model_name": "FloatProgressModel",
      "state": {
       "layout": "IPY_MODEL_74ac757accb7469aa96231066b774b52",
       "max": 2,
       "style": "IPY_MODEL_6b1c37be41a3446c9ca672a0311d3dee",
       "value": 2
      }
     },
     "35bb747730e44fed9a2ff06073277ffb": {
      "model_module": "@jupyter-widgets/controls",
      "model_module_version": "2.0.0",
      "model_name": "FloatProgressModel",
      "state": {
       "layout": "IPY_MODEL_0cb475f239124cc7b2dd80ed25444c2f",
       "max": 58,
       "style": "IPY_MODEL_b05312a3ee5047c18af2bf12a700e727",
       "value": 58
      }
     },
     "360fed8b79384feea446adb478ceea60": {
      "model_module": "@jupyter-widgets/controls",
      "model_module_version": "2.0.0",
      "model_name": "HTMLStyleModel",
      "state": {
       "description_width": "",
       "font_size": null,
       "text_color": null
      }
     },
     "38022e5c04644eaf80c358c2b954a17c": {
      "model_module": "@jupyter-widgets/controls",
      "model_module_version": "2.0.0",
      "model_name": "HTMLStyleModel",
      "state": {
       "description_width": "",
       "font_size": null,
       "text_color": null
      }
     },
     "3827ece8e41348758fd29de0e4eb8c63": {
      "model_module": "@jupyter-widgets/controls",
      "model_module_version": "2.0.0",
      "model_name": "ProgressStyleModel",
      "state": {
       "description_width": ""
      }
     },
     "38648293ebdf4f539a5b9a447ddc9cd7": {
      "model_module": "@jupyter-widgets/base",
      "model_module_version": "2.0.0",
      "model_name": "LayoutModel",
      "state": {
       "display": "inline-flex",
       "flex_flow": "row wrap",
       "visibility": "hidden",
       "width": "100%"
      }
     },
     "38967f2ea6a94f9b893f4286170ac492": {
      "model_module": "@jupyter-widgets/base",
      "model_module_version": "2.0.0",
      "model_name": "LayoutModel",
      "state": {
       "flex": "2"
      }
     },
     "389ba1bbc0674f279ed86a2036cb0bbc": {
      "model_module": "@jupyter-widgets/base",
      "model_module_version": "2.0.0",
      "model_name": "LayoutModel",
      "state": {
       "flex": "2"
      }
     },
     "392fbe377bf7495d8f3ace6a5b4f2de1": {
      "model_module": "@jupyter-widgets/base",
      "model_module_version": "2.0.0",
      "model_name": "LayoutModel",
      "state": {}
     },
     "3930fffb93d045f8bd63ad12fa48184f": {
      "model_module": "@jupyter-widgets/base",
      "model_module_version": "2.0.0",
      "model_name": "LayoutModel",
      "state": {}
     },
     "393e992b4aba4056a3c05f33a4528440": {
      "model_module": "@jupyter-widgets/controls",
      "model_module_version": "2.0.0",
      "model_name": "HTMLStyleModel",
      "state": {
       "description_width": "",
       "font_size": null,
       "text_color": null
      }
     },
     "3be06362042d4770928d7e2c6a193657": {
      "model_module": "@jupyter-widgets/controls",
      "model_module_version": "2.0.0",
      "model_name": "FloatProgressModel",
      "state": {
       "layout": "IPY_MODEL_a68efa881c804473b0b992f35166dbf3",
       "max": 58,
       "style": "IPY_MODEL_fe130baad0b242979d6497eef0a9eb2f",
       "value": 58
      }
     },
     "3c907d3972a24c88b9139f28743da3e1": {
      "model_module": "@jupyter-widgets/controls",
      "model_module_version": "2.0.0",
      "model_name": "HTMLModel",
      "state": {
       "layout": "IPY_MODEL_9c5b3923a8384927aa7a84d2acb63cf2",
       "style": "IPY_MODEL_ad98797cc4eb44f0b7f233045fec6a8a",
       "value": "Validation DataLoader 0: 100%"
      }
     },
     "3dc0684faf844e11ba791cb4bc95c8b1": {
      "model_module": "@jupyter-widgets/controls",
      "model_module_version": "2.0.0",
      "model_name": "HTMLModel",
      "state": {
       "layout": "IPY_MODEL_90a7f65f34404a08b956dc11b4774bb4",
       "style": "IPY_MODEL_89dd704f8db94ed8a60d5704cdd88b89",
       "value": " 58/58 [00:02&lt;00:00, 28.14it/s]"
      }
     },
     "410293d572ae40ae85562dc7bcd3b19c": {
      "model_module": "@jupyter-widgets/base",
      "model_module_version": "2.0.0",
      "model_name": "LayoutModel",
      "state": {
       "flex": "2"
      }
     },
     "42678ed2356449548c5d92fef485bc1b": {
      "model_module": "@jupyter-widgets/base",
      "model_module_version": "2.0.0",
      "model_name": "LayoutModel",
      "state": {
       "display": "inline-flex",
       "flex_flow": "row wrap",
       "visibility": "hidden",
       "width": "100%"
      }
     },
     "4334746896184119872e90b59869c0fd": {
      "model_module": "@jupyter-widgets/controls",
      "model_module_version": "2.0.0",
      "model_name": "ProgressStyleModel",
      "state": {
       "description_width": ""
      }
     },
     "43cc8d86262c44faac7d131c89070b41": {
      "model_module": "@jupyter-widgets/base",
      "model_module_version": "2.0.0",
      "model_name": "LayoutModel",
      "state": {}
     },
     "4401bb66f43e4fea9ac0ccc8ec0d7b7f": {
      "model_module": "@jupyter-widgets/base",
      "model_module_version": "2.0.0",
      "model_name": "LayoutModel",
      "state": {}
     },
     "4421cf256b9c44b2a9e57e4b41f25bf3": {
      "model_module": "@jupyter-widgets/controls",
      "model_module_version": "2.0.0",
      "model_name": "HTMLStyleModel",
      "state": {
       "description_width": "",
       "font_size": null,
       "text_color": null
      }
     },
     "45278cf644194a20b541b4bdc8faf533": {
      "model_module": "@jupyter-widgets/controls",
      "model_module_version": "2.0.0",
      "model_name": "HTMLModel",
      "state": {
       "layout": "IPY_MODEL_20f4afc6e37546cfb1be6d321370de6e",
       "style": "IPY_MODEL_e5b9c91865334b2182bb1d2c34d26d1a",
       "value": " 58/58 [00:02&lt;00:00, 27.88it/s]"
      }
     },
     "4554e1c149824f6d9e35576094a699c3": {
      "model_module": "@jupyter-widgets/base",
      "model_module_version": "2.0.0",
      "model_name": "LayoutModel",
      "state": {}
     },
     "4562b8acdb5348549953cda5146da49e": {
      "model_module": "@jupyter-widgets/base",
      "model_module_version": "2.0.0",
      "model_name": "LayoutModel",
      "state": {
       "display": "inline-flex",
       "flex_flow": "row wrap",
       "visibility": "hidden",
       "width": "100%"
      }
     },
     "460c68a8675a48d1869cff17839c6380": {
      "model_module": "@jupyter-widgets/base",
      "model_module_version": "2.0.0",
      "model_name": "LayoutModel",
      "state": {}
     },
     "465dc7e9bc824a239d7e856dd6bb7b6e": {
      "model_module": "@jupyter-widgets/controls",
      "model_module_version": "2.0.0",
      "model_name": "HTMLModel",
      "state": {
       "layout": "IPY_MODEL_0836a1242c2f470f806d7dfae4bb1dd2",
       "style": "IPY_MODEL_7cacc59d25dc45759dac76ef2a62ee23",
       "value": "Validation DataLoader 0: 100%"
      }
     },
     "46c2ae88ef5b462aba26966acdf693f5": {
      "model_module": "@jupyter-widgets/base",
      "model_module_version": "2.0.0",
      "model_name": "LayoutModel",
      "state": {
       "display": "inline-flex",
       "flex_flow": "row wrap",
       "visibility": "hidden",
       "width": "100%"
      }
     },
     "46f77d71af78412eb5d9f050618f729b": {
      "model_module": "@jupyter-widgets/controls",
      "model_module_version": "2.0.0",
      "model_name": "FloatProgressModel",
      "state": {
       "layout": "IPY_MODEL_777808fc1ab441038e36b8daf485e6c8",
       "max": 58,
       "style": "IPY_MODEL_916ff6e217d04da1859861a389ea187a",
       "value": 58
      }
     },
     "46fb6e625f19490297fc0e3bdb708203": {
      "model_module": "@jupyter-widgets/base",
      "model_module_version": "2.0.0",
      "model_name": "LayoutModel",
      "state": {}
     },
     "48129a76ca2842d1b7dcf0d6b847679a": {
      "model_module": "@jupyter-widgets/controls",
      "model_module_version": "2.0.0",
      "model_name": "HTMLStyleModel",
      "state": {
       "description_width": "",
       "font_size": null,
       "text_color": null
      }
     },
     "4869b33bd0d84976aeba7f74a5f2e913": {
      "model_module": "@jupyter-widgets/controls",
      "model_module_version": "2.0.0",
      "model_name": "HTMLStyleModel",
      "state": {
       "description_width": "",
       "font_size": null,
       "text_color": null
      }
     },
     "4930bc64d4d54f58a53e036e61cdff8d": {
      "model_module": "@jupyter-widgets/base",
      "model_module_version": "2.0.0",
      "model_name": "LayoutModel",
      "state": {
       "display": "inline-flex",
       "flex_flow": "row wrap",
       "visibility": "hidden",
       "width": "100%"
      }
     },
     "49a4bf431eb0419bbaa980f3e3ee864f": {
      "model_module": "@jupyter-widgets/base",
      "model_module_version": "2.0.0",
      "model_name": "LayoutModel",
      "state": {}
     },
     "49a8ac5511c84ec78ea1450aed6a409b": {
      "model_module": "@jupyter-widgets/controls",
      "model_module_version": "2.0.0",
      "model_name": "HTMLStyleModel",
      "state": {
       "description_width": "",
       "font_size": null,
       "text_color": null
      }
     },
     "49ee7406db8d4b249d5aed6ec513eac9": {
      "model_module": "@jupyter-widgets/base",
      "model_module_version": "2.0.0",
      "model_name": "LayoutModel",
      "state": {}
     },
     "4b98735884ec4ec9a67c7255821e9635": {
      "model_module": "@jupyter-widgets/controls",
      "model_module_version": "2.0.0",
      "model_name": "HTMLModel",
      "state": {
       "layout": "IPY_MODEL_b64eb4b5ce6c40be9f5551ad852dd2da",
       "style": "IPY_MODEL_be671afa806c461bbe49934b5ef1afa1",
       "value": "Validation DataLoader 0: 100%"
      }
     },
     "4bd2b7cb857f4e07bc4310e50af4899d": {
      "model_module": "@jupyter-widgets/controls",
      "model_module_version": "2.0.0",
      "model_name": "HTMLModel",
      "state": {
       "layout": "IPY_MODEL_460c68a8675a48d1869cff17839c6380",
       "style": "IPY_MODEL_04e7f625db81417fa4444dd99f435af2",
       "value": "Validation DataLoader 0: 100%"
      }
     },
     "4c892fecf5ee455894f51a1f27c433ac": {
      "model_module": "@jupyter-widgets/controls",
      "model_module_version": "2.0.0",
      "model_name": "ProgressStyleModel",
      "state": {
       "description_width": ""
      }
     },
     "4cc02b638fd4479eb62b61ff5aa897cb": {
      "model_module": "@jupyter-widgets/controls",
      "model_module_version": "2.0.0",
      "model_name": "HTMLModel",
      "state": {
       "layout": "IPY_MODEL_03ac697a52884b1190c6463c4914a872",
       "style": "IPY_MODEL_edecf3cf17cf4ffbb69e837ffb9ad32c",
       "value": "Validation DataLoader 0: 100%"
      }
     },
     "4d223ec43288492a842953260b0db662": {
      "model_module": "@jupyter-widgets/base",
      "model_module_version": "2.0.0",
      "model_name": "LayoutModel",
      "state": {}
     },
     "4d2ed157c74645489563e870901d399f": {
      "model_module": "@jupyter-widgets/base",
      "model_module_version": "2.0.0",
      "model_name": "LayoutModel",
      "state": {}
     },
     "4d595f98e5bf47c7babffdcbf458a6a2": {
      "model_module": "@jupyter-widgets/controls",
      "model_module_version": "2.0.0",
      "model_name": "HTMLModel",
      "state": {
       "layout": "IPY_MODEL_de4c40abd63a469f9bd1ab8ea21054a4",
       "style": "IPY_MODEL_dc7a39788f7044acbe1c05a4f1e1e889",
       "value": " 58/58 [00:01&lt;00:00, 30.46it/s]"
      }
     },
     "4ddacabdc221482bb1be6895bee9bded": {
      "model_module": "@jupyter-widgets/controls",
      "model_module_version": "2.0.0",
      "model_name": "HTMLStyleModel",
      "state": {
       "description_width": "",
       "font_size": null,
       "text_color": null
      }
     },
     "4fed23971fcf49f2817be0318f63a8c8": {
      "model_module": "@jupyter-widgets/controls",
      "model_module_version": "2.0.0",
      "model_name": "HTMLModel",
      "state": {
       "layout": "IPY_MODEL_d582a590a9dd4979a45cb120f34407c2",
       "style": "IPY_MODEL_9a37861377bb4ca8b11104bb1a1f63a7",
       "value": "Validation DataLoader 0: 100%"
      }
     },
     "507f1caea1a94a50bd5ececd79139ae5": {
      "model_module": "@jupyter-widgets/base",
      "model_module_version": "2.0.0",
      "model_name": "LayoutModel",
      "state": {}
     },
     "512e4632b70e479c9b5cd4aba71fed5d": {
      "model_module": "@jupyter-widgets/base",
      "model_module_version": "2.0.0",
      "model_name": "LayoutModel",
      "state": {
       "flex": "2"
      }
     },
     "51fededd4e6b4053a31da4e4c1b61d0c": {
      "model_module": "@jupyter-widgets/controls",
      "model_module_version": "2.0.0",
      "model_name": "ProgressStyleModel",
      "state": {
       "description_width": ""
      }
     },
     "547856ddeade4adc971515242850bda3": {
      "model_module": "@jupyter-widgets/controls",
      "model_module_version": "2.0.0",
      "model_name": "HTMLStyleModel",
      "state": {
       "description_width": "",
       "font_size": null,
       "text_color": null
      }
     },
     "54f5cf46922d4004a950625d432792ac": {
      "model_module": "@jupyter-widgets/base",
      "model_module_version": "2.0.0",
      "model_name": "LayoutModel",
      "state": {}
     },
     "552728e56bcf446faa0dccb76450d4d8": {
      "model_module": "@jupyter-widgets/controls",
      "model_module_version": "2.0.0",
      "model_name": "FloatProgressModel",
      "state": {
       "layout": "IPY_MODEL_710108945f084173921fed67c7309890",
       "max": 58,
       "style": "IPY_MODEL_a967df235b8d41979981f13b112e89f8",
       "value": 58
      }
     },
     "55275a96d7824f2296b3bef810aab5d7": {
      "model_module": "@jupyter-widgets/base",
      "model_module_version": "2.0.0",
      "model_name": "LayoutModel",
      "state": {
       "display": "inline-flex",
       "flex_flow": "row wrap",
       "width": "100%"
      }
     },
     "56bd6c4b7e76478d85caedce0fa382d8": {
      "model_module": "@jupyter-widgets/base",
      "model_module_version": "2.0.0",
      "model_name": "LayoutModel",
      "state": {
       "display": "inline-flex",
       "flex_flow": "row wrap",
       "visibility": "hidden",
       "width": "100%"
      }
     },
     "56d14ac3ae504ba18e00b001e83a25c6": {
      "model_module": "@jupyter-widgets/controls",
      "model_module_version": "2.0.0",
      "model_name": "HTMLStyleModel",
      "state": {
       "description_width": "",
       "font_size": null,
       "text_color": null
      }
     },
     "5735ccc4e3b24b5db6942155a4ea6a02": {
      "model_module": "@jupyter-widgets/controls",
      "model_module_version": "2.0.0",
      "model_name": "HTMLModel",
      "state": {
       "layout": "IPY_MODEL_095bcd5ea3cb47e48b25766ea5cebb90",
       "style": "IPY_MODEL_b7a04729f0eb49af837d340182111313",
       "value": "Validation DataLoader 0: 100%"
      }
     },
     "57f0d6ffa4004207aa984bf450245be7": {
      "model_module": "@jupyter-widgets/base",
      "model_module_version": "2.0.0",
      "model_name": "LayoutModel",
      "state": {}
     },
     "582237f70c044a6ba8217fb31e4785e3": {
      "model_module": "@jupyter-widgets/controls",
      "model_module_version": "2.0.0",
      "model_name": "HTMLModel",
      "state": {
       "layout": "IPY_MODEL_06207c3bbd6f42f0881055e941e4a884",
       "style": "IPY_MODEL_167a132d9d2e4cbf8b0001d31af560d4",
       "value": "Validation DataLoader 0: 100%"
      }
     },
     "584c63efb3b1405d9f23c0d2f0b1d7f1": {
      "model_module": "@jupyter-widgets/controls",
      "model_module_version": "2.0.0",
      "model_name": "HTMLModel",
      "state": {
       "layout": "IPY_MODEL_e7b831ced499418482c2dce784604e8e",
       "style": "IPY_MODEL_4869b33bd0d84976aeba7f74a5f2e913",
       "value": " 58/58 [00:01&lt;00:00, 31.45it/s]"
      }
     },
     "597bd23194d048529fb042645949204d": {
      "model_module": "@jupyter-widgets/base",
      "model_module_version": "2.0.0",
      "model_name": "LayoutModel",
      "state": {
       "display": "inline-flex",
       "flex_flow": "row wrap",
       "visibility": "hidden",
       "width": "100%"
      }
     },
     "5b3cca0fb3ef463cb07afafb96ca1bda": {
      "model_module": "@jupyter-widgets/controls",
      "model_module_version": "2.0.0",
      "model_name": "FloatProgressModel",
      "state": {
       "layout": "IPY_MODEL_ecd3f596397f4fc58edf7d96398bc7f0",
       "max": 58,
       "style": "IPY_MODEL_98a739b6cfb64423bb14e98b58876537",
       "value": 58
      }
     },
     "5b6fb95f8b5841aeb3444d92724e24b0": {
      "model_module": "@jupyter-widgets/controls",
      "model_module_version": "2.0.0",
      "model_name": "HTMLModel",
      "state": {
       "layout": "IPY_MODEL_ccc9143d310843e1909329837e100e9f",
       "style": "IPY_MODEL_5cb5b671b38642cba5116a6cf1ae14d8",
       "value": " 58/58 [00:02&lt;00:00, 28.45it/s]"
      }
     },
     "5b71762c84794725a7ae3ee5006afd96": {
      "model_module": "@jupyter-widgets/controls",
      "model_module_version": "2.0.0",
      "model_name": "FloatProgressModel",
      "state": {
       "layout": "IPY_MODEL_16d55ada4016496ba2c9488753ec2548",
       "max": 58,
       "style": "IPY_MODEL_fc248f14252843bd8fd477cbdc1065c6",
       "value": 58
      }
     },
     "5bb2803e1789482699b88f9eeb6adf9e": {
      "model_module": "@jupyter-widgets/base",
      "model_module_version": "2.0.0",
      "model_name": "LayoutModel",
      "state": {
       "flex": "2"
      }
     },
     "5c57fe7e2f3c4018b4384c61e9a494a4": {
      "model_module": "@jupyter-widgets/controls",
      "model_module_version": "2.0.0",
      "model_name": "HTMLModel",
      "state": {
       "layout": "IPY_MODEL_46fb6e625f19490297fc0e3bdb708203",
       "style": "IPY_MODEL_a2d0f13fd32b47309176541560ba015c",
       "value": " 58/58 [00:01&lt;00:00, 29.73it/s]"
      }
     },
     "5c7567c8ebc4411ba7f9fd89abe331a6": {
      "model_module": "@jupyter-widgets/controls",
      "model_module_version": "2.0.0",
      "model_name": "HTMLModel",
      "state": {
       "layout": "IPY_MODEL_21babb70f83748b1b3e2d68ed025b3ab",
       "style": "IPY_MODEL_8b77ce3e4d054e87b5191f60ce101fdd",
       "value": "Validation DataLoader 0: 100%"
      }
     },
     "5cb5b671b38642cba5116a6cf1ae14d8": {
      "model_module": "@jupyter-widgets/controls",
      "model_module_version": "2.0.0",
      "model_name": "HTMLStyleModel",
      "state": {
       "description_width": "",
       "font_size": null,
       "text_color": null
      }
     },
     "61c03ba512354f18b10c83a01ff345e0": {
      "model_module": "@jupyter-widgets/controls",
      "model_module_version": "2.0.0",
      "model_name": "HTMLModel",
      "state": {
       "layout": "IPY_MODEL_f6214f72bdab4de7aea2f51cf9af5389",
       "style": "IPY_MODEL_21fe81f59f614f59be1f06c6882757f0",
       "value": " 58/58 [00:02&lt;00:00, 28.05it/s]"
      }
     },
     "62b9542beb45499baeea4e434a81a9d3": {
      "model_module": "@jupyter-widgets/base",
      "model_module_version": "2.0.0",
      "model_name": "LayoutModel",
      "state": {}
     },
     "64781e84a59240fe945474f731235be4": {
      "model_module": "@jupyter-widgets/base",
      "model_module_version": "2.0.0",
      "model_name": "LayoutModel",
      "state": {
       "display": "inline-flex",
       "flex_flow": "row wrap",
       "visibility": "hidden",
       "width": "100%"
      }
     },
     "64b22a19593948fe9579878425e456e7": {
      "model_module": "@jupyter-widgets/controls",
      "model_module_version": "2.0.0",
      "model_name": "HTMLModel",
      "state": {
       "layout": "IPY_MODEL_392fbe377bf7495d8f3ace6a5b4f2de1",
       "style": "IPY_MODEL_85496e1f4d3e49ca8245fa9dae2c643b",
       "value": " 58/58 [00:02&lt;00:00, 28.90it/s]"
      }
     },
     "671625e2e8524ba2ac1e24039bd2f41e": {
      "model_module": "@jupyter-widgets/controls",
      "model_module_version": "2.0.0",
      "model_name": "FloatProgressModel",
      "state": {
       "layout": "IPY_MODEL_1948ff952e034ea489c531aff6476a05",
       "max": 58,
       "style": "IPY_MODEL_e99fc77dc98642e592f01023778a7bf5",
       "value": 58
      }
     },
     "679f1b988b40415d9f148e8e82f98c12": {
      "model_module": "@jupyter-widgets/controls",
      "model_module_version": "2.0.0",
      "model_name": "FloatProgressModel",
      "state": {
       "bar_style": "success",
       "layout": "IPY_MODEL_f44e7d55ccc84a3788147c4a9273d6ca",
       "max": 462,
       "style": "IPY_MODEL_090e1371975949269b7c9e479e4a4d36",
       "value": 462
      }
     },
     "6815300302ea4f0385309de8cb8df735": {
      "model_module": "@jupyter-widgets/controls",
      "model_module_version": "2.0.0",
      "model_name": "HTMLModel",
      "state": {
       "layout": "IPY_MODEL_7df24789b9a84a288733d8bc3eb9bc0c",
       "style": "IPY_MODEL_ec9319e2fb5e4b939e4e4d74cc9d072b",
       "value": "Validation DataLoader 0: 100%"
      }
     },
     "68a48789059c42259c753e3f2712a0cd": {
      "model_module": "@jupyter-widgets/controls",
      "model_module_version": "2.0.0",
      "model_name": "FloatProgressModel",
      "state": {
       "layout": "IPY_MODEL_c29d16656cea4770b4e54babf41b3ec0",
       "max": 58,
       "style": "IPY_MODEL_d6b2c95bf4ff4a31b6a1737bc1bfb9a7",
       "value": 58
      }
     },
     "68d2150af1d84462b4f0cea74c057c12": {
      "model_module": "@jupyter-widgets/base",
      "model_module_version": "2.0.0",
      "model_name": "LayoutModel",
      "state": {
       "display": "inline-flex",
       "flex_flow": "row wrap",
       "visibility": "hidden",
       "width": "100%"
      }
     },
     "68f7f5547be646e6bf3a61a4985e8dff": {
      "model_module": "@jupyter-widgets/base",
      "model_module_version": "2.0.0",
      "model_name": "LayoutModel",
      "state": {
       "flex": "2"
      }
     },
     "699c7d1125a8406db8d447e779428cbc": {
      "model_module": "@jupyter-widgets/controls",
      "model_module_version": "2.0.0",
      "model_name": "HTMLStyleModel",
      "state": {
       "description_width": "",
       "font_size": null,
       "text_color": null
      }
     },
     "69aec40472bb4af6bce9307d9edfd945": {
      "model_module": "@jupyter-widgets/base",
      "model_module_version": "2.0.0",
      "model_name": "LayoutModel",
      "state": {}
     },
     "6ad6551fc4544228ab5e0f61eb292b9f": {
      "model_module": "@jupyter-widgets/base",
      "model_module_version": "2.0.0",
      "model_name": "LayoutModel",
      "state": {
       "display": "inline-flex",
       "flex_flow": "row wrap",
       "visibility": "hidden",
       "width": "100%"
      }
     },
     "6b1c37be41a3446c9ca672a0311d3dee": {
      "model_module": "@jupyter-widgets/controls",
      "model_module_version": "2.0.0",
      "model_name": "ProgressStyleModel",
      "state": {
       "description_width": ""
      }
     },
     "6b53783cb2674cc29059a726ef08fec5": {
      "model_module": "@jupyter-widgets/controls",
      "model_module_version": "2.0.0",
      "model_name": "HTMLStyleModel",
      "state": {
       "description_width": "",
       "font_size": null,
       "text_color": null
      }
     },
     "6b86db7ac8284985a5a839a7fce2b6b5": {
      "buffers": [
       {
        "data": "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",
        "encoding": "base64",
        "path": [
         "value"
        ]
       }
      ],
      "model_module": "@jupyter-widgets/controls",
      "model_module_version": "2.0.0",
      "model_name": "ImageModel",
      "state": {
       "layout": "IPY_MODEL_507f1caea1a94a50bd5ececd79139ae5"
      }
     },
     "6ba5cc2cd5ee4fa4a3c95a1b0f416956": {
      "model_module": "@jupyter-widgets/controls",
      "model_module_version": "2.0.0",
      "model_name": "FloatProgressModel",
      "state": {
       "layout": "IPY_MODEL_b045b09e830945a28b06260f4057b373",
       "max": 58,
       "style": "IPY_MODEL_1a99574f72f74e01a7d6b959dc217b09",
       "value": 58
      }
     },
     "6bf793b020ac4f6284f8d408da6de049": {
      "model_module": "@jupyter-widgets/controls",
      "model_module_version": "2.0.0",
      "model_name": "HTMLModel",
      "state": {
       "layout": "IPY_MODEL_b6c92641f674450aae5cdcf6790690ed",
       "style": "IPY_MODEL_48129a76ca2842d1b7dcf0d6b847679a",
       "value": " 58/58 [00:01&lt;00:00, 30.13it/s]"
      }
     },
     "6eaa493355424bb3ab31ff519a58ae4e": {
      "model_module": "@jupyter-widgets/base",
      "model_module_version": "2.0.0",
      "model_name": "LayoutModel",
      "state": {}
     },
     "6f53b0224c7d40d093f5606923dc7330": {
      "model_module": "@jupyter-widgets/controls",
      "model_module_version": "2.0.0",
      "model_name": "ProgressStyleModel",
      "state": {
       "description_width": ""
      }
     },
     "70ff322491ce4a64966a18166302510d": {
      "model_module": "@jupyter-widgets/controls",
      "model_module_version": "2.0.0",
      "model_name": "HTMLModel",
      "state": {
       "layout": "IPY_MODEL_62b9542beb45499baeea4e434a81a9d3",
       "style": "IPY_MODEL_7edbe6f0fcc048a8a576fbe615458d6b",
       "value": " 58/58 [00:01&lt;00:00, 29.75it/s]"
      }
     },
     "710108945f084173921fed67c7309890": {
      "model_module": "@jupyter-widgets/base",
      "model_module_version": "2.0.0",
      "model_name": "LayoutModel",
      "state": {
       "flex": "2"
      }
     },
     "711b8899449f4ba99e0d9fbbe35c6299": {
      "model_module": "@jupyter-widgets/controls",
      "model_module_version": "2.0.0",
      "model_name": "FloatProgressModel",
      "state": {
       "layout": "IPY_MODEL_b06c891d6d2b46a6943b1213095b827f",
       "max": 58,
       "style": "IPY_MODEL_3827ece8e41348758fd29de0e4eb8c63",
       "value": 58
      }
     },
     "74ac757accb7469aa96231066b774b52": {
      "model_module": "@jupyter-widgets/base",
      "model_module_version": "2.0.0",
      "model_name": "LayoutModel",
      "state": {
       "flex": "2"
      }
     },
     "7653f6735cca438cbe1478632fa9d67b": {
      "model_module": "@jupyter-widgets/base",
      "model_module_version": "2.0.0",
      "model_name": "LayoutModel",
      "state": {}
     },
     "772c74674d2c45628fee7b345a69a2a3": {
      "model_module": "@jupyter-widgets/controls",
      "model_module_version": "2.0.0",
      "model_name": "ProgressStyleModel",
      "state": {
       "description_width": ""
      }
     },
     "777808fc1ab441038e36b8daf485e6c8": {
      "model_module": "@jupyter-widgets/base",
      "model_module_version": "2.0.0",
      "model_name": "LayoutModel",
      "state": {
       "flex": "2"
      }
     },
     "77e12094ded14068a97bb0f1c1e00a5d": {
      "model_module": "@jupyter-widgets/controls",
      "model_module_version": "2.0.0",
      "model_name": "FloatProgressModel",
      "state": {
       "layout": "IPY_MODEL_410293d572ae40ae85562dc7bcd3b19c",
       "max": 58,
       "style": "IPY_MODEL_223fb4ec708e407f917d12ebb2bf2e0d",
       "value": 58
      }
     },
     "7c485c70a84e424e914ba8cf3ef43315": {
      "model_module": "@jupyter-widgets/base",
      "model_module_version": "2.0.0",
      "model_name": "LayoutModel",
      "state": {}
     },
     "7cacc59d25dc45759dac76ef2a62ee23": {
      "model_module": "@jupyter-widgets/controls",
      "model_module_version": "2.0.0",
      "model_name": "HTMLStyleModel",
      "state": {
       "description_width": "",
       "font_size": null,
       "text_color": null
      }
     },
     "7df24789b9a84a288733d8bc3eb9bc0c": {
      "model_module": "@jupyter-widgets/base",
      "model_module_version": "2.0.0",
      "model_name": "LayoutModel",
      "state": {}
     },
     "7edbe6f0fcc048a8a576fbe615458d6b": {
      "model_module": "@jupyter-widgets/controls",
      "model_module_version": "2.0.0",
      "model_name": "HTMLStyleModel",
      "state": {
       "description_width": "",
       "font_size": null,
       "text_color": null
      }
     },
     "7ff1d3c926394de8ade559a3e2e4e578": {
      "model_module": "@jupyter-widgets/base",
      "model_module_version": "2.0.0",
      "model_name": "LayoutModel",
      "state": {
       "flex": "2"
      }
     },
     "81c94493a0ad430eb403ab7135e7e750": {
      "model_module": "@jupyter-widgets/base",
      "model_module_version": "2.0.0",
      "model_name": "LayoutModel",
      "state": {
       "flex": "2"
      }
     },
     "82b8ca07fa2b4a969046005ea319b1ec": {
      "model_module": "@jupyter-widgets/base",
      "model_module_version": "2.0.0",
      "model_name": "LayoutModel",
      "state": {
       "flex": "2"
      }
     },
     "83342015d20f482980368be4c266aff2": {
      "model_module": "@jupyter-widgets/base",
      "model_module_version": "2.0.0",
      "model_name": "LayoutModel",
      "state": {
       "display": "inline-flex",
       "flex_flow": "row wrap",
       "visibility": "hidden",
       "width": "100%"
      }
     },
     "83971fa756cf4d25a8c25e250027f413": {
      "model_module": "@jupyter-widgets/controls",
      "model_module_version": "2.0.0",
      "model_name": "HTMLModel",
      "state": {
       "layout": "IPY_MODEL_1af696e3809c4989bda5fd8c66699437",
       "style": "IPY_MODEL_9e52130e40a14eb0822bcca379bd9de7",
       "value": " 58/58 [00:02&lt;00:00, 28.67it/s]"
      }
     },
     "85496e1f4d3e49ca8245fa9dae2c643b": {
      "model_module": "@jupyter-widgets/controls",
      "model_module_version": "2.0.0",
      "model_name": "HTMLStyleModel",
      "state": {
       "description_width": "",
       "font_size": null,
       "text_color": null
      }
     },
     "86f43d3cd52842c4ade37ab998b2e053": {
      "model_module": "@jupyter-widgets/base",
      "model_module_version": "2.0.0",
      "model_name": "LayoutModel",
      "state": {}
     },
     "89dd704f8db94ed8a60d5704cdd88b89": {
      "model_module": "@jupyter-widgets/controls",
      "model_module_version": "2.0.0",
      "model_name": "HTMLStyleModel",
      "state": {
       "description_width": "",
       "font_size": null,
       "text_color": null
      }
     },
     "8a8f401948894200be3f007fa377d21e": {
      "model_module": "@jupyter-widgets/controls",
      "model_module_version": "2.0.0",
      "model_name": "HTMLModel",
      "state": {
       "layout": "IPY_MODEL_2af5b65ea5964416ac7d6c57de280075",
       "style": "IPY_MODEL_232485b669c14370a9f81c97af757d5a",
       "value": " 58/58 [00:02&lt;00:00, 27.70it/s]"
      }
     },
     "8b6d66c0bfdd4f569fe8e736bc8bc7c2": {
      "model_module": "@jupyter-widgets/controls",
      "model_module_version": "2.0.0",
      "model_name": "HTMLStyleModel",
      "state": {
       "description_width": "",
       "font_size": null,
       "text_color": null
      }
     },
     "8b77ce3e4d054e87b5191f60ce101fdd": {
      "model_module": "@jupyter-widgets/controls",
      "model_module_version": "2.0.0",
      "model_name": "HTMLStyleModel",
      "state": {
       "description_width": "",
       "font_size": null,
       "text_color": null
      }
     },
     "8f8141385e454c7faceae4a1314a3444": {
      "model_module": "@jupyter-widgets/base",
      "model_module_version": "2.0.0",
      "model_name": "LayoutModel",
      "state": {
       "display": "inline-flex",
       "flex_flow": "row wrap",
       "visibility": "hidden",
       "width": "100%"
      }
     },
     "8fa80aa07c2c4d8190831d513fbc9605": {
      "model_module": "@jupyter-widgets/base",
      "model_module_version": "2.0.0",
      "model_name": "LayoutModel",
      "state": {
       "display": "inline-flex",
       "flex_flow": "row wrap",
       "visibility": "hidden",
       "width": "100%"
      }
     },
     "8fc32b732e5946ac8d080f914b135596": {
      "model_module": "@jupyter-widgets/controls",
      "model_module_version": "2.0.0",
      "model_name": "HTMLStyleModel",
      "state": {
       "description_width": "",
       "font_size": null,
       "text_color": null
      }
     },
     "8fcca01c5d1046b68781972248b5ce4a": {
      "model_module": "@jupyter-widgets/controls",
      "model_module_version": "2.0.0",
      "model_name": "ProgressStyleModel",
      "state": {
       "description_width": ""
      }
     },
     "908834ae760b4eaa8c51ea5176f58321": {
      "model_module": "@jupyter-widgets/controls",
      "model_module_version": "2.0.0",
      "model_name": "ProgressStyleModel",
      "state": {
       "description_width": ""
      }
     },
     "90a7f65f34404a08b956dc11b4774bb4": {
      "model_module": "@jupyter-widgets/base",
      "model_module_version": "2.0.0",
      "model_name": "LayoutModel",
      "state": {}
     },
     "916ff6e217d04da1859861a389ea187a": {
      "model_module": "@jupyter-widgets/controls",
      "model_module_version": "2.0.0",
      "model_name": "ProgressStyleModel",
      "state": {
       "description_width": ""
      }
     },
     "917ded6aeaab4bad9de91d32c9e13495": {
      "model_module": "@jupyter-widgets/base",
      "model_module_version": "2.0.0",
      "model_name": "LayoutModel",
      "state": {}
     },
     "91921d1228b74235ac8195052b5524e6": {
      "model_module": "@jupyter-widgets/controls",
      "model_module_version": "2.0.0",
      "model_name": "HTMLStyleModel",
      "state": {
       "description_width": "",
       "font_size": null,
       "text_color": null
      }
     },
     "92f379e343f344819b417a8299ea1555": {
      "model_module": "@jupyter-widgets/controls",
      "model_module_version": "2.0.0",
      "model_name": "HTMLModel",
      "state": {
       "layout": "IPY_MODEL_4d2ed157c74645489563e870901d399f",
       "style": "IPY_MODEL_4421cf256b9c44b2a9e57e4b41f25bf3",
       "value": "Validation DataLoader 0: 100%"
      }
     },
     "93d5af261d9847a890adbbd8dddbb74b": {
      "model_module": "@jupyter-widgets/controls",
      "model_module_version": "2.0.0",
      "model_name": "HTMLStyleModel",
      "state": {
       "description_width": "",
       "font_size": null,
       "text_color": null
      }
     },
     "9440eeab6df044b2945df3eaacf1c203": {
      "model_module": "@jupyter-widgets/controls",
      "model_module_version": "2.0.0",
      "model_name": "HTMLModel",
      "state": {
       "layout": "IPY_MODEL_16c96e58bb244abfbb9041dbd413f039",
       "style": "IPY_MODEL_dbf10f5b75de4e7f970ee96bfd2c35fe",
       "value": "Validation DataLoader 0: 100%"
      }
     },
     "95ebb965985f48c98193d385f35e1383": {
      "model_module": "@jupyter-widgets/base",
      "model_module_version": "2.0.0",
      "model_name": "LayoutModel",
      "state": {
       "display": "inline-flex",
       "flex_flow": "row wrap",
       "visibility": "hidden",
       "width": "100%"
      }
     },
     "981cd5a0540743b79c052eacc8a93d7c": {
      "model_module": "@jupyter-widgets/base",
      "model_module_version": "2.0.0",
      "model_name": "LayoutModel",
      "state": {
       "flex": "2"
      }
     },
     "98a739b6cfb64423bb14e98b58876537": {
      "model_module": "@jupyter-widgets/controls",
      "model_module_version": "2.0.0",
      "model_name": "ProgressStyleModel",
      "state": {
       "description_width": ""
      }
     },
     "98b5b568bcde4f8c98e57e8c4dc22d05": {
      "model_module": "@jupyter-widgets/controls",
      "model_module_version": "2.0.0",
      "model_name": "FloatProgressModel",
      "state": {
       "layout": "IPY_MODEL_82b8ca07fa2b4a969046005ea319b1ec",
       "max": 58,
       "style": "IPY_MODEL_eaa2e9e77f2046cb8480c1dbe29f1773",
       "value": 58
      }
     },
     "9a37861377bb4ca8b11104bb1a1f63a7": {
      "model_module": "@jupyter-widgets/controls",
      "model_module_version": "2.0.0",
      "model_name": "HTMLStyleModel",
      "state": {
       "description_width": "",
       "font_size": null,
       "text_color": null
      }
     },
     "9ac5e06316004ea2879d546d6c4202ae": {
      "model_module": "@jupyter-widgets/controls",
      "model_module_version": "2.0.0",
      "model_name": "HTMLModel",
      "state": {
       "layout": "IPY_MODEL_a8695d970a5a40f09ffb3a8005b98b16",
       "style": "IPY_MODEL_bb389e0c398948de9bc6c02d371d9d59",
       "value": "Validation DataLoader 0: 100%"
      }
     },
     "9b24a4aada974236b7aa8529df7a3415": {
      "model_module": "@jupyter-widgets/controls",
      "model_module_version": "2.0.0",
      "model_name": "HTMLModel",
      "state": {
       "layout": "IPY_MODEL_fec01cc8d84f4c1e89363fcb398f8104",
       "style": "IPY_MODEL_8fc32b732e5946ac8d080f914b135596",
       "value": " 58/58 [00:01&lt;00:00, 31.84it/s]"
      }
     },
     "9bb28c35b820478292ccab67fb715adf": {
      "model_module": "@jupyter-widgets/controls",
      "model_module_version": "2.0.0",
      "model_name": "HTMLModel",
      "state": {
       "layout": "IPY_MODEL_ae8b52e5cca34699a8274a461a8d8ed5",
       "style": "IPY_MODEL_11547a6a0005409a9d6bdfb89b39b93f",
       "value": "Validation DataLoader 0: 100%"
      }
     },
     "9be4c7544f714adf90220c4825d6d06c": {
      "model_module": "@jupyter-widgets/controls",
      "model_module_version": "2.0.0",
      "model_name": "FloatProgressModel",
      "state": {
       "layout": "IPY_MODEL_b40ff14e38e14c888f524f73b17feafc",
       "max": 58,
       "style": "IPY_MODEL_2bf98be2d4914bfeaa4dbebeb6cc4587",
       "value": 58
      }
     },
     "9c5b3923a8384927aa7a84d2acb63cf2": {
      "model_module": "@jupyter-widgets/base",
      "model_module_version": "2.0.0",
      "model_name": "LayoutModel",
      "state": {}
     },
     "9d732cecf5214710bc92260bbceea9f2": {
      "model_module": "@jupyter-widgets/controls",
      "model_module_version": "2.0.0",
      "model_name": "FloatProgressModel",
      "state": {
       "layout": "IPY_MODEL_389ba1bbc0674f279ed86a2036cb0bbc",
       "max": 58,
       "style": "IPY_MODEL_4334746896184119872e90b59869c0fd",
       "value": 58
      }
     },
     "9e07ab40fd75494d9f9dcac910b7f16c": {
      "model_module": "@jupyter-widgets/controls",
      "model_module_version": "2.0.0",
      "model_name": "HTMLModel",
      "state": {
       "layout": "IPY_MODEL_2821a272a62f459fa0a4600c3bccbf8d",
       "style": "IPY_MODEL_be3f2b82ade24225a0e4afc7c8b7e2e2",
       "value": " 58/58 [00:02&lt;00:00, 27.62it/s]"
      }
     },
     "9e52130e40a14eb0822bcca379bd9de7": {
      "model_module": "@jupyter-widgets/controls",
      "model_module_version": "2.0.0",
      "model_name": "HTMLStyleModel",
      "state": {
       "description_width": "",
       "font_size": null,
       "text_color": null
      }
     },
     "a07656e871a9475eb337c508c1ee0812": {
      "model_module": "@jupyter-widgets/controls",
      "model_module_version": "2.0.0",
      "model_name": "HTMLStyleModel",
      "state": {
       "description_width": "",
       "font_size": null,
       "text_color": null
      }
     },
     "a1488ac32b434e85a5bdfd1f2698dffe": {
      "model_module": "@jupyter-widgets/base",
      "model_module_version": "2.0.0",
      "model_name": "LayoutModel",
      "state": {}
     },
     "a2d0f13fd32b47309176541560ba015c": {
      "model_module": "@jupyter-widgets/controls",
      "model_module_version": "2.0.0",
      "model_name": "HTMLStyleModel",
      "state": {
       "description_width": "",
       "font_size": null,
       "text_color": null
      }
     },
     "a356282c4a92449e80c9058fe07a72f9": {
      "model_module": "@jupyter-widgets/base",
      "model_module_version": "2.0.0",
      "model_name": "LayoutModel",
      "state": {
       "display": "inline-flex",
       "flex_flow": "row wrap",
       "visibility": "hidden",
       "width": "100%"
      }
     },
     "a55ac59905be4c5b84a44383dd1b1ce0": {
      "model_module": "@jupyter-widgets/controls",
      "model_module_version": "2.0.0",
      "model_name": "FloatProgressModel",
      "state": {
       "layout": "IPY_MODEL_012298ff6677467bae1714adbe3dcefc",
       "max": 58,
       "style": "IPY_MODEL_772c74674d2c45628fee7b345a69a2a3",
       "value": 58
      }
     },
     "a5ae5d6da7424b0bbc3efaf99819d49c": {
      "model_module": "@jupyter-widgets/controls",
      "model_module_version": "2.0.0",
      "model_name": "FloatProgressModel",
      "state": {
       "layout": "IPY_MODEL_1112978b6fda45cb998ee4d404475efb",
       "max": 58,
       "style": "IPY_MODEL_fbe0cd39c3bf4484abadf829cd4fa92f",
       "value": 58
      }
     },
     "a5f59104d9394988aad2cc666f7132d0": {
      "model_module": "@jupyter-widgets/controls",
      "model_module_version": "2.0.0",
      "model_name": "HTMLModel",
      "state": {
       "layout": "IPY_MODEL_a1488ac32b434e85a5bdfd1f2698dffe",
       "style": "IPY_MODEL_a07656e871a9475eb337c508c1ee0812",
       "value": " 58/58 [00:01&lt;00:00, 29.48it/s]"
      }
     },
     "a63d7ae5890044e0b1fdc3734ef47aba": {
      "model_module": "@jupyter-widgets/controls",
      "model_module_version": "2.0.0",
      "model_name": "HTMLModel",
      "state": {
       "layout": "IPY_MODEL_e5594753eea74f5080a2ef8193b90197",
       "style": "IPY_MODEL_182af069ac824e09940810135cf6f08a",
       "value": "Validation DataLoader 0: 100%"
      }
     },
     "a68efa881c804473b0b992f35166dbf3": {
      "model_module": "@jupyter-widgets/base",
      "model_module_version": "2.0.0",
      "model_name": "LayoutModel",
      "state": {
       "flex": "2"
      }
     },
     "a6c42cf1b34d4b849627bbe138f66945": {
      "model_module": "@jupyter-widgets/controls",
      "model_module_version": "2.0.0",
      "model_name": "HTMLStyleModel",
      "state": {
       "description_width": "",
       "font_size": null,
       "text_color": null
      }
     },
     "a8695d970a5a40f09ffb3a8005b98b16": {
      "model_module": "@jupyter-widgets/base",
      "model_module_version": "2.0.0",
      "model_name": "LayoutModel",
      "state": {}
     },
     "a967df235b8d41979981f13b112e89f8": {
      "model_module": "@jupyter-widgets/controls",
      "model_module_version": "2.0.0",
      "model_name": "ProgressStyleModel",
      "state": {
       "description_width": ""
      }
     },
     "a9745a43b5434a21a85c5cf9a27cda78": {
      "model_module": "@jupyter-widgets/base",
      "model_module_version": "2.0.0",
      "model_name": "LayoutModel",
      "state": {}
     },
     "aa620b7265304859890d564ab2f1f069": {
      "model_module": "@jupyter-widgets/controls",
      "model_module_version": "2.0.0",
      "model_name": "HTMLModel",
      "state": {
       "layout": "IPY_MODEL_69aec40472bb4af6bce9307d9edfd945",
       "style": "IPY_MODEL_699c7d1125a8406db8d447e779428cbc",
       "value": " 58/58 [00:02&lt;00:00, 28.16it/s]"
      }
     },
     "aab24d2fd8ce4c88bc70a2692c6da1cc": {
      "model_module": "@jupyter-widgets/controls",
      "model_module_version": "2.0.0",
      "model_name": "HTMLModel",
      "state": {
       "layout": "IPY_MODEL_2e5fec23bffa4593b0c6894021072b60",
       "style": "IPY_MODEL_4ddacabdc221482bb1be6895bee9bded",
       "value": "Validation DataLoader 0: 100%"
      }
     },
     "ad98797cc4eb44f0b7f233045fec6a8a": {
      "model_module": "@jupyter-widgets/controls",
      "model_module_version": "2.0.0",
      "model_name": "HTMLStyleModel",
      "state": {
       "description_width": "",
       "font_size": null,
       "text_color": null
      }
     },
     "adb1a7b657b44c8e9c70a791bd1712a2": {
      "model_module": "@jupyter-widgets/controls",
      "model_module_version": "2.0.0",
      "model_name": "ProgressStyleModel",
      "state": {
       "description_width": ""
      }
     },
     "ae1c3191022c41788e2b10cae16271d1": {
      "model_module": "@jupyter-widgets/controls",
      "model_module_version": "2.0.0",
      "model_name": "ProgressStyleModel",
      "state": {
       "description_width": ""
      }
     },
     "ae8b52e5cca34699a8274a461a8d8ed5": {
      "model_module": "@jupyter-widgets/base",
      "model_module_version": "2.0.0",
      "model_name": "LayoutModel",
      "state": {}
     },
     "af2dbc9acb6047ca9c4ca00fee8c3f6f": {
      "model_module": "@jupyter-widgets/controls",
      "model_module_version": "2.0.0",
      "model_name": "HTMLStyleModel",
      "state": {
       "description_width": "",
       "font_size": null,
       "text_color": null
      }
     },
     "aff3c03a645742ea813e7dc407757af5": {
      "model_module": "@jupyter-widgets/base",
      "model_module_version": "2.0.0",
      "model_name": "LayoutModel",
      "state": {
       "display": "inline-flex",
       "flex_flow": "row wrap",
       "visibility": "hidden",
       "width": "100%"
      }
     },
     "b045b09e830945a28b06260f4057b373": {
      "model_module": "@jupyter-widgets/base",
      "model_module_version": "2.0.0",
      "model_name": "LayoutModel",
      "state": {
       "flex": "2"
      }
     },
     "b05312a3ee5047c18af2bf12a700e727": {
      "model_module": "@jupyter-widgets/controls",
      "model_module_version": "2.0.0",
      "model_name": "ProgressStyleModel",
      "state": {
       "description_width": ""
      }
     },
     "b06c891d6d2b46a6943b1213095b827f": {
      "model_module": "@jupyter-widgets/base",
      "model_module_version": "2.0.0",
      "model_name": "LayoutModel",
      "state": {
       "flex": "2"
      }
     },
     "b19995e0a72949bb95ac4e176ac356cf": {
      "model_module": "@jupyter-widgets/base",
      "model_module_version": "2.0.0",
      "model_name": "LayoutModel",
      "state": {}
     },
     "b1fee143722545278cf663974f008885": {
      "model_module": "@jupyter-widgets/controls",
      "model_module_version": "2.0.0",
      "model_name": "HTMLStyleModel",
      "state": {
       "description_width": "",
       "font_size": null,
       "text_color": null
      }
     },
     "b26e2f52d7a9469080aa14a2073f0943": {
      "model_module": "@jupyter-widgets/base",
      "model_module_version": "2.0.0",
      "model_name": "LayoutModel",
      "state": {}
     },
     "b32a40eae9e843978fcb7e74cfb393f3": {
      "model_module": "@jupyter-widgets/base",
      "model_module_version": "2.0.0",
      "model_name": "LayoutModel",
      "state": {
       "display": "inline-flex",
       "flex_flow": "row wrap",
       "visibility": "hidden",
       "width": "100%"
      }
     },
     "b40ff14e38e14c888f524f73b17feafc": {
      "model_module": "@jupyter-widgets/base",
      "model_module_version": "2.0.0",
      "model_name": "LayoutModel",
      "state": {
       "flex": "2"
      }
     },
     "b4b331233a384b7abd7308b9a47a4e45": {
      "model_module": "@jupyter-widgets/controls",
      "model_module_version": "2.0.0",
      "model_name": "HTMLModel",
      "state": {
       "layout": "IPY_MODEL_57f0d6ffa4004207aa984bf450245be7",
       "style": "IPY_MODEL_f99192104f234a78b8165a914eda6360",
       "value": " 58/58 [00:02&lt;00:00, 27.35it/s]"
      }
     },
     "b519bc11262d4cabbf4983556f398202": {
      "model_module": "@jupyter-widgets/controls",
      "model_module_version": "2.0.0",
      "model_name": "HTMLModel",
      "state": {
       "layout": "IPY_MODEL_eedd8026609f48db87b4ce7c00ce9fee",
       "style": "IPY_MODEL_547856ddeade4adc971515242850bda3",
       "value": " 58/58 [00:02&lt;00:00, 28.37it/s]"
      }
     },
     "b6307e5b1a8f44b298ebc0973904300a": {
      "model_module": "@jupyter-widgets/controls",
      "model_module_version": "2.0.0",
      "model_name": "HTMLModel",
      "state": {
       "layout": "IPY_MODEL_b19995e0a72949bb95ac4e176ac356cf",
       "style": "IPY_MODEL_6b53783cb2674cc29059a726ef08fec5",
       "value": " 58/58 [00:01&lt;00:00, 29.48it/s]"
      }
     },
     "b638ee78c4b6402194f6b7df197fbcec": {
      "model_module": "@jupyter-widgets/base",
      "model_module_version": "2.0.0",
      "model_name": "LayoutModel",
      "state": {
       "flex": "2"
      }
     },
     "b64eb4b5ce6c40be9f5551ad852dd2da": {
      "model_module": "@jupyter-widgets/base",
      "model_module_version": "2.0.0",
      "model_name": "LayoutModel",
      "state": {}
     },
     "b6bebef3eb8f4fb4a319e8a847da684a": {
      "model_module": "@jupyter-widgets/controls",
      "model_module_version": "2.0.0",
      "model_name": "HTMLStyleModel",
      "state": {
       "description_width": "",
       "font_size": null,
       "text_color": null
      }
     },
     "b6c92641f674450aae5cdcf6790690ed": {
      "model_module": "@jupyter-widgets/base",
      "model_module_version": "2.0.0",
      "model_name": "LayoutModel",
      "state": {}
     },
     "b7a04729f0eb49af837d340182111313": {
      "model_module": "@jupyter-widgets/controls",
      "model_module_version": "2.0.0",
      "model_name": "HTMLStyleModel",
      "state": {
       "description_width": "",
       "font_size": null,
       "text_color": null
      }
     },
     "b8b2e5e7cad04781b6fa2c756b4e2b59": {
      "model_module": "@jupyter-widgets/base",
      "model_module_version": "2.0.0",
      "model_name": "LayoutModel",
      "state": {}
     },
     "ba5d2fb5500d4cf1a432f28f1b8c2702": {
      "model_module": "@jupyter-widgets/controls",
      "model_module_version": "2.0.0",
      "model_name": "FloatProgressModel",
      "state": {
       "layout": "IPY_MODEL_2ce0c3c7568747a799851000e4f69933",
       "max": 58,
       "style": "IPY_MODEL_ee75f9acfefd4f5c830fd3092d7ea17e",
       "value": 58
      }
     },
     "bb389e0c398948de9bc6c02d371d9d59": {
      "model_module": "@jupyter-widgets/controls",
      "model_module_version": "2.0.0",
      "model_name": "HTMLStyleModel",
      "state": {
       "description_width": "",
       "font_size": null,
       "text_color": null
      }
     },
     "bc937420fd874826a3a5a213a5a9b43d": {
      "model_module": "@jupyter-widgets/base",
      "model_module_version": "2.0.0",
      "model_name": "LayoutModel",
      "state": {
       "display": "inline-flex",
       "flex_flow": "row wrap",
       "visibility": "hidden",
       "width": "100%"
      }
     },
     "bd2d5b78a0744594855d7f337b2a4245": {
      "model_module": "@jupyter-widgets/controls",
      "model_module_version": "2.0.0",
      "model_name": "HTMLModel",
      "state": {
       "layout": "IPY_MODEL_cd67e41c8f9748799177950a6bdf55e7",
       "style": "IPY_MODEL_e9fba2d6491549749d71f0a3a1cda4f0",
       "value": "Validation DataLoader 0: 100%"
      }
     },
     "be3f2b82ade24225a0e4afc7c8b7e2e2": {
      "model_module": "@jupyter-widgets/controls",
      "model_module_version": "2.0.0",
      "model_name": "HTMLStyleModel",
      "state": {
       "description_width": "",
       "font_size": null,
       "text_color": null
      }
     },
     "be671afa806c461bbe49934b5ef1afa1": {
      "model_module": "@jupyter-widgets/controls",
      "model_module_version": "2.0.0",
      "model_name": "HTMLStyleModel",
      "state": {
       "description_width": "",
       "font_size": null,
       "text_color": null
      }
     },
     "beafe5a7469c4d2d8493a56e6dc22435": {
      "model_module": "@jupyter-widgets/controls",
      "model_module_version": "2.0.0",
      "model_name": "FloatProgressModel",
      "state": {
       "layout": "IPY_MODEL_d9f64d2730d9490390f99804601938c6",
       "max": 58,
       "style": "IPY_MODEL_c314b664eac6496b9155550bfe2ac7b9",
       "value": 58
      }
     },
     "bf73ba6eae934e8db1a2fda9f5b7af6d": {
      "model_module": "@jupyter-widgets/controls",
      "model_module_version": "2.0.0",
      "model_name": "HTMLStyleModel",
      "state": {
       "description_width": "",
       "font_size": null,
       "text_color": null
      }
     },
     "c147ca5a43f64a0eb257c8ad04789604": {
      "model_module": "@jupyter-widgets/controls",
      "model_module_version": "2.0.0",
      "model_name": "HTMLModel",
      "state": {
       "layout": "IPY_MODEL_86f43d3cd52842c4ade37ab998b2e053",
       "style": "IPY_MODEL_d83ac6e27add4dd4beb8b635630658f1",
       "value": "Validation DataLoader 0: 100%"
      }
     },
     "c183e9a041d14d09a1d1c2aa92894119": {
      "model_module": "@jupyter-widgets/controls",
      "model_module_version": "2.0.0",
      "model_name": "HTMLModel",
      "state": {
       "layout": "IPY_MODEL_3930fffb93d045f8bd63ad12fa48184f",
       "style": "IPY_MODEL_49a8ac5511c84ec78ea1450aed6a409b",
       "value": " 58/58 [00:02&lt;00:00, 28.32it/s]"
      }
     },
     "c2728bfdaf0342d1a1683d17e5e3ab1a": {
      "model_module": "@jupyter-widgets/base",
      "model_module_version": "2.0.0",
      "model_name": "LayoutModel",
      "state": {}
     },
     "c29d16656cea4770b4e54babf41b3ec0": {
      "model_module": "@jupyter-widgets/base",
      "model_module_version": "2.0.0",
      "model_name": "LayoutModel",
      "state": {
       "flex": "2"
      }
     },
     "c314b664eac6496b9155550bfe2ac7b9": {
      "model_module": "@jupyter-widgets/controls",
      "model_module_version": "2.0.0",
      "model_name": "ProgressStyleModel",
      "state": {
       "description_width": ""
      }
     },
     "c32c2be8751b4c6a81ec89873f86d1fe": {
      "model_module": "@jupyter-widgets/controls",
      "model_module_version": "2.0.0",
      "model_name": "HTMLModel",
      "state": {
       "layout": "IPY_MODEL_f2361e4ccd9643c5a39d7f39b6d1eca5",
       "style": "IPY_MODEL_fff508c2ab204f8cb411d8a5c4ca23f9",
       "value": "Validation DataLoader 0: 100%"
      }
     },
     "c3be33bed12e4f829dfd7f34688a1286": {
      "model_module": "@jupyter-widgets/base",
      "model_module_version": "2.0.0",
      "model_name": "LayoutModel",
      "state": {}
     },
     "c3ee7a3147f64d808a1dae3e601e42c2": {
      "model_module": "@jupyter-widgets/base",
      "model_module_version": "2.0.0",
      "model_name": "LayoutModel",
      "state": {
       "flex": "2"
      }
     },
     "c49d6d5da7e04fcc98b47e1c364d17af": {
      "model_module": "@jupyter-widgets/controls",
      "model_module_version": "2.0.0",
      "model_name": "HTMLModel",
      "state": {
       "layout": "IPY_MODEL_077176b3f0634aa49932480f19b51011",
       "style": "IPY_MODEL_1871bb906aab4ed8a33baae6fca64a2f",
       "value": "Validation DataLoader 0: 100%"
      }
     },
     "c5585761e5df4fdfa021a04d8af6e36b": {
      "model_module": "@jupyter-widgets/controls",
      "model_module_version": "2.0.0",
      "model_name": "HTMLModel",
      "state": {
       "layout": "IPY_MODEL_49ee7406db8d4b249d5aed6ec513eac9",
       "style": "IPY_MODEL_f05d558794114636b9dfca54735e84bd",
       "value": "Validation DataLoader 0: 100%"
      }
     },
     "c7771413813345bc863242d1aa394f6f": {
      "model_module": "@jupyter-widgets/base",
      "model_module_version": "2.0.0",
      "model_name": "LayoutModel",
      "state": {
       "display": "inline-flex",
       "flex_flow": "row wrap",
       "visibility": "hidden",
       "width": "100%"
      }
     },
     "c943d563089b4ead897dc67b8ea946f2": {
      "model_module": "@jupyter-widgets/base",
      "model_module_version": "2.0.0",
      "model_name": "LayoutModel",
      "state": {
       "display": "inline-flex",
       "flex_flow": "row wrap",
       "visibility": "hidden",
       "width": "100%"
      }
     },
     "cbf8ef6e5e324b1ba91fc04f629376cf": {
      "model_module": "@jupyter-widgets/controls",
      "model_module_version": "2.0.0",
      "model_name": "HTMLModel",
      "state": {
       "layout": "IPY_MODEL_fb1543bd62e34e9ab42c27fef42ea2ae",
       "style": "IPY_MODEL_ddfc8a6b5d1f4fb1b1895390f55ee7a9",
       "value": "Validation DataLoader 0: 100%"
      }
     },
     "cc434353ae9543779b692f23d132fbcd": {
      "model_module": "@jupyter-widgets/controls",
      "model_module_version": "2.0.0",
      "model_name": "HTMLModel",
      "state": {
       "layout": "IPY_MODEL_917ded6aeaab4bad9de91d32c9e13495",
       "style": "IPY_MODEL_f23d6399c2574fb49709468583fbc156",
       "value": " 58/58 [00:02&lt;00:00, 27.95it/s]"
      }
     },
     "ccc9143d310843e1909329837e100e9f": {
      "model_module": "@jupyter-widgets/base",
      "model_module_version": "2.0.0",
      "model_name": "LayoutModel",
      "state": {}
     },
     "ccf774e0836b4dcfa6d979227b05bd86": {
      "model_module": "@jupyter-widgets/controls",
      "model_module_version": "2.0.0",
      "model_name": "HTMLModel",
      "state": {
       "layout": "IPY_MODEL_4d223ec43288492a842953260b0db662",
       "style": "IPY_MODEL_8b6d66c0bfdd4f569fe8e736bc8bc7c2",
       "value": "Sanity Checking DataLoader 0: 100%"
      }
     },
     "cd67e41c8f9748799177950a6bdf55e7": {
      "model_module": "@jupyter-widgets/base",
      "model_module_version": "2.0.0",
      "model_name": "LayoutModel",
      "state": {}
     },
     "cd9a06157ca048c7ad490db81061e72f": {
      "model_module": "@jupyter-widgets/controls",
      "model_module_version": "2.0.0",
      "model_name": "ProgressStyleModel",
      "state": {
       "description_width": ""
      }
     },
     "ce204ce8c21846a4aac6725eb53675ae": {
      "model_module": "@jupyter-widgets/controls",
      "model_module_version": "2.0.0",
      "model_name": "HTMLStyleModel",
      "state": {
       "description_width": "",
       "font_size": null,
       "text_color": null
      }
     },
     "cfc4886fca9d4cd6b18b3915cc0780cb": {
      "model_module": "@jupyter-widgets/controls",
      "model_module_version": "2.0.0",
      "model_name": "HTMLStyleModel",
      "state": {
       "description_width": "",
       "font_size": null,
       "text_color": null
      }
     },
     "d0bc3b349c654af59e04443c800ff517": {
      "model_module": "@jupyter-widgets/base",
      "model_module_version": "2.0.0",
      "model_name": "LayoutModel",
      "state": {}
     },
     "d582a590a9dd4979a45cb120f34407c2": {
      "model_module": "@jupyter-widgets/base",
      "model_module_version": "2.0.0",
      "model_name": "LayoutModel",
      "state": {}
     },
     "d5a81394c3ed4e1382f00d8a39250df9": {
      "model_module": "@jupyter-widgets/controls",
      "model_module_version": "2.0.0",
      "model_name": "HTMLModel",
      "state": {
       "layout": "IPY_MODEL_c2728bfdaf0342d1a1683d17e5e3ab1a",
       "style": "IPY_MODEL_2706c597be414e429e95529764f443e5",
       "value": "Validation DataLoader 0: 100%"
      }
     },
     "d6834ee4c0254751bf172612e7378ba1": {
      "model_module": "@jupyter-widgets/controls",
      "model_module_version": "2.0.0",
      "model_name": "FloatProgressModel",
      "state": {
       "layout": "IPY_MODEL_5bb2803e1789482699b88f9eeb6adf9e",
       "max": 58,
       "style": "IPY_MODEL_8fcca01c5d1046b68781972248b5ce4a",
       "value": 58
      }
     },
     "d6b2c95bf4ff4a31b6a1737bc1bfb9a7": {
      "model_module": "@jupyter-widgets/controls",
      "model_module_version": "2.0.0",
      "model_name": "ProgressStyleModel",
      "state": {
       "description_width": ""
      }
     },
     "d7e4878f41d54d51a8f26e3b963b42df": {
      "model_module": "@jupyter-widgets/controls",
      "model_module_version": "2.0.0",
      "model_name": "ProgressStyleModel",
      "state": {
       "description_width": ""
      }
     },
     "d83ac6e27add4dd4beb8b635630658f1": {
      "model_module": "@jupyter-widgets/controls",
      "model_module_version": "2.0.0",
      "model_name": "HTMLStyleModel",
      "state": {
       "description_width": "",
       "font_size": null,
       "text_color": null
      }
     },
     "d9f64d2730d9490390f99804601938c6": {
      "model_module": "@jupyter-widgets/base",
      "model_module_version": "2.0.0",
      "model_name": "LayoutModel",
      "state": {
       "flex": "2"
      }
     },
     "db6fc4316cd241bbb2db2efcd04dc451": {
      "model_module": "@jupyter-widgets/controls",
      "model_module_version": "2.0.0",
      "model_name": "FloatProgressModel",
      "state": {
       "layout": "IPY_MODEL_e9f3bc06c08b4deca3343d703faea13e",
       "max": 58,
       "style": "IPY_MODEL_1e9a9a18ff104e80b3691b463911d8a4",
       "value": 58
      }
     },
     "dbf10f5b75de4e7f970ee96bfd2c35fe": {
      "model_module": "@jupyter-widgets/controls",
      "model_module_version": "2.0.0",
      "model_name": "HTMLStyleModel",
      "state": {
       "description_width": "",
       "font_size": null,
       "text_color": null
      }
     },
     "dbf98987a74c4cf7961a1264e62e64e6": {
      "model_module": "@jupyter-widgets/controls",
      "model_module_version": "2.0.0",
      "model_name": "FloatProgressModel",
      "state": {
       "layout": "IPY_MODEL_68f7f5547be646e6bf3a61a4985e8dff",
       "max": 58,
       "style": "IPY_MODEL_51fededd4e6b4053a31da4e4c1b61d0c",
       "value": 58
      }
     },
     "dc7a39788f7044acbe1c05a4f1e1e889": {
      "model_module": "@jupyter-widgets/controls",
      "model_module_version": "2.0.0",
      "model_name": "HTMLStyleModel",
      "state": {
       "description_width": "",
       "font_size": null,
       "text_color": null
      }
     },
     "dd4a26e63b5440f98ab3286ac2bad409": {
      "model_module": "@jupyter-widgets/controls",
      "model_module_version": "2.0.0",
      "model_name": "HTMLModel",
      "state": {
       "layout": "IPY_MODEL_7c485c70a84e424e914ba8cf3ef43315",
       "style": "IPY_MODEL_e28a89fbbc7046fb8e43260b9a14aaa4",
       "value": "Validation DataLoader 0: 100%"
      }
     },
     "ddd6a84f13334bb184bc6bf7e1aed48c": {
      "model_module": "@jupyter-widgets/base",
      "model_module_version": "2.0.0",
      "model_name": "LayoutModel",
      "state": {
       "display": "inline-flex",
       "flex_flow": "row wrap",
       "visibility": "hidden",
       "width": "100%"
      }
     },
     "ddfc8a6b5d1f4fb1b1895390f55ee7a9": {
      "model_module": "@jupyter-widgets/controls",
      "model_module_version": "2.0.0",
      "model_name": "HTMLStyleModel",
      "state": {
       "description_width": "",
       "font_size": null,
       "text_color": null
      }
     },
     "de4c40abd63a469f9bd1ab8ea21054a4": {
      "model_module": "@jupyter-widgets/base",
      "model_module_version": "2.0.0",
      "model_name": "LayoutModel",
      "state": {}
     },
     "e1d797bd68ec4a69ab3a7b218b1624c7": {
      "model_module": "@jupyter-widgets/controls",
      "model_module_version": "2.0.0",
      "model_name": "HTMLModel",
      "state": {
       "layout": "IPY_MODEL_6eaa493355424bb3ab31ff519a58ae4e",
       "style": "IPY_MODEL_bf73ba6eae934e8db1a2fda9f5b7af6d",
       "value": " 58/58 [00:01&lt;00:00, 30.45it/s]"
      }
     },
     "e28a89fbbc7046fb8e43260b9a14aaa4": {
      "model_module": "@jupyter-widgets/controls",
      "model_module_version": "2.0.0",
      "model_name": "HTMLStyleModel",
      "state": {
       "description_width": "",
       "font_size": null,
       "text_color": null
      }
     },
     "e2e87bec04684cedba760e37602fb1dd": {
      "model_module": "@jupyter-widgets/controls",
      "model_module_version": "2.0.0",
      "model_name": "FloatProgressModel",
      "state": {
       "layout": "IPY_MODEL_512e4632b70e479c9b5cd4aba71fed5d",
       "max": 58,
       "style": "IPY_MODEL_908834ae760b4eaa8c51ea5176f58321",
       "value": 58
      }
     },
     "e314c1ce6c6c4bff8b2fe3ccd63e4e4a": {
      "model_module": "@jupyter-widgets/base",
      "model_module_version": "2.0.0",
      "model_name": "LayoutModel",
      "state": {
       "flex": "2"
      }
     },
     "e5134ec1c21845cb9ae8889e2246e638": {
      "model_module": "@jupyter-widgets/controls",
      "model_module_version": "2.0.0",
      "model_name": "HTMLModel",
      "state": {
       "layout": "IPY_MODEL_49a4bf431eb0419bbaa980f3e3ee864f",
       "style": "IPY_MODEL_360fed8b79384feea446adb478ceea60",
       "value": "Validation DataLoader 0: 100%"
      }
     },
     "e5594753eea74f5080a2ef8193b90197": {
      "model_module": "@jupyter-widgets/base",
      "model_module_version": "2.0.0",
      "model_name": "LayoutModel",
      "state": {}
     },
     "e5b9c91865334b2182bb1d2c34d26d1a": {
      "model_module": "@jupyter-widgets/controls",
      "model_module_version": "2.0.0",
      "model_name": "HTMLStyleModel",
      "state": {
       "description_width": "",
       "font_size": null,
       "text_color": null
      }
     },
     "e7b831ced499418482c2dce784604e8e": {
      "model_module": "@jupyter-widgets/base",
      "model_module_version": "2.0.0",
      "model_name": "LayoutModel",
      "state": {}
     },
     "e842080740fd4afdbab829db3cfaef94": {
      "model_module": "@jupyter-widgets/controls",
      "model_module_version": "2.0.0",
      "model_name": "HTMLModel",
      "state": {
       "layout": "IPY_MODEL_4554e1c149824f6d9e35576094a699c3",
       "style": "IPY_MODEL_93d5af261d9847a890adbbd8dddbb74b",
       "value": "Validation DataLoader 0: 100%"
      }
     },
     "e99fc77dc98642e592f01023778a7bf5": {
      "model_module": "@jupyter-widgets/controls",
      "model_module_version": "2.0.0",
      "model_name": "ProgressStyleModel",
      "state": {
       "description_width": ""
      }
     },
     "e9f3bc06c08b4deca3343d703faea13e": {
      "model_module": "@jupyter-widgets/base",
      "model_module_version": "2.0.0",
      "model_name": "LayoutModel",
      "state": {
       "flex": "2"
      }
     },
     "e9fba2d6491549749d71f0a3a1cda4f0": {
      "model_module": "@jupyter-widgets/controls",
      "model_module_version": "2.0.0",
      "model_name": "HTMLStyleModel",
      "state": {
       "description_width": "",
       "font_size": null,
       "text_color": null
      }
     },
     "eaa2e9e77f2046cb8480c1dbe29f1773": {
      "model_module": "@jupyter-widgets/controls",
      "model_module_version": "2.0.0",
      "model_name": "ProgressStyleModel",
      "state": {
       "description_width": ""
      }
     },
     "eb8e96b574824fdc8b23e075e602b5e5": {
      "model_module": "@jupyter-widgets/controls",
      "model_module_version": "2.0.0",
      "model_name": "HTMLStyleModel",
      "state": {
       "description_width": "",
       "font_size": null,
       "text_color": null
      }
     },
     "ec633046841e4278bab7dff23b51dba7": {
      "model_module": "@jupyter-widgets/controls",
      "model_module_version": "2.0.0",
      "model_name": "HTMLStyleModel",
      "state": {
       "description_width": "",
       "font_size": null,
       "text_color": null
      }
     },
     "ec9319e2fb5e4b939e4e4d74cc9d072b": {
      "model_module": "@jupyter-widgets/controls",
      "model_module_version": "2.0.0",
      "model_name": "HTMLStyleModel",
      "state": {
       "description_width": "",
       "font_size": null,
       "text_color": null
      }
     },
     "ecd3f596397f4fc58edf7d96398bc7f0": {
      "model_module": "@jupyter-widgets/base",
      "model_module_version": "2.0.0",
      "model_name": "LayoutModel",
      "state": {
       "flex": "2"
      }
     },
     "ed25b6e44ec544628de942f1ed4aea88": {
      "model_module": "@jupyter-widgets/controls",
      "model_module_version": "2.0.0",
      "model_name": "FloatProgressModel",
      "state": {
       "layout": "IPY_MODEL_ee06c160891f4d9b8f6230022d4af830",
       "max": 58,
       "style": "IPY_MODEL_6f53b0224c7d40d093f5606923dc7330",
       "value": 58
      }
     },
     "ed31c6a9f79849da91cd6069ff69b643": {
      "model_module": "@jupyter-widgets/controls",
      "model_module_version": "2.0.0",
      "model_name": "HTMLStyleModel",
      "state": {
       "description_width": "",
       "font_size": null,
       "text_color": null
      }
     },
     "eda18b5c8f42450cac058247e471a810": {
      "model_module": "@jupyter-widgets/controls",
      "model_module_version": "2.0.0",
      "model_name": "FloatProgressModel",
      "state": {
       "layout": "IPY_MODEL_38967f2ea6a94f9b893f4286170ac492",
       "max": 58,
       "style": "IPY_MODEL_d7e4878f41d54d51a8f26e3b963b42df",
       "value": 58
      }
     },
     "edecf3cf17cf4ffbb69e837ffb9ad32c": {
      "model_module": "@jupyter-widgets/controls",
      "model_module_version": "2.0.0",
      "model_name": "HTMLStyleModel",
      "state": {
       "description_width": "",
       "font_size": null,
       "text_color": null
      }
     },
     "ee06c160891f4d9b8f6230022d4af830": {
      "model_module": "@jupyter-widgets/base",
      "model_module_version": "2.0.0",
      "model_name": "LayoutModel",
      "state": {
       "flex": "2"
      }
     },
     "ee75f9acfefd4f5c830fd3092d7ea17e": {
      "model_module": "@jupyter-widgets/controls",
      "model_module_version": "2.0.0",
      "model_name": "ProgressStyleModel",
      "state": {
       "description_width": ""
      }
     },
     "eedd8026609f48db87b4ce7c00ce9fee": {
      "model_module": "@jupyter-widgets/base",
      "model_module_version": "2.0.0",
      "model_name": "LayoutModel",
      "state": {}
     },
     "eedfe907562c46e8ac0142974c0ec335": {
      "model_module": "@jupyter-widgets/base",
      "model_module_version": "2.0.0",
      "model_name": "LayoutModel",
      "state": {}
     },
     "f05d558794114636b9dfca54735e84bd": {
      "model_module": "@jupyter-widgets/controls",
      "model_module_version": "2.0.0",
      "model_name": "HTMLStyleModel",
      "state": {
       "description_width": "",
       "font_size": null,
       "text_color": null
      }
     },
     "f2361e4ccd9643c5a39d7f39b6d1eca5": {
      "model_module": "@jupyter-widgets/base",
      "model_module_version": "2.0.0",
      "model_name": "LayoutModel",
      "state": {}
     },
     "f23d6399c2574fb49709468583fbc156": {
      "model_module": "@jupyter-widgets/controls",
      "model_module_version": "2.0.0",
      "model_name": "HTMLStyleModel",
      "state": {
       "description_width": "",
       "font_size": null,
       "text_color": null
      }
     },
     "f44e7d55ccc84a3788147c4a9273d6ca": {
      "model_module": "@jupyter-widgets/base",
      "model_module_version": "2.0.0",
      "model_name": "LayoutModel",
      "state": {
       "flex": "2"
      }
     },
     "f6214f72bdab4de7aea2f51cf9af5389": {
      "model_module": "@jupyter-widgets/base",
      "model_module_version": "2.0.0",
      "model_name": "LayoutModel",
      "state": {}
     },
     "f6c41cc412cb4387bb32d5cf755d8925": {
      "model_module": "@jupyter-widgets/controls",
      "model_module_version": "2.0.0",
      "model_name": "HTMLModel",
      "state": {
       "layout": "IPY_MODEL_d0bc3b349c654af59e04443c800ff517",
       "style": "IPY_MODEL_07f4cc58f55a4561b598028f22e6f294",
       "value": " 58/58 [00:02&lt;00:00, 28.39it/s]"
      }
     },
     "f7820724d2bd4d4daee5187904a7582d": {
      "model_module": "@jupyter-widgets/controls",
      "model_module_version": "2.0.0",
      "model_name": "ProgressStyleModel",
      "state": {
       "description_width": ""
      }
     },
     "f85df90b05d74ad98dc87161cf9ca53c": {
      "model_module": "@jupyter-widgets/controls",
      "model_module_version": "2.0.0",
      "model_name": "FloatProgressModel",
      "state": {
       "layout": "IPY_MODEL_e314c1ce6c6c4bff8b2fe3ccd63e4e4a",
       "max": 58,
       "style": "IPY_MODEL_ae1c3191022c41788e2b10cae16271d1",
       "value": 58
      }
     },
     "f9452fe436e94feaa0da1e268897bd88": {
      "model_module": "@jupyter-widgets/controls",
      "model_module_version": "2.0.0",
      "model_name": "HTMLModel",
      "state": {
       "layout": "IPY_MODEL_54f5cf46922d4004a950625d432792ac",
       "style": "IPY_MODEL_56d14ac3ae504ba18e00b001e83a25c6",
       "value": " 58/58 [00:01&lt;00:00, 29.69it/s]"
      }
     },
     "f99192104f234a78b8165a914eda6360": {
      "model_module": "@jupyter-widgets/controls",
      "model_module_version": "2.0.0",
      "model_name": "HTMLStyleModel",
      "state": {
       "description_width": "",
       "font_size": null,
       "text_color": null
      }
     },
     "f9d35631e97f4aa1a0897f1ff1e55a69": {
      "model_module": "@jupyter-widgets/base",
      "model_module_version": "2.0.0",
      "model_name": "LayoutModel",
      "state": {
       "display": "inline-flex",
       "flex_flow": "row wrap",
       "visibility": "hidden",
       "width": "100%"
      }
     },
     "fb1543bd62e34e9ab42c27fef42ea2ae": {
      "model_module": "@jupyter-widgets/base",
      "model_module_version": "2.0.0",
      "model_name": "LayoutModel",
      "state": {}
     },
     "fb84949109b44a9f9d0d79a1607eb791": {
      "model_module": "@jupyter-widgets/controls",
      "model_module_version": "2.0.0",
      "model_name": "HTMLModel",
      "state": {
       "layout": "IPY_MODEL_a9745a43b5434a21a85c5cf9a27cda78",
       "style": "IPY_MODEL_cfc4886fca9d4cd6b18b3915cc0780cb",
       "value": "Validation DataLoader 0: 100%"
      }
     },
     "fbc675d223fe47958edddb7bc4acff8b": {
      "model_module": "@jupyter-widgets/base",
      "model_module_version": "2.0.0",
      "model_name": "LayoutModel",
      "state": {}
     },
     "fbe0cd39c3bf4484abadf829cd4fa92f": {
      "model_module": "@jupyter-widgets/controls",
      "model_module_version": "2.0.0",
      "model_name": "ProgressStyleModel",
      "state": {
       "description_width": ""
      }
     },
     "fc1226d5ac444049803032280f78e41b": {
      "model_module": "@jupyter-widgets/controls",
      "model_module_version": "2.0.0",
      "model_name": "ProgressStyleModel",
      "state": {
       "description_width": ""
      }
     },
     "fc248f14252843bd8fd477cbdc1065c6": {
      "model_module": "@jupyter-widgets/controls",
      "model_module_version": "2.0.0",
      "model_name": "ProgressStyleModel",
      "state": {
       "description_width": ""
      }
     },
     "fe130baad0b242979d6497eef0a9eb2f": {
      "model_module": "@jupyter-widgets/controls",
      "model_module_version": "2.0.0",
      "model_name": "ProgressStyleModel",
      "state": {
       "description_width": ""
      }
     },
     "fe73988028af42b1a60131f60b814901": {
      "model_module": "@jupyter-widgets/controls",
      "model_module_version": "2.0.0",
      "model_name": "HTMLModel",
      "state": {
       "layout": "IPY_MODEL_eedfe907562c46e8ac0142974c0ec335",
       "style": "IPY_MODEL_ed31c6a9f79849da91cd6069ff69b643",
       "value": "Validation DataLoader 0: 100%"
      }
     },
     "fe978194bb5a481aae48144f07cee57c": {
      "model_module": "@jupyter-widgets/controls",
      "model_module_version": "2.0.0",
      "model_name": "HTMLStyleModel",
      "state": {
       "description_width": "",
       "font_size": null,
       "text_color": null
      }
     },
     "fec01cc8d84f4c1e89363fcb398f8104": {
      "model_module": "@jupyter-widgets/base",
      "model_module_version": "2.0.0",
      "model_name": "LayoutModel",
      "state": {}
     },
     "ff7a1c9522494a92aecfd80fd5775238": {
      "model_module": "@jupyter-widgets/base",
      "model_module_version": "2.0.0",
      "model_name": "LayoutModel",
      "state": {}
     },
     "fff508c2ab204f8cb411d8a5c4ca23f9": {
      "model_module": "@jupyter-widgets/controls",
      "model_module_version": "2.0.0",
      "model_name": "HTMLStyleModel",
      "state": {
       "description_width": "",
       "font_size": null,
       "text_color": null
      }
     }
    },
    "version_major": 2,
    "version_minor": 0
   }
  }
 },
 "nbformat": 4,
 "nbformat_minor": 5
}
