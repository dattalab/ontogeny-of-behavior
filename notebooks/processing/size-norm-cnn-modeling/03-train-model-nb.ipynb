{
 "cells": [
  {
   "cell_type": "code",
   "execution_count": 1,
   "id": "36b34fb0-7a28-426a-87d5-52158781b014",
   "metadata": {
    "tags": []
   },
   "outputs": [],
   "source": [
    "import toml\n",
    "import torch\n",
    "import random\n",
    "import lightning.pytorch as pl\n",
    "from pathlib import Path\n",
    "from aging.size_norm import models\n",
    "from toolz import dissoc, merge, valfilter, assoc\n",
    "from aging.size_norm.data import AugmentationParams, TrainingPaths\n",
    "from lightning.pytorch.loggers import CSVLogger, TensorBoardLogger\n",
    "from lightning.pytorch.callbacks import ModelCheckpoint, EarlyStopping\n",
    "from aging.size_norm.lightning import SizeNormModel, ImageDisplay, BehaviorValidation"
   ]
  },
  {
   "cell_type": "code",
   "execution_count": 2,
   "id": "e5095090-777a-42d2-a16b-a9e2bb013beb",
   "metadata": {
    "tags": []
   },
   "outputs": [],
   "source": [
    "config = toml.load('/home/wg41/code/ontogeny/configs/00-sizenorm_training_template.toml')"
   ]
  },
  {
   "cell_type": "code",
   "execution_count": 3,
   "id": "4d3fa1af-a008-4a28-b7f2-f1ffd6f05b45",
   "metadata": {
    "tags": []
   },
   "outputs": [],
   "source": [
    "paths = TrainingPaths(**dissoc(config['paths'], 'saving'))\n",
    "checkpoint = None\n",
    "save_folder = Path(config['paths']['saving'])\n",
    "save_folder.mkdir(exist_ok=True, parents=True)"
   ]
  },
  {
   "cell_type": "code",
   "execution_count": 4,
   "id": "66561eed-0a7f-404c-b22a-2cce43e461f9",
   "metadata": {
    "tags": []
   },
   "outputs": [],
   "source": [
    "config['augmentation']['rng'] = random.Random(config['augmentation']['seed'])"
   ]
  },
  {
   "cell_type": "code",
   "execution_count": 5,
   "id": "b61cae41-99b7-48e7-a46d-c7d426b45305",
   "metadata": {
    "tags": []
   },
   "outputs": [
    {
     "name": "stderr",
     "output_type": "stream",
     "text": [
      "[rank: 0] Global seed set to 0\n"
     ]
    },
    {
     "data": {
      "text/plain": [
       "0"
      ]
     },
     "execution_count": 5,
     "metadata": {},
     "output_type": "execute_result"
    }
   ],
   "source": [
    "pl.seed_everything(config['augmentation']['seed'])"
   ]
  },
  {
   "cell_type": "code",
   "execution_count": 6,
   "id": "ee2b4273-38b1-468a-826d-93e71d8ed13a",
   "metadata": {
    "tags": []
   },
   "outputs": [],
   "source": [
    "augmentation = AugmentationParams(**dissoc(config['augmentation'], 'seed'))"
   ]
  },
  {
   "cell_type": "code",
   "execution_count": 7,
   "id": "80bb2b11-43f4-4134-98ac-776a977ec042",
   "metadata": {
    "tags": []
   },
   "outputs": [],
   "source": [
    "match config['model']['lightning']['arch']:\n",
    "    case 'ae':\n",
    "        model_arch = models.Autoencoder\n",
    "    case 'unet':\n",
    "        model_arch = models.UNet\n",
    "    case 'efficient':\n",
    "        model_arch = models.EfficientAutoencoder\n",
    "    case 'efficient_unet':\n",
    "        model_arch = models.EfficientUNet\n",
    "    case _:\n",
    "        raise ValueError(f\"Unknown model architecture {config['model']['arch']}\")"
   ]
  },
  {
   "cell_type": "code",
   "execution_count": 8,
   "id": "fd44171e-f3ec-41eb-bd08-647f45d109d0",
   "metadata": {
    "tags": []
   },
   "outputs": [],
   "source": [
    "model_params = merge(config['model'], config['model'][config['model']['lightning']['arch']])\n",
    "model_params = valfilter(lambda x: not isinstance(x, dict), model_params)\n",
    "if 'activation' in model_params:\n",
    "    model_params = assoc(model_params, 'activation', getattr(torch.nn, model_params['activation']))"
   ]
  },
  {
   "cell_type": "code",
   "execution_count": 9,
   "id": "ab6184d4-4ed7-4469-ace2-5a8e8e987433",
   "metadata": {
    "tags": []
   },
   "outputs": [],
   "source": [
    "model = SizeNormModel(\n",
    "    paths,\n",
    "    augmentation,\n",
    "    model=model_arch,\n",
    "    model_params=model_params,\n",
    "    batch_size=64,\n",
    "    **dissoc(config['model']['lightning'], 'arch'),\n",
    "    seed=config['augmentation']['seed']\n",
    ")"
   ]
  },
  {
   "cell_type": "code",
   "execution_count": 10,
   "id": "6cc984d0-9ddd-46f4-85d5-121360632ec1",
   "metadata": {
    "tags": []
   },
   "outputs": [],
   "source": [
    "ckpt_cb = ModelCheckpoint(\n",
    "    save_folder,\n",
    "    filename=f\"{model_arch.__name__}\" + \"-{epoch:02d}-{val_loss:.2e}\",\n",
    "    monitor=\"val_loss\",\n",
    "    save_top_k=1,\n",
    "    mode=\"min\",\n",
    ")\n",
    "\n",
    "early_stopping_cb = EarlyStopping(\n",
    "    monitor=\"val_loss\",\n",
    "    patience=config.get('callbacks', {}).get('stopping', {}).get('patience', 13),\n",
    "    mode=\"min\",\n",
    ")\n",
    "\n",
    "beh_val_cb = BehaviorValidation(\n",
    "    paths.validation,\n",
    "    log_interval=config.get('callbacks', {}).get('validation', {}).get('log_interval', 30),\n",
    "    max_frames=config.get('callabacks', {}).get('validation', {}).get('max_frames', 8000),\n",
    ")"
   ]
  },
  {
   "cell_type": "code",
   "execution_count": 11,
   "id": "aac67645-28da-410d-a503-e4fb91e159b1",
   "metadata": {
    "tags": []
   },
   "outputs": [
    {
     "name": "stderr",
     "output_type": "stream",
     "text": [
      "Using 16bit Automatic Mixed Precision (AMP)\n",
      "GPU available: True (cuda), used: True\n",
      "TPU available: False, using: 0 TPU cores\n",
      "IPU available: False, using: 0 IPUs\n",
      "HPU available: False, using: 0 HPUs\n",
      "/home/wg41/miniconda3/envs/aging/lib/python3.10/site-packages/lightning/pytorch/callbacks/model_checkpoint.py:615: UserWarning: Checkpoint directory /n/groups/datta/win/longtogeny/size_norm/models/pre_final_model exists and is not empty.\n",
      "  rank_zero_warn(f\"Checkpoint directory {dirpath} exists and is not empty.\")\n",
      "LOCAL_RANK: 0 - CUDA_VISIBLE_DEVICES: [0]\n",
      "\n",
      "  | Name  | Type                 | Params\n",
      "-----------------------------------------------\n",
      "0 | model | TopLevelTracedModule | 812 K \n",
      "-----------------------------------------------\n",
      "812 K     Trainable params\n",
      "0         Non-trainable params\n",
      "812 K     Total params\n",
      "3.249     Total estimated model params size (MB)\n",
      "SLURM auto-requeueing enabled. Setting signal handlers.\n"
     ]
    },
    {
     "data": {
      "application/vnd.jupyter.widget-view+json": {
       "model_id": "",
       "version_major": 2,
       "version_minor": 0
      },
      "text/plain": [
       "Sanity Checking: 0it [00:00, ?it/s]"
      ]
     },
     "metadata": {},
     "output_type": "display_data"
    },
    {
     "name": "stderr",
     "output_type": "stream",
     "text": [
      "/home/wg41/miniconda3/envs/aging/lib/python3.10/site-packages/lightning/pytorch/trainer/connectors/data_connector.py:432: PossibleUserWarning: The dataloader, val_dataloader, does not have many workers which may be a bottleneck. Consider increasing the value of the `num_workers` argument` (try 48 which is the number of cpus on this machine) in the `DataLoader` init to improve performance.\n",
      "  rank_zero_warn(\n",
      "/home/wg41/miniconda3/envs/aging/lib/python3.10/site-packages/lightning/pytorch/trainer/connectors/data_connector.py:432: PossibleUserWarning: The dataloader, train_dataloader, does not have many workers which may be a bottleneck. Consider increasing the value of the `num_workers` argument` (try 48 which is the number of cpus on this machine) in the `DataLoader` init to improve performance.\n",
      "  rank_zero_warn(\n"
     ]
    },
    {
     "data": {
      "application/vnd.jupyter.widget-view+json": {
       "model_id": "e723aef8d342417aa9ce52285eab53c5",
       "version_major": 2,
       "version_minor": 0
      },
      "text/plain": [
       "Training: 0it [00:00, ?it/s]"
      ]
     },
     "metadata": {},
     "output_type": "display_data"
    },
    {
     "data": {
      "application/vnd.jupyter.widget-view+json": {
       "model_id": "950cd0e112934ff087b152f875f83770",
       "version_major": 2,
       "version_minor": 0
      },
      "text/plain": [
       "Image(value=b'\\x89PNG\\r\\n\\x1a\\n\\x00\\x00\\x00\\rIHDR\\x00\\x00\\x00\\x08\\x00\\x00\\x00\\x08\\x08\\x00\\x00\\x00\\x00\\xe1d\\xe1…"
      ]
     },
     "metadata": {},
     "output_type": "display_data"
    },
    {
     "data": {
      "application/vnd.jupyter.widget-view+json": {
       "model_id": "",
       "version_major": 2,
       "version_minor": 0
      },
      "text/plain": [
       "Validation: 0it [00:00, ?it/s]"
      ]
     },
     "metadata": {},
     "output_type": "display_data"
    },
    {
     "data": {
      "application/vnd.jupyter.widget-view+json": {
       "model_id": "",
       "version_major": 2,
       "version_minor": 0
      },
      "text/plain": [
       "Validation: 0it [00:00, ?it/s]"
      ]
     },
     "metadata": {},
     "output_type": "display_data"
    },
    {
     "data": {
      "application/vnd.jupyter.widget-view+json": {
       "model_id": "",
       "version_major": 2,
       "version_minor": 0
      },
      "text/plain": [
       "Validation: 0it [00:00, ?it/s]"
      ]
     },
     "metadata": {},
     "output_type": "display_data"
    },
    {
     "data": {
      "application/vnd.jupyter.widget-view+json": {
       "model_id": "",
       "version_major": 2,
       "version_minor": 0
      },
      "text/plain": [
       "Validation: 0it [00:00, ?it/s]"
      ]
     },
     "metadata": {},
     "output_type": "display_data"
    },
    {
     "data": {
      "application/vnd.jupyter.widget-view+json": {
       "model_id": "",
       "version_major": 2,
       "version_minor": 0
      },
      "text/plain": [
       "Validation: 0it [00:00, ?it/s]"
      ]
     },
     "metadata": {},
     "output_type": "display_data"
    },
    {
     "data": {
      "application/vnd.jupyter.widget-view+json": {
       "model_id": "",
       "version_major": 2,
       "version_minor": 0
      },
      "text/plain": [
       "Validation: 0it [00:00, ?it/s]"
      ]
     },
     "metadata": {},
     "output_type": "display_data"
    },
    {
     "data": {
      "application/vnd.jupyter.widget-view+json": {
       "model_id": "",
       "version_major": 2,
       "version_minor": 0
      },
      "text/plain": [
       "Validation: 0it [00:00, ?it/s]"
      ]
     },
     "metadata": {},
     "output_type": "display_data"
    },
    {
     "data": {
      "application/vnd.jupyter.widget-view+json": {
       "model_id": "",
       "version_major": 2,
       "version_minor": 0
      },
      "text/plain": [
       "Validation: 0it [00:00, ?it/s]"
      ]
     },
     "metadata": {},
     "output_type": "display_data"
    },
    {
     "data": {
      "application/vnd.jupyter.widget-view+json": {
       "model_id": "",
       "version_major": 2,
       "version_minor": 0
      },
      "text/plain": [
       "Validation: 0it [00:00, ?it/s]"
      ]
     },
     "metadata": {},
     "output_type": "display_data"
    },
    {
     "data": {
      "application/vnd.jupyter.widget-view+json": {
       "model_id": "",
       "version_major": 2,
       "version_minor": 0
      },
      "text/plain": [
       "Validation: 0it [00:00, ?it/s]"
      ]
     },
     "metadata": {},
     "output_type": "display_data"
    },
    {
     "data": {
      "application/vnd.jupyter.widget-view+json": {
       "model_id": "",
       "version_major": 2,
       "version_minor": 0
      },
      "text/plain": [
       "Validation: 0it [00:00, ?it/s]"
      ]
     },
     "metadata": {},
     "output_type": "display_data"
    },
    {
     "data": {
      "application/vnd.jupyter.widget-view+json": {
       "model_id": "",
       "version_major": 2,
       "version_minor": 0
      },
      "text/plain": [
       "Validation: 0it [00:00, ?it/s]"
      ]
     },
     "metadata": {},
     "output_type": "display_data"
    },
    {
     "data": {
      "application/vnd.jupyter.widget-view+json": {
       "model_id": "",
       "version_major": 2,
       "version_minor": 0
      },
      "text/plain": [
       "Validation: 0it [00:00, ?it/s]"
      ]
     },
     "metadata": {},
     "output_type": "display_data"
    },
    {
     "data": {
      "application/vnd.jupyter.widget-view+json": {
       "model_id": "",
       "version_major": 2,
       "version_minor": 0
      },
      "text/plain": [
       "Validation: 0it [00:00, ?it/s]"
      ]
     },
     "metadata": {},
     "output_type": "display_data"
    },
    {
     "data": {
      "application/vnd.jupyter.widget-view+json": {
       "model_id": "",
       "version_major": 2,
       "version_minor": 0
      },
      "text/plain": [
       "Validation: 0it [00:00, ?it/s]"
      ]
     },
     "metadata": {},
     "output_type": "display_data"
    },
    {
     "data": {
      "application/vnd.jupyter.widget-view+json": {
       "model_id": "",
       "version_major": 2,
       "version_minor": 0
      },
      "text/plain": [
       "Validation: 0it [00:00, ?it/s]"
      ]
     },
     "metadata": {},
     "output_type": "display_data"
    },
    {
     "data": {
      "application/vnd.jupyter.widget-view+json": {
       "model_id": "",
       "version_major": 2,
       "version_minor": 0
      },
      "text/plain": [
       "Validation: 0it [00:00, ?it/s]"
      ]
     },
     "metadata": {},
     "output_type": "display_data"
    },
    {
     "data": {
      "application/vnd.jupyter.widget-view+json": {
       "model_id": "",
       "version_major": 2,
       "version_minor": 0
      },
      "text/plain": [
       "Validation: 0it [00:00, ?it/s]"
      ]
     },
     "metadata": {},
     "output_type": "display_data"
    },
    {
     "data": {
      "application/vnd.jupyter.widget-view+json": {
       "model_id": "",
       "version_major": 2,
       "version_minor": 0
      },
      "text/plain": [
       "Validation: 0it [00:00, ?it/s]"
      ]
     },
     "metadata": {},
     "output_type": "display_data"
    },
    {
     "data": {
      "application/vnd.jupyter.widget-view+json": {
       "model_id": "",
       "version_major": 2,
       "version_minor": 0
      },
      "text/plain": [
       "Validation: 0it [00:00, ?it/s]"
      ]
     },
     "metadata": {},
     "output_type": "display_data"
    },
    {
     "data": {
      "application/vnd.jupyter.widget-view+json": {
       "model_id": "",
       "version_major": 2,
       "version_minor": 0
      },
      "text/plain": [
       "Validation: 0it [00:00, ?it/s]"
      ]
     },
     "metadata": {},
     "output_type": "display_data"
    },
    {
     "data": {
      "application/vnd.jupyter.widget-view+json": {
       "model_id": "",
       "version_major": 2,
       "version_minor": 0
      },
      "text/plain": [
       "Validation: 0it [00:00, ?it/s]"
      ]
     },
     "metadata": {},
     "output_type": "display_data"
    },
    {
     "data": {
      "application/vnd.jupyter.widget-view+json": {
       "model_id": "",
       "version_major": 2,
       "version_minor": 0
      },
      "text/plain": [
       "Validation: 0it [00:00, ?it/s]"
      ]
     },
     "metadata": {},
     "output_type": "display_data"
    },
    {
     "data": {
      "application/vnd.jupyter.widget-view+json": {
       "model_id": "",
       "version_major": 2,
       "version_minor": 0
      },
      "text/plain": [
       "Validation: 0it [00:00, ?it/s]"
      ]
     },
     "metadata": {},
     "output_type": "display_data"
    },
    {
     "data": {
      "application/vnd.jupyter.widget-view+json": {
       "model_id": "",
       "version_major": 2,
       "version_minor": 0
      },
      "text/plain": [
       "Validation: 0it [00:00, ?it/s]"
      ]
     },
     "metadata": {},
     "output_type": "display_data"
    },
    {
     "data": {
      "application/vnd.jupyter.widget-view+json": {
       "model_id": "",
       "version_major": 2,
       "version_minor": 0
      },
      "text/plain": [
       "Validation: 0it [00:00, ?it/s]"
      ]
     },
     "metadata": {},
     "output_type": "display_data"
    },
    {
     "data": {
      "application/vnd.jupyter.widget-view+json": {
       "model_id": "",
       "version_major": 2,
       "version_minor": 0
      },
      "text/plain": [
       "Validation: 0it [00:00, ?it/s]"
      ]
     },
     "metadata": {},
     "output_type": "display_data"
    },
    {
     "data": {
      "application/vnd.jupyter.widget-view+json": {
       "model_id": "",
       "version_major": 2,
       "version_minor": 0
      },
      "text/plain": [
       "Validation: 0it [00:00, ?it/s]"
      ]
     },
     "metadata": {},
     "output_type": "display_data"
    },
    {
     "data": {
      "application/vnd.jupyter.widget-view+json": {
       "model_id": "",
       "version_major": 2,
       "version_minor": 0
      },
      "text/plain": [
       "Validation: 0it [00:00, ?it/s]"
      ]
     },
     "metadata": {},
     "output_type": "display_data"
    },
    {
     "data": {
      "application/vnd.jupyter.widget-view+json": {
       "model_id": "",
       "version_major": 2,
       "version_minor": 0
      },
      "text/plain": [
       "Validation: 0it [00:00, ?it/s]"
      ]
     },
     "metadata": {},
     "output_type": "display_data"
    },
    {
     "data": {
      "application/vnd.jupyter.widget-view+json": {
       "model_id": "",
       "version_major": 2,
       "version_minor": 0
      },
      "text/plain": [
       "Validation: 0it [00:00, ?it/s]"
      ]
     },
     "metadata": {},
     "output_type": "display_data"
    },
    {
     "data": {
      "application/vnd.jupyter.widget-view+json": {
       "model_id": "",
       "version_major": 2,
       "version_minor": 0
      },
      "text/plain": [
       "Validation: 0it [00:00, ?it/s]"
      ]
     },
     "metadata": {},
     "output_type": "display_data"
    },
    {
     "data": {
      "application/vnd.jupyter.widget-view+json": {
       "model_id": "",
       "version_major": 2,
       "version_minor": 0
      },
      "text/plain": [
       "Validation: 0it [00:00, ?it/s]"
      ]
     },
     "metadata": {},
     "output_type": "display_data"
    },
    {
     "data": {
      "application/vnd.jupyter.widget-view+json": {
       "model_id": "",
       "version_major": 2,
       "version_minor": 0
      },
      "text/plain": [
       "Validation: 0it [00:00, ?it/s]"
      ]
     },
     "metadata": {},
     "output_type": "display_data"
    },
    {
     "data": {
      "application/vnd.jupyter.widget-view+json": {
       "model_id": "",
       "version_major": 2,
       "version_minor": 0
      },
      "text/plain": [
       "Validation: 0it [00:00, ?it/s]"
      ]
     },
     "metadata": {},
     "output_type": "display_data"
    },
    {
     "data": {
      "application/vnd.jupyter.widget-view+json": {
       "model_id": "",
       "version_major": 2,
       "version_minor": 0
      },
      "text/plain": [
       "Validation: 0it [00:00, ?it/s]"
      ]
     },
     "metadata": {},
     "output_type": "display_data"
    },
    {
     "data": {
      "application/vnd.jupyter.widget-view+json": {
       "model_id": "",
       "version_major": 2,
       "version_minor": 0
      },
      "text/plain": [
       "Validation: 0it [00:00, ?it/s]"
      ]
     },
     "metadata": {},
     "output_type": "display_data"
    },
    {
     "data": {
      "application/vnd.jupyter.widget-view+json": {
       "model_id": "",
       "version_major": 2,
       "version_minor": 0
      },
      "text/plain": [
       "Validation: 0it [00:00, ?it/s]"
      ]
     },
     "metadata": {},
     "output_type": "display_data"
    },
    {
     "data": {
      "application/vnd.jupyter.widget-view+json": {
       "model_id": "",
       "version_major": 2,
       "version_minor": 0
      },
      "text/plain": [
       "Validation: 0it [00:00, ?it/s]"
      ]
     },
     "metadata": {},
     "output_type": "display_data"
    },
    {
     "data": {
      "application/vnd.jupyter.widget-view+json": {
       "model_id": "",
       "version_major": 2,
       "version_minor": 0
      },
      "text/plain": [
       "Validation: 0it [00:00, ?it/s]"
      ]
     },
     "metadata": {},
     "output_type": "display_data"
    },
    {
     "data": {
      "application/vnd.jupyter.widget-view+json": {
       "model_id": "",
       "version_major": 2,
       "version_minor": 0
      },
      "text/plain": [
       "Validation: 0it [00:00, ?it/s]"
      ]
     },
     "metadata": {},
     "output_type": "display_data"
    },
    {
     "data": {
      "application/vnd.jupyter.widget-view+json": {
       "model_id": "",
       "version_major": 2,
       "version_minor": 0
      },
      "text/plain": [
       "Validation: 0it [00:00, ?it/s]"
      ]
     },
     "metadata": {},
     "output_type": "display_data"
    },
    {
     "data": {
      "application/vnd.jupyter.widget-view+json": {
       "model_id": "",
       "version_major": 2,
       "version_minor": 0
      },
      "text/plain": [
       "Validation: 0it [00:00, ?it/s]"
      ]
     },
     "metadata": {},
     "output_type": "display_data"
    },
    {
     "data": {
      "application/vnd.jupyter.widget-view+json": {
       "model_id": "",
       "version_major": 2,
       "version_minor": 0
      },
      "text/plain": [
       "Validation: 0it [00:00, ?it/s]"
      ]
     },
     "metadata": {},
     "output_type": "display_data"
    },
    {
     "data": {
      "application/vnd.jupyter.widget-view+json": {
       "model_id": "",
       "version_major": 2,
       "version_minor": 0
      },
      "text/plain": [
       "Validation: 0it [00:00, ?it/s]"
      ]
     },
     "metadata": {},
     "output_type": "display_data"
    },
    {
     "data": {
      "application/vnd.jupyter.widget-view+json": {
       "model_id": "",
       "version_major": 2,
       "version_minor": 0
      },
      "text/plain": [
       "Validation: 0it [00:00, ?it/s]"
      ]
     },
     "metadata": {},
     "output_type": "display_data"
    },
    {
     "data": {
      "application/vnd.jupyter.widget-view+json": {
       "model_id": "",
       "version_major": 2,
       "version_minor": 0
      },
      "text/plain": [
       "Validation: 0it [00:00, ?it/s]"
      ]
     },
     "metadata": {},
     "output_type": "display_data"
    },
    {
     "data": {
      "application/vnd.jupyter.widget-view+json": {
       "model_id": "",
       "version_major": 2,
       "version_minor": 0
      },
      "text/plain": [
       "Validation: 0it [00:00, ?it/s]"
      ]
     },
     "metadata": {},
     "output_type": "display_data"
    },
    {
     "data": {
      "application/vnd.jupyter.widget-view+json": {
       "model_id": "",
       "version_major": 2,
       "version_minor": 0
      },
      "text/plain": [
       "Validation: 0it [00:00, ?it/s]"
      ]
     },
     "metadata": {},
     "output_type": "display_data"
    },
    {
     "data": {
      "application/vnd.jupyter.widget-view+json": {
       "model_id": "",
       "version_major": 2,
       "version_minor": 0
      },
      "text/plain": [
       "Validation: 0it [00:00, ?it/s]"
      ]
     },
     "metadata": {},
     "output_type": "display_data"
    },
    {
     "data": {
      "application/vnd.jupyter.widget-view+json": {
       "model_id": "",
       "version_major": 2,
       "version_minor": 0
      },
      "text/plain": [
       "Validation: 0it [00:00, ?it/s]"
      ]
     },
     "metadata": {},
     "output_type": "display_data"
    },
    {
     "data": {
      "application/vnd.jupyter.widget-view+json": {
       "model_id": "",
       "version_major": 2,
       "version_minor": 0
      },
      "text/plain": [
       "Validation: 0it [00:00, ?it/s]"
      ]
     },
     "metadata": {},
     "output_type": "display_data"
    },
    {
     "data": {
      "application/vnd.jupyter.widget-view+json": {
       "model_id": "",
       "version_major": 2,
       "version_minor": 0
      },
      "text/plain": [
       "Validation: 0it [00:00, ?it/s]"
      ]
     },
     "metadata": {},
     "output_type": "display_data"
    },
    {
     "data": {
      "application/vnd.jupyter.widget-view+json": {
       "model_id": "",
       "version_major": 2,
       "version_minor": 0
      },
      "text/plain": [
       "Validation: 0it [00:00, ?it/s]"
      ]
     },
     "metadata": {},
     "output_type": "display_data"
    },
    {
     "data": {
      "application/vnd.jupyter.widget-view+json": {
       "model_id": "",
       "version_major": 2,
       "version_minor": 0
      },
      "text/plain": [
       "Validation: 0it [00:00, ?it/s]"
      ]
     },
     "metadata": {},
     "output_type": "display_data"
    },
    {
     "data": {
      "application/vnd.jupyter.widget-view+json": {
       "model_id": "",
       "version_major": 2,
       "version_minor": 0
      },
      "text/plain": [
       "Validation: 0it [00:00, ?it/s]"
      ]
     },
     "metadata": {},
     "output_type": "display_data"
    },
    {
     "data": {
      "application/vnd.jupyter.widget-view+json": {
       "model_id": "",
       "version_major": 2,
       "version_minor": 0
      },
      "text/plain": [
       "Validation: 0it [00:00, ?it/s]"
      ]
     },
     "metadata": {},
     "output_type": "display_data"
    },
    {
     "data": {
      "application/vnd.jupyter.widget-view+json": {
       "model_id": "",
       "version_major": 2,
       "version_minor": 0
      },
      "text/plain": [
       "Validation: 0it [00:00, ?it/s]"
      ]
     },
     "metadata": {},
     "output_type": "display_data"
    },
    {
     "data": {
      "application/vnd.jupyter.widget-view+json": {
       "model_id": "",
       "version_major": 2,
       "version_minor": 0
      },
      "text/plain": [
       "Validation: 0it [00:00, ?it/s]"
      ]
     },
     "metadata": {},
     "output_type": "display_data"
    },
    {
     "data": {
      "application/vnd.jupyter.widget-view+json": {
       "model_id": "",
       "version_major": 2,
       "version_minor": 0
      },
      "text/plain": [
       "Validation: 0it [00:00, ?it/s]"
      ]
     },
     "metadata": {},
     "output_type": "display_data"
    },
    {
     "data": {
      "application/vnd.jupyter.widget-view+json": {
       "model_id": "",
       "version_major": 2,
       "version_minor": 0
      },
      "text/plain": [
       "Validation: 0it [00:00, ?it/s]"
      ]
     },
     "metadata": {},
     "output_type": "display_data"
    },
    {
     "data": {
      "application/vnd.jupyter.widget-view+json": {
       "model_id": "",
       "version_major": 2,
       "version_minor": 0
      },
      "text/plain": [
       "Validation: 0it [00:00, ?it/s]"
      ]
     },
     "metadata": {},
     "output_type": "display_data"
    },
    {
     "data": {
      "application/vnd.jupyter.widget-view+json": {
       "model_id": "",
       "version_major": 2,
       "version_minor": 0
      },
      "text/plain": [
       "Validation: 0it [00:00, ?it/s]"
      ]
     },
     "metadata": {},
     "output_type": "display_data"
    },
    {
     "data": {
      "application/vnd.jupyter.widget-view+json": {
       "model_id": "",
       "version_major": 2,
       "version_minor": 0
      },
      "text/plain": [
       "Validation: 0it [00:00, ?it/s]"
      ]
     },
     "metadata": {},
     "output_type": "display_data"
    },
    {
     "data": {
      "application/vnd.jupyter.widget-view+json": {
       "model_id": "",
       "version_major": 2,
       "version_minor": 0
      },
      "text/plain": [
       "Validation: 0it [00:00, ?it/s]"
      ]
     },
     "metadata": {},
     "output_type": "display_data"
    },
    {
     "data": {
      "application/vnd.jupyter.widget-view+json": {
       "model_id": "",
       "version_major": 2,
       "version_minor": 0
      },
      "text/plain": [
       "Validation: 0it [00:00, ?it/s]"
      ]
     },
     "metadata": {},
     "output_type": "display_data"
    },
    {
     "data": {
      "application/vnd.jupyter.widget-view+json": {
       "model_id": "",
       "version_major": 2,
       "version_minor": 0
      },
      "text/plain": [
       "Validation: 0it [00:00, ?it/s]"
      ]
     },
     "metadata": {},
     "output_type": "display_data"
    },
    {
     "data": {
      "application/vnd.jupyter.widget-view+json": {
       "model_id": "",
       "version_major": 2,
       "version_minor": 0
      },
      "text/plain": [
       "Validation: 0it [00:00, ?it/s]"
      ]
     },
     "metadata": {},
     "output_type": "display_data"
    },
    {
     "data": {
      "application/vnd.jupyter.widget-view+json": {
       "model_id": "",
       "version_major": 2,
       "version_minor": 0
      },
      "text/plain": [
       "Validation: 0it [00:00, ?it/s]"
      ]
     },
     "metadata": {},
     "output_type": "display_data"
    },
    {
     "data": {
      "application/vnd.jupyter.widget-view+json": {
       "model_id": "",
       "version_major": 2,
       "version_minor": 0
      },
      "text/plain": [
       "Validation: 0it [00:00, ?it/s]"
      ]
     },
     "metadata": {},
     "output_type": "display_data"
    },
    {
     "data": {
      "application/vnd.jupyter.widget-view+json": {
       "model_id": "",
       "version_major": 2,
       "version_minor": 0
      },
      "text/plain": [
       "Validation: 0it [00:00, ?it/s]"
      ]
     },
     "metadata": {},
     "output_type": "display_data"
    },
    {
     "data": {
      "application/vnd.jupyter.widget-view+json": {
       "model_id": "",
       "version_major": 2,
       "version_minor": 0
      },
      "text/plain": [
       "Validation: 0it [00:00, ?it/s]"
      ]
     },
     "metadata": {},
     "output_type": "display_data"
    },
    {
     "data": {
      "application/vnd.jupyter.widget-view+json": {
       "model_id": "",
       "version_major": 2,
       "version_minor": 0
      },
      "text/plain": [
       "Validation: 0it [00:00, ?it/s]"
      ]
     },
     "metadata": {},
     "output_type": "display_data"
    },
    {
     "data": {
      "application/vnd.jupyter.widget-view+json": {
       "model_id": "",
       "version_major": 2,
       "version_minor": 0
      },
      "text/plain": [
       "Validation: 0it [00:00, ?it/s]"
      ]
     },
     "metadata": {},
     "output_type": "display_data"
    },
    {
     "data": {
      "application/vnd.jupyter.widget-view+json": {
       "model_id": "",
       "version_major": 2,
       "version_minor": 0
      },
      "text/plain": [
       "Validation: 0it [00:00, ?it/s]"
      ]
     },
     "metadata": {},
     "output_type": "display_data"
    },
    {
     "data": {
      "application/vnd.jupyter.widget-view+json": {
       "model_id": "",
       "version_major": 2,
       "version_minor": 0
      },
      "text/plain": [
       "Validation: 0it [00:00, ?it/s]"
      ]
     },
     "metadata": {},
     "output_type": "display_data"
    },
    {
     "data": {
      "application/vnd.jupyter.widget-view+json": {
       "model_id": "",
       "version_major": 2,
       "version_minor": 0
      },
      "text/plain": [
       "Validation: 0it [00:00, ?it/s]"
      ]
     },
     "metadata": {},
     "output_type": "display_data"
    },
    {
     "data": {
      "application/vnd.jupyter.widget-view+json": {
       "model_id": "",
       "version_major": 2,
       "version_minor": 0
      },
      "text/plain": [
       "Validation: 0it [00:00, ?it/s]"
      ]
     },
     "metadata": {},
     "output_type": "display_data"
    },
    {
     "data": {
      "application/vnd.jupyter.widget-view+json": {
       "model_id": "",
       "version_major": 2,
       "version_minor": 0
      },
      "text/plain": [
       "Validation: 0it [00:00, ?it/s]"
      ]
     },
     "metadata": {},
     "output_type": "display_data"
    },
    {
     "data": {
      "application/vnd.jupyter.widget-view+json": {
       "model_id": "",
       "version_major": 2,
       "version_minor": 0
      },
      "text/plain": [
       "Validation: 0it [00:00, ?it/s]"
      ]
     },
     "metadata": {},
     "output_type": "display_data"
    },
    {
     "data": {
      "application/vnd.jupyter.widget-view+json": {
       "model_id": "",
       "version_major": 2,
       "version_minor": 0
      },
      "text/plain": [
       "Validation: 0it [00:00, ?it/s]"
      ]
     },
     "metadata": {},
     "output_type": "display_data"
    },
    {
     "data": {
      "application/vnd.jupyter.widget-view+json": {
       "model_id": "",
       "version_major": 2,
       "version_minor": 0
      },
      "text/plain": [
       "Validation: 0it [00:00, ?it/s]"
      ]
     },
     "metadata": {},
     "output_type": "display_data"
    },
    {
     "data": {
      "application/vnd.jupyter.widget-view+json": {
       "model_id": "",
       "version_major": 2,
       "version_minor": 0
      },
      "text/plain": [
       "Validation: 0it [00:00, ?it/s]"
      ]
     },
     "metadata": {},
     "output_type": "display_data"
    },
    {
     "data": {
      "application/vnd.jupyter.widget-view+json": {
       "model_id": "",
       "version_major": 2,
       "version_minor": 0
      },
      "text/plain": [
       "Validation: 0it [00:00, ?it/s]"
      ]
     },
     "metadata": {},
     "output_type": "display_data"
    },
    {
     "data": {
      "application/vnd.jupyter.widget-view+json": {
       "model_id": "",
       "version_major": 2,
       "version_minor": 0
      },
      "text/plain": [
       "Validation: 0it [00:00, ?it/s]"
      ]
     },
     "metadata": {},
     "output_type": "display_data"
    },
    {
     "data": {
      "application/vnd.jupyter.widget-view+json": {
       "model_id": "",
       "version_major": 2,
       "version_minor": 0
      },
      "text/plain": [
       "Validation: 0it [00:00, ?it/s]"
      ]
     },
     "metadata": {},
     "output_type": "display_data"
    },
    {
     "data": {
      "application/vnd.jupyter.widget-view+json": {
       "model_id": "",
       "version_major": 2,
       "version_minor": 0
      },
      "text/plain": [
       "Validation: 0it [00:00, ?it/s]"
      ]
     },
     "metadata": {},
     "output_type": "display_data"
    },
    {
     "data": {
      "application/vnd.jupyter.widget-view+json": {
       "model_id": "",
       "version_major": 2,
       "version_minor": 0
      },
      "text/plain": [
       "Validation: 0it [00:00, ?it/s]"
      ]
     },
     "metadata": {},
     "output_type": "display_data"
    },
    {
     "data": {
      "application/vnd.jupyter.widget-view+json": {
       "model_id": "",
       "version_major": 2,
       "version_minor": 0
      },
      "text/plain": [
       "Validation: 0it [00:00, ?it/s]"
      ]
     },
     "metadata": {},
     "output_type": "display_data"
    },
    {
     "data": {
      "application/vnd.jupyter.widget-view+json": {
       "model_id": "",
       "version_major": 2,
       "version_minor": 0
      },
      "text/plain": [
       "Validation: 0it [00:00, ?it/s]"
      ]
     },
     "metadata": {},
     "output_type": "display_data"
    },
    {
     "data": {
      "application/vnd.jupyter.widget-view+json": {
       "model_id": "",
       "version_major": 2,
       "version_minor": 0
      },
      "text/plain": [
       "Validation: 0it [00:00, ?it/s]"
      ]
     },
     "metadata": {},
     "output_type": "display_data"
    },
    {
     "data": {
      "application/vnd.jupyter.widget-view+json": {
       "model_id": "",
       "version_major": 2,
       "version_minor": 0
      },
      "text/plain": [
       "Validation: 0it [00:00, ?it/s]"
      ]
     },
     "metadata": {},
     "output_type": "display_data"
    },
    {
     "data": {
      "application/vnd.jupyter.widget-view+json": {
       "model_id": "",
       "version_major": 2,
       "version_minor": 0
      },
      "text/plain": [
       "Validation: 0it [00:00, ?it/s]"
      ]
     },
     "metadata": {},
     "output_type": "display_data"
    },
    {
     "data": {
      "application/vnd.jupyter.widget-view+json": {
       "model_id": "",
       "version_major": 2,
       "version_minor": 0
      },
      "text/plain": [
       "Validation: 0it [00:00, ?it/s]"
      ]
     },
     "metadata": {},
     "output_type": "display_data"
    },
    {
     "data": {
      "application/vnd.jupyter.widget-view+json": {
       "model_id": "",
       "version_major": 2,
       "version_minor": 0
      },
      "text/plain": [
       "Validation: 0it [00:00, ?it/s]"
      ]
     },
     "metadata": {},
     "output_type": "display_data"
    },
    {
     "data": {
      "application/vnd.jupyter.widget-view+json": {
       "model_id": "a14d390633314e27bad6147860324814",
       "version_major": 2,
       "version_minor": 0
      },
      "text/plain": [
       "Validation: 0it [00:00, ?it/s]"
      ]
     },
     "metadata": {},
     "output_type": "display_data"
    },
    {
     "data": {
      "application/vnd.jupyter.widget-view+json": {
       "model_id": "c10a1ac4ea794e7db6d771821191c85f",
       "version_major": 2,
       "version_minor": 0
      },
      "text/plain": [
       "Validation: 0it [00:00, ?it/s]"
      ]
     },
     "metadata": {},
     "output_type": "display_data"
    },
    {
     "data": {
      "application/vnd.jupyter.widget-view+json": {
       "model_id": "f6b4cb2cea31444daeddf45456f606cd",
       "version_major": 2,
       "version_minor": 0
      },
      "text/plain": [
       "Validation: 0it [00:00, ?it/s]"
      ]
     },
     "metadata": {},
     "output_type": "display_data"
    },
    {
     "data": {
      "application/vnd.jupyter.widget-view+json": {
       "model_id": "d1963eb261c1445cb40a9521fb99a35b",
       "version_major": 2,
       "version_minor": 0
      },
      "text/plain": [
       "Validation: 0it [00:00, ?it/s]"
      ]
     },
     "metadata": {},
     "output_type": "display_data"
    },
    {
     "data": {
      "application/vnd.jupyter.widget-view+json": {
       "model_id": "3fe6b8cf8c9e4cd9960472e0f4c23c0f",
       "version_major": 2,
       "version_minor": 0
      },
      "text/plain": [
       "Validation: 0it [00:00, ?it/s]"
      ]
     },
     "metadata": {},
     "output_type": "display_data"
    },
    {
     "data": {
      "application/vnd.jupyter.widget-view+json": {
       "model_id": "e6edc8387dbe45c0a65ab7b230d26f47",
       "version_major": 2,
       "version_minor": 0
      },
      "text/plain": [
       "Validation: 0it [00:00, ?it/s]"
      ]
     },
     "metadata": {},
     "output_type": "display_data"
    },
    {
     "data": {
      "application/vnd.jupyter.widget-view+json": {
       "model_id": "91349b1307054b06988f30a7c366b6f4",
       "version_major": 2,
       "version_minor": 0
      },
      "text/plain": [
       "Validation: 0it [00:00, ?it/s]"
      ]
     },
     "metadata": {},
     "output_type": "display_data"
    },
    {
     "data": {
      "application/vnd.jupyter.widget-view+json": {
       "model_id": "1b5a5c8f6f7d42e58d8014f7c260d47f",
       "version_major": 2,
       "version_minor": 0
      },
      "text/plain": [
       "Validation: 0it [00:00, ?it/s]"
      ]
     },
     "metadata": {},
     "output_type": "display_data"
    },
    {
     "data": {
      "application/vnd.jupyter.widget-view+json": {
       "model_id": "d2d7007c5cc14d02b59bb8d6005ea992",
       "version_major": 2,
       "version_minor": 0
      },
      "text/plain": [
       "Validation: 0it [00:00, ?it/s]"
      ]
     },
     "metadata": {},
     "output_type": "display_data"
    },
    {
     "data": {
      "application/vnd.jupyter.widget-view+json": {
       "model_id": "9808a5f26742458280b691ca8ab12943",
       "version_major": 2,
       "version_minor": 0
      },
      "text/plain": [
       "Validation: 0it [00:00, ?it/s]"
      ]
     },
     "metadata": {},
     "output_type": "display_data"
    },
    {
     "data": {
      "application/vnd.jupyter.widget-view+json": {
       "model_id": "62104f33fd41473a97c55ac5fccc178b",
       "version_major": 2,
       "version_minor": 0
      },
      "text/plain": [
       "Validation: 0it [00:00, ?it/s]"
      ]
     },
     "metadata": {},
     "output_type": "display_data"
    },
    {
     "data": {
      "application/vnd.jupyter.widget-view+json": {
       "model_id": "54b407f3921c42f1a400741129ef9a82",
       "version_major": 2,
       "version_minor": 0
      },
      "text/plain": [
       "Validation: 0it [00:00, ?it/s]"
      ]
     },
     "metadata": {},
     "output_type": "display_data"
    },
    {
     "data": {
      "application/vnd.jupyter.widget-view+json": {
       "model_id": "b21c0d2cede14dc2b5a7e59e8b63d0ef",
       "version_major": 2,
       "version_minor": 0
      },
      "text/plain": [
       "Validation: 0it [00:00, ?it/s]"
      ]
     },
     "metadata": {},
     "output_type": "display_data"
    },
    {
     "data": {
      "application/vnd.jupyter.widget-view+json": {
       "model_id": "86277ff8d4f14508ba7fca39e31359f2",
       "version_major": 2,
       "version_minor": 0
      },
      "text/plain": [
       "Validation: 0it [00:00, ?it/s]"
      ]
     },
     "metadata": {},
     "output_type": "display_data"
    },
    {
     "data": {
      "application/vnd.jupyter.widget-view+json": {
       "model_id": "48224786279b42538e978ee87b4458c8",
       "version_major": 2,
       "version_minor": 0
      },
      "text/plain": [
       "Validation: 0it [00:00, ?it/s]"
      ]
     },
     "metadata": {},
     "output_type": "display_data"
    },
    {
     "data": {
      "application/vnd.jupyter.widget-view+json": {
       "model_id": "ce79c87e687b45dca105201010baeac9",
       "version_major": 2,
       "version_minor": 0
      },
      "text/plain": [
       "Validation: 0it [00:00, ?it/s]"
      ]
     },
     "metadata": {},
     "output_type": "display_data"
    },
    {
     "data": {
      "application/vnd.jupyter.widget-view+json": {
       "model_id": "bb9b932096de42339d1271fd4effd694",
       "version_major": 2,
       "version_minor": 0
      },
      "text/plain": [
       "Validation: 0it [00:00, ?it/s]"
      ]
     },
     "metadata": {},
     "output_type": "display_data"
    },
    {
     "data": {
      "application/vnd.jupyter.widget-view+json": {
       "model_id": "c451aeb1a2b54c0fa30fe7d67bbccf79",
       "version_major": 2,
       "version_minor": 0
      },
      "text/plain": [
       "Validation: 0it [00:00, ?it/s]"
      ]
     },
     "metadata": {},
     "output_type": "display_data"
    },
    {
     "data": {
      "application/vnd.jupyter.widget-view+json": {
       "model_id": "fab7c94fffd643e5b8598c1f11186c08",
       "version_major": 2,
       "version_minor": 0
      },
      "text/plain": [
       "Validation: 0it [00:00, ?it/s]"
      ]
     },
     "metadata": {},
     "output_type": "display_data"
    },
    {
     "data": {
      "application/vnd.jupyter.widget-view+json": {
       "model_id": "8a6c62c7f94d4490a41445c2ecf156d8",
       "version_major": 2,
       "version_minor": 0
      },
      "text/plain": [
       "Validation: 0it [00:00, ?it/s]"
      ]
     },
     "metadata": {},
     "output_type": "display_data"
    },
    {
     "data": {
      "application/vnd.jupyter.widget-view+json": {
       "model_id": "98ff2b10b73d402689ecbeeea62ba68b",
       "version_major": 2,
       "version_minor": 0
      },
      "text/plain": [
       "Validation: 0it [00:00, ?it/s]"
      ]
     },
     "metadata": {},
     "output_type": "display_data"
    },
    {
     "data": {
      "application/vnd.jupyter.widget-view+json": {
       "model_id": "ed95bf594b0c43889a31f005ebd134dd",
       "version_major": 2,
       "version_minor": 0
      },
      "text/plain": [
       "Validation: 0it [00:00, ?it/s]"
      ]
     },
     "metadata": {},
     "output_type": "display_data"
    },
    {
     "data": {
      "application/vnd.jupyter.widget-view+json": {
       "model_id": "4094488c96e940de8828bc82ea96abf2",
       "version_major": 2,
       "version_minor": 0
      },
      "text/plain": [
       "Validation: 0it [00:00, ?it/s]"
      ]
     },
     "metadata": {},
     "output_type": "display_data"
    },
    {
     "data": {
      "application/vnd.jupyter.widget-view+json": {
       "model_id": "7fa23de4265340cd9025317954f6a1c4",
       "version_major": 2,
       "version_minor": 0
      },
      "text/plain": [
       "Validation: 0it [00:00, ?it/s]"
      ]
     },
     "metadata": {},
     "output_type": "display_data"
    },
    {
     "data": {
      "application/vnd.jupyter.widget-view+json": {
       "model_id": "9bd6cb44d991496bb57e3732ad67f67c",
       "version_major": 2,
       "version_minor": 0
      },
      "text/plain": [
       "Validation: 0it [00:00, ?it/s]"
      ]
     },
     "metadata": {},
     "output_type": "display_data"
    },
    {
     "data": {
      "application/vnd.jupyter.widget-view+json": {
       "model_id": "6607034b715e4e9a8df20ff10375797f",
       "version_major": 2,
       "version_minor": 0
      },
      "text/plain": [
       "Validation: 0it [00:00, ?it/s]"
      ]
     },
     "metadata": {},
     "output_type": "display_data"
    },
    {
     "data": {
      "application/vnd.jupyter.widget-view+json": {
       "model_id": "b203097194814c0a9df965bdea0639fb",
       "version_major": 2,
       "version_minor": 0
      },
      "text/plain": [
       "Validation: 0it [00:00, ?it/s]"
      ]
     },
     "metadata": {},
     "output_type": "display_data"
    },
    {
     "data": {
      "application/vnd.jupyter.widget-view+json": {
       "model_id": "a770c333073745cd9225b01bf8812b8c",
       "version_major": 2,
       "version_minor": 0
      },
      "text/plain": [
       "Validation: 0it [00:00, ?it/s]"
      ]
     },
     "metadata": {},
     "output_type": "display_data"
    },
    {
     "data": {
      "application/vnd.jupyter.widget-view+json": {
       "model_id": "44e5f163bd8043a09d551f3a764d6caa",
       "version_major": 2,
       "version_minor": 0
      },
      "text/plain": [
       "Validation: 0it [00:00, ?it/s]"
      ]
     },
     "metadata": {},
     "output_type": "display_data"
    },
    {
     "data": {
      "application/vnd.jupyter.widget-view+json": {
       "model_id": "6634261ae2514a649fd6f1619517c687",
       "version_major": 2,
       "version_minor": 0
      },
      "text/plain": [
       "Validation: 0it [00:00, ?it/s]"
      ]
     },
     "metadata": {},
     "output_type": "display_data"
    },
    {
     "data": {
      "application/vnd.jupyter.widget-view+json": {
       "model_id": "0a7e424be6f947949ba1f2a534f0ae56",
       "version_major": 2,
       "version_minor": 0
      },
      "text/plain": [
       "Validation: 0it [00:00, ?it/s]"
      ]
     },
     "metadata": {},
     "output_type": "display_data"
    },
    {
     "data": {
      "application/vnd.jupyter.widget-view+json": {
       "model_id": "87042628f5a3435297d8e30ef51db4a2",
       "version_major": 2,
       "version_minor": 0
      },
      "text/plain": [
       "Validation: 0it [00:00, ?it/s]"
      ]
     },
     "metadata": {},
     "output_type": "display_data"
    },
    {
     "data": {
      "application/vnd.jupyter.widget-view+json": {
       "model_id": "7fcacb01b63247dcbfaf590c0098e6b1",
       "version_major": 2,
       "version_minor": 0
      },
      "text/plain": [
       "Validation: 0it [00:00, ?it/s]"
      ]
     },
     "metadata": {},
     "output_type": "display_data"
    },
    {
     "data": {
      "application/vnd.jupyter.widget-view+json": {
       "model_id": "de856eb2a61d4515957f101888d0f9f1",
       "version_major": 2,
       "version_minor": 0
      },
      "text/plain": [
       "Validation: 0it [00:00, ?it/s]"
      ]
     },
     "metadata": {},
     "output_type": "display_data"
    },
    {
     "data": {
      "application/vnd.jupyter.widget-view+json": {
       "model_id": "aab6f2affe334fadbd20abf58b32f265",
       "version_major": 2,
       "version_minor": 0
      },
      "text/plain": [
       "Validation: 0it [00:00, ?it/s]"
      ]
     },
     "metadata": {},
     "output_type": "display_data"
    },
    {
     "data": {
      "application/vnd.jupyter.widget-view+json": {
       "model_id": "d6f0e0997c0040ee81262f394b96087d",
       "version_major": 2,
       "version_minor": 0
      },
      "text/plain": [
       "Validation: 0it [00:00, ?it/s]"
      ]
     },
     "metadata": {},
     "output_type": "display_data"
    },
    {
     "data": {
      "application/vnd.jupyter.widget-view+json": {
       "model_id": "0daf26fd4bd64720912055903031194b",
       "version_major": 2,
       "version_minor": 0
      },
      "text/plain": [
       "Validation: 0it [00:00, ?it/s]"
      ]
     },
     "metadata": {},
     "output_type": "display_data"
    },
    {
     "data": {
      "application/vnd.jupyter.widget-view+json": {
       "model_id": "38ddda9bd0034dd79037224d39a9f338",
       "version_major": 2,
       "version_minor": 0
      },
      "text/plain": [
       "Validation: 0it [00:00, ?it/s]"
      ]
     },
     "metadata": {},
     "output_type": "display_data"
    },
    {
     "data": {
      "application/vnd.jupyter.widget-view+json": {
       "model_id": "1f87537a40f445f68d982b1910a3bb56",
       "version_major": 2,
       "version_minor": 0
      },
      "text/plain": [
       "Validation: 0it [00:00, ?it/s]"
      ]
     },
     "metadata": {},
     "output_type": "display_data"
    },
    {
     "data": {
      "application/vnd.jupyter.widget-view+json": {
       "model_id": "0744ed458f674d18aa9b6bdf6ba44835",
       "version_major": 2,
       "version_minor": 0
      },
      "text/plain": [
       "Validation: 0it [00:00, ?it/s]"
      ]
     },
     "metadata": {},
     "output_type": "display_data"
    },
    {
     "data": {
      "application/vnd.jupyter.widget-view+json": {
       "model_id": "0ed1e4c35605450a812f7181a7c89ef5",
       "version_major": 2,
       "version_minor": 0
      },
      "text/plain": [
       "Validation: 0it [00:00, ?it/s]"
      ]
     },
     "metadata": {},
     "output_type": "display_data"
    },
    {
     "data": {
      "application/vnd.jupyter.widget-view+json": {
       "model_id": "c5ecc28c58ad4e46ab06a0b6e59dcaef",
       "version_major": 2,
       "version_minor": 0
      },
      "text/plain": [
       "Validation: 0it [00:00, ?it/s]"
      ]
     },
     "metadata": {},
     "output_type": "display_data"
    },
    {
     "data": {
      "application/vnd.jupyter.widget-view+json": {
       "model_id": "f8cdf3b12e194aceafc16186e4edb596",
       "version_major": 2,
       "version_minor": 0
      },
      "text/plain": [
       "Validation: 0it [00:00, ?it/s]"
      ]
     },
     "metadata": {},
     "output_type": "display_data"
    },
    {
     "data": {
      "application/vnd.jupyter.widget-view+json": {
       "model_id": "a987989616a644f8897b52d357bb894d",
       "version_major": 2,
       "version_minor": 0
      },
      "text/plain": [
       "Validation: 0it [00:00, ?it/s]"
      ]
     },
     "metadata": {},
     "output_type": "display_data"
    },
    {
     "data": {
      "application/vnd.jupyter.widget-view+json": {
       "model_id": "e7d6ea08f9fd4e438c81ef0247f918b7",
       "version_major": 2,
       "version_minor": 0
      },
      "text/plain": [
       "Validation: 0it [00:00, ?it/s]"
      ]
     },
     "metadata": {},
     "output_type": "display_data"
    },
    {
     "data": {
      "application/vnd.jupyter.widget-view+json": {
       "model_id": "217bfccfe5944f95bdfa1e08d96bebde",
       "version_major": 2,
       "version_minor": 0
      },
      "text/plain": [
       "Validation: 0it [00:00, ?it/s]"
      ]
     },
     "metadata": {},
     "output_type": "display_data"
    },
    {
     "data": {
      "application/vnd.jupyter.widget-view+json": {
       "model_id": "0220c1a932d9449ba00b010a8475314e",
       "version_major": 2,
       "version_minor": 0
      },
      "text/plain": [
       "Validation: 0it [00:00, ?it/s]"
      ]
     },
     "metadata": {},
     "output_type": "display_data"
    },
    {
     "data": {
      "application/vnd.jupyter.widget-view+json": {
       "model_id": "2a6027103681490fb62d5931f31f5f10",
       "version_major": 2,
       "version_minor": 0
      },
      "text/plain": [
       "Validation: 0it [00:00, ?it/s]"
      ]
     },
     "metadata": {},
     "output_type": "display_data"
    },
    {
     "data": {
      "application/vnd.jupyter.widget-view+json": {
       "model_id": "9ef1212cab30427fa96d4b30e1820732",
       "version_major": 2,
       "version_minor": 0
      },
      "text/plain": [
       "Validation: 0it [00:00, ?it/s]"
      ]
     },
     "metadata": {},
     "output_type": "display_data"
    },
    {
     "data": {
      "application/vnd.jupyter.widget-view+json": {
       "model_id": "1dbbca6e0ec845f799ed007b71794668",
       "version_major": 2,
       "version_minor": 0
      },
      "text/plain": [
       "Validation: 0it [00:00, ?it/s]"
      ]
     },
     "metadata": {},
     "output_type": "display_data"
    },
    {
     "data": {
      "application/vnd.jupyter.widget-view+json": {
       "model_id": "1c724393955748559eb8fce74fbe842a",
       "version_major": 2,
       "version_minor": 0
      },
      "text/plain": [
       "Validation: 0it [00:00, ?it/s]"
      ]
     },
     "metadata": {},
     "output_type": "display_data"
    },
    {
     "data": {
      "application/vnd.jupyter.widget-view+json": {
       "model_id": "9514176a1ccb4e5a93618a1549d5df8b",
       "version_major": 2,
       "version_minor": 0
      },
      "text/plain": [
       "Validation: 0it [00:00, ?it/s]"
      ]
     },
     "metadata": {},
     "output_type": "display_data"
    },
    {
     "data": {
      "application/vnd.jupyter.widget-view+json": {
       "model_id": "47cff189e1c24471babf49e434fbdb5a",
       "version_major": 2,
       "version_minor": 0
      },
      "text/plain": [
       "Validation: 0it [00:00, ?it/s]"
      ]
     },
     "metadata": {},
     "output_type": "display_data"
    },
    {
     "data": {
      "application/vnd.jupyter.widget-view+json": {
       "model_id": "c4d9c2615a4b40a0925f5fd0f9cb1718",
       "version_major": 2,
       "version_minor": 0
      },
      "text/plain": [
       "Validation: 0it [00:00, ?it/s]"
      ]
     },
     "metadata": {},
     "output_type": "display_data"
    },
    {
     "data": {
      "application/vnd.jupyter.widget-view+json": {
       "model_id": "46a5a3bb2fa6491f805dcb13b3518ce8",
       "version_major": 2,
       "version_minor": 0
      },
      "text/plain": [
       "Validation: 0it [00:00, ?it/s]"
      ]
     },
     "metadata": {},
     "output_type": "display_data"
    },
    {
     "data": {
      "application/vnd.jupyter.widget-view+json": {
       "model_id": "9c3b776230f04094ad9e1266ea64d778",
       "version_major": 2,
       "version_minor": 0
      },
      "text/plain": [
       "Validation: 0it [00:00, ?it/s]"
      ]
     },
     "metadata": {},
     "output_type": "display_data"
    },
    {
     "data": {
      "application/vnd.jupyter.widget-view+json": {
       "model_id": "c7b9188562fa402aa9bed7ab5bf17b03",
       "version_major": 2,
       "version_minor": 0
      },
      "text/plain": [
       "Validation: 0it [00:00, ?it/s]"
      ]
     },
     "metadata": {},
     "output_type": "display_data"
    },
    {
     "data": {
      "application/vnd.jupyter.widget-view+json": {
       "model_id": "b037795d8138476fa75f63ae0f4a63e6",
       "version_major": 2,
       "version_minor": 0
      },
      "text/plain": [
       "Validation: 0it [00:00, ?it/s]"
      ]
     },
     "metadata": {},
     "output_type": "display_data"
    },
    {
     "data": {
      "application/vnd.jupyter.widget-view+json": {
       "model_id": "ecce6b6ee6fa43deb83d2eeca8d894d1",
       "version_major": 2,
       "version_minor": 0
      },
      "text/plain": [
       "Validation: 0it [00:00, ?it/s]"
      ]
     },
     "metadata": {},
     "output_type": "display_data"
    },
    {
     "data": {
      "application/vnd.jupyter.widget-view+json": {
       "model_id": "0d50cac2390b43e1aef3a5899fc67bf8",
       "version_major": 2,
       "version_minor": 0
      },
      "text/plain": [
       "Validation: 0it [00:00, ?it/s]"
      ]
     },
     "metadata": {},
     "output_type": "display_data"
    },
    {
     "data": {
      "application/vnd.jupyter.widget-view+json": {
       "model_id": "57a3ea5f1b604cf894a3d64c1f2374e6",
       "version_major": 2,
       "version_minor": 0
      },
      "text/plain": [
       "Validation: 0it [00:00, ?it/s]"
      ]
     },
     "metadata": {},
     "output_type": "display_data"
    },
    {
     "data": {
      "application/vnd.jupyter.widget-view+json": {
       "model_id": "33679502e45940f794c3376972154085",
       "version_major": 2,
       "version_minor": 0
      },
      "text/plain": [
       "Validation: 0it [00:00, ?it/s]"
      ]
     },
     "metadata": {},
     "output_type": "display_data"
    },
    {
     "data": {
      "application/vnd.jupyter.widget-view+json": {
       "model_id": "9c62759334934ff38b76678e8985df05",
       "version_major": 2,
       "version_minor": 0
      },
      "text/plain": [
       "Validation: 0it [00:00, ?it/s]"
      ]
     },
     "metadata": {},
     "output_type": "display_data"
    },
    {
     "data": {
      "application/vnd.jupyter.widget-view+json": {
       "model_id": "3d8a9a46b09b4d0eae63679dcf42405a",
       "version_major": 2,
       "version_minor": 0
      },
      "text/plain": [
       "Validation: 0it [00:00, ?it/s]"
      ]
     },
     "metadata": {},
     "output_type": "display_data"
    },
    {
     "data": {
      "application/vnd.jupyter.widget-view+json": {
       "model_id": "590e6f505dfd4cc4908ccbd376bafdb5",
       "version_major": 2,
       "version_minor": 0
      },
      "text/plain": [
       "Validation: 0it [00:00, ?it/s]"
      ]
     },
     "metadata": {},
     "output_type": "display_data"
    },
    {
     "data": {
      "application/vnd.jupyter.widget-view+json": {
       "model_id": "d109e522ba8f4dd3974312ed600d844d",
       "version_major": 2,
       "version_minor": 0
      },
      "text/plain": [
       "Validation: 0it [00:00, ?it/s]"
      ]
     },
     "metadata": {},
     "output_type": "display_data"
    },
    {
     "data": {
      "application/vnd.jupyter.widget-view+json": {
       "model_id": "67b76b479e0e4408a66f3e6a392a0a1c",
       "version_major": 2,
       "version_minor": 0
      },
      "text/plain": [
       "Validation: 0it [00:00, ?it/s]"
      ]
     },
     "metadata": {},
     "output_type": "display_data"
    },
    {
     "data": {
      "application/vnd.jupyter.widget-view+json": {
       "model_id": "65447df81b2648b7ba6f2da750f1965a",
       "version_major": 2,
       "version_minor": 0
      },
      "text/plain": [
       "Validation: 0it [00:00, ?it/s]"
      ]
     },
     "metadata": {},
     "output_type": "display_data"
    },
    {
     "data": {
      "application/vnd.jupyter.widget-view+json": {
       "model_id": "789f43eddc5c462ba9744c510fc182a3",
       "version_major": 2,
       "version_minor": 0
      },
      "text/plain": [
       "Validation: 0it [00:00, ?it/s]"
      ]
     },
     "metadata": {},
     "output_type": "display_data"
    },
    {
     "data": {
      "application/vnd.jupyter.widget-view+json": {
       "model_id": "49c1f5ecee944ceebfcb81fdce608670",
       "version_major": 2,
       "version_minor": 0
      },
      "text/plain": [
       "Validation: 0it [00:00, ?it/s]"
      ]
     },
     "metadata": {},
     "output_type": "display_data"
    },
    {
     "data": {
      "application/vnd.jupyter.widget-view+json": {
       "model_id": "d9b57bf9145643c8bd9b483cfe3149c9",
       "version_major": 2,
       "version_minor": 0
      },
      "text/plain": [
       "Validation: 0it [00:00, ?it/s]"
      ]
     },
     "metadata": {},
     "output_type": "display_data"
    },
    {
     "data": {
      "application/vnd.jupyter.widget-view+json": {
       "model_id": "1d03b63eefc844929850864f8f8d87fa",
       "version_major": 2,
       "version_minor": 0
      },
      "text/plain": [
       "Validation: 0it [00:00, ?it/s]"
      ]
     },
     "metadata": {},
     "output_type": "display_data"
    },
    {
     "data": {
      "application/vnd.jupyter.widget-view+json": {
       "model_id": "423328c7078e4da698c26233f904130e",
       "version_major": 2,
       "version_minor": 0
      },
      "text/plain": [
       "Validation: 0it [00:00, ?it/s]"
      ]
     },
     "metadata": {},
     "output_type": "display_data"
    },
    {
     "data": {
      "application/vnd.jupyter.widget-view+json": {
       "model_id": "018a03fcb5634bf69fc8eb2a494769d2",
       "version_major": 2,
       "version_minor": 0
      },
      "text/plain": [
       "Validation: 0it [00:00, ?it/s]"
      ]
     },
     "metadata": {},
     "output_type": "display_data"
    },
    {
     "data": {
      "application/vnd.jupyter.widget-view+json": {
       "model_id": "6b4f3eed35c14055a75c050970771a63",
       "version_major": 2,
       "version_minor": 0
      },
      "text/plain": [
       "Validation: 0it [00:00, ?it/s]"
      ]
     },
     "metadata": {},
     "output_type": "display_data"
    },
    {
     "data": {
      "application/vnd.jupyter.widget-view+json": {
       "model_id": "94e10b4c583e4be4805412515ffb583c",
       "version_major": 2,
       "version_minor": 0
      },
      "text/plain": [
       "Validation: 0it [00:00, ?it/s]"
      ]
     },
     "metadata": {},
     "output_type": "display_data"
    },
    {
     "data": {
      "application/vnd.jupyter.widget-view+json": {
       "model_id": "2bb63142ca55406e858ba43ee9dc077b",
       "version_major": 2,
       "version_minor": 0
      },
      "text/plain": [
       "Validation: 0it [00:00, ?it/s]"
      ]
     },
     "metadata": {},
     "output_type": "display_data"
    },
    {
     "data": {
      "application/vnd.jupyter.widget-view+json": {
       "model_id": "ab91d7e9fd4c4a45afaa0d9a1489725b",
       "version_major": 2,
       "version_minor": 0
      },
      "text/plain": [
       "Validation: 0it [00:00, ?it/s]"
      ]
     },
     "metadata": {},
     "output_type": "display_data"
    },
    {
     "data": {
      "application/vnd.jupyter.widget-view+json": {
       "model_id": "7fd82db52c204aa4b3672a033782dc2a",
       "version_major": 2,
       "version_minor": 0
      },
      "text/plain": [
       "Validation: 0it [00:00, ?it/s]"
      ]
     },
     "metadata": {},
     "output_type": "display_data"
    },
    {
     "data": {
      "application/vnd.jupyter.widget-view+json": {
       "model_id": "048d242c29c545a6a2634abfbd20955a",
       "version_major": 2,
       "version_minor": 0
      },
      "text/plain": [
       "Validation: 0it [00:00, ?it/s]"
      ]
     },
     "metadata": {},
     "output_type": "display_data"
    },
    {
     "data": {
      "application/vnd.jupyter.widget-view+json": {
       "model_id": "cf3d1cddbf3d408bbda9525354b450b6",
       "version_major": 2,
       "version_minor": 0
      },
      "text/plain": [
       "Validation: 0it [00:00, ?it/s]"
      ]
     },
     "metadata": {},
     "output_type": "display_data"
    },
    {
     "data": {
      "application/vnd.jupyter.widget-view+json": {
       "model_id": "b10309dca2df419f827b950d6f9962a7",
       "version_major": 2,
       "version_minor": 0
      },
      "text/plain": [
       "Validation: 0it [00:00, ?it/s]"
      ]
     },
     "metadata": {},
     "output_type": "display_data"
    },
    {
     "data": {
      "application/vnd.jupyter.widget-view+json": {
       "model_id": "4cdf52e1a6874c90a70c37e040b186f0",
       "version_major": 2,
       "version_minor": 0
      },
      "text/plain": [
       "Validation: 0it [00:00, ?it/s]"
      ]
     },
     "metadata": {},
     "output_type": "display_data"
    },
    {
     "data": {
      "application/vnd.jupyter.widget-view+json": {
       "model_id": "36f55457ca7441ac810e8327d58faf34",
       "version_major": 2,
       "version_minor": 0
      },
      "text/plain": [
       "Validation: 0it [00:00, ?it/s]"
      ]
     },
     "metadata": {},
     "output_type": "display_data"
    },
    {
     "data": {
      "application/vnd.jupyter.widget-view+json": {
       "model_id": "b03e2eb901324030b4e8f58707a8caee",
       "version_major": 2,
       "version_minor": 0
      },
      "text/plain": [
       "Validation: 0it [00:00, ?it/s]"
      ]
     },
     "metadata": {},
     "output_type": "display_data"
    },
    {
     "data": {
      "application/vnd.jupyter.widget-view+json": {
       "model_id": "e1311edb38a944aaa56d2e4bace555f0",
       "version_major": 2,
       "version_minor": 0
      },
      "text/plain": [
       "Validation: 0it [00:00, ?it/s]"
      ]
     },
     "metadata": {},
     "output_type": "display_data"
    },
    {
     "data": {
      "application/vnd.jupyter.widget-view+json": {
       "model_id": "71cbe2a04cec4d689e3b6c284f08f6d3",
       "version_major": 2,
       "version_minor": 0
      },
      "text/plain": [
       "Validation: 0it [00:00, ?it/s]"
      ]
     },
     "metadata": {},
     "output_type": "display_data"
    },
    {
     "data": {
      "application/vnd.jupyter.widget-view+json": {
       "model_id": "1686d71f722440c8a6da8779a427e293",
       "version_major": 2,
       "version_minor": 0
      },
      "text/plain": [
       "Validation: 0it [00:00, ?it/s]"
      ]
     },
     "metadata": {},
     "output_type": "display_data"
    },
    {
     "data": {
      "application/vnd.jupyter.widget-view+json": {
       "model_id": "3b98b5a868dc43e18888b46e30a45b27",
       "version_major": 2,
       "version_minor": 0
      },
      "text/plain": [
       "Validation: 0it [00:00, ?it/s]"
      ]
     },
     "metadata": {},
     "output_type": "display_data"
    },
    {
     "data": {
      "application/vnd.jupyter.widget-view+json": {
       "model_id": "b491a83005d94a28be0eb16c62e230d8",
       "version_major": 2,
       "version_minor": 0
      },
      "text/plain": [
       "Validation: 0it [00:00, ?it/s]"
      ]
     },
     "metadata": {},
     "output_type": "display_data"
    },
    {
     "data": {
      "application/vnd.jupyter.widget-view+json": {
       "model_id": "38648aab78794e489b82a885fdb4eb46",
       "version_major": 2,
       "version_minor": 0
      },
      "text/plain": [
       "Validation: 0it [00:00, ?it/s]"
      ]
     },
     "metadata": {},
     "output_type": "display_data"
    },
    {
     "data": {
      "application/vnd.jupyter.widget-view+json": {
       "model_id": "646fed1a578d43c8a835258b53dc06a7",
       "version_major": 2,
       "version_minor": 0
      },
      "text/plain": [
       "Validation: 0it [00:00, ?it/s]"
      ]
     },
     "metadata": {},
     "output_type": "display_data"
    },
    {
     "data": {
      "application/vnd.jupyter.widget-view+json": {
       "model_id": "63c62881dd814e2d887f3be63fa4c76b",
       "version_major": 2,
       "version_minor": 0
      },
      "text/plain": [
       "Validation: 0it [00:00, ?it/s]"
      ]
     },
     "metadata": {},
     "output_type": "display_data"
    },
    {
     "data": {
      "application/vnd.jupyter.widget-view+json": {
       "model_id": "0e2679462b17426c8996f395deedef5a",
       "version_major": 2,
       "version_minor": 0
      },
      "text/plain": [
       "Validation: 0it [00:00, ?it/s]"
      ]
     },
     "metadata": {},
     "output_type": "display_data"
    },
    {
     "data": {
      "application/vnd.jupyter.widget-view+json": {
       "model_id": "338f340c280645a9b6f36dd0bae4830f",
       "version_major": 2,
       "version_minor": 0
      },
      "text/plain": [
       "Validation: 0it [00:00, ?it/s]"
      ]
     },
     "metadata": {},
     "output_type": "display_data"
    },
    {
     "data": {
      "application/vnd.jupyter.widget-view+json": {
       "model_id": "f714664bec3c4f498aa42e66819e4e5a",
       "version_major": 2,
       "version_minor": 0
      },
      "text/plain": [
       "Validation: 0it [00:00, ?it/s]"
      ]
     },
     "metadata": {},
     "output_type": "display_data"
    },
    {
     "data": {
      "application/vnd.jupyter.widget-view+json": {
       "model_id": "64aef96be5984ba7ac4803e495623d02",
       "version_major": 2,
       "version_minor": 0
      },
      "text/plain": [
       "Validation: 0it [00:00, ?it/s]"
      ]
     },
     "metadata": {},
     "output_type": "display_data"
    },
    {
     "data": {
      "application/vnd.jupyter.widget-view+json": {
       "model_id": "885fa03c032049709f1a86e781dfcef3",
       "version_major": 2,
       "version_minor": 0
      },
      "text/plain": [
       "Validation: 0it [00:00, ?it/s]"
      ]
     },
     "metadata": {},
     "output_type": "display_data"
    },
    {
     "data": {
      "application/vnd.jupyter.widget-view+json": {
       "model_id": "ffc6fcc279c543ac9e430e05b4bbafac",
       "version_major": 2,
       "version_minor": 0
      },
      "text/plain": [
       "Validation: 0it [00:00, ?it/s]"
      ]
     },
     "metadata": {},
     "output_type": "display_data"
    },
    {
     "data": {
      "application/vnd.jupyter.widget-view+json": {
       "model_id": "b1926e69554946689199709b49ce28cd",
       "version_major": 2,
       "version_minor": 0
      },
      "text/plain": [
       "Validation: 0it [00:00, ?it/s]"
      ]
     },
     "metadata": {},
     "output_type": "display_data"
    },
    {
     "data": {
      "application/vnd.jupyter.widget-view+json": {
       "model_id": "f9c26dfd8ba24e94993483856121c31c",
       "version_major": 2,
       "version_minor": 0
      },
      "text/plain": [
       "Validation: 0it [00:00, ?it/s]"
      ]
     },
     "metadata": {},
     "output_type": "display_data"
    },
    {
     "data": {
      "application/vnd.jupyter.widget-view+json": {
       "model_id": "b53710154b084aee90c49ff5be264534",
       "version_major": 2,
       "version_minor": 0
      },
      "text/plain": [
       "Validation: 0it [00:00, ?it/s]"
      ]
     },
     "metadata": {},
     "output_type": "display_data"
    },
    {
     "data": {
      "application/vnd.jupyter.widget-view+json": {
       "model_id": "71e9b221c46d43468d2f2992d95b62dd",
       "version_major": 2,
       "version_minor": 0
      },
      "text/plain": [
       "Validation: 0it [00:00, ?it/s]"
      ]
     },
     "metadata": {},
     "output_type": "display_data"
    },
    {
     "data": {
      "application/vnd.jupyter.widget-view+json": {
       "model_id": "e80d93883a9e4a3099b48d91bd82d611",
       "version_major": 2,
       "version_minor": 0
      },
      "text/plain": [
       "Validation: 0it [00:00, ?it/s]"
      ]
     },
     "metadata": {},
     "output_type": "display_data"
    },
    {
     "data": {
      "application/vnd.jupyter.widget-view+json": {
       "model_id": "b3888d56f49a466399059dc1ae7675b1",
       "version_major": 2,
       "version_minor": 0
      },
      "text/plain": [
       "Validation: 0it [00:00, ?it/s]"
      ]
     },
     "metadata": {},
     "output_type": "display_data"
    },
    {
     "data": {
      "application/vnd.jupyter.widget-view+json": {
       "model_id": "85bf929a6111473ea00119d02d8a8c7a",
       "version_major": 2,
       "version_minor": 0
      },
      "text/plain": [
       "Validation: 0it [00:00, ?it/s]"
      ]
     },
     "metadata": {},
     "output_type": "display_data"
    },
    {
     "name": "stderr",
     "output_type": "stream",
     "text": [
      "`Trainer.fit` stopped: `max_epochs=201` reached.\n"
     ]
    }
   ],
   "source": [
    "image_cb = ImageDisplay()\n",
    "\n",
    "trainer = pl.Trainer(\n",
    "    max_epochs=config.get('trainer', {}).get('max_epochs', 85),\n",
    "    accelerator=\"gpu\" if torch.cuda.is_available() else \"cpu\",\n",
    "    devices=1,\n",
    "    callbacks=[ckpt_cb, early_stopping_cb, beh_val_cb, image_cb],\n",
    "    precision='16-mixed' if torch.cuda.is_available() else \"bf16-mixed\",\n",
    "    logger=[CSVLogger(save_folder, name=\"size_norm_scan\"), TensorBoardLogger(save_folder, name=\"size_norm_scan\")],\n",
    ")\n",
    "trainer.fit(model, ckpt_path=checkpoint)"
   ]
  },
  {
   "cell_type": "code",
   "execution_count": 12,
   "id": "0987c0d0",
   "metadata": {},
   "outputs": [],
   "source": [
    "model = SizeNormModel.load_from_checkpoint(ckpt_cb.best_model_path)\n",
    "\n",
    "# save jit version of model\n",
    "torch.jit.save(model.model, save_folder / \"model.pt\")"
   ]
  },
  {
   "cell_type": "code",
   "execution_count": null,
   "id": "862ff40c-ddf5-43ce-a8d5-a7239c153057",
   "metadata": {},
   "outputs": [],
   "source": []
  }
 ],
 "metadata": {
  "kernelspec": {
   "display_name": "Ontogeny",
   "language": "python",
   "name": "aging"
  },
  "language_info": {
   "codemirror_mode": {
    "name": "ipython",
    "version": 3
   },
   "file_extension": ".py",
   "mimetype": "text/x-python",
   "name": "python",
   "nbconvert_exporter": "python",
   "pygments_lexer": "ipython3",
   "version": "3.10.10"
  },
  "widgets": {
   "application/vnd.jupyter.widget-state+json": {
    "state": {
     "001e4038f263498891cdc1511e2b89b0": {
      "model_module": "@jupyter-widgets/controls",
      "model_module_version": "2.0.0",
      "model_name": "HTMLStyleModel",
      "state": {
       "description_width": "",
       "font_size": null,
       "text_color": null
      }
     },
     "00208ed3436c471b8dd21dc15dcf46c3": {
      "model_module": "@jupyter-widgets/base",
      "model_module_version": "2.0.0",
      "model_name": "LayoutModel",
      "state": {}
     },
     "004491d34cd24782841eb8452ebaa928": {
      "model_module": "@jupyter-widgets/controls",
      "model_module_version": "2.0.0",
      "model_name": "ProgressStyleModel",
      "state": {
       "description_width": ""
      }
     },
     "009133723c5c46c1b3dc3982e9ae4d89": {
      "model_module": "@jupyter-widgets/controls",
      "model_module_version": "2.0.0",
      "model_name": "HTMLStyleModel",
      "state": {
       "description_width": "",
       "font_size": null,
       "text_color": null
      }
     },
     "00f163354e3f4df8909eb6941ada63da": {
      "model_module": "@jupyter-widgets/controls",
      "model_module_version": "2.0.0",
      "model_name": "HTMLModel",
      "state": {
       "layout": "IPY_MODEL_1d79a7fee9dd426fadd98f1b0140d2c9",
       "style": "IPY_MODEL_c32e33c2257b4bc9b1b2ab9cdb904368",
       "value": " 58/58 [00:02&lt;00:00, 26.10it/s]"
      }
     },
     "00f3a86379aa410c9b855104bb229623": {
      "model_module": "@jupyter-widgets/controls",
      "model_module_version": "2.0.0",
      "model_name": "HTMLStyleModel",
      "state": {
       "description_width": "",
       "font_size": null,
       "text_color": null
      }
     },
     "010ff38d33f04503981ccd039b2a1baa": {
      "model_module": "@jupyter-widgets/controls",
      "model_module_version": "2.0.0",
      "model_name": "HTMLModel",
      "state": {
       "layout": "IPY_MODEL_9a8ee9bc25fb4a6188359d44efdec093",
       "style": "IPY_MODEL_3669ddf8f18e4ecda139d6dc3c34c460",
       "value": "Validation DataLoader 0: 100%"
      }
     },
     "0113d628598a47c1b06eb20afd99d9c1": {
      "model_module": "@jupyter-widgets/base",
      "model_module_version": "2.0.0",
      "model_name": "LayoutModel",
      "state": {
       "display": "inline-flex",
       "flex_flow": "row wrap",
       "visibility": "hidden",
       "width": "100%"
      }
     },
     "01249d125a8a4b5595d913418b5c5565": {
      "model_module": "@jupyter-widgets/base",
      "model_module_version": "2.0.0",
      "model_name": "LayoutModel",
      "state": {
       "flex": "2"
      }
     },
     "0139e8955aaa4e27850fa6c5a085030f": {
      "model_module": "@jupyter-widgets/base",
      "model_module_version": "2.0.0",
      "model_name": "LayoutModel",
      "state": {}
     },
     "01436d8d0699485eba3928867640bb60": {
      "model_module": "@jupyter-widgets/controls",
      "model_module_version": "2.0.0",
      "model_name": "ProgressStyleModel",
      "state": {
       "description_width": ""
      }
     },
     "01855a350f8d4ddca55c12105fd76b83": {
      "model_module": "@jupyter-widgets/controls",
      "model_module_version": "2.0.0",
      "model_name": "HTMLStyleModel",
      "state": {
       "description_width": "",
       "font_size": null,
       "text_color": null
      }
     },
     "01a31e0602544ccaa772698e5b438e60": {
      "model_module": "@jupyter-widgets/base",
      "model_module_version": "2.0.0",
      "model_name": "LayoutModel",
      "state": {}
     },
     "01ae13e02c244efa963ab810f3d91887": {
      "model_module": "@jupyter-widgets/base",
      "model_module_version": "2.0.0",
      "model_name": "LayoutModel",
      "state": {}
     },
     "01c7537ae09f4976b4c36c683586946a": {
      "model_module": "@jupyter-widgets/controls",
      "model_module_version": "2.0.0",
      "model_name": "HTMLStyleModel",
      "state": {
       "description_width": "",
       "font_size": null,
       "text_color": null
      }
     },
     "01dc2a7f3ec3443285bac8cd0829e09f": {
      "model_module": "@jupyter-widgets/base",
      "model_module_version": "2.0.0",
      "model_name": "LayoutModel",
      "state": {
       "flex": "2"
      }
     },
     "020a3003b77e4662942ac03b2b401204": {
      "model_module": "@jupyter-widgets/base",
      "model_module_version": "2.0.0",
      "model_name": "LayoutModel",
      "state": {
       "flex": "2"
      }
     },
     "022fe3458e3c47f1a433dcbd17e47260": {
      "model_module": "@jupyter-widgets/controls",
      "model_module_version": "2.0.0",
      "model_name": "HTMLStyleModel",
      "state": {
       "description_width": "",
       "font_size": null,
       "text_color": null
      }
     },
     "02414c9aff2447e387e919b0cfeec7cd": {
      "model_module": "@jupyter-widgets/controls",
      "model_module_version": "2.0.0",
      "model_name": "HTMLModel",
      "state": {
       "layout": "IPY_MODEL_879d0d77474e4e46a8e67f7dd7c8dfe7",
       "style": "IPY_MODEL_3ce8a43277634ba7843358f4d075f501",
       "value": "Validation DataLoader 0: 100%"
      }
     },
     "024779a437a246bd8125692a4237d123": {
      "model_module": "@jupyter-widgets/controls",
      "model_module_version": "2.0.0",
      "model_name": "HTMLStyleModel",
      "state": {
       "description_width": "",
       "font_size": null,
       "text_color": null
      }
     },
     "025feba3d2734735b8d850997a9b2a5b": {
      "model_module": "@jupyter-widgets/base",
      "model_module_version": "2.0.0",
      "model_name": "LayoutModel",
      "state": {}
     },
     "0268bc21f9bd427999444d2684d26255": {
      "model_module": "@jupyter-widgets/controls",
      "model_module_version": "2.0.0",
      "model_name": "HTMLModel",
      "state": {
       "layout": "IPY_MODEL_c655d3234d12465582305307d05416e4",
       "style": "IPY_MODEL_f11a4af57e004489ad126ebc63a2fbd8",
       "value": " 58/58 [00:02&lt;00:00, 25.83it/s]"
      }
     },
     "028ea225f1384afd933b71758d1821f1": {
      "model_module": "@jupyter-widgets/controls",
      "model_module_version": "2.0.0",
      "model_name": "FloatProgressModel",
      "state": {
       "layout": "IPY_MODEL_8584ab69922544a2bb1d62253b0956e9",
       "max": 58,
       "style": "IPY_MODEL_cb54cd8273ea46a7b463f3835774dfc5",
       "value": 58
      }
     },
     "02908dc9979c436f853427dac13d8c31": {
      "model_module": "@jupyter-widgets/base",
      "model_module_version": "2.0.0",
      "model_name": "LayoutModel",
      "state": {}
     },
     "02addea95971451991ceb6c0645f7f6c": {
      "model_module": "@jupyter-widgets/base",
      "model_module_version": "2.0.0",
      "model_name": "LayoutModel",
      "state": {
       "display": "inline-flex",
       "flex_flow": "row wrap",
       "visibility": "hidden",
       "width": "100%"
      }
     },
     "02f53edcec2e4c23badd773122b63bf9": {
      "model_module": "@jupyter-widgets/base",
      "model_module_version": "2.0.0",
      "model_name": "LayoutModel",
      "state": {}
     },
     "0337923867764b1aaaefa7a1fb326766": {
      "model_module": "@jupyter-widgets/base",
      "model_module_version": "2.0.0",
      "model_name": "LayoutModel",
      "state": {}
     },
     "03810675b156428391f469f498b34e7b": {
      "model_module": "@jupyter-widgets/controls",
      "model_module_version": "2.0.0",
      "model_name": "HTMLStyleModel",
      "state": {
       "description_width": "",
       "font_size": null,
       "text_color": null
      }
     },
     "038872aaefc84dfabef4b14b1060eaf9": {
      "model_module": "@jupyter-widgets/base",
      "model_module_version": "2.0.0",
      "model_name": "LayoutModel",
      "state": {}
     },
     "038c6c13ee254ae585418f290f84e9b5": {
      "model_module": "@jupyter-widgets/controls",
      "model_module_version": "2.0.0",
      "model_name": "HTMLModel",
      "state": {
       "layout": "IPY_MODEL_a4e9241ebb2a47b5b56ce1d995be9446",
       "style": "IPY_MODEL_f0b3015bbd3d48a68a053360a9a49033",
       "value": "Validation DataLoader 0: 100%"
      }
     },
     "03a5d8511a0e4f9bb50c3898e3142cf6": {
      "model_module": "@jupyter-widgets/base",
      "model_module_version": "2.0.0",
      "model_name": "LayoutModel",
      "state": {
       "display": "inline-flex",
       "flex_flow": "row wrap",
       "visibility": "hidden",
       "width": "100%"
      }
     },
     "03b71067c2b64129940db42fe1894335": {
      "model_module": "@jupyter-widgets/base",
      "model_module_version": "2.0.0",
      "model_name": "LayoutModel",
      "state": {}
     },
     "03bb2916aaa943e6be975bf512e92c48": {
      "model_module": "@jupyter-widgets/base",
      "model_module_version": "2.0.0",
      "model_name": "LayoutModel",
      "state": {
       "flex": "2"
      }
     },
     "03e0b2440b5842e1af39804c9c7d55c9": {
      "model_module": "@jupyter-widgets/controls",
      "model_module_version": "2.0.0",
      "model_name": "ProgressStyleModel",
      "state": {
       "description_width": ""
      }
     },
     "0408c1a288cf439891e3f2dbb0a2ad10": {
      "model_module": "@jupyter-widgets/controls",
      "model_module_version": "2.0.0",
      "model_name": "HTMLModel",
      "state": {
       "layout": "IPY_MODEL_424e745c100b4a9e8e38ea9af029716c",
       "style": "IPY_MODEL_6541d128bac04398a26dd47d99278daa",
       "value": "Validation DataLoader 0: 100%"
      }
     },
     "0414a31f79de40dd9da46efd46e66fdf": {
      "model_module": "@jupyter-widgets/controls",
      "model_module_version": "2.0.0",
      "model_name": "HTMLStyleModel",
      "state": {
       "description_width": "",
       "font_size": null,
       "text_color": null
      }
     },
     "041b62c10d774204b24a107a1f126bb2": {
      "model_module": "@jupyter-widgets/controls",
      "model_module_version": "2.0.0",
      "model_name": "HTMLStyleModel",
      "state": {
       "description_width": "",
       "font_size": null,
       "text_color": null
      }
     },
     "0420ea2668b04bde8ad21e96f761a8f3": {
      "model_module": "@jupyter-widgets/controls",
      "model_module_version": "2.0.0",
      "model_name": "HTMLStyleModel",
      "state": {
       "description_width": "",
       "font_size": null,
       "text_color": null
      }
     },
     "043eec40f4f1420caa64ac1b95ad450f": {
      "model_module": "@jupyter-widgets/controls",
      "model_module_version": "2.0.0",
      "model_name": "HTMLStyleModel",
      "state": {
       "description_width": "",
       "font_size": null,
       "text_color": null
      }
     },
     "046a98ba280841d2a1e63edc54cefa9e": {
      "model_module": "@jupyter-widgets/controls",
      "model_module_version": "2.0.0",
      "model_name": "ProgressStyleModel",
      "state": {
       "description_width": ""
      }
     },
     "048d674dd9fc481b99bd523e202a6d95": {
      "model_module": "@jupyter-widgets/controls",
      "model_module_version": "2.0.0",
      "model_name": "FloatProgressModel",
      "state": {
       "layout": "IPY_MODEL_af78bcdc829b450c9ce5568f7ef760b2",
       "max": 58,
       "style": "IPY_MODEL_6417684f269f46fea7d035b1538a91bf",
       "value": 58
      }
     },
     "04ad80d37b4540828ded990a483c3823": {
      "model_module": "@jupyter-widgets/controls",
      "model_module_version": "2.0.0",
      "model_name": "HTMLStyleModel",
      "state": {
       "description_width": "",
       "font_size": null,
       "text_color": null
      }
     },
     "04caa619a3664ad291fe99112290caf3": {
      "model_module": "@jupyter-widgets/controls",
      "model_module_version": "2.0.0",
      "model_name": "FloatProgressModel",
      "state": {
       "layout": "IPY_MODEL_2b1dab5374f44698badf1aed8e78b98b",
       "max": 58,
       "style": "IPY_MODEL_ebaaeb48c8ff48a1b4a48d8c1e8349cd",
       "value": 58
      }
     },
     "04e53681418440b798890e8c153fbfe8": {
      "model_module": "@jupyter-widgets/base",
      "model_module_version": "2.0.0",
      "model_name": "LayoutModel",
      "state": {}
     },
     "0548592832484b7c98e0c62d0f63b178": {
      "model_module": "@jupyter-widgets/controls",
      "model_module_version": "2.0.0",
      "model_name": "HTMLStyleModel",
      "state": {
       "description_width": "",
       "font_size": null,
       "text_color": null
      }
     },
     "0576500c62c8474aa7e981336f9e447c": {
      "model_module": "@jupyter-widgets/controls",
      "model_module_version": "2.0.0",
      "model_name": "HTMLStyleModel",
      "state": {
       "description_width": "",
       "font_size": null,
       "text_color": null
      }
     },
     "057dc6d000e348da89e4d85df5e23439": {
      "model_module": "@jupyter-widgets/controls",
      "model_module_version": "2.0.0",
      "model_name": "HTMLModel",
      "state": {
       "layout": "IPY_MODEL_237b559c83374906a36be0422cfccd7f",
       "style": "IPY_MODEL_aa04f19225e54773ad1fec7870a0a8df",
       "value": "Epoch 200: 100%"
      }
     },
     "05891a2c31d34849ba20c5731ac630c3": {
      "model_module": "@jupyter-widgets/controls",
      "model_module_version": "2.0.0",
      "model_name": "HTMLStyleModel",
      "state": {
       "description_width": "",
       "font_size": null,
       "text_color": null
      }
     },
     "05b6729ebdf74ad4890cff111940bac5": {
      "model_module": "@jupyter-widgets/controls",
      "model_module_version": "2.0.0",
      "model_name": "HTMLStyleModel",
      "state": {
       "description_width": "",
       "font_size": null,
       "text_color": null
      }
     },
     "05c4d59ddfbf45cc9990caedb8ea35fa": {
      "model_module": "@jupyter-widgets/controls",
      "model_module_version": "2.0.0",
      "model_name": "HTMLModel",
      "state": {
       "layout": "IPY_MODEL_155e1ca808f640efa649807316e0dfc0",
       "style": "IPY_MODEL_75b58774dbe84c26b3d5cad7a4bf27b7",
       "value": " 58/58 [00:02&lt;00:00, 28.46it/s]"
      }
     },
     "05cc7db3af2e4ab990b5db650549b7c9": {
      "model_module": "@jupyter-widgets/controls",
      "model_module_version": "2.0.0",
      "model_name": "HTMLStyleModel",
      "state": {
       "description_width": "",
       "font_size": null,
       "text_color": null
      }
     },
     "05dadc8fdb344c44951804e484663ca4": {
      "model_module": "@jupyter-widgets/controls",
      "model_module_version": "2.0.0",
      "model_name": "FloatProgressModel",
      "state": {
       "layout": "IPY_MODEL_bd862314e6be4a37a10d24c51dc7e45e",
       "max": 58,
       "style": "IPY_MODEL_9ce44d50fd834eff8ecf375f3d5534e3",
       "value": 58
      }
     },
     "05f1dadf8ff44044abcef91ef8250073": {
      "model_module": "@jupyter-widgets/controls",
      "model_module_version": "2.0.0",
      "model_name": "HTMLModel",
      "state": {
       "layout": "IPY_MODEL_2a1ddec4e0594a4a84e633bb11447337",
       "style": "IPY_MODEL_ed84567c1a874c98b7ed54aa8b0fbbd7",
       "value": " 58/58 [00:02&lt;00:00, 25.10it/s]"
      }
     },
     "0617ce8471f241c2b4b75c316ef6a225": {
      "model_module": "@jupyter-widgets/controls",
      "model_module_version": "2.0.0",
      "model_name": "ProgressStyleModel",
      "state": {
       "description_width": ""
      }
     },
     "062230db93f241fdad5e466df2233cee": {
      "model_module": "@jupyter-widgets/controls",
      "model_module_version": "2.0.0",
      "model_name": "HTMLStyleModel",
      "state": {
       "description_width": "",
       "font_size": null,
       "text_color": null
      }
     },
     "064a8e4fcc6d41498d803535635967ea": {
      "model_module": "@jupyter-widgets/base",
      "model_module_version": "2.0.0",
      "model_name": "LayoutModel",
      "state": {
       "flex": "2"
      }
     },
     "0652510a23704f2da7923b92cf4c8050": {
      "model_module": "@jupyter-widgets/controls",
      "model_module_version": "2.0.0",
      "model_name": "HTMLStyleModel",
      "state": {
       "description_width": "",
       "font_size": null,
       "text_color": null
      }
     },
     "065d9dbfa321459e9a310e848279f153": {
      "model_module": "@jupyter-widgets/controls",
      "model_module_version": "2.0.0",
      "model_name": "FloatProgressModel",
      "state": {
       "layout": "IPY_MODEL_6bd40cd30e0643cb9c46f67f8447e1c3",
       "max": 58,
       "style": "IPY_MODEL_34cf959db7da48dc9aa34976bf4728b9",
       "value": 58
      }
     },
     "065ebf3ac78f4e3baaa431d3e72dd426": {
      "model_module": "@jupyter-widgets/base",
      "model_module_version": "2.0.0",
      "model_name": "LayoutModel",
      "state": {}
     },
     "06a07547ec1a4d499da44a261d5373dd": {
      "model_module": "@jupyter-widgets/base",
      "model_module_version": "2.0.0",
      "model_name": "LayoutModel",
      "state": {
       "display": "inline-flex",
       "flex_flow": "row wrap",
       "visibility": "hidden",
       "width": "100%"
      }
     },
     "06a50cf578044dc3aa98031f2087f34d": {
      "model_module": "@jupyter-widgets/base",
      "model_module_version": "2.0.0",
      "model_name": "LayoutModel",
      "state": {}
     },
     "06a9747212e14dd789db310b00ce26da": {
      "model_module": "@jupyter-widgets/base",
      "model_module_version": "2.0.0",
      "model_name": "LayoutModel",
      "state": {
       "flex": "2"
      }
     },
     "06b54c56a15646e58e4bcd2844d3e4b1": {
      "model_module": "@jupyter-widgets/base",
      "model_module_version": "2.0.0",
      "model_name": "LayoutModel",
      "state": {}
     },
     "06b56c8018c341218be2b132dcfa627b": {
      "model_module": "@jupyter-widgets/base",
      "model_module_version": "2.0.0",
      "model_name": "LayoutModel",
      "state": {}
     },
     "06c8ea12c5694af5bba57a91a0dccece": {
      "model_module": "@jupyter-widgets/base",
      "model_module_version": "2.0.0",
      "model_name": "LayoutModel",
      "state": {
       "flex": "2"
      }
     },
     "0701008991584f29903515579a7d3f5a": {
      "model_module": "@jupyter-widgets/base",
      "model_module_version": "2.0.0",
      "model_name": "LayoutModel",
      "state": {
       "display": "inline-flex",
       "flex_flow": "row wrap",
       "visibility": "hidden",
       "width": "100%"
      }
     },
     "072aab47716d43f6935174431f2ed9dc": {
      "model_module": "@jupyter-widgets/controls",
      "model_module_version": "2.0.0",
      "model_name": "ProgressStyleModel",
      "state": {
       "description_width": ""
      }
     },
     "072fce9226d849df80efbf1e68966dcc": {
      "model_module": "@jupyter-widgets/controls",
      "model_module_version": "2.0.0",
      "model_name": "HTMLStyleModel",
      "state": {
       "description_width": "",
       "font_size": null,
       "text_color": null
      }
     },
     "0737564d9caf4e6ba1a52d6645f350b1": {
      "model_module": "@jupyter-widgets/base",
      "model_module_version": "2.0.0",
      "model_name": "LayoutModel",
      "state": {
       "display": "inline-flex",
       "flex_flow": "row wrap",
       "visibility": "hidden",
       "width": "100%"
      }
     },
     "0737d29206a9434899c80e3701ef277a": {
      "model_module": "@jupyter-widgets/base",
      "model_module_version": "2.0.0",
      "model_name": "LayoutModel",
      "state": {}
     },
     "0747f743de704fa8b6c8cbbb465d7f47": {
      "model_module": "@jupyter-widgets/base",
      "model_module_version": "2.0.0",
      "model_name": "LayoutModel",
      "state": {
       "flex": "2"
      }
     },
     "0764901d50574bd88c283cf9351c3895": {
      "model_module": "@jupyter-widgets/controls",
      "model_module_version": "2.0.0",
      "model_name": "HTMLModel",
      "state": {
       "layout": "IPY_MODEL_fc24d736640a42e9a37c4646315bbc7f",
       "style": "IPY_MODEL_e811fe8310c44f978741768fa4ece0f6",
       "value": " 58/58 [00:02&lt;00:00, 27.09it/s]"
      }
     },
     "076782ed7a8143239864e8c6ae129ccb": {
      "model_module": "@jupyter-widgets/base",
      "model_module_version": "2.0.0",
      "model_name": "LayoutModel",
      "state": {
       "display": "inline-flex",
       "flex_flow": "row wrap",
       "visibility": "hidden",
       "width": "100%"
      }
     },
     "07b48add5e69470aa60ed48a651edc79": {
      "model_module": "@jupyter-widgets/base",
      "model_module_version": "2.0.0",
      "model_name": "LayoutModel",
      "state": {}
     },
     "07d0f1eab3c347df9dcfeb009522bccd": {
      "model_module": "@jupyter-widgets/base",
      "model_module_version": "2.0.0",
      "model_name": "LayoutModel",
      "state": {
       "display": "inline-flex",
       "flex_flow": "row wrap",
       "visibility": "hidden",
       "width": "100%"
      }
     },
     "07f89ab8274840b58b345af5379472a9": {
      "model_module": "@jupyter-widgets/controls",
      "model_module_version": "2.0.0",
      "model_name": "HTMLStyleModel",
      "state": {
       "description_width": "",
       "font_size": null,
       "text_color": null
      }
     },
     "0813fd3ccd32450994ccc44c5ebe453a": {
      "model_module": "@jupyter-widgets/controls",
      "model_module_version": "2.0.0",
      "model_name": "ProgressStyleModel",
      "state": {
       "description_width": ""
      }
     },
     "081cb589cdeb474c8cf33e52ddae24f8": {
      "model_module": "@jupyter-widgets/base",
      "model_module_version": "2.0.0",
      "model_name": "LayoutModel",
      "state": {}
     },
     "089e1794989142638dc14b16638e31ef": {
      "model_module": "@jupyter-widgets/controls",
      "model_module_version": "2.0.0",
      "model_name": "ProgressStyleModel",
      "state": {
       "description_width": ""
      }
     },
     "08a40b5260464ab297121c04e2799d79": {
      "model_module": "@jupyter-widgets/controls",
      "model_module_version": "2.0.0",
      "model_name": "HTMLModel",
      "state": {
       "layout": "IPY_MODEL_e7ef1e1f325f4373afebf61c1fb22302",
       "style": "IPY_MODEL_4af912d3549c4ad2ba52f597252fa1ec",
       "value": "Validation DataLoader 0: 100%"
      }
     },
     "08d14281e12c475cabeb118745ede211": {
      "model_module": "@jupyter-widgets/controls",
      "model_module_version": "2.0.0",
      "model_name": "ProgressStyleModel",
      "state": {
       "description_width": ""
      }
     },
     "08ed4b483c8f40ce8fee5af5b9886875": {
      "model_module": "@jupyter-widgets/controls",
      "model_module_version": "2.0.0",
      "model_name": "ProgressStyleModel",
      "state": {
       "description_width": ""
      }
     },
     "08f047c334034098b92351c44db1190e": {
      "model_module": "@jupyter-widgets/controls",
      "model_module_version": "2.0.0",
      "model_name": "HTMLModel",
      "state": {
       "layout": "IPY_MODEL_149afdb9ace24d8b83a4639e18c565d7",
       "style": "IPY_MODEL_a5b1401e3e414fabba0252e320d25df8",
       "value": " 58/58 [00:02&lt;00:00, 25.48it/s]"
      }
     },
     "0909e999fa794ff285cb547c4f3da5f3": {
      "model_module": "@jupyter-widgets/controls",
      "model_module_version": "2.0.0",
      "model_name": "FloatProgressModel",
      "state": {
       "layout": "IPY_MODEL_f103f7c6a670441799134a8a02f69c2c",
       "max": 58,
       "style": "IPY_MODEL_f6b712eeac324015abbb0a450cb8effa",
       "value": 58
      }
     },
     "0912f2d8635f478c88b278dc382426e2": {
      "model_module": "@jupyter-widgets/base",
      "model_module_version": "2.0.0",
      "model_name": "LayoutModel",
      "state": {}
     },
     "0922b2cd59e741daae67a4f8a1e9febf": {
      "model_module": "@jupyter-widgets/controls",
      "model_module_version": "2.0.0",
      "model_name": "FloatProgressModel",
      "state": {
       "layout": "IPY_MODEL_d899171a3df943fb8377c8db0071fa33",
       "max": 58,
       "style": "IPY_MODEL_4595f4b728794e4f909aceaf071dedc6",
       "value": 58
      }
     },
     "094868cbf30f464788e1274037f0df1b": {
      "model_module": "@jupyter-widgets/controls",
      "model_module_version": "2.0.0",
      "model_name": "HTMLModel",
      "state": {
       "layout": "IPY_MODEL_e38f6329edd44ceb858382d0c48949b0",
       "style": "IPY_MODEL_1cde0222f6fe4e70b2bfec63f9e1f015",
       "value": "Validation DataLoader 0: 100%"
      }
     },
     "09794676697744109a0f6b708f4c79a7": {
      "model_module": "@jupyter-widgets/controls",
      "model_module_version": "2.0.0",
      "model_name": "FloatProgressModel",
      "state": {
       "layout": "IPY_MODEL_59e0d39b45df4f13a8b3605a21c255b1",
       "max": 58,
       "style": "IPY_MODEL_64bf2136ba064fc4aeb7ec42d7dbe98f",
       "value": 58
      }
     },
     "09811c531a444fc88d309111dd7a5b3e": {
      "model_module": "@jupyter-widgets/controls",
      "model_module_version": "2.0.0",
      "model_name": "HTMLModel",
      "state": {
       "layout": "IPY_MODEL_b1ed177db51f47d8a94d546d0fc57c16",
       "style": "IPY_MODEL_ba3dd1c4efb64ddda0e32cb4e8d85150",
       "value": "Validation DataLoader 0: 100%"
      }
     },
     "099df8d7db344c54a99ee32e4767a37a": {
      "model_module": "@jupyter-widgets/base",
      "model_module_version": "2.0.0",
      "model_name": "LayoutModel",
      "state": {
       "display": "inline-flex",
       "flex_flow": "row wrap",
       "visibility": "hidden",
       "width": "100%"
      }
     },
     "09a3208285f749a59e38550b664b17f7": {
      "model_module": "@jupyter-widgets/base",
      "model_module_version": "2.0.0",
      "model_name": "LayoutModel",
      "state": {}
     },
     "09c20249909f48a0ae94256a00fae254": {
      "model_module": "@jupyter-widgets/base",
      "model_module_version": "2.0.0",
      "model_name": "LayoutModel",
      "state": {
       "display": "inline-flex",
       "flex_flow": "row wrap",
       "visibility": "hidden",
       "width": "100%"
      }
     },
     "0a079f9c326a49f5ab2ea4ba14c358ba": {
      "model_module": "@jupyter-widgets/controls",
      "model_module_version": "2.0.0",
      "model_name": "FloatProgressModel",
      "state": {
       "layout": "IPY_MODEL_81a855bde1cd43cba594113694a29e8c",
       "max": 58,
       "style": "IPY_MODEL_18377dbbac934a29bdcf943a53762d81",
       "value": 58
      }
     },
     "0a110038cb3e48f5b19ca8785408f279": {
      "model_module": "@jupyter-widgets/base",
      "model_module_version": "2.0.0",
      "model_name": "LayoutModel",
      "state": {
       "display": "inline-flex",
       "flex_flow": "row wrap",
       "visibility": "hidden",
       "width": "100%"
      }
     },
     "0a216a03fd2b402f9d0d8c68f99efe3c": {
      "model_module": "@jupyter-widgets/controls",
      "model_module_version": "2.0.0",
      "model_name": "ProgressStyleModel",
      "state": {
       "description_width": ""
      }
     },
     "0a79fddb9b374654a98884d34227bc57": {
      "model_module": "@jupyter-widgets/base",
      "model_module_version": "2.0.0",
      "model_name": "LayoutModel",
      "state": {}
     },
     "0aaf891c60a044198539edf6b40b4760": {
      "model_module": "@jupyter-widgets/base",
      "model_module_version": "2.0.0",
      "model_name": "LayoutModel",
      "state": {
       "flex": "2"
      }
     },
     "0ab0fd915d07416da026a5f6070bbd17": {
      "model_module": "@jupyter-widgets/controls",
      "model_module_version": "2.0.0",
      "model_name": "HTMLModel",
      "state": {
       "layout": "IPY_MODEL_e45c11fd06044d488f66364acf86d3c4",
       "style": "IPY_MODEL_72f94d152ecb4d79a3bad904ff638114",
       "value": "Validation DataLoader 0: 100%"
      }
     },
     "0ab1b920729741cf9fef9edc1d2e1ca2": {
      "model_module": "@jupyter-widgets/controls",
      "model_module_version": "2.0.0",
      "model_name": "HTMLModel",
      "state": {
       "layout": "IPY_MODEL_f20afc294c1742a09a765e65acfa6be1",
       "style": "IPY_MODEL_276e5f219316494aac14b7256d2f3ebf",
       "value": "Validation DataLoader 0: 100%"
      }
     },
     "0ad8ce647f744394b212aaa2b508682f": {
      "model_module": "@jupyter-widgets/controls",
      "model_module_version": "2.0.0",
      "model_name": "ProgressStyleModel",
      "state": {
       "description_width": ""
      }
     },
     "0add6a3f9b6c4d51833d64bf9756883f": {
      "model_module": "@jupyter-widgets/controls",
      "model_module_version": "2.0.0",
      "model_name": "HTMLModel",
      "state": {
       "layout": "IPY_MODEL_6e84bd620dc9465fbaeb380367ef305b",
       "style": "IPY_MODEL_f9d63e5886b94e24b737773427ec2432",
       "value": "Validation DataLoader 0: 100%"
      }
     },
     "0b1581433dbd422cb5e878c690b7060a": {
      "model_module": "@jupyter-widgets/base",
      "model_module_version": "2.0.0",
      "model_name": "LayoutModel",
      "state": {
       "display": "inline-flex",
       "flex_flow": "row wrap",
       "visibility": "hidden",
       "width": "100%"
      }
     },
     "0b41a450c266482188dbf6e2a4614322": {
      "model_module": "@jupyter-widgets/base",
      "model_module_version": "2.0.0",
      "model_name": "LayoutModel",
      "state": {}
     },
     "0b42c66fc7e54b36b88b830c9ff76c11": {
      "model_module": "@jupyter-widgets/base",
      "model_module_version": "2.0.0",
      "model_name": "LayoutModel",
      "state": {}
     },
     "0b44d65b8eef407a82031e8ec994a05f": {
      "model_module": "@jupyter-widgets/controls",
      "model_module_version": "2.0.0",
      "model_name": "HTMLModel",
      "state": {
       "layout": "IPY_MODEL_9553df9ef6344dee94e804b513e34741",
       "style": "IPY_MODEL_2259e09181f24a8a9ebe7e923588949a",
       "value": " 58/58 [00:02&lt;00:00, 25.87it/s]"
      }
     },
     "0b7bf567d9e04d68990bed185512581a": {
      "model_module": "@jupyter-widgets/controls",
      "model_module_version": "2.0.0",
      "model_name": "ProgressStyleModel",
      "state": {
       "description_width": ""
      }
     },
     "0b87452d543141b09ed02db45f5a156c": {
      "model_module": "@jupyter-widgets/controls",
      "model_module_version": "2.0.0",
      "model_name": "HTMLStyleModel",
      "state": {
       "description_width": "",
       "font_size": null,
       "text_color": null
      }
     },
     "0b8d6164280b4dcb9db14c7f9bd4ea24": {
      "model_module": "@jupyter-widgets/controls",
      "model_module_version": "2.0.0",
      "model_name": "HTMLStyleModel",
      "state": {
       "description_width": "",
       "font_size": null,
       "text_color": null
      }
     },
     "0c038a3d7c5c48f982782251b7209598": {
      "model_module": "@jupyter-widgets/base",
      "model_module_version": "2.0.0",
      "model_name": "LayoutModel",
      "state": {}
     },
     "0c46e1b14a8841788c74b4d2f63d3573": {
      "model_module": "@jupyter-widgets/base",
      "model_module_version": "2.0.0",
      "model_name": "LayoutModel",
      "state": {}
     },
     "0c695056859e4534a2f499530ccf04b0": {
      "model_module": "@jupyter-widgets/base",
      "model_module_version": "2.0.0",
      "model_name": "LayoutModel",
      "state": {
       "flex": "2"
      }
     },
     "0cfb45c3dd8548f7b8f7a6290c17752b": {
      "model_module": "@jupyter-widgets/controls",
      "model_module_version": "2.0.0",
      "model_name": "HTMLModel",
      "state": {
       "layout": "IPY_MODEL_a204643170ee41ab9ffb09fe824c1d6c",
       "style": "IPY_MODEL_d66ac7a0bdfa4bdd9a5e2e7a51b8a6ae",
       "value": " 58/58 [00:02&lt;00:00, 27.21it/s]"
      }
     },
     "0d3cafc4e7724ea284de99362b93a743": {
      "model_module": "@jupyter-widgets/controls",
      "model_module_version": "2.0.0",
      "model_name": "HTMLModel",
      "state": {
       "layout": "IPY_MODEL_b9402781aa2c4fbba7ff904e43ee3ead",
       "style": "IPY_MODEL_7f55845f47654379a6a046626fe62b1a",
       "value": " 58/58 [00:02&lt;00:00, 25.88it/s]"
      }
     },
     "0d614cd99ebb4a3fa9fa9fe6afdc7620": {
      "model_module": "@jupyter-widgets/base",
      "model_module_version": "2.0.0",
      "model_name": "LayoutModel",
      "state": {}
     },
     "0d7d5e7da8c544f8a9b20e5e7f5944b2": {
      "model_module": "@jupyter-widgets/controls",
      "model_module_version": "2.0.0",
      "model_name": "HTMLStyleModel",
      "state": {
       "description_width": "",
       "font_size": null,
       "text_color": null
      }
     },
     "0d9be122e8a7431c930ec8905ea2256c": {
      "model_module": "@jupyter-widgets/controls",
      "model_module_version": "2.0.0",
      "model_name": "ProgressStyleModel",
      "state": {
       "description_width": ""
      }
     },
     "0dacc15645cf42ce91d5f90b9ed24531": {
      "model_module": "@jupyter-widgets/base",
      "model_module_version": "2.0.0",
      "model_name": "LayoutModel",
      "state": {}
     },
     "0db7fd92c26340cc812212c7c7c2d398": {
      "model_module": "@jupyter-widgets/base",
      "model_module_version": "2.0.0",
      "model_name": "LayoutModel",
      "state": {}
     },
     "0db9be2e88234a5e9005447fcbea0aa2": {
      "model_module": "@jupyter-widgets/controls",
      "model_module_version": "2.0.0",
      "model_name": "HTMLStyleModel",
      "state": {
       "description_width": "",
       "font_size": null,
       "text_color": null
      }
     },
     "0de13c018d7c403a9e016a67fd7fb793": {
      "model_module": "@jupyter-widgets/controls",
      "model_module_version": "2.0.0",
      "model_name": "HTMLModel",
      "state": {
       "layout": "IPY_MODEL_908c45db771f4b9abbcb2d40b967e810",
       "style": "IPY_MODEL_024779a437a246bd8125692a4237d123",
       "value": " 58/58 [00:02&lt;00:00, 25.57it/s]"
      }
     },
     "0e137a5356474938b8a08077f86afdab": {
      "model_module": "@jupyter-widgets/base",
      "model_module_version": "2.0.0",
      "model_name": "LayoutModel",
      "state": {
       "flex": "2"
      }
     },
     "0e1e6f9ea15042bab10b0f0f82b22bf8": {
      "model_module": "@jupyter-widgets/base",
      "model_module_version": "2.0.0",
      "model_name": "LayoutModel",
      "state": {
       "flex": "2"
      }
     },
     "0e1eac1214dd4f8eb5a7efa72c3eb1dd": {
      "model_module": "@jupyter-widgets/controls",
      "model_module_version": "2.0.0",
      "model_name": "FloatProgressModel",
      "state": {
       "layout": "IPY_MODEL_4e6b0b0c136b46ecba1ea2686ca42d3b",
       "max": 58,
       "style": "IPY_MODEL_b7cdd50bdb1849758d504e44519e8563",
       "value": 58
      }
     },
     "0e4b220ddaa74b3d84f0da3b3ef77868": {
      "model_module": "@jupyter-widgets/base",
      "model_module_version": "2.0.0",
      "model_name": "LayoutModel",
      "state": {}
     },
     "0e568cd914984278a26a62d40938de5e": {
      "model_module": "@jupyter-widgets/controls",
      "model_module_version": "2.0.0",
      "model_name": "FloatProgressModel",
      "state": {
       "layout": "IPY_MODEL_1012c18d8aa44d598b68e4d3e0edf95b",
       "max": 58,
       "style": "IPY_MODEL_40913fb8bb7b4027aeb14fd9cd4aeacc",
       "value": 58
      }
     },
     "0e68699636b643c88e66955f4726251d": {
      "model_module": "@jupyter-widgets/controls",
      "model_module_version": "2.0.0",
      "model_name": "HTMLStyleModel",
      "state": {
       "description_width": "",
       "font_size": null,
       "text_color": null
      }
     },
     "0e6d1bb6bdd8406cbd349a9eb9686e30": {
      "model_module": "@jupyter-widgets/controls",
      "model_module_version": "2.0.0",
      "model_name": "HTMLStyleModel",
      "state": {
       "description_width": "",
       "font_size": null,
       "text_color": null
      }
     },
     "0eb3e9e3a4c744ccbf49e037e566a73d": {
      "model_module": "@jupyter-widgets/controls",
      "model_module_version": "2.0.0",
      "model_name": "HTMLModel",
      "state": {
       "layout": "IPY_MODEL_633227143d2c4379bfab48a890ef76f2",
       "style": "IPY_MODEL_b27501c2c794411b8b06599531f0826a",
       "value": " 58/58 [00:02&lt;00:00, 25.80it/s]"
      }
     },
     "0eb8c1eaa7a84ecdada8ae4ba38eb871": {
      "model_module": "@jupyter-widgets/controls",
      "model_module_version": "2.0.0",
      "model_name": "FloatProgressModel",
      "state": {
       "layout": "IPY_MODEL_fcd8ea67acde47578a1b802acd788fd5",
       "max": 58,
       "style": "IPY_MODEL_2b3e361e5b6f43adae37d3a9773f1de4",
       "value": 58
      }
     },
     "0ee0bf2140344d24ab35d01085d9d48b": {
      "model_module": "@jupyter-widgets/base",
      "model_module_version": "2.0.0",
      "model_name": "LayoutModel",
      "state": {
       "display": "inline-flex",
       "flex_flow": "row wrap",
       "visibility": "hidden",
       "width": "100%"
      }
     },
     "0ef111ffcb864e44b300b5d06a75ec56": {
      "model_module": "@jupyter-widgets/controls",
      "model_module_version": "2.0.0",
      "model_name": "FloatProgressModel",
      "state": {
       "layout": "IPY_MODEL_cef3e3eba9ea4560babc15c5ca0ab06d",
       "max": 58,
       "style": "IPY_MODEL_ba280392a00a4e05ab6f0dd8f3edcbfb",
       "value": 58
      }
     },
     "0eff35cba7a84b21b6a5b79dc6147c2c": {
      "model_module": "@jupyter-widgets/base",
      "model_module_version": "2.0.0",
      "model_name": "LayoutModel",
      "state": {}
     },
     "0f0b492309214bc3ba1ec9ac88478f1e": {
      "model_module": "@jupyter-widgets/base",
      "model_module_version": "2.0.0",
      "model_name": "LayoutModel",
      "state": {
       "flex": "2"
      }
     },
     "0f127507b5104418b45dc3e1872ae437": {
      "model_module": "@jupyter-widgets/controls",
      "model_module_version": "2.0.0",
      "model_name": "FloatProgressModel",
      "state": {
       "layout": "IPY_MODEL_223def11c5b7412fa710639165391d2a",
       "max": 58,
       "style": "IPY_MODEL_08d14281e12c475cabeb118745ede211",
       "value": 58
      }
     },
     "0f5af70ba2dc446f92b0e1cf88a56262": {
      "model_module": "@jupyter-widgets/controls",
      "model_module_version": "2.0.0",
      "model_name": "FloatProgressModel",
      "state": {
       "layout": "IPY_MODEL_c21729c2ebe245d49af1832a802f1c6f",
       "max": 58,
       "style": "IPY_MODEL_59ed1ec8f743451783f230d8c1c9e891",
       "value": 58
      }
     },
     "0fb7c0ab6bad4d57862db01c60a80618": {
      "model_module": "@jupyter-widgets/base",
      "model_module_version": "2.0.0",
      "model_name": "LayoutModel",
      "state": {}
     },
     "0feddae1ea524e7387326ebb916bd5a5": {
      "model_module": "@jupyter-widgets/controls",
      "model_module_version": "2.0.0",
      "model_name": "FloatProgressModel",
      "state": {
       "layout": "IPY_MODEL_cc3a8e570c7b4a60b4aad68489b57bc1",
       "max": 58,
       "style": "IPY_MODEL_9152efa2062d44168f23b213d1bf4f5b",
       "value": 58
      }
     },
     "0ff70407f97c46f1ac47eae3a32ebe52": {
      "model_module": "@jupyter-widgets/base",
      "model_module_version": "2.0.0",
      "model_name": "LayoutModel",
      "state": {
       "flex": "2"
      }
     },
     "1012c18d8aa44d598b68e4d3e0edf95b": {
      "model_module": "@jupyter-widgets/base",
      "model_module_version": "2.0.0",
      "model_name": "LayoutModel",
      "state": {
       "flex": "2"
      }
     },
     "1022f9e735cc4bfb879594e426bcbc20": {
      "model_module": "@jupyter-widgets/controls",
      "model_module_version": "2.0.0",
      "model_name": "HTMLModel",
      "state": {
       "layout": "IPY_MODEL_547c2a49e10d410c94d221027eb1bb3a",
       "style": "IPY_MODEL_4fcbe0ae77844b0aac11713fe79bb3e2",
       "value": "Validation DataLoader 0: 100%"
      }
     },
     "105e3e7f7a3744fdbefd03e9fe47e95f": {
      "model_module": "@jupyter-widgets/controls",
      "model_module_version": "2.0.0",
      "model_name": "HTMLModel",
      "state": {
       "layout": "IPY_MODEL_4d8fbb1ab24f49b7b62cb52e00f16d2f",
       "style": "IPY_MODEL_875ed89c815f4dfb91a23082595e9980",
       "value": "Validation DataLoader 0: 100%"
      }
     },
     "10797dbb73634dc5b30d5cc3c06cd0c7": {
      "model_module": "@jupyter-widgets/controls",
      "model_module_version": "2.0.0",
      "model_name": "HTMLStyleModel",
      "state": {
       "description_width": "",
       "font_size": null,
       "text_color": null
      }
     },
     "10b46f6525f1474888d3282f1f0d8e45": {
      "model_module": "@jupyter-widgets/controls",
      "model_module_version": "2.0.0",
      "model_name": "HTMLStyleModel",
      "state": {
       "description_width": "",
       "font_size": null,
       "text_color": null
      }
     },
     "10c375615d1543dca1482e3c99515067": {
      "model_module": "@jupyter-widgets/base",
      "model_module_version": "2.0.0",
      "model_name": "LayoutModel",
      "state": {
       "flex": "2"
      }
     },
     "10ec0be263ce486ab7b2ba5c4fe9a144": {
      "model_module": "@jupyter-widgets/controls",
      "model_module_version": "2.0.0",
      "model_name": "HTMLModel",
      "state": {
       "layout": "IPY_MODEL_5ae05a3497d84d0188cf6f99b6473a2e",
       "style": "IPY_MODEL_f026036e0bb94aad9dbb9ba1e66db520",
       "value": " 58/58 [00:02&lt;00:00, 26.80it/s]"
      }
     },
     "111401e4d1e54684bfc5dfb4a28cac1a": {
      "model_module": "@jupyter-widgets/controls",
      "model_module_version": "2.0.0",
      "model_name": "FloatProgressModel",
      "state": {
       "layout": "IPY_MODEL_76759ad7492b42259d34b75dd7716806",
       "max": 58,
       "style": "IPY_MODEL_dcabb11894f24837a22c83ea87421f44",
       "value": 58
      }
     },
     "112b4728fe2344eb842f6e5a9417bfe3": {
      "model_module": "@jupyter-widgets/base",
      "model_module_version": "2.0.0",
      "model_name": "LayoutModel",
      "state": {}
     },
     "113e83adcf634f13b5eb238225fe1638": {
      "model_module": "@jupyter-widgets/controls",
      "model_module_version": "2.0.0",
      "model_name": "HTMLModel",
      "state": {
       "layout": "IPY_MODEL_1ef357a5f17742249065375b01b14eb1",
       "style": "IPY_MODEL_ef7ceefc0ac4402fa462eaeeaca88d6f",
       "value": "Validation DataLoader 0: 100%"
      }
     },
     "1194effcd0f74b1f90c20d83b4473bfb": {
      "model_module": "@jupyter-widgets/controls",
      "model_module_version": "2.0.0",
      "model_name": "HTMLStyleModel",
      "state": {
       "description_width": "",
       "font_size": null,
       "text_color": null
      }
     },
     "11c6e4d76a184d41b3f415e75890810c": {
      "model_module": "@jupyter-widgets/base",
      "model_module_version": "2.0.0",
      "model_name": "LayoutModel",
      "state": {}
     },
     "11c7659104034095b76105161caed1c0": {
      "model_module": "@jupyter-widgets/controls",
      "model_module_version": "2.0.0",
      "model_name": "HTMLModel",
      "state": {
       "layout": "IPY_MODEL_ffe08916d8024b80bc69b4b136ea42cb",
       "style": "IPY_MODEL_05891a2c31d34849ba20c5731ac630c3",
       "value": "Validation DataLoader 0: 100%"
      }
     },
     "11eae96cedf142be9a4d3b3a8f1a77e3": {
      "model_module": "@jupyter-widgets/controls",
      "model_module_version": "2.0.0",
      "model_name": "HTMLModel",
      "state": {
       "layout": "IPY_MODEL_d4c0399eb87f40799d68e0f999271f82",
       "style": "IPY_MODEL_5346985006e4444f86d60d9faef5f6db",
       "value": " 58/58 [00:02&lt;00:00, 27.22it/s]"
      }
     },
     "12239d10d6454e69aa6d2d2b903035e1": {
      "model_module": "@jupyter-widgets/controls",
      "model_module_version": "2.0.0",
      "model_name": "HTMLStyleModel",
      "state": {
       "description_width": "",
       "font_size": null,
       "text_color": null
      }
     },
     "124a8ea3a6f0493fb0a88885b2471674": {
      "model_module": "@jupyter-widgets/base",
      "model_module_version": "2.0.0",
      "model_name": "LayoutModel",
      "state": {}
     },
     "1277a49d27414efbb9778a1ac5559344": {
      "model_module": "@jupyter-widgets/controls",
      "model_module_version": "2.0.0",
      "model_name": "FloatProgressModel",
      "state": {
       "layout": "IPY_MODEL_e8fa8c4cae9f42d4b65e6df785ac2c6f",
       "max": 58,
       "style": "IPY_MODEL_d092cfae96d347f1b8be7e95a81ac0af",
       "value": 58
      }
     },
     "12b69a9aa9e54a1b8f270ea75605535a": {
      "model_module": "@jupyter-widgets/controls",
      "model_module_version": "2.0.0",
      "model_name": "HTMLModel",
      "state": {
       "layout": "IPY_MODEL_c146c782c7434659bb273c6a21d00d33",
       "style": "IPY_MODEL_0d7d5e7da8c544f8a9b20e5e7f5944b2",
       "value": " 58/58 [00:02&lt;00:00, 26.11it/s]"
      }
     },
     "12c486a936954d4c81f148b730e70fe0": {
      "model_module": "@jupyter-widgets/base",
      "model_module_version": "2.0.0",
      "model_name": "LayoutModel",
      "state": {
       "display": "inline-flex",
       "flex_flow": "row wrap",
       "visibility": "hidden",
       "width": "100%"
      }
     },
     "12ec6a1a3c6f4512a56490767fc93e9c": {
      "model_module": "@jupyter-widgets/controls",
      "model_module_version": "2.0.0",
      "model_name": "ProgressStyleModel",
      "state": {
       "description_width": ""
      }
     },
     "12ed069dc5774bd99e1827175e6ac911": {
      "model_module": "@jupyter-widgets/base",
      "model_module_version": "2.0.0",
      "model_name": "LayoutModel",
      "state": {
       "display": "inline-flex",
       "flex_flow": "row wrap",
       "visibility": "hidden",
       "width": "100%"
      }
     },
     "13163739504f44b2b1b6165057d3e3f9": {
      "model_module": "@jupyter-widgets/base",
      "model_module_version": "2.0.0",
      "model_name": "LayoutModel",
      "state": {
       "flex": "2"
      }
     },
     "13220b0429d74b45adad1263d5b3d193": {
      "model_module": "@jupyter-widgets/controls",
      "model_module_version": "2.0.0",
      "model_name": "HTMLModel",
      "state": {
       "layout": "IPY_MODEL_323f05f8d4c14256b5b426ab839cd415",
       "style": "IPY_MODEL_c4651482a6aa4600bacb1eac682d4ed1",
       "value": "Validation DataLoader 0: 100%"
      }
     },
     "133784729fe74709a6679cff310025c5": {
      "model_module": "@jupyter-widgets/controls",
      "model_module_version": "2.0.0",
      "model_name": "HTMLModel",
      "state": {
       "layout": "IPY_MODEL_91cbd1f07b164bba8570b7a8dcf7fe16",
       "style": "IPY_MODEL_cdcba89d87924990849914dd091746ea",
       "value": " 58/58 [00:02&lt;00:00, 28.40it/s]"
      }
     },
     "133a34381fa8485da29201e16fc22a50": {
      "model_module": "@jupyter-widgets/base",
      "model_module_version": "2.0.0",
      "model_name": "LayoutModel",
      "state": {}
     },
     "1361cecd4ea84c07b8bd03012819ab52": {
      "model_module": "@jupyter-widgets/base",
      "model_module_version": "2.0.0",
      "model_name": "LayoutModel",
      "state": {}
     },
     "1392160ae7af429dabac7fe66484c93a": {
      "model_module": "@jupyter-widgets/controls",
      "model_module_version": "2.0.0",
      "model_name": "HTMLStyleModel",
      "state": {
       "description_width": "",
       "font_size": null,
       "text_color": null
      }
     },
     "13af86c0e4be446fb6b59877441e45a6": {
      "model_module": "@jupyter-widgets/controls",
      "model_module_version": "2.0.0",
      "model_name": "FloatProgressModel",
      "state": {
       "layout": "IPY_MODEL_6d2809feb0564f49a0972726008d0acb",
       "max": 58,
       "style": "IPY_MODEL_9e26f3bd23b8466aaffad7510f6d8e49",
       "value": 58
      }
     },
     "13cefbbe3a5c40c59066fdcfe0eae624": {
      "model_module": "@jupyter-widgets/controls",
      "model_module_version": "2.0.0",
      "model_name": "ProgressStyleModel",
      "state": {
       "description_width": ""
      }
     },
     "13f030ea23ee43c6b81dc891b32c8cc8": {
      "model_module": "@jupyter-widgets/controls",
      "model_module_version": "2.0.0",
      "model_name": "HTMLStyleModel",
      "state": {
       "description_width": "",
       "font_size": null,
       "text_color": null
      }
     },
     "13f6d11ac3eb4fe6897de609b5e49ca9": {
      "model_module": "@jupyter-widgets/controls",
      "model_module_version": "2.0.0",
      "model_name": "HTMLStyleModel",
      "state": {
       "description_width": "",
       "font_size": null,
       "text_color": null
      }
     },
     "1468a52b549747218a75e30bf6501537": {
      "model_module": "@jupyter-widgets/controls",
      "model_module_version": "2.0.0",
      "model_name": "HTMLStyleModel",
      "state": {
       "description_width": "",
       "font_size": null,
       "text_color": null
      }
     },
     "148f29c64b62405bb842dbb5d81dad13": {
      "model_module": "@jupyter-widgets/controls",
      "model_module_version": "2.0.0",
      "model_name": "HTMLModel",
      "state": {
       "layout": "IPY_MODEL_232dc4cd3a6d4156ae6ea08647facdbd",
       "style": "IPY_MODEL_608c47ee295c4b8a9971ff3178693c8d",
       "value": "Validation DataLoader 0: 100%"
      }
     },
     "149afdb9ace24d8b83a4639e18c565d7": {
      "model_module": "@jupyter-widgets/base",
      "model_module_version": "2.0.0",
      "model_name": "LayoutModel",
      "state": {}
     },
     "14b0772684e74db4935bca9ee568ca92": {
      "model_module": "@jupyter-widgets/controls",
      "model_module_version": "2.0.0",
      "model_name": "HTMLStyleModel",
      "state": {
       "description_width": "",
       "font_size": null,
       "text_color": null
      }
     },
     "14b5568c408e4d3b8218a9f097a707e0": {
      "model_module": "@jupyter-widgets/controls",
      "model_module_version": "2.0.0",
      "model_name": "HTMLModel",
      "state": {
       "layout": "IPY_MODEL_d68f5729df964c6cb8206b85c248325d",
       "style": "IPY_MODEL_d2434efd4d314263a50f96c94d7cb369",
       "value": "Validation DataLoader 0: 100%"
      }
     },
     "14cc53e0a3d946db8b20c0bcaa2fc2a3": {
      "model_module": "@jupyter-widgets/controls",
      "model_module_version": "2.0.0",
      "model_name": "HTMLModel",
      "state": {
       "layout": "IPY_MODEL_01ae13e02c244efa963ab810f3d91887",
       "style": "IPY_MODEL_8e5ac3209d8647c58d4055ce1fb3bde3",
       "value": " 58/58 [00:02&lt;00:00, 27.02it/s]"
      }
     },
     "155e1ca808f640efa649807316e0dfc0": {
      "model_module": "@jupyter-widgets/base",
      "model_module_version": "2.0.0",
      "model_name": "LayoutModel",
      "state": {}
     },
     "1575689337564a2abcb40d20e20b62e2": {
      "model_module": "@jupyter-widgets/base",
      "model_module_version": "2.0.0",
      "model_name": "LayoutModel",
      "state": {
       "display": "inline-flex",
       "flex_flow": "row wrap",
       "visibility": "hidden",
       "width": "100%"
      }
     },
     "15756b171cfb41148dbdc971a1feb60c": {
      "model_module": "@jupyter-widgets/base",
      "model_module_version": "2.0.0",
      "model_name": "LayoutModel",
      "state": {
       "flex": "2"
      }
     },
     "15a09002f01041009ce0745faa12879d": {
      "model_module": "@jupyter-widgets/controls",
      "model_module_version": "2.0.0",
      "model_name": "ProgressStyleModel",
      "state": {
       "description_width": ""
      }
     },
     "15af6e14afa840848d8488820a2712ba": {
      "model_module": "@jupyter-widgets/controls",
      "model_module_version": "2.0.0",
      "model_name": "FloatProgressModel",
      "state": {
       "layout": "IPY_MODEL_1e4dcbe10d504d85bfc6f82f8c521b63",
       "max": 58,
       "style": "IPY_MODEL_0813fd3ccd32450994ccc44c5ebe453a",
       "value": 58
      }
     },
     "15b2fffa9f9849c9a7b1d1118ade2920": {
      "model_module": "@jupyter-widgets/controls",
      "model_module_version": "2.0.0",
      "model_name": "FloatProgressModel",
      "state": {
       "layout": "IPY_MODEL_d98c371f19c246389f0b3f9991af30cc",
       "max": 58,
       "style": "IPY_MODEL_0a216a03fd2b402f9d0d8c68f99efe3c",
       "value": 58
      }
     },
     "15bfa22b1e11430fb566e73123f1ac80": {
      "model_module": "@jupyter-widgets/controls",
      "model_module_version": "2.0.0",
      "model_name": "HTMLStyleModel",
      "state": {
       "description_width": "",
       "font_size": null,
       "text_color": null
      }
     },
     "15dbc8d926874a7a8f35730fdac703c8": {
      "model_module": "@jupyter-widgets/base",
      "model_module_version": "2.0.0",
      "model_name": "LayoutModel",
      "state": {
       "flex": "2"
      }
     },
     "1605c5af8849479b98baf8959d43d862": {
      "model_module": "@jupyter-widgets/controls",
      "model_module_version": "2.0.0",
      "model_name": "HTMLStyleModel",
      "state": {
       "description_width": "",
       "font_size": null,
       "text_color": null
      }
     },
     "160de1bb138549f0a2d1cb4d908ce85c": {
      "model_module": "@jupyter-widgets/controls",
      "model_module_version": "2.0.0",
      "model_name": "FloatProgressModel",
      "state": {
       "layout": "IPY_MODEL_06c8ea12c5694af5bba57a91a0dccece",
       "max": 58,
       "style": "IPY_MODEL_c60b0a2130734c51ab097ae465955845",
       "value": 58
      }
     },
     "16190beecaf2485b9fdc25d0365cf38d": {
      "model_module": "@jupyter-widgets/controls",
      "model_module_version": "2.0.0",
      "model_name": "FloatProgressModel",
      "state": {
       "layout": "IPY_MODEL_5e27cf1cbafb40288a378272256227a3",
       "max": 58,
       "style": "IPY_MODEL_f9ff39a8ed184f0ea57bd0f152b9e585",
       "value": 58
      }
     },
     "161a3bb4461e44c3b65ad0c92c0f838e": {
      "model_module": "@jupyter-widgets/base",
      "model_module_version": "2.0.0",
      "model_name": "LayoutModel",
      "state": {}
     },
     "1657543cc23644ac94d5b33fc2047a8a": {
      "model_module": "@jupyter-widgets/base",
      "model_module_version": "2.0.0",
      "model_name": "LayoutModel",
      "state": {
       "display": "inline-flex",
       "flex_flow": "row wrap",
       "visibility": "hidden",
       "width": "100%"
      }
     },
     "16942da7d99a4e11b211c75c87520d8d": {
      "model_module": "@jupyter-widgets/controls",
      "model_module_version": "2.0.0",
      "model_name": "ProgressStyleModel",
      "state": {
       "description_width": ""
      }
     },
     "16d101adea4b46f3971fa67e1d226ed0": {
      "model_module": "@jupyter-widgets/controls",
      "model_module_version": "2.0.0",
      "model_name": "HTMLStyleModel",
      "state": {
       "description_width": "",
       "font_size": null,
       "text_color": null
      }
     },
     "16e2a4c9c39b4c33bb89130072cd6d25": {
      "model_module": "@jupyter-widgets/controls",
      "model_module_version": "2.0.0",
      "model_name": "HTMLModel",
      "state": {
       "layout": "IPY_MODEL_8b21f77eea3e4c829ffc4690ec3a83a4",
       "style": "IPY_MODEL_ee56f317121f4efd8a25781c9dd5496b",
       "value": "Validation DataLoader 0: 100%"
      }
     },
     "170537336f7a48d1bc3dca009306bcf3": {
      "model_module": "@jupyter-widgets/base",
      "model_module_version": "2.0.0",
      "model_name": "LayoutModel",
      "state": {
       "flex": "2"
      }
     },
     "17197cfb4dd843848fe3b66c83b53768": {
      "model_module": "@jupyter-widgets/base",
      "model_module_version": "2.0.0",
      "model_name": "LayoutModel",
      "state": {}
     },
     "17621ff522a24fb2813f6e989bade0e5": {
      "model_module": "@jupyter-widgets/controls",
      "model_module_version": "2.0.0",
      "model_name": "ProgressStyleModel",
      "state": {
       "description_width": ""
      }
     },
     "17627ac3ebba41df9f2f40cffc24c1b9": {
      "model_module": "@jupyter-widgets/controls",
      "model_module_version": "2.0.0",
      "model_name": "HTMLModel",
      "state": {
       "layout": "IPY_MODEL_4915645b944c4fc78abfa2e120541b00",
       "style": "IPY_MODEL_d7a1a9802fa14fc496499e3878ac5be1",
       "value": "Validation DataLoader 0: 100%"
      }
     },
     "17644c74da494287abe60c91de4bf972": {
      "model_module": "@jupyter-widgets/base",
      "model_module_version": "2.0.0",
      "model_name": "LayoutModel",
      "state": {
       "display": "inline-flex",
       "flex_flow": "row wrap",
       "visibility": "hidden",
       "width": "100%"
      }
     },
     "176c8aa6eb9647d7a0d9b6c7313fe72f": {
      "model_module": "@jupyter-widgets/controls",
      "model_module_version": "2.0.0",
      "model_name": "FloatProgressModel",
      "state": {
       "layout": "IPY_MODEL_2568730095c74697929ec13bbe2f63d5",
       "max": 58,
       "style": "IPY_MODEL_772575c5575d429a8ec3376ec34ebd28",
       "value": 58
      }
     },
     "1771dc3970db419ea822989da49e6679": {
      "model_module": "@jupyter-widgets/controls",
      "model_module_version": "2.0.0",
      "model_name": "ProgressStyleModel",
      "state": {
       "description_width": ""
      }
     },
     "1775176949f843e2a6e38a5d636f0123": {
      "model_module": "@jupyter-widgets/controls",
      "model_module_version": "2.0.0",
      "model_name": "FloatProgressModel",
      "state": {
       "layout": "IPY_MODEL_0e137a5356474938b8a08077f86afdab",
       "max": 58,
       "style": "IPY_MODEL_ed3204a074d24597a6feb5ba9f5868cd",
       "value": 58
      }
     },
     "17a58c1d51a045c3b5c5ab21b6d48ec2": {
      "model_module": "@jupyter-widgets/base",
      "model_module_version": "2.0.0",
      "model_name": "LayoutModel",
      "state": {
       "flex": "2"
      }
     },
     "17d66e0fb77647eb8cee0912a5daea4c": {
      "model_module": "@jupyter-widgets/controls",
      "model_module_version": "2.0.0",
      "model_name": "HTMLModel",
      "state": {
       "layout": "IPY_MODEL_90f68c6e7c9e4c03b35617bb1ffaedd7",
       "style": "IPY_MODEL_a0c972a5454645c1ba96d9848720b118",
       "value": "Validation DataLoader 0: 100%"
      }
     },
     "17f36eb27e0f4c9caa552802143174ad": {
      "model_module": "@jupyter-widgets/controls",
      "model_module_version": "2.0.0",
      "model_name": "HTMLStyleModel",
      "state": {
       "description_width": "",
       "font_size": null,
       "text_color": null
      }
     },
     "18377dbbac934a29bdcf943a53762d81": {
      "model_module": "@jupyter-widgets/controls",
      "model_module_version": "2.0.0",
      "model_name": "ProgressStyleModel",
      "state": {
       "description_width": ""
      }
     },
     "185aab1ca9df4647a51f0b46f51bfe73": {
      "model_module": "@jupyter-widgets/controls",
      "model_module_version": "2.0.0",
      "model_name": "HTMLStyleModel",
      "state": {
       "description_width": "",
       "font_size": null,
       "text_color": null
      }
     },
     "18a85e3d647f40948387eebca3ecdff7": {
      "model_module": "@jupyter-widgets/controls",
      "model_module_version": "2.0.0",
      "model_name": "HTMLModel",
      "state": {
       "layout": "IPY_MODEL_af7eb8277f444bbca80d68f2870ce791",
       "style": "IPY_MODEL_66af8b352fa641aabe4bf8e40969b293",
       "value": "Validation DataLoader 0: 100%"
      }
     },
     "18b89448e00040ea82c36cba031e134b": {
      "model_module": "@jupyter-widgets/base",
      "model_module_version": "2.0.0",
      "model_name": "LayoutModel",
      "state": {
       "flex": "2"
      }
     },
     "18be2367dd264190a01611ad16053c92": {
      "model_module": "@jupyter-widgets/base",
      "model_module_version": "2.0.0",
      "model_name": "LayoutModel",
      "state": {}
     },
     "18d323224f764061ba8cd6d932459dde": {
      "model_module": "@jupyter-widgets/base",
      "model_module_version": "2.0.0",
      "model_name": "LayoutModel",
      "state": {
       "display": "inline-flex",
       "flex_flow": "row wrap",
       "visibility": "hidden",
       "width": "100%"
      }
     },
     "18dbc3ed4f7a4fe0a7ba4e03ea6f625c": {
      "model_module": "@jupyter-widgets/controls",
      "model_module_version": "2.0.0",
      "model_name": "HTMLStyleModel",
      "state": {
       "description_width": "",
       "font_size": null,
       "text_color": null
      }
     },
     "18f05a6fcd474939bfccbb086ecd56db": {
      "model_module": "@jupyter-widgets/controls",
      "model_module_version": "2.0.0",
      "model_name": "HTMLModel",
      "state": {
       "layout": "IPY_MODEL_f621fbc1c09f4ef7a66f7907c5502f64",
       "style": "IPY_MODEL_7a1185480f6d4f0285def707bfb1aeb2",
       "value": "Validation DataLoader 0: 100%"
      }
     },
     "18f07a6d31be4cf5a2b875a893a2746e": {
      "model_module": "@jupyter-widgets/base",
      "model_module_version": "2.0.0",
      "model_name": "LayoutModel",
      "state": {
       "flex": "2"
      }
     },
     "18f09b5e6a0742b79694b36e281ce58e": {
      "model_module": "@jupyter-widgets/controls",
      "model_module_version": "2.0.0",
      "model_name": "ProgressStyleModel",
      "state": {
       "description_width": ""
      }
     },
     "1928a7a0ca1b4b158bcf03c1456ee379": {
      "model_module": "@jupyter-widgets/controls",
      "model_module_version": "2.0.0",
      "model_name": "HTMLStyleModel",
      "state": {
       "description_width": "",
       "font_size": null,
       "text_color": null
      }
     },
     "1945badcb3cd41dc9a47af47e5f1787e": {
      "model_module": "@jupyter-widgets/controls",
      "model_module_version": "2.0.0",
      "model_name": "HTMLStyleModel",
      "state": {
       "description_width": "",
       "font_size": null,
       "text_color": null
      }
     },
     "194e46a662be445d810fff99349e9077": {
      "model_module": "@jupyter-widgets/controls",
      "model_module_version": "2.0.0",
      "model_name": "ProgressStyleModel",
      "state": {
       "description_width": ""
      }
     },
     "198478fdd47e429eb37bfa3d08069f64": {
      "model_module": "@jupyter-widgets/base",
      "model_module_version": "2.0.0",
      "model_name": "LayoutModel",
      "state": {}
     },
     "1993caf49d5643c7834e7deb451db0d1": {
      "model_module": "@jupyter-widgets/controls",
      "model_module_version": "2.0.0",
      "model_name": "FloatProgressModel",
      "state": {
       "layout": "IPY_MODEL_fe361e10b7264b9096c0a2000ff68a2c",
       "max": 58,
       "style": "IPY_MODEL_0ad8ce647f744394b212aaa2b508682f",
       "value": 58
      }
     },
     "19a4da7f896647efa15131c7982ed277": {
      "model_module": "@jupyter-widgets/controls",
      "model_module_version": "2.0.0",
      "model_name": "HTMLModel",
      "state": {
       "layout": "IPY_MODEL_5ad4256056a5448287bd74c96f66396e",
       "style": "IPY_MODEL_5ffaac5f959e45598db3b865f0f50ed6",
       "value": " 58/58 [00:02&lt;00:00, 27.81it/s]"
      }
     },
     "19b59b441d9646538e50f5dbc01d7325": {
      "model_module": "@jupyter-widgets/controls",
      "model_module_version": "2.0.0",
      "model_name": "HTMLModel",
      "state": {
       "layout": "IPY_MODEL_46ebcf0b06184b71a863109e25a454fd",
       "style": "IPY_MODEL_8b3b976cbd1047f5b1cb1033ce393078",
       "value": "Validation DataLoader 0: 100%"
      }
     },
     "19b781f01d7340fd8f1a6fcb59475acd": {
      "model_module": "@jupyter-widgets/controls",
      "model_module_version": "2.0.0",
      "model_name": "FloatProgressModel",
      "state": {
       "layout": "IPY_MODEL_9acfabb5830e4095a59abb2c06dacc5f",
       "max": 58,
       "style": "IPY_MODEL_d0377b52e7c24587a1b2674acb5684bf",
       "value": 58
      }
     },
     "19e96bd080d14cbeb7ff342a709466f6": {
      "model_module": "@jupyter-widgets/controls",
      "model_module_version": "2.0.0",
      "model_name": "HTMLStyleModel",
      "state": {
       "description_width": "",
       "font_size": null,
       "text_color": null
      }
     },
     "1a046b38d13c4596af77841edff491f8": {
      "model_module": "@jupyter-widgets/controls",
      "model_module_version": "2.0.0",
      "model_name": "HTMLStyleModel",
      "state": {
       "description_width": "",
       "font_size": null,
       "text_color": null
      }
     },
     "1a1d5f8a0329439e87b84cad14d4dc09": {
      "model_module": "@jupyter-widgets/base",
      "model_module_version": "2.0.0",
      "model_name": "LayoutModel",
      "state": {
       "display": "inline-flex",
       "flex_flow": "row wrap",
       "visibility": "hidden",
       "width": "100%"
      }
     },
     "1a3c858621514859a02ce89237a1feba": {
      "model_module": "@jupyter-widgets/base",
      "model_module_version": "2.0.0",
      "model_name": "LayoutModel",
      "state": {
       "display": "inline-flex",
       "flex_flow": "row wrap",
       "visibility": "hidden",
       "width": "100%"
      }
     },
     "1a6c5e84679e4021ab1de6a934a1d466": {
      "model_module": "@jupyter-widgets/controls",
      "model_module_version": "2.0.0",
      "model_name": "FloatProgressModel",
      "state": {
       "layout": "IPY_MODEL_6918d085b4274e918e091ebc56df8172",
       "max": 58,
       "style": "IPY_MODEL_c927fa91366a4a0291c2336b6469aae1",
       "value": 58
      }
     },
     "1a83f560706d47eb9f3048cc3e41a9b8": {
      "model_module": "@jupyter-widgets/controls",
      "model_module_version": "2.0.0",
      "model_name": "FloatProgressModel",
      "state": {
       "layout": "IPY_MODEL_064a8e4fcc6d41498d803535635967ea",
       "max": 58,
       "style": "IPY_MODEL_d3b23326e243432dbf05426926278737",
       "value": 58
      }
     },
     "1a8f6683ba424bab90628074a4640098": {
      "model_module": "@jupyter-widgets/controls",
      "model_module_version": "2.0.0",
      "model_name": "HTMLModel",
      "state": {
       "layout": "IPY_MODEL_133a34381fa8485da29201e16fc22a50",
       "style": "IPY_MODEL_bfbd482816e84f8cafc7bdc641fcfdcc",
       "value": " 58/58 [00:02&lt;00:00, 26.93it/s]"
      }
     },
     "1ab80653e50d491d91bfe74c3d00e541": {
      "model_module": "@jupyter-widgets/base",
      "model_module_version": "2.0.0",
      "model_name": "LayoutModel",
      "state": {}
     },
     "1ad284bc510941d7822da08901647631": {
      "model_module": "@jupyter-widgets/controls",
      "model_module_version": "2.0.0",
      "model_name": "HTMLStyleModel",
      "state": {
       "description_width": "",
       "font_size": null,
       "text_color": null
      }
     },
     "1b17a9279894403481dfccb6839cc958": {
      "model_module": "@jupyter-widgets/base",
      "model_module_version": "2.0.0",
      "model_name": "LayoutModel",
      "state": {}
     },
     "1b3ba6fc89d64879a97dcb53c7166aa6": {
      "model_module": "@jupyter-widgets/base",
      "model_module_version": "2.0.0",
      "model_name": "LayoutModel",
      "state": {}
     },
     "1b4955b1f920434facd12cdfb253273c": {
      "model_module": "@jupyter-widgets/controls",
      "model_module_version": "2.0.0",
      "model_name": "HTMLModel",
      "state": {
       "layout": "IPY_MODEL_1db0228dbf934833a35a041420449a04",
       "style": "IPY_MODEL_d28b4cb38ac841569569496d87fab310",
       "value": "Validation DataLoader 0: 100%"
      }
     },
     "1b70adff93e84d7f820bca537898b8d2": {
      "model_module": "@jupyter-widgets/controls",
      "model_module_version": "2.0.0",
      "model_name": "HTMLModel",
      "state": {
       "layout": "IPY_MODEL_0737d29206a9434899c80e3701ef277a",
       "style": "IPY_MODEL_9147835f1db445e48931439b27bf33df",
       "value": " 58/58 [00:02&lt;00:00, 27.35it/s]"
      }
     },
     "1b71195b7c1849f9802c9bcf99504ea6": {
      "model_module": "@jupyter-widgets/controls",
      "model_module_version": "2.0.0",
      "model_name": "HTMLModel",
      "state": {
       "layout": "IPY_MODEL_5d4fd195436843f1ba10c48761b428f0",
       "style": "IPY_MODEL_c97a9ba4cce84571b9ead17f2388f311",
       "value": "Validation DataLoader 0: 100%"
      }
     },
     "1b78d8da43a64d0a99f9d535a744411c": {
      "model_module": "@jupyter-widgets/controls",
      "model_module_version": "2.0.0",
      "model_name": "ProgressStyleModel",
      "state": {
       "description_width": ""
      }
     },
     "1c064f408f5d4ff48bafefacb0a0f04e": {
      "model_module": "@jupyter-widgets/controls",
      "model_module_version": "2.0.0",
      "model_name": "HTMLStyleModel",
      "state": {
       "description_width": "",
       "font_size": null,
       "text_color": null
      }
     },
     "1c342f282eb04fd28662375ce60e27fd": {
      "model_module": "@jupyter-widgets/base",
      "model_module_version": "2.0.0",
      "model_name": "LayoutModel",
      "state": {}
     },
     "1c8314cd91bf4c2f8436489859748e26": {
      "model_module": "@jupyter-widgets/base",
      "model_module_version": "2.0.0",
      "model_name": "LayoutModel",
      "state": {
       "flex": "2"
      }
     },
     "1cca15d78c0741be9f38d2bb50f31718": {
      "model_module": "@jupyter-widgets/controls",
      "model_module_version": "2.0.0",
      "model_name": "FloatProgressModel",
      "state": {
       "layout": "IPY_MODEL_c9247fa5a4f14b09be69ac1c0d787ab9",
       "max": 58,
       "style": "IPY_MODEL_a51d153c09724554a298eacc056eeb36",
       "value": 58
      }
     },
     "1cde0222f6fe4e70b2bfec63f9e1f015": {
      "model_module": "@jupyter-widgets/controls",
      "model_module_version": "2.0.0",
      "model_name": "HTMLStyleModel",
      "state": {
       "description_width": "",
       "font_size": null,
       "text_color": null
      }
     },
     "1d00d374538442c5a5f4961f5a250695": {
      "model_module": "@jupyter-widgets/controls",
      "model_module_version": "2.0.0",
      "model_name": "ProgressStyleModel",
      "state": {
       "description_width": ""
      }
     },
     "1d560ffcbf0a4982a338d41dce1b8238": {
      "model_module": "@jupyter-widgets/controls",
      "model_module_version": "2.0.0",
      "model_name": "HTMLModel",
      "state": {
       "layout": "IPY_MODEL_b4b201ce287b49929e47fe2144cae195",
       "style": "IPY_MODEL_0576500c62c8474aa7e981336f9e447c",
       "value": "Validation DataLoader 0: 100%"
      }
     },
     "1d79a7fee9dd426fadd98f1b0140d2c9": {
      "model_module": "@jupyter-widgets/base",
      "model_module_version": "2.0.0",
      "model_name": "LayoutModel",
      "state": {}
     },
     "1db0228dbf934833a35a041420449a04": {
      "model_module": "@jupyter-widgets/base",
      "model_module_version": "2.0.0",
      "model_name": "LayoutModel",
      "state": {}
     },
     "1df396335c7f493891efb65cb0241bb7": {
      "model_module": "@jupyter-widgets/controls",
      "model_module_version": "2.0.0",
      "model_name": "FloatProgressModel",
      "state": {
       "layout": "IPY_MODEL_e7050d6483d64692be15ef1b0c582ae2",
       "max": 58,
       "style": "IPY_MODEL_53c194317f0046dc95b0136da384e825",
       "value": 58
      }
     },
     "1dfa19fca6c545aa824ccd6d2d9f302b": {
      "model_module": "@jupyter-widgets/base",
      "model_module_version": "2.0.0",
      "model_name": "LayoutModel",
      "state": {}
     },
     "1e0fe416043b42e1bd08ca5ea215606b": {
      "model_module": "@jupyter-widgets/base",
      "model_module_version": "2.0.0",
      "model_name": "LayoutModel",
      "state": {}
     },
     "1e28f900c41b46f8bdbe6f2c873eea63": {
      "model_module": "@jupyter-widgets/controls",
      "model_module_version": "2.0.0",
      "model_name": "ProgressStyleModel",
      "state": {
       "description_width": ""
      }
     },
     "1e30a57cf37640baa011b2f07777bb0f": {
      "model_module": "@jupyter-widgets/base",
      "model_module_version": "2.0.0",
      "model_name": "LayoutModel",
      "state": {}
     },
     "1e4dcbe10d504d85bfc6f82f8c521b63": {
      "model_module": "@jupyter-widgets/base",
      "model_module_version": "2.0.0",
      "model_name": "LayoutModel",
      "state": {
       "flex": "2"
      }
     },
     "1e87e65983f4421a99d7f06b1d28fc16": {
      "model_module": "@jupyter-widgets/controls",
      "model_module_version": "2.0.0",
      "model_name": "FloatProgressModel",
      "state": {
       "layout": "IPY_MODEL_a32ffa7e864c450a8826f75ee02a49be",
       "max": 58,
       "style": "IPY_MODEL_a39a3aea2ff34cea9136e1e507f77057",
       "value": 58
      }
     },
     "1e9c84c02e4c47d7af175d8ffc5559ae": {
      "model_module": "@jupyter-widgets/base",
      "model_module_version": "2.0.0",
      "model_name": "LayoutModel",
      "state": {}
     },
     "1ea9b606d5644da88f40557829e84085": {
      "model_module": "@jupyter-widgets/base",
      "model_module_version": "2.0.0",
      "model_name": "LayoutModel",
      "state": {
       "flex": "2"
      }
     },
     "1ebb9a5d05994334951607a465f602e3": {
      "model_module": "@jupyter-widgets/controls",
      "model_module_version": "2.0.0",
      "model_name": "HTMLStyleModel",
      "state": {
       "description_width": "",
       "font_size": null,
       "text_color": null
      }
     },
     "1ebc5e7fe0c742a6936b31df3703c37d": {
      "model_module": "@jupyter-widgets/controls",
      "model_module_version": "2.0.0",
      "model_name": "ProgressStyleModel",
      "state": {
       "description_width": ""
      }
     },
     "1ed4b590fed2435291dd4c933b25c8be": {
      "model_module": "@jupyter-widgets/controls",
      "model_module_version": "2.0.0",
      "model_name": "FloatProgressModel",
      "state": {
       "layout": "IPY_MODEL_695e86ed2f9e43d1b9adeb0c37375df1",
       "max": 58,
       "style": "IPY_MODEL_f92bc1a6bac6447893b395c51fd6df74",
       "value": 58
      }
     },
     "1ee000f8fd514b7fa3a0f7386632c553": {
      "model_module": "@jupyter-widgets/controls",
      "model_module_version": "2.0.0",
      "model_name": "HTMLModel",
      "state": {
       "layout": "IPY_MODEL_67b2c96a70914a6b9fd242a01df7fca6",
       "style": "IPY_MODEL_e40f007e4c0348f9b3aa7aee347d9a1d",
       "value": " 58/58 [00:02&lt;00:00, 28.31it/s]"
      }
     },
     "1ef357a5f17742249065375b01b14eb1": {
      "model_module": "@jupyter-widgets/base",
      "model_module_version": "2.0.0",
      "model_name": "LayoutModel",
      "state": {}
     },
     "1f085bf3c0604bc2a52d852a03462576": {
      "model_module": "@jupyter-widgets/controls",
      "model_module_version": "2.0.0",
      "model_name": "HTMLModel",
      "state": {
       "layout": "IPY_MODEL_fcba5bc08ea34f7aac2155e60d0bb6a5",
       "style": "IPY_MODEL_dbdc926ee6f74cfc9e1c8d4c701072a7",
       "value": " 58/58 [00:02&lt;00:00, 27.86it/s]"
      }
     },
     "1f0ebfb0280d471092da8778b0d1c28f": {
      "model_module": "@jupyter-widgets/controls",
      "model_module_version": "2.0.0",
      "model_name": "HTMLModel",
      "state": {
       "layout": "IPY_MODEL_0139e8955aaa4e27850fa6c5a085030f",
       "style": "IPY_MODEL_7caebd188d254e76b53ce7e686800273",
       "value": "Validation DataLoader 0: 100%"
      }
     },
     "1f2c5324731946099770a1dbd1b4a4be": {
      "model_module": "@jupyter-widgets/base",
      "model_module_version": "2.0.0",
      "model_name": "LayoutModel",
      "state": {
       "display": "inline-flex",
       "flex_flow": "row wrap",
       "visibility": "hidden",
       "width": "100%"
      }
     },
     "1f47eaac4d51402f8b18ee25672cc5c9": {
      "model_module": "@jupyter-widgets/base",
      "model_module_version": "2.0.0",
      "model_name": "LayoutModel",
      "state": {
       "flex": "2"
      }
     },
     "1f4e4f33d37846f890296e64daff09aa": {
      "model_module": "@jupyter-widgets/controls",
      "model_module_version": "2.0.0",
      "model_name": "HTMLModel",
      "state": {
       "layout": "IPY_MODEL_d389c9135482450cbfa2b664cd710918",
       "style": "IPY_MODEL_c89c26f566ec4d48b9a4a0e3a643f09d",
       "value": " 58/58 [00:02&lt;00:00, 25.51it/s]"
      }
     },
     "1f51923a73784ad7bacc03541bbf2c5b": {
      "model_module": "@jupyter-widgets/controls",
      "model_module_version": "2.0.0",
      "model_name": "HTMLModel",
      "state": {
       "layout": "IPY_MODEL_db8764e2aa6a4163933a9398e6a1e62c",
       "style": "IPY_MODEL_0db9be2e88234a5e9005447fcbea0aa2",
       "value": "Validation DataLoader 0: 100%"
      }
     },
     "1f59aa1ed5f044d68b31578347d0ba20": {
      "model_module": "@jupyter-widgets/controls",
      "model_module_version": "2.0.0",
      "model_name": "ProgressStyleModel",
      "state": {
       "description_width": ""
      }
     },
     "1f5e7b0398fd4fd19fcaef38ca30a71d": {
      "model_module": "@jupyter-widgets/controls",
      "model_module_version": "2.0.0",
      "model_name": "FloatProgressModel",
      "state": {
       "layout": "IPY_MODEL_646620bf40ef4ad9be6c83476dd6baa8",
       "max": 58,
       "style": "IPY_MODEL_15a09002f01041009ce0745faa12879d",
       "value": 58
      }
     },
     "1f8790e2c250422bb78e50efb53670b2": {
      "model_module": "@jupyter-widgets/base",
      "model_module_version": "2.0.0",
      "model_name": "LayoutModel",
      "state": {
       "display": "inline-flex",
       "flex_flow": "row wrap",
       "visibility": "hidden",
       "width": "100%"
      }
     },
     "1f9da1da536541c6950465a0dc2b8e3b": {
      "model_module": "@jupyter-widgets/controls",
      "model_module_version": "2.0.0",
      "model_name": "HTMLModel",
      "state": {
       "layout": "IPY_MODEL_41d567c9be2a40d2b1f84cd0e0736159",
       "style": "IPY_MODEL_3a25c895a5824dc296a71de3c4be0778",
       "value": " 58/58 [00:02&lt;00:00, 26.78it/s]"
      }
     },
     "1faf37f3113c48f5baecd8f1dad276e6": {
      "model_module": "@jupyter-widgets/controls",
      "model_module_version": "2.0.0",
      "model_name": "HTMLModel",
      "state": {
       "layout": "IPY_MODEL_5a1f8610ac004d03b506069bcd822a55",
       "style": "IPY_MODEL_ced7ae8e8a2146ab8b7622c0408fae94",
       "value": " 58/58 [00:02&lt;00:00, 25.87it/s]"
      }
     },
     "1fd138baa6d5459cb3866c094d1b2c47": {
      "model_module": "@jupyter-widgets/controls",
      "model_module_version": "2.0.0",
      "model_name": "ProgressStyleModel",
      "state": {
       "description_width": ""
      }
     },
     "1fe5bfec8e0c499d83a8554ab3e37319": {
      "model_module": "@jupyter-widgets/controls",
      "model_module_version": "2.0.0",
      "model_name": "HTMLModel",
      "state": {
       "layout": "IPY_MODEL_f7fc95ccb0c24727a331bdd3598df83f",
       "style": "IPY_MODEL_eeb007b09449434d94788d16ee01ba1d",
       "value": "Validation DataLoader 0: 100%"
      }
     },
     "202b28dd59ce4b4aa1e948fd57e66cf2": {
      "model_module": "@jupyter-widgets/base",
      "model_module_version": "2.0.0",
      "model_name": "LayoutModel",
      "state": {
       "display": "inline-flex",
       "flex_flow": "row wrap",
       "visibility": "hidden",
       "width": "100%"
      }
     },
     "204e896537604df3b06515364f486a61": {
      "model_module": "@jupyter-widgets/base",
      "model_module_version": "2.0.0",
      "model_name": "LayoutModel",
      "state": {
       "display": "inline-flex",
       "flex_flow": "row wrap",
       "visibility": "hidden",
       "width": "100%"
      }
     },
     "2095d5e51cd540908e875036b4c7eff0": {
      "model_module": "@jupyter-widgets/controls",
      "model_module_version": "2.0.0",
      "model_name": "HTMLStyleModel",
      "state": {
       "description_width": "",
       "font_size": null,
       "text_color": null
      }
     },
     "20c18be435094250a91505a0e95d7e91": {
      "model_module": "@jupyter-widgets/controls",
      "model_module_version": "2.0.0",
      "model_name": "HTMLStyleModel",
      "state": {
       "description_width": "",
       "font_size": null,
       "text_color": null
      }
     },
     "20d90c7102ec4e4f86eb8c71dfa0d739": {
      "model_module": "@jupyter-widgets/controls",
      "model_module_version": "2.0.0",
      "model_name": "HTMLStyleModel",
      "state": {
       "description_width": "",
       "font_size": null,
       "text_color": null
      }
     },
     "20e89e93564d4fabb3fe4a03636d4805": {
      "model_module": "@jupyter-widgets/controls",
      "model_module_version": "2.0.0",
      "model_name": "HTMLModel",
      "state": {
       "layout": "IPY_MODEL_fb6ec09c05ed449ab0b2bf22c6543e28",
       "style": "IPY_MODEL_221ad1fbdadf45cf90694305ffbf98aa",
       "value": " 58/58 [00:02&lt;00:00, 28.27it/s]"
      }
     },
     "20fdf0a815b549c3b8d7875fd56df76b": {
      "model_module": "@jupyter-widgets/controls",
      "model_module_version": "2.0.0",
      "model_name": "HTMLModel",
      "state": {
       "layout": "IPY_MODEL_6869534a66b64a5ca71e7ead45ade1db",
       "style": "IPY_MODEL_4114e3acae50479ca80ce7d177f05d7e",
       "value": "Validation DataLoader 0: 100%"
      }
     },
     "21076cbf6250432c9021d4acf5a359cc": {
      "model_module": "@jupyter-widgets/base",
      "model_module_version": "2.0.0",
      "model_name": "LayoutModel",
      "state": {
       "flex": "2"
      }
     },
     "21168f73694c465881433a92cb896b12": {
      "model_module": "@jupyter-widgets/controls",
      "model_module_version": "2.0.0",
      "model_name": "ProgressStyleModel",
      "state": {
       "description_width": ""
      }
     },
     "2122dd683c39463f87d0b02398369f5b": {
      "model_module": "@jupyter-widgets/controls",
      "model_module_version": "2.0.0",
      "model_name": "HTMLStyleModel",
      "state": {
       "description_width": "",
       "font_size": null,
       "text_color": null
      }
     },
     "216e725b56e0498797872e297da8330b": {
      "model_module": "@jupyter-widgets/controls",
      "model_module_version": "2.0.0",
      "model_name": "HTMLStyleModel",
      "state": {
       "description_width": "",
       "font_size": null,
       "text_color": null
      }
     },
     "217b48db1810466ab71c39db478c67ae": {
      "model_module": "@jupyter-widgets/controls",
      "model_module_version": "2.0.0",
      "model_name": "ProgressStyleModel",
      "state": {
       "description_width": ""
      }
     },
     "217f4202755b4060857756ac7ce996a0": {
      "model_module": "@jupyter-widgets/controls",
      "model_module_version": "2.0.0",
      "model_name": "ProgressStyleModel",
      "state": {
       "description_width": ""
      }
     },
     "21aa20474e6746068142a8cf1ef57f36": {
      "model_module": "@jupyter-widgets/base",
      "model_module_version": "2.0.0",
      "model_name": "LayoutModel",
      "state": {}
     },
     "21dc774fa9fd41078e9f15acff22c747": {
      "model_module": "@jupyter-widgets/controls",
      "model_module_version": "2.0.0",
      "model_name": "HTMLStyleModel",
      "state": {
       "description_width": "",
       "font_size": null,
       "text_color": null
      }
     },
     "21e47be1af144c5eac59e748a1d63a59": {
      "model_module": "@jupyter-widgets/controls",
      "model_module_version": "2.0.0",
      "model_name": "HTMLModel",
      "state": {
       "layout": "IPY_MODEL_87dd29eb96b7433daf11063ed4a43b01",
       "style": "IPY_MODEL_4cf5373078f04ec8bc69a51ab83fb717",
       "value": "Validation DataLoader 0: 100%"
      }
     },
     "21f973a90fce4ea083d41cdc2b74bd81": {
      "model_module": "@jupyter-widgets/base",
      "model_module_version": "2.0.0",
      "model_name": "LayoutModel",
      "state": {
       "flex": "2"
      }
     },
     "220609eedc2d4d8481b0d77b6d3525f2": {
      "model_module": "@jupyter-widgets/controls",
      "model_module_version": "2.0.0",
      "model_name": "ProgressStyleModel",
      "state": {
       "description_width": ""
      }
     },
     "221ad1fbdadf45cf90694305ffbf98aa": {
      "model_module": "@jupyter-widgets/controls",
      "model_module_version": "2.0.0",
      "model_name": "HTMLStyleModel",
      "state": {
       "description_width": "",
       "font_size": null,
       "text_color": null
      }
     },
     "2225a8a0d3e44c6e8370a56580cabdb9": {
      "model_module": "@jupyter-widgets/base",
      "model_module_version": "2.0.0",
      "model_name": "LayoutModel",
      "state": {
       "display": "inline-flex",
       "flex_flow": "row wrap",
       "visibility": "hidden",
       "width": "100%"
      }
     },
     "223def11c5b7412fa710639165391d2a": {
      "model_module": "@jupyter-widgets/base",
      "model_module_version": "2.0.0",
      "model_name": "LayoutModel",
      "state": {
       "flex": "2"
      }
     },
     "2259e09181f24a8a9ebe7e923588949a": {
      "model_module": "@jupyter-widgets/controls",
      "model_module_version": "2.0.0",
      "model_name": "HTMLStyleModel",
      "state": {
       "description_width": "",
       "font_size": null,
       "text_color": null
      }
     },
     "228f6d68c1c445f0b15cfd44c7b2dd26": {
      "model_module": "@jupyter-widgets/base",
      "model_module_version": "2.0.0",
      "model_name": "LayoutModel",
      "state": {
       "flex": "2"
      }
     },
     "22cd8fc55dfc4effbff44a89bd289d07": {
      "model_module": "@jupyter-widgets/base",
      "model_module_version": "2.0.0",
      "model_name": "LayoutModel",
      "state": {}
     },
     "232dc4cd3a6d4156ae6ea08647facdbd": {
      "model_module": "@jupyter-widgets/base",
      "model_module_version": "2.0.0",
      "model_name": "LayoutModel",
      "state": {}
     },
     "234dbb137c2e4b4598f1ac6d753ff245": {
      "model_module": "@jupyter-widgets/controls",
      "model_module_version": "2.0.0",
      "model_name": "FloatProgressModel",
      "state": {
       "layout": "IPY_MODEL_e2d4223cfd29473786bc1d1dd14c7a25",
       "max": 58,
       "style": "IPY_MODEL_e8ba5f1082574c2eb0d316909bf32884",
       "value": 58
      }
     },
     "235131b2b72c46c2b48fc6ef79781802": {
      "model_module": "@jupyter-widgets/controls",
      "model_module_version": "2.0.0",
      "model_name": "HTMLModel",
      "state": {
       "layout": "IPY_MODEL_c6247ffd638844a7a681250bd5d28f78",
       "style": "IPY_MODEL_2095d5e51cd540908e875036b4c7eff0",
       "value": " 58/58 [00:02&lt;00:00, 25.62it/s]"
      }
     },
     "237a2b0e4e024fbc87924c9e77865290": {
      "model_module": "@jupyter-widgets/controls",
      "model_module_version": "2.0.0",
      "model_name": "HTMLStyleModel",
      "state": {
       "description_width": "",
       "font_size": null,
       "text_color": null
      }
     },
     "237b559c83374906a36be0422cfccd7f": {
      "model_module": "@jupyter-widgets/base",
      "model_module_version": "2.0.0",
      "model_name": "LayoutModel",
      "state": {}
     },
     "2417818fdb154b68985402f8328a3248": {
      "model_module": "@jupyter-widgets/controls",
      "model_module_version": "2.0.0",
      "model_name": "HTMLModel",
      "state": {
       "layout": "IPY_MODEL_9d5975391b87482889a0a3567c6cf103",
       "style": "IPY_MODEL_5d2907a491794dbdbe82a193961cdb85",
       "value": " 58/58 [00:02&lt;00:00, 25.66it/s]"
      }
     },
     "241a2a28206d456d8211551af9d007b7": {
      "model_module": "@jupyter-widgets/controls",
      "model_module_version": "2.0.0",
      "model_name": "ProgressStyleModel",
      "state": {
       "description_width": ""
      }
     },
     "242c8c224d7f4a8a961d902b967b9ab6": {
      "model_module": "@jupyter-widgets/base",
      "model_module_version": "2.0.0",
      "model_name": "LayoutModel",
      "state": {}
     },
     "24307a7eeb8d41e8b3ae4167defe7764": {
      "model_module": "@jupyter-widgets/controls",
      "model_module_version": "2.0.0",
      "model_name": "HTMLModel",
      "state": {
       "layout": "IPY_MODEL_7e1d767148fc4cf08397b4f5bf796901",
       "style": "IPY_MODEL_8f985c3d875f488a916f89be714a24a4",
       "value": " 58/58 [00:02&lt;00:00, 28.42it/s]"
      }
     },
     "249d7080e2f84627a81245aca995578e": {
      "model_module": "@jupyter-widgets/controls",
      "model_module_version": "2.0.0",
      "model_name": "HTMLStyleModel",
      "state": {
       "description_width": "",
       "font_size": null,
       "text_color": null
      }
     },
     "24a8e5ccd0e64172bbf9bea8cbe13571": {
      "model_module": "@jupyter-widgets/controls",
      "model_module_version": "2.0.0",
      "model_name": "HTMLStyleModel",
      "state": {
       "description_width": "",
       "font_size": null,
       "text_color": null
      }
     },
     "24c02eb2581347f7bc4aa19989d842e2": {
      "model_module": "@jupyter-widgets/controls",
      "model_module_version": "2.0.0",
      "model_name": "HTMLModel",
      "state": {
       "layout": "IPY_MODEL_38feacd78ec4464e80eccc9f38846c6d",
       "style": "IPY_MODEL_bb0cea9ceb594251802f09cf094bade2",
       "value": "Validation DataLoader 0: 100%"
      }
     },
     "24c49b9582534af6a36a0dc875ffde34": {
      "model_module": "@jupyter-widgets/controls",
      "model_module_version": "2.0.0",
      "model_name": "HTMLStyleModel",
      "state": {
       "description_width": "",
       "font_size": null,
       "text_color": null
      }
     },
     "24d1eae673034222a7d3c62eed7907ed": {
      "model_module": "@jupyter-widgets/base",
      "model_module_version": "2.0.0",
      "model_name": "LayoutModel",
      "state": {}
     },
     "2568730095c74697929ec13bbe2f63d5": {
      "model_module": "@jupyter-widgets/base",
      "model_module_version": "2.0.0",
      "model_name": "LayoutModel",
      "state": {
       "flex": "2"
      }
     },
     "256affea789f49418a7979b89f37c9fa": {
      "model_module": "@jupyter-widgets/base",
      "model_module_version": "2.0.0",
      "model_name": "LayoutModel",
      "state": {}
     },
     "258cf5df72394e93a5ba7c82b2124692": {
      "model_module": "@jupyter-widgets/base",
      "model_module_version": "2.0.0",
      "model_name": "LayoutModel",
      "state": {
       "flex": "2"
      }
     },
     "25921ce8b0d24fcb9e280a433a72914a": {
      "model_module": "@jupyter-widgets/base",
      "model_module_version": "2.0.0",
      "model_name": "LayoutModel",
      "state": {
       "display": "inline-flex",
       "flex_flow": "row wrap",
       "visibility": "hidden",
       "width": "100%"
      }
     },
     "25db58f9b4a14f4195bc68d7ef9d412a": {
      "model_module": "@jupyter-widgets/base",
      "model_module_version": "2.0.0",
      "model_name": "LayoutModel",
      "state": {
       "flex": "2"
      }
     },
     "2608679cccf7466d9a5d10e10720029c": {
      "model_module": "@jupyter-widgets/base",
      "model_module_version": "2.0.0",
      "model_name": "LayoutModel",
      "state": {
       "display": "inline-flex",
       "flex_flow": "row wrap",
       "visibility": "hidden",
       "width": "100%"
      }
     },
     "260dae7572d540cfab4935c52b1a7366": {
      "model_module": "@jupyter-widgets/base",
      "model_module_version": "2.0.0",
      "model_name": "LayoutModel",
      "state": {
       "flex": "2"
      }
     },
     "2657b4d07a5d4d878364a3a9cc51e50f": {
      "model_module": "@jupyter-widgets/base",
      "model_module_version": "2.0.0",
      "model_name": "LayoutModel",
      "state": {}
     },
     "2698eed5295748bcbede0461124714f2": {
      "model_module": "@jupyter-widgets/base",
      "model_module_version": "2.0.0",
      "model_name": "LayoutModel",
      "state": {}
     },
     "26c928741e4c489abe33c51ea5fa50b3": {
      "model_module": "@jupyter-widgets/controls",
      "model_module_version": "2.0.0",
      "model_name": "ProgressStyleModel",
      "state": {
       "description_width": ""
      }
     },
     "26f22f7b88874dfa9540648db6bb9211": {
      "model_module": "@jupyter-widgets/controls",
      "model_module_version": "2.0.0",
      "model_name": "ProgressStyleModel",
      "state": {
       "description_width": ""
      }
     },
     "276e5f219316494aac14b7256d2f3ebf": {
      "model_module": "@jupyter-widgets/controls",
      "model_module_version": "2.0.0",
      "model_name": "HTMLStyleModel",
      "state": {
       "description_width": "",
       "font_size": null,
       "text_color": null
      }
     },
     "27754575a9634870be1a04a0dd71161e": {
      "model_module": "@jupyter-widgets/controls",
      "model_module_version": "2.0.0",
      "model_name": "HTMLModel",
      "state": {
       "layout": "IPY_MODEL_4346f9521a7e4a30bd7209a055529ecb",
       "style": "IPY_MODEL_586b02605c93402e96910e93e2229d6b",
       "value": "Validation DataLoader 0: 100%"
      }
     },
     "27a89e429f86433f8e6223a75bf416e9": {
      "model_module": "@jupyter-widgets/controls",
      "model_module_version": "2.0.0",
      "model_name": "HTMLStyleModel",
      "state": {
       "description_width": "",
       "font_size": null,
       "text_color": null
      }
     },
     "27f632da912d48c98654608f169a10dd": {
      "model_module": "@jupyter-widgets/base",
      "model_module_version": "2.0.0",
      "model_name": "LayoutModel",
      "state": {
       "flex": "2"
      }
     },
     "284ff7c82a4643dab763337c560d2092": {
      "model_module": "@jupyter-widgets/base",
      "model_module_version": "2.0.0",
      "model_name": "LayoutModel",
      "state": {}
     },
     "2865a650978e4f3cbf0f1fd6d62cee38": {
      "model_module": "@jupyter-widgets/controls",
      "model_module_version": "2.0.0",
      "model_name": "HTMLStyleModel",
      "state": {
       "description_width": "",
       "font_size": null,
       "text_color": null
      }
     },
     "28aed5bee1194743a2329aaf80409ef5": {
      "model_module": "@jupyter-widgets/base",
      "model_module_version": "2.0.0",
      "model_name": "LayoutModel",
      "state": {}
     },
     "29277596284b478a8a640959e3bd378c": {
      "model_module": "@jupyter-widgets/base",
      "model_module_version": "2.0.0",
      "model_name": "LayoutModel",
      "state": {
       "display": "inline-flex",
       "flex_flow": "row wrap",
       "visibility": "hidden",
       "width": "100%"
      }
     },
     "2933b1de35bc420a962e9c69cbf6a141": {
      "model_module": "@jupyter-widgets/base",
      "model_module_version": "2.0.0",
      "model_name": "LayoutModel",
      "state": {
       "display": "inline-flex",
       "flex_flow": "row wrap",
       "visibility": "hidden",
       "width": "100%"
      }
     },
     "293ed687996e4f658c983c970c22ae71": {
      "model_module": "@jupyter-widgets/controls",
      "model_module_version": "2.0.0",
      "model_name": "FloatProgressModel",
      "state": {
       "layout": "IPY_MODEL_8194f63a9cd8451f9bb24948e402cb05",
       "max": 58,
       "style": "IPY_MODEL_89fff5ba80f54de7ae5119b20f42b3ba",
       "value": 58
      }
     },
     "294fd9e55e5e4faaa5cf748ab578932b": {
      "model_module": "@jupyter-widgets/controls",
      "model_module_version": "2.0.0",
      "model_name": "HTMLModel",
      "state": {
       "layout": "IPY_MODEL_5c64edf836aa4d218c6814bc4d58eef3",
       "style": "IPY_MODEL_ca77c8c7f5a24f70b9a395942c90c004",
       "value": " 58/58 [00:02&lt;00:00, 26.98it/s]"
      }
     },
     "29a90e89339c495d8fcea8bf8e48c0af": {
      "model_module": "@jupyter-widgets/base",
      "model_module_version": "2.0.0",
      "model_name": "LayoutModel",
      "state": {
       "flex": "2"
      }
     },
     "29b9d44e568d4528950436c719bdaeb2": {
      "model_module": "@jupyter-widgets/controls",
      "model_module_version": "2.0.0",
      "model_name": "HTMLStyleModel",
      "state": {
       "description_width": "",
       "font_size": null,
       "text_color": null
      }
     },
     "29e5ee71992b414085f6233a9001c851": {
      "model_module": "@jupyter-widgets/base",
      "model_module_version": "2.0.0",
      "model_name": "LayoutModel",
      "state": {
       "flex": "2"
      }
     },
     "2a11c413d430438294dfcc110bc02c95": {
      "model_module": "@jupyter-widgets/controls",
      "model_module_version": "2.0.0",
      "model_name": "FloatProgressModel",
      "state": {
       "layout": "IPY_MODEL_7c1660d85e444c58b3e1ca3ce9cc1a29",
       "max": 58,
       "style": "IPY_MODEL_c23b87e4a17f440395ed4ffe91dde3f5",
       "value": 58
      }
     },
     "2a1ddec4e0594a4a84e633bb11447337": {
      "model_module": "@jupyter-widgets/base",
      "model_module_version": "2.0.0",
      "model_name": "LayoutModel",
      "state": {}
     },
     "2aa8e99133064e0f9f05e0cbff97c242": {
      "model_module": "@jupyter-widgets/controls",
      "model_module_version": "2.0.0",
      "model_name": "FloatProgressModel",
      "state": {
       "layout": "IPY_MODEL_4c5a8c2bd8ab4f58b301f91f83db4d57",
       "max": 58,
       "style": "IPY_MODEL_b8cab7ccc6a94d5d88fabb678e71a60d",
       "value": 58
      }
     },
     "2aaba931dfc14a049e4ba1417a56417c": {
      "model_module": "@jupyter-widgets/controls",
      "model_module_version": "2.0.0",
      "model_name": "HTMLModel",
      "state": {
       "layout": "IPY_MODEL_fee46b0ec8ee4a9a8d5a56a4d7e19dfb",
       "style": "IPY_MODEL_dba520d7aaa14285a0ee5c097706b717",
       "value": " 58/58 [00:02&lt;00:00, 25.83it/s]"
      }
     },
     "2b1dab5374f44698badf1aed8e78b98b": {
      "model_module": "@jupyter-widgets/base",
      "model_module_version": "2.0.0",
      "model_name": "LayoutModel",
      "state": {
       "flex": "2"
      }
     },
     "2b22dd5f55bf47378138ddfe37e14e32": {
      "model_module": "@jupyter-widgets/base",
      "model_module_version": "2.0.0",
      "model_name": "LayoutModel",
      "state": {
       "display": "inline-flex",
       "flex_flow": "row wrap",
       "visibility": "hidden",
       "width": "100%"
      }
     },
     "2b2bb22e7a4042ceb822236f02904c31": {
      "model_module": "@jupyter-widgets/base",
      "model_module_version": "2.0.0",
      "model_name": "LayoutModel",
      "state": {
       "flex": "2"
      }
     },
     "2b3e361e5b6f43adae37d3a9773f1de4": {
      "model_module": "@jupyter-widgets/controls",
      "model_module_version": "2.0.0",
      "model_name": "ProgressStyleModel",
      "state": {
       "description_width": ""
      }
     },
     "2b5393dc286542fe8b9317691ff169d1": {
      "model_module": "@jupyter-widgets/controls",
      "model_module_version": "2.0.0",
      "model_name": "HTMLStyleModel",
      "state": {
       "description_width": "",
       "font_size": null,
       "text_color": null
      }
     },
     "2bb2ea4e4a6d410ea35dab1c1093b00a": {
      "model_module": "@jupyter-widgets/base",
      "model_module_version": "2.0.0",
      "model_name": "LayoutModel",
      "state": {}
     },
     "2bbc4183b75240cc990498f6c55d8f2c": {
      "model_module": "@jupyter-widgets/base",
      "model_module_version": "2.0.0",
      "model_name": "LayoutModel",
      "state": {
       "display": "inline-flex",
       "flex_flow": "row wrap",
       "visibility": "hidden",
       "width": "100%"
      }
     },
     "2bcb2146792e438ebffba8d1c5f49cd8": {
      "model_module": "@jupyter-widgets/base",
      "model_module_version": "2.0.0",
      "model_name": "LayoutModel",
      "state": {}
     },
     "2bdd56776a144059884372fde0d3d15f": {
      "model_module": "@jupyter-widgets/base",
      "model_module_version": "2.0.0",
      "model_name": "LayoutModel",
      "state": {}
     },
     "2beeadcde0a4431aa158760c356deebb": {
      "model_module": "@jupyter-widgets/controls",
      "model_module_version": "2.0.0",
      "model_name": "HTMLModel",
      "state": {
       "layout": "IPY_MODEL_124a8ea3a6f0493fb0a88885b2471674",
       "style": "IPY_MODEL_1a046b38d13c4596af77841edff491f8",
       "value": " 58/58 [00:02&lt;00:00, 28.32it/s]"
      }
     },
     "2c143a81d17f4ccfa4d129a7549e9a59": {
      "model_module": "@jupyter-widgets/base",
      "model_module_version": "2.0.0",
      "model_name": "LayoutModel",
      "state": {}
     },
     "2c24244ac823468b955f7cba12ba7dac": {
      "model_module": "@jupyter-widgets/base",
      "model_module_version": "2.0.0",
      "model_name": "LayoutModel",
      "state": {}
     },
     "2c2b660d24f14f46800d3cafe7a3b431": {
      "model_module": "@jupyter-widgets/controls",
      "model_module_version": "2.0.0",
      "model_name": "ProgressStyleModel",
      "state": {
       "description_width": ""
      }
     },
     "2d1e6fc0113448a993a86d3a93f9640b": {
      "model_module": "@jupyter-widgets/controls",
      "model_module_version": "2.0.0",
      "model_name": "HTMLStyleModel",
      "state": {
       "description_width": "",
       "font_size": null,
       "text_color": null
      }
     },
     "2d2b781708ba4a04a70ed12b7c97f7cc": {
      "model_module": "@jupyter-widgets/controls",
      "model_module_version": "2.0.0",
      "model_name": "ProgressStyleModel",
      "state": {
       "description_width": ""
      }
     },
     "2d542f6d667c406b860cf82513d883fe": {
      "model_module": "@jupyter-widgets/controls",
      "model_module_version": "2.0.0",
      "model_name": "ProgressStyleModel",
      "state": {
       "description_width": ""
      }
     },
     "2d78761db5e24341a16c723b8280c8f3": {
      "model_module": "@jupyter-widgets/controls",
      "model_module_version": "2.0.0",
      "model_name": "HTMLStyleModel",
      "state": {
       "description_width": "",
       "font_size": null,
       "text_color": null
      }
     },
     "2d79f9daedc14cd1aa6530d4b6814b78": {
      "model_module": "@jupyter-widgets/controls",
      "model_module_version": "2.0.0",
      "model_name": "HTMLModel",
      "state": {
       "layout": "IPY_MODEL_88276b1d0b2f48d8ba9909383b25c69b",
       "style": "IPY_MODEL_00f3a86379aa410c9b855104bb229623",
       "value": "Validation DataLoader 0: 100%"
      }
     },
     "2d7b773cceb64e149d8c190e2f409e3c": {
      "model_module": "@jupyter-widgets/base",
      "model_module_version": "2.0.0",
      "model_name": "LayoutModel",
      "state": {}
     },
     "2dcc330b09954f58a4f2ea361ca75f46": {
      "model_module": "@jupyter-widgets/controls",
      "model_module_version": "2.0.0",
      "model_name": "HTMLStyleModel",
      "state": {
       "description_width": "",
       "font_size": null,
       "text_color": null
      }
     },
     "2de32f85717845c192ca1f70ede26c37": {
      "model_module": "@jupyter-widgets/controls",
      "model_module_version": "2.0.0",
      "model_name": "FloatProgressModel",
      "state": {
       "layout": "IPY_MODEL_2b2bb22e7a4042ceb822236f02904c31",
       "max": 58,
       "style": "IPY_MODEL_bd15fd903d174b90bb5964e57cfeaf39",
       "value": 58
      }
     },
     "2df4db81bf934ff48b581b1e98d4a416": {
      "model_module": "@jupyter-widgets/base",
      "model_module_version": "2.0.0",
      "model_name": "LayoutModel",
      "state": {}
     },
     "2e12f835bedc457a89ff7f6abdb8d709": {
      "model_module": "@jupyter-widgets/base",
      "model_module_version": "2.0.0",
      "model_name": "LayoutModel",
      "state": {}
     },
     "2e1ebbded34842d3a76c1c0f37f8b502": {
      "model_module": "@jupyter-widgets/controls",
      "model_module_version": "2.0.0",
      "model_name": "ProgressStyleModel",
      "state": {
       "description_width": ""
      }
     },
     "2e23a807e28c49d793dde52df96d9363": {
      "model_module": "@jupyter-widgets/controls",
      "model_module_version": "2.0.0",
      "model_name": "FloatProgressModel",
      "state": {
       "layout": "IPY_MODEL_5b62748dbd904373880d75f8024abc39",
       "max": 58,
       "style": "IPY_MODEL_9091d077ff7b4fa5bf3dfb53fb1bebd5",
       "value": 58
      }
     },
     "2e2a79fd1a98444bbd84b588be4b62de": {
      "model_module": "@jupyter-widgets/controls",
      "model_module_version": "2.0.0",
      "model_name": "HTMLModel",
      "state": {
       "layout": "IPY_MODEL_3ba2b5c614db4c60add583b1e75a06f8",
       "style": "IPY_MODEL_2e39b803be6f46ef993bd7c1596d5a06",
       "value": " 58/58 [00:02&lt;00:00, 26.78it/s]"
      }
     },
     "2e39b803be6f46ef993bd7c1596d5a06": {
      "model_module": "@jupyter-widgets/controls",
      "model_module_version": "2.0.0",
      "model_name": "HTMLStyleModel",
      "state": {
       "description_width": "",
       "font_size": null,
       "text_color": null
      }
     },
     "2ea626a15fc74a84b9f80a6c839707c6": {
      "model_module": "@jupyter-widgets/base",
      "model_module_version": "2.0.0",
      "model_name": "LayoutModel",
      "state": {}
     },
     "2f188b09487c4751bd70c3db940ae16f": {
      "model_module": "@jupyter-widgets/controls",
      "model_module_version": "2.0.0",
      "model_name": "HTMLStyleModel",
      "state": {
       "description_width": "",
       "font_size": null,
       "text_color": null
      }
     },
     "2f2aa80585e04a59a5577f3d490e1a6f": {
      "model_module": "@jupyter-widgets/controls",
      "model_module_version": "2.0.0",
      "model_name": "HTMLModel",
      "state": {
       "layout": "IPY_MODEL_ccf4665a26bb4085ac79d951e62130a0",
       "style": "IPY_MODEL_463e632759e34c35916de99aad091178",
       "value": " 58/58 [00:02&lt;00:00, 25.66it/s]"
      }
     },
     "2f36f2e0d66746ee9e8c493a9f63496e": {
      "model_module": "@jupyter-widgets/controls",
      "model_module_version": "2.0.0",
      "model_name": "HTMLModel",
      "state": {
       "layout": "IPY_MODEL_4bf71fe3894446aca2bb597c982febad",
       "style": "IPY_MODEL_76a37ecadb394f7da42deb5771318e89",
       "value": "Validation DataLoader 0: 100%"
      }
     },
     "2f488cfb1ef34e57894db9c700b985a3": {
      "model_module": "@jupyter-widgets/base",
      "model_module_version": "2.0.0",
      "model_name": "LayoutModel",
      "state": {}
     },
     "2f5af0b422424af08fc016a62514ecbc": {
      "model_module": "@jupyter-widgets/controls",
      "model_module_version": "2.0.0",
      "model_name": "ProgressStyleModel",
      "state": {
       "description_width": ""
      }
     },
     "2f5f0aeccc304533b3cc4f776d98febb": {
      "model_module": "@jupyter-widgets/controls",
      "model_module_version": "2.0.0",
      "model_name": "HTMLModel",
      "state": {
       "layout": "IPY_MODEL_6f89157170fe46e7992c84d0ad7ebaae",
       "style": "IPY_MODEL_f1e4e20f4b08446694fab7d10a2c9347",
       "value": "Validation DataLoader 0: 100%"
      }
     },
     "3012bc56519747e9814e474f42fe928f": {
      "model_module": "@jupyter-widgets/controls",
      "model_module_version": "2.0.0",
      "model_name": "HTMLModel",
      "state": {
       "layout": "IPY_MODEL_e655a8780ce64ce8bcf0fbc06e1a1244",
       "style": "IPY_MODEL_ce672d84c0084801821c85bf5854243c",
       "value": "Validation DataLoader 0: 100%"
      }
     },
     "3089302527874c5198abf0c1969a9ddb": {
      "model_module": "@jupyter-widgets/controls",
      "model_module_version": "2.0.0",
      "model_name": "HTMLModel",
      "state": {
       "layout": "IPY_MODEL_9e42fc3638894334ab200b9a0614a2b5",
       "style": "IPY_MODEL_f7ec06e5715549498e09f2bd696f5431",
       "value": "Validation DataLoader 0: 100%"
      }
     },
     "30c879538513414bbe4db63f647ad01d": {
      "model_module": "@jupyter-widgets/base",
      "model_module_version": "2.0.0",
      "model_name": "LayoutModel",
      "state": {}
     },
     "310287413f2d45b8894ac2f71dde43cd": {
      "model_module": "@jupyter-widgets/base",
      "model_module_version": "2.0.0",
      "model_name": "LayoutModel",
      "state": {}
     },
     "310ca359b5f34827a114b9b64c04e3c5": {
      "model_module": "@jupyter-widgets/controls",
      "model_module_version": "2.0.0",
      "model_name": "ProgressStyleModel",
      "state": {
       "description_width": ""
      }
     },
     "311ffdcc90144d18adac60d0f88befc3": {
      "model_module": "@jupyter-widgets/controls",
      "model_module_version": "2.0.0",
      "model_name": "HTMLModel",
      "state": {
       "layout": "IPY_MODEL_161a3bb4461e44c3b65ad0c92c0f838e",
       "style": "IPY_MODEL_41a02079d48a41e9bcfedb547c876c37",
       "value": "Validation DataLoader 0: 100%"
      }
     },
     "3142a4c5af78429aa1bc451fbbd173e6": {
      "model_module": "@jupyter-widgets/controls",
      "model_module_version": "2.0.0",
      "model_name": "HTMLStyleModel",
      "state": {
       "description_width": "",
       "font_size": null,
       "text_color": null
      }
     },
     "319e361e87664596bc290432cbff9d32": {
      "model_module": "@jupyter-widgets/controls",
      "model_module_version": "2.0.0",
      "model_name": "ProgressStyleModel",
      "state": {
       "description_width": ""
      }
     },
     "31a3abab320540fd9e87eca3d39d08ef": {
      "model_module": "@jupyter-widgets/controls",
      "model_module_version": "2.0.0",
      "model_name": "FloatProgressModel",
      "state": {
       "layout": "IPY_MODEL_7cd5b5a534e54a378cf9fffb95f3ef26",
       "max": 58,
       "style": "IPY_MODEL_a20cf009d2284b02bb78cd4660f86a3b",
       "value": 58
      }
     },
     "32137e69fe214530a8b6f5e7ff38f25c": {
      "model_module": "@jupyter-widgets/base",
      "model_module_version": "2.0.0",
      "model_name": "LayoutModel",
      "state": {}
     },
     "323f05f8d4c14256b5b426ab839cd415": {
      "model_module": "@jupyter-widgets/base",
      "model_module_version": "2.0.0",
      "model_name": "LayoutModel",
      "state": {}
     },
     "3251ebc0cc44488894245024af008fa8": {
      "model_module": "@jupyter-widgets/base",
      "model_module_version": "2.0.0",
      "model_name": "LayoutModel",
      "state": {
       "display": "inline-flex",
       "flex_flow": "row wrap",
       "visibility": "hidden",
       "width": "100%"
      }
     },
     "3270a5081150467191159da9949437c8": {
      "model_module": "@jupyter-widgets/controls",
      "model_module_version": "2.0.0",
      "model_name": "FloatProgressModel",
      "state": {
       "layout": "IPY_MODEL_e2f77a73555a4def85f90a645e12f2f1",
       "max": 58,
       "style": "IPY_MODEL_d8a01f46eee74a0da7c3c19ef2ae15f0",
       "value": 58
      }
     },
     "327f20cd4700402ba1ba8e3d699f8d26": {
      "model_module": "@jupyter-widgets/base",
      "model_module_version": "2.0.0",
      "model_name": "LayoutModel",
      "state": {
       "display": "inline-flex",
       "flex_flow": "row wrap",
       "visibility": "hidden",
       "width": "100%"
      }
     },
     "32bef47e6d5a46039df01c492bb7e5c1": {
      "model_module": "@jupyter-widgets/base",
      "model_module_version": "2.0.0",
      "model_name": "LayoutModel",
      "state": {}
     },
     "32d17a33ec5c474bb9f47ea3314be947": {
      "model_module": "@jupyter-widgets/controls",
      "model_module_version": "2.0.0",
      "model_name": "HTMLModel",
      "state": {
       "layout": "IPY_MODEL_6cf8843ec1084e80b81e7bf302d24bed",
       "style": "IPY_MODEL_a75021f339c24c289e863b7232c5ceae",
       "value": " 58/58 [00:02&lt;00:00, 28.33it/s]"
      }
     },
     "32e4af07706943eaa5c51f3c87765890": {
      "model_module": "@jupyter-widgets/controls",
      "model_module_version": "2.0.0",
      "model_name": "FloatProgressModel",
      "state": {
       "layout": "IPY_MODEL_6126270248b54750b10e53454ced35a7",
       "max": 58,
       "style": "IPY_MODEL_b84956a819f94cd09cfe2320dd01108e",
       "value": 58
      }
     },
     "32ea941e24ee4416ae1e9adf75da0ca5": {
      "model_module": "@jupyter-widgets/base",
      "model_module_version": "2.0.0",
      "model_name": "LayoutModel",
      "state": {
       "flex": "2"
      }
     },
     "330e4c387fa34fffaf3242be0fe6ae2c": {
      "model_module": "@jupyter-widgets/controls",
      "model_module_version": "2.0.0",
      "model_name": "HTMLStyleModel",
      "state": {
       "description_width": "",
       "font_size": null,
       "text_color": null
      }
     },
     "3318dadf35ba422d9b81c54d0889c6c8": {
      "model_module": "@jupyter-widgets/controls",
      "model_module_version": "2.0.0",
      "model_name": "ProgressStyleModel",
      "state": {
       "description_width": ""
      }
     },
     "332eb865516e456ebb90734aa05574f5": {
      "model_module": "@jupyter-widgets/controls",
      "model_module_version": "2.0.0",
      "model_name": "HTMLModel",
      "state": {
       "layout": "IPY_MODEL_fdad1b3daf5c464cb4a6e0d2ee506c0c",
       "style": "IPY_MODEL_5cda9271600c40d69d6db858cfd27cbf",
       "value": " 58/58 [00:02&lt;00:00, 28.25it/s]"
      }
     },
     "333e2e1a5b16438daa6246a32476f852": {
      "model_module": "@jupyter-widgets/controls",
      "model_module_version": "2.0.0",
      "model_name": "HTMLStyleModel",
      "state": {
       "description_width": "",
       "font_size": null,
       "text_color": null
      }
     },
     "333e8d7e929a488bb257777dc3cf67d6": {
      "model_module": "@jupyter-widgets/controls",
      "model_module_version": "2.0.0",
      "model_name": "HTMLStyleModel",
      "state": {
       "description_width": "",
       "font_size": null,
       "text_color": null
      }
     },
     "33575b70ff77427db01b437eac8c7c15": {
      "model_module": "@jupyter-widgets/controls",
      "model_module_version": "2.0.0",
      "model_name": "ProgressStyleModel",
      "state": {
       "description_width": ""
      }
     },
     "335f7619c1b74b66914a55abc4602eac": {
      "model_module": "@jupyter-widgets/base",
      "model_module_version": "2.0.0",
      "model_name": "LayoutModel",
      "state": {
       "flex": "2"
      }
     },
     "337d4a6e965f4362b350aace835f5364": {
      "model_module": "@jupyter-widgets/controls",
      "model_module_version": "2.0.0",
      "model_name": "HTMLStyleModel",
      "state": {
       "description_width": "",
       "font_size": null,
       "text_color": null
      }
     },
     "33816a40a76c433cb7f41134c8d89520": {
      "model_module": "@jupyter-widgets/base",
      "model_module_version": "2.0.0",
      "model_name": "LayoutModel",
      "state": {
       "display": "inline-flex",
       "flex_flow": "row wrap",
       "visibility": "hidden",
       "width": "100%"
      }
     },
     "340c714d5ae2437c9091189ba5a12e27": {
      "model_module": "@jupyter-widgets/controls",
      "model_module_version": "2.0.0",
      "model_name": "HTMLStyleModel",
      "state": {
       "description_width": "",
       "font_size": null,
       "text_color": null
      }
     },
     "34173d7dcc8e4da8bf847d5838f7b9e7": {
      "model_module": "@jupyter-widgets/controls",
      "model_module_version": "2.0.0",
      "model_name": "HTMLModel",
      "state": {
       "layout": "IPY_MODEL_0c46e1b14a8841788c74b4d2f63d3573",
       "style": "IPY_MODEL_39d7ece1de864f33be7228f4fa7a5db0",
       "value": "Validation DataLoader 0: 100%"
      }
     },
     "34aee86561664cc89dafabd951830684": {
      "model_module": "@jupyter-widgets/controls",
      "model_module_version": "2.0.0",
      "model_name": "FloatProgressModel",
      "state": {
       "layout": "IPY_MODEL_41bd25e2dc884e328ab69a49d3ffba34",
       "max": 58,
       "style": "IPY_MODEL_03e0b2440b5842e1af39804c9c7d55c9",
       "value": 58
      }
     },
     "34af19bdc647475eaa35d5f63f8b0f8b": {
      "model_module": "@jupyter-widgets/controls",
      "model_module_version": "2.0.0",
      "model_name": "HTMLStyleModel",
      "state": {
       "description_width": "",
       "font_size": null,
       "text_color": null
      }
     },
     "34cf959db7da48dc9aa34976bf4728b9": {
      "model_module": "@jupyter-widgets/controls",
      "model_module_version": "2.0.0",
      "model_name": "ProgressStyleModel",
      "state": {
       "description_width": ""
      }
     },
     "34d7a405797f4289b97986ed9feedca9": {
      "model_module": "@jupyter-widgets/base",
      "model_module_version": "2.0.0",
      "model_name": "LayoutModel",
      "state": {}
     },
     "34f839a0b86947f593f82b94ccd5f824": {
      "model_module": "@jupyter-widgets/base",
      "model_module_version": "2.0.0",
      "model_name": "LayoutModel",
      "state": {}
     },
     "35301a171a374d659792d3d6a6c309ee": {
      "model_module": "@jupyter-widgets/base",
      "model_module_version": "2.0.0",
      "model_name": "LayoutModel",
      "state": {
       "flex": "2"
      }
     },
     "3532d9b97d2f47569ebe59646b862849": {
      "model_module": "@jupyter-widgets/controls",
      "model_module_version": "2.0.0",
      "model_name": "FloatProgressModel",
      "state": {
       "layout": "IPY_MODEL_752272511dce4f8fab0b10f6f0c38b9d",
       "max": 58,
       "style": "IPY_MODEL_8e209dc0f6264c77a3e9db5abf75fcf6",
       "value": 58
      }
     },
     "3542b6928ff244bdac6bbab3aa839b76": {
      "model_module": "@jupyter-widgets/controls",
      "model_module_version": "2.0.0",
      "model_name": "ProgressStyleModel",
      "state": {
       "description_width": ""
      }
     },
     "3545c31825fa499a9fe2a38cc0299afa": {
      "model_module": "@jupyter-widgets/controls",
      "model_module_version": "2.0.0",
      "model_name": "HTMLModel",
      "state": {
       "layout": "IPY_MODEL_038872aaefc84dfabef4b14b1060eaf9",
       "style": "IPY_MODEL_f7c6255281e24ad2983eb3ffb57dbd82",
       "value": "Validation DataLoader 0: 100%"
      }
     },
     "35512226668e44c7809f1a67531c3d25": {
      "model_module": "@jupyter-widgets/controls",
      "model_module_version": "2.0.0",
      "model_name": "HTMLModel",
      "state": {
       "layout": "IPY_MODEL_6c2db83571fe4b81838836705025b851",
       "style": "IPY_MODEL_ab3e627b21c84410a0ed94f8ff851a85",
       "value": "Validation DataLoader 0: 100%"
      }
     },
     "35f5845a4fb74ec4a83884c95b8f0bae": {
      "model_module": "@jupyter-widgets/base",
      "model_module_version": "2.0.0",
      "model_name": "LayoutModel",
      "state": {
       "flex": "2"
      }
     },
     "3669ddf8f18e4ecda139d6dc3c34c460": {
      "model_module": "@jupyter-widgets/controls",
      "model_module_version": "2.0.0",
      "model_name": "HTMLStyleModel",
      "state": {
       "description_width": "",
       "font_size": null,
       "text_color": null
      }
     },
     "36b4047b540d4f72a655d5b1c2842b3c": {
      "model_module": "@jupyter-widgets/controls",
      "model_module_version": "2.0.0",
      "model_name": "FloatProgressModel",
      "state": {
       "layout": "IPY_MODEL_8f7599ccd85f4ed59e207ac8199019a3",
       "max": 58,
       "style": "IPY_MODEL_b56694a660314b80b1b97597e5806bda",
       "value": 58
      }
     },
     "36b5e5a86aa449189c3547e61b77e1c5": {
      "model_module": "@jupyter-widgets/controls",
      "model_module_version": "2.0.0",
      "model_name": "HTMLStyleModel",
      "state": {
       "description_width": "",
       "font_size": null,
       "text_color": null
      }
     },
     "36f1a6b4fa8e4991a3cacdaa26f052ec": {
      "model_module": "@jupyter-widgets/base",
      "model_module_version": "2.0.0",
      "model_name": "LayoutModel",
      "state": {}
     },
     "370f6b0a47de4d7ca35b8fb0a614c9a3": {
      "model_module": "@jupyter-widgets/base",
      "model_module_version": "2.0.0",
      "model_name": "LayoutModel",
      "state": {
       "display": "inline-flex",
       "flex_flow": "row wrap",
       "visibility": "hidden",
       "width": "100%"
      }
     },
     "371c2c57e8c14ad1985ba68876917a85": {
      "model_module": "@jupyter-widgets/base",
      "model_module_version": "2.0.0",
      "model_name": "LayoutModel",
      "state": {}
     },
     "3727b8d80b4f46f9a8730920d82fb0af": {
      "model_module": "@jupyter-widgets/controls",
      "model_module_version": "2.0.0",
      "model_name": "HTMLStyleModel",
      "state": {
       "description_width": "",
       "font_size": null,
       "text_color": null
      }
     },
     "372f8516f54045cb81a069da01059f14": {
      "model_module": "@jupyter-widgets/controls",
      "model_module_version": "2.0.0",
      "model_name": "FloatProgressModel",
      "state": {
       "layout": "IPY_MODEL_77ca8984f1824e0c91fc5bfea6419cbe",
       "max": 58,
       "style": "IPY_MODEL_16942da7d99a4e11b211c75c87520d8d",
       "value": 58
      }
     },
     "379c24b8143946a78437d4d37440252e": {
      "model_module": "@jupyter-widgets/base",
      "model_module_version": "2.0.0",
      "model_name": "LayoutModel",
      "state": {
       "display": "inline-flex",
       "flex_flow": "row wrap",
       "visibility": "hidden",
       "width": "100%"
      }
     },
     "37c62417847f4b599c821dcb43154288": {
      "model_module": "@jupyter-widgets/controls",
      "model_module_version": "2.0.0",
      "model_name": "HTMLModel",
      "state": {
       "layout": "IPY_MODEL_d8ce8f1b8c78468a8623a03a844eecb9",
       "style": "IPY_MODEL_86e6d56024174814a9d2d705562ecef2",
       "value": "Validation DataLoader 0: 100%"
      }
     },
     "37ea2766c8954623bc98bdc3c8da478f": {
      "model_module": "@jupyter-widgets/controls",
      "model_module_version": "2.0.0",
      "model_name": "HTMLStyleModel",
      "state": {
       "description_width": "",
       "font_size": null,
       "text_color": null
      }
     },
     "38048a565537455fa6e17beccb6adedf": {
      "model_module": "@jupyter-widgets/base",
      "model_module_version": "2.0.0",
      "model_name": "LayoutModel",
      "state": {
       "flex": "2"
      }
     },
     "380811f5779341918d792f01596d81fc": {
      "model_module": "@jupyter-widgets/controls",
      "model_module_version": "2.0.0",
      "model_name": "ProgressStyleModel",
      "state": {
       "description_width": ""
      }
     },
     "382f6d64c76b48d3865ac200d8a886db": {
      "model_module": "@jupyter-widgets/controls",
      "model_module_version": "2.0.0",
      "model_name": "ProgressStyleModel",
      "state": {
       "description_width": ""
      }
     },
     "383a8ae1c5fe4e47ae3bae89addd7cae": {
      "model_module": "@jupyter-widgets/base",
      "model_module_version": "2.0.0",
      "model_name": "LayoutModel",
      "state": {
       "flex": "2"
      }
     },
     "3854024c56f54d659905a45d19f8da4d": {
      "model_module": "@jupyter-widgets/base",
      "model_module_version": "2.0.0",
      "model_name": "LayoutModel",
      "state": {
       "display": "inline-flex",
       "flex_flow": "row wrap",
       "visibility": "hidden",
       "width": "100%"
      }
     },
     "385c1dc924334fbb97bbebd2fcae09de": {
      "model_module": "@jupyter-widgets/base",
      "model_module_version": "2.0.0",
      "model_name": "LayoutModel",
      "state": {}
     },
     "386e8645173d4de7947b7750c86f4a26": {
      "model_module": "@jupyter-widgets/base",
      "model_module_version": "2.0.0",
      "model_name": "LayoutModel",
      "state": {
       "flex": "2"
      }
     },
     "3872a340530d416db5742623d7c0cfa3": {
      "model_module": "@jupyter-widgets/controls",
      "model_module_version": "2.0.0",
      "model_name": "ProgressStyleModel",
      "state": {
       "description_width": ""
      }
     },
     "38775e9b3f234165bb6601f8f7ebd650": {
      "model_module": "@jupyter-widgets/controls",
      "model_module_version": "2.0.0",
      "model_name": "FloatProgressModel",
      "state": {
       "layout": "IPY_MODEL_170537336f7a48d1bc3dca009306bcf3",
       "max": 58,
       "style": "IPY_MODEL_5e24dd121edd475dbb9e5557da9a7868",
       "value": 58
      }
     },
     "387e631134d84b1daaf808e03c7528b6": {
      "model_module": "@jupyter-widgets/controls",
      "model_module_version": "2.0.0",
      "model_name": "HTMLModel",
      "state": {
       "layout": "IPY_MODEL_672cfab6cdb647ea8bd80e5a2fcb5002",
       "style": "IPY_MODEL_7eb1f4a3a7be43c09b2862a5a7cead09",
       "value": "Validation DataLoader 0: 100%"
      }
     },
     "388b6899cfc1474ea7b94fbcc22f7a26": {
      "model_module": "@jupyter-widgets/base",
      "model_module_version": "2.0.0",
      "model_name": "LayoutModel",
      "state": {
       "display": "inline-flex",
       "flex_flow": "row wrap",
       "visibility": "hidden",
       "width": "100%"
      }
     },
     "388dcf7412d0450ea4335f07e656cee8": {
      "model_module": "@jupyter-widgets/controls",
      "model_module_version": "2.0.0",
      "model_name": "HTMLModel",
      "state": {
       "layout": "IPY_MODEL_b05478fda2704e708495130b89626b4b",
       "style": "IPY_MODEL_6b5125433e6a4ab9a134afa8f127fd5c",
       "value": "Validation DataLoader 0: 100%"
      }
     },
     "3890b8b9180847319289dfddef1de1ea": {
      "model_module": "@jupyter-widgets/controls",
      "model_module_version": "2.0.0",
      "model_name": "HTMLModel",
      "state": {
       "layout": "IPY_MODEL_f2fbee6acfac4535beb86a93edf26af2",
       "style": "IPY_MODEL_2f188b09487c4751bd70c3db940ae16f",
       "value": " 58/58 [00:02&lt;00:00, 26.58it/s]"
      }
     },
     "38961ca00ee04869b9982d607b48ea21": {
      "model_module": "@jupyter-widgets/base",
      "model_module_version": "2.0.0",
      "model_name": "LayoutModel",
      "state": {
       "display": "inline-flex",
       "flex_flow": "row wrap",
       "visibility": "hidden",
       "width": "100%"
      }
     },
     "3896215b44674aaa9a01db92df7097d8": {
      "model_module": "@jupyter-widgets/controls",
      "model_module_version": "2.0.0",
      "model_name": "HTMLStyleModel",
      "state": {
       "description_width": "",
       "font_size": null,
       "text_color": null
      }
     },
     "38ba9c8803904a678fef26ca19f69002": {
      "model_module": "@jupyter-widgets/controls",
      "model_module_version": "2.0.0",
      "model_name": "FloatProgressModel",
      "state": {
       "layout": "IPY_MODEL_020a3003b77e4662942ac03b2b401204",
       "max": 58,
       "style": "IPY_MODEL_b005cc1b89dc472e967e7ccbc1cddb51",
       "value": 58
      }
     },
     "38e0a039c7ad4edcb11e84864965a277": {
      "model_module": "@jupyter-widgets/controls",
      "model_module_version": "2.0.0",
      "model_name": "HTMLModel",
      "state": {
       "layout": "IPY_MODEL_720932829bfe46ce9d7befc1f304eb86",
       "style": "IPY_MODEL_93482f8485b849548396bc82d4986155",
       "value": " 58/58 [00:02&lt;00:00, 26.23it/s]"
      }
     },
     "38f6fb989f8f469c96f7a25ea9346ccc": {
      "model_module": "@jupyter-widgets/base",
      "model_module_version": "2.0.0",
      "model_name": "LayoutModel",
      "state": {}
     },
     "38feacd78ec4464e80eccc9f38846c6d": {
      "model_module": "@jupyter-widgets/base",
      "model_module_version": "2.0.0",
      "model_name": "LayoutModel",
      "state": {}
     },
     "390be6b132394ceb946400cf0729c9fd": {
      "model_module": "@jupyter-widgets/base",
      "model_module_version": "2.0.0",
      "model_name": "LayoutModel",
      "state": {
       "display": "inline-flex",
       "flex_flow": "row wrap",
       "visibility": "hidden",
       "width": "100%"
      }
     },
     "390efcf0323a4c95baaa5a70de7a960c": {
      "model_module": "@jupyter-widgets/controls",
      "model_module_version": "2.0.0",
      "model_name": "FloatProgressModel",
      "state": {
       "layout": "IPY_MODEL_ff0c5057b1284de2afc5665a1f07ff87",
       "max": 58,
       "style": "IPY_MODEL_3e63307461f04ce2af8fb4dbc672c232",
       "value": 58
      }
     },
     "390f3c2d40f74c3f8b0aa58bec564c07": {
      "model_module": "@jupyter-widgets/controls",
      "model_module_version": "2.0.0",
      "model_name": "HTMLModel",
      "state": {
       "layout": "IPY_MODEL_e8aba37037c04aed837793f7fd5e477b",
       "style": "IPY_MODEL_b5d4a0437d8c4f7c8061c4a2dfd6ce47",
       "value": "Validation DataLoader 0: 100%"
      }
     },
     "3945fa8bc80c4dd883d94a68bf326cef": {
      "model_module": "@jupyter-widgets/base",
      "model_module_version": "2.0.0",
      "model_name": "LayoutModel",
      "state": {}
     },
     "39548339bc864eb099100d35f8443635": {
      "model_module": "@jupyter-widgets/base",
      "model_module_version": "2.0.0",
      "model_name": "LayoutModel",
      "state": {}
     },
     "3969bb09ed8d4982aa024144edf92230": {
      "model_module": "@jupyter-widgets/controls",
      "model_module_version": "2.0.0",
      "model_name": "HTMLModel",
      "state": {
       "layout": "IPY_MODEL_4ba5f1b90f1f4e1fb3cf7a84d70cbf4b",
       "style": "IPY_MODEL_8a0f4dca60ce42afbf2556c031a28cbe",
       "value": " 58/58 [00:02&lt;00:00, 26.08it/s]"
      }
     },
     "39708ab37fb842c281668056a66c83a4": {
      "model_module": "@jupyter-widgets/controls",
      "model_module_version": "2.0.0",
      "model_name": "HTMLStyleModel",
      "state": {
       "description_width": "",
       "font_size": null,
       "text_color": null
      }
     },
     "3987d98f989c46ebb71a076dc843bcb5": {
      "model_module": "@jupyter-widgets/base",
      "model_module_version": "2.0.0",
      "model_name": "LayoutModel",
      "state": {
       "flex": "2"
      }
     },
     "39a287f25c644dad9d8a61d933530c1d": {
      "model_module": "@jupyter-widgets/controls",
      "model_module_version": "2.0.0",
      "model_name": "HTMLModel",
      "state": {
       "layout": "IPY_MODEL_a7b48f16792a41b5923ad8a86ce50321",
       "style": "IPY_MODEL_8b62b6f7fdc84917b6f2d0d65a1a2203",
       "value": " 58/58 [00:02&lt;00:00, 25.87it/s]"
      }
     },
     "39a990f908614540a2a175b376d2d9f9": {
      "model_module": "@jupyter-widgets/controls",
      "model_module_version": "2.0.0",
      "model_name": "HTMLModel",
      "state": {
       "layout": "IPY_MODEL_926d52710337483ebeda7e71511a1028",
       "style": "IPY_MODEL_6978c12396b14474a019fa1c5ceee9f8",
       "value": "Validation DataLoader 0: 100%"
      }
     },
     "39a991b5b8c84a0aa4a1dfc80cf46159": {
      "model_module": "@jupyter-widgets/base",
      "model_module_version": "2.0.0",
      "model_name": "LayoutModel",
      "state": {}
     },
     "39aee143c32f44ab9fa87473bc2b4995": {
      "model_module": "@jupyter-widgets/controls",
      "model_module_version": "2.0.0",
      "model_name": "HTMLStyleModel",
      "state": {
       "description_width": "",
       "font_size": null,
       "text_color": null
      }
     },
     "39c5300f7488452d8fd9b7612faecbec": {
      "model_module": "@jupyter-widgets/controls",
      "model_module_version": "2.0.0",
      "model_name": "HTMLModel",
      "state": {
       "layout": "IPY_MODEL_52c5a14782c940d1ba4a4cf84c524df3",
       "style": "IPY_MODEL_9cddc70d6cb94612bf68cdf42bbc2157",
       "value": "Validation DataLoader 0: 100%"
      }
     },
     "39d7ece1de864f33be7228f4fa7a5db0": {
      "model_module": "@jupyter-widgets/controls",
      "model_module_version": "2.0.0",
      "model_name": "HTMLStyleModel",
      "state": {
       "description_width": "",
       "font_size": null,
       "text_color": null
      }
     },
     "3a1d74d8cfa54e72857349e6a2d8a217": {
      "model_module": "@jupyter-widgets/base",
      "model_module_version": "2.0.0",
      "model_name": "LayoutModel",
      "state": {
       "display": "inline-flex",
       "flex_flow": "row wrap",
       "visibility": "hidden",
       "width": "100%"
      }
     },
     "3a25c895a5824dc296a71de3c4be0778": {
      "model_module": "@jupyter-widgets/controls",
      "model_module_version": "2.0.0",
      "model_name": "HTMLStyleModel",
      "state": {
       "description_width": "",
       "font_size": null,
       "text_color": null
      }
     },
     "3a86891b96504d20bd8f3c9a9b43473a": {
      "model_module": "@jupyter-widgets/base",
      "model_module_version": "2.0.0",
      "model_name": "LayoutModel",
      "state": {
       "display": "inline-flex",
       "flex_flow": "row wrap",
       "visibility": "hidden",
       "width": "100%"
      }
     },
     "3ab5bc7f582a44eb943be7753615ec8d": {
      "model_module": "@jupyter-widgets/controls",
      "model_module_version": "2.0.0",
      "model_name": "ProgressStyleModel",
      "state": {
       "description_width": ""
      }
     },
     "3afca9c13cca4deb97a84410d669d678": {
      "model_module": "@jupyter-widgets/controls",
      "model_module_version": "2.0.0",
      "model_name": "HTMLStyleModel",
      "state": {
       "description_width": "",
       "font_size": null,
       "text_color": null
      }
     },
     "3b1d530d270e46ea9eeb84a2c113ca5d": {
      "model_module": "@jupyter-widgets/base",
      "model_module_version": "2.0.0",
      "model_name": "LayoutModel",
      "state": {
       "flex": "2"
      }
     },
     "3b258e5c022b4db8936fb047cdea766d": {
      "model_module": "@jupyter-widgets/controls",
      "model_module_version": "2.0.0",
      "model_name": "HTMLStyleModel",
      "state": {
       "description_width": "",
       "font_size": null,
       "text_color": null
      }
     },
     "3b2813cbc6114ed7bef3cd13846fdefa": {
      "model_module": "@jupyter-widgets/controls",
      "model_module_version": "2.0.0",
      "model_name": "HTMLStyleModel",
      "state": {
       "description_width": "",
       "font_size": null,
       "text_color": null
      }
     },
     "3b5ae5715276439b983de6377ea3f8db": {
      "model_module": "@jupyter-widgets/base",
      "model_module_version": "2.0.0",
      "model_name": "LayoutModel",
      "state": {
       "display": "inline-flex",
       "flex_flow": "row wrap",
       "visibility": "hidden",
       "width": "100%"
      }
     },
     "3b81c1ac51754b05a2a8dc7dab4887a5": {
      "model_module": "@jupyter-widgets/controls",
      "model_module_version": "2.0.0",
      "model_name": "HTMLStyleModel",
      "state": {
       "description_width": "",
       "font_size": null,
       "text_color": null
      }
     },
     "3b875aeb3b934e2b9ce163ae9d58d5cc": {
      "model_module": "@jupyter-widgets/base",
      "model_module_version": "2.0.0",
      "model_name": "LayoutModel",
      "state": {
       "display": "inline-flex",
       "flex_flow": "row wrap",
       "visibility": "hidden",
       "width": "100%"
      }
     },
     "3ba2b5c614db4c60add583b1e75a06f8": {
      "model_module": "@jupyter-widgets/base",
      "model_module_version": "2.0.0",
      "model_name": "LayoutModel",
      "state": {}
     },
     "3bac29f5c5734488b5eea007906cfb2e": {
      "model_module": "@jupyter-widgets/base",
      "model_module_version": "2.0.0",
      "model_name": "LayoutModel",
      "state": {}
     },
     "3c294410050742fca4ad6eb98e66ef6c": {
      "model_module": "@jupyter-widgets/base",
      "model_module_version": "2.0.0",
      "model_name": "LayoutModel",
      "state": {}
     },
     "3c417bf0bd114d8781fa89b23ebc35c2": {
      "model_module": "@jupyter-widgets/controls",
      "model_module_version": "2.0.0",
      "model_name": "HTMLStyleModel",
      "state": {
       "description_width": "",
       "font_size": null,
       "text_color": null
      }
     },
     "3c4bc60c47f24c8f88dcea47b4a1dc8a": {
      "model_module": "@jupyter-widgets/controls",
      "model_module_version": "2.0.0",
      "model_name": "HTMLModel",
      "state": {
       "layout": "IPY_MODEL_5e60034a7a7e49cfb9d96cd1fca0f02f",
       "style": "IPY_MODEL_820535ddfc204a2daa84b5bba3c5fe7a",
       "value": "Validation DataLoader 0: 100%"
      }
     },
     "3c51450dd05547179006d43d9829f0d4": {
      "model_module": "@jupyter-widgets/controls",
      "model_module_version": "2.0.0",
      "model_name": "HTMLModel",
      "state": {
       "layout": "IPY_MODEL_909ba28fd7be4fe980a3171a340bb1fc",
       "style": "IPY_MODEL_af4577201ddc48dba43659185684d7dd",
       "value": " 58/58 [00:02&lt;00:00, 28.35it/s]"
      }
     },
     "3c7c810a4f994322ad6dfa40a443b1be": {
      "model_module": "@jupyter-widgets/controls",
      "model_module_version": "2.0.0",
      "model_name": "FloatProgressModel",
      "state": {
       "layout": "IPY_MODEL_bd23e27c723f4d98b75301405d8976f0",
       "max": 58,
       "style": "IPY_MODEL_8309c03145864bb7a3478e495d89ec9f",
       "value": 58
      }
     },
     "3c831293f95041fdaeff26c58502dcfd": {
      "model_module": "@jupyter-widgets/controls",
      "model_module_version": "2.0.0",
      "model_name": "HTMLModel",
      "state": {
       "layout": "IPY_MODEL_5c1b38682b3c4e369811e9724899186e",
       "style": "IPY_MODEL_3142a4c5af78429aa1bc451fbbd173e6",
       "value": " 58/58 [00:02&lt;00:00, 28.39it/s]"
      }
     },
     "3c9e163615cd49f3add47cf26de88f1d": {
      "model_module": "@jupyter-widgets/controls",
      "model_module_version": "2.0.0",
      "model_name": "FloatProgressModel",
      "state": {
       "layout": "IPY_MODEL_21f973a90fce4ea083d41cdc2b74bd81",
       "max": 58,
       "style": "IPY_MODEL_911b9a5bdbb04c49b9a8e38953a0309a",
       "value": 58
      }
     },
     "3cc869f18a9d4042abbee4c5b63adee9": {
      "model_module": "@jupyter-widgets/controls",
      "model_module_version": "2.0.0",
      "model_name": "HTMLStyleModel",
      "state": {
       "description_width": "",
       "font_size": null,
       "text_color": null
      }
     },
     "3ce8a43277634ba7843358f4d075f501": {
      "model_module": "@jupyter-widgets/controls",
      "model_module_version": "2.0.0",
      "model_name": "HTMLStyleModel",
      "state": {
       "description_width": "",
       "font_size": null,
       "text_color": null
      }
     },
     "3d447f1052244337b7acd48c85e2c15d": {
      "model_module": "@jupyter-widgets/base",
      "model_module_version": "2.0.0",
      "model_name": "LayoutModel",
      "state": {
       "display": "inline-flex",
       "flex_flow": "row wrap",
       "visibility": "hidden",
       "width": "100%"
      }
     },
     "3d4bd4a915694f19a439c28b070c184c": {
      "model_module": "@jupyter-widgets/controls",
      "model_module_version": "2.0.0",
      "model_name": "ProgressStyleModel",
      "state": {
       "description_width": ""
      }
     },
     "3d6a026168614c589d9a7485ee8d6b70": {
      "model_module": "@jupyter-widgets/controls",
      "model_module_version": "2.0.0",
      "model_name": "FloatProgressModel",
      "state": {
       "layout": "IPY_MODEL_c8c87ef8a4cc4b11b04a30c93be87c35",
       "max": 58,
       "style": "IPY_MODEL_17621ff522a24fb2813f6e989bade0e5",
       "value": 58
      }
     },
     "3d78046a2b9e4e138c064e71e15b0148": {
      "model_module": "@jupyter-widgets/base",
      "model_module_version": "2.0.0",
      "model_name": "LayoutModel",
      "state": {}
     },
     "3d7b38a471bf49e0a2e30014fe592296": {
      "model_module": "@jupyter-widgets/controls",
      "model_module_version": "2.0.0",
      "model_name": "HTMLStyleModel",
      "state": {
       "description_width": "",
       "font_size": null,
       "text_color": null
      }
     },
     "3d7b81de7f0f4c7094c75898baad8540": {
      "model_module": "@jupyter-widgets/base",
      "model_module_version": "2.0.0",
      "model_name": "LayoutModel",
      "state": {
       "display": "inline-flex",
       "flex_flow": "row wrap",
       "visibility": "hidden",
       "width": "100%"
      }
     },
     "3d9ad6b4c3444d1fa250e5847c79b78a": {
      "model_module": "@jupyter-widgets/base",
      "model_module_version": "2.0.0",
      "model_name": "LayoutModel",
      "state": {}
     },
     "3da37fee6ecc494e8b04f48044095f53": {
      "model_module": "@jupyter-widgets/controls",
      "model_module_version": "2.0.0",
      "model_name": "FloatProgressModel",
      "state": {
       "layout": "IPY_MODEL_d001a128e4eb4fb9b7a00bf80a15a105",
       "max": 58,
       "style": "IPY_MODEL_b8aca8aa8cc444f4a9bbe7f2b083586a",
       "value": 58
      }
     },
     "3e49825682b74d6eae26bfd085e80b68": {
      "model_module": "@jupyter-widgets/base",
      "model_module_version": "2.0.0",
      "model_name": "LayoutModel",
      "state": {}
     },
     "3e5f06e9c74b46e095d67d49cc42b306": {
      "model_module": "@jupyter-widgets/controls",
      "model_module_version": "2.0.0",
      "model_name": "HTMLModel",
      "state": {
       "layout": "IPY_MODEL_550b3cea08eb4ca791147425531a0458",
       "style": "IPY_MODEL_2865a650978e4f3cbf0f1fd6d62cee38",
       "value": "Validation DataLoader 0: 100%"
      }
     },
     "3e63307461f04ce2af8fb4dbc672c232": {
      "model_module": "@jupyter-widgets/controls",
      "model_module_version": "2.0.0",
      "model_name": "ProgressStyleModel",
      "state": {
       "description_width": ""
      }
     },
     "3e6958a9617b4752857fa74e1a4e5455": {
      "model_module": "@jupyter-widgets/base",
      "model_module_version": "2.0.0",
      "model_name": "LayoutModel",
      "state": {
       "flex": "2"
      }
     },
     "3f31125f786144c3a076ba9f994632d7": {
      "model_module": "@jupyter-widgets/base",
      "model_module_version": "2.0.0",
      "model_name": "LayoutModel",
      "state": {}
     },
     "3f487b8407b24a9bb92394a54a999994": {
      "model_module": "@jupyter-widgets/controls",
      "model_module_version": "2.0.0",
      "model_name": "HTMLModel",
      "state": {
       "layout": "IPY_MODEL_1b3ba6fc89d64879a97dcb53c7166aa6",
       "style": "IPY_MODEL_29b9d44e568d4528950436c719bdaeb2",
       "value": "Validation DataLoader 0: 100%"
      }
     },
     "3f5d6d84b9d5427f953a3008abfc753d": {
      "model_module": "@jupyter-widgets/base",
      "model_module_version": "2.0.0",
      "model_name": "LayoutModel",
      "state": {}
     },
     "3f94f86c57614a259784a9258e0970b8": {
      "model_module": "@jupyter-widgets/base",
      "model_module_version": "2.0.0",
      "model_name": "LayoutModel",
      "state": {
       "display": "inline-flex",
       "flex_flow": "row wrap",
       "visibility": "hidden",
       "width": "100%"
      }
     },
     "3fc3f34c52b4449ebc0378eca06371ac": {
      "model_module": "@jupyter-widgets/controls",
      "model_module_version": "2.0.0",
      "model_name": "ProgressStyleModel",
      "state": {
       "description_width": ""
      }
     },
     "3fd7ed9984e442d4a6f4bc95a2451060": {
      "model_module": "@jupyter-widgets/controls",
      "model_module_version": "2.0.0",
      "model_name": "HTMLModel",
      "state": {
       "layout": "IPY_MODEL_42193e8b47214be58293eb22e939200e",
       "style": "IPY_MODEL_3b258e5c022b4db8936fb047cdea766d",
       "value": " 58/58 [00:02&lt;00:00, 28.25it/s]"
      }
     },
     "3fd9d64cf620419193953bcc891a5b9b": {
      "model_module": "@jupyter-widgets/controls",
      "model_module_version": "2.0.0",
      "model_name": "ProgressStyleModel",
      "state": {
       "description_width": ""
      }
     },
     "3ff1d5a244374e86bc87788c486ed45d": {
      "model_module": "@jupyter-widgets/controls",
      "model_module_version": "2.0.0",
      "model_name": "HTMLModel",
      "state": {
       "layout": "IPY_MODEL_e60d1f008bef4e90a510f295d922e64d",
       "style": "IPY_MODEL_d4b23611cd63488984d8f51e5adbecc5",
       "value": "Validation DataLoader 0: 100%"
      }
     },
     "3ff93cfce4ad45dab10cbeca5c9d7eb2": {
      "model_module": "@jupyter-widgets/controls",
      "model_module_version": "2.0.0",
      "model_name": "FloatProgressModel",
      "state": {
       "layout": "IPY_MODEL_59f0de07bca94039abbaa2d3fbeae41a",
       "max": 58,
       "style": "IPY_MODEL_18f09b5e6a0742b79694b36e281ce58e",
       "value": 58
      }
     },
     "402b06366ef7485ab9fbac2fc4fd951d": {
      "model_module": "@jupyter-widgets/controls",
      "model_module_version": "2.0.0",
      "model_name": "FloatProgressModel",
      "state": {
       "layout": "IPY_MODEL_bc91583fc97149c69c39ca9cffc13824",
       "max": 58,
       "style": "IPY_MODEL_672c45094b1543c680c826a92f13b8f4",
       "value": 58
      }
     },
     "402c13a4980748ad9a9ecdf36f84119f": {
      "model_module": "@jupyter-widgets/controls",
      "model_module_version": "2.0.0",
      "model_name": "FloatProgressModel",
      "state": {
       "layout": "IPY_MODEL_53453ee8b38144c184589e5016235766",
       "max": 58,
       "style": "IPY_MODEL_7e5036196d1449568e10bbaa322cacc8",
       "value": 58
      }
     },
     "402f245a45b6475891f83b600fd67d81": {
      "model_module": "@jupyter-widgets/controls",
      "model_module_version": "2.0.0",
      "model_name": "HTMLModel",
      "state": {
       "layout": "IPY_MODEL_f362309f693245ecab819415e22382ee",
       "style": "IPY_MODEL_0b8d6164280b4dcb9db14c7f9bd4ea24",
       "value": "Validation DataLoader 0: 100%"
      }
     },
     "406fff47a4ed4b7081a28987a685dce5": {
      "model_module": "@jupyter-widgets/controls",
      "model_module_version": "2.0.0",
      "model_name": "HTMLModel",
      "state": {
       "layout": "IPY_MODEL_fdd5ed2beb39460b8c3edfbf252cff4a",
       "style": "IPY_MODEL_24c49b9582534af6a36a0dc875ffde34",
       "value": " 58/58 [00:02&lt;00:00, 28.17it/s]"
      }
     },
     "4070b18696d4425ea3911afb72cba43e": {
      "model_module": "@jupyter-widgets/controls",
      "model_module_version": "2.0.0",
      "model_name": "HTMLModel",
      "state": {
       "layout": "IPY_MODEL_d6e6839e9e6540e5853a561974ab4140",
       "style": "IPY_MODEL_71b223f9175e4ff0b31cf2e1578420af",
       "value": " 58/58 [00:02&lt;00:00, 26.60it/s]"
      }
     },
     "407cd35ab1a0410197ef6e45e4f622c4": {
      "model_module": "@jupyter-widgets/controls",
      "model_module_version": "2.0.0",
      "model_name": "HTMLStyleModel",
      "state": {
       "description_width": "",
       "font_size": null,
       "text_color": null
      }
     },
     "40913fb8bb7b4027aeb14fd9cd4aeacc": {
      "model_module": "@jupyter-widgets/controls",
      "model_module_version": "2.0.0",
      "model_name": "ProgressStyleModel",
      "state": {
       "description_width": ""
      }
     },
     "40e142ebcda64cb59ae6c214a668550d": {
      "model_module": "@jupyter-widgets/base",
      "model_module_version": "2.0.0",
      "model_name": "LayoutModel",
      "state": {
       "display": "inline-flex",
       "flex_flow": "row wrap",
       "visibility": "hidden",
       "width": "100%"
      }
     },
     "410b7d9ecb324ade8173f10ddd3aa603": {
      "model_module": "@jupyter-widgets/controls",
      "model_module_version": "2.0.0",
      "model_name": "HTMLStyleModel",
      "state": {
       "description_width": "",
       "font_size": null,
       "text_color": null
      }
     },
     "4114e3acae50479ca80ce7d177f05d7e": {
      "model_module": "@jupyter-widgets/controls",
      "model_module_version": "2.0.0",
      "model_name": "HTMLStyleModel",
      "state": {
       "description_width": "",
       "font_size": null,
       "text_color": null
      }
     },
     "411c7db703fd463fb9d8b5e413764e06": {
      "model_module": "@jupyter-widgets/base",
      "model_module_version": "2.0.0",
      "model_name": "LayoutModel",
      "state": {}
     },
     "41617557d6634be2bc2bc3f59bda2adc": {
      "model_module": "@jupyter-widgets/controls",
      "model_module_version": "2.0.0",
      "model_name": "HTMLModel",
      "state": {
       "layout": "IPY_MODEL_bae58775b1f247b780b6eefa33586f07",
       "style": "IPY_MODEL_a48bc1db0f864645840a2bbcbf68b12b",
       "value": "Validation DataLoader 0: 100%"
      }
     },
     "41a02079d48a41e9bcfedb547c876c37": {
      "model_module": "@jupyter-widgets/controls",
      "model_module_version": "2.0.0",
      "model_name": "HTMLStyleModel",
      "state": {
       "description_width": "",
       "font_size": null,
       "text_color": null
      }
     },
     "41ba5d568a14404daa61ffbbf265add8": {
      "model_module": "@jupyter-widgets/controls",
      "model_module_version": "2.0.0",
      "model_name": "HTMLStyleModel",
      "state": {
       "description_width": "",
       "font_size": null,
       "text_color": null
      }
     },
     "41bd25e2dc884e328ab69a49d3ffba34": {
      "model_module": "@jupyter-widgets/base",
      "model_module_version": "2.0.0",
      "model_name": "LayoutModel",
      "state": {
       "flex": "2"
      }
     },
     "41d567c9be2a40d2b1f84cd0e0736159": {
      "model_module": "@jupyter-widgets/base",
      "model_module_version": "2.0.0",
      "model_name": "LayoutModel",
      "state": {}
     },
     "41e614d12a004c839afa0d88390ca0ec": {
      "model_module": "@jupyter-widgets/controls",
      "model_module_version": "2.0.0",
      "model_name": "HTMLModel",
      "state": {
       "layout": "IPY_MODEL_e3608bf061e34941af54c342100651ea",
       "style": "IPY_MODEL_c0ffdac94d6c4328a19c746cb9cf65ab",
       "value": "Validation DataLoader 0: 100%"
      }
     },
     "420ec6b8a23a49d18c5d57f16401c676": {
      "model_module": "@jupyter-widgets/controls",
      "model_module_version": "2.0.0",
      "model_name": "HTMLStyleModel",
      "state": {
       "description_width": "",
       "font_size": null,
       "text_color": null
      }
     },
     "42193e8b47214be58293eb22e939200e": {
      "model_module": "@jupyter-widgets/base",
      "model_module_version": "2.0.0",
      "model_name": "LayoutModel",
      "state": {}
     },
     "424e745c100b4a9e8e38ea9af029716c": {
      "model_module": "@jupyter-widgets/base",
      "model_module_version": "2.0.0",
      "model_name": "LayoutModel",
      "state": {}
     },
     "425b4d8cef2242d0bd3cb14e09a8941a": {
      "model_module": "@jupyter-widgets/base",
      "model_module_version": "2.0.0",
      "model_name": "LayoutModel",
      "state": {
       "display": "inline-flex",
       "flex_flow": "row wrap",
       "visibility": "hidden",
       "width": "100%"
      }
     },
     "427c4c3dc29d42bb8a64835fa16579c9": {
      "model_module": "@jupyter-widgets/base",
      "model_module_version": "2.0.0",
      "model_name": "LayoutModel",
      "state": {}
     },
     "428c5867512f4dd38d0d598649143ff7": {
      "model_module": "@jupyter-widgets/controls",
      "model_module_version": "2.0.0",
      "model_name": "HTMLStyleModel",
      "state": {
       "description_width": "",
       "font_size": null,
       "text_color": null
      }
     },
     "42b2b8fa11c043a6a75e1721a7a1d218": {
      "model_module": "@jupyter-widgets/base",
      "model_module_version": "2.0.0",
      "model_name": "LayoutModel",
      "state": {
       "flex": "2"
      }
     },
     "42d17fdea4cb48248ef8a8c7b31aa19a": {
      "model_module": "@jupyter-widgets/controls",
      "model_module_version": "2.0.0",
      "model_name": "HTMLModel",
      "state": {
       "layout": "IPY_MODEL_2bb2ea4e4a6d410ea35dab1c1093b00a",
       "style": "IPY_MODEL_0420ea2668b04bde8ad21e96f761a8f3",
       "value": "Validation DataLoader 0: 100%"
      }
     },
     "42e4cba5c22b4013a283731425bd4044": {
      "model_module": "@jupyter-widgets/controls",
      "model_module_version": "2.0.0",
      "model_name": "HTMLModel",
      "state": {
       "layout": "IPY_MODEL_1e9c84c02e4c47d7af175d8ffc5559ae",
       "style": "IPY_MODEL_937781b6be784cddb1660644e8acc561",
       "value": "Validation DataLoader 0: 100%"
      }
     },
     "4324b14faf264a62aa6973fcc04ba329": {
      "model_module": "@jupyter-widgets/controls",
      "model_module_version": "2.0.0",
      "model_name": "ProgressStyleModel",
      "state": {
       "description_width": ""
      }
     },
     "4346f9521a7e4a30bd7209a055529ecb": {
      "model_module": "@jupyter-widgets/base",
      "model_module_version": "2.0.0",
      "model_name": "LayoutModel",
      "state": {}
     },
     "434e44b2d2f14a0c92757c5cd2371efa": {
      "model_module": "@jupyter-widgets/base",
      "model_module_version": "2.0.0",
      "model_name": "LayoutModel",
      "state": {
       "flex": "2"
      }
     },
     "43614d7f82114e3ca7e86d281ddc0f59": {
      "model_module": "@jupyter-widgets/controls",
      "model_module_version": "2.0.0",
      "model_name": "HTMLStyleModel",
      "state": {
       "description_width": "",
       "font_size": null,
       "text_color": null
      }
     },
     "43b0a2dfd5c741e7a8fb44f74930b6b4": {
      "model_module": "@jupyter-widgets/base",
      "model_module_version": "2.0.0",
      "model_name": "LayoutModel",
      "state": {}
     },
     "4424816f076f426f9d8ccc32753a8ace": {
      "model_module": "@jupyter-widgets/controls",
      "model_module_version": "2.0.0",
      "model_name": "HTMLStyleModel",
      "state": {
       "description_width": "",
       "font_size": null,
       "text_color": null
      }
     },
     "4438137c20c54904a6cfaf4b53749aba": {
      "model_module": "@jupyter-widgets/controls",
      "model_module_version": "2.0.0",
      "model_name": "HTMLStyleModel",
      "state": {
       "description_width": "",
       "font_size": null,
       "text_color": null
      }
     },
     "44477d1398f04f86bc0262a008fb48ff": {
      "model_module": "@jupyter-widgets/controls",
      "model_module_version": "2.0.0",
      "model_name": "HTMLModel",
      "state": {
       "layout": "IPY_MODEL_198478fdd47e429eb37bfa3d08069f64",
       "style": "IPY_MODEL_5b965db271484cd49f6a3e3cdf5bed0b",
       "value": "Validation DataLoader 0: 100%"
      }
     },
     "446e49f0cf0a44ad911fd88431cd2f8b": {
      "model_module": "@jupyter-widgets/base",
      "model_module_version": "2.0.0",
      "model_name": "LayoutModel",
      "state": {
       "flex": "2"
      }
     },
     "4491ac47405047ca8c16c202733bc02c": {
      "model_module": "@jupyter-widgets/controls",
      "model_module_version": "2.0.0",
      "model_name": "HTMLModel",
      "state": {
       "layout": "IPY_MODEL_785b7d00d5c4465b9d90ed9c289c42ca",
       "style": "IPY_MODEL_d162246d4e6f463982e5eb964698f03a",
       "value": "Validation DataLoader 0: 100%"
      }
     },
     "449c0c2ba73941e896a02acde9b0e395": {
      "model_module": "@jupyter-widgets/controls",
      "model_module_version": "2.0.0",
      "model_name": "ProgressStyleModel",
      "state": {
       "description_width": ""
      }
     },
     "44f8f59d310f428e9b13363700172b64": {
      "model_module": "@jupyter-widgets/controls",
      "model_module_version": "2.0.0",
      "model_name": "HTMLModel",
      "state": {
       "layout": "IPY_MODEL_7bcb47d5fd66476c88906c5f541ac151",
       "style": "IPY_MODEL_66e5620470e745e4840705b4a8d97eae",
       "value": " 58/58 [00:02&lt;00:00, 26.00it/s]"
      }
     },
     "4530bbe5d1144586a04916798644e4e6": {
      "model_module": "@jupyter-widgets/controls",
      "model_module_version": "2.0.0",
      "model_name": "HTMLModel",
      "state": {
       "layout": "IPY_MODEL_73963cc09fcf477fa3a55ea9b1a933b3",
       "style": "IPY_MODEL_80c8f6ce00ae4e7fbc330c4d7e3a8a62",
       "value": "Validation DataLoader 0: 100%"
      }
     },
     "457b60aaf32c41a5b5f462d85868f7cb": {
      "model_module": "@jupyter-widgets/controls",
      "model_module_version": "2.0.0",
      "model_name": "HTMLStyleModel",
      "state": {
       "description_width": "",
       "font_size": null,
       "text_color": null
      }
     },
     "4595f4b728794e4f909aceaf071dedc6": {
      "model_module": "@jupyter-widgets/controls",
      "model_module_version": "2.0.0",
      "model_name": "ProgressStyleModel",
      "state": {
       "description_width": ""
      }
     },
     "459d80b41bf54bb0872ea25ea23746e1": {
      "model_module": "@jupyter-widgets/controls",
      "model_module_version": "2.0.0",
      "model_name": "HTMLModel",
      "state": {
       "layout": "IPY_MODEL_b6963b9f07b7441a8468c29c3f8d58a2",
       "style": "IPY_MODEL_d0ddce111711470abac81818e75ba825",
       "value": " 58/58 [00:02&lt;00:00, 26.07it/s]"
      }
     },
     "45d3a7393df84f4b889fd5fa8dbb7b35": {
      "model_module": "@jupyter-widgets/controls",
      "model_module_version": "2.0.0",
      "model_name": "HTMLModel",
      "state": {
       "layout": "IPY_MODEL_b0068a99f7e5464bba2f9bb4a9b4994a",
       "style": "IPY_MODEL_69a30491399b488ca1a6ae0d998aa138",
       "value": "Validation DataLoader 0: 100%"
      }
     },
     "45f2726068cc493eb8850d291a89f024": {
      "model_module": "@jupyter-widgets/controls",
      "model_module_version": "2.0.0",
      "model_name": "HTMLStyleModel",
      "state": {
       "description_width": "",
       "font_size": null,
       "text_color": null
      }
     },
     "461582ccb0e54c70881e1d39c043c1bc": {
      "model_module": "@jupyter-widgets/controls",
      "model_module_version": "2.0.0",
      "model_name": "HTMLModel",
      "state": {
       "layout": "IPY_MODEL_a868d6253c3443538a453abc1a9f02ef",
       "style": "IPY_MODEL_fc5a692eb5a14582ad4f1609bc451e6d",
       "value": " 58/58 [00:02&lt;00:00, 26.22it/s]"
      }
     },
     "461f736ca6e345398c42e938e372a554": {
      "model_module": "@jupyter-widgets/base",
      "model_module_version": "2.0.0",
      "model_name": "LayoutModel",
      "state": {
       "display": "inline-flex",
       "flex_flow": "row wrap",
       "visibility": "hidden",
       "width": "100%"
      }
     },
     "46270965a1494fcbace8ab32c87eee6c": {
      "model_module": "@jupyter-widgets/controls",
      "model_module_version": "2.0.0",
      "model_name": "ProgressStyleModel",
      "state": {
       "description_width": ""
      }
     },
     "46277fdd51df43c4b4c739843a775559": {
      "model_module": "@jupyter-widgets/controls",
      "model_module_version": "2.0.0",
      "model_name": "HTMLStyleModel",
      "state": {
       "description_width": "",
       "font_size": null,
       "text_color": null
      }
     },
     "463e632759e34c35916de99aad091178": {
      "model_module": "@jupyter-widgets/controls",
      "model_module_version": "2.0.0",
      "model_name": "HTMLStyleModel",
      "state": {
       "description_width": "",
       "font_size": null,
       "text_color": null
      }
     },
     "4658d0b301c940588810e911e4d24570": {
      "model_module": "@jupyter-widgets/base",
      "model_module_version": "2.0.0",
      "model_name": "LayoutModel",
      "state": {
       "flex": "2"
      }
     },
     "465d1e4b94de40deb1fd10c26f534dd2": {
      "model_module": "@jupyter-widgets/base",
      "model_module_version": "2.0.0",
      "model_name": "LayoutModel",
      "state": {}
     },
     "466d5c40c93644d08e311a2c850d3fe4": {
      "model_module": "@jupyter-widgets/controls",
      "model_module_version": "2.0.0",
      "model_name": "HTMLStyleModel",
      "state": {
       "description_width": "",
       "font_size": null,
       "text_color": null
      }
     },
     "467554e6f285482dbceb44e9681a6b93": {
      "model_module": "@jupyter-widgets/base",
      "model_module_version": "2.0.0",
      "model_name": "LayoutModel",
      "state": {
       "display": "inline-flex",
       "flex_flow": "row wrap",
       "visibility": "hidden",
       "width": "100%"
      }
     },
     "46a60dd22e554796bf2e16ef042c71e7": {
      "model_module": "@jupyter-widgets/controls",
      "model_module_version": "2.0.0",
      "model_name": "HTMLModel",
      "state": {
       "layout": "IPY_MODEL_d25b242aa7aa4744a0a9dafa6373da63",
       "style": "IPY_MODEL_c8b38097131f4d73aad763509d83afda",
       "value": " 58/58 [00:02&lt;00:00, 25.85it/s]"
      }
     },
     "46d41f92a91f41dfb11e513652d7e486": {
      "model_module": "@jupyter-widgets/base",
      "model_module_version": "2.0.0",
      "model_name": "LayoutModel",
      "state": {
       "flex": "2"
      }
     },
     "46ebcf0b06184b71a863109e25a454fd": {
      "model_module": "@jupyter-widgets/base",
      "model_module_version": "2.0.0",
      "model_name": "LayoutModel",
      "state": {}
     },
     "46fe29fb2c3345e89fc250815ddaca81": {
      "model_module": "@jupyter-widgets/controls",
      "model_module_version": "2.0.0",
      "model_name": "HTMLModel",
      "state": {
       "layout": "IPY_MODEL_6c8fc9fb6d3e41fa89f12bb676627943",
       "style": "IPY_MODEL_13f030ea23ee43c6b81dc891b32c8cc8",
       "value": " 58/58 [00:02&lt;00:00, 28.38it/s]"
      }
     },
     "47299542486b41dab5b4c16895ec89e8": {
      "model_module": "@jupyter-widgets/controls",
      "model_module_version": "2.0.0",
      "model_name": "HTMLModel",
      "state": {
       "layout": "IPY_MODEL_065ebf3ac78f4e3baaa431d3e72dd426",
       "style": "IPY_MODEL_b7730e3d320246e19cf7ee58a54c3cf6",
       "value": "Validation DataLoader 0: 100%"
      }
     },
     "47609c74cf964a70826779457ab48b18": {
      "model_module": "@jupyter-widgets/base",
      "model_module_version": "2.0.0",
      "model_name": "LayoutModel",
      "state": {}
     },
     "47aad04535104095a4daf36676c7c122": {
      "model_module": "@jupyter-widgets/controls",
      "model_module_version": "2.0.0",
      "model_name": "ProgressStyleModel",
      "state": {
       "description_width": ""
      }
     },
     "47f1d8f2b3b8462083be279e45460946": {
      "model_module": "@jupyter-widgets/base",
      "model_module_version": "2.0.0",
      "model_name": "LayoutModel",
      "state": {
       "flex": "2"
      }
     },
     "489f69868d574718aa28e6498ed78c4d": {
      "model_module": "@jupyter-widgets/controls",
      "model_module_version": "2.0.0",
      "model_name": "HTMLStyleModel",
      "state": {
       "description_width": "",
       "font_size": null,
       "text_color": null
      }
     },
     "48a1195e61654befaef04ce7696af3a6": {
      "model_module": "@jupyter-widgets/base",
      "model_module_version": "2.0.0",
      "model_name": "LayoutModel",
      "state": {}
     },
     "48a68268fe5b4469bb59ff1c2b5938d9": {
      "model_module": "@jupyter-widgets/controls",
      "model_module_version": "2.0.0",
      "model_name": "HTMLModel",
      "state": {
       "layout": "IPY_MODEL_8efd14d8c3a3412a9630b46a4569c819",
       "style": "IPY_MODEL_d49a84b4dd9b47f9bc286ea6e1c3af75",
       "value": " 58/58 [00:02&lt;00:00, 24.40it/s]"
      }
     },
     "48abe6bfe1da483b9adfde28a07d99c7": {
      "model_module": "@jupyter-widgets/controls",
      "model_module_version": "2.0.0",
      "model_name": "FloatProgressModel",
      "state": {
       "layout": "IPY_MODEL_386e8645173d4de7947b7750c86f4a26",
       "max": 58,
       "style": "IPY_MODEL_79ee2a68e0c04435a302f02d586a7797",
       "value": 58
      }
     },
     "491455f9558249a3a61b6dac83e2a917": {
      "model_module": "@jupyter-widgets/controls",
      "model_module_version": "2.0.0",
      "model_name": "HTMLModel",
      "state": {
       "layout": "IPY_MODEL_b0403ef7cd4f41219a48cf34dadf44f0",
       "style": "IPY_MODEL_0e68699636b643c88e66955f4726251d",
       "value": " 58/58 [00:02&lt;00:00, 28.39it/s]"
      }
     },
     "4915645b944c4fc78abfa2e120541b00": {
      "model_module": "@jupyter-widgets/base",
      "model_module_version": "2.0.0",
      "model_name": "LayoutModel",
      "state": {}
     },
     "4930964bdda7422c886b38d214a37d2e": {
      "model_module": "@jupyter-widgets/controls",
      "model_module_version": "2.0.0",
      "model_name": "ProgressStyleModel",
      "state": {
       "description_width": ""
      }
     },
     "4959eacd8532457183f36fc5286c6099": {
      "model_module": "@jupyter-widgets/controls",
      "model_module_version": "2.0.0",
      "model_name": "HTMLStyleModel",
      "state": {
       "description_width": "",
       "font_size": null,
       "text_color": null
      }
     },
     "4965a48fac0c4771a4a1ff99af9d2cd3": {
      "model_module": "@jupyter-widgets/controls",
      "model_module_version": "2.0.0",
      "model_name": "FloatProgressModel",
      "state": {
       "layout": "IPY_MODEL_01249d125a8a4b5595d913418b5c5565",
       "max": 58,
       "style": "IPY_MODEL_26f22f7b88874dfa9540648db6bb9211",
       "value": 58
      }
     },
     "497148c0fbff4542922b0463b6b77aad": {
      "model_module": "@jupyter-widgets/base",
      "model_module_version": "2.0.0",
      "model_name": "LayoutModel",
      "state": {
       "display": "inline-flex",
       "flex_flow": "row wrap",
       "visibility": "hidden",
       "width": "100%"
      }
     },
     "49791dfb894046f58ed88b4132df48c7": {
      "model_module": "@jupyter-widgets/controls",
      "model_module_version": "2.0.0",
      "model_name": "HTMLModel",
      "state": {
       "layout": "IPY_MODEL_d194bf08750448aa8d4b5a5ae3032332",
       "style": "IPY_MODEL_9bf6a6a8c3c244f7a311c2f45e355f33",
       "value": " 58/58 [00:02&lt;00:00, 26.99it/s]"
      }
     },
     "49d29471d2884321aba83336fe0dc27c": {
      "model_module": "@jupyter-widgets/controls",
      "model_module_version": "2.0.0",
      "model_name": "FloatProgressModel",
      "state": {
       "layout": "IPY_MODEL_f7c30e0f344e4ac189b294c1ac8cc3c7",
       "max": 58,
       "style": "IPY_MODEL_eef7264dabfd4db7a740a06e681a0bb7",
       "value": 58
      }
     },
     "4a5f222755174222a213209d95acbed9": {
      "model_module": "@jupyter-widgets/controls",
      "model_module_version": "2.0.0",
      "model_name": "HTMLModel",
      "state": {
       "layout": "IPY_MODEL_9edee63d1f754296a0da942fb5c9792a",
       "style": "IPY_MODEL_45f2726068cc493eb8850d291a89f024",
       "value": "Validation DataLoader 0: 100%"
      }
     },
     "4acab9b8abb34166a73b4f3dee53d204": {
      "model_module": "@jupyter-widgets/base",
      "model_module_version": "2.0.0",
      "model_name": "LayoutModel",
      "state": {
       "display": "inline-flex",
       "flex_flow": "row wrap",
       "visibility": "hidden",
       "width": "100%"
      }
     },
     "4ad557d88fcc4f54a8fcd606857a6f29": {
      "model_module": "@jupyter-widgets/controls",
      "model_module_version": "2.0.0",
      "model_name": "HTMLModel",
      "state": {
       "layout": "IPY_MODEL_ba4a4833da294b34905812a307cf6feb",
       "style": "IPY_MODEL_07f89ab8274840b58b345af5379472a9",
       "value": "Validation DataLoader 0: 100%"
      }
     },
     "4af2841ef9b946169956137d6271649e": {
      "model_module": "@jupyter-widgets/controls",
      "model_module_version": "2.0.0",
      "model_name": "HTMLModel",
      "state": {
       "layout": "IPY_MODEL_03b71067c2b64129940db42fe1894335",
       "style": "IPY_MODEL_6fa72c779a104f4899baf2b86173b1fd",
       "value": " 58/58 [00:02&lt;00:00, 27.75it/s]"
      }
     },
     "4af912d3549c4ad2ba52f597252fa1ec": {
      "model_module": "@jupyter-widgets/controls",
      "model_module_version": "2.0.0",
      "model_name": "HTMLStyleModel",
      "state": {
       "description_width": "",
       "font_size": null,
       "text_color": null
      }
     },
     "4b35f22776974bd895e8b148809b9a2b": {
      "model_module": "@jupyter-widgets/base",
      "model_module_version": "2.0.0",
      "model_name": "LayoutModel",
      "state": {
       "display": "inline-flex",
       "flex_flow": "row wrap",
       "visibility": "hidden",
       "width": "100%"
      }
     },
     "4b4231dc236c44e6a55bf68bfeb0dd49": {
      "model_module": "@jupyter-widgets/base",
      "model_module_version": "2.0.0",
      "model_name": "LayoutModel",
      "state": {
       "display": "inline-flex",
       "flex_flow": "row wrap",
       "visibility": "hidden",
       "width": "100%"
      }
     },
     "4b723df3ad8649f297c815077690b5c7": {
      "model_module": "@jupyter-widgets/base",
      "model_module_version": "2.0.0",
      "model_name": "LayoutModel",
      "state": {}
     },
     "4b828b39e18245488dce9609fbd6f537": {
      "model_module": "@jupyter-widgets/controls",
      "model_module_version": "2.0.0",
      "model_name": "HTMLStyleModel",
      "state": {
       "description_width": "",
       "font_size": null,
       "text_color": null
      }
     },
     "4ba5f1b90f1f4e1fb3cf7a84d70cbf4b": {
      "model_module": "@jupyter-widgets/base",
      "model_module_version": "2.0.0",
      "model_name": "LayoutModel",
      "state": {}
     },
     "4ba72107d54a494a9535ee3d9e0cbfd8": {
      "model_module": "@jupyter-widgets/controls",
      "model_module_version": "2.0.0",
      "model_name": "HTMLStyleModel",
      "state": {
       "description_width": "",
       "font_size": null,
       "text_color": null
      }
     },
     "4bbe875461d64d648b025bf3f5d7a446": {
      "model_module": "@jupyter-widgets/base",
      "model_module_version": "2.0.0",
      "model_name": "LayoutModel",
      "state": {
       "display": "inline-flex",
       "flex_flow": "row wrap",
       "visibility": "hidden",
       "width": "100%"
      }
     },
     "4be576ed73b04112af692708331df160": {
      "model_module": "@jupyter-widgets/base",
      "model_module_version": "2.0.0",
      "model_name": "LayoutModel",
      "state": {}
     },
     "4bf71fe3894446aca2bb597c982febad": {
      "model_module": "@jupyter-widgets/base",
      "model_module_version": "2.0.0",
      "model_name": "LayoutModel",
      "state": {}
     },
     "4c15a11ed58441a2a3cea83fd46aa0a8": {
      "model_module": "@jupyter-widgets/base",
      "model_module_version": "2.0.0",
      "model_name": "LayoutModel",
      "state": {}
     },
     "4c1bb0e6da7143dc838ef550d138cc87": {
      "model_module": "@jupyter-widgets/base",
      "model_module_version": "2.0.0",
      "model_name": "LayoutModel",
      "state": {}
     },
     "4c1cc7ee919c4104a5fdc0142c727aaf": {
      "model_module": "@jupyter-widgets/base",
      "model_module_version": "2.0.0",
      "model_name": "LayoutModel",
      "state": {
       "display": "inline-flex",
       "flex_flow": "row wrap",
       "visibility": "hidden",
       "width": "100%"
      }
     },
     "4c1ee3e461c04204a447028f9333d848": {
      "model_module": "@jupyter-widgets/controls",
      "model_module_version": "2.0.0",
      "model_name": "HTMLModel",
      "state": {
       "layout": "IPY_MODEL_6cadf4d3091a4bcc8abe466cf266307a",
       "style": "IPY_MODEL_55542759b7b548108cccc7249413e97a",
       "value": "Validation DataLoader 0: 100%"
      }
     },
     "4c220f90f7aa47dbb0a89d77bef575a8": {
      "model_module": "@jupyter-widgets/controls",
      "model_module_version": "2.0.0",
      "model_name": "HTMLModel",
      "state": {
       "layout": "IPY_MODEL_80e64eacf2cb4fafa814b249bd6ce996",
       "style": "IPY_MODEL_894ddfcd5024493a85aed12d8e6c9626",
       "value": " 58/58 [00:02&lt;00:00, 27.38it/s]"
      }
     },
     "4c538c6809a4473e80280a8876bd2b96": {
      "model_module": "@jupyter-widgets/base",
      "model_module_version": "2.0.0",
      "model_name": "LayoutModel",
      "state": {
       "display": "inline-flex",
       "flex_flow": "row wrap",
       "visibility": "hidden",
       "width": "100%"
      }
     },
     "4c5a8c2bd8ab4f58b301f91f83db4d57": {
      "model_module": "@jupyter-widgets/base",
      "model_module_version": "2.0.0",
      "model_name": "LayoutModel",
      "state": {
       "flex": "2"
      }
     },
     "4c6d92e083d94eeca7bc74b32e383dd1": {
      "model_module": "@jupyter-widgets/controls",
      "model_module_version": "2.0.0",
      "model_name": "HTMLModel",
      "state": {
       "layout": "IPY_MODEL_17197cfb4dd843848fe3b66c83b53768",
       "style": "IPY_MODEL_5b42e9d607b44215808521216a589e6c",
       "value": " 58/58 [00:02&lt;00:00, 27.21it/s]"
      }
     },
     "4c7ea9f61a334b51902fa35226cf92f3": {
      "model_module": "@jupyter-widgets/controls",
      "model_module_version": "2.0.0",
      "model_name": "HTMLModel",
      "state": {
       "layout": "IPY_MODEL_ea6b80a87fb04597b9ec924cd5361594",
       "style": "IPY_MODEL_009133723c5c46c1b3dc3982e9ae4d89",
       "value": "Validation DataLoader 0: 100%"
      }
     },
     "4c9bd60951874b8b8c7bdeff92ae3925": {
      "model_module": "@jupyter-widgets/controls",
      "model_module_version": "2.0.0",
      "model_name": "FloatProgressModel",
      "state": {
       "layout": "IPY_MODEL_15756b171cfb41148dbdc971a1feb60c",
       "max": 58,
       "style": "IPY_MODEL_71d4ffee0da44993b09738db55f79f93",
       "value": 58
      }
     },
     "4cdd6eed971146129b33e9ad1f9ae7c9": {
      "model_module": "@jupyter-widgets/controls",
      "model_module_version": "2.0.0",
      "model_name": "HTMLModel",
      "state": {
       "layout": "IPY_MODEL_c62d46aaeaa247c69f77693369fc9d5b",
       "style": "IPY_MODEL_13f6d11ac3eb4fe6897de609b5e49ca9",
       "value": " 58/58 [00:02&lt;00:00, 25.34it/s]"
      }
     },
     "4cf24365269d4f52a4bb10312920838b": {
      "model_module": "@jupyter-widgets/controls",
      "model_module_version": "2.0.0",
      "model_name": "HTMLStyleModel",
      "state": {
       "description_width": "",
       "font_size": null,
       "text_color": null
      }
     },
     "4cf3be0598df456885acc49d829a80d6": {
      "model_module": "@jupyter-widgets/controls",
      "model_module_version": "2.0.0",
      "model_name": "HTMLStyleModel",
      "state": {
       "description_width": "",
       "font_size": null,
       "text_color": null
      }
     },
     "4cf5373078f04ec8bc69a51ab83fb717": {
      "model_module": "@jupyter-widgets/controls",
      "model_module_version": "2.0.0",
      "model_name": "HTMLStyleModel",
      "state": {
       "description_width": "",
       "font_size": null,
       "text_color": null
      }
     },
     "4d05863230654443898f5865f3f856ae": {
      "model_module": "@jupyter-widgets/controls",
      "model_module_version": "2.0.0",
      "model_name": "FloatProgressModel",
      "state": {
       "layout": "IPY_MODEL_1f47eaac4d51402f8b18ee25672cc5c9",
       "max": 58,
       "style": "IPY_MODEL_c166b1d7c2c2441f99602ddc53ea1761",
       "value": 58
      }
     },
     "4d48a9dfb35746e1bba032daefbd062f": {
      "model_module": "@jupyter-widgets/controls",
      "model_module_version": "2.0.0",
      "model_name": "HTMLModel",
      "state": {
       "layout": "IPY_MODEL_85d499e938584d3bb4fd8a4abd7e430f",
       "style": "IPY_MODEL_466d5c40c93644d08e311a2c850d3fe4",
       "value": "Validation DataLoader 0: 100%"
      }
     },
     "4d4f4aef767349ae9933302a36823c9c": {
      "model_module": "@jupyter-widgets/controls",
      "model_module_version": "2.0.0",
      "model_name": "FloatProgressModel",
      "state": {
       "layout": "IPY_MODEL_c1e4b6bfc62e40e29e14e633251f41d8",
       "max": 58,
       "style": "IPY_MODEL_ea8e30f59c414d22a6ffa0ea2f49a4b8",
       "value": 58
      }
     },
     "4d8fbb1ab24f49b7b62cb52e00f16d2f": {
      "model_module": "@jupyter-widgets/base",
      "model_module_version": "2.0.0",
      "model_name": "LayoutModel",
      "state": {}
     },
     "4db3b235d51148579d018afe9647306f": {
      "model_module": "@jupyter-widgets/base",
      "model_module_version": "2.0.0",
      "model_name": "LayoutModel",
      "state": {}
     },
     "4e19082941c4495fa3789ab4df0fe1d7": {
      "model_module": "@jupyter-widgets/controls",
      "model_module_version": "2.0.0",
      "model_name": "HTMLModel",
      "state": {
       "layout": "IPY_MODEL_8e2d6a47df3f47d0ab46434cf24cc778",
       "style": "IPY_MODEL_20d90c7102ec4e4f86eb8c71dfa0d739",
       "value": " 58/58 [00:02&lt;00:00, 25.65it/s]"
      }
     },
     "4e1b8cfe6f614d4f81f8173e120f0fe9": {
      "model_module": "@jupyter-widgets/controls",
      "model_module_version": "2.0.0",
      "model_name": "HTMLStyleModel",
      "state": {
       "description_width": "",
       "font_size": null,
       "text_color": null
      }
     },
     "4e1c05fbb3e34f3d8ab81cd87777a968": {
      "model_module": "@jupyter-widgets/base",
      "model_module_version": "2.0.0",
      "model_name": "LayoutModel",
      "state": {}
     },
     "4e6b0b0c136b46ecba1ea2686ca42d3b": {
      "model_module": "@jupyter-widgets/base",
      "model_module_version": "2.0.0",
      "model_name": "LayoutModel",
      "state": {
       "flex": "2"
      }
     },
     "4ee2798373db463e9329cec43cf6a465": {
      "model_module": "@jupyter-widgets/base",
      "model_module_version": "2.0.0",
      "model_name": "LayoutModel",
      "state": {}
     },
     "4f25b30cc32a4a93b76ba51a7616e945": {
      "model_module": "@jupyter-widgets/base",
      "model_module_version": "2.0.0",
      "model_name": "LayoutModel",
      "state": {
       "display": "inline-flex",
       "flex_flow": "row wrap",
       "visibility": "hidden",
       "width": "100%"
      }
     },
     "4f55ab0e95954810aa524c30faa8a939": {
      "model_module": "@jupyter-widgets/controls",
      "model_module_version": "2.0.0",
      "model_name": "HTMLModel",
      "state": {
       "layout": "IPY_MODEL_5c9394f83f8940dca78223277a745b85",
       "style": "IPY_MODEL_5f3152a99fd24f84b13982b6e791256c",
       "value": " 58/58 [00:02&lt;00:00, 27.27it/s]"
      }
     },
     "4f598bb8946c46ba80657bea47d40559": {
      "model_module": "@jupyter-widgets/base",
      "model_module_version": "2.0.0",
      "model_name": "LayoutModel",
      "state": {
       "display": "inline-flex",
       "flex_flow": "row wrap",
       "visibility": "hidden",
       "width": "100%"
      }
     },
     "4f8828918e3040b3990696d8efa3035e": {
      "model_module": "@jupyter-widgets/base",
      "model_module_version": "2.0.0",
      "model_name": "LayoutModel",
      "state": {
       "display": "inline-flex",
       "flex_flow": "row wrap",
       "visibility": "hidden",
       "width": "100%"
      }
     },
     "4fcbe0ae77844b0aac11713fe79bb3e2": {
      "model_module": "@jupyter-widgets/controls",
      "model_module_version": "2.0.0",
      "model_name": "HTMLStyleModel",
      "state": {
       "description_width": "",
       "font_size": null,
       "text_color": null
      }
     },
     "4fd4f0e385d64e1997133eccec2de4d3": {
      "model_module": "@jupyter-widgets/base",
      "model_module_version": "2.0.0",
      "model_name": "LayoutModel",
      "state": {
       "display": "inline-flex",
       "flex_flow": "row wrap",
       "visibility": "hidden",
       "width": "100%"
      }
     },
     "5018a8384b6441e289a8a9616c44256b": {
      "model_module": "@jupyter-widgets/base",
      "model_module_version": "2.0.0",
      "model_name": "LayoutModel",
      "state": {
       "flex": "2"
      }
     },
     "503984a6560b4b4099d732599ccc1a8d": {
      "model_module": "@jupyter-widgets/controls",
      "model_module_version": "2.0.0",
      "model_name": "ProgressStyleModel",
      "state": {
       "description_width": ""
      }
     },
     "503fa2f7ef2e4ba49bae8ab6e5cf87c7": {
      "model_module": "@jupyter-widgets/controls",
      "model_module_version": "2.0.0",
      "model_name": "HTMLStyleModel",
      "state": {
       "description_width": "",
       "font_size": null,
       "text_color": null
      }
     },
     "5041f49b67eb4802b636e7cadfda88cf": {
      "model_module": "@jupyter-widgets/base",
      "model_module_version": "2.0.0",
      "model_name": "LayoutModel",
      "state": {}
     },
     "509565e86cb04346bc5c05cd4e34eeb6": {
      "model_module": "@jupyter-widgets/base",
      "model_module_version": "2.0.0",
      "model_name": "LayoutModel",
      "state": {
       "display": "inline-flex",
       "flex_flow": "row wrap",
       "visibility": "hidden",
       "width": "100%"
      }
     },
     "5163324e54df40d096c68f4d8a4b2456": {
      "model_module": "@jupyter-widgets/controls",
      "model_module_version": "2.0.0",
      "model_name": "ProgressStyleModel",
      "state": {
       "description_width": ""
      }
     },
     "51b4475a4e544f989c3810de232a33fe": {
      "model_module": "@jupyter-widgets/controls",
      "model_module_version": "2.0.0",
      "model_name": "FloatProgressModel",
      "state": {
       "layout": "IPY_MODEL_434e44b2d2f14a0c92757c5cd2371efa",
       "max": 58,
       "style": "IPY_MODEL_2d2b781708ba4a04a70ed12b7c97f7cc",
       "value": 58
      }
     },
     "51d367f92b8540b8bae22c1b2a52219c": {
      "model_module": "@jupyter-widgets/controls",
      "model_module_version": "2.0.0",
      "model_name": "HTMLStyleModel",
      "state": {
       "description_width": "",
       "font_size": null,
       "text_color": null
      }
     },
     "51ddae84ae714873b7c704c1d9685bcd": {
      "model_module": "@jupyter-widgets/controls",
      "model_module_version": "2.0.0",
      "model_name": "HTMLModel",
      "state": {
       "layout": "IPY_MODEL_83eb80fe57f547b5bc5e9c32eb3b0eb1",
       "style": "IPY_MODEL_0e6d1bb6bdd8406cbd349a9eb9686e30",
       "value": " 58/58 [00:02&lt;00:00, 27.24it/s]"
      }
     },
     "51e9f18f468e43038a04f83940bb1efd": {
      "model_module": "@jupyter-widgets/controls",
      "model_module_version": "2.0.0",
      "model_name": "HTMLModel",
      "state": {
       "layout": "IPY_MODEL_0d614cd99ebb4a3fa9fa9fe6afdc7620",
       "style": "IPY_MODEL_fe6bc6862d6f490f948311498250f92a",
       "value": "Validation DataLoader 0: 100%"
      }
     },
     "5210c0b508954147ac25e13c0945561f": {
      "model_module": "@jupyter-widgets/controls",
      "model_module_version": "2.0.0",
      "model_name": "ProgressStyleModel",
      "state": {
       "description_width": ""
      }
     },
     "5264665177204b2887eed29d1546441a": {
      "model_module": "@jupyter-widgets/controls",
      "model_module_version": "2.0.0",
      "model_name": "FloatProgressModel",
      "state": {
       "layout": "IPY_MODEL_260dae7572d540cfab4935c52b1a7366",
       "max": 58,
       "style": "IPY_MODEL_004491d34cd24782841eb8452ebaa928",
       "value": 58
      }
     },
     "5268f50f50284d53a61029248f22b432": {
      "model_module": "@jupyter-widgets/base",
      "model_module_version": "2.0.0",
      "model_name": "LayoutModel",
      "state": {}
     },
     "526e5d6918634fea97e30c279283faf6": {
      "model_module": "@jupyter-widgets/controls",
      "model_module_version": "2.0.0",
      "model_name": "FloatProgressModel",
      "state": {
       "layout": "IPY_MODEL_8966c96880704b19924cd20401837527",
       "max": 58,
       "style": "IPY_MODEL_d53067a9e27847129d31c3ea7fbd1622",
       "value": 58
      }
     },
     "527f2acf1c4b41e383bd771c48bf3456": {
      "model_module": "@jupyter-widgets/controls",
      "model_module_version": "2.0.0",
      "model_name": "HTMLStyleModel",
      "state": {
       "description_width": "",
       "font_size": null,
       "text_color": null
      }
     },
     "5296418b3eab46f085870e3d11a6293a": {
      "model_module": "@jupyter-widgets/controls",
      "model_module_version": "2.0.0",
      "model_name": "HTMLModel",
      "state": {
       "layout": "IPY_MODEL_284ff7c82a4643dab763337c560d2092",
       "style": "IPY_MODEL_6bfaa4620f634355b18a89c34a225b73",
       "value": " 58/58 [00:02&lt;00:00, 26.54it/s]"
      }
     },
     "529b2d2e66a149cbaee60c936fe10b72": {
      "model_module": "@jupyter-widgets/controls",
      "model_module_version": "2.0.0",
      "model_name": "ProgressStyleModel",
      "state": {
       "description_width": ""
      }
     },
     "52c2b240fea742978ddd4c58a99458a2": {
      "model_module": "@jupyter-widgets/base",
      "model_module_version": "2.0.0",
      "model_name": "LayoutModel",
      "state": {
       "display": "inline-flex",
       "flex_flow": "row wrap",
       "visibility": "hidden",
       "width": "100%"
      }
     },
     "52c5a14782c940d1ba4a4cf84c524df3": {
      "model_module": "@jupyter-widgets/base",
      "model_module_version": "2.0.0",
      "model_name": "LayoutModel",
      "state": {}
     },
     "52e85125564249c7b918a60772756179": {
      "model_module": "@jupyter-widgets/controls",
      "model_module_version": "2.0.0",
      "model_name": "ProgressStyleModel",
      "state": {
       "description_width": ""
      }
     },
     "52ef2daefe7f43cfa7a21ecc621c2a5d": {
      "model_module": "@jupyter-widgets/controls",
      "model_module_version": "2.0.0",
      "model_name": "FloatProgressModel",
      "state": {
       "layout": "IPY_MODEL_17a58c1d51a045c3b5c5ab21b6d48ec2",
       "max": 58,
       "style": "IPY_MODEL_3fd9d64cf620419193953bcc891a5b9b",
       "value": 58
      }
     },
     "52fb798f43de47eaa03d393e0c16acc1": {
      "model_module": "@jupyter-widgets/base",
      "model_module_version": "2.0.0",
      "model_name": "LayoutModel",
      "state": {}
     },
     "532e1a41c9224d01b59b7811ceb002a8": {
      "model_module": "@jupyter-widgets/controls",
      "model_module_version": "2.0.0",
      "model_name": "FloatProgressModel",
      "state": {
       "layout": "IPY_MODEL_7ff239c8f35742a98a9859686950672b",
       "max": 58,
       "style": "IPY_MODEL_ac456145227542afb2c9f66e6dba5b33",
       "value": 58
      }
     },
     "534177acbb1c47248bd261b1795ac7c1": {
      "model_module": "@jupyter-widgets/controls",
      "model_module_version": "2.0.0",
      "model_name": "HTMLStyleModel",
      "state": {
       "description_width": "",
       "font_size": null,
       "text_color": null
      }
     },
     "53453ee8b38144c184589e5016235766": {
      "model_module": "@jupyter-widgets/base",
      "model_module_version": "2.0.0",
      "model_name": "LayoutModel",
      "state": {
       "flex": "2"
      }
     },
     "5346985006e4444f86d60d9faef5f6db": {
      "model_module": "@jupyter-widgets/controls",
      "model_module_version": "2.0.0",
      "model_name": "HTMLStyleModel",
      "state": {
       "description_width": "",
       "font_size": null,
       "text_color": null
      }
     },
     "53532c93cf77427b990e6328937fc96a": {
      "model_module": "@jupyter-widgets/controls",
      "model_module_version": "2.0.0",
      "model_name": "HTMLModel",
      "state": {
       "layout": "IPY_MODEL_fcb6f9a0ab4a408591dfa5d6241bd944",
       "style": "IPY_MODEL_87ccc6b636f84bf4ac9ec24a6f915f66",
       "value": " 58/58 [00:02&lt;00:00, 25.70it/s]"
      }
     },
     "5370e02935a449e9828941c553d2c8cb": {
      "model_module": "@jupyter-widgets/controls",
      "model_module_version": "2.0.0",
      "model_name": "ProgressStyleModel",
      "state": {
       "description_width": ""
      }
     },
     "53835d17c403458d902ac96f56feb7d6": {
      "model_module": "@jupyter-widgets/controls",
      "model_module_version": "2.0.0",
      "model_name": "FloatProgressModel",
      "state": {
       "layout": "IPY_MODEL_84241ab077c740219e8b1967523b6f42",
       "max": 58,
       "style": "IPY_MODEL_3ab5bc7f582a44eb943be7753615ec8d",
       "value": 58
      }
     },
     "53c194317f0046dc95b0136da384e825": {
      "model_module": "@jupyter-widgets/controls",
      "model_module_version": "2.0.0",
      "model_name": "ProgressStyleModel",
      "state": {
       "description_width": ""
      }
     },
     "542d55a37a704ac5a136de4bdeedf876": {
      "model_module": "@jupyter-widgets/base",
      "model_module_version": "2.0.0",
      "model_name": "LayoutModel",
      "state": {}
     },
     "54515a7f7d394c4cbf7fc1da55190e19": {
      "model_module": "@jupyter-widgets/base",
      "model_module_version": "2.0.0",
      "model_name": "LayoutModel",
      "state": {}
     },
     "547c2a49e10d410c94d221027eb1bb3a": {
      "model_module": "@jupyter-widgets/base",
      "model_module_version": "2.0.0",
      "model_name": "LayoutModel",
      "state": {}
     },
     "548a97b2c11e4726b0ad448beb923151": {
      "model_module": "@jupyter-widgets/controls",
      "model_module_version": "2.0.0",
      "model_name": "HTMLModel",
      "state": {
       "layout": "IPY_MODEL_60e1829df8cf4399a10dca59efa46003",
       "style": "IPY_MODEL_dde1cb916f1b476bb7e59026044dba06",
       "value": " 58/58 [00:02&lt;00:00, 27.03it/s]"
      }
     },
     "54a9ce00950949dca721e1b9c5c3a8b8": {
      "model_module": "@jupyter-widgets/base",
      "model_module_version": "2.0.0",
      "model_name": "LayoutModel",
      "state": {
       "display": "inline-flex",
       "flex_flow": "row wrap",
       "visibility": "hidden",
       "width": "100%"
      }
     },
     "54b748cfa0574bd49703e17a8c771578": {
      "model_module": "@jupyter-widgets/controls",
      "model_module_version": "2.0.0",
      "model_name": "FloatProgressModel",
      "state": {
       "layout": "IPY_MODEL_335f7619c1b74b66914a55abc4602eac",
       "max": 58,
       "style": "IPY_MODEL_449c0c2ba73941e896a02acde9b0e395",
       "value": 58
      }
     },
     "550b3cea08eb4ca791147425531a0458": {
      "model_module": "@jupyter-widgets/base",
      "model_module_version": "2.0.0",
      "model_name": "LayoutModel",
      "state": {}
     },
     "55450897586143a99e396afc89f0b3f7": {
      "model_module": "@jupyter-widgets/base",
      "model_module_version": "2.0.0",
      "model_name": "LayoutModel",
      "state": {
       "display": "inline-flex",
       "flex_flow": "row wrap",
       "visibility": "hidden",
       "width": "100%"
      }
     },
     "55542759b7b548108cccc7249413e97a": {
      "model_module": "@jupyter-widgets/controls",
      "model_module_version": "2.0.0",
      "model_name": "HTMLStyleModel",
      "state": {
       "description_width": "",
       "font_size": null,
       "text_color": null
      }
     },
     "561c35b5a9d648f5af76c6b2b3b81a9c": {
      "model_module": "@jupyter-widgets/controls",
      "model_module_version": "2.0.0",
      "model_name": "ProgressStyleModel",
      "state": {
       "description_width": ""
      }
     },
     "56285b8b60de4cb18a7bd5bf15bfd138": {
      "model_module": "@jupyter-widgets/controls",
      "model_module_version": "2.0.0",
      "model_name": "HTMLModel",
      "state": {
       "layout": "IPY_MODEL_01a31e0602544ccaa772698e5b438e60",
       "style": "IPY_MODEL_03810675b156428391f469f498b34e7b",
       "value": "Validation DataLoader 0: 100%"
      }
     },
     "56318460a9244c3a991994f1c9ccbfe9": {
      "model_module": "@jupyter-widgets/controls",
      "model_module_version": "2.0.0",
      "model_name": "HTMLModel",
      "state": {
       "layout": "IPY_MODEL_98aa1ff5da0f4983979f3cfdefd16811",
       "style": "IPY_MODEL_ebbeca77d3f04c079ee5221ff1abcee2",
       "value": " 58/58 [00:02&lt;00:00, 28.33it/s]"
      }
     },
     "5668d69c8865443db21e2ffabf4f6fd9": {
      "model_module": "@jupyter-widgets/base",
      "model_module_version": "2.0.0",
      "model_name": "LayoutModel",
      "state": {}
     },
     "56dba550804041ba825458ac925aa6aa": {
      "model_module": "@jupyter-widgets/controls",
      "model_module_version": "2.0.0",
      "model_name": "HTMLModel",
      "state": {
       "layout": "IPY_MODEL_1e30a57cf37640baa011b2f07777bb0f",
       "style": "IPY_MODEL_aefa2514bc9e412182c614249864a6bb",
       "value": "Validation DataLoader 0: 100%"
      }
     },
     "56ffdadd89ad414889197e07ffdf7b94": {
      "model_module": "@jupyter-widgets/base",
      "model_module_version": "2.0.0",
      "model_name": "LayoutModel",
      "state": {}
     },
     "5724764644224bbeb797e1a25619b5d6": {
      "model_module": "@jupyter-widgets/base",
      "model_module_version": "2.0.0",
      "model_name": "LayoutModel",
      "state": {
       "display": "inline-flex",
       "flex_flow": "row wrap",
       "visibility": "hidden",
       "width": "100%"
      }
     },
     "5732a06ef971466a94aa11b44f1e5e7f": {
      "model_module": "@jupyter-widgets/base",
      "model_module_version": "2.0.0",
      "model_name": "LayoutModel",
      "state": {}
     },
     "577140def0ae4109b72d91fe3a893997": {
      "model_module": "@jupyter-widgets/base",
      "model_module_version": "2.0.0",
      "model_name": "LayoutModel",
      "state": {}
     },
     "577ec7d349894351ae71c288f9d60004": {
      "model_module": "@jupyter-widgets/base",
      "model_module_version": "2.0.0",
      "model_name": "LayoutModel",
      "state": {
       "display": "inline-flex",
       "flex_flow": "row wrap",
       "visibility": "hidden",
       "width": "100%"
      }
     },
     "578991f9e7194fe09ae41edde82d2c82": {
      "model_module": "@jupyter-widgets/controls",
      "model_module_version": "2.0.0",
      "model_name": "FloatProgressModel",
      "state": {
       "layout": "IPY_MODEL_32ea941e24ee4416ae1e9adf75da0ca5",
       "max": 58,
       "style": "IPY_MODEL_d4434e0ee9a64f9392b8db635d45c600",
       "value": 58
      }
     },
     "57d56f8443674404a63c6818b0bd185c": {
      "model_module": "@jupyter-widgets/base",
      "model_module_version": "2.0.0",
      "model_name": "LayoutModel",
      "state": {}
     },
     "580c6170d9084a67a43a11093113ddd8": {
      "model_module": "@jupyter-widgets/controls",
      "model_module_version": "2.0.0",
      "model_name": "FloatProgressModel",
      "state": {
       "layout": "IPY_MODEL_4658d0b301c940588810e911e4d24570",
       "max": 58,
       "style": "IPY_MODEL_7705ca16102b4f3d975c679fa0789495",
       "value": 58
      }
     },
     "582cbcfb5bc649efa600442c476b4df9": {
      "model_module": "@jupyter-widgets/base",
      "model_module_version": "2.0.0",
      "model_name": "LayoutModel",
      "state": {
       "display": "inline-flex",
       "flex_flow": "row wrap",
       "visibility": "hidden",
       "width": "100%"
      }
     },
     "585670fe82c44cf5946e17c0458e212f": {
      "model_module": "@jupyter-widgets/base",
      "model_module_version": "2.0.0",
      "model_name": "LayoutModel",
      "state": {}
     },
     "586b02605c93402e96910e93e2229d6b": {
      "model_module": "@jupyter-widgets/controls",
      "model_module_version": "2.0.0",
      "model_name": "HTMLStyleModel",
      "state": {
       "description_width": "",
       "font_size": null,
       "text_color": null
      }
     },
     "58ab5107fda3479c92dba62caa7267b3": {
      "model_module": "@jupyter-widgets/controls",
      "model_module_version": "2.0.0",
      "model_name": "HTMLModel",
      "state": {
       "layout": "IPY_MODEL_8ddc8d6a90604e92a813dfa18e2e93d4",
       "style": "IPY_MODEL_4cf24365269d4f52a4bb10312920838b",
       "value": " 58/58 [00:02&lt;00:00, 26.06it/s]"
      }
     },
     "58d8a15c8cd04984841d8a955cd19ef3": {
      "model_module": "@jupyter-widgets/base",
      "model_module_version": "2.0.0",
      "model_name": "LayoutModel",
      "state": {}
     },
     "58f095796c23406a82ee81459ce5ed8e": {
      "model_module": "@jupyter-widgets/base",
      "model_module_version": "2.0.0",
      "model_name": "LayoutModel",
      "state": {}
     },
     "590402e846834c12918161ce45be653a": {
      "model_module": "@jupyter-widgets/controls",
      "model_module_version": "2.0.0",
      "model_name": "HTMLStyleModel",
      "state": {
       "description_width": "",
       "font_size": null,
       "text_color": null
      }
     },
     "5915b6d619fe45649399f479da1f3157": {
      "model_module": "@jupyter-widgets/base",
      "model_module_version": "2.0.0",
      "model_name": "LayoutModel",
      "state": {
       "flex": "2"
      }
     },
     "593b2582047646e08cf026dfafe60e32": {
      "model_module": "@jupyter-widgets/controls",
      "model_module_version": "2.0.0",
      "model_name": "FloatProgressModel",
      "state": {
       "layout": "IPY_MODEL_ed48d181692348d7aa617c8deb6f9ef5",
       "max": 58,
       "style": "IPY_MODEL_3fc3f34c52b4449ebc0378eca06371ac",
       "value": 58
      }
     },
     "5952330e33ef43818fc8afd8ea73d09a": {
      "model_module": "@jupyter-widgets/base",
      "model_module_version": "2.0.0",
      "model_name": "LayoutModel",
      "state": {}
     },
     "598be3b63e4f4d989a45af78c174bbc1": {
      "model_module": "@jupyter-widgets/controls",
      "model_module_version": "2.0.0",
      "model_name": "HTMLModel",
      "state": {
       "layout": "IPY_MODEL_b9fba74dc37e45c1b8be3b014366e149",
       "style": "IPY_MODEL_e469f43781514502ab64ecefff8ca3c5",
       "value": "Validation DataLoader 0: 100%"
      }
     },
     "599ce3a29cdb48b8aa65e97d6f34fc92": {
      "model_module": "@jupyter-widgets/base",
      "model_module_version": "2.0.0",
      "model_name": "LayoutModel",
      "state": {}
     },
     "59a956a9c7534a37aab352a4b350d23b": {
      "model_module": "@jupyter-widgets/controls",
      "model_module_version": "2.0.0",
      "model_name": "HTMLModel",
      "state": {
       "layout": "IPY_MODEL_b76b60fe08af428989ea7ce6cc2cd0ac",
       "style": "IPY_MODEL_6697249f7dda429186094da7ad8fc39e",
       "value": " 58/58 [00:02&lt;00:00, 25.60it/s]"
      }
     },
     "59e0d39b45df4f13a8b3605a21c255b1": {
      "model_module": "@jupyter-widgets/base",
      "model_module_version": "2.0.0",
      "model_name": "LayoutModel",
      "state": {
       "flex": "2"
      }
     },
     "59e541ccb2de471faf19be1af84c1889": {
      "model_module": "@jupyter-widgets/controls",
      "model_module_version": "2.0.0",
      "model_name": "HTMLModel",
      "state": {
       "layout": "IPY_MODEL_a040d73d9f794609a9eb7e67cfb16425",
       "style": "IPY_MODEL_6ca4c8978b774c779ba8e908a85272d3",
       "value": "Validation DataLoader 0: 100%"
      }
     },
     "59ed1ec8f743451783f230d8c1c9e891": {
      "model_module": "@jupyter-widgets/controls",
      "model_module_version": "2.0.0",
      "model_name": "ProgressStyleModel",
      "state": {
       "description_width": ""
      }
     },
     "59f0de07bca94039abbaa2d3fbeae41a": {
      "model_module": "@jupyter-widgets/base",
      "model_module_version": "2.0.0",
      "model_name": "LayoutModel",
      "state": {
       "flex": "2"
      }
     },
     "5a1f8610ac004d03b506069bcd822a55": {
      "model_module": "@jupyter-widgets/base",
      "model_module_version": "2.0.0",
      "model_name": "LayoutModel",
      "state": {}
     },
     "5a485d11cbf14603beeb2172aaf1f966": {
      "model_module": "@jupyter-widgets/controls",
      "model_module_version": "2.0.0",
      "model_name": "HTMLStyleModel",
      "state": {
       "description_width": "",
       "font_size": null,
       "text_color": null
      }
     },
     "5a843fc03b654b428f4d83477940ac62": {
      "model_module": "@jupyter-widgets/controls",
      "model_module_version": "2.0.0",
      "model_name": "FloatProgressModel",
      "state": {
       "layout": "IPY_MODEL_a2f60891a3884fe19ce47e51b7c7bf47",
       "max": 58,
       "style": "IPY_MODEL_52e85125564249c7b918a60772756179",
       "value": 58
      }
     },
     "5ac7e47d110645dda5d7db7aa060d617": {
      "model_module": "@jupyter-widgets/controls",
      "model_module_version": "2.0.0",
      "model_name": "HTMLStyleModel",
      "state": {
       "description_width": "",
       "font_size": null,
       "text_color": null
      }
     },
     "5ad4256056a5448287bd74c96f66396e": {
      "model_module": "@jupyter-widgets/base",
      "model_module_version": "2.0.0",
      "model_name": "LayoutModel",
      "state": {}
     },
     "5ae05a3497d84d0188cf6f99b6473a2e": {
      "model_module": "@jupyter-widgets/base",
      "model_module_version": "2.0.0",
      "model_name": "LayoutModel",
      "state": {}
     },
     "5b0ffbb26a93403c8a8621dea920b389": {
      "model_module": "@jupyter-widgets/base",
      "model_module_version": "2.0.0",
      "model_name": "LayoutModel",
      "state": {
       "display": "inline-flex",
       "flex_flow": "row wrap",
       "visibility": "hidden",
       "width": "100%"
      }
     },
     "5b1d2560c5e24c25971bf63b726431b9": {
      "model_module": "@jupyter-widgets/controls",
      "model_module_version": "2.0.0",
      "model_name": "HTMLStyleModel",
      "state": {
       "description_width": "",
       "font_size": null,
       "text_color": null
      }
     },
     "5b42e9d607b44215808521216a589e6c": {
      "model_module": "@jupyter-widgets/controls",
      "model_module_version": "2.0.0",
      "model_name": "HTMLStyleModel",
      "state": {
       "description_width": "",
       "font_size": null,
       "text_color": null
      }
     },
     "5b62748dbd904373880d75f8024abc39": {
      "model_module": "@jupyter-widgets/base",
      "model_module_version": "2.0.0",
      "model_name": "LayoutModel",
      "state": {
       "flex": "2"
      }
     },
     "5b7b396ba92a4c95bea2135d0688e055": {
      "model_module": "@jupyter-widgets/base",
      "model_module_version": "2.0.0",
      "model_name": "LayoutModel",
      "state": {
       "flex": "2"
      }
     },
     "5b965db271484cd49f6a3e3cdf5bed0b": {
      "model_module": "@jupyter-widgets/controls",
      "model_module_version": "2.0.0",
      "model_name": "HTMLStyleModel",
      "state": {
       "description_width": "",
       "font_size": null,
       "text_color": null
      }
     },
     "5bc1010b7b6a4b2aaf857d8fc7fcba4c": {
      "model_module": "@jupyter-widgets/controls",
      "model_module_version": "2.0.0",
      "model_name": "ProgressStyleModel",
      "state": {
       "description_width": ""
      }
     },
     "5bce5a9201de48f7bcc1a64707544efb": {
      "model_module": "@jupyter-widgets/controls",
      "model_module_version": "2.0.0",
      "model_name": "HTMLModel",
      "state": {
       "layout": "IPY_MODEL_bc151d228ee94c1cacb31b175f10809f",
       "style": "IPY_MODEL_216e725b56e0498797872e297da8330b",
       "value": "Validation DataLoader 0: 100%"
      }
     },
     "5bcea30375a546559aad8f7511a72acd": {
      "model_module": "@jupyter-widgets/controls",
      "model_module_version": "2.0.0",
      "model_name": "HTMLModel",
      "state": {
       "layout": "IPY_MODEL_585670fe82c44cf5946e17c0458e212f",
       "style": "IPY_MODEL_cd0198a8ba8e418d8fd887ecf682df0d",
       "value": "Validation DataLoader 0: 100%"
      }
     },
     "5bdc0300d3c3427d855b4bd07d5cb368": {
      "model_module": "@jupyter-widgets/base",
      "model_module_version": "2.0.0",
      "model_name": "LayoutModel",
      "state": {}
     },
     "5beda9845de04749807f9ee6a49b6262": {
      "model_module": "@jupyter-widgets/controls",
      "model_module_version": "2.0.0",
      "model_name": "HTMLStyleModel",
      "state": {
       "description_width": "",
       "font_size": null,
       "text_color": null
      }
     },
     "5c0611831de54201a8084546f5df8591": {
      "model_module": "@jupyter-widgets/base",
      "model_module_version": "2.0.0",
      "model_name": "LayoutModel",
      "state": {
       "display": "inline-flex",
       "flex_flow": "row wrap",
       "visibility": "hidden",
       "width": "100%"
      }
     },
     "5c12947a21c14e09b5d91a01aeb2393f": {
      "model_module": "@jupyter-widgets/controls",
      "model_module_version": "2.0.0",
      "model_name": "ProgressStyleModel",
      "state": {
       "description_width": ""
      }
     },
     "5c1b38682b3c4e369811e9724899186e": {
      "model_module": "@jupyter-widgets/base",
      "model_module_version": "2.0.0",
      "model_name": "LayoutModel",
      "state": {}
     },
     "5c1e2b372441454d94ef7bfcfc997aa8": {
      "model_module": "@jupyter-widgets/controls",
      "model_module_version": "2.0.0",
      "model_name": "FloatProgressModel",
      "state": {
       "layout": "IPY_MODEL_ba34961c66734769af038526cc9fbe99",
       "max": 58,
       "style": "IPY_MODEL_8bbb361c9767463db254f6c571fb674f",
       "value": 58
      }
     },
     "5c2e6b55e92748d7959ee7a816f105ff": {
      "model_module": "@jupyter-widgets/controls",
      "model_module_version": "2.0.0",
      "model_name": "HTMLModel",
      "state": {
       "layout": "IPY_MODEL_8b377b4e51944542ae93608f888eb5ba",
       "style": "IPY_MODEL_8bad769f2d884077a565d193cb4efc22",
       "value": "Validation DataLoader 0: 100%"
      }
     },
     "5c64edf836aa4d218c6814bc4d58eef3": {
      "model_module": "@jupyter-widgets/base",
      "model_module_version": "2.0.0",
      "model_name": "LayoutModel",
      "state": {}
     },
     "5c9394f83f8940dca78223277a745b85": {
      "model_module": "@jupyter-widgets/base",
      "model_module_version": "2.0.0",
      "model_name": "LayoutModel",
      "state": {}
     },
     "5cda9271600c40d69d6db858cfd27cbf": {
      "model_module": "@jupyter-widgets/controls",
      "model_module_version": "2.0.0",
      "model_name": "HTMLStyleModel",
      "state": {
       "description_width": "",
       "font_size": null,
       "text_color": null
      }
     },
     "5cdbac2b5ab248408db3fcb3f0c9fbdd": {
      "model_module": "@jupyter-widgets/controls",
      "model_module_version": "2.0.0",
      "model_name": "HTMLModel",
      "state": {
       "layout": "IPY_MODEL_e72217c0e2024e669266459cf3516660",
       "style": "IPY_MODEL_b9b5d7d44dfc4f3280a9b2512867a02c",
       "value": "Validation DataLoader 0: 100%"
      }
     },
     "5cdc2980c09643a09352a47cbe89731e": {
      "model_module": "@jupyter-widgets/controls",
      "model_module_version": "2.0.0",
      "model_name": "HTMLModel",
      "state": {
       "layout": "IPY_MODEL_7cbcad1cd348408ca10a4365e4c403c7",
       "style": "IPY_MODEL_489f69868d574718aa28e6498ed78c4d",
       "value": "Validation DataLoader 0: 100%"
      }
     },
     "5ce82440bac245789de6e89e982f3611": {
      "model_module": "@jupyter-widgets/controls",
      "model_module_version": "2.0.0",
      "model_name": "FloatProgressModel",
      "state": {
       "layout": "IPY_MODEL_8f6aa374a01540519442864a68e152df",
       "max": 58,
       "style": "IPY_MODEL_217f4202755b4060857756ac7ce996a0",
       "value": 58
      }
     },
     "5cfa0674682f478c9b1b22be371b0773": {
      "model_module": "@jupyter-widgets/base",
      "model_module_version": "2.0.0",
      "model_name": "LayoutModel",
      "state": {
       "display": "inline-flex",
       "flex_flow": "row wrap",
       "visibility": "hidden",
       "width": "100%"
      }
     },
     "5d2001732a2c4d8aa01a819d2cfab273": {
      "model_module": "@jupyter-widgets/controls",
      "model_module_version": "2.0.0",
      "model_name": "HTMLModel",
      "state": {
       "layout": "IPY_MODEL_c604bf039a2c4c7993625635d9602247",
       "style": "IPY_MODEL_dd15aa4da9ca4ebeaa3b696e687c2843",
       "value": " 58/58 [00:02&lt;00:00, 26.51it/s]"
      }
     },
     "5d2907a491794dbdbe82a193961cdb85": {
      "model_module": "@jupyter-widgets/controls",
      "model_module_version": "2.0.0",
      "model_name": "HTMLStyleModel",
      "state": {
       "description_width": "",
       "font_size": null,
       "text_color": null
      }
     },
     "5d4d99c97bb8455bb0ae54569dd7ec1e": {
      "model_module": "@jupyter-widgets/controls",
      "model_module_version": "2.0.0",
      "model_name": "FloatProgressModel",
      "state": {
       "layout": "IPY_MODEL_74ac5516b53e467fa2a4f500c77678fe",
       "max": 58,
       "style": "IPY_MODEL_529b2d2e66a149cbaee60c936fe10b72",
       "value": 58
      }
     },
     "5d4fd195436843f1ba10c48761b428f0": {
      "model_module": "@jupyter-widgets/base",
      "model_module_version": "2.0.0",
      "model_name": "LayoutModel",
      "state": {}
     },
     "5d5033c46bf148bcab43154a845d79d9": {
      "model_module": "@jupyter-widgets/controls",
      "model_module_version": "2.0.0",
      "model_name": "HTMLModel",
      "state": {
       "layout": "IPY_MODEL_371c2c57e8c14ad1985ba68876917a85",
       "style": "IPY_MODEL_76f260a985974571bc1d9632c7299eb7",
       "value": "Validation DataLoader 0: 100%"
      }
     },
     "5d5084a74d5c4eeabbef7dbfcfc573b8": {
      "model_module": "@jupyter-widgets/base",
      "model_module_version": "2.0.0",
      "model_name": "LayoutModel",
      "state": {}
     },
     "5d69a081b0d24a469c5d5515b9bb4183": {
      "model_module": "@jupyter-widgets/base",
      "model_module_version": "2.0.0",
      "model_name": "LayoutModel",
      "state": {
       "display": "inline-flex",
       "flex_flow": "row wrap",
       "visibility": "hidden",
       "width": "100%"
      }
     },
     "5d76254fcb2a43769a5e837223d3df12": {
      "model_module": "@jupyter-widgets/controls",
      "model_module_version": "2.0.0",
      "model_name": "HTMLModel",
      "state": {
       "layout": "IPY_MODEL_3d78046a2b9e4e138c064e71e15b0148",
       "style": "IPY_MODEL_ef8697f9689d4eabbd4211254936d408",
       "value": " 58/58 [00:02&lt;00:00, 25.65it/s]"
      }
     },
     "5d7673f875cc42b29aadd48aa17d3b36": {
      "model_module": "@jupyter-widgets/base",
      "model_module_version": "2.0.0",
      "model_name": "LayoutModel",
      "state": {}
     },
     "5dd7caa4248a4e84920dd7ca702a852a": {
      "model_module": "@jupyter-widgets/base",
      "model_module_version": "2.0.0",
      "model_name": "LayoutModel",
      "state": {
       "display": "inline-flex",
       "flex_flow": "row wrap",
       "visibility": "hidden",
       "width": "100%"
      }
     },
     "5e094754dc5c4e6db1e625f024d05e9f": {
      "model_module": "@jupyter-widgets/base",
      "model_module_version": "2.0.0",
      "model_name": "LayoutModel",
      "state": {
       "flex": "2"
      }
     },
     "5e24dd121edd475dbb9e5557da9a7868": {
      "model_module": "@jupyter-widgets/controls",
      "model_module_version": "2.0.0",
      "model_name": "ProgressStyleModel",
      "state": {
       "description_width": ""
      }
     },
     "5e27cf1cbafb40288a378272256227a3": {
      "model_module": "@jupyter-widgets/base",
      "model_module_version": "2.0.0",
      "model_name": "LayoutModel",
      "state": {
       "flex": "2"
      }
     },
     "5e60034a7a7e49cfb9d96cd1fca0f02f": {
      "model_module": "@jupyter-widgets/base",
      "model_module_version": "2.0.0",
      "model_name": "LayoutModel",
      "state": {}
     },
     "5ea4365803894537b06d09ed612db404": {
      "model_module": "@jupyter-widgets/base",
      "model_module_version": "2.0.0",
      "model_name": "LayoutModel",
      "state": {}
     },
     "5ecbe9462b004eb29f83c284cd361458": {
      "model_module": "@jupyter-widgets/base",
      "model_module_version": "2.0.0",
      "model_name": "LayoutModel",
      "state": {
       "flex": "2"
      }
     },
     "5f1a84055cd149868b4309a40683b2e6": {
      "model_module": "@jupyter-widgets/controls",
      "model_module_version": "2.0.0",
      "model_name": "HTMLModel",
      "state": {
       "layout": "IPY_MODEL_3c294410050742fca4ad6eb98e66ef6c",
       "style": "IPY_MODEL_3b81c1ac51754b05a2a8dc7dab4887a5",
       "value": " 58/58 [00:02&lt;00:00, 27.08it/s]"
      }
     },
     "5f3152a99fd24f84b13982b6e791256c": {
      "model_module": "@jupyter-widgets/controls",
      "model_module_version": "2.0.0",
      "model_name": "HTMLStyleModel",
      "state": {
       "description_width": "",
       "font_size": null,
       "text_color": null
      }
     },
     "5f31e68d70cd4d9882c9038150e7007d": {
      "model_module": "@jupyter-widgets/controls",
      "model_module_version": "2.0.0",
      "model_name": "HTMLModel",
      "state": {
       "layout": "IPY_MODEL_4c15a11ed58441a2a3cea83fd46aa0a8",
       "style": "IPY_MODEL_c970cc29f2684f66bcdbba1dbaf5aa92",
       "value": "Validation DataLoader 0: 100%"
      }
     },
     "5f60456eeba54e319cc3166b9bfb4e0c": {
      "model_module": "@jupyter-widgets/controls",
      "model_module_version": "2.0.0",
      "model_name": "HTMLStyleModel",
      "state": {
       "description_width": "",
       "font_size": null,
       "text_color": null
      }
     },
     "5f8b7df6694443d099055c3f6f51b84d": {
      "model_module": "@jupyter-widgets/base",
      "model_module_version": "2.0.0",
      "model_name": "LayoutModel",
      "state": {}
     },
     "5f92e01bb1a5465980e302ae41085232": {
      "model_module": "@jupyter-widgets/controls",
      "model_module_version": "2.0.0",
      "model_name": "HTMLModel",
      "state": {
       "layout": "IPY_MODEL_310287413f2d45b8894ac2f71dde43cd",
       "style": "IPY_MODEL_1ebb9a5d05994334951607a465f602e3",
       "value": " 58/58 [00:02&lt;00:00, 26.35it/s]"
      }
     },
     "5fd48e3bc88445a287cdb4f7fab23445": {
      "model_module": "@jupyter-widgets/base",
      "model_module_version": "2.0.0",
      "model_name": "LayoutModel",
      "state": {}
     },
     "5ff1714eb2704c95aa4817f9b57af462": {
      "model_module": "@jupyter-widgets/base",
      "model_module_version": "2.0.0",
      "model_name": "LayoutModel",
      "state": {
       "flex": "2"
      }
     },
     "5ffaac5f959e45598db3b865f0f50ed6": {
      "model_module": "@jupyter-widgets/controls",
      "model_module_version": "2.0.0",
      "model_name": "HTMLStyleModel",
      "state": {
       "description_width": "",
       "font_size": null,
       "text_color": null
      }
     },
     "608c47ee295c4b8a9971ff3178693c8d": {
      "model_module": "@jupyter-widgets/controls",
      "model_module_version": "2.0.0",
      "model_name": "HTMLStyleModel",
      "state": {
       "description_width": "",
       "font_size": null,
       "text_color": null
      }
     },
     "609e12cd3a464ff0814c7d8a729e6b0d": {
      "model_module": "@jupyter-widgets/base",
      "model_module_version": "2.0.0",
      "model_name": "LayoutModel",
      "state": {
       "flex": "2"
      }
     },
     "60b51325fe4f48c98162c03eb16afc63": {
      "model_module": "@jupyter-widgets/controls",
      "model_module_version": "2.0.0",
      "model_name": "ProgressStyleModel",
      "state": {
       "description_width": ""
      }
     },
     "60c00e43c7d94afba0bfeb416ceb9c4a": {
      "model_module": "@jupyter-widgets/base",
      "model_module_version": "2.0.0",
      "model_name": "LayoutModel",
      "state": {
       "display": "inline-flex",
       "flex_flow": "row wrap",
       "visibility": "hidden",
       "width": "100%"
      }
     },
     "60cbd109c38f49eba25956ee79a100c7": {
      "model_module": "@jupyter-widgets/controls",
      "model_module_version": "2.0.0",
      "model_name": "HTMLModel",
      "state": {
       "layout": "IPY_MODEL_efe2808849e345a6a9b243726444d22e",
       "style": "IPY_MODEL_f342f22a72a34ddeadb0659a5aba793c",
       "value": " 58/58 [00:02&lt;00:00, 26.48it/s]"
      }
     },
     "60e1829df8cf4399a10dca59efa46003": {
      "model_module": "@jupyter-widgets/base",
      "model_module_version": "2.0.0",
      "model_name": "LayoutModel",
      "state": {}
     },
     "6107e7df0fb94948aaab84812b7cd4ae": {
      "model_module": "@jupyter-widgets/controls",
      "model_module_version": "2.0.0",
      "model_name": "HTMLStyleModel",
      "state": {
       "description_width": "",
       "font_size": null,
       "text_color": null
      }
     },
     "6126270248b54750b10e53454ced35a7": {
      "model_module": "@jupyter-widgets/base",
      "model_module_version": "2.0.0",
      "model_name": "LayoutModel",
      "state": {
       "flex": "2"
      }
     },
     "6156e9aa21cb4a15b01e7db070c40621": {
      "model_module": "@jupyter-widgets/controls",
      "model_module_version": "2.0.0",
      "model_name": "FloatProgressModel",
      "state": {
       "layout": "IPY_MODEL_aa6bbc8b685b4fee9f999a93d0bf0eaa",
       "max": 58,
       "style": "IPY_MODEL_2c2b660d24f14f46800d3cafe7a3b431",
       "value": 58
      }
     },
     "616b1ab01dd14acab5ccc742df6624ee": {
      "model_module": "@jupyter-widgets/base",
      "model_module_version": "2.0.0",
      "model_name": "LayoutModel",
      "state": {
       "flex": "2"
      }
     },
     "616e392659c54882b113bd1e19c9ff50": {
      "model_module": "@jupyter-widgets/base",
      "model_module_version": "2.0.0",
      "model_name": "LayoutModel",
      "state": {
       "display": "inline-flex",
       "flex_flow": "row wrap",
       "visibility": "hidden",
       "width": "100%"
      }
     },
     "61e6f299f3b840b68c985b0ec2988580": {
      "model_module": "@jupyter-widgets/base",
      "model_module_version": "2.0.0",
      "model_name": "LayoutModel",
      "state": {
       "display": "inline-flex",
       "flex_flow": "row wrap",
       "visibility": "hidden",
       "width": "100%"
      }
     },
     "61e7e33fbfa54bfc92fa8cdee87bf506": {
      "model_module": "@jupyter-widgets/controls",
      "model_module_version": "2.0.0",
      "model_name": "HTMLStyleModel",
      "state": {
       "description_width": "",
       "font_size": null,
       "text_color": null
      }
     },
     "61ead4e644794f70be97fda970729eb0": {
      "model_module": "@jupyter-widgets/base",
      "model_module_version": "2.0.0",
      "model_name": "LayoutModel",
      "state": {
       "display": "inline-flex",
       "flex_flow": "row wrap",
       "visibility": "hidden",
       "width": "100%"
      }
     },
     "6221b229c54d437ea3081040a78623d6": {
      "model_module": "@jupyter-widgets/controls",
      "model_module_version": "2.0.0",
      "model_name": "HTMLStyleModel",
      "state": {
       "description_width": "",
       "font_size": null,
       "text_color": null
      }
     },
     "62c7f07afcbc4a78a6651d2e4ce78683": {
      "model_module": "@jupyter-widgets/base",
      "model_module_version": "2.0.0",
      "model_name": "LayoutModel",
      "state": {}
     },
     "62d60f0eed874b2da8548a59696523c7": {
      "model_module": "@jupyter-widgets/controls",
      "model_module_version": "2.0.0",
      "model_name": "HTMLModel",
      "state": {
       "layout": "IPY_MODEL_5f8b7df6694443d099055c3f6f51b84d",
       "style": "IPY_MODEL_51d367f92b8540b8bae22c1b2a52219c",
       "value": " 2/2 [00:43&lt;00:00, 21.52s/it]"
      }
     },
     "6307681dd14e438fa45f262602c8b568": {
      "model_module": "@jupyter-widgets/base",
      "model_module_version": "2.0.0",
      "model_name": "LayoutModel",
      "state": {}
     },
     "631550aa009a4ab8a6698b16e4e4db5c": {
      "model_module": "@jupyter-widgets/base",
      "model_module_version": "2.0.0",
      "model_name": "LayoutModel",
      "state": {}
     },
     "633227143d2c4379bfab48a890ef76f2": {
      "model_module": "@jupyter-widgets/base",
      "model_module_version": "2.0.0",
      "model_name": "LayoutModel",
      "state": {}
     },
     "63569662ea8d40aaa3a93269ad778161": {
      "model_module": "@jupyter-widgets/controls",
      "model_module_version": "2.0.0",
      "model_name": "HTMLModel",
      "state": {
       "layout": "IPY_MODEL_34f839a0b86947f593f82b94ccd5f824",
       "style": "IPY_MODEL_3c417bf0bd114d8781fa89b23ebc35c2",
       "value": "Validation DataLoader 0: 100%"
      }
     },
     "6366190ef03e410990d6f724b34e5faf": {
      "model_module": "@jupyter-widgets/base",
      "model_module_version": "2.0.0",
      "model_name": "LayoutModel",
      "state": {
       "display": "inline-flex",
       "flex_flow": "row wrap",
       "visibility": "hidden",
       "width": "100%"
      }
     },
     "63a2188474144f2fa4c675a8b9a16145": {
      "model_module": "@jupyter-widgets/controls",
      "model_module_version": "2.0.0",
      "model_name": "HTMLStyleModel",
      "state": {
       "description_width": "",
       "font_size": null,
       "text_color": null
      }
     },
     "63c4bfc4c9ba486d8950189031e2d80f": {
      "model_module": "@jupyter-widgets/controls",
      "model_module_version": "2.0.0",
      "model_name": "ProgressStyleModel",
      "state": {
       "description_width": ""
      }
     },
     "63c6beb620bb444d9d963a8496eee605": {
      "model_module": "@jupyter-widgets/controls",
      "model_module_version": "2.0.0",
      "model_name": "ProgressStyleModel",
      "state": {
       "description_width": ""
      }
     },
     "63c93cb2e1f5431ca87b7028da82a05b": {
      "model_module": "@jupyter-widgets/base",
      "model_module_version": "2.0.0",
      "model_name": "LayoutModel",
      "state": {
       "flex": "2"
      }
     },
     "63de8971eef14aa380398a17a953751a": {
      "model_module": "@jupyter-widgets/controls",
      "model_module_version": "2.0.0",
      "model_name": "ProgressStyleModel",
      "state": {
       "description_width": ""
      }
     },
     "63fea259a08a4f52b19b154b5e496091": {
      "model_module": "@jupyter-widgets/controls",
      "model_module_version": "2.0.0",
      "model_name": "HTMLStyleModel",
      "state": {
       "description_width": "",
       "font_size": null,
       "text_color": null
      }
     },
     "6417684f269f46fea7d035b1538a91bf": {
      "model_module": "@jupyter-widgets/controls",
      "model_module_version": "2.0.0",
      "model_name": "ProgressStyleModel",
      "state": {
       "description_width": ""
      }
     },
     "646620bf40ef4ad9be6c83476dd6baa8": {
      "model_module": "@jupyter-widgets/base",
      "model_module_version": "2.0.0",
      "model_name": "LayoutModel",
      "state": {
       "flex": "2"
      }
     },
     "64796c9bd0874b85aa940fe6e1af4c4f": {
      "model_module": "@jupyter-widgets/base",
      "model_module_version": "2.0.0",
      "model_name": "LayoutModel",
      "state": {
       "flex": "2"
      }
     },
     "647b4b1bc07643cbb210f7779f24d656": {
      "model_module": "@jupyter-widgets/controls",
      "model_module_version": "2.0.0",
      "model_name": "HTMLModel",
      "state": {
       "layout": "IPY_MODEL_89beb3bb75eb472a9fc6d6c5c7802b4e",
       "style": "IPY_MODEL_fe68d4f2e42747b082f8aa5ef2c4ead6",
       "value": " 58/58 [00:02&lt;00:00, 24.91it/s]"
      }
     },
     "64b5d44ed8344ae4b3f2dd92ae8a8411": {
      "model_module": "@jupyter-widgets/base",
      "model_module_version": "2.0.0",
      "model_name": "LayoutModel",
      "state": {
       "display": "inline-flex",
       "flex_flow": "row wrap",
       "visibility": "hidden",
       "width": "100%"
      }
     },
     "64bf2136ba064fc4aeb7ec42d7dbe98f": {
      "model_module": "@jupyter-widgets/controls",
      "model_module_version": "2.0.0",
      "model_name": "ProgressStyleModel",
      "state": {
       "description_width": ""
      }
     },
     "65207dfff8494bd7b2748748551ad232": {
      "model_module": "@jupyter-widgets/controls",
      "model_module_version": "2.0.0",
      "model_name": "HTMLStyleModel",
      "state": {
       "description_width": "",
       "font_size": null,
       "text_color": null
      }
     },
     "6541d128bac04398a26dd47d99278daa": {
      "model_module": "@jupyter-widgets/controls",
      "model_module_version": "2.0.0",
      "model_name": "HTMLStyleModel",
      "state": {
       "description_width": "",
       "font_size": null,
       "text_color": null
      }
     },
     "6595b6f3aa0443b88785f0edd1875f56": {
      "model_module": "@jupyter-widgets/controls",
      "model_module_version": "2.0.0",
      "model_name": "FloatProgressModel",
      "state": {
       "layout": "IPY_MODEL_baff4ee2b37b42b985b4a143e291612b",
       "max": 58,
       "style": "IPY_MODEL_60b51325fe4f48c98162c03eb16afc63",
       "value": 58
      }
     },
     "65d000e853cb4a67bcc32d949bd10707": {
      "model_module": "@jupyter-widgets/controls",
      "model_module_version": "2.0.0",
      "model_name": "HTMLStyleModel",
      "state": {
       "description_width": "",
       "font_size": null,
       "text_color": null
      }
     },
     "65d27e15e62044b695bcca7f1e8b797d": {
      "model_module": "@jupyter-widgets/base",
      "model_module_version": "2.0.0",
      "model_name": "LayoutModel",
      "state": {
       "display": "inline-flex",
       "flex_flow": "row wrap",
       "visibility": "hidden",
       "width": "100%"
      }
     },
     "65db53f749f84d919a75601c9452e62b": {
      "model_module": "@jupyter-widgets/controls",
      "model_module_version": "2.0.0",
      "model_name": "FloatProgressModel",
      "state": {
       "layout": "IPY_MODEL_a8fe1c8aaf76450e8e6e658210ad1577",
       "max": 58,
       "style": "IPY_MODEL_1f59aa1ed5f044d68b31578347d0ba20",
       "value": 58
      }
     },
     "660880a23d8f4e2193ff2bad5ffea618": {
      "model_module": "@jupyter-widgets/base",
      "model_module_version": "2.0.0",
      "model_name": "LayoutModel",
      "state": {}
     },
     "6645b80932d249b0b7418a1504b91368": {
      "model_module": "@jupyter-widgets/controls",
      "model_module_version": "2.0.0",
      "model_name": "HTMLStyleModel",
      "state": {
       "description_width": "",
       "font_size": null,
       "text_color": null
      }
     },
     "664aec4e4bc54d44a89905175c6b998c": {
      "model_module": "@jupyter-widgets/controls",
      "model_module_version": "2.0.0",
      "model_name": "HTMLModel",
      "state": {
       "layout": "IPY_MODEL_837e7163e5eb4d3db0e9305dfcb3380f",
       "style": "IPY_MODEL_f29452a41be9464f839e47820e74b48f",
       "value": "Validation DataLoader 0: 100%"
      }
     },
     "66553345fc674f478353db7cd638685c": {
      "model_module": "@jupyter-widgets/base",
      "model_module_version": "2.0.0",
      "model_name": "LayoutModel",
      "state": {
       "display": "inline-flex",
       "flex_flow": "row wrap",
       "visibility": "hidden",
       "width": "100%"
      }
     },
     "6666bf8d71a148e4b93348de6715ccc4": {
      "model_module": "@jupyter-widgets/base",
      "model_module_version": "2.0.0",
      "model_name": "LayoutModel",
      "state": {}
     },
     "6697249f7dda429186094da7ad8fc39e": {
      "model_module": "@jupyter-widgets/controls",
      "model_module_version": "2.0.0",
      "model_name": "HTMLStyleModel",
      "state": {
       "description_width": "",
       "font_size": null,
       "text_color": null
      }
     },
     "66af8b352fa641aabe4bf8e40969b293": {
      "model_module": "@jupyter-widgets/controls",
      "model_module_version": "2.0.0",
      "model_name": "HTMLStyleModel",
      "state": {
       "description_width": "",
       "font_size": null,
       "text_color": null
      }
     },
     "66b4d5e12a114c42b773786868253633": {
      "model_module": "@jupyter-widgets/base",
      "model_module_version": "2.0.0",
      "model_name": "LayoutModel",
      "state": {}
     },
     "66b8faf7747148a9b4b44aad4c7666b1": {
      "model_module": "@jupyter-widgets/controls",
      "model_module_version": "2.0.0",
      "model_name": "HTMLModel",
      "state": {
       "layout": "IPY_MODEL_0fb7c0ab6bad4d57862db01c60a80618",
       "style": "IPY_MODEL_c345cf1722114cc5946c60cda76144f8",
       "value": " 58/58 [00:02&lt;00:00, 27.11it/s]"
      }
     },
     "66c3c496c3814e8f845ff32336513f14": {
      "model_module": "@jupyter-widgets/controls",
      "model_module_version": "2.0.0",
      "model_name": "HTMLStyleModel",
      "state": {
       "description_width": "",
       "font_size": null,
       "text_color": null
      }
     },
     "66e5620470e745e4840705b4a8d97eae": {
      "model_module": "@jupyter-widgets/controls",
      "model_module_version": "2.0.0",
      "model_name": "HTMLStyleModel",
      "state": {
       "description_width": "",
       "font_size": null,
       "text_color": null
      }
     },
     "66e8240bdb1943d7ad963b6ca3db2190": {
      "model_module": "@jupyter-widgets/base",
      "model_module_version": "2.0.0",
      "model_name": "LayoutModel",
      "state": {
       "flex": "2"
      }
     },
     "67045e7ab91f4e07b115f90863835189": {
      "model_module": "@jupyter-widgets/base",
      "model_module_version": "2.0.0",
      "model_name": "LayoutModel",
      "state": {
       "flex": "2"
      }
     },
     "67172cf8a53c4e6cb5a3e5c62bc2e47a": {
      "model_module": "@jupyter-widgets/controls",
      "model_module_version": "2.0.0",
      "model_name": "FloatProgressModel",
      "state": {
       "layout": "IPY_MODEL_3e6958a9617b4752857fa74e1a4e5455",
       "max": 58,
       "style": "IPY_MODEL_cd2e787092d54f0da1ffb4c341f174d0",
       "value": 58
      }
     },
     "672c45094b1543c680c826a92f13b8f4": {
      "model_module": "@jupyter-widgets/controls",
      "model_module_version": "2.0.0",
      "model_name": "ProgressStyleModel",
      "state": {
       "description_width": ""
      }
     },
     "672cfab6cdb647ea8bd80e5a2fcb5002": {
      "model_module": "@jupyter-widgets/base",
      "model_module_version": "2.0.0",
      "model_name": "LayoutModel",
      "state": {}
     },
     "675cc1b997144f878d992c9305c0fb43": {
      "model_module": "@jupyter-widgets/base",
      "model_module_version": "2.0.0",
      "model_name": "LayoutModel",
      "state": {
       "display": "inline-flex",
       "flex_flow": "row wrap",
       "visibility": "hidden",
       "width": "100%"
      }
     },
     "676055fcc2804676860903e834d5a95b": {
      "model_module": "@jupyter-widgets/controls",
      "model_module_version": "2.0.0",
      "model_name": "FloatProgressModel",
      "state": {
       "layout": "IPY_MODEL_0aaf891c60a044198539edf6b40b4760",
       "max": 58,
       "style": "IPY_MODEL_e1a8e55987cc425c8ac020271e5d56d7",
       "value": 58
      }
     },
     "67619d7ae3434bf09dbe60dd1c19fd2d": {
      "model_module": "@jupyter-widgets/controls",
      "model_module_version": "2.0.0",
      "model_name": "HTMLStyleModel",
      "state": {
       "description_width": "",
       "font_size": null,
       "text_color": null
      }
     },
     "677bd6c6dd83487a8b2d80a6ab2a7735": {
      "model_module": "@jupyter-widgets/controls",
      "model_module_version": "2.0.0",
      "model_name": "ProgressStyleModel",
      "state": {
       "description_width": ""
      }
     },
     "67833480c4da4db4836c2cdb3ba9069f": {
      "model_module": "@jupyter-widgets/controls",
      "model_module_version": "2.0.0",
      "model_name": "ProgressStyleModel",
      "state": {
       "description_width": ""
      }
     },
     "678ca1a32f7c479dbf315ce414a853db": {
      "model_module": "@jupyter-widgets/controls",
      "model_module_version": "2.0.0",
      "model_name": "FloatProgressModel",
      "state": {
       "layout": "IPY_MODEL_aa271f3facc14760914d8e87f8dbfaff",
       "max": 58,
       "style": "IPY_MODEL_77c64989c08c40d0a7ea4bf369a9d7a0",
       "value": 58
      }
     },
     "67aa4091e5fb4f118bec40967966a7eb": {
      "model_module": "@jupyter-widgets/controls",
      "model_module_version": "2.0.0",
      "model_name": "ProgressStyleModel",
      "state": {
       "description_width": ""
      }
     },
     "67b2c96a70914a6b9fd242a01df7fca6": {
      "model_module": "@jupyter-widgets/base",
      "model_module_version": "2.0.0",
      "model_name": "LayoutModel",
      "state": {}
     },
     "67e86acb391646dbad0ee60fb3f5d098": {
      "model_module": "@jupyter-widgets/controls",
      "model_module_version": "2.0.0",
      "model_name": "FloatProgressModel",
      "state": {
       "layout": "IPY_MODEL_609e12cd3a464ff0814c7d8a729e6b0d",
       "max": 58,
       "style": "IPY_MODEL_caef3568ba554781bd717a62177a1589",
       "value": 58
      }
     },
     "67f1a8f4a2db4467ae3ee67e81d098cf": {
      "model_module": "@jupyter-widgets/controls",
      "model_module_version": "2.0.0",
      "model_name": "ProgressStyleModel",
      "state": {
       "description_width": ""
      }
     },
     "67fcd8cc26894663a6728a6aae5f55d0": {
      "model_module": "@jupyter-widgets/base",
      "model_module_version": "2.0.0",
      "model_name": "LayoutModel",
      "state": {}
     },
     "682223d90a9f4db1a7738c1837bd7a11": {
      "model_module": "@jupyter-widgets/controls",
      "model_module_version": "2.0.0",
      "model_name": "FloatProgressModel",
      "state": {
       "layout": "IPY_MODEL_5915b6d619fe45649399f479da1f3157",
       "max": 58,
       "style": "IPY_MODEL_9c762b70342b4472b1173adec8b6dfab",
       "value": 58
      }
     },
     "68298b64f9b34c3aba28c99b80e20388": {
      "model_module": "@jupyter-widgets/base",
      "model_module_version": "2.0.0",
      "model_name": "LayoutModel",
      "state": {
       "display": "inline-flex",
       "flex_flow": "row wrap",
       "visibility": "hidden",
       "width": "100%"
      }
     },
     "682e76bc97b84631ba5792444c3122a4": {
      "model_module": "@jupyter-widgets/controls",
      "model_module_version": "2.0.0",
      "model_name": "HTMLModel",
      "state": {
       "layout": "IPY_MODEL_465d1e4b94de40deb1fd10c26f534dd2",
       "style": "IPY_MODEL_a4a441fbddf14b80a9cccc9978e58c1c",
       "value": " 58/58 [00:02&lt;00:00, 25.69it/s]"
      }
     },
     "685239acfe994a359edf1fcf8f3f0ab7": {
      "model_module": "@jupyter-widgets/controls",
      "model_module_version": "2.0.0",
      "model_name": "HTMLStyleModel",
      "state": {
       "description_width": "",
       "font_size": null,
       "text_color": null
      }
     },
     "685cf8ca1c5a4971a0418b32153f9dca": {
      "model_module": "@jupyter-widgets/controls",
      "model_module_version": "2.0.0",
      "model_name": "HTMLModel",
      "state": {
       "layout": "IPY_MODEL_85af676fca9243bdab841fac41277b21",
       "style": "IPY_MODEL_7d2925623af0410fa2d97dc90016af9b",
       "value": " 58/58 [00:02&lt;00:00, 26.04it/s]"
      }
     },
     "6869534a66b64a5ca71e7ead45ade1db": {
      "model_module": "@jupyter-widgets/base",
      "model_module_version": "2.0.0",
      "model_name": "LayoutModel",
      "state": {}
     },
     "68946b025db948f986766ab8fe75adee": {
      "model_module": "@jupyter-widgets/controls",
      "model_module_version": "2.0.0",
      "model_name": "HTMLStyleModel",
      "state": {
       "description_width": "",
       "font_size": null,
       "text_color": null
      }
     },
     "68e0a6629e8041e08e110e3ee1311f02": {
      "model_module": "@jupyter-widgets/base",
      "model_module_version": "2.0.0",
      "model_name": "LayoutModel",
      "state": {}
     },
     "68fabe8f16a84211a07c2b40f11828ac": {
      "model_module": "@jupyter-widgets/controls",
      "model_module_version": "2.0.0",
      "model_name": "HTMLModel",
      "state": {
       "layout": "IPY_MODEL_77e866e2917446108b7259417f6b9850",
       "style": "IPY_MODEL_7012b7eb1470447d8c0a4684fcc5b126",
       "value": " 58/58 [00:02&lt;00:00, 27.35it/s]"
      }
     },
     "690c9ada64634487ab97055273666549": {
      "model_module": "@jupyter-widgets/controls",
      "model_module_version": "2.0.0",
      "model_name": "HTMLModel",
      "state": {
       "layout": "IPY_MODEL_69912e3314e14377869241f9f1c835bb",
       "style": "IPY_MODEL_f518d320bbc748b2bd2667d0b83e9bb7",
       "value": "Validation DataLoader 0: 100%"
      }
     },
     "6918d085b4274e918e091ebc56df8172": {
      "model_module": "@jupyter-widgets/base",
      "model_module_version": "2.0.0",
      "model_name": "LayoutModel",
      "state": {
       "flex": "2"
      }
     },
     "695439a670f1491289a5a443cb672a02": {
      "model_module": "@jupyter-widgets/controls",
      "model_module_version": "2.0.0",
      "model_name": "HTMLStyleModel",
      "state": {
       "description_width": "",
       "font_size": null,
       "text_color": null
      }
     },
     "695e86ed2f9e43d1b9adeb0c37375df1": {
      "model_module": "@jupyter-widgets/base",
      "model_module_version": "2.0.0",
      "model_name": "LayoutModel",
      "state": {
       "flex": "2"
      }
     },
     "6967b3f622cd40e3874ed8535966b43f": {
      "model_module": "@jupyter-widgets/controls",
      "model_module_version": "2.0.0",
      "model_name": "FloatProgressModel",
      "state": {
       "layout": "IPY_MODEL_1c8314cd91bf4c2f8436489859748e26",
       "max": 58,
       "style": "IPY_MODEL_3d4bd4a915694f19a439c28b070c184c",
       "value": 58
      }
     },
     "6978c12396b14474a019fa1c5ceee9f8": {
      "model_module": "@jupyter-widgets/controls",
      "model_module_version": "2.0.0",
      "model_name": "HTMLStyleModel",
      "state": {
       "description_width": "",
       "font_size": null,
       "text_color": null
      }
     },
     "6986c2630c5245cb82f63224f71ae1a1": {
      "model_module": "@jupyter-widgets/controls",
      "model_module_version": "2.0.0",
      "model_name": "HTMLStyleModel",
      "state": {
       "description_width": "",
       "font_size": null,
       "text_color": null
      }
     },
     "69912e3314e14377869241f9f1c835bb": {
      "model_module": "@jupyter-widgets/base",
      "model_module_version": "2.0.0",
      "model_name": "LayoutModel",
      "state": {}
     },
     "69a30491399b488ca1a6ae0d998aa138": {
      "model_module": "@jupyter-widgets/controls",
      "model_module_version": "2.0.0",
      "model_name": "HTMLStyleModel",
      "state": {
       "description_width": "",
       "font_size": null,
       "text_color": null
      }
     },
     "69b0b18787b54207ae2f362a697612e6": {
      "model_module": "@jupyter-widgets/controls",
      "model_module_version": "2.0.0",
      "model_name": "HTMLStyleModel",
      "state": {
       "description_width": "",
       "font_size": null,
       "text_color": null
      }
     },
     "69f1e1dc6adb4286ae19b47d5ed09ae9": {
      "model_module": "@jupyter-widgets/base",
      "model_module_version": "2.0.0",
      "model_name": "LayoutModel",
      "state": {}
     },
     "69f4d94a90fd4d80b585cb7a6611eb55": {
      "model_module": "@jupyter-widgets/base",
      "model_module_version": "2.0.0",
      "model_name": "LayoutModel",
      "state": {}
     },
     "6a108fa8092a45ffa159db45eb9c3e7a": {
      "model_module": "@jupyter-widgets/controls",
      "model_module_version": "2.0.0",
      "model_name": "HTMLStyleModel",
      "state": {
       "description_width": "",
       "font_size": null,
       "text_color": null
      }
     },
     "6a291f005a8c468f931e2aacad02daf1": {
      "model_module": "@jupyter-widgets/controls",
      "model_module_version": "2.0.0",
      "model_name": "HTMLStyleModel",
      "state": {
       "description_width": "",
       "font_size": null,
       "text_color": null
      }
     },
     "6a51181fca28446d8624d14b82bae277": {
      "model_module": "@jupyter-widgets/base",
      "model_module_version": "2.0.0",
      "model_name": "LayoutModel",
      "state": {
       "display": "inline-flex",
       "flex_flow": "row wrap",
       "visibility": "hidden",
       "width": "100%"
      }
     },
     "6a614e3ddd7448c6ab7d488e4375e706": {
      "model_module": "@jupyter-widgets/controls",
      "model_module_version": "2.0.0",
      "model_name": "HTMLModel",
      "state": {
       "layout": "IPY_MODEL_afb1a00c106544e4b6e90d953a18c7ce",
       "style": "IPY_MODEL_706f805ec89746b5ac77b070e831127c",
       "value": "Validation DataLoader 0: 100%"
      }
     },
     "6a62fd91f09341ae86f131120c9f63d9": {
      "model_module": "@jupyter-widgets/controls",
      "model_module_version": "2.0.0",
      "model_name": "HTMLStyleModel",
      "state": {
       "description_width": "",
       "font_size": null,
       "text_color": null
      }
     },
     "6a65d44686294062943cc049a89555fe": {
      "model_module": "@jupyter-widgets/base",
      "model_module_version": "2.0.0",
      "model_name": "LayoutModel",
      "state": {
       "flex": "2"
      }
     },
     "6a9c3bf6046c4a969cd4f1934208b5b3": {
      "model_module": "@jupyter-widgets/base",
      "model_module_version": "2.0.0",
      "model_name": "LayoutModel",
      "state": {
       "flex": "2"
      }
     },
     "6ad08f5e45c14b9e8737329aca1c3d0a": {
      "model_module": "@jupyter-widgets/base",
      "model_module_version": "2.0.0",
      "model_name": "LayoutModel",
      "state": {
       "display": "inline-flex",
       "flex_flow": "row wrap",
       "visibility": "hidden",
       "width": "100%"
      }
     },
     "6af9ac4bd3aa48c8a4ac92ed06bdfe96": {
      "model_module": "@jupyter-widgets/controls",
      "model_module_version": "2.0.0",
      "model_name": "FloatProgressModel",
      "state": {
       "layout": "IPY_MODEL_616b1ab01dd14acab5ccc742df6624ee",
       "max": 58,
       "style": "IPY_MODEL_c05d53eddfab48098a7433d0bd056498",
       "value": 58
      }
     },
     "6b2a96b081a549e7ae5f18aed9da96b5": {
      "model_module": "@jupyter-widgets/controls",
      "model_module_version": "2.0.0",
      "model_name": "ProgressStyleModel",
      "state": {
       "description_width": ""
      }
     },
     "6b5125433e6a4ab9a134afa8f127fd5c": {
      "model_module": "@jupyter-widgets/controls",
      "model_module_version": "2.0.0",
      "model_name": "HTMLStyleModel",
      "state": {
       "description_width": "",
       "font_size": null,
       "text_color": null
      }
     },
     "6ba13e8ac17b42f0a3f3ae4830ff6f9b": {
      "model_module": "@jupyter-widgets/controls",
      "model_module_version": "2.0.0",
      "model_name": "HTMLStyleModel",
      "state": {
       "description_width": "",
       "font_size": null,
       "text_color": null
      }
     },
     "6bcd6590aa344a10a632f5b24a97eaf4": {
      "model_module": "@jupyter-widgets/controls",
      "model_module_version": "2.0.0",
      "model_name": "HTMLStyleModel",
      "state": {
       "description_width": "",
       "font_size": null,
       "text_color": null
      }
     },
     "6bd40cd30e0643cb9c46f67f8447e1c3": {
      "model_module": "@jupyter-widgets/base",
      "model_module_version": "2.0.0",
      "model_name": "LayoutModel",
      "state": {
       "flex": "2"
      }
     },
     "6be8275b31674f74ad89350b35bdf823": {
      "model_module": "@jupyter-widgets/controls",
      "model_module_version": "2.0.0",
      "model_name": "ProgressStyleModel",
      "state": {
       "description_width": ""
      }
     },
     "6bfaa4620f634355b18a89c34a225b73": {
      "model_module": "@jupyter-widgets/controls",
      "model_module_version": "2.0.0",
      "model_name": "HTMLStyleModel",
      "state": {
       "description_width": "",
       "font_size": null,
       "text_color": null
      }
     },
     "6c2db83571fe4b81838836705025b851": {
      "model_module": "@jupyter-widgets/base",
      "model_module_version": "2.0.0",
      "model_name": "LayoutModel",
      "state": {}
     },
     "6c4ec4c8a1e74362b0359e595c846a66": {
      "model_module": "@jupyter-widgets/controls",
      "model_module_version": "2.0.0",
      "model_name": "HTMLModel",
      "state": {
       "layout": "IPY_MODEL_a27bb96fa36140eaba81d1eeda182e7b",
       "style": "IPY_MODEL_4959eacd8532457183f36fc5286c6099",
       "value": " 58/58 [00:02&lt;00:00, 28.23it/s]"
      }
     },
     "6c54e54e058a46b5a3e3729d0e679b7b": {
      "model_module": "@jupyter-widgets/controls",
      "model_module_version": "2.0.0",
      "model_name": "HTMLStyleModel",
      "state": {
       "description_width": "",
       "font_size": null,
       "text_color": null
      }
     },
     "6c5d7b0eeb714b209eeecf3fbf501342": {
      "model_module": "@jupyter-widgets/base",
      "model_module_version": "2.0.0",
      "model_name": "LayoutModel",
      "state": {
       "display": "inline-flex",
       "flex_flow": "row wrap",
       "visibility": "hidden",
       "width": "100%"
      }
     },
     "6c66fd6d7f3e46b089894957e5c108af": {
      "model_module": "@jupyter-widgets/controls",
      "model_module_version": "2.0.0",
      "model_name": "FloatProgressModel",
      "state": {
       "layout": "IPY_MODEL_a4413b48eef74a7a987b2a269452a7c3",
       "max": 58,
       "style": "IPY_MODEL_47aad04535104095a4daf36676c7c122",
       "value": 58
      }
     },
     "6c85b9314a9f41d184764330e40f08c1": {
      "model_module": "@jupyter-widgets/controls",
      "model_module_version": "2.0.0",
      "model_name": "FloatProgressModel",
      "state": {
       "layout": "IPY_MODEL_70875eba0cc84b10bd0aee52bf7c3110",
       "max": 58,
       "style": "IPY_MODEL_0d9be122e8a7431c930ec8905ea2256c",
       "value": 58
      }
     },
     "6c8c2dba63e943c39667a718c555c167": {
      "model_module": "@jupyter-widgets/controls",
      "model_module_version": "2.0.0",
      "model_name": "HTMLModel",
      "state": {
       "layout": "IPY_MODEL_1c342f282eb04fd28662375ce60e27fd",
       "style": "IPY_MODEL_17f36eb27e0f4c9caa552802143174ad",
       "value": " 58/58 [00:02&lt;00:00, 25.14it/s]"
      }
     },
     "6c8fc9fb6d3e41fa89f12bb676627943": {
      "model_module": "@jupyter-widgets/base",
      "model_module_version": "2.0.0",
      "model_name": "LayoutModel",
      "state": {}
     },
     "6ca4c8978b774c779ba8e908a85272d3": {
      "model_module": "@jupyter-widgets/controls",
      "model_module_version": "2.0.0",
      "model_name": "HTMLStyleModel",
      "state": {
       "description_width": "",
       "font_size": null,
       "text_color": null
      }
     },
     "6cadf4d3091a4bcc8abe466cf266307a": {
      "model_module": "@jupyter-widgets/base",
      "model_module_version": "2.0.0",
      "model_name": "LayoutModel",
      "state": {}
     },
     "6cc33e6ff9df438785379cdfb393b7b1": {
      "model_module": "@jupyter-widgets/controls",
      "model_module_version": "2.0.0",
      "model_name": "HTMLStyleModel",
      "state": {
       "description_width": "",
       "font_size": null,
       "text_color": null
      }
     },
     "6cd5c8a63b8a40f18633002dbbf5e181": {
      "model_module": "@jupyter-widgets/controls",
      "model_module_version": "2.0.0",
      "model_name": "HTMLModel",
      "state": {
       "layout": "IPY_MODEL_d8b1e0e9044647ac8968fe489836daac",
       "style": "IPY_MODEL_acd3228bad054859a5e4c36240c9b2e9",
       "value": "Validation DataLoader 0: 100%"
      }
     },
     "6cea77cc94c74dec91253a6ba45cd0eb": {
      "model_module": "@jupyter-widgets/base",
      "model_module_version": "2.0.0",
      "model_name": "LayoutModel",
      "state": {
       "flex": "2"
      }
     },
     "6cf8843ec1084e80b81e7bf302d24bed": {
      "model_module": "@jupyter-widgets/base",
      "model_module_version": "2.0.0",
      "model_name": "LayoutModel",
      "state": {}
     },
     "6d2809feb0564f49a0972726008d0acb": {
      "model_module": "@jupyter-widgets/base",
      "model_module_version": "2.0.0",
      "model_name": "LayoutModel",
      "state": {
       "flex": "2"
      }
     },
     "6d728808273d408ea16e6a3f77f47461": {
      "model_module": "@jupyter-widgets/base",
      "model_module_version": "2.0.0",
      "model_name": "LayoutModel",
      "state": {}
     },
     "6db9468213c84791bb77a513423b6218": {
      "model_module": "@jupyter-widgets/controls",
      "model_module_version": "2.0.0",
      "model_name": "HTMLStyleModel",
      "state": {
       "description_width": "",
       "font_size": null,
       "text_color": null
      }
     },
     "6e0a427512a440cfb74dea3963c051e4": {
      "model_module": "@jupyter-widgets/controls",
      "model_module_version": "2.0.0",
      "model_name": "FloatProgressModel",
      "state": {
       "layout": "IPY_MODEL_5e094754dc5c4e6db1e625f024d05e9f",
       "max": 58,
       "style": "IPY_MODEL_1ebc5e7fe0c742a6936b31df3703c37d",
       "value": 58
      }
     },
     "6e1ac558142e4345a35a17cc0d805434": {
      "model_module": "@jupyter-widgets/base",
      "model_module_version": "2.0.0",
      "model_name": "LayoutModel",
      "state": {}
     },
     "6e1f4c8ef7814bee8862228ac888037f": {
      "model_module": "@jupyter-widgets/controls",
      "model_module_version": "2.0.0",
      "model_name": "FloatProgressModel",
      "state": {
       "layout": "IPY_MODEL_228f6d68c1c445f0b15cfd44c7b2dd26",
       "max": 58,
       "style": "IPY_MODEL_bd6a263a7e2148048ee16645424b4a2b",
       "value": 58
      }
     },
     "6e4813421de04305abd7e0d1d54a4508": {
      "model_module": "@jupyter-widgets/controls",
      "model_module_version": "2.0.0",
      "model_name": "HTMLModel",
      "state": {
       "layout": "IPY_MODEL_c789a8c72ac34332a8533c07ce537ce2",
       "style": "IPY_MODEL_527f2acf1c4b41e383bd771c48bf3456",
       "value": "Validation DataLoader 0: 100%"
      }
     },
     "6e5aa90f67394415b13ab549d82996ae": {
      "model_module": "@jupyter-widgets/controls",
      "model_module_version": "2.0.0",
      "model_name": "HTMLStyleModel",
      "state": {
       "description_width": "",
       "font_size": null,
       "text_color": null
      }
     },
     "6e6c4fd05aad4f2ea293792d8efc2074": {
      "model_module": "@jupyter-widgets/controls",
      "model_module_version": "2.0.0",
      "model_name": "FloatProgressModel",
      "state": {
       "layout": "IPY_MODEL_a189772a0ad84f9bb47085574ac65de5",
       "max": 58,
       "style": "IPY_MODEL_63de8971eef14aa380398a17a953751a",
       "value": 58
      }
     },
     "6e84bd620dc9465fbaeb380367ef305b": {
      "model_module": "@jupyter-widgets/base",
      "model_module_version": "2.0.0",
      "model_name": "LayoutModel",
      "state": {}
     },
     "6eec95aa1eae4a85bc022d12668b9077": {
      "model_module": "@jupyter-widgets/base",
      "model_module_version": "2.0.0",
      "model_name": "LayoutModel",
      "state": {
       "display": "inline-flex",
       "flex_flow": "row wrap",
       "visibility": "hidden",
       "width": "100%"
      }
     },
     "6f2d2249299d48d289b1bd2a6d8ebfb6": {
      "model_module": "@jupyter-widgets/controls",
      "model_module_version": "2.0.0",
      "model_name": "FloatProgressModel",
      "state": {
       "layout": "IPY_MODEL_b1ddedd2c01e4df98d340e3da96bfed2",
       "max": 58,
       "style": "IPY_MODEL_b5970fc1eb7c4aa49f72cb0b06b08fa8",
       "value": 58
      }
     },
     "6f5b8a9b398043fea2cd0a9e1820ad5b": {
      "model_module": "@jupyter-widgets/controls",
      "model_module_version": "2.0.0",
      "model_name": "HTMLStyleModel",
      "state": {
       "description_width": "",
       "font_size": null,
       "text_color": null
      }
     },
     "6f7ec8a93fd24bb19f56cfd7c08b0bd8": {
      "model_module": "@jupyter-widgets/controls",
      "model_module_version": "2.0.0",
      "model_name": "FloatProgressModel",
      "state": {
       "layout": "IPY_MODEL_47f1d8f2b3b8462083be279e45460946",
       "max": 58,
       "style": "IPY_MODEL_7f534e1642c44d47b63682509afc43a3",
       "value": 58
      }
     },
     "6f80f3c62d754a72b29bcba33d679e6f": {
      "model_module": "@jupyter-widgets/controls",
      "model_module_version": "2.0.0",
      "model_name": "HTMLModel",
      "state": {
       "layout": "IPY_MODEL_faf87cd6d4b84cda98b04ee8b35fd71f",
       "style": "IPY_MODEL_8f00658e0e2543ceb6476552e42de68e",
       "value": "Validation DataLoader 0: 100%"
      }
     },
     "6f89157170fe46e7992c84d0ad7ebaae": {
      "model_module": "@jupyter-widgets/base",
      "model_module_version": "2.0.0",
      "model_name": "LayoutModel",
      "state": {}
     },
     "6f98f09b05f04a0699b4971571bbf33b": {
      "model_module": "@jupyter-widgets/base",
      "model_module_version": "2.0.0",
      "model_name": "LayoutModel",
      "state": {
       "display": "inline-flex",
       "flex_flow": "row wrap",
       "visibility": "hidden",
       "width": "100%"
      }
     },
     "6fa72c779a104f4899baf2b86173b1fd": {
      "model_module": "@jupyter-widgets/controls",
      "model_module_version": "2.0.0",
      "model_name": "HTMLStyleModel",
      "state": {
       "description_width": "",
       "font_size": null,
       "text_color": null
      }
     },
     "7012b7eb1470447d8c0a4684fcc5b126": {
      "model_module": "@jupyter-widgets/controls",
      "model_module_version": "2.0.0",
      "model_name": "HTMLStyleModel",
      "state": {
       "description_width": "",
       "font_size": null,
       "text_color": null
      }
     },
     "7016b96ab545445baddc82c9299f86ba": {
      "model_module": "@jupyter-widgets/base",
      "model_module_version": "2.0.0",
      "model_name": "LayoutModel",
      "state": {}
     },
     "7025c109f7ce40228379bbc99c2b7dd0": {
      "model_module": "@jupyter-widgets/base",
      "model_module_version": "2.0.0",
      "model_name": "LayoutModel",
      "state": {
       "flex": "2"
      }
     },
     "704f258ec0554ca68f2e0a82758ebd37": {
      "model_module": "@jupyter-widgets/base",
      "model_module_version": "2.0.0",
      "model_name": "LayoutModel",
      "state": {}
     },
     "706f805ec89746b5ac77b070e831127c": {
      "model_module": "@jupyter-widgets/controls",
      "model_module_version": "2.0.0",
      "model_name": "HTMLStyleModel",
      "state": {
       "description_width": "",
       "font_size": null,
       "text_color": null
      }
     },
     "7082a94bfa8349a29b08956a6398835a": {
      "model_module": "@jupyter-widgets/controls",
      "model_module_version": "2.0.0",
      "model_name": "HTMLModel",
      "state": {
       "layout": "IPY_MODEL_de5277d05ce6425fa31638d6ebf0d3ed",
       "style": "IPY_MODEL_2d78761db5e24341a16c723b8280c8f3",
       "value": " 58/58 [00:02&lt;00:00, 26.99it/s]"
      }
     },
     "70875eba0cc84b10bd0aee52bf7c3110": {
      "model_module": "@jupyter-widgets/base",
      "model_module_version": "2.0.0",
      "model_name": "LayoutModel",
      "state": {
       "flex": "2"
      }
     },
     "70f65d1815fb40e9806dcc3738494df1": {
      "model_module": "@jupyter-widgets/controls",
      "model_module_version": "2.0.0",
      "model_name": "HTMLStyleModel",
      "state": {
       "description_width": "",
       "font_size": null,
       "text_color": null
      }
     },
     "71033ff274974ca48d1c84e6d201a05b": {
      "model_module": "@jupyter-widgets/controls",
      "model_module_version": "2.0.0",
      "model_name": "HTMLStyleModel",
      "state": {
       "description_width": "",
       "font_size": null,
       "text_color": null
      }
     },
     "7110650d9c9a41f29ebc3ff61b7c406c": {
      "model_module": "@jupyter-widgets/controls",
      "model_module_version": "2.0.0",
      "model_name": "HTMLModel",
      "state": {
       "layout": "IPY_MODEL_77e46f6aa1d649edb38999f6a12c2f01",
       "style": "IPY_MODEL_428c5867512f4dd38d0d598649143ff7",
       "value": " 58/58 [00:02&lt;00:00, 25.87it/s]"
      }
     },
     "7133a6fd464f4c769665e69e691b7e42": {
      "model_module": "@jupyter-widgets/base",
      "model_module_version": "2.0.0",
      "model_name": "LayoutModel",
      "state": {}
     },
     "7172c87cc844488e9df3008a67d27f19": {
      "model_module": "@jupyter-widgets/controls",
      "model_module_version": "2.0.0",
      "model_name": "HTMLModel",
      "state": {
       "layout": "IPY_MODEL_09a3208285f749a59e38550b664b17f7",
       "style": "IPY_MODEL_cf25422bd089435ea337a7de2b54283b",
       "value": "Validation DataLoader 0: 100%"
      }
     },
     "717fb92d6325467aaeb9bbf8215c01c9": {
      "model_module": "@jupyter-widgets/controls",
      "model_module_version": "2.0.0",
      "model_name": "HTMLModel",
      "state": {
       "layout": "IPY_MODEL_d8bcfab93df04466984a1f3c70a77cc5",
       "style": "IPY_MODEL_9ad93c020c97454e9676d733541d4e74",
       "value": "Validation DataLoader 0: 100%"
      }
     },
     "7188099d0a8d441f92e5d6793a72fd32": {
      "model_module": "@jupyter-widgets/controls",
      "model_module_version": "2.0.0",
      "model_name": "HTMLStyleModel",
      "state": {
       "description_width": "",
       "font_size": null,
       "text_color": null
      }
     },
     "71b223f9175e4ff0b31cf2e1578420af": {
      "model_module": "@jupyter-widgets/controls",
      "model_module_version": "2.0.0",
      "model_name": "HTMLStyleModel",
      "state": {
       "description_width": "",
       "font_size": null,
       "text_color": null
      }
     },
     "71c3edca9a80452f80c97cd26d01fd42": {
      "model_module": "@jupyter-widgets/base",
      "model_module_version": "2.0.0",
      "model_name": "LayoutModel",
      "state": {
       "display": "inline-flex",
       "flex_flow": "row wrap",
       "visibility": "hidden",
       "width": "100%"
      }
     },
     "71d4ffee0da44993b09738db55f79f93": {
      "model_module": "@jupyter-widgets/controls",
      "model_module_version": "2.0.0",
      "model_name": "ProgressStyleModel",
      "state": {
       "description_width": ""
      }
     },
     "71faef70301d460abcd470b72be9d1be": {
      "model_module": "@jupyter-widgets/controls",
      "model_module_version": "2.0.0",
      "model_name": "HTMLStyleModel",
      "state": {
       "description_width": "",
       "font_size": null,
       "text_color": null
      }
     },
     "720932829bfe46ce9d7befc1f304eb86": {
      "model_module": "@jupyter-widgets/base",
      "model_module_version": "2.0.0",
      "model_name": "LayoutModel",
      "state": {}
     },
     "72194e0f787e4b50871847320ee41d04": {
      "model_module": "@jupyter-widgets/base",
      "model_module_version": "2.0.0",
      "model_name": "LayoutModel",
      "state": {
       "display": "inline-flex",
       "flex_flow": "row wrap",
       "visibility": "hidden",
       "width": "100%"
      }
     },
     "7230cba48c944de59ea08ca257be6355": {
      "model_module": "@jupyter-widgets/controls",
      "model_module_version": "2.0.0",
      "model_name": "HTMLModel",
      "state": {
       "layout": "IPY_MODEL_bea9f2d239934a3fb18c2cc30d1abbe6",
       "style": "IPY_MODEL_d56b6e7b8cd34626aa974c657a1d4cb5",
       "value": "Validation DataLoader 0: 100%"
      }
     },
     "723cb6155af1484dbf03eca16c9fe862": {
      "model_module": "@jupyter-widgets/controls",
      "model_module_version": "2.0.0",
      "model_name": "HTMLStyleModel",
      "state": {
       "description_width": "",
       "font_size": null,
       "text_color": null
      }
     },
     "72796bc099864bf6b45c3577698207b3": {
      "model_module": "@jupyter-widgets/base",
      "model_module_version": "2.0.0",
      "model_name": "LayoutModel",
      "state": {}
     },
     "7288d8c6f543413cbc21b348cdbfe65a": {
      "model_module": "@jupyter-widgets/base",
      "model_module_version": "2.0.0",
      "model_name": "LayoutModel",
      "state": {}
     },
     "72964817de3f41fa9232b2f7af0963eb": {
      "model_module": "@jupyter-widgets/controls",
      "model_module_version": "2.0.0",
      "model_name": "HTMLModel",
      "state": {
       "layout": "IPY_MODEL_e66b7d81f2b140caa59b4110f4bb69d5",
       "style": "IPY_MODEL_3d7b38a471bf49e0a2e30014fe592296",
       "value": " 58/58 [00:02&lt;00:00, 26.03it/s]"
      }
     },
     "7298258c7c1f4704bf8ce27c0e69b971": {
      "model_module": "@jupyter-widgets/controls",
      "model_module_version": "2.0.0",
      "model_name": "HTMLModel",
      "state": {
       "layout": "IPY_MODEL_242c8c224d7f4a8a961d902b967b9ab6",
       "style": "IPY_MODEL_97f6b891927b4944a8321b3da83e69c0",
       "value": " 58/58 [00:02&lt;00:00, 27.92it/s]"
      }
     },
     "72a12affff6a4c57be2453a53bebb3e0": {
      "model_module": "@jupyter-widgets/base",
      "model_module_version": "2.0.0",
      "model_name": "LayoutModel",
      "state": {}
     },
     "72b07e95213b4ff78b8e3c295ec35b62": {
      "model_module": "@jupyter-widgets/controls",
      "model_module_version": "2.0.0",
      "model_name": "HTMLModel",
      "state": {
       "layout": "IPY_MODEL_b914038621544230a5309989a0d15f07",
       "style": "IPY_MODEL_dbdc1add670e4caf85c8a31981871733",
       "value": " 58/58 [00:02&lt;00:00, 25.74it/s]"
      }
     },
     "72f94d152ecb4d79a3bad904ff638114": {
      "model_module": "@jupyter-widgets/controls",
      "model_module_version": "2.0.0",
      "model_name": "HTMLStyleModel",
      "state": {
       "description_width": "",
       "font_size": null,
       "text_color": null
      }
     },
     "72fa7824ef0345688e1e83b685eaab31": {
      "model_module": "@jupyter-widgets/controls",
      "model_module_version": "2.0.0",
      "model_name": "HTMLStyleModel",
      "state": {
       "description_width": "",
       "font_size": null,
       "text_color": null
      }
     },
     "731836716e9947baaaeea125bb055fce": {
      "model_module": "@jupyter-widgets/controls",
      "model_module_version": "2.0.0",
      "model_name": "HTMLModel",
      "state": {
       "layout": "IPY_MODEL_ae583d04693241ffabe32bc52dce6e32",
       "style": "IPY_MODEL_8d0dda2694cc4df88dcc03e4add3d3d5",
       "value": " 58/58 [00:02&lt;00:00, 25.15it/s]"
      }
     },
     "7328ed461d594f73ad20df08744725cb": {
      "model_module": "@jupyter-widgets/controls",
      "model_module_version": "2.0.0",
      "model_name": "HTMLModel",
      "state": {
       "layout": "IPY_MODEL_ef43c3a4505541b2b050f3c6bbbeabc1",
       "style": "IPY_MODEL_fffaa6249a7a41738e4a7c70acc048e0",
       "value": "Validation DataLoader 0: 100%"
      }
     },
     "737cb2d1447a44618c0a71d12ead70ad": {
      "model_module": "@jupyter-widgets/base",
      "model_module_version": "2.0.0",
      "model_name": "LayoutModel",
      "state": {}
     },
     "73963cc09fcf477fa3a55ea9b1a933b3": {
      "model_module": "@jupyter-widgets/base",
      "model_module_version": "2.0.0",
      "model_name": "LayoutModel",
      "state": {}
     },
     "73a2166f1b454c99a79858701a6ab115": {
      "model_module": "@jupyter-widgets/controls",
      "model_module_version": "2.0.0",
      "model_name": "FloatProgressModel",
      "state": {
       "layout": "IPY_MODEL_0f0b492309214bc3ba1ec9ac88478f1e",
       "max": 58,
       "style": "IPY_MODEL_b5d689d08e36462799c8a03d708a3e29",
       "value": 58
      }
     },
     "73cb5e390a54434da3a6b9a92d7dd4a5": {
      "model_module": "@jupyter-widgets/controls",
      "model_module_version": "2.0.0",
      "model_name": "HTMLModel",
      "state": {
       "layout": "IPY_MODEL_32bef47e6d5a46039df01c492bb7e5c1",
       "style": "IPY_MODEL_ce737cc1f444484fb029f114249789fd",
       "value": " 58/58 [00:02&lt;00:00, 25.48it/s]"
      }
     },
     "73fc95dc836048dd9bb9f5a13f5c2dcc": {
      "model_module": "@jupyter-widgets/controls",
      "model_module_version": "2.0.0",
      "model_name": "ProgressStyleModel",
      "state": {
       "description_width": ""
      }
     },
     "742683b2c05144338528763ae2e6fe94": {
      "model_module": "@jupyter-widgets/controls",
      "model_module_version": "2.0.0",
      "model_name": "ProgressStyleModel",
      "state": {
       "description_width": ""
      }
     },
     "747848725ade4a20a8b804a0e64269b5": {
      "model_module": "@jupyter-widgets/controls",
      "model_module_version": "2.0.0",
      "model_name": "HTMLModel",
      "state": {
       "layout": "IPY_MODEL_2bcb2146792e438ebffba8d1c5f49cd8",
       "style": "IPY_MODEL_6cc33e6ff9df438785379cdfb393b7b1",
       "value": "Validation DataLoader 0: 100%"
      }
     },
     "74ab54b5e450440782f71be4f656a51c": {
      "model_module": "@jupyter-widgets/base",
      "model_module_version": "2.0.0",
      "model_name": "LayoutModel",
      "state": {
       "flex": "2"
      }
     },
     "74ac5516b53e467fa2a4f500c77678fe": {
      "model_module": "@jupyter-widgets/base",
      "model_module_version": "2.0.0",
      "model_name": "LayoutModel",
      "state": {
       "flex": "2"
      }
     },
     "74e52ed48a22437fa58c32bfff7317ba": {
      "model_module": "@jupyter-widgets/controls",
      "model_module_version": "2.0.0",
      "model_name": "HTMLStyleModel",
      "state": {
       "description_width": "",
       "font_size": null,
       "text_color": null
      }
     },
     "750dd97f43554cb2bcc539391de596c7": {
      "model_module": "@jupyter-widgets/controls",
      "model_module_version": "2.0.0",
      "model_name": "HTMLStyleModel",
      "state": {
       "description_width": "",
       "font_size": null,
       "text_color": null
      }
     },
     "752272511dce4f8fab0b10f6f0c38b9d": {
      "model_module": "@jupyter-widgets/base",
      "model_module_version": "2.0.0",
      "model_name": "LayoutModel",
      "state": {
       "flex": "2"
      }
     },
     "757da1e90d4944b5a5b4ae91403b46fb": {
      "model_module": "@jupyter-widgets/controls",
      "model_module_version": "2.0.0",
      "model_name": "HTMLModel",
      "state": {
       "layout": "IPY_MODEL_aaa7f5a513a24a9290e1e3ebc1387278",
       "style": "IPY_MODEL_0548592832484b7c98e0c62d0f63b178",
       "value": " 58/58 [00:02&lt;00:00, 27.72it/s]"
      }
     },
     "75b58774dbe84c26b3d5cad7a4bf27b7": {
      "model_module": "@jupyter-widgets/controls",
      "model_module_version": "2.0.0",
      "model_name": "HTMLStyleModel",
      "state": {
       "description_width": "",
       "font_size": null,
       "text_color": null
      }
     },
     "75ef1ae4a33d4f0fb12edbbd161cea7a": {
      "model_module": "@jupyter-widgets/base",
      "model_module_version": "2.0.0",
      "model_name": "LayoutModel",
      "state": {
       "display": "inline-flex",
       "flex_flow": "row wrap",
       "visibility": "hidden",
       "width": "100%"
      }
     },
     "764907ec3c8f4939a0fef327347c6473": {
      "model_module": "@jupyter-widgets/controls",
      "model_module_version": "2.0.0",
      "model_name": "HTMLModel",
      "state": {
       "layout": "IPY_MODEL_8e17f71fea894b9fa5949abc1cbd5441",
       "style": "IPY_MODEL_f57118302c8a447292bdc07654ea79d6",
       "value": " 58/58 [00:02&lt;00:00, 28.39it/s]"
      }
     },
     "765eba89a50c4c8dbccaa6edec54cd84": {
      "model_module": "@jupyter-widgets/base",
      "model_module_version": "2.0.0",
      "model_name": "LayoutModel",
      "state": {}
     },
     "76741c22765149fd9d262f6edd1e9cac": {
      "model_module": "@jupyter-widgets/base",
      "model_module_version": "2.0.0",
      "model_name": "LayoutModel",
      "state": {}
     },
     "76759ad7492b42259d34b75dd7716806": {
      "model_module": "@jupyter-widgets/base",
      "model_module_version": "2.0.0",
      "model_name": "LayoutModel",
      "state": {
       "flex": "2"
      }
     },
     "76a37ecadb394f7da42deb5771318e89": {
      "model_module": "@jupyter-widgets/controls",
      "model_module_version": "2.0.0",
      "model_name": "HTMLStyleModel",
      "state": {
       "description_width": "",
       "font_size": null,
       "text_color": null
      }
     },
     "76bb7083d05c4cbb9c528e2840ba9405": {
      "model_module": "@jupyter-widgets/controls",
      "model_module_version": "2.0.0",
      "model_name": "HTMLModel",
      "state": {
       "layout": "IPY_MODEL_2657b4d07a5d4d878364a3a9cc51e50f",
       "style": "IPY_MODEL_9f4985115e9d42cabb0b04969f5dbfd3",
       "value": " 58/58 [00:02&lt;00:00, 28.27it/s]"
      }
     },
     "76f260a985974571bc1d9632c7299eb7": {
      "model_module": "@jupyter-widgets/controls",
      "model_module_version": "2.0.0",
      "model_name": "HTMLStyleModel",
      "state": {
       "description_width": "",
       "font_size": null,
       "text_color": null
      }
     },
     "7705ca16102b4f3d975c679fa0789495": {
      "model_module": "@jupyter-widgets/controls",
      "model_module_version": "2.0.0",
      "model_name": "ProgressStyleModel",
      "state": {
       "description_width": ""
      }
     },
     "7721617c583f4925bfd6907e0bfa2e5e": {
      "model_module": "@jupyter-widgets/controls",
      "model_module_version": "2.0.0",
      "model_name": "HTMLModel",
      "state": {
       "layout": "IPY_MODEL_0e4b220ddaa74b3d84f0da3b3ef77868",
       "style": "IPY_MODEL_f919e4dfd1bc4b51b27a0c9ca8f6ea62",
       "value": "Validation DataLoader 0: 100%"
      }
     },
     "7721fba5e49b405ca40acff390f2e378": {
      "model_module": "@jupyter-widgets/base",
      "model_module_version": "2.0.0",
      "model_name": "LayoutModel",
      "state": {
       "display": "inline-flex",
       "flex_flow": "row wrap",
       "visibility": "hidden",
       "width": "100%"
      }
     },
     "772575c5575d429a8ec3376ec34ebd28": {
      "model_module": "@jupyter-widgets/controls",
      "model_module_version": "2.0.0",
      "model_name": "ProgressStyleModel",
      "state": {
       "description_width": ""
      }
     },
     "773205efb208428a926707661f645e95": {
      "model_module": "@jupyter-widgets/base",
      "model_module_version": "2.0.0",
      "model_name": "LayoutModel",
      "state": {
       "flex": "2"
      }
     },
     "7741a1ca348a40ac8ac4344a45357e3d": {
      "model_module": "@jupyter-widgets/base",
      "model_module_version": "2.0.0",
      "model_name": "LayoutModel",
      "state": {
       "display": "inline-flex",
       "flex_flow": "row wrap",
       "visibility": "hidden",
       "width": "100%"
      }
     },
     "775f2c0a32484fa6bf2907b850fd67a6": {
      "model_module": "@jupyter-widgets/controls",
      "model_module_version": "2.0.0",
      "model_name": "HTMLModel",
      "state": {
       "layout": "IPY_MODEL_83890ef07d144d708980dd801afaa999",
       "style": "IPY_MODEL_b0fcdd48334941f2af5d4c3314a3e02f",
       "value": " 462/462 [03:16&lt;00:00,  2.35it/s, v_num=4_5, val_loss=0.000738]"
      }
     },
     "7761206bdd024523b18cbf962895118f": {
      "model_module": "@jupyter-widgets/controls",
      "model_module_version": "2.0.0",
      "model_name": "HTMLModel",
      "state": {
       "layout": "IPY_MODEL_dc81e5c4aec54fa4bc95a014071f8bd8",
       "style": "IPY_MODEL_8f7f7715dc464889a77f99c1f41296af",
       "value": " 58/58 [00:02&lt;00:00, 25.94it/s]"
      }
     },
     "779159a7f9e241108f642802a844e792": {
      "model_module": "@jupyter-widgets/controls",
      "model_module_version": "2.0.0",
      "model_name": "HTMLModel",
      "state": {
       "layout": "IPY_MODEL_bae9354143c449c09fd11664ef8fb709",
       "style": "IPY_MODEL_88ae6b49d82546cea99de898a142f9ba",
       "value": " 58/58 [00:02&lt;00:00, 26.27it/s]"
      }
     },
     "77b34741fb6845e7ad29093d45bbd2d7": {
      "model_module": "@jupyter-widgets/base",
      "model_module_version": "2.0.0",
      "model_name": "LayoutModel",
      "state": {
       "display": "inline-flex",
       "flex_flow": "row wrap",
       "visibility": "hidden",
       "width": "100%"
      }
     },
     "77c64989c08c40d0a7ea4bf369a9d7a0": {
      "model_module": "@jupyter-widgets/controls",
      "model_module_version": "2.0.0",
      "model_name": "ProgressStyleModel",
      "state": {
       "description_width": ""
      }
     },
     "77ca8984f1824e0c91fc5bfea6419cbe": {
      "model_module": "@jupyter-widgets/base",
      "model_module_version": "2.0.0",
      "model_name": "LayoutModel",
      "state": {
       "flex": "2"
      }
     },
     "77e46f6aa1d649edb38999f6a12c2f01": {
      "model_module": "@jupyter-widgets/base",
      "model_module_version": "2.0.0",
      "model_name": "LayoutModel",
      "state": {}
     },
     "77e866e2917446108b7259417f6b9850": {
      "model_module": "@jupyter-widgets/base",
      "model_module_version": "2.0.0",
      "model_name": "LayoutModel",
      "state": {}
     },
     "7846d24dc2f94f7e976e67fa51981eff": {
      "model_module": "@jupyter-widgets/controls",
      "model_module_version": "2.0.0",
      "model_name": "HTMLModel",
      "state": {
       "layout": "IPY_MODEL_06a50cf578044dc3aa98031f2087f34d",
       "style": "IPY_MODEL_b7fb7b7bbd994886a7363ebac93e6289",
       "value": " 58/58 [00:02&lt;00:00, 26.81it/s]"
      }
     },
     "785b7d00d5c4465b9d90ed9c289c42ca": {
      "model_module": "@jupyter-widgets/base",
      "model_module_version": "2.0.0",
      "model_name": "LayoutModel",
      "state": {}
     },
     "78a7c5019f0f412daafc4711322918ea": {
      "model_module": "@jupyter-widgets/controls",
      "model_module_version": "2.0.0",
      "model_name": "HTMLModel",
      "state": {
       "layout": "IPY_MODEL_d5849b9b010945d39073da545a0bd846",
       "style": "IPY_MODEL_590402e846834c12918161ce45be653a",
       "value": " 58/58 [00:02&lt;00:00, 27.97it/s]"
      }
     },
     "7932fa2c9ba04d7e998fc9405bb157f2": {
      "model_module": "@jupyter-widgets/controls",
      "model_module_version": "2.0.0",
      "model_name": "HTMLStyleModel",
      "state": {
       "description_width": "",
       "font_size": null,
       "text_color": null
      }
     },
     "793384225c354ffdafff55f1d923185b": {
      "model_module": "@jupyter-widgets/base",
      "model_module_version": "2.0.0",
      "model_name": "LayoutModel",
      "state": {}
     },
     "793a9619adc14a07a077d476e26a284b": {
      "model_module": "@jupyter-widgets/base",
      "model_module_version": "2.0.0",
      "model_name": "LayoutModel",
      "state": {
       "flex": "2"
      }
     },
     "797eb786fc334a4782c9fa9c68adb654": {
      "model_module": "@jupyter-widgets/controls",
      "model_module_version": "2.0.0",
      "model_name": "FloatProgressModel",
      "state": {
       "layout": "IPY_MODEL_e57eff1afd5f4580a9b9290066397f5f",
       "max": 58,
       "style": "IPY_MODEL_e0b123c27e624cba84c5859aeec0f128",
       "value": 58
      }
     },
     "799e03706d004c0ca83e065a90b4460e": {
      "model_module": "@jupyter-widgets/base",
      "model_module_version": "2.0.0",
      "model_name": "LayoutModel",
      "state": {}
     },
     "79a6d6e85bde448b953d3453aafd418b": {
      "model_module": "@jupyter-widgets/base",
      "model_module_version": "2.0.0",
      "model_name": "LayoutModel",
      "state": {}
     },
     "79b201e67bad4377bf259eb58a0aff13": {
      "model_module": "@jupyter-widgets/base",
      "model_module_version": "2.0.0",
      "model_name": "LayoutModel",
      "state": {
       "display": "inline-flex",
       "flex_flow": "row wrap",
       "visibility": "hidden",
       "width": "100%"
      }
     },
     "79dc2473ce19413898f7ea35de35ccb3": {
      "model_module": "@jupyter-widgets/controls",
      "model_module_version": "2.0.0",
      "model_name": "HTMLStyleModel",
      "state": {
       "description_width": "",
       "font_size": null,
       "text_color": null
      }
     },
     "79e3758404d6439492915e908b317305": {
      "model_module": "@jupyter-widgets/controls",
      "model_module_version": "2.0.0",
      "model_name": "HTMLModel",
      "state": {
       "layout": "IPY_MODEL_cfc1b4f9ca354320b1b7d6c3f470eef1",
       "style": "IPY_MODEL_4cf3be0598df456885acc49d829a80d6",
       "value": " 58/58 [00:02&lt;00:00, 25.72it/s]"
      }
     },
     "79ee2a68e0c04435a302f02d586a7797": {
      "model_module": "@jupyter-widgets/controls",
      "model_module_version": "2.0.0",
      "model_name": "ProgressStyleModel",
      "state": {
       "description_width": ""
      }
     },
     "7a1185480f6d4f0285def707bfb1aeb2": {
      "model_module": "@jupyter-widgets/controls",
      "model_module_version": "2.0.0",
      "model_name": "HTMLStyleModel",
      "state": {
       "description_width": "",
       "font_size": null,
       "text_color": null
      }
     },
     "7a23ae6949bd4db3b93c8917bddd4c90": {
      "model_module": "@jupyter-widgets/base",
      "model_module_version": "2.0.0",
      "model_name": "LayoutModel",
      "state": {
       "flex": "2"
      }
     },
     "7a33916ad66d4c33b0a379d23e30f690": {
      "model_module": "@jupyter-widgets/controls",
      "model_module_version": "2.0.0",
      "model_name": "FloatProgressModel",
      "state": {
       "layout": "IPY_MODEL_7f131f1a6db745beb9a9b09d29519742",
       "max": 58,
       "style": "IPY_MODEL_ddb47c6008ad4b60997ece1fd70da0ff",
       "value": 58
      }
     },
     "7a62d34217f04c72ab445ae3c03f38fa": {
      "model_module": "@jupyter-widgets/controls",
      "model_module_version": "2.0.0",
      "model_name": "FloatProgressModel",
      "state": {
       "layout": "IPY_MODEL_93afb4e8c99147779ce1f99e56fb66c9",
       "max": 58,
       "style": "IPY_MODEL_2f5af0b422424af08fc016a62514ecbc",
       "value": 58
      }
     },
     "7a9df397cafa4932b264c52044e0f0e9": {
      "model_module": "@jupyter-widgets/controls",
      "model_module_version": "2.0.0",
      "model_name": "HTMLStyleModel",
      "state": {
       "description_width": "",
       "font_size": null,
       "text_color": null
      }
     },
     "7acb60bc9be741dcafd707708bbf33b4": {
      "model_module": "@jupyter-widgets/base",
      "model_module_version": "2.0.0",
      "model_name": "LayoutModel",
      "state": {}
     },
     "7afbf2f4a7fd4242b1f1ff44062844bb": {
      "model_module": "@jupyter-widgets/controls",
      "model_module_version": "2.0.0",
      "model_name": "HTMLStyleModel",
      "state": {
       "description_width": "",
       "font_size": null,
       "text_color": null
      }
     },
     "7b12c3abe3d9475ba70a73316c3bae87": {
      "model_module": "@jupyter-widgets/controls",
      "model_module_version": "2.0.0",
      "model_name": "HTMLModel",
      "state": {
       "layout": "IPY_MODEL_4c1bb0e6da7143dc838ef550d138cc87",
       "style": "IPY_MODEL_12239d10d6454e69aa6d2d2b903035e1",
       "value": " 58/58 [00:02&lt;00:00, 26.78it/s]"
      }
     },
     "7b2216ea557840c3af1c985415215247": {
      "model_module": "@jupyter-widgets/base",
      "model_module_version": "2.0.0",
      "model_name": "LayoutModel",
      "state": {}
     },
     "7bcb47d5fd66476c88906c5f541ac151": {
      "model_module": "@jupyter-widgets/base",
      "model_module_version": "2.0.0",
      "model_name": "LayoutModel",
      "state": {}
     },
     "7bee676e848f4cdba34d96a4bb5352a3": {
      "model_module": "@jupyter-widgets/base",
      "model_module_version": "2.0.0",
      "model_name": "LayoutModel",
      "state": {
       "display": "inline-flex",
       "flex_flow": "row wrap",
       "visibility": "hidden",
       "width": "100%"
      }
     },
     "7c02906454ee43699c40b5cfb20b05ac": {
      "model_module": "@jupyter-widgets/controls",
      "model_module_version": "2.0.0",
      "model_name": "FloatProgressModel",
      "state": {
       "layout": "IPY_MODEL_e461e0fb589d4394b371ccfeb645762c",
       "max": 58,
       "style": "IPY_MODEL_5370e02935a449e9828941c553d2c8cb",
       "value": 58
      }
     },
     "7c1660d85e444c58b3e1ca3ce9cc1a29": {
      "model_module": "@jupyter-widgets/base",
      "model_module_version": "2.0.0",
      "model_name": "LayoutModel",
      "state": {
       "flex": "2"
      }
     },
     "7c4a246b53ce4400b3b476cc035e9011": {
      "model_module": "@jupyter-widgets/base",
      "model_module_version": "2.0.0",
      "model_name": "LayoutModel",
      "state": {
       "flex": "2"
      }
     },
     "7c66e659691f4898bdfcdbf85e0b7743": {
      "model_module": "@jupyter-widgets/base",
      "model_module_version": "2.0.0",
      "model_name": "LayoutModel",
      "state": {
       "display": "inline-flex",
       "flex_flow": "row wrap",
       "visibility": "hidden",
       "width": "100%"
      }
     },
     "7cab2be7a8594bf48085cabafea6ea70": {
      "model_module": "@jupyter-widgets/controls",
      "model_module_version": "2.0.0",
      "model_name": "HTMLModel",
      "state": {
       "layout": "IPY_MODEL_660880a23d8f4e2193ff2bad5ffea618",
       "style": "IPY_MODEL_2b5393dc286542fe8b9317691ff169d1",
       "value": " 58/58 [00:02&lt;00:00, 27.99it/s]"
      }
     },
     "7caebd188d254e76b53ce7e686800273": {
      "model_module": "@jupyter-widgets/controls",
      "model_module_version": "2.0.0",
      "model_name": "HTMLStyleModel",
      "state": {
       "description_width": "",
       "font_size": null,
       "text_color": null
      }
     },
     "7cbcad1cd348408ca10a4365e4c403c7": {
      "model_module": "@jupyter-widgets/base",
      "model_module_version": "2.0.0",
      "model_name": "LayoutModel",
      "state": {}
     },
     "7cd5b5a534e54a378cf9fffb95f3ef26": {
      "model_module": "@jupyter-widgets/base",
      "model_module_version": "2.0.0",
      "model_name": "LayoutModel",
      "state": {
       "flex": "2"
      }
     },
     "7cdaf563d9de45febbfdf7ddaacedde2": {
      "model_module": "@jupyter-widgets/controls",
      "model_module_version": "2.0.0",
      "model_name": "HTMLStyleModel",
      "state": {
       "description_width": "",
       "font_size": null,
       "text_color": null
      }
     },
     "7d2925623af0410fa2d97dc90016af9b": {
      "model_module": "@jupyter-widgets/controls",
      "model_module_version": "2.0.0",
      "model_name": "HTMLStyleModel",
      "state": {
       "description_width": "",
       "font_size": null,
       "text_color": null
      }
     },
     "7d885ed31a5d461da0719f9e69bdda77": {
      "model_module": "@jupyter-widgets/controls",
      "model_module_version": "2.0.0",
      "model_name": "FloatProgressModel",
      "state": {
       "layout": "IPY_MODEL_c81f5d6528fe4e83a0d92ffcce54902e",
       "max": 58,
       "style": "IPY_MODEL_89802e6c47d34fa3a26cec617ad5c051",
       "value": 58
      }
     },
     "7d94d186861748ed9ceffafbaaa072d5": {
      "model_module": "@jupyter-widgets/base",
      "model_module_version": "2.0.0",
      "model_name": "LayoutModel",
      "state": {
       "display": "inline-flex",
       "flex_flow": "row wrap",
       "visibility": "hidden",
       "width": "100%"
      }
     },
     "7d9651e73587497cb071450fedd30457": {
      "model_module": "@jupyter-widgets/base",
      "model_module_version": "2.0.0",
      "model_name": "LayoutModel",
      "state": {
       "flex": "2"
      }
     },
     "7d9c918676db413cbe1079568a13a3f6": {
      "model_module": "@jupyter-widgets/controls",
      "model_module_version": "2.0.0",
      "model_name": "HTMLModel",
      "state": {
       "layout": "IPY_MODEL_24d1eae673034222a7d3c62eed7907ed",
       "style": "IPY_MODEL_ce71590a303a4cc5af926d24e1ec1830",
       "value": "Validation DataLoader 0: 100%"
      }
     },
     "7dd87c9440ce43f5bd803ad0e06abf6e": {
      "model_module": "@jupyter-widgets/controls",
      "model_module_version": "2.0.0",
      "model_name": "ProgressStyleModel",
      "state": {
       "description_width": ""
      }
     },
     "7e1d767148fc4cf08397b4f5bf796901": {
      "model_module": "@jupyter-widgets/base",
      "model_module_version": "2.0.0",
      "model_name": "LayoutModel",
      "state": {}
     },
     "7e2b23f3bdbb42e4b368cea7744348ed": {
      "model_module": "@jupyter-widgets/controls",
      "model_module_version": "2.0.0",
      "model_name": "FloatProgressModel",
      "state": {
       "layout": "IPY_MODEL_42b2b8fa11c043a6a75e1721a7a1d218",
       "max": 58,
       "style": "IPY_MODEL_046a98ba280841d2a1e63edc54cefa9e",
       "value": 58
      }
     },
     "7e33ee9b09ec4c1fb027b30afdbd1d42": {
      "model_module": "@jupyter-widgets/base",
      "model_module_version": "2.0.0",
      "model_name": "LayoutModel",
      "state": {}
     },
     "7e4fa57e512f479597a5ecaca9fb8c16": {
      "model_module": "@jupyter-widgets/controls",
      "model_module_version": "2.0.0",
      "model_name": "FloatProgressModel",
      "state": {
       "layout": "IPY_MODEL_3987d98f989c46ebb71a076dc843bcb5",
       "max": 58,
       "style": "IPY_MODEL_9b9d802963884be4888ca2fe0ffc716f",
       "value": 58
      }
     },
     "7e5036196d1449568e10bbaa322cacc8": {
      "model_module": "@jupyter-widgets/controls",
      "model_module_version": "2.0.0",
      "model_name": "ProgressStyleModel",
      "state": {
       "description_width": ""
      }
     },
     "7e5c25f636f64837810381997bfd2dea": {
      "model_module": "@jupyter-widgets/controls",
      "model_module_version": "2.0.0",
      "model_name": "HTMLStyleModel",
      "state": {
       "description_width": "",
       "font_size": null,
       "text_color": null
      }
     },
     "7e9dade519074b97ab0f276b610e90d8": {
      "model_module": "@jupyter-widgets/base",
      "model_module_version": "2.0.0",
      "model_name": "LayoutModel",
      "state": {}
     },
     "7eb1f4a3a7be43c09b2862a5a7cead09": {
      "model_module": "@jupyter-widgets/controls",
      "model_module_version": "2.0.0",
      "model_name": "HTMLStyleModel",
      "state": {
       "description_width": "",
       "font_size": null,
       "text_color": null
      }
     },
     "7efdceb5c0084968a40a4576e4e374f3": {
      "model_module": "@jupyter-widgets/base",
      "model_module_version": "2.0.0",
      "model_name": "LayoutModel",
      "state": {}
     },
     "7f131f1a6db745beb9a9b09d29519742": {
      "model_module": "@jupyter-widgets/base",
      "model_module_version": "2.0.0",
      "model_name": "LayoutModel",
      "state": {
       "flex": "2"
      }
     },
     "7f1e92a29ed8422b9c0acc10d4ebf920": {
      "model_module": "@jupyter-widgets/base",
      "model_module_version": "2.0.0",
      "model_name": "LayoutModel",
      "state": {
       "display": "inline-flex",
       "flex_flow": "row wrap",
       "visibility": "hidden",
       "width": "100%"
      }
     },
     "7f2a2cb8d518403dbf315624dc9161c2": {
      "model_module": "@jupyter-widgets/base",
      "model_module_version": "2.0.0",
      "model_name": "LayoutModel",
      "state": {
       "flex": "2"
      }
     },
     "7f534e1642c44d47b63682509afc43a3": {
      "model_module": "@jupyter-widgets/controls",
      "model_module_version": "2.0.0",
      "model_name": "ProgressStyleModel",
      "state": {
       "description_width": ""
      }
     },
     "7f55845f47654379a6a046626fe62b1a": {
      "model_module": "@jupyter-widgets/controls",
      "model_module_version": "2.0.0",
      "model_name": "HTMLStyleModel",
      "state": {
       "description_width": "",
       "font_size": null,
       "text_color": null
      }
     },
     "7f82dad8d00348afaa9c6124174482c1": {
      "model_module": "@jupyter-widgets/base",
      "model_module_version": "2.0.0",
      "model_name": "LayoutModel",
      "state": {}
     },
     "7f8cb15b8dd74f4fb13fabf2a0a46d11": {
      "model_module": "@jupyter-widgets/base",
      "model_module_version": "2.0.0",
      "model_name": "LayoutModel",
      "state": {
       "display": "inline-flex",
       "flex_flow": "row wrap",
       "visibility": "hidden",
       "width": "100%"
      }
     },
     "7f8df2fc56b647ef94e6f8444f358e8a": {
      "model_module": "@jupyter-widgets/controls",
      "model_module_version": "2.0.0",
      "model_name": "HTMLStyleModel",
      "state": {
       "description_width": "",
       "font_size": null,
       "text_color": null
      }
     },
     "7f98e372b33e44fc8371e276a1b52b79": {
      "model_module": "@jupyter-widgets/controls",
      "model_module_version": "2.0.0",
      "model_name": "HTMLModel",
      "state": {
       "layout": "IPY_MODEL_ac309226d3f14de58326485478b8c9e2",
       "style": "IPY_MODEL_05b6729ebdf74ad4890cff111940bac5",
       "value": "Validation DataLoader 0: 100%"
      }
     },
     "7fc4760d6ca6463ca0fca20fb539a763": {
      "model_module": "@jupyter-widgets/base",
      "model_module_version": "2.0.0",
      "model_name": "LayoutModel",
      "state": {
       "display": "inline-flex",
       "flex_flow": "row wrap",
       "visibility": "hidden",
       "width": "100%"
      }
     },
     "7fc4c840ced44be880906959fd120a47": {
      "model_module": "@jupyter-widgets/base",
      "model_module_version": "2.0.0",
      "model_name": "LayoutModel",
      "state": {}
     },
     "7ff239c8f35742a98a9859686950672b": {
      "model_module": "@jupyter-widgets/base",
      "model_module_version": "2.0.0",
      "model_name": "LayoutModel",
      "state": {
       "flex": "2"
      }
     },
     "806b631888af47cbb61b4f908169dd24": {
      "model_module": "@jupyter-widgets/controls",
      "model_module_version": "2.0.0",
      "model_name": "FloatProgressModel",
      "state": {
       "layout": "IPY_MODEL_6cea77cc94c74dec91253a6ba45cd0eb",
       "max": 58,
       "style": "IPY_MODEL_67833480c4da4db4836c2cdb3ba9069f",
       "value": 58
      }
     },
     "808e6c8967a540e4b80edd51b7494b3c": {
      "model_module": "@jupyter-widgets/controls",
      "model_module_version": "2.0.0",
      "model_name": "HTMLStyleModel",
      "state": {
       "description_width": "",
       "font_size": null,
       "text_color": null
      }
     },
     "80b2d45512c64987b48b96bbf36d2d51": {
      "model_module": "@jupyter-widgets/base",
      "model_module_version": "2.0.0",
      "model_name": "LayoutModel",
      "state": {
       "flex": "2"
      }
     },
     "80c8f6ce00ae4e7fbc330c4d7e3a8a62": {
      "model_module": "@jupyter-widgets/controls",
      "model_module_version": "2.0.0",
      "model_name": "HTMLStyleModel",
      "state": {
       "description_width": "",
       "font_size": null,
       "text_color": null
      }
     },
     "80e64eacf2cb4fafa814b249bd6ce996": {
      "model_module": "@jupyter-widgets/base",
      "model_module_version": "2.0.0",
      "model_name": "LayoutModel",
      "state": {}
     },
     "81410a7e3a1246e4b7ba4cc10c5614ce": {
      "model_module": "@jupyter-widgets/base",
      "model_module_version": "2.0.0",
      "model_name": "LayoutModel",
      "state": {}
     },
     "8150b5f0bc824c90a8a2d76e4e832991": {
      "model_module": "@jupyter-widgets/base",
      "model_module_version": "2.0.0",
      "model_name": "LayoutModel",
      "state": {
       "flex": "2"
      }
     },
     "8168af6b295f42c7b8996146880bebb5": {
      "model_module": "@jupyter-widgets/controls",
      "model_module_version": "2.0.0",
      "model_name": "FloatProgressModel",
      "state": {
       "layout": "IPY_MODEL_29a90e89339c495d8fcea8bf8e48c0af",
       "max": 58,
       "style": "IPY_MODEL_1d00d374538442c5a5f4961f5a250695",
       "value": 58
      }
     },
     "816949ac33314fe888a9423d1b1379fd": {
      "model_module": "@jupyter-widgets/base",
      "model_module_version": "2.0.0",
      "model_name": "LayoutModel",
      "state": {}
     },
     "8194cfef1d4746efbe4ed1c3ab9b31af": {
      "model_module": "@jupyter-widgets/controls",
      "model_module_version": "2.0.0",
      "model_name": "HTMLModel",
      "state": {
       "layout": "IPY_MODEL_88524c40f35849148153b8ef3d1d372d",
       "style": "IPY_MODEL_695439a670f1491289a5a443cb672a02",
       "value": "Validation DataLoader 0: 100%"
      }
     },
     "8194f63a9cd8451f9bb24948e402cb05": {
      "model_module": "@jupyter-widgets/base",
      "model_module_version": "2.0.0",
      "model_name": "LayoutModel",
      "state": {
       "flex": "2"
      }
     },
     "81a855bde1cd43cba594113694a29e8c": {
      "model_module": "@jupyter-widgets/base",
      "model_module_version": "2.0.0",
      "model_name": "LayoutModel",
      "state": {
       "flex": "2"
      }
     },
     "820535ddfc204a2daa84b5bba3c5fe7a": {
      "model_module": "@jupyter-widgets/controls",
      "model_module_version": "2.0.0",
      "model_name": "HTMLStyleModel",
      "state": {
       "description_width": "",
       "font_size": null,
       "text_color": null
      }
     },
     "8207091a45de492593f010b4201211b8": {
      "model_module": "@jupyter-widgets/controls",
      "model_module_version": "2.0.0",
      "model_name": "HTMLModel",
      "state": {
       "layout": "IPY_MODEL_ea59efc668f241158b265e4496cd5cfa",
       "style": "IPY_MODEL_3afca9c13cca4deb97a84410d669d678",
       "value": " 58/58 [00:02&lt;00:00, 25.52it/s]"
      }
     },
     "823ee29164454d6d8757325fe5f7ef71": {
      "model_module": "@jupyter-widgets/controls",
      "model_module_version": "2.0.0",
      "model_name": "HTMLModel",
      "state": {
       "layout": "IPY_MODEL_9a12c149e2c34b93ad3c5fd19cdbc2e3",
       "style": "IPY_MODEL_1468a52b549747218a75e30bf6501537",
       "value": "Validation DataLoader 0: 100%"
      }
     },
     "8245b1430ef94195a77368d8c3b4a875": {
      "model_module": "@jupyter-widgets/base",
      "model_module_version": "2.0.0",
      "model_name": "LayoutModel",
      "state": {}
     },
     "826f0ae7c12046d6ae1ab14544e1419f": {
      "model_module": "@jupyter-widgets/controls",
      "model_module_version": "2.0.0",
      "model_name": "HTMLStyleModel",
      "state": {
       "description_width": "",
       "font_size": null,
       "text_color": null
      }
     },
     "8283f41e31bc4f869723f9451a8ebe51": {
      "model_module": "@jupyter-widgets/base",
      "model_module_version": "2.0.0",
      "model_name": "LayoutModel",
      "state": {}
     },
     "82bb97e51a4d444993cdb66a280a32e8": {
      "model_module": "@jupyter-widgets/base",
      "model_module_version": "2.0.0",
      "model_name": "LayoutModel",
      "state": {
       "display": "inline-flex",
       "flex_flow": "row wrap",
       "visibility": "hidden",
       "width": "100%"
      }
     },
     "82bd1855f6d047b9878bb9a45fc124ec": {
      "model_module": "@jupyter-widgets/controls",
      "model_module_version": "2.0.0",
      "model_name": "HTMLModel",
      "state": {
       "layout": "IPY_MODEL_94695d65539549ccb37ceb2ed5648659",
       "style": "IPY_MODEL_3b2813cbc6114ed7bef3cd13846fdefa",
       "value": " 58/58 [00:02&lt;00:00, 25.88it/s]"
      }
     },
     "82e81fe4e84848feb833e733a9ce1b93": {
      "model_module": "@jupyter-widgets/controls",
      "model_module_version": "2.0.0",
      "model_name": "FloatProgressModel",
      "state": {
       "layout": "IPY_MODEL_d88bab95b9014a52bb8d200d2bce47ef",
       "max": 58,
       "style": "IPY_MODEL_3318dadf35ba422d9b81c54d0889c6c8",
       "value": 58
      }
     },
     "8309c03145864bb7a3478e495d89ec9f": {
      "model_module": "@jupyter-widgets/controls",
      "model_module_version": "2.0.0",
      "model_name": "ProgressStyleModel",
      "state": {
       "description_width": ""
      }
     },
     "831af517b41f429cba00945adc82b14d": {
      "model_module": "@jupyter-widgets/controls",
      "model_module_version": "2.0.0",
      "model_name": "HTMLStyleModel",
      "state": {
       "description_width": "",
       "font_size": null,
       "text_color": null
      }
     },
     "837e7163e5eb4d3db0e9305dfcb3380f": {
      "model_module": "@jupyter-widgets/base",
      "model_module_version": "2.0.0",
      "model_name": "LayoutModel",
      "state": {}
     },
     "83890ef07d144d708980dd801afaa999": {
      "model_module": "@jupyter-widgets/base",
      "model_module_version": "2.0.0",
      "model_name": "LayoutModel",
      "state": {}
     },
     "838951ab76ee451e9fa1a99aef46aa30": {
      "model_module": "@jupyter-widgets/base",
      "model_module_version": "2.0.0",
      "model_name": "LayoutModel",
      "state": {
       "flex": "2"
      }
     },
     "83a296a986684c81ba8edf4bf5021aa3": {
      "model_module": "@jupyter-widgets/controls",
      "model_module_version": "2.0.0",
      "model_name": "HTMLModel",
      "state": {
       "layout": "IPY_MODEL_68e0a6629e8041e08e110e3ee1311f02",
       "style": "IPY_MODEL_041b62c10d774204b24a107a1f126bb2",
       "value": " 58/58 [00:02&lt;00:00, 27.74it/s]"
      }
     },
     "83ca8ed000274ef29ecf14b0e56646d8": {
      "model_module": "@jupyter-widgets/base",
      "model_module_version": "2.0.0",
      "model_name": "LayoutModel",
      "state": {
       "display": "inline-flex",
       "flex_flow": "row wrap",
       "visibility": "hidden",
       "width": "100%"
      }
     },
     "83eb80fe57f547b5bc5e9c32eb3b0eb1": {
      "model_module": "@jupyter-widgets/base",
      "model_module_version": "2.0.0",
      "model_name": "LayoutModel",
      "state": {}
     },
     "84241ab077c740219e8b1967523b6f42": {
      "model_module": "@jupyter-widgets/base",
      "model_module_version": "2.0.0",
      "model_name": "LayoutModel",
      "state": {
       "flex": "2"
      }
     },
     "842c310f620743569d560de84a0602c0": {
      "model_module": "@jupyter-widgets/controls",
      "model_module_version": "2.0.0",
      "model_name": "HTMLModel",
      "state": {
       "layout": "IPY_MODEL_c9a8a3d45ceb4d6982e3398908c56844",
       "style": "IPY_MODEL_808e6c8967a540e4b80edd51b7494b3c",
       "value": " 58/58 [00:02&lt;00:00, 27.13it/s]"
      }
     },
     "8481c0899e004caa9128bd63dafdb1a5": {
      "model_module": "@jupyter-widgets/controls",
      "model_module_version": "2.0.0",
      "model_name": "HTMLModel",
      "state": {
       "layout": "IPY_MODEL_e51fdce130584bf29e9b506be7405c69",
       "style": "IPY_MODEL_b535dada6bc744b78166a77099259efc",
       "value": " 58/58 [00:02&lt;00:00, 26.99it/s]"
      }
     },
     "8489ca0ed07945e49231db1fd6621ad7": {
      "model_module": "@jupyter-widgets/controls",
      "model_module_version": "2.0.0",
      "model_name": "ProgressStyleModel",
      "state": {
       "description_width": ""
      }
     },
     "84baf261428743afa7b3a7e8d2b9d21e": {
      "model_module": "@jupyter-widgets/controls",
      "model_module_version": "2.0.0",
      "model_name": "HTMLModel",
      "state": {
       "layout": "IPY_MODEL_4e1c05fbb3e34f3d8ab81cd87777a968",
       "style": "IPY_MODEL_831af517b41f429cba00945adc82b14d",
       "value": " 58/58 [00:02&lt;00:00, 28.01it/s]"
      }
     },
     "84d0902ecd7c4dddbf95a9f996f7852c": {
      "model_module": "@jupyter-widgets/controls",
      "model_module_version": "2.0.0",
      "model_name": "HTMLModel",
      "state": {
       "layout": "IPY_MODEL_0db7fd92c26340cc812212c7c7c2d398",
       "style": "IPY_MODEL_f779b01b78cf4516b638e6a8f2107aba",
       "value": "Validation DataLoader 0: 100%"
      }
     },
     "850b9ff633204c62a7291c8de3707a73": {
      "model_module": "@jupyter-widgets/controls",
      "model_module_version": "2.0.0",
      "model_name": "HTMLStyleModel",
      "state": {
       "description_width": "",
       "font_size": null,
       "text_color": null
      }
     },
     "851c51f4205944efada751b852ebcb23": {
      "model_module": "@jupyter-widgets/controls",
      "model_module_version": "2.0.0",
      "model_name": "HTMLModel",
      "state": {
       "layout": "IPY_MODEL_d85fe13b43c447229931e37f45cdaf90",
       "style": "IPY_MODEL_e9188b44b1b54a9e8332ec9650c600fd",
       "value": " 58/58 [00:02&lt;00:00, 26.09it/s]"
      }
     },
     "8525e502b4504718b3922d4aeb877858": {
      "model_module": "@jupyter-widgets/base",
      "model_module_version": "2.0.0",
      "model_name": "LayoutModel",
      "state": {}
     },
     "854e5bea3e83462b91226a15e3320f0b": {
      "model_module": "@jupyter-widgets/controls",
      "model_module_version": "2.0.0",
      "model_name": "HTMLStyleModel",
      "state": {
       "description_width": "",
       "font_size": null,
       "text_color": null
      }
     },
     "857ee55160ee4b9db340489425c56744": {
      "model_module": "@jupyter-widgets/controls",
      "model_module_version": "2.0.0",
      "model_name": "FloatProgressModel",
      "state": {
       "layout": "IPY_MODEL_793a9619adc14a07a077d476e26a284b",
       "max": 58,
       "style": "IPY_MODEL_220609eedc2d4d8481b0d77b6d3525f2",
       "value": 58
      }
     },
     "8584ab69922544a2bb1d62253b0956e9": {
      "model_module": "@jupyter-widgets/base",
      "model_module_version": "2.0.0",
      "model_name": "LayoutModel",
      "state": {
       "flex": "2"
      }
     },
     "85af676fca9243bdab841fac41277b21": {
      "model_module": "@jupyter-widgets/base",
      "model_module_version": "2.0.0",
      "model_name": "LayoutModel",
      "state": {}
     },
     "85b0c62596724385915627ef9d42cfc3": {
      "model_module": "@jupyter-widgets/controls",
      "model_module_version": "2.0.0",
      "model_name": "HTMLModel",
      "state": {
       "layout": "IPY_MODEL_00208ed3436c471b8dd21dc15dcf46c3",
       "style": "IPY_MODEL_4b828b39e18245488dce9609fbd6f537",
       "value": "Validation DataLoader 0: 100%"
      }
     },
     "85b24bbcb490484ba6f08d05ca11fda5": {
      "model_module": "@jupyter-widgets/controls",
      "model_module_version": "2.0.0",
      "model_name": "HTMLModel",
      "state": {
       "layout": "IPY_MODEL_2698eed5295748bcbede0461124714f2",
       "style": "IPY_MODEL_022fe3458e3c47f1a433dcbd17e47260",
       "value": "Validation DataLoader 0: 100%"
      }
     },
     "85d499e938584d3bb4fd8a4abd7e430f": {
      "model_module": "@jupyter-widgets/base",
      "model_module_version": "2.0.0",
      "model_name": "LayoutModel",
      "state": {}
     },
     "861000e476d74304ad2c1de8916e73e0": {
      "model_module": "@jupyter-widgets/controls",
      "model_module_version": "2.0.0",
      "model_name": "HTMLModel",
      "state": {
       "layout": "IPY_MODEL_db3dfbaa863a43c1b6dffcf896ff1152",
       "style": "IPY_MODEL_6645b80932d249b0b7418a1504b91368",
       "value": " 58/58 [00:02&lt;00:00, 27.04it/s]"
      }
     },
     "863bc32b43ae4bcabcd3d75e03914538": {
      "model_module": "@jupyter-widgets/controls",
      "model_module_version": "2.0.0",
      "model_name": "HTMLModel",
      "state": {
       "layout": "IPY_MODEL_799e03706d004c0ca83e065a90b4460e",
       "style": "IPY_MODEL_46277fdd51df43c4b4c739843a775559",
       "value": " 58/58 [00:02&lt;00:00, 27.28it/s]"
      }
     },
     "8676e2e7b86745af96dc39d5170ef8d5": {
      "model_module": "@jupyter-widgets/controls",
      "model_module_version": "2.0.0",
      "model_name": "ProgressStyleModel",
      "state": {
       "description_width": ""
      }
     },
     "869216d84cd045eaaeaf9cc9338dfaca": {
      "model_module": "@jupyter-widgets/base",
      "model_module_version": "2.0.0",
      "model_name": "LayoutModel",
      "state": {
       "flex": "2"
      }
     },
     "86cfc001a00b4cd8a785ad30b2f23596": {
      "model_module": "@jupyter-widgets/controls",
      "model_module_version": "2.0.0",
      "model_name": "FloatProgressModel",
      "state": {
       "layout": "IPY_MODEL_6a65d44686294062943cc049a89555fe",
       "max": 58,
       "style": "IPY_MODEL_561c35b5a9d648f5af76c6b2b3b81a9c",
       "value": 58
      }
     },
     "86e6d56024174814a9d2d705562ecef2": {
      "model_module": "@jupyter-widgets/controls",
      "model_module_version": "2.0.0",
      "model_name": "HTMLStyleModel",
      "state": {
       "description_width": "",
       "font_size": null,
       "text_color": null
      }
     },
     "871b5998ee9d45a09bb4d38ef2545612": {
      "model_module": "@jupyter-widgets/controls",
      "model_module_version": "2.0.0",
      "model_name": "HTMLStyleModel",
      "state": {
       "description_width": "",
       "font_size": null,
       "text_color": null
      }
     },
     "8720b4bae49848238d4dea2f0efc2593": {
      "model_module": "@jupyter-widgets/base",
      "model_module_version": "2.0.0",
      "model_name": "LayoutModel",
      "state": {}
     },
     "875ed89c815f4dfb91a23082595e9980": {
      "model_module": "@jupyter-widgets/controls",
      "model_module_version": "2.0.0",
      "model_name": "HTMLStyleModel",
      "state": {
       "description_width": "",
       "font_size": null,
       "text_color": null
      }
     },
     "877bba6912ea4e9aa4771b5f1ba39097": {
      "model_module": "@jupyter-widgets/controls",
      "model_module_version": "2.0.0",
      "model_name": "HTMLStyleModel",
      "state": {
       "description_width": "",
       "font_size": null,
       "text_color": null
      }
     },
     "879d0d77474e4e46a8e67f7dd7c8dfe7": {
      "model_module": "@jupyter-widgets/base",
      "model_module_version": "2.0.0",
      "model_name": "LayoutModel",
      "state": {}
     },
     "87a9ad39da414f97ba2248b903d4fe92": {
      "model_module": "@jupyter-widgets/controls",
      "model_module_version": "2.0.0",
      "model_name": "HTMLModel",
      "state": {
       "layout": "IPY_MODEL_da2bd85867264d7ea7a81acbc936f1c8",
       "style": "IPY_MODEL_b00d85d881564c21b9340dde11cc9818",
       "value": " 58/58 [00:02&lt;00:00, 25.68it/s]"
      }
     },
     "87aee9d4b1ba42f3beec3527d179962d": {
      "model_module": "@jupyter-widgets/base",
      "model_module_version": "2.0.0",
      "model_name": "LayoutModel",
      "state": {
       "display": "inline-flex",
       "flex_flow": "row wrap",
       "visibility": "hidden",
       "width": "100%"
      }
     },
     "87c116af930e4dce9384370687fd5334": {
      "model_module": "@jupyter-widgets/base",
      "model_module_version": "2.0.0",
      "model_name": "LayoutModel",
      "state": {
       "display": "inline-flex",
       "flex_flow": "row wrap",
       "visibility": "hidden",
       "width": "100%"
      }
     },
     "87ccc6b636f84bf4ac9ec24a6f915f66": {
      "model_module": "@jupyter-widgets/controls",
      "model_module_version": "2.0.0",
      "model_name": "HTMLStyleModel",
      "state": {
       "description_width": "",
       "font_size": null,
       "text_color": null
      }
     },
     "87dd29eb96b7433daf11063ed4a43b01": {
      "model_module": "@jupyter-widgets/base",
      "model_module_version": "2.0.0",
      "model_name": "LayoutModel",
      "state": {}
     },
     "87efd6a386194ae1808840ac71390b61": {
      "model_module": "@jupyter-widgets/controls",
      "model_module_version": "2.0.0",
      "model_name": "HTMLStyleModel",
      "state": {
       "description_width": "",
       "font_size": null,
       "text_color": null
      }
     },
     "8808874db2694278a84021fa9ff8c9fa": {
      "model_module": "@jupyter-widgets/controls",
      "model_module_version": "2.0.0",
      "model_name": "HTMLModel",
      "state": {
       "layout": "IPY_MODEL_3bac29f5c5734488b5eea007906cfb2e",
       "style": "IPY_MODEL_ad6d0bf32b8e4e52a569a582c8862e1d",
       "value": "Validation DataLoader 0: 100%"
      }
     },
     "88276b1d0b2f48d8ba9909383b25c69b": {
      "model_module": "@jupyter-widgets/base",
      "model_module_version": "2.0.0",
      "model_name": "LayoutModel",
      "state": {}
     },
     "883ac88e87714434ada3a35694edfd91": {
      "model_module": "@jupyter-widgets/base",
      "model_module_version": "2.0.0",
      "model_name": "LayoutModel",
      "state": {}
     },
     "884985d47a934c93a3cb5704538f56d4": {
      "model_module": "@jupyter-widgets/controls",
      "model_module_version": "2.0.0",
      "model_name": "FloatProgressModel",
      "state": {
       "layout": "IPY_MODEL_6a9c3bf6046c4a969cd4f1934208b5b3",
       "max": 58,
       "style": "IPY_MODEL_380811f5779341918d792f01596d81fc",
       "value": 58
      }
     },
     "8851df2be50e41b086bbd18ca30cd461": {
      "model_module": "@jupyter-widgets/controls",
      "model_module_version": "2.0.0",
      "model_name": "HTMLStyleModel",
      "state": {
       "description_width": "",
       "font_size": null,
       "text_color": null
      }
     },
     "88524c40f35849148153b8ef3d1d372d": {
      "model_module": "@jupyter-widgets/base",
      "model_module_version": "2.0.0",
      "model_name": "LayoutModel",
      "state": {}
     },
     "8858a0cf58b74095a465cf98983e446c": {
      "model_module": "@jupyter-widgets/controls",
      "model_module_version": "2.0.0",
      "model_name": "HTMLStyleModel",
      "state": {
       "description_width": "",
       "font_size": null,
       "text_color": null
      }
     },
     "8864bc4dde724da5a798b172b0b5d9dc": {
      "model_module": "@jupyter-widgets/controls",
      "model_module_version": "2.0.0",
      "model_name": "HTMLModel",
      "state": {
       "layout": "IPY_MODEL_72796bc099864bf6b45c3577698207b3",
       "style": "IPY_MODEL_14b0772684e74db4935bca9ee568ca92",
       "value": "Validation DataLoader 0: 100%"
      }
     },
     "88ae6b49d82546cea99de898a142f9ba": {
      "model_module": "@jupyter-widgets/controls",
      "model_module_version": "2.0.0",
      "model_name": "HTMLStyleModel",
      "state": {
       "description_width": "",
       "font_size": null,
       "text_color": null
      }
     },
     "88b6124fd6b84def9e5032754923244a": {
      "model_module": "@jupyter-widgets/controls",
      "model_module_version": "2.0.0",
      "model_name": "HTMLModel",
      "state": {
       "layout": "IPY_MODEL_eda410bacab14749842953aff95cbff2",
       "style": "IPY_MODEL_7a9df397cafa4932b264c52044e0f0e9",
       "value": "Validation DataLoader 0: 100%"
      }
     },
     "88c86a549828494986835e9761cea000": {
      "model_module": "@jupyter-widgets/base",
      "model_module_version": "2.0.0",
      "model_name": "LayoutModel",
      "state": {
       "display": "inline-flex",
       "flex_flow": "row wrap",
       "visibility": "hidden",
       "width": "100%"
      }
     },
     "88de1d17c6b7407f8a8ebb6b7c12c7ac": {
      "model_module": "@jupyter-widgets/base",
      "model_module_version": "2.0.0",
      "model_name": "LayoutModel",
      "state": {
       "flex": "2"
      }
     },
     "8901a0d9d60d4d4fa31e1fec9e3aa16b": {
      "model_module": "@jupyter-widgets/controls",
      "model_module_version": "2.0.0",
      "model_name": "ProgressStyleModel",
      "state": {
       "description_width": ""
      }
     },
     "89085274bff24219960d98e5f2bcd9ea": {
      "model_module": "@jupyter-widgets/controls",
      "model_module_version": "2.0.0",
      "model_name": "HTMLStyleModel",
      "state": {
       "description_width": "",
       "font_size": null,
       "text_color": null
      }
     },
     "890ec045a83d4e828054d86ec9f7144c": {
      "model_module": "@jupyter-widgets/controls",
      "model_module_version": "2.0.0",
      "model_name": "HTMLStyleModel",
      "state": {
       "description_width": "",
       "font_size": null,
       "text_color": null
      }
     },
     "89261036ed1a4a388df93f6e63ab7bcd": {
      "model_module": "@jupyter-widgets/base",
      "model_module_version": "2.0.0",
      "model_name": "LayoutModel",
      "state": {}
     },
     "894ddfcd5024493a85aed12d8e6c9626": {
      "model_module": "@jupyter-widgets/controls",
      "model_module_version": "2.0.0",
      "model_name": "HTMLStyleModel",
      "state": {
       "description_width": "",
       "font_size": null,
       "text_color": null
      }
     },
     "8966c96880704b19924cd20401837527": {
      "model_module": "@jupyter-widgets/base",
      "model_module_version": "2.0.0",
      "model_name": "LayoutModel",
      "state": {
       "flex": "2"
      }
     },
     "89802e6c47d34fa3a26cec617ad5c051": {
      "model_module": "@jupyter-widgets/controls",
      "model_module_version": "2.0.0",
      "model_name": "ProgressStyleModel",
      "state": {
       "description_width": ""
      }
     },
     "89938867592e4fab92adbca6c1deda48": {
      "model_module": "@jupyter-widgets/controls",
      "model_module_version": "2.0.0",
      "model_name": "HTMLModel",
      "state": {
       "layout": "IPY_MODEL_9e753583b99e455e854c3700be3d9003",
       "style": "IPY_MODEL_6107e7df0fb94948aaab84812b7cd4ae",
       "value": "Validation DataLoader 0: 100%"
      }
     },
     "89beb3bb75eb472a9fc6d6c5c7802b4e": {
      "model_module": "@jupyter-widgets/base",
      "model_module_version": "2.0.0",
      "model_name": "LayoutModel",
      "state": {}
     },
     "89fff5ba80f54de7ae5119b20f42b3ba": {
      "model_module": "@jupyter-widgets/controls",
      "model_module_version": "2.0.0",
      "model_name": "ProgressStyleModel",
      "state": {
       "description_width": ""
      }
     },
     "8a0f4dca60ce42afbf2556c031a28cbe": {
      "model_module": "@jupyter-widgets/controls",
      "model_module_version": "2.0.0",
      "model_name": "HTMLStyleModel",
      "state": {
       "description_width": "",
       "font_size": null,
       "text_color": null
      }
     },
     "8a4d298dee424c5ebcff7c4e77c09a1c": {
      "model_module": "@jupyter-widgets/controls",
      "model_module_version": "2.0.0",
      "model_name": "HTMLModel",
      "state": {
       "layout": "IPY_MODEL_4ee2798373db463e9329cec43cf6a465",
       "style": "IPY_MODEL_6e5aa90f67394415b13ab549d82996ae",
       "value": "Validation DataLoader 0: 100%"
      }
     },
     "8a840a977e18473f829eb9c77e4bd86c": {
      "model_module": "@jupyter-widgets/controls",
      "model_module_version": "2.0.0",
      "model_name": "HTMLModel",
      "state": {
       "layout": "IPY_MODEL_1dfa19fca6c545aa824ccd6d2d9f302b",
       "style": "IPY_MODEL_18dbc3ed4f7a4fe0a7ba4e03ea6f625c",
       "value": "Validation DataLoader 0: 100%"
      }
     },
     "8a9727776be6499d844a7a25eb1ea499": {
      "model_module": "@jupyter-widgets/controls",
      "model_module_version": "2.0.0",
      "model_name": "HTMLModel",
      "state": {
       "layout": "IPY_MODEL_f65d24089a504a6e84424994d47b65a5",
       "style": "IPY_MODEL_43614d7f82114e3ca7e86d281ddc0f59",
       "value": "Validation DataLoader 0: 100%"
      }
     },
     "8aa6e638308e423283ec9afee9968267": {
      "model_module": "@jupyter-widgets/controls",
      "model_module_version": "2.0.0",
      "model_name": "HTMLModel",
      "state": {
       "layout": "IPY_MODEL_0337923867764b1aaaefa7a1fb326766",
       "style": "IPY_MODEL_4424816f076f426f9d8ccc32753a8ace",
       "value": "Validation DataLoader 0: 100%"
      }
     },
     "8abe64e2b4a34650affa0feb08c84147": {
      "model_module": "@jupyter-widgets/controls",
      "model_module_version": "2.0.0",
      "model_name": "ProgressStyleModel",
      "state": {
       "description_width": ""
      }
     },
     "8ac13898a0284d38a3d53ef03d13d1ee": {
      "model_module": "@jupyter-widgets/controls",
      "model_module_version": "2.0.0",
      "model_name": "HTMLModel",
      "state": {
       "layout": "IPY_MODEL_0b42c66fc7e54b36b88b830c9ff76c11",
       "style": "IPY_MODEL_70f65d1815fb40e9806dcc3738494df1",
       "value": "Validation DataLoader 0: 100%"
      }
     },
     "8b21f77eea3e4c829ffc4690ec3a83a4": {
      "model_module": "@jupyter-widgets/base",
      "model_module_version": "2.0.0",
      "model_name": "LayoutModel",
      "state": {}
     },
     "8b27cdbc26284b36a61d891d239fe47e": {
      "model_module": "@jupyter-widgets/controls",
      "model_module_version": "2.0.0",
      "model_name": "FloatProgressModel",
      "state": {
       "layout": "IPY_MODEL_25db58f9b4a14f4195bc68d7ef9d412a",
       "max": 58,
       "style": "IPY_MODEL_c4f11e7caace4772ad583aed6bf1a0b4",
       "value": 58
      }
     },
     "8b3778f8d0284498997d83028269bec2": {
      "model_module": "@jupyter-widgets/base",
      "model_module_version": "2.0.0",
      "model_name": "LayoutModel",
      "state": {}
     },
     "8b377b4e51944542ae93608f888eb5ba": {
      "model_module": "@jupyter-widgets/base",
      "model_module_version": "2.0.0",
      "model_name": "LayoutModel",
      "state": {}
     },
     "8b3b976cbd1047f5b1cb1033ce393078": {
      "model_module": "@jupyter-widgets/controls",
      "model_module_version": "2.0.0",
      "model_name": "HTMLStyleModel",
      "state": {
       "description_width": "",
       "font_size": null,
       "text_color": null
      }
     },
     "8b4a3ef9d5d34762a94921585b6ac9ec": {
      "model_module": "@jupyter-widgets/controls",
      "model_module_version": "2.0.0",
      "model_name": "HTMLStyleModel",
      "state": {
       "description_width": "",
       "font_size": null,
       "text_color": null
      }
     },
     "8b60e4af6df04ba98a0ab38db649e238": {
      "model_module": "@jupyter-widgets/controls",
      "model_module_version": "2.0.0",
      "model_name": "HTMLModel",
      "state": {
       "layout": "IPY_MODEL_95152cec05934b0692f3ee6d154110f7",
       "style": "IPY_MODEL_420ec6b8a23a49d18c5d57f16401c676",
       "value": "Validation DataLoader 0: 100%"
      }
     },
     "8b62b6f7fdc84917b6f2d0d65a1a2203": {
      "model_module": "@jupyter-widgets/controls",
      "model_module_version": "2.0.0",
      "model_name": "HTMLStyleModel",
      "state": {
       "description_width": "",
       "font_size": null,
       "text_color": null
      }
     },
     "8bad769f2d884077a565d193cb4efc22": {
      "model_module": "@jupyter-widgets/controls",
      "model_module_version": "2.0.0",
      "model_name": "HTMLStyleModel",
      "state": {
       "description_width": "",
       "font_size": null,
       "text_color": null
      }
     },
     "8bb1a4111c184f038ab3ca398f54d85f": {
      "model_module": "@jupyter-widgets/controls",
      "model_module_version": "2.0.0",
      "model_name": "HTMLStyleModel",
      "state": {
       "description_width": "",
       "font_size": null,
       "text_color": null
      }
     },
     "8bbb361c9767463db254f6c571fb674f": {
      "model_module": "@jupyter-widgets/controls",
      "model_module_version": "2.0.0",
      "model_name": "ProgressStyleModel",
      "state": {
       "description_width": ""
      }
     },
     "8bc9a4ee78ba4946b6e3997017088694": {
      "model_module": "@jupyter-widgets/base",
      "model_module_version": "2.0.0",
      "model_name": "LayoutModel",
      "state": {}
     },
     "8bd849826062411cbdde66a907e2c448": {
      "model_module": "@jupyter-widgets/controls",
      "model_module_version": "2.0.0",
      "model_name": "HTMLStyleModel",
      "state": {
       "description_width": "",
       "font_size": null,
       "text_color": null
      }
     },
     "8bdadf230cdf46c6b4a8ddb92a47ac83": {
      "model_module": "@jupyter-widgets/controls",
      "model_module_version": "2.0.0",
      "model_name": "ProgressStyleModel",
      "state": {
       "description_width": ""
      }
     },
     "8be11a2c6d6e441eb854f4d578fe931f": {
      "model_module": "@jupyter-widgets/base",
      "model_module_version": "2.0.0",
      "model_name": "LayoutModel",
      "state": {
       "display": "inline-flex",
       "flex_flow": "row wrap",
       "visibility": "hidden",
       "width": "100%"
      }
     },
     "8bf6210f56af4428b752a92fa27bd287": {
      "model_module": "@jupyter-widgets/controls",
      "model_module_version": "2.0.0",
      "model_name": "HTMLModel",
      "state": {
       "layout": "IPY_MODEL_8283f41e31bc4f869723f9451a8ebe51",
       "style": "IPY_MODEL_b76e57710b86448caabc68a004599b99",
       "value": "Validation DataLoader 0: 100%"
      }
     },
     "8c65f748b42d4d6d85248669daeaf324": {
      "model_module": "@jupyter-widgets/controls",
      "model_module_version": "2.0.0",
      "model_name": "HTMLModel",
      "state": {
       "layout": "IPY_MODEL_5268f50f50284d53a61029248f22b432",
       "style": "IPY_MODEL_6a291f005a8c468f931e2aacad02daf1",
       "value": " 58/58 [00:02&lt;00:00, 27.78it/s]"
      }
     },
     "8ccd99129fa640eb92b2b1bace761bf9": {
      "model_module": "@jupyter-widgets/base",
      "model_module_version": "2.0.0",
      "model_name": "LayoutModel",
      "state": {
       "display": "inline-flex",
       "flex_flow": "row wrap",
       "visibility": "hidden",
       "width": "100%"
      }
     },
     "8d0dda2694cc4df88dcc03e4add3d3d5": {
      "model_module": "@jupyter-widgets/controls",
      "model_module_version": "2.0.0",
      "model_name": "HTMLStyleModel",
      "state": {
       "description_width": "",
       "font_size": null,
       "text_color": null
      }
     },
     "8ddc8d6a90604e92a813dfa18e2e93d4": {
      "model_module": "@jupyter-widgets/base",
      "model_module_version": "2.0.0",
      "model_name": "LayoutModel",
      "state": {}
     },
     "8de299e64cbe4133b1ae3b0e2143f5b2": {
      "model_module": "@jupyter-widgets/controls",
      "model_module_version": "2.0.0",
      "model_name": "HTMLStyleModel",
      "state": {
       "description_width": "",
       "font_size": null,
       "text_color": null
      }
     },
     "8e17f71fea894b9fa5949abc1cbd5441": {
      "model_module": "@jupyter-widgets/base",
      "model_module_version": "2.0.0",
      "model_name": "LayoutModel",
      "state": {}
     },
     "8e1fcd2ee6064484895363910438516f": {
      "model_module": "@jupyter-widgets/base",
      "model_module_version": "2.0.0",
      "model_name": "LayoutModel",
      "state": {}
     },
     "8e209dc0f6264c77a3e9db5abf75fcf6": {
      "model_module": "@jupyter-widgets/controls",
      "model_module_version": "2.0.0",
      "model_name": "ProgressStyleModel",
      "state": {
       "description_width": ""
      }
     },
     "8e2d6a47df3f47d0ab46434cf24cc778": {
      "model_module": "@jupyter-widgets/base",
      "model_module_version": "2.0.0",
      "model_name": "LayoutModel",
      "state": {}
     },
     "8e35cfbb14844a288c62693c20705f76": {
      "model_module": "@jupyter-widgets/controls",
      "model_module_version": "2.0.0",
      "model_name": "HTMLModel",
      "state": {
       "layout": "IPY_MODEL_f66b2a7b8f4a48f1b79dac70308adc8b",
       "style": "IPY_MODEL_36b5e5a86aa449189c3547e61b77e1c5",
       "value": " 58/58 [00:02&lt;00:00, 26.43it/s]"
      }
     },
     "8e59358de61b4b239703901e58fda71e": {
      "model_module": "@jupyter-widgets/controls",
      "model_module_version": "2.0.0",
      "model_name": "HTMLModel",
      "state": {
       "layout": "IPY_MODEL_c2183b5f847b4a7ab8cf1aedb5bd4079",
       "style": "IPY_MODEL_5b1d2560c5e24c25971bf63b726431b9",
       "value": "Validation DataLoader 0: 100%"
      }
     },
     "8e5ac3209d8647c58d4055ce1fb3bde3": {
      "model_module": "@jupyter-widgets/controls",
      "model_module_version": "2.0.0",
      "model_name": "HTMLStyleModel",
      "state": {
       "description_width": "",
       "font_size": null,
       "text_color": null
      }
     },
     "8e9d850b566441638bfc5dd961f58e67": {
      "model_module": "@jupyter-widgets/base",
      "model_module_version": "2.0.0",
      "model_name": "LayoutModel",
      "state": {
       "display": "inline-flex",
       "flex_flow": "row wrap",
       "visibility": "hidden",
       "width": "100%"
      }
     },
     "8e9ed9a32a774f7d915d136b5a33a0a0": {
      "model_module": "@jupyter-widgets/controls",
      "model_module_version": "2.0.0",
      "model_name": "FloatProgressModel",
      "state": {
       "layout": "IPY_MODEL_f5693cdbe7d14bee86de0faa7347f1ea",
       "max": 58,
       "style": "IPY_MODEL_3542b6928ff244bdac6bbab3aa839b76",
       "value": 58
      }
     },
     "8ea03cb5f74244e8a9f48d13012f77b3": {
      "model_module": "@jupyter-widgets/controls",
      "model_module_version": "2.0.0",
      "model_name": "HTMLModel",
      "state": {
       "layout": "IPY_MODEL_c3d0558c9d2b4484aabb79d7e21ea5cc",
       "style": "IPY_MODEL_d06ce3a2d5a04dbdb7cb545b9cb49fab",
       "value": "Validation DataLoader 0: 100%"
      }
     },
     "8efd14d8c3a3412a9630b46a4569c819": {
      "model_module": "@jupyter-widgets/base",
      "model_module_version": "2.0.0",
      "model_name": "LayoutModel",
      "state": {}
     },
     "8f00658e0e2543ceb6476552e42de68e": {
      "model_module": "@jupyter-widgets/controls",
      "model_module_version": "2.0.0",
      "model_name": "HTMLStyleModel",
      "state": {
       "description_width": "",
       "font_size": null,
       "text_color": null
      }
     },
     "8f25defa36204de88bcde7fc339e76ad": {
      "model_module": "@jupyter-widgets/base",
      "model_module_version": "2.0.0",
      "model_name": "LayoutModel",
      "state": {
       "display": "inline-flex",
       "flex_flow": "row wrap",
       "visibility": "hidden",
       "width": "100%"
      }
     },
     "8f29e61e41c2484e992ca3652d26c3ef": {
      "model_module": "@jupyter-widgets/controls",
      "model_module_version": "2.0.0",
      "model_name": "HTMLModel",
      "state": {
       "layout": "IPY_MODEL_81410a7e3a1246e4b7ba4cc10c5614ce",
       "style": "IPY_MODEL_65207dfff8494bd7b2748748551ad232",
       "value": " 58/58 [00:02&lt;00:00, 26.88it/s]"
      }
     },
     "8f55fb7c83b84799987c29bcef261edd": {
      "model_module": "@jupyter-widgets/controls",
      "model_module_version": "2.0.0",
      "model_name": "HTMLModel",
      "state": {
       "layout": "IPY_MODEL_1ab80653e50d491d91bfe74c3d00e541",
       "style": "IPY_MODEL_877bba6912ea4e9aa4771b5f1ba39097",
       "value": " 58/58 [00:02&lt;00:00, 26.01it/s]"
      }
     },
     "8f683e3b3abe42729b0b3c986aab057c": {
      "model_module": "@jupyter-widgets/controls",
      "model_module_version": "2.0.0",
      "model_name": "FloatProgressModel",
      "state": {
       "layout": "IPY_MODEL_10c375615d1543dca1482e3c99515067",
       "max": 58,
       "style": "IPY_MODEL_8676e2e7b86745af96dc39d5170ef8d5",
       "value": 58
      }
     },
     "8f6aa374a01540519442864a68e152df": {
      "model_module": "@jupyter-widgets/base",
      "model_module_version": "2.0.0",
      "model_name": "LayoutModel",
      "state": {
       "flex": "2"
      }
     },
     "8f7599ccd85f4ed59e207ac8199019a3": {
      "model_module": "@jupyter-widgets/base",
      "model_module_version": "2.0.0",
      "model_name": "LayoutModel",
      "state": {
       "flex": "2"
      }
     },
     "8f7f7715dc464889a77f99c1f41296af": {
      "model_module": "@jupyter-widgets/controls",
      "model_module_version": "2.0.0",
      "model_name": "HTMLStyleModel",
      "state": {
       "description_width": "",
       "font_size": null,
       "text_color": null
      }
     },
     "8f985c3d875f488a916f89be714a24a4": {
      "model_module": "@jupyter-widgets/controls",
      "model_module_version": "2.0.0",
      "model_name": "HTMLStyleModel",
      "state": {
       "description_width": "",
       "font_size": null,
       "text_color": null
      }
     },
     "908c45db771f4b9abbcb2d40b967e810": {
      "model_module": "@jupyter-widgets/base",
      "model_module_version": "2.0.0",
      "model_name": "LayoutModel",
      "state": {}
     },
     "9091d077ff7b4fa5bf3dfb53fb1bebd5": {
      "model_module": "@jupyter-widgets/controls",
      "model_module_version": "2.0.0",
      "model_name": "ProgressStyleModel",
      "state": {
       "description_width": ""
      }
     },
     "909ba28fd7be4fe980a3171a340bb1fc": {
      "model_module": "@jupyter-widgets/base",
      "model_module_version": "2.0.0",
      "model_name": "LayoutModel",
      "state": {}
     },
     "909dc66decda4929addc96f965ea10ad": {
      "model_module": "@jupyter-widgets/controls",
      "model_module_version": "2.0.0",
      "model_name": "FloatProgressModel",
      "state": {
       "layout": "IPY_MODEL_9b76cf5124744115b21f4fc4cdf4617f",
       "max": 58,
       "style": "IPY_MODEL_08ed4b483c8f40ce8fee5af5b9886875",
       "value": 58
      }
     },
     "90b53d87069b4a06b4519148e7397732": {
      "model_module": "@jupyter-widgets/controls",
      "model_module_version": "2.0.0",
      "model_name": "HTMLStyleModel",
      "state": {
       "description_width": "",
       "font_size": null,
       "text_color": null
      }
     },
     "90d7916188fe4e50850e439dbcf93699": {
      "model_module": "@jupyter-widgets/base",
      "model_module_version": "2.0.0",
      "model_name": "LayoutModel",
      "state": {}
     },
     "90f68c6e7c9e4c03b35617bb1ffaedd7": {
      "model_module": "@jupyter-widgets/base",
      "model_module_version": "2.0.0",
      "model_name": "LayoutModel",
      "state": {}
     },
     "910aff4fbde34c69aab84f879bcf954d": {
      "model_module": "@jupyter-widgets/controls",
      "model_module_version": "2.0.0",
      "model_name": "HTMLModel",
      "state": {
       "layout": "IPY_MODEL_b7e4dae6baa0419599beca6b3eedc8c2",
       "style": "IPY_MODEL_ff267b99abcf4c19849e34d937c51c1e",
       "value": "Validation DataLoader 0: 100%"
      }
     },
     "911b9a5bdbb04c49b9a8e38953a0309a": {
      "model_module": "@jupyter-widgets/controls",
      "model_module_version": "2.0.0",
      "model_name": "ProgressStyleModel",
      "state": {
       "description_width": ""
      }
     },
     "913263ad5282491a805a5fcc849d4235": {
      "model_module": "@jupyter-widgets/controls",
      "model_module_version": "2.0.0",
      "model_name": "HTMLModel",
      "state": {
       "layout": "IPY_MODEL_816949ac33314fe888a9423d1b1379fd",
       "style": "IPY_MODEL_a81063792944439d8cd1ea1e6c058486",
       "value": " 58/58 [00:02&lt;00:00, 26.06it/s]"
      }
     },
     "9147835f1db445e48931439b27bf33df": {
      "model_module": "@jupyter-widgets/controls",
      "model_module_version": "2.0.0",
      "model_name": "HTMLStyleModel",
      "state": {
       "description_width": "",
       "font_size": null,
       "text_color": null
      }
     },
     "9152efa2062d44168f23b213d1bf4f5b": {
      "model_module": "@jupyter-widgets/controls",
      "model_module_version": "2.0.0",
      "model_name": "ProgressStyleModel",
      "state": {
       "description_width": ""
      }
     },
     "9184887eb1bb443fb53b9ff578d00b1e": {
      "model_module": "@jupyter-widgets/controls",
      "model_module_version": "2.0.0",
      "model_name": "FloatProgressModel",
      "state": {
       "layout": "IPY_MODEL_258cf5df72394e93a5ba7c82b2124692",
       "max": 58,
       "style": "IPY_MODEL_ae0bad6c3c3f4661a000c9de86e34cdd",
       "value": 58
      }
     },
     "91cbd1f07b164bba8570b7a8dcf7fe16": {
      "model_module": "@jupyter-widgets/base",
      "model_module_version": "2.0.0",
      "model_name": "LayoutModel",
      "state": {}
     },
     "922524213ba34a5bbfdf277d53e13275": {
      "model_module": "@jupyter-widgets/controls",
      "model_module_version": "2.0.0",
      "model_name": "HTMLModel",
      "state": {
       "layout": "IPY_MODEL_ce43de436aaa44bab541ae5f415d5a9d",
       "style": "IPY_MODEL_01c7537ae09f4976b4c36c683586946a",
       "value": " 58/58 [00:02&lt;00:00, 25.47it/s]"
      }
     },
     "926d52710337483ebeda7e71511a1028": {
      "model_module": "@jupyter-widgets/base",
      "model_module_version": "2.0.0",
      "model_name": "LayoutModel",
      "state": {}
     },
     "9291c8e487ef4e1793bf658dbe7f52bb": {
      "model_module": "@jupyter-widgets/controls",
      "model_module_version": "2.0.0",
      "model_name": "FloatProgressModel",
      "state": {
       "layout": "IPY_MODEL_e48895f6a969448d94c2f214b4b8862d",
       "max": 58,
       "style": "IPY_MODEL_5163324e54df40d096c68f4d8a4b2456",
       "value": 58
      }
     },
     "92d835a44f6146cc9d56055fddc5a02b": {
      "model_module": "@jupyter-widgets/base",
      "model_module_version": "2.0.0",
      "model_name": "LayoutModel",
      "state": {}
     },
     "92f1cdf23536437199af72244b6c1f7f": {
      "model_module": "@jupyter-widgets/controls",
      "model_module_version": "2.0.0",
      "model_name": "HTMLStyleModel",
      "state": {
       "description_width": "",
       "font_size": null,
       "text_color": null
      }
     },
     "932f30fc223b43b19048b7be26ca2f0c": {
      "model_module": "@jupyter-widgets/controls",
      "model_module_version": "2.0.0",
      "model_name": "FloatProgressModel",
      "state": {
       "layout": "IPY_MODEL_88de1d17c6b7407f8a8ebb6b7c12c7ac",
       "max": 58,
       "style": "IPY_MODEL_cbf5a3038e8f4c9bac7d01b522b2da4b",
       "value": 58
      }
     },
     "93482f8485b849548396bc82d4986155": {
      "model_module": "@jupyter-widgets/controls",
      "model_module_version": "2.0.0",
      "model_name": "HTMLStyleModel",
      "state": {
       "description_width": "",
       "font_size": null,
       "text_color": null
      }
     },
     "9362b0de0fcd497d9df085b8014f0c85": {
      "model_module": "@jupyter-widgets/base",
      "model_module_version": "2.0.0",
      "model_name": "LayoutModel",
      "state": {
       "flex": "2"
      }
     },
     "936d7da0b89a450cbc2200ddf7a8ab01": {
      "model_module": "@jupyter-widgets/controls",
      "model_module_version": "2.0.0",
      "model_name": "HTMLModel",
      "state": {
       "layout": "IPY_MODEL_5ea4365803894537b06d09ed612db404",
       "style": "IPY_MODEL_871b5998ee9d45a09bb4d38ef2545612",
       "value": "Validation DataLoader 0: 100%"
      }
     },
     "937781b6be784cddb1660644e8acc561": {
      "model_module": "@jupyter-widgets/controls",
      "model_module_version": "2.0.0",
      "model_name": "HTMLStyleModel",
      "state": {
       "description_width": "",
       "font_size": null,
       "text_color": null
      }
     },
     "939d0e9cf29746a38ce2b45cad063b4f": {
      "model_module": "@jupyter-widgets/controls",
      "model_module_version": "2.0.0",
      "model_name": "HTMLModel",
      "state": {
       "layout": "IPY_MODEL_8b3778f8d0284498997d83028269bec2",
       "style": "IPY_MODEL_e919da5400c148e6b01a5cb73f1b6b3c",
       "value": "Validation DataLoader 0: 100%"
      }
     },
     "93afb4e8c99147779ce1f99e56fb66c9": {
      "model_module": "@jupyter-widgets/base",
      "model_module_version": "2.0.0",
      "model_name": "LayoutModel",
      "state": {
       "flex": "2"
      }
     },
     "93e567f9624e4bac87a085b016d07057": {
      "model_module": "@jupyter-widgets/controls",
      "model_module_version": "2.0.0",
      "model_name": "ProgressStyleModel",
      "state": {
       "description_width": ""
      }
     },
     "93e6b467a3554ff6b4be843e32896ae2": {
      "model_module": "@jupyter-widgets/base",
      "model_module_version": "2.0.0",
      "model_name": "LayoutModel",
      "state": {
       "display": "inline-flex",
       "flex_flow": "row wrap",
       "visibility": "hidden",
       "width": "100%"
      }
     },
     "93edbc3067ab4d40a119400528330278": {
      "model_module": "@jupyter-widgets/base",
      "model_module_version": "2.0.0",
      "model_name": "LayoutModel",
      "state": {
       "display": "inline-flex",
       "flex_flow": "row wrap",
       "visibility": "hidden",
       "width": "100%"
      }
     },
     "942b59a345404b3fbe0e52e249a6b2e4": {
      "model_module": "@jupyter-widgets/controls",
      "model_module_version": "2.0.0",
      "model_name": "ProgressStyleModel",
      "state": {
       "description_width": ""
      }
     },
     "94695d65539549ccb37ceb2ed5648659": {
      "model_module": "@jupyter-widgets/base",
      "model_module_version": "2.0.0",
      "model_name": "LayoutModel",
      "state": {}
     },
     "946fd357ded54c87b94c9be0c17697bc": {
      "model_module": "@jupyter-widgets/controls",
      "model_module_version": "2.0.0",
      "model_name": "HTMLModel",
      "state": {
       "layout": "IPY_MODEL_3f5d6d84b9d5427f953a3008abfc753d",
       "style": "IPY_MODEL_24a8e5ccd0e64172bbf9bea8cbe13571",
       "value": "Validation DataLoader 0: 100%"
      }
     },
     "950cd0e112934ff087b152f875f83770": {
      "buffers": [
       {
        "data": "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",
        "encoding": "base64",
        "path": [
         "value"
        ]
       }
      ],
      "model_module": "@jupyter-widgets/controls",
      "model_module_version": "2.0.0",
      "model_name": "ImageModel",
      "state": {
       "layout": "IPY_MODEL_a94c743cf5ab49a59073489f0f93d819"
      }
     },
     "95152cec05934b0692f3ee6d154110f7": {
      "model_module": "@jupyter-widgets/base",
      "model_module_version": "2.0.0",
      "model_name": "LayoutModel",
      "state": {}
     },
     "9553df9ef6344dee94e804b513e34741": {
      "model_module": "@jupyter-widgets/base",
      "model_module_version": "2.0.0",
      "model_name": "LayoutModel",
      "state": {}
     },
     "955a9ee9a2f346b688d7da9d308c6717": {
      "model_module": "@jupyter-widgets/base",
      "model_module_version": "2.0.0",
      "model_name": "LayoutModel",
      "state": {
       "display": "inline-flex",
       "flex_flow": "row wrap",
       "visibility": "hidden",
       "width": "100%"
      }
     },
     "957f8350a353464a8dd0f7c5185d242a": {
      "model_module": "@jupyter-widgets/controls",
      "model_module_version": "2.0.0",
      "model_name": "FloatProgressModel",
      "state": {
       "layout": "IPY_MODEL_21076cbf6250432c9021d4acf5a359cc",
       "max": 58,
       "style": "IPY_MODEL_fe3da40cc7e141bba7fe1c3a87355a17",
       "value": 58
      }
     },
     "9588712b1101470f98e2e1975a1700c7": {
      "model_module": "@jupyter-widgets/base",
      "model_module_version": "2.0.0",
      "model_name": "LayoutModel",
      "state": {}
     },
     "95d1924ef26a490eb98ae7dce34ab080": {
      "model_module": "@jupyter-widgets/controls",
      "model_module_version": "2.0.0",
      "model_name": "HTMLModel",
      "state": {
       "layout": "IPY_MODEL_e2d28b0e60fc4793a144c39b66209ea8",
       "style": "IPY_MODEL_457b60aaf32c41a5b5f462d85868f7cb",
       "value": " 58/58 [00:02&lt;00:00, 25.88it/s]"
      }
     },
     "9602d4625fbc4c3aa93a8acc578df73b": {
      "model_module": "@jupyter-widgets/controls",
      "model_module_version": "2.0.0",
      "model_name": "HTMLStyleModel",
      "state": {
       "description_width": "",
       "font_size": null,
       "text_color": null
      }
     },
     "9610300a84114aed8b77b48abe47fe08": {
      "model_module": "@jupyter-widgets/controls",
      "model_module_version": "2.0.0",
      "model_name": "HTMLModel",
      "state": {
       "layout": "IPY_MODEL_e4e3c5da67c14eb9a76ff87edaf1438d",
       "style": "IPY_MODEL_b6022d122bd7407db07ddaf77b56c0a4",
       "value": " 58/58 [00:02&lt;00:00, 26.04it/s]"
      }
     },
     "9634525e3bf64c3487322cbe44c02c15": {
      "model_module": "@jupyter-widgets/controls",
      "model_module_version": "2.0.0",
      "model_name": "HTMLStyleModel",
      "state": {
       "description_width": "",
       "font_size": null,
       "text_color": null
      }
     },
     "9641b4772fa24d179d74561ef9b09cc7": {
      "model_module": "@jupyter-widgets/base",
      "model_module_version": "2.0.0",
      "model_name": "LayoutModel",
      "state": {
       "display": "inline-flex",
       "flex_flow": "row wrap",
       "visibility": "hidden",
       "width": "100%"
      }
     },
     "965bf30f6d3f4d5880046724eb196abd": {
      "model_module": "@jupyter-widgets/base",
      "model_module_version": "2.0.0",
      "model_name": "LayoutModel",
      "state": {
       "flex": "2"
      }
     },
     "96e84812c2a54fea9566cb772aca81f6": {
      "model_module": "@jupyter-widgets/controls",
      "model_module_version": "2.0.0",
      "model_name": "HTMLModel",
      "state": {
       "layout": "IPY_MODEL_0eff35cba7a84b21b6a5b79dc6147c2c",
       "style": "IPY_MODEL_723cb6155af1484dbf03eca16c9fe862",
       "value": " 58/58 [00:02&lt;00:00, 25.33it/s]"
      }
     },
     "9700d2f1344848719db0fd5c895a5e70": {
      "model_module": "@jupyter-widgets/controls",
      "model_module_version": "2.0.0",
      "model_name": "HTMLStyleModel",
      "state": {
       "description_width": "",
       "font_size": null,
       "text_color": null
      }
     },
     "9743ed1248c74b3d82b05819d4886388": {
      "model_module": "@jupyter-widgets/base",
      "model_module_version": "2.0.0",
      "model_name": "LayoutModel",
      "state": {
       "flex": "2"
      }
     },
     "976837fa5a264961a607abdaad63d813": {
      "model_module": "@jupyter-widgets/controls",
      "model_module_version": "2.0.0",
      "model_name": "FloatProgressModel",
      "state": {
       "layout": "IPY_MODEL_9a92940e3d834970b12034969b1bdff8",
       "max": 58,
       "style": "IPY_MODEL_b25e3b0405664a608dd7ff3864d3a9dd",
       "value": 58
      }
     },
     "97a39e37e8de4889b528ca254e53c87f": {
      "model_module": "@jupyter-widgets/controls",
      "model_module_version": "2.0.0",
      "model_name": "HTMLStyleModel",
      "state": {
       "description_width": "",
       "font_size": null,
       "text_color": null
      }
     },
     "97d827b745f24167864638a17c310dd1": {
      "model_module": "@jupyter-widgets/controls",
      "model_module_version": "2.0.0",
      "model_name": "FloatProgressModel",
      "state": {
       "layout": "IPY_MODEL_9e7d5937a35446e29438104de269797f",
       "max": 58,
       "style": "IPY_MODEL_fdd3d6be135948e39fac4929afa493e2",
       "value": 58
      }
     },
     "97e85ab5e6a54a2a9f4306dbb8e9cf75": {
      "model_module": "@jupyter-widgets/base",
      "model_module_version": "2.0.0",
      "model_name": "LayoutModel",
      "state": {
       "flex": "2"
      }
     },
     "97f350fc946d4ad3b0ad7769dde9e5e3": {
      "model_module": "@jupyter-widgets/controls",
      "model_module_version": "2.0.0",
      "model_name": "HTMLModel",
      "state": {
       "layout": "IPY_MODEL_599ce3a29cdb48b8aa65e97d6f34fc92",
       "style": "IPY_MODEL_79dc2473ce19413898f7ea35de35ccb3",
       "value": " 58/58 [00:02&lt;00:00, 25.44it/s]"
      }
     },
     "97f6b891927b4944a8321b3da83e69c0": {
      "model_module": "@jupyter-widgets/controls",
      "model_module_version": "2.0.0",
      "model_name": "HTMLStyleModel",
      "state": {
       "description_width": "",
       "font_size": null,
       "text_color": null
      }
     },
     "980fd838da114545af98baefc41f4a9c": {
      "model_module": "@jupyter-widgets/controls",
      "model_module_version": "2.0.0",
      "model_name": "HTMLStyleModel",
      "state": {
       "description_width": "",
       "font_size": null,
       "text_color": null
      }
     },
     "983171c567cb4146bf22f156fc5725f5": {
      "model_module": "@jupyter-widgets/controls",
      "model_module_version": "2.0.0",
      "model_name": "HTMLModel",
      "state": {
       "layout": "IPY_MODEL_38f6fb989f8f469c96f7a25ea9346ccc",
       "style": "IPY_MODEL_8de299e64cbe4133b1ae3b0e2143f5b2",
       "value": "Validation DataLoader 0: 100%"
      }
     },
     "9847cc5efffb48bcbdf36a7a623feead": {
      "model_module": "@jupyter-widgets/controls",
      "model_module_version": "2.0.0",
      "model_name": "HTMLModel",
      "state": {
       "layout": "IPY_MODEL_bcd91932706a429ba7f46e23602ce432",
       "style": "IPY_MODEL_b453efdbcb464c368fd76aa3cf6fffcb",
       "value": " 58/58 [00:02&lt;00:00, 26.25it/s]"
      }
     },
     "985006812af544038a4779f69833de86": {
      "model_module": "@jupyter-widgets/controls",
      "model_module_version": "2.0.0",
      "model_name": "HTMLModel",
      "state": {
       "layout": "IPY_MODEL_a0b816ad742e4c1494083acf97fb5850",
       "style": "IPY_MODEL_ec1efbfe53044c49868f1f966816c7cc",
       "value": "Validation DataLoader 0: 100%"
      }
     },
     "98aa1ff5da0f4983979f3cfdefd16811": {
      "model_module": "@jupyter-widgets/base",
      "model_module_version": "2.0.0",
      "model_name": "LayoutModel",
      "state": {}
     },
     "995aea40ba894c19838ebe2793442e8e": {
      "model_module": "@jupyter-widgets/base",
      "model_module_version": "2.0.0",
      "model_name": "LayoutModel",
      "state": {
       "flex": "2"
      }
     },
     "998aec567ce649deb73d60f66ce3b1de": {
      "model_module": "@jupyter-widgets/controls",
      "model_module_version": "2.0.0",
      "model_name": "ProgressStyleModel",
      "state": {
       "description_width": ""
      }
     },
     "99c0aba58eda4dadaf77784e0e536a5e": {
      "model_module": "@jupyter-widgets/controls",
      "model_module_version": "2.0.0",
      "model_name": "HTMLModel",
      "state": {
       "layout": "IPY_MODEL_b4e0093563eb40438e1b425c283638db",
       "style": "IPY_MODEL_1945badcb3cd41dc9a47af47e5f1787e",
       "value": "Validation DataLoader 0: 100%"
      }
     },
     "99c64c7a36694caaa3e47e16568095a0": {
      "model_module": "@jupyter-widgets/base",
      "model_module_version": "2.0.0",
      "model_name": "LayoutModel",
      "state": {}
     },
     "99d1fa4eb0a54253ae08291f17199656": {
      "model_module": "@jupyter-widgets/base",
      "model_module_version": "2.0.0",
      "model_name": "LayoutModel",
      "state": {}
     },
     "9a12c149e2c34b93ad3c5fd19cdbc2e3": {
      "model_module": "@jupyter-widgets/base",
      "model_module_version": "2.0.0",
      "model_name": "LayoutModel",
      "state": {}
     },
     "9a37ad55e17a44e4a7f3af669bb187c9": {
      "model_module": "@jupyter-widgets/controls",
      "model_module_version": "2.0.0",
      "model_name": "HTMLStyleModel",
      "state": {
       "description_width": "",
       "font_size": null,
       "text_color": null
      }
     },
     "9a8ee9bc25fb4a6188359d44efdec093": {
      "model_module": "@jupyter-widgets/base",
      "model_module_version": "2.0.0",
      "model_name": "LayoutModel",
      "state": {}
     },
     "9a92940e3d834970b12034969b1bdff8": {
      "model_module": "@jupyter-widgets/base",
      "model_module_version": "2.0.0",
      "model_name": "LayoutModel",
      "state": {
       "flex": "2"
      }
     },
     "9a9eaf4fb9074cbab05a778ac5484e06": {
      "model_module": "@jupyter-widgets/controls",
      "model_module_version": "2.0.0",
      "model_name": "HTMLModel",
      "state": {
       "layout": "IPY_MODEL_99c64c7a36694caaa3e47e16568095a0",
       "style": "IPY_MODEL_7f8df2fc56b647ef94e6f8444f358e8a",
       "value": "Validation DataLoader 0: 100%"
      }
     },
     "9abc0719c3d846029a92d2bee0233e76": {
      "model_module": "@jupyter-widgets/base",
      "model_module_version": "2.0.0",
      "model_name": "LayoutModel",
      "state": {
       "display": "inline-flex",
       "flex_flow": "row wrap",
       "visibility": "hidden",
       "width": "100%"
      }
     },
     "9acfabb5830e4095a59abb2c06dacc5f": {
      "model_module": "@jupyter-widgets/base",
      "model_module_version": "2.0.0",
      "model_name": "LayoutModel",
      "state": {
       "flex": "2"
      }
     },
     "9ad93c020c97454e9676d733541d4e74": {
      "model_module": "@jupyter-widgets/controls",
      "model_module_version": "2.0.0",
      "model_name": "HTMLStyleModel",
      "state": {
       "description_width": "",
       "font_size": null,
       "text_color": null
      }
     },
     "9b26ecdae27e4d4a9bc9bfbf0fc62917": {
      "model_module": "@jupyter-widgets/controls",
      "model_module_version": "2.0.0",
      "model_name": "HTMLStyleModel",
      "state": {
       "description_width": "",
       "font_size": null,
       "text_color": null
      }
     },
     "9b2fecd3d593441c8a8f9be5508c8056": {
      "model_module": "@jupyter-widgets/controls",
      "model_module_version": "2.0.0",
      "model_name": "HTMLModel",
      "state": {
       "layout": "IPY_MODEL_b85b5b16d4a4484097059c679b92551a",
       "style": "IPY_MODEL_dafc24f153994a9a9abaec7af3ddc8e2",
       "value": "Validation DataLoader 0: 100%"
      }
     },
     "9b76cf5124744115b21f4fc4cdf4617f": {
      "model_module": "@jupyter-widgets/base",
      "model_module_version": "2.0.0",
      "model_name": "LayoutModel",
      "state": {
       "flex": "2"
      }
     },
     "9b9d802963884be4888ca2fe0ffc716f": {
      "model_module": "@jupyter-widgets/controls",
      "model_module_version": "2.0.0",
      "model_name": "ProgressStyleModel",
      "state": {
       "description_width": ""
      }
     },
     "9bf6a6a8c3c244f7a311c2f45e355f33": {
      "model_module": "@jupyter-widgets/controls",
      "model_module_version": "2.0.0",
      "model_name": "HTMLStyleModel",
      "state": {
       "description_width": "",
       "font_size": null,
       "text_color": null
      }
     },
     "9c01ace526d14cf2a8866baec5f0eb54": {
      "model_module": "@jupyter-widgets/controls",
      "model_module_version": "2.0.0",
      "model_name": "FloatProgressModel",
      "state": {
       "layout": "IPY_MODEL_c7b349b3599f4da681fc9d34279c0ac3",
       "max": 58,
       "style": "IPY_MODEL_089e1794989142638dc14b16638e31ef",
       "value": 58
      }
     },
     "9c6fd78258cc48aaa342ddeb4d61ce55": {
      "model_module": "@jupyter-widgets/controls",
      "model_module_version": "2.0.0",
      "model_name": "HTMLModel",
      "state": {
       "layout": "IPY_MODEL_2bdd56776a144059884372fde0d3d15f",
       "style": "IPY_MODEL_685239acfe994a359edf1fcf8f3f0ab7",
       "value": "Validation DataLoader 0: 100%"
      }
     },
     "9c762b70342b4472b1173adec8b6dfab": {
      "model_module": "@jupyter-widgets/controls",
      "model_module_version": "2.0.0",
      "model_name": "ProgressStyleModel",
      "state": {
       "description_width": ""
      }
     },
     "9c87c01cee0c48f493cd170e2bd4e1f7": {
      "model_module": "@jupyter-widgets/base",
      "model_module_version": "2.0.0",
      "model_name": "LayoutModel",
      "state": {
       "display": "inline-flex",
       "flex_flow": "row wrap",
       "visibility": "hidden",
       "width": "100%"
      }
     },
     "9ca2a8c5803d4aa28e419e0ece2a0383": {
      "model_module": "@jupyter-widgets/base",
      "model_module_version": "2.0.0",
      "model_name": "LayoutModel",
      "state": {
       "flex": "2"
      }
     },
     "9cabe9e8eac9449f8eecbf14dc1ddcaf": {
      "model_module": "@jupyter-widgets/controls",
      "model_module_version": "2.0.0",
      "model_name": "FloatProgressModel",
      "state": {
       "layout": "IPY_MODEL_06a9747212e14dd789db310b00ce26da",
       "max": 58,
       "style": "IPY_MODEL_677bd6c6dd83487a8b2d80a6ab2a7735",
       "value": 58
      }
     },
     "9cc207389b4c40e9817cb08a638f35f0": {
      "model_module": "@jupyter-widgets/base",
      "model_module_version": "2.0.0",
      "model_name": "LayoutModel",
      "state": {
       "display": "inline-flex",
       "flex_flow": "row wrap",
       "visibility": "hidden",
       "width": "100%"
      }
     },
     "9cddc70d6cb94612bf68cdf42bbc2157": {
      "model_module": "@jupyter-widgets/controls",
      "model_module_version": "2.0.0",
      "model_name": "HTMLStyleModel",
      "state": {
       "description_width": "",
       "font_size": null,
       "text_color": null
      }
     },
     "9ce44d50fd834eff8ecf375f3d5534e3": {
      "model_module": "@jupyter-widgets/controls",
      "model_module_version": "2.0.0",
      "model_name": "ProgressStyleModel",
      "state": {
       "description_width": ""
      }
     },
     "9cf6591f77c0480d87130835efdd1c22": {
      "model_module": "@jupyter-widgets/controls",
      "model_module_version": "2.0.0",
      "model_name": "HTMLModel",
      "state": {
       "layout": "IPY_MODEL_0a79fddb9b374654a98884d34227bc57",
       "style": "IPY_MODEL_e77dfa66399440ebafa62b3e8744babd",
       "value": "Validation DataLoader 0: 100%"
      }
     },
     "9d30dbc49b924673b1f7e042bf81c03c": {
      "model_module": "@jupyter-widgets/controls",
      "model_module_version": "2.0.0",
      "model_name": "HTMLStyleModel",
      "state": {
       "description_width": "",
       "font_size": null,
       "text_color": null
      }
     },
     "9d4ff5db5a234a9caac854fcd60f9072": {
      "model_module": "@jupyter-widgets/controls",
      "model_module_version": "2.0.0",
      "model_name": "FloatProgressModel",
      "state": {
       "layout": "IPY_MODEL_a4b29cfb258b42dd947894a8ed410f24",
       "max": 58,
       "style": "IPY_MODEL_73fc95dc836048dd9bb9f5a13f5c2dcc",
       "value": 58
      }
     },
     "9d5975391b87482889a0a3567c6cf103": {
      "model_module": "@jupyter-widgets/base",
      "model_module_version": "2.0.0",
      "model_name": "LayoutModel",
      "state": {}
     },
     "9d747f5532ad4fb0bb4ef90902688f08": {
      "model_module": "@jupyter-widgets/base",
      "model_module_version": "2.0.0",
      "model_name": "LayoutModel",
      "state": {
       "display": "inline-flex",
       "flex_flow": "row wrap",
       "visibility": "hidden",
       "width": "100%"
      }
     },
     "9dc07c4ab3cb4eb39ecc1df4f5f402d0": {
      "model_module": "@jupyter-widgets/controls",
      "model_module_version": "2.0.0",
      "model_name": "HTMLModel",
      "state": {
       "layout": "IPY_MODEL_99d1fa4eb0a54253ae08291f17199656",
       "style": "IPY_MODEL_043eec40f4f1420caa64ac1b95ad450f",
       "value": " 58/58 [00:02&lt;00:00, 28.39it/s]"
      }
     },
     "9de911da93f4471da9f012dbf0f528f7": {
      "model_module": "@jupyter-widgets/controls",
      "model_module_version": "2.0.0",
      "model_name": "FloatProgressModel",
      "state": {
       "bar_style": "success",
       "layout": "IPY_MODEL_e5b8ba66575d419cb4592443907e13ce",
       "max": 462,
       "style": "IPY_MODEL_8bdadf230cdf46c6b4a8ddb92a47ac83",
       "value": 462
      }
     },
     "9df44715ed3d4a6681136bfec3fb8d19": {
      "model_module": "@jupyter-widgets/controls",
      "model_module_version": "2.0.0",
      "model_name": "HTMLModel",
      "state": {
       "layout": "IPY_MODEL_6666bf8d71a148e4b93348de6715ccc4",
       "style": "IPY_MODEL_8851df2be50e41b086bbd18ca30cd461",
       "value": "Validation DataLoader 0: 100%"
      }
     },
     "9e26f3bd23b8466aaffad7510f6d8e49": {
      "model_module": "@jupyter-widgets/controls",
      "model_module_version": "2.0.0",
      "model_name": "ProgressStyleModel",
      "state": {
       "description_width": ""
      }
     },
     "9e2dc4cd4570410cb8bee8ff50b73d24": {
      "model_module": "@jupyter-widgets/controls",
      "model_module_version": "2.0.0",
      "model_name": "FloatProgressModel",
      "state": {
       "layout": "IPY_MODEL_27f632da912d48c98654608f169a10dd",
       "max": 58,
       "style": "IPY_MODEL_cc33fc3cc10645fc955bf1a704070ac8",
       "value": 58
      }
     },
     "9e42fc3638894334ab200b9a0614a2b5": {
      "model_module": "@jupyter-widgets/base",
      "model_module_version": "2.0.0",
      "model_name": "LayoutModel",
      "state": {}
     },
     "9e5a262a0dd84558a815c9899613f422": {
      "model_module": "@jupyter-widgets/controls",
      "model_module_version": "2.0.0",
      "model_name": "HTMLModel",
      "state": {
       "layout": "IPY_MODEL_b71c6f822ca3429dad29e6d6cde197a0",
       "style": "IPY_MODEL_39708ab37fb842c281668056a66c83a4",
       "value": " 58/58 [00:02&lt;00:00, 27.12it/s]"
      }
     },
     "9e753583b99e455e854c3700be3d9003": {
      "model_module": "@jupyter-widgets/base",
      "model_module_version": "2.0.0",
      "model_name": "LayoutModel",
      "state": {}
     },
     "9e7d5937a35446e29438104de269797f": {
      "model_module": "@jupyter-widgets/base",
      "model_module_version": "2.0.0",
      "model_name": "LayoutModel",
      "state": {
       "flex": "2"
      }
     },
     "9e8ba566ebf646e397d1562170410eab": {
      "model_module": "@jupyter-widgets/controls",
      "model_module_version": "2.0.0",
      "model_name": "HTMLStyleModel",
      "state": {
       "description_width": "",
       "font_size": null,
       "text_color": null
      }
     },
     "9ea703cb9816493ead24d88536f23f3f": {
      "model_module": "@jupyter-widgets/base",
      "model_module_version": "2.0.0",
      "model_name": "LayoutModel",
      "state": {}
     },
     "9eae3fda5cce46178e593f4b51b9832f": {
      "model_module": "@jupyter-widgets/controls",
      "model_module_version": "2.0.0",
      "model_name": "HTMLModel",
      "state": {
       "layout": "IPY_MODEL_f6d965ab25524e3197eaff26d14cd048",
       "style": "IPY_MODEL_4ba72107d54a494a9535ee3d9e0cbfd8",
       "value": "Validation DataLoader 0: 100%"
      }
     },
     "9eb8724731a14d2396d5148ebde2e992": {
      "model_module": "@jupyter-widgets/controls",
      "model_module_version": "2.0.0",
      "model_name": "HTMLModel",
      "state": {
       "layout": "IPY_MODEL_58f095796c23406a82ee81459ce5ed8e",
       "style": "IPY_MODEL_10797dbb73634dc5b30d5cc3c06cd0c7",
       "value": "Validation DataLoader 0: 100%"
      }
     },
     "9edee63d1f754296a0da942fb5c9792a": {
      "model_module": "@jupyter-widgets/base",
      "model_module_version": "2.0.0",
      "model_name": "LayoutModel",
      "state": {}
     },
     "9eeec6d27f494377874c6716bc9f9310": {
      "model_module": "@jupyter-widgets/controls",
      "model_module_version": "2.0.0",
      "model_name": "HTMLModel",
      "state": {
       "layout": "IPY_MODEL_7133a6fd464f4c769665e69e691b7e42",
       "style": "IPY_MODEL_062230db93f241fdad5e466df2233cee",
       "value": " 58/58 [00:02&lt;00:00, 27.17it/s]"
      }
     },
     "9f1d8429062b4d5ca05bd7cd63445c73": {
      "model_module": "@jupyter-widgets/base",
      "model_module_version": "2.0.0",
      "model_name": "LayoutModel",
      "state": {
       "display": "inline-flex",
       "flex_flow": "row wrap",
       "visibility": "hidden",
       "width": "100%"
      }
     },
     "9f4210d79f2a4aafa9d13e31b32a2474": {
      "model_module": "@jupyter-widgets/controls",
      "model_module_version": "2.0.0",
      "model_name": "HTMLModel",
      "state": {
       "layout": "IPY_MODEL_8e1fcd2ee6064484895363910438516f",
       "style": "IPY_MODEL_333e8d7e929a488bb257777dc3cf67d6",
       "value": " 58/58 [00:02&lt;00:00, 25.59it/s]"
      }
     },
     "9f4985115e9d42cabb0b04969f5dbfd3": {
      "model_module": "@jupyter-widgets/controls",
      "model_module_version": "2.0.0",
      "model_name": "HTMLStyleModel",
      "state": {
       "description_width": "",
       "font_size": null,
       "text_color": null
      }
     },
     "9f537c48041148758cff35c5eab6c1ef": {
      "model_module": "@jupyter-widgets/controls",
      "model_module_version": "2.0.0",
      "model_name": "FloatProgressModel",
      "state": {
       "layout": "IPY_MODEL_a9b0b1b29fc546fab3f6ed1f8c729428",
       "max": 58,
       "style": "IPY_MODEL_de6f58fa9e3e481fbc31b0c47ff557a8",
       "value": 58
      }
     },
     "9f862d4242244eb0b66efa7cb13e3944": {
      "model_module": "@jupyter-widgets/controls",
      "model_module_version": "2.0.0",
      "model_name": "ProgressStyleModel",
      "state": {
       "description_width": ""
      }
     },
     "a00161aff1ec46afb4c05602cf526fc1": {
      "model_module": "@jupyter-widgets/base",
      "model_module_version": "2.0.0",
      "model_name": "LayoutModel",
      "state": {}
     },
     "a004235ca67347fbb4bb568c83154fe4": {
      "model_module": "@jupyter-widgets/controls",
      "model_module_version": "2.0.0",
      "model_name": "HTMLModel",
      "state": {
       "layout": "IPY_MODEL_2d7b773cceb64e149d8c190e2f409e3c",
       "style": "IPY_MODEL_6db9468213c84791bb77a513423b6218",
       "value": "Validation DataLoader 0: 100%"
      }
     },
     "a036b88368784f2ca1b455d16e2414f6": {
      "model_module": "@jupyter-widgets/base",
      "model_module_version": "2.0.0",
      "model_name": "LayoutModel",
      "state": {}
     },
     "a0370b85946b4737ac3c61d407408aa0": {
      "model_module": "@jupyter-widgets/controls",
      "model_module_version": "2.0.0",
      "model_name": "HTMLStyleModel",
      "state": {
       "description_width": "",
       "font_size": null,
       "text_color": null
      }
     },
     "a040d73d9f794609a9eb7e67cfb16425": {
      "model_module": "@jupyter-widgets/base",
      "model_module_version": "2.0.0",
      "model_name": "LayoutModel",
      "state": {}
     },
     "a04f985188454fa48057ef5b00de395a": {
      "model_module": "@jupyter-widgets/controls",
      "model_module_version": "2.0.0",
      "model_name": "FloatProgressModel",
      "state": {
       "layout": "IPY_MODEL_965bf30f6d3f4d5880046724eb196abd",
       "max": 58,
       "style": "IPY_MODEL_67f1a8f4a2db4467ae3ee67e81d098cf",
       "value": 58
      }
     },
     "a053995ca6db4eaeae290cc2c7785016": {
      "model_module": "@jupyter-widgets/base",
      "model_module_version": "2.0.0",
      "model_name": "LayoutModel",
      "state": {
       "flex": "2"
      }
     },
     "a0b816ad742e4c1494083acf97fb5850": {
      "model_module": "@jupyter-widgets/base",
      "model_module_version": "2.0.0",
      "model_name": "LayoutModel",
      "state": {}
     },
     "a0c972a5454645c1ba96d9848720b118": {
      "model_module": "@jupyter-widgets/controls",
      "model_module_version": "2.0.0",
      "model_name": "HTMLStyleModel",
      "state": {
       "description_width": "",
       "font_size": null,
       "text_color": null
      }
     },
     "a1291387b89b44ce9963611c236f9c3e": {
      "model_module": "@jupyter-widgets/base",
      "model_module_version": "2.0.0",
      "model_name": "LayoutModel",
      "state": {
       "display": "inline-flex",
       "flex_flow": "row wrap",
       "visibility": "hidden",
       "width": "100%"
      }
     },
     "a17d4cc1f4ae4c239a40e0bb4f88390a": {
      "model_module": "@jupyter-widgets/base",
      "model_module_version": "2.0.0",
      "model_name": "LayoutModel",
      "state": {}
     },
     "a189772a0ad84f9bb47085574ac65de5": {
      "model_module": "@jupyter-widgets/base",
      "model_module_version": "2.0.0",
      "model_name": "LayoutModel",
      "state": {
       "flex": "2"
      }
     },
     "a18c48a04af1478b95ae9b56a55f4c2e": {
      "model_module": "@jupyter-widgets/base",
      "model_module_version": "2.0.0",
      "model_name": "LayoutModel",
      "state": {
       "flex": "2"
      }
     },
     "a204643170ee41ab9ffb09fe824c1d6c": {
      "model_module": "@jupyter-widgets/base",
      "model_module_version": "2.0.0",
      "model_name": "LayoutModel",
      "state": {}
     },
     "a20cf009d2284b02bb78cd4660f86a3b": {
      "model_module": "@jupyter-widgets/controls",
      "model_module_version": "2.0.0",
      "model_name": "ProgressStyleModel",
      "state": {
       "description_width": ""
      }
     },
     "a2239355064d4f089c3e84b1bd7988da": {
      "model_module": "@jupyter-widgets/base",
      "model_module_version": "2.0.0",
      "model_name": "LayoutModel",
      "state": {
       "display": "inline-flex",
       "flex_flow": "row wrap",
       "visibility": "hidden",
       "width": "100%"
      }
     },
     "a23aa0f9131f45898577996f70e25ae6": {
      "model_module": "@jupyter-widgets/controls",
      "model_module_version": "2.0.0",
      "model_name": "FloatProgressModel",
      "state": {
       "layout": "IPY_MODEL_8150b5f0bc824c90a8a2d76e4e832991",
       "max": 58,
       "style": "IPY_MODEL_4930964bdda7422c886b38d214a37d2e",
       "value": 58
      }
     },
     "a27478b4132648b9a6de7fd01f112c86": {
      "model_module": "@jupyter-widgets/base",
      "model_module_version": "2.0.0",
      "model_name": "LayoutModel",
      "state": {}
     },
     "a27bb96fa36140eaba81d1eeda182e7b": {
      "model_module": "@jupyter-widgets/base",
      "model_module_version": "2.0.0",
      "model_name": "LayoutModel",
      "state": {}
     },
     "a2c3c17a81314e97bab2a27cfd3934fb": {
      "model_module": "@jupyter-widgets/controls",
      "model_module_version": "2.0.0",
      "model_name": "HTMLStyleModel",
      "state": {
       "description_width": "",
       "font_size": null,
       "text_color": null
      }
     },
     "a2cfc48214e945a685302b805ab090cd": {
      "model_module": "@jupyter-widgets/base",
      "model_module_version": "2.0.0",
      "model_name": "LayoutModel",
      "state": {
       "flex": "2"
      }
     },
     "a2d45b23ec9b4e22b1e5bf5c69e0772e": {
      "model_module": "@jupyter-widgets/base",
      "model_module_version": "2.0.0",
      "model_name": "LayoutModel",
      "state": {
       "display": "inline-flex",
       "flex_flow": "row wrap",
       "visibility": "hidden",
       "width": "100%"
      }
     },
     "a2ee848be44e44a492468317d6874672": {
      "model_module": "@jupyter-widgets/controls",
      "model_module_version": "2.0.0",
      "model_name": "HTMLStyleModel",
      "state": {
       "description_width": "",
       "font_size": null,
       "text_color": null
      }
     },
     "a2f60891a3884fe19ce47e51b7c7bf47": {
      "model_module": "@jupyter-widgets/base",
      "model_module_version": "2.0.0",
      "model_name": "LayoutModel",
      "state": {
       "flex": "2"
      }
     },
     "a2f9c56aee124783b3051f03109fe605": {
      "model_module": "@jupyter-widgets/controls",
      "model_module_version": "2.0.0",
      "model_name": "FloatProgressModel",
      "state": {
       "layout": "IPY_MODEL_b1aa21ef8de54f68af035905c000e495",
       "max": 58,
       "style": "IPY_MODEL_8abe64e2b4a34650affa0feb08c84147",
       "value": 58
      }
     },
     "a2fbcca9fbe4445ca4762b78b0584d7b": {
      "model_module": "@jupyter-widgets/base",
      "model_module_version": "2.0.0",
      "model_name": "LayoutModel",
      "state": {
       "display": "inline-flex",
       "flex_flow": "row wrap",
       "visibility": "hidden",
       "width": "100%"
      }
     },
     "a302c92944a24e0f81b7f1e20aa4d6c3": {
      "model_module": "@jupyter-widgets/controls",
      "model_module_version": "2.0.0",
      "model_name": "HTMLModel",
      "state": {
       "layout": "IPY_MODEL_36f1a6b4fa8e4991a3cacdaa26f052ec",
       "style": "IPY_MODEL_15bfa22b1e11430fb566e73123f1ac80",
       "value": " 58/58 [00:02&lt;00:00, 26.12it/s]"
      }
     },
     "a31629368d84465187731deeae6a037c": {
      "model_module": "@jupyter-widgets/controls",
      "model_module_version": "2.0.0",
      "model_name": "HTMLModel",
      "state": {
       "layout": "IPY_MODEL_daf7c9dc3f9340fc8240805c54af3845",
       "style": "IPY_MODEL_7188099d0a8d441f92e5d6793a72fd32",
       "value": "Validation DataLoader 0: 100%"
      }
     },
     "a3254ae86d61448f987fb16ab65c8934": {
      "model_module": "@jupyter-widgets/controls",
      "model_module_version": "2.0.0",
      "model_name": "HTMLModel",
      "state": {
       "layout": "IPY_MODEL_06b54c56a15646e58e4bcd2844d3e4b1",
       "style": "IPY_MODEL_8bd849826062411cbdde66a907e2c448",
       "value": "Validation DataLoader 0: 100%"
      }
     },
     "a32ffa7e864c450a8826f75ee02a49be": {
      "model_module": "@jupyter-widgets/base",
      "model_module_version": "2.0.0",
      "model_name": "LayoutModel",
      "state": {
       "flex": "2"
      }
     },
     "a3549bdd5dae4be3b65451e86dca235a": {
      "model_module": "@jupyter-widgets/base",
      "model_module_version": "2.0.0",
      "model_name": "LayoutModel",
      "state": {}
     },
     "a3898f25bd2848428ce122f73e209131": {
      "model_module": "@jupyter-widgets/controls",
      "model_module_version": "2.0.0",
      "model_name": "HTMLModel",
      "state": {
       "layout": "IPY_MODEL_39a991b5b8c84a0aa4a1dfc80cf46159",
       "style": "IPY_MODEL_6986c2630c5245cb82f63224f71ae1a1",
       "value": "Validation DataLoader 0: 100%"
      }
     },
     "a38d25cbff9443388d0e0ea7340aef77": {
      "model_module": "@jupyter-widgets/controls",
      "model_module_version": "2.0.0",
      "model_name": "FloatProgressModel",
      "state": {
       "layout": "IPY_MODEL_67045e7ab91f4e07b115f90863835189",
       "max": 58,
       "style": "IPY_MODEL_d40c15c2a99d42c5b021046f4d2168e2",
       "value": 58
      }
     },
     "a390162a4f9644518981546976fd9fdb": {
      "model_module": "@jupyter-widgets/controls",
      "model_module_version": "2.0.0",
      "model_name": "HTMLModel",
      "state": {
       "layout": "IPY_MODEL_7f82dad8d00348afaa9c6124174482c1",
       "style": "IPY_MODEL_41ba5d568a14404daa61ffbbf265add8",
       "value": "Validation DataLoader 0: 100%"
      }
     },
     "a39645c6ee464875b808b960db151680": {
      "model_module": "@jupyter-widgets/base",
      "model_module_version": "2.0.0",
      "model_name": "LayoutModel",
      "state": {
       "display": "inline-flex",
       "flex_flow": "row wrap",
       "visibility": "hidden",
       "width": "100%"
      }
     },
     "a39a3aea2ff34cea9136e1e507f77057": {
      "model_module": "@jupyter-widgets/controls",
      "model_module_version": "2.0.0",
      "model_name": "ProgressStyleModel",
      "state": {
       "description_width": ""
      }
     },
     "a39bfd19b33d47eeb5c5c57f6ba6b946": {
      "model_module": "@jupyter-widgets/base",
      "model_module_version": "2.0.0",
      "model_name": "LayoutModel",
      "state": {
       "display": "inline-flex",
       "flex_flow": "row wrap",
       "visibility": "hidden",
       "width": "100%"
      }
     },
     "a3ff58abdb9f4cb6b772db1946ab3a81": {
      "model_module": "@jupyter-widgets/base",
      "model_module_version": "2.0.0",
      "model_name": "LayoutModel",
      "state": {
       "display": "inline-flex",
       "flex_flow": "row wrap",
       "visibility": "hidden",
       "width": "100%"
      }
     },
     "a406b6c75fe64ee4bba25a3381799615": {
      "model_module": "@jupyter-widgets/base",
      "model_module_version": "2.0.0",
      "model_name": "LayoutModel",
      "state": {}
     },
     "a425eefbba3b4b5b970f005e8a53b23e": {
      "model_module": "@jupyter-widgets/controls",
      "model_module_version": "2.0.0",
      "model_name": "HTMLStyleModel",
      "state": {
       "description_width": "",
       "font_size": null,
       "text_color": null
      }
     },
     "a4271ac765224cba95f82fbc136f0270": {
      "model_module": "@jupyter-widgets/base",
      "model_module_version": "2.0.0",
      "model_name": "LayoutModel",
      "state": {
       "flex": "2"
      }
     },
     "a4413b48eef74a7a987b2a269452a7c3": {
      "model_module": "@jupyter-widgets/base",
      "model_module_version": "2.0.0",
      "model_name": "LayoutModel",
      "state": {
       "flex": "2"
      }
     },
     "a48bc1db0f864645840a2bbcbf68b12b": {
      "model_module": "@jupyter-widgets/controls",
      "model_module_version": "2.0.0",
      "model_name": "HTMLStyleModel",
      "state": {
       "description_width": "",
       "font_size": null,
       "text_color": null
      }
     },
     "a4982d9f1ac54bd38843074be41f700e": {
      "model_module": "@jupyter-widgets/controls",
      "model_module_version": "2.0.0",
      "model_name": "HTMLStyleModel",
      "state": {
       "description_width": "",
       "font_size": null,
       "text_color": null
      }
     },
     "a4a441fbddf14b80a9cccc9978e58c1c": {
      "model_module": "@jupyter-widgets/controls",
      "model_module_version": "2.0.0",
      "model_name": "HTMLStyleModel",
      "state": {
       "description_width": "",
       "font_size": null,
       "text_color": null
      }
     },
     "a4b29cfb258b42dd947894a8ed410f24": {
      "model_module": "@jupyter-widgets/base",
      "model_module_version": "2.0.0",
      "model_name": "LayoutModel",
      "state": {
       "flex": "2"
      }
     },
     "a4e7eb1235b54b7481bec0eedda0d2ae": {
      "model_module": "@jupyter-widgets/controls",
      "model_module_version": "2.0.0",
      "model_name": "HTMLModel",
      "state": {
       "layout": "IPY_MODEL_7e9dade519074b97ab0f276b610e90d8",
       "style": "IPY_MODEL_72fa7824ef0345688e1e83b685eaab31",
       "value": "Validation DataLoader 0: 100%"
      }
     },
     "a4e9241ebb2a47b5b56ce1d995be9446": {
      "model_module": "@jupyter-widgets/base",
      "model_module_version": "2.0.0",
      "model_name": "LayoutModel",
      "state": {}
     },
     "a4f661f5c02243b8a9fd05b960008db8": {
      "model_module": "@jupyter-widgets/base",
      "model_module_version": "2.0.0",
      "model_name": "LayoutModel",
      "state": {
       "display": "inline-flex",
       "flex_flow": "row wrap",
       "visibility": "hidden",
       "width": "100%"
      }
     },
     "a5092fa4e56e415a9e622fdb76a42ae9": {
      "model_module": "@jupyter-widgets/controls",
      "model_module_version": "2.0.0",
      "model_name": "ProgressStyleModel",
      "state": {
       "description_width": ""
      }
     },
     "a51d153c09724554a298eacc056eeb36": {
      "model_module": "@jupyter-widgets/controls",
      "model_module_version": "2.0.0",
      "model_name": "ProgressStyleModel",
      "state": {
       "description_width": ""
      }
     },
     "a549683968284064a7a0e7703a83c194": {
      "model_module": "@jupyter-widgets/base",
      "model_module_version": "2.0.0",
      "model_name": "LayoutModel",
      "state": {
       "display": "inline-flex",
       "flex_flow": "row wrap",
       "visibility": "hidden",
       "width": "100%"
      }
     },
     "a55182ffbb25400c87e168e11c3323f4": {
      "model_module": "@jupyter-widgets/base",
      "model_module_version": "2.0.0",
      "model_name": "LayoutModel",
      "state": {}
     },
     "a56bd3ea8cbb4d328d1ca3eeeae15fd7": {
      "model_module": "@jupyter-widgets/controls",
      "model_module_version": "2.0.0",
      "model_name": "HTMLModel",
      "state": {
       "layout": "IPY_MODEL_bcf76f5e76014fe6ba716c2fc4a55624",
       "style": "IPY_MODEL_7cdaf563d9de45febbfdf7ddaacedde2",
       "value": " 58/58 [00:02&lt;00:00, 26.28it/s]"
      }
     },
     "a5b1401e3e414fabba0252e320d25df8": {
      "model_module": "@jupyter-widgets/controls",
      "model_module_version": "2.0.0",
      "model_name": "HTMLStyleModel",
      "state": {
       "description_width": "",
       "font_size": null,
       "text_color": null
      }
     },
     "a62358c032e540f79451350add615749": {
      "model_module": "@jupyter-widgets/controls",
      "model_module_version": "2.0.0",
      "model_name": "FloatProgressModel",
      "state": {
       "layout": "IPY_MODEL_b996f15075154d31926975ce75f565ff",
       "max": 58,
       "style": "IPY_MODEL_e0d7e12ad0f74772bc94a412710937bf",
       "value": 58
      }
     },
     "a64c92536e4348e9b6526fb5af79caaf": {
      "model_module": "@jupyter-widgets/controls",
      "model_module_version": "2.0.0",
      "model_name": "HTMLModel",
      "state": {
       "layout": "IPY_MODEL_7288d8c6f543413cbc21b348cdbfe65a",
       "style": "IPY_MODEL_f0315b02ab1d4b60bf404c00a6881897",
       "value": "Validation DataLoader 0: 100%"
      }
     },
     "a6535259de844fc78f62280179201e44": {
      "model_module": "@jupyter-widgets/controls",
      "model_module_version": "2.0.0",
      "model_name": "FloatProgressModel",
      "state": {
       "layout": "IPY_MODEL_0ff70407f97c46f1ac47eae3a32ebe52",
       "max": 58,
       "style": "IPY_MODEL_b8d446562bdb40c8931c7202d13fa632",
       "value": 58
      }
     },
     "a65983f1536d44878d7f7fb62acd7472": {
      "model_module": "@jupyter-widgets/controls",
      "model_module_version": "2.0.0",
      "model_name": "HTMLModel",
      "state": {
       "layout": "IPY_MODEL_8720b4bae49848238d4dea2f0efc2593",
       "style": "IPY_MODEL_92f1cdf23536437199af72244b6c1f7f",
       "value": "Validation DataLoader 0: 100%"
      }
     },
     "a6723a09de244e2fab50aee458be1f2c": {
      "model_module": "@jupyter-widgets/base",
      "model_module_version": "2.0.0",
      "model_name": "LayoutModel",
      "state": {
       "display": "inline-flex",
       "flex_flow": "row wrap",
       "visibility": "hidden",
       "width": "100%"
      }
     },
     "a69fd55522c7486f9eaba5716f5f9f9f": {
      "model_module": "@jupyter-widgets/controls",
      "model_module_version": "2.0.0",
      "model_name": "HTMLStyleModel",
      "state": {
       "description_width": "",
       "font_size": null,
       "text_color": null
      }
     },
     "a6b2a0e252ac429084ff2eace3e0b949": {
      "model_module": "@jupyter-widgets/base",
      "model_module_version": "2.0.0",
      "model_name": "LayoutModel",
      "state": {
       "display": "inline-flex",
       "flex_flow": "row wrap",
       "visibility": "hidden",
       "width": "100%"
      }
     },
     "a6b4df82aafe4e7fa56ee2d50a786061": {
      "model_module": "@jupyter-widgets/controls",
      "model_module_version": "2.0.0",
      "model_name": "HTMLModel",
      "state": {
       "layout": "IPY_MODEL_6d728808273d408ea16e6a3f77f47461",
       "style": "IPY_MODEL_3cc869f18a9d4042abbee4c5b63adee9",
       "value": " 58/58 [00:02&lt;00:00, 27.18it/s]"
      }
     },
     "a6b938cdcaad4c7d8621df16e04db585": {
      "model_module": "@jupyter-widgets/controls",
      "model_module_version": "2.0.0",
      "model_name": "FloatProgressModel",
      "state": {
       "layout": "IPY_MODEL_35301a171a374d659792d3d6a6c309ee",
       "max": 58,
       "style": "IPY_MODEL_aac14914dd2b4e54bd93dde22483dc7c",
       "value": 58
      }
     },
     "a6bac52d3fab4b61b4aeee921476ece8": {
      "model_module": "@jupyter-widgets/base",
      "model_module_version": "2.0.0",
      "model_name": "LayoutModel",
      "state": {
       "flex": "2"
      }
     },
     "a6f4e5f6bac840e583e46b33c384fc9f": {
      "model_module": "@jupyter-widgets/base",
      "model_module_version": "2.0.0",
      "model_name": "LayoutModel",
      "state": {
       "display": "inline-flex",
       "flex_flow": "row wrap",
       "visibility": "hidden",
       "width": "100%"
      }
     },
     "a73a5d6ce233408cb980377965c52c20": {
      "model_module": "@jupyter-widgets/controls",
      "model_module_version": "2.0.0",
      "model_name": "FloatProgressModel",
      "state": {
       "layout": "IPY_MODEL_446e49f0cf0a44ad911fd88431cd2f8b",
       "max": 58,
       "style": "IPY_MODEL_998aec567ce649deb73d60f66ce3b1de",
       "value": 58
      }
     },
     "a75021f339c24c289e863b7232c5ceae": {
      "model_module": "@jupyter-widgets/controls",
      "model_module_version": "2.0.0",
      "model_name": "HTMLStyleModel",
      "state": {
       "description_width": "",
       "font_size": null,
       "text_color": null
      }
     },
     "a77f2eb139344269be68bf0cb71b077c": {
      "model_module": "@jupyter-widgets/controls",
      "model_module_version": "2.0.0",
      "model_name": "HTMLModel",
      "state": {
       "layout": "IPY_MODEL_2ea626a15fc74a84b9f80a6c839707c6",
       "style": "IPY_MODEL_534177acbb1c47248bd261b1795ac7c1",
       "value": "Validation DataLoader 0: 100%"
      }
     },
     "a79fa0134f3e4df4bc03fc1a080a19a4": {
      "model_module": "@jupyter-widgets/controls",
      "model_module_version": "2.0.0",
      "model_name": "HTMLModel",
      "state": {
       "layout": "IPY_MODEL_5952330e33ef43818fc8afd8ea73d09a",
       "style": "IPY_MODEL_c360c5af1b274929bb96458f143662c8",
       "value": "Validation DataLoader 0: 100%"
      }
     },
     "a7b48f16792a41b5923ad8a86ce50321": {
      "model_module": "@jupyter-widgets/base",
      "model_module_version": "2.0.0",
      "model_name": "LayoutModel",
      "state": {}
     },
     "a7c4706148974da6b8285b88e67aee21": {
      "model_module": "@jupyter-widgets/controls",
      "model_module_version": "2.0.0",
      "model_name": "ProgressStyleModel",
      "state": {
       "description_width": ""
      }
     },
     "a7da11a446594c76b783b77cc2d82529": {
      "model_module": "@jupyter-widgets/base",
      "model_module_version": "2.0.0",
      "model_name": "LayoutModel",
      "state": {
       "display": "inline-flex",
       "flex_flow": "row wrap",
       "visibility": "hidden",
       "width": "100%"
      }
     },
     "a7e5b76b92634a0299a57d195ff2d6c1": {
      "model_module": "@jupyter-widgets/controls",
      "model_module_version": "2.0.0",
      "model_name": "HTMLModel",
      "state": {
       "layout": "IPY_MODEL_0912f2d8635f478c88b278dc382426e2",
       "style": "IPY_MODEL_bfffa4fd7a6449c881d73606c9254a25",
       "value": " 58/58 [00:02&lt;00:00, 27.83it/s]"
      }
     },
     "a80c124974e24fa98cc595a2be80fac2": {
      "model_module": "@jupyter-widgets/controls",
      "model_module_version": "2.0.0",
      "model_name": "FloatProgressModel",
      "state": {
       "layout": "IPY_MODEL_38048a565537455fa6e17beccb6adedf",
       "max": 58,
       "style": "IPY_MODEL_310ca359b5f34827a114b9b64c04e3c5",
       "value": 58
      }
     },
     "a81063792944439d8cd1ea1e6c058486": {
      "model_module": "@jupyter-widgets/controls",
      "model_module_version": "2.0.0",
      "model_name": "HTMLStyleModel",
      "state": {
       "description_width": "",
       "font_size": null,
       "text_color": null
      }
     },
     "a84126af03e947b7bef93eb2f6151c28": {
      "model_module": "@jupyter-widgets/controls",
      "model_module_version": "2.0.0",
      "model_name": "HTMLStyleModel",
      "state": {
       "description_width": "",
       "font_size": null,
       "text_color": null
      }
     },
     "a868d6253c3443538a453abc1a9f02ef": {
      "model_module": "@jupyter-widgets/base",
      "model_module_version": "2.0.0",
      "model_name": "LayoutModel",
      "state": {}
     },
     "a87866cd967049bd986c35102ae79a0b": {
      "model_module": "@jupyter-widgets/controls",
      "model_module_version": "2.0.0",
      "model_name": "HTMLStyleModel",
      "state": {
       "description_width": "",
       "font_size": null,
       "text_color": null
      }
     },
     "a8a918621c2246199a3c1cc49f59800f": {
      "model_module": "@jupyter-widgets/base",
      "model_module_version": "2.0.0",
      "model_name": "LayoutModel",
      "state": {
       "display": "inline-flex",
       "flex_flow": "row wrap",
       "visibility": "hidden",
       "width": "100%"
      }
     },
     "a8dd77518246481394f9691cee77abb1": {
      "model_module": "@jupyter-widgets/controls",
      "model_module_version": "2.0.0",
      "model_name": "HTMLModel",
      "state": {
       "layout": "IPY_MODEL_54515a7f7d394c4cbf7fc1da55190e19",
       "style": "IPY_MODEL_b45288b06d7f4a38b2f3aaa05297d990",
       "value": "Validation DataLoader 0: 100%"
      }
     },
     "a8e9ac0b7c8444d6b9f1899ffd8d6de5": {
      "model_module": "@jupyter-widgets/base",
      "model_module_version": "2.0.0",
      "model_name": "LayoutModel",
      "state": {
       "display": "inline-flex",
       "flex_flow": "row wrap",
       "visibility": "hidden",
       "width": "100%"
      }
     },
     "a8fe1c8aaf76450e8e6e658210ad1577": {
      "model_module": "@jupyter-widgets/base",
      "model_module_version": "2.0.0",
      "model_name": "LayoutModel",
      "state": {
       "flex": "2"
      }
     },
     "a90a38bd4ed549e1af655ef899a177ec": {
      "model_module": "@jupyter-widgets/controls",
      "model_module_version": "2.0.0",
      "model_name": "HTMLModel",
      "state": {
       "layout": "IPY_MODEL_8525e502b4504718b3922d4aeb877858",
       "style": "IPY_MODEL_a69fd55522c7486f9eaba5716f5f9f9f",
       "value": " 58/58 [00:02&lt;00:00, 26.77it/s]"
      }
     },
     "a9303db6a3424d06bb6606b474c36bea": {
      "model_module": "@jupyter-widgets/controls",
      "model_module_version": "2.0.0",
      "model_name": "ProgressStyleModel",
      "state": {
       "description_width": ""
      }
     },
     "a94844a4f32747259d492782dcdb1446": {
      "model_module": "@jupyter-widgets/controls",
      "model_module_version": "2.0.0",
      "model_name": "HTMLModel",
      "state": {
       "layout": "IPY_MODEL_da1243698f6c4f908c4460a3b1fbfe34",
       "style": "IPY_MODEL_ff6093612bfc478f843f441a1692dacf",
       "value": " 58/58 [00:02&lt;00:00, 25.45it/s]"
      }
     },
     "a94c743cf5ab49a59073489f0f93d819": {
      "model_module": "@jupyter-widgets/base",
      "model_module_version": "2.0.0",
      "model_name": "LayoutModel",
      "state": {}
     },
     "a995fa7ee4434a7c8ce43332b6a1ad60": {
      "model_module": "@jupyter-widgets/controls",
      "model_module_version": "2.0.0",
      "model_name": "HTMLStyleModel",
      "state": {
       "description_width": "",
       "font_size": null,
       "text_color": null
      }
     },
     "a9b0b1b29fc546fab3f6ed1f8c729428": {
      "model_module": "@jupyter-widgets/base",
      "model_module_version": "2.0.0",
      "model_name": "LayoutModel",
      "state": {
       "flex": "2"
      }
     },
     "a9baa6db404e4099ae5246339b9dbb08": {
      "model_module": "@jupyter-widgets/controls",
      "model_module_version": "2.0.0",
      "model_name": "HTMLModel",
      "state": {
       "layout": "IPY_MODEL_4be576ed73b04112af692708331df160",
       "style": "IPY_MODEL_a84126af03e947b7bef93eb2f6151c28",
       "value": " 58/58 [00:02&lt;00:00, 26.68it/s]"
      }
     },
     "a9d6cca610164583822c7365ca5b628a": {
      "model_module": "@jupyter-widgets/base",
      "model_module_version": "2.0.0",
      "model_name": "LayoutModel",
      "state": {
       "display": "inline-flex",
       "flex_flow": "row wrap",
       "visibility": "hidden",
       "width": "100%"
      }
     },
     "a9de5d32a91449a8800419acc47cecb1": {
      "model_module": "@jupyter-widgets/controls",
      "model_module_version": "2.0.0",
      "model_name": "FloatProgressModel",
      "state": {
       "layout": "IPY_MODEL_63c93cb2e1f5431ca87b7028da82a05b",
       "max": 58,
       "style": "IPY_MODEL_4324b14faf264a62aa6973fcc04ba329",
       "value": 58
      }
     },
     "a9eb12815a8c4fb1a86c4c9ff687292d": {
      "model_module": "@jupyter-widgets/controls",
      "model_module_version": "2.0.0",
      "model_name": "FloatProgressModel",
      "state": {
       "layout": "IPY_MODEL_f348c48380b54ba1bed1b807b937e35b",
       "max": 58,
       "style": "IPY_MODEL_ded2ed1fb01a4648a46ea3fa4aad8924",
       "value": 58
      }
     },
     "aa04f19225e54773ad1fec7870a0a8df": {
      "model_module": "@jupyter-widgets/controls",
      "model_module_version": "2.0.0",
      "model_name": "HTMLStyleModel",
      "state": {
       "description_width": "",
       "font_size": null,
       "text_color": null
      }
     },
     "aa06a929aba64ebb911f3c1bc137459f": {
      "model_module": "@jupyter-widgets/controls",
      "model_module_version": "2.0.0",
      "model_name": "HTMLModel",
      "state": {
       "layout": "IPY_MODEL_d7d9ab92dab64b34a503cd256eaab059",
       "style": "IPY_MODEL_826f0ae7c12046d6ae1ab14544e1419f",
       "value": " 58/58 [00:02&lt;00:00, 27.03it/s]"
      }
     },
     "aa26b86f3a9b4d89b16558dfdc3a04af": {
      "model_module": "@jupyter-widgets/base",
      "model_module_version": "2.0.0",
      "model_name": "LayoutModel",
      "state": {
       "display": "inline-flex",
       "flex_flow": "row wrap",
       "visibility": "hidden",
       "width": "100%"
      }
     },
     "aa271f3facc14760914d8e87f8dbfaff": {
      "model_module": "@jupyter-widgets/base",
      "model_module_version": "2.0.0",
      "model_name": "LayoutModel",
      "state": {
       "flex": "2"
      }
     },
     "aa534173badb4532a3e91ed93e886138": {
      "model_module": "@jupyter-widgets/base",
      "model_module_version": "2.0.0",
      "model_name": "LayoutModel",
      "state": {
       "flex": "2"
      }
     },
     "aa6bbc8b685b4fee9f999a93d0bf0eaa": {
      "model_module": "@jupyter-widgets/base",
      "model_module_version": "2.0.0",
      "model_name": "LayoutModel",
      "state": {
       "flex": "2"
      }
     },
     "aa9c503490e74e62a2b09c2116beced2": {
      "model_module": "@jupyter-widgets/controls",
      "model_module_version": "2.0.0",
      "model_name": "HTMLStyleModel",
      "state": {
       "description_width": "",
       "font_size": null,
       "text_color": null
      }
     },
     "aaa7f5a513a24a9290e1e3ebc1387278": {
      "model_module": "@jupyter-widgets/base",
      "model_module_version": "2.0.0",
      "model_name": "LayoutModel",
      "state": {}
     },
     "aac14914dd2b4e54bd93dde22483dc7c": {
      "model_module": "@jupyter-widgets/controls",
      "model_module_version": "2.0.0",
      "model_name": "ProgressStyleModel",
      "state": {
       "description_width": ""
      }
     },
     "aae3d701c76f4ce29ff434e0bcc22c7b": {
      "model_module": "@jupyter-widgets/controls",
      "model_module_version": "2.0.0",
      "model_name": "HTMLModel",
      "state": {
       "layout": "IPY_MODEL_e202ffdfbda046da9d99b6add9f3a3c5",
       "style": "IPY_MODEL_aa9c503490e74e62a2b09c2116beced2",
       "value": "Validation DataLoader 0: 100%"
      }
     },
     "ab3e627b21c84410a0ed94f8ff851a85": {
      "model_module": "@jupyter-widgets/controls",
      "model_module_version": "2.0.0",
      "model_name": "HTMLStyleModel",
      "state": {
       "description_width": "",
       "font_size": null,
       "text_color": null
      }
     },
     "abdc1e9f5daa446db1bc0fd9cf252103": {
      "model_module": "@jupyter-widgets/controls",
      "model_module_version": "2.0.0",
      "model_name": "ProgressStyleModel",
      "state": {
       "description_width": ""
      }
     },
     "ac08596aea854c4faa3e2eea6508f76d": {
      "model_module": "@jupyter-widgets/controls",
      "model_module_version": "2.0.0",
      "model_name": "FloatProgressModel",
      "state": {
       "layout": "IPY_MODEL_80b2d45512c64987b48b96bbf36d2d51",
       "max": 58,
       "style": "IPY_MODEL_5210c0b508954147ac25e13c0945561f",
       "value": 58
      }
     },
     "ac1deec4d0374d6fae5c8cbb77e664cf": {
      "model_module": "@jupyter-widgets/controls",
      "model_module_version": "2.0.0",
      "model_name": "FloatProgressModel",
      "state": {
       "layout": "IPY_MODEL_cdca7e9342f54abf9103711f0f76f68b",
       "max": 58,
       "style": "IPY_MODEL_c2861f2fe89a4782861a96f753496dcf",
       "value": 58
      }
     },
     "ac309226d3f14de58326485478b8c9e2": {
      "model_module": "@jupyter-widgets/base",
      "model_module_version": "2.0.0",
      "model_name": "LayoutModel",
      "state": {}
     },
     "ac456145227542afb2c9f66e6dba5b33": {
      "model_module": "@jupyter-widgets/controls",
      "model_module_version": "2.0.0",
      "model_name": "ProgressStyleModel",
      "state": {
       "description_width": ""
      }
     },
     "ac94b4b1dc58467ebf22fd39310bd7e2": {
      "model_module": "@jupyter-widgets/base",
      "model_module_version": "2.0.0",
      "model_name": "LayoutModel",
      "state": {
       "display": "inline-flex",
       "flex_flow": "row wrap",
       "visibility": "hidden",
       "width": "100%"
      }
     },
     "acb10834b4814b48ab24bf8521b3b01f": {
      "model_module": "@jupyter-widgets/controls",
      "model_module_version": "2.0.0",
      "model_name": "HTMLModel",
      "state": {
       "layout": "IPY_MODEL_c1da5684831749469f035f911a5fab0b",
       "style": "IPY_MODEL_e69c7d131e5c4acd83b41cee6d07d03c",
       "value": "Validation DataLoader 0: 100%"
      }
     },
     "acd3228bad054859a5e4c36240c9b2e9": {
      "model_module": "@jupyter-widgets/controls",
      "model_module_version": "2.0.0",
      "model_name": "HTMLStyleModel",
      "state": {
       "description_width": "",
       "font_size": null,
       "text_color": null
      }
     },
     "acd4d51331b64a94978ea12feb354490": {
      "model_module": "@jupyter-widgets/controls",
      "model_module_version": "2.0.0",
      "model_name": "HTMLModel",
      "state": {
       "layout": "IPY_MODEL_efa6f1a54e264615ba58d2976cca7970",
       "style": "IPY_MODEL_e247f55bf257431b9613731f54bfd7e3",
       "value": "Validation DataLoader 0: 100%"
      }
     },
     "ad1d968ae20b4f7e8089532641e29ebe": {
      "model_module": "@jupyter-widgets/base",
      "model_module_version": "2.0.0",
      "model_name": "LayoutModel",
      "state": {
       "flex": "2"
      }
     },
     "ad4b7fc3d6a34cb69e017ebdf4e0b9a2": {
      "model_module": "@jupyter-widgets/controls",
      "model_module_version": "2.0.0",
      "model_name": "HTMLModel",
      "state": {
       "layout": "IPY_MODEL_081cb589cdeb474c8cf33e52ddae24f8",
       "style": "IPY_MODEL_dd6d54964a2245d1beedc0d373f42d72",
       "value": " 58/58 [00:02&lt;00:00, 28.49it/s]"
      }
     },
     "ad6b31936fd64af4a1884efe042694d8": {
      "model_module": "@jupyter-widgets/controls",
      "model_module_version": "2.0.0",
      "model_name": "ProgressStyleModel",
      "state": {
       "description_width": ""
      }
     },
     "ad6d0bf32b8e4e52a569a582c8862e1d": {
      "model_module": "@jupyter-widgets/controls",
      "model_module_version": "2.0.0",
      "model_name": "HTMLStyleModel",
      "state": {
       "description_width": "",
       "font_size": null,
       "text_color": null
      }
     },
     "ad920cc1016c43f7ba10f1a724782dbc": {
      "model_module": "@jupyter-widgets/controls",
      "model_module_version": "2.0.0",
      "model_name": "HTMLModel",
      "state": {
       "layout": "IPY_MODEL_5041f49b67eb4802b636e7cadfda88cf",
       "style": "IPY_MODEL_9e8ba566ebf646e397d1562170410eab",
       "value": "Validation DataLoader 0: 100%"
      }
     },
     "ae0bad6c3c3f4661a000c9de86e34cdd": {
      "model_module": "@jupyter-widgets/controls",
      "model_module_version": "2.0.0",
      "model_name": "ProgressStyleModel",
      "state": {
       "description_width": ""
      }
     },
     "ae22a98decec461f9442fc49cd7b5b0d": {
      "model_module": "@jupyter-widgets/controls",
      "model_module_version": "2.0.0",
      "model_name": "HTMLStyleModel",
      "state": {
       "description_width": "",
       "font_size": null,
       "text_color": null
      }
     },
     "ae583d04693241ffabe32bc52dce6e32": {
      "model_module": "@jupyter-widgets/base",
      "model_module_version": "2.0.0",
      "model_name": "LayoutModel",
      "state": {}
     },
     "ae67c4629edb47af8c118be14cc03b63": {
      "model_module": "@jupyter-widgets/base",
      "model_module_version": "2.0.0",
      "model_name": "LayoutModel",
      "state": {}
     },
     "ae71924a364649b79985da2c32e0d6a7": {
      "model_module": "@jupyter-widgets/controls",
      "model_module_version": "2.0.0",
      "model_name": "HTMLModel",
      "state": {
       "layout": "IPY_MODEL_dcfa350e8fe64506ba47999634150307",
       "style": "IPY_MODEL_97a39e37e8de4889b528ca254e53c87f",
       "value": "Validation DataLoader 0: 100%"
      }
     },
     "ae8aa3233dcb4f7685d4d89c8fa54f5b": {
      "model_module": "@jupyter-widgets/controls",
      "model_module_version": "2.0.0",
      "model_name": "HTMLModel",
      "state": {
       "layout": "IPY_MODEL_30c879538513414bbe4db63f647ad01d",
       "style": "IPY_MODEL_f8db1c160d3145f184b4b538f1b164a3",
       "value": " 58/58 [00:02&lt;00:00, 28.39it/s]"
      }
     },
     "aeb62fcb880348feae713ff3feaa31ce": {
      "model_module": "@jupyter-widgets/controls",
      "model_module_version": "2.0.0",
      "model_name": "HTMLModel",
      "state": {
       "layout": "IPY_MODEL_06b56c8018c341218be2b132dcfa627b",
       "style": "IPY_MODEL_fbc7298c867b4a5dad8be1dc5f6dcd91",
       "value": "Validation DataLoader 0: 100%"
      }
     },
     "aed03814135645e8b403bc99bfcf6ca0": {
      "model_module": "@jupyter-widgets/base",
      "model_module_version": "2.0.0",
      "model_name": "LayoutModel",
      "state": {
       "display": "inline-flex",
       "flex_flow": "row wrap",
       "visibility": "hidden",
       "width": "100%"
      }
     },
     "aefa2514bc9e412182c614249864a6bb": {
      "model_module": "@jupyter-widgets/controls",
      "model_module_version": "2.0.0",
      "model_name": "HTMLStyleModel",
      "state": {
       "description_width": "",
       "font_size": null,
       "text_color": null
      }
     },
     "af0a2141aa8e442493db7882d3eb2081": {
      "model_module": "@jupyter-widgets/controls",
      "model_module_version": "2.0.0",
      "model_name": "HTMLModel",
      "state": {
       "layout": "IPY_MODEL_b88ffbd5906d4c9e94e6cb08a8006648",
       "style": "IPY_MODEL_5f60456eeba54e319cc3166b9bfb4e0c",
       "value": " 58/58 [00:02&lt;00:00, 26.17it/s]"
      }
     },
     "af28557833544fcfb1773399020c3833": {
      "model_module": "@jupyter-widgets/controls",
      "model_module_version": "2.0.0",
      "model_name": "HTMLStyleModel",
      "state": {
       "description_width": "",
       "font_size": null,
       "text_color": null
      }
     },
     "af2b8ec7612949b691011b46b7b270c1": {
      "model_module": "@jupyter-widgets/controls",
      "model_module_version": "2.0.0",
      "model_name": "HTMLModel",
      "state": {
       "layout": "IPY_MODEL_f470d9600e1f49039e316e8b4fa0a0f1",
       "style": "IPY_MODEL_410b7d9ecb324ade8173f10ddd3aa603",
       "value": "Validation DataLoader 0: 100%"
      }
     },
     "af4577201ddc48dba43659185684d7dd": {
      "model_module": "@jupyter-widgets/controls",
      "model_module_version": "2.0.0",
      "model_name": "HTMLStyleModel",
      "state": {
       "description_width": "",
       "font_size": null,
       "text_color": null
      }
     },
     "af78bcdc829b450c9ce5568f7ef760b2": {
      "model_module": "@jupyter-widgets/base",
      "model_module_version": "2.0.0",
      "model_name": "LayoutModel",
      "state": {
       "flex": "2"
      }
     },
     "af7eb8277f444bbca80d68f2870ce791": {
      "model_module": "@jupyter-widgets/base",
      "model_module_version": "2.0.0",
      "model_name": "LayoutModel",
      "state": {}
     },
     "af92f09ade6946a586e59775cec48163": {
      "model_module": "@jupyter-widgets/controls",
      "model_module_version": "2.0.0",
      "model_name": "HTMLStyleModel",
      "state": {
       "description_width": "",
       "font_size": null,
       "text_color": null
      }
     },
     "af9af9a8d4dc4d77a821508a6edfa628": {
      "model_module": "@jupyter-widgets/controls",
      "model_module_version": "2.0.0",
      "model_name": "HTMLStyleModel",
      "state": {
       "description_width": "",
       "font_size": null,
       "text_color": null
      }
     },
     "afb1a00c106544e4b6e90d953a18c7ce": {
      "model_module": "@jupyter-widgets/base",
      "model_module_version": "2.0.0",
      "model_name": "LayoutModel",
      "state": {}
     },
     "aff0373c4b1f4377a4a0479acc6170a8": {
      "model_module": "@jupyter-widgets/controls",
      "model_module_version": "2.0.0",
      "model_name": "HTMLStyleModel",
      "state": {
       "description_width": "",
       "font_size": null,
       "text_color": null
      }
     },
     "b005cc1b89dc472e967e7ccbc1cddb51": {
      "model_module": "@jupyter-widgets/controls",
      "model_module_version": "2.0.0",
      "model_name": "ProgressStyleModel",
      "state": {
       "description_width": ""
      }
     },
     "b0068a99f7e5464bba2f9bb4a9b4994a": {
      "model_module": "@jupyter-widgets/base",
      "model_module_version": "2.0.0",
      "model_name": "LayoutModel",
      "state": {}
     },
     "b00d85d881564c21b9340dde11cc9818": {
      "model_module": "@jupyter-widgets/controls",
      "model_module_version": "2.0.0",
      "model_name": "HTMLStyleModel",
      "state": {
       "description_width": "",
       "font_size": null,
       "text_color": null
      }
     },
     "b0265d8099964eaba60e2bebdfe00a9f": {
      "model_module": "@jupyter-widgets/base",
      "model_module_version": "2.0.0",
      "model_name": "LayoutModel",
      "state": {
       "display": "inline-flex",
       "flex_flow": "row wrap",
       "visibility": "hidden",
       "width": "100%"
      }
     },
     "b032ccdc602d492b8bf9347155776c52": {
      "model_module": "@jupyter-widgets/base",
      "model_module_version": "2.0.0",
      "model_name": "LayoutModel",
      "state": {}
     },
     "b0403ef7cd4f41219a48cf34dadf44f0": {
      "model_module": "@jupyter-widgets/base",
      "model_module_version": "2.0.0",
      "model_name": "LayoutModel",
      "state": {}
     },
     "b0428eeb23164e7e9dfac4064773b63a": {
      "model_module": "@jupyter-widgets/controls",
      "model_module_version": "2.0.0",
      "model_name": "HTMLModel",
      "state": {
       "layout": "IPY_MODEL_5d5084a74d5c4eeabbef7dbfcfc573b8",
       "style": "IPY_MODEL_61e7e33fbfa54bfc92fa8cdee87bf506",
       "value": "Validation DataLoader 0: 100%"
      }
     },
     "b05478fda2704e708495130b89626b4b": {
      "model_module": "@jupyter-widgets/base",
      "model_module_version": "2.0.0",
      "model_name": "LayoutModel",
      "state": {}
     },
     "b05eb636991443de93b622f808a4b6f2": {
      "model_module": "@jupyter-widgets/controls",
      "model_module_version": "2.0.0",
      "model_name": "HTMLModel",
      "state": {
       "layout": "IPY_MODEL_a406b6c75fe64ee4bba25a3381799615",
       "style": "IPY_MODEL_e57e47208eb44b1ca8710c9cff86e8db",
       "value": "Validation DataLoader 0: 100%"
      }
     },
     "b06edc98c32b4f1eaf40ef8c7151f49a": {
      "model_module": "@jupyter-widgets/base",
      "model_module_version": "2.0.0",
      "model_name": "LayoutModel",
      "state": {
       "display": "inline-flex",
       "flex_flow": "row wrap",
       "visibility": "hidden",
       "width": "100%"
      }
     },
     "b0c1c2e39cef4568b15e66642180eb8e": {
      "model_module": "@jupyter-widgets/controls",
      "model_module_version": "2.0.0",
      "model_name": "HTMLModel",
      "state": {
       "layout": "IPY_MODEL_3945fa8bc80c4dd883d94a68bf326cef",
       "style": "IPY_MODEL_6ba13e8ac17b42f0a3f3ae4830ff6f9b",
       "value": "Validation DataLoader 0: 100%"
      }
     },
     "b0cd68d5abb3470aae529a872fa65f32": {
      "model_module": "@jupyter-widgets/controls",
      "model_module_version": "2.0.0",
      "model_name": "ProgressStyleModel",
      "state": {
       "description_width": ""
      }
     },
     "b0fcdd48334941f2af5d4c3314a3e02f": {
      "model_module": "@jupyter-widgets/controls",
      "model_module_version": "2.0.0",
      "model_name": "HTMLStyleModel",
      "state": {
       "description_width": "",
       "font_size": null,
       "text_color": null
      }
     },
     "b11440e8a8c342ad8eac64bfd7ceeb0e": {
      "model_module": "@jupyter-widgets/controls",
      "model_module_version": "2.0.0",
      "model_name": "HTMLModel",
      "state": {
       "layout": "IPY_MODEL_5fd48e3bc88445a287cdb4f7fab23445",
       "style": "IPY_MODEL_39aee143c32f44ab9fa87473bc2b4995",
       "value": " 58/58 [00:02&lt;00:00, 25.45it/s]"
      }
     },
     "b142f204b4854702aa0d0d8a27fe9611": {
      "model_module": "@jupyter-widgets/base",
      "model_module_version": "2.0.0",
      "model_name": "LayoutModel",
      "state": {
       "flex": "2"
      }
     },
     "b15dcfe07e2c4cd0b0e9d852bb76aec0": {
      "model_module": "@jupyter-widgets/base",
      "model_module_version": "2.0.0",
      "model_name": "LayoutModel",
      "state": {}
     },
     "b1aa21ef8de54f68af035905c000e495": {
      "model_module": "@jupyter-widgets/base",
      "model_module_version": "2.0.0",
      "model_name": "LayoutModel",
      "state": {
       "flex": "2"
      }
     },
     "b1afac65dede44bb9f60195ae6f41a5a": {
      "model_module": "@jupyter-widgets/base",
      "model_module_version": "2.0.0",
      "model_name": "LayoutModel",
      "state": {}
     },
     "b1ddedd2c01e4df98d340e3da96bfed2": {
      "model_module": "@jupyter-widgets/base",
      "model_module_version": "2.0.0",
      "model_name": "LayoutModel",
      "state": {
       "flex": "2"
      }
     },
     "b1ed177db51f47d8a94d546d0fc57c16": {
      "model_module": "@jupyter-widgets/base",
      "model_module_version": "2.0.0",
      "model_name": "LayoutModel",
      "state": {}
     },
     "b1ff0904a42542f79f0a9da92e5b65af": {
      "model_module": "@jupyter-widgets/controls",
      "model_module_version": "2.0.0",
      "model_name": "FloatProgressModel",
      "state": {
       "layout": "IPY_MODEL_c1d04780e29d42c0b3b2964b14fa4dfb",
       "max": 58,
       "style": "IPY_MODEL_5bc1010b7b6a4b2aaf857d8fc7fcba4c",
       "value": 58
      }
     },
     "b213537c43db4ade944114c9e950714c": {
      "model_module": "@jupyter-widgets/base",
      "model_module_version": "2.0.0",
      "model_name": "LayoutModel",
      "state": {
       "display": "inline-flex",
       "flex_flow": "row wrap",
       "visibility": "hidden",
       "width": "100%"
      }
     },
     "b2223a4539544d9faf9aadd720b26c33": {
      "model_module": "@jupyter-widgets/controls",
      "model_module_version": "2.0.0",
      "model_name": "FloatProgressModel",
      "state": {
       "layout": "IPY_MODEL_b2fafd8550d44b8b94feb51ad8f45e78",
       "max": 58,
       "style": "IPY_MODEL_8489ca0ed07945e49231db1fd6621ad7",
       "value": 58
      }
     },
     "b23a8624075f49e7aa6eea64d8818c26": {
      "model_module": "@jupyter-widgets/controls",
      "model_module_version": "2.0.0",
      "model_name": "FloatProgressModel",
      "state": {
       "layout": "IPY_MODEL_66e8240bdb1943d7ad963b6ca3db2190",
       "max": 58,
       "style": "IPY_MODEL_dd7146321cb34cde80c4efdbc35b5d79",
       "value": 58
      }
     },
     "b2522d2d21a64b329c442c55fb3cbd6e": {
      "model_module": "@jupyter-widgets/controls",
      "model_module_version": "2.0.0",
      "model_name": "HTMLModel",
      "state": {
       "layout": "IPY_MODEL_6307681dd14e438fa45f262602c8b568",
       "style": "IPY_MODEL_01855a350f8d4ddca55c12105fd76b83",
       "value": " 58/58 [00:02&lt;00:00, 24.79it/s]"
      }
     },
     "b25e3b0405664a608dd7ff3864d3a9dd": {
      "model_module": "@jupyter-widgets/controls",
      "model_module_version": "2.0.0",
      "model_name": "ProgressStyleModel",
      "state": {
       "description_width": ""
      }
     },
     "b2722edff0e441b392de8f909427192f": {
      "model_module": "@jupyter-widgets/base",
      "model_module_version": "2.0.0",
      "model_name": "LayoutModel",
      "state": {
       "display": "inline-flex",
       "flex_flow": "row wrap",
       "visibility": "hidden",
       "width": "100%"
      }
     },
     "b27501c2c794411b8b06599531f0826a": {
      "model_module": "@jupyter-widgets/controls",
      "model_module_version": "2.0.0",
      "model_name": "HTMLStyleModel",
      "state": {
       "description_width": "",
       "font_size": null,
       "text_color": null
      }
     },
     "b2d1da99b79a47fea173cdcd1cd1815a": {
      "model_module": "@jupyter-widgets/controls",
      "model_module_version": "2.0.0",
      "model_name": "HTMLModel",
      "state": {
       "layout": "IPY_MODEL_631550aa009a4ab8a6698b16e4e4db5c",
       "style": "IPY_MODEL_20c18be435094250a91505a0e95d7e91",
       "value": "Validation DataLoader 0: 100%"
      }
     },
     "b2dff0d42327477aa149b8f111b4b822": {
      "model_module": "@jupyter-widgets/controls",
      "model_module_version": "2.0.0",
      "model_name": "HTMLModel",
      "state": {
       "layout": "IPY_MODEL_ae67c4629edb47af8c118be14cc03b63",
       "style": "IPY_MODEL_6c54e54e058a46b5a3e3729d0e679b7b",
       "value": "Validation DataLoader 0: 100%"
      }
     },
     "b2faca791b4a459b953d323cc7e9f6e4": {
      "model_module": "@jupyter-widgets/base",
      "model_module_version": "2.0.0",
      "model_name": "LayoutModel",
      "state": {
       "flex": "2"
      }
     },
     "b2fafd8550d44b8b94feb51ad8f45e78": {
      "model_module": "@jupyter-widgets/base",
      "model_module_version": "2.0.0",
      "model_name": "LayoutModel",
      "state": {
       "flex": "2"
      }
     },
     "b3846ac07a9a44a3b44e770fec2a5899": {
      "model_module": "@jupyter-widgets/controls",
      "model_module_version": "2.0.0",
      "model_name": "HTMLModel",
      "state": {
       "layout": "IPY_MODEL_bdd19e6e72ba4478b6b523f7e496dd97",
       "style": "IPY_MODEL_a4982d9f1ac54bd38843074be41f700e",
       "value": "Validation DataLoader 0: 100%"
      }
     },
     "b3905c44a7d246c898e75bf0f593a743": {
      "model_module": "@jupyter-widgets/controls",
      "model_module_version": "2.0.0",
      "model_name": "HTMLStyleModel",
      "state": {
       "description_width": "",
       "font_size": null,
       "text_color": null
      }
     },
     "b3e0e248e5ee40d88a5452ac5dcce74c": {
      "model_module": "@jupyter-widgets/controls",
      "model_module_version": "2.0.0",
      "model_name": "FloatProgressModel",
      "state": {
       "layout": "IPY_MODEL_9743ed1248c74b3d82b05819d4886388",
       "max": 58,
       "style": "IPY_MODEL_b6767a90de0e4482b58414a033e88446",
       "value": 58
      }
     },
     "b41715b18d8145e2882e3c89c3f7d1d0": {
      "model_module": "@jupyter-widgets/controls",
      "model_module_version": "2.0.0",
      "model_name": "HTMLModel",
      "state": {
       "layout": "IPY_MODEL_e611b44672a1409680025725097103b9",
       "style": "IPY_MODEL_21dc774fa9fd41078e9f15acff22c747",
       "value": " 58/58 [00:02&lt;00:00, 25.59it/s]"
      }
     },
     "b45288b06d7f4a38b2f3aaa05297d990": {
      "model_module": "@jupyter-widgets/controls",
      "model_module_version": "2.0.0",
      "model_name": "HTMLStyleModel",
      "state": {
       "description_width": "",
       "font_size": null,
       "text_color": null
      }
     },
     "b453efdbcb464c368fd76aa3cf6fffcb": {
      "model_module": "@jupyter-widgets/controls",
      "model_module_version": "2.0.0",
      "model_name": "HTMLStyleModel",
      "state": {
       "description_width": "",
       "font_size": null,
       "text_color": null
      }
     },
     "b4acd9cc4a56466db2e36472a4fa9fe9": {
      "model_module": "@jupyter-widgets/controls",
      "model_module_version": "2.0.0",
      "model_name": "HTMLStyleModel",
      "state": {
       "description_width": "",
       "font_size": null,
       "text_color": null
      }
     },
     "b4b17a20e77d49eca0870493fe856753": {
      "model_module": "@jupyter-widgets/base",
      "model_module_version": "2.0.0",
      "model_name": "LayoutModel",
      "state": {
       "flex": "2"
      }
     },
     "b4b201ce287b49929e47fe2144cae195": {
      "model_module": "@jupyter-widgets/base",
      "model_module_version": "2.0.0",
      "model_name": "LayoutModel",
      "state": {}
     },
     "b4b22039c35a496b80adc9b41cff59b1": {
      "model_module": "@jupyter-widgets/controls",
      "model_module_version": "2.0.0",
      "model_name": "FloatProgressModel",
      "state": {
       "layout": "IPY_MODEL_46d41f92a91f41dfb11e513652d7e486",
       "max": 58,
       "style": "IPY_MODEL_bda661ccf9724d5b829caa9fcfc2868a",
       "value": 58
      }
     },
     "b4d6cf976d13428088ae10b0c471c450": {
      "model_module": "@jupyter-widgets/base",
      "model_module_version": "2.0.0",
      "model_name": "LayoutModel",
      "state": {
       "display": "inline-flex",
       "flex_flow": "row wrap",
       "visibility": "hidden",
       "width": "100%"
      }
     },
     "b4e0093563eb40438e1b425c283638db": {
      "model_module": "@jupyter-widgets/base",
      "model_module_version": "2.0.0",
      "model_name": "LayoutModel",
      "state": {}
     },
     "b535dada6bc744b78166a77099259efc": {
      "model_module": "@jupyter-widgets/controls",
      "model_module_version": "2.0.0",
      "model_name": "HTMLStyleModel",
      "state": {
       "description_width": "",
       "font_size": null,
       "text_color": null
      }
     },
     "b56694a660314b80b1b97597e5806bda": {
      "model_module": "@jupyter-widgets/controls",
      "model_module_version": "2.0.0",
      "model_name": "ProgressStyleModel",
      "state": {
       "description_width": ""
      }
     },
     "b57bf15d10c74bd69f594b5afaa8bef0": {
      "model_module": "@jupyter-widgets/controls",
      "model_module_version": "2.0.0",
      "model_name": "HTMLModel",
      "state": {
       "layout": "IPY_MODEL_2f488cfb1ef34e57894db9c700b985a3",
       "style": "IPY_MODEL_249d7080e2f84627a81245aca995578e",
       "value": " 58/58 [00:02&lt;00:00, 27.21it/s]"
      }
     },
     "b5970fc1eb7c4aa49f72cb0b06b08fa8": {
      "model_module": "@jupyter-widgets/controls",
      "model_module_version": "2.0.0",
      "model_name": "ProgressStyleModel",
      "state": {
       "description_width": ""
      }
     },
     "b5c9ce4ee1a84046808d461bc2146ef7": {
      "model_module": "@jupyter-widgets/base",
      "model_module_version": "2.0.0",
      "model_name": "LayoutModel",
      "state": {}
     },
     "b5d4a0437d8c4f7c8061c4a2dfd6ce47": {
      "model_module": "@jupyter-widgets/controls",
      "model_module_version": "2.0.0",
      "model_name": "HTMLStyleModel",
      "state": {
       "description_width": "",
       "font_size": null,
       "text_color": null
      }
     },
     "b5d689d08e36462799c8a03d708a3e29": {
      "model_module": "@jupyter-widgets/controls",
      "model_module_version": "2.0.0",
      "model_name": "ProgressStyleModel",
      "state": {
       "description_width": ""
      }
     },
     "b5d77b908ded46179c7ae5cfebc5083b": {
      "model_module": "@jupyter-widgets/controls",
      "model_module_version": "2.0.0",
      "model_name": "FloatProgressModel",
      "state": {
       "layout": "IPY_MODEL_0c695056859e4534a2f499530ccf04b0",
       "max": 58,
       "style": "IPY_MODEL_c607fae943734c82a0e5b7c4bf8b9eae",
       "value": 58
      }
     },
     "b6022d122bd7407db07ddaf77b56c0a4": {
      "model_module": "@jupyter-widgets/controls",
      "model_module_version": "2.0.0",
      "model_name": "HTMLStyleModel",
      "state": {
       "description_width": "",
       "font_size": null,
       "text_color": null
      }
     },
     "b6094235f14b4f3d83dc958e4b2eec28": {
      "model_module": "@jupyter-widgets/base",
      "model_module_version": "2.0.0",
      "model_name": "LayoutModel",
      "state": {
       "flex": "2"
      }
     },
     "b670c35f1c41475390f5127efa251c2f": {
      "model_module": "@jupyter-widgets/controls",
      "model_module_version": "2.0.0",
      "model_name": "ProgressStyleModel",
      "state": {
       "description_width": ""
      }
     },
     "b6767a90de0e4482b58414a033e88446": {
      "model_module": "@jupyter-widgets/controls",
      "model_module_version": "2.0.0",
      "model_name": "ProgressStyleModel",
      "state": {
       "description_width": ""
      }
     },
     "b6963b9f07b7441a8468c29c3f8d58a2": {
      "model_module": "@jupyter-widgets/base",
      "model_module_version": "2.0.0",
      "model_name": "LayoutModel",
      "state": {}
     },
     "b6be4554c10a4703aea1c805b30b2d4f": {
      "model_module": "@jupyter-widgets/controls",
      "model_module_version": "2.0.0",
      "model_name": "HTMLModel",
      "state": {
       "layout": "IPY_MODEL_f10a95faf0974d1e8d5a9489bac30f8b",
       "style": "IPY_MODEL_c9dd4c949bea42afbf010cc596e25460",
       "value": " 58/58 [00:02&lt;00:00, 27.45it/s]"
      }
     },
     "b71c6f822ca3429dad29e6d6cde197a0": {
      "model_module": "@jupyter-widgets/base",
      "model_module_version": "2.0.0",
      "model_name": "LayoutModel",
      "state": {}
     },
     "b7240fc113194844903a33b1d3df4039": {
      "model_module": "@jupyter-widgets/controls",
      "model_module_version": "2.0.0",
      "model_name": "HTMLModel",
      "state": {
       "layout": "IPY_MODEL_eb2cf236f0e049a2bf064d96f35cb08d",
       "style": "IPY_MODEL_0652510a23704f2da7923b92cf4c8050",
       "value": "Validation DataLoader 0: 100%"
      }
     },
     "b729f33b60a3483d832a8ddbf56e4285": {
      "model_module": "@jupyter-widgets/controls",
      "model_module_version": "2.0.0",
      "model_name": "FloatProgressModel",
      "state": {
       "layout": "IPY_MODEL_a053995ca6db4eaeae290cc2c7785016",
       "max": 58,
       "style": "IPY_MODEL_d29c494dc4c84a6abdb4452695771efe",
       "value": 58
      }
     },
     "b73396bbad6440de8a3bf521ea766a5b": {
      "model_module": "@jupyter-widgets/controls",
      "model_module_version": "2.0.0",
      "model_name": "HTMLModel",
      "state": {
       "layout": "IPY_MODEL_90d7916188fe4e50850e439dbcf93699",
       "style": "IPY_MODEL_e9d49c50561d47d1a836c381da52b2ec",
       "value": "Validation DataLoader 0: 100%"
      }
     },
     "b73d8e0ac2014fb89d41975e927244aa": {
      "model_module": "@jupyter-widgets/controls",
      "model_module_version": "2.0.0",
      "model_name": "ProgressStyleModel",
      "state": {
       "description_width": ""
      }
     },
     "b76b60fe08af428989ea7ce6cc2cd0ac": {
      "model_module": "@jupyter-widgets/base",
      "model_module_version": "2.0.0",
      "model_name": "LayoutModel",
      "state": {}
     },
     "b76e57710b86448caabc68a004599b99": {
      "model_module": "@jupyter-widgets/controls",
      "model_module_version": "2.0.0",
      "model_name": "HTMLStyleModel",
      "state": {
       "description_width": "",
       "font_size": null,
       "text_color": null
      }
     },
     "b7730e3d320246e19cf7ee58a54c3cf6": {
      "model_module": "@jupyter-widgets/controls",
      "model_module_version": "2.0.0",
      "model_name": "HTMLStyleModel",
      "state": {
       "description_width": "",
       "font_size": null,
       "text_color": null
      }
     },
     "b79ba83a94ba4f91b081aaa809277213": {
      "model_module": "@jupyter-widgets/controls",
      "model_module_version": "2.0.0",
      "model_name": "HTMLModel",
      "state": {
       "layout": "IPY_MODEL_a55182ffbb25400c87e168e11c3323f4",
       "style": "IPY_MODEL_8858a0cf58b74095a465cf98983e446c",
       "value": " 58/58 [00:02&lt;00:00, 25.36it/s]"
      }
     },
     "b7bab9957fde417d9961f00003eaa6e2": {
      "model_module": "@jupyter-widgets/base",
      "model_module_version": "2.0.0",
      "model_name": "LayoutModel",
      "state": {
       "display": "inline-flex",
       "flex_flow": "row wrap",
       "visibility": "hidden",
       "width": "100%"
      }
     },
     "b7cdd50bdb1849758d504e44519e8563": {
      "model_module": "@jupyter-widgets/controls",
      "model_module_version": "2.0.0",
      "model_name": "ProgressStyleModel",
      "state": {
       "description_width": ""
      }
     },
     "b7e4dae6baa0419599beca6b3eedc8c2": {
      "model_module": "@jupyter-widgets/base",
      "model_module_version": "2.0.0",
      "model_name": "LayoutModel",
      "state": {}
     },
     "b7e9bf702bc0467ea4002ba672330399": {
      "model_module": "@jupyter-widgets/controls",
      "model_module_version": "2.0.0",
      "model_name": "HTMLModel",
      "state": {
       "layout": "IPY_MODEL_ee8d892e781b47be97f18dddb8318ff8",
       "style": "IPY_MODEL_890ec045a83d4e828054d86ec9f7144c",
       "value": "Validation DataLoader 0: 100%"
      }
     },
     "b7fb7b7bbd994886a7363ebac93e6289": {
      "model_module": "@jupyter-widgets/controls",
      "model_module_version": "2.0.0",
      "model_name": "HTMLStyleModel",
      "state": {
       "description_width": "",
       "font_size": null,
       "text_color": null
      }
     },
     "b812857e052541cbbd3b7f3a3e4e15af": {
      "model_module": "@jupyter-widgets/controls",
      "model_module_version": "2.0.0",
      "model_name": "FloatProgressModel",
      "state": {
       "layout": "IPY_MODEL_ee0835d491154029944992116a62cbf9",
       "max": 58,
       "style": "IPY_MODEL_7dd87c9440ce43f5bd803ad0e06abf6e",
       "value": 58
      }
     },
     "b84956a819f94cd09cfe2320dd01108e": {
      "model_module": "@jupyter-widgets/controls",
      "model_module_version": "2.0.0",
      "model_name": "ProgressStyleModel",
      "state": {
       "description_width": ""
      }
     },
     "b85b5b16d4a4484097059c679b92551a": {
      "model_module": "@jupyter-widgets/base",
      "model_module_version": "2.0.0",
      "model_name": "LayoutModel",
      "state": {}
     },
     "b88ffbd5906d4c9e94e6cb08a8006648": {
      "model_module": "@jupyter-widgets/base",
      "model_module_version": "2.0.0",
      "model_name": "LayoutModel",
      "state": {}
     },
     "b894c1ef38a44635a2d1c59688db9a2f": {
      "model_module": "@jupyter-widgets/controls",
      "model_module_version": "2.0.0",
      "model_name": "HTMLModel",
      "state": {
       "layout": "IPY_MODEL_dbbe611d6f214391a08ebfb91d46703b",
       "style": "IPY_MODEL_65d000e853cb4a67bcc32d949bd10707",
       "value": " 58/58 [00:02&lt;00:00, 28.36it/s]"
      }
     },
     "b8aca8aa8cc444f4a9bbe7f2b083586a": {
      "model_module": "@jupyter-widgets/controls",
      "model_module_version": "2.0.0",
      "model_name": "ProgressStyleModel",
      "state": {
       "description_width": ""
      }
     },
     "b8cab7ccc6a94d5d88fabb678e71a60d": {
      "model_module": "@jupyter-widgets/controls",
      "model_module_version": "2.0.0",
      "model_name": "ProgressStyleModel",
      "state": {
       "description_width": ""
      }
     },
     "b8cdce56caa942cdb8007770f82b0b29": {
      "model_module": "@jupyter-widgets/base",
      "model_module_version": "2.0.0",
      "model_name": "LayoutModel",
      "state": {
       "display": "inline-flex",
       "flex_flow": "row wrap",
       "visibility": "hidden",
       "width": "100%"
      }
     },
     "b8d446562bdb40c8931c7202d13fa632": {
      "model_module": "@jupyter-widgets/controls",
      "model_module_version": "2.0.0",
      "model_name": "ProgressStyleModel",
      "state": {
       "description_width": ""
      }
     },
     "b914038621544230a5309989a0d15f07": {
      "model_module": "@jupyter-widgets/base",
      "model_module_version": "2.0.0",
      "model_name": "LayoutModel",
      "state": {}
     },
     "b92275e50e304394aae0046b15df0bb7": {
      "model_module": "@jupyter-widgets/base",
      "model_module_version": "2.0.0",
      "model_name": "LayoutModel",
      "state": {
       "display": "inline-flex",
       "flex_flow": "row wrap",
       "visibility": "hidden",
       "width": "100%"
      }
     },
     "b9402781aa2c4fbba7ff904e43ee3ead": {
      "model_module": "@jupyter-widgets/base",
      "model_module_version": "2.0.0",
      "model_name": "LayoutModel",
      "state": {}
     },
     "b950978f207c4a3bada283b397f68043": {
      "model_module": "@jupyter-widgets/controls",
      "model_module_version": "2.0.0",
      "model_name": "HTMLModel",
      "state": {
       "layout": "IPY_MODEL_ffef69ea4d324b18ba61dc679923e765",
       "style": "IPY_MODEL_d8fb68518c9d4f7091af6ea47a47ffff",
       "value": "Validation DataLoader 0: 100%"
      }
     },
     "b996f15075154d31926975ce75f565ff": {
      "model_module": "@jupyter-widgets/base",
      "model_module_version": "2.0.0",
      "model_name": "LayoutModel",
      "state": {
       "flex": "2"
      }
     },
     "b9b5d7d44dfc4f3280a9b2512867a02c": {
      "model_module": "@jupyter-widgets/controls",
      "model_module_version": "2.0.0",
      "model_name": "HTMLStyleModel",
      "state": {
       "description_width": "",
       "font_size": null,
       "text_color": null
      }
     },
     "b9f80f4724604a78a8eeafa7c66a9475": {
      "model_module": "@jupyter-widgets/controls",
      "model_module_version": "2.0.0",
      "model_name": "HTMLModel",
      "state": {
       "layout": "IPY_MODEL_8245b1430ef94195a77368d8c3b4a875",
       "style": "IPY_MODEL_27a89e429f86433f8e6223a75bf416e9",
       "value": "Validation DataLoader 0: 100%"
      }
     },
     "b9fba74dc37e45c1b8be3b014366e149": {
      "model_module": "@jupyter-widgets/base",
      "model_module_version": "2.0.0",
      "model_name": "LayoutModel",
      "state": {}
     },
     "b9feddb965b644658912570ce869daf0": {
      "model_module": "@jupyter-widgets/base",
      "model_module_version": "2.0.0",
      "model_name": "LayoutModel",
      "state": {
       "display": "inline-flex",
       "flex_flow": "row wrap",
       "visibility": "hidden",
       "width": "100%"
      }
     },
     "ba280392a00a4e05ab6f0dd8f3edcbfb": {
      "model_module": "@jupyter-widgets/controls",
      "model_module_version": "2.0.0",
      "model_name": "ProgressStyleModel",
      "state": {
       "description_width": ""
      }
     },
     "ba34961c66734769af038526cc9fbe99": {
      "model_module": "@jupyter-widgets/base",
      "model_module_version": "2.0.0",
      "model_name": "LayoutModel",
      "state": {
       "flex": "2"
      }
     },
     "ba3dd1c4efb64ddda0e32cb4e8d85150": {
      "model_module": "@jupyter-widgets/controls",
      "model_module_version": "2.0.0",
      "model_name": "HTMLStyleModel",
      "state": {
       "description_width": "",
       "font_size": null,
       "text_color": null
      }
     },
     "ba4a4833da294b34905812a307cf6feb": {
      "model_module": "@jupyter-widgets/base",
      "model_module_version": "2.0.0",
      "model_name": "LayoutModel",
      "state": {}
     },
     "ba8745dd5a9a47299108e1d5c1a3acac": {
      "model_module": "@jupyter-widgets/controls",
      "model_module_version": "2.0.0",
      "model_name": "HTMLModel",
      "state": {
       "layout": "IPY_MODEL_bebadfbd50824afb8963c388e9fcfcda",
       "style": "IPY_MODEL_9634525e3bf64c3487322cbe44c02c15",
       "value": " 58/58 [00:02&lt;00:00, 25.77it/s]"
      }
     },
     "baa0144fe0de4acd822d4b4934bebc6c": {
      "model_module": "@jupyter-widgets/controls",
      "model_module_version": "2.0.0",
      "model_name": "HTMLModel",
      "state": {
       "layout": "IPY_MODEL_43b0a2dfd5c741e7a8fb44f74930b6b4",
       "style": "IPY_MODEL_9a37ad55e17a44e4a7f3af669bb187c9",
       "value": " 58/58 [00:02&lt;00:00, 28.27it/s]"
      }
     },
     "baa3bf3a27584f54ac40d3ec509c35c5": {
      "model_module": "@jupyter-widgets/controls",
      "model_module_version": "2.0.0",
      "model_name": "HTMLStyleModel",
      "state": {
       "description_width": "",
       "font_size": null,
       "text_color": null
      }
     },
     "bae58775b1f247b780b6eefa33586f07": {
      "model_module": "@jupyter-widgets/base",
      "model_module_version": "2.0.0",
      "model_name": "LayoutModel",
      "state": {}
     },
     "bae9354143c449c09fd11664ef8fb709": {
      "model_module": "@jupyter-widgets/base",
      "model_module_version": "2.0.0",
      "model_name": "LayoutModel",
      "state": {}
     },
     "baff4ee2b37b42b985b4a143e291612b": {
      "model_module": "@jupyter-widgets/base",
      "model_module_version": "2.0.0",
      "model_name": "LayoutModel",
      "state": {
       "flex": "2"
      }
     },
     "bb0cea9ceb594251802f09cf094bade2": {
      "model_module": "@jupyter-widgets/controls",
      "model_module_version": "2.0.0",
      "model_name": "HTMLStyleModel",
      "state": {
       "description_width": "",
       "font_size": null,
       "text_color": null
      }
     },
     "bb2f9b7cff0440bba0d61e11170be602": {
      "model_module": "@jupyter-widgets/controls",
      "model_module_version": "2.0.0",
      "model_name": "HTMLModel",
      "state": {
       "layout": "IPY_MODEL_48a1195e61654befaef04ce7696af3a6",
       "style": "IPY_MODEL_e9a2fb2a193d4854b43ba015deb3b884",
       "value": " 58/58 [00:02&lt;00:00, 27.17it/s]"
      }
     },
     "bbc2493d4b7a4babaae7ee78616cf044": {
      "model_module": "@jupyter-widgets/base",
      "model_module_version": "2.0.0",
      "model_name": "LayoutModel",
      "state": {
       "display": "inline-flex",
       "flex_flow": "row wrap",
       "visibility": "hidden",
       "width": "100%"
      }
     },
     "bbdae6712bd641608d848278e382e812": {
      "model_module": "@jupyter-widgets/base",
      "model_module_version": "2.0.0",
      "model_name": "LayoutModel",
      "state": {}
     },
     "bbdd60ff81954b6696bdd41a1cf2b969": {
      "model_module": "@jupyter-widgets/base",
      "model_module_version": "2.0.0",
      "model_name": "LayoutModel",
      "state": {
       "display": "inline-flex",
       "flex_flow": "row wrap",
       "visibility": "hidden",
       "width": "100%"
      }
     },
     "bc151d228ee94c1cacb31b175f10809f": {
      "model_module": "@jupyter-widgets/base",
      "model_module_version": "2.0.0",
      "model_name": "LayoutModel",
      "state": {}
     },
     "bc286c5ea15b48e08ee0f0448b825927": {
      "model_module": "@jupyter-widgets/controls",
      "model_module_version": "2.0.0",
      "model_name": "ProgressStyleModel",
      "state": {
       "description_width": ""
      }
     },
     "bc51004695774da689243069e471407c": {
      "model_module": "@jupyter-widgets/base",
      "model_module_version": "2.0.0",
      "model_name": "LayoutModel",
      "state": {
       "display": "inline-flex",
       "flex_flow": "row wrap",
       "visibility": "hidden",
       "width": "100%"
      }
     },
     "bc538ee4ae8b4b498eea5644a5a314f1": {
      "model_module": "@jupyter-widgets/controls",
      "model_module_version": "2.0.0",
      "model_name": "HTMLModel",
      "state": {
       "layout": "IPY_MODEL_a27478b4132648b9a6de7fd01f112c86",
       "style": "IPY_MODEL_0414a31f79de40dd9da46efd46e66fdf",
       "value": "Validation DataLoader 0: 100%"
      }
     },
     "bc58bd4726ba4a2999d3b977a0966c0a": {
      "model_module": "@jupyter-widgets/controls",
      "model_module_version": "2.0.0",
      "model_name": "HTMLModel",
      "state": {
       "layout": "IPY_MODEL_1e0fe416043b42e1bd08ca5ea215606b",
       "style": "IPY_MODEL_a87866cd967049bd986c35102ae79a0b",
       "value": "Validation DataLoader 0: 100%"
      }
     },
     "bc91583fc97149c69c39ca9cffc13824": {
      "model_module": "@jupyter-widgets/base",
      "model_module_version": "2.0.0",
      "model_name": "LayoutModel",
      "state": {
       "flex": "2"
      }
     },
     "bc96faac87644779aba8797f6c0d275c": {
      "model_module": "@jupyter-widgets/base",
      "model_module_version": "2.0.0",
      "model_name": "LayoutModel",
      "state": {}
     },
     "bcd91932706a429ba7f46e23602ce432": {
      "model_module": "@jupyter-widgets/base",
      "model_module_version": "2.0.0",
      "model_name": "LayoutModel",
      "state": {}
     },
     "bcf76f5e76014fe6ba716c2fc4a55624": {
      "model_module": "@jupyter-widgets/base",
      "model_module_version": "2.0.0",
      "model_name": "LayoutModel",
      "state": {}
     },
     "bd15fd903d174b90bb5964e57cfeaf39": {
      "model_module": "@jupyter-widgets/controls",
      "model_module_version": "2.0.0",
      "model_name": "ProgressStyleModel",
      "state": {
       "description_width": ""
      }
     },
     "bd23e27c723f4d98b75301405d8976f0": {
      "model_module": "@jupyter-widgets/base",
      "model_module_version": "2.0.0",
      "model_name": "LayoutModel",
      "state": {
       "flex": "2"
      }
     },
     "bd4874c9803047a6affd7f76dcd7f523": {
      "model_module": "@jupyter-widgets/controls",
      "model_module_version": "2.0.0",
      "model_name": "FloatProgressModel",
      "state": {
       "layout": "IPY_MODEL_18b89448e00040ea82c36cba031e134b",
       "max": 58,
       "style": "IPY_MODEL_0617ce8471f241c2b4b75c316ef6a225",
       "value": 58
      }
     },
     "bd6a263a7e2148048ee16645424b4a2b": {
      "model_module": "@jupyter-widgets/controls",
      "model_module_version": "2.0.0",
      "model_name": "ProgressStyleModel",
      "state": {
       "description_width": ""
      }
     },
     "bd862314e6be4a37a10d24c51dc7e45e": {
      "model_module": "@jupyter-widgets/base",
      "model_module_version": "2.0.0",
      "model_name": "LayoutModel",
      "state": {
       "flex": "2"
      }
     },
     "bda661ccf9724d5b829caa9fcfc2868a": {
      "model_module": "@jupyter-widgets/controls",
      "model_module_version": "2.0.0",
      "model_name": "ProgressStyleModel",
      "state": {
       "description_width": ""
      }
     },
     "bda76186968f4294a3d522a1618ec2c9": {
      "model_module": "@jupyter-widgets/base",
      "model_module_version": "2.0.0",
      "model_name": "LayoutModel",
      "state": {
       "flex": "2"
      }
     },
     "bdb3865d0e4d48aab8420bdbf0c6a0d1": {
      "model_module": "@jupyter-widgets/base",
      "model_module_version": "2.0.0",
      "model_name": "LayoutModel",
      "state": {
       "display": "inline-flex",
       "flex_flow": "row wrap",
       "visibility": "hidden",
       "width": "100%"
      }
     },
     "bdd19e6e72ba4478b6b523f7e496dd97": {
      "model_module": "@jupyter-widgets/base",
      "model_module_version": "2.0.0",
      "model_name": "LayoutModel",
      "state": {}
     },
     "be8980af440641478cb5351dbbc21bf4": {
      "model_module": "@jupyter-widgets/controls",
      "model_module_version": "2.0.0",
      "model_name": "HTMLStyleModel",
      "state": {
       "description_width": "",
       "font_size": null,
       "text_color": null
      }
     },
     "bea9f2d239934a3fb18c2cc30d1abbe6": {
      "model_module": "@jupyter-widgets/base",
      "model_module_version": "2.0.0",
      "model_name": "LayoutModel",
      "state": {}
     },
     "bebadfbd50824afb8963c388e9fcfcda": {
      "model_module": "@jupyter-widgets/base",
      "model_module_version": "2.0.0",
      "model_name": "LayoutModel",
      "state": {}
     },
     "bf3c4d6bcd824a2b9d58a81f976090fd": {
      "model_module": "@jupyter-widgets/base",
      "model_module_version": "2.0.0",
      "model_name": "LayoutModel",
      "state": {
       "display": "inline-flex",
       "flex_flow": "row wrap",
       "visibility": "hidden",
       "width": "100%"
      }
     },
     "bf8b5d62e15b430fb13208220b602e27": {
      "model_module": "@jupyter-widgets/controls",
      "model_module_version": "2.0.0",
      "model_name": "HTMLModel",
      "state": {
       "layout": "IPY_MODEL_0b41a450c266482188dbf6e2a4614322",
       "style": "IPY_MODEL_b3905c44a7d246c898e75bf0f593a743",
       "value": "Validation DataLoader 0: 100%"
      }
     },
     "bf8d9409d39e4c85b6a72b70d8246509": {
      "model_module": "@jupyter-widgets/base",
      "model_module_version": "2.0.0",
      "model_name": "LayoutModel",
      "state": {
       "display": "inline-flex",
       "flex_flow": "row wrap",
       "visibility": "hidden",
       "width": "100%"
      }
     },
     "bfaa27f81cd3481abbcaffb981bdea1a": {
      "model_module": "@jupyter-widgets/controls",
      "model_module_version": "2.0.0",
      "model_name": "FloatProgressModel",
      "state": {
       "layout": "IPY_MODEL_13163739504f44b2b1b6165057d3e3f9",
       "max": 58,
       "style": "IPY_MODEL_a9303db6a3424d06bb6606b474c36bea",
       "value": 58
      }
     },
     "bfbd482816e84f8cafc7bdc641fcfdcc": {
      "model_module": "@jupyter-widgets/controls",
      "model_module_version": "2.0.0",
      "model_name": "HTMLStyleModel",
      "state": {
       "description_width": "",
       "font_size": null,
       "text_color": null
      }
     },
     "bfe0c77b2a714a969d5840547da8f752": {
      "model_module": "@jupyter-widgets/controls",
      "model_module_version": "2.0.0",
      "model_name": "ProgressStyleModel",
      "state": {
       "description_width": ""
      }
     },
     "bfffa4fd7a6449c881d73606c9254a25": {
      "model_module": "@jupyter-widgets/controls",
      "model_module_version": "2.0.0",
      "model_name": "HTMLStyleModel",
      "state": {
       "description_width": "",
       "font_size": null,
       "text_color": null
      }
     },
     "c03f20c648784ea9968eea3e6798e893": {
      "model_module": "@jupyter-widgets/base",
      "model_module_version": "2.0.0",
      "model_name": "LayoutModel",
      "state": {
       "flex": "2"
      }
     },
     "c05d53eddfab48098a7433d0bd056498": {
      "model_module": "@jupyter-widgets/controls",
      "model_module_version": "2.0.0",
      "model_name": "ProgressStyleModel",
      "state": {
       "description_width": ""
      }
     },
     "c09e682f69a64758924b51a1d4992f0f": {
      "model_module": "@jupyter-widgets/base",
      "model_module_version": "2.0.0",
      "model_name": "LayoutModel",
      "state": {
       "flex": "2"
      }
     },
     "c0ffdac94d6c4328a19c746cb9cf65ab": {
      "model_module": "@jupyter-widgets/controls",
      "model_module_version": "2.0.0",
      "model_name": "HTMLStyleModel",
      "state": {
       "description_width": "",
       "font_size": null,
       "text_color": null
      }
     },
     "c146c782c7434659bb273c6a21d00d33": {
      "model_module": "@jupyter-widgets/base",
      "model_module_version": "2.0.0",
      "model_name": "LayoutModel",
      "state": {}
     },
     "c166b1d7c2c2441f99602ddc53ea1761": {
      "model_module": "@jupyter-widgets/controls",
      "model_module_version": "2.0.0",
      "model_name": "ProgressStyleModel",
      "state": {
       "description_width": ""
      }
     },
     "c18afae52b2a4b88900707b20a999552": {
      "model_module": "@jupyter-widgets/controls",
      "model_module_version": "2.0.0",
      "model_name": "FloatProgressModel",
      "state": {
       "layout": "IPY_MODEL_b2faca791b4a459b953d323cc7e9f6e4",
       "max": 58,
       "style": "IPY_MODEL_d3bccc11d24c48268889657fe402b72a",
       "value": 58
      }
     },
     "c1d04780e29d42c0b3b2964b14fa4dfb": {
      "model_module": "@jupyter-widgets/base",
      "model_module_version": "2.0.0",
      "model_name": "LayoutModel",
      "state": {
       "flex": "2"
      }
     },
     "c1da5684831749469f035f911a5fab0b": {
      "model_module": "@jupyter-widgets/base",
      "model_module_version": "2.0.0",
      "model_name": "LayoutModel",
      "state": {}
     },
     "c1e280d8156c4f7db588f72584d178fd": {
      "model_module": "@jupyter-widgets/controls",
      "model_module_version": "2.0.0",
      "model_name": "HTMLModel",
      "state": {
       "layout": "IPY_MODEL_d6017a9ea09a49e19c91f6b2f1593d9b",
       "style": "IPY_MODEL_6a108fa8092a45ffa159db45eb9c3e7a",
       "value": " 58/58 [00:02&lt;00:00, 28.11it/s]"
      }
     },
     "c1e4b6bfc62e40e29e14e633251f41d8": {
      "model_module": "@jupyter-widgets/base",
      "model_module_version": "2.0.0",
      "model_name": "LayoutModel",
      "state": {
       "flex": "2"
      }
     },
     "c21729c2ebe245d49af1832a802f1c6f": {
      "model_module": "@jupyter-widgets/base",
      "model_module_version": "2.0.0",
      "model_name": "LayoutModel",
      "state": {
       "flex": "2"
      }
     },
     "c2183b5f847b4a7ab8cf1aedb5bd4079": {
      "model_module": "@jupyter-widgets/base",
      "model_module_version": "2.0.0",
      "model_name": "LayoutModel",
      "state": {}
     },
     "c219c1d7a10f4d82b1a36953e8ff9e96": {
      "model_module": "@jupyter-widgets/controls",
      "model_module_version": "2.0.0",
      "model_name": "FloatProgressModel",
      "state": {
       "layout": "IPY_MODEL_c03f20c648784ea9968eea3e6798e893",
       "max": 58,
       "style": "IPY_MODEL_217b48db1810466ab71c39db478c67ae",
       "value": 58
      }
     },
     "c23b87e4a17f440395ed4ffe91dde3f5": {
      "model_module": "@jupyter-widgets/controls",
      "model_module_version": "2.0.0",
      "model_name": "ProgressStyleModel",
      "state": {
       "description_width": ""
      }
     },
     "c2861f2fe89a4782861a96f753496dcf": {
      "model_module": "@jupyter-widgets/controls",
      "model_module_version": "2.0.0",
      "model_name": "ProgressStyleModel",
      "state": {
       "description_width": ""
      }
     },
     "c2d45d5c695042778de4103fcdb0ddb3": {
      "model_module": "@jupyter-widgets/controls",
      "model_module_version": "2.0.0",
      "model_name": "ProgressStyleModel",
      "state": {
       "description_width": ""
      }
     },
     "c2dcdc1afa0140d485898c31747af7db": {
      "model_module": "@jupyter-widgets/controls",
      "model_module_version": "2.0.0",
      "model_name": "FloatProgressModel",
      "state": {
       "layout": "IPY_MODEL_e76bd5727e99472cb79313c06266f0d7",
       "max": 58,
       "style": "IPY_MODEL_63c6beb620bb444d9d963a8496eee605",
       "value": 58
      }
     },
     "c32e33c2257b4bc9b1b2ab9cdb904368": {
      "model_module": "@jupyter-widgets/controls",
      "model_module_version": "2.0.0",
      "model_name": "HTMLStyleModel",
      "state": {
       "description_width": "",
       "font_size": null,
       "text_color": null
      }
     },
     "c3422512871f4629b857cf43779b3fca": {
      "model_module": "@jupyter-widgets/controls",
      "model_module_version": "2.0.0",
      "model_name": "FloatProgressModel",
      "state": {
       "layout": "IPY_MODEL_7f2a2cb8d518403dbf315624dc9161c2",
       "max": 58,
       "style": "IPY_MODEL_13cefbbe3a5c40c59066fdcfe0eae624",
       "value": 58
      }
     },
     "c345cf1722114cc5946c60cda76144f8": {
      "model_module": "@jupyter-widgets/controls",
      "model_module_version": "2.0.0",
      "model_name": "HTMLStyleModel",
      "state": {
       "description_width": "",
       "font_size": null,
       "text_color": null
      }
     },
     "c345f7b40e07419188de34f54c6d9214": {
      "model_module": "@jupyter-widgets/controls",
      "model_module_version": "2.0.0",
      "model_name": "HTMLModel",
      "state": {
       "layout": "IPY_MODEL_21aa20474e6746068142a8cf1ef57f36",
       "style": "IPY_MODEL_4e1b8cfe6f614d4f81f8173e120f0fe9",
       "value": "Validation DataLoader 0: 100%"
      }
     },
     "c360c5af1b274929bb96458f143662c8": {
      "model_module": "@jupyter-widgets/controls",
      "model_module_version": "2.0.0",
      "model_name": "HTMLStyleModel",
      "state": {
       "description_width": "",
       "font_size": null,
       "text_color": null
      }
     },
     "c3d0558c9d2b4484aabb79d7e21ea5cc": {
      "model_module": "@jupyter-widgets/base",
      "model_module_version": "2.0.0",
      "model_name": "LayoutModel",
      "state": {}
     },
     "c3e0785086a64f36a27d8f5cc11e0b88": {
      "model_module": "@jupyter-widgets/controls",
      "model_module_version": "2.0.0",
      "model_name": "HTMLModel",
      "state": {
       "layout": "IPY_MODEL_7b2216ea557840c3af1c985415215247",
       "style": "IPY_MODEL_19e96bd080d14cbeb7ff342a709466f6",
       "value": " 58/58 [00:02&lt;00:00, 26.97it/s]"
      }
     },
     "c4651482a6aa4600bacb1eac682d4ed1": {
      "model_module": "@jupyter-widgets/controls",
      "model_module_version": "2.0.0",
      "model_name": "HTMLStyleModel",
      "state": {
       "description_width": "",
       "font_size": null,
       "text_color": null
      }
     },
     "c4976731a10b47cf92c67d8195e4eac4": {
      "model_module": "@jupyter-widgets/controls",
      "model_module_version": "2.0.0",
      "model_name": "HTMLModel",
      "state": {
       "layout": "IPY_MODEL_737cb2d1447a44618c0a71d12ead70ad",
       "style": "IPY_MODEL_3896215b44674aaa9a01db92df7097d8",
       "value": " 58/58 [00:02&lt;00:00, 25.16it/s]"
      }
     },
     "c4b73823e1d342dea0c4b02e8e71ccaa": {
      "model_module": "@jupyter-widgets/controls",
      "model_module_version": "2.0.0",
      "model_name": "FloatProgressModel",
      "state": {
       "layout": "IPY_MODEL_ad1d968ae20b4f7e8089532641e29ebe",
       "max": 58,
       "style": "IPY_MODEL_9f862d4242244eb0b66efa7cb13e3944",
       "value": 58
      }
     },
     "c4d647416dbc4f0cbdd3e01e240d858a": {
      "model_module": "@jupyter-widgets/controls",
      "model_module_version": "2.0.0",
      "model_name": "FloatProgressModel",
      "state": {
       "layout": "IPY_MODEL_d45f1964cca04df99ce21e7e1726483b",
       "max": 58,
       "style": "IPY_MODEL_63c4bfc4c9ba486d8950189031e2d80f",
       "value": 58
      }
     },
     "c4e3ec6602c34acd81a2363be3c5a3d4": {
      "model_module": "@jupyter-widgets/base",
      "model_module_version": "2.0.0",
      "model_name": "LayoutModel",
      "state": {
       "display": "inline-flex",
       "flex_flow": "row wrap",
       "visibility": "hidden",
       "width": "100%"
      }
     },
     "c4e51e10382647ed95f4afc6a87b282e": {
      "model_module": "@jupyter-widgets/controls",
      "model_module_version": "2.0.0",
      "model_name": "HTMLModel",
      "state": {
       "layout": "IPY_MODEL_d541498dcde041598aa75def25007340",
       "style": "IPY_MODEL_63a2188474144f2fa4c675a8b9a16145",
       "value": " 58/58 [00:02&lt;00:00, 28.07it/s]"
      }
     },
     "c4f11e7caace4772ad583aed6bf1a0b4": {
      "model_module": "@jupyter-widgets/controls",
      "model_module_version": "2.0.0",
      "model_name": "ProgressStyleModel",
      "state": {
       "description_width": ""
      }
     },
     "c4f74d7935134fb19344bbffa8a79cc2": {
      "model_module": "@jupyter-widgets/controls",
      "model_module_version": "2.0.0",
      "model_name": "HTMLStyleModel",
      "state": {
       "description_width": "",
       "font_size": null,
       "text_color": null
      }
     },
     "c50843f9ff6545f3a68bab8fd74442f6": {
      "model_module": "@jupyter-widgets/base",
      "model_module_version": "2.0.0",
      "model_name": "LayoutModel",
      "state": {}
     },
     "c53f383b5bd94732b7f2d5468939cd16": {
      "model_module": "@jupyter-widgets/controls",
      "model_module_version": "2.0.0",
      "model_name": "FloatProgressModel",
      "state": {
       "layout": "IPY_MODEL_74ab54b5e450440782f71be4f656a51c",
       "max": 58,
       "style": "IPY_MODEL_01436d8d0699485eba3928867640bb60",
       "value": 58
      }
     },
     "c5a49bd87b77498094d458f96d4d29a7": {
      "model_module": "@jupyter-widgets/base",
      "model_module_version": "2.0.0",
      "model_name": "LayoutModel",
      "state": {}
     },
     "c604bf039a2c4c7993625635d9602247": {
      "model_module": "@jupyter-widgets/base",
      "model_module_version": "2.0.0",
      "model_name": "LayoutModel",
      "state": {}
     },
     "c607fae943734c82a0e5b7c4bf8b9eae": {
      "model_module": "@jupyter-widgets/controls",
      "model_module_version": "2.0.0",
      "model_name": "ProgressStyleModel",
      "state": {
       "description_width": ""
      }
     },
     "c60b0a2130734c51ab097ae465955845": {
      "model_module": "@jupyter-widgets/controls",
      "model_module_version": "2.0.0",
      "model_name": "ProgressStyleModel",
      "state": {
       "description_width": ""
      }
     },
     "c6247ffd638844a7a681250bd5d28f78": {
      "model_module": "@jupyter-widgets/base",
      "model_module_version": "2.0.0",
      "model_name": "LayoutModel",
      "state": {}
     },
     "c62d46aaeaa247c69f77693369fc9d5b": {
      "model_module": "@jupyter-widgets/base",
      "model_module_version": "2.0.0",
      "model_name": "LayoutModel",
      "state": {}
     },
     "c641d91104774b889da98121c13fc362": {
      "model_module": "@jupyter-widgets/base",
      "model_module_version": "2.0.0",
      "model_name": "LayoutModel",
      "state": {}
     },
     "c655d3234d12465582305307d05416e4": {
      "model_module": "@jupyter-widgets/base",
      "model_module_version": "2.0.0",
      "model_name": "LayoutModel",
      "state": {}
     },
     "c6e9fbcc45e540c9bc441860d65340ca": {
      "model_module": "@jupyter-widgets/controls",
      "model_module_version": "2.0.0",
      "model_name": "HTMLStyleModel",
      "state": {
       "description_width": "",
       "font_size": null,
       "text_color": null
      }
     },
     "c6ea342dd1414435a968d52e2cb854a1": {
      "model_module": "@jupyter-widgets/controls",
      "model_module_version": "2.0.0",
      "model_name": "HTMLModel",
      "state": {
       "layout": "IPY_MODEL_a036b88368784f2ca1b455d16e2414f6",
       "style": "IPY_MODEL_fde7581f3660472a9de89984854efe44",
       "value": "Validation DataLoader 0: 100%"
      }
     },
     "c6f7205923534feeb9f457d6794ffc3d": {
      "model_module": "@jupyter-widgets/controls",
      "model_module_version": "2.0.0",
      "model_name": "HTMLModel",
      "state": {
       "layout": "IPY_MODEL_411c7db703fd463fb9d8b5e413764e06",
       "style": "IPY_MODEL_1605c5af8849479b98baf8959d43d862",
       "value": " 58/58 [00:02&lt;00:00, 26.87it/s]"
      }
     },
     "c719e094d2a14855a0ee515efbed0b90": {
      "model_module": "@jupyter-widgets/controls",
      "model_module_version": "2.0.0",
      "model_name": "HTMLStyleModel",
      "state": {
       "description_width": "",
       "font_size": null,
       "text_color": null
      }
     },
     "c73c556ba0154cb98b2354be144503b6": {
      "model_module": "@jupyter-widgets/base",
      "model_module_version": "2.0.0",
      "model_name": "LayoutModel",
      "state": {
       "display": "inline-flex",
       "flex_flow": "row wrap",
       "visibility": "hidden",
       "width": "100%"
      }
     },
     "c7400847ddbb4d529c0795aeb9d6814b": {
      "model_module": "@jupyter-widgets/controls",
      "model_module_version": "2.0.0",
      "model_name": "FloatProgressModel",
      "state": {
       "layout": "IPY_MODEL_c968df0c4aef4cfebc3916d52c826ded",
       "max": 58,
       "style": "IPY_MODEL_d333934980a74fae886e18bfc10767ab",
       "value": 58
      }
     },
     "c789a8c72ac34332a8533c07ce537ce2": {
      "model_module": "@jupyter-widgets/base",
      "model_module_version": "2.0.0",
      "model_name": "LayoutModel",
      "state": {}
     },
     "c7aee985464244aeb1bdb40028f064fe": {
      "model_module": "@jupyter-widgets/controls",
      "model_module_version": "2.0.0",
      "model_name": "HTMLModel",
      "state": {
       "layout": "IPY_MODEL_caf3c700b6fc455ba5df046d0993334c",
       "style": "IPY_MODEL_c7dd709724c447168c3a9b0496ebf825",
       "value": " 58/58 [00:02&lt;00:00, 27.09it/s]"
      }
     },
     "c7b349b3599f4da681fc9d34279c0ac3": {
      "model_module": "@jupyter-widgets/base",
      "model_module_version": "2.0.0",
      "model_name": "LayoutModel",
      "state": {
       "flex": "2"
      }
     },
     "c7dd709724c447168c3a9b0496ebf825": {
      "model_module": "@jupyter-widgets/controls",
      "model_module_version": "2.0.0",
      "model_name": "HTMLStyleModel",
      "state": {
       "description_width": "",
       "font_size": null,
       "text_color": null
      }
     },
     "c81f5d6528fe4e83a0d92ffcce54902e": {
      "model_module": "@jupyter-widgets/base",
      "model_module_version": "2.0.0",
      "model_name": "LayoutModel",
      "state": {
       "flex": "2"
      }
     },
     "c824746f5d854068939da52e38290e8f": {
      "model_module": "@jupyter-widgets/base",
      "model_module_version": "2.0.0",
      "model_name": "LayoutModel",
      "state": {
       "display": "inline-flex",
       "flex_flow": "row wrap",
       "visibility": "hidden",
       "width": "100%"
      }
     },
     "c82b0dc8929140e5b574fbad6e9612ef": {
      "model_module": "@jupyter-widgets/controls",
      "model_module_version": "2.0.0",
      "model_name": "HTMLModel",
      "state": {
       "layout": "IPY_MODEL_c5a49bd87b77498094d458f96d4d29a7",
       "style": "IPY_MODEL_de38dfd51c31426093804edc400f6fe0",
       "value": " 58/58 [00:02&lt;00:00, 25.38it/s]"
      }
     },
     "c837c9e363db4660875f5dc8e2faf9a8": {
      "model_module": "@jupyter-widgets/controls",
      "model_module_version": "2.0.0",
      "model_name": "HTMLModel",
      "state": {
       "layout": "IPY_MODEL_dfdd92706ae14c16a19b2a817693ecb8",
       "style": "IPY_MODEL_cd2b2ceeca5f4c1e89ef10f17e8fe229",
       "value": "Validation DataLoader 0: 100%"
      }
     },
     "c848eb8b519a4bdc89f12bb0bc3790ca": {
      "model_module": "@jupyter-widgets/base",
      "model_module_version": "2.0.0",
      "model_name": "LayoutModel",
      "state": {}
     },
     "c8525183f6cf4fc0bab25306e6d92568": {
      "model_module": "@jupyter-widgets/base",
      "model_module_version": "2.0.0",
      "model_name": "LayoutModel",
      "state": {}
     },
     "c89c26f566ec4d48b9a4a0e3a643f09d": {
      "model_module": "@jupyter-widgets/controls",
      "model_module_version": "2.0.0",
      "model_name": "HTMLStyleModel",
      "state": {
       "description_width": "",
       "font_size": null,
       "text_color": null
      }
     },
     "c8b38097131f4d73aad763509d83afda": {
      "model_module": "@jupyter-widgets/controls",
      "model_module_version": "2.0.0",
      "model_name": "HTMLStyleModel",
      "state": {
       "description_width": "",
       "font_size": null,
       "text_color": null
      }
     },
     "c8c87ef8a4cc4b11b04a30c93be87c35": {
      "model_module": "@jupyter-widgets/base",
      "model_module_version": "2.0.0",
      "model_name": "LayoutModel",
      "state": {
       "flex": "2"
      }
     },
     "c8d114b2c1614ddea898e9d8513f6843": {
      "model_module": "@jupyter-widgets/base",
      "model_module_version": "2.0.0",
      "model_name": "LayoutModel",
      "state": {
       "display": "inline-flex",
       "flex_flow": "row wrap",
       "visibility": "hidden",
       "width": "100%"
      }
     },
     "c8ddff719012488fb7fbbd2a266da04b": {
      "model_module": "@jupyter-widgets/controls",
      "model_module_version": "2.0.0",
      "model_name": "HTMLModel",
      "state": {
       "layout": "IPY_MODEL_5732a06ef971466a94aa11b44f1e5e7f",
       "style": "IPY_MODEL_87efd6a386194ae1808840ac71390b61",
       "value": "Validation DataLoader 0: 100%"
      }
     },
     "c8e82a2900b340a495cf389977127bb0": {
      "model_module": "@jupyter-widgets/controls",
      "model_module_version": "2.0.0",
      "model_name": "ProgressStyleModel",
      "state": {
       "description_width": ""
      }
     },
     "c8f2e49a97274e6a977724696612440c": {
      "model_module": "@jupyter-widgets/controls",
      "model_module_version": "2.0.0",
      "model_name": "HTMLModel",
      "state": {
       "layout": "IPY_MODEL_28aed5bee1194743a2329aaf80409ef5",
       "style": "IPY_MODEL_be8980af440641478cb5351dbbc21bf4",
       "value": " 58/58 [00:02&lt;00:00, 27.19it/s]"
      }
     },
     "c9247fa5a4f14b09be69ac1c0d787ab9": {
      "model_module": "@jupyter-widgets/base",
      "model_module_version": "2.0.0",
      "model_name": "LayoutModel",
      "state": {
       "flex": "2"
      }
     },
     "c927fa91366a4a0291c2336b6469aae1": {
      "model_module": "@jupyter-widgets/controls",
      "model_module_version": "2.0.0",
      "model_name": "ProgressStyleModel",
      "state": {
       "description_width": ""
      }
     },
     "c95485e65b3c4016b6d95fb12e3a15af": {
      "model_module": "@jupyter-widgets/controls",
      "model_module_version": "2.0.0",
      "model_name": "HTMLModel",
      "state": {
       "layout": "IPY_MODEL_a3549bdd5dae4be3b65451e86dca235a",
       "style": "IPY_MODEL_71033ff274974ca48d1c84e6d201a05b",
       "value": " 58/58 [00:02&lt;00:00, 25.61it/s]"
      }
     },
     "c968df0c4aef4cfebc3916d52c826ded": {
      "model_module": "@jupyter-widgets/base",
      "model_module_version": "2.0.0",
      "model_name": "LayoutModel",
      "state": {
       "flex": "2"
      }
     },
     "c970cc29f2684f66bcdbba1dbaf5aa92": {
      "model_module": "@jupyter-widgets/controls",
      "model_module_version": "2.0.0",
      "model_name": "HTMLStyleModel",
      "state": {
       "description_width": "",
       "font_size": null,
       "text_color": null
      }
     },
     "c977e0aa8f404f2183f94674de170559": {
      "model_module": "@jupyter-widgets/controls",
      "model_module_version": "2.0.0",
      "model_name": "HTMLModel",
      "state": {
       "layout": "IPY_MODEL_79a6d6e85bde448b953d3453aafd418b",
       "style": "IPY_MODEL_c6e9fbcc45e540c9bc441860d65340ca",
       "value": "Validation DataLoader 0: 100%"
      }
     },
     "c97a9ba4cce84571b9ead17f2388f311": {
      "model_module": "@jupyter-widgets/controls",
      "model_module_version": "2.0.0",
      "model_name": "HTMLStyleModel",
      "state": {
       "description_width": "",
       "font_size": null,
       "text_color": null
      }
     },
     "c98030293bb44abb8c77e826506fbb15": {
      "model_module": "@jupyter-widgets/controls",
      "model_module_version": "2.0.0",
      "model_name": "HTMLModel",
      "state": {
       "layout": "IPY_MODEL_f9a1e5fe797d4795aa5b28cb7f2695ee",
       "style": "IPY_MODEL_6f5b8a9b398043fea2cd0a9e1820ad5b",
       "value": " 58/58 [00:02&lt;00:00, 28.22it/s]"
      }
     },
     "c985cec80af0448ba9f2e4c63d9bccff": {
      "model_module": "@jupyter-widgets/controls",
      "model_module_version": "2.0.0",
      "model_name": "HTMLModel",
      "state": {
       "layout": "IPY_MODEL_67fcd8cc26894663a6728a6aae5f55d0",
       "style": "IPY_MODEL_1928a7a0ca1b4b158bcf03c1456ee379",
       "value": "Validation DataLoader 0: 100%"
      }
     },
     "c99b91a78c5d433d8d664efd27c9eb02": {
      "model_module": "@jupyter-widgets/controls",
      "model_module_version": "2.0.0",
      "model_name": "FloatProgressModel",
      "state": {
       "layout": "IPY_MODEL_5ecbe9462b004eb29f83c284cd361458",
       "max": 58,
       "style": "IPY_MODEL_a7c4706148974da6b8285b88e67aee21",
       "value": 58
      }
     },
     "c9a8a3d45ceb4d6982e3398908c56844": {
      "model_module": "@jupyter-widgets/base",
      "model_module_version": "2.0.0",
      "model_name": "LayoutModel",
      "state": {}
     },
     "c9d3883470554f958deb0a9dd30cfec0": {
      "model_module": "@jupyter-widgets/controls",
      "model_module_version": "2.0.0",
      "model_name": "FloatProgressModel",
      "state": {
       "layout": "IPY_MODEL_aa534173badb4532a3e91ed93e886138",
       "max": 58,
       "style": "IPY_MODEL_382f6d64c76b48d3865ac200d8a886db",
       "value": 58
      }
     },
     "c9dd4c949bea42afbf010cc596e25460": {
      "model_module": "@jupyter-widgets/controls",
      "model_module_version": "2.0.0",
      "model_name": "HTMLStyleModel",
      "state": {
       "description_width": "",
       "font_size": null,
       "text_color": null
      }
     },
     "ca3f4c80b30a48459ad907469fd1e36f": {
      "model_module": "@jupyter-widgets/base",
      "model_module_version": "2.0.0",
      "model_name": "LayoutModel",
      "state": {}
     },
     "ca43b4f846cf4b55a73d30ea92e70d66": {
      "model_module": "@jupyter-widgets/controls",
      "model_module_version": "2.0.0",
      "model_name": "HTMLStyleModel",
      "state": {
       "description_width": "",
       "font_size": null,
       "text_color": null
      }
     },
     "ca77c8c7f5a24f70b9a395942c90c004": {
      "model_module": "@jupyter-widgets/controls",
      "model_module_version": "2.0.0",
      "model_name": "HTMLStyleModel",
      "state": {
       "description_width": "",
       "font_size": null,
       "text_color": null
      }
     },
     "ca9c3499425f4ee6b063966192da9db9": {
      "model_module": "@jupyter-widgets/controls",
      "model_module_version": "2.0.0",
      "model_name": "HTMLModel",
      "state": {
       "layout": "IPY_MODEL_3e49825682b74d6eae26bfd085e80b68",
       "style": "IPY_MODEL_16d101adea4b46f3971fa67e1d226ed0",
       "value": " 58/58 [00:02&lt;00:00, 25.73it/s]"
      }
     },
     "caef3568ba554781bd717a62177a1589": {
      "model_module": "@jupyter-widgets/controls",
      "model_module_version": "2.0.0",
      "model_name": "ProgressStyleModel",
      "state": {
       "description_width": ""
      }
     },
     "caf3c700b6fc455ba5df046d0993334c": {
      "model_module": "@jupyter-widgets/base",
      "model_module_version": "2.0.0",
      "model_name": "LayoutModel",
      "state": {}
     },
     "caf5d3b7cc494e6999e8985474fc0a50": {
      "model_module": "@jupyter-widgets/base",
      "model_module_version": "2.0.0",
      "model_name": "LayoutModel",
      "state": {
       "display": "inline-flex",
       "flex_flow": "row wrap",
       "visibility": "hidden",
       "width": "100%"
      }
     },
     "cb2d55222ebc4eadbe4816f35965f21e": {
      "model_module": "@jupyter-widgets/controls",
      "model_module_version": "2.0.0",
      "model_name": "HTMLModel",
      "state": {
       "layout": "IPY_MODEL_fb6b7e67ef8840e8be121c972cfe7f3a",
       "style": "IPY_MODEL_750dd97f43554cb2bcc539391de596c7",
       "value": " 58/58 [00:02&lt;00:00, 25.49it/s]"
      }
     },
     "cb54cd8273ea46a7b463f3835774dfc5": {
      "model_module": "@jupyter-widgets/controls",
      "model_module_version": "2.0.0",
      "model_name": "ProgressStyleModel",
      "state": {
       "description_width": ""
      }
     },
     "cb87bced04934e2d9b02b0ed9592f181": {
      "model_module": "@jupyter-widgets/controls",
      "model_module_version": "2.0.0",
      "model_name": "FloatProgressModel",
      "state": {
       "layout": "IPY_MODEL_64796c9bd0874b85aa940fe6e1af4c4f",
       "max": 58,
       "style": "IPY_MODEL_0b7bf567d9e04d68990bed185512581a",
       "value": 58
      }
     },
     "cba974ba25a142a6aff692428d7910d3": {
      "model_module": "@jupyter-widgets/controls",
      "model_module_version": "2.0.0",
      "model_name": "HTMLModel",
      "state": {
       "layout": "IPY_MODEL_18be2367dd264190a01611ad16053c92",
       "style": "IPY_MODEL_1c064f408f5d4ff48bafefacb0a0f04e",
       "value": " 58/58 [00:02&lt;00:00, 27.65it/s]"
      }
     },
     "cbf58fa3ff4f42eab21d7036a5f13a83": {
      "model_module": "@jupyter-widgets/controls",
      "model_module_version": "2.0.0",
      "model_name": "HTMLStyleModel",
      "state": {
       "description_width": "",
       "font_size": null,
       "text_color": null
      }
     },
     "cbf5a3038e8f4c9bac7d01b522b2da4b": {
      "model_module": "@jupyter-widgets/controls",
      "model_module_version": "2.0.0",
      "model_name": "ProgressStyleModel",
      "state": {
       "description_width": ""
      }
     },
     "cc33fc3cc10645fc955bf1a704070ac8": {
      "model_module": "@jupyter-widgets/controls",
      "model_module_version": "2.0.0",
      "model_name": "ProgressStyleModel",
      "state": {
       "description_width": ""
      }
     },
     "cc3a8e570c7b4a60b4aad68489b57bc1": {
      "model_module": "@jupyter-widgets/base",
      "model_module_version": "2.0.0",
      "model_name": "LayoutModel",
      "state": {
       "flex": "2"
      }
     },
     "cc4c9911d173435fa3dbd914bdb5f48f": {
      "model_module": "@jupyter-widgets/controls",
      "model_module_version": "2.0.0",
      "model_name": "HTMLModel",
      "state": {
       "layout": "IPY_MODEL_3d9ad6b4c3444d1fa250e5847c79b78a",
       "style": "IPY_MODEL_072fce9226d849df80efbf1e68966dcc",
       "value": " 58/58 [00:02&lt;00:00, 28.33it/s]"
      }
     },
     "cc540c952a88465f8cf66cfcfcbafb79": {
      "model_module": "@jupyter-widgets/base",
      "model_module_version": "2.0.0",
      "model_name": "LayoutModel",
      "state": {}
     },
     "cc977b56f14e4d879fec4c53818ed004": {
      "model_module": "@jupyter-widgets/controls",
      "model_module_version": "2.0.0",
      "model_name": "HTMLModel",
      "state": {
       "layout": "IPY_MODEL_34d7a405797f4289b97986ed9feedca9",
       "style": "IPY_MODEL_237a2b0e4e024fbc87924c9e77865290",
       "value": "Validation DataLoader 0: 100%"
      }
     },
     "ccb8a6fcd83f43fe8bf9aefbc3d2d4ac": {
      "model_module": "@jupyter-widgets/base",
      "model_module_version": "2.0.0",
      "model_name": "LayoutModel",
      "state": {
       "flex": "2"
      }
     },
     "ccdc79f6751644be9a601cb6819eb96e": {
      "model_module": "@jupyter-widgets/controls",
      "model_module_version": "2.0.0",
      "model_name": "HTMLModel",
      "state": {
       "layout": "IPY_MODEL_542d55a37a704ac5a136de4bdeedf876",
       "style": "IPY_MODEL_b4acd9cc4a56466db2e36472a4fa9fe9",
       "value": " 58/58 [00:02&lt;00:00, 26.18it/s]"
      }
     },
     "cceeb850dfa24893b6709361c8167720": {
      "model_module": "@jupyter-widgets/controls",
      "model_module_version": "2.0.0",
      "model_name": "HTMLModel",
      "state": {
       "layout": "IPY_MODEL_69f4d94a90fd4d80b585cb7a6611eb55",
       "style": "IPY_MODEL_5a485d11cbf14603beeb2172aaf1f966",
       "value": " 58/58 [00:02&lt;00:00, 27.60it/s]"
      }
     },
     "ccf4665a26bb4085ac79d951e62130a0": {
      "model_module": "@jupyter-widgets/base",
      "model_module_version": "2.0.0",
      "model_name": "LayoutModel",
      "state": {}
     },
     "ccfc95a63c4f4bf69776367463019ecc": {
      "model_module": "@jupyter-widgets/controls",
      "model_module_version": "2.0.0",
      "model_name": "HTMLModel",
      "state": {
       "layout": "IPY_MODEL_02f53edcec2e4c23badd773122b63bf9",
       "style": "IPY_MODEL_c719e094d2a14855a0ee515efbed0b90",
       "value": "Validation DataLoader 0: 100%"
      }
     },
     "ccff988c0f0c4b3b968fac239268d69d": {
      "model_module": "@jupyter-widgets/controls",
      "model_module_version": "2.0.0",
      "model_name": "HTMLModel",
      "state": {
       "layout": "IPY_MODEL_72a12affff6a4c57be2453a53bebb3e0",
       "style": "IPY_MODEL_a425eefbba3b4b5b970f005e8a53b23e",
       "value": "Validation DataLoader 0: 100%"
      }
     },
     "cd0198a8ba8e418d8fd887ecf682df0d": {
      "model_module": "@jupyter-widgets/controls",
      "model_module_version": "2.0.0",
      "model_name": "HTMLStyleModel",
      "state": {
       "description_width": "",
       "font_size": null,
       "text_color": null
      }
     },
     "cd2b2ceeca5f4c1e89ef10f17e8fe229": {
      "model_module": "@jupyter-widgets/controls",
      "model_module_version": "2.0.0",
      "model_name": "HTMLStyleModel",
      "state": {
       "description_width": "",
       "font_size": null,
       "text_color": null
      }
     },
     "cd2e787092d54f0da1ffb4c341f174d0": {
      "model_module": "@jupyter-widgets/controls",
      "model_module_version": "2.0.0",
      "model_name": "ProgressStyleModel",
      "state": {
       "description_width": ""
      }
     },
     "cd5ce010bb444bca86063a2c0bb3cc18": {
      "model_module": "@jupyter-widgets/controls",
      "model_module_version": "2.0.0",
      "model_name": "HTMLModel",
      "state": {
       "layout": "IPY_MODEL_8bc9a4ee78ba4946b6e3997017088694",
       "style": "IPY_MODEL_337d4a6e965f4362b350aace835f5364",
       "value": " 58/58 [00:02&lt;00:00, 26.68it/s]"
      }
     },
     "cd81e5357bd34ae885508c960c4595c7": {
      "model_module": "@jupyter-widgets/controls",
      "model_module_version": "2.0.0",
      "model_name": "HTMLModel",
      "state": {
       "layout": "IPY_MODEL_0dacc15645cf42ce91d5f90b9ed24531",
       "style": "IPY_MODEL_1ad284bc510941d7822da08901647631",
       "value": " 58/58 [00:02&lt;00:00, 26.80it/s]"
      }
     },
     "cd95da02648d42e096f29856f3087a3f": {
      "model_module": "@jupyter-widgets/controls",
      "model_module_version": "2.0.0",
      "model_name": "ProgressStyleModel",
      "state": {
       "description_width": ""
      }
     },
     "cda900dabb7f40bea169907c7c868058": {
      "model_module": "@jupyter-widgets/base",
      "model_module_version": "2.0.0",
      "model_name": "LayoutModel",
      "state": {
       "display": "inline-flex",
       "flex_flow": "row wrap",
       "visibility": "hidden",
       "width": "100%"
      }
     },
     "cdca7e9342f54abf9103711f0f76f68b": {
      "model_module": "@jupyter-widgets/base",
      "model_module_version": "2.0.0",
      "model_name": "LayoutModel",
      "state": {
       "flex": "2"
      }
     },
     "cdcba89d87924990849914dd091746ea": {
      "model_module": "@jupyter-widgets/controls",
      "model_module_version": "2.0.0",
      "model_name": "HTMLStyleModel",
      "state": {
       "description_width": "",
       "font_size": null,
       "text_color": null
      }
     },
     "ce1c90d3d88942ad8ae96f95f33cb197": {
      "model_module": "@jupyter-widgets/controls",
      "model_module_version": "2.0.0",
      "model_name": "FloatProgressModel",
      "state": {
       "layout": "IPY_MODEL_773205efb208428a926707661f645e95",
       "max": 58,
       "style": "IPY_MODEL_21168f73694c465881433a92cb896b12",
       "value": 58
      }
     },
     "ce31148cb60141a0aa472b17478ab3e3": {
      "model_module": "@jupyter-widgets/base",
      "model_module_version": "2.0.0",
      "model_name": "LayoutModel",
      "state": {
       "display": "inline-flex",
       "flex_flow": "row wrap",
       "visibility": "hidden",
       "width": "100%"
      }
     },
     "ce3fc466f3f945339d075caa62c3c506": {
      "model_module": "@jupyter-widgets/controls",
      "model_module_version": "2.0.0",
      "model_name": "HTMLStyleModel",
      "state": {
       "description_width": "",
       "font_size": null,
       "text_color": null
      }
     },
     "ce43de436aaa44bab541ae5f415d5a9d": {
      "model_module": "@jupyter-widgets/base",
      "model_module_version": "2.0.0",
      "model_name": "LayoutModel",
      "state": {}
     },
     "ce601fbff6a247e892dbfdbbae399cdc": {
      "model_module": "@jupyter-widgets/controls",
      "model_module_version": "2.0.0",
      "model_name": "FloatProgressModel",
      "state": {
       "layout": "IPY_MODEL_869216d84cd045eaaeaf9cc9338dfaca",
       "max": 58,
       "style": "IPY_MODEL_bc286c5ea15b48e08ee0f0448b825927",
       "value": 58
      }
     },
     "ce672d84c0084801821c85bf5854243c": {
      "model_module": "@jupyter-widgets/controls",
      "model_module_version": "2.0.0",
      "model_name": "HTMLStyleModel",
      "state": {
       "description_width": "",
       "font_size": null,
       "text_color": null
      }
     },
     "ce71590a303a4cc5af926d24e1ec1830": {
      "model_module": "@jupyter-widgets/controls",
      "model_module_version": "2.0.0",
      "model_name": "HTMLStyleModel",
      "state": {
       "description_width": "",
       "font_size": null,
       "text_color": null
      }
     },
     "ce737cc1f444484fb029f114249789fd": {
      "model_module": "@jupyter-widgets/controls",
      "model_module_version": "2.0.0",
      "model_name": "HTMLStyleModel",
      "state": {
       "description_width": "",
       "font_size": null,
       "text_color": null
      }
     },
     "ce88a708ac604e7d95cd3b77417d9595": {
      "model_module": "@jupyter-widgets/controls",
      "model_module_version": "2.0.0",
      "model_name": "HTMLModel",
      "state": {
       "layout": "IPY_MODEL_fe47b82fc2fb42c8ad69f579c8d4bfa4",
       "style": "IPY_MODEL_63fea259a08a4f52b19b154b5e496091",
       "value": "Validation DataLoader 0: 100%"
      }
     },
     "ceb0bf695ad0494d8c33f7e456f00622": {
      "model_module": "@jupyter-widgets/controls",
      "model_module_version": "2.0.0",
      "model_name": "FloatProgressModel",
      "state": {
       "layout": "IPY_MODEL_b142f204b4854702aa0d0d8a27fe9611",
       "max": 58,
       "style": "IPY_MODEL_fe07ae18c54146c3bf24533e7e91bdd7",
       "value": 58
      }
     },
     "ced7ae8e8a2146ab8b7622c0408fae94": {
      "model_module": "@jupyter-widgets/controls",
      "model_module_version": "2.0.0",
      "model_name": "HTMLStyleModel",
      "state": {
       "description_width": "",
       "font_size": null,
       "text_color": null
      }
     },
     "cef3e3eba9ea4560babc15c5ca0ab06d": {
      "model_module": "@jupyter-widgets/base",
      "model_module_version": "2.0.0",
      "model_name": "LayoutModel",
      "state": {
       "flex": "2"
      }
     },
     "cf060c79faac40739e7a9746653a1672": {
      "model_module": "@jupyter-widgets/controls",
      "model_module_version": "2.0.0",
      "model_name": "HTMLModel",
      "state": {
       "layout": "IPY_MODEL_fd120ec1e50543d0a1ae01c43e01e3a3",
       "style": "IPY_MODEL_eba13fa88e6747ec85bb102facfb273c",
       "value": " 58/58 [00:02&lt;00:00, 28.25it/s]"
      }
     },
     "cf065547bca54c299e0f8c5acfbd1b60": {
      "model_module": "@jupyter-widgets/controls",
      "model_module_version": "2.0.0",
      "model_name": "HTMLModel",
      "state": {
       "layout": "IPY_MODEL_1b17a9279894403481dfccb6839cc958",
       "style": "IPY_MODEL_a0370b85946b4737ac3c61d407408aa0",
       "value": " 58/58 [00:02&lt;00:00, 26.59it/s]"
      }
     },
     "cf25422bd089435ea337a7de2b54283b": {
      "model_module": "@jupyter-widgets/controls",
      "model_module_version": "2.0.0",
      "model_name": "HTMLStyleModel",
      "state": {
       "description_width": "",
       "font_size": null,
       "text_color": null
      }
     },
     "cf289c512e674152b4caa2a0c7781eba": {
      "model_module": "@jupyter-widgets/controls",
      "model_module_version": "2.0.0",
      "model_name": "FloatProgressModel",
      "state": {
       "layout": "IPY_MODEL_01dc2a7f3ec3443285bac8cd0829e09f",
       "max": 58,
       "style": "IPY_MODEL_3872a340530d416db5742623d7c0cfa3",
       "value": 58
      }
     },
     "cf630b04e817473190e3b186c96c2b9e": {
      "model_module": "@jupyter-widgets/controls",
      "model_module_version": "2.0.0",
      "model_name": "ProgressStyleModel",
      "state": {
       "description_width": ""
      }
     },
     "cfc1b4f9ca354320b1b7d6c3f470eef1": {
      "model_module": "@jupyter-widgets/base",
      "model_module_version": "2.0.0",
      "model_name": "LayoutModel",
      "state": {}
     },
     "cfc5816a03a0400b958e074a9cebc1bc": {
      "model_module": "@jupyter-widgets/base",
      "model_module_version": "2.0.0",
      "model_name": "LayoutModel",
      "state": {
       "flex": "2"
      }
     },
     "d001a128e4eb4fb9b7a00bf80a15a105": {
      "model_module": "@jupyter-widgets/base",
      "model_module_version": "2.0.0",
      "model_name": "LayoutModel",
      "state": {
       "flex": "2"
      }
     },
     "d0328d4a62364f63b212b8f9b7c90668": {
      "model_module": "@jupyter-widgets/controls",
      "model_module_version": "2.0.0",
      "model_name": "HTMLModel",
      "state": {
       "layout": "IPY_MODEL_c8525183f6cf4fc0bab25306e6d92568",
       "style": "IPY_MODEL_f48b99b46e3944feb1132e01bb16a2df",
       "value": "Validation DataLoader 0: 100%"
      }
     },
     "d0377b52e7c24587a1b2674acb5684bf": {
      "model_module": "@jupyter-widgets/controls",
      "model_module_version": "2.0.0",
      "model_name": "ProgressStyleModel",
      "state": {
       "description_width": ""
      }
     },
     "d06ce3a2d5a04dbdb7cb545b9cb49fab": {
      "model_module": "@jupyter-widgets/controls",
      "model_module_version": "2.0.0",
      "model_name": "HTMLStyleModel",
      "state": {
       "description_width": "",
       "font_size": null,
       "text_color": null
      }
     },
     "d08ca34225f540b194f61ba1798d1d71": {
      "model_module": "@jupyter-widgets/controls",
      "model_module_version": "2.0.0",
      "model_name": "HTMLModel",
      "state": {
       "layout": "IPY_MODEL_62c7f07afcbc4a78a6651d2e4ce78683",
       "style": "IPY_MODEL_a2ee848be44e44a492468317d6874672",
       "value": " 58/58 [00:02&lt;00:00, 24.26it/s]"
      }
     },
     "d092cfae96d347f1b8be7e95a81ac0af": {
      "model_module": "@jupyter-widgets/controls",
      "model_module_version": "2.0.0",
      "model_name": "ProgressStyleModel",
      "state": {
       "description_width": ""
      }
     },
     "d0ddce111711470abac81818e75ba825": {
      "model_module": "@jupyter-widgets/controls",
      "model_module_version": "2.0.0",
      "model_name": "HTMLStyleModel",
      "state": {
       "description_width": "",
       "font_size": null,
       "text_color": null
      }
     },
     "d14098b16e08400fa168a7703c937120": {
      "model_module": "@jupyter-widgets/base",
      "model_module_version": "2.0.0",
      "model_name": "LayoutModel",
      "state": {
       "flex": "2"
      }
     },
     "d150c0cab6ae49f394731e092b9f1b98": {
      "model_module": "@jupyter-widgets/base",
      "model_module_version": "2.0.0",
      "model_name": "LayoutModel",
      "state": {
       "flex": "2"
      }
     },
     "d162246d4e6f463982e5eb964698f03a": {
      "model_module": "@jupyter-widgets/controls",
      "model_module_version": "2.0.0",
      "model_name": "HTMLStyleModel",
      "state": {
       "description_width": "",
       "font_size": null,
       "text_color": null
      }
     },
     "d180dea4aef44f70b3f905dada80771c": {
      "model_module": "@jupyter-widgets/controls",
      "model_module_version": "2.0.0",
      "model_name": "FloatProgressModel",
      "state": {
       "layout": "IPY_MODEL_7025c109f7ce40228379bbc99c2b7dd0",
       "max": 58,
       "style": "IPY_MODEL_33575b70ff77427db01b437eac8c7c15",
       "value": 58
      }
     },
     "d18253282ad94d208f63b764e101dc1c": {
      "model_module": "@jupyter-widgets/base",
      "model_module_version": "2.0.0",
      "model_name": "LayoutModel",
      "state": {}
     },
     "d194bf08750448aa8d4b5a5ae3032332": {
      "model_module": "@jupyter-widgets/base",
      "model_module_version": "2.0.0",
      "model_name": "LayoutModel",
      "state": {}
     },
     "d1ae82e248e544aa92d2b1932010fe0c": {
      "model_module": "@jupyter-widgets/base",
      "model_module_version": "2.0.0",
      "model_name": "LayoutModel",
      "state": {
       "display": "inline-flex",
       "flex_flow": "row wrap",
       "visibility": "hidden",
       "width": "100%"
      }
     },
     "d1ff5d9b137a47f4b2df5cbd46b8b79f": {
      "model_module": "@jupyter-widgets/controls",
      "model_module_version": "2.0.0",
      "model_name": "HTMLModel",
      "state": {
       "layout": "IPY_MODEL_d2953f5048c14283ab6a08ec2898d0d6",
       "style": "IPY_MODEL_05cc7db3af2e4ab990b5db650549b7c9",
       "value": " 58/58 [00:02&lt;00:00, 26.16it/s]"
      }
     },
     "d2434efd4d314263a50f96c94d7cb369": {
      "model_module": "@jupyter-widgets/controls",
      "model_module_version": "2.0.0",
      "model_name": "HTMLStyleModel",
      "state": {
       "description_width": "",
       "font_size": null,
       "text_color": null
      }
     },
     "d253f9082a0d40fb8c5366a6757365d5": {
      "model_module": "@jupyter-widgets/controls",
      "model_module_version": "2.0.0",
      "model_name": "HTMLModel",
      "state": {
       "layout": "IPY_MODEL_e210a35f609541cfb200e0db8d27eb23",
       "style": "IPY_MODEL_ebc9d5e588d64414928396a1c2545cb3",
       "value": " 58/58 [00:02&lt;00:00, 26.42it/s]"
      }
     },
     "d25b242aa7aa4744a0a9dafa6373da63": {
      "model_module": "@jupyter-widgets/base",
      "model_module_version": "2.0.0",
      "model_name": "LayoutModel",
      "state": {}
     },
     "d279aecb0fa240d9960ff516c1616bd7": {
      "model_module": "@jupyter-widgets/controls",
      "model_module_version": "2.0.0",
      "model_name": "HTMLModel",
      "state": {
       "layout": "IPY_MODEL_69f1e1dc6adb4286ae19b47d5ed09ae9",
       "style": "IPY_MODEL_980fd838da114545af98baefc41f4a9c",
       "value": " 58/58 [00:02&lt;00:00, 21.61it/s]"
      }
     },
     "d28b4cb38ac841569569496d87fab310": {
      "model_module": "@jupyter-widgets/controls",
      "model_module_version": "2.0.0",
      "model_name": "HTMLStyleModel",
      "state": {
       "description_width": "",
       "font_size": null,
       "text_color": null
      }
     },
     "d2953f5048c14283ab6a08ec2898d0d6": {
      "model_module": "@jupyter-widgets/base",
      "model_module_version": "2.0.0",
      "model_name": "LayoutModel",
      "state": {}
     },
     "d29c494dc4c84a6abdb4452695771efe": {
      "model_module": "@jupyter-widgets/controls",
      "model_module_version": "2.0.0",
      "model_name": "ProgressStyleModel",
      "state": {
       "description_width": ""
      }
     },
     "d29eb8e2828941cf907e329793e3d136": {
      "model_module": "@jupyter-widgets/controls",
      "model_module_version": "2.0.0",
      "model_name": "HTMLModel",
      "state": {
       "layout": "IPY_MODEL_39548339bc864eb099100d35f8443635",
       "style": "IPY_MODEL_ee9111c7cf77434aaff137af12479253",
       "value": "Validation DataLoader 0: 100%"
      }
     },
     "d2c169b59c0844fe8ec067d1f2cc959d": {
      "model_module": "@jupyter-widgets/controls",
      "model_module_version": "2.0.0",
      "model_name": "HTMLStyleModel",
      "state": {
       "description_width": "",
       "font_size": null,
       "text_color": null
      }
     },
     "d333934980a74fae886e18bfc10767ab": {
      "model_module": "@jupyter-widgets/controls",
      "model_module_version": "2.0.0",
      "model_name": "ProgressStyleModel",
      "state": {
       "description_width": ""
      }
     },
     "d3701c0b617a452cbe92b1fa99b77ff3": {
      "model_module": "@jupyter-widgets/controls",
      "model_module_version": "2.0.0",
      "model_name": "ProgressStyleModel",
      "state": {
       "description_width": ""
      }
     },
     "d37d621956bc4d40bb75c30a4924e9d3": {
      "model_module": "@jupyter-widgets/controls",
      "model_module_version": "2.0.0",
      "model_name": "HTMLModel",
      "state": {
       "layout": "IPY_MODEL_427c4c3dc29d42bb8a64835fa16579c9",
       "style": "IPY_MODEL_503fa2f7ef2e4ba49bae8ab6e5cf87c7",
       "value": "Validation DataLoader 0: 100%"
      }
     },
     "d389c9135482450cbfa2b664cd710918": {
      "model_module": "@jupyter-widgets/base",
      "model_module_version": "2.0.0",
      "model_name": "LayoutModel",
      "state": {}
     },
     "d38b37e0f23f4a398ecb4b01506f66e3": {
      "model_module": "@jupyter-widgets/base",
      "model_module_version": "2.0.0",
      "model_name": "LayoutModel",
      "state": {
       "display": "inline-flex",
       "flex_flow": "row wrap",
       "visibility": "hidden",
       "width": "100%"
      }
     },
     "d3b23326e243432dbf05426926278737": {
      "model_module": "@jupyter-widgets/controls",
      "model_module_version": "2.0.0",
      "model_name": "ProgressStyleModel",
      "state": {
       "description_width": ""
      }
     },
     "d3bccc11d24c48268889657fe402b72a": {
      "model_module": "@jupyter-widgets/controls",
      "model_module_version": "2.0.0",
      "model_name": "ProgressStyleModel",
      "state": {
       "description_width": ""
      }
     },
     "d3ede39512e845da94aa60fb802a7da4": {
      "model_module": "@jupyter-widgets/base",
      "model_module_version": "2.0.0",
      "model_name": "LayoutModel",
      "state": {
       "display": "inline-flex",
       "flex_flow": "row wrap",
       "visibility": "hidden",
       "width": "100%"
      }
     },
     "d40c15c2a99d42c5b021046f4d2168e2": {
      "model_module": "@jupyter-widgets/controls",
      "model_module_version": "2.0.0",
      "model_name": "ProgressStyleModel",
      "state": {
       "description_width": ""
      }
     },
     "d40f212062fb4b0aa2b04b520919127a": {
      "model_module": "@jupyter-widgets/base",
      "model_module_version": "2.0.0",
      "model_name": "LayoutModel",
      "state": {
       "display": "inline-flex",
       "flex_flow": "row wrap",
       "visibility": "hidden",
       "width": "100%"
      }
     },
     "d4434e0ee9a64f9392b8db635d45c600": {
      "model_module": "@jupyter-widgets/controls",
      "model_module_version": "2.0.0",
      "model_name": "ProgressStyleModel",
      "state": {
       "description_width": ""
      }
     },
     "d443a8197c3e44ab9ee3b2c70cb488a6": {
      "model_module": "@jupyter-widgets/controls",
      "model_module_version": "2.0.0",
      "model_name": "FloatProgressModel",
      "state": {
       "layout": "IPY_MODEL_383a8ae1c5fe4e47ae3bae89addd7cae",
       "max": 58,
       "style": "IPY_MODEL_c2d45d5c695042778de4103fcdb0ddb3",
       "value": 58
      }
     },
     "d45f1964cca04df99ce21e7e1726483b": {
      "model_module": "@jupyter-widgets/base",
      "model_module_version": "2.0.0",
      "model_name": "LayoutModel",
      "state": {
       "flex": "2"
      }
     },
     "d49a84b4dd9b47f9bc286ea6e1c3af75": {
      "model_module": "@jupyter-widgets/controls",
      "model_module_version": "2.0.0",
      "model_name": "HTMLStyleModel",
      "state": {
       "description_width": "",
       "font_size": null,
       "text_color": null
      }
     },
     "d4a5a9cd14ff4ce4a2dca11600d9a3de": {
      "model_module": "@jupyter-widgets/controls",
      "model_module_version": "2.0.0",
      "model_name": "HTMLModel",
      "state": {
       "layout": "IPY_MODEL_f5ef632790c04672b4c72072b2dd46a2",
       "style": "IPY_MODEL_f4c2f4d1c61144029cad1729ed0c43f4",
       "value": " 58/58 [00:02&lt;00:00, 27.07it/s]"
      }
     },
     "d4b23611cd63488984d8f51e5adbecc5": {
      "model_module": "@jupyter-widgets/controls",
      "model_module_version": "2.0.0",
      "model_name": "HTMLStyleModel",
      "state": {
       "description_width": "",
       "font_size": null,
       "text_color": null
      }
     },
     "d4b92dc48ca646498061f1a12f89f41d": {
      "model_module": "@jupyter-widgets/controls",
      "model_module_version": "2.0.0",
      "model_name": "HTMLStyleModel",
      "state": {
       "description_width": "",
       "font_size": null,
       "text_color": null
      }
     },
     "d4b984eb4cca4e41aa406d0f527c9ae6": {
      "model_module": "@jupyter-widgets/base",
      "model_module_version": "2.0.0",
      "model_name": "LayoutModel",
      "state": {
       "flex": "2"
      }
     },
     "d4c0399eb87f40799d68e0f999271f82": {
      "model_module": "@jupyter-widgets/base",
      "model_module_version": "2.0.0",
      "model_name": "LayoutModel",
      "state": {}
     },
     "d4d142306b134c71a4e2b1a88b1d9b4e": {
      "model_module": "@jupyter-widgets/controls",
      "model_module_version": "2.0.0",
      "model_name": "HTMLModel",
      "state": {
       "layout": "IPY_MODEL_2c143a81d17f4ccfa4d129a7549e9a59",
       "style": "IPY_MODEL_e63c9a082dea4e98b202597dae22d214",
       "value": "Validation DataLoader 0: 100%"
      }
     },
     "d4d643b34a2346e193ff0aeea2562e3b": {
      "model_module": "@jupyter-widgets/controls",
      "model_module_version": "2.0.0",
      "model_name": "HTMLModel",
      "state": {
       "layout": "IPY_MODEL_b032ccdc602d492b8bf9347155776c52",
       "style": "IPY_MODEL_67619d7ae3434bf09dbe60dd1c19fd2d",
       "value": " 58/58 [00:02&lt;00:00, 27.94it/s]"
      }
     },
     "d53067a9e27847129d31c3ea7fbd1622": {
      "model_module": "@jupyter-widgets/controls",
      "model_module_version": "2.0.0",
      "model_name": "ProgressStyleModel",
      "state": {
       "description_width": ""
      }
     },
     "d535b4cf1dee48e69ebd1f22cb206e0e": {
      "model_module": "@jupyter-widgets/controls",
      "model_module_version": "2.0.0",
      "model_name": "FloatProgressModel",
      "state": {
       "layout": "IPY_MODEL_e774efe0018c455c86d1fa2a6860407c",
       "max": 58,
       "style": "IPY_MODEL_e0c48b285869447ab0888056a745d347",
       "value": 58
      }
     },
     "d535dd74c7eb452893e9016cd7e1c2f1": {
      "model_module": "@jupyter-widgets/controls",
      "model_module_version": "2.0.0",
      "model_name": "HTMLStyleModel",
      "state": {
       "description_width": "",
       "font_size": null,
       "text_color": null
      }
     },
     "d541498dcde041598aa75def25007340": {
      "model_module": "@jupyter-widgets/base",
      "model_module_version": "2.0.0",
      "model_name": "LayoutModel",
      "state": {}
     },
     "d5666901b29c4e6fa45a316565fe3690": {
      "model_module": "@jupyter-widgets/controls",
      "model_module_version": "2.0.0",
      "model_name": "HTMLModel",
      "state": {
       "layout": "IPY_MODEL_112b4728fe2344eb842f6e5a9417bfe3",
       "style": "IPY_MODEL_74e52ed48a22437fa58c32bfff7317ba",
       "value": " 58/58 [00:02&lt;00:00, 26.20it/s]"
      }
     },
     "d56b6e7b8cd34626aa974c657a1d4cb5": {
      "model_module": "@jupyter-widgets/controls",
      "model_module_version": "2.0.0",
      "model_name": "HTMLStyleModel",
      "state": {
       "description_width": "",
       "font_size": null,
       "text_color": null
      }
     },
     "d57e8ab57b74401aa9c598d516a0a0dc": {
      "model_module": "@jupyter-widgets/controls",
      "model_module_version": "2.0.0",
      "model_name": "FloatProgressModel",
      "state": {
       "layout": "IPY_MODEL_7c4a246b53ce4400b3b476cc035e9011",
       "max": 58,
       "style": "IPY_MODEL_12ec6a1a3c6f4512a56490767fc93e9c",
       "value": 58
      }
     },
     "d5849b9b010945d39073da545a0bd846": {
      "model_module": "@jupyter-widgets/base",
      "model_module_version": "2.0.0",
      "model_name": "LayoutModel",
      "state": {}
     },
     "d5aa1c79be02452687230a8a4056202a": {
      "model_module": "@jupyter-widgets/controls",
      "model_module_version": "2.0.0",
      "model_name": "HTMLModel",
      "state": {
       "layout": "IPY_MODEL_7fc4c840ced44be880906959fd120a47",
       "style": "IPY_MODEL_2122dd683c39463f87d0b02398369f5b",
       "value": "Validation DataLoader 0: 100%"
      }
     },
     "d5bbbacb7c8c4141bce631fa8c4a922b": {
      "model_module": "@jupyter-widgets/controls",
      "model_module_version": "2.0.0",
      "model_name": "HTMLModel",
      "state": {
       "layout": "IPY_MODEL_5bdc0300d3c3427d855b4bd07d5cb368",
       "style": "IPY_MODEL_5ac7e47d110645dda5d7db7aa060d617",
       "value": "Validation DataLoader 0: 100%"
      }
     },
     "d5e588109942497c8f1f5e1814b2d0db": {
      "model_module": "@jupyter-widgets/controls",
      "model_module_version": "2.0.0",
      "model_name": "HTMLStyleModel",
      "state": {
       "description_width": "",
       "font_size": null,
       "text_color": null
      }
     },
     "d6017a9ea09a49e19c91f6b2f1593d9b": {
      "model_module": "@jupyter-widgets/base",
      "model_module_version": "2.0.0",
      "model_name": "LayoutModel",
      "state": {}
     },
     "d60e2d18bb2a4d21909d22db0208c22c": {
      "model_module": "@jupyter-widgets/base",
      "model_module_version": "2.0.0",
      "model_name": "LayoutModel",
      "state": {
       "flex": "2"
      }
     },
     "d61cd1a7884f414f8e3d1e68061af6f1": {
      "model_module": "@jupyter-widgets/controls",
      "model_module_version": "2.0.0",
      "model_name": "HTMLModel",
      "state": {
       "layout": "IPY_MODEL_f0a51ec967294c6fb586e8323ce21f4b",
       "style": "IPY_MODEL_340c714d5ae2437c9091189ba5a12e27",
       "value": " 58/58 [00:02&lt;00:00, 25.71it/s]"
      }
     },
     "d61dcd1c36f349208425704340c4a22d": {
      "model_module": "@jupyter-widgets/controls",
      "model_module_version": "2.0.0",
      "model_name": "HTMLStyleModel",
      "state": {
       "description_width": "",
       "font_size": null,
       "text_color": null
      }
     },
     "d66ac7a0bdfa4bdd9a5e2e7a51b8a6ae": {
      "model_module": "@jupyter-widgets/controls",
      "model_module_version": "2.0.0",
      "model_name": "HTMLStyleModel",
      "state": {
       "description_width": "",
       "font_size": null,
       "text_color": null
      }
     },
     "d66e5459c5d04e4fa9bb46b2a6f57ea3": {
      "model_module": "@jupyter-widgets/controls",
      "model_module_version": "2.0.0",
      "model_name": "HTMLModel",
      "state": {
       "layout": "IPY_MODEL_e14ed5f29d2249bab6770aceff47b9e4",
       "style": "IPY_MODEL_89085274bff24219960d98e5f2bcd9ea",
       "value": " 58/58 [00:02&lt;00:00, 25.52it/s]"
      }
     },
     "d68f5729df964c6cb8206b85c248325d": {
      "model_module": "@jupyter-widgets/base",
      "model_module_version": "2.0.0",
      "model_name": "LayoutModel",
      "state": {}
     },
     "d696b92a67df40cd9e867d7c81052927": {
      "model_module": "@jupyter-widgets/controls",
      "model_module_version": "2.0.0",
      "model_name": "HTMLModel",
      "state": {
       "layout": "IPY_MODEL_256affea789f49418a7979b89f37c9fa",
       "style": "IPY_MODEL_333e2e1a5b16438daa6246a32476f852",
       "value": " 58/58 [00:02&lt;00:00, 26.26it/s]"
      }
     },
     "d697a5f3bf474dae9d8271ddb9c4cec7": {
      "model_module": "@jupyter-widgets/controls",
      "model_module_version": "2.0.0",
      "model_name": "FloatProgressModel",
      "state": {
       "layout": "IPY_MODEL_29e5ee71992b414085f6233a9001c851",
       "max": 58,
       "style": "IPY_MODEL_b73d8e0ac2014fb89d41975e927244aa",
       "value": 58
      }
     },
     "d6b5beb5a0ea4fdc8a97507a706d6865": {
      "model_module": "@jupyter-widgets/controls",
      "model_module_version": "2.0.0",
      "model_name": "HTMLModel",
      "state": {
       "layout": "IPY_MODEL_47609c74cf964a70826779457ab48b18",
       "style": "IPY_MODEL_69b0b18787b54207ae2f362a697612e6",
       "value": " 58/58 [00:02&lt;00:00, 26.45it/s]"
      }
     },
     "d6be3c0512c64c1a8428a415629e3f2b": {
      "model_module": "@jupyter-widgets/controls",
      "model_module_version": "2.0.0",
      "model_name": "HTMLStyleModel",
      "state": {
       "description_width": "",
       "font_size": null,
       "text_color": null
      }
     },
     "d6c51cd3905f41cd9b36cb46e39599b3": {
      "model_module": "@jupyter-widgets/controls",
      "model_module_version": "2.0.0",
      "model_name": "FloatProgressModel",
      "state": {
       "layout": "IPY_MODEL_c09e682f69a64758924b51a1d4992f0f",
       "max": 58,
       "style": "IPY_MODEL_abdc1e9f5daa446db1bc0fd9cf252103",
       "value": 58
      }
     },
     "d6ded768aba449adb3570feee9f7b144": {
      "model_module": "@jupyter-widgets/controls",
      "model_module_version": "2.0.0",
      "model_name": "HTMLModel",
      "state": {
       "layout": "IPY_MODEL_58d8a15c8cd04984841d8a955cd19ef3",
       "style": "IPY_MODEL_10b46f6525f1474888d3282f1f0d8e45",
       "value": "Validation DataLoader 0: 100%"
      }
     },
     "d6df90fd60ff4de8ac7ca75664b4d368": {
      "model_module": "@jupyter-widgets/controls",
      "model_module_version": "2.0.0",
      "model_name": "FloatProgressModel",
      "state": {
       "layout": "IPY_MODEL_a18c48a04af1478b95ae9b56a55f4c2e",
       "max": 58,
       "style": "IPY_MODEL_1771dc3970db419ea822989da49e6679",
       "value": 58
      }
     },
     "d6e6839e9e6540e5853a561974ab4140": {
      "model_module": "@jupyter-widgets/base",
      "model_module_version": "2.0.0",
      "model_name": "LayoutModel",
      "state": {}
     },
     "d719e68991e44d1094fc620bae0475ca": {
      "model_module": "@jupyter-widgets/base",
      "model_module_version": "2.0.0",
      "model_name": "LayoutModel",
      "state": {
       "display": "inline-flex",
       "flex_flow": "row wrap",
       "visibility": "hidden",
       "width": "100%"
      }
     },
     "d72a20d7c9d443588c7ab3c159ba9ea6": {
      "model_module": "@jupyter-widgets/controls",
      "model_module_version": "2.0.0",
      "model_name": "HTMLModel",
      "state": {
       "layout": "IPY_MODEL_7acb60bc9be741dcafd707708bbf33b4",
       "style": "IPY_MODEL_9b26ecdae27e4d4a9bc9bfbf0fc62917",
       "value": " 58/58 [00:02&lt;00:00, 28.30it/s]"
      }
     },
     "d7369dc1b7de4a999b3062dd9284ac67": {
      "model_module": "@jupyter-widgets/controls",
      "model_module_version": "2.0.0",
      "model_name": "FloatProgressModel",
      "state": {
       "layout": "IPY_MODEL_ccb8a6fcd83f43fe8bf9aefbc3d2d4ac",
       "max": 58,
       "style": "IPY_MODEL_b670c35f1c41475390f5127efa251c2f",
       "value": 58
      }
     },
     "d7a1a9802fa14fc496499e3878ac5be1": {
      "model_module": "@jupyter-widgets/controls",
      "model_module_version": "2.0.0",
      "model_name": "HTMLStyleModel",
      "state": {
       "description_width": "",
       "font_size": null,
       "text_color": null
      }
     },
     "d7afc36773104dbeac2c04bd39c848eb": {
      "model_module": "@jupyter-widgets/controls",
      "model_module_version": "2.0.0",
      "model_name": "FloatProgressModel",
      "state": {
       "layout": "IPY_MODEL_cfc5816a03a0400b958e074a9cebc1bc",
       "max": 58,
       "style": "IPY_MODEL_f9980f24b59b478aab3b9d01fb78d815",
       "value": 58
      }
     },
     "d7d9ab92dab64b34a503cd256eaab059": {
      "model_module": "@jupyter-widgets/base",
      "model_module_version": "2.0.0",
      "model_name": "LayoutModel",
      "state": {}
     },
     "d81b3a67234d4c919e7ee4895fc02b2e": {
      "model_module": "@jupyter-widgets/controls",
      "model_module_version": "2.0.0",
      "model_name": "HTMLModel",
      "state": {
       "layout": "IPY_MODEL_2e12f835bedc457a89ff7f6abdb8d709",
       "style": "IPY_MODEL_c4f74d7935134fb19344bbffa8a79cc2",
       "value": " 58/58 [00:02&lt;00:00, 26.28it/s]"
      }
     },
     "d82a36a3c77044d9bfd79f4e6322d2dd": {
      "model_module": "@jupyter-widgets/controls",
      "model_module_version": "2.0.0",
      "model_name": "FloatProgressModel",
      "state": {
       "layout": "IPY_MODEL_eecc5467c9854e9096f7bc83956da750",
       "max": 58,
       "style": "IPY_MODEL_f66ea568f4db42b0a0d42ffc51ac972f",
       "value": 58
      }
     },
     "d85fe13b43c447229931e37f45cdaf90": {
      "model_module": "@jupyter-widgets/base",
      "model_module_version": "2.0.0",
      "model_name": "LayoutModel",
      "state": {}
     },
     "d88bab95b9014a52bb8d200d2bce47ef": {
      "model_module": "@jupyter-widgets/base",
      "model_module_version": "2.0.0",
      "model_name": "LayoutModel",
      "state": {
       "flex": "2"
      }
     },
     "d899171a3df943fb8377c8db0071fa33": {
      "model_module": "@jupyter-widgets/base",
      "model_module_version": "2.0.0",
      "model_name": "LayoutModel",
      "state": {
       "flex": "2"
      }
     },
     "d8a01f46eee74a0da7c3c19ef2ae15f0": {
      "model_module": "@jupyter-widgets/controls",
      "model_module_version": "2.0.0",
      "model_name": "ProgressStyleModel",
      "state": {
       "description_width": ""
      }
     },
     "d8b1e0e9044647ac8968fe489836daac": {
      "model_module": "@jupyter-widgets/base",
      "model_module_version": "2.0.0",
      "model_name": "LayoutModel",
      "state": {}
     },
     "d8bcfab93df04466984a1f3c70a77cc5": {
      "model_module": "@jupyter-widgets/base",
      "model_module_version": "2.0.0",
      "model_name": "LayoutModel",
      "state": {}
     },
     "d8ce8f1b8c78468a8623a03a844eecb9": {
      "model_module": "@jupyter-widgets/base",
      "model_module_version": "2.0.0",
      "model_name": "LayoutModel",
      "state": {}
     },
     "d8fb68518c9d4f7091af6ea47a47ffff": {
      "model_module": "@jupyter-widgets/controls",
      "model_module_version": "2.0.0",
      "model_name": "HTMLStyleModel",
      "state": {
       "description_width": "",
       "font_size": null,
       "text_color": null
      }
     },
     "d90ad8de229e4ff38a50943374f79536": {
      "model_module": "@jupyter-widgets/controls",
      "model_module_version": "2.0.0",
      "model_name": "HTMLModel",
      "state": {
       "layout": "IPY_MODEL_b15dcfe07e2c4cd0b0e9d852bb76aec0",
       "style": "IPY_MODEL_001e4038f263498891cdc1511e2b89b0",
       "value": "Validation DataLoader 0: 100%"
      }
     },
     "d9475eaff92249d7ae5042745f44c8d4": {
      "model_module": "@jupyter-widgets/base",
      "model_module_version": "2.0.0",
      "model_name": "LayoutModel",
      "state": {
       "display": "inline-flex",
       "flex_flow": "row wrap",
       "visibility": "hidden",
       "width": "100%"
      }
     },
     "d95a8e78015c4cb196f7434901f3174d": {
      "model_module": "@jupyter-widgets/controls",
      "model_module_version": "2.0.0",
      "model_name": "HTMLModel",
      "state": {
       "layout": "IPY_MODEL_385c1dc924334fbb97bbebd2fcae09de",
       "style": "IPY_MODEL_0b87452d543141b09ed02db45f5a156c",
       "value": "Validation DataLoader 0: 100%"
      }
     },
     "d96cde11175943f3867f6cd83bee98da": {
      "model_module": "@jupyter-widgets/base",
      "model_module_version": "2.0.0",
      "model_name": "LayoutModel",
      "state": {
       "display": "inline-flex",
       "flex_flow": "row wrap",
       "width": "100%"
      }
     },
     "d98c371f19c246389f0b3f9991af30cc": {
      "model_module": "@jupyter-widgets/base",
      "model_module_version": "2.0.0",
      "model_name": "LayoutModel",
      "state": {
       "flex": "2"
      }
     },
     "d9a341a53d924bac89b22d9fbd65e6e3": {
      "model_module": "@jupyter-widgets/controls",
      "model_module_version": "2.0.0",
      "model_name": "HTMLModel",
      "state": {
       "layout": "IPY_MODEL_56ffdadd89ad414889197e07ffdf7b94",
       "style": "IPY_MODEL_7932fa2c9ba04d7e998fc9405bb157f2",
       "value": "Validation DataLoader 0: 100%"
      }
     },
     "d9c73d581d1c48af9af43e9bebf00e23": {
      "model_module": "@jupyter-widgets/base",
      "model_module_version": "2.0.0",
      "model_name": "LayoutModel",
      "state": {
       "display": "inline-flex",
       "flex_flow": "row wrap",
       "visibility": "hidden",
       "width": "100%"
      }
     },
     "d9d0c3c433fd455d816ba5b73a15f5b3": {
      "model_module": "@jupyter-widgets/controls",
      "model_module_version": "2.0.0",
      "model_name": "FloatProgressModel",
      "state": {
       "layout": "IPY_MODEL_dc6a63e8a1914e7ea740e1b0a34fb4af",
       "max": 58,
       "style": "IPY_MODEL_2d542f6d667c406b860cf82513d883fe",
       "value": 58
      }
     },
     "da07eccc449d4f41a9ec3454aad2ca8c": {
      "model_module": "@jupyter-widgets/controls",
      "model_module_version": "2.0.0",
      "model_name": "FloatProgressModel",
      "state": {
       "layout": "IPY_MODEL_5018a8384b6441e289a8a9616c44256b",
       "max": 58,
       "style": "IPY_MODEL_6be8275b31674f74ad89350b35bdf823",
       "value": 58
      }
     },
     "da1243698f6c4f908c4460a3b1fbfe34": {
      "model_module": "@jupyter-widgets/base",
      "model_module_version": "2.0.0",
      "model_name": "LayoutModel",
      "state": {}
     },
     "da2bd85867264d7ea7a81acbc936f1c8": {
      "model_module": "@jupyter-widgets/base",
      "model_module_version": "2.0.0",
      "model_name": "LayoutModel",
      "state": {}
     },
     "da4f19f6c7614ca0ac368f5563a6b1bd": {
      "model_module": "@jupyter-widgets/base",
      "model_module_version": "2.0.0",
      "model_name": "LayoutModel",
      "state": {
       "flex": "2"
      }
     },
     "daf7c9dc3f9340fc8240805c54af3845": {
      "model_module": "@jupyter-widgets/base",
      "model_module_version": "2.0.0",
      "model_name": "LayoutModel",
      "state": {}
     },
     "dafc24f153994a9a9abaec7af3ddc8e2": {
      "model_module": "@jupyter-widgets/controls",
      "model_module_version": "2.0.0",
      "model_name": "HTMLStyleModel",
      "state": {
       "description_width": "",
       "font_size": null,
       "text_color": null
      }
     },
     "db077ae5d72347808981e4c764f3da2a": {
      "model_module": "@jupyter-widgets/controls",
      "model_module_version": "2.0.0",
      "model_name": "FloatProgressModel",
      "state": {
       "layout": "IPY_MODEL_da4f19f6c7614ca0ac368f5563a6b1bd",
       "max": 58,
       "style": "IPY_MODEL_b0cd68d5abb3470aae529a872fa65f32",
       "value": 58
      }
     },
     "db3dfbaa863a43c1b6dffcf896ff1152": {
      "model_module": "@jupyter-widgets/base",
      "model_module_version": "2.0.0",
      "model_name": "LayoutModel",
      "state": {}
     },
     "db8764e2aa6a4163933a9398e6a1e62c": {
      "model_module": "@jupyter-widgets/base",
      "model_module_version": "2.0.0",
      "model_name": "LayoutModel",
      "state": {}
     },
     "dba520d7aaa14285a0ee5c097706b717": {
      "model_module": "@jupyter-widgets/controls",
      "model_module_version": "2.0.0",
      "model_name": "HTMLStyleModel",
      "state": {
       "description_width": "",
       "font_size": null,
       "text_color": null
      }
     },
     "dbbe611d6f214391a08ebfb91d46703b": {
      "model_module": "@jupyter-widgets/base",
      "model_module_version": "2.0.0",
      "model_name": "LayoutModel",
      "state": {}
     },
     "dbdc1add670e4caf85c8a31981871733": {
      "model_module": "@jupyter-widgets/controls",
      "model_module_version": "2.0.0",
      "model_name": "HTMLStyleModel",
      "state": {
       "description_width": "",
       "font_size": null,
       "text_color": null
      }
     },
     "dbdc926ee6f74cfc9e1c8d4c701072a7": {
      "model_module": "@jupyter-widgets/controls",
      "model_module_version": "2.0.0",
      "model_name": "HTMLStyleModel",
      "state": {
       "description_width": "",
       "font_size": null,
       "text_color": null
      }
     },
     "dbdde7595ac04a9b8e4d490b3764db6c": {
      "model_module": "@jupyter-widgets/controls",
      "model_module_version": "2.0.0",
      "model_name": "HTMLModel",
      "state": {
       "layout": "IPY_MODEL_11c6e4d76a184d41b3f415e75890810c",
       "style": "IPY_MODEL_3727b8d80b4f46f9a8730920d82fb0af",
       "value": " 58/58 [00:02&lt;00:00, 27.78it/s]"
      }
     },
     "dbe061cb09af44369ffeb99ba10fc6ed": {
      "model_module": "@jupyter-widgets/controls",
      "model_module_version": "2.0.0",
      "model_name": "HTMLModel",
      "state": {
       "layout": "IPY_MODEL_eee92c08b9704586b97a97a74e892333",
       "style": "IPY_MODEL_d2c169b59c0844fe8ec067d1f2cc959d",
       "value": "Validation DataLoader 0: 100%"
      }
     },
     "dbfe471fc40a4c9480f0d6e9194cac7f": {
      "model_module": "@jupyter-widgets/base",
      "model_module_version": "2.0.0",
      "model_name": "LayoutModel",
      "state": {
       "display": "inline-flex",
       "flex_flow": "row wrap",
       "visibility": "hidden",
       "width": "100%"
      }
     },
     "dc6a63e8a1914e7ea740e1b0a34fb4af": {
      "model_module": "@jupyter-widgets/base",
      "model_module_version": "2.0.0",
      "model_name": "LayoutModel",
      "state": {
       "flex": "2"
      }
     },
     "dc704ec17f45481881ecc6473d920831": {
      "model_module": "@jupyter-widgets/base",
      "model_module_version": "2.0.0",
      "model_name": "LayoutModel",
      "state": {
       "display": "inline-flex",
       "flex_flow": "row wrap",
       "visibility": "hidden",
       "width": "100%"
      }
     },
     "dc81e5c4aec54fa4bc95a014071f8bd8": {
      "model_module": "@jupyter-widgets/base",
      "model_module_version": "2.0.0",
      "model_name": "LayoutModel",
      "state": {}
     },
     "dcabb11894f24837a22c83ea87421f44": {
      "model_module": "@jupyter-widgets/controls",
      "model_module_version": "2.0.0",
      "model_name": "ProgressStyleModel",
      "state": {
       "description_width": ""
      }
     },
     "dcd6f24b0b91476cb75b6811b9f7a1df": {
      "model_module": "@jupyter-widgets/controls",
      "model_module_version": "2.0.0",
      "model_name": "HTMLModel",
      "state": {
       "layout": "IPY_MODEL_c641d91104774b889da98121c13fc362",
       "style": "IPY_MODEL_330e4c387fa34fffaf3242be0fe6ae2c",
       "value": " 58/58 [00:02&lt;00:00, 25.65it/s]"
      }
     },
     "dcfa350e8fe64506ba47999634150307": {
      "model_module": "@jupyter-widgets/base",
      "model_module_version": "2.0.0",
      "model_name": "LayoutModel",
      "state": {}
     },
     "dd099a71c9d04ce68d080f81fa1f2983": {
      "model_module": "@jupyter-widgets/controls",
      "model_module_version": "2.0.0",
      "model_name": "FloatProgressModel",
      "state": {
       "layout": "IPY_MODEL_a2cfc48214e945a685302b805ab090cd",
       "max": 58,
       "style": "IPY_MODEL_ad6b31936fd64af4a1884efe042694d8",
       "value": 58
      }
     },
     "dd15aa4da9ca4ebeaa3b696e687c2843": {
      "model_module": "@jupyter-widgets/controls",
      "model_module_version": "2.0.0",
      "model_name": "HTMLStyleModel",
      "state": {
       "description_width": "",
       "font_size": null,
       "text_color": null
      }
     },
     "dd6d54964a2245d1beedc0d373f42d72": {
      "model_module": "@jupyter-widgets/controls",
      "model_module_version": "2.0.0",
      "model_name": "HTMLStyleModel",
      "state": {
       "description_width": "",
       "font_size": null,
       "text_color": null
      }
     },
     "dd7146321cb34cde80c4efdbc35b5d79": {
      "model_module": "@jupyter-widgets/controls",
      "model_module_version": "2.0.0",
      "model_name": "ProgressStyleModel",
      "state": {
       "description_width": ""
      }
     },
     "dd7c2ce1488a418386ca0c4a7153bd36": {
      "model_module": "@jupyter-widgets/controls",
      "model_module_version": "2.0.0",
      "model_name": "HTMLModel",
      "state": {
       "layout": "IPY_MODEL_07b48add5e69470aa60ed48a651edc79",
       "style": "IPY_MODEL_d6be3c0512c64c1a8428a415629e3f2b",
       "value": "Validation DataLoader 0: 100%"
      }
     },
     "ddb47c6008ad4b60997ece1fd70da0ff": {
      "model_module": "@jupyter-widgets/controls",
      "model_module_version": "2.0.0",
      "model_name": "ProgressStyleModel",
      "state": {
       "description_width": ""
      }
     },
     "dde1cb916f1b476bb7e59026044dba06": {
      "model_module": "@jupyter-widgets/controls",
      "model_module_version": "2.0.0",
      "model_name": "HTMLStyleModel",
      "state": {
       "description_width": "",
       "font_size": null,
       "text_color": null
      }
     },
     "de06ec4138854b5bb0885f3716983820": {
      "model_module": "@jupyter-widgets/base",
      "model_module_version": "2.0.0",
      "model_name": "LayoutModel",
      "state": {
       "display": "inline-flex",
       "flex_flow": "row wrap",
       "visibility": "hidden",
       "width": "100%"
      }
     },
     "de38dfd51c31426093804edc400f6fe0": {
      "model_module": "@jupyter-widgets/controls",
      "model_module_version": "2.0.0",
      "model_name": "HTMLStyleModel",
      "state": {
       "description_width": "",
       "font_size": null,
       "text_color": null
      }
     },
     "de5277d05ce6425fa31638d6ebf0d3ed": {
      "model_module": "@jupyter-widgets/base",
      "model_module_version": "2.0.0",
      "model_name": "LayoutModel",
      "state": {}
     },
     "de6f58fa9e3e481fbc31b0c47ff557a8": {
      "model_module": "@jupyter-widgets/controls",
      "model_module_version": "2.0.0",
      "model_name": "ProgressStyleModel",
      "state": {
       "description_width": ""
      }
     },
     "dea88816330e4e398f7703353ddfb70f": {
      "model_module": "@jupyter-widgets/controls",
      "model_module_version": "2.0.0",
      "model_name": "ProgressStyleModel",
      "state": {
       "description_width": ""
      }
     },
     "ded2ed1fb01a4648a46ea3fa4aad8924": {
      "model_module": "@jupyter-widgets/controls",
      "model_module_version": "2.0.0",
      "model_name": "ProgressStyleModel",
      "state": {
       "description_width": ""
      }
     },
     "df1cdfe9406645f1b547070c9c25c9b4": {
      "model_module": "@jupyter-widgets/controls",
      "model_module_version": "2.0.0",
      "model_name": "HTMLModel",
      "state": {
       "layout": "IPY_MODEL_7efdceb5c0084968a40a4576e4e374f3",
       "style": "IPY_MODEL_9d30dbc49b924673b1f7e042bf81c03c",
       "value": "Validation DataLoader 0: 100%"
      }
     },
     "dfa71984a05c4e36a7eb52b2b91f100d": {
      "model_module": "@jupyter-widgets/base",
      "model_module_version": "2.0.0",
      "model_name": "LayoutModel",
      "state": {
       "display": "inline-flex",
       "flex_flow": "row wrap",
       "visibility": "hidden",
       "width": "100%"
      }
     },
     "dfa7ade592ee493981286059d1dc60ce": {
      "model_module": "@jupyter-widgets/base",
      "model_module_version": "2.0.0",
      "model_name": "LayoutModel",
      "state": {
       "display": "inline-flex",
       "flex_flow": "row wrap",
       "visibility": "hidden",
       "width": "100%"
      }
     },
     "dfdd92706ae14c16a19b2a817693ecb8": {
      "model_module": "@jupyter-widgets/base",
      "model_module_version": "2.0.0",
      "model_name": "LayoutModel",
      "state": {}
     },
     "dff208cdee30408995c6d03f7825186f": {
      "model_module": "@jupyter-widgets/controls",
      "model_module_version": "2.0.0",
      "model_name": "HTMLModel",
      "state": {
       "layout": "IPY_MODEL_fd960ea64bdf4ca7bad4edf679f20b5f",
       "style": "IPY_MODEL_34af19bdc647475eaa35d5f63f8b0f8b",
       "value": "Validation DataLoader 0: 100%"
      }
     },
     "e052aadbb07640da990e05296df0660a": {
      "model_module": "@jupyter-widgets/controls",
      "model_module_version": "2.0.0",
      "model_name": "HTMLModel",
      "state": {
       "layout": "IPY_MODEL_22cd8fc55dfc4effbff44a89bd289d07",
       "style": "IPY_MODEL_8b4a3ef9d5d34762a94921585b6ac9ec",
       "value": "Validation DataLoader 0: 100%"
      }
     },
     "e0616060cc184acca6e75ff179b9b1ff": {
      "model_module": "@jupyter-widgets/base",
      "model_module_version": "2.0.0",
      "model_name": "LayoutModel",
      "state": {
       "display": "inline-flex",
       "flex_flow": "row wrap",
       "visibility": "hidden",
       "width": "100%"
      }
     },
     "e08d08559dda4265adf1e414e7bc5d4c": {
      "model_module": "@jupyter-widgets/controls",
      "model_module_version": "2.0.0",
      "model_name": "HTMLModel",
      "state": {
       "layout": "IPY_MODEL_2c24244ac823468b955f7cba12ba7dac",
       "style": "IPY_MODEL_6a62fd91f09341ae86f131120c9f63d9",
       "value": " 58/58 [00:02&lt;00:00, 27.18it/s]"
      }
     },
     "e0b123c27e624cba84c5859aeec0f128": {
      "model_module": "@jupyter-widgets/controls",
      "model_module_version": "2.0.0",
      "model_name": "ProgressStyleModel",
      "state": {
       "description_width": ""
      }
     },
     "e0c48b285869447ab0888056a745d347": {
      "model_module": "@jupyter-widgets/controls",
      "model_module_version": "2.0.0",
      "model_name": "ProgressStyleModel",
      "state": {
       "description_width": ""
      }
     },
     "e0d7e12ad0f74772bc94a412710937bf": {
      "model_module": "@jupyter-widgets/controls",
      "model_module_version": "2.0.0",
      "model_name": "ProgressStyleModel",
      "state": {
       "description_width": ""
      }
     },
     "e139750672b14a24b3ebc1d2e74aaf39": {
      "model_module": "@jupyter-widgets/controls",
      "model_module_version": "2.0.0",
      "model_name": "HTMLModel",
      "state": {
       "layout": "IPY_MODEL_9ea703cb9816493ead24d88536f23f3f",
       "style": "IPY_MODEL_baa3bf3a27584f54ac40d3ec509c35c5",
       "value": " 58/58 [00:02&lt;00:00, 24.72it/s]"
      }
     },
     "e14ed5f29d2249bab6770aceff47b9e4": {
      "model_module": "@jupyter-widgets/base",
      "model_module_version": "2.0.0",
      "model_name": "LayoutModel",
      "state": {}
     },
     "e1a8e55987cc425c8ac020271e5d56d7": {
      "model_module": "@jupyter-widgets/controls",
      "model_module_version": "2.0.0",
      "model_name": "ProgressStyleModel",
      "state": {
       "description_width": ""
      }
     },
     "e1c6f2a94e98463da7eaa54b30d49b26": {
      "model_module": "@jupyter-widgets/controls",
      "model_module_version": "2.0.0",
      "model_name": "HTMLModel",
      "state": {
       "layout": "IPY_MODEL_e64862b2a41d4a3aabc56563d8c4c00c",
       "style": "IPY_MODEL_37ea2766c8954623bc98bdc3c8da478f",
       "value": " 58/58 [00:02&lt;00:00, 27.07it/s]"
      }
     },
     "e202ffdfbda046da9d99b6add9f3a3c5": {
      "model_module": "@jupyter-widgets/base",
      "model_module_version": "2.0.0",
      "model_name": "LayoutModel",
      "state": {}
     },
     "e210a35f609541cfb200e0db8d27eb23": {
      "model_module": "@jupyter-widgets/base",
      "model_module_version": "2.0.0",
      "model_name": "LayoutModel",
      "state": {}
     },
     "e211de0c93714443b1c71d2dac26de6d": {
      "model_module": "@jupyter-widgets/controls",
      "model_module_version": "2.0.0",
      "model_name": "HTMLModel",
      "state": {
       "layout": "IPY_MODEL_4db3b235d51148579d018afe9647306f",
       "style": "IPY_MODEL_6221b229c54d437ea3081040a78623d6",
       "value": " 58/58 [00:02&lt;00:00, 27.02it/s]"
      }
     },
     "e214ccb671dd4c66be54127aed80d988": {
      "model_module": "@jupyter-widgets/controls",
      "model_module_version": "2.0.0",
      "model_name": "FloatProgressModel",
      "state": {
       "layout": "IPY_MODEL_838951ab76ee451e9fa1a99aef46aa30",
       "max": 58,
       "style": "IPY_MODEL_6b2a96b081a549e7ae5f18aed9da96b5",
       "value": 58
      }
     },
     "e24165bc525d41539d005300d2c19d2c": {
      "model_module": "@jupyter-widgets/base",
      "model_module_version": "2.0.0",
      "model_name": "LayoutModel",
      "state": {
       "display": "inline-flex",
       "flex_flow": "row wrap",
       "visibility": "hidden",
       "width": "100%"
      }
     },
     "e247f55bf257431b9613731f54bfd7e3": {
      "model_module": "@jupyter-widgets/controls",
      "model_module_version": "2.0.0",
      "model_name": "HTMLStyleModel",
      "state": {
       "description_width": "",
       "font_size": null,
       "text_color": null
      }
     },
     "e287bdd1f05e489fbc273fe98ed30a26": {
      "model_module": "@jupyter-widgets/controls",
      "model_module_version": "2.0.0",
      "model_name": "FloatProgressModel",
      "state": {
       "layout": "IPY_MODEL_18f07a6d31be4cf5a2b875a893a2746e",
       "max": 58,
       "style": "IPY_MODEL_194e46a662be445d810fff99349e9077",
       "value": 58
      }
     },
     "e2b775c8cd684313816c49c5df4bd4be": {
      "model_module": "@jupyter-widgets/base",
      "model_module_version": "2.0.0",
      "model_name": "LayoutModel",
      "state": {
       "display": "inline-flex",
       "flex_flow": "row wrap",
       "visibility": "hidden",
       "width": "100%"
      }
     },
     "e2d28b0e60fc4793a144c39b66209ea8": {
      "model_module": "@jupyter-widgets/base",
      "model_module_version": "2.0.0",
      "model_name": "LayoutModel",
      "state": {}
     },
     "e2d4223cfd29473786bc1d1dd14c7a25": {
      "model_module": "@jupyter-widgets/base",
      "model_module_version": "2.0.0",
      "model_name": "LayoutModel",
      "state": {
       "flex": "2"
      }
     },
     "e2f77a73555a4def85f90a645e12f2f1": {
      "model_module": "@jupyter-widgets/base",
      "model_module_version": "2.0.0",
      "model_name": "LayoutModel",
      "state": {
       "flex": "2"
      }
     },
     "e32ed145c6204bf98f36d4d77d41c6ba": {
      "model_module": "@jupyter-widgets/controls",
      "model_module_version": "2.0.0",
      "model_name": "FloatProgressModel",
      "state": {
       "layout": "IPY_MODEL_97e85ab5e6a54a2a9f4306dbb8e9cf75",
       "max": 58,
       "style": "IPY_MODEL_cf630b04e817473190e3b186c96c2b9e",
       "value": 58
      }
     },
     "e3608bf061e34941af54c342100651ea": {
      "model_module": "@jupyter-widgets/base",
      "model_module_version": "2.0.0",
      "model_name": "LayoutModel",
      "state": {}
     },
     "e36459dd6b83402b98bb42e1c5e72965": {
      "model_module": "@jupyter-widgets/controls",
      "model_module_version": "2.0.0",
      "model_name": "FloatProgressModel",
      "state": {
       "layout": "IPY_MODEL_e869d2cb95c045108d9e87bd52f64c28",
       "max": 58,
       "style": "IPY_MODEL_1b78d8da43a64d0a99f9d535a744411c",
       "value": 58
      }
     },
     "e383ca7c938748c39d9d4be8cf71b675": {
      "model_module": "@jupyter-widgets/base",
      "model_module_version": "2.0.0",
      "model_name": "LayoutModel",
      "state": {
       "display": "inline-flex",
       "flex_flow": "row wrap",
       "visibility": "hidden",
       "width": "100%"
      }
     },
     "e38f6329edd44ceb858382d0c48949b0": {
      "model_module": "@jupyter-widgets/base",
      "model_module_version": "2.0.0",
      "model_name": "LayoutModel",
      "state": {}
     },
     "e3a995baa546408785986c99ecd66413": {
      "model_module": "@jupyter-widgets/base",
      "model_module_version": "2.0.0",
      "model_name": "LayoutModel",
      "state": {
       "display": "inline-flex",
       "flex_flow": "row wrap",
       "visibility": "hidden",
       "width": "100%"
      }
     },
     "e3d1424c95d8469f99c7f4e9599d2817": {
      "model_module": "@jupyter-widgets/controls",
      "model_module_version": "2.0.0",
      "model_name": "FloatProgressModel",
      "state": {
       "layout": "IPY_MODEL_7d9651e73587497cb071450fedd30457",
       "max": 58,
       "style": "IPY_MODEL_072aab47716d43f6935174431f2ed9dc",
       "value": 58
      }
     },
     "e40f007e4c0348f9b3aa7aee347d9a1d": {
      "model_module": "@jupyter-widgets/controls",
      "model_module_version": "2.0.0",
      "model_name": "HTMLStyleModel",
      "state": {
       "description_width": "",
       "font_size": null,
       "text_color": null
      }
     },
     "e45b12f4ee8c4dae80d029ad1911ca28": {
      "model_module": "@jupyter-widgets/controls",
      "model_module_version": "2.0.0",
      "model_name": "FloatProgressModel",
      "state": {
       "layout": "IPY_MODEL_b6094235f14b4f3d83dc958e4b2eec28",
       "max": 58,
       "style": "IPY_MODEL_1fd138baa6d5459cb3866c094d1b2c47",
       "value": 58
      }
     },
     "e45c11fd06044d488f66364acf86d3c4": {
      "model_module": "@jupyter-widgets/base",
      "model_module_version": "2.0.0",
      "model_name": "LayoutModel",
      "state": {}
     },
     "e461e0fb589d4394b371ccfeb645762c": {
      "model_module": "@jupyter-widgets/base",
      "model_module_version": "2.0.0",
      "model_name": "LayoutModel",
      "state": {
       "flex": "2"
      }
     },
     "e466189e0c38436cae8001a1f398f3fb": {
      "model_module": "@jupyter-widgets/base",
      "model_module_version": "2.0.0",
      "model_name": "LayoutModel",
      "state": {}
     },
     "e469f43781514502ab64ecefff8ca3c5": {
      "model_module": "@jupyter-widgets/controls",
      "model_module_version": "2.0.0",
      "model_name": "HTMLStyleModel",
      "state": {
       "description_width": "",
       "font_size": null,
       "text_color": null
      }
     },
     "e46b45afe56e4323829484a621e7ac6b": {
      "model_module": "@jupyter-widgets/controls",
      "model_module_version": "2.0.0",
      "model_name": "HTMLModel",
      "state": {
       "layout": "IPY_MODEL_3f31125f786144c3a076ba9f994632d7",
       "style": "IPY_MODEL_9700d2f1344848719db0fd5c895a5e70",
       "value": "Validation DataLoader 0: 100%"
      }
     },
     "e48895f6a969448d94c2f214b4b8862d": {
      "model_module": "@jupyter-widgets/base",
      "model_module_version": "2.0.0",
      "model_name": "LayoutModel",
      "state": {
       "flex": "2"
      }
     },
     "e4ada31fa0e141daae0f93adf863a41e": {
      "model_module": "@jupyter-widgets/controls",
      "model_module_version": "2.0.0",
      "model_name": "HTMLModel",
      "state": {
       "layout": "IPY_MODEL_793384225c354ffdafff55f1d923185b",
       "style": "IPY_MODEL_ca43b4f846cf4b55a73d30ea92e70d66",
       "value": "Validation DataLoader 0: 100%"
      }
     },
     "e4c40b3fff494dba844cebafdbd3d422": {
      "model_module": "@jupyter-widgets/controls",
      "model_module_version": "2.0.0",
      "model_name": "HTMLStyleModel",
      "state": {
       "description_width": "",
       "font_size": null,
       "text_color": null
      }
     },
     "e4c9c5819cb8472a8d05dde3264703f9": {
      "model_module": "@jupyter-widgets/controls",
      "model_module_version": "2.0.0",
      "model_name": "FloatProgressModel",
      "state": {
       "layout": "IPY_MODEL_3b1d530d270e46ea9eeb84a2c113ca5d",
       "max": 58,
       "style": "IPY_MODEL_8901a0d9d60d4d4fa31e1fec9e3aa16b",
       "value": 58
      }
     },
     "e4e3c5da67c14eb9a76ff87edaf1438d": {
      "model_module": "@jupyter-widgets/base",
      "model_module_version": "2.0.0",
      "model_name": "LayoutModel",
      "state": {}
     },
     "e51fdce130584bf29e9b506be7405c69": {
      "model_module": "@jupyter-widgets/base",
      "model_module_version": "2.0.0",
      "model_name": "LayoutModel",
      "state": {}
     },
     "e53f284999cd4a52bdcaf913a80206fd": {
      "model_module": "@jupyter-widgets/controls",
      "model_module_version": "2.0.0",
      "model_name": "FloatProgressModel",
      "state": {
       "layout": "IPY_MODEL_bda76186968f4294a3d522a1618ec2c9",
       "max": 58,
       "style": "IPY_MODEL_5c12947a21c14e09b5d91a01aeb2393f",
       "value": 58
      }
     },
     "e54f54514bdc41e9a5f5026862d1a6b8": {
      "model_module": "@jupyter-widgets/base",
      "model_module_version": "2.0.0",
      "model_name": "LayoutModel",
      "state": {
       "display": "inline-flex",
       "flex_flow": "row wrap",
       "visibility": "hidden",
       "width": "100%"
      }
     },
     "e57e47208eb44b1ca8710c9cff86e8db": {
      "model_module": "@jupyter-widgets/controls",
      "model_module_version": "2.0.0",
      "model_name": "HTMLStyleModel",
      "state": {
       "description_width": "",
       "font_size": null,
       "text_color": null
      }
     },
     "e57eff1afd5f4580a9b9290066397f5f": {
      "model_module": "@jupyter-widgets/base",
      "model_module_version": "2.0.0",
      "model_name": "LayoutModel",
      "state": {
       "flex": "2"
      }
     },
     "e5af9988adac4031a1cc4859453bf584": {
      "model_module": "@jupyter-widgets/controls",
      "model_module_version": "2.0.0",
      "model_name": "HTMLModel",
      "state": {
       "layout": "IPY_MODEL_04e53681418440b798890e8c153fbfe8",
       "style": "IPY_MODEL_ce3fc466f3f945339d075caa62c3c506",
       "value": " 58/58 [00:02&lt;00:00, 28.35it/s]"
      }
     },
     "e5b8ba66575d419cb4592443907e13ce": {
      "model_module": "@jupyter-widgets/base",
      "model_module_version": "2.0.0",
      "model_name": "LayoutModel",
      "state": {
       "flex": "2"
      }
     },
     "e5ca5814e53f4f5caa1b0f2a8352863e": {
      "model_module": "@jupyter-widgets/controls",
      "model_module_version": "2.0.0",
      "model_name": "FloatProgressModel",
      "state": {
       "layout": "IPY_MODEL_d60e2d18bb2a4d21909d22db0208c22c",
       "max": 58,
       "style": "IPY_MODEL_d3701c0b617a452cbe92b1fa99b77ff3",
       "value": 58
      }
     },
     "e60d1f008bef4e90a510f295d922e64d": {
      "model_module": "@jupyter-widgets/base",
      "model_module_version": "2.0.0",
      "model_name": "LayoutModel",
      "state": {}
     },
     "e611b44672a1409680025725097103b9": {
      "model_module": "@jupyter-widgets/base",
      "model_module_version": "2.0.0",
      "model_name": "LayoutModel",
      "state": {}
     },
     "e62c15fb9e6844f4b822eb386557741b": {
      "model_module": "@jupyter-widgets/controls",
      "model_module_version": "2.0.0",
      "model_name": "FloatProgressModel",
      "state": {
       "layout": "IPY_MODEL_5ff1714eb2704c95aa4817f9b57af462",
       "max": 58,
       "style": "IPY_MODEL_bfe0c77b2a714a969d5840547da8f752",
       "value": 58
      }
     },
     "e63c9a082dea4e98b202597dae22d214": {
      "model_module": "@jupyter-widgets/controls",
      "model_module_version": "2.0.0",
      "model_name": "HTMLStyleModel",
      "state": {
       "description_width": "",
       "font_size": null,
       "text_color": null
      }
     },
     "e64862b2a41d4a3aabc56563d8c4c00c": {
      "model_module": "@jupyter-widgets/base",
      "model_module_version": "2.0.0",
      "model_name": "LayoutModel",
      "state": {}
     },
     "e655a8780ce64ce8bcf0fbc06e1a1244": {
      "model_module": "@jupyter-widgets/base",
      "model_module_version": "2.0.0",
      "model_name": "LayoutModel",
      "state": {}
     },
     "e66b7d81f2b140caa59b4110f4bb69d5": {
      "model_module": "@jupyter-widgets/base",
      "model_module_version": "2.0.0",
      "model_name": "LayoutModel",
      "state": {}
     },
     "e69c7d131e5c4acd83b41cee6d07d03c": {
      "model_module": "@jupyter-widgets/controls",
      "model_module_version": "2.0.0",
      "model_name": "HTMLStyleModel",
      "state": {
       "description_width": "",
       "font_size": null,
       "text_color": null
      }
     },
     "e6f71723f27741129ce191c5696ab62b": {
      "model_module": "@jupyter-widgets/controls",
      "model_module_version": "2.0.0",
      "model_name": "HTMLModel",
      "state": {
       "layout": "IPY_MODEL_1361cecd4ea84c07b8bd03012819ab52",
       "style": "IPY_MODEL_7afbf2f4a7fd4242b1f1ff44062844bb",
       "value": " 58/58 [00:02&lt;00:00, 25.35it/s]"
      }
     },
     "e7050d6483d64692be15ef1b0c582ae2": {
      "model_module": "@jupyter-widgets/base",
      "model_module_version": "2.0.0",
      "model_name": "LayoutModel",
      "state": {
       "flex": "2"
      }
     },
     "e72217c0e2024e669266459cf3516660": {
      "model_module": "@jupyter-widgets/base",
      "model_module_version": "2.0.0",
      "model_name": "LayoutModel",
      "state": {}
     },
     "e723aef8d342417aa9ce52285eab53c5": {
      "model_module": "@jupyter-widgets/controls",
      "model_module_version": "2.0.0",
      "model_name": "HBoxModel",
      "state": {
       "children": [
        "IPY_MODEL_057dc6d000e348da89e4d85df5e23439",
        "IPY_MODEL_9de911da93f4471da9f012dbf0f528f7",
        "IPY_MODEL_775f2c0a32484fa6bf2907b850fd67a6"
       ],
       "layout": "IPY_MODEL_d96cde11175943f3867f6cd83bee98da"
      }
     },
     "e76bd5727e99472cb79313c06266f0d7": {
      "model_module": "@jupyter-widgets/base",
      "model_module_version": "2.0.0",
      "model_name": "LayoutModel",
      "state": {
       "flex": "2"
      }
     },
     "e774efe0018c455c86d1fa2a6860407c": {
      "model_module": "@jupyter-widgets/base",
      "model_module_version": "2.0.0",
      "model_name": "LayoutModel",
      "state": {
       "flex": "2"
      }
     },
     "e77dfa66399440ebafa62b3e8744babd": {
      "model_module": "@jupyter-widgets/controls",
      "model_module_version": "2.0.0",
      "model_name": "HTMLStyleModel",
      "state": {
       "description_width": "",
       "font_size": null,
       "text_color": null
      }
     },
     "e7d41b161c9c49b9bf983d5add948ae7": {
      "model_module": "@jupyter-widgets/base",
      "model_module_version": "2.0.0",
      "model_name": "LayoutModel",
      "state": {
       "display": "inline-flex",
       "flex_flow": "row wrap",
       "visibility": "hidden",
       "width": "100%"
      }
     },
     "e7ef1e1f325f4373afebf61c1fb22302": {
      "model_module": "@jupyter-widgets/base",
      "model_module_version": "2.0.0",
      "model_name": "LayoutModel",
      "state": {}
     },
     "e7f9d4536d8948d5a64d30ac09173ec0": {
      "model_module": "@jupyter-widgets/base",
      "model_module_version": "2.0.0",
      "model_name": "LayoutModel",
      "state": {
       "display": "inline-flex",
       "flex_flow": "row wrap",
       "visibility": "hidden",
       "width": "100%"
      }
     },
     "e811fe8310c44f978741768fa4ece0f6": {
      "model_module": "@jupyter-widgets/controls",
      "model_module_version": "2.0.0",
      "model_name": "HTMLStyleModel",
      "state": {
       "description_width": "",
       "font_size": null,
       "text_color": null
      }
     },
     "e84ca43e3cd640c08c4c26752e5e7b41": {
      "model_module": "@jupyter-widgets/controls",
      "model_module_version": "2.0.0",
      "model_name": "HTMLModel",
      "state": {
       "layout": "IPY_MODEL_9588712b1101470f98e2e1975a1700c7",
       "style": "IPY_MODEL_1392160ae7af429dabac7fe66484c93a",
       "value": "Validation DataLoader 0: 100%"
      }
     },
     "e84d5b5bc207495aae827443aaffaf1b": {
      "model_module": "@jupyter-widgets/base",
      "model_module_version": "2.0.0",
      "model_name": "LayoutModel",
      "state": {}
     },
     "e869d2cb95c045108d9e87bd52f64c28": {
      "model_module": "@jupyter-widgets/base",
      "model_module_version": "2.0.0",
      "model_name": "LayoutModel",
      "state": {
       "flex": "2"
      }
     },
     "e8aba37037c04aed837793f7fd5e477b": {
      "model_module": "@jupyter-widgets/base",
      "model_module_version": "2.0.0",
      "model_name": "LayoutModel",
      "state": {}
     },
     "e8ae105eb81c42f5ac92001afef34d96": {
      "model_module": "@jupyter-widgets/controls",
      "model_module_version": "2.0.0",
      "model_name": "FloatProgressModel",
      "state": {
       "layout": "IPY_MODEL_0747f743de704fa8b6c8cbbb465d7f47",
       "max": 2,
       "style": "IPY_MODEL_742683b2c05144338528763ae2e6fe94",
       "value": 2
      }
     },
     "e8ae7ea45501498692570df4169fb12a": {
      "model_module": "@jupyter-widgets/base",
      "model_module_version": "2.0.0",
      "model_name": "LayoutModel",
      "state": {
       "display": "inline-flex",
       "flex_flow": "row wrap",
       "visibility": "hidden",
       "width": "100%"
      }
     },
     "e8ba5f1082574c2eb0d316909bf32884": {
      "model_module": "@jupyter-widgets/controls",
      "model_module_version": "2.0.0",
      "model_name": "ProgressStyleModel",
      "state": {
       "description_width": ""
      }
     },
     "e8fa8c4cae9f42d4b65e6df785ac2c6f": {
      "model_module": "@jupyter-widgets/base",
      "model_module_version": "2.0.0",
      "model_name": "LayoutModel",
      "state": {
       "flex": "2"
      }
     },
     "e90821cdbc034ddc9c9f274b3fa62257": {
      "model_module": "@jupyter-widgets/controls",
      "model_module_version": "2.0.0",
      "model_name": "HTMLModel",
      "state": {
       "layout": "IPY_MODEL_f679b8ad84e140fb962f7fec06c9a0c7",
       "style": "IPY_MODEL_8bb1a4111c184f038ab3ca398f54d85f",
       "value": "Validation DataLoader 0: 100%"
      }
     },
     "e9188b44b1b54a9e8332ec9650c600fd": {
      "model_module": "@jupyter-widgets/controls",
      "model_module_version": "2.0.0",
      "model_name": "HTMLStyleModel",
      "state": {
       "description_width": "",
       "font_size": null,
       "text_color": null
      }
     },
     "e919da5400c148e6b01a5cb73f1b6b3c": {
      "model_module": "@jupyter-widgets/controls",
      "model_module_version": "2.0.0",
      "model_name": "HTMLStyleModel",
      "state": {
       "description_width": "",
       "font_size": null,
       "text_color": null
      }
     },
     "e92e1d8da9c449479c18c2c5466584a2": {
      "model_module": "@jupyter-widgets/base",
      "model_module_version": "2.0.0",
      "model_name": "LayoutModel",
      "state": {
       "display": "inline-flex",
       "flex_flow": "row wrap",
       "visibility": "hidden",
       "width": "100%"
      }
     },
     "e94c5c2cbbe84273b849a2b0f7a29a95": {
      "model_module": "@jupyter-widgets/controls",
      "model_module_version": "2.0.0",
      "model_name": "FloatProgressModel",
      "state": {
       "layout": "IPY_MODEL_b4b17a20e77d49eca0870493fe856753",
       "max": 58,
       "style": "IPY_MODEL_67aa4091e5fb4f118bec40967966a7eb",
       "value": 58
      }
     },
     "e975548410524e0aa792b3cbb1ed9c2e": {
      "model_module": "@jupyter-widgets/controls",
      "model_module_version": "2.0.0",
      "model_name": "HTMLModel",
      "state": {
       "layout": "IPY_MODEL_e466189e0c38436cae8001a1f398f3fb",
       "style": "IPY_MODEL_2dcc330b09954f58a4f2ea361ca75f46",
       "value": "Validation DataLoader 0: 100%"
      }
     },
     "e9a2fb2a193d4854b43ba015deb3b884": {
      "model_module": "@jupyter-widgets/controls",
      "model_module_version": "2.0.0",
      "model_name": "HTMLStyleModel",
      "state": {
       "description_width": "",
       "font_size": null,
       "text_color": null
      }
     },
     "e9c807a7383741d4a33c2fa138867566": {
      "model_module": "@jupyter-widgets/controls",
      "model_module_version": "2.0.0",
      "model_name": "HTMLModel",
      "state": {
       "layout": "IPY_MODEL_92d835a44f6146cc9d56055fddc5a02b",
       "style": "IPY_MODEL_90b53d87069b4a06b4519148e7397732",
       "value": "Validation DataLoader 0: 100%"
      }
     },
     "e9d49c50561d47d1a836c381da52b2ec": {
      "model_module": "@jupyter-widgets/controls",
      "model_module_version": "2.0.0",
      "model_name": "HTMLStyleModel",
      "state": {
       "description_width": "",
       "font_size": null,
       "text_color": null
      }
     },
     "e9e22c7c043647cc917e786afc4dcf32": {
      "model_module": "@jupyter-widgets/controls",
      "model_module_version": "2.0.0",
      "model_name": "HTMLStyleModel",
      "state": {
       "description_width": "",
       "font_size": null,
       "text_color": null
      }
     },
     "ea027127d68c4557b4a6a800ee230ec5": {
      "model_module": "@jupyter-widgets/controls",
      "model_module_version": "2.0.0",
      "model_name": "HTMLModel",
      "state": {
       "layout": "IPY_MODEL_7e33ee9b09ec4c1fb027b30afdbd1d42",
       "style": "IPY_MODEL_cbf58fa3ff4f42eab21d7036a5f13a83",
       "value": " 58/58 [00:02&lt;00:00, 28.49it/s]"
      }
     },
     "ea59efc668f241158b265e4496cd5cfa": {
      "model_module": "@jupyter-widgets/base",
      "model_module_version": "2.0.0",
      "model_name": "LayoutModel",
      "state": {}
     },
     "ea6b80a87fb04597b9ec924cd5361594": {
      "model_module": "@jupyter-widgets/base",
      "model_module_version": "2.0.0",
      "model_name": "LayoutModel",
      "state": {}
     },
     "ea81b0f8d95c41f4bc8e057c9dea7c2b": {
      "model_module": "@jupyter-widgets/controls",
      "model_module_version": "2.0.0",
      "model_name": "FloatProgressModel",
      "state": {
       "layout": "IPY_MODEL_d150c0cab6ae49f394731e092b9f1b98",
       "max": 58,
       "style": "IPY_MODEL_c8e82a2900b340a495cf389977127bb0",
       "value": 58
      }
     },
     "ea8e30f59c414d22a6ffa0ea2f49a4b8": {
      "model_module": "@jupyter-widgets/controls",
      "model_module_version": "2.0.0",
      "model_name": "ProgressStyleModel",
      "state": {
       "description_width": ""
      }
     },
     "eac11d9228444183ac17d1376285dac1": {
      "model_module": "@jupyter-widgets/base",
      "model_module_version": "2.0.0",
      "model_name": "LayoutModel",
      "state": {
       "display": "inline-flex",
       "flex_flow": "row wrap",
       "visibility": "hidden",
       "width": "100%"
      }
     },
     "eb1551cf3a4b4acdbcd1f658dafd273e": {
      "model_module": "@jupyter-widgets/controls",
      "model_module_version": "2.0.0",
      "model_name": "HTMLModel",
      "state": {
       "layout": "IPY_MODEL_57d56f8443674404a63c6818b0bd185c",
       "style": "IPY_MODEL_04ad80d37b4540828ded990a483c3823",
       "value": " 58/58 [00:02&lt;00:00, 25.49it/s]"
      }
     },
     "eb2cf236f0e049a2bf064d96f35cb08d": {
      "model_module": "@jupyter-widgets/base",
      "model_module_version": "2.0.0",
      "model_name": "LayoutModel",
      "state": {}
     },
     "eb2f68a52f4842e9bafe79a300a16d59": {
      "model_module": "@jupyter-widgets/base",
      "model_module_version": "2.0.0",
      "model_name": "LayoutModel",
      "state": {
       "display": "inline-flex",
       "flex_flow": "row wrap",
       "visibility": "hidden",
       "width": "100%"
      }
     },
     "eb52bb378b4c49cfa2d21ad29167bd80": {
      "model_module": "@jupyter-widgets/controls",
      "model_module_version": "2.0.0",
      "model_name": "FloatProgressModel",
      "state": {
       "layout": "IPY_MODEL_9362b0de0fcd497d9df085b8014f0c85",
       "max": 58,
       "style": "IPY_MODEL_46270965a1494fcbace8ab32c87eee6c",
       "value": 58
      }
     },
     "eb7b5f0d957f4ef5b1bee9a453757893": {
      "model_module": "@jupyter-widgets/controls",
      "model_module_version": "2.0.0",
      "model_name": "HTMLModel",
      "state": {
       "layout": "IPY_MODEL_577140def0ae4109b72d91fe3a893997",
       "style": "IPY_MODEL_af9af9a8d4dc4d77a821508a6edfa628",
       "value": " 58/58 [00:02&lt;00:00, 26.97it/s]"
      }
     },
     "eb8e7a65d7b24a4c9ddbe965ecc5795d": {
      "model_module": "@jupyter-widgets/controls",
      "model_module_version": "2.0.0",
      "model_name": "HTMLStyleModel",
      "state": {
       "description_width": "",
       "font_size": null,
       "text_color": null
      }
     },
     "eba13fa88e6747ec85bb102facfb273c": {
      "model_module": "@jupyter-widgets/controls",
      "model_module_version": "2.0.0",
      "model_name": "HTMLStyleModel",
      "state": {
       "description_width": "",
       "font_size": null,
       "text_color": null
      }
     },
     "ebaaeb48c8ff48a1b4a48d8c1e8349cd": {
      "model_module": "@jupyter-widgets/controls",
      "model_module_version": "2.0.0",
      "model_name": "ProgressStyleModel",
      "state": {
       "description_width": ""
      }
     },
     "ebbeca77d3f04c079ee5221ff1abcee2": {
      "model_module": "@jupyter-widgets/controls",
      "model_module_version": "2.0.0",
      "model_name": "HTMLStyleModel",
      "state": {
       "description_width": "",
       "font_size": null,
       "text_color": null
      }
     },
     "ebc1700518554d7196834dfad6868de5": {
      "model_module": "@jupyter-widgets/controls",
      "model_module_version": "2.0.0",
      "model_name": "HTMLModel",
      "state": {
       "layout": "IPY_MODEL_b1afac65dede44bb9f60195ae6f41a5a",
       "style": "IPY_MODEL_af28557833544fcfb1773399020c3833",
       "value": " 58/58 [00:02&lt;00:00, 25.47it/s]"
      }
     },
     "ebc9d5e588d64414928396a1c2545cb3": {
      "model_module": "@jupyter-widgets/controls",
      "model_module_version": "2.0.0",
      "model_name": "HTMLStyleModel",
      "state": {
       "description_width": "",
       "font_size": null,
       "text_color": null
      }
     },
     "ec144a261f5c4a2da5f37e804bc9c2b9": {
      "model_module": "@jupyter-widgets/controls",
      "model_module_version": "2.0.0",
      "model_name": "HTMLModel",
      "state": {
       "layout": "IPY_MODEL_cc540c952a88465f8cf66cfcfcbafb79",
       "style": "IPY_MODEL_5beda9845de04749807f9ee6a49b6262",
       "value": "Validation DataLoader 0: 100%"
      }
     },
     "ec1efbfe53044c49868f1f966816c7cc": {
      "model_module": "@jupyter-widgets/controls",
      "model_module_version": "2.0.0",
      "model_name": "HTMLStyleModel",
      "state": {
       "description_width": "",
       "font_size": null,
       "text_color": null
      }
     },
     "ec5bbcb8f2c74a54b3aed1ea53be4db6": {
      "model_module": "@jupyter-widgets/controls",
      "model_module_version": "2.0.0",
      "model_name": "FloatProgressModel",
      "state": {
       "layout": "IPY_MODEL_9ca2a8c5803d4aa28e419e0ece2a0383",
       "max": 58,
       "style": "IPY_MODEL_2e1ebbded34842d3a76c1c0f37f8b502",
       "value": 58
      }
     },
     "ecbce95002674f1fb05a24df9eb42f54": {
      "model_module": "@jupyter-widgets/base",
      "model_module_version": "2.0.0",
      "model_name": "LayoutModel",
      "state": {
       "display": "inline-flex",
       "flex_flow": "row wrap",
       "visibility": "hidden",
       "width": "100%"
      }
     },
     "ece2200098c84615b6183dd8d5c29ddf": {
      "model_module": "@jupyter-widgets/controls",
      "model_module_version": "2.0.0",
      "model_name": "HTMLModel",
      "state": {
       "layout": "IPY_MODEL_a00161aff1ec46afb4c05602cf526fc1",
       "style": "IPY_MODEL_d535dd74c7eb452893e9016cd7e1c2f1",
       "value": "Validation DataLoader 0: 100%"
      }
     },
     "ed3204a074d24597a6feb5ba9f5868cd": {
      "model_module": "@jupyter-widgets/controls",
      "model_module_version": "2.0.0",
      "model_name": "ProgressStyleModel",
      "state": {
       "description_width": ""
      }
     },
     "ed48d181692348d7aa617c8deb6f9ef5": {
      "model_module": "@jupyter-widgets/base",
      "model_module_version": "2.0.0",
      "model_name": "LayoutModel",
      "state": {
       "flex": "2"
      }
     },
     "ed7c399dd1dc473db43a39ba30121330": {
      "model_module": "@jupyter-widgets/base",
      "model_module_version": "2.0.0",
      "model_name": "LayoutModel",
      "state": {
       "display": "inline-flex",
       "flex_flow": "row wrap",
       "visibility": "hidden",
       "width": "100%"
      }
     },
     "ed7e2708043b4785b061094b86a9457d": {
      "model_module": "@jupyter-widgets/controls",
      "model_module_version": "2.0.0",
      "model_name": "FloatProgressModel",
      "state": {
       "layout": "IPY_MODEL_0e1e6f9ea15042bab10b0f0f82b22bf8",
       "max": 58,
       "style": "IPY_MODEL_1e28f900c41b46f8bdbe6f2c873eea63",
       "value": 58
      }
     },
     "ed84567c1a874c98b7ed54aa8b0fbbd7": {
      "model_module": "@jupyter-widgets/controls",
      "model_module_version": "2.0.0",
      "model_name": "HTMLStyleModel",
      "state": {
       "description_width": "",
       "font_size": null,
       "text_color": null
      }
     },
     "eda410bacab14749842953aff95cbff2": {
      "model_module": "@jupyter-widgets/base",
      "model_module_version": "2.0.0",
      "model_name": "LayoutModel",
      "state": {}
     },
     "ee0835d491154029944992116a62cbf9": {
      "model_module": "@jupyter-widgets/base",
      "model_module_version": "2.0.0",
      "model_name": "LayoutModel",
      "state": {
       "flex": "2"
      }
     },
     "ee56f317121f4efd8a25781c9dd5496b": {
      "model_module": "@jupyter-widgets/controls",
      "model_module_version": "2.0.0",
      "model_name": "HTMLStyleModel",
      "state": {
       "description_width": "",
       "font_size": null,
       "text_color": null
      }
     },
     "ee579eeea5a4464f94ded4bb1ecc8695": {
      "model_module": "@jupyter-widgets/base",
      "model_module_version": "2.0.0",
      "model_name": "LayoutModel",
      "state": {
       "display": "inline-flex",
       "flex_flow": "row wrap",
       "visibility": "hidden",
       "width": "100%"
      }
     },
     "ee7db566c5984ac89df3da7a25b43547": {
      "model_module": "@jupyter-widgets/controls",
      "model_module_version": "2.0.0",
      "model_name": "HTMLModel",
      "state": {
       "layout": "IPY_MODEL_704f258ec0554ca68f2e0a82758ebd37",
       "style": "IPY_MODEL_e9e22c7c043647cc917e786afc4dcf32",
       "value": " 58/58 [00:02&lt;00:00, 25.58it/s]"
      }
     },
     "ee8ce0109482455fa9591b73f9c862ee": {
      "model_module": "@jupyter-widgets/controls",
      "model_module_version": "2.0.0",
      "model_name": "HTMLStyleModel",
      "state": {
       "description_width": "",
       "font_size": null,
       "text_color": null
      }
     },
     "ee8d892e781b47be97f18dddb8318ff8": {
      "model_module": "@jupyter-widgets/base",
      "model_module_version": "2.0.0",
      "model_name": "LayoutModel",
      "state": {}
     },
     "ee9111c7cf77434aaff137af12479253": {
      "model_module": "@jupyter-widgets/controls",
      "model_module_version": "2.0.0",
      "model_name": "HTMLStyleModel",
      "state": {
       "description_width": "",
       "font_size": null,
       "text_color": null
      }
     },
     "eeb007b09449434d94788d16ee01ba1d": {
      "model_module": "@jupyter-widgets/controls",
      "model_module_version": "2.0.0",
      "model_name": "HTMLStyleModel",
      "state": {
       "description_width": "",
       "font_size": null,
       "text_color": null
      }
     },
     "eecc5467c9854e9096f7bc83956da750": {
      "model_module": "@jupyter-widgets/base",
      "model_module_version": "2.0.0",
      "model_name": "LayoutModel",
      "state": {
       "flex": "2"
      }
     },
     "eee1e5eb17884f2283127a04a6c33ab2": {
      "model_module": "@jupyter-widgets/controls",
      "model_module_version": "2.0.0",
      "model_name": "HTMLStyleModel",
      "state": {
       "description_width": "",
       "font_size": null,
       "text_color": null
      }
     },
     "eee92c08b9704586b97a97a74e892333": {
      "model_module": "@jupyter-widgets/base",
      "model_module_version": "2.0.0",
      "model_name": "LayoutModel",
      "state": {}
     },
     "eef7264dabfd4db7a740a06e681a0bb7": {
      "model_module": "@jupyter-widgets/controls",
      "model_module_version": "2.0.0",
      "model_name": "ProgressStyleModel",
      "state": {
       "description_width": ""
      }
     },
     "ef43c3a4505541b2b050f3c6bbbeabc1": {
      "model_module": "@jupyter-widgets/base",
      "model_module_version": "2.0.0",
      "model_name": "LayoutModel",
      "state": {}
     },
     "ef5a1e40481d4f6d989c703d023374be": {
      "model_module": "@jupyter-widgets/base",
      "model_module_version": "2.0.0",
      "model_name": "LayoutModel",
      "state": {
       "display": "inline-flex",
       "flex_flow": "row wrap",
       "visibility": "hidden",
       "width": "100%"
      }
     },
     "ef743a6be35f4800a7a8937b86348a98": {
      "model_module": "@jupyter-widgets/base",
      "model_module_version": "2.0.0",
      "model_name": "LayoutModel",
      "state": {
       "display": "inline-flex",
       "flex_flow": "row wrap",
       "visibility": "hidden",
       "width": "100%"
      }
     },
     "ef7ceefc0ac4402fa462eaeeaca88d6f": {
      "model_module": "@jupyter-widgets/controls",
      "model_module_version": "2.0.0",
      "model_name": "HTMLStyleModel",
      "state": {
       "description_width": "",
       "font_size": null,
       "text_color": null
      }
     },
     "ef8697f9689d4eabbd4211254936d408": {
      "model_module": "@jupyter-widgets/controls",
      "model_module_version": "2.0.0",
      "model_name": "HTMLStyleModel",
      "state": {
       "description_width": "",
       "font_size": null,
       "text_color": null
      }
     },
     "efa29a2f548f4b0e94d71f9b3e14541d": {
      "model_module": "@jupyter-widgets/controls",
      "model_module_version": "2.0.0",
      "model_name": "HTMLModel",
      "state": {
       "layout": "IPY_MODEL_0c038a3d7c5c48f982782251b7209598",
       "style": "IPY_MODEL_d61dcd1c36f349208425704340c4a22d",
       "value": " 58/58 [00:02&lt;00:00, 25.65it/s]"
      }
     },
     "efa6f1a54e264615ba58d2976cca7970": {
      "model_module": "@jupyter-widgets/base",
      "model_module_version": "2.0.0",
      "model_name": "LayoutModel",
      "state": {}
     },
     "efd3bf94714a4488804ba33879f17313": {
      "model_module": "@jupyter-widgets/controls",
      "model_module_version": "2.0.0",
      "model_name": "FloatProgressModel",
      "state": {
       "layout": "IPY_MODEL_35f5845a4fb74ec4a83884c95b8f0bae",
       "max": 58,
       "style": "IPY_MODEL_241a2a28206d456d8211551af9d007b7",
       "value": 58
      }
     },
     "efe2808849e345a6a9b243726444d22e": {
      "model_module": "@jupyter-widgets/base",
      "model_module_version": "2.0.0",
      "model_name": "LayoutModel",
      "state": {}
     },
     "f026036e0bb94aad9dbb9ba1e66db520": {
      "model_module": "@jupyter-widgets/controls",
      "model_module_version": "2.0.0",
      "model_name": "HTMLStyleModel",
      "state": {
       "description_width": "",
       "font_size": null,
       "text_color": null
      }
     },
     "f0303a05cbdf4d2998e3d27587291af9": {
      "model_module": "@jupyter-widgets/controls",
      "model_module_version": "2.0.0",
      "model_name": "HTMLModel",
      "state": {
       "layout": "IPY_MODEL_ca3f4c80b30a48459ad907469fd1e36f",
       "style": "IPY_MODEL_ee8ce0109482455fa9591b73f9c862ee",
       "value": "Validation DataLoader 0: 100%"
      }
     },
     "f0315b02ab1d4b60bf404c00a6881897": {
      "model_module": "@jupyter-widgets/controls",
      "model_module_version": "2.0.0",
      "model_name": "HTMLStyleModel",
      "state": {
       "description_width": "",
       "font_size": null,
       "text_color": null
      }
     },
     "f03e3f14b7bc4ae0bc8981ac79b36c8a": {
      "model_module": "@jupyter-widgets/base",
      "model_module_version": "2.0.0",
      "model_name": "LayoutModel",
      "state": {
       "display": "inline-flex",
       "flex_flow": "row wrap",
       "visibility": "hidden",
       "width": "100%"
      }
     },
     "f07b0eb0a1214d938127dd96ec9fa795": {
      "model_module": "@jupyter-widgets/controls",
      "model_module_version": "2.0.0",
      "model_name": "HTMLModel",
      "state": {
       "layout": "IPY_MODEL_d18253282ad94d208f63b764e101dc1c",
       "style": "IPY_MODEL_eb8e7a65d7b24a4c9ddbe965ecc5795d",
       "value": " 58/58 [00:02&lt;00:00, 26.96it/s]"
      }
     },
     "f0a51ec967294c6fb586e8323ce21f4b": {
      "model_module": "@jupyter-widgets/base",
      "model_module_version": "2.0.0",
      "model_name": "LayoutModel",
      "state": {}
     },
     "f0b3015bbd3d48a68a053360a9a49033": {
      "model_module": "@jupyter-widgets/controls",
      "model_module_version": "2.0.0",
      "model_name": "HTMLStyleModel",
      "state": {
       "description_width": "",
       "font_size": null,
       "text_color": null
      }
     },
     "f0eadd3df1184b21b6d6f44c1fe5d9ca": {
      "model_module": "@jupyter-widgets/controls",
      "model_module_version": "2.0.0",
      "model_name": "FloatProgressModel",
      "state": {
       "layout": "IPY_MODEL_d4b984eb4cca4e41aa406d0f527c9ae6",
       "max": 58,
       "style": "IPY_MODEL_f8c5237a04b34cdf9b139a4565643a7e",
       "value": 58
      }
     },
     "f103f7c6a670441799134a8a02f69c2c": {
      "model_module": "@jupyter-widgets/base",
      "model_module_version": "2.0.0",
      "model_name": "LayoutModel",
      "state": {
       "flex": "2"
      }
     },
     "f10a95faf0974d1e8d5a9489bac30f8b": {
      "model_module": "@jupyter-widgets/base",
      "model_module_version": "2.0.0",
      "model_name": "LayoutModel",
      "state": {}
     },
     "f11a4af57e004489ad126ebc63a2fbd8": {
      "model_module": "@jupyter-widgets/controls",
      "model_module_version": "2.0.0",
      "model_name": "HTMLStyleModel",
      "state": {
       "description_width": "",
       "font_size": null,
       "text_color": null
      }
     },
     "f19da12096bd4aa9b6c9bfc1077a8d4e": {
      "model_module": "@jupyter-widgets/controls",
      "model_module_version": "2.0.0",
      "model_name": "HTMLModel",
      "state": {
       "layout": "IPY_MODEL_025feba3d2734735b8d850997a9b2a5b",
       "style": "IPY_MODEL_66c3c496c3814e8f845ff32336513f14",
       "value": "Validation DataLoader 0: 100%"
      }
     },
     "f1e4e20f4b08446694fab7d10a2c9347": {
      "model_module": "@jupyter-widgets/controls",
      "model_module_version": "2.0.0",
      "model_name": "HTMLStyleModel",
      "state": {
       "description_width": "",
       "font_size": null,
       "text_color": null
      }
     },
     "f20afc294c1742a09a765e65acfa6be1": {
      "model_module": "@jupyter-widgets/base",
      "model_module_version": "2.0.0",
      "model_name": "LayoutModel",
      "state": {}
     },
     "f21fca8cc5d14f47bfbfec1350f2f175": {
      "model_module": "@jupyter-widgets/controls",
      "model_module_version": "2.0.0",
      "model_name": "HTMLModel",
      "state": {
       "layout": "IPY_MODEL_6e1ac558142e4345a35a17cc0d805434",
       "style": "IPY_MODEL_aff0373c4b1f4377a4a0479acc6170a8",
       "value": "Validation DataLoader 0: 100%"
      }
     },
     "f29452a41be9464f839e47820e74b48f": {
      "model_module": "@jupyter-widgets/controls",
      "model_module_version": "2.0.0",
      "model_name": "HTMLStyleModel",
      "state": {
       "description_width": "",
       "font_size": null,
       "text_color": null
      }
     },
     "f2ab66b30f3d4a0baaa014bd04018435": {
      "model_module": "@jupyter-widgets/base",
      "model_module_version": "2.0.0",
      "model_name": "LayoutModel",
      "state": {
       "display": "inline-flex",
       "flex_flow": "row wrap",
       "visibility": "hidden",
       "width": "100%"
      }
     },
     "f2effb63d7724716ace38175cbc09718": {
      "model_module": "@jupyter-widgets/controls",
      "model_module_version": "2.0.0",
      "model_name": "HTMLModel",
      "state": {
       "layout": "IPY_MODEL_c848eb8b519a4bdc89f12bb0bc3790ca",
       "style": "IPY_MODEL_850b9ff633204c62a7291c8de3707a73",
       "value": " 58/58 [00:02&lt;00:00, 25.62it/s]"
      }
     },
     "f2fbee6acfac4535beb86a93edf26af2": {
      "model_module": "@jupyter-widgets/base",
      "model_module_version": "2.0.0",
      "model_name": "LayoutModel",
      "state": {}
     },
     "f30a2281d6414ff8ac2b475cc24456b5": {
      "model_module": "@jupyter-widgets/base",
      "model_module_version": "2.0.0",
      "model_name": "LayoutModel",
      "state": {
       "display": "inline-flex",
       "flex_flow": "row wrap",
       "visibility": "hidden",
       "width": "100%"
      }
     },
     "f342f22a72a34ddeadb0659a5aba793c": {
      "model_module": "@jupyter-widgets/controls",
      "model_module_version": "2.0.0",
      "model_name": "HTMLStyleModel",
      "state": {
       "description_width": "",
       "font_size": null,
       "text_color": null
      }
     },
     "f348c48380b54ba1bed1b807b937e35b": {
      "model_module": "@jupyter-widgets/base",
      "model_module_version": "2.0.0",
      "model_name": "LayoutModel",
      "state": {
       "flex": "2"
      }
     },
     "f362309f693245ecab819415e22382ee": {
      "model_module": "@jupyter-widgets/base",
      "model_module_version": "2.0.0",
      "model_name": "LayoutModel",
      "state": {}
     },
     "f37ebc3289c749fe86dd31fbeed7bc00": {
      "model_module": "@jupyter-widgets/controls",
      "model_module_version": "2.0.0",
      "model_name": "HTMLModel",
      "state": {
       "layout": "IPY_MODEL_5d7673f875cc42b29aadd48aa17d3b36",
       "style": "IPY_MODEL_68946b025db948f986766ab8fe75adee",
       "value": " 58/58 [00:02&lt;00:00, 25.59it/s]"
      }
     },
     "f3a1c68b3ed74db08a2ceac887b858c2": {
      "model_module": "@jupyter-widgets/controls",
      "model_module_version": "2.0.0",
      "model_name": "HTMLModel",
      "state": {
       "layout": "IPY_MODEL_2df4db81bf934ff48b581b1e98d4a416",
       "style": "IPY_MODEL_d5e588109942497c8f1f5e1814b2d0db",
       "value": "Validation DataLoader 0: 100%"
      }
     },
     "f3b464f06670467c8ae536ab00a4e1ab": {
      "model_module": "@jupyter-widgets/controls",
      "model_module_version": "2.0.0",
      "model_name": "FloatProgressModel",
      "state": {
       "layout": "IPY_MODEL_995aea40ba894c19838ebe2793442e8e",
       "max": 58,
       "style": "IPY_MODEL_503984a6560b4b4099d732599ccc1a8d",
       "value": 58
      }
     },
     "f3dd2b8861df4558add52e16c3344c4e": {
      "model_module": "@jupyter-widgets/controls",
      "model_module_version": "2.0.0",
      "model_name": "HTMLModel",
      "state": {
       "layout": "IPY_MODEL_765eba89a50c4c8dbccaa6edec54cd84",
       "style": "IPY_MODEL_185aab1ca9df4647a51f0b46f51bfe73",
       "value": "Sanity Checking DataLoader 0: 100%"
      }
     },
     "f3fd2030af8c45f68dd1c1560efe3677": {
      "model_module": "@jupyter-widgets/controls",
      "model_module_version": "2.0.0",
      "model_name": "FloatProgressModel",
      "state": {
       "layout": "IPY_MODEL_03bb2916aaa943e6be975bf512e92c48",
       "max": 58,
       "style": "IPY_MODEL_93e567f9624e4bac87a085b016d07057",
       "value": 58
      }
     },
     "f4531146f89540a8b4ae7fdd0329253f": {
      "model_module": "@jupyter-widgets/controls",
      "model_module_version": "2.0.0",
      "model_name": "HTMLModel",
      "state": {
       "layout": "IPY_MODEL_32137e69fe214530a8b6f5e7ff38f25c",
       "style": "IPY_MODEL_9602d4625fbc4c3aa93a8acc578df73b",
       "value": "Validation DataLoader 0: 100%"
      }
     },
     "f46847514a5c4be7a91065090473ce5d": {
      "model_module": "@jupyter-widgets/controls",
      "model_module_version": "2.0.0",
      "model_name": "HTMLModel",
      "state": {
       "layout": "IPY_MODEL_bbdae6712bd641608d848278e382e812",
       "style": "IPY_MODEL_2d1e6fc0113448a993a86d3a93f9640b",
       "value": " 58/58 [00:02&lt;00:00, 27.34it/s]"
      }
     },
     "f470d9600e1f49039e316e8b4fa0a0f1": {
      "model_module": "@jupyter-widgets/base",
      "model_module_version": "2.0.0",
      "model_name": "LayoutModel",
      "state": {}
     },
     "f48b99b46e3944feb1132e01bb16a2df": {
      "model_module": "@jupyter-widgets/controls",
      "model_module_version": "2.0.0",
      "model_name": "HTMLStyleModel",
      "state": {
       "description_width": "",
       "font_size": null,
       "text_color": null
      }
     },
     "f4ad66cc20374573bfdc4eaffa185f62": {
      "model_module": "@jupyter-widgets/base",
      "model_module_version": "2.0.0",
      "model_name": "LayoutModel",
      "state": {
       "display": "inline-flex",
       "flex_flow": "row wrap",
       "visibility": "hidden",
       "width": "100%"
      }
     },
     "f4c2f4d1c61144029cad1729ed0c43f4": {
      "model_module": "@jupyter-widgets/controls",
      "model_module_version": "2.0.0",
      "model_name": "HTMLStyleModel",
      "state": {
       "description_width": "",
       "font_size": null,
       "text_color": null
      }
     },
     "f518d320bbc748b2bd2667d0b83e9bb7": {
      "model_module": "@jupyter-widgets/controls",
      "model_module_version": "2.0.0",
      "model_name": "HTMLStyleModel",
      "state": {
       "description_width": "",
       "font_size": null,
       "text_color": null
      }
     },
     "f519098f1c5a480b8a16d445916ec993": {
      "model_module": "@jupyter-widgets/controls",
      "model_module_version": "2.0.0",
      "model_name": "HTMLModel",
      "state": {
       "layout": "IPY_MODEL_76741c22765149fd9d262f6edd1e9cac",
       "style": "IPY_MODEL_d4b92dc48ca646498061f1a12f89f41d",
       "value": " 58/58 [00:02&lt;00:00, 27.84it/s]"
      }
     },
     "f523a05b40a749c0af0194e6f7e1312f": {
      "model_module": "@jupyter-widgets/controls",
      "model_module_version": "2.0.0",
      "model_name": "FloatProgressModel",
      "state": {
       "layout": "IPY_MODEL_1ea9b606d5644da88f40557829e84085",
       "max": 58,
       "style": "IPY_MODEL_dea88816330e4e398f7703353ddfb70f",
       "value": 58
      }
     },
     "f528059b729e45399e68dcda9833f4c0": {
      "model_module": "@jupyter-widgets/controls",
      "model_module_version": "2.0.0",
      "model_name": "FloatProgressModel",
      "state": {
       "layout": "IPY_MODEL_a6bac52d3fab4b61b4aeee921476ece8",
       "max": 58,
       "style": "IPY_MODEL_a5092fa4e56e415a9e622fdb76a42ae9",
       "value": 58
      }
     },
     "f565caf0c7cb4626abb3a5e67d8b19f1": {
      "model_module": "@jupyter-widgets/base",
      "model_module_version": "2.0.0",
      "model_name": "LayoutModel",
      "state": {
       "display": "inline-flex",
       "flex_flow": "row wrap",
       "visibility": "hidden",
       "width": "100%"
      }
     },
     "f5693cdbe7d14bee86de0faa7347f1ea": {
      "model_module": "@jupyter-widgets/base",
      "model_module_version": "2.0.0",
      "model_name": "LayoutModel",
      "state": {
       "flex": "2"
      }
     },
     "f56afaa5df424f20a082742ba3968525": {
      "model_module": "@jupyter-widgets/controls",
      "model_module_version": "2.0.0",
      "model_name": "ProgressStyleModel",
      "state": {
       "description_width": ""
      }
     },
     "f57118302c8a447292bdc07654ea79d6": {
      "model_module": "@jupyter-widgets/controls",
      "model_module_version": "2.0.0",
      "model_name": "HTMLStyleModel",
      "state": {
       "description_width": "",
       "font_size": null,
       "text_color": null
      }
     },
     "f5a15f676c794230bd85c77d121fe358": {
      "model_module": "@jupyter-widgets/controls",
      "model_module_version": "2.0.0",
      "model_name": "FloatProgressModel",
      "state": {
       "layout": "IPY_MODEL_15dbc8d926874a7a8f35730fdac703c8",
       "max": 58,
       "style": "IPY_MODEL_cd95da02648d42e096f29856f3087a3f",
       "value": 58
      }
     },
     "f5b0fad64c9640eb9d5d3e343bd22238": {
      "model_module": "@jupyter-widgets/base",
      "model_module_version": "2.0.0",
      "model_name": "LayoutModel",
      "state": {
       "display": "inline-flex",
       "flex_flow": "row wrap",
       "visibility": "hidden",
       "width": "100%"
      }
     },
     "f5ef632790c04672b4c72072b2dd46a2": {
      "model_module": "@jupyter-widgets/base",
      "model_module_version": "2.0.0",
      "model_name": "LayoutModel",
      "state": {}
     },
     "f6141fcd7774443fb2dc11b005add052": {
      "model_module": "@jupyter-widgets/controls",
      "model_module_version": "2.0.0",
      "model_name": "FloatProgressModel",
      "state": {
       "layout": "IPY_MODEL_d14098b16e08400fa168a7703c937120",
       "max": 58,
       "style": "IPY_MODEL_319e361e87664596bc290432cbff9d32",
       "value": 58
      }
     },
     "f621fbc1c09f4ef7a66f7907c5502f64": {
      "model_module": "@jupyter-widgets/base",
      "model_module_version": "2.0.0",
      "model_name": "LayoutModel",
      "state": {}
     },
     "f65d24089a504a6e84424994d47b65a5": {
      "model_module": "@jupyter-widgets/base",
      "model_module_version": "2.0.0",
      "model_name": "LayoutModel",
      "state": {}
     },
     "f66b2a7b8f4a48f1b79dac70308adc8b": {
      "model_module": "@jupyter-widgets/base",
      "model_module_version": "2.0.0",
      "model_name": "LayoutModel",
      "state": {}
     },
     "f66ea568f4db42b0a0d42ffc51ac972f": {
      "model_module": "@jupyter-widgets/controls",
      "model_module_version": "2.0.0",
      "model_name": "ProgressStyleModel",
      "state": {
       "description_width": ""
      }
     },
     "f679b8ad84e140fb962f7fec06c9a0c7": {
      "model_module": "@jupyter-widgets/base",
      "model_module_version": "2.0.0",
      "model_name": "LayoutModel",
      "state": {}
     },
     "f6b712eeac324015abbb0a450cb8effa": {
      "model_module": "@jupyter-widgets/controls",
      "model_module_version": "2.0.0",
      "model_name": "ProgressStyleModel",
      "state": {
       "description_width": ""
      }
     },
     "f6d965ab25524e3197eaff26d14cd048": {
      "model_module": "@jupyter-widgets/base",
      "model_module_version": "2.0.0",
      "model_name": "LayoutModel",
      "state": {}
     },
     "f6fd0639f19a4ca785dff58706b60bc1": {
      "model_module": "@jupyter-widgets/controls",
      "model_module_version": "2.0.0",
      "model_name": "FloatProgressModel",
      "state": {
       "layout": "IPY_MODEL_a4271ac765224cba95f82fbc136f0270",
       "max": 58,
       "style": "IPY_MODEL_f56afaa5df424f20a082742ba3968525",
       "value": 58
      }
     },
     "f742a1d8718d4fb783da5f0fabddbd8a": {
      "model_module": "@jupyter-widgets/controls",
      "model_module_version": "2.0.0",
      "model_name": "HTMLModel",
      "state": {
       "layout": "IPY_MODEL_89261036ed1a4a388df93f6e63ab7bcd",
       "style": "IPY_MODEL_af92f09ade6946a586e59775cec48163",
       "value": " 58/58 [00:02&lt;00:00, 26.04it/s]"
      }
     },
     "f779b01b78cf4516b638e6a8f2107aba": {
      "model_module": "@jupyter-widgets/controls",
      "model_module_version": "2.0.0",
      "model_name": "HTMLStyleModel",
      "state": {
       "description_width": "",
       "font_size": null,
       "text_color": null
      }
     },
     "f78ecc141ded47cb9ba0134bfa9b2d2a": {
      "model_module": "@jupyter-widgets/controls",
      "model_module_version": "2.0.0",
      "model_name": "HTMLStyleModel",
      "state": {
       "description_width": "",
       "font_size": null,
       "text_color": null
      }
     },
     "f7c30e0f344e4ac189b294c1ac8cc3c7": {
      "model_module": "@jupyter-widgets/base",
      "model_module_version": "2.0.0",
      "model_name": "LayoutModel",
      "state": {
       "flex": "2"
      }
     },
     "f7c6255281e24ad2983eb3ffb57dbd82": {
      "model_module": "@jupyter-widgets/controls",
      "model_module_version": "2.0.0",
      "model_name": "HTMLStyleModel",
      "state": {
       "description_width": "",
       "font_size": null,
       "text_color": null
      }
     },
     "f7ec06e5715549498e09f2bd696f5431": {
      "model_module": "@jupyter-widgets/controls",
      "model_module_version": "2.0.0",
      "model_name": "HTMLStyleModel",
      "state": {
       "description_width": "",
       "font_size": null,
       "text_color": null
      }
     },
     "f7fc95ccb0c24727a331bdd3598df83f": {
      "model_module": "@jupyter-widgets/base",
      "model_module_version": "2.0.0",
      "model_name": "LayoutModel",
      "state": {}
     },
     "f8733165a1ac4e39a8ea576a43aa41ab": {
      "model_module": "@jupyter-widgets/base",
      "model_module_version": "2.0.0",
      "model_name": "LayoutModel",
      "state": {
       "display": "inline-flex",
       "flex_flow": "row wrap",
       "visibility": "hidden",
       "width": "100%"
      }
     },
     "f8b7a7d091d84f3592d915e898781e67": {
      "model_module": "@jupyter-widgets/controls",
      "model_module_version": "2.0.0",
      "model_name": "HTMLModel",
      "state": {
       "layout": "IPY_MODEL_a17d4cc1f4ae4c239a40e0bb4f88390a",
       "style": "IPY_MODEL_a2c3c17a81314e97bab2a27cfd3934fb",
       "value": " 58/58 [00:02&lt;00:00, 25.38it/s]"
      }
     },
     "f8c5237a04b34cdf9b139a4565643a7e": {
      "model_module": "@jupyter-widgets/controls",
      "model_module_version": "2.0.0",
      "model_name": "ProgressStyleModel",
      "state": {
       "description_width": ""
      }
     },
     "f8cb22e0d8584894be65a9a26093fe09": {
      "model_module": "@jupyter-widgets/controls",
      "model_module_version": "2.0.0",
      "model_name": "HTMLModel",
      "state": {
       "layout": "IPY_MODEL_02908dc9979c436f853427dac13d8c31",
       "style": "IPY_MODEL_854e5bea3e83462b91226a15e3320f0b",
       "value": " 58/58 [00:02&lt;00:00, 27.09it/s]"
      }
     },
     "f8d87b98c14248f68bcc4d4ea88202c9": {
      "model_module": "@jupyter-widgets/base",
      "model_module_version": "2.0.0",
      "model_name": "LayoutModel",
      "state": {
       "display": "inline-flex",
       "flex_flow": "row wrap",
       "visibility": "hidden",
       "width": "100%"
      }
     },
     "f8da6e6cedc04cc488157857a39a8a1c": {
      "model_module": "@jupyter-widgets/base",
      "model_module_version": "2.0.0",
      "model_name": "LayoutModel",
      "state": {
       "display": "inline-flex",
       "flex_flow": "row wrap",
       "visibility": "hidden",
       "width": "100%"
      }
     },
     "f8db1c160d3145f184b4b538f1b164a3": {
      "model_module": "@jupyter-widgets/controls",
      "model_module_version": "2.0.0",
      "model_name": "HTMLStyleModel",
      "state": {
       "description_width": "",
       "font_size": null,
       "text_color": null
      }
     },
     "f90495d49c8e4784bfd328c88ba3edd5": {
      "model_module": "@jupyter-widgets/controls",
      "model_module_version": "2.0.0",
      "model_name": "FloatProgressModel",
      "state": {
       "layout": "IPY_MODEL_7a23ae6949bd4db3b93c8917bddd4c90",
       "max": 58,
       "style": "IPY_MODEL_942b59a345404b3fbe0e52e249a6b2e4",
       "value": 58
      }
     },
     "f919e4dfd1bc4b51b27a0c9ca8f6ea62": {
      "model_module": "@jupyter-widgets/controls",
      "model_module_version": "2.0.0",
      "model_name": "HTMLStyleModel",
      "state": {
       "description_width": "",
       "font_size": null,
       "text_color": null
      }
     },
     "f92bc1a6bac6447893b395c51fd6df74": {
      "model_module": "@jupyter-widgets/controls",
      "model_module_version": "2.0.0",
      "model_name": "ProgressStyleModel",
      "state": {
       "description_width": ""
      }
     },
     "f9980f24b59b478aab3b9d01fb78d815": {
      "model_module": "@jupyter-widgets/controls",
      "model_module_version": "2.0.0",
      "model_name": "ProgressStyleModel",
      "state": {
       "description_width": ""
      }
     },
     "f9a1e5fe797d4795aa5b28cb7f2695ee": {
      "model_module": "@jupyter-widgets/base",
      "model_module_version": "2.0.0",
      "model_name": "LayoutModel",
      "state": {}
     },
     "f9c888ef8fa8459ba823e4dd66667e95": {
      "model_module": "@jupyter-widgets/controls",
      "model_module_version": "2.0.0",
      "model_name": "FloatProgressModel",
      "state": {
       "layout": "IPY_MODEL_5b7b396ba92a4c95bea2135d0688e055",
       "max": 58,
       "style": "IPY_MODEL_26c928741e4c489abe33c51ea5fa50b3",
       "value": 58
      }
     },
     "f9d63e5886b94e24b737773427ec2432": {
      "model_module": "@jupyter-widgets/controls",
      "model_module_version": "2.0.0",
      "model_name": "HTMLStyleModel",
      "state": {
       "description_width": "",
       "font_size": null,
       "text_color": null
      }
     },
     "f9d688c7a8034110ac2fa7a21bc9fb19": {
      "model_module": "@jupyter-widgets/base",
      "model_module_version": "2.0.0",
      "model_name": "LayoutModel",
      "state": {
       "display": "inline-flex",
       "flex_flow": "row wrap",
       "visibility": "hidden",
       "width": "100%"
      }
     },
     "f9ff39a8ed184f0ea57bd0f152b9e585": {
      "model_module": "@jupyter-widgets/controls",
      "model_module_version": "2.0.0",
      "model_name": "ProgressStyleModel",
      "state": {
       "description_width": ""
      }
     },
     "faaf9990ec0a4ce99af8eb0851429688": {
      "model_module": "@jupyter-widgets/controls",
      "model_module_version": "2.0.0",
      "model_name": "HTMLModel",
      "state": {
       "layout": "IPY_MODEL_c50843f9ff6545f3a68bab8fd74442f6",
       "style": "IPY_MODEL_a995fa7ee4434a7c8ce43332b6a1ad60",
       "value": " 58/58 [00:02&lt;00:00, 28.38it/s]"
      }
     },
     "faf87cd6d4b84cda98b04ee8b35fd71f": {
      "model_module": "@jupyter-widgets/base",
      "model_module_version": "2.0.0",
      "model_name": "LayoutModel",
      "state": {}
     },
     "fb3f395e2f584c2ebed029a5ec866645": {
      "model_module": "@jupyter-widgets/base",
      "model_module_version": "2.0.0",
      "model_name": "LayoutModel",
      "state": {
       "display": "inline-flex",
       "flex_flow": "row wrap",
       "visibility": "hidden",
       "width": "100%"
      }
     },
     "fb6b7e67ef8840e8be121c972cfe7f3a": {
      "model_module": "@jupyter-widgets/base",
      "model_module_version": "2.0.0",
      "model_name": "LayoutModel",
      "state": {}
     },
     "fb6ec09c05ed449ab0b2bf22c6543e28": {
      "model_module": "@jupyter-widgets/base",
      "model_module_version": "2.0.0",
      "model_name": "LayoutModel",
      "state": {}
     },
     "fba8749256614d2f8448a965ad2e464f": {
      "model_module": "@jupyter-widgets/controls",
      "model_module_version": "2.0.0",
      "model_name": "HTMLModel",
      "state": {
       "layout": "IPY_MODEL_fe47643f75f84ba797d4c307fe19a4f8",
       "style": "IPY_MODEL_6bcd6590aa344a10a632f5b24a97eaf4",
       "value": " 58/58 [00:02&lt;00:00, 28.05it/s]"
      }
     },
     "fbc7298c867b4a5dad8be1dc5f6dcd91": {
      "model_module": "@jupyter-widgets/controls",
      "model_module_version": "2.0.0",
      "model_name": "HTMLStyleModel",
      "state": {
       "description_width": "",
       "font_size": null,
       "text_color": null
      }
     },
     "fbddeb46d19a48a199ff0dd154a7eb91": {
      "model_module": "@jupyter-widgets/controls",
      "model_module_version": "2.0.0",
      "model_name": "HTMLModel",
      "state": {
       "layout": "IPY_MODEL_5668d69c8865443db21e2ffabf4f6fd9",
       "style": "IPY_MODEL_4438137c20c54904a6cfaf4b53749aba",
       "value": "Validation DataLoader 0: 100%"
      }
     },
     "fc24d736640a42e9a37c4646315bbc7f": {
      "model_module": "@jupyter-widgets/base",
      "model_module_version": "2.0.0",
      "model_name": "LayoutModel",
      "state": {}
     },
     "fc59eb3d540c4cb7bc88f2a3870028fb": {
      "model_module": "@jupyter-widgets/controls",
      "model_module_version": "2.0.0",
      "model_name": "HTMLModel",
      "state": {
       "layout": "IPY_MODEL_883ac88e87714434ada3a35694edfd91",
       "style": "IPY_MODEL_e4c40b3fff494dba844cebafdbd3d422",
       "value": " 58/58 [00:02&lt;00:00, 25.75it/s]"
      }
     },
     "fc5a692eb5a14582ad4f1609bc451e6d": {
      "model_module": "@jupyter-widgets/controls",
      "model_module_version": "2.0.0",
      "model_name": "HTMLStyleModel",
      "state": {
       "description_width": "",
       "font_size": null,
       "text_color": null
      }
     },
     "fc9f288396674e4ead25eaba1a9b4001": {
      "model_module": "@jupyter-widgets/controls",
      "model_module_version": "2.0.0",
      "model_name": "HTMLModel",
      "state": {
       "layout": "IPY_MODEL_b5c9ce4ee1a84046808d461bc2146ef7",
       "style": "IPY_MODEL_71faef70301d460abcd470b72be9d1be",
       "value": "Validation DataLoader 0: 100%"
      }
     },
     "fcb6f9a0ab4a408591dfa5d6241bd944": {
      "model_module": "@jupyter-widgets/base",
      "model_module_version": "2.0.0",
      "model_name": "LayoutModel",
      "state": {}
     },
     "fcba5bc08ea34f7aac2155e60d0bb6a5": {
      "model_module": "@jupyter-widgets/base",
      "model_module_version": "2.0.0",
      "model_name": "LayoutModel",
      "state": {}
     },
     "fcd8ea67acde47578a1b802acd788fd5": {
      "model_module": "@jupyter-widgets/base",
      "model_module_version": "2.0.0",
      "model_name": "LayoutModel",
      "state": {
       "flex": "2"
      }
     },
     "fd120ec1e50543d0a1ae01c43e01e3a3": {
      "model_module": "@jupyter-widgets/base",
      "model_module_version": "2.0.0",
      "model_name": "LayoutModel",
      "state": {}
     },
     "fd960ea64bdf4ca7bad4edf679f20b5f": {
      "model_module": "@jupyter-widgets/base",
      "model_module_version": "2.0.0",
      "model_name": "LayoutModel",
      "state": {}
     },
     "fda8758904894e7b8513eea427e416b7": {
      "model_module": "@jupyter-widgets/controls",
      "model_module_version": "2.0.0",
      "model_name": "HTMLModel",
      "state": {
       "layout": "IPY_MODEL_66b4d5e12a114c42b773786868253633",
       "style": "IPY_MODEL_ae22a98decec461f9442fc49cd7b5b0d",
       "value": "Validation DataLoader 0: 100%"
      }
     },
     "fdad1b3daf5c464cb4a6e0d2ee506c0c": {
      "model_module": "@jupyter-widgets/base",
      "model_module_version": "2.0.0",
      "model_name": "LayoutModel",
      "state": {}
     },
     "fdd3d6be135948e39fac4929afa493e2": {
      "model_module": "@jupyter-widgets/controls",
      "model_module_version": "2.0.0",
      "model_name": "ProgressStyleModel",
      "state": {
       "description_width": ""
      }
     },
     "fdd5ed2beb39460b8c3edfbf252cff4a": {
      "model_module": "@jupyter-widgets/base",
      "model_module_version": "2.0.0",
      "model_name": "LayoutModel",
      "state": {}
     },
     "fde7581f3660472a9de89984854efe44": {
      "model_module": "@jupyter-widgets/controls",
      "model_module_version": "2.0.0",
      "model_name": "HTMLStyleModel",
      "state": {
       "description_width": "",
       "font_size": null,
       "text_color": null
      }
     },
     "fdfa8d32aed040f7be79a063ac7d7959": {
      "model_module": "@jupyter-widgets/controls",
      "model_module_version": "2.0.0",
      "model_name": "HTMLModel",
      "state": {
       "layout": "IPY_MODEL_bc96faac87644779aba8797f6c0d275c",
       "style": "IPY_MODEL_7e5c25f636f64837810381997bfd2dea",
       "value": "Validation DataLoader 0: 100%"
      }
     },
     "fe07ae18c54146c3bf24533e7e91bdd7": {
      "model_module": "@jupyter-widgets/controls",
      "model_module_version": "2.0.0",
      "model_name": "ProgressStyleModel",
      "state": {
       "description_width": ""
      }
     },
     "fe361e10b7264b9096c0a2000ff68a2c": {
      "model_module": "@jupyter-widgets/base",
      "model_module_version": "2.0.0",
      "model_name": "LayoutModel",
      "state": {
       "flex": "2"
      }
     },
     "fe3da40cc7e141bba7fe1c3a87355a17": {
      "model_module": "@jupyter-widgets/controls",
      "model_module_version": "2.0.0",
      "model_name": "ProgressStyleModel",
      "state": {
       "description_width": ""
      }
     },
     "fe47643f75f84ba797d4c307fe19a4f8": {
      "model_module": "@jupyter-widgets/base",
      "model_module_version": "2.0.0",
      "model_name": "LayoutModel",
      "state": {}
     },
     "fe47b82fc2fb42c8ad69f579c8d4bfa4": {
      "model_module": "@jupyter-widgets/base",
      "model_module_version": "2.0.0",
      "model_name": "LayoutModel",
      "state": {}
     },
     "fe68d4f2e42747b082f8aa5ef2c4ead6": {
      "model_module": "@jupyter-widgets/controls",
      "model_module_version": "2.0.0",
      "model_name": "HTMLStyleModel",
      "state": {
       "description_width": "",
       "font_size": null,
       "text_color": null
      }
     },
     "fe6bc6862d6f490f948311498250f92a": {
      "model_module": "@jupyter-widgets/controls",
      "model_module_version": "2.0.0",
      "model_name": "HTMLStyleModel",
      "state": {
       "description_width": "",
       "font_size": null,
       "text_color": null
      }
     },
     "fea6d2ef31c741a5aa9c11b8fb1782ad": {
      "model_module": "@jupyter-widgets/controls",
      "model_module_version": "2.0.0",
      "model_name": "HTMLModel",
      "state": {
       "layout": "IPY_MODEL_7016b96ab545445baddc82c9299f86ba",
       "style": "IPY_MODEL_407cd35ab1a0410197ef6e45e4f622c4",
       "value": " 58/58 [00:02&lt;00:00, 25.90it/s]"
      }
     },
     "fee46b0ec8ee4a9a8d5a56a4d7e19dfb": {
      "model_module": "@jupyter-widgets/base",
      "model_module_version": "2.0.0",
      "model_name": "LayoutModel",
      "state": {}
     },
     "ff0c5057b1284de2afc5665a1f07ff87": {
      "model_module": "@jupyter-widgets/base",
      "model_module_version": "2.0.0",
      "model_name": "LayoutModel",
      "state": {
       "flex": "2"
      }
     },
     "ff240d14f1d14ba1a4978bbadc31624d": {
      "model_module": "@jupyter-widgets/controls",
      "model_module_version": "2.0.0",
      "model_name": "HTMLModel",
      "state": {
       "layout": "IPY_MODEL_52fb798f43de47eaa03d393e0c16acc1",
       "style": "IPY_MODEL_f78ecc141ded47cb9ba0134bfa9b2d2a",
       "value": "Validation DataLoader 0: 100%"
      }
     },
     "ff267b99abcf4c19849e34d937c51c1e": {
      "model_module": "@jupyter-widgets/controls",
      "model_module_version": "2.0.0",
      "model_name": "HTMLStyleModel",
      "state": {
       "description_width": "",
       "font_size": null,
       "text_color": null
      }
     },
     "ff26eebf31d64009bfcd9546d9cf57d0": {
      "model_module": "@jupyter-widgets/controls",
      "model_module_version": "2.0.0",
      "model_name": "HTMLModel",
      "state": {
       "layout": "IPY_MODEL_4b723df3ad8649f297c815077690b5c7",
       "style": "IPY_MODEL_1194effcd0f74b1f90c20d83b4473bfb",
       "value": " 58/58 [00:02&lt;00:00, 27.08it/s]"
      }
     },
     "ff6093612bfc478f843f441a1692dacf": {
      "model_module": "@jupyter-widgets/controls",
      "model_module_version": "2.0.0",
      "model_name": "HTMLStyleModel",
      "state": {
       "description_width": "",
       "font_size": null,
       "text_color": null
      }
     },
     "ff940f25753f4360be594fca233fa153": {
      "model_module": "@jupyter-widgets/controls",
      "model_module_version": "2.0.0",
      "model_name": "HTMLModel",
      "state": {
       "layout": "IPY_MODEL_e84d5b5bc207495aae827443aaffaf1b",
       "style": "IPY_MODEL_eee1e5eb17884f2283127a04a6c33ab2",
       "value": " 58/58 [00:02&lt;00:00, 27.87it/s]"
      }
     },
     "ffe08916d8024b80bc69b4b136ea42cb": {
      "model_module": "@jupyter-widgets/base",
      "model_module_version": "2.0.0",
      "model_name": "LayoutModel",
      "state": {}
     },
     "ffef69ea4d324b18ba61dc679923e765": {
      "model_module": "@jupyter-widgets/base",
      "model_module_version": "2.0.0",
      "model_name": "LayoutModel",
      "state": {}
     },
     "fffaa6249a7a41738e4a7c70acc048e0": {
      "model_module": "@jupyter-widgets/controls",
      "model_module_version": "2.0.0",
      "model_name": "HTMLStyleModel",
      "state": {
       "description_width": "",
       "font_size": null,
       "text_color": null
      }
     }
    },
    "version_major": 2,
    "version_minor": 0
   }
  }
 },
 "nbformat": 4,
 "nbformat_minor": 5
}
