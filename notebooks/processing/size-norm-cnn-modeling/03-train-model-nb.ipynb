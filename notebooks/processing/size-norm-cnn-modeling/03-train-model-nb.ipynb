{
 "cells": [
  {
   "cell_type": "code",
   "execution_count": 1,
   "id": "36b34fb0-7a28-426a-87d5-52158781b014",
   "metadata": {
    "tags": []
   },
   "outputs": [],
   "source": [
    "import toml\n",
    "import torch\n",
    "import random\n",
    "import lightning.pytorch as pl\n",
    "from toolz import get_in\n",
    "from pathlib import Path\n",
    "from aging.size_norm import models\n",
    "from toolz import dissoc, merge, valfilter, assoc, get_in\n",
    "from aging.size_norm.data import AugmentationParams, TrainingPaths\n",
    "from lightning.pytorch.loggers import CSVLogger, TensorBoardLogger\n",
    "from lightning.pytorch.callbacks import ModelCheckpoint, EarlyStopping\n",
    "from aging.size_norm.lightning import SizeNormModel, ImageDisplay, BehaviorValidation"
   ]
  },
  {
   "cell_type": "code",
   "execution_count": 2,
   "id": "e3dac3b1-f4c9-47d5-916a-60b8f9623201",
   "metadata": {},
   "outputs": [],
   "source": [
    "torch.set_float32_matmul_precision('medium')"
   ]
  },
  {
   "cell_type": "code",
   "execution_count": 3,
   "id": "e5095090-777a-42d2-a16b-a9e2bb013beb",
   "metadata": {
    "tags": []
   },
   "outputs": [],
   "source": [
    "config = toml.load('/home/wg41/code/ontogeny/configs/00-sizenorm_training_template.toml')"
   ]
  },
  {
   "cell_type": "code",
   "execution_count": 4,
   "id": "4d3fa1af-a008-4a28-b7f2-f1ffd6f05b45",
   "metadata": {
    "tags": []
   },
   "outputs": [],
   "source": [
    "paths = TrainingPaths(**dissoc(config['paths'], 'saving'))\n",
    "checkpoint = None\n",
    "save_folder = Path(config['paths']['saving'])\n",
    "save_folder.mkdir(exist_ok=True, parents=True)"
   ]
  },
  {
   "cell_type": "code",
   "execution_count": 5,
   "id": "66561eed-0a7f-404c-b22a-2cce43e461f9",
   "metadata": {
    "tags": []
   },
   "outputs": [],
   "source": [
    "config['augmentation']['rng'] = random.Random(config['augmentation']['seed'])"
   ]
  },
  {
   "cell_type": "code",
   "execution_count": 6,
   "id": "b61cae41-99b7-48e7-a46d-c7d426b45305",
   "metadata": {
    "tags": []
   },
   "outputs": [
    {
     "name": "stderr",
     "output_type": "stream",
     "text": [
      "[rank: 0] Global seed set to 0\n"
     ]
    },
    {
     "data": {
      "text/plain": [
       "0"
      ]
     },
     "execution_count": 6,
     "metadata": {},
     "output_type": "execute_result"
    }
   ],
   "source": [
    "pl.seed_everything(config['augmentation']['seed'])"
   ]
  },
  {
   "cell_type": "code",
   "execution_count": 7,
   "id": "ee2b4273-38b1-468a-826d-93e71d8ed13a",
   "metadata": {
    "tags": []
   },
   "outputs": [],
   "source": [
    "augmentation = AugmentationParams(**dissoc(config['augmentation'], 'seed'))"
   ]
  },
  {
   "cell_type": "code",
   "execution_count": 8,
   "id": "80bb2b11-43f4-4134-98ac-776a977ec042",
   "metadata": {
    "tags": []
   },
   "outputs": [],
   "source": [
    "match get_in([\"model\", \"lightning\", \"arch\"], config):\n",
    "    case 'ae':\n",
    "        model_arch = models.Autoencoder\n",
    "    case 'unet':\n",
    "        model_arch = models.UNet\n",
    "    case 'efficient':\n",
    "        model_arch = models.EfficientAutoencoder\n",
    "    case 'efficient_unet':\n",
    "        model_arch = models.EfficientUNet\n",
    "    case _:\n",
    "        raise ValueError(f\"Unknown model architecture {config['model']['arch']}\")"
   ]
  },
  {
   "cell_type": "code",
   "execution_count": 9,
   "id": "fd44171e-f3ec-41eb-bd08-647f45d109d0",
   "metadata": {
    "tags": []
   },
   "outputs": [],
   "source": [
    "model_params = merge(config['model'], config['model'][config['model']['lightning']['arch']])\n",
    "model_params = valfilter(lambda x: not isinstance(x, dict), model_params)\n",
    "if 'activation' in model_params:\n",
    "    model_params = assoc(model_params, 'activation', getattr(torch.nn, model_params['activation']))"
   ]
  },
  {
   "cell_type": "code",
   "execution_count": 10,
   "id": "ab6184d4-4ed7-4469-ace2-5a8e8e987433",
   "metadata": {
    "tags": []
   },
   "outputs": [],
   "source": [
    "model = SizeNormModel(\n",
    "    paths,\n",
    "    augmentation,\n",
    "    model=model_arch,\n",
    "    model_params=model_params,\n",
    "    batch_size=64 if get_in(['model', 'init_channel'], config, 32) < 512 else 32,\n",
    "    **dissoc(config['model']['lightning'], 'arch'),\n",
    "    seed=config['augmentation']['seed'],\n",
    ")"
   ]
  },
  {
   "cell_type": "code",
   "execution_count": 11,
   "id": "6cc984d0-9ddd-46f4-85d5-121360632ec1",
   "metadata": {
    "tags": []
   },
   "outputs": [],
   "source": [
    "ckpt_cb = ModelCheckpoint(\n",
    "    save_folder,\n",
    "    filename=f\"{model_arch.__name__}\" + \"-{epoch:02d}-{val_loss:.2e}\",\n",
    "    monitor=\"val_loss\",\n",
    "    save_top_k=1,\n",
    "    mode=\"min\",\n",
    ")\n",
    "\n",
    "early_stopping_cb = EarlyStopping(\n",
    "    monitor=\"val_loss\",\n",
    "    patience=get_in(['callbacks', 'stopping', 'patience'], config, 13),\n",
    "    mode=\"min\",\n",
    "    verbose=True,\n",
    ")\n",
    "\n",
    "dynamics_cb = BehaviorValidation(\n",
    "    paths.validation,\n",
    "    log_interval=get_in(\n",
    "        [\"callbacks\", \"dynamics_validation\", \"log_interval\"], config, 30\n",
    "    ),\n",
    "    max_frames=get_in(\n",
    "        [\"callbacks\", \"dynamics_validation\", \"max_frames\"], config, 8000\n",
    "    ),\n",
    "    validation_type=\"dynamics\",\n",
    ")"
   ]
  },
  {
   "cell_type": "code",
   "execution_count": null,
   "id": "aac67645-28da-410d-a503-e4fb91e159b1",
   "metadata": {
    "tags": []
   },
   "outputs": [
    {
     "name": "stderr",
     "output_type": "stream",
     "text": [
      "Using 16bit Automatic Mixed Precision (AMP)\n",
      "GPU available: True (cuda), used: True\n",
      "TPU available: False, using: 0 TPU cores\n",
      "IPU available: False, using: 0 IPUs\n",
      "HPU available: False, using: 0 HPUs\n",
      "/home/wg41/miniconda3/envs/aging/lib/python3.10/site-packages/lightning/pytorch/callbacks/model_checkpoint.py:617: UserWarning: Checkpoint directory /n/groups/datta/win/longtogeny/size_norm/models/warp_test-2023-09-30_v00 exists and is not empty.\n",
      "  rank_zero_warn(f\"Checkpoint directory {dirpath} exists and is not empty.\")\n",
      "LOCAL_RANK: 0 - CUDA_VISIBLE_DEVICES: [0]\n",
      "\n",
      "  | Name  | Type        | Params\n",
      "--------------------------------------\n",
      "0 | model | Autoencoder | 12.6 M\n",
      "--------------------------------------\n",
      "12.6 M    Trainable params\n",
      "0         Non-trainable params\n",
      "12.6 M    Total params\n",
      "50.473    Total estimated model params size (MB)\n",
      "SLURM auto-requeueing enabled. Setting signal handlers.\n"
     ]
    },
    {
     "data": {
      "application/vnd.jupyter.widget-view+json": {
       "model_id": "",
       "version_major": 2,
       "version_minor": 0
      },
      "text/plain": [
       "Sanity Checking: 0it [00:00, ?it/s]"
      ]
     },
     "metadata": {},
     "output_type": "display_data"
    },
    {
     "name": "stderr",
     "output_type": "stream",
     "text": [
      "/home/wg41/miniconda3/envs/aging/lib/python3.10/site-packages/lightning/pytorch/trainer/connectors/data_connector.py:442: PossibleUserWarning: The dataloader, val_dataloader, does not have many workers which may be a bottleneck. Consider increasing the value of the `num_workers` argument` (try 64 which is the number of cpus on this machine) in the `DataLoader` init to improve performance.\n",
      "  rank_zero_warn(\n",
      "/home/wg41/miniconda3/envs/aging/lib/python3.10/site-packages/lightning/pytorch/trainer/connectors/data_connector.py:442: PossibleUserWarning: The dataloader, train_dataloader, does not have many workers which may be a bottleneck. Consider increasing the value of the `num_workers` argument` (try 64 which is the number of cpus on this machine) in the `DataLoader` init to improve performance.\n",
      "  rank_zero_warn(\n"
     ]
    },
    {
     "data": {
      "application/vnd.jupyter.widget-view+json": {
       "model_id": "acbb39372df84f96902c3c0927d7b2e6",
       "version_major": 2,
       "version_minor": 0
      },
      "text/plain": [
       "Training: 0it [00:00, ?it/s]"
      ]
     },
     "metadata": {},
     "output_type": "display_data"
    },
    {
     "data": {
      "application/vnd.jupyter.widget-view+json": {
       "model_id": "f8da2363f8144cee82fb6fab67ca975b",
       "version_major": 2,
       "version_minor": 0
      },
      "text/plain": [
       "Image(value=b'\\x89PNG\\r\\n\\x1a\\n\\x00\\x00\\x00\\rIHDR\\x00\\x00\\x00\\x08\\x00\\x00\\x00\\x08\\x08\\x00\\x00\\x00\\x00\\xe1d\\xe1…"
      ]
     },
     "metadata": {},
     "output_type": "display_data"
    },
    {
     "data": {
      "application/vnd.jupyter.widget-view+json": {
       "model_id": "",
       "version_major": 2,
       "version_minor": 0
      },
      "text/plain": [
       "Validation: 0it [00:00, ?it/s]"
      ]
     },
     "metadata": {},
     "output_type": "display_data"
    },
    {
     "name": "stderr",
     "output_type": "stream",
     "text": [
      "Metric val_loss improved. New best score: 0.003\n"
     ]
    },
    {
     "data": {
      "application/vnd.jupyter.widget-view+json": {
       "model_id": "",
       "version_major": 2,
       "version_minor": 0
      },
      "text/plain": [
       "Validation: 0it [00:00, ?it/s]"
      ]
     },
     "metadata": {},
     "output_type": "display_data"
    },
    {
     "name": "stderr",
     "output_type": "stream",
     "text": [
      "Metric val_loss improved by 0.001 >= min_delta = 0.0. New best score: 0.002\n"
     ]
    },
    {
     "data": {
      "application/vnd.jupyter.widget-view+json": {
       "model_id": "",
       "version_major": 2,
       "version_minor": 0
      },
      "text/plain": [
       "Validation: 0it [00:00, ?it/s]"
      ]
     },
     "metadata": {},
     "output_type": "display_data"
    },
    {
     "name": "stderr",
     "output_type": "stream",
     "text": [
      "Metric val_loss improved by 0.000 >= min_delta = 0.0. New best score: 0.002\n"
     ]
    },
    {
     "data": {
      "application/vnd.jupyter.widget-view+json": {
       "model_id": "",
       "version_major": 2,
       "version_minor": 0
      },
      "text/plain": [
       "Validation: 0it [00:00, ?it/s]"
      ]
     },
     "metadata": {},
     "output_type": "display_data"
    },
    {
     "name": "stderr",
     "output_type": "stream",
     "text": [
      "Metric val_loss improved by 0.000 >= min_delta = 0.0. New best score: 0.002\n"
     ]
    },
    {
     "data": {
      "application/vnd.jupyter.widget-view+json": {
       "model_id": "",
       "version_major": 2,
       "version_minor": 0
      },
      "text/plain": [
       "Validation: 0it [00:00, ?it/s]"
      ]
     },
     "metadata": {},
     "output_type": "display_data"
    },
    {
     "name": "stderr",
     "output_type": "stream",
     "text": [
      "Metric val_loss improved by 0.000 >= min_delta = 0.0. New best score: 0.001\n"
     ]
    },
    {
     "data": {
      "application/vnd.jupyter.widget-view+json": {
       "model_id": "",
       "version_major": 2,
       "version_minor": 0
      },
      "text/plain": [
       "Validation: 0it [00:00, ?it/s]"
      ]
     },
     "metadata": {},
     "output_type": "display_data"
    },
    {
     "name": "stderr",
     "output_type": "stream",
     "text": [
      "Metric val_loss improved by 0.000 >= min_delta = 0.0. New best score: 0.001\n"
     ]
    },
    {
     "data": {
      "application/vnd.jupyter.widget-view+json": {
       "model_id": "",
       "version_major": 2,
       "version_minor": 0
      },
      "text/plain": [
       "Validation: 0it [00:00, ?it/s]"
      ]
     },
     "metadata": {},
     "output_type": "display_data"
    },
    {
     "name": "stderr",
     "output_type": "stream",
     "text": [
      "Metric val_loss improved by 0.000 >= min_delta = 0.0. New best score: 0.001\n"
     ]
    },
    {
     "data": {
      "application/vnd.jupyter.widget-view+json": {
       "model_id": "",
       "version_major": 2,
       "version_minor": 0
      },
      "text/plain": [
       "Validation: 0it [00:00, ?it/s]"
      ]
     },
     "metadata": {},
     "output_type": "display_data"
    },
    {
     "data": {
      "application/vnd.jupyter.widget-view+json": {
       "model_id": "",
       "version_major": 2,
       "version_minor": 0
      },
      "text/plain": [
       "Validation: 0it [00:00, ?it/s]"
      ]
     },
     "metadata": {},
     "output_type": "display_data"
    }
   ],
   "source": [
    "image_cb = ImageDisplay(log_interval=75)\n",
    "\n",
    "trainer = pl.Trainer(\n",
    "    max_epochs=config.get('trainer', {}).get('max_epochs', 85),\n",
    "    accelerator=\"gpu\" if torch.cuda.is_available() else \"cpu\",\n",
    "    devices=1,\n",
    "    # callbacks=[ckpt_cb, early_stopping_cb, image_cb, dynamics_cb],\n",
    "    callbacks=[ckpt_cb, early_stopping_cb, image_cb],\n",
    "    precision='16-mixed' if torch.cuda.is_available() else \"bf16-mixed\",\n",
    "    logger=[CSVLogger(save_folder, name=\"size_norm_scan\"), TensorBoardLogger(save_folder, name=\"size_norm_scan\")],\n",
    ")\n",
    "trainer.fit(model, ckpt_path=checkpoint)"
   ]
  },
  {
   "cell_type": "code",
   "execution_count": null,
   "id": "0987c0d0",
   "metadata": {},
   "outputs": [],
   "source": [
    "if not trainer.interrupted:\n",
    "    model = SizeNormModel.load_from_checkpoint(ckpt_cb.best_model_path)\n",
    "    mdl = torch.jit.trace(\n",
    "        model.model.eval(),\n",
    "        torch.zeros(\n",
    "            model.hparams.batch_size,\n",
    "            1,\n",
    "            model.hparams.image_dim,\n",
    "            model.hparams.image_dim,\n",
    "            device=model.device,\n",
    "        ),\n",
    "    )\n",
    "    torch.jit.save(mdl, save_folder / \"model.pt\")"
   ]
  },
  {
   "cell_type": "code",
   "execution_count": null,
   "id": "ef15c70d-95c6-4764-bb12-c50c1baed400",
   "metadata": {
    "tags": []
   },
   "outputs": [],
   "source": [
    "save_folder"
   ]
  },
  {
   "cell_type": "code",
   "execution_count": null,
   "id": "10f0b7ca-ada7-4698-bc34-c013ec8be10a",
   "metadata": {},
   "outputs": [],
   "source": []
  }
 ],
 "metadata": {
  "kernelspec": {
   "display_name": "Ontogeny",
   "language": "python",
   "name": "aging"
  },
  "language_info": {
   "codemirror_mode": {
    "name": "ipython",
    "version": 3
   },
   "file_extension": ".py",
   "mimetype": "text/x-python",
   "name": "python",
   "nbconvert_exporter": "python",
   "pygments_lexer": "ipython3",
   "version": "3.10.10"
  },
  "widgets": {
   "application/vnd.jupyter.widget-state+json": {
    "state": {},
    "version_major": 2,
    "version_minor": 0
   }
  }
 },
 "nbformat": 4,
 "nbformat_minor": 5
}
