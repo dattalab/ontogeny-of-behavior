{
 "cells": [
  {
   "cell_type": "code",
   "execution_count": 1,
   "id": "5f5597c1-8953-42bf-a01d-e818e14c2f62",
   "metadata": {
    "tags": []
   },
   "outputs": [],
   "source": [
    "import lightning.pytorch as pl\n",
    "import torch\n",
    "from pathlib import Path\n",
    "from lightning.pytorch.callbacks import ModelCheckpoint, EarlyStopping\n",
    "from lightning.pytorch import seed_everything\n",
    "from aging.size_norm.data import AugmentationParams, TrainingPaths\n",
    "from aging.size_norm.models import Autoencoder, UNet\n",
    "from aging.size_norm.lightning import SizeNormModel, ImageDisplay"
   ]
  },
  {
   "cell_type": "code",
   "execution_count": 2,
   "id": "8f7e93a7",
   "metadata": {
    "tags": []
   },
   "outputs": [
    {
     "name": "stderr",
     "output_type": "stream",
     "text": [
      "[rank: 0] Global seed set to 0\n"
     ]
    },
    {
     "data": {
      "text/plain": [
       "0"
      ]
     },
     "execution_count": 2,
     "metadata": {},
     "output_type": "execute_result"
    }
   ],
   "source": [
    "seed_everything(0)"
   ]
  },
  {
   "cell_type": "code",
   "execution_count": 3,
   "id": "95d2d720",
   "metadata": {
    "tags": []
   },
   "outputs": [],
   "source": [
    "training_folder = Path('/n/groups/datta/win/longtogeny/data/size_network/training_data')\n",
    "paths = TrainingPaths(training_folder / \"multi_animal_training_data.h5\", training_folder / \"wall_noise.h5\")"
   ]
  },
  {
   "cell_type": "code",
   "execution_count": 4,
   "id": "d6e2df57",
   "metadata": {
    "tags": []
   },
   "outputs": [],
   "source": [
    "params = AugmentationParams()"
   ]
  },
  {
   "cell_type": "markdown",
   "id": "96369963-dbbe-4354-9309-edb91576ff45",
   "metadata": {},
   "source": [
    "## Create model and model components"
   ]
  },
  {
   "cell_type": "code",
   "execution_count": 5,
   "id": "21e7ee3a-a8d3-44a0-980b-b601cac83124",
   "metadata": {
    "tags": []
   },
   "outputs": [],
   "source": [
    "device = \"cuda\" if torch.cuda.device_count() > 0 else \"cpu\""
   ]
  },
  {
   "cell_type": "code",
   "execution_count": 6,
   "id": "52bb587f-fcae-4675-a4aa-b799d4577474",
   "metadata": {},
   "outputs": [],
   "source": [
    "model_type = 'ae'"
   ]
  },
  {
   "cell_type": "code",
   "execution_count": 7,
   "id": "b21c70f0",
   "metadata": {
    "tags": []
   },
   "outputs": [],
   "source": [
    "save_dir = Path(f\"/n/groups/datta/win/longtogeny/size_norm/models/{model_type}\")\n",
    "save_dir.mkdir(exist_ok=True, parents=True)"
   ]
  },
  {
   "cell_type": "code",
   "execution_count": 8,
   "id": "a8b6718d",
   "metadata": {
    "tags": []
   },
   "outputs": [],
   "source": [
    "checkpoint_callback = ModelCheckpoint(\n",
    "    save_dir,\n",
    "    filename=f\"{model_type}\" + \"-{epoch:04d}-{val_loss:0.2e}\",\n",
    "    monitor=\"val_loss\",\n",
    "    save_top_k=1,\n",
    "    mode=\"min\",\n",
    ")"
   ]
  },
  {
   "cell_type": "code",
   "execution_count": null,
   "id": "91166fcf",
   "metadata": {
    "tags": []
   },
   "outputs": [
    {
     "name": "stderr",
     "output_type": "stream",
     "text": [
      "Using 16bit Automatic Mixed Precision (AMP)\n",
      "GPU available: True (cuda), used: True\n",
      "TPU available: False, using: 0 TPU cores\n",
      "IPU available: False, using: 0 IPUs\n",
      "HPU available: False, using: 0 HPUs\n",
      "/home/wg41/miniconda3/envs/aging/lib/python3.10/site-packages/lightning/pytorch/trainer/connectors/logger_connector/logger_connector.py:67: UserWarning: Starting from v1.9.0, `tensorboardX` has been removed as a dependency of the `lightning.pytorch` package, due to potential conflicts with other packages in the ML ecosystem. For this reason, `logger=True` will use `CSVLogger` as the default logger, unless the `tensorboard` or `tensorboardX` packages are found. Please `pip install lightning[extra]` or one of them to enable TensorBoard support by default\n",
      "  warning_cache.warn(\n",
      "/home/wg41/miniconda3/envs/aging/lib/python3.10/site-packages/lightning/pytorch/callbacks/model_checkpoint.py:612: UserWarning: Checkpoint directory /n/groups/datta/win/longtogeny/size_norm/models/ae exists and is not empty.\n",
      "  rank_zero_warn(f\"Checkpoint directory {dirpath} exists and is not empty.\")\n",
      "LOCAL_RANK: 0 - CUDA_VISIBLE_DEVICES: [0]\n",
      "\n",
      "  | Name  | Type                 | Params\n",
      "-----------------------------------------------\n",
      "0 | model | TopLevelTracedModule | 152 K \n",
      "-----------------------------------------------\n",
      "152 K     Trainable params\n",
      "0         Non-trainable params\n",
      "152 K     Total params\n",
      "0.609     Total estimated model params size (MB)\n",
      "SLURM auto-requeueing enabled. Setting signal handlers.\n"
     ]
    },
    {
     "data": {
      "application/vnd.jupyter.widget-view+json": {
       "model_id": "",
       "version_major": 2,
       "version_minor": 0
      },
      "text/plain": [
       "Sanity Checking: 0it [00:00, ?it/s]"
      ]
     },
     "metadata": {},
     "output_type": "display_data"
    },
    {
     "name": "stderr",
     "output_type": "stream",
     "text": [
      "/home/wg41/miniconda3/envs/aging/lib/python3.10/site-packages/lightning/pytorch/trainer/connectors/data_connector.py:430: PossibleUserWarning: The dataloader, val_dataloader, does not have many workers which may be a bottleneck. Consider increasing the value of the `num_workers` argument` (try 48 which is the number of cpus on this machine) in the `DataLoader` init to improve performance.\n",
      "  rank_zero_warn(\n",
      "/home/wg41/miniconda3/envs/aging/lib/python3.10/site-packages/lightning/pytorch/trainer/connectors/data_connector.py:430: PossibleUserWarning: The dataloader, train_dataloader, does not have many workers which may be a bottleneck. Consider increasing the value of the `num_workers` argument` (try 48 which is the number of cpus on this machine) in the `DataLoader` init to improve performance.\n",
      "  rank_zero_warn(\n"
     ]
    },
    {
     "data": {
      "application/vnd.jupyter.widget-view+json": {
       "model_id": "1848d5cd7d7244c4940c6b70652d993e",
       "version_major": 2,
       "version_minor": 0
      },
      "text/plain": [
       "Training: 0it [00:00, ?it/s]"
      ]
     },
     "metadata": {},
     "output_type": "display_data"
    },
    {
     "data": {
      "application/vnd.jupyter.widget-view+json": {
       "model_id": "bc1eb22869d449659deab7be10c27d05",
       "version_major": 2,
       "version_minor": 0
      },
      "text/plain": [
       "Image(value=b'\\x89PNG\\r\\n\\x1a\\n\\x00\\x00\\x00\\rIHDR\\x00\\x00\\x00\\x08\\x00\\x00\\x00\\x08\\x08\\x00\\x00\\x00\\x00\\xe1d\\xe1…"
      ]
     },
     "metadata": {},
     "output_type": "display_data"
    },
    {
     "data": {
      "application/vnd.jupyter.widget-view+json": {
       "model_id": "",
       "version_major": 2,
       "version_minor": 0
      },
      "text/plain": [
       "Validation: 0it [00:00, ?it/s]"
      ]
     },
     "metadata": {},
     "output_type": "display_data"
    },
    {
     "data": {
      "application/vnd.jupyter.widget-view+json": {
       "model_id": "",
       "version_major": 2,
       "version_minor": 0
      },
      "text/plain": [
       "Validation: 0it [00:00, ?it/s]"
      ]
     },
     "metadata": {},
     "output_type": "display_data"
    },
    {
     "data": {
      "application/vnd.jupyter.widget-view+json": {
       "model_id": "",
       "version_major": 2,
       "version_minor": 0
      },
      "text/plain": [
       "Validation: 0it [00:00, ?it/s]"
      ]
     },
     "metadata": {},
     "output_type": "display_data"
    },
    {
     "data": {
      "application/vnd.jupyter.widget-view+json": {
       "model_id": "",
       "version_major": 2,
       "version_minor": 0
      },
      "text/plain": [
       "Validation: 0it [00:00, ?it/s]"
      ]
     },
     "metadata": {},
     "output_type": "display_data"
    },
    {
     "data": {
      "application/vnd.jupyter.widget-view+json": {
       "model_id": "",
       "version_major": 2,
       "version_minor": 0
      },
      "text/plain": [
       "Validation: 0it [00:00, ?it/s]"
      ]
     },
     "metadata": {},
     "output_type": "display_data"
    },
    {
     "data": {
      "application/vnd.jupyter.widget-view+json": {
       "model_id": "",
       "version_major": 2,
       "version_minor": 0
      },
      "text/plain": [
       "Validation: 0it [00:00, ?it/s]"
      ]
     },
     "metadata": {},
     "output_type": "display_data"
    },
    {
     "data": {
      "application/vnd.jupyter.widget-view+json": {
       "model_id": "",
       "version_major": 2,
       "version_minor": 0
      },
      "text/plain": [
       "Validation: 0it [00:00, ?it/s]"
      ]
     },
     "metadata": {},
     "output_type": "display_data"
    },
    {
     "data": {
      "application/vnd.jupyter.widget-view+json": {
       "model_id": "",
       "version_major": 2,
       "version_minor": 0
      },
      "text/plain": [
       "Validation: 0it [00:00, ?it/s]"
      ]
     },
     "metadata": {},
     "output_type": "display_data"
    },
    {
     "data": {
      "application/vnd.jupyter.widget-view+json": {
       "model_id": "",
       "version_major": 2,
       "version_minor": 0
      },
      "text/plain": [
       "Validation: 0it [00:00, ?it/s]"
      ]
     },
     "metadata": {},
     "output_type": "display_data"
    },
    {
     "data": {
      "application/vnd.jupyter.widget-view+json": {
       "model_id": "",
       "version_major": 2,
       "version_minor": 0
      },
      "text/plain": [
       "Validation: 0it [00:00, ?it/s]"
      ]
     },
     "metadata": {},
     "output_type": "display_data"
    },
    {
     "data": {
      "application/vnd.jupyter.widget-view+json": {
       "model_id": "",
       "version_major": 2,
       "version_minor": 0
      },
      "text/plain": [
       "Validation: 0it [00:00, ?it/s]"
      ]
     },
     "metadata": {},
     "output_type": "display_data"
    },
    {
     "data": {
      "application/vnd.jupyter.widget-view+json": {
       "model_id": "",
       "version_major": 2,
       "version_minor": 0
      },
      "text/plain": [
       "Validation: 0it [00:00, ?it/s]"
      ]
     },
     "metadata": {},
     "output_type": "display_data"
    },
    {
     "data": {
      "application/vnd.jupyter.widget-view+json": {
       "model_id": "",
       "version_major": 2,
       "version_minor": 0
      },
      "text/plain": [
       "Validation: 0it [00:00, ?it/s]"
      ]
     },
     "metadata": {},
     "output_type": "display_data"
    },
    {
     "data": {
      "application/vnd.jupyter.widget-view+json": {
       "model_id": "",
       "version_major": 2,
       "version_minor": 0
      },
      "text/plain": [
       "Validation: 0it [00:00, ?it/s]"
      ]
     },
     "metadata": {},
     "output_type": "display_data"
    },
    {
     "data": {
      "application/vnd.jupyter.widget-view+json": {
       "model_id": "",
       "version_major": 2,
       "version_minor": 0
      },
      "text/plain": [
       "Validation: 0it [00:00, ?it/s]"
      ]
     },
     "metadata": {},
     "output_type": "display_data"
    },
    {
     "data": {
      "application/vnd.jupyter.widget-view+json": {
       "model_id": "",
       "version_major": 2,
       "version_minor": 0
      },
      "text/plain": [
       "Validation: 0it [00:00, ?it/s]"
      ]
     },
     "metadata": {},
     "output_type": "display_data"
    },
    {
     "data": {
      "application/vnd.jupyter.widget-view+json": {
       "model_id": "",
       "version_major": 2,
       "version_minor": 0
      },
      "text/plain": [
       "Validation: 0it [00:00, ?it/s]"
      ]
     },
     "metadata": {},
     "output_type": "display_data"
    },
    {
     "data": {
      "application/vnd.jupyter.widget-view+json": {
       "model_id": "",
       "version_major": 2,
       "version_minor": 0
      },
      "text/plain": [
       "Validation: 0it [00:00, ?it/s]"
      ]
     },
     "metadata": {},
     "output_type": "display_data"
    },
    {
     "data": {
      "application/vnd.jupyter.widget-view+json": {
       "model_id": "",
       "version_major": 2,
       "version_minor": 0
      },
      "text/plain": [
       "Validation: 0it [00:00, ?it/s]"
      ]
     },
     "metadata": {},
     "output_type": "display_data"
    },
    {
     "data": {
      "application/vnd.jupyter.widget-view+json": {
       "model_id": "",
       "version_major": 2,
       "version_minor": 0
      },
      "text/plain": [
       "Validation: 0it [00:00, ?it/s]"
      ]
     },
     "metadata": {},
     "output_type": "display_data"
    },
    {
     "data": {
      "application/vnd.jupyter.widget-view+json": {
       "model_id": "",
       "version_major": 2,
       "version_minor": 0
      },
      "text/plain": [
       "Validation: 0it [00:00, ?it/s]"
      ]
     },
     "metadata": {},
     "output_type": "display_data"
    },
    {
     "data": {
      "application/vnd.jupyter.widget-view+json": {
       "model_id": "",
       "version_major": 2,
       "version_minor": 0
      },
      "text/plain": [
       "Validation: 0it [00:00, ?it/s]"
      ]
     },
     "metadata": {},
     "output_type": "display_data"
    },
    {
     "data": {
      "application/vnd.jupyter.widget-view+json": {
       "model_id": "",
       "version_major": 2,
       "version_minor": 0
      },
      "text/plain": [
       "Validation: 0it [00:00, ?it/s]"
      ]
     },
     "metadata": {},
     "output_type": "display_data"
    },
    {
     "data": {
      "application/vnd.jupyter.widget-view+json": {
       "model_id": "",
       "version_major": 2,
       "version_minor": 0
      },
      "text/plain": [
       "Validation: 0it [00:00, ?it/s]"
      ]
     },
     "metadata": {},
     "output_type": "display_data"
    },
    {
     "data": {
      "application/vnd.jupyter.widget-view+json": {
       "model_id": "",
       "version_major": 2,
       "version_minor": 0
      },
      "text/plain": [
       "Validation: 0it [00:00, ?it/s]"
      ]
     },
     "metadata": {},
     "output_type": "display_data"
    },
    {
     "data": {
      "application/vnd.jupyter.widget-view+json": {
       "model_id": "",
       "version_major": 2,
       "version_minor": 0
      },
      "text/plain": [
       "Validation: 0it [00:00, ?it/s]"
      ]
     },
     "metadata": {},
     "output_type": "display_data"
    },
    {
     "data": {
      "application/vnd.jupyter.widget-view+json": {
       "model_id": "",
       "version_major": 2,
       "version_minor": 0
      },
      "text/plain": [
       "Validation: 0it [00:00, ?it/s]"
      ]
     },
     "metadata": {},
     "output_type": "display_data"
    },
    {
     "data": {
      "application/vnd.jupyter.widget-view+json": {
       "model_id": "",
       "version_major": 2,
       "version_minor": 0
      },
      "text/plain": [
       "Validation: 0it [00:00, ?it/s]"
      ]
     },
     "metadata": {},
     "output_type": "display_data"
    },
    {
     "data": {
      "application/vnd.jupyter.widget-view+json": {
       "model_id": "",
       "version_major": 2,
       "version_minor": 0
      },
      "text/plain": [
       "Validation: 0it [00:00, ?it/s]"
      ]
     },
     "metadata": {},
     "output_type": "display_data"
    },
    {
     "data": {
      "application/vnd.jupyter.widget-view+json": {
       "model_id": "",
       "version_major": 2,
       "version_minor": 0
      },
      "text/plain": [
       "Validation: 0it [00:00, ?it/s]"
      ]
     },
     "metadata": {},
     "output_type": "display_data"
    },
    {
     "data": {
      "application/vnd.jupyter.widget-view+json": {
       "model_id": "",
       "version_major": 2,
       "version_minor": 0
      },
      "text/plain": [
       "Validation: 0it [00:00, ?it/s]"
      ]
     },
     "metadata": {},
     "output_type": "display_data"
    },
    {
     "data": {
      "application/vnd.jupyter.widget-view+json": {
       "model_id": "",
       "version_major": 2,
       "version_minor": 0
      },
      "text/plain": [
       "Validation: 0it [00:00, ?it/s]"
      ]
     },
     "metadata": {},
     "output_type": "display_data"
    },
    {
     "data": {
      "application/vnd.jupyter.widget-view+json": {
       "model_id": "",
       "version_major": 2,
       "version_minor": 0
      },
      "text/plain": [
       "Validation: 0it [00:00, ?it/s]"
      ]
     },
     "metadata": {},
     "output_type": "display_data"
    },
    {
     "data": {
      "application/vnd.jupyter.widget-view+json": {
       "model_id": "",
       "version_major": 2,
       "version_minor": 0
      },
      "text/plain": [
       "Validation: 0it [00:00, ?it/s]"
      ]
     },
     "metadata": {},
     "output_type": "display_data"
    },
    {
     "data": {
      "application/vnd.jupyter.widget-view+json": {
       "model_id": "",
       "version_major": 2,
       "version_minor": 0
      },
      "text/plain": [
       "Validation: 0it [00:00, ?it/s]"
      ]
     },
     "metadata": {},
     "output_type": "display_data"
    },
    {
     "data": {
      "application/vnd.jupyter.widget-view+json": {
       "model_id": "",
       "version_major": 2,
       "version_minor": 0
      },
      "text/plain": [
       "Validation: 0it [00:00, ?it/s]"
      ]
     },
     "metadata": {},
     "output_type": "display_data"
    },
    {
     "data": {
      "application/vnd.jupyter.widget-view+json": {
       "model_id": "",
       "version_major": 2,
       "version_minor": 0
      },
      "text/plain": [
       "Validation: 0it [00:00, ?it/s]"
      ]
     },
     "metadata": {},
     "output_type": "display_data"
    },
    {
     "data": {
      "application/vnd.jupyter.widget-view+json": {
       "model_id": "",
       "version_major": 2,
       "version_minor": 0
      },
      "text/plain": [
       "Validation: 0it [00:00, ?it/s]"
      ]
     },
     "metadata": {},
     "output_type": "display_data"
    },
    {
     "data": {
      "application/vnd.jupyter.widget-view+json": {
       "model_id": "",
       "version_major": 2,
       "version_minor": 0
      },
      "text/plain": [
       "Validation: 0it [00:00, ?it/s]"
      ]
     },
     "metadata": {},
     "output_type": "display_data"
    },
    {
     "data": {
      "application/vnd.jupyter.widget-view+json": {
       "model_id": "",
       "version_major": 2,
       "version_minor": 0
      },
      "text/plain": [
       "Validation: 0it [00:00, ?it/s]"
      ]
     },
     "metadata": {},
     "output_type": "display_data"
    },
    {
     "data": {
      "application/vnd.jupyter.widget-view+json": {
       "model_id": "",
       "version_major": 2,
       "version_minor": 0
      },
      "text/plain": [
       "Validation: 0it [00:00, ?it/s]"
      ]
     },
     "metadata": {},
     "output_type": "display_data"
    },
    {
     "data": {
      "application/vnd.jupyter.widget-view+json": {
       "model_id": "",
       "version_major": 2,
       "version_minor": 0
      },
      "text/plain": [
       "Validation: 0it [00:00, ?it/s]"
      ]
     },
     "metadata": {},
     "output_type": "display_data"
    },
    {
     "data": {
      "application/vnd.jupyter.widget-view+json": {
       "model_id": "",
       "version_major": 2,
       "version_minor": 0
      },
      "text/plain": [
       "Validation: 0it [00:00, ?it/s]"
      ]
     },
     "metadata": {},
     "output_type": "display_data"
    },
    {
     "data": {
      "application/vnd.jupyter.widget-view+json": {
       "model_id": "",
       "version_major": 2,
       "version_minor": 0
      },
      "text/plain": [
       "Validation: 0it [00:00, ?it/s]"
      ]
     },
     "metadata": {},
     "output_type": "display_data"
    },
    {
     "data": {
      "application/vnd.jupyter.widget-view+json": {
       "model_id": "",
       "version_major": 2,
       "version_minor": 0
      },
      "text/plain": [
       "Validation: 0it [00:00, ?it/s]"
      ]
     },
     "metadata": {},
     "output_type": "display_data"
    },
    {
     "data": {
      "application/vnd.jupyter.widget-view+json": {
       "model_id": "",
       "version_major": 2,
       "version_minor": 0
      },
      "text/plain": [
       "Validation: 0it [00:00, ?it/s]"
      ]
     },
     "metadata": {},
     "output_type": "display_data"
    },
    {
     "data": {
      "application/vnd.jupyter.widget-view+json": {
       "model_id": "",
       "version_major": 2,
       "version_minor": 0
      },
      "text/plain": [
       "Validation: 0it [00:00, ?it/s]"
      ]
     },
     "metadata": {},
     "output_type": "display_data"
    },
    {
     "data": {
      "application/vnd.jupyter.widget-view+json": {
       "model_id": "",
       "version_major": 2,
       "version_minor": 0
      },
      "text/plain": [
       "Validation: 0it [00:00, ?it/s]"
      ]
     },
     "metadata": {},
     "output_type": "display_data"
    },
    {
     "data": {
      "application/vnd.jupyter.widget-view+json": {
       "model_id": "",
       "version_major": 2,
       "version_minor": 0
      },
      "text/plain": [
       "Validation: 0it [00:00, ?it/s]"
      ]
     },
     "metadata": {},
     "output_type": "display_data"
    },
    {
     "data": {
      "application/vnd.jupyter.widget-view+json": {
       "model_id": "",
       "version_major": 2,
       "version_minor": 0
      },
      "text/plain": [
       "Validation: 0it [00:00, ?it/s]"
      ]
     },
     "metadata": {},
     "output_type": "display_data"
    },
    {
     "data": {
      "application/vnd.jupyter.widget-view+json": {
       "model_id": "",
       "version_major": 2,
       "version_minor": 0
      },
      "text/plain": [
       "Validation: 0it [00:00, ?it/s]"
      ]
     },
     "metadata": {},
     "output_type": "display_data"
    },
    {
     "data": {
      "application/vnd.jupyter.widget-view+json": {
       "model_id": "",
       "version_major": 2,
       "version_minor": 0
      },
      "text/plain": [
       "Validation: 0it [00:00, ?it/s]"
      ]
     },
     "metadata": {},
     "output_type": "display_data"
    },
    {
     "data": {
      "application/vnd.jupyter.widget-view+json": {
       "model_id": "",
       "version_major": 2,
       "version_minor": 0
      },
      "text/plain": [
       "Validation: 0it [00:00, ?it/s]"
      ]
     },
     "metadata": {},
     "output_type": "display_data"
    },
    {
     "data": {
      "application/vnd.jupyter.widget-view+json": {
       "model_id": "",
       "version_major": 2,
       "version_minor": 0
      },
      "text/plain": [
       "Validation: 0it [00:00, ?it/s]"
      ]
     },
     "metadata": {},
     "output_type": "display_data"
    },
    {
     "data": {
      "application/vnd.jupyter.widget-view+json": {
       "model_id": "",
       "version_major": 2,
       "version_minor": 0
      },
      "text/plain": [
       "Validation: 0it [00:00, ?it/s]"
      ]
     },
     "metadata": {},
     "output_type": "display_data"
    },
    {
     "data": {
      "application/vnd.jupyter.widget-view+json": {
       "model_id": "",
       "version_major": 2,
       "version_minor": 0
      },
      "text/plain": [
       "Validation: 0it [00:00, ?it/s]"
      ]
     },
     "metadata": {},
     "output_type": "display_data"
    },
    {
     "data": {
      "application/vnd.jupyter.widget-view+json": {
       "model_id": "",
       "version_major": 2,
       "version_minor": 0
      },
      "text/plain": [
       "Validation: 0it [00:00, ?it/s]"
      ]
     },
     "metadata": {},
     "output_type": "display_data"
    },
    {
     "data": {
      "application/vnd.jupyter.widget-view+json": {
       "model_id": "",
       "version_major": 2,
       "version_minor": 0
      },
      "text/plain": [
       "Validation: 0it [00:00, ?it/s]"
      ]
     },
     "metadata": {},
     "output_type": "display_data"
    },
    {
     "data": {
      "application/vnd.jupyter.widget-view+json": {
       "model_id": "",
       "version_major": 2,
       "version_minor": 0
      },
      "text/plain": [
       "Validation: 0it [00:00, ?it/s]"
      ]
     },
     "metadata": {},
     "output_type": "display_data"
    },
    {
     "data": {
      "application/vnd.jupyter.widget-view+json": {
       "model_id": "",
       "version_major": 2,
       "version_minor": 0
      },
      "text/plain": [
       "Validation: 0it [00:00, ?it/s]"
      ]
     },
     "metadata": {},
     "output_type": "display_data"
    },
    {
     "data": {
      "application/vnd.jupyter.widget-view+json": {
       "model_id": "",
       "version_major": 2,
       "version_minor": 0
      },
      "text/plain": [
       "Validation: 0it [00:00, ?it/s]"
      ]
     },
     "metadata": {},
     "output_type": "display_data"
    },
    {
     "data": {
      "application/vnd.jupyter.widget-view+json": {
       "model_id": "",
       "version_major": 2,
       "version_minor": 0
      },
      "text/plain": [
       "Validation: 0it [00:00, ?it/s]"
      ]
     },
     "metadata": {},
     "output_type": "display_data"
    },
    {
     "data": {
      "application/vnd.jupyter.widget-view+json": {
       "model_id": "",
       "version_major": 2,
       "version_minor": 0
      },
      "text/plain": [
       "Validation: 0it [00:00, ?it/s]"
      ]
     },
     "metadata": {},
     "output_type": "display_data"
    },
    {
     "data": {
      "application/vnd.jupyter.widget-view+json": {
       "model_id": "",
       "version_major": 2,
       "version_minor": 0
      },
      "text/plain": [
       "Validation: 0it [00:00, ?it/s]"
      ]
     },
     "metadata": {},
     "output_type": "display_data"
    },
    {
     "data": {
      "application/vnd.jupyter.widget-view+json": {
       "model_id": "",
       "version_major": 2,
       "version_minor": 0
      },
      "text/plain": [
       "Validation: 0it [00:00, ?it/s]"
      ]
     },
     "metadata": {},
     "output_type": "display_data"
    },
    {
     "data": {
      "application/vnd.jupyter.widget-view+json": {
       "model_id": "",
       "version_major": 2,
       "version_minor": 0
      },
      "text/plain": [
       "Validation: 0it [00:00, ?it/s]"
      ]
     },
     "metadata": {},
     "output_type": "display_data"
    },
    {
     "data": {
      "application/vnd.jupyter.widget-view+json": {
       "model_id": "",
       "version_major": 2,
       "version_minor": 0
      },
      "text/plain": [
       "Validation: 0it [00:00, ?it/s]"
      ]
     },
     "metadata": {},
     "output_type": "display_data"
    },
    {
     "data": {
      "application/vnd.jupyter.widget-view+json": {
       "model_id": "",
       "version_major": 2,
       "version_minor": 0
      },
      "text/plain": [
       "Validation: 0it [00:00, ?it/s]"
      ]
     },
     "metadata": {},
     "output_type": "display_data"
    },
    {
     "data": {
      "application/vnd.jupyter.widget-view+json": {
       "model_id": "",
       "version_major": 2,
       "version_minor": 0
      },
      "text/plain": [
       "Validation: 0it [00:00, ?it/s]"
      ]
     },
     "metadata": {},
     "output_type": "display_data"
    },
    {
     "data": {
      "application/vnd.jupyter.widget-view+json": {
       "model_id": "",
       "version_major": 2,
       "version_minor": 0
      },
      "text/plain": [
       "Validation: 0it [00:00, ?it/s]"
      ]
     },
     "metadata": {},
     "output_type": "display_data"
    },
    {
     "data": {
      "application/vnd.jupyter.widget-view+json": {
       "model_id": "",
       "version_major": 2,
       "version_minor": 0
      },
      "text/plain": [
       "Validation: 0it [00:00, ?it/s]"
      ]
     },
     "metadata": {},
     "output_type": "display_data"
    },
    {
     "data": {
      "application/vnd.jupyter.widget-view+json": {
       "model_id": "",
       "version_major": 2,
       "version_minor": 0
      },
      "text/plain": [
       "Validation: 0it [00:00, ?it/s]"
      ]
     },
     "metadata": {},
     "output_type": "display_data"
    },
    {
     "data": {
      "application/vnd.jupyter.widget-view+json": {
       "model_id": "",
       "version_major": 2,
       "version_minor": 0
      },
      "text/plain": [
       "Validation: 0it [00:00, ?it/s]"
      ]
     },
     "metadata": {},
     "output_type": "display_data"
    },
    {
     "data": {
      "application/vnd.jupyter.widget-view+json": {
       "model_id": "",
       "version_major": 2,
       "version_minor": 0
      },
      "text/plain": [
       "Validation: 0it [00:00, ?it/s]"
      ]
     },
     "metadata": {},
     "output_type": "display_data"
    },
    {
     "data": {
      "application/vnd.jupyter.widget-view+json": {
       "model_id": "",
       "version_major": 2,
       "version_minor": 0
      },
      "text/plain": [
       "Validation: 0it [00:00, ?it/s]"
      ]
     },
     "metadata": {},
     "output_type": "display_data"
    },
    {
     "data": {
      "application/vnd.jupyter.widget-view+json": {
       "model_id": "",
       "version_major": 2,
       "version_minor": 0
      },
      "text/plain": [
       "Validation: 0it [00:00, ?it/s]"
      ]
     },
     "metadata": {},
     "output_type": "display_data"
    },
    {
     "data": {
      "application/vnd.jupyter.widget-view+json": {
       "model_id": "",
       "version_major": 2,
       "version_minor": 0
      },
      "text/plain": [
       "Validation: 0it [00:00, ?it/s]"
      ]
     },
     "metadata": {},
     "output_type": "display_data"
    },
    {
     "data": {
      "application/vnd.jupyter.widget-view+json": {
       "model_id": "",
       "version_major": 2,
       "version_minor": 0
      },
      "text/plain": [
       "Validation: 0it [00:00, ?it/s]"
      ]
     },
     "metadata": {},
     "output_type": "display_data"
    },
    {
     "data": {
      "application/vnd.jupyter.widget-view+json": {
       "model_id": "",
       "version_major": 2,
       "version_minor": 0
      },
      "text/plain": [
       "Validation: 0it [00:00, ?it/s]"
      ]
     },
     "metadata": {},
     "output_type": "display_data"
    },
    {
     "data": {
      "application/vnd.jupyter.widget-view+json": {
       "model_id": "",
       "version_major": 2,
       "version_minor": 0
      },
      "text/plain": [
       "Validation: 0it [00:00, ?it/s]"
      ]
     },
     "metadata": {},
     "output_type": "display_data"
    },
    {
     "data": {
      "application/vnd.jupyter.widget-view+json": {
       "model_id": "",
       "version_major": 2,
       "version_minor": 0
      },
      "text/plain": [
       "Validation: 0it [00:00, ?it/s]"
      ]
     },
     "metadata": {},
     "output_type": "display_data"
    },
    {
     "data": {
      "application/vnd.jupyter.widget-view+json": {
       "model_id": "",
       "version_major": 2,
       "version_minor": 0
      },
      "text/plain": [
       "Validation: 0it [00:00, ?it/s]"
      ]
     },
     "metadata": {},
     "output_type": "display_data"
    },
    {
     "data": {
      "application/vnd.jupyter.widget-view+json": {
       "model_id": "",
       "version_major": 2,
       "version_minor": 0
      },
      "text/plain": [
       "Validation: 0it [00:00, ?it/s]"
      ]
     },
     "metadata": {},
     "output_type": "display_data"
    },
    {
     "data": {
      "application/vnd.jupyter.widget-view+json": {
       "model_id": "",
       "version_major": 2,
       "version_minor": 0
      },
      "text/plain": [
       "Validation: 0it [00:00, ?it/s]"
      ]
     },
     "metadata": {},
     "output_type": "display_data"
    }
   ],
   "source": [
    "mdl = SizeNormModel(\n",
    "    paths,\n",
    "    params,\n",
    "    model=UNet if model_type == 'unet' else Autoencoder,\n",
    "    adversarial_prob=0.15,\n",
    "    batch_size=64,\n",
    "    channels=(1, 16, 32, 32, 64, 128),\n",
    ")\n",
    "image_display = ImageDisplay(log_interval=50)\n",
    "\n",
    "trainer = pl.Trainer(\n",
    "    max_epochs=1000,\n",
    "    accelerator=\"gpu\" if torch.cuda.is_available() else \"cpu\",\n",
    "    devices=1,\n",
    "    callbacks=[\n",
    "        EarlyStopping(monitor=\"val_loss\", mode=\"min\", patience=25),\n",
    "        checkpoint_callback,\n",
    "        image_display,\n",
    "    ],\n",
    "    precision='16-mixed' if torch.cuda.is_available() else \"bf16-mixed\",\n",
    ")\n",
    "trainer.fit(mdl)"
   ]
  },
  {
   "cell_type": "code",
   "execution_count": null,
   "id": "0987c0d0",
   "metadata": {},
   "outputs": [],
   "source": []
  }
 ],
 "metadata": {
  "kernelspec": {
   "display_name": "Ontogeny",
   "language": "python",
   "name": "aging"
  },
  "language_info": {
   "codemirror_mode": {
    "name": "ipython",
    "version": 3
   },
   "file_extension": ".py",
   "mimetype": "text/x-python",
   "name": "python",
   "nbconvert_exporter": "python",
   "pygments_lexer": "ipython3",
   "version": "3.10.10"
  },
  "widgets": {
   "application/vnd.jupyter.widget-state+json": {
    "state": {
     "00089bc6ec0a45e086ffaf9c4006711e": {
      "model_module": "@jupyter-widgets/controls",
      "model_module_version": "2.0.0",
      "model_name": "HTMLModel",
      "state": {
       "layout": "IPY_MODEL_8b9a0e0a815549a6933b59c9b8b2628b",
       "style": "IPY_MODEL_e12a2d4e1e884e53a1b7ccfeab430ac4",
       "value": " 170/170 [00:16&lt;00:00, 10.14it/s]"
      }
     },
     "0033fda596a84b2d972d66d1e08ed236": {
      "model_module": "@jupyter-widgets/controls",
      "model_module_version": "2.0.0",
      "model_name": "ProgressStyleModel",
      "state": {
       "description_width": ""
      }
     },
     "00c46ec42946434396207132690d8a7e": {
      "model_module": "@jupyter-widgets/controls",
      "model_module_version": "2.0.0",
      "model_name": "HTMLStyleModel",
      "state": {
       "description_width": "",
       "font_size": null,
       "text_color": null
      }
     },
     "00d7df59f8434d0b9fd34cbe669c123b": {
      "model_module": "@jupyter-widgets/controls",
      "model_module_version": "2.0.0",
      "model_name": "HTMLStyleModel",
      "state": {
       "description_width": "",
       "font_size": null,
       "text_color": null
      }
     },
     "00dc7f8ac8984aafb46bb96a5d6ea5ed": {
      "model_module": "@jupyter-widgets/controls",
      "model_module_version": "2.0.0",
      "model_name": "FloatProgressModel",
      "state": {
       "layout": "IPY_MODEL_9c613e87f9114d40986c6fcfd3e99782",
       "max": 170,
       "style": "IPY_MODEL_4acd0ae2457242eab41c429a5ffe95be",
       "value": 170
      }
     },
     "01da89b0810c4f909fd28a3976980454": {
      "model_module": "@jupyter-widgets/base",
      "model_module_version": "2.0.0",
      "model_name": "LayoutModel",
      "state": {
       "flex": "2"
      }
     },
     "034b726d0a584fdd9c20828121803fa4": {
      "model_module": "@jupyter-widgets/controls",
      "model_module_version": "2.0.0",
      "model_name": "FloatProgressModel",
      "state": {
       "layout": "IPY_MODEL_9696685c055a4378a053df04900afbda",
       "max": 170,
       "style": "IPY_MODEL_0fdd4bd65cea4c25918e3510033d9030",
       "value": 170
      }
     },
     "035b6d9af8114c0bae266665d0a9086e": {
      "model_module": "@jupyter-widgets/controls",
      "model_module_version": "2.0.0",
      "model_name": "FloatProgressModel",
      "state": {
       "layout": "IPY_MODEL_040b366eee474af1b4668e7b1c3ace64",
       "max": 170,
       "style": "IPY_MODEL_b5132c688e7843fa8ba2868f30570a70",
       "value": 170
      }
     },
     "038c99b38aa3480c934d3e4c877d37dc": {
      "model_module": "@jupyter-widgets/base",
      "model_module_version": "2.0.0",
      "model_name": "LayoutModel",
      "state": {
       "flex": "2"
      }
     },
     "03bcb1c483734a03bee0bdcaa3719c10": {
      "model_module": "@jupyter-widgets/controls",
      "model_module_version": "2.0.0",
      "model_name": "HTMLStyleModel",
      "state": {
       "description_width": "",
       "font_size": null,
       "text_color": null
      }
     },
     "040b366eee474af1b4668e7b1c3ace64": {
      "model_module": "@jupyter-widgets/base",
      "model_module_version": "2.0.0",
      "model_name": "LayoutModel",
      "state": {
       "flex": "2"
      }
     },
     "041858ebb6414dcfbcc5bd42d96238c3": {
      "model_module": "@jupyter-widgets/controls",
      "model_module_version": "2.0.0",
      "model_name": "HTMLModel",
      "state": {
       "layout": "IPY_MODEL_3f8c40027b074a3cbd23d99482887e1d",
       "style": "IPY_MODEL_ff44fa1b9c24484984d0580e16a622f7",
       "value": "Validation DataLoader 0: 100%"
      }
     },
     "041abc118e9e477bbac9085dbf58ec74": {
      "model_module": "@jupyter-widgets/base",
      "model_module_version": "2.0.0",
      "model_name": "LayoutModel",
      "state": {}
     },
     "044f8be8f93c46cebd50c0de3abeea70": {
      "model_module": "@jupyter-widgets/controls",
      "model_module_version": "2.0.0",
      "model_name": "HTMLStyleModel",
      "state": {
       "description_width": "",
       "font_size": null,
       "text_color": null
      }
     },
     "045beb1f139548c9abe96ec5365a2cfe": {
      "model_module": "@jupyter-widgets/controls",
      "model_module_version": "2.0.0",
      "model_name": "HTMLStyleModel",
      "state": {
       "description_width": "",
       "font_size": null,
       "text_color": null
      }
     },
     "045eb93c1e5c4d66a88f8f7d555d59df": {
      "model_module": "@jupyter-widgets/controls",
      "model_module_version": "2.0.0",
      "model_name": "HTMLStyleModel",
      "state": {
       "description_width": "",
       "font_size": null,
       "text_color": null
      }
     },
     "049878e346674635a1490da66dae3b1f": {
      "model_module": "@jupyter-widgets/controls",
      "model_module_version": "2.0.0",
      "model_name": "HTMLStyleModel",
      "state": {
       "description_width": "",
       "font_size": null,
       "text_color": null
      }
     },
     "049b07d9c665474c8b3704e6a15e8bf1": {
      "model_module": "@jupyter-widgets/base",
      "model_module_version": "2.0.0",
      "model_name": "LayoutModel",
      "state": {
       "flex": "2"
      }
     },
     "04dec44aa759482fafc97560a3899b98": {
      "model_module": "@jupyter-widgets/base",
      "model_module_version": "2.0.0",
      "model_name": "LayoutModel",
      "state": {
       "flex": "2"
      }
     },
     "0507c9b32f894d728cfa72fcbf3438ac": {
      "model_module": "@jupyter-widgets/base",
      "model_module_version": "2.0.0",
      "model_name": "LayoutModel",
      "state": {}
     },
     "054da52264ca49c183bc2c2736ff78f4": {
      "model_module": "@jupyter-widgets/controls",
      "model_module_version": "2.0.0",
      "model_name": "FloatProgressModel",
      "state": {
       "layout": "IPY_MODEL_202bfe141c824beb830b782eb672e674",
       "max": 170,
       "style": "IPY_MODEL_c0b13b2ddeae4387bfee9797ef5f2ffc",
       "value": 170
      }
     },
     "05acb45545fd410a9320f946398f0e8b": {
      "model_module": "@jupyter-widgets/controls",
      "model_module_version": "2.0.0",
      "model_name": "HTMLModel",
      "state": {
       "layout": "IPY_MODEL_041abc118e9e477bbac9085dbf58ec74",
       "style": "IPY_MODEL_fe10527786cb46808878646b0bda57fb",
       "value": "Validation DataLoader 0: 100%"
      }
     },
     "060474867a2b4b4d8005246535cca2dc": {
      "model_module": "@jupyter-widgets/controls",
      "model_module_version": "2.0.0",
      "model_name": "HTMLModel",
      "state": {
       "layout": "IPY_MODEL_e5043eeeb71c456097cd5d9119739781",
       "style": "IPY_MODEL_8aaa247613a94d308190aaf136ca855f",
       "value": "Validation DataLoader 0: 100%"
      }
     },
     "0693a3d4b90b473fb380142a7ce46f2c": {
      "model_module": "@jupyter-widgets/controls",
      "model_module_version": "2.0.0",
      "model_name": "ProgressStyleModel",
      "state": {
       "description_width": ""
      }
     },
     "078212b20f9a409e953e00e8666c4529": {
      "model_module": "@jupyter-widgets/controls",
      "model_module_version": "2.0.0",
      "model_name": "HTMLModel",
      "state": {
       "layout": "IPY_MODEL_dc844719488143a28f43f0a030c62a38",
       "style": "IPY_MODEL_00d7df59f8434d0b9fd34cbe669c123b",
       "value": " 170/170 [00:17&lt;00:00,  9.94it/s]"
      }
     },
     "07969a20287c42d7852b4c88c3ea59b9": {
      "model_module": "@jupyter-widgets/controls",
      "model_module_version": "2.0.0",
      "model_name": "HTMLStyleModel",
      "state": {
       "description_width": "",
       "font_size": null,
       "text_color": null
      }
     },
     "0796d1c7e2cc4e379dd61b6b1c7d7219": {
      "model_module": "@jupyter-widgets/controls",
      "model_module_version": "2.0.0",
      "model_name": "FloatProgressModel",
      "state": {
       "layout": "IPY_MODEL_d6d0ad56db864735bf2dc988ef832b57",
       "max": 170,
       "style": "IPY_MODEL_d701659145e04776ba159b6677ec8fac",
       "value": 170
      }
     },
     "07d51b33de1c42d3adfbf326bc7da056": {
      "model_module": "@jupyter-widgets/base",
      "model_module_version": "2.0.0",
      "model_name": "LayoutModel",
      "state": {}
     },
     "07ee07e64ebf42f59ac2104c6c7232fe": {
      "model_module": "@jupyter-widgets/base",
      "model_module_version": "2.0.0",
      "model_name": "LayoutModel",
      "state": {
       "display": "inline-flex",
       "flex_flow": "row wrap",
       "visibility": "hidden",
       "width": "100%"
      }
     },
     "088d253f673846e6ae95ec91dbd9423c": {
      "model_module": "@jupyter-widgets/controls",
      "model_module_version": "2.0.0",
      "model_name": "FloatProgressModel",
      "state": {
       "layout": "IPY_MODEL_5da28873a27341a997cf88a003908a65",
       "max": 170,
       "style": "IPY_MODEL_7672d2c141ac4c07b78ae238c729e7e2",
       "value": 170
      }
     },
     "0899f1edb1544c208c33702c284fe1e2": {
      "model_module": "@jupyter-widgets/controls",
      "model_module_version": "2.0.0",
      "model_name": "HTMLStyleModel",
      "state": {
       "description_width": "",
       "font_size": null,
       "text_color": null
      }
     },
     "08a01f31c401429db24453e650ab2dd6": {
      "model_module": "@jupyter-widgets/base",
      "model_module_version": "2.0.0",
      "model_name": "LayoutModel",
      "state": {
       "display": "inline-flex",
       "flex_flow": "row wrap",
       "visibility": "hidden",
       "width": "100%"
      }
     },
     "08b8480b415c445b93658dc3826fa4c8": {
      "model_module": "@jupyter-widgets/controls",
      "model_module_version": "2.0.0",
      "model_name": "FloatProgressModel",
      "state": {
       "layout": "IPY_MODEL_c34f6773592542308e06cd690b406a7a",
       "max": 170,
       "style": "IPY_MODEL_94c94fa58a874e6a91ec47c5b2e6f07e",
       "value": 170
      }
     },
     "094f1eb28a874e41b8e6bccebbbdce57": {
      "model_module": "@jupyter-widgets/controls",
      "model_module_version": "2.0.0",
      "model_name": "HTMLModel",
      "state": {
       "layout": "IPY_MODEL_1ee86c4bd00b41deb3517d9adc40adca",
       "style": "IPY_MODEL_aab89a2b637f412fa00a83447da9740c",
       "value": "Validation DataLoader 0: 100%"
      }
     },
     "095074ae85294c6d8a427bc564317e7f": {
      "model_module": "@jupyter-widgets/controls",
      "model_module_version": "2.0.0",
      "model_name": "HTMLStyleModel",
      "state": {
       "description_width": "",
       "font_size": null,
       "text_color": null
      }
     },
     "096825b0d01d413784cb4ca79e73f9b4": {
      "model_module": "@jupyter-widgets/base",
      "model_module_version": "2.0.0",
      "model_name": "LayoutModel",
      "state": {
       "display": "inline-flex",
       "flex_flow": "row wrap",
       "width": "100%"
      }
     },
     "09809381f0f54bdf8b9a5e9f6ecdf5c6": {
      "model_module": "@jupyter-widgets/base",
      "model_module_version": "2.0.0",
      "model_name": "LayoutModel",
      "state": {}
     },
     "09b3027596e44b989d35a0f938fc657e": {
      "model_module": "@jupyter-widgets/controls",
      "model_module_version": "2.0.0",
      "model_name": "FloatProgressModel",
      "state": {
       "layout": "IPY_MODEL_13fd11b5c81746a9b1374a9800d83a1d",
       "max": 170,
       "style": "IPY_MODEL_2076bb75be5944e981ee8c536868d8a0",
       "value": 170
      }
     },
     "09c8ab8ecf864535ae8fd55523ed6357": {
      "model_module": "@jupyter-widgets/base",
      "model_module_version": "2.0.0",
      "model_name": "LayoutModel",
      "state": {}
     },
     "0a69637b263a4219a0cc579c56dfa2bb": {
      "model_module": "@jupyter-widgets/base",
      "model_module_version": "2.0.0",
      "model_name": "LayoutModel",
      "state": {
       "flex": "2"
      }
     },
     "0a7724def371483eaa2fd3f3c5d2fa5b": {
      "model_module": "@jupyter-widgets/controls",
      "model_module_version": "2.0.0",
      "model_name": "FloatProgressModel",
      "state": {
       "layout": "IPY_MODEL_302af079037e42f5b8fcc9d9e6d047c2",
       "max": 170,
       "style": "IPY_MODEL_c6b23f1a771e4f00848beb9975028a03",
       "value": 170
      }
     },
     "0aac53b3740243de93c86fea1e410dd8": {
      "model_module": "@jupyter-widgets/base",
      "model_module_version": "2.0.0",
      "model_name": "LayoutModel",
      "state": {
       "flex": "2"
      }
     },
     "0ab3992d216542888bbcaff26732f01a": {
      "model_module": "@jupyter-widgets/controls",
      "model_module_version": "2.0.0",
      "model_name": "HTMLModel",
      "state": {
       "layout": "IPY_MODEL_a2aad7af5029431eb4645aed0feb31e0",
       "style": "IPY_MODEL_933fdad29811428fb68943c26f95fb26",
       "value": " 170/170 [00:16&lt;00:00, 10.30it/s]"
      }
     },
     "0b682bb551754a1ba509f5911ee47509": {
      "model_module": "@jupyter-widgets/controls",
      "model_module_version": "2.0.0",
      "model_name": "HTMLStyleModel",
      "state": {
       "description_width": "",
       "font_size": null,
       "text_color": null
      }
     },
     "0ba26258f55e4135bc9792a805657bb7": {
      "model_module": "@jupyter-widgets/controls",
      "model_module_version": "2.0.0",
      "model_name": "HTMLModel",
      "state": {
       "layout": "IPY_MODEL_60c25e1433a64cd59756f2ea6dd881d3",
       "style": "IPY_MODEL_0899f1edb1544c208c33702c284fe1e2",
       "value": " 170/170 [00:16&lt;00:00, 10.13it/s]"
      }
     },
     "0cc7550d96f94521b6c5c774eac72aaf": {
      "model_module": "@jupyter-widgets/controls",
      "model_module_version": "2.0.0",
      "model_name": "HTMLModel",
      "state": {
       "layout": "IPY_MODEL_2dbe5255d5104c4583597ccb61d7c034",
       "style": "IPY_MODEL_f02c9b58d70f4a9b85cf4cc8256641ff",
       "value": "Validation DataLoader 0: 100%"
      }
     },
     "0d8170e420f448548c90a0a1598bf5c2": {
      "model_module": "@jupyter-widgets/controls",
      "model_module_version": "2.0.0",
      "model_name": "HTMLModel",
      "state": {
       "layout": "IPY_MODEL_9f763886ea00419db49700402a45f56e",
       "style": "IPY_MODEL_90c093f39815413da4938daf51c94c18",
       "value": " 170/170 [00:16&lt;00:00, 10.17it/s]"
      }
     },
     "0d87a37cf75c41b480b44c2b68c3066e": {
      "model_module": "@jupyter-widgets/controls",
      "model_module_version": "2.0.0",
      "model_name": "FloatProgressModel",
      "state": {
       "layout": "IPY_MODEL_e033c4ddf740409bbe9fe35136be77d6",
       "max": 170,
       "style": "IPY_MODEL_6d8e1ac766d24386a0353d25845432ec",
       "value": 170
      }
     },
     "0da4f983545743e4b1513985af99f9fa": {
      "model_module": "@jupyter-widgets/base",
      "model_module_version": "2.0.0",
      "model_name": "LayoutModel",
      "state": {
       "flex": "2"
      }
     },
     "0de8c1a98c3e4d1597bd713c3a0b9e70": {
      "model_module": "@jupyter-widgets/controls",
      "model_module_version": "2.0.0",
      "model_name": "HTMLStyleModel",
      "state": {
       "description_width": "",
       "font_size": null,
       "text_color": null
      }
     },
     "0e0190890ce743d98ef37a64cd4331dc": {
      "model_module": "@jupyter-widgets/base",
      "model_module_version": "2.0.0",
      "model_name": "LayoutModel",
      "state": {}
     },
     "0e06ee25ea944c79b299a14d3c2e4473": {
      "model_module": "@jupyter-widgets/base",
      "model_module_version": "2.0.0",
      "model_name": "LayoutModel",
      "state": {
       "display": "inline-flex",
       "flex_flow": "row wrap",
       "visibility": "hidden",
       "width": "100%"
      }
     },
     "0e1c6ef34fab466d84eeadde799a4c64": {
      "model_module": "@jupyter-widgets/controls",
      "model_module_version": "2.0.0",
      "model_name": "HTMLModel",
      "state": {
       "layout": "IPY_MODEL_10ae0052fd9a49df9f05a6360d062304",
       "style": "IPY_MODEL_ba1959bc958d4f948d6e4f3c6e600411",
       "value": " 170/170 [00:16&lt;00:00, 10.08it/s]"
      }
     },
     "0ecee710cc19476e8da35517b5fcf11e": {
      "model_module": "@jupyter-widgets/controls",
      "model_module_version": "2.0.0",
      "model_name": "HTMLModel",
      "state": {
       "layout": "IPY_MODEL_09809381f0f54bdf8b9a5e9f6ecdf5c6",
       "style": "IPY_MODEL_4cc77ea94cd640e5b1c0cfd1ddd2830f",
       "value": " 170/170 [00:16&lt;00:00, 10.11it/s]"
      }
     },
     "0ef16ec7e06f403b95c1f8d97fd45ddb": {
      "model_module": "@jupyter-widgets/base",
      "model_module_version": "2.0.0",
      "model_name": "LayoutModel",
      "state": {}
     },
     "0fc28e8405f842cbba1f42a53f71c164": {
      "model_module": "@jupyter-widgets/base",
      "model_module_version": "2.0.0",
      "model_name": "LayoutModel",
      "state": {
       "display": "inline-flex",
       "flex_flow": "row wrap",
       "visibility": "hidden",
       "width": "100%"
      }
     },
     "0fdd4bd65cea4c25918e3510033d9030": {
      "model_module": "@jupyter-widgets/controls",
      "model_module_version": "2.0.0",
      "model_name": "ProgressStyleModel",
      "state": {
       "description_width": ""
      }
     },
     "0ff4b6055694476195bca9f94b25aa64": {
      "model_module": "@jupyter-widgets/base",
      "model_module_version": "2.0.0",
      "model_name": "LayoutModel",
      "state": {}
     },
     "103deed43ed741a688da661c6518c6bb": {
      "model_module": "@jupyter-widgets/base",
      "model_module_version": "2.0.0",
      "model_name": "LayoutModel",
      "state": {}
     },
     "105fde629aad4eeaad37eaf8f16ca481": {
      "model_module": "@jupyter-widgets/controls",
      "model_module_version": "2.0.0",
      "model_name": "HTMLStyleModel",
      "state": {
       "description_width": "",
       "font_size": null,
       "text_color": null
      }
     },
     "1072c21a81e34f2dbeff40ceb6bf4a3a": {
      "model_module": "@jupyter-widgets/controls",
      "model_module_version": "2.0.0",
      "model_name": "HTMLModel",
      "state": {
       "layout": "IPY_MODEL_36ba172344e44c938745ffc8ade3dcdb",
       "style": "IPY_MODEL_07969a20287c42d7852b4c88c3ea59b9",
       "value": "Validation DataLoader 0: 100%"
      }
     },
     "10a27b52797b4716940973f66323f193": {
      "model_module": "@jupyter-widgets/base",
      "model_module_version": "2.0.0",
      "model_name": "LayoutModel",
      "state": {
       "display": "inline-flex",
       "flex_flow": "row wrap",
       "visibility": "hidden",
       "width": "100%"
      }
     },
     "10a858c41bbb4eb58835171f4662774d": {
      "model_module": "@jupyter-widgets/controls",
      "model_module_version": "2.0.0",
      "model_name": "HTMLModel",
      "state": {
       "layout": "IPY_MODEL_a12458249a9b44b9b38e1910b295c634",
       "style": "IPY_MODEL_e29b845bda894efbb998ec9875bc27b7",
       "value": " 170/170 [00:16&lt;00:00, 10.12it/s]"
      }
     },
     "10ae0052fd9a49df9f05a6360d062304": {
      "model_module": "@jupyter-widgets/base",
      "model_module_version": "2.0.0",
      "model_name": "LayoutModel",
      "state": {}
     },
     "10fd50096e4640ca85a3fbf3cb887c36": {
      "model_module": "@jupyter-widgets/controls",
      "model_module_version": "2.0.0",
      "model_name": "FloatProgressModel",
      "state": {
       "layout": "IPY_MODEL_29d0421d925c46a5964b3a71bd485dde",
       "max": 170,
       "style": "IPY_MODEL_2ed8acd79ed04a4bbeff1fedb148c619",
       "value": 170
      }
     },
     "116e576dd48b4c6c93eca4554ee799e2": {
      "model_module": "@jupyter-widgets/controls",
      "model_module_version": "2.0.0",
      "model_name": "HTMLStyleModel",
      "state": {
       "description_width": "",
       "font_size": null,
       "text_color": null
      }
     },
     "118412859e9240899cb09eec47d0b98b": {
      "model_module": "@jupyter-widgets/controls",
      "model_module_version": "2.0.0",
      "model_name": "ProgressStyleModel",
      "state": {
       "description_width": ""
      }
     },
     "13e15c1a49264d46b5069589c0d62cf8": {
      "model_module": "@jupyter-widgets/controls",
      "model_module_version": "2.0.0",
      "model_name": "FloatProgressModel",
      "state": {
       "layout": "IPY_MODEL_3ec4e810a9dd48b8b75d1e310c3ad1ba",
       "max": 170,
       "style": "IPY_MODEL_38a4ad2401374a109de7bd64e32dab00",
       "value": 170
      }
     },
     "13fd11b5c81746a9b1374a9800d83a1d": {
      "model_module": "@jupyter-widgets/base",
      "model_module_version": "2.0.0",
      "model_name": "LayoutModel",
      "state": {
       "flex": "2"
      }
     },
     "1434a6c969784b9c9ef6c2637ee393e5": {
      "model_module": "@jupyter-widgets/controls",
      "model_module_version": "2.0.0",
      "model_name": "HTMLModel",
      "state": {
       "layout": "IPY_MODEL_c8fba5c66bfd4192aa2765da80a78434",
       "style": "IPY_MODEL_e2f62385f1004ec08b211fbe7e80b2b4",
       "value": " 170/170 [00:16&lt;00:00, 10.31it/s]"
      }
     },
     "14facc58a4da46c3bf535e4253078de8": {
      "model_module": "@jupyter-widgets/controls",
      "model_module_version": "2.0.0",
      "model_name": "HTMLStyleModel",
      "state": {
       "description_width": "",
       "font_size": null,
       "text_color": null
      }
     },
     "155293c16192406c8247445276d45ff2": {
      "model_module": "@jupyter-widgets/base",
      "model_module_version": "2.0.0",
      "model_name": "LayoutModel",
      "state": {
       "flex": "2"
      }
     },
     "1581410b0b334f469e8408a8930ef49a": {
      "model_module": "@jupyter-widgets/controls",
      "model_module_version": "2.0.0",
      "model_name": "ProgressStyleModel",
      "state": {
       "description_width": ""
      }
     },
     "16904a706046458f944c91aacac089cf": {
      "model_module": "@jupyter-widgets/controls",
      "model_module_version": "2.0.0",
      "model_name": "HTMLModel",
      "state": {
       "layout": "IPY_MODEL_9e1339814449490994cf5843a406defd",
       "style": "IPY_MODEL_bd73071ded6745a48fe23251356d450c",
       "value": " 170/170 [00:16&lt;00:00, 10.12it/s]"
      }
     },
     "16f00d47e8e54abd8bb92c2cb2c80c16": {
      "model_module": "@jupyter-widgets/controls",
      "model_module_version": "2.0.0",
      "model_name": "HTMLModel",
      "state": {
       "layout": "IPY_MODEL_5d42df0eac0e4a28b881880df0b90707",
       "style": "IPY_MODEL_3985dded25784a43ae0d92ace3155b61",
       "value": "Validation DataLoader 0: 100%"
      }
     },
     "179f8c57631848149aa3c92684070c0d": {
      "model_module": "@jupyter-widgets/controls",
      "model_module_version": "2.0.0",
      "model_name": "HTMLStyleModel",
      "state": {
       "description_width": "",
       "font_size": null,
       "text_color": null
      }
     },
     "180f49e0cd7b4632976e1a0d35f41473": {
      "model_module": "@jupyter-widgets/controls",
      "model_module_version": "2.0.0",
      "model_name": "HTMLStyleModel",
      "state": {
       "description_width": "",
       "font_size": null,
       "text_color": null
      }
     },
     "1848d5cd7d7244c4940c6b70652d993e": {
      "model_module": "@jupyter-widgets/controls",
      "model_module_version": "2.0.0",
      "model_name": "HBoxModel",
      "state": {
       "children": [
        "IPY_MODEL_60d025c31e6747cba40a89d92006e6e5",
        "IPY_MODEL_f42f9d5abf354beb9c42ecb254b24fe6",
        "IPY_MODEL_4690d12356b14e22a5829756860e02a8"
       ],
       "layout": "IPY_MODEL_096825b0d01d413784cb4ca79e73f9b4"
      }
     },
     "18b21413763040c498c618e14d2cbd6c": {
      "model_module": "@jupyter-widgets/controls",
      "model_module_version": "2.0.0",
      "model_name": "HTMLModel",
      "state": {
       "layout": "IPY_MODEL_a35bfe07c2134cfc9abb2975a1984b7b",
       "style": "IPY_MODEL_116e576dd48b4c6c93eca4554ee799e2",
       "value": "Validation DataLoader 0: 100%"
      }
     },
     "18fd0b152f7d44de8942e81d9e9e417f": {
      "model_module": "@jupyter-widgets/base",
      "model_module_version": "2.0.0",
      "model_name": "LayoutModel",
      "state": {}
     },
     "190426e15ad94b46afa4b599d5da0fad": {
      "model_module": "@jupyter-widgets/controls",
      "model_module_version": "2.0.0",
      "model_name": "HTMLStyleModel",
      "state": {
       "description_width": "",
       "font_size": null,
       "text_color": null
      }
     },
     "1905ca8af5bd45b29b5840b15f3f77e0": {
      "model_module": "@jupyter-widgets/controls",
      "model_module_version": "2.0.0",
      "model_name": "HTMLStyleModel",
      "state": {
       "description_width": "",
       "font_size": null,
       "text_color": null
      }
     },
     "19b019bfdde64da0b47759d7ace92757": {
      "model_module": "@jupyter-widgets/base",
      "model_module_version": "2.0.0",
      "model_name": "LayoutModel",
      "state": {}
     },
     "19d381e5ea484f788f12235780bb400f": {
      "model_module": "@jupyter-widgets/controls",
      "model_module_version": "2.0.0",
      "model_name": "HTMLModel",
      "state": {
       "layout": "IPY_MODEL_3df2ac3975c94be795c41564a6775dcd",
       "style": "IPY_MODEL_f8ed14360f664ddfb78e7a351fb3164f",
       "value": " 170/170 [00:16&lt;00:00, 10.20it/s]"
      }
     },
     "1a012a32e04c41428aa763504225cd52": {
      "model_module": "@jupyter-widgets/base",
      "model_module_version": "2.0.0",
      "model_name": "LayoutModel",
      "state": {}
     },
     "1ac5dbf3b8494a53b326f33fd62859f0": {
      "model_module": "@jupyter-widgets/controls",
      "model_module_version": "2.0.0",
      "model_name": "FloatProgressModel",
      "state": {
       "layout": "IPY_MODEL_65756d59b98a409682b2b4b3baeb7cf3",
       "max": 170,
       "style": "IPY_MODEL_3b3874c219154dd9a60b18c082851be6",
       "value": 170
      }
     },
     "1ac9563e7ac74474b64f1e3258bab67e": {
      "model_module": "@jupyter-widgets/controls",
      "model_module_version": "2.0.0",
      "model_name": "HTMLModel",
      "state": {
       "layout": "IPY_MODEL_50b35a9826cc406e92d1372505eb7bcb",
       "style": "IPY_MODEL_1e3358644cb14f769c416e951d38fbb5",
       "value": " 170/170 [00:16&lt;00:00, 10.20it/s]"
      }
     },
     "1b1aed9cbca14a3c98bb8977b995c87c": {
      "model_module": "@jupyter-widgets/base",
      "model_module_version": "2.0.0",
      "model_name": "LayoutModel",
      "state": {}
     },
     "1b777904f0dd4193a742c9434844d5b7": {
      "model_module": "@jupyter-widgets/controls",
      "model_module_version": "2.0.0",
      "model_name": "HTMLModel",
      "state": {
       "layout": "IPY_MODEL_47431e5bda7b4f99a2fb50ff907b5a46",
       "style": "IPY_MODEL_b09a1db63c97497991e87bd5e01e65cd",
       "value": "Validation DataLoader 0: 100%"
      }
     },
     "1b90dc708d31455a83be89d2b025d830": {
      "model_module": "@jupyter-widgets/base",
      "model_module_version": "2.0.0",
      "model_name": "LayoutModel",
      "state": {}
     },
     "1c0fc52b04574f28811034fa1e59e99f": {
      "model_module": "@jupyter-widgets/controls",
      "model_module_version": "2.0.0",
      "model_name": "HTMLModel",
      "state": {
       "layout": "IPY_MODEL_c5570848f2ba40c885e7c0d0dc7d2d2a",
       "style": "IPY_MODEL_31f0440902664d699a0fa7d6c41a252b",
       "value": " 170/170 [00:17&lt;00:00,  9.88it/s]"
      }
     },
     "1c3214c537134c1e9d30be6519893e01": {
      "model_module": "@jupyter-widgets/controls",
      "model_module_version": "2.0.0",
      "model_name": "HTMLModel",
      "state": {
       "layout": "IPY_MODEL_2fdbba4b78224b8c9fd92fab1704851f",
       "style": "IPY_MODEL_0de8c1a98c3e4d1597bd713c3a0b9e70",
       "value": " 170/170 [00:16&lt;00:00, 10.14it/s]"
      }
     },
     "1d2a58c7a84544bb98d5752e688f0e19": {
      "model_module": "@jupyter-widgets/controls",
      "model_module_version": "2.0.0",
      "model_name": "HTMLStyleModel",
      "state": {
       "description_width": "",
       "font_size": null,
       "text_color": null
      }
     },
     "1d2bfaf476f74761bcdd3cff16d9bd57": {
      "model_module": "@jupyter-widgets/base",
      "model_module_version": "2.0.0",
      "model_name": "LayoutModel",
      "state": {}
     },
     "1daecd857b4243d6a3f2de41cc1edfa8": {
      "model_module": "@jupyter-widgets/controls",
      "model_module_version": "2.0.0",
      "model_name": "FloatProgressModel",
      "state": {
       "layout": "IPY_MODEL_a5b6ea51371746d08189c06e29668703",
       "max": 170,
       "style": "IPY_MODEL_40ae369ef3014c6db6742a2f95091463",
       "value": 170
      }
     },
     "1dd9b12c4ebe43068a359a59c6d5895d": {
      "model_module": "@jupyter-widgets/controls",
      "model_module_version": "2.0.0",
      "model_name": "HTMLStyleModel",
      "state": {
       "description_width": "",
       "font_size": null,
       "text_color": null
      }
     },
     "1e3358644cb14f769c416e951d38fbb5": {
      "model_module": "@jupyter-widgets/controls",
      "model_module_version": "2.0.0",
      "model_name": "HTMLStyleModel",
      "state": {
       "description_width": "",
       "font_size": null,
       "text_color": null
      }
     },
     "1e4186e7292147fdad1f9fb0a9733c76": {
      "model_module": "@jupyter-widgets/controls",
      "model_module_version": "2.0.0",
      "model_name": "HTMLModel",
      "state": {
       "layout": "IPY_MODEL_5532f50522fa40668494a36fa41e1d54",
       "style": "IPY_MODEL_9f721aca1aaf4103bc8588ffbc9c90b5",
       "value": "Validation DataLoader 0: 100%"
      }
     },
     "1e6de1d641454bf997355ed6be8195d8": {
      "model_module": "@jupyter-widgets/base",
      "model_module_version": "2.0.0",
      "model_name": "LayoutModel",
      "state": {}
     },
     "1eb568bc67cc4d8d9619f46e2657e04b": {
      "model_module": "@jupyter-widgets/controls",
      "model_module_version": "2.0.0",
      "model_name": "ProgressStyleModel",
      "state": {
       "description_width": ""
      }
     },
     "1ee86c4bd00b41deb3517d9adc40adca": {
      "model_module": "@jupyter-widgets/base",
      "model_module_version": "2.0.0",
      "model_name": "LayoutModel",
      "state": {}
     },
     "1f104f8935054e8694eb91a1e94d976a": {
      "model_module": "@jupyter-widgets/base",
      "model_module_version": "2.0.0",
      "model_name": "LayoutModel",
      "state": {
       "display": "inline-flex",
       "flex_flow": "row wrap",
       "visibility": "hidden",
       "width": "100%"
      }
     },
     "1fc78333616249839981452588ebe4ae": {
      "model_module": "@jupyter-widgets/controls",
      "model_module_version": "2.0.0",
      "model_name": "HTMLModel",
      "state": {
       "layout": "IPY_MODEL_788aec1b35744584a0482695a0669c77",
       "style": "IPY_MODEL_1d2a58c7a84544bb98d5752e688f0e19",
       "value": "Validation DataLoader 0: 100%"
      }
     },
     "200365b21c504ce7abf1f47ed1a6de03": {
      "model_module": "@jupyter-widgets/base",
      "model_module_version": "2.0.0",
      "model_name": "LayoutModel",
      "state": {}
     },
     "202bfe141c824beb830b782eb672e674": {
      "model_module": "@jupyter-widgets/base",
      "model_module_version": "2.0.0",
      "model_name": "LayoutModel",
      "state": {
       "flex": "2"
      }
     },
     "2076bb75be5944e981ee8c536868d8a0": {
      "model_module": "@jupyter-widgets/controls",
      "model_module_version": "2.0.0",
      "model_name": "ProgressStyleModel",
      "state": {
       "description_width": ""
      }
     },
     "2103f20a41f54665ab75e464fa0264be": {
      "model_module": "@jupyter-widgets/controls",
      "model_module_version": "2.0.0",
      "model_name": "ProgressStyleModel",
      "state": {
       "description_width": ""
      }
     },
     "21acf3f78cb44d3594ce9e7ad4613680": {
      "model_module": "@jupyter-widgets/base",
      "model_module_version": "2.0.0",
      "model_name": "LayoutModel",
      "state": {}
     },
     "21b900dedb0d451a8a0ca14a68a6ab22": {
      "model_module": "@jupyter-widgets/controls",
      "model_module_version": "2.0.0",
      "model_name": "ProgressStyleModel",
      "state": {
       "description_width": ""
      }
     },
     "22a7d41b2a5444c9b91d5e210926b89e": {
      "model_module": "@jupyter-widgets/controls",
      "model_module_version": "2.0.0",
      "model_name": "HTMLStyleModel",
      "state": {
       "description_width": "",
       "font_size": null,
       "text_color": null
      }
     },
     "230c812410104ac9a2f97cb0fff19daa": {
      "model_module": "@jupyter-widgets/controls",
      "model_module_version": "2.0.0",
      "model_name": "HTMLModel",
      "state": {
       "layout": "IPY_MODEL_2eb8b567d6b84abe9c25b0c42d089dbe",
       "style": "IPY_MODEL_6ed9aa9561ba4b3d8ae3c065a3208a21",
       "value": "Validation DataLoader 0: 100%"
      }
     },
     "23b7d767459f46339646208e1ef6d38a": {
      "model_module": "@jupyter-widgets/base",
      "model_module_version": "2.0.0",
      "model_name": "LayoutModel",
      "state": {
       "display": "inline-flex",
       "flex_flow": "row wrap",
       "visibility": "hidden",
       "width": "100%"
      }
     },
     "23f25e3419dd472fa8b484b061b40428": {
      "model_module": "@jupyter-widgets/base",
      "model_module_version": "2.0.0",
      "model_name": "LayoutModel",
      "state": {}
     },
     "2462ac7e450246fea615fcac4c58e76f": {
      "model_module": "@jupyter-widgets/controls",
      "model_module_version": "2.0.0",
      "model_name": "HTMLStyleModel",
      "state": {
       "description_width": "",
       "font_size": null,
       "text_color": null
      }
     },
     "24b620602b17406abcd81f25f960328d": {
      "model_module": "@jupyter-widgets/controls",
      "model_module_version": "2.0.0",
      "model_name": "HTMLModel",
      "state": {
       "layout": "IPY_MODEL_998d21cefe6f4b0fb9b9a644b8accfdc",
       "style": "IPY_MODEL_5ebe59b37072485fa124cf285f6465a2",
       "value": " 170/170 [00:16&lt;00:00, 10.06it/s]"
      }
     },
     "251d44978ff540db8f37b2609c889815": {
      "model_module": "@jupyter-widgets/base",
      "model_module_version": "2.0.0",
      "model_name": "LayoutModel",
      "state": {
       "flex": "2"
      }
     },
     "25328223caa94caa99da49c8e1d2c2f3": {
      "model_module": "@jupyter-widgets/controls",
      "model_module_version": "2.0.0",
      "model_name": "HTMLModel",
      "state": {
       "layout": "IPY_MODEL_3abc81846a89427ab362a985c93f8dd8",
       "style": "IPY_MODEL_2faee7c0f55c47f5b3c1a860e0c2aa56",
       "value": " 170/170 [00:16&lt;00:00, 10.13it/s]"
      }
     },
     "25e1db758d88450eb587064b2efa9b8d": {
      "model_module": "@jupyter-widgets/controls",
      "model_module_version": "2.0.0",
      "model_name": "HTMLModel",
      "state": {
       "layout": "IPY_MODEL_2f371ba5fd9f4326a0f13b583e302cef",
       "style": "IPY_MODEL_e4914d60cea240909170668f2ec2e70d",
       "value": " 170/170 [00:16&lt;00:00, 10.12it/s]"
      }
     },
     "260eb3a503a242a29cc8a6017c1c0502": {
      "model_module": "@jupyter-widgets/controls",
      "model_module_version": "2.0.0",
      "model_name": "HTMLStyleModel",
      "state": {
       "description_width": "",
       "font_size": null,
       "text_color": null
      }
     },
     "267b6da0e14e42f4bb2f5fe9a6de2edc": {
      "model_module": "@jupyter-widgets/base",
      "model_module_version": "2.0.0",
      "model_name": "LayoutModel",
      "state": {
       "flex": "2"
      }
     },
     "26a829d39e81496f8ae24572949f7688": {
      "model_module": "@jupyter-widgets/controls",
      "model_module_version": "2.0.0",
      "model_name": "ProgressStyleModel",
      "state": {
       "description_width": ""
      }
     },
     "2741cfa0c9ec42c5835c0028d93c7bf6": {
      "model_module": "@jupyter-widgets/base",
      "model_module_version": "2.0.0",
      "model_name": "LayoutModel",
      "state": {
       "display": "inline-flex",
       "flex_flow": "row wrap",
       "visibility": "hidden",
       "width": "100%"
      }
     },
     "27450c3447ea476d88aa2a3b268fd2f9": {
      "model_module": "@jupyter-widgets/base",
      "model_module_version": "2.0.0",
      "model_name": "LayoutModel",
      "state": {}
     },
     "2758df3870c3441ca0ca9b80fdd96fa0": {
      "model_module": "@jupyter-widgets/base",
      "model_module_version": "2.0.0",
      "model_name": "LayoutModel",
      "state": {}
     },
     "279d508547fc439190bb9303b5e10e32": {
      "model_module": "@jupyter-widgets/controls",
      "model_module_version": "2.0.0",
      "model_name": "HTMLModel",
      "state": {
       "layout": "IPY_MODEL_1d2bfaf476f74761bcdd3cff16d9bd57",
       "style": "IPY_MODEL_f9a40cb6ad244c2aadc56c8b9c719d62",
       "value": " 170/170 [00:16&lt;00:00, 10.10it/s]"
      }
     },
     "2821a78d144d406abd29d2c8a0c49d5f": {
      "model_module": "@jupyter-widgets/base",
      "model_module_version": "2.0.0",
      "model_name": "LayoutModel",
      "state": {
       "display": "inline-flex",
       "flex_flow": "row wrap",
       "visibility": "hidden",
       "width": "100%"
      }
     },
     "291fefcf42a24c9395a6baa16d55135d": {
      "model_module": "@jupyter-widgets/base",
      "model_module_version": "2.0.0",
      "model_name": "LayoutModel",
      "state": {
       "display": "inline-flex",
       "flex_flow": "row wrap",
       "visibility": "hidden",
       "width": "100%"
      }
     },
     "29a3ff36f4e5460491389c2a43a57da2": {
      "model_module": "@jupyter-widgets/controls",
      "model_module_version": "2.0.0",
      "model_name": "HTMLStyleModel",
      "state": {
       "description_width": "",
       "font_size": null,
       "text_color": null
      }
     },
     "29aa777e99344e4b8b08b3ce733a8e1c": {
      "model_module": "@jupyter-widgets/controls",
      "model_module_version": "2.0.0",
      "model_name": "HTMLModel",
      "state": {
       "layout": "IPY_MODEL_44ae72976311427ca0e6d7073853f6db",
       "style": "IPY_MODEL_03bcb1c483734a03bee0bdcaa3719c10",
       "value": "Validation DataLoader 0: 100%"
      }
     },
     "29d0421d925c46a5964b3a71bd485dde": {
      "model_module": "@jupyter-widgets/base",
      "model_module_version": "2.0.0",
      "model_name": "LayoutModel",
      "state": {
       "flex": "2"
      }
     },
     "29ed6558658e41d68cf38459b800839a": {
      "model_module": "@jupyter-widgets/controls",
      "model_module_version": "2.0.0",
      "model_name": "HTMLModel",
      "state": {
       "layout": "IPY_MODEL_2f1f66695d624cdeab856c4fd0e173e8",
       "style": "IPY_MODEL_c2c6262724c54403863e42f372c5edb2",
       "value": "Validation DataLoader 0: 100%"
      }
     },
     "2a6631b5c2bb4cc49e1187ab755aca5d": {
      "model_module": "@jupyter-widgets/controls",
      "model_module_version": "2.0.0",
      "model_name": "FloatProgressModel",
      "state": {
       "layout": "IPY_MODEL_caee130b4d454672abb68c8d60b8a863",
       "max": 170,
       "style": "IPY_MODEL_1581410b0b334f469e8408a8930ef49a",
       "value": 170
      }
     },
     "2a6f8a272e7a4f99aaa01e65fc322d16": {
      "model_module": "@jupyter-widgets/controls",
      "model_module_version": "2.0.0",
      "model_name": "HTMLModel",
      "state": {
       "layout": "IPY_MODEL_0507c9b32f894d728cfa72fcbf3438ac",
       "style": "IPY_MODEL_044f8be8f93c46cebd50c0de3abeea70",
       "value": "Validation DataLoader 0: 100%"
      }
     },
     "2c405072af074c70a0e0b3ff00e933df": {
      "model_module": "@jupyter-widgets/controls",
      "model_module_version": "2.0.0",
      "model_name": "HTMLModel",
      "state": {
       "layout": "IPY_MODEL_5b7c5361b7ff4c4b9537f7a6efc4a5cd",
       "style": "IPY_MODEL_fe59b5315d3d472299b674b1142f5c57",
       "value": "Validation DataLoader 0: 100%"
      }
     },
     "2cd497e67ae54682acc58a50c90609b8": {
      "model_module": "@jupyter-widgets/base",
      "model_module_version": "2.0.0",
      "model_name": "LayoutModel",
      "state": {
       "display": "inline-flex",
       "flex_flow": "row wrap",
       "visibility": "hidden",
       "width": "100%"
      }
     },
     "2d396643166448059e58eb61bad3db85": {
      "model_module": "@jupyter-widgets/controls",
      "model_module_version": "2.0.0",
      "model_name": "ProgressStyleModel",
      "state": {
       "description_width": ""
      }
     },
     "2d41b519cec445e79501fcaa8dfb0641": {
      "model_module": "@jupyter-widgets/base",
      "model_module_version": "2.0.0",
      "model_name": "LayoutModel",
      "state": {}
     },
     "2db97574e01b4b47ac7643a21354ced3": {
      "model_module": "@jupyter-widgets/base",
      "model_module_version": "2.0.0",
      "model_name": "LayoutModel",
      "state": {}
     },
     "2dbe5255d5104c4583597ccb61d7c034": {
      "model_module": "@jupyter-widgets/base",
      "model_module_version": "2.0.0",
      "model_name": "LayoutModel",
      "state": {}
     },
     "2dfda7272a0840e387d31125399cab93": {
      "model_module": "@jupyter-widgets/controls",
      "model_module_version": "2.0.0",
      "model_name": "HTMLModel",
      "state": {
       "layout": "IPY_MODEL_dad08316ff774f798348d5115204a965",
       "style": "IPY_MODEL_75e4ca1e612c46308f28d433c92a133f",
       "value": "Validation DataLoader 0: 100%"
      }
     },
     "2e12a826f8004732badfd342bb7edb41": {
      "model_module": "@jupyter-widgets/controls",
      "model_module_version": "2.0.0",
      "model_name": "ProgressStyleModel",
      "state": {
       "description_width": ""
      }
     },
     "2e4243fdb2bd4d0b92f4afcfebdd0fe9": {
      "model_module": "@jupyter-widgets/controls",
      "model_module_version": "2.0.0",
      "model_name": "HTMLStyleModel",
      "state": {
       "description_width": "",
       "font_size": null,
       "text_color": null
      }
     },
     "2eb39fd3db2d480eb82e32422b858a2f": {
      "model_module": "@jupyter-widgets/controls",
      "model_module_version": "2.0.0",
      "model_name": "FloatProgressModel",
      "state": {
       "layout": "IPY_MODEL_4ec7acf41504466b9f0f3fac38c8dd45",
       "max": 170,
       "style": "IPY_MODEL_5fb9ad86aa8148bb9aa83ae0158ad35a",
       "value": 170
      }
     },
     "2eb8b567d6b84abe9c25b0c42d089dbe": {
      "model_module": "@jupyter-widgets/base",
      "model_module_version": "2.0.0",
      "model_name": "LayoutModel",
      "state": {}
     },
     "2ed8acd79ed04a4bbeff1fedb148c619": {
      "model_module": "@jupyter-widgets/controls",
      "model_module_version": "2.0.0",
      "model_name": "ProgressStyleModel",
      "state": {
       "description_width": ""
      }
     },
     "2ef2c0206161417a87b3b49a2737d71b": {
      "model_module": "@jupyter-widgets/controls",
      "model_module_version": "2.0.0",
      "model_name": "FloatProgressModel",
      "state": {
       "layout": "IPY_MODEL_9635d92c1d4b465a97ccbbb175f529b3",
       "max": 170,
       "style": "IPY_MODEL_8390de6e244c4e3ba8568bb18f25cb75",
       "value": 170
      }
     },
     "2f0ab941e3174cd8a7f62db2a3a4fe22": {
      "model_module": "@jupyter-widgets/controls",
      "model_module_version": "2.0.0",
      "model_name": "HTMLModel",
      "state": {
       "layout": "IPY_MODEL_984c212e3572439ab55d51049bc21c26",
       "style": "IPY_MODEL_29a3ff36f4e5460491389c2a43a57da2",
       "value": "Validation DataLoader 0: 100%"
      }
     },
     "2f10814e07b54606919340d260850de7": {
      "model_module": "@jupyter-widgets/controls",
      "model_module_version": "2.0.0",
      "model_name": "HTMLModel",
      "state": {
       "layout": "IPY_MODEL_f62dec4d5d32448591b9a7266754f51c",
       "style": "IPY_MODEL_375a2dd2324d4104b408f2b3eae10dba",
       "value": "Validation DataLoader 0: 100%"
      }
     },
     "2f1f66695d624cdeab856c4fd0e173e8": {
      "model_module": "@jupyter-widgets/base",
      "model_module_version": "2.0.0",
      "model_name": "LayoutModel",
      "state": {}
     },
     "2f371ba5fd9f4326a0f13b583e302cef": {
      "model_module": "@jupyter-widgets/base",
      "model_module_version": "2.0.0",
      "model_name": "LayoutModel",
      "state": {}
     },
     "2faee7c0f55c47f5b3c1a860e0c2aa56": {
      "model_module": "@jupyter-widgets/controls",
      "model_module_version": "2.0.0",
      "model_name": "HTMLStyleModel",
      "state": {
       "description_width": "",
       "font_size": null,
       "text_color": null
      }
     },
     "2fdbba4b78224b8c9fd92fab1704851f": {
      "model_module": "@jupyter-widgets/base",
      "model_module_version": "2.0.0",
      "model_name": "LayoutModel",
      "state": {}
     },
     "2feecccce51547edbe004ef479327eed": {
      "model_module": "@jupyter-widgets/controls",
      "model_module_version": "2.0.0",
      "model_name": "ProgressStyleModel",
      "state": {
       "description_width": ""
      }
     },
     "302af079037e42f5b8fcc9d9e6d047c2": {
      "model_module": "@jupyter-widgets/base",
      "model_module_version": "2.0.0",
      "model_name": "LayoutModel",
      "state": {
       "flex": "2"
      }
     },
     "30329c0a415d458c93a1a62a3025fca7": {
      "model_module": "@jupyter-widgets/controls",
      "model_module_version": "2.0.0",
      "model_name": "HTMLStyleModel",
      "state": {
       "description_width": "",
       "font_size": null,
       "text_color": null
      }
     },
     "303805ae5143464499450a10cb257794": {
      "model_module": "@jupyter-widgets/controls",
      "model_module_version": "2.0.0",
      "model_name": "ProgressStyleModel",
      "state": {
       "description_width": ""
      }
     },
     "306c03010a544215bc0d0a72991c42b5": {
      "model_module": "@jupyter-widgets/controls",
      "model_module_version": "2.0.0",
      "model_name": "HTMLModel",
      "state": {
       "layout": "IPY_MODEL_ae1f743b9629430481a14ed650d3638b",
       "style": "IPY_MODEL_3966d5465d3e43d6a66cfe8a4fc4da75",
       "value": "Validation DataLoader 0: 100%"
      }
     },
     "3077f3e88bdb4df192520e173c0a5a73": {
      "model_module": "@jupyter-widgets/controls",
      "model_module_version": "2.0.0",
      "model_name": "HTMLStyleModel",
      "state": {
       "description_width": "",
       "font_size": null,
       "text_color": null
      }
     },
     "3092d6ea82944d03b6a955ea8a8b5fee": {
      "model_module": "@jupyter-widgets/controls",
      "model_module_version": "2.0.0",
      "model_name": "HTMLModel",
      "state": {
       "layout": "IPY_MODEL_bb57f1478de54cf897b9bca86090b6b4",
       "style": "IPY_MODEL_921c5093ebd944e782ebd916b3741207",
       "value": "Validation DataLoader 0: 100%"
      }
     },
     "30b0b4b89e43457b92796c5334332c2e": {
      "model_module": "@jupyter-widgets/controls",
      "model_module_version": "2.0.0",
      "model_name": "HTMLStyleModel",
      "state": {
       "description_width": "",
       "font_size": null,
       "text_color": null
      }
     },
     "30d11e2a72d4496a8f05625b39a8b2ed": {
      "model_module": "@jupyter-widgets/base",
      "model_module_version": "2.0.0",
      "model_name": "LayoutModel",
      "state": {
       "display": "inline-flex",
       "flex_flow": "row wrap",
       "visibility": "hidden",
       "width": "100%"
      }
     },
     "30da29289edb4dd9a799270380ed17a1": {
      "model_module": "@jupyter-widgets/controls",
      "model_module_version": "2.0.0",
      "model_name": "HTMLStyleModel",
      "state": {
       "description_width": "",
       "font_size": null,
       "text_color": null
      }
     },
     "316ddb85a6964d2891d86ae15de88d11": {
      "model_module": "@jupyter-widgets/controls",
      "model_module_version": "2.0.0",
      "model_name": "HTMLModel",
      "state": {
       "layout": "IPY_MODEL_87d9b614916946b28fd6c511480d6184",
       "style": "IPY_MODEL_ffe9c0ace19347d69202060f9b0de2a4",
       "value": "Validation DataLoader 0: 100%"
      }
     },
     "31f0440902664d699a0fa7d6c41a252b": {
      "model_module": "@jupyter-widgets/controls",
      "model_module_version": "2.0.0",
      "model_name": "HTMLStyleModel",
      "state": {
       "description_width": "",
       "font_size": null,
       "text_color": null
      }
     },
     "32ac76dab2114214b718b0292b404820": {
      "model_module": "@jupyter-widgets/controls",
      "model_module_version": "2.0.0",
      "model_name": "ProgressStyleModel",
      "state": {
       "description_width": ""
      }
     },
     "32d3cb66ba7b490c8c35dd574d49a3f0": {
      "model_module": "@jupyter-widgets/controls",
      "model_module_version": "2.0.0",
      "model_name": "FloatProgressModel",
      "state": {
       "layout": "IPY_MODEL_9305147e9e8440b083f7c7a8c6c02820",
       "max": 170,
       "style": "IPY_MODEL_491fd72305154ede807c73271ef74d2a",
       "value": 170
      }
     },
     "33041cb324e142e5802e2670b0dbc179": {
      "model_module": "@jupyter-widgets/base",
      "model_module_version": "2.0.0",
      "model_name": "LayoutModel",
      "state": {
       "display": "inline-flex",
       "flex_flow": "row wrap",
       "visibility": "hidden",
       "width": "100%"
      }
     },
     "331288f773eb4173919685ee6ebcc6b3": {
      "model_module": "@jupyter-widgets/controls",
      "model_module_version": "2.0.0",
      "model_name": "HTMLModel",
      "state": {
       "layout": "IPY_MODEL_db7858a9eadb47aba4e9589d104cb112",
       "style": "IPY_MODEL_505d7948f3b34474b707b3b7d0c21893",
       "value": "Validation DataLoader 0: 100%"
      }
     },
     "337f5371a6784bc6b31012445361aade": {
      "model_module": "@jupyter-widgets/controls",
      "model_module_version": "2.0.0",
      "model_name": "HTMLModel",
      "state": {
       "layout": "IPY_MODEL_ac050e6644be4d4bbfe0616751bafc11",
       "style": "IPY_MODEL_c218769b9fac4dbc87ec5561e1f92478",
       "value": "Validation DataLoader 0: 100%"
      }
     },
     "3386eff836094609b69704cde286ad76": {
      "model_module": "@jupyter-widgets/base",
      "model_module_version": "2.0.0",
      "model_name": "LayoutModel",
      "state": {
       "display": "inline-flex",
       "flex_flow": "row wrap",
       "visibility": "hidden",
       "width": "100%"
      }
     },
     "339fec03bbc54d219323c02591eb6ed1": {
      "model_module": "@jupyter-widgets/controls",
      "model_module_version": "2.0.0",
      "model_name": "FloatProgressModel",
      "state": {
       "layout": "IPY_MODEL_4cb1188e56724981ad06d5cd5fdee695",
       "max": 170,
       "style": "IPY_MODEL_8cb3ae053bac4fab994dce9b4575a177",
       "value": 170
      }
     },
     "33fdd141a01c4bd9b78f22cd43b6899d": {
      "model_module": "@jupyter-widgets/controls",
      "model_module_version": "2.0.0",
      "model_name": "HTMLModel",
      "state": {
       "layout": "IPY_MODEL_a1175b4fe8c24bd4a05bccc75f1aed96",
       "style": "IPY_MODEL_8acfaa4f76184ec686925684939f26b5",
       "value": " 170/170 [00:17&lt;00:00,  9.93it/s]"
      }
     },
     "346792082f284c79b9d142965b498f96": {
      "model_module": "@jupyter-widgets/controls",
      "model_module_version": "2.0.0",
      "model_name": "HTMLStyleModel",
      "state": {
       "description_width": "",
       "font_size": null,
       "text_color": null
      }
     },
     "349857b55bda4a37b6ff18b0a3c23253": {
      "model_module": "@jupyter-widgets/controls",
      "model_module_version": "2.0.0",
      "model_name": "FloatProgressModel",
      "state": {
       "layout": "IPY_MODEL_a35e09e2c6c044a591b6c4273e935e01",
       "max": 170,
       "style": "IPY_MODEL_2feecccce51547edbe004ef479327eed",
       "value": 170
      }
     },
     "34ad03c8ea804ddfa72a6f97eec573e3": {
      "model_module": "@jupyter-widgets/controls",
      "model_module_version": "2.0.0",
      "model_name": "HTMLModel",
      "state": {
       "layout": "IPY_MODEL_55b639c25cb54ac0a6914879590cc749",
       "style": "IPY_MODEL_4945e1b1499e41f99dbced6c544158eb",
       "value": " 170/170 [00:16&lt;00:00, 10.08it/s]"
      }
     },
     "35074dbf002f400b91628007016c2cb1": {
      "model_module": "@jupyter-widgets/controls",
      "model_module_version": "2.0.0",
      "model_name": "FloatProgressModel",
      "state": {
       "layout": "IPY_MODEL_acb1333802f04c27adc8977869865501",
       "max": 170,
       "style": "IPY_MODEL_e4ec99fee4364d1c942eabbc20fb12a8",
       "value": 170
      }
     },
     "3517a7e9dbe042a6a14857924da060f6": {
      "model_module": "@jupyter-widgets/controls",
      "model_module_version": "2.0.0",
      "model_name": "HTMLStyleModel",
      "state": {
       "description_width": "",
       "font_size": null,
       "text_color": null
      }
     },
     "35380b1846c245d0ad27d1cc8adf78f2": {
      "model_module": "@jupyter-widgets/base",
      "model_module_version": "2.0.0",
      "model_name": "LayoutModel",
      "state": {
       "display": "inline-flex",
       "flex_flow": "row wrap",
       "visibility": "hidden",
       "width": "100%"
      }
     },
     "3587e431c9f34aec92c36af2b0becce2": {
      "model_module": "@jupyter-widgets/base",
      "model_module_version": "2.0.0",
      "model_name": "LayoutModel",
      "state": {
       "display": "inline-flex",
       "flex_flow": "row wrap",
       "visibility": "hidden",
       "width": "100%"
      }
     },
     "358b3506aca64bc28cd28b7229de9943": {
      "model_module": "@jupyter-widgets/controls",
      "model_module_version": "2.0.0",
      "model_name": "HTMLModel",
      "state": {
       "layout": "IPY_MODEL_90b911c2af4941caa4a40e7b46e486d2",
       "style": "IPY_MODEL_6c34f0a55ae846769a1db9df84d7506a",
       "value": " 170/170 [00:16&lt;00:00, 10.32it/s]"
      }
     },
     "3592477d3fb74b3484c4d642972797af": {
      "model_module": "@jupyter-widgets/controls",
      "model_module_version": "2.0.0",
      "model_name": "HTMLStyleModel",
      "state": {
       "description_width": "",
       "font_size": null,
       "text_color": null
      }
     },
     "35f7f41cccf042aca476587e175389dc": {
      "model_module": "@jupyter-widgets/controls",
      "model_module_version": "2.0.0",
      "model_name": "HTMLModel",
      "state": {
       "layout": "IPY_MODEL_f99a7b6ec5a04bc79a25a1ab3a3ec9ba",
       "style": "IPY_MODEL_d08dd267061d492f87d6752f2ba90a02",
       "value": " 170/170 [00:16&lt;00:00, 10.12it/s]"
      }
     },
     "35fa4544a6e043e4b8a823edaf8e2941": {
      "model_module": "@jupyter-widgets/controls",
      "model_module_version": "2.0.0",
      "model_name": "ProgressStyleModel",
      "state": {
       "description_width": ""
      }
     },
     "361853835ff54eb3b00d61965330cf8f": {
      "model_module": "@jupyter-widgets/base",
      "model_module_version": "2.0.0",
      "model_name": "LayoutModel",
      "state": {
       "display": "inline-flex",
       "flex_flow": "row wrap",
       "visibility": "hidden",
       "width": "100%"
      }
     },
     "361a4a17bba34430b008464ae7984f23": {
      "model_module": "@jupyter-widgets/controls",
      "model_module_version": "2.0.0",
      "model_name": "HTMLModel",
      "state": {
       "layout": "IPY_MODEL_ced0ebc6933b4be6bba6b1ce6c3bf154",
       "style": "IPY_MODEL_4d4ed77c91b04cbdb09a6c8901516d84",
       "value": " 170/170 [00:16&lt;00:00, 10.11it/s]"
      }
     },
     "36ba172344e44c938745ffc8ade3dcdb": {
      "model_module": "@jupyter-widgets/base",
      "model_module_version": "2.0.0",
      "model_name": "LayoutModel",
      "state": {}
     },
     "36dc0946d9b34b769c779e323530cece": {
      "model_module": "@jupyter-widgets/controls",
      "model_module_version": "2.0.0",
      "model_name": "HTMLModel",
      "state": {
       "layout": "IPY_MODEL_6e408355e2e74a919b3841165dc6acc0",
       "style": "IPY_MODEL_c936e23bb0e54ccab14c86b692691992",
       "value": " 170/170 [00:16&lt;00:00, 10.18it/s]"
      }
     },
     "36e53c6bf8ac4cff82fb2bde1050e712": {
      "model_module": "@jupyter-widgets/controls",
      "model_module_version": "2.0.0",
      "model_name": "ProgressStyleModel",
      "state": {
       "description_width": ""
      }
     },
     "3700298b68ad472a9f3714c65121c16a": {
      "model_module": "@jupyter-widgets/controls",
      "model_module_version": "2.0.0",
      "model_name": "HTMLModel",
      "state": {
       "layout": "IPY_MODEL_4f57d346d8ab433b86038dc2c6256d2a",
       "style": "IPY_MODEL_ddc0dbb253a2470680219856133cdb2c",
       "value": " 170/170 [00:17&lt;00:00,  9.98it/s]"
      }
     },
     "372ac14115fb4939b9b9d8e3d12382e8": {
      "model_module": "@jupyter-widgets/controls",
      "model_module_version": "2.0.0",
      "model_name": "FloatProgressModel",
      "state": {
       "layout": "IPY_MODEL_251d44978ff540db8f37b2609c889815",
       "max": 170,
       "style": "IPY_MODEL_b558b4dacaa3455c9dd9659c32774dee",
       "value": 170
      }
     },
     "375a2dd2324d4104b408f2b3eae10dba": {
      "model_module": "@jupyter-widgets/controls",
      "model_module_version": "2.0.0",
      "model_name": "HTMLStyleModel",
      "state": {
       "description_width": "",
       "font_size": null,
       "text_color": null
      }
     },
     "3769e26ca31c48ffa60ef058d6897cb8": {
      "model_module": "@jupyter-widgets/base",
      "model_module_version": "2.0.0",
      "model_name": "LayoutModel",
      "state": {
       "flex": "2"
      }
     },
     "37b834d4e5004dbba2e9bc2d17cf90d5": {
      "model_module": "@jupyter-widgets/controls",
      "model_module_version": "2.0.0",
      "model_name": "HTMLStyleModel",
      "state": {
       "description_width": "",
       "font_size": null,
       "text_color": null
      }
     },
     "385fededbcaf484482f6cf41de54fbc2": {
      "model_module": "@jupyter-widgets/controls",
      "model_module_version": "2.0.0",
      "model_name": "HTMLStyleModel",
      "state": {
       "description_width": "",
       "font_size": null,
       "text_color": null
      }
     },
     "387b578d36ac4b6995f761bb93228083": {
      "model_module": "@jupyter-widgets/base",
      "model_module_version": "2.0.0",
      "model_name": "LayoutModel",
      "state": {}
     },
     "388ec8d1ef7543ab980b1d51c70beb21": {
      "model_module": "@jupyter-widgets/controls",
      "model_module_version": "2.0.0",
      "model_name": "HTMLStyleModel",
      "state": {
       "description_width": "",
       "font_size": null,
       "text_color": null
      }
     },
     "38915f99ec524384bdb202033a8e9cc4": {
      "model_module": "@jupyter-widgets/base",
      "model_module_version": "2.0.0",
      "model_name": "LayoutModel",
      "state": {
       "display": "inline-flex",
       "flex_flow": "row wrap",
       "visibility": "hidden",
       "width": "100%"
      }
     },
     "389e61b1f23f46a29d90b0552d052247": {
      "model_module": "@jupyter-widgets/controls",
      "model_module_version": "2.0.0",
      "model_name": "HTMLModel",
      "state": {
       "layout": "IPY_MODEL_cc23bbc05188446aa4063b0fccbc94fe",
       "style": "IPY_MODEL_6bc1a03003ed471ba7cf9a09a41fbac9",
       "value": " 170/170 [00:16&lt;00:00, 10.15it/s]"
      }
     },
     "38a4ad2401374a109de7bd64e32dab00": {
      "model_module": "@jupyter-widgets/controls",
      "model_module_version": "2.0.0",
      "model_name": "ProgressStyleModel",
      "state": {
       "description_width": ""
      }
     },
     "393820441a7e4e4ebda875d526b51163": {
      "model_module": "@jupyter-widgets/controls",
      "model_module_version": "2.0.0",
      "model_name": "FloatProgressModel",
      "state": {
       "layout": "IPY_MODEL_e5639546580f471da48284a56ccc76bd",
       "max": 170,
       "style": "IPY_MODEL_4f41017e21c34f2b8f882298eb850d57",
       "value": 170
      }
     },
     "393c1e4a8c4144f08b24dd2d59e61596": {
      "model_module": "@jupyter-widgets/controls",
      "model_module_version": "2.0.0",
      "model_name": "FloatProgressModel",
      "state": {
       "layout": "IPY_MODEL_b10875ef7c81453aaa6bbd900e2b9aa1",
       "max": 170,
       "style": "IPY_MODEL_0033fda596a84b2d972d66d1e08ed236",
       "value": 170
      }
     },
     "3966d5465d3e43d6a66cfe8a4fc4da75": {
      "model_module": "@jupyter-widgets/controls",
      "model_module_version": "2.0.0",
      "model_name": "HTMLStyleModel",
      "state": {
       "description_width": "",
       "font_size": null,
       "text_color": null
      }
     },
     "3985dded25784a43ae0d92ace3155b61": {
      "model_module": "@jupyter-widgets/controls",
      "model_module_version": "2.0.0",
      "model_name": "HTMLStyleModel",
      "state": {
       "description_width": "",
       "font_size": null,
       "text_color": null
      }
     },
     "3a892b6a7e8841f2bc30eed9f8ffd62d": {
      "model_module": "@jupyter-widgets/base",
      "model_module_version": "2.0.0",
      "model_name": "LayoutModel",
      "state": {
       "flex": "2"
      }
     },
     "3abc81846a89427ab362a985c93f8dd8": {
      "model_module": "@jupyter-widgets/base",
      "model_module_version": "2.0.0",
      "model_name": "LayoutModel",
      "state": {}
     },
     "3b24d1b8e22a4cc48f65615323277e97": {
      "model_module": "@jupyter-widgets/controls",
      "model_module_version": "2.0.0",
      "model_name": "HTMLModel",
      "state": {
       "layout": "IPY_MODEL_3bf3be1c85554a8d9414156bbdb65ab6",
       "style": "IPY_MODEL_1905ca8af5bd45b29b5840b15f3f77e0",
       "value": "Validation DataLoader 0: 100%"
      }
     },
     "3b3874c219154dd9a60b18c082851be6": {
      "model_module": "@jupyter-widgets/controls",
      "model_module_version": "2.0.0",
      "model_name": "ProgressStyleModel",
      "state": {
       "description_width": ""
      }
     },
     "3b5577a8f8a44a33a4b2bc307c944b50": {
      "model_module": "@jupyter-widgets/controls",
      "model_module_version": "2.0.0",
      "model_name": "HTMLStyleModel",
      "state": {
       "description_width": "",
       "font_size": null,
       "text_color": null
      }
     },
     "3b558fd6785b4663864a378e292cd0fb": {
      "model_module": "@jupyter-widgets/controls",
      "model_module_version": "2.0.0",
      "model_name": "HTMLStyleModel",
      "state": {
       "description_width": "",
       "font_size": null,
       "text_color": null
      }
     },
     "3b7d300f365849749959d3fe7fcb8b1f": {
      "model_module": "@jupyter-widgets/base",
      "model_module_version": "2.0.0",
      "model_name": "LayoutModel",
      "state": {
       "flex": "2"
      }
     },
     "3bf3be1c85554a8d9414156bbdb65ab6": {
      "model_module": "@jupyter-widgets/base",
      "model_module_version": "2.0.0",
      "model_name": "LayoutModel",
      "state": {}
     },
     "3c0fa330e28847f182692543ccb19c79": {
      "model_module": "@jupyter-widgets/controls",
      "model_module_version": "2.0.0",
      "model_name": "HTMLModel",
      "state": {
       "layout": "IPY_MODEL_deaa31c246064ac1815bb72f41279bd3",
       "style": "IPY_MODEL_96923eb525274619b35edef59bf4c5c6",
       "value": "Validation DataLoader 0: 100%"
      }
     },
     "3c1f8ac8ea9947819717a9c91b8d147a": {
      "model_module": "@jupyter-widgets/controls",
      "model_module_version": "2.0.0",
      "model_name": "HTMLModel",
      "state": {
       "layout": "IPY_MODEL_67298e744f7e49a08e74f25c011dca2d",
       "style": "IPY_MODEL_9aad5eb1e3dd4261b9530ef5d5796368",
       "value": " 170/170 [00:16&lt;00:00, 10.21it/s]"
      }
     },
     "3cce719dc6614980b924cb26c4497142": {
      "model_module": "@jupyter-widgets/base",
      "model_module_version": "2.0.0",
      "model_name": "LayoutModel",
      "state": {
       "display": "inline-flex",
       "flex_flow": "row wrap",
       "visibility": "hidden",
       "width": "100%"
      }
     },
     "3d12c03d363f4a0383feea28ed09d9ec": {
      "model_module": "@jupyter-widgets/base",
      "model_module_version": "2.0.0",
      "model_name": "LayoutModel",
      "state": {
       "flex": "2"
      }
     },
     "3df2ac3975c94be795c41564a6775dcd": {
      "model_module": "@jupyter-widgets/base",
      "model_module_version": "2.0.0",
      "model_name": "LayoutModel",
      "state": {}
     },
     "3ec4e810a9dd48b8b75d1e310c3ad1ba": {
      "model_module": "@jupyter-widgets/base",
      "model_module_version": "2.0.0",
      "model_name": "LayoutModel",
      "state": {
       "flex": "2"
      }
     },
     "3ecf38d28fae429d919873fa1dd916c3": {
      "model_module": "@jupyter-widgets/controls",
      "model_module_version": "2.0.0",
      "model_name": "ProgressStyleModel",
      "state": {
       "description_width": ""
      }
     },
     "3f8c40027b074a3cbd23d99482887e1d": {
      "model_module": "@jupyter-widgets/base",
      "model_module_version": "2.0.0",
      "model_name": "LayoutModel",
      "state": {}
     },
     "4086da2657a441098c46a2a0250c782d": {
      "model_module": "@jupyter-widgets/base",
      "model_module_version": "2.0.0",
      "model_name": "LayoutModel",
      "state": {}
     },
     "40935787e63a48f18abf88f2c5dec2d3": {
      "model_module": "@jupyter-widgets/base",
      "model_module_version": "2.0.0",
      "model_name": "LayoutModel",
      "state": {
       "flex": "2"
      }
     },
     "40ae369ef3014c6db6742a2f95091463": {
      "model_module": "@jupyter-widgets/controls",
      "model_module_version": "2.0.0",
      "model_name": "ProgressStyleModel",
      "state": {
       "description_width": ""
      }
     },
     "40b9269461fa474fbba2cbe3471e1311": {
      "model_module": "@jupyter-widgets/base",
      "model_module_version": "2.0.0",
      "model_name": "LayoutModel",
      "state": {
       "flex": "2"
      }
     },
     "40d6625681ab42de90207be44944d421": {
      "model_module": "@jupyter-widgets/controls",
      "model_module_version": "2.0.0",
      "model_name": "HTMLModel",
      "state": {
       "layout": "IPY_MODEL_708fec2698c34250aa2ae379a2be5b3a",
       "style": "IPY_MODEL_65673d05caf64b6d85c725a8fb4294a2",
       "value": "Validation DataLoader 0: 100%"
      }
     },
     "4215cf84c2964163a90d00db69411522": {
      "model_module": "@jupyter-widgets/base",
      "model_module_version": "2.0.0",
      "model_name": "LayoutModel",
      "state": {
       "flex": "2"
      }
     },
     "43d0b1d0e0174060856ae256e65a7188": {
      "model_module": "@jupyter-widgets/base",
      "model_module_version": "2.0.0",
      "model_name": "LayoutModel",
      "state": {}
     },
     "4456e6a9c0e6450c89f690411e33dd73": {
      "model_module": "@jupyter-widgets/controls",
      "model_module_version": "2.0.0",
      "model_name": "HTMLModel",
      "state": {
       "layout": "IPY_MODEL_dff6b80710a143d08f9febffe41702f7",
       "style": "IPY_MODEL_00c46ec42946434396207132690d8a7e",
       "value": " 170/170 [00:16&lt;00:00, 10.14it/s]"
      }
     },
     "44ae72976311427ca0e6d7073853f6db": {
      "model_module": "@jupyter-widgets/base",
      "model_module_version": "2.0.0",
      "model_name": "LayoutModel",
      "state": {}
     },
     "44b02ee5f8384cd89f965de99dd73209": {
      "model_module": "@jupyter-widgets/controls",
      "model_module_version": "2.0.0",
      "model_name": "HTMLStyleModel",
      "state": {
       "description_width": "",
       "font_size": null,
       "text_color": null
      }
     },
     "44b0720f70bb4c75b8326262d9352ee3": {
      "model_module": "@jupyter-widgets/base",
      "model_module_version": "2.0.0",
      "model_name": "LayoutModel",
      "state": {
       "display": "inline-flex",
       "flex_flow": "row wrap",
       "visibility": "hidden",
       "width": "100%"
      }
     },
     "44fd327c6aaa478cabc563d9f04121d3": {
      "model_module": "@jupyter-widgets/controls",
      "model_module_version": "2.0.0",
      "model_name": "HTMLModel",
      "state": {
       "layout": "IPY_MODEL_cb5dee40eca04d138fef3877c7332433",
       "style": "IPY_MODEL_105fde629aad4eeaad37eaf8f16ca481",
       "value": "Validation DataLoader 0: 100%"
      }
     },
     "4542d520cd414660ad0765e180563f7a": {
      "model_module": "@jupyter-widgets/controls",
      "model_module_version": "2.0.0",
      "model_name": "HTMLModel",
      "state": {
       "layout": "IPY_MODEL_9f4be5d3d81b4a80baf7086db3d6cdf0",
       "style": "IPY_MODEL_8190516c898740e48a9fcf05da036a3d",
       "value": "Validation DataLoader 0: 100%"
      }
     },
     "45a79da9379d41e3ae451356dabf35c4": {
      "model_module": "@jupyter-widgets/controls",
      "model_module_version": "2.0.0",
      "model_name": "ProgressStyleModel",
      "state": {
       "description_width": ""
      }
     },
     "45ba091977734f7590ab84a3b59991bd": {
      "model_module": "@jupyter-widgets/base",
      "model_module_version": "2.0.0",
      "model_name": "LayoutModel",
      "state": {}
     },
     "45bc0149a0da4cb5ae84fd6c97ed432d": {
      "model_module": "@jupyter-widgets/controls",
      "model_module_version": "2.0.0",
      "model_name": "HTMLStyleModel",
      "state": {
       "description_width": "",
       "font_size": null,
       "text_color": null
      }
     },
     "45cec2258687467ab9a47596ecc29356": {
      "model_module": "@jupyter-widgets/base",
      "model_module_version": "2.0.0",
      "model_name": "LayoutModel",
      "state": {}
     },
     "462dd6cb019142fcafa739f985650096": {
      "model_module": "@jupyter-widgets/base",
      "model_module_version": "2.0.0",
      "model_name": "LayoutModel",
      "state": {}
     },
     "4665ded863cf43ae96f031863b426847": {
      "model_module": "@jupyter-widgets/base",
      "model_module_version": "2.0.0",
      "model_name": "LayoutModel",
      "state": {}
     },
     "4690d12356b14e22a5829756860e02a8": {
      "model_module": "@jupyter-widgets/controls",
      "model_module_version": "2.0.0",
      "model_name": "HTMLModel",
      "state": {
       "layout": "IPY_MODEL_75b78c7afddc47f798dd01dcb630bf75",
       "style": "IPY_MODEL_55db17edc0dd4293abe5175fc791e417",
       "value": " 18/699 [00:03&lt;01:54,  5.92it/s, v_num=35, val_loss=0.000642]"
      }
     },
     "46e9192d447b4352bc91cc105be07ce4": {
      "model_module": "@jupyter-widgets/controls",
      "model_module_version": "2.0.0",
      "model_name": "ProgressStyleModel",
      "state": {
       "description_width": ""
      }
     },
     "4726a6cd52824fd2b06ce916358e95ca": {
      "model_module": "@jupyter-widgets/base",
      "model_module_version": "2.0.0",
      "model_name": "LayoutModel",
      "state": {}
     },
     "47431e5bda7b4f99a2fb50ff907b5a46": {
      "model_module": "@jupyter-widgets/base",
      "model_module_version": "2.0.0",
      "model_name": "LayoutModel",
      "state": {}
     },
     "4747e96e5d0a401c8d2298ee80813622": {
      "model_module": "@jupyter-widgets/controls",
      "model_module_version": "2.0.0",
      "model_name": "HTMLStyleModel",
      "state": {
       "description_width": "",
       "font_size": null,
       "text_color": null
      }
     },
     "47fb470fc9ab43d0bdb8994133a21338": {
      "model_module": "@jupyter-widgets/controls",
      "model_module_version": "2.0.0",
      "model_name": "HTMLModel",
      "state": {
       "layout": "IPY_MODEL_1e6de1d641454bf997355ed6be8195d8",
       "style": "IPY_MODEL_045beb1f139548c9abe96ec5365a2cfe",
       "value": " 170/170 [00:16&lt;00:00, 10.15it/s]"
      }
     },
     "488d9bf5158d49eda1c19f62419448c4": {
      "model_module": "@jupyter-widgets/base",
      "model_module_version": "2.0.0",
      "model_name": "LayoutModel",
      "state": {
       "flex": "2"
      }
     },
     "48ab5a6d32944b9885a261d4bb896e19": {
      "model_module": "@jupyter-widgets/base",
      "model_module_version": "2.0.0",
      "model_name": "LayoutModel",
      "state": {}
     },
     "48dbc951bb6d45cfb770d705a9446223": {
      "model_module": "@jupyter-widgets/controls",
      "model_module_version": "2.0.0",
      "model_name": "FloatProgressModel",
      "state": {
       "layout": "IPY_MODEL_0a69637b263a4219a0cc579c56dfa2bb",
       "max": 170,
       "style": "IPY_MODEL_c529456061634639aa52a19abec286b4",
       "value": 170
      }
     },
     "491fd72305154ede807c73271ef74d2a": {
      "model_module": "@jupyter-widgets/controls",
      "model_module_version": "2.0.0",
      "model_name": "ProgressStyleModel",
      "state": {
       "description_width": ""
      }
     },
     "4945e1b1499e41f99dbced6c544158eb": {
      "model_module": "@jupyter-widgets/controls",
      "model_module_version": "2.0.0",
      "model_name": "HTMLStyleModel",
      "state": {
       "description_width": "",
       "font_size": null,
       "text_color": null
      }
     },
     "4980fd2186ea41988fca467c567a5738": {
      "model_module": "@jupyter-widgets/controls",
      "model_module_version": "2.0.0",
      "model_name": "HTMLModel",
      "state": {
       "layout": "IPY_MODEL_69dd11c72167459e82a870b99e7fddf0",
       "style": "IPY_MODEL_2462ac7e450246fea615fcac4c58e76f",
       "value": " 170/170 [00:16&lt;00:00, 10.17it/s]"
      }
     },
     "4a564a0574be4d7db1a6b401535ac298": {
      "model_module": "@jupyter-widgets/base",
      "model_module_version": "2.0.0",
      "model_name": "LayoutModel",
      "state": {
       "display": "inline-flex",
       "flex_flow": "row wrap",
       "visibility": "hidden",
       "width": "100%"
      }
     },
     "4acd0ae2457242eab41c429a5ffe95be": {
      "model_module": "@jupyter-widgets/controls",
      "model_module_version": "2.0.0",
      "model_name": "ProgressStyleModel",
      "state": {
       "description_width": ""
      }
     },
     "4ae615f9a6164cddab5655dc40097951": {
      "model_module": "@jupyter-widgets/base",
      "model_module_version": "2.0.0",
      "model_name": "LayoutModel",
      "state": {
       "display": "inline-flex",
       "flex_flow": "row wrap",
       "visibility": "hidden",
       "width": "100%"
      }
     },
     "4b327ee4ac8c414ebe0106f8d4c54c6f": {
      "model_module": "@jupyter-widgets/controls",
      "model_module_version": "2.0.0",
      "model_name": "ProgressStyleModel",
      "state": {
       "description_width": ""
      }
     },
     "4cb1188e56724981ad06d5cd5fdee695": {
      "model_module": "@jupyter-widgets/base",
      "model_module_version": "2.0.0",
      "model_name": "LayoutModel",
      "state": {
       "flex": "2"
      }
     },
     "4cc77ea94cd640e5b1c0cfd1ddd2830f": {
      "model_module": "@jupyter-widgets/controls",
      "model_module_version": "2.0.0",
      "model_name": "HTMLStyleModel",
      "state": {
       "description_width": "",
       "font_size": null,
       "text_color": null
      }
     },
     "4d4ed77c91b04cbdb09a6c8901516d84": {
      "model_module": "@jupyter-widgets/controls",
      "model_module_version": "2.0.0",
      "model_name": "HTMLStyleModel",
      "state": {
       "description_width": "",
       "font_size": null,
       "text_color": null
      }
     },
     "4d746036129442ed83280ad7ead5b4ca": {
      "model_module": "@jupyter-widgets/controls",
      "model_module_version": "2.0.0",
      "model_name": "HTMLModel",
      "state": {
       "layout": "IPY_MODEL_7e8286719b6f4b7d806990993cbba16c",
       "style": "IPY_MODEL_5d686b6d13de4cfe857b80df8b166e9f",
       "value": "Validation DataLoader 0: 100%"
      }
     },
     "4dc608e8832b4f03b3e80b99216679cb": {
      "model_module": "@jupyter-widgets/controls",
      "model_module_version": "2.0.0",
      "model_name": "HTMLStyleModel",
      "state": {
       "description_width": "",
       "font_size": null,
       "text_color": null
      }
     },
     "4df106e50eba49c4ad30313fe12df163": {
      "model_module": "@jupyter-widgets/base",
      "model_module_version": "2.0.0",
      "model_name": "LayoutModel",
      "state": {
       "display": "inline-flex",
       "flex_flow": "row wrap",
       "visibility": "hidden",
       "width": "100%"
      }
     },
     "4e5151b0a5af410597b9a79230251cdd": {
      "model_module": "@jupyter-widgets/controls",
      "model_module_version": "2.0.0",
      "model_name": "HTMLModel",
      "state": {
       "layout": "IPY_MODEL_f225fec461f84203bf0533dee788da4c",
       "style": "IPY_MODEL_beb374d11a2a4281bf3f09f06acc4012",
       "value": " 170/170 [00:16&lt;00:00, 10.15it/s]"
      }
     },
     "4ec7acf41504466b9f0f3fac38c8dd45": {
      "model_module": "@jupyter-widgets/base",
      "model_module_version": "2.0.0",
      "model_name": "LayoutModel",
      "state": {
       "flex": "2"
      }
     },
     "4f41017e21c34f2b8f882298eb850d57": {
      "model_module": "@jupyter-widgets/controls",
      "model_module_version": "2.0.0",
      "model_name": "ProgressStyleModel",
      "state": {
       "description_width": ""
      }
     },
     "4f55c42fccde4926b5249471c10a134a": {
      "model_module": "@jupyter-widgets/base",
      "model_module_version": "2.0.0",
      "model_name": "LayoutModel",
      "state": {
       "flex": "2"
      }
     },
     "4f57d346d8ab433b86038dc2c6256d2a": {
      "model_module": "@jupyter-widgets/base",
      "model_module_version": "2.0.0",
      "model_name": "LayoutModel",
      "state": {}
     },
     "4f62f15a4aa14a44a2fbdc23daca91f5": {
      "model_module": "@jupyter-widgets/controls",
      "model_module_version": "2.0.0",
      "model_name": "ProgressStyleModel",
      "state": {
       "description_width": ""
      }
     },
     "4f7c9ccab7ea410bb9c8300473136cc1": {
      "model_module": "@jupyter-widgets/controls",
      "model_module_version": "2.0.0",
      "model_name": "HTMLModel",
      "state": {
       "layout": "IPY_MODEL_55f3d9bb90814df980d218d598c1a7a7",
       "style": "IPY_MODEL_5e09d7d338d442368f02df56559312d8",
       "value": " 170/170 [00:16&lt;00:00, 10.10it/s]"
      }
     },
     "4f9ff88b02ea458aae78197709bf0127": {
      "model_module": "@jupyter-widgets/controls",
      "model_module_version": "2.0.0",
      "model_name": "HTMLModel",
      "state": {
       "layout": "IPY_MODEL_4086da2657a441098c46a2a0250c782d",
       "style": "IPY_MODEL_9b8cbfef984a4e21a5a5468b42612bf7",
       "value": " 170/170 [00:16&lt;00:00, 10.26it/s]"
      }
     },
     "4fca077f1b51456493511640fc255f83": {
      "model_module": "@jupyter-widgets/controls",
      "model_module_version": "2.0.0",
      "model_name": "HTMLModel",
      "state": {
       "layout": "IPY_MODEL_d1571b609e3e40c8bf7ace072ce925d5",
       "style": "IPY_MODEL_3b5577a8f8a44a33a4b2bc307c944b50",
       "value": " 170/170 [00:16&lt;00:00, 10.08it/s]"
      }
     },
     "4fdae8fbe98b4ad99bd433cc53d673f1": {
      "model_module": "@jupyter-widgets/controls",
      "model_module_version": "2.0.0",
      "model_name": "HTMLModel",
      "state": {
       "layout": "IPY_MODEL_23f25e3419dd472fa8b484b061b40428",
       "style": "IPY_MODEL_ec681a609b184bf288d2b753422cb133",
       "value": " 170/170 [00:16&lt;00:00, 10.18it/s]"
      }
     },
     "505d7948f3b34474b707b3b7d0c21893": {
      "model_module": "@jupyter-widgets/controls",
      "model_module_version": "2.0.0",
      "model_name": "HTMLStyleModel",
      "state": {
       "description_width": "",
       "font_size": null,
       "text_color": null
      }
     },
     "50885ec0edf84dd7a07dd8aa16a325e9": {
      "model_module": "@jupyter-widgets/base",
      "model_module_version": "2.0.0",
      "model_name": "LayoutModel",
      "state": {
       "display": "inline-flex",
       "flex_flow": "row wrap",
       "visibility": "hidden",
       "width": "100%"
      }
     },
     "50b35a9826cc406e92d1372505eb7bcb": {
      "model_module": "@jupyter-widgets/base",
      "model_module_version": "2.0.0",
      "model_name": "LayoutModel",
      "state": {}
     },
     "50d2a347e17349c384a292df94eb5323": {
      "model_module": "@jupyter-widgets/controls",
      "model_module_version": "2.0.0",
      "model_name": "HTMLStyleModel",
      "state": {
       "description_width": "",
       "font_size": null,
       "text_color": null
      }
     },
     "50eebb1b130d4a48a04f7b3d8ba1e8b3": {
      "model_module": "@jupyter-widgets/controls",
      "model_module_version": "2.0.0",
      "model_name": "ProgressStyleModel",
      "state": {
       "description_width": ""
      }
     },
     "51527ca7785f455091a8defc24f6abc5": {
      "model_module": "@jupyter-widgets/base",
      "model_module_version": "2.0.0",
      "model_name": "LayoutModel",
      "state": {}
     },
     "51a11f8ec5254030b49120df51130e71": {
      "model_module": "@jupyter-widgets/controls",
      "model_module_version": "2.0.0",
      "model_name": "ProgressStyleModel",
      "state": {
       "description_width": ""
      }
     },
     "5299a6ded17c4597b381454133041213": {
      "model_module": "@jupyter-widgets/base",
      "model_module_version": "2.0.0",
      "model_name": "LayoutModel",
      "state": {
       "flex": "2"
      }
     },
     "52ac11e7976f49579c0145137aefadd4": {
      "model_module": "@jupyter-widgets/base",
      "model_module_version": "2.0.0",
      "model_name": "LayoutModel",
      "state": {
       "display": "inline-flex",
       "flex_flow": "row wrap",
       "visibility": "hidden",
       "width": "100%"
      }
     },
     "52ac7aec35794ffaa6675ea12af3e7e8": {
      "model_module": "@jupyter-widgets/controls",
      "model_module_version": "2.0.0",
      "model_name": "FloatProgressModel",
      "state": {
       "layout": "IPY_MODEL_7e1e9920caaf46dd8a0406eeb0b8cf1c",
       "max": 170,
       "style": "IPY_MODEL_821b91751806453597c33c06adaa8101",
       "value": 170
      }
     },
     "539991f9caa1480bb6caf0a5a70338e7": {
      "model_module": "@jupyter-widgets/base",
      "model_module_version": "2.0.0",
      "model_name": "LayoutModel",
      "state": {
       "display": "inline-flex",
       "flex_flow": "row wrap",
       "visibility": "hidden",
       "width": "100%"
      }
     },
     "53d27a105c8c405ebc9bcc3cf73fc685": {
      "model_module": "@jupyter-widgets/base",
      "model_module_version": "2.0.0",
      "model_name": "LayoutModel",
      "state": {
       "flex": "2"
      }
     },
     "5445762201c44ff181f486d2cef0a0c9": {
      "model_module": "@jupyter-widgets/base",
      "model_module_version": "2.0.0",
      "model_name": "LayoutModel",
      "state": {
       "flex": "2"
      }
     },
     "54ee4123887a45bead03e58c67a54d08": {
      "model_module": "@jupyter-widgets/base",
      "model_module_version": "2.0.0",
      "model_name": "LayoutModel",
      "state": {}
     },
     "5532f50522fa40668494a36fa41e1d54": {
      "model_module": "@jupyter-widgets/base",
      "model_module_version": "2.0.0",
      "model_name": "LayoutModel",
      "state": {}
     },
     "556396b891fe4d2fbc8dddf4982373d8": {
      "model_module": "@jupyter-widgets/base",
      "model_module_version": "2.0.0",
      "model_name": "LayoutModel",
      "state": {
       "display": "inline-flex",
       "flex_flow": "row wrap",
       "visibility": "hidden",
       "width": "100%"
      }
     },
     "55b639c25cb54ac0a6914879590cc749": {
      "model_module": "@jupyter-widgets/base",
      "model_module_version": "2.0.0",
      "model_name": "LayoutModel",
      "state": {}
     },
     "55db17edc0dd4293abe5175fc791e417": {
      "model_module": "@jupyter-widgets/controls",
      "model_module_version": "2.0.0",
      "model_name": "HTMLStyleModel",
      "state": {
       "description_width": "",
       "font_size": null,
       "text_color": null
      }
     },
     "55db87a52a1d456eb8943fd4f6a08068": {
      "model_module": "@jupyter-widgets/controls",
      "model_module_version": "2.0.0",
      "model_name": "HTMLStyleModel",
      "state": {
       "description_width": "",
       "font_size": null,
       "text_color": null
      }
     },
     "55f3d9bb90814df980d218d598c1a7a7": {
      "model_module": "@jupyter-widgets/base",
      "model_module_version": "2.0.0",
      "model_name": "LayoutModel",
      "state": {}
     },
     "55fc361d5c5b4f97bda3ff1a6b4b3db2": {
      "model_module": "@jupyter-widgets/base",
      "model_module_version": "2.0.0",
      "model_name": "LayoutModel",
      "state": {}
     },
     "5651eda2d169444ebe30b7a7b3777b8e": {
      "model_module": "@jupyter-widgets/controls",
      "model_module_version": "2.0.0",
      "model_name": "FloatProgressModel",
      "state": {
       "layout": "IPY_MODEL_e470d641d7d3462b9895104543bcbd77",
       "max": 170,
       "style": "IPY_MODEL_bb221294b5b444339a8a21ff0e026144",
       "value": 170
      }
     },
     "567ba055e97f40a2b7b843ca0c46dd82": {
      "model_module": "@jupyter-widgets/base",
      "model_module_version": "2.0.0",
      "model_name": "LayoutModel",
      "state": {}
     },
     "568175c4a39e4aa2b29e2cad9d3b0edf": {
      "model_module": "@jupyter-widgets/controls",
      "model_module_version": "2.0.0",
      "model_name": "HTMLModel",
      "state": {
       "layout": "IPY_MODEL_90affd6426984c41b62c62d3489d7caa",
       "style": "IPY_MODEL_5d224efa208e480ba3d2c23eea69b71c",
       "value": " 170/170 [00:16&lt;00:00, 10.22it/s]"
      }
     },
     "56f4e679676240b49c2ddda68a894052": {
      "model_module": "@jupyter-widgets/base",
      "model_module_version": "2.0.0",
      "model_name": "LayoutModel",
      "state": {
       "display": "inline-flex",
       "flex_flow": "row wrap",
       "visibility": "hidden",
       "width": "100%"
      }
     },
     "59301de56f444919a3cb9b93a390da52": {
      "model_module": "@jupyter-widgets/controls",
      "model_module_version": "2.0.0",
      "model_name": "HTMLStyleModel",
      "state": {
       "description_width": "",
       "font_size": null,
       "text_color": null
      }
     },
     "598a21e267054bc3ab404035627ee2b6": {
      "model_module": "@jupyter-widgets/base",
      "model_module_version": "2.0.0",
      "model_name": "LayoutModel",
      "state": {
       "display": "inline-flex",
       "flex_flow": "row wrap",
       "visibility": "hidden",
       "width": "100%"
      }
     },
     "5a69c02afe9040f6ad057b076c5d90ff": {
      "model_module": "@jupyter-widgets/controls",
      "model_module_version": "2.0.0",
      "model_name": "HTMLStyleModel",
      "state": {
       "description_width": "",
       "font_size": null,
       "text_color": null
      }
     },
     "5a87199dd2614748a651799cc1ba2809": {
      "model_module": "@jupyter-widgets/base",
      "model_module_version": "2.0.0",
      "model_name": "LayoutModel",
      "state": {
       "flex": "2"
      }
     },
     "5ae7b75cfe09434483d188a43337b5b3": {
      "model_module": "@jupyter-widgets/controls",
      "model_module_version": "2.0.0",
      "model_name": "HTMLModel",
      "state": {
       "layout": "IPY_MODEL_dfa854ceda504e83a2920694f064ac49",
       "style": "IPY_MODEL_f522755bb9ea4617877fdbdbb5db7d8e",
       "value": "Validation DataLoader 0: 100%"
      }
     },
     "5b0c44515f3f4898858e2724b92771ae": {
      "model_module": "@jupyter-widgets/controls",
      "model_module_version": "2.0.0",
      "model_name": "HTMLStyleModel",
      "state": {
       "description_width": "",
       "font_size": null,
       "text_color": null
      }
     },
     "5b7c5361b7ff4c4b9537f7a6efc4a5cd": {
      "model_module": "@jupyter-widgets/base",
      "model_module_version": "2.0.0",
      "model_name": "LayoutModel",
      "state": {}
     },
     "5b7d1090934e48ca8edfbbe43f95fe0b": {
      "model_module": "@jupyter-widgets/base",
      "model_module_version": "2.0.0",
      "model_name": "LayoutModel",
      "state": {
       "display": "inline-flex",
       "flex_flow": "row wrap",
       "visibility": "hidden",
       "width": "100%"
      }
     },
     "5c0a28756b864d3ba4745f6ff2f29a40": {
      "model_module": "@jupyter-widgets/base",
      "model_module_version": "2.0.0",
      "model_name": "LayoutModel",
      "state": {}
     },
     "5c65ed4286a84179aa73f11171268e59": {
      "model_module": "@jupyter-widgets/base",
      "model_module_version": "2.0.0",
      "model_name": "LayoutModel",
      "state": {}
     },
     "5c8f91f619f44cb6b38cfc8d9193eef7": {
      "model_module": "@jupyter-widgets/controls",
      "model_module_version": "2.0.0",
      "model_name": "FloatProgressModel",
      "state": {
       "layout": "IPY_MODEL_038c99b38aa3480c934d3e4c877d37dc",
       "max": 170,
       "style": "IPY_MODEL_d91618783263493fad66162972d9678a",
       "value": 170
      }
     },
     "5ce94abbba294ca6804ab36d2bf339c7": {
      "model_module": "@jupyter-widgets/base",
      "model_module_version": "2.0.0",
      "model_name": "LayoutModel",
      "state": {
       "display": "inline-flex",
       "flex_flow": "row wrap",
       "visibility": "hidden",
       "width": "100%"
      }
     },
     "5d224efa208e480ba3d2c23eea69b71c": {
      "model_module": "@jupyter-widgets/controls",
      "model_module_version": "2.0.0",
      "model_name": "HTMLStyleModel",
      "state": {
       "description_width": "",
       "font_size": null,
       "text_color": null
      }
     },
     "5d42df0eac0e4a28b881880df0b90707": {
      "model_module": "@jupyter-widgets/base",
      "model_module_version": "2.0.0",
      "model_name": "LayoutModel",
      "state": {}
     },
     "5d686b6d13de4cfe857b80df8b166e9f": {
      "model_module": "@jupyter-widgets/controls",
      "model_module_version": "2.0.0",
      "model_name": "HTMLStyleModel",
      "state": {
       "description_width": "",
       "font_size": null,
       "text_color": null
      }
     },
     "5d75ebf121a5433da2b1feea7db664cb": {
      "model_module": "@jupyter-widgets/controls",
      "model_module_version": "2.0.0",
      "model_name": "HTMLStyleModel",
      "state": {
       "description_width": "",
       "font_size": null,
       "text_color": null
      }
     },
     "5d8d89ff6fff4498b4706d0f8dbcdadd": {
      "model_module": "@jupyter-widgets/controls",
      "model_module_version": "2.0.0",
      "model_name": "FloatProgressModel",
      "state": {
       "layout": "IPY_MODEL_40935787e63a48f18abf88f2c5dec2d3",
       "max": 170,
       "style": "IPY_MODEL_b8811919684347209e5abb9746166505",
       "value": 170
      }
     },
     "5da28873a27341a997cf88a003908a65": {
      "model_module": "@jupyter-widgets/base",
      "model_module_version": "2.0.0",
      "model_name": "LayoutModel",
      "state": {
       "flex": "2"
      }
     },
     "5dfcebef10514313bc6b611d28e093b3": {
      "model_module": "@jupyter-widgets/base",
      "model_module_version": "2.0.0",
      "model_name": "LayoutModel",
      "state": {}
     },
     "5dfdabfefcd24b848ecbeffa1040a1c2": {
      "model_module": "@jupyter-widgets/base",
      "model_module_version": "2.0.0",
      "model_name": "LayoutModel",
      "state": {}
     },
     "5dfe3ab744224af381e41e286867b344": {
      "model_module": "@jupyter-widgets/controls",
      "model_module_version": "2.0.0",
      "model_name": "HTMLStyleModel",
      "state": {
       "description_width": "",
       "font_size": null,
       "text_color": null
      }
     },
     "5e09d7d338d442368f02df56559312d8": {
      "model_module": "@jupyter-widgets/controls",
      "model_module_version": "2.0.0",
      "model_name": "HTMLStyleModel",
      "state": {
       "description_width": "",
       "font_size": null,
       "text_color": null
      }
     },
     "5e0bab4440b5412da2d933e752409d14": {
      "model_module": "@jupyter-widgets/base",
      "model_module_version": "2.0.0",
      "model_name": "LayoutModel",
      "state": {}
     },
     "5e28d5c93b804f84b653714677312d50": {
      "model_module": "@jupyter-widgets/base",
      "model_module_version": "2.0.0",
      "model_name": "LayoutModel",
      "state": {}
     },
     "5e3d7a3b9d844f58b4a7c717f3263136": {
      "model_module": "@jupyter-widgets/base",
      "model_module_version": "2.0.0",
      "model_name": "LayoutModel",
      "state": {
       "display": "inline-flex",
       "flex_flow": "row wrap",
       "visibility": "hidden",
       "width": "100%"
      }
     },
     "5ebe59b37072485fa124cf285f6465a2": {
      "model_module": "@jupyter-widgets/controls",
      "model_module_version": "2.0.0",
      "model_name": "HTMLStyleModel",
      "state": {
       "description_width": "",
       "font_size": null,
       "text_color": null
      }
     },
     "5ede45a04eff4638ad81eae24a71e927": {
      "model_module": "@jupyter-widgets/controls",
      "model_module_version": "2.0.0",
      "model_name": "HTMLStyleModel",
      "state": {
       "description_width": "",
       "font_size": null,
       "text_color": null
      }
     },
     "5efd8ad11db94c92ac4125ddcc822b40": {
      "model_module": "@jupyter-widgets/base",
      "model_module_version": "2.0.0",
      "model_name": "LayoutModel",
      "state": {
       "display": "inline-flex",
       "flex_flow": "row wrap",
       "visibility": "hidden",
       "width": "100%"
      }
     },
     "5f7a5d7784004912bbaeaa30d7f168a8": {
      "model_module": "@jupyter-widgets/controls",
      "model_module_version": "2.0.0",
      "model_name": "HTMLModel",
      "state": {
       "layout": "IPY_MODEL_808317bc92714eb18294a5b5ddd78d3c",
       "style": "IPY_MODEL_2e4243fdb2bd4d0b92f4afcfebdd0fe9",
       "value": " 170/170 [00:16&lt;00:00, 10.25it/s]"
      }
     },
     "5f9fb663ba9b49208f8f3fd75163e22f": {
      "model_module": "@jupyter-widgets/base",
      "model_module_version": "2.0.0",
      "model_name": "LayoutModel",
      "state": {
       "flex": "2"
      }
     },
     "5fb9ad86aa8148bb9aa83ae0158ad35a": {
      "model_module": "@jupyter-widgets/controls",
      "model_module_version": "2.0.0",
      "model_name": "ProgressStyleModel",
      "state": {
       "description_width": ""
      }
     },
     "5fd0163ec1764235a960fea329eb5481": {
      "model_module": "@jupyter-widgets/controls",
      "model_module_version": "2.0.0",
      "model_name": "HTMLStyleModel",
      "state": {
       "description_width": "",
       "font_size": null,
       "text_color": null
      }
     },
     "6066e4938de64f139d2e3c90b4f1f077": {
      "model_module": "@jupyter-widgets/controls",
      "model_module_version": "2.0.0",
      "model_name": "HTMLModel",
      "state": {
       "layout": "IPY_MODEL_76a6b0d960ae4cd2ac627182259cb91d",
       "style": "IPY_MODEL_9eb0bedd906547b9a62aa507f864e36b",
       "value": " 170/170 [00:16&lt;00:00, 10.18it/s]"
      }
     },
     "60a03a12c86247ee8b72d0fdfacce361": {
      "model_module": "@jupyter-widgets/controls",
      "model_module_version": "2.0.0",
      "model_name": "HTMLStyleModel",
      "state": {
       "description_width": "",
       "font_size": null,
       "text_color": null
      }
     },
     "60a1b52cd8c840f6bbd7e4be414e4575": {
      "model_module": "@jupyter-widgets/controls",
      "model_module_version": "2.0.0",
      "model_name": "HTMLModel",
      "state": {
       "layout": "IPY_MODEL_5dfdabfefcd24b848ecbeffa1040a1c2",
       "style": "IPY_MODEL_fcc1ec35584a4c4eaec0ad4af30b31f5",
       "value": "Validation DataLoader 0: 100%"
      }
     },
     "60c25e1433a64cd59756f2ea6dd881d3": {
      "model_module": "@jupyter-widgets/base",
      "model_module_version": "2.0.0",
      "model_name": "LayoutModel",
      "state": {}
     },
     "60d025c31e6747cba40a89d92006e6e5": {
      "model_module": "@jupyter-widgets/controls",
      "model_module_version": "2.0.0",
      "model_name": "HTMLModel",
      "state": {
       "layout": "IPY_MODEL_7847cb7bbc794f7faf9ae8a9f399ce36",
       "style": "IPY_MODEL_045eb93c1e5c4d66a88f8f7d555d59df",
       "value": "Epoch 84:   3%"
      }
     },
     "60e0b029a21c47efb71386f68a299800": {
      "model_module": "@jupyter-widgets/controls",
      "model_module_version": "2.0.0",
      "model_name": "ProgressStyleModel",
      "state": {
       "description_width": ""
      }
     },
     "60ea9293422246aab520a3eaaad43a05": {
      "model_module": "@jupyter-widgets/controls",
      "model_module_version": "2.0.0",
      "model_name": "HTMLStyleModel",
      "state": {
       "description_width": "",
       "font_size": null,
       "text_color": null
      }
     },
     "611bcbfaef0f4a4cbeedb913f98dab42": {
      "model_module": "@jupyter-widgets/base",
      "model_module_version": "2.0.0",
      "model_name": "LayoutModel",
      "state": {}
     },
     "61f1aa836ebf43eb8d5e74d58382400e": {
      "model_module": "@jupyter-widgets/controls",
      "model_module_version": "2.0.0",
      "model_name": "HTMLStyleModel",
      "state": {
       "description_width": "",
       "font_size": null,
       "text_color": null
      }
     },
     "629a3f58a45144d7974207fb16c3b9af": {
      "model_module": "@jupyter-widgets/controls",
      "model_module_version": "2.0.0",
      "model_name": "ProgressStyleModel",
      "state": {
       "description_width": ""
      }
     },
     "629b5bef26db4487858508c5fb1ca234": {
      "model_module": "@jupyter-widgets/controls",
      "model_module_version": "2.0.0",
      "model_name": "FloatProgressModel",
      "state": {
       "layout": "IPY_MODEL_f8680a55df2b445f824de7888c42f40f",
       "max": 170,
       "style": "IPY_MODEL_32ac76dab2114214b718b0292b404820",
       "value": 170
      }
     },
     "629dc8d391e744809d52d675ae111b69": {
      "model_module": "@jupyter-widgets/base",
      "model_module_version": "2.0.0",
      "model_name": "LayoutModel",
      "state": {}
     },
     "62e1b18b771a4601a724054119ba3511": {
      "model_module": "@jupyter-widgets/controls",
      "model_module_version": "2.0.0",
      "model_name": "ProgressStyleModel",
      "state": {
       "description_width": ""
      }
     },
     "62f845e11bf7474e8a6db92047de70bb": {
      "model_module": "@jupyter-widgets/controls",
      "model_module_version": "2.0.0",
      "model_name": "HTMLStyleModel",
      "state": {
       "description_width": "",
       "font_size": null,
       "text_color": null
      }
     },
     "63bc2d9c23e3489f9863335b51c6f96c": {
      "model_module": "@jupyter-widgets/base",
      "model_module_version": "2.0.0",
      "model_name": "LayoutModel",
      "state": {
       "display": "inline-flex",
       "flex_flow": "row wrap",
       "visibility": "hidden",
       "width": "100%"
      }
     },
     "63e34c19f7544b32be851ccd732eb938": {
      "model_module": "@jupyter-widgets/controls",
      "model_module_version": "2.0.0",
      "model_name": "ProgressStyleModel",
      "state": {
       "description_width": ""
      }
     },
     "63e491922fcf43aab35fbcd34484e321": {
      "model_module": "@jupyter-widgets/controls",
      "model_module_version": "2.0.0",
      "model_name": "ProgressStyleModel",
      "state": {
       "description_width": ""
      }
     },
     "648099f1c5024b308594005a30f7f8dc": {
      "model_module": "@jupyter-widgets/base",
      "model_module_version": "2.0.0",
      "model_name": "LayoutModel",
      "state": {
       "flex": "2"
      }
     },
     "64aad6cfbd684becb3d6e9661ef30128": {
      "model_module": "@jupyter-widgets/controls",
      "model_module_version": "2.0.0",
      "model_name": "FloatProgressModel",
      "state": {
       "layout": "IPY_MODEL_db68485ba46f4cbfbe0fa1e8a3db4cd8",
       "max": 170,
       "style": "IPY_MODEL_b6e5ab0c6ae2482da80c105154968bf5",
       "value": 170
      }
     },
     "6559fbedcc9e407b9ceb7b872b658e58": {
      "model_module": "@jupyter-widgets/base",
      "model_module_version": "2.0.0",
      "model_name": "LayoutModel",
      "state": {}
     },
     "65673d05caf64b6d85c725a8fb4294a2": {
      "model_module": "@jupyter-widgets/controls",
      "model_module_version": "2.0.0",
      "model_name": "HTMLStyleModel",
      "state": {
       "description_width": "",
       "font_size": null,
       "text_color": null
      }
     },
     "65756d59b98a409682b2b4b3baeb7cf3": {
      "model_module": "@jupyter-widgets/base",
      "model_module_version": "2.0.0",
      "model_name": "LayoutModel",
      "state": {
       "flex": "2"
      }
     },
     "657a7cb51be6446f94e18f0f9a5ca9d9": {
      "model_module": "@jupyter-widgets/controls",
      "model_module_version": "2.0.0",
      "model_name": "HTMLModel",
      "state": {
       "layout": "IPY_MODEL_bb29f161e3424cedaff4f2a61b396ba8",
       "style": "IPY_MODEL_44b02ee5f8384cd89f965de99dd73209",
       "value": " 170/170 [00:16&lt;00:00, 10.20it/s]"
      }
     },
     "65bba37386b54d879e1056207b863763": {
      "model_module": "@jupyter-widgets/controls",
      "model_module_version": "2.0.0",
      "model_name": "FloatProgressModel",
      "state": {
       "layout": "IPY_MODEL_9bf86c33f9a94eee8a9370272e1db8dd",
       "max": 170,
       "style": "IPY_MODEL_783b456b52a84e668578918a7c12bf1d",
       "value": 170
      }
     },
     "6707cdfb55784aa39d331d69278ee01b": {
      "model_module": "@jupyter-widgets/base",
      "model_module_version": "2.0.0",
      "model_name": "LayoutModel",
      "state": {
       "display": "inline-flex",
       "flex_flow": "row wrap",
       "visibility": "hidden",
       "width": "100%"
      }
     },
     "671c3069919848f882f9d22e4fcc6394": {
      "model_module": "@jupyter-widgets/base",
      "model_module_version": "2.0.0",
      "model_name": "LayoutModel",
      "state": {
       "display": "inline-flex",
       "flex_flow": "row wrap",
       "visibility": "hidden",
       "width": "100%"
      }
     },
     "67298e744f7e49a08e74f25c011dca2d": {
      "model_module": "@jupyter-widgets/base",
      "model_module_version": "2.0.0",
      "model_name": "LayoutModel",
      "state": {}
     },
     "674c0dd82887471a9096a344d095cbdc": {
      "model_module": "@jupyter-widgets/controls",
      "model_module_version": "2.0.0",
      "model_name": "HTMLModel",
      "state": {
       "layout": "IPY_MODEL_51527ca7785f455091a8defc24f6abc5",
       "style": "IPY_MODEL_f66352e46ff5479198680c4b2c233ae7",
       "value": "Validation DataLoader 0: 100%"
      }
     },
     "67a8a28a5dc0412293051390c346776b": {
      "model_module": "@jupyter-widgets/base",
      "model_module_version": "2.0.0",
      "model_name": "LayoutModel",
      "state": {
       "display": "inline-flex",
       "flex_flow": "row wrap",
       "visibility": "hidden",
       "width": "100%"
      }
     },
     "67baf8e7972a444da7aeb1a56ba004db": {
      "model_module": "@jupyter-widgets/base",
      "model_module_version": "2.0.0",
      "model_name": "LayoutModel",
      "state": {
       "display": "inline-flex",
       "flex_flow": "row wrap",
       "visibility": "hidden",
       "width": "100%"
      }
     },
     "67d029ee6f4f40039bb61db9559a092d": {
      "model_module": "@jupyter-widgets/controls",
      "model_module_version": "2.0.0",
      "model_name": "HTMLStyleModel",
      "state": {
       "description_width": "",
       "font_size": null,
       "text_color": null
      }
     },
     "68ccd9e5fd784c20bd96960a6a742cf2": {
      "model_module": "@jupyter-widgets/controls",
      "model_module_version": "2.0.0",
      "model_name": "ProgressStyleModel",
      "state": {
       "description_width": ""
      }
     },
     "68d4cb19964c49e988ca3e26d360258d": {
      "model_module": "@jupyter-widgets/controls",
      "model_module_version": "2.0.0",
      "model_name": "HTMLModel",
      "state": {
       "layout": "IPY_MODEL_f60e8bd1516541b0b553e5d9d093b269",
       "style": "IPY_MODEL_748d0050672944d890e3cc835e2e7f7b",
       "value": "Validation DataLoader 0: 100%"
      }
     },
     "68e2a6c77a5d44b499700bbf50bfaec3": {
      "model_module": "@jupyter-widgets/controls",
      "model_module_version": "2.0.0",
      "model_name": "ProgressStyleModel",
      "state": {
       "description_width": ""
      }
     },
     "693e703f0b964130b1ff15c08e0e6e5c": {
      "model_module": "@jupyter-widgets/controls",
      "model_module_version": "2.0.0",
      "model_name": "ProgressStyleModel",
      "state": {
       "description_width": ""
      }
     },
     "69bf9a32b1f447dc976b7c1686dec586": {
      "model_module": "@jupyter-widgets/controls",
      "model_module_version": "2.0.0",
      "model_name": "HTMLStyleModel",
      "state": {
       "description_width": "",
       "font_size": null,
       "text_color": null
      }
     },
     "69dd11c72167459e82a870b99e7fddf0": {
      "model_module": "@jupyter-widgets/base",
      "model_module_version": "2.0.0",
      "model_name": "LayoutModel",
      "state": {}
     },
     "6a52b2648d9b46f9ac1b8343f89296fb": {
      "model_module": "@jupyter-widgets/controls",
      "model_module_version": "2.0.0",
      "model_name": "HTMLModel",
      "state": {
       "layout": "IPY_MODEL_e7015377631b4e0a9d97c84290bbbb15",
       "style": "IPY_MODEL_f99d42d3b25948d680a91d7130fd8a5a",
       "value": "Validation DataLoader 0: 100%"
      }
     },
     "6a882089f3ca4381a99dd53441e5a129": {
      "model_module": "@jupyter-widgets/base",
      "model_module_version": "2.0.0",
      "model_name": "LayoutModel",
      "state": {}
     },
     "6ac0c89087474a649f38cbb01fdd4785": {
      "model_module": "@jupyter-widgets/base",
      "model_module_version": "2.0.0",
      "model_name": "LayoutModel",
      "state": {}
     },
     "6b89c29c6e0f47e5a6f414b4aad02fb3": {
      "model_module": "@jupyter-widgets/controls",
      "model_module_version": "2.0.0",
      "model_name": "FloatProgressModel",
      "state": {
       "layout": "IPY_MODEL_b1578dec1c3d480ba780dab395f38366",
       "max": 170,
       "style": "IPY_MODEL_b237236229b146e996f3c9a7703494c8",
       "value": 170
      }
     },
     "6bc1a03003ed471ba7cf9a09a41fbac9": {
      "model_module": "@jupyter-widgets/controls",
      "model_module_version": "2.0.0",
      "model_name": "HTMLStyleModel",
      "state": {
       "description_width": "",
       "font_size": null,
       "text_color": null
      }
     },
     "6c15b075f85b44d9aeddb27ac12ca8d7": {
      "model_module": "@jupyter-widgets/base",
      "model_module_version": "2.0.0",
      "model_name": "LayoutModel",
      "state": {
       "flex": "2"
      }
     },
     "6c34f0a55ae846769a1db9df84d7506a": {
      "model_module": "@jupyter-widgets/controls",
      "model_module_version": "2.0.0",
      "model_name": "HTMLStyleModel",
      "state": {
       "description_width": "",
       "font_size": null,
       "text_color": null
      }
     },
     "6c8ae0332890444fbf8d790bfb7024e5": {
      "model_module": "@jupyter-widgets/controls",
      "model_module_version": "2.0.0",
      "model_name": "HTMLModel",
      "state": {
       "layout": "IPY_MODEL_f21d578c47d746b38b9146adce113f98",
       "style": "IPY_MODEL_7b1c19036c0947e59e07885bad1dd2d8",
       "value": " 170/170 [00:16&lt;00:00, 10.33it/s]"
      }
     },
     "6d8e1ac766d24386a0353d25845432ec": {
      "model_module": "@jupyter-widgets/controls",
      "model_module_version": "2.0.0",
      "model_name": "ProgressStyleModel",
      "state": {
       "description_width": ""
      }
     },
     "6e408355e2e74a919b3841165dc6acc0": {
      "model_module": "@jupyter-widgets/base",
      "model_module_version": "2.0.0",
      "model_name": "LayoutModel",
      "state": {}
     },
     "6e9c359463804ec293190e67cff53367": {
      "model_module": "@jupyter-widgets/controls",
      "model_module_version": "2.0.0",
      "model_name": "FloatProgressModel",
      "state": {
       "layout": "IPY_MODEL_e7789c40c9964290b230cd11f403d30c",
       "max": 170,
       "style": "IPY_MODEL_ac5f829f289647c1811553adc0f2523c",
       "value": 170
      }
     },
     "6ea4764470734e9ea4300ea44d0af0d8": {
      "model_module": "@jupyter-widgets/base",
      "model_module_version": "2.0.0",
      "model_name": "LayoutModel",
      "state": {}
     },
     "6ed86e9bf03e47ec9190d35b54e14b6f": {
      "model_module": "@jupyter-widgets/controls",
      "model_module_version": "2.0.0",
      "model_name": "ProgressStyleModel",
      "state": {
       "description_width": ""
      }
     },
     "6ed9aa9561ba4b3d8ae3c065a3208a21": {
      "model_module": "@jupyter-widgets/controls",
      "model_module_version": "2.0.0",
      "model_name": "HTMLStyleModel",
      "state": {
       "description_width": "",
       "font_size": null,
       "text_color": null
      }
     },
     "6ee3a19ba6d44759802391f501e8a030": {
      "model_module": "@jupyter-widgets/base",
      "model_module_version": "2.0.0",
      "model_name": "LayoutModel",
      "state": {
       "display": "inline-flex",
       "flex_flow": "row wrap",
       "visibility": "hidden",
       "width": "100%"
      }
     },
     "6fa37be3f97b4cc2877bee8b7d180d0a": {
      "model_module": "@jupyter-widgets/controls",
      "model_module_version": "2.0.0",
      "model_name": "HTMLStyleModel",
      "state": {
       "description_width": "",
       "font_size": null,
       "text_color": null
      }
     },
     "7000bfd336cb4040917555982d65717f": {
      "model_module": "@jupyter-widgets/controls",
      "model_module_version": "2.0.0",
      "model_name": "HTMLModel",
      "state": {
       "layout": "IPY_MODEL_a991cbdfc0b440f28eae2c1b90bf63e8",
       "style": "IPY_MODEL_ad6943fbeaf94e0a8a1b00708fd40b39",
       "value": " 170/170 [00:16&lt;00:00, 10.37it/s]"
      }
     },
     "708fec2698c34250aa2ae379a2be5b3a": {
      "model_module": "@jupyter-widgets/base",
      "model_module_version": "2.0.0",
      "model_name": "LayoutModel",
      "state": {}
     },
     "712e9e5535d34e0390b0631c10fad294": {
      "model_module": "@jupyter-widgets/base",
      "model_module_version": "2.0.0",
      "model_name": "LayoutModel",
      "state": {}
     },
     "7186fe9bb7e24d7e829ce7b8e8100cdd": {
      "model_module": "@jupyter-widgets/base",
      "model_module_version": "2.0.0",
      "model_name": "LayoutModel",
      "state": {
       "flex": "2"
      }
     },
     "71de23002dab4549956f4051f2dc9777": {
      "model_module": "@jupyter-widgets/controls",
      "model_module_version": "2.0.0",
      "model_name": "HTMLModel",
      "state": {
       "layout": "IPY_MODEL_d582683d2c1749cdb62e2999768e21f3",
       "style": "IPY_MODEL_22a7d41b2a5444c9b91d5e210926b89e",
       "value": " 170/170 [00:16&lt;00:00, 10.07it/s]"
      }
     },
     "71e751000dad4663990e607eb0bc869e": {
      "model_module": "@jupyter-widgets/controls",
      "model_module_version": "2.0.0",
      "model_name": "HTMLModel",
      "state": {
       "layout": "IPY_MODEL_89b803af391745c0a7f95caf0e0e8255",
       "style": "IPY_MODEL_e54666629fab4122b34cabb5ca5a47a5",
       "value": "Validation DataLoader 0: 100%"
      }
     },
     "71fbef15f9fa40079a6a414833205064": {
      "model_module": "@jupyter-widgets/base",
      "model_module_version": "2.0.0",
      "model_name": "LayoutModel",
      "state": {
       "flex": "2"
      }
     },
     "720c41b6fe814cc68f204678950eb9b0": {
      "model_module": "@jupyter-widgets/controls",
      "model_module_version": "2.0.0",
      "model_name": "FloatProgressModel",
      "state": {
       "layout": "IPY_MODEL_857359ff77d04158866ee59256243c20",
       "max": 170,
       "style": "IPY_MODEL_2103f20a41f54665ab75e464fa0264be",
       "value": 170
      }
     },
     "7219a9e90863488698f27248f86fa4a9": {
      "model_module": "@jupyter-widgets/controls",
      "model_module_version": "2.0.0",
      "model_name": "HTMLModel",
      "state": {
       "layout": "IPY_MODEL_b708674548294be9afe75f5d885c778a",
       "style": "IPY_MODEL_cfe1fc7f4f5f4c5c9b0f9f84bc9b067b",
       "value": " 170/170 [00:17&lt;00:00,  9.94it/s]"
      }
     },
     "72585a8ea1ac4048af438e78fb6ff03a": {
      "model_module": "@jupyter-widgets/base",
      "model_module_version": "2.0.0",
      "model_name": "LayoutModel",
      "state": {}
     },
     "727620a0c38f426aa5527c552c777798": {
      "model_module": "@jupyter-widgets/base",
      "model_module_version": "2.0.0",
      "model_name": "LayoutModel",
      "state": {}
     },
     "7288d280d60e41819544be580d3ba6f0": {
      "model_module": "@jupyter-widgets/controls",
      "model_module_version": "2.0.0",
      "model_name": "HTMLModel",
      "state": {
       "layout": "IPY_MODEL_5c65ed4286a84179aa73f11171268e59",
       "style": "IPY_MODEL_3592477d3fb74b3484c4d642972797af",
       "value": "Validation DataLoader 0: 100%"
      }
     },
     "73461ae26fb343c59d3c9ce8d925f43a": {
      "model_module": "@jupyter-widgets/controls",
      "model_module_version": "2.0.0",
      "model_name": "FloatProgressModel",
      "state": {
       "layout": "IPY_MODEL_7186fe9bb7e24d7e829ce7b8e8100cdd",
       "max": 170,
       "style": "IPY_MODEL_8e24118b6f664f728c5889483883c9a4",
       "value": 170
      }
     },
     "73b9f472585f4f9bb63946360497472f": {
      "model_module": "@jupyter-widgets/controls",
      "model_module_version": "2.0.0",
      "model_name": "FloatProgressModel",
      "state": {
       "layout": "IPY_MODEL_3b7d300f365849749959d3fe7fcb8b1f",
       "max": 170,
       "style": "IPY_MODEL_9baf38437b8f4192a940eaac68c39751",
       "value": 170
      }
     },
     "73df874293f84ea6bdfcad0c61bac00e": {
      "model_module": "@jupyter-widgets/controls",
      "model_module_version": "2.0.0",
      "model_name": "ProgressStyleModel",
      "state": {
       "description_width": ""
      }
     },
     "741f390905174fe3b85304e721e1d567": {
      "model_module": "@jupyter-widgets/base",
      "model_module_version": "2.0.0",
      "model_name": "LayoutModel",
      "state": {}
     },
     "743be687dea94afb8b4167c2c7b14bc7": {
      "model_module": "@jupyter-widgets/controls",
      "model_module_version": "2.0.0",
      "model_name": "FloatProgressModel",
      "state": {
       "layout": "IPY_MODEL_01da89b0810c4f909fd28a3976980454",
       "max": 170,
       "style": "IPY_MODEL_118412859e9240899cb09eec47d0b98b",
       "value": 170
      }
     },
     "746387bf1e4440f7bd570e4f53a2a399": {
      "model_module": "@jupyter-widgets/base",
      "model_module_version": "2.0.0",
      "model_name": "LayoutModel",
      "state": {}
     },
     "747c0d506cbb431aa561d79da68ec280": {
      "model_module": "@jupyter-widgets/controls",
      "model_module_version": "2.0.0",
      "model_name": "HTMLModel",
      "state": {
       "layout": "IPY_MODEL_5e0bab4440b5412da2d933e752409d14",
       "style": "IPY_MODEL_fc9aac6d23804d498d4149a5ff682d6a",
       "value": "Validation DataLoader 0: 100%"
      }
     },
     "748bd88a28c24c6892c64db21d1429b3": {
      "model_module": "@jupyter-widgets/base",
      "model_module_version": "2.0.0",
      "model_name": "LayoutModel",
      "state": {
       "display": "inline-flex",
       "flex_flow": "row wrap",
       "visibility": "hidden",
       "width": "100%"
      }
     },
     "748d0050672944d890e3cc835e2e7f7b": {
      "model_module": "@jupyter-widgets/controls",
      "model_module_version": "2.0.0",
      "model_name": "HTMLStyleModel",
      "state": {
       "description_width": "",
       "font_size": null,
       "text_color": null
      }
     },
     "75b78c7afddc47f798dd01dcb630bf75": {
      "model_module": "@jupyter-widgets/base",
      "model_module_version": "2.0.0",
      "model_name": "LayoutModel",
      "state": {}
     },
     "75e4ca1e612c46308f28d433c92a133f": {
      "model_module": "@jupyter-widgets/controls",
      "model_module_version": "2.0.0",
      "model_name": "HTMLStyleModel",
      "state": {
       "description_width": "",
       "font_size": null,
       "text_color": null
      }
     },
     "7672d2c141ac4c07b78ae238c729e7e2": {
      "model_module": "@jupyter-widgets/controls",
      "model_module_version": "2.0.0",
      "model_name": "ProgressStyleModel",
      "state": {
       "description_width": ""
      }
     },
     "769361964619498cbce2206e55cafe63": {
      "model_module": "@jupyter-widgets/controls",
      "model_module_version": "2.0.0",
      "model_name": "HTMLModel",
      "state": {
       "layout": "IPY_MODEL_2db97574e01b4b47ac7643a21354ced3",
       "style": "IPY_MODEL_dbad60db2242424b842460016d7f64c5",
       "value": "Validation DataLoader 0: 100%"
      }
     },
     "76a6b0d960ae4cd2ac627182259cb91d": {
      "model_module": "@jupyter-widgets/base",
      "model_module_version": "2.0.0",
      "model_name": "LayoutModel",
      "state": {}
     },
     "77b9b9244a3d4e79adfff3bfc8100eba": {
      "model_module": "@jupyter-widgets/controls",
      "model_module_version": "2.0.0",
      "model_name": "HTMLModel",
      "state": {
       "layout": "IPY_MODEL_a084d4ab096d4a77b6b83ed53a82e5f1",
       "style": "IPY_MODEL_82225c6263934da6ba3f3f012bc31ed4",
       "value": "Validation DataLoader 0: 100%"
      }
     },
     "77c975438d4a478ead4027300f58fcac": {
      "model_module": "@jupyter-widgets/base",
      "model_module_version": "2.0.0",
      "model_name": "LayoutModel",
      "state": {
       "flex": "2"
      }
     },
     "77e09f8defd340618bdb22d215bb310e": {
      "model_module": "@jupyter-widgets/controls",
      "model_module_version": "2.0.0",
      "model_name": "FloatProgressModel",
      "state": {
       "layout": "IPY_MODEL_488d9bf5158d49eda1c19f62419448c4",
       "max": 170,
       "style": "IPY_MODEL_7aa2748db2a7410d9b307054adc1a56b",
       "value": 170
      }
     },
     "783b456b52a84e668578918a7c12bf1d": {
      "model_module": "@jupyter-widgets/controls",
      "model_module_version": "2.0.0",
      "model_name": "ProgressStyleModel",
      "state": {
       "description_width": ""
      }
     },
     "7847cb7bbc794f7faf9ae8a9f399ce36": {
      "model_module": "@jupyter-widgets/base",
      "model_module_version": "2.0.0",
      "model_name": "LayoutModel",
      "state": {}
     },
     "788aec1b35744584a0482695a0669c77": {
      "model_module": "@jupyter-widgets/base",
      "model_module_version": "2.0.0",
      "model_name": "LayoutModel",
      "state": {}
     },
     "78ae771ea58c4bfeb1cf3f85880fa593": {
      "model_module": "@jupyter-widgets/controls",
      "model_module_version": "2.0.0",
      "model_name": "HTMLStyleModel",
      "state": {
       "description_width": "",
       "font_size": null,
       "text_color": null
      }
     },
     "7936a4d3fa3a4879b976663fad32940f": {
      "model_module": "@jupyter-widgets/controls",
      "model_module_version": "2.0.0",
      "model_name": "HTMLModel",
      "state": {
       "layout": "IPY_MODEL_6559fbedcc9e407b9ceb7b872b658e58",
       "style": "IPY_MODEL_ce77f95ee0a74212a39e2096125b34db",
       "value": "Validation DataLoader 0: 100%"
      }
     },
     "7943e86f906e4f358d8d6e5218f218f1": {
      "model_module": "@jupyter-widgets/controls",
      "model_module_version": "2.0.0",
      "model_name": "HTMLModel",
      "state": {
       "layout": "IPY_MODEL_0e0190890ce743d98ef37a64cd4331dc",
       "style": "IPY_MODEL_d7f86fcfbf1748c5a5ce4f86dac9e0e5",
       "value": "Validation DataLoader 0: 100%"
      }
     },
     "794f82f7bf084d6ab63d3e4825c5de15": {
      "model_module": "@jupyter-widgets/controls",
      "model_module_version": "2.0.0",
      "model_name": "HTMLModel",
      "state": {
       "layout": "IPY_MODEL_6ea4764470734e9ea4300ea44d0af0d8",
       "style": "IPY_MODEL_4747e96e5d0a401c8d2298ee80813622",
       "value": " 170/170 [00:16&lt;00:00, 10.29it/s]"
      }
     },
     "7985f739e08c432998761c72fdb759e0": {
      "model_module": "@jupyter-widgets/controls",
      "model_module_version": "2.0.0",
      "model_name": "ProgressStyleModel",
      "state": {
       "description_width": ""
      }
     },
     "79b6cad9b7224b3d98b660f41c24754f": {
      "model_module": "@jupyter-widgets/base",
      "model_module_version": "2.0.0",
      "model_name": "LayoutModel",
      "state": {}
     },
     "7a443723e80a47409f0e3590f46761d5": {
      "model_module": "@jupyter-widgets/base",
      "model_module_version": "2.0.0",
      "model_name": "LayoutModel",
      "state": {
       "flex": "2"
      }
     },
     "7aa2748db2a7410d9b307054adc1a56b": {
      "model_module": "@jupyter-widgets/controls",
      "model_module_version": "2.0.0",
      "model_name": "ProgressStyleModel",
      "state": {
       "description_width": ""
      }
     },
     "7abf4043a42a43278d3d5a0363f91cb0": {
      "model_module": "@jupyter-widgets/base",
      "model_module_version": "2.0.0",
      "model_name": "LayoutModel",
      "state": {
       "flex": "2"
      }
     },
     "7b1c19036c0947e59e07885bad1dd2d8": {
      "model_module": "@jupyter-widgets/controls",
      "model_module_version": "2.0.0",
      "model_name": "HTMLStyleModel",
      "state": {
       "description_width": "",
       "font_size": null,
       "text_color": null
      }
     },
     "7b9eeb6cf99a433c98aeaedc884f7c12": {
      "model_module": "@jupyter-widgets/base",
      "model_module_version": "2.0.0",
      "model_name": "LayoutModel",
      "state": {}
     },
     "7bb85c121499449a9653f421d69866fa": {
      "model_module": "@jupyter-widgets/controls",
      "model_module_version": "2.0.0",
      "model_name": "FloatProgressModel",
      "state": {
       "layout": "IPY_MODEL_dff962650aa3476f93d1d8af04a17384",
       "max": 170,
       "style": "IPY_MODEL_8c52ce55da2943e69ad40fefabe2e85d",
       "value": 170
      }
     },
     "7bde2d656f9e4c1bb7d61601c0d2e1eb": {
      "model_module": "@jupyter-widgets/base",
      "model_module_version": "2.0.0",
      "model_name": "LayoutModel",
      "state": {
       "display": "inline-flex",
       "flex_flow": "row wrap",
       "visibility": "hidden",
       "width": "100%"
      }
     },
     "7c40ffe5e0b748e9ab4de8a36f4894ab": {
      "model_module": "@jupyter-widgets/controls",
      "model_module_version": "2.0.0",
      "model_name": "HTMLModel",
      "state": {
       "layout": "IPY_MODEL_1b90dc708d31455a83be89d2b025d830",
       "style": "IPY_MODEL_30329c0a415d458c93a1a62a3025fca7",
       "value": "Validation DataLoader 0: 100%"
      }
     },
     "7d644dc5ec83439aa6b824d7866578cd": {
      "model_module": "@jupyter-widgets/controls",
      "model_module_version": "2.0.0",
      "model_name": "ProgressStyleModel",
      "state": {
       "description_width": ""
      }
     },
     "7de661f8c8784bbe89036db7c7b5dd4d": {
      "model_module": "@jupyter-widgets/controls",
      "model_module_version": "2.0.0",
      "model_name": "HTMLModel",
      "state": {
       "layout": "IPY_MODEL_ce0845628c0445608014d6073707f18b",
       "style": "IPY_MODEL_179f8c57631848149aa3c92684070c0d",
       "value": " 170/170 [00:16&lt;00:00, 10.23it/s]"
      }
     },
     "7e1e9920caaf46dd8a0406eeb0b8cf1c": {
      "model_module": "@jupyter-widgets/base",
      "model_module_version": "2.0.0",
      "model_name": "LayoutModel",
      "state": {
       "flex": "2"
      }
     },
     "7e2255b2164548acbc10f1bed684091d": {
      "model_module": "@jupyter-widgets/controls",
      "model_module_version": "2.0.0",
      "model_name": "HTMLStyleModel",
      "state": {
       "description_width": "",
       "font_size": null,
       "text_color": null
      }
     },
     "7e26712d99d54cc0a0bfa35d36fa87fd": {
      "model_module": "@jupyter-widgets/controls",
      "model_module_version": "2.0.0",
      "model_name": "HTMLStyleModel",
      "state": {
       "description_width": "",
       "font_size": null,
       "text_color": null
      }
     },
     "7e8286719b6f4b7d806990993cbba16c": {
      "model_module": "@jupyter-widgets/base",
      "model_module_version": "2.0.0",
      "model_name": "LayoutModel",
      "state": {}
     },
     "7ee9aa6e69d24eb6a89fc30d419b9397": {
      "model_module": "@jupyter-widgets/base",
      "model_module_version": "2.0.0",
      "model_name": "LayoutModel",
      "state": {}
     },
     "7fda1371b8f0487b96fcfc66f562e9da": {
      "model_module": "@jupyter-widgets/controls",
      "model_module_version": "2.0.0",
      "model_name": "FloatProgressModel",
      "state": {
       "layout": "IPY_MODEL_abbebbe371d949f8846270d7bef6079b",
       "max": 170,
       "style": "IPY_MODEL_1eb568bc67cc4d8d9619f46e2657e04b",
       "value": 170
      }
     },
     "808317bc92714eb18294a5b5ddd78d3c": {
      "model_module": "@jupyter-widgets/base",
      "model_module_version": "2.0.0",
      "model_name": "LayoutModel",
      "state": {}
     },
     "80862e89983a4069911fda0c1dd66ff3": {
      "model_module": "@jupyter-widgets/base",
      "model_module_version": "2.0.0",
      "model_name": "LayoutModel",
      "state": {
       "display": "inline-flex",
       "flex_flow": "row wrap",
       "visibility": "hidden",
       "width": "100%"
      }
     },
     "81321dd61dc44b8cafbe49960c56871f": {
      "model_module": "@jupyter-widgets/base",
      "model_module_version": "2.0.0",
      "model_name": "LayoutModel",
      "state": {
       "display": "inline-flex",
       "flex_flow": "row wrap",
       "visibility": "hidden",
       "width": "100%"
      }
     },
     "813e0a7d62b342709da1299f591d58ec": {
      "model_module": "@jupyter-widgets/base",
      "model_module_version": "2.0.0",
      "model_name": "LayoutModel",
      "state": {}
     },
     "8190516c898740e48a9fcf05da036a3d": {
      "model_module": "@jupyter-widgets/controls",
      "model_module_version": "2.0.0",
      "model_name": "HTMLStyleModel",
      "state": {
       "description_width": "",
       "font_size": null,
       "text_color": null
      }
     },
     "821985e713d141908cce7cc89c779b0c": {
      "model_module": "@jupyter-widgets/base",
      "model_module_version": "2.0.0",
      "model_name": "LayoutModel",
      "state": {
       "display": "inline-flex",
       "flex_flow": "row wrap",
       "visibility": "hidden",
       "width": "100%"
      }
     },
     "821b91751806453597c33c06adaa8101": {
      "model_module": "@jupyter-widgets/controls",
      "model_module_version": "2.0.0",
      "model_name": "ProgressStyleModel",
      "state": {
       "description_width": ""
      }
     },
     "82225c6263934da6ba3f3f012bc31ed4": {
      "model_module": "@jupyter-widgets/controls",
      "model_module_version": "2.0.0",
      "model_name": "HTMLStyleModel",
      "state": {
       "description_width": "",
       "font_size": null,
       "text_color": null
      }
     },
     "822dc82c3d124df08b9ce93cea011a06": {
      "model_module": "@jupyter-widgets/controls",
      "model_module_version": "2.0.0",
      "model_name": "HTMLModel",
      "state": {
       "layout": "IPY_MODEL_27450c3447ea476d88aa2a3b268fd2f9",
       "style": "IPY_MODEL_938ca2c946774821ba24235119209709",
       "value": " 170/170 [00:16&lt;00:00, 10.09it/s]"
      }
     },
     "82b1c4ff3f1d43f78ccdf15d5fc4edc3": {
      "model_module": "@jupyter-widgets/controls",
      "model_module_version": "2.0.0",
      "model_name": "HTMLModel",
      "state": {
       "layout": "IPY_MODEL_c606e25db08247e48901664c57d07d1d",
       "style": "IPY_MODEL_30b0b4b89e43457b92796c5334332c2e",
       "value": " 170/170 [00:16&lt;00:00, 10.20it/s]"
      }
     },
     "836d5b22b88041dda53af400d785ce6c": {
      "model_module": "@jupyter-widgets/controls",
      "model_module_version": "2.0.0",
      "model_name": "HTMLModel",
      "state": {
       "layout": "IPY_MODEL_f7ae1e321bf64cb090e6e37eda10bb07",
       "style": "IPY_MODEL_0b682bb551754a1ba509f5911ee47509",
       "value": "Validation DataLoader 0: 100%"
      }
     },
     "8390de6e244c4e3ba8568bb18f25cb75": {
      "model_module": "@jupyter-widgets/controls",
      "model_module_version": "2.0.0",
      "model_name": "ProgressStyleModel",
      "state": {
       "description_width": ""
      }
     },
     "83bda79312ff4373ab54331a90fd4fde": {
      "model_module": "@jupyter-widgets/base",
      "model_module_version": "2.0.0",
      "model_name": "LayoutModel",
      "state": {}
     },
     "83e8739eefe4421d8ede135c9012eb42": {
      "model_module": "@jupyter-widgets/base",
      "model_module_version": "2.0.0",
      "model_name": "LayoutModel",
      "state": {}
     },
     "84812da13c104c3a8913c9de6811d5dd": {
      "model_module": "@jupyter-widgets/base",
      "model_module_version": "2.0.0",
      "model_name": "LayoutModel",
      "state": {
       "display": "inline-flex",
       "flex_flow": "row wrap",
       "visibility": "hidden",
       "width": "100%"
      }
     },
     "84bdd7546d7945aa9ce55a573fce491f": {
      "model_module": "@jupyter-widgets/controls",
      "model_module_version": "2.0.0",
      "model_name": "HTMLModel",
      "state": {
       "layout": "IPY_MODEL_54ee4123887a45bead03e58c67a54d08",
       "style": "IPY_MODEL_55db87a52a1d456eb8943fd4f6a08068",
       "value": "Validation DataLoader 0: 100%"
      }
     },
     "84c966695fc740b08848e7f8b8517954": {
      "model_module": "@jupyter-widgets/controls",
      "model_module_version": "2.0.0",
      "model_name": "HTMLStyleModel",
      "state": {
       "description_width": "",
       "font_size": null,
       "text_color": null
      }
     },
     "85269c6f01d34da4ad88b9af595b54b2": {
      "model_module": "@jupyter-widgets/controls",
      "model_module_version": "2.0.0",
      "model_name": "FloatProgressModel",
      "state": {
       "layout": "IPY_MODEL_d648c063c4ee469bb0ea18cc29b52ded",
       "max": 170,
       "style": "IPY_MODEL_92c62fc93063440ba0413c3e7869626d",
       "value": 170
      }
     },
     "857359ff77d04158866ee59256243c20": {
      "model_module": "@jupyter-widgets/base",
      "model_module_version": "2.0.0",
      "model_name": "LayoutModel",
      "state": {
       "flex": "2"
      }
     },
     "85b3fd16efa64184826b6139c3a01f70": {
      "model_module": "@jupyter-widgets/controls",
      "model_module_version": "2.0.0",
      "model_name": "HTMLStyleModel",
      "state": {
       "description_width": "",
       "font_size": null,
       "text_color": null
      }
     },
     "85bc3c96ab7a49609cf7bf041820daf7": {
      "model_module": "@jupyter-widgets/controls",
      "model_module_version": "2.0.0",
      "model_name": "FloatProgressModel",
      "state": {
       "layout": "IPY_MODEL_bb7ae4edc71340628efc4425cf34c92a",
       "max": 170,
       "style": "IPY_MODEL_ef8c2f7308cb47b7bb8d45a858f51df9",
       "value": 170
      }
     },
     "85f1eba193424f84844d539f9a457dfb": {
      "model_module": "@jupyter-widgets/base",
      "model_module_version": "2.0.0",
      "model_name": "LayoutModel",
      "state": {
       "display": "inline-flex",
       "flex_flow": "row wrap",
       "visibility": "hidden",
       "width": "100%"
      }
     },
     "86427d44287f4446bfce42df04f211b3": {
      "model_module": "@jupyter-widgets/controls",
      "model_module_version": "2.0.0",
      "model_name": "FloatProgressModel",
      "state": {
       "layout": "IPY_MODEL_b2e5572bbdf64e7d8fa3a4e8b04e01cb",
       "max": 170,
       "style": "IPY_MODEL_ed04a727438b4f128b1af38154b284b1",
       "value": 170
      }
     },
     "869f8a6c8f2b45deb5d57dd8c87b7ce9": {
      "model_module": "@jupyter-widgets/controls",
      "model_module_version": "2.0.0",
      "model_name": "FloatProgressModel",
      "state": {
       "layout": "IPY_MODEL_5a87199dd2614748a651799cc1ba2809",
       "max": 170,
       "style": "IPY_MODEL_303805ae5143464499450a10cb257794",
       "value": 170
      }
     },
     "87499b6cf74d423292bc218281443f9e": {
      "model_module": "@jupyter-widgets/base",
      "model_module_version": "2.0.0",
      "model_name": "LayoutModel",
      "state": {
       "display": "inline-flex",
       "flex_flow": "row wrap",
       "visibility": "hidden",
       "width": "100%"
      }
     },
     "87d9b614916946b28fd6c511480d6184": {
      "model_module": "@jupyter-widgets/base",
      "model_module_version": "2.0.0",
      "model_name": "LayoutModel",
      "state": {}
     },
     "87eafe62233e41839579fbd8e9d04731": {
      "model_module": "@jupyter-widgets/base",
      "model_module_version": "2.0.0",
      "model_name": "LayoutModel",
      "state": {}
     },
     "883646193ea2414bb04290fc71495780": {
      "model_module": "@jupyter-widgets/controls",
      "model_module_version": "2.0.0",
      "model_name": "HTMLModel",
      "state": {
       "layout": "IPY_MODEL_462dd6cb019142fcafa739f985650096",
       "style": "IPY_MODEL_260eb3a503a242a29cc8a6017c1c0502",
       "value": " 170/170 [00:16&lt;00:00, 10.21it/s]"
      }
     },
     "8873b05673f64f42a0495c47beb9b343": {
      "model_module": "@jupyter-widgets/controls",
      "model_module_version": "2.0.0",
      "model_name": "HTMLModel",
      "state": {
       "layout": "IPY_MODEL_e2cac38ff0f94c55bb6a7159409ac7f6",
       "style": "IPY_MODEL_96d8e41bc8d3482ebb4dca2cd24561b8",
       "value": " 170/170 [00:16&lt;00:00, 10.30it/s]"
      }
     },
     "88b273ea0bf947fba2529f057fca49a8": {
      "model_module": "@jupyter-widgets/base",
      "model_module_version": "2.0.0",
      "model_name": "LayoutModel",
      "state": {
       "flex": "2"
      }
     },
     "89124fea5df04203888b8d0ef94815df": {
      "model_module": "@jupyter-widgets/controls",
      "model_module_version": "2.0.0",
      "model_name": "HTMLModel",
      "state": {
       "layout": "IPY_MODEL_5e28d5c93b804f84b653714677312d50",
       "style": "IPY_MODEL_67d029ee6f4f40039bb61db9559a092d",
       "value": "Validation DataLoader 0: 100%"
      }
     },
     "89261de5a90d4911a18159fb068805a6": {
      "model_module": "@jupyter-widgets/base",
      "model_module_version": "2.0.0",
      "model_name": "LayoutModel",
      "state": {
       "flex": "2"
      }
     },
     "896dc51f18ff45ef8cf0abb7b7914f84": {
      "model_module": "@jupyter-widgets/controls",
      "model_module_version": "2.0.0",
      "model_name": "HTMLModel",
      "state": {
       "layout": "IPY_MODEL_43d0b1d0e0174060856ae256e65a7188",
       "style": "IPY_MODEL_fa9769f0a6f34adeb1d2b9408b539c51",
       "value": " 170/170 [00:16&lt;00:00, 10.12it/s]"
      }
     },
     "89956484fd9842f4b62e018761c20415": {
      "model_module": "@jupyter-widgets/controls",
      "model_module_version": "2.0.0",
      "model_name": "HTMLStyleModel",
      "state": {
       "description_width": "",
       "font_size": null,
       "text_color": null
      }
     },
     "89b803af391745c0a7f95caf0e0e8255": {
      "model_module": "@jupyter-widgets/base",
      "model_module_version": "2.0.0",
      "model_name": "LayoutModel",
      "state": {}
     },
     "89b9758467194f7c97d3f06a1d59670f": {
      "model_module": "@jupyter-widgets/base",
      "model_module_version": "2.0.0",
      "model_name": "LayoutModel",
      "state": {
       "display": "inline-flex",
       "flex_flow": "row wrap",
       "visibility": "hidden",
       "width": "100%"
      }
     },
     "89d616338bcf4ad983eb9629d2acae51": {
      "model_module": "@jupyter-widgets/base",
      "model_module_version": "2.0.0",
      "model_name": "LayoutModel",
      "state": {
       "display": "inline-flex",
       "flex_flow": "row wrap",
       "visibility": "hidden",
       "width": "100%"
      }
     },
     "89d7f19e0985484a8bfd13eeb86ea8e0": {
      "model_module": "@jupyter-widgets/base",
      "model_module_version": "2.0.0",
      "model_name": "LayoutModel",
      "state": {
       "display": "inline-flex",
       "flex_flow": "row wrap",
       "visibility": "hidden",
       "width": "100%"
      }
     },
     "89e727a1481040e49c706b66f8e2b181": {
      "model_module": "@jupyter-widgets/controls",
      "model_module_version": "2.0.0",
      "model_name": "FloatProgressModel",
      "state": {
       "layout": "IPY_MODEL_8ffaedd42c244a409cf0a7c3a033a5b0",
       "max": 170,
       "style": "IPY_MODEL_7d644dc5ec83439aa6b824d7866578cd",
       "value": 170
      }
     },
     "8aaa247613a94d308190aaf136ca855f": {
      "model_module": "@jupyter-widgets/controls",
      "model_module_version": "2.0.0",
      "model_name": "HTMLStyleModel",
      "state": {
       "description_width": "",
       "font_size": null,
       "text_color": null
      }
     },
     "8acfaa4f76184ec686925684939f26b5": {
      "model_module": "@jupyter-widgets/controls",
      "model_module_version": "2.0.0",
      "model_name": "HTMLStyleModel",
      "state": {
       "description_width": "",
       "font_size": null,
       "text_color": null
      }
     },
     "8aeee49030dc47c2ade6450b88e7ed0e": {
      "model_module": "@jupyter-widgets/controls",
      "model_module_version": "2.0.0",
      "model_name": "HTMLStyleModel",
      "state": {
       "description_width": "",
       "font_size": null,
       "text_color": null
      }
     },
     "8b042f940faf46c8b69a345e49b1e7ef": {
      "model_module": "@jupyter-widgets/base",
      "model_module_version": "2.0.0",
      "model_name": "LayoutModel",
      "state": {
       "display": "inline-flex",
       "flex_flow": "row wrap",
       "visibility": "hidden",
       "width": "100%"
      }
     },
     "8b4bc30726d5452b86ac55b4067ae2ad": {
      "model_module": "@jupyter-widgets/controls",
      "model_module_version": "2.0.0",
      "model_name": "HTMLStyleModel",
      "state": {
       "description_width": "",
       "font_size": null,
       "text_color": null
      }
     },
     "8b727ebfd3ed4bef9cfca091906b54e4": {
      "model_module": "@jupyter-widgets/controls",
      "model_module_version": "2.0.0",
      "model_name": "HTMLStyleModel",
      "state": {
       "description_width": "",
       "font_size": null,
       "text_color": null
      }
     },
     "8b74dea900d84283b4e5d89a521710bd": {
      "model_module": "@jupyter-widgets/controls",
      "model_module_version": "2.0.0",
      "model_name": "HTMLModel",
      "state": {
       "layout": "IPY_MODEL_813e0a7d62b342709da1299f591d58ec",
       "style": "IPY_MODEL_d3146c874d5d4cc88b08c9a7039cf131",
       "value": "Validation DataLoader 0: 100%"
      }
     },
     "8b9a0e0a815549a6933b59c9b8b2628b": {
      "model_module": "@jupyter-widgets/base",
      "model_module_version": "2.0.0",
      "model_name": "LayoutModel",
      "state": {}
     },
     "8bb5095435f543589bc31f891328ada3": {
      "model_module": "@jupyter-widgets/base",
      "model_module_version": "2.0.0",
      "model_name": "LayoutModel",
      "state": {
       "flex": "2"
      }
     },
     "8bbadbf79af54d2b90b24b7ffcd71ff1": {
      "model_module": "@jupyter-widgets/base",
      "model_module_version": "2.0.0",
      "model_name": "LayoutModel",
      "state": {}
     },
     "8bd8d3a43a0f492cbb91d7c6a2a15aaf": {
      "model_module": "@jupyter-widgets/controls",
      "model_module_version": "2.0.0",
      "model_name": "HTMLStyleModel",
      "state": {
       "description_width": "",
       "font_size": null,
       "text_color": null
      }
     },
     "8bfa2e351c2e407eb6e01b780239d07a": {
      "model_module": "@jupyter-widgets/controls",
      "model_module_version": "2.0.0",
      "model_name": "HTMLModel",
      "state": {
       "layout": "IPY_MODEL_d612a241581a4f7ebd1f9e828d874fbd",
       "style": "IPY_MODEL_7e26712d99d54cc0a0bfa35d36fa87fd",
       "value": " 170/170 [00:16&lt;00:00, 10.08it/s]"
      }
     },
     "8c52ce55da2943e69ad40fefabe2e85d": {
      "model_module": "@jupyter-widgets/controls",
      "model_module_version": "2.0.0",
      "model_name": "ProgressStyleModel",
      "state": {
       "description_width": ""
      }
     },
     "8c938e07016b438293bc4ceb7a3f19a4": {
      "model_module": "@jupyter-widgets/base",
      "model_module_version": "2.0.0",
      "model_name": "LayoutModel",
      "state": {}
     },
     "8cb3ae053bac4fab994dce9b4575a177": {
      "model_module": "@jupyter-widgets/controls",
      "model_module_version": "2.0.0",
      "model_name": "ProgressStyleModel",
      "state": {
       "description_width": ""
      }
     },
     "8d24aadacdf14f62bc531515f4898d1c": {
      "model_module": "@jupyter-widgets/base",
      "model_module_version": "2.0.0",
      "model_name": "LayoutModel",
      "state": {
       "display": "inline-flex",
       "flex_flow": "row wrap",
       "visibility": "hidden",
       "width": "100%"
      }
     },
     "8e24118b6f664f728c5889483883c9a4": {
      "model_module": "@jupyter-widgets/controls",
      "model_module_version": "2.0.0",
      "model_name": "ProgressStyleModel",
      "state": {
       "description_width": ""
      }
     },
     "8f594836b20946359053cd7b1962a99e": {
      "model_module": "@jupyter-widgets/controls",
      "model_module_version": "2.0.0",
      "model_name": "ProgressStyleModel",
      "state": {
       "description_width": ""
      }
     },
     "8ffaedd42c244a409cf0a7c3a033a5b0": {
      "model_module": "@jupyter-widgets/base",
      "model_module_version": "2.0.0",
      "model_name": "LayoutModel",
      "state": {
       "flex": "2"
      }
     },
     "9006dc167bc046a1819ecf4a5931bcf4": {
      "model_module": "@jupyter-widgets/base",
      "model_module_version": "2.0.0",
      "model_name": "LayoutModel",
      "state": {}
     },
     "90485811767d4163a35061c40e2028a3": {
      "model_module": "@jupyter-widgets/controls",
      "model_module_version": "2.0.0",
      "model_name": "HTMLModel",
      "state": {
       "layout": "IPY_MODEL_6a882089f3ca4381a99dd53441e5a129",
       "style": "IPY_MODEL_f15e85f0dbbc4e129b22d9b65f9c5d68",
       "value": "Validation DataLoader 0: 100%"
      }
     },
     "90affd6426984c41b62c62d3489d7caa": {
      "model_module": "@jupyter-widgets/base",
      "model_module_version": "2.0.0",
      "model_name": "LayoutModel",
      "state": {}
     },
     "90b911c2af4941caa4a40e7b46e486d2": {
      "model_module": "@jupyter-widgets/base",
      "model_module_version": "2.0.0",
      "model_name": "LayoutModel",
      "state": {}
     },
     "90c093f39815413da4938daf51c94c18": {
      "model_module": "@jupyter-widgets/controls",
      "model_module_version": "2.0.0",
      "model_name": "HTMLStyleModel",
      "state": {
       "description_width": "",
       "font_size": null,
       "text_color": null
      }
     },
     "90c15fa273eb4496b6ea5570f00507db": {
      "model_module": "@jupyter-widgets/controls",
      "model_module_version": "2.0.0",
      "model_name": "HTMLStyleModel",
      "state": {
       "description_width": "",
       "font_size": null,
       "text_color": null
      }
     },
     "915bd876ee524eb4b1ad097b3a6c94dd": {
      "model_module": "@jupyter-widgets/controls",
      "model_module_version": "2.0.0",
      "model_name": "ProgressStyleModel",
      "state": {
       "description_width": ""
      }
     },
     "918de93adb854be4ac8497e4cbe41bb3": {
      "model_module": "@jupyter-widgets/base",
      "model_module_version": "2.0.0",
      "model_name": "LayoutModel",
      "state": {}
     },
     "920d8e84256b4052a99adf6c3d11e275": {
      "model_module": "@jupyter-widgets/controls",
      "model_module_version": "2.0.0",
      "model_name": "ProgressStyleModel",
      "state": {
       "description_width": ""
      }
     },
     "921c5093ebd944e782ebd916b3741207": {
      "model_module": "@jupyter-widgets/controls",
      "model_module_version": "2.0.0",
      "model_name": "HTMLStyleModel",
      "state": {
       "description_width": "",
       "font_size": null,
       "text_color": null
      }
     },
     "92c62fc93063440ba0413c3e7869626d": {
      "model_module": "@jupyter-widgets/controls",
      "model_module_version": "2.0.0",
      "model_name": "ProgressStyleModel",
      "state": {
       "description_width": ""
      }
     },
     "9305147e9e8440b083f7c7a8c6c02820": {
      "model_module": "@jupyter-widgets/base",
      "model_module_version": "2.0.0",
      "model_name": "LayoutModel",
      "state": {
       "flex": "2"
      }
     },
     "930606f662e24efeb3693197234ec7a1": {
      "model_module": "@jupyter-widgets/base",
      "model_module_version": "2.0.0",
      "model_name": "LayoutModel",
      "state": {}
     },
     "933fdad29811428fb68943c26f95fb26": {
      "model_module": "@jupyter-widgets/controls",
      "model_module_version": "2.0.0",
      "model_name": "HTMLStyleModel",
      "state": {
       "description_width": "",
       "font_size": null,
       "text_color": null
      }
     },
     "938ca2c946774821ba24235119209709": {
      "model_module": "@jupyter-widgets/controls",
      "model_module_version": "2.0.0",
      "model_name": "HTMLStyleModel",
      "state": {
       "description_width": "",
       "font_size": null,
       "text_color": null
      }
     },
     "942debfa91e04556bdbf9f2889d1f2c2": {
      "model_module": "@jupyter-widgets/base",
      "model_module_version": "2.0.0",
      "model_name": "LayoutModel",
      "state": {}
     },
     "943cd534a7114a9e8fbef053b6ad1f0a": {
      "model_module": "@jupyter-widgets/controls",
      "model_module_version": "2.0.0",
      "model_name": "HTMLModel",
      "state": {
       "layout": "IPY_MODEL_2d41b519cec445e79501fcaa8dfb0641",
       "style": "IPY_MODEL_d53b2e50cb48458a95b566c6f37f13ea",
       "value": " 170/170 [00:16&lt;00:00, 10.30it/s]"
      }
     },
     "944bcd93a82b430487203e3cad6143fa": {
      "model_module": "@jupyter-widgets/controls",
      "model_module_version": "2.0.0",
      "model_name": "FloatProgressModel",
      "state": {
       "layout": "IPY_MODEL_4215cf84c2964163a90d00db69411522",
       "max": 170,
       "style": "IPY_MODEL_d212cf1b619d474abd7ccca4d9b70f83",
       "value": 170
      }
     },
     "944fbdbc893b447a9700429154958d8b": {
      "model_module": "@jupyter-widgets/base",
      "model_module_version": "2.0.0",
      "model_name": "LayoutModel",
      "state": {}
     },
     "94c94fa58a874e6a91ec47c5b2e6f07e": {
      "model_module": "@jupyter-widgets/controls",
      "model_module_version": "2.0.0",
      "model_name": "ProgressStyleModel",
      "state": {
       "description_width": ""
      }
     },
     "953a6bff0cc44b48b901d4a5e477ad78": {
      "model_module": "@jupyter-widgets/controls",
      "model_module_version": "2.0.0",
      "model_name": "ProgressStyleModel",
      "state": {
       "description_width": ""
      }
     },
     "96075b1a01be4666b01f59097bcbb674": {
      "model_module": "@jupyter-widgets/controls",
      "model_module_version": "2.0.0",
      "model_name": "HTMLModel",
      "state": {
       "layout": "IPY_MODEL_ed39e6d541824fc8a5ef1fe3e7e7f5a1",
       "style": "IPY_MODEL_e8eee976896045a6bd5ba4cadfaed508",
       "value": " 170/170 [00:16&lt;00:00, 10.21it/s]"
      }
     },
     "9635d92c1d4b465a97ccbbb175f529b3": {
      "model_module": "@jupyter-widgets/base",
      "model_module_version": "2.0.0",
      "model_name": "LayoutModel",
      "state": {
       "flex": "2"
      }
     },
     "96923eb525274619b35edef59bf4c5c6": {
      "model_module": "@jupyter-widgets/controls",
      "model_module_version": "2.0.0",
      "model_name": "HTMLStyleModel",
      "state": {
       "description_width": "",
       "font_size": null,
       "text_color": null
      }
     },
     "9696685c055a4378a053df04900afbda": {
      "model_module": "@jupyter-widgets/base",
      "model_module_version": "2.0.0",
      "model_name": "LayoutModel",
      "state": {
       "flex": "2"
      }
     },
     "96d8e41bc8d3482ebb4dca2cd24561b8": {
      "model_module": "@jupyter-widgets/controls",
      "model_module_version": "2.0.0",
      "model_name": "HTMLStyleModel",
      "state": {
       "description_width": "",
       "font_size": null,
       "text_color": null
      }
     },
     "96f2e418141b42f68001bdb79df323da": {
      "model_module": "@jupyter-widgets/base",
      "model_module_version": "2.0.0",
      "model_name": "LayoutModel",
      "state": {
       "flex": "2"
      }
     },
     "97aa065d5eba44a6819206dc818b85ba": {
      "model_module": "@jupyter-widgets/controls",
      "model_module_version": "2.0.0",
      "model_name": "HTMLModel",
      "state": {
       "layout": "IPY_MODEL_944fbdbc893b447a9700429154958d8b",
       "style": "IPY_MODEL_3517a7e9dbe042a6a14857924da060f6",
       "value": "Sanity Checking DataLoader 0: 100%"
      }
     },
     "97dbd2795d23415593f29e6f01aa8a54": {
      "model_module": "@jupyter-widgets/base",
      "model_module_version": "2.0.0",
      "model_name": "LayoutModel",
      "state": {}
     },
     "981ac0fecc8a47218dcb46169b06a600": {
      "model_module": "@jupyter-widgets/base",
      "model_module_version": "2.0.0",
      "model_name": "LayoutModel",
      "state": {
       "display": "inline-flex",
       "flex_flow": "row wrap",
       "visibility": "hidden",
       "width": "100%"
      }
     },
     "984c212e3572439ab55d51049bc21c26": {
      "model_module": "@jupyter-widgets/base",
      "model_module_version": "2.0.0",
      "model_name": "LayoutModel",
      "state": {}
     },
     "98ad1cb5090b459d82085d50553ccc8e": {
      "model_module": "@jupyter-widgets/base",
      "model_module_version": "2.0.0",
      "model_name": "LayoutModel",
      "state": {
       "flex": "2"
      }
     },
     "98d8b222befc45fcbdd8f3d4bbbbd638": {
      "model_module": "@jupyter-widgets/base",
      "model_module_version": "2.0.0",
      "model_name": "LayoutModel",
      "state": {
       "display": "inline-flex",
       "flex_flow": "row wrap",
       "visibility": "hidden",
       "width": "100%"
      }
     },
     "98d918b21e774c3fa7ac8e4666a6093c": {
      "model_module": "@jupyter-widgets/controls",
      "model_module_version": "2.0.0",
      "model_name": "HTMLModel",
      "state": {
       "layout": "IPY_MODEL_87eafe62233e41839579fbd8e9d04731",
       "style": "IPY_MODEL_62f845e11bf7474e8a6db92047de70bb",
       "value": " 170/170 [00:16&lt;00:00, 10.12it/s]"
      }
     },
     "98e25075fcae4fbaa1e2dc526fc89928": {
      "model_module": "@jupyter-widgets/controls",
      "model_module_version": "2.0.0",
      "model_name": "FloatProgressModel",
      "state": {
       "layout": "IPY_MODEL_5445762201c44ff181f486d2cef0a0c9",
       "max": 170,
       "style": "IPY_MODEL_2e12a826f8004732badfd342bb7edb41",
       "value": 170
      }
     },
     "998d21cefe6f4b0fb9b9a644b8accfdc": {
      "model_module": "@jupyter-widgets/base",
      "model_module_version": "2.0.0",
      "model_name": "LayoutModel",
      "state": {}
     },
     "999f1b6593994acc9404018f99e2ba93": {
      "model_module": "@jupyter-widgets/base",
      "model_module_version": "2.0.0",
      "model_name": "LayoutModel",
      "state": {
       "display": "inline-flex",
       "flex_flow": "row wrap",
       "visibility": "hidden",
       "width": "100%"
      }
     },
     "9a66aedf1efe4723abb34137618415c4": {
      "model_module": "@jupyter-widgets/base",
      "model_module_version": "2.0.0",
      "model_name": "LayoutModel",
      "state": {
       "display": "inline-flex",
       "flex_flow": "row wrap",
       "visibility": "hidden",
       "width": "100%"
      }
     },
     "9a966a564b7140c4a4df698db6b95b4a": {
      "model_module": "@jupyter-widgets/controls",
      "model_module_version": "2.0.0",
      "model_name": "HTMLStyleModel",
      "state": {
       "description_width": "",
       "font_size": null,
       "text_color": null
      }
     },
     "9aad5eb1e3dd4261b9530ef5d5796368": {
      "model_module": "@jupyter-widgets/controls",
      "model_module_version": "2.0.0",
      "model_name": "HTMLStyleModel",
      "state": {
       "description_width": "",
       "font_size": null,
       "text_color": null
      }
     },
     "9b1ad7df43184f95944b07655a1a456c": {
      "model_module": "@jupyter-widgets/controls",
      "model_module_version": "2.0.0",
      "model_name": "ProgressStyleModel",
      "state": {
       "description_width": ""
      }
     },
     "9b8cbfef984a4e21a5a5468b42612bf7": {
      "model_module": "@jupyter-widgets/controls",
      "model_module_version": "2.0.0",
      "model_name": "HTMLStyleModel",
      "state": {
       "description_width": "",
       "font_size": null,
       "text_color": null
      }
     },
     "9baf38437b8f4192a940eaac68c39751": {
      "model_module": "@jupyter-widgets/controls",
      "model_module_version": "2.0.0",
      "model_name": "ProgressStyleModel",
      "state": {
       "description_width": ""
      }
     },
     "9bf86c33f9a94eee8a9370272e1db8dd": {
      "model_module": "@jupyter-widgets/base",
      "model_module_version": "2.0.0",
      "model_name": "LayoutModel",
      "state": {
       "flex": "2"
      }
     },
     "9c429b080f134a76b4fae09939eaff4a": {
      "model_module": "@jupyter-widgets/controls",
      "model_module_version": "2.0.0",
      "model_name": "HTMLModel",
      "state": {
       "layout": "IPY_MODEL_e0a8ba165d844c488e990d0584c0835c",
       "style": "IPY_MODEL_388ec8d1ef7543ab980b1d51c70beb21",
       "value": " 170/170 [00:16&lt;00:00, 10.07it/s]"
      }
     },
     "9c613e87f9114d40986c6fcfd3e99782": {
      "model_module": "@jupyter-widgets/base",
      "model_module_version": "2.0.0",
      "model_name": "LayoutModel",
      "state": {
       "flex": "2"
      }
     },
     "9c9e408d5d0d4edabfaee18a4e1e54ef": {
      "model_module": "@jupyter-widgets/controls",
      "model_module_version": "2.0.0",
      "model_name": "HTMLStyleModel",
      "state": {
       "description_width": "",
       "font_size": null,
       "text_color": null
      }
     },
     "9da86d1e9cf745fb9d7f947cf53d4910": {
      "model_module": "@jupyter-widgets/controls",
      "model_module_version": "2.0.0",
      "model_name": "FloatProgressModel",
      "state": {
       "layout": "IPY_MODEL_7abf4043a42a43278d3d5a0363f91cb0",
       "max": 170,
       "style": "IPY_MODEL_36e53c6bf8ac4cff82fb2bde1050e712",
       "value": 170
      }
     },
     "9df7e09645bb4f7b865ab8e93461bf6d": {
      "model_module": "@jupyter-widgets/controls",
      "model_module_version": "2.0.0",
      "model_name": "FloatProgressModel",
      "state": {
       "layout": "IPY_MODEL_c60c62c27f2b4a0cb2de952cbf677c91",
       "max": 170,
       "style": "IPY_MODEL_915bd876ee524eb4b1ad097b3a6c94dd",
       "value": 170
      }
     },
     "9e03930877954a98abf6d97b1d68b2b3": {
      "model_module": "@jupyter-widgets/base",
      "model_module_version": "2.0.0",
      "model_name": "LayoutModel",
      "state": {
       "display": "inline-flex",
       "flex_flow": "row wrap",
       "visibility": "hidden",
       "width": "100%"
      }
     },
     "9e1339814449490994cf5843a406defd": {
      "model_module": "@jupyter-widgets/base",
      "model_module_version": "2.0.0",
      "model_name": "LayoutModel",
      "state": {}
     },
     "9eb0bedd906547b9a62aa507f864e36b": {
      "model_module": "@jupyter-widgets/controls",
      "model_module_version": "2.0.0",
      "model_name": "HTMLStyleModel",
      "state": {
       "description_width": "",
       "font_size": null,
       "text_color": null
      }
     },
     "9ecd553bebb14e0ca749228342579eff": {
      "model_module": "@jupyter-widgets/controls",
      "model_module_version": "2.0.0",
      "model_name": "HTMLModel",
      "state": {
       "layout": "IPY_MODEL_727620a0c38f426aa5527c552c777798",
       "style": "IPY_MODEL_85b3fd16efa64184826b6139c3a01f70",
       "value": "Validation DataLoader 0: 100%"
      }
     },
     "9f4be5d3d81b4a80baf7086db3d6cdf0": {
      "model_module": "@jupyter-widgets/base",
      "model_module_version": "2.0.0",
      "model_name": "LayoutModel",
      "state": {}
     },
     "9f721aca1aaf4103bc8588ffbc9c90b5": {
      "model_module": "@jupyter-widgets/controls",
      "model_module_version": "2.0.0",
      "model_name": "HTMLStyleModel",
      "state": {
       "description_width": "",
       "font_size": null,
       "text_color": null
      }
     },
     "9f763886ea00419db49700402a45f56e": {
      "model_module": "@jupyter-widgets/base",
      "model_module_version": "2.0.0",
      "model_name": "LayoutModel",
      "state": {}
     },
     "9f7ec089e49c466f834ee432a7840948": {
      "model_module": "@jupyter-widgets/controls",
      "model_module_version": "2.0.0",
      "model_name": "FloatProgressModel",
      "state": {
       "layout": "IPY_MODEL_fb97690904b14cca93cc50f2958f37bd",
       "max": 170,
       "style": "IPY_MODEL_6ed86e9bf03e47ec9190d35b54e14b6f",
       "value": 170
      }
     },
     "9f8c823a31d64e72a5cf0721a093294f": {
      "model_module": "@jupyter-widgets/controls",
      "model_module_version": "2.0.0",
      "model_name": "FloatProgressModel",
      "state": {
       "layout": "IPY_MODEL_4f55c42fccde4926b5249471c10a134a",
       "max": 170,
       "style": "IPY_MODEL_21b900dedb0d451a8a0ca14a68a6ab22",
       "value": 170
      }
     },
     "9fd2760ef8d2498383ad147b4f3b8ce2": {
      "model_module": "@jupyter-widgets/controls",
      "model_module_version": "2.0.0",
      "model_name": "HTMLModel",
      "state": {
       "layout": "IPY_MODEL_97dbd2795d23415593f29e6f01aa8a54",
       "style": "IPY_MODEL_ef581a884cde4acab2e01b09d556bbd4",
       "value": " 170/170 [00:17&lt;00:00,  9.90it/s]"
      }
     },
     "a01e6ab80e95416ca591d7271770f353": {
      "model_module": "@jupyter-widgets/base",
      "model_module_version": "2.0.0",
      "model_name": "LayoutModel",
      "state": {
       "display": "inline-flex",
       "flex_flow": "row wrap",
       "visibility": "hidden",
       "width": "100%"
      }
     },
     "a04eb18fad524d91b3a8517598a01a79": {
      "model_module": "@jupyter-widgets/base",
      "model_module_version": "2.0.0",
      "model_name": "LayoutModel",
      "state": {}
     },
     "a05cb50ce7c849b98dd66c7274995221": {
      "model_module": "@jupyter-widgets/controls",
      "model_module_version": "2.0.0",
      "model_name": "HTMLModel",
      "state": {
       "layout": "IPY_MODEL_712e9e5535d34e0390b0631c10fad294",
       "style": "IPY_MODEL_e4f736ef66a64b70b20c43bf7025b7bd",
       "value": "Validation DataLoader 0: 100%"
      }
     },
     "a084d4ab096d4a77b6b83ed53a82e5f1": {
      "model_module": "@jupyter-widgets/base",
      "model_module_version": "2.0.0",
      "model_name": "LayoutModel",
      "state": {}
     },
     "a0f44e67d6a14301a0dbed124918633c": {
      "model_module": "@jupyter-widgets/controls",
      "model_module_version": "2.0.0",
      "model_name": "HTMLModel",
      "state": {
       "layout": "IPY_MODEL_bbbcd95c1e7a47beac86b82c6b420149",
       "style": "IPY_MODEL_190426e15ad94b46afa4b599d5da0fad",
       "value": "Validation DataLoader 0: 100%"
      }
     },
     "a1092f81e4e64ad1bebdf25c56fc18da": {
      "model_module": "@jupyter-widgets/controls",
      "model_module_version": "2.0.0",
      "model_name": "HTMLStyleModel",
      "state": {
       "description_width": "",
       "font_size": null,
       "text_color": null
      }
     },
     "a1175b4fe8c24bd4a05bccc75f1aed96": {
      "model_module": "@jupyter-widgets/base",
      "model_module_version": "2.0.0",
      "model_name": "LayoutModel",
      "state": {}
     },
     "a12458249a9b44b9b38e1910b295c634": {
      "model_module": "@jupyter-widgets/base",
      "model_module_version": "2.0.0",
      "model_name": "LayoutModel",
      "state": {}
     },
     "a12e83e22d38467487857ab57316b45a": {
      "model_module": "@jupyter-widgets/base",
      "model_module_version": "2.0.0",
      "model_name": "LayoutModel",
      "state": {
       "display": "inline-flex",
       "flex_flow": "row wrap",
       "visibility": "hidden",
       "width": "100%"
      }
     },
     "a143dbbe9a7a4daeb883e6d8821d21ad": {
      "model_module": "@jupyter-widgets/controls",
      "model_module_version": "2.0.0",
      "model_name": "FloatProgressModel",
      "state": {
       "layout": "IPY_MODEL_77c975438d4a478ead4027300f58fcac",
       "max": 170,
       "style": "IPY_MODEL_62e1b18b771a4601a724054119ba3511",
       "value": 170
      }
     },
     "a29a99fc48414153abe6cd17ba232220": {
      "model_module": "@jupyter-widgets/controls",
      "model_module_version": "2.0.0",
      "model_name": "HTMLModel",
      "state": {
       "layout": "IPY_MODEL_1a012a32e04c41428aa763504225cd52",
       "style": "IPY_MODEL_8b4bc30726d5452b86ac55b4067ae2ad",
       "value": " 170/170 [00:16&lt;00:00, 10.11it/s]"
      }
     },
     "a2aad7af5029431eb4645aed0feb31e0": {
      "model_module": "@jupyter-widgets/base",
      "model_module_version": "2.0.0",
      "model_name": "LayoutModel",
      "state": {}
     },
     "a2b70fabbcf14c309fb30b5632520507": {
      "model_module": "@jupyter-widgets/controls",
      "model_module_version": "2.0.0",
      "model_name": "FloatProgressModel",
      "state": {
       "layout": "IPY_MODEL_5299a6ded17c4597b381454133041213",
       "max": 170,
       "style": "IPY_MODEL_da0f98a56bff4165a5dd98c786d96950",
       "value": 170
      }
     },
     "a2d69a4f48bc480492c727ece5c1ae26": {
      "model_module": "@jupyter-widgets/controls",
      "model_module_version": "2.0.0",
      "model_name": "HTMLStyleModel",
      "state": {
       "description_width": "",
       "font_size": null,
       "text_color": null
      }
     },
     "a32df842f5fe471480a5ba0fdbba11d5": {
      "model_module": "@jupyter-widgets/controls",
      "model_module_version": "2.0.0",
      "model_name": "ProgressStyleModel",
      "state": {
       "description_width": ""
      }
     },
     "a35bfe07c2134cfc9abb2975a1984b7b": {
      "model_module": "@jupyter-widgets/base",
      "model_module_version": "2.0.0",
      "model_name": "LayoutModel",
      "state": {}
     },
     "a35e09e2c6c044a591b6c4273e935e01": {
      "model_module": "@jupyter-widgets/base",
      "model_module_version": "2.0.0",
      "model_name": "LayoutModel",
      "state": {
       "flex": "2"
      }
     },
     "a4611cfc508542328a89fffbe4a47436": {
      "model_module": "@jupyter-widgets/controls",
      "model_module_version": "2.0.0",
      "model_name": "FloatProgressModel",
      "state": {
       "layout": "IPY_MODEL_89261de5a90d4911a18159fb068805a6",
       "max": 170,
       "style": "IPY_MODEL_db445e6433fa477195839007633b08f4",
       "value": 170
      }
     },
     "a54a10c2fe724a6f97f891fc3421015c": {
      "model_module": "@jupyter-widgets/controls",
      "model_module_version": "2.0.0",
      "model_name": "HTMLModel",
      "state": {
       "layout": "IPY_MODEL_eca369fb3ac0407f8ab6de6b803bb0ad",
       "style": "IPY_MODEL_180f49e0cd7b4632976e1a0d35f41473",
       "value": " 170/170 [00:16&lt;00:00, 10.07it/s]"
      }
     },
     "a5b6ea51371746d08189c06e29668703": {
      "model_module": "@jupyter-widgets/base",
      "model_module_version": "2.0.0",
      "model_name": "LayoutModel",
      "state": {
       "flex": "2"
      }
     },
     "a687633ae5d9460a986a1a749bd6d659": {
      "model_module": "@jupyter-widgets/base",
      "model_module_version": "2.0.0",
      "model_name": "LayoutModel",
      "state": {}
     },
     "a7116fc71dd0488c9313a3c5baeb0e56": {
      "model_module": "@jupyter-widgets/controls",
      "model_module_version": "2.0.0",
      "model_name": "HTMLModel",
      "state": {
       "layout": "IPY_MODEL_ea21c59fd529433586e2478851f272db",
       "style": "IPY_MODEL_049878e346674635a1490da66dae3b1f",
       "value": "Validation DataLoader 0: 100%"
      }
     },
     "a749ca8a7f6f44dd8d7bb4944e8bcd01": {
      "model_module": "@jupyter-widgets/controls",
      "model_module_version": "2.0.0",
      "model_name": "HTMLModel",
      "state": {
       "layout": "IPY_MODEL_c8b2ec5f4f9a4349803dec67623d2873",
       "style": "IPY_MODEL_f4499efc419548e39e2c22a51063ce45",
       "value": "Validation DataLoader 0: 100%"
      }
     },
     "a796a13f2e584d4da5e9cdbca768caf3": {
      "model_module": "@jupyter-widgets/controls",
      "model_module_version": "2.0.0",
      "model_name": "HTMLModel",
      "state": {
       "layout": "IPY_MODEL_07d51b33de1c42d3adfbf326bc7da056",
       "style": "IPY_MODEL_5ede45a04eff4638ad81eae24a71e927",
       "value": " 170/170 [00:16&lt;00:00, 10.07it/s]"
      }
     },
     "a87de95075b340f88991b44786b8b75d": {
      "model_module": "@jupyter-widgets/base",
      "model_module_version": "2.0.0",
      "model_name": "LayoutModel",
      "state": {}
     },
     "a8b7e6f07b574d08ab7afa65cb7e094f": {
      "model_module": "@jupyter-widgets/controls",
      "model_module_version": "2.0.0",
      "model_name": "HTMLModel",
      "state": {
       "layout": "IPY_MODEL_387b578d36ac4b6995f761bb93228083",
       "style": "IPY_MODEL_d7775aa8d3054e9fa69f4a9d7dc0ba28",
       "value": " 170/170 [00:16&lt;00:00, 10.16it/s]"
      }
     },
     "a8bb4ce3b12e45e1a01ddd429a785cd9": {
      "model_module": "@jupyter-widgets/base",
      "model_module_version": "2.0.0",
      "model_name": "LayoutModel",
      "state": {
       "display": "inline-flex",
       "flex_flow": "row wrap",
       "visibility": "hidden",
       "width": "100%"
      }
     },
     "a8e36851f19b4ffe9b28865b73119d30": {
      "model_module": "@jupyter-widgets/controls",
      "model_module_version": "2.0.0",
      "model_name": "FloatProgressModel",
      "state": {
       "layout": "IPY_MODEL_d6a9dfd6b98a4ddd94f9c2b0b2fd107d",
       "max": 170,
       "style": "IPY_MODEL_a32df842f5fe471480a5ba0fdbba11d5",
       "value": 170
      }
     },
     "a991cbdfc0b440f28eae2c1b90bf63e8": {
      "model_module": "@jupyter-widgets/base",
      "model_module_version": "2.0.0",
      "model_name": "LayoutModel",
      "state": {}
     },
     "aab89a2b637f412fa00a83447da9740c": {
      "model_module": "@jupyter-widgets/controls",
      "model_module_version": "2.0.0",
      "model_name": "HTMLStyleModel",
      "state": {
       "description_width": "",
       "font_size": null,
       "text_color": null
      }
     },
     "ab5f14379de24085b435dbfd022548b9": {
      "model_module": "@jupyter-widgets/base",
      "model_module_version": "2.0.0",
      "model_name": "LayoutModel",
      "state": {}
     },
     "abbebbe371d949f8846270d7bef6079b": {
      "model_module": "@jupyter-widgets/base",
      "model_module_version": "2.0.0",
      "model_name": "LayoutModel",
      "state": {
       "flex": "2"
      }
     },
     "ac050e6644be4d4bbfe0616751bafc11": {
      "model_module": "@jupyter-widgets/base",
      "model_module_version": "2.0.0",
      "model_name": "LayoutModel",
      "state": {}
     },
     "ac5f829f289647c1811553adc0f2523c": {
      "model_module": "@jupyter-widgets/controls",
      "model_module_version": "2.0.0",
      "model_name": "ProgressStyleModel",
      "state": {
       "description_width": ""
      }
     },
     "acb1333802f04c27adc8977869865501": {
      "model_module": "@jupyter-widgets/base",
      "model_module_version": "2.0.0",
      "model_name": "LayoutModel",
      "state": {
       "flex": "2"
      }
     },
     "acf4fef9455e4ce8b769ba8cfb483212": {
      "model_module": "@jupyter-widgets/controls",
      "model_module_version": "2.0.0",
      "model_name": "HTMLModel",
      "state": {
       "layout": "IPY_MODEL_b2cf5943dac4401e9735926e2b497a28",
       "style": "IPY_MODEL_59301de56f444919a3cb9b93a390da52",
       "value": "Validation DataLoader 0: 100%"
      }
     },
     "acff703cdddb4e8f8d8aa9dc996b14cc": {
      "model_module": "@jupyter-widgets/controls",
      "model_module_version": "2.0.0",
      "model_name": "HTMLModel",
      "state": {
       "layout": "IPY_MODEL_2758df3870c3441ca0ca9b80fdd96fa0",
       "style": "IPY_MODEL_61f1aa836ebf43eb8d5e74d58382400e",
       "value": "Validation DataLoader 0: 100%"
      }
     },
     "ad6943fbeaf94e0a8a1b00708fd40b39": {
      "model_module": "@jupyter-widgets/controls",
      "model_module_version": "2.0.0",
      "model_name": "HTMLStyleModel",
      "state": {
       "description_width": "",
       "font_size": null,
       "text_color": null
      }
     },
     "ae1cbc82655d4716b2a112e5e3b43d9a": {
      "model_module": "@jupyter-widgets/controls",
      "model_module_version": "2.0.0",
      "model_name": "HTMLModel",
      "state": {
       "layout": "IPY_MODEL_4665ded863cf43ae96f031863b426847",
       "style": "IPY_MODEL_b8b249b0904240c88489320918e5ee7b",
       "value": "Validation DataLoader 0: 100%"
      }
     },
     "ae1f743b9629430481a14ed650d3638b": {
      "model_module": "@jupyter-widgets/base",
      "model_module_version": "2.0.0",
      "model_name": "LayoutModel",
      "state": {}
     },
     "afc0adbd14c34ae0858c6f3f7f8571e5": {
      "model_module": "@jupyter-widgets/controls",
      "model_module_version": "2.0.0",
      "model_name": "HTMLModel",
      "state": {
       "layout": "IPY_MODEL_79b6cad9b7224b3d98b660f41c24754f",
       "style": "IPY_MODEL_df05381b8c2a499d8ccef0d8c501f78d",
       "value": "Validation DataLoader 0: 100%"
      }
     },
     "b075337e1774450d81bb9536d07d012b": {
      "model_module": "@jupyter-widgets/base",
      "model_module_version": "2.0.0",
      "model_name": "LayoutModel",
      "state": {
       "display": "inline-flex",
       "flex_flow": "row wrap",
       "visibility": "hidden",
       "width": "100%"
      }
     },
     "b09a1db63c97497991e87bd5e01e65cd": {
      "model_module": "@jupyter-widgets/controls",
      "model_module_version": "2.0.0",
      "model_name": "HTMLStyleModel",
      "state": {
       "description_width": "",
       "font_size": null,
       "text_color": null
      }
     },
     "b0d1503093564984b3e7b2624f074432": {
      "model_module": "@jupyter-widgets/controls",
      "model_module_version": "2.0.0",
      "model_name": "HTMLModel",
      "state": {
       "layout": "IPY_MODEL_fe60fd5532334ccb9eacaba01a6ded7f",
       "style": "IPY_MODEL_a2d69a4f48bc480492c727ece5c1ae26",
       "value": "Validation DataLoader 0: 100%"
      }
     },
     "b10875ef7c81453aaa6bbd900e2b9aa1": {
      "model_module": "@jupyter-widgets/base",
      "model_module_version": "2.0.0",
      "model_name": "LayoutModel",
      "state": {
       "flex": "2"
      }
     },
     "b1578dec1c3d480ba780dab395f38366": {
      "model_module": "@jupyter-widgets/base",
      "model_module_version": "2.0.0",
      "model_name": "LayoutModel",
      "state": {
       "flex": "2"
      }
     },
     "b15e35849a1f47a6a4e5aaa03d7a2f96": {
      "model_module": "@jupyter-widgets/controls",
      "model_module_version": "2.0.0",
      "model_name": "HTMLModel",
      "state": {
       "layout": "IPY_MODEL_d768cfb0b70e49e5a25c2116acd10d08",
       "style": "IPY_MODEL_c8a259ba031b403389ea7b90abb32ea4",
       "value": "Validation DataLoader 0: 100%"
      }
     },
     "b1b1751cd89d46d2b41e3f86eba1bf93": {
      "model_module": "@jupyter-widgets/controls",
      "model_module_version": "2.0.0",
      "model_name": "HTMLStyleModel",
      "state": {
       "description_width": "",
       "font_size": null,
       "text_color": null
      }
     },
     "b1cd21396fdb49dea1cd8fad8d58e915": {
      "model_module": "@jupyter-widgets/controls",
      "model_module_version": "2.0.0",
      "model_name": "HTMLStyleModel",
      "state": {
       "description_width": "",
       "font_size": null,
       "text_color": null
      }
     },
     "b1ff4c62890d4768bd149743caf0271f": {
      "model_module": "@jupyter-widgets/controls",
      "model_module_version": "2.0.0",
      "model_name": "FloatProgressModel",
      "state": {
       "layout": "IPY_MODEL_b6a9a92c08ef4a7fb4e776692b5c908f",
       "max": 170,
       "style": "IPY_MODEL_60e0b029a21c47efb71386f68a299800",
       "value": 170
      }
     },
     "b218f5342cee4b888015c2585fda6229": {
      "model_module": "@jupyter-widgets/controls",
      "model_module_version": "2.0.0",
      "model_name": "FloatProgressModel",
      "state": {
       "layout": "IPY_MODEL_8bb5095435f543589bc31f891328ada3",
       "max": 170,
       "style": "IPY_MODEL_920d8e84256b4052a99adf6c3d11e275",
       "value": 170
      }
     },
     "b237236229b146e996f3c9a7703494c8": {
      "model_module": "@jupyter-widgets/controls",
      "model_module_version": "2.0.0",
      "model_name": "ProgressStyleModel",
      "state": {
       "description_width": ""
      }
     },
     "b26d568464994d06927f9818398f6f12": {
      "model_module": "@jupyter-widgets/base",
      "model_module_version": "2.0.0",
      "model_name": "LayoutModel",
      "state": {
       "display": "inline-flex",
       "flex_flow": "row wrap",
       "visibility": "hidden",
       "width": "100%"
      }
     },
     "b2cf5943dac4401e9735926e2b497a28": {
      "model_module": "@jupyter-widgets/base",
      "model_module_version": "2.0.0",
      "model_name": "LayoutModel",
      "state": {}
     },
     "b2e5572bbdf64e7d8fa3a4e8b04e01cb": {
      "model_module": "@jupyter-widgets/base",
      "model_module_version": "2.0.0",
      "model_name": "LayoutModel",
      "state": {
       "flex": "2"
      }
     },
     "b3aa75cb107e4502a53d1935a171a253": {
      "model_module": "@jupyter-widgets/controls",
      "model_module_version": "2.0.0",
      "model_name": "HTMLStyleModel",
      "state": {
       "description_width": "",
       "font_size": null,
       "text_color": null
      }
     },
     "b411236dad764da482d3156d38d2fb19": {
      "model_module": "@jupyter-widgets/controls",
      "model_module_version": "2.0.0",
      "model_name": "HTMLModel",
      "state": {
       "layout": "IPY_MODEL_45ba091977734f7590ab84a3b59991bd",
       "style": "IPY_MODEL_5fd0163ec1764235a960fea329eb5481",
       "value": " 170/170 [00:16&lt;00:00, 10.19it/s]"
      }
     },
     "b4839464bb3a4a0189f96f9a2735386e": {
      "model_module": "@jupyter-widgets/controls",
      "model_module_version": "2.0.0",
      "model_name": "HTMLModel",
      "state": {
       "layout": "IPY_MODEL_c1ca143c51a24f548af129b331ac159a",
       "style": "IPY_MODEL_60a03a12c86247ee8b72d0fdfacce361",
       "value": "Validation DataLoader 0: 100%"
      }
     },
     "b4a0aa589eb04c1e80ec7588571a84e4": {
      "model_module": "@jupyter-widgets/controls",
      "model_module_version": "2.0.0",
      "model_name": "HTMLModel",
      "state": {
       "layout": "IPY_MODEL_918de93adb854be4ac8497e4cbe41bb3",
       "style": "IPY_MODEL_1dd9b12c4ebe43068a359a59c6d5895d",
       "value": " 170/170 [00:16&lt;00:00, 10.21it/s]"
      }
     },
     "b4f4517e5cef44e0be52846f07384e12": {
      "model_module": "@jupyter-widgets/base",
      "model_module_version": "2.0.0",
      "model_name": "LayoutModel",
      "state": {
       "display": "inline-flex",
       "flex_flow": "row wrap",
       "visibility": "hidden",
       "width": "100%"
      }
     },
     "b5132c688e7843fa8ba2868f30570a70": {
      "model_module": "@jupyter-widgets/controls",
      "model_module_version": "2.0.0",
      "model_name": "ProgressStyleModel",
      "state": {
       "description_width": ""
      }
     },
     "b5425a60691542db9400cb57339fa211": {
      "model_module": "@jupyter-widgets/base",
      "model_module_version": "2.0.0",
      "model_name": "LayoutModel",
      "state": {}
     },
     "b558b4dacaa3455c9dd9659c32774dee": {
      "model_module": "@jupyter-widgets/controls",
      "model_module_version": "2.0.0",
      "model_name": "ProgressStyleModel",
      "state": {
       "description_width": ""
      }
     },
     "b5665fb52a7241dbaffd7c7a6bbd03f7": {
      "model_module": "@jupyter-widgets/controls",
      "model_module_version": "2.0.0",
      "model_name": "HTMLModel",
      "state": {
       "layout": "IPY_MODEL_fd1561c0f74d4aa1a55e6647bcffe010",
       "style": "IPY_MODEL_50d2a347e17349c384a292df94eb5323",
       "value": " 170/170 [00:16&lt;00:00, 10.04it/s]"
      }
     },
     "b6a9a92c08ef4a7fb4e776692b5c908f": {
      "model_module": "@jupyter-widgets/base",
      "model_module_version": "2.0.0",
      "model_name": "LayoutModel",
      "state": {
       "flex": "2"
      }
     },
     "b6e5ab0c6ae2482da80c105154968bf5": {
      "model_module": "@jupyter-widgets/controls",
      "model_module_version": "2.0.0",
      "model_name": "ProgressStyleModel",
      "state": {
       "description_width": ""
      }
     },
     "b708674548294be9afe75f5d885c778a": {
      "model_module": "@jupyter-widgets/base",
      "model_module_version": "2.0.0",
      "model_name": "LayoutModel",
      "state": {}
     },
     "b72d0a1841ac42d6a487654841380ece": {
      "model_module": "@jupyter-widgets/controls",
      "model_module_version": "2.0.0",
      "model_name": "HTMLStyleModel",
      "state": {
       "description_width": "",
       "font_size": null,
       "text_color": null
      }
     },
     "b77c660e54674332b9fce9f406c6f92f": {
      "model_module": "@jupyter-widgets/base",
      "model_module_version": "2.0.0",
      "model_name": "LayoutModel",
      "state": {
       "display": "inline-flex",
       "flex_flow": "row wrap",
       "visibility": "hidden",
       "width": "100%"
      }
     },
     "b7e0a50ed2c54a7181ad63a7d81c92fb": {
      "model_module": "@jupyter-widgets/controls",
      "model_module_version": "2.0.0",
      "model_name": "HTMLModel",
      "state": {
       "layout": "IPY_MODEL_48ab5a6d32944b9885a261d4bb896e19",
       "style": "IPY_MODEL_37b834d4e5004dbba2e9bc2d17cf90d5",
       "value": "Validation DataLoader 0: 100%"
      }
     },
     "b8811919684347209e5abb9746166505": {
      "model_module": "@jupyter-widgets/controls",
      "model_module_version": "2.0.0",
      "model_name": "ProgressStyleModel",
      "state": {
       "description_width": ""
      }
     },
     "b8b249b0904240c88489320918e5ee7b": {
      "model_module": "@jupyter-widgets/controls",
      "model_module_version": "2.0.0",
      "model_name": "HTMLStyleModel",
      "state": {
       "description_width": "",
       "font_size": null,
       "text_color": null
      }
     },
     "b98b3aeb64c3461faa4de001c3f41943": {
      "model_module": "@jupyter-widgets/controls",
      "model_module_version": "2.0.0",
      "model_name": "HTMLModel",
      "state": {
       "layout": "IPY_MODEL_a04eb18fad524d91b3a8517598a01a79",
       "style": "IPY_MODEL_8bd8d3a43a0f492cbb91d7c6a2a15aaf",
       "value": " 170/170 [00:16&lt;00:00, 10.24it/s]"
      }
     },
     "b9a1d22d066f4368a154a532fb3ca0fd": {
      "model_module": "@jupyter-widgets/base",
      "model_module_version": "2.0.0",
      "model_name": "LayoutModel",
      "state": {
       "display": "inline-flex",
       "flex_flow": "row wrap",
       "visibility": "hidden",
       "width": "100%"
      }
     },
     "ba03e963e8af48f1b0feee32546e0190": {
      "model_module": "@jupyter-widgets/base",
      "model_module_version": "2.0.0",
      "model_name": "LayoutModel",
      "state": {
       "display": "inline-flex",
       "flex_flow": "row wrap",
       "visibility": "hidden",
       "width": "100%"
      }
     },
     "ba1959bc958d4f948d6e4f3c6e600411": {
      "model_module": "@jupyter-widgets/controls",
      "model_module_version": "2.0.0",
      "model_name": "HTMLStyleModel",
      "state": {
       "description_width": "",
       "font_size": null,
       "text_color": null
      }
     },
     "bb01f584a2834f0d80b95f4c7b8056c4": {
      "model_module": "@jupyter-widgets/controls",
      "model_module_version": "2.0.0",
      "model_name": "FloatProgressModel",
      "state": {
       "layout": "IPY_MODEL_d4bcb27df6d14ae59cb125292a9370cb",
       "max": 170,
       "style": "IPY_MODEL_4f62f15a4aa14a44a2fbdc23daca91f5",
       "value": 170
      }
     },
     "bb221294b5b444339a8a21ff0e026144": {
      "model_module": "@jupyter-widgets/controls",
      "model_module_version": "2.0.0",
      "model_name": "ProgressStyleModel",
      "state": {
       "description_width": ""
      }
     },
     "bb29f161e3424cedaff4f2a61b396ba8": {
      "model_module": "@jupyter-widgets/base",
      "model_module_version": "2.0.0",
      "model_name": "LayoutModel",
      "state": {}
     },
     "bb31bb64ce7e4ec5bfed8132e4e69893": {
      "model_module": "@jupyter-widgets/controls",
      "model_module_version": "2.0.0",
      "model_name": "FloatProgressModel",
      "state": {
       "layout": "IPY_MODEL_98ad1cb5090b459d82085d50553ccc8e",
       "max": 170,
       "style": "IPY_MODEL_c03af47dec414d569b060dba81cc7757",
       "value": 170
      }
     },
     "bb57f1478de54cf897b9bca86090b6b4": {
      "model_module": "@jupyter-widgets/base",
      "model_module_version": "2.0.0",
      "model_name": "LayoutModel",
      "state": {}
     },
     "bb652301533c4824b48fe27855315011": {
      "model_module": "@jupyter-widgets/base",
      "model_module_version": "2.0.0",
      "model_name": "LayoutModel",
      "state": {
       "flex": "2"
      }
     },
     "bb7ae4edc71340628efc4425cf34c92a": {
      "model_module": "@jupyter-widgets/base",
      "model_module_version": "2.0.0",
      "model_name": "LayoutModel",
      "state": {
       "flex": "2"
      }
     },
     "bbbcd95c1e7a47beac86b82c6b420149": {
      "model_module": "@jupyter-widgets/base",
      "model_module_version": "2.0.0",
      "model_name": "LayoutModel",
      "state": {}
     },
     "bc1eb22869d449659deab7be10c27d05": {
      "buffers": [
       {
        "data": "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",
        "encoding": "base64",
        "path": [
         "value"
        ]
       }
      ],
      "model_module": "@jupyter-widgets/controls",
      "model_module_version": "2.0.0",
      "model_name": "ImageModel",
      "state": {
       "layout": "IPY_MODEL_21acf3f78cb44d3594ce9e7ad4613680"
      }
     },
     "bd41d554194a49bd98956d75e2872475": {
      "model_module": "@jupyter-widgets/controls",
      "model_module_version": "2.0.0",
      "model_name": "HTMLModel",
      "state": {
       "layout": "IPY_MODEL_a87de95075b340f88991b44786b8b75d",
       "style": "IPY_MODEL_d7518e9493384da182f4e7e883f96d05",
       "value": "Validation DataLoader 0: 100%"
      }
     },
     "bd73071ded6745a48fe23251356d450c": {
      "model_module": "@jupyter-widgets/controls",
      "model_module_version": "2.0.0",
      "model_name": "HTMLStyleModel",
      "state": {
       "description_width": "",
       "font_size": null,
       "text_color": null
      }
     },
     "bd861dc714fe46c79f6deeaba84d14f5": {
      "model_module": "@jupyter-widgets/controls",
      "model_module_version": "2.0.0",
      "model_name": "ProgressStyleModel",
      "state": {
       "description_width": ""
      }
     },
     "bde412a709b64ed898773d23aad535b4": {
      "model_module": "@jupyter-widgets/controls",
      "model_module_version": "2.0.0",
      "model_name": "FloatProgressModel",
      "state": {
       "layout": "IPY_MODEL_6c15b075f85b44d9aeddb27ac12ca8d7",
       "max": 170,
       "style": "IPY_MODEL_953a6bff0cc44b48b901d4a5e477ad78",
       "value": 170
      }
     },
     "be644a3278bb49319f558a991f9ddcad": {
      "model_module": "@jupyter-widgets/controls",
      "model_module_version": "2.0.0",
      "model_name": "HTMLModel",
      "state": {
       "layout": "IPY_MODEL_741f390905174fe3b85304e721e1d567",
       "style": "IPY_MODEL_90c15fa273eb4496b6ea5570f00507db",
       "value": " 170/170 [00:16&lt;00:00, 10.34it/s]"
      }
     },
     "bea80c9143874636bca276fdaff8ffe1": {
      "model_module": "@jupyter-widgets/base",
      "model_module_version": "2.0.0",
      "model_name": "LayoutModel",
      "state": {}
     },
     "beb374d11a2a4281bf3f09f06acc4012": {
      "model_module": "@jupyter-widgets/controls",
      "model_module_version": "2.0.0",
      "model_name": "HTMLStyleModel",
      "state": {
       "description_width": "",
       "font_size": null,
       "text_color": null
      }
     },
     "bf376f452ebc4a7fa72976a77be8ca51": {
      "model_module": "@jupyter-widgets/controls",
      "model_module_version": "2.0.0",
      "model_name": "FloatProgressModel",
      "state": {
       "layout": "IPY_MODEL_04dec44aa759482fafc97560a3899b98",
       "max": 170,
       "style": "IPY_MODEL_46e9192d447b4352bc91cc105be07ce4",
       "value": 170
      }
     },
     "bffae82b8db64494bd2f25b7301c4353": {
      "model_module": "@jupyter-widgets/controls",
      "model_module_version": "2.0.0",
      "model_name": "HTMLModel",
      "state": {
       "layout": "IPY_MODEL_567ba055e97f40a2b7b843ca0c46dd82",
       "style": "IPY_MODEL_d8fad4f847d7435dab444ad0c2f63c41",
       "value": " 170/170 [00:17&lt;00:00,  9.93it/s]"
      }
     },
     "c03af47dec414d569b060dba81cc7757": {
      "model_module": "@jupyter-widgets/controls",
      "model_module_version": "2.0.0",
      "model_name": "ProgressStyleModel",
      "state": {
       "description_width": ""
      }
     },
     "c04a95b76a2f4f3a854af420d2d822f7": {
      "model_module": "@jupyter-widgets/controls",
      "model_module_version": "2.0.0",
      "model_name": "HTMLModel",
      "state": {
       "layout": "IPY_MODEL_7ee9aa6e69d24eb6a89fc30d419b9397",
       "style": "IPY_MODEL_9c9e408d5d0d4edabfaee18a4e1e54ef",
       "value": "Validation DataLoader 0: 100%"
      }
     },
     "c0a7ee94ec9d46208a921227fec6a6a8": {
      "model_module": "@jupyter-widgets/controls",
      "model_module_version": "2.0.0",
      "model_name": "HTMLModel",
      "state": {
       "layout": "IPY_MODEL_5dfcebef10514313bc6b611d28e093b3",
       "style": "IPY_MODEL_14facc58a4da46c3bf535e4253078de8",
       "value": "Validation DataLoader 0: 100%"
      }
     },
     "c0b13b2ddeae4387bfee9797ef5f2ffc": {
      "model_module": "@jupyter-widgets/controls",
      "model_module_version": "2.0.0",
      "model_name": "ProgressStyleModel",
      "state": {
       "description_width": ""
      }
     },
     "c1113697be32452c990e3d2a9dd56acb": {
      "model_module": "@jupyter-widgets/controls",
      "model_module_version": "2.0.0",
      "model_name": "FloatProgressModel",
      "state": {
       "layout": "IPY_MODEL_96f2e418141b42f68001bdb79df323da",
       "max": 170,
       "style": "IPY_MODEL_63e34c19f7544b32be851ccd732eb938",
       "value": 170
      }
     },
     "c173d18de1c7480ca47142464519b4c9": {
      "model_module": "@jupyter-widgets/controls",
      "model_module_version": "2.0.0",
      "model_name": "HTMLModel",
      "state": {
       "layout": "IPY_MODEL_103deed43ed741a688da661c6518c6bb",
       "style": "IPY_MODEL_30da29289edb4dd9a799270380ed17a1",
       "value": "Validation DataLoader 0: 100%"
      }
     },
     "c1b5dff62299432db66180eb837093b2": {
      "model_module": "@jupyter-widgets/base",
      "model_module_version": "2.0.0",
      "model_name": "LayoutModel",
      "state": {
       "display": "inline-flex",
       "flex_flow": "row wrap",
       "visibility": "hidden",
       "width": "100%"
      }
     },
     "c1ca143c51a24f548af129b331ac159a": {
      "model_module": "@jupyter-widgets/base",
      "model_module_version": "2.0.0",
      "model_name": "LayoutModel",
      "state": {}
     },
     "c218769b9fac4dbc87ec5561e1f92478": {
      "model_module": "@jupyter-widgets/controls",
      "model_module_version": "2.0.0",
      "model_name": "HTMLStyleModel",
      "state": {
       "description_width": "",
       "font_size": null,
       "text_color": null
      }
     },
     "c296b29de6f34b33bea52e1463adf37b": {
      "model_module": "@jupyter-widgets/controls",
      "model_module_version": "2.0.0",
      "model_name": "HTMLModel",
      "state": {
       "layout": "IPY_MODEL_9006dc167bc046a1819ecf4a5931bcf4",
       "style": "IPY_MODEL_b72d0a1841ac42d6a487654841380ece",
       "value": " 2/2 [00:18&lt;00:00,  9.17s/it]"
      }
     },
     "c2bfb4d1976640a8bcc7ab9863e853f2": {
      "model_module": "@jupyter-widgets/controls",
      "model_module_version": "2.0.0",
      "model_name": "HTMLModel",
      "state": {
       "layout": "IPY_MODEL_18fd0b152f7d44de8942e81d9e9e417f",
       "style": "IPY_MODEL_095074ae85294c6d8a427bc564317e7f",
       "value": "Validation DataLoader 0: 100%"
      }
     },
     "c2c6262724c54403863e42f372c5edb2": {
      "model_module": "@jupyter-widgets/controls",
      "model_module_version": "2.0.0",
      "model_name": "HTMLStyleModel",
      "state": {
       "description_width": "",
       "font_size": null,
       "text_color": null
      }
     },
     "c34f6773592542308e06cd690b406a7a": {
      "model_module": "@jupyter-widgets/base",
      "model_module_version": "2.0.0",
      "model_name": "LayoutModel",
      "state": {
       "flex": "2"
      }
     },
     "c51e4c2dd94f47dcad140dcfd3e6fb0d": {
      "model_module": "@jupyter-widgets/controls",
      "model_module_version": "2.0.0",
      "model_name": "FloatProgressModel",
      "state": {
       "layout": "IPY_MODEL_5f9fb663ba9b49208f8f3fd75163e22f",
       "max": 170,
       "style": "IPY_MODEL_45a79da9379d41e3ae451356dabf35c4",
       "value": 170
      }
     },
     "c529456061634639aa52a19abec286b4": {
      "model_module": "@jupyter-widgets/controls",
      "model_module_version": "2.0.0",
      "model_name": "ProgressStyleModel",
      "state": {
       "description_width": ""
      }
     },
     "c5570848f2ba40c885e7c0d0dc7d2d2a": {
      "model_module": "@jupyter-widgets/base",
      "model_module_version": "2.0.0",
      "model_name": "LayoutModel",
      "state": {}
     },
     "c55d0250a21648dd8980179a2e0f3974": {
      "model_module": "@jupyter-widgets/controls",
      "model_module_version": "2.0.0",
      "model_name": "HTMLModel",
      "state": {
       "layout": "IPY_MODEL_83e8739eefe4421d8ede135c9012eb42",
       "style": "IPY_MODEL_4dc608e8832b4f03b3e80b99216679cb",
       "value": "Validation DataLoader 0: 100%"
      }
     },
     "c606e25db08247e48901664c57d07d1d": {
      "model_module": "@jupyter-widgets/base",
      "model_module_version": "2.0.0",
      "model_name": "LayoutModel",
      "state": {}
     },
     "c60c62c27f2b4a0cb2de952cbf677c91": {
      "model_module": "@jupyter-widgets/base",
      "model_module_version": "2.0.0",
      "model_name": "LayoutModel",
      "state": {
       "flex": "2"
      }
     },
     "c613494cc98a4b87b5bb8365700d1e47": {
      "model_module": "@jupyter-widgets/controls",
      "model_module_version": "2.0.0",
      "model_name": "HTMLModel",
      "state": {
       "layout": "IPY_MODEL_611bcbfaef0f4a4cbeedb913f98dab42",
       "style": "IPY_MODEL_5b0c44515f3f4898858e2724b92771ae",
       "value": " 170/170 [00:17&lt;00:00,  9.87it/s]"
      }
     },
     "c6b23f1a771e4f00848beb9975028a03": {
      "model_module": "@jupyter-widgets/controls",
      "model_module_version": "2.0.0",
      "model_name": "ProgressStyleModel",
      "state": {
       "description_width": ""
      }
     },
     "c8341ac1d36c4e53b93b7d7546aa7d0d": {
      "model_module": "@jupyter-widgets/base",
      "model_module_version": "2.0.0",
      "model_name": "LayoutModel",
      "state": {}
     },
     "c8a259ba031b403389ea7b90abb32ea4": {
      "model_module": "@jupyter-widgets/controls",
      "model_module_version": "2.0.0",
      "model_name": "HTMLStyleModel",
      "state": {
       "description_width": "",
       "font_size": null,
       "text_color": null
      }
     },
     "c8a4f6c6f6944fe0a843b8c8022f6144": {
      "model_module": "@jupyter-widgets/controls",
      "model_module_version": "2.0.0",
      "model_name": "HTMLModel",
      "state": {
       "layout": "IPY_MODEL_c8341ac1d36c4e53b93b7d7546aa7d0d",
       "style": "IPY_MODEL_e9e3f755d829478a926f530ab68d0229",
       "value": "Validation DataLoader 0: 100%"
      }
     },
     "c8b2ec5f4f9a4349803dec67623d2873": {
      "model_module": "@jupyter-widgets/base",
      "model_module_version": "2.0.0",
      "model_name": "LayoutModel",
      "state": {}
     },
     "c8e32cd2a7344197aa1ccd51f019e87f": {
      "model_module": "@jupyter-widgets/base",
      "model_module_version": "2.0.0",
      "model_name": "LayoutModel",
      "state": {
       "display": "inline-flex",
       "flex_flow": "row wrap",
       "visibility": "hidden",
       "width": "100%"
      }
     },
     "c8fba5c66bfd4192aa2765da80a78434": {
      "model_module": "@jupyter-widgets/base",
      "model_module_version": "2.0.0",
      "model_name": "LayoutModel",
      "state": {}
     },
     "c936e23bb0e54ccab14c86b692691992": {
      "model_module": "@jupyter-widgets/controls",
      "model_module_version": "2.0.0",
      "model_name": "HTMLStyleModel",
      "state": {
       "description_width": "",
       "font_size": null,
       "text_color": null
      }
     },
     "c98d43c47268415198a2febb280bd977": {
      "model_module": "@jupyter-widgets/base",
      "model_module_version": "2.0.0",
      "model_name": "LayoutModel",
      "state": {}
     },
     "c9ad7d07f2c445d68b7d3f2819a467a6": {
      "model_module": "@jupyter-widgets/controls",
      "model_module_version": "2.0.0",
      "model_name": "FloatProgressModel",
      "state": {
       "layout": "IPY_MODEL_bb652301533c4824b48fe27855315011",
       "max": 2,
       "style": "IPY_MODEL_d450c9627f284d0a8058cd502a61bc28",
       "value": 2
      }
     },
     "c9c8c5e47aaa44f4abc67a4a6969b83a": {
      "model_module": "@jupyter-widgets/controls",
      "model_module_version": "2.0.0",
      "model_name": "HTMLModel",
      "state": {
       "layout": "IPY_MODEL_0ff4b6055694476195bca9f94b25aa64",
       "style": "IPY_MODEL_fd3dc50b1eb74307864882b63c9a8c58",
       "value": " 170/170 [00:16&lt;00:00, 10.14it/s]"
      }
     },
     "caee130b4d454672abb68c8d60b8a863": {
      "model_module": "@jupyter-widgets/base",
      "model_module_version": "2.0.0",
      "model_name": "LayoutModel",
      "state": {
       "flex": "2"
      }
     },
     "cb5dee40eca04d138fef3877c7332433": {
      "model_module": "@jupyter-widgets/base",
      "model_module_version": "2.0.0",
      "model_name": "LayoutModel",
      "state": {}
     },
     "cb8ace6d94514f2da51acc15714f679b": {
      "model_module": "@jupyter-widgets/controls",
      "model_module_version": "2.0.0",
      "model_name": "FloatProgressModel",
      "state": {
       "layout": "IPY_MODEL_0aac53b3740243de93c86fea1e410dd8",
       "max": 170,
       "style": "IPY_MODEL_da508171dd4a48ed88b0b32f19fd512e",
       "value": 170
      }
     },
     "cbf9aacf6f7942729b041e6cc27cc717": {
      "model_module": "@jupyter-widgets/base",
      "model_module_version": "2.0.0",
      "model_name": "LayoutModel",
      "state": {}
     },
     "cbff49583d324ba1acbacd86f8622565": {
      "model_module": "@jupyter-widgets/controls",
      "model_module_version": "2.0.0",
      "model_name": "HTMLModel",
      "state": {
       "layout": "IPY_MODEL_45cec2258687467ab9a47596ecc29356",
       "style": "IPY_MODEL_3077f3e88bdb4df192520e173c0a5a73",
       "value": " 170/170 [00:16&lt;00:00, 10.27it/s]"
      }
     },
     "cc23bbc05188446aa4063b0fccbc94fe": {
      "model_module": "@jupyter-widgets/base",
      "model_module_version": "2.0.0",
      "model_name": "LayoutModel",
      "state": {}
     },
     "ccb0f11a210548ef8e7954ab317e1493": {
      "model_module": "@jupyter-widgets/base",
      "model_module_version": "2.0.0",
      "model_name": "LayoutModel",
      "state": {
       "display": "inline-flex",
       "flex_flow": "row wrap",
       "visibility": "hidden",
       "width": "100%"
      }
     },
     "cd0577a163a44dc39955c51cf02a1ad1": {
      "model_module": "@jupyter-widgets/controls",
      "model_module_version": "2.0.0",
      "model_name": "HTMLModel",
      "state": {
       "layout": "IPY_MODEL_fd0049df603d44a7893d928fc5847f93",
       "style": "IPY_MODEL_f221587532514e9797d32ad3d171c94a",
       "value": " 170/170 [00:16&lt;00:00, 10.18it/s]"
      }
     },
     "cd075111efca4fc4826480fcb0215edc": {
      "model_module": "@jupyter-widgets/base",
      "model_module_version": "2.0.0",
      "model_name": "LayoutModel",
      "state": {
       "display": "inline-flex",
       "flex_flow": "row wrap",
       "visibility": "hidden",
       "width": "100%"
      }
     },
     "cdfbc80f12aa4605ba51b0707e000af3": {
      "model_module": "@jupyter-widgets/base",
      "model_module_version": "2.0.0",
      "model_name": "LayoutModel",
      "state": {
       "display": "inline-flex",
       "flex_flow": "row wrap",
       "visibility": "hidden",
       "width": "100%"
      }
     },
     "ce0845628c0445608014d6073707f18b": {
      "model_module": "@jupyter-widgets/base",
      "model_module_version": "2.0.0",
      "model_name": "LayoutModel",
      "state": {}
     },
     "ce77f95ee0a74212a39e2096125b34db": {
      "model_module": "@jupyter-widgets/controls",
      "model_module_version": "2.0.0",
      "model_name": "HTMLStyleModel",
      "state": {
       "description_width": "",
       "font_size": null,
       "text_color": null
      }
     },
     "cec53cf998154cc88756e3e8b2b532f5": {
      "model_module": "@jupyter-widgets/base",
      "model_module_version": "2.0.0",
      "model_name": "LayoutModel",
      "state": {}
     },
     "cece6af53a144bd4b1dbb65f496af7c6": {
      "model_module": "@jupyter-widgets/controls",
      "model_module_version": "2.0.0",
      "model_name": "HTMLStyleModel",
      "state": {
       "description_width": "",
       "font_size": null,
       "text_color": null
      }
     },
     "ced0ebc6933b4be6bba6b1ce6c3bf154": {
      "model_module": "@jupyter-widgets/base",
      "model_module_version": "2.0.0",
      "model_name": "LayoutModel",
      "state": {}
     },
     "cef2d40abf984019b91a3318f9096510": {
      "model_module": "@jupyter-widgets/controls",
      "model_module_version": "2.0.0",
      "model_name": "HTMLModel",
      "state": {
       "layout": "IPY_MODEL_c98d43c47268415198a2febb280bd977",
       "style": "IPY_MODEL_84c966695fc740b08848e7f8b8517954",
       "value": "Validation DataLoader 0: 100%"
      }
     },
     "cefee6446d9146c0974cd0c4af89b6a5": {
      "model_module": "@jupyter-widgets/base",
      "model_module_version": "2.0.0",
      "model_name": "LayoutModel",
      "state": {}
     },
     "cf0c93b0b0ab427aa46cec2540321959": {
      "model_module": "@jupyter-widgets/controls",
      "model_module_version": "2.0.0",
      "model_name": "HTMLModel",
      "state": {
       "layout": "IPY_MODEL_629dc8d391e744809d52d675ae111b69",
       "style": "IPY_MODEL_f7f000cb7ca44908bc807257e5c922fb",
       "value": " 170/170 [00:16&lt;00:00, 10.17it/s]"
      }
     },
     "cfe1fc7f4f5f4c5c9b0f9f84bc9b067b": {
      "model_module": "@jupyter-widgets/controls",
      "model_module_version": "2.0.0",
      "model_name": "HTMLStyleModel",
      "state": {
       "description_width": "",
       "font_size": null,
       "text_color": null
      }
     },
     "d033dad1b97646b6bb6fada372fa0ad2": {
      "model_module": "@jupyter-widgets/controls",
      "model_module_version": "2.0.0",
      "model_name": "HTMLModel",
      "state": {
       "layout": "IPY_MODEL_1b1aed9cbca14a3c98bb8977b995c87c",
       "style": "IPY_MODEL_b1cd21396fdb49dea1cd8fad8d58e915",
       "value": " 170/170 [00:16&lt;00:00, 10.02it/s]"
      }
     },
     "d08dd267061d492f87d6752f2ba90a02": {
      "model_module": "@jupyter-widgets/controls",
      "model_module_version": "2.0.0",
      "model_name": "HTMLStyleModel",
      "state": {
       "description_width": "",
       "font_size": null,
       "text_color": null
      }
     },
     "d0bf88f2d60d4c2baab4e27c627faf6b": {
      "model_module": "@jupyter-widgets/controls",
      "model_module_version": "2.0.0",
      "model_name": "HTMLStyleModel",
      "state": {
       "description_width": "",
       "font_size": null,
       "text_color": null
      }
     },
     "d1571b609e3e40c8bf7ace072ce925d5": {
      "model_module": "@jupyter-widgets/base",
      "model_module_version": "2.0.0",
      "model_name": "LayoutModel",
      "state": {}
     },
     "d212cf1b619d474abd7ccca4d9b70f83": {
      "model_module": "@jupyter-widgets/controls",
      "model_module_version": "2.0.0",
      "model_name": "ProgressStyleModel",
      "state": {
       "description_width": ""
      }
     },
     "d23142e868a6433e83db48a60dcbe8ea": {
      "model_module": "@jupyter-widgets/controls",
      "model_module_version": "2.0.0",
      "model_name": "HTMLModel",
      "state": {
       "layout": "IPY_MODEL_bea80c9143874636bca276fdaff8ffe1",
       "style": "IPY_MODEL_5a69c02afe9040f6ad057b076c5d90ff",
       "value": " 170/170 [00:16&lt;00:00, 10.25it/s]"
      }
     },
     "d2419eec8e054979a3b3f9e1022ce09a": {
      "model_module": "@jupyter-widgets/controls",
      "model_module_version": "2.0.0",
      "model_name": "HTMLStyleModel",
      "state": {
       "description_width": "",
       "font_size": null,
       "text_color": null
      }
     },
     "d2b3ba8c28d14592a7fe4f2caa603908": {
      "model_module": "@jupyter-widgets/controls",
      "model_module_version": "2.0.0",
      "model_name": "HTMLModel",
      "state": {
       "layout": "IPY_MODEL_200365b21c504ce7abf1f47ed1a6de03",
       "style": "IPY_MODEL_385fededbcaf484482f6cf41de54fbc2",
       "value": "Validation DataLoader 0: 100%"
      }
     },
     "d3146c874d5d4cc88b08c9a7039cf131": {
      "model_module": "@jupyter-widgets/controls",
      "model_module_version": "2.0.0",
      "model_name": "HTMLStyleModel",
      "state": {
       "description_width": "",
       "font_size": null,
       "text_color": null
      }
     },
     "d450c9627f284d0a8058cd502a61bc28": {
      "model_module": "@jupyter-widgets/controls",
      "model_module_version": "2.0.0",
      "model_name": "ProgressStyleModel",
      "state": {
       "description_width": ""
      }
     },
     "d4bcb27df6d14ae59cb125292a9370cb": {
      "model_module": "@jupyter-widgets/base",
      "model_module_version": "2.0.0",
      "model_name": "LayoutModel",
      "state": {
       "flex": "2"
      }
     },
     "d4dc7b1514ce4b13a394b4798df23ad3": {
      "model_module": "@jupyter-widgets/controls",
      "model_module_version": "2.0.0",
      "model_name": "FloatProgressModel",
      "state": {
       "layout": "IPY_MODEL_3769e26ca31c48ffa60ef058d6897cb8",
       "max": 170,
       "style": "IPY_MODEL_d9621c68be5c4d89926d575347a92c33",
       "value": 170
      }
     },
     "d53b2e50cb48458a95b566c6f37f13ea": {
      "model_module": "@jupyter-widgets/controls",
      "model_module_version": "2.0.0",
      "model_name": "HTMLStyleModel",
      "state": {
       "description_width": "",
       "font_size": null,
       "text_color": null
      }
     },
     "d582683d2c1749cdb62e2999768e21f3": {
      "model_module": "@jupyter-widgets/base",
      "model_module_version": "2.0.0",
      "model_name": "LayoutModel",
      "state": {}
     },
     "d5bfc9c33778409ca00c6bdeb4f19707": {
      "model_module": "@jupyter-widgets/controls",
      "model_module_version": "2.0.0",
      "model_name": "FloatProgressModel",
      "state": {
       "layout": "IPY_MODEL_0da4f983545743e4b1513985af99f9fa",
       "max": 170,
       "style": "IPY_MODEL_629a3f58a45144d7974207fb16c3b9af",
       "value": 170
      }
     },
     "d612a241581a4f7ebd1f9e828d874fbd": {
      "model_module": "@jupyter-widgets/base",
      "model_module_version": "2.0.0",
      "model_name": "LayoutModel",
      "state": {}
     },
     "d648c063c4ee469bb0ea18cc29b52ded": {
      "model_module": "@jupyter-widgets/base",
      "model_module_version": "2.0.0",
      "model_name": "LayoutModel",
      "state": {
       "flex": "2"
      }
     },
     "d6a9dfd6b98a4ddd94f9c2b0b2fd107d": {
      "model_module": "@jupyter-widgets/base",
      "model_module_version": "2.0.0",
      "model_name": "LayoutModel",
      "state": {
       "flex": "2"
      }
     },
     "d6c0451f58794e9380aa6e7c36d55f79": {
      "model_module": "@jupyter-widgets/base",
      "model_module_version": "2.0.0",
      "model_name": "LayoutModel",
      "state": {
       "display": "inline-flex",
       "flex_flow": "row wrap",
       "visibility": "hidden",
       "width": "100%"
      }
     },
     "d6d0ad56db864735bf2dc988ef832b57": {
      "model_module": "@jupyter-widgets/base",
      "model_module_version": "2.0.0",
      "model_name": "LayoutModel",
      "state": {
       "flex": "2"
      }
     },
     "d701659145e04776ba159b6677ec8fac": {
      "model_module": "@jupyter-widgets/controls",
      "model_module_version": "2.0.0",
      "model_name": "ProgressStyleModel",
      "state": {
       "description_width": ""
      }
     },
     "d7518e9493384da182f4e7e883f96d05": {
      "model_module": "@jupyter-widgets/controls",
      "model_module_version": "2.0.0",
      "model_name": "HTMLStyleModel",
      "state": {
       "description_width": "",
       "font_size": null,
       "text_color": null
      }
     },
     "d768cfb0b70e49e5a25c2116acd10d08": {
      "model_module": "@jupyter-widgets/base",
      "model_module_version": "2.0.0",
      "model_name": "LayoutModel",
      "state": {}
     },
     "d7775aa8d3054e9fa69f4a9d7dc0ba28": {
      "model_module": "@jupyter-widgets/controls",
      "model_module_version": "2.0.0",
      "model_name": "HTMLStyleModel",
      "state": {
       "description_width": "",
       "font_size": null,
       "text_color": null
      }
     },
     "d7b4ad84480d4a6a802a99801a7d7769": {
      "model_module": "@jupyter-widgets/controls",
      "model_module_version": "2.0.0",
      "model_name": "HTMLModel",
      "state": {
       "layout": "IPY_MODEL_cec53cf998154cc88756e3e8b2b532f5",
       "style": "IPY_MODEL_f7a9794308734013830246b2f44692a6",
       "value": "Validation DataLoader 0: 100%"
      }
     },
     "d7f86fcfbf1748c5a5ce4f86dac9e0e5": {
      "model_module": "@jupyter-widgets/controls",
      "model_module_version": "2.0.0",
      "model_name": "HTMLStyleModel",
      "state": {
       "description_width": "",
       "font_size": null,
       "text_color": null
      }
     },
     "d82ef8061bb947ea90487660e29f184c": {
      "model_module": "@jupyter-widgets/controls",
      "model_module_version": "2.0.0",
      "model_name": "FloatProgressModel",
      "state": {
       "layout": "IPY_MODEL_53d27a105c8c405ebc9bcc3cf73fc685",
       "max": 170,
       "style": "IPY_MODEL_68e2a6c77a5d44b499700bbf50bfaec3",
       "value": 170
      }
     },
     "d84ebc11c57a4fe7b357afda617e9f27": {
      "model_module": "@jupyter-widgets/base",
      "model_module_version": "2.0.0",
      "model_name": "LayoutModel",
      "state": {
       "display": "inline-flex",
       "flex_flow": "row wrap",
       "visibility": "hidden",
       "width": "100%"
      }
     },
     "d85aa4c034c94e1884dc4389e4420c14": {
      "model_module": "@jupyter-widgets/base",
      "model_module_version": "2.0.0",
      "model_name": "LayoutModel",
      "state": {}
     },
     "d87fd2c2ac4948d499facaef6645d3f5": {
      "model_module": "@jupyter-widgets/base",
      "model_module_version": "2.0.0",
      "model_name": "LayoutModel",
      "state": {
       "display": "inline-flex",
       "flex_flow": "row wrap",
       "visibility": "hidden",
       "width": "100%"
      }
     },
     "d8da222021a04163ae1dcf9c9e1477a1": {
      "model_module": "@jupyter-widgets/base",
      "model_module_version": "2.0.0",
      "model_name": "LayoutModel",
      "state": {
       "flex": "2"
      }
     },
     "d8fad4f847d7435dab444ad0c2f63c41": {
      "model_module": "@jupyter-widgets/controls",
      "model_module_version": "2.0.0",
      "model_name": "HTMLStyleModel",
      "state": {
       "description_width": "",
       "font_size": null,
       "text_color": null
      }
     },
     "d91618783263493fad66162972d9678a": {
      "model_module": "@jupyter-widgets/controls",
      "model_module_version": "2.0.0",
      "model_name": "ProgressStyleModel",
      "state": {
       "description_width": ""
      }
     },
     "d947f38ff104439b84ab1453fc58b451": {
      "model_module": "@jupyter-widgets/base",
      "model_module_version": "2.0.0",
      "model_name": "LayoutModel",
      "state": {}
     },
     "d9621c68be5c4d89926d575347a92c33": {
      "model_module": "@jupyter-widgets/controls",
      "model_module_version": "2.0.0",
      "model_name": "ProgressStyleModel",
      "state": {
       "description_width": ""
      }
     },
     "da0f98a56bff4165a5dd98c786d96950": {
      "model_module": "@jupyter-widgets/controls",
      "model_module_version": "2.0.0",
      "model_name": "ProgressStyleModel",
      "state": {
       "description_width": ""
      }
     },
     "da508171dd4a48ed88b0b32f19fd512e": {
      "model_module": "@jupyter-widgets/controls",
      "model_module_version": "2.0.0",
      "model_name": "ProgressStyleModel",
      "state": {
       "description_width": ""
      }
     },
     "dad08316ff774f798348d5115204a965": {
      "model_module": "@jupyter-widgets/base",
      "model_module_version": "2.0.0",
      "model_name": "LayoutModel",
      "state": {}
     },
     "db0428c4deab4fd1bc487a938284dcc9": {
      "model_module": "@jupyter-widgets/controls",
      "model_module_version": "2.0.0",
      "model_name": "HTMLModel",
      "state": {
       "layout": "IPY_MODEL_6ac0c89087474a649f38cbb01fdd4785",
       "style": "IPY_MODEL_45bc0149a0da4cb5ae84fd6c97ed432d",
       "value": "Validation DataLoader 0: 100%"
      }
     },
     "db2fe848f5c342b0ac4bc7ee0c49fe94": {
      "model_module": "@jupyter-widgets/controls",
      "model_module_version": "2.0.0",
      "model_name": "FloatProgressModel",
      "state": {
       "layout": "IPY_MODEL_3a892b6a7e8841f2bc30eed9f8ffd62d",
       "max": 170,
       "style": "IPY_MODEL_26a829d39e81496f8ae24572949f7688",
       "value": 170
      }
     },
     "db445e6433fa477195839007633b08f4": {
      "model_module": "@jupyter-widgets/controls",
      "model_module_version": "2.0.0",
      "model_name": "ProgressStyleModel",
      "state": {
       "description_width": ""
      }
     },
     "db68485ba46f4cbfbe0fa1e8a3db4cd8": {
      "model_module": "@jupyter-widgets/base",
      "model_module_version": "2.0.0",
      "model_name": "LayoutModel",
      "state": {
       "flex": "2"
      }
     },
     "db7858a9eadb47aba4e9589d104cb112": {
      "model_module": "@jupyter-widgets/base",
      "model_module_version": "2.0.0",
      "model_name": "LayoutModel",
      "state": {}
     },
     "db94f1057902445c8264541e6662e4ab": {
      "model_module": "@jupyter-widgets/controls",
      "model_module_version": "2.0.0",
      "model_name": "HTMLModel",
      "state": {
       "layout": "IPY_MODEL_746387bf1e4440f7bd570e4f53a2a399",
       "style": "IPY_MODEL_5dfe3ab744224af381e41e286867b344",
       "value": " 170/170 [00:16&lt;00:00, 10.23it/s]"
      }
     },
     "dbad60db2242424b842460016d7f64c5": {
      "model_module": "@jupyter-widgets/controls",
      "model_module_version": "2.0.0",
      "model_name": "HTMLStyleModel",
      "state": {
       "description_width": "",
       "font_size": null,
       "text_color": null
      }
     },
     "dc844719488143a28f43f0a030c62a38": {
      "model_module": "@jupyter-widgets/base",
      "model_module_version": "2.0.0",
      "model_name": "LayoutModel",
      "state": {}
     },
     "dd2bb3cc45b2487ba22ae85551d04efa": {
      "model_module": "@jupyter-widgets/controls",
      "model_module_version": "2.0.0",
      "model_name": "FloatProgressModel",
      "state": {
       "layout": "IPY_MODEL_648099f1c5024b308594005a30f7f8dc",
       "max": 170,
       "style": "IPY_MODEL_50eebb1b130d4a48a04f7b3d8ba1e8b3",
       "value": 170
      }
     },
     "dd9f7f87c8b94ce3a84c5f88563a7f26": {
      "model_module": "@jupyter-widgets/controls",
      "model_module_version": "2.0.0",
      "model_name": "FloatProgressModel",
      "state": {
       "layout": "IPY_MODEL_e38c925796d645e88329d8eff493ba4f",
       "max": 170,
       "style": "IPY_MODEL_4b327ee4ac8c414ebe0106f8d4c54c6f",
       "value": 170
      }
     },
     "ddc0dbb253a2470680219856133cdb2c": {
      "model_module": "@jupyter-widgets/controls",
      "model_module_version": "2.0.0",
      "model_name": "HTMLStyleModel",
      "state": {
       "description_width": "",
       "font_size": null,
       "text_color": null
      }
     },
     "de3fc36fc35b4890840069a04a51377e": {
      "model_module": "@jupyter-widgets/base",
      "model_module_version": "2.0.0",
      "model_name": "LayoutModel",
      "state": {
       "flex": "2"
      }
     },
     "deaa31c246064ac1815bb72f41279bd3": {
      "model_module": "@jupyter-widgets/base",
      "model_module_version": "2.0.0",
      "model_name": "LayoutModel",
      "state": {}
     },
     "deb5f4d8c91f481abc91534ae6e7d524": {
      "model_module": "@jupyter-widgets/controls",
      "model_module_version": "2.0.0",
      "model_name": "HTMLModel",
      "state": {
       "layout": "IPY_MODEL_d85aa4c034c94e1884dc4389e4420c14",
       "style": "IPY_MODEL_5d75ebf121a5433da2b1feea7db664cb",
       "value": "Validation DataLoader 0: 100%"
      }
     },
     "df05381b8c2a499d8ccef0d8c501f78d": {
      "model_module": "@jupyter-widgets/controls",
      "model_module_version": "2.0.0",
      "model_name": "HTMLStyleModel",
      "state": {
       "description_width": "",
       "font_size": null,
       "text_color": null
      }
     },
     "df8aaa98ff47428181081a5274157409": {
      "model_module": "@jupyter-widgets/controls",
      "model_module_version": "2.0.0",
      "model_name": "HTMLModel",
      "state": {
       "layout": "IPY_MODEL_930606f662e24efeb3693197234ec7a1",
       "style": "IPY_MODEL_78ae771ea58c4bfeb1cf3f85880fa593",
       "value": " 170/170 [00:16&lt;00:00, 10.26it/s]"
      }
     },
     "df95da766d0947a1a853b95c9eda97ba": {
      "model_module": "@jupyter-widgets/controls",
      "model_module_version": "2.0.0",
      "model_name": "HTMLModel",
      "state": {
       "layout": "IPY_MODEL_a687633ae5d9460a986a1a749bd6d659",
       "style": "IPY_MODEL_7e2255b2164548acbc10f1bed684091d",
       "value": " 170/170 [00:17&lt;00:00,  9.97it/s]"
      }
     },
     "dfa854ceda504e83a2920694f064ac49": {
      "model_module": "@jupyter-widgets/base",
      "model_module_version": "2.0.0",
      "model_name": "LayoutModel",
      "state": {}
     },
     "dfc108f6d36043d2b78576170b91bee1": {
      "model_module": "@jupyter-widgets/controls",
      "model_module_version": "2.0.0",
      "model_name": "HTMLModel",
      "state": {
       "layout": "IPY_MODEL_72585a8ea1ac4048af438e78fb6ff03a",
       "style": "IPY_MODEL_b3aa75cb107e4502a53d1935a171a253",
       "value": " 170/170 [00:16&lt;00:00, 10.11it/s]"
      }
     },
     "dff6b80710a143d08f9febffe41702f7": {
      "model_module": "@jupyter-widgets/base",
      "model_module_version": "2.0.0",
      "model_name": "LayoutModel",
      "state": {}
     },
     "dff962650aa3476f93d1d8af04a17384": {
      "model_module": "@jupyter-widgets/base",
      "model_module_version": "2.0.0",
      "model_name": "LayoutModel",
      "state": {
       "flex": "2"
      }
     },
     "e033c4ddf740409bbe9fe35136be77d6": {
      "model_module": "@jupyter-widgets/base",
      "model_module_version": "2.0.0",
      "model_name": "LayoutModel",
      "state": {
       "flex": "2"
      }
     },
     "e0a8ba165d844c488e990d0584c0835c": {
      "model_module": "@jupyter-widgets/base",
      "model_module_version": "2.0.0",
      "model_name": "LayoutModel",
      "state": {}
     },
     "e0ce922d5c9c4c678b6b61228865ce1e": {
      "model_module": "@jupyter-widgets/controls",
      "model_module_version": "2.0.0",
      "model_name": "HTMLModel",
      "state": {
       "layout": "IPY_MODEL_cefee6446d9146c0974cd0c4af89b6a5",
       "style": "IPY_MODEL_346792082f284c79b9d142965b498f96",
       "value": "Validation DataLoader 0: 100%"
      }
     },
     "e12a2d4e1e884e53a1b7ccfeab430ac4": {
      "model_module": "@jupyter-widgets/controls",
      "model_module_version": "2.0.0",
      "model_name": "HTMLStyleModel",
      "state": {
       "description_width": "",
       "font_size": null,
       "text_color": null
      }
     },
     "e1acab3b655340009ace26525a37f44a": {
      "model_module": "@jupyter-widgets/base",
      "model_module_version": "2.0.0",
      "model_name": "LayoutModel",
      "state": {}
     },
     "e268f9c64d584861bdc25554ecdc673c": {
      "model_module": "@jupyter-widgets/controls",
      "model_module_version": "2.0.0",
      "model_name": "FloatProgressModel",
      "state": {
       "layout": "IPY_MODEL_049b07d9c665474c8b3704e6a15e8bf1",
       "max": 170,
       "style": "IPY_MODEL_35fa4544a6e043e4b8a823edaf8e2941",
       "value": 170
      }
     },
     "e273fd32cecc421b8d05b84a48c2c4f3": {
      "model_module": "@jupyter-widgets/controls",
      "model_module_version": "2.0.0",
      "model_name": "FloatProgressModel",
      "state": {
       "layout": "IPY_MODEL_f2d4a2e6cfdf471c97865130b6cdff94",
       "max": 170,
       "style": "IPY_MODEL_0693a3d4b90b473fb380142a7ce46f2c",
       "value": 170
      }
     },
     "e28e3c52e1b64447b1992a3d1a61a5f6": {
      "model_module": "@jupyter-widgets/controls",
      "model_module_version": "2.0.0",
      "model_name": "FloatProgressModel",
      "state": {
       "layout": "IPY_MODEL_e803312d768f4bfeb02a3bccba291dd2",
       "max": 170,
       "style": "IPY_MODEL_8f594836b20946359053cd7b1962a99e",
       "value": 170
      }
     },
     "e29b845bda894efbb998ec9875bc27b7": {
      "model_module": "@jupyter-widgets/controls",
      "model_module_version": "2.0.0",
      "model_name": "HTMLStyleModel",
      "state": {
       "description_width": "",
       "font_size": null,
       "text_color": null
      }
     },
     "e2cac38ff0f94c55bb6a7159409ac7f6": {
      "model_module": "@jupyter-widgets/base",
      "model_module_version": "2.0.0",
      "model_name": "LayoutModel",
      "state": {}
     },
     "e2f62385f1004ec08b211fbe7e80b2b4": {
      "model_module": "@jupyter-widgets/controls",
      "model_module_version": "2.0.0",
      "model_name": "HTMLStyleModel",
      "state": {
       "description_width": "",
       "font_size": null,
       "text_color": null
      }
     },
     "e31f7c1f614a41beb09a1b6552508d12": {
      "model_module": "@jupyter-widgets/base",
      "model_module_version": "2.0.0",
      "model_name": "LayoutModel",
      "state": {
       "display": "inline-flex",
       "flex_flow": "row wrap",
       "visibility": "hidden",
       "width": "100%"
      }
     },
     "e352eda43e1d40de96fdfcdd480ff9cf": {
      "model_module": "@jupyter-widgets/controls",
      "model_module_version": "2.0.0",
      "model_name": "HTMLModel",
      "state": {
       "layout": "IPY_MODEL_09c8ab8ecf864535ae8fd55523ed6357",
       "style": "IPY_MODEL_6fa37be3f97b4cc2877bee8b7d180d0a",
       "value": "Validation DataLoader 0: 100%"
      }
     },
     "e35a077952cd4bae8c1d642b117a6920": {
      "model_module": "@jupyter-widgets/base",
      "model_module_version": "2.0.0",
      "model_name": "LayoutModel",
      "state": {
       "display": "inline-flex",
       "flex_flow": "row wrap",
       "visibility": "hidden",
       "width": "100%"
      }
     },
     "e38c925796d645e88329d8eff493ba4f": {
      "model_module": "@jupyter-widgets/base",
      "model_module_version": "2.0.0",
      "model_name": "LayoutModel",
      "state": {
       "flex": "2"
      }
     },
     "e410ca5d04f44497b1cfc6d979257c83": {
      "model_module": "@jupyter-widgets/controls",
      "model_module_version": "2.0.0",
      "model_name": "FloatProgressModel",
      "state": {
       "layout": "IPY_MODEL_de3fc36fc35b4890840069a04a51377e",
       "max": 170,
       "style": "IPY_MODEL_63e491922fcf43aab35fbcd34484e321",
       "value": 170
      }
     },
     "e45516d5bfb14d1283d048fb35948da4": {
      "model_module": "@jupyter-widgets/controls",
      "model_module_version": "2.0.0",
      "model_name": "FloatProgressModel",
      "state": {
       "layout": "IPY_MODEL_40b9269461fa474fbba2cbe3471e1311",
       "max": 170,
       "style": "IPY_MODEL_2d396643166448059e58eb61bad3db85",
       "value": 170
      }
     },
     "e470d641d7d3462b9895104543bcbd77": {
      "model_module": "@jupyter-widgets/base",
      "model_module_version": "2.0.0",
      "model_name": "LayoutModel",
      "state": {
       "flex": "2"
      }
     },
     "e4914d60cea240909170668f2ec2e70d": {
      "model_module": "@jupyter-widgets/controls",
      "model_module_version": "2.0.0",
      "model_name": "HTMLStyleModel",
      "state": {
       "description_width": "",
       "font_size": null,
       "text_color": null
      }
     },
     "e4ec99fee4364d1c942eabbc20fb12a8": {
      "model_module": "@jupyter-widgets/controls",
      "model_module_version": "2.0.0",
      "model_name": "ProgressStyleModel",
      "state": {
       "description_width": ""
      }
     },
     "e4f736ef66a64b70b20c43bf7025b7bd": {
      "model_module": "@jupyter-widgets/controls",
      "model_module_version": "2.0.0",
      "model_name": "HTMLStyleModel",
      "state": {
       "description_width": "",
       "font_size": null,
       "text_color": null
      }
     },
     "e5043eeeb71c456097cd5d9119739781": {
      "model_module": "@jupyter-widgets/base",
      "model_module_version": "2.0.0",
      "model_name": "LayoutModel",
      "state": {}
     },
     "e54666629fab4122b34cabb5ca5a47a5": {
      "model_module": "@jupyter-widgets/controls",
      "model_module_version": "2.0.0",
      "model_name": "HTMLStyleModel",
      "state": {
       "description_width": "",
       "font_size": null,
       "text_color": null
      }
     },
     "e5639546580f471da48284a56ccc76bd": {
      "model_module": "@jupyter-widgets/base",
      "model_module_version": "2.0.0",
      "model_name": "LayoutModel",
      "state": {
       "flex": "2"
      }
     },
     "e69c763391474cea8a023b6942186297": {
      "model_module": "@jupyter-widgets/controls",
      "model_module_version": "2.0.0",
      "model_name": "HTMLModel",
      "state": {
       "layout": "IPY_MODEL_5c0a28756b864d3ba4745f6ff2f29a40",
       "style": "IPY_MODEL_fbda62a80b52461b991f525db1e9efdf",
       "value": "Validation DataLoader 0: 100%"
      }
     },
     "e6ec48fa9d8f4f299ee429dc956ca3ac": {
      "model_module": "@jupyter-widgets/controls",
      "model_module_version": "2.0.0",
      "model_name": "HTMLModel",
      "state": {
       "layout": "IPY_MODEL_d947f38ff104439b84ab1453fc58b451",
       "style": "IPY_MODEL_a1092f81e4e64ad1bebdf25c56fc18da",
       "value": "Validation DataLoader 0: 100%"
      }
     },
     "e7015377631b4e0a9d97c84290bbbb15": {
      "model_module": "@jupyter-widgets/base",
      "model_module_version": "2.0.0",
      "model_name": "LayoutModel",
      "state": {}
     },
     "e7789c40c9964290b230cd11f403d30c": {
      "model_module": "@jupyter-widgets/base",
      "model_module_version": "2.0.0",
      "model_name": "LayoutModel",
      "state": {
       "flex": "2"
      }
     },
     "e7e2d46dd5694d8fac5e1cf09fdb4ef6": {
      "model_module": "@jupyter-widgets/controls",
      "model_module_version": "2.0.0",
      "model_name": "HTMLModel",
      "state": {
       "layout": "IPY_MODEL_cbf9aacf6f7942729b041e6cc27cc717",
       "style": "IPY_MODEL_efa532268bdf42a38d7fbcb9a972d0bf",
       "value": " 170/170 [00:16&lt;00:00, 10.05it/s]"
      }
     },
     "e803312d768f4bfeb02a3bccba291dd2": {
      "model_module": "@jupyter-widgets/base",
      "model_module_version": "2.0.0",
      "model_name": "LayoutModel",
      "state": {
       "flex": "2"
      }
     },
     "e8c54fb2aef446078d196e95d3d02957": {
      "model_module": "@jupyter-widgets/controls",
      "model_module_version": "2.0.0",
      "model_name": "HTMLModel",
      "state": {
       "layout": "IPY_MODEL_7b9eeb6cf99a433c98aeaedc884f7c12",
       "style": "IPY_MODEL_60ea9293422246aab520a3eaaad43a05",
       "value": "Validation DataLoader 0: 100%"
      }
     },
     "e8eee976896045a6bd5ba4cadfaed508": {
      "model_module": "@jupyter-widgets/controls",
      "model_module_version": "2.0.0",
      "model_name": "HTMLStyleModel",
      "state": {
       "description_width": "",
       "font_size": null,
       "text_color": null
      }
     },
     "e9e3f755d829478a926f530ab68d0229": {
      "model_module": "@jupyter-widgets/controls",
      "model_module_version": "2.0.0",
      "model_name": "HTMLStyleModel",
      "state": {
       "description_width": "",
       "font_size": null,
       "text_color": null
      }
     },
     "ea0e28d718434472b7d0312d90802719": {
      "model_module": "@jupyter-widgets/controls",
      "model_module_version": "2.0.0",
      "model_name": "HTMLModel",
      "state": {
       "layout": "IPY_MODEL_e1acab3b655340009ace26525a37f44a",
       "style": "IPY_MODEL_89956484fd9842f4b62e018761c20415",
       "value": "Validation DataLoader 0: 100%"
      }
     },
     "ea21c59fd529433586e2478851f272db": {
      "model_module": "@jupyter-widgets/base",
      "model_module_version": "2.0.0",
      "model_name": "LayoutModel",
      "state": {}
     },
     "eadb28c2972a451cbf1834eaed1f746f": {
      "model_module": "@jupyter-widgets/controls",
      "model_module_version": "2.0.0",
      "model_name": "FloatProgressModel",
      "state": {
       "layout": "IPY_MODEL_d8da222021a04163ae1dcf9c9e1477a1",
       "max": 170,
       "style": "IPY_MODEL_3ecf38d28fae429d919873fa1dd916c3",
       "value": 170
      }
     },
     "ec681a609b184bf288d2b753422cb133": {
      "model_module": "@jupyter-widgets/controls",
      "model_module_version": "2.0.0",
      "model_name": "HTMLStyleModel",
      "state": {
       "description_width": "",
       "font_size": null,
       "text_color": null
      }
     },
     "eca369fb3ac0407f8ab6de6b803bb0ad": {
      "model_module": "@jupyter-widgets/base",
      "model_module_version": "2.0.0",
      "model_name": "LayoutModel",
      "state": {}
     },
     "ed04a727438b4f128b1af38154b284b1": {
      "model_module": "@jupyter-widgets/controls",
      "model_module_version": "2.0.0",
      "model_name": "ProgressStyleModel",
      "state": {
       "description_width": ""
      }
     },
     "ed39e6d541824fc8a5ef1fe3e7e7f5a1": {
      "model_module": "@jupyter-widgets/base",
      "model_module_version": "2.0.0",
      "model_name": "LayoutModel",
      "state": {}
     },
     "ee0464bd52284366a4edafcc6ef5fb6e": {
      "model_module": "@jupyter-widgets/base",
      "model_module_version": "2.0.0",
      "model_name": "LayoutModel",
      "state": {
       "display": "inline-flex",
       "flex_flow": "row wrap",
       "visibility": "hidden",
       "width": "100%"
      }
     },
     "ee207883a97b4c4d8d8db2d1af5edd2c": {
      "model_module": "@jupyter-widgets/controls",
      "model_module_version": "2.0.0",
      "model_name": "HTMLStyleModel",
      "state": {
       "description_width": "",
       "font_size": null,
       "text_color": null
      }
     },
     "ee430fea62cc4006a7fd222ca86032f3": {
      "model_module": "@jupyter-widgets/base",
      "model_module_version": "2.0.0",
      "model_name": "LayoutModel",
      "state": {}
     },
     "eec811ea31684d31934b579ce66705ae": {
      "model_module": "@jupyter-widgets/controls",
      "model_module_version": "2.0.0",
      "model_name": "FloatProgressModel",
      "state": {
       "layout": "IPY_MODEL_3d12c03d363f4a0383feea28ed09d9ec",
       "max": 170,
       "style": "IPY_MODEL_68ccd9e5fd784c20bd96960a6a742cf2",
       "value": 170
      }
     },
     "ef581a884cde4acab2e01b09d556bbd4": {
      "model_module": "@jupyter-widgets/controls",
      "model_module_version": "2.0.0",
      "model_name": "HTMLStyleModel",
      "state": {
       "description_width": "",
       "font_size": null,
       "text_color": null
      }
     },
     "ef8c2f7308cb47b7bb8d45a858f51df9": {
      "model_module": "@jupyter-widgets/controls",
      "model_module_version": "2.0.0",
      "model_name": "ProgressStyleModel",
      "state": {
       "description_width": ""
      }
     },
     "efa532268bdf42a38d7fbcb9a972d0bf": {
      "model_module": "@jupyter-widgets/controls",
      "model_module_version": "2.0.0",
      "model_name": "HTMLStyleModel",
      "state": {
       "description_width": "",
       "font_size": null,
       "text_color": null
      }
     },
     "f02c9b58d70f4a9b85cf4cc8256641ff": {
      "model_module": "@jupyter-widgets/controls",
      "model_module_version": "2.0.0",
      "model_name": "HTMLStyleModel",
      "state": {
       "description_width": "",
       "font_size": null,
       "text_color": null
      }
     },
     "f080b190b574491e89f58aad5872fadd": {
      "model_module": "@jupyter-widgets/controls",
      "model_module_version": "2.0.0",
      "model_name": "HTMLModel",
      "state": {
       "layout": "IPY_MODEL_8c938e07016b438293bc4ceb7a3f19a4",
       "style": "IPY_MODEL_cece6af53a144bd4b1dbb65f496af7c6",
       "value": " 170/170 [00:16&lt;00:00, 10.18it/s]"
      }
     },
     "f14d3dbbf4794238a635dfedaa455838": {
      "model_module": "@jupyter-widgets/controls",
      "model_module_version": "2.0.0",
      "model_name": "HTMLModel",
      "state": {
       "layout": "IPY_MODEL_19b019bfdde64da0b47759d7ace92757",
       "style": "IPY_MODEL_ee207883a97b4c4d8d8db2d1af5edd2c",
       "value": " 170/170 [00:16&lt;00:00, 10.21it/s]"
      }
     },
     "f15e85f0dbbc4e129b22d9b65f9c5d68": {
      "model_module": "@jupyter-widgets/controls",
      "model_module_version": "2.0.0",
      "model_name": "HTMLStyleModel",
      "state": {
       "description_width": "",
       "font_size": null,
       "text_color": null
      }
     },
     "f1abe6fd6baf491c8a051c5c64dcea75": {
      "model_module": "@jupyter-widgets/controls",
      "model_module_version": "2.0.0",
      "model_name": "HTMLModel",
      "state": {
       "layout": "IPY_MODEL_8bbadbf79af54d2b90b24b7ffcd71ff1",
       "style": "IPY_MODEL_fff77336e8104c8b958949506fb84b13",
       "value": "Validation DataLoader 0: 100%"
      }
     },
     "f1bd9cefb9c04237963026ef7771e05b": {
      "model_module": "@jupyter-widgets/controls",
      "model_module_version": "2.0.0",
      "model_name": "HTMLModel",
      "state": {
       "layout": "IPY_MODEL_55fc361d5c5b4f97bda3ff1a6b4b3db2",
       "style": "IPY_MODEL_3b558fd6785b4663864a378e292cd0fb",
       "value": "Validation DataLoader 0: 100%"
      }
     },
     "f1dca6a44d074b6186dbde7b06ef46ae": {
      "model_module": "@jupyter-widgets/controls",
      "model_module_version": "2.0.0",
      "model_name": "HTMLModel",
      "state": {
       "layout": "IPY_MODEL_942debfa91e04556bdbf9f2889d1f2c2",
       "style": "IPY_MODEL_8aeee49030dc47c2ade6450b88e7ed0e",
       "value": " 170/170 [00:16&lt;00:00, 10.21it/s]"
      }
     },
     "f21d578c47d746b38b9146adce113f98": {
      "model_module": "@jupyter-widgets/base",
      "model_module_version": "2.0.0",
      "model_name": "LayoutModel",
      "state": {}
     },
     "f221587532514e9797d32ad3d171c94a": {
      "model_module": "@jupyter-widgets/controls",
      "model_module_version": "2.0.0",
      "model_name": "HTMLStyleModel",
      "state": {
       "description_width": "",
       "font_size": null,
       "text_color": null
      }
     },
     "f225fec461f84203bf0533dee788da4c": {
      "model_module": "@jupyter-widgets/base",
      "model_module_version": "2.0.0",
      "model_name": "LayoutModel",
      "state": {}
     },
     "f2b37238e3b64c41aceb89efca30d06c": {
      "model_module": "@jupyter-widgets/base",
      "model_module_version": "2.0.0",
      "model_name": "LayoutModel",
      "state": {
       "display": "inline-flex",
       "flex_flow": "row wrap",
       "visibility": "hidden",
       "width": "100%"
      }
     },
     "f2d4a2e6cfdf471c97865130b6cdff94": {
      "model_module": "@jupyter-widgets/base",
      "model_module_version": "2.0.0",
      "model_name": "LayoutModel",
      "state": {
       "flex": "2"
      }
     },
     "f36cb178cbd14ac4be7af96b68b796fe": {
      "model_module": "@jupyter-widgets/base",
      "model_module_version": "2.0.0",
      "model_name": "LayoutModel",
      "state": {
       "display": "inline-flex",
       "flex_flow": "row wrap",
       "visibility": "hidden",
       "width": "100%"
      }
     },
     "f39ced8d28e946d19f438da4e113cc26": {
      "model_module": "@jupyter-widgets/controls",
      "model_module_version": "2.0.0",
      "model_name": "FloatProgressModel",
      "state": {
       "layout": "IPY_MODEL_88b273ea0bf947fba2529f057fca49a8",
       "max": 170,
       "style": "IPY_MODEL_bd861dc714fe46c79f6deeaba84d14f5",
       "value": 170
      }
     },
     "f3db33cdd047450a804a51c98493a5f0": {
      "model_module": "@jupyter-widgets/controls",
      "model_module_version": "2.0.0",
      "model_name": "FloatProgressModel",
      "state": {
       "layout": "IPY_MODEL_71fbef15f9fa40079a6a414833205064",
       "max": 170,
       "style": "IPY_MODEL_51a11f8ec5254030b49120df51130e71",
       "value": 170
      }
     },
     "f402c8732b8d46578482464757156949": {
      "model_module": "@jupyter-widgets/base",
      "model_module_version": "2.0.0",
      "model_name": "LayoutModel",
      "state": {
       "display": "inline-flex",
       "flex_flow": "row wrap",
       "visibility": "hidden",
       "width": "100%"
      }
     },
     "f42f9d5abf354beb9c42ecb254b24fe6": {
      "model_module": "@jupyter-widgets/controls",
      "model_module_version": "2.0.0",
      "model_name": "FloatProgressModel",
      "state": {
       "layout": "IPY_MODEL_fc82df97c5524ebcaaa36952347b45c7",
       "max": 699,
       "style": "IPY_MODEL_693e703f0b964130b1ff15c08e0e6e5c",
       "value": 18
      }
     },
     "f4499efc419548e39e2c22a51063ce45": {
      "model_module": "@jupyter-widgets/controls",
      "model_module_version": "2.0.0",
      "model_name": "HTMLStyleModel",
      "state": {
       "description_width": "",
       "font_size": null,
       "text_color": null
      }
     },
     "f522755bb9ea4617877fdbdbb5db7d8e": {
      "model_module": "@jupyter-widgets/controls",
      "model_module_version": "2.0.0",
      "model_name": "HTMLStyleModel",
      "state": {
       "description_width": "",
       "font_size": null,
       "text_color": null
      }
     },
     "f5b5c75ad51242a6b0ccd90259fbe928": {
      "model_module": "@jupyter-widgets/base",
      "model_module_version": "2.0.0",
      "model_name": "LayoutModel",
      "state": {
       "display": "inline-flex",
       "flex_flow": "row wrap",
       "visibility": "hidden",
       "width": "100%"
      }
     },
     "f605d5d552ac4a0f9c8230197c93b9e3": {
      "model_module": "@jupyter-widgets/base",
      "model_module_version": "2.0.0",
      "model_name": "LayoutModel",
      "state": {
       "display": "inline-flex",
       "flex_flow": "row wrap",
       "visibility": "hidden",
       "width": "100%"
      }
     },
     "f60e8bd1516541b0b553e5d9d093b269": {
      "model_module": "@jupyter-widgets/base",
      "model_module_version": "2.0.0",
      "model_name": "LayoutModel",
      "state": {}
     },
     "f62dec4d5d32448591b9a7266754f51c": {
      "model_module": "@jupyter-widgets/base",
      "model_module_version": "2.0.0",
      "model_name": "LayoutModel",
      "state": {}
     },
     "f66352e46ff5479198680c4b2c233ae7": {
      "model_module": "@jupyter-widgets/controls",
      "model_module_version": "2.0.0",
      "model_name": "HTMLStyleModel",
      "state": {
       "description_width": "",
       "font_size": null,
       "text_color": null
      }
     },
     "f674f8d8040c4b6fb982417cde3d6b06": {
      "model_module": "@jupyter-widgets/base",
      "model_module_version": "2.0.0",
      "model_name": "LayoutModel",
      "state": {
       "flex": "2"
      }
     },
     "f6dad46e600e4c8a8079df3699a564ef": {
      "model_module": "@jupyter-widgets/controls",
      "model_module_version": "2.0.0",
      "model_name": "ProgressStyleModel",
      "state": {
       "description_width": ""
      }
     },
     "f71b0591748f441fb3651efaa0b79fb7": {
      "model_module": "@jupyter-widgets/base",
      "model_module_version": "2.0.0",
      "model_name": "LayoutModel",
      "state": {
       "display": "inline-flex",
       "flex_flow": "row wrap",
       "visibility": "hidden",
       "width": "100%"
      }
     },
     "f778b8c0920e433db1753a6ea7b7fa18": {
      "model_module": "@jupyter-widgets/controls",
      "model_module_version": "2.0.0",
      "model_name": "FloatProgressModel",
      "state": {
       "layout": "IPY_MODEL_f674f8d8040c4b6fb982417cde3d6b06",
       "max": 170,
       "style": "IPY_MODEL_f6dad46e600e4c8a8079df3699a564ef",
       "value": 170
      }
     },
     "f7a9794308734013830246b2f44692a6": {
      "model_module": "@jupyter-widgets/controls",
      "model_module_version": "2.0.0",
      "model_name": "HTMLStyleModel",
      "state": {
       "description_width": "",
       "font_size": null,
       "text_color": null
      }
     },
     "f7ae1e321bf64cb090e6e37eda10bb07": {
      "model_module": "@jupyter-widgets/base",
      "model_module_version": "2.0.0",
      "model_name": "LayoutModel",
      "state": {}
     },
     "f7f000cb7ca44908bc807257e5c922fb": {
      "model_module": "@jupyter-widgets/controls",
      "model_module_version": "2.0.0",
      "model_name": "HTMLStyleModel",
      "state": {
       "description_width": "",
       "font_size": null,
       "text_color": null
      }
     },
     "f8680a55df2b445f824de7888c42f40f": {
      "model_module": "@jupyter-widgets/base",
      "model_module_version": "2.0.0",
      "model_name": "LayoutModel",
      "state": {
       "flex": "2"
      }
     },
     "f8ed14360f664ddfb78e7a351fb3164f": {
      "model_module": "@jupyter-widgets/controls",
      "model_module_version": "2.0.0",
      "model_name": "HTMLStyleModel",
      "state": {
       "description_width": "",
       "font_size": null,
       "text_color": null
      }
     },
     "f9238247fe884656a28bb30ecaec5c8f": {
      "model_module": "@jupyter-widgets/controls",
      "model_module_version": "2.0.0",
      "model_name": "FloatProgressModel",
      "state": {
       "layout": "IPY_MODEL_7a443723e80a47409f0e3590f46761d5",
       "max": 170,
       "style": "IPY_MODEL_9b1ad7df43184f95944b07655a1a456c",
       "value": 170
      }
     },
     "f966f9577e63404ca8e293e7969b72ed": {
      "model_module": "@jupyter-widgets/controls",
      "model_module_version": "2.0.0",
      "model_name": "HTMLModel",
      "state": {
       "layout": "IPY_MODEL_ab5f14379de24085b435dbfd022548b9",
       "style": "IPY_MODEL_d2419eec8e054979a3b3f9e1022ce09a",
       "value": " 170/170 [00:16&lt;00:00, 10.12it/s]"
      }
     },
     "f96b174226b440398457a3818970ae2e": {
      "model_module": "@jupyter-widgets/controls",
      "model_module_version": "2.0.0",
      "model_name": "HTMLModel",
      "state": {
       "layout": "IPY_MODEL_4726a6cd52824fd2b06ce916358e95ca",
       "style": "IPY_MODEL_8b727ebfd3ed4bef9cfca091906b54e4",
       "value": " 170/170 [00:16&lt;00:00, 10.12it/s]"
      }
     },
     "f97651007b9d46c99f30f9b15604e01b": {
      "model_module": "@jupyter-widgets/base",
      "model_module_version": "2.0.0",
      "model_name": "LayoutModel",
      "state": {
       "display": "inline-flex",
       "flex_flow": "row wrap",
       "visibility": "hidden",
       "width": "100%"
      }
     },
     "f99a7b6ec5a04bc79a25a1ab3a3ec9ba": {
      "model_module": "@jupyter-widgets/base",
      "model_module_version": "2.0.0",
      "model_name": "LayoutModel",
      "state": {}
     },
     "f99d42d3b25948d680a91d7130fd8a5a": {
      "model_module": "@jupyter-widgets/controls",
      "model_module_version": "2.0.0",
      "model_name": "HTMLStyleModel",
      "state": {
       "description_width": "",
       "font_size": null,
       "text_color": null
      }
     },
     "f9a40cb6ad244c2aadc56c8b9c719d62": {
      "model_module": "@jupyter-widgets/controls",
      "model_module_version": "2.0.0",
      "model_name": "HTMLStyleModel",
      "state": {
       "description_width": "",
       "font_size": null,
       "text_color": null
      }
     },
     "fa9769f0a6f34adeb1d2b9408b539c51": {
      "model_module": "@jupyter-widgets/controls",
      "model_module_version": "2.0.0",
      "model_name": "HTMLStyleModel",
      "state": {
       "description_width": "",
       "font_size": null,
       "text_color": null
      }
     },
     "fab14c6e11164053baac9c3ae9cfacc7": {
      "model_module": "@jupyter-widgets/controls",
      "model_module_version": "2.0.0",
      "model_name": "HTMLModel",
      "state": {
       "layout": "IPY_MODEL_83bda79312ff4373ab54331a90fd4fde",
       "style": "IPY_MODEL_d0bf88f2d60d4c2baab4e27c627faf6b",
       "value": "Validation DataLoader 0: 100%"
      }
     },
     "faeb26f718cd4bf7b2f8ee97c6e02a6d": {
      "model_module": "@jupyter-widgets/base",
      "model_module_version": "2.0.0",
      "model_name": "LayoutModel",
      "state": {
       "display": "inline-flex",
       "flex_flow": "row wrap",
       "visibility": "hidden",
       "width": "100%"
      }
     },
     "fb97690904b14cca93cc50f2958f37bd": {
      "model_module": "@jupyter-widgets/base",
      "model_module_version": "2.0.0",
      "model_name": "LayoutModel",
      "state": {
       "flex": "2"
      }
     },
     "fbda62a80b52461b991f525db1e9efdf": {
      "model_module": "@jupyter-widgets/controls",
      "model_module_version": "2.0.0",
      "model_name": "HTMLStyleModel",
      "state": {
       "description_width": "",
       "font_size": null,
       "text_color": null
      }
     },
     "fbf1969f44784cc3950e70520497cc60": {
      "model_module": "@jupyter-widgets/controls",
      "model_module_version": "2.0.0",
      "model_name": "HTMLModel",
      "state": {
       "layout": "IPY_MODEL_ee430fea62cc4006a7fd222ca86032f3",
       "style": "IPY_MODEL_9a966a564b7140c4a4df698db6b95b4a",
       "value": "Validation DataLoader 0: 100%"
      }
     },
     "fc82df97c5524ebcaaa36952347b45c7": {
      "model_module": "@jupyter-widgets/base",
      "model_module_version": "2.0.0",
      "model_name": "LayoutModel",
      "state": {
       "flex": "2"
      }
     },
     "fc9aac6d23804d498d4149a5ff682d6a": {
      "model_module": "@jupyter-widgets/controls",
      "model_module_version": "2.0.0",
      "model_name": "HTMLStyleModel",
      "state": {
       "description_width": "",
       "font_size": null,
       "text_color": null
      }
     },
     "fcc1ec35584a4c4eaec0ad4af30b31f5": {
      "model_module": "@jupyter-widgets/controls",
      "model_module_version": "2.0.0",
      "model_name": "HTMLStyleModel",
      "state": {
       "description_width": "",
       "font_size": null,
       "text_color": null
      }
     },
     "fd0049df603d44a7893d928fc5847f93": {
      "model_module": "@jupyter-widgets/base",
      "model_module_version": "2.0.0",
      "model_name": "LayoutModel",
      "state": {}
     },
     "fd1561c0f74d4aa1a55e6647bcffe010": {
      "model_module": "@jupyter-widgets/base",
      "model_module_version": "2.0.0",
      "model_name": "LayoutModel",
      "state": {}
     },
     "fd3dc50b1eb74307864882b63c9a8c58": {
      "model_module": "@jupyter-widgets/controls",
      "model_module_version": "2.0.0",
      "model_name": "HTMLStyleModel",
      "state": {
       "description_width": "",
       "font_size": null,
       "text_color": null
      }
     },
     "fd980f3f61744b6e88723327973b49f8": {
      "model_module": "@jupyter-widgets/controls",
      "model_module_version": "2.0.0",
      "model_name": "FloatProgressModel",
      "state": {
       "layout": "IPY_MODEL_267b6da0e14e42f4bb2f5fe9a6de2edc",
       "max": 170,
       "style": "IPY_MODEL_7985f739e08c432998761c72fdb759e0",
       "value": 170
      }
     },
     "fe10527786cb46808878646b0bda57fb": {
      "model_module": "@jupyter-widgets/controls",
      "model_module_version": "2.0.0",
      "model_name": "HTMLStyleModel",
      "state": {
       "description_width": "",
       "font_size": null,
       "text_color": null
      }
     },
     "fe3b198f363c45318260f22a128ebdd5": {
      "model_module": "@jupyter-widgets/controls",
      "model_module_version": "2.0.0",
      "model_name": "HTMLModel",
      "state": {
       "layout": "IPY_MODEL_b5425a60691542db9400cb57339fa211",
       "style": "IPY_MODEL_b1b1751cd89d46d2b41e3f86eba1bf93",
       "value": "Validation DataLoader 0: 100%"
      }
     },
     "fe59b5315d3d472299b674b1142f5c57": {
      "model_module": "@jupyter-widgets/controls",
      "model_module_version": "2.0.0",
      "model_name": "HTMLStyleModel",
      "state": {
       "description_width": "",
       "font_size": null,
       "text_color": null
      }
     },
     "fe60fd5532334ccb9eacaba01a6ded7f": {
      "model_module": "@jupyter-widgets/base",
      "model_module_version": "2.0.0",
      "model_name": "LayoutModel",
      "state": {}
     },
     "fee2559f507149eb92e53c211dad1e22": {
      "model_module": "@jupyter-widgets/controls",
      "model_module_version": "2.0.0",
      "model_name": "HTMLModel",
      "state": {
       "layout": "IPY_MODEL_0ef16ec7e06f403b95c1f8d97fd45ddb",
       "style": "IPY_MODEL_69bf9a32b1f447dc976b7c1686dec586",
       "value": " 170/170 [00:16&lt;00:00, 10.23it/s]"
      }
     },
     "ff44fa1b9c24484984d0580e16a622f7": {
      "model_module": "@jupyter-widgets/controls",
      "model_module_version": "2.0.0",
      "model_name": "HTMLStyleModel",
      "state": {
       "description_width": "",
       "font_size": null,
       "text_color": null
      }
     },
     "ff5b7eda80644ea285c251288f3b144b": {
      "model_module": "@jupyter-widgets/controls",
      "model_module_version": "2.0.0",
      "model_name": "FloatProgressModel",
      "state": {
       "layout": "IPY_MODEL_155293c16192406c8247445276d45ff2",
       "max": 170,
       "style": "IPY_MODEL_73df874293f84ea6bdfcad0c61bac00e",
       "value": 170
      }
     },
     "ffe9c0ace19347d69202060f9b0de2a4": {
      "model_module": "@jupyter-widgets/controls",
      "model_module_version": "2.0.0",
      "model_name": "HTMLStyleModel",
      "state": {
       "description_width": "",
       "font_size": null,
       "text_color": null
      }
     },
     "fff77336e8104c8b958949506fb84b13": {
      "model_module": "@jupyter-widgets/controls",
      "model_module_version": "2.0.0",
      "model_name": "HTMLStyleModel",
      "state": {
       "description_width": "",
       "font_size": null,
       "text_color": null
      }
     }
    },
    "version_major": 2,
    "version_minor": 0
   }
  }
 },
 "nbformat": 4,
 "nbformat_minor": 5
}
