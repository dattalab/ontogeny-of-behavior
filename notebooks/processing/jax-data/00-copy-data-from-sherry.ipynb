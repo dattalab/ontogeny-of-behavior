{
 "cells": [
  {
   "cell_type": "markdown",
   "id": "33bf500d-12a1-4ecb-be38-36377ce08dd0",
   "metadata": {},
   "source": [
    "# Copy extracted results from Sherry's group folder into mine. \n",
    "\n",
    "- only copy WT mice\n",
    "- this experiment is longitudinal"
   ]
  },
  {
   "cell_type": "code",
   "execution_count": 1,
   "id": "a174fd64-70c4-40f8-a491-4a3925e80c4d",
   "metadata": {},
   "outputs": [],
   "source": [
    "import h5py\n",
    "import shutil\n",
    "from pathlib import Path\n",
    "from tqdm.auto import tqdm"
   ]
  },
  {
   "cell_type": "code",
   "execution_count": 2,
   "id": "8dc89ece-fa8b-4d4d-b7f2-4b2a338078f8",
   "metadata": {},
   "outputs": [],
   "source": [
    "input_path = Path(\"/n/groups/datta/sherry/collabs/JAX/analysis_230928/datta_i/aggregate_results\")\n",
    "copyto_path = Path(\"/n/groups/datta/win/longtogeny/data/jackson-labs/datta_i\")"
   ]
  },
  {
   "cell_type": "code",
   "execution_count": 3,
   "id": "6026cd72-1831-4a4f-a15d-c7b244c736e0",
   "metadata": {},
   "outputs": [],
   "source": [
    "copyto_path.mkdir(parents=True, exist_ok=True)"
   ]
  },
  {
   "cell_type": "code",
   "execution_count": 4,
   "id": "0bb2efa9-47eb-4d48-80c1-843161c85ff6",
   "metadata": {},
   "outputs": [],
   "source": [
    "files = sorted(input_path.glob(\"*wt*[.h5|.yaml]\"))"
   ]
  },
  {
   "cell_type": "code",
   "execution_count": 5,
   "id": "95a45f33-3aca-42f3-ba4d-21267181cd30",
   "metadata": {},
   "outputs": [
    {
     "data": {
      "text/plain": [
       "542"
      ]
     },
     "execution_count": 5,
     "metadata": {},
     "output_type": "execute_result"
    }
   ],
   "source": [
    "len(files)"
   ]
  },
  {
   "cell_type": "code",
   "execution_count": 9,
   "id": "b7b68ed0-e84a-42f3-b8cf-5653337018e9",
   "metadata": {},
   "outputs": [
    {
     "data": {
      "application/vnd.jupyter.widget-view+json": {
       "model_id": "3487afe51e75454f9085cf12328df694",
       "version_major": 2,
       "version_minor": 0
      },
      "text/plain": [
       "  0%|          | 0/542 [00:00<?, ?it/s]"
      ]
     },
     "metadata": {},
     "output_type": "display_data"
    }
   ],
   "source": [
    "failures = []\n",
    "for file in tqdm(files):\n",
    "    try:\n",
    "        new_file = copyto_path / file.name\n",
    "        shutil.copy(file, new_file)\n",
    "    except Exception:\n",
    "        failures.append((file, \"copy failure\"))\n",
    "    if new_file.suffix == '.h5':\n",
    "        try:\n",
    "            with h5py.File(new_file, \"a\") as h5f:\n",
    "                del h5f[\"recon_frames\"]\n",
    "        except Exception:\n",
    "            failures.append((file, \"h5 delete failure\"))"
   ]
  },
  {
   "cell_type": "code",
   "execution_count": null,
   "id": "70a2d3c0-ce12-4f1d-9036-c3826a9410ca",
   "metadata": {},
   "outputs": [],
   "source": []
  }
 ],
 "metadata": {
  "kernelspec": {
   "display_name": "Ontogeny",
   "language": "python",
   "name": "aging"
  },
  "language_info": {
   "codemirror_mode": {
    "name": "ipython",
    "version": 3
   },
   "file_extension": ".py",
   "mimetype": "text/x-python",
   "name": "python",
   "nbconvert_exporter": "python",
   "pygments_lexer": "ipython3",
   "version": "3.10.10"
  },
  "widgets": {
   "application/vnd.jupyter.widget-state+json": {
    "state": {
     "09051dd829814642b5722d93f9f4f002": {
      "model_module": "@jupyter-widgets/controls",
      "model_module_version": "2.0.0",
      "model_name": "HTMLModel",
      "state": {
       "layout": "IPY_MODEL_3bc7d9d9fc4a48cebd0b86caa4a1747e",
       "style": "IPY_MODEL_5b1176b4048c4cd380072cd32ebd617e",
       "value": " 542/542 [54:40&lt;00:00,  3.71s/it]"
      }
     },
     "3487afe51e75454f9085cf12328df694": {
      "model_module": "@jupyter-widgets/controls",
      "model_module_version": "2.0.0",
      "model_name": "HBoxModel",
      "state": {
       "children": [
        "IPY_MODEL_b12e82624683409182d9732dd0ef4833",
        "IPY_MODEL_4ae07d2738af448ebecdd98a9926d9e6",
        "IPY_MODEL_09051dd829814642b5722d93f9f4f002"
       ],
       "layout": "IPY_MODEL_ba9f6177463b4594b6612abf6b94b64a"
      }
     },
     "3bc7d9d9fc4a48cebd0b86caa4a1747e": {
      "model_module": "@jupyter-widgets/base",
      "model_module_version": "2.0.0",
      "model_name": "LayoutModel",
      "state": {}
     },
     "4ae07d2738af448ebecdd98a9926d9e6": {
      "model_module": "@jupyter-widgets/controls",
      "model_module_version": "2.0.0",
      "model_name": "FloatProgressModel",
      "state": {
       "bar_style": "success",
       "layout": "IPY_MODEL_8feb02c8e83e43d386a94867ff0c4701",
       "max": 542,
       "style": "IPY_MODEL_ff2034f2b13d4673ab7ad856bcfd169c",
       "value": 542
      }
     },
     "5b1176b4048c4cd380072cd32ebd617e": {
      "model_module": "@jupyter-widgets/controls",
      "model_module_version": "2.0.0",
      "model_name": "HTMLStyleModel",
      "state": {
       "description_width": "",
       "font_size": null,
       "text_color": null
      }
     },
     "8feb02c8e83e43d386a94867ff0c4701": {
      "model_module": "@jupyter-widgets/base",
      "model_module_version": "2.0.0",
      "model_name": "LayoutModel",
      "state": {}
     },
     "a83f4134eef343d7a0499312b1dea17c": {
      "model_module": "@jupyter-widgets/controls",
      "model_module_version": "2.0.0",
      "model_name": "HTMLStyleModel",
      "state": {
       "description_width": "",
       "font_size": null,
       "text_color": null
      }
     },
     "b12e82624683409182d9732dd0ef4833": {
      "model_module": "@jupyter-widgets/controls",
      "model_module_version": "2.0.0",
      "model_name": "HTMLModel",
      "state": {
       "layout": "IPY_MODEL_b4850e8f20f5465c88c7c33194e940eb",
       "style": "IPY_MODEL_a83f4134eef343d7a0499312b1dea17c",
       "value": "100%"
      }
     },
     "b4850e8f20f5465c88c7c33194e940eb": {
      "model_module": "@jupyter-widgets/base",
      "model_module_version": "2.0.0",
      "model_name": "LayoutModel",
      "state": {}
     },
     "ba9f6177463b4594b6612abf6b94b64a": {
      "model_module": "@jupyter-widgets/base",
      "model_module_version": "2.0.0",
      "model_name": "LayoutModel",
      "state": {}
     },
     "ff2034f2b13d4673ab7ad856bcfd169c": {
      "model_module": "@jupyter-widgets/controls",
      "model_module_version": "2.0.0",
      "model_name": "ProgressStyleModel",
      "state": {
       "description_width": ""
      }
     }
    },
    "version_major": 2,
    "version_minor": 0
   }
  }
 },
 "nbformat": 4,
 "nbformat_minor": 5
}
