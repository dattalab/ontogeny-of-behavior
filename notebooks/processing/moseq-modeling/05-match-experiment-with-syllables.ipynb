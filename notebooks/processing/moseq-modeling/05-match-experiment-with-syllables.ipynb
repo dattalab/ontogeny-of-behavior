{
 "cells": [
  {
   "cell_type": "markdown",
   "id": "da727b1e-e418-443c-9fce-881bd4ba6863",
   "metadata": {},
   "source": [
    "# Take inferred syllables from ARHMM and assign mouse ID and experiment to each session"
   ]
  },
  {
   "cell_type": "code",
   "execution_count": 1,
   "id": "9aa78d85-33c0-4298-a61e-1d32c52ff5b4",
   "metadata": {
    "tags": []
   },
   "outputs": [],
   "source": [
    "import h5py\n",
    "import numpy as np\n",
    "import pandas as pd\n",
    "from pathlib import Path\n",
    "from copy import deepcopy\n",
    "from tqdm.auto import tqdm\n",
    "from datetime import datetime\n",
    "from toolz.curried import pluck\n",
    "from aging.organization.paths import FOLDERS\n",
    "from aging.behavior.scalars import compute_scalars\n",
    "from toolz import concat, compose, valmap, first, groupby, keyfilter"
   ]
  },
  {
   "cell_type": "code",
   "execution_count": 2,
   "id": "7c1dfefe-f6eb-4273-b92f-f197cbef66c7",
   "metadata": {
    "tags": []
   },
   "outputs": [],
   "source": [
    "version = 4\n",
    "data_folder = Path(f'/n/groups/datta/win/longtogeny/data/ontogeny/version_{version:02d}')\n",
    "syllable_path = data_folder / 'all_data_pca/syllables.h5'"
   ]
  },
  {
   "cell_type": "code",
   "execution_count": 3,
   "id": "b3228bb7-c854-4894-8d13-2aa0c76482eb",
   "metadata": {
    "tags": []
   },
   "outputs": [
    {
     "data": {
      "application/vnd.jupyter.widget-view+json": {
       "model_id": "b32e9084ec924c7ab04e102d8fb91b2f",
       "version_major": 2,
       "version_minor": 0
      },
      "text/plain": [
       "0it [00:00, ?it/s]"
      ]
     },
     "metadata": {},
     "output_type": "display_data"
    }
   ],
   "source": [
    "uuid_map = {}\n",
    "for file in tqdm(concat(f.glob('**/results_00.h5') for f in FOLDERS)):\n",
    "    try:\n",
    "        with h5py.File(file, 'r') as h5f:\n",
    "            uuid = h5f['metadata/uuid'][()].decode()\n",
    "            uuid_map[uuid] = file\n",
    "    except OSError:\n",
    "        continue\n",
    "\n",
    "with h5py.File(syllable_path, 'r') as h5f:\n",
    "    h5f_uuids = list(h5f)\n",
    "    uuid_map = keyfilter(lambda u: u in h5f_uuids, uuid_map)"
   ]
  },
  {
   "cell_type": "code",
   "execution_count": 4,
   "id": "55a3e800-4315-4b0f-9cea-0c68419bf18a",
   "metadata": {
    "tags": []
   },
   "outputs": [
    {
     "name": "stdout",
     "output_type": "stream",
     "text": [
      "['ColorDataType', 'ColorResolution', 'DepthDataType', 'DepthResolution', 'IsLittleEndian', 'NidaqChannels', 'NidaqSamplingRate', 'SessionName', 'StartTime', 'SubjectName']\n"
     ]
    }
   ],
   "source": [
    "with h5py.File(first(uuid_map.values()), 'r') as h5f:\n",
    "    print(list(h5f['metadata/acquisition']))"
   ]
  },
  {
   "cell_type": "code",
   "execution_count": 5,
   "id": "0f702e8b-e36a-4cbb-b5f4-9bb180dd7c2f",
   "metadata": {
    "tags": []
   },
   "outputs": [],
   "source": [
    "def get_experiment(path: Path):\n",
    "    str_path = str(path)\n",
    "    if \"min\" in str_path and 'longtogeny' in str_path:\n",
    "        exp = f\"longtogeny_v2_{path.parents[2].name.lower()}\"\n",
    "    elif \"longtogeny\" in str(path):\n",
    "        sex = path.parents[3].name.lower()\n",
    "        if sex not in (\"males\", \"females\"):\n",
    "            sex = path.parents[2].name.lower()\n",
    "            if sex not in (\"males\", \"females\"):\n",
    "                raise ValueError(\"bleh\")\n",
    "        exp = f\"longtogeny_{sex}\"\n",
    "    elif \"ontogeny\" in str(path).lower() and \"community\" not in str(path):\n",
    "        exp = path.parents[3].name.lower()\n",
    "        if exp == \"raw_data\":\n",
    "            exp = path.parents[2].name.lower()\n",
    "    elif \"wheel\" in str(path).lower():\n",
    "        exp = \"wheel\"\n",
    "    else:\n",
    "        exp = path.parents[2].name\n",
    "    return exp\n",
    "\n",
    "\n",
    "def insert_nans(timestamps, data, fps=30):\n",
    "    df_timestamps = np.diff(np.insert(timestamps, 0, timestamps[0] - 1.0 / fps))\n",
    "    missing_frames = np.floor(df_timestamps / (1.0 / fps))\n",
    "\n",
    "    fill_idx = np.where(missing_frames > 1)[0]\n",
    "    data_idx = np.arange(len(timestamps)).astype('float64')\n",
    "\n",
    "    filled_data = deepcopy(data)\n",
    "    filled_timestamps = deepcopy(timestamps)\n",
    "\n",
    "    if filled_data.ndim == 1:\n",
    "        isvec = True\n",
    "        filled_data = filled_data[:, None]\n",
    "    else:\n",
    "        isvec = False\n",
    "    nframes, nfeatures = filled_data.shape\n",
    "\n",
    "    for idx in fill_idx[::-1]:\n",
    "        if idx < len(missing_frames):\n",
    "            ninserts = int(missing_frames[idx] - 1)\n",
    "            data_idx = np.insert(data_idx, idx, [np.nan] * ninserts)\n",
    "            insert_timestamps = timestamps[idx - 1] + \\\n",
    "                np.cumsum(np.ones(ninserts,) * 1.0 / fps)\n",
    "            filled_data = np.insert(filled_data, idx,\n",
    "                                    np.ones((ninserts, nfeatures)) * np.nan, axis=0)\n",
    "            filled_timestamps = np.insert(\n",
    "                filled_timestamps, idx, insert_timestamps)\n",
    "\n",
    "    if isvec:\n",
    "        filled_data = np.squeeze(filled_data)\n",
    "\n",
    "    return filled_data, data_idx, filled_timestamps"
   ]
  },
  {
   "cell_type": "code",
   "execution_count": 6,
   "id": "2016e060-8f4b-4686-a4b6-e126fe8a412a",
   "metadata": {
    "tags": []
   },
   "outputs": [],
   "source": [
    "# group uuids by experiment\n",
    "exp_groups = groupby(lambda k: get_experiment(k[1]), uuid_map.items())\n",
    "exp_groups = valmap(compose(list, pluck(0)), exp_groups)"
   ]
  },
  {
   "cell_type": "code",
   "execution_count": 7,
   "id": "d455593a-42ea-434a-ba68-cffb55999d19",
   "metadata": {
    "tags": []
   },
   "outputs": [
    {
     "data": {
      "text/plain": [
       "['ontogeny_females',\n",
       " 'ontogeny_males',\n",
       " 'longtogeny_males',\n",
       " 'longtogeny_v2_females',\n",
       " 'longtogeny_v2_males']"
      ]
     },
     "execution_count": 7,
     "metadata": {},
     "output_type": "execute_result"
    }
   ],
   "source": [
    "list(exp_groups)"
   ]
  },
  {
   "cell_type": "code",
   "execution_count": 8,
   "id": "d993377c-a721-4f49-9a61-1da1c906a3bc",
   "metadata": {
    "tags": []
   },
   "outputs": [
    {
     "data": {
      "text/plain": [
       "{'ontogeny_females': 224,\n",
       " 'ontogeny_males': 216,\n",
       " 'longtogeny_males': 1096,\n",
       " 'longtogeny_v2_females': 537,\n",
       " 'longtogeny_v2_males': 475}"
      ]
     },
     "execution_count": 8,
     "metadata": {},
     "output_type": "execute_result"
    }
   ],
   "source": [
    "valmap(len, exp_groups)"
   ]
  },
  {
   "cell_type": "code",
   "execution_count": 10,
   "id": "e8b94c30-03c7-4ee9-ac6f-3ed2e79ca3f1",
   "metadata": {
    "tags": []
   },
   "outputs": [
    {
     "data": {
      "application/vnd.jupyter.widget-view+json": {
       "model_id": "1c69fad0a6914140bb70da1b7d8fa47f",
       "version_major": 2,
       "version_minor": 0
      },
      "text/plain": [
       "  0%|          | 0/224 [00:00<?, ?it/s]"
      ]
     },
     "metadata": {},
     "output_type": "display_data"
    },
    {
     "name": "stdout",
     "output_type": "stream",
     "text": [
      "failure 1deda02d-3a49-49a1-b589-63ea27b3d6c8 All arrays must be of the same length\n",
      "failure 2958cb9b-a49a-436b-8aa0-17392de92af0 All arrays must be of the same length\n",
      "ontogeny_females length 11978538\n"
     ]
    },
    {
     "data": {
      "application/vnd.jupyter.widget-view+json": {
       "model_id": "2820ffcedd58436199de2122ab90dd21",
       "version_major": 2,
       "version_minor": 0
      },
      "text/plain": [
       "  0%|          | 0/216 [00:00<?, ?it/s]"
      ]
     },
     "metadata": {},
     "output_type": "display_data"
    },
    {
     "name": "stdout",
     "output_type": "stream",
     "text": [
      "failure 3d2f89d8-0c8b-4bd1-8897-c1101db2dd96 All arrays must be of the same length\n",
      "failure d0e75973-54c7-4572-af5a-dd51aab605ca All arrays must be of the same length\n",
      "failure 2008df9d-e8cd-48be-8e48-5a8adaf331d4 All arrays must be of the same length\n",
      "ontogeny_males length 11493813\n"
     ]
    },
    {
     "data": {
      "application/vnd.jupyter.widget-view+json": {
       "model_id": "6f8040800b4449e4b98442ac351f15bc",
       "version_major": 2,
       "version_minor": 0
      },
      "text/plain": [
       "  0%|          | 0/1096 [00:00<?, ?it/s]"
      ]
     },
     "metadata": {},
     "output_type": "display_data"
    },
    {
     "name": "stdout",
     "output_type": "stream",
     "text": [
      "failure 840a5b11-187a-471a-95f5-199c5bcd5014 All arrays must be of the same length\n",
      "failure 04614d47-178a-43f7-aab7-1a00a37b5d05 All arrays must be of the same length\n",
      "failure 9b2d68e3-c266-4af2-921c-ad4203e70cf0 All arrays must be of the same length\n",
      "failure eb7bec68-81f4-43de-b3cc-21a440f1042e All arrays must be of the same length\n",
      "failure fcd074ad-e38c-4864-a1af-fcf7a2c8dacc All arrays must be of the same length\n",
      "failure eedb6a08-7323-4833-bb58-f9c39e8c4f29 All arrays must be of the same length\n",
      "failure 44bd76a8-1e82-4210-91d6-1bdc6cbf6d87 All arrays must be of the same length\n",
      "failure e2d324ed-c7c2-4a2a-907e-cb4ad44d610f All arrays must be of the same length\n",
      "failure 6e072e8c-05ca-4b47-8983-238172d42ac1 All arrays must be of the same length\n",
      "failure e1e937d1-eb7b-4de4-81c4-d0eb6b4123e5 All arrays must be of the same length\n",
      "failure d0624d72-cc73-4b93-aec0-58008161f43d All arrays must be of the same length\n",
      "failure c18d5fe6-5e0e-4374-8dae-961ae3334637 All arrays must be of the same length\n",
      "failure dc4e663e-9e0f-4ba7-85cf-c2ce2eb7f078 All arrays must be of the same length\n",
      "failure a862d62a-f9ac-4ccf-af69-3b49c3b6acc8 All arrays must be of the same length\n",
      "failure 5dc409ec-c8ac-47f8-94df-49b7e96f1ce6 All arrays must be of the same length\n",
      "failure 3b0b9e81-9472-4cd5-8b08-8a5d7f5059dd All arrays must be of the same length\n",
      "failure 4c9aae29-73ae-4164-8db0-659833f5f139 All arrays must be of the same length\n",
      "failure a5385e80-ad18-49ef-b156-b25cf0149ffc All arrays must be of the same length\n",
      "failure 121eda38-838d-4561-be39-01de27d84bbb All arrays must be of the same length\n",
      "failure aeab5717-2bd9-48a8-99da-7f9741b52249 All arrays must be of the same length\n",
      "failure 420abe76-145f-4548-b776-481b3ad89fcf All arrays must be of the same length\n",
      "failure 067501d7-5a81-433e-9fdf-08717bb35b62 All arrays must be of the same length\n",
      "failure 035d9ee3-7a92-4a5f-9716-61a259e1b5e8 All arrays must be of the same length\n",
      "failure a4a1a46d-dc72-404a-8d4e-2053841ef8d6 All arrays must be of the same length\n",
      "failure 7fe0c59e-0f8a-4ff1-9260-ae4a137985c4 All arrays must be of the same length\n",
      "failure 69033f18-252f-4053-8987-87f6efd1cbb3 All arrays must be of the same length\n",
      "failure ae2124f9-1aa0-4112-bbaf-8648c490e6f8 All arrays must be of the same length\n",
      "failure bb08650b-e790-400e-9f58-2847d332af7e All arrays must be of the same length\n",
      "failure 5ce4a0a1-f3b8-490c-8a20-fc745c80b340 All arrays must be of the same length\n",
      "failure b29c4d14-3e47-4ab9-8744-fb45862cc03c All arrays must be of the same length\n",
      "failure e4f1076b-5c5e-42a0-9022-0c7534ddda00 All arrays must be of the same length\n",
      "failure 1805454c-fd7a-4612-bca2-d9f445ed4bce All arrays must be of the same length\n",
      "failure 4ba672fb-c6d5-44f6-8cf8-689e337ab76b All arrays must be of the same length\n",
      "failure 27716aae-5ed6-4750-bdd4-58d17b35a52b All arrays must be of the same length\n",
      "failure ff8a11af-5b32-4ea0-84a1-71fa6584b129 All arrays must be of the same length\n",
      "failure 643dbcfd-7e51-41b4-b0d9-af45868c5de0 All arrays must be of the same length\n",
      "failure 2e0b97fa-d492-41f2-b5fe-1209cc87ca4a All arrays must be of the same length\n",
      "failure c3f80c9f-a714-42ae-8f65-1cfd09a87c10 All arrays must be of the same length\n",
      "failure 6cc6e46e-7049-4a53-a9c0-51686f0b0499 All arrays must be of the same length\n",
      "failure b491056f-6deb-48cf-849c-125d3615c2be All arrays must be of the same length\n",
      "failure ca227880-93b6-4d74-9dbe-b3e7b2200da2 All arrays must be of the same length\n",
      "failure 6e2e8904-1edb-46ba-8f90-5c8ed2b2a2f9 All arrays must be of the same length\n",
      "failure f791d3a2-31b1-42f0-ab50-335f7a0cfd08 All arrays must be of the same length\n",
      "failure 45564516-6d6a-4d59-a0e2-a96d6c60a7ec All arrays must be of the same length\n",
      "longtogeny_males length 37649629\n"
     ]
    },
    {
     "data": {
      "application/vnd.jupyter.widget-view+json": {
       "model_id": "be0535786547467fb20490aced6c0b9e",
       "version_major": 2,
       "version_minor": 0
      },
      "text/plain": [
       "  0%|          | 0/537 [00:00<?, ?it/s]"
      ]
     },
     "metadata": {},
     "output_type": "display_data"
    },
    {
     "name": "stdout",
     "output_type": "stream",
     "text": [
      "failure 84ced407-cfd6-4656-968a-a33606f0c827 All arrays must be of the same length\n",
      "failure adb35ddf-57b7-42ca-88f2-40ff571e3140 All arrays must be of the same length\n",
      "failure da88a2b7-11ff-4548-8965-e936e829d0ba All arrays must be of the same length\n",
      "failure 4234e8dc-835b-4350-aad0-03ad2d29f0c2 All arrays must be of the same length\n",
      "failure 0f857ef2-ef50-4221-8394-43f5b10ce428 All arrays must be of the same length\n",
      "failure d52c3569-b074-4cac-963a-5f1b16821080 All arrays must be of the same length\n",
      "failure 3ffffe10-c1f9-4927-b729-da48dd4f7b34 All arrays must be of the same length\n",
      "failure e9859d7f-f8c9-4d6a-a733-54a5948f39c2 All arrays must be of the same length\n",
      "failure 1d199543-91ec-4101-97c4-df065c705267 All arrays must be of the same length\n",
      "failure be875a1e-6a75-4067-bad5-6115c1cb6056 All arrays must be of the same length\n",
      "failure ee09ee68-994a-43f3-bf41-7dc5f534d7ef All arrays must be of the same length\n",
      "failure 46f3a503-ae0e-46eb-a0f6-bbae443eb4d6 All arrays must be of the same length\n",
      "failure 9c76fa2e-d0cc-4523-a934-46c00db7869e All arrays must be of the same length\n",
      "failure 1f199182-008f-4a28-aed7-13e465ffd420 All arrays must be of the same length\n",
      "failure 6cb14892-e9d4-4467-84a7-bce4d0f63fc0 All arrays must be of the same length\n",
      "failure 56bdce04-3ec4-43a6-83a4-f2f7831da7d8 All arrays must be of the same length\n",
      "longtogeny_v2_females length 18735223\n"
     ]
    },
    {
     "data": {
      "application/vnd.jupyter.widget-view+json": {
       "model_id": "4a739185b43a4b6b82c0a0830e77e9a9",
       "version_major": 2,
       "version_minor": 0
      },
      "text/plain": [
       "  0%|          | 0/475 [00:00<?, ?it/s]"
      ]
     },
     "metadata": {},
     "output_type": "display_data"
    },
    {
     "name": "stdout",
     "output_type": "stream",
     "text": [
      "failure 9ab3cce7-5afb-490f-8be4-b187e1dea123 All arrays must be of the same length\n",
      "failure 36e36a1f-7ad4-43e2-98fd-ec16f1299739 All arrays must be of the same length\n",
      "failure 538d25f1-3681-45b5-a514-3a54e00429ec All arrays must be of the same length\n",
      "longtogeny_v2_males length 16973244\n"
     ]
    }
   ],
   "source": [
    "recon_frames_key = \"win_size_norm_frames_v4\"\n",
    "version = 0\n",
    "failed_sessions = []\n",
    "with h5py.File(syllable_path, \"r\") as h5f:\n",
    "    for experiment, uuids in exp_groups.items():\n",
    "        # remove this line to do everything\n",
    "        df = []\n",
    "        for i, (uuid, path) in enumerate(map(lambda u: (u, uuid_map[u]), tqdm(uuids))):\n",
    "            try:\n",
    "                with h5py.File(path, \"r\") as f:\n",
    "                    session_name = f[\"metadata/acquisition/SessionName\"][()].decode()\n",
    "                    subject_name = f[\"metadata/acquisition/SubjectName\"][()].decode()\n",
    "                    keep_scalars = list(filter(lambda k: \"mm\" in k, f[\"scalars\"])) + [\n",
    "                        \"angle\",\n",
    "                        \"velocity_theta\",\n",
    "                    ]\n",
    "\n",
    "                    ts = f[\"timestamps\"][()] / 1000\n",
    "                    scalars = dict((k, f[\"scalars\"][k][()]) for k in keep_scalars)\n",
    "                    filled_scalars = valmap(lambda v: insert_nans(ts, v)[0], scalars)\n",
    "                    filled_ts = insert_nans(ts, ts)[2]\n",
    "\n",
    "                    frames = f[recon_frames_key][()]\n",
    "                    centroid = np.array(\n",
    "                        [f[\"scalars/centroid_x_px\"][()], f[\"scalars/centroid_y_px\"][()]]\n",
    "                    ).T\n",
    "                    true_depth = f[\"metadata/extraction/true_depth\"][()]\n",
    "                    recon_scalars = compute_scalars(frames, centroid, true_depth)\n",
    "                    recon_scalars = valmap(\n",
    "                        lambda v: insert_nans(ts, v)[0], recon_scalars\n",
    "                    )\n",
    "            except KeyError:\n",
    "                session_name = \"\"\n",
    "                subject_name = \"\"\n",
    "                failed_sessions.append((uuid, path))\n",
    "            if \"longtogeny\" in experiment:\n",
    "                age = np.nan\n",
    "            elif \"ontogeny\" in experiment:\n",
    "                age = path.parents[2].name.split(\"_\")[0]\n",
    "            else:\n",
    "                age = np.nan\n",
    "            date = datetime.strptime(\n",
    "                path.parents[1].name.split(\"_\")[-1], \"%Y%m%d%H%M%S\"\n",
    "            )\n",
    "            try:\n",
    "                _df = pd.DataFrame(\n",
    "                    dict(\n",
    "                        experiment=experiment,\n",
    "                        file=str(path),\n",
    "                        syllables=h5f[uuid][()],\n",
    "                        date=date,\n",
    "                        uuid=uuid,\n",
    "                        age=age,\n",
    "                        true_depth=true_depth,\n",
    "                        session_name=session_name,\n",
    "                        subject_name=subject_name,\n",
    "                        timestamps=filled_ts - filled_ts[0],\n",
    "                        **filled_scalars,\n",
    "                        **recon_scalars,\n",
    "                    )\n",
    "                )\n",
    "                _df = _df.astype(\n",
    "                    dict(\n",
    "                        syllables=\"int16[pyarrow]\",\n",
    "                        file=\"string[pyarrow]\",\n",
    "                        experiment=\"string[pyarrow]\",\n",
    "                        uuid=\"string[pyarrow]\",\n",
    "                        session_name=\"string[pyarrow]\",\n",
    "                        subject_name=\"string[pyarrow]\",\n",
    "                        timestamps=\"float32[pyarrow]\",\n",
    "                        true_depth=\"float32[pyarrow]\",\n",
    "                        **{\n",
    "                            k: \"float32[pyarrow]\"\n",
    "                            for k in list(filled_scalars) + list(recon_scalars)\n",
    "                        },\n",
    "                    )\n",
    "                )\n",
    "                df.append(_df)\n",
    "                if i % 35 == 0:\n",
    "                    pd.concat(df, ignore_index=True).to_parquet(\n",
    "                        data_folder / f\"{experiment}_syllable_df_v{version:02d}.parquet\"\n",
    "                    )\n",
    "            except ValueError as e:\n",
    "                print('failure', uuid, e)\n",
    "                failed_sessions.append((uuid, path))\n",
    "        df = pd.concat(df, ignore_index=True)\n",
    "        df.to_parquet(data_folder / f\"{experiment}_syllable_df_v{version:02d}.parquet\")\n",
    "        print(experiment, \"length\", len(df))"
   ]
  },
  {
   "cell_type": "code",
   "execution_count": 11,
   "id": "4e3662ac-3e29-419f-b753-e49b93358866",
   "metadata": {
    "tags": []
   },
   "outputs": [
    {
     "name": "stdout",
     "output_type": "stream",
     "text": [
      "<class 'pandas.core.frame.DataFrame'>\n",
      "RangeIndex: 16973244 entries, 0 to 16973243\n",
      "Data columns (total 24 columns):\n",
      " #   Column          Dtype         \n",
      "---  ------          -----         \n",
      " 0   experiment      string        \n",
      " 1   file            string        \n",
      " 2   syllables       int16[pyarrow]\n",
      " 3   date            datetime64[ns]\n",
      " 4   uuid            string        \n",
      " 5   age             float64       \n",
      " 6   true_depth      float[pyarrow]\n",
      " 7   session_name    string        \n",
      " 8   subject_name    string        \n",
      " 9   timestamps      float[pyarrow]\n",
      " 10  area_mm         float[pyarrow]\n",
      " 11  centroid_x_mm   float[pyarrow]\n",
      " 12  centroid_y_mm   float[pyarrow]\n",
      " 13  height_ave_mm   float[pyarrow]\n",
      " 14  length_mm       float[pyarrow]\n",
      " 15  velocity_2d_mm  float[pyarrow]\n",
      " 16  velocity_3d_mm  float[pyarrow]\n",
      " 17  width_mm        float[pyarrow]\n",
      " 18  angle           float[pyarrow]\n",
      " 19  velocity_theta  float[pyarrow]\n",
      " 20  recon_width     float[pyarrow]\n",
      " 21  recon_length    float[pyarrow]\n",
      " 22  recon_height    float[pyarrow]\n",
      " 23  recon_area      float[pyarrow]\n",
      "dtypes: datetime64[ns](1), float64(1), float[pyarrow](16), int16[pyarrow](1), string(5)\n",
      "memory usage: 4.2 GB\n"
     ]
    }
   ],
   "source": [
    "df.info()"
   ]
  },
  {
   "cell_type": "code",
   "execution_count": 12,
   "id": "56049a88-f07f-4d21-aadb-e5109e7548e3",
   "metadata": {},
   "outputs": [
    {
     "data": {
      "text/plain": [
       "79"
      ]
     },
     "execution_count": 12,
     "metadata": {},
     "output_type": "execute_result"
    }
   ],
   "source": [
    "len(failed_sessions)"
   ]
  },
  {
   "cell_type": "code",
   "execution_count": null,
   "id": "9009e6f2-6d08-4956-adf3-41823ee030eb",
   "metadata": {},
   "outputs": [],
   "source": []
  }
 ],
 "metadata": {
  "kernelspec": {
   "display_name": "Ontogeny",
   "language": "python",
   "name": "aging"
  },
  "language_info": {
   "codemirror_mode": {
    "name": "ipython",
    "version": 3
   },
   "file_extension": ".py",
   "mimetype": "text/x-python",
   "name": "python",
   "nbconvert_exporter": "python",
   "pygments_lexer": "ipython3",
   "version": "3.10.10"
  },
  "widgets": {
   "application/vnd.jupyter.widget-state+json": {
    "state": {
     "001a7d2d87d848af853212d532ebf30c": {
      "model_module": "@jupyter-widgets/base",
      "model_module_version": "2.0.0",
      "model_name": "LayoutModel",
      "state": {}
     },
     "072c679ae3e94147a1047c7e0764c5e7": {
      "model_module": "@jupyter-widgets/controls",
      "model_module_version": "2.0.0",
      "model_name": "HTMLStyleModel",
      "state": {
       "description_width": "",
       "font_size": null,
       "text_color": null
      }
     },
     "149c726bf7814fc286a4522bf6c78569": {
      "model_module": "@jupyter-widgets/controls",
      "model_module_version": "2.0.0",
      "model_name": "HTMLStyleModel",
      "state": {
       "description_width": "",
       "font_size": null,
       "text_color": null
      }
     },
     "191d716c537049419e6139129911ae5b": {
      "model_module": "@jupyter-widgets/controls",
      "model_module_version": "2.0.0",
      "model_name": "HTMLModel",
      "state": {
       "layout": "IPY_MODEL_cba47395fdb842248cb369a3d3595add",
       "style": "IPY_MODEL_3c3376e09c264898bac5a0c4de0ff918",
       "value": "100%"
      }
     },
     "1c0c04182dfa402eb63e38dffdf15b24": {
      "model_module": "@jupyter-widgets/controls",
      "model_module_version": "2.0.0",
      "model_name": "ProgressStyleModel",
      "state": {
       "description_width": ""
      }
     },
     "1c69fad0a6914140bb70da1b7d8fa47f": {
      "model_module": "@jupyter-widgets/controls",
      "model_module_version": "2.0.0",
      "model_name": "HBoxModel",
      "state": {
       "children": [
        "IPY_MODEL_e74c352d92eb4a1a912c46fd647720f1",
        "IPY_MODEL_2457eff4a6d44ce9ad7d24947e5238b9",
        "IPY_MODEL_7e7c77959cba4488b746bcd1d669683d"
       ],
       "layout": "IPY_MODEL_9943e649a7ce4471a9f552d41a1503db"
      }
     },
     "2457eff4a6d44ce9ad7d24947e5238b9": {
      "model_module": "@jupyter-widgets/controls",
      "model_module_version": "2.0.0",
      "model_name": "FloatProgressModel",
      "state": {
       "bar_style": "success",
       "layout": "IPY_MODEL_345252ed7aa54a899b3b2f01b42f57b3",
       "max": 224,
       "style": "IPY_MODEL_f8d233f9a36c4e11ac084f72558d296a",
       "value": 224
      }
     },
     "25a274d256bd4220b81374f16613550d": {
      "model_module": "@jupyter-widgets/controls",
      "model_module_version": "2.0.0",
      "model_name": "HTMLModel",
      "state": {
       "layout": "IPY_MODEL_50748e62186542fa99d039389c59e7c1",
       "style": "IPY_MODEL_90dd82eba1b048b5849f39a9466f531f",
       "value": " 2602/? [00:31&lt;00:00, 93.32it/s]"
      }
     },
     "27c48f53adeb40649b945a38db64bf39": {
      "model_module": "@jupyter-widgets/controls",
      "model_module_version": "2.0.0",
      "model_name": "HTMLStyleModel",
      "state": {
       "description_width": "",
       "font_size": null,
       "text_color": null
      }
     },
     "2820ffcedd58436199de2122ab90dd21": {
      "model_module": "@jupyter-widgets/controls",
      "model_module_version": "2.0.0",
      "model_name": "HBoxModel",
      "state": {
       "children": [
        "IPY_MODEL_b6aff1651b8f4069ae267e4a7cdb3616",
        "IPY_MODEL_a1d7583b59af406aba7e232831413f51",
        "IPY_MODEL_631e1e6f89014e53a0c1a27d85006c95"
       ],
       "layout": "IPY_MODEL_fdfebe8f795346febd4962f0fc7a0270"
      }
     },
     "2da42f7bd3074a6eb21092ec6ca9ddbc": {
      "model_module": "@jupyter-widgets/controls",
      "model_module_version": "2.0.0",
      "model_name": "HTMLStyleModel",
      "state": {
       "description_width": "",
       "font_size": null,
       "text_color": null
      }
     },
     "345252ed7aa54a899b3b2f01b42f57b3": {
      "model_module": "@jupyter-widgets/base",
      "model_module_version": "2.0.0",
      "model_name": "LayoutModel",
      "state": {}
     },
     "37dab2ac65ed4465bfa3cb50691fa3b5": {
      "model_module": "@jupyter-widgets/controls",
      "model_module_version": "2.0.0",
      "model_name": "FloatProgressModel",
      "state": {
       "bar_style": "success",
       "layout": "IPY_MODEL_c8e875935fed47c499f9b9840c15f881",
       "max": 475,
       "style": "IPY_MODEL_7d7454a8f26f43b4ba8f300f03653bec",
       "value": 475
      }
     },
     "3887fdb333a9465cb9ec8edcd60c88ef": {
      "model_module": "@jupyter-widgets/controls",
      "model_module_version": "2.0.0",
      "model_name": "HTMLModel",
      "state": {
       "layout": "IPY_MODEL_ab56c230b2c54192805f8b8191d349b0",
       "style": "IPY_MODEL_d0396a11a26c48558771143e871fa996",
       "value": "100%"
      }
     },
     "3c3376e09c264898bac5a0c4de0ff918": {
      "model_module": "@jupyter-widgets/controls",
      "model_module_version": "2.0.0",
      "model_name": "HTMLStyleModel",
      "state": {
       "description_width": "",
       "font_size": null,
       "text_color": null
      }
     },
     "4054a58cf9be4070a1309214e112d39a": {
      "model_module": "@jupyter-widgets/base",
      "model_module_version": "2.0.0",
      "model_name": "LayoutModel",
      "state": {}
     },
     "41d480d06e234e0b87b92b9ca2de8c00": {
      "model_module": "@jupyter-widgets/controls",
      "model_module_version": "2.0.0",
      "model_name": "HTMLModel",
      "state": {
       "layout": "IPY_MODEL_5e1325ab8b76475299f400ff1563683b",
       "style": "IPY_MODEL_149c726bf7814fc286a4522bf6c78569",
       "value": " 537/537 [1:34:23&lt;00:00, 14.99s/it]"
      }
     },
     "429e9035362c45fa8debb351cf4ac7ab": {
      "model_module": "@jupyter-widgets/base",
      "model_module_version": "2.0.0",
      "model_name": "LayoutModel",
      "state": {}
     },
     "45b333891ae94480a53d7744b8587ad8": {
      "model_module": "@jupyter-widgets/base",
      "model_module_version": "2.0.0",
      "model_name": "LayoutModel",
      "state": {}
     },
     "473ef5a9ccf74fac98472f4b1f61fb4c": {
      "model_module": "@jupyter-widgets/controls",
      "model_module_version": "2.0.0",
      "model_name": "FloatProgressModel",
      "state": {
       "bar_style": "success",
       "layout": "IPY_MODEL_a86224a4dbc74272ad305cf02c124b32",
       "max": 1,
       "style": "IPY_MODEL_1c0c04182dfa402eb63e38dffdf15b24",
       "value": 1
      }
     },
     "47bc48ca3d604614863fd97ea7b2d8bc": {
      "model_module": "@jupyter-widgets/base",
      "model_module_version": "2.0.0",
      "model_name": "LayoutModel",
      "state": {}
     },
     "4a739185b43a4b6b82c0a0830e77e9a9": {
      "model_module": "@jupyter-widgets/controls",
      "model_module_version": "2.0.0",
      "model_name": "HBoxModel",
      "state": {
       "children": [
        "IPY_MODEL_191d716c537049419e6139129911ae5b",
        "IPY_MODEL_37dab2ac65ed4465bfa3cb50691fa3b5",
        "IPY_MODEL_ad69b905c39d45e0a23940fce864edcf"
       ],
       "layout": "IPY_MODEL_45b333891ae94480a53d7744b8587ad8"
      }
     },
     "4dc71dc8e1cd42be8266c5d8e0a6e8a1": {
      "model_module": "@jupyter-widgets/controls",
      "model_module_version": "2.0.0",
      "model_name": "ProgressStyleModel",
      "state": {
       "description_width": ""
      }
     },
     "50748e62186542fa99d039389c59e7c1": {
      "model_module": "@jupyter-widgets/base",
      "model_module_version": "2.0.0",
      "model_name": "LayoutModel",
      "state": {}
     },
     "5302f0167a4049dabd22654603979497": {
      "model_module": "@jupyter-widgets/controls",
      "model_module_version": "2.0.0",
      "model_name": "ProgressStyleModel",
      "state": {
       "description_width": ""
      }
     },
     "5c2f44e3a00c40d3b04829fb41efd882": {
      "model_module": "@jupyter-widgets/base",
      "model_module_version": "2.0.0",
      "model_name": "LayoutModel",
      "state": {}
     },
     "5e1325ab8b76475299f400ff1563683b": {
      "model_module": "@jupyter-widgets/base",
      "model_module_version": "2.0.0",
      "model_name": "LayoutModel",
      "state": {}
     },
     "5fcaab0f5955431da8b47058f49f5b11": {
      "model_module": "@jupyter-widgets/base",
      "model_module_version": "2.0.0",
      "model_name": "LayoutModel",
      "state": {}
     },
     "610c3619f162492fbdc11b3facec1b5b": {
      "model_module": "@jupyter-widgets/controls",
      "model_module_version": "2.0.0",
      "model_name": "HTMLStyleModel",
      "state": {
       "description_width": "",
       "font_size": null,
       "text_color": null
      }
     },
     "61c134f28a534cbd9695cd4e203f16c9": {
      "model_module": "@jupyter-widgets/base",
      "model_module_version": "2.0.0",
      "model_name": "LayoutModel",
      "state": {}
     },
     "627654460852461a91c395c9c6b0fc0e": {
      "model_module": "@jupyter-widgets/controls",
      "model_module_version": "2.0.0",
      "model_name": "HTMLStyleModel",
      "state": {
       "description_width": "",
       "font_size": null,
       "text_color": null
      }
     },
     "631e1e6f89014e53a0c1a27d85006c95": {
      "model_module": "@jupyter-widgets/controls",
      "model_module_version": "2.0.0",
      "model_name": "HTMLModel",
      "state": {
       "layout": "IPY_MODEL_61c134f28a534cbd9695cd4e203f16c9",
       "style": "IPY_MODEL_27c48f53adeb40649b945a38db64bf39",
       "value": " 216/216 [53:07&lt;00:00, 15.49s/it]"
      }
     },
     "688c4ca495644f1c950e77b1ff5653eb": {
      "model_module": "@jupyter-widgets/base",
      "model_module_version": "2.0.0",
      "model_name": "LayoutModel",
      "state": {}
     },
     "6f8040800b4449e4b98442ac351f15bc": {
      "model_module": "@jupyter-widgets/controls",
      "model_module_version": "2.0.0",
      "model_name": "HBoxModel",
      "state": {
       "children": [
        "IPY_MODEL_3887fdb333a9465cb9ec8edcd60c88ef",
        "IPY_MODEL_f52be8871fb345f691c61a10e1c6431a",
        "IPY_MODEL_c0e3f7a23eb9463bb9b70fb56aab62f2"
       ],
       "layout": "IPY_MODEL_001a7d2d87d848af853212d532ebf30c"
      }
     },
     "7033b9ed9efc4f1d8fb7daac1b0af9d2": {
      "model_module": "@jupyter-widgets/base",
      "model_module_version": "2.0.0",
      "model_name": "LayoutModel",
      "state": {}
     },
     "725f6966e2cf4c8888d556e1d2f83cfe": {
      "model_module": "@jupyter-widgets/controls",
      "model_module_version": "2.0.0",
      "model_name": "FloatProgressModel",
      "state": {
       "bar_style": "success",
       "layout": "IPY_MODEL_47bc48ca3d604614863fd97ea7b2d8bc",
       "max": 537,
       "style": "IPY_MODEL_4dc71dc8e1cd42be8266c5d8e0a6e8a1",
       "value": 537
      }
     },
     "76802a23915b4cf8b6fac8ce949072a6": {
      "model_module": "@jupyter-widgets/base",
      "model_module_version": "2.0.0",
      "model_name": "LayoutModel",
      "state": {}
     },
     "7d7454a8f26f43b4ba8f300f03653bec": {
      "model_module": "@jupyter-widgets/controls",
      "model_module_version": "2.0.0",
      "model_name": "ProgressStyleModel",
      "state": {
       "description_width": ""
      }
     },
     "7e7c77959cba4488b746bcd1d669683d": {
      "model_module": "@jupyter-widgets/controls",
      "model_module_version": "2.0.0",
      "model_name": "HTMLModel",
      "state": {
       "layout": "IPY_MODEL_5fcaab0f5955431da8b47058f49f5b11",
       "style": "IPY_MODEL_610c3619f162492fbdc11b3facec1b5b",
       "value": " 224/224 [55:19&lt;00:00, 14.79s/it]"
      }
     },
     "7ea2edfd90f2434c9d55c3f53a75b996": {
      "model_module": "@jupyter-widgets/base",
      "model_module_version": "2.0.0",
      "model_name": "LayoutModel",
      "state": {}
     },
     "90dd82eba1b048b5849f39a9466f531f": {
      "model_module": "@jupyter-widgets/controls",
      "model_module_version": "2.0.0",
      "model_name": "HTMLStyleModel",
      "state": {
       "description_width": "",
       "font_size": null,
       "text_color": null
      }
     },
     "9943e649a7ce4471a9f552d41a1503db": {
      "model_module": "@jupyter-widgets/base",
      "model_module_version": "2.0.0",
      "model_name": "LayoutModel",
      "state": {}
     },
     "a1d7583b59af406aba7e232831413f51": {
      "model_module": "@jupyter-widgets/controls",
      "model_module_version": "2.0.0",
      "model_name": "FloatProgressModel",
      "state": {
       "bar_style": "success",
       "layout": "IPY_MODEL_4054a58cf9be4070a1309214e112d39a",
       "max": 216,
       "style": "IPY_MODEL_5302f0167a4049dabd22654603979497",
       "value": 216
      }
     },
     "a86224a4dbc74272ad305cf02c124b32": {
      "model_module": "@jupyter-widgets/base",
      "model_module_version": "2.0.0",
      "model_name": "LayoutModel",
      "state": {
       "width": "20px"
      }
     },
     "ab56c230b2c54192805f8b8191d349b0": {
      "model_module": "@jupyter-widgets/base",
      "model_module_version": "2.0.0",
      "model_name": "LayoutModel",
      "state": {}
     },
     "ad69b905c39d45e0a23940fce864edcf": {
      "model_module": "@jupyter-widgets/controls",
      "model_module_version": "2.0.0",
      "model_name": "HTMLModel",
      "state": {
       "layout": "IPY_MODEL_429e9035362c45fa8debb351cf4ac7ab",
       "style": "IPY_MODEL_072c679ae3e94147a1047c7e0764c5e7",
       "value": " 475/475 [1:21:26&lt;00:00,  9.59s/it]"
      }
     },
     "adfc6db6c47043618f4dec1f974aac3a": {
      "model_module": "@jupyter-widgets/base",
      "model_module_version": "2.0.0",
      "model_name": "LayoutModel",
      "state": {}
     },
     "b029e6df1df44fceabba2f4470df49fb": {
      "model_module": "@jupyter-widgets/controls",
      "model_module_version": "2.0.0",
      "model_name": "HTMLStyleModel",
      "state": {
       "description_width": "",
       "font_size": null,
       "text_color": null
      }
     },
     "b32e9084ec924c7ab04e102d8fb91b2f": {
      "model_module": "@jupyter-widgets/controls",
      "model_module_version": "2.0.0",
      "model_name": "HBoxModel",
      "state": {
       "children": [
        "IPY_MODEL_e4b986e001624374b6119989ca21e98f",
        "IPY_MODEL_473ef5a9ccf74fac98472f4b1f61fb4c",
        "IPY_MODEL_25a274d256bd4220b81374f16613550d"
       ],
       "layout": "IPY_MODEL_76802a23915b4cf8b6fac8ce949072a6"
      }
     },
     "b6aff1651b8f4069ae267e4a7cdb3616": {
      "model_module": "@jupyter-widgets/controls",
      "model_module_version": "2.0.0",
      "model_name": "HTMLModel",
      "state": {
       "layout": "IPY_MODEL_7033b9ed9efc4f1d8fb7daac1b0af9d2",
       "style": "IPY_MODEL_627654460852461a91c395c9c6b0fc0e",
       "value": "100%"
      }
     },
     "be0535786547467fb20490aced6c0b9e": {
      "model_module": "@jupyter-widgets/controls",
      "model_module_version": "2.0.0",
      "model_name": "HBoxModel",
      "state": {
       "children": [
        "IPY_MODEL_d8766306403e455a82131f40d6b1d3f8",
        "IPY_MODEL_725f6966e2cf4c8888d556e1d2f83cfe",
        "IPY_MODEL_41d480d06e234e0b87b92b9ca2de8c00"
       ],
       "layout": "IPY_MODEL_5c2f44e3a00c40d3b04829fb41efd882"
      }
     },
     "c0e3f7a23eb9463bb9b70fb56aab62f2": {
      "model_module": "@jupyter-widgets/controls",
      "model_module_version": "2.0.0",
      "model_name": "HTMLModel",
      "state": {
       "layout": "IPY_MODEL_c2209c20bae940ffb22e7288f9ef74af",
       "style": "IPY_MODEL_2da42f7bd3074a6eb21092ec6ca9ddbc",
       "value": " 1096/1096 [3:07:46&lt;00:00,  9.38s/it]"
      }
     },
     "c2209c20bae940ffb22e7288f9ef74af": {
      "model_module": "@jupyter-widgets/base",
      "model_module_version": "2.0.0",
      "model_name": "LayoutModel",
      "state": {}
     },
     "c8e875935fed47c499f9b9840c15f881": {
      "model_module": "@jupyter-widgets/base",
      "model_module_version": "2.0.0",
      "model_name": "LayoutModel",
      "state": {}
     },
     "cba47395fdb842248cb369a3d3595add": {
      "model_module": "@jupyter-widgets/base",
      "model_module_version": "2.0.0",
      "model_name": "LayoutModel",
      "state": {}
     },
     "d0396a11a26c48558771143e871fa996": {
      "model_module": "@jupyter-widgets/controls",
      "model_module_version": "2.0.0",
      "model_name": "HTMLStyleModel",
      "state": {
       "description_width": "",
       "font_size": null,
       "text_color": null
      }
     },
     "d0c2691dcc194b66aa4c6a4eb2499083": {
      "model_module": "@jupyter-widgets/controls",
      "model_module_version": "2.0.0",
      "model_name": "HTMLStyleModel",
      "state": {
       "description_width": "",
       "font_size": null,
       "text_color": null
      }
     },
     "d8766306403e455a82131f40d6b1d3f8": {
      "model_module": "@jupyter-widgets/controls",
      "model_module_version": "2.0.0",
      "model_name": "HTMLModel",
      "state": {
       "layout": "IPY_MODEL_ef22d849f2474848865ea1453ba93247",
       "style": "IPY_MODEL_d0c2691dcc194b66aa4c6a4eb2499083",
       "value": "100%"
      }
     },
     "e3f216dec9c9415fbd5887d5a41f92c3": {
      "model_module": "@jupyter-widgets/controls",
      "model_module_version": "2.0.0",
      "model_name": "HTMLStyleModel",
      "state": {
       "description_width": "",
       "font_size": null,
       "text_color": null
      }
     },
     "e4b986e001624374b6119989ca21e98f": {
      "model_module": "@jupyter-widgets/controls",
      "model_module_version": "2.0.0",
      "model_name": "HTMLModel",
      "state": {
       "layout": "IPY_MODEL_adfc6db6c47043618f4dec1f974aac3a",
       "style": "IPY_MODEL_b029e6df1df44fceabba2f4470df49fb"
      }
     },
     "e74c352d92eb4a1a912c46fd647720f1": {
      "model_module": "@jupyter-widgets/controls",
      "model_module_version": "2.0.0",
      "model_name": "HTMLModel",
      "state": {
       "layout": "IPY_MODEL_7ea2edfd90f2434c9d55c3f53a75b996",
       "style": "IPY_MODEL_e3f216dec9c9415fbd5887d5a41f92c3",
       "value": "100%"
      }
     },
     "ef22d849f2474848865ea1453ba93247": {
      "model_module": "@jupyter-widgets/base",
      "model_module_version": "2.0.0",
      "model_name": "LayoutModel",
      "state": {}
     },
     "ef314e01e78544ddad4d4abd1d07cc46": {
      "model_module": "@jupyter-widgets/controls",
      "model_module_version": "2.0.0",
      "model_name": "ProgressStyleModel",
      "state": {
       "description_width": ""
      }
     },
     "f52be8871fb345f691c61a10e1c6431a": {
      "model_module": "@jupyter-widgets/controls",
      "model_module_version": "2.0.0",
      "model_name": "FloatProgressModel",
      "state": {
       "bar_style": "success",
       "layout": "IPY_MODEL_688c4ca495644f1c950e77b1ff5653eb",
       "max": 1096,
       "style": "IPY_MODEL_ef314e01e78544ddad4d4abd1d07cc46",
       "value": 1096
      }
     },
     "f8d233f9a36c4e11ac084f72558d296a": {
      "model_module": "@jupyter-widgets/controls",
      "model_module_version": "2.0.0",
      "model_name": "ProgressStyleModel",
      "state": {
       "description_width": ""
      }
     },
     "fdfebe8f795346febd4962f0fc7a0270": {
      "model_module": "@jupyter-widgets/base",
      "model_module_version": "2.0.0",
      "model_name": "LayoutModel",
      "state": {}
     }
    },
    "version_major": 2,
    "version_minor": 0
   }
  }
 },
 "nbformat": 4,
 "nbformat_minor": 5
}
