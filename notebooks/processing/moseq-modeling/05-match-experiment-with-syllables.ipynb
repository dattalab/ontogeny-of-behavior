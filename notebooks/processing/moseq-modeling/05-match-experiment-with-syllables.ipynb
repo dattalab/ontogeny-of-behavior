{
 "cells": [
  {
   "cell_type": "markdown",
   "id": "da727b1e-e418-443c-9fce-881bd4ba6863",
   "metadata": {},
   "source": [
    "# Take inferred syllables from ARHMM and assign mouse ID and experiment to each session"
   ]
  },
  {
   "cell_type": "code",
   "execution_count": 1,
   "id": "9aa78d85-33c0-4298-a61e-1d32c52ff5b4",
   "metadata": {
    "tags": []
   },
   "outputs": [],
   "source": [
    "import cv2\n",
    "import h5py\n",
    "import numpy as np\n",
    "import pandas as pd\n",
    "from copy import deepcopy\n",
    "from toolz import concat, curry, compose, valmap\n",
    "from tqdm.auto import tqdm\n",
    "from pathlib import Path\n",
    "from datetime import datetime"
   ]
  },
  {
   "cell_type": "code",
   "execution_count": 2,
   "id": "95056800-ad02-4ab1-8960-55059a98ef1e",
   "metadata": {
    "tags": []
   },
   "outputs": [],
   "source": [
    "folders = [\n",
    "    '/n/groups/datta/Dana/Ontogeny/raw_data/Ontogeny_females',\n",
    "    '/n/groups/datta/Dana/Ontogeny/raw_data/Ontogeny_males',\n",
    "    '/n/groups/datta/Dana/Ontogeny/raw_data/longtogeny_pre_unet/Females',\n",
    "    '/n/groups/datta/Dana/Ontogeny/raw_data/longtogeny_pre_unet/Males',\n",
    "    # '/n/groups/datta/min/dominance_v1',\n",
    "    # '/n/groups/datta/min/community_v1',\n",
    "    # '/n/groups/datta/min/wheel_062023',\n",
    "    # '/n/groups/datta/min/cas_behavior_01',\n",
    "]\n",
    "folders = [Path(f) for f in folders]"
   ]
  },
  {
   "cell_type": "code",
   "execution_count": 3,
   "id": "be492ef5-ef8e-4d7c-9fdd-d72baca35640",
   "metadata": {
    "tags": []
   },
   "outputs": [
    {
     "data": {
      "application/vnd.jupyter.widget-view+json": {
       "model_id": "50d5d2b240574fbe9615628c363ba8c1",
       "version_major": 2,
       "version_minor": 0
      },
      "text/plain": [
       "0it [00:00, ?it/s]"
      ]
     },
     "metadata": {},
     "output_type": "display_data"
    }
   ],
   "source": [
    "uuid_map = {}\n",
    "for file in tqdm(concat(f.glob('**/results_00.h5') for f in folders)):\n",
    "    with h5py.File(file, 'r') as h5f:\n",
    "        uuid = h5f['metadata/uuid'][()].decode()\n",
    "        uuid_map[uuid] = file"
   ]
  },
  {
   "cell_type": "code",
   "execution_count": 4,
   "id": "1db9d2bc-0ce4-407f-bc80-4a3ba4546a34",
   "metadata": {
    "tags": []
   },
   "outputs": [],
   "source": [
    "data_folder = Path('/n/groups/datta/win/longtogeny/data/ontogeny/version_03')"
   ]
  },
  {
   "cell_type": "code",
   "execution_count": 5,
   "id": "df45a5bb-46a4-4e67-8093-ddcb2f455e62",
   "metadata": {
    "tags": []
   },
   "outputs": [],
   "source": [
    "syllable_path = data_folder / 'all_data_pca/syllables.h5'"
   ]
  },
  {
   "cell_type": "code",
   "execution_count": 6,
   "id": "55a3e800-4315-4b0f-9cea-0c68419bf18a",
   "metadata": {
    "tags": []
   },
   "outputs": [
    {
     "name": "stdout",
     "output_type": "stream",
     "text": [
      "['ColorDataType', 'ColorResolution', 'DepthDataType', 'DepthResolution', 'IsLittleEndian', 'NidaqChannels', 'NidaqSamplingRate', 'SessionName', 'StartTime', 'SubjectName']\n"
     ]
    }
   ],
   "source": [
    "from toolz import first\n",
    "\n",
    "with h5py.File(first(uuid_map.values()), 'r') as h5f:\n",
    "    print(list(h5f['metadata/acquisition']))"
   ]
  },
  {
   "cell_type": "code",
   "execution_count": 7,
   "id": "8a40f9a7-9398-4e24-b727-4a9936c33799",
   "metadata": {
    "tags": []
   },
   "outputs": [],
   "source": [
    "# TODO: fill out data organization better here:\n",
    "experiments = (\n",
    "    'ontogeny_males',\n",
    "    'ontogeny_females',\n",
    "    'longtogeny_females',\n",
    "    'longtogeny_males',\n",
    "    # others...\n",
    ")"
   ]
  },
  {
   "cell_type": "code",
   "execution_count": 8,
   "id": "0f702e8b-e36a-4cbb-b5f4-9bb180dd7c2f",
   "metadata": {
    "tags": []
   },
   "outputs": [],
   "source": [
    "def get_experiment(path: Path):\n",
    "    if \"longtogeny\" in str(path):\n",
    "        sex = path.parents[3].name.lower()\n",
    "        if sex not in (\"males\", \"females\"):\n",
    "            sex = path.parents[2].name.lower()\n",
    "            if sex not in (\"males\", \"females\"):\n",
    "                raise ValueError(\"bleh\")\n",
    "        exp = f\"longtogeny_{sex}\"\n",
    "    elif \"ontogeny\" in str(path).lower() and \"community\" not in str(path):\n",
    "        exp = path.parents[3].name.lower()\n",
    "    else:\n",
    "        exp = path.parents[2].name\n",
    "    return exp\n",
    "\n",
    "\n",
    "@curry\n",
    "def is_experiment(experiment, uuid):\n",
    "    return experiment == get_experiment(uuid_map[uuid])\n",
    "\n",
    "\n",
    "def insert_nans(timestamps, data, fps=30):\n",
    "    df_timestamps = np.diff(np.insert(timestamps, 0, timestamps[0] - 1.0 / fps))\n",
    "    missing_frames = np.floor(df_timestamps / (1.0 / fps))\n",
    "\n",
    "    fill_idx = np.where(missing_frames > 1)[0]\n",
    "    data_idx = np.arange(len(timestamps)).astype('float64')\n",
    "\n",
    "    filled_data = deepcopy(data)\n",
    "    filled_timestamps = deepcopy(timestamps)\n",
    "\n",
    "    if filled_data.ndim == 1:\n",
    "        isvec = True\n",
    "        filled_data = filled_data[:, None]\n",
    "    else:\n",
    "        isvec = False\n",
    "    nframes, nfeatures = filled_data.shape\n",
    "\n",
    "    for idx in fill_idx[::-1]:\n",
    "        if idx < len(missing_frames):\n",
    "            ninserts = int(missing_frames[idx] - 1)\n",
    "            data_idx = np.insert(data_idx, idx, [np.nan] * ninserts)\n",
    "            insert_timestamps = timestamps[idx - 1] + \\\n",
    "                np.cumsum(np.ones(ninserts,) * 1.0 / fps)\n",
    "            filled_data = np.insert(filled_data, idx,\n",
    "                                    np.ones((ninserts, nfeatures)) * np.nan, axis=0)\n",
    "            filled_timestamps = np.insert(\n",
    "                filled_timestamps, idx, insert_timestamps)\n",
    "\n",
    "    if isvec:\n",
    "        filled_data = np.squeeze(filled_data)\n",
    "\n",
    "    return filled_data, data_idx, filled_timestamps\n",
    "\n",
    "\n",
    "def im_moment_features(frame):\n",
    "    frame_mask = frame > 10\n",
    "    cnts, _ = cv2.findContours(frame_mask.astype('uint8'), cv2.RETR_TREE, cv2.CHAIN_APPROX_SIMPLE)\n",
    "    tmp = np.array([cv2.contourArea(x) for x in cnts])\n",
    "    if tmp.size == 0:\n",
    "        return None\n",
    "    mouse_cnt = cnts[tmp.argmax()]\n",
    "    tmp = cv2.moments(mouse_cnt)\n",
    "    num = 2*tmp['mu11']\n",
    "    den = tmp['mu20']-tmp['mu02']\n",
    "\n",
    "    common = np.sqrt(4*np.square(tmp['mu11'])+np.square(den))\n",
    "\n",
    "    if tmp['m00'] == 0:\n",
    "        features = {\n",
    "            'orientation': np.nan,\n",
    "            'centroid': np.nan,\n",
    "            'axis_length': [np.nan, np.nan]}\n",
    "    else:\n",
    "        features = {\n",
    "            'orientation': -.5*np.arctan2(num, den),\n",
    "            'centroid': [tmp['m10']/tmp['m00'], tmp['m01']/tmp['m00']],\n",
    "            'axis_length': [2*np.sqrt(2)*np.sqrt((tmp['mu20']+tmp['mu02']+common)/tmp['m00']),\n",
    "                            2*np.sqrt(2)*np.sqrt((tmp['mu20']+tmp['mu02']-common)/tmp['m00'])]\n",
    "        }\n",
    "\n",
    "    return features\n",
    "\n",
    "\n",
    "def pxs_to_mm(coords, resolution=(512, 424), field_of_view=(70.6, 60), true_depth=673.1):\n",
    "\n",
    "    cx = resolution[0] // 2\n",
    "    cy = resolution[1] // 2\n",
    "\n",
    "    xhat = coords[:, 0] - cx\n",
    "    yhat = coords[:, 1] - cy\n",
    "\n",
    "    fw = resolution[0] / (2 * np.deg2rad(field_of_view[0] / 2))\n",
    "    fh = resolution[1] / (2 * np.deg2rad(field_of_view[1] / 2))\n",
    "\n",
    "    new_coords = np.zeros_like(coords)\n",
    "    new_coords[:, 0] = true_depth * xhat / fw\n",
    "    new_coords[:, 1] = true_depth * yhat / fh\n",
    "\n",
    "    return new_coords\n",
    "\n",
    "\n",
    "def compute_scalars(frames, centroid, true_depth):\n",
    "    centroid_mm = pxs_to_mm(centroid, true_depth=true_depth)\n",
    "    centroid_mm_shift = pxs_to_mm(centroid + 1, true_depth=true_depth)\n",
    "    px_to_mm = np.abs(centroid_mm_shift - centroid_mm)\n",
    "\n",
    "    width = []\n",
    "    length = []\n",
    "    height = []\n",
    "    for i, frame in enumerate(frames):\n",
    "        # compute ellipse\n",
    "        feats = im_moment_features(frame)\n",
    "        if feats is None:\n",
    "            width.append(np.nan)\n",
    "            length.append(np.nan)\n",
    "            height.append(np.nan)\n",
    "        else:\n",
    "            w = np.min(feats['axis_length'])\n",
    "            w = w * px_to_mm[i, 1]\n",
    "\n",
    "            l = np.max(feats['axis_length'])\n",
    "            l = l * px_to_mm[i, 0]\n",
    "\n",
    "            width.append(w)\n",
    "            length.append(l)\n",
    "            height.append(np.mean(frame[(frame > 10) & (frame < 100)]))\n",
    "    out = dict(recon_width=width, recon_length=length, recon_height=height)\n",
    "    return valmap(np.array, out)"
   ]
  },
  {
   "cell_type": "code",
   "execution_count": 9,
   "id": "2d80a671-67d6-4513-8b9f-78924b26bb5b",
   "metadata": {
    "tags": []
   },
   "outputs": [],
   "source": [
    "c_filter = curry(filter)"
   ]
  },
  {
   "cell_type": "code",
   "execution_count": null,
   "id": "e8b94c30-03c7-4ee9-ac6f-3ed2e79ca3f1",
   "metadata": {
    "tags": []
   },
   "outputs": [
    {
     "data": {
      "application/vnd.jupyter.widget-view+json": {
       "model_id": "5d0549c1e6e44c4f944a909371e4b4be",
       "version_major": 2,
       "version_minor": 0
      },
      "text/plain": [
       "0it [00:00, ?it/s]"
      ]
     },
     "metadata": {},
     "output_type": "display_data"
    },
    {
     "data": {
      "application/vnd.jupyter.widget-view+json": {
       "model_id": "3fc6a9d0df134ebe92557cc8e0e3d627",
       "version_major": 2,
       "version_minor": 0
      },
      "text/plain": [
       "  0%|          | 0/2085 [00:00<?, ?it/s]"
      ]
     },
     "metadata": {},
     "output_type": "display_data"
    },
    {
     "name": "stdout",
     "output_type": "stream",
     "text": [
      "longtogeny_males length 29812110\n"
     ]
    },
    {
     "data": {
      "application/vnd.jupyter.widget-view+json": {
       "model_id": "d76772a2cdb84231868c03ee532346bb",
       "version_major": 2,
       "version_minor": 0
      },
      "text/plain": [
       "  0%|          | 0/2085 [00:00<?, ?it/s]"
      ]
     },
     "metadata": {},
     "output_type": "display_data"
    }
   ],
   "source": [
    "recon_frames_key = 'win_size_norm_frames_v2'\n",
    "failed_sessions = []\n",
    "# batch_size = 200\n",
    "with h5py.File(syllable_path, \"r\") as h5f:\n",
    "    for experiment in tqdm(reversed(experiments[2:])):\n",
    "        df = []\n",
    "        experiment_filter = compose(\n",
    "            c_filter(is_experiment(experiment)),\n",
    "            c_filter(lambda u: u in uuid_map),\n",
    "        )\n",
    "        for i, (uuid, path) in enumerate(map(lambda u: (u, uuid_map[u]), experiment_filter(tqdm(h5f)))):\n",
    "            try:\n",
    "                with h5py.File(path, \"r\") as f:\n",
    "                    session_name = f[\"metadata/acquisition/SessionName\"][()].decode()\n",
    "                    subject_name = f[\"metadata/acquisition/SubjectName\"][()].decode()\n",
    "                    keep_scalars = list(filter(lambda k: 'mm' in k, f['scalars'])) + ['angle', 'velocity_theta']\n",
    "\n",
    "                    ts = f['timestamps'][()] / 1000\n",
    "                    scalars = dict((k, f['scalars'][k][()]) for k in keep_scalars)\n",
    "                    filled_scalars = valmap(lambda v: insert_nans(ts, v)[0], scalars)\n",
    "                    filled_ts = insert_nans(ts, ts)[2]\n",
    "\n",
    "                    frames = f[recon_frames_key][()]\n",
    "                    centroid = np.array([f['scalars/centroid_x_px'][()], f['scalars/centroid_y_px'][()]]).T\n",
    "                    true_depth = f['metadata/extraction/true_depth'][()]\n",
    "                    recon_scalars = compute_scalars(frames, centroid, true_depth)\n",
    "                    recon_scalars = valmap(lambda v: insert_nans(ts, v)[0], recon_scalars)\n",
    "            except KeyError:\n",
    "                session_name = \"\"\n",
    "                subject_name = \"\"\n",
    "            if \"longtogeny\" in experiment:\n",
    "                age = None\n",
    "            elif \"ontogeny\" in experiment:\n",
    "                age = path.parents[2].name.split(\"_\")[0]\n",
    "            else:\n",
    "                age = None\n",
    "            date = datetime.strptime(\n",
    "                path.parents[1].name.split(\"_\")[-1], \"%Y%m%d%H%M%S\"\n",
    "            )\n",
    "            try:\n",
    "                _df = pd.DataFrame(\n",
    "                    dict(\n",
    "                        experiment=experiment,\n",
    "                        file=str(path),\n",
    "                        syllables=h5f[uuid][()],\n",
    "                        date=date,\n",
    "                        uuid=uuid,\n",
    "                        age=age,\n",
    "                        session_name=session_name,\n",
    "                        subject_name=subject_name,\n",
    "                        timestamps=filled_ts - filled_ts[0],\n",
    "                        **filled_scalars,\n",
    "                        **recon_scalars,\n",
    "                    )\n",
    "                )\n",
    "                _df = _df.astype(\n",
    "                    dict(\n",
    "                        syllables=\"int16\",\n",
    "                        file=pd.StringDtype(),\n",
    "                        experiment=pd.StringDtype(),\n",
    "                        uuid=pd.StringDtype(),\n",
    "                        session_name=pd.StringDtype(),\n",
    "                        subject_name=pd.StringDtype(),\n",
    "                        timestamps='float32',\n",
    "                    )\n",
    "                )\n",
    "                df.append(_df)\n",
    "                if i % 20 == 0:\n",
    "                    pd.concat(df, ignore_index=True).to_parquet(data_folder / f\"{experiment}_syllable_df.parquet\")\n",
    "            except ValueError:\n",
    "                failed_sessions.append((uuid, path))\n",
    "        df = pd.concat(df, ignore_index=True)\n",
    "        df.to_parquet(data_folder / f\"{experiment}_syllable_df.parquet\")\n",
    "        print(experiment, 'length', len(df))"
   ]
  },
  {
   "cell_type": "code",
   "execution_count": null,
   "id": "d93ced12-524e-4b69-a506-03c7ea2f8e40",
   "metadata": {
    "tags": []
   },
   "outputs": [],
   "source": [
    "with h5py.File(syllable_path, \"r\") as h5f:\n",
    "    print(len(h5f[uuid]))"
   ]
  },
  {
   "cell_type": "code",
   "execution_count": null,
   "id": "4e3662ac-3e29-419f-b753-e49b93358866",
   "metadata": {
    "tags": []
   },
   "outputs": [],
   "source": [
    "df.info()"
   ]
  },
  {
   "cell_type": "code",
   "execution_count": null,
   "id": "56049a88-f07f-4d21-aadb-e5109e7548e3",
   "metadata": {},
   "outputs": [],
   "source": []
  }
 ],
 "metadata": {
  "kernelspec": {
   "display_name": "Ontogeny",
   "language": "python",
   "name": "aging"
  },
  "language_info": {
   "codemirror_mode": {
    "name": "ipython",
    "version": 3
   },
   "file_extension": ".py",
   "mimetype": "text/x-python",
   "name": "python",
   "nbconvert_exporter": "python",
   "pygments_lexer": "ipython3",
   "version": "3.10.10"
  },
  "widgets": {
   "application/vnd.jupyter.widget-state+json": {
    "state": {
     "09fa7f91c8aa437cb9ad5b846f85cd82": {
      "model_module": "@jupyter-widgets/base",
      "model_module_version": "2.0.0",
      "model_name": "LayoutModel",
      "state": {}
     },
     "0f7a843e68064f41a31778146a6091d7": {
      "model_module": "@jupyter-widgets/controls",
      "model_module_version": "2.0.0",
      "model_name": "HTMLStyleModel",
      "state": {
       "description_width": "",
       "font_size": null,
       "text_color": null
      }
     },
     "1b324ae84662454dbe051a9f298be1ba": {
      "model_module": "@jupyter-widgets/controls",
      "model_module_version": "2.0.0",
      "model_name": "HTMLModel",
      "state": {
       "layout": "IPY_MODEL_838fb45e34c642f99acb0ceb08ea7f5e",
       "style": "IPY_MODEL_d676ebf14f46492688ceaa033c2dbdb4",
       "value": " 11/2085 [00:42&lt;2:04:32,  3.60s/it]"
      }
     },
     "1cf48eaa460348efb56909898711e8ec": {
      "model_module": "@jupyter-widgets/controls",
      "model_module_version": "2.0.0",
      "model_name": "HTMLModel",
      "state": {
       "layout": "IPY_MODEL_6f1ae6ea2de8499899e63e1b652307c8",
       "style": "IPY_MODEL_c82104d0b763482db8b87c1537a6f91f",
       "value": "  1%"
      }
     },
     "20ad359fc2414bdea7304dd2944de96d": {
      "model_module": "@jupyter-widgets/controls",
      "model_module_version": "2.0.0",
      "model_name": "HTMLStyleModel",
      "state": {
       "description_width": "",
       "font_size": null,
       "text_color": null
      }
     },
     "3ede90ff6f5a428295b85d2493a12f50": {
      "model_module": "@jupyter-widgets/controls",
      "model_module_version": "2.0.0",
      "model_name": "ProgressStyleModel",
      "state": {
       "description_width": ""
      }
     },
     "3fc6a9d0df134ebe92557cc8e0e3d627": {
      "model_module": "@jupyter-widgets/controls",
      "model_module_version": "2.0.0",
      "model_name": "HBoxModel",
      "state": {
       "children": [
        "IPY_MODEL_7e3e5cced88a4559ab33b7af4934d971",
        "IPY_MODEL_d82c140f7e204dc5a04d16ecb53100aa",
        "IPY_MODEL_ef75d0355eaa443f8428fee9162c4835"
       ],
       "layout": "IPY_MODEL_a2aeaefbf4914e3f9c6177f5cae17d4f"
      }
     },
     "4687ea61bd0e42758e52e11399c71eb3": {
      "model_module": "@jupyter-widgets/controls",
      "model_module_version": "2.0.0",
      "model_name": "ProgressStyleModel",
      "state": {
       "description_width": ""
      }
     },
     "4dc1d05508134bba85e6abb51384f414": {
      "model_module": "@jupyter-widgets/base",
      "model_module_version": "2.0.0",
      "model_name": "LayoutModel",
      "state": {}
     },
     "4f960d37d29c431c834dc8d0971ec46f": {
      "model_module": "@jupyter-widgets/controls",
      "model_module_version": "2.0.0",
      "model_name": "FloatProgressModel",
      "state": {
       "bar_style": "info",
       "layout": "IPY_MODEL_a4534d616e524c38b7b4aa8c0f2f3c1b",
       "max": 1,
       "style": "IPY_MODEL_4687ea61bd0e42758e52e11399c71eb3",
       "value": 1
      }
     },
     "50d5d2b240574fbe9615628c363ba8c1": {
      "model_module": "@jupyter-widgets/controls",
      "model_module_version": "2.0.0",
      "model_name": "HBoxModel",
      "state": {
       "children": [
        "IPY_MODEL_e10b17ea2bbc494f8a361515e8f8e401",
        "IPY_MODEL_a1d0ec7256b440b2898222b81a793389",
        "IPY_MODEL_81e82bb0309a45ef8c357ff8d73eda58"
       ],
       "layout": "IPY_MODEL_feb3d1035220411da4e41bef05cbb5a7"
      }
     },
     "51f8b821c11843778e9eb5cb2ec2126d": {
      "model_module": "@jupyter-widgets/base",
      "model_module_version": "2.0.0",
      "model_name": "LayoutModel",
      "state": {}
     },
     "5d0549c1e6e44c4f944a909371e4b4be": {
      "model_module": "@jupyter-widgets/controls",
      "model_module_version": "2.0.0",
      "model_name": "HBoxModel",
      "state": {
       "children": [
        "IPY_MODEL_9c3b9081c6fa414fb49a61bc040a3d74",
        "IPY_MODEL_4f960d37d29c431c834dc8d0971ec46f",
        "IPY_MODEL_a2abe0a02597416e85ff3a665888847e"
       ],
       "layout": "IPY_MODEL_09fa7f91c8aa437cb9ad5b846f85cd82"
      }
     },
     "5f325ea2262c4c91a289ee81c29931ce": {
      "model_module": "@jupyter-widgets/base",
      "model_module_version": "2.0.0",
      "model_name": "LayoutModel",
      "state": {}
     },
     "6f1ae6ea2de8499899e63e1b652307c8": {
      "model_module": "@jupyter-widgets/base",
      "model_module_version": "2.0.0",
      "model_name": "LayoutModel",
      "state": {}
     },
     "7070c71f714c434c93164b6dbaf5fe58": {
      "model_module": "@jupyter-widgets/base",
      "model_module_version": "2.0.0",
      "model_name": "LayoutModel",
      "state": {}
     },
     "77bfa1f132634a44af7dd46ace1876fd": {
      "model_module": "@jupyter-widgets/base",
      "model_module_version": "2.0.0",
      "model_name": "LayoutModel",
      "state": {}
     },
     "7e3e5cced88a4559ab33b7af4934d971": {
      "model_module": "@jupyter-widgets/controls",
      "model_module_version": "2.0.0",
      "model_name": "HTMLModel",
      "state": {
       "layout": "IPY_MODEL_51f8b821c11843778e9eb5cb2ec2126d",
       "style": "IPY_MODEL_0f7a843e68064f41a31778146a6091d7",
       "value": "100%"
      }
     },
     "81027671afda48698882ff217da6e587": {
      "model_module": "@jupyter-widgets/controls",
      "model_module_version": "2.0.0",
      "model_name": "ProgressStyleModel",
      "state": {
       "description_width": ""
      }
     },
     "81e82bb0309a45ef8c357ff8d73eda58": {
      "model_module": "@jupyter-widgets/controls",
      "model_module_version": "2.0.0",
      "model_name": "HTMLModel",
      "state": {
       "layout": "IPY_MODEL_7070c71f714c434c93164b6dbaf5fe58",
       "style": "IPY_MODEL_9da03bca6d7d43669b4dc1d7e598f239",
       "value": " 2532/? [00:51&lt;00:00, 45.09it/s]"
      }
     },
     "838fb45e34c642f99acb0ceb08ea7f5e": {
      "model_module": "@jupyter-widgets/base",
      "model_module_version": "2.0.0",
      "model_name": "LayoutModel",
      "state": {}
     },
     "874f6acfd980405997ec352fdd0f4f1e": {
      "model_module": "@jupyter-widgets/base",
      "model_module_version": "2.0.0",
      "model_name": "LayoutModel",
      "state": {}
     },
     "9326ffc26a4f4454832ffb5553638bb6": {
      "model_module": "@jupyter-widgets/controls",
      "model_module_version": "2.0.0",
      "model_name": "HTMLStyleModel",
      "state": {
       "description_width": "",
       "font_size": null,
       "text_color": null
      }
     },
     "9c3b9081c6fa414fb49a61bc040a3d74": {
      "model_module": "@jupyter-widgets/controls",
      "model_module_version": "2.0.0",
      "model_name": "HTMLModel",
      "state": {
       "layout": "IPY_MODEL_4dc1d05508134bba85e6abb51384f414",
       "style": "IPY_MODEL_9326ffc26a4f4454832ffb5553638bb6"
      }
     },
     "9da03bca6d7d43669b4dc1d7e598f239": {
      "model_module": "@jupyter-widgets/controls",
      "model_module_version": "2.0.0",
      "model_name": "HTMLStyleModel",
      "state": {
       "description_width": "",
       "font_size": null,
       "text_color": null
      }
     },
     "a1d0ec7256b440b2898222b81a793389": {
      "model_module": "@jupyter-widgets/controls",
      "model_module_version": "2.0.0",
      "model_name": "FloatProgressModel",
      "state": {
       "bar_style": "success",
       "layout": "IPY_MODEL_e8368978c81b41b280d69f3b49c83547",
       "max": 1,
       "style": "IPY_MODEL_81027671afda48698882ff217da6e587",
       "value": 1
      }
     },
     "a2abe0a02597416e85ff3a665888847e": {
      "model_module": "@jupyter-widgets/controls",
      "model_module_version": "2.0.0",
      "model_name": "HTMLModel",
      "state": {
       "layout": "IPY_MODEL_77bfa1f132634a44af7dd46ace1876fd",
       "style": "IPY_MODEL_eb4b34b6cd0b435b80f1d98784fb50aa",
       "value": " 1/? [2:44:43&lt;00:00, 9883.15s/it]"
      }
     },
     "a2aeaefbf4914e3f9c6177f5cae17d4f": {
      "model_module": "@jupyter-widgets/base",
      "model_module_version": "2.0.0",
      "model_name": "LayoutModel",
      "state": {}
     },
     "a4534d616e524c38b7b4aa8c0f2f3c1b": {
      "model_module": "@jupyter-widgets/base",
      "model_module_version": "2.0.0",
      "model_name": "LayoutModel",
      "state": {
       "width": "20px"
      }
     },
     "ba468296898c4bd89e69b4b77e4c0dd9": {
      "model_module": "@jupyter-widgets/controls",
      "model_module_version": "2.0.0",
      "model_name": "HTMLStyleModel",
      "state": {
       "description_width": "",
       "font_size": null,
       "text_color": null
      }
     },
     "bf696b2a77f2496aae7354440c99fff1": {
      "model_module": "@jupyter-widgets/base",
      "model_module_version": "2.0.0",
      "model_name": "LayoutModel",
      "state": {}
     },
     "c82104d0b763482db8b87c1537a6f91f": {
      "model_module": "@jupyter-widgets/controls",
      "model_module_version": "2.0.0",
      "model_name": "HTMLStyleModel",
      "state": {
       "description_width": "",
       "font_size": null,
       "text_color": null
      }
     },
     "d52d622308664539b05e4b78cc964586": {
      "model_module": "@jupyter-widgets/controls",
      "model_module_version": "2.0.0",
      "model_name": "ProgressStyleModel",
      "state": {
       "description_width": ""
      }
     },
     "d676ebf14f46492688ceaa033c2dbdb4": {
      "model_module": "@jupyter-widgets/controls",
      "model_module_version": "2.0.0",
      "model_name": "HTMLStyleModel",
      "state": {
       "description_width": "",
       "font_size": null,
       "text_color": null
      }
     },
     "d76772a2cdb84231868c03ee532346bb": {
      "model_module": "@jupyter-widgets/controls",
      "model_module_version": "2.0.0",
      "model_name": "HBoxModel",
      "state": {
       "children": [
        "IPY_MODEL_1cf48eaa460348efb56909898711e8ec",
        "IPY_MODEL_e69dbee2808e4ac3b4a2c8a4a28dc3ae",
        "IPY_MODEL_1b324ae84662454dbe051a9f298be1ba"
       ],
       "layout": "IPY_MODEL_5f325ea2262c4c91a289ee81c29931ce"
      }
     },
     "d82c140f7e204dc5a04d16ecb53100aa": {
      "model_module": "@jupyter-widgets/controls",
      "model_module_version": "2.0.0",
      "model_name": "FloatProgressModel",
      "state": {
       "bar_style": "success",
       "layout": "IPY_MODEL_bf696b2a77f2496aae7354440c99fff1",
       "max": 2085,
       "style": "IPY_MODEL_3ede90ff6f5a428295b85d2493a12f50",
       "value": 2085
      }
     },
     "e10b17ea2bbc494f8a361515e8f8e401": {
      "model_module": "@jupyter-widgets/controls",
      "model_module_version": "2.0.0",
      "model_name": "HTMLModel",
      "state": {
       "layout": "IPY_MODEL_ec6bdb1b2f8d4778a4f018387f8295ac",
       "style": "IPY_MODEL_20ad359fc2414bdea7304dd2944de96d"
      }
     },
     "e4209eb0337a445087acb4f79c8bbb8f": {
      "model_module": "@jupyter-widgets/base",
      "model_module_version": "2.0.0",
      "model_name": "LayoutModel",
      "state": {}
     },
     "e69dbee2808e4ac3b4a2c8a4a28dc3ae": {
      "model_module": "@jupyter-widgets/controls",
      "model_module_version": "2.0.0",
      "model_name": "FloatProgressModel",
      "state": {
       "layout": "IPY_MODEL_874f6acfd980405997ec352fdd0f4f1e",
       "max": 2085,
       "style": "IPY_MODEL_d52d622308664539b05e4b78cc964586",
       "value": 11
      }
     },
     "e8368978c81b41b280d69f3b49c83547": {
      "model_module": "@jupyter-widgets/base",
      "model_module_version": "2.0.0",
      "model_name": "LayoutModel",
      "state": {
       "width": "20px"
      }
     },
     "eb4b34b6cd0b435b80f1d98784fb50aa": {
      "model_module": "@jupyter-widgets/controls",
      "model_module_version": "2.0.0",
      "model_name": "HTMLStyleModel",
      "state": {
       "description_width": "",
       "font_size": null,
       "text_color": null
      }
     },
     "ec6bdb1b2f8d4778a4f018387f8295ac": {
      "model_module": "@jupyter-widgets/base",
      "model_module_version": "2.0.0",
      "model_name": "LayoutModel",
      "state": {}
     },
     "ef75d0355eaa443f8428fee9162c4835": {
      "model_module": "@jupyter-widgets/controls",
      "model_module_version": "2.0.0",
      "model_name": "HTMLModel",
      "state": {
       "layout": "IPY_MODEL_e4209eb0337a445087acb4f79c8bbb8f",
       "style": "IPY_MODEL_ba468296898c4bd89e69b4b77e4c0dd9",
       "value": " 2085/2085 [2:43:26&lt;00:00,  3.29s/it]"
      }
     },
     "feb3d1035220411da4e41bef05cbb5a7": {
      "model_module": "@jupyter-widgets/base",
      "model_module_version": "2.0.0",
      "model_name": "LayoutModel",
      "state": {}
     }
    },
    "version_major": 2,
    "version_minor": 0
   }
  }
 },
 "nbformat": 4,
 "nbformat_minor": 5
}
