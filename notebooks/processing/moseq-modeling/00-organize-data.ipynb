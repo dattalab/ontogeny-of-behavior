{
 "cells": [
  {
   "cell_type": "markdown",
   "id": "56438c6c-2791-41e5-9b4e-24687eeaedf0",
   "metadata": {},
   "source": [
    "# Organize data for running PCA\n",
    "\n",
    "Two main approaches:\n",
    "1. select a subset of all ontogeny sessions, a few sessions from each age and sex\n",
    "2. select a subset of all longtogeny sessions, a few sessions from each age and sex. Make sure to have the same number of sessions and similar ages per mouse."
   ]
  },
  {
   "cell_type": "code",
   "execution_count": 1,
   "id": "0b4baf6f-9c17-4beb-b977-c20bea61e119",
   "metadata": {},
   "outputs": [],
   "source": [
    "import h5py\n",
    "import datetime\n",
    "import pandas as pd\n",
    "from tqdm.auto import tqdm\n",
    "from pathlib import Path\n",
    "from toolz import concat, curry"
   ]
  },
  {
   "cell_type": "code",
   "execution_count": 2,
   "id": "fc788d60-8b73-4418-aad3-857c0e03de03",
   "metadata": {
    "tags": []
   },
   "outputs": [],
   "source": [
    "session_exclusion_list = '/n/groups/datta/win/longtogeny/data/metadata/Ontogeny experiment list - Session quality control.csv'\n",
    "exclusion_df = pd.read_csv(session_exclusion_list, header=0)"
   ]
  },
  {
   "cell_type": "code",
   "execution_count": 3,
   "id": "e9cc63b3-4c50-43a4-9844-4eb3b42f92a6",
   "metadata": {
    "tags": []
   },
   "outputs": [],
   "source": [
    "exclusion_df['Keep?'] = exclusion_df['Keep?'].str.lower()"
   ]
  },
  {
   "cell_type": "code",
   "execution_count": 4,
   "id": "bc311dfa-8186-4ae0-a7aa-6ad5978862d7",
   "metadata": {
    "tags": []
   },
   "outputs": [
    {
     "data": {
      "text/plain": [
       "array(['y', 'n', '?'], dtype=object)"
      ]
     },
     "execution_count": 4,
     "metadata": {},
     "output_type": "execute_result"
    }
   ],
   "source": [
    "exclusion_df['Keep?'].unique()"
   ]
  },
  {
   "cell_type": "code",
   "execution_count": 5,
   "id": "8dbf748c-7cb8-4035-a5d4-76a6139d1d41",
   "metadata": {
    "tags": []
   },
   "outputs": [],
   "source": [
    "exclusions = exclusion_df.query('`Keep?` != \"y\"')"
   ]
  },
  {
   "cell_type": "code",
   "execution_count": 6,
   "id": "12c3f696-8617-4f2f-8922-3fee3c1614c7",
   "metadata": {
    "tags": []
   },
   "outputs": [
    {
     "data": {
      "text/html": [
       "<div>\n",
       "<style scoped>\n",
       "    .dataframe tbody tr th:only-of-type {\n",
       "        vertical-align: middle;\n",
       "    }\n",
       "\n",
       "    .dataframe tbody tr th {\n",
       "        vertical-align: top;\n",
       "    }\n",
       "\n",
       "    .dataframe thead th {\n",
       "        text-align: right;\n",
       "    }\n",
       "</style>\n",
       "<table border=\"1\" class=\"dataframe\">\n",
       "  <thead>\n",
       "    <tr style=\"text-align: right;\">\n",
       "      <th></th>\n",
       "      <th>File path</th>\n",
       "      <th>Checked?</th>\n",
       "      <th>Keep?</th>\n",
       "      <th>Issue</th>\n",
       "    </tr>\n",
       "  </thead>\n",
       "  <tbody>\n",
       "    <tr>\n",
       "      <th>3</th>\n",
       "      <td>/n/groups/datta/Dana/Ontogeny/raw_data/Ontogen...</td>\n",
       "      <td>y</td>\n",
       "      <td>n</td>\n",
       "      <td>fading, noise, further inspection needed</td>\n",
       "    </tr>\n",
       "    <tr>\n",
       "      <th>4</th>\n",
       "      <td>/n/groups/datta/Dana/Ontogeny/raw_data/Ontogen...</td>\n",
       "      <td>y</td>\n",
       "      <td>n</td>\n",
       "      <td>noise</td>\n",
       "    </tr>\n",
       "    <tr>\n",
       "      <th>5</th>\n",
       "      <td>/n/groups/datta/Dana/Ontogeny/raw_data/Ontogen...</td>\n",
       "      <td>y</td>\n",
       "      <td>n</td>\n",
       "      <td>wall noise</td>\n",
       "    </tr>\n",
       "    <tr>\n",
       "      <th>6</th>\n",
       "      <td>/n/groups/datta/Dana/Ontogeny/raw_data/Ontogen...</td>\n",
       "      <td>y</td>\n",
       "      <td>n</td>\n",
       "      <td>replaced with noise</td>\n",
       "    </tr>\n",
       "    <tr>\n",
       "      <th>7</th>\n",
       "      <td>/n/groups/datta/Dana/Ontogeny/raw_data/Ontogen...</td>\n",
       "      <td>y</td>\n",
       "      <td>n</td>\n",
       "      <td>wall noise</td>\n",
       "    </tr>\n",
       "  </tbody>\n",
       "</table>\n",
       "</div>"
      ],
      "text/plain": [
       "                                           File path Checked? Keep?  \\\n",
       "3  /n/groups/datta/Dana/Ontogeny/raw_data/Ontogen...        y     n   \n",
       "4  /n/groups/datta/Dana/Ontogeny/raw_data/Ontogen...        y     n   \n",
       "5  /n/groups/datta/Dana/Ontogeny/raw_data/Ontogen...        y     n   \n",
       "6  /n/groups/datta/Dana/Ontogeny/raw_data/Ontogen...        y     n   \n",
       "7  /n/groups/datta/Dana/Ontogeny/raw_data/Ontogen...        y     n   \n",
       "\n",
       "                                      Issue  \n",
       "3  fading, noise, further inspection needed  \n",
       "4                                     noise  \n",
       "5                                wall noise  \n",
       "6                       replaced with noise  \n",
       "7                                wall noise  "
      ]
     },
     "execution_count": 6,
     "metadata": {},
     "output_type": "execute_result"
    }
   ],
   "source": [
    "exclusions.head()"
   ]
  },
  {
   "cell_type": "code",
   "execution_count": 7,
   "id": "afacb87f-ed6d-4ff6-89d9-64e023f6bd5e",
   "metadata": {
    "tags": []
   },
   "outputs": [],
   "source": [
    "def is_size_normalized(file):\n",
    "    with h5py.File(file, 'r') as h5f:\n",
    "        return 'win_size_norm_frames_v2' in h5f\n",
    "\n",
    "\n",
    "def not_excluded(file):\n",
    "    return file not in exclusions['File path'].values"
   ]
  },
  {
   "cell_type": "markdown",
   "id": "28b8bb46-0725-4090-a12e-f6e6f0797875",
   "metadata": {},
   "source": [
    "## Organize ontogeny sessions\n",
    "\n",
    "These are the data that will be run through PCA and the modeling steps\n",
    "\n",
    "- create a dataframe with the file path, age, sex, and session name\n",
    "- do a groupby and subsample the same number of sessions for each (age, sex) group\n",
    "- symlink results.h5 files to a new folder"
   ]
  },
  {
   "cell_type": "code",
   "execution_count": 8,
   "id": "aec72f89-9bf2-465e-9497-ad50d07e4033",
   "metadata": {
    "tags": []
   },
   "outputs": [],
   "source": [
    "agg_folder = Path('/n/groups/datta/win/longtogeny/data/ontogeny/version_03/training_data')\n",
    "agg_folder.mkdir(exist_ok=True, parents=True)"
   ]
  },
  {
   "cell_type": "code",
   "execution_count": 9,
   "id": "d1245346-71e5-4915-8cb6-c338ac1d0d19",
   "metadata": {
    "tags": []
   },
   "outputs": [],
   "source": [
    "folders = [\n",
    "    '/n/groups/datta/Dana/Ontogeny/raw_data/Ontogeny_females',\n",
    "    '/n/groups/datta/Dana/Ontogeny/raw_data/Ontogeny_males',\n",
    "]\n",
    "\n",
    "folders = [Path(f) for f in folders]"
   ]
  },
  {
   "cell_type": "code",
   "execution_count": 10,
   "id": "7398604d-f29d-4aa2-b196-d65164b8ddf3",
   "metadata": {
    "tags": []
   },
   "outputs": [],
   "source": [
    "@curry\n",
    "def thread_and(funcs, x):\n",
    "    return all(f(x) for f in funcs)"
   ]
  },
  {
   "cell_type": "code",
   "execution_count": 11,
   "id": "26cddb9f-e03e-42cc-83bb-1c2aa0bc4e2f",
   "metadata": {
    "tags": []
   },
   "outputs": [],
   "source": [
    "# filter files for the ones with size_normalized_frames\n",
    "files = sorted(\n",
    "    filter(\n",
    "        thread_and((is_size_normalized, not_excluded)),\n",
    "        concat(f.glob(\"**/results_00.h5\") for f in folders),\n",
    "    )\n",
    ")"
   ]
  },
  {
   "cell_type": "code",
   "execution_count": 12,
   "id": "03719788-6aa0-49a4-ace4-1b9e55ecf5aa",
   "metadata": {
    "tags": []
   },
   "outputs": [],
   "source": [
    "df = []\n",
    "for f in files:\n",
    "    data = dict(\n",
    "        age=f.parents[2].name,\n",
    "        session=f.parents[1].name,\n",
    "        sex=f.parents[3].name.split('_')[-1][:-1],\n",
    "        path=str(f)\n",
    "    )\n",
    "    df.append(data)\n",
    "df = pd.DataFrame(df)"
   ]
  },
  {
   "cell_type": "code",
   "execution_count": 13,
   "id": "e58df58c-529a-48e4-8746-7e9e00ea2646",
   "metadata": {
    "tags": []
   },
   "outputs": [
    {
     "data": {
      "text/html": [
       "<div>\n",
       "<style scoped>\n",
       "    .dataframe tbody tr th:only-of-type {\n",
       "        vertical-align: middle;\n",
       "    }\n",
       "\n",
       "    .dataframe tbody tr th {\n",
       "        vertical-align: top;\n",
       "    }\n",
       "\n",
       "    .dataframe thead th {\n",
       "        text-align: right;\n",
       "    }\n",
       "</style>\n",
       "<table border=\"1\" class=\"dataframe\">\n",
       "  <thead>\n",
       "    <tr style=\"text-align: right;\">\n",
       "      <th></th>\n",
       "      <th></th>\n",
       "      <th>session</th>\n",
       "      <th>path</th>\n",
       "    </tr>\n",
       "    <tr>\n",
       "      <th>age</th>\n",
       "      <th>sex</th>\n",
       "      <th></th>\n",
       "      <th></th>\n",
       "    </tr>\n",
       "  </thead>\n",
       "  <tbody>\n",
       "    <tr>\n",
       "      <th>12months</th>\n",
       "      <th>female</th>\n",
       "      <td>24</td>\n",
       "      <td>24</td>\n",
       "    </tr>\n",
       "    <tr>\n",
       "      <th>12months_28042021</th>\n",
       "      <th>male</th>\n",
       "      <td>26</td>\n",
       "      <td>26</td>\n",
       "    </tr>\n",
       "    <tr>\n",
       "      <th>18months</th>\n",
       "      <th>female</th>\n",
       "      <td>24</td>\n",
       "      <td>24</td>\n",
       "    </tr>\n",
       "    <tr>\n",
       "      <th>18months_29042021</th>\n",
       "      <th>male</th>\n",
       "      <td>27</td>\n",
       "      <td>27</td>\n",
       "    </tr>\n",
       "    <tr>\n",
       "      <th>22months_06052023</th>\n",
       "      <th>male</th>\n",
       "      <td>32</td>\n",
       "      <td>32</td>\n",
       "    </tr>\n",
       "    <tr>\n",
       "      <th>3months</th>\n",
       "      <th>female</th>\n",
       "      <td>24</td>\n",
       "      <td>24</td>\n",
       "    </tr>\n",
       "    <tr>\n",
       "      <th>3months_19042021</th>\n",
       "      <th>male</th>\n",
       "      <td>27</td>\n",
       "      <td>27</td>\n",
       "    </tr>\n",
       "    <tr>\n",
       "      <th>3wks</th>\n",
       "      <th>female</th>\n",
       "      <td>24</td>\n",
       "      <td>24</td>\n",
       "    </tr>\n",
       "    <tr>\n",
       "      <th>3wks_02112021</th>\n",
       "      <th>male</th>\n",
       "      <td>16</td>\n",
       "      <td>16</td>\n",
       "    </tr>\n",
       "    <tr>\n",
       "      <th>5wks</th>\n",
       "      <th>female</th>\n",
       "      <td>24</td>\n",
       "      <td>24</td>\n",
       "    </tr>\n",
       "    <tr>\n",
       "      <th>5wks_02112021</th>\n",
       "      <th>male</th>\n",
       "      <td>16</td>\n",
       "      <td>16</td>\n",
       "    </tr>\n",
       "    <tr>\n",
       "      <th>6months</th>\n",
       "      <th>female</th>\n",
       "      <td>24</td>\n",
       "      <td>24</td>\n",
       "    </tr>\n",
       "    <tr>\n",
       "      <th>6months_20042021</th>\n",
       "      <th>male</th>\n",
       "      <td>24</td>\n",
       "      <td>24</td>\n",
       "    </tr>\n",
       "    <tr>\n",
       "      <th>7wks</th>\n",
       "      <th>female</th>\n",
       "      <td>24</td>\n",
       "      <td>24</td>\n",
       "    </tr>\n",
       "    <tr>\n",
       "      <th>7wks_18112021</th>\n",
       "      <th>male</th>\n",
       "      <td>16</td>\n",
       "      <td>16</td>\n",
       "    </tr>\n",
       "    <tr>\n",
       "      <th>9months</th>\n",
       "      <th>female</th>\n",
       "      <td>16</td>\n",
       "      <td>16</td>\n",
       "    </tr>\n",
       "    <tr>\n",
       "      <th>9months_060923</th>\n",
       "      <th>male</th>\n",
       "      <td>16</td>\n",
       "      <td>16</td>\n",
       "    </tr>\n",
       "    <tr>\n",
       "      <th>9wks</th>\n",
       "      <th>female</th>\n",
       "      <td>24</td>\n",
       "      <td>24</td>\n",
       "    </tr>\n",
       "    <tr>\n",
       "      <th>9wks_1811_2021</th>\n",
       "      <th>male</th>\n",
       "      <td>16</td>\n",
       "      <td>16</td>\n",
       "    </tr>\n",
       "  </tbody>\n",
       "</table>\n",
       "</div>"
      ],
      "text/plain": [
       "                          session  path\n",
       "age               sex                  \n",
       "12months          female       24    24\n",
       "12months_28042021 male         26    26\n",
       "18months          female       24    24\n",
       "18months_29042021 male         27    27\n",
       "22months_06052023 male         32    32\n",
       "3months           female       24    24\n",
       "3months_19042021  male         27    27\n",
       "3wks              female       24    24\n",
       "3wks_02112021     male         16    16\n",
       "5wks              female       24    24\n",
       "5wks_02112021     male         16    16\n",
       "6months           female       24    24\n",
       "6months_20042021  male         24    24\n",
       "7wks              female       24    24\n",
       "7wks_18112021     male         16    16\n",
       "9months           female       16    16\n",
       "9months_060923    male         16    16\n",
       "9wks              female       24    24\n",
       "9wks_1811_2021    male         16    16"
      ]
     },
     "execution_count": 13,
     "metadata": {},
     "output_type": "execute_result"
    }
   ],
   "source": [
    "df.groupby(['age', 'sex']).count()"
   ]
  },
  {
   "cell_type": "code",
   "execution_count": 14,
   "id": "716800f6-c070-4122-b972-a47aae79f175",
   "metadata": {
    "tags": []
   },
   "outputs": [],
   "source": [
    "# sub-select 3 sessions from each group\n",
    "# 51 sessions = 1.8e6 frames\n",
    "sample = df.groupby(['age', 'sex']).sample(n=3, random_state=0)"
   ]
  },
  {
   "cell_type": "code",
   "execution_count": 15,
   "id": "6b7574a0-b502-413a-bcdd-979290d1b00a",
   "metadata": {
    "tags": []
   },
   "outputs": [
    {
     "name": "stdout",
     "output_type": "stream",
     "text": [
      "/n/groups/datta/Dana/Ontogeny/raw_data/Ontogeny_females/12months/session_20221018114716/proc/results_00.h5 exists in training set\n",
      "/n/groups/datta/Dana/Ontogeny/raw_data/Ontogeny_females/12months/session_20221018114710/proc/results_00.h5 exists in training set\n",
      "/n/groups/datta/Dana/Ontogeny/raw_data/Ontogeny_females/12months/session_20221018140902/proc/results_00.h5 exists in training set\n",
      "/n/groups/datta/Dana/Ontogeny/raw_data/Ontogeny_males/12months_28042021/session_20210428125320/proc/results_00.h5 exists in training set\n",
      "/n/groups/datta/Dana/Ontogeny/raw_data/Ontogeny_males/12months_28042021/session_20210428125303/proc/results_00.h5 exists in training set\n",
      "/n/groups/datta/Dana/Ontogeny/raw_data/Ontogeny_males/12months_28042021/session_20210428112032/proc/results_00.h5 exists in training set\n",
      "/n/groups/datta/Dana/Ontogeny/raw_data/Ontogeny_females/18months/session_20221013141154/proc/results_00.h5 exists in training set\n",
      "/n/groups/datta/Dana/Ontogeny/raw_data/Ontogeny_females/18months/session_20221013124650/proc/results_00.h5 exists in training set\n",
      "/n/groups/datta/Dana/Ontogeny/raw_data/Ontogeny_females/18months/session_20221013141148/proc/results_00.h5 exists in training set\n",
      "/n/groups/datta/Dana/Ontogeny/raw_data/Ontogeny_males/18months_29042021/session_20210429104935/proc/results_00.h5 exists in training set\n",
      "/n/groups/datta/Dana/Ontogeny/raw_data/Ontogeny_males/18months_29042021/session_20210429094029/proc/results_00.h5 exists in training set\n",
      "/n/groups/datta/Dana/Ontogeny/raw_data/Ontogeny_males/18months_29042021/session_20210429094121/proc/results_00.h5 exists in training set\n",
      "/n/groups/datta/Dana/Ontogeny/raw_data/Ontogeny_males/22months_06052023/session_20230616112053/proc/results_00.h5 exists in training set\n",
      "/n/groups/datta/Dana/Ontogeny/raw_data/Ontogeny_males/22months_06052023/session_20230605110142/proc/results_00.h5 exists in training set\n",
      "/n/groups/datta/Dana/Ontogeny/raw_data/Ontogeny_males/22months_06052023/session_20230605114750/proc/results_00.h5 exists in training set\n",
      "/n/groups/datta/Dana/Ontogeny/raw_data/Ontogeny_females/3months/session_20221011115325/proc/results_00.h5 exists in training set\n",
      "/n/groups/datta/Dana/Ontogeny/raw_data/Ontogeny_females/3months/session_20221011123528/proc/results_00.h5 exists in training set\n",
      "/n/groups/datta/Dana/Ontogeny/raw_data/Ontogeny_females/3months/session_20221011105237/proc/results_00.h5 exists in training set\n",
      "/n/groups/datta/Dana/Ontogeny/raw_data/Ontogeny_males/3months_19042021/session_20210419121229/proc/results_00.h5 exists in training set\n",
      "/n/groups/datta/Dana/Ontogeny/raw_data/Ontogeny_males/3months_19042021/session_20210419110558/proc/results_00.h5 exists in training set\n",
      "/n/groups/datta/Dana/Ontogeny/raw_data/Ontogeny_males/3months_19042021/session_20210419130059/proc/results_00.h5 exists in training set\n",
      "/n/groups/datta/Dana/Ontogeny/raw_data/Ontogeny_females/3wks/session_20221007104856/proc/results_00.h5 exists in training set\n",
      "/n/groups/datta/Dana/Ontogeny/raw_data/Ontogeny_females/3wks/session_20221007094148/proc/results_00.h5 exists in training set\n",
      "/n/groups/datta/Dana/Ontogeny/raw_data/Ontogeny_females/3wks/session_20221007115436/proc/results_00.h5 exists in training set\n",
      "/n/groups/datta/Dana/Ontogeny/raw_data/Ontogeny_males/3wks_02112021/session_20230605131018/proc/results_00.h5 exists in training set\n",
      "/n/groups/datta/Dana/Ontogeny/raw_data/Ontogeny_males/3wks_02112021/session_20230605130956/proc/results_00.h5 exists in training set\n",
      "/n/groups/datta/Dana/Ontogeny/raw_data/Ontogeny_males/3wks_02112021/session_20211029101846/proc/results_00.h5 exists in training set\n",
      "/n/groups/datta/Dana/Ontogeny/raw_data/Ontogeny_females/5wks/session_20221020135906/proc/results_00.h5 exists in training set\n",
      "/n/groups/datta/Dana/Ontogeny/raw_data/Ontogeny_females/5wks/session_20221020130835/proc/results_00.h5 exists in training set\n",
      "/n/groups/datta/Dana/Ontogeny/raw_data/Ontogeny_females/5wks/session_20221020114510/proc/results_00.h5 exists in training set\n",
      "/n/groups/datta/Dana/Ontogeny/raw_data/Ontogeny_males/5wks_02112021/session_20211029123155/proc/results_00.h5 exists in training set\n",
      "/n/groups/datta/Dana/Ontogeny/raw_data/Ontogeny_males/5wks_02112021/session_20211029123220/proc/results_00.h5 exists in training set\n",
      "/n/groups/datta/Dana/Ontogeny/raw_data/Ontogeny_males/5wks_02112021/session_20230605134828/proc/results_00.h5 exists in training set\n",
      "/n/groups/datta/Dana/Ontogeny/raw_data/Ontogeny_females/6months/session_20221027131633/proc/results_00.h5 exists in training set\n",
      "/n/groups/datta/Dana/Ontogeny/raw_data/Ontogeny_females/6months/session_20221027135827/proc/results_00.h5 exists in training set\n",
      "/n/groups/datta/Dana/Ontogeny/raw_data/Ontogeny_females/6months/session_20221027135821/proc/results_00.h5 exists in training set\n",
      "/n/groups/datta/Dana/Ontogeny/raw_data/Ontogeny_males/6months_20042021/session_20210421114803/proc/results_00.h5 exists in training set\n",
      "/n/groups/datta/Dana/Ontogeny/raw_data/Ontogeny_males/6months_20042021/session_20210421114646/proc/results_00.h5 exists in training set\n",
      "/n/groups/datta/Dana/Ontogeny/raw_data/Ontogeny_males/6months_20042021/session_20210421115008/proc/results_00.h5 exists in training set\n",
      "/n/groups/datta/Dana/Ontogeny/raw_data/Ontogeny_females/7wks/session_20221021092746/proc/results_00.h5 exists in training set\n",
      "/n/groups/datta/Dana/Ontogeny/raw_data/Ontogeny_females/7wks/session_20221021114428/proc/results_00.h5 exists in training set\n",
      "/n/groups/datta/Dana/Ontogeny/raw_data/Ontogeny_females/7wks/session_20221021114437/proc/results_00.h5 exists in training set\n",
      "/n/groups/datta/Dana/Ontogeny/raw_data/Ontogeny_males/7wks_18112021/session_20211118115419/proc/results_00.h5 exists in training set\n",
      "/n/groups/datta/Dana/Ontogeny/raw_data/Ontogeny_males/7wks_18112021/session_20211118110510/proc/results_00.h5 exists in training set\n",
      "/n/groups/datta/Dana/Ontogeny/raw_data/Ontogeny_males/7wks_18112021/session_20211118110630/proc/results_00.h5 exists in training set\n",
      "/n/groups/datta/Dana/Ontogeny/raw_data/Ontogeny_females/9months/session_20230609160255/proc/results_00.h5 exists in training set\n",
      "/n/groups/datta/Dana/Ontogeny/raw_data/Ontogeny_females/9months/session_20230609164614/proc/results_00.h5 exists in training set\n",
      "/n/groups/datta/Dana/Ontogeny/raw_data/Ontogeny_females/9months/session_20230609151908/proc/results_00.h5 exists in training set\n",
      "/n/groups/datta/Dana/Ontogeny/raw_data/Ontogeny_males/9months_060923/session_20230609122430/proc/results_00.h5 exists in training set\n",
      "/n/groups/datta/Dana/Ontogeny/raw_data/Ontogeny_males/9months_060923/session_20230609101707/proc/results_00.h5 exists in training set\n",
      "/n/groups/datta/Dana/Ontogeny/raw_data/Ontogeny_males/9months_060923/session_20230609101849/proc/results_00.h5 exists in training set\n",
      "/n/groups/datta/Dana/Ontogeny/raw_data/Ontogeny_females/9wks/session_20221028133858/proc/results_00.h5 exists in training set\n",
      "/n/groups/datta/Dana/Ontogeny/raw_data/Ontogeny_females/9wks/session_20221028133919/proc/results_00.h5 exists in training set\n",
      "/n/groups/datta/Dana/Ontogeny/raw_data/Ontogeny_females/9wks/session_20221028120602/proc/results_00.h5 exists in training set\n",
      "/n/groups/datta/Dana/Ontogeny/raw_data/Ontogeny_males/9wks_1811_2021/session_20211118135658/proc/results_00.h5 exists in training set\n",
      "/n/groups/datta/Dana/Ontogeny/raw_data/Ontogeny_males/9wks_1811_2021/session_20230605151811/proc/results_00.h5 exists in training set\n",
      "/n/groups/datta/Dana/Ontogeny/raw_data/Ontogeny_males/9wks_1811_2021/session_20211118125655/proc/results_00.h5 exists in training set\n"
     ]
    }
   ],
   "source": [
    "for path in map(Path, sample['path']):\n",
    "    try:\n",
    "        new_path = agg_folder / (path.parents[1].name + '.h5')\n",
    "        new_path.symlink_to(path)\n",
    "        new_path = agg_folder / (path.parents[1].name + '.yaml')\n",
    "        new_path.symlink_to(path.with_suffix('.yaml'))\n",
    "    except FileExistsError:\n",
    "        print(path, 'exists in training set')"
   ]
  },
  {
   "cell_type": "markdown",
   "id": "a408f5e4-b7fa-4669-8b67-dac2cdd8ba65",
   "metadata": {},
   "source": [
    "## Organize longtogeny sessions"
   ]
  },
  {
   "cell_type": "code",
   "execution_count": 16,
   "id": "9c2af185-91e6-44f3-a0ef-b220c0387d08",
   "metadata": {
    "tags": []
   },
   "outputs": [],
   "source": [
    "agg_folder = Path('/n/groups/datta/win/longtogeny/data/longtogeny/version_03/training_data')\n",
    "agg_folder.mkdir(exist_ok=True, parents=True)"
   ]
  },
  {
   "cell_type": "code",
   "execution_count": 17,
   "id": "6e81c5ea-1ca0-4f9c-aee4-1e5e2b5449f5",
   "metadata": {},
   "outputs": [],
   "source": [
    "folders = [\n",
    "    '/n/groups/datta/Dana/Ontogeny/raw_data/longtogeny_pre_unet/Females',\n",
    "    '/n/groups/datta/Dana/Ontogeny/raw_data/longtogeny_pre_unet/Males',\n",
    "]\n",
    "folders = [Path(f) for f in folders]"
   ]
  },
  {
   "cell_type": "code",
   "execution_count": 18,
   "id": "a9bb4eeb-19d5-4214-906e-3c8dc83fb24d",
   "metadata": {
    "tags": []
   },
   "outputs": [],
   "source": [
    "# filter files for the ones with size_normalized_frames\n",
    "files = sorted(\n",
    "    filter(\n",
    "        thread_and((is_size_normalized, not_excluded)),\n",
    "        concat(f.glob(\"**/results_00.h5\") for f in folders),\n",
    "    )\n",
    ")"
   ]
  },
  {
   "cell_type": "code",
   "execution_count": 19,
   "id": "7af245a8-f06e-4470-b0b7-7e5d236c6166",
   "metadata": {},
   "outputs": [
    {
     "data": {
      "text/plain": [
       "2107"
      ]
     },
     "execution_count": 19,
     "metadata": {},
     "output_type": "execute_result"
    }
   ],
   "source": [
    "len(files)"
   ]
  },
  {
   "cell_type": "code",
   "execution_count": 20,
   "id": "9b3905c7-ffe6-4c0a-8dec-9729f2430d53",
   "metadata": {
    "tags": []
   },
   "outputs": [
    {
     "name": "stdout",
     "output_type": "stream",
     "text": [
      "001\n",
      "01_04_001\n"
     ]
    }
   ],
   "source": [
    "with h5py.File(files[0], 'r') as h5f:\n",
    "    print(h5f['metadata/acquisition/SessionName'][()].decode())\n",
    "    print(h5f['metadata/acquisition/SubjectName'][()].decode())"
   ]
  },
  {
   "cell_type": "code",
   "execution_count": 21,
   "id": "066fa34b-f274-4551-b5c7-522594b61c00",
   "metadata": {
    "tags": []
   },
   "outputs": [
    {
     "data": {
      "application/vnd.jupyter.widget-view+json": {
       "model_id": "cf6760a56fd04c0884aabd28171fe055",
       "version_major": 2,
       "version_minor": 0
      },
      "text/plain": [
       "  0%|          | 0/2107 [00:00<?, ?it/s]"
      ]
     },
     "metadata": {},
     "output_type": "display_data"
    },
    {
     "name": "stdout",
     "output_type": "stream",
     "text": [
      "/n/groups/datta/Dana/Ontogeny/raw_data/longtogeny_pre_unet/Males/20210403/session_20210403155244/proc/results_00.h5 incomplete\n",
      "/n/groups/datta/Dana/Ontogeny/raw_data/longtogeny_pre_unet/Males/20210406/session_20210406131627/proc/results_00.h5 incomplete\n",
      "/n/groups/datta/Dana/Ontogeny/raw_data/longtogeny_pre_unet/Males/20210410/session_20210410184436/proc/results_00.h5 incomplete\n",
      "/n/groups/datta/Dana/Ontogeny/raw_data/longtogeny_pre_unet/Males/20210410/session_20210410205337/proc/results_00.h5 incomplete\n",
      "/n/groups/datta/Dana/Ontogeny/raw_data/longtogeny_pre_unet/Males/20210423/session_20210423193537/proc/results_00.h5 incomplete\n",
      "/n/groups/datta/Dana/Ontogeny/raw_data/longtogeny_pre_unet/Males/20210514/session_20210514153543/proc/results_00.h5 incomplete\n",
      "/n/groups/datta/Dana/Ontogeny/raw_data/longtogeny_pre_unet/Males/20210521/session_20210521154512/proc/results_00.h5 incomplete\n",
      "/n/groups/datta/Dana/Ontogeny/raw_data/longtogeny_pre_unet/Males/20210526/session_20210526150505/proc/results_00.h5 incomplete\n",
      "/n/groups/datta/Dana/Ontogeny/raw_data/longtogeny_pre_unet/Males/20210526/session_20210526150521/proc/results_00.h5 incomplete\n",
      "/n/groups/datta/Dana/Ontogeny/raw_data/longtogeny_pre_unet/Males/20210528/session_20210528111720/proc/results_00.h5 incomplete\n",
      "/n/groups/datta/Dana/Ontogeny/raw_data/longtogeny_pre_unet/Males/20210531/session_20210531124225/proc/results_00.h5 incomplete\n"
     ]
    }
   ],
   "source": [
    "df = []\n",
    "for f in tqdm(files):\n",
    "    try:\n",
    "        with h5py.File(f, 'r') as h5f:\n",
    "            session = h5f['metadata/acquisition/SubjectName'][()].decode()\n",
    "            start = h5f['metadata/acquisition/StartTime'][()].decode()\n",
    "        sex = f.parents[3].name.lower()[:-1]\n",
    "        sex = 'female' if 'Females' in str(f) else 'male'\n",
    "        data = dict(\n",
    "            mouse=session[:5],\n",
    "            subject_name=session,\n",
    "            session=f.parents[1].name,\n",
    "            sex=sex,\n",
    "            date=datetime.datetime.strptime(start.split('.')[0], '%Y-%m-%dT%H:%M:%S'),\n",
    "            path=str(f)\n",
    "        )\n",
    "        df.append(data)\n",
    "    except KeyError:\n",
    "        print(f, 'incomplete')\n",
    "df = pd.DataFrame(df)"
   ]
  },
  {
   "cell_type": "code",
   "execution_count": 22,
   "id": "d9076d13-2e76-434a-ac90-bfc02607ec1b",
   "metadata": {
    "tags": []
   },
   "outputs": [],
   "source": [
    "filt_df = df[\n",
    "    ~df[\"mouse\"].str.lower().str.contains(\"c\")\n",
    "    & ~df[\"mouse\"].str.lower().str.contains(\"long\")\n",
    "    & ~((df[\"mouse\"] == \"05_02\") & (df[\"sex\"] == \"male\"))\n",
    "]"
   ]
  },
  {
   "cell_type": "code",
   "execution_count": 23,
   "id": "58351cdc-0780-40cb-b40a-1896749f74bc",
   "metadata": {
    "tags": []
   },
   "outputs": [
    {
     "data": {
      "text/html": [
       "<div>\n",
       "<style scoped>\n",
       "    .dataframe tbody tr th:only-of-type {\n",
       "        vertical-align: middle;\n",
       "    }\n",
       "\n",
       "    .dataframe tbody tr th {\n",
       "        vertical-align: top;\n",
       "    }\n",
       "\n",
       "    .dataframe thead th {\n",
       "        text-align: right;\n",
       "    }\n",
       "</style>\n",
       "<table border=\"1\" class=\"dataframe\">\n",
       "  <thead>\n",
       "    <tr style=\"text-align: right;\">\n",
       "      <th></th>\n",
       "      <th></th>\n",
       "      <th>subject_name</th>\n",
       "      <th>session</th>\n",
       "      <th>date</th>\n",
       "      <th>path</th>\n",
       "    </tr>\n",
       "    <tr>\n",
       "      <th>mouse</th>\n",
       "      <th>sex</th>\n",
       "      <th></th>\n",
       "      <th></th>\n",
       "      <th></th>\n",
       "      <th></th>\n",
       "    </tr>\n",
       "  </thead>\n",
       "  <tbody>\n",
       "    <tr>\n",
       "      <th rowspan=\"2\" valign=\"top\">01_01</th>\n",
       "      <th>female</th>\n",
       "      <td>53</td>\n",
       "      <td>53</td>\n",
       "      <td>53</td>\n",
       "      <td>53</td>\n",
       "    </tr>\n",
       "    <tr>\n",
       "      <th>male</th>\n",
       "      <td>66</td>\n",
       "      <td>66</td>\n",
       "      <td>66</td>\n",
       "      <td>66</td>\n",
       "    </tr>\n",
       "    <tr>\n",
       "      <th rowspan=\"2\" valign=\"top\">01_02</th>\n",
       "      <th>female</th>\n",
       "      <td>49</td>\n",
       "      <td>49</td>\n",
       "      <td>49</td>\n",
       "      <td>49</td>\n",
       "    </tr>\n",
       "    <tr>\n",
       "      <th>male</th>\n",
       "      <td>64</td>\n",
       "      <td>64</td>\n",
       "      <td>64</td>\n",
       "      <td>64</td>\n",
       "    </tr>\n",
       "    <tr>\n",
       "      <th rowspan=\"2\" valign=\"top\">01_03</th>\n",
       "      <th>female</th>\n",
       "      <td>46</td>\n",
       "      <td>46</td>\n",
       "      <td>46</td>\n",
       "      <td>46</td>\n",
       "    </tr>\n",
       "    <tr>\n",
       "      <th>male</th>\n",
       "      <td>68</td>\n",
       "      <td>68</td>\n",
       "      <td>68</td>\n",
       "      <td>68</td>\n",
       "    </tr>\n",
       "    <tr>\n",
       "      <th rowspan=\"2\" valign=\"top\">01_04</th>\n",
       "      <th>female</th>\n",
       "      <td>51</td>\n",
       "      <td>51</td>\n",
       "      <td>51</td>\n",
       "      <td>51</td>\n",
       "    </tr>\n",
       "    <tr>\n",
       "      <th>male</th>\n",
       "      <td>64</td>\n",
       "      <td>64</td>\n",
       "      <td>64</td>\n",
       "      <td>64</td>\n",
       "    </tr>\n",
       "    <tr>\n",
       "      <th rowspan=\"2\" valign=\"top\">02_01</th>\n",
       "      <th>female</th>\n",
       "      <td>52</td>\n",
       "      <td>52</td>\n",
       "      <td>52</td>\n",
       "      <td>52</td>\n",
       "    </tr>\n",
       "    <tr>\n",
       "      <th>male</th>\n",
       "      <td>66</td>\n",
       "      <td>66</td>\n",
       "      <td>66</td>\n",
       "      <td>66</td>\n",
       "    </tr>\n",
       "    <tr>\n",
       "      <th rowspan=\"2\" valign=\"top\">02_02</th>\n",
       "      <th>female</th>\n",
       "      <td>48</td>\n",
       "      <td>48</td>\n",
       "      <td>48</td>\n",
       "      <td>48</td>\n",
       "    </tr>\n",
       "    <tr>\n",
       "      <th>male</th>\n",
       "      <td>65</td>\n",
       "      <td>65</td>\n",
       "      <td>65</td>\n",
       "      <td>65</td>\n",
       "    </tr>\n",
       "    <tr>\n",
       "      <th rowspan=\"2\" valign=\"top\">02_03</th>\n",
       "      <th>female</th>\n",
       "      <td>43</td>\n",
       "      <td>43</td>\n",
       "      <td>43</td>\n",
       "      <td>43</td>\n",
       "    </tr>\n",
       "    <tr>\n",
       "      <th>male</th>\n",
       "      <td>68</td>\n",
       "      <td>68</td>\n",
       "      <td>68</td>\n",
       "      <td>68</td>\n",
       "    </tr>\n",
       "    <tr>\n",
       "      <th rowspan=\"2\" valign=\"top\">02_04</th>\n",
       "      <th>female</th>\n",
       "      <td>51</td>\n",
       "      <td>51</td>\n",
       "      <td>51</td>\n",
       "      <td>51</td>\n",
       "    </tr>\n",
       "    <tr>\n",
       "      <th>male</th>\n",
       "      <td>53</td>\n",
       "      <td>53</td>\n",
       "      <td>53</td>\n",
       "      <td>53</td>\n",
       "    </tr>\n",
       "    <tr>\n",
       "      <th rowspan=\"2\" valign=\"top\">03_01</th>\n",
       "      <th>female</th>\n",
       "      <td>52</td>\n",
       "      <td>52</td>\n",
       "      <td>52</td>\n",
       "      <td>52</td>\n",
       "    </tr>\n",
       "    <tr>\n",
       "      <th>male</th>\n",
       "      <td>66</td>\n",
       "      <td>66</td>\n",
       "      <td>66</td>\n",
       "      <td>66</td>\n",
       "    </tr>\n",
       "    <tr>\n",
       "      <th rowspan=\"2\" valign=\"top\">03_02</th>\n",
       "      <th>female</th>\n",
       "      <td>49</td>\n",
       "      <td>49</td>\n",
       "      <td>49</td>\n",
       "      <td>49</td>\n",
       "    </tr>\n",
       "    <tr>\n",
       "      <th>male</th>\n",
       "      <td>65</td>\n",
       "      <td>65</td>\n",
       "      <td>65</td>\n",
       "      <td>65</td>\n",
       "    </tr>\n",
       "    <tr>\n",
       "      <th rowspan=\"2\" valign=\"top\">03_03</th>\n",
       "      <th>female</th>\n",
       "      <td>44</td>\n",
       "      <td>44</td>\n",
       "      <td>44</td>\n",
       "      <td>44</td>\n",
       "    </tr>\n",
       "    <tr>\n",
       "      <th>male</th>\n",
       "      <td>47</td>\n",
       "      <td>47</td>\n",
       "      <td>47</td>\n",
       "      <td>47</td>\n",
       "    </tr>\n",
       "    <tr>\n",
       "      <th rowspan=\"2\" valign=\"top\">03_04</th>\n",
       "      <th>female</th>\n",
       "      <td>50</td>\n",
       "      <td>50</td>\n",
       "      <td>50</td>\n",
       "      <td>50</td>\n",
       "    </tr>\n",
       "    <tr>\n",
       "      <th>male</th>\n",
       "      <td>62</td>\n",
       "      <td>62</td>\n",
       "      <td>62</td>\n",
       "      <td>62</td>\n",
       "    </tr>\n",
       "    <tr>\n",
       "      <th rowspan=\"2\" valign=\"top\">04_01</th>\n",
       "      <th>female</th>\n",
       "      <td>52</td>\n",
       "      <td>52</td>\n",
       "      <td>52</td>\n",
       "      <td>52</td>\n",
       "    </tr>\n",
       "    <tr>\n",
       "      <th>male</th>\n",
       "      <td>65</td>\n",
       "      <td>65</td>\n",
       "      <td>65</td>\n",
       "      <td>65</td>\n",
       "    </tr>\n",
       "    <tr>\n",
       "      <th rowspan=\"2\" valign=\"top\">04_02</th>\n",
       "      <th>female</th>\n",
       "      <td>49</td>\n",
       "      <td>49</td>\n",
       "      <td>49</td>\n",
       "      <td>49</td>\n",
       "    </tr>\n",
       "    <tr>\n",
       "      <th>male</th>\n",
       "      <td>64</td>\n",
       "      <td>64</td>\n",
       "      <td>64</td>\n",
       "      <td>64</td>\n",
       "    </tr>\n",
       "    <tr>\n",
       "      <th rowspan=\"2\" valign=\"top\">04_03</th>\n",
       "      <th>female</th>\n",
       "      <td>43</td>\n",
       "      <td>43</td>\n",
       "      <td>43</td>\n",
       "      <td>43</td>\n",
       "    </tr>\n",
       "    <tr>\n",
       "      <th>male</th>\n",
       "      <td>63</td>\n",
       "      <td>63</td>\n",
       "      <td>63</td>\n",
       "      <td>63</td>\n",
       "    </tr>\n",
       "    <tr>\n",
       "      <th rowspan=\"2\" valign=\"top\">04_04</th>\n",
       "      <th>female</th>\n",
       "      <td>51</td>\n",
       "      <td>51</td>\n",
       "      <td>51</td>\n",
       "      <td>51</td>\n",
       "    </tr>\n",
       "    <tr>\n",
       "      <th>male</th>\n",
       "      <td>61</td>\n",
       "      <td>61</td>\n",
       "      <td>61</td>\n",
       "      <td>61</td>\n",
       "    </tr>\n",
       "    <tr>\n",
       "      <th>05_01</th>\n",
       "      <th>female</th>\n",
       "      <td>50</td>\n",
       "      <td>50</td>\n",
       "      <td>50</td>\n",
       "      <td>50</td>\n",
       "    </tr>\n",
       "    <tr>\n",
       "      <th>05_02</th>\n",
       "      <th>female</th>\n",
       "      <td>47</td>\n",
       "      <td>47</td>\n",
       "      <td>47</td>\n",
       "      <td>47</td>\n",
       "    </tr>\n",
       "    <tr>\n",
       "      <th>05_03</th>\n",
       "      <th>female</th>\n",
       "      <td>41</td>\n",
       "      <td>41</td>\n",
       "      <td>41</td>\n",
       "      <td>41</td>\n",
       "    </tr>\n",
       "    <tr>\n",
       "      <th>05_04</th>\n",
       "      <th>female</th>\n",
       "      <td>50</td>\n",
       "      <td>50</td>\n",
       "      <td>50</td>\n",
       "      <td>50</td>\n",
       "    </tr>\n",
       "  </tbody>\n",
       "</table>\n",
       "</div>"
      ],
      "text/plain": [
       "              subject_name  session  date  path\n",
       "mouse sex                                      \n",
       "01_01 female            53       53    53    53\n",
       "      male              66       66    66    66\n",
       "01_02 female            49       49    49    49\n",
       "      male              64       64    64    64\n",
       "01_03 female            46       46    46    46\n",
       "      male              68       68    68    68\n",
       "01_04 female            51       51    51    51\n",
       "      male              64       64    64    64\n",
       "02_01 female            52       52    52    52\n",
       "      male              66       66    66    66\n",
       "02_02 female            48       48    48    48\n",
       "      male              65       65    65    65\n",
       "02_03 female            43       43    43    43\n",
       "      male              68       68    68    68\n",
       "02_04 female            51       51    51    51\n",
       "      male              53       53    53    53\n",
       "03_01 female            52       52    52    52\n",
       "      male              66       66    66    66\n",
       "03_02 female            49       49    49    49\n",
       "      male              65       65    65    65\n",
       "03_03 female            44       44    44    44\n",
       "      male              47       47    47    47\n",
       "03_04 female            50       50    50    50\n",
       "      male              62       62    62    62\n",
       "04_01 female            52       52    52    52\n",
       "      male              65       65    65    65\n",
       "04_02 female            49       49    49    49\n",
       "      male              64       64    64    64\n",
       "04_03 female            43       43    43    43\n",
       "      male              63       63    63    63\n",
       "04_04 female            51       51    51    51\n",
       "      male              61       61    61    61\n",
       "05_01 female            50       50    50    50\n",
       "05_02 female            47       47    47    47\n",
       "05_03 female            41       41    41    41\n",
       "05_04 female            50       50    50    50"
      ]
     },
     "execution_count": 23,
     "metadata": {},
     "output_type": "execute_result"
    }
   ],
   "source": [
    "filt_df.groupby(['mouse', 'sex']).count()"
   ]
  },
  {
   "cell_type": "code",
   "execution_count": 24,
   "id": "2c6f8587-b491-44cb-b60b-b18135c734f7",
   "metadata": {
    "tags": []
   },
   "outputs": [],
   "source": [
    "sample = filt_df.groupby(['mouse', 'sex']).sample(n=2, random_state=0)"
   ]
  },
  {
   "cell_type": "code",
   "execution_count": 25,
   "id": "05ad94c3-b6f9-484a-ada6-923ddcf8d240",
   "metadata": {
    "tags": []
   },
   "outputs": [],
   "source": [
    "for path in map(Path, sample['path']):\n",
    "    try:\n",
    "        new_path = agg_folder / (path.parents[1].name + '.h5')\n",
    "        new_path.symlink_to(path)\n",
    "        new_path = agg_folder / (path.parents[1].name + '.yaml')\n",
    "        new_path.symlink_to(path.with_suffix('.yaml'))\n",
    "    except FileExistsError:\n",
    "        print(path, 'exists in training set')"
   ]
  },
  {
   "cell_type": "code",
   "execution_count": null,
   "id": "f3381e70-ae7c-438f-b2f8-e8415358f1b7",
   "metadata": {},
   "outputs": [],
   "source": []
  }
 ],
 "metadata": {
  "kernelspec": {
   "display_name": "Ontogeny",
   "language": "python",
   "name": "aging"
  },
  "language_info": {
   "codemirror_mode": {
    "name": "ipython",
    "version": 3
   },
   "file_extension": ".py",
   "mimetype": "text/x-python",
   "name": "python",
   "nbconvert_exporter": "python",
   "pygments_lexer": "ipython3",
   "version": "3.10.10"
  },
  "widgets": {
   "application/vnd.jupyter.widget-state+json": {
    "state": {
     "089ce4da2f4b42d19e3b4558131fdb64": {
      "model_module": "@jupyter-widgets/base",
      "model_module_version": "2.0.0",
      "model_name": "LayoutModel",
      "state": {}
     },
     "1ec6b6a863484d799490557febeec803": {
      "model_module": "@jupyter-widgets/controls",
      "model_module_version": "2.0.0",
      "model_name": "FloatProgressModel",
      "state": {
       "bar_style": "success",
       "layout": "IPY_MODEL_27e75199c1324028a05c255e6427123f",
       "max": 2107,
       "style": "IPY_MODEL_bf84a7c2227f46fb91d29ecdb78fa1de",
       "value": 2107
      }
     },
     "256f62f032e7493980f1021f93b58567": {
      "model_module": "@jupyter-widgets/controls",
      "model_module_version": "2.0.0",
      "model_name": "HTMLModel",
      "state": {
       "layout": "IPY_MODEL_089ce4da2f4b42d19e3b4558131fdb64",
       "style": "IPY_MODEL_edddf0ec057c4638aa1d3ea747251195",
       "value": "100%"
      }
     },
     "27e75199c1324028a05c255e6427123f": {
      "model_module": "@jupyter-widgets/base",
      "model_module_version": "2.0.0",
      "model_name": "LayoutModel",
      "state": {}
     },
     "2feedab86fc040b898f84274762da96f": {
      "model_module": "@jupyter-widgets/controls",
      "model_module_version": "2.0.0",
      "model_name": "HTMLModel",
      "state": {
       "layout": "IPY_MODEL_37448bf714604337baef4286a29acf0d",
       "style": "IPY_MODEL_4269bc784fd64049beb488405dc2a992",
       "value": " 2107/2107 [00:17&lt;00:00, 82.80it/s]"
      }
     },
     "37448bf714604337baef4286a29acf0d": {
      "model_module": "@jupyter-widgets/base",
      "model_module_version": "2.0.0",
      "model_name": "LayoutModel",
      "state": {}
     },
     "4269bc784fd64049beb488405dc2a992": {
      "model_module": "@jupyter-widgets/controls",
      "model_module_version": "2.0.0",
      "model_name": "HTMLStyleModel",
      "state": {
       "description_width": "",
       "font_size": null,
       "text_color": null
      }
     },
     "88e8295aa60044428f7ae8399f7684a9": {
      "model_module": "@jupyter-widgets/base",
      "model_module_version": "2.0.0",
      "model_name": "LayoutModel",
      "state": {}
     },
     "bf84a7c2227f46fb91d29ecdb78fa1de": {
      "model_module": "@jupyter-widgets/controls",
      "model_module_version": "2.0.0",
      "model_name": "ProgressStyleModel",
      "state": {
       "description_width": ""
      }
     },
     "cf6760a56fd04c0884aabd28171fe055": {
      "model_module": "@jupyter-widgets/controls",
      "model_module_version": "2.0.0",
      "model_name": "HBoxModel",
      "state": {
       "children": [
        "IPY_MODEL_256f62f032e7493980f1021f93b58567",
        "IPY_MODEL_1ec6b6a863484d799490557febeec803",
        "IPY_MODEL_2feedab86fc040b898f84274762da96f"
       ],
       "layout": "IPY_MODEL_88e8295aa60044428f7ae8399f7684a9"
      }
     },
     "edddf0ec057c4638aa1d3ea747251195": {
      "model_module": "@jupyter-widgets/controls",
      "model_module_version": "2.0.0",
      "model_name": "HTMLStyleModel",
      "state": {
       "description_width": "",
       "font_size": null,
       "text_color": null
      }
     }
    },
    "version_major": 2,
    "version_minor": 0
   }
  }
 },
 "nbformat": 4,
 "nbformat_minor": 5
}
