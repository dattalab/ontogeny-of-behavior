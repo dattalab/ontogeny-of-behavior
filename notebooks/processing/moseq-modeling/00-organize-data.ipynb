{
 "cells": [
  {
   "cell_type": "markdown",
   "id": "56438c6c-2791-41e5-9b4e-24687eeaedf0",
   "metadata": {},
   "source": [
    "# Organize data for running PCA\n",
    "\n",
    "Two main approaches:\n",
    "1. select a subset of all ontogeny sessions, a few sessions from each age and sex\n",
    "2. select a subset of all longtogeny sessions, a few sessions from each age and sex. Make sure to have the same number of sessions and similar ages per mouse."
   ]
  },
  {
   "cell_type": "code",
   "execution_count": 27,
   "id": "38001854-b71c-4131-97d7-b1b7456a4803",
   "metadata": {
    "tags": []
   },
   "outputs": [],
   "source": [
    "import re\n",
    "import json\n",
    "import h5py\n",
    "import pandas as pd\n",
    "from pathlib import Path\n",
    "from toolz import concat, curry, frequencies"
   ]
  },
  {
   "cell_type": "code",
   "execution_count": 2,
   "id": "dec7c436-03c2-4cfe-8d06-cdb3d4c3c86b",
   "metadata": {
    "tags": []
   },
   "outputs": [],
   "source": [
    "arhmm_version = 7\n",
    "size_norm_key = f'win_size_norm_frames_v{arhmm_version - 1}'"
   ]
  },
  {
   "cell_type": "code",
   "execution_count": 3,
   "id": "fc788d60-8b73-4418-aad3-857c0e03de03",
   "metadata": {
    "tags": []
   },
   "outputs": [],
   "source": [
    "session_exclusion_list = '/n/groups/datta/win/longtogeny/data/metadata/Ontogeny experiment list - Session quality control.csv'\n",
    "exclusion_df = pd.read_csv(session_exclusion_list, header=0)"
   ]
  },
  {
   "cell_type": "code",
   "execution_count": 4,
   "id": "e9cc63b3-4c50-43a4-9844-4eb3b42f92a6",
   "metadata": {
    "tags": []
   },
   "outputs": [],
   "source": [
    "exclusion_df['Keep?'] = exclusion_df['Keep?'].str.lower()"
   ]
  },
  {
   "cell_type": "code",
   "execution_count": 5,
   "id": "bc311dfa-8186-4ae0-a7aa-6ad5978862d7",
   "metadata": {
    "tags": []
   },
   "outputs": [
    {
     "data": {
      "text/plain": [
       "array(['y', 'n', '?'], dtype=object)"
      ]
     },
     "execution_count": 5,
     "metadata": {},
     "output_type": "execute_result"
    }
   ],
   "source": [
    "exclusion_df['Keep?'].unique()"
   ]
  },
  {
   "cell_type": "code",
   "execution_count": 6,
   "id": "8dbf748c-7cb8-4035-a5d4-76a6139d1d41",
   "metadata": {
    "tags": []
   },
   "outputs": [],
   "source": [
    "exclusions = exclusion_df.query('`Keep?` != \"y\"')"
   ]
  },
  {
   "cell_type": "code",
   "execution_count": 7,
   "id": "12c3f696-8617-4f2f-8922-3fee3c1614c7",
   "metadata": {
    "tags": []
   },
   "outputs": [
    {
     "data": {
      "text/html": [
       "<div>\n",
       "<style scoped>\n",
       "    .dataframe tbody tr th:only-of-type {\n",
       "        vertical-align: middle;\n",
       "    }\n",
       "\n",
       "    .dataframe tbody tr th {\n",
       "        vertical-align: top;\n",
       "    }\n",
       "\n",
       "    .dataframe thead th {\n",
       "        text-align: right;\n",
       "    }\n",
       "</style>\n",
       "<table border=\"1\" class=\"dataframe\">\n",
       "  <thead>\n",
       "    <tr style=\"text-align: right;\">\n",
       "      <th></th>\n",
       "      <th>File path</th>\n",
       "      <th>Checked?</th>\n",
       "      <th>Keep?</th>\n",
       "      <th>Issue</th>\n",
       "    </tr>\n",
       "  </thead>\n",
       "  <tbody>\n",
       "    <tr>\n",
       "      <th>3</th>\n",
       "      <td>/n/groups/datta/Dana/Ontogeny/raw_data/Ontogen...</td>\n",
       "      <td>y</td>\n",
       "      <td>n</td>\n",
       "      <td>fading, noise, further inspection needed</td>\n",
       "    </tr>\n",
       "    <tr>\n",
       "      <th>4</th>\n",
       "      <td>/n/groups/datta/Dana/Ontogeny/raw_data/Ontogen...</td>\n",
       "      <td>y</td>\n",
       "      <td>n</td>\n",
       "      <td>noise</td>\n",
       "    </tr>\n",
       "    <tr>\n",
       "      <th>5</th>\n",
       "      <td>/n/groups/datta/Dana/Ontogeny/raw_data/Ontogen...</td>\n",
       "      <td>y</td>\n",
       "      <td>n</td>\n",
       "      <td>wall noise</td>\n",
       "    </tr>\n",
       "    <tr>\n",
       "      <th>6</th>\n",
       "      <td>/n/groups/datta/Dana/Ontogeny/raw_data/Ontogen...</td>\n",
       "      <td>y</td>\n",
       "      <td>n</td>\n",
       "      <td>replaced with noise</td>\n",
       "    </tr>\n",
       "    <tr>\n",
       "      <th>7</th>\n",
       "      <td>/n/groups/datta/Dana/Ontogeny/raw_data/Ontogen...</td>\n",
       "      <td>y</td>\n",
       "      <td>n</td>\n",
       "      <td>wall noise</td>\n",
       "    </tr>\n",
       "  </tbody>\n",
       "</table>\n",
       "</div>"
      ],
      "text/plain": [
       "                                           File path Checked? Keep?  \\\n",
       "3  /n/groups/datta/Dana/Ontogeny/raw_data/Ontogen...        y     n   \n",
       "4  /n/groups/datta/Dana/Ontogeny/raw_data/Ontogen...        y     n   \n",
       "5  /n/groups/datta/Dana/Ontogeny/raw_data/Ontogen...        y     n   \n",
       "6  /n/groups/datta/Dana/Ontogeny/raw_data/Ontogen...        y     n   \n",
       "7  /n/groups/datta/Dana/Ontogeny/raw_data/Ontogen...        y     n   \n",
       "\n",
       "                                      Issue  \n",
       "3  fading, noise, further inspection needed  \n",
       "4                                     noise  \n",
       "5                                wall noise  \n",
       "6                       replaced with noise  \n",
       "7                                wall noise  "
      ]
     },
     "execution_count": 7,
     "metadata": {},
     "output_type": "execute_result"
    }
   ],
   "source": [
    "exclusions.head()"
   ]
  },
  {
   "cell_type": "code",
   "execution_count": 8,
   "id": "afacb87f-ed6d-4ff6-89d9-64e023f6bd5e",
   "metadata": {
    "tags": []
   },
   "outputs": [],
   "source": [
    "def is_size_normalized(file):\n",
    "    try:\n",
    "        with h5py.File(file, 'r') as h5f:\n",
    "            return size_norm_key in h5f\n",
    "    except OSError:\n",
    "        print(file)\n",
    "        return False\n",
    "\n",
    "\n",
    "def not_excluded(file):\n",
    "    return str(file) not in exclusions['File path'].values"
   ]
  },
  {
   "cell_type": "markdown",
   "id": "28b8bb46-0725-4090-a12e-f6e6f0797875",
   "metadata": {},
   "source": [
    "## Organize ontogeny sessions\n",
    "\n",
    "These are the data that will be run through PCA and the modeling steps\n",
    "\n",
    "- create a dataframe with the file path, age, sex, and session name\n",
    "- do a groupby and subsample the same number of sessions for each (age, sex) group\n",
    "- symlink results.h5 files to a new folder"
   ]
  },
  {
   "cell_type": "code",
   "execution_count": 9,
   "id": "aec72f89-9bf2-465e-9497-ad50d07e4033",
   "metadata": {
    "tags": []
   },
   "outputs": [],
   "source": [
    "agg_folder = Path(f'/n/groups/datta/win/longtogeny/data/ontogeny/version_{arhmm_version:02d}/training_data')\n",
    "agg_folder.mkdir(exist_ok=True, parents=True)"
   ]
  },
  {
   "cell_type": "code",
   "execution_count": 10,
   "id": "d1245346-71e5-4915-8cb6-c338ac1d0d19",
   "metadata": {
    "tags": []
   },
   "outputs": [],
   "source": [
    "folders = [\n",
    "    '/n/groups/datta/Dana/Ontogeny/raw_data/Ontogeny_females',\n",
    "    '/n/groups/datta/Dana/Ontogeny/raw_data/Ontogeny_males',\n",
    "]\n",
    "\n",
    "folders = [Path(f) for f in folders]"
   ]
  },
  {
   "cell_type": "code",
   "execution_count": 11,
   "id": "7398604d-f29d-4aa2-b196-d65164b8ddf3",
   "metadata": {
    "tags": []
   },
   "outputs": [],
   "source": [
    "@curry\n",
    "def thread_and(funcs, x):\n",
    "    return all(f(x) for f in funcs)"
   ]
  },
  {
   "cell_type": "code",
   "execution_count": 12,
   "id": "26cddb9f-e03e-42cc-83bb-1c2aa0bc4e2f",
   "metadata": {
    "tags": []
   },
   "outputs": [
    {
     "name": "stdout",
     "output_type": "stream",
     "text": [
      "/n/groups/datta/Dana/Ontogeny/raw_data/Ontogeny_males/12months_28042021/session_20210428102836/proc_cleaned/results_00.h5\n"
     ]
    }
   ],
   "source": [
    "# filter files for the ones with size_normalized_frames\n",
    "files = sorted(\n",
    "    filter(\n",
    "        thread_and((is_size_normalized, not_excluded)),\n",
    "        concat(f.glob(\"**/results_00.h5\") for f in folders),\n",
    "    )\n",
    ")"
   ]
  },
  {
   "cell_type": "code",
   "execution_count": 20,
   "id": "a96bba4f-c6a1-463f-9417-8c98217f4b92",
   "metadata": {},
   "outputs": [],
   "source": [
    "parent_counts = frequencies([str(f.parents[1]) for f in files])"
   ]
  },
  {
   "cell_type": "code",
   "execution_count": 21,
   "id": "8379b911-15c3-469f-bf18-2292f776aef7",
   "metadata": {},
   "outputs": [],
   "source": [
    "def not_double(path):\n",
    "    if parent_counts[str(path.parents[1])] > 1:\n",
    "        return 'proc_cleaned' == path.parent.name\n",
    "    return True"
   ]
  },
  {
   "cell_type": "code",
   "execution_count": 23,
   "id": "dc4383ab-013a-4b5d-a910-e6c021d402c1",
   "metadata": {},
   "outputs": [],
   "source": [
    "files = list(filter(not_double, files))"
   ]
  },
  {
   "cell_type": "code",
   "execution_count": 35,
   "id": "03719788-6aa0-49a4-ace4-1b9e55ecf5aa",
   "metadata": {
    "tags": []
   },
   "outputs": [],
   "source": [
    "df = []\n",
    "for f in files:\n",
    "    md = json.load((f.parents[1] / \"metadata.json\").open())\n",
    "    data = dict(\n",
    "        age=f.parents[2].name,\n",
    "        session=f.parents[1].name,\n",
    "        sex=f.parents[3].name.split(\"_\")[-1][:-1],\n",
    "        path=str(f),\n",
    "        SessionName=md[\"SessionName\"],\n",
    "    )\n",
    "    df.append(data)\n",
    "df = pd.DataFrame(df)"
   ]
  },
  {
   "cell_type": "code",
   "execution_count": 38,
   "id": "4017a7c2-1999-44cf-8bf4-d9d97e7a4f9c",
   "metadata": {
    "tags": []
   },
   "outputs": [],
   "source": [
    "df = df[~(df['age'].str.contains('Ontogeny') | df['SessionName'].str.contains(\"CRL\"))]"
   ]
  },
  {
   "cell_type": "code",
   "execution_count": 39,
   "id": "ac228e74-0ab0-4e60-b0e2-0de3c7078ba5",
   "metadata": {
    "tags": []
   },
   "outputs": [
    {
     "data": {
      "text/html": [
       "<div>\n",
       "<style scoped>\n",
       "    .dataframe tbody tr th:only-of-type {\n",
       "        vertical-align: middle;\n",
       "    }\n",
       "\n",
       "    .dataframe tbody tr th {\n",
       "        vertical-align: top;\n",
       "    }\n",
       "\n",
       "    .dataframe thead th {\n",
       "        text-align: right;\n",
       "    }\n",
       "</style>\n",
       "<table border=\"1\" class=\"dataframe\">\n",
       "  <thead>\n",
       "    <tr style=\"text-align: right;\">\n",
       "      <th></th>\n",
       "      <th></th>\n",
       "      <th>session</th>\n",
       "      <th>path</th>\n",
       "      <th>SessionName</th>\n",
       "    </tr>\n",
       "    <tr>\n",
       "      <th>age</th>\n",
       "      <th>sex</th>\n",
       "      <th></th>\n",
       "      <th></th>\n",
       "      <th></th>\n",
       "    </tr>\n",
       "  </thead>\n",
       "  <tbody>\n",
       "    <tr>\n",
       "      <th>12months</th>\n",
       "      <th>female</th>\n",
       "      <td>24</td>\n",
       "      <td>24</td>\n",
       "      <td>24</td>\n",
       "    </tr>\n",
       "    <tr>\n",
       "      <th>12months_28042021</th>\n",
       "      <th>male</th>\n",
       "      <td>26</td>\n",
       "      <td>26</td>\n",
       "      <td>26</td>\n",
       "    </tr>\n",
       "    <tr>\n",
       "      <th>16wks_092923</th>\n",
       "      <th>male</th>\n",
       "      <td>16</td>\n",
       "      <td>16</td>\n",
       "      <td>16</td>\n",
       "    </tr>\n",
       "    <tr>\n",
       "      <th>18months</th>\n",
       "      <th>female</th>\n",
       "      <td>24</td>\n",
       "      <td>24</td>\n",
       "      <td>24</td>\n",
       "    </tr>\n",
       "    <tr>\n",
       "      <th>18months_29042021</th>\n",
       "      <th>male</th>\n",
       "      <td>27</td>\n",
       "      <td>27</td>\n",
       "      <td>27</td>\n",
       "    </tr>\n",
       "    <tr>\n",
       "      <th>20wks_093023</th>\n",
       "      <th>male</th>\n",
       "      <td>16</td>\n",
       "      <td>16</td>\n",
       "      <td>16</td>\n",
       "    </tr>\n",
       "    <tr>\n",
       "      <th>22months_06052023</th>\n",
       "      <th>male</th>\n",
       "      <td>16</td>\n",
       "      <td>16</td>\n",
       "      <td>16</td>\n",
       "    </tr>\n",
       "    <tr>\n",
       "      <th>28wks_092923</th>\n",
       "      <th>male</th>\n",
       "      <td>16</td>\n",
       "      <td>16</td>\n",
       "      <td>16</td>\n",
       "    </tr>\n",
       "    <tr>\n",
       "      <th>32wks_100223</th>\n",
       "      <th>male</th>\n",
       "      <td>16</td>\n",
       "      <td>16</td>\n",
       "      <td>16</td>\n",
       "    </tr>\n",
       "    <tr>\n",
       "      <th>36wks_093023</th>\n",
       "      <th>male</th>\n",
       "      <td>16</td>\n",
       "      <td>16</td>\n",
       "      <td>16</td>\n",
       "    </tr>\n",
       "    <tr>\n",
       "      <th>3months</th>\n",
       "      <th>female</th>\n",
       "      <td>23</td>\n",
       "      <td>23</td>\n",
       "      <td>23</td>\n",
       "    </tr>\n",
       "    <tr>\n",
       "      <th>3months_19042021</th>\n",
       "      <th>male</th>\n",
       "      <td>24</td>\n",
       "      <td>24</td>\n",
       "      <td>24</td>\n",
       "    </tr>\n",
       "    <tr>\n",
       "      <th>3wks</th>\n",
       "      <th>female</th>\n",
       "      <td>23</td>\n",
       "      <td>23</td>\n",
       "      <td>23</td>\n",
       "    </tr>\n",
       "    <tr>\n",
       "      <th>3wks_02112021</th>\n",
       "      <th>male</th>\n",
       "      <td>15</td>\n",
       "      <td>15</td>\n",
       "      <td>15</td>\n",
       "    </tr>\n",
       "    <tr>\n",
       "      <th>56wks_100223</th>\n",
       "      <th>male</th>\n",
       "      <td>16</td>\n",
       "      <td>16</td>\n",
       "      <td>16</td>\n",
       "    </tr>\n",
       "    <tr>\n",
       "      <th>5wks</th>\n",
       "      <th>female</th>\n",
       "      <td>24</td>\n",
       "      <td>24</td>\n",
       "      <td>24</td>\n",
       "    </tr>\n",
       "    <tr>\n",
       "      <th>5wks_02112021</th>\n",
       "      <th>male</th>\n",
       "      <td>16</td>\n",
       "      <td>16</td>\n",
       "      <td>16</td>\n",
       "    </tr>\n",
       "    <tr>\n",
       "      <th>6months</th>\n",
       "      <th>female</th>\n",
       "      <td>24</td>\n",
       "      <td>24</td>\n",
       "      <td>24</td>\n",
       "    </tr>\n",
       "    <tr>\n",
       "      <th>6months_20042021</th>\n",
       "      <th>male</th>\n",
       "      <td>23</td>\n",
       "      <td>23</td>\n",
       "      <td>23</td>\n",
       "    </tr>\n",
       "    <tr>\n",
       "      <th>72wks_100223</th>\n",
       "      <th>male</th>\n",
       "      <td>16</td>\n",
       "      <td>16</td>\n",
       "      <td>16</td>\n",
       "    </tr>\n",
       "    <tr>\n",
       "      <th>7wks</th>\n",
       "      <th>female</th>\n",
       "      <td>24</td>\n",
       "      <td>24</td>\n",
       "      <td>24</td>\n",
       "    </tr>\n",
       "    <tr>\n",
       "      <th>7wks_18112021</th>\n",
       "      <th>male</th>\n",
       "      <td>16</td>\n",
       "      <td>16</td>\n",
       "      <td>16</td>\n",
       "    </tr>\n",
       "    <tr>\n",
       "      <th>80wks_093023</th>\n",
       "      <th>male</th>\n",
       "      <td>16</td>\n",
       "      <td>16</td>\n",
       "      <td>16</td>\n",
       "    </tr>\n",
       "    <tr>\n",
       "      <th>84wks_092923</th>\n",
       "      <th>male</th>\n",
       "      <td>16</td>\n",
       "      <td>16</td>\n",
       "      <td>16</td>\n",
       "    </tr>\n",
       "    <tr>\n",
       "      <th>9months</th>\n",
       "      <th>female</th>\n",
       "      <td>16</td>\n",
       "      <td>16</td>\n",
       "      <td>16</td>\n",
       "    </tr>\n",
       "    <tr>\n",
       "      <th>9months_060923</th>\n",
       "      <th>male</th>\n",
       "      <td>16</td>\n",
       "      <td>16</td>\n",
       "      <td>16</td>\n",
       "    </tr>\n",
       "    <tr>\n",
       "      <th>9wks</th>\n",
       "      <th>female</th>\n",
       "      <td>24</td>\n",
       "      <td>24</td>\n",
       "      <td>24</td>\n",
       "    </tr>\n",
       "    <tr>\n",
       "      <th>9wks_1811_2021</th>\n",
       "      <th>male</th>\n",
       "      <td>16</td>\n",
       "      <td>16</td>\n",
       "      <td>16</td>\n",
       "    </tr>\n",
       "  </tbody>\n",
       "</table>\n",
       "</div>"
      ],
      "text/plain": [
       "                          session  path  SessionName\n",
       "age               sex                               \n",
       "12months          female       24    24           24\n",
       "12months_28042021 male         26    26           26\n",
       "16wks_092923      male         16    16           16\n",
       "18months          female       24    24           24\n",
       "18months_29042021 male         27    27           27\n",
       "20wks_093023      male         16    16           16\n",
       "22months_06052023 male         16    16           16\n",
       "28wks_092923      male         16    16           16\n",
       "32wks_100223      male         16    16           16\n",
       "36wks_093023      male         16    16           16\n",
       "3months           female       23    23           23\n",
       "3months_19042021  male         24    24           24\n",
       "3wks              female       23    23           23\n",
       "3wks_02112021     male         15    15           15\n",
       "56wks_100223      male         16    16           16\n",
       "5wks              female       24    24           24\n",
       "5wks_02112021     male         16    16           16\n",
       "6months           female       24    24           24\n",
       "6months_20042021  male         23    23           23\n",
       "72wks_100223      male         16    16           16\n",
       "7wks              female       24    24           24\n",
       "7wks_18112021     male         16    16           16\n",
       "80wks_093023      male         16    16           16\n",
       "84wks_092923      male         16    16           16\n",
       "9months           female       16    16           16\n",
       "9months_060923    male         16    16           16\n",
       "9wks              female       24    24           24\n",
       "9wks_1811_2021    male         16    16           16"
      ]
     },
     "execution_count": 39,
     "metadata": {},
     "output_type": "execute_result"
    }
   ],
   "source": [
    "df.groupby(['age', 'sex']).count()"
   ]
  },
  {
   "cell_type": "code",
   "execution_count": 40,
   "id": "716800f6-c070-4122-b972-a47aae79f175",
   "metadata": {
    "tags": []
   },
   "outputs": [],
   "source": [
    "# sub-select 4 sessions from each group\n",
    "# 64 sessions = 3.5e6 frames\n",
    "sample = df.groupby(['age', 'sex']).sample(n=6, random_state=0)"
   ]
  },
  {
   "cell_type": "code",
   "execution_count": 41,
   "id": "9a45b8ac-202f-422a-bc66-fb104dc7edca",
   "metadata": {},
   "outputs": [
    {
     "data": {
      "text/plain": [
       "168"
      ]
     },
     "execution_count": 41,
     "metadata": {},
     "output_type": "execute_result"
    }
   ],
   "source": [
    "len(sample)"
   ]
  },
  {
   "cell_type": "code",
   "execution_count": 46,
   "id": "6b7574a0-b502-413a-bcdd-979290d1b00a",
   "metadata": {
    "tags": []
   },
   "outputs": [],
   "source": [
    "for path in map(Path, sample['path']):\n",
    "    try:\n",
    "        new_path = agg_folder / (path.parents[1].name + '.h5')\n",
    "        new_path.symlink_to(path)\n",
    "        new_path = agg_folder / (path.parents[1].name + '.yaml')\n",
    "        new_path.symlink_to(path.with_suffix('.yaml'))\n",
    "    except FileExistsError:\n",
    "        print(path, 'exists in training set')"
   ]
  }
 ],
 "metadata": {
  "kernelspec": {
   "display_name": "Ontogeny",
   "language": "python",
   "name": "aging"
  },
  "language_info": {
   "codemirror_mode": {
    "name": "ipython",
    "version": 3
   },
   "file_extension": ".py",
   "mimetype": "text/x-python",
   "name": "python",
   "nbconvert_exporter": "python",
   "pygments_lexer": "ipython3",
   "version": "3.10.10"
  },
  "widgets": {
   "application/vnd.jupyter.widget-state+json": {
    "state": {},
    "version_major": 2,
    "version_minor": 0
   }
  }
 },
 "nbformat": 4,
 "nbformat_minor": 5
}
