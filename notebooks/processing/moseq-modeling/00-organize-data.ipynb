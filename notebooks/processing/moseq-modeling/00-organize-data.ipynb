{
 "cells": [
  {
   "cell_type": "markdown",
   "id": "56438c6c-2791-41e5-9b4e-24687eeaedf0",
   "metadata": {},
   "source": [
    "# Organize data for running PCA\n",
    "\n",
    "Two main approaches:\n",
    "1. select a subset of all ontogeny sessions, a few sessions from each age and sex\n",
    "2. select a subset of all longtogeny sessions, a few sessions from each age and sex. Make sure to have the same number of sessions and similar ages per mouse."
   ]
  },
  {
   "cell_type": "code",
   "execution_count": 36,
   "id": "0b4baf6f-9c17-4beb-b977-c20bea61e119",
   "metadata": {},
   "outputs": [],
   "source": [
    "import h5py\n",
    "import datetime\n",
    "import pandas as pd\n",
    "from tqdm.auto import tqdm\n",
    "from pathlib import Path\n",
    "from toolz import concat, curry"
   ]
  },
  {
   "cell_type": "code",
   "execution_count": 3,
   "id": "fc788d60-8b73-4418-aad3-857c0e03de03",
   "metadata": {
    "tags": []
   },
   "outputs": [],
   "source": [
    "session_exclusion_list = '/n/groups/datta/win/longtogeny/data/metadata/Ontogeny experiment list - Session quality control.csv'\n",
    "exclusion_df = pd.read_csv(session_exclusion_list, header=0)"
   ]
  },
  {
   "cell_type": "code",
   "execution_count": 5,
   "id": "e9cc63b3-4c50-43a4-9844-4eb3b42f92a6",
   "metadata": {
    "tags": []
   },
   "outputs": [],
   "source": [
    "exclusion_df['Keep?'] = exclusion_df['Keep?'].str.lower()"
   ]
  },
  {
   "cell_type": "code",
   "execution_count": 6,
   "id": "bc311dfa-8186-4ae0-a7aa-6ad5978862d7",
   "metadata": {
    "tags": []
   },
   "outputs": [
    {
     "data": {
      "text/plain": [
       "array(['y', 'n', '?'], dtype=object)"
      ]
     },
     "execution_count": 6,
     "metadata": {},
     "output_type": "execute_result"
    }
   ],
   "source": [
    "exclusion_df['Keep?'].unique()"
   ]
  },
  {
   "cell_type": "code",
   "execution_count": 13,
   "id": "8dbf748c-7cb8-4035-a5d4-76a6139d1d41",
   "metadata": {
    "tags": []
   },
   "outputs": [],
   "source": [
    "exclusions = exclusion_df.query('`Keep?` != \"y\"')"
   ]
  },
  {
   "cell_type": "code",
   "execution_count": 20,
   "id": "12c3f696-8617-4f2f-8922-3fee3c1614c7",
   "metadata": {
    "tags": []
   },
   "outputs": [
    {
     "data": {
      "text/html": [
       "<div>\n",
       "<style scoped>\n",
       "    .dataframe tbody tr th:only-of-type {\n",
       "        vertical-align: middle;\n",
       "    }\n",
       "\n",
       "    .dataframe tbody tr th {\n",
       "        vertical-align: top;\n",
       "    }\n",
       "\n",
       "    .dataframe thead th {\n",
       "        text-align: right;\n",
       "    }\n",
       "</style>\n",
       "<table border=\"1\" class=\"dataframe\">\n",
       "  <thead>\n",
       "    <tr style=\"text-align: right;\">\n",
       "      <th></th>\n",
       "      <th>File path</th>\n",
       "      <th>Checked?</th>\n",
       "      <th>Keep?</th>\n",
       "      <th>Issue</th>\n",
       "    </tr>\n",
       "  </thead>\n",
       "  <tbody>\n",
       "    <tr>\n",
       "      <th>3</th>\n",
       "      <td>/n/groups/datta/Dana/Ontogeny/raw_data/Ontogen...</td>\n",
       "      <td>y</td>\n",
       "      <td>n</td>\n",
       "      <td>fading, noise, further inspection needed</td>\n",
       "    </tr>\n",
       "    <tr>\n",
       "      <th>4</th>\n",
       "      <td>/n/groups/datta/Dana/Ontogeny/raw_data/Ontogen...</td>\n",
       "      <td>y</td>\n",
       "      <td>n</td>\n",
       "      <td>noise</td>\n",
       "    </tr>\n",
       "    <tr>\n",
       "      <th>5</th>\n",
       "      <td>/n/groups/datta/Dana/Ontogeny/raw_data/Ontogen...</td>\n",
       "      <td>y</td>\n",
       "      <td>n</td>\n",
       "      <td>wall noise</td>\n",
       "    </tr>\n",
       "    <tr>\n",
       "      <th>6</th>\n",
       "      <td>/n/groups/datta/Dana/Ontogeny/raw_data/Ontogen...</td>\n",
       "      <td>y</td>\n",
       "      <td>n</td>\n",
       "      <td>replaced with noise</td>\n",
       "    </tr>\n",
       "    <tr>\n",
       "      <th>7</th>\n",
       "      <td>/n/groups/datta/Dana/Ontogeny/raw_data/Ontogen...</td>\n",
       "      <td>y</td>\n",
       "      <td>n</td>\n",
       "      <td>wall noise</td>\n",
       "    </tr>\n",
       "  </tbody>\n",
       "</table>\n",
       "</div>"
      ],
      "text/plain": [
       "                                           File path Checked? Keep?  \\\n",
       "3  /n/groups/datta/Dana/Ontogeny/raw_data/Ontogen...        y     n   \n",
       "4  /n/groups/datta/Dana/Ontogeny/raw_data/Ontogen...        y     n   \n",
       "5  /n/groups/datta/Dana/Ontogeny/raw_data/Ontogen...        y     n   \n",
       "6  /n/groups/datta/Dana/Ontogeny/raw_data/Ontogen...        y     n   \n",
       "7  /n/groups/datta/Dana/Ontogeny/raw_data/Ontogen...        y     n   \n",
       "\n",
       "                                      Issue  \n",
       "3  fading, noise, further inspection needed  \n",
       "4                                     noise  \n",
       "5                                wall noise  \n",
       "6                       replaced with noise  \n",
       "7                                wall noise  "
      ]
     },
     "execution_count": 20,
     "metadata": {},
     "output_type": "execute_result"
    }
   ],
   "source": [
    "exclusions.head()"
   ]
  },
  {
   "cell_type": "code",
   "execution_count": 21,
   "id": "afacb87f-ed6d-4ff6-89d9-64e023f6bd5e",
   "metadata": {
    "tags": []
   },
   "outputs": [],
   "source": [
    "def is_size_normalized(file):\n",
    "    with h5py.File(file, 'r') as h5f:\n",
    "        return 'win_size_norm_frames' in h5f\n",
    "\n",
    "\n",
    "def not_excluded(file):\n",
    "    return file not in exclusions['File path'].values"
   ]
  },
  {
   "cell_type": "markdown",
   "id": "28b8bb46-0725-4090-a12e-f6e6f0797875",
   "metadata": {},
   "source": [
    "## Organize ontogeny sessions\n",
    "\n",
    "These are the data that will be run through PCA and the modeling steps\n",
    "\n",
    "- create a dataframe with the file path, age, sex, and session name\n",
    "- do a groupby and subsample the same number of sessions for each (age, sex) group\n",
    "- symlink results.h5 files to a new folder"
   ]
  },
  {
   "cell_type": "code",
   "execution_count": 40,
   "id": "aec72f89-9bf2-465e-9497-ad50d07e4033",
   "metadata": {
    "tags": []
   },
   "outputs": [],
   "source": [
    "agg_folder = Path('/n/groups/datta/win/longtogeny/data/ontogeny/version_02/training_data')\n",
    "agg_folder.mkdir(exist_ok=True, parents=True)"
   ]
  },
  {
   "cell_type": "code",
   "execution_count": 41,
   "id": "d1245346-71e5-4915-8cb6-c338ac1d0d19",
   "metadata": {
    "tags": []
   },
   "outputs": [],
   "source": [
    "folders = [\n",
    "    '/n/groups/datta/Dana/Ontogeny/raw_data/Ontogeny_females',\n",
    "    '/n/groups/datta/Dana/Ontogeny/raw_data/Ontogeny_males',\n",
    "]\n",
    "\n",
    "folders = [Path(f) for f in folders]"
   ]
  },
  {
   "cell_type": "code",
   "execution_count": 42,
   "id": "7398604d-f29d-4aa2-b196-d65164b8ddf3",
   "metadata": {
    "tags": []
   },
   "outputs": [],
   "source": [
    "@curry\n",
    "def thread_and(funcs, x):\n",
    "    return all(f(x) for f in funcs)"
   ]
  },
  {
   "cell_type": "code",
   "execution_count": 43,
   "id": "26cddb9f-e03e-42cc-83bb-1c2aa0bc4e2f",
   "metadata": {
    "tags": []
   },
   "outputs": [],
   "source": [
    "# filter files for the ones with size_normalized_frames\n",
    "files = sorted(\n",
    "    filter(\n",
    "        thread_and((is_size_normalized, not_excluded)),\n",
    "        concat(f.glob(\"**/results_00.h5\") for f in folders),\n",
    "    )\n",
    ")"
   ]
  },
  {
   "cell_type": "code",
   "execution_count": 45,
   "id": "03719788-6aa0-49a4-ace4-1b9e55ecf5aa",
   "metadata": {
    "tags": []
   },
   "outputs": [],
   "source": [
    "df = []\n",
    "for f in files:\n",
    "    data = dict(\n",
    "        age=f.parents[2].name,\n",
    "        session=f.parents[1].name,\n",
    "        sex=f.parents[3].name.split('_')[-1][:-1],\n",
    "        path=str(f)\n",
    "    )\n",
    "    df.append(data)\n",
    "df = pd.DataFrame(df)"
   ]
  },
  {
   "cell_type": "code",
   "execution_count": 46,
   "id": "e58df58c-529a-48e4-8746-7e9e00ea2646",
   "metadata": {
    "tags": []
   },
   "outputs": [
    {
     "data": {
      "text/html": [
       "<div>\n",
       "<style scoped>\n",
       "    .dataframe tbody tr th:only-of-type {\n",
       "        vertical-align: middle;\n",
       "    }\n",
       "\n",
       "    .dataframe tbody tr th {\n",
       "        vertical-align: top;\n",
       "    }\n",
       "\n",
       "    .dataframe thead th {\n",
       "        text-align: right;\n",
       "    }\n",
       "</style>\n",
       "<table border=\"1\" class=\"dataframe\">\n",
       "  <thead>\n",
       "    <tr style=\"text-align: right;\">\n",
       "      <th></th>\n",
       "      <th></th>\n",
       "      <th>session</th>\n",
       "      <th>path</th>\n",
       "    </tr>\n",
       "    <tr>\n",
       "      <th>age</th>\n",
       "      <th>sex</th>\n",
       "      <th></th>\n",
       "      <th></th>\n",
       "    </tr>\n",
       "  </thead>\n",
       "  <tbody>\n",
       "    <tr>\n",
       "      <th>12months</th>\n",
       "      <th>female</th>\n",
       "      <td>24</td>\n",
       "      <td>24</td>\n",
       "    </tr>\n",
       "    <tr>\n",
       "      <th>12months_28042021</th>\n",
       "      <th>male</th>\n",
       "      <td>26</td>\n",
       "      <td>26</td>\n",
       "    </tr>\n",
       "    <tr>\n",
       "      <th>18months</th>\n",
       "      <th>female</th>\n",
       "      <td>24</td>\n",
       "      <td>24</td>\n",
       "    </tr>\n",
       "    <tr>\n",
       "      <th>18months_29042021</th>\n",
       "      <th>male</th>\n",
       "      <td>27</td>\n",
       "      <td>27</td>\n",
       "    </tr>\n",
       "    <tr>\n",
       "      <th>22months_06052023</th>\n",
       "      <th>male</th>\n",
       "      <td>32</td>\n",
       "      <td>32</td>\n",
       "    </tr>\n",
       "    <tr>\n",
       "      <th>3months</th>\n",
       "      <th>female</th>\n",
       "      <td>24</td>\n",
       "      <td>24</td>\n",
       "    </tr>\n",
       "    <tr>\n",
       "      <th>3months_19042021</th>\n",
       "      <th>male</th>\n",
       "      <td>27</td>\n",
       "      <td>27</td>\n",
       "    </tr>\n",
       "    <tr>\n",
       "      <th>3wks</th>\n",
       "      <th>female</th>\n",
       "      <td>24</td>\n",
       "      <td>24</td>\n",
       "    </tr>\n",
       "    <tr>\n",
       "      <th>3wks_02112021</th>\n",
       "      <th>male</th>\n",
       "      <td>16</td>\n",
       "      <td>16</td>\n",
       "    </tr>\n",
       "    <tr>\n",
       "      <th>5wks</th>\n",
       "      <th>female</th>\n",
       "      <td>24</td>\n",
       "      <td>24</td>\n",
       "    </tr>\n",
       "    <tr>\n",
       "      <th>5wks_02112021</th>\n",
       "      <th>male</th>\n",
       "      <td>16</td>\n",
       "      <td>16</td>\n",
       "    </tr>\n",
       "    <tr>\n",
       "      <th>6months</th>\n",
       "      <th>female</th>\n",
       "      <td>24</td>\n",
       "      <td>24</td>\n",
       "    </tr>\n",
       "    <tr>\n",
       "      <th>6months_20042021</th>\n",
       "      <th>male</th>\n",
       "      <td>24</td>\n",
       "      <td>24</td>\n",
       "    </tr>\n",
       "    <tr>\n",
       "      <th>7wks</th>\n",
       "      <th>female</th>\n",
       "      <td>24</td>\n",
       "      <td>24</td>\n",
       "    </tr>\n",
       "    <tr>\n",
       "      <th>7wks_18112021</th>\n",
       "      <th>male</th>\n",
       "      <td>16</td>\n",
       "      <td>16</td>\n",
       "    </tr>\n",
       "    <tr>\n",
       "      <th>9months</th>\n",
       "      <th>female</th>\n",
       "      <td>16</td>\n",
       "      <td>16</td>\n",
       "    </tr>\n",
       "    <tr>\n",
       "      <th>9months_060923</th>\n",
       "      <th>male</th>\n",
       "      <td>16</td>\n",
       "      <td>16</td>\n",
       "    </tr>\n",
       "    <tr>\n",
       "      <th>9wks</th>\n",
       "      <th>female</th>\n",
       "      <td>24</td>\n",
       "      <td>24</td>\n",
       "    </tr>\n",
       "    <tr>\n",
       "      <th>9wks_1811_2021</th>\n",
       "      <th>male</th>\n",
       "      <td>16</td>\n",
       "      <td>16</td>\n",
       "    </tr>\n",
       "  </tbody>\n",
       "</table>\n",
       "</div>"
      ],
      "text/plain": [
       "                          session  path\n",
       "age               sex                  \n",
       "12months          female       24    24\n",
       "12months_28042021 male         26    26\n",
       "18months          female       24    24\n",
       "18months_29042021 male         27    27\n",
       "22months_06052023 male         32    32\n",
       "3months           female       24    24\n",
       "3months_19042021  male         27    27\n",
       "3wks              female       24    24\n",
       "3wks_02112021     male         16    16\n",
       "5wks              female       24    24\n",
       "5wks_02112021     male         16    16\n",
       "6months           female       24    24\n",
       "6months_20042021  male         24    24\n",
       "7wks              female       24    24\n",
       "7wks_18112021     male         16    16\n",
       "9months           female       16    16\n",
       "9months_060923    male         16    16\n",
       "9wks              female       24    24\n",
       "9wks_1811_2021    male         16    16"
      ]
     },
     "execution_count": 46,
     "metadata": {},
     "output_type": "execute_result"
    }
   ],
   "source": [
    "df.groupby(['age', 'sex']).count()"
   ]
  },
  {
   "cell_type": "code",
   "execution_count": 47,
   "id": "716800f6-c070-4122-b972-a47aae79f175",
   "metadata": {
    "tags": []
   },
   "outputs": [],
   "source": [
    "# sub-select 3 sessions from each group\n",
    "# 51 sessions = 1.8e6 frames\n",
    "sample = df.groupby(['age', 'sex']).sample(n=3, random_state=0)"
   ]
  },
  {
   "cell_type": "code",
   "execution_count": 48,
   "id": "6b7574a0-b502-413a-bcdd-979290d1b00a",
   "metadata": {
    "tags": []
   },
   "outputs": [],
   "source": [
    "for path in map(Path, sample['path']):\n",
    "    try:\n",
    "        new_path = agg_folder / (path.parents[1].name + '.h5')\n",
    "        new_path.symlink_to(path)\n",
    "        new_path = agg_folder / (path.parents[1].name + '.yaml')\n",
    "        new_path.symlink_to(path.with_suffix('.yaml'))\n",
    "    except FileExistsError:\n",
    "        print(path, 'exists in training set')"
   ]
  },
  {
   "cell_type": "markdown",
   "id": "a408f5e4-b7fa-4669-8b67-dac2cdd8ba65",
   "metadata": {},
   "source": [
    "## Organize longtogeny sessions"
   ]
  },
  {
   "cell_type": "code",
   "execution_count": 49,
   "id": "9c2af185-91e6-44f3-a0ef-b220c0387d08",
   "metadata": {
    "tags": []
   },
   "outputs": [],
   "source": [
    "agg_folder = Path('/n/groups/datta/win/longtogeny/data/longtogeny/version_02/training_data')\n",
    "agg_folder.mkdir(exist_ok=True, parents=True)"
   ]
  },
  {
   "cell_type": "code",
   "execution_count": 50,
   "id": "6e81c5ea-1ca0-4f9c-aee4-1e5e2b5449f5",
   "metadata": {},
   "outputs": [],
   "source": [
    "folders = [\n",
    "    '/n/groups/datta/Dana/Ontogeny/raw_data/longtogeny_pre_unet/Females',\n",
    "    '/n/groups/datta/Dana/Ontogeny/raw_data/longtogeny_pre_unet/Males',\n",
    "]\n",
    "folders = [Path(f) for f in folders]"
   ]
  },
  {
   "cell_type": "code",
   "execution_count": 51,
   "id": "a9bb4eeb-19d5-4214-906e-3c8dc83fb24d",
   "metadata": {
    "tags": []
   },
   "outputs": [],
   "source": [
    "# filter files for the ones with size_normalized_frames\n",
    "files = sorted(\n",
    "    filter(\n",
    "        thread_and((is_size_normalized, not_excluded)),\n",
    "        concat(f.glob(\"**/results_00.h5\") for f in folders),\n",
    "    )\n",
    ")"
   ]
  },
  {
   "cell_type": "code",
   "execution_count": 52,
   "id": "7af245a8-f06e-4470-b0b7-7e5d236c6166",
   "metadata": {},
   "outputs": [
    {
     "data": {
      "text/plain": [
       "1651"
      ]
     },
     "execution_count": 52,
     "metadata": {},
     "output_type": "execute_result"
    }
   ],
   "source": [
    "len(files)"
   ]
  },
  {
   "cell_type": "code",
   "execution_count": 53,
   "id": "9b3905c7-ffe6-4c0a-8dec-9729f2430d53",
   "metadata": {
    "tags": []
   },
   "outputs": [
    {
     "name": "stdout",
     "output_type": "stream",
     "text": [
      "002\n",
      "01_01_001\n"
     ]
    }
   ],
   "source": [
    "with h5py.File(files[0], 'r') as h5f:\n",
    "    print(h5f['metadata/acquisition/SessionName'][()].decode())\n",
    "    print(h5f['metadata/acquisition/SubjectName'][()].decode())"
   ]
  },
  {
   "cell_type": "code",
   "execution_count": 54,
   "id": "066fa34b-f274-4551-b5c7-522594b61c00",
   "metadata": {
    "tags": []
   },
   "outputs": [
    {
     "data": {
      "application/vnd.jupyter.widget-view+json": {
       "model_id": "c7d5119e1107437aaad9c8f80c2c0c69",
       "version_major": 2,
       "version_minor": 0
      },
      "text/plain": [
       "  0%|          | 0/1651 [00:00<?, ?it/s]"
      ]
     },
     "metadata": {},
     "output_type": "display_data"
    },
    {
     "name": "stdout",
     "output_type": "stream",
     "text": [
      "/n/groups/datta/Dana/Ontogeny/raw_data/longtogeny_pre_unet/Males/20210403/session_20210403155244/proc/results_00.h5 incomplete\n",
      "/n/groups/datta/Dana/Ontogeny/raw_data/longtogeny_pre_unet/Males/20210406/session_20210406131627/proc/results_00.h5 incomplete\n",
      "/n/groups/datta/Dana/Ontogeny/raw_data/longtogeny_pre_unet/Males/20210410/session_20210410184436/proc/results_00.h5 incomplete\n",
      "/n/groups/datta/Dana/Ontogeny/raw_data/longtogeny_pre_unet/Males/20210410/session_20210410205337/proc/results_00.h5 incomplete\n",
      "/n/groups/datta/Dana/Ontogeny/raw_data/longtogeny_pre_unet/Males/20210423/session_20210423193537/proc/results_00.h5 incomplete\n",
      "/n/groups/datta/Dana/Ontogeny/raw_data/longtogeny_pre_unet/Males/20210514/session_20210514153543/proc/results_00.h5 incomplete\n",
      "/n/groups/datta/Dana/Ontogeny/raw_data/longtogeny_pre_unet/Males/20210521/session_20210521154512/proc/results_00.h5 incomplete\n",
      "/n/groups/datta/Dana/Ontogeny/raw_data/longtogeny_pre_unet/Males/20210526/session_20210526150505/proc/results_00.h5 incomplete\n",
      "/n/groups/datta/Dana/Ontogeny/raw_data/longtogeny_pre_unet/Males/20210526/session_20210526150521/proc/results_00.h5 incomplete\n",
      "/n/groups/datta/Dana/Ontogeny/raw_data/longtogeny_pre_unet/Males/20210528/session_20210528111720/proc/results_00.h5 incomplete\n",
      "/n/groups/datta/Dana/Ontogeny/raw_data/longtogeny_pre_unet/Males/20210531/session_20210531124225/proc/results_00.h5 incomplete\n"
     ]
    }
   ],
   "source": [
    "df = []\n",
    "for f in tqdm(files):\n",
    "    try:\n",
    "        with h5py.File(f, 'r') as h5f:\n",
    "            session = h5f['metadata/acquisition/SubjectName'][()].decode()\n",
    "            start = h5f['metadata/acquisition/StartTime'][()].decode()\n",
    "        sex = f.parents[3].name.lower()[:-1]\n",
    "        sex = 'female' if 'Females' in str(f) else 'male'\n",
    "        data = dict(\n",
    "            mouse=session[:5],\n",
    "            subject_name=session,\n",
    "            session=f.parents[1].name,\n",
    "            sex=sex,\n",
    "            date=datetime.datetime.strptime(start.split('.')[0], '%Y-%m-%dT%H:%M:%S'),\n",
    "            path=str(f)\n",
    "        )\n",
    "        df.append(data)\n",
    "    except KeyError:\n",
    "        print(f, 'incomplete')\n",
    "df = pd.DataFrame(df)"
   ]
  },
  {
   "cell_type": "code",
   "execution_count": 60,
   "id": "d9076d13-2e76-434a-ac90-bfc02607ec1b",
   "metadata": {
    "tags": []
   },
   "outputs": [],
   "source": [
    "filt_df = df[~df['mouse'].str.lower().str.contains('c') & ~df['mouse'].str.lower().str.contains('long')]"
   ]
  },
  {
   "cell_type": "code",
   "execution_count": 61,
   "id": "58351cdc-0780-40cb-b40a-1896749f74bc",
   "metadata": {
    "tags": []
   },
   "outputs": [
    {
     "data": {
      "text/html": [
       "<div>\n",
       "<style scoped>\n",
       "    .dataframe tbody tr th:only-of-type {\n",
       "        vertical-align: middle;\n",
       "    }\n",
       "\n",
       "    .dataframe tbody tr th {\n",
       "        vertical-align: top;\n",
       "    }\n",
       "\n",
       "    .dataframe thead th {\n",
       "        text-align: right;\n",
       "    }\n",
       "</style>\n",
       "<table border=\"1\" class=\"dataframe\">\n",
       "  <thead>\n",
       "    <tr style=\"text-align: right;\">\n",
       "      <th></th>\n",
       "      <th>subject_name</th>\n",
       "      <th>session</th>\n",
       "      <th>sex</th>\n",
       "      <th>date</th>\n",
       "      <th>path</th>\n",
       "    </tr>\n",
       "    <tr>\n",
       "      <th>mouse</th>\n",
       "      <th></th>\n",
       "      <th></th>\n",
       "      <th></th>\n",
       "      <th></th>\n",
       "      <th></th>\n",
       "    </tr>\n",
       "  </thead>\n",
       "  <tbody>\n",
       "    <tr>\n",
       "      <th>01_01</th>\n",
       "      <td>94</td>\n",
       "      <td>94</td>\n",
       "      <td>94</td>\n",
       "      <td>94</td>\n",
       "      <td>94</td>\n",
       "    </tr>\n",
       "    <tr>\n",
       "      <th>01_02</th>\n",
       "      <td>93</td>\n",
       "      <td>93</td>\n",
       "      <td>93</td>\n",
       "      <td>93</td>\n",
       "      <td>93</td>\n",
       "    </tr>\n",
       "    <tr>\n",
       "      <th>01_03</th>\n",
       "      <td>96</td>\n",
       "      <td>96</td>\n",
       "      <td>96</td>\n",
       "      <td>96</td>\n",
       "      <td>96</td>\n",
       "    </tr>\n",
       "    <tr>\n",
       "      <th>01_04</th>\n",
       "      <td>92</td>\n",
       "      <td>92</td>\n",
       "      <td>92</td>\n",
       "      <td>92</td>\n",
       "      <td>92</td>\n",
       "    </tr>\n",
       "    <tr>\n",
       "      <th>02_01</th>\n",
       "      <td>98</td>\n",
       "      <td>98</td>\n",
       "      <td>98</td>\n",
       "      <td>98</td>\n",
       "      <td>98</td>\n",
       "    </tr>\n",
       "    <tr>\n",
       "      <th>02_02</th>\n",
       "      <td>94</td>\n",
       "      <td>94</td>\n",
       "      <td>94</td>\n",
       "      <td>94</td>\n",
       "      <td>94</td>\n",
       "    </tr>\n",
       "    <tr>\n",
       "      <th>02_03</th>\n",
       "      <td>91</td>\n",
       "      <td>91</td>\n",
       "      <td>91</td>\n",
       "      <td>91</td>\n",
       "      <td>91</td>\n",
       "    </tr>\n",
       "    <tr>\n",
       "      <th>02_04</th>\n",
       "      <td>77</td>\n",
       "      <td>77</td>\n",
       "      <td>77</td>\n",
       "      <td>77</td>\n",
       "      <td>77</td>\n",
       "    </tr>\n",
       "    <tr>\n",
       "      <th>03_01</th>\n",
       "      <td>94</td>\n",
       "      <td>94</td>\n",
       "      <td>94</td>\n",
       "      <td>94</td>\n",
       "      <td>94</td>\n",
       "    </tr>\n",
       "    <tr>\n",
       "      <th>03_02</th>\n",
       "      <td>94</td>\n",
       "      <td>94</td>\n",
       "      <td>94</td>\n",
       "      <td>94</td>\n",
       "      <td>94</td>\n",
       "    </tr>\n",
       "    <tr>\n",
       "      <th>03_03</th>\n",
       "      <td>72</td>\n",
       "      <td>72</td>\n",
       "      <td>72</td>\n",
       "      <td>72</td>\n",
       "      <td>72</td>\n",
       "    </tr>\n",
       "    <tr>\n",
       "      <th>03_04</th>\n",
       "      <td>89</td>\n",
       "      <td>89</td>\n",
       "      <td>89</td>\n",
       "      <td>89</td>\n",
       "      <td>89</td>\n",
       "    </tr>\n",
       "    <tr>\n",
       "      <th>04_01</th>\n",
       "      <td>93</td>\n",
       "      <td>93</td>\n",
       "      <td>93</td>\n",
       "      <td>93</td>\n",
       "      <td>93</td>\n",
       "    </tr>\n",
       "    <tr>\n",
       "      <th>04_02</th>\n",
       "      <td>94</td>\n",
       "      <td>94</td>\n",
       "      <td>94</td>\n",
       "      <td>94</td>\n",
       "      <td>94</td>\n",
       "    </tr>\n",
       "    <tr>\n",
       "      <th>04_03</th>\n",
       "      <td>89</td>\n",
       "      <td>89</td>\n",
       "      <td>89</td>\n",
       "      <td>89</td>\n",
       "      <td>89</td>\n",
       "    </tr>\n",
       "    <tr>\n",
       "      <th>04_04</th>\n",
       "      <td>89</td>\n",
       "      <td>89</td>\n",
       "      <td>89</td>\n",
       "      <td>89</td>\n",
       "      <td>89</td>\n",
       "    </tr>\n",
       "    <tr>\n",
       "      <th>05_01</th>\n",
       "      <td>31</td>\n",
       "      <td>31</td>\n",
       "      <td>31</td>\n",
       "      <td>31</td>\n",
       "      <td>31</td>\n",
       "    </tr>\n",
       "    <tr>\n",
       "      <th>05_02</th>\n",
       "      <td>28</td>\n",
       "      <td>28</td>\n",
       "      <td>28</td>\n",
       "      <td>28</td>\n",
       "      <td>28</td>\n",
       "    </tr>\n",
       "    <tr>\n",
       "      <th>05_03</th>\n",
       "      <td>24</td>\n",
       "      <td>24</td>\n",
       "      <td>24</td>\n",
       "      <td>24</td>\n",
       "      <td>24</td>\n",
       "    </tr>\n",
       "    <tr>\n",
       "      <th>05_04</th>\n",
       "      <td>31</td>\n",
       "      <td>31</td>\n",
       "      <td>31</td>\n",
       "      <td>31</td>\n",
       "      <td>31</td>\n",
       "    </tr>\n",
       "  </tbody>\n",
       "</table>\n",
       "</div>"
      ],
      "text/plain": [
       "       subject_name  session  sex  date  path\n",
       "mouse                                        \n",
       "01_01            94       94   94    94    94\n",
       "01_02            93       93   93    93    93\n",
       "01_03            96       96   96    96    96\n",
       "01_04            92       92   92    92    92\n",
       "02_01            98       98   98    98    98\n",
       "02_02            94       94   94    94    94\n",
       "02_03            91       91   91    91    91\n",
       "02_04            77       77   77    77    77\n",
       "03_01            94       94   94    94    94\n",
       "03_02            94       94   94    94    94\n",
       "03_03            72       72   72    72    72\n",
       "03_04            89       89   89    89    89\n",
       "04_01            93       93   93    93    93\n",
       "04_02            94       94   94    94    94\n",
       "04_03            89       89   89    89    89\n",
       "04_04            89       89   89    89    89\n",
       "05_01            31       31   31    31    31\n",
       "05_02            28       28   28    28    28\n",
       "05_03            24       24   24    24    24\n",
       "05_04            31       31   31    31    31"
      ]
     },
     "execution_count": 61,
     "metadata": {},
     "output_type": "execute_result"
    }
   ],
   "source": [
    "filt_df.groupby('mouse').count()"
   ]
  },
  {
   "cell_type": "code",
   "execution_count": 62,
   "id": "2c6f8587-b491-44cb-b60b-b18135c734f7",
   "metadata": {
    "tags": []
   },
   "outputs": [],
   "source": [
    "sample = filt_df.groupby('mouse').sample(n=3, random_state=0)"
   ]
  },
  {
   "cell_type": "code",
   "execution_count": 63,
   "id": "05ad94c3-b6f9-484a-ada6-923ddcf8d240",
   "metadata": {
    "tags": []
   },
   "outputs": [],
   "source": [
    "for path in map(Path, sample['path']):\n",
    "    try:\n",
    "        new_path = agg_folder / (path.parents[1].name + '.h5')\n",
    "        new_path.symlink_to(path)\n",
    "        new_path = agg_folder / (path.parents[1].name + '.yaml')\n",
    "        new_path.symlink_to(path.with_suffix('.yaml'))\n",
    "    except FileExistsError:\n",
    "        print(path, 'exists in training set')"
   ]
  },
  {
   "cell_type": "code",
   "execution_count": null,
   "id": "f3381e70-ae7c-438f-b2f8-e8415358f1b7",
   "metadata": {},
   "outputs": [],
   "source": []
  }
 ],
 "metadata": {
  "kernelspec": {
   "display_name": "Ontogeny",
   "language": "python",
   "name": "aging"
  },
  "language_info": {
   "codemirror_mode": {
    "name": "ipython",
    "version": 3
   },
   "file_extension": ".py",
   "mimetype": "text/x-python",
   "name": "python",
   "nbconvert_exporter": "python",
   "pygments_lexer": "ipython3",
   "version": "3.10.10"
  },
  "widgets": {
   "application/vnd.jupyter.widget-state+json": {
    "state": {
     "099d7bfe734a47a9a633903cdbe0eeea": {
      "model_module": "@jupyter-widgets/controls",
      "model_module_version": "2.0.0",
      "model_name": "HTMLModel",
      "state": {
       "layout": "IPY_MODEL_c571cea1a70442d7b7e7d8390373e18a",
       "style": "IPY_MODEL_57ba535332124c78acadb55399d7583e",
       "value": " 1651/1651 [01:50&lt;00:00, 60.34it/s]"
      }
     },
     "2fa19bcfefce4a1c95ff17eca32efc86": {
      "model_module": "@jupyter-widgets/controls",
      "model_module_version": "2.0.0",
      "model_name": "HTMLModel",
      "state": {
       "layout": "IPY_MODEL_9ccae8594a3346279155fcfe3fd165a3",
       "style": "IPY_MODEL_a18c9248fbe8492e8cb2018d0a78bc2c",
       "value": "100%"
      }
     },
     "57ba535332124c78acadb55399d7583e": {
      "model_module": "@jupyter-widgets/controls",
      "model_module_version": "2.0.0",
      "model_name": "HTMLStyleModel",
      "state": {
       "description_width": "",
       "font_size": null,
       "text_color": null
      }
     },
     "6e05a85f64bc4d2587512881d6a68421": {
      "model_module": "@jupyter-widgets/controls",
      "model_module_version": "2.0.0",
      "model_name": "ProgressStyleModel",
      "state": {
       "description_width": ""
      }
     },
     "9ccae8594a3346279155fcfe3fd165a3": {
      "model_module": "@jupyter-widgets/base",
      "model_module_version": "2.0.0",
      "model_name": "LayoutModel",
      "state": {}
     },
     "9e682d28e7a4431aa546b949770a17ec": {
      "model_module": "@jupyter-widgets/controls",
      "model_module_version": "2.0.0",
      "model_name": "FloatProgressModel",
      "state": {
       "bar_style": "success",
       "layout": "IPY_MODEL_c43fa98f56b54c62becb94b2d2fd6571",
       "max": 1651,
       "style": "IPY_MODEL_6e05a85f64bc4d2587512881d6a68421",
       "value": 1651
      }
     },
     "a18c9248fbe8492e8cb2018d0a78bc2c": {
      "model_module": "@jupyter-widgets/controls",
      "model_module_version": "2.0.0",
      "model_name": "HTMLStyleModel",
      "state": {
       "description_width": "",
       "font_size": null,
       "text_color": null
      }
     },
     "b529b3304e8144d8bbd9d064fa623fa0": {
      "model_module": "@jupyter-widgets/base",
      "model_module_version": "2.0.0",
      "model_name": "LayoutModel",
      "state": {}
     },
     "c43fa98f56b54c62becb94b2d2fd6571": {
      "model_module": "@jupyter-widgets/base",
      "model_module_version": "2.0.0",
      "model_name": "LayoutModel",
      "state": {}
     },
     "c571cea1a70442d7b7e7d8390373e18a": {
      "model_module": "@jupyter-widgets/base",
      "model_module_version": "2.0.0",
      "model_name": "LayoutModel",
      "state": {}
     },
     "c7d5119e1107437aaad9c8f80c2c0c69": {
      "model_module": "@jupyter-widgets/controls",
      "model_module_version": "2.0.0",
      "model_name": "HBoxModel",
      "state": {
       "children": [
        "IPY_MODEL_2fa19bcfefce4a1c95ff17eca32efc86",
        "IPY_MODEL_9e682d28e7a4431aa546b949770a17ec",
        "IPY_MODEL_099d7bfe734a47a9a633903cdbe0eeea"
       ],
       "layout": "IPY_MODEL_b529b3304e8144d8bbd9d064fa623fa0"
      }
     }
    },
    "version_major": 2,
    "version_minor": 0
   }
  }
 },
 "nbformat": 4,
 "nbformat_minor": 5
}
