{
 "cells": [
  {
   "cell_type": "code",
   "execution_count": 1,
   "id": "4494b89a-db19-4894-aa21-0a1cc851cdc6",
   "metadata": {
    "tags": []
   },
   "outputs": [],
   "source": [
    "import h5py\n",
    "import numpy as np\n",
    "import pandas as pd\n",
    "from pathlib import Path\n",
    "from tqdm.auto import tqdm\n",
    "from collections import defaultdict\n",
    "from aging.organization.paths import FOLDERS\n",
    "from aging.size_norm.data import clean\n",
    "from aging.video import write_movie_av\n",
    "from scipy.ndimage import rotate"
   ]
  },
  {
   "cell_type": "code",
   "execution_count": 9,
   "id": "8ca02da8",
   "metadata": {},
   "outputs": [],
   "source": [
    "def make_slice(pos, pad):\n",
    "    pos = int(pos) + pad\n",
    "    return slice(pos - 40, pos + 40)\n",
    "\n",
    "\n",
    "def is_ok_position(pos, pad, max_pos):\n",
    "    pos = int(pos) + pad\n",
    "    return ((pos - 40) > 0) and ((pos + 40) < max_pos)"
   ]
  },
  {
   "cell_type": "code",
   "execution_count": 3,
   "id": "c33de8c1-8d2e-4ab6-b421-fa66993a5ca3",
   "metadata": {
    "tags": []
   },
   "outputs": [],
   "source": [
    "syllable_path = '/n/groups/datta/win/longtogeny/data/ontogeny/version_05/all_data_pca/syllables.h5'\n",
    "pca_path = '/n/groups/datta/win/longtogeny/data/ontogeny/version_05/all_data_pca/pca_scores.h5'"
   ]
  },
  {
   "cell_type": "code",
   "execution_count": 4,
   "id": "cc558ccb-5ffd-4858-b099-9e3c2ca50edf",
   "metadata": {},
   "outputs": [
    {
     "data": {
      "application/vnd.jupyter.widget-view+json": {
       "model_id": "54fe4cdcf6ab46a88c7873c326130ce0",
       "version_major": 2,
       "version_minor": 0
      },
      "text/plain": [
       "  0%|          | 0/5 [00:00<?, ?it/s]"
      ]
     },
     "metadata": {},
     "output_type": "display_data"
    }
   ],
   "source": [
    "uuid_map = defaultdict(dict)\n",
    "bad_examples = []\n",
    "\n",
    "for folder in tqdm(FOLDERS):\n",
    "    for file in folder.glob('**/results_00.h5'):\n",
    "        try:\n",
    "            with h5py.File(file, 'r') as h5f:\n",
    "                uuid = h5f['metadata/uuid'][()].decode()\n",
    "                uuid_map[folder][uuid] = file\n",
    "        except OSError:\n",
    "            bad_examples.append(file)\n",
    "uuid_map = dict(uuid_map)"
   ]
  },
  {
   "cell_type": "code",
   "execution_count": 5,
   "id": "172f3ae9",
   "metadata": {},
   "outputs": [],
   "source": [
    "min_dur = 5  # frames\n",
    "max_dur = 60\n",
    "pad = 30  # frames\n",
    "n_examples = 40\n",
    "seed = 0\n",
    "frames_key = 'frames'  # or win_size_norm_frames_v4\n",
    "cm_keys = ['centroid_x_px', 'centroid_y_px', 'angle']\n",
    "\n",
    "radius = 2\n",
    "center = (80 // 2, ) * 2  # hard-coded for aging project\n",
    "height_thresh = 10"
   ]
  },
  {
   "cell_type": "code",
   "execution_count": 10,
   "id": "223fcfca-f6d9-470a-83fb-264064190c7b",
   "metadata": {
    "tags": []
   },
   "outputs": [
    {
     "data": {
      "application/vnd.jupyter.widget-view+json": {
       "model_id": "f33a6076d8cc4bb0ad41c290363d8b41",
       "version_major": 2,
       "version_minor": 0
      },
      "text/plain": [
       "Processing experiments:   0%|          | 0/5 [00:00<?, ?it/s]"
      ]
     },
     "metadata": {},
     "output_type": "display_data"
    },
    {
     "data": {
      "application/vnd.jupyter.widget-view+json": {
       "model_id": "b0625ea616864886856887fcfe3a4716",
       "version_major": 2,
       "version_minor": 0
      },
      "text/plain": [
       "Extracting syllables:   0%|          | 0/728 [00:00<?, ?it/s]"
      ]
     },
     "metadata": {},
     "output_type": "display_data"
    },
    {
     "data": {
      "application/vnd.jupyter.widget-view+json": {
       "model_id": "052bb502a3fd4a4e9e49f26c03a3af91",
       "version_major": 2,
       "version_minor": 0
      },
      "text/plain": [
       "Writing movies:   0%|          | 0/47 [00:00<?, ?it/s]"
      ]
     },
     "metadata": {},
     "output_type": "display_data"
    },
    {
     "data": {
      "application/vnd.jupyter.widget-view+json": {
       "model_id": "9118a429cb2340098f11617ba1d22dc5",
       "version_major": 2,
       "version_minor": 0
      },
      "text/plain": [
       "Extracting syllables:   0%|          | 0/1066 [00:00<?, ?it/s]"
      ]
     },
     "metadata": {},
     "output_type": "display_data"
    },
    {
     "data": {
      "application/vnd.jupyter.widget-view+json": {
       "model_id": "21833b225c26498895fa02945258eb67",
       "version_major": 2,
       "version_minor": 0
      },
      "text/plain": [
       "Writing movies:   0%|          | 0/47 [00:00<?, ?it/s]"
      ]
     },
     "metadata": {},
     "output_type": "display_data"
    },
    {
     "data": {
      "application/vnd.jupyter.widget-view+json": {
       "model_id": "c083223c16b642e98b259b4972994263",
       "version_major": 2,
       "version_minor": 0
      },
      "text/plain": [
       "Extracting syllables:   0%|          | 0/845 [00:00<?, ?it/s]"
      ]
     },
     "metadata": {},
     "output_type": "display_data"
    },
    {
     "data": {
      "application/vnd.jupyter.widget-view+json": {
       "model_id": "2dfd6ac77ab34062bef37de8416ae29b",
       "version_major": 2,
       "version_minor": 0
      },
      "text/plain": [
       "Writing movies:   0%|          | 0/47 [00:00<?, ?it/s]"
      ]
     },
     "metadata": {},
     "output_type": "display_data"
    },
    {
     "data": {
      "application/vnd.jupyter.widget-view+json": {
       "model_id": "0a6e56c7548e4e69a559fd1da467ec00",
       "version_major": 2,
       "version_minor": 0
      },
      "text/plain": [
       "Extracting syllables:   0%|          | 0/216 [00:00<?, ?it/s]"
      ]
     },
     "metadata": {},
     "output_type": "display_data"
    },
    {
     "data": {
      "application/vnd.jupyter.widget-view+json": {
       "model_id": "fede7ae2d0ec457bafc08a066d7fed3d",
       "version_major": 2,
       "version_minor": 0
      },
      "text/plain": [
       "Writing movies:   0%|          | 0/50 [00:00<?, ?it/s]"
      ]
     },
     "metadata": {},
     "output_type": "display_data"
    },
    {
     "data": {
      "application/vnd.jupyter.widget-view+json": {
       "model_id": "c31bf73ca14e48099a9c68aa74d8c388",
       "version_major": 2,
       "version_minor": 0
      },
      "text/plain": [
       "Extracting syllables:   0%|          | 0/224 [00:00<?, ?it/s]"
      ]
     },
     "metadata": {},
     "output_type": "display_data"
    },
    {
     "data": {
      "application/vnd.jupyter.widget-view+json": {
       "model_id": "685fbcd2d12e4acab4be7193b42eb3bf",
       "version_major": 2,
       "version_minor": 0
      },
      "text/plain": [
       "Writing movies:   0%|          | 0/47 [00:00<?, ?it/s]"
      ]
     },
     "metadata": {},
     "output_type": "display_data"
    }
   ],
   "source": [
    "base_crowd_movie_folder = Path(\n",
    "    \"/n/groups/datta/win/longtogeny/data/ontogeny/version_05/all_data_pca/crowd_movies\"\n",
    ")\n",
    "for FOLDER in tqdm(FOLDERS, desc=\"Processing experiments\"):\n",
    "    crowd_movie_folder = base_crowd_movie_folder / FOLDER.name\n",
    "    # open syllable and pca h5 file\n",
    "    uuid_dict = uuid_map[FOLDER]\n",
    "    with h5py.File(syllable_path, \"r\") as syll_h5, h5py.File(pca_path, \"r\") as pca_h5:\n",
    "        # construct df for syllables in this experiment:\n",
    "        df = []\n",
    "        for uuid, file in uuid_dict.items():\n",
    "            try:\n",
    "                df.append(\n",
    "                    pd.DataFrame(\n",
    "                        dict(\n",
    "                            syllables=syll_h5[uuid][()],\n",
    "                            uuid=uuid,\n",
    "                            file=str(file),\n",
    "                            frame_idx=pca_h5[\"scores_idx\"][uuid][()],\n",
    "                        )\n",
    "                    )\n",
    "                )\n",
    "            except KeyError:\n",
    "                continue\n",
    "\n",
    "    # concatenate dataframe, compute syllable durations\n",
    "    df = pd.concat(df, ignore_index=True)\n",
    "    df[\"onsets\"] = df.groupby(\"uuid\", sort=False)[\"syllables\"].transform(\n",
    "        lambda v: v.diff() != 0\n",
    "    )\n",
    "    idx = np.where(df[\"onsets\"])[0]\n",
    "    df.loc[df[\"onsets\"], \"duration\"] = np.append(np.diff(idx), [len(df) - idx[-1]])\n",
    "    df[\"duration\"] = df[\"duration\"].ffill().astype(\"uint16\")\n",
    "    syllables = df[\"syllables\"].unique()\n",
    "    df = df.dropna(subset=[\"frame_idx\"])\n",
    "    df[\"frame_idx\"] = df[\"frame_idx\"].astype(\"uint32\")\n",
    "\n",
    "    crowd_matrix_dict = {}\n",
    "    total_examples = []\n",
    "\n",
    "    for syllable in syllables:\n",
    "        mask = (\n",
    "            (df[\"syllables\"] == syllable)\n",
    "            & df[\"duration\"].between(min_dur, max_dur)\n",
    "            & df[\"onsets\"]\n",
    "            & (df[\"frame_idx\"] > pad)\n",
    "        )\n",
    "        examples = df[mask].sample(n=min(n_examples, mask.sum()), random_state=seed)\n",
    "        examples = examples.sort_values(by=[\"file\", \"frame_idx\"])\n",
    "        if len(examples) == 0:\n",
    "            continue\n",
    "        total_examples.append(examples)\n",
    "        crowd_matrix_dict[syllable] = np.zeros(\n",
    "            (examples[\"duration\"].max() + pad * 2, 424, 512), dtype=\"uint8\"\n",
    "        )\n",
    "    total_examples = pd.concat(total_examples, ignore_index=True)\n",
    "\n",
    "    for file, _df in tqdm(\n",
    "        total_examples.groupby(\"file\", sort=False), desc=\"Extracting syllables\"\n",
    "    ):\n",
    "        with h5py.File(file, \"r\") as h5f:\n",
    "            extents = np.where(h5f[\"metadata/extraction/roi\"])\n",
    "            y_min = extents[0].min()\n",
    "            x_min = extents[1].min()\n",
    "            for idx, row in _df.sort_values(by=\"frame_idx\").iterrows():\n",
    "                agg_feats = {}\n",
    "                start = row.frame_idx - pad\n",
    "                end = row.frame_idx + row.duration + pad\n",
    "                agg_feats[\"frames\"] = np.array(\n",
    "                    [clean(f) for f in h5f[frames_key][start:end]]\n",
    "                )\n",
    "                for key in cm_keys:\n",
    "                    agg_feats[key] = h5f[\"scalars\"][key][start:end]\n",
    "                flips = h5f[\"metadata/extraction/flips\"][start:end]\n",
    "                agg_feats[\"angle\"] -= np.pi * flips\n",
    "                agg_feats[\"angle\"] = np.rad2deg(agg_feats[\"angle\"])\n",
    "                rotated = np.array(\n",
    "                    [\n",
    "                        rotate(f, a, reshape=False)\n",
    "                        for f, a in zip(agg_feats[\"frames\"], agg_feats[\"angle\"])\n",
    "                    ],\n",
    "                    dtype=\"uint8\",\n",
    "                )\n",
    "                rotated[\n",
    "                    pad:-pad,\n",
    "                    center[0] - radius : center[0] + radius,\n",
    "                    center[1] - radius : center[1] + radius,\n",
    "                ] = 255\n",
    "                for i, (x, y, frame) in enumerate(\n",
    "                    zip(\n",
    "                        agg_feats[\"centroid_x_px\"],\n",
    "                        agg_feats[\"centroid_y_px\"],\n",
    "                        rotated,\n",
    "                    )\n",
    "                ):\n",
    "                    if np.isnan(x) or np.isnan(y):\n",
    "                        continue\n",
    "                    if not is_ok_position(y, y_min, 424) or not is_ok_position(\n",
    "                        x, x_min, 512\n",
    "                    ):\n",
    "                        continue\n",
    "                    ys, xs = make_slice(y, y_min), make_slice(x, x_min)\n",
    "                    crowd_matrix_dict[row.syllables][i, ys, xs] = frame + (\n",
    "                        (frame < height_thresh)\n",
    "                        * crowd_matrix_dict[row.syllables][i, ys, xs]\n",
    "                    )\n",
    "\n",
    "    for syllable, mov in tqdm(crowd_matrix_dict.items(), desc=\"Writing movies\"):\n",
    "        write_movie_av(\n",
    "            crowd_movie_folder / f\"syllable_{syllable:02d}.mp4\",\n",
    "            np.clip(mov, 0, 95),\n",
    "            cmap=\"cubehelix\",\n",
    "        )"
   ]
  },
  {
   "cell_type": "code",
   "execution_count": null,
   "id": "3d1dbfac-a58d-4614-8084-27bf7f50f9ec",
   "metadata": {},
   "outputs": [],
   "source": []
  }
 ],
 "metadata": {
  "kernelspec": {
   "display_name": "Ontogeny",
   "language": "python",
   "name": "aging"
  },
  "language_info": {
   "codemirror_mode": {
    "name": "ipython",
    "version": 3
   },
   "file_extension": ".py",
   "mimetype": "text/x-python",
   "name": "python",
   "nbconvert_exporter": "python",
   "pygments_lexer": "ipython3",
   "version": "3.10.10"
  },
  "widgets": {
   "application/vnd.jupyter.widget-state+json": {
    "state": {
     "01feb7cb296641469e4700b5f6e88926": {
      "model_module": "@jupyter-widgets/controls",
      "model_module_version": "2.0.0",
      "model_name": "HTMLModel",
      "state": {
       "layout": "IPY_MODEL_12ff5ca9115e4ea9b4b95d3e8afb3c96",
       "style": "IPY_MODEL_340309b6657f4222aedf59b12c08325e",
       "value": "Writing movies: 100%"
      }
     },
     "0353a1e8fe574cd181c5fc982fd5947b": {
      "model_module": "@jupyter-widgets/controls",
      "model_module_version": "2.0.0",
      "model_name": "ProgressStyleModel",
      "state": {
       "description_width": ""
      }
     },
     "03628ee30bc74f0c85c967c8b344082a": {
      "model_module": "@jupyter-widgets/base",
      "model_module_version": "2.0.0",
      "model_name": "LayoutModel",
      "state": {}
     },
     "04056e216dd44ace8afe2ce26adc0e16": {
      "model_module": "@jupyter-widgets/base",
      "model_module_version": "2.0.0",
      "model_name": "LayoutModel",
      "state": {}
     },
     "052bb502a3fd4a4e9e49f26c03a3af91": {
      "model_module": "@jupyter-widgets/controls",
      "model_module_version": "2.0.0",
      "model_name": "HBoxModel",
      "state": {
       "children": [
        "IPY_MODEL_c98fb6cfcf6944f8bf68432d4bbe58f2",
        "IPY_MODEL_605ec81ce58b4128a30e198dace3cb05",
        "IPY_MODEL_f9763a61b286406cbf87deaeabb2998b"
       ],
       "layout": "IPY_MODEL_59ad8f9a745b4a7c83c409a3724c7276"
      }
     },
     "0587c1ebb7db481dbb2842ecd1e11151": {
      "model_module": "@jupyter-widgets/base",
      "model_module_version": "2.0.0",
      "model_name": "LayoutModel",
      "state": {}
     },
     "0762cf2f86664b6fade0becacd8376f7": {
      "model_module": "@jupyter-widgets/controls",
      "model_module_version": "2.0.0",
      "model_name": "ProgressStyleModel",
      "state": {
       "description_width": ""
      }
     },
     "0a3e7d1666a240658c121fac199c0718": {
      "model_module": "@jupyter-widgets/base",
      "model_module_version": "2.0.0",
      "model_name": "LayoutModel",
      "state": {}
     },
     "0a6e56c7548e4e69a559fd1da467ec00": {
      "model_module": "@jupyter-widgets/controls",
      "model_module_version": "2.0.0",
      "model_name": "HBoxModel",
      "state": {
       "children": [
        "IPY_MODEL_f4b10a606c284601943ba009f57d2e98",
        "IPY_MODEL_6f15e8cb01ae4cb5b053a9ac18811b96",
        "IPY_MODEL_d95ebd7ca23d40a88dda33c493721485"
       ],
       "layout": "IPY_MODEL_ee906be639e34205b10bce1ace2c26e9"
      }
     },
     "0c69419357244e929f9f80ff55fccf4d": {
      "model_module": "@jupyter-widgets/controls",
      "model_module_version": "2.0.0",
      "model_name": "HTMLStyleModel",
      "state": {
       "description_width": "",
       "font_size": null,
       "text_color": null
      }
     },
     "12ff5ca9115e4ea9b4b95d3e8afb3c96": {
      "model_module": "@jupyter-widgets/base",
      "model_module_version": "2.0.0",
      "model_name": "LayoutModel",
      "state": {}
     },
     "162e9c063437421ca4f168720b2d390d": {
      "model_module": "@jupyter-widgets/controls",
      "model_module_version": "2.0.0",
      "model_name": "HTMLStyleModel",
      "state": {
       "description_width": "",
       "font_size": null,
       "text_color": null
      }
     },
     "1758a7a11dbd41c8840f756b38578246": {
      "model_module": "@jupyter-widgets/base",
      "model_module_version": "2.0.0",
      "model_name": "LayoutModel",
      "state": {}
     },
     "18d423f1f1a74077a8dd3bf71da1b29f": {
      "model_module": "@jupyter-widgets/base",
      "model_module_version": "2.0.0",
      "model_name": "LayoutModel",
      "state": {}
     },
     "1dd42b0149a24461ab86c2140057056e": {
      "model_module": "@jupyter-widgets/base",
      "model_module_version": "2.0.0",
      "model_name": "LayoutModel",
      "state": {}
     },
     "1de976403d994a47aa26e6541e942460": {
      "model_module": "@jupyter-widgets/controls",
      "model_module_version": "2.0.0",
      "model_name": "HTMLStyleModel",
      "state": {
       "description_width": "",
       "font_size": null,
       "text_color": null
      }
     },
     "1feec48747814326bd908d7463786bd5": {
      "model_module": "@jupyter-widgets/base",
      "model_module_version": "2.0.0",
      "model_name": "LayoutModel",
      "state": {}
     },
     "21833b225c26498895fa02945258eb67": {
      "model_module": "@jupyter-widgets/controls",
      "model_module_version": "2.0.0",
      "model_name": "HBoxModel",
      "state": {
       "children": [
        "IPY_MODEL_49aed5ca59ec4157ab27e820acb784ba",
        "IPY_MODEL_6ede24f3503f4555b519187695891abf",
        "IPY_MODEL_ae75d957a8b94cfeb6624bc6883c062c"
       ],
       "layout": "IPY_MODEL_1dd42b0149a24461ab86c2140057056e"
      }
     },
     "245e66dd06d342cfac3fd7f2f003ff23": {
      "model_module": "@jupyter-widgets/controls",
      "model_module_version": "2.0.0",
      "model_name": "FloatProgressModel",
      "state": {
       "bar_style": "success",
       "layout": "IPY_MODEL_a312a740fbb5483b8e94fc0a49acd094",
       "max": 224,
       "style": "IPY_MODEL_534fa504ad594ab18489b1dcad418147",
       "value": 224
      }
     },
     "2527959f702c4ff98a4bc03d09e8076a": {
      "model_module": "@jupyter-widgets/base",
      "model_module_version": "2.0.0",
      "model_name": "LayoutModel",
      "state": {}
     },
     "25d7b36405f440a3b5690b5f17d1cc50": {
      "model_module": "@jupyter-widgets/base",
      "model_module_version": "2.0.0",
      "model_name": "LayoutModel",
      "state": {}
     },
     "28689fdd83314e22abeb428abe476bb5": {
      "model_module": "@jupyter-widgets/controls",
      "model_module_version": "2.0.0",
      "model_name": "ProgressStyleModel",
      "state": {
       "description_width": ""
      }
     },
     "2a03e66e2faf4eb584dd5c48e7bb5689": {
      "model_module": "@jupyter-widgets/base",
      "model_module_version": "2.0.0",
      "model_name": "LayoutModel",
      "state": {}
     },
     "2d76c43968784894a1d5daf4c1d8f604": {
      "model_module": "@jupyter-widgets/controls",
      "model_module_version": "2.0.0",
      "model_name": "FloatProgressModel",
      "state": {
       "bar_style": "success",
       "layout": "IPY_MODEL_c8d732e81cb54e9a9c279a359a0bdc23",
       "max": 47,
       "style": "IPY_MODEL_b71a1fc3e43a4cdab23ca3f6ee58d02f",
       "value": 47
      }
     },
     "2dfd6ac77ab34062bef37de8416ae29b": {
      "model_module": "@jupyter-widgets/controls",
      "model_module_version": "2.0.0",
      "model_name": "HBoxModel",
      "state": {
       "children": [
        "IPY_MODEL_9d7854a4c8ba470e9a29b44f99dbed3c",
        "IPY_MODEL_2d76c43968784894a1d5daf4c1d8f604",
        "IPY_MODEL_69e2a65b1973476bb763e68775ae10e9"
       ],
       "layout": "IPY_MODEL_a072bd64df3c4e6a947d1fab2951761a"
      }
     },
     "2eb0d8ad07044fda8836ca8f871a930f": {
      "model_module": "@jupyter-widgets/base",
      "model_module_version": "2.0.0",
      "model_name": "LayoutModel",
      "state": {}
     },
     "30667ef268544d53b2ffcf32d7124d88": {
      "model_module": "@jupyter-widgets/controls",
      "model_module_version": "2.0.0",
      "model_name": "HTMLModel",
      "state": {
       "layout": "IPY_MODEL_71cad30bffca40f88e14c1e2289bcdd5",
       "style": "IPY_MODEL_e89470fa5b2c4e8c86c67e46da7cb742",
       "value": " 728/728 [05:01&lt;00:00,  5.89it/s]"
      }
     },
     "30b6a7f410e64b05910eb5b9822b6be4": {
      "model_module": "@jupyter-widgets/base",
      "model_module_version": "2.0.0",
      "model_name": "LayoutModel",
      "state": {}
     },
     "30dd2bf71c2a4a81b1f31a9d1cae504a": {
      "model_module": "@jupyter-widgets/controls",
      "model_module_version": "2.0.0",
      "model_name": "ProgressStyleModel",
      "state": {
       "description_width": ""
      }
     },
     "340309b6657f4222aedf59b12c08325e": {
      "model_module": "@jupyter-widgets/controls",
      "model_module_version": "2.0.0",
      "model_name": "HTMLStyleModel",
      "state": {
       "description_width": "",
       "font_size": null,
       "text_color": null
      }
     },
     "3449ec578bd54b46a0ea9d38b769ef01": {
      "model_module": "@jupyter-widgets/controls",
      "model_module_version": "2.0.0",
      "model_name": "ProgressStyleModel",
      "state": {
       "description_width": ""
      }
     },
     "36e1edc1423f401da92fa2c13a4a2758": {
      "model_module": "@jupyter-widgets/controls",
      "model_module_version": "2.0.0",
      "model_name": "FloatProgressModel",
      "state": {
       "bar_style": "success",
       "layout": "IPY_MODEL_63139d5e19f6476cb1125ece482a4903",
       "max": 47,
       "style": "IPY_MODEL_43ed8060e19a48daa445c9977d2a4f1f",
       "value": 47
      }
     },
     "374d95371462463fa5671dd082e88a38": {
      "model_module": "@jupyter-widgets/base",
      "model_module_version": "2.0.0",
      "model_name": "LayoutModel",
      "state": {}
     },
     "37a35425f5c44704b439b4ef5aab27c3": {
      "model_module": "@jupyter-widgets/base",
      "model_module_version": "2.0.0",
      "model_name": "LayoutModel",
      "state": {}
     },
     "37bbc33e7bd14885a9f8f24a3cf0d061": {
      "model_module": "@jupyter-widgets/controls",
      "model_module_version": "2.0.0",
      "model_name": "HBoxModel",
      "state": {
       "children": [
        "IPY_MODEL_97ce1327b662475e813dd811429e94c2",
        "IPY_MODEL_627759c4c55c459b80a564130524fc70",
        "IPY_MODEL_5a62217c0b1c4977b8773e7f9159a418"
       ],
       "layout": "IPY_MODEL_f7a72e65f6da41b3a2661f6c0ba9789a"
      }
     },
     "37d110426c1e46d298644fc84fa0c5bd": {
      "model_module": "@jupyter-widgets/base",
      "model_module_version": "2.0.0",
      "model_name": "LayoutModel",
      "state": {}
     },
     "3957b74f7192487092cb89d7329df363": {
      "model_module": "@jupyter-widgets/controls",
      "model_module_version": "2.0.0",
      "model_name": "HBoxModel",
      "state": {
       "children": [
        "IPY_MODEL_de3d9d702c9b4bbe8180dec2dbd22ba1",
        "IPY_MODEL_245e66dd06d342cfac3fd7f2f003ff23",
        "IPY_MODEL_90e8dc7db68a48a68c1bddfc0dc1c263"
       ],
       "layout": "IPY_MODEL_3c8b279a55bb4a51856a1c4665aa66ef"
      }
     },
     "3962317d2f3d44fbaa5ab7467d9a9373": {
      "model_module": "@jupyter-widgets/controls",
      "model_module_version": "2.0.0",
      "model_name": "HTMLStyleModel",
      "state": {
       "description_width": "",
       "font_size": null,
       "text_color": null
      }
     },
     "3c8b279a55bb4a51856a1c4665aa66ef": {
      "model_module": "@jupyter-widgets/base",
      "model_module_version": "2.0.0",
      "model_name": "LayoutModel",
      "state": {}
     },
     "41608b5195d2484fbe7802353de7ce66": {
      "model_module": "@jupyter-widgets/base",
      "model_module_version": "2.0.0",
      "model_name": "LayoutModel",
      "state": {}
     },
     "41c31b90e2ed4616b9ab6b61720fbb3f": {
      "model_module": "@jupyter-widgets/controls",
      "model_module_version": "2.0.0",
      "model_name": "HTMLStyleModel",
      "state": {
       "description_width": "",
       "font_size": null,
       "text_color": null
      }
     },
     "4251464877cd4a1e9ea62008ff6d0022": {
      "model_module": "@jupyter-widgets/base",
      "model_module_version": "2.0.0",
      "model_name": "LayoutModel",
      "state": {}
     },
     "43ed8060e19a48daa445c9977d2a4f1f": {
      "model_module": "@jupyter-widgets/controls",
      "model_module_version": "2.0.0",
      "model_name": "ProgressStyleModel",
      "state": {
       "description_width": ""
      }
     },
     "44ad6269cfb54373a3e78907d9348ad0": {
      "model_module": "@jupyter-widgets/controls",
      "model_module_version": "2.0.0",
      "model_name": "FloatProgressModel",
      "state": {
       "bar_style": "success",
       "layout": "IPY_MODEL_e1553acaa5124c13b048a9abfc3b5ac3",
       "max": 50,
       "style": "IPY_MODEL_28689fdd83314e22abeb428abe476bb5",
       "value": 50
      }
     },
     "467421749b9145e2bd4902eae2dae743": {
      "model_module": "@jupyter-widgets/controls",
      "model_module_version": "2.0.0",
      "model_name": "FloatProgressModel",
      "state": {
       "bar_style": "success",
       "layout": "IPY_MODEL_a7623e58483e408b9338710849a3158a",
       "max": 224,
       "style": "IPY_MODEL_53f11906bbd04471a7920a4057e0f9fe",
       "value": 224
      }
     },
     "478669fae38d41f5a9aa25adf9cff8c5": {
      "model_module": "@jupyter-widgets/controls",
      "model_module_version": "2.0.0",
      "model_name": "FloatProgressModel",
      "state": {
       "bar_style": "success",
       "layout": "IPY_MODEL_b87b13971a3340029a12108d342bac86",
       "max": 845,
       "style": "IPY_MODEL_d1fb8175cc9140669f25531151b738e3",
       "value": 845
      }
     },
     "480c22813dbb42558d64e5bd10c7b00f": {
      "model_module": "@jupyter-widgets/base",
      "model_module_version": "2.0.0",
      "model_name": "LayoutModel",
      "state": {}
     },
     "49aed5ca59ec4157ab27e820acb784ba": {
      "model_module": "@jupyter-widgets/controls",
      "model_module_version": "2.0.0",
      "model_name": "HTMLModel",
      "state": {
       "layout": "IPY_MODEL_7cf12c7490ae4bc684c93b0ff74f427b",
       "style": "IPY_MODEL_b911df92aa1c4049a58695b4a694025b",
       "value": "Writing movies: 100%"
      }
     },
     "4a780d390bc749d5bd6ae7e0cb308f46": {
      "model_module": "@jupyter-widgets/controls",
      "model_module_version": "2.0.0",
      "model_name": "HTMLStyleModel",
      "state": {
       "description_width": "",
       "font_size": null,
       "text_color": null
      }
     },
     "4f2df0e7323740f4b953b92503334e52": {
      "model_module": "@jupyter-widgets/base",
      "model_module_version": "2.0.0",
      "model_name": "LayoutModel",
      "state": {}
     },
     "4fdb542f4c8a4c208f0761c399e3c3f6": {
      "model_module": "@jupyter-widgets/base",
      "model_module_version": "2.0.0",
      "model_name": "LayoutModel",
      "state": {}
     },
     "503181e3cef046a3a750e9178325cc6a": {
      "model_module": "@jupyter-widgets/controls",
      "model_module_version": "2.0.0",
      "model_name": "HTMLModel",
      "state": {
       "layout": "IPY_MODEL_58ea17a66b5f4eae8318d1d4d599e130",
       "style": "IPY_MODEL_7effc3b9576c461ea14cbc3deab6c3c4",
       "value": " 47/47 [01:15&lt;00:00,  1.38s/it]"
      }
     },
     "51d22011add4496296adcf16ea4e7571": {
      "model_module": "@jupyter-widgets/controls",
      "model_module_version": "2.0.0",
      "model_name": "HTMLStyleModel",
      "state": {
       "description_width": "",
       "font_size": null,
       "text_color": null
      }
     },
     "51db073687b44322ab794ff0630b2d3d": {
      "model_module": "@jupyter-widgets/base",
      "model_module_version": "2.0.0",
      "model_name": "LayoutModel",
      "state": {}
     },
     "51e82c9ec12948709ace8136ef8053f1": {
      "model_module": "@jupyter-widgets/base",
      "model_module_version": "2.0.0",
      "model_name": "LayoutModel",
      "state": {}
     },
     "5203f142f4a24ac38b1cdf961d446947": {
      "model_module": "@jupyter-widgets/controls",
      "model_module_version": "2.0.0",
      "model_name": "ProgressStyleModel",
      "state": {
       "description_width": ""
      }
     },
     "534fa504ad594ab18489b1dcad418147": {
      "model_module": "@jupyter-widgets/controls",
      "model_module_version": "2.0.0",
      "model_name": "ProgressStyleModel",
      "state": {
       "description_width": ""
      }
     },
     "53f11906bbd04471a7920a4057e0f9fe": {
      "model_module": "@jupyter-widgets/controls",
      "model_module_version": "2.0.0",
      "model_name": "ProgressStyleModel",
      "state": {
       "description_width": ""
      }
     },
     "54fe4cdcf6ab46a88c7873c326130ce0": {
      "model_module": "@jupyter-widgets/controls",
      "model_module_version": "2.0.0",
      "model_name": "HBoxModel",
      "state": {
       "children": [
        "IPY_MODEL_c1ff476df4b5404199038a8b7eb7c7f6",
        "IPY_MODEL_bd0761d0935343468bd5f2338723af4b",
        "IPY_MODEL_77a0a3bdb8dd4f9687ed371c338c6a44"
       ],
       "layout": "IPY_MODEL_374d95371462463fa5671dd082e88a38"
      }
     },
     "588dfc2535054927bc0f0738eb5ba4be": {
      "model_module": "@jupyter-widgets/base",
      "model_module_version": "2.0.0",
      "model_name": "LayoutModel",
      "state": {}
     },
     "58ea17a66b5f4eae8318d1d4d599e130": {
      "model_module": "@jupyter-widgets/base",
      "model_module_version": "2.0.0",
      "model_name": "LayoutModel",
      "state": {}
     },
     "59ad8f9a745b4a7c83c409a3724c7276": {
      "model_module": "@jupyter-widgets/base",
      "model_module_version": "2.0.0",
      "model_name": "LayoutModel",
      "state": {}
     },
     "59b0050307eb4ee293e9303a1b015aad": {
      "model_module": "@jupyter-widgets/controls",
      "model_module_version": "2.0.0",
      "model_name": "FloatProgressModel",
      "state": {
       "bar_style": "danger",
       "layout": "IPY_MODEL_30b6a7f410e64b05910eb5b9822b6be4",
       "max": 5,
       "style": "IPY_MODEL_97edb6ecec5649699695fb4e9e4e6609",
       "value": 2
      }
     },
     "59f861d7fce349e4bd55c725224e84aa": {
      "model_module": "@jupyter-widgets/controls",
      "model_module_version": "2.0.0",
      "model_name": "FloatProgressModel",
      "state": {
       "bar_style": "success",
       "layout": "IPY_MODEL_4251464877cd4a1e9ea62008ff6d0022",
       "max": 1066,
       "style": "IPY_MODEL_bdef096c240f447cac26f98701562051",
       "value": 1066
      }
     },
     "5a62217c0b1c4977b8773e7f9159a418": {
      "model_module": "@jupyter-widgets/controls",
      "model_module_version": "2.0.0",
      "model_name": "HTMLModel",
      "state": {
       "layout": "IPY_MODEL_a6bdf8d75b3e4fdc92de6ab7e1730014",
       "style": "IPY_MODEL_7ba585ee3dd643bcbf7f797ae5b7f70f",
       "value": " 216/216 [05:38&lt;00:00,  1.24it/s]"
      }
     },
     "5d36cbe071884f68a93d80e143e50bb7": {
      "model_module": "@jupyter-widgets/controls",
      "model_module_version": "2.0.0",
      "model_name": "HBoxModel",
      "state": {
       "children": [
        "IPY_MODEL_01feb7cb296641469e4700b5f6e88926",
        "IPY_MODEL_36e1edc1423f401da92fa2c13a4a2758",
        "IPY_MODEL_503181e3cef046a3a750e9178325cc6a"
       ],
       "layout": "IPY_MODEL_51db073687b44322ab794ff0630b2d3d"
      }
     },
     "5e1c9e969de647ac8452bb670fe14d50": {
      "model_module": "@jupyter-widgets/controls",
      "model_module_version": "2.0.0",
      "model_name": "HTMLModel",
      "state": {
       "layout": "IPY_MODEL_b168fac5eb06437aa354f47ddfe1b3c6",
       "style": "IPY_MODEL_66db732420a244c8b1051d4ec58b5c1e",
       "value": " 47/47 [01:15&lt;00:00,  1.39s/it]"
      }
     },
     "605ec81ce58b4128a30e198dace3cb05": {
      "model_module": "@jupyter-widgets/controls",
      "model_module_version": "2.0.0",
      "model_name": "FloatProgressModel",
      "state": {
       "bar_style": "success",
       "layout": "IPY_MODEL_70617a1ccb5c45799c51ae99d2e75fcf",
       "max": 47,
       "style": "IPY_MODEL_3449ec578bd54b46a0ea9d38b769ef01",
       "value": 47
      }
     },
     "627759c4c55c459b80a564130524fc70": {
      "model_module": "@jupyter-widgets/controls",
      "model_module_version": "2.0.0",
      "model_name": "FloatProgressModel",
      "state": {
       "bar_style": "success",
       "layout": "IPY_MODEL_4fdb542f4c8a4c208f0761c399e3c3f6",
       "max": 216,
       "style": "IPY_MODEL_a6b2e121dd864a98988fb2b086d8f7ae",
       "value": 216
      }
     },
     "63139d5e19f6476cb1125ece482a4903": {
      "model_module": "@jupyter-widgets/base",
      "model_module_version": "2.0.0",
      "model_name": "LayoutModel",
      "state": {}
     },
     "63e41f07c5ae4aaca275a9893d07d10a": {
      "model_module": "@jupyter-widgets/controls",
      "model_module_version": "2.0.0",
      "model_name": "HTMLStyleModel",
      "state": {
       "description_width": "",
       "font_size": null,
       "text_color": null
      }
     },
     "6421630e2ae9445bb0c50f0241afd196": {
      "model_module": "@jupyter-widgets/controls",
      "model_module_version": "2.0.0",
      "model_name": "HTMLStyleModel",
      "state": {
       "description_width": "",
       "font_size": null,
       "text_color": null
      }
     },
     "652d1c0f2a5a4340b7bbd1bca287dcc5": {
      "model_module": "@jupyter-widgets/base",
      "model_module_version": "2.0.0",
      "model_name": "LayoutModel",
      "state": {}
     },
     "66db732420a244c8b1051d4ec58b5c1e": {
      "model_module": "@jupyter-widgets/controls",
      "model_module_version": "2.0.0",
      "model_name": "HTMLStyleModel",
      "state": {
       "description_width": "",
       "font_size": null,
       "text_color": null
      }
     },
     "66e1d94390784b6f8347467ce5373748": {
      "model_module": "@jupyter-widgets/controls",
      "model_module_version": "2.0.0",
      "model_name": "HTMLModel",
      "state": {
       "layout": "IPY_MODEL_03628ee30bc74f0c85c967c8b344082a",
       "style": "IPY_MODEL_7c36f3de79514777b0d8c1b964e91d23",
       "value": " 2/5 [19:05&lt;21:06, 422.33s/it]"
      }
     },
     "677bb6c7f54e4755bbf4ec9fdba4beed": {
      "model_module": "@jupyter-widgets/controls",
      "model_module_version": "2.0.0",
      "model_name": "HTMLModel",
      "state": {
       "layout": "IPY_MODEL_7f568262c77549b3808397c03074ce95",
       "style": "IPY_MODEL_6cafd7eabc1c4b0a85fa49b3b29aabf8",
       "value": " 845/845 [05:07&lt;00:00,  5.90it/s]"
      }
     },
     "685fbcd2d12e4acab4be7193b42eb3bf": {
      "model_module": "@jupyter-widgets/controls",
      "model_module_version": "2.0.0",
      "model_name": "HBoxModel",
      "state": {
       "children": [
        "IPY_MODEL_9f0ba86541e448d2b464fb779d4f1a12",
        "IPY_MODEL_b2f2f50de1a547ba929fb3b5d5c446ad",
        "IPY_MODEL_5e1c9e969de647ac8452bb670fe14d50"
       ],
       "layout": "IPY_MODEL_7b31cf28af144d1f95b514bca1fc466c"
      }
     },
     "69e2a65b1973476bb763e68775ae10e9": {
      "model_module": "@jupyter-widgets/controls",
      "model_module_version": "2.0.0",
      "model_name": "HTMLModel",
      "state": {
       "layout": "IPY_MODEL_0a3e7d1666a240658c121fac199c0718",
       "style": "IPY_MODEL_7f0de879e6ec46219b444ace9b34393e",
       "value": " 47/47 [01:16&lt;00:00,  1.34s/it]"
      }
     },
     "6ab461f35314477c9497dfd86a0802f4": {
      "model_module": "@jupyter-widgets/base",
      "model_module_version": "2.0.0",
      "model_name": "LayoutModel",
      "state": {}
     },
     "6cafd7eabc1c4b0a85fa49b3b29aabf8": {
      "model_module": "@jupyter-widgets/controls",
      "model_module_version": "2.0.0",
      "model_name": "HTMLStyleModel",
      "state": {
       "description_width": "",
       "font_size": null,
       "text_color": null
      }
     },
     "6d3df569e12843d9a661627bd479cde6": {
      "model_module": "@jupyter-widgets/base",
      "model_module_version": "2.0.0",
      "model_name": "LayoutModel",
      "state": {}
     },
     "6dd1dbf6746a43f1bcc0ffba2cc67dc8": {
      "model_module": "@jupyter-widgets/controls",
      "model_module_version": "2.0.0",
      "model_name": "ProgressStyleModel",
      "state": {
       "description_width": ""
      }
     },
     "6ede24f3503f4555b519187695891abf": {
      "model_module": "@jupyter-widgets/controls",
      "model_module_version": "2.0.0",
      "model_name": "FloatProgressModel",
      "state": {
       "bar_style": "success",
       "layout": "IPY_MODEL_18d423f1f1a74077a8dd3bf71da1b29f",
       "max": 47,
       "style": "IPY_MODEL_d118e4db770d4108bb3c07604f6fe970",
       "value": 47
      }
     },
     "6f15e8cb01ae4cb5b053a9ac18811b96": {
      "model_module": "@jupyter-widgets/controls",
      "model_module_version": "2.0.0",
      "model_name": "FloatProgressModel",
      "state": {
       "bar_style": "success",
       "layout": "IPY_MODEL_51e82c9ec12948709ace8136ef8053f1",
       "max": 216,
       "style": "IPY_MODEL_6dd1dbf6746a43f1bcc0ffba2cc67dc8",
       "value": 216
      }
     },
     "6fb23baf39574b37b7739a047f9de7e2": {
      "model_module": "@jupyter-widgets/controls",
      "model_module_version": "2.0.0",
      "model_name": "HTMLStyleModel",
      "state": {
       "description_width": "",
       "font_size": null,
       "text_color": null
      }
     },
     "70617a1ccb5c45799c51ae99d2e75fcf": {
      "model_module": "@jupyter-widgets/base",
      "model_module_version": "2.0.0",
      "model_name": "LayoutModel",
      "state": {}
     },
     "70b4329aa752413b95decf3181e21f92": {
      "model_module": "@jupyter-widgets/controls",
      "model_module_version": "2.0.0",
      "model_name": "HTMLModel",
      "state": {
       "layout": "IPY_MODEL_a46d2b3269824740925d87b1c83e512d",
       "style": "IPY_MODEL_aa22eee2f7fa480a9b88ded0d0bdc5b9",
       "value": "Writing movies: 100%"
      }
     },
     "71cad30bffca40f88e14c1e2289bcdd5": {
      "model_module": "@jupyter-widgets/base",
      "model_module_version": "2.0.0",
      "model_name": "LayoutModel",
      "state": {}
     },
     "72be8d2bfc7a4827b2a0b4641029583b": {
      "model_module": "@jupyter-widgets/controls",
      "model_module_version": "2.0.0",
      "model_name": "ProgressStyleModel",
      "state": {
       "description_width": ""
      }
     },
     "75206edc8eda4a949fc8be10b3ef855f": {
      "model_module": "@jupyter-widgets/base",
      "model_module_version": "2.0.0",
      "model_name": "LayoutModel",
      "state": {}
     },
     "77a0a3bdb8dd4f9687ed371c338c6a44": {
      "model_module": "@jupyter-widgets/controls",
      "model_module_version": "2.0.0",
      "model_name": "HTMLModel",
      "state": {
       "layout": "IPY_MODEL_e587db1826ed447faf54f4e599dfc93c",
       "style": "IPY_MODEL_cd59a8af622e434d8403bfe21e34fa36",
       "value": " 5/5 [00:21&lt;00:00,  5.05s/it]"
      }
     },
     "77ddb419e581492c93683b531405f3b1": {
      "model_module": "@jupyter-widgets/base",
      "model_module_version": "2.0.0",
      "model_name": "LayoutModel",
      "state": {}
     },
     "7b31cf28af144d1f95b514bca1fc466c": {
      "model_module": "@jupyter-widgets/base",
      "model_module_version": "2.0.0",
      "model_name": "LayoutModel",
      "state": {}
     },
     "7ba585ee3dd643bcbf7f797ae5b7f70f": {
      "model_module": "@jupyter-widgets/controls",
      "model_module_version": "2.0.0",
      "model_name": "HTMLStyleModel",
      "state": {
       "description_width": "",
       "font_size": null,
       "text_color": null
      }
     },
     "7c36f3de79514777b0d8c1b964e91d23": {
      "model_module": "@jupyter-widgets/controls",
      "model_module_version": "2.0.0",
      "model_name": "HTMLStyleModel",
      "state": {
       "description_width": "",
       "font_size": null,
       "text_color": null
      }
     },
     "7cf12c7490ae4bc684c93b0ff74f427b": {
      "model_module": "@jupyter-widgets/base",
      "model_module_version": "2.0.0",
      "model_name": "LayoutModel",
      "state": {}
     },
     "7dc63eae7b7641458c2c4ecb137edd18": {
      "model_module": "@jupyter-widgets/controls",
      "model_module_version": "2.0.0",
      "model_name": "HTMLStyleModel",
      "state": {
       "description_width": "",
       "font_size": null,
       "text_color": null
      }
     },
     "7effc3b9576c461ea14cbc3deab6c3c4": {
      "model_module": "@jupyter-widgets/controls",
      "model_module_version": "2.0.0",
      "model_name": "HTMLStyleModel",
      "state": {
       "description_width": "",
       "font_size": null,
       "text_color": null
      }
     },
     "7f0de879e6ec46219b444ace9b34393e": {
      "model_module": "@jupyter-widgets/controls",
      "model_module_version": "2.0.0",
      "model_name": "HTMLStyleModel",
      "state": {
       "description_width": "",
       "font_size": null,
       "text_color": null
      }
     },
     "7f568262c77549b3808397c03074ce95": {
      "model_module": "@jupyter-widgets/base",
      "model_module_version": "2.0.0",
      "model_name": "LayoutModel",
      "state": {}
     },
     "7f58653901cd4b23b4f5b0ea8450db8d": {
      "model_module": "@jupyter-widgets/controls",
      "model_module_version": "2.0.0",
      "model_name": "FloatProgressModel",
      "state": {
       "bar_style": "success",
       "layout": "IPY_MODEL_652d1c0f2a5a4340b7bbd1bca287dcc5",
       "max": 728,
       "style": "IPY_MODEL_30dd2bf71c2a4a81b1f31a9d1cae504a",
       "value": 728
      }
     },
     "7fa50c86e0c443ef89eb404072f04e9b": {
      "model_module": "@jupyter-widgets/base",
      "model_module_version": "2.0.0",
      "model_name": "LayoutModel",
      "state": {}
     },
     "827e94845f14491685360a7bbe690da1": {
      "model_module": "@jupyter-widgets/base",
      "model_module_version": "2.0.0",
      "model_name": "LayoutModel",
      "state": {}
     },
     "85f2f816652f499b9efdaea20d309c0e": {
      "model_module": "@jupyter-widgets/controls",
      "model_module_version": "2.0.0",
      "model_name": "HTMLStyleModel",
      "state": {
       "description_width": "",
       "font_size": null,
       "text_color": null
      }
     },
     "86b48764305e46619c38b337619e3bb8": {
      "model_module": "@jupyter-widgets/base",
      "model_module_version": "2.0.0",
      "model_name": "LayoutModel",
      "state": {}
     },
     "90e8dc7db68a48a68c1bddfc0dc1c263": {
      "model_module": "@jupyter-widgets/controls",
      "model_module_version": "2.0.0",
      "model_name": "HTMLModel",
      "state": {
       "layout": "IPY_MODEL_b4316d74e5754ffebdcced81c36f5c49",
       "style": "IPY_MODEL_51d22011add4496296adcf16ea4e7571",
       "value": " 224/224 [05:25&lt;00:00,  1.11s/it]"
      }
     },
     "9118a429cb2340098f11617ba1d22dc5": {
      "model_module": "@jupyter-widgets/controls",
      "model_module_version": "2.0.0",
      "model_name": "HBoxModel",
      "state": {
       "children": [
        "IPY_MODEL_96ed782b7b6340a1bdd1745623106074",
        "IPY_MODEL_59f861d7fce349e4bd55c725224e84aa",
        "IPY_MODEL_e1b7f6b06ad4431c8820ac41b75230c9"
       ],
       "layout": "IPY_MODEL_827e94845f14491685360a7bbe690da1"
      }
     },
     "952f52197ca346ea93363c67c7c61f84": {
      "model_module": "@jupyter-widgets/base",
      "model_module_version": "2.0.0",
      "model_name": "LayoutModel",
      "state": {}
     },
     "96ed782b7b6340a1bdd1745623106074": {
      "model_module": "@jupyter-widgets/controls",
      "model_module_version": "2.0.0",
      "model_name": "HTMLModel",
      "state": {
       "layout": "IPY_MODEL_cf8a4d2111e94802a2160d3b33b15bbb",
       "style": "IPY_MODEL_1de976403d994a47aa26e6541e942460",
       "value": "Extracting syllables: 100%"
      }
     },
     "97a86a5e42c34794953f177783d0205c": {
      "model_module": "@jupyter-widgets/controls",
      "model_module_version": "2.0.0",
      "model_name": "HBoxModel",
      "state": {
       "children": [
        "IPY_MODEL_9956d6c18e3c4fbf90805fa7b92cbb26",
        "IPY_MODEL_b92c7257307644a69d8809d453aef700",
        "IPY_MODEL_9a54aa1033994d2b9ddaf42f57336f7a"
       ],
       "layout": "IPY_MODEL_480c22813dbb42558d64e5bd10c7b00f"
      }
     },
     "97ce1327b662475e813dd811429e94c2": {
      "model_module": "@jupyter-widgets/controls",
      "model_module_version": "2.0.0",
      "model_name": "HTMLModel",
      "state": {
       "layout": "IPY_MODEL_75206edc8eda4a949fc8be10b3ef855f",
       "style": "IPY_MODEL_3962317d2f3d44fbaa5ab7467d9a9373",
       "value": "Extracting syllables: 100%"
      }
     },
     "97edb6ecec5649699695fb4e9e4e6609": {
      "model_module": "@jupyter-widgets/controls",
      "model_module_version": "2.0.0",
      "model_name": "ProgressStyleModel",
      "state": {
       "description_width": ""
      }
     },
     "9956d6c18e3c4fbf90805fa7b92cbb26": {
      "model_module": "@jupyter-widgets/controls",
      "model_module_version": "2.0.0",
      "model_name": "HTMLModel",
      "state": {
       "layout": "IPY_MODEL_b757ddfc143e4a23b6959b553a2740ea",
       "style": "IPY_MODEL_ce848070ab2844159c7631c3fc53e77c",
       "value": "Extracting syllables:  76%"
      }
     },
     "9967b3ef25d7480d8138c4e1ffcd4e8a": {
      "model_module": "@jupyter-widgets/base",
      "model_module_version": "2.0.0",
      "model_name": "LayoutModel",
      "state": {}
     },
     "9a54aa1033994d2b9ddaf42f57336f7a": {
      "model_module": "@jupyter-widgets/controls",
      "model_module_version": "2.0.0",
      "model_name": "HTMLModel",
      "state": {
       "layout": "IPY_MODEL_6ab461f35314477c9497dfd86a0802f4",
       "style": "IPY_MODEL_9cee212633e643168764c8d5cc13808c",
       "value": " 643/845 [04:27&lt;00:51,  3.94it/s]"
      }
     },
     "9a7d93f77cb444649b6366eb17305b72": {
      "model_module": "@jupyter-widgets/controls",
      "model_module_version": "2.0.0",
      "model_name": "ProgressStyleModel",
      "state": {
       "description_width": ""
      }
     },
     "9ae7cca79b504769947dc816343d9c47": {
      "model_module": "@jupyter-widgets/controls",
      "model_module_version": "2.0.0",
      "model_name": "HTMLStyleModel",
      "state": {
       "description_width": "",
       "font_size": null,
       "text_color": null
      }
     },
     "9b1242b2bbc14809a2da942de930d0cf": {
      "model_module": "@jupyter-widgets/controls",
      "model_module_version": "2.0.0",
      "model_name": "HTMLStyleModel",
      "state": {
       "description_width": "",
       "font_size": null,
       "text_color": null
      }
     },
     "9c463cabc2c04acf94025dd1807fb48b": {
      "model_module": "@jupyter-widgets/controls",
      "model_module_version": "2.0.0",
      "model_name": "HTMLStyleModel",
      "state": {
       "description_width": "",
       "font_size": null,
       "text_color": null
      }
     },
     "9cee212633e643168764c8d5cc13808c": {
      "model_module": "@jupyter-widgets/controls",
      "model_module_version": "2.0.0",
      "model_name": "HTMLStyleModel",
      "state": {
       "description_width": "",
       "font_size": null,
       "text_color": null
      }
     },
     "9d3c22ddcecf4c2fb22107d92b274ed7": {
      "model_module": "@jupyter-widgets/controls",
      "model_module_version": "2.0.0",
      "model_name": "FloatProgressModel",
      "state": {
       "bar_style": "success",
       "layout": "IPY_MODEL_2a03e66e2faf4eb584dd5c48e7bb5689",
       "max": 50,
       "style": "IPY_MODEL_9a7d93f77cb444649b6366eb17305b72",
       "value": 50
      }
     },
     "9d7854a4c8ba470e9a29b44f99dbed3c": {
      "model_module": "@jupyter-widgets/controls",
      "model_module_version": "2.0.0",
      "model_name": "HTMLModel",
      "state": {
       "layout": "IPY_MODEL_f01135438be8438b991971623519aeb1",
       "style": "IPY_MODEL_63e41f07c5ae4aaca275a9893d07d10a",
       "value": "Writing movies: 100%"
      }
     },
     "9eb44c7dd8894ff19721ca9ca470f21f": {
      "model_module": "@jupyter-widgets/controls",
      "model_module_version": "2.0.0",
      "model_name": "HTMLStyleModel",
      "state": {
       "description_width": "",
       "font_size": null,
       "text_color": null
      }
     },
     "9f0ba86541e448d2b464fb779d4f1a12": {
      "model_module": "@jupyter-widgets/controls",
      "model_module_version": "2.0.0",
      "model_name": "HTMLModel",
      "state": {
       "layout": "IPY_MODEL_e1c250ef5d694786a3600d472619eb23",
       "style": "IPY_MODEL_b85546abe9ae4670b781c69186cd3e5f",
       "value": "Writing movies: 100%"
      }
     },
     "a072bd64df3c4e6a947d1fab2951761a": {
      "model_module": "@jupyter-widgets/base",
      "model_module_version": "2.0.0",
      "model_name": "LayoutModel",
      "state": {}
     },
     "a312a740fbb5483b8e94fc0a49acd094": {
      "model_module": "@jupyter-widgets/base",
      "model_module_version": "2.0.0",
      "model_name": "LayoutModel",
      "state": {}
     },
     "a46d2b3269824740925d87b1c83e512d": {
      "model_module": "@jupyter-widgets/base",
      "model_module_version": "2.0.0",
      "model_name": "LayoutModel",
      "state": {}
     },
     "a4c08ee69db64840869bde7d1caa5e5a": {
      "model_module": "@jupyter-widgets/controls",
      "model_module_version": "2.0.0",
      "model_name": "HTMLStyleModel",
      "state": {
       "description_width": "",
       "font_size": null,
       "text_color": null
      }
     },
     "a6b2e121dd864a98988fb2b086d8f7ae": {
      "model_module": "@jupyter-widgets/controls",
      "model_module_version": "2.0.0",
      "model_name": "ProgressStyleModel",
      "state": {
       "description_width": ""
      }
     },
     "a6bdf8d75b3e4fdc92de6ab7e1730014": {
      "model_module": "@jupyter-widgets/base",
      "model_module_version": "2.0.0",
      "model_name": "LayoutModel",
      "state": {}
     },
     "a7623e58483e408b9338710849a3158a": {
      "model_module": "@jupyter-widgets/base",
      "model_module_version": "2.0.0",
      "model_name": "LayoutModel",
      "state": {}
     },
     "aa22eee2f7fa480a9b88ded0d0bdc5b9": {
      "model_module": "@jupyter-widgets/controls",
      "model_module_version": "2.0.0",
      "model_name": "HTMLStyleModel",
      "state": {
       "description_width": "",
       "font_size": null,
       "text_color": null
      }
     },
     "adf4f53748ad4284b3bf9697ccdae66e": {
      "model_module": "@jupyter-widgets/controls",
      "model_module_version": "2.0.0",
      "model_name": "HTMLModel",
      "state": {
       "layout": "IPY_MODEL_9967b3ef25d7480d8138c4e1ffcd4e8a",
       "style": "IPY_MODEL_b4919d48020e4ed99d2a6cca2edf56ac",
       "value": "Extracting syllables: 100%"
      }
     },
     "ae2573b9d15a4412b861e9796c805870": {
      "model_module": "@jupyter-widgets/controls",
      "model_module_version": "2.0.0",
      "model_name": "HTMLStyleModel",
      "state": {
       "description_width": "",
       "font_size": null,
       "text_color": null
      }
     },
     "ae75d957a8b94cfeb6624bc6883c062c": {
      "model_module": "@jupyter-widgets/controls",
      "model_module_version": "2.0.0",
      "model_name": "HTMLModel",
      "state": {
       "layout": "IPY_MODEL_41608b5195d2484fbe7802353de7ce66",
       "style": "IPY_MODEL_4a780d390bc749d5bd6ae7e0cb308f46",
       "value": " 47/47 [01:30&lt;00:00,  1.31s/it]"
      }
     },
     "b0625ea616864886856887fcfe3a4716": {
      "model_module": "@jupyter-widgets/controls",
      "model_module_version": "2.0.0",
      "model_name": "HBoxModel",
      "state": {
       "children": [
        "IPY_MODEL_d2475f040017497bbfcca144db7f34d5",
        "IPY_MODEL_7f58653901cd4b23b4f5b0ea8450db8d",
        "IPY_MODEL_30667ef268544d53b2ffcf32d7124d88"
       ],
       "layout": "IPY_MODEL_86b48764305e46619c38b337619e3bb8"
      }
     },
     "b14c1dd9038242d59cf7ace421fbff90": {
      "model_module": "@jupyter-widgets/controls",
      "model_module_version": "2.0.0",
      "model_name": "FloatProgressModel",
      "state": {
       "bar_style": "success",
       "layout": "IPY_MODEL_d5a11d89b0884857b3727d24b481256e",
       "max": 5,
       "style": "IPY_MODEL_0353a1e8fe574cd181c5fc982fd5947b",
       "value": 5
      }
     },
     "b168fac5eb06437aa354f47ddfe1b3c6": {
      "model_module": "@jupyter-widgets/base",
      "model_module_version": "2.0.0",
      "model_name": "LayoutModel",
      "state": {}
     },
     "b2f2f50de1a547ba929fb3b5d5c446ad": {
      "model_module": "@jupyter-widgets/controls",
      "model_module_version": "2.0.0",
      "model_name": "FloatProgressModel",
      "state": {
       "bar_style": "success",
       "layout": "IPY_MODEL_ee6dd0db2153491e8b6d67ab64045e61",
       "max": 47,
       "style": "IPY_MODEL_5203f142f4a24ac38b1cdf961d446947",
       "value": 47
      }
     },
     "b4316d74e5754ffebdcced81c36f5c49": {
      "model_module": "@jupyter-widgets/base",
      "model_module_version": "2.0.0",
      "model_name": "LayoutModel",
      "state": {}
     },
     "b4919d48020e4ed99d2a6cca2edf56ac": {
      "model_module": "@jupyter-widgets/controls",
      "model_module_version": "2.0.0",
      "model_name": "HTMLStyleModel",
      "state": {
       "description_width": "",
       "font_size": null,
       "text_color": null
      }
     },
     "b536309332ee471596771a4f5c30b889": {
      "model_module": "@jupyter-widgets/controls",
      "model_module_version": "2.0.0",
      "model_name": "HTMLModel",
      "state": {
       "layout": "IPY_MODEL_cb822952babe4fbeb63120982dfdd80c",
       "style": "IPY_MODEL_162e9c063437421ca4f168720b2d390d",
       "value": "Processing experiments: 100%"
      }
     },
     "b71a1fc3e43a4cdab23ca3f6ee58d02f": {
      "model_module": "@jupyter-widgets/controls",
      "model_module_version": "2.0.0",
      "model_name": "ProgressStyleModel",
      "state": {
       "description_width": ""
      }
     },
     "b757ddfc143e4a23b6959b553a2740ea": {
      "model_module": "@jupyter-widgets/base",
      "model_module_version": "2.0.0",
      "model_name": "LayoutModel",
      "state": {}
     },
     "b85546abe9ae4670b781c69186cd3e5f": {
      "model_module": "@jupyter-widgets/controls",
      "model_module_version": "2.0.0",
      "model_name": "HTMLStyleModel",
      "state": {
       "description_width": "",
       "font_size": null,
       "text_color": null
      }
     },
     "b87b13971a3340029a12108d342bac86": {
      "model_module": "@jupyter-widgets/base",
      "model_module_version": "2.0.0",
      "model_name": "LayoutModel",
      "state": {}
     },
     "b911df92aa1c4049a58695b4a694025b": {
      "model_module": "@jupyter-widgets/controls",
      "model_module_version": "2.0.0",
      "model_name": "HTMLStyleModel",
      "state": {
       "description_width": "",
       "font_size": null,
       "text_color": null
      }
     },
     "b92c7257307644a69d8809d453aef700": {
      "model_module": "@jupyter-widgets/controls",
      "model_module_version": "2.0.0",
      "model_name": "FloatProgressModel",
      "state": {
       "bar_style": "danger",
       "layout": "IPY_MODEL_588dfc2535054927bc0f0738eb5ba4be",
       "max": 845,
       "style": "IPY_MODEL_0762cf2f86664b6fade0becacd8376f7",
       "value": 643
      }
     },
     "b96a08c888a143a5bd152db991ae566d": {
      "model_module": "@jupyter-widgets/base",
      "model_module_version": "2.0.0",
      "model_name": "LayoutModel",
      "state": {}
     },
     "ba46e546f21b48c0a0d4e2b05fbb3d4d": {
      "model_module": "@jupyter-widgets/base",
      "model_module_version": "2.0.0",
      "model_name": "LayoutModel",
      "state": {}
     },
     "bb1beff1d65440949f9217df3a9868fa": {
      "model_module": "@jupyter-widgets/controls",
      "model_module_version": "2.0.0",
      "model_name": "HTMLModel",
      "state": {
       "layout": "IPY_MODEL_f939531dbb2e411dad49f07341b4ee07",
       "style": "IPY_MODEL_9b1242b2bbc14809a2da942de930d0cf",
       "value": " 50/50 [01:20&lt;00:00,  1.26s/it]"
      }
     },
     "bd0761d0935343468bd5f2338723af4b": {
      "model_module": "@jupyter-widgets/controls",
      "model_module_version": "2.0.0",
      "model_name": "FloatProgressModel",
      "state": {
       "bar_style": "success",
       "layout": "IPY_MODEL_77ddb419e581492c93683b531405f3b1",
       "max": 5,
       "style": "IPY_MODEL_72be8d2bfc7a4827b2a0b4641029583b",
       "value": 5
      }
     },
     "bdef096c240f447cac26f98701562051": {
      "model_module": "@jupyter-widgets/controls",
      "model_module_version": "2.0.0",
      "model_name": "ProgressStyleModel",
      "state": {
       "description_width": ""
      }
     },
     "c049050ce3f3446baf59332806d075a7": {
      "model_module": "@jupyter-widgets/base",
      "model_module_version": "2.0.0",
      "model_name": "LayoutModel",
      "state": {}
     },
     "c083223c16b642e98b259b4972994263": {
      "model_module": "@jupyter-widgets/controls",
      "model_module_version": "2.0.0",
      "model_name": "HBoxModel",
      "state": {
       "children": [
        "IPY_MODEL_d2165363f87a425f8439eeeeb6089b0d",
        "IPY_MODEL_478669fae38d41f5a9aa25adf9cff8c5",
        "IPY_MODEL_677bb6c7f54e4755bbf4ec9fdba4beed"
       ],
       "layout": "IPY_MODEL_25d7b36405f440a3b5690b5f17d1cc50"
      }
     },
     "c1ff476df4b5404199038a8b7eb7c7f6": {
      "model_module": "@jupyter-widgets/controls",
      "model_module_version": "2.0.0",
      "model_name": "HTMLModel",
      "state": {
       "layout": "IPY_MODEL_6d3df569e12843d9a661627bd479cde6",
       "style": "IPY_MODEL_85f2f816652f499b9efdaea20d309c0e",
       "value": "100%"
      }
     },
     "c31bf73ca14e48099a9c68aa74d8c388": {
      "model_module": "@jupyter-widgets/controls",
      "model_module_version": "2.0.0",
      "model_name": "HBoxModel",
      "state": {
       "children": [
        "IPY_MODEL_adf4f53748ad4284b3bf9697ccdae66e",
        "IPY_MODEL_467421749b9145e2bd4902eae2dae743",
        "IPY_MODEL_ec4c836c27444dfcbbe156aa888c6a2d"
       ],
       "layout": "IPY_MODEL_2eb0d8ad07044fda8836ca8f871a930f"
      }
     },
     "c8d732e81cb54e9a9c279a359a0bdc23": {
      "model_module": "@jupyter-widgets/base",
      "model_module_version": "2.0.0",
      "model_name": "LayoutModel",
      "state": {}
     },
     "c98fb6cfcf6944f8bf68432d4bbe58f2": {
      "model_module": "@jupyter-widgets/controls",
      "model_module_version": "2.0.0",
      "model_name": "HTMLModel",
      "state": {
       "layout": "IPY_MODEL_04056e216dd44ace8afe2ce26adc0e16",
       "style": "IPY_MODEL_d2909cf610bf4ad0a5472bb5f84e7318",
       "value": "Writing movies: 100%"
      }
     },
     "c9fefe33d6c1442f821bd09a99f83aa5": {
      "model_module": "@jupyter-widgets/base",
      "model_module_version": "2.0.0",
      "model_name": "LayoutModel",
      "state": {}
     },
     "cb822952babe4fbeb63120982dfdd80c": {
      "model_module": "@jupyter-widgets/base",
      "model_module_version": "2.0.0",
      "model_name": "LayoutModel",
      "state": {}
     },
     "cc8f1686958e4ef08001d1aeeae1d254": {
      "model_module": "@jupyter-widgets/controls",
      "model_module_version": "2.0.0",
      "model_name": "HTMLModel",
      "state": {
       "layout": "IPY_MODEL_952f52197ca346ea93363c67c7c61f84",
       "style": "IPY_MODEL_ae2573b9d15a4412b861e9796c805870",
       "value": " 5/5 [35:42&lt;00:00, 427.14s/it]"
      }
     },
     "cd083b21e9544e918c3a668b3b93688a": {
      "model_module": "@jupyter-widgets/controls",
      "model_module_version": "2.0.0",
      "model_name": "HTMLModel",
      "state": {
       "layout": "IPY_MODEL_7fa50c86e0c443ef89eb404072f04e9b",
       "style": "IPY_MODEL_41c31b90e2ed4616b9ab6b61720fbb3f",
       "value": " 50/50 [01:19&lt;00:00,  1.25s/it]"
      }
     },
     "cd59a8af622e434d8403bfe21e34fa36": {
      "model_module": "@jupyter-widgets/controls",
      "model_module_version": "2.0.0",
      "model_name": "HTMLStyleModel",
      "state": {
       "description_width": "",
       "font_size": null,
       "text_color": null
      }
     },
     "ce848070ab2844159c7631c3fc53e77c": {
      "model_module": "@jupyter-widgets/controls",
      "model_module_version": "2.0.0",
      "model_name": "HTMLStyleModel",
      "state": {
       "description_width": "",
       "font_size": null,
       "text_color": null
      }
     },
     "cf8a4d2111e94802a2160d3b33b15bbb": {
      "model_module": "@jupyter-widgets/base",
      "model_module_version": "2.0.0",
      "model_name": "LayoutModel",
      "state": {}
     },
     "d09207f74ec441dd88b56adcbd3c945a": {
      "model_module": "@jupyter-widgets/controls",
      "model_module_version": "2.0.0",
      "model_name": "HTMLModel",
      "state": {
       "layout": "IPY_MODEL_4f2df0e7323740f4b953b92503334e52",
       "style": "IPY_MODEL_6421630e2ae9445bb0c50f0241afd196",
       "value": "Processing experiments:  40%"
      }
     },
     "d118e4db770d4108bb3c07604f6fe970": {
      "model_module": "@jupyter-widgets/controls",
      "model_module_version": "2.0.0",
      "model_name": "ProgressStyleModel",
      "state": {
       "description_width": ""
      }
     },
     "d1fb8175cc9140669f25531151b738e3": {
      "model_module": "@jupyter-widgets/controls",
      "model_module_version": "2.0.0",
      "model_name": "ProgressStyleModel",
      "state": {
       "description_width": ""
      }
     },
     "d2165363f87a425f8439eeeeb6089b0d": {
      "model_module": "@jupyter-widgets/controls",
      "model_module_version": "2.0.0",
      "model_name": "HTMLModel",
      "state": {
       "layout": "IPY_MODEL_d7a8a6d005a24fc18e955492eb853e1b",
       "style": "IPY_MODEL_9eb44c7dd8894ff19721ca9ca470f21f",
       "value": "Extracting syllables: 100%"
      }
     },
     "d2475f040017497bbfcca144db7f34d5": {
      "model_module": "@jupyter-widgets/controls",
      "model_module_version": "2.0.0",
      "model_name": "HTMLModel",
      "state": {
       "layout": "IPY_MODEL_f87305e678f244ebb8d0bfc2610957a2",
       "style": "IPY_MODEL_6fb23baf39574b37b7739a047f9de7e2",
       "value": "Extracting syllables: 100%"
      }
     },
     "d2909cf610bf4ad0a5472bb5f84e7318": {
      "model_module": "@jupyter-widgets/controls",
      "model_module_version": "2.0.0",
      "model_name": "HTMLStyleModel",
      "state": {
       "description_width": "",
       "font_size": null,
       "text_color": null
      }
     },
     "d2d47603f9e840ddbb87f4c01c2dd581": {
      "model_module": "@jupyter-widgets/controls",
      "model_module_version": "2.0.0",
      "model_name": "HTMLStyleModel",
      "state": {
       "description_width": "",
       "font_size": null,
       "text_color": null
      }
     },
     "d5a11d89b0884857b3727d24b481256e": {
      "model_module": "@jupyter-widgets/base",
      "model_module_version": "2.0.0",
      "model_name": "LayoutModel",
      "state": {}
     },
     "d7a8a6d005a24fc18e955492eb853e1b": {
      "model_module": "@jupyter-widgets/base",
      "model_module_version": "2.0.0",
      "model_name": "LayoutModel",
      "state": {}
     },
     "d95ebd7ca23d40a88dda33c493721485": {
      "model_module": "@jupyter-widgets/controls",
      "model_module_version": "2.0.0",
      "model_name": "HTMLModel",
      "state": {
       "layout": "IPY_MODEL_2527959f702c4ff98a4bc03d09e8076a",
       "style": "IPY_MODEL_7dc63eae7b7641458c2c4ecb137edd18",
       "value": " 216/216 [05:41&lt;00:00,  1.26it/s]"
      }
     },
     "de3d9d702c9b4bbe8180dec2dbd22ba1": {
      "model_module": "@jupyter-widgets/controls",
      "model_module_version": "2.0.0",
      "model_name": "HTMLModel",
      "state": {
       "layout": "IPY_MODEL_37d110426c1e46d298644fc84fa0c5bd",
       "style": "IPY_MODEL_a4c08ee69db64840869bde7d1caa5e5a",
       "value": "Extracting syllables: 100%"
      }
     },
     "e1553acaa5124c13b048a9abfc3b5ac3": {
      "model_module": "@jupyter-widgets/base",
      "model_module_version": "2.0.0",
      "model_name": "LayoutModel",
      "state": {}
     },
     "e1b7f6b06ad4431c8820ac41b75230c9": {
      "model_module": "@jupyter-widgets/controls",
      "model_module_version": "2.0.0",
      "model_name": "HTMLModel",
      "state": {
       "layout": "IPY_MODEL_b96a08c888a143a5bd152db991ae566d",
       "style": "IPY_MODEL_9ae7cca79b504769947dc816343d9c47",
       "value": " 1066/1066 [05:09&lt;00:00,  6.29it/s]"
      }
     },
     "e1c250ef5d694786a3600d472619eb23": {
      "model_module": "@jupyter-widgets/base",
      "model_module_version": "2.0.0",
      "model_name": "LayoutModel",
      "state": {}
     },
     "e1eae00508184a65b8cc538990ac441a": {
      "model_module": "@jupyter-widgets/controls",
      "model_module_version": "2.0.0",
      "model_name": "HBoxModel",
      "state": {
       "children": [
        "IPY_MODEL_d09207f74ec441dd88b56adcbd3c945a",
        "IPY_MODEL_59b0050307eb4ee293e9303a1b015aad",
        "IPY_MODEL_66e1d94390784b6f8347467ce5373748"
       ],
       "layout": "IPY_MODEL_1feec48747814326bd908d7463786bd5"
      }
     },
     "e587db1826ed447faf54f4e599dfc93c": {
      "model_module": "@jupyter-widgets/base",
      "model_module_version": "2.0.0",
      "model_name": "LayoutModel",
      "state": {}
     },
     "e89470fa5b2c4e8c86c67e46da7cb742": {
      "model_module": "@jupyter-widgets/controls",
      "model_module_version": "2.0.0",
      "model_name": "HTMLStyleModel",
      "state": {
       "description_width": "",
       "font_size": null,
       "text_color": null
      }
     },
     "e97833a034e740d6aaabdc7b14b4ef8f": {
      "model_module": "@jupyter-widgets/controls",
      "model_module_version": "2.0.0",
      "model_name": "HBoxModel",
      "state": {
       "children": [
        "IPY_MODEL_eb8a8dc5f1b04b0086a28972d9f234ee",
        "IPY_MODEL_9d3c22ddcecf4c2fb22107d92b274ed7",
        "IPY_MODEL_bb1beff1d65440949f9217df3a9868fa"
       ],
       "layout": "IPY_MODEL_ba46e546f21b48c0a0d4e2b05fbb3d4d"
      }
     },
     "eb8a8dc5f1b04b0086a28972d9f234ee": {
      "model_module": "@jupyter-widgets/controls",
      "model_module_version": "2.0.0",
      "model_name": "HTMLModel",
      "state": {
       "layout": "IPY_MODEL_0587c1ebb7db481dbb2842ecd1e11151",
       "style": "IPY_MODEL_9c463cabc2c04acf94025dd1807fb48b",
       "value": "Writing movies: 100%"
      }
     },
     "ec4c836c27444dfcbbe156aa888c6a2d": {
      "model_module": "@jupyter-widgets/controls",
      "model_module_version": "2.0.0",
      "model_name": "HTMLModel",
      "state": {
       "layout": "IPY_MODEL_c049050ce3f3446baf59332806d075a7",
       "style": "IPY_MODEL_0c69419357244e929f9f80ff55fccf4d",
       "value": " 224/224 [05:31&lt;00:00,  1.12s/it]"
      }
     },
     "ee6dd0db2153491e8b6d67ab64045e61": {
      "model_module": "@jupyter-widgets/base",
      "model_module_version": "2.0.0",
      "model_name": "LayoutModel",
      "state": {}
     },
     "ee906be639e34205b10bce1ace2c26e9": {
      "model_module": "@jupyter-widgets/base",
      "model_module_version": "2.0.0",
      "model_name": "LayoutModel",
      "state": {}
     },
     "f01135438be8438b991971623519aeb1": {
      "model_module": "@jupyter-widgets/base",
      "model_module_version": "2.0.0",
      "model_name": "LayoutModel",
      "state": {}
     },
     "f33a6076d8cc4bb0ad41c290363d8b41": {
      "model_module": "@jupyter-widgets/controls",
      "model_module_version": "2.0.0",
      "model_name": "HBoxModel",
      "state": {
       "children": [
        "IPY_MODEL_b536309332ee471596771a4f5c30b889",
        "IPY_MODEL_b14c1dd9038242d59cf7ace421fbff90",
        "IPY_MODEL_cc8f1686958e4ef08001d1aeeae1d254"
       ],
       "layout": "IPY_MODEL_1758a7a11dbd41c8840f756b38578246"
      }
     },
     "f4b10a606c284601943ba009f57d2e98": {
      "model_module": "@jupyter-widgets/controls",
      "model_module_version": "2.0.0",
      "model_name": "HTMLModel",
      "state": {
       "layout": "IPY_MODEL_fdcaec146fde478d933301d711f80657",
       "style": "IPY_MODEL_f824eb5d18044632a9cf28b06c560743",
       "value": "Extracting syllables: 100%"
      }
     },
     "f7a72e65f6da41b3a2661f6c0ba9789a": {
      "model_module": "@jupyter-widgets/base",
      "model_module_version": "2.0.0",
      "model_name": "LayoutModel",
      "state": {}
     },
     "f824eb5d18044632a9cf28b06c560743": {
      "model_module": "@jupyter-widgets/controls",
      "model_module_version": "2.0.0",
      "model_name": "HTMLStyleModel",
      "state": {
       "description_width": "",
       "font_size": null,
       "text_color": null
      }
     },
     "f87305e678f244ebb8d0bfc2610957a2": {
      "model_module": "@jupyter-widgets/base",
      "model_module_version": "2.0.0",
      "model_name": "LayoutModel",
      "state": {}
     },
     "f939531dbb2e411dad49f07341b4ee07": {
      "model_module": "@jupyter-widgets/base",
      "model_module_version": "2.0.0",
      "model_name": "LayoutModel",
      "state": {}
     },
     "f9763a61b286406cbf87deaeabb2998b": {
      "model_module": "@jupyter-widgets/controls",
      "model_module_version": "2.0.0",
      "model_name": "HTMLModel",
      "state": {
       "layout": "IPY_MODEL_37a35425f5c44704b439b4ef5aab27c3",
       "style": "IPY_MODEL_d2d47603f9e840ddbb87f4c01c2dd581",
       "value": " 47/47 [01:15&lt;00:00,  1.33s/it]"
      }
     },
     "fdcaec146fde478d933301d711f80657": {
      "model_module": "@jupyter-widgets/base",
      "model_module_version": "2.0.0",
      "model_name": "LayoutModel",
      "state": {}
     },
     "fede7ae2d0ec457bafc08a066d7fed3d": {
      "model_module": "@jupyter-widgets/controls",
      "model_module_version": "2.0.0",
      "model_name": "HBoxModel",
      "state": {
       "children": [
        "IPY_MODEL_70b4329aa752413b95decf3181e21f92",
        "IPY_MODEL_44ad6269cfb54373a3e78907d9348ad0",
        "IPY_MODEL_cd083b21e9544e918c3a668b3b93688a"
       ],
       "layout": "IPY_MODEL_c9fefe33d6c1442f821bd09a99f83aa5"
      }
     }
    },
    "version_major": 2,
    "version_minor": 0
   }
  }
 },
 "nbformat": 4,
 "nbformat_minor": 5
}
