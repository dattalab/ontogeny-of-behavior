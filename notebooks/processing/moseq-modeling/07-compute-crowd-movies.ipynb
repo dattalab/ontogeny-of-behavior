{
 "cells": [
  {
   "cell_type": "code",
   "execution_count": 1,
   "id": "4494b89a-db19-4894-aa21-0a1cc851cdc6",
   "metadata": {
    "tags": []
   },
   "outputs": [],
   "source": [
    "import h5py\n",
    "import numpy as np\n",
    "import pandas as pd\n",
    "from pathlib import Path\n",
    "from tqdm.auto import tqdm\n",
    "from collections import defaultdict\n",
    "from aging.organization.paths import FOLDERS\n",
    "from aging.size_norm.data import clean\n",
    "from aging.video import write_movie_av\n",
    "from scipy.ndimage import rotate"
   ]
  },
  {
   "cell_type": "code",
   "execution_count": 2,
   "id": "8ca02da8",
   "metadata": {},
   "outputs": [],
   "source": [
    "def make_slice(pos, pad):\n",
    "    pos = int(pos) + pad\n",
    "    return slice(pos - 40, pos + 40)\n",
    "\n",
    "\n",
    "def is_ok_position(pos, pad, max_pos):\n",
    "    pos = int(pos) + pad\n",
    "    return ((pos - 40) > 0) and ((pos + 40) < max_pos)"
   ]
  },
  {
   "cell_type": "code",
   "execution_count": 3,
   "id": "c33de8c1-8d2e-4ab6-b421-fa66993a5ca3",
   "metadata": {
    "tags": []
   },
   "outputs": [],
   "source": [
    "version = 7\n",
    "syllable_path = f\"/n/groups/datta/win/longtogeny/data/ontogeny/version_{version:02d}/all_data_pca/syllables.h5\"\n",
    "pca_path = f\"/n/groups/datta/win/longtogeny/data/ontogeny/version_{version:02d}/all_data_pca/pca_scores.h5\""
   ]
  },
  {
   "cell_type": "code",
   "execution_count": 4,
   "id": "cc558ccb-5ffd-4858-b099-9e3c2ca50edf",
   "metadata": {},
   "outputs": [
    {
     "data": {
      "application/vnd.jupyter.widget-view+json": {
       "model_id": "bc363dd9adba46e3824c71fcca95aaf3",
       "version_major": 2,
       "version_minor": 0
      },
      "text/plain": [
       "  0%|          | 0/7 [00:00<?, ?it/s]"
      ]
     },
     "metadata": {},
     "output_type": "display_data"
    }
   ],
   "source": [
    "uuid_map = defaultdict(dict)\n",
    "bad_examples = []\n",
    "\n",
    "for folder in tqdm(FOLDERS):\n",
    "    for file in folder.glob('**/results_00.h5'):\n",
    "        try:\n",
    "            with h5py.File(file, 'r') as h5f:\n",
    "                uuid = h5f['metadata/uuid'][()].decode()\n",
    "                uuid_map[folder][uuid] = file\n",
    "        except OSError:\n",
    "            bad_examples.append(file)\n",
    "uuid_map = dict(uuid_map)"
   ]
  },
  {
   "cell_type": "code",
   "execution_count": 5,
   "id": "172f3ae9",
   "metadata": {},
   "outputs": [],
   "source": [
    "min_dur = 5  # frames\n",
    "max_dur = 60\n",
    "pad = 30  # frames\n",
    "n_examples = 40\n",
    "seed = 0\n",
    "frames_key = 'frames'  # or win_size_norm_frames_v4\n",
    "cm_keys = ['centroid_x_px', 'centroid_y_px', 'angle']\n",
    "\n",
    "radius = 2\n",
    "center = (80 // 2, ) * 2  # hard-coded for aging project\n",
    "height_thresh = 10"
   ]
  },
  {
   "cell_type": "code",
   "execution_count": 6,
   "id": "223fcfca-f6d9-470a-83fb-264064190c7b",
   "metadata": {
    "tags": []
   },
   "outputs": [
    {
     "data": {
      "application/vnd.jupyter.widget-view+json": {
       "model_id": "c59a4ee390184ee799c32ada717a4d54",
       "version_major": 2,
       "version_minor": 0
      },
      "text/plain": [
       "Processing experiments:   0%|          | 0/7 [00:00<?, ?it/s]"
      ]
     },
     "metadata": {},
     "output_type": "display_data"
    },
    {
     "data": {
      "application/vnd.jupyter.widget-view+json": {
       "model_id": "71e2f9c700ec45279684f2ad4e77f8d5",
       "version_major": 2,
       "version_minor": 0
      },
      "text/plain": [
       "Extracting syllables:   0%|          | 0/224 [00:00<?, ?it/s]"
      ]
     },
     "metadata": {},
     "output_type": "display_data"
    },
    {
     "data": {
      "application/vnd.jupyter.widget-view+json": {
       "model_id": "3744968f41a3400f87ade3a189fe7639",
       "version_major": 2,
       "version_minor": 0
      },
      "text/plain": [
       "Writing movies:   0%|          | 0/72 [00:00<?, ?it/s]"
      ]
     },
     "metadata": {},
     "output_type": "display_data"
    },
    {
     "data": {
      "application/vnd.jupyter.widget-view+json": {
       "model_id": "6115c27d2f234fde9f40fe9a3e78ca4d",
       "version_major": 2,
       "version_minor": 0
      },
      "text/plain": [
       "Extracting syllables:   0%|          | 0/360 [00:00<?, ?it/s]"
      ]
     },
     "metadata": {},
     "output_type": "display_data"
    },
    {
     "data": {
      "application/vnd.jupyter.widget-view+json": {
       "model_id": "cd35d80631fa45589371d56f3b706ae9",
       "version_major": 2,
       "version_minor": 0
      },
      "text/plain": [
       "Writing movies:   0%|          | 0/75 [00:00<?, ?it/s]"
      ]
     },
     "metadata": {},
     "output_type": "display_data"
    },
    {
     "data": {
      "application/vnd.jupyter.widget-view+json": {
       "model_id": "3277a39e1e2041dd9e79095d7249c067",
       "version_major": 2,
       "version_minor": 0
      },
      "text/plain": [
       "Extracting syllables:   0%|          | 0/989 [00:00<?, ?it/s]"
      ]
     },
     "metadata": {},
     "output_type": "display_data"
    },
    {
     "data": {
      "application/vnd.jupyter.widget-view+json": {
       "model_id": "d64bd355d4ae463b90cbce83341f4150",
       "version_major": 2,
       "version_minor": 0
      },
      "text/plain": [
       "Writing movies:   0%|          | 0/72 [00:00<?, ?it/s]"
      ]
     },
     "metadata": {},
     "output_type": "display_data"
    },
    {
     "data": {
      "application/vnd.jupyter.widget-view+json": {
       "model_id": "fb60c839a2d64ebe9224e2f8add512af",
       "version_major": 2,
       "version_minor": 0
      },
      "text/plain": [
       "Extracting syllables:   0%|          | 0/870 [00:00<?, ?it/s]"
      ]
     },
     "metadata": {},
     "output_type": "display_data"
    },
    {
     "data": {
      "application/vnd.jupyter.widget-view+json": {
       "model_id": "b23e286402b44e60aee85daebfcec811",
       "version_major": 2,
       "version_minor": 0
      },
      "text/plain": [
       "Writing movies:   0%|          | 0/72 [00:00<?, ?it/s]"
      ]
     },
     "metadata": {},
     "output_type": "display_data"
    },
    {
     "data": {
      "application/vnd.jupyter.widget-view+json": {
       "model_id": "d10d96368a6b433a92d74ab71907ed9e",
       "version_major": 2,
       "version_minor": 0
      },
      "text/plain": [
       "Extracting syllables:   0%|          | 0/876 [00:00<?, ?it/s]"
      ]
     },
     "metadata": {},
     "output_type": "display_data"
    },
    {
     "data": {
      "application/vnd.jupyter.widget-view+json": {
       "model_id": "8a11285220264093afeeff74fdd068f4",
       "version_major": 2,
       "version_minor": 0
      },
      "text/plain": [
       "Writing movies:   0%|          | 0/72 [00:00<?, ?it/s]"
      ]
     },
     "metadata": {},
     "output_type": "display_data"
    },
    {
     "data": {
      "application/vnd.jupyter.widget-view+json": {
       "model_id": "cd47280a66494ba5ab974a03b7caf669",
       "version_major": 2,
       "version_minor": 0
      },
      "text/plain": [
       "Extracting syllables:   0%|          | 0/840 [00:00<?, ?it/s]"
      ]
     },
     "metadata": {},
     "output_type": "display_data"
    },
    {
     "data": {
      "application/vnd.jupyter.widget-view+json": {
       "model_id": "55733e93809740a2bf12b525b4831bdc",
       "version_major": 2,
       "version_minor": 0
      },
      "text/plain": [
       "Writing movies:   0%|          | 0/73 [00:00<?, ?it/s]"
      ]
     },
     "metadata": {},
     "output_type": "display_data"
    },
    {
     "data": {
      "application/vnd.jupyter.widget-view+json": {
       "model_id": "e03d3471f3a14408a05c364a8e826f3a",
       "version_major": 2,
       "version_minor": 0
      },
      "text/plain": [
       "Extracting syllables:   0%|          | 0/169 [00:00<?, ?it/s]"
      ]
     },
     "metadata": {},
     "output_type": "display_data"
    },
    {
     "data": {
      "application/vnd.jupyter.widget-view+json": {
       "model_id": "568d1cebb55e4a62a1e5eec1eede03bd",
       "version_major": 2,
       "version_minor": 0
      },
      "text/plain": [
       "Writing movies:   0%|          | 0/72 [00:00<?, ?it/s]"
      ]
     },
     "metadata": {},
     "output_type": "display_data"
    }
   ],
   "source": [
    "base_crowd_movie_folder = Path(\n",
    "    f\"/n/groups/datta/win/longtogeny/data/ontogeny/version_{version:02d}/all_data_pca/crowd_movies\"\n",
    ")\n",
    "for FOLDER in tqdm(FOLDERS, desc=\"Processing experiments\"):\n",
    "    crowd_movie_folder = base_crowd_movie_folder / FOLDER.name\n",
    "    # open syllable and pca h5 file\n",
    "    uuid_dict = uuid_map[FOLDER]\n",
    "    with h5py.File(syllable_path, \"r\") as syll_h5, h5py.File(pca_path, \"r\") as pca_h5:\n",
    "        # construct df for syllables in this experiment:\n",
    "        df = []\n",
    "        for uuid, file in uuid_dict.items():\n",
    "            try:\n",
    "                df.append(\n",
    "                    pd.DataFrame(\n",
    "                        dict(\n",
    "                            syllables=syll_h5[uuid][()],\n",
    "                            uuid=uuid,\n",
    "                            file=str(file),\n",
    "                            frame_idx=pca_h5[\"scores_idx\"][uuid][()],\n",
    "                        )\n",
    "                    )\n",
    "                )\n",
    "            except KeyError:\n",
    "                continue\n",
    "\n",
    "    # concatenate dataframe, compute syllable durations\n",
    "    df = pd.concat(df, ignore_index=True)\n",
    "    df[\"onsets\"] = df.groupby(\"uuid\", sort=False)[\"syllables\"].transform(\n",
    "        lambda v: v.diff() != 0\n",
    "    )\n",
    "    idx = np.where(df[\"onsets\"])[0]\n",
    "    df.loc[df[\"onsets\"], \"duration\"] = np.append(np.diff(idx), [len(df) - idx[-1]])\n",
    "    df[\"duration\"] = df[\"duration\"].ffill().astype(\"uint16\")\n",
    "    syllables = df[\"syllables\"].unique()\n",
    "    df = df.dropna(subset=[\"frame_idx\"])\n",
    "    df[\"frame_idx\"] = df[\"frame_idx\"].astype(\"uint32\")\n",
    "    usages_map = dict(\n",
    "        map(reversed, enumerate(df.query(\"onsets\")[\"syllables\"].value_counts().index))\n",
    "    )\n",
    "\n",
    "    crowd_matrix_dict = {}\n",
    "    total_examples = []\n",
    "\n",
    "    for syllable in syllables:\n",
    "        mask = (\n",
    "            (df[\"syllables\"] == syllable)\n",
    "            & df[\"duration\"].between(min_dur, max_dur)\n",
    "            & df[\"onsets\"]\n",
    "            & (df[\"frame_idx\"] > pad)\n",
    "        )\n",
    "        examples = df[mask].sample(n=min(n_examples, mask.sum()), random_state=seed)\n",
    "        examples = examples.sort_values(by=[\"file\", \"frame_idx\"])\n",
    "        if len(examples) == 0:\n",
    "            continue\n",
    "        total_examples.append(examples)\n",
    "        crowd_matrix_dict[syllable] = np.zeros(\n",
    "            (examples[\"duration\"].max() + pad * 2, 424, 512), dtype=\"uint8\"\n",
    "        )\n",
    "    total_examples = pd.concat(total_examples, ignore_index=True)\n",
    "\n",
    "    for file, _df in tqdm(\n",
    "        total_examples.groupby(\"file\", sort=False), desc=\"Extracting syllables\"\n",
    "    ):\n",
    "        with h5py.File(file, \"r\") as h5f:\n",
    "            extents = np.where(h5f[\"metadata/extraction/roi\"])\n",
    "            y_min = extents[0].min()\n",
    "            x_min = extents[1].min()\n",
    "            for idx, row in _df.sort_values(by=\"frame_idx\").iterrows():\n",
    "                agg_feats = {}\n",
    "                start = row.frame_idx - pad\n",
    "                end = row.frame_idx + row.duration + pad\n",
    "                agg_feats[\"frames\"] = np.array(\n",
    "                    [clean(f) for f in h5f[frames_key][start:end]]\n",
    "                )\n",
    "                for key in cm_keys:\n",
    "                    agg_feats[key] = h5f[\"scalars\"][key][start:end]\n",
    "                flips = h5f[\"metadata/extraction/flips\"][start:end]\n",
    "                # agg_feats[\"angle\"] -= np.pi * flips\n",
    "                agg_feats[\"angle\"] = np.rad2deg(agg_feats[\"angle\"])\n",
    "                rotated = np.array(\n",
    "                    [\n",
    "                        rotate(f, a, reshape=False)\n",
    "                        for f, a in zip(agg_feats[\"frames\"], agg_feats[\"angle\"])\n",
    "                    ],\n",
    "                    dtype=\"uint8\",\n",
    "                )\n",
    "                rotated[\n",
    "                    pad:-pad,\n",
    "                    center[0] - radius : center[0] + radius,\n",
    "                    center[1] - radius : center[1] + radius,\n",
    "                ] = 255\n",
    "                for i, (x, y, frame) in enumerate(\n",
    "                    zip(\n",
    "                        agg_feats[\"centroid_x_px\"],\n",
    "                        agg_feats[\"centroid_y_px\"],\n",
    "                        rotated,\n",
    "                    )\n",
    "                ):\n",
    "                    if np.isnan(x) or np.isnan(y):\n",
    "                        continue\n",
    "                    if not is_ok_position(y, y_min, 424) or not is_ok_position(\n",
    "                        x, x_min, 512\n",
    "                    ):\n",
    "                        continue\n",
    "                    ys, xs = make_slice(y, y_min), make_slice(x, x_min)\n",
    "                    crowd_matrix_dict[row.syllables][i, ys, xs] = frame + (\n",
    "                        (frame < height_thresh)\n",
    "                        * crowd_matrix_dict[row.syllables][i, ys, xs]\n",
    "                    )\n",
    "\n",
    "    for syllable, mov in tqdm(crowd_matrix_dict.items(), desc=\"Writing movies\"):\n",
    "        write_movie_av(\n",
    "            crowd_movie_folder\n",
    "            / f\"usage_order_{usages_map[syllable]:02d}-syllable_{syllable:02d}.mp4\",\n",
    "            np.clip(mov, 0, 95),\n",
    "            cmap=\"cubehelix\",\n",
    "        )"
   ]
  },
  {
   "cell_type": "code",
   "execution_count": null,
   "id": "3d1dbfac-a58d-4614-8084-27bf7f50f9ec",
   "metadata": {},
   "outputs": [],
   "source": []
  }
 ],
 "metadata": {
  "kernelspec": {
   "display_name": "Python 3 (ipykernel)",
   "language": "python",
   "name": "python3"
  },
  "language_info": {
   "codemirror_mode": {
    "name": "ipython",
    "version": 3
   },
   "file_extension": ".py",
   "mimetype": "text/x-python",
   "name": "python",
   "nbconvert_exporter": "python",
   "pygments_lexer": "ipython3",
   "version": "3.10.12"
  },
  "widgets": {
   "application/vnd.jupyter.widget-state+json": {
    "state": {
     "005596e95beb41ae8e793d547afd119b": {
      "model_module": "@jupyter-widgets/base",
      "model_module_version": "2.0.0",
      "model_name": "LayoutModel",
      "state": {}
     },
     "00bf6fc5a2b44e49948dabb61c3d4bca": {
      "model_module": "@jupyter-widgets/base",
      "model_module_version": "2.0.0",
      "model_name": "LayoutModel",
      "state": {}
     },
     "00c76abf6f6f48718de009e4cf147af9": {
      "model_module": "@jupyter-widgets/base",
      "model_module_version": "2.0.0",
      "model_name": "LayoutModel",
      "state": {}
     },
     "01e0a9eb2bd54cbcad2be42e678f1ed9": {
      "model_module": "@jupyter-widgets/controls",
      "model_module_version": "2.0.0",
      "model_name": "ProgressStyleModel",
      "state": {
       "description_width": ""
      }
     },
     "03813f7a23e94e7285d29643a007f1e5": {
      "model_module": "@jupyter-widgets/base",
      "model_module_version": "2.0.0",
      "model_name": "LayoutModel",
      "state": {}
     },
     "0545d16093bc4957b94847484d59f174": {
      "model_module": "@jupyter-widgets/controls",
      "model_module_version": "2.0.0",
      "model_name": "FloatProgressModel",
      "state": {
       "bar_style": "success",
       "layout": "IPY_MODEL_912044ea17174d1aa12d8425e7572ecb",
       "max": 779,
       "style": "IPY_MODEL_e8d5fff12ebe48ddb6c8f6cb3ec7d261",
       "value": 779
      }
     },
     "059bdde14de84dcc85a45239bb982316": {
      "model_module": "@jupyter-widgets/controls",
      "model_module_version": "2.0.0",
      "model_name": "HTMLStyleModel",
      "state": {
       "description_width": "",
       "font_size": null,
       "text_color": null
      }
     },
     "05cc35526e7043c5bd64590fdda7c4d9": {
      "model_module": "@jupyter-widgets/base",
      "model_module_version": "2.0.0",
      "model_name": "LayoutModel",
      "state": {}
     },
     "063d74b855b24dad9c683c81bf5a8f1b": {
      "model_module": "@jupyter-widgets/base",
      "model_module_version": "2.0.0",
      "model_name": "LayoutModel",
      "state": {}
     },
     "068817e3755b4c81b37619416ef62b88": {
      "model_module": "@jupyter-widgets/base",
      "model_module_version": "2.0.0",
      "model_name": "LayoutModel",
      "state": {}
     },
     "071167ddf50544c29952063e84c862d3": {
      "model_module": "@jupyter-widgets/base",
      "model_module_version": "2.0.0",
      "model_name": "LayoutModel",
      "state": {}
     },
     "078ee294489547aa81008331a3887b02": {
      "model_module": "@jupyter-widgets/controls",
      "model_module_version": "2.0.0",
      "model_name": "HTMLModel",
      "state": {
       "layout": "IPY_MODEL_dd72ef83f019472997ec0600e96ce442",
       "style": "IPY_MODEL_f7195e0b2f994ed5838a0fe90cc82c4e",
       "value": " 72/72 [02:55&lt;00:00,  1.37s/it]"
      }
     },
     "07f918e95a7e47448b5b922d9d60f24c": {
      "model_module": "@jupyter-widgets/controls",
      "model_module_version": "2.0.0",
      "model_name": "HTMLStyleModel",
      "state": {
       "description_width": "",
       "font_size": null,
       "text_color": null
      }
     },
     "0989495417ff480395b972113e4f941b": {
      "model_module": "@jupyter-widgets/controls",
      "model_module_version": "2.0.0",
      "model_name": "HTMLModel",
      "state": {
       "layout": "IPY_MODEL_5d72c3018ad7476fa61d195d570cd6c3",
       "style": "IPY_MODEL_07f918e95a7e47448b5b922d9d60f24c",
       "value": "Extracting syllables: 100%"
      }
     },
     "0a07c0c81cbd44b9ae19e831986c9100": {
      "model_module": "@jupyter-widgets/controls",
      "model_module_version": "2.0.0",
      "model_name": "HTMLStyleModel",
      "state": {
       "description_width": "",
       "font_size": null,
       "text_color": null
      }
     },
     "0bd8548f19cf4a69b0c82ae08817026d": {
      "model_module": "@jupyter-widgets/controls",
      "model_module_version": "2.0.0",
      "model_name": "HTMLModel",
      "state": {
       "layout": "IPY_MODEL_a1f26b3c730249528014b55e029550d0",
       "style": "IPY_MODEL_477befdae14e4a3f83ed282c13a5f1bb",
       "value": "Extracting syllables: 100%"
      }
     },
     "0d61d9a8f8614691b6834d358c8712c6": {
      "model_module": "@jupyter-widgets/controls",
      "model_module_version": "2.0.0",
      "model_name": "HTMLStyleModel",
      "state": {
       "description_width": "",
       "font_size": null,
       "text_color": null
      }
     },
     "0f9e95b245f94f5a8d31ad7ab3c9663a": {
      "model_module": "@jupyter-widgets/base",
      "model_module_version": "2.0.0",
      "model_name": "LayoutModel",
      "state": {}
     },
     "101337bda8034304a4dd7125964662b7": {
      "model_module": "@jupyter-widgets/controls",
      "model_module_version": "2.0.0",
      "model_name": "HBoxModel",
      "state": {
       "children": [
        "IPY_MODEL_a11d2d63e61946e6877955d067f867f3",
        "IPY_MODEL_dd392e72bd2c43babd8656b4afc7649c",
        "IPY_MODEL_078ee294489547aa81008331a3887b02"
       ],
       "layout": "IPY_MODEL_c72fb0eae8d4457e9c8474f2e7217c7d"
      }
     },
     "10af0fc0e0844389b13a3c7f025d10b7": {
      "model_module": "@jupyter-widgets/controls",
      "model_module_version": "2.0.0",
      "model_name": "HTMLModel",
      "state": {
       "layout": "IPY_MODEL_03813f7a23e94e7285d29643a007f1e5",
       "style": "IPY_MODEL_37ca7222ef0542deaf19732f049da7f4",
       "value": "Writing movies: 100%"
      }
     },
     "112c4250d5824930a6d8c6e40c864b7e": {
      "model_module": "@jupyter-widgets/controls",
      "model_module_version": "2.0.0",
      "model_name": "HTMLModel",
      "state": {
       "layout": "IPY_MODEL_17ef338ee56c41f3b6c8b0cf19dd9f93",
       "style": "IPY_MODEL_a7a108d19dce4dd5a65ab9532aeb056c",
       "value": "Writing movies: 100%"
      }
     },
     "1397744184a9418aa2743d6e84457cca": {
      "model_module": "@jupyter-widgets/controls",
      "model_module_version": "2.0.0",
      "model_name": "HTMLModel",
      "state": {
       "layout": "IPY_MODEL_58877698e0bc4c6da64d34f82de2492c",
       "style": "IPY_MODEL_236167aa80d74482bd230199d04a9da2",
       "value": " 68/68 [01:47&lt;00:00,  1.17s/it]"
      }
     },
     "13a69514bcec4892ad6e54a13ae0b448": {
      "model_module": "@jupyter-widgets/controls",
      "model_module_version": "2.0.0",
      "model_name": "FloatProgressModel",
      "state": {
       "bar_style": "success",
       "layout": "IPY_MODEL_4eb1b6ea8c2b4f25935c8a5958a7f71c",
       "max": 224,
       "style": "IPY_MODEL_ab40860255b543d98d74f58b937a0a97",
       "value": 224
      }
     },
     "15e8b4816b2f49d9a4ee8c26d273995d": {
      "model_module": "@jupyter-widgets/base",
      "model_module_version": "2.0.0",
      "model_name": "LayoutModel",
      "state": {}
     },
     "162538065cab4c61a789cf0b44325314": {
      "model_module": "@jupyter-widgets/controls",
      "model_module_version": "2.0.0",
      "model_name": "HTMLStyleModel",
      "state": {
       "description_width": "",
       "font_size": null,
       "text_color": null
      }
     },
     "1723ad34023c4c12bc077a7648e84e5b": {
      "model_module": "@jupyter-widgets/controls",
      "model_module_version": "2.0.0",
      "model_name": "HTMLStyleModel",
      "state": {
       "description_width": "",
       "font_size": null,
       "text_color": null
      }
     },
     "17ef338ee56c41f3b6c8b0cf19dd9f93": {
      "model_module": "@jupyter-widgets/base",
      "model_module_version": "2.0.0",
      "model_name": "LayoutModel",
      "state": {}
     },
     "195c168a1e2e4389a4777e56e7e00c4b": {
      "model_module": "@jupyter-widgets/controls",
      "model_module_version": "2.0.0",
      "model_name": "HTMLModel",
      "state": {
       "layout": "IPY_MODEL_8595e004d9af45b5ab3469757b35e80f",
       "style": "IPY_MODEL_58ad06b243ae4ef99fcf6d124bf67c45",
       "value": " 779/779 [06:41&lt;00:00,  5.83it/s]"
      }
     },
     "1a70d13d47c443a5afa7008611862082": {
      "model_module": "@jupyter-widgets/controls",
      "model_module_version": "2.0.0",
      "model_name": "HTMLModel",
      "state": {
       "layout": "IPY_MODEL_05cc35526e7043c5bd64590fdda7c4d9",
       "style": "IPY_MODEL_1723ad34023c4c12bc077a7648e84e5b",
       "value": "Writing movies: 100%"
      }
     },
     "1b379db85fa549d081092e3054556110": {
      "model_module": "@jupyter-widgets/controls",
      "model_module_version": "2.0.0",
      "model_name": "HBoxModel",
      "state": {
       "children": [
        "IPY_MODEL_e5fc1544fbf14816be9b09961622cfda",
        "IPY_MODEL_e5ae57b4834e4836aeea7903cca88dd3",
        "IPY_MODEL_7f06e253d35744f491699ae7a579d167"
       ],
       "layout": "IPY_MODEL_357be48f493d480b91408e64d70f7dd8"
      }
     },
     "1b530ceabcb44c5fbe6f8b55fbd77a31": {
      "model_module": "@jupyter-widgets/base",
      "model_module_version": "2.0.0",
      "model_name": "LayoutModel",
      "state": {}
     },
     "1c14e8b9f0c342d49770b557576efb44": {
      "model_module": "@jupyter-widgets/controls",
      "model_module_version": "2.0.0",
      "model_name": "FloatProgressModel",
      "state": {
       "bar_style": "success",
       "layout": "IPY_MODEL_2dca7f4ecf544dbca1061398aa455f67",
       "max": 66,
       "style": "IPY_MODEL_f30ff01c8eee42a285c25ac4caa7d70c",
       "value": 66
      }
     },
     "1cc0f0fdae7d4d50b18f767afc13c418": {
      "model_module": "@jupyter-widgets/controls",
      "model_module_version": "2.0.0",
      "model_name": "HTMLModel",
      "state": {
       "layout": "IPY_MODEL_a009dd08399446ae91cc393cca972a96",
       "style": "IPY_MODEL_394ef3d32c2848eb80bff79c6b3e201f",
       "value": " 71/71 [02:07&lt;00:00,  1.02s/it]"
      }
     },
     "1ed04d420b4140a3a12d00f8f5ca7111": {
      "model_module": "@jupyter-widgets/base",
      "model_module_version": "2.0.0",
      "model_name": "LayoutModel",
      "state": {}
     },
     "206569e7928b4b8d9a020817fffbd7c0": {
      "model_module": "@jupyter-widgets/controls",
      "model_module_version": "2.0.0",
      "model_name": "HBoxModel",
      "state": {
       "children": [
        "IPY_MODEL_8a44393c24494c6aa2d64d563b33ebb2",
        "IPY_MODEL_9f6e2afb41db42c8bde1a128e8aac064",
        "IPY_MODEL_842e0939fcb14779b245ad41c9043722"
       ],
       "layout": "IPY_MODEL_ccfc27bd346e421ba5dd0432e8f6f5e7"
      }
     },
     "209c31e4b8964e94a17041af5d1b6929": {
      "model_module": "@jupyter-widgets/base",
      "model_module_version": "2.0.0",
      "model_name": "LayoutModel",
      "state": {}
     },
     "20cd07cd661740aab5d49ca499ce771e": {
      "model_module": "@jupyter-widgets/controls",
      "model_module_version": "2.0.0",
      "model_name": "ProgressStyleModel",
      "state": {
       "description_width": ""
      }
     },
     "20e11cfd118a4086962e711b9a06e4d8": {
      "model_module": "@jupyter-widgets/base",
      "model_module_version": "2.0.0",
      "model_name": "LayoutModel",
      "state": {}
     },
     "236167aa80d74482bd230199d04a9da2": {
      "model_module": "@jupyter-widgets/controls",
      "model_module_version": "2.0.0",
      "model_name": "HTMLStyleModel",
      "state": {
       "description_width": "",
       "font_size": null,
       "text_color": null
      }
     },
     "23cff5ed04ad44e2bea528458623273c": {
      "model_module": "@jupyter-widgets/controls",
      "model_module_version": "2.0.0",
      "model_name": "HTMLStyleModel",
      "state": {
       "description_width": "",
       "font_size": null,
       "text_color": null
      }
     },
     "2454e0603aed4c35a02e5b7c5f8215df": {
      "model_module": "@jupyter-widgets/controls",
      "model_module_version": "2.0.0",
      "model_name": "HTMLStyleModel",
      "state": {
       "description_width": "",
       "font_size": null,
       "text_color": null
      }
     },
     "29074b82d5fa443bb424f19032fb3b7c": {
      "model_module": "@jupyter-widgets/base",
      "model_module_version": "2.0.0",
      "model_name": "LayoutModel",
      "state": {}
     },
     "29452e9804334848a9ff0454b28d1e72": {
      "model_module": "@jupyter-widgets/base",
      "model_module_version": "2.0.0",
      "model_name": "LayoutModel",
      "state": {}
     },
     "29bba965e9784f228e6673bab57966f2": {
      "model_module": "@jupyter-widgets/controls",
      "model_module_version": "2.0.0",
      "model_name": "HTMLModel",
      "state": {
       "layout": "IPY_MODEL_de19edfdd7e0418596aec915cdb3da57",
       "style": "IPY_MODEL_0d61d9a8f8614691b6834d358c8712c6",
       "value": "Extracting syllables: 100%"
      }
     },
     "2c3b4fbabcf240b6b1b57edb14be0563": {
      "model_module": "@jupyter-widgets/controls",
      "model_module_version": "2.0.0",
      "model_name": "HTMLStyleModel",
      "state": {
       "description_width": "",
       "font_size": null,
       "text_color": null
      }
     },
     "2ca8008b3f0d451c9c92ae25736b29c3": {
      "model_module": "@jupyter-widgets/controls",
      "model_module_version": "2.0.0",
      "model_name": "HTMLModel",
      "state": {
       "layout": "IPY_MODEL_6f9b0a598c394e6abda9f284c9a3f282",
       "style": "IPY_MODEL_7b8500da307a4497875a1b73a35f0b8f",
       "value": " 722/722 [06:37&lt;00:00,  4.31it/s]"
      }
     },
     "2d9b9718d400499aa2941b6ff0ed67c8": {
      "model_module": "@jupyter-widgets/base",
      "model_module_version": "2.0.0",
      "model_name": "LayoutModel",
      "state": {}
     },
     "2d9fc2607a294407b2a1af84384866af": {
      "model_module": "@jupyter-widgets/base",
      "model_module_version": "2.0.0",
      "model_name": "LayoutModel",
      "state": {}
     },
     "2dca7f4ecf544dbca1061398aa455f67": {
      "model_module": "@jupyter-widgets/base",
      "model_module_version": "2.0.0",
      "model_name": "LayoutModel",
      "state": {}
     },
     "2ed47514f54b4982b15cbff5fd1c71fe": {
      "model_module": "@jupyter-widgets/controls",
      "model_module_version": "2.0.0",
      "model_name": "HBoxModel",
      "state": {
       "children": [
        "IPY_MODEL_0989495417ff480395b972113e4f941b",
        "IPY_MODEL_13a69514bcec4892ad6e54a13ae0b448",
        "IPY_MODEL_d8ba1cf45fa647e980fb5f075174d58a"
       ],
       "layout": "IPY_MODEL_eab40cb91b0b41ac8f902a309a2f059a"
      }
     },
     "3041685ae8f14b6e9601f86d575e0bba": {
      "model_module": "@jupyter-widgets/controls",
      "model_module_version": "2.0.0",
      "model_name": "HBoxModel",
      "state": {
       "children": [
        "IPY_MODEL_5907ba1a20944b2287851fe869a5c8fa",
        "IPY_MODEL_d79e3c7b8d314f7982940ea38957d3f1",
        "IPY_MODEL_5f3b077186104f4fb776dd8a1f63b53f"
       ],
       "layout": "IPY_MODEL_7e6c8f1dc0d54f8695ae6c68c7fecc9f"
      }
     },
     "357be48f493d480b91408e64d70f7dd8": {
      "model_module": "@jupyter-widgets/base",
      "model_module_version": "2.0.0",
      "model_name": "LayoutModel",
      "state": {}
     },
     "36d4ff6119a14cfbb4625df74fade8a9": {
      "model_module": "@jupyter-widgets/controls",
      "model_module_version": "2.0.0",
      "model_name": "FloatProgressModel",
      "state": {
       "bar_style": "success",
       "layout": "IPY_MODEL_a230ef643e66451ba83fa29635af4bc2",
       "max": 71,
       "style": "IPY_MODEL_01e0a9eb2bd54cbcad2be42e678f1ed9",
       "value": 71
      }
     },
     "37ca7222ef0542deaf19732f049da7f4": {
      "model_module": "@jupyter-widgets/controls",
      "model_module_version": "2.0.0",
      "model_name": "HTMLStyleModel",
      "state": {
       "description_width": "",
       "font_size": null,
       "text_color": null
      }
     },
     "3850196973744950914dda36483463ca": {
      "model_module": "@jupyter-widgets/controls",
      "model_module_version": "2.0.0",
      "model_name": "HTMLModel",
      "state": {
       "layout": "IPY_MODEL_209c31e4b8964e94a17041af5d1b6929",
       "style": "IPY_MODEL_d39033e7657b4bf997391eb4d568953a",
       "value": "Extracting syllables: 100%"
      }
     },
     "38dd75372d974587b245368e344bd1c9": {
      "model_module": "@jupyter-widgets/controls",
      "model_module_version": "2.0.0",
      "model_name": "HTMLModel",
      "state": {
       "layout": "IPY_MODEL_0f9e95b245f94f5a8d31ad7ab3c9663a",
       "style": "IPY_MODEL_ddddd4be38a047b7a40b46f5702c8a9a",
       "value": " 66/66 [01:48&lt;00:00,  1.56s/it]"
      }
     },
     "394ef3d32c2848eb80bff79c6b3e201f": {
      "model_module": "@jupyter-widgets/controls",
      "model_module_version": "2.0.0",
      "model_name": "HTMLStyleModel",
      "state": {
       "description_width": "",
       "font_size": null,
       "text_color": null
      }
     },
     "3a2ca8eb0c304a33a54047f5180ec20d": {
      "model_module": "@jupyter-widgets/base",
      "model_module_version": "2.0.0",
      "model_name": "LayoutModel",
      "state": {}
     },
     "3a68937074654ad3a6d9177c8939f874": {
      "model_module": "@jupyter-widgets/controls",
      "model_module_version": "2.0.0",
      "model_name": "HTMLModel",
      "state": {
       "layout": "IPY_MODEL_29452e9804334848a9ff0454b28d1e72",
       "style": "IPY_MODEL_162538065cab4c61a789cf0b44325314",
       "value": " 7/7 [1:12:16&lt;00:00, 575.84s/it]"
      }
     },
     "3e6c981fb3da49efa3f2f70cd90ee516": {
      "model_module": "@jupyter-widgets/controls",
      "model_module_version": "2.0.0",
      "model_name": "HBoxModel",
      "state": {
       "children": [
        "IPY_MODEL_a2416390b34f4faf92cd5d72925a9de6",
        "IPY_MODEL_36d4ff6119a14cfbb4625df74fade8a9",
        "IPY_MODEL_1cc0f0fdae7d4d50b18f767afc13c418"
       ],
       "layout": "IPY_MODEL_20e11cfd118a4086962e711b9a06e4d8"
      }
     },
     "3edaeac1b21a41d5b908fbc5056d2011": {
      "model_module": "@jupyter-widgets/base",
      "model_module_version": "2.0.0",
      "model_name": "LayoutModel",
      "state": {}
     },
     "40e6c3e2d2ec4b2897ce675269168635": {
      "model_module": "@jupyter-widgets/base",
      "model_module_version": "2.0.0",
      "model_name": "LayoutModel",
      "state": {}
     },
     "41db9ef188d64ecd8a78a7826b0e8662": {
      "model_module": "@jupyter-widgets/controls",
      "model_module_version": "2.0.0",
      "model_name": "FloatProgressModel",
      "state": {
       "bar_style": "success",
       "layout": "IPY_MODEL_40e6c3e2d2ec4b2897ce675269168635",
       "max": 68,
       "style": "IPY_MODEL_48fb05ce51c6434da729b25282a53eea",
       "value": 68
      }
     },
     "42d84a2b160143b39b2d33df6d147865": {
      "model_module": "@jupyter-widgets/controls",
      "model_module_version": "2.0.0",
      "model_name": "ProgressStyleModel",
      "state": {
       "description_width": ""
      }
     },
     "43f2cb6ae936401da417df1dee710098": {
      "model_module": "@jupyter-widgets/controls",
      "model_module_version": "2.0.0",
      "model_name": "ProgressStyleModel",
      "state": {
       "description_width": ""
      }
     },
     "45c9f29b85c945b8b09e74c5da2de516": {
      "model_module": "@jupyter-widgets/base",
      "model_module_version": "2.0.0",
      "model_name": "LayoutModel",
      "state": {}
     },
     "4707b26fdbbe4ba3b65d1755df0f5321": {
      "model_module": "@jupyter-widgets/base",
      "model_module_version": "2.0.0",
      "model_name": "LayoutModel",
      "state": {}
     },
     "477befdae14e4a3f83ed282c13a5f1bb": {
      "model_module": "@jupyter-widgets/controls",
      "model_module_version": "2.0.0",
      "model_name": "HTMLStyleModel",
      "state": {
       "description_width": "",
       "font_size": null,
       "text_color": null
      }
     },
     "48fb05ce51c6434da729b25282a53eea": {
      "model_module": "@jupyter-widgets/controls",
      "model_module_version": "2.0.0",
      "model_name": "ProgressStyleModel",
      "state": {
       "description_width": ""
      }
     },
     "495c55ceaf5842b7a05a9fc597c0bdb0": {
      "model_module": "@jupyter-widgets/controls",
      "model_module_version": "2.0.0",
      "model_name": "HBoxModel",
      "state": {
       "children": [
        "IPY_MODEL_1a70d13d47c443a5afa7008611862082",
        "IPY_MODEL_9d1884b471ee4512a3200dc4f557da01",
        "IPY_MODEL_ac3b4f355bf14b74bbd448e68074106e"
       ],
       "layout": "IPY_MODEL_6c5f08e3d41349a48d2d75acf5ad459b"
      }
     },
     "4a3f0f5fb9ba4486b91fbecfd7be3719": {
      "model_module": "@jupyter-widgets/controls",
      "model_module_version": "2.0.0",
      "model_name": "HTMLStyleModel",
      "state": {
       "description_width": "",
       "font_size": null,
       "text_color": null
      }
     },
     "4d93c85f8d0b45f599ac48aea1e15893": {
      "model_module": "@jupyter-widgets/controls",
      "model_module_version": "2.0.0",
      "model_name": "ProgressStyleModel",
      "state": {
       "description_width": ""
      }
     },
     "4e71104e132a4b448b0f15b192091737": {
      "model_module": "@jupyter-widgets/base",
      "model_module_version": "2.0.0",
      "model_name": "LayoutModel",
      "state": {}
     },
     "4eb1b6ea8c2b4f25935c8a5958a7f71c": {
      "model_module": "@jupyter-widgets/base",
      "model_module_version": "2.0.0",
      "model_name": "LayoutModel",
      "state": {}
     },
     "4f0ddcd232654555ab1f6934c4fddb78": {
      "model_module": "@jupyter-widgets/controls",
      "model_module_version": "2.0.0",
      "model_name": "FloatProgressModel",
      "state": {
       "bar_style": "success",
       "layout": "IPY_MODEL_071167ddf50544c29952063e84c862d3",
       "max": 216,
       "style": "IPY_MODEL_43f2cb6ae936401da417df1dee710098",
       "value": 216
      }
     },
     "50818d797ba54decbf130684016518bd": {
      "model_module": "@jupyter-widgets/controls",
      "model_module_version": "2.0.0",
      "model_name": "HTMLStyleModel",
      "state": {
       "description_width": "",
       "font_size": null,
       "text_color": null
      }
     },
     "520d483f21144a2d93d2cb932169f5d9": {
      "model_module": "@jupyter-widgets/controls",
      "model_module_version": "2.0.0",
      "model_name": "HBoxModel",
      "state": {
       "children": [
        "IPY_MODEL_fe6ab4133d124030bf102c9522c70261",
        "IPY_MODEL_8aad150464564ca2933cb79f83f9016f",
        "IPY_MODEL_3a68937074654ad3a6d9177c8939f874"
       ],
       "layout": "IPY_MODEL_a3b01312718c4763aefa9aefc8f5135a"
      }
     },
     "5450665d62074f4cb7dee78b4f25862a": {
      "model_module": "@jupyter-widgets/controls",
      "model_module_version": "2.0.0",
      "model_name": "HTMLStyleModel",
      "state": {
       "description_width": "",
       "font_size": null,
       "text_color": null
      }
     },
     "568597b3b87d45789f01bb2dc191d25b": {
      "model_module": "@jupyter-widgets/controls",
      "model_module_version": "2.0.0",
      "model_name": "ProgressStyleModel",
      "state": {
       "description_width": ""
      }
     },
     "5842319b592a40a781a1d703640ae5d1": {
      "model_module": "@jupyter-widgets/controls",
      "model_module_version": "2.0.0",
      "model_name": "FloatProgressModel",
      "state": {
       "bar_style": "success",
       "layout": "IPY_MODEL_a05d87084c79411e858bc7ef524919e5",
       "max": 67,
       "style": "IPY_MODEL_568597b3b87d45789f01bb2dc191d25b",
       "value": 67
      }
     },
     "58877698e0bc4c6da64d34f82de2492c": {
      "model_module": "@jupyter-widgets/base",
      "model_module_version": "2.0.0",
      "model_name": "LayoutModel",
      "state": {}
     },
     "58ad06b243ae4ef99fcf6d124bf67c45": {
      "model_module": "@jupyter-widgets/controls",
      "model_module_version": "2.0.0",
      "model_name": "HTMLStyleModel",
      "state": {
       "description_width": "",
       "font_size": null,
       "text_color": null
      }
     },
     "5907ba1a20944b2287851fe869a5c8fa": {
      "model_module": "@jupyter-widgets/controls",
      "model_module_version": "2.0.0",
      "model_name": "HTMLModel",
      "state": {
       "layout": "IPY_MODEL_a83f9cfc816348e99ca20232dc55bda8",
       "style": "IPY_MODEL_f904da1178a940b1b87986419f038d07",
       "value": "100%"
      }
     },
     "5d72c3018ad7476fa61d195d570cd6c3": {
      "model_module": "@jupyter-widgets/base",
      "model_module_version": "2.0.0",
      "model_name": "LayoutModel",
      "state": {}
     },
     "5dd49b9fb3fb4df6b30dfd702cacc57c": {
      "model_module": "@jupyter-widgets/controls",
      "model_module_version": "2.0.0",
      "model_name": "HTMLStyleModel",
      "state": {
       "description_width": "",
       "font_size": null,
       "text_color": null
      }
     },
     "5f3b077186104f4fb776dd8a1f63b53f": {
      "model_module": "@jupyter-widgets/controls",
      "model_module_version": "2.0.0",
      "model_name": "HTMLModel",
      "state": {
       "layout": "IPY_MODEL_76c7a18eff714737870f33da4365352c",
       "style": "IPY_MODEL_83c9ac5f5f2f48cd945a892809bd69f3",
       "value": " 7/7 [00:40&lt;00:00,  5.21s/it]"
      }
     },
     "5f3fc8e1563546de915df72516781468": {
      "model_module": "@jupyter-widgets/base",
      "model_module_version": "2.0.0",
      "model_name": "LayoutModel",
      "state": {}
     },
     "63db9a12a39b4e389f877fb2d845a327": {
      "model_module": "@jupyter-widgets/controls",
      "model_module_version": "2.0.0",
      "model_name": "HTMLModel",
      "state": {
       "layout": "IPY_MODEL_3a2ca8eb0c304a33a54047f5180ec20d",
       "style": "IPY_MODEL_23cff5ed04ad44e2bea528458623273c",
       "value": "Extracting syllables: 100%"
      }
     },
     "662fb530d6de4426ba9693d986ef0b8a": {
      "model_module": "@jupyter-widgets/base",
      "model_module_version": "2.0.0",
      "model_name": "LayoutModel",
      "state": {}
     },
     "68c05988a0c84b9e88c5a7dae604cf1f": {
      "model_module": "@jupyter-widgets/base",
      "model_module_version": "2.0.0",
      "model_name": "LayoutModel",
      "state": {}
     },
     "6912a8a6e9b04e79909fbdb65a009f6a": {
      "model_module": "@jupyter-widgets/controls",
      "model_module_version": "2.0.0",
      "model_name": "HTMLModel",
      "state": {
       "layout": "IPY_MODEL_063d74b855b24dad9c683c81bf5a8f1b",
       "style": "IPY_MODEL_4a3f0f5fb9ba4486b91fbecfd7be3719",
       "value": " 67/67 [01:50&lt;00:00,  1.20s/it]"
      }
     },
     "6c4c130440a848cca658fd98b7691ba8": {
      "model_module": "@jupyter-widgets/controls",
      "model_module_version": "2.0.0",
      "model_name": "ProgressStyleModel",
      "state": {
       "description_width": ""
      }
     },
     "6c5f08e3d41349a48d2d75acf5ad459b": {
      "model_module": "@jupyter-widgets/base",
      "model_module_version": "2.0.0",
      "model_name": "LayoutModel",
      "state": {}
     },
     "6e0b2b96d9564fc7b62f70b4b2383382": {
      "model_module": "@jupyter-widgets/base",
      "model_module_version": "2.0.0",
      "model_name": "LayoutModel",
      "state": {}
     },
     "6e523368b53d4330ba68f6ed7b5ec761": {
      "model_module": "@jupyter-widgets/base",
      "model_module_version": "2.0.0",
      "model_name": "LayoutModel",
      "state": {}
     },
     "6f9b0a598c394e6abda9f284c9a3f282": {
      "model_module": "@jupyter-widgets/base",
      "model_module_version": "2.0.0",
      "model_name": "LayoutModel",
      "state": {}
     },
     "76c7a18eff714737870f33da4365352c": {
      "model_module": "@jupyter-widgets/base",
      "model_module_version": "2.0.0",
      "model_name": "LayoutModel",
      "state": {}
     },
     "7785793236184c409fbdbbc8482d1464": {
      "model_module": "@jupyter-widgets/controls",
      "model_module_version": "2.0.0",
      "model_name": "HTMLStyleModel",
      "state": {
       "description_width": "",
       "font_size": null,
       "text_color": null
      }
     },
     "7a03828a4510431ca66b028b881f6044": {
      "model_module": "@jupyter-widgets/controls",
      "model_module_version": "2.0.0",
      "model_name": "HTMLStyleModel",
      "state": {
       "description_width": "",
       "font_size": null,
       "text_color": null
      }
     },
     "7abfb6aa0757406c8a053469bff6126c": {
      "model_module": "@jupyter-widgets/base",
      "model_module_version": "2.0.0",
      "model_name": "LayoutModel",
      "state": {}
     },
     "7b8500da307a4497875a1b73a35f0b8f": {
      "model_module": "@jupyter-widgets/controls",
      "model_module_version": "2.0.0",
      "model_name": "HTMLStyleModel",
      "state": {
       "description_width": "",
       "font_size": null,
       "text_color": null
      }
     },
     "7e6c8f1dc0d54f8695ae6c68c7fecc9f": {
      "model_module": "@jupyter-widgets/base",
      "model_module_version": "2.0.0",
      "model_name": "LayoutModel",
      "state": {}
     },
     "7f06e253d35744f491699ae7a579d167": {
      "model_module": "@jupyter-widgets/controls",
      "model_module_version": "2.0.0",
      "model_name": "HTMLModel",
      "state": {
       "layout": "IPY_MODEL_45c9f29b85c945b8b09e74c5da2de516",
       "style": "IPY_MODEL_0a07c0c81cbd44b9ae19e831986c9100",
       "value": " 165/165 [07:34&lt;00:00,  1.91s/it]"
      }
     },
     "80ae3f6f74b3498bb4df2a3c845ba02c": {
      "model_module": "@jupyter-widgets/controls",
      "model_module_version": "2.0.0",
      "model_name": "HBoxModel",
      "state": {
       "children": [
        "IPY_MODEL_29bba965e9784f228e6673bab57966f2",
        "IPY_MODEL_eb1f677caf86497f91cce365e2ca14b2",
        "IPY_MODEL_c9445efefe8943ca88e53a0221a909b7"
       ],
       "layout": "IPY_MODEL_5f3fc8e1563546de915df72516781468"
      }
     },
     "81b5114fb81847ed94d9bef28ae3751f": {
      "model_module": "@jupyter-widgets/controls",
      "model_module_version": "2.0.0",
      "model_name": "ProgressStyleModel",
      "state": {
       "description_width": ""
      }
     },
     "8389c41b25204f59b0b8549149207450": {
      "model_module": "@jupyter-widgets/base",
      "model_module_version": "2.0.0",
      "model_name": "LayoutModel",
      "state": {}
     },
     "83c9ac5f5f2f48cd945a892809bd69f3": {
      "model_module": "@jupyter-widgets/controls",
      "model_module_version": "2.0.0",
      "model_name": "HTMLStyleModel",
      "state": {
       "description_width": "",
       "font_size": null,
       "text_color": null
      }
     },
     "842e0939fcb14779b245ad41c9043722": {
      "model_module": "@jupyter-widgets/controls",
      "model_module_version": "2.0.0",
      "model_name": "HTMLModel",
      "state": {
       "layout": "IPY_MODEL_a1f1efacd62847419924e8f9fe991899",
       "style": "IPY_MODEL_5dd49b9fb3fb4df6b30dfd702cacc57c",
       "value": " 383/383 [06:33&lt;00:00,  2.85it/s]"
      }
     },
     "8595e004d9af45b5ab3469757b35e80f": {
      "model_module": "@jupyter-widgets/base",
      "model_module_version": "2.0.0",
      "model_name": "LayoutModel",
      "state": {}
     },
     "89b7dbf8435a4e368dd6158fb11fac1f": {
      "model_module": "@jupyter-widgets/base",
      "model_module_version": "2.0.0",
      "model_name": "LayoutModel",
      "state": {}
     },
     "8a44393c24494c6aa2d64d563b33ebb2": {
      "model_module": "@jupyter-widgets/controls",
      "model_module_version": "2.0.0",
      "model_name": "HTMLModel",
      "state": {
       "layout": "IPY_MODEL_1ed04d420b4140a3a12d00f8f5ca7111",
       "style": "IPY_MODEL_2454e0603aed4c35a02e5b7c5f8215df",
       "value": "Extracting syllables: 100%"
      }
     },
     "8aad150464564ca2933cb79f83f9016f": {
      "model_module": "@jupyter-widgets/controls",
      "model_module_version": "2.0.0",
      "model_name": "FloatProgressModel",
      "state": {
       "bar_style": "success",
       "layout": "IPY_MODEL_d62b638ff06c45d180d2835ce11ba393",
       "max": 7,
       "style": "IPY_MODEL_81b5114fb81847ed94d9bef28ae3751f",
       "value": 7
      }
     },
     "8ea02c7b1b1f4fea8df40f34c922dd7f": {
      "model_module": "@jupyter-widgets/base",
      "model_module_version": "2.0.0",
      "model_name": "LayoutModel",
      "state": {}
     },
     "912044ea17174d1aa12d8425e7572ecb": {
      "model_module": "@jupyter-widgets/base",
      "model_module_version": "2.0.0",
      "model_name": "LayoutModel",
      "state": {}
     },
     "924cafcbc37b4b51ac9b4cd4525f5648": {
      "model_module": "@jupyter-widgets/controls",
      "model_module_version": "2.0.0",
      "model_name": "HBoxModel",
      "state": {
       "children": [
        "IPY_MODEL_112c4250d5824930a6d8c6e40c864b7e",
        "IPY_MODEL_41db9ef188d64ecd8a78a7826b0e8662",
        "IPY_MODEL_1397744184a9418aa2743d6e84457cca"
       ],
       "layout": "IPY_MODEL_da87af94d67143c7a98e6f5fc123ecf9"
      }
     },
     "928b1fe8532245cdb3222795bcd6e279": {
      "model_module": "@jupyter-widgets/controls",
      "model_module_version": "2.0.0",
      "model_name": "HBoxModel",
      "state": {
       "children": [
        "IPY_MODEL_bd5e119bc677456a97be0cd15156e4bf",
        "IPY_MODEL_5842319b592a40a781a1d703640ae5d1",
        "IPY_MODEL_6912a8a6e9b04e79909fbdb65a009f6a"
       ],
       "layout": "IPY_MODEL_2d9b9718d400499aa2941b6ff0ed67c8"
      }
     },
     "94e28d17c3814f49bee6660eb99f921c": {
      "model_module": "@jupyter-widgets/base",
      "model_module_version": "2.0.0",
      "model_name": "LayoutModel",
      "state": {}
     },
     "97a233916af240909a0d6142940bc67e": {
      "model_module": "@jupyter-widgets/controls",
      "model_module_version": "2.0.0",
      "model_name": "HTMLModel",
      "state": {
       "layout": "IPY_MODEL_8389c41b25204f59b0b8549149207450",
       "style": "IPY_MODEL_ee0805eaac3041849ed25198f4e80a35",
       "value": " 216/216 [11:23&lt;00:00,  2.95s/it]"
      }
     },
     "983e3315f2d04ffa9850f768c434c64a": {
      "model_module": "@jupyter-widgets/controls",
      "model_module_version": "2.0.0",
      "model_name": "ProgressStyleModel",
      "state": {
       "description_width": ""
      }
     },
     "9d1884b471ee4512a3200dc4f557da01": {
      "model_module": "@jupyter-widgets/controls",
      "model_module_version": "2.0.0",
      "model_name": "FloatProgressModel",
      "state": {
       "bar_style": "success",
       "layout": "IPY_MODEL_2d9fc2607a294407b2a1af84384866af",
       "max": 68,
       "style": "IPY_MODEL_bfb27114bba846beb7560472c42b22a8",
       "value": 68
      }
     },
     "9f6e2afb41db42c8bde1a128e8aac064": {
      "model_module": "@jupyter-widgets/controls",
      "model_module_version": "2.0.0",
      "model_name": "FloatProgressModel",
      "state": {
       "bar_style": "success",
       "layout": "IPY_MODEL_1b530ceabcb44c5fbe6f8b55fbd77a31",
       "max": 383,
       "style": "IPY_MODEL_6c4c130440a848cca658fd98b7691ba8",
       "value": 383
      }
     },
     "9ffd50dc67854065ac23cbf09ac995a2": {
      "model_module": "@jupyter-widgets/controls",
      "model_module_version": "2.0.0",
      "model_name": "HTMLStyleModel",
      "state": {
       "description_width": "",
       "font_size": null,
       "text_color": null
      }
     },
     "a009dd08399446ae91cc393cca972a96": {
      "model_module": "@jupyter-widgets/base",
      "model_module_version": "2.0.0",
      "model_name": "LayoutModel",
      "state": {}
     },
     "a05d87084c79411e858bc7ef524919e5": {
      "model_module": "@jupyter-widgets/base",
      "model_module_version": "2.0.0",
      "model_name": "LayoutModel",
      "state": {}
     },
     "a096ea78af3d4a85b971c9a46456a106": {
      "model_module": "@jupyter-widgets/controls",
      "model_module_version": "2.0.0",
      "model_name": "HTMLStyleModel",
      "state": {
       "description_width": "",
       "font_size": null,
       "text_color": null
      }
     },
     "a11d2d63e61946e6877955d067f867f3": {
      "model_module": "@jupyter-widgets/controls",
      "model_module_version": "2.0.0",
      "model_name": "HTMLModel",
      "state": {
       "layout": "IPY_MODEL_00bf6fc5a2b44e49948dabb61c3d4bca",
       "style": "IPY_MODEL_50818d797ba54decbf130684016518bd",
       "value": "Writing movies: 100%"
      }
     },
     "a1f1efacd62847419924e8f9fe991899": {
      "model_module": "@jupyter-widgets/base",
      "model_module_version": "2.0.0",
      "model_name": "LayoutModel",
      "state": {}
     },
     "a1f26b3c730249528014b55e029550d0": {
      "model_module": "@jupyter-widgets/base",
      "model_module_version": "2.0.0",
      "model_name": "LayoutModel",
      "state": {}
     },
     "a2250c88bd824187a4bd76f48f7ae266": {
      "model_module": "@jupyter-widgets/controls",
      "model_module_version": "2.0.0",
      "model_name": "HTMLModel",
      "state": {
       "layout": "IPY_MODEL_8ea02c7b1b1f4fea8df40f34c922dd7f",
       "style": "IPY_MODEL_7a03828a4510431ca66b028b881f6044",
       "value": " 66/66 [01:44&lt;00:00,  1.51s/it]"
      }
     },
     "a230ef643e66451ba83fa29635af4bc2": {
      "model_module": "@jupyter-widgets/base",
      "model_module_version": "2.0.0",
      "model_name": "LayoutModel",
      "state": {}
     },
     "a2416390b34f4faf92cd5d72925a9de6": {
      "model_module": "@jupyter-widgets/controls",
      "model_module_version": "2.0.0",
      "model_name": "HTMLModel",
      "state": {
       "layout": "IPY_MODEL_6e0b2b96d9564fc7b62f70b4b2383382",
       "style": "IPY_MODEL_059bdde14de84dcc85a45239bb982316",
       "value": "Writing movies: 100%"
      }
     },
     "a34e3a240139444ba507a6cacd1cbeab": {
      "model_module": "@jupyter-widgets/controls",
      "model_module_version": "2.0.0",
      "model_name": "ProgressStyleModel",
      "state": {
       "description_width": ""
      }
     },
     "a3b01312718c4763aefa9aefc8f5135a": {
      "model_module": "@jupyter-widgets/base",
      "model_module_version": "2.0.0",
      "model_name": "LayoutModel",
      "state": {}
     },
     "a422c208330544dc8727169790f3feef": {
      "model_module": "@jupyter-widgets/controls",
      "model_module_version": "2.0.0",
      "model_name": "HBoxModel",
      "state": {
       "children": [
        "IPY_MODEL_c8832ed8e75e432cac4cf44ec33a95cf",
        "IPY_MODEL_1c14e8b9f0c342d49770b557576efb44",
        "IPY_MODEL_a2250c88bd824187a4bd76f48f7ae266"
       ],
       "layout": "IPY_MODEL_94e28d17c3814f49bee6660eb99f921c"
      }
     },
     "a7a108d19dce4dd5a65ab9532aeb056c": {
      "model_module": "@jupyter-widgets/controls",
      "model_module_version": "2.0.0",
      "model_name": "HTMLStyleModel",
      "state": {
       "description_width": "",
       "font_size": null,
       "text_color": null
      }
     },
     "a83f9cfc816348e99ca20232dc55bda8": {
      "model_module": "@jupyter-widgets/base",
      "model_module_version": "2.0.0",
      "model_name": "LayoutModel",
      "state": {}
     },
     "a9519bbc5e5d4682a3ff006de6efa694": {
      "model_module": "@jupyter-widgets/controls",
      "model_module_version": "2.0.0",
      "model_name": "HBoxModel",
      "state": {
       "children": [
        "IPY_MODEL_63db9a12a39b4e389f877fb2d845a327",
        "IPY_MODEL_4f0ddcd232654555ab1f6934c4fddb78",
        "IPY_MODEL_97a233916af240909a0d6142940bc67e"
       ],
       "layout": "IPY_MODEL_db442f816a754ffc91989a6ada35e17a"
      }
     },
     "ab40860255b543d98d74f58b937a0a97": {
      "model_module": "@jupyter-widgets/controls",
      "model_module_version": "2.0.0",
      "model_name": "ProgressStyleModel",
      "state": {
       "description_width": ""
      }
     },
     "ac3b4f355bf14b74bbd448e68074106e": {
      "model_module": "@jupyter-widgets/controls",
      "model_module_version": "2.0.0",
      "model_name": "HTMLModel",
      "state": {
       "layout": "IPY_MODEL_68c05988a0c84b9e88c5a7dae604cf1f",
       "style": "IPY_MODEL_b63285ba25494522906b83e4e3d22019",
       "value": " 68/68 [01:53&lt;00:00,  1.23s/it]"
      }
     },
     "b393a3479cfd490593ff5dcb9dc8ee15": {
      "model_module": "@jupyter-widgets/controls",
      "model_module_version": "2.0.0",
      "model_name": "ProgressStyleModel",
      "state": {
       "description_width": ""
      }
     },
     "b63285ba25494522906b83e4e3d22019": {
      "model_module": "@jupyter-widgets/controls",
      "model_module_version": "2.0.0",
      "model_name": "HTMLStyleModel",
      "state": {
       "description_width": "",
       "font_size": null,
       "text_color": null
      }
     },
     "bd5e119bc677456a97be0cd15156e4bf": {
      "model_module": "@jupyter-widgets/controls",
      "model_module_version": "2.0.0",
      "model_name": "HTMLModel",
      "state": {
       "layout": "IPY_MODEL_29074b82d5fa443bb424f19032fb3b7c",
       "style": "IPY_MODEL_5450665d62074f4cb7dee78b4f25862a",
       "value": "Writing movies: 100%"
      }
     },
     "bfb27114bba846beb7560472c42b22a8": {
      "model_module": "@jupyter-widgets/controls",
      "model_module_version": "2.0.0",
      "model_name": "ProgressStyleModel",
      "state": {
       "description_width": ""
      }
     },
     "c58f0d7de3e74f1893619d334f4d397f": {
      "model_module": "@jupyter-widgets/base",
      "model_module_version": "2.0.0",
      "model_name": "LayoutModel",
      "state": {}
     },
     "c72fb0eae8d4457e9c8474f2e7217c7d": {
      "model_module": "@jupyter-widgets/base",
      "model_module_version": "2.0.0",
      "model_name": "LayoutModel",
      "state": {}
     },
     "c8832ed8e75e432cac4cf44ec33a95cf": {
      "model_module": "@jupyter-widgets/controls",
      "model_module_version": "2.0.0",
      "model_name": "HTMLModel",
      "state": {
       "layout": "IPY_MODEL_7abfb6aa0757406c8a053469bff6126c",
       "style": "IPY_MODEL_9ffd50dc67854065ac23cbf09ac995a2",
       "value": "Writing movies: 100%"
      }
     },
     "c9445efefe8943ca88e53a0221a909b7": {
      "model_module": "@jupyter-widgets/controls",
      "model_module_version": "2.0.0",
      "model_name": "HTMLModel",
      "state": {
       "layout": "IPY_MODEL_662fb530d6de4426ba9693d986ef0b8a",
       "style": "IPY_MODEL_a096ea78af3d4a85b971c9a46456a106",
       "value": " 965/965 [07:12&lt;00:00,  5.51it/s]"
      }
     },
     "cc84ead34c2f41d7b64c08d1d46c2687": {
      "model_module": "@jupyter-widgets/controls",
      "model_module_version": "2.0.0",
      "model_name": "HBoxModel",
      "state": {
       "children": [
        "IPY_MODEL_10af0fc0e0844389b13a3c7f025d10b7",
        "IPY_MODEL_ff097293a96e4b449ca8d342f6a765d2",
        "IPY_MODEL_38dd75372d974587b245368e344bd1c9"
       ],
       "layout": "IPY_MODEL_15e8b4816b2f49d9a4ee8c26d273995d"
      }
     },
     "ccfc27bd346e421ba5dd0432e8f6f5e7": {
      "model_module": "@jupyter-widgets/base",
      "model_module_version": "2.0.0",
      "model_name": "LayoutModel",
      "state": {}
     },
     "d39033e7657b4bf997391eb4d568953a": {
      "model_module": "@jupyter-widgets/controls",
      "model_module_version": "2.0.0",
      "model_name": "HTMLStyleModel",
      "state": {
       "description_width": "",
       "font_size": null,
       "text_color": null
      }
     },
     "d62b638ff06c45d180d2835ce11ba393": {
      "model_module": "@jupyter-widgets/base",
      "model_module_version": "2.0.0",
      "model_name": "LayoutModel",
      "state": {}
     },
     "d79e3c7b8d314f7982940ea38957d3f1": {
      "model_module": "@jupyter-widgets/controls",
      "model_module_version": "2.0.0",
      "model_name": "FloatProgressModel",
      "state": {
       "bar_style": "success",
       "layout": "IPY_MODEL_c58f0d7de3e74f1893619d334f4d397f",
       "max": 7,
       "style": "IPY_MODEL_42d84a2b160143b39b2d33df6d147865",
       "value": 7
      }
     },
     "d8ba1cf45fa647e980fb5f075174d58a": {
      "model_module": "@jupyter-widgets/controls",
      "model_module_version": "2.0.0",
      "model_name": "HTMLModel",
      "state": {
       "layout": "IPY_MODEL_4707b26fdbbe4ba3b65d1755df0f5321",
       "style": "IPY_MODEL_7785793236184c409fbdbbc8482d1464",
       "value": " 224/224 [09:25&lt;00:00,  1.26s/it]"
      }
     },
     "d98ad2cca9f74718b853cadb7e6d0155": {
      "model_module": "@jupyter-widgets/controls",
      "model_module_version": "2.0.0",
      "model_name": "HBoxModel",
      "state": {
       "children": [
        "IPY_MODEL_0bd8548f19cf4a69b0c82ae08817026d",
        "IPY_MODEL_f34cf400395544099f6af4652deae2ec",
        "IPY_MODEL_2ca8008b3f0d451c9c92ae25736b29c3"
       ],
       "layout": "IPY_MODEL_00c76abf6f6f48718de009e4cf147af9"
      }
     },
     "da87af94d67143c7a98e6f5fc123ecf9": {
      "model_module": "@jupyter-widgets/base",
      "model_module_version": "2.0.0",
      "model_name": "LayoutModel",
      "state": {}
     },
     "db442f816a754ffc91989a6ada35e17a": {
      "model_module": "@jupyter-widgets/base",
      "model_module_version": "2.0.0",
      "model_name": "LayoutModel",
      "state": {}
     },
     "dd392e72bd2c43babd8656b4afc7649c": {
      "model_module": "@jupyter-widgets/controls",
      "model_module_version": "2.0.0",
      "model_name": "FloatProgressModel",
      "state": {
       "bar_style": "success",
       "layout": "IPY_MODEL_005596e95beb41ae8e793d547afd119b",
       "max": 72,
       "style": "IPY_MODEL_4d93c85f8d0b45f599ac48aea1e15893",
       "value": 72
      }
     },
     "dd72ef83f019472997ec0600e96ce442": {
      "model_module": "@jupyter-widgets/base",
      "model_module_version": "2.0.0",
      "model_name": "LayoutModel",
      "state": {}
     },
     "ddddd4be38a047b7a40b46f5702c8a9a": {
      "model_module": "@jupyter-widgets/controls",
      "model_module_version": "2.0.0",
      "model_name": "HTMLStyleModel",
      "state": {
       "description_width": "",
       "font_size": null,
       "text_color": null
      }
     },
     "de19edfdd7e0418596aec915cdb3da57": {
      "model_module": "@jupyter-widgets/base",
      "model_module_version": "2.0.0",
      "model_name": "LayoutModel",
      "state": {}
     },
     "e181da5b4f8f4341865f498f9764cd00": {
      "model_module": "@jupyter-widgets/base",
      "model_module_version": "2.0.0",
      "model_name": "LayoutModel",
      "state": {}
     },
     "e5ae57b4834e4836aeea7903cca88dd3": {
      "model_module": "@jupyter-widgets/controls",
      "model_module_version": "2.0.0",
      "model_name": "FloatProgressModel",
      "state": {
       "bar_style": "success",
       "layout": "IPY_MODEL_6e523368b53d4330ba68f6ed7b5ec761",
       "max": 165,
       "style": "IPY_MODEL_983e3315f2d04ffa9850f768c434c64a",
       "value": 165
      }
     },
     "e5fc1544fbf14816be9b09961622cfda": {
      "model_module": "@jupyter-widgets/controls",
      "model_module_version": "2.0.0",
      "model_name": "HTMLModel",
      "state": {
       "layout": "IPY_MODEL_068817e3755b4c81b37619416ef62b88",
       "style": "IPY_MODEL_f3d80d3f01a94e7eb87b973b93c760c3",
       "value": "Extracting syllables: 100%"
      }
     },
     "e8d5fff12ebe48ddb6c8f6cb3ec7d261": {
      "model_module": "@jupyter-widgets/controls",
      "model_module_version": "2.0.0",
      "model_name": "ProgressStyleModel",
      "state": {
       "description_width": ""
      }
     },
     "eab40cb91b0b41ac8f902a309a2f059a": {
      "model_module": "@jupyter-widgets/base",
      "model_module_version": "2.0.0",
      "model_name": "LayoutModel",
      "state": {}
     },
     "eb1f677caf86497f91cce365e2ca14b2": {
      "model_module": "@jupyter-widgets/controls",
      "model_module_version": "2.0.0",
      "model_name": "FloatProgressModel",
      "state": {
       "bar_style": "success",
       "layout": "IPY_MODEL_e181da5b4f8f4341865f498f9764cd00",
       "max": 965,
       "style": "IPY_MODEL_20cd07cd661740aab5d49ca499ce771e",
       "value": 965
      }
     },
     "ee0805eaac3041849ed25198f4e80a35": {
      "model_module": "@jupyter-widgets/controls",
      "model_module_version": "2.0.0",
      "model_name": "HTMLStyleModel",
      "state": {
       "description_width": "",
       "font_size": null,
       "text_color": null
      }
     },
     "f1ba970bcdfc4438a773114224be7130": {
      "model_module": "@jupyter-widgets/controls",
      "model_module_version": "2.0.0",
      "model_name": "HBoxModel",
      "state": {
       "children": [
        "IPY_MODEL_3850196973744950914dda36483463ca",
        "IPY_MODEL_0545d16093bc4957b94847484d59f174",
        "IPY_MODEL_195c168a1e2e4389a4777e56e7e00c4b"
       ],
       "layout": "IPY_MODEL_3edaeac1b21a41d5b908fbc5056d2011"
      }
     },
     "f30ff01c8eee42a285c25ac4caa7d70c": {
      "model_module": "@jupyter-widgets/controls",
      "model_module_version": "2.0.0",
      "model_name": "ProgressStyleModel",
      "state": {
       "description_width": ""
      }
     },
     "f34cf400395544099f6af4652deae2ec": {
      "model_module": "@jupyter-widgets/controls",
      "model_module_version": "2.0.0",
      "model_name": "FloatProgressModel",
      "state": {
       "bar_style": "success",
       "layout": "IPY_MODEL_89b7dbf8435a4e368dd6158fb11fac1f",
       "max": 722,
       "style": "IPY_MODEL_a34e3a240139444ba507a6cacd1cbeab",
       "value": 722
      }
     },
     "f3d80d3f01a94e7eb87b973b93c760c3": {
      "model_module": "@jupyter-widgets/controls",
      "model_module_version": "2.0.0",
      "model_name": "HTMLStyleModel",
      "state": {
       "description_width": "",
       "font_size": null,
       "text_color": null
      }
     },
     "f625031cce0741a180204eff8c09c0d4": {
      "model_module": "@jupyter-widgets/base",
      "model_module_version": "2.0.0",
      "model_name": "LayoutModel",
      "state": {}
     },
     "f7195e0b2f994ed5838a0fe90cc82c4e": {
      "model_module": "@jupyter-widgets/controls",
      "model_module_version": "2.0.0",
      "model_name": "HTMLStyleModel",
      "state": {
       "description_width": "",
       "font_size": null,
       "text_color": null
      }
     },
     "f904da1178a940b1b87986419f038d07": {
      "model_module": "@jupyter-widgets/controls",
      "model_module_version": "2.0.0",
      "model_name": "HTMLStyleModel",
      "state": {
       "description_width": "",
       "font_size": null,
       "text_color": null
      }
     },
     "fe6ab4133d124030bf102c9522c70261": {
      "model_module": "@jupyter-widgets/controls",
      "model_module_version": "2.0.0",
      "model_name": "HTMLModel",
      "state": {
       "layout": "IPY_MODEL_f625031cce0741a180204eff8c09c0d4",
       "style": "IPY_MODEL_2c3b4fbabcf240b6b1b57edb14be0563",
       "value": "Processing experiments: 100%"
      }
     },
     "ff097293a96e4b449ca8d342f6a765d2": {
      "model_module": "@jupyter-widgets/controls",
      "model_module_version": "2.0.0",
      "model_name": "FloatProgressModel",
      "state": {
       "bar_style": "success",
       "layout": "IPY_MODEL_4e71104e132a4b448b0f15b192091737",
       "max": 66,
       "style": "IPY_MODEL_b393a3479cfd490593ff5dcb9dc8ee15",
       "value": 66
      }
     }
    },
    "version_major": 2,
    "version_minor": 0
   }
  }
 },
 "nbformat": 4,
 "nbformat_minor": 5
}
