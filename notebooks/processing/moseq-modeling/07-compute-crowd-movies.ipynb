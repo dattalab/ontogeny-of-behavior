{
 "cells": [
  {
   "cell_type": "code",
   "execution_count": 1,
   "id": "4494b89a-db19-4894-aa21-0a1cc851cdc6",
   "metadata": {
    "tags": []
   },
   "outputs": [],
   "source": [
    "import h5py\n",
    "import numpy as np\n",
    "import pandas as pd\n",
    "from pathlib import Path\n",
    "from tqdm.auto import tqdm\n",
    "from collections import defaultdict\n",
    "from aging.organization.paths import FOLDERS\n",
    "from aging.size_norm.data import clean\n",
    "from aging.video import write_movie_av\n",
    "from scipy.ndimage import rotate"
   ]
  },
  {
   "cell_type": "code",
   "execution_count": 2,
   "id": "8ca02da8",
   "metadata": {},
   "outputs": [],
   "source": [
    "def make_slice(pos, pad):\n",
    "    pos = int(pos) + pad\n",
    "    return slice(pos - 40, pos + 40)\n",
    "\n",
    "\n",
    "def is_ok_position(pos, pad, max_pos):\n",
    "    pos = int(pos) + pad\n",
    "    return ((pos - 40) > 0) and ((pos + 40) < max_pos)"
   ]
  },
  {
   "cell_type": "code",
   "execution_count": 3,
   "id": "c33de8c1-8d2e-4ab6-b421-fa66993a5ca3",
   "metadata": {
    "tags": []
   },
   "outputs": [],
   "source": [
    "version = 11\n",
    "syllable_path = f\"/n/groups/datta/win/longtogeny/data/ontogeny/version_{version:02d}/all_data_pca/syllables.h5\"\n",
    "pca_path = f\"/n/groups/datta/win/longtogeny/data/ontogeny/version_{version:02d}/all_data_pca/pca_scores.h5\""
   ]
  },
  {
   "cell_type": "code",
   "execution_count": 4,
   "id": "cc558ccb-5ffd-4858-b099-9e3c2ca50edf",
   "metadata": {},
   "outputs": [
    {
     "data": {
      "application/vnd.jupyter.widget-view+json": {
       "model_id": "1d179da7f0e14413b099ed77cd19e499",
       "version_major": 2,
       "version_minor": 0
      },
      "text/plain": [
       "  0%|          | 0/13 [00:00<?, ?it/s]"
      ]
     },
     "metadata": {},
     "output_type": "display_data"
    }
   ],
   "source": [
    "uuid_map = defaultdict(dict)\n",
    "bad_examples = []\n",
    "\n",
    "for folder in tqdm(FOLDERS):\n",
    "    for file in folder.glob('**/*results_00.h5'):\n",
    "        try:\n",
    "            with h5py.File(file, 'r') as h5f:\n",
    "                uuid = h5f['metadata/uuid'][()].decode()\n",
    "                uuid_map[folder][uuid] = file\n",
    "        except OSError:\n",
    "            bad_examples.append(file)\n",
    "uuid_map = dict(uuid_map)"
   ]
  },
  {
   "cell_type": "code",
   "execution_count": 5,
   "id": "172f3ae9",
   "metadata": {},
   "outputs": [],
   "source": [
    "min_dur = 5  # frames\n",
    "max_dur = 60\n",
    "pad = 30  # frames\n",
    "n_examples = 40\n",
    "seed = 0\n",
    "frames_key = 'frames'  # or win_size_norm_frames_v4\n",
    "cm_keys = ['centroid_x_px', 'centroid_y_px', 'angle']\n",
    "\n",
    "radius = 2\n",
    "center = (80 // 2, ) * 2  # hard-coded for aging project\n",
    "height_thresh = 10"
   ]
  },
  {
   "cell_type": "code",
   "execution_count": null,
   "id": "223fcfca-f6d9-470a-83fb-264064190c7b",
   "metadata": {
    "tags": []
   },
   "outputs": [
    {
     "data": {
      "application/vnd.jupyter.widget-view+json": {
       "model_id": "761d129450d84256893db60dc104fdc0",
       "version_major": 2,
       "version_minor": 0
      },
      "text/plain": [
       "Processing experiments:   0%|          | 0/13 [00:00<?, ?it/s]"
      ]
     },
     "metadata": {},
     "output_type": "display_data"
    },
    {
     "data": {
      "application/vnd.jupyter.widget-view+json": {
       "model_id": "ffd3086b361e482a95348aaa91e0cd41",
       "version_major": 2,
       "version_minor": 0
      },
      "text/plain": [
       "Extracting syllables:   0%|          | 0/334 [00:00<?, ?it/s]"
      ]
     },
     "metadata": {},
     "output_type": "display_data"
    },
    {
     "data": {
      "application/vnd.jupyter.widget-view+json": {
       "model_id": "41b2c8aaf5c04303abe001df5182c709",
       "version_major": 2,
       "version_minor": 0
      },
      "text/plain": [
       "Writing movies:   0%|          | 0/94 [00:00<?, ?it/s]"
      ]
     },
     "metadata": {},
     "output_type": "display_data"
    },
    {
     "data": {
      "application/vnd.jupyter.widget-view+json": {
       "model_id": "0bcd29d706a044f491ec278bc3461abf",
       "version_major": 2,
       "version_minor": 0
      },
      "text/plain": [
       "Extracting syllables:   0%|          | 0/363 [00:00<?, ?it/s]"
      ]
     },
     "metadata": {},
     "output_type": "display_data"
    }
   ],
   "source": [
    "base_crowd_movie_folder = Path(\n",
    "    f\"/n/groups/datta/win/longtogeny/data/ontogeny/version_{version:02d}/all_data_pca/crowd_movies\"\n",
    ")\n",
    "for FOLDER in tqdm(FOLDERS, desc=\"Processing experiments\"):\n",
    "    crowd_movie_folder = base_crowd_movie_folder / FOLDER.name\n",
    "    # open syllable and pca h5 file\n",
    "    uuid_dict = uuid_map[FOLDER]\n",
    "    with h5py.File(syllable_path, \"r\") as syll_h5, h5py.File(pca_path, \"r\") as pca_h5:\n",
    "        # construct df for syllables in this experiment:\n",
    "        df = []\n",
    "        for uuid, file in uuid_dict.items():\n",
    "            try:\n",
    "                df.append(\n",
    "                    pd.DataFrame(\n",
    "                        dict(\n",
    "                            syllables=syll_h5[uuid][()],\n",
    "                            uuid=uuid,\n",
    "                            file=str(file),\n",
    "                            frame_idx=pca_h5[\"scores_idx\"][uuid][()],\n",
    "                        )\n",
    "                    )\n",
    "                )\n",
    "            except KeyError:\n",
    "                continue\n",
    "\n",
    "    # concatenate dataframe, compute syllable durations\n",
    "    df = pd.concat(df, ignore_index=True)\n",
    "    df[\"onsets\"] = df.groupby(\"uuid\", sort=False)[\"syllables\"].transform(\n",
    "        lambda v: v.diff() != 0\n",
    "    )\n",
    "    idx = np.where(df[\"onsets\"])[0]\n",
    "    df.loc[df[\"onsets\"], \"duration\"] = np.append(np.diff(idx), [len(df) - idx[-1]])\n",
    "    df[\"duration\"] = df[\"duration\"].ffill().astype(\"uint16\")\n",
    "    syllables = df[\"syllables\"].unique()\n",
    "    df = df.dropna(subset=[\"frame_idx\"])\n",
    "    df[\"frame_idx\"] = df[\"frame_idx\"].astype(\"uint32\")\n",
    "    usages_map = dict(\n",
    "        map(reversed, enumerate(df.query(\"onsets\")[\"syllables\"].value_counts().index))\n",
    "    )\n",
    "\n",
    "    crowd_matrix_dict = {}\n",
    "    total_examples = []\n",
    "\n",
    "    for syllable in syllables:\n",
    "        mask = (\n",
    "            (df[\"syllables\"] == syllable)\n",
    "            & df[\"duration\"].between(min_dur, max_dur)\n",
    "            & df[\"onsets\"]\n",
    "            & (df[\"frame_idx\"] > pad)\n",
    "        )\n",
    "        examples = df[mask].sample(n=min(n_examples, mask.sum()), random_state=seed)\n",
    "        examples = examples.sort_values(by=[\"file\", \"frame_idx\"])\n",
    "        if len(examples) == 0:\n",
    "            continue\n",
    "        total_examples.append(examples)\n",
    "        crowd_matrix_dict[syllable] = np.zeros(\n",
    "            (examples[\"duration\"].max() + pad * 2, 424, 512), dtype=\"uint8\"\n",
    "        )\n",
    "    total_examples = pd.concat(total_examples, ignore_index=True)\n",
    "\n",
    "    for file, _df in tqdm(\n",
    "        total_examples.groupby(\"file\", sort=False), desc=\"Extracting syllables\"\n",
    "    ):\n",
    "        with h5py.File(file, \"r\") as h5f:\n",
    "            extents = np.where(h5f[\"metadata/extraction/roi\"])\n",
    "            y_min = extents[0].min()\n",
    "            x_min = extents[1].min()\n",
    "            for idx, row in _df.sort_values(by=\"frame_idx\").iterrows():\n",
    "                agg_feats = {}\n",
    "                start = row.frame_idx - pad\n",
    "                end = row.frame_idx + row.duration + pad\n",
    "                agg_feats[\"frames\"] = np.array(\n",
    "                    [clean(f) for f in h5f[frames_key][start:end]]\n",
    "                )\n",
    "                for key in cm_keys:\n",
    "                    agg_feats[key] = h5f[\"scalars\"][key][start:end]\n",
    "                flips = h5f[\"metadata/extraction/flips\"][start:end]\n",
    "                # agg_feats[\"angle\"] -= np.pi * flips\n",
    "                agg_feats[\"angle\"] = np.rad2deg(agg_feats[\"angle\"])\n",
    "                rotated = np.array(\n",
    "                    [\n",
    "                        rotate(f, a, reshape=False)\n",
    "                        for f, a in zip(agg_feats[\"frames\"], agg_feats[\"angle\"])\n",
    "                    ],\n",
    "                    dtype=\"uint8\",\n",
    "                )\n",
    "                rotated[\n",
    "                    pad:-pad,\n",
    "                    center[0] - radius : center[0] + radius,\n",
    "                    center[1] - radius : center[1] + radius,\n",
    "                ] = 255\n",
    "                for i, (x, y, frame) in enumerate(\n",
    "                    zip(\n",
    "                        agg_feats[\"centroid_x_px\"],\n",
    "                        agg_feats[\"centroid_y_px\"],\n",
    "                        rotated,\n",
    "                    )\n",
    "                ):\n",
    "                    if np.isnan(x) or np.isnan(y):\n",
    "                        continue\n",
    "                    if not is_ok_position(y, y_min, 424) or not is_ok_position(\n",
    "                        x, x_min, 512\n",
    "                    ):\n",
    "                        continue\n",
    "                    ys, xs = make_slice(y, y_min), make_slice(x, x_min)\n",
    "                    crowd_matrix_dict[row.syllables][i, ys, xs] = frame + (\n",
    "                        (frame < height_thresh)\n",
    "                        * crowd_matrix_dict[row.syllables][i, ys, xs]\n",
    "                    )\n",
    "\n",
    "    for syllable, mov in tqdm(crowd_matrix_dict.items(), desc=\"Writing movies\"):\n",
    "        write_movie_av(\n",
    "            crowd_movie_folder\n",
    "            / f\"usage_order_{usages_map[syllable]:02d}-syllable_{syllable:02d}.mp4\",\n",
    "            np.clip(mov, 0, 95),\n",
    "            cmap=\"cubehelix\",\n",
    "        )"
   ]
  },
  {
   "cell_type": "code",
   "execution_count": null,
   "id": "3d1dbfac-a58d-4614-8084-27bf7f50f9ec",
   "metadata": {},
   "outputs": [],
   "source": []
  }
 ],
 "metadata": {
  "kernelspec": {
   "display_name": "Ontogeny",
   "language": "python",
   "name": "aging"
  },
  "language_info": {
   "codemirror_mode": {
    "name": "ipython",
    "version": 3
   },
   "file_extension": ".py",
   "mimetype": "text/x-python",
   "name": "python",
   "nbconvert_exporter": "python",
   "pygments_lexer": "ipython3",
   "version": "3.10.10"
  },
  "widgets": {
   "application/vnd.jupyter.widget-state+json": {
    "state": {
     "01319f499d904604bb836223777c1c7a": {
      "model_module": "@jupyter-widgets/base",
      "model_module_version": "2.0.0",
      "model_name": "LayoutModel",
      "state": {}
     },
     "03a7e3523c504412ba5b8e4d0bfebcfa": {
      "model_module": "@jupyter-widgets/controls",
      "model_module_version": "2.0.0",
      "model_name": "HTMLStyleModel",
      "state": {
       "description_width": "",
       "font_size": null,
       "text_color": null
      }
     },
     "073f5dfe2aed4c76878225a15a605785": {
      "model_module": "@jupyter-widgets/controls",
      "model_module_version": "2.0.0",
      "model_name": "FloatProgressModel",
      "state": {
       "layout": "IPY_MODEL_1af9435d98824dffaa9e4d6804788494",
       "max": 363,
       "style": "IPY_MODEL_fdb0e2f6ac5940298a79ed5714e23392",
       "value": 7
      }
     },
     "0bcd29d706a044f491ec278bc3461abf": {
      "model_module": "@jupyter-widgets/controls",
      "model_module_version": "2.0.0",
      "model_name": "HBoxModel",
      "state": {
       "children": [
        "IPY_MODEL_4aed8fb6f04640779eca081ee8b2f85e",
        "IPY_MODEL_073f5dfe2aed4c76878225a15a605785",
        "IPY_MODEL_84ece0e856954a78967b48f3007ba6a2"
       ],
       "layout": "IPY_MODEL_6662b5bae78346359b690478b75158bc"
      }
     },
     "0cba63f5d5724d84b4730cc8fc5406d5": {
      "model_module": "@jupyter-widgets/controls",
      "model_module_version": "2.0.0",
      "model_name": "HTMLStyleModel",
      "state": {
       "description_width": "",
       "font_size": null,
       "text_color": null
      }
     },
     "14a753b64d57483abdd32041be36275c": {
      "model_module": "@jupyter-widgets/base",
      "model_module_version": "2.0.0",
      "model_name": "LayoutModel",
      "state": {}
     },
     "16da6597d7884fcb83b08b0bc8a4fa0e": {
      "model_module": "@jupyter-widgets/controls",
      "model_module_version": "2.0.0",
      "model_name": "FloatProgressModel",
      "state": {
       "bar_style": "success",
       "layout": "IPY_MODEL_33b0bba9915a46249319bb04339794be",
       "max": 94,
       "style": "IPY_MODEL_27c0ca3ec0764fae8354afbc6596e553",
       "value": 94
      }
     },
     "1af9435d98824dffaa9e4d6804788494": {
      "model_module": "@jupyter-widgets/base",
      "model_module_version": "2.0.0",
      "model_name": "LayoutModel",
      "state": {}
     },
     "1d179da7f0e14413b099ed77cd19e499": {
      "model_module": "@jupyter-widgets/controls",
      "model_module_version": "2.0.0",
      "model_name": "HBoxModel",
      "state": {
       "children": [
        "IPY_MODEL_70e3cd51f6184559905dddeaeada5925",
        "IPY_MODEL_5b18d9806f4044dd8596725b8ad589e4",
        "IPY_MODEL_6a6f305e7dd24a0da8a4e6a32e02db32"
       ],
       "layout": "IPY_MODEL_7e100bbc8b5e42458185217a446ff974"
      }
     },
     "1d906a1b1e04424083f9e65b3305b335": {
      "model_module": "@jupyter-widgets/base",
      "model_module_version": "2.0.0",
      "model_name": "LayoutModel",
      "state": {}
     },
     "1e8abcbad62e426cadba6ef813e7fe87": {
      "model_module": "@jupyter-widgets/base",
      "model_module_version": "2.0.0",
      "model_name": "LayoutModel",
      "state": {}
     },
     "1eefe133e44d4b6a98710ced1303ad08": {
      "model_module": "@jupyter-widgets/base",
      "model_module_version": "2.0.0",
      "model_name": "LayoutModel",
      "state": {}
     },
     "278944e606b94809a41b2d4d5e2da067": {
      "model_module": "@jupyter-widgets/base",
      "model_module_version": "2.0.0",
      "model_name": "LayoutModel",
      "state": {}
     },
     "27c0ca3ec0764fae8354afbc6596e553": {
      "model_module": "@jupyter-widgets/controls",
      "model_module_version": "2.0.0",
      "model_name": "ProgressStyleModel",
      "state": {
       "description_width": ""
      }
     },
     "32d5543e9aab426f90a95ec85e797804": {
      "model_module": "@jupyter-widgets/controls",
      "model_module_version": "2.0.0",
      "model_name": "FloatProgressModel",
      "state": {
       "bar_style": "success",
       "layout": "IPY_MODEL_f7980dfb605549ceb3c1fbba1325e42a",
       "max": 334,
       "style": "IPY_MODEL_5f8991e614fe426683ec500dad52d989",
       "value": 334
      }
     },
     "33b0bba9915a46249319bb04339794be": {
      "model_module": "@jupyter-widgets/base",
      "model_module_version": "2.0.0",
      "model_name": "LayoutModel",
      "state": {}
     },
     "367005df66b3488193be764f74171f82": {
      "model_module": "@jupyter-widgets/controls",
      "model_module_version": "2.0.0",
      "model_name": "HTMLStyleModel",
      "state": {
       "description_width": "",
       "font_size": null,
       "text_color": null
      }
     },
     "3a16abda2c76442e9dc161a24c08cca5": {
      "model_module": "@jupyter-widgets/base",
      "model_module_version": "2.0.0",
      "model_name": "LayoutModel",
      "state": {}
     },
     "41b2c8aaf5c04303abe001df5182c709": {
      "model_module": "@jupyter-widgets/controls",
      "model_module_version": "2.0.0",
      "model_name": "HBoxModel",
      "state": {
       "children": [
        "IPY_MODEL_fc7fce9a6d0a456a8ba3fe7a980ce112",
        "IPY_MODEL_16da6597d7884fcb83b08b0bc8a4fa0e",
        "IPY_MODEL_88b2ceb16d0344739b14e48fd73b268c"
       ],
       "layout": "IPY_MODEL_46b15c1caef946c987eeec776e3f8ea2"
      }
     },
     "41b3ef9d6fbc453cb17c382e1f227f13": {
      "model_module": "@jupyter-widgets/base",
      "model_module_version": "2.0.0",
      "model_name": "LayoutModel",
      "state": {}
     },
     "4325e91dd6e148a0ab93a0c759bef3dd": {
      "model_module": "@jupyter-widgets/controls",
      "model_module_version": "2.0.0",
      "model_name": "HTMLStyleModel",
      "state": {
       "description_width": "",
       "font_size": null,
       "text_color": null
      }
     },
     "46b15c1caef946c987eeec776e3f8ea2": {
      "model_module": "@jupyter-widgets/base",
      "model_module_version": "2.0.0",
      "model_name": "LayoutModel",
      "state": {}
     },
     "4aed8fb6f04640779eca081ee8b2f85e": {
      "model_module": "@jupyter-widgets/controls",
      "model_module_version": "2.0.0",
      "model_name": "HTMLModel",
      "state": {
       "layout": "IPY_MODEL_1d906a1b1e04424083f9e65b3305b335",
       "style": "IPY_MODEL_0cba63f5d5724d84b4730cc8fc5406d5",
       "value": "Extracting syllables:   2%"
      }
     },
     "525c282351c6434ba18a9bf36096f101": {
      "model_module": "@jupyter-widgets/controls",
      "model_module_version": "2.0.0",
      "model_name": "HTMLModel",
      "state": {
       "layout": "IPY_MODEL_1eefe133e44d4b6a98710ced1303ad08",
       "style": "IPY_MODEL_ba07905ed595409ea37adfdbb361aba6",
       "value": " 1/13 [16:06&lt;3:13:15, 966.25s/it]"
      }
     },
     "59a0930342984e618a22207f5bd8cc0c": {
      "model_module": "@jupyter-widgets/controls",
      "model_module_version": "2.0.0",
      "model_name": "HTMLModel",
      "state": {
       "layout": "IPY_MODEL_673b94ae6c24429a8241b183e1937964",
       "style": "IPY_MODEL_90c54cd78e3d4ddaaaead1766bb58bc9",
       "value": "Extracting syllables: 100%"
      }
     },
     "5b18d9806f4044dd8596725b8ad589e4": {
      "model_module": "@jupyter-widgets/controls",
      "model_module_version": "2.0.0",
      "model_name": "FloatProgressModel",
      "state": {
       "bar_style": "success",
       "layout": "IPY_MODEL_278944e606b94809a41b2d4d5e2da067",
       "max": 13,
       "style": "IPY_MODEL_98f90b8552c3415d8f3cf740cd86187d",
       "value": 13
      }
     },
     "5c6541d8bb4949af9ef4c2f2f9ec3d7d": {
      "model_module": "@jupyter-widgets/controls",
      "model_module_version": "2.0.0",
      "model_name": "ProgressStyleModel",
      "state": {
       "description_width": ""
      }
     },
     "5f8991e614fe426683ec500dad52d989": {
      "model_module": "@jupyter-widgets/controls",
      "model_module_version": "2.0.0",
      "model_name": "ProgressStyleModel",
      "state": {
       "description_width": ""
      }
     },
     "6662b5bae78346359b690478b75158bc": {
      "model_module": "@jupyter-widgets/base",
      "model_module_version": "2.0.0",
      "model_name": "LayoutModel",
      "state": {}
     },
     "673b94ae6c24429a8241b183e1937964": {
      "model_module": "@jupyter-widgets/base",
      "model_module_version": "2.0.0",
      "model_name": "LayoutModel",
      "state": {}
     },
     "6a6f305e7dd24a0da8a4e6a32e02db32": {
      "model_module": "@jupyter-widgets/controls",
      "model_module_version": "2.0.0",
      "model_name": "HTMLModel",
      "state": {
       "layout": "IPY_MODEL_9d05c98a9776424c9aca91d0dbcaf907",
       "style": "IPY_MODEL_f910d68470a24a39bdb8428085c0ed87",
       "value": " 13/13 [01:28&lt;00:00,  4.21s/it]"
      }
     },
     "70e3cd51f6184559905dddeaeada5925": {
      "model_module": "@jupyter-widgets/controls",
      "model_module_version": "2.0.0",
      "model_name": "HTMLModel",
      "state": {
       "layout": "IPY_MODEL_01319f499d904604bb836223777c1c7a",
       "style": "IPY_MODEL_d991b1c74ecb4b8898c7ccf39ead9db2",
       "value": "100%"
      }
     },
     "761d129450d84256893db60dc104fdc0": {
      "model_module": "@jupyter-widgets/controls",
      "model_module_version": "2.0.0",
      "model_name": "HBoxModel",
      "state": {
       "children": [
        "IPY_MODEL_b0ae40568ed242f8974943035c37df17",
        "IPY_MODEL_f1933bdc4242409e8a14c4bf552c5913",
        "IPY_MODEL_525c282351c6434ba18a9bf36096f101"
       ],
       "layout": "IPY_MODEL_3a16abda2c76442e9dc161a24c08cca5"
      }
     },
     "7e100bbc8b5e42458185217a446ff974": {
      "model_module": "@jupyter-widgets/base",
      "model_module_version": "2.0.0",
      "model_name": "LayoutModel",
      "state": {}
     },
     "84ece0e856954a78967b48f3007ba6a2": {
      "model_module": "@jupyter-widgets/controls",
      "model_module_version": "2.0.0",
      "model_name": "HTMLModel",
      "state": {
       "layout": "IPY_MODEL_41b3ef9d6fbc453cb17c382e1f227f13",
       "style": "IPY_MODEL_367005df66b3488193be764f74171f82",
       "value": " 7/363 [00:23&lt;21:57,  3.70s/it]"
      }
     },
     "8876d62ca6f64e50b76fa667f07b0833": {
      "model_module": "@jupyter-widgets/base",
      "model_module_version": "2.0.0",
      "model_name": "LayoutModel",
      "state": {}
     },
     "88b2ceb16d0344739b14e48fd73b268c": {
      "model_module": "@jupyter-widgets/controls",
      "model_module_version": "2.0.0",
      "model_name": "HTMLModel",
      "state": {
       "layout": "IPY_MODEL_8876d62ca6f64e50b76fa667f07b0833",
       "style": "IPY_MODEL_ab5e29ba7bbe43509e73cbeec6df48c9",
       "value": " 94/94 [02:41&lt;00:00,  1.65s/it]"
      }
     },
     "8e5da682233d4d919dbafc3496f3e5de": {
      "model_module": "@jupyter-widgets/controls",
      "model_module_version": "2.0.0",
      "model_name": "HTMLStyleModel",
      "state": {
       "description_width": "",
       "font_size": null,
       "text_color": null
      }
     },
     "90c54cd78e3d4ddaaaead1766bb58bc9": {
      "model_module": "@jupyter-widgets/controls",
      "model_module_version": "2.0.0",
      "model_name": "HTMLStyleModel",
      "state": {
       "description_width": "",
       "font_size": null,
       "text_color": null
      }
     },
     "98f90b8552c3415d8f3cf740cd86187d": {
      "model_module": "@jupyter-widgets/controls",
      "model_module_version": "2.0.0",
      "model_name": "ProgressStyleModel",
      "state": {
       "description_width": ""
      }
     },
     "9d05c98a9776424c9aca91d0dbcaf907": {
      "model_module": "@jupyter-widgets/base",
      "model_module_version": "2.0.0",
      "model_name": "LayoutModel",
      "state": {}
     },
     "ab5e29ba7bbe43509e73cbeec6df48c9": {
      "model_module": "@jupyter-widgets/controls",
      "model_module_version": "2.0.0",
      "model_name": "HTMLStyleModel",
      "state": {
       "description_width": "",
       "font_size": null,
       "text_color": null
      }
     },
     "b0ae40568ed242f8974943035c37df17": {
      "model_module": "@jupyter-widgets/controls",
      "model_module_version": "2.0.0",
      "model_name": "HTMLModel",
      "state": {
       "layout": "IPY_MODEL_ef0e687dc64a489eb036e5e72b81aa02",
       "style": "IPY_MODEL_03a7e3523c504412ba5b8e4d0bfebcfa",
       "value": "Processing experiments:   8%"
      }
     },
     "ba07905ed595409ea37adfdbb361aba6": {
      "model_module": "@jupyter-widgets/controls",
      "model_module_version": "2.0.0",
      "model_name": "HTMLStyleModel",
      "state": {
       "description_width": "",
       "font_size": null,
       "text_color": null
      }
     },
     "c56a52b2b2ed4360a59b097b0866a236": {
      "model_module": "@jupyter-widgets/controls",
      "model_module_version": "2.0.0",
      "model_name": "HTMLModel",
      "state": {
       "layout": "IPY_MODEL_14a753b64d57483abdd32041be36275c",
       "style": "IPY_MODEL_8e5da682233d4d919dbafc3496f3e5de",
       "value": " 334/334 [13:01&lt;00:00,  2.14s/it]"
      }
     },
     "d991b1c74ecb4b8898c7ccf39ead9db2": {
      "model_module": "@jupyter-widgets/controls",
      "model_module_version": "2.0.0",
      "model_name": "HTMLStyleModel",
      "state": {
       "description_width": "",
       "font_size": null,
       "text_color": null
      }
     },
     "dfbc43017c814d20a38cca2d442bafef": {
      "model_module": "@jupyter-widgets/base",
      "model_module_version": "2.0.0",
      "model_name": "LayoutModel",
      "state": {}
     },
     "ef0e687dc64a489eb036e5e72b81aa02": {
      "model_module": "@jupyter-widgets/base",
      "model_module_version": "2.0.0",
      "model_name": "LayoutModel",
      "state": {}
     },
     "f11973d5fc8943dfb76380f2a64a210e": {
      "model_module": "@jupyter-widgets/base",
      "model_module_version": "2.0.0",
      "model_name": "LayoutModel",
      "state": {}
     },
     "f1933bdc4242409e8a14c4bf552c5913": {
      "model_module": "@jupyter-widgets/controls",
      "model_module_version": "2.0.0",
      "model_name": "FloatProgressModel",
      "state": {
       "layout": "IPY_MODEL_f11973d5fc8943dfb76380f2a64a210e",
       "max": 13,
       "style": "IPY_MODEL_5c6541d8bb4949af9ef4c2f2f9ec3d7d",
       "value": 1
      }
     },
     "f7980dfb605549ceb3c1fbba1325e42a": {
      "model_module": "@jupyter-widgets/base",
      "model_module_version": "2.0.0",
      "model_name": "LayoutModel",
      "state": {}
     },
     "f910d68470a24a39bdb8428085c0ed87": {
      "model_module": "@jupyter-widgets/controls",
      "model_module_version": "2.0.0",
      "model_name": "HTMLStyleModel",
      "state": {
       "description_width": "",
       "font_size": null,
       "text_color": null
      }
     },
     "fc7fce9a6d0a456a8ba3fe7a980ce112": {
      "model_module": "@jupyter-widgets/controls",
      "model_module_version": "2.0.0",
      "model_name": "HTMLModel",
      "state": {
       "layout": "IPY_MODEL_1e8abcbad62e426cadba6ef813e7fe87",
       "style": "IPY_MODEL_4325e91dd6e148a0ab93a0c759bef3dd",
       "value": "Writing movies: 100%"
      }
     },
     "fdb0e2f6ac5940298a79ed5714e23392": {
      "model_module": "@jupyter-widgets/controls",
      "model_module_version": "2.0.0",
      "model_name": "ProgressStyleModel",
      "state": {
       "description_width": ""
      }
     },
     "ffd3086b361e482a95348aaa91e0cd41": {
      "model_module": "@jupyter-widgets/controls",
      "model_module_version": "2.0.0",
      "model_name": "HBoxModel",
      "state": {
       "children": [
        "IPY_MODEL_59a0930342984e618a22207f5bd8cc0c",
        "IPY_MODEL_32d5543e9aab426f90a95ec85e797804",
        "IPY_MODEL_c56a52b2b2ed4360a59b097b0866a236"
       ],
       "layout": "IPY_MODEL_dfbc43017c814d20a38cca2d442bafef"
      }
     }
    },
    "version_major": 2,
    "version_minor": 0
   }
  }
 },
 "nbformat": 4,
 "nbformat_minor": 5
}
