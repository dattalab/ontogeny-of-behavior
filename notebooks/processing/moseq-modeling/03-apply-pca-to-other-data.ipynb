{
 "cells": [
  {
   "cell_type": "markdown",
   "metadata": {},
   "source": [
    "# Gather files for PCA"
   ]
  },
  {
   "cell_type": "code",
   "execution_count": 1,
   "metadata": {
    "tags": []
   },
   "outputs": [],
   "source": [
    "import h5py\n",
    "from pathlib import Path\n",
    "from aging.organization.paths import FOLDERS\n",
    "from toolz import groupby, concat, frequencies"
   ]
  },
  {
   "cell_type": "code",
   "execution_count": 2,
   "metadata": {
    "tags": []
   },
   "outputs": [],
   "source": [
    "version = 7  # arhmm version\n",
    "size_key = f'win_size_norm_frames_v{version - 1}'\n",
    "pca_path = Path(f'/n/groups/datta/win/longtogeny/data/ontogeny/version_{version:02d}/all_data_pca')"
   ]
  },
  {
   "cell_type": "code",
   "execution_count": 3,
   "metadata": {
    "tags": []
   },
   "outputs": [
    {
     "name": "stdout",
     "output_type": "stream",
     "text": [
      "env: FRAMES_KEY=win_size_norm_frames_v6\n",
      "env: VERSION=7\n"
     ]
    }
   ],
   "source": [
    "# set environment variables for bash scripts below\n",
    "%env FRAMES_KEY=$size_key\n",
    "%env VERSION=$version"
   ]
  },
  {
   "cell_type": "code",
   "execution_count": 4,
   "metadata": {
    "tags": []
   },
   "outputs": [
    {
     "data": {
      "text/plain": [
       "(PosixPath('/n/groups/datta/Dana/Ontogeny/raw_data/Ontogeny_females'),\n",
       " PosixPath('/n/groups/datta/Dana/Ontogeny/raw_data/Ontogeny_males'),\n",
       " PosixPath('/n/groups/datta/Dana/Ontogeny/raw_data/longtogeny_pre_unet/Males'),\n",
       " PosixPath('/n/groups/datta/min/longtogeny_072023/Males'),\n",
       " PosixPath('/n/groups/datta/min/longtogeny_072023/Females'),\n",
       " PosixPath('/n/groups/datta/min/wheel_062023'),\n",
       " PosixPath('/n/groups/datta/win/longtogeny/dlight'))"
      ]
     },
     "execution_count": 4,
     "metadata": {},
     "output_type": "execute_result"
    }
   ],
   "source": [
    "FOLDERS"
   ]
  },
  {
   "cell_type": "code",
   "execution_count": 5,
   "metadata": {
    "tags": []
   },
   "outputs": [],
   "source": [
    "def is_size_normalized(file):\n",
    "    try:\n",
    "        with h5py.File(file, 'r') as h5f:\n",
    "            return size_key in h5f\n",
    "    except (BlockingIOError, OSError):\n",
    "        return False"
   ]
  },
  {
   "cell_type": "code",
   "execution_count": 6,
   "metadata": {},
   "outputs": [],
   "source": [
    "files = sorted(\n",
    "    filter(is_size_normalized, concat(f.glob(\"**/results_00.h5\") for f in FOLDERS))\n",
    ")\n",
    "parent_counts = frequencies([str(f.parents[1]) for f in files])"
   ]
  },
  {
   "cell_type": "code",
   "execution_count": 7,
   "metadata": {},
   "outputs": [],
   "source": [
    "def not_double(path):\n",
    "    if parent_counts[str(path.parents[1])] > 1:\n",
    "        return 'proc_cleaned' == path.parent.name\n",
    "    return True"
   ]
  },
  {
   "cell_type": "code",
   "execution_count": 8,
   "metadata": {},
   "outputs": [],
   "source": [
    "grouped_files = groupby(\n",
    "    lambda f: [x for x in FOLDERS if str(x) in str(f)][0], filter(not_double, files)\n",
    ")"
   ]
  },
  {
   "cell_type": "code",
   "execution_count": 9,
   "metadata": {},
   "outputs": [],
   "source": [
    "duplicate_files = []\n",
    "for folder, _files in grouped_files.items():\n",
    "    if 'longtogeny' in str(folder):\n",
    "        out_folder = pca_path / (folder.parent.name + '_' + folder.name)\n",
    "    else:\n",
    "        out_folder = pca_path / folder.name\n",
    "    out_folder.mkdir(exist_ok=True, parents=True)\n",
    "\n",
    "    for file in _files:\n",
    "        try:\n",
    "            new_path = out_folder / (file.parents[1].name + '.h5')\n",
    "            new_path.symlink_to(file)\n",
    "            new_path = out_folder / (file.parents[1].name + '.yaml')\n",
    "            new_path.symlink_to(file.with_suffix('.yaml'))\n",
    "        except FileExistsError:\n",
    "            duplicate_files.append(file)"
   ]
  },
  {
   "cell_type": "code",
   "execution_count": 10,
   "metadata": {
    "tags": []
   },
   "outputs": [
    {
     "data": {
      "text/plain": [
       "5213"
      ]
     },
     "execution_count": 10,
     "metadata": {},
     "output_type": "execute_result"
    }
   ],
   "source": [
    "len(duplicate_files)"
   ]
  },
  {
   "cell_type": "markdown",
   "metadata": {},
   "source": [
    "## Apply PCA"
   ]
  },
  {
   "cell_type": "code",
   "execution_count": 11,
   "metadata": {
    "tags": []
   },
   "outputs": [
    {
     "name": "stdout",
     "output_type": "stream",
     "text": [
      "Hello from o2\n",
      "Loading PCs from /n/groups/datta/win/longtogeny/data/ontogeny/version_07/_pca/pca.h5\n",
      "Access dask dashboard at http://localhost:8787\n"
     ]
    },
    {
     "name": "stderr",
     "output_type": "stream",
     "text": [
      "Intializing workers: 100%|██████████| 25/25 [01:45<00:00,  4.21s/it]\n",
      "100%|██████████| 12/12 [03:52<00:00, 19.35s/it]\n"
     ]
    }
   ],
   "source": [
    "%%bash\n",
    "\n",
    "# run this one\n",
    "printf -v VER \"%02d\" $VERSION\n",
    "source $HOME/.bashrc\n",
    "conda activate moseq2-app\n",
    "moseq2-pca apply-pca \\\n",
    "    -i /n/groups/datta/win/longtogeny/data/ontogeny/version_${VER}/all_data_pca \\\n",
    "    -o /n/groups/datta/win/longtogeny/data/ontogeny/version_${VER}/all_data_pca \\\n",
    "    --h5-path ${FRAMES_KEY} -n 25 --cluster-type slurm \\\n",
    "    --pca-file /n/groups/datta/win/longtogeny/data/ontogeny/version_${VER}/_pca/pca.h5 \\\n",
    "    --timeout 8 -w 00:45:00 -m 13GB -q short \\\n",
    "    --dask-cache-path /n/scratch3/users/w/wg41/tmp \\\n",
    "    --batch-apply --overwrite-pca-apply 1"
   ]
  },
  {
   "cell_type": "code",
   "execution_count": null,
   "metadata": {},
   "outputs": [],
   "source": []
  }
 ],
 "metadata": {
  "kernelspec": {
   "display_name": "Ontogeny",
   "language": "python",
   "name": "aging"
  },
  "language_info": {
   "codemirror_mode": {
    "name": "ipython",
    "version": 3
   },
   "file_extension": ".py",
   "mimetype": "text/x-python",
   "name": "python",
   "nbconvert_exporter": "python",
   "pygments_lexer": "ipython3",
   "version": "3.10.10"
  },
  "widgets": {
   "application/vnd.jupyter.widget-state+json": {
    "state": {},
    "version_major": 2,
    "version_minor": 0
   }
  }
 },
 "nbformat": 4,
 "nbformat_minor": 4
}
