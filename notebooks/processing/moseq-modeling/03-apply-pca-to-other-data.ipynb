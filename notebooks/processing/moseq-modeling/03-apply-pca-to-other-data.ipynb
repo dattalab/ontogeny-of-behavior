{
 "cells": [
  {
   "cell_type": "markdown",
   "metadata": {},
   "source": [
    "# Gather files for PCA"
   ]
  },
  {
   "cell_type": "code",
   "execution_count": 1,
   "metadata": {
    "tags": []
   },
   "outputs": [],
   "source": [
    "import h5py\n",
    "from pathlib import Path\n",
    "from tqdm.auto import tqdm\n",
    "from aging.organization.paths import FOLDERS"
   ]
  },
  {
   "cell_type": "code",
   "execution_count": 2,
   "metadata": {
    "tags": []
   },
   "outputs": [],
   "source": [
    "version = 7  # arhmm version\n",
    "size_key = f'win_size_norm_frames_v{version - 1}'\n",
    "pca_path = Path(f'/n/groups/datta/win/longtogeny/data/ontogeny/version_{version:02d}/all_data_pca')"
   ]
  },
  {
   "cell_type": "code",
   "execution_count": 3,
   "metadata": {
    "tags": []
   },
   "outputs": [
    {
     "name": "stdout",
     "output_type": "stream",
     "text": [
      "env: FRAMES_KEY=win_size_norm_frames_v4\n",
      "env: VERSION=5\n"
     ]
    }
   ],
   "source": [
    "# set environment variables for bash scripts below\n",
    "%env FRAMES_KEY=$size_key\n",
    "%env VERSION=$version"
   ]
  },
  {
   "cell_type": "code",
   "execution_count": 4,
   "metadata": {
    "tags": []
   },
   "outputs": [
    {
     "data": {
      "text/plain": [
       "(PosixPath('/n/groups/datta/Dana/Ontogeny/raw_data/Ontogeny_females'),\n",
       " PosixPath('/n/groups/datta/Dana/Ontogeny/raw_data/Ontogeny_males'),\n",
       " PosixPath('/n/groups/datta/Dana/Ontogeny/raw_data/longtogeny_pre_unet/Males'),\n",
       " PosixPath('/n/groups/datta/min/longtogeny_072023/Males'),\n",
       " PosixPath('/n/groups/datta/min/longtogeny_072023/Females'),\n",
       " PosixPath('/n/groups/datta/min/wheel_062023'),\n",
       " PosixPath('/n/groups/datta/win/longtogeny/dlight'))"
      ]
     },
     "execution_count": 4,
     "metadata": {},
     "output_type": "execute_result"
    }
   ],
   "source": [
    "FOLDERS"
   ]
  },
  {
   "cell_type": "code",
   "execution_count": 5,
   "metadata": {
    "tags": []
   },
   "outputs": [],
   "source": [
    "def is_size_normalized(file):\n",
    "    try:\n",
    "        with h5py.File(file, 'r') as h5f:\n",
    "            return size_key in h5f\n",
    "    except (BlockingIOError, OSError):\n",
    "        return False"
   ]
  },
  {
   "cell_type": "code",
   "execution_count": 6,
   "metadata": {
    "tags": []
   },
   "outputs": [
    {
     "data": {
      "application/vnd.jupyter.widget-view+json": {
       "model_id": "1d1fdc1b38d74c44a95818199e9871ae",
       "version_major": 2,
       "version_minor": 0
      },
      "text/plain": [
       "  0%|          | 0/7 [00:00<?, ?it/s]"
      ]
     },
     "metadata": {},
     "output_type": "display_data"
    }
   ],
   "source": [
    "duplicate_files = []\n",
    "for folder in tqdm(FOLDERS):\n",
    "    if 'longtogeny' in str(folder):\n",
    "        out_folder = pca_path / (folder.parent.name + '_' + folder.name)\n",
    "    else:\n",
    "        out_folder = pca_path / folder.name\n",
    "    out_folder.mkdir(exist_ok=True, parents=True)\n",
    "\n",
    "    for file in filter(is_size_normalized, folder.glob('**/results_00.h5')):\n",
    "        try:\n",
    "            new_path = out_folder / (file.parents[1].name + '.h5')\n",
    "            new_path.symlink_to(file)\n",
    "            new_path = out_folder / (file.parents[1].name + '.yaml')\n",
    "            new_path.symlink_to(file.with_suffix('.yaml'))\n",
    "        except FileExistsError:\n",
    "            duplicate_files.append(file)"
   ]
  },
  {
   "cell_type": "code",
   "execution_count": 7,
   "metadata": {
    "tags": []
   },
   "outputs": [
    {
     "data": {
      "text/plain": [
       "4629"
      ]
     },
     "execution_count": 7,
     "metadata": {},
     "output_type": "execute_result"
    }
   ],
   "source": [
    "len(duplicate_files)"
   ]
  },
  {
   "cell_type": "markdown",
   "metadata": {},
   "source": [
    "## Apply PCA"
   ]
  },
  {
   "cell_type": "code",
   "execution_count": 8,
   "metadata": {
    "tags": []
   },
   "outputs": [
    {
     "name": "stdout",
     "output_type": "stream",
     "text": [
      "Hello from o2\n",
      "Loading PCs from /n/groups/datta/win/longtogeny/data/ontogeny/version_05/_pca/pca.h5\n",
      "Access dask dashboard at http://localhost:8787\n"
     ]
    },
    {
     "name": "stderr",
     "output_type": "stream",
     "text": [
      "Intializing workers: 100%|██████████| 25/25 [04:27<00:00, 10.71s/it]\n",
      "100%|██████████| 2/2 [00:48<00:00, 24.38s/it]\n"
     ]
    }
   ],
   "source": [
    "%%bash\n",
    "\n",
    "# run this one\n",
    "printf -v VER \"%02d\" $VERSION\n",
    "source $HOME/.bashrc\n",
    "conda activate moseq2-app\n",
    "moseq2-pca apply-pca \\\n",
    "    -i /n/groups/datta/win/longtogeny/data/ontogeny/version_${VER}/all_data_pca \\\n",
    "    -o /n/groups/datta/win/longtogeny/data/ontogeny/version_${VER}/all_data_pca \\\n",
    "    --h5-path ${FRAMES_KEY} -n 25 --cluster-type slurm \\\n",
    "    --pca-file /n/groups/datta/win/longtogeny/data/ontogeny/version_${VER}/_pca/pca.h5 \\\n",
    "    --timeout 8 -w 01:30:00 -m 13GB -q short \\\n",
    "    --dask-cache-path /n/scratch3/users/w/wg41/tmp \\\n",
    "    --batch-apply --overwrite-pca-apply 1"
   ]
  },
  {
   "cell_type": "code",
   "execution_count": null,
   "metadata": {},
   "outputs": [],
   "source": []
  }
 ],
 "metadata": {
  "kernelspec": {
   "display_name": "Ontogeny",
   "language": "python",
   "name": "aging"
  },
  "language_info": {
   "codemirror_mode": {
    "name": "ipython",
    "version": 3
   },
   "file_extension": ".py",
   "mimetype": "text/x-python",
   "name": "python",
   "nbconvert_exporter": "python",
   "pygments_lexer": "ipython3",
   "version": "3.10.10"
  },
  "widgets": {
   "application/vnd.jupyter.widget-state+json": {
    "state": {
     "14c08d677f684a4eb5cf060c2bc63ef2": {
      "model_module": "@jupyter-widgets/base",
      "model_module_version": "2.0.0",
      "model_name": "LayoutModel",
      "state": {}
     },
     "1d1fdc1b38d74c44a95818199e9871ae": {
      "model_module": "@jupyter-widgets/controls",
      "model_module_version": "2.0.0",
      "model_name": "HBoxModel",
      "state": {
       "children": [
        "IPY_MODEL_5ebe758310074e5faa1b23ccdaf75033",
        "IPY_MODEL_42792ed03890422a95f84cee863c2a71",
        "IPY_MODEL_4ad5bfaa332a43e3a44b7332f73022d6"
       ],
       "layout": "IPY_MODEL_a7ecbfbbd1934909b14fe0ba8492d375"
      }
     },
     "1fb0c51967274becb35f00ee2f95f425": {
      "model_module": "@jupyter-widgets/controls",
      "model_module_version": "2.0.0",
      "model_name": "HTMLStyleModel",
      "state": {
       "description_width": "",
       "font_size": null,
       "text_color": null
      }
     },
     "23a4cd84b4824e8583697046868d2195": {
      "model_module": "@jupyter-widgets/base",
      "model_module_version": "2.0.0",
      "model_name": "LayoutModel",
      "state": {}
     },
     "42792ed03890422a95f84cee863c2a71": {
      "model_module": "@jupyter-widgets/controls",
      "model_module_version": "2.0.0",
      "model_name": "FloatProgressModel",
      "state": {
       "bar_style": "success",
       "layout": "IPY_MODEL_14c08d677f684a4eb5cf060c2bc63ef2",
       "max": 7,
       "style": "IPY_MODEL_56632732448f49d49a0c084f4664fe40",
       "value": 7
      }
     },
     "4ad5bfaa332a43e3a44b7332f73022d6": {
      "model_module": "@jupyter-widgets/controls",
      "model_module_version": "2.0.0",
      "model_name": "HTMLModel",
      "state": {
       "layout": "IPY_MODEL_b3a0068c845d4388a4f70c5fe9e24089",
       "style": "IPY_MODEL_d89269886a6e429eaceb6b5c3bf2c31d",
       "value": " 7/7 [00:45&lt;00:00,  6.43s/it]"
      }
     },
     "56632732448f49d49a0c084f4664fe40": {
      "model_module": "@jupyter-widgets/controls",
      "model_module_version": "2.0.0",
      "model_name": "ProgressStyleModel",
      "state": {
       "description_width": ""
      }
     },
     "5ebe758310074e5faa1b23ccdaf75033": {
      "model_module": "@jupyter-widgets/controls",
      "model_module_version": "2.0.0",
      "model_name": "HTMLModel",
      "state": {
       "layout": "IPY_MODEL_23a4cd84b4824e8583697046868d2195",
       "style": "IPY_MODEL_1fb0c51967274becb35f00ee2f95f425",
       "value": "100%"
      }
     },
     "a7ecbfbbd1934909b14fe0ba8492d375": {
      "model_module": "@jupyter-widgets/base",
      "model_module_version": "2.0.0",
      "model_name": "LayoutModel",
      "state": {}
     },
     "b3a0068c845d4388a4f70c5fe9e24089": {
      "model_module": "@jupyter-widgets/base",
      "model_module_version": "2.0.0",
      "model_name": "LayoutModel",
      "state": {}
     },
     "d89269886a6e429eaceb6b5c3bf2c31d": {
      "model_module": "@jupyter-widgets/controls",
      "model_module_version": "2.0.0",
      "model_name": "HTMLStyleModel",
      "state": {
       "description_width": "",
       "font_size": null,
       "text_color": null
      }
     }
    },
    "version_major": 2,
    "version_minor": 0
   }
  }
 },
 "nbformat": 4,
 "nbformat_minor": 4
}
