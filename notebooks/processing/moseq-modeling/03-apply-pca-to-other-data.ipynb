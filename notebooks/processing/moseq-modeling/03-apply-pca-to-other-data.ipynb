{
 "cells": [
  {
   "cell_type": "markdown",
   "metadata": {},
   "source": [
    "# Gather files for PCA"
   ]
  },
  {
   "cell_type": "code",
   "execution_count": 1,
   "metadata": {
    "tags": []
   },
   "outputs": [],
   "source": [
    "import h5py\n",
    "from pathlib import Path\n",
    "from tqdm.auto import tqdm\n",
    "from aging.organization.paths import FOLDERS"
   ]
  },
  {
   "cell_type": "code",
   "execution_count": 2,
   "metadata": {
    "tags": []
   },
   "outputs": [],
   "source": [
    "version = 6\n",
    "size_key = 'win_size_norm_frames_v5'\n",
    "pca_path = Path(f'/n/groups/datta/win/longtogeny/data/ontogeny/version_{version:02d}/all_data_pca')"
   ]
  },
  {
   "cell_type": "code",
   "execution_count": 3,
   "metadata": {
    "tags": []
   },
   "outputs": [
    {
     "name": "stdout",
     "output_type": "stream",
     "text": [
      "env: FRAMES_KEY=win_size_norm_frames_v5\n",
      "env: VERSION=6\n"
     ]
    }
   ],
   "source": [
    "# set environment variables for bash scripts below\n",
    "%env FRAMES_KEY=$size_key\n",
    "%env VERSION=$version"
   ]
  },
  {
   "cell_type": "code",
   "execution_count": 4,
   "metadata": {
    "tags": []
   },
   "outputs": [
    {
     "data": {
      "text/plain": [
       "(PosixPath('/n/groups/datta/Dana/Ontogeny/raw_data/Ontogeny_females'),\n",
       " PosixPath('/n/groups/datta/Dana/Ontogeny/raw_data/Ontogeny_males'),\n",
       " PosixPath('/n/groups/datta/Dana/Ontogeny/raw_data/longtogeny_pre_unet/Males'),\n",
       " PosixPath('/n/groups/datta/min/longtogeny_072023'),\n",
       " PosixPath('/n/groups/datta/min/wheel_062023'),\n",
       " PosixPath('/n/groups/datta/win/longtogeny/dlight'))"
      ]
     },
     "execution_count": 4,
     "metadata": {},
     "output_type": "execute_result"
    }
   ],
   "source": [
    "FOLDERS"
   ]
  },
  {
   "cell_type": "code",
   "execution_count": 5,
   "metadata": {
    "tags": []
   },
   "outputs": [],
   "source": [
    "def is_size_normalized(file):\n",
    "    try:\n",
    "        with h5py.File(file, 'r') as h5f:\n",
    "            return size_key in h5f\n",
    "    except (BlockingIOError, OSError):\n",
    "        return False"
   ]
  },
  {
   "cell_type": "code",
   "execution_count": 6,
   "metadata": {
    "tags": []
   },
   "outputs": [
    {
     "data": {
      "application/vnd.jupyter.widget-view+json": {
       "model_id": "6614ae33ba0d4552a6f73cb6dbbb7a1e",
       "version_major": 2,
       "version_minor": 0
      },
      "text/plain": [
       "  0%|          | 0/6 [00:00<?, ?it/s]"
      ]
     },
     "metadata": {},
     "output_type": "display_data"
    }
   ],
   "source": [
    "duplicate_files = []\n",
    "for folder in tqdm(FOLDERS):\n",
    "    if 'longtogeny' in str(folder):\n",
    "        out_folder = pca_path / (folder.parent.name + '_' + folder.name)\n",
    "    else:\n",
    "        out_folder = pca_path / folder.name\n",
    "    out_folder.mkdir(exist_ok=True, parents=True)\n",
    "\n",
    "    for file in filter(is_size_normalized, folder.glob('**/results_00.h5')):\n",
    "        try:\n",
    "            new_path = out_folder / (file.parents[1].name + '.h5')\n",
    "            new_path.symlink_to(file)\n",
    "            new_path = out_folder / (file.parents[1].name + '.yaml')\n",
    "            new_path.symlink_to(file.with_suffix('.yaml'))\n",
    "        except FileExistsError:\n",
    "            duplicate_files.append(file)"
   ]
  },
  {
   "cell_type": "code",
   "execution_count": 7,
   "metadata": {
    "tags": []
   },
   "outputs": [
    {
     "data": {
      "text/plain": [
       "3152"
      ]
     },
     "execution_count": 7,
     "metadata": {},
     "output_type": "execute_result"
    }
   ],
   "source": [
    "len(duplicate_files)"
   ]
  },
  {
   "cell_type": "markdown",
   "metadata": {},
   "source": [
    "## Apply PCA"
   ]
  },
  {
   "cell_type": "code",
   "execution_count": 8,
   "metadata": {
    "tags": []
   },
   "outputs": [
    {
     "name": "stdout",
     "output_type": "stream",
     "text": [
      "Hello from o2\n",
      "Loading PCs from /n/groups/datta/win/longtogeny/data/ontogeny/version_06/_pca/pca.h5\n",
      "Access dask dashboard at http://localhost:8787\n"
     ]
    },
    {
     "name": "stderr",
     "output_type": "stream",
     "text": [
      "Intializing workers: 100%|██████████| 50/50 [00:37<00:00,  1.35it/s]\n"
     ]
    },
    {
     "name": "stdout",
     "output_type": "stream",
     "text": [
      "WARNING: timestamps were not found. Using default frame series-ordering.\n",
      "WARNING: timestamps were not found. Using default frame series-ordering.\n"
     ]
    },
    {
     "name": "stderr",
     "output_type": "stream",
     "text": [
      "100%|██████████| 5/5 [01:31<00:00, 18.23s/it]\n"
     ]
    }
   ],
   "source": [
    "%%bash\n",
    "\n",
    "# run this one\n",
    "printf -v VER \"%02d\" $VERSION\n",
    "source $HOME/.bashrc\n",
    "conda activate moseq2-app\n",
    "moseq2-pca apply-pca \\\n",
    "    -i /n/groups/datta/win/longtogeny/data/ontogeny/version_${VER}/all_data_pca \\\n",
    "    -o /n/groups/datta/win/longtogeny/data/ontogeny/version_${VER}/all_data_pca \\\n",
    "    --h5-path ${FRAMES_KEY} -n 50 --cluster-type slurm \\\n",
    "    --pca-file /n/groups/datta/win/longtogeny/data/ontogeny/version_${VER}/_pca/pca.h5 \\\n",
    "    --timeout 8 -w 00:45:00 -m 13GB -q short \\\n",
    "    --dask-cache-path /n/scratch3/users/w/wg41/tmp \\\n",
    "    --batch-apply --overwrite-pca-apply 1"
   ]
  },
  {
   "cell_type": "code",
   "execution_count": null,
   "metadata": {},
   "outputs": [],
   "source": []
  }
 ],
 "metadata": {
  "kernelspec": {
   "display_name": "Ontogeny",
   "language": "python",
   "name": "aging"
  },
  "language_info": {
   "codemirror_mode": {
    "name": "ipython",
    "version": 3
   },
   "file_extension": ".py",
   "mimetype": "text/x-python",
   "name": "python",
   "nbconvert_exporter": "python",
   "pygments_lexer": "ipython3",
   "version": "3.10.10"
  },
  "widgets": {
   "application/vnd.jupyter.widget-state+json": {
    "state": {
     "008c894aae4e43ad9d892cd6e7c83233": {
      "model_module": "@jupyter-widgets/controls",
      "model_module_version": "2.0.0",
      "model_name": "ProgressStyleModel",
      "state": {
       "description_width": ""
      }
     },
     "3a2f9909a1f94abe92ce54befbbcea31": {
      "model_module": "@jupyter-widgets/base",
      "model_module_version": "2.0.0",
      "model_name": "LayoutModel",
      "state": {}
     },
     "6267fb57c05947b18e2b262b10872a48": {
      "model_module": "@jupyter-widgets/base",
      "model_module_version": "2.0.0",
      "model_name": "LayoutModel",
      "state": {}
     },
     "6614ae33ba0d4552a6f73cb6dbbb7a1e": {
      "model_module": "@jupyter-widgets/controls",
      "model_module_version": "2.0.0",
      "model_name": "HBoxModel",
      "state": {
       "children": [
        "IPY_MODEL_b3b7b1d359054bb8bdcf86f0cf8817b8",
        "IPY_MODEL_c9ea513d0b434c5bb81fe7e72eab4d30",
        "IPY_MODEL_6b9d6de755824d7286a5bb506125c4fe"
       ],
       "layout": "IPY_MODEL_f82cba1dc13e4103bc3fd703e9e34f69"
      }
     },
     "6b9d6de755824d7286a5bb506125c4fe": {
      "model_module": "@jupyter-widgets/controls",
      "model_module_version": "2.0.0",
      "model_name": "HTMLModel",
      "state": {
       "layout": "IPY_MODEL_6267fb57c05947b18e2b262b10872a48",
       "style": "IPY_MODEL_f0d800e643df4b3b870e6bdaaaa6139c",
       "value": " 6/6 [00:43&lt;00:00,  7.47s/it]"
      }
     },
     "9fe6cb98937a4b58a6060d7d8a5a4be4": {
      "model_module": "@jupyter-widgets/base",
      "model_module_version": "2.0.0",
      "model_name": "LayoutModel",
      "state": {}
     },
     "b3b7b1d359054bb8bdcf86f0cf8817b8": {
      "model_module": "@jupyter-widgets/controls",
      "model_module_version": "2.0.0",
      "model_name": "HTMLModel",
      "state": {
       "layout": "IPY_MODEL_3a2f9909a1f94abe92ce54befbbcea31",
       "style": "IPY_MODEL_fb772b43deb24d51a7107dd8d743e9f5",
       "value": "100%"
      }
     },
     "c9ea513d0b434c5bb81fe7e72eab4d30": {
      "model_module": "@jupyter-widgets/controls",
      "model_module_version": "2.0.0",
      "model_name": "FloatProgressModel",
      "state": {
       "bar_style": "success",
       "layout": "IPY_MODEL_9fe6cb98937a4b58a6060d7d8a5a4be4",
       "max": 6,
       "style": "IPY_MODEL_008c894aae4e43ad9d892cd6e7c83233",
       "value": 6
      }
     },
     "f0d800e643df4b3b870e6bdaaaa6139c": {
      "model_module": "@jupyter-widgets/controls",
      "model_module_version": "2.0.0",
      "model_name": "HTMLStyleModel",
      "state": {
       "description_width": "",
       "font_size": null,
       "text_color": null
      }
     },
     "f82cba1dc13e4103bc3fd703e9e34f69": {
      "model_module": "@jupyter-widgets/base",
      "model_module_version": "2.0.0",
      "model_name": "LayoutModel",
      "state": {}
     },
     "fb772b43deb24d51a7107dd8d743e9f5": {
      "model_module": "@jupyter-widgets/controls",
      "model_module_version": "2.0.0",
      "model_name": "HTMLStyleModel",
      "state": {
       "description_width": "",
       "font_size": null,
       "text_color": null
      }
     }
    },
    "version_major": 2,
    "version_minor": 0
   }
  }
 },
 "nbformat": 4,
 "nbformat_minor": 4
}
