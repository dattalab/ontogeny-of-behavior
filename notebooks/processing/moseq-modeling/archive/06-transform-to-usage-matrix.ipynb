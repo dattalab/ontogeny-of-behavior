{
 "cells": [
  {
   "cell_type": "markdown",
   "id": "474e35b5-ba84-40c0-8a37-ebc1cd7da7ad",
   "metadata": {},
   "source": [
    "# Longtogeny"
   ]
  },
  {
   "cell_type": "code",
   "execution_count": 1,
   "id": "44381b08-08e0-429f-a47e-cef4b9fb05c5",
   "metadata": {
    "tags": []
   },
   "outputs": [],
   "source": [
    "import re\n",
    "import pandas as pd\n",
    "import numpy as np\n",
    "from pathlib import Path\n",
    "from collections import Counter\n",
    "from aging.behavior.syllables import relabel_by_usage, assign_onsets"
   ]
  },
  {
   "cell_type": "code",
   "execution_count": 2,
   "id": "c67718b9-9f22-4a7f-bcd2-e800c02b3ce3",
   "metadata": {
    "tags": []
   },
   "outputs": [],
   "source": [
    "# very noisy session\n",
    "exclude_dates = [pd.Timestamp(\"2021-10-16 17:00:57\")]"
   ]
  },
  {
   "cell_type": "code",
   "execution_count": 3,
   "id": "ed931168-5c2a-4860-bbcf-a3a35eafaf0a",
   "metadata": {
    "tags": []
   },
   "outputs": [],
   "source": [
    "pat = re.compile(r\"long[-]?(\\d).*[-_](nt|rl|r|l)\")\n",
    "tag_map = dict(r=2, l=3, nt=1, rl=4)\n",
    "\n",
    "\n",
    "def mouse_map(string):\n",
    "    \"\"\"returns mouse identity\"\"\"\n",
    "    match = pat.search(string)\n",
    "    if match is None:\n",
    "        # remove the c##_m## mice\n",
    "        if \"c\" in string and \"m\" in string:\n",
    "            return \"\"\n",
    "        return string[:5]\n",
    "    else:\n",
    "        cage = int(match.group(1))\n",
    "        _id = tag_map[match.group(2)]\n",
    "        return f\"{cage:02d}_{_id:02d}\""
   ]
  },
  {
   "cell_type": "code",
   "execution_count": 4,
   "id": "086609f0-e755-4b27-93c3-673008839c7f",
   "metadata": {
    "tags": []
   },
   "outputs": [
    {
     "ename": "ArrowInvalid",
     "evalue": "offset overflow while concatenating arrays",
     "output_type": "error",
     "traceback": [
      "\u001b[0;31m---------------------------------------------------------------------------\u001b[0m",
      "\u001b[0;31mArrowInvalid\u001b[0m                              Traceback (most recent call last)",
      "Cell \u001b[0;32mIn[4], line 6\u001b[0m\n\u001b[1;32m      2\u001b[0m data_folder \u001b[38;5;241m=\u001b[39m Path(\n\u001b[1;32m      3\u001b[0m     \u001b[38;5;124mf\u001b[39m\u001b[38;5;124m\"\u001b[39m\u001b[38;5;124m/n/groups/datta/win/longtogeny/data/ontogeny/version_\u001b[39m\u001b[38;5;132;01m{\u001b[39;00mversion\u001b[38;5;132;01m:\u001b[39;00m\u001b[38;5;124m02d\u001b[39m\u001b[38;5;132;01m}\u001b[39;00m\u001b[38;5;124m\"\u001b[39m\n\u001b[1;32m      4\u001b[0m )\n\u001b[1;32m      5\u001b[0m path \u001b[38;5;241m=\u001b[39m data_folder \u001b[38;5;241m/\u001b[39m \u001b[38;5;124m\"\u001b[39m\u001b[38;5;124mlongtogeny_males_syllable_df_v00.parquet\u001b[39m\u001b[38;5;124m\"\u001b[39m\n\u001b[0;32m----> 6\u001b[0m df \u001b[38;5;241m=\u001b[39m \u001b[43mpd\u001b[49m\u001b[38;5;241;43m.\u001b[39;49m\u001b[43mread_parquet\u001b[49m\u001b[43m(\u001b[49m\u001b[43mpath\u001b[49m\u001b[43m)\u001b[49m\n\u001b[1;32m      9\u001b[0m \u001b[38;5;66;03m## get syllable maps from male ontogeny\u001b[39;00m\n\u001b[1;32m     10\u001b[0m \u001b[38;5;28;01mdef\u001b[39;00m \u001b[38;5;21mget_usage_map\u001b[39m():\n",
      "File \u001b[0;32m~/miniconda3/envs/aging/lib/python3.10/site-packages/pandas/io/parquet.py:670\u001b[0m, in \u001b[0;36mread_parquet\u001b[0;34m(path, engine, columns, storage_options, use_nullable_dtypes, dtype_backend, filesystem, filters, **kwargs)\u001b[0m\n\u001b[1;32m    667\u001b[0m     use_nullable_dtypes \u001b[38;5;241m=\u001b[39m \u001b[38;5;28;01mFalse\u001b[39;00m\n\u001b[1;32m    668\u001b[0m check_dtype_backend(dtype_backend)\n\u001b[0;32m--> 670\u001b[0m \u001b[38;5;28;01mreturn\u001b[39;00m \u001b[43mimpl\u001b[49m\u001b[38;5;241;43m.\u001b[39;49m\u001b[43mread\u001b[49m\u001b[43m(\u001b[49m\n\u001b[1;32m    671\u001b[0m \u001b[43m    \u001b[49m\u001b[43mpath\u001b[49m\u001b[43m,\u001b[49m\n\u001b[1;32m    672\u001b[0m \u001b[43m    \u001b[49m\u001b[43mcolumns\u001b[49m\u001b[38;5;241;43m=\u001b[39;49m\u001b[43mcolumns\u001b[49m\u001b[43m,\u001b[49m\n\u001b[1;32m    673\u001b[0m \u001b[43m    \u001b[49m\u001b[43mfilters\u001b[49m\u001b[38;5;241;43m=\u001b[39;49m\u001b[43mfilters\u001b[49m\u001b[43m,\u001b[49m\n\u001b[1;32m    674\u001b[0m \u001b[43m    \u001b[49m\u001b[43mstorage_options\u001b[49m\u001b[38;5;241;43m=\u001b[39;49m\u001b[43mstorage_options\u001b[49m\u001b[43m,\u001b[49m\n\u001b[1;32m    675\u001b[0m \u001b[43m    \u001b[49m\u001b[43muse_nullable_dtypes\u001b[49m\u001b[38;5;241;43m=\u001b[39;49m\u001b[43muse_nullable_dtypes\u001b[49m\u001b[43m,\u001b[49m\n\u001b[1;32m    676\u001b[0m \u001b[43m    \u001b[49m\u001b[43mdtype_backend\u001b[49m\u001b[38;5;241;43m=\u001b[39;49m\u001b[43mdtype_backend\u001b[49m\u001b[43m,\u001b[49m\n\u001b[1;32m    677\u001b[0m \u001b[43m    \u001b[49m\u001b[43mfilesystem\u001b[49m\u001b[38;5;241;43m=\u001b[39;49m\u001b[43mfilesystem\u001b[49m\u001b[43m,\u001b[49m\n\u001b[1;32m    678\u001b[0m \u001b[43m    \u001b[49m\u001b[38;5;241;43m*\u001b[39;49m\u001b[38;5;241;43m*\u001b[39;49m\u001b[43mkwargs\u001b[49m\u001b[43m,\u001b[49m\n\u001b[1;32m    679\u001b[0m \u001b[43m\u001b[49m\u001b[43m)\u001b[49m\n",
      "File \u001b[0;32m~/miniconda3/envs/aging/lib/python3.10/site-packages/pandas/io/parquet.py:279\u001b[0m, in \u001b[0;36mPyArrowImpl.read\u001b[0;34m(self, path, columns, filters, use_nullable_dtypes, dtype_backend, storage_options, filesystem, **kwargs)\u001b[0m\n\u001b[1;32m    271\u001b[0m \u001b[38;5;28;01mtry\u001b[39;00m:\n\u001b[1;32m    272\u001b[0m     pa_table \u001b[38;5;241m=\u001b[39m \u001b[38;5;28mself\u001b[39m\u001b[38;5;241m.\u001b[39mapi\u001b[38;5;241m.\u001b[39mparquet\u001b[38;5;241m.\u001b[39mread_table(\n\u001b[1;32m    273\u001b[0m         path_or_handle,\n\u001b[1;32m    274\u001b[0m         columns\u001b[38;5;241m=\u001b[39mcolumns,\n\u001b[0;32m   (...)\u001b[0m\n\u001b[1;32m    277\u001b[0m         \u001b[38;5;241m*\u001b[39m\u001b[38;5;241m*\u001b[39mkwargs,\n\u001b[1;32m    278\u001b[0m     )\n\u001b[0;32m--> 279\u001b[0m     result \u001b[38;5;241m=\u001b[39m \u001b[43mpa_table\u001b[49m\u001b[38;5;241;43m.\u001b[39;49m\u001b[43mto_pandas\u001b[49m\u001b[43m(\u001b[49m\u001b[38;5;241;43m*\u001b[39;49m\u001b[38;5;241;43m*\u001b[39;49m\u001b[43mto_pandas_kwargs\u001b[49m\u001b[43m)\u001b[49m\n\u001b[1;32m    281\u001b[0m     \u001b[38;5;28;01mif\u001b[39;00m manager \u001b[38;5;241m==\u001b[39m \u001b[38;5;124m\"\u001b[39m\u001b[38;5;124marray\u001b[39m\u001b[38;5;124m\"\u001b[39m:\n\u001b[1;32m    282\u001b[0m         result \u001b[38;5;241m=\u001b[39m result\u001b[38;5;241m.\u001b[39m_as_manager(\u001b[38;5;124m\"\u001b[39m\u001b[38;5;124marray\u001b[39m\u001b[38;5;124m\"\u001b[39m, copy\u001b[38;5;241m=\u001b[39m\u001b[38;5;28;01mFalse\u001b[39;00m)\n",
      "File \u001b[0;32m~/miniconda3/envs/aging/lib/python3.10/site-packages/pyarrow/array.pxi:837\u001b[0m, in \u001b[0;36mpyarrow.lib._PandasConvertible.to_pandas\u001b[0;34m()\u001b[0m\n",
      "File \u001b[0;32m~/miniconda3/envs/aging/lib/python3.10/site-packages/pyarrow/table.pxi:4114\u001b[0m, in \u001b[0;36mpyarrow.lib.Table._to_pandas\u001b[0;34m()\u001b[0m\n",
      "File \u001b[0;32m~/miniconda3/envs/aging/lib/python3.10/site-packages/pyarrow/pandas_compat.py:820\u001b[0m, in \u001b[0;36mtable_to_blockmanager\u001b[0;34m(options, table, categories, ignore_metadata, types_mapper)\u001b[0m\n\u001b[1;32m    818\u001b[0m _check_data_column_metadata_consistency(all_columns)\n\u001b[1;32m    819\u001b[0m columns \u001b[38;5;241m=\u001b[39m _deserialize_column_index(table, all_columns, column_indexes)\n\u001b[0;32m--> 820\u001b[0m blocks \u001b[38;5;241m=\u001b[39m \u001b[43m_table_to_blocks\u001b[49m\u001b[43m(\u001b[49m\u001b[43moptions\u001b[49m\u001b[43m,\u001b[49m\u001b[43m \u001b[49m\u001b[43mtable\u001b[49m\u001b[43m,\u001b[49m\u001b[43m \u001b[49m\u001b[43mcategories\u001b[49m\u001b[43m,\u001b[49m\u001b[43m \u001b[49m\u001b[43mext_columns_dtypes\u001b[49m\u001b[43m)\u001b[49m\n\u001b[1;32m    822\u001b[0m axes \u001b[38;5;241m=\u001b[39m [columns, index]\n\u001b[1;32m    823\u001b[0m \u001b[38;5;28;01mreturn\u001b[39;00m BlockManager(blocks, axes)\n",
      "File \u001b[0;32m~/miniconda3/envs/aging/lib/python3.10/site-packages/pyarrow/pandas_compat.py:1170\u001b[0m, in \u001b[0;36m_table_to_blocks\u001b[0;34m(options, block_table, categories, extension_columns)\u001b[0m\n\u001b[1;32m   1167\u001b[0m columns \u001b[38;5;241m=\u001b[39m block_table\u001b[38;5;241m.\u001b[39mcolumn_names\n\u001b[1;32m   1168\u001b[0m result \u001b[38;5;241m=\u001b[39m pa\u001b[38;5;241m.\u001b[39mlib\u001b[38;5;241m.\u001b[39mtable_to_blocks(options, block_table, categories,\n\u001b[1;32m   1169\u001b[0m                                 \u001b[38;5;28mlist\u001b[39m(extension_columns\u001b[38;5;241m.\u001b[39mkeys()))\n\u001b[0;32m-> 1170\u001b[0m \u001b[38;5;28;01mreturn\u001b[39;00m [_reconstruct_block(item, columns, extension_columns)\n\u001b[1;32m   1171\u001b[0m         \u001b[38;5;28;01mfor\u001b[39;00m item \u001b[38;5;129;01min\u001b[39;00m result]\n",
      "File \u001b[0;32m~/miniconda3/envs/aging/lib/python3.10/site-packages/pyarrow/pandas_compat.py:1170\u001b[0m, in \u001b[0;36m<listcomp>\u001b[0;34m(.0)\u001b[0m\n\u001b[1;32m   1167\u001b[0m columns \u001b[38;5;241m=\u001b[39m block_table\u001b[38;5;241m.\u001b[39mcolumn_names\n\u001b[1;32m   1168\u001b[0m result \u001b[38;5;241m=\u001b[39m pa\u001b[38;5;241m.\u001b[39mlib\u001b[38;5;241m.\u001b[39mtable_to_blocks(options, block_table, categories,\n\u001b[1;32m   1169\u001b[0m                                 \u001b[38;5;28mlist\u001b[39m(extension_columns\u001b[38;5;241m.\u001b[39mkeys()))\n\u001b[0;32m-> 1170\u001b[0m \u001b[38;5;28;01mreturn\u001b[39;00m [\u001b[43m_reconstruct_block\u001b[49m\u001b[43m(\u001b[49m\u001b[43mitem\u001b[49m\u001b[43m,\u001b[49m\u001b[43m \u001b[49m\u001b[43mcolumns\u001b[49m\u001b[43m,\u001b[49m\u001b[43m \u001b[49m\u001b[43mextension_columns\u001b[49m\u001b[43m)\u001b[49m\n\u001b[1;32m   1171\u001b[0m         \u001b[38;5;28;01mfor\u001b[39;00m item \u001b[38;5;129;01min\u001b[39;00m result]\n",
      "File \u001b[0;32m~/miniconda3/envs/aging/lib/python3.10/site-packages/pyarrow/pandas_compat.py:780\u001b[0m, in \u001b[0;36m_reconstruct_block\u001b[0;34m(item, columns, extension_columns)\u001b[0m\n\u001b[1;32m    777\u001b[0m     \u001b[38;5;28;01mif\u001b[39;00m \u001b[38;5;129;01mnot\u001b[39;00m \u001b[38;5;28mhasattr\u001b[39m(pandas_dtype, \u001b[38;5;124m'\u001b[39m\u001b[38;5;124m__from_arrow__\u001b[39m\u001b[38;5;124m'\u001b[39m):\n\u001b[1;32m    778\u001b[0m         \u001b[38;5;28;01mraise\u001b[39;00m \u001b[38;5;167;01mValueError\u001b[39;00m(\u001b[38;5;124m\"\u001b[39m\u001b[38;5;124mThis column does not support to be converted \u001b[39m\u001b[38;5;124m\"\u001b[39m\n\u001b[1;32m    779\u001b[0m                          \u001b[38;5;124m\"\u001b[39m\u001b[38;5;124mto a pandas ExtensionArray\u001b[39m\u001b[38;5;124m\"\u001b[39m)\n\u001b[0;32m--> 780\u001b[0m     pd_ext_arr \u001b[38;5;241m=\u001b[39m \u001b[43mpandas_dtype\u001b[49m\u001b[38;5;241;43m.\u001b[39;49m\u001b[43m__from_arrow__\u001b[49m\u001b[43m(\u001b[49m\u001b[43marr\u001b[49m\u001b[43m)\u001b[49m\n\u001b[1;32m    781\u001b[0m     block \u001b[38;5;241m=\u001b[39m _int\u001b[38;5;241m.\u001b[39mmake_block(pd_ext_arr, placement\u001b[38;5;241m=\u001b[39mplacement)\n\u001b[1;32m    782\u001b[0m \u001b[38;5;28;01melse\u001b[39;00m:\n",
      "File \u001b[0;32m~/miniconda3/envs/aging/lib/python3.10/site-packages/pandas/core/arrays/string_.py:229\u001b[0m, in \u001b[0;36mStringDtype.__from_arrow__\u001b[0;34m(self, array)\u001b[0m\n\u001b[1;32m    227\u001b[0m     arr \u001b[38;5;241m=\u001b[39m np\u001b[38;5;241m.\u001b[39marray([], dtype\u001b[38;5;241m=\u001b[39m\u001b[38;5;28mobject\u001b[39m)\n\u001b[1;32m    228\u001b[0m \u001b[38;5;28;01melse\u001b[39;00m:\n\u001b[0;32m--> 229\u001b[0m     arr \u001b[38;5;241m=\u001b[39m \u001b[43mpyarrow\u001b[49m\u001b[38;5;241;43m.\u001b[39;49m\u001b[43mconcat_arrays\u001b[49m\u001b[43m(\u001b[49m\u001b[43mchunks\u001b[49m\u001b[43m)\u001b[49m\u001b[38;5;241m.\u001b[39mto_numpy(zero_copy_only\u001b[38;5;241m=\u001b[39m\u001b[38;5;28;01mFalse\u001b[39;00m)\n\u001b[1;32m    230\u001b[0m     arr \u001b[38;5;241m=\u001b[39m ensure_string_array(arr, na_value\u001b[38;5;241m=\u001b[39mlibmissing\u001b[38;5;241m.\u001b[39mNA)\n\u001b[1;32m    231\u001b[0m \u001b[38;5;66;03m# Bypass validation inside StringArray constructor, see GH#47781\u001b[39;00m\n",
      "File \u001b[0;32m~/miniconda3/envs/aging/lib/python3.10/site-packages/pyarrow/array.pxi:3321\u001b[0m, in \u001b[0;36mpyarrow.lib.concat_arrays\u001b[0;34m()\u001b[0m\n",
      "File \u001b[0;32m~/miniconda3/envs/aging/lib/python3.10/site-packages/pyarrow/error.pxi:144\u001b[0m, in \u001b[0;36mpyarrow.lib.pyarrow_internal_check_status\u001b[0;34m()\u001b[0m\n",
      "File \u001b[0;32m~/miniconda3/envs/aging/lib/python3.10/site-packages/pyarrow/error.pxi:100\u001b[0m, in \u001b[0;36mpyarrow.lib.check_status\u001b[0;34m()\u001b[0m\n",
      "\u001b[0;31mArrowInvalid\u001b[0m: offset overflow while concatenating arrays"
     ]
    }
   ],
   "source": [
    "version = 5\n",
    "data_folder = Path(\n",
    "    f\"/n/groups/datta/win/longtogeny/data/ontogeny/version_{version:02d}\"\n",
    ")\n",
    "path = data_folder / \"longtogeny_males_syllable_df_v00.parquet\"\n",
    "df = pd.read_parquet(path)\n",
    "\n",
    "\n",
    "## get syllable maps from male ontogeny\n",
    "def get_usage_map():\n",
    "    _, usage_map = relabel_by_usage(\n",
    "        pd.read_parquet(data_folder / \"ontogeny_males_syllable_df_v00.parquet\"),\n",
    "        return_map=True,\n",
    "    )\n",
    "    return usage_map\n",
    "\n",
    "\n",
    "df = assign_onsets(df)\n",
    "df[\"relabeled_syllables\"] = (\n",
    "    df[\"syllables\"].map(get_usage_map()).astype(\"int16[pyarrow]\")\n",
    ")"
   ]
  },
  {
   "cell_type": "code",
   "execution_count": null,
   "id": "378289b0-5804-4cc1-b0eb-d06ad4055fe3",
   "metadata": {
    "tags": []
   },
   "outputs": [],
   "source": [
    "# calculate age for males\n",
    "first = pd.Timestamp(year=2021, month=3, day=30)\n",
    "age = (df.date - first).dt.days + 21\n",
    "df.age = age\n",
    "df[\"age\"] = df[\"age\"].astype(\"int32[pyarrow]\")"
   ]
  },
  {
   "cell_type": "markdown",
   "id": "d446a52e-4eb3-44a6-b0e9-1c15da31e045",
   "metadata": {
    "tags": []
   },
   "source": [
    "## manual curations"
   ]
  },
  {
   "cell_type": "code",
   "execution_count": null,
   "id": "8a375a8a-140b-4a80-8d19-b34353255199",
   "metadata": {
    "tags": []
   },
   "outputs": [],
   "source": [
    "# replace a time stamp where mouse 04_03 is accidently marked as 03_03\n",
    "t1 = pd.Timestamp(\"2021-04-03 17:46:45\")\n",
    "df.loc[df.date == t1, \"subject_name\"] = \"04_03_025\""
   ]
  },
  {
   "cell_type": "code",
   "execution_count": null,
   "id": "c419f354-0d0e-4888-85e0-c3de07f4c439",
   "metadata": {
    "tags": []
   },
   "outputs": [],
   "source": [
    "# remove session copies that i think are females - and save in a diff dataframe\n",
    "# have the same date but different sessions number - 60 instead of 102\n",
    "\n",
    "fsessions = [\n",
    "    pd.Timestamp(\"2021-10-01 15:47:32\"),\n",
    "    pd.Timestamp(\"2021-10-01 16:46:10\"),\n",
    "    pd.Timestamp(\"2021-10-01 17:22:43\"),\n",
    "    pd.Timestamp(\"2021-10-01 16:17:56\"),\n",
    "    pd.Timestamp(\"2021-10-01 17:50:37\"),\n",
    "]\n",
    "extra_females = df[df.date.isin(fsessions)]\n",
    "extra_females.to_parquet(\n",
    "    data_folder / \"longtogeny_extra_females.parquet\", engine=\"pyarrow\"\n",
    ")"
   ]
  },
  {
   "cell_type": "code",
   "execution_count": null,
   "id": "c3868dc7-5fd1-4fdf-ac82-ad68c14d9fbb",
   "metadata": {
    "tags": []
   },
   "outputs": [],
   "source": [
    "session_length = df.groupby(\"uuid\", sort=False)[\"timestamps\"].max()"
   ]
  },
  {
   "cell_type": "code",
   "execution_count": null,
   "id": "4d1c0a0c-8c44-4994-9765-ce8960e2485d",
   "metadata": {
    "tags": []
   },
   "outputs": [],
   "source": [
    "keep_uuids = session_length[session_length.between(600, 1250)].index\n",
    "df = df[~df.date.isin(fsessions) & df[\"uuid\"].isin(keep_uuids)].copy()"
   ]
  },
  {
   "cell_type": "code",
   "execution_count": null,
   "id": "b1a17b3b-921c-49cc-80a6-6e9613c6d36e",
   "metadata": {
    "tags": []
   },
   "outputs": [],
   "source": [
    "# clean up the data by removing short sessions\n",
    "session_length.hist()"
   ]
  },
  {
   "cell_type": "code",
   "execution_count": null,
   "id": "895012f0-842f-46a4-8924-1a5129731436",
   "metadata": {
    "tags": []
   },
   "outputs": [],
   "source": [
    "# after removing sessions\n",
    "session_length = df.groupby(\"uuid\", sort=False)[\"timestamps\"].max()\n",
    "session_length.hist()"
   ]
  },
  {
   "cell_type": "markdown",
   "id": "df12ce3c-d455-49ec-a104-5c230f8defda",
   "metadata": {},
   "source": [
    "## get mouse names"
   ]
  },
  {
   "cell_type": "code",
   "execution_count": null,
   "id": "a4091699-397a-4a7f-aed0-8bc97134f041",
   "metadata": {
    "tags": []
   },
   "outputs": [],
   "source": [
    "# calculate mouse identity\n",
    "df[\"mouse\"] = df[\"subject_name\"].str.lower().map(mouse_map)"
   ]
  },
  {
   "cell_type": "code",
   "execution_count": null,
   "id": "44727a2e-c9c6-40de-8eaf-30dfd57b156b",
   "metadata": {
    "tags": []
   },
   "outputs": [],
   "source": [
    "np.sort(df[\"mouse\"].unique())"
   ]
  },
  {
   "cell_type": "code",
   "execution_count": null,
   "id": "f38e9a0d-7edb-4f0c-b658-4635fa8e0749",
   "metadata": {
    "tags": []
   },
   "outputs": [],
   "source": [
    "## keep only mice that are part of the male experiment\n",
    "df = df[(df[\"mouse\"] != \"\") & ~df[\"date\"].isin(exclude_dates)].reset_index()"
   ]
  },
  {
   "cell_type": "code",
   "execution_count": null,
   "id": "394d459f-e40e-492a-bc7d-41401bf361e4",
   "metadata": {
    "tags": []
   },
   "outputs": [],
   "source": [
    "# calculate usage\n",
    "usage_df = (\n",
    "    df.query(\"onsets\")\n",
    "    .groupby([\"age\", \"uuid\", \"mouse\", \"subject_name\", \"date\"])[\"relabeled_syllables\"]\n",
    "    .value_counts(normalize=True)\n",
    ")\n",
    "usage_df.name = \"usage\"\n",
    "usage_df = usage_df.reset_index()"
   ]
  },
  {
   "cell_type": "code",
   "execution_count": null,
   "id": "94adf321-2862-4031-b205-f860131e79e3",
   "metadata": {
    "tags": []
   },
   "outputs": [],
   "source": [
    "## remove sessions were a syllable occours more than x% of time\n",
    "thresh = 0.2\n",
    "syll_usage = usage_df.groupby(\"uuid\", sort=False)[\"usage\"].max()\n",
    "remove_uuids = syll_usage[syll_usage > thresh].to_frame().reset_index()[\"uuid\"]\n",
    "usage_df = usage_df[~usage_df[\"uuid\"].isin(remove_uuids)]"
   ]
  },
  {
   "cell_type": "code",
   "execution_count": null,
   "id": "f0f6aa46-61ac-46c6-b67e-8d30a4aa0d5a",
   "metadata": {
    "tags": []
   },
   "outputs": [],
   "source": [
    "df = df[~df[\"uuid\"].isin(remove_uuids)].copy()"
   ]
  },
  {
   "cell_type": "markdown",
   "id": "7cab8c9e-9fb1-45a1-a92a-509310c66a7b",
   "metadata": {},
   "source": [
    "## Compute just usage"
   ]
  },
  {
   "cell_type": "code",
   "execution_count": null,
   "id": "89966f2e-c2c0-42cb-a40b-d7c19c77a3a1",
   "metadata": {
    "tags": []
   },
   "outputs": [],
   "source": [
    "# calculate usage\n",
    "usage_df = (\n",
    "    df.query(\"onsets\")\n",
    "    .groupby([\"age\", \"uuid\", \"mouse\", \"subject_name\", \"date\"])[\"relabeled_syllables\"]\n",
    "    .value_counts(normalize=True)\n",
    ")\n",
    "usage_df.name = \"usage\"\n",
    "usage_df = usage_df.reset_index()"
   ]
  },
  {
   "cell_type": "code",
   "execution_count": null,
   "id": "e62a6bc6-6ef3-4353-8af4-ed2194c46acd",
   "metadata": {
    "tags": []
   },
   "outputs": [],
   "source": [
    "# find ages where less than 9 data points exists and filter them out (not sure we want that)\n",
    "temp = (\n",
    "    usage_df.pivot_table(\n",
    "        values=\"usage\",\n",
    "        columns=\"relabeled_syllables\",\n",
    "        index=[\"age\", \"uuid\", \"subject_name\", \"date\"],\n",
    "    )\n",
    "    .fillna(0)\n",
    "    .reset_index()\n",
    ")"
   ]
  },
  {
   "cell_type": "code",
   "execution_count": 5,
   "id": "b6dca552-6294-4468-b0c1-6403e25efde3",
   "metadata": {
    "tags": []
   },
   "outputs": [
    {
     "ename": "NameError",
     "evalue": "name 'temp' is not defined",
     "output_type": "error",
     "traceback": [
      "\u001b[0;31m---------------------------------------------------------------------------\u001b[0m",
      "\u001b[0;31mNameError\u001b[0m                                 Traceback (most recent call last)",
      "Cell \u001b[0;32mIn[5], line 1\u001b[0m\n\u001b[0;32m----> 1\u001b[0m \u001b[43mtemp\u001b[49m\u001b[38;5;241m.\u001b[39mgroupby(\u001b[38;5;124m\"\u001b[39m\u001b[38;5;124mage\u001b[39m\u001b[38;5;124m\"\u001b[39m)[\u001b[38;5;124m\"\u001b[39m\u001b[38;5;124mage\u001b[39m\u001b[38;5;124m\"\u001b[39m]\u001b[38;5;241m.\u001b[39mcount()\u001b[38;5;241m.\u001b[39mplot()\n",
      "\u001b[0;31mNameError\u001b[0m: name 'temp' is not defined"
     ]
    }
   ],
   "source": [
    "temp.groupby(\"age\")[\"age\"].count().plot()"
   ]
  },
  {
   "cell_type": "code",
   "execution_count": 23,
   "id": "38ad8c02-fce7-47bc-b489-cb6096fa6c10",
   "metadata": {
    "tags": []
   },
   "outputs": [],
   "source": [
    "# counter = Counter(temp[\"age\"])\n",
    "# thresh = 9\n",
    "# remove_sessions = [k for k, v in counter.items() if v < thresh]\n",
    "# usage_df = usage_df[~usage_df[\"age\"].isin(remove_sessions)]"
   ]
  },
  {
   "cell_type": "code",
   "execution_count": 71,
   "id": "e3ac80ce-a6f0-4fda-8641-95ac3506dd94",
   "metadata": {
    "tags": []
   },
   "outputs": [],
   "source": [
    "# define cage\n",
    "usage_df[\"cage\"] = usage_df.mouse.str[:2]"
   ]
  },
  {
   "cell_type": "markdown",
   "id": "e9e1de5e-1032-4700-83ce-578906f9d3a7",
   "metadata": {},
   "source": [
    "# some tests"
   ]
  },
  {
   "cell_type": "code",
   "execution_count": 72,
   "id": "e9265c01-38f3-412d-b6db-bdeef6b144de",
   "metadata": {
    "tags": []
   },
   "outputs": [
    {
     "name": "stdout",
     "output_type": "stream",
     "text": [
      "relabeled_syllables subject_name  age                date\n",
      "27                     04_02_023   23 2021-04-01 16:54:55\n",
      "28                     02_02_023   23 2021-04-01 15:28:56\n",
      "29                      01_01_23   23 2021-04-01 14:48:07\n",
      "30                      02_01_23   23 2021-04-01 15:28:49\n",
      "31                      03_01_23   23 2021-04-01 16:10:58\n",
      "32                     03_02_023   23 2021-04-01 16:11:07\n",
      "33                     01_02_023   23 2021-04-01 14:48:19\n",
      "34                      04_01_23   23 2021-04-01 16:54:47\n",
      "8\n",
      "relabeled_syllables subject_name  age                date\n",
      "43                     02_01_025   25 2021-04-03 15:52:36\n",
      "44                   01_03_025_1   25 2021-04-03 18:48:02\n",
      "45                   02_02_025_1   25 2021-04-03 18:20:11\n",
      "46                     04_01_025   25 2021-04-03 17:46:19\n",
      "47                     02_04_025   25 2021-04-03 15:52:59\n",
      "48                     04_02_025   25 2021-04-03 17:46:30\n",
      "49                     04_03_025   25 2021-04-03 17:46:45\n",
      "50                     01_02_025   25 2021-04-03 14:40:00\n",
      "51                     01_01_025   25 2021-04-03 14:39:28\n",
      "52                     03_04_025   25 2021-04-03 16:32:39\n",
      "53                     01_04_025   25 2021-04-03 14:40:35\n",
      "54                   02_03_025_1   25 2021-04-03 18:23:20\n",
      "55                   03_03_025_1   25 2021-04-03 19:10:03\n",
      "56                     04_04_025   25 2021-04-03 17:47:02\n",
      "57                     03_01_025   25 2021-04-03 16:29:43\n",
      "58                     03_02_025   25 2021-04-03 16:34:36\n",
      "16\n",
      "relabeled_syllables subject_name  age                date\n",
      "115                     04_03_30   30 2021-04-08 18:23:43\n",
      "116                     02_03_30   30 2021-04-08 17:13:03\n",
      "117                    01_01_030   30 2021-04-08 16:29:44\n",
      "118                    03_01_030   30 2021-04-08 17:48:50\n",
      "119                    01_04_030   30 2021-04-08 16:28:35\n",
      "120                    02_01_030   30 2021-04-08 17:13:25\n",
      "121                     01_03_30   30 2021-04-08 16:29:00\n",
      "122                    03_04_030   30 2021-04-08 17:48:23\n",
      "123                    04_04_030   30 2021-04-08 18:23:33\n",
      "124                     03_03_30   30 2021-04-08 17:48:33\n",
      "125                    04_01_030   30 2021-04-08 18:24:02\n",
      "126                    02_04_030   30 2021-04-08 17:12:56\n",
      "12\n",
      "relabeled_syllables subject_name  age                date\n",
      "275                    01_03_040   73 2021-05-21 15:03:28\n",
      "276                    03_01_040   73 2021-05-21 16:18:11\n",
      "277                    02_01_040   73 2021-05-21 15:45:25\n",
      "278                    03_02_040   73 2021-05-21 16:18:03\n",
      "279                    04_02_040   73 2021-05-21 16:51:43\n",
      "280                     03_04_04   73 2021-05-21 16:17:28\n",
      "281                    01_02_040   73 2021-05-21 15:01:03\n",
      "282                    01_01_040   73 2021-05-21 15:16:48\n",
      "283                    02_02_040   73 2021-05-21 15:45:19\n",
      "284                    03_03_040   73 2021-05-21 16:21:27\n",
      "285                     04_04_04   73 2021-05-21 16:51:27\n",
      "286                    02_03_040   73 2021-05-21 17:17:38\n",
      "287                     02_04_04   73 2021-05-21 15:45:06\n",
      "288                     01_04_04   73 2021-05-21 15:02:13\n",
      "289                    04_03_040   73 2021-05-21 16:51:36\n",
      "290                    04_01_040   73 2021-05-21 16:51:16\n",
      "16\n",
      "relabeled_syllables subject_name  age                date\n",
      "437                    03_02_060  121 2021-07-08 16:53:12\n",
      "438                    01_02_060  121 2021-07-08 15:52:54\n",
      "439                     03_04_60  121 2021-07-08 16:53:00\n",
      "440                    04_02_060  121 2021-07-08 17:19:51\n",
      "441                    04_01_060  121 2021-07-08 17:19:28\n",
      "442                    02_02_060  121 2021-07-08 16:25:13\n",
      "443                    02_01_060  121 2021-07-08 16:25:21\n",
      "444                    01_03_060  121 2021-07-08 15:54:35\n",
      "445                     01_04_60  121 2021-07-08 15:54:25\n",
      "446                     04_04_60  121 2021-07-08 17:19:34\n",
      "447                    01_01_060  121 2021-07-08 15:54:18\n",
      "448                    03_03_060  121 2021-07-08 16:53:05\n",
      "449                     02_04_60  121 2021-07-08 16:24:58\n",
      "450                    03_01_060  121 2021-07-08 16:52:56\n",
      "451                    04_03_060  121 2021-07-08 17:19:42\n",
      "452                    02_03_060  121 2021-07-08 16:25:04\n",
      "16\n",
      "relabeled_syllables subject_name  age                date\n",
      "484                    01_04_080  143 2021-07-30 14:13:02\n",
      "485                    03_04_080  143 2021-07-30 15:43:00\n",
      "486                     04_01_80  143 2021-07-30 16:12:11\n",
      "487                     03_01_80  143 2021-07-30 15:43:28\n",
      "488                    02_04_080  143 2021-07-30 15:14:48\n",
      "489                    03_02_080  143 2021-07-30 15:43:21\n",
      "490                    02_02_080  143 2021-07-30 15:15:00\n",
      "491                    04_02_080  143 2021-07-30 16:12:02\n",
      "492                    01_02_080  143 2021-07-30 14:13:41\n",
      "493                     01_01_80  143 2021-07-30 14:13:57\n",
      "494                    04_04_080  143 2021-07-30 16:11:45\n",
      "495                     02_01_80  143 2021-07-30 15:15:06\n",
      "12\n"
     ]
    }
   ],
   "source": [
    "# figure out if male and female data mixed by checking if for similar age we have a different session number\n",
    "# calculate usage\n",
    "temp = (\n",
    "    usage_df.pivot_table(\n",
    "        values=\"usage\",\n",
    "        columns=\"relabeled_syllables\",\n",
    "        index=[\"age\", \"uuid\", \"subject_name\", \"date\"],\n",
    "    )\n",
    "    .fillna(0)\n",
    "    .reset_index()\n",
    ")\n",
    "\n",
    "ages = temp.age.unique()\n",
    "for age in ages:\n",
    "    curr = temp[temp.age == age]\n",
    "    sessions = curr.subject_name.str[-3:]  # get session number\n",
    "    if len(sessions.unique()) > 1:  # if the same age has different session numbers\n",
    "        curr_print = curr[[\"subject_name\", \"age\", \"date\"]]\n",
    "        print(curr_print)\n",
    "        print(len(curr_print))"
   ]
  },
  {
   "cell_type": "code",
   "execution_count": 73,
   "id": "5ad0678a-2419-42db-aebb-ef378e2a83f9",
   "metadata": {
    "tags": []
   },
   "outputs": [
    {
     "data": {
      "text/plain": [
       "Counter({25: 16,\n",
       "         27: 16,\n",
       "         48: 16,\n",
       "         55: 16,\n",
       "         58: 16,\n",
       "         66: 16,\n",
       "         73: 16,\n",
       "         76: 16,\n",
       "         84: 16,\n",
       "         87: 16,\n",
       "         90: 16,\n",
       "         93: 16,\n",
       "         97: 16,\n",
       "         107: 16,\n",
       "         114: 16,\n",
       "         121: 16,\n",
       "         128: 16,\n",
       "         157: 16,\n",
       "         183: 16,\n",
       "         194: 16,\n",
       "         199: 16,\n",
       "         206: 16,\n",
       "         215: 16,\n",
       "         21: 15,\n",
       "         42: 15,\n",
       "         45: 15,\n",
       "         62: 15,\n",
       "         70: 15,\n",
       "         135: 15,\n",
       "         165: 15,\n",
       "         221: 15,\n",
       "         228: 15,\n",
       "         250: 15,\n",
       "         270: 15,\n",
       "         26: 14,\n",
       "         28: 14,\n",
       "         80: 14,\n",
       "         149: 14,\n",
       "         243: 14,\n",
       "         285: 14,\n",
       "         385: 14,\n",
       "         404: 14,\n",
       "         449: 14,\n",
       "         460: 14,\n",
       "         32: 13,\n",
       "         376: 13,\n",
       "         395: 13,\n",
       "         418: 13,\n",
       "         488: 13,\n",
       "         802: 13,\n",
       "         22: 12,\n",
       "         29: 12,\n",
       "         30: 12,\n",
       "         143: 12,\n",
       "         360: 12,\n",
       "         381: 12,\n",
       "         411: 12,\n",
       "         431: 12,\n",
       "         468: 12,\n",
       "         492: 12,\n",
       "         31: 11,\n",
       "         354: 11,\n",
       "         831: 11,\n",
       "         366: 10,\n",
       "         439: 10,\n",
       "         479: 10,\n",
       "         814: 10,\n",
       "         23: 8,\n",
       "         24: 8,\n",
       "         100: 4,\n",
       "         255: 3})"
      ]
     },
     "execution_count": 73,
     "metadata": {},
     "output_type": "execute_result"
    }
   ],
   "source": [
    "# check number of sessions per age\n",
    "temp = (\n",
    "    usage_df.pivot_table(\n",
    "        values=\"usage\",\n",
    "        columns=\"relabeled_syllables\",\n",
    "        index=[\"age\", \"uuid\", \"subject_name\", \"date\"],\n",
    "    )\n",
    "    .fillna(0)\n",
    "    .reset_index()\n",
    ")\n",
    "counter = Counter(temp[\"age\"])\n",
    "counter"
   ]
  },
  {
   "cell_type": "markdown",
   "id": "ba8b72f9-0aa7-49af-aad6-655306e6262d",
   "metadata": {},
   "source": [
    "## exclude uuids"
   ]
  },
  {
   "cell_type": "markdown",
   "id": "295045c0-6bc6-4fc4-bb59-c0761fa28578",
   "metadata": {},
   "source": [
    "## save dataframe"
   ]
  },
  {
   "cell_type": "code",
   "execution_count": 25,
   "id": "dffa0be8-490e-4680-b3ad-2c263c4ef4e6",
   "metadata": {
    "tags": []
   },
   "outputs": [],
   "source": [
    "usage_mtx = usage_df.pivot_table(\n",
    "    values=\"usage\",\n",
    "    columns=\"relabeled_syllables\",\n",
    "    index=[\"age\", \"mouse\", \"cage\", \"uuid\", \"subject_name\", \"date\"],\n",
    ").fillna(0)\n",
    "usage_mtx.to_parquet(data_folder / \"longtogeny_males_clean.parquet\", engine=\"pyarrow\")"
   ]
  },
  {
   "cell_type": "markdown",
   "id": "ae5b2884-80cd-4464-b8d4-95cb4389c448",
   "metadata": {},
   "source": [
    "## Compute within-session usage dynamics"
   ]
  },
  {
   "cell_type": "code",
   "execution_count": 81,
   "id": "11209075-8857-4443-b0bc-e83f1047111a",
   "metadata": {
    "tags": []
   },
   "outputs": [],
   "source": [
    "bins = np.linspace(0, 1200, 21, dtype=int)\n",
    "\n",
    "df[\"cut1\"] = pd.cut(df[\"timestamps\"], bins[::2], labels=False, include_lowest=True) * 2\n",
    "df[\"cut2\"] = (\n",
    "    pd.cut(df[\"timestamps\"], bins[1::2], labels=False, include_lowest=True) * 2 + 1\n",
    ")\n",
    "\n",
    "usage_dynamics1 = (\n",
    "    df.query(\"onsets\")\n",
    "    .dropna(subset=[\"cut1\"])\n",
    "    .groupby([\"age\", \"mouse\", \"uuid\", \"subject_name\", \"date\", \"cut1\"])[\n",
    "        \"relabeled_syllables\"\n",
    "    ]\n",
    "    .value_counts(normalize=True)\n",
    ")\n",
    "usage_dynamics2 = (\n",
    "    df.query(\"onsets\")\n",
    "    .dropna(subset=[\"cut2\"])\n",
    "    .groupby([\"age\", \"mouse\", \"uuid\", \"subject_name\", \"date\", \"cut2\"])[\n",
    "        \"relabeled_syllables\"\n",
    "    ]\n",
    "    .value_counts(normalize=True)\n",
    ")\n",
    "\n",
    "usage_dynamics1.index.rename(\"bin\", level=\"cut1\", inplace=True)\n",
    "usage_dynamics2.index.rename(\"bin\", level=\"cut2\", inplace=True)\n",
    "\n",
    "combined = pd.concat([usage_dynamics1, usage_dynamics2])\n",
    "combined.name = \"usage\"\n",
    "combined = combined.reset_index()\n",
    "usage_mtx = combined.pivot_table(\n",
    "    values=\"usage\",\n",
    "    columns=[\"relabeled_syllables\", \"bin\"],\n",
    "    index=[\"age\", \"mouse\", \"uuid\", \"subject_name\", \"date\"],\n",
    ").fillna(0)"
   ]
  },
  {
   "cell_type": "code",
   "execution_count": 82,
   "id": "22186692-f9fe-4b9f-ac40-bd7309d091fa",
   "metadata": {
    "tags": []
   },
   "outputs": [],
   "source": [
    "usage_mtx.to_parquet(\n",
    "    data_folder / \"longtogeny_males_session_dynamics_clean.parquet\", engine=\"pyarrow\"\n",
    ")"
   ]
  },
  {
   "cell_type": "code",
   "execution_count": null,
   "id": "c878ed5c-fea8-4ae6-ab31-eab67e364272",
   "metadata": {},
   "outputs": [],
   "source": []
  }
 ],
 "metadata": {
  "kernelspec": {
   "display_name": "Ontogeny",
   "language": "python",
   "name": "aging"
  },
  "language_info": {
   "codemirror_mode": {
    "name": "ipython",
    "version": 3
   },
   "file_extension": ".py",
   "mimetype": "text/x-python",
   "name": "python",
   "nbconvert_exporter": "python",
   "pygments_lexer": "ipython3",
   "version": "3.10.10"
  },
  "widgets": {
   "application/vnd.jupyter.widget-state+json": {
    "state": {},
    "version_major": 2,
    "version_minor": 0
   }
  }
 },
 "nbformat": 4,
 "nbformat_minor": 5
}
