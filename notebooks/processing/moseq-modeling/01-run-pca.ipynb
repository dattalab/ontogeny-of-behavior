{
 "cells": [
  {
   "cell_type": "markdown",
   "id": "d7830abe-f1b2-41a6-9e5c-e15c2ea1f9cd",
   "metadata": {},
   "source": [
    "# Run PCA on ontogeny dataset"
   ]
  },
  {
   "cell_type": "code",
   "execution_count": 1,
   "id": "bf66908b-f06e-491f-b004-3c17cf5b9fa9",
   "metadata": {},
   "outputs": [],
   "source": [
    "paths = [\n",
    "    '/n/groups/datta/win/longtogeny/data/ontogeny',\n",
    "]"
   ]
  },
  {
   "cell_type": "code",
   "execution_count": 4,
   "id": "49f8a388-52ed-4a21-86eb-f6ce78751134",
   "metadata": {
    "tags": []
   },
   "outputs": [],
   "source": [
    "frames_key = \"win_size_norm_frames_v4\"\n",
    "version = 4\n",
    "\n",
    "# set environment variables for bash scripts below\n",
    "%env FRAMES_KEY=$frames_key\n",
    "%env VERSION=$version"
   ]
  },
  {
   "cell_type": "markdown",
   "id": "117c840a-f9c3-445b-b988-aee01a8bac16",
   "metadata": {},
   "source": [
    "## Ontogeny"
   ]
  },
  {
   "cell_type": "code",
   "execution_count": 3,
   "id": "ae6572e5-675a-4f97-ac18-5adf2c3a4030",
   "metadata": {
    "tags": []
   },
   "outputs": [
    {
     "name": "stdout",
     "output_type": "stream",
     "text": [
      "Hello from o2\n"
     ]
    },
    {
     "name": "stderr",
     "output_type": "stream",
     "text": [
      "100%|██████████| 48/48 [00:00<00:00, 114.21it/s]\n"
     ]
    },
    {
     "name": "stdout",
     "output_type": "stream",
     "text": [
      "Access dask dashboard at http://localhost:8787\n"
     ]
    },
    {
     "name": "stderr",
     "output_type": "stream",
     "text": [
      "Intializing workers: 100%|██████████| 13/13 [02:10<00:00, 10.04s/it]\n"
     ]
    },
    {
     "name": "stdout",
     "output_type": "stream",
     "text": [
      "Processing 2587906 total frames\n",
      "Cleaning frames...\n",
      "\n",
      "Computing SVD...\n",
      "[########################################] | 100% Completed |  1min  1.3s\n",
      "Calculation complete...\n"
     ]
    }
   ],
   "source": [
    "%%bash\n",
    "# ontogeny\n",
    "printf -v VER \"%02d\" $VERSION\n",
    "source $HOME/.bashrc\n",
    "conda activate moseq2-app\n",
    "moseq2-pca train-pca \\\n",
    "    -i /n/groups/datta/win/longtogeny/data/ontogeny/version_${VER}/training_data \\\n",
    "    -o /n/groups/datta/win/longtogeny/data/ontogeny/version_${VER}/_pca \\\n",
    "    --h5-path ${FRAMES_KEY} --timeout 10 -n 13 -w 00:20:00 -m 10GB \\\n",
    "    -q short --cluster-type slurm --dask-cache-path /n/scratch3/users/w/wg41/tmp \\\n",
    "    --gaussfilter-space 1 0.75 --tailfilter-size 5 5 --rank 20 "
   ]
  },
  {
   "cell_type": "code",
   "execution_count": 6,
   "id": "8ca30753-a269-462a-9b74-89f59fc3f689",
   "metadata": {
    "tags": []
   },
   "outputs": [
    {
     "name": "stdout",
     "output_type": "stream",
     "text": [
      "Hello from o2\n",
      "Loading PCs from /n/groups/datta/win/longtogeny/data/ontogeny/version_04/_pca/pca.h5\n",
      "Access dask dashboard at http://localhost:8787\n"
     ]
    },
    {
     "name": "stderr",
     "output_type": "stream",
     "text": [
      "Intializing workers: 100%|██████████| 7/7 [00:46<00:00,  6.59s/it]\n",
      "Loading Data: 100%|██████████| 48/48 [00:01<00:00, 29.68it/s]\n",
      "Computing scores in batches: 100%|██████████| 7/7 [02:39<00:00, 22.78s/it]\n"
     ]
    }
   ],
   "source": [
    "%%bash\n",
    "# ontogeny\n",
    "printf -v VER \"%02d\" $VERSION\n",
    "source $HOME/.bashrc\n",
    "conda activate moseq2-app\n",
    "moseq2-pca apply-pca \\\n",
    "    -i /n/groups/datta/win/longtogeny/data/ontogeny/version_${VER}/training_data \\\n",
    "    -o /n/groups/datta/win/longtogeny/data/ontogeny/version_${VER}/_pca \\\n",
    "    --h5-path ${FRAMES_KEY} --timeout 10 -n 7 -w 00:15:00 -m 10GB \\\n",
    "    -q short --cluster-type slurm --dask-cache-path /n/scratch3/users/w/wg41/tmp"
   ]
  },
  {
   "cell_type": "code",
   "execution_count": null,
   "id": "9c7f433e-74e1-4e89-9913-ee8a7402dd98",
   "metadata": {},
   "outputs": [],
   "source": []
  }
 ],
 "metadata": {
  "kernelspec": {
   "display_name": "Ontogeny",
   "language": "python",
   "name": "aging"
  },
  "language_info": {
   "codemirror_mode": {
    "name": "ipython",
    "version": 3
   },
   "file_extension": ".py",
   "mimetype": "text/x-python",
   "name": "python",
   "nbconvert_exporter": "python",
   "pygments_lexer": "ipython3",
   "version": "3.10.10"
  },
  "widgets": {
   "application/vnd.jupyter.widget-state+json": {
    "state": {},
    "version_major": 2,
    "version_minor": 0
   }
  }
 },
 "nbformat": 4,
 "nbformat_minor": 5
}
