{
 "cells": [
  {
   "cell_type": "markdown",
   "id": "d7830abe-f1b2-41a6-9e5c-e15c2ea1f9cd",
   "metadata": {},
   "source": [
    "# Run PCA on ontogeny and longtogeny datasets"
   ]
  },
  {
   "cell_type": "code",
   "execution_count": 2,
   "id": "bf66908b-f06e-491f-b004-3c17cf5b9fa9",
   "metadata": {},
   "outputs": [],
   "source": [
    "paths = [\n",
    "    '/n/groups/datta/win/longtogeny/data/ontogeny',\n",
    "    '/n/groups/datta/win/longtogeny/data/longtogeny'\n",
    "]"
   ]
  },
  {
   "cell_type": "markdown",
   "id": "117c840a-f9c3-445b-b988-aee01a8bac16",
   "metadata": {},
   "source": [
    "## Ontogeny"
   ]
  },
  {
   "cell_type": "code",
   "execution_count": 3,
   "id": "ae6572e5-675a-4f97-ac18-5adf2c3a4030",
   "metadata": {
    "tags": []
   },
   "outputs": [
    {
     "name": "stdout",
     "output_type": "stream",
     "text": [
      "Hello from o2\n"
     ]
    },
    {
     "name": "stderr",
     "output_type": "stream",
     "text": [
      "100%|██████████| 57/57 [00:01<00:00, 44.53it/s]\n"
     ]
    },
    {
     "name": "stdout",
     "output_type": "stream",
     "text": [
      "Access dask dashboard at http://localhost:8787\n"
     ]
    },
    {
     "name": "stderr",
     "output_type": "stream",
     "text": [
      "Intializing workers: 100%|██████████| 13/13 [03:57<00:00, 18.29s/it]\n"
     ]
    },
    {
     "name": "stdout",
     "output_type": "stream",
     "text": [
      "Processing 3071614 total frames\n",
      "Cleaning frames...\n",
      "\n",
      "Computing SVD...\n",
      "[########################################] | 100% Completed |  1min 28.7s\n",
      "Calculation complete...\n"
     ]
    }
   ],
   "source": [
    "%%bash\n",
    "# ontogeny\n",
    "source $HOME/.bashrc\n",
    "conda activate moseq2-app\n",
    "moseq2-pca train-pca -i /n/groups/datta/win/longtogeny/data/ontogeny/version_02/training_data -o /n/groups/datta/win/longtogeny/data/ontogeny/version_02/_pca --h5-path win_size_norm_frames --timeout 10 -n 13 -w 00:20:00 -m 10GB -q short --cluster-type slurm --dask-cache-path /n/scratch3/users/w/wg41/tmp --gaussfilter-space 1 0.75 --tailfilter-size 5 5 --rank 20 "
   ]
  },
  {
   "cell_type": "code",
   "execution_count": 4,
   "id": "8ca30753-a269-462a-9b74-89f59fc3f689",
   "metadata": {
    "tags": []
   },
   "outputs": [
    {
     "name": "stdout",
     "output_type": "stream",
     "text": [
      "Hello from o2\n",
      "Loading PCs from /n/groups/datta/win/longtogeny/data/ontogeny/version_02/_pca/pca.h5\n",
      "Access dask dashboard at http://localhost:8787\n"
     ]
    },
    {
     "name": "stderr",
     "output_type": "stream",
     "text": [
      "Intializing workers: 100%|██████████| 7/7 [01:15<00:00, 10.74s/it]\n",
      "Loading Data: 100%|██████████| 57/57 [00:01<00:00, 30.18it/s]\n",
      "Computing scores in batches: 100%|██████████| 9/9 [03:19<00:00, 22.13s/it]\n"
     ]
    }
   ],
   "source": [
    "%%bash\n",
    "# ontogeny\n",
    "source $HOME/.bashrc\n",
    "conda activate moseq2-app\n",
    "moseq2-pca apply-pca -i /n/groups/datta/win/longtogeny/data/ontogeny/version_02/training_data -o /n/groups/datta/win/longtogeny/data/ontogeny/version_02/_pca --h5-path win_size_norm_frames --timeout 10 -n 7 -w 00:15:00 -m 10GB -q short --cluster-type slurm --dask-cache-path /n/scratch3/users/w/wg41/tmp"
   ]
  },
  {
   "cell_type": "markdown",
   "id": "b312c0b1-32a5-4164-b092-0b5089a363fe",
   "metadata": {},
   "source": [
    "## Longtogeny"
   ]
  },
  {
   "cell_type": "code",
   "execution_count": 3,
   "id": "fd350ba9-65dc-429f-a03e-771b721b0e9d",
   "metadata": {
    "tags": []
   },
   "outputs": [
    {
     "name": "stdout",
     "output_type": "stream",
     "text": [
      "Hello from o2\n"
     ]
    },
    {
     "name": "stderr",
     "output_type": "stream",
     "text": [
      "100%|██████████| 60/60 [00:00<00:00, 113.84it/s]\n"
     ]
    },
    {
     "name": "stdout",
     "output_type": "stream",
     "text": [
      "Access dask dashboard at http://localhost:8787\n"
     ]
    },
    {
     "name": "stderr",
     "output_type": "stream",
     "text": [
      "Intializing workers: 100%|██████████| 13/13 [02:58<00:00, 13.73s/it]\n"
     ]
    },
    {
     "name": "stdout",
     "output_type": "stream",
     "text": [
      "Processing 2140780 total frames\n",
      "Cleaning frames...\n",
      "\n",
      "Computing SVD...\n",
      "[########################################] | 100% Completed | 28.4s\n",
      "Calculation complete...\n"
     ]
    }
   ],
   "source": [
    "%%bash\n",
    "# ontogeny\n",
    "source $HOME/.bashrc\n",
    "conda activate moseq2-app\n",
    "moseq2-pca train-pca -i /n/groups/datta/win/longtogeny/data/longtogeny/version_02/training_data -o /n/groups/datta/win/longtogeny/data/longtogeny/version_02/_pca --h5-path win_size_norm_frames --timeout 10 -n 13 -w 00:25:00 -m 10GB -q short --cluster-type slurm --dask-cache-path /n/scratch3/users/w/wg41/tmp --gaussfilter-space 1 0.75 --tailfilter-size 5 5 --rank 20 "
   ]
  },
  {
   "cell_type": "code",
   "execution_count": 6,
   "id": "e24a3834-a1b8-4f80-a675-37344c45f564",
   "metadata": {
    "tags": []
   },
   "outputs": [
    {
     "name": "stdout",
     "output_type": "stream",
     "text": [
      "Hello from o2\n",
      "Loading PCs from /n/groups/datta/win/longtogeny/data/longtogeny/version_01/_pca/pca.h5\n",
      "Access dask dashboard at http://localhost:8787\n"
     ]
    },
    {
     "name": "stderr",
     "output_type": "stream",
     "text": [
      "Intializing workers: 100%|██████████| 7/7 [00:45<00:00,  6.45s/it]\n",
      "Loading Data: 100%|██████████| 60/60 [00:01<00:00, 37.88it/s]\n",
      "Computing scores in batches: 100%|██████████| 9/9 [01:28<00:00,  9.87s/it]\n"
     ]
    }
   ],
   "source": [
    "%%bash\n",
    "# ontogeny\n",
    "source $HOME/.bashrc\n",
    "conda activate moseq2-app\n",
    "moseq2-pca apply-pca -i /n/groups/datta/win/longtogeny/data/longtogeny/version_02/training_data -o /n/groups/datta/win/longtogeny/data/longtogeny/version_02/_pca --h5-path win_size_norm_frames --timeout 10 -n 7 -w 00:15:00 -m 10GB -q short --cluster-type slurm --dask-cache-path /n/scratch3/users/w/wg41/tmp"
   ]
  },
  {
   "cell_type": "code",
   "execution_count": null,
   "id": "9c7f433e-74e1-4e89-9913-ee8a7402dd98",
   "metadata": {},
   "outputs": [],
   "source": []
  }
 ],
 "metadata": {
  "kernelspec": {
   "display_name": "Ontogeny",
   "language": "python",
   "name": "aging"
  },
  "language_info": {
   "codemirror_mode": {
    "name": "ipython",
    "version": 3
   },
   "file_extension": ".py",
   "mimetype": "text/x-python",
   "name": "python",
   "nbconvert_exporter": "python",
   "pygments_lexer": "ipython3",
   "version": "3.10.10"
  },
  "widgets": {
   "application/vnd.jupyter.widget-state+json": {
    "state": {},
    "version_major": 2,
    "version_minor": 0
   }
  }
 },
 "nbformat": 4,
 "nbformat_minor": 5
}
