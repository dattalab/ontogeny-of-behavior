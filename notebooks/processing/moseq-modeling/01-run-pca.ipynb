{
 "cells": [
  {
   "cell_type": "markdown",
   "id": "d7830abe-f1b2-41a6-9e5c-e15c2ea1f9cd",
   "metadata": {},
   "source": [
    "# Run PCA on ontogeny dataset"
   ]
  },
  {
   "cell_type": "code",
   "execution_count": 1,
   "id": "49f8a388-52ed-4a21-86eb-f6ce78751134",
   "metadata": {
    "tags": []
   },
   "outputs": [
    {
     "name": "stdout",
     "output_type": "stream",
     "text": [
      "env: FRAMES_KEY=win_size_norm_frames_v6\n",
      "env: VERSION=7\n"
     ]
    }
   ],
   "source": [
    "version = 7\n",
    "frames_key = f\"win_size_norm_frames_v{version - 1}\"\n",
    "\n",
    "# set environment variables for bash scripts below\n",
    "%env FRAMES_KEY=$frames_key\n",
    "%env VERSION=$version"
   ]
  },
  {
   "cell_type": "markdown",
   "id": "117c840a-f9c3-445b-b988-aee01a8bac16",
   "metadata": {},
   "source": [
    "## Ontogeny"
   ]
  },
  {
   "cell_type": "code",
   "execution_count": 2,
   "id": "ae6572e5-675a-4f97-ac18-5adf2c3a4030",
   "metadata": {
    "tags": []
   },
   "outputs": [
    {
     "name": "stdout",
     "output_type": "stream",
     "text": [
      "Hello from o2\n",
      "Access dask dashboard at http://localhost:8787\n"
     ]
    },
    {
     "name": "stderr",
     "output_type": "stream",
     "text": [
      "100%|██████████| 168/168 [00:01<00:00, 107.57it/s]\n"
     ]
    },
    {
     "name": "stdout",
     "output_type": "stream",
     "text": [
      "Processing 9058576 total frames\n",
      "Cleaning frames...\n",
      "\n",
      "Computing SVD...\n",
      "[#####################################   ] | 92% Completed |  3min  8.6s"
     ]
    },
    {
     "name": "stderr",
     "output_type": "stream",
     "text": [
      "Intializing workers: 100%|██████████| 20/20 [00:25<00:00,  1.25s/it]\n"
     ]
    },
    {
     "name": "stdout",
     "output_type": "stream",
     "text": [
      "[########################################] | 100% Completed |  4min  7.2s\n",
      "Calculation complete...\n"
     ]
    }
   ],
   "source": [
    "%%bash\n",
    "# ontogeny\n",
    "printf -v VER \"%02d\" $VERSION\n",
    "source $HOME/.bashrc\n",
    "conda activate moseq2-app\n",
    "moseq2-pca train-pca \\\n",
    "    -i /n/groups/datta/win/longtogeny/data/ontogeny/version_${VER}/training_data \\\n",
    "    -o /n/groups/datta/win/longtogeny/data/ontogeny/version_${VER}/_pca \\\n",
    "    --h5-path ${FRAMES_KEY} --timeout 10 -n 20 -w 00:25:00 -m 10GB \\\n",
    "    -q short --cluster-type slurm --dask-cache-path /n/scratch3/users/w/wg41/tmp \\\n",
    "    --gaussfilter-space 1 0.75 --tailfilter-size 5 5 --rank 20 "
   ]
  },
  {
   "cell_type": "code",
   "execution_count": 3,
   "id": "8ca30753-a269-462a-9b74-89f59fc3f689",
   "metadata": {
    "tags": []
   },
   "outputs": [
    {
     "name": "stdout",
     "output_type": "stream",
     "text": [
      "Hello from o2\n",
      "Loading PCs from /n/groups/datta/win/longtogeny/data/ontogeny/version_07/_pca/pca.h5\n",
      "Access dask dashboard at http://localhost:8787\n"
     ]
    },
    {
     "name": "stderr",
     "output_type": "stream",
     "text": [
      "Intializing workers: 100%|██████████| 7/7 [00:37<00:00,  5.30s/it]\n",
      "Loading Data: 100%|██████████| 168/168 [00:04<00:00, 34.08it/s]\n",
      "Computing scores in batches: 100%|██████████| 24/24 [11:43<00:00, 29.31s/it]\n"
     ]
    }
   ],
   "source": [
    "%%bash\n",
    "# ontogeny\n",
    "printf -v VER \"%02d\" $VERSION\n",
    "source $HOME/.bashrc\n",
    "conda activate moseq2-app\n",
    "moseq2-pca apply-pca \\\n",
    "    -i /n/groups/datta/win/longtogeny/data/ontogeny/version_${VER}/training_data \\\n",
    "    -o /n/groups/datta/win/longtogeny/data/ontogeny/version_${VER}/_pca \\\n",
    "    --h5-path ${FRAMES_KEY} --timeout 10 -n 7 -w 00:25:00 -m 10GB \\\n",
    "    -q short --cluster-type slurm --dask-cache-path /n/scratch3/users/w/wg41/tmp"
   ]
  },
  {
   "cell_type": "code",
   "execution_count": null,
   "id": "9c7f433e-74e1-4e89-9913-ee8a7402dd98",
   "metadata": {},
   "outputs": [],
   "source": []
  }
 ],
 "metadata": {
  "kernelspec": {
   "display_name": "Ontogeny",
   "language": "python",
   "name": "aging"
  },
  "language_info": {
   "codemirror_mode": {
    "name": "ipython",
    "version": 3
   },
   "file_extension": ".py",
   "mimetype": "text/x-python",
   "name": "python",
   "nbconvert_exporter": "python",
   "pygments_lexer": "ipython3",
   "version": "3.10.10"
  },
  "widgets": {
   "application/vnd.jupyter.widget-state+json": {
    "state": {},
    "version_major": 2,
    "version_minor": 0
   }
  }
 },
 "nbformat": 4,
 "nbformat_minor": 5
}
