{
 "cells": [
  {
   "cell_type": "markdown",
   "metadata": {},
   "source": [
    "# Code to train ARHMM\n",
    "\n",
    "- find optimal kappa\n",
    "- use kappa to fit full model"
   ]
  },
  {
   "cell_type": "code",
   "execution_count": 1,
   "metadata": {
    "tags": []
   },
   "outputs": [
    {
     "name": "stdout",
     "output_type": "stream",
     "text": [
      "env: XLA_PYTHON_CLIENT_MEM_FRACTION=.5\n"
     ]
    }
   ],
   "source": [
    "%env XLA_PYTHON_CLIENT_MEM_FRACTION=.5\n",
    "from jax.config import config\n",
    "config.update(\"jax_enable_x64\", True)\n",
    "\n",
    "import h5py\n",
    "import joblib\n",
    "import numpy as np\n",
    "from functools import partial\n",
    "from collections import OrderedDict\n",
    "from pathlib import Path\n",
    "from toolz import valmap, valfilter\n",
    "from tqdm.auto import tqdm\n",
    "\n",
    "import jax\n",
    "import jax.numpy as jnp\n",
    "from jax_moseq.models import arhmm\n",
    "from jax_moseq.utils import batch, convert_data_precision"
   ]
  },
  {
   "cell_type": "code",
   "execution_count": 2,
   "metadata": {
    "tags": []
   },
   "outputs": [],
   "source": [
    "def whiten_all(data_dict, center=True):\n",
    "    \"\"\"\n",
    "    Whiten the PC Scores (with Cholesky decomposition) using all the data to compute the covariance matrix.\n",
    "\n",
    "    Args:\n",
    "    data_dict (OrderedDict): Training dataset\n",
    "    center (bool): Indicates whether to center data by subtracting the mean PC score.\n",
    "\n",
    "    Returns:\n",
    "    data_dict (OrderedDict): Whitened training data dictionary\n",
    "    \"\"\"\n",
    "\n",
    "    non_nan = lambda x: x[~np.isnan(np.reshape(x, (x.shape[0], -1))).any(1)]\n",
    "    meancov = lambda x: (x.mean(0), np.cov(x, rowvar=False, bias=1))\n",
    "    contig = partial(np.require, dtype=np.float64, requirements='C')\n",
    "\n",
    "    mu, Sigma = meancov(np.concatenate(list(map(non_nan, data_dict.values()))))\n",
    "    L = np.linalg.cholesky(Sigma)\n",
    "\n",
    "    offset = 0. if center else mu\n",
    "    apply_whitening = lambda x:  np.linalg.solve(L, (x-mu).T).T + offset\n",
    "\n",
    "    return OrderedDict((k, contig(apply_whitening(v))) for k, v in data_dict.items())\n",
    "\n",
    "\n",
    "def concatenate_stateseqs(stateseqs, mask=None):\n",
    "    \"\"\"\n",
    "    Concatenate state sequences, optionally applying a mask.\n",
    "    Parameters\n",
    "    ----------\n",
    "    stateseqs: dict or ndarray, shape (..., t)\n",
    "        Dictionary mapping names to 1d arrays, or a single\n",
    "        multi-dimensional array representing a batch of state sequences\n",
    "        where the last dim indexes time\n",
    "    mask: ndarray, shape (..., >=t), default=None\n",
    "        Binary indicator for which elements of ``stateseqs`` are valid,\n",
    "        e.g. when state sequences of different lengths have been padded.\n",
    "        If ``mask`` contains more time-points than ``stateseqs``, the\n",
    "        initial extra time-points will be ignored.\n",
    "    Returns\n",
    "    -------\n",
    "    stateseqs_flat: ndarray\n",
    "        1d array containing all state sequences \n",
    "    \"\"\"\n",
    "    if isinstance(stateseqs, dict):\n",
    "        stateseq_flat = np.hstack(list(stateseqs.values()))\n",
    "    elif mask is not None:\n",
    "        stateseq_flat = stateseqs[mask[:, -stateseqs.shape[1]:] > 0]\n",
    "    else:\n",
    "        stateseq_flat = stateseqs.flatten()\n",
    "    return stateseq_flat\n",
    "\n",
    "\n",
    "def get_durations(stateseqs, mask=None):\n",
    "    \"\"\"\n",
    "    Get durations for a batch of state sequences. For a more detailed \n",
    "    description of the function parameters, see \n",
    "    :py:func:`keypoint_moseq.util.concatenate_stateseqs`\n",
    "    Parameters\n",
    "    ----------\n",
    "    stateseqs: dict or ndarray of shape (..., t)\n",
    "    mask: ndarray of shape (..., >=t), default=None\n",
    "    Returns\n",
    "    -------\n",
    "    durations: 1d array\n",
    "        The duration of each each state (across all state sequences)\n",
    "    Examples\n",
    "    --------\n",
    "    >>> stateseqs = {\n",
    "        'name1': np.array([1, 1, 2, 2, 2, 3]),\n",
    "        'name2': np.array([0, 0, 0, 1])\n",
    "    }\n",
    "    >>> get_durations(stateseqs)\n",
    "    array([2, 3, 1, 3, 1])\n",
    "    \"\"\"\n",
    "    stateseq_flat = concatenate_stateseqs(stateseqs, mask=mask).astype(int)\n",
    "    stateseq_padded = np.hstack([[-1], stateseq_flat, [-1]])\n",
    "    changepoints = np.diff(stateseq_padded).nonzero()[0]\n",
    "    return changepoints[1:]-changepoints[:-1]"
   ]
  },
  {
   "cell_type": "code",
   "execution_count": 3,
   "metadata": {
    "tags": []
   },
   "outputs": [],
   "source": [
    "folder = Path('/n/groups/datta/win/longtogeny/data/ontogeny/version_03')"
   ]
  },
  {
   "cell_type": "code",
   "execution_count": 4,
   "metadata": {
    "tags": []
   },
   "outputs": [],
   "source": [
    "pca_path = folder / '_pca/pca_scores.h5'\n",
    "\n",
    "with h5py.File(pca_path, 'r') as h5f:\n",
    "    pc_data = {k: h5f['scores'][k][:, :10] for k in h5f['scores']}"
   ]
  },
  {
   "cell_type": "code",
   "execution_count": 5,
   "metadata": {
    "tags": []
   },
   "outputs": [],
   "source": [
    "pc_data = whiten_all(pc_data)"
   ]
  },
  {
   "cell_type": "code",
   "execution_count": 6,
   "metadata": {
    "tags": []
   },
   "outputs": [],
   "source": [
    "nan_threshold = 300  # frames\n",
    "pc_data = valfilter(lambda v: np.isnan(v).any(1).sum() < nan_threshold, pc_data)"
   ]
  },
  {
   "cell_type": "code",
   "execution_count": 7,
   "metadata": {
    "tags": []
   },
   "outputs": [
    {
     "data": {
      "text/plain": [
       "2752092"
      ]
     },
     "execution_count": 7,
     "metadata": {},
     "output_type": "execute_result"
    }
   ],
   "source": [
    "total_frames = sum(map(len, pc_data.values()))\n",
    "total_frames"
   ]
  },
  {
   "cell_type": "code",
   "execution_count": 8,
   "metadata": {
    "tags": []
   },
   "outputs": [],
   "source": [
    "max_frames = 1.5e6\n",
    "frames_per_session = int(max_frames // len(pc_data))"
   ]
  },
  {
   "cell_type": "code",
   "execution_count": 9,
   "metadata": {},
   "outputs": [],
   "source": [
    "pc_data = valmap(lambda v: v[:frames_per_session], pc_data)"
   ]
  },
  {
   "cell_type": "code",
   "execution_count": 10,
   "metadata": {
    "tags": []
   },
   "outputs": [],
   "source": [
    "num_states = 100\n",
    "nlags = 3"
   ]
  },
  {
   "cell_type": "code",
   "execution_count": 11,
   "metadata": {
    "tags": []
   },
   "outputs": [],
   "source": [
    "data = {}\n",
    "data[\"x\"], data[\"mask\"], lbls = batch(pc_data)\n",
    "\n",
    "non_nans = ~jnp.isnan(data['x']).any(-1)\n",
    "mask = [jnp.roll(non_nans, shift) for shift in range(nlags + 1)]\n",
    "mask = jnp.all(jnp.array(mask), axis=0)\n",
    "\n",
    "data['mask'] = jnp.where(mask, data['mask'], 0)\n",
    "del mask\n",
    "del non_nans\n",
    "\n",
    "data['x'] = jnp.where(jnp.isnan(data['x']), 0, data['x'])\n",
    "data = convert_data_precision(data)\n",
    "data['mask'] = data['mask'].astype('int')"
   ]
  },
  {
   "cell_type": "code",
   "execution_count": 12,
   "metadata": {
    "tags": []
   },
   "outputs": [],
   "source": [
    "kappas = np.logspace(5, 8, 9)"
   ]
  },
  {
   "cell_type": "code",
   "execution_count": 13,
   "metadata": {
    "tags": []
   },
   "outputs": [],
   "source": [
    "latent_dim = obs_dim = data['x'].shape[-1]\n",
    "ar_hypparams = {\n",
    "    'S_0_scale': .01,\n",
    "    'K_0_scale': 10,\n",
    "    'num_states': num_states,\n",
    "    'nlags': nlags,\n",
    "    'latent_dim': latent_dim\n",
    "}"
   ]
  },
  {
   "cell_type": "code",
   "execution_count": 14,
   "metadata": {
    "tags": []
   },
   "outputs": [
    {
     "data": {
      "application/vnd.jupyter.widget-view+json": {
       "model_id": "addef698cf5e4e7ab936cafd8bb3b0f3",
       "version_major": 2,
       "version_minor": 0
      },
      "text/plain": [
       "kappa scan:   0%|          | 0/9 [00:00<?, ?it/s]"
      ]
     },
     "metadata": {},
     "output_type": "display_data"
    },
    {
     "name": "stdout",
     "output_type": "stream",
     "text": [
      "ARHMM: Initializing hyperparameters\n",
      "ARHMM: Initializing parameters\n",
      "ARHMM: Initializing states\n"
     ]
    },
    {
     "data": {
      "application/vnd.jupyter.widget-view+json": {
       "model_id": "0b2abcfc5e6942aca69a6d841beacba0",
       "version_major": 2,
       "version_minor": 0
      },
      "text/plain": [
       "  0%|          | 0/35 [00:00<?, ?it/s]"
      ]
     },
     "metadata": {},
     "output_type": "display_data"
    },
    {
     "name": "stdout",
     "output_type": "stream",
     "text": [
      "ARHMM: Initializing hyperparameters\n",
      "ARHMM: Initializing parameters\n",
      "ARHMM: Initializing states\n"
     ]
    },
    {
     "data": {
      "application/vnd.jupyter.widget-view+json": {
       "model_id": "9bcb82b8071a486995645bf733251db7",
       "version_major": 2,
       "version_minor": 0
      },
      "text/plain": [
       "  0%|          | 0/35 [00:00<?, ?it/s]"
      ]
     },
     "metadata": {},
     "output_type": "display_data"
    },
    {
     "name": "stdout",
     "output_type": "stream",
     "text": [
      "ARHMM: Initializing hyperparameters\n",
      "ARHMM: Initializing parameters\n",
      "ARHMM: Initializing states\n"
     ]
    },
    {
     "data": {
      "application/vnd.jupyter.widget-view+json": {
       "model_id": "49383f7bc8e442888ccd3a7e8ca8197b",
       "version_major": 2,
       "version_minor": 0
      },
      "text/plain": [
       "  0%|          | 0/35 [00:00<?, ?it/s]"
      ]
     },
     "metadata": {},
     "output_type": "display_data"
    },
    {
     "name": "stdout",
     "output_type": "stream",
     "text": [
      "ARHMM: Initializing hyperparameters\n",
      "ARHMM: Initializing parameters\n",
      "ARHMM: Initializing states\n"
     ]
    },
    {
     "data": {
      "application/vnd.jupyter.widget-view+json": {
       "model_id": "563c8d98e3eb48d6ab326f18ea8eb269",
       "version_major": 2,
       "version_minor": 0
      },
      "text/plain": [
       "  0%|          | 0/35 [00:00<?, ?it/s]"
      ]
     },
     "metadata": {},
     "output_type": "display_data"
    },
    {
     "name": "stdout",
     "output_type": "stream",
     "text": [
      "ARHMM: Initializing hyperparameters\n",
      "ARHMM: Initializing parameters\n",
      "ARHMM: Initializing states\n"
     ]
    },
    {
     "data": {
      "application/vnd.jupyter.widget-view+json": {
       "model_id": "4e7d4701949040acae481c3d8ccf683a",
       "version_major": 2,
       "version_minor": 0
      },
      "text/plain": [
       "  0%|          | 0/35 [00:00<?, ?it/s]"
      ]
     },
     "metadata": {},
     "output_type": "display_data"
    },
    {
     "name": "stdout",
     "output_type": "stream",
     "text": [
      "ARHMM: Initializing hyperparameters\n",
      "ARHMM: Initializing parameters\n",
      "ARHMM: Initializing states\n"
     ]
    },
    {
     "data": {
      "application/vnd.jupyter.widget-view+json": {
       "model_id": "5e0c865ae59943a093c94983b04bdce1",
       "version_major": 2,
       "version_minor": 0
      },
      "text/plain": [
       "  0%|          | 0/35 [00:00<?, ?it/s]"
      ]
     },
     "metadata": {},
     "output_type": "display_data"
    },
    {
     "name": "stdout",
     "output_type": "stream",
     "text": [
      "ARHMM: Initializing hyperparameters\n",
      "ARHMM: Initializing parameters\n",
      "ARHMM: Initializing states\n"
     ]
    },
    {
     "data": {
      "application/vnd.jupyter.widget-view+json": {
       "model_id": "f1a6406c5e5849c6ae08d0fc707b65fb",
       "version_major": 2,
       "version_minor": 0
      },
      "text/plain": [
       "  0%|          | 0/35 [00:00<?, ?it/s]"
      ]
     },
     "metadata": {},
     "output_type": "display_data"
    },
    {
     "name": "stdout",
     "output_type": "stream",
     "text": [
      "ARHMM: Initializing hyperparameters\n",
      "ARHMM: Initializing parameters\n",
      "ARHMM: Initializing states\n"
     ]
    },
    {
     "data": {
      "application/vnd.jupyter.widget-view+json": {
       "model_id": "663eef53923d4bd7b61680fcbda9fc32",
       "version_major": 2,
       "version_minor": 0
      },
      "text/plain": [
       "  0%|          | 0/35 [00:00<?, ?it/s]"
      ]
     },
     "metadata": {},
     "output_type": "display_data"
    },
    {
     "name": "stdout",
     "output_type": "stream",
     "text": [
      "ARHMM: Initializing hyperparameters\n",
      "ARHMM: Initializing parameters\n",
      "ARHMM: Initializing states\n"
     ]
    },
    {
     "data": {
      "application/vnd.jupyter.widget-view+json": {
       "model_id": "e102e752fcb347fdac2242adf317ea32",
       "version_major": 2,
       "version_minor": 0
      },
      "text/plain": [
       "  0%|          | 0/35 [00:00<?, ?it/s]"
      ]
     },
     "metadata": {},
     "output_type": "display_data"
    }
   ],
   "source": [
    "num_iters = 35\n",
    "\n",
    "durations = {}\n",
    "agg_durations = {}\n",
    "for k in tqdm(kappas, desc='kappa scan'):\n",
    "    ll_keys = ['z', 'x']\n",
    "    ll_history = {key: [] for key in ll_keys}\n",
    "\n",
    "    trans_hypparams = {\n",
    "        'gamma': 1e3,\n",
    "        'alpha': 5.7,\n",
    "        'kappa': k,\n",
    "        'num_states': num_states\n",
    "    }\n",
    "\n",
    "    model = arhmm.init_model(\n",
    "        data,\n",
    "        ar_hypparams=ar_hypparams,\n",
    "        trans_hypparams=trans_hypparams,\n",
    "        robust=True,\n",
    "        verbose=True\n",
    "    )\n",
    "\n",
    "    pbar = tqdm(range(num_iters))\n",
    "\n",
    "    _durs = []\n",
    "\n",
    "    for i in pbar:\n",
    "        # Perform Gibbs resampling\n",
    "        model = arhmm.resample_model(data, **model)\n",
    "\n",
    "        durs = get_durations(model['states']['z'], data['mask'])\n",
    "\n",
    "        # Compute the likelihood of the data and\n",
    "        # resampled states given the resampled params\n",
    "        ll = arhmm.model_likelihood(data, **model)\n",
    "        for key in ll_keys:\n",
    "            ll_history[key].append(ll[key].item())\n",
    "        pbar.set_description(f\"LL: {ll['x']:0.2e} -- Dur {np.mean(durs) / 30:0.2f}s {np.median(durs) / 30:0.2f}s\")\n",
    "        _durs.append(np.mean(durs))\n",
    "    durations[k] = (np.mean(durs) / 30, np.median(durs) / 30)\n",
    "    agg_durations[k] = _durs"
   ]
  },
  {
   "cell_type": "code",
   "execution_count": 15,
   "metadata": {},
   "outputs": [],
   "source": [
    "best_duration = valmap(lambda v: np.abs(v[0] - 0.6), durations)\n",
    "best_kappa = min(best_duration, key=best_duration.get)"
   ]
  },
  {
   "cell_type": "code",
   "execution_count": 16,
   "metadata": {
    "tags": []
   },
   "outputs": [
    {
     "data": {
      "text/plain": [
       "{100000.0: 0.3500198470277825,\n",
       " 237137.37056616554: 0.29347060062621044,\n",
       " 562341.3251903491: 0.23430025594292642,\n",
       " 1333521.432163324: 0.17717050327239897,\n",
       " 3162277.6601683795: 0.11916604110125173,\n",
       " 7498942.093324558: 0.06275610420519873,\n",
       " 17782794.100389227: 0.009200703198290916,\n",
       " 42169650.342858225: 0.03680959178817855,\n",
       " 100000000.0: 0.08816591139699637}"
      ]
     },
     "execution_count": 16,
     "metadata": {},
     "output_type": "execute_result"
    }
   ],
   "source": [
    "best_duration"
   ]
  },
  {
   "cell_type": "code",
   "execution_count": 17,
   "metadata": {},
   "outputs": [
    {
     "data": {
      "text/plain": [
       "17782794.100389227"
      ]
     },
     "execution_count": 17,
     "metadata": {},
     "output_type": "execute_result"
    }
   ],
   "source": [
    "best_kappa"
   ]
  },
  {
   "cell_type": "code",
   "execution_count": 18,
   "metadata": {
    "tags": []
   },
   "outputs": [
    {
     "name": "stdout",
     "output_type": "stream",
     "text": [
      "ARHMM: Initializing hyperparameters\n",
      "ARHMM: Initializing parameters\n",
      "ARHMM: Initializing states\n"
     ]
    },
    {
     "data": {
      "application/vnd.jupyter.widget-view+json": {
       "model_id": "b354f2a114e44364ad14e3981e1b0b33",
       "version_major": 2,
       "version_minor": 0
      },
      "text/plain": [
       "  0%|          | 0/1000 [00:00<?, ?it/s]"
      ]
     },
     "metadata": {},
     "output_type": "display_data"
    }
   ],
   "source": [
    "num_iters = 1000\n",
    "ll_keys = ['z', 'x']\n",
    "ll_history = {key: [] for key in ll_keys}\n",
    "\n",
    "trans_hypparams = {\n",
    "    'gamma': 1e3,\n",
    "    'alpha': 5.7,\n",
    "    'kappa': best_kappa,\n",
    "    'num_states': num_states\n",
    "}\n",
    "\n",
    "model = arhmm.init_model(\n",
    "    data,\n",
    "    ar_hypparams=ar_hypparams,\n",
    "    trans_hypparams=trans_hypparams,\n",
    "    robust=True,\n",
    "    verbose=True\n",
    ")\n",
    "\n",
    "pbar = tqdm(range(num_iters))\n",
    "\n",
    "for i in pbar:\n",
    "    # Perform Gibbs resampling\n",
    "    model = arhmm.resample_model(data, **model)\n",
    "    durs = get_durations(model['states']['z'], data['mask'])\n",
    "\n",
    "    # Compute the likelihood of the data and\n",
    "    # resampled states given the resampled params\n",
    "    ll = arhmm.model_likelihood(data, **model)\n",
    "    for key in ll_keys:\n",
    "        ll_history[key].append(ll[key].item())\n",
    "    pbar.set_description(f\"LL: {ll['x']:0.2e} -- Dur {np.mean(durs) / 30:0.2f}s {np.median(durs) / 30:0.2f}s\")"
   ]
  },
  {
   "cell_type": "code",
   "execution_count": 19,
   "metadata": {
    "tags": []
   },
   "outputs": [
    {
     "data": {
      "text/plain": [
       "['/n/groups/datta/win/longtogeny/data/ontogeny/version_03/model_params.p']"
      ]
     },
     "execution_count": 19,
     "metadata": {},
     "output_type": "execute_result"
    }
   ],
   "source": [
    "joblib.dump(model, folder / 'model_params.p')"
   ]
  },
  {
   "cell_type": "code",
   "execution_count": null,
   "metadata": {},
   "outputs": [],
   "source": []
  }
 ],
 "metadata": {
  "kernelspec": {
   "display_name": "jax-moseq",
   "language": "python",
   "name": "jax-moseq"
  },
  "language_info": {
   "codemirror_mode": {
    "name": "ipython",
    "version": 3
   },
   "file_extension": ".py",
   "mimetype": "text/x-python",
   "name": "python",
   "nbconvert_exporter": "python",
   "pygments_lexer": "ipython3",
   "version": "3.10.9"
  },
  "widgets": {
   "application/vnd.jupyter.widget-state+json": {
    "state": {
     "0393b64e741a4fae818e0e4029ac114a": {
      "model_module": "@jupyter-widgets/controls",
      "model_module_version": "2.0.0",
      "model_name": "FloatProgressModel",
      "state": {
       "bar_style": "success",
       "layout": "IPY_MODEL_b62cc7903b214051a36e1b25f8173b09",
       "max": 35,
       "style": "IPY_MODEL_61d7151582214429bce07837c8080584",
       "value": 35
      }
     },
     "077c2248661d49d0b154559968fe017b": {
      "model_module": "@jupyter-widgets/controls",
      "model_module_version": "2.0.0",
      "model_name": "ProgressStyleModel",
      "state": {
       "description_width": ""
      }
     },
     "0b2abcfc5e6942aca69a6d841beacba0": {
      "model_module": "@jupyter-widgets/controls",
      "model_module_version": "2.0.0",
      "model_name": "HBoxModel",
      "state": {
       "children": [
        "IPY_MODEL_b50ad66f9ff645f9acb3e563a973b5d8",
        "IPY_MODEL_5141dbde611c4df8b69274197b8afbdf",
        "IPY_MODEL_df2856f694eb44309dd7f94b9721a704"
       ],
       "layout": "IPY_MODEL_a2a90bdf33bc4ba58496ea2c96dedad9"
      }
     },
     "0b5ed29ec5fa4434b46ce33397563222": {
      "model_module": "@jupyter-widgets/base",
      "model_module_version": "2.0.0",
      "model_name": "LayoutModel",
      "state": {}
     },
     "0e127d735e094f5baa8175b8cc41bec8": {
      "model_module": "@jupyter-widgets/base",
      "model_module_version": "2.0.0",
      "model_name": "LayoutModel",
      "state": {}
     },
     "12de5f05268b402ea983b4d25ffe2151": {
      "model_module": "@jupyter-widgets/controls",
      "model_module_version": "2.0.0",
      "model_name": "HTMLStyleModel",
      "state": {
       "description_width": "",
       "font_size": null,
       "text_color": null
      }
     },
     "1431c5f960b542d29223b23af03b3df9": {
      "model_module": "@jupyter-widgets/controls",
      "model_module_version": "2.0.0",
      "model_name": "HTMLModel",
      "state": {
       "layout": "IPY_MODEL_44dd2edcab944483b843e8571894b0d9",
       "style": "IPY_MODEL_403feb125a3a4420847517a6f75da050",
       "value": " 35/35 [02:44&lt;00:00,  4.71s/it]"
      }
     },
     "16fce4605c12417caa83c210785591c7": {
      "model_module": "@jupyter-widgets/controls",
      "model_module_version": "2.0.0",
      "model_name": "HTMLModel",
      "state": {
       "layout": "IPY_MODEL_0b5ed29ec5fa4434b46ce33397563222",
       "style": "IPY_MODEL_33be64bdf63f4b38989beb9af5d4e159",
       "value": "LL: -4.18e+08 -- Dur 0.64s 0.47s: 100%"
      }
     },
     "1875c5f846d6447bb0e6b873f515076b": {
      "model_module": "@jupyter-widgets/controls",
      "model_module_version": "2.0.0",
      "model_name": "FloatProgressModel",
      "state": {
       "bar_style": "success",
       "layout": "IPY_MODEL_566b76a3f183495086da1c553fab1bbd",
       "max": 1000,
       "style": "IPY_MODEL_e04fa37592ea46aa89affb899437d7cf",
       "value": 1000
      }
     },
     "1ccbdf7d0d834c63aa6931f19941fe80": {
      "model_module": "@jupyter-widgets/controls",
      "model_module_version": "2.0.0",
      "model_name": "HTMLStyleModel",
      "state": {
       "description_width": "",
       "font_size": null,
       "text_color": null
      }
     },
     "1dbf6c014c854d7aabc4792c5201ad98": {
      "model_module": "@jupyter-widgets/controls",
      "model_module_version": "2.0.0",
      "model_name": "HTMLModel",
      "state": {
       "layout": "IPY_MODEL_e89116aa89134029a6b712875e08ce65",
       "style": "IPY_MODEL_bbd8200829a64de398eb1d24285ecf1d",
       "value": "kappa scan: 100%"
      }
     },
     "22c15aaebb104fb6925dfa77d5f76a3b": {
      "model_module": "@jupyter-widgets/base",
      "model_module_version": "2.0.0",
      "model_name": "LayoutModel",
      "state": {}
     },
     "256eadb798dc4066964145ccb4ac41e9": {
      "model_module": "@jupyter-widgets/controls",
      "model_module_version": "2.0.0",
      "model_name": "HTMLStyleModel",
      "state": {
       "description_width": "",
       "font_size": null,
       "text_color": null
      }
     },
     "26858bfde10047f68687e37bb41b8cc9": {
      "model_module": "@jupyter-widgets/base",
      "model_module_version": "2.0.0",
      "model_name": "LayoutModel",
      "state": {}
     },
     "2e0be82874224192936a53edc7674259": {
      "model_module": "@jupyter-widgets/base",
      "model_module_version": "2.0.0",
      "model_name": "LayoutModel",
      "state": {}
     },
     "330f0289e605489ca80e17488a761a0a": {
      "model_module": "@jupyter-widgets/base",
      "model_module_version": "2.0.0",
      "model_name": "LayoutModel",
      "state": {}
     },
     "33be64bdf63f4b38989beb9af5d4e159": {
      "model_module": "@jupyter-widgets/controls",
      "model_module_version": "2.0.0",
      "model_name": "HTMLStyleModel",
      "state": {
       "description_width": "",
       "font_size": null,
       "text_color": null
      }
     },
     "34056067191a448f9460d4d645979981": {
      "model_module": "@jupyter-widgets/base",
      "model_module_version": "2.0.0",
      "model_name": "LayoutModel",
      "state": {}
     },
     "3408db9f3f0f4999abc02318a868860f": {
      "model_module": "@jupyter-widgets/controls",
      "model_module_version": "2.0.0",
      "model_name": "HTMLStyleModel",
      "state": {
       "description_width": "",
       "font_size": null,
       "text_color": null
      }
     },
     "346d4e1a76ba46e98ba8de48c8defe7b": {
      "model_module": "@jupyter-widgets/base",
      "model_module_version": "2.0.0",
      "model_name": "LayoutModel",
      "state": {}
     },
     "347d32ecdf054f479db7401be1f3b77e": {
      "model_module": "@jupyter-widgets/controls",
      "model_module_version": "2.0.0",
      "model_name": "ProgressStyleModel",
      "state": {
       "description_width": ""
      }
     },
     "386c97c211d246e9ae4f9c9a019065fc": {
      "model_module": "@jupyter-widgets/controls",
      "model_module_version": "2.0.0",
      "model_name": "HTMLStyleModel",
      "state": {
       "description_width": "",
       "font_size": null,
       "text_color": null
      }
     },
     "3abcb768ca5f4a36bc4a7a97592d649e": {
      "model_module": "@jupyter-widgets/controls",
      "model_module_version": "2.0.0",
      "model_name": "ProgressStyleModel",
      "state": {
       "description_width": ""
      }
     },
     "3fd4d4dcb6bd4ac4a59b427ee828ac96": {
      "model_module": "@jupyter-widgets/controls",
      "model_module_version": "2.0.0",
      "model_name": "FloatProgressModel",
      "state": {
       "bar_style": "success",
       "layout": "IPY_MODEL_46ff4251ad5c4c26ad9f8f33f6eda1a2",
       "max": 35,
       "style": "IPY_MODEL_347d32ecdf054f479db7401be1f3b77e",
       "value": 35
      }
     },
     "403feb125a3a4420847517a6f75da050": {
      "model_module": "@jupyter-widgets/controls",
      "model_module_version": "2.0.0",
      "model_name": "HTMLStyleModel",
      "state": {
       "description_width": "",
       "font_size": null,
       "text_color": null
      }
     },
     "437ea8dba4fa45b88578649363d99011": {
      "model_module": "@jupyter-widgets/controls",
      "model_module_version": "2.0.0",
      "model_name": "FloatProgressModel",
      "state": {
       "bar_style": "success",
       "layout": "IPY_MODEL_34056067191a448f9460d4d645979981",
       "max": 35,
       "style": "IPY_MODEL_b61a37801b7049bf87f68ac02d5d13fd",
       "value": 35
      }
     },
     "44dd2edcab944483b843e8571894b0d9": {
      "model_module": "@jupyter-widgets/base",
      "model_module_version": "2.0.0",
      "model_name": "LayoutModel",
      "state": {}
     },
     "46ff4251ad5c4c26ad9f8f33f6eda1a2": {
      "model_module": "@jupyter-widgets/base",
      "model_module_version": "2.0.0",
      "model_name": "LayoutModel",
      "state": {}
     },
     "490f51ea94634c33a750b4b0d8852ef5": {
      "model_module": "@jupyter-widgets/controls",
      "model_module_version": "2.0.0",
      "model_name": "ProgressStyleModel",
      "state": {
       "description_width": ""
      }
     },
     "49383f7bc8e442888ccd3a7e8ca8197b": {
      "model_module": "@jupyter-widgets/controls",
      "model_module_version": "2.0.0",
      "model_name": "HBoxModel",
      "state": {
       "children": [
        "IPY_MODEL_67e7ef4cc1fd42369d094266a580a00e",
        "IPY_MODEL_3fd4d4dcb6bd4ac4a59b427ee828ac96",
        "IPY_MODEL_b141acc004c74692a58cb34b67f8fdc4"
       ],
       "layout": "IPY_MODEL_e7097fb8563645f1bf38d43b0742a9dc"
      }
     },
     "4c9d692c8b8d4f29a8ac49d100ec055a": {
      "model_module": "@jupyter-widgets/controls",
      "model_module_version": "2.0.0",
      "model_name": "HTMLStyleModel",
      "state": {
       "description_width": "",
       "font_size": null,
       "text_color": null
      }
     },
     "4e7d4701949040acae481c3d8ccf683a": {
      "model_module": "@jupyter-widgets/controls",
      "model_module_version": "2.0.0",
      "model_name": "HBoxModel",
      "state": {
       "children": [
        "IPY_MODEL_588d1956fe32416486fc60008a10bd8c",
        "IPY_MODEL_0393b64e741a4fae818e0e4029ac114a",
        "IPY_MODEL_c556a4a05a0e453c9288cba8ad8c38ed"
       ],
       "layout": "IPY_MODEL_f94a2500d7844bb6b9bd4e147633f4c5"
      }
     },
     "5002affe3dd0446aa410213a7be12c7d": {
      "model_module": "@jupyter-widgets/controls",
      "model_module_version": "2.0.0",
      "model_name": "FloatProgressModel",
      "state": {
       "bar_style": "success",
       "layout": "IPY_MODEL_8067704e2cfc416ba801b296eefe28aa",
       "max": 35,
       "style": "IPY_MODEL_490f51ea94634c33a750b4b0d8852ef5",
       "value": 35
      }
     },
     "5141dbde611c4df8b69274197b8afbdf": {
      "model_module": "@jupyter-widgets/controls",
      "model_module_version": "2.0.0",
      "model_name": "FloatProgressModel",
      "state": {
       "bar_style": "success",
       "layout": "IPY_MODEL_5bb77b2aedc647b8a38f06c6bc788cf8",
       "max": 35,
       "style": "IPY_MODEL_6f84086b2e624625b30fb0ee89e2755f",
       "value": 35
      }
     },
     "54c8a855354b40fea4f6e6d97305521f": {
      "model_module": "@jupyter-widgets/controls",
      "model_module_version": "2.0.0",
      "model_name": "FloatProgressModel",
      "state": {
       "bar_style": "success",
       "layout": "IPY_MODEL_89c92d4b0976416db053b139cd904634",
       "max": 35,
       "style": "IPY_MODEL_a2ce891a4b074cf78892c173610c6035",
       "value": 35
      }
     },
     "563c8d98e3eb48d6ab326f18ea8eb269": {
      "model_module": "@jupyter-widgets/controls",
      "model_module_version": "2.0.0",
      "model_name": "HBoxModel",
      "state": {
       "children": [
        "IPY_MODEL_5b72f6b76b7d42ff8bef4c68a5b946c5",
        "IPY_MODEL_437ea8dba4fa45b88578649363d99011",
        "IPY_MODEL_1431c5f960b542d29223b23af03b3df9"
       ],
       "layout": "IPY_MODEL_60f37e479f6d476d832134ca46bbede7"
      }
     },
     "566b76a3f183495086da1c553fab1bbd": {
      "model_module": "@jupyter-widgets/base",
      "model_module_version": "2.0.0",
      "model_name": "LayoutModel",
      "state": {}
     },
     "588d1956fe32416486fc60008a10bd8c": {
      "model_module": "@jupyter-widgets/controls",
      "model_module_version": "2.0.0",
      "model_name": "HTMLModel",
      "state": {
       "layout": "IPY_MODEL_b44b60077b60444e85c5fca6882b0447",
       "style": "IPY_MODEL_12de5f05268b402ea983b4d25ffe2151",
       "value": "LL: -3.54e+08 -- Dur 0.48s 0.37s: 100%"
      }
     },
     "5a85df0fa540480d89886f5c11797709": {
      "model_module": "@jupyter-widgets/controls",
      "model_module_version": "2.0.0",
      "model_name": "HTMLModel",
      "state": {
       "layout": "IPY_MODEL_f895c9cccf9144058c866e0ed7a3bb71",
       "style": "IPY_MODEL_f90e181f1e7141c48d0d11d6c370798a",
       "value": " 35/35 [02:44&lt;00:00,  4.71s/it]"
      }
     },
     "5ae6950ba1a84d849a37e82b43da4585": {
      "model_module": "@jupyter-widgets/base",
      "model_module_version": "2.0.0",
      "model_name": "LayoutModel",
      "state": {}
     },
     "5b12fe5c742b4e03b263ef42c55ec367": {
      "model_module": "@jupyter-widgets/base",
      "model_module_version": "2.0.0",
      "model_name": "LayoutModel",
      "state": {}
     },
     "5b72f6b76b7d42ff8bef4c68a5b946c5": {
      "model_module": "@jupyter-widgets/controls",
      "model_module_version": "2.0.0",
      "model_name": "HTMLModel",
      "state": {
       "layout": "IPY_MODEL_5e13b9d2aa5e473a91eea214749b5af5",
       "style": "IPY_MODEL_89e3b708f6a64993a7621a18f9b0ce51",
       "value": "LL: -3.34e+08 -- Dur 0.42s 0.30s: 100%"
      }
     },
     "5bb77b2aedc647b8a38f06c6bc788cf8": {
      "model_module": "@jupyter-widgets/base",
      "model_module_version": "2.0.0",
      "model_name": "LayoutModel",
      "state": {}
     },
     "5cc3769e26bb476fbb11a7ea2c9d0927": {
      "model_module": "@jupyter-widgets/controls",
      "model_module_version": "2.0.0",
      "model_name": "HTMLStyleModel",
      "state": {
       "description_width": "",
       "font_size": null,
       "text_color": null
      }
     },
     "5d29c669576c4f5299b34fc29f8364dd": {
      "model_module": "@jupyter-widgets/controls",
      "model_module_version": "2.0.0",
      "model_name": "HTMLStyleModel",
      "state": {
       "description_width": "",
       "font_size": null,
       "text_color": null
      }
     },
     "5e0c865ae59943a093c94983b04bdce1": {
      "model_module": "@jupyter-widgets/controls",
      "model_module_version": "2.0.0",
      "model_name": "HBoxModel",
      "state": {
       "children": [
        "IPY_MODEL_77b165967adb4f65a631d23d443e3dd7",
        "IPY_MODEL_5002affe3dd0446aa410213a7be12c7d",
        "IPY_MODEL_fc69aade8a0e4acfb5073c63c998952c"
       ],
       "layout": "IPY_MODEL_809b56bd8cc44b87a562607c6922cc73"
      }
     },
     "5e13b9d2aa5e473a91eea214749b5af5": {
      "model_module": "@jupyter-widgets/base",
      "model_module_version": "2.0.0",
      "model_name": "LayoutModel",
      "state": {}
     },
     "600cc8a757c24cccb43e6a20a3d8a8af": {
      "model_module": "@jupyter-widgets/controls",
      "model_module_version": "2.0.0",
      "model_name": "FloatProgressModel",
      "state": {
       "bar_style": "success",
       "layout": "IPY_MODEL_b46269dc39204b7a951a1c6d9eb9a359",
       "max": 35,
       "style": "IPY_MODEL_6d25aeadec4543009b7a971fbf9559f8",
       "value": 35
      }
     },
     "60f37e479f6d476d832134ca46bbede7": {
      "model_module": "@jupyter-widgets/base",
      "model_module_version": "2.0.0",
      "model_name": "LayoutModel",
      "state": {}
     },
     "61d7151582214429bce07837c8080584": {
      "model_module": "@jupyter-widgets/controls",
      "model_module_version": "2.0.0",
      "model_name": "ProgressStyleModel",
      "state": {
       "description_width": ""
      }
     },
     "64443f5c6ca748b1a4d18001ceae6e08": {
      "model_module": "@jupyter-widgets/base",
      "model_module_version": "2.0.0",
      "model_name": "LayoutModel",
      "state": {}
     },
     "663eef53923d4bd7b61680fcbda9fc32": {
      "model_module": "@jupyter-widgets/controls",
      "model_module_version": "2.0.0",
      "model_name": "HBoxModel",
      "state": {
       "children": [
        "IPY_MODEL_16fce4605c12417caa83c210785591c7",
        "IPY_MODEL_da4c38fe4bff48e3962df86226bd3fbd",
        "IPY_MODEL_bf8ba51b6ab04ae89dc812e04792806f"
       ],
       "layout": "IPY_MODEL_5b12fe5c742b4e03b263ef42c55ec367"
      }
     },
     "67e7ef4cc1fd42369d094266a580a00e": {
      "model_module": "@jupyter-widgets/controls",
      "model_module_version": "2.0.0",
      "model_name": "HTMLModel",
      "state": {
       "layout": "IPY_MODEL_2e0be82874224192936a53edc7674259",
       "style": "IPY_MODEL_4c9d692c8b8d4f29a8ac49d100ec055a",
       "value": "LL: -3.23e+08 -- Dur 0.37s 0.27s: 100%"
      }
     },
     "68470b287f624d5d9a844a648da9af71": {
      "model_module": "@jupyter-widgets/controls",
      "model_module_version": "2.0.0",
      "model_name": "ProgressStyleModel",
      "state": {
       "description_width": ""
      }
     },
     "6b3642827d5b4ab883d0eb4f15c205b0": {
      "model_module": "@jupyter-widgets/base",
      "model_module_version": "2.0.0",
      "model_name": "LayoutModel",
      "state": {}
     },
     "6d25aeadec4543009b7a971fbf9559f8": {
      "model_module": "@jupyter-widgets/controls",
      "model_module_version": "2.0.0",
      "model_name": "ProgressStyleModel",
      "state": {
       "description_width": ""
      }
     },
     "6f84086b2e624625b30fb0ee89e2755f": {
      "model_module": "@jupyter-widgets/controls",
      "model_module_version": "2.0.0",
      "model_name": "ProgressStyleModel",
      "state": {
       "description_width": ""
      }
     },
     "72747a9137fa49ac838c4fcdc7af4a5e": {
      "model_module": "@jupyter-widgets/controls",
      "model_module_version": "2.0.0",
      "model_name": "HTMLModel",
      "state": {
       "layout": "IPY_MODEL_26858bfde10047f68687e37bb41b8cc9",
       "style": "IPY_MODEL_db5c27bdca624753be83e641eaa7519b",
       "value": " 35/35 [02:44&lt;00:00,  4.71s/it]"
      }
     },
     "7560c726b17647529e424eefe6d71a3b": {
      "model_module": "@jupyter-widgets/controls",
      "model_module_version": "2.0.0",
      "model_name": "HTMLStyleModel",
      "state": {
       "description_width": "",
       "font_size": null,
       "text_color": null
      }
     },
     "77b165967adb4f65a631d23d443e3dd7": {
      "model_module": "@jupyter-widgets/controls",
      "model_module_version": "2.0.0",
      "model_name": "HTMLModel",
      "state": {
       "layout": "IPY_MODEL_5ae6950ba1a84d849a37e82b43da4585",
       "style": "IPY_MODEL_5d29c669576c4f5299b34fc29f8364dd",
       "value": "LL: -3.69e+08 -- Dur 0.54s 0.40s: 100%"
      }
     },
     "79e809a790b841f2840c5280d3dc08fc": {
      "model_module": "@jupyter-widgets/base",
      "model_module_version": "2.0.0",
      "model_name": "LayoutModel",
      "state": {}
     },
     "7a742efeefc148b8ad18b29e85bed014": {
      "model_module": "@jupyter-widgets/base",
      "model_module_version": "2.0.0",
      "model_name": "LayoutModel",
      "state": {}
     },
     "7ab35e3e189b4a9aa79ad0dadcab4e72": {
      "model_module": "@jupyter-widgets/base",
      "model_module_version": "2.0.0",
      "model_name": "LayoutModel",
      "state": {}
     },
     "7c33c50eeede4103beccd0f40a971894": {
      "model_module": "@jupyter-widgets/base",
      "model_module_version": "2.0.0",
      "model_name": "LayoutModel",
      "state": {}
     },
     "7d997a12a7ac4a52a20c27d2e9c1d457": {
      "model_module": "@jupyter-widgets/base",
      "model_module_version": "2.0.0",
      "model_name": "LayoutModel",
      "state": {}
     },
     "7f19fc80c2ff411590ca2f33fca61ee9": {
      "model_module": "@jupyter-widgets/controls",
      "model_module_version": "2.0.0",
      "model_name": "HTMLModel",
      "state": {
       "layout": "IPY_MODEL_975a3417424144319d01a69220fe733b",
       "style": "IPY_MODEL_1ccbdf7d0d834c63aa6931f19941fe80",
       "value": "LL: -2.41e+07 -- Dur 0.57s 0.43s: 100%"
      }
     },
     "8067704e2cfc416ba801b296eefe28aa": {
      "model_module": "@jupyter-widgets/base",
      "model_module_version": "2.0.0",
      "model_name": "LayoutModel",
      "state": {}
     },
     "809b56bd8cc44b87a562607c6922cc73": {
      "model_module": "@jupyter-widgets/base",
      "model_module_version": "2.0.0",
      "model_name": "LayoutModel",
      "state": {}
     },
     "81c42924382a405ea14e040799e4f56f": {
      "model_module": "@jupyter-widgets/base",
      "model_module_version": "2.0.0",
      "model_name": "LayoutModel",
      "state": {}
     },
     "833f7d5be02c43e4bb55ce1f0684e25e": {
      "model_module": "@jupyter-widgets/controls",
      "model_module_version": "2.0.0",
      "model_name": "HTMLStyleModel",
      "state": {
       "description_width": "",
       "font_size": null,
       "text_color": null
      }
     },
     "83c447ba315345a5a715abf9631af5be": {
      "model_module": "@jupyter-widgets/controls",
      "model_module_version": "2.0.0",
      "model_name": "HTMLModel",
      "state": {
       "layout": "IPY_MODEL_7d997a12a7ac4a52a20c27d2e9c1d457",
       "style": "IPY_MODEL_386c97c211d246e9ae4f9c9a019065fc",
       "value": " 1000/1000 [1:18:19&lt;00:00,  4.70s/it]"
      }
     },
     "85466ba1144d4ba295fa6c4dcd6f8065": {
      "model_module": "@jupyter-widgets/controls",
      "model_module_version": "2.0.0",
      "model_name": "FloatProgressModel",
      "state": {
       "bar_style": "success",
       "layout": "IPY_MODEL_81c42924382a405ea14e040799e4f56f",
       "max": 9,
       "style": "IPY_MODEL_68470b287f624d5d9a844a648da9af71",
       "value": 9
      }
     },
     "86aed43d30e54824be950a52339a32fa": {
      "model_module": "@jupyter-widgets/base",
      "model_module_version": "2.0.0",
      "model_name": "LayoutModel",
      "state": {}
     },
     "8942d5ad2fda404b8121001b39150393": {
      "model_module": "@jupyter-widgets/base",
      "model_module_version": "2.0.0",
      "model_name": "LayoutModel",
      "state": {}
     },
     "89c92d4b0976416db053b139cd904634": {
      "model_module": "@jupyter-widgets/base",
      "model_module_version": "2.0.0",
      "model_name": "LayoutModel",
      "state": {}
     },
     "89e3b708f6a64993a7621a18f9b0ce51": {
      "model_module": "@jupyter-widgets/controls",
      "model_module_version": "2.0.0",
      "model_name": "HTMLStyleModel",
      "state": {
       "description_width": "",
       "font_size": null,
       "text_color": null
      }
     },
     "8e428deee15448e3a89aa2ef4a0bf2c8": {
      "model_module": "@jupyter-widgets/controls",
      "model_module_version": "2.0.0",
      "model_name": "HTMLModel",
      "state": {
       "layout": "IPY_MODEL_90442a3c85314ca286697e6d17a168df",
       "style": "IPY_MODEL_df425ff1ed454cd4a5cbe7c2c588e0de",
       "value": "LL: -4.07e+08 -- Dur 0.59s 0.43s: 100%"
      }
     },
     "90442a3c85314ca286697e6d17a168df": {
      "model_module": "@jupyter-widgets/base",
      "model_module_version": "2.0.0",
      "model_name": "LayoutModel",
      "state": {}
     },
     "96a0fc971c244abb98965442b46f0eb3": {
      "model_module": "@jupyter-widgets/base",
      "model_module_version": "2.0.0",
      "model_name": "LayoutModel",
      "state": {}
     },
     "975a3417424144319d01a69220fe733b": {
      "model_module": "@jupyter-widgets/base",
      "model_module_version": "2.0.0",
      "model_name": "LayoutModel",
      "state": {}
     },
     "9bcb82b8071a486995645bf733251db7": {
      "model_module": "@jupyter-widgets/controls",
      "model_module_version": "2.0.0",
      "model_name": "HBoxModel",
      "state": {
       "children": [
        "IPY_MODEL_e1b46012022f4bccac0d5ad610540022",
        "IPY_MODEL_df528173af8d460b90d933aa9fde7bb2",
        "IPY_MODEL_5a85df0fa540480d89886f5c11797709"
       ],
       "layout": "IPY_MODEL_79e809a790b841f2840c5280d3dc08fc"
      }
     },
     "a2a90bdf33bc4ba58496ea2c96dedad9": {
      "model_module": "@jupyter-widgets/base",
      "model_module_version": "2.0.0",
      "model_name": "LayoutModel",
      "state": {}
     },
     "a2ce891a4b074cf78892c173610c6035": {
      "model_module": "@jupyter-widgets/controls",
      "model_module_version": "2.0.0",
      "model_name": "ProgressStyleModel",
      "state": {
       "description_width": ""
      }
     },
     "a320339936e8439182a3bc6f9569c07d": {
      "model_module": "@jupyter-widgets/base",
      "model_module_version": "2.0.0",
      "model_name": "LayoutModel",
      "state": {}
     },
     "a52ec0c63e65416099d655c67d048db7": {
      "model_module": "@jupyter-widgets/controls",
      "model_module_version": "2.0.0",
      "model_name": "HTMLModel",
      "state": {
       "layout": "IPY_MODEL_330f0289e605489ca80e17488a761a0a",
       "style": "IPY_MODEL_dc91163663cb47e1b6f07d94d7fdbcc6",
       "value": " 35/35 [02:44&lt;00:00,  4.71s/it]"
      }
     },
     "addef698cf5e4e7ab936cafd8bb3b0f3": {
      "model_module": "@jupyter-widgets/controls",
      "model_module_version": "2.0.0",
      "model_name": "HBoxModel",
      "state": {
       "children": [
        "IPY_MODEL_1dbf6c014c854d7aabc4792c5201ad98",
        "IPY_MODEL_85466ba1144d4ba295fa6c4dcd6f8065",
        "IPY_MODEL_eccb67181afd4526a812216a7db4b993"
       ],
       "layout": "IPY_MODEL_6b3642827d5b4ab883d0eb4f15c205b0"
      }
     },
     "b141acc004c74692a58cb34b67f8fdc4": {
      "model_module": "@jupyter-widgets/controls",
      "model_module_version": "2.0.0",
      "model_name": "HTMLModel",
      "state": {
       "layout": "IPY_MODEL_a320339936e8439182a3bc6f9569c07d",
       "style": "IPY_MODEL_7560c726b17647529e424eefe6d71a3b",
       "value": " 35/35 [02:44&lt;00:00,  4.71s/it]"
      }
     },
     "b354f2a114e44364ad14e3981e1b0b33": {
      "model_module": "@jupyter-widgets/controls",
      "model_module_version": "2.0.0",
      "model_name": "HBoxModel",
      "state": {
       "children": [
        "IPY_MODEL_7f19fc80c2ff411590ca2f33fca61ee9",
        "IPY_MODEL_1875c5f846d6447bb0e6b873f515076b",
        "IPY_MODEL_83c447ba315345a5a715abf9631af5be"
       ],
       "layout": "IPY_MODEL_8942d5ad2fda404b8121001b39150393"
      }
     },
     "b44b60077b60444e85c5fca6882b0447": {
      "model_module": "@jupyter-widgets/base",
      "model_module_version": "2.0.0",
      "model_name": "LayoutModel",
      "state": {}
     },
     "b46269dc39204b7a951a1c6d9eb9a359": {
      "model_module": "@jupyter-widgets/base",
      "model_module_version": "2.0.0",
      "model_name": "LayoutModel",
      "state": {}
     },
     "b50ad66f9ff645f9acb3e563a973b5d8": {
      "model_module": "@jupyter-widgets/controls",
      "model_module_version": "2.0.0",
      "model_name": "HTMLModel",
      "state": {
       "layout": "IPY_MODEL_7c33c50eeede4103beccd0f40a971894",
       "style": "IPY_MODEL_833f7d5be02c43e4bb55ce1f0684e25e",
       "value": "LL: -2.97e+08 -- Dur 0.25s 0.17s: 100%"
      }
     },
     "b61a37801b7049bf87f68ac02d5d13fd": {
      "model_module": "@jupyter-widgets/controls",
      "model_module_version": "2.0.0",
      "model_name": "ProgressStyleModel",
      "state": {
       "description_width": ""
      }
     },
     "b62cc7903b214051a36e1b25f8173b09": {
      "model_module": "@jupyter-widgets/base",
      "model_module_version": "2.0.0",
      "model_name": "LayoutModel",
      "state": {}
     },
     "b6c20bdd44df41a1abbbc1342c9bc5d0": {
      "model_module": "@jupyter-widgets/base",
      "model_module_version": "2.0.0",
      "model_name": "LayoutModel",
      "state": {}
     },
     "bbd8200829a64de398eb1d24285ecf1d": {
      "model_module": "@jupyter-widgets/controls",
      "model_module_version": "2.0.0",
      "model_name": "HTMLStyleModel",
      "state": {
       "description_width": "",
       "font_size": null,
       "text_color": null
      }
     },
     "bf8ba51b6ab04ae89dc812e04792806f": {
      "model_module": "@jupyter-widgets/controls",
      "model_module_version": "2.0.0",
      "model_name": "HTMLModel",
      "state": {
       "layout": "IPY_MODEL_346d4e1a76ba46e98ba8de48c8defe7b",
       "style": "IPY_MODEL_3408db9f3f0f4999abc02318a868860f",
       "value": " 35/35 [02:44&lt;00:00,  4.70s/it]"
      }
     },
     "c556a4a05a0e453c9288cba8ad8c38ed": {
      "model_module": "@jupyter-widgets/controls",
      "model_module_version": "2.0.0",
      "model_name": "HTMLModel",
      "state": {
       "layout": "IPY_MODEL_86aed43d30e54824be950a52339a32fa",
       "style": "IPY_MODEL_d843fda3f46e4cc18ece6db123ddd655",
       "value": " 35/35 [02:44&lt;00:00,  4.70s/it]"
      }
     },
     "d6e5e56141b44d88af734340a1f6fa87": {
      "model_module": "@jupyter-widgets/controls",
      "model_module_version": "2.0.0",
      "model_name": "HTMLStyleModel",
      "state": {
       "description_width": "",
       "font_size": null,
       "text_color": null
      }
     },
     "d843fda3f46e4cc18ece6db123ddd655": {
      "model_module": "@jupyter-widgets/controls",
      "model_module_version": "2.0.0",
      "model_name": "HTMLStyleModel",
      "state": {
       "description_width": "",
       "font_size": null,
       "text_color": null
      }
     },
     "da4c38fe4bff48e3962df86226bd3fbd": {
      "model_module": "@jupyter-widgets/controls",
      "model_module_version": "2.0.0",
      "model_name": "FloatProgressModel",
      "state": {
       "bar_style": "success",
       "layout": "IPY_MODEL_ee8f031209c84d999fcb8ef07b36f0ca",
       "max": 35,
       "style": "IPY_MODEL_3abcb768ca5f4a36bc4a7a97592d649e",
       "value": 35
      }
     },
     "db5c27bdca624753be83e641eaa7519b": {
      "model_module": "@jupyter-widgets/controls",
      "model_module_version": "2.0.0",
      "model_name": "HTMLStyleModel",
      "state": {
       "description_width": "",
       "font_size": null,
       "text_color": null
      }
     },
     "dc91163663cb47e1b6f07d94d7fdbcc6": {
      "model_module": "@jupyter-widgets/controls",
      "model_module_version": "2.0.0",
      "model_name": "HTMLStyleModel",
      "state": {
       "description_width": "",
       "font_size": null,
       "text_color": null
      }
     },
     "df2856f694eb44309dd7f94b9721a704": {
      "model_module": "@jupyter-widgets/controls",
      "model_module_version": "2.0.0",
      "model_name": "HTMLModel",
      "state": {
       "layout": "IPY_MODEL_7a742efeefc148b8ad18b29e85bed014",
       "style": "IPY_MODEL_5cc3769e26bb476fbb11a7ea2c9d0927",
       "value": " 35/35 [02:53&lt;00:00,  4.71s/it]"
      }
     },
     "df40c029a83d401b9ba920017798056d": {
      "model_module": "@jupyter-widgets/base",
      "model_module_version": "2.0.0",
      "model_name": "LayoutModel",
      "state": {}
     },
     "df425ff1ed454cd4a5cbe7c2c588e0de": {
      "model_module": "@jupyter-widgets/controls",
      "model_module_version": "2.0.0",
      "model_name": "HTMLStyleModel",
      "state": {
       "description_width": "",
       "font_size": null,
       "text_color": null
      }
     },
     "df528173af8d460b90d933aa9fde7bb2": {
      "model_module": "@jupyter-widgets/controls",
      "model_module_version": "2.0.0",
      "model_name": "FloatProgressModel",
      "state": {
       "bar_style": "success",
       "layout": "IPY_MODEL_df40c029a83d401b9ba920017798056d",
       "max": 35,
       "style": "IPY_MODEL_077c2248661d49d0b154559968fe017b",
       "value": 35
      }
     },
     "e04fa37592ea46aa89affb899437d7cf": {
      "model_module": "@jupyter-widgets/controls",
      "model_module_version": "2.0.0",
      "model_name": "ProgressStyleModel",
      "state": {
       "description_width": ""
      }
     },
     "e102e752fcb347fdac2242adf317ea32": {
      "model_module": "@jupyter-widgets/controls",
      "model_module_version": "2.0.0",
      "model_name": "HBoxModel",
      "state": {
       "children": [
        "IPY_MODEL_f7a6d83d288e499886da3d69bb9737b9",
        "IPY_MODEL_600cc8a757c24cccb43e6a20a3d8a8af",
        "IPY_MODEL_a52ec0c63e65416099d655c67d048db7"
       ],
       "layout": "IPY_MODEL_0e127d735e094f5baa8175b8cc41bec8"
      }
     },
     "e16f3c122bca44e39c261395800427c4": {
      "model_module": "@jupyter-widgets/controls",
      "model_module_version": "2.0.0",
      "model_name": "HTMLStyleModel",
      "state": {
       "description_width": "",
       "font_size": null,
       "text_color": null
      }
     },
     "e1b46012022f4bccac0d5ad610540022": {
      "model_module": "@jupyter-widgets/controls",
      "model_module_version": "2.0.0",
      "model_name": "HTMLModel",
      "state": {
       "layout": "IPY_MODEL_b6c20bdd44df41a1abbbc1342c9bc5d0",
       "style": "IPY_MODEL_e27fcc8839a4463ab3116afbbca58123",
       "value": "LL: -3.19e+08 -- Dur 0.31s 0.23s: 100%"
      }
     },
     "e27fcc8839a4463ab3116afbbca58123": {
      "model_module": "@jupyter-widgets/controls",
      "model_module_version": "2.0.0",
      "model_name": "HTMLStyleModel",
      "state": {
       "description_width": "",
       "font_size": null,
       "text_color": null
      }
     },
     "e7097fb8563645f1bf38d43b0742a9dc": {
      "model_module": "@jupyter-widgets/base",
      "model_module_version": "2.0.0",
      "model_name": "LayoutModel",
      "state": {}
     },
     "e89116aa89134029a6b712875e08ce65": {
      "model_module": "@jupyter-widgets/base",
      "model_module_version": "2.0.0",
      "model_name": "LayoutModel",
      "state": {}
     },
     "eccb67181afd4526a812216a7db4b993": {
      "model_module": "@jupyter-widgets/controls",
      "model_module_version": "2.0.0",
      "model_name": "HTMLModel",
      "state": {
       "layout": "IPY_MODEL_64443f5c6ca748b1a4d18001ceae6e08",
       "style": "IPY_MODEL_d6e5e56141b44d88af734340a1f6fa87",
       "value": " 9/9 [25:59&lt;00:00, 169.92s/it]"
      }
     },
     "ee8f031209c84d999fcb8ef07b36f0ca": {
      "model_module": "@jupyter-widgets/base",
      "model_module_version": "2.0.0",
      "model_name": "LayoutModel",
      "state": {}
     },
     "f1a6406c5e5849c6ae08d0fc707b65fb": {
      "model_module": "@jupyter-widgets/controls",
      "model_module_version": "2.0.0",
      "model_name": "HBoxModel",
      "state": {
       "children": [
        "IPY_MODEL_8e428deee15448e3a89aa2ef4a0bf2c8",
        "IPY_MODEL_54c8a855354b40fea4f6e6d97305521f",
        "IPY_MODEL_72747a9137fa49ac838c4fcdc7af4a5e"
       ],
       "layout": "IPY_MODEL_7ab35e3e189b4a9aa79ad0dadcab4e72"
      }
     },
     "f7a6d83d288e499886da3d69bb9737b9": {
      "model_module": "@jupyter-widgets/controls",
      "model_module_version": "2.0.0",
      "model_name": "HTMLModel",
      "state": {
       "layout": "IPY_MODEL_22c15aaebb104fb6925dfa77d5f76a3b",
       "style": "IPY_MODEL_e16f3c122bca44e39c261395800427c4",
       "value": "LL: -4.07e+08 -- Dur 0.69s 0.53s: 100%"
      }
     },
     "f895c9cccf9144058c866e0ed7a3bb71": {
      "model_module": "@jupyter-widgets/base",
      "model_module_version": "2.0.0",
      "model_name": "LayoutModel",
      "state": {}
     },
     "f90e181f1e7141c48d0d11d6c370798a": {
      "model_module": "@jupyter-widgets/controls",
      "model_module_version": "2.0.0",
      "model_name": "HTMLStyleModel",
      "state": {
       "description_width": "",
       "font_size": null,
       "text_color": null
      }
     },
     "f94a2500d7844bb6b9bd4e147633f4c5": {
      "model_module": "@jupyter-widgets/base",
      "model_module_version": "2.0.0",
      "model_name": "LayoutModel",
      "state": {}
     },
     "fc69aade8a0e4acfb5073c63c998952c": {
      "model_module": "@jupyter-widgets/controls",
      "model_module_version": "2.0.0",
      "model_name": "HTMLModel",
      "state": {
       "layout": "IPY_MODEL_96a0fc971c244abb98965442b46f0eb3",
       "style": "IPY_MODEL_256eadb798dc4066964145ccb4ac41e9",
       "value": " 35/35 [02:44&lt;00:00,  4.70s/it]"
      }
     }
    },
    "version_major": 2,
    "version_minor": 0
   }
  }
 },
 "nbformat": 4,
 "nbformat_minor": 4
}
