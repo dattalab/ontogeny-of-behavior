{
 "cells": [
  {
   "cell_type": "markdown",
   "metadata": {},
   "source": [
    "# Code to train ARHMM\n",
    "\n",
    "- find optimal kappa\n",
    "- use kappa to fit full model"
   ]
  },
  {
   "cell_type": "code",
   "execution_count": 1,
   "metadata": {
    "tags": []
   },
   "outputs": [
    {
     "name": "stdout",
     "output_type": "stream",
     "text": [
      "env: XLA_PYTHON_CLIENT_MEM_FRACTION=.5\n"
     ]
    }
   ],
   "source": [
    "%env XLA_PYTHON_CLIENT_MEM_FRACTION=.5\n",
    "from jax.config import config\n",
    "config.update(\"jax_enable_x64\", True)\n",
    "\n",
    "import h5py\n",
    "import joblib\n",
    "import numpy as np\n",
    "from functools import partial\n",
    "from collections import OrderedDict\n",
    "from pathlib import Path\n",
    "from toolz import valmap, valfilter\n",
    "from tqdm.auto import tqdm\n",
    "\n",
    "import jax\n",
    "import jax.numpy as jnp\n",
    "from jax_moseq.models import arhmm\n",
    "from jax_moseq.utils import batch, convert_data_precision"
   ]
  },
  {
   "cell_type": "code",
   "execution_count": 2,
   "metadata": {
    "tags": []
   },
   "outputs": [],
   "source": [
    "def whiten_all(data_dict, center=True):\n",
    "    \"\"\"\n",
    "    Whiten the PC Scores (with Cholesky decomposition) using all the data to compute the covariance matrix.\n",
    "\n",
    "    Args:\n",
    "    data_dict (OrderedDict): Training dataset\n",
    "    center (bool): Indicates whether to center data by subtracting the mean PC score.\n",
    "\n",
    "    Returns:\n",
    "    data_dict (OrderedDict): Whitened training data dictionary\n",
    "    \"\"\"\n",
    "\n",
    "    non_nan = lambda x: x[~np.isnan(np.reshape(x, (x.shape[0], -1))).any(1)]\n",
    "    meancov = lambda x: (x.mean(0), np.cov(x, rowvar=False, bias=1))\n",
    "    contig = partial(np.require, dtype=np.float64, requirements='C')\n",
    "\n",
    "    mu, Sigma = meancov(np.concatenate(list(map(non_nan, data_dict.values()))))\n",
    "    L = np.linalg.cholesky(Sigma)\n",
    "\n",
    "    offset = 0. if center else mu\n",
    "    apply_whitening = lambda x:  np.linalg.solve(L, (x-mu).T).T + offset\n",
    "\n",
    "    return OrderedDict((k, contig(apply_whitening(v))) for k, v in data_dict.items())\n",
    "\n",
    "\n",
    "def concatenate_stateseqs(stateseqs, mask=None):\n",
    "    \"\"\"\n",
    "    Concatenate state sequences, optionally applying a mask.\n",
    "    Parameters\n",
    "    ----------\n",
    "    stateseqs: dict or ndarray, shape (..., t)\n",
    "        Dictionary mapping names to 1d arrays, or a single\n",
    "        multi-dimensional array representing a batch of state sequences\n",
    "        where the last dim indexes time\n",
    "    mask: ndarray, shape (..., >=t), default=None\n",
    "        Binary indicator for which elements of ``stateseqs`` are valid,\n",
    "        e.g. when state sequences of different lengths have been padded.\n",
    "        If ``mask`` contains more time-points than ``stateseqs``, the\n",
    "        initial extra time-points will be ignored.\n",
    "    Returns\n",
    "    -------\n",
    "    stateseqs_flat: ndarray\n",
    "        1d array containing all state sequences \n",
    "    \"\"\"\n",
    "    if isinstance(stateseqs, dict):\n",
    "        stateseq_flat = np.hstack(list(stateseqs.values()))\n",
    "    elif mask is not None:\n",
    "        stateseq_flat = stateseqs[mask[:, -stateseqs.shape[1]:] > 0]\n",
    "    else:\n",
    "        stateseq_flat = stateseqs.flatten()\n",
    "    return stateseq_flat\n",
    "\n",
    "\n",
    "def get_durations(stateseqs, mask=None):\n",
    "    \"\"\"\n",
    "    Get durations for a batch of state sequences. For a more detailed \n",
    "    description of the function parameters, see \n",
    "    :py:func:`keypoint_moseq.util.concatenate_stateseqs`\n",
    "    Parameters\n",
    "    ----------\n",
    "    stateseqs: dict or ndarray of shape (..., t)\n",
    "    mask: ndarray of shape (..., >=t), default=None\n",
    "    Returns\n",
    "    -------\n",
    "    durations: 1d array\n",
    "        The duration of each each state (across all state sequences)\n",
    "    Examples\n",
    "    --------\n",
    "    >>> stateseqs = {\n",
    "        'name1': np.array([1, 1, 2, 2, 2, 3]),\n",
    "        'name2': np.array([0, 0, 0, 1])\n",
    "    }\n",
    "    >>> get_durations(stateseqs)\n",
    "    array([2, 3, 1, 3, 1])\n",
    "    \"\"\"\n",
    "    stateseq_flat = concatenate_stateseqs(stateseqs, mask=mask).astype(int)\n",
    "    stateseq_padded = np.hstack([[-1], stateseq_flat, [-1]])\n",
    "    changepoints = np.diff(stateseq_padded).nonzero()[0]\n",
    "    return changepoints[1:]-changepoints[:-1]"
   ]
  },
  {
   "cell_type": "code",
   "execution_count": 3,
   "metadata": {
    "tags": []
   },
   "outputs": [],
   "source": [
    "version = 6\n",
    "folder = Path(f'/n/groups/datta/win/longtogeny/data/ontogeny/version_{version:02d}')"
   ]
  },
  {
   "cell_type": "code",
   "execution_count": 4,
   "metadata": {
    "tags": []
   },
   "outputs": [],
   "source": [
    "pca_path = folder / '_pca/pca_scores.h5'\n",
    "\n",
    "with h5py.File(pca_path, 'r') as h5f:\n",
    "    pc_data = {k: h5f['scores'][k][:, :10] for k in h5f['scores']}"
   ]
  },
  {
   "cell_type": "code",
   "execution_count": 5,
   "metadata": {
    "tags": []
   },
   "outputs": [],
   "source": [
    "pc_data = whiten_all(pc_data)"
   ]
  },
  {
   "cell_type": "code",
   "execution_count": 6,
   "metadata": {
    "tags": []
   },
   "outputs": [],
   "source": [
    "nan_threshold = 300  # frames\n",
    "pc_data = valfilter(lambda v: np.isnan(v).any(1).sum() < nan_threshold, pc_data)"
   ]
  },
  {
   "cell_type": "code",
   "execution_count": 7,
   "metadata": {
    "tags": []
   },
   "outputs": [
    {
     "data": {
      "text/plain": [
       "3129684"
      ]
     },
     "execution_count": 7,
     "metadata": {},
     "output_type": "execute_result"
    }
   ],
   "source": [
    "total_frames = sum(map(len, pc_data.values()))\n",
    "total_frames"
   ]
  },
  {
   "cell_type": "code",
   "execution_count": 8,
   "metadata": {
    "tags": []
   },
   "outputs": [],
   "source": [
    "max_frames = 1.75e6\n",
    "frames_per_session = int(max_frames // len(pc_data))"
   ]
  },
  {
   "cell_type": "code",
   "execution_count": 9,
   "metadata": {
    "tags": []
   },
   "outputs": [
    {
     "data": {
      "text/plain": [
       "30172"
      ]
     },
     "execution_count": 9,
     "metadata": {},
     "output_type": "execute_result"
    }
   ],
   "source": [
    "frames_per_session"
   ]
  },
  {
   "cell_type": "code",
   "execution_count": 10,
   "metadata": {
    "tags": []
   },
   "outputs": [],
   "source": [
    "# grab the middle of the dataset\n",
    "def slice_data(v):\n",
    "    diff = len(v) - frames_per_session\n",
    "    return v[diff // 2:frames_per_session + diff // 2]"
   ]
  },
  {
   "cell_type": "code",
   "execution_count": 11,
   "metadata": {},
   "outputs": [],
   "source": [
    "pc_data = valmap(slice_data, pc_data)"
   ]
  },
  {
   "cell_type": "code",
   "execution_count": 12,
   "metadata": {
    "tags": []
   },
   "outputs": [],
   "source": [
    "num_states = 100\n",
    "nlags = 3"
   ]
  },
  {
   "cell_type": "code",
   "execution_count": 13,
   "metadata": {
    "tags": []
   },
   "outputs": [],
   "source": [
    "data = {}\n",
    "data[\"x\"], data[\"mask\"], lbls = batch(pc_data)\n",
    "\n",
    "non_nans = ~jnp.isnan(data['x']).any(-1)\n",
    "mask = [jnp.roll(non_nans, shift) for shift in range(nlags + 1)]\n",
    "mask = jnp.all(jnp.array(mask), axis=0)\n",
    "\n",
    "data['mask'] = jnp.where(mask, data['mask'], 0)\n",
    "del mask\n",
    "del non_nans\n",
    "\n",
    "data['x'] = jnp.where(jnp.isnan(data['x']), 0, data['x'])\n",
    "data = convert_data_precision(data)\n",
    "data['mask'] = data['mask'].astype('int')"
   ]
  },
  {
   "cell_type": "code",
   "execution_count": 14,
   "metadata": {
    "tags": []
   },
   "outputs": [],
   "source": [
    "kappas = np.logspace(6, 8, 7)"
   ]
  },
  {
   "cell_type": "code",
   "execution_count": 15,
   "metadata": {
    "tags": []
   },
   "outputs": [],
   "source": [
    "latent_dim = obs_dim = data['x'].shape[-1]\n",
    "ar_hypparams = {\n",
    "    'S_0_scale': .01,\n",
    "    'K_0_scale': 10,\n",
    "    'num_states': num_states,\n",
    "    'nlags': nlags,\n",
    "    'latent_dim': latent_dim\n",
    "}"
   ]
  },
  {
   "cell_type": "code",
   "execution_count": 16,
   "metadata": {
    "tags": []
   },
   "outputs": [
    {
     "data": {
      "application/vnd.jupyter.widget-view+json": {
       "model_id": "75d47b793c6640bea9228eddb05c96d6",
       "version_major": 2,
       "version_minor": 0
      },
      "text/plain": [
       "kappa scan:   0%|          | 0/7 [00:00<?, ?it/s]"
      ]
     },
     "metadata": {},
     "output_type": "display_data"
    },
    {
     "name": "stdout",
     "output_type": "stream",
     "text": [
      "ARHMM: Initializing hyperparameters\n",
      "ARHMM: Initializing parameters\n",
      "ARHMM: Initializing states\n"
     ]
    },
    {
     "data": {
      "application/vnd.jupyter.widget-view+json": {
       "model_id": "fcd03dc165d849e7801d552215160b01",
       "version_major": 2,
       "version_minor": 0
      },
      "text/plain": [
       "  0%|          | 0/35 [00:00<?, ?it/s]"
      ]
     },
     "metadata": {},
     "output_type": "display_data"
    },
    {
     "name": "stdout",
     "output_type": "stream",
     "text": [
      "ARHMM: Initializing hyperparameters\n",
      "ARHMM: Initializing parameters\n",
      "ARHMM: Initializing states\n"
     ]
    },
    {
     "data": {
      "application/vnd.jupyter.widget-view+json": {
       "model_id": "3e8045ebd4414686a96ebc0802ee6926",
       "version_major": 2,
       "version_minor": 0
      },
      "text/plain": [
       "  0%|          | 0/35 [00:00<?, ?it/s]"
      ]
     },
     "metadata": {},
     "output_type": "display_data"
    },
    {
     "name": "stdout",
     "output_type": "stream",
     "text": [
      "ARHMM: Initializing hyperparameters\n",
      "ARHMM: Initializing parameters\n",
      "ARHMM: Initializing states\n"
     ]
    },
    {
     "data": {
      "application/vnd.jupyter.widget-view+json": {
       "model_id": "756b1657ee6f4169b8b76b6ee5c562f7",
       "version_major": 2,
       "version_minor": 0
      },
      "text/plain": [
       "  0%|          | 0/35 [00:00<?, ?it/s]"
      ]
     },
     "metadata": {},
     "output_type": "display_data"
    },
    {
     "name": "stdout",
     "output_type": "stream",
     "text": [
      "ARHMM: Initializing hyperparameters\n",
      "ARHMM: Initializing parameters\n",
      "ARHMM: Initializing states\n"
     ]
    },
    {
     "data": {
      "application/vnd.jupyter.widget-view+json": {
       "model_id": "8c1d7954f40e4153b484b9d8860eca4e",
       "version_major": 2,
       "version_minor": 0
      },
      "text/plain": [
       "  0%|          | 0/35 [00:00<?, ?it/s]"
      ]
     },
     "metadata": {},
     "output_type": "display_data"
    },
    {
     "name": "stdout",
     "output_type": "stream",
     "text": [
      "ARHMM: Initializing hyperparameters\n",
      "ARHMM: Initializing parameters\n",
      "ARHMM: Initializing states\n"
     ]
    },
    {
     "data": {
      "application/vnd.jupyter.widget-view+json": {
       "model_id": "cc44e3283bf747808ddd8aa1ef40b30e",
       "version_major": 2,
       "version_minor": 0
      },
      "text/plain": [
       "  0%|          | 0/35 [00:00<?, ?it/s]"
      ]
     },
     "metadata": {},
     "output_type": "display_data"
    },
    {
     "name": "stdout",
     "output_type": "stream",
     "text": [
      "ARHMM: Initializing hyperparameters\n",
      "ARHMM: Initializing parameters\n",
      "ARHMM: Initializing states\n"
     ]
    },
    {
     "data": {
      "application/vnd.jupyter.widget-view+json": {
       "model_id": "8f9ef573372b42a784c512fc1daaac3d",
       "version_major": 2,
       "version_minor": 0
      },
      "text/plain": [
       "  0%|          | 0/35 [00:00<?, ?it/s]"
      ]
     },
     "metadata": {},
     "output_type": "display_data"
    },
    {
     "name": "stdout",
     "output_type": "stream",
     "text": [
      "ARHMM: Initializing hyperparameters\n",
      "ARHMM: Initializing parameters\n",
      "ARHMM: Initializing states\n"
     ]
    },
    {
     "data": {
      "application/vnd.jupyter.widget-view+json": {
       "model_id": "b209b206ab8a4e929b29d683954f0486",
       "version_major": 2,
       "version_minor": 0
      },
      "text/plain": [
       "  0%|          | 0/35 [00:00<?, ?it/s]"
      ]
     },
     "metadata": {},
     "output_type": "display_data"
    }
   ],
   "source": [
    "num_iters = 35\n",
    "\n",
    "durations = {}\n",
    "agg_durations = {}\n",
    "for k in tqdm(kappas, desc='kappa scan'):\n",
    "    ll_keys = ['z', 'x']\n",
    "    ll_history = {key: [] for key in ll_keys}\n",
    "\n",
    "    trans_hypparams = {\n",
    "        'gamma': 1e3,\n",
    "        'alpha': 5.7,\n",
    "        'kappa': k,\n",
    "        'num_states': num_states\n",
    "    }\n",
    "\n",
    "    model = arhmm.init_model(\n",
    "        data,\n",
    "        ar_hypparams=ar_hypparams,\n",
    "        trans_hypparams=trans_hypparams,\n",
    "        robust=True,\n",
    "        verbose=True\n",
    "    )\n",
    "\n",
    "    pbar = tqdm(range(num_iters))\n",
    "\n",
    "    _durs = []\n",
    "\n",
    "    for i in pbar:\n",
    "        # Perform Gibbs resampling\n",
    "        model = arhmm.resample_model(data, **model)\n",
    "\n",
    "        durs = get_durations(model['states']['z'], data['mask'])\n",
    "\n",
    "        # Compute the likelihood of the data and\n",
    "        # resampled states given the resampled params\n",
    "        ll = arhmm.model_likelihood(data, **model)\n",
    "        for key in ll_keys:\n",
    "            ll_history[key].append(ll[key].item())\n",
    "        pbar.set_description(f\"LL: {ll['x']:0.2e} -- Dur {np.mean(durs) / 30:0.2f}s {np.median(durs) / 30:0.2f}s\")\n",
    "        _durs.append(np.mean(durs))\n",
    "    durations[k] = (np.mean(durs) / 30, np.median(durs) / 30)\n",
    "    agg_durations[k] = _durs"
   ]
  },
  {
   "cell_type": "code",
   "execution_count": 17,
   "metadata": {},
   "outputs": [],
   "source": [
    "best_duration = valmap(lambda v: np.abs(v[0] - 0.6), durations)\n",
    "best_kappa = min(best_duration, key=best_duration.get)"
   ]
  },
  {
   "cell_type": "code",
   "execution_count": 18,
   "metadata": {
    "tags": []
   },
   "outputs": [
    {
     "data": {
      "text/plain": [
       "{1000000.0: 0.1329710667243303,\n",
       " 2154434.6900318824: 0.07314727813715916,\n",
       " 4641588.833612782: 0.018735816645568115,\n",
       " 10000000.0: 0.03467057026661291,\n",
       " 21544346.900318824: 0.08614588726251549,\n",
       " 46415888.33612773: 0.13330860223166763,\n",
       " 100000000.0: 0.18830625174610904}"
      ]
     },
     "execution_count": 18,
     "metadata": {},
     "output_type": "execute_result"
    }
   ],
   "source": [
    "best_duration"
   ]
  },
  {
   "cell_type": "code",
   "execution_count": 19,
   "metadata": {},
   "outputs": [
    {
     "data": {
      "text/plain": [
       "4641588.833612782"
      ]
     },
     "execution_count": 19,
     "metadata": {},
     "output_type": "execute_result"
    }
   ],
   "source": [
    "best_kappa"
   ]
  },
  {
   "cell_type": "code",
   "execution_count": 20,
   "metadata": {
    "tags": []
   },
   "outputs": [
    {
     "name": "stdout",
     "output_type": "stream",
     "text": [
      "ARHMM: Initializing hyperparameters\n",
      "ARHMM: Initializing parameters\n",
      "ARHMM: Initializing states\n"
     ]
    },
    {
     "data": {
      "application/vnd.jupyter.widget-view+json": {
       "model_id": "36f2d816b8004d159fe7e1e1376455a6",
       "version_major": 2,
       "version_minor": 0
      },
      "text/plain": [
       "  0%|          | 0/1000 [00:00<?, ?it/s]"
      ]
     },
     "metadata": {},
     "output_type": "display_data"
    }
   ],
   "source": [
    "num_iters = 1000\n",
    "ll_keys = ['z', 'x']\n",
    "ll_history = {key: [] for key in ll_keys}\n",
    "\n",
    "trans_hypparams = {\n",
    "    'gamma': 1e3,\n",
    "    'alpha': 5.7,\n",
    "    'kappa': best_kappa,\n",
    "    'num_states': num_states\n",
    "}\n",
    "\n",
    "model = arhmm.init_model(\n",
    "    data,\n",
    "    ar_hypparams=ar_hypparams,\n",
    "    trans_hypparams=trans_hypparams,\n",
    "    robust=True,\n",
    "    verbose=True\n",
    ")\n",
    "\n",
    "pbar = tqdm(range(num_iters))\n",
    "\n",
    "for i in pbar:\n",
    "    # Perform Gibbs resampling\n",
    "    model = arhmm.resample_model(data, **model)\n",
    "    durs = get_durations(model['states']['z'], data['mask'])\n",
    "\n",
    "    # Compute the likelihood of the data and\n",
    "    # resampled states given the resampled params\n",
    "    ll = arhmm.model_likelihood(data, **model)\n",
    "    for key in ll_keys:\n",
    "        ll_history[key].append(ll[key].item())\n",
    "    pbar.set_description(f\"LL: {ll['x']:0.2e} -- Dur {np.mean(durs) / 30:0.2f}s {np.median(durs) / 30:0.2f}s\")"
   ]
  },
  {
   "cell_type": "code",
   "execution_count": 21,
   "metadata": {
    "tags": []
   },
   "outputs": [
    {
     "data": {
      "text/plain": [
       "['/n/groups/datta/win/longtogeny/data/ontogeny/version_06/model_params.p']"
      ]
     },
     "execution_count": 21,
     "metadata": {},
     "output_type": "execute_result"
    }
   ],
   "source": [
    "joblib.dump(model, folder / 'model_params.p')"
   ]
  }
 ],
 "metadata": {
  "kernelspec": {
   "display_name": "jax-moseq",
   "language": "python",
   "name": "jax-moseq"
  },
  "language_info": {
   "codemirror_mode": {
    "name": "ipython",
    "version": 3
   },
   "file_extension": ".py",
   "mimetype": "text/x-python",
   "name": "python",
   "nbconvert_exporter": "python",
   "pygments_lexer": "ipython3",
   "version": "3.10.9"
  },
  "widgets": {
   "application/vnd.jupyter.widget-state+json": {
    "state": {
     "032fb2fc2d23463ea9642eb80dec3772": {
      "model_module": "@jupyter-widgets/controls",
      "model_module_version": "2.0.0",
      "model_name": "HTMLModel",
      "state": {
       "layout": "IPY_MODEL_ade04fc134984ce5948c17883466214a",
       "style": "IPY_MODEL_d296de1b2ea946d08f20b466f1be005c",
       "value": "LL: -1.87e+07 -- Dur 0.56s 0.40s: 100%"
      }
     },
     "0456925889bf4dfc9e1cd3a747758120": {
      "model_module": "@jupyter-widgets/controls",
      "model_module_version": "2.0.0",
      "model_name": "HTMLStyleModel",
      "state": {
       "description_width": "",
       "font_size": null,
       "text_color": null
      }
     },
     "066c9081eadb49558c905bff558a5b05": {
      "model_module": "@jupyter-widgets/base",
      "model_module_version": "2.0.0",
      "model_name": "LayoutModel",
      "state": {}
     },
     "087f512d4c644b30b21d8f3139ea136b": {
      "model_module": "@jupyter-widgets/base",
      "model_module_version": "2.0.0",
      "model_name": "LayoutModel",
      "state": {}
     },
     "0a117cefe52548a384775088a7dd958a": {
      "model_module": "@jupyter-widgets/base",
      "model_module_version": "2.0.0",
      "model_name": "LayoutModel",
      "state": {}
     },
     "0fb9f37bf13f47afb2371e2b459d8bbc": {
      "model_module": "@jupyter-widgets/controls",
      "model_module_version": "2.0.0",
      "model_name": "FloatProgressModel",
      "state": {
       "bar_style": "success",
       "layout": "IPY_MODEL_f0fafdc305434457809883f3b31c24b1",
       "max": 1000,
       "style": "IPY_MODEL_76160452fdea4e2d93bbba69f09df968",
       "value": 1000
      }
     },
     "1189bc841ce34e83a1799dcaab0bf760": {
      "model_module": "@jupyter-widgets/controls",
      "model_module_version": "2.0.0",
      "model_name": "FloatProgressModel",
      "state": {
       "bar_style": "success",
       "layout": "IPY_MODEL_730a1c03041841cdb42c5481882d76f2",
       "max": 35,
       "style": "IPY_MODEL_d181ef06c056490c85d4268f43d7159d",
       "value": 35
      }
     },
     "11ba04143304444fa374c7bad9e07d93": {
      "model_module": "@jupyter-widgets/controls",
      "model_module_version": "2.0.0",
      "model_name": "HTMLStyleModel",
      "state": {
       "description_width": "",
       "font_size": null,
       "text_color": null
      }
     },
     "175483fd21bb45f7b156b504c4077f4a": {
      "model_module": "@jupyter-widgets/base",
      "model_module_version": "2.0.0",
      "model_name": "LayoutModel",
      "state": {}
     },
     "2190d89ea3b741cea797df48fb5807f1": {
      "model_module": "@jupyter-widgets/controls",
      "model_module_version": "2.0.0",
      "model_name": "ProgressStyleModel",
      "state": {
       "description_width": ""
      }
     },
     "22bbaeaaf25b4761bf17386ffe72337a": {
      "model_module": "@jupyter-widgets/controls",
      "model_module_version": "2.0.0",
      "model_name": "HTMLModel",
      "state": {
       "layout": "IPY_MODEL_dd03299c39314a3589edd5e413fde382",
       "style": "IPY_MODEL_6ee2837f01b04bf4bf0a0ebf8833ba5b",
       "value": " 35/35 [03:53&lt;00:00,  6.44s/it]"
      }
     },
     "239a2261a21d4d82936ef1f400edda41": {
      "model_module": "@jupyter-widgets/controls",
      "model_module_version": "2.0.0",
      "model_name": "HTMLStyleModel",
      "state": {
       "description_width": "",
       "font_size": null,
       "text_color": null
      }
     },
     "259fbd514e1c40c388cfa1e75d67cab1": {
      "model_module": "@jupyter-widgets/controls",
      "model_module_version": "2.0.0",
      "model_name": "FloatProgressModel",
      "state": {
       "bar_style": "success",
       "layout": "IPY_MODEL_561202010f264c7088ad44016cb82fa8",
       "max": 35,
       "style": "IPY_MODEL_8ad311e94f804ebdb508040f676999b1",
       "value": 35
      }
     },
     "26f668281b924c5096fb847094a62574": {
      "model_module": "@jupyter-widgets/controls",
      "model_module_version": "2.0.0",
      "model_name": "ProgressStyleModel",
      "state": {
       "description_width": ""
      }
     },
     "2f03c21880554d7795acb45e895c5335": {
      "model_module": "@jupyter-widgets/controls",
      "model_module_version": "2.0.0",
      "model_name": "HTMLStyleModel",
      "state": {
       "description_width": "",
       "font_size": null,
       "text_color": null
      }
     },
     "302104a36fa64ddca567406ff08b986f": {
      "model_module": "@jupyter-widgets/controls",
      "model_module_version": "2.0.0",
      "model_name": "HTMLModel",
      "state": {
       "layout": "IPY_MODEL_50a19994b6d046c3b45f7f9ea75ab7f3",
       "style": "IPY_MODEL_42ddab4e01b0430b9153453524786340",
       "value": " 7/7 [27:27&lt;00:00, 232.67s/it]"
      }
     },
     "309526e2cab642d7929237edb150b0b6": {
      "model_module": "@jupyter-widgets/base",
      "model_module_version": "2.0.0",
      "model_name": "LayoutModel",
      "state": {}
     },
     "36f2d816b8004d159fe7e1e1376455a6": {
      "model_module": "@jupyter-widgets/controls",
      "model_module_version": "2.0.0",
      "model_name": "HBoxModel",
      "state": {
       "children": [
        "IPY_MODEL_032fb2fc2d23463ea9642eb80dec3772",
        "IPY_MODEL_0fb9f37bf13f47afb2371e2b459d8bbc",
        "IPY_MODEL_84c368b392214f479265fbd81c76f06c"
       ],
       "layout": "IPY_MODEL_5c57b76b5a974787bc3c296d2b904d6d"
      }
     },
     "390461e83f434227a879f0cb9db40ecd": {
      "model_module": "@jupyter-widgets/controls",
      "model_module_version": "2.0.0",
      "model_name": "HTMLModel",
      "state": {
       "layout": "IPY_MODEL_58f6454645f94edaa4550994a70b39b5",
       "style": "IPY_MODEL_11ba04143304444fa374c7bad9e07d93",
       "value": "LL: -2.58e+08 -- Dur 0.63s 0.47s: 100%"
      }
     },
     "3a6716e4c6464f4ea9d6095026d56a1e": {
      "model_module": "@jupyter-widgets/controls",
      "model_module_version": "2.0.0",
      "model_name": "HTMLStyleModel",
      "state": {
       "description_width": "",
       "font_size": null,
       "text_color": null
      }
     },
     "3ba6b866bdde48159c7334a83601b529": {
      "model_module": "@jupyter-widgets/base",
      "model_module_version": "2.0.0",
      "model_name": "LayoutModel",
      "state": {}
     },
     "3e8045ebd4414686a96ebc0802ee6926": {
      "model_module": "@jupyter-widgets/controls",
      "model_module_version": "2.0.0",
      "model_name": "HBoxModel",
      "state": {
       "children": [
        "IPY_MODEL_aba084982dad4de1b47abc0d9d03c4e0",
        "IPY_MODEL_db9c70a21dd346cab5c4222d307bf05b",
        "IPY_MODEL_56363ca845064686a47e212f88689152"
       ],
       "layout": "IPY_MODEL_43e0374751f04aa4b5474b4e7cf89c10"
      }
     },
     "3f0a84d31f3447b5b19e35249a015b4c": {
      "model_module": "@jupyter-widgets/controls",
      "model_module_version": "2.0.0",
      "model_name": "ProgressStyleModel",
      "state": {
       "description_width": ""
      }
     },
     "412ab319bd3148718e63670c3b3b1729": {
      "model_module": "@jupyter-widgets/base",
      "model_module_version": "2.0.0",
      "model_name": "LayoutModel",
      "state": {}
     },
     "42ddab4e01b0430b9153453524786340": {
      "model_module": "@jupyter-widgets/controls",
      "model_module_version": "2.0.0",
      "model_name": "HTMLStyleModel",
      "state": {
       "description_width": "",
       "font_size": null,
       "text_color": null
      }
     },
     "43e0374751f04aa4b5474b4e7cf89c10": {
      "model_module": "@jupyter-widgets/base",
      "model_module_version": "2.0.0",
      "model_name": "LayoutModel",
      "state": {}
     },
     "4adca3f9ebb0429f839f1d232384c558": {
      "model_module": "@jupyter-widgets/base",
      "model_module_version": "2.0.0",
      "model_name": "LayoutModel",
      "state": {}
     },
     "50a19994b6d046c3b45f7f9ea75ab7f3": {
      "model_module": "@jupyter-widgets/base",
      "model_module_version": "2.0.0",
      "model_name": "LayoutModel",
      "state": {}
     },
     "561202010f264c7088ad44016cb82fa8": {
      "model_module": "@jupyter-widgets/base",
      "model_module_version": "2.0.0",
      "model_name": "LayoutModel",
      "state": {}
     },
     "56363ca845064686a47e212f88689152": {
      "model_module": "@jupyter-widgets/controls",
      "model_module_version": "2.0.0",
      "model_name": "HTMLModel",
      "state": {
       "layout": "IPY_MODEL_aaef7aae1d4f4b12bfc6faba10bb056d",
       "style": "IPY_MODEL_f9480d97a2c44fe19e7ab45b29e9c6d7",
       "value": " 35/35 [03:45&lt;00:00,  6.44s/it]"
      }
     },
     "58f6454645f94edaa4550994a70b39b5": {
      "model_module": "@jupyter-widgets/base",
      "model_module_version": "2.0.0",
      "model_name": "LayoutModel",
      "state": {}
     },
     "59ab51b017184ad388f4727d53d189e9": {
      "model_module": "@jupyter-widgets/controls",
      "model_module_version": "2.0.0",
      "model_name": "HTMLStyleModel",
      "state": {
       "description_width": "",
       "font_size": null,
       "text_color": null
      }
     },
     "5c57b76b5a974787bc3c296d2b904d6d": {
      "model_module": "@jupyter-widgets/base",
      "model_module_version": "2.0.0",
      "model_name": "LayoutModel",
      "state": {}
     },
     "5cad1694847a4f97aca8ac3e84fc4999": {
      "model_module": "@jupyter-widgets/controls",
      "model_module_version": "2.0.0",
      "model_name": "HTMLModel",
      "state": {
       "layout": "IPY_MODEL_b7f04192de0c45039efc258b11f48d50",
       "style": "IPY_MODEL_59ab51b017184ad388f4727d53d189e9",
       "value": "LL: -2.48e+08 -- Dur 0.58s 0.43s: 100%"
      }
     },
     "632667036f744da98fa67914a7e2fc7d": {
      "model_module": "@jupyter-widgets/controls",
      "model_module_version": "2.0.0",
      "model_name": "HTMLModel",
      "state": {
       "layout": "IPY_MODEL_dbbfbf6b43174fd8b2bd96d5e9bc529d",
       "style": "IPY_MODEL_3a6716e4c6464f4ea9d6095026d56a1e",
       "value": " 35/35 [03:45&lt;00:00,  6.44s/it]"
      }
     },
     "642e9b4689bd4c43a191d835ff360df4": {
      "model_module": "@jupyter-widgets/controls",
      "model_module_version": "2.0.0",
      "model_name": "HTMLModel",
      "state": {
       "layout": "IPY_MODEL_087f512d4c644b30b21d8f3139ea136b",
       "style": "IPY_MODEL_7ac14b0f342e484e9ae4ed4052057d18",
       "value": "LL: -2.72e+08 -- Dur 0.73s 0.53s: 100%"
      }
     },
     "6573377cba724eefbf3e319d39b6008e": {
      "model_module": "@jupyter-widgets/controls",
      "model_module_version": "2.0.0",
      "model_name": "HTMLStyleModel",
      "state": {
       "description_width": "",
       "font_size": null,
       "text_color": null
      }
     },
     "669f9d8c31164306ae13e071de23bd7e": {
      "model_module": "@jupyter-widgets/base",
      "model_module_version": "2.0.0",
      "model_name": "LayoutModel",
      "state": {}
     },
     "692d7458697b426aa43123af3d2faf0b": {
      "model_module": "@jupyter-widgets/controls",
      "model_module_version": "2.0.0",
      "model_name": "HTMLStyleModel",
      "state": {
       "description_width": "",
       "font_size": null,
       "text_color": null
      }
     },
     "6ae18f73f02642deb358f67df3dd4c6e": {
      "model_module": "@jupyter-widgets/base",
      "model_module_version": "2.0.0",
      "model_name": "LayoutModel",
      "state": {}
     },
     "6c3e83e19291458a8d58cc3e0c2bd2af": {
      "model_module": "@jupyter-widgets/controls",
      "model_module_version": "2.0.0",
      "model_name": "HTMLModel",
      "state": {
       "layout": "IPY_MODEL_669f9d8c31164306ae13e071de23bd7e",
       "style": "IPY_MODEL_d2416ba40c194106b08c9dc01bf705fe",
       "value": " 35/35 [03:45&lt;00:00,  6.44s/it]"
      }
     },
     "6dc1cc8216f94da58b1dc2725e035ad4": {
      "model_module": "@jupyter-widgets/base",
      "model_module_version": "2.0.0",
      "model_name": "LayoutModel",
      "state": {}
     },
     "6e88a55eed6f431481161db7493a2f19": {
      "model_module": "@jupyter-widgets/base",
      "model_module_version": "2.0.0",
      "model_name": "LayoutModel",
      "state": {}
     },
     "6ee2837f01b04bf4bf0a0ebf8833ba5b": {
      "model_module": "@jupyter-widgets/controls",
      "model_module_version": "2.0.0",
      "model_name": "HTMLStyleModel",
      "state": {
       "description_width": "",
       "font_size": null,
       "text_color": null
      }
     },
     "730a1c03041841cdb42c5481882d76f2": {
      "model_module": "@jupyter-widgets/base",
      "model_module_version": "2.0.0",
      "model_name": "LayoutModel",
      "state": {}
     },
     "756b1657ee6f4169b8b76b6ee5c562f7": {
      "model_module": "@jupyter-widgets/controls",
      "model_module_version": "2.0.0",
      "model_name": "HBoxModel",
      "state": {
       "children": [
        "IPY_MODEL_5cad1694847a4f97aca8ac3e84fc4999",
        "IPY_MODEL_aee8270c3a274a26bb8b9bdadafa2612",
        "IPY_MODEL_632667036f744da98fa67914a7e2fc7d"
       ],
       "layout": "IPY_MODEL_6dc1cc8216f94da58b1dc2725e035ad4"
      }
     },
     "75d47b793c6640bea9228eddb05c96d6": {
      "model_module": "@jupyter-widgets/controls",
      "model_module_version": "2.0.0",
      "model_name": "HBoxModel",
      "state": {
       "children": [
        "IPY_MODEL_a1a4943f0e7d4d56809004eea4442a56",
        "IPY_MODEL_ac5144295cb2409583a5e943fe441f8f",
        "IPY_MODEL_302104a36fa64ddca567406ff08b986f"
       ],
       "layout": "IPY_MODEL_0a117cefe52548a384775088a7dd958a"
      }
     },
     "76160452fdea4e2d93bbba69f09df968": {
      "model_module": "@jupyter-widgets/controls",
      "model_module_version": "2.0.0",
      "model_name": "ProgressStyleModel",
      "state": {
       "description_width": ""
      }
     },
     "7ac14b0f342e484e9ae4ed4052057d18": {
      "model_module": "@jupyter-widgets/controls",
      "model_module_version": "2.0.0",
      "model_name": "HTMLStyleModel",
      "state": {
       "description_width": "",
       "font_size": null,
       "text_color": null
      }
     },
     "7d0c16797a0c4bd19394a63dcdb16ba8": {
      "model_module": "@jupyter-widgets/controls",
      "model_module_version": "2.0.0",
      "model_name": "ProgressStyleModel",
      "state": {
       "description_width": ""
      }
     },
     "8415dfbc8c4446c69b13d74305217f12": {
      "model_module": "@jupyter-widgets/controls",
      "model_module_version": "2.0.0",
      "model_name": "HTMLStyleModel",
      "state": {
       "description_width": "",
       "font_size": null,
       "text_color": null
      }
     },
     "84c368b392214f479265fbd81c76f06c": {
      "model_module": "@jupyter-widgets/controls",
      "model_module_version": "2.0.0",
      "model_name": "HTMLModel",
      "state": {
       "layout": "IPY_MODEL_4adca3f9ebb0429f839f1d232384c558",
       "style": "IPY_MODEL_af1db19148db4d86a4223d5d2e03ed49",
       "value": " 1000/1000 [1:47:22&lt;00:00,  6.44s/it]"
      }
     },
     "8738bf96548343c083f21adc8d28aece": {
      "model_module": "@jupyter-widgets/base",
      "model_module_version": "2.0.0",
      "model_name": "LayoutModel",
      "state": {}
     },
     "8ad311e94f804ebdb508040f676999b1": {
      "model_module": "@jupyter-widgets/controls",
      "model_module_version": "2.0.0",
      "model_name": "ProgressStyleModel",
      "state": {
       "description_width": ""
      }
     },
     "8c1d7954f40e4153b484b9d8860eca4e": {
      "model_module": "@jupyter-widgets/controls",
      "model_module_version": "2.0.0",
      "model_name": "HBoxModel",
      "state": {
       "children": [
        "IPY_MODEL_390461e83f434227a879f0cb9db40ecd",
        "IPY_MODEL_1189bc841ce34e83a1799dcaab0bf760",
        "IPY_MODEL_e37a6b77f3984c0e8a46db39586b6102"
       ],
       "layout": "IPY_MODEL_c1a9ffe1a9034d49950a570f48e7d05a"
      }
     },
     "8f9ef573372b42a784c512fc1daaac3d": {
      "model_module": "@jupyter-widgets/controls",
      "model_module_version": "2.0.0",
      "model_name": "HBoxModel",
      "state": {
       "children": [
        "IPY_MODEL_642e9b4689bd4c43a191d835ff360df4",
        "IPY_MODEL_259fbd514e1c40c388cfa1e75d67cab1",
        "IPY_MODEL_e0a085540569437aa6c2a0cc2d7ed0f8"
       ],
       "layout": "IPY_MODEL_175483fd21bb45f7b156b504c4077f4a"
      }
     },
     "9c7f65b97a084e90933885c447bc69c1": {
      "model_module": "@jupyter-widgets/controls",
      "model_module_version": "2.0.0",
      "model_name": "HTMLModel",
      "state": {
       "layout": "IPY_MODEL_412ab319bd3148718e63670c3b3b1729",
       "style": "IPY_MODEL_239a2261a21d4d82936ef1f400edda41",
       "value": " 35/35 [03:45&lt;00:00,  6.44s/it]"
      }
     },
     "9e2484e4f82e4d88a29003fda1f2dde5": {
      "model_module": "@jupyter-widgets/controls",
      "model_module_version": "2.0.0",
      "model_name": "FloatProgressModel",
      "state": {
       "bar_style": "success",
       "layout": "IPY_MODEL_f500c4387ac543f4932b08d97d9f10ff",
       "max": 35,
       "style": "IPY_MODEL_3f0a84d31f3447b5b19e35249a015b4c",
       "value": 35
      }
     },
     "a1a4943f0e7d4d56809004eea4442a56": {
      "model_module": "@jupyter-widgets/controls",
      "model_module_version": "2.0.0",
      "model_name": "HTMLModel",
      "state": {
       "layout": "IPY_MODEL_bc0913d1494b4962bc96d334d2b65307",
       "style": "IPY_MODEL_692d7458697b426aa43123af3d2faf0b",
       "value": "kappa scan: 100%"
      }
     },
     "a7699c45f57441339d2a64349f1556b0": {
      "model_module": "@jupyter-widgets/base",
      "model_module_version": "2.0.0",
      "model_name": "LayoutModel",
      "state": {}
     },
     "aaef7aae1d4f4b12bfc6faba10bb056d": {
      "model_module": "@jupyter-widgets/base",
      "model_module_version": "2.0.0",
      "model_name": "LayoutModel",
      "state": {}
     },
     "aba084982dad4de1b47abc0d9d03c4e0": {
      "model_module": "@jupyter-widgets/controls",
      "model_module_version": "2.0.0",
      "model_name": "HTMLModel",
      "state": {
       "layout": "IPY_MODEL_b7a454dafb5948dab61c00ab397bfa46",
       "style": "IPY_MODEL_2f03c21880554d7795acb45e895c5335",
       "value": "LL: -2.24e+08 -- Dur 0.53s 0.37s: 100%"
      }
     },
     "ac5144295cb2409583a5e943fe441f8f": {
      "model_module": "@jupyter-widgets/controls",
      "model_module_version": "2.0.0",
      "model_name": "FloatProgressModel",
      "state": {
       "bar_style": "success",
       "layout": "IPY_MODEL_309526e2cab642d7929237edb150b0b6",
       "max": 7,
       "style": "IPY_MODEL_bf8550db73284fd095b9436cccc65274",
       "value": 7
      }
     },
     "ade04fc134984ce5948c17883466214a": {
      "model_module": "@jupyter-widgets/base",
      "model_module_version": "2.0.0",
      "model_name": "LayoutModel",
      "state": {}
     },
     "aedb3492ef0342a295e544bb31134953": {
      "model_module": "@jupyter-widgets/base",
      "model_module_version": "2.0.0",
      "model_name": "LayoutModel",
      "state": {}
     },
     "aee8270c3a274a26bb8b9bdadafa2612": {
      "model_module": "@jupyter-widgets/controls",
      "model_module_version": "2.0.0",
      "model_name": "FloatProgressModel",
      "state": {
       "bar_style": "success",
       "layout": "IPY_MODEL_8738bf96548343c083f21adc8d28aece",
       "max": 35,
       "style": "IPY_MODEL_7d0c16797a0c4bd19394a63dcdb16ba8",
       "value": 35
      }
     },
     "af1db19148db4d86a4223d5d2e03ed49": {
      "model_module": "@jupyter-widgets/controls",
      "model_module_version": "2.0.0",
      "model_name": "HTMLStyleModel",
      "state": {
       "description_width": "",
       "font_size": null,
       "text_color": null
      }
     },
     "b209b206ab8a4e929b29d683954f0486": {
      "model_module": "@jupyter-widgets/controls",
      "model_module_version": "2.0.0",
      "model_name": "HBoxModel",
      "state": {
       "children": [
        "IPY_MODEL_d8d34d37c8284bb798d93bbe2137c64f",
        "IPY_MODEL_9e2484e4f82e4d88a29003fda1f2dde5",
        "IPY_MODEL_6c3e83e19291458a8d58cc3e0c2bd2af"
       ],
       "layout": "IPY_MODEL_cc7edab86a174349b1e4a6ec32934ed8"
      }
     },
     "b7a454dafb5948dab61c00ab397bfa46": {
      "model_module": "@jupyter-widgets/base",
      "model_module_version": "2.0.0",
      "model_name": "LayoutModel",
      "state": {}
     },
     "b7f04192de0c45039efc258b11f48d50": {
      "model_module": "@jupyter-widgets/base",
      "model_module_version": "2.0.0",
      "model_name": "LayoutModel",
      "state": {}
     },
     "bc0913d1494b4962bc96d334d2b65307": {
      "model_module": "@jupyter-widgets/base",
      "model_module_version": "2.0.0",
      "model_name": "LayoutModel",
      "state": {}
     },
     "bf8550db73284fd095b9436cccc65274": {
      "model_module": "@jupyter-widgets/controls",
      "model_module_version": "2.0.0",
      "model_name": "ProgressStyleModel",
      "state": {
       "description_width": ""
      }
     },
     "c1a9ffe1a9034d49950a570f48e7d05a": {
      "model_module": "@jupyter-widgets/base",
      "model_module_version": "2.0.0",
      "model_name": "LayoutModel",
      "state": {}
     },
     "c88a2060a2dd4138b6e19fab86165276": {
      "model_module": "@jupyter-widgets/controls",
      "model_module_version": "2.0.0",
      "model_name": "HTMLModel",
      "state": {
       "layout": "IPY_MODEL_d70a78ca28364ac99598623a0128df5c",
       "style": "IPY_MODEL_de21640a4eaf4d9ea6c6732e200ad35f",
       "value": "LL: -2.22e+08 -- Dur 0.47s 0.33s: 100%"
      }
     },
     "cc44e3283bf747808ddd8aa1ef40b30e": {
      "model_module": "@jupyter-widgets/controls",
      "model_module_version": "2.0.0",
      "model_name": "HBoxModel",
      "state": {
       "children": [
        "IPY_MODEL_d9c231f5ba1048f99c690602ec285143",
        "IPY_MODEL_d1abd2937f5b4e8bad982a84c3fb82c4",
        "IPY_MODEL_9c7f65b97a084e90933885c447bc69c1"
       ],
       "layout": "IPY_MODEL_aedb3492ef0342a295e544bb31134953"
      }
     },
     "cc7edab86a174349b1e4a6ec32934ed8": {
      "model_module": "@jupyter-widgets/base",
      "model_module_version": "2.0.0",
      "model_name": "LayoutModel",
      "state": {}
     },
     "d181ef06c056490c85d4268f43d7159d": {
      "model_module": "@jupyter-widgets/controls",
      "model_module_version": "2.0.0",
      "model_name": "ProgressStyleModel",
      "state": {
       "description_width": ""
      }
     },
     "d1abd2937f5b4e8bad982a84c3fb82c4": {
      "model_module": "@jupyter-widgets/controls",
      "model_module_version": "2.0.0",
      "model_name": "FloatProgressModel",
      "state": {
       "bar_style": "success",
       "layout": "IPY_MODEL_6ae18f73f02642deb358f67df3dd4c6e",
       "max": 35,
       "style": "IPY_MODEL_d528bcdb74c345faaa4cf31388a8dddf",
       "value": 35
      }
     },
     "d2416ba40c194106b08c9dc01bf705fe": {
      "model_module": "@jupyter-widgets/controls",
      "model_module_version": "2.0.0",
      "model_name": "HTMLStyleModel",
      "state": {
       "description_width": "",
       "font_size": null,
       "text_color": null
      }
     },
     "d296de1b2ea946d08f20b466f1be005c": {
      "model_module": "@jupyter-widgets/controls",
      "model_module_version": "2.0.0",
      "model_name": "HTMLStyleModel",
      "state": {
       "description_width": "",
       "font_size": null,
       "text_color": null
      }
     },
     "d528bcdb74c345faaa4cf31388a8dddf": {
      "model_module": "@jupyter-widgets/controls",
      "model_module_version": "2.0.0",
      "model_name": "ProgressStyleModel",
      "state": {
       "description_width": ""
      }
     },
     "d70a78ca28364ac99598623a0128df5c": {
      "model_module": "@jupyter-widgets/base",
      "model_module_version": "2.0.0",
      "model_name": "LayoutModel",
      "state": {}
     },
     "d8d34d37c8284bb798d93bbe2137c64f": {
      "model_module": "@jupyter-widgets/controls",
      "model_module_version": "2.0.0",
      "model_name": "HTMLModel",
      "state": {
       "layout": "IPY_MODEL_e377ba3a94384cdf8755c6ea8c555523",
       "style": "IPY_MODEL_6573377cba724eefbf3e319d39b6008e",
       "value": "LL: -2.79e+08 -- Dur 0.79s 0.57s: 100%"
      }
     },
     "d9c231f5ba1048f99c690602ec285143": {
      "model_module": "@jupyter-widgets/controls",
      "model_module_version": "2.0.0",
      "model_name": "HTMLModel",
      "state": {
       "layout": "IPY_MODEL_3ba6b866bdde48159c7334a83601b529",
       "style": "IPY_MODEL_0456925889bf4dfc9e1cd3a747758120",
       "value": "LL: -2.69e+08 -- Dur 0.69s 0.50s: 100%"
      }
     },
     "db9c70a21dd346cab5c4222d307bf05b": {
      "model_module": "@jupyter-widgets/controls",
      "model_module_version": "2.0.0",
      "model_name": "FloatProgressModel",
      "state": {
       "bar_style": "success",
       "layout": "IPY_MODEL_6e88a55eed6f431481161db7493a2f19",
       "max": 35,
       "style": "IPY_MODEL_26f668281b924c5096fb847094a62574",
       "value": 35
      }
     },
     "dbbfbf6b43174fd8b2bd96d5e9bc529d": {
      "model_module": "@jupyter-widgets/base",
      "model_module_version": "2.0.0",
      "model_name": "LayoutModel",
      "state": {}
     },
     "dd03299c39314a3589edd5e413fde382": {
      "model_module": "@jupyter-widgets/base",
      "model_module_version": "2.0.0",
      "model_name": "LayoutModel",
      "state": {}
     },
     "de21640a4eaf4d9ea6c6732e200ad35f": {
      "model_module": "@jupyter-widgets/controls",
      "model_module_version": "2.0.0",
      "model_name": "HTMLStyleModel",
      "state": {
       "description_width": "",
       "font_size": null,
       "text_color": null
      }
     },
     "e0a085540569437aa6c2a0cc2d7ed0f8": {
      "model_module": "@jupyter-widgets/controls",
      "model_module_version": "2.0.0",
      "model_name": "HTMLModel",
      "state": {
       "layout": "IPY_MODEL_066c9081eadb49558c905bff558a5b05",
       "style": "IPY_MODEL_8415dfbc8c4446c69b13d74305217f12",
       "value": " 35/35 [03:45&lt;00:00,  6.44s/it]"
      }
     },
     "e27b065c530f4b2aaa27b0fe06b11a50": {
      "model_module": "@jupyter-widgets/base",
      "model_module_version": "2.0.0",
      "model_name": "LayoutModel",
      "state": {}
     },
     "e377ba3a94384cdf8755c6ea8c555523": {
      "model_module": "@jupyter-widgets/base",
      "model_module_version": "2.0.0",
      "model_name": "LayoutModel",
      "state": {}
     },
     "e37a6b77f3984c0e8a46db39586b6102": {
      "model_module": "@jupyter-widgets/controls",
      "model_module_version": "2.0.0",
      "model_name": "HTMLModel",
      "state": {
       "layout": "IPY_MODEL_f486d5c0c7b34b1d9ca99702b3a4882d",
       "style": "IPY_MODEL_e6dda32b5e2e41a98104b94dd479a7ce",
       "value": " 35/35 [03:45&lt;00:00,  6.44s/it]"
      }
     },
     "e6dda32b5e2e41a98104b94dd479a7ce": {
      "model_module": "@jupyter-widgets/controls",
      "model_module_version": "2.0.0",
      "model_name": "HTMLStyleModel",
      "state": {
       "description_width": "",
       "font_size": null,
       "text_color": null
      }
     },
     "f0fafdc305434457809883f3b31c24b1": {
      "model_module": "@jupyter-widgets/base",
      "model_module_version": "2.0.0",
      "model_name": "LayoutModel",
      "state": {}
     },
     "f486d5c0c7b34b1d9ca99702b3a4882d": {
      "model_module": "@jupyter-widgets/base",
      "model_module_version": "2.0.0",
      "model_name": "LayoutModel",
      "state": {}
     },
     "f500c4387ac543f4932b08d97d9f10ff": {
      "model_module": "@jupyter-widgets/base",
      "model_module_version": "2.0.0",
      "model_name": "LayoutModel",
      "state": {}
     },
     "f7d853612ce74e9ca6d406e9cac55a50": {
      "model_module": "@jupyter-widgets/controls",
      "model_module_version": "2.0.0",
      "model_name": "FloatProgressModel",
      "state": {
       "bar_style": "success",
       "layout": "IPY_MODEL_a7699c45f57441339d2a64349f1556b0",
       "max": 35,
       "style": "IPY_MODEL_2190d89ea3b741cea797df48fb5807f1",
       "value": 35
      }
     },
     "f9480d97a2c44fe19e7ab45b29e9c6d7": {
      "model_module": "@jupyter-widgets/controls",
      "model_module_version": "2.0.0",
      "model_name": "HTMLStyleModel",
      "state": {
       "description_width": "",
       "font_size": null,
       "text_color": null
      }
     },
     "fcd03dc165d849e7801d552215160b01": {
      "model_module": "@jupyter-widgets/controls",
      "model_module_version": "2.0.0",
      "model_name": "HBoxModel",
      "state": {
       "children": [
        "IPY_MODEL_c88a2060a2dd4138b6e19fab86165276",
        "IPY_MODEL_f7d853612ce74e9ca6d406e9cac55a50",
        "IPY_MODEL_22bbaeaaf25b4761bf17386ffe72337a"
       ],
       "layout": "IPY_MODEL_e27b065c530f4b2aaa27b0fe06b11a50"
      }
     }
    },
    "version_major": 2,
    "version_minor": 0
   }
  }
 },
 "nbformat": 4,
 "nbformat_minor": 4
}
