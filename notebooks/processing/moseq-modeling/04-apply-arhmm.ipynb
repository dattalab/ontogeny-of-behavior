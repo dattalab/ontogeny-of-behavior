{
 "cells": [
  {
   "cell_type": "markdown",
   "id": "a3e3c85e-ded3-48b0-adca-4e7901a9a1f9",
   "metadata": {},
   "source": [
    "# Apply AR-HMM to rest of dataset"
   ]
  },
  {
   "cell_type": "code",
   "execution_count": 1,
   "id": "c9656084-9071-4659-8692-b6d5b913473b",
   "metadata": {
    "tags": []
   },
   "outputs": [],
   "source": [
    "from jax.config import config\n",
    "config.update(\"jax_enable_x64\", True)\n",
    "\n",
    "import h5py\n",
    "import joblib\n",
    "import numpy as np\n",
    "import jax.numpy as jnp\n",
    "from pathlib import Path\n",
    "from tqdm.auto import tqdm\n",
    "from toolz import partial, valmap, partition_all\n",
    "from jax_moseq.utils import batch, convert_data_precision, unbatch\n",
    "from jax_moseq.models.arhmm.gibbs import resample_discrete_stateseqs"
   ]
  },
  {
   "cell_type": "code",
   "execution_count": 2,
   "id": "9d4837dd-8a78-4c5c-9290-c7d656cc7017",
   "metadata": {
    "tags": []
   },
   "outputs": [],
   "source": [
    "folder = Path('/n/groups/datta/win/longtogeny/data/ontogeny/version_03')"
   ]
  },
  {
   "cell_type": "markdown",
   "id": "6432df40-cf87-456f-9ef3-ca8626553c7d",
   "metadata": {},
   "source": [
    "## Load training PCs, compute whitening parameters"
   ]
  },
  {
   "cell_type": "code",
   "execution_count": 3,
   "id": "37cda6c1-28fc-44c5-a758-8951ab1464f3",
   "metadata": {},
   "outputs": [],
   "source": [
    "def apply_whitening(data, L, mu):\n",
    "    return np.linalg.solve(L, (data - mu).T).T\n",
    "\n",
    "\n",
    "def get_whitening_params(data_dict):\n",
    "    non_nan = lambda x: x[~np.isnan(np.reshape(x, (x.shape[0], -1))).any(1)]\n",
    "    meancov = lambda x: (x.mean(0), np.cov(x, rowvar=False, bias=1))\n",
    "    contig = partial(np.require, dtype=np.float64, requirements=\"C\")\n",
    "\n",
    "    mu, Sigma = meancov(np.concatenate(list(map(non_nan, data_dict.values()))))\n",
    "    L = np.linalg.cholesky(Sigma)\n",
    "\n",
    "    return mu, L"
   ]
  },
  {
   "cell_type": "code",
   "execution_count": 4,
   "id": "338135a9-7b81-4d35-bafc-f967ae0c4a78",
   "metadata": {
    "tags": []
   },
   "outputs": [],
   "source": [
    "pca_path = folder / '_pca/pca_scores.h5'\n",
    "\n",
    "with h5py.File(pca_path, 'r') as h5f:\n",
    "    pc_data = {k: h5f['scores'][k][:, :10] for k in h5f['scores']}"
   ]
  },
  {
   "cell_type": "code",
   "execution_count": 5,
   "id": "4a346397-ce02-4ef3-ad0f-492f60a9f1cb",
   "metadata": {
    "tags": []
   },
   "outputs": [],
   "source": [
    "mu, L = get_whitening_params(pc_data)"
   ]
  },
  {
   "cell_type": "markdown",
   "id": "a65cd514-5fa3-4966-bf84-6e82f9075008",
   "metadata": {},
   "source": [
    "## Load new data in batches, apply whitening and MoSeq model"
   ]
  },
  {
   "cell_type": "code",
   "execution_count": 6,
   "id": "482ae882-767b-43fc-9321-85c9ca952b1a",
   "metadata": {
    "tags": []
   },
   "outputs": [],
   "source": [
    "model = joblib.load(folder / 'model_params.p')"
   ]
  },
  {
   "cell_type": "code",
   "execution_count": 7,
   "id": "51822990-c51d-4e46-b186-d87b2c6250b2",
   "metadata": {
    "tags": []
   },
   "outputs": [],
   "source": [
    "all_pcs_path = folder / 'all_data_pca/pca_scores.h5'"
   ]
  },
  {
   "cell_type": "code",
   "execution_count": 8,
   "id": "30a2567c-db76-4722-a835-c8a861775d6b",
   "metadata": {
    "tags": []
   },
   "outputs": [
    {
     "data": {
      "text/plain": [
       "['seed', 'states', 'params', 'hypparams']"
      ]
     },
     "execution_count": 8,
     "metadata": {},
     "output_type": "execute_result"
    }
   ],
   "source": [
    "list(model)"
   ]
  },
  {
   "cell_type": "code",
   "execution_count": 9,
   "id": "8d91c7ed-1498-4ed9-be5a-9dac86e48467",
   "metadata": {},
   "outputs": [
    {
     "data": {
      "application/vnd.jupyter.widget-view+json": {
       "model_id": "f355ce814b2e43a9834c8f7dfa174a53",
       "version_major": 2,
       "version_minor": 0
      },
      "text/plain": [
       "  0%|          | 0/28 [00:00<?, ?it/s]"
      ]
     },
     "metadata": {},
     "output_type": "display_data"
    }
   ],
   "source": [
    "batch_size = 75\n",
    "\n",
    "with h5py.File(all_pcs_path, 'r') as h5f, h5py.File(all_pcs_path.with_name('syllables.h5'), 'w') as out_h5:\n",
    "    for uuids in tqdm(list(partition_all(batch_size, h5f['scores']))):\n",
    "        pc_data = {uuid: h5f[\"scores\"][uuid][:, :10] for uuid in uuids}\n",
    "        pc_data = valmap(partial(apply_whitening, L=L, mu=mu), pc_data)\n",
    "\n",
    "        data = {}\n",
    "        data[\"x\"], data[\"mask\"], lbls = batch(pc_data)\n",
    "        data['mask'] = jnp.where(jnp.isnan(data['x']).any(-1), 0, data['mask'])\n",
    "        data['x'] = jnp.where(jnp.isnan(data['x']), 0, data['x'])\n",
    "        data = convert_data_precision(data)\n",
    "        data['mask'] = data['mask'].astype('int')\n",
    "\n",
    "        z = resample_discrete_stateseqs(**data, **model, **model['params'], **model['hypparams'], robust=True)\n",
    "\n",
    "        z = unbatch(z, lbls)\n",
    "        for k, v in z.items():\n",
    "            out_h5.create_dataset(k, data=v)"
   ]
  },
  {
   "cell_type": "code",
   "execution_count": null,
   "id": "047f88c7-6dd8-418e-b1ba-91f136d049c5",
   "metadata": {},
   "outputs": [],
   "source": []
  },
  {
   "cell_type": "markdown",
   "id": "99d9baef-29b2-48d8-8997-b9e8077080c7",
   "metadata": {},
   "source": [
    "## Compute AR likelihoods"
   ]
  },
  {
   "cell_type": "code",
   "execution_count": 10,
   "id": "90e0857a-f9e7-4501-a886-dab6345e5a74",
   "metadata": {
    "tags": []
   },
   "outputs": [],
   "source": [
    "import jax\n",
    "from functools import partial\n",
    "from jax_moseq.utils.autoregression import robust_ar_log_likelihood, get_nlags"
   ]
  },
  {
   "cell_type": "code",
   "execution_count": 11,
   "id": "69326240-e49e-4f03-8e97-b5eeb0c94e0f",
   "metadata": {
    "tags": []
   },
   "outputs": [],
   "source": [
    "def compute_likelihood(x, mask, Ab, Q, **kwargs):\n",
    "    nlags = get_nlags(Ab)\n",
    "    log_likelihoods = jax.lax.map(\n",
    "        partial(robust_ar_log_likelihood, x),\n",
    "        (\n",
    "            Ab,\n",
    "            Q,\n",
    "            kwargs[\"nu\"],\n",
    "            jnp.tile(mask[None, ..., nlags:], (len(Ab), *(1,) * len(mask.shape))),\n",
    "        ),\n",
    "    )\n",
    "    return log_likelihoods"
   ]
  },
  {
   "cell_type": "code",
   "execution_count": 13,
   "id": "89e86e84-0369-438f-9dc8-16d002fd8fff",
   "metadata": {
    "tags": []
   },
   "outputs": [
    {
     "data": {
      "application/vnd.jupyter.widget-view+json": {
       "model_id": "59d43218234d4637bbb0bbd490f883bc",
       "version_major": 2,
       "version_minor": 0
      },
      "text/plain": [
       "  0%|          | 0/28 [00:00<?, ?it/s]"
      ]
     },
     "metadata": {},
     "output_type": "display_data"
    }
   ],
   "source": [
    "batch_size = 75\n",
    "\n",
    "with h5py.File(all_pcs_path, 'r') as h5f, h5py.File(all_pcs_path.with_name('ar_log_likelihoods.h5'), 'w') as out_h5:\n",
    "    for uuids in tqdm(list(partition_all(batch_size, h5f['scores']))):\n",
    "        pc_data = {uuid: h5f[\"scores\"][uuid][:, :10] for uuid in uuids}\n",
    "        pc_data = valmap(partial(apply_whitening, L=L, mu=mu), pc_data)\n",
    "\n",
    "        data = {}\n",
    "        data[\"x\"], data[\"mask\"], lbls = batch(pc_data)\n",
    "        data['mask'] = jnp.where(jnp.isnan(data['x']).any(-1), 0, data['mask'])\n",
    "        data['x'] = jnp.where(jnp.isnan(data['x']), 0, data['x'])\n",
    "        data = convert_data_precision(data)\n",
    "        data['mask'] = data['mask'].astype('int')\n",
    "\n",
    "        likes = compute_likelihood(**data, **model, **model['params'], **model['hypparams'])\n",
    "        likes = jnp.moveaxis(likes, 0, -1)\n",
    "        likes = unbatch(likes, lbls)\n",
    "\n",
    "        for k, v in likes.items():\n",
    "            out_h5.create_dataset(k, data=v)"
   ]
  },
  {
   "cell_type": "code",
   "execution_count": null,
   "id": "47234b10-a522-4536-a89b-6272beb1bdab",
   "metadata": {},
   "outputs": [],
   "source": []
  }
 ],
 "metadata": {
  "kernelspec": {
   "display_name": "jax-moseq",
   "language": "python",
   "name": "jax-moseq"
  },
  "language_info": {
   "codemirror_mode": {
    "name": "ipython",
    "version": 3
   },
   "file_extension": ".py",
   "mimetype": "text/x-python",
   "name": "python",
   "nbconvert_exporter": "python",
   "pygments_lexer": "ipython3",
   "version": "3.10.9"
  },
  "widgets": {
   "application/vnd.jupyter.widget-state+json": {
    "state": {
     "00a2472571cf48ad997a30b6d10a3188": {
      "model_module": "@jupyter-widgets/controls",
      "model_module_version": "2.0.0",
      "model_name": "ProgressStyleModel",
      "state": {
       "description_width": ""
      }
     },
     "01ccf552d7a14df48d3b08f02533689a": {
      "model_module": "@jupyter-widgets/controls",
      "model_module_version": "2.0.0",
      "model_name": "HTMLStyleModel",
      "state": {
       "description_width": "",
       "font_size": null,
       "text_color": null
      }
     },
     "04231dbdc80c43d5abda135dca72c6b9": {
      "model_module": "@jupyter-widgets/controls",
      "model_module_version": "2.0.0",
      "model_name": "HTMLStyleModel",
      "state": {
       "description_width": "",
       "font_size": null,
       "text_color": null
      }
     },
     "12f90aa17e214391aa630d2c6733ce3e": {
      "model_module": "@jupyter-widgets/controls",
      "model_module_version": "2.0.0",
      "model_name": "ProgressStyleModel",
      "state": {
       "description_width": ""
      }
     },
     "14eb07ed50f442a5b5ecf7413e7e99d3": {
      "model_module": "@jupyter-widgets/base",
      "model_module_version": "2.0.0",
      "model_name": "LayoutModel",
      "state": {}
     },
     "1f0ee8c42e42478ea4c5894061694ced": {
      "model_module": "@jupyter-widgets/controls",
      "model_module_version": "2.0.0",
      "model_name": "FloatProgressModel",
      "state": {
       "bar_style": "success",
       "layout": "IPY_MODEL_4b7218536b48486ba3ad2f3f4980441d",
       "max": 28,
       "style": "IPY_MODEL_12f90aa17e214391aa630d2c6733ce3e",
       "value": 28
      }
     },
     "23d624595dca4ba29142ff456de43cdd": {
      "model_module": "@jupyter-widgets/base",
      "model_module_version": "2.0.0",
      "model_name": "LayoutModel",
      "state": {}
     },
     "3632aacba0254ac9a49aaca98ff56683": {
      "model_module": "@jupyter-widgets/base",
      "model_module_version": "2.0.0",
      "model_name": "LayoutModel",
      "state": {}
     },
     "3d9b949fe2c7410f82ec9e1de2cd5012": {
      "model_module": "@jupyter-widgets/controls",
      "model_module_version": "2.0.0",
      "model_name": "HTMLModel",
      "state": {
       "layout": "IPY_MODEL_3632aacba0254ac9a49aaca98ff56683",
       "style": "IPY_MODEL_01ccf552d7a14df48d3b08f02533689a",
       "value": " 0/84 [00:10&lt;?, ?it/s]"
      }
     },
     "4783597aab044a85ab5d587b8c2fcb1e": {
      "model_module": "@jupyter-widgets/base",
      "model_module_version": "2.0.0",
      "model_name": "LayoutModel",
      "state": {}
     },
     "48446eb535464f878eb9e798d4b8dd3a": {
      "model_module": "@jupyter-widgets/controls",
      "model_module_version": "2.0.0",
      "model_name": "HBoxModel",
      "state": {
       "children": [
        "IPY_MODEL_d42582e6ea59400f97a5209b42a4cf88",
        "IPY_MODEL_899de753a47744418a8da8123a53a583",
        "IPY_MODEL_3d9b949fe2c7410f82ec9e1de2cd5012"
       ],
       "layout": "IPY_MODEL_23d624595dca4ba29142ff456de43cdd"
      }
     },
     "4b7218536b48486ba3ad2f3f4980441d": {
      "model_module": "@jupyter-widgets/base",
      "model_module_version": "2.0.0",
      "model_name": "LayoutModel",
      "state": {}
     },
     "4e15bff9eda04bfb8be2a23e429a0fe9": {
      "model_module": "@jupyter-widgets/base",
      "model_module_version": "2.0.0",
      "model_name": "LayoutModel",
      "state": {}
     },
     "59d43218234d4637bbb0bbd490f883bc": {
      "model_module": "@jupyter-widgets/controls",
      "model_module_version": "2.0.0",
      "model_name": "HBoxModel",
      "state": {
       "children": [
        "IPY_MODEL_9b64af1762204aaf9d02d52dac119ce0",
        "IPY_MODEL_1f0ee8c42e42478ea4c5894061694ced",
        "IPY_MODEL_d336c4d1f80d49cab04a1207b988c7dc"
       ],
       "layout": "IPY_MODEL_c2a905b01e0e4c9b85ef5f705ee061d8"
      }
     },
     "609feacb7085493b83b06d4874ffc453": {
      "model_module": "@jupyter-widgets/base",
      "model_module_version": "2.0.0",
      "model_name": "LayoutModel",
      "state": {}
     },
     "85c384b94f9546bcba14c745c49f3363": {
      "model_module": "@jupyter-widgets/base",
      "model_module_version": "2.0.0",
      "model_name": "LayoutModel",
      "state": {}
     },
     "88a0bc9fe5ff478ea6c76815a062c965": {
      "model_module": "@jupyter-widgets/controls",
      "model_module_version": "2.0.0",
      "model_name": "HTMLStyleModel",
      "state": {
       "description_width": "",
       "font_size": null,
       "text_color": null
      }
     },
     "899de753a47744418a8da8123a53a583": {
      "model_module": "@jupyter-widgets/controls",
      "model_module_version": "2.0.0",
      "model_name": "FloatProgressModel",
      "state": {
       "bar_style": "danger",
       "layout": "IPY_MODEL_85c384b94f9546bcba14c745c49f3363",
       "max": 84,
       "style": "IPY_MODEL_00a2472571cf48ad997a30b6d10a3188"
      }
     },
     "9b64af1762204aaf9d02d52dac119ce0": {
      "model_module": "@jupyter-widgets/controls",
      "model_module_version": "2.0.0",
      "model_name": "HTMLModel",
      "state": {
       "layout": "IPY_MODEL_d3f248ff977b45d8b01549f1638e5a1f",
       "style": "IPY_MODEL_04231dbdc80c43d5abda135dca72c6b9",
       "value": "100%"
      }
     },
     "a61eab3a20b8444db8185d0d8e14a966": {
      "model_module": "@jupyter-widgets/controls",
      "model_module_version": "2.0.0",
      "model_name": "HTMLStyleModel",
      "state": {
       "description_width": "",
       "font_size": null,
       "text_color": null
      }
     },
     "ad3e147985d94e03bf740cf0636383b9": {
      "model_module": "@jupyter-widgets/base",
      "model_module_version": "2.0.0",
      "model_name": "LayoutModel",
      "state": {}
     },
     "b03d176bc1814fa480d49a4a1c0116cb": {
      "model_module": "@jupyter-widgets/controls",
      "model_module_version": "2.0.0",
      "model_name": "ProgressStyleModel",
      "state": {
       "description_width": ""
      }
     },
     "be8b0ba6ea4b4561a334624acdfcfe50": {
      "model_module": "@jupyter-widgets/controls",
      "model_module_version": "2.0.0",
      "model_name": "HTMLStyleModel",
      "state": {
       "description_width": "",
       "font_size": null,
       "text_color": null
      }
     },
     "c2a905b01e0e4c9b85ef5f705ee061d8": {
      "model_module": "@jupyter-widgets/base",
      "model_module_version": "2.0.0",
      "model_name": "LayoutModel",
      "state": {}
     },
     "c6c9db3c126242b2bf2e74d42d9007c0": {
      "model_module": "@jupyter-widgets/base",
      "model_module_version": "2.0.0",
      "model_name": "LayoutModel",
      "state": {}
     },
     "d196dfc41b7a4e879424a219a8ad3e6e": {
      "model_module": "@jupyter-widgets/controls",
      "model_module_version": "2.0.0",
      "model_name": "HTMLModel",
      "state": {
       "layout": "IPY_MODEL_c6c9db3c126242b2bf2e74d42d9007c0",
       "style": "IPY_MODEL_a61eab3a20b8444db8185d0d8e14a966",
       "value": " 28/28 [26:45&lt;00:00, 50.95s/it]"
      }
     },
     "d336c4d1f80d49cab04a1207b988c7dc": {
      "model_module": "@jupyter-widgets/controls",
      "model_module_version": "2.0.0",
      "model_name": "HTMLModel",
      "state": {
       "layout": "IPY_MODEL_4e15bff9eda04bfb8be2a23e429a0fe9",
       "style": "IPY_MODEL_88a0bc9fe5ff478ea6c76815a062c965",
       "value": " 28/28 [18:36&lt;00:00, 43.48s/it]"
      }
     },
     "d3f248ff977b45d8b01549f1638e5a1f": {
      "model_module": "@jupyter-widgets/base",
      "model_module_version": "2.0.0",
      "model_name": "LayoutModel",
      "state": {}
     },
     "d42582e6ea59400f97a5209b42a4cf88": {
      "model_module": "@jupyter-widgets/controls",
      "model_module_version": "2.0.0",
      "model_name": "HTMLModel",
      "state": {
       "layout": "IPY_MODEL_14eb07ed50f442a5b5ecf7413e7e99d3",
       "style": "IPY_MODEL_df49632dc6564e61bfe3909c5a6deff1",
       "value": "  0%"
      }
     },
     "dadffc85ba0647e8a9e8e6655ba4cff6": {
      "model_module": "@jupyter-widgets/controls",
      "model_module_version": "2.0.0",
      "model_name": "FloatProgressModel",
      "state": {
       "bar_style": "success",
       "layout": "IPY_MODEL_609feacb7085493b83b06d4874ffc453",
       "max": 28,
       "style": "IPY_MODEL_b03d176bc1814fa480d49a4a1c0116cb",
       "value": 28
      }
     },
     "df49632dc6564e61bfe3909c5a6deff1": {
      "model_module": "@jupyter-widgets/controls",
      "model_module_version": "2.0.0",
      "model_name": "HTMLStyleModel",
      "state": {
       "description_width": "",
       "font_size": null,
       "text_color": null
      }
     },
     "f355ce814b2e43a9834c8f7dfa174a53": {
      "model_module": "@jupyter-widgets/controls",
      "model_module_version": "2.0.0",
      "model_name": "HBoxModel",
      "state": {
       "children": [
        "IPY_MODEL_f5a44fa84cac4252aa1b019e8596843c",
        "IPY_MODEL_dadffc85ba0647e8a9e8e6655ba4cff6",
        "IPY_MODEL_d196dfc41b7a4e879424a219a8ad3e6e"
       ],
       "layout": "IPY_MODEL_ad3e147985d94e03bf740cf0636383b9"
      }
     },
     "f5a44fa84cac4252aa1b019e8596843c": {
      "model_module": "@jupyter-widgets/controls",
      "model_module_version": "2.0.0",
      "model_name": "HTMLModel",
      "state": {
       "layout": "IPY_MODEL_4783597aab044a85ab5d587b8c2fcb1e",
       "style": "IPY_MODEL_be8b0ba6ea4b4561a334624acdfcfe50",
       "value": "100%"
      }
     }
    },
    "version_major": 2,
    "version_minor": 0
   }
  }
 },
 "nbformat": 4,
 "nbformat_minor": 5
}
