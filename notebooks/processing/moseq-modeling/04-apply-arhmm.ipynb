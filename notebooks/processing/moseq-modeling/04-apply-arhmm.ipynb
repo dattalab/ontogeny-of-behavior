{
 "cells": [
  {
   "cell_type": "markdown",
   "id": "a3e3c85e-ded3-48b0-adca-4e7901a9a1f9",
   "metadata": {},
   "source": [
    "# Apply AR-HMM to rest of dataset"
   ]
  },
  {
   "cell_type": "code",
   "execution_count": 1,
   "id": "c9656084-9071-4659-8692-b6d5b913473b",
   "metadata": {
    "tags": []
   },
   "outputs": [
    {
     "name": "stderr",
     "output_type": "stream",
     "text": [
      "No GPU/TPU found, falling back to CPU. (Set TF_CPP_MIN_LOG_LEVEL=0 and rerun for more info.)\n"
     ]
    }
   ],
   "source": [
    "from jax.config import config\n",
    "config.update(\"jax_enable_x64\", True)\n",
    "\n",
    "import h5py\n",
    "import joblib\n",
    "import numpy as np\n",
    "import jax.numpy as jnp\n",
    "from pathlib import Path\n",
    "from tqdm.auto import tqdm\n",
    "from toolz import partial, valmap, partition_all\n",
    "from jax_moseq.utils import batch, convert_data_precision, unbatch\n",
    "from jax_moseq.models.arhmm.gibbs import resample_discrete_stateseqs"
   ]
  },
  {
   "cell_type": "markdown",
   "id": "6432df40-cf87-456f-9ef3-ca8626553c7d",
   "metadata": {},
   "source": [
    "## Load training PCs, compute whitening parameters"
   ]
  },
  {
   "cell_type": "code",
   "execution_count": 2,
   "id": "37cda6c1-28fc-44c5-a758-8951ab1464f3",
   "metadata": {},
   "outputs": [],
   "source": [
    "def apply_whitening(data, L, mu):\n",
    "    return np.linalg.solve(L, (data - mu).T).T\n",
    "\n",
    "\n",
    "def get_whitening_params(data_dict):\n",
    "    non_nan = lambda x: x[~np.isnan(np.reshape(x, (x.shape[0], -1))).any(1)]\n",
    "    meancov = lambda x: (x.mean(0), np.cov(x, rowvar=False, bias=1))\n",
    "    contig = partial(np.require, dtype=np.float64, requirements=\"C\")\n",
    "\n",
    "    mu, Sigma = meancov(np.concatenate(list(map(non_nan, data_dict.values()))))\n",
    "    L = np.linalg.cholesky(Sigma)\n",
    "\n",
    "    return mu, L"
   ]
  },
  {
   "cell_type": "code",
   "execution_count": 3,
   "id": "338135a9-7b81-4d35-bafc-f967ae0c4a78",
   "metadata": {
    "tags": []
   },
   "outputs": [],
   "source": [
    "pca_path = Path('/n/groups/datta/win/longtogeny/data/ontogeny/version_01/_pca/pca_scores.h5')\n",
    "\n",
    "with h5py.File(pca_path, 'r') as h5f:\n",
    "    pc_data = {k: h5f['scores'][k][:, :10] for k in h5f['scores']}"
   ]
  },
  {
   "cell_type": "code",
   "execution_count": 4,
   "id": "4a346397-ce02-4ef3-ad0f-492f60a9f1cb",
   "metadata": {
    "tags": []
   },
   "outputs": [],
   "source": [
    "mu, L = get_whitening_params(pc_data)"
   ]
  },
  {
   "cell_type": "markdown",
   "id": "a65cd514-5fa3-4966-bf84-6e82f9075008",
   "metadata": {},
   "source": [
    "## Load new data in batches, apply whitening and MoSeq model"
   ]
  },
  {
   "cell_type": "code",
   "execution_count": 5,
   "id": "482ae882-767b-43fc-9321-85c9ca952b1a",
   "metadata": {
    "tags": []
   },
   "outputs": [],
   "source": [
    "model = joblib.load('/n/groups/datta/win/longtogeny/data/ontogeny/version_01/model_params.p')"
   ]
  },
  {
   "cell_type": "code",
   "execution_count": 6,
   "id": "51822990-c51d-4e46-b186-d87b2c6250b2",
   "metadata": {
    "tags": []
   },
   "outputs": [],
   "source": [
    "all_pcs_path = Path('/n/groups/datta/win/longtogeny/data/ontogeny/version_01/all_data_pca/pca_scores.h5')"
   ]
  },
  {
   "cell_type": "code",
   "execution_count": 7,
   "id": "30a2567c-db76-4722-a835-c8a861775d6b",
   "metadata": {
    "tags": []
   },
   "outputs": [
    {
     "data": {
      "text/plain": [
       "['seed', 'states', 'params', 'hypparams']"
      ]
     },
     "execution_count": 7,
     "metadata": {},
     "output_type": "execute_result"
    }
   ],
   "source": [
    "list(model)"
   ]
  },
  {
   "cell_type": "code",
   "execution_count": 16,
   "id": "8d91c7ed-1498-4ed9-be5a-9dac86e48467",
   "metadata": {},
   "outputs": [
    {
     "data": {
      "application/vnd.jupyter.widget-view+json": {
       "model_id": "d400aa2ff00344799f80fb96f1ed468d",
       "version_major": 2,
       "version_minor": 0
      },
      "text/plain": [
       "  0%|          | 0/193 [00:00<?, ?it/s]"
      ]
     },
     "metadata": {},
     "output_type": "display_data"
    }
   ],
   "source": [
    "batch_size = 25\n",
    "\n",
    "with h5py.File(all_pcs_path, 'r') as h5f, h5py.File(all_pcs_path.with_name('syllables.h5'), 'w') as out_h5:\n",
    "    for uuids in tqdm(list(partition_all(batch_size, h5f['scores']))):\n",
    "        pc_data = {uuid: h5f[\"scores\"][uuid][:, :10] for uuid in uuids}\n",
    "        pc_data = valmap(partial(apply_whitening, L=L, mu=mu), pc_data)\n",
    "\n",
    "        data = {}\n",
    "        data[\"x\"], data[\"mask\"], lbls = batch(pc_data)\n",
    "        data['mask'] = jnp.where(jnp.isnan(data['x']).any(-1), 0, data['mask'])\n",
    "        data['x'] = jnp.where(jnp.isnan(data['x']), 0, data['x'])\n",
    "        data = convert_data_precision(data)\n",
    "        data['mask'] = data['mask'].astype('int')\n",
    "\n",
    "        z = resample_discrete_stateseqs(**data, **model, **model['params'], **model['hypparams'], robust=True)\n",
    "\n",
    "        z = unbatch(z, lbls)\n",
    "        for k, v in z.items():\n",
    "            out_h5.create_dataset(k, data=v)"
   ]
  },
  {
   "cell_type": "code",
   "execution_count": 15,
   "id": "9936dc3d-63b0-4d8f-8255-64961ddb5fb4",
   "metadata": {
    "tags": []
   },
   "outputs": [
    {
     "data": {
      "text/plain": [
       "array([35, 35, 35, ..., 92, 92, 92], dtype=int32)"
      ]
     },
     "execution_count": 15,
     "metadata": {},
     "output_type": "execute_result"
    }
   ],
   "source": [
    "z[list(z)[0]]"
   ]
  }
 ],
 "metadata": {
  "kernelspec": {
   "display_name": "jax-moseq",
   "language": "python",
   "name": "jax-moseq"
  },
  "language_info": {
   "codemirror_mode": {
    "name": "ipython",
    "version": 3
   },
   "file_extension": ".py",
   "mimetype": "text/x-python",
   "name": "python",
   "nbconvert_exporter": "python",
   "pygments_lexer": "ipython3",
   "version": "3.10.9"
  },
  "widgets": {
   "application/vnd.jupyter.widget-state+json": {
    "state": {
     "01a6f3405b6b4a18b7ea5b170170a134": {
      "model_module": "@jupyter-widgets/base",
      "model_module_version": "2.0.0",
      "model_name": "LayoutModel",
      "state": {}
     },
     "07ff5f0107074dcba43606004325e5d0": {
      "model_module": "@jupyter-widgets/controls",
      "model_module_version": "2.0.0",
      "model_name": "ProgressStyleModel",
      "state": {
       "description_width": ""
      }
     },
     "12b0bb75b6f348bb90ef94c85a0944c5": {
      "model_module": "@jupyter-widgets/base",
      "model_module_version": "2.0.0",
      "model_name": "LayoutModel",
      "state": {}
     },
     "186846ab85d44c408704a8091e836670": {
      "model_module": "@jupyter-widgets/controls",
      "model_module_version": "2.0.0",
      "model_name": "HTMLModel",
      "state": {
       "layout": "IPY_MODEL_445f25d784e64445be85eb926e448107",
       "style": "IPY_MODEL_84118bb4490d4c5dab5ce7b8ff544cdf",
       "value": "100%"
      }
     },
     "1bf33a6c5a1e470cbdb93598e74592dc": {
      "model_module": "@jupyter-widgets/base",
      "model_module_version": "2.0.0",
      "model_name": "LayoutModel",
      "state": {}
     },
     "1fd572e942cf4bc69c4d66f5377c614e": {
      "model_module": "@jupyter-widgets/base",
      "model_module_version": "2.0.0",
      "model_name": "LayoutModel",
      "state": {}
     },
     "2661ff2d44b143f0beacabd01abf9a42": {
      "model_module": "@jupyter-widgets/base",
      "model_module_version": "2.0.0",
      "model_name": "LayoutModel",
      "state": {}
     },
     "287a1cd503634ebea0af1a4bf5ae8724": {
      "model_module": "@jupyter-widgets/controls",
      "model_module_version": "2.0.0",
      "model_name": "HTMLStyleModel",
      "state": {
       "description_width": "",
       "font_size": null,
       "text_color": null
      }
     },
     "29d5bb7571984e5bb8692b5aea1e5370": {
      "model_module": "@jupyter-widgets/base",
      "model_module_version": "2.0.0",
      "model_name": "LayoutModel",
      "state": {}
     },
     "3095f91779e948d98cf9df2540d75eb9": {
      "model_module": "@jupyter-widgets/controls",
      "model_module_version": "2.0.0",
      "model_name": "HTMLModel",
      "state": {
       "layout": "IPY_MODEL_45f4ef8a096c419883cb92ea126b8c9e",
       "style": "IPY_MODEL_5dad770f5b384b29a534341a3e07a32f",
       "value": " 193/193 [54:45&lt;00:00, 15.23s/it]"
      }
     },
     "3609793477f74bb8af160d81bb5c8375": {
      "model_module": "@jupyter-widgets/controls",
      "model_module_version": "2.0.0",
      "model_name": "HTMLModel",
      "state": {
       "layout": "IPY_MODEL_873874a1b9c24c8e9af4148cc941e337",
       "style": "IPY_MODEL_388357414d5e4a45bbbe3ca1a72053c8",
       "value": " 4/193 [01:34&lt;59:20, 18.84s/it]"
      }
     },
     "388357414d5e4a45bbbe3ca1a72053c8": {
      "model_module": "@jupyter-widgets/controls",
      "model_module_version": "2.0.0",
      "model_name": "HTMLStyleModel",
      "state": {
       "description_width": "",
       "font_size": null,
       "text_color": null
      }
     },
     "39ac2c93682c470587d919cf05ea138a": {
      "model_module": "@jupyter-widgets/base",
      "model_module_version": "2.0.0",
      "model_name": "LayoutModel",
      "state": {}
     },
     "3f8f87e72ed043168612a1eb13a7a24f": {
      "model_module": "@jupyter-widgets/base",
      "model_module_version": "2.0.0",
      "model_name": "LayoutModel",
      "state": {}
     },
     "445f25d784e64445be85eb926e448107": {
      "model_module": "@jupyter-widgets/base",
      "model_module_version": "2.0.0",
      "model_name": "LayoutModel",
      "state": {}
     },
     "45f4ef8a096c419883cb92ea126b8c9e": {
      "model_module": "@jupyter-widgets/base",
      "model_module_version": "2.0.0",
      "model_name": "LayoutModel",
      "state": {}
     },
     "48b7a4e5de9041e79e32267e24bdf825": {
      "model_module": "@jupyter-widgets/controls",
      "model_module_version": "2.0.0",
      "model_name": "HTMLModel",
      "state": {
       "layout": "IPY_MODEL_e213ac97ac7743048ecc329715e44be2",
       "style": "IPY_MODEL_f66cbee4fcf54664899c83700ca8ee1c",
       "value": " 0/193 [00:02&lt;?, ?it/s]"
      }
     },
     "4c6936adac6d4c19880635a5061c783a": {
      "model_module": "@jupyter-widgets/controls",
      "model_module_version": "2.0.0",
      "model_name": "HTMLModel",
      "state": {
       "layout": "IPY_MODEL_e60ccb6265e94a42a239357a0ad2567a",
       "style": "IPY_MODEL_287a1cd503634ebea0af1a4bf5ae8724",
       "value": " 0/193 [00:01&lt;?, ?it/s]"
      }
     },
     "4e909fb3e6574b11894de0ea37d7e0e3": {
      "model_module": "@jupyter-widgets/controls",
      "model_module_version": "2.0.0",
      "model_name": "HBoxModel",
      "state": {
       "children": [
        "IPY_MODEL_f2a5cc94bda4409db1994eab224b6b97",
        "IPY_MODEL_8c65f7afba7e45e89e68ff93239f68a6",
        "IPY_MODEL_3609793477f74bb8af160d81bb5c8375"
       ],
       "layout": "IPY_MODEL_3f8f87e72ed043168612a1eb13a7a24f"
      }
     },
     "56a57da9f0a3423fb95b582506902498": {
      "model_module": "@jupyter-widgets/controls",
      "model_module_version": "2.0.0",
      "model_name": "FloatProgressModel",
      "state": {
       "bar_style": "danger",
       "layout": "IPY_MODEL_12b0bb75b6f348bb90ef94c85a0944c5",
       "max": 193,
       "style": "IPY_MODEL_5dd1d822c5324ea9afe1acc75cfab474"
      }
     },
     "57626a9f2ee0494c92c620ebdacd9436": {
      "model_module": "@jupyter-widgets/base",
      "model_module_version": "2.0.0",
      "model_name": "LayoutModel",
      "state": {}
     },
     "57fe47a1cc4e40f5a8e3426127e342e7": {
      "model_module": "@jupyter-widgets/base",
      "model_module_version": "2.0.0",
      "model_name": "LayoutModel",
      "state": {}
     },
     "59f460191f9b442092cea3a489aca6a7": {
      "model_module": "@jupyter-widgets/base",
      "model_module_version": "2.0.0",
      "model_name": "LayoutModel",
      "state": {}
     },
     "5dad770f5b384b29a534341a3e07a32f": {
      "model_module": "@jupyter-widgets/controls",
      "model_module_version": "2.0.0",
      "model_name": "HTMLStyleModel",
      "state": {
       "description_width": "",
       "font_size": null,
       "text_color": null
      }
     },
     "5dd1d822c5324ea9afe1acc75cfab474": {
      "model_module": "@jupyter-widgets/controls",
      "model_module_version": "2.0.0",
      "model_name": "ProgressStyleModel",
      "state": {
       "description_width": ""
      }
     },
     "6bfac55f76ba4d16ade5213e4f327b5a": {
      "model_module": "@jupyter-widgets/controls",
      "model_module_version": "2.0.0",
      "model_name": "ProgressStyleModel",
      "state": {
       "description_width": ""
      }
     },
     "702955f5600d435d9b4bef12ca2c24a1": {
      "model_module": "@jupyter-widgets/controls",
      "model_module_version": "2.0.0",
      "model_name": "HTMLStyleModel",
      "state": {
       "description_width": "",
       "font_size": null,
       "text_color": null
      }
     },
     "80608a4c71d6447a985448b1e7a62b71": {
      "model_module": "@jupyter-widgets/controls",
      "model_module_version": "2.0.0",
      "model_name": "HTMLModel",
      "state": {
       "layout": "IPY_MODEL_bb25add6bd1f4a30b820b7e1f843eb6e",
       "style": "IPY_MODEL_d72d866bb8bb425f9a27b60d83fff7a7",
       "value": "  0%"
      }
     },
     "84118bb4490d4c5dab5ce7b8ff544cdf": {
      "model_module": "@jupyter-widgets/controls",
      "model_module_version": "2.0.0",
      "model_name": "HTMLStyleModel",
      "state": {
       "description_width": "",
       "font_size": null,
       "text_color": null
      }
     },
     "859e7f2c6a9c477a8695e76aea4e835e": {
      "model_module": "@jupyter-widgets/base",
      "model_module_version": "2.0.0",
      "model_name": "LayoutModel",
      "state": {}
     },
     "873874a1b9c24c8e9af4148cc941e337": {
      "model_module": "@jupyter-widgets/base",
      "model_module_version": "2.0.0",
      "model_name": "LayoutModel",
      "state": {}
     },
     "8c65f7afba7e45e89e68ff93239f68a6": {
      "model_module": "@jupyter-widgets/controls",
      "model_module_version": "2.0.0",
      "model_name": "FloatProgressModel",
      "state": {
       "bar_style": "danger",
       "layout": "IPY_MODEL_01a6f3405b6b4a18b7ea5b170170a134",
       "max": 193,
       "style": "IPY_MODEL_6bfac55f76ba4d16ade5213e4f327b5a",
       "value": 4
      }
     },
     "a1c2f2835d6247368e4ccc90ae8a83ea": {
      "model_module": "@jupyter-widgets/controls",
      "model_module_version": "2.0.0",
      "model_name": "HTMLModel",
      "state": {
       "layout": "IPY_MODEL_c27b789419b144d281bd02efccb9ebf7",
       "style": "IPY_MODEL_c7ff819ab91b45efaffe1606b5a4635e",
       "value": " 0/193 [00:01&lt;?, ?it/s]"
      }
     },
     "ab45ac234d264a96a25f692383fcebcb": {
      "model_module": "@jupyter-widgets/controls",
      "model_module_version": "2.0.0",
      "model_name": "HBoxModel",
      "state": {
       "children": [
        "IPY_MODEL_cd6a4ad1ff18497cb6fbca60e0ab4cb0",
        "IPY_MODEL_db90b782ccb64a3dbc31f7b7e446f237",
        "IPY_MODEL_48b7a4e5de9041e79e32267e24bdf825"
       ],
       "layout": "IPY_MODEL_2661ff2d44b143f0beacabd01abf9a42"
      }
     },
     "b2c26d9eead349eb8bfe245f1716874d": {
      "model_module": "@jupyter-widgets/controls",
      "model_module_version": "2.0.0",
      "model_name": "HTMLModel",
      "state": {
       "layout": "IPY_MODEL_39ac2c93682c470587d919cf05ea138a",
       "style": "IPY_MODEL_ca7865b8618e4737bb864125493439e4",
       "value": "  0%"
      }
     },
     "bb25add6bd1f4a30b820b7e1f843eb6e": {
      "model_module": "@jupyter-widgets/base",
      "model_module_version": "2.0.0",
      "model_name": "LayoutModel",
      "state": {}
     },
     "bdb6bf9eb98f4eb5bc927c0e2429f555": {
      "model_module": "@jupyter-widgets/controls",
      "model_module_version": "2.0.0",
      "model_name": "HTMLStyleModel",
      "state": {
       "description_width": "",
       "font_size": null,
       "text_color": null
      }
     },
     "c27b789419b144d281bd02efccb9ebf7": {
      "model_module": "@jupyter-widgets/base",
      "model_module_version": "2.0.0",
      "model_name": "LayoutModel",
      "state": {}
     },
     "c7ff819ab91b45efaffe1606b5a4635e": {
      "model_module": "@jupyter-widgets/controls",
      "model_module_version": "2.0.0",
      "model_name": "HTMLStyleModel",
      "state": {
       "description_width": "",
       "font_size": null,
       "text_color": null
      }
     },
     "ca7865b8618e4737bb864125493439e4": {
      "model_module": "@jupyter-widgets/controls",
      "model_module_version": "2.0.0",
      "model_name": "HTMLStyleModel",
      "state": {
       "description_width": "",
       "font_size": null,
       "text_color": null
      }
     },
     "ca8c968c156947a4b509fef8b8d199df": {
      "model_module": "@jupyter-widgets/controls",
      "model_module_version": "2.0.0",
      "model_name": "FloatProgressModel",
      "state": {
       "bar_style": "danger",
       "layout": "IPY_MODEL_57626a9f2ee0494c92c620ebdacd9436",
       "max": 193,
       "style": "IPY_MODEL_07ff5f0107074dcba43606004325e5d0"
      }
     },
     "cd6a4ad1ff18497cb6fbca60e0ab4cb0": {
      "model_module": "@jupyter-widgets/controls",
      "model_module_version": "2.0.0",
      "model_name": "HTMLModel",
      "state": {
       "layout": "IPY_MODEL_57fe47a1cc4e40f5a8e3426127e342e7",
       "style": "IPY_MODEL_bdb6bf9eb98f4eb5bc927c0e2429f555",
       "value": "  0%"
      }
     },
     "cebd912f6d544e27b7f5f8921945c470": {
      "model_module": "@jupyter-widgets/controls",
      "model_module_version": "2.0.0",
      "model_name": "ProgressStyleModel",
      "state": {
       "description_width": ""
      }
     },
     "d400aa2ff00344799f80fb96f1ed468d": {
      "model_module": "@jupyter-widgets/controls",
      "model_module_version": "2.0.0",
      "model_name": "HBoxModel",
      "state": {
       "children": [
        "IPY_MODEL_186846ab85d44c408704a8091e836670",
        "IPY_MODEL_fddc606bdb59448190314618a3760aec",
        "IPY_MODEL_3095f91779e948d98cf9df2540d75eb9"
       ],
       "layout": "IPY_MODEL_1bf33a6c5a1e470cbdb93598e74592dc"
      }
     },
     "d72d866bb8bb425f9a27b60d83fff7a7": {
      "model_module": "@jupyter-widgets/controls",
      "model_module_version": "2.0.0",
      "model_name": "HTMLStyleModel",
      "state": {
       "description_width": "",
       "font_size": null,
       "text_color": null
      }
     },
     "da7ee984388d4701a6c3132101dd5306": {
      "model_module": "@jupyter-widgets/controls",
      "model_module_version": "2.0.0",
      "model_name": "HBoxModel",
      "state": {
       "children": [
        "IPY_MODEL_b2c26d9eead349eb8bfe245f1716874d",
        "IPY_MODEL_56a57da9f0a3423fb95b582506902498",
        "IPY_MODEL_a1c2f2835d6247368e4ccc90ae8a83ea"
       ],
       "layout": "IPY_MODEL_29d5bb7571984e5bb8692b5aea1e5370"
      }
     },
     "db90b782ccb64a3dbc31f7b7e446f237": {
      "model_module": "@jupyter-widgets/controls",
      "model_module_version": "2.0.0",
      "model_name": "FloatProgressModel",
      "state": {
       "bar_style": "danger",
       "layout": "IPY_MODEL_859e7f2c6a9c477a8695e76aea4e835e",
       "max": 193,
       "style": "IPY_MODEL_cebd912f6d544e27b7f5f8921945c470"
      }
     },
     "e213ac97ac7743048ecc329715e44be2": {
      "model_module": "@jupyter-widgets/base",
      "model_module_version": "2.0.0",
      "model_name": "LayoutModel",
      "state": {}
     },
     "e402aa9daaf848799690a641396f5cbf": {
      "model_module": "@jupyter-widgets/base",
      "model_module_version": "2.0.0",
      "model_name": "LayoutModel",
      "state": {}
     },
     "e5dae48a89a04ac8b620f01217a2b61b": {
      "model_module": "@jupyter-widgets/controls",
      "model_module_version": "2.0.0",
      "model_name": "ProgressStyleModel",
      "state": {
       "description_width": ""
      }
     },
     "e60ccb6265e94a42a239357a0ad2567a": {
      "model_module": "@jupyter-widgets/base",
      "model_module_version": "2.0.0",
      "model_name": "LayoutModel",
      "state": {}
     },
     "eb732d43c6524892bd44c5dc194dd1ff": {
      "model_module": "@jupyter-widgets/controls",
      "model_module_version": "2.0.0",
      "model_name": "HBoxModel",
      "state": {
       "children": [
        "IPY_MODEL_80608a4c71d6447a985448b1e7a62b71",
        "IPY_MODEL_ca8c968c156947a4b509fef8b8d199df",
        "IPY_MODEL_4c6936adac6d4c19880635a5061c783a"
       ],
       "layout": "IPY_MODEL_59f460191f9b442092cea3a489aca6a7"
      }
     },
     "f2a5cc94bda4409db1994eab224b6b97": {
      "model_module": "@jupyter-widgets/controls",
      "model_module_version": "2.0.0",
      "model_name": "HTMLModel",
      "state": {
       "layout": "IPY_MODEL_e402aa9daaf848799690a641396f5cbf",
       "style": "IPY_MODEL_702955f5600d435d9b4bef12ca2c24a1",
       "value": "  2%"
      }
     },
     "f66cbee4fcf54664899c83700ca8ee1c": {
      "model_module": "@jupyter-widgets/controls",
      "model_module_version": "2.0.0",
      "model_name": "HTMLStyleModel",
      "state": {
       "description_width": "",
       "font_size": null,
       "text_color": null
      }
     },
     "fddc606bdb59448190314618a3760aec": {
      "model_module": "@jupyter-widgets/controls",
      "model_module_version": "2.0.0",
      "model_name": "FloatProgressModel",
      "state": {
       "bar_style": "success",
       "layout": "IPY_MODEL_1fd572e942cf4bc69c4d66f5377c614e",
       "max": 193,
       "style": "IPY_MODEL_e5dae48a89a04ac8b620f01217a2b61b",
       "value": 193
      }
     }
    },
    "version_major": 2,
    "version_minor": 0
   }
  }
 },
 "nbformat": 4,
 "nbformat_minor": 5
}
